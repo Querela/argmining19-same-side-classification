{
 "cells": [
  {
   "cell_type": "markdown",
   "metadata": {},
   "source": [
    "# Datasets (Sentiment) - Yelp - Per Side"
   ]
  },
  {
   "cell_type": "markdown",
   "metadata": {},
   "source": [
    "## Yelp\n",
    "\n",
    "- https://www.yelp.com/dataset/documentation/main\n",
    "- https://www.yelp.com/developers/documentation/v3/all_category_list"
   ]
  },
  {
   "cell_type": "code",
   "execution_count": null,
   "metadata": {},
   "outputs": [],
   "source": [
    "! wget -O data/sentiment/yelp/all_category_list.json https://www.yelp.com/developers/documentation/v3/all_category_list/categories.json"
   ]
  },
  {
   "cell_type": "code",
   "execution_count": null,
   "metadata": {},
   "outputs": [],
   "source": []
  },
  {
   "cell_type": "code",
   "execution_count": null,
   "metadata": {},
   "outputs": [],
   "source": [
    "#! pip install jsonlines"
   ]
  },
  {
   "cell_type": "code",
   "execution_count": null,
   "metadata": {},
   "outputs": [],
   "source": [
    "#! pip install syntok"
   ]
  },
  {
   "cell_type": "code",
   "execution_count": 1,
   "metadata": {
    "ExecuteTime": {
     "end_time": "2020-05-25T09:52:14.905825Z",
     "start_time": "2020-05-25T09:52:14.315598Z"
    },
    "collapsed": true,
    "jupyter": {
     "outputs_hidden": true
    }
   },
   "outputs": [
    {
     "name": "stderr",
     "output_type": "stream",
     "text": [
      "/disk1/users/ekoerner/miniconda3/envs/argmining19-ssc/lib/python3.7/site-packages/tqdm/std.py:658: FutureWarning: The Panel class is removed from pandas. Accessing it from the top-level namespace will also be removed in the next version\n",
      "  from pandas import Panel\n"
     ]
    },
    {
     "data": {
      "text/plain": [
       "[]"
      ]
     },
     "execution_count": 1,
     "metadata": {},
     "output_type": "execute_result"
    },
    {
     "data": {
      "image/png": "[encoded data removed]",
      "text/plain": [
       "<Figure size 432x288 with 1 Axes>"
      ]
     },
     "metadata": {
      "needs_background": "light"
     },
     "output_type": "display_data"
    }
   ],
   "source": [
    "import json\n",
    "import os\n",
    "import random\n",
    "import pickle\n",
    "from collections import Counter\n",
    "from copy import deepcopy\n",
    "from itertools import combinations, groupby\n",
    "from pathlib import Path\n",
    "from pprint import pprint\n",
    "\n",
    "import jsonlines\n",
    "import matplotlib.pyplot as plt\n",
    "import numpy as np\n",
    "import pandas as pd\n",
    "import seaborn as sn\n",
    "import scipy.spatial.distance as ssd\n",
    "from IPython.display import set_matplotlib_formats\n",
    "from scipy.cluster import hierarchy\n",
    "from sklearn.cluster import AgglomerativeClustering, SpectralClustering\n",
    "from sklearn.metrics import pairwise_distances\n",
    "from sklearn.metrics.pairwise import cosine_similarity, linear_kernel\n",
    "from syntok.tokenizer import Tokenizer\n",
    "from tqdm import tqdm\n",
    "\n",
    "tqdm.pandas()\n",
    "\n",
    "%matplotlib inline\n",
    "plt.rcParams.update({\"font.size\": 25, \"font.weight\": \"bold\"})\n",
    "# https://stackoverflow.com/questions/36622237/jupyter-notebook-inline-plots-as-svg\n",
    "# set_matplotlib_formats(\"svg\")  # glitches it\n",
    "plt.plot()"
   ]
  },
  {
   "cell_type": "code",
   "execution_count": 2,
   "metadata": {
    "ExecuteTime": {
     "end_time": "2020-05-25T09:52:15.648956Z",
     "start_time": "2020-05-25T09:52:15.148633Z"
    }
   },
   "outputs": [],
   "source": [
    "from utils_data import init_random\n",
    "init_random()"
   ]
  },
  {
   "cell_type": "code",
   "execution_count": 3,
   "metadata": {
    "ExecuteTime": {
     "end_time": "2020-05-25T09:52:15.790984Z",
     "start_time": "2020-05-25T09:52:15.786910Z"
    }
   },
   "outputs": [],
   "source": [
    "# download + scp to cuda + extract\n",
    "# Path on CUDA2\n",
    "data_yelp_path = Path(\"/disk1/users/ekoerner/argmining19-same-side-classification/data/sentiment/yelp/\")\n",
    "# CUDA1?\n",
    "#data_yelp_path = Path(\"/disk1/users/ekoerner/same-side-classification/argmining19-same-side-classification/data/sentiment/yelp/\")"
   ]
  },
  {
   "cell_type": "markdown",
   "metadata": {},
   "source": [
    "---"
   ]
  },
  {
   "cell_type": "markdown",
   "metadata": {},
   "source": [
    "#### Load reviews / categories (topics) + filter cats/make combinations"
   ]
  },
  {
   "cell_type": "code",
   "execution_count": 4,
   "metadata": {
    "ExecuteTime": {
     "end_time": "2020-05-25T09:52:19.846925Z",
     "start_time": "2020-05-25T09:52:19.827613Z"
    },
    "code_folding": [
     0,
     28
    ],
    "jupyter": {
     "source_hidden": true
    }
   },
   "outputs": [],
   "source": [
    "def load_reviews(fn_yelp_reviews):\n",
    "    \"\"\"Load Yelp reviews. Return a Pandas dataframe.\n",
    "    Format: {\"id\": business_id, \"rid\": review_id, \"text\": text, \"rating\": rating}\n",
    "    And add goodness bool (rating > 3).\"\"\"\n",
    "    data = list()\n",
    "\n",
    "    with jsonlines.open(fn_yelp_reviews, \"r\") as fp:\n",
    "        for n, entry in enumerate(tqdm(fp)):\n",
    "            # print(entry)\n",
    "            # break\n",
    "            business_id = entry.pop(\"business_id\")\n",
    "            review_id = entry.pop(\"review_id\")\n",
    "            text = entry.pop(\"text\", \"\")\n",
    "            rating = entry.pop(\"stars\", 0.0)\n",
    "            data.append({\"id\": business_id, \"rid\": review_id, \"text\": text, \"rating\": rating})\n",
    "            # TESTING\n",
    "            # if n > 10000:\n",
    "            #     break\n",
    "\n",
    "    df = pd.DataFrame.from_dict(data)\n",
    "    \n",
    "    # Add goodness value\n",
    "    # TODO: maybe ignore with 3\n",
    "    df[\"goodness\"] = df[\"rating\"] > 3\n",
    "    \n",
    "    return df\n",
    "\n",
    "\n",
    "def load_topics(fn_yelp_topics, bids_not_cats=None, filter_cats=None, filter_cat_combis=None):\n",
    "    \"\"\"Load topics (categories).\n",
    "    Optionally filter by giving it a whitelist of allowed categories.\n",
    "    Optionally filter by giving a list of allowed category combinations.\n",
    "    Optionally provide an IN/OUT param ``bids_not_cats`` that accumulates business ids without categories.\"\"\"\n",
    "    inv_bid_cats = dict()\n",
    "    if bids_not_cats is None or not isinstance(bids_not_cats, set):\n",
    "        bids_not_cats = set()\n",
    "    \n",
    "    # load lookup business -> categories\n",
    "    with jsonlines.open(fn_yelp_topics, \"r\") as fp:\n",
    "        for n, entry in enumerate(tqdm(fp)):\n",
    "            business_id = entry.pop(\"business_id\")\n",
    "            categories = entry.pop(\"categories\")\n",
    "\n",
    "            if not categories:\n",
    "                bids_not_cats.add(business_id)\n",
    "                continue\n",
    "\n",
    "            categories = categories.split(\", \")\n",
    "            \n",
    "            if filter_cats:\n",
    "                categories = [c for c in categories if c in filter_cats]\n",
    "                if not categories:\n",
    "                    # bids_not_cats.add(business_id)  # ??\n",
    "                    continue\n",
    "                    \n",
    "            if filter_cat_combis:\n",
    "                # skip if combination is not above threshold (of filter list)\n",
    "                if tuple(sorted(set(categories))) not in filter_cat_combis:\n",
    "                    continue\n",
    "\n",
    "            inv_bid_cats[business_id] = categories\n",
    "    \n",
    "    return inv_bid_cats"
   ]
  },
  {
   "cell_type": "code",
   "execution_count": 5,
   "metadata": {
    "ExecuteTime": {
     "end_time": "2020-05-25T09:52:20.111088Z",
     "start_time": "2020-05-25T09:52:20.098533Z"
    },
    "code_folding": [
     0,
     11,
     30
    ],
    "jupyter": {
     "source_hidden": true
    }
   },
   "outputs": [],
   "source": [
    "def filter_min_cat_combis(inv_cat_combis, min_num=30):\n",
    "    \"\"\"Filter category combinations by minimum amount of occurrences in businesses\"\"\"\n",
    "    f_inv_cat_combis = dict()\n",
    "    \n",
    "    for cats, num in inv_cat_combis.items():\n",
    "        if num >= min_num:\n",
    "            f_inv_cat_combis[cats] = num\n",
    "    \n",
    "    return f_inv_cat_combis\n",
    "\n",
    "\n",
    "def make_map_cats(inv_bid_cats):\n",
    "    \"\"\"Make a map from category to business id\"\"\"\n",
    "    inv_cat_bids = dict()\n",
    "\n",
    "    # reverse lookup: category -> businesses\n",
    "    for bid, cats in tqdm(inv_bid_cats.items()):\n",
    "        for cat in cats:\n",
    "            try:\n",
    "                inv_cat_bids[cat].append(bid)\n",
    "            except KeyError:\n",
    "                inv_cat_bids[cat] = [bid]\n",
    "                \n",
    "    ## TODO: make distinct?\n",
    "    for cat in inv_cat_bids.keys():\n",
    "        inv_cat_bids[cat] = list(set(inv_cat_bids[cat]))\n",
    "                \n",
    "    return inv_cat_bids\n",
    "\n",
    "\n",
    "def make_cat_combis(inv_bid_cats):\n",
    "    \"\"\"Count amount of each category combination occurring in businesses\"\"\"\n",
    "    inv_cat_combis = Counter()\n",
    "\n",
    "    inv_cat_combis.update(\n",
    "        (tuple(sorted(set(cats))) for cats in tqdm(inv_bid_cats.values())))\n",
    "    \n",
    "    return inv_cat_combis"
   ]
  },
  {
   "cell_type": "markdown",
   "metadata": {},
   "source": [
    "#### Filter reviews according to criteria"
   ]
  },
  {
   "cell_type": "code",
   "execution_count": 6,
   "metadata": {
    "ExecuteTime": {
     "end_time": "2020-05-25T09:52:22.183788Z",
     "start_time": "2020-05-25T09:52:22.171415Z"
    },
    "code_folding": [
     0,
     16
    ],
    "jupyter": {
     "source_hidden": true
    }
   },
   "outputs": [],
   "source": [
    "def filter_min_review_freq(df, min_ratings=5):\n",
    "    \"\"\"Filter review dataframe for a minimum of N of each good and bad ratings.\"\"\"\n",
    "    # filter with at least N ratings per goodness\n",
    "    df_filter = df.groupby([\"id\", \"goodness\"])[[\"id\"]].count() < min_ratings\n",
    "    df_filter = df_filter.rename(columns={\"id\": \"filter\"})\n",
    "    df_filter = df_filter[df_filter[\"filter\"] == True]\n",
    "\n",
    "    # build a filter id list\n",
    "    df_filter_list = df_filter.reset_index()[\"id\"].to_list()\n",
    "\n",
    "    # filter with list\n",
    "    df_filtered = df[~df.id.isin(df_filter_list)]\n",
    "    \n",
    "    return df_filtered\n",
    "\n",
    "\n",
    "def filter_both_good_bad(df):\n",
    "    \"\"\"Filter the dataframe to contain only both good and bad reviews for each business.\n",
    "    Dataframe should be the same if minimum filtering above is done.\"\"\"\n",
    "    # build filter for ids that contain both positive and negative samples\n",
    "    df_filter = df.groupby([\"id\", \"goodness\"], as_index=False).count().groupby(\"id\")[[\"id\"]].count() == 2\n",
    "    df_filter = df_filter.rename(columns={\"id\": \"filter\"})\n",
    "    df_filter = df_filter[df_filter[\"filter\"] == True]\n",
    "\n",
    "    # create list of IDs for which this is true\n",
    "    df_filter_list = df_filter.reset_index()[\"id\"].to_list()\n",
    "\n",
    "    # filter with list\n",
    "    df_filtered = df[df.id.isin(df_filter_list)]\n",
    "\n",
    "    # df_filtered.groupby([\"id\", \"goodness\"]).count()\n",
    "    return df_filtered"
   ]
  },
  {
   "cell_type": "code",
   "execution_count": 7,
   "metadata": {
    "ExecuteTime": {
     "end_time": "2020-05-25T09:52:22.384186Z",
     "start_time": "2020-05-25T09:52:22.377841Z"
    },
    "code_folding": [
     0,
     7
    ],
    "jupyter": {
     "source_hidden": true
    }
   },
   "outputs": [],
   "source": [
    "def filter_by_businesses(df, lst_business_ids):\n",
    "    # filter with list, keep businesses in list\n",
    "    df_filtered = df[df.id.isin(set(lst_business_ids))]\n",
    "\n",
    "    return df_filtered\n",
    "\n",
    "\n",
    "def filter_by_businesses_not_same(df, lst_business_ids):\n",
    "    # filter with list, keep businesses that are not in list\n",
    "    df_filtered = df[~df.id.isin(set(lst_business_ids))]\n",
    "\n",
    "    return df_filtered"
   ]
  },
  {
   "cell_type": "markdown",
   "metadata": {},
   "source": [
    "#### Get topN categories + make Ntuples from category combinations"
   ]
  },
  {
   "cell_type": "code",
   "execution_count": 8,
   "metadata": {
    "ExecuteTime": {
     "end_time": "2020-05-25T09:52:22.837095Z",
     "start_time": "2020-05-25T09:52:22.827303Z"
    },
    "code_folding": [
     0,
     7
    ],
    "jupyter": {
     "source_hidden": true
    }
   },
   "outputs": [],
   "source": [
    "def get_Ntop_cats(inv_cat_bids, n=50):\n",
    "    # get most common cats\n",
    "    f_cat_cnt = Counter({k: len(v) for k, v in inv_cat_bids.items()})\n",
    "    f_cats = {c for c, v in f_cat_cnt.most_common(n)}\n",
    "    return f_cats\n",
    "\n",
    "\n",
    "def make_cat_Ntuples(f_inv_cat_combis, n=2):\n",
    "    f_cat_pairs = Counter()\n",
    "\n",
    "    for cat_group in tqdm(f_inv_cat_combis.keys()):\n",
    "        if len(cat_group) < n:\n",
    "            continue\n",
    "        it = combinations(cat_group, n)\n",
    "        # repeat (#num_businesses) + chain combis\n",
    "        f_cat_pairs.update(it)\n",
    "        \n",
    "    return f_cat_pairs"
   ]
  },
  {
   "cell_type": "markdown",
   "metadata": {},
   "source": [
    "#### Make category graph or NxN map (df + array)"
   ]
  },
  {
   "cell_type": "code",
   "execution_count": 9,
   "metadata": {
    "ExecuteTime": {
     "end_time": "2020-05-25T09:52:24.807433Z",
     "start_time": "2020-05-25T09:52:24.793721Z"
    },
    "code_folding": [
     0,
     9
    ],
    "jupyter": {
     "source_hidden": true
    }
   },
   "outputs": [],
   "source": [
    "def make_graph(f_cat_pairs):\n",
    "    g_from, g_to, g_value = zip(*((k1, k2, n) for (k1, k2), n in tqdm(f_cat_pairs.most_common())))\n",
    "\n",
    "    g_df = pd.DataFrame({\"from\": g_from, \"to\": g_to, \"value\": g_value})\n",
    "    G = nx.from_pandas_edgelist(g_df, \"from\", \"to\", create_using=nx.Graph())\n",
    "    \n",
    "    return G\n",
    "\n",
    "\n",
    "def make_NxN_map(f_cats, f_cat_pairs):\n",
    "    f_cats = list(f_cats)\n",
    "    array = list()\n",
    "    for i, cat1 in enumerate(tqdm(f_cats)):\n",
    "        array_row = list()\n",
    "        for j, cat2 in enumerate(f_cats):\n",
    "            array_row.append(f_cat_pairs.get((cat1, cat2), f_cat_pairs.get((cat2, cat1), 0)))\n",
    "        array.append(array_row)\n",
    "    df_cm = pd.DataFrame(array, index=list(f_cats), columns=list(f_cats))\n",
    "    \n",
    "    # dataframe, NxN array + labels\n",
    "    return df_cm, array, f_cats"
   ]
  },
  {
   "cell_type": "markdown",
   "metadata": {},
   "source": [
    "---"
   ]
  },
  {
   "cell_type": "markdown",
   "metadata": {},
   "source": [
    "#### Load categories hierarchy"
   ]
  },
  {
   "cell_type": "code",
   "execution_count": 10,
   "metadata": {
    "ExecuteTime": {
     "end_time": "2020-05-25T09:52:25.582403Z",
     "start_time": "2020-05-25T09:52:25.560666Z"
    },
    "code_folding": [
     0,
     30,
     40
    ],
    "jupyter": {
     "source_hidden": true
    }
   },
   "outputs": [],
   "source": [
    "def load_category_tree(fn_all_category_list):\n",
    "    with open(fn_all_category_list, \"r\") as fp:\n",
    "        content = fp.read()\n",
    "        data = json.loads(content)\n",
    "\n",
    "    map_categories = dict()\n",
    "    map_cat_name2id = dict()\n",
    "    lst_root_categories = list()\n",
    "\n",
    "    # load basic lookups\n",
    "    for item in data:\n",
    "        # .alias (id)\n",
    "        map_categories[item[\"alias\"]] = item\n",
    "        # .title\n",
    "        map_cat_name2id[item[\"title\"]] = item[\"alias\"]\n",
    "        # .parents\n",
    "        # some have multiple parents ...\n",
    "        if not item[\"parents\"]:\n",
    "            lst_root_categories.append(item[\"alias\"])\n",
    "        # add list of children\n",
    "        item[\"children\"] = list()\n",
    "\n",
    "    # add children\n",
    "    for cid, item in map_categories.items():\n",
    "        for parent_cid in item[\"parents\"]:\n",
    "            map_categories[parent_cid][\"children\"].append(item[\"alias\"])\n",
    "\n",
    "    return map_categories, map_cat_name2id, lst_root_categories\n",
    "\n",
    "\n",
    "def get_root_category_items(map_categories):\n",
    "    lst_root_categories = list()\n",
    "\n",
    "    for cid, item in map_categories.items():\n",
    "        if not item[\"parents\"]:\n",
    "            lst_root_categories.append(item)\n",
    "            \n",
    "    return lst_root_categories\n",
    "\n",
    "\n",
    "def get_children_category_item_list(map_categories, parent_cid):\n",
    "    return [\n",
    "        map_categories[child_cid]\n",
    "        for child_cid in map_categories[parent_cid][\"children\"]\n",
    "    ]"
   ]
  },
  {
   "cell_type": "markdown",
   "metadata": {},
   "source": [
    "##### Get businesses in categories"
   ]
  },
  {
   "cell_type": "code",
   "execution_count": 11,
   "metadata": {
    "ExecuteTime": {
     "end_time": "2020-05-25T09:52:28.177244Z",
     "start_time": "2020-05-25T09:52:28.167066Z"
    },
    "code_folding": [
     0,
     7
    ],
    "jupyter": {
     "source_hidden": true
    }
   },
   "outputs": [],
   "source": [
    "def get_businesses_in_category(inv_cat_bids, category):\n",
    "    try:\n",
    "        return list(set(inv_cat_bids[category]))\n",
    "    except KeyError:\n",
    "        return []\n",
    "    \n",
    "    \n",
    "def get_businesses_in_category_branch(inv_cat_bids, category, map_categories, map_cat_name2id):\n",
    "    map_cat_id2name = {cid: name for name, cid in map_cat_name2id.items()}\n",
    "\n",
    "    def _get_recursive_businesses(cat_name):\n",
    "        businesses = get_businesses_in_category(inv_cat_bids, cat_name)\n",
    "\n",
    "        cid = map_cat_name2id[cat_name]\n",
    "        for child_cid in map_categories[cid][\"children\"]:\n",
    "            child_name = map_cat_id2name[child_cid]\n",
    "            businesses.extend(_get_recursive_businesses(child_name))\n",
    "        \n",
    "        return businesses\n",
    "    \n",
    "    return _get_recursive_businesses(category)"
   ]
  },
  {
   "cell_type": "markdown",
   "metadata": {},
   "source": [
    "##### Print category trees"
   ]
  },
  {
   "cell_type": "code",
   "execution_count": 12,
   "metadata": {
    "ExecuteTime": {
     "end_time": "2020-05-25T09:52:29.242019Z",
     "start_time": "2020-05-25T09:52:29.205730Z"
    },
    "code_folding": [
     0,
     19,
     49,
     85,
     106
    ],
    "jupyter": {
     "source_hidden": true
    }
   },
   "outputs": [],
   "source": [
    "def print_category_tree(map_categories):\n",
    "    root_categories = get_root_category_items(map_categories)\n",
    "    \n",
    "    def _print_cat_list_rec(lst_cats, level=0):\n",
    "        for item in sorted(lst_cats, key=lambda x: x[\"title\"]):\n",
    "            if level:\n",
    "                print(\"  \" * level, end=\"\")\n",
    "            print(f\"\"\"{item[\"title\"]} [{item[\"alias\"]}]\"\"\", end=\"\")\n",
    "            if item[\"children\"]:\n",
    "                print(f\"\"\" [#{len(item[\"children\"])} children]\"\"\")\n",
    "            else:\n",
    "                print()\n",
    "            \n",
    "            children = get_children_category_item_list(map_categories, item[\"alias\"])\n",
    "            _print_cat_list_rec(children, level=level + 1)\n",
    "            \n",
    "    _print_cat_list_rec(root_categories, level=0)\n",
    "\n",
    "\n",
    "def print_category_tree_with_num_businesses(map_categories, inv_cat_bids):\n",
    "    root_categories = get_root_category_items(map_categories)\n",
    "    \n",
    "    def _print_cat_list_rec(lst_cats, level=0):\n",
    "        for item in sorted(lst_cats, key=lambda x: x[\"title\"]):\n",
    "            cur_line = \" .\" * 30\n",
    "            parts = list()\n",
    "\n",
    "            if level:\n",
    "                parts.append(\"  \" * level)\n",
    "            parts.append(f\"\"\"{item[\"title\"]} [{item[\"alias\"]}]\"\"\")\n",
    "            \n",
    "            str_len = sum(len(part) for part in parts)\n",
    "            print(\"\".join(part for part in parts), end=\"\")\n",
    "            print(cur_line[str_len:], end=\"\")\n",
    "            \n",
    "            if item[\"title\"] not in inv_cat_bids:\n",
    "                print(\" No businesses associated!\")\n",
    "            else:\n",
    "                print(f\"\"\" {len((inv_cat_bids[item[\"title\"]])):>5d} businesses\"\"\")\n",
    "            \n",
    "            children = get_children_category_item_list(map_categories, item[\"alias\"])\n",
    "            _print_cat_list_rec(children, level=level + 1)\n",
    "            \n",
    "            if level == 0:\n",
    "                print()\n",
    "            \n",
    "    _print_cat_list_rec(root_categories, level=0)\n",
    "    \n",
    "\n",
    "def print_category_tree_with_num_businesses_rec(map_categories, inv_cat_bids, map_cat_name2id):\n",
    "    root_categories = get_root_category_items(map_categories)\n",
    "    \n",
    "    def _print_cat_list_rec(lst_cats, level=0):\n",
    "        for item in sorted(lst_cats, key=lambda x: x[\"title\"]):\n",
    "            cur_line = \" .\" * 30\n",
    "            parts = list()\n",
    "\n",
    "            if level:\n",
    "                parts.append(\"  \" * level)\n",
    "            parts.append(f\"\"\"{item[\"title\"]} [{item[\"alias\"]}]\"\"\")\n",
    "            \n",
    "            str_len = sum(len(part) for part in parts)\n",
    "            print(\"\".join(part for part in parts), end=\"\")\n",
    "            print(cur_line[str_len:], end=\"\")\n",
    "            \n",
    "            businesses = get_businesses_in_category_branch(inv_cat_bids, item[\"title\"], map_categories, map_cat_name2id)\n",
    "            businesses_self = get_businesses_in_category(inv_cat_bids, item[\"title\"])\n",
    "            if not businesses:\n",
    "                print(\" No businesses associated!\")\n",
    "            else:\n",
    "                businesses = set(businesses)\n",
    "                print(f\"\"\" {len(businesses):>5d} businesses\"\"\", end=\"\")\n",
    "                if len(businesses) != len(businesses_self):\n",
    "                    print(f\"\"\" (self: {len(businesses_self)})\"\"\", end=\"\")\n",
    "                print()\n",
    "            \n",
    "            children = get_children_category_item_list(map_categories, item[\"alias\"])\n",
    "            _print_cat_list_rec(children, level=level + 1)\n",
    "            \n",
    "            if level == 0:\n",
    "                print()\n",
    "            \n",
    "    _print_cat_list_rec(root_categories, level=0)\n",
    "    \n",
    "    \n",
    "def print_category_tree_with_num_businesses_root(map_categories, inv_cat_bids, map_cat_name2id):\n",
    "    root_categories = get_root_category_items(map_categories)\n",
    "    \n",
    "    for item in sorted(root_categories, key=lambda x: x[\"title\"]):\n",
    "        cur_line = \" .\" * 25\n",
    "        parts = [f\"\"\"{item[\"title\"]} [{item[\"alias\"]}] \"\"\"]\n",
    "\n",
    "        str_len = sum(len(part) for part in parts)\n",
    "        print(\"\".join(part for part in parts), end=\"\")\n",
    "        print(cur_line[str_len:], end=\"\")\n",
    "\n",
    "        businesses = get_businesses_in_category_branch(inv_cat_bids, item[\"title\"], map_categories, map_cat_name2id)\n",
    "        businesses_self = get_businesses_in_category(inv_cat_bids, item[\"title\"])\n",
    "\n",
    "        businesses = set(businesses)\n",
    "        print(f\"\"\" {len(businesses):>5d} businesses\"\"\", end=\"\")\n",
    "        if len(businesses) != len(businesses_self):\n",
    "            print(f\"\"\" (self: {len(businesses_self)})\"\"\", end=\"\")\n",
    "        print()\n",
    "        \n",
    "\n",
    "def print_category_tree_with_num_businesses_root2(map_categories, inv_cat_bids, map_cat_name2id):\n",
    "    root_categories = get_root_category_items(map_categories)\n",
    "    for item in root_categories:\n",
    "        item[\"businesses\"] = get_businesses_in_category_branch(inv_cat_bids, item[\"title\"], map_categories, map_cat_name2id)\n",
    "        item[\"businesses_self\"] = get_businesses_in_category(inv_cat_bids, item[\"title\"])\n",
    "    \n",
    "    for item in sorted(root_categories, key=lambda x: len(set(x[\"businesses\"]))):\n",
    "        cur_line = \" .\" * 25\n",
    "        parts = [f\"\"\"{item[\"title\"]} [{item[\"alias\"]}] \"\"\"]\n",
    "\n",
    "        str_len = sum(len(part) for part in parts)\n",
    "        print(\"\".join(part for part in parts), end=\"\")\n",
    "        print(cur_line[str_len:], end=\"\")\n",
    "\n",
    "        businesses = item[\"businesses\"]\n",
    "        businesses_self = item[\"businesses_self\"]\n",
    "\n",
    "        businesses = set(businesses)\n",
    "        print(f\"\"\" {len(businesses):>5d} businesses\"\"\", end=\"\")\n",
    "        if len(businesses) != len(businesses_self):\n",
    "            print(f\"\"\" (self: {len(businesses_self)})\"\"\", end=\"\")\n",
    "        print()"
   ]
  },
  {
   "cell_type": "markdown",
   "metadata": {},
   "source": [
    "##### Make category comparisons"
   ]
  },
  {
   "cell_type": "code",
   "execution_count": 13,
   "metadata": {
    "ExecuteTime": {
     "end_time": "2020-05-25T09:52:31.432925Z",
     "start_time": "2020-05-25T09:52:31.423857Z"
    },
    "code_folding": [
     0
    ],
    "jupyter": {
     "source_hidden": true
    }
   },
   "outputs": [],
   "source": [
    "def print_2category_compare(inv_cat_bids, map_categories, map_cat_name2id, cat_name_i, cat_name_j):\n",
    "    businesses_i = get_businesses_in_category_branch(inv_cat_bids, cat_name_i, map_categories, map_cat_name2id)\n",
    "    businesses_j = get_businesses_in_category_branch(inv_cat_bids, cat_name_j, map_categories, map_cat_name2id)\n",
    "    \n",
    "    cat_name_i += \":\"\n",
    "    cat_name_j += \":\"\n",
    "    width = max(12, len(cat_name_i), len(cat_name_j))\n",
    "\n",
    "    print(f\"\"\"{cat_name_i:<{width}} {len(set(businesses_i)):>5d}\"\"\")\n",
    "    print(f\"\"\"{cat_name_j:<{width}} {len(set(businesses_j)):>5d}\"\"\")\n",
    "    print(f\"\"\"Both: {\"same:\":>{width - 6}} {len(set(businesses_i) & set(businesses_j)):>5d}\"\"\")\n",
    "    print(f\"\"\"{\"total:\":>{width}} {len(set(businesses_i) | set(businesses_j)):>5d}\"\"\")"
   ]
  },
  {
   "cell_type": "code",
   "execution_count": 14,
   "metadata": {
    "ExecuteTime": {
     "end_time": "2020-05-25T09:52:31.675547Z",
     "start_time": "2020-05-25T09:52:31.663367Z"
    },
    "code_folding": [
     0
    ],
    "jupyter": {
     "source_hidden": true
    }
   },
   "outputs": [],
   "source": [
    "def make_NxN_category_businesses_overlap(inv_cat_bids, map_categories, map_cat_name2id):\n",
    "    root_categories = get_root_category_items(map_categories)\n",
    "    root_categories = sorted(root_categories, key=lambda x: x[\"title\"])\n",
    "    root_category_labels = [x[\"title\"] for x in root_categories]\n",
    "    \n",
    "    array = list()\n",
    "    for cname_i in root_category_labels:\n",
    "        array_line = list()\n",
    "        for cname_j in root_category_labels:\n",
    "            businesses_i = get_businesses_in_category_branch(inv_cat_bids, cname_i, map_categories, map_cat_name2id)\n",
    "            businesses_j = get_businesses_in_category_branch(inv_cat_bids, cname_j, map_categories, map_cat_name2id)\n",
    "            businesses_i, businesses_j = set(businesses_i), set(businesses_j)\n",
    "            businesses_ij_union = businesses_i | businesses_j\n",
    "            businesses_ij_intersect = businesses_i & businesses_j\n",
    "            num_businesses_ij = len(businesses_ij_intersect)\n",
    "            #array_line.append(num_businesses_ij)\n",
    "            array_line.append(len(businesses_ij_intersect) / len(businesses_ij_union))\n",
    "        array.append(array_line)\n",
    "    \n",
    "    df_cm = pd.DataFrame(array, index=list(root_category_labels), columns=list(root_category_labels))\n",
    "    \n",
    "    return array, root_category_labels, df_cm"
   ]
  },
  {
   "cell_type": "markdown",
   "metadata": {},
   "source": [
    "##### text length comparisons?"
   ]
  },
  {
   "cell_type": "code",
   "execution_count": 15,
   "metadata": {
    "ExecuteTime": {
     "end_time": "2020-05-25T09:52:33.641093Z",
     "start_time": "2020-05-25T09:52:33.634436Z"
    },
    "code_folding": [
     0
    ],
    "jupyter": {
     "source_hidden": true
    }
   },
   "outputs": [],
   "source": [
    "def get_reviews_for_category(df, cat_name, inv_cat_bids, map_categories, map_cat_name2id):\n",
    "    businesses = get_businesses_in_category_branch(inv_cat_bids, cat_name, map_categories, map_cat_name2id)\n",
    "    print(f\"\"\"{cat_name}: {len(businesses)}, uniq: {len(set(businesses))}\"\"\")\n",
    "    businesses = set(businesses)\n",
    "\n",
    "    df_businesses = filter_by_businesses(df, businesses)\n",
    "\n",
    "    return df_businesses"
   ]
  },
  {
   "cell_type": "markdown",
   "metadata": {},
   "source": [
    "##### Cache root category reviews in dataframes"
   ]
  },
  {
   "cell_type": "code",
   "execution_count": 16,
   "metadata": {
    "ExecuteTime": {
     "end_time": "2020-05-25T09:52:36.102987Z",
     "start_time": "2020-05-25T09:52:36.087219Z"
    },
    "code_folding": [
     3,
     27
    ],
    "jupyter": {
     "source_hidden": true
    }
   },
   "outputs": [],
   "source": [
    "dn_yelp_cached = data_yelp_path / \"cached\"\n",
    "\n",
    "\n",
    "def cache_root_category_businesses_df(df, inv_cat_bids, map_categories, map_cat_name2id):\n",
    "    root_categories = get_root_category_items(map_categories)\n",
    "    root_categories = sorted(root_categories, key=lambda x: x[\"title\"])\n",
    "    \n",
    "    dn_yelp_cached = data_yelp_path / \"cached\"\n",
    "    if not dn_yelp_cached.exists():\n",
    "        print(f\"Create cache dir: {dn_yelp_cached}\")\n",
    "        dn_yelp_cached.mkdir()\n",
    "        \n",
    "    for root_category in root_categories:\n",
    "        fn_yelp_cached_root_cat_df = dn_yelp_cached / f\"\"\"{root_category[\"alias\"]}_businesses.df.p\"\"\"\n",
    "        if fn_yelp_cached_root_cat_df.exists():\n",
    "            continue\n",
    "\n",
    "        business_ids = set(get_businesses_in_category_branch(inv_cat_bids, root_category[\"title\"], map_categories, map_cat_name2id))\n",
    "        # business_ids = set(root_category[\"businesses\"])\n",
    "        print(f\"\"\"Filter category {root_category[\"title\"]} [{root_category[\"alias\"]}] with {len(set(business_ids))} businesses ...\"\"\")\n",
    "        df_root_cat = filter_by_businesses(df, business_ids)\n",
    "\n",
    "        # df_root_cat = get_reviews_for_category(df, cat_name, inv_cat_bids, map_categories, map_cat_name2id)\n",
    "\n",
    "        df_root_cat.to_pickle(str(fn_yelp_cached_root_cat_df))\n",
    "        \n",
    "        \n",
    "def load_cached_root_category_businesses_df(category_label, map_categories):\n",
    "    root_categories = get_root_category_items(map_categories)\n",
    "    root_categories = sorted(root_categories, key=lambda x: x[\"title\"])\n",
    "\n",
    "    for root_category in root_categories:\n",
    "        if root_category[\"title\"] == category_label:\n",
    "            category_id = root_category[\"alias\"]\n",
    "            break\n",
    "    else:\n",
    "        print(f\"No cached root category businesses found for: {category_label}\")\n",
    "        return None\n",
    "\n",
    "    fn_yelp_cached_root_cat_df = dn_yelp_cached / f\"{category_id}_businesses.df.p\"\n",
    "    if not fn_yelp_cached_root_cat_df.exists():\n",
    "        return None\n",
    "    \n",
    "    df_root_cat = pd.read_pickle(str(fn_yelp_cached_root_cat_df))\n",
    "    return df_root_cat"
   ]
  },
  {
   "cell_type": "markdown",
   "metadata": {},
   "source": [
    "##### Filter other category businesses"
   ]
  },
  {
   "cell_type": "code",
   "execution_count": 17,
   "metadata": {
    "ExecuteTime": {
     "end_time": "2020-05-25T09:52:38.506865Z",
     "start_time": "2020-05-25T09:52:38.497050Z"
    },
    "code_folding": [
     0
    ],
    "jupyter": {
     "source_hidden": true
    }
   },
   "outputs": [],
   "source": [
    "def filter_root_category_businesses_uniq(category_label, inv_cat_bids, map_categories, map_cat_name2id):\n",
    "    df_root_cat = load_cached_root_category_businesses_df(category_label, map_categories)\n",
    "    \n",
    "    root_categories = get_root_category_items(map_categories)\n",
    "    # root_categories = sorted(root_categories, key=lambda x: len(x[\"businesses\"]), reverse=False)\n",
    "    \n",
    "    for root_category in root_categories:\n",
    "        if root_category[\"title\"] == category_label:\n",
    "            # skip, do not trim self\n",
    "            continue\n",
    "            \n",
    "        business_ids = set(get_businesses_in_category_branch(inv_cat_bids, root_category[\"title\"], map_categories, map_cat_name2id))\n",
    "        # business_ids = set(root_category[\"businesses\"])\n",
    "        print(f\"\"\"Filter businesses from category {root_category[\"title\"]} [{root_category[\"alias\"]}] ({len(business_ids)} businesses) ...\"\"\")\n",
    "        n_before = len(df_root_cat)\n",
    "        df_root_cat = filter_by_businesses_not_same(df_root_cat, business_ids)\n",
    "        n_after = len(df_root_cat)\n",
    "        print(f\"\"\"Filtered {n_before - n_after} businesses (overlap with {root_category[\"title\"]})\"\"\")\n",
    "        \n",
    "    return df_root_cat"
   ]
  },
  {
   "cell_type": "code",
   "execution_count": 18,
   "metadata": {
    "ExecuteTime": {
     "end_time": "2020-05-25T09:52:38.926642Z",
     "start_time": "2020-05-25T09:52:38.916413Z"
    },
    "code_folding": [
     0
    ],
    "jupyter": {
     "source_hidden": true
    }
   },
   "outputs": [],
   "source": [
    "def filter_root_category_businesses_not_other(category_label, category_label_filter, inv_cat_bids, map_categories, map_cat_name2id):\n",
    "    assert category_label != category_label_filter, \"do not filter on self\"\n",
    "\n",
    "    df_root_cat = load_cached_root_category_businesses_df(category_label, map_categories)\n",
    "    \n",
    "    root_categories = get_root_category_items(map_categories)\n",
    "    # root_categories = sorted(root_categories, key=lambda x: len(x[\"businesses\"]), reverse=True)\n",
    "    \n",
    "    for root_category in root_categories:\n",
    "        if root_category[\"title\"] == category_label_filter:\n",
    "            break\n",
    "    else:\n",
    "        print(f\"No businesses found for {category_label_filter} -> return unchanged\")\n",
    "        return df_root_cat\n",
    "    \n",
    "    business_ids = set(get_businesses_in_category_branch(inv_cat_bids, root_category[\"title\"], map_categories, map_cat_name2id))\n",
    "    # businesses_ids = root_category[\"businesses\"]\n",
    "    print(f\"\"\"Filter businesses from category {root_category[\"title\"]} [{root_category[\"alias\"]}] ({len(set(business_ids))} businesses) ...\"\"\")\n",
    "    n_before = len(df_root_cat)\n",
    "    df_root_cat = filter_by_businesses_not_same(df_root_cat, business_ids)\n",
    "    n_after = len(df_root_cat)\n",
    "    print(f\"\"\"Filtered {n_before - n_after} businesses (overlap with {root_category[\"title\"]})\"\"\")\n",
    "    \n",
    "    return df_root_cat"
   ]
  },
  {
   "cell_type": "code",
   "execution_count": 19,
   "metadata": {
    "ExecuteTime": {
     "end_time": "2020-05-25T09:52:39.531336Z",
     "start_time": "2020-05-25T09:52:39.521031Z"
    },
    "code_folding": [
     0
    ],
    "jupyter": {
     "source_hidden": true
    }
   },
   "outputs": [],
   "source": [
    "def filter_root_category_businesses_same_other(category_label, category_label_filter, inv_cat_bids, map_categories, map_cat_name2id):\n",
    "    assert category_label != category_label_filter, \"do not filter on self\"\n",
    "\n",
    "    df_root_cat = load_cached_root_category_businesses_df(category_label, map_categories)\n",
    "    \n",
    "    root_categories = get_root_category_items(map_categories)\n",
    "    # root_categories = sorted(root_categories, key=lambda x: len(x[\"businesses\"]), reverse=True)\n",
    "    \n",
    "    for root_category in root_categories:\n",
    "        if root_category[\"title\"] == category_label_filter:\n",
    "            break\n",
    "    else:\n",
    "        print(f\"No businesses found for {category_label_filter} -> return unchanged\")\n",
    "        return df_root_cat\n",
    "    \n",
    "    business_ids = set(get_businesses_in_category_branch(inv_cat_bids, root_category[\"title\"], map_categories, map_cat_name2id))\n",
    "    # businesses_ids = root_category[\"businesses\"]\n",
    "    print(f\"\"\"Filter businesses from category {root_category[\"title\"]} [{root_category[\"alias\"]}] ({len(set(business_ids))} businesses) ...\"\"\")\n",
    "    n_before = len(df_root_cat)\n",
    "    df_same = filter_by_businesses(df_root_cat, business_ids)\n",
    "    n_after = len(df_same)\n",
    "    print(f\"\"\"Filtered {n_before - n_after} businesses ({n_after} same with {root_category[\"title\"]})\"\"\")\n",
    "    \n",
    "    return df_same"
   ]
  },
  {
   "cell_type": "markdown",
   "metadata": {},
   "source": [
    "---"
   ]
  },
  {
   "cell_type": "markdown",
   "metadata": {},
   "source": [
    "#### Make Pairs"
   ]
  },
  {
   "cell_type": "markdown",
   "metadata": {},
   "source": [
    "**TODO:**\n",
    "\n",
    "- check similar length -- what strategy to use to combine similar length pairs best?\n",
    "- flip sides (arg1 <-> arg2)\n",
    "- make more pairs (?) -- but keep same ratio of same-sentiment vs. not-same-sentiment (different-sentiment) ??\n",
    "- group by categories (topics) -- more explicit training (uniqueness of single arguments / topic structures)\n",
    "- evaluate on same-argument (S3C) - or amazon reviews\n",
    "- compute mean/avg sequence length\n",
    "- fixed layers in fine-tuning\n",
    "- visualization of trained layers and activation for good / bad inputs"
   ]
  },
  {
   "cell_type": "markdown",
   "metadata": {},
   "source": [
    "##### Positive + negative same-sentiment pairs"
   ]
  },
  {
   "cell_type": "code",
   "execution_count": 20,
   "metadata": {
    "ExecuteTime": {
     "end_time": "2020-05-25T09:52:43.585863Z",
     "start_time": "2020-05-25T09:52:43.583298Z"
    }
   },
   "outputs": [],
   "source": [
    "num_pairs_per_class = 2\n",
    "# N positive + N negative\n",
    "# --> 2N pos+neg (not same-sentiment)\n",
    "\n",
    "# TODO: randomness for positive ss / negative ss - sum is equal / or sum equal compared to not ss"
   ]
  },
  {
   "cell_type": "code",
   "execution_count": 21,
   "metadata": {
    "ExecuteTime": {
     "end_time": "2020-05-25T09:52:44.026806Z",
     "start_time": "2020-05-25T09:52:44.007949Z"
    },
    "code_folding": [
     0
    ],
    "jupyter": {
     "source_hidden": true
    }
   },
   "outputs": [],
   "source": [
    "def make_pairs_good_bad(df, num_pairs_per_class=2):\n",
    "    pairs_good = list()\n",
    "    pairs_bad = list()\n",
    "\n",
    "    for id_, group in tqdm(df.groupby(\"id\")):\n",
    "        grouper = group.groupby(\"goodness\")\n",
    "        reviews_good = grouper.get_group(True)\n",
    "        reviews_bad = grouper.get_group(False)\n",
    "\n",
    "        # TESTING\n",
    "        # print(\"id:\", id_)\n",
    "        # print(\"#good:\", len(reviews_good))\n",
    "        # print(\"#bad:\", len(reviews_bad))\n",
    "        # print(group)\n",
    "        # break\n",
    "\n",
    "        # make pairings -- good ss\n",
    "        rg_idx = reviews_good.index.values\n",
    "        # print(\"pos_idx:\", rg_idx)\n",
    "        rg_idx_sel = np.random.choice(rg_idx, 2 * num_pairs_per_class, replace=False)\n",
    "        for id1, id2 in zip(rg_idx_sel[::2], rg_idx_sel[1::2]):\n",
    "            # print(\"pair:\", id1, id2)\n",
    "            r1, r2 = df.loc[id1], df.loc[id2]\n",
    "            pair = {\n",
    "                \"argument1\": r1[\"text\"], \"argument2\": r2[\"text\"],\n",
    "                \"argument1_id\": f\"\"\"{r1[\"id\"]}|{r1[\"rid\"]}\"\"\", \"argument2_id\": f\"\"\"{r2[\"id\"]}|{r2[\"rid\"]}\"\"\",\n",
    "                \"is_same_side\": True, \"is_good_side\": True, \"type\": \"good-good\",\n",
    "                \"topic\": inv_bid_cats.get(r1[\"id\"], None)\n",
    "            }\n",
    "            # print(pair)\n",
    "            pairs_good.append(pair)\n",
    "\n",
    "        # make pairings -- bad ss\n",
    "        rb_idx = reviews_bad.index.values\n",
    "        # print(\"neg_idx:\", rb_idx)\n",
    "        rb_idx_sel = np.random.choice(rb_idx, 2 * num_pairs_per_class, replace=False)\n",
    "        for id1, id2 in zip(rb_idx_sel[::2], rb_idx_sel[1::2]):\n",
    "            r1, r2 = df.loc[id1], df.loc[id2]\n",
    "            pair = {\n",
    "                \"argument1\": r1[\"text\"], \"argument2\": r2[\"text\"],\n",
    "                \"argument1_id\": f\"\"\"{r1[\"id\"]}|{r1[\"rid\"]}\"\"\", \"argument2_id\": f\"\"\"{r2[\"id\"]}|{r2[\"rid\"]}\"\"\",\n",
    "                \"is_same_side\": True, \"is_good_side\": False, \"type\": \"bad-bad\",\n",
    "                \"topic\": inv_bid_cats.get(r1[\"id\"], None)\n",
    "            }\n",
    "            pairs_bad.append(pair)\n",
    "\n",
    "        # break\n",
    "        \n",
    "    return pairs_good, pairs_bad"
   ]
  },
  {
   "cell_type": "markdown",
   "metadata": {},
   "source": [
    "##### not same-sentiment pairs (combinations positive + negative)"
   ]
  },
  {
   "cell_type": "code",
   "execution_count": 22,
   "metadata": {
    "ExecuteTime": {
     "end_time": "2020-05-25T09:52:45.733584Z",
     "start_time": "2020-05-25T09:52:45.729177Z"
    },
    "code_folding": []
   },
   "outputs": [],
   "source": [
    "#: number of negative same-sentiment samples same as positive same-sentiment samples\n",
    "num_pairs_negative = 2 * num_pairs_per_class\n",
    "\n",
    "#: whether for a single side (good or bad) there can be multiple occurrences of the same review\n",
    "#: may need to check afterwared that not by chance same pairing happens ...\n",
    "repeatable_on_side = False"
   ]
  },
  {
   "cell_type": "code",
   "execution_count": 23,
   "metadata": {
    "ExecuteTime": {
     "end_time": "2020-05-25T09:52:51.076476Z",
     "start_time": "2020-05-25T09:52:51.059949Z"
    },
    "code_folding": [
     0
    ],
    "jupyter": {
     "source_hidden": true
    }
   },
   "outputs": [],
   "source": [
    "def make_pairs_negative(df, num_pairs_negative, repeatable_on_side=False):\n",
    "    pairs_not_ss = list()\n",
    "\n",
    "    for id_, group in tqdm(df.groupby(\"id\")):\n",
    "        grouper = group.groupby(\"goodness\")\n",
    "        reviews_good = grouper.get_group(True)\n",
    "        reviews_bad = grouper.get_group(False)\n",
    "\n",
    "        # find indices for reviews per business\n",
    "        rg_idx = reviews_good.index.values\n",
    "        rb_idx = reviews_bad.index.values\n",
    "\n",
    "        # randomly select from each side\n",
    "        rg_idx_sel = np.random.choice(rg_idx, num_pairs_negative, replace=repeatable_on_side)\n",
    "        rb_idx_sel = np.random.choice(rb_idx, num_pairs_negative, replace=repeatable_on_side)\n",
    "\n",
    "        # pair them together -- good-bad pairs\n",
    "        for idg, idb in zip(rg_idx_sel[::2], rb_idx_sel[::2]):\n",
    "            rg, rb = df.loc[idg], df.loc[idb]\n",
    "            pair = {\n",
    "                \"argument1\": rg[\"text\"], \"argument2\": rb[\"text\"],\n",
    "                \"argument1_id\": f\"\"\"{rg[\"id\"]}|{rg[\"rid\"]}\"\"\", \"argument2_id\": f\"\"\"{rb[\"id\"]}|{rb[\"rid\"]}\"\"\",\n",
    "                \"is_same_side\": False, \"is_good_side\": None, \"type\": \"good-bad\",\n",
    "                \"topic\": inv_bid_cats.get(rg[\"id\"], None)\n",
    "            }\n",
    "            # print(pair)\n",
    "            pairs_not_ss.append(pair)\n",
    "\n",
    "        # bad-good pairs\n",
    "        for idb, idg in zip(rb_idx_sel[1::2], rg_idx_sel[1::2]):\n",
    "            rb, rg = df.loc[idb], df.loc[idg]\n",
    "            pair = {\n",
    "                \"argument1\": rb[\"text\"], \"argument2\": rg[\"text\"],\n",
    "                \"argument1_id\": f\"\"\"{rb[\"id\"]}|{rb[\"rid\"]}\"\"\", \"argument2_id\": f\"\"\"{rg[\"id\"]}|{rg[\"rid\"]}\"\"\",\n",
    "                \"is_same_side\": False, \"is_good_side\": None, \"type\": \"bad-good\",\n",
    "                \"topic\": inv_bid_cats.get(rb[\"id\"], None)\n",
    "            }\n",
    "            # print(pair)\n",
    "            pairs_not_ss.append(pair)\n",
    "            \n",
    "    return pairs_not_ss"
   ]
  },
  {
   "cell_type": "markdown",
   "metadata": {},
   "source": [
    "##### dataframe for training etc."
   ]
  },
  {
   "cell_type": "code",
   "execution_count": 24,
   "metadata": {
    "ExecuteTime": {
     "end_time": "2020-05-25T09:53:30.441277Z",
     "start_time": "2020-05-25T09:53:30.428763Z"
    },
    "code_folding": [
     0
    ],
    "jupyter": {
     "source_hidden": true
    }
   },
   "outputs": [],
   "source": [
    "def make_or_load_pairs(df, fn_yelp_df, num_pairs_per_class=2):\n",
    "    if fn_yelp_df is not None:\n",
    "        if os.path.exists(fn_yelp_df):\n",
    "            with open(fn_yelp_df, \"rb\") as fp:\n",
    "                all_df = pickle.load(fp)\n",
    "            return all_df\n",
    "    \n",
    "    pairs_good, pairs_bad = make_pairs_good_bad(df, num_pairs_per_class=num_pairs_per_class)\n",
    "    print(\"#ss (pos)\", len(pairs_good))\n",
    "    print(\"#ss (neg)\", len(pairs_bad))\n",
    "    \n",
    "    num_pairs_negative = 2 * num_pairs_per_class\n",
    "    pairs_not_ss = make_pairs_negative(df, num_pairs_negative, repeatable_on_side=False)\n",
    "    print(\"#nss\", len(pairs_not_ss))\n",
    "    \n",
    "    pairs_all = pairs_good + pairs_bad + pairs_not_ss\n",
    "    print(\"#~ss\", len(pairs_all))\n",
    "    \n",
    "    np.random.shuffle(pairs_all)\n",
    "    df_traindev = pd.DataFrame.from_dict(pairs_all)\n",
    "    \n",
    "    if fn_yelp_df is not None:\n",
    "        with open(fn_yelp_df, \"wb\") as fp:\n",
    "            pickle.dump(df_traindev, fp, protocol=pickle.HIGHEST_PROTOCOL)\n",
    "        \n",
    "    return df_traindev"
   ]
  },
  {
   "cell_type": "markdown",
   "metadata": {},
   "source": [
    "---"
   ]
  },
  {
   "cell_type": "markdown",
   "metadata": {},
   "source": [
    "---"
   ]
  },
  {
   "cell_type": "markdown",
   "metadata": {},
   "source": [
    "---"
   ]
  },
  {
   "cell_type": "markdown",
   "metadata": {},
   "source": [
    "## Load reviews and topics and category tree"
   ]
  },
  {
   "cell_type": "markdown",
   "metadata": {},
   "source": [
    "#### Load reviews\n",
    "\n",
    "- review (with business reference)"
   ]
  },
  {
   "cell_type": "code",
   "execution_count": 25,
   "metadata": {
    "ExecuteTime": {
     "end_time": "2020-05-25T09:54:28.073054Z",
     "start_time": "2020-05-25T09:53:34.206922Z"
    }
   },
   "outputs": [
    {
     "name": "stderr",
     "output_type": "stream",
     "text": [
      "6685900it [00:41, 160132.13it/s]\n"
     ]
    }
   ],
   "source": [
    "fn_yelp_reviews = data_yelp_path / \"review.json\"\n",
    "df = load_reviews(fn_yelp_reviews)"
   ]
  },
  {
   "cell_type": "markdown",
   "metadata": {},
   "source": [
    "#### Load categories for businesses\n",
    "\n",
    "- business (id) with list of topics/categories\n",
    "- lookups (business -> categories, category -> businesses)\n",
    "- list of combinations (with amount)"
   ]
  },
  {
   "cell_type": "code",
   "execution_count": 26,
   "metadata": {
    "ExecuteTime": {
     "end_time": "2020-05-25T09:54:30.875744Z",
     "start_time": "2020-05-25T09:54:28.103817Z"
    }
   },
   "outputs": [
    {
     "name": "stderr",
     "output_type": "stream",
     "text": [
      "192609it [00:01, 99965.02it/s] \n",
      "100%|██████████| 192127/192127 [00:00<00:00, 1259645.08it/s]\n",
      "100%|██████████| 192127/192127 [00:00<00:00, 470447.57it/s]\n"
     ]
    }
   ],
   "source": [
    "fn_yelp_topics = data_yelp_path / \"business.json\"\n",
    "bids_not_cats = set()\n",
    "inv_bid_cats = load_topics(fn_yelp_topics, bids_not_cats=bids_not_cats)\n",
    "\n",
    "inv_cat_bids = make_map_cats(inv_bid_cats)\n",
    "\n",
    "inv_cat_combis = make_cat_combis(inv_bid_cats)"
   ]
  },
  {
   "cell_type": "markdown",
   "metadata": {},
   "source": [
    "#### Load category tree\n",
    "\n",
    "- hierarchy of categories"
   ]
  },
  {
   "cell_type": "code",
   "execution_count": 27,
   "metadata": {
    "ExecuteTime": {
     "end_time": "2020-05-25T09:54:32.035522Z",
     "start_time": "2020-05-25T09:54:32.004962Z"
    }
   },
   "outputs": [],
   "source": [
    "fn_yelp_catgory_tree = data_yelp_path / \"all_category_list.json\"\n",
    "map_categories, map_cat_name2id, lst_root_categories = load_category_tree(fn_yelp_catgory_tree)"
   ]
  },
  {
   "cell_type": "markdown",
   "metadata": {},
   "source": [
    "#### Pre-Cache all root category businesses (reviews)"
   ]
  },
  {
   "cell_type": "code",
   "execution_count": 28,
   "metadata": {
    "ExecuteTime": {
     "end_time": "2020-05-25T09:54:33.171937Z",
     "start_time": "2020-05-25T09:54:33.169140Z"
    }
   },
   "outputs": [],
   "source": [
    "cache_root_category_businesses_df(df, inv_cat_bids, map_categories, map_cat_name2id)"
   ]
  },
  {
   "cell_type": "markdown",
   "metadata": {},
   "source": [
    "---"
   ]
  },
  {
   "cell_type": "markdown",
   "metadata": {},
   "source": [
    "---"
   ]
  },
  {
   "cell_type": "markdown",
   "metadata": {},
   "source": [
    "#### dataframe for training etc."
   ]
  },
  {
   "cell_type": "code",
   "execution_count": 33,
   "metadata": {},
   "outputs": [],
   "source": [
    "fn_yelp_df = data_yelp_path / \"df_traindev4_typed.p\"\n",
    "\n",
    "df = filter_min_review_freq(df, min_ratings=8)\n",
    "df = filter_both_good_bad(df)\n",
    "\n",
    "df_traindev = make_or_load_pairs(df, str(fn_yelp_df), num_pairs_per_class=4)"
   ]
  },
  {
   "cell_type": "code",
   "execution_count": null,
   "metadata": {},
   "outputs": [],
   "source": [
    "fn_yelp_df = data_yelp_path / \"df_traindev4_typed.p\"\n",
    "\n",
    "with open(fn_yelp_df, \"rb\") as fp:\n",
    "    traindev_df = pickle.load(fp)"
   ]
  },
  {
   "cell_type": "markdown",
   "metadata": {},
   "source": [
    "---"
   ]
  },
  {
   "cell_type": "markdown",
   "metadata": {},
   "source": [
    "#### Reloading for training\n",
    "\n",
    "_(unused)_"
   ]
  },
  {
   "cell_type": "code",
   "execution_count": null,
   "metadata": {},
   "outputs": [],
   "source": [
    "data_yelp_path = Path(\"/home/ekoerner/same-side-classification/data/sentiment/yelp/\")\n",
    "fn_yelp_df = data_yelp_path / \"df_traindev.p\"\n",
    "\n",
    "with open(fn_yelp_df, \"rb\") as fp:\n",
    "    all_df = pickle.load(fp)"
   ]
  },
  {
   "cell_type": "code",
   "execution_count": null,
   "metadata": {},
   "outputs": [],
   "source": [
    "def _add_dummy_tag(row):\n",
    "    row[\"tag\"] = \"NA\"\n",
    "    return row\n",
    "\n",
    "# all_df = all_df.progress_apply(_add_dummy_tag, axis=1)\n",
    "all_df[\"tag\"] = \"NA\""
   ]
  },
  {
   "cell_type": "code",
   "execution_count": null,
   "metadata": {},
   "outputs": [],
   "source": [
    "num = len(all_df)\n",
    "ratio = 0.3\n",
    "idx_ratio = int(num * (1.0 - ratio))\n",
    "print(f\"traindev: [0:{idx_ratio}], test: [{idx_ratio}:{num}], ratio: {ratio}\")\n",
    "\n",
    "traindev_df = all_df.iloc[:idx_ratio]\n",
    "test_df = all_df.iloc[idx_ratio:]"
   ]
  },
  {
   "cell_type": "markdown",
   "metadata": {},
   "source": [
    "---\n",
    "---\n",
    "---"
   ]
  },
  {
   "cell_type": "markdown",
   "metadata": {},
   "source": [
    "## Default S3C training\n",
    "\n",
    "https://gluon-nlp.mxnet.io/install.html\n",
    "\n",
    "```bash\n",
    "pip install --upgrade 'mxnet>=1.3.0'  \n",
    "pip install gluonnlp  \n",
    "wget https://gluon-nlp.mxnet.io/_downloads/sentence_embedding.zip  \n",
    "unzip sentence_embedding.zip  \n",
    "ln -s sentence_embedding/bert bert  \n",
    "```"
   ]
  },
  {
   "cell_type": "code",
   "execution_count": null,
   "metadata": {},
   "outputs": [],
   "source": [
    "# ! pip install --upgrade 'mxnet>=1.3.0'\n",
    "# NOTE: do not install cpu + gpu version both, only one!\n",
    "! pip install --upgrade mxnet-cu102\n",
    "! pip install --upgrade gluonnlp "
   ]
  },
  {
   "cell_type": "code",
   "execution_count": null,
   "metadata": {},
   "outputs": [],
   "source": [
    "! wget https://gluon-nlp.mxnet.io/_downloads/sentence_embedding.zip\n",
    "# ! unzip sentence_embedding.zip\n",
    "# ! ln -s sentence_embedding/bert bert"
   ]
  },
  {
   "cell_type": "code",
   "execution_count": 29,
   "metadata": {
    "ExecuteTime": {
     "end_time": "2020-05-25T09:54:41.165579Z",
     "start_time": "2020-05-25T09:54:40.872743Z"
    }
   },
   "outputs": [],
   "source": [
    "from mxboard import SummaryWriter\n",
    "\n",
    "from utils_data import get_train_test_sets\n",
    "\n",
    "from utils_gluon import setup_bert_epi128bce, setup_bert_epi512bce\n",
    "from utils_gluon import setup_bert_pro128bce, setup_bert_pro512bce\n",
    "\n",
    "from utils_gluon import transform_dataset\n",
    "from utils_gluon import predict_out_to_ys\n",
    "\n",
    "from utils_gluon import predict\n",
    "from utils_gluon import train\n",
    "\n",
    "# from utils_gluon import print_infos\n",
    "from utils_gluon import plot_train_stats\n",
    "\n",
    "from utils_gluon import report_training_results\n",
    "from utils_gluon import plot_confusion_matrix\n",
    "from utils_gluon import compute_metrics\n",
    "\n",
    "from utils_data import names_columns_X, names_columns_X_arteval, names_columns_y\n",
    "# names_columns_X = ['argument1', 'argument2', 'argument1_id', 'argument2_id', 'topic', 'type']\n",
    "names_columns_X = names_columns_X + ['type']\n",
    "\n",
    "from sklearn.model_selection import train_test_split"
   ]
  },
  {
   "cell_type": "code",
   "execution_count": 30,
   "metadata": {
    "ExecuteTime": {
     "end_time": "2020-05-25T09:54:43.151309Z",
     "start_time": "2020-05-25T09:54:43.145966Z"
    }
   },
   "outputs": [],
   "source": [
    "from utils_data import Timer\n",
    "\n",
    "from utils_data import configure_logging\n",
    "configure_logging()\n",
    "\n",
    "from utils_data import init_random\n",
    "init_random()"
   ]
  },
  {
   "cell_type": "code",
   "execution_count": 31,
   "metadata": {},
   "outputs": [],
   "source": [
    "# extracted to include \"type\" (of pairing)\n",
    "# train dev set - 70% 30%\n",
    "def get_train_test_sets(df, ratio=0.30, random_state=1):\n",
    "    X = df[names_columns_X]\n",
    "    y = df[names_columns_y]\n",
    "\n",
    "    X_train, X_test, y_train, y_test = train_test_split(X,\n",
    "                                                        y,\n",
    "                                                        test_size=ratio,\n",
    "                                                        random_state=random_state,\n",
    "                                                        shuffle=True)\n",
    "    return X_train, X_test, y_train, y_test"
   ]
  },
  {
   "cell_type": "markdown",
   "metadata": {},
   "source": [
    "---"
   ]
  },
  {
   "cell_type": "code",
   "execution_count": null,
   "metadata": {
    "ExecuteTime": {
     "end_time": "2020-05-25T09:58:31.831838Z",
     "start_time": "2020-05-25T09:58:31.361186Z"
    }
   },
   "outputs": [],
   "source": [
    "run_name = \"yelp_1_pro128BCE\"\n",
    "fn_run_path = Path(f\"data/{run_name}\")\n",
    "fn_traindev_df = fn_run_path / \"traindev.p\"\n",
    "\n",
    "category_name = \"*\"  # just a dummy ...\n",
    "\n",
    "! mkdir data/yelp_1_pro128BCE"
   ]
  },
  {
   "cell_type": "code",
   "execution_count": null,
   "metadata": {},
   "outputs": [],
   "source": [
    "run_name = \"yelp_3_arts_pro128BCE\"\n",
    "fn_run_path = Path(f\"data/{run_name}\")\n",
    "fn_traindev_df = fn_run_path / \"traindev.p\"\n",
    "\n",
    "category_name = \"Arts & Entertainment\"\n",
    "\n",
    "! mkdir data/yelp_3_arts_pro128BCE"
   ]
  },
  {
   "cell_type": "code",
   "execution_count": null,
   "metadata": {
    "ExecuteTime": {
     "end_time": "2020-05-25T09:58:31.831838Z",
     "start_time": "2020-05-25T09:58:31.361186Z"
    }
   },
   "outputs": [],
   "source": [
    "run_name = \"yelp_7_pro128BCE\"\n",
    "fn_run_path = Path(f\"data/{run_name}\")\n",
    "fn_traindev_df = fn_run_path / \"traindev.p\"\n",
    "\n",
    "category_name = \"*\"  # just a dummy ...\n",
    "\n",
    "! mkdir data/yelp_7_pro128BCE"
   ]
  },
  {
   "cell_type": "code",
   "execution_count": 32,
   "metadata": {
    "ExecuteTime": {
     "end_time": "2020-05-25T09:58:31.831838Z",
     "start_time": "2020-05-25T09:58:31.361186Z"
    }
   },
   "outputs": [],
   "source": [
    "run_name = \"yelp_8_pro512BCE\"\n",
    "fn_run_path = Path(f\"data/{run_name}\")\n",
    "fn_traindev_df = fn_run_path / \"traindev.p\"\n",
    "\n",
    "category_name = \"*\"  # just a dummy ...\n",
    "\n",
    "! mkdir data/yelp_8_pro512BCE"
   ]
  },
  {
   "cell_type": "code",
   "execution_count": null,
   "metadata": {},
   "outputs": [],
   "source": [
    "fn_yelp_df = data_yelp_path / \"df_traindev4_typed.p\"\n",
    "\n",
    "with open(fn_yelp_df, \"rb\") as fp:\n",
    "    traindev_df = pickle.load(fp)\n",
    "    \n",
    "len(traindev_df)  # pairs"
   ]
  },
  {
   "cell_type": "code",
   "execution_count": null,
   "metadata": {},
   "outputs": [],
   "source": [
    "#epoch_id = num_epochs - 1\n",
    "#fn_model_state = fn_run_path / f\"bert.model.checkpoint{epoch_id}.params\"\n",
    "#print(f\"Load {fn_model_state} ...\")\n",
    "#model.load_parameters(str(fn_model_state), ctx=ctx)"
   ]
  },
  {
   "cell_type": "markdown",
   "metadata": {},
   "source": [
    "---"
   ]
  },
  {
   "cell_type": "code",
   "execution_count": 34,
   "metadata": {},
   "outputs": [
    {
     "data": {
      "text/plain": [
       "703760"
      ]
     },
     "execution_count": 34,
     "metadata": {},
     "output_type": "execute_result"
    }
   ],
   "source": [
    "len(traindev_df)  # pairs"
   ]
  },
  {
   "cell_type": "code",
   "execution_count": 35,
   "metadata": {},
   "outputs": [
    {
     "name": "stdout",
     "output_type": "stream",
     "text": [
      "bad-bad 175940\n",
      "bad-good 175940\n",
      "good-bad 175940\n",
      "good-good 175940\n"
     ]
    }
   ],
   "source": [
    "# check how many pairs are per pairing\n",
    "for pairtype, df_grouped in traindev_df.groupby([\"type\"]):\n",
    "    print(pairtype, len(df_grouped))\n",
    "    # df_grouped.describe()"
   ]
  },
  {
   "cell_type": "markdown",
   "metadata": {},
   "source": [
    "---"
   ]
  },
  {
   "cell_type": "code",
   "execution_count": 36,
   "metadata": {},
   "outputs": [],
   "source": [
    "def _add_dummy_tag(row):\n",
    "    row[\"tag\"] = \"NA\"\n",
    "    return row\n",
    "\n",
    "# all_df = all_df.progress_apply(_add_dummy_tag, axis=1)\n",
    "traindev_df[\"tag\"] = \"NA\""
   ]
  },
  {
   "cell_type": "code",
   "execution_count": 37,
   "metadata": {},
   "outputs": [],
   "source": [
    "X_train, X_dev, y_train, y_dev = get_train_test_sets(traindev_df, ratio=0.1)"
   ]
  },
  {
   "cell_type": "code",
   "execution_count": 38,
   "metadata": {
    "ExecuteTime": {
     "end_time": "2020-05-25T09:56:58.418571Z",
     "start_time": "2020-05-25T09:56:52.150060Z"
    }
   },
   "outputs": [
    {
     "name": "stdout",
     "output_type": "stream",
     "text": [
      "Start on [setup BERT model] ...\n",
      "Time for [setup BERT model]: 0:00:02.714479\n"
     ]
    }
   ],
   "source": [
    "with Timer(\"setup BERT model\"):\n",
    "    model, vocabulary, ctx, tokenizer, transform, loss_function, metric, all_labels = setup_bert_pro512bce(gpu=1)"
   ]
  },
  {
   "cell_type": "code",
   "execution_count": 39,
   "metadata": {},
   "outputs": [
    {
     "name": "stdout",
     "output_type": "stream",
     "text": [
      "Start on [prepare training / validation data] ...\n",
      "Time for [prepare training / validation data]: 0:00:53.941476\n"
     ]
    }
   ],
   "source": [
    "with Timer(\"prepare training / validation data\"):\n",
    "    data_train_raw, data_train = transform_dataset(X_train, y_train, transform)\n",
    "    data_dev_raw, data_dev = transform_dataset(X_dev, y_dev, transform)"
   ]
  },
  {
   "cell_type": "code",
   "execution_count": 40,
   "metadata": {
    "ExecuteTime": {
     "end_time": "2020-05-25T09:57:10.724496Z",
     "start_time": "2020-05-25T09:57:10.720382Z"
    }
   },
   "outputs": [],
   "source": [
    "num_epochs = 3\n",
    "batch_size = 6"
   ]
  },
  {
   "cell_type": "code",
   "execution_count": 44,
   "metadata": {
    "collapsed": true,
    "jupyter": {
     "outputs_hidden": true
    }
   },
   "outputs": [
    {
     "name": "stderr",
     "output_type": "stream",
     "text": [
      "  0%|          | 160/633384 [00:00<06:36, 1598.76it/s]"
     ]
    },
    {
     "name": "stdout",
     "output_type": "stream",
     "text": [
      "Start on [train model (eval per epoch)] ...\n",
      "Start on [train model - 0] ...\n",
      "Start on [setup training] ...\n"
     ]
    },
    {
     "name": "stderr",
     "output_type": "stream",
     "text": [
      "100%|██████████| 633384/633384 [06:24<00:00, 1648.82it/s]\n",
      "  0%|          | 0/105568 [00:00<?, ?it/s]"
     ]
    },
    {
     "name": "stdout",
     "output_type": "stream",
     "text": [
      "Time for [setup training]: 0:06:24.312008\n",
      "Start on [training] ...\n",
      "Start on [epoch 0] ...\n"
     ]
    },
    {
     "name": "stderr",
     "output_type": "stream",
     "text": [
      "  0%|          | 1/105568 [00:00<23:21:24,  1.26it/s]2020-06-14 18:21:50,620 : INFO : successfully opened events file: data/yelp_8_pro512BCE/events.out.tfevents.1592151710.cuda2\n",
      "2020-06-14 18:21:50,625 : INFO : wrote 1 event to disk\n",
      "2020-06-14 18:21:50,626 : INFO : wrote 1 event to disk\n",
      "  0%|          | 500/105568 [01:44<6:07:26,  4.77it/s]"
     ]
    },
    {
     "name": "stdout",
     "output_type": "stream",
     "text": [
      "[Epoch 0 Batch 500/105568] loss=0.6047, lr=0.0000050, acc=0.664 - time 0:01:44.982480\n"
     ]
    },
    {
     "name": "stderr",
     "output_type": "stream",
     "text": [
      "  1%|          | 1000/105568 [03:30<6:09:34,  4.72it/s]"
     ]
    },
    {
     "name": "stdout",
     "output_type": "stream",
     "text": [
      "[Epoch 0 Batch 1000/105568] loss=0.4915, lr=0.0000050, acc=0.720 - time 0:01:45.551998\n"
     ]
    },
    {
     "name": "stderr",
     "output_type": "stream",
     "text": [
      "  1%|▏         | 1500/105568 [05:16<6:03:21,  4.77it/s]"
     ]
    },
    {
     "name": "stdout",
     "output_type": "stream",
     "text": [
      "[Epoch 0 Batch 1500/105568] loss=0.4777, lr=0.0000050, acc=0.742 - time 0:01:45.756207\n"
     ]
    },
    {
     "name": "stderr",
     "output_type": "stream",
     "text": [
      "  2%|▏         | 2000/105568 [07:02<6:06:04,  4.72it/s]"
     ]
    },
    {
     "name": "stdout",
     "output_type": "stream",
     "text": [
      "[Epoch 0 Batch 2000/105568] loss=0.4405, lr=0.0000050, acc=0.757 - time 0:01:46.004705\n"
     ]
    },
    {
     "name": "stderr",
     "output_type": "stream",
     "text": [
      "  2%|▏         | 2500/105568 [08:48<6:07:29,  4.67it/s]"
     ]
    },
    {
     "name": "stdout",
     "output_type": "stream",
     "text": [
      "[Epoch 0 Batch 2500/105568] loss=0.4469, lr=0.0000050, acc=0.766 - time 0:01:45.884053\n"
     ]
    },
    {
     "name": "stderr",
     "output_type": "stream",
     "text": [
      "  3%|▎         | 2844/105568 [10:00<5:57:45,  4.79it/s]2020-06-14 18:31:50,736 : INFO : wrote 5686 events to disk\n",
      "  3%|▎         | 3000/105568 [10:33<5:59:47,  4.75it/s]"
     ]
    },
    {
     "name": "stdout",
     "output_type": "stream",
     "text": [
      "[Epoch 0 Batch 3000/105568] loss=0.4318, lr=0.0000050, acc=0.775 - time 0:01:45.794376\n"
     ]
    },
    {
     "name": "stderr",
     "output_type": "stream",
     "text": [
      "  3%|▎         | 3500/105568 [12:19<6:01:19,  4.71it/s]"
     ]
    },
    {
     "name": "stdout",
     "output_type": "stream",
     "text": [
      "[Epoch 0 Batch 3500/105568] loss=0.4394, lr=0.0000050, acc=0.782 - time 0:01:45.784449\n"
     ]
    },
    {
     "name": "stderr",
     "output_type": "stream",
     "text": [
      "  4%|▍         | 4000/105568 [14:05<5:56:57,  4.74it/s]"
     ]
    },
    {
     "name": "stdout",
     "output_type": "stream",
     "text": [
      "[Epoch 0 Batch 4000/105568] loss=0.4191, lr=0.0000050, acc=0.786 - time 0:01:45.789562\n"
     ]
    },
    {
     "name": "stderr",
     "output_type": "stream",
     "text": [
      "  4%|▍         | 4500/105568 [15:51<5:57:58,  4.71it/s]"
     ]
    },
    {
     "name": "stdout",
     "output_type": "stream",
     "text": [
      "[Epoch 0 Batch 4500/105568] loss=0.4121, lr=0.0000050, acc=0.790 - time 0:01:45.951103\n"
     ]
    },
    {
     "name": "stderr",
     "output_type": "stream",
     "text": [
      "  5%|▍         | 5000/105568 [17:37<5:53:55,  4.74it/s]"
     ]
    },
    {
     "name": "stdout",
     "output_type": "stream",
     "text": [
      "[Epoch 0 Batch 5000/105568] loss=0.4302, lr=0.0000050, acc=0.793 - time 0:01:45.853207\n"
     ]
    },
    {
     "name": "stderr",
     "output_type": "stream",
     "text": [
      "  5%|▌         | 5500/105568 [19:23<5:51:34,  4.74it/s]"
     ]
    },
    {
     "name": "stdout",
     "output_type": "stream",
     "text": [
      "[Epoch 0 Batch 5500/105568] loss=0.4026, lr=0.0000050, acc=0.797 - time 0:01:45.868765\n"
     ]
    },
    {
     "name": "stderr",
     "output_type": "stream",
     "text": [
      "  5%|▌         | 5678/105568 [20:00<5:56:23,  4.67it/s]2020-06-14 18:41:50,751 : INFO : wrote 5668 events to disk\n",
      "  6%|▌         | 6000/105568 [21:09<5:52:23,  4.71it/s]"
     ]
    },
    {
     "name": "stdout",
     "output_type": "stream",
     "text": [
      "[Epoch 0 Batch 6000/105568] loss=0.4271, lr=0.0000050, acc=0.799 - time 0:01:45.899364\n"
     ]
    },
    {
     "name": "stderr",
     "output_type": "stream",
     "text": [
      "  6%|▌         | 6500/105568 [22:54<5:48:39,  4.74it/s]"
     ]
    },
    {
     "name": "stdout",
     "output_type": "stream",
     "text": [
      "[Epoch 0 Batch 6500/105568] loss=0.3926, lr=0.0000050, acc=0.802 - time 0:01:45.857359\n"
     ]
    },
    {
     "name": "stderr",
     "output_type": "stream",
     "text": [
      "  7%|▋         | 7000/105568 [24:41<5:48:03,  4.72it/s]"
     ]
    },
    {
     "name": "stdout",
     "output_type": "stream",
     "text": [
      "[Epoch 0 Batch 7000/105568] loss=0.4003, lr=0.0000050, acc=0.805 - time 0:01:46.516048\n"
     ]
    },
    {
     "name": "stderr",
     "output_type": "stream",
     "text": [
      "  7%|▋         | 7500/105568 [26:27<5:47:22,  4.71it/s]"
     ]
    },
    {
     "name": "stdout",
     "output_type": "stream",
     "text": [
      "[Epoch 0 Batch 7500/105568] loss=0.4167, lr=0.0000050, acc=0.807 - time 0:01:45.873335\n"
     ]
    },
    {
     "name": "stderr",
     "output_type": "stream",
     "text": [
      "  8%|▊         | 8000/105568 [28:13<5:42:40,  4.75it/s]"
     ]
    },
    {
     "name": "stdout",
     "output_type": "stream",
     "text": [
      "[Epoch 0 Batch 8000/105568] loss=0.4184, lr=0.0000050, acc=0.807 - time 0:01:45.808976\n"
     ]
    },
    {
     "name": "stderr",
     "output_type": "stream",
     "text": [
      "  8%|▊         | 8500/105568 [29:59<5:41:38,  4.74it/s]"
     ]
    },
    {
     "name": "stdout",
     "output_type": "stream",
     "text": [
      "[Epoch 0 Batch 8500/105568] loss=0.4079, lr=0.0000050, acc=0.808 - time 0:01:45.826878\n"
     ]
    },
    {
     "name": "stderr",
     "output_type": "stream",
     "text": [
      "  8%|▊         | 8510/105568 [30:01<5:37:29,  4.79it/s]2020-06-14 18:51:50,913 : INFO : wrote 5664 events to disk\n",
      "  9%|▊         | 9000/105568 [31:44<5:45:53,  4.65it/s]"
     ]
    },
    {
     "name": "stdout",
     "output_type": "stream",
     "text": [
      "[Epoch 0 Batch 9000/105568] loss=0.4087, lr=0.0000050, acc=0.809 - time 0:01:45.774376\n"
     ]
    },
    {
     "name": "stderr",
     "output_type": "stream",
     "text": [
      "  9%|▉         | 9500/105568 [33:30<5:34:46,  4.78it/s]"
     ]
    },
    {
     "name": "stdout",
     "output_type": "stream",
     "text": [
      "[Epoch 0 Batch 9500/105568] loss=0.3850, lr=0.0000050, acc=0.811 - time 0:01:45.789078\n"
     ]
    },
    {
     "name": "stderr",
     "output_type": "stream",
     "text": [
      "  9%|▉         | 10000/105568 [35:16<5:32:23,  4.79it/s]"
     ]
    },
    {
     "name": "stdout",
     "output_type": "stream",
     "text": [
      "[Epoch 0 Batch 10000/105568] loss=0.4031, lr=0.0000050, acc=0.812 - time 0:01:45.781216\n"
     ]
    },
    {
     "name": "stderr",
     "output_type": "stream",
     "text": [
      " 10%|▉         | 10500/105568 [37:02<5:33:13,  4.76it/s]"
     ]
    },
    {
     "name": "stdout",
     "output_type": "stream",
     "text": [
      "[Epoch 0 Batch 10500/105568] loss=0.3988, lr=0.0000050, acc=0.813 - time 0:01:45.923164\n"
     ]
    },
    {
     "name": "stderr",
     "output_type": "stream",
     "text": [
      " 10%|█         | 11000/105568 [38:47<5:29:34,  4.78it/s]"
     ]
    },
    {
     "name": "stdout",
     "output_type": "stream",
     "text": [
      "[Epoch 0 Batch 11000/105568] loss=0.3910, lr=0.0000050, acc=0.815 - time 0:01:45.610398\n"
     ]
    },
    {
     "name": "stderr",
     "output_type": "stream",
     "text": [
      " 11%|█         | 11347/105568 [40:01<5:31:53,  4.73it/s]2020-06-14 19:01:51,085 : INFO : wrote 5674 events to disk\n",
      " 11%|█         | 11500/105568 [40:33<5:31:35,  4.73it/s]"
     ]
    },
    {
     "name": "stdout",
     "output_type": "stream",
     "text": [
      "[Epoch 0 Batch 11500/105568] loss=0.4066, lr=0.0000050, acc=0.816 - time 0:01:45.762590\n"
     ]
    },
    {
     "name": "stderr",
     "output_type": "stream",
     "text": [
      " 11%|█▏        | 12000/105568 [42:19<5:30:50,  4.71it/s]"
     ]
    },
    {
     "name": "stdout",
     "output_type": "stream",
     "text": [
      "[Epoch 0 Batch 12000/105568] loss=0.4035, lr=0.0000050, acc=0.817 - time 0:01:45.835676\n"
     ]
    },
    {
     "name": "stderr",
     "output_type": "stream",
     "text": [
      " 12%|█▏        | 12500/105568 [44:05<5:30:16,  4.70it/s]"
     ]
    },
    {
     "name": "stdout",
     "output_type": "stream",
     "text": [
      "[Epoch 0 Batch 12500/105568] loss=0.4046, lr=0.0000050, acc=0.818 - time 0:01:45.800854\n"
     ]
    },
    {
     "name": "stderr",
     "output_type": "stream",
     "text": [
      " 12%|█▏        | 13000/105568 [45:51<5:28:22,  4.70it/s]"
     ]
    },
    {
     "name": "stdout",
     "output_type": "stream",
     "text": [
      "[Epoch 0 Batch 13000/105568] loss=0.4020, lr=0.0000050, acc=0.818 - time 0:01:45.835103\n"
     ]
    },
    {
     "name": "stderr",
     "output_type": "stream",
     "text": [
      " 13%|█▎        | 13500/105568 [47:37<5:19:49,  4.80it/s]"
     ]
    },
    {
     "name": "stdout",
     "output_type": "stream",
     "text": [
      "[Epoch 0 Batch 13500/105568] loss=0.3822, lr=0.0000050, acc=0.819 - time 0:01:46.266712\n"
     ]
    },
    {
     "name": "stderr",
     "output_type": "stream",
     "text": [
      " 13%|█▎        | 14000/105568 [49:23<5:22:06,  4.74it/s]"
     ]
    },
    {
     "name": "stdout",
     "output_type": "stream",
     "text": [
      "[Epoch 0 Batch 14000/105568] loss=0.4166, lr=0.0000050, acc=0.820 - time 0:01:45.934263\n"
     ]
    },
    {
     "name": "stderr",
     "output_type": "stream",
     "text": [
      " 13%|█▎        | 14180/105568 [50:01<5:29:30,  4.62it/s]2020-06-14 19:11:51,258 : INFO : wrote 5666 events to disk\n",
      " 14%|█▎        | 14500/105568 [51:09<5:22:26,  4.71it/s]"
     ]
    },
    {
     "name": "stdout",
     "output_type": "stream",
     "text": [
      "[Epoch 0 Batch 14500/105568] loss=0.4073, lr=0.0000050, acc=0.821 - time 0:01:45.813461\n"
     ]
    },
    {
     "name": "stderr",
     "output_type": "stream",
     "text": [
      " 14%|█▍        | 15000/105568 [52:54<5:17:38,  4.75it/s]"
     ]
    },
    {
     "name": "stdout",
     "output_type": "stream",
     "text": [
      "[Epoch 0 Batch 15000/105568] loss=0.4001, lr=0.0000050, acc=0.821 - time 0:01:45.806244\n"
     ]
    },
    {
     "name": "stderr",
     "output_type": "stream",
     "text": [
      " 15%|█▍        | 15500/105568 [54:40<5:16:09,  4.75it/s]"
     ]
    },
    {
     "name": "stdout",
     "output_type": "stream",
     "text": [
      "[Epoch 0 Batch 15500/105568] loss=0.4025, lr=0.0000050, acc=0.822 - time 0:01:45.693597\n"
     ]
    },
    {
     "name": "stderr",
     "output_type": "stream",
     "text": [
      " 15%|█▌        | 16000/105568 [56:26<5:13:47,  4.76it/s]"
     ]
    },
    {
     "name": "stdout",
     "output_type": "stream",
     "text": [
      "[Epoch 0 Batch 16000/105568] loss=0.3995, lr=0.0000050, acc=0.823 - time 0:01:45.796632\n"
     ]
    },
    {
     "name": "stderr",
     "output_type": "stream",
     "text": [
      " 16%|█▌        | 16500/105568 [58:12<5:13:04,  4.74it/s]"
     ]
    },
    {
     "name": "stdout",
     "output_type": "stream",
     "text": [
      "[Epoch 0 Batch 16500/105568] loss=0.4202, lr=0.0000050, acc=0.823 - time 0:01:45.826335\n"
     ]
    },
    {
     "name": "stderr",
     "output_type": "stream",
     "text": [
      " 16%|█▌        | 17000/105568 [59:57<5:14:34,  4.69it/s]"
     ]
    },
    {
     "name": "stdout",
     "output_type": "stream",
     "text": [
      "[Epoch 0 Batch 17000/105568] loss=0.3836, lr=0.0000050, acc=0.823 - time 0:01:45.641854\n"
     ]
    },
    {
     "name": "stderr",
     "output_type": "stream",
     "text": [
      " 16%|█▌        | 17017/105568 [1:00:01<5:16:22,  4.66it/s]2020-06-14 19:21:51,358 : INFO : wrote 5674 events to disk\n",
      " 17%|█▋        | 17500/105568 [1:01:43<5:07:23,  4.78it/s]"
     ]
    },
    {
     "name": "stdout",
     "output_type": "stream",
     "text": [
      "[Epoch 0 Batch 17500/105568] loss=0.3831, lr=0.0000050, acc=0.824 - time 0:01:45.962006\n"
     ]
    },
    {
     "name": "stderr",
     "output_type": "stream",
     "text": [
      " 17%|█▋        | 18000/105568 [1:03:29<5:05:41,  4.77it/s]"
     ]
    },
    {
     "name": "stdout",
     "output_type": "stream",
     "text": [
      "[Epoch 0 Batch 18000/105568] loss=0.3790, lr=0.0000050, acc=0.825 - time 0:01:45.924609\n"
     ]
    },
    {
     "name": "stderr",
     "output_type": "stream",
     "text": [
      " 18%|█▊        | 18500/105568 [1:05:15<5:08:20,  4.71it/s]"
     ]
    },
    {
     "name": "stdout",
     "output_type": "stream",
     "text": [
      "[Epoch 0 Batch 18500/105568] loss=0.3977, lr=0.0000050, acc=0.825 - time 0:01:45.848798\n"
     ]
    },
    {
     "name": "stderr",
     "output_type": "stream",
     "text": [
      " 18%|█▊        | 19000/105568 [1:07:01<5:07:03,  4.70it/s]"
     ]
    },
    {
     "name": "stdout",
     "output_type": "stream",
     "text": [
      "[Epoch 0 Batch 19000/105568] loss=0.3955, lr=0.0000050, acc=0.826 - time 0:01:45.918949\n"
     ]
    },
    {
     "name": "stderr",
     "output_type": "stream",
     "text": [
      " 18%|█▊        | 19500/105568 [1:08:47<5:03:17,  4.73it/s]"
     ]
    },
    {
     "name": "stdout",
     "output_type": "stream",
     "text": [
      "[Epoch 0 Batch 19500/105568] loss=0.3990, lr=0.0000050, acc=0.826 - time 0:01:45.709584\n"
     ]
    },
    {
     "name": "stderr",
     "output_type": "stream",
     "text": [
      " 19%|█▉        | 19850/105568 [1:10:01<5:05:35,  4.67it/s]2020-06-14 19:31:51,469 : INFO : wrote 5666 events to disk\n",
      " 19%|█▉        | 20000/105568 [1:10:33<5:01:59,  4.72it/s]"
     ]
    },
    {
     "name": "stdout",
     "output_type": "stream",
     "text": [
      "[Epoch 0 Batch 20000/105568] loss=0.3898, lr=0.0000050, acc=0.827 - time 0:01:46.140158\n"
     ]
    },
    {
     "name": "stderr",
     "output_type": "stream",
     "text": [
      " 19%|█▉        | 20500/105568 [1:12:19<4:58:38,  4.75it/s]"
     ]
    },
    {
     "name": "stdout",
     "output_type": "stream",
     "text": [
      "[Epoch 0 Batch 20500/105568] loss=0.3829, lr=0.0000050, acc=0.827 - time 0:01:45.887054\n"
     ]
    },
    {
     "name": "stderr",
     "output_type": "stream",
     "text": [
      " 20%|█▉        | 21000/105568 [1:14:05<4:57:46,  4.73it/s]"
     ]
    },
    {
     "name": "stdout",
     "output_type": "stream",
     "text": [
      "[Epoch 0 Batch 21000/105568] loss=0.3985, lr=0.0000050, acc=0.828 - time 0:01:45.807953\n"
     ]
    },
    {
     "name": "stderr",
     "output_type": "stream",
     "text": [
      " 20%|██        | 21500/105568 [1:15:50<4:59:26,  4.68it/s]"
     ]
    },
    {
     "name": "stdout",
     "output_type": "stream",
     "text": [
      "[Epoch 0 Batch 21500/105568] loss=0.3873, lr=0.0000050, acc=0.828 - time 0:01:45.690050\n"
     ]
    },
    {
     "name": "stderr",
     "output_type": "stream",
     "text": [
      " 21%|██        | 22000/105568 [1:17:36<4:51:00,  4.79it/s]"
     ]
    },
    {
     "name": "stdout",
     "output_type": "stream",
     "text": [
      "[Epoch 0 Batch 22000/105568] loss=0.3821, lr=0.0000050, acc=0.829 - time 0:01:45.949371\n"
     ]
    },
    {
     "name": "stderr",
     "output_type": "stream",
     "text": [
      " 21%|██▏       | 22500/105568 [1:19:22<4:55:03,  4.69it/s]"
     ]
    },
    {
     "name": "stdout",
     "output_type": "stream",
     "text": [
      "[Epoch 0 Batch 22500/105568] loss=0.4052, lr=0.0000050, acc=0.829 - time 0:01:45.743674\n"
     ]
    },
    {
     "name": "stderr",
     "output_type": "stream",
     "text": [
      " 21%|██▏       | 22685/105568 [1:20:01<4:51:43,  4.74it/s]2020-06-14 19:41:51,478 : INFO : wrote 5670 events to disk\n",
      " 22%|██▏       | 23000/105568 [1:21:08<4:51:07,  4.73it/s]"
     ]
    },
    {
     "name": "stdout",
     "output_type": "stream",
     "text": [
      "[Epoch 0 Batch 23000/105568] loss=0.3961, lr=0.0000050, acc=0.830 - time 0:01:45.877523\n"
     ]
    },
    {
     "name": "stderr",
     "output_type": "stream",
     "text": [
      " 22%|██▏       | 23500/105568 [1:22:54<4:48:24,  4.74it/s]"
     ]
    },
    {
     "name": "stdout",
     "output_type": "stream",
     "text": [
      "[Epoch 0 Batch 23500/105568] loss=0.3900, lr=0.0000050, acc=0.830 - time 0:01:45.834308\n"
     ]
    },
    {
     "name": "stderr",
     "output_type": "stream",
     "text": [
      " 23%|██▎       | 24000/105568 [1:24:39<4:44:43,  4.77it/s]"
     ]
    },
    {
     "name": "stdout",
     "output_type": "stream",
     "text": [
      "[Epoch 0 Batch 24000/105568] loss=0.3807, lr=0.0000050, acc=0.831 - time 0:01:45.760399\n"
     ]
    },
    {
     "name": "stderr",
     "output_type": "stream",
     "text": [
      " 23%|██▎       | 24500/105568 [1:26:25<4:47:29,  4.70it/s]"
     ]
    },
    {
     "name": "stdout",
     "output_type": "stream",
     "text": [
      "[Epoch 0 Batch 24500/105568] loss=0.3816, lr=0.0000050, acc=0.831 - time 0:01:46.005559\n"
     ]
    },
    {
     "name": "stderr",
     "output_type": "stream",
     "text": [
      " 24%|██▎       | 25000/105568 [1:28:11<4:45:34,  4.70it/s]"
     ]
    },
    {
     "name": "stdout",
     "output_type": "stream",
     "text": [
      "[Epoch 0 Batch 25000/105568] loss=0.3911, lr=0.0000050, acc=0.831 - time 0:01:45.861513\n"
     ]
    },
    {
     "name": "stderr",
     "output_type": "stream",
     "text": [
      " 24%|██▍       | 25500/105568 [1:29:57<4:42:37,  4.72it/s]"
     ]
    },
    {
     "name": "stdout",
     "output_type": "stream",
     "text": [
      "[Epoch 0 Batch 25500/105568] loss=0.3747, lr=0.0000050, acc=0.832 - time 0:01:45.841014\n"
     ]
    },
    {
     "name": "stderr",
     "output_type": "stream",
     "text": [
      " 24%|██▍       | 25519/105568 [1:30:01<4:41:36,  4.74it/s]2020-06-14 19:51:51,485 : INFO : wrote 5668 events to disk\n",
      " 25%|██▍       | 26000/105568 [1:31:43<4:39:13,  4.75it/s]"
     ]
    },
    {
     "name": "stdout",
     "output_type": "stream",
     "text": [
      "[Epoch 0 Batch 26000/105568] loss=0.3625, lr=0.0000050, acc=0.833 - time 0:01:45.752300\n"
     ]
    },
    {
     "name": "stderr",
     "output_type": "stream",
     "text": [
      " 25%|██▌       | 26500/105568 [1:33:29<4:39:09,  4.72it/s]"
     ]
    },
    {
     "name": "stdout",
     "output_type": "stream",
     "text": [
      "[Epoch 0 Batch 26500/105568] loss=0.3798, lr=0.0000050, acc=0.833 - time 0:01:45.754971\n"
     ]
    },
    {
     "name": "stderr",
     "output_type": "stream",
     "text": [
      " 26%|██▌       | 27000/105568 [1:35:14<4:35:27,  4.75it/s]"
     ]
    },
    {
     "name": "stdout",
     "output_type": "stream",
     "text": [
      "[Epoch 0 Batch 27000/105568] loss=0.3638, lr=0.0000050, acc=0.834 - time 0:01:45.756003\n"
     ]
    },
    {
     "name": "stderr",
     "output_type": "stream",
     "text": [
      " 26%|██▌       | 27500/105568 [1:37:00<4:41:28,  4.62it/s]"
     ]
    },
    {
     "name": "stdout",
     "output_type": "stream",
     "text": [
      "[Epoch 0 Batch 27500/105568] loss=0.3924, lr=0.0000050, acc=0.834 - time 0:01:45.705334\n"
     ]
    },
    {
     "name": "stderr",
     "output_type": "stream",
     "text": [
      " 27%|██▋       | 28000/105568 [1:38:46<4:31:03,  4.77it/s]"
     ]
    },
    {
     "name": "stdout",
     "output_type": "stream",
     "text": [
      "[Epoch 0 Batch 28000/105568] loss=0.3786, lr=0.0000050, acc=0.834 - time 0:01:45.794405\n"
     ]
    },
    {
     "name": "stderr",
     "output_type": "stream",
     "text": [
      " 27%|██▋       | 28356/105568 [1:40:01<4:29:33,  4.77it/s]2020-06-14 20:01:51,561 : INFO : wrote 5674 events to disk\n",
      " 27%|██▋       | 28500/105568 [1:40:32<4:29:39,  4.76it/s]"
     ]
    },
    {
     "name": "stdout",
     "output_type": "stream",
     "text": [
      "[Epoch 0 Batch 28500/105568] loss=0.3898, lr=0.0000050, acc=0.835 - time 0:01:45.782526\n"
     ]
    },
    {
     "name": "stderr",
     "output_type": "stream",
     "text": [
      " 27%|██▋       | 29000/105568 [1:42:17<4:30:06,  4.72it/s]"
     ]
    },
    {
     "name": "stdout",
     "output_type": "stream",
     "text": [
      "[Epoch 0 Batch 29000/105568] loss=0.3947, lr=0.0000050, acc=0.835 - time 0:01:45.708109\n"
     ]
    },
    {
     "name": "stderr",
     "output_type": "stream",
     "text": [
      " 28%|██▊       | 29500/105568 [1:44:03<4:27:38,  4.74it/s]"
     ]
    },
    {
     "name": "stdout",
     "output_type": "stream",
     "text": [
      "[Epoch 0 Batch 29500/105568] loss=0.3747, lr=0.0000050, acc=0.835 - time 0:01:45.498279\n"
     ]
    },
    {
     "name": "stderr",
     "output_type": "stream",
     "text": [
      " 28%|██▊       | 30000/105568 [1:45:49<4:28:47,  4.69it/s]"
     ]
    },
    {
     "name": "stdout",
     "output_type": "stream",
     "text": [
      "[Epoch 0 Batch 30000/105568] loss=0.3887, lr=0.0000050, acc=0.835 - time 0:01:45.706465\n"
     ]
    },
    {
     "name": "stderr",
     "output_type": "stream",
     "text": [
      " 29%|██▉       | 30500/105568 [1:47:34<4:25:45,  4.71it/s]"
     ]
    },
    {
     "name": "stdout",
     "output_type": "stream",
     "text": [
      "[Epoch 0 Batch 30500/105568] loss=0.3769, lr=0.0000050, acc=0.836 - time 0:01:45.567394\n"
     ]
    },
    {
     "name": "stderr",
     "output_type": "stream",
     "text": [
      " 29%|██▉       | 31000/105568 [1:49:20<4:19:55,  4.78it/s]"
     ]
    },
    {
     "name": "stdout",
     "output_type": "stream",
     "text": [
      "[Epoch 0 Batch 31000/105568] loss=0.3900, lr=0.0000050, acc=0.836 - time 0:01:45.738900\n"
     ]
    },
    {
     "name": "stderr",
     "output_type": "stream",
     "text": [
      " 30%|██▉       | 31194/105568 [1:50:01<4:20:17,  4.76it/s]2020-06-14 20:11:51,646 : INFO : wrote 5676 events to disk\n",
      " 30%|██▉       | 31500/105568 [1:51:06<4:21:31,  4.72it/s]"
     ]
    },
    {
     "name": "stdout",
     "output_type": "stream",
     "text": [
      "[Epoch 0 Batch 31500/105568] loss=0.3951, lr=0.0000050, acc=0.836 - time 0:01:46.086244\n"
     ]
    },
    {
     "name": "stderr",
     "output_type": "stream",
     "text": [
      " 30%|███       | 32000/105568 [1:52:52<4:19:52,  4.72it/s]"
     ]
    },
    {
     "name": "stdout",
     "output_type": "stream",
     "text": [
      "[Epoch 0 Batch 32000/105568] loss=0.3910, lr=0.0000050, acc=0.836 - time 0:01:45.890945\n"
     ]
    },
    {
     "name": "stderr",
     "output_type": "stream",
     "text": [
      " 31%|███       | 32500/105568 [1:54:38<4:22:49,  4.63it/s]"
     ]
    },
    {
     "name": "stdout",
     "output_type": "stream",
     "text": [
      "[Epoch 0 Batch 32500/105568] loss=0.3888, lr=0.0000050, acc=0.837 - time 0:01:45.694147\n"
     ]
    },
    {
     "name": "stderr",
     "output_type": "stream",
     "text": [
      " 31%|███▏      | 33000/105568 [1:56:23<4:15:45,  4.73it/s]"
     ]
    },
    {
     "name": "stdout",
     "output_type": "stream",
     "text": [
      "[Epoch 0 Batch 33000/105568] loss=0.3890, lr=0.0000050, acc=0.837 - time 0:01:45.716207\n"
     ]
    },
    {
     "name": "stderr",
     "output_type": "stream",
     "text": [
      " 32%|███▏      | 33500/105568 [1:58:09<4:17:26,  4.67it/s]"
     ]
    },
    {
     "name": "stdout",
     "output_type": "stream",
     "text": [
      "[Epoch 0 Batch 33500/105568] loss=0.3816, lr=0.0000050, acc=0.837 - time 0:01:45.639468\n"
     ]
    },
    {
     "name": "stderr",
     "output_type": "stream",
     "text": [
      " 32%|███▏      | 34000/105568 [1:59:55<4:18:27,  4.62it/s]"
     ]
    },
    {
     "name": "stdout",
     "output_type": "stream",
     "text": [
      "[Epoch 0 Batch 34000/105568] loss=0.3671, lr=0.0000050, acc=0.837 - time 0:01:45.756962\n"
     ]
    },
    {
     "name": "stderr",
     "output_type": "stream",
     "text": [
      " 32%|███▏      | 34032/105568 [2:00:01<4:12:29,  4.72it/s]2020-06-14 20:21:51,812 : INFO : wrote 5676 events to disk\n",
      " 33%|███▎      | 34500/105568 [2:01:40<4:09:58,  4.74it/s]"
     ]
    },
    {
     "name": "stdout",
     "output_type": "stream",
     "text": [
      "[Epoch 0 Batch 34500/105568] loss=0.3806, lr=0.0000050, acc=0.837 - time 0:01:45.511633\n"
     ]
    },
    {
     "name": "stderr",
     "output_type": "stream",
     "text": [
      " 33%|███▎      | 35000/105568 [2:03:26<4:07:22,  4.75it/s]"
     ]
    },
    {
     "name": "stdout",
     "output_type": "stream",
     "text": [
      "[Epoch 0 Batch 35000/105568] loss=0.3790, lr=0.0000050, acc=0.838 - time 0:01:45.678525\n"
     ]
    },
    {
     "name": "stderr",
     "output_type": "stream",
     "text": [
      " 34%|███▎      | 35500/105568 [2:05:11<4:08:00,  4.71it/s]"
     ]
    },
    {
     "name": "stdout",
     "output_type": "stream",
     "text": [
      "[Epoch 0 Batch 35500/105568] loss=0.3789, lr=0.0000050, acc=0.838 - time 0:01:45.467279\n"
     ]
    },
    {
     "name": "stderr",
     "output_type": "stream",
     "text": [
      " 34%|███▍      | 36000/105568 [2:06:57<4:06:18,  4.71it/s]"
     ]
    },
    {
     "name": "stdout",
     "output_type": "stream",
     "text": [
      "[Epoch 0 Batch 36000/105568] loss=0.3824, lr=0.0000050, acc=0.838 - time 0:01:45.758837\n"
     ]
    },
    {
     "name": "stderr",
     "output_type": "stream",
     "text": [
      " 35%|███▍      | 36500/105568 [2:08:43<4:02:05,  4.75it/s]"
     ]
    },
    {
     "name": "stdout",
     "output_type": "stream",
     "text": [
      "[Epoch 0 Batch 36500/105568] loss=0.3648, lr=0.0000050, acc=0.838 - time 0:01:45.833531\n"
     ]
    },
    {
     "name": "stderr",
     "output_type": "stream",
     "text": [
      " 35%|███▍      | 36872/105568 [2:10:02<4:02:10,  4.73it/s]2020-06-14 20:31:51,893 : INFO : wrote 5680 events to disk\n",
      " 35%|███▌      | 37000/105568 [2:10:29<4:01:33,  4.73it/s]"
     ]
    },
    {
     "name": "stdout",
     "output_type": "stream",
     "text": [
      "[Epoch 0 Batch 37000/105568] loss=0.3759, lr=0.0000050, acc=0.839 - time 0:01:45.608107\n"
     ]
    },
    {
     "name": "stderr",
     "output_type": "stream",
     "text": [
      " 36%|███▌      | 37500/105568 [2:12:14<3:58:01,  4.77it/s]"
     ]
    },
    {
     "name": "stdout",
     "output_type": "stream",
     "text": [
      "[Epoch 0 Batch 37500/105568] loss=0.3735, lr=0.0000050, acc=0.839 - time 0:01:45.593715\n"
     ]
    },
    {
     "name": "stderr",
     "output_type": "stream",
     "text": [
      " 36%|███▌      | 38000/105568 [2:14:00<3:56:38,  4.76it/s]"
     ]
    },
    {
     "name": "stdout",
     "output_type": "stream",
     "text": [
      "[Epoch 0 Batch 38000/105568] loss=0.3723, lr=0.0000050, acc=0.839 - time 0:01:45.637491\n"
     ]
    },
    {
     "name": "stderr",
     "output_type": "stream",
     "text": [
      " 36%|███▋      | 38500/105568 [2:15:45<3:55:29,  4.75it/s]"
     ]
    },
    {
     "name": "stdout",
     "output_type": "stream",
     "text": [
      "[Epoch 0 Batch 38500/105568] loss=0.3877, lr=0.0000050, acc=0.839 - time 0:01:45.386353\n"
     ]
    },
    {
     "name": "stderr",
     "output_type": "stream",
     "text": [
      " 37%|███▋      | 39000/105568 [2:17:31<3:50:48,  4.81it/s]"
     ]
    },
    {
     "name": "stdout",
     "output_type": "stream",
     "text": [
      "[Epoch 0 Batch 39000/105568] loss=0.3846, lr=0.0000050, acc=0.840 - time 0:01:45.692020\n"
     ]
    },
    {
     "name": "stderr",
     "output_type": "stream",
     "text": [
      " 37%|███▋      | 39500/105568 [2:19:17<3:54:57,  4.69it/s]"
     ]
    },
    {
     "name": "stdout",
     "output_type": "stream",
     "text": [
      "[Epoch 0 Batch 39500/105568] loss=0.3792, lr=0.0000050, acc=0.840 - time 0:01:46.252234\n"
     ]
    },
    {
     "name": "stderr",
     "output_type": "stream",
     "text": [
      " 38%|███▊      | 39710/105568 [2:20:02<3:53:35,  4.70it/s]2020-06-14 20:41:51,895 : INFO : wrote 5676 events to disk\n",
      " 38%|███▊      | 40000/105568 [2:21:03<3:52:33,  4.70it/s]"
     ]
    },
    {
     "name": "stdout",
     "output_type": "stream",
     "text": [
      "[Epoch 0 Batch 40000/105568] loss=0.3868, lr=0.0000050, acc=0.840 - time 0:01:45.727284\n"
     ]
    },
    {
     "name": "stderr",
     "output_type": "stream",
     "text": [
      " 38%|███▊      | 40500/105568 [2:22:48<3:49:18,  4.73it/s]"
     ]
    },
    {
     "name": "stdout",
     "output_type": "stream",
     "text": [
      "[Epoch 0 Batch 40500/105568] loss=0.4026, lr=0.0000050, acc=0.840 - time 0:01:45.503418\n"
     ]
    },
    {
     "name": "stderr",
     "output_type": "stream",
     "text": [
      " 39%|███▉      | 41000/105568 [2:24:34<3:46:52,  4.74it/s]"
     ]
    },
    {
     "name": "stdout",
     "output_type": "stream",
     "text": [
      "[Epoch 0 Batch 41000/105568] loss=0.3910, lr=0.0000050, acc=0.841 - time 0:01:45.478842\n"
     ]
    },
    {
     "name": "stderr",
     "output_type": "stream",
     "text": [
      " 39%|███▉      | 41500/105568 [2:26:19<3:47:32,  4.69it/s]"
     ]
    },
    {
     "name": "stdout",
     "output_type": "stream",
     "text": [
      "[Epoch 0 Batch 41500/105568] loss=0.3899, lr=0.0000050, acc=0.841 - time 0:01:45.518107\n"
     ]
    },
    {
     "name": "stderr",
     "output_type": "stream",
     "text": [
      " 40%|███▉      | 42000/105568 [2:28:05<3:42:39,  4.76it/s]"
     ]
    },
    {
     "name": "stdout",
     "output_type": "stream",
     "text": [
      "[Epoch 0 Batch 42000/105568] loss=0.3818, lr=0.0000050, acc=0.841 - time 0:01:45.432265\n"
     ]
    },
    {
     "name": "stderr",
     "output_type": "stream",
     "text": [
      " 40%|████      | 42500/105568 [2:29:50<3:46:20,  4.64it/s]"
     ]
    },
    {
     "name": "stdout",
     "output_type": "stream",
     "text": [
      "[Epoch 0 Batch 42500/105568] loss=0.3757, lr=0.0000050, acc=0.841 - time 0:01:45.465801\n"
     ]
    },
    {
     "name": "stderr",
     "output_type": "stream",
     "text": [
      " 40%|████      | 42554/105568 [2:30:02<3:42:13,  4.73it/s]2020-06-14 20:51:51,980 : INFO : wrote 5688 events to disk\n",
      " 41%|████      | 43000/105568 [2:31:36<3:39:19,  4.75it/s]"
     ]
    },
    {
     "name": "stdout",
     "output_type": "stream",
     "text": [
      "[Epoch 0 Batch 43000/105568] loss=0.3907, lr=0.0000050, acc=0.842 - time 0:01:45.574355\n"
     ]
    },
    {
     "name": "stderr",
     "output_type": "stream",
     "text": [
      " 41%|████      | 43500/105568 [2:33:22<3:39:23,  4.72it/s]"
     ]
    },
    {
     "name": "stdout",
     "output_type": "stream",
     "text": [
      "[Epoch 0 Batch 43500/105568] loss=0.3848, lr=0.0000050, acc=0.842 - time 0:01:45.689384\n"
     ]
    },
    {
     "name": "stderr",
     "output_type": "stream",
     "text": [
      " 42%|████▏     | 44000/105568 [2:35:07<3:36:47,  4.73it/s]"
     ]
    },
    {
     "name": "stdout",
     "output_type": "stream",
     "text": [
      "[Epoch 0 Batch 44000/105568] loss=0.3578, lr=0.0000050, acc=0.842 - time 0:01:45.608030\n"
     ]
    },
    {
     "name": "stderr",
     "output_type": "stream",
     "text": [
      " 42%|████▏     | 44500/105568 [2:36:53<3:33:15,  4.77it/s]"
     ]
    },
    {
     "name": "stdout",
     "output_type": "stream",
     "text": [
      "[Epoch 0 Batch 44500/105568] loss=0.3738, lr=0.0000050, acc=0.842 - time 0:01:45.459470\n"
     ]
    },
    {
     "name": "stderr",
     "output_type": "stream",
     "text": [
      " 43%|████▎     | 45000/105568 [2:38:38<3:34:00,  4.72it/s]"
     ]
    },
    {
     "name": "stdout",
     "output_type": "stream",
     "text": [
      "[Epoch 0 Batch 45000/105568] loss=0.3951, lr=0.0000050, acc=0.843 - time 0:01:45.709759\n"
     ]
    },
    {
     "name": "stderr",
     "output_type": "stream",
     "text": [
      " 43%|████▎     | 45395/105568 [2:40:02<3:34:11,  4.68it/s]2020-06-14 21:01:52,102 : INFO : wrote 5682 events to disk\n",
      " 43%|████▎     | 45500/105568 [2:40:24<3:31:17,  4.74it/s]"
     ]
    },
    {
     "name": "stdout",
     "output_type": "stream",
     "text": [
      "[Epoch 0 Batch 45500/105568] loss=0.3954, lr=0.0000050, acc=0.843 - time 0:01:45.684770\n"
     ]
    },
    {
     "name": "stderr",
     "output_type": "stream",
     "text": [
      " 44%|████▎     | 46000/105568 [2:42:10<3:31:04,  4.70it/s]"
     ]
    },
    {
     "name": "stdout",
     "output_type": "stream",
     "text": [
      "[Epoch 0 Batch 46000/105568] loss=0.3980, lr=0.0000050, acc=0.843 - time 0:01:45.698668\n"
     ]
    },
    {
     "name": "stderr",
     "output_type": "stream",
     "text": [
      " 44%|████▍     | 46500/105568 [2:43:56<3:29:04,  4.71it/s]"
     ]
    },
    {
     "name": "stdout",
     "output_type": "stream",
     "text": [
      "[Epoch 0 Batch 46500/105568] loss=0.3710, lr=0.0000050, acc=0.843 - time 0:01:46.027930\n"
     ]
    },
    {
     "name": "stderr",
     "output_type": "stream",
     "text": [
      " 45%|████▍     | 47000/105568 [2:45:41<3:24:57,  4.76it/s]"
     ]
    },
    {
     "name": "stdout",
     "output_type": "stream",
     "text": [
      "[Epoch 0 Batch 47000/105568] loss=0.4034, lr=0.0000050, acc=0.843 - time 0:01:45.572713\n"
     ]
    },
    {
     "name": "stderr",
     "output_type": "stream",
     "text": [
      " 45%|████▍     | 47500/105568 [2:47:27<3:25:07,  4.72it/s]"
     ]
    },
    {
     "name": "stdout",
     "output_type": "stream",
     "text": [
      "[Epoch 0 Batch 47500/105568] loss=0.3742, lr=0.0000050, acc=0.843 - time 0:01:45.666530\n"
     ]
    },
    {
     "name": "stderr",
     "output_type": "stream",
     "text": [
      " 45%|████▌     | 48000/105568 [2:49:13<3:22:54,  4.73it/s]"
     ]
    },
    {
     "name": "stdout",
     "output_type": "stream",
     "text": [
      "[Epoch 0 Batch 48000/105568] loss=0.3898, lr=0.0000050, acc=0.843 - time 0:01:45.766062\n"
     ]
    },
    {
     "name": "stderr",
     "output_type": "stream",
     "text": [
      " 46%|████▌     | 48233/105568 [2:50:02<3:23:40,  4.69it/s]2020-06-14 21:11:52,209 : INFO : wrote 5676 events to disk\n",
      " 46%|████▌     | 48500/105568 [2:50:58<3:22:09,  4.71it/s]"
     ]
    },
    {
     "name": "stdout",
     "output_type": "stream",
     "text": [
      "[Epoch 0 Batch 48500/105568] loss=0.3798, lr=0.0000050, acc=0.843 - time 0:01:45.512482\n"
     ]
    },
    {
     "name": "stderr",
     "output_type": "stream",
     "text": [
      " 46%|████▋     | 49000/105568 [2:52:44<3:17:37,  4.77it/s]"
     ]
    },
    {
     "name": "stdout",
     "output_type": "stream",
     "text": [
      "[Epoch 0 Batch 49000/105568] loss=0.3922, lr=0.0000050, acc=0.844 - time 0:01:45.507002\n"
     ]
    },
    {
     "name": "stderr",
     "output_type": "stream",
     "text": [
      " 47%|████▋     | 49500/105568 [2:54:29<3:24:11,  4.58it/s]"
     ]
    },
    {
     "name": "stdout",
     "output_type": "stream",
     "text": [
      "[Epoch 0 Batch 49500/105568] loss=0.3721, lr=0.0000050, acc=0.844 - time 0:01:45.683652\n"
     ]
    },
    {
     "name": "stderr",
     "output_type": "stream",
     "text": [
      " 47%|████▋     | 50000/105568 [2:56:15<3:14:17,  4.77it/s]"
     ]
    },
    {
     "name": "stdout",
     "output_type": "stream",
     "text": [
      "[Epoch 0 Batch 50000/105568] loss=0.3646, lr=0.0000050, acc=0.844 - time 0:01:45.686929\n"
     ]
    },
    {
     "name": "stderr",
     "output_type": "stream",
     "text": [
      " 48%|████▊     | 50500/105568 [2:58:01<3:13:45,  4.74it/s]"
     ]
    },
    {
     "name": "stdout",
     "output_type": "stream",
     "text": [
      "[Epoch 0 Batch 50500/105568] loss=0.3788, lr=0.0000050, acc=0.844 - time 0:01:45.663621\n"
     ]
    },
    {
     "name": "stderr",
     "output_type": "stream",
     "text": [
      " 48%|████▊     | 51000/105568 [2:59:46<3:12:40,  4.72it/s]"
     ]
    },
    {
     "name": "stdout",
     "output_type": "stream",
     "text": [
      "[Epoch 0 Batch 51000/105568] loss=0.3817, lr=0.0000050, acc=0.844 - time 0:01:45.615639\n"
     ]
    },
    {
     "name": "stderr",
     "output_type": "stream",
     "text": [
      " 48%|████▊     | 51074/105568 [3:00:02<3:13:21,  4.70it/s]2020-06-14 21:21:52,361 : INFO : wrote 5682 events to disk\n",
      " 49%|████▉     | 51500/105568 [3:01:32<3:11:21,  4.71it/s]"
     ]
    },
    {
     "name": "stdout",
     "output_type": "stream",
     "text": [
      "[Epoch 0 Batch 51500/105568] loss=0.3835, lr=0.0000050, acc=0.844 - time 0:01:45.667900\n"
     ]
    },
    {
     "name": "stderr",
     "output_type": "stream",
     "text": [
      " 49%|████▉     | 52000/105568 [3:03:18<3:08:12,  4.74it/s]"
     ]
    },
    {
     "name": "stdout",
     "output_type": "stream",
     "text": [
      "[Epoch 0 Batch 52000/105568] loss=0.3690, lr=0.0000050, acc=0.845 - time 0:01:45.508249\n"
     ]
    },
    {
     "name": "stderr",
     "output_type": "stream",
     "text": [
      " 50%|████▉     | 52500/105568 [3:05:03<3:06:44,  4.74it/s]"
     ]
    },
    {
     "name": "stdout",
     "output_type": "stream",
     "text": [
      "[Epoch 0 Batch 52500/105568] loss=0.3581, lr=0.0000050, acc=0.845 - time 0:01:45.625636\n"
     ]
    },
    {
     "name": "stderr",
     "output_type": "stream",
     "text": [
      " 50%|█████     | 53000/105568 [3:06:49<3:05:09,  4.73it/s]"
     ]
    },
    {
     "name": "stdout",
     "output_type": "stream",
     "text": [
      "[Epoch 0 Batch 53000/105568] loss=0.3661, lr=0.0000050, acc=0.845 - time 0:01:45.998837\n"
     ]
    },
    {
     "name": "stderr",
     "output_type": "stream",
     "text": [
      " 51%|█████     | 53500/105568 [3:08:35<3:04:06,  4.71it/s]"
     ]
    },
    {
     "name": "stdout",
     "output_type": "stream",
     "text": [
      "[Epoch 0 Batch 53500/105568] loss=0.3866, lr=0.0000050, acc=0.845 - time 0:01:45.497940\n"
     ]
    },
    {
     "name": "stderr",
     "output_type": "stream",
     "text": [
      " 51%|█████     | 53914/105568 [3:10:02<3:01:27,  4.74it/s]2020-06-14 21:31:52,428 : INFO : wrote 5680 events to disk\n",
      " 51%|█████     | 54000/105568 [3:10:20<3:01:36,  4.73it/s]"
     ]
    },
    {
     "name": "stdout",
     "output_type": "stream",
     "text": [
      "[Epoch 0 Batch 54000/105568] loss=0.3648, lr=0.0000050, acc=0.845 - time 0:01:45.639253\n"
     ]
    },
    {
     "name": "stderr",
     "output_type": "stream",
     "text": [
      " 52%|█████▏    | 54500/105568 [3:12:06<2:59:48,  4.73it/s]"
     ]
    },
    {
     "name": "stdout",
     "output_type": "stream",
     "text": [
      "[Epoch 0 Batch 54500/105568] loss=0.3793, lr=0.0000050, acc=0.846 - time 0:01:45.663104\n"
     ]
    },
    {
     "name": "stderr",
     "output_type": "stream",
     "text": [
      " 52%|█████▏    | 55000/105568 [3:13:52<2:57:18,  4.75it/s]"
     ]
    },
    {
     "name": "stdout",
     "output_type": "stream",
     "text": [
      "[Epoch 0 Batch 55000/105568] loss=0.3938, lr=0.0000050, acc=0.846 - time 0:01:45.668575\n"
     ]
    },
    {
     "name": "stderr",
     "output_type": "stream",
     "text": [
      " 53%|█████▎    | 55500/105568 [3:15:37<2:55:25,  4.76it/s]"
     ]
    },
    {
     "name": "stdout",
     "output_type": "stream",
     "text": [
      "[Epoch 0 Batch 55500/105568] loss=0.3907, lr=0.0000050, acc=0.846 - time 0:01:45.732164\n"
     ]
    },
    {
     "name": "stderr",
     "output_type": "stream",
     "text": [
      " 53%|█████▎    | 56000/105568 [3:17:23<2:53:09,  4.77it/s]"
     ]
    },
    {
     "name": "stdout",
     "output_type": "stream",
     "text": [
      "[Epoch 0 Batch 56000/105568] loss=0.3990, lr=0.0000050, acc=0.846 - time 0:01:45.569276\n"
     ]
    },
    {
     "name": "stderr",
     "output_type": "stream",
     "text": [
      " 54%|█████▎    | 56500/105568 [3:19:09<2:55:11,  4.67it/s]"
     ]
    },
    {
     "name": "stdout",
     "output_type": "stream",
     "text": [
      "[Epoch 0 Batch 56500/105568] loss=0.3628, lr=0.0000050, acc=0.846 - time 0:01:45.777073\n"
     ]
    },
    {
     "name": "stderr",
     "output_type": "stream",
     "text": [
      " 54%|█████▍    | 56753/105568 [3:20:02<2:49:06,  4.81it/s]2020-06-14 21:41:52,459 : INFO : wrote 5678 events to disk\n",
      " 54%|█████▍    | 57000/105568 [3:20:54<2:50:29,  4.75it/s]"
     ]
    },
    {
     "name": "stdout",
     "output_type": "stream",
     "text": [
      "[Epoch 0 Batch 57000/105568] loss=0.3805, lr=0.0000050, acc=0.846 - time 0:01:45.708411\n"
     ]
    },
    {
     "name": "stderr",
     "output_type": "stream",
     "text": [
      " 54%|█████▍    | 57500/105568 [3:22:40<2:48:46,  4.75it/s]"
     ]
    },
    {
     "name": "stdout",
     "output_type": "stream",
     "text": [
      "[Epoch 0 Batch 57500/105568] loss=0.3716, lr=0.0000050, acc=0.846 - time 0:01:45.545266\n"
     ]
    },
    {
     "name": "stderr",
     "output_type": "stream",
     "text": [
      " 55%|█████▍    | 58000/105568 [3:24:26<2:46:25,  4.76it/s]"
     ]
    },
    {
     "name": "stdout",
     "output_type": "stream",
     "text": [
      "[Epoch 0 Batch 58000/105568] loss=0.4096, lr=0.0000050, acc=0.846 - time 0:01:45.611473\n"
     ]
    },
    {
     "name": "stderr",
     "output_type": "stream",
     "text": [
      " 55%|█████▌    | 58500/105568 [3:26:11<2:46:11,  4.72it/s]"
     ]
    },
    {
     "name": "stdout",
     "output_type": "stream",
     "text": [
      "[Epoch 0 Batch 58500/105568] loss=0.3756, lr=0.0000050, acc=0.846 - time 0:01:45.698943\n"
     ]
    },
    {
     "name": "stderr",
     "output_type": "stream",
     "text": [
      " 56%|█████▌    | 59000/105568 [3:27:57<2:44:27,  4.72it/s]"
     ]
    },
    {
     "name": "stdout",
     "output_type": "stream",
     "text": [
      "[Epoch 0 Batch 59000/105568] loss=0.3642, lr=0.0000050, acc=0.847 - time 0:01:46.124475\n"
     ]
    },
    {
     "name": "stderr",
     "output_type": "stream",
     "text": [
      " 56%|█████▋    | 59500/105568 [3:29:43<2:42:58,  4.71it/s]"
     ]
    },
    {
     "name": "stdout",
     "output_type": "stream",
     "text": [
      "[Epoch 0 Batch 59500/105568] loss=0.3861, lr=0.0000050, acc=0.847 - time 0:01:45.601992\n"
     ]
    },
    {
     "name": "stderr",
     "output_type": "stream",
     "text": [
      " 56%|█████▋    | 59591/105568 [3:30:02<2:43:36,  4.68it/s]2020-06-14 21:51:52,674 : INFO : wrote 5676 events to disk\n",
      " 57%|█████▋    | 60000/105568 [3:31:29<2:41:17,  4.71it/s]"
     ]
    },
    {
     "name": "stdout",
     "output_type": "stream",
     "text": [
      "[Epoch 0 Batch 60000/105568] loss=0.3765, lr=0.0000050, acc=0.847 - time 0:01:45.754394\n"
     ]
    },
    {
     "name": "stderr",
     "output_type": "stream",
     "text": [
      " 57%|█████▋    | 60500/105568 [3:33:14<2:40:04,  4.69it/s]"
     ]
    },
    {
     "name": "stdout",
     "output_type": "stream",
     "text": [
      "[Epoch 0 Batch 60500/105568] loss=0.3884, lr=0.0000050, acc=0.847 - time 0:01:45.588483\n"
     ]
    },
    {
     "name": "stderr",
     "output_type": "stream",
     "text": [
      " 58%|█████▊    | 61000/105568 [3:35:00<2:36:17,  4.75it/s]"
     ]
    },
    {
     "name": "stdout",
     "output_type": "stream",
     "text": [
      "[Epoch 0 Batch 61000/105568] loss=0.3466, lr=0.0000050, acc=0.847 - time 0:01:45.543153\n"
     ]
    },
    {
     "name": "stderr",
     "output_type": "stream",
     "text": [
      " 58%|█████▊    | 61500/105568 [3:36:46<2:35:56,  4.71it/s]"
     ]
    },
    {
     "name": "stdout",
     "output_type": "stream",
     "text": [
      "[Epoch 0 Batch 61500/105568] loss=0.3840, lr=0.0000050, acc=0.847 - time 0:01:45.741095\n"
     ]
    },
    {
     "name": "stderr",
     "output_type": "stream",
     "text": [
      " 59%|█████▊    | 62000/105568 [3:38:31<2:32:59,  4.75it/s]"
     ]
    },
    {
     "name": "stdout",
     "output_type": "stream",
     "text": [
      "[Epoch 0 Batch 62000/105568] loss=0.3623, lr=0.0000050, acc=0.847 - time 0:01:45.680938\n"
     ]
    },
    {
     "name": "stderr",
     "output_type": "stream",
     "text": [
      " 59%|█████▉    | 62432/105568 [3:40:03<2:30:11,  4.79it/s]2020-06-14 22:01:52,847 : INFO : wrote 5682 events to disk\n",
      " 59%|█████▉    | 62500/105568 [3:40:17<2:32:43,  4.70it/s]"
     ]
    },
    {
     "name": "stdout",
     "output_type": "stream",
     "text": [
      "[Epoch 0 Batch 62500/105568] loss=0.3844, lr=0.0000050, acc=0.848 - time 0:01:45.639178\n"
     ]
    },
    {
     "name": "stderr",
     "output_type": "stream",
     "text": [
      " 60%|█████▉    | 63000/105568 [3:42:03<2:30:48,  4.70it/s]"
     ]
    },
    {
     "name": "stdout",
     "output_type": "stream",
     "text": [
      "[Epoch 0 Batch 63000/105568] loss=0.3615, lr=0.0000050, acc=0.848 - time 0:01:45.771195\n"
     ]
    },
    {
     "name": "stderr",
     "output_type": "stream",
     "text": [
      " 60%|██████    | 63500/105568 [3:43:48<2:27:33,  4.75it/s]"
     ]
    },
    {
     "name": "stdout",
     "output_type": "stream",
     "text": [
      "[Epoch 0 Batch 63500/105568] loss=0.3755, lr=0.0000050, acc=0.848 - time 0:01:45.731409\n"
     ]
    },
    {
     "name": "stderr",
     "output_type": "stream",
     "text": [
      " 61%|██████    | 64000/105568 [3:45:34<2:25:52,  4.75it/s]"
     ]
    },
    {
     "name": "stdout",
     "output_type": "stream",
     "text": [
      "[Epoch 0 Batch 64000/105568] loss=0.3697, lr=0.0000050, acc=0.848 - time 0:01:45.486197\n"
     ]
    },
    {
     "name": "stderr",
     "output_type": "stream",
     "text": [
      " 61%|██████    | 64500/105568 [3:47:20<2:26:53,  4.66it/s]"
     ]
    },
    {
     "name": "stdout",
     "output_type": "stream",
     "text": [
      "[Epoch 0 Batch 64500/105568] loss=0.3671, lr=0.0000050, acc=0.848 - time 0:01:46.158198\n"
     ]
    },
    {
     "name": "stderr",
     "output_type": "stream",
     "text": [
      " 62%|██████▏   | 65000/105568 [3:49:06<2:24:28,  4.68it/s]"
     ]
    },
    {
     "name": "stdout",
     "output_type": "stream",
     "text": [
      "[Epoch 0 Batch 65000/105568] loss=0.3757, lr=0.0000050, acc=0.848 - time 0:01:45.515019\n"
     ]
    },
    {
     "name": "stderr",
     "output_type": "stream",
     "text": [
      " 62%|██████▏   | 65270/105568 [3:50:03<2:21:23,  4.75it/s]2020-06-14 22:11:52,990 : INFO : wrote 5676 events to disk\n",
      " 62%|██████▏   | 65500/105568 [3:50:51<2:20:40,  4.75it/s]"
     ]
    },
    {
     "name": "stdout",
     "output_type": "stream",
     "text": [
      "[Epoch 0 Batch 65500/105568] loss=0.3724, lr=0.0000050, acc=0.848 - time 0:01:45.437182\n"
     ]
    },
    {
     "name": "stderr",
     "output_type": "stream",
     "text": [
      " 63%|██████▎   | 66000/105568 [3:52:37<2:17:55,  4.78it/s]"
     ]
    },
    {
     "name": "stdout",
     "output_type": "stream",
     "text": [
      "[Epoch 0 Batch 66000/105568] loss=0.3816, lr=0.0000050, acc=0.848 - time 0:01:45.686240\n"
     ]
    },
    {
     "name": "stderr",
     "output_type": "stream",
     "text": [
      " 63%|██████▎   | 66500/105568 [3:54:22<2:16:12,  4.78it/s]"
     ]
    },
    {
     "name": "stdout",
     "output_type": "stream",
     "text": [
      "[Epoch 0 Batch 66500/105568] loss=0.3754, lr=0.0000050, acc=0.848 - time 0:01:45.634211\n"
     ]
    },
    {
     "name": "stderr",
     "output_type": "stream",
     "text": [
      " 63%|██████▎   | 67000/105568 [3:56:08<2:15:53,  4.73it/s]"
     ]
    },
    {
     "name": "stdout",
     "output_type": "stream",
     "text": [
      "[Epoch 0 Batch 67000/105568] loss=0.3717, lr=0.0000050, acc=0.849 - time 0:01:45.380557\n"
     ]
    },
    {
     "name": "stderr",
     "output_type": "stream",
     "text": [
      " 64%|██████▍   | 67500/105568 [3:57:53<2:14:17,  4.72it/s]"
     ]
    },
    {
     "name": "stdout",
     "output_type": "stream",
     "text": [
      "[Epoch 0 Batch 67500/105568] loss=0.3673, lr=0.0000050, acc=0.849 - time 0:01:45.583772\n"
     ]
    },
    {
     "name": "stderr",
     "output_type": "stream",
     "text": [
      " 64%|██████▍   | 68000/105568 [3:59:39<2:11:58,  4.74it/s]"
     ]
    },
    {
     "name": "stdout",
     "output_type": "stream",
     "text": [
      "[Epoch 0 Batch 68000/105568] loss=0.3970, lr=0.0000050, acc=0.849 - time 0:01:45.596333\n"
     ]
    },
    {
     "name": "stderr",
     "output_type": "stream",
     "text": [
      " 65%|██████▍   | 68112/105568 [4:00:03<2:10:08,  4.80it/s]2020-06-14 22:21:53,008 : INFO : wrote 5684 events to disk\n",
      " 65%|██████▍   | 68500/105568 [4:01:25<2:11:48,  4.69it/s]"
     ]
    },
    {
     "name": "stdout",
     "output_type": "stream",
     "text": [
      "[Epoch 0 Batch 68500/105568] loss=0.3827, lr=0.0000050, acc=0.849 - time 0:01:45.734020\n"
     ]
    },
    {
     "name": "stderr",
     "output_type": "stream",
     "text": [
      " 65%|██████▌   | 69000/105568 [4:03:10<2:06:47,  4.81it/s]"
     ]
    },
    {
     "name": "stdout",
     "output_type": "stream",
     "text": [
      "[Epoch 0 Batch 69000/105568] loss=0.3804, lr=0.0000050, acc=0.849 - time 0:01:45.451772\n"
     ]
    },
    {
     "name": "stderr",
     "output_type": "stream",
     "text": [
      " 66%|██████▌   | 69500/105568 [4:04:56<2:07:49,  4.70it/s]"
     ]
    },
    {
     "name": "stdout",
     "output_type": "stream",
     "text": [
      "[Epoch 0 Batch 69500/105568] loss=0.3600, lr=0.0000050, acc=0.849 - time 0:01:45.484650\n"
     ]
    },
    {
     "name": "stderr",
     "output_type": "stream",
     "text": [
      " 66%|██████▋   | 70000/105568 [4:06:41<2:04:13,  4.77it/s]"
     ]
    },
    {
     "name": "stdout",
     "output_type": "stream",
     "text": [
      "[Epoch 0 Batch 70000/105568] loss=0.3837, lr=0.0000050, acc=0.849 - time 0:01:45.647783\n"
     ]
    },
    {
     "name": "stderr",
     "output_type": "stream",
     "text": [
      " 67%|██████▋   | 70500/105568 [4:08:27<2:03:14,  4.74it/s]"
     ]
    },
    {
     "name": "stdout",
     "output_type": "stream",
     "text": [
      "[Epoch 0 Batch 70500/105568] loss=0.3898, lr=0.0000050, acc=0.849 - time 0:01:45.999754\n"
     ]
    },
    {
     "name": "stderr",
     "output_type": "stream",
     "text": [
      " 67%|██████▋   | 70953/105568 [4:10:03<2:02:09,  4.72it/s]2020-06-14 22:31:53,213 : INFO : wrote 5682 events to disk\n",
      " 67%|██████▋   | 71000/105568 [4:10:13<2:01:03,  4.76it/s]"
     ]
    },
    {
     "name": "stdout",
     "output_type": "stream",
     "text": [
      "[Epoch 0 Batch 71000/105568] loss=0.3734, lr=0.0000050, acc=0.849 - time 0:01:45.564027\n"
     ]
    },
    {
     "name": "stderr",
     "output_type": "stream",
     "text": [
      " 68%|██████▊   | 71500/105568 [4:11:58<2:00:57,  4.69it/s]"
     ]
    },
    {
     "name": "stdout",
     "output_type": "stream",
     "text": [
      "[Epoch 0 Batch 71500/105568] loss=0.3669, lr=0.0000050, acc=0.849 - time 0:01:45.541860\n"
     ]
    },
    {
     "name": "stderr",
     "output_type": "stream",
     "text": [
      " 68%|██████▊   | 72000/105568 [4:13:44<1:57:50,  4.75it/s]"
     ]
    },
    {
     "name": "stdout",
     "output_type": "stream",
     "text": [
      "[Epoch 0 Batch 72000/105568] loss=0.3878, lr=0.0000050, acc=0.850 - time 0:01:45.425929\n"
     ]
    },
    {
     "name": "stderr",
     "output_type": "stream",
     "text": [
      " 69%|██████▊   | 72500/105568 [4:15:29<1:55:04,  4.79it/s]"
     ]
    },
    {
     "name": "stdout",
     "output_type": "stream",
     "text": [
      "[Epoch 0 Batch 72500/105568] loss=0.3775, lr=0.0000050, acc=0.850 - time 0:01:45.518898\n"
     ]
    },
    {
     "name": "stderr",
     "output_type": "stream",
     "text": [
      " 69%|██████▉   | 73000/105568 [4:17:15<1:53:50,  4.77it/s]"
     ]
    },
    {
     "name": "stdout",
     "output_type": "stream",
     "text": [
      "[Epoch 0 Batch 73000/105568] loss=0.3749, lr=0.0000050, acc=0.850 - time 0:01:45.555358\n"
     ]
    },
    {
     "name": "stderr",
     "output_type": "stream",
     "text": [
      " 70%|██████▉   | 73500/105568 [4:19:00<1:53:45,  4.70it/s]"
     ]
    },
    {
     "name": "stdout",
     "output_type": "stream",
     "text": [
      "[Epoch 0 Batch 73500/105568] loss=0.3692, lr=0.0000050, acc=0.850 - time 0:01:45.511361\n"
     ]
    },
    {
     "name": "stderr",
     "output_type": "stream",
     "text": [
      " 70%|██████▉   | 73796/105568 [4:20:03<1:52:13,  4.72it/s]2020-06-14 22:41:53,228 : INFO : wrote 5686 events to disk\n",
      " 70%|███████   | 74000/105568 [4:20:46<1:50:24,  4.77it/s]"
     ]
    },
    {
     "name": "stdout",
     "output_type": "stream",
     "text": [
      "[Epoch 0 Batch 74000/105568] loss=0.3713, lr=0.0000050, acc=0.850 - time 0:01:45.637396\n"
     ]
    },
    {
     "name": "stderr",
     "output_type": "stream",
     "text": [
      " 71%|███████   | 74500/105568 [4:22:31<1:50:05,  4.70it/s]"
     ]
    },
    {
     "name": "stdout",
     "output_type": "stream",
     "text": [
      "[Epoch 0 Batch 74500/105568] loss=0.3797, lr=0.0000050, acc=0.850 - time 0:01:45.407092\n"
     ]
    },
    {
     "name": "stderr",
     "output_type": "stream",
     "text": [
      " 71%|███████   | 75000/105568 [4:24:17<1:47:28,  4.74it/s]"
     ]
    },
    {
     "name": "stdout",
     "output_type": "stream",
     "text": [
      "[Epoch 0 Batch 75000/105568] loss=0.3554, lr=0.0000050, acc=0.850 - time 0:01:45.878706\n"
     ]
    },
    {
     "name": "stderr",
     "output_type": "stream",
     "text": [
      " 72%|███████▏  | 75500/105568 [4:26:03<1:45:28,  4.75it/s]"
     ]
    },
    {
     "name": "stdout",
     "output_type": "stream",
     "text": [
      "[Epoch 0 Batch 75500/105568] loss=0.3644, lr=0.0000050, acc=0.850 - time 0:01:45.744359\n"
     ]
    },
    {
     "name": "stderr",
     "output_type": "stream",
     "text": [
      " 72%|███████▏  | 76000/105568 [4:27:49<1:42:58,  4.79it/s]"
     ]
    },
    {
     "name": "stdout",
     "output_type": "stream",
     "text": [
      "[Epoch 0 Batch 76000/105568] loss=0.3677, lr=0.0000050, acc=0.850 - time 0:01:45.584126\n"
     ]
    },
    {
     "name": "stderr",
     "output_type": "stream",
     "text": [
      " 72%|███████▏  | 76500/105568 [4:29:34<1:41:37,  4.77it/s]"
     ]
    },
    {
     "name": "stdout",
     "output_type": "stream",
     "text": [
      "[Epoch 0 Batch 76500/105568] loss=0.3711, lr=0.0000050, acc=0.850 - time 0:01:45.597376\n"
     ]
    },
    {
     "name": "stderr",
     "output_type": "stream",
     "text": [
      " 73%|███████▎  | 76635/105568 [4:30:03<1:51:23,  4.33it/s]2020-06-14 22:51:53,366 : INFO : wrote 5678 events to disk\n",
      " 73%|███████▎  | 77000/105568 [4:31:20<1:40:02,  4.76it/s]"
     ]
    },
    {
     "name": "stdout",
     "output_type": "stream",
     "text": [
      "[Epoch 0 Batch 77000/105568] loss=0.3800, lr=0.0000050, acc=0.850 - time 0:01:45.875365\n"
     ]
    },
    {
     "name": "stderr",
     "output_type": "stream",
     "text": [
      " 73%|███████▎  | 77500/105568 [4:33:06<1:37:44,  4.79it/s]"
     ]
    },
    {
     "name": "stdout",
     "output_type": "stream",
     "text": [
      "[Epoch 0 Batch 77500/105568] loss=0.4033, lr=0.0000050, acc=0.850 - time 0:01:45.688588\n"
     ]
    },
    {
     "name": "stderr",
     "output_type": "stream",
     "text": [
      " 74%|███████▍  | 78000/105568 [4:34:51<1:37:29,  4.71it/s]"
     ]
    },
    {
     "name": "stdout",
     "output_type": "stream",
     "text": [
      "[Epoch 0 Batch 78000/105568] loss=0.3793, lr=0.0000050, acc=0.850 - time 0:01:45.636019\n"
     ]
    },
    {
     "name": "stderr",
     "output_type": "stream",
     "text": [
      " 74%|███████▍  | 78500/105568 [4:36:37<1:34:05,  4.79it/s]"
     ]
    },
    {
     "name": "stdout",
     "output_type": "stream",
     "text": [
      "[Epoch 0 Batch 78500/105568] loss=0.3732, lr=0.0000050, acc=0.851 - time 0:01:45.800203\n"
     ]
    },
    {
     "name": "stderr",
     "output_type": "stream",
     "text": [
      " 75%|███████▍  | 79000/105568 [4:38:23<1:32:43,  4.78it/s]"
     ]
    },
    {
     "name": "stdout",
     "output_type": "stream",
     "text": [
      "[Epoch 0 Batch 79000/105568] loss=0.3586, lr=0.0000050, acc=0.851 - time 0:01:45.547075\n"
     ]
    },
    {
     "name": "stderr",
     "output_type": "stream",
     "text": [
      " 75%|███████▌  | 79474/105568 [4:40:03<1:30:44,  4.79it/s]2020-06-14 23:01:53,375 : INFO : wrote 5678 events to disk\n",
      " 75%|███████▌  | 79500/105568 [4:40:09<1:31:58,  4.72it/s]"
     ]
    },
    {
     "name": "stdout",
     "output_type": "stream",
     "text": [
      "[Epoch 0 Batch 79500/105568] loss=0.3906, lr=0.0000050, acc=0.851 - time 0:01:45.755223\n"
     ]
    },
    {
     "name": "stderr",
     "output_type": "stream",
     "text": [
      " 76%|███████▌  | 80000/105568 [4:41:54<1:31:09,  4.67it/s]"
     ]
    },
    {
     "name": "stdout",
     "output_type": "stream",
     "text": [
      "[Epoch 0 Batch 80000/105568] loss=0.3770, lr=0.0000050, acc=0.851 - time 0:01:45.864944\n"
     ]
    },
    {
     "name": "stderr",
     "output_type": "stream",
     "text": [
      " 76%|███████▋  | 80500/105568 [4:43:40<1:28:03,  4.74it/s]"
     ]
    },
    {
     "name": "stdout",
     "output_type": "stream",
     "text": [
      "[Epoch 0 Batch 80500/105568] loss=0.3697, lr=0.0000050, acc=0.851 - time 0:01:45.560011\n"
     ]
    },
    {
     "name": "stderr",
     "output_type": "stream",
     "text": [
      " 77%|███████▋  | 81000/105568 [4:45:26<1:26:52,  4.71it/s]"
     ]
    },
    {
     "name": "stdout",
     "output_type": "stream",
     "text": [
      "[Epoch 0 Batch 81000/105568] loss=0.3664, lr=0.0000050, acc=0.851 - time 0:01:45.648707\n"
     ]
    },
    {
     "name": "stderr",
     "output_type": "stream",
     "text": [
      " 77%|███████▋  | 81500/105568 [4:47:11<1:25:40,  4.68it/s]"
     ]
    },
    {
     "name": "stdout",
     "output_type": "stream",
     "text": [
      "[Epoch 0 Batch 81500/105568] loss=0.3749, lr=0.0000050, acc=0.851 - time 0:01:45.821026\n"
     ]
    },
    {
     "name": "stderr",
     "output_type": "stream",
     "text": [
      " 78%|███████▊  | 82000/105568 [4:48:57<1:22:38,  4.75it/s]"
     ]
    },
    {
     "name": "stdout",
     "output_type": "stream",
     "text": [
      "[Epoch 0 Batch 82000/105568] loss=0.3735, lr=0.0000050, acc=0.851 - time 0:01:45.730983\n"
     ]
    },
    {
     "name": "stderr",
     "output_type": "stream",
     "text": [
      " 78%|███████▊  | 82312/105568 [4:50:03<1:21:00,  4.78it/s]2020-06-14 23:11:53,506 : INFO : wrote 5676 events to disk\n",
      " 78%|███████▊  | 82500/105568 [4:50:43<1:20:28,  4.78it/s]"
     ]
    },
    {
     "name": "stdout",
     "output_type": "stream",
     "text": [
      "[Epoch 0 Batch 82500/105568] loss=0.3833, lr=0.0000050, acc=0.851 - time 0:01:45.808850\n"
     ]
    },
    {
     "name": "stderr",
     "output_type": "stream",
     "text": [
      " 79%|███████▊  | 83000/105568 [4:52:29<1:20:00,  4.70it/s]"
     ]
    },
    {
     "name": "stdout",
     "output_type": "stream",
     "text": [
      "[Epoch 0 Batch 83000/105568] loss=0.3604, lr=0.0000050, acc=0.851 - time 0:01:45.748336\n"
     ]
    },
    {
     "name": "stderr",
     "output_type": "stream",
     "text": [
      " 79%|███████▉  | 83500/105568 [4:54:14<1:17:28,  4.75it/s]"
     ]
    },
    {
     "name": "stdout",
     "output_type": "stream",
     "text": [
      "[Epoch 0 Batch 83500/105568] loss=0.3524, lr=0.0000050, acc=0.851 - time 0:01:45.607762\n"
     ]
    },
    {
     "name": "stderr",
     "output_type": "stream",
     "text": [
      " 80%|███████▉  | 84000/105568 [4:56:00<1:15:35,  4.76it/s]"
     ]
    },
    {
     "name": "stdout",
     "output_type": "stream",
     "text": [
      "[Epoch 0 Batch 84000/105568] loss=0.3901, lr=0.0000050, acc=0.851 - time 0:01:45.521020\n"
     ]
    },
    {
     "name": "stderr",
     "output_type": "stream",
     "text": [
      " 80%|████████  | 84500/105568 [4:57:46<1:14:17,  4.73it/s]"
     ]
    },
    {
     "name": "stdout",
     "output_type": "stream",
     "text": [
      "[Epoch 0 Batch 84500/105568] loss=0.3572, lr=0.0000050, acc=0.851 - time 0:01:45.683084\n"
     ]
    },
    {
     "name": "stderr",
     "output_type": "stream",
     "text": [
      " 81%|████████  | 85000/105568 [4:59:31<1:12:16,  4.74it/s]"
     ]
    },
    {
     "name": "stdout",
     "output_type": "stream",
     "text": [
      "[Epoch 0 Batch 85000/105568] loss=0.3720, lr=0.0000050, acc=0.851 - time 0:01:45.761522\n"
     ]
    },
    {
     "name": "stderr",
     "output_type": "stream",
     "text": [
      " 81%|████████  | 85151/105568 [5:00:03<1:12:01,  4.72it/s]2020-06-14 23:21:53,589 : INFO : wrote 5678 events to disk\n",
      " 81%|████████  | 85500/105568 [5:01:17<1:11:22,  4.69it/s]"
     ]
    },
    {
     "name": "stdout",
     "output_type": "stream",
     "text": [
      "[Epoch 0 Batch 85500/105568] loss=0.3858, lr=0.0000050, acc=0.851 - time 0:01:46.126916\n"
     ]
    },
    {
     "name": "stderr",
     "output_type": "stream",
     "text": [
      " 81%|████████▏ | 86000/105568 [5:03:03<1:08:45,  4.74it/s]"
     ]
    },
    {
     "name": "stdout",
     "output_type": "stream",
     "text": [
      "[Epoch 0 Batch 86000/105568] loss=0.3551, lr=0.0000050, acc=0.852 - time 0:01:45.674196\n"
     ]
    },
    {
     "name": "stderr",
     "output_type": "stream",
     "text": [
      " 82%|████████▏ | 86500/105568 [5:04:49<1:07:11,  4.73it/s]"
     ]
    },
    {
     "name": "stdout",
     "output_type": "stream",
     "text": [
      "[Epoch 0 Batch 86500/105568] loss=0.3663, lr=0.0000050, acc=0.852 - time 0:01:45.763784\n"
     ]
    },
    {
     "name": "stderr",
     "output_type": "stream",
     "text": [
      " 82%|████████▏ | 87000/105568 [5:06:34<1:05:02,  4.76it/s]"
     ]
    },
    {
     "name": "stdout",
     "output_type": "stream",
     "text": [
      "[Epoch 0 Batch 87000/105568] loss=0.3670, lr=0.0000050, acc=0.852 - time 0:01:45.607663\n"
     ]
    },
    {
     "name": "stderr",
     "output_type": "stream",
     "text": [
      " 83%|████████▎ | 87500/105568 [5:08:20<1:03:26,  4.75it/s]"
     ]
    },
    {
     "name": "stdout",
     "output_type": "stream",
     "text": [
      "[Epoch 0 Batch 87500/105568] loss=0.3848, lr=0.0000050, acc=0.852 - time 0:01:45.554514\n"
     ]
    },
    {
     "name": "stderr",
     "output_type": "stream",
     "text": [
      " 83%|████████▎ | 87989/105568 [5:10:03<1:01:22,  4.77it/s]2020-06-14 23:31:53,742 : INFO : wrote 5676 events to disk\n",
      " 83%|████████▎ | 88000/105568 [5:10:06<1:01:25,  4.77it/s]"
     ]
    },
    {
     "name": "stdout",
     "output_type": "stream",
     "text": [
      "[Epoch 0 Batch 88000/105568] loss=0.3797, lr=0.0000050, acc=0.852 - time 0:01:45.706770\n"
     ]
    },
    {
     "name": "stderr",
     "output_type": "stream",
     "text": [
      " 84%|████████▍ | 88500/105568 [5:11:52<59:33,  4.78it/s]  "
     ]
    },
    {
     "name": "stdout",
     "output_type": "stream",
     "text": [
      "[Epoch 0 Batch 88500/105568] loss=0.3765, lr=0.0000050, acc=0.852 - time 0:01:45.846437\n"
     ]
    },
    {
     "name": "stderr",
     "output_type": "stream",
     "text": [
      " 84%|████████▍ | 89000/105568 [5:13:37<58:40,  4.71it/s]  "
     ]
    },
    {
     "name": "stdout",
     "output_type": "stream",
     "text": [
      "[Epoch 0 Batch 89000/105568] loss=0.3895, lr=0.0000050, acc=0.852 - time 0:01:45.665752\n"
     ]
    },
    {
     "name": "stderr",
     "output_type": "stream",
     "text": [
      " 85%|████████▍ | 89500/105568 [5:15:23<56:57,  4.70it/s]  "
     ]
    },
    {
     "name": "stdout",
     "output_type": "stream",
     "text": [
      "[Epoch 0 Batch 89500/105568] loss=0.3529, lr=0.0000050, acc=0.852 - time 0:01:45.703935\n"
     ]
    },
    {
     "name": "stderr",
     "output_type": "stream",
     "text": [
      " 85%|████████▌ | 90000/105568 [5:17:09<54:45,  4.74it/s]"
     ]
    },
    {
     "name": "stdout",
     "output_type": "stream",
     "text": [
      "[Epoch 0 Batch 90000/105568] loss=0.3494, lr=0.0000050, acc=0.852 - time 0:01:45.650667\n"
     ]
    },
    {
     "name": "stderr",
     "output_type": "stream",
     "text": [
      " 86%|████████▌ | 90500/105568 [5:18:54<53:15,  4.72it/s]"
     ]
    },
    {
     "name": "stdout",
     "output_type": "stream",
     "text": [
      "[Epoch 0 Batch 90500/105568] loss=0.3731, lr=0.0000050, acc=0.852 - time 0:01:45.707693\n"
     ]
    },
    {
     "name": "stderr",
     "output_type": "stream",
     "text": [
      " 86%|████████▌ | 90826/105568 [5:20:03<51:56,  4.73it/s]  2020-06-14 23:41:53,792 : INFO : wrote 5674 events to disk\n",
      " 86%|████████▌ | 91000/105568 [5:20:40<51:53,  4.68it/s]"
     ]
    },
    {
     "name": "stdout",
     "output_type": "stream",
     "text": [
      "[Epoch 0 Batch 91000/105568] loss=0.3710, lr=0.0000050, acc=0.852 - time 0:01:45.964551\n"
     ]
    },
    {
     "name": "stderr",
     "output_type": "stream",
     "text": [
      " 87%|████████▋ | 91500/105568 [5:22:26<49:55,  4.70it/s]"
     ]
    },
    {
     "name": "stdout",
     "output_type": "stream",
     "text": [
      "[Epoch 0 Batch 91500/105568] loss=0.3609, lr=0.0000050, acc=0.852 - time 0:01:45.694678\n"
     ]
    },
    {
     "name": "stderr",
     "output_type": "stream",
     "text": [
      " 87%|████████▋ | 92000/105568 [5:24:12<47:36,  4.75it/s]"
     ]
    },
    {
     "name": "stdout",
     "output_type": "stream",
     "text": [
      "[Epoch 0 Batch 92000/105568] loss=0.3753, lr=0.0000050, acc=0.853 - time 0:01:45.870637\n"
     ]
    },
    {
     "name": "stderr",
     "output_type": "stream",
     "text": [
      " 88%|████████▊ | 92500/105568 [5:25:58<46:38,  4.67it/s]"
     ]
    },
    {
     "name": "stdout",
     "output_type": "stream",
     "text": [
      "[Epoch 0 Batch 92500/105568] loss=0.3672, lr=0.0000050, acc=0.853 - time 0:01:45.834297\n"
     ]
    },
    {
     "name": "stderr",
     "output_type": "stream",
     "text": [
      " 88%|████████▊ | 93000/105568 [5:27:44<44:32,  4.70it/s]"
     ]
    },
    {
     "name": "stdout",
     "output_type": "stream",
     "text": [
      "[Epoch 0 Batch 93000/105568] loss=0.3836, lr=0.0000050, acc=0.853 - time 0:01:45.886876\n"
     ]
    },
    {
     "name": "stderr",
     "output_type": "stream",
     "text": [
      " 89%|████████▊ | 93500/105568 [5:29:29<42:43,  4.71it/s]"
     ]
    },
    {
     "name": "stdout",
     "output_type": "stream",
     "text": [
      "[Epoch 0 Batch 93500/105568] loss=0.3672, lr=0.0000050, acc=0.853 - time 0:01:45.794522\n"
     ]
    },
    {
     "name": "stderr",
     "output_type": "stream",
     "text": [
      " 89%|████████▊ | 93662/105568 [5:30:04<42:32,  4.66it/s]2020-06-14 23:51:53,927 : INFO : wrote 5672 events to disk\n",
      " 89%|████████▉ | 94000/105568 [5:31:15<40:44,  4.73it/s]"
     ]
    },
    {
     "name": "stdout",
     "output_type": "stream",
     "text": [
      "[Epoch 0 Batch 94000/105568] loss=0.3777, lr=0.0000050, acc=0.853 - time 0:01:45.677917\n"
     ]
    },
    {
     "name": "stderr",
     "output_type": "stream",
     "text": [
      " 90%|████████▉ | 94500/105568 [5:33:01<39:14,  4.70it/s]"
     ]
    },
    {
     "name": "stdout",
     "output_type": "stream",
     "text": [
      "[Epoch 0 Batch 94500/105568] loss=0.3630, lr=0.0000050, acc=0.853 - time 0:01:46.016830\n"
     ]
    },
    {
     "name": "stderr",
     "output_type": "stream",
     "text": [
      " 90%|████████▉ | 95000/105568 [5:34:47<37:09,  4.74it/s]"
     ]
    },
    {
     "name": "stdout",
     "output_type": "stream",
     "text": [
      "[Epoch 0 Batch 95000/105568] loss=0.3631, lr=0.0000050, acc=0.853 - time 0:01:45.831909\n"
     ]
    },
    {
     "name": "stderr",
     "output_type": "stream",
     "text": [
      " 90%|█████████ | 95500/105568 [5:36:33<35:12,  4.77it/s]"
     ]
    },
    {
     "name": "stdout",
     "output_type": "stream",
     "text": [
      "[Epoch 0 Batch 95500/105568] loss=0.3542, lr=0.0000050, acc=0.853 - time 0:01:45.808994\n"
     ]
    },
    {
     "name": "stderr",
     "output_type": "stream",
     "text": [
      " 91%|█████████ | 96000/105568 [5:38:18<34:19,  4.65it/s]"
     ]
    },
    {
     "name": "stdout",
     "output_type": "stream",
     "text": [
      "[Epoch 0 Batch 96000/105568] loss=0.3551, lr=0.0000050, acc=0.853 - time 0:01:45.736439\n"
     ]
    },
    {
     "name": "stderr",
     "output_type": "stream",
     "text": [
      " 91%|█████████▏| 96497/105568 [5:40:04<31:49,  4.75it/s]2020-06-15 00:01:54,013 : INFO : wrote 5670 events to disk\n",
      " 91%|█████████▏| 96500/105568 [5:40:04<31:40,  4.77it/s]"
     ]
    },
    {
     "name": "stdout",
     "output_type": "stream",
     "text": [
      "[Epoch 0 Batch 96500/105568] loss=0.3767, lr=0.0000050, acc=0.853 - time 0:01:45.881826\n"
     ]
    },
    {
     "name": "stderr",
     "output_type": "stream",
     "text": [
      " 92%|█████████▏| 97000/105568 [5:41:50<30:01,  4.76it/s]"
     ]
    },
    {
     "name": "stdout",
     "output_type": "stream",
     "text": [
      "[Epoch 0 Batch 97000/105568] loss=0.3690, lr=0.0000050, acc=0.853 - time 0:01:45.876101\n"
     ]
    },
    {
     "name": "stderr",
     "output_type": "stream",
     "text": [
      " 92%|█████████▏| 97500/105568 [5:43:36<28:28,  4.72it/s]"
     ]
    },
    {
     "name": "stdout",
     "output_type": "stream",
     "text": [
      "[Epoch 0 Batch 97500/105568] loss=0.3833, lr=0.0000050, acc=0.853 - time 0:01:46.028950\n"
     ]
    },
    {
     "name": "stderr",
     "output_type": "stream",
     "text": [
      " 93%|█████████▎| 98000/105568 [5:45:22<26:36,  4.74it/s]"
     ]
    },
    {
     "name": "stdout",
     "output_type": "stream",
     "text": [
      "[Epoch 0 Batch 98000/105568] loss=0.3655, lr=0.0000050, acc=0.853 - time 0:01:46.034633\n"
     ]
    },
    {
     "name": "stderr",
     "output_type": "stream",
     "text": [
      " 93%|█████████▎| 98500/105568 [5:47:08<25:10,  4.68it/s]"
     ]
    },
    {
     "name": "stdout",
     "output_type": "stream",
     "text": [
      "[Epoch 0 Batch 98500/105568] loss=0.3638, lr=0.0000050, acc=0.853 - time 0:01:45.858566\n"
     ]
    },
    {
     "name": "stderr",
     "output_type": "stream",
     "text": [
      " 94%|█████████▍| 99000/105568 [5:48:54<23:14,  4.71it/s]"
     ]
    },
    {
     "name": "stdout",
     "output_type": "stream",
     "text": [
      "[Epoch 0 Batch 99000/105568] loss=0.3642, lr=0.0000050, acc=0.853 - time 0:01:45.958754\n"
     ]
    },
    {
     "name": "stderr",
     "output_type": "stream",
     "text": [
      " 94%|█████████▍| 99330/105568 [5:50:04<21:53,  4.75it/s]2020-06-15 00:11:54,166 : INFO : wrote 5666 events to disk\n",
      " 94%|█████████▍| 99500/105568 [5:50:40<21:44,  4.65it/s]"
     ]
    },
    {
     "name": "stdout",
     "output_type": "stream",
     "text": [
      "[Epoch 0 Batch 99500/105568] loss=0.3702, lr=0.0000050, acc=0.854 - time 0:01:45.693312\n"
     ]
    },
    {
     "name": "stderr",
     "output_type": "stream",
     "text": [
      " 95%|█████████▍| 100000/105568 [5:52:26<19:49,  4.68it/s]"
     ]
    },
    {
     "name": "stdout",
     "output_type": "stream",
     "text": [
      "[Epoch 0 Batch 100000/105568] loss=0.3629, lr=0.0000050, acc=0.854 - time 0:01:45.909985\n"
     ]
    },
    {
     "name": "stderr",
     "output_type": "stream",
     "text": [
      " 95%|█████████▌| 100500/105568 [5:54:12<17:43,  4.76it/s]"
     ]
    },
    {
     "name": "stdout",
     "output_type": "stream",
     "text": [
      "[Epoch 0 Batch 100500/105568] loss=0.3877, lr=0.0000050, acc=0.854 - time 0:01:45.854076\n"
     ]
    },
    {
     "name": "stderr",
     "output_type": "stream",
     "text": [
      " 96%|█████████▌| 101000/105568 [5:55:57<16:08,  4.72it/s]"
     ]
    },
    {
     "name": "stdout",
     "output_type": "stream",
     "text": [
      "[Epoch 0 Batch 101000/105568] loss=0.3707, lr=0.0000050, acc=0.854 - time 0:01:45.936864\n"
     ]
    },
    {
     "name": "stderr",
     "output_type": "stream",
     "text": [
      " 96%|█████████▌| 101500/105568 [5:57:43<14:21,  4.72it/s]"
     ]
    },
    {
     "name": "stdout",
     "output_type": "stream",
     "text": [
      "[Epoch 0 Batch 101500/105568] loss=0.3547, lr=0.0000050, acc=0.854 - time 0:01:45.901926\n"
     ]
    },
    {
     "name": "stderr",
     "output_type": "stream",
     "text": [
      " 97%|█████████▋| 102000/105568 [5:59:29<12:40,  4.69it/s]"
     ]
    },
    {
     "name": "stdout",
     "output_type": "stream",
     "text": [
      "[Epoch 0 Batch 102000/105568] loss=0.3603, lr=0.0000050, acc=0.854 - time 0:01:45.711437\n"
     ]
    },
    {
     "name": "stderr",
     "output_type": "stream",
     "text": [
      " 97%|█████████▋| 102165/105568 [6:00:04<12:00,  4.72it/s]2020-06-15 00:21:54,293 : INFO : wrote 5670 events to disk\n",
      " 97%|█████████▋| 102500/105568 [6:01:15<10:49,  4.72it/s]"
     ]
    },
    {
     "name": "stdout",
     "output_type": "stream",
     "text": [
      "[Epoch 0 Batch 102500/105568] loss=0.3788, lr=0.0000050, acc=0.854 - time 0:01:45.845616\n"
     ]
    },
    {
     "name": "stderr",
     "output_type": "stream",
     "text": [
      " 98%|█████████▊| 103000/105568 [6:03:01<08:58,  4.77it/s]"
     ]
    },
    {
     "name": "stdout",
     "output_type": "stream",
     "text": [
      "[Epoch 0 Batch 103000/105568] loss=0.3762, lr=0.0000050, acc=0.854 - time 0:01:45.874080\n"
     ]
    },
    {
     "name": "stderr",
     "output_type": "stream",
     "text": [
      " 98%|█████████▊| 103500/105568 [6:04:47<07:16,  4.73it/s]"
     ]
    },
    {
     "name": "stdout",
     "output_type": "stream",
     "text": [
      "[Epoch 0 Batch 103500/105568] loss=0.3689, lr=0.0000050, acc=0.854 - time 0:01:45.890514\n"
     ]
    },
    {
     "name": "stderr",
     "output_type": "stream",
     "text": [
      " 99%|█████████▊| 104000/105568 [6:06:33<05:30,  4.75it/s]"
     ]
    },
    {
     "name": "stdout",
     "output_type": "stream",
     "text": [
      "[Epoch 0 Batch 104000/105568] loss=0.3749, lr=0.0000050, acc=0.854 - time 0:01:45.906518\n"
     ]
    },
    {
     "name": "stderr",
     "output_type": "stream",
     "text": [
      " 99%|█████████▉| 104500/105568 [6:08:19<03:46,  4.71it/s]"
     ]
    },
    {
     "name": "stdout",
     "output_type": "stream",
     "text": [
      "[Epoch 0 Batch 104500/105568] loss=0.3611, lr=0.0000050, acc=0.854 - time 0:01:45.951756\n"
     ]
    },
    {
     "name": "stderr",
     "output_type": "stream",
     "text": [
      " 99%|█████████▉| 104999/105568 [6:10:04<01:59,  4.76it/s]2020-06-15 00:31:54,405 : INFO : wrote 5668 events to disk\n",
      " 99%|█████████▉| 105000/105568 [6:10:04<01:58,  4.78it/s]"
     ]
    },
    {
     "name": "stdout",
     "output_type": "stream",
     "text": [
      "[Epoch 0 Batch 105000/105568] loss=0.3859, lr=0.0000050, acc=0.854 - time 0:01:45.736962\n"
     ]
    },
    {
     "name": "stderr",
     "output_type": "stream",
     "text": [
      "100%|█████████▉| 105500/105568 [6:11:51<00:19,  3.52it/s]"
     ]
    },
    {
     "name": "stdout",
     "output_type": "stream",
     "text": [
      "[Epoch 0 Batch 105500/105568] loss=0.3610, lr=0.0000050, acc=0.854 - time 0:01:46.396548\n"
     ]
    },
    {
     "name": "stderr",
     "output_type": "stream",
     "text": [
      "100%|██████████| 105568/105568 [6:12:05<00:00,  4.73it/s]\n"
     ]
    },
    {
     "name": "stdout",
     "output_type": "stream",
     "text": [
      "Time for [epoch 0]: 6:12:05.616707\n"
     ]
    },
    {
     "name": "stderr",
     "output_type": "stream",
     "text": [
      "  0%|          | 0/105568 [00:00<?, ?it/s]"
     ]
    },
    {
     "name": "stdout",
     "output_type": "stream",
     "text": [
      "Start on [epoch 1] ...\n"
     ]
    },
    {
     "name": "stderr",
     "output_type": "stream",
     "text": [
      "  0%|          | 500/105568 [01:45<6:11:47,  4.71it/s]"
     ]
    },
    {
     "name": "stdout",
     "output_type": "stream",
     "text": [
      "[Epoch 1 Batch 500/105568] loss=0.3369, lr=0.0000050, acc=0.881 - time 0:01:45.998176\n"
     ]
    },
    {
     "name": "stderr",
     "output_type": "stream",
     "text": [
      "  1%|          | 1000/105568 [03:31<6:04:49,  4.78it/s]"
     ]
    },
    {
     "name": "stdout",
     "output_type": "stream",
     "text": [
      "[Epoch 1 Batch 1000/105568] loss=0.3634, lr=0.0000050, acc=0.881 - time 0:01:45.979104\n"
     ]
    },
    {
     "name": "stderr",
     "output_type": "stream",
     "text": [
      "  1%|▏         | 1500/105568 [05:17<6:10:20,  4.68it/s]"
     ]
    },
    {
     "name": "stdout",
     "output_type": "stream",
     "text": [
      "[Epoch 1 Batch 1500/105568] loss=0.3510, lr=0.0000050, acc=0.883 - time 0:01:45.874332\n"
     ]
    },
    {
     "name": "stderr",
     "output_type": "stream",
     "text": [
      "  2%|▏         | 2000/105568 [07:03<6:11:28,  4.65it/s]"
     ]
    },
    {
     "name": "stdout",
     "output_type": "stream",
     "text": [
      "[Epoch 1 Batch 2000/105568] loss=0.3545, lr=0.0000050, acc=0.883 - time 0:01:45.864523\n"
     ]
    },
    {
     "name": "stderr",
     "output_type": "stream",
     "text": [
      "  2%|▏         | 2260/105568 [07:58<6:07:55,  4.68it/s]2020-06-15 00:41:54,567 : INFO : wrote 5658 events to disk\n",
      "  2%|▏         | 2500/105568 [08:49<5:59:56,  4.77it/s]"
     ]
    },
    {
     "name": "stdout",
     "output_type": "stream",
     "text": [
      "[Epoch 1 Batch 2500/105568] loss=0.3561, lr=0.0000050, acc=0.883 - time 0:01:45.812230\n"
     ]
    },
    {
     "name": "stderr",
     "output_type": "stream",
     "text": [
      "  3%|▎         | 3000/105568 [10:35<6:03:27,  4.70it/s]"
     ]
    },
    {
     "name": "stdout",
     "output_type": "stream",
     "text": [
      "[Epoch 1 Batch 3000/105568] loss=0.3634, lr=0.0000050, acc=0.883 - time 0:01:45.766203\n"
     ]
    },
    {
     "name": "stderr",
     "output_type": "stream",
     "text": [
      "  3%|▎         | 3500/105568 [12:21<6:01:13,  4.71it/s]"
     ]
    },
    {
     "name": "stdout",
     "output_type": "stream",
     "text": [
      "[Epoch 1 Batch 3500/105568] loss=0.3653, lr=0.0000050, acc=0.882 - time 0:01:45.751345\n"
     ]
    },
    {
     "name": "stderr",
     "output_type": "stream",
     "text": [
      "  4%|▍         | 4000/105568 [14:06<5:59:16,  4.71it/s]"
     ]
    },
    {
     "name": "stdout",
     "output_type": "stream",
     "text": [
      "[Epoch 1 Batch 4000/105568] loss=0.3461, lr=0.0000050, acc=0.882 - time 0:01:45.705833\n"
     ]
    },
    {
     "name": "stderr",
     "output_type": "stream",
     "text": [
      "  5%|▍         | 5000/105568 [17:38<5:56:30,  4.70it/s]"
     ]
    },
    {
     "name": "stdout",
     "output_type": "stream",
     "text": [
      "[Epoch 1 Batch 5000/105568] loss=0.3603, lr=0.0000050, acc=0.883 - time 0:01:45.934054\n"
     ]
    },
    {
     "name": "stderr",
     "output_type": "stream",
     "text": [
      "  5%|▍         | 5096/105568 [17:58<5:50:31,  4.78it/s]2020-06-15 00:51:54,715 : INFO : wrote 5672 events to disk\n",
      "  5%|▌         | 5500/105568 [19:24<5:55:41,  4.69it/s]"
     ]
    },
    {
     "name": "stdout",
     "output_type": "stream",
     "text": [
      "[Epoch 1 Batch 5500/105568] loss=0.3430, lr=0.0000050, acc=0.883 - time 0:01:45.846136\n"
     ]
    },
    {
     "name": "stderr",
     "output_type": "stream",
     "text": [
      "  6%|▌         | 6000/105568 [21:10<5:49:05,  4.75it/s]"
     ]
    },
    {
     "name": "stdout",
     "output_type": "stream",
     "text": [
      "[Epoch 1 Batch 6000/105568] loss=0.3500, lr=0.0000050, acc=0.884 - time 0:01:45.876124\n"
     ]
    },
    {
     "name": "stderr",
     "output_type": "stream",
     "text": [
      "  6%|▌         | 6500/105568 [22:56<5:47:25,  4.75it/s]"
     ]
    },
    {
     "name": "stdout",
     "output_type": "stream",
     "text": [
      "[Epoch 1 Batch 6500/105568] loss=0.3747, lr=0.0000050, acc=0.884 - time 0:01:45.883564\n"
     ]
    },
    {
     "name": "stderr",
     "output_type": "stream",
     "text": [
      "  7%|▋         | 7000/105568 [24:42<5:46:47,  4.74it/s]"
     ]
    },
    {
     "name": "stdout",
     "output_type": "stream",
     "text": [
      "[Epoch 1 Batch 7000/105568] loss=0.3522, lr=0.0000050, acc=0.884 - time 0:01:45.919273\n"
     ]
    },
    {
     "name": "stderr",
     "output_type": "stream",
     "text": [
      "  7%|▋         | 7500/105568 [26:28<5:45:05,  4.74it/s]"
     ]
    },
    {
     "name": "stdout",
     "output_type": "stream",
     "text": [
      "[Epoch 1 Batch 7500/105568] loss=0.3521, lr=0.0000050, acc=0.884 - time 0:01:46.367979\n"
     ]
    },
    {
     "name": "stderr",
     "output_type": "stream",
     "text": [
      "  7%|▋         | 7637/105568 [26:57<5:44:50,  4.73it/s]IOPub message rate exceeded.\n",
      "The notebook server will temporarily stop sending output\n",
      "to the client in order to avoid crashing it.\n",
      "To change this limit, set the config variable\n",
      "`--NotebookApp.iopub_msg_rate_limit`.\n",
      "\n",
      "Current values:\n",
      "NotebookApp.iopub_msg_rate_limit=1000.0 (msgs/sec)\n",
      "NotebookApp.rate_limit_window=3.0 (secs)\n",
      "\n",
      " 20%|██        | 21500/105568 [1:15:51<4:53:14,  4.78it/s]"
     ]
    },
    {
     "name": "stdout",
     "output_type": "stream",
     "text": [
      "[Epoch 1 Batch 21500/105568] loss=0.3727, lr=0.0000050, acc=0.883 - time 0:01:45.688608\n"
     ]
    },
    {
     "name": "stderr",
     "output_type": "stream",
     "text": [
      " 21%|██        | 22000/105568 [1:17:37<4:57:51,  4.68it/s]"
     ]
    },
    {
     "name": "stdout",
     "output_type": "stream",
     "text": [
      "[Epoch 1 Batch 22000/105568] loss=0.3625, lr=0.0000050, acc=0.883 - time 0:01:46.188063\n"
     ]
    },
    {
     "name": "stderr",
     "output_type": "stream",
     "text": [
      " 21%|██        | 22105/105568 [1:17:59<4:51:04,  4.78it/s]2020-06-15 01:51:55,423 : INFO : wrote 5670 events to disk\n",
      " 21%|██▏       | 22500/105568 [1:19:23<4:51:41,  4.75it/s]"
     ]
    },
    {
     "name": "stdout",
     "output_type": "stream",
     "text": [
      "[Epoch 1 Batch 22500/105568] loss=0.3626, lr=0.0000050, acc=0.883 - time 0:01:45.680032\n"
     ]
    },
    {
     "name": "stderr",
     "output_type": "stream",
     "text": [
      " 22%|██▏       | 23000/105568 [1:21:08<4:54:50,  4.67it/s]"
     ]
    },
    {
     "name": "stdout",
     "output_type": "stream",
     "text": [
      "[Epoch 1 Batch 23000/105568] loss=0.3996, lr=0.0000050, acc=0.883 - time 0:01:45.814800\n"
     ]
    },
    {
     "name": "stderr",
     "output_type": "stream",
     "text": [
      " 22%|██▏       | 23500/105568 [1:22:54<4:48:36,  4.74it/s]"
     ]
    },
    {
     "name": "stdout",
     "output_type": "stream",
     "text": [
      "[Epoch 1 Batch 23500/105568] loss=0.3811, lr=0.0000050, acc=0.882 - time 0:01:45.866522\n"
     ]
    },
    {
     "name": "stderr",
     "output_type": "stream",
     "text": [
      " 23%|██▎       | 24000/105568 [1:24:40<4:48:47,  4.71it/s]"
     ]
    },
    {
     "name": "stdout",
     "output_type": "stream",
     "text": [
      "[Epoch 1 Batch 24000/105568] loss=0.3454, lr=0.0000050, acc=0.882 - time 0:01:45.864880\n"
     ]
    },
    {
     "name": "stderr",
     "output_type": "stream",
     "text": [
      " 23%|██▎       | 24458/105568 [1:26:17<4:46:33,  4.72it/s]IOPub message rate exceeded.\n",
      "The notebook server will temporarily stop sending output\n",
      "to the client in order to avoid crashing it.\n",
      "To change this limit, set the config variable\n",
      "`--NotebookApp.iopub_msg_rate_limit`.\n",
      "\n",
      "Current values:\n",
      "NotebookApp.iopub_msg_rate_limit=1000.0 (msgs/sec)\n",
      "NotebookApp.rate_limit_window=3.0 (secs)\n",
      "\n",
      " 36%|███▌      | 37500/105568 [2:12:11<3:56:57,  4.79it/s]"
     ]
    },
    {
     "name": "stdout",
     "output_type": "stream",
     "text": [
      "[Epoch 1 Batch 37500/105568] loss=0.3593, lr=0.0000050, acc=0.882 - time 0:01:45.618676\n"
     ]
    },
    {
     "name": "stderr",
     "output_type": "stream",
     "text": [
      " 36%|███▌      | 38000/105568 [2:13:57<3:57:20,  4.74it/s]"
     ]
    },
    {
     "name": "stdout",
     "output_type": "stream",
     "text": [
      "[Epoch 1 Batch 38000/105568] loss=0.3615, lr=0.0000050, acc=0.882 - time 0:01:45.596278\n"
     ]
    },
    {
     "name": "stderr",
     "output_type": "stream",
     "text": [
      " 36%|███▋      | 38500/105568 [2:15:43<3:54:13,  4.77it/s]"
     ]
    },
    {
     "name": "stdout",
     "output_type": "stream",
     "text": [
      "[Epoch 1 Batch 38500/105568] loss=0.3871, lr=0.0000050, acc=0.882 - time 0:01:46.120550\n"
     ]
    },
    {
     "name": "stderr",
     "output_type": "stream",
     "text": [
      " 37%|███▋      | 39000/105568 [2:17:28<3:52:54,  4.76it/s]"
     ]
    },
    {
     "name": "stdout",
     "output_type": "stream",
     "text": [
      "[Epoch 1 Batch 39000/105568] loss=0.3727, lr=0.0000050, acc=0.882 - time 0:01:45.610975\n"
     ]
    },
    {
     "name": "stderr",
     "output_type": "stream",
     "text": [
      " 37%|███▋      | 39149/105568 [2:18:00<3:55:26,  4.70it/s]2020-06-15 02:51:56,153 : INFO : wrote 5678 events to disk\n",
      " 37%|███▋      | 39500/105568 [2:19:14<3:51:30,  4.76it/s]"
     ]
    },
    {
     "name": "stdout",
     "output_type": "stream",
     "text": [
      "[Epoch 1 Batch 39500/105568] loss=0.3777, lr=0.0000050, acc=0.882 - time 0:01:45.594186\n"
     ]
    },
    {
     "name": "stderr",
     "output_type": "stream",
     "text": [
      " 38%|███▊      | 40000/105568 [2:21:00<3:51:18,  4.72it/s]"
     ]
    },
    {
     "name": "stdout",
     "output_type": "stream",
     "text": [
      "[Epoch 1 Batch 40000/105568] loss=0.3781, lr=0.0000050, acc=0.882 - time 0:01:45.673734\n"
     ]
    },
    {
     "name": "stderr",
     "output_type": "stream",
     "text": [
      " 38%|███▊      | 40459/105568 [2:22:37<3:47:44,  4.76it/s]IOPub message rate exceeded.\n",
      "The notebook server will temporarily stop sending output\n",
      "to the client in order to avoid crashing it.\n",
      "To change this limit, set the config variable\n",
      "`--NotebookApp.iopub_msg_rate_limit`.\n",
      "\n",
      "Current values:\n",
      "NotebookApp.iopub_msg_rate_limit=1000.0 (msgs/sec)\n",
      "NotebookApp.rate_limit_window=3.0 (secs)\n",
      "\n",
      " 52%|█████▏    | 54500/105568 [3:12:08<3:00:10,  4.72it/s]"
     ]
    },
    {
     "name": "stdout",
     "output_type": "stream",
     "text": [
      "[Epoch 1 Batch 54500/105568] loss=0.3563, lr=0.0000050, acc=0.881 - time 0:01:45.821255\n"
     ]
    },
    {
     "name": "stderr",
     "output_type": "stream",
     "text": [
      " 52%|█████▏    | 55000/105568 [3:13:54<2:57:28,  4.75it/s]"
     ]
    },
    {
     "name": "stdout",
     "output_type": "stream",
     "text": [
      "[Epoch 1 Batch 55000/105568] loss=0.3657, lr=0.0000050, acc=0.881 - time 0:01:45.749378\n"
     ]
    },
    {
     "name": "stderr",
     "output_type": "stream",
     "text": [
      " 53%|█████▎    | 55500/105568 [3:15:40<2:55:44,  4.75it/s]"
     ]
    },
    {
     "name": "stdout",
     "output_type": "stream",
     "text": [
      "[Epoch 1 Batch 55500/105568] loss=0.3583, lr=0.0000050, acc=0.881 - time 0:01:45.771688\n"
     ]
    },
    {
     "name": "stderr",
     "output_type": "stream",
     "text": [
      " 53%|█████▎    | 56000/105568 [3:17:26<2:56:06,  4.69it/s]"
     ]
    },
    {
     "name": "stdout",
     "output_type": "stream",
     "text": [
      "[Epoch 1 Batch 56000/105568] loss=0.3474, lr=0.0000050, acc=0.881 - time 0:01:45.963280\n"
     ]
    },
    {
     "name": "stderr",
     "output_type": "stream",
     "text": [
      " 53%|█████▎    | 56168/105568 [3:18:01<2:54:02,  4.73it/s]2020-06-15 03:51:57,427 : INFO : wrote 5672 events to disk\n",
      " 54%|█████▎    | 56500/105568 [3:19:11<2:52:10,  4.75it/s]"
     ]
    },
    {
     "name": "stdout",
     "output_type": "stream",
     "text": [
      "[Epoch 1 Batch 56500/105568] loss=0.3616, lr=0.0000050, acc=0.881 - time 0:01:45.651436\n"
     ]
    },
    {
     "name": "stderr",
     "output_type": "stream",
     "text": [
      " 54%|█████▍    | 57000/105568 [3:20:57<2:50:54,  4.74it/s]"
     ]
    },
    {
     "name": "stdout",
     "output_type": "stream",
     "text": [
      "[Epoch 1 Batch 57000/105568] loss=0.3533, lr=0.0000050, acc=0.881 - time 0:01:45.799198\n"
     ]
    },
    {
     "name": "stderr",
     "output_type": "stream",
     "text": [
      " 54%|█████▍    | 57116/105568 [3:21:22<2:50:33,  4.73it/s]IOPub message rate exceeded.\n",
      "The notebook server will temporarily stop sending output\n",
      "to the client in order to avoid crashing it.\n",
      "To change this limit, set the config variable\n",
      "`--NotebookApp.iopub_msg_rate_limit`.\n",
      "\n",
      "Current values:\n",
      "NotebookApp.iopub_msg_rate_limit=1000.0 (msgs/sec)\n",
      "NotebookApp.rate_limit_window=3.0 (secs)\n",
      "\n",
      " 67%|██████▋   | 71000/105568 [4:10:20<2:01:36,  4.74it/s]"
     ]
    },
    {
     "name": "stdout",
     "output_type": "stream",
     "text": [
      "[Epoch 1 Batch 71000/105568] loss=0.3531, lr=0.0000050, acc=0.881 - time 0:01:45.807986\n"
     ]
    },
    {
     "name": "stderr",
     "output_type": "stream",
     "text": [
      " 68%|██████▊   | 71500/105568 [4:12:06<1:59:43,  4.74it/s]"
     ]
    },
    {
     "name": "stdout",
     "output_type": "stream",
     "text": [
      "[Epoch 1 Batch 71500/105568] loss=0.3534, lr=0.0000050, acc=0.881 - time 0:01:45.880030\n"
     ]
    },
    {
     "name": "stderr",
     "output_type": "stream",
     "text": [
      " 68%|██████▊   | 72000/105568 [4:13:52<1:58:24,  4.72it/s]"
     ]
    },
    {
     "name": "stdout",
     "output_type": "stream",
     "text": [
      "[Epoch 1 Batch 72000/105568] loss=0.3634, lr=0.0000050, acc=0.881 - time 0:01:45.791017\n"
     ]
    },
    {
     "name": "stderr",
     "output_type": "stream",
     "text": [
      " 69%|██████▊   | 72500/105568 [4:15:37<1:58:23,  4.66it/s]"
     ]
    },
    {
     "name": "stdout",
     "output_type": "stream",
     "text": [
      "[Epoch 1 Batch 72500/105568] loss=0.3618, lr=0.0000050, acc=0.881 - time 0:01:45.636379\n"
     ]
    },
    {
     "name": "stderr",
     "output_type": "stream",
     "text": [
      " 69%|██████▉   | 73000/105568 [4:17:24<1:54:20,  4.75it/s]"
     ]
    },
    {
     "name": "stdout",
     "output_type": "stream",
     "text": [
      "[Epoch 1 Batch 73000/105568] loss=0.3717, lr=0.0000050, acc=0.881 - time 0:01:46.449279\n"
     ]
    },
    {
     "name": "stderr",
     "output_type": "stream",
     "text": [
      " 69%|██████▉   | 73180/105568 [4:18:02<1:53:21,  4.76it/s]2020-06-15 04:51:58,212 : INFO : wrote 5668 events to disk\n",
      " 70%|██████▉   | 73500/105568 [4:19:10<1:51:47,  4.78it/s]"
     ]
    },
    {
     "name": "stdout",
     "output_type": "stream",
     "text": [
      "[Epoch 1 Batch 73500/105568] loss=0.3697, lr=0.0000050, acc=0.881 - time 0:01:45.842385\n"
     ]
    },
    {
     "name": "stderr",
     "output_type": "stream",
     "text": [
      " 70%|██████▉   | 73802/105568 [4:20:14<1:53:14,  4.68it/s]IOPub message rate exceeded.\n",
      "The notebook server will temporarily stop sending output\n",
      "to the client in order to avoid crashing it.\n",
      "To change this limit, set the config variable\n",
      "`--NotebookApp.iopub_msg_rate_limit`.\n",
      "\n",
      "Current values:\n",
      "NotebookApp.iopub_msg_rate_limit=1000.0 (msgs/sec)\n",
      "NotebookApp.rate_limit_window=3.0 (secs)\n",
      "\n",
      " 82%|████████▏ | 87000/105568 [5:06:46<1:06:04,  4.68it/s]"
     ]
    },
    {
     "name": "stdout",
     "output_type": "stream",
     "text": [
      "[Epoch 1 Batch 87000/105568] loss=0.3934, lr=0.0000050, acc=0.882 - time 0:01:45.849125\n"
     ]
    },
    {
     "name": "stderr",
     "output_type": "stream",
     "text": [
      " 83%|████████▎ | 87361/105568 [5:08:03<1:03:59,  4.74it/s]2020-06-15 05:41:58,853 : INFO : wrote 5674 events to disk\n",
      " 83%|████████▎ | 87500/105568 [5:08:32<1:03:48,  4.72it/s]"
     ]
    },
    {
     "name": "stdout",
     "output_type": "stream",
     "text": [
      "[Epoch 1 Batch 87500/105568] loss=0.3494, lr=0.0000050, acc=0.882 - time 0:01:46.282537\n"
     ]
    },
    {
     "name": "stderr",
     "output_type": "stream",
     "text": [
      " 83%|████████▎ | 88000/105568 [5:10:18<1:01:07,  4.79it/s]"
     ]
    },
    {
     "name": "stdout",
     "output_type": "stream",
     "text": [
      "[Epoch 1 Batch 88000/105568] loss=0.3586, lr=0.0000050, acc=0.882 - time 0:01:45.893121\n"
     ]
    },
    {
     "name": "stderr",
     "output_type": "stream",
     "text": [
      " 84%|████████▍ | 88500/105568 [5:12:04<1:00:18,  4.72it/s]"
     ]
    },
    {
     "name": "stdout",
     "output_type": "stream",
     "text": [
      "[Epoch 1 Batch 88500/105568] loss=0.3712, lr=0.0000050, acc=0.882 - time 0:01:45.829156\n"
     ]
    },
    {
     "name": "stderr",
     "output_type": "stream",
     "text": [
      " 84%|████████▍ | 89000/105568 [5:13:50<58:12,  4.74it/s]  "
     ]
    },
    {
     "name": "stdout",
     "output_type": "stream",
     "text": [
      "[Epoch 1 Batch 89000/105568] loss=0.3555, lr=0.0000050, acc=0.882 - time 0:01:45.782993\n"
     ]
    },
    {
     "name": "stderr",
     "output_type": "stream",
     "text": [
      " 85%|████████▍ | 89500/105568 [5:15:36<56:45,  4.72it/s]"
     ]
    },
    {
     "name": "stdout",
     "output_type": "stream",
     "text": [
      "[Epoch 1 Batch 89500/105568] loss=0.3851, lr=0.0000050, acc=0.882 - time 0:01:45.722718\n"
     ]
    },
    {
     "name": "stderr",
     "output_type": "stream",
     "text": [
      " 85%|████████▍ | 89725/105568 [5:16:23<56:14,  4.69it/s]IOPub message rate exceeded.\n",
      "The notebook server will temporarily stop sending output\n",
      "to the client in order to avoid crashing it.\n",
      "To change this limit, set the config variable\n",
      "`--NotebookApp.iopub_msg_rate_limit`.\n",
      "\n",
      "Current values:\n",
      "NotebookApp.iopub_msg_rate_limit=1000.0 (msgs/sec)\n",
      "NotebookApp.rate_limit_window=3.0 (secs)\n",
      "\n",
      " 98%|█████████▊| 103500/105568 [6:05:00<07:14,  4.76it/s]"
     ]
    },
    {
     "name": "stdout",
     "output_type": "stream",
     "text": [
      "[Epoch 1 Batch 103500/105568] loss=0.3660, lr=0.0000050, acc=0.881 - time 0:01:45.778420\n"
     ]
    },
    {
     "name": "stderr",
     "output_type": "stream",
     "text": [
      " 99%|█████████▊| 104000/105568 [6:06:45<05:29,  4.76it/s]"
     ]
    },
    {
     "name": "stdout",
     "output_type": "stream",
     "text": [
      "[Epoch 1 Batch 104000/105568] loss=0.3686, lr=0.0000050, acc=0.881 - time 0:01:45.798532\n"
     ]
    },
    {
     "name": "stderr",
     "output_type": "stream",
     "text": [
      " 99%|█████████▉| 104369/105568 [6:08:03<04:14,  4.70it/s]2020-06-15 06:41:59,709 : INFO : wrote 5672 events to disk\n",
      " 99%|█████████▉| 104500/105568 [6:08:31<03:46,  4.72it/s]"
     ]
    },
    {
     "name": "stdout",
     "output_type": "stream",
     "text": [
      "[Epoch 1 Batch 104500/105568] loss=0.3826, lr=0.0000050, acc=0.881 - time 0:01:45.678218\n"
     ]
    },
    {
     "name": "stderr",
     "output_type": "stream",
     "text": [
      " 99%|█████████▉| 105000/105568 [6:10:18<02:00,  4.72it/s]"
     ]
    },
    {
     "name": "stdout",
     "output_type": "stream",
     "text": [
      "[Epoch 1 Batch 105000/105568] loss=0.3710, lr=0.0000050, acc=0.881 - time 0:01:46.466533\n"
     ]
    },
    {
     "name": "stderr",
     "output_type": "stream",
     "text": [
      "100%|█████████▉| 105500/105568 [6:12:03<00:14,  4.78it/s]"
     ]
    },
    {
     "name": "stdout",
     "output_type": "stream",
     "text": [
      "[Epoch 1 Batch 105500/105568] loss=0.3479, lr=0.0000050, acc=0.881 - time 0:01:45.599549\n"
     ]
    },
    {
     "name": "stderr",
     "output_type": "stream",
     "text": [
      "100%|██████████| 105568/105568 [6:12:18<00:00,  4.73it/s]\n"
     ]
    },
    {
     "name": "stdout",
     "output_type": "stream",
     "text": [
      "Time for [epoch 1]: 6:12:18.037066\n"
     ]
    },
    {
     "name": "stderr",
     "output_type": "stream",
     "text": [
      "  0%|          | 0/105568 [00:00<?, ?it/s]"
     ]
    },
    {
     "name": "stdout",
     "output_type": "stream",
     "text": [
      "Start on [epoch 2] ...\n"
     ]
    },
    {
     "name": "stderr",
     "output_type": "stream",
     "text": [
      "  0%|          | 500/105568 [01:45<6:09:31,  4.74it/s]"
     ]
    },
    {
     "name": "stdout",
     "output_type": "stream",
     "text": [
      "[Epoch 2 Batch 500/105568] loss=0.3284, lr=0.0000050, acc=0.899 - time 0:01:45.932631\n"
     ]
    },
    {
     "name": "stderr",
     "output_type": "stream",
     "text": [
      "  1%|          | 771/105568 [02:43<6:04:50,  4.79it/s]IOPub message rate exceeded.\n",
      "The notebook server will temporarily stop sending output\n",
      "to the client in order to avoid crashing it.\n",
      "To change this limit, set the config variable\n",
      "`--NotebookApp.iopub_msg_rate_limit`.\n",
      "\n",
      "Current values:\n",
      "NotebookApp.iopub_msg_rate_limit=1000.0 (msgs/sec)\n",
      "NotebookApp.rate_limit_window=3.0 (secs)\n",
      "\n",
      " 14%|█▎        | 14500/105568 [51:08<5:17:46,  4.78it/s]"
     ]
    },
    {
     "name": "stdout",
     "output_type": "stream",
     "text": [
      "[Epoch 2 Batch 14500/105568] loss=0.3430, lr=0.0000050, acc=0.898 - time 0:01:45.676246\n"
     ]
    },
    {
     "name": "stderr",
     "output_type": "stream",
     "text": [
      " 14%|█▍        | 15000/105568 [52:54<5:23:37,  4.66it/s]"
     ]
    },
    {
     "name": "stdout",
     "output_type": "stream",
     "text": [
      "[Epoch 2 Batch 15000/105568] loss=0.3519, lr=0.0000050, acc=0.898 - time 0:01:45.806202\n"
     ]
    },
    {
     "name": "stderr",
     "output_type": "stream",
     "text": [
      " 15%|█▍        | 15500/105568 [54:40<5:14:18,  4.78it/s]"
     ]
    },
    {
     "name": "stdout",
     "output_type": "stream",
     "text": [
      "[Epoch 2 Batch 15500/105568] loss=0.3300, lr=0.0000050, acc=0.898 - time 0:01:45.788341\n"
     ]
    },
    {
     "name": "stderr",
     "output_type": "stream",
     "text": [
      " 15%|█▍        | 15811/105568 [55:46<5:17:58,  4.70it/s]2020-06-15 07:42:00,626 : INFO : wrote 5672 events to disk\n",
      " 15%|█▌        | 16000/105568 [56:26<5:17:05,  4.71it/s]"
     ]
    },
    {
     "name": "stdout",
     "output_type": "stream",
     "text": [
      "[Epoch 2 Batch 16000/105568] loss=0.3564, lr=0.0000050, acc=0.898 - time 0:01:46.139452\n"
     ]
    },
    {
     "name": "stderr",
     "output_type": "stream",
     "text": [
      " 16%|█▌        | 16500/105568 [58:12<5:12:03,  4.76it/s]"
     ]
    },
    {
     "name": "stdout",
     "output_type": "stream",
     "text": [
      "[Epoch 2 Batch 16500/105568] loss=0.3400, lr=0.0000050, acc=0.898 - time 0:01:45.749031\n"
     ]
    },
    {
     "name": "stderr",
     "output_type": "stream",
     "text": [
      " 16%|█▌        | 17000/105568 [59:57<5:08:40,  4.78it/s]"
     ]
    },
    {
     "name": "stdout",
     "output_type": "stream",
     "text": [
      "[Epoch 2 Batch 17000/105568] loss=0.3334, lr=0.0000050, acc=0.898 - time 0:01:45.812794\n"
     ]
    },
    {
     "name": "stderr",
     "output_type": "stream",
     "text": [
      " 16%|█▋        | 17357/105568 [1:01:13<5:06:05,  4.80it/s]IOPub message rate exceeded.\n",
      "The notebook server will temporarily stop sending output\n",
      "to the client in order to avoid crashing it.\n",
      "To change this limit, set the config variable\n",
      "`--NotebookApp.iopub_msg_rate_limit`.\n",
      "\n",
      "Current values:\n",
      "NotebookApp.iopub_msg_rate_limit=1000.0 (msgs/sec)\n",
      "NotebookApp.rate_limit_window=3.0 (secs)\n",
      "\n",
      " 29%|██▉       | 31000/105568 [1:49:20<4:22:12,  4.74it/s]"
     ]
    },
    {
     "name": "stdout",
     "output_type": "stream",
     "text": [
      "[Epoch 2 Batch 31000/105568] loss=0.3393, lr=0.0000050, acc=0.898 - time 0:01:46.496039\n"
     ]
    },
    {
     "name": "stderr",
     "output_type": "stream",
     "text": [
      " 30%|██▉       | 31500/105568 [1:51:06<4:18:19,  4.78it/s]"
     ]
    },
    {
     "name": "stdout",
     "output_type": "stream",
     "text": [
      "[Epoch 2 Batch 31500/105568] loss=0.3325, lr=0.0000050, acc=0.898 - time 0:01:45.687590\n"
     ]
    },
    {
     "name": "stderr",
     "output_type": "stream",
     "text": [
      " 30%|███       | 32000/105568 [1:52:52<4:20:10,  4.71it/s]"
     ]
    },
    {
     "name": "stdout",
     "output_type": "stream",
     "text": [
      "[Epoch 2 Batch 32000/105568] loss=0.3442, lr=0.0000050, acc=0.898 - time 0:01:45.870482\n"
     ]
    },
    {
     "name": "stderr",
     "output_type": "stream",
     "text": [
      " 31%|███       | 32500/105568 [1:54:38<4:18:50,  4.70it/s]"
     ]
    },
    {
     "name": "stdout",
     "output_type": "stream",
     "text": [
      "[Epoch 2 Batch 32500/105568] loss=0.3713, lr=0.0000050, acc=0.898 - time 0:01:45.816445\n"
     ]
    },
    {
     "name": "stderr",
     "output_type": "stream",
     "text": [
      " 31%|███       | 32825/105568 [1:55:47<4:16:13,  4.73it/s]2020-06-15 08:42:01,361 : INFO : wrote 5666 events to disk\n",
      " 31%|███▏      | 33000/105568 [1:56:24<4:13:29,  4.77it/s]"
     ]
    },
    {
     "name": "stdout",
     "output_type": "stream",
     "text": [
      "[Epoch 2 Batch 33000/105568] loss=0.3607, lr=0.0000050, acc=0.898 - time 0:01:45.911609\n"
     ]
    },
    {
     "name": "stderr",
     "output_type": "stream",
     "text": [
      " 32%|███▏      | 33500/105568 [1:58:09<4:12:31,  4.76it/s]"
     ]
    },
    {
     "name": "stdout",
     "output_type": "stream",
     "text": [
      "[Epoch 2 Batch 33500/105568] loss=0.3504, lr=0.0000050, acc=0.898 - time 0:01:45.728792\n"
     ]
    },
    {
     "name": "stderr",
     "output_type": "stream",
     "text": [
      " 32%|███▏      | 33883/105568 [1:59:30<4:14:05,  4.70it/s]IOPub message rate exceeded.\n",
      "The notebook server will temporarily stop sending output\n",
      "to the client in order to avoid crashing it.\n",
      "To change this limit, set the config variable\n",
      "`--NotebookApp.iopub_msg_rate_limit`.\n",
      "\n",
      "Current values:\n",
      "NotebookApp.iopub_msg_rate_limit=1000.0 (msgs/sec)\n",
      "NotebookApp.rate_limit_window=3.0 (secs)\n",
      "\n",
      " 45%|████▌     | 48000/105568 [2:49:19<3:23:46,  4.71it/s]"
     ]
    },
    {
     "name": "stdout",
     "output_type": "stream",
     "text": [
      "[Epoch 2 Batch 48000/105568] loss=0.3539, lr=0.0000050, acc=0.897 - time 0:01:45.774585\n"
     ]
    },
    {
     "name": "stderr",
     "output_type": "stream",
     "text": [
      " 46%|████▌     | 48500/105568 [2:51:05<3:19:38,  4.76it/s]"
     ]
    },
    {
     "name": "stdout",
     "output_type": "stream",
     "text": [
      "[Epoch 2 Batch 48500/105568] loss=0.3576, lr=0.0000050, acc=0.897 - time 0:01:45.597381\n"
     ]
    },
    {
     "name": "stderr",
     "output_type": "stream",
     "text": [
      " 46%|████▋     | 49000/105568 [2:52:50<3:20:01,  4.71it/s]"
     ]
    },
    {
     "name": "stdout",
     "output_type": "stream",
     "text": [
      "[Epoch 2 Batch 49000/105568] loss=0.3614, lr=0.0000050, acc=0.897 - time 0:01:45.739387\n"
     ]
    },
    {
     "name": "stderr",
     "output_type": "stream",
     "text": [
      " 47%|████▋     | 49500/105568 [2:54:36<3:15:46,  4.77it/s]"
     ]
    },
    {
     "name": "stdout",
     "output_type": "stream",
     "text": [
      "[Epoch 2 Batch 49500/105568] loss=0.3323, lr=0.0000050, acc=0.897 - time 0:01:45.934057\n"
     ]
    },
    {
     "name": "stderr",
     "output_type": "stream",
     "text": [
      " 47%|████▋     | 49837/105568 [2:55:48<3:15:10,  4.76it/s]2020-06-15 09:42:02,272 : INFO : wrote 5668 events to disk\n",
      " 47%|████▋     | 50000/105568 [2:56:22<3:17:06,  4.70it/s]"
     ]
    },
    {
     "name": "stdout",
     "output_type": "stream",
     "text": [
      "[Epoch 2 Batch 50000/105568] loss=0.3484, lr=0.0000050, acc=0.897 - time 0:01:45.731731\n"
     ]
    },
    {
     "name": "stderr",
     "output_type": "stream",
     "text": [
      " 48%|████▊     | 50500/105568 [2:58:08<3:17:02,  4.66it/s]"
     ]
    },
    {
     "name": "stdout",
     "output_type": "stream",
     "text": [
      "[Epoch 2 Batch 50500/105568] loss=0.3524, lr=0.0000050, acc=0.897 - time 0:01:45.701700\n"
     ]
    },
    {
     "name": "stderr",
     "output_type": "stream",
     "text": [
      " 48%|████▊     | 50521/105568 [2:58:12<3:13:47,  4.73it/s]IOPub message rate exceeded.\n",
      "The notebook server will temporarily stop sending output\n",
      "to the client in order to avoid crashing it.\n",
      "To change this limit, set the config variable\n",
      "`--NotebookApp.iopub_msg_rate_limit`.\n",
      "\n",
      "Current values:\n",
      "NotebookApp.iopub_msg_rate_limit=1000.0 (msgs/sec)\n",
      "NotebookApp.rate_limit_window=3.0 (secs)\n",
      "\n",
      " 61%|██████    | 64500/105568 [3:47:32<2:23:10,  4.78it/s]"
     ]
    },
    {
     "name": "stdout",
     "output_type": "stream",
     "text": [
      "[Epoch 2 Batch 64500/105568] loss=0.3333, lr=0.0000050, acc=0.897 - time 0:01:45.678121\n"
     ]
    },
    {
     "name": "stderr",
     "output_type": "stream",
     "text": [
      " 62%|██████▏   | 65000/105568 [3:49:18<2:22:29,  4.74it/s]"
     ]
    },
    {
     "name": "stdout",
     "output_type": "stream",
     "text": [
      "[Epoch 2 Batch 65000/105568] loss=0.3550, lr=0.0000050, acc=0.897 - time 0:01:45.759977\n"
     ]
    },
    {
     "name": "stderr",
     "output_type": "stream",
     "text": [
      " 62%|██████▏   | 65500/105568 [3:51:04<2:21:40,  4.71it/s]"
     ]
    },
    {
     "name": "stdout",
     "output_type": "stream",
     "text": [
      "[Epoch 2 Batch 65500/105568] loss=0.3498, lr=0.0000050, acc=0.897 - time 0:01:45.800602\n"
     ]
    },
    {
     "name": "stderr",
     "output_type": "stream",
     "text": [
      " 63%|██████▎   | 66000/105568 [3:52:50<2:19:45,  4.72it/s]"
     ]
    },
    {
     "name": "stdout",
     "output_type": "stream",
     "text": [
      "[Epoch 2 Batch 66000/105568] loss=0.3557, lr=0.0000050, acc=0.897 - time 0:01:45.749114\n"
     ]
    },
    {
     "name": "stderr",
     "output_type": "stream",
     "text": [
      " 63%|██████▎   | 66500/105568 [3:54:35<2:18:51,  4.69it/s]"
     ]
    },
    {
     "name": "stdout",
     "output_type": "stream",
     "text": [
      "[Epoch 2 Batch 66500/105568] loss=0.3267, lr=0.0000050, acc=0.897 - time 0:01:45.714896\n"
     ]
    },
    {
     "name": "stderr",
     "output_type": "stream",
     "text": [
      " 63%|██████▎   | 66843/105568 [3:55:48<2:14:57,  4.78it/s]2020-06-15 10:42:02,678 : INFO : wrote 5674 events to disk\n",
      " 63%|██████▎   | 67000/105568 [3:56:21<2:15:58,  4.73it/s]"
     ]
    },
    {
     "name": "stdout",
     "output_type": "stream",
     "text": [
      "[Epoch 2 Batch 67000/105568] loss=0.3529, lr=0.0000050, acc=0.897 - time 0:01:45.756573\n"
     ]
    },
    {
     "name": "stderr",
     "output_type": "stream",
     "text": [
      " 63%|██████▎   | 67032/105568 [3:56:28<2:14:28,  4.78it/s]IOPub message rate exceeded.\n",
      "The notebook server will temporarily stop sending output\n",
      "to the client in order to avoid crashing it.\n",
      "To change this limit, set the config variable\n",
      "`--NotebookApp.iopub_msg_rate_limit`.\n",
      "\n",
      "Current values:\n",
      "NotebookApp.iopub_msg_rate_limit=1000.0 (msgs/sec)\n",
      "NotebookApp.rate_limit_window=3.0 (secs)\n",
      "\n",
      " 77%|███████▋  | 81000/105568 [4:45:43<1:25:43,  4.78it/s]"
     ]
    },
    {
     "name": "stdout",
     "output_type": "stream",
     "text": [
      "[Epoch 2 Batch 81000/105568] loss=0.3806, lr=0.0000050, acc=0.896 - time 0:01:46.166773\n"
     ]
    },
    {
     "name": "stderr",
     "output_type": "stream",
     "text": [
      " 77%|███████▋  | 81027/105568 [4:45:48<1:27:22,  4.68it/s]2020-06-15 11:32:03,062 : INFO : wrote 5674 events to disk\n",
      " 77%|███████▋  | 81500/105568 [4:47:28<1:24:31,  4.75it/s]"
     ]
    },
    {
     "name": "stdout",
     "output_type": "stream",
     "text": [
      "[Epoch 2 Batch 81500/105568] loss=0.3505, lr=0.0000050, acc=0.896 - time 0:01:45.804018\n"
     ]
    },
    {
     "name": "stderr",
     "output_type": "stream",
     "text": [
      " 78%|███████▊  | 82000/105568 [4:49:14<1:22:24,  4.77it/s]"
     ]
    },
    {
     "name": "stdout",
     "output_type": "stream",
     "text": [
      "[Epoch 2 Batch 82000/105568] loss=0.3521, lr=0.0000050, acc=0.896 - time 0:01:45.700996\n"
     ]
    },
    {
     "name": "stderr",
     "output_type": "stream",
     "text": [
      " 78%|███████▊  | 82500/105568 [4:51:00<1:20:27,  4.78it/s]"
     ]
    },
    {
     "name": "stdout",
     "output_type": "stream",
     "text": [
      "[Epoch 2 Batch 82500/105568] loss=0.3545, lr=0.0000050, acc=0.896 - time 0:01:45.741197\n"
     ]
    },
    {
     "name": "stderr",
     "output_type": "stream",
     "text": [
      " 79%|███████▊  | 83000/105568 [4:52:46<1:19:37,  4.72it/s]"
     ]
    },
    {
     "name": "stdout",
     "output_type": "stream",
     "text": [
      "[Epoch 2 Batch 83000/105568] loss=0.3462, lr=0.0000050, acc=0.896 - time 0:01:45.839525\n"
     ]
    },
    {
     "name": "stderr",
     "output_type": "stream",
     "text": [
      " 79%|███████▉  | 83500/105568 [4:54:31<1:17:12,  4.76it/s]"
     ]
    },
    {
     "name": "stdout",
     "output_type": "stream",
     "text": [
      "[Epoch 2 Batch 83500/105568] loss=0.3457, lr=0.0000050, acc=0.897 - time 0:01:45.764917\n"
     ]
    },
    {
     "name": "stderr",
     "output_type": "stream",
     "text": [
      " 79%|███████▉  | 83523/105568 [4:54:36<1:17:21,  4.75it/s]IOPub message rate exceeded.\n",
      "The notebook server will temporarily stop sending output\n",
      "to the client in order to avoid crashing it.\n",
      "To change this limit, set the config variable\n",
      "`--NotebookApp.iopub_msg_rate_limit`.\n",
      "\n",
      "Current values:\n",
      "NotebookApp.iopub_msg_rate_limit=1000.0 (msgs/sec)\n",
      "NotebookApp.rate_limit_window=3.0 (secs)\n",
      "\n",
      " 89%|████████▊ | 93500/105568 [5:29:46<42:19,  4.75it/s]"
     ]
    },
    {
     "name": "stdout",
     "output_type": "stream",
     "text": [
      "[Epoch 2 Batch 93500/105568] loss=0.3604, lr=0.0000050, acc=0.896 - time 0:01:45.708272\n"
     ]
    },
    {
     "name": "stderr",
     "output_type": "stream",
     "text": [
      " 89%|████████▉ | 94000/105568 [5:31:32<40:48,  4.73it/s]"
     ]
    },
    {
     "name": "stdout",
     "output_type": "stream",
     "text": [
      "[Epoch 2 Batch 94000/105568] loss=0.3491, lr=0.0000050, acc=0.896 - time 0:01:45.591045\n"
     ]
    },
    {
     "name": "stderr",
     "output_type": "stream",
     "text": [
      " 90%|████████▉ | 94500/105568 [5:33:18<38:29,  4.79it/s]"
     ]
    },
    {
     "name": "stdout",
     "output_type": "stream",
     "text": [
      "[Epoch 2 Batch 94500/105568] loss=0.3704, lr=0.0000050, acc=0.896 - time 0:01:45.572427\n"
     ]
    },
    {
     "name": "stderr",
     "output_type": "stream",
     "text": [
      " 90%|████████▉ | 95000/105568 [5:35:03<37:40,  4.67it/s]"
     ]
    },
    {
     "name": "stdout",
     "output_type": "stream",
     "text": [
      "[Epoch 2 Batch 95000/105568] loss=0.3670, lr=0.0000050, acc=0.896 - time 0:01:45.545625\n"
     ]
    },
    {
     "name": "stderr",
     "output_type": "stream",
     "text": [
      " 90%|█████████ | 95216/105568 [5:35:49<36:26,  4.73it/s]2020-06-15 12:22:03,403 : INFO : wrote 5682 events to disk\n",
      " 90%|█████████ | 95500/105568 [5:36:49<35:30,  4.72it/s]"
     ]
    },
    {
     "name": "stdout",
     "output_type": "stream",
     "text": [
      "[Epoch 2 Batch 95500/105568] loss=0.3513, lr=0.0000050, acc=0.896 - time 0:01:45.579757\n"
     ]
    },
    {
     "name": "stderr",
     "output_type": "stream",
     "text": [
      " 91%|█████████ | 96000/105568 [5:38:34<33:15,  4.79it/s]"
     ]
    },
    {
     "name": "stdout",
     "output_type": "stream",
     "text": [
      "[Epoch 2 Batch 96000/105568] loss=0.3397, lr=0.0000050, acc=0.896 - time 0:01:45.568514\n"
     ]
    },
    {
     "name": "stderr",
     "output_type": "stream",
     "text": [
      " 91%|█████████▏| 96500/105568 [5:40:20<32:02,  4.72it/s]"
     ]
    },
    {
     "name": "stdout",
     "output_type": "stream",
     "text": [
      "[Epoch 2 Batch 96500/105568] loss=0.3473, lr=0.0000050, acc=0.896 - time 0:01:45.583590\n"
     ]
    },
    {
     "name": "stderr",
     "output_type": "stream",
     "text": [
      " 92%|█████████▏| 97000/105568 [5:42:05<30:13,  4.72it/s]"
     ]
    },
    {
     "name": "stdout",
     "output_type": "stream",
     "text": [
      "[Epoch 2 Batch 97000/105568] loss=0.3713, lr=0.0000050, acc=0.896 - time 0:01:45.499689\n"
     ]
    },
    {
     "name": "stderr",
     "output_type": "stream",
     "text": [
      " 92%|█████████▏| 97500/105568 [5:43:51<28:44,  4.68it/s]"
     ]
    },
    {
     "name": "stdout",
     "output_type": "stream",
     "text": [
      "[Epoch 2 Batch 97500/105568] loss=0.3616, lr=0.0000050, acc=0.896 - time 0:01:45.568215\n"
     ]
    },
    {
     "name": "stderr",
     "output_type": "stream",
     "text": [
      " 93%|█████████▎| 98000/105568 [5:45:36<26:52,  4.69it/s]"
     ]
    },
    {
     "name": "stdout",
     "output_type": "stream",
     "text": [
      "[Epoch 2 Batch 98000/105568] loss=0.3466, lr=0.0000050, acc=0.896 - time 0:01:45.551492\n"
     ]
    },
    {
     "name": "stderr",
     "output_type": "stream",
     "text": [
      " 93%|█████████▎| 98058/105568 [5:45:49<26:36,  4.71it/s]2020-06-15 12:32:03,432 : INFO : wrote 5684 events to disk\n",
      " 93%|█████████▎| 98500/105568 [5:47:22<24:48,  4.75it/s]"
     ]
    },
    {
     "name": "stdout",
     "output_type": "stream",
     "text": [
      "[Epoch 2 Batch 98500/105568] loss=0.3659, lr=0.0000050, acc=0.896 - time 0:01:45.491213\n"
     ]
    },
    {
     "name": "stderr",
     "output_type": "stream",
     "text": [
      " 94%|█████████▍| 99000/105568 [5:49:08<23:14,  4.71it/s]"
     ]
    },
    {
     "name": "stdout",
     "output_type": "stream",
     "text": [
      "[Epoch 2 Batch 99000/105568] loss=0.3386, lr=0.0000050, acc=0.896 - time 0:01:46.043320\n"
     ]
    },
    {
     "name": "stderr",
     "output_type": "stream",
     "text": [
      " 94%|█████████▍| 99500/105568 [5:50:54<21:33,  4.69it/s]"
     ]
    },
    {
     "name": "stdout",
     "output_type": "stream",
     "text": [
      "[Epoch 2 Batch 99500/105568] loss=0.3637, lr=0.0000050, acc=0.896 - time 0:01:45.823160\n"
     ]
    },
    {
     "name": "stderr",
     "output_type": "stream",
     "text": [
      " 95%|█████████▍| 100000/105568 [5:52:40<19:48,  4.68it/s]"
     ]
    },
    {
     "name": "stdout",
     "output_type": "stream",
     "text": [
      "[Epoch 2 Batch 100000/105568] loss=0.3592, lr=0.0000050, acc=0.896 - time 0:01:45.738014\n"
     ]
    },
    {
     "name": "stderr",
     "output_type": "stream",
     "text": [
      " 95%|█████████▌| 100500/105568 [5:54:25<17:51,  4.73it/s]"
     ]
    },
    {
     "name": "stdout",
     "output_type": "stream",
     "text": [
      "[Epoch 2 Batch 100500/105568] loss=0.3430, lr=0.0000050, acc=0.896 - time 0:01:45.572626\n"
     ]
    },
    {
     "name": "stderr",
     "output_type": "stream",
     "text": [
      " 96%|█████████▌| 100896/105568 [5:55:49<16:28,  4.73it/s]2020-06-15 12:42:03,473 : INFO : wrote 5676 events to disk\n",
      " 96%|█████████▌| 101000/105568 [5:56:11<16:02,  4.75it/s]"
     ]
    },
    {
     "name": "stdout",
     "output_type": "stream",
     "text": [
      "[Epoch 2 Batch 101000/105568] loss=0.3626, lr=0.0000050, acc=0.896 - time 0:01:45.624677\n"
     ]
    },
    {
     "name": "stderr",
     "output_type": "stream",
     "text": [
      " 96%|█████████▌| 101500/105568 [5:57:56<14:23,  4.71it/s]"
     ]
    },
    {
     "name": "stdout",
     "output_type": "stream",
     "text": [
      "[Epoch 2 Batch 101500/105568] loss=0.3536, lr=0.0000050, acc=0.896 - time 0:01:45.551726\n"
     ]
    },
    {
     "name": "stderr",
     "output_type": "stream",
     "text": [
      " 97%|█████████▋| 102000/105568 [5:59:42<12:40,  4.69it/s]"
     ]
    },
    {
     "name": "stdout",
     "output_type": "stream",
     "text": [
      "[Epoch 2 Batch 102000/105568] loss=0.3837, lr=0.0000050, acc=0.896 - time 0:01:45.744966\n"
     ]
    },
    {
     "name": "stderr",
     "output_type": "stream",
     "text": [
      " 97%|█████████▋| 102500/105568 [6:01:28<10:40,  4.79it/s]"
     ]
    },
    {
     "name": "stdout",
     "output_type": "stream",
     "text": [
      "[Epoch 2 Batch 102500/105568] loss=0.3427, lr=0.0000050, acc=0.896 - time 0:01:45.680741\n"
     ]
    },
    {
     "name": "stderr",
     "output_type": "stream",
     "text": [
      " 98%|█████████▊| 103000/105568 [6:03:14<09:05,  4.71it/s]"
     ]
    },
    {
     "name": "stdout",
     "output_type": "stream",
     "text": [
      "[Epoch 2 Batch 103000/105568] loss=0.3533, lr=0.0000050, acc=0.896 - time 0:01:45.754511\n"
     ]
    },
    {
     "name": "stderr",
     "output_type": "stream",
     "text": [
      " 98%|█████████▊| 103500/105568 [6:04:59<07:20,  4.70it/s]"
     ]
    },
    {
     "name": "stdout",
     "output_type": "stream",
     "text": [
      "[Epoch 2 Batch 103500/105568] loss=0.3594, lr=0.0000050, acc=0.896 - time 0:01:45.653264\n"
     ]
    },
    {
     "name": "stderr",
     "output_type": "stream",
     "text": [
      " 98%|█████████▊| 103735/105568 [6:05:49<06:27,  4.73it/s]2020-06-15 12:52:03,554 : INFO : wrote 5678 events to disk\n",
      " 99%|█████████▊| 104000/105568 [6:06:45<05:27,  4.79it/s]"
     ]
    },
    {
     "name": "stdout",
     "output_type": "stream",
     "text": [
      "[Epoch 2 Batch 104000/105568] loss=0.3419, lr=0.0000050, acc=0.896 - time 0:01:45.741579\n"
     ]
    },
    {
     "name": "stderr",
     "output_type": "stream",
     "text": [
      " 99%|█████████▉| 104500/105568 [6:08:31<03:44,  4.76it/s]"
     ]
    },
    {
     "name": "stdout",
     "output_type": "stream",
     "text": [
      "[Epoch 2 Batch 104500/105568] loss=0.3656, lr=0.0000050, acc=0.896 - time 0:01:45.784892\n"
     ]
    },
    {
     "name": "stderr",
     "output_type": "stream",
     "text": [
      " 99%|█████████▉| 105000/105568 [6:10:16<01:59,  4.76it/s]"
     ]
    },
    {
     "name": "stdout",
     "output_type": "stream",
     "text": [
      "[Epoch 2 Batch 105000/105568] loss=0.3655, lr=0.0000050, acc=0.896 - time 0:01:45.660681\n"
     ]
    },
    {
     "name": "stderr",
     "output_type": "stream",
     "text": [
      "100%|█████████▉| 105500/105568 [6:12:02<00:14,  4.68it/s]"
     ]
    },
    {
     "name": "stdout",
     "output_type": "stream",
     "text": [
      "[Epoch 2 Batch 105500/105568] loss=0.3357, lr=0.0000050, acc=0.896 - time 0:01:45.789043\n"
     ]
    },
    {
     "name": "stderr",
     "output_type": "stream",
     "text": [
      "100%|██████████| 105568/105568 [6:12:16<00:00,  4.73it/s]\n"
     ]
    },
    {
     "name": "stdout",
     "output_type": "stream",
     "text": [
      "Time for [epoch 2]: 6:12:17.000293\n",
      "Time for [training]: 18:36:41.722971\n"
     ]
    },
    {
     "data": {
      "image/png": "[encoded data removed]",
      "text/plain": [
       "<Figure size 432x288 with 2 Axes>"
      ]
     },
     "metadata": {
      "needs_background": "light"
     },
     "output_type": "display_data"
    },
    {
     "name": "stderr",
     "output_type": "stream",
     "text": [
      "2020-06-15 12:58:32,663 : INFO : wrote 3667 events to disk\n",
      "  0%|          | 0/11730 [00:00<?, ?it/s]"
     ]
    },
    {
     "name": "stdout",
     "output_type": "stream",
     "text": [
      "Time for [train model - 0]: 18:43:07.159812\n",
      "Start on [evaluate - 0] ...\n",
      "Start on [prediction] ...\n"
     ]
    },
    {
     "name": "stderr",
     "output_type": "stream",
     "text": [
      "  0%|          | 1/11730 [00:00<31:12,  6.26it/s]2020-06-15 12:58:32,902 : INFO : successfully opened events file: data/yelp_8_pro512BCE/events.out.tfevents.1592218712.cuda2\n",
      "2020-06-15 12:58:32,902 : INFO : wrote 1 event to disk\n",
      "2020-06-15 12:58:32,907 : INFO : wrote 1 event to disk\n",
      " 72%|███████▏  | 8391/11730 [10:00<03:58, 14.01it/s]2020-06-15 13:08:32,964 : INFO : wrote 16780 events to disk\n",
      "100%|██████████| 11730/11730 [13:58<00:00, 13.98it/s]\n"
     ]
    },
    {
     "name": "stdout",
     "output_type": "stream",
     "text": [
      "Time for [prediction]: 0:13:58.993183\n",
      "Accuracy in epoch 0: 0.8763925201773332\n",
      "Confusion Matrix:\n",
      "[[30781  4443]\n",
      " [ 4256 30896]]\n",
      "\n",
      "CM: [30781  4443  4256 30896] \n",
      "[tn, fp, fn, tp]\n",
      "  accuracy: 0.876\n",
      " precision: 0.876\n",
      "    recall: 0.876\n",
      "  f1-score: 0.876\n",
      "\n",
      "Accuracy:  0.876 \n",
      "\n",
      "Report for [BERTClassifier - yelp_8_pro512BCE]:\n",
      "              precision    recall  f1-score   support\n",
      "\n",
      "           0       0.88      0.87      0.88     35224\n",
      "           1       0.87      0.88      0.88     35152\n",
      "\n",
      "    accuracy                           0.88     70376\n",
      "   macro avg       0.88      0.88      0.88     70376\n",
      "weighted avg       0.88      0.88      0.88     70376\n",
      "\n"
     ]
    },
    {
     "name": "stderr",
     "output_type": "stream",
     "text": [
      "2020-06-15 13:12:33,337 : INFO : wrote 6679 events to disk\n"
     ]
    },
    {
     "name": "stdout",
     "output_type": "stream",
     "text": [
      "Time for [evaluate - 0]: 0:14:00.674339\n"
     ]
    },
    {
     "name": "stderr",
     "output_type": "stream",
     "text": [
      "  0%|          | 162/633384 [00:00<06:31, 1617.59it/s]"
     ]
    },
    {
     "name": "stdout",
     "output_type": "stream",
     "text": [
      "Start on [train model - 1] ...\n",
      "Start on [setup training] ...\n"
     ]
    },
    {
     "name": "stderr",
     "output_type": "stream",
     "text": [
      "100%|██████████| 633384/633384 [06:24<00:00, 1647.12it/s]\n"
     ]
    },
    {
     "name": "stdout",
     "output_type": "stream",
     "text": [
      "Time for [setup training]: 0:06:24.736075\n",
      "Start on [training] ...\n",
      "loaded checkpoint for epoch 0\n",
      "loaded checkpoint for epoch 1\n",
      "loaded checkpoint for epoch 2\n",
      "Time for [training]: 0:00:00.403892\n"
     ]
    },
    {
     "name": "stderr",
     "output_type": "stream",
     "text": [
      "  0%|          | 1/11730 [00:00<27:08,  7.20it/s]2020-06-15 13:18:59,075 : INFO : successfully opened events file: data/yelp_8_pro512BCE/events.out.tfevents.1592219939.cuda2\n",
      "2020-06-15 13:18:59,075 : INFO : wrote 1 event to disk\n",
      "2020-06-15 13:18:59,075 : INFO : wrote 1 event to disk\n"
     ]
    },
    {
     "name": "stdout",
     "output_type": "stream",
     "text": [
      "no stats to plot\n",
      "Time for [train model - 1]: 0:06:25.241723\n",
      "Start on [evaluate - 1] ...\n",
      "Start on [prediction] ...\n"
     ]
    },
    {
     "name": "stderr",
     "output_type": "stream",
     "text": [
      " 72%|███████▏  | 8417/11730 [10:00<03:58, 13.86it/s]2020-06-15 13:28:59,150 : INFO : wrote 16834 events to disk\n",
      "100%|██████████| 11730/11730 [13:56<00:00, 14.02it/s]\n"
     ]
    },
    {
     "name": "stdout",
     "output_type": "stream",
     "text": [
      "Time for [prediction]: 0:13:56.879521\n",
      "Accuracy in epoch 1: 0.8763925201773332\n"
     ]
    },
    {
     "name": "stderr",
     "output_type": "stream",
     "text": [
      "2020-06-15 13:32:57,464 : INFO : wrote 6625 events to disk\n"
     ]
    },
    {
     "name": "stdout",
     "output_type": "stream",
     "text": [
      "Confusion Matrix:\n",
      "[[30781  4443]\n",
      " [ 4256 30896]]\n",
      "\n",
      "CM: [30781  4443  4256 30896] \n",
      "[tn, fp, fn, tp]\n",
      "  accuracy: 0.876\n",
      " precision: 0.876\n",
      "    recall: 0.876\n",
      "  f1-score: 0.876\n",
      "\n",
      "Accuracy:  0.876 \n",
      "\n",
      "Report for [BERTClassifier - yelp_8_pro512BCE]:\n",
      "              precision    recall  f1-score   support\n",
      "\n",
      "           0       0.88      0.87      0.88     35224\n",
      "           1       0.87      0.88      0.88     35152\n",
      "\n",
      "    accuracy                           0.88     70376\n",
      "   macro avg       0.88      0.88      0.88     70376\n",
      "weighted avg       0.88      0.88      0.88     70376\n",
      "\n",
      "Time for [evaluate - 1]: 0:13:58.530331\n"
     ]
    },
    {
     "name": "stderr",
     "output_type": "stream",
     "text": [
      "  0%|          | 163/633384 [00:00<06:29, 1625.71it/s]"
     ]
    },
    {
     "name": "stdout",
     "output_type": "stream",
     "text": [
      "Start on [train model - 2] ...\n",
      "Start on [setup training] ...\n"
     ]
    },
    {
     "name": "stderr",
     "output_type": "stream",
     "text": [
      "100%|██████████| 633384/633384 [06:22<00:00, 1655.32it/s]\n"
     ]
    },
    {
     "name": "stdout",
     "output_type": "stream",
     "text": [
      "Time for [setup training]: 0:06:22.822899\n",
      "Start on [training] ...\n",
      "loaded checkpoint for epoch 0\n"
     ]
    },
    {
     "name": "stderr",
     "output_type": "stream",
     "text": [
      "  0%|          | 0/11730 [00:00<?, ?it/s]"
     ]
    },
    {
     "name": "stdout",
     "output_type": "stream",
     "text": [
      "loaded checkpoint for epoch 1\n",
      "loaded checkpoint for epoch 2\n",
      "Time for [training]: 0:00:00.411227\n",
      "no stats to plot\n",
      "Time for [train model - 2]: 0:06:23.256282\n",
      "Start on [evaluate - 2] ...\n",
      "Start on [prediction] ...\n"
     ]
    },
    {
     "name": "stderr",
     "output_type": "stream",
     "text": [
      "  0%|          | 1/11730 [00:00<41:41,  4.69it/s]2020-06-15 13:39:24,806 : INFO : successfully opened events file: data/yelp_8_pro512BCE/events.out.tfevents.1592221164.cuda2\n",
      "2020-06-15 13:39:24,807 : INFO : wrote 1 event to disk\n",
      "2020-06-15 13:39:24,808 : INFO : wrote 1 event to disk\n",
      " 72%|███████▏  | 8425/11730 [10:00<03:56, 13.96it/s]2020-06-15 13:49:24,834 : INFO : wrote 16848 events to disk\n",
      "100%|██████████| 11730/11730 [13:56<00:00, 14.03it/s]\n"
     ]
    },
    {
     "name": "stdout",
     "output_type": "stream",
     "text": [
      "Time for [prediction]: 0:13:56.039390\n",
      "Accuracy in epoch 2: 0.8763925201773332\n"
     ]
    },
    {
     "name": "stderr",
     "output_type": "stream",
     "text": [
      "2020-06-15 13:53:22,289 : INFO : wrote 6611 events to disk\n"
     ]
    },
    {
     "name": "stdout",
     "output_type": "stream",
     "text": [
      "Confusion Matrix:\n",
      "[[30781  4443]\n",
      " [ 4256 30896]]\n",
      "\n",
      "CM: [30781  4443  4256 30896] \n",
      "[tn, fp, fn, tp]\n",
      "  accuracy: 0.876\n",
      " precision: 0.876\n",
      "    recall: 0.876\n",
      "  f1-score: 0.876\n",
      "\n",
      "Accuracy:  0.876 \n",
      "\n",
      "Report for [BERTClassifier - yelp_8_pro512BCE]:\n",
      "              precision    recall  f1-score   support\n",
      "\n",
      "           0       0.88      0.87      0.88     35224\n",
      "           1       0.87      0.88      0.88     35152\n",
      "\n",
      "    accuracy                           0.88     70376\n",
      "   macro avg       0.88      0.88      0.88     70376\n",
      "weighted avg       0.88      0.88      0.88     70376\n",
      "\n",
      "Time for [evaluate - 2]: 0:13:57.702058\n",
      "Time for [train model (eval per epoch)]: 19:38:00.183354\n"
     ]
    }
   ],
   "source": [
    "with Timer(\"train model (eval per epoch)\"):\n",
    "    for epoch_id in range(num_epochs):\n",
    "        with Timer(f\"train model - {epoch_id}\"), SummaryWriter(logdir=str(fn_run_path), flush_secs=600) as sw:\n",
    "            stats = train(model, data_train, ctx, metric, loss_function, batch_size=batch_size, lr=5e-6, num_epochs=epoch_id + 1, sw=sw, checkpoint_dir=str(fn_run_path))\n",
    "            plot_train_stats(stats)\n",
    "\n",
    "        with Timer(f\"evaluate - {epoch_id}\"), SummaryWriter(logdir=str(fn_run_path), flush_secs=600) as sw:\n",
    "            all_predictions, cum_loss = predict(model, data_dev, ctx, metric, loss_function, batch_size=batch_size, sw=sw)\n",
    "            print(f\"Accuracy in epoch {epoch_id}:\", metric.get()[1])\n",
    "\n",
    "            y_true, y_pred = predict_out_to_ys(all_predictions, all_labels)\n",
    "            report_training_results(y_true, y_pred, name=f\"BERTClassifier - {run_name}\", heatmap=False)\n",
    "\n",
    "        model.save_parameters(str(fn_run_path / \"bert.model.params\"))"
   ]
  },
  {
   "cell_type": "code",
   "execution_count": 45,
   "metadata": {},
   "outputs": [
    {
     "name": "stdout",
     "output_type": "stream",
     "text": [
      "no stats to plot\n"
     ]
    }
   ],
   "source": [
    "plot_train_stats(stats)"
   ]
  },
  {
   "cell_type": "code",
   "execution_count": null,
   "metadata": {
    "scrolled": true
   },
   "outputs": [],
   "source": [
    "all_predictions, cum_loss = predict(model, data_dev, ctx, metric, loss_function, batch_size=batch_size)\n",
    "y_true, y_pred = predict_out_to_ys(all_predictions, all_labels)\n",
    "with open(fn_run_path / \"eval_untrained.p\", \"wb\") as fp:\n",
    "    pickle.dump(y_true, fp, protocol=pickle.HIGHEST_PROTOCOL)\n",
    "    pickle.dump(y_pred, fp, protocol=pickle.HIGHEST_PROTOCOL)\n",
    "report_training_results(y_true, y_pred, name=f\"BERTClassifier - {run_name}\", heatmap=False)\n",
    "plot_confusion_matrix(y_true, y_pred, labels=[0, 1], title=f\"{run_name} Untrained\", values_format=\"d\", cmap=\"Blues\", include_colorbar=False)\n",
    "plt.show()"
   ]
  },
  {
   "cell_type": "code",
   "execution_count": null,
   "metadata": {},
   "outputs": [],
   "source": [
    "print(\"Evaluate trained model for each epoch ...\")\n",
    "for epoch_id in range(num_epochs):\n",
    "    fn_model_state = fn_run_path / f\"bert.model.checkpoint{epoch_id}.params\"\n",
    "    print(f\"Load {fn_model_state} ...\")\n",
    "    model.load_parameters(str(fn_model_state), ctx=ctx)\n",
    "    all_predictions, cum_loss = predict(model, data_dev, ctx, metric, loss_function, batch_size=batch_size)\n",
    "    y_true, y_pred = predict_out_to_ys(all_predictions, all_labels)\n",
    "    with open(fn_run_path / f\"eval_epoch{epoch_id}.p\", \"wb\") as fp:\n",
    "        pickle.dump(y_true, fp, protocol=pickle.HIGHEST_PROTOCOL)\n",
    "        pickle.dump(y_pred, fp, protocol=pickle.HIGHEST_PROTOCOL)\n",
    "    report_training_results(y_true, y_pred, name=f\"BERTClassifier - {run_name}\", heatmap=False)\n",
    "    plot_confusion_matrix(y_true, y_pred, labels=[0, 1], title=f\"Yelp 7 Epoch {epoch_id}\", values_format=\"d\", cmap=\"Blues\", include_colorbar=False)\n",
    "    plt.show()"
   ]
  },
  {
   "cell_type": "code",
   "execution_count": null,
   "metadata": {},
   "outputs": [],
   "source": []
  },
  {
   "cell_type": "code",
   "execution_count": null,
   "metadata": {},
   "outputs": [],
   "source": []
  },
  {
   "cell_type": "code",
   "execution_count": null,
   "metadata": {
    "ExecuteTime": {
     "end_time": "2020-05-25T09:57:30.731979Z",
     "start_time": "2020-05-25T09:57:28.225820Z"
    },
    "jupyter": {
     "source_hidden": true
    }
   },
   "outputs": [],
   "source": [
    "if False:\n",
    "    run_name1 = \"yelp_1_pro128BCE\"\n",
    "    fn_run_path1 = Path(f\"data/{run_name1}\")\n",
    "    epoch_id = num_epochs - 1\n",
    "    fn_model_state = fn_run_path1 / f\"bert.model.checkpoint{epoch_id}.params\"\n",
    "    print(f\"Load {fn_model_state} ...\")\n",
    "    model.load_parameters(str(fn_model_state), ctx=ctx)"
   ]
  },
  {
   "cell_type": "code",
   "execution_count": null,
   "metadata": {
    "jupyter": {
     "source_hidden": true
    }
   },
   "outputs": [],
   "source": [
    "if False:\n",
    "    # for train set\n",
    "    print(\"Evaluate trained model for each epoch ...\")\n",
    "    all_predictions, cum_loss = predict(model, data_dev, ctx, metric, loss_function, batch_size=batch_size)\n",
    "    y_true, y_pred = predict_out_to_ys(all_predictions, all_labels)\n",
    "    with open(fn_run_path / f\"yelp_1_eval_epoch{epoch_id}.p\", \"wb\") as fp:\n",
    "        pickle.dump(y_true, fp, protocol=pickle.HIGHEST_PROTOCOL)\n",
    "        pickle.dump(y_pred, fp, protocol=pickle.HIGHEST_PROTOCOL)\n",
    "    report_training_results(y_true, y_pred, name=f\"BERTClassifier - {run_name}\", heatmap=False)\n",
    "    plot_confusion_matrix(y_true, y_pred, labels=[0, 1], title=f\"Yelp 1 Epoch {epoch_id} with double the number of pairing\", values_format=\"d\", cmap=\"Blues\", include_colorbar=False)\n",
    "    plt.show()"
   ]
  },
  {
   "cell_type": "code",
   "execution_count": null,
   "metadata": {
    "jupyter": {
     "source_hidden": true
    }
   },
   "outputs": [],
   "source": [
    "if False:\n",
    "    # for whole dataset\n",
    "    print(\"Prepare dataset ...\")\n",
    "    X_dev, y_dev = traindev_df[names_columns_X], traindev_df[names_columns_y]\n",
    "    _, data_dev = transform_dataset(X_dev, y_dev, transform)\n",
    "\n",
    "    print(\"Evaluate trained model for each epoch ...\")\n",
    "    all_predictions, cum_loss = predict(model, data_dev, ctx, metric, loss_function, batch_size=batch_size)\n",
    "    y_true, y_pred = predict_out_to_ys(all_predictions, all_labels)\n",
    "    with open(fn_run_path / f\"yelp_1_eval_epoch{epoch_id}_all.p\", \"wb\") as fp:\n",
    "        pickle.dump(y_true, fp, protocol=pickle.HIGHEST_PROTOCOL)\n",
    "        pickle.dump(y_pred, fp, protocol=pickle.HIGHEST_PROTOCOL)\n",
    "    report_training_results(y_true, y_pred, name=f\"BERTClassifier - {run_name} (ALL)\", heatmap=False)\n",
    "    plot_confusion_matrix(y_true, y_pred, labels=[0, 1], title=f\"Yelp 1 Epoch {epoch_id} with double the number of pairing (ALL)\", values_format=\"d\", cmap=\"Blues\", include_colorbar=False)\n",
    "    plt.show()"
   ]
  },
  {
   "cell_type": "code",
   "execution_count": null,
   "metadata": {},
   "outputs": [],
   "source": []
  },
  {
   "cell_type": "code",
   "execution_count": 46,
   "metadata": {},
   "outputs": [
    {
     "name": "stdout",
     "output_type": "stream",
     "text": [
      "bad-bad 17611\n",
      "bad-good 17631\n",
      "good-bad 17593\n",
      "good-good 17541\n"
     ]
    }
   ],
   "source": [
    "# merge train df\n",
    "traindev2_df = X_dev.join(y_dev)\n",
    "\n",
    "# group train df\n",
    "grouped_traindev_df = {pairtype: df_grouped for pairtype, df_grouped in traindev2_df.groupby([\"type\"])}\n",
    "for pairtype, df_grouped in grouped_traindev_df.items():\n",
    "    print(pairtype, len(df_grouped))\n",
    "\n",
    "# split train df\n",
    "grouped_traindev_df = {\n",
    "    pairtype: (df_grouped[names_columns_X], df_grouped[names_columns_y])\n",
    "    for pairtype, df_grouped in grouped_traindev_df.items()\n",
    "}"
   ]
  },
  {
   "cell_type": "code",
   "execution_count": 47,
   "metadata": {},
   "outputs": [
    {
     "name": "stdout",
     "output_type": "stream",
     "text": [
      "Start on [prepare validation data] ...\n",
      "Time for [prepare validation data]: 0:00:05.893033\n"
     ]
    }
   ],
   "source": [
    "with Timer(\"prepare validation data\"):\n",
    "    data_dev_grouped = {\n",
    "        # data_dev_raw, data_dev = transform_dataset(X_dev, y_dev, transform)\n",
    "        pairtype: transform_dataset(X_dev, y_dev, transform)\n",
    "        for pairtype, (X_dev, y_dev) in grouped_traindev_df.items()\n",
    "    }"
   ]
  },
  {
   "cell_type": "code",
   "execution_count": 48,
   "metadata": {
    "collapsed": true,
    "jupyter": {
     "outputs_hidden": true
    }
   },
   "outputs": [
    {
     "name": "stderr",
     "output_type": "stream",
     "text": [
      "  0%|          | 2/2936 [00:00<04:15, 11.48it/s]"
     ]
    },
    {
     "name": "stdout",
     "output_type": "stream",
     "text": [
      "Evaluate trained model on pairtype bad-bad #7...\n",
      "Start on [prediction] ...\n"
     ]
    },
    {
     "name": "stderr",
     "output_type": "stream",
     "text": [
      "100%|██████████| 2936/2936 [03:29<00:00, 14.04it/s]\n"
     ]
    },
    {
     "name": "stdout",
     "output_type": "stream",
     "text": [
      "Time for [prediction]: 0:03:29.070348\n",
      "Confusion Matrix:\n",
      "[[    0     0]\n",
      " [ 2719 14892]]\n",
      "\n",
      "CM: [    0     0  2719 14892] \n",
      "[tn, fp, fn, tp]\n",
      "  accuracy: 0.846\n",
      " precision: 0.500\n",
      "    recall: 0.423\n",
      "  f1-score: 0.458\n",
      "\n",
      "Accuracy:  0.846 \n",
      "\n",
      "Report for [BERTClassifier - yelp_8_pro512BCE - bad-bad]:\n",
      "              precision    recall  f1-score   support\n",
      "\n",
      "           0       0.00      0.00      0.00         0\n",
      "           1       1.00      0.85      0.92     17611\n",
      "\n",
      "    accuracy                           0.85     17611\n",
      "   macro avg       0.50      0.42      0.46     17611\n",
      "weighted avg       1.00      0.85      0.92     17611\n",
      "\n"
     ]
    },
    {
     "data": {
      "image/png": "[encoded data removed]",
      "text/plain": [
       "<Figure size 432x288 with 1 Axes>"
      ]
     },
     "metadata": {
      "needs_background": "light"
     },
     "output_type": "display_data"
    },
    {
     "name": "stderr",
     "output_type": "stream",
     "text": [
      "  0%|          | 0/2939 [00:00<?, ?it/s]"
     ]
    },
    {
     "name": "stdout",
     "output_type": "stream",
     "text": [
      "Evaluate trained model on pairtype bad-good #8...\n",
      "Start on [prediction] ...\n"
     ]
    },
    {
     "name": "stderr",
     "output_type": "stream",
     "text": [
      "100%|██████████| 2939/2939 [03:29<00:00, 14.06it/s]\n"
     ]
    },
    {
     "name": "stdout",
     "output_type": "stream",
     "text": [
      "Time for [prediction]: 0:03:29.069839\n",
      "Confusion Matrix:\n",
      "[[15533  2098]\n",
      " [    0     0]]\n",
      "\n",
      "CM: [15533  2098     0     0] \n",
      "[tn, fp, fn, tp]\n",
      "  accuracy: 0.881\n",
      " precision: 0.500\n",
      "    recall: 0.441\n",
      "  f1-score: 0.468\n",
      "\n",
      "Accuracy:  0.881 \n",
      "\n",
      "Report for [BERTClassifier - yelp_8_pro512BCE - bad-good]:\n",
      "              precision    recall  f1-score   support\n",
      "\n",
      "           0       1.00      0.88      0.94     17631\n",
      "           1       0.00      0.00      0.00         0\n",
      "\n",
      "    accuracy                           0.88     17631\n",
      "   macro avg       0.50      0.44      0.47     17631\n",
      "weighted avg       1.00      0.88      0.94     17631\n",
      "\n"
     ]
    },
    {
     "data": {
      "image/png": "[encoded data removed]",
      "text/plain": [
       "<Figure size 432x288 with 1 Axes>"
      ]
     },
     "metadata": {
      "needs_background": "light"
     },
     "output_type": "display_data"
    },
    {
     "name": "stderr",
     "output_type": "stream",
     "text": [
      "  0%|          | 0/2933 [00:00<?, ?it/s]"
     ]
    },
    {
     "name": "stdout",
     "output_type": "stream",
     "text": [
      "Evaluate trained model on pairtype good-bad #8...\n",
      "Start on [prediction] ...\n"
     ]
    },
    {
     "name": "stderr",
     "output_type": "stream",
     "text": [
      "100%|██████████| 2933/2933 [03:28<00:00, 14.05it/s]\n"
     ]
    },
    {
     "name": "stdout",
     "output_type": "stream",
     "text": [
      "Time for [prediction]: 0:03:28.693344\n",
      "Confusion Matrix:\n",
      "[[15248  2345]\n",
      " [    0     0]]\n",
      "\n",
      "CM: [15248  2345     0     0] \n",
      "[tn, fp, fn, tp]\n",
      "  accuracy: 0.867\n",
      " precision: 0.500\n",
      "    recall: 0.433\n",
      "  f1-score: 0.464\n",
      "\n",
      "Accuracy:  0.867 \n",
      "\n",
      "Report for [BERTClassifier - yelp_8_pro512BCE - good-bad]:\n",
      "              precision    recall  f1-score   support\n",
      "\n",
      "           0       1.00      0.87      0.93     17593\n",
      "           1       0.00      0.00      0.00         0\n",
      "\n",
      "    accuracy                           0.87     17593\n",
      "   macro avg       0.50      0.43      0.46     17593\n",
      "weighted avg       1.00      0.87      0.93     17593\n",
      "\n"
     ]
    },
    {
     "data": {
      "image/png": "[encoded data removed]",
      "text/plain": [
       "<Figure size 432x288 with 1 Axes>"
      ]
     },
     "metadata": {
      "needs_background": "light"
     },
     "output_type": "display_data"
    },
    {
     "name": "stderr",
     "output_type": "stream",
     "text": [
      "  0%|          | 0/2924 [00:00<?, ?it/s]"
     ]
    },
    {
     "name": "stdout",
     "output_type": "stream",
     "text": [
      "Evaluate trained model on pairtype good-good #9...\n",
      "Start on [prediction] ...\n"
     ]
    },
    {
     "name": "stderr",
     "output_type": "stream",
     "text": [
      "100%|██████████| 2924/2924 [03:26<00:00, 14.18it/s]\n"
     ]
    },
    {
     "name": "stdout",
     "output_type": "stream",
     "text": [
      "Time for [prediction]: 0:03:26.197508\n",
      "Confusion Matrix:\n",
      "[[    0     0]\n",
      " [ 1537 16004]]\n",
      "\n",
      "CM: [    0     0  1537 16004] \n",
      "[tn, fp, fn, tp]\n",
      "  accuracy: 0.912\n",
      " precision: 0.500\n",
      "    recall: 0.456\n",
      "  f1-score: 0.477\n",
      "\n",
      "Accuracy:  0.912 \n",
      "\n",
      "Report for [BERTClassifier - yelp_8_pro512BCE - good-good]:\n",
      "              precision    recall  f1-score   support\n",
      "\n",
      "           0       0.00      0.00      0.00         0\n",
      "           1       1.00      0.91      0.95     17541\n",
      "\n",
      "    accuracy                           0.91     17541\n",
      "   macro avg       0.50      0.46      0.48     17541\n",
      "weighted avg       1.00      0.91      0.95     17541\n",
      "\n"
     ]
    },
    {
     "data": {
      "image/png": "[encoded data removed]",
      "text/plain": [
       "<Figure size 432x288 with 1 Axes>"
      ]
     },
     "metadata": {
      "needs_background": "light"
     },
     "output_type": "display_data"
    }
   ],
   "source": [
    "for pairtype, (_, data_dev) in data_dev_grouped.items():\n",
    "    print(f\"Evaluate trained model on pairtype {pairtype} #{len(pairtype)}...\")\n",
    "\n",
    "    all_predictions, cum_loss = predict(model, data_dev, ctx, metric, loss_function, batch_size=batch_size)\n",
    "    y_true, y_pred = predict_out_to_ys(all_predictions, all_labels)\n",
    "    with open(fn_run_path / f\"yelp_8_eval_epoch{epoch_id}_{pairtype}.p\", \"wb\") as fp:\n",
    "        pickle.dump(y_true, fp, protocol=pickle.HIGHEST_PROTOCOL)\n",
    "        pickle.dump(y_pred, fp, protocol=pickle.HIGHEST_PROTOCOL)\n",
    "    report_training_results(y_true, y_pred, name=f\"BERTClassifier - {run_name} - {pairtype}\", heatmap=False)\n",
    "    plot_confusion_matrix(y_true, y_pred, labels=[0, 1], title=f\"Yelp {run_name} Epoch {epoch_id} on pairtype {pairtype}\", values_format=\"d\", cmap=\"Blues\", include_colorbar=False)\n",
    "    plt.show()"
   ]
  },
  {
   "cell_type": "markdown",
   "metadata": {},
   "source": [
    "pair-type-wise evaluation for yelp_8...\n",
    "\n",
    "```\n",
    "          [  tn,   fp,   fn,    tp]   Acc     #num\n",
    "bad-bad   [    0     0  2719 14892]   0.846   17611\n",
    "bad-good  [15533  2098     0     0]   0.881   17631\n",
    "good-bad  [15248  2345     0     0]   0.867   17593\n",
    "good-good [    0     0  1537 16004]   0.912   17541\n",
    "\n",
    "all*      [30781  4443  4256 30896]   0.876   70376\n",
    "```"
   ]
  },
  {
   "cell_type": "code",
   "execution_count": null,
   "metadata": {},
   "outputs": [],
   "source": []
  },
  {
   "cell_type": "code",
   "execution_count": null,
   "metadata": {},
   "outputs": [],
   "source": []
  },
  {
   "cell_type": "code",
   "execution_count": null,
   "metadata": {},
   "outputs": [],
   "source": []
  },
  {
   "cell_type": "markdown",
   "metadata": {},
   "source": [
    "pair-type-wise evaluation _(on pre-trained yelp_1_* model)_\n",
    "\n",
    "```\n",
    "          [  tn,   fp,   fn,    tp]   Acc     #num\n",
    "bad-bad   [    0     0  4086 13525]   0.768   17611\n",
    "bad-good  [13637  3994     0     0]   0.773   17631\n",
    "good-bad  [13742  3851     0     0]   0.781   17593\n",
    "good-good [    0     0  2200 15341]   0.875   17541\n",
    "\n",
    "all*      [27379  7845  6286 28866]   0.799   70376\n",
    "```"
   ]
  },
  {
   "cell_type": "markdown",
   "metadata": {},
   "source": [
    "---"
   ]
  },
  {
   "cell_type": "code",
   "execution_count": null,
   "metadata": {},
   "outputs": [],
   "source": [
    "# ALL traindev_df\n",
    "# group train df\n",
    "grouped_traindev_df = {pairtype: df_grouped for pairtype, df_grouped in traindev_df.groupby([\"type\"])}\n",
    "for pairtype, df_grouped in grouped_traindev_df.items():\n",
    "    print(pairtype, len(df_grouped))\n",
    "\n",
    "# split train df\n",
    "grouped_traindev_df = {\n",
    "    pairtype: (df_grouped[names_columns_X], df_grouped[names_columns_y])\n",
    "    for pairtype, df_grouped in grouped_traindev_df.items()\n",
    "}"
   ]
  },
  {
   "cell_type": "code",
   "execution_count": null,
   "metadata": {},
   "outputs": [],
   "source": [
    "with Timer(\"prepare validation data\"):\n",
    "    data_dev_grouped = {\n",
    "        # data_dev_raw, data_dev = transform_dataset(X_dev, y_dev, transform)\n",
    "        pairtype: transform_dataset(X_dev, y_dev, transform)[1]\n",
    "        for pairtype, (X_dev, y_dev) in grouped_traindev_df.items()\n",
    "    }"
   ]
  },
  {
   "cell_type": "code",
   "execution_count": null,
   "metadata": {},
   "outputs": [],
   "source": [
    "for pairtype, data_dev in data_dev_grouped.items():\n",
    "    print(f\"Evaluate trained model on pairtype {pairtype} #{len(pairtype)}...\")\n",
    "\n",
    "    all_predictions, cum_loss = predict(model, data_dev, ctx, metric, loss_function, batch_size=batch_size)\n",
    "    y_true, y_pred = predict_out_to_ys(all_predictions, all_labels)\n",
    "    with open(fn_run_path / f\"yelp_1_eval_epoch{epoch_id}_{pairtype}.p\", \"wb\") as fp:\n",
    "        pickle.dump(y_true, fp, protocol=pickle.HIGHEST_PROTOCOL)\n",
    "        pickle.dump(y_pred, fp, protocol=pickle.HIGHEST_PROTOCOL)\n",
    "    report_training_results(y_true, y_pred, name=f\"BERTClassifier - {run_name} - {pairtype}\", heatmap=False)\n",
    "    plot_confusion_matrix(y_true, y_pred, labels=[0, 1], title=f\"Yelp 1 Epoch {epoch_id} with double the number of pairing on pairtype {pairtype}\", values_format=\"d\", cmap=\"Blues\", include_colorbar=False)\n",
    "    plt.show()"
   ]
  },
  {
   "cell_type": "markdown",
   "metadata": {},
   "source": [
    "pair-type-wise evaluation _(on pre-trained yelp_1_* model)_\n",
    "\n",
    "```\n",
    "          [  tn,   fp,   fn,    tp]   Acc     #num\n",
    "bad-bad   [    0     0  4086 13525]   0.768   17611\n",
    "bad-good  [13637  3994     0     0]   0.773   17631\n",
    "good-bad  [13742  3851     0     0]   0.781   17593\n",
    "good-good [    0     0  2200 15341]   0.875   17541\n",
    "\n",
    "all*      [27379  7845  6286 28866]   0.799   70376\n",
    "```"
   ]
  },
  {
   "cell_type": "markdown",
   "metadata": {},
   "source": [
    "pair-type-wise evaluation _(on pre-trained yelp_1* model)_ using all traindev data (4 per business)\n",
    "\n",
    "```\n",
    "          [   tn,    fp,    fn,     tp]   Acc     #num\n",
    "bad-bad   [     0      0  40575 135365]   0.769   175940\n",
    "bad-good  [135835  40105      0      0]   0.772   175940\n",
    "good-bad  [137792  38148      0      0]   0.783   175940\n",
    "good-good [     0      0  21174 154766]   0.880   175940\n",
    "\n",
    "all*      [273627  78253  61749 290131]   0.801   703760\n",
    "```"
   ]
  },
  {
   "cell_type": "code",
   "execution_count": null,
   "metadata": {},
   "outputs": [],
   "source": []
  },
  {
   "cell_type": "code",
   "execution_count": null,
   "metadata": {},
   "outputs": [],
   "source": []
  },
  {
   "cell_type": "markdown",
   "metadata": {},
   "source": [
    "##### Training with TRAIN set"
   ]
  },
  {
   "cell_type": "code",
   "execution_count": null,
   "metadata": {},
   "outputs": [],
   "source": [
    "fn_run_path"
   ]
  },
  {
   "cell_type": "code",
   "execution_count": null,
   "metadata": {},
   "outputs": [],
   "source": [
    "for epoch_id in range(num_epochs):\n",
    "    with Timer(f\"train model - {epoch_id}\"), SummaryWriter(logdir=str(fn_run_path), flush_secs=600) as sw:\n",
    "        stats = train(model, data_train, ctx, metric, loss_function, batch_size=batch_size, lr=5e-6, num_epochs=epoch_id + 1, sw=sw, checkpoint_dir=str(fn_run_path))\n",
    "        plot_train_stats(stats)\n",
    "\n",
    "    with Timer(f\"evaluate - {epoch_id}\"), SummaryWriter(logdir=str(fn_run_path), flush_secs=600) as sw:\n",
    "        all_predictions, cum_loss = predict(model, data_dev, ctx, metric, loss_function, batch_size=batch_size, sw=sw)\n",
    "        print(f\"Accuracy in epoch {epoch_id}:\", metric.get()[1])\n",
    "\n",
    "        y_true, y_pred = predict_out_to_ys(all_predictions, all_labels)\n",
    "        report_training_results(y_true, y_pred, name=f\"BERTClassifier - {run_name}\", heatmap=False)\n",
    "\n",
    "    model.save_parameters(str(fn_run_path / \"bert.model.params\"))"
   ]
  },
  {
   "cell_type": "code",
   "execution_count": null,
   "metadata": {},
   "outputs": [],
   "source": [
    "plot_train_stats(stats)"
   ]
  },
  {
   "cell_type": "markdown",
   "metadata": {},
   "source": [
    "##### Results with validation set (DEV set)"
   ]
  },
  {
   "cell_type": "code",
   "execution_count": null,
   "metadata": {
    "scrolled": true
   },
   "outputs": [],
   "source": [
    "all_predictions, cum_loss = predict(model, data_dev, ctx, metric, loss_function, batch_size=batch_size)\n",
    "y_true, y_pred = predict_out_to_ys(all_predictions, all_labels)\n",
    "with open(fn_run_path / \"eval_untrained.p\", \"wb\") as fp:\n",
    "    pickle.dump(y_true, fp, protocol=pickle.HIGHEST_PROTOCOL)\n",
    "    pickle.dump(y_pred, fp, protocol=pickle.HIGHEST_PROTOCOL)\n",
    "report_training_results(y_true, y_pred, name=f\"BERTClassifier - {run_name}\", heatmap=False)\n",
    "plot_confusion_matrix(y_true, y_pred, labels=[0, 1], title=f\"{run_name} Untrained\", values_format=\"d\", cmap=\"Blues\", include_colorbar=False)\n",
    "plt.show()"
   ]
  },
  {
   "cell_type": "code",
   "execution_count": 58,
   "metadata": {
    "collapsed": true,
    "jupyter": {
     "outputs_hidden": true
    }
   },
   "outputs": [
    {
     "name": "stderr",
     "output_type": "stream",
     "text": [
      "  0%|          | 0/7608 [00:00<?, ?it/s]"
     ]
    },
    {
     "name": "stdout",
     "output_type": "stream",
     "text": [
      "Evaluate trained model for each epoch ...\n",
      "Load data/yelp_8_pro512BCE/bert.model.checkpoint0.params ...\n",
      "Start on [prediction] ...\n"
     ]
    },
    {
     "name": "stderr",
     "output_type": "stream",
     "text": [
      "100%|██████████| 7608/7608 [09:05<00:00, 13.96it/s]\n"
     ]
    },
    {
     "name": "stdout",
     "output_type": "stream",
     "text": [
      "Time for [prediction]: 0:09:05.121115\n",
      "Confusion Matrix:\n",
      "[[19767  3057]\n",
      " [ 2692 20132]]\n",
      "\n",
      "CM: [19767  3057  2692 20132] \n",
      "[tn, fp, fn, tp]\n",
      "  accuracy: 0.874\n",
      " precision: 0.874\n",
      "    recall: 0.874\n",
      "  f1-score: 0.874\n",
      "\n",
      "Accuracy:  0.874 \n",
      "\n",
      "Report for [BERTClassifier - yelp_8_pro512BCE]:\n",
      "              precision    recall  f1-score   support\n",
      "\n",
      "           0       0.88      0.87      0.87     22824\n",
      "           1       0.87      0.88      0.88     22824\n",
      "\n",
      "    accuracy                           0.87     45648\n",
      "   macro avg       0.87      0.87      0.87     45648\n",
      "weighted avg       0.87      0.87      0.87     45648\n",
      "\n"
     ]
    },
    {
     "data": {
      "image/png": "[encoded data removed]",
      "text/plain": [
       "<Figure size 432x288 with 1 Axes>"
      ]
     },
     "metadata": {
      "needs_background": "light"
     },
     "output_type": "display_data"
    },
    {
     "name": "stderr",
     "output_type": "stream",
     "text": [
      "  0%|          | 0/7608 [00:00<?, ?it/s]"
     ]
    },
    {
     "name": "stdout",
     "output_type": "stream",
     "text": [
      "Load data/yelp_8_pro512BCE/bert.model.checkpoint1.params ...\n",
      "Start on [prediction] ...\n"
     ]
    },
    {
     "name": "stderr",
     "output_type": "stream",
     "text": [
      "100%|██████████| 7608/7608 [09:05<00:00, 13.95it/s]\n"
     ]
    },
    {
     "name": "stdout",
     "output_type": "stream",
     "text": [
      "Time for [prediction]: 0:09:05.201917\n",
      "Confusion Matrix:\n",
      "[[20246  2578]\n",
      " [ 2612 20212]]\n",
      "\n",
      "CM: [20246  2578  2612 20212] \n",
      "[tn, fp, fn, tp]\n",
      "  accuracy: 0.886\n",
      " precision: 0.886\n",
      "    recall: 0.886\n",
      "  f1-score: 0.886\n",
      "\n",
      "Accuracy:  0.886 \n",
      "\n",
      "Report for [BERTClassifier - yelp_8_pro512BCE]:\n",
      "              precision    recall  f1-score   support\n",
      "\n",
      "           0       0.89      0.89      0.89     22824\n",
      "           1       0.89      0.89      0.89     22824\n",
      "\n",
      "    accuracy                           0.89     45648\n",
      "   macro avg       0.89      0.89      0.89     45648\n",
      "weighted avg       0.89      0.89      0.89     45648\n",
      "\n"
     ]
    },
    {
     "data": {
      "image/png": "[encoded data removed]",
      "text/plain": [
       "<Figure size 432x288 with 1 Axes>"
      ]
     },
     "metadata": {
      "needs_background": "light"
     },
     "output_type": "display_data"
    },
    {
     "name": "stderr",
     "output_type": "stream",
     "text": [
      "  0%|          | 0/7608 [00:00<?, ?it/s]"
     ]
    },
    {
     "name": "stdout",
     "output_type": "stream",
     "text": [
      "Load data/yelp_8_pro512BCE/bert.model.checkpoint2.params ...\n",
      "Start on [prediction] ...\n"
     ]
    },
    {
     "name": "stderr",
     "output_type": "stream",
     "text": [
      "100%|██████████| 7608/7608 [09:05<00:00, 13.96it/s]\n"
     ]
    },
    {
     "name": "stdout",
     "output_type": "stream",
     "text": [
      "Time for [prediction]: 0:09:05.051128\n",
      "Confusion Matrix:\n",
      "[[20245  2579]\n",
      " [ 2421 20403]]\n",
      "\n",
      "CM: [20245  2579  2421 20403] \n",
      "[tn, fp, fn, tp]\n",
      "  accuracy: 0.890\n",
      " precision: 0.890\n",
      "    recall: 0.890\n",
      "  f1-score: 0.890\n",
      "\n",
      "Accuracy:  0.89 \n",
      "\n",
      "Report for [BERTClassifier - yelp_8_pro512BCE]:\n",
      "              precision    recall  f1-score   support\n",
      "\n",
      "           0       0.89      0.89      0.89     22824\n",
      "           1       0.89      0.89      0.89     22824\n",
      "\n",
      "    accuracy                           0.89     45648\n",
      "   macro avg       0.89      0.89      0.89     45648\n",
      "weighted avg       0.89      0.89      0.89     45648\n",
      "\n"
     ]
    },
    {
     "data": {
      "image/png": "[encoded data removed]",
      "text/plain": [
       "<Figure size 432x288 with 1 Axes>"
      ]
     },
     "metadata": {
      "needs_background": "light"
     },
     "output_type": "display_data"
    }
   ],
   "source": [
    "print(\"Evaluate trained model for each epoch ...\")\n",
    "for epoch_id in range(num_epochs):\n",
    "    fn_model_state = fn_run_path / f\"bert.model.checkpoint{epoch_id}.params\"\n",
    "    print(f\"Load {fn_model_state} ...\")\n",
    "    model.load_parameters(str(fn_model_state), ctx=ctx)\n",
    "    all_predictions, cum_loss = predict(model, data_dev, ctx, metric, loss_function, batch_size=batch_size)\n",
    "    y_true, y_pred = predict_out_to_ys(all_predictions, all_labels)\n",
    "    with open(fn_run_path / f\"eval_epoch{epoch_id}.p\", \"wb\") as fp:\n",
    "        pickle.dump(y_true, fp, protocol=pickle.HIGHEST_PROTOCOL)\n",
    "        pickle.dump(y_pred, fp, protocol=pickle.HIGHEST_PROTOCOL)\n",
    "    report_training_results(y_true, y_pred, name=f\"BERTClassifier - {run_name}\", heatmap=False)\n",
    "    plot_confusion_matrix(y_true, y_pred, labels=[0, 1], title=f\"Yelp {run_name} Epoch {epoch_id}\", values_format=\"d\", cmap=\"Blues\", include_colorbar=False)\n",
    "    plt.show()"
   ]
  },
  {
   "cell_type": "code",
   "execution_count": 60,
   "metadata": {
    "collapsed": true,
    "jupyter": {
     "outputs_hidden": true
    }
   },
   "outputs": [
    {
     "name": "stderr",
     "output_type": "stream",
     "text": [
      "  0%|          | 0/7608 [00:00<?, ?it/s]"
     ]
    },
    {
     "name": "stdout",
     "output_type": "stream",
     "text": [
      "Evaluate trained model for each epoch ...\n",
      "Load data/yelp_8_pro512BCE/bert.model.checkpoint0.params ...\n",
      "Start on [prediction] ...\n"
     ]
    },
    {
     "name": "stderr",
     "output_type": "stream",
     "text": [
      "100%|██████████| 7608/7608 [09:04<00:00, 13.98it/s]\n"
     ]
    },
    {
     "name": "stdout",
     "output_type": "stream",
     "text": [
      "Time for [prediction]: 0:09:04.319702\n",
      "Confusion Matrix:\n",
      "[[19767  3057]\n",
      " [ 2692 20132]]\n",
      "\n",
      "CM: [19767  3057  2692 20132] \n",
      "[tn, fp, fn, tp]\n",
      "  accuracy: 0.874\n",
      " precision: 0.874\n",
      "    recall: 0.874\n",
      "  f1-score: 0.874\n",
      "\n",
      "Accuracy:  0.874 \n",
      "\n",
      "Report for [BERTClassifier - yelp_8_pro512BCE]:\n",
      "              precision    recall  f1-score   support\n",
      "\n",
      "           0       0.88      0.87      0.87     22824\n",
      "           1       0.87      0.88      0.88     22824\n",
      "\n",
      "    accuracy                           0.87     45648\n",
      "   macro avg       0.87      0.87      0.87     45648\n",
      "weighted avg       0.87      0.87      0.87     45648\n",
      "\n"
     ]
    },
    {
     "data": {
      "image/png": "[encoded data removed]",
      "text/plain": [
       "<Figure size 432x288 with 1 Axes>"
      ]
     },
     "metadata": {
      "needs_background": "light"
     },
     "output_type": "display_data"
    },
    {
     "name": "stderr",
     "output_type": "stream",
     "text": [
      "  0%|          | 0/7608 [00:00<?, ?it/s]"
     ]
    },
    {
     "name": "stdout",
     "output_type": "stream",
     "text": [
      "Load data/yelp_8_pro512BCE/bert.model.checkpoint1.params ...\n",
      "Start on [prediction] ...\n"
     ]
    },
    {
     "name": "stderr",
     "output_type": "stream",
     "text": [
      "100%|██████████| 7608/7608 [09:05<00:00, 13.95it/s]\n"
     ]
    },
    {
     "name": "stdout",
     "output_type": "stream",
     "text": [
      "Time for [prediction]: 0:09:05.245615\n",
      "Confusion Matrix:\n",
      "[[20246  2578]\n",
      " [ 2612 20212]]\n",
      "\n",
      "CM: [20246  2578  2612 20212] \n",
      "[tn, fp, fn, tp]\n",
      "  accuracy: 0.886\n",
      " precision: 0.886\n",
      "    recall: 0.886\n",
      "  f1-score: 0.886\n",
      "\n",
      "Accuracy:  0.886 \n",
      "\n",
      "Report for [BERTClassifier - yelp_8_pro512BCE]:\n",
      "              precision    recall  f1-score   support\n",
      "\n",
      "           0       0.89      0.89      0.89     22824\n",
      "           1       0.89      0.89      0.89     22824\n",
      "\n",
      "    accuracy                           0.89     45648\n",
      "   macro avg       0.89      0.89      0.89     45648\n",
      "weighted avg       0.89      0.89      0.89     45648\n",
      "\n"
     ]
    },
    {
     "data": {
      "image/png": "[encoded data removed]",
      "text/plain": [
       "<Figure size 432x288 with 1 Axes>"
      ]
     },
     "metadata": {
      "needs_background": "light"
     },
     "output_type": "display_data"
    },
    {
     "name": "stderr",
     "output_type": "stream",
     "text": [
      "  0%|          | 0/7608 [00:00<?, ?it/s]"
     ]
    },
    {
     "name": "stdout",
     "output_type": "stream",
     "text": [
      "Load data/yelp_8_pro512BCE/bert.model.checkpoint2.params ...\n",
      "Start on [prediction] ...\n"
     ]
    },
    {
     "name": "stderr",
     "output_type": "stream",
     "text": [
      "100%|██████████| 7608/7608 [09:05<00:00, 13.94it/s]\n"
     ]
    },
    {
     "name": "stdout",
     "output_type": "stream",
     "text": [
      "Time for [prediction]: 0:09:05.655029\n",
      "Confusion Matrix:\n",
      "[[20245  2579]\n",
      " [ 2421 20403]]\n",
      "\n",
      "CM: [20245  2579  2421 20403] \n",
      "[tn, fp, fn, tp]\n",
      "  accuracy: 0.890\n",
      " precision: 0.890\n",
      "    recall: 0.890\n",
      "  f1-score: 0.890\n",
      "\n",
      "Accuracy:  0.89 \n",
      "\n",
      "Report for [BERTClassifier - yelp_8_pro512BCE]:\n",
      "              precision    recall  f1-score   support\n",
      "\n",
      "           0       0.89      0.89      0.89     22824\n",
      "           1       0.89      0.89      0.89     22824\n",
      "\n",
      "    accuracy                           0.89     45648\n",
      "   macro avg       0.89      0.89      0.89     45648\n",
      "weighted avg       0.89      0.89      0.89     45648\n",
      "\n"
     ]
    },
    {
     "data": {
      "image/png": "[encoded data removed]",
      "text/plain": [
       "<Figure size 432x288 with 1 Axes>"
      ]
     },
     "metadata": {
      "needs_background": "light"
     },
     "output_type": "display_data"
    }
   ],
   "source": [
    "# 2nd attempt to see if it changes anything ...\n",
    "print(\"Evaluate trained model for each epoch ...\")\n",
    "for epoch_id in range(num_epochs):\n",
    "    fn_model_state = fn_run_path / f\"bert.model.checkpoint{epoch_id}.params\"\n",
    "    print(f\"Load {fn_model_state} ...\")\n",
    "    model.load_parameters(str(fn_model_state), ctx=ctx)\n",
    "    all_predictions, cum_loss = predict(model, data_dev, ctx, metric, loss_function, batch_size=batch_size)\n",
    "    y_true, y_pred = predict_out_to_ys(all_predictions, all_labels)\n",
    "    with open(fn_run_path / f\"eval_epoch{epoch_id}.p\", \"wb\") as fp:\n",
    "        pickle.dump(y_true, fp, protocol=pickle.HIGHEST_PROTOCOL)\n",
    "        pickle.dump(y_pred, fp, protocol=pickle.HIGHEST_PROTOCOL)\n",
    "    report_training_results(y_true, y_pred, name=f\"BERTClassifier - {run_name}\", heatmap=False)\n",
    "    plot_confusion_matrix(y_true, y_pred, labels=[0, 1], title=f\"Yelp {run_name} Epoch {epoch_id}\", values_format=\"d\", cmap=\"Blues\", include_colorbar=False)\n",
    "    plt.show()"
   ]
  },
  {
   "cell_type": "markdown",
   "metadata": {},
   "source": [
    "### Load other categories and evaluate"
   ]
  },
  {
   "cell_type": "code",
   "execution_count": 50,
   "metadata": {},
   "outputs": [
    {
     "name": "stdout",
     "output_type": "stream",
     "text": [
      "Load data/yelp_8_pro512BCE/bert.model.checkpoint2.params ...\n"
     ]
    }
   ],
   "source": [
    "epoch_id = num_epochs - 1\n",
    "fn_model_state = fn_run_path / f\"bert.model.checkpoint{epoch_id}.params\"\n",
    "print(f\"Load {fn_model_state} ...\")\n",
    "model.load_parameters(str(fn_model_state), ctx=ctx)"
   ]
  },
  {
   "cell_type": "code",
   "execution_count": 51,
   "metadata": {
    "ExecuteTime": {
     "end_time": "2020-05-25T09:57:50.978664Z",
     "start_time": "2020-05-25T09:57:50.972183Z"
    }
   },
   "outputs": [],
   "source": [
    "# lst_root_categories\n",
    "root_categories = get_root_category_items(map_categories)\n",
    "root_categories = sorted(root_categories, key=lambda x: x[\"title\"])\n",
    "root_category_labels = [x[\"title\"] for x in root_categories]"
   ]
  },
  {
   "cell_type": "code",
   "execution_count": null,
   "metadata": {
    "jupyter": {
     "source_hidden": true
    }
   },
   "outputs": [],
   "source": [
    "results_cross_no_overlap = dict()\n",
    "\n",
    "for root_category_label in root_category_labels:\n",
    "    if root_category_label == category_name:\n",
    "        continue\n",
    "\n",
    "    print(f\"Work on {root_category_label} ...\")\n",
    "    # without overlap\n",
    "    df_other = filter_root_category_businesses_not_other(root_category_label, category_name, inv_cat_bids, map_categories, map_cat_name2id)\n",
    "    if df_other.shape[0] == 0: continue\n",
    "\n",
    "    df_other = filter_min_review_freq(df_other, min_ratings=10)\n",
    "    df_other = filter_both_good_bad(df_other)\n",
    "    if df_other.shape[0] == 0: continue\n",
    "    df_other = make_or_load_pairs(df_other, None, num_pairs_per_class=4)\n",
    "    print(\"review pairs:\", len(df_other))\n",
    "    \n",
    "    df_other[\"tag\"] = \"NA\"\n",
    "    \n",
    "    X_dev, y_dev = df_other[names_columns_X_arteval], df_other[names_columns_y]\n",
    "    data_dev_raw, data_dev = transform_dataset(X_dev, y_dev, transform)\n",
    "    \n",
    "    all_predictions, cum_loss = predict(model, data_dev, ctx, metric, loss_function, batch_size=batch_size)\n",
    "    y_true, y_pred = predict_out_to_ys(all_predictions, all_labels)\n",
    "    report_training_results(y_true, y_pred, name=f\"BERTClassifier - {run_name} - {category_name}-->{root_category_label}\", heatmap=False)\n",
    "    plot_confusion_matrix(y_true, y_pred, labels=[0, 1], title=f\"{run_name} - {category_name}-->{root_category_label}\", values_format=\"d\", cmap=\"Blues\", include_colorbar=False)\n",
    "    plt.show()\n",
    "    \n",
    "    res_one = (len(df_other), len(df_other))\n",
    "    res_one += compute_metrics(y_true, y_pred, precision=8, averaging=\"macro\", dump=False)\n",
    "    results_cross_no_overlap[root_category_label] = res_one"
   ]
  },
  {
   "cell_type": "code",
   "execution_count": null,
   "metadata": {
    "ExecuteTime": {
     "end_time": "2020-05-25T11:45:38.739766Z",
     "start_time": "2020-05-25T09:59:53.432635Z"
    },
    "collapsed": true,
    "jupyter": {
     "outputs_hidden": true
    }
   },
   "outputs": [
    {
     "name": "stdout",
     "output_type": "stream",
     "text": [
      "Work on Active Life ...\n"
     ]
    },
    {
     "name": "stderr",
     "output_type": "stream",
     "text": [
      "100%|██████████| 1075/1075 [00:03<00:00, 315.03it/s]\n",
      "  3%|▎         | 28/1075 [00:00<00:03, 276.55it/s]"
     ]
    },
    {
     "name": "stdout",
     "output_type": "stream",
     "text": [
      "#ss (pos) 4300\n",
      "#ss (neg) 4300\n"
     ]
    },
    {
     "name": "stderr",
     "output_type": "stream",
     "text": [
      "100%|██████████| 1075/1075 [00:03<00:00, 316.43it/s]\n"
     ]
    },
    {
     "name": "stdout",
     "output_type": "stream",
     "text": [
      "#nss 8600\n",
      "#~ss 17200\n",
      "review pairs: 17200\n"
     ]
    },
    {
     "name": "stderr",
     "output_type": "stream",
     "text": [
      "  0%|          | 2/2867 [00:00<04:11, 11.40it/s]"
     ]
    },
    {
     "name": "stdout",
     "output_type": "stream",
     "text": [
      "Start on [prediction] ...\n"
     ]
    },
    {
     "name": "stderr",
     "output_type": "stream",
     "text": [
      "100%|██████████| 2867/2867 [03:24<00:00, 14.04it/s]\n"
     ]
    },
    {
     "name": "stdout",
     "output_type": "stream",
     "text": [
      "Time for [prediction]: 0:03:24.178770\n",
      "Confusion Matrix:\n",
      "[[7465 1135]\n",
      " [1081 7519]]\n",
      "\n",
      "CM: [7465 1135 1081 7519] \n",
      "[tn, fp, fn, tp]\n",
      "  accuracy: 0.871\n",
      " precision: 0.871\n",
      "    recall: 0.871\n",
      "  f1-score: 0.871\n",
      "\n",
      "Accuracy:  0.871 \n",
      "\n",
      "Report for [BERTClassifier - yelp_8_pro512BCE - *-->Active Life]:\n",
      "              precision    recall  f1-score   support\n",
      "\n",
      "           0       0.87      0.87      0.87      8600\n",
      "           1       0.87      0.87      0.87      8600\n",
      "\n",
      "    accuracy                           0.87     17200\n",
      "   macro avg       0.87      0.87      0.87     17200\n",
      "weighted avg       0.87      0.87      0.87     17200\n",
      "\n"
     ]
    },
    {
     "data": {
      "image/png": "[encoded data removed]",
      "text/plain": [
       "<Figure size 432x288 with 1 Axes>"
      ]
     },
     "metadata": {
      "needs_background": "light"
     },
     "output_type": "display_data"
    },
    {
     "name": "stdout",
     "output_type": "stream",
     "text": [
      "Work on Arts & Entertainment ...\n"
     ]
    },
    {
     "name": "stderr",
     "output_type": "stream",
     "text": [
      "100%|██████████| 1540/1540 [00:04<00:00, 311.96it/s]\n",
      "  0%|          | 6/1540 [00:00<00:25, 59.70it/s]"
     ]
    },
    {
     "name": "stdout",
     "output_type": "stream",
     "text": [
      "#ss (pos) 6160\n",
      "#ss (neg) 6160\n"
     ]
    },
    {
     "name": "stderr",
     "output_type": "stream",
     "text": [
      "100%|██████████| 1540/1540 [00:04<00:00, 313.09it/s]\n"
     ]
    },
    {
     "name": "stdout",
     "output_type": "stream",
     "text": [
      "#nss 12320\n",
      "#~ss 24640\n",
      "review pairs: 24640\n"
     ]
    },
    {
     "name": "stderr",
     "output_type": "stream",
     "text": [
      "  0%|          | 2/4107 [00:00<05:29, 12.45it/s]"
     ]
    },
    {
     "name": "stdout",
     "output_type": "stream",
     "text": [
      "Start on [prediction] ...\n"
     ]
    },
    {
     "name": "stderr",
     "output_type": "stream",
     "text": [
      "100%|██████████| 4107/4107 [04:54<00:00, 13.94it/s]\n"
     ]
    },
    {
     "name": "stdout",
     "output_type": "stream",
     "text": [
      "Time for [prediction]: 0:04:54.661738\n",
      "Confusion Matrix:\n",
      "[[10255  2065]\n",
      " [ 1921 10399]]\n",
      "\n",
      "CM: [10255  2065  1921 10399] \n",
      "[tn, fp, fn, tp]\n",
      "  accuracy: 0.838\n",
      " precision: 0.838\n",
      "    recall: 0.838\n",
      "  f1-score: 0.838\n",
      "\n",
      "Accuracy:  0.838 \n",
      "\n",
      "Report for [BERTClassifier - yelp_8_pro512BCE - *-->Arts & Entertainment]:\n",
      "              precision    recall  f1-score   support\n",
      "\n",
      "           0       0.84      0.83      0.84     12320\n",
      "           1       0.83      0.84      0.84     12320\n",
      "\n",
      "    accuracy                           0.84     24640\n",
      "   macro avg       0.84      0.84      0.84     24640\n",
      "weighted avg       0.84      0.84      0.84     24640\n",
      "\n"
     ]
    },
    {
     "data": {
      "image/png": "[encoded data removed]",
      "text/plain": [
       "<Figure size 432x288 with 1 Axes>"
      ]
     },
     "metadata": {
      "needs_background": "light"
     },
     "output_type": "display_data"
    },
    {
     "name": "stdout",
     "output_type": "stream",
     "text": [
      "Work on Automotive ...\n"
     ]
    },
    {
     "name": "stderr",
     "output_type": "stream",
     "text": [
      "100%|██████████| 1438/1438 [00:04<00:00, 321.94it/s]\n",
      "  2%|▏         | 28/1438 [00:00<00:05, 273.38it/s]"
     ]
    },
    {
     "name": "stdout",
     "output_type": "stream",
     "text": [
      "#ss (pos) 5752\n",
      "#ss (neg) 5752\n"
     ]
    },
    {
     "name": "stderr",
     "output_type": "stream",
     "text": [
      "100%|██████████| 1438/1438 [00:04<00:00, 316.95it/s]\n"
     ]
    },
    {
     "name": "stdout",
     "output_type": "stream",
     "text": [
      "#nss 11504\n",
      "#~ss 23008\n",
      "review pairs: 23008\n"
     ]
    },
    {
     "name": "stderr",
     "output_type": "stream",
     "text": [
      "  0%|          | 2/3835 [00:00<05:12, 12.26it/s]"
     ]
    },
    {
     "name": "stdout",
     "output_type": "stream",
     "text": [
      "Start on [prediction] ...\n"
     ]
    },
    {
     "name": "stderr",
     "output_type": "stream",
     "text": [
      "100%|██████████| 3835/3835 [04:34<00:00, 13.97it/s]\n"
     ]
    },
    {
     "name": "stdout",
     "output_type": "stream",
     "text": [
      "Time for [prediction]: 0:04:34.516383\n",
      "Confusion Matrix:\n",
      "[[10822   682]\n",
      " [  700 10804]]\n",
      "\n",
      "CM: [10822   682   700 10804] \n",
      "[tn, fp, fn, tp]\n",
      "  accuracy: 0.940\n",
      " precision: 0.940\n",
      "    recall: 0.940\n",
      "  f1-score: 0.940\n",
      "\n",
      "Accuracy:  0.94 \n",
      "\n",
      "Report for [BERTClassifier - yelp_8_pro512BCE - *-->Automotive]:\n",
      "              precision    recall  f1-score   support\n",
      "\n",
      "           0       0.94      0.94      0.94     11504\n",
      "           1       0.94      0.94      0.94     11504\n",
      "\n",
      "    accuracy                           0.94     23008\n",
      "   macro avg       0.94      0.94      0.94     23008\n",
      "weighted avg       0.94      0.94      0.94     23008\n",
      "\n"
     ]
    },
    {
     "data": {
      "image/png": "[encoded data removed]",
      "text/plain": [
       "<Figure size 432x288 with 1 Axes>"
      ]
     },
     "metadata": {
      "needs_background": "light"
     },
     "output_type": "display_data"
    },
    {
     "name": "stdout",
     "output_type": "stream",
     "text": [
      "Work on Beauty & Spas ...\n"
     ]
    },
    {
     "name": "stderr",
     "output_type": "stream",
     "text": [
      "100%|██████████| 2520/2520 [00:07<00:00, 325.45it/s]\n",
      "  1%|          | 18/2520 [00:00<00:14, 176.13it/s]"
     ]
    },
    {
     "name": "stdout",
     "output_type": "stream",
     "text": [
      "#ss (pos) 10080\n",
      "#ss (neg) 10080\n"
     ]
    },
    {
     "name": "stderr",
     "output_type": "stream",
     "text": [
      "100%|██████████| 2520/2520 [00:08<00:00, 310.04it/s]\n"
     ]
    },
    {
     "name": "stdout",
     "output_type": "stream",
     "text": [
      "#nss 20160\n",
      "#~ss 40320\n",
      "review pairs: 40320\n"
     ]
    },
    {
     "name": "stderr",
     "output_type": "stream",
     "text": [
      "  0%|          | 2/6720 [00:00<10:04, 11.12it/s]"
     ]
    },
    {
     "name": "stdout",
     "output_type": "stream",
     "text": [
      "Start on [prediction] ...\n"
     ]
    },
    {
     "name": "stderr",
     "output_type": "stream",
     "text": [
      "100%|██████████| 6720/6720 [07:59<00:00, 14.02it/s]\n"
     ]
    },
    {
     "name": "stdout",
     "output_type": "stream",
     "text": [
      "Time for [prediction]: 0:07:59.300662\n",
      "Confusion Matrix:\n",
      "[[18985  1175]\n",
      " [ 1246 18914]]\n",
      "\n",
      "CM: [18985  1175  1246 18914] \n",
      "[tn, fp, fn, tp]\n",
      "  accuracy: 0.940\n",
      " precision: 0.940\n",
      "    recall: 0.940\n",
      "  f1-score: 0.940\n",
      "\n",
      "Accuracy:  0.94 \n",
      "\n",
      "Report for [BERTClassifier - yelp_8_pro512BCE - *-->Beauty & Spas]:\n",
      "              precision    recall  f1-score   support\n",
      "\n",
      "           0       0.94      0.94      0.94     20160\n",
      "           1       0.94      0.94      0.94     20160\n",
      "\n",
      "    accuracy                           0.94     40320\n",
      "   macro avg       0.94      0.94      0.94     40320\n",
      "weighted avg       0.94      0.94      0.94     40320\n",
      "\n"
     ]
    },
    {
     "data": {
      "image/png": "[encoded data removed]",
      "text/plain": [
       "<Figure size 432x288 with 1 Axes>"
      ]
     },
     "metadata": {
      "needs_background": "light"
     },
     "output_type": "display_data"
    },
    {
     "name": "stdout",
     "output_type": "stream",
     "text": [
      "Work on Bicycles ...\n",
      "Work on Education ...\n"
     ]
    },
    {
     "name": "stderr",
     "output_type": "stream",
     "text": [
      "100%|██████████| 168/168 [00:00<00:00, 324.06it/s]\n",
      " 19%|█▉        | 32/168 [00:00<00:00, 313.31it/s]"
     ]
    },
    {
     "name": "stdout",
     "output_type": "stream",
     "text": [
      "#ss (pos) 672\n",
      "#ss (neg) 672\n"
     ]
    },
    {
     "name": "stderr",
     "output_type": "stream",
     "text": [
      "100%|██████████| 168/168 [00:00<00:00, 318.46it/s]\n"
     ]
    },
    {
     "name": "stdout",
     "output_type": "stream",
     "text": [
      "#nss 1344\n",
      "#~ss 2688\n",
      "review pairs: 2688\n"
     ]
    },
    {
     "name": "stderr",
     "output_type": "stream",
     "text": [
      "  0%|          | 2/448 [00:00<00:36, 12.32it/s]"
     ]
    },
    {
     "name": "stdout",
     "output_type": "stream",
     "text": [
      "Start on [prediction] ...\n"
     ]
    },
    {
     "name": "stderr",
     "output_type": "stream",
     "text": [
      "100%|██████████| 448/448 [00:32<00:00, 13.83it/s]\n"
     ]
    },
    {
     "name": "stdout",
     "output_type": "stream",
     "text": [
      "Time for [prediction]: 0:00:32.385327\n",
      "Confusion Matrix:\n",
      "[[1189  155]\n",
      " [ 153 1191]]\n",
      "\n",
      "CM: [1189  155  153 1191] \n",
      "[tn, fp, fn, tp]\n",
      "  accuracy: 0.885\n",
      " precision: 0.885\n",
      "    recall: 0.885\n",
      "  f1-score: 0.885\n",
      "\n",
      "Accuracy:  0.885 \n",
      "\n",
      "Report for [BERTClassifier - yelp_8_pro512BCE - *-->Education]:\n",
      "              precision    recall  f1-score   support\n",
      "\n",
      "           0       0.89      0.88      0.89      1344\n",
      "           1       0.88      0.89      0.89      1344\n",
      "\n",
      "    accuracy                           0.89      2688\n",
      "   macro avg       0.89      0.89      0.89      2688\n",
      "weighted avg       0.89      0.89      0.89      2688\n",
      "\n"
     ]
    },
    {
     "data": {
      "image/png": "[encoded data removed]",
      "text/plain": [
       "<Figure size 432x288 with 1 Axes>"
      ]
     },
     "metadata": {
      "needs_background": "light"
     },
     "output_type": "display_data"
    },
    {
     "name": "stdout",
     "output_type": "stream",
     "text": [
      "Work on Event Planning & Services ...\n"
     ]
    },
    {
     "name": "stderr",
     "output_type": "stream",
     "text": [
      "100%|██████████| 2409/2409 [00:07<00:00, 316.12it/s]\n",
      "  0%|          | 0/2409 [00:00<?, ?it/s]"
     ]
    },
    {
     "name": "stdout",
     "output_type": "stream",
     "text": [
      "#ss (pos) 9636\n",
      "#ss (neg) 9636\n"
     ]
    },
    {
     "name": "stderr",
     "output_type": "stream",
     "text": [
      "100%|██████████| 2409/2409 [00:07<00:00, 318.91it/s]\n"
     ]
    },
    {
     "name": "stdout",
     "output_type": "stream",
     "text": [
      "#nss 19272\n",
      "#~ss 38544\n",
      "review pairs: 38544\n"
     ]
    },
    {
     "name": "stderr",
     "output_type": "stream",
     "text": [
      "  0%|          | 2/6424 [00:00<09:30, 11.25it/s]"
     ]
    },
    {
     "name": "stdout",
     "output_type": "stream",
     "text": [
      "Start on [prediction] ...\n"
     ]
    },
    {
     "name": "stderr",
     "output_type": "stream",
     "text": [
      "100%|██████████| 6424/6424 [07:41<00:00, 13.92it/s]\n"
     ]
    },
    {
     "name": "stdout",
     "output_type": "stream",
     "text": [
      "Time for [prediction]: 0:07:41.372078\n",
      "Confusion Matrix:\n",
      "[[16790  2482]\n",
      " [ 2412 16860]]\n",
      "\n",
      "CM: [16790  2482  2412 16860] \n",
      "[tn, fp, fn, tp]\n",
      "  accuracy: 0.873\n",
      " precision: 0.873\n",
      "    recall: 0.873\n",
      "  f1-score: 0.873\n",
      "\n",
      "Accuracy:  0.873 \n",
      "\n",
      "Report for [BERTClassifier - yelp_8_pro512BCE - *-->Event Planning & Services]:\n",
      "              precision    recall  f1-score   support\n",
      "\n",
      "           0       0.87      0.87      0.87     19272\n",
      "           1       0.87      0.87      0.87     19272\n",
      "\n",
      "    accuracy                           0.87     38544\n",
      "   macro avg       0.87      0.87      0.87     38544\n",
      "weighted avg       0.87      0.87      0.87     38544\n",
      "\n"
     ]
    },
    {
     "data": {
      "image/png": "[encoded data removed]",
      "text/plain": [
       "<Figure size 432x288 with 1 Axes>"
      ]
     },
     "metadata": {
      "needs_background": "light"
     },
     "output_type": "display_data"
    },
    {
     "name": "stderr",
     "output_type": "stream",
     "text": [
      "  0%|          | 0/82 [00:00<?, ?it/s]"
     ]
    },
    {
     "name": "stdout",
     "output_type": "stream",
     "text": [
      "Work on Financial Services ...\n"
     ]
    },
    {
     "name": "stderr",
     "output_type": "stream",
     "text": [
      "100%|██████████| 82/82 [00:00<00:00, 323.76it/s]\n",
      " 41%|████▏     | 34/82 [00:00<00:00, 332.73it/s]"
     ]
    },
    {
     "name": "stdout",
     "output_type": "stream",
     "text": [
      "#ss (pos) 328\n",
      "#ss (neg) 328\n"
     ]
    },
    {
     "name": "stderr",
     "output_type": "stream",
     "text": [
      "100%|██████████| 82/82 [00:00<00:00, 331.24it/s]\n",
      "  0%|          | 0/219 [00:00<?, ?it/s]"
     ]
    },
    {
     "name": "stdout",
     "output_type": "stream",
     "text": [
      "#nss 656\n",
      "#~ss 1312\n",
      "review pairs: 1312\n",
      "Start on [prediction] ...\n"
     ]
    },
    {
     "name": "stderr",
     "output_type": "stream",
     "text": [
      "100%|██████████| 219/219 [00:15<00:00, 14.01it/s]\n"
     ]
    },
    {
     "name": "stdout",
     "output_type": "stream",
     "text": [
      "Time for [prediction]: 0:00:15.633048\n",
      "Confusion Matrix:\n",
      "[[626  30]\n",
      " [ 35 621]]\n",
      "\n",
      "CM: [626  30  35 621] \n",
      "[tn, fp, fn, tp]\n",
      "  accuracy: 0.950\n",
      " precision: 0.950\n",
      "    recall: 0.950\n",
      "  f1-score: 0.950\n",
      "\n",
      "Accuracy:  0.95 \n",
      "\n",
      "Report for [BERTClassifier - yelp_8_pro512BCE - *-->Financial Services]:\n",
      "              precision    recall  f1-score   support\n",
      "\n",
      "           0       0.95      0.95      0.95       656\n",
      "           1       0.95      0.95      0.95       656\n",
      "\n",
      "    accuracy                           0.95      1312\n",
      "   macro avg       0.95      0.95      0.95      1312\n",
      "weighted avg       0.95      0.95      0.95      1312\n",
      "\n"
     ]
    },
    {
     "data": {
      "image/png": "[encoded data removed]",
      "text/plain": [
       "<Figure size 432x288 with 1 Axes>"
      ]
     },
     "metadata": {
      "needs_background": "light"
     },
     "output_type": "display_data"
    },
    {
     "name": "stdout",
     "output_type": "stream",
     "text": [
      "Work on Food ...\n"
     ]
    },
    {
     "name": "stderr",
     "output_type": "stream",
     "text": [
      "100%|██████████| 8171/8171 [00:26<00:00, 303.79it/s]\n"
     ]
    },
    {
     "name": "stdout",
     "output_type": "stream",
     "text": [
      "#ss (pos) 32684\n",
      "#ss (neg) 32684\n"
     ]
    },
    {
     "name": "stderr",
     "output_type": "stream",
     "text": [
      "100%|██████████| 8171/8171 [00:26<00:00, 306.15it/s]\n"
     ]
    },
    {
     "name": "stdout",
     "output_type": "stream",
     "text": [
      "#nss 65368\n",
      "#~ss 130736\n",
      "review pairs: 130736\n"
     ]
    },
    {
     "name": "stderr",
     "output_type": "stream",
     "text": [
      "  0%|          | 2/21790 [00:00<32:04, 11.32it/s]"
     ]
    },
    {
     "name": "stdout",
     "output_type": "stream",
     "text": [
      "Start on [prediction] ...\n"
     ]
    },
    {
     "name": "stderr",
     "output_type": "stream",
     "text": [
      "100%|██████████| 21790/21790 [25:51<00:00, 14.05it/s]\n"
     ]
    },
    {
     "name": "stdout",
     "output_type": "stream",
     "text": [
      "Time for [prediction]: 0:25:51.014166\n",
      "Confusion Matrix:\n",
      "[[56635  8733]\n",
      " [ 8319 57049]]\n",
      "\n",
      "CM: [56635  8733  8319 57049] \n",
      "[tn, fp, fn, tp]\n",
      "  accuracy: 0.870\n",
      " precision: 0.870\n",
      "    recall: 0.870\n",
      "  f1-score: 0.870\n",
      "\n",
      "Accuracy:  0.87 \n",
      "\n",
      "Report for [BERTClassifier - yelp_8_pro512BCE - *-->Food]:\n",
      "              precision    recall  f1-score   support\n",
      "\n",
      "           0       0.87      0.87      0.87     65368\n",
      "           1       0.87      0.87      0.87     65368\n",
      "\n",
      "    accuracy                           0.87    130736\n",
      "   macro avg       0.87      0.87      0.87    130736\n",
      "weighted avg       0.87      0.87      0.87    130736\n",
      "\n"
     ]
    },
    {
     "data": {
      "image/png": "[encoded data removed]",
      "text/plain": [
       "<Figure size 432x288 with 1 Axes>"
      ]
     },
     "metadata": {
      "needs_background": "light"
     },
     "output_type": "display_data"
    },
    {
     "name": "stdout",
     "output_type": "stream",
     "text": [
      "Work on Health & Medical ...\n"
     ]
    },
    {
     "name": "stderr",
     "output_type": "stream",
     "text": [
      "100%|██████████| 1368/1368 [00:04<00:00, 321.82it/s]\n",
      "  2%|▏         | 28/1368 [00:00<00:04, 278.50it/s]"
     ]
    },
    {
     "name": "stdout",
     "output_type": "stream",
     "text": [
      "#ss (pos) 5472\n",
      "#ss (neg) 5472\n"
     ]
    },
    {
     "name": "stderr",
     "output_type": "stream",
     "text": [
      "100%|██████████| 1368/1368 [00:04<00:00, 287.22it/s]\n"
     ]
    },
    {
     "name": "stdout",
     "output_type": "stream",
     "text": [
      "#nss 10944\n",
      "#~ss 21888\n",
      "review pairs: 21888\n"
     ]
    },
    {
     "name": "stderr",
     "output_type": "stream",
     "text": [
      "  0%|          | 2/3648 [00:00<05:16, 11.51it/s]"
     ]
    },
    {
     "name": "stdout",
     "output_type": "stream",
     "text": [
      "Start on [prediction] ...\n"
     ]
    },
    {
     "name": "stderr",
     "output_type": "stream",
     "text": [
      "100%|██████████| 3648/3648 [04:22<00:00, 13.90it/s]\n"
     ]
    },
    {
     "name": "stdout",
     "output_type": "stream",
     "text": [
      "Time for [prediction]: 0:04:22.529655\n",
      "Confusion Matrix:\n",
      "[[10361   583]\n",
      " [  664 10280]]\n",
      "\n",
      "CM: [10361   583   664 10280] \n",
      "[tn, fp, fn, tp]\n",
      "  accuracy: 0.943\n",
      " precision: 0.943\n",
      "    recall: 0.943\n",
      "  f1-score: 0.943\n",
      "\n",
      "Accuracy:  0.943 \n",
      "\n",
      "Report for [BERTClassifier - yelp_8_pro512BCE - *-->Health & Medical]:\n",
      "              precision    recall  f1-score   support\n",
      "\n",
      "           0       0.94      0.95      0.94     10944\n",
      "           1       0.95      0.94      0.94     10944\n",
      "\n",
      "    accuracy                           0.94     21888\n",
      "   macro avg       0.94      0.94      0.94     21888\n",
      "weighted avg       0.94      0.94      0.94     21888\n",
      "\n"
     ]
    },
    {
     "data": {
      "image/png": "[encoded data removed]",
      "text/plain": [
       "<Figure size 432x288 with 1 Axes>"
      ]
     },
     "metadata": {
      "needs_background": "light"
     },
     "output_type": "display_data"
    },
    {
     "name": "stdout",
     "output_type": "stream",
     "text": [
      "Work on Home Services ...\n"
     ]
    },
    {
     "name": "stderr",
     "output_type": "stream",
     "text": [
      "100%|██████████| 1212/1212 [00:03<00:00, 324.60it/s]\n",
      "  2%|▏         | 30/1212 [00:00<00:04, 292.74it/s]"
     ]
    },
    {
     "name": "stdout",
     "output_type": "stream",
     "text": [
      "#ss (pos) 4848\n",
      "#ss (neg) 4848\n"
     ]
    },
    {
     "name": "stderr",
     "output_type": "stream",
     "text": [
      "100%|██████████| 1212/1212 [00:03<00:00, 327.12it/s]\n"
     ]
    },
    {
     "name": "stdout",
     "output_type": "stream",
     "text": [
      "#nss 9696\n",
      "#~ss 19392\n",
      "review pairs: 19392\n"
     ]
    },
    {
     "name": "stderr",
     "output_type": "stream",
     "text": [
      "  0%|          | 2/3232 [00:00<04:22, 12.33it/s]"
     ]
    },
    {
     "name": "stdout",
     "output_type": "stream",
     "text": [
      "Start on [prediction] ...\n"
     ]
    },
    {
     "name": "stderr",
     "output_type": "stream",
     "text": [
      "100%|██████████| 3232/3232 [03:53<00:00, 13.84it/s]\n"
     ]
    },
    {
     "name": "stdout",
     "output_type": "stream",
     "text": [
      "Time for [prediction]: 0:03:53.498439\n",
      "Confusion Matrix:\n",
      "[[9160  536]\n",
      " [ 541 9155]]\n",
      "\n",
      "CM: [9160  536  541 9155] \n",
      "[tn, fp, fn, tp]\n",
      "  accuracy: 0.944\n",
      " precision: 0.944\n",
      "    recall: 0.944\n",
      "  f1-score: 0.944\n",
      "\n",
      "Accuracy:  0.944 \n",
      "\n",
      "Report for [BERTClassifier - yelp_8_pro512BCE - *-->Home Services]:\n",
      "              precision    recall  f1-score   support\n",
      "\n",
      "           0       0.94      0.94      0.94      9696\n",
      "           1       0.94      0.94      0.94      9696\n",
      "\n",
      "    accuracy                           0.94     19392\n",
      "   macro avg       0.94      0.94      0.94     19392\n",
      "weighted avg       0.94      0.94      0.94     19392\n",
      "\n"
     ]
    },
    {
     "data": {
      "image/png": "[encoded data removed]",
      "text/plain": [
       "<Figure size 432x288 with 1 Axes>"
      ]
     },
     "metadata": {
      "needs_background": "light"
     },
     "output_type": "display_data"
    },
    {
     "name": "stdout",
     "output_type": "stream",
     "text": [
      "Work on Hotels & Travel ...\n"
     ]
    },
    {
     "name": "stderr",
     "output_type": "stream",
     "text": [
      "100%|██████████| 1357/1357 [00:04<00:00, 314.77it/s]\n",
      "  1%|▏         | 19/1357 [00:00<00:07, 188.88it/s]"
     ]
    },
    {
     "name": "stdout",
     "output_type": "stream",
     "text": [
      "#ss (pos) 5428\n",
      "#ss (neg) 5428\n"
     ]
    },
    {
     "name": "stderr",
     "output_type": "stream",
     "text": [
      "100%|██████████| 1357/1357 [00:04<00:00, 322.38it/s]\n"
     ]
    },
    {
     "name": "stdout",
     "output_type": "stream",
     "text": [
      "#nss 10856\n",
      "#~ss 21712\n",
      "review pairs: 21712\n"
     ]
    },
    {
     "name": "stderr",
     "output_type": "stream",
     "text": [
      "  0%|          | 2/3619 [00:00<05:02, 11.95it/s]"
     ]
    },
    {
     "name": "stdout",
     "output_type": "stream",
     "text": [
      "Start on [prediction] ...\n"
     ]
    },
    {
     "name": "stderr",
     "output_type": "stream",
     "text": [
      "100%|██████████| 3619/3619 [04:21<00:00, 13.84it/s]\n"
     ]
    },
    {
     "name": "stdout",
     "output_type": "stream",
     "text": [
      "Time for [prediction]: 0:04:21.562731\n",
      "Confusion Matrix:\n",
      "[[9466 1390]\n",
      " [1397 9459]]\n",
      "\n",
      "CM: [9466 1390 1397 9459] \n",
      "[tn, fp, fn, tp]\n",
      "  accuracy: 0.872\n",
      " precision: 0.872\n",
      "    recall: 0.872\n",
      "  f1-score: 0.872\n",
      "\n",
      "Accuracy:  0.872 \n",
      "\n",
      "Report for [BERTClassifier - yelp_8_pro512BCE - *-->Hotels & Travel]:\n",
      "              precision    recall  f1-score   support\n",
      "\n",
      "           0       0.87      0.87      0.87     10856\n",
      "           1       0.87      0.87      0.87     10856\n",
      "\n",
      "    accuracy                           0.87     21712\n",
      "   macro avg       0.87      0.87      0.87     21712\n",
      "weighted avg       0.87      0.87      0.87     21712\n",
      "\n"
     ]
    },
    {
     "data": {
      "image/png": "[encoded data removed]",
      "text/plain": [
       "<Figure size 432x288 with 1 Axes>"
      ]
     },
     "metadata": {
      "needs_background": "light"
     },
     "output_type": "display_data"
    },
    {
     "name": "stdout",
     "output_type": "stream",
     "text": [
      "Work on Local Flavor ...\n"
     ]
    },
    {
     "name": "stderr",
     "output_type": "stream",
     "text": [
      "100%|██████████| 341/341 [00:01<00:00, 320.00it/s]\n",
      "  9%|▉         | 30/341 [00:00<00:01, 294.01it/s]"
     ]
    },
    {
     "name": "stdout",
     "output_type": "stream",
     "text": [
      "#ss (pos) 1364\n",
      "#ss (neg) 1364\n"
     ]
    },
    {
     "name": "stderr",
     "output_type": "stream",
     "text": [
      "100%|██████████| 341/341 [00:01<00:00, 311.63it/s]\n"
     ]
    },
    {
     "name": "stdout",
     "output_type": "stream",
     "text": [
      "#nss 2728\n",
      "#~ss 5456\n",
      "review pairs: 5456\n"
     ]
    },
    {
     "name": "stderr",
     "output_type": "stream",
     "text": [
      "  0%|          | 2/910 [00:00<01:15, 12.10it/s]"
     ]
    },
    {
     "name": "stdout",
     "output_type": "stream",
     "text": [
      "Start on [prediction] ...\n"
     ]
    },
    {
     "name": "stderr",
     "output_type": "stream",
     "text": [
      "100%|██████████| 910/910 [01:05<00:00, 13.97it/s]\n"
     ]
    },
    {
     "name": "stdout",
     "output_type": "stream",
     "text": [
      "Time for [prediction]: 0:01:05.148876\n",
      "Confusion Matrix:\n",
      "[[2282  446]\n",
      " [ 405 2323]]\n",
      "\n",
      "CM: [2282  446  405 2323] \n",
      "[tn, fp, fn, tp]\n",
      "  accuracy: 0.844\n",
      " precision: 0.844\n",
      "    recall: 0.844\n",
      "  f1-score: 0.844\n",
      "\n",
      "Accuracy:  0.844 \n",
      "\n",
      "Report for [BERTClassifier - yelp_8_pro512BCE - *-->Local Flavor]:\n",
      "              precision    recall  f1-score   support\n",
      "\n",
      "           0       0.85      0.84      0.84      2728\n",
      "           1       0.84      0.85      0.85      2728\n",
      "\n",
      "    accuracy                           0.84      5456\n",
      "   macro avg       0.84      0.84      0.84      5456\n",
      "weighted avg       0.84      0.84      0.84      5456\n",
      "\n"
     ]
    },
    {
     "data": {
      "image/png": "[encoded data removed]",
      "text/plain": [
       "<Figure size 432x288 with 1 Axes>"
      ]
     },
     "metadata": {
      "needs_background": "light"
     },
     "output_type": "display_data"
    },
    {
     "name": "stdout",
     "output_type": "stream",
     "text": [
      "Work on Local Services ...\n"
     ]
    },
    {
     "name": "stderr",
     "output_type": "stream",
     "text": [
      "100%|██████████| 871/871 [00:02<00:00, 315.68it/s]\n",
      "  3%|▎         | 29/871 [00:00<00:02, 289.79it/s]"
     ]
    },
    {
     "name": "stdout",
     "output_type": "stream",
     "text": [
      "#ss (pos) 3484\n",
      "#ss (neg) 3484\n"
     ]
    },
    {
     "name": "stderr",
     "output_type": "stream",
     "text": [
      "100%|██████████| 871/871 [00:02<00:00, 320.36it/s]\n"
     ]
    },
    {
     "name": "stdout",
     "output_type": "stream",
     "text": [
      "#nss 6968\n",
      "#~ss 13936\n",
      "review pairs: 13936\n"
     ]
    },
    {
     "name": "stderr",
     "output_type": "stream",
     "text": [
      "  0%|          | 2/2323 [00:00<03:07, 12.35it/s]"
     ]
    },
    {
     "name": "stdout",
     "output_type": "stream",
     "text": [
      "Start on [prediction] ...\n"
     ]
    },
    {
     "name": "stderr",
     "output_type": "stream",
     "text": [
      "100%|██████████| 2323/2323 [02:46<00:00, 13.98it/s]\n"
     ]
    },
    {
     "name": "stdout",
     "output_type": "stream",
     "text": [
      "Time for [prediction]: 0:02:46.152522\n",
      "Confusion Matrix:\n",
      "[[6544  424]\n",
      " [ 471 6497]]\n",
      "\n",
      "CM: [6544  424  471 6497] \n",
      "[tn, fp, fn, tp]\n",
      "  accuracy: 0.936\n",
      " precision: 0.936\n",
      "    recall: 0.936\n",
      "  f1-score: 0.936\n",
      "\n",
      "Accuracy:  0.936 \n",
      "\n",
      "Report for [BERTClassifier - yelp_8_pro512BCE - *-->Local Services]:\n",
      "              precision    recall  f1-score   support\n",
      "\n",
      "           0       0.93      0.94      0.94      6968\n",
      "           1       0.94      0.93      0.94      6968\n",
      "\n",
      "    accuracy                           0.94     13936\n",
      "   macro avg       0.94      0.94      0.94     13936\n",
      "weighted avg       0.94      0.94      0.94     13936\n",
      "\n"
     ]
    },
    {
     "data": {
      "image/png": "[encoded data removed]",
      "text/plain": [
       "<Figure size 432x288 with 1 Axes>"
      ]
     },
     "metadata": {
      "needs_background": "light"
     },
     "output_type": "display_data"
    },
    {
     "name": "stdout",
     "output_type": "stream",
     "text": [
      "Work on Mass Media ...\n"
     ]
    },
    {
     "name": "stderr",
     "output_type": "stream",
     "text": [
      "100%|██████████| 11/11 [00:00<00:00, 322.19it/s]\n",
      "100%|██████████| 11/11 [00:00<00:00, 324.84it/s]\n",
      "  0%|          | 0/30 [00:00<?, ?it/s]"
     ]
    },
    {
     "name": "stdout",
     "output_type": "stream",
     "text": [
      "#ss (pos) 44\n",
      "#ss (neg) 44\n",
      "#nss 88\n",
      "#~ss 176\n",
      "review pairs: 176\n",
      "Start on [prediction] ...\n"
     ]
    },
    {
     "name": "stderr",
     "output_type": "stream",
     "text": [
      "100%|██████████| 30/30 [00:02<00:00, 14.20it/s]"
     ]
    },
    {
     "name": "stdout",
     "output_type": "stream",
     "text": [
      "Time for [prediction]: 0:00:02.114239\n",
      "Confusion Matrix:\n",
      "[[78 10]\n",
      " [ 8 80]]\n",
      "\n",
      "CM: [78 10  8 80] \n",
      "[tn, fp, fn, tp]\n",
      "  accuracy: 0.898\n",
      " precision: 0.898\n",
      "    recall: 0.898\n",
      "  f1-score: 0.898\n",
      "\n",
      "Accuracy:  0.898 \n",
      "\n",
      "Report for [BERTClassifier - yelp_8_pro512BCE - *-->Mass Media]:\n",
      "              precision    recall  f1-score   support\n",
      "\n",
      "           0       0.91      0.89      0.90        88\n",
      "           1       0.89      0.91      0.90        88\n",
      "\n",
      "    accuracy                           0.90       176\n",
      "   macro avg       0.90      0.90      0.90       176\n",
      "weighted avg       0.90      0.90      0.90       176\n",
      "\n"
     ]
    },
    {
     "name": "stderr",
     "output_type": "stream",
     "text": [
      "\n"
     ]
    },
    {
     "data": {
      "image/png": "[encoded data removed]",
      "text/plain": [
       "<Figure size 432x288 with 1 Axes>"
      ]
     },
     "metadata": {
      "needs_background": "light"
     },
     "output_type": "display_data"
    },
    {
     "name": "stdout",
     "output_type": "stream",
     "text": [
      "Work on Nightlife ...\n"
     ]
    },
    {
     "name": "stderr",
     "output_type": "stream",
     "text": [
      "100%|██████████| 6126/6126 [00:20<00:00, 305.82it/s]\n"
     ]
    },
    {
     "name": "stdout",
     "output_type": "stream",
     "text": [
      "#ss (pos) 24504\n",
      "#ss (neg) 24504\n"
     ]
    },
    {
     "name": "stderr",
     "output_type": "stream",
     "text": [
      "100%|██████████| 6126/6126 [00:20<00:00, 305.99it/s]\n"
     ]
    },
    {
     "name": "stdout",
     "output_type": "stream",
     "text": [
      "#nss 49008\n",
      "#~ss 98016\n",
      "review pairs: 98016\n"
     ]
    },
    {
     "name": "stderr",
     "output_type": "stream",
     "text": [
      "  0%|          | 2/16336 [00:00<23:25, 11.62it/s]"
     ]
    },
    {
     "name": "stdout",
     "output_type": "stream",
     "text": [
      "Start on [prediction] ...\n"
     ]
    },
    {
     "name": "stderr",
     "output_type": "stream",
     "text": [
      " 43%|████▎     | 6990/16336 [08:19<11:04, 14.05it/s]"
     ]
    }
   ],
   "source": [
    "results_cross_overlap = dict()\n",
    "\n",
    "for root_category_label in root_category_labels:\n",
    "    if root_category_label == category_name:\n",
    "        continue\n",
    "\n",
    "    print(f\"Work on {root_category_label} ...\")\n",
    "    # with overlap\n",
    "    df_other = load_cached_root_category_businesses_df(root_category_label, map_categories)\n",
    "    if df_other.shape[0] == 0: continue\n",
    "\n",
    "    df_other = filter_min_review_freq(df_other, min_ratings=10)\n",
    "    df_other = filter_both_good_bad(df_other)\n",
    "    if df_other.shape[0] == 0: continue\n",
    "    # TODO: maybe reset randomness here, so previous calls to random don't influence it?\n",
    "    df_other = make_or_load_pairs(df_other, None, num_pairs_per_class=4)\n",
    "    print(\"review pairs:\", len(df_other))\n",
    "    \n",
    "    df_other[\"tag\"] = \"NA\"\n",
    "    \n",
    "    X_dev, y_dev = df_other[names_columns_X_arteval], df_other[names_columns_y]\n",
    "    data_dev_raw, data_dev = transform_dataset(X_dev, y_dev, transform)\n",
    "    \n",
    "    all_predictions, cum_loss = predict(model, data_dev, ctx, metric, loss_function, batch_size=batch_size)\n",
    "    y_true, y_pred = predict_out_to_ys(all_predictions, all_labels)\n",
    "    report_training_results(y_true, y_pred, name=f\"BERTClassifier - {run_name} - {category_name}-->{root_category_label}\", heatmap=False)\n",
    "    plot_confusion_matrix(y_true, y_pred, labels=[0, 1], title=f\"{run_name} - {category_name}-->{root_category_label}\", values_format=\"d\", cmap=\"Blues\", include_colorbar=False)\n",
    "    plt.show()\n",
    "    \n",
    "    res_one = (len(df_other), len(df_other))\n",
    "    res_one += compute_metrics(y_true, y_pred, precision=8, averaging=\"macro\", dump=False)\n",
    "    results_cross_overlap[root_category_label] = res_one"
   ]
  },
  {
   "cell_type": "code",
   "execution_count": null,
   "metadata": {},
   "outputs": [],
   "source": [
    "results_cross_no_overlap"
   ]
  },
  {
   "cell_type": "code",
   "execution_count": 59,
   "metadata": {
    "ExecuteTime": {
     "end_time": "2020-05-25T11:45:41.701996Z",
     "start_time": "2020-05-25T11:45:41.689711Z"
    },
    "collapsed": true,
    "jupyter": {
     "outputs_hidden": true
    }
   },
   "outputs": [
    {
     "data": {
      "text/plain": [
       "{'Active Life': (17200,\n",
       "  17200,\n",
       "  0.8711774250050205,\n",
       "  0.8711627906976744,\n",
       "  0.871161520778105,\n",
       "  0.8711627906976744,\n",
       "  array([[7465, 1135],\n",
       "         [1081, 7519]])),\n",
       " 'Arts & Entertainment': (24640,\n",
       "  24640,\n",
       "  0.8382767337079278,\n",
       "  0.8382305194805195,\n",
       "  0.8382249941914865,\n",
       "  0.8382305194805195,\n",
       "  array([[10255,  2065],\n",
       "         [ 1921, 10399]])),\n",
       " 'Automotive': (23008,\n",
       "  23008,\n",
       "  0.9399350130720711,\n",
       "  0.9399339360222532,\n",
       "  0.9399338992587648,\n",
       "  0.9399339360222532,\n",
       "  array([[10822,   682],\n",
       "         [  700, 10804]])),\n",
       " 'Beauty & Spas': (40320,\n",
       "  40320,\n",
       "  0.9399608140886396,\n",
       "  0.9399553571428572,\n",
       "  0.9399551709550388,\n",
       "  0.9399553571428572,\n",
       "  array([[18985,  1175],\n",
       "         [ 1246, 18914]])),\n",
       " 'Education': (2688,\n",
       "  2688,\n",
       "  0.8854175201457982,\n",
       "  0.8854166666666667,\n",
       "  0.8854166032325123,\n",
       "  0.8854166666666666,\n",
       "  array([[1189,  155],\n",
       "         [ 153, 1191]])),\n",
       " 'Event Planning & Services': (38544,\n",
       "  38544,\n",
       "  0.8730331488946446,\n",
       "  0.8730282274802823,\n",
       "  0.873027808695271,\n",
       "  0.8730282274802823,\n",
       "  array([[16790,  2482],\n",
       "         [ 2412, 16860]])),\n",
       " 'Financial Services': (1312,\n",
       "  1312,\n",
       "  0.9504834875241395,\n",
       "  0.9504573170731707,\n",
       "  0.9504565975278261,\n",
       "  0.9504573170731707,\n",
       "  array([[626,  30],\n",
       "         [ 35, 621]])),\n",
       " 'Food': (130736,\n",
       "  130736,\n",
       "  0.8695840327924349,\n",
       "  0.869569208175254,\n",
       "  0.8695679002142924,\n",
       "  0.869569208175254,\n",
       "  array([[56635,  8733],\n",
       "         [ 8319, 57049]])),\n",
       " 'Health & Medical': (21888,\n",
       "  21888,\n",
       "  0.9430524134536444,\n",
       "  0.9430281432748538,\n",
       "  0.9430273630420625,\n",
       "  0.9430281432748538,\n",
       "  array([[10361,   583],\n",
       "         [  664, 10280]])),\n",
       " 'Home Services': (19392,\n",
       "  19392,\n",
       "  0.9444617518556676,\n",
       "  0.9444616336633663,\n",
       "  0.9444616299711432,\n",
       "  0.9444616336633663,\n",
       "  array([[9160,  536],\n",
       "         [ 541, 9155]])),\n",
       " 'Hotels & Travel': (21712,\n",
       "  21712,\n",
       "  0.8716379584964407,\n",
       "  0.8716378039793663,\n",
       "  0.8716377906369771,\n",
       "  0.8716378039793663,\n",
       "  array([[9466, 1390],\n",
       "         [1397, 9459]])),\n",
       " 'Local Flavor': (5456,\n",
       "  5456,\n",
       "  0.8441026528086288,\n",
       "  0.844024926686217,\n",
       "  0.8440161182520274,\n",
       "  0.844024926686217,\n",
       "  array([[2282,  446],\n",
       "         [ 405, 2323]])),\n",
       " 'Local Services': (13936,\n",
       "  13936,\n",
       "  0.9357976688959804,\n",
       "  0.9357778415614236,\n",
       "  0.9357771110798287,\n",
       "  0.9357778415614236,\n",
       "  array([[6544,  424],\n",
       "         [ 471, 6497]])),\n",
       " 'Mass Media': (176,\n",
       "  176,\n",
       "  0.8979328165374676,\n",
       "  0.8977272727272727,\n",
       "  0.8977140643161565,\n",
       "  0.8977272727272727,\n",
       "  array([[78, 10],\n",
       "         [ 8, 80]])),\n",
       " 'Nightlife': (98016,\n",
       "  98016,\n",
       "  0.8585278812108239,\n",
       "  0.8585230982696703,\n",
       "  0.8585226264249493,\n",
       "  0.8585230982696702,\n",
       "  array([[41985,  7023],\n",
       "         [ 6844, 42164]])),\n",
       " 'Pets': (7648,\n",
       "  7648,\n",
       "  0.9406385574466456,\n",
       "  0.9406380753138075,\n",
       "  0.9406380590758158,\n",
       "  0.9406380753138075,\n",
       "  array([[3599,  225],\n",
       "         [ 229, 3595]])),\n",
       " 'Professional Services': (4448,\n",
       "  4448,\n",
       "  0.9359651295510172,\n",
       "  0.9359262589928058,\n",
       "  0.9359248307606909,\n",
       "  0.9359262589928058,\n",
       "  array([[2092,  132],\n",
       "         [ 153, 2071]])),\n",
       " 'Public Services & Government': (2048,\n",
       "  2048,\n",
       "  0.8526251526251526,\n",
       "  0.8525390625,\n",
       "  0.8525300616492706,\n",
       "  0.8525390625,\n",
       "  array([[865, 159],\n",
       "         [143, 881]])),\n",
       " 'Religious Organizations': (256,\n",
       "  256,\n",
       "  0.8672771672771673,\n",
       "  0.8671875,\n",
       "  0.8671793932735152,\n",
       "  0.8671875,\n",
       "  array([[110,  18],\n",
       "         [ 16, 112]])),\n",
       " 'Restaurants': (375856,\n",
       "  375856,\n",
       "  0.8697244411245133,\n",
       "  0.8697107402835129,\n",
       "  0.86970953324337,\n",
       "  0.8697107402835128,\n",
       "  array([[162871,  25057],\n",
       "         [ 23913, 164015]])),\n",
       " 'Shopping': (45648,\n",
       "  45648,\n",
       "  0.8904848885876281,\n",
       "  0.8904661759551349,\n",
       "  0.8904648636823616,\n",
       "  0.890466175955135,\n",
       "  array([[20245,  2579],\n",
       "         [ 2421, 20403]]))}"
      ]
     },
     "execution_count": 59,
     "metadata": {},
     "output_type": "execute_result"
    }
   ],
   "source": [
    "results_cross_overlap"
   ]
  },
  {
   "cell_type": "code",
   "execution_count": null,
   "metadata": {},
   "outputs": [],
   "source": [
    "print(f\"\"\"{\"Category\":<30}: {\"Prec\":<7} {\"Rec\":<7} {\"F1\":<7} {\"Acc\":<7} -- Confusion (tn, fp, fn, tp)\"\"\")\n",
    "\n",
    "for name, (num_business, num_pairs, prec, rec, f1, acc, cm) in results_cross_no_overlap.items():\n",
    "    print(f\"{name:<30}: {prec * 100:5.2f}%  {rec * 100:5.2f}%  {f1 * 100:5.2f}%  {acc * 100:5.2f}%  -- {cm.flatten().tolist()}\")"
   ]
  },
  {
   "cell_type": "code",
   "execution_count": 57,
   "metadata": {
    "ExecuteTime": {
     "end_time": "2020-05-25T11:45:44.609488Z",
     "start_time": "2020-05-25T11:45:44.605262Z"
    }
   },
   "outputs": [
    {
     "name": "stdout",
     "output_type": "stream",
     "text": [
      "Category                      : Prec    Rec     F1      Acc     -- Confusion (tn, fp, fn, tp)\n",
      "Active Life                   : 87.12%  87.12%  87.12%  87.12%  -- [7465, 1135, 1081, 7519]\n",
      "Arts & Entertainment          : 83.83%  83.82%  83.82%  83.82%  -- [10255, 2065, 1921, 10399]\n",
      "Automotive                    : 93.99%  93.99%  93.99%  93.99%  -- [10822, 682, 700, 10804]\n",
      "Beauty & Spas                 : 94.00%  94.00%  94.00%  94.00%  -- [18985, 1175, 1246, 18914]\n",
      "Education                     : 88.54%  88.54%  88.54%  88.54%  -- [1189, 155, 153, 1191]\n",
      "Event Planning & Services     : 87.30%  87.30%  87.30%  87.30%  -- [16790, 2482, 2412, 16860]\n",
      "Financial Services            : 95.05%  95.05%  95.05%  95.05%  -- [626, 30, 35, 621]\n",
      "Food                          : 86.96%  86.96%  86.96%  86.96%  -- [56635, 8733, 8319, 57049]\n",
      "Health & Medical              : 94.31%  94.30%  94.30%  94.30%  -- [10361, 583, 664, 10280]\n",
      "Home Services                 : 94.45%  94.45%  94.45%  94.45%  -- [9160, 536, 541, 9155]\n",
      "Hotels & Travel               : 87.16%  87.16%  87.16%  87.16%  -- [9466, 1390, 1397, 9459]\n",
      "Local Flavor                  : 84.41%  84.40%  84.40%  84.40%  -- [2282, 446, 405, 2323]\n",
      "Local Services                : 93.58%  93.58%  93.58%  93.58%  -- [6544, 424, 471, 6497]\n",
      "Mass Media                    : 89.79%  89.77%  89.77%  89.77%  -- [78, 10, 8, 80]\n",
      "Nightlife                     : 85.85%  85.85%  85.85%  85.85%  -- [41985, 7023, 6844, 42164]\n",
      "Pets                          : 94.06%  94.06%  94.06%  94.06%  -- [3599, 225, 229, 3595]\n",
      "Professional Services         : 93.60%  93.59%  93.59%  93.59%  -- [2092, 132, 153, 2071]\n",
      "Public Services & Government  : 85.26%  85.25%  85.25%  85.25%  -- [865, 159, 143, 881]\n",
      "Religious Organizations       : 86.73%  86.72%  86.72%  86.72%  -- [110, 18, 16, 112]\n",
      "Restaurants                   : 86.97%  86.97%  86.97%  86.97%  -- [162871, 25057, 23913, 164015]\n",
      "Shopping                      : 89.05%  89.05%  89.05%  89.05%  -- [20245, 2579, 2421, 20403]\n"
     ]
    }
   ],
   "source": [
    "print(f\"\"\"{\"Category\":<30}: {\"Prec\":<7} {\"Rec\":<7} {\"F1\":<7} {\"Acc\":<7} -- Confusion (tn, fp, fn, tp)\"\"\")\n",
    "\n",
    "for name, (num_business, num_pairs, prec, rec, f1, acc, cm) in results_cross_overlap.items():\n",
    "    print(f\"{name:<30}: {prec * 100:5.2f}%  {rec * 100:5.2f}%  {f1 * 100:5.2f}%  {acc * 100:5.2f}%  -- {cm.flatten().tolist()}\")"
   ]
  },
  {
   "cell_type": "code",
   "execution_count": null,
   "metadata": {
    "ExecuteTime": {
     "end_time": "2020-05-25T14:04:58.784774Z",
     "start_time": "2020-05-25T14:04:58.775930Z"
    }
   },
   "outputs": [],
   "source": [
    "fn_results = fn_run_path / \"results_cross_dicts.p\"\n",
    "\n",
    "with open(fn_results, \"wb\") as fp:\n",
    "    pickle.dump((category_name, \"overlap\", results_cross_overlap), fp, protocol=pickle.HIGHEST_PROTOCOL)\n",
    "    # below may not have made sense (because we trained on all data, so there should be overlap?)\n",
    "    #                                         results_cross_no_overlap\n",
    "    pickle.dump((category_name, \"no overlap\", None), fp, protocol=pickle.HIGHEST_PROTOCOL)"
   ]
  },
  {
   "cell_type": "code",
   "execution_count": null,
   "metadata": {},
   "outputs": [],
   "source": []
  }
 ],
 "metadata": {
  "kernelspec": {
   "display_name": "Python 3",
   "language": "python",
   "name": "python3"
  },
  "language_info": {
   "codemirror_mode": {
    "name": "ipython",
    "version": 3
   },
   "file_extension": ".py",
   "mimetype": "text/x-python",
   "name": "python",
   "nbconvert_exporter": "python",
   "pygments_lexer": "ipython3",
   "version": "3.7.7"
  },
  "varInspector": {
   "cols": {
    "lenName": 16,
    "lenType": 16,
    "lenVar": 40
   },
   "kernels_config": {
    "python": {
     "delete_cmd_postfix": "",
     "delete_cmd_prefix": "del ",
     "library": "var_list.py",
     "varRefreshCmd": "print(var_dic_list())"
    },
    "r": {
     "delete_cmd_postfix": ") ",
     "delete_cmd_prefix": "rm(",
     "library": "var_list.r",
     "varRefreshCmd": "cat(var_dic_list()) "
    }
   },
   "types_to_exclude": [
    "module",
    "function",
    "builtin_function_or_method",
    "instance",
    "_Feature"
   ],
   "window_display": false
  }
 },
 "nbformat": 4,
 "nbformat_minor": 4
}
