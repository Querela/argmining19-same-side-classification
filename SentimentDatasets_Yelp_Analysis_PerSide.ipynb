{
 "cells": [
  {
   "cell_type": "markdown",
   "metadata": {},
   "source": [
    "# Datasets (Sentiment) - Yelp - Categories"
   ]
  },
  {
   "cell_type": "markdown",
   "metadata": {},
   "source": [
    "## Yelp\n",
    "\n",
    "- https://www.yelp.com/dataset/documentation/main\n",
    "- https://www.yelp.com/developers/documentation/v3/all_category_list"
   ]
  },
  {
   "cell_type": "code",
   "execution_count": null,
   "metadata": {},
   "outputs": [],
   "source": [
    "! wget -O data/sentiment/yelp/all_category_list.json https://www.yelp.com/developers/documentation/v3/all_category_list/categories.json"
   ]
  },
  {
   "cell_type": "code",
   "execution_count": null,
   "metadata": {},
   "outputs": [],
   "source": []
  },
  {
   "cell_type": "code",
   "execution_count": null,
   "metadata": {},
   "outputs": [],
   "source": [
    "#! pip install jsonlines"
   ]
  },
  {
   "cell_type": "code",
   "execution_count": null,
   "metadata": {},
   "outputs": [],
   "source": [
    "#! pip install syntok"
   ]
  },
  {
   "cell_type": "code",
   "execution_count": 1,
   "metadata": {
    "ExecuteTime": {
     "end_time": "2020-05-25T09:52:14.905825Z",
     "start_time": "2020-05-25T09:52:14.315598Z"
    },
    "collapsed": true,
    "jupyter": {
     "outputs_hidden": true
    }
   },
   "outputs": [
    {
     "name": "stderr",
     "output_type": "stream",
     "text": [
      "/disk1/users/ekoerner/miniconda3/envs/argmining19-ssc/lib/python3.7/site-packages/tqdm/std.py:658: FutureWarning: The Panel class is removed from pandas. Accessing it from the top-level namespace will also be removed in the next version\n",
      "  from pandas import Panel\n"
     ]
    },
    {
     "data": {
      "text/plain": [
       "[]"
      ]
     },
     "execution_count": 1,
     "metadata": {},
     "output_type": "execute_result"
    },
    {
     "data": {
      "image/png": "[encoded data removed]",
      "text/plain": [
       "<Figure size 432x288 with 1 Axes>"
      ]
     },
     "metadata": {
      "needs_background": "light"
     },
     "output_type": "display_data"
    }
   ],
   "source": [
    "import json\n",
    "import os\n",
    "import random\n",
    "import pickle\n",
    "from collections import Counter\n",
    "from copy import deepcopy\n",
    "from itertools import combinations, groupby\n",
    "from pathlib import Path\n",
    "from pprint import pprint\n",
    "\n",
    "import jsonlines\n",
    "import matplotlib.pyplot as plt\n",
    "import numpy as np\n",
    "import pandas as pd\n",
    "import seaborn as sn\n",
    "import scipy.spatial.distance as ssd\n",
    "from IPython.display import set_matplotlib_formats\n",
    "from scipy.cluster import hierarchy\n",
    "from sklearn.cluster import AgglomerativeClustering, SpectralClustering\n",
    "from sklearn.metrics import pairwise_distances\n",
    "from sklearn.metrics.pairwise import cosine_similarity, linear_kernel\n",
    "from syntok.tokenizer import Tokenizer\n",
    "from tqdm import tqdm\n",
    "\n",
    "tqdm.pandas()\n",
    "\n",
    "%matplotlib inline\n",
    "plt.rcParams.update({\"font.size\": 25, \"font.weight\": \"bold\"})\n",
    "# https://stackoverflow.com/questions/36622237/jupyter-notebook-inline-plots-as-svg\n",
    "# set_matplotlib_formats(\"svg\")  # glitches it\n",
    "plt.plot()"
   ]
  },
  {
   "cell_type": "code",
   "execution_count": 2,
   "metadata": {
    "ExecuteTime": {
     "end_time": "2020-05-25T09:52:15.648956Z",
     "start_time": "2020-05-25T09:52:15.148633Z"
    }
   },
   "outputs": [],
   "source": [
    "from utils_data import init_random\n",
    "init_random()"
   ]
  },
  {
   "cell_type": "code",
   "execution_count": 3,
   "metadata": {
    "ExecuteTime": {
     "end_time": "2020-05-25T09:52:15.790984Z",
     "start_time": "2020-05-25T09:52:15.786910Z"
    }
   },
   "outputs": [],
   "source": [
    "# download + scp to cuda + extract\n",
    "# Path on CUDA2\n",
    "data_yelp_path = Path(\"/disk1/users/ekoerner/argmining19-same-side-classification/data/sentiment/yelp/\")\n",
    "# CUDA1?\n",
    "#data_yelp_path = Path(\"/disk1/users/ekoerner/same-side-classification/argmining19-same-side-classification/data/sentiment/yelp/\")"
   ]
  },
  {
   "cell_type": "markdown",
   "metadata": {},
   "source": [
    "---"
   ]
  },
  {
   "cell_type": "markdown",
   "metadata": {},
   "source": [
    "#### Load reviews / categories (topics) + filter cats/make combinations"
   ]
  },
  {
   "cell_type": "code",
   "execution_count": 4,
   "metadata": {
    "ExecuteTime": {
     "end_time": "2020-05-25T09:52:19.846925Z",
     "start_time": "2020-05-25T09:52:19.827613Z"
    },
    "code_folding": [
     0,
     28
    ],
    "jupyter": {
     "source_hidden": true
    }
   },
   "outputs": [],
   "source": [
    "def load_reviews(fn_yelp_reviews):\n",
    "    \"\"\"Load Yelp reviews. Return a Pandas dataframe.\n",
    "    Format: {\"id\": business_id, \"rid\": review_id, \"text\": text, \"rating\": rating}\n",
    "    And add goodness bool (rating > 3).\"\"\"\n",
    "    data = list()\n",
    "\n",
    "    with jsonlines.open(fn_yelp_reviews, \"r\") as fp:\n",
    "        for n, entry in enumerate(tqdm(fp)):\n",
    "            # print(entry)\n",
    "            # break\n",
    "            business_id = entry.pop(\"business_id\")\n",
    "            review_id = entry.pop(\"review_id\")\n",
    "            text = entry.pop(\"text\", \"\")\n",
    "            rating = entry.pop(\"stars\", 0.0)\n",
    "            data.append({\"id\": business_id, \"rid\": review_id, \"text\": text, \"rating\": rating})\n",
    "            # TESTING\n",
    "            # if n > 10000:\n",
    "            #     break\n",
    "\n",
    "    df = pd.DataFrame.from_dict(data)\n",
    "    \n",
    "    # Add goodness value\n",
    "    # TODO: maybe ignore with 3\n",
    "    df[\"goodness\"] = df[\"rating\"] > 3\n",
    "    \n",
    "    return df\n",
    "\n",
    "\n",
    "def load_topics(fn_yelp_topics, bids_not_cats=None, filter_cats=None, filter_cat_combis=None):\n",
    "    \"\"\"Load topics (categories).\n",
    "    Optionally filter by giving it a whitelist of allowed categories.\n",
    "    Optionally filter by giving a list of allowed category combinations.\n",
    "    Optionally provide an IN/OUT param ``bids_not_cats`` that accumulates business ids without categories.\"\"\"\n",
    "    inv_bid_cats = dict()\n",
    "    if bids_not_cats is None or not isinstance(bids_not_cats, set):\n",
    "        bids_not_cats = set()\n",
    "    \n",
    "    # load lookup business -> categories\n",
    "    with jsonlines.open(fn_yelp_topics, \"r\") as fp:\n",
    "        for n, entry in enumerate(tqdm(fp)):\n",
    "            business_id = entry.pop(\"business_id\")\n",
    "            categories = entry.pop(\"categories\")\n",
    "\n",
    "            if not categories:\n",
    "                bids_not_cats.add(business_id)\n",
    "                continue\n",
    "\n",
    "            categories = categories.split(\", \")\n",
    "            \n",
    "            if filter_cats:\n",
    "                categories = [c for c in categories if c in filter_cats]\n",
    "                if not categories:\n",
    "                    # bids_not_cats.add(business_id)  # ??\n",
    "                    continue\n",
    "                    \n",
    "            if filter_cat_combis:\n",
    "                # skip if combination is not above threshold (of filter list)\n",
    "                if tuple(sorted(set(categories))) not in filter_cat_combis:\n",
    "                    continue\n",
    "\n",
    "            inv_bid_cats[business_id] = categories\n",
    "    \n",
    "    return inv_bid_cats"
   ]
  },
  {
   "cell_type": "code",
   "execution_count": 5,
   "metadata": {
    "ExecuteTime": {
     "end_time": "2020-05-25T09:52:20.111088Z",
     "start_time": "2020-05-25T09:52:20.098533Z"
    },
    "code_folding": [
     0,
     11,
     30
    ],
    "jupyter": {
     "source_hidden": true
    }
   },
   "outputs": [],
   "source": [
    "def filter_min_cat_combis(inv_cat_combis, min_num=30):\n",
    "    \"\"\"Filter category combinations by minimum amount of occurrences in businesses\"\"\"\n",
    "    f_inv_cat_combis = dict()\n",
    "    \n",
    "    for cats, num in inv_cat_combis.items():\n",
    "        if num >= min_num:\n",
    "            f_inv_cat_combis[cats] = num\n",
    "    \n",
    "    return f_inv_cat_combis\n",
    "\n",
    "\n",
    "def make_map_cats(inv_bid_cats):\n",
    "    \"\"\"Make a map from category to business id\"\"\"\n",
    "    inv_cat_bids = dict()\n",
    "\n",
    "    # reverse lookup: category -> businesses\n",
    "    for bid, cats in tqdm(inv_bid_cats.items()):\n",
    "        for cat in cats:\n",
    "            try:\n",
    "                inv_cat_bids[cat].append(bid)\n",
    "            except KeyError:\n",
    "                inv_cat_bids[cat] = [bid]\n",
    "                \n",
    "    ## TODO: make distinct?\n",
    "    for cat in inv_cat_bids.keys():\n",
    "        inv_cat_bids[cat] = list(set(inv_cat_bids[cat]))\n",
    "                \n",
    "    return inv_cat_bids\n",
    "\n",
    "\n",
    "def make_cat_combis(inv_bid_cats):\n",
    "    \"\"\"Count amount of each category combination occurring in businesses\"\"\"\n",
    "    inv_cat_combis = Counter()\n",
    "\n",
    "    inv_cat_combis.update(\n",
    "        (tuple(sorted(set(cats))) for cats in tqdm(inv_bid_cats.values())))\n",
    "    \n",
    "    return inv_cat_combis"
   ]
  },
  {
   "cell_type": "markdown",
   "metadata": {},
   "source": [
    "#### Filter reviews according to criteria"
   ]
  },
  {
   "cell_type": "code",
   "execution_count": 6,
   "metadata": {
    "ExecuteTime": {
     "end_time": "2020-05-25T09:52:22.183788Z",
     "start_time": "2020-05-25T09:52:22.171415Z"
    },
    "code_folding": [
     0,
     16
    ]
   },
   "outputs": [],
   "source": [
    "def filter_min_review_freq(df, min_ratings=5):\n",
    "    \"\"\"Filter review dataframe for a minimum of N of each good and bad ratings.\"\"\"\n",
    "    # filter with at least N ratings per goodness\n",
    "    df_filter = df.groupby([\"id\", \"goodness\"])[[\"id\"]].count() < min_ratings\n",
    "    df_filter = df_filter.rename(columns={\"id\": \"filter\"})\n",
    "    df_filter = df_filter[df_filter[\"filter\"] == True]\n",
    "\n",
    "    # build a filter id list\n",
    "    df_filter_list = df_filter.reset_index()[\"id\"].to_list()\n",
    "\n",
    "    # filter with list\n",
    "    df_filtered = df[~df.id.isin(df_filter_list)]\n",
    "    \n",
    "    return df_filtered\n",
    "\n",
    "\n",
    "def filter_both_good_bad(df):\n",
    "    \"\"\"Filter the dataframe to contain only both good and bad reviews for each business.\n",
    "    Dataframe should be the same if minimum filtering above is done.\"\"\"\n",
    "    # build filter for ids that contain both positive and negative samples\n",
    "    df_filter = df.groupby([\"id\", \"goodness\"], as_index=False).count().groupby(\"id\")[[\"id\"]].count() == 2\n",
    "    df_filter = df_filter.rename(columns={\"id\": \"filter\"})\n",
    "    df_filter = df_filter[df_filter[\"filter\"] == True]\n",
    "\n",
    "    # create list of IDs for which this is true\n",
    "    df_filter_list = df_filter.reset_index()[\"id\"].to_list()\n",
    "\n",
    "    # filter with list\n",
    "    df_filtered = df[df.id.isin(df_filter_list)]\n",
    "\n",
    "    # df_filtered.groupby([\"id\", \"goodness\"]).count()\n",
    "    return df_filtered"
   ]
  },
  {
   "cell_type": "code",
   "execution_count": 7,
   "metadata": {
    "ExecuteTime": {
     "end_time": "2020-05-25T09:52:22.384186Z",
     "start_time": "2020-05-25T09:52:22.377841Z"
    },
    "code_folding": [
     0,
     7
    ],
    "jupyter": {
     "source_hidden": true
    }
   },
   "outputs": [],
   "source": [
    "def filter_by_businesses(df, lst_business_ids):\n",
    "    # filter with list, keep businesses in list\n",
    "    df_filtered = df[df.id.isin(set(lst_business_ids))]\n",
    "\n",
    "    return df_filtered\n",
    "\n",
    "\n",
    "def filter_by_businesses_not_same(df, lst_business_ids):\n",
    "    # filter with list, keep businesses that are not in list\n",
    "    df_filtered = df[~df.id.isin(set(lst_business_ids))]\n",
    "\n",
    "    return df_filtered"
   ]
  },
  {
   "cell_type": "markdown",
   "metadata": {},
   "source": [
    "#### Get topN categories + make Ntuples from category combinations"
   ]
  },
  {
   "cell_type": "code",
   "execution_count": 8,
   "metadata": {
    "ExecuteTime": {
     "end_time": "2020-05-25T09:52:22.837095Z",
     "start_time": "2020-05-25T09:52:22.827303Z"
    },
    "code_folding": [
     0,
     7
    ],
    "jupyter": {
     "source_hidden": true
    }
   },
   "outputs": [],
   "source": [
    "def get_Ntop_cats(inv_cat_bids, n=50):\n",
    "    # get most common cats\n",
    "    f_cat_cnt = Counter({k: len(v) for k, v in inv_cat_bids.items()})\n",
    "    f_cats = {c for c, v in f_cat_cnt.most_common(n)}\n",
    "    return f_cats\n",
    "\n",
    "\n",
    "def make_cat_Ntuples(f_inv_cat_combis, n=2):\n",
    "    f_cat_pairs = Counter()\n",
    "\n",
    "    for cat_group in tqdm(f_inv_cat_combis.keys()):\n",
    "        if len(cat_group) < n:\n",
    "            continue\n",
    "        it = combinations(cat_group, n)\n",
    "        # repeat (#num_businesses) + chain combis\n",
    "        f_cat_pairs.update(it)\n",
    "        \n",
    "    return f_cat_pairs"
   ]
  },
  {
   "cell_type": "markdown",
   "metadata": {},
   "source": [
    "#### Make category graph or NxN map (df + array)"
   ]
  },
  {
   "cell_type": "code",
   "execution_count": 9,
   "metadata": {
    "ExecuteTime": {
     "end_time": "2020-05-25T09:52:24.807433Z",
     "start_time": "2020-05-25T09:52:24.793721Z"
    },
    "code_folding": [
     0,
     9
    ],
    "jupyter": {
     "source_hidden": true
    }
   },
   "outputs": [],
   "source": [
    "def make_graph(f_cat_pairs):\n",
    "    g_from, g_to, g_value = zip(*((k1, k2, n) for (k1, k2), n in tqdm(f_cat_pairs.most_common())))\n",
    "\n",
    "    g_df = pd.DataFrame({\"from\": g_from, \"to\": g_to, \"value\": g_value})\n",
    "    G = nx.from_pandas_edgelist(g_df, \"from\", \"to\", create_using=nx.Graph())\n",
    "    \n",
    "    return G\n",
    "\n",
    "\n",
    "def make_NxN_map(f_cats, f_cat_pairs):\n",
    "    f_cats = list(f_cats)\n",
    "    array = list()\n",
    "    for i, cat1 in enumerate(tqdm(f_cats)):\n",
    "        array_row = list()\n",
    "        for j, cat2 in enumerate(f_cats):\n",
    "            array_row.append(f_cat_pairs.get((cat1, cat2), f_cat_pairs.get((cat2, cat1), 0)))\n",
    "        array.append(array_row)\n",
    "    df_cm = pd.DataFrame(array, index=list(f_cats), columns=list(f_cats))\n",
    "    \n",
    "    # dataframe, NxN array + labels\n",
    "    return df_cm, array, f_cats"
   ]
  },
  {
   "cell_type": "markdown",
   "metadata": {},
   "source": [
    "---"
   ]
  },
  {
   "cell_type": "markdown",
   "metadata": {},
   "source": [
    "#### Load categories hierarchy"
   ]
  },
  {
   "cell_type": "code",
   "execution_count": 10,
   "metadata": {
    "ExecuteTime": {
     "end_time": "2020-05-25T09:52:25.582403Z",
     "start_time": "2020-05-25T09:52:25.560666Z"
    },
    "code_folding": [
     0,
     30,
     40
    ],
    "jupyter": {
     "source_hidden": true
    }
   },
   "outputs": [],
   "source": [
    "def load_category_tree(fn_all_category_list):\n",
    "    with open(fn_all_category_list, \"r\") as fp:\n",
    "        content = fp.read()\n",
    "        data = json.loads(content)\n",
    "\n",
    "    map_categories = dict()\n",
    "    map_cat_name2id = dict()\n",
    "    lst_root_categories = list()\n",
    "\n",
    "    # load basic lookups\n",
    "    for item in data:\n",
    "        # .alias (id)\n",
    "        map_categories[item[\"alias\"]] = item\n",
    "        # .title\n",
    "        map_cat_name2id[item[\"title\"]] = item[\"alias\"]\n",
    "        # .parents\n",
    "        # some have multiple parents ...\n",
    "        if not item[\"parents\"]:\n",
    "            lst_root_categories.append(item[\"alias\"])\n",
    "        # add list of children\n",
    "        item[\"children\"] = list()\n",
    "\n",
    "    # add children\n",
    "    for cid, item in map_categories.items():\n",
    "        for parent_cid in item[\"parents\"]:\n",
    "            map_categories[parent_cid][\"children\"].append(item[\"alias\"])\n",
    "\n",
    "    return map_categories, map_cat_name2id, lst_root_categories\n",
    "\n",
    "\n",
    "def get_root_category_items(map_categories):\n",
    "    lst_root_categories = list()\n",
    "\n",
    "    for cid, item in map_categories.items():\n",
    "        if not item[\"parents\"]:\n",
    "            lst_root_categories.append(item)\n",
    "            \n",
    "    return lst_root_categories\n",
    "\n",
    "\n",
    "def get_children_category_item_list(map_categories, parent_cid):\n",
    "    return [\n",
    "        map_categories[child_cid]\n",
    "        for child_cid in map_categories[parent_cid][\"children\"]\n",
    "    ]"
   ]
  },
  {
   "cell_type": "markdown",
   "metadata": {},
   "source": [
    "##### Get businesses in categories"
   ]
  },
  {
   "cell_type": "code",
   "execution_count": 11,
   "metadata": {
    "ExecuteTime": {
     "end_time": "2020-05-25T09:52:28.177244Z",
     "start_time": "2020-05-25T09:52:28.167066Z"
    },
    "code_folding": [
     0,
     7
    ],
    "jupyter": {
     "source_hidden": true
    }
   },
   "outputs": [],
   "source": [
    "def get_businesses_in_category(inv_cat_bids, category):\n",
    "    try:\n",
    "        return list(set(inv_cat_bids[category]))\n",
    "    except KeyError:\n",
    "        return []\n",
    "    \n",
    "    \n",
    "def get_businesses_in_category_branch(inv_cat_bids, category, map_categories, map_cat_name2id):\n",
    "    map_cat_id2name = {cid: name for name, cid in map_cat_name2id.items()}\n",
    "\n",
    "    def _get_recursive_businesses(cat_name):\n",
    "        businesses = get_businesses_in_category(inv_cat_bids, cat_name)\n",
    "\n",
    "        cid = map_cat_name2id[cat_name]\n",
    "        for child_cid in map_categories[cid][\"children\"]:\n",
    "            child_name = map_cat_id2name[child_cid]\n",
    "            businesses.extend(_get_recursive_businesses(child_name))\n",
    "        \n",
    "        return businesses\n",
    "    \n",
    "    return _get_recursive_businesses(category)"
   ]
  },
  {
   "cell_type": "markdown",
   "metadata": {},
   "source": [
    "##### Print category trees"
   ]
  },
  {
   "cell_type": "code",
   "execution_count": 12,
   "metadata": {
    "ExecuteTime": {
     "end_time": "2020-05-25T09:52:29.242019Z",
     "start_time": "2020-05-25T09:52:29.205730Z"
    },
    "code_folding": [
     0,
     19,
     49,
     85,
     106
    ],
    "jupyter": {
     "source_hidden": true
    }
   },
   "outputs": [],
   "source": [
    "def print_category_tree(map_categories):\n",
    "    root_categories = get_root_category_items(map_categories)\n",
    "    \n",
    "    def _print_cat_list_rec(lst_cats, level=0):\n",
    "        for item in sorted(lst_cats, key=lambda x: x[\"title\"]):\n",
    "            if level:\n",
    "                print(\"  \" * level, end=\"\")\n",
    "            print(f\"\"\"{item[\"title\"]} [{item[\"alias\"]}]\"\"\", end=\"\")\n",
    "            if item[\"children\"]:\n",
    "                print(f\"\"\" [#{len(item[\"children\"])} children]\"\"\")\n",
    "            else:\n",
    "                print()\n",
    "            \n",
    "            children = get_children_category_item_list(map_categories, item[\"alias\"])\n",
    "            _print_cat_list_rec(children, level=level + 1)\n",
    "            \n",
    "    _print_cat_list_rec(root_categories, level=0)\n",
    "\n",
    "\n",
    "def print_category_tree_with_num_businesses(map_categories, inv_cat_bids):\n",
    "    root_categories = get_root_category_items(map_categories)\n",
    "    \n",
    "    def _print_cat_list_rec(lst_cats, level=0):\n",
    "        for item in sorted(lst_cats, key=lambda x: x[\"title\"]):\n",
    "            cur_line = \" .\" * 30\n",
    "            parts = list()\n",
    "\n",
    "            if level:\n",
    "                parts.append(\"  \" * level)\n",
    "            parts.append(f\"\"\"{item[\"title\"]} [{item[\"alias\"]}]\"\"\")\n",
    "            \n",
    "            str_len = sum(len(part) for part in parts)\n",
    "            print(\"\".join(part for part in parts), end=\"\")\n",
    "            print(cur_line[str_len:], end=\"\")\n",
    "            \n",
    "            if item[\"title\"] not in inv_cat_bids:\n",
    "                print(\" No businesses associated!\")\n",
    "            else:\n",
    "                print(f\"\"\" {len((inv_cat_bids[item[\"title\"]])):>5d} businesses\"\"\")\n",
    "            \n",
    "            children = get_children_category_item_list(map_categories, item[\"alias\"])\n",
    "            _print_cat_list_rec(children, level=level + 1)\n",
    "            \n",
    "            if level == 0:\n",
    "                print()\n",
    "            \n",
    "    _print_cat_list_rec(root_categories, level=0)\n",
    "    \n",
    "\n",
    "def print_category_tree_with_num_businesses_rec(map_categories, inv_cat_bids, map_cat_name2id):\n",
    "    root_categories = get_root_category_items(map_categories)\n",
    "    \n",
    "    def _print_cat_list_rec(lst_cats, level=0):\n",
    "        for item in sorted(lst_cats, key=lambda x: x[\"title\"]):\n",
    "            cur_line = \" .\" * 30\n",
    "            parts = list()\n",
    "\n",
    "            if level:\n",
    "                parts.append(\"  \" * level)\n",
    "            parts.append(f\"\"\"{item[\"title\"]} [{item[\"alias\"]}]\"\"\")\n",
    "            \n",
    "            str_len = sum(len(part) for part in parts)\n",
    "            print(\"\".join(part for part in parts), end=\"\")\n",
    "            print(cur_line[str_len:], end=\"\")\n",
    "            \n",
    "            businesses = get_businesses_in_category_branch(inv_cat_bids, item[\"title\"], map_categories, map_cat_name2id)\n",
    "            businesses_self = get_businesses_in_category(inv_cat_bids, item[\"title\"])\n",
    "            if not businesses:\n",
    "                print(\" No businesses associated!\")\n",
    "            else:\n",
    "                businesses = set(businesses)\n",
    "                print(f\"\"\" {len(businesses):>5d} businesses\"\"\", end=\"\")\n",
    "                if len(businesses) != len(businesses_self):\n",
    "                    print(f\"\"\" (self: {len(businesses_self)})\"\"\", end=\"\")\n",
    "                print()\n",
    "            \n",
    "            children = get_children_category_item_list(map_categories, item[\"alias\"])\n",
    "            _print_cat_list_rec(children, level=level + 1)\n",
    "            \n",
    "            if level == 0:\n",
    "                print()\n",
    "            \n",
    "    _print_cat_list_rec(root_categories, level=0)\n",
    "    \n",
    "    \n",
    "def print_category_tree_with_num_businesses_root(map_categories, inv_cat_bids, map_cat_name2id):\n",
    "    root_categories = get_root_category_items(map_categories)\n",
    "    \n",
    "    for item in sorted(root_categories, key=lambda x: x[\"title\"]):\n",
    "        cur_line = \" .\" * 25\n",
    "        parts = [f\"\"\"{item[\"title\"]} [{item[\"alias\"]}] \"\"\"]\n",
    "\n",
    "        str_len = sum(len(part) for part in parts)\n",
    "        print(\"\".join(part for part in parts), end=\"\")\n",
    "        print(cur_line[str_len:], end=\"\")\n",
    "\n",
    "        businesses = get_businesses_in_category_branch(inv_cat_bids, item[\"title\"], map_categories, map_cat_name2id)\n",
    "        businesses_self = get_businesses_in_category(inv_cat_bids, item[\"title\"])\n",
    "\n",
    "        businesses = set(businesses)\n",
    "        print(f\"\"\" {len(businesses):>5d} businesses\"\"\", end=\"\")\n",
    "        if len(businesses) != len(businesses_self):\n",
    "            print(f\"\"\" (self: {len(businesses_self)})\"\"\", end=\"\")\n",
    "        print()\n",
    "        \n",
    "\n",
    "def print_category_tree_with_num_businesses_root2(map_categories, inv_cat_bids, map_cat_name2id):\n",
    "    root_categories = get_root_category_items(map_categories)\n",
    "    for item in root_categories:\n",
    "        item[\"businesses\"] = get_businesses_in_category_branch(inv_cat_bids, item[\"title\"], map_categories, map_cat_name2id)\n",
    "        item[\"businesses_self\"] = get_businesses_in_category(inv_cat_bids, item[\"title\"])\n",
    "    \n",
    "    for item in sorted(root_categories, key=lambda x: len(set(x[\"businesses\"]))):\n",
    "        cur_line = \" .\" * 25\n",
    "        parts = [f\"\"\"{item[\"title\"]} [{item[\"alias\"]}] \"\"\"]\n",
    "\n",
    "        str_len = sum(len(part) for part in parts)\n",
    "        print(\"\".join(part for part in parts), end=\"\")\n",
    "        print(cur_line[str_len:], end=\"\")\n",
    "\n",
    "        businesses = item[\"businesses\"]\n",
    "        businesses_self = item[\"businesses_self\"]\n",
    "\n",
    "        businesses = set(businesses)\n",
    "        print(f\"\"\" {len(businesses):>5d} businesses\"\"\", end=\"\")\n",
    "        if len(businesses) != len(businesses_self):\n",
    "            print(f\"\"\" (self: {len(businesses_self)})\"\"\", end=\"\")\n",
    "        print()"
   ]
  },
  {
   "cell_type": "markdown",
   "metadata": {},
   "source": [
    "##### Make category comparisons"
   ]
  },
  {
   "cell_type": "code",
   "execution_count": 13,
   "metadata": {
    "ExecuteTime": {
     "end_time": "2020-05-25T09:52:31.432925Z",
     "start_time": "2020-05-25T09:52:31.423857Z"
    },
    "code_folding": [
     0
    ],
    "jupyter": {
     "source_hidden": true
    }
   },
   "outputs": [],
   "source": [
    "def print_2category_compare(inv_cat_bids, map_categories, map_cat_name2id, cat_name_i, cat_name_j):\n",
    "    businesses_i = get_businesses_in_category_branch(inv_cat_bids, cat_name_i, map_categories, map_cat_name2id)\n",
    "    businesses_j = get_businesses_in_category_branch(inv_cat_bids, cat_name_j, map_categories, map_cat_name2id)\n",
    "    \n",
    "    cat_name_i += \":\"\n",
    "    cat_name_j += \":\"\n",
    "    width = max(12, len(cat_name_i), len(cat_name_j))\n",
    "\n",
    "    print(f\"\"\"{cat_name_i:<{width}} {len(set(businesses_i)):>5d}\"\"\")\n",
    "    print(f\"\"\"{cat_name_j:<{width}} {len(set(businesses_j)):>5d}\"\"\")\n",
    "    print(f\"\"\"Both: {\"same:\":>{width - 6}} {len(set(businesses_i) & set(businesses_j)):>5d}\"\"\")\n",
    "    print(f\"\"\"{\"total:\":>{width}} {len(set(businesses_i) | set(businesses_j)):>5d}\"\"\")"
   ]
  },
  {
   "cell_type": "code",
   "execution_count": 14,
   "metadata": {
    "ExecuteTime": {
     "end_time": "2020-05-25T09:52:31.675547Z",
     "start_time": "2020-05-25T09:52:31.663367Z"
    },
    "code_folding": [
     0
    ],
    "jupyter": {
     "source_hidden": true
    }
   },
   "outputs": [],
   "source": [
    "def make_NxN_category_businesses_overlap(inv_cat_bids, map_categories, map_cat_name2id):\n",
    "    root_categories = get_root_category_items(map_categories)\n",
    "    root_categories = sorted(root_categories, key=lambda x: x[\"title\"])\n",
    "    root_category_labels = [x[\"title\"] for x in root_categories]\n",
    "    \n",
    "    array = list()\n",
    "    for cname_i in root_category_labels:\n",
    "        array_line = list()\n",
    "        for cname_j in root_category_labels:\n",
    "            businesses_i = get_businesses_in_category_branch(inv_cat_bids, cname_i, map_categories, map_cat_name2id)\n",
    "            businesses_j = get_businesses_in_category_branch(inv_cat_bids, cname_j, map_categories, map_cat_name2id)\n",
    "            businesses_i, businesses_j = set(businesses_i), set(businesses_j)\n",
    "            businesses_ij_union = businesses_i | businesses_j\n",
    "            businesses_ij_intersect = businesses_i & businesses_j\n",
    "            num_businesses_ij = len(businesses_ij_intersect)\n",
    "            #array_line.append(num_businesses_ij)\n",
    "            array_line.append(len(businesses_ij_intersect) / len(businesses_ij_union))\n",
    "        array.append(array_line)\n",
    "    \n",
    "    df_cm = pd.DataFrame(array, index=list(root_category_labels), columns=list(root_category_labels))\n",
    "    \n",
    "    return array, root_category_labels, df_cm"
   ]
  },
  {
   "cell_type": "markdown",
   "metadata": {},
   "source": [
    "##### text length comparisons?"
   ]
  },
  {
   "cell_type": "code",
   "execution_count": 15,
   "metadata": {
    "ExecuteTime": {
     "end_time": "2020-05-25T09:52:33.641093Z",
     "start_time": "2020-05-25T09:52:33.634436Z"
    },
    "code_folding": [
     0
    ],
    "jupyter": {
     "source_hidden": true
    }
   },
   "outputs": [],
   "source": [
    "def get_reviews_for_category(df, cat_name, inv_cat_bids, map_categories, map_cat_name2id):\n",
    "    businesses = get_businesses_in_category_branch(inv_cat_bids, cat_name, map_categories, map_cat_name2id)\n",
    "    print(f\"\"\"{cat_name}: {len(businesses)}, uniq: {len(set(businesses))}\"\"\")\n",
    "    businesses = set(businesses)\n",
    "\n",
    "    df_businesses = filter_by_businesses(df, businesses)\n",
    "\n",
    "    return df_businesses"
   ]
  },
  {
   "cell_type": "markdown",
   "metadata": {},
   "source": [
    "##### Cache root category reviews in dataframes"
   ]
  },
  {
   "cell_type": "code",
   "execution_count": 16,
   "metadata": {
    "ExecuteTime": {
     "end_time": "2020-05-25T09:52:36.102987Z",
     "start_time": "2020-05-25T09:52:36.087219Z"
    },
    "code_folding": [
     3,
     27
    ],
    "jupyter": {
     "source_hidden": true
    }
   },
   "outputs": [],
   "source": [
    "dn_yelp_cached = data_yelp_path / \"cached\"\n",
    "\n",
    "\n",
    "def cache_root_category_businesses_df(df, inv_cat_bids, map_categories, map_cat_name2id):\n",
    "    root_categories = get_root_category_items(map_categories)\n",
    "    root_categories = sorted(root_categories, key=lambda x: x[\"title\"])\n",
    "    \n",
    "    dn_yelp_cached = data_yelp_path / \"cached\"\n",
    "    if not dn_yelp_cached.exists():\n",
    "        print(f\"Create cache dir: {dn_yelp_cached}\")\n",
    "        dn_yelp_cached.mkdir()\n",
    "        \n",
    "    for root_category in root_categories:\n",
    "        fn_yelp_cached_root_cat_df = dn_yelp_cached / f\"\"\"{root_category[\"alias\"]}_businesses.df.p\"\"\"\n",
    "        if fn_yelp_cached_root_cat_df.exists():\n",
    "            continue\n",
    "\n",
    "        business_ids = set(get_businesses_in_category_branch(inv_cat_bids, root_category[\"title\"], map_categories, map_cat_name2id))\n",
    "        # business_ids = set(root_category[\"businesses\"])\n",
    "        print(f\"\"\"Filter category {root_category[\"title\"]} [{root_category[\"alias\"]}] with {len(set(business_ids))} businesses ...\"\"\")\n",
    "        df_root_cat = filter_by_businesses(df, business_ids)\n",
    "\n",
    "        # df_root_cat = get_reviews_for_category(df, cat_name, inv_cat_bids, map_categories, map_cat_name2id)\n",
    "\n",
    "        df_root_cat.to_pickle(str(fn_yelp_cached_root_cat_df))\n",
    "        \n",
    "        \n",
    "def load_cached_root_category_businesses_df(category_label, map_categories):\n",
    "    root_categories = get_root_category_items(map_categories)\n",
    "    root_categories = sorted(root_categories, key=lambda x: x[\"title\"])\n",
    "\n",
    "    for root_category in root_categories:\n",
    "        if root_category[\"title\"] == category_label:\n",
    "            category_id = root_category[\"alias\"]\n",
    "            break\n",
    "    else:\n",
    "        print(f\"No cached root category businesses found for: {category_label}\")\n",
    "        return None\n",
    "\n",
    "    fn_yelp_cached_root_cat_df = dn_yelp_cached / f\"{category_id}_businesses.df.p\"\n",
    "    if not fn_yelp_cached_root_cat_df.exists():\n",
    "        return None\n",
    "    \n",
    "    df_root_cat = pd.read_pickle(str(fn_yelp_cached_root_cat_df))\n",
    "    return df_root_cat"
   ]
  },
  {
   "cell_type": "markdown",
   "metadata": {},
   "source": [
    "##### Filter other category businesses"
   ]
  },
  {
   "cell_type": "code",
   "execution_count": 17,
   "metadata": {
    "ExecuteTime": {
     "end_time": "2020-05-25T09:52:38.506865Z",
     "start_time": "2020-05-25T09:52:38.497050Z"
    },
    "code_folding": [
     0
    ],
    "jupyter": {
     "source_hidden": true
    }
   },
   "outputs": [],
   "source": [
    "def filter_root_category_businesses_uniq(category_label, inv_cat_bids, map_categories, map_cat_name2id):\n",
    "    df_root_cat = load_cached_root_category_businesses_df(category_label, map_categories)\n",
    "    \n",
    "    root_categories = get_root_category_items(map_categories)\n",
    "    # root_categories = sorted(root_categories, key=lambda x: len(x[\"businesses\"]), reverse=False)\n",
    "    \n",
    "    for root_category in root_categories:\n",
    "        if root_category[\"title\"] == category_label:\n",
    "            # skip, do not trim self\n",
    "            continue\n",
    "            \n",
    "        business_ids = set(get_businesses_in_category_branch(inv_cat_bids, root_category[\"title\"], map_categories, map_cat_name2id))\n",
    "        # business_ids = set(root_category[\"businesses\"])\n",
    "        print(f\"\"\"Filter businesses from category {root_category[\"title\"]} [{root_category[\"alias\"]}] ({len(business_ids)} businesses) ...\"\"\")\n",
    "        n_before = len(df_root_cat)\n",
    "        df_root_cat = filter_by_businesses_not_same(df_root_cat, business_ids)\n",
    "        n_after = len(df_root_cat)\n",
    "        print(f\"\"\"Filtered {n_before - n_after} businesses (overlap with {root_category[\"title\"]})\"\"\")\n",
    "        \n",
    "    return df_root_cat"
   ]
  },
  {
   "cell_type": "code",
   "execution_count": 18,
   "metadata": {
    "ExecuteTime": {
     "end_time": "2020-05-25T09:52:38.926642Z",
     "start_time": "2020-05-25T09:52:38.916413Z"
    },
    "code_folding": [
     0
    ],
    "jupyter": {
     "source_hidden": true
    }
   },
   "outputs": [],
   "source": [
    "def filter_root_category_businesses_not_other(category_label, category_label_filter, inv_cat_bids, map_categories, map_cat_name2id):\n",
    "    assert category_label != category_label_filter, \"do not filter on self\"\n",
    "\n",
    "    df_root_cat = load_cached_root_category_businesses_df(category_label, map_categories)\n",
    "    \n",
    "    root_categories = get_root_category_items(map_categories)\n",
    "    # root_categories = sorted(root_categories, key=lambda x: len(x[\"businesses\"]), reverse=True)\n",
    "    \n",
    "    for root_category in root_categories:\n",
    "        if root_category[\"title\"] == category_label_filter:\n",
    "            break\n",
    "    else:\n",
    "        print(f\"No businesses found for {category_label_filter} -> return unchanged\")\n",
    "        return df_root_cat\n",
    "    \n",
    "    business_ids = set(get_businesses_in_category_branch(inv_cat_bids, root_category[\"title\"], map_categories, map_cat_name2id))\n",
    "    # businesses_ids = root_category[\"businesses\"]\n",
    "    print(f\"\"\"Filter businesses from category {root_category[\"title\"]} [{root_category[\"alias\"]}] ({len(set(business_ids))} businesses) ...\"\"\")\n",
    "    n_before = len(df_root_cat)\n",
    "    df_root_cat = filter_by_businesses_not_same(df_root_cat, business_ids)\n",
    "    n_after = len(df_root_cat)\n",
    "    print(f\"\"\"Filtered {n_before - n_after} businesses (overlap with {root_category[\"title\"]})\"\"\")\n",
    "    \n",
    "    return df_root_cat"
   ]
  },
  {
   "cell_type": "code",
   "execution_count": 19,
   "metadata": {
    "ExecuteTime": {
     "end_time": "2020-05-25T09:52:39.531336Z",
     "start_time": "2020-05-25T09:52:39.521031Z"
    },
    "code_folding": [
     0
    ],
    "jupyter": {
     "source_hidden": true
    }
   },
   "outputs": [],
   "source": [
    "def filter_root_category_businesses_same_other(category_label, category_label_filter, inv_cat_bids, map_categories, map_cat_name2id):\n",
    "    assert category_label != category_label_filter, \"do not filter on self\"\n",
    "\n",
    "    df_root_cat = load_cached_root_category_businesses_df(category_label, map_categories)\n",
    "    \n",
    "    root_categories = get_root_category_items(map_categories)\n",
    "    # root_categories = sorted(root_categories, key=lambda x: len(x[\"businesses\"]), reverse=True)\n",
    "    \n",
    "    for root_category in root_categories:\n",
    "        if root_category[\"title\"] == category_label_filter:\n",
    "            break\n",
    "    else:\n",
    "        print(f\"No businesses found for {category_label_filter} -> return unchanged\")\n",
    "        return df_root_cat\n",
    "    \n",
    "    business_ids = set(get_businesses_in_category_branch(inv_cat_bids, root_category[\"title\"], map_categories, map_cat_name2id))\n",
    "    # businesses_ids = root_category[\"businesses\"]\n",
    "    print(f\"\"\"Filter businesses from category {root_category[\"title\"]} [{root_category[\"alias\"]}] ({len(set(business_ids))} businesses) ...\"\"\")\n",
    "    n_before = len(df_root_cat)\n",
    "    df_same = filter_by_businesses(df_root_cat, business_ids)\n",
    "    n_after = len(df_same)\n",
    "    print(f\"\"\"Filtered {n_before - n_after} businesses ({n_after} same with {root_category[\"title\"]})\"\"\")\n",
    "    \n",
    "    return df_same"
   ]
  },
  {
   "cell_type": "markdown",
   "metadata": {},
   "source": [
    "---"
   ]
  },
  {
   "cell_type": "markdown",
   "metadata": {},
   "source": [
    "#### Make Pairs"
   ]
  },
  {
   "cell_type": "markdown",
   "metadata": {},
   "source": [
    "**TODO:**\n",
    "\n",
    "- check similar length -- what strategy to use to combine similar length pairs best?\n",
    "- flip sides (arg1 <-> arg2)\n",
    "- make more pairs (?) -- but keep same ratio of same-sentiment vs. not-same-sentiment (different-sentiment) ??\n",
    "- group by categories (topics) -- more explicit training (uniqueness of single arguments / topic structures)\n",
    "- evaluate on same-argument (S3C) - or amazon reviews\n",
    "- compute mean/avg sequence length\n",
    "- fixed layers in fine-tuning\n",
    "- visualization of trained layers and activation for good / bad inputs"
   ]
  },
  {
   "cell_type": "markdown",
   "metadata": {},
   "source": [
    "##### Positive + negative same-sentiment pairs"
   ]
  },
  {
   "cell_type": "code",
   "execution_count": 20,
   "metadata": {
    "ExecuteTime": {
     "end_time": "2020-05-25T09:52:43.585863Z",
     "start_time": "2020-05-25T09:52:43.583298Z"
    },
    "jupyter": {
     "source_hidden": true
    }
   },
   "outputs": [],
   "source": [
    "num_pairs_per_class = 2\n",
    "# N positive + N negative\n",
    "# --> 2N pos+neg (not same-sentiment)\n",
    "\n",
    "# TODO: randomness for positive ss / negative ss - sum is equal / or sum equal compared to not ss"
   ]
  },
  {
   "cell_type": "code",
   "execution_count": 21,
   "metadata": {
    "ExecuteTime": {
     "end_time": "2020-05-25T09:52:44.026806Z",
     "start_time": "2020-05-25T09:52:44.007949Z"
    },
    "code_folding": [
     0
    ],
    "jupyter": {
     "source_hidden": true
    }
   },
   "outputs": [],
   "source": [
    "def make_pairs_good_bad(df, num_pairs_per_class=2):\n",
    "    pairs_good = list()\n",
    "    pairs_bad = list()\n",
    "\n",
    "    for id_, group in tqdm(df.groupby(\"id\")):\n",
    "        grouper = group.groupby(\"goodness\")\n",
    "        reviews_good = grouper.get_group(True)\n",
    "        reviews_bad = grouper.get_group(False)\n",
    "\n",
    "        # TESTING\n",
    "        # print(\"id:\", id_)\n",
    "        # print(\"#good:\", len(reviews_good))\n",
    "        # print(\"#bad:\", len(reviews_bad))\n",
    "        # print(group)\n",
    "        # break\n",
    "\n",
    "        # make pairings -- good ss\n",
    "        rg_idx = reviews_good.index.values\n",
    "        # print(\"pos_idx:\", rg_idx)\n",
    "        rg_idx_sel = np.random.choice(rg_idx, 2 * num_pairs_per_class, replace=False)\n",
    "        for id1, id2 in zip(rg_idx_sel[::2], rg_idx_sel[1::2]):\n",
    "            # print(\"pair:\", id1, id2)\n",
    "            r1, r2 = df.loc[id1], df.loc[id2]\n",
    "            pair = {\n",
    "                \"argument1\": r1[\"text\"], \"argument2\": r2[\"text\"],\n",
    "                \"argument1_id\": f\"\"\"{r1[\"id\"]}|{r1[\"rid\"]}\"\"\", \"argument2_id\": f\"\"\"{r2[\"id\"]}|{r2[\"rid\"]}\"\"\",\n",
    "                \"is_same_side\": True, \"is_good_side\": True, \"type\": \"good-good\",\n",
    "                \"topic\": inv_bid_cats.get(r1[\"id\"], None)\n",
    "            }\n",
    "            # print(pair)\n",
    "            pairs_good.append(pair)\n",
    "\n",
    "        # make pairings -- bad ss\n",
    "        rb_idx = reviews_bad.index.values\n",
    "        # print(\"neg_idx:\", rb_idx)\n",
    "        rb_idx_sel = np.random.choice(rb_idx, 2 * num_pairs_per_class, replace=False)\n",
    "        for id1, id2 in zip(rb_idx_sel[::2], rb_idx_sel[1::2]):\n",
    "            r1, r2 = df.loc[id1], df.loc[id2]\n",
    "            pair = {\n",
    "                \"argument1\": r1[\"text\"], \"argument2\": r2[\"text\"],\n",
    "                \"argument1_id\": f\"\"\"{r1[\"id\"]}|{r1[\"rid\"]}\"\"\", \"argument2_id\": f\"\"\"{r2[\"id\"]}|{r2[\"rid\"]}\"\"\",\n",
    "                \"is_same_side\": True, \"is_good_side\": False, \"type\": \"bad-bad\",\n",
    "                \"topic\": inv_bid_cats.get(r1[\"id\"], None)\n",
    "            }\n",
    "            pairs_bad.append(pair)\n",
    "\n",
    "        # break\n",
    "        \n",
    "    return pairs_good, pairs_bad"
   ]
  },
  {
   "cell_type": "markdown",
   "metadata": {},
   "source": [
    "##### not same-sentiment pairs (combinations positive + negative)"
   ]
  },
  {
   "cell_type": "code",
   "execution_count": 22,
   "metadata": {
    "ExecuteTime": {
     "end_time": "2020-05-25T09:52:45.733584Z",
     "start_time": "2020-05-25T09:52:45.729177Z"
    },
    "code_folding": [],
    "jupyter": {
     "source_hidden": true
    }
   },
   "outputs": [],
   "source": [
    "#: number of negative same-sentiment samples same as positive same-sentiment samples\n",
    "num_pairs_negative = 2 * num_pairs_per_class\n",
    "\n",
    "#: whether for a single side (good or bad) there can be multiple occurrences of the same review\n",
    "#: may need to check afterwared that not by chance same pairing happens ...\n",
    "repeatable_on_side = False"
   ]
  },
  {
   "cell_type": "code",
   "execution_count": 23,
   "metadata": {
    "ExecuteTime": {
     "end_time": "2020-05-25T09:52:51.076476Z",
     "start_time": "2020-05-25T09:52:51.059949Z"
    },
    "code_folding": [
     0
    ],
    "jupyter": {
     "source_hidden": true
    }
   },
   "outputs": [],
   "source": [
    "def make_pairs_negative(df, num_pairs_negative, repeatable_on_side=False):\n",
    "    pairs_not_ss = list()\n",
    "\n",
    "    for id_, group in tqdm(df.groupby(\"id\")):\n",
    "        grouper = group.groupby(\"goodness\")\n",
    "        reviews_good = grouper.get_group(True)\n",
    "        reviews_bad = grouper.get_group(False)\n",
    "\n",
    "        # find indices for reviews per business\n",
    "        rg_idx = reviews_good.index.values\n",
    "        rb_idx = reviews_bad.index.values\n",
    "\n",
    "        # randomly select from each side\n",
    "        rg_idx_sel = np.random.choice(rg_idx, num_pairs_negative, replace=repeatable_on_side)\n",
    "        rb_idx_sel = np.random.choice(rb_idx, num_pairs_negative, replace=repeatable_on_side)\n",
    "\n",
    "        # pair them together -- good-bad pairs\n",
    "        for idg, idb in zip(rg_idx_sel[::2], rb_idx_sel[::2]):\n",
    "            rg, rb = df.loc[idg], df.loc[idb]\n",
    "            pair = {\n",
    "                \"argument1\": rg[\"text\"], \"argument2\": rb[\"text\"],\n",
    "                \"argument1_id\": f\"\"\"{rg[\"id\"]}|{rg[\"rid\"]}\"\"\", \"argument2_id\": f\"\"\"{rb[\"id\"]}|{rb[\"rid\"]}\"\"\",\n",
    "                \"is_same_side\": False, \"is_good_side\": None, \"type\": \"good-bad\",\n",
    "                \"topic\": inv_bid_cats.get(rg[\"id\"], None)\n",
    "            }\n",
    "            # print(pair)\n",
    "            pairs_not_ss.append(pair)\n",
    "\n",
    "        # bad-good pairs\n",
    "        for idb, idg in zip(rb_idx_sel[1::2], rg_idx_sel[1::2]):\n",
    "            rb, rg = df.loc[idb], df.loc[idg]\n",
    "            pair = {\n",
    "                \"argument1\": rb[\"text\"], \"argument2\": rg[\"text\"],\n",
    "                \"argument1_id\": f\"\"\"{rb[\"id\"]}|{rb[\"rid\"]}\"\"\", \"argument2_id\": f\"\"\"{rg[\"id\"]}|{rg[\"rid\"]}\"\"\",\n",
    "                \"is_same_side\": False, \"is_good_side\": None, \"type\": \"bad-good\",\n",
    "                \"topic\": inv_bid_cats.get(rb[\"id\"], None)\n",
    "            }\n",
    "            # print(pair)\n",
    "            pairs_not_ss.append(pair)\n",
    "            \n",
    "    return pairs_not_ss"
   ]
  },
  {
   "cell_type": "markdown",
   "metadata": {},
   "source": [
    "##### dataframe for training etc."
   ]
  },
  {
   "cell_type": "code",
   "execution_count": 24,
   "metadata": {
    "ExecuteTime": {
     "end_time": "2020-05-25T09:53:30.441277Z",
     "start_time": "2020-05-25T09:53:30.428763Z"
    },
    "code_folding": [
     0
    ],
    "jupyter": {
     "source_hidden": true
    }
   },
   "outputs": [],
   "source": [
    "def make_or_load_pairs(df, fn_yelp_df, num_pairs_per_class=2):\n",
    "    if fn_yelp_df is not None:\n",
    "        if os.path.exists(fn_yelp_df):\n",
    "            with open(fn_yelp_df, \"rb\") as fp:\n",
    "                all_df = pickle.load(fp)\n",
    "            return all_df\n",
    "    \n",
    "    pairs_good, pairs_bad = make_pairs_good_bad(df, num_pairs_per_class=num_pairs_per_class)\n",
    "    print(\"#ss (pos)\", len(pairs_good))\n",
    "    print(\"#ss (neg)\", len(pairs_bad))\n",
    "    \n",
    "    num_pairs_negative = 2 * num_pairs_per_class\n",
    "    pairs_not_ss = make_pairs_negative(df, num_pairs_negative, repeatable_on_side=False)\n",
    "    print(\"#nss\", len(pairs_not_ss))\n",
    "    \n",
    "    pairs_all = pairs_good + pairs_bad + pairs_not_ss\n",
    "    print(\"#~ss\", len(pairs_all))\n",
    "    \n",
    "    np.random.shuffle(pairs_all)\n",
    "    df_traindev = pd.DataFrame.from_dict(pairs_all)\n",
    "    \n",
    "    if fn_yelp_df is not None:\n",
    "        with open(fn_yelp_df, \"wb\") as fp:\n",
    "            pickle.dump(df_traindev, fp, protocol=pickle.HIGHEST_PROTOCOL)\n",
    "        \n",
    "    return df_traindev"
   ]
  },
  {
   "cell_type": "markdown",
   "metadata": {},
   "source": [
    "---"
   ]
  },
  {
   "cell_type": "markdown",
   "metadata": {},
   "source": [
    "---"
   ]
  },
  {
   "cell_type": "markdown",
   "metadata": {},
   "source": [
    "---"
   ]
  },
  {
   "cell_type": "markdown",
   "metadata": {},
   "source": [
    "## Load reviews and topics and category tree"
   ]
  },
  {
   "cell_type": "markdown",
   "metadata": {},
   "source": [
    "#### Load reviews\n",
    "\n",
    "- review (with business reference)"
   ]
  },
  {
   "cell_type": "code",
   "execution_count": 25,
   "metadata": {
    "ExecuteTime": {
     "end_time": "2020-05-25T09:54:28.073054Z",
     "start_time": "2020-05-25T09:53:34.206922Z"
    }
   },
   "outputs": [
    {
     "name": "stderr",
     "output_type": "stream",
     "text": [
      "6685900it [00:40, 166918.66it/s]\n"
     ]
    }
   ],
   "source": [
    "fn_yelp_reviews = data_yelp_path / \"review.json\"\n",
    "df = load_reviews(fn_yelp_reviews)"
   ]
  },
  {
   "cell_type": "markdown",
   "metadata": {},
   "source": [
    "#### Load categories for businesses\n",
    "\n",
    "- business (id) with list of topics/categories\n",
    "- lookups (business -> categories, category -> businesses)\n",
    "- list of combinations (with amount)"
   ]
  },
  {
   "cell_type": "code",
   "execution_count": 26,
   "metadata": {
    "ExecuteTime": {
     "end_time": "2020-05-25T09:54:30.875744Z",
     "start_time": "2020-05-25T09:54:28.103817Z"
    }
   },
   "outputs": [
    {
     "name": "stderr",
     "output_type": "stream",
     "text": [
      "192609it [00:01, 107850.41it/s]\n",
      "100%|██████████| 192127/192127 [00:00<00:00, 1331716.63it/s]\n",
      "100%|██████████| 192127/192127 [00:00<00:00, 505055.67it/s]\n"
     ]
    }
   ],
   "source": [
    "fn_yelp_topics = data_yelp_path / \"business.json\"\n",
    "bids_not_cats = set()\n",
    "inv_bid_cats = load_topics(fn_yelp_topics, bids_not_cats=bids_not_cats)\n",
    "\n",
    "inv_cat_bids = make_map_cats(inv_bid_cats)\n",
    "\n",
    "inv_cat_combis = make_cat_combis(inv_bid_cats)"
   ]
  },
  {
   "cell_type": "markdown",
   "metadata": {},
   "source": [
    "#### Load category tree\n",
    "\n",
    "- hierarchy of categories"
   ]
  },
  {
   "cell_type": "code",
   "execution_count": 27,
   "metadata": {
    "ExecuteTime": {
     "end_time": "2020-05-25T09:54:32.035522Z",
     "start_time": "2020-05-25T09:54:32.004962Z"
    }
   },
   "outputs": [],
   "source": [
    "fn_yelp_catgory_tree = data_yelp_path / \"all_category_list.json\"\n",
    "map_categories, map_cat_name2id, lst_root_categories = load_category_tree(fn_yelp_catgory_tree)"
   ]
  },
  {
   "cell_type": "markdown",
   "metadata": {},
   "source": [
    "#### Pre-Cache all root category businesses (reviews)"
   ]
  },
  {
   "cell_type": "code",
   "execution_count": 28,
   "metadata": {
    "ExecuteTime": {
     "end_time": "2020-05-25T09:54:33.171937Z",
     "start_time": "2020-05-25T09:54:33.169140Z"
    }
   },
   "outputs": [],
   "source": [
    "cache_root_category_businesses_df(df, inv_cat_bids, map_categories, map_cat_name2id)"
   ]
  },
  {
   "cell_type": "markdown",
   "metadata": {},
   "source": [
    "---"
   ]
  },
  {
   "cell_type": "markdown",
   "metadata": {},
   "source": [
    "---"
   ]
  },
  {
   "cell_type": "markdown",
   "metadata": {},
   "source": [
    "#### dataframe for training etc."
   ]
  },
  {
   "cell_type": "code",
   "execution_count": 29,
   "metadata": {},
   "outputs": [
    {
     "name": "stderr",
     "output_type": "stream",
     "text": [
      "100%|██████████| 43985/43985 [02:22<00:00, 308.38it/s]\n"
     ]
    },
    {
     "name": "stdout",
     "output_type": "stream",
     "text": [
      "#ss (pos) 175940\n",
      "#ss (neg) 175940\n"
     ]
    },
    {
     "name": "stderr",
     "output_type": "stream",
     "text": [
      "100%|██████████| 43985/43985 [02:18<00:00, 316.48it/s]\n"
     ]
    },
    {
     "name": "stdout",
     "output_type": "stream",
     "text": [
      "#nss 351880\n",
      "#~ss 703760\n"
     ]
    }
   ],
   "source": [
    "fn_yelp_df = data_yelp_path / \"df_traindev4_typed.p\"\n",
    "\n",
    "df = filter_min_review_freq(df, min_ratings=8)\n",
    "df = filter_both_good_bad(df)\n",
    "\n",
    "df_traindev = make_or_load_pairs(df, str(fn_yelp_df), num_pairs_per_class=4)"
   ]
  },
  {
   "cell_type": "markdown",
   "metadata": {},
   "source": [
    "---"
   ]
  },
  {
   "cell_type": "markdown",
   "metadata": {},
   "source": [
    "#### Reloading for training"
   ]
  },
  {
   "cell_type": "code",
   "execution_count": null,
   "metadata": {},
   "outputs": [],
   "source": [
    "data_yelp_path = Path(\"/home/ekoerner/same-side-classification/data/sentiment/yelp/\")\n",
    "fn_yelp_df = data_yelp_path / \"df_traindev.p\"\n",
    "\n",
    "with open(fn_yelp_df, \"rb\") as fp:\n",
    "    all_df = pickle.load(fp)"
   ]
  },
  {
   "cell_type": "code",
   "execution_count": 30,
   "metadata": {},
   "outputs": [
    {
     "ename": "NameError",
     "evalue": "name 'all_df' is not defined",
     "output_type": "error",
     "traceback": [
      "\u001b[0;31m---------------------------------------------------------------------------\u001b[0m",
      "\u001b[0;31mNameError\u001b[0m                                 Traceback (most recent call last)",
      "\u001b[0;32m<ipython-input-30-0c4d8c0563da>\u001b[0m in \u001b[0;36m<module>\u001b[0;34m\u001b[0m\n\u001b[1;32m      4\u001b[0m \u001b[0;34m\u001b[0m\u001b[0m\n\u001b[1;32m      5\u001b[0m \u001b[0;31m# all_df = all_df.progress_apply(_add_dummy_tag, axis=1)\u001b[0m\u001b[0;34m\u001b[0m\u001b[0;34m\u001b[0m\u001b[0;34m\u001b[0m\u001b[0m\n\u001b[0;32m----> 6\u001b[0;31m \u001b[0mall_df\u001b[0m\u001b[0;34m[\u001b[0m\u001b[0;34m\"tag\"\u001b[0m\u001b[0;34m]\u001b[0m \u001b[0;34m=\u001b[0m \u001b[0;34m\"NA\"\u001b[0m\u001b[0;34m\u001b[0m\u001b[0;34m\u001b[0m\u001b[0m\n\u001b[0m",
      "\u001b[0;31mNameError\u001b[0m: name 'all_df' is not defined"
     ]
    }
   ],
   "source": [
    "def _add_dummy_tag(row):\n",
    "    row[\"tag\"] = \"NA\"\n",
    "    return row\n",
    "\n",
    "# all_df = all_df.progress_apply(_add_dummy_tag, axis=1)\n",
    "all_df[\"tag\"] = \"NA\""
   ]
  },
  {
   "cell_type": "code",
   "execution_count": null,
   "metadata": {},
   "outputs": [],
   "source": [
    "num = len(all_df)\n",
    "ratio = 0.3\n",
    "idx_ratio = int(num * (1.0 - ratio))\n",
    "print(f\"traindev: [0:{idx_ratio}], test: [{idx_ratio}:{num}], ratio: {ratio}\")\n",
    "\n",
    "traindev_df = all_df.iloc[:idx_ratio]\n",
    "test_df = all_df.iloc[idx_ratio:]"
   ]
  },
  {
   "cell_type": "code",
   "execution_count": 36,
   "metadata": {},
   "outputs": [],
   "source": [
    "fn_yelp_df = data_yelp_path / \"df_traindev4_typed.p\"\n",
    "\n",
    "#df = filter_min_review_freq(df, min_ratings=8)\n",
    "#df = filter_both_good_bad(df)\n",
    "\n",
    "traindev_df = make_or_load_pairs(df, str(fn_yelp_df), num_pairs_per_class=4)"
   ]
  },
  {
   "cell_type": "code",
   "execution_count": null,
   "metadata": {},
   "outputs": [],
   "source": [
    "# len(traindev_df), len(test_df)"
   ]
  },
  {
   "cell_type": "markdown",
   "metadata": {},
   "source": [
    "---\n",
    "---\n",
    "---"
   ]
  },
  {
   "cell_type": "markdown",
   "metadata": {},
   "source": [
    "## Default S3C training\n",
    "\n",
    "https://gluon-nlp.mxnet.io/install.html\n",
    "\n",
    "```bash\n",
    "pip install --upgrade 'mxnet>=1.3.0'  \n",
    "pip install gluonnlp  \n",
    "wget https://gluon-nlp.mxnet.io/_downloads/sentence_embedding.zip  \n",
    "unzip sentence_embedding.zip  \n",
    "ln -s sentence_embedding/bert bert  \n",
    "```"
   ]
  },
  {
   "cell_type": "code",
   "execution_count": null,
   "metadata": {},
   "outputs": [],
   "source": [
    "# ! pip install --upgrade 'mxnet>=1.3.0'\n",
    "# NOTE: do not install cpu + gpu version both, only one!\n",
    "! pip install --upgrade mxnet-cu102\n",
    "! pip install --upgrade gluonnlp "
   ]
  },
  {
   "cell_type": "code",
   "execution_count": null,
   "metadata": {},
   "outputs": [],
   "source": [
    "! wget https://gluon-nlp.mxnet.io/_downloads/sentence_embedding.zip\n",
    "# ! unzip sentence_embedding.zip\n",
    "# ! ln -s sentence_embedding/bert bert"
   ]
  },
  {
   "cell_type": "code",
   "execution_count": 32,
   "metadata": {
    "ExecuteTime": {
     "end_time": "2020-05-25T09:54:41.165579Z",
     "start_time": "2020-05-25T09:54:40.872743Z"
    }
   },
   "outputs": [],
   "source": [
    "from mxboard import SummaryWriter\n",
    "\n",
    "from utils_data import get_train_test_sets\n",
    "\n",
    "from utils_gluon import setup_bert_epi128bce, setup_bert_epi512bce\n",
    "from utils_gluon import setup_bert_pro128bce, setup_bert_pro512bce\n",
    "\n",
    "from utils_gluon import transform_dataset\n",
    "from utils_gluon import predict_out_to_ys\n",
    "\n",
    "from utils_gluon import predict\n",
    "from utils_gluon import train\n",
    "\n",
    "# from utils_gluon import print_infos\n",
    "from utils_gluon import plot_train_stats\n",
    "\n",
    "from utils_gluon import report_training_results\n",
    "from utils_gluon import plot_confusion_matrix\n",
    "from utils_gluon import compute_metrics\n",
    "\n",
    "from utils_data import names_columns_X, names_columns_X_arteval, names_columns_y\n",
    "# names_columns_X = ['argument1', 'argument2', 'argument1_id', 'argument2_id', 'topic', 'type']\n",
    "names_columns_X = names_columns_X + ['type']\n",
    "\n",
    "from sklearn.model_selection import train_test_split"
   ]
  },
  {
   "cell_type": "code",
   "execution_count": 33,
   "metadata": {
    "ExecuteTime": {
     "end_time": "2020-05-25T09:54:43.151309Z",
     "start_time": "2020-05-25T09:54:43.145966Z"
    }
   },
   "outputs": [],
   "source": [
    "from utils_data import Timer\n",
    "\n",
    "from utils_data import configure_logging\n",
    "configure_logging()\n",
    "\n",
    "from utils_data import init_random\n",
    "init_random()"
   ]
  },
  {
   "cell_type": "code",
   "execution_count": 40,
   "metadata": {},
   "outputs": [],
   "source": [
    "# extracted to include \"type\" (of pairing)\n",
    "# train dev set - 70% 30%\n",
    "def get_train_test_sets(df, ratio=0.30, random_state=1):\n",
    "    X = df[names_columns_X]\n",
    "    y = df[names_columns_y]\n",
    "\n",
    "    X_train, X_test, y_train, y_test = train_test_split(X,\n",
    "                                                        y,\n",
    "                                                        test_size=ratio,\n",
    "                                                        random_state=random_state,\n",
    "                                                        shuffle=True)\n",
    "    return X_train, X_test, y_train, y_test"
   ]
  },
  {
   "cell_type": "markdown",
   "metadata": {},
   "source": [
    "---"
   ]
  },
  {
   "cell_type": "code",
   "execution_count": null,
   "metadata": {
    "ExecuteTime": {
     "end_time": "2020-05-25T09:58:31.831838Z",
     "start_time": "2020-05-25T09:58:31.361186Z"
    }
   },
   "outputs": [],
   "source": [
    "run_name = \"yelp_1_pro128BCE\"\n",
    "fn_run_path = Path(f\"data/{run_name}\")\n",
    "fn_traindev_df = fn_run_path / \"traindev.p\"\n",
    "\n",
    "category_name = \"*\"  # just a dummy ...\n",
    "\n",
    "! mkdir data/yelp_1_pro128BCE"
   ]
  },
  {
   "cell_type": "code",
   "execution_count": null,
   "metadata": {},
   "outputs": [],
   "source": [
    "run_name = \"yelp_3_arts_pro128BCE\"\n",
    "fn_run_path = Path(f\"data/{run_name}\")\n",
    "fn_traindev_df = fn_run_path / \"traindev.p\"\n",
    "\n",
    "category_name = \"Arts & Entertainment\"\n",
    "\n",
    "! mkdir data/yelp_3_arts_pro128BCE"
   ]
  },
  {
   "cell_type": "code",
   "execution_count": 34,
   "metadata": {
    "ExecuteTime": {
     "end_time": "2020-05-25T09:58:31.831838Z",
     "start_time": "2020-05-25T09:58:31.361186Z"
    }
   },
   "outputs": [],
   "source": [
    "run_name = \"yelp_7_pro128BCE\"\n",
    "fn_run_path = Path(f\"data/{run_name}\")\n",
    "fn_traindev_df = fn_run_path / \"traindev.p\"\n",
    "\n",
    "category_name = \"*\"  # just a dummy ...\n",
    "\n",
    "! mkdir data/yelp_7_pro128BCE"
   ]
  },
  {
   "cell_type": "markdown",
   "metadata": {},
   "source": [
    "---"
   ]
  },
  {
   "cell_type": "code",
   "execution_count": null,
   "metadata": {},
   "outputs": [],
   "source": [
    "df_food = load_cached_root_category_businesses_df(category_name, map_categories)\n",
    "# df_food = get_reviews_for_category(df, category_name, inv_cat_bids, map_categories, map_cat_name2id)\n",
    "\n",
    "df_uniq_food = filter_root_category_businesses_uniq(category_name, inv_cat_bids, map_categories, map_cat_name2id)\n",
    "\n",
    "len(df), len(df_food), len(df_uniq_food)"
   ]
  },
  {
   "cell_type": "code",
   "execution_count": null,
   "metadata": {},
   "outputs": [],
   "source": [
    "df_td = df_uniq_food"
   ]
  },
  {
   "cell_type": "code",
   "execution_count": null,
   "metadata": {},
   "outputs": [],
   "source": [
    "# min ratings per class (good|bad)\n",
    "min_ratings = 5\n",
    "\n",
    "df_td = filter_min_review_freq(df_td, min_ratings=5)"
   ]
  },
  {
   "cell_type": "code",
   "execution_count": null,
   "metadata": {},
   "outputs": [],
   "source": [
    "df_td = filter_both_good_bad(df_td)"
   ]
  },
  {
   "cell_type": "code",
   "execution_count": null,
   "metadata": {},
   "outputs": [],
   "source": [
    "traindev_df = make_or_load_pairs(df_td, str(fn_traindev_df), num_pairs_per_class=2)"
   ]
  },
  {
   "cell_type": "code",
   "execution_count": null,
   "metadata": {},
   "outputs": [],
   "source": [
    "len(traindev_df)  # pairs"
   ]
  },
  {
   "cell_type": "code",
   "execution_count": 52,
   "metadata": {},
   "outputs": [
    {
     "name": "stdout",
     "output_type": "stream",
     "text": [
      "bad-bad 175940\n",
      "bad-good 175940\n",
      "good-bad 175940\n",
      "good-good 175940\n"
     ]
    }
   ],
   "source": [
    "# check how many pairs are per pairing\n",
    "for pairtype, df_grouped in traindev_df.groupby([\"type\"]):\n",
    "    print(pairtype, len(df_grouped))\n",
    "    # df_grouped.describe()"
   ]
  },
  {
   "cell_type": "markdown",
   "metadata": {},
   "source": [
    "---"
   ]
  },
  {
   "cell_type": "code",
   "execution_count": 37,
   "metadata": {},
   "outputs": [],
   "source": [
    "def _add_dummy_tag(row):\n",
    "    row[\"tag\"] = \"NA\"\n",
    "    return row\n",
    "\n",
    "# all_df = all_df.progress_apply(_add_dummy_tag, axis=1)\n",
    "traindev_df[\"tag\"] = \"NA\""
   ]
  },
  {
   "cell_type": "code",
   "execution_count": 41,
   "metadata": {},
   "outputs": [],
   "source": [
    "X_train, X_dev, y_train, y_dev = get_train_test_sets(traindev_df, ratio=0.1)"
   ]
  },
  {
   "cell_type": "code",
   "execution_count": 42,
   "metadata": {
    "ExecuteTime": {
     "end_time": "2020-05-25T09:56:58.418571Z",
     "start_time": "2020-05-25T09:56:52.150060Z"
    }
   },
   "outputs": [
    {
     "name": "stdout",
     "output_type": "stream",
     "text": [
      "Start on [setup BERT model] ...\n",
      "Time for [setup BERT model]: 0:00:11.359552\n"
     ]
    }
   ],
   "source": [
    "with Timer(\"setup BERT model\"):\n",
    "    model, vocabulary, ctx, tokenizer, transform, loss_function, metric, all_labels = setup_bert_pro128bce(gpu=0)"
   ]
  },
  {
   "cell_type": "code",
   "execution_count": 43,
   "metadata": {},
   "outputs": [
    {
     "name": "stdout",
     "output_type": "stream",
     "text": [
      "Start on [prepare training / validation data] ...\n",
      "Time for [prepare training / validation data]: 0:00:51.366428\n"
     ]
    }
   ],
   "source": [
    "with Timer(\"prepare training / validation data\"):\n",
    "    data_train_raw, data_train = transform_dataset(X_train, y_train, transform)\n",
    "    data_dev_raw, data_dev = transform_dataset(X_dev, y_dev, transform)"
   ]
  },
  {
   "cell_type": "code",
   "execution_count": 44,
   "metadata": {
    "ExecuteTime": {
     "end_time": "2020-05-25T09:57:10.724496Z",
     "start_time": "2020-05-25T09:57:10.720382Z"
    }
   },
   "outputs": [],
   "source": [
    "num_epochs = 3\n",
    "batch_size = 32"
   ]
  },
  {
   "cell_type": "code",
   "execution_count": 74,
   "metadata": {
    "ExecuteTime": {
     "end_time": "2020-05-25T09:57:30.731979Z",
     "start_time": "2020-05-25T09:57:28.225820Z"
    }
   },
   "outputs": [
    {
     "name": "stdout",
     "output_type": "stream",
     "text": [
      "Load data/yelp_1_pro128BCE/bert.model.checkpoint2.params ...\n"
     ]
    }
   ],
   "source": [
    "run_name1 = \"yelp_1_pro128BCE\"\n",
    "fn_run_path1 = Path(f\"data/{run_name1}\")\n",
    "epoch_id = num_epochs - 1\n",
    "fn_model_state = fn_run_path1 / f\"bert.model.checkpoint{epoch_id}.params\"\n",
    "print(f\"Load {fn_model_state} ...\")\n",
    "model.load_parameters(str(fn_model_state), ctx=ctx)"
   ]
  },
  {
   "cell_type": "code",
   "execution_count": 49,
   "metadata": {
    "collapsed": true,
    "jupyter": {
     "outputs_hidden": true
    }
   },
   "outputs": [
    {
     "name": "stdout",
     "output_type": "stream",
     "text": [
      "Confusion Matrix:\n",
      "[[27379  7845]\n",
      " [ 6286 28866]]\n",
      "\n",
      "CM: [27379  7845  6286 28866] \n",
      "[tn, fp, fn, tp]\n",
      "  accuracy: 0.799\n",
      " precision: 0.800\n",
      "    recall: 0.799\n",
      "  f1-score: 0.799\n",
      "\n",
      "Accuracy:  0.799 \n",
      "\n",
      "Report for [BERTClassifier - yelp_7_pro128BCE]:\n",
      "              precision    recall  f1-score   support\n",
      "\n",
      "           0       0.81      0.78      0.79     35224\n",
      "           1       0.79      0.82      0.80     35152\n",
      "\n",
      "    accuracy                           0.80     70376\n",
      "   macro avg       0.80      0.80      0.80     70376\n",
      "weighted avg       0.80      0.80      0.80     70376\n",
      "\n"
     ]
    },
    {
     "data": {
      "image/png": "[encoded data removed]",
      "text/plain": [
       "<Figure size 432x288 with 1 Axes>"
      ]
     },
     "metadata": {
      "needs_background": "light"
     },
     "output_type": "display_data"
    }
   ],
   "source": [
    "# for train set\n",
    "print(\"Evaluate trained model for each epoch ...\")\n",
    "all_predictions, cum_loss = predict(model, data_dev, ctx, metric, loss_function, batch_size=batch_size)\n",
    "y_true, y_pred = predict_out_to_ys(all_predictions, all_labels)\n",
    "with open(fn_run_path / f\"yelp_1_eval_epoch{epoch_id}.p\", \"wb\") as fp:\n",
    "    pickle.dump(y_true, fp, protocol=pickle.HIGHEST_PROTOCOL)\n",
    "    pickle.dump(y_pred, fp, protocol=pickle.HIGHEST_PROTOCOL)\n",
    "report_training_results(y_true, y_pred, name=f\"BERTClassifier - {run_name}\", heatmap=False)\n",
    "plot_confusion_matrix(y_true, y_pred, labels=[0, 1], title=f\"Yelp 1 Epoch {epoch_id} with double the number of pairing\", values_format=\"d\", cmap=\"Blues\", include_colorbar=False)\n",
    "plt.show()"
   ]
  },
  {
   "cell_type": "code",
   "execution_count": 75,
   "metadata": {
    "collapsed": true,
    "jupyter": {
     "outputs_hidden": true
    }
   },
   "outputs": [
    {
     "name": "stderr",
     "output_type": "stream",
     "text": [
      "  0%|          | 1/21993 [00:00<39:23,  9.30it/s]"
     ]
    },
    {
     "name": "stdout",
     "output_type": "stream",
     "text": [
      "Evaluate trained model for each epoch ...\n",
      "Start on [prediction] ...\n"
     ]
    },
    {
     "name": "stderr",
     "output_type": "stream",
     "text": [
      "100%|██████████| 21993/21993 [35:10<00:00, 10.42it/s]\n"
     ]
    },
    {
     "name": "stdout",
     "output_type": "stream",
     "text": [
      "Time for [prediction]: 0:35:10.077056\n",
      "Confusion Matrix:\n",
      "[[273627  78253]\n",
      " [ 61749 290131]]\n",
      "\n",
      "CM: [273627  78253  61749 290131] \n",
      "[tn, fp, fn, tp]\n",
      "  accuracy: 0.801\n",
      " precision: 0.802\n",
      "    recall: 0.801\n",
      "  f1-score: 0.801\n",
      "\n",
      "Accuracy:  0.801 \n",
      "\n",
      "Report for [BERTClassifier - yelp_7_pro128BCE (ALL)]:\n",
      "              precision    recall  f1-score   support\n",
      "\n",
      "           0       0.82      0.78      0.80    351880\n",
      "           1       0.79      0.82      0.81    351880\n",
      "\n",
      "    accuracy                           0.80    703760\n",
      "   macro avg       0.80      0.80      0.80    703760\n",
      "weighted avg       0.80      0.80      0.80    703760\n",
      "\n"
     ]
    },
    {
     "data": {
      "image/png": "[encoded data removed]",
      "text/plain": [
       "<Figure size 432x288 with 1 Axes>"
      ]
     },
     "metadata": {
      "needs_background": "light"
     },
     "output_type": "display_data"
    }
   ],
   "source": [
    "# for whole dataset\n",
    "print(\"Prepare dataset ...\")\n",
    "X_dev, y_dev = traindev_df[names_columns_X], traindev_df[names_columns_y]\n",
    "_, data_dev = transform_dataset(X_dev, y_dev, transform)\n",
    "\n",
    "print(\"Evaluate trained model for each epoch ...\")\n",
    "all_predictions, cum_loss = predict(model, data_dev, ctx, metric, loss_function, batch_size=batch_size)\n",
    "y_true, y_pred = predict_out_to_ys(all_predictions, all_labels)\n",
    "with open(fn_run_path / f\"yelp_1_eval_epoch{epoch_id}_all.p\", \"wb\") as fp:\n",
    "    pickle.dump(y_true, fp, protocol=pickle.HIGHEST_PROTOCOL)\n",
    "    pickle.dump(y_pred, fp, protocol=pickle.HIGHEST_PROTOCOL)\n",
    "report_training_results(y_true, y_pred, name=f\"BERTClassifier - {run_name} (ALL)\", heatmap=False)\n",
    "plot_confusion_matrix(y_true, y_pred, labels=[0, 1], title=f\"Yelp 1 Epoch {epoch_id} with double the number of pairing (ALL)\", values_format=\"d\", cmap=\"Blues\", include_colorbar=False)\n",
    "plt.show()"
   ]
  },
  {
   "cell_type": "code",
   "execution_count": null,
   "metadata": {},
   "outputs": [],
   "source": []
  },
  {
   "cell_type": "code",
   "execution_count": 71,
   "metadata": {},
   "outputs": [
    {
     "name": "stdout",
     "output_type": "stream",
     "text": [
      "bad-bad 17611\n",
      "bad-good 17631\n",
      "good-bad 17593\n",
      "good-good 17541\n"
     ]
    }
   ],
   "source": [
    "# merge train df\n",
    "traindev2_df = X_dev.join(y_dev)\n",
    "\n",
    "# group train df\n",
    "grouped_traindev_df = {pairtype: df_grouped for pairtype, df_grouped in traindev2_df.groupby([\"type\"])}\n",
    "for pairtype, df_grouped in grouped_traindev_df.items():\n",
    "    print(pairtype, len(df_grouped))\n",
    "\n",
    "# split train df\n",
    "\n",
    "grouped_traindev_df = {\n",
    "    pairtype: (df_grouped[names_columns_X], df_grouped[names_columns_y])\n",
    "    for pairtype, df_grouped in grouped_traindev_df.items()\n",
    "}"
   ]
  },
  {
   "cell_type": "code",
   "execution_count": 72,
   "metadata": {},
   "outputs": [
    {
     "name": "stdout",
     "output_type": "stream",
     "text": [
      "Start on [prepare training / validation data] ...\n",
      "Time for [prepare training / validation data]: 0:00:05.021262\n"
     ]
    }
   ],
   "source": [
    "with Timer(\"prepare validation data\"):\n",
    "    data_dev_grouped = {\n",
    "        # data_dev_raw, data_dev = transform_dataset(X_dev, y_dev, transform)\n",
    "        pairtype: transform_dataset(X_dev, y_dev, transform)\n",
    "        for pairtype, (X_dev, y_dev) in grouped_traindev_df.items()\n",
    "    }"
   ]
  },
  {
   "cell_type": "code",
   "execution_count": 73,
   "metadata": {
    "collapsed": true,
    "jupyter": {
     "outputs_hidden": true
    }
   },
   "outputs": [
    {
     "name": "stderr",
     "output_type": "stream",
     "text": [
      "  0%|          | 1/551 [00:00<01:01,  8.98it/s]"
     ]
    },
    {
     "name": "stdout",
     "output_type": "stream",
     "text": [
      "Evaluate trained model on pairtype bad-bad #7...\n",
      "Start on [prediction] ...\n"
     ]
    },
    {
     "name": "stderr",
     "output_type": "stream",
     "text": [
      "100%|██████████| 551/551 [00:53<00:00, 10.33it/s]\n"
     ]
    },
    {
     "name": "stdout",
     "output_type": "stream",
     "text": [
      "Time for [prediction]: 0:00:53.344296\n",
      "Confusion Matrix:\n",
      "[[    0     0]\n",
      " [ 4086 13525]]\n",
      "\n",
      "CM: [    0     0  4086 13525] \n",
      "[tn, fp, fn, tp]\n",
      "  accuracy: 0.768\n",
      " precision: 0.500\n",
      "    recall: 0.384\n",
      "  f1-score: 0.434\n",
      "\n",
      "Accuracy:  0.768 \n",
      "\n",
      "Report for [BERTClassifier - yelp_7_pro128BCE - bad-bad]:\n",
      "              precision    recall  f1-score   support\n",
      "\n",
      "           0       0.00      0.00      0.00         0\n",
      "           1       1.00      0.77      0.87     17611\n",
      "\n",
      "    accuracy                           0.77     17611\n",
      "   macro avg       0.50      0.38      0.43     17611\n",
      "weighted avg       1.00      0.77      0.87     17611\n",
      "\n"
     ]
    },
    {
     "data": {
      "image/png": "[encoded data removed]",
      "text/plain": [
       "<Figure size 432x288 with 1 Axes>"
      ]
     },
     "metadata": {
      "needs_background": "light"
     },
     "output_type": "display_data"
    },
    {
     "name": "stderr",
     "output_type": "stream",
     "text": [
      "  0%|          | 0/551 [00:00<?, ?it/s]"
     ]
    },
    {
     "name": "stdout",
     "output_type": "stream",
     "text": [
      "Evaluate trained model on pairtype bad-good #8...\n",
      "Start on [prediction] ...\n"
     ]
    },
    {
     "name": "stderr",
     "output_type": "stream",
     "text": [
      "100%|██████████| 551/551 [00:52<00:00, 10.53it/s]\n"
     ]
    },
    {
     "name": "stdout",
     "output_type": "stream",
     "text": [
      "Time for [prediction]: 0:00:52.332887\n",
      "Confusion Matrix:\n",
      "[[13637  3994]\n",
      " [    0     0]]\n",
      "\n",
      "CM: [13637  3994     0     0] \n",
      "[tn, fp, fn, tp]\n",
      "  accuracy: 0.773\n",
      " precision: 0.500\n",
      "    recall: 0.387\n",
      "  f1-score: 0.436\n",
      "\n",
      "Accuracy:  0.773 \n",
      "\n",
      "Report for [BERTClassifier - yelp_7_pro128BCE - bad-good]:\n",
      "              precision    recall  f1-score   support\n",
      "\n",
      "           0       1.00      0.77      0.87     17631\n",
      "           1       0.00      0.00      0.00         0\n",
      "\n",
      "    accuracy                           0.77     17631\n",
      "   macro avg       0.50      0.39      0.44     17631\n",
      "weighted avg       1.00      0.77      0.87     17631\n",
      "\n"
     ]
    },
    {
     "data": {
      "image/png": "[encoded data removed]",
      "text/plain": [
       "<Figure size 432x288 with 1 Axes>"
      ]
     },
     "metadata": {
      "needs_background": "light"
     },
     "output_type": "display_data"
    },
    {
     "name": "stderr",
     "output_type": "stream",
     "text": [
      "  0%|          | 0/550 [00:00<?, ?it/s]"
     ]
    },
    {
     "name": "stdout",
     "output_type": "stream",
     "text": [
      "Evaluate trained model on pairtype good-bad #8...\n",
      "Start on [prediction] ...\n"
     ]
    },
    {
     "name": "stderr",
     "output_type": "stream",
     "text": [
      "100%|██████████| 550/550 [00:52<00:00, 10.49it/s]\n"
     ]
    },
    {
     "name": "stdout",
     "output_type": "stream",
     "text": [
      "Time for [prediction]: 0:00:52.435732\n",
      "Confusion Matrix:\n",
      "[[13742  3851]\n",
      " [    0     0]]\n",
      "\n",
      "CM: [13742  3851     0     0] \n",
      "[tn, fp, fn, tp]\n",
      "  accuracy: 0.781\n",
      " precision: 0.500\n",
      "    recall: 0.391\n",
      "  f1-score: 0.439\n",
      "\n",
      "Accuracy:  0.781 \n",
      "\n",
      "Report for [BERTClassifier - yelp_7_pro128BCE - good-bad]:\n",
      "              precision    recall  f1-score   support\n",
      "\n",
      "           0       1.00      0.78      0.88     17593\n",
      "           1       0.00      0.00      0.00         0\n",
      "\n",
      "    accuracy                           0.78     17593\n",
      "   macro avg       0.50      0.39      0.44     17593\n",
      "weighted avg       1.00      0.78      0.88     17593\n",
      "\n"
     ]
    },
    {
     "data": {
      "image/png": "[encoded data removed]",
      "text/plain": [
       "<Figure size 432x288 with 1 Axes>"
      ]
     },
     "metadata": {
      "needs_background": "light"
     },
     "output_type": "display_data"
    },
    {
     "name": "stderr",
     "output_type": "stream",
     "text": [
      "  0%|          | 0/549 [00:00<?, ?it/s]"
     ]
    },
    {
     "name": "stdout",
     "output_type": "stream",
     "text": [
      "Evaluate trained model on pairtype good-good #9...\n",
      "Start on [prediction] ...\n"
     ]
    },
    {
     "name": "stderr",
     "output_type": "stream",
     "text": [
      "100%|██████████| 549/549 [00:50<00:00, 10.77it/s]\n"
     ]
    },
    {
     "name": "stdout",
     "output_type": "stream",
     "text": [
      "Time for [prediction]: 0:00:50.972915\n",
      "Confusion Matrix:\n",
      "[[    0     0]\n",
      " [ 2200 15341]]\n",
      "\n",
      "CM: [    0     0  2200 15341] \n",
      "[tn, fp, fn, tp]\n",
      "  accuracy: 0.875\n",
      " precision: 0.500\n",
      "    recall: 0.437\n",
      "  f1-score: 0.467\n",
      "\n",
      "Accuracy:  0.875 \n",
      "\n",
      "Report for [BERTClassifier - yelp_7_pro128BCE - good-good]:\n",
      "              precision    recall  f1-score   support\n",
      "\n",
      "           0       0.00      0.00      0.00         0\n",
      "           1       1.00      0.87      0.93     17541\n",
      "\n",
      "    accuracy                           0.87     17541\n",
      "   macro avg       0.50      0.44      0.47     17541\n",
      "weighted avg       1.00      0.87      0.93     17541\n",
      "\n"
     ]
    },
    {
     "data": {
      "image/png": "[encoded data removed]",
      "text/plain": [
       "<Figure size 432x288 with 1 Axes>"
      ]
     },
     "metadata": {
      "needs_background": "light"
     },
     "output_type": "display_data"
    }
   ],
   "source": [
    "for pairtype, (_, data_dev) in data_dev_grouped.items():\n",
    "    print(f\"Evaluate trained model on pairtype {pairtype} #{len(pairtype)}...\")\n",
    "\n",
    "    all_predictions, cum_loss = predict(model, data_dev, ctx, metric, loss_function, batch_size=batch_size)\n",
    "    y_true, y_pred = predict_out_to_ys(all_predictions, all_labels)\n",
    "    with open(fn_run_path / f\"yelp_1_eval_epoch{epoch_id}_{pairtype}.p\", \"wb\") as fp:\n",
    "        pickle.dump(y_true, fp, protocol=pickle.HIGHEST_PROTOCOL)\n",
    "        pickle.dump(y_pred, fp, protocol=pickle.HIGHEST_PROTOCOL)\n",
    "    report_training_results(y_true, y_pred, name=f\"BERTClassifier - {run_name} - {pairtype}\", heatmap=False)\n",
    "    plot_confusion_matrix(y_true, y_pred, labels=[0, 1], title=f\"Yelp 1 Epoch {epoch_id} with double the number of pairing on pairtype {pairtype}\", values_format=\"d\", cmap=\"Blues\", include_colorbar=False)\n",
    "    plt.show()"
   ]
  },
  {
   "cell_type": "markdown",
   "metadata": {},
   "source": [
    "pair-type-wise evaluation _(on pre-trained yelp_1_* model)_\n",
    "\n",
    "```\n",
    "          [  tn,   fp,   fn,    tp]   Acc     #num\n",
    "bad-bad   [    0     0  4086 13525]   0.768   17611\n",
    "bad-good  [13637  3994     0     0]   0.773   17631\n",
    "good-bad  [13742  3851     0     0]   0.781   17593\n",
    "good-good [    0     0  2200 15341]   0.875   17541\n",
    "\n",
    "all*      [27379  7845  6286 28866]   0.799   70376\n",
    "```"
   ]
  },
  {
   "cell_type": "markdown",
   "metadata": {},
   "source": [
    "---"
   ]
  },
  {
   "cell_type": "code",
   "execution_count": 76,
   "metadata": {},
   "outputs": [
    {
     "name": "stdout",
     "output_type": "stream",
     "text": [
      "bad-bad 175940\n",
      "bad-good 175940\n",
      "good-bad 175940\n",
      "good-good 175940\n"
     ]
    }
   ],
   "source": [
    "# ALL traindev_df\n",
    "# group train df\n",
    "grouped_traindev_df = {pairtype: df_grouped for pairtype, df_grouped in traindev_df.groupby([\"type\"])}\n",
    "for pairtype, df_grouped in grouped_traindev_df.items():\n",
    "    print(pairtype, len(df_grouped))\n",
    "\n",
    "# split train df\n",
    "grouped_traindev_df = {\n",
    "    pairtype: (df_grouped[names_columns_X], df_grouped[names_columns_y])\n",
    "    for pairtype, df_grouped in grouped_traindev_df.items()\n",
    "}"
   ]
  },
  {
   "cell_type": "code",
   "execution_count": 78,
   "metadata": {},
   "outputs": [
    {
     "name": "stdout",
     "output_type": "stream",
     "text": [
      "Start on [prepare validation data] ...\n",
      "Time for [prepare validation data]: 0:00:53.107414\n"
     ]
    }
   ],
   "source": [
    "with Timer(\"prepare validation data\"):\n",
    "    data_dev_grouped = {\n",
    "        # data_dev_raw, data_dev = transform_dataset(X_dev, y_dev, transform)\n",
    "        pairtype: transform_dataset(X_dev, y_dev, transform)[1]\n",
    "        for pairtype, (X_dev, y_dev) in grouped_traindev_df.items()\n",
    "    }"
   ]
  },
  {
   "cell_type": "code",
   "execution_count": 79,
   "metadata": {},
   "outputs": [
    {
     "name": "stderr",
     "output_type": "stream",
     "text": [
      "  0%|          | 1/5499 [00:00<10:18,  8.89it/s]"
     ]
    },
    {
     "name": "stdout",
     "output_type": "stream",
     "text": [
      "Evaluate trained model on pairtype bad-bad #7...\n",
      "Start on [prediction] ...\n"
     ]
    },
    {
     "name": "stderr",
     "output_type": "stream",
     "text": [
      "100%|██████████| 5499/5499 [09:00<00:00, 10.18it/s]\n"
     ]
    },
    {
     "name": "stdout",
     "output_type": "stream",
     "text": [
      "Time for [prediction]: 0:09:00.095693\n",
      "Confusion Matrix:\n",
      "[[     0      0]\n",
      " [ 40575 135365]]\n",
      "\n",
      "CM: [     0      0  40575 135365] \n",
      "[tn, fp, fn, tp]\n",
      "  accuracy: 0.769\n",
      " precision: 0.500\n",
      "    recall: 0.385\n",
      "  f1-score: 0.435\n",
      "\n",
      "Accuracy:  0.769 \n",
      "\n",
      "Report for [BERTClassifier - yelp_7_pro128BCE - bad-bad]:\n",
      "              precision    recall  f1-score   support\n",
      "\n",
      "           0       0.00      0.00      0.00         0\n",
      "           1       1.00      0.77      0.87    175940\n",
      "\n",
      "    accuracy                           0.77    175940\n",
      "   macro avg       0.50      0.38      0.43    175940\n",
      "weighted avg       1.00      0.77      0.87    175940\n",
      "\n"
     ]
    },
    {
     "data": {
      "image/png": "[encoded data removed]",
      "text/plain": [
       "<Figure size 432x288 with 1 Axes>"
      ]
     },
     "metadata": {
      "needs_background": "light"
     },
     "output_type": "display_data"
    },
    {
     "name": "stderr",
     "output_type": "stream",
     "text": [
      "  0%|          | 2/5499 [00:00<08:40, 10.55it/s]"
     ]
    },
    {
     "name": "stdout",
     "output_type": "stream",
     "text": [
      "Evaluate trained model on pairtype bad-good #8...\n",
      "Start on [prediction] ...\n"
     ]
    },
    {
     "name": "stderr",
     "output_type": "stream",
     "text": [
      "100%|██████████| 5499/5499 [08:47<00:00, 10.42it/s]\n"
     ]
    },
    {
     "name": "stdout",
     "output_type": "stream",
     "text": [
      "Time for [prediction]: 0:08:47.922924\n",
      "Confusion Matrix:\n",
      "[[135835  40105]\n",
      " [     0      0]]\n",
      "\n",
      "CM: [135835  40105      0      0] \n",
      "[tn, fp, fn, tp]\n",
      "  accuracy: 0.772\n",
      " precision: 0.500\n",
      "    recall: 0.386\n",
      "  f1-score: 0.436\n",
      "\n",
      "Accuracy:  0.772 \n",
      "\n",
      "Report for [BERTClassifier - yelp_7_pro128BCE - bad-good]:\n",
      "              precision    recall  f1-score   support\n",
      "\n",
      "           0       1.00      0.77      0.87    175940\n",
      "           1       0.00      0.00      0.00         0\n",
      "\n",
      "    accuracy                           0.77    175940\n",
      "   macro avg       0.50      0.39      0.44    175940\n",
      "weighted avg       1.00      0.77      0.87    175940\n",
      "\n"
     ]
    },
    {
     "data": {
      "image/png": "[encoded data removed]",
      "text/plain": [
       "<Figure size 432x288 with 1 Axes>"
      ]
     },
     "metadata": {
      "needs_background": "light"
     },
     "output_type": "display_data"
    },
    {
     "name": "stderr",
     "output_type": "stream",
     "text": [
      "  0%|          | 2/5499 [00:00<08:49, 10.38it/s]"
     ]
    },
    {
     "name": "stdout",
     "output_type": "stream",
     "text": [
      "Evaluate trained model on pairtype good-bad #8...\n",
      "Start on [prediction] ...\n"
     ]
    },
    {
     "name": "stderr",
     "output_type": "stream",
     "text": [
      "100%|██████████| 5499/5499 [08:47<00:00, 10.42it/s]\n"
     ]
    },
    {
     "name": "stdout",
     "output_type": "stream",
     "text": [
      "Time for [prediction]: 0:08:47.778116\n",
      "Confusion Matrix:\n",
      "[[137792  38148]\n",
      " [     0      0]]\n",
      "\n",
      "CM: [137792  38148      0      0] \n",
      "[tn, fp, fn, tp]\n",
      "  accuracy: 0.783\n",
      " precision: 0.500\n",
      "    recall: 0.392\n",
      "  f1-score: 0.439\n",
      "\n",
      "Accuracy:  0.783 \n",
      "\n",
      "Report for [BERTClassifier - yelp_7_pro128BCE - good-bad]:\n",
      "              precision    recall  f1-score   support\n",
      "\n",
      "           0       1.00      0.78      0.88    175940\n",
      "           1       0.00      0.00      0.00         0\n",
      "\n",
      "    accuracy                           0.78    175940\n",
      "   macro avg       0.50      0.39      0.44    175940\n",
      "weighted avg       1.00      0.78      0.88    175940\n",
      "\n"
     ]
    },
    {
     "data": {
      "image/png": "[encoded data removed]",
      "text/plain": [
       "<Figure size 432x288 with 1 Axes>"
      ]
     },
     "metadata": {
      "needs_background": "light"
     },
     "output_type": "display_data"
    },
    {
     "name": "stderr",
     "output_type": "stream",
     "text": [
      "  0%|          | 2/5499 [00:00<08:31, 10.75it/s]"
     ]
    },
    {
     "name": "stdout",
     "output_type": "stream",
     "text": [
      "Evaluate trained model on pairtype good-good #9...\n",
      "Start on [prediction] ...\n"
     ]
    },
    {
     "name": "stderr",
     "output_type": "stream",
     "text": [
      "100%|██████████| 5499/5499 [08:33<00:00, 10.70it/s]\n"
     ]
    },
    {
     "name": "stdout",
     "output_type": "stream",
     "text": [
      "Time for [prediction]: 0:08:33.750572\n",
      "Confusion Matrix:\n",
      "[[     0      0]\n",
      " [ 21174 154766]]\n",
      "\n",
      "CM: [     0      0  21174 154766] \n",
      "[tn, fp, fn, tp]\n",
      "  accuracy: 0.880\n",
      " precision: 0.500\n",
      "    recall: 0.440\n",
      "  f1-score: 0.468\n",
      "\n",
      "Accuracy:  0.88 \n",
      "\n",
      "Report for [BERTClassifier - yelp_7_pro128BCE - good-good]:\n",
      "              precision    recall  f1-score   support\n",
      "\n",
      "           0       0.00      0.00      0.00         0\n",
      "           1       1.00      0.88      0.94    175940\n",
      "\n",
      "    accuracy                           0.88    175940\n",
      "   macro avg       0.50      0.44      0.47    175940\n",
      "weighted avg       1.00      0.88      0.94    175940\n",
      "\n"
     ]
    },
    {
     "data": {
      "image/png": "[encoded data removed]",
      "text/plain": [
       "<Figure size 432x288 with 1 Axes>"
      ]
     },
     "metadata": {
      "needs_background": "light"
     },
     "output_type": "display_data"
    }
   ],
   "source": [
    "for pairtype, data_dev in data_dev_grouped.items():\n",
    "    print(f\"Evaluate trained model on pairtype {pairtype} #{len(pairtype)}...\")\n",
    "\n",
    "    all_predictions, cum_loss = predict(model, data_dev, ctx, metric, loss_function, batch_size=batch_size)\n",
    "    y_true, y_pred = predict_out_to_ys(all_predictions, all_labels)\n",
    "    with open(fn_run_path / f\"yelp_1_eval_epoch{epoch_id}_{pairtype}.p\", \"wb\") as fp:\n",
    "        pickle.dump(y_true, fp, protocol=pickle.HIGHEST_PROTOCOL)\n",
    "        pickle.dump(y_pred, fp, protocol=pickle.HIGHEST_PROTOCOL)\n",
    "    report_training_results(y_true, y_pred, name=f\"BERTClassifier - {run_name} - {pairtype}\", heatmap=False)\n",
    "    plot_confusion_matrix(y_true, y_pred, labels=[0, 1], title=f\"Yelp 1 Epoch {epoch_id} with double the number of pairing on pairtype {pairtype}\", values_format=\"d\", cmap=\"Blues\", include_colorbar=False)\n",
    "    plt.show()"
   ]
  },
  {
   "cell_type": "markdown",
   "metadata": {},
   "source": [
    "pair-type-wise evaluation _(on pre-trained yelp_1_* model)_\n",
    "\n",
    "```\n",
    "          [  tn,   fp,   fn,    tp]   Acc     #num\n",
    "bad-bad   [    0     0  4086 13525]   0.768   17611\n",
    "bad-good  [13637  3994     0     0]   0.773   17631\n",
    "good-bad  [13742  3851     0     0]   0.781   17593\n",
    "good-good [    0     0  2200 15341]   0.875   17541\n",
    "\n",
    "all*      [27379  7845  6286 28866]   0.799   70376\n",
    "```"
   ]
  },
  {
   "cell_type": "markdown",
   "metadata": {},
   "source": [
    "pair-type-wise evaluation _(on pre-trained yelp_1* model)_ using all traindev data (4 per business)\n",
    "\n",
    "```\n",
    "          [   tn,    fp,    fn,     tp]   Acc     #num\n",
    "bad-bad   [     0      0  40575 135365]   0.769   175940\n",
    "bad-good  [135835  40105      0      0]   0.772   175940\n",
    "good-bad  [137792  38148      0      0]   0.783   175940\n",
    "good-good [     0      0  21174 154766]   0.880   175940\n",
    "\n",
    "all*      [273627  78253  61749 290131]   0.801   703760\n",
    "```"
   ]
  },
  {
   "cell_type": "code",
   "execution_count": null,
   "metadata": {},
   "outputs": [],
   "source": []
  },
  {
   "cell_type": "code",
   "execution_count": null,
   "metadata": {},
   "outputs": [],
   "source": []
  },
  {
   "cell_type": "markdown",
   "metadata": {},
   "source": [
    "##### Training with TRAIN set"
   ]
  },
  {
   "cell_type": "code",
   "execution_count": null,
   "metadata": {},
   "outputs": [],
   "source": [
    "for epoch_id in range(num_epochs):\n",
    "    with Timer(f\"train model - {epoch_id}\"), SummaryWriter(logdir=str(fn_run_path), flush_secs=600) as sw:\n",
    "        stats = train(model, data_train, ctx, metric, loss_function, batch_size=batch_size, lr=5e-6, num_epochs=epoch_id + 1, sw=sw, checkpoint_dir=str(fn_run_path))\n",
    "        plot_train_stats(stats)\n",
    "\n",
    "    with Timer(f\"evaluate - {epoch_id}\"), SummaryWriter(logdir=str(fn_run_path), flush_secs=600) as sw:\n",
    "        all_predictions, cum_loss = predict(model, data_dev, ctx, metric, loss_function, batch_size=batch_size, sw=sw)\n",
    "        print(f\"Accuracy in epoch {epoch_id}:\", metric.get()[1])\n",
    "\n",
    "        y_true, y_pred = predict_out_to_ys(all_predictions, all_labels)\n",
    "        report_training_results(y_true, y_pred, name=f\"BERTClassifier - {run_name}\", heatmap=False)\n",
    "\n",
    "    model.save_parameters(str(fn_run_path / \"bert.model.params\"))"
   ]
  },
  {
   "cell_type": "code",
   "execution_count": null,
   "metadata": {},
   "outputs": [],
   "source": [
    "plot_train_stats(stats)"
   ]
  },
  {
   "cell_type": "markdown",
   "metadata": {},
   "source": [
    "##### Results with validation set (DEV set)"
   ]
  },
  {
   "cell_type": "code",
   "execution_count": null,
   "metadata": {
    "scrolled": true
   },
   "outputs": [],
   "source": [
    "all_predictions, cum_loss = predict(model, data_dev, ctx, metric, loss_function, batch_size=batch_size)\n",
    "y_true, y_pred = predict_out_to_ys(all_predictions, all_labels)\n",
    "with open(fn_run_path / \"eval_untrained.p\", \"wb\") as fp:\n",
    "    pickle.dump(y_true, fp, protocol=pickle.HIGHEST_PROTOCOL)\n",
    "    pickle.dump(y_pred, fp, protocol=pickle.HIGHEST_PROTOCOL)\n",
    "report_training_results(y_true, y_pred, name=f\"BERTClassifier - {run_name}\", heatmap=False)\n",
    "plot_confusion_matrix(y_true, y_pred, labels=[0, 1], title=f\"{run_name} Untrained\", values_format=\"d\", cmap=\"Blues\", include_colorbar=False)\n",
    "plt.show()"
   ]
  },
  {
   "cell_type": "code",
   "execution_count": null,
   "metadata": {},
   "outputs": [],
   "source": [
    "print(\"Evaluate trained model for each epoch ...\")\n",
    "for epoch_id in range(num_epochs):\n",
    "    fn_model_state = fn_run_path / f\"bert.model.checkpoint{epoch_id}.params\"\n",
    "    print(f\"Load {fn_model_state} ...\")\n",
    "    model.load_parameters(str(fn_model_state), ctx=ctx)\n",
    "    all_predictions, cum_loss = predict(model, data_dev, ctx, metric, loss_function, batch_size=batch_size)\n",
    "    y_true, y_pred = predict_out_to_ys(all_predictions, all_labels)\n",
    "    with open(fn_run_path / f\"eval_epoch{epoch_id}.p\", \"wb\") as fp:\n",
    "        pickle.dump(y_true, fp, protocol=pickle.HIGHEST_PROTOCOL)\n",
    "        pickle.dump(y_pred, fp, protocol=pickle.HIGHEST_PROTOCOL)\n",
    "    report_training_results(y_true, y_pred, name=f\"BERTClassifier - {run_name}\", heatmap=False)\n",
    "    plot_confusion_matrix(y_true, y_pred, labels=[0, 1], title=f\"Yelp 3 Epoch {epoch_id}\", values_format=\"d\", cmap=\"Blues\", include_colorbar=False)\n",
    "    plt.show()"
   ]
  },
  {
   "cell_type": "markdown",
   "metadata": {},
   "source": [
    "### Load other categories and evaluate"
   ]
  },
  {
   "cell_type": "code",
   "execution_count": null,
   "metadata": {},
   "outputs": [],
   "source": []
  },
  {
   "cell_type": "code",
   "execution_count": null,
   "metadata": {
    "ExecuteTime": {
     "end_time": "2020-05-25T09:57:50.978664Z",
     "start_time": "2020-05-25T09:57:50.972183Z"
    }
   },
   "outputs": [],
   "source": [
    "# lst_root_categories\n",
    "root_categories = get_root_category_items(map_categories)\n",
    "root_categories = sorted(root_categories, key=lambda x: x[\"title\"])\n",
    "root_category_labels = [x[\"title\"] for x in root_categories]"
   ]
  },
  {
   "cell_type": "code",
   "execution_count": null,
   "metadata": {
    "jupyter": {
     "source_hidden": true
    }
   },
   "outputs": [],
   "source": [
    "results_cross_no_overlap = dict()\n",
    "\n",
    "for root_category_label in root_category_labels:\n",
    "    if root_category_label == category_name:\n",
    "        continue\n",
    "\n",
    "    print(f\"Work on {root_category_label} ...\")\n",
    "    # without overlap\n",
    "    df_other = filter_root_category_businesses_not_other(root_category_label, category_name, inv_cat_bids, map_categories, map_cat_name2id)\n",
    "    \n",
    "    df_other = filter_min_review_freq(df_other, min_ratings=5)\n",
    "    df_other = filter_both_good_bad(df_other)\n",
    "    df_other = make_or_load_pairs(df_other, None, num_pairs_per_class=2)\n",
    "    print(\"review pairs:\", len(df_other))\n",
    "    \n",
    "    df_other[\"tag\"] = \"NA\"\n",
    "    \n",
    "    X_dev, y_dev = df_other[names_columns_X_arteval], df_other[names_columns_y]\n",
    "    data_dev_raw, data_dev = transform_dataset(X_dev, y_dev, transform)\n",
    "    \n",
    "    all_predictions, cum_loss = predict(model, data_dev, ctx, metric, loss_function, batch_size=batch_size)\n",
    "    y_true, y_pred = predict_out_to_ys(all_predictions, all_labels)\n",
    "    report_training_results(y_true, y_pred, name=f\"BERTClassifier - {run_name} - {category_name}-->{root_category_label}\", heatmap=False)\n",
    "    plot_confusion_matrix(y_true, y_pred, labels=[0, 1], title=f\"{run_name} - {category_name}-->{root_category_label}\", values_format=\"d\", cmap=\"Blues\", include_colorbar=False)\n",
    "    plt.show()\n",
    "    \n",
    "    res_one = (len(df_other), len(df_other))\n",
    "    res_one += compute_metrics(y_true, y_pred, precision=8, averaging=\"macro\", dump=False)\n",
    "    results_cross_no_overlap[root_category_label] = res_one"
   ]
  },
  {
   "cell_type": "code",
   "execution_count": null,
   "metadata": {
    "ExecuteTime": {
     "end_time": "2020-05-25T11:45:38.739766Z",
     "start_time": "2020-05-25T09:59:53.432635Z"
    },
    "jupyter": {
     "source_hidden": true
    }
   },
   "outputs": [],
   "source": [
    "results_cross_overlap = dict()\n",
    "\n",
    "for root_category_label in root_category_labels:\n",
    "    if root_category_label == category_name:\n",
    "        continue\n",
    "\n",
    "    print(f\"Work on {root_category_label} ...\")\n",
    "    # with overlap\n",
    "    df_other = load_cached_root_category_businesses_df(root_category_label, map_categories)\n",
    "    \n",
    "    df_other = filter_min_review_freq(df_other, min_ratings=5)\n",
    "    df_other = filter_both_good_bad(df_other)\n",
    "    # TODO: maybe reset randomness here, so previous calls to random don't influence it?\n",
    "    df_other = make_or_load_pairs(df_other, None, num_pairs_per_class=2)\n",
    "    print(\"review pairs:\", len(df_other))\n",
    "    \n",
    "    df_other[\"tag\"] = \"NA\"\n",
    "    \n",
    "    X_dev, y_dev = df_other[names_columns_X_arteval], df_other[names_columns_y]\n",
    "    data_dev_raw, data_dev = transform_dataset(X_dev, y_dev, transform)\n",
    "    \n",
    "    all_predictions, cum_loss = predict(model, data_dev, ctx, metric, loss_function, batch_size=batch_size)\n",
    "    y_true, y_pred = predict_out_to_ys(all_predictions, all_labels)\n",
    "    report_training_results(y_true, y_pred, name=f\"BERTClassifier - {run_name} - {category_name}-->{root_category_label}\", heatmap=False)\n",
    "    plot_confusion_matrix(y_true, y_pred, labels=[0, 1], title=f\"{run_name} - {category_name}-->{root_category_label}\", values_format=\"d\", cmap=\"Blues\", include_colorbar=False)\n",
    "    plt.show()\n",
    "    \n",
    "    res_one = (len(df_other), len(df_other))\n",
    "    res_one += compute_metrics(y_true, y_pred, precision=8, averaging=\"macro\", dump=False)\n",
    "    results_cross_overlap[root_category_label] = res_one"
   ]
  },
  {
   "cell_type": "code",
   "execution_count": null,
   "metadata": {},
   "outputs": [],
   "source": [
    "results_cross_no_overlap"
   ]
  },
  {
   "cell_type": "code",
   "execution_count": null,
   "metadata": {
    "ExecuteTime": {
     "end_time": "2020-05-25T11:45:41.701996Z",
     "start_time": "2020-05-25T11:45:41.689711Z"
    }
   },
   "outputs": [],
   "source": [
    "results_cross_overlap"
   ]
  },
  {
   "cell_type": "code",
   "execution_count": null,
   "metadata": {},
   "outputs": [],
   "source": [
    "print(f\"\"\"{\"Category\":<30}: {\"Prec\":<7} {\"Rec\":<7} {\"F1\":<7} {\"Acc\":<7} -- Confusion (tn, fp, fn, tp)\"\"\")\n",
    "\n",
    "for name, (num_business, num_pairs, prec, rec, f1, acc, cm) in results_cross_no_overlap.items():\n",
    "    print(f\"{name:<30}: {prec * 100:5.2f}%  {rec * 100:5.2f}%  {f1 * 100:5.2f}%  {acc * 100:5.2f}%  -- {cm.flatten().tolist()}\")"
   ]
  },
  {
   "cell_type": "code",
   "execution_count": null,
   "metadata": {
    "ExecuteTime": {
     "end_time": "2020-05-25T11:45:44.609488Z",
     "start_time": "2020-05-25T11:45:44.605262Z"
    }
   },
   "outputs": [],
   "source": [
    "print(f\"\"\"{\"Category\":<30}: {\"Prec\":<7} {\"Rec\":<7} {\"F1\":<7} {\"Acc\":<7} -- Confusion (tn, fp, fn, tp)\"\"\")\n",
    "\n",
    "for name, (num_business, num_pairs, prec, rec, f1, acc, cm) in results_cross_overlap.items():\n",
    "    print(f\"{name:<30}: {prec * 100:5.2f}%  {rec * 100:5.2f}%  {f1 * 100:5.2f}%  {acc * 100:5.2f}%  -- {cm.flatten().tolist()}\")"
   ]
  },
  {
   "cell_type": "code",
   "execution_count": null,
   "metadata": {
    "ExecuteTime": {
     "end_time": "2020-05-25T14:04:58.784774Z",
     "start_time": "2020-05-25T14:04:58.775930Z"
    }
   },
   "outputs": [],
   "source": [
    "fn_results = fn_run_path / \"results_cross_dicts.p\"\n",
    "\n",
    "with open(fn_results, \"wb\") as fp:\n",
    "    pickle.dump((category_name, \"overlap\", results_cross_overlap), fp, protocol=pickle.HIGHEST_PROTOCOL)\n",
    "    pickle.dump((category_name, \"no overlap\", results_cross_no_overlap), fp, protocol=pickle.HIGHEST_PROTOCOL)"
   ]
  },
  {
   "cell_type": "code",
   "execution_count": null,
   "metadata": {},
   "outputs": [],
   "source": []
  }
 ],
 "metadata": {
  "kernelspec": {
   "display_name": "Python 3",
   "language": "python",
   "name": "python3"
  },
  "language_info": {
   "codemirror_mode": {
    "name": "ipython",
    "version": 3
   },
   "file_extension": ".py",
   "mimetype": "text/x-python",
   "name": "python",
   "nbconvert_exporter": "python",
   "pygments_lexer": "ipython3",
   "version": "3.7.7"
  },
  "varInspector": {
   "cols": {
    "lenName": 16,
    "lenType": 16,
    "lenVar": 40
   },
   "kernels_config": {
    "python": {
     "delete_cmd_postfix": "",
     "delete_cmd_prefix": "del ",
     "library": "var_list.py",
     "varRefreshCmd": "print(var_dic_list())"
    },
    "r": {
     "delete_cmd_postfix": ") ",
     "delete_cmd_prefix": "rm(",
     "library": "var_list.r",
     "varRefreshCmd": "cat(var_dic_list()) "
    }
   },
   "types_to_exclude": [
    "module",
    "function",
    "builtin_function_or_method",
    "instance",
    "_Feature"
   ],
   "window_display": false
  }
 },
 "nbformat": 4,
 "nbformat_minor": 4
}
