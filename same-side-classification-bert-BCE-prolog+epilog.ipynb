{
 "cells": [
  {
   "cell_type": "markdown",
   "metadata": {},
   "source": [
    "# RATIO 2019 - Benchmarking Workshop"
   ]
  },
  {
   "cell_type": "markdown",
   "metadata": {},
   "source": [
    "https://gluon-nlp.mxnet.io/install.html\n",
    "\n",
    "```\n",
    "pip install --upgrade 'mxnet>=1.3.0'\n",
    "pip install gluonnlp\n",
    "wget https://gluon-nlp.mxnet.io/_downloads/sentence_embedding.zip\n",
    "unzip sentence_embedding.zip\n",
    "ln -s sentence_embedding/bert bert\n",
    "```"
   ]
  },
  {
   "cell_type": "code",
   "execution_count": 72,
   "metadata": {
    "ExecuteTime": {
     "end_time": "2019-07-20T07:56:30.175452Z",
     "start_time": "2019-07-20T07:56:30.169038Z"
    },
    "init_cell": true,
    "scrolled": true
   },
   "outputs": [],
   "source": [
    "import datetime\n",
    "import logging\n",
    "import os\n",
    "import random\n",
    "import time\n",
    "import warnings\n",
    "\n",
    "import csv\n",
    "import gluonnlp as nlp\n",
    "import matplotlib.pyplot as plt\n",
    "import mxnet as mx\n",
    "import numpy as np\n",
    "import pandas as pd\n",
    "import seaborn as sns\n",
    "\n",
    "from bert import *\n",
    "from mxboard import SummaryWriter\n",
    "from mxnet import gluon\n",
    "from mxnet.gluon.data import Dataset, SimpleDataset\n",
    "from sklearn.metrics import (accuracy_score, classification_report,\n",
    "                             confusion_matrix, f1_score)\n",
    "from sklearn.model_selection import train_test_split\n",
    "from sklearn import utils\n",
    "from tqdm import tqdm"
   ]
  },
  {
   "cell_type": "code",
   "execution_count": 73,
   "metadata": {
    "ExecuteTime": {
     "end_time": "2019-07-20T07:56:30.188019Z",
     "start_time": "2019-07-20T07:56:30.177404Z"
    },
    "init_cell": true
   },
   "outputs": [],
   "source": [
    "%matplotlib inline"
   ]
  },
  {
   "cell_type": "code",
   "execution_count": 74,
   "metadata": {
    "ExecuteTime": {
     "end_time": "2019-07-20T07:56:30.199723Z",
     "start_time": "2019-07-20T07:56:30.190407Z"
    },
    "init_cell": true,
    "scrolled": true
   },
   "outputs": [],
   "source": [
    "warnings.filterwarnings('ignore')\n",
    "\n",
    "logging.basicConfig(format='%(asctime)s : %(levelname)s : %(message)s',\n",
    "                    level=logging.INFO)"
   ]
  },
  {
   "cell_type": "code",
   "execution_count": 75,
   "metadata": {
    "ExecuteTime": {
     "end_time": "2019-07-20T07:56:30.211776Z",
     "start_time": "2019-07-20T07:56:30.202494Z"
    },
    "init_cell": true
   },
   "outputs": [],
   "source": [
    "# set repeatable random state\n",
    "np.random.seed(100)\n",
    "random.seed(100)\n",
    "mx.random.seed(10000)"
   ]
  },
  {
   "cell_type": "code",
   "execution_count": 76,
   "metadata": {
    "ExecuteTime": {
     "end_time": "2019-07-20T07:56:30.223651Z",
     "start_time": "2019-07-20T07:56:30.214653Z"
    },
    "init_cell": true,
    "scrolled": true
   },
   "outputs": [],
   "source": [
    "# apply progress bars for pandas .apply() -> .progress_apply()\n",
    "tqdm.pandas()"
   ]
  },
  {
   "cell_type": "code",
   "execution_count": 77,
   "metadata": {
    "ExecuteTime": {
     "end_time": "2019-07-20T07:56:30.261262Z",
     "start_time": "2019-07-20T07:56:30.226630Z"
    },
    "init_cell": true
   },
   "outputs": [
    {
     "data": {
      "application/vnd.jupyter.widget-view+json": {
       "model_id": "b7f5850b2a6b4cab8155a90b51ecee91",
       "version_major": 2,
       "version_minor": 0
      },
      "text/plain": [
       "HBox(children=(IntProgress(value=1, bar_style='info', max=1), HTML(value='')))"
      ]
     },
     "metadata": {},
     "output_type": "display_data"
    }
   ],
   "source": [
    "# make tqdm jupyter friendly\n",
    "from tqdm import tqdm_notebook as tqdm\n",
    "# for .progress_apply() we have to hack it like this?\n",
    "tqdm().pandas()"
   ]
  },
  {
   "cell_type": "code",
   "execution_count": 78,
   "metadata": {
    "ExecuteTime": {
     "end_time": "2019-07-20T07:56:30.267412Z",
     "start_time": "2019-07-20T07:56:30.263003Z"
    },
    "code_folding": [
     0,
     4
    ],
    "init_cell": true,
    "scrolled": true
   },
   "outputs": [],
   "source": [
    "class Timer:\n",
    "    def __init__(self, name=None):\n",
    "        self.name = name\n",
    "\n",
    "    def __enter__(self):\n",
    "        self.time_start = time.time()\n",
    "\n",
    "    def __exit__(self, *exc):\n",
    "        time_end = time.time()\n",
    "        time_delta = datetime.timedelta(seconds=(time_end - self.time_start))\n",
    "        if self.name:\n",
    "            print((\"Time for [{}]: {}\".format(self.name, time_delta)))\n",
    "        else:\n",
    "            print((\"Time: {}\".format(time_delta)))"
   ]
  },
  {
   "cell_type": "markdown",
   "metadata": {},
   "source": [
    "# Task 1 - Same Side Classification"
   ]
  },
  {
   "cell_type": "code",
   "execution_count": 79,
   "metadata": {
    "ExecuteTime": {
     "end_time": "2019-07-20T07:56:30.278536Z",
     "start_time": "2019-07-20T07:56:30.269017Z"
    },
    "init_cell": true,
    "scrolled": true
   },
   "outputs": [],
   "source": [
    "data_cross_path = 'data/same-side-classification/cross-topic/{}.csv'\n",
    "data_within_path = 'data/same-side-classification/within-topic/{}.csv'"
   ]
  },
  {
   "cell_type": "markdown",
   "metadata": {},
   "source": [
    "### Load within-topics and cross-topics data"
   ]
  },
  {
   "cell_type": "code",
   "execution_count": 80,
   "metadata": {
    "ExecuteTime": {
     "end_time": "2019-07-20T07:56:31.960977Z",
     "start_time": "2019-07-20T07:56:30.280548Z"
    },
    "code_folding": [
     0,
     10
    ],
    "hide_input": false,
    "init_cell": true
   },
   "outputs": [
    {
     "name": "stdout",
     "output_type": "stream",
     "text": [
      "Time for [read cross]: 0:00:00.849335\n",
      "Time for [read within]: 0:00:00.820653\n"
     ]
    }
   ],
   "source": [
    "with Timer(\"read cross\"):\n",
    "    cross_traindev_df = pd.read_csv(data_cross_path.format('training'),\n",
    "                                    quotechar='\"',\n",
    "                                    quoting=csv.QUOTE_ALL,\n",
    "                                    encoding='utf-8',\n",
    "                                    escapechar='\\\\',\n",
    "                                    doublequote=False,\n",
    "                                    index_col='id')\n",
    "    cross_test_df = pd.read_csv(data_cross_path.format('test'), index_col='id')\n",
    "\n",
    "with Timer(\"read within\"):\n",
    "    within_traindev_df = pd.read_csv(data_within_path.format('training'),\n",
    "                                     quotechar='\"',\n",
    "                                     quoting=csv.QUOTE_ALL,\n",
    "                                     encoding='utf-8',\n",
    "                                     escapechar='\\\\',\n",
    "                                     doublequote=False,\n",
    "                                     index_col='id')\n",
    "    # within_test_df = pd.read_csv(data_within_path.format('test'),\n",
    "    #                              quotechar='\"',\n",
    "    #                              quoting=csv.QUOTE_ALL,\n",
    "    #                              encoding='utf-8',\n",
    "    #                              escapechar='\\\\',\n",
    "    #                              doublequote=True,  # <-- change, \"\" as quote escape in text?\n",
    "    #                              index_col='id')\n",
    "    within_test_df = pd.read_csv(data_within_path.format('test'), index_col='id')"
   ]
  },
  {
   "cell_type": "code",
   "execution_count": null,
   "metadata": {
    "ExecuteTime": {
     "end_time": "2019-07-17T10:28:21.819958Z",
     "start_time": "2019-07-17T10:28:21.676595Z"
    }
   },
   "outputs": [],
   "source": [
    "! head -n 5 data/same-side-classification/within-topic/test.csv"
   ]
  },
  {
   "cell_type": "code",
   "execution_count": 81,
   "metadata": {
    "ExecuteTime": {
     "end_time": "2019-07-20T07:57:46.497871Z",
     "start_time": "2019-07-20T07:56:31.962292Z"
    },
    "code_folding": [
     1
    ],
    "init_cell": true
   },
   "outputs": [
    {
     "data": {
      "application/vnd.jupyter.widget-view+json": {
       "model_id": "54a8354d6f7f4509a1698e3f74e1c0bb",
       "version_major": 2,
       "version_minor": 0
      },
      "text/plain": [
       "HBox(children=(IntProgress(value=0, max=61048), HTML(value='')))"
      ]
     },
     "metadata": {},
     "output_type": "display_data"
    },
    {
     "name": "stdout",
     "output_type": "stream",
     "text": [
      "Time for [tag cross traindev]: 0:00:33.675280\n"
     ]
    },
    {
     "data": {
      "application/vnd.jupyter.widget-view+json": {
       "model_id": "ad54301897b34fefa869666687f79bea",
       "version_major": 2,
       "version_minor": 0
      },
      "text/plain": [
       "HBox(children=(IntProgress(value=0, max=6163), HTML(value='')))"
      ]
     },
     "metadata": {},
     "output_type": "display_data"
    },
    {
     "name": "stdout",
     "output_type": "stream",
     "text": [
      "Time for [tag cross test]: 0:00:03.329305\n"
     ]
    },
    {
     "data": {
      "application/vnd.jupyter.widget-view+json": {
       "model_id": "c5b6b93531bc43cca7f7a52213318d5d",
       "version_major": 2,
       "version_minor": 0
      },
      "text/plain": [
       "HBox(children=(IntProgress(value=0, max=63903), HTML(value='')))"
      ]
     },
     "metadata": {},
     "output_type": "display_data"
    },
    {
     "name": "stdout",
     "output_type": "stream",
     "text": [
      "Time for [tag within traindev]: 0:00:35.588848\n"
     ]
    },
    {
     "data": {
      "application/vnd.jupyter.widget-view+json": {
       "model_id": "89e38ad9ebb9426f872d807789be1588",
       "version_major": 2,
       "version_minor": 0
      },
      "text/plain": [
       "HBox(children=(IntProgress(value=0, max=3552), HTML(value='')))"
      ]
     },
     "metadata": {},
     "output_type": "display_data"
    },
    {
     "name": "stdout",
     "output_type": "stream",
     "text": [
      "Time for [tag within test]: 0:00:01.936512\n"
     ]
    }
   ],
   "source": [
    "# Adding a tag for the topics in focus: \"gay marriage\" and \"abortion\"\n",
    "def add_tag(row):\n",
    "    title = row['topic'].lower().strip()\n",
    "    if \"abortion\" in title:\n",
    "        row['tag'] = 'abortion'\n",
    "    elif \"gay marriage\"  in title:\n",
    "        row['tag'] = 'gay marriage'\n",
    "    else:\n",
    "        row['tag'] = 'NA'\n",
    "    return row\n",
    "\n",
    "\n",
    "with Timer(\"tag cross traindev\"):\n",
    "    cross_traindev_df = cross_traindev_df.progress_apply(add_tag, axis=1)\n",
    "with Timer(\"tag cross test\"):\n",
    "    cross_test_df = cross_test_df.progress_apply(add_tag, axis=1)\n",
    "\n",
    "with Timer(\"tag within traindev\"):\n",
    "    within_traindev_df = within_traindev_df.progress_apply(add_tag, axis=1)\n",
    "with Timer(\"tag within test\"):\n",
    "    within_test_df = within_test_df.progress_apply(add_tag, axis=1)"
   ]
  },
  {
   "cell_type": "markdown",
   "metadata": {},
   "source": [
    "### Get an overview about each dataset"
   ]
  },
  {
   "cell_type": "code",
   "execution_count": 82,
   "metadata": {
    "ExecuteTime": {
     "end_time": "2019-07-20T07:57:46.507429Z",
     "start_time": "2019-07-20T07:57:46.499266Z"
    },
    "code_folding": [
     4
    ],
    "init_cell": true,
    "scrolled": true
   },
   "outputs": [],
   "source": [
    "# requires nltk  wordtokenize\n",
    "# from nltk.tokenize import sent_tokenize, word_tokenize\n",
    "# model uses BERT Tokenizer ...\n",
    "\n",
    "def get_overview(df, task='same-side', class_name='is_same_side'):\n",
    "    # Total instance numbers\n",
    "    total = len(df)\n",
    "    print(\"Task: \", task)\n",
    "    print('=' * 40, '\\n')\n",
    "\n",
    "    print('Total instances: ', total)\n",
    "    print('\\n')\n",
    "\n",
    "    print('For each topic:')\n",
    "    for tag, tag_df in df.groupby(['tag']):\n",
    "        print(tag, ': ', len(tag_df), ' instances')\n",
    "        if class_name in df.columns:\n",
    "            for is_same_side, side_df in tag_df.groupby([class_name]):\n",
    "                print('\\t\\t', is_same_side, ': ', len(side_df), ' instances')\n",
    "    print('\\n')\n",
    "\n",
    "    if class_name in df.columns:\n",
    "        print('For each class value:')\n",
    "        for class_value, class_df in df.groupby([class_name]):\n",
    "            print(class_value, ': ', len(class_df), ' instances')\n",
    "        print('\\n')\n",
    "\n",
    "    print('Unique argument1:', len(df['argument1'].unique()))\n",
    "    print('Unique argument2:', len(df['argument2'].unique()))\n",
    "    arguments = df['argument1'].values\n",
    "    arguments = np.concatenate([arguments, df['argument2'].values])\n",
    "\n",
    "    print('Unique total arguments:', len(set(list(arguments))), '\\n')\n",
    "    \n",
    "    return\n",
    "\n",
    "    print('-' * 40, '\\n')\n",
    "\n",
    "    arguments_length_lst = [\n",
    "        len(word_tokenize(x)) for x in df['argument1'].values\n",
    "    ]\n",
    "    arguments_length_lst.extend(\n",
    "        [len(word_tokenize(x)) for x in df['argument2'].values])\n",
    "    print('Words:')\n",
    "    print('\\tshortest argument:', min(arguments_length_lst), ' words')\n",
    "    print('\\tlongest argument:', max(arguments_length_lst), ' words')\n",
    "    print('\\targument average length:', np.mean(arguments_length_lst),\n",
    "          ' words')\n",
    "\n",
    "    arguments_sent_length_lst = [\n",
    "        len(sent_tokenize(x)) for x in df['argument1'].values\n",
    "    ]\n",
    "    arguments_sent_length_lst.extend(\n",
    "        [len(sent_tokenize(x)) for x in df['argument2'].values])\n",
    "    print('Sentences:')\n",
    "    print('\\tshortest argument:', min(arguments_sent_length_lst), ' sentences')\n",
    "    print('\\tlongest argument:', max(arguments_sent_length_lst), ' sentences')\n",
    "    print('\\targument average length:', np.mean(arguments_sent_length_lst),\n",
    "          ' sentences')"
   ]
  },
  {
   "cell_type": "code",
   "execution_count": 23,
   "metadata": {
    "ExecuteTime": {
     "end_time": "2019-07-19T08:05:46.156582Z",
     "start_time": "2019-07-19T08:05:45.946121Z"
    },
    "code_folding": [],
    "collapsed": true
   },
   "outputs": [
    {
     "name": "stdout",
     "output_type": "stream",
     "text": [
      "Task:  same-side\n",
      "======================================== \n",
      "\n",
      "Total instances:  61048\n",
      "\n",
      "\n",
      "For each topic:\n",
      "abortion :  61048  instances\n",
      "\t\t False :  29853  instances\n",
      "\t\t True :  31195  instances\n",
      "\n",
      "\n",
      "For each class value:\n",
      "False :  29853  instances\n",
      "True :  31195  instances\n",
      "\n",
      "\n",
      "Unique argument1: 7828\n",
      "Unique argument2: 7806\n",
      "Unique total arguments: 9361 \n",
      "\n",
      "Time for [overview cross]: 0:00:00.206528\n"
     ]
    }
   ],
   "source": [
    "with Timer(\"overview cross\"):\n",
    "    get_overview(cross_traindev_df)"
   ]
  },
  {
   "cell_type": "code",
   "execution_count": 24,
   "metadata": {
    "ExecuteTime": {
     "end_time": "2019-07-19T08:05:46.465628Z",
     "start_time": "2019-07-19T08:05:46.240701Z"
    },
    "collapsed": true
   },
   "outputs": [
    {
     "name": "stdout",
     "output_type": "stream",
     "text": [
      "Task:  same-side\n",
      "======================================== \n",
      "\n",
      "Total instances:  63903\n",
      "\n",
      "\n",
      "For each topic:\n",
      "abortion :  40840  instances\n",
      "\t\t False :  20006  instances\n",
      "\t\t True :  20834  instances\n",
      "gay marriage :  23063  instances\n",
      "\t\t False :  9786  instances\n",
      "\t\t True :  13277  instances\n",
      "\n",
      "\n",
      "For each class value:\n",
      "False :  29792  instances\n",
      "True :  34111  instances\n",
      "\n",
      "\n",
      "Unique argument1: 10508\n",
      "Unique argument2: 10453\n",
      "Unique total arguments: 13574 \n",
      "\n",
      "Time for [overview within]: 0:00:00.222434\n"
     ]
    }
   ],
   "source": [
    "with Timer(\"overview within\"):\n",
    "    get_overview(within_traindev_df)"
   ]
  },
  {
   "cell_type": "markdown",
   "metadata": {},
   "source": [
    "##### Count raw length"
   ]
  },
  {
   "cell_type": "code",
   "execution_count": 25,
   "metadata": {
    "ExecuteTime": {
     "end_time": "2019-07-19T08:09:21.479218Z",
     "start_time": "2019-07-19T08:06:05.880080Z"
    },
    "code_folding": [
     0
    ],
    "collapsed": true
   },
   "outputs": [
    {
     "data": {
      "application/vnd.jupyter.widget-view+json": {
       "model_id": "da2d4893af484cd7b24cae0325b3e6a2",
       "version_major": 2,
       "version_minor": 0
      },
      "text/plain": [
       "HBox(children=(IntProgress(value=0, max=61048), HTML(value='')))"
      ]
     },
     "metadata": {},
     "output_type": "display_data"
    },
    {
     "name": "stdout",
     "output_type": "stream",
     "text": [
      "\n"
     ]
    },
    {
     "data": {
      "application/vnd.jupyter.widget-view+json": {
       "model_id": "5836e91338564261a43a2a434c69c516",
       "version_major": 2,
       "version_minor": 0
      },
      "text/plain": [
       "HBox(children=(IntProgress(value=0, max=63903), HTML(value='')))"
      ]
     },
     "metadata": {},
     "output_type": "display_data"
    },
    {
     "name": "stdout",
     "output_type": "stream",
     "text": [
      "\n"
     ]
    },
    {
     "data": {
      "application/vnd.jupyter.widget-view+json": {
       "model_id": "835cdc1772a2461f91ee52a6c1058a82",
       "version_major": 2,
       "version_minor": 0
      },
      "text/plain": [
       "HBox(children=(IntProgress(value=0, max=6163), HTML(value='')))"
      ]
     },
     "metadata": {},
     "output_type": "display_data"
    },
    {
     "name": "stdout",
     "output_type": "stream",
     "text": [
      "\n"
     ]
    },
    {
     "data": {
      "application/vnd.jupyter.widget-view+json": {
       "model_id": "cb606aaca0d741a8b906003c915c4e2b",
       "version_major": 2,
       "version_minor": 0
      },
      "text/plain": [
       "HBox(children=(IntProgress(value=0, max=3552), HTML(value='')))"
      ]
     },
     "metadata": {},
     "output_type": "display_data"
    },
    {
     "name": "stdout",
     "output_type": "stream",
     "text": [
      "\n"
     ]
    }
   ],
   "source": [
    "def compute_arg_len(row):\n",
    "    row['argument1_len'] = len(row['argument1'])\n",
    "    row['argument2_len'] = len(row['argument2'])\n",
    "    row['argument12_len_diff'] = row['argument1_len'] - row['argument2_len']\n",
    "    row['argument12_len_diff_abs'] = np.abs(row['argument12_len_diff']\n",
    "    return row\n",
    "\n",
    "\n",
    "cross_traindev_df = cross_traindev_df.progress_apply(compute_arg_len, axis=1)\n",
    "within_traindev_df = within_traindev_df.progress_apply(compute_arg_len, axis=1)\n",
    "cross_test_df = cross_test_df.progress_apply(compute_arg_len, axis=1)\n",
    "within_test_df = within_test_df.progress_apply(compute_arg_len, axis=1)"
   ]
  },
  {
   "cell_type": "code",
   "execution_count": 26,
   "metadata": {
    "ExecuteTime": {
     "end_time": "2019-07-19T08:09:21.628644Z",
     "start_time": "2019-07-19T08:09:21.584158Z"
    },
    "collapsed": true
   },
   "outputs": [
    {
     "data": {
      "text/html": [
       "<div>\n",
       "<style scoped>\n",
       "    .dataframe tbody tr th:only-of-type {\n",
       "        vertical-align: middle;\n",
       "    }\n",
       "\n",
       "    .dataframe tbody tr th {\n",
       "        vertical-align: top;\n",
       "    }\n",
       "\n",
       "    .dataframe thead th {\n",
       "        text-align: right;\n",
       "    }\n",
       "</style>\n",
       "<table border=\"1\" class=\"dataframe\">\n",
       "  <thead>\n",
       "    <tr style=\"text-align: right;\">\n",
       "      <th></th>\n",
       "      <th>argument1_len</th>\n",
       "      <th>argument2_len</th>\n",
       "      <th>argument12_len_diff</th>\n",
       "    </tr>\n",
       "  </thead>\n",
       "  <tbody>\n",
       "    <tr>\n",
       "      <th>count</th>\n",
       "      <td>61048.000000</td>\n",
       "      <td>61048.000000</td>\n",
       "      <td>61048.000000</td>\n",
       "    </tr>\n",
       "    <tr>\n",
       "      <th>mean</th>\n",
       "      <td>1182.739091</td>\n",
       "      <td>1020.121953</td>\n",
       "      <td>162.617137</td>\n",
       "    </tr>\n",
       "    <tr>\n",
       "      <th>std</th>\n",
       "      <td>1941.477713</td>\n",
       "      <td>1792.400250</td>\n",
       "      <td>1717.589016</td>\n",
       "    </tr>\n",
       "    <tr>\n",
       "      <th>min</th>\n",
       "      <td>6.000000</td>\n",
       "      <td>13.000000</td>\n",
       "      <td>-12785.000000</td>\n",
       "    </tr>\n",
       "    <tr>\n",
       "      <th>25%</th>\n",
       "      <td>75.000000</td>\n",
       "      <td>75.000000</td>\n",
       "      <td>-249.000000</td>\n",
       "    </tr>\n",
       "    <tr>\n",
       "      <th>50%</th>\n",
       "      <td>363.000000</td>\n",
       "      <td>338.000000</td>\n",
       "      <td>8.000000</td>\n",
       "    </tr>\n",
       "    <tr>\n",
       "      <th>75%</th>\n",
       "      <td>1160.000000</td>\n",
       "      <td>874.000000</td>\n",
       "      <td>402.000000</td>\n",
       "    </tr>\n",
       "    <tr>\n",
       "      <th>max</th>\n",
       "      <td>13320.000000</td>\n",
       "      <td>13320.000000</td>\n",
       "      <td>13179.000000</td>\n",
       "    </tr>\n",
       "  </tbody>\n",
       "</table>\n",
       "</div>"
      ],
      "text/plain": [
       "       argument1_len  argument2_len  argument12_len_diff\n",
       "count   61048.000000   61048.000000         61048.000000\n",
       "mean     1182.739091    1020.121953           162.617137\n",
       "std      1941.477713    1792.400250          1717.589016\n",
       "min         6.000000      13.000000        -12785.000000\n",
       "25%        75.000000      75.000000          -249.000000\n",
       "50%       363.000000     338.000000             8.000000\n",
       "75%      1160.000000     874.000000           402.000000\n",
       "max     13320.000000   13320.000000         13179.000000"
      ]
     },
     "execution_count": 26,
     "metadata": {},
     "output_type": "execute_result"
    }
   ],
   "source": [
    "cross_traindev_df.describe()"
   ]
  },
  {
   "cell_type": "code",
   "execution_count": 27,
   "metadata": {
    "ExecuteTime": {
     "end_time": "2019-07-19T08:09:21.746041Z",
     "start_time": "2019-07-19T08:09:21.728097Z"
    },
    "collapsed": true
   },
   "outputs": [
    {
     "data": {
      "text/html": [
       "<div>\n",
       "<style scoped>\n",
       "    .dataframe tbody tr th:only-of-type {\n",
       "        vertical-align: middle;\n",
       "    }\n",
       "\n",
       "    .dataframe tbody tr th {\n",
       "        vertical-align: top;\n",
       "    }\n",
       "\n",
       "    .dataframe thead th {\n",
       "        text-align: right;\n",
       "    }\n",
       "</style>\n",
       "<table border=\"1\" class=\"dataframe\">\n",
       "  <thead>\n",
       "    <tr style=\"text-align: right;\">\n",
       "      <th></th>\n",
       "      <th>argument1_len</th>\n",
       "      <th>argument2_len</th>\n",
       "      <th>argument12_len_diff</th>\n",
       "    </tr>\n",
       "  </thead>\n",
       "  <tbody>\n",
       "    <tr>\n",
       "      <th>count</th>\n",
       "      <td>63903.000000</td>\n",
       "      <td>63903.000000</td>\n",
       "      <td>63903.000000</td>\n",
       "    </tr>\n",
       "    <tr>\n",
       "      <th>mean</th>\n",
       "      <td>1139.456332</td>\n",
       "      <td>990.760309</td>\n",
       "      <td>148.696024</td>\n",
       "    </tr>\n",
       "    <tr>\n",
       "      <th>std</th>\n",
       "      <td>1906.542592</td>\n",
       "      <td>1761.802828</td>\n",
       "      <td>1673.249280</td>\n",
       "    </tr>\n",
       "    <tr>\n",
       "      <th>min</th>\n",
       "      <td>6.000000</td>\n",
       "      <td>13.000000</td>\n",
       "      <td>-12785.000000</td>\n",
       "    </tr>\n",
       "    <tr>\n",
       "      <th>25%</th>\n",
       "      <td>68.000000</td>\n",
       "      <td>66.000000</td>\n",
       "      <td>-266.000000</td>\n",
       "    </tr>\n",
       "    <tr>\n",
       "      <th>50%</th>\n",
       "      <td>391.000000</td>\n",
       "      <td>346.000000</td>\n",
       "      <td>7.000000</td>\n",
       "    </tr>\n",
       "    <tr>\n",
       "      <th>75%</th>\n",
       "      <td>1023.000000</td>\n",
       "      <td>826.000000</td>\n",
       "      <td>421.000000</td>\n",
       "    </tr>\n",
       "    <tr>\n",
       "      <th>max</th>\n",
       "      <td>13260.000000</td>\n",
       "      <td>13320.000000</td>\n",
       "      <td>13156.000000</td>\n",
       "    </tr>\n",
       "  </tbody>\n",
       "</table>\n",
       "</div>"
      ],
      "text/plain": [
       "       argument1_len  argument2_len  argument12_len_diff\n",
       "count   63903.000000   63903.000000         63903.000000\n",
       "mean     1139.456332     990.760309           148.696024\n",
       "std      1906.542592    1761.802828          1673.249280\n",
       "min         6.000000      13.000000        -12785.000000\n",
       "25%        68.000000      66.000000          -266.000000\n",
       "50%       391.000000     346.000000             7.000000\n",
       "75%      1023.000000     826.000000           421.000000\n",
       "max     13260.000000   13320.000000         13156.000000"
      ]
     },
     "execution_count": 27,
     "metadata": {},
     "output_type": "execute_result"
    }
   ],
   "source": [
    "within_traindev_df.describe()"
   ]
  },
  {
   "cell_type": "code",
   "execution_count": 28,
   "metadata": {
    "ExecuteTime": {
     "end_time": "2019-07-19T08:09:21.984849Z",
     "start_time": "2019-07-19T08:09:21.972878Z"
    },
    "collapsed": true
   },
   "outputs": [
    {
     "data": {
      "text/html": [
       "<div>\n",
       "<style scoped>\n",
       "    .dataframe tbody tr th:only-of-type {\n",
       "        vertical-align: middle;\n",
       "    }\n",
       "\n",
       "    .dataframe tbody tr th {\n",
       "        vertical-align: top;\n",
       "    }\n",
       "\n",
       "    .dataframe thead th {\n",
       "        text-align: right;\n",
       "    }\n",
       "</style>\n",
       "<table border=\"1\" class=\"dataframe\">\n",
       "  <thead>\n",
       "    <tr style=\"text-align: right;\">\n",
       "      <th></th>\n",
       "      <th>argument1_len</th>\n",
       "      <th>argument2_len</th>\n",
       "      <th>argument12_len_diff</th>\n",
       "    </tr>\n",
       "  </thead>\n",
       "  <tbody>\n",
       "    <tr>\n",
       "      <th>count</th>\n",
       "      <td>3552.000000</td>\n",
       "      <td>3552.000000</td>\n",
       "      <td>3552.000000</td>\n",
       "    </tr>\n",
       "    <tr>\n",
       "      <th>mean</th>\n",
       "      <td>2261.512950</td>\n",
       "      <td>2072.652590</td>\n",
       "      <td>188.860360</td>\n",
       "    </tr>\n",
       "    <tr>\n",
       "      <th>std</th>\n",
       "      <td>2466.410842</td>\n",
       "      <td>2356.729012</td>\n",
       "      <td>2520.665958</td>\n",
       "    </tr>\n",
       "    <tr>\n",
       "      <th>min</th>\n",
       "      <td>13.000000</td>\n",
       "      <td>15.000000</td>\n",
       "      <td>-10409.000000</td>\n",
       "    </tr>\n",
       "    <tr>\n",
       "      <th>25%</th>\n",
       "      <td>377.000000</td>\n",
       "      <td>353.750000</td>\n",
       "      <td>-676.000000</td>\n",
       "    </tr>\n",
       "    <tr>\n",
       "      <th>50%</th>\n",
       "      <td>1230.500000</td>\n",
       "      <td>1059.500000</td>\n",
       "      <td>43.500000</td>\n",
       "    </tr>\n",
       "    <tr>\n",
       "      <th>75%</th>\n",
       "      <td>3395.500000</td>\n",
       "      <td>2985.500000</td>\n",
       "      <td>1086.000000</td>\n",
       "    </tr>\n",
       "    <tr>\n",
       "      <th>max</th>\n",
       "      <td>12929.000000</td>\n",
       "      <td>13320.000000</td>\n",
       "      <td>9852.000000</td>\n",
       "    </tr>\n",
       "  </tbody>\n",
       "</table>\n",
       "</div>"
      ],
      "text/plain": [
       "       argument1_len  argument2_len  argument12_len_diff\n",
       "count    3552.000000    3552.000000          3552.000000\n",
       "mean     2261.512950    2072.652590           188.860360\n",
       "std      2466.410842    2356.729012          2520.665958\n",
       "min        13.000000      15.000000        -10409.000000\n",
       "25%       377.000000     353.750000          -676.000000\n",
       "50%      1230.500000    1059.500000            43.500000\n",
       "75%      3395.500000    2985.500000          1086.000000\n",
       "max     12929.000000   13320.000000          9852.000000"
      ]
     },
     "execution_count": 28,
     "metadata": {},
     "output_type": "execute_result"
    }
   ],
   "source": [
    "within_test_df.describe()"
   ]
  },
  {
   "cell_type": "markdown",
   "metadata": {},
   "source": [
    "##### Tokenize and count tokens"
   ]
  },
  {
   "cell_type": "code",
   "execution_count": 29,
   "metadata": {
    "ExecuteTime": {
     "end_time": "2019-07-19T08:09:22.802851Z",
     "start_time": "2019-07-19T08:09:22.078410Z"
    }
   },
   "outputs": [],
   "source": [
    "ctx = mx.cpu()\n",
    "_, vocabulary = nlp.model.get_model('bert_12_768_12',\n",
    "                                    dataset_name='book_corpus_wiki_en_uncased',\n",
    "                                    pretrained=True, ctx=ctx, use_pooler=True,\n",
    "                                    use_decoder=False, use_classifier=False)\n",
    "bert_tokenizer = nlp.data.BERTTokenizer(vocabulary, lower=True)\n",
    "tokenizer = bert_tokenizer"
   ]
  },
  {
   "cell_type": "code",
   "execution_count": 31,
   "metadata": {
    "ExecuteTime": {
     "end_time": "2019-07-19T08:31:08.453296Z",
     "start_time": "2019-07-19T08:18:36.796932Z"
    },
    "code_folding": [
     5
    ],
    "collapsed": true
   },
   "outputs": [
    {
     "data": {
      "application/vnd.jupyter.widget-view+json": {
       "model_id": "af40de02508741ed81af583b11967e4d",
       "version_major": 2,
       "version_minor": 0
      },
      "text/plain": [
       "HBox(children=(IntProgress(value=0, max=61048), HTML(value='')))"
      ]
     },
     "metadata": {},
     "output_type": "display_data"
    },
    {
     "data": {
      "application/vnd.jupyter.widget-view+json": {
       "model_id": "8304447b87894d5a820a88ffbdb31fb9",
       "version_major": 2,
       "version_minor": 0
      },
      "text/plain": [
       "HBox(children=(IntProgress(value=0, max=63903), HTML(value='')))"
      ]
     },
     "metadata": {},
     "output_type": "display_data"
    },
    {
     "data": {
      "application/vnd.jupyter.widget-view+json": {
       "model_id": "38dc1c2916df46e0a090079649127bee",
       "version_major": 2,
       "version_minor": 0
      },
      "text/plain": [
       "HBox(children=(IntProgress(value=0, max=6163), HTML(value='')))"
      ]
     },
     "metadata": {},
     "output_type": "display_data"
    },
    {
     "data": {
      "application/vnd.jupyter.widget-view+json": {
       "model_id": "8c808d393b1d459e9b30be77455b0943",
       "version_major": 2,
       "version_minor": 0
      },
      "text/plain": [
       "HBox(children=(IntProgress(value=0, max=3552), HTML(value='')))"
      ]
     },
     "metadata": {},
     "output_type": "display_data"
    }
   ],
   "source": [
    "from nltk.tokenize import sent_tokenize, word_tokenize\n",
    "# nltk.download('punct')\n",
    "\n",
    "\n",
    "# tokenizer from BERT\n",
    "def tokenize_arguments(row):\n",
    "    # tokenize\n",
    "    row['argument1_tokens'] = tokenizer(row['argument1'])\n",
    "    row['argument2_tokens'] = tokenizer(row['argument2'])\n",
    "\n",
    "    # count tokens\n",
    "    row['argument1_len'] = len(row['argument1_tokens'])\n",
    "    row['argument2_len'] = len(row['argument2_tokens'])\n",
    "    # token number diff\n",
    "    row['argument12_len_diff'] = row['argument1_len'] - row['argument2_len']\n",
    "    row['argument12_len_diff_abs'] = np.abs(row['argument12_len_diff'])\n",
    "    return row\n",
    "\n",
    "\n",
    "cross_traindev_df = cross_traindev_df.progress_apply(tokenize_arguments, axis=1)\n",
    "within_traindev_df = within_traindev_df.progress_apply(tokenize_arguments, axis=1)\n",
    "cross_test_df = cross_test_df.progress_apply(tokenize_arguments, axis=1)\n",
    "within_test_df = within_test_df.progress_apply(tokenize_arguments, axis=1)"
   ]
  },
  {
   "cell_type": "code",
   "execution_count": 32,
   "metadata": {
    "ExecuteTime": {
     "end_time": "2019-07-19T08:31:08.899689Z",
     "start_time": "2019-07-19T08:31:08.877642Z"
    },
    "collapsed": true
   },
   "outputs": [
    {
     "data": {
      "text/html": [
       "<div>\n",
       "<style scoped>\n",
       "    .dataframe tbody tr th:only-of-type {\n",
       "        vertical-align: middle;\n",
       "    }\n",
       "\n",
       "    .dataframe tbody tr th {\n",
       "        vertical-align: top;\n",
       "    }\n",
       "\n",
       "    .dataframe thead th {\n",
       "        text-align: right;\n",
       "    }\n",
       "</style>\n",
       "<table border=\"1\" class=\"dataframe\">\n",
       "  <thead>\n",
       "    <tr style=\"text-align: right;\">\n",
       "      <th></th>\n",
       "      <th>argument1_len</th>\n",
       "      <th>argument2_len</th>\n",
       "      <th>argument12_len_diff</th>\n",
       "      <th>argument12_len_diff_abs</th>\n",
       "    </tr>\n",
       "  </thead>\n",
       "  <tbody>\n",
       "    <tr>\n",
       "      <th>count</th>\n",
       "      <td>61048.000000</td>\n",
       "      <td>61048.000000</td>\n",
       "      <td>61048.000000</td>\n",
       "      <td>61048.000000</td>\n",
       "    </tr>\n",
       "    <tr>\n",
       "      <th>mean</th>\n",
       "      <td>264.863337</td>\n",
       "      <td>228.493382</td>\n",
       "      <td>36.369955</td>\n",
       "      <td>199.451563</td>\n",
       "    </tr>\n",
       "    <tr>\n",
       "      <th>std</th>\n",
       "      <td>438.187823</td>\n",
       "      <td>405.800206</td>\n",
       "      <td>388.217671</td>\n",
       "      <td>335.043546</td>\n",
       "    </tr>\n",
       "    <tr>\n",
       "      <th>min</th>\n",
       "      <td>3.000000</td>\n",
       "      <td>4.000000</td>\n",
       "      <td>-2837.000000</td>\n",
       "      <td>0.000000</td>\n",
       "    </tr>\n",
       "    <tr>\n",
       "      <th>25%</th>\n",
       "      <td>18.000000</td>\n",
       "      <td>17.000000</td>\n",
       "      <td>-55.000000</td>\n",
       "      <td>23.000000</td>\n",
       "    </tr>\n",
       "    <tr>\n",
       "      <th>50%</th>\n",
       "      <td>83.000000</td>\n",
       "      <td>72.000000</td>\n",
       "      <td>3.000000</td>\n",
       "      <td>71.000000</td>\n",
       "    </tr>\n",
       "    <tr>\n",
       "      <th>75%</th>\n",
       "      <td>258.000000</td>\n",
       "      <td>197.000000</td>\n",
       "      <td>88.000000</td>\n",
       "      <td>199.000000</td>\n",
       "    </tr>\n",
       "    <tr>\n",
       "      <th>max</th>\n",
       "      <td>2964.000000</td>\n",
       "      <td>2964.000000</td>\n",
       "      <td>2926.000000</td>\n",
       "      <td>2926.000000</td>\n",
       "    </tr>\n",
       "  </tbody>\n",
       "</table>\n",
       "</div>"
      ],
      "text/plain": [
       "       argument1_len  argument2_len  argument12_len_diff  \\\n",
       "count   61048.000000   61048.000000         61048.000000   \n",
       "mean      264.863337     228.493382            36.369955   \n",
       "std       438.187823     405.800206           388.217671   \n",
       "min         3.000000       4.000000         -2837.000000   \n",
       "25%        18.000000      17.000000           -55.000000   \n",
       "50%        83.000000      72.000000             3.000000   \n",
       "75%       258.000000     197.000000            88.000000   \n",
       "max      2964.000000    2964.000000          2926.000000   \n",
       "\n",
       "       argument12_len_diff_abs  \n",
       "count             61048.000000  \n",
       "mean                199.451563  \n",
       "std                 335.043546  \n",
       "min                   0.000000  \n",
       "25%                  23.000000  \n",
       "50%                  71.000000  \n",
       "75%                 199.000000  \n",
       "max                2926.000000  "
      ]
     },
     "execution_count": 32,
     "metadata": {},
     "output_type": "execute_result"
    }
   ],
   "source": [
    "cross_traindev_df.describe()"
   ]
  },
  {
   "cell_type": "code",
   "execution_count": 33,
   "metadata": {
    "ExecuteTime": {
     "end_time": "2019-07-19T08:31:09.309515Z",
     "start_time": "2019-07-19T08:31:09.286797Z"
    },
    "collapsed": true
   },
   "outputs": [
    {
     "data": {
      "text/html": [
       "<div>\n",
       "<style scoped>\n",
       "    .dataframe tbody tr th:only-of-type {\n",
       "        vertical-align: middle;\n",
       "    }\n",
       "\n",
       "    .dataframe tbody tr th {\n",
       "        vertical-align: top;\n",
       "    }\n",
       "\n",
       "    .dataframe thead th {\n",
       "        text-align: right;\n",
       "    }\n",
       "</style>\n",
       "<table border=\"1\" class=\"dataframe\">\n",
       "  <thead>\n",
       "    <tr style=\"text-align: right;\">\n",
       "      <th></th>\n",
       "      <th>argument1_len</th>\n",
       "      <th>argument2_len</th>\n",
       "      <th>argument12_len_diff</th>\n",
       "      <th>argument12_len_diff_abs</th>\n",
       "    </tr>\n",
       "  </thead>\n",
       "  <tbody>\n",
       "    <tr>\n",
       "      <th>count</th>\n",
       "      <td>63903.000000</td>\n",
       "      <td>63903.000000</td>\n",
       "      <td>63903.000000</td>\n",
       "      <td>63903.000000</td>\n",
       "    </tr>\n",
       "    <tr>\n",
       "      <th>mean</th>\n",
       "      <td>252.189647</td>\n",
       "      <td>219.179303</td>\n",
       "      <td>33.010344</td>\n",
       "      <td>190.980486</td>\n",
       "    </tr>\n",
       "    <tr>\n",
       "      <th>std</th>\n",
       "      <td>425.471105</td>\n",
       "      <td>393.925258</td>\n",
       "      <td>373.091463</td>\n",
       "      <td>322.199974</td>\n",
       "    </tr>\n",
       "    <tr>\n",
       "      <th>min</th>\n",
       "      <td>3.000000</td>\n",
       "      <td>4.000000</td>\n",
       "      <td>-2837.000000</td>\n",
       "      <td>0.000000</td>\n",
       "    </tr>\n",
       "    <tr>\n",
       "      <th>25%</th>\n",
       "      <td>15.000000</td>\n",
       "      <td>14.000000</td>\n",
       "      <td>-58.000000</td>\n",
       "      <td>23.000000</td>\n",
       "    </tr>\n",
       "    <tr>\n",
       "      <th>50%</th>\n",
       "      <td>85.000000</td>\n",
       "      <td>73.000000</td>\n",
       "      <td>2.000000</td>\n",
       "      <td>75.000000</td>\n",
       "    </tr>\n",
       "    <tr>\n",
       "      <th>75%</th>\n",
       "      <td>222.000000</td>\n",
       "      <td>179.000000</td>\n",
       "      <td>91.000000</td>\n",
       "      <td>178.000000</td>\n",
       "    </tr>\n",
       "    <tr>\n",
       "      <th>max</th>\n",
       "      <td>2825.000000</td>\n",
       "      <td>2964.000000</td>\n",
       "      <td>2724.000000</td>\n",
       "      <td>2837.000000</td>\n",
       "    </tr>\n",
       "  </tbody>\n",
       "</table>\n",
       "</div>"
      ],
      "text/plain": [
       "       argument1_len  argument2_len  argument12_len_diff  \\\n",
       "count   63903.000000   63903.000000         63903.000000   \n",
       "mean      252.189647     219.179303            33.010344   \n",
       "std       425.471105     393.925258           373.091463   \n",
       "min         3.000000       4.000000         -2837.000000   \n",
       "25%        15.000000      14.000000           -58.000000   \n",
       "50%        85.000000      73.000000             2.000000   \n",
       "75%       222.000000     179.000000            91.000000   \n",
       "max      2825.000000    2964.000000          2724.000000   \n",
       "\n",
       "       argument12_len_diff_abs  \n",
       "count             63903.000000  \n",
       "mean                190.980486  \n",
       "std                 322.199974  \n",
       "min                   0.000000  \n",
       "25%                  23.000000  \n",
       "50%                  75.000000  \n",
       "75%                 178.000000  \n",
       "max                2837.000000  "
      ]
     },
     "execution_count": 33,
     "metadata": {},
     "output_type": "execute_result"
    }
   ],
   "source": [
    "within_traindev_df.describe()"
   ]
  },
  {
   "cell_type": "code",
   "execution_count": 34,
   "metadata": {
    "ExecuteTime": {
     "end_time": "2019-07-19T08:31:09.727015Z",
     "start_time": "2019-07-19T08:31:09.712338Z"
    },
    "collapsed": true
   },
   "outputs": [
    {
     "data": {
      "text/html": [
       "<div>\n",
       "<style scoped>\n",
       "    .dataframe tbody tr th:only-of-type {\n",
       "        vertical-align: middle;\n",
       "    }\n",
       "\n",
       "    .dataframe tbody tr th {\n",
       "        vertical-align: top;\n",
       "    }\n",
       "\n",
       "    .dataframe thead th {\n",
       "        text-align: right;\n",
       "    }\n",
       "</style>\n",
       "<table border=\"1\" class=\"dataframe\">\n",
       "  <thead>\n",
       "    <tr style=\"text-align: right;\">\n",
       "      <th></th>\n",
       "      <th>argument1_len</th>\n",
       "      <th>argument2_len</th>\n",
       "      <th>argument12_len_diff</th>\n",
       "      <th>argument12_len_diff_abs</th>\n",
       "    </tr>\n",
       "  </thead>\n",
       "  <tbody>\n",
       "    <tr>\n",
       "      <th>count</th>\n",
       "      <td>3552.000000</td>\n",
       "      <td>3552.000000</td>\n",
       "      <td>3552.000000</td>\n",
       "      <td>3552.000000</td>\n",
       "    </tr>\n",
       "    <tr>\n",
       "      <th>mean</th>\n",
       "      <td>504.283502</td>\n",
       "      <td>462.664414</td>\n",
       "      <td>41.619088</td>\n",
       "      <td>369.798705</td>\n",
       "    </tr>\n",
       "    <tr>\n",
       "      <th>std</th>\n",
       "      <td>548.058512</td>\n",
       "      <td>526.286693</td>\n",
       "      <td>562.168586</td>\n",
       "      <td>425.413402</td>\n",
       "    </tr>\n",
       "    <tr>\n",
       "      <th>min</th>\n",
       "      <td>4.000000</td>\n",
       "      <td>4.000000</td>\n",
       "      <td>-2733.000000</td>\n",
       "      <td>0.000000</td>\n",
       "    </tr>\n",
       "    <tr>\n",
       "      <th>25%</th>\n",
       "      <td>85.000000</td>\n",
       "      <td>78.750000</td>\n",
       "      <td>-153.250000</td>\n",
       "      <td>62.000000</td>\n",
       "    </tr>\n",
       "    <tr>\n",
       "      <th>50%</th>\n",
       "      <td>273.000000</td>\n",
       "      <td>238.500000</td>\n",
       "      <td>11.500000</td>\n",
       "      <td>206.000000</td>\n",
       "    </tr>\n",
       "    <tr>\n",
       "      <th>75%</th>\n",
       "      <td>767.000000</td>\n",
       "      <td>665.250000</td>\n",
       "      <td>247.250000</td>\n",
       "      <td>517.250000</td>\n",
       "    </tr>\n",
       "    <tr>\n",
       "      <th>max</th>\n",
       "      <td>2825.000000</td>\n",
       "      <td>2964.000000</td>\n",
       "      <td>2116.000000</td>\n",
       "      <td>2733.000000</td>\n",
       "    </tr>\n",
       "  </tbody>\n",
       "</table>\n",
       "</div>"
      ],
      "text/plain": [
       "       argument1_len  argument2_len  argument12_len_diff  \\\n",
       "count    3552.000000    3552.000000          3552.000000   \n",
       "mean      504.283502     462.664414            41.619088   \n",
       "std       548.058512     526.286693           562.168586   \n",
       "min         4.000000       4.000000         -2733.000000   \n",
       "25%        85.000000      78.750000          -153.250000   \n",
       "50%       273.000000     238.500000            11.500000   \n",
       "75%       767.000000     665.250000           247.250000   \n",
       "max      2825.000000    2964.000000          2116.000000   \n",
       "\n",
       "       argument12_len_diff_abs  \n",
       "count              3552.000000  \n",
       "mean                369.798705  \n",
       "std                 425.413402  \n",
       "min                   0.000000  \n",
       "25%                  62.000000  \n",
       "50%                 206.000000  \n",
       "75%                 517.250000  \n",
       "max                2733.000000  "
      ]
     },
     "execution_count": 34,
     "metadata": {},
     "output_type": "execute_result"
    }
   ],
   "source": [
    "within_test_df.describe()"
   ]
  },
  {
   "cell_type": "code",
   "execution_count": 35,
   "metadata": {
    "ExecuteTime": {
     "end_time": "2019-07-19T08:31:10.696904Z",
     "start_time": "2019-07-19T08:31:10.127260Z"
    },
    "code_folding": [
     0
    ],
    "collapsed": true
   },
   "outputs": [
    {
     "data": {
      "image/png": "[encoded data removed]",
      "text/plain": [
       "<Figure size 432x288 with 2 Axes>"
      ]
     },
     "metadata": {
      "needs_background": "light"
     },
     "output_type": "display_data"
    },
    {
     "data": {
      "image/png": "[encoded data removed]",
      "text/plain": [
       "<Figure size 432x288 with 2 Axes>"
      ]
     },
     "metadata": {
      "needs_background": "light"
     },
     "output_type": "display_data"
    },
    {
     "data": {
      "image/png": "[encoded data removed]",
      "text/plain": [
       "<Figure size 432x288 with 2 Axes>"
      ]
     },
     "metadata": {
      "needs_background": "light"
     },
     "output_type": "display_data"
    }
   ],
   "source": [
    "def plot_lengths(df, slicen=None, abs_diff=True, title=None):\n",
    "    if df is None:\n",
    "        print(\"no lengths to plot\")\n",
    "        return\n",
    "    \n",
    "    arg1_lens = df['argument1_len']\n",
    "    arg2_lens = df['argument2_len']\n",
    "    arg_diff_len = df['argument12_len_diff']\n",
    "    \n",
    "    if abs_diff:\n",
    "        arg_diff_len = np.abs(arg_diff_len)\n",
    "    \n",
    "    if slicen is not None:\n",
    "        arg1_lens = arg1_lens[slicen]\n",
    "        arg2_lens = arg2_lens[slicen]\n",
    "        arg_diff_len = arg_diff_len[slicen]\n",
    "\n",
    "    x = np.arange(len(arg1_lens))  # arange/linspace\n",
    "\n",
    "    plt.subplot(2, 1, 1)\n",
    "    plt.plot(x, arg1_lens, label='argument1')  # Linie: '-', 'o-', '.-'\n",
    "    plt.plot(x, arg2_lens, label='argument2')  # Linie: '-', 'o-', '.-'\n",
    "    plt.legend()\n",
    "    plt.title('Lengths of arguments' if not title else title)\n",
    "    plt.ylabel('Lengths of arguments 1 and 2')\n",
    "\n",
    "    plt.subplot(2, 1, 2)\n",
    "    plt.plot(x, arg_diff_len)\n",
    "    plt.xlabel('Index')\n",
    "    plt.ylabel('Differences')\n",
    "\n",
    "    plt.show()\n",
    "\n",
    "\n",
    "plot_lengths(within_traindev_df, slice(None, None, 500), title='Length of arguments within train/dev, every 500')\n",
    "plot_lengths(cross_traindev_df, slice(None, None, 500), title='Length of arguments cross train/dev, every 500')\n",
    "plot_lengths(within_test_df, slice(None, None, 1), title='Length of arguments within test')"
   ]
  },
  {
   "cell_type": "markdown",
   "metadata": {},
   "source": [
    "## Train model - Baseline"
   ]
  },
  {
   "cell_type": "markdown",
   "metadata": {},
   "source": [
    "### train dev set - 70% 30%"
   ]
  },
  {
   "cell_type": "code",
   "execution_count": 83,
   "metadata": {
    "ExecuteTime": {
     "end_time": "2019-07-20T07:57:46.527657Z",
     "start_time": "2019-07-20T07:57:46.508661Z"
    },
    "code_folding": [
     0
    ],
    "init_cell": true,
    "scrolled": true
   },
   "outputs": [],
   "source": [
    "def get_train_test_sets(df, ratio=0.30, random_state=1):\n",
    "    X = df[['argument1', 'argument2', 'argument1_id', 'argument2_id', 'topic']]\n",
    "    y = df[['is_same_side']]\n",
    "\n",
    "    X_train, X_test, y_train, y_test = train_test_split(X,\n",
    "                                                        y,\n",
    "                                                        test_size=ratio,\n",
    "                                                        random_state=random_state,\n",
    "                                                        shuffle=True)\n",
    "    return X_train, X_test, y_train, y_test"
   ]
  },
  {
   "cell_type": "markdown",
   "metadata": {},
   "source": [
    "### BERT\n",
    "\n",
    "- https://gluon-nlp.mxnet.io/examples/sentence_embedding/bert.html"
   ]
  },
  {
   "cell_type": "code",
   "execution_count": 84,
   "metadata": {
    "ExecuteTime": {
     "end_time": "2019-07-20T07:57:46.544574Z",
     "start_time": "2019-07-20T07:57:46.529245Z"
    },
    "code_folding": [
     0
    ],
    "init_cell": true,
    "run_control": {
     "marked": false
    },
    "scrolled": true
   },
   "outputs": [],
   "source": [
    "class MyBERTDataset(SimpleDataset):\n",
    "    def __init__(self, X, y=None):\n",
    "        self._X = X\n",
    "        self._y = y\n",
    "        super(MyBERTDataset, self).__init__(self._convert())\n",
    "\n",
    "    def _convert(self):\n",
    "        allsamples = list()\n",
    "\n",
    "        if self._y is not None:\n",
    "            df = self._X.merge(self._y, left_index=True, right_index=True)\n",
    "            for _, row in df.iterrows():\n",
    "                # allsamples.append([\n",
    "                #     row['argument1'], row['argument2'],\n",
    "                #     \"1\" if str(row['is_same_side']) == \"True\" else \"0\"\n",
    "                # ])\n",
    "                allsamples.append([\n",
    "                    row['argument1'], row['argument2'],\n",
    "                    1 if str(row['is_same_side']) == \"True\" else 0\n",
    "                ])\n",
    "\n",
    "        else:\n",
    "            for _, row in self._X.iterrows():\n",
    "                allsamples.append([row['argument1'], row['argument2'], None])\n",
    "\n",
    "        return allsamples"
   ]
  },
  {
   "cell_type": "markdown",
   "metadata": {},
   "source": [
    "###### my own `BERTDatasetTransform` for extracting chunks from arguments or last part etc.\n",
    "\n",
    "```python\n",
    "transform = dataset.BERTDatasetTransform(bert_tokenizer, 512,\n",
    "                                         labels=['0', '1'],\n",
    "                                         label_dtype='int32',\n",
    "                                         pad=True,\n",
    "                                         pair=True)\n",
    "```\n",
    "\n",
    "http://localhost:9001/edit/bert/dataset.py @454\n",
    "```python\n",
    "# substitute with my own (e. g. last part, many parts etc.)\n",
    "def __init__(...):\n",
    "    self._bert_xform = BERTSentenceTransform(tokenizer, max_seq_length, pad=pad, pair=pair)\n",
    "```\n",
    "https://gluon-nlp.mxnet.io/master/_modules/gluonnlp/data/transforms.html#BERTSentenceTransform\n",
    "```python\n",
    "# substitute with my own (e. g. only last part (trim from start))\n",
    "self._truncate_seq_pair(tokens_a, tokens_b, self._max_seq_length - 3)\n",
    "```\n",
    "\n",
    "https://mxnet.incubator.apache.org/_modules/mxnet/gluon/data/dataset.html#Dataset.transform"
   ]
  },
  {
   "cell_type": "code",
   "execution_count": 85,
   "metadata": {
    "ExecuteTime": {
     "end_time": "2019-07-20T07:57:46.571019Z",
     "start_time": "2019-07-20T07:57:46.547027Z"
    },
    "code_folding": [
     3,
     8,
     72,
     87
    ],
    "init_cell": true
   },
   "outputs": [],
   "source": [
    "from gluonnlp.data import BERTSentenceTransform\n",
    "\n",
    "\n",
    "class FirstAndLastPartBERTSentenceTransform(BERTSentenceTransform):\n",
    "    def __init__(self, tokenizer, max_seq_length, pad=True, pair=True):\n",
    "        super(FirstAndLastPartBERTSentenceTransform,\n",
    "              self).__init__(tokenizer, max_seq_length, pad=pad, pair=pair)\n",
    "\n",
    "    def __call__(self, line):\n",
    "        # convert to unicode\n",
    "        text_a = line[0]\n",
    "        if self._pair:\n",
    "            assert len(line) == 2\n",
    "            text_b = line[1]\n",
    "\n",
    "        tokens_a = self._tokenizer(text_a)\n",
    "        tokens_a_epi = tokens_a.copy()\n",
    "        tokens_b = None\n",
    "        tokens_b_epi = None\n",
    "\n",
    "        if self._pair:\n",
    "            tokens_b = self._tokenizer(text_b)\n",
    "            tokens_b_epi = tokens_b.copy()\n",
    "\n",
    "        if tokens_b:\n",
    "            self._truncate_seq_pair_prolog(tokens_a, tokens_b,\n",
    "                                           self._max_seq_length - 3)\n",
    "            self._truncate_seq_pair_epilog(tokens_a_epi, tokens_b_epi,\n",
    "                                           self._max_seq_length - 3)\n",
    "        else:\n",
    "            if len(tokens_a) > self._max_seq_length - 2:\n",
    "                tokens_a = tokens_a[0:(self._max_seq_length - 2)]\n",
    "            if len(tokens_a_epi) > self._max_seq_length - 2:\n",
    "                tokens_a_epi = tokens_a_epi[0:(self._max_seq_length - 2)]\n",
    "\n",
    "        vocab = self._tokenizer.vocab\n",
    "        tokens, tokens_epi = [], []\n",
    "        tokens.append(vocab.cls_token)\n",
    "        tokens_epi.append(vocab.cls_token)\n",
    "        tokens.extend(tokens_a)\n",
    "        tokens_epi.extend(tokens_a_epi)\n",
    "        tokens.append(vocab.sep_token)\n",
    "        tokens_epi.append(vocab.sep_token)\n",
    "        segment_ids = [0] * len(tokens)\n",
    "        segment_ids_epi = [0] * len(tokens_epi)\n",
    "\n",
    "        if tokens_b:\n",
    "            tokens.extend(tokens_b)\n",
    "            tokens_epi.extend(tokens_b_epi)\n",
    "            tokens.append(vocab.sep_token)\n",
    "            tokens_epi.append(vocab.sep_token)\n",
    "            segment_ids.extend([1] * (len(tokens) - len(segment_ids)))\n",
    "            segment_ids_epi.extend([1] * (len(tokens) - len(segment_ids_epi)))\n",
    "\n",
    "        input_ids = self._tokenizer.convert_tokens_to_ids(tokens)\n",
    "        input_ids_epi = self._tokenizer.convert_tokens_to_ids(tokens_epi)\n",
    "        valid_length = len(input_ids)\n",
    "        valid_length_epi = len(input_ids_epi)\n",
    "\n",
    "        if self._pad:\n",
    "            padding_length = self._max_seq_length - valid_length\n",
    "            padding_length_epi = self._max_seq_length - valid_length_epi\n",
    "            input_ids.extend([vocab[vocab.padding_token]] * padding_length)\n",
    "            input_ids_epi.extend([vocab[vocab.padding_token]] *\n",
    "                                 padding_length_epi)\n",
    "            segment_ids.extend([0] * padding_length)\n",
    "            segment_ids_epi.extend([0] * padding_length_epi)\n",
    "\n",
    "        return np.array(input_ids, dtype='int32'), np.array(valid_length, dtype='int32'),\\\n",
    "            np.array(segment_ids, dtype='int32'), np.array(input_ids_epi, dtype='int32'),\\\n",
    "            np.array(valid_length_epi, dtype='int32'), np.array(segment_ids_epi, dtype='int32')\n",
    "\n",
    "    def _truncate_seq_pair_prolog(self, tokens_a, tokens_b, max_length):\n",
    "        \"\"\"Truncates a sequence pair in place to the maximum length.\"\"\"\n",
    "        # This is a simple heuristic which will always truncate the longer sequence\n",
    "        # one token at a time. This makes more sense than truncating an equal percent\n",
    "        # of tokens from each, since if one sequence is very short then each token\n",
    "        # that's truncated likely contains more information than a longer sequence.\n",
    "        while True:\n",
    "            total_length = len(tokens_a) + len(tokens_b)\n",
    "            if total_length <= max_length:\n",
    "                break\n",
    "            if len(tokens_a) > len(tokens_b):\n",
    "                tokens_a.pop()\n",
    "            else:\n",
    "                tokens_b.pop()\n",
    "\n",
    "    def _truncate_seq_pair_epilog(self, tokens_a, tokens_b, max_length):\n",
    "        \"\"\"Truncates a sequence pair in place to the maximum length.\n",
    "        Removes from end of token list.\"\"\"\n",
    "        # This is a simple heuristic which will always truncate the longer sequence\n",
    "        # one token at a time. This makes more sense than truncating an equal percent\n",
    "        # of tokens from each, since if one sequence is very short then each token\n",
    "        # that's truncated likely contains more information than a longer sequence.\n",
    "        while True:\n",
    "            total_length = len(tokens_a) + len(tokens_b)\n",
    "            if total_length <= max_length:\n",
    "                break\n",
    "            if len(tokens_a) > len(tokens_b):\n",
    "                tokens_a.pop(0)\n",
    "            else:\n",
    "                tokens_b.pop(0)"
   ]
  },
  {
   "cell_type": "code",
   "execution_count": 118,
   "metadata": {
    "ExecuteTime": {
     "end_time": "2019-07-20T08:33:20.673744Z",
     "start_time": "2019-07-20T08:33:20.660526Z"
    },
    "code_folding": [
     0
    ],
    "init_cell": true
   },
   "outputs": [],
   "source": [
    "class FirstAndLastPartBERTDatasetTransform(dataset.BERTDatasetTransform):\n",
    "    def __init__(self,\n",
    "                 tokenizer,\n",
    "                 max_seq_length,\n",
    "                 labels=None,\n",
    "                 pad=True,\n",
    "                 pair=True,\n",
    "                 label_dtype='float32'):\n",
    "        super(FirstAndLastPartBERTDatasetTransform,\n",
    "              self).__init__(tokenizer,\n",
    "                             max_seq_length,\n",
    "                             labels=labels,\n",
    "                             pad=pad,\n",
    "                             pair=pair,\n",
    "                             label_dtype=label_dtype)\n",
    "        self._bert_xform = FirstAndLastPartBERTSentenceTransform(\n",
    "            tokenizer, max_seq_length, pad=pad, pair=pair)\n",
    "\n",
    "    def __call__(self, line):\n",
    "        input_ids, valid_length, segment_ids, input_ids_epi, valid_length_epi, segment_ids_epi = self._bert_xform(\n",
    "            line[:-1])\n",
    "\n",
    "        label = line[-1]\n",
    "\n",
    "        # if label is None than we are predicting unknown data\n",
    "        if label is None:\n",
    "            # early abort\n",
    "            return input_ids, valid_length, segment_ids, input_ids_epi, valid_length_epi, segment_ids_epi\n",
    "            \n",
    "        if self.labels:  # for classification task\n",
    "            label = self._label_map[label]\n",
    "        label = np.array([label], dtype=self.label_dtype)\n",
    "\n",
    "        return input_ids, valid_length, segment_ids, input_ids_epi, valid_length_epi, segment_ids_epi, label"
   ]
  },
  {
   "cell_type": "code",
   "execution_count": 87,
   "metadata": {
    "ExecuteTime": {
     "end_time": "2019-07-20T07:57:46.601250Z",
     "start_time": "2019-07-20T07:57:46.584789Z"
    },
    "code_folding": [
     4
    ],
    "init_cell": true
   },
   "outputs": [],
   "source": [
    "from mxnet.gluon import Block\n",
    "from mxnet.gluon import nn\n",
    "\n",
    "\n",
    "class BERTProEpiClassifier(Block):\n",
    "    \"\"\"Model for sentence (pair) classification task with BERT.\n",
    "\n",
    "    The model feeds token ids and token type ids into BERT to get the\n",
    "    pooled BERT sequence representation, then apply a Dense layer for\n",
    "    classification. Does this also for an adversarial classifier.\n",
    "\n",
    "    Parameters\n",
    "    ----------\n",
    "    bert: BERTModel\n",
    "        Bidirectional encoder with transformer.\n",
    "    num_classes : int, default is 2\n",
    "        The number of target classes.\n",
    "    dropout : float or None, default 0.0.\n",
    "        Dropout probability for the bert output.\n",
    "    prefix : str or None\n",
    "        See document of `mx.gluon.Block`.\n",
    "    params : ParameterDict or None\n",
    "        See document of `mx.gluon.Block`.\n",
    "    \"\"\"\n",
    "\n",
    "    def __init__(self,\n",
    "                 bert,\n",
    "                 num_classes=2,\n",
    "                 dropout=0.0,\n",
    "                 prefix=None,\n",
    "                 params=None):\n",
    "        super(BERTProEpiClassifier, self).__init__(prefix=prefix, params=params)\n",
    "        self.bert = bert\n",
    "        with self.name_scope():\n",
    "            self.classifier = nn.HybridSequential(prefix=prefix)\n",
    "            if dropout:\n",
    "                self.classifier.add(nn.Dropout(rate=dropout))\n",
    "            self.classifier.add(nn.Dense(units=num_classes))\n",
    "\n",
    "    def forward(self,\n",
    "                inputs,\n",
    "                token_types,\n",
    "                valid_length=None,\n",
    "                inputs_epi=None,\n",
    "                token_types_epi=None,\n",
    "                valid_length_epi=None):  # pylint: disable=arguments-differ\n",
    "        \"\"\"Generate the unnormalized scores for the given the input sequences.\n",
    "        From both classifiers (classifier + adversarial_classifier).\n",
    "\n",
    "        Parameters\n",
    "        ----------\n",
    "        inputs : NDArray, shape (batch_size, seq_length)\n",
    "            Input words for the sequences.\n",
    "        token_types : NDArray, shape (batch_size, seq_length)\n",
    "            Token types for the sequences, used to indicate whether the word belongs to the\n",
    "            first sentence or the second one.\n",
    "        valid_length : NDArray or None, shape (batch_size)\n",
    "            Valid length of the sequence. This is used to mask the padded tokens.\n",
    "        inputs_epi : NDArray or None, shape (batch_size, seq_length)\n",
    "            Input words for the sequences. If None then same as inputs.\n",
    "        token_types_epi : NDArray or None, shape (batch_size, seq_length)\n",
    "            Token types for the sequences, used to indicate whether the word belongs to the\n",
    "            first sentence or the second one. If None then same as token_types.\n",
    "        valid_length_epi : NDArray or None, shape (batch_size)\n",
    "            Valid length of the sequence. This is used to mask the padded tokens.\n",
    "\n",
    "        Returns\n",
    "        -------\n",
    "        outputs : NDArray\n",
    "            Shape (batch_size, num_classes), outputs of classifier.\n",
    "        \"\"\"\n",
    "        # if inputs_epi is None and token_types_epi is None:\n",
    "        #     inputs_epi = inputs\n",
    "        #     token_types_epi = token_types\n",
    "        #     valid_length_epi = valid_length\n",
    "\n",
    "        _, pooler_out = self.bert(inputs, token_types, valid_length)\n",
    "        _, pooler_out_epi = self.bert(inputs_epi, token_types_epi, valid_length_epi)\n",
    "        pooler_concat = mx.nd.concat(pooler_out, pooler_out_epi, dim=1)\n",
    "        return self.classifier(pooler_concat)"
   ]
  },
  {
   "cell_type": "code",
   "execution_count": 88,
   "metadata": {
    "ExecuteTime": {
     "end_time": "2019-07-20T07:57:46.619049Z",
     "start_time": "2019-07-20T07:57:46.603092Z"
    },
    "code_folding": [
     0
    ],
    "init_cell": true,
    "run_control": {
     "marked": false
    },
    "scrolled": true
   },
   "outputs": [],
   "source": [
    "def setup_bert():\n",
    "    # change `ctx` to `mx.cpu()` if no GPU is available.\n",
    "    ctx = mx.gpu(0)\n",
    "    # ctx = [mx.gpu(i) for i in range(2)]\n",
    "    # ctx =  mx.gpu() if mx.context.num_gpus() else mx.cpu()\n",
    "    # ctx = mx.cpu()\n",
    "\n",
    "    bert_base, vocabulary = nlp.model.get_model(\n",
    "        'bert_12_768_12',\n",
    "        dataset_name='book_corpus_wiki_en_uncased',\n",
    "        pretrained=True,\n",
    "        ctx=ctx,\n",
    "        use_pooler=True,\n",
    "        use_decoder=False,\n",
    "        use_classifier=False)\n",
    "    print(bert_base)\n",
    "\n",
    "    #model = BERTProEpiClassifier(bert_base, num_classes=2, dropout=0.1)\n",
    "    model = BERTProEpiClassifier(bert_base, num_classes=1, dropout=0.1)\n",
    "    # only need to initialize the classifier layer.\n",
    "    model.classifier.initialize(init=mx.init.Normal(0.02), ctx=ctx)\n",
    "    model.hybridize(static_alloc=True)\n",
    "\n",
    "    # softmax cross entropy loss for classification\n",
    "    #loss_function = gluon.loss.SoftmaxCELoss()\n",
    "    loss_function = gluon.loss.SigmoidBinaryCrossEntropyLoss(from_sigmoid=False)\n",
    "    loss_function.hybridize(static_alloc=True)\n",
    "\n",
    "    metric = mx.metric.Accuracy()\n",
    "\n",
    "    # use the vocabulary from pre-trained model for tokenization\n",
    "    bert_tokenizer = nlp.data.BERTTokenizer(vocabulary, lower=True)\n",
    "    # maximum sequence length\n",
    "    # max_len = 128  # + batch_size: 32\n",
    "    # 384 - 12\n",
    "    max_len = 512  # + batch_size: 6 ?\n",
    "    # the labels for the two classes\n",
    "    #all_labels = [\"0\", \"1\"]\n",
    "    all_labels = [0, 1]\n",
    "    # whether to transform the data as sentence pairs.\n",
    "    # for single sentence classification, set pair=False\n",
    "    transform = FirstAndLastPartBERTDatasetTransform(bert_tokenizer,\n",
    "                                                     max_len,\n",
    "                                                     labels=all_labels,\n",
    "                                                     label_dtype='int32',\n",
    "                                                     pad=True,\n",
    "                                                     pair=True)\n",
    "\n",
    "    return model, vocabulary, ctx, bert_tokenizer, transform, loss_function, metric, all_labels"
   ]
  },
  {
   "cell_type": "code",
   "execution_count": 89,
   "metadata": {
    "ExecuteTime": {
     "end_time": "2019-07-20T07:57:46.638519Z",
     "start_time": "2019-07-20T07:57:46.631275Z"
    },
    "code_folding": [
     0,
     6
    ],
    "init_cell": true,
    "run_control": {
     "marked": false
    }
   },
   "outputs": [],
   "source": [
    "def transform_dataset(X, y, transform):\n",
    "    data_train_raw = MyBERTDataset(X, y)\n",
    "    data_train = data_train_raw.transform(transform)\n",
    "    return data_train_raw, data_train\n",
    "\n",
    "\n",
    "def predict_out_to_ys(all_predictions, all_labels):\n",
    "    y_true, y_pred = list(), list()\n",
    "\n",
    "    for _, y_true_many, y_pred_many in all_predictions:\n",
    "        y_true_many = y_true_many.T[0].asnumpy()\n",
    "        # https://mxnet.incubator.apache.org/api/python/gluon/loss.html#mxnet.gluon.loss.SoftmaxCrossEntropyLoss\n",
    "        # pred: the prediction tensor, where the batch_axis dimension ranges over batch size and axis dimension ranges over the number of classes.\n",
    "        #y_pred_many = np.argmax(y_pred_many, axis=1).asnumpy()\n",
    "        y_pred_many = y_pred_many.asnumpy()\n",
    "\n",
    "        y_true.extend(list(y_true_many))\n",
    "        y_pred.extend(list(y_pred_many))\n",
    "        # TODO: convert label_id to label?\n",
    "        # y_pred.extend(all_labels[c] for c in list(y_pred_many))\n",
    "\n",
    "    y_true = np.array(y_true)\n",
    "    y_pred = np.array(y_pred)\n",
    "\n",
    "    return y_true, y_pred"
   ]
  },
  {
   "cell_type": "markdown",
   "metadata": {},
   "source": [
    "Multi-GPU?\n",
    "- https://gluon.mxnet.io/chapter07_distributed-learning/multiple-gpus-gluon.html"
   ]
  },
  {
   "cell_type": "code",
   "execution_count": 90,
   "metadata": {
    "ExecuteTime": {
     "end_time": "2019-07-20T07:57:46.659097Z",
     "start_time": "2019-07-20T07:57:46.642896Z"
    },
    "code_folding": [
     0,
     11,
     12,
     16,
     19,
     27,
     36,
     89
    ],
    "init_cell": true,
    "run_control": {
     "marked": false
    }
   },
   "outputs": [],
   "source": [
    "def train(model,\n",
    "          data_train,\n",
    "          ctx,\n",
    "          metric,\n",
    "          loss_function,\n",
    "          batch_size=32,\n",
    "          lr=5e-6,\n",
    "          num_epochs=3,\n",
    "          sw=None,\n",
    "          checkpoint_dir=\"data\",\n",
    "          use_checkpoints=True):\n",
    "    with Timer(\"setup training\"):\n",
    "        train_sampler = nlp.data.FixedBucketSampler(\n",
    "            lengths=[int(item[1]) for item in tqdm(data_train)],\n",
    "            batch_size=batch_size,\n",
    "            shuffle=True)\n",
    "        bert_dataloader = mx.gluon.data.DataLoader(data_train,\n",
    "                                                   batch_sampler=train_sampler)\n",
    "\n",
    "        trainer = gluon.Trainer(model.collect_params(), 'adam', {\n",
    "            'learning_rate': lr,\n",
    "            'epsilon': 1e-9\n",
    "        })\n",
    "\n",
    "        # collect all differentiable parameters\n",
    "        # grad_req == 'null' indicates no gradients are calculated (e.g. constant parameters)\n",
    "        # the gradients for these params are clipped later\n",
    "        params = [\n",
    "            p for p in model.collect_params().values() if p.grad_req != 'null'\n",
    "        ]\n",
    "\n",
    "    log_interval = 500\n",
    "    global_step = 0\n",
    "    with Timer(\"training\"):\n",
    "        stats = list()\n",
    "        for epoch_id in range(num_epochs):\n",
    "            if use_checkpoints:\n",
    "                epoch_checkpoint_savefile = \"bert.model.checkpoint{}.params\".format(\n",
    "                    epoch_id)\n",
    "                if checkpoint_dir is not None:\n",
    "                    epoch_checkpoint_savefile = os.path.join(\n",
    "                        checkpoint_dir, epoch_checkpoint_savefile)\n",
    "                if os.path.exists(epoch_checkpoint_savefile):\n",
    "                    model.load_parameters(epoch_checkpoint_savefile, ctx=ctx)\n",
    "                    print(\"loaded checkpoint for epoch {}\".format(epoch_id))\n",
    "                    continue\n",
    "\n",
    "            with Timer(\"epoch {}\".format(epoch_id)):\n",
    "                metric.reset()\n",
    "                step_loss = 0\n",
    "                global_step = epoch_id * len(bert_dataloader)\n",
    "                t_p = time.time()  # time keeping\n",
    "                for batch_id, (token_ids, valid_length, segment_ids,\n",
    "                               token_ids_epi, valid_length_epi,\n",
    "                               segment_ids_epi,\n",
    "                               label) in enumerate(tqdm(bert_dataloader)):\n",
    "                    global_step += 1\n",
    "                    with mx.autograd.record():\n",
    "                        # load data to GPU\n",
    "                        token_ids = token_ids.as_in_context(ctx)\n",
    "                        valid_length = valid_length.as_in_context(ctx)\n",
    "                        segment_ids = segment_ids.as_in_context(ctx)\n",
    "                        token_ids_epi = token_ids_epi.as_in_context(ctx)\n",
    "                        valid_length_epi = valid_length_epi.as_in_context(ctx)\n",
    "                        segment_ids_epi = segment_ids_epi.as_in_context(ctx)\n",
    "                        label = label.as_in_context(ctx)\n",
    "\n",
    "                        # forward computation\n",
    "                        out = model(token_ids, segment_ids,\n",
    "                                    valid_length.astype('float32'),\n",
    "                                    token_ids_epi, segment_ids_epi,\n",
    "                                    valid_length_epi.astype('float32'))\n",
    "                        label = label.astype('float32')\n",
    "                        ls = loss_function(out, label).mean()\n",
    "\n",
    "                    # backward computation\n",
    "                    ls.backward()\n",
    "\n",
    "                    # gradient clipping\n",
    "                    trainer.allreduce_grads()\n",
    "                    nlp.utils.clip_grad_global_norm(params, 1)\n",
    "                    trainer.update(1)\n",
    "\n",
    "                    step_loss += ls.asscalar()\n",
    "                    out = out.sigmoid().round().astype('int32')\n",
    "                    label = label.astype('int32')\n",
    "                    metric.update([label], [out])\n",
    "                    stats.append((metric.get()[1], ls.asscalar()))\n",
    "\n",
    "                    if sw:\n",
    "                        sw.add_scalar(tag='T-ls', value=ls.asscalar(), global_step=global_step)\n",
    "                        sw.add_scalar(tag='T-acc', value=metric.get()[1], global_step=global_step)\n",
    "\n",
    "                    if (batch_id + 1) % (log_interval) == 0:\n",
    "                        print(\n",
    "                            '[Epoch {} Batch {}/{}] loss={:.4f}, lr={:.7f}, acc={:.3f} - time {}'\n",
    "                            .format(\n",
    "                                epoch_id, batch_id + 1, len(bert_dataloader),\n",
    "                                step_loss / log_interval,\n",
    "                                trainer.learning_rate,\n",
    "                                metric.get()[1],\n",
    "                                datetime.timedelta(seconds=(time.time() -\n",
    "                                                            t_p))))\n",
    "                        t_p = time.time()\n",
    "                        step_loss = 0\n",
    "\n",
    "            if use_checkpoints:\n",
    "                model.save_parameters(epoch_checkpoint_savefile)\n",
    "\n",
    "    return stats"
   ]
  },
  {
   "cell_type": "code",
   "execution_count": 43,
   "metadata": {
    "ExecuteTime": {
     "end_time": "2019-07-19T08:46:27.501800Z",
     "start_time": "2019-07-19T08:46:27.489358Z"
    },
    "code_folding": [
     0
    ],
    "run_control": {
     "marked": false
    }
   },
   "outputs": [],
   "source": [
    "def train_multi(model,\n",
    "                data_train,\n",
    "                ctx,\n",
    "                metric,\n",
    "                loss_function,\n",
    "                batch_size=32,\n",
    "                lr=5e-6,\n",
    "                num_epochs=3,\n",
    "                checkpoint_dir=\"data\",\n",
    "                use_checkpoints=True):\n",
    "    with Timer(\"setup training\"):\n",
    "        train_sampler = nlp.data.FixedBucketSampler(\n",
    "            lengths=[int(item[1]) for item in tqdm(data_train)],\n",
    "            batch_size=batch_size,\n",
    "            shuffle=True)\n",
    "        bert_dataloader = mx.gluon.data.DataLoader(data_train,\n",
    "                                                   batch_sampler=train_sampler)\n",
    "\n",
    "        trainer = gluon.Trainer(model.collect_params(),\n",
    "                                'adam', {\n",
    "                                    'learning_rate': lr,\n",
    "                                    'epsilon': 1e-9\n",
    "                                },\n",
    "                                update_on_kvstore=False)\n",
    "\n",
    "        # collect all differentiable parameters\n",
    "        # grad_req == 'null' indicates no gradients are calculated (e.g. constant parameters)\n",
    "        # the gradients for these params are clipped later\n",
    "        params = [\n",
    "            p for p in model.collect_params().values() if p.grad_req != 'null'\n",
    "        ]\n",
    "\n",
    "    log_interval = 500\n",
    "    with Timer(\"training\"):\n",
    "        stats = list()\n",
    "        for epoch_id in range(num_epochs):\n",
    "            if use_checkpoints:\n",
    "                epoch_checkpoint_savefile = \"bert.model.checkpoint{}.params\".format(\n",
    "                    epoch_id)\n",
    "                if checkpoint_dir is not None:\n",
    "                    epoch_checkpoint_savefile = os.path.join(\n",
    "                        checkpoint_dir, epoch_checkpoint_savefile)\n",
    "                if os.path.exists(epoch_checkpoint_savefile):\n",
    "                    model.load_parameters(epoch_checkpoint_savefile, ctx=ctx)\n",
    "                    print(\"loaded checkpoint for epoch {}\".format(epoch_id))\n",
    "                    continue\n",
    "\n",
    "            with Timer(\"epoch {}\".format(epoch_id)):\n",
    "                metric.reset()\n",
    "                step_loss = 0\n",
    "                t_p = time.time()  # time keeping\n",
    "                for batch_id, (token_ids, valid_length, segment_ids,\n",
    "                               token_ids_epi, valid_length_epi,\n",
    "                               segment_ids_epi,\n",
    "                               label) in enumerate(bert_dataloader):\n",
    "                    with mx.autograd.record():\n",
    "                        # load data to GPU\n",
    "                        token_ids = gluon.utils.split_and_load(\n",
    "                            token_ids, ctx, even_split=False)\n",
    "                        valid_length = gluon.utils.split_and_load(\n",
    "                            valid_length, ctx, even_split=False)\n",
    "                        segment_ids = gluon.utils.split_and_load(\n",
    "                            segment_ids, ctx, even_split=False)\n",
    "                        token_ids_epi = gluon.utils.split_and_load(\n",
    "                            token_ids_epi, ctx, even_split=False)\n",
    "                        valid_length_epi = gluon.utils.split_and_load(\n",
    "                            valid_length_epi, ctx, even_split=False)\n",
    "                        segment_ids_epi = gluon.utils.split_and_load(\n",
    "                            segment_ids_epi, ctx, even_split=False)\n",
    "                        label = gluon.utils.split_and_load(label,\n",
    "                                                           ctx,\n",
    "                                                           even_split=False)\n",
    "\n",
    "                        # forward computation\n",
    "                        out = [\n",
    "                            model(t1, s1, v1.astype('float32'), t2, s2,\n",
    "                                  v2.astype('float32'))\n",
    "                            for t1, s1, v1, t2, s2, v2 in zip(\n",
    "                                token_ids, segment_ids, valid_length,\n",
    "                                token_ids_epi, segment_ids_epi,\n",
    "                                valid_length_epi)\n",
    "                        ]\n",
    "                        ls = [\n",
    "                            loss_function(o, l.astype('float32')).mean()\n",
    "                            for o, l in zip(out, label)\n",
    "                        ]\n",
    "\n",
    "                    # backward computation\n",
    "                    for l in ls:\n",
    "                        l.backward()\n",
    "\n",
    "                    # gradient clipping\n",
    "                    trainer.allreduce_grads()\n",
    "                    nlp.utils.clip_grad_global_norm(params, 1)\n",
    "                    trainer.update(1)\n",
    "\n",
    "                    for l in ls:\n",
    "                        step_loss += l.asscalar()\n",
    "                    for o, l in zip(out, label):\n",
    "                        metric.update([l.astype('int32')],\n",
    "                                      [o.sigmoid().round().astype('int32')])\n",
    "                    stats.append((metric.get()[1], [l.asscalar() for l in ls]))\n",
    "                    if (batch_id + 1) % (log_interval) == 0:\n",
    "                        print(\n",
    "                            '[Epoch {} Batch {}/{}] loss={:.4f}, lr={:.7f}, acc={:.3f} - time {}'\n",
    "                            .format(\n",
    "                                epoch_id, batch_id + 1, len(bert_dataloader),\n",
    "                                step_loss / log_interval,\n",
    "                                trainer.learning_rate,\n",
    "                                metric.get()[1],\n",
    "                                datetime.timedelta(seconds=(time.time() -\n",
    "                                                            t_p))))\n",
    "                        t_p = time.time()\n",
    "                        step_loss = 0\n",
    "\n",
    "            if use_checkpoints:\n",
    "                model.save_parameters(epoch_checkpoint_savefile)\n",
    "\n",
    "    return stats"
   ]
  },
  {
   "cell_type": "code",
   "execution_count": 91,
   "metadata": {
    "ExecuteTime": {
     "end_time": "2019-07-20T07:57:46.671144Z",
     "start_time": "2019-07-20T07:57:46.660315Z"
    },
    "code_folding": [
     0
    ],
    "init_cell": true
   },
   "outputs": [],
   "source": [
    "def predict(model, data_predict, ctx, metric, loss_function, batch_size=32, sw=None):\n",
    "    bert_dataloader = mx.gluon.data.DataLoader(data_predict,\n",
    "                                               batch_size=batch_size)\n",
    "\n",
    "    all_predictions = list()\n",
    "\n",
    "    with Timer(\"prediction\"):\n",
    "        metric.reset()\n",
    "        cum_loss = 0\n",
    "        for batch_id, (token_ids, valid_length, segment_ids, token_ids_epi,\n",
    "                       valid_length_epi, segment_ids_epi,\n",
    "                       label) in enumerate(tqdm(bert_dataloader)):\n",
    "            global_step = batch_id\n",
    "            # load data to GPU\n",
    "            token_ids = token_ids.as_in_context(ctx)\n",
    "            valid_length = valid_length.as_in_context(ctx)\n",
    "            segment_ids = segment_ids.as_in_context(ctx)\n",
    "            token_ids_epi = token_ids_epi.as_in_context(ctx)\n",
    "            valid_length_epi = valid_length_epi.as_in_context(ctx)\n",
    "            segment_ids_epi = segment_ids_epi.as_in_context(ctx)\n",
    "            label = label.as_in_context(ctx)\n",
    "\n",
    "            # forward computation\n",
    "            out = model(token_ids, segment_ids, valid_length.astype('float32'),\n",
    "                        token_ids_epi, segment_ids_epi,\n",
    "                        valid_length_epi.astype('float32'))\n",
    "            label = label.astype('float32')\n",
    "            ls = loss_function(out, label).mean()\n",
    "\n",
    "            out = out.sigmoid().round().astype('int32')\n",
    "            label = label.astype('int32')\n",
    "            metric.update([label], [out])\n",
    "            cum_loss += ls.asscalar()  # .sum() ?\n",
    "\n",
    "            if sw:\n",
    "                sw.add_scalar(tag='P-ls', value=ls.asscalar(), global_step=global_step)\n",
    "                sw.add_scalar(tag='P-acc', value=metric.get()[1], global_step=global_step)\n",
    "\n",
    "            all_predictions.append((batch_id, label, out))\n",
    "\n",
    "    return all_predictions, cum_loss"
   ]
  },
  {
   "cell_type": "code",
   "execution_count": 119,
   "metadata": {
    "ExecuteTime": {
     "end_time": "2019-07-20T08:33:43.594592Z",
     "start_time": "2019-07-20T08:33:43.580515Z"
    },
    "code_folding": [
     6
    ],
    "init_cell": true
   },
   "outputs": [],
   "source": [
    "def predict_unknown(model, data_predict, ctx, label_map=None, batch_size=32):\n",
    "    bert_dataloader = mx.gluon.data.DataLoader(data_predict,\n",
    "                                               batch_size=batch_size)\n",
    "\n",
    "    predictions = list()\n",
    "\n",
    "    with Timer(\"prediction\"):\n",
    "        for batch_id, (token_ids, valid_length, segment_ids, token_ids_epi,\n",
    "                       valid_length_epi,\n",
    "                       segment_ids_epi) in enumerate(tqdm(bert_dataloader)):\n",
    "            global_step = batch_id\n",
    "            # load data to GPU\n",
    "            token_ids = token_ids.as_in_context(ctx)\n",
    "            valid_length = valid_length.as_in_context(ctx)\n",
    "            segment_ids = segment_ids.as_in_context(ctx)\n",
    "            token_ids_epi = token_ids_epi.as_in_context(ctx)\n",
    "            valid_length_epi = valid_length_epi.as_in_context(ctx)\n",
    "            segment_ids_epi = segment_ids_epi.as_in_context(ctx)\n",
    "\n",
    "            # forward computation\n",
    "            out = model(token_ids, segment_ids, valid_length.astype('float32'),\n",
    "                        token_ids_epi, segment_ids_epi,\n",
    "                        valid_length_epi.astype('float32'))\n",
    "\n",
    "            # to binary: 0/1\n",
    "            out = out.sigmoid().round().astype('int32')\n",
    "            # to numpy (not mxnet)\n",
    "            out = out.asnumpy()\n",
    "            # get mapping type\n",
    "            if label_map:\n",
    "                out = [label_map[c] for c in list(out)]\n",
    "\n",
    "            predictions.extend(out)\n",
    "\n",
    "    # list to numpy array\n",
    "    predictions = np.array(predictions)\n",
    "\n",
    "    return predictions"
   ]
  },
  {
   "cell_type": "code",
   "execution_count": 92,
   "metadata": {
    "ExecuteTime": {
     "end_time": "2019-07-20T07:57:46.689227Z",
     "start_time": "2019-07-20T07:57:46.672374Z"
    },
    "code_folding": [
     0,
     24
    ],
    "init_cell": true,
    "run_control": {
     "marked": false
    }
   },
   "outputs": [],
   "source": [
    "def print_infos(vocabulary, data_train_raw, data_train):\n",
    "    sample_id = 0\n",
    "\n",
    "    # sentence a\n",
    "    print(data_train_raw[sample_id][0])\n",
    "    # sentence b\n",
    "    print(data_train_raw[sample_id][1])\n",
    "    # 1 means equivalent, 0 means not equivalent\n",
    "    print(data_train_raw[sample_id][2])\n",
    "\n",
    "    print('vocabulary used for tokenization = \\n%s' % vocabulary)\n",
    "    print('[PAD] token id = %s' % (vocabulary['[PAD]']))\n",
    "    print('[CLS] token id = %s' % (vocabulary['[CLS]']))\n",
    "    print('[SEP] token id = %s' % (vocabulary['[SEP]']))\n",
    "\n",
    "    print('token ids = \\n%s' % data_train[sample_id][0])\n",
    "    print('valid length = \\n%s' % data_train[sample_id][1])\n",
    "    print('segment ids = \\n%s' % data_train[sample_id][2])\n",
    "    print('epi token ids = \\n%s' % data_train[sample_id][3])\n",
    "    print('epi valid length = \\n%s' % data_train[sample_id][4])\n",
    "    print('epi segment ids = \\n%s' % data_train[sample_id][5])\n",
    "    print('label = \\n%s' % data_train[sample_id][6])\n",
    "\n",
    "\n",
    "def plot_train_stats(stats):\n",
    "    if not stats:\n",
    "        print(\"no stats to plot\")\n",
    "        return\n",
    "\n",
    "    x = np.arange(len(stats))  # arange/linspace\n",
    "\n",
    "    acc_dots, loss_dots = zip(*stats)\n",
    "    # if isinstance(loss_dots, tuple):\n",
    "    #     loss_dots, loss_dots2 = zip(*loss_dots)\n",
    "\n",
    "    plt.subplot(2, 1, 1)\n",
    "    plt.plot(x, acc_dots)  # Linie: '-', 'o-', '.-'\n",
    "    plt.title('Training BERTClassifier')\n",
    "    plt.ylabel('Accuracy')\n",
    "\n",
    "    plt.subplot(2, 1, 2)\n",
    "    plt.plot(x, loss_dots)\n",
    "    plt.xlabel('Batches')\n",
    "    plt.ylabel('Loss')\n",
    "\n",
    "    plt.show()"
   ]
  },
  {
   "cell_type": "markdown",
   "metadata": {},
   "source": [
    "### Evaluate"
   ]
  },
  {
   "cell_type": "code",
   "execution_count": 93,
   "metadata": {
    "ExecuteTime": {
     "end_time": "2019-07-20T07:57:46.706889Z",
     "start_time": "2019-07-20T07:57:46.690951Z"
    },
    "code_folding": [
     0,
     12
    ],
    "init_cell": true,
    "run_control": {
     "marked": false
    },
    "scrolled": true
   },
   "outputs": [],
   "source": [
    "def heatconmat(y_test, y_pred):\n",
    "    sns.set_context('talk')\n",
    "    plt.figure(figsize=(9, 6))\n",
    "    sns.heatmap(confusion_matrix(y_test, y_pred),\n",
    "                annot=True,\n",
    "                fmt='d',\n",
    "                cbar=False,\n",
    "                cmap='gist_earth_r',\n",
    "                yticklabels=sorted(np.unique(y_test)))\n",
    "    plt.show()\n",
    "\n",
    "\n",
    "def report_training_results(y_test, y_pred, name=None, heatmap=True):\n",
    "    print('Confusion Matrix:')\n",
    "    print(confusion_matrix(y_test, y_pred))\n",
    "    if heatmap:\n",
    "        heatconmat(y_test, y_pred)\n",
    "    print()\n",
    "    print('Accuracy: ', round(accuracy_score(y_test, y_pred), 2), '\\n')  #\n",
    "\n",
    "    print('Report{}:'.format(\"\" if not name else \" for [{}]\".format(name)))\n",
    "    print(classification_report(y_test, y_pred))\n",
    "\n",
    "    f1_dic = {}\n",
    "    f1_dic['macro'] = round(\n",
    "        f1_score(y_pred=y_pred, y_true=y_test, average='macro'), 2)\n",
    "    f1_dic['micro'] = round(\n",
    "        f1_score(y_pred=y_pred, y_true=y_test, average='micro'), 2)\n",
    "    return f1_dic"
   ]
  },
  {
   "cell_type": "markdown",
   "metadata": {},
   "source": [
    "### Within topic - Training and evaluating model "
   ]
  },
  {
   "cell_type": "code",
   "execution_count": null,
   "metadata": {},
   "outputs": [],
   "source": [
    "#within_traindev_df = within_traindev_df[:1000]"
   ]
  },
  {
   "cell_type": "code",
   "execution_count": 23,
   "metadata": {
    "ExecuteTime": {
     "end_time": "2019-07-19T12:29:05.351367Z",
     "start_time": "2019-07-19T12:29:05.320438Z"
    },
    "scrolled": true
   },
   "outputs": [
    {
     "name": "stdout",
     "output_type": "stream",
     "text": [
      "Time for [1 - test/train split]: 0:00:00.025558\n"
     ]
    }
   ],
   "source": [
    "# 1. Getting train and dev data\n",
    "with Timer(\"1 - test/train split\"):\n",
    "    X_train, X_dev, y_train, y_dev = get_train_test_sets(within_traindev_df, ratio=0.1)"
   ]
  },
  {
   "cell_type": "code",
   "execution_count": 24,
   "metadata": {
    "ExecuteTime": {
     "end_time": "2019-07-19T12:29:09.523722Z",
     "start_time": "2019-07-19T12:29:07.222088Z"
    },
    "collapsed": true
   },
   "outputs": [
    {
     "name": "stdout",
     "output_type": "stream",
     "text": [
      "BERTModel(\n",
      "  (encoder): BERTEncoder(\n",
      "    (dropout_layer): Dropout(p = 0.1, axes=())\n",
      "    (layer_norm): BERTLayerNorm(eps=1e-12, axis=-1, center=True, scale=True, in_channels=768)\n",
      "    (transformer_cells): HybridSequential(\n",
      "      (0): BERTEncoderCell(\n",
      "        (dropout_layer): Dropout(p = 0.1, axes=())\n",
      "        (attention_cell): MultiHeadAttentionCell(\n",
      "          (_base_cell): DotProductAttentionCell(\n",
      "            (_dropout_layer): Dropout(p = 0.1, axes=())\n",
      "          )\n",
      "          (proj_query): Dense(768 -> 768, linear)\n",
      "          (proj_key): Dense(768 -> 768, linear)\n",
      "          (proj_value): Dense(768 -> 768, linear)\n",
      "        )\n",
      "        (proj): Dense(768 -> 768, linear)\n",
      "        (ffn): BERTPositionwiseFFN(\n",
      "          (ffn_1): Dense(768 -> 3072, linear)\n",
      "          (activation): GELU()\n",
      "          (ffn_2): Dense(3072 -> 768, linear)\n",
      "          (dropout_layer): Dropout(p = 0.1, axes=())\n",
      "          (layer_norm): BERTLayerNorm(eps=1e-12, axis=-1, center=True, scale=True, in_channels=768)\n",
      "        )\n",
      "        (layer_norm): BERTLayerNorm(eps=1e-12, axis=-1, center=True, scale=True, in_channels=768)\n",
      "      )\n",
      "      (1): BERTEncoderCell(\n",
      "        (dropout_layer): Dropout(p = 0.1, axes=())\n",
      "        (attention_cell): MultiHeadAttentionCell(\n",
      "          (_base_cell): DotProductAttentionCell(\n",
      "            (_dropout_layer): Dropout(p = 0.1, axes=())\n",
      "          )\n",
      "          (proj_query): Dense(768 -> 768, linear)\n",
      "          (proj_key): Dense(768 -> 768, linear)\n",
      "          (proj_value): Dense(768 -> 768, linear)\n",
      "        )\n",
      "        (proj): Dense(768 -> 768, linear)\n",
      "        (ffn): BERTPositionwiseFFN(\n",
      "          (ffn_1): Dense(768 -> 3072, linear)\n",
      "          (activation): GELU()\n",
      "          (ffn_2): Dense(3072 -> 768, linear)\n",
      "          (dropout_layer): Dropout(p = 0.1, axes=())\n",
      "          (layer_norm): BERTLayerNorm(eps=1e-12, axis=-1, center=True, scale=True, in_channels=768)\n",
      "        )\n",
      "        (layer_norm): BERTLayerNorm(eps=1e-12, axis=-1, center=True, scale=True, in_channels=768)\n",
      "      )\n",
      "      (2): BERTEncoderCell(\n",
      "        (dropout_layer): Dropout(p = 0.1, axes=())\n",
      "        (attention_cell): MultiHeadAttentionCell(\n",
      "          (_base_cell): DotProductAttentionCell(\n",
      "            (_dropout_layer): Dropout(p = 0.1, axes=())\n",
      "          )\n",
      "          (proj_query): Dense(768 -> 768, linear)\n",
      "          (proj_key): Dense(768 -> 768, linear)\n",
      "          (proj_value): Dense(768 -> 768, linear)\n",
      "        )\n",
      "        (proj): Dense(768 -> 768, linear)\n",
      "        (ffn): BERTPositionwiseFFN(\n",
      "          (ffn_1): Dense(768 -> 3072, linear)\n",
      "          (activation): GELU()\n",
      "          (ffn_2): Dense(3072 -> 768, linear)\n",
      "          (dropout_layer): Dropout(p = 0.1, axes=())\n",
      "          (layer_norm): BERTLayerNorm(eps=1e-12, axis=-1, center=True, scale=True, in_channels=768)\n",
      "        )\n",
      "        (layer_norm): BERTLayerNorm(eps=1e-12, axis=-1, center=True, scale=True, in_channels=768)\n",
      "      )\n",
      "      (3): BERTEncoderCell(\n",
      "        (dropout_layer): Dropout(p = 0.1, axes=())\n",
      "        (attention_cell): MultiHeadAttentionCell(\n",
      "          (_base_cell): DotProductAttentionCell(\n",
      "            (_dropout_layer): Dropout(p = 0.1, axes=())\n",
      "          )\n",
      "          (proj_query): Dense(768 -> 768, linear)\n",
      "          (proj_key): Dense(768 -> 768, linear)\n",
      "          (proj_value): Dense(768 -> 768, linear)\n",
      "        )\n",
      "        (proj): Dense(768 -> 768, linear)\n",
      "        (ffn): BERTPositionwiseFFN(\n",
      "          (ffn_1): Dense(768 -> 3072, linear)\n",
      "          (activation): GELU()\n",
      "          (ffn_2): Dense(3072 -> 768, linear)\n",
      "          (dropout_layer): Dropout(p = 0.1, axes=())\n",
      "          (layer_norm): BERTLayerNorm(eps=1e-12, axis=-1, center=True, scale=True, in_channels=768)\n",
      "        )\n",
      "        (layer_norm): BERTLayerNorm(eps=1e-12, axis=-1, center=True, scale=True, in_channels=768)\n",
      "      )\n",
      "      (4): BERTEncoderCell(\n",
      "        (dropout_layer): Dropout(p = 0.1, axes=())\n",
      "        (attention_cell): MultiHeadAttentionCell(\n",
      "          (_base_cell): DotProductAttentionCell(\n",
      "            (_dropout_layer): Dropout(p = 0.1, axes=())\n",
      "          )\n",
      "          (proj_query): Dense(768 -> 768, linear)\n",
      "          (proj_key): Dense(768 -> 768, linear)\n",
      "          (proj_value): Dense(768 -> 768, linear)\n",
      "        )\n",
      "        (proj): Dense(768 -> 768, linear)\n",
      "        (ffn): BERTPositionwiseFFN(\n",
      "          (ffn_1): Dense(768 -> 3072, linear)\n",
      "          (activation): GELU()\n",
      "          (ffn_2): Dense(3072 -> 768, linear)\n",
      "          (dropout_layer): Dropout(p = 0.1, axes=())\n",
      "          (layer_norm): BERTLayerNorm(eps=1e-12, axis=-1, center=True, scale=True, in_channels=768)\n",
      "        )\n",
      "        (layer_norm): BERTLayerNorm(eps=1e-12, axis=-1, center=True, scale=True, in_channels=768)\n",
      "      )\n",
      "      (5): BERTEncoderCell(\n",
      "        (dropout_layer): Dropout(p = 0.1, axes=())\n",
      "        (attention_cell): MultiHeadAttentionCell(\n",
      "          (_base_cell): DotProductAttentionCell(\n",
      "            (_dropout_layer): Dropout(p = 0.1, axes=())\n",
      "          )\n",
      "          (proj_query): Dense(768 -> 768, linear)\n",
      "          (proj_key): Dense(768 -> 768, linear)\n",
      "          (proj_value): Dense(768 -> 768, linear)\n",
      "        )\n",
      "        (proj): Dense(768 -> 768, linear)\n",
      "        (ffn): BERTPositionwiseFFN(\n",
      "          (ffn_1): Dense(768 -> 3072, linear)\n",
      "          (activation): GELU()\n",
      "          (ffn_2): Dense(3072 -> 768, linear)\n",
      "          (dropout_layer): Dropout(p = 0.1, axes=())\n",
      "          (layer_norm): BERTLayerNorm(eps=1e-12, axis=-1, center=True, scale=True, in_channels=768)\n",
      "        )\n",
      "        (layer_norm): BERTLayerNorm(eps=1e-12, axis=-1, center=True, scale=True, in_channels=768)\n",
      "      )\n",
      "      (6): BERTEncoderCell(\n",
      "        (dropout_layer): Dropout(p = 0.1, axes=())\n",
      "        (attention_cell): MultiHeadAttentionCell(\n",
      "          (_base_cell): DotProductAttentionCell(\n",
      "            (_dropout_layer): Dropout(p = 0.1, axes=())\n",
      "          )\n",
      "          (proj_query): Dense(768 -> 768, linear)\n",
      "          (proj_key): Dense(768 -> 768, linear)\n",
      "          (proj_value): Dense(768 -> 768, linear)\n",
      "        )\n",
      "        (proj): Dense(768 -> 768, linear)\n",
      "        (ffn): BERTPositionwiseFFN(\n",
      "          (ffn_1): Dense(768 -> 3072, linear)\n",
      "          (activation): GELU()\n",
      "          (ffn_2): Dense(3072 -> 768, linear)\n",
      "          (dropout_layer): Dropout(p = 0.1, axes=())\n",
      "          (layer_norm): BERTLayerNorm(eps=1e-12, axis=-1, center=True, scale=True, in_channels=768)\n",
      "        )\n",
      "        (layer_norm): BERTLayerNorm(eps=1e-12, axis=-1, center=True, scale=True, in_channels=768)\n",
      "      )\n",
      "      (7): BERTEncoderCell(\n",
      "        (dropout_layer): Dropout(p = 0.1, axes=())\n",
      "        (attention_cell): MultiHeadAttentionCell(\n",
      "          (_base_cell): DotProductAttentionCell(\n",
      "            (_dropout_layer): Dropout(p = 0.1, axes=())\n",
      "          )\n",
      "          (proj_query): Dense(768 -> 768, linear)\n",
      "          (proj_key): Dense(768 -> 768, linear)\n",
      "          (proj_value): Dense(768 -> 768, linear)\n",
      "        )\n",
      "        (proj): Dense(768 -> 768, linear)\n",
      "        (ffn): BERTPositionwiseFFN(\n",
      "          (ffn_1): Dense(768 -> 3072, linear)\n",
      "          (activation): GELU()\n",
      "          (ffn_2): Dense(3072 -> 768, linear)\n",
      "          (dropout_layer): Dropout(p = 0.1, axes=())\n",
      "          (layer_norm): BERTLayerNorm(eps=1e-12, axis=-1, center=True, scale=True, in_channels=768)\n",
      "        )\n",
      "        (layer_norm): BERTLayerNorm(eps=1e-12, axis=-1, center=True, scale=True, in_channels=768)\n",
      "      )\n",
      "      (8): BERTEncoderCell(\n",
      "        (dropout_layer): Dropout(p = 0.1, axes=())\n",
      "        (attention_cell): MultiHeadAttentionCell(\n",
      "          (_base_cell): DotProductAttentionCell(\n",
      "            (_dropout_layer): Dropout(p = 0.1, axes=())\n",
      "          )\n",
      "          (proj_query): Dense(768 -> 768, linear)\n",
      "          (proj_key): Dense(768 -> 768, linear)\n",
      "          (proj_value): Dense(768 -> 768, linear)\n",
      "        )\n",
      "        (proj): Dense(768 -> 768, linear)\n",
      "        (ffn): BERTPositionwiseFFN(\n",
      "          (ffn_1): Dense(768 -> 3072, linear)\n",
      "          (activation): GELU()\n",
      "          (ffn_2): Dense(3072 -> 768, linear)\n",
      "          (dropout_layer): Dropout(p = 0.1, axes=())\n",
      "          (layer_norm): BERTLayerNorm(eps=1e-12, axis=-1, center=True, scale=True, in_channels=768)\n",
      "        )\n",
      "        (layer_norm): BERTLayerNorm(eps=1e-12, axis=-1, center=True, scale=True, in_channels=768)\n",
      "      )\n",
      "      (9): BERTEncoderCell(\n",
      "        (dropout_layer): Dropout(p = 0.1, axes=())\n",
      "        (attention_cell): MultiHeadAttentionCell(\n",
      "          (_base_cell): DotProductAttentionCell(\n",
      "            (_dropout_layer): Dropout(p = 0.1, axes=())\n",
      "          )\n",
      "          (proj_query): Dense(768 -> 768, linear)\n",
      "          (proj_key): Dense(768 -> 768, linear)\n",
      "          (proj_value): Dense(768 -> 768, linear)\n",
      "        )\n",
      "        (proj): Dense(768 -> 768, linear)\n",
      "        (ffn): BERTPositionwiseFFN(\n",
      "          (ffn_1): Dense(768 -> 3072, linear)\n",
      "          (activation): GELU()\n",
      "          (ffn_2): Dense(3072 -> 768, linear)\n",
      "          (dropout_layer): Dropout(p = 0.1, axes=())\n",
      "          (layer_norm): BERTLayerNorm(eps=1e-12, axis=-1, center=True, scale=True, in_channels=768)\n",
      "        )\n",
      "        (layer_norm): BERTLayerNorm(eps=1e-12, axis=-1, center=True, scale=True, in_channels=768)\n",
      "      )\n",
      "      (10): BERTEncoderCell(\n",
      "        (dropout_layer): Dropout(p = 0.1, axes=())\n",
      "        (attention_cell): MultiHeadAttentionCell(\n",
      "          (_base_cell): DotProductAttentionCell(\n",
      "            (_dropout_layer): Dropout(p = 0.1, axes=())\n",
      "          )\n",
      "          (proj_query): Dense(768 -> 768, linear)\n",
      "          (proj_key): Dense(768 -> 768, linear)\n",
      "          (proj_value): Dense(768 -> 768, linear)\n",
      "        )\n",
      "        (proj): Dense(768 -> 768, linear)\n",
      "        (ffn): BERTPositionwiseFFN(\n",
      "          (ffn_1): Dense(768 -> 3072, linear)\n",
      "          (activation): GELU()\n",
      "          (ffn_2): Dense(3072 -> 768, linear)\n",
      "          (dropout_layer): Dropout(p = 0.1, axes=())\n",
      "          (layer_norm): BERTLayerNorm(eps=1e-12, axis=-1, center=True, scale=True, in_channels=768)\n",
      "        )\n",
      "        (layer_norm): BERTLayerNorm(eps=1e-12, axis=-1, center=True, scale=True, in_channels=768)\n",
      "      )\n",
      "      (11): BERTEncoderCell(\n",
      "        (dropout_layer): Dropout(p = 0.1, axes=())\n",
      "        (attention_cell): MultiHeadAttentionCell(\n",
      "          (_base_cell): DotProductAttentionCell(\n",
      "            (_dropout_layer): Dropout(p = 0.1, axes=())\n",
      "          )\n",
      "          (proj_query): Dense(768 -> 768, linear)\n",
      "          (proj_key): Dense(768 -> 768, linear)\n",
      "          (proj_value): Dense(768 -> 768, linear)\n",
      "        )\n",
      "        (proj): Dense(768 -> 768, linear)\n",
      "        (ffn): BERTPositionwiseFFN(\n",
      "          (ffn_1): Dense(768 -> 3072, linear)\n",
      "          (activation): GELU()\n",
      "          (ffn_2): Dense(3072 -> 768, linear)\n",
      "          (dropout_layer): Dropout(p = 0.1, axes=())\n",
      "          (layer_norm): BERTLayerNorm(eps=1e-12, axis=-1, center=True, scale=True, in_channels=768)\n",
      "        )\n",
      "        (layer_norm): BERTLayerNorm(eps=1e-12, axis=-1, center=True, scale=True, in_channels=768)\n",
      "      )\n",
      "    )\n",
      "  )\n",
      "  (word_embed): HybridSequential(\n",
      "    (0): Embedding(30522 -> 768, float32)\n",
      "    (1): Dropout(p = 0.1, axes=())\n",
      "  )\n",
      "  (token_type_embed): HybridSequential(\n",
      "    (0): Embedding(2 -> 768, float32)\n",
      "    (1): Dropout(p = 0.1, axes=())\n",
      "  )\n",
      "  (pooler): Dense(768 -> 768, Activation(tanh))\n",
      ")\n",
      "Time for [2 - setup BERT model]: 0:00:02.296949\n"
     ]
    }
   ],
   "source": [
    "# 2. setup\n",
    "with Timer(\"2 - setup BERT model\"):\n",
    "    model, vocabulary, ctx, tokenizer, transform, loss_function, metric, all_labels = setup_bert()"
   ]
  },
  {
   "cell_type": "code",
   "execution_count": null,
   "metadata": {},
   "outputs": [],
   "source": [
    "# print(model)"
   ]
  },
  {
   "cell_type": "code",
   "execution_count": 25,
   "metadata": {
    "ExecuteTime": {
     "end_time": "2019-07-19T12:29:15.870916Z",
     "start_time": "2019-07-19T12:29:12.685920Z"
    },
    "collapsed": true
   },
   "outputs": [
    {
     "name": "stdout",
     "output_type": "stream",
     "text": [
      "fewer women would have abortions if they knew what they were doing bernard nathanson, former abortion doctor turned pro-life, in his book aborting america, 1979 - \"fewer women would have abortions if wombs had windows.\"[18] after the abortion, women are confronted with a much more profound sense of the reality of what they have done and what they have lost. this often triggers depression.\n",
      "abortion deprives couples that want to adopt of a potential child.\n",
      "0\n",
      "vocabulary used for tokenization = \n",
      "Vocab(size=30522, unk=\"[UNK]\", reserved=\"['[PAD]', '[CLS]', '[SEP]', '[MASK]']\")\n",
      "[PAD] token id = 1\n",
      "[CLS] token id = 2\n",
      "[SEP] token id = 3\n",
      "token ids = \n",
      "[    2  8491  2308  2052  2031 11324  2015  2065  2027  2354  2054  2027\n",
      "  2020  2725  6795  7150  3385  1010  2280 11324  3460  2357  4013  1011\n",
      "  2166  1010  1999  2010  2338 11113 11589  2075  2637  1010  3245  1011\n",
      "  1000  8491  2308  2052  2031 11324  2015  2065 26578  2015  2018  3645\n",
      "  1012  1000  1031  2324  1033  2044  1996 11324  1010  2308  2024 12892\n",
      "  2007  1037  2172  2062 13769  3168  1997  1996  4507  1997  2054  2027\n",
      "  2031  2589  1998  2054  2027  2031  2439  1012  2023  2411 27099  6245\n",
      "  1012     3 11324  2139 18098 24653  6062  2008  2215  2000 11092  1997\n",
      "  1037  4022  2775  1012     3     1     1     1     1     1     1     1\n",
      "     1     1     1     1     1     1     1     1     1     1     1     1\n",
      "     1     1     1     1     1     1     1     1     1     1     1     1\n",
      "     1     1     1     1     1     1     1     1     1     1     1     1\n",
      "     1     1     1     1     1     1     1     1     1     1     1     1\n",
      "     1     1     1     1     1     1     1     1     1     1     1     1\n",
      "     1     1     1     1     1     1     1     1     1     1     1     1\n",
      "     1     1     1     1     1     1     1     1     1     1     1     1\n",
      "     1     1     1     1     1     1     1     1     1     1     1     1\n",
      "     1     1     1     1     1     1     1     1     1     1     1     1\n",
      "     1     1     1     1     1     1     1     1     1     1     1     1\n",
      "     1     1     1     1     1     1     1     1     1     1     1     1\n",
      "     1     1     1     1     1     1     1     1     1     1     1     1\n",
      "     1     1     1     1     1     1     1     1     1     1     1     1\n",
      "     1     1     1     1     1     1     1     1     1     1     1     1\n",
      "     1     1     1     1     1     1     1     1     1     1     1     1\n",
      "     1     1     1     1     1     1     1     1     1     1     1     1\n",
      "     1     1     1     1     1     1     1     1     1     1     1     1\n",
      "     1     1     1     1     1     1     1     1     1     1     1     1\n",
      "     1     1     1     1     1     1     1     1     1     1     1     1\n",
      "     1     1     1     1     1     1     1     1     1     1     1     1\n",
      "     1     1     1     1     1     1     1     1     1     1     1     1\n",
      "     1     1     1     1     1     1     1     1     1     1     1     1\n",
      "     1     1     1     1     1     1     1     1     1     1     1     1\n",
      "     1     1     1     1     1     1     1     1     1     1     1     1\n",
      "     1     1     1     1     1     1     1     1     1     1     1     1\n",
      "     1     1     1     1     1     1     1     1     1     1     1     1\n",
      "     1     1     1     1     1     1     1     1     1     1     1     1\n",
      "     1     1     1     1     1     1     1     1     1     1     1     1\n",
      "     1     1     1     1     1     1     1     1     1     1     1     1\n",
      "     1     1     1     1     1     1     1     1     1     1     1     1\n",
      "     1     1     1     1     1     1     1     1     1     1     1     1\n",
      "     1     1     1     1     1     1     1     1     1     1     1     1\n",
      "     1     1     1     1     1     1     1     1     1     1     1     1\n",
      "     1     1     1     1     1     1     1     1]\n",
      "valid length = \n",
      "101\n",
      "segment ids = \n",
      "[0 0 0 0 0 0 0 0 0 0 0 0 0 0 0 0 0 0 0 0 0 0 0 0 0 0 0 0 0 0 0 0 0 0 0 0 0\n",
      " 0 0 0 0 0 0 0 0 0 0 0 0 0 0 0 0 0 0 0 0 0 0 0 0 0 0 0 0 0 0 0 0 0 0 0 0 0\n",
      " 0 0 0 0 0 0 0 0 0 0 0 0 1 1 1 1 1 1 1 1 1 1 1 1 1 1 1 0 0 0 0 0 0 0 0 0 0\n",
      " 0 0 0 0 0 0 0 0 0 0 0 0 0 0 0 0 0 0 0 0 0 0 0 0 0 0 0 0 0 0 0 0 0 0 0 0 0\n",
      " 0 0 0 0 0 0 0 0 0 0 0 0 0 0 0 0 0 0 0 0 0 0 0 0 0 0 0 0 0 0 0 0 0 0 0 0 0\n",
      " 0 0 0 0 0 0 0 0 0 0 0 0 0 0 0 0 0 0 0 0 0 0 0 0 0 0 0 0 0 0 0 0 0 0 0 0 0\n",
      " 0 0 0 0 0 0 0 0 0 0 0 0 0 0 0 0 0 0 0 0 0 0 0 0 0 0 0 0 0 0 0 0 0 0 0 0 0\n",
      " 0 0 0 0 0 0 0 0 0 0 0 0 0 0 0 0 0 0 0 0 0 0 0 0 0 0 0 0 0 0 0 0 0 0 0 0 0\n",
      " 0 0 0 0 0 0 0 0 0 0 0 0 0 0 0 0 0 0 0 0 0 0 0 0 0 0 0 0 0 0 0 0 0 0 0 0 0\n",
      " 0 0 0 0 0 0 0 0 0 0 0 0 0 0 0 0 0 0 0 0 0 0 0 0 0 0 0 0 0 0 0 0 0 0 0 0 0\n",
      " 0 0 0 0 0 0 0 0 0 0 0 0 0 0 0 0 0 0 0 0 0 0 0 0 0 0 0 0 0 0 0 0 0 0 0 0 0\n",
      " 0 0 0 0 0 0 0 0 0 0 0 0 0 0 0 0 0 0 0 0 0 0 0 0 0 0 0 0 0 0 0 0 0 0 0 0 0\n",
      " 0 0 0 0 0 0 0 0 0 0 0 0 0 0 0 0 0 0 0 0 0 0 0 0 0 0 0 0 0 0 0 0 0 0 0 0 0\n",
      " 0 0 0 0 0 0 0 0 0 0 0 0 0 0 0 0 0 0 0 0 0 0 0 0 0 0 0 0 0 0 0]\n",
      "epi token ids = \n",
      "[    2  8491  2308  2052  2031 11324  2015  2065  2027  2354  2054  2027\n",
      "  2020  2725  6795  7150  3385  1010  2280 11324  3460  2357  4013  1011\n",
      "  2166  1010  1999  2010  2338 11113 11589  2075  2637  1010  3245  1011\n",
      "  1000  8491  2308  2052  2031 11324  2015  2065 26578  2015  2018  3645\n",
      "  1012  1000  1031  2324  1033  2044  1996 11324  1010  2308  2024 12892\n",
      "  2007  1037  2172  2062 13769  3168  1997  1996  4507  1997  2054  2027\n",
      "  2031  2589  1998  2054  2027  2031  2439  1012  2023  2411 27099  6245\n",
      "  1012     3 11324  2139 18098 24653  6062  2008  2215  2000 11092  1997\n",
      "  1037  4022  2775  1012     3     1     1     1     1     1     1     1\n",
      "     1     1     1     1     1     1     1     1     1     1     1     1\n",
      "     1     1     1     1     1     1     1     1     1     1     1     1\n",
      "     1     1     1     1     1     1     1     1     1     1     1     1\n",
      "     1     1     1     1     1     1     1     1     1     1     1     1\n",
      "     1     1     1     1     1     1     1     1     1     1     1     1\n",
      "     1     1     1     1     1     1     1     1     1     1     1     1\n",
      "     1     1     1     1     1     1     1     1     1     1     1     1\n",
      "     1     1     1     1     1     1     1     1     1     1     1     1\n",
      "     1     1     1     1     1     1     1     1     1     1     1     1\n",
      "     1     1     1     1     1     1     1     1     1     1     1     1\n",
      "     1     1     1     1     1     1     1     1     1     1     1     1\n",
      "     1     1     1     1     1     1     1     1     1     1     1     1\n",
      "     1     1     1     1     1     1     1     1     1     1     1     1\n",
      "     1     1     1     1     1     1     1     1     1     1     1     1\n",
      "     1     1     1     1     1     1     1     1     1     1     1     1\n",
      "     1     1     1     1     1     1     1     1     1     1     1     1\n",
      "     1     1     1     1     1     1     1     1     1     1     1     1\n",
      "     1     1     1     1     1     1     1     1     1     1     1     1\n",
      "     1     1     1     1     1     1     1     1     1     1     1     1\n",
      "     1     1     1     1     1     1     1     1     1     1     1     1\n",
      "     1     1     1     1     1     1     1     1     1     1     1     1\n",
      "     1     1     1     1     1     1     1     1     1     1     1     1\n",
      "     1     1     1     1     1     1     1     1     1     1     1     1\n",
      "     1     1     1     1     1     1     1     1     1     1     1     1\n",
      "     1     1     1     1     1     1     1     1     1     1     1     1\n",
      "     1     1     1     1     1     1     1     1     1     1     1     1\n",
      "     1     1     1     1     1     1     1     1     1     1     1     1\n",
      "     1     1     1     1     1     1     1     1     1     1     1     1\n",
      "     1     1     1     1     1     1     1     1     1     1     1     1\n",
      "     1     1     1     1     1     1     1     1     1     1     1     1\n",
      "     1     1     1     1     1     1     1     1     1     1     1     1\n",
      "     1     1     1     1     1     1     1     1     1     1     1     1\n",
      "     1     1     1     1     1     1     1     1     1     1     1     1\n",
      "     1     1     1     1     1     1     1     1]\n",
      "epi valid length = \n",
      "101\n",
      "epi segment ids = \n",
      "[0 0 0 0 0 0 0 0 0 0 0 0 0 0 0 0 0 0 0 0 0 0 0 0 0 0 0 0 0 0 0 0 0 0 0 0 0\n",
      " 0 0 0 0 0 0 0 0 0 0 0 0 0 0 0 0 0 0 0 0 0 0 0 0 0 0 0 0 0 0 0 0 0 0 0 0 0\n",
      " 0 0 0 0 0 0 0 0 0 0 0 0 1 1 1 1 1 1 1 1 1 1 1 1 1 1 1 0 0 0 0 0 0 0 0 0 0\n",
      " 0 0 0 0 0 0 0 0 0 0 0 0 0 0 0 0 0 0 0 0 0 0 0 0 0 0 0 0 0 0 0 0 0 0 0 0 0\n",
      " 0 0 0 0 0 0 0 0 0 0 0 0 0 0 0 0 0 0 0 0 0 0 0 0 0 0 0 0 0 0 0 0 0 0 0 0 0\n",
      " 0 0 0 0 0 0 0 0 0 0 0 0 0 0 0 0 0 0 0 0 0 0 0 0 0 0 0 0 0 0 0 0 0 0 0 0 0\n",
      " 0 0 0 0 0 0 0 0 0 0 0 0 0 0 0 0 0 0 0 0 0 0 0 0 0 0 0 0 0 0 0 0 0 0 0 0 0\n",
      " 0 0 0 0 0 0 0 0 0 0 0 0 0 0 0 0 0 0 0 0 0 0 0 0 0 0 0 0 0 0 0 0 0 0 0 0 0\n",
      " 0 0 0 0 0 0 0 0 0 0 0 0 0 0 0 0 0 0 0 0 0 0 0 0 0 0 0 0 0 0 0 0 0 0 0 0 0\n",
      " 0 0 0 0 0 0 0 0 0 0 0 0 0 0 0 0 0 0 0 0 0 0 0 0 0 0 0 0 0 0 0 0 0 0 0 0 0\n",
      " 0 0 0 0 0 0 0 0 0 0 0 0 0 0 0 0 0 0 0 0 0 0 0 0 0 0 0 0 0 0 0 0 0 0 0 0 0\n",
      " 0 0 0 0 0 0 0 0 0 0 0 0 0 0 0 0 0 0 0 0 0 0 0 0 0 0 0 0 0 0 0 0 0 0 0 0 0\n",
      " 0 0 0 0 0 0 0 0 0 0 0 0 0 0 0 0 0 0 0 0 0 0 0 0 0 0 0 0 0 0 0 0 0 0 0 0 0\n",
      " 0 0 0 0 0 0 0 0 0 0 0 0 0 0 0 0 0 0 0 0 0 0 0 0 0 0 0 0 0 0 0]\n",
      "label = \n",
      "[0]\n",
      "Time for [3 - prepare training data]: 0:00:03.178897\n"
     ]
    }
   ],
   "source": [
    "with Timer(\"3 - prepare training data\"):\n",
    "    data_train_raw, data_train = transform_dataset(X_train, y_train, transform)\n",
    "    print_infos(vocabulary, data_train_raw, data_train)"
   ]
  },
  {
   "cell_type": "code",
   "execution_count": 26,
   "metadata": {
    "ExecuteTime": {
     "end_time": "2019-07-19T12:29:19.388601Z",
     "start_time": "2019-07-19T12:29:19.181693Z"
    }
   },
   "outputs": [
    {
     "name": "stdout",
     "output_type": "stream",
     "text": [
      "mkdir: cannot create directory ‘data/within_traindev_proepi512_BCE_0.1’: File exists\r\n"
     ]
    }
   ],
   "source": [
    "! mkdir data/within_traindev_proepi512_BCE_0.1"
   ]
  },
  {
   "cell_type": "code",
   "execution_count": 27,
   "metadata": {
    "ExecuteTime": {
     "end_time": "2019-07-20T07:53:55.678013Z",
     "start_time": "2019-07-19T12:29:19.839112Z"
    },
    "code_folding": [],
    "collapsed": true
   },
   "outputs": [
    {
     "data": {
      "application/vnd.jupyter.widget-view+json": {
       "model_id": "ee127f2e40344237938c691551b77a49",
       "version_major": 2,
       "version_minor": 0
      },
      "text/plain": [
       "HBox(children=(IntProgress(value=0, max=57512), HTML(value='')))"
      ]
     },
     "metadata": {},
     "output_type": "display_data"
    },
    {
     "name": "stdout",
     "output_type": "stream",
     "text": [
      "\n",
      "Time for [setup training]: 0:04:12.699620\n"
     ]
    },
    {
     "data": {
      "application/vnd.jupyter.widget-view+json": {
       "model_id": "ddc63dca102549d4a5bfd033fd0f8450",
       "version_major": 2,
       "version_minor": 0
      },
      "text/plain": [
       "HBox(children=(IntProgress(value=0, max=28760), HTML(value='')))"
      ]
     },
     "metadata": {},
     "output_type": "display_data"
    },
    {
     "name": "stderr",
     "output_type": "stream",
     "text": [
      "2019-07-19 14:33:33,527 : INFO : successfully opened events file: data/within_traindev_proepi512_BCE_0.1/events.out.tfevents.1563539613.cuda\n",
      "2019-07-19 14:33:33,530 : INFO : wrote 1 event to disk\n",
      "2019-07-19 14:33:33,531 : INFO : wrote 1 event to disk\n",
      "2019-07-19 14:33:53,999 : INFO : wrote 68 events to disk\n",
      "2019-07-19 14:34:14,420 : INFO : wrote 68 events to disk\n",
      "2019-07-19 14:34:34,843 : INFO : wrote 68 events to disk\n",
      "2019-07-19 14:34:55,245 : INFO : wrote 68 events to disk\n",
      "2019-07-19 14:35:15,771 : INFO : wrote 68 events to disk\n",
      "2019-07-19 14:35:35,776 : INFO : wrote 66 events to disk\n",
      "2019-07-19 14:35:56,249 : INFO : wrote 68 events to disk\n",
      "2019-07-19 14:36:16,697 : INFO : wrote 68 events to disk\n",
      "2019-07-19 14:36:37,250 : INFO : wrote 68 events to disk\n",
      "2019-07-19 14:36:57,286 : INFO : wrote 66 events to disk\n",
      "2019-07-19 14:37:17,814 : INFO : wrote 68 events to disk\n",
      "2019-07-19 14:37:38,347 : INFO : wrote 68 events to disk\n",
      "2019-07-19 14:37:58,937 : INFO : wrote 68 events to disk\n",
      "2019-07-19 14:38:19,434 : INFO : wrote 68 events to disk\n"
     ]
    },
    {
     "name": "stdout",
     "output_type": "stream",
     "text": [
      "[Epoch 0 Batch 500/28760] loss=0.6877, lr=0.0000050, acc=0.551 - time 0:05:01.921874\n"
     ]
    },
    {
     "name": "stderr",
     "output_type": "stream",
     "text": [
      "2019-07-19 14:38:39,897 : INFO : wrote 68 events to disk\n",
      "2019-07-19 14:39:00,354 : INFO : wrote 68 events to disk\n",
      "2019-07-19 14:39:20,913 : INFO : wrote 68 events to disk\n",
      "2019-07-19 14:39:41,489 : INFO : wrote 68 events to disk\n",
      "2019-07-19 14:40:02,037 : INFO : wrote 68 events to disk\n",
      "2019-07-19 14:40:22,534 : INFO : wrote 68 events to disk\n",
      "2019-07-19 14:40:42,975 : INFO : wrote 68 events to disk\n",
      "2019-07-19 14:41:03,515 : INFO : wrote 68 events to disk\n",
      "2019-07-19 14:41:24,033 : INFO : wrote 68 events to disk\n",
      "2019-07-19 14:41:44,498 : INFO : wrote 68 events to disk\n",
      "2019-07-19 14:42:05,052 : INFO : wrote 68 events to disk\n",
      "2019-07-19 14:42:25,636 : INFO : wrote 68 events to disk\n",
      "2019-07-19 14:42:46,233 : INFO : wrote 68 events to disk\n",
      "2019-07-19 14:43:06,662 : INFO : wrote 68 events to disk\n",
      "2019-07-19 14:43:26,724 : INFO : wrote 66 events to disk\n"
     ]
    },
    {
     "name": "stdout",
     "output_type": "stream",
     "text": [
      "[Epoch 0 Batch 1000/28760] loss=0.6589, lr=0.0000050, acc=0.573 - time 0:05:01.926039\n"
     ]
    },
    {
     "name": "stderr",
     "output_type": "stream",
     "text": [
      "2019-07-19 14:43:47,281 : INFO : wrote 68 events to disk\n",
      "2019-07-19 14:44:07,769 : INFO : wrote 68 events to disk\n",
      "2019-07-19 14:44:28,298 : INFO : wrote 68 events to disk\n",
      "2019-07-19 14:44:48,768 : INFO : wrote 68 events to disk\n",
      "2019-07-19 14:45:09,272 : INFO : wrote 68 events to disk\n",
      "2019-07-19 14:45:29,344 : INFO : wrote 66 events to disk\n",
      "2019-07-19 14:45:49,902 : INFO : wrote 68 events to disk\n",
      "2019-07-19 14:46:09,915 : INFO : wrote 66 events to disk\n",
      "2019-07-19 14:46:30,352 : INFO : wrote 68 events to disk\n",
      "2019-07-19 14:46:50,399 : INFO : wrote 66 events to disk\n",
      "2019-07-19 14:47:10,430 : INFO : wrote 66 events to disk\n",
      "2019-07-19 14:47:30,922 : INFO : wrote 68 events to disk\n",
      "2019-07-19 14:47:50,934 : INFO : wrote 66 events to disk\n",
      "2019-07-19 14:48:11,045 : INFO : wrote 66 events to disk\n",
      "2019-07-19 14:48:31,453 : INFO : wrote 66 events to disk\n"
     ]
    },
    {
     "name": "stdout",
     "output_type": "stream",
     "text": [
      "[Epoch 0 Batch 1500/28760] loss=0.6271, lr=0.0000050, acc=0.601 - time 0:05:03.114952\n"
     ]
    },
    {
     "name": "stderr",
     "output_type": "stream",
     "text": [
      "2019-07-19 14:48:51,710 : INFO : wrote 66 events to disk\n",
      "2019-07-19 14:49:11,946 : INFO : wrote 66 events to disk\n",
      "2019-07-19 14:49:32,047 : INFO : wrote 66 events to disk\n",
      "2019-07-19 14:49:52,604 : INFO : wrote 68 events to disk\n",
      "2019-07-19 14:50:13,179 : INFO : wrote 68 events to disk\n",
      "2019-07-19 14:50:33,361 : INFO : wrote 66 events to disk\n",
      "2019-07-19 14:50:53,421 : INFO : wrote 66 events to disk\n",
      "2019-07-19 14:51:13,412 : INFO : wrote 66 events to disk\n",
      "2019-07-19 14:51:33,947 : INFO : wrote 68 events to disk\n",
      "2019-07-19 14:51:54,489 : INFO : wrote 68 events to disk\n",
      "2019-07-19 14:52:15,062 : INFO : wrote 68 events to disk\n",
      "2019-07-19 14:52:35,614 : INFO : wrote 68 events to disk\n",
      "2019-07-19 14:52:56,089 : INFO : wrote 68 events to disk\n",
      "2019-07-19 14:53:16,110 : INFO : wrote 66 events to disk\n",
      "2019-07-19 14:53:36,660 : INFO : wrote 68 events to disk\n"
     ]
    },
    {
     "name": "stdout",
     "output_type": "stream",
     "text": [
      "[Epoch 0 Batch 2000/28760] loss=0.6493, lr=0.0000050, acc=0.622 - time 0:05:03.211680\n"
     ]
    },
    {
     "name": "stderr",
     "output_type": "stream",
     "text": [
      "2019-07-19 14:53:57,267 : INFO : wrote 68 events to disk\n",
      "2019-07-19 14:54:17,735 : INFO : wrote 68 events to disk\n",
      "2019-07-19 14:54:37,831 : INFO : wrote 66 events to disk\n",
      "2019-07-19 14:54:58,242 : INFO : wrote 68 events to disk\n",
      "2019-07-19 14:55:18,821 : INFO : wrote 68 events to disk\n",
      "2019-07-19 14:55:39,263 : INFO : wrote 68 events to disk\n",
      "2019-07-19 14:55:59,796 : INFO : wrote 68 events to disk\n",
      "2019-07-19 14:56:20,372 : INFO : wrote 68 events to disk\n",
      "2019-07-19 14:56:40,414 : INFO : wrote 66 events to disk\n",
      "2019-07-19 14:57:01,021 : INFO : wrote 68 events to disk\n",
      "2019-07-19 14:57:21,521 : INFO : wrote 68 events to disk\n",
      "2019-07-19 14:57:42,117 : INFO : wrote 68 events to disk\n",
      "2019-07-19 14:58:02,574 : INFO : wrote 68 events to disk\n",
      "2019-07-19 14:58:23,186 : INFO : wrote 68 events to disk\n",
      "2019-07-19 14:58:43,693 : INFO : wrote 68 events to disk\n"
     ]
    },
    {
     "name": "stdout",
     "output_type": "stream",
     "text": [
      "[Epoch 0 Batch 2500/28760] loss=0.6416, lr=0.0000050, acc=0.640 - time 0:05:02.190387\n"
     ]
    },
    {
     "name": "stderr",
     "output_type": "stream",
     "text": [
      "2019-07-19 14:59:04,293 : INFO : wrote 68 events to disk\n",
      "2019-07-19 14:59:24,317 : INFO : wrote 66 events to disk\n",
      "2019-07-19 14:59:44,836 : INFO : wrote 68 events to disk\n",
      "2019-07-19 15:00:05,381 : INFO : wrote 68 events to disk\n",
      "2019-07-19 15:00:25,752 : INFO : wrote 68 events to disk\n",
      "2019-07-19 15:00:46,325 : INFO : wrote 68 events to disk\n",
      "2019-07-19 15:01:06,346 : INFO : wrote 66 events to disk\n",
      "2019-07-19 15:01:26,936 : INFO : wrote 68 events to disk\n",
      "2019-07-19 15:01:46,962 : INFO : wrote 66 events to disk\n",
      "2019-07-19 15:02:07,533 : INFO : wrote 68 events to disk\n",
      "2019-07-19 15:02:27,577 : INFO : wrote 66 events to disk\n",
      "2019-07-19 15:02:47,609 : INFO : wrote 66 events to disk\n",
      "2019-07-19 15:03:08,104 : INFO : wrote 68 events to disk\n",
      "2019-07-19 15:03:28,729 : INFO : wrote 68 events to disk\n"
     ]
    },
    {
     "name": "stdout",
     "output_type": "stream",
     "text": [
      "[Epoch 0 Batch 3000/28760] loss=0.6268, lr=0.0000050, acc=0.655 - time 0:05:02.585831\n"
     ]
    },
    {
     "name": "stderr",
     "output_type": "stream",
     "text": [
      "2019-07-19 15:03:49,319 : INFO : wrote 68 events to disk\n",
      "2019-07-19 15:04:09,334 : INFO : wrote 66 events to disk\n",
      "2019-07-19 15:04:29,915 : INFO : wrote 68 events to disk\n",
      "2019-07-19 15:04:50,067 : INFO : wrote 66 events to disk\n",
      "2019-07-19 15:05:10,645 : INFO : wrote 68 events to disk\n",
      "2019-07-19 15:05:30,665 : INFO : wrote 66 events to disk\n",
      "2019-07-19 15:05:51,194 : INFO : wrote 68 events to disk\n",
      "2019-07-19 15:06:11,214 : INFO : wrote 66 events to disk\n",
      "2019-07-19 15:06:31,731 : INFO : wrote 68 events to disk\n",
      "2019-07-19 15:06:52,047 : INFO : wrote 66 events to disk\n",
      "2019-07-19 15:07:12,338 : INFO : wrote 66 events to disk\n",
      "2019-07-19 15:07:32,866 : INFO : wrote 68 events to disk\n",
      "2019-07-19 15:07:53,434 : INFO : wrote 68 events to disk\n",
      "2019-07-19 15:08:13,833 : INFO : wrote 68 events to disk\n",
      "2019-07-19 15:08:34,370 : INFO : wrote 68 events to disk\n"
     ]
    },
    {
     "name": "stdout",
     "output_type": "stream",
     "text": [
      "[Epoch 0 Batch 3500/28760] loss=0.6177, lr=0.0000050, acc=0.673 - time 0:05:03.115297\n"
     ]
    },
    {
     "name": "stderr",
     "output_type": "stream",
     "text": [
      "2019-07-19 15:08:54,904 : INFO : wrote 68 events to disk\n",
      "2019-07-19 15:09:15,431 : INFO : wrote 68 events to disk\n",
      "2019-07-19 15:09:35,966 : INFO : wrote 68 events to disk\n",
      "2019-07-19 15:09:56,513 : INFO : wrote 68 events to disk\n",
      "2019-07-19 15:10:17,040 : INFO : wrote 68 events to disk\n",
      "2019-07-19 15:10:37,629 : INFO : wrote 68 events to disk\n",
      "2019-07-19 15:10:57,987 : INFO : wrote 68 events to disk\n",
      "2019-07-19 15:11:18,525 : INFO : wrote 68 events to disk\n",
      "2019-07-19 15:11:39,117 : INFO : wrote 68 events to disk\n",
      "2019-07-19 15:11:59,640 : INFO : wrote 68 events to disk\n",
      "2019-07-19 15:12:19,652 : INFO : wrote 66 events to disk\n",
      "2019-07-19 15:12:40,131 : INFO : wrote 68 events to disk\n",
      "2019-07-19 15:13:00,637 : INFO : wrote 68 events to disk\n",
      "2019-07-19 15:13:21,203 : INFO : wrote 68 events to disk\n",
      "2019-07-19 15:13:41,633 : INFO : wrote 68 events to disk\n"
     ]
    },
    {
     "name": "stdout",
     "output_type": "stream",
     "text": [
      "[Epoch 0 Batch 4000/28760] loss=0.6772, lr=0.0000050, acc=0.688 - time 0:05:01.861194\n"
     ]
    },
    {
     "name": "stderr",
     "output_type": "stream",
     "text": [
      "2019-07-19 15:14:02,131 : INFO : wrote 68 events to disk\n",
      "2019-07-19 15:14:22,659 : INFO : wrote 68 events to disk\n",
      "2019-07-19 15:14:42,677 : INFO : wrote 66 events to disk\n",
      "2019-07-19 15:15:03,277 : INFO : wrote 68 events to disk\n",
      "2019-07-19 15:15:23,705 : INFO : wrote 68 events to disk\n",
      "2019-07-19 15:15:44,230 : INFO : wrote 68 events to disk\n",
      "2019-07-19 15:16:04,794 : INFO : wrote 68 events to disk\n",
      "2019-07-19 15:16:25,261 : INFO : wrote 68 events to disk\n",
      "2019-07-19 15:16:45,821 : INFO : wrote 68 events to disk\n",
      "2019-07-19 15:17:05,907 : INFO : wrote 66 events to disk\n",
      "2019-07-19 15:17:25,956 : INFO : wrote 66 events to disk\n",
      "2019-07-19 15:17:46,044 : INFO : wrote 66 events to disk\n",
      "2019-07-19 15:18:06,540 : INFO : wrote 68 events to disk\n",
      "2019-07-19 15:18:27,018 : INFO : wrote 68 events to disk\n",
      "2019-07-19 15:18:47,607 : INFO : wrote 68 events to disk\n"
     ]
    },
    {
     "name": "stdout",
     "output_type": "stream",
     "text": [
      "[Epoch 0 Batch 4500/28760] loss=0.5917, lr=0.0000050, acc=0.703 - time 0:05:02.314029\n"
     ]
    },
    {
     "name": "stderr",
     "output_type": "stream",
     "text": [
      "2019-07-19 15:19:08,046 : INFO : wrote 68 events to disk\n",
      "2019-07-19 15:19:28,080 : INFO : wrote 66 events to disk\n",
      "2019-07-19 15:19:48,607 : INFO : wrote 68 events to disk\n",
      "2019-07-19 15:20:09,146 : INFO : wrote 68 events to disk\n",
      "2019-07-19 15:20:29,608 : INFO : wrote 68 events to disk\n",
      "2019-07-19 15:20:50,160 : INFO : wrote 68 events to disk\n",
      "2019-07-19 15:21:10,251 : INFO : wrote 66 events to disk\n",
      "2019-07-19 15:21:30,808 : INFO : wrote 68 events to disk\n",
      "2019-07-19 15:21:51,424 : INFO : wrote 68 events to disk\n",
      "2019-07-19 15:22:11,833 : INFO : wrote 68 events to disk\n",
      "2019-07-19 15:22:32,411 : INFO : wrote 68 events to disk\n",
      "2019-07-19 15:22:52,688 : INFO : wrote 66 events to disk\n",
      "2019-07-19 15:23:13,024 : INFO : wrote 66 events to disk\n",
      "2019-07-19 15:23:33,496 : INFO : wrote 68 events to disk\n",
      "2019-07-19 15:23:53,513 : INFO : wrote 66 events to disk\n"
     ]
    },
    {
     "name": "stdout",
     "output_type": "stream",
     "text": [
      "[Epoch 0 Batch 5000/28760] loss=0.5094, lr=0.0000050, acc=0.717 - time 0:05:02.965085\n"
     ]
    },
    {
     "name": "stderr",
     "output_type": "stream",
     "text": [
      "2019-07-19 15:24:13,596 : INFO : wrote 66 events to disk\n",
      "2019-07-19 15:24:34,174 : INFO : wrote 68 events to disk\n",
      "2019-07-19 15:24:54,715 : INFO : wrote 68 events to disk\n",
      "2019-07-19 15:25:14,787 : INFO : wrote 66 events to disk\n",
      "2019-07-19 15:25:35,283 : INFO : wrote 68 events to disk\n",
      "2019-07-19 15:25:55,828 : INFO : wrote 68 events to disk\n",
      "2019-07-19 15:26:15,910 : INFO : wrote 66 events to disk\n",
      "2019-07-19 15:26:36,468 : INFO : wrote 68 events to disk\n",
      "2019-07-19 15:26:56,921 : INFO : wrote 68 events to disk\n",
      "2019-07-19 15:27:17,399 : INFO : wrote 68 events to disk\n",
      "2019-07-19 15:27:38,021 : INFO : wrote 68 events to disk\n",
      "2019-07-19 15:27:58,583 : INFO : wrote 68 events to disk\n",
      "2019-07-19 15:28:18,586 : INFO : wrote 66 events to disk\n",
      "2019-07-19 15:28:38,592 : INFO : wrote 66 events to disk\n",
      "2019-07-19 15:28:58,689 : INFO : wrote 66 events to disk\n"
     ]
    },
    {
     "name": "stdout",
     "output_type": "stream",
     "text": [
      "[Epoch 0 Batch 5500/28760] loss=0.6032, lr=0.0000050, acc=0.726 - time 0:05:02.740338\n"
     ]
    },
    {
     "name": "stderr",
     "output_type": "stream",
     "text": [
      "2019-07-19 15:29:19,200 : INFO : wrote 68 events to disk\n",
      "2019-07-19 15:29:39,203 : INFO : wrote 66 events to disk\n",
      "2019-07-19 15:29:59,734 : INFO : wrote 68 events to disk\n",
      "2019-07-19 15:30:19,807 : INFO : wrote 66 events to disk\n",
      "2019-07-19 15:30:40,380 : INFO : wrote 68 events to disk\n",
      "2019-07-19 15:31:00,961 : INFO : wrote 68 events to disk\n",
      "2019-07-19 15:31:21,469 : INFO : wrote 68 events to disk\n",
      "2019-07-19 15:31:42,043 : INFO : wrote 68 events to disk\n",
      "2019-07-19 15:32:02,509 : INFO : wrote 68 events to disk\n",
      "2019-07-19 15:32:23,094 : INFO : wrote 68 events to disk\n",
      "2019-07-19 15:32:43,559 : INFO : wrote 68 events to disk\n",
      "2019-07-19 15:33:04,142 : INFO : wrote 68 events to disk\n",
      "2019-07-19 15:33:24,674 : INFO : wrote 68 events to disk\n",
      "2019-07-19 15:33:45,176 : INFO : wrote 68 events to disk\n"
     ]
    },
    {
     "name": "stdout",
     "output_type": "stream",
     "text": [
      "[Epoch 0 Batch 6000/28760] loss=0.4883, lr=0.0000050, acc=0.736 - time 0:05:02.282633\n"
     ]
    },
    {
     "name": "stderr",
     "output_type": "stream",
     "text": [
      "2019-07-19 15:34:05,181 : INFO : wrote 66 events to disk\n",
      "2019-07-19 15:34:25,774 : INFO : wrote 68 events to disk\n",
      "2019-07-19 15:34:46,104 : INFO : wrote 68 events to disk\n",
      "2019-07-19 15:35:06,112 : INFO : wrote 66 events to disk\n",
      "2019-07-19 15:35:26,699 : INFO : wrote 68 events to disk\n",
      "2019-07-19 15:35:47,267 : INFO : wrote 68 events to disk\n",
      "2019-07-19 15:36:07,299 : INFO : wrote 66 events to disk\n",
      "2019-07-19 15:36:27,769 : INFO : wrote 68 events to disk\n",
      "2019-07-19 15:36:47,811 : INFO : wrote 66 events to disk\n",
      "2019-07-19 15:37:08,267 : INFO : wrote 68 events to disk\n",
      "2019-07-19 15:37:28,747 : INFO : wrote 68 events to disk\n",
      "2019-07-19 15:37:49,325 : INFO : wrote 68 events to disk\n",
      "2019-07-19 15:38:09,710 : INFO : wrote 68 events to disk\n",
      "2019-07-19 15:38:30,223 : INFO : wrote 68 events to disk\n",
      "2019-07-19 15:38:50,825 : INFO : wrote 68 events to disk\n"
     ]
    },
    {
     "name": "stdout",
     "output_type": "stream",
     "text": [
      "[Epoch 0 Batch 6500/28760] loss=0.4527, lr=0.0000050, acc=0.745 - time 0:05:01.957984\n"
     ]
    },
    {
     "name": "stderr",
     "output_type": "stream",
     "text": [
      "2019-07-19 15:39:11,370 : INFO : wrote 68 events to disk\n",
      "2019-07-19 15:39:31,933 : INFO : wrote 68 events to disk\n",
      "2019-07-19 15:39:51,991 : INFO : wrote 66 events to disk\n",
      "2019-07-19 15:40:12,172 : INFO : wrote 66 events to disk\n",
      "2019-07-19 15:40:32,565 : INFO : wrote 68 events to disk\n",
      "2019-07-19 15:40:52,578 : INFO : wrote 66 events to disk\n",
      "2019-07-19 15:41:13,177 : INFO : wrote 68 events to disk\n",
      "2019-07-19 15:41:33,212 : INFO : wrote 66 events to disk\n",
      "2019-07-19 15:41:53,799 : INFO : wrote 68 events to disk\n",
      "2019-07-19 15:42:14,234 : INFO : wrote 68 events to disk\n",
      "2019-07-19 15:42:34,725 : INFO : wrote 68 events to disk\n",
      "2019-07-19 15:42:54,835 : INFO : wrote 66 events to disk\n",
      "2019-07-19 15:43:15,191 : INFO : wrote 68 events to disk\n",
      "2019-07-19 15:43:35,679 : INFO : wrote 68 events to disk\n",
      "2019-07-19 15:43:55,682 : INFO : wrote 66 events to disk\n"
     ]
    },
    {
     "name": "stdout",
     "output_type": "stream",
     "text": [
      "[Epoch 0 Batch 7000/28760] loss=0.4549, lr=0.0000050, acc=0.752 - time 0:05:02.329106\n"
     ]
    },
    {
     "name": "stderr",
     "output_type": "stream",
     "text": [
      "2019-07-19 15:44:16,169 : INFO : wrote 68 events to disk\n",
      "2019-07-19 15:44:36,653 : INFO : wrote 68 events to disk\n",
      "2019-07-19 15:44:56,673 : INFO : wrote 66 events to disk\n",
      "2019-07-19 15:45:17,028 : INFO : wrote 66 events to disk\n",
      "2019-07-19 15:45:37,573 : INFO : wrote 68 events to disk\n",
      "2019-07-19 15:45:58,066 : INFO : wrote 68 events to disk\n",
      "2019-07-19 15:46:18,637 : INFO : wrote 68 events to disk\n",
      "2019-07-19 15:46:39,139 : INFO : wrote 68 events to disk\n",
      "2019-07-19 15:46:59,293 : INFO : wrote 66 events to disk\n",
      "2019-07-19 15:47:19,805 : INFO : wrote 66 events to disk\n",
      "2019-07-19 15:47:39,813 : INFO : wrote 66 events to disk\n",
      "2019-07-19 15:48:00,324 : INFO : wrote 68 events to disk\n",
      "2019-07-19 15:48:20,904 : INFO : wrote 68 events to disk\n",
      "2019-07-19 15:48:41,509 : INFO : wrote 68 events to disk\n",
      "2019-07-19 15:49:01,949 : INFO : wrote 68 events to disk\n"
     ]
    },
    {
     "name": "stdout",
     "output_type": "stream",
     "text": [
      "[Epoch 0 Batch 7500/28760] loss=0.4204, lr=0.0000050, acc=0.758 - time 0:05:03.328313\n"
     ]
    },
    {
     "name": "stderr",
     "output_type": "stream",
     "text": [
      "2019-07-19 15:49:22,501 : INFO : wrote 68 events to disk\n",
      "2019-07-19 15:49:42,983 : INFO : wrote 68 events to disk\n",
      "2019-07-19 15:50:03,542 : INFO : wrote 68 events to disk\n",
      "2019-07-19 15:50:24,156 : INFO : wrote 68 events to disk\n",
      "2019-07-19 15:50:44,723 : INFO : wrote 68 events to disk\n",
      "2019-07-19 15:51:04,961 : INFO : wrote 66 events to disk\n",
      "2019-07-19 15:51:25,536 : INFO : wrote 68 events to disk\n",
      "2019-07-19 15:51:45,540 : INFO : wrote 66 events to disk\n",
      "2019-07-19 15:52:05,631 : INFO : wrote 66 events to disk\n",
      "2019-07-19 15:52:26,233 : INFO : wrote 68 events to disk\n",
      "2019-07-19 15:52:46,641 : INFO : wrote 68 events to disk\n",
      "2019-07-19 15:53:07,168 : INFO : wrote 68 events to disk\n",
      "2019-07-19 15:53:27,192 : INFO : wrote 66 events to disk\n",
      "2019-07-19 15:53:47,325 : INFO : wrote 66 events to disk\n",
      "2019-07-19 15:54:07,847 : INFO : wrote 68 events to disk\n"
     ]
    },
    {
     "name": "stdout",
     "output_type": "stream",
     "text": [
      "[Epoch 0 Batch 8000/28760] loss=0.4285, lr=0.0000050, acc=0.765 - time 0:05:02.875815\n"
     ]
    },
    {
     "name": "stderr",
     "output_type": "stream",
     "text": [
      "2019-07-19 15:54:27,919 : INFO : wrote 66 events to disk\n",
      "2019-07-19 15:54:47,959 : INFO : wrote 66 events to disk\n",
      "2019-07-19 15:55:08,551 : INFO : wrote 68 events to disk\n",
      "2019-07-19 15:55:28,798 : INFO : wrote 66 events to disk\n",
      "2019-07-19 15:55:48,914 : INFO : wrote 66 events to disk\n",
      "2019-07-19 15:56:08,986 : INFO : wrote 66 events to disk\n",
      "2019-07-19 15:56:29,556 : INFO : wrote 68 events to disk\n",
      "2019-07-19 15:56:50,124 : INFO : wrote 68 events to disk\n",
      "2019-07-19 15:57:10,221 : INFO : wrote 66 events to disk\n",
      "2019-07-19 15:57:30,237 : INFO : wrote 66 events to disk\n",
      "2019-07-19 15:57:50,265 : INFO : wrote 66 events to disk\n",
      "2019-07-19 15:58:10,747 : INFO : wrote 68 events to disk\n",
      "2019-07-19 15:58:30,814 : INFO : wrote 66 events to disk\n",
      "2019-07-19 15:58:51,280 : INFO : wrote 68 events to disk\n",
      "2019-07-19 15:59:11,824 : INFO : wrote 68 events to disk\n"
     ]
    },
    {
     "name": "stdout",
     "output_type": "stream",
     "text": [
      "[Epoch 0 Batch 8500/28760] loss=0.4679, lr=0.0000050, acc=0.770 - time 0:05:03.410193\n"
     ]
    },
    {
     "name": "stderr",
     "output_type": "stream",
     "text": [
      "2019-07-19 15:59:31,923 : INFO : wrote 66 events to disk\n",
      "2019-07-19 15:59:52,469 : INFO : wrote 68 events to disk\n",
      "2019-07-19 16:00:12,498 : INFO : wrote 66 events to disk\n",
      "2019-07-19 16:00:33,138 : INFO : wrote 68 events to disk\n",
      "2019-07-19 16:00:53,187 : INFO : wrote 66 events to disk\n",
      "2019-07-19 16:01:13,701 : INFO : wrote 68 events to disk\n",
      "2019-07-19 16:01:34,290 : INFO : wrote 68 events to disk\n",
      "2019-07-19 16:01:54,788 : INFO : wrote 68 events to disk\n",
      "2019-07-19 16:02:15,283 : INFO : wrote 68 events to disk\n",
      "2019-07-19 16:02:35,839 : INFO : wrote 68 events to disk\n",
      "2019-07-19 16:02:56,371 : INFO : wrote 68 events to disk\n",
      "2019-07-19 16:03:16,930 : INFO : wrote 68 events to disk\n",
      "2019-07-19 16:03:37,459 : INFO : wrote 68 events to disk\n",
      "2019-07-19 16:03:57,546 : INFO : wrote 66 events to disk\n",
      "2019-07-19 16:04:17,989 : INFO : wrote 68 events to disk\n"
     ]
    },
    {
     "name": "stdout",
     "output_type": "stream",
     "text": [
      "[Epoch 0 Batch 9000/28760] loss=0.4684, lr=0.0000050, acc=0.774 - time 0:05:02.551948\n"
     ]
    },
    {
     "name": "stderr",
     "output_type": "stream",
     "text": [
      "2019-07-19 16:04:38,023 : INFO : wrote 66 events to disk\n",
      "2019-07-19 16:04:58,177 : INFO : wrote 66 events to disk\n",
      "2019-07-19 16:05:18,198 : INFO : wrote 66 events to disk\n",
      "2019-07-19 16:05:38,724 : INFO : wrote 68 events to disk\n",
      "2019-07-19 16:05:59,245 : INFO : wrote 68 events to disk\n",
      "2019-07-19 16:06:19,809 : INFO : wrote 68 events to disk\n",
      "2019-07-19 16:06:40,232 : INFO : wrote 68 events to disk\n",
      "2019-07-19 16:07:00,720 : INFO : wrote 68 events to disk\n",
      "2019-07-19 16:07:20,731 : INFO : wrote 66 events to disk\n",
      "2019-07-19 16:07:41,309 : INFO : wrote 68 events to disk\n",
      "2019-07-19 16:08:01,729 : INFO : wrote 68 events to disk\n",
      "2019-07-19 16:08:22,260 : INFO : wrote 68 events to disk\n",
      "2019-07-19 16:08:42,699 : INFO : wrote 68 events to disk\n",
      "2019-07-19 16:09:03,270 : INFO : wrote 68 events to disk\n"
     ]
    },
    {
     "name": "stdout",
     "output_type": "stream",
     "text": [
      "[Epoch 0 Batch 9500/28760] loss=0.4516, lr=0.0000050, acc=0.778 - time 0:05:02.165546\n"
     ]
    },
    {
     "name": "stderr",
     "output_type": "stream",
     "text": [
      "2019-07-19 16:09:23,815 : INFO : wrote 68 events to disk\n",
      "2019-07-19 16:09:44,326 : INFO : wrote 68 events to disk\n",
      "2019-07-19 16:10:04,776 : INFO : wrote 68 events to disk\n",
      "2019-07-19 16:10:25,268 : INFO : wrote 68 events to disk\n",
      "2019-07-19 16:10:45,807 : INFO : wrote 68 events to disk\n",
      "2019-07-19 16:11:06,379 : INFO : wrote 68 events to disk\n",
      "2019-07-19 16:11:26,446 : INFO : wrote 66 events to disk\n",
      "2019-07-19 16:11:46,929 : INFO : wrote 68 events to disk\n",
      "2019-07-19 16:12:07,333 : INFO : wrote 68 events to disk\n",
      "2019-07-19 16:12:27,766 : INFO : wrote 68 events to disk\n",
      "2019-07-19 16:12:47,865 : INFO : wrote 66 events to disk\n",
      "2019-07-19 16:13:07,877 : INFO : wrote 66 events to disk\n",
      "2019-07-19 16:13:27,933 : INFO : wrote 66 events to disk\n",
      "2019-07-19 16:13:47,979 : INFO : wrote 66 events to disk\n",
      "2019-07-19 16:14:08,560 : INFO : wrote 68 events to disk\n"
     ]
    },
    {
     "name": "stdout",
     "output_type": "stream",
     "text": [
      "[Epoch 0 Batch 10000/28760] loss=0.4017, lr=0.0000050, acc=0.783 - time 0:05:02.334220\n"
     ]
    },
    {
     "name": "stderr",
     "output_type": "stream",
     "text": [
      "2019-07-19 16:14:29,126 : INFO : wrote 68 events to disk\n",
      "2019-07-19 16:14:49,671 : INFO : wrote 68 events to disk\n",
      "2019-07-19 16:15:10,101 : INFO : wrote 68 events to disk\n",
      "2019-07-19 16:15:30,103 : INFO : wrote 66 events to disk\n",
      "2019-07-19 16:15:50,561 : INFO : wrote 68 events to disk\n",
      "2019-07-19 16:16:10,606 : INFO : wrote 66 events to disk\n",
      "2019-07-19 16:16:31,139 : INFO : wrote 68 events to disk\n",
      "2019-07-19 16:16:51,732 : INFO : wrote 68 events to disk\n",
      "2019-07-19 16:17:12,275 : INFO : wrote 68 events to disk\n",
      "2019-07-19 16:17:32,838 : INFO : wrote 68 events to disk\n",
      "2019-07-19 16:17:53,435 : INFO : wrote 68 events to disk\n",
      "2019-07-19 16:18:13,930 : INFO : wrote 68 events to disk\n",
      "2019-07-19 16:18:34,492 : INFO : wrote 68 events to disk\n",
      "2019-07-19 16:18:55,079 : INFO : wrote 68 events to disk\n",
      "2019-07-19 16:19:15,557 : INFO : wrote 68 events to disk\n"
     ]
    },
    {
     "name": "stdout",
     "output_type": "stream",
     "text": [
      "[Epoch 0 Batch 10500/28760] loss=0.4177, lr=0.0000050, acc=0.787 - time 0:05:02.104384\n"
     ]
    },
    {
     "name": "stderr",
     "output_type": "stream",
     "text": [
      "2019-07-19 16:19:35,569 : INFO : wrote 66 events to disk\n",
      "2019-07-19 16:19:56,100 : INFO : wrote 68 events to disk\n",
      "2019-07-19 16:20:16,110 : INFO : wrote 66 events to disk\n",
      "2019-07-19 16:20:36,591 : INFO : wrote 68 events to disk\n",
      "2019-07-19 16:20:57,085 : INFO : wrote 68 events to disk\n",
      "2019-07-19 16:21:17,610 : INFO : wrote 68 events to disk\n",
      "2019-07-19 16:21:37,611 : INFO : wrote 66 events to disk\n",
      "2019-07-19 16:21:58,014 : INFO : wrote 68 events to disk\n",
      "2019-07-19 16:22:18,481 : INFO : wrote 68 events to disk\n",
      "2019-07-19 16:22:39,021 : INFO : wrote 68 events to disk\n",
      "2019-07-19 16:22:59,574 : INFO : wrote 68 events to disk\n",
      "2019-07-19 16:23:19,941 : INFO : wrote 68 events to disk\n",
      "2019-07-19 16:23:39,948 : INFO : wrote 66 events to disk\n",
      "2019-07-19 16:23:59,950 : INFO : wrote 66 events to disk\n",
      "2019-07-19 16:24:20,505 : INFO : wrote 68 events to disk\n"
     ]
    },
    {
     "name": "stdout",
     "output_type": "stream",
     "text": [
      "[Epoch 0 Batch 11000/28760] loss=0.4754, lr=0.0000050, acc=0.789 - time 0:05:01.961599\n"
     ]
    },
    {
     "name": "stderr",
     "output_type": "stream",
     "text": [
      "2019-07-19 16:24:41,089 : INFO : wrote 68 events to disk\n",
      "2019-07-19 16:25:01,638 : INFO : wrote 68 events to disk\n",
      "2019-07-19 16:25:21,670 : INFO : wrote 66 events to disk\n",
      "2019-07-19 16:25:42,129 : INFO : wrote 68 events to disk\n",
      "2019-07-19 16:26:02,195 : INFO : wrote 66 events to disk\n",
      "2019-07-19 16:26:22,207 : INFO : wrote 66 events to disk\n",
      "2019-07-19 16:26:42,278 : INFO : wrote 66 events to disk\n",
      "2019-07-19 16:27:02,767 : INFO : wrote 68 events to disk\n",
      "2019-07-19 16:27:22,797 : INFO : wrote 66 events to disk\n",
      "2019-07-19 16:27:43,334 : INFO : wrote 68 events to disk\n",
      "2019-07-19 16:28:03,856 : INFO : wrote 68 events to disk\n",
      "2019-07-19 16:28:23,942 : INFO : wrote 66 events to disk\n",
      "2019-07-19 16:28:43,977 : INFO : wrote 66 events to disk\n",
      "2019-07-19 16:29:04,471 : INFO : wrote 68 events to disk\n",
      "2019-07-19 16:29:25,023 : INFO : wrote 68 events to disk\n"
     ]
    },
    {
     "name": "stdout",
     "output_type": "stream",
     "text": [
      "[Epoch 0 Batch 11500/28760] loss=0.4016, lr=0.0000050, acc=0.793 - time 0:05:02.582645\n"
     ]
    },
    {
     "name": "stderr",
     "output_type": "stream",
     "text": [
      "2019-07-19 16:29:45,513 : INFO : wrote 68 events to disk\n",
      "2019-07-19 16:30:05,551 : INFO : wrote 66 events to disk\n",
      "2019-07-19 16:30:26,068 : INFO : wrote 68 events to disk\n",
      "2019-07-19 16:30:46,104 : INFO : wrote 66 events to disk\n",
      "2019-07-19 16:31:06,529 : INFO : wrote 68 events to disk\n",
      "2019-07-19 16:31:26,836 : INFO : wrote 68 events to disk\n",
      "2019-07-19 16:31:46,925 : INFO : wrote 66 events to disk\n",
      "2019-07-19 16:32:07,470 : INFO : wrote 68 events to disk\n",
      "2019-07-19 16:32:28,057 : INFO : wrote 68 events to disk\n",
      "2019-07-19 16:32:48,542 : INFO : wrote 68 events to disk\n",
      "2019-07-19 16:33:08,545 : INFO : wrote 66 events to disk\n",
      "2019-07-19 16:33:29,043 : INFO : wrote 68 events to disk\n",
      "2019-07-19 16:33:49,638 : INFO : wrote 68 events to disk\n",
      "2019-07-19 16:34:10,216 : INFO : wrote 68 events to disk\n",
      "2019-07-19 16:34:30,669 : INFO : wrote 68 events to disk\n"
     ]
    },
    {
     "name": "stdout",
     "output_type": "stream",
     "text": [
      "[Epoch 0 Batch 12000/28760] loss=0.4261, lr=0.0000050, acc=0.795 - time 0:05:02.077514\n"
     ]
    },
    {
     "name": "stderr",
     "output_type": "stream",
     "text": [
      "2019-07-19 16:34:50,751 : INFO : wrote 66 events to disk\n",
      "2019-07-19 16:35:11,339 : INFO : wrote 68 events to disk\n",
      "2019-07-19 16:35:31,381 : INFO : wrote 66 events to disk\n",
      "2019-07-19 16:35:51,944 : INFO : wrote 68 events to disk\n",
      "2019-07-19 16:36:12,529 : INFO : wrote 68 events to disk\n",
      "2019-07-19 16:36:32,956 : INFO : wrote 68 events to disk\n",
      "2019-07-19 16:36:53,486 : INFO : wrote 68 events to disk\n",
      "2019-07-19 16:37:13,922 : INFO : wrote 68 events to disk\n",
      "2019-07-19 16:37:34,038 : INFO : wrote 66 events to disk\n",
      "2019-07-19 16:37:54,634 : INFO : wrote 68 events to disk\n",
      "2019-07-19 16:38:15,041 : INFO : wrote 68 events to disk\n",
      "2019-07-19 16:38:35,624 : INFO : wrote 68 events to disk\n",
      "2019-07-19 16:38:56,103 : INFO : wrote 68 events to disk\n",
      "2019-07-19 16:39:16,123 : INFO : wrote 66 events to disk\n"
     ]
    },
    {
     "name": "stdout",
     "output_type": "stream",
     "text": [
      "[Epoch 0 Batch 12500/28760] loss=0.4019, lr=0.0000050, acc=0.798 - time 0:05:02.271931\n"
     ]
    },
    {
     "name": "stderr",
     "output_type": "stream",
     "text": [
      "2019-07-19 16:39:36,573 : INFO : wrote 68 events to disk\n",
      "2019-07-19 16:39:57,072 : INFO : wrote 68 events to disk\n",
      "2019-07-19 16:40:17,622 : INFO : wrote 68 events to disk\n",
      "2019-07-19 16:40:37,873 : INFO : wrote 68 events to disk\n",
      "2019-07-19 16:40:58,419 : INFO : wrote 68 events to disk\n",
      "2019-07-19 16:41:18,848 : INFO : wrote 68 events to disk\n",
      "2019-07-19 16:41:39,248 : INFO : wrote 68 events to disk\n",
      "2019-07-19 16:41:59,663 : INFO : wrote 68 events to disk\n",
      "2019-07-19 16:42:20,153 : INFO : wrote 68 events to disk\n",
      "2019-07-19 16:42:40,591 : INFO : wrote 68 events to disk\n",
      "2019-07-19 16:43:01,132 : INFO : wrote 68 events to disk\n",
      "2019-07-19 16:43:21,648 : INFO : wrote 68 events to disk\n",
      "2019-07-19 16:43:42,226 : INFO : wrote 68 events to disk\n",
      "2019-07-19 16:44:02,722 : INFO : wrote 68 events to disk\n",
      "2019-07-19 16:44:22,763 : INFO : wrote 66 events to disk\n"
     ]
    },
    {
     "name": "stdout",
     "output_type": "stream",
     "text": [
      "[Epoch 0 Batch 13000/28760] loss=0.4155, lr=0.0000050, acc=0.801 - time 0:05:01.294849\n"
     ]
    },
    {
     "name": "stderr",
     "output_type": "stream",
     "text": [
      "2019-07-19 16:44:43,210 : INFO : wrote 68 events to disk\n",
      "2019-07-19 16:45:03,666 : INFO : wrote 68 events to disk\n",
      "2019-07-19 16:45:24,159 : INFO : wrote 68 events to disk\n",
      "2019-07-19 16:45:44,762 : INFO : wrote 68 events to disk\n",
      "2019-07-19 16:46:05,019 : INFO : wrote 68 events to disk\n",
      "2019-07-19 16:46:25,555 : INFO : wrote 68 events to disk\n",
      "2019-07-19 16:46:46,101 : INFO : wrote 68 events to disk\n",
      "2019-07-19 16:47:06,607 : INFO : wrote 68 events to disk\n",
      "2019-07-19 16:47:27,121 : INFO : wrote 68 events to disk\n",
      "2019-07-19 16:47:47,148 : INFO : wrote 66 events to disk\n",
      "2019-07-19 16:48:07,152 : INFO : wrote 66 events to disk\n",
      "2019-07-19 16:48:27,647 : INFO : wrote 68 events to disk\n",
      "2019-07-19 16:48:47,668 : INFO : wrote 66 events to disk\n",
      "2019-07-19 16:49:08,186 : INFO : wrote 68 events to disk\n",
      "2019-07-19 16:49:28,641 : INFO : wrote 68 events to disk\n"
     ]
    },
    {
     "name": "stdout",
     "output_type": "stream",
     "text": [
      "[Epoch 0 Batch 13500/28760] loss=0.3503, lr=0.0000050, acc=0.804 - time 0:05:01.731175\n"
     ]
    },
    {
     "name": "stderr",
     "output_type": "stream",
     "text": [
      "2019-07-19 16:49:48,669 : INFO : wrote 66 events to disk\n",
      "2019-07-19 16:50:09,278 : INFO : wrote 68 events to disk\n",
      "2019-07-19 16:50:29,738 : INFO : wrote 68 events to disk\n",
      "2019-07-19 16:50:50,241 : INFO : wrote 68 events to disk\n",
      "2019-07-19 16:51:10,732 : INFO : wrote 68 events to disk\n",
      "2019-07-19 16:51:31,206 : INFO : wrote 68 events to disk\n",
      "2019-07-19 16:51:51,207 : INFO : wrote 66 events to disk\n",
      "2019-07-19 16:52:11,231 : INFO : wrote 66 events to disk\n",
      "2019-07-19 16:52:31,752 : INFO : wrote 68 events to disk\n",
      "2019-07-19 16:52:52,287 : INFO : wrote 68 events to disk\n",
      "2019-07-19 16:53:12,826 : INFO : wrote 68 events to disk\n",
      "2019-07-19 16:53:32,837 : INFO : wrote 66 events to disk\n",
      "2019-07-19 16:53:53,432 : INFO : wrote 68 events to disk\n",
      "2019-07-19 16:54:13,489 : INFO : wrote 66 events to disk\n",
      "2019-07-19 16:54:34,066 : INFO : wrote 68 events to disk\n"
     ]
    },
    {
     "name": "stdout",
     "output_type": "stream",
     "text": [
      "[Epoch 0 Batch 14000/28760] loss=0.4444, lr=0.0000050, acc=0.806 - time 0:05:02.344163\n"
     ]
    },
    {
     "name": "stderr",
     "output_type": "stream",
     "text": [
      "2019-07-19 16:54:54,114 : INFO : wrote 66 events to disk\n",
      "2019-07-19 16:55:14,135 : INFO : wrote 66 events to disk\n",
      "2019-07-19 16:55:34,683 : INFO : wrote 68 events to disk\n",
      "2019-07-19 16:55:55,244 : INFO : wrote 68 events to disk\n",
      "2019-07-19 16:56:15,317 : INFO : wrote 66 events to disk\n",
      "2019-07-19 16:56:35,836 : INFO : wrote 68 events to disk\n",
      "2019-07-19 16:56:56,257 : INFO : wrote 68 events to disk\n",
      "2019-07-19 16:57:16,270 : INFO : wrote 66 events to disk\n",
      "2019-07-19 16:57:36,864 : INFO : wrote 68 events to disk\n",
      "2019-07-19 16:57:57,311 : INFO : wrote 68 events to disk\n",
      "2019-07-19 16:58:17,806 : INFO : wrote 68 events to disk\n",
      "2019-07-19 16:58:38,370 : INFO : wrote 68 events to disk\n",
      "2019-07-19 16:58:58,875 : INFO : wrote 68 events to disk\n",
      "2019-07-19 16:59:19,337 : INFO : wrote 68 events to disk\n",
      "2019-07-19 16:59:39,782 : INFO : wrote 68 events to disk\n"
     ]
    },
    {
     "name": "stdout",
     "output_type": "stream",
     "text": [
      "[Epoch 0 Batch 14500/28760] loss=0.3547, lr=0.0000050, acc=0.808 - time 0:05:02.113546\n"
     ]
    },
    {
     "name": "stderr",
     "output_type": "stream",
     "text": [
      "2019-07-19 16:59:59,853 : INFO : wrote 66 events to disk\n",
      "2019-07-19 17:00:20,427 : INFO : wrote 68 events to disk\n",
      "2019-07-19 17:00:40,881 : INFO : wrote 68 events to disk\n",
      "2019-07-19 17:01:01,355 : INFO : wrote 68 events to disk\n",
      "2019-07-19 17:01:21,963 : INFO : wrote 68 events to disk\n",
      "2019-07-19 17:01:41,965 : INFO : wrote 66 events to disk\n",
      "2019-07-19 17:02:01,983 : INFO : wrote 66 events to disk\n",
      "2019-07-19 17:02:22,574 : INFO : wrote 68 events to disk\n",
      "2019-07-19 17:02:43,103 : INFO : wrote 68 events to disk\n",
      "2019-07-19 17:03:03,671 : INFO : wrote 68 events to disk\n",
      "2019-07-19 17:03:24,256 : INFO : wrote 68 events to disk\n",
      "2019-07-19 17:03:44,851 : INFO : wrote 68 events to disk\n",
      "2019-07-19 17:04:05,437 : INFO : wrote 68 events to disk\n",
      "2019-07-19 17:04:25,786 : INFO : wrote 68 events to disk\n"
     ]
    },
    {
     "name": "stdout",
     "output_type": "stream",
     "text": [
      "[Epoch 0 Batch 15000/28760] loss=0.3947, lr=0.0000050, acc=0.810 - time 0:05:02.353698\n"
     ]
    },
    {
     "name": "stderr",
     "output_type": "stream",
     "text": [
      "2019-07-19 17:04:46,353 : INFO : wrote 68 events to disk\n",
      "2019-07-19 17:05:06,887 : INFO : wrote 68 events to disk\n",
      "2019-07-19 17:05:27,383 : INFO : wrote 68 events to disk\n",
      "2019-07-19 17:05:47,935 : INFO : wrote 68 events to disk\n",
      "2019-07-19 17:06:07,938 : INFO : wrote 66 events to disk\n",
      "2019-07-19 17:06:28,520 : INFO : wrote 68 events to disk\n",
      "2019-07-19 17:06:48,647 : INFO : wrote 66 events to disk\n",
      "2019-07-19 17:07:08,651 : INFO : wrote 66 events to disk\n",
      "2019-07-19 17:07:28,947 : INFO : wrote 68 events to disk\n",
      "2019-07-19 17:07:48,988 : INFO : wrote 66 events to disk\n",
      "2019-07-19 17:08:09,052 : INFO : wrote 66 events to disk\n",
      "2019-07-19 17:08:29,062 : INFO : wrote 66 events to disk\n",
      "2019-07-19 17:08:49,147 : INFO : wrote 66 events to disk\n",
      "2019-07-19 17:09:09,148 : INFO : wrote 66 events to disk\n",
      "2019-07-19 17:09:29,627 : INFO : wrote 68 events to disk\n"
     ]
    },
    {
     "name": "stdout",
     "output_type": "stream",
     "text": [
      "[Epoch 0 Batch 15500/28760] loss=0.3803, lr=0.0000050, acc=0.812 - time 0:05:02.863420\n"
     ]
    },
    {
     "name": "stderr",
     "output_type": "stream",
     "text": [
      "2019-07-19 17:09:49,863 : INFO : wrote 66 events to disk\n",
      "2019-07-19 17:10:10,114 : INFO : wrote 66 events to disk\n",
      "2019-07-19 17:10:30,198 : INFO : wrote 66 events to disk\n",
      "2019-07-19 17:10:50,338 : INFO : wrote 66 events to disk\n",
      "2019-07-19 17:11:10,411 : INFO : wrote 66 events to disk\n",
      "2019-07-19 17:11:30,457 : INFO : wrote 66 events to disk\n",
      "2019-07-19 17:11:50,649 : INFO : wrote 66 events to disk\n",
      "2019-07-19 17:12:10,815 : INFO : wrote 66 events to disk\n",
      "2019-07-19 17:12:30,883 : INFO : wrote 66 events to disk\n",
      "2019-07-19 17:12:51,435 : INFO : wrote 68 events to disk\n",
      "2019-07-19 17:13:11,903 : INFO : wrote 68 events to disk\n",
      "2019-07-19 17:13:32,356 : INFO : wrote 68 events to disk\n",
      "2019-07-19 17:13:52,711 : INFO : wrote 68 events to disk\n",
      "2019-07-19 17:14:13,121 : INFO : wrote 68 events to disk\n",
      "2019-07-19 17:14:33,213 : INFO : wrote 66 events to disk\n"
     ]
    },
    {
     "name": "stdout",
     "output_type": "stream",
     "text": [
      "[Epoch 0 Batch 16000/28760] loss=0.4503, lr=0.0000050, acc=0.813 - time 0:05:03.277349\n"
     ]
    },
    {
     "name": "stderr",
     "output_type": "stream",
     "text": [
      "2019-07-19 17:14:53,698 : INFO : wrote 68 events to disk\n",
      "2019-07-19 17:15:14,182 : INFO : wrote 68 events to disk\n",
      "2019-07-19 17:15:34,742 : INFO : wrote 68 events to disk\n",
      "2019-07-19 17:15:55,231 : INFO : wrote 68 events to disk\n",
      "2019-07-19 17:16:15,238 : INFO : wrote 66 events to disk\n",
      "2019-07-19 17:16:35,810 : INFO : wrote 68 events to disk\n",
      "2019-07-19 17:16:56,208 : INFO : wrote 68 events to disk\n",
      "2019-07-19 17:17:16,723 : INFO : wrote 68 events to disk\n",
      "2019-07-19 17:17:36,760 : INFO : wrote 66 events to disk\n",
      "2019-07-19 17:17:57,342 : INFO : wrote 68 events to disk\n",
      "2019-07-19 17:18:17,494 : INFO : wrote 66 events to disk\n",
      "2019-07-19 17:18:38,015 : INFO : wrote 68 events to disk\n",
      "2019-07-19 17:18:58,468 : INFO : wrote 68 events to disk\n",
      "2019-07-19 17:19:18,971 : INFO : wrote 68 events to disk\n",
      "2019-07-19 17:19:39,534 : INFO : wrote 68 events to disk\n"
     ]
    },
    {
     "name": "stdout",
     "output_type": "stream",
     "text": [
      "[Epoch 0 Batch 16500/28760] loss=0.4080, lr=0.0000050, acc=0.815 - time 0:05:02.232898\n"
     ]
    },
    {
     "name": "stderr",
     "output_type": "stream",
     "text": [
      "2019-07-19 17:19:59,592 : INFO : wrote 66 events to disk\n",
      "2019-07-19 17:20:19,626 : INFO : wrote 66 events to disk\n",
      "2019-07-19 17:20:40,060 : INFO : wrote 68 events to disk\n",
      "2019-07-19 17:21:00,656 : INFO : wrote 68 events to disk\n",
      "2019-07-19 17:21:20,707 : INFO : wrote 66 events to disk\n",
      "2019-07-19 17:21:41,268 : INFO : wrote 68 events to disk\n",
      "2019-07-19 17:22:01,789 : INFO : wrote 68 events to disk\n",
      "2019-07-19 17:22:22,302 : INFO : wrote 68 events to disk\n",
      "2019-07-19 17:22:42,773 : INFO : wrote 68 events to disk\n",
      "2019-07-19 17:23:03,263 : INFO : wrote 68 events to disk\n",
      "2019-07-19 17:23:23,354 : INFO : wrote 66 events to disk\n",
      "2019-07-19 17:23:43,744 : INFO : wrote 68 events to disk\n",
      "2019-07-19 17:24:04,237 : INFO : wrote 68 events to disk\n",
      "2019-07-19 17:24:24,658 : INFO : wrote 68 events to disk\n",
      "2019-07-19 17:24:44,720 : INFO : wrote 66 events to disk\n"
     ]
    },
    {
     "name": "stdout",
     "output_type": "stream",
     "text": [
      "[Epoch 0 Batch 17000/28760] loss=0.3934, lr=0.0000050, acc=0.816 - time 0:05:02.089814\n"
     ]
    },
    {
     "name": "stderr",
     "output_type": "stream",
     "text": [
      "2019-07-19 17:25:04,770 : INFO : wrote 66 events to disk\n",
      "2019-07-19 17:25:25,313 : INFO : wrote 68 events to disk\n",
      "2019-07-19 17:25:45,900 : INFO : wrote 68 events to disk\n",
      "2019-07-19 17:26:05,920 : INFO : wrote 66 events to disk\n",
      "2019-07-19 17:26:25,960 : INFO : wrote 66 events to disk\n",
      "2019-07-19 17:26:46,433 : INFO : wrote 68 events to disk\n",
      "2019-07-19 17:27:06,977 : INFO : wrote 68 events to disk\n",
      "2019-07-19 17:27:27,508 : INFO : wrote 68 events to disk\n",
      "2019-07-19 17:27:48,113 : INFO : wrote 68 events to disk\n",
      "2019-07-19 17:28:08,691 : INFO : wrote 68 events to disk\n",
      "2019-07-19 17:28:29,255 : INFO : wrote 68 events to disk\n",
      "2019-07-19 17:28:49,681 : INFO : wrote 68 events to disk\n",
      "2019-07-19 17:29:10,283 : INFO : wrote 68 events to disk\n",
      "2019-07-19 17:29:30,879 : INFO : wrote 68 events to disk\n",
      "2019-07-19 17:29:50,899 : INFO : wrote 66 events to disk\n"
     ]
    },
    {
     "name": "stdout",
     "output_type": "stream",
     "text": [
      "[Epoch 0 Batch 17500/28760] loss=0.4462, lr=0.0000050, acc=0.817 - time 0:05:02.592588\n"
     ]
    },
    {
     "name": "stderr",
     "output_type": "stream",
     "text": [
      "2019-07-19 17:30:11,298 : INFO : wrote 68 events to disk\n",
      "2019-07-19 17:30:31,869 : INFO : wrote 68 events to disk\n",
      "2019-07-19 17:30:52,448 : INFO : wrote 68 events to disk\n",
      "2019-07-19 17:31:13,047 : INFO : wrote 68 events to disk\n",
      "2019-07-19 17:31:33,622 : INFO : wrote 68 events to disk\n",
      "2019-07-19 17:31:54,210 : INFO : wrote 68 events to disk\n",
      "2019-07-19 17:32:14,757 : INFO : wrote 68 events to disk\n",
      "2019-07-19 17:32:35,167 : INFO : wrote 68 events to disk\n",
      "2019-07-19 17:32:55,194 : INFO : wrote 66 events to disk\n",
      "2019-07-19 17:33:15,786 : INFO : wrote 68 events to disk\n",
      "2019-07-19 17:33:35,835 : INFO : wrote 66 events to disk\n",
      "2019-07-19 17:33:56,384 : INFO : wrote 68 events to disk\n",
      "2019-07-19 17:34:16,948 : INFO : wrote 68 events to disk\n",
      "2019-07-19 17:34:36,966 : INFO : wrote 66 events to disk\n",
      "2019-07-19 17:34:57,382 : INFO : wrote 68 events to disk\n"
     ]
    },
    {
     "name": "stdout",
     "output_type": "stream",
     "text": [
      "[Epoch 0 Batch 18000/28760] loss=0.3872, lr=0.0000050, acc=0.819 - time 0:05:02.208042\n"
     ]
    },
    {
     "name": "stderr",
     "output_type": "stream",
     "text": [
      "2019-07-19 17:35:17,405 : INFO : wrote 66 events to disk\n",
      "2019-07-19 17:35:37,928 : INFO : wrote 68 events to disk\n",
      "2019-07-19 17:35:58,377 : INFO : wrote 68 events to disk\n",
      "2019-07-19 17:36:18,404 : INFO : wrote 66 events to disk\n",
      "2019-07-19 17:36:38,448 : INFO : wrote 66 events to disk\n",
      "2019-07-19 17:36:58,551 : INFO : wrote 66 events to disk\n",
      "2019-07-19 17:37:19,027 : INFO : wrote 68 events to disk\n",
      "2019-07-19 17:37:39,448 : INFO : wrote 68 events to disk\n",
      "2019-07-19 17:38:00,013 : INFO : wrote 68 events to disk\n",
      "2019-07-19 17:38:20,562 : INFO : wrote 68 events to disk\n",
      "2019-07-19 17:38:40,633 : INFO : wrote 66 events to disk\n",
      "2019-07-19 17:39:01,058 : INFO : wrote 68 events to disk\n",
      "2019-07-19 17:39:21,569 : INFO : wrote 68 events to disk\n",
      "2019-07-19 17:39:41,680 : INFO : wrote 66 events to disk\n",
      "2019-07-19 17:40:01,686 : INFO : wrote 66 events to disk\n"
     ]
    },
    {
     "name": "stdout",
     "output_type": "stream",
     "text": [
      "[Epoch 0 Batch 18500/28760] loss=0.3905, lr=0.0000050, acc=0.820 - time 0:05:02.451691\n"
     ]
    },
    {
     "name": "stderr",
     "output_type": "stream",
     "text": [
      "2019-07-19 17:40:22,254 : INFO : wrote 68 events to disk\n",
      "2019-07-19 17:40:42,813 : INFO : wrote 68 events to disk\n",
      "2019-07-19 17:41:02,844 : INFO : wrote 66 events to disk\n",
      "2019-07-19 17:41:23,371 : INFO : wrote 68 events to disk\n",
      "2019-07-19 17:41:43,893 : INFO : wrote 68 events to disk\n",
      "2019-07-19 17:42:03,907 : INFO : wrote 66 events to disk\n",
      "2019-07-19 17:42:24,412 : INFO : wrote 68 events to disk\n",
      "2019-07-19 17:42:44,904 : INFO : wrote 68 events to disk\n",
      "2019-07-19 17:43:05,392 : INFO : wrote 68 events to disk\n",
      "2019-07-19 17:43:25,595 : INFO : wrote 66 events to disk\n",
      "2019-07-19 17:43:46,071 : INFO : wrote 68 events to disk\n",
      "2019-07-19 17:44:06,498 : INFO : wrote 68 events to disk\n",
      "2019-07-19 17:44:26,958 : INFO : wrote 68 events to disk\n",
      "2019-07-19 17:44:47,529 : INFO : wrote 68 events to disk\n"
     ]
    },
    {
     "name": "stdout",
     "output_type": "stream",
     "text": [
      "[Epoch 0 Batch 19000/28760] loss=0.4440, lr=0.0000050, acc=0.821 - time 0:05:02.109393\n"
     ]
    },
    {
     "name": "stderr",
     "output_type": "stream",
     "text": [
      "2019-07-19 17:45:08,030 : INFO : wrote 68 events to disk\n",
      "2019-07-19 17:45:28,140 : INFO : wrote 66 events to disk\n",
      "2019-07-19 17:45:48,607 : INFO : wrote 68 events to disk\n",
      "2019-07-19 17:46:09,251 : INFO : wrote 68 events to disk\n",
      "2019-07-19 17:46:29,764 : INFO : wrote 68 events to disk\n",
      "2019-07-19 17:46:50,266 : INFO : wrote 68 events to disk\n",
      "2019-07-19 17:47:10,800 : INFO : wrote 68 events to disk\n",
      "2019-07-19 17:47:31,338 : INFO : wrote 68 events to disk\n",
      "2019-07-19 17:47:51,380 : INFO : wrote 66 events to disk\n",
      "2019-07-19 17:48:11,455 : INFO : wrote 66 events to disk\n",
      "2019-07-19 17:48:31,478 : INFO : wrote 66 events to disk\n",
      "2019-07-19 17:48:51,591 : INFO : wrote 66 events to disk\n",
      "2019-07-19 17:49:12,048 : INFO : wrote 68 events to disk\n",
      "2019-07-19 17:49:32,552 : INFO : wrote 68 events to disk\n",
      "2019-07-19 17:49:53,103 : INFO : wrote 68 events to disk\n"
     ]
    },
    {
     "name": "stdout",
     "output_type": "stream",
     "text": [
      "[Epoch 0 Batch 19500/28760] loss=0.4181, lr=0.0000050, acc=0.823 - time 0:05:02.577457\n"
     ]
    },
    {
     "name": "stderr",
     "output_type": "stream",
     "text": [
      "2019-07-19 17:50:13,601 : INFO : wrote 68 events to disk\n",
      "2019-07-19 17:50:34,113 : INFO : wrote 68 events to disk\n",
      "2019-07-19 17:50:54,638 : INFO : wrote 68 events to disk\n",
      "2019-07-19 17:51:15,178 : INFO : wrote 68 events to disk\n",
      "2019-07-19 17:51:35,223 : INFO : wrote 66 events to disk\n",
      "2019-07-19 17:51:55,796 : INFO : wrote 68 events to disk\n",
      "2019-07-19 17:52:16,328 : INFO : wrote 68 events to disk\n",
      "2019-07-19 17:52:36,869 : INFO : wrote 68 events to disk\n",
      "2019-07-19 17:52:57,369 : INFO : wrote 68 events to disk\n",
      "2019-07-19 17:53:17,382 : INFO : wrote 66 events to disk\n",
      "2019-07-19 17:53:37,864 : INFO : wrote 68 events to disk\n",
      "2019-07-19 17:53:58,447 : INFO : wrote 68 events to disk\n",
      "2019-07-19 17:54:18,571 : INFO : wrote 66 events to disk\n",
      "2019-07-19 17:54:38,587 : INFO : wrote 66 events to disk\n",
      "2019-07-19 17:54:58,664 : INFO : wrote 66 events to disk\n"
     ]
    },
    {
     "name": "stdout",
     "output_type": "stream",
     "text": [
      "[Epoch 0 Batch 20000/28760] loss=0.4669, lr=0.0000050, acc=0.823 - time 0:05:02.589052\n"
     ]
    },
    {
     "name": "stderr",
     "output_type": "stream",
     "text": [
      "2019-07-19 17:55:18,683 : INFO : wrote 66 events to disk\n",
      "2019-07-19 17:55:39,093 : INFO : wrote 68 events to disk\n",
      "2019-07-19 17:55:59,420 : INFO : wrote 68 events to disk\n",
      "2019-07-19 17:56:19,974 : INFO : wrote 68 events to disk\n",
      "2019-07-19 17:56:40,579 : INFO : wrote 68 events to disk\n",
      "2019-07-19 17:57:00,619 : INFO : wrote 66 events to disk\n",
      "2019-07-19 17:57:21,221 : INFO : wrote 68 events to disk\n",
      "2019-07-19 17:57:41,672 : INFO : wrote 68 events to disk\n",
      "2019-07-19 17:58:02,180 : INFO : wrote 68 events to disk\n",
      "2019-07-19 17:58:22,699 : INFO : wrote 68 events to disk\n",
      "2019-07-19 17:58:43,137 : INFO : wrote 68 events to disk\n",
      "2019-07-19 17:59:03,152 : INFO : wrote 66 events to disk\n",
      "2019-07-19 17:59:23,741 : INFO : wrote 68 events to disk\n",
      "2019-07-19 17:59:44,132 : INFO : wrote 68 events to disk\n",
      "2019-07-19 18:00:04,134 : INFO : wrote 66 events to disk\n",
      "2019-07-19 18:02:06,545 : INFO : wrote 68 events to disk\n",
      "2019-07-19 18:02:26,606 : INFO : wrote 66 events to disk\n",
      "2019-07-19 18:02:47,199 : INFO : wrote 68 events to disk\n",
      "2019-07-19 18:03:07,706 : INFO : wrote 68 events to disk\n",
      "2019-07-19 18:03:28,204 : INFO : wrote 68 events to disk\n",
      "2019-07-19 18:03:48,214 : INFO : wrote 66 events to disk\n",
      "2019-07-19 18:04:08,666 : INFO : wrote 68 events to disk\n",
      "2019-07-19 18:04:29,152 : INFO : wrote 68 events to disk\n",
      "2019-07-19 18:04:49,721 : INFO : wrote 68 events to disk\n",
      "2019-07-19 18:05:10,152 : INFO : wrote 68 events to disk\n"
     ]
    },
    {
     "name": "stdout",
     "output_type": "stream",
     "text": [
      "[Epoch 0 Batch 21000/28760] loss=0.4188, lr=0.0000050, acc=0.825 - time 0:05:02.447567\n"
     ]
    },
    {
     "name": "stderr",
     "output_type": "stream",
     "text": [
      "2019-07-19 18:05:30,592 : INFO : wrote 68 events to disk\n",
      "2019-07-19 18:05:50,659 : INFO : wrote 66 events to disk\n",
      "2019-07-19 18:06:11,240 : INFO : wrote 68 events to disk\n",
      "2019-07-19 18:06:31,753 : INFO : wrote 68 events to disk\n",
      "2019-07-19 18:06:51,780 : INFO : wrote 66 events to disk\n",
      "2019-07-19 18:07:12,226 : INFO : wrote 68 events to disk\n",
      "2019-07-19 18:07:32,279 : INFO : wrote 66 events to disk\n",
      "2019-07-19 18:07:52,822 : INFO : wrote 68 events to disk\n",
      "2019-07-19 18:08:13,262 : INFO : wrote 68 events to disk\n",
      "2019-07-19 18:08:33,721 : INFO : wrote 68 events to disk\n",
      "2019-07-19 18:08:53,783 : INFO : wrote 66 events to disk\n",
      "2019-07-19 18:09:14,317 : INFO : wrote 68 events to disk\n",
      "2019-07-19 18:09:34,864 : INFO : wrote 68 events to disk\n",
      "2019-07-19 18:09:55,364 : INFO : wrote 68 events to disk\n",
      "2019-07-19 18:10:15,961 : INFO : wrote 68 events to disk\n"
     ]
    },
    {
     "name": "stdout",
     "output_type": "stream",
     "text": [
      "[Epoch 0 Batch 21500/28760] loss=0.4087, lr=0.0000050, acc=0.826 - time 0:05:02.182532\n"
     ]
    },
    {
     "name": "stderr",
     "output_type": "stream",
     "text": [
      "2019-07-19 18:10:36,098 : INFO : wrote 66 events to disk\n",
      "2019-07-19 18:10:56,600 : INFO : wrote 68 events to disk\n",
      "2019-07-19 18:11:17,194 : INFO : wrote 68 events to disk\n",
      "2019-07-19 18:11:37,686 : INFO : wrote 68 events to disk\n",
      "2019-07-19 18:11:58,137 : INFO : wrote 68 events to disk\n",
      "2019-07-19 18:12:18,723 : INFO : wrote 68 events to disk\n",
      "2019-07-19 18:12:38,802 : INFO : wrote 66 events to disk\n",
      "2019-07-19 18:12:59,329 : INFO : wrote 68 events to disk\n",
      "2019-07-19 18:13:19,878 : INFO : wrote 68 events to disk\n",
      "2019-07-19 18:13:40,363 : INFO : wrote 68 events to disk\n",
      "2019-07-19 18:14:00,446 : INFO : wrote 66 events to disk\n",
      "2019-07-19 18:14:21,015 : INFO : wrote 68 events to disk\n",
      "2019-07-19 18:14:41,580 : INFO : wrote 68 events to disk\n",
      "2019-07-19 18:15:02,104 : INFO : wrote 68 events to disk\n"
     ]
    },
    {
     "name": "stdout",
     "output_type": "stream",
     "text": [
      "[Epoch 0 Batch 22000/28760] loss=0.4623, lr=0.0000050, acc=0.827 - time 0:05:02.426703\n"
     ]
    },
    {
     "name": "stderr",
     "output_type": "stream",
     "text": [
      "2019-07-19 18:15:22,625 : INFO : wrote 68 events to disk\n",
      "2019-07-19 18:15:42,644 : INFO : wrote 66 events to disk\n",
      "2019-07-19 18:16:03,218 : INFO : wrote 68 events to disk\n",
      "2019-07-19 18:16:23,798 : INFO : wrote 68 events to disk\n",
      "2019-07-19 18:16:43,898 : INFO : wrote 66 events to disk\n",
      "IOPub message rate exceeded.\n",
      "The notebook server will temporarily stop sending output\n",
      "to the client in order to avoid crashing it.\n",
      "To change this limit, set the config variable\n",
      "`--NotebookApp.iopub_msg_rate_limit`.\n",
      "\n",
      "Current values:\n",
      "NotebookApp.iopub_msg_rate_limit=1000.0 (msgs/sec)\n",
      "NotebookApp.rate_limit_window=3.0 (secs)\n",
      "\n",
      "2019-07-19 19:23:54,666 : INFO : wrote 66 events to disk\n",
      "2019-07-19 19:24:15,226 : INFO : wrote 68 events to disk\n",
      "2019-07-19 19:24:35,803 : INFO : wrote 68 events to disk\n",
      "2019-07-19 19:24:56,282 : INFO : wrote 68 events to disk\n",
      "2019-07-19 19:25:16,873 : INFO : wrote 68 events to disk\n",
      "2019-07-19 19:25:37,462 : INFO : wrote 68 events to disk\n",
      "2019-07-19 19:25:58,040 : INFO : wrote 68 events to disk\n",
      "2019-07-19 19:26:18,039 : INFO : wrote 66 events to disk\n",
      "2019-07-19 19:26:38,618 : INFO : wrote 68 events to disk\n",
      "2019-07-19 19:26:59,038 : INFO : wrote 68 events to disk\n",
      "2019-07-19 19:27:19,508 : INFO : wrote 68 events to disk\n",
      "2019-07-19 19:27:39,545 : INFO : wrote 66 events to disk\n",
      "2019-07-19 19:28:00,049 : INFO : wrote 68 events to disk\n",
      "2019-07-19 19:28:20,168 : INFO : wrote 66 events to disk\n"
     ]
    },
    {
     "name": "stdout",
     "output_type": "stream",
     "text": [
      "[Epoch 1 Batch 500/28760] loss=0.2848, lr=0.0000050, acc=0.905 - time 0:05:02.352024\n"
     ]
    },
    {
     "name": "stderr",
     "output_type": "stream",
     "text": [
      "2019-07-19 19:28:40,586 : INFO : wrote 68 events to disk\n",
      "2019-07-19 19:29:01,127 : INFO : wrote 68 events to disk\n",
      "2019-07-19 19:29:21,634 : INFO : wrote 68 events to disk\n",
      "2019-07-19 19:29:42,134 : INFO : wrote 68 events to disk\n",
      "2019-07-19 19:30:02,571 : INFO : wrote 68 events to disk\n",
      "2019-07-19 19:30:23,117 : INFO : wrote 68 events to disk\n",
      "2019-07-19 19:30:43,660 : INFO : wrote 68 events to disk\n",
      "2019-07-19 19:31:03,676 : INFO : wrote 66 events to disk\n",
      "2019-07-19 19:31:23,723 : INFO : wrote 66 events to disk\n",
      "2019-07-19 19:31:44,241 : INFO : wrote 68 events to disk\n",
      "2019-07-19 19:32:04,801 : INFO : wrote 68 events to disk\n",
      "2019-07-19 19:32:24,976 : INFO : wrote 66 events to disk\n",
      "2019-07-19 19:32:45,563 : INFO : wrote 68 events to disk\n",
      "2019-07-19 19:33:06,103 : INFO : wrote 68 events to disk\n",
      "2019-07-19 19:33:26,157 : INFO : wrote 66 events to disk\n"
     ]
    },
    {
     "name": "stdout",
     "output_type": "stream",
     "text": [
      "[Epoch 1 Batch 1000/28760] loss=0.3621, lr=0.0000050, acc=0.903 - time 0:05:02.395202\n"
     ]
    },
    {
     "name": "stderr",
     "output_type": "stream",
     "text": [
      "2019-07-19 19:33:46,684 : INFO : wrote 68 events to disk\n",
      "2019-07-19 19:34:07,263 : INFO : wrote 68 events to disk\n",
      "2019-07-19 19:34:27,681 : INFO : wrote 68 events to disk\n",
      "2019-07-19 19:34:48,192 : INFO : wrote 68 events to disk\n",
      "2019-07-19 19:35:08,652 : INFO : wrote 68 events to disk\n",
      "2019-07-19 19:35:28,776 : INFO : wrote 66 events to disk\n",
      "2019-07-19 19:35:49,312 : INFO : wrote 68 events to disk\n",
      "2019-07-19 19:36:09,867 : INFO : wrote 68 events to disk\n",
      "2019-07-19 19:36:30,378 : INFO : wrote 68 events to disk\n",
      "2019-07-19 19:36:50,409 : INFO : wrote 66 events to disk\n",
      "2019-07-19 19:37:10,989 : INFO : wrote 68 events to disk\n",
      "2019-07-19 19:37:31,517 : INFO : wrote 68 events to disk\n",
      "2019-07-19 19:37:51,523 : INFO : wrote 66 events to disk\n",
      "2019-07-19 19:38:12,053 : INFO : wrote 68 events to disk\n",
      "2019-07-19 19:38:32,494 : INFO : wrote 68 events to disk\n"
     ]
    },
    {
     "name": "stdout",
     "output_type": "stream",
     "text": [
      "[Epoch 1 Batch 1500/28760] loss=0.3355, lr=0.0000050, acc=0.906 - time 0:05:02.114518\n"
     ]
    },
    {
     "name": "stderr",
     "output_type": "stream",
     "text": [
      "IOPub message rate exceeded.\n",
      "The notebook server will temporarily stop sending output\n",
      "to the client in order to avoid crashing it.\n",
      "To change this limit, set the config variable\n",
      "`--NotebookApp.iopub_msg_rate_limit`.\n",
      "\n",
      "Current values:\n",
      "NotebookApp.iopub_msg_rate_limit=1000.0 (msgs/sec)\n",
      "NotebookApp.rate_limit_window=3.0 (secs)\n",
      "\n",
      "2019-07-19 20:25:45,622 : INFO : wrote 68 events to disk\n",
      "2019-07-19 20:26:06,123 : INFO : wrote 68 events to disk\n",
      "2019-07-19 20:26:26,144 : INFO : wrote 66 events to disk\n",
      "2019-07-19 20:26:46,652 : INFO : wrote 68 events to disk\n",
      "2019-07-19 20:27:07,219 : INFO : wrote 68 events to disk\n",
      "2019-07-19 20:27:27,720 : INFO : wrote 68 events to disk\n",
      "2019-07-19 20:27:47,774 : INFO : wrote 66 events to disk\n",
      "2019-07-19 20:28:07,858 : INFO : wrote 66 events to disk\n",
      "2019-07-19 20:28:28,373 : INFO : wrote 68 events to disk\n",
      "2019-07-19 20:28:48,960 : INFO : wrote 68 events to disk\n"
     ]
    },
    {
     "name": "stdout",
     "output_type": "stream",
     "text": [
      "[Epoch 1 Batch 6500/28760] loss=0.3058, lr=0.0000050, acc=0.908 - time 0:05:02.663985\n"
     ]
    },
    {
     "name": "stderr",
     "output_type": "stream",
     "text": [
      "2019-07-19 20:29:09,455 : INFO : wrote 68 events to disk\n",
      "2019-07-19 20:29:29,523 : INFO : wrote 66 events to disk\n",
      "2019-07-19 20:29:49,547 : INFO : wrote 66 events to disk\n",
      "2019-07-19 20:30:09,590 : INFO : wrote 66 events to disk\n",
      "2019-07-19 20:30:29,606 : INFO : wrote 66 events to disk\n",
      "2019-07-19 20:30:49,613 : INFO : wrote 66 events to disk\n",
      "2019-07-19 20:31:10,129 : INFO : wrote 68 events to disk\n",
      "2019-07-19 20:31:30,134 : INFO : wrote 66 events to disk\n",
      "2019-07-19 20:31:50,728 : INFO : wrote 68 events to disk\n",
      "2019-07-19 20:32:11,323 : INFO : wrote 68 events to disk\n",
      "2019-07-19 20:32:31,860 : INFO : wrote 68 events to disk\n",
      "2019-07-19 20:32:52,357 : INFO : wrote 68 events to disk\n",
      "2019-07-19 20:33:12,393 : INFO : wrote 66 events to disk\n",
      "2019-07-19 20:33:32,925 : INFO : wrote 68 events to disk\n",
      "2019-07-19 20:33:53,490 : INFO : wrote 68 events to disk\n"
     ]
    },
    {
     "name": "stdout",
     "output_type": "stream",
     "text": [
      "[Epoch 1 Batch 7000/28760] loss=0.3552, lr=0.0000050, acc=0.908 - time 0:05:02.815010\n"
     ]
    },
    {
     "name": "stderr",
     "output_type": "stream",
     "text": [
      "2019-07-19 20:34:13,527 : INFO : wrote 66 events to disk\n",
      "2019-07-19 20:34:33,994 : INFO : wrote 68 events to disk\n",
      "2019-07-19 20:34:54,267 : INFO : wrote 68 events to disk\n",
      "2019-07-19 20:35:14,274 : INFO : wrote 66 events to disk\n",
      "2019-07-19 20:35:34,311 : INFO : wrote 66 events to disk\n",
      "2019-07-19 20:35:54,825 : INFO : wrote 68 events to disk\n",
      "2019-07-19 20:36:14,874 : INFO : wrote 66 events to disk\n",
      "2019-07-19 20:36:34,930 : INFO : wrote 66 events to disk\n",
      "2019-07-19 20:36:54,977 : INFO : wrote 66 events to disk\n",
      "2019-07-19 20:37:15,559 : INFO : wrote 68 events to disk\n",
      "2019-07-19 20:37:36,111 : INFO : wrote 68 events to disk\n",
      "2019-07-19 20:37:56,632 : INFO : wrote 68 events to disk\n",
      "2019-07-19 20:38:17,177 : INFO : wrote 68 events to disk\n",
      "2019-07-19 20:38:37,180 : INFO : wrote 66 events to disk\n",
      "2019-07-19 20:38:57,724 : INFO : wrote 68 events to disk\n"
     ]
    },
    {
     "name": "stdout",
     "output_type": "stream",
     "text": [
      "[Epoch 1 Batch 7500/28760] loss=0.2941, lr=0.0000050, acc=0.909 - time 0:05:02.395802\n"
     ]
    },
    {
     "name": "stderr",
     "output_type": "stream",
     "text": [
      "2019-07-19 20:39:17,733 : INFO : wrote 66 events to disk\n",
      "2019-07-19 20:39:38,209 : INFO : wrote 68 events to disk\n",
      "2019-07-19 20:39:58,509 : INFO : wrote 68 events to disk\n",
      "2019-07-19 20:40:18,548 : INFO : wrote 66 events to disk\n",
      "2019-07-19 20:40:39,016 : INFO : wrote 68 events to disk\n",
      "2019-07-19 20:40:59,447 : INFO : wrote 68 events to disk\n",
      "2019-07-19 20:41:19,999 : INFO : wrote 68 events to disk\n",
      "2019-07-19 20:41:40,641 : INFO : wrote 68 events to disk\n",
      "2019-07-19 20:42:01,152 : INFO : wrote 68 events to disk\n",
      "2019-07-19 20:42:21,191 : INFO : wrote 66 events to disk\n",
      "2019-07-19 20:42:41,738 : INFO : wrote 68 events to disk\n",
      "2019-07-19 20:43:02,261 : INFO : wrote 68 events to disk\n",
      "2019-07-19 20:43:22,323 : INFO : wrote 66 events to disk\n",
      "2019-07-19 20:43:42,904 : INFO : wrote 68 events to disk\n",
      "2019-07-19 20:44:03,482 : INFO : wrote 68 events to disk\n"
     ]
    },
    {
     "name": "stdout",
     "output_type": "stream",
     "text": [
      "[Epoch 1 Batch 8000/28760] loss=0.3391, lr=0.0000050, acc=0.909 - time 0:05:02.104163\n"
     ]
    },
    {
     "name": "stderr",
     "output_type": "stream",
     "text": [
      "2019-07-19 20:44:23,849 : INFO : wrote 68 events to disk\n",
      "2019-07-19 20:44:43,862 : INFO : wrote 66 events to disk\n",
      "2019-07-19 20:45:04,434 : INFO : wrote 68 events to disk\n",
      "2019-07-19 20:45:24,905 : INFO : wrote 68 events to disk\n",
      "2019-07-19 20:45:45,406 : INFO : wrote 68 events to disk\n",
      "2019-07-19 20:46:05,450 : INFO : wrote 66 events to disk\n",
      "2019-07-19 20:46:25,454 : INFO : wrote 66 events to disk\n",
      "2019-07-19 20:46:45,488 : INFO : wrote 66 events to disk\n",
      "2019-07-19 20:47:05,979 : INFO : wrote 68 events to disk\n",
      "2019-07-19 20:47:26,408 : INFO : wrote 68 events to disk\n",
      "2019-07-19 20:47:46,894 : INFO : wrote 68 events to disk\n",
      "2019-07-19 20:48:07,377 : INFO : wrote 68 events to disk\n",
      "2019-07-19 20:48:27,865 : INFO : wrote 68 events to disk\n",
      "2019-07-19 20:48:48,352 : INFO : wrote 68 events to disk\n",
      "2019-07-19 20:49:08,908 : INFO : wrote 68 events to disk\n"
     ]
    },
    {
     "name": "stdout",
     "output_type": "stream",
     "text": [
      "[Epoch 1 Batch 8500/28760] loss=0.3351, lr=0.0000050, acc=0.909 - time 0:05:01.812115\n"
     ]
    },
    {
     "name": "stderr",
     "output_type": "stream",
     "text": [
      "2019-07-19 20:49:29,494 : INFO : wrote 68 events to disk\n",
      "2019-07-19 20:49:50,042 : INFO : wrote 68 events to disk\n",
      "2019-07-19 20:50:10,595 : INFO : wrote 68 events to disk\n",
      "2019-07-19 20:50:31,128 : INFO : wrote 68 events to disk\n",
      "2019-07-19 20:50:51,705 : INFO : wrote 68 events to disk\n",
      "2019-07-19 20:51:12,275 : INFO : wrote 68 events to disk\n",
      "2019-07-19 20:51:32,832 : INFO : wrote 68 events to disk\n",
      "2019-07-19 20:51:53,391 : INFO : wrote 68 events to disk\n",
      "2019-07-19 20:52:13,962 : INFO : wrote 68 events to disk\n",
      "2019-07-19 20:52:34,509 : INFO : wrote 68 events to disk\n",
      "2019-07-19 20:52:54,562 : INFO : wrote 66 events to disk\n",
      "2019-07-19 20:53:14,611 : INFO : wrote 66 events to disk\n",
      "2019-07-19 20:53:35,097 : INFO : wrote 68 events to disk\n",
      "2019-07-19 20:53:55,667 : INFO : wrote 68 events to disk\n"
     ]
    },
    {
     "name": "stdout",
     "output_type": "stream",
     "text": [
      "[Epoch 1 Batch 9000/28760] loss=0.3473, lr=0.0000050, acc=0.909 - time 0:05:02.452506\n"
     ]
    },
    {
     "name": "stderr",
     "output_type": "stream",
     "text": [
      "2019-07-19 20:54:16,210 : INFO : wrote 68 events to disk\n",
      "2019-07-19 20:54:36,793 : INFO : wrote 68 events to disk\n",
      "2019-07-19 20:54:57,334 : INFO : wrote 68 events to disk\n",
      "2019-07-19 20:55:17,749 : INFO : wrote 68 events to disk\n",
      "2019-07-19 20:55:38,317 : INFO : wrote 68 events to disk\n",
      "2019-07-19 20:55:58,348 : INFO : wrote 66 events to disk\n",
      "2019-07-19 20:56:18,917 : INFO : wrote 68 events to disk\n",
      "2019-07-19 20:56:39,347 : INFO : wrote 68 events to disk\n",
      "2019-07-19 20:56:59,830 : INFO : wrote 68 events to disk\n",
      "2019-07-19 20:57:20,422 : INFO : wrote 68 events to disk\n",
      "2019-07-19 20:57:40,434 : INFO : wrote 66 events to disk\n",
      "2019-07-19 20:58:00,848 : INFO : wrote 68 events to disk\n",
      "2019-07-19 20:58:21,364 : INFO : wrote 68 events to disk\n",
      "2019-07-19 21:00:44,449 : INFO : wrote 68 events to disk\n",
      "2019-07-19 21:01:04,568 : INFO : wrote 66 events to disk\n",
      "2019-07-19 21:01:25,117 : INFO : wrote 68 events to disk\n",
      "2019-07-19 21:01:45,644 : INFO : wrote 68 events to disk\n",
      "2019-07-19 21:02:06,128 : INFO : wrote 68 events to disk\n",
      "2019-07-19 21:02:26,654 : INFO : wrote 68 events to disk\n",
      "2019-07-19 21:02:47,158 : INFO : wrote 68 events to disk\n",
      "2019-07-19 21:03:07,692 : INFO : wrote 68 events to disk\n",
      "2019-07-19 21:03:28,287 : INFO : wrote 68 events to disk\n",
      "2019-07-19 21:03:48,880 : INFO : wrote 68 events to disk\n",
      "2019-07-19 21:04:09,433 : INFO : wrote 68 events to disk\n"
     ]
    },
    {
     "name": "stdout",
     "output_type": "stream",
     "text": [
      "[Epoch 1 Batch 10000/28760] loss=0.3277, lr=0.0000050, acc=0.909 - time 0:05:02.253976\n"
     ]
    },
    {
     "name": "stderr",
     "output_type": "stream",
     "text": [
      "2019-07-19 21:04:29,891 : INFO : wrote 68 events to disk\n",
      "2019-07-19 21:04:50,426 : INFO : wrote 68 events to disk\n",
      "2019-07-19 21:05:10,983 : INFO : wrote 68 events to disk\n",
      "2019-07-19 21:05:31,026 : INFO : wrote 66 events to disk\n",
      "2019-07-19 21:05:51,269 : INFO : wrote 68 events to disk\n",
      "2019-07-19 21:06:11,795 : INFO : wrote 68 events to disk\n",
      "2019-07-19 21:06:31,810 : INFO : wrote 66 events to disk\n",
      "2019-07-19 21:06:51,852 : INFO : wrote 66 events to disk\n",
      "2019-07-19 21:07:12,316 : INFO : wrote 68 events to disk\n",
      "2019-07-19 21:07:32,325 : INFO : wrote 66 events to disk\n",
      "2019-07-19 21:07:52,921 : INFO : wrote 68 events to disk\n",
      "2019-07-19 21:08:12,979 : INFO : wrote 66 events to disk\n",
      "2019-07-19 21:08:33,527 : INFO : wrote 68 events to disk\n",
      "2019-07-19 21:08:53,582 : INFO : wrote 66 events to disk\n",
      "2019-07-19 21:09:14,139 : INFO : wrote 68 events to disk\n"
     ]
    },
    {
     "name": "stdout",
     "output_type": "stream",
     "text": [
      "[Epoch 1 Batch 10500/28760] loss=0.3667, lr=0.0000050, acc=0.908 - time 0:05:02.233900\n"
     ]
    },
    {
     "name": "stderr",
     "output_type": "stream",
     "text": [
      "2019-07-19 21:09:34,165 : INFO : wrote 66 events to disk\n",
      "2019-07-19 21:09:54,722 : INFO : wrote 68 events to disk\n",
      "2019-07-19 21:10:15,332 : INFO : wrote 68 events to disk\n",
      "2019-07-19 21:10:35,786 : INFO : wrote 68 events to disk\n",
      "2019-07-19 21:10:56,369 : INFO : wrote 68 events to disk\n",
      "2019-07-19 21:11:16,840 : INFO : wrote 68 events to disk\n",
      "2019-07-19 21:11:37,387 : INFO : wrote 68 events to disk\n",
      "2019-07-19 21:11:57,880 : INFO : wrote 68 events to disk\n",
      "2019-07-19 21:12:18,436 : INFO : wrote 68 events to disk\n",
      "2019-07-19 21:12:38,467 : INFO : wrote 66 events to disk\n",
      "2019-07-19 21:12:58,470 : INFO : wrote 66 events to disk\n",
      "2019-07-19 21:13:18,943 : INFO : wrote 68 events to disk\n",
      "2019-07-19 21:13:39,452 : INFO : wrote 68 events to disk\n",
      "2019-07-19 21:13:59,896 : INFO : wrote 68 events to disk\n",
      "2019-07-19 21:14:20,363 : INFO : wrote 68 events to disk\n"
     ]
    },
    {
     "name": "stdout",
     "output_type": "stream",
     "text": [
      "[Epoch 1 Batch 11000/28760] loss=0.2962, lr=0.0000050, acc=0.909 - time 0:05:02.022483\n"
     ]
    },
    {
     "name": "stderr",
     "output_type": "stream",
     "text": [
      "2019-07-19 21:14:40,863 : INFO : wrote 68 events to disk\n",
      "2019-07-19 21:15:01,446 : INFO : wrote 68 events to disk\n",
      "2019-07-19 21:15:22,005 : INFO : wrote 68 events to disk\n",
      "IOPub message rate exceeded.\n",
      "The notebook server will temporarily stop sending output\n",
      "to the client in order to avoid crashing it.\n",
      "To change this limit, set the config variable\n",
      "`--NotebookApp.iopub_msg_rate_limit`.\n",
      "\n",
      "Current values:\n",
      "NotebookApp.iopub_msg_rate_limit=1000.0 (msgs/sec)\n",
      "NotebookApp.rate_limit_window=3.0 (secs)\n",
      "\n",
      "2019-07-19 22:24:34,794 : INFO : wrote 68 events to disk\n",
      "2019-07-19 22:24:55,334 : INFO : wrote 68 events to disk\n"
     ]
    },
    {
     "name": "stdout",
     "output_type": "stream",
     "text": [
      "[Epoch 1 Batch 18000/28760] loss=0.2822, lr=0.0000050, acc=0.909 - time 0:05:01.863793\n"
     ]
    },
    {
     "name": "stderr",
     "output_type": "stream",
     "text": [
      "2019-07-19 22:25:15,905 : INFO : wrote 68 events to disk\n",
      "2019-07-19 22:25:36,373 : INFO : wrote 68 events to disk\n",
      "2019-07-19 22:25:56,391 : INFO : wrote 66 events to disk\n",
      "2019-07-19 22:26:16,442 : INFO : wrote 66 events to disk\n",
      "2019-07-19 22:26:37,077 : INFO : wrote 68 events to disk\n",
      "2019-07-19 22:26:57,096 : INFO : wrote 66 events to disk\n",
      "2019-07-19 22:27:17,139 : INFO : wrote 66 events to disk\n",
      "2019-07-19 22:27:37,157 : INFO : wrote 66 events to disk\n",
      "2019-07-19 22:27:57,218 : INFO : wrote 66 events to disk\n",
      "2019-07-19 22:28:17,699 : INFO : wrote 68 events to disk\n",
      "2019-07-19 22:28:37,748 : INFO : wrote 66 events to disk\n",
      "2019-07-19 22:28:58,222 : INFO : wrote 68 events to disk\n",
      "2019-07-19 22:29:18,225 : INFO : wrote 66 events to disk\n",
      "2019-07-19 22:29:38,736 : INFO : wrote 68 events to disk\n",
      "2019-07-19 22:29:58,879 : INFO : wrote 66 events to disk\n"
     ]
    },
    {
     "name": "stdout",
     "output_type": "stream",
     "text": [
      "[Epoch 1 Batch 18500/28760] loss=0.3492, lr=0.0000050, acc=0.909 - time 0:05:02.982669\n"
     ]
    },
    {
     "name": "stderr",
     "output_type": "stream",
     "text": [
      "2019-07-19 22:30:19,053 : INFO : wrote 68 events to disk\n",
      "2019-07-19 22:30:39,109 : INFO : wrote 66 events to disk\n",
      "2019-07-19 22:30:59,688 : INFO : wrote 68 events to disk\n",
      "2019-07-19 22:31:20,187 : INFO : wrote 68 events to disk\n",
      "2019-07-19 22:31:40,646 : INFO : wrote 68 events to disk\n",
      "2019-07-19 22:32:01,240 : INFO : wrote 68 events to disk\n",
      "2019-07-19 22:32:21,247 : INFO : wrote 66 events to disk\n",
      "2019-07-19 22:32:41,277 : INFO : wrote 66 events to disk\n",
      "2019-07-19 22:33:01,396 : INFO : wrote 66 events to disk\n",
      "2019-07-19 22:33:21,976 : INFO : wrote 68 events to disk\n",
      "2019-07-19 22:33:42,544 : INFO : wrote 68 events to disk\n",
      "2019-07-19 22:34:03,116 : INFO : wrote 68 events to disk\n",
      "2019-07-19 22:34:23,672 : INFO : wrote 68 events to disk\n",
      "2019-07-19 22:34:44,165 : INFO : wrote 68 events to disk\n",
      "2019-07-19 22:35:04,649 : INFO : wrote 68 events to disk\n"
     ]
    },
    {
     "name": "stdout",
     "output_type": "stream",
     "text": [
      "[Epoch 1 Batch 19000/28760] loss=0.2679, lr=0.0000050, acc=0.909 - time 0:05:02.224635\n"
     ]
    },
    {
     "name": "stderr",
     "output_type": "stream",
     "text": [
      "2019-07-19 22:35:24,663 : INFO : wrote 66 events to disk\n",
      "2019-07-19 22:35:45,219 : INFO : wrote 68 events to disk\n",
      "2019-07-19 22:36:05,684 : INFO : wrote 68 events to disk\n",
      "2019-07-19 22:36:26,287 : INFO : wrote 68 events to disk\n",
      "2019-07-19 22:36:46,297 : INFO : wrote 66 events to disk\n",
      "2019-07-19 22:37:06,316 : INFO : wrote 66 events to disk\n",
      "2019-07-19 22:37:26,890 : INFO : wrote 68 events to disk\n",
      "2019-07-19 22:37:47,442 : INFO : wrote 68 events to disk\n",
      "2019-07-19 22:38:07,914 : INFO : wrote 68 events to disk\n",
      "2019-07-19 22:38:28,512 : INFO : wrote 68 events to disk\n",
      "2019-07-19 22:38:48,942 : INFO : wrote 68 events to disk\n",
      "IOPub message rate exceeded.\n",
      "The notebook server will temporarily stop sending output\n",
      "to the client in order to avoid crashing it.\n",
      "To change this limit, set the config variable\n",
      "`--NotebookApp.iopub_msg_rate_limit`.\n",
      "\n",
      "Current values:\n",
      "NotebookApp.iopub_msg_rate_limit=1000.0 (msgs/sec)\n",
      "NotebookApp.rate_limit_window=3.0 (secs)\n",
      "\n",
      "2019-07-19 23:47:54,316 : INFO : wrote 68 events to disk\n",
      "2019-07-19 23:48:14,885 : INFO : wrote 68 events to disk\n",
      "2019-07-19 23:48:35,364 : INFO : wrote 68 events to disk\n",
      "2019-07-19 23:48:55,915 : INFO : wrote 68 events to disk\n",
      "2019-07-19 23:49:16,402 : INFO : wrote 68 events to disk\n",
      "2019-07-19 23:49:36,410 : INFO : wrote 66 events to disk\n",
      "2019-07-19 23:49:56,959 : INFO : wrote 68 events to disk\n",
      "2019-07-19 23:50:17,511 : INFO : wrote 68 events to disk\n",
      "2019-07-19 23:50:38,004 : INFO : wrote 68 events to disk\n"
     ]
    },
    {
     "name": "stdout",
     "output_type": "stream",
     "text": [
      "[Epoch 1 Batch 26500/28760] loss=0.2799, lr=0.0000050, acc=0.910 - time 0:05:01.873423\n"
     ]
    },
    {
     "name": "stderr",
     "output_type": "stream",
     "text": [
      "2019-07-19 23:50:58,462 : INFO : wrote 68 events to disk\n",
      "2019-07-19 23:51:18,506 : INFO : wrote 66 events to disk\n",
      "2019-07-19 23:51:38,841 : INFO : wrote 68 events to disk\n",
      "2019-07-19 23:51:59,311 : INFO : wrote 68 events to disk\n",
      "2019-07-19 23:52:19,768 : INFO : wrote 68 events to disk\n",
      "2019-07-19 23:52:40,305 : INFO : wrote 68 events to disk\n",
      "2019-07-19 23:53:00,824 : INFO : wrote 68 events to disk\n",
      "2019-07-19 23:53:21,316 : INFO : wrote 68 events to disk\n",
      "2019-07-19 23:53:41,781 : INFO : wrote 68 events to disk\n",
      "2019-07-19 23:54:02,273 : INFO : wrote 68 events to disk\n",
      "2019-07-19 23:54:22,775 : INFO : wrote 68 events to disk\n",
      "2019-07-19 23:54:43,195 : INFO : wrote 68 events to disk\n",
      "2019-07-19 23:55:03,746 : INFO : wrote 68 events to disk\n",
      "2019-07-19 23:55:24,248 : INFO : wrote 68 events to disk\n"
     ]
    },
    {
     "name": "stdout",
     "output_type": "stream",
     "text": [
      "[Epoch 1 Batch 27000/28760] loss=0.3376, lr=0.0000050, acc=0.910 - time 0:05:01.312323\n"
     ]
    },
    {
     "name": "stderr",
     "output_type": "stream",
     "text": [
      "2019-07-19 23:55:44,706 : INFO : wrote 68 events to disk\n",
      "2019-07-19 23:56:05,136 : INFO : wrote 68 events to disk\n",
      "2019-07-19 23:56:25,613 : INFO : wrote 68 events to disk\n",
      "2019-07-19 23:56:46,176 : INFO : wrote 68 events to disk\n",
      "2019-07-19 23:57:06,747 : INFO : wrote 68 events to disk\n",
      "2019-07-19 23:57:27,255 : INFO : wrote 68 events to disk\n",
      "2019-07-19 23:57:47,761 : INFO : wrote 68 events to disk\n",
      "2019-07-19 23:58:08,290 : INFO : wrote 68 events to disk\n",
      "2019-07-19 23:58:28,847 : INFO : wrote 68 events to disk\n",
      "2019-07-19 23:58:49,406 : INFO : wrote 68 events to disk\n",
      "2019-07-19 23:59:09,411 : INFO : wrote 66 events to disk\n",
      "2019-07-19 23:59:29,970 : INFO : wrote 68 events to disk\n",
      "2019-07-19 23:59:50,350 : INFO : wrote 68 events to disk\n",
      "2019-07-20 00:00:10,919 : INFO : wrote 68 events to disk\n",
      "2019-07-20 00:00:31,519 : INFO : wrote 68 events to disk\n"
     ]
    },
    {
     "name": "stdout",
     "output_type": "stream",
     "text": [
      "[Epoch 1 Batch 27500/28760] loss=0.2500, lr=0.0000050, acc=0.910 - time 0:05:01.968902\n"
     ]
    },
    {
     "name": "stderr",
     "output_type": "stream",
     "text": [
      "2019-07-20 00:00:51,545 : INFO : wrote 66 events to disk\n",
      "2019-07-20 00:01:12,070 : INFO : wrote 68 events to disk\n",
      "2019-07-20 00:01:32,119 : INFO : wrote 66 events to disk\n",
      "2019-07-20 00:01:52,168 : INFO : wrote 66 events to disk\n",
      "2019-07-20 00:02:12,671 : INFO : wrote 68 events to disk\n",
      "2019-07-20 00:02:33,143 : INFO : wrote 68 events to disk\n",
      "IOPub message rate exceeded.\n",
      "The notebook server will temporarily stop sending output\n",
      "to the client in order to avoid crashing it.\n",
      "To change this limit, set the config variable\n",
      "`--NotebookApp.iopub_msg_rate_limit`.\n",
      "\n",
      "Current values:\n",
      "NotebookApp.iopub_msg_rate_limit=1000.0 (msgs/sec)\n",
      "NotebookApp.rate_limit_window=3.0 (secs)\n",
      "\n",
      "2019-07-20 01:08:52,965 : INFO : wrote 68 events to disk\n"
     ]
    },
    {
     "name": "stdout",
     "output_type": "stream",
     "text": [
      "[Epoch 2 Batch 5500/28760] loss=0.2464, lr=0.0000050, acc=0.944 - time 0:05:02.192704\n"
     ]
    },
    {
     "name": "stderr",
     "output_type": "stream",
     "text": [
      "2019-07-20 01:09:13,454 : INFO : wrote 68 events to disk\n",
      "2019-07-20 01:09:33,987 : INFO : wrote 68 events to disk\n",
      "2019-07-20 01:09:53,992 : INFO : wrote 66 events to disk\n",
      "2019-07-20 01:10:14,102 : INFO : wrote 66 events to disk\n",
      "2019-07-20 01:10:34,577 : INFO : wrote 68 events to disk\n",
      "2019-07-20 01:10:55,106 : INFO : wrote 68 events to disk\n",
      "2019-07-20 01:11:15,610 : INFO : wrote 68 events to disk\n",
      "2019-07-20 01:11:36,120 : INFO : wrote 68 events to disk\n",
      "2019-07-20 01:11:56,158 : INFO : wrote 66 events to disk\n",
      "2019-07-20 01:12:16,696 : INFO : wrote 68 events to disk\n",
      "2019-07-20 01:12:37,219 : INFO : wrote 68 events to disk\n",
      "2019-07-20 01:12:57,244 : INFO : wrote 66 events to disk\n",
      "2019-07-20 01:13:17,473 : INFO : wrote 68 events to disk\n",
      "2019-07-20 01:13:38,061 : INFO : wrote 68 events to disk\n"
     ]
    },
    {
     "name": "stdout",
     "output_type": "stream",
     "text": [
      "[Epoch 2 Batch 6000/28760] loss=0.2524, lr=0.0000050, acc=0.943 - time 0:05:02.048088\n"
     ]
    },
    {
     "name": "stderr",
     "output_type": "stream",
     "text": [
      "2019-07-20 01:13:58,650 : INFO : wrote 68 events to disk\n",
      "2019-07-20 01:14:19,151 : INFO : wrote 68 events to disk\n",
      "2019-07-20 01:14:39,661 : INFO : wrote 68 events to disk\n",
      "2019-07-20 01:14:59,732 : INFO : wrote 66 events to disk\n",
      "2019-07-20 01:15:19,817 : INFO : wrote 66 events to disk\n",
      "2019-07-20 01:15:40,374 : INFO : wrote 68 events to disk\n",
      "2019-07-20 01:16:00,847 : INFO : wrote 68 events to disk\n",
      "2019-07-20 01:16:21,319 : INFO : wrote 68 events to disk\n",
      "2019-07-20 01:16:41,847 : INFO : wrote 68 events to disk\n",
      "2019-07-20 01:17:02,336 : INFO : wrote 68 events to disk\n",
      "2019-07-20 01:17:22,914 : INFO : wrote 68 events to disk\n",
      "2019-07-20 01:17:42,979 : INFO : wrote 66 events to disk\n",
      "2019-07-20 01:18:03,377 : INFO : wrote 68 events to disk\n",
      "2019-07-20 01:18:23,874 : INFO : wrote 68 events to disk\n",
      "2019-07-20 01:18:44,447 : INFO : wrote 68 events to disk\n"
     ]
    },
    {
     "name": "stdout",
     "output_type": "stream",
     "text": [
      "[Epoch 2 Batch 6500/28760] loss=0.2109, lr=0.0000050, acc=0.944 - time 0:05:02.077854\n"
     ]
    },
    {
     "name": "stderr",
     "output_type": "stream",
     "text": [
      "2019-07-20 01:19:04,980 : INFO : wrote 68 events to disk\n",
      "2019-07-20 01:19:25,084 : INFO : wrote 66 events to disk\n",
      "2019-07-20 01:19:45,138 : INFO : wrote 66 events to disk\n",
      "2019-07-20 01:20:05,180 : INFO : wrote 66 events to disk\n",
      "2019-07-20 01:20:25,719 : INFO : wrote 68 events to disk\n",
      "2019-07-20 01:20:46,343 : INFO : wrote 68 events to disk\n",
      "2019-07-20 01:21:06,823 : INFO : wrote 68 events to disk\n",
      "2019-07-20 01:21:27,382 : INFO : wrote 68 events to disk\n",
      "2019-07-20 01:21:47,953 : INFO : wrote 68 events to disk\n",
      "2019-07-20 01:22:08,534 : INFO : wrote 68 events to disk\n",
      "2019-07-20 01:22:28,543 : INFO : wrote 66 events to disk\n",
      "2019-07-20 01:22:49,073 : INFO : wrote 68 events to disk\n",
      "2019-07-20 01:23:09,651 : INFO : wrote 68 events to disk\n",
      "2019-07-20 01:23:30,071 : INFO : wrote 68 events to disk\n",
      "IOPub message rate exceeded.\n",
      "The notebook server will temporarily stop sending output\n",
      "to the client in order to avoid crashing it.\n",
      "To change this limit, set the config variable\n",
      "`--NotebookApp.iopub_msg_rate_limit`.\n",
      "\n",
      "Current values:\n",
      "NotebookApp.iopub_msg_rate_limit=1000.0 (msgs/sec)\n",
      "NotebookApp.rate_limit_window=3.0 (secs)\n",
      "\n",
      "2019-07-20 02:32:11,431 : INFO : wrote 68 events to disk\n",
      "2019-07-20 02:32:31,992 : INFO : wrote 68 events to disk\n",
      "2019-07-20 02:32:52,574 : INFO : wrote 68 events to disk\n",
      "2019-07-20 02:33:13,106 : INFO : wrote 68 events to disk\n",
      "2019-07-20 02:33:33,645 : INFO : wrote 68 events to disk\n",
      "2019-07-20 02:33:54,257 : INFO : wrote 68 events to disk\n",
      "2019-07-20 02:34:14,851 : INFO : wrote 68 events to disk\n"
     ]
    },
    {
     "name": "stdout",
     "output_type": "stream",
     "text": [
      "[Epoch 2 Batch 14000/28760] loss=0.2465, lr=0.0000050, acc=0.946 - time 0:05:02.295522\n"
     ]
    },
    {
     "name": "stderr",
     "output_type": "stream",
     "text": [
      "2019-07-20 02:34:34,858 : INFO : wrote 66 events to disk\n",
      "2019-07-20 02:34:55,385 : INFO : wrote 68 events to disk\n",
      "2019-07-20 02:35:15,848 : INFO : wrote 68 events to disk\n",
      "2019-07-20 02:35:36,089 : INFO : wrote 68 events to disk\n",
      "2019-07-20 02:35:56,705 : INFO : wrote 68 events to disk\n",
      "2019-07-20 02:36:17,130 : INFO : wrote 68 events to disk\n",
      "2019-07-20 02:36:37,164 : INFO : wrote 66 events to disk\n",
      "2019-07-20 02:36:57,738 : INFO : wrote 68 events to disk\n",
      "2019-07-20 02:37:18,334 : INFO : wrote 68 events to disk\n",
      "2019-07-20 02:37:38,866 : INFO : wrote 68 events to disk\n",
      "2019-07-20 02:37:59,400 : INFO : wrote 68 events to disk\n",
      "2019-07-20 02:38:19,941 : INFO : wrote 68 events to disk\n",
      "2019-07-20 02:38:40,539 : INFO : wrote 68 events to disk\n",
      "2019-07-20 02:39:01,130 : INFO : wrote 68 events to disk\n",
      "2019-07-20 02:39:21,152 : INFO : wrote 66 events to disk\n"
     ]
    },
    {
     "name": "stdout",
     "output_type": "stream",
     "text": [
      "[Epoch 2 Batch 14500/28760] loss=0.2025, lr=0.0000050, acc=0.946 - time 0:05:02.026412\n"
     ]
    },
    {
     "name": "stderr",
     "output_type": "stream",
     "text": [
      "2019-07-20 02:39:41,239 : INFO : wrote 66 events to disk\n",
      "2019-07-20 02:40:01,799 : INFO : wrote 68 events to disk\n",
      "2019-07-20 02:40:22,280 : INFO : wrote 68 events to disk\n",
      "2019-07-20 02:40:42,869 : INFO : wrote 68 events to disk\n",
      "2019-07-20 02:41:03,320 : INFO : wrote 68 events to disk\n",
      "2019-07-20 02:41:23,826 : INFO : wrote 68 events to disk\n",
      "2019-07-20 02:41:44,255 : INFO : wrote 68 events to disk\n",
      "2019-07-20 02:42:04,260 : INFO : wrote 66 events to disk\n",
      "2019-07-20 02:42:24,287 : INFO : wrote 66 events to disk\n",
      "2019-07-20 02:42:44,809 : INFO : wrote 68 events to disk\n",
      "2019-07-20 02:43:05,252 : INFO : wrote 68 events to disk\n",
      "2019-07-20 02:43:25,372 : INFO : wrote 66 events to disk\n",
      "2019-07-20 02:43:45,761 : INFO : wrote 68 events to disk\n",
      "2019-07-20 02:44:06,209 : INFO : wrote 68 events to disk\n",
      "2019-07-20 02:44:26,810 : INFO : wrote 68 events to disk\n"
     ]
    },
    {
     "name": "stdout",
     "output_type": "stream",
     "text": [
      "[Epoch 2 Batch 15000/28760] loss=0.1867, lr=0.0000050, acc=0.946 - time 0:05:01.964718\n"
     ]
    },
    {
     "name": "stderr",
     "output_type": "stream",
     "text": [
      "2019-07-20 02:44:47,255 : INFO : wrote 68 events to disk\n",
      "2019-07-20 02:45:07,277 : INFO : wrote 66 events to disk\n",
      "2019-07-20 02:45:27,648 : INFO : wrote 68 events to disk\n",
      "2019-07-20 02:45:48,229 : INFO : wrote 68 events to disk\n",
      "2019-07-20 02:46:08,231 : INFO : wrote 66 events to disk\n",
      "2019-07-20 02:46:28,335 : INFO : wrote 66 events to disk\n",
      "IOPub message rate exceeded.\n",
      "The notebook server will temporarily stop sending output\n",
      "to the client in order to avoid crashing it.\n",
      "To change this limit, set the config variable\n",
      "`--NotebookApp.iopub_msg_rate_limit`.\n",
      "\n",
      "Current values:\n",
      "NotebookApp.iopub_msg_rate_limit=1000.0 (msgs/sec)\n",
      "NotebookApp.rate_limit_window=3.0 (secs)\n",
      "\n",
      "2019-07-20 03:54:12,857 : INFO : wrote 68 events to disk\n",
      "2019-07-20 03:54:33,424 : INFO : wrote 68 events to disk\n",
      "2019-07-20 03:54:53,977 : INFO : wrote 68 events to disk\n"
     ]
    },
    {
     "name": "stdout",
     "output_type": "stream",
     "text": [
      "[Epoch 2 Batch 22000/28760] loss=0.2056, lr=0.0000050, acc=0.947 - time 0:05:02.098271\n"
     ]
    },
    {
     "name": "stderr",
     "output_type": "stream",
     "text": [
      "2019-07-20 03:55:14,531 : INFO : wrote 68 events to disk\n",
      "2019-07-20 03:55:35,051 : INFO : wrote 68 events to disk\n",
      "2019-07-20 03:55:55,562 : INFO : wrote 68 events to disk\n",
      "2019-07-20 03:56:16,010 : INFO : wrote 68 events to disk\n",
      "2019-07-20 03:56:36,566 : INFO : wrote 68 events to disk\n",
      "2019-07-20 03:56:56,654 : INFO : wrote 66 events to disk\n",
      "2019-07-20 03:57:17,105 : INFO : wrote 68 events to disk\n",
      "2019-07-20 03:57:37,689 : INFO : wrote 68 events to disk\n",
      "2019-07-20 03:57:58,234 : INFO : wrote 68 events to disk\n",
      "2019-07-20 03:58:18,497 : INFO : wrote 68 events to disk\n",
      "2019-07-20 03:58:39,038 : INFO : wrote 68 events to disk\n",
      "2019-07-20 03:58:59,547 : INFO : wrote 68 events to disk\n",
      "2019-07-20 03:59:20,039 : INFO : wrote 68 events to disk\n",
      "2019-07-20 03:59:40,632 : INFO : wrote 68 events to disk\n",
      "2019-07-20 04:00:00,660 : INFO : wrote 66 events to disk\n"
     ]
    },
    {
     "name": "stdout",
     "output_type": "stream",
     "text": [
      "[Epoch 2 Batch 22500/28760] loss=0.2432, lr=0.0000050, acc=0.947 - time 0:05:01.794463\n"
     ]
    },
    {
     "name": "stderr",
     "output_type": "stream",
     "text": [
      "2019-07-20 04:00:21,135 : INFO : wrote 68 events to disk\n",
      "2019-07-20 04:00:41,630 : INFO : wrote 68 events to disk\n",
      "2019-07-20 04:01:02,216 : INFO : wrote 68 events to disk\n",
      "2019-07-20 04:01:22,253 : INFO : wrote 66 events to disk\n",
      "2019-07-20 04:01:42,763 : INFO : wrote 68 events to disk\n",
      "2019-07-20 04:02:03,343 : INFO : wrote 68 events to disk\n",
      "2019-07-20 04:02:23,854 : INFO : wrote 68 events to disk\n",
      "2019-07-20 04:02:44,337 : INFO : wrote 68 events to disk\n",
      "2019-07-20 04:03:04,392 : INFO : wrote 66 events to disk\n",
      "2019-07-20 04:03:24,874 : INFO : wrote 68 events to disk\n",
      "2019-07-20 04:03:45,454 : INFO : wrote 68 events to disk\n",
      "2019-07-20 04:04:05,977 : INFO : wrote 68 events to disk\n",
      "2019-07-20 04:04:26,506 : INFO : wrote 68 events to disk\n",
      "2019-07-20 04:04:46,525 : INFO : wrote 66 events to disk\n",
      "2019-07-20 04:05:06,542 : INFO : wrote 66 events to disk\n"
     ]
    },
    {
     "name": "stdout",
     "output_type": "stream",
     "text": [
      "[Epoch 2 Batch 23000/28760] loss=0.2420, lr=0.0000050, acc=0.946 - time 0:05:02.260940\n"
     ]
    },
    {
     "name": "stderr",
     "output_type": "stream",
     "text": [
      "2019-07-20 04:05:27,130 : INFO : wrote 68 events to disk\n",
      "2019-07-20 04:05:47,564 : INFO : wrote 68 events to disk\n",
      "2019-07-20 04:06:08,060 : INFO : wrote 68 events to disk\n",
      "2019-07-20 04:06:28,658 : INFO : wrote 68 events to disk\n",
      "2019-07-20 04:06:49,202 : INFO : wrote 68 events to disk\n",
      "2019-07-20 04:07:09,708 : INFO : wrote 68 events to disk\n",
      "2019-07-20 04:07:30,341 : INFO : wrote 68 events to disk\n",
      "2019-07-20 04:07:50,925 : INFO : wrote 68 events to disk\n",
      "2019-07-20 04:08:10,962 : INFO : wrote 66 events to disk\n",
      "2019-07-20 04:08:31,525 : INFO : wrote 68 events to disk\n",
      "2019-07-20 04:08:51,588 : INFO : wrote 66 events to disk\n",
      "IOPub message rate exceeded.\n",
      "The notebook server will temporarily stop sending output\n",
      "to the client in order to avoid crashing it.\n",
      "To change this limit, set the config variable\n",
      "`--NotebookApp.iopub_msg_rate_limit`.\n",
      "\n",
      "Current values:\n",
      "NotebookApp.iopub_msg_rate_limit=1000.0 (msgs/sec)\n",
      "NotebookApp.rate_limit_window=3.0 (secs)\n",
      "\n",
      "2019-07-20 05:13:04,792 : INFO : wrote 68 events to disk\n"
     ]
    },
    {
     "name": "stdout",
     "output_type": "stream",
     "text": [
      "[Epoch 3 Batch 1000/28760] loss=0.1217, lr=0.0000050, acc=0.973 - time 0:05:02.062998\n"
     ]
    },
    {
     "name": "stderr",
     "output_type": "stream",
     "text": [
      "2019-07-20 05:13:25,194 : INFO : wrote 68 events to disk\n",
      "2019-07-20 05:13:45,697 : INFO : wrote 68 events to disk\n",
      "2019-07-20 05:14:06,184 : INFO : wrote 68 events to disk\n",
      "2019-07-20 05:14:26,235 : INFO : wrote 66 events to disk\n",
      "2019-07-20 05:14:46,800 : INFO : wrote 68 events to disk\n",
      "2019-07-20 05:15:06,809 : INFO : wrote 66 events to disk\n",
      "2019-07-20 05:15:26,843 : INFO : wrote 66 events to disk\n",
      "2019-07-20 05:15:47,438 : INFO : wrote 68 events to disk\n",
      "2019-07-20 05:16:07,994 : INFO : wrote 68 events to disk\n",
      "2019-07-20 05:16:28,026 : INFO : wrote 66 events to disk\n",
      "2019-07-20 05:16:48,503 : INFO : wrote 68 events to disk\n",
      "2019-07-20 05:17:09,034 : INFO : wrote 68 events to disk\n",
      "2019-07-20 05:17:29,103 : INFO : wrote 66 events to disk\n",
      "2019-07-20 05:17:49,555 : INFO : wrote 68 events to disk\n",
      "2019-07-20 05:18:10,023 : INFO : wrote 68 events to disk\n"
     ]
    },
    {
     "name": "stdout",
     "output_type": "stream",
     "text": [
      "[Epoch 3 Batch 1500/28760] loss=0.1111, lr=0.0000050, acc=0.971 - time 0:05:02.351639\n"
     ]
    },
    {
     "name": "stderr",
     "output_type": "stream",
     "text": [
      "2019-07-20 05:18:30,599 : INFO : wrote 68 events to disk\n",
      "2019-07-20 05:18:51,040 : INFO : wrote 68 events to disk\n",
      "2019-07-20 09:43:27,144 : INFO : wrote 68 events to disk\n",
      "2019-07-20 09:43:47,590 : INFO : wrote 68 events to disk\n",
      "2019-07-20 09:44:08,190 : INFO : wrote 68 events to disk\n",
      "2019-07-20 09:44:28,181 : INFO : wrote 66 events to disk\n",
      "2019-07-20 09:44:48,794 : INFO : wrote 68 events to disk\n",
      "2019-07-20 09:45:09,368 : INFO : wrote 68 events to disk\n"
     ]
    },
    {
     "name": "stdout",
     "output_type": "stream",
     "text": [
      "[Epoch 3 Batch 28000/28760] loss=0.1612, lr=0.0000050, acc=0.966 - time 0:05:02.500526\n"
     ]
    },
    {
     "name": "stderr",
     "output_type": "stream",
     "text": [
      "2019-07-20 09:45:29,380 : INFO : wrote 66 events to disk\n",
      "2019-07-20 09:45:49,828 : INFO : wrote 68 events to disk\n",
      "2019-07-20 09:46:10,407 : INFO : wrote 68 events to disk\n",
      "2019-07-20 09:46:30,987 : INFO : wrote 68 events to disk\n",
      "2019-07-20 09:46:51,425 : INFO : wrote 68 events to disk\n",
      "2019-07-20 09:47:11,863 : INFO : wrote 68 events to disk\n",
      "2019-07-20 09:47:31,956 : INFO : wrote 66 events to disk\n",
      "2019-07-20 09:47:52,456 : INFO : wrote 68 events to disk\n",
      "2019-07-20 09:48:12,899 : INFO : wrote 68 events to disk\n",
      "2019-07-20 09:48:32,962 : INFO : wrote 66 events to disk\n",
      "2019-07-20 09:48:53,025 : INFO : wrote 66 events to disk\n",
      "2019-07-20 09:49:13,559 : INFO : wrote 68 events to disk\n",
      "2019-07-20 09:49:34,127 : INFO : wrote 68 events to disk\n",
      "2019-07-20 09:49:54,137 : INFO : wrote 66 events to disk\n",
      "2019-07-20 09:50:14,733 : INFO : wrote 68 events to disk\n"
     ]
    },
    {
     "name": "stdout",
     "output_type": "stream",
     "text": [
      "[Epoch 3 Batch 28500/28760] loss=0.1954, lr=0.0000050, acc=0.966 - time 0:05:02.306213\n"
     ]
    },
    {
     "name": "stderr",
     "output_type": "stream",
     "text": [
      "2019-07-20 09:50:35,195 : INFO : wrote 68 events to disk\n",
      "2019-07-20 09:50:55,717 : INFO : wrote 68 events to disk\n",
      "2019-07-20 09:51:16,189 : INFO : wrote 68 events to disk\n",
      "2019-07-20 09:51:36,253 : INFO : wrote 66 events to disk\n",
      "2019-07-20 09:51:56,831 : INFO : wrote 68 events to disk\n",
      "2019-07-20 09:52:17,411 : INFO : wrote 68 events to disk\n",
      "2019-07-20 09:52:37,882 : INFO : wrote 68 events to disk\n"
     ]
    },
    {
     "name": "stdout",
     "output_type": "stream",
     "text": [
      "\n",
      "Time for [epoch 3]: 4:49:41.608480\n"
     ]
    },
    {
     "data": {
      "application/vnd.jupyter.widget-view+json": {
       "model_id": "d3eb146025e94583804de50a0b5f3654",
       "version_major": 2,
       "version_minor": 0
      },
      "text/plain": [
       "HBox(children=(IntProgress(value=0, max=28760), HTML(value='')))"
      ]
     },
     "metadata": {},
     "output_type": "display_data"
    },
    {
     "name": "stderr",
     "output_type": "stream",
     "text": [
      "2019-07-20 09:52:58,307 : INFO : wrote 66 events to disk\n",
      "2019-07-20 09:53:18,826 : INFO : wrote 68 events to disk\n",
      "2019-07-20 09:53:39,387 : INFO : wrote 68 events to disk\n",
      "2019-07-20 09:53:55,643 : INFO : wrote 53 events to disk\n"
     ]
    },
    {
     "name": "stdout",
     "output_type": "stream",
     "text": [
      "Time for [epoch 4]: 0:01:01.534226\n",
      "Time for [training]: 19:20:23.101485\n",
      "Time for [4 - train model]: 19:24:35.803554\n"
     ]
    },
    {
     "ename": "KeyboardInterrupt",
     "evalue": "",
     "output_type": "error",
     "traceback": [
      "\u001b[0;31m---------------------------------------------------------------------------\u001b[0m",
      "\u001b[0;31mKeyboardInterrupt\u001b[0m                         Traceback (most recent call last)",
      "\u001b[0;32m<ipython-input-27-4dbbc38d9660>\u001b[0m in \u001b[0;36m<module>\u001b[0;34m\u001b[0m\n\u001b[1;32m      1\u001b[0m \u001b[0mrun_name\u001b[0m \u001b[0;34m=\u001b[0m \u001b[0;34m\"within_traindev_proepi512_BCE_0.1\"\u001b[0m\u001b[0;34m\u001b[0m\u001b[0;34m\u001b[0m\u001b[0m\n\u001b[1;32m      2\u001b[0m \u001b[0;32mwith\u001b[0m \u001b[0mTimer\u001b[0m\u001b[0;34m(\u001b[0m\u001b[0;34m\"4 - train model\"\u001b[0m\u001b[0;34m)\u001b[0m\u001b[0;34m,\u001b[0m \u001b[0mSummaryWriter\u001b[0m\u001b[0;34m(\u001b[0m\u001b[0mlogdir\u001b[0m\u001b[0;34m=\u001b[0m\u001b[0;34m\"data/\"\u001b[0m \u001b[0;34m+\u001b[0m \u001b[0mrun_name\u001b[0m\u001b[0;34m,\u001b[0m \u001b[0mflush_secs\u001b[0m\u001b[0;34m=\u001b[0m\u001b[0;36m20\u001b[0m\u001b[0;34m)\u001b[0m \u001b[0;32mas\u001b[0m \u001b[0msw\u001b[0m\u001b[0;34m:\u001b[0m\u001b[0;34m\u001b[0m\u001b[0;34m\u001b[0m\u001b[0m\n\u001b[0;32m----> 3\u001b[0;31m     \u001b[0mstats\u001b[0m \u001b[0;34m=\u001b[0m \u001b[0mtrain\u001b[0m\u001b[0;34m(\u001b[0m\u001b[0mmodel\u001b[0m\u001b[0;34m,\u001b[0m \u001b[0mdata_train\u001b[0m\u001b[0;34m,\u001b[0m \u001b[0mctx\u001b[0m\u001b[0;34m,\u001b[0m \u001b[0mmetric\u001b[0m\u001b[0;34m,\u001b[0m \u001b[0mloss_function\u001b[0m\u001b[0;34m,\u001b[0m \u001b[0mbatch_size\u001b[0m\u001b[0;34m=\u001b[0m\u001b[0;36m2\u001b[0m\u001b[0;34m,\u001b[0m \u001b[0mlr\u001b[0m\u001b[0;34m=\u001b[0m\u001b[0;36m5e-6\u001b[0m\u001b[0;34m,\u001b[0m \u001b[0mnum_epochs\u001b[0m\u001b[0;34m=\u001b[0m\u001b[0;36m5\u001b[0m\u001b[0;34m,\u001b[0m \u001b[0msw\u001b[0m\u001b[0;34m=\u001b[0m\u001b[0msw\u001b[0m\u001b[0;34m,\u001b[0m \u001b[0mcheckpoint_dir\u001b[0m\u001b[0;34m=\u001b[0m\u001b[0;34m\"data/\"\u001b[0m \u001b[0;34m+\u001b[0m \u001b[0mrun_name\u001b[0m\u001b[0;34m)\u001b[0m\u001b[0;34m\u001b[0m\u001b[0;34m\u001b[0m\u001b[0m\n\u001b[0m\u001b[1;32m      4\u001b[0m     \u001b[0mmodel\u001b[0m\u001b[0;34m.\u001b[0m\u001b[0msave_parameters\u001b[0m\u001b[0;34m(\u001b[0m\u001b[0;34m\"data/\"\u001b[0m \u001b[0;34m+\u001b[0m \u001b[0mrun_name\u001b[0m \u001b[0;34m+\u001b[0m \u001b[0;34m\"/bert.model.params\"\u001b[0m\u001b[0;34m)\u001b[0m\u001b[0;34m\u001b[0m\u001b[0;34m\u001b[0m\u001b[0m\n\u001b[1;32m      5\u001b[0m \u001b[0;34m\u001b[0m\u001b[0m\n",
      "\u001b[0;32m<ipython-input-19-744dcdeaae84>\u001b[0m in \u001b[0;36mtrain\u001b[0;34m(model, data_train, ctx, metric, loss_function, batch_size, lr, num_epochs, sw, checkpoint_dir, use_checkpoints)\u001b[0m\n\u001b[1;32m     79\u001b[0m                     \u001b[0;31m# gradient clipping\u001b[0m\u001b[0;34m\u001b[0m\u001b[0;34m\u001b[0m\u001b[0;34m\u001b[0m\u001b[0m\n\u001b[1;32m     80\u001b[0m                     \u001b[0mtrainer\u001b[0m\u001b[0;34m.\u001b[0m\u001b[0mallreduce_grads\u001b[0m\u001b[0;34m(\u001b[0m\u001b[0;34m)\u001b[0m\u001b[0;34m\u001b[0m\u001b[0;34m\u001b[0m\u001b[0m\n\u001b[0;32m---> 81\u001b[0;31m                     \u001b[0mnlp\u001b[0m\u001b[0;34m.\u001b[0m\u001b[0mutils\u001b[0m\u001b[0;34m.\u001b[0m\u001b[0mclip_grad_global_norm\u001b[0m\u001b[0;34m(\u001b[0m\u001b[0mparams\u001b[0m\u001b[0;34m,\u001b[0m \u001b[0;36m1\u001b[0m\u001b[0;34m)\u001b[0m\u001b[0;34m\u001b[0m\u001b[0;34m\u001b[0m\u001b[0m\n\u001b[0m\u001b[1;32m     82\u001b[0m                     \u001b[0mtrainer\u001b[0m\u001b[0;34m.\u001b[0m\u001b[0mupdate\u001b[0m\u001b[0;34m(\u001b[0m\u001b[0;36m1\u001b[0m\u001b[0;34m)\u001b[0m\u001b[0;34m\u001b[0m\u001b[0;34m\u001b[0m\u001b[0m\n\u001b[1;32m     83\u001b[0m \u001b[0;34m\u001b[0m\u001b[0m\n",
      "\u001b[0;32m~/.conda/envs/argmining19-ssc/lib/python3.7/site-packages/gluonnlp/utils/parameter.py\u001b[0m in \u001b[0;36mclip_grad_global_norm\u001b[0;34m(parameters, max_norm, check_isfinite)\u001b[0m\n\u001b[1;32m     82\u001b[0m     \u001b[0mtotal_norm\u001b[0m \u001b[0;34m=\u001b[0m \u001b[0mnd\u001b[0m\u001b[0;34m.\u001b[0m\u001b[0msqrt\u001b[0m\u001b[0;34m(\u001b[0m\u001b[0mtotal_norm\u001b[0m\u001b[0;34m)\u001b[0m\u001b[0;34m\u001b[0m\u001b[0;34m\u001b[0m\u001b[0m\n\u001b[1;32m     83\u001b[0m     \u001b[0;32mif\u001b[0m \u001b[0mcheck_isfinite\u001b[0m\u001b[0;34m:\u001b[0m\u001b[0;34m\u001b[0m\u001b[0;34m\u001b[0m\u001b[0m\n\u001b[0;32m---> 84\u001b[0;31m         \u001b[0mtotal_norm\u001b[0m \u001b[0;34m=\u001b[0m \u001b[0mtotal_norm\u001b[0m\u001b[0;34m.\u001b[0m\u001b[0masscalar\u001b[0m\u001b[0;34m(\u001b[0m\u001b[0;34m)\u001b[0m\u001b[0;34m\u001b[0m\u001b[0;34m\u001b[0m\u001b[0m\n\u001b[0m\u001b[1;32m     85\u001b[0m         \u001b[0;32mif\u001b[0m \u001b[0;32mnot\u001b[0m \u001b[0mnp\u001b[0m\u001b[0;34m.\u001b[0m\u001b[0misfinite\u001b[0m\u001b[0;34m(\u001b[0m\u001b[0mtotal_norm\u001b[0m\u001b[0;34m)\u001b[0m\u001b[0;34m:\u001b[0m\u001b[0;34m\u001b[0m\u001b[0;34m\u001b[0m\u001b[0m\n\u001b[1;32m     86\u001b[0m             warnings.warn(\n",
      "\u001b[0;32m~/.conda/envs/argmining19-ssc/lib/python3.7/site-packages/mxnet/ndarray/ndarray.py\u001b[0m in \u001b[0;36masscalar\u001b[0;34m(self)\u001b[0m\n\u001b[1;32m   1996\u001b[0m         \u001b[0;32mif\u001b[0m \u001b[0mself\u001b[0m\u001b[0;34m.\u001b[0m\u001b[0mshape\u001b[0m \u001b[0;34m!=\u001b[0m \u001b[0;34m(\u001b[0m\u001b[0;36m1\u001b[0m\u001b[0;34m,\u001b[0m\u001b[0;34m)\u001b[0m\u001b[0;34m:\u001b[0m\u001b[0;34m\u001b[0m\u001b[0;34m\u001b[0m\u001b[0m\n\u001b[1;32m   1997\u001b[0m             \u001b[0;32mraise\u001b[0m \u001b[0mValueError\u001b[0m\u001b[0;34m(\u001b[0m\u001b[0;34m\"The current array is not a scalar\"\u001b[0m\u001b[0;34m)\u001b[0m\u001b[0;34m\u001b[0m\u001b[0;34m\u001b[0m\u001b[0m\n\u001b[0;32m-> 1998\u001b[0;31m         \u001b[0;32mreturn\u001b[0m \u001b[0mself\u001b[0m\u001b[0;34m.\u001b[0m\u001b[0masnumpy\u001b[0m\u001b[0;34m(\u001b[0m\u001b[0;34m)\u001b[0m\u001b[0;34m[\u001b[0m\u001b[0;36m0\u001b[0m\u001b[0;34m]\u001b[0m\u001b[0;34m\u001b[0m\u001b[0;34m\u001b[0m\u001b[0m\n\u001b[0m\u001b[1;32m   1999\u001b[0m \u001b[0;34m\u001b[0m\u001b[0m\n\u001b[1;32m   2000\u001b[0m     \u001b[0;32mdef\u001b[0m \u001b[0mastype\u001b[0m\u001b[0;34m(\u001b[0m\u001b[0mself\u001b[0m\u001b[0;34m,\u001b[0m \u001b[0mdtype\u001b[0m\u001b[0;34m,\u001b[0m \u001b[0mcopy\u001b[0m\u001b[0;34m=\u001b[0m\u001b[0;32mTrue\u001b[0m\u001b[0;34m)\u001b[0m\u001b[0;34m:\u001b[0m\u001b[0;34m\u001b[0m\u001b[0;34m\u001b[0m\u001b[0m\n",
      "\u001b[0;32m~/.conda/envs/argmining19-ssc/lib/python3.7/site-packages/mxnet/ndarray/ndarray.py\u001b[0m in \u001b[0;36masnumpy\u001b[0;34m(self)\u001b[0m\n\u001b[1;32m   1978\u001b[0m             \u001b[0mself\u001b[0m\u001b[0;34m.\u001b[0m\u001b[0mhandle\u001b[0m\u001b[0;34m,\u001b[0m\u001b[0;34m\u001b[0m\u001b[0;34m\u001b[0m\u001b[0m\n\u001b[1;32m   1979\u001b[0m             \u001b[0mdata\u001b[0m\u001b[0;34m.\u001b[0m\u001b[0mctypes\u001b[0m\u001b[0;34m.\u001b[0m\u001b[0mdata_as\u001b[0m\u001b[0;34m(\u001b[0m\u001b[0mctypes\u001b[0m\u001b[0;34m.\u001b[0m\u001b[0mc_void_p\u001b[0m\u001b[0;34m)\u001b[0m\u001b[0;34m,\u001b[0m\u001b[0;34m\u001b[0m\u001b[0;34m\u001b[0m\u001b[0m\n\u001b[0;32m-> 1980\u001b[0;31m             ctypes.c_size_t(data.size)))\n\u001b[0m\u001b[1;32m   1981\u001b[0m         \u001b[0;32mreturn\u001b[0m \u001b[0mdata\u001b[0m\u001b[0;34m\u001b[0m\u001b[0;34m\u001b[0m\u001b[0m\n\u001b[1;32m   1982\u001b[0m \u001b[0;34m\u001b[0m\u001b[0m\n",
      "\u001b[0;31mKeyboardInterrupt\u001b[0m: "
     ]
    }
   ],
   "source": [
    "run_name = \"within_traindev_proepi512_BCE_0.1\"\n",
    "with Timer(\"4 - train model\"), SummaryWriter(logdir=\"data/\" + run_name, flush_secs=20) as sw:\n",
    "    stats = train(model, data_train, ctx, metric, loss_function, batch_size=2, lr=5e-6, num_epochs=5, sw=sw, checkpoint_dir=\"data/\" + run_name)\n",
    "    model.save_parameters(\"data/\" + run_name + \"/bert.model.params\")\n",
    "\n",
    "    plot_train_stats(stats)"
   ]
  },
  {
   "cell_type": "code",
   "execution_count": 94,
   "metadata": {
    "ExecuteTime": {
     "end_time": "2019-07-20T07:58:22.176970Z",
     "start_time": "2019-07-20T07:58:21.760904Z"
    }
   },
   "outputs": [],
   "source": [
    "model.save_parameters(\"data/\" + run_name + \"/bert.model.params\")"
   ]
  },
  {
   "cell_type": "code",
   "execution_count": 95,
   "metadata": {
    "ExecuteTime": {
     "end_time": "2019-07-20T07:58:23.128323Z",
     "start_time": "2019-07-20T07:58:22.772824Z"
    },
    "collapsed": true
   },
   "outputs": [
    {
     "name": "stdout",
     "output_type": "stream",
     "text": [
      "abortion opens the door to the sexual exploitation of women the existence of abortion gives men a little more of a safeguard against unintentionally impregnating a woman. as a result, men will be more aggressive in their sexual exploitation of women.\n",
      "the fact that a child is likely to have a short life does not justify further shortening it:\n",
      "0\n",
      "vocabulary used for tokenization = \n",
      "Vocab(size=30522, unk=\"[UNK]\", reserved=\"['[PAD]', '[CLS]', '[SEP]', '[MASK]']\")\n",
      "[PAD] token id = 1\n",
      "[CLS] token id = 2\n",
      "[SEP] token id = 3\n",
      "token ids = \n",
      "[    2 11324  7480  1996  2341  2000  1996  4424 14427  1997  2308  1996\n",
      "  4598  1997 11324  3957  2273  1037  2210  2062  1997  1037 28805  2114\n",
      "  4895 18447  4765 19301  2135 17727  2890 16989  3436  1037  2450  1012\n",
      "  2004  1037  2765  1010  2273  2097  2022  2062  9376  1999  2037  4424\n",
      " 14427  1997  2308  1012     3  1996  2755  2008  1037  2775  2003  3497\n",
      "  2000  2031  1037  2460  2166  2515  2025 16114  2582  2460  7406  2009\n",
      "  1024     3     1     1     1     1     1     1     1     1     1     1\n",
      "     1     1     1     1     1     1     1     1     1     1     1     1\n",
      "     1     1     1     1     1     1     1     1     1     1     1     1\n",
      "     1     1     1     1     1     1     1     1     1     1     1     1\n",
      "     1     1     1     1     1     1     1     1     1     1     1     1\n",
      "     1     1     1     1     1     1     1     1     1     1     1     1\n",
      "     1     1     1     1     1     1     1     1     1     1     1     1\n",
      "     1     1     1     1     1     1     1     1     1     1     1     1\n",
      "     1     1     1     1     1     1     1     1     1     1     1     1\n",
      "     1     1     1     1     1     1     1     1     1     1     1     1\n",
      "     1     1     1     1     1     1     1     1     1     1     1     1\n",
      "     1     1     1     1     1     1     1     1     1     1     1     1\n",
      "     1     1     1     1     1     1     1     1     1     1     1     1\n",
      "     1     1     1     1     1     1     1     1     1     1     1     1\n",
      "     1     1     1     1     1     1     1     1     1     1     1     1\n",
      "     1     1     1     1     1     1     1     1     1     1     1     1\n",
      "     1     1     1     1     1     1     1     1     1     1     1     1\n",
      "     1     1     1     1     1     1     1     1     1     1     1     1\n",
      "     1     1     1     1     1     1     1     1     1     1     1     1\n",
      "     1     1     1     1     1     1     1     1     1     1     1     1\n",
      "     1     1     1     1     1     1     1     1     1     1     1     1\n",
      "     1     1     1     1     1     1     1     1     1     1     1     1\n",
      "     1     1     1     1     1     1     1     1     1     1     1     1\n",
      "     1     1     1     1     1     1     1     1     1     1     1     1\n",
      "     1     1     1     1     1     1     1     1     1     1     1     1\n",
      "     1     1     1     1     1     1     1     1     1     1     1     1\n",
      "     1     1     1     1     1     1     1     1     1     1     1     1\n",
      "     1     1     1     1     1     1     1     1     1     1     1     1\n",
      "     1     1     1     1     1     1     1     1     1     1     1     1\n",
      "     1     1     1     1     1     1     1     1     1     1     1     1\n",
      "     1     1     1     1     1     1     1     1     1     1     1     1\n",
      "     1     1     1     1     1     1     1     1     1     1     1     1\n",
      "     1     1     1     1     1     1     1     1     1     1     1     1\n",
      "     1     1     1     1     1     1     1     1     1     1     1     1\n",
      "     1     1     1     1     1     1     1     1     1     1     1     1\n",
      "     1     1     1     1     1     1     1     1     1     1     1     1\n",
      "     1     1     1     1     1     1     1     1]\n",
      "valid length = \n",
      "74\n",
      "segment ids = \n",
      "[0 0 0 0 0 0 0 0 0 0 0 0 0 0 0 0 0 0 0 0 0 0 0 0 0 0 0 0 0 0 0 0 0 0 0 0 0\n",
      " 0 0 0 0 0 0 0 0 0 0 0 0 0 0 0 0 1 1 1 1 1 1 1 1 1 1 1 1 1 1 1 1 1 1 1 1 1\n",
      " 0 0 0 0 0 0 0 0 0 0 0 0 0 0 0 0 0 0 0 0 0 0 0 0 0 0 0 0 0 0 0 0 0 0 0 0 0\n",
      " 0 0 0 0 0 0 0 0 0 0 0 0 0 0 0 0 0 0 0 0 0 0 0 0 0 0 0 0 0 0 0 0 0 0 0 0 0\n",
      " 0 0 0 0 0 0 0 0 0 0 0 0 0 0 0 0 0 0 0 0 0 0 0 0 0 0 0 0 0 0 0 0 0 0 0 0 0\n",
      " 0 0 0 0 0 0 0 0 0 0 0 0 0 0 0 0 0 0 0 0 0 0 0 0 0 0 0 0 0 0 0 0 0 0 0 0 0\n",
      " 0 0 0 0 0 0 0 0 0 0 0 0 0 0 0 0 0 0 0 0 0 0 0 0 0 0 0 0 0 0 0 0 0 0 0 0 0\n",
      " 0 0 0 0 0 0 0 0 0 0 0 0 0 0 0 0 0 0 0 0 0 0 0 0 0 0 0 0 0 0 0 0 0 0 0 0 0\n",
      " 0 0 0 0 0 0 0 0 0 0 0 0 0 0 0 0 0 0 0 0 0 0 0 0 0 0 0 0 0 0 0 0 0 0 0 0 0\n",
      " 0 0 0 0 0 0 0 0 0 0 0 0 0 0 0 0 0 0 0 0 0 0 0 0 0 0 0 0 0 0 0 0 0 0 0 0 0\n",
      " 0 0 0 0 0 0 0 0 0 0 0 0 0 0 0 0 0 0 0 0 0 0 0 0 0 0 0 0 0 0 0 0 0 0 0 0 0\n",
      " 0 0 0 0 0 0 0 0 0 0 0 0 0 0 0 0 0 0 0 0 0 0 0 0 0 0 0 0 0 0 0 0 0 0 0 0 0\n",
      " 0 0 0 0 0 0 0 0 0 0 0 0 0 0 0 0 0 0 0 0 0 0 0 0 0 0 0 0 0 0 0 0 0 0 0 0 0\n",
      " 0 0 0 0 0 0 0 0 0 0 0 0 0 0 0 0 0 0 0 0 0 0 0 0 0 0 0 0 0 0 0]\n",
      "epi token ids = \n",
      "[    2 11324  7480  1996  2341  2000  1996  4424 14427  1997  2308  1996\n",
      "  4598  1997 11324  3957  2273  1037  2210  2062  1997  1037 28805  2114\n",
      "  4895 18447  4765 19301  2135 17727  2890 16989  3436  1037  2450  1012\n",
      "  2004  1037  2765  1010  2273  2097  2022  2062  9376  1999  2037  4424\n",
      " 14427  1997  2308  1012     3  1996  2755  2008  1037  2775  2003  3497\n",
      "  2000  2031  1037  2460  2166  2515  2025 16114  2582  2460  7406  2009\n",
      "  1024     3     1     1     1     1     1     1     1     1     1     1\n",
      "     1     1     1     1     1     1     1     1     1     1     1     1\n",
      "     1     1     1     1     1     1     1     1     1     1     1     1\n",
      "     1     1     1     1     1     1     1     1     1     1     1     1\n",
      "     1     1     1     1     1     1     1     1     1     1     1     1\n",
      "     1     1     1     1     1     1     1     1     1     1     1     1\n",
      "     1     1     1     1     1     1     1     1     1     1     1     1\n",
      "     1     1     1     1     1     1     1     1     1     1     1     1\n",
      "     1     1     1     1     1     1     1     1     1     1     1     1\n",
      "     1     1     1     1     1     1     1     1     1     1     1     1\n",
      "     1     1     1     1     1     1     1     1     1     1     1     1\n",
      "     1     1     1     1     1     1     1     1     1     1     1     1\n",
      "     1     1     1     1     1     1     1     1     1     1     1     1\n",
      "     1     1     1     1     1     1     1     1     1     1     1     1\n",
      "     1     1     1     1     1     1     1     1     1     1     1     1\n",
      "     1     1     1     1     1     1     1     1     1     1     1     1\n",
      "     1     1     1     1     1     1     1     1     1     1     1     1\n",
      "     1     1     1     1     1     1     1     1     1     1     1     1\n",
      "     1     1     1     1     1     1     1     1     1     1     1     1\n",
      "     1     1     1     1     1     1     1     1     1     1     1     1\n",
      "     1     1     1     1     1     1     1     1     1     1     1     1\n",
      "     1     1     1     1     1     1     1     1     1     1     1     1\n",
      "     1     1     1     1     1     1     1     1     1     1     1     1\n",
      "     1     1     1     1     1     1     1     1     1     1     1     1\n",
      "     1     1     1     1     1     1     1     1     1     1     1     1\n",
      "     1     1     1     1     1     1     1     1     1     1     1     1\n",
      "     1     1     1     1     1     1     1     1     1     1     1     1\n",
      "     1     1     1     1     1     1     1     1     1     1     1     1\n",
      "     1     1     1     1     1     1     1     1     1     1     1     1\n",
      "     1     1     1     1     1     1     1     1     1     1     1     1\n",
      "     1     1     1     1     1     1     1     1     1     1     1     1\n",
      "     1     1     1     1     1     1     1     1     1     1     1     1\n",
      "     1     1     1     1     1     1     1     1     1     1     1     1\n",
      "     1     1     1     1     1     1     1     1     1     1     1     1\n",
      "     1     1     1     1     1     1     1     1     1     1     1     1\n",
      "     1     1     1     1     1     1     1     1     1     1     1     1\n",
      "     1     1     1     1     1     1     1     1]\n",
      "epi valid length = \n",
      "74\n",
      "epi segment ids = \n",
      "[0 0 0 0 0 0 0 0 0 0 0 0 0 0 0 0 0 0 0 0 0 0 0 0 0 0 0 0 0 0 0 0 0 0 0 0 0\n",
      " 0 0 0 0 0 0 0 0 0 0 0 0 0 0 0 0 1 1 1 1 1 1 1 1 1 1 1 1 1 1 1 1 1 1 1 1 1\n",
      " 0 0 0 0 0 0 0 0 0 0 0 0 0 0 0 0 0 0 0 0 0 0 0 0 0 0 0 0 0 0 0 0 0 0 0 0 0\n",
      " 0 0 0 0 0 0 0 0 0 0 0 0 0 0 0 0 0 0 0 0 0 0 0 0 0 0 0 0 0 0 0 0 0 0 0 0 0\n",
      " 0 0 0 0 0 0 0 0 0 0 0 0 0 0 0 0 0 0 0 0 0 0 0 0 0 0 0 0 0 0 0 0 0 0 0 0 0\n",
      " 0 0 0 0 0 0 0 0 0 0 0 0 0 0 0 0 0 0 0 0 0 0 0 0 0 0 0 0 0 0 0 0 0 0 0 0 0\n",
      " 0 0 0 0 0 0 0 0 0 0 0 0 0 0 0 0 0 0 0 0 0 0 0 0 0 0 0 0 0 0 0 0 0 0 0 0 0\n",
      " 0 0 0 0 0 0 0 0 0 0 0 0 0 0 0 0 0 0 0 0 0 0 0 0 0 0 0 0 0 0 0 0 0 0 0 0 0\n",
      " 0 0 0 0 0 0 0 0 0 0 0 0 0 0 0 0 0 0 0 0 0 0 0 0 0 0 0 0 0 0 0 0 0 0 0 0 0\n",
      " 0 0 0 0 0 0 0 0 0 0 0 0 0 0 0 0 0 0 0 0 0 0 0 0 0 0 0 0 0 0 0 0 0 0 0 0 0\n",
      " 0 0 0 0 0 0 0 0 0 0 0 0 0 0 0 0 0 0 0 0 0 0 0 0 0 0 0 0 0 0 0 0 0 0 0 0 0\n",
      " 0 0 0 0 0 0 0 0 0 0 0 0 0 0 0 0 0 0 0 0 0 0 0 0 0 0 0 0 0 0 0 0 0 0 0 0 0\n",
      " 0 0 0 0 0 0 0 0 0 0 0 0 0 0 0 0 0 0 0 0 0 0 0 0 0 0 0 0 0 0 0 0 0 0 0 0 0\n",
      " 0 0 0 0 0 0 0 0 0 0 0 0 0 0 0 0 0 0 0 0 0 0 0 0 0 0 0 0 0 0 0]\n",
      "label = \n",
      "[0]\n",
      "Time for [5 - prepare eval data]: 0:00:00.352778\n"
     ]
    }
   ],
   "source": [
    "with Timer(\"5 - prepare eval data\"):\n",
    "    data_dev_raw, data_dev = transform_dataset(X_dev, y_dev, transform)\n",
    "    print_infos(vocabulary, data_dev_raw, data_dev)"
   ]
  },
  {
   "cell_type": "code",
   "execution_count": 96,
   "metadata": {
    "ExecuteTime": {
     "end_time": "2019-07-20T08:06:39.531566Z",
     "start_time": "2019-07-20T07:58:48.027001Z"
    },
    "code_folding": [],
    "collapsed": true
   },
   "outputs": [
    {
     "data": {
      "application/vnd.jupyter.widget-view+json": {
       "model_id": "0e86883b9d0c4636918046d5f56145b9",
       "version_major": 2,
       "version_minor": 0
      },
      "text/plain": [
       "HBox(children=(IntProgress(value=0, max=3196), HTML(value='')))"
      ]
     },
     "metadata": {},
     "output_type": "display_data"
    },
    {
     "name": "stderr",
     "output_type": "stream",
     "text": [
      "2019-07-20 09:58:48,209 : INFO : successfully opened events file: data/within_traindev_proepi512_BCE_0.1/events.out.tfevents.1563609528.cuda\n",
      "2019-07-20 09:58:48,218 : INFO : wrote 1 event to disk\n",
      "2019-07-20 09:58:48,219 : INFO : wrote 1 event to disk\n",
      "2019-07-20 09:59:48,225 : INFO : wrote 836 events to disk\n",
      "2019-07-20 10:00:48,363 : INFO : wrote 820 events to disk\n",
      "2019-07-20 10:01:48,400 : INFO : wrote 812 events to disk\n",
      "2019-07-20 10:02:48,473 : INFO : wrote 808 events to disk\n",
      "2019-07-20 10:03:48,596 : INFO : wrote 814 events to disk\n",
      "2019-07-20 10:04:48,690 : INFO : wrote 798 events to disk\n",
      "2019-07-20 10:05:48,787 : INFO : wrote 838 events to disk\n"
     ]
    },
    {
     "name": "stdout",
     "output_type": "stream",
     "text": [
      "Time for [prediction]: 0:07:50.721907\n",
      "Accuracy: 0.9200438116100766\n"
     ]
    },
    {
     "name": "stderr",
     "output_type": "stream",
     "text": [
      "2019-07-20 10:06:39,528 : INFO : wrote 665 events to disk\n"
     ]
    },
    {
     "name": "stdout",
     "output_type": "stream",
     "text": [
      "Confusion Matrix:\n",
      "[[2664  295]\n",
      " [ 216 3216]]\n",
      "\n",
      "Accuracy:  0.92 \n",
      "\n",
      "Report for [BERTClassifier - BCE prolog+epilog 0.1 split]:\n",
      "              precision    recall  f1-score   support\n",
      "\n",
      "           0       0.93      0.90      0.91      2959\n",
      "           1       0.92      0.94      0.93      3432\n",
      "\n",
      "    accuracy                           0.92      6391\n",
      "   macro avg       0.92      0.92      0.92      6391\n",
      "weighted avg       0.92      0.92      0.92      6391\n",
      "\n",
      "Time for [6 - evaluate]: 0:07:51.496374\n"
     ]
    }
   ],
   "source": [
    "run_name = \"within_traindev_proepi512_BCE_0.1\"\n",
    "with Timer(\"6 - evaluate\"), SummaryWriter(logdir=\"data/\" + run_name, flush_secs=60) as sw:\n",
    "    # model.load_parameters(\"data/\" + run_name + \"/bert.model.params\", ctx=ctx)\n",
    "    # bert.model.checkpoint4.params\n",
    "    all_predictions, cum_loss = predict(model, data_dev, ctx, metric, loss_function, batch_size=2, sw=sw)\n",
    "    print(\"Accuracy:\", metric.get()[1])\n",
    "\n",
    "    y_true, y_pred = predict_out_to_ys(all_predictions, all_labels)\n",
    "    report_training_results(y_true, y_pred, name=\"BERTClassifier - BCE prolog+epilog 0.1 split\", heatmap=False)"
   ]
  },
  {
   "cell_type": "markdown",
   "metadata": {},
   "source": [
    "### Train and evaluate each epoch"
   ]
  },
  {
   "cell_type": "code",
   "execution_count": null,
   "metadata": {
    "scrolled": true
   },
   "outputs": [],
   "source": [
    "for epoch_id in range(5):\n",
    "    with Timer(\"4 - train model - {}\".format(epoch_id)):\n",
    "        # stats = train(model, data_train, ctx, metric, loss_function, batch_size=32, lr=5e-6, num_epochs=epoch_id + 1)\n",
    "        stats = train(model, data_train, ctx, metric, loss_function, batch_size=2, lr=5e-6, num_epochs=epoch_id + 1)  # seq_len: 512\n",
    "        # stats = train_multi(model, data_train, ctx, metric, loss_function, batch_size=4, lr=5e-6, num_epochs=epoch_id + 1)  # seq_len: 512\n",
    "        plot_train_stats(stats)\n",
    "\n",
    "    with Timer(\"6 - evaluate - {}\".format(epoch_id)):\n",
    "        # all_predictions, cum_loss = predict(model, data_dev, ctx, metric, loss_function)\n",
    "        all_predictions, cum_loss = predict(model, data_dev, ctx, metric, loss_function, batch_size=2)  # seq_len: 512\n",
    "        print(\"Accuracy in epoch {}:\".format(epoch_id), metric.get()[1])\n",
    "        y_true, y_pred = predict_out_to_ys(all_predictions, all_labels)\n",
    "        report_training_results(y_true, y_pred, name=\"BERTClassifier - last part\", heatmap=False)\n",
    "\n",
    "    model.save_parameters(\"data/bert.model.params\")"
   ]
  },
  {
   "cell_type": "markdown",
   "metadata": {},
   "source": [
    "### Cross topic - Training and evaluating model "
   ]
  },
  {
   "cell_type": "code",
   "execution_count": 97,
   "metadata": {
    "ExecuteTime": {
     "end_time": "2019-07-20T08:06:48.797366Z",
     "start_time": "2019-07-20T08:06:48.778019Z"
    }
   },
   "outputs": [
    {
     "name": "stdout",
     "output_type": "stream",
     "text": [
      "Time for [1 - test/train split]: 0:00:00.015553\n"
     ]
    }
   ],
   "source": [
    "# 1. Getting train and dev data\n",
    "with Timer(\"1 - test/train split\"):\n",
    "    X_train, X_dev, y_train, y_dev = get_train_test_sets(cross_traindev_df, ratio=0.1)"
   ]
  },
  {
   "cell_type": "code",
   "execution_count": null,
   "metadata": {},
   "outputs": [],
   "source": [
    "# 2. setup\n",
    "with Timer(\"2 - setup BERT model\"):\n",
    "    model, vocabulary, ctx, tokenizer, transform, loss_function, metric, all_labels = setup_bert()"
   ]
  },
  {
   "cell_type": "code",
   "execution_count": null,
   "metadata": {},
   "outputs": [],
   "source": [
    "with Timer(\"3 - prepare training data\"):\n",
    "    data_train_raw, data_train = transform_dataset(X_train, y_train, transform)\n",
    "    print_infos(vocabulary, data_train_raw, data_train)"
   ]
  },
  {
   "cell_type": "code",
   "execution_count": null,
   "metadata": {
    "code_folding": [
     0
    ]
   },
   "outputs": [],
   "source": [
    "with Timer(\"4 - train model\"):\n",
    "    # train(model, data_train, ctx, metric, loss_function, batch_size=32, lr=5e-6, num_epochs=3)\n",
    "    stats = train(model, data_train, ctx, metric, loss_function, batch_size=32, lr=5e-6, num_epochs=2)\n",
    "    # model.save_parameters(\"data/same-side-classification/cross-topic/bert.model.params\")\n",
    "    model.save_parameters(\"data/bert.model.params\")\n",
    "\n",
    "    plot_train_stats(stats)"
   ]
  },
  {
   "cell_type": "code",
   "execution_count": 98,
   "metadata": {
    "ExecuteTime": {
     "end_time": "2019-07-20T08:06:59.018950Z",
     "start_time": "2019-07-20T08:06:58.681554Z"
    },
    "collapsed": true
   },
   "outputs": [
    {
     "name": "stdout",
     "output_type": "stream",
     "text": [
      "alcoholism and drug-use are common after abortions.\n",
      "uncertainty over whether fetuses are \"life\" should halt abortions.\n",
      "1\n",
      "vocabulary used for tokenization = \n",
      "Vocab(size=30522, unk=\"[UNK]\", reserved=\"['[PAD]', '[CLS]', '[SEP]', '[MASK]']\")\n",
      "[PAD] token id = 1\n",
      "[CLS] token id = 2\n",
      "[SEP] token id = 3\n",
      "token ids = \n",
      "[    2 25519  1998  4319  1011  2224  2024  2691  2044 11324  2015  1012\n",
      "     3 12503  2058  3251 10768  5809  2229  2024  1000  2166  1000  2323\n",
      "  9190 11324  2015  1012     3     1     1     1     1     1     1     1\n",
      "     1     1     1     1     1     1     1     1     1     1     1     1\n",
      "     1     1     1     1     1     1     1     1     1     1     1     1\n",
      "     1     1     1     1     1     1     1     1     1     1     1     1\n",
      "     1     1     1     1     1     1     1     1     1     1     1     1\n",
      "     1     1     1     1     1     1     1     1     1     1     1     1\n",
      "     1     1     1     1     1     1     1     1     1     1     1     1\n",
      "     1     1     1     1     1     1     1     1     1     1     1     1\n",
      "     1     1     1     1     1     1     1     1     1     1     1     1\n",
      "     1     1     1     1     1     1     1     1     1     1     1     1\n",
      "     1     1     1     1     1     1     1     1     1     1     1     1\n",
      "     1     1     1     1     1     1     1     1     1     1     1     1\n",
      "     1     1     1     1     1     1     1     1     1     1     1     1\n",
      "     1     1     1     1     1     1     1     1     1     1     1     1\n",
      "     1     1     1     1     1     1     1     1     1     1     1     1\n",
      "     1     1     1     1     1     1     1     1     1     1     1     1\n",
      "     1     1     1     1     1     1     1     1     1     1     1     1\n",
      "     1     1     1     1     1     1     1     1     1     1     1     1\n",
      "     1     1     1     1     1     1     1     1     1     1     1     1\n",
      "     1     1     1     1     1     1     1     1     1     1     1     1\n",
      "     1     1     1     1     1     1     1     1     1     1     1     1\n",
      "     1     1     1     1     1     1     1     1     1     1     1     1\n",
      "     1     1     1     1     1     1     1     1     1     1     1     1\n",
      "     1     1     1     1     1     1     1     1     1     1     1     1\n",
      "     1     1     1     1     1     1     1     1     1     1     1     1\n",
      "     1     1     1     1     1     1     1     1     1     1     1     1\n",
      "     1     1     1     1     1     1     1     1     1     1     1     1\n",
      "     1     1     1     1     1     1     1     1     1     1     1     1\n",
      "     1     1     1     1     1     1     1     1     1     1     1     1\n",
      "     1     1     1     1     1     1     1     1     1     1     1     1\n",
      "     1     1     1     1     1     1     1     1     1     1     1     1\n",
      "     1     1     1     1     1     1     1     1     1     1     1     1\n",
      "     1     1     1     1     1     1     1     1     1     1     1     1\n",
      "     1     1     1     1     1     1     1     1     1     1     1     1\n",
      "     1     1     1     1     1     1     1     1     1     1     1     1\n",
      "     1     1     1     1     1     1     1     1     1     1     1     1\n",
      "     1     1     1     1     1     1     1     1     1     1     1     1\n",
      "     1     1     1     1     1     1     1     1     1     1     1     1\n",
      "     1     1     1     1     1     1     1     1     1     1     1     1\n",
      "     1     1     1     1     1     1     1     1     1     1     1     1\n",
      "     1     1     1     1     1     1     1     1]\n",
      "valid length = \n",
      "29\n",
      "segment ids = \n",
      "[0 0 0 0 0 0 0 0 0 0 0 0 0 1 1 1 1 1 1 1 1 1 1 1 1 1 1 1 1 0 0 0 0 0 0 0 0\n",
      " 0 0 0 0 0 0 0 0 0 0 0 0 0 0 0 0 0 0 0 0 0 0 0 0 0 0 0 0 0 0 0 0 0 0 0 0 0\n",
      " 0 0 0 0 0 0 0 0 0 0 0 0 0 0 0 0 0 0 0 0 0 0 0 0 0 0 0 0 0 0 0 0 0 0 0 0 0\n",
      " 0 0 0 0 0 0 0 0 0 0 0 0 0 0 0 0 0 0 0 0 0 0 0 0 0 0 0 0 0 0 0 0 0 0 0 0 0\n",
      " 0 0 0 0 0 0 0 0 0 0 0 0 0 0 0 0 0 0 0 0 0 0 0 0 0 0 0 0 0 0 0 0 0 0 0 0 0\n",
      " 0 0 0 0 0 0 0 0 0 0 0 0 0 0 0 0 0 0 0 0 0 0 0 0 0 0 0 0 0 0 0 0 0 0 0 0 0\n",
      " 0 0 0 0 0 0 0 0 0 0 0 0 0 0 0 0 0 0 0 0 0 0 0 0 0 0 0 0 0 0 0 0 0 0 0 0 0\n",
      " 0 0 0 0 0 0 0 0 0 0 0 0 0 0 0 0 0 0 0 0 0 0 0 0 0 0 0 0 0 0 0 0 0 0 0 0 0\n",
      " 0 0 0 0 0 0 0 0 0 0 0 0 0 0 0 0 0 0 0 0 0 0 0 0 0 0 0 0 0 0 0 0 0 0 0 0 0\n",
      " 0 0 0 0 0 0 0 0 0 0 0 0 0 0 0 0 0 0 0 0 0 0 0 0 0 0 0 0 0 0 0 0 0 0 0 0 0\n",
      " 0 0 0 0 0 0 0 0 0 0 0 0 0 0 0 0 0 0 0 0 0 0 0 0 0 0 0 0 0 0 0 0 0 0 0 0 0\n",
      " 0 0 0 0 0 0 0 0 0 0 0 0 0 0 0 0 0 0 0 0 0 0 0 0 0 0 0 0 0 0 0 0 0 0 0 0 0\n",
      " 0 0 0 0 0 0 0 0 0 0 0 0 0 0 0 0 0 0 0 0 0 0 0 0 0 0 0 0 0 0 0 0 0 0 0 0 0\n",
      " 0 0 0 0 0 0 0 0 0 0 0 0 0 0 0 0 0 0 0 0 0 0 0 0 0 0 0 0 0 0 0]\n",
      "epi token ids = \n",
      "[    2 25519  1998  4319  1011  2224  2024  2691  2044 11324  2015  1012\n",
      "     3 12503  2058  3251 10768  5809  2229  2024  1000  2166  1000  2323\n",
      "  9190 11324  2015  1012     3     1     1     1     1     1     1     1\n",
      "     1     1     1     1     1     1     1     1     1     1     1     1\n",
      "     1     1     1     1     1     1     1     1     1     1     1     1\n",
      "     1     1     1     1     1     1     1     1     1     1     1     1\n",
      "     1     1     1     1     1     1     1     1     1     1     1     1\n",
      "     1     1     1     1     1     1     1     1     1     1     1     1\n",
      "     1     1     1     1     1     1     1     1     1     1     1     1\n",
      "     1     1     1     1     1     1     1     1     1     1     1     1\n",
      "     1     1     1     1     1     1     1     1     1     1     1     1\n",
      "     1     1     1     1     1     1     1     1     1     1     1     1\n",
      "     1     1     1     1     1     1     1     1     1     1     1     1\n",
      "     1     1     1     1     1     1     1     1     1     1     1     1\n",
      "     1     1     1     1     1     1     1     1     1     1     1     1\n",
      "     1     1     1     1     1     1     1     1     1     1     1     1\n",
      "     1     1     1     1     1     1     1     1     1     1     1     1\n",
      "     1     1     1     1     1     1     1     1     1     1     1     1\n",
      "     1     1     1     1     1     1     1     1     1     1     1     1\n",
      "     1     1     1     1     1     1     1     1     1     1     1     1\n",
      "     1     1     1     1     1     1     1     1     1     1     1     1\n",
      "     1     1     1     1     1     1     1     1     1     1     1     1\n",
      "     1     1     1     1     1     1     1     1     1     1     1     1\n",
      "     1     1     1     1     1     1     1     1     1     1     1     1\n",
      "     1     1     1     1     1     1     1     1     1     1     1     1\n",
      "     1     1     1     1     1     1     1     1     1     1     1     1\n",
      "     1     1     1     1     1     1     1     1     1     1     1     1\n",
      "     1     1     1     1     1     1     1     1     1     1     1     1\n",
      "     1     1     1     1     1     1     1     1     1     1     1     1\n",
      "     1     1     1     1     1     1     1     1     1     1     1     1\n",
      "     1     1     1     1     1     1     1     1     1     1     1     1\n",
      "     1     1     1     1     1     1     1     1     1     1     1     1\n",
      "     1     1     1     1     1     1     1     1     1     1     1     1\n",
      "     1     1     1     1     1     1     1     1     1     1     1     1\n",
      "     1     1     1     1     1     1     1     1     1     1     1     1\n",
      "     1     1     1     1     1     1     1     1     1     1     1     1\n",
      "     1     1     1     1     1     1     1     1     1     1     1     1\n",
      "     1     1     1     1     1     1     1     1     1     1     1     1\n",
      "     1     1     1     1     1     1     1     1     1     1     1     1\n",
      "     1     1     1     1     1     1     1     1     1     1     1     1\n",
      "     1     1     1     1     1     1     1     1     1     1     1     1\n",
      "     1     1     1     1     1     1     1     1     1     1     1     1\n",
      "     1     1     1     1     1     1     1     1]\n",
      "epi valid length = \n",
      "29\n",
      "epi segment ids = \n",
      "[0 0 0 0 0 0 0 0 0 0 0 0 0 1 1 1 1 1 1 1 1 1 1 1 1 1 1 1 1 0 0 0 0 0 0 0 0\n",
      " 0 0 0 0 0 0 0 0 0 0 0 0 0 0 0 0 0 0 0 0 0 0 0 0 0 0 0 0 0 0 0 0 0 0 0 0 0\n",
      " 0 0 0 0 0 0 0 0 0 0 0 0 0 0 0 0 0 0 0 0 0 0 0 0 0 0 0 0 0 0 0 0 0 0 0 0 0\n",
      " 0 0 0 0 0 0 0 0 0 0 0 0 0 0 0 0 0 0 0 0 0 0 0 0 0 0 0 0 0 0 0 0 0 0 0 0 0\n",
      " 0 0 0 0 0 0 0 0 0 0 0 0 0 0 0 0 0 0 0 0 0 0 0 0 0 0 0 0 0 0 0 0 0 0 0 0 0\n",
      " 0 0 0 0 0 0 0 0 0 0 0 0 0 0 0 0 0 0 0 0 0 0 0 0 0 0 0 0 0 0 0 0 0 0 0 0 0\n",
      " 0 0 0 0 0 0 0 0 0 0 0 0 0 0 0 0 0 0 0 0 0 0 0 0 0 0 0 0 0 0 0 0 0 0 0 0 0\n",
      " 0 0 0 0 0 0 0 0 0 0 0 0 0 0 0 0 0 0 0 0 0 0 0 0 0 0 0 0 0 0 0 0 0 0 0 0 0\n",
      " 0 0 0 0 0 0 0 0 0 0 0 0 0 0 0 0 0 0 0 0 0 0 0 0 0 0 0 0 0 0 0 0 0 0 0 0 0\n",
      " 0 0 0 0 0 0 0 0 0 0 0 0 0 0 0 0 0 0 0 0 0 0 0 0 0 0 0 0 0 0 0 0 0 0 0 0 0\n",
      " 0 0 0 0 0 0 0 0 0 0 0 0 0 0 0 0 0 0 0 0 0 0 0 0 0 0 0 0 0 0 0 0 0 0 0 0 0\n",
      " 0 0 0 0 0 0 0 0 0 0 0 0 0 0 0 0 0 0 0 0 0 0 0 0 0 0 0 0 0 0 0 0 0 0 0 0 0\n",
      " 0 0 0 0 0 0 0 0 0 0 0 0 0 0 0 0 0 0 0 0 0 0 0 0 0 0 0 0 0 0 0 0 0 0 0 0 0\n",
      " 0 0 0 0 0 0 0 0 0 0 0 0 0 0 0 0 0 0 0 0 0 0 0 0 0 0 0 0 0 0 0]\n",
      "label = \n",
      "[1]\n",
      "Time for [5 - prepare eval data]: 0:00:00.334293\n"
     ]
    }
   ],
   "source": [
    "with Timer(\"5 - prepare eval data\"):\n",
    "    data_dev_raw, data_dev = transform_dataset(X_dev, y_dev, transform)\n",
    "    print_infos(vocabulary, data_dev_raw, data_dev)"
   ]
  },
  {
   "cell_type": "code",
   "execution_count": 99,
   "metadata": {
    "ExecuteTime": {
     "end_time": "2019-07-20T08:14:59.669044Z",
     "start_time": "2019-07-20T08:07:25.766173Z"
    },
    "code_folding": []
   },
   "outputs": [
    {
     "data": {
      "application/vnd.jupyter.widget-view+json": {
       "model_id": "cedaa4df8ffb4cb093da359c2d75b040",
       "version_major": 2,
       "version_minor": 0
      },
      "text/plain": [
       "HBox(children=(IntProgress(value=0, max=3053), HTML(value='')))"
      ]
     },
     "metadata": {},
     "output_type": "display_data"
    },
    {
     "name": "stdout",
     "output_type": "stream",
     "text": [
      "Time for [prediction]: 0:07:33.161638\n",
      "Accuracy: 0.9592137592137592\n",
      "Confusion Matrix:\n",
      "[[2875  149]\n",
      " [ 100 2981]]\n",
      "\n",
      "Accuracy:  0.96 \n",
      "\n",
      "Report for [BERTClassifier within->cross 0.1 split]:\n",
      "              precision    recall  f1-score   support\n",
      "\n",
      "           0       0.97      0.95      0.96      3024\n",
      "           1       0.95      0.97      0.96      3081\n",
      "\n",
      "    accuracy                           0.96      6105\n",
      "   macro avg       0.96      0.96      0.96      6105\n",
      "weighted avg       0.96      0.96      0.96      6105\n",
      "\n",
      "Time for [6 - evaluate]: 0:07:33.895663\n"
     ]
    }
   ],
   "source": [
    "with Timer(\"6 - evaluate\"):\n",
    "    # model.load_parameters(\"data/same-side-classification/cross-topic/bert.model.params\", ctx=ctx)\n",
    "    #model.load_parameters(\"data/bert.model.params\", ctx=ctx)\n",
    "    # load model from \"within\" to evaluate with \"cross\" test-data\n",
    "    #model.load_parameters('data/within_traindev_proepi512_BCE/bert.model.checkpoint4.params', ctx=ctx)\n",
    "    # model.load_parameters('data/cross_traindev_proepi512_BCE/bert.model.checkpoint4.params', ctx=ctx)\n",
    "    all_predictions, cum_loss = predict(model, data_dev, ctx, metric, loss_function, batch_size=2)\n",
    "    print(\"Accuracy:\", metric.get()[1])\n",
    "\n",
    "    y_true, y_pred = predict_out_to_ys(all_predictions, all_labels)\n",
    "    report_training_results(y_true, y_pred, name=\"BERTClassifier within->cross 0.1 split\", heatmap=False)"
   ]
  },
  {
   "cell_type": "code",
   "execution_count": null,
   "metadata": {
    "code_folding": [
     2,
     14,
     22
    ],
    "scrolled": true
   },
   "outputs": [],
   "source": [
    "for epoch_id in range(5):\n",
    "    with Timer(\"4 - train model - {}\".format(epoch_id)):\n",
    "        stats = train(model,\n",
    "                      data_train,\n",
    "                      ctx,\n",
    "                      metric,\n",
    "                      loss_function,\n",
    "                      batch_size=2,\n",
    "                      lr=5e-6,\n",
    "                      num_epochs=epoch_id + 1,\n",
    "                      checkpoint_dir='data/cross_traindev_proepi512_BCE')\n",
    "        plot_train_stats(stats)\n",
    "\n",
    "    with Timer(\"6 - evaluate - {}\".format(epoch_id)):\n",
    "        all_predictions, cum_loss = predict(model,\n",
    "                                            data_dev,\n",
    "                                            ctx,\n",
    "                                            metric,\n",
    "                                            loss_function,\n",
    "                                            batch_size=2)\n",
    "        print(\"Accuracy in epoch {}:\".format(epoch_id), metric.get()[1])\n",
    "        y_true, y_pred = predict_out_to_ys(all_predictions, all_labels)\n",
    "        report_training_results(y_true,\n",
    "                                y_pred,\n",
    "                                name=\"BERTClassifier\",\n",
    "                                heatmap=False)\n",
    "\n",
    "    model.save_parameters(\n",
    "        \"data/cross_traindev_proepi512_BCE/bert.model.params\")"
   ]
  },
  {
   "cell_type": "code",
   "execution_count": null,
   "metadata": {},
   "outputs": [],
   "source": [
    "with Timer(\"11 - test/train split\"):\n",
    "    # evaluate on \"within\" test-data\n",
    "    _, X_dev, _, y_dev = get_train_test_sets(within_traindev_df)\n",
    "\n",
    "with Timer(\"12 - prepare eval data\"):\n",
    "    data_dev_raw, data_dev = transform_dataset(X_dev, y_dev, transform)\n",
    "    print_infos(vocabulary, data_dev_raw, data_dev)\n",
    "\n",
    "with Timer(\"13 - evaluate\"):\n",
    "    # model from \"cross\"\n",
    "    all_predictions, cum_loss = predict(model, data_dev, ctx, metric, loss_function, batch_size=2)\n",
    "    print(\"Accuracy:\", metric.get()[1])\n",
    "\n",
    "    y_true, y_pred = predict_out_to_ys(all_predictions, all_labels)\n",
    "    report_training_results(y_true, y_pred, name=\"BERTClassifier cross with within\", heatmap=False)"
   ]
  },
  {
   "cell_type": "code",
   "execution_count": null,
   "metadata": {},
   "outputs": [],
   "source": []
  },
  {
   "cell_type": "markdown",
   "metadata": {},
   "source": [
    "---\n",
    "---"
   ]
  },
  {
   "cell_type": "markdown",
   "metadata": {},
   "source": [
    "##### Test Cross-Model with Within-Test\n",
    "\n",
    "5 epochs of cross"
   ]
  },
  {
   "cell_type": "code",
   "execution_count": null,
   "metadata": {},
   "outputs": [],
   "source": [
    "model, vocabulary, ctx, tokenizer, transform, loss_function, metric, all_labels = setup_bert()"
   ]
  },
  {
   "cell_type": "code",
   "execution_count": null,
   "metadata": {},
   "outputs": [],
   "source": [
    "model.load_parameters('data/cross_traindev_proepi512_BCE/bert.model.checkpoint4.params', ctx=ctx)"
   ]
  },
  {
   "cell_type": "code",
   "execution_count": null,
   "metadata": {
    "code_folding": []
   },
   "outputs": [],
   "source": [
    "_, X_dev, _, y_dev = get_train_test_sets(within_traindev_df)\n",
    "\n",
    "data_dev_raw, data_dev = transform_dataset(X_dev, y_dev, transform)\n",
    "print_infos(vocabulary, data_dev_raw, data_dev)"
   ]
  },
  {
   "cell_type": "code",
   "execution_count": null,
   "metadata": {},
   "outputs": [],
   "source": [
    "all_predictions, cum_loss = predict(model, data_dev, ctx, metric, loss_function, batch_size=2)\n",
    "print(\"Accuracy:\", metric.get()[1])\n",
    "\n",
    "y_true, y_pred = predict_out_to_ys(all_predictions, all_labels)\n",
    "report_training_results(y_true, y_pred, name=\"BERTClassifier cross with within\", heatmap=False)"
   ]
  },
  {
   "cell_type": "markdown",
   "metadata": {},
   "source": [
    "```\n",
    "Time for [prediction]: 0:24:48.940295\n",
    "Accuracy: 0.8536330916488446\n",
    "Confusion Matrix:\n",
    "[[7659 1174]\n",
    " [1632 8706]]\n",
    "\n",
    "Accuracy:  0.85 \n",
    "\n",
    "Report for [BERTClassifier cross with within]:\n",
    "              precision    recall  f1-score   support\n",
    "\n",
    "           0       0.82      0.87      0.85      8833\n",
    "           1       0.88      0.84      0.86     10338\n",
    "\n",
    "    accuracy                           0.85     19171\n",
    "   macro avg       0.85      0.85      0.85     19171\n",
    "weighted avg       0.85      0.85      0.85     19171\n",
    "```"
   ]
  },
  {
   "cell_type": "markdown",
   "metadata": {},
   "source": [
    "#### Test Within-Model with Cross-Test\n",
    "\n",
    "5 epochs of within"
   ]
  },
  {
   "cell_type": "code",
   "execution_count": null,
   "metadata": {},
   "outputs": [],
   "source": [
    "model, vocabulary, ctx, tokenizer, transform, loss_function, metric, all_labels = setup_bert()"
   ]
  },
  {
   "cell_type": "code",
   "execution_count": null,
   "metadata": {},
   "outputs": [],
   "source": [
    "model.load_parameters('data/within_traindev_proepi512_BCE/bert.model.checkpoint4.params', ctx=ctx)"
   ]
  },
  {
   "cell_type": "code",
   "execution_count": null,
   "metadata": {},
   "outputs": [],
   "source": [
    "_, X_dev, _, y_dev = get_train_test_sets(cross_traindev_df)\n",
    "\n",
    "data_dev_raw, data_dev = transform_dataset(X_dev, y_dev, transform)\n",
    "print_infos(vocabulary, data_dev_raw, data_dev)"
   ]
  },
  {
   "cell_type": "code",
   "execution_count": null,
   "metadata": {},
   "outputs": [],
   "source": [
    "with Timer(\"evaluate within with cross\"):\n",
    "    all_predictions, cum_loss = predict(model, data_dev, ctx, metric, loss_function, batch_size=2)\n",
    "    print(\"Accuracy:\", metric.get()[1])\n",
    "\n",
    "    y_true, y_pred = predict_out_to_ys(all_predictions, all_labels)\n",
    "    report_training_results(y_true, y_pred, name=\"BERTClassifier within with cross\", heatmap=False)"
   ]
  },
  {
   "cell_type": "markdown",
   "metadata": {},
   "source": [
    "```\n",
    "Time for [prediction]: 0:22:17.542674\n",
    "Accuracy: 0.9379197379197379\n",
    "Confusion Matrix:\n",
    "[[8397  539]\n",
    " [ 598 8781]]\n",
    "\n",
    "Accuracy:  0.94 \n",
    "\n",
    "Report for [BERTClassifier]:\n",
    "              precision    recall  f1-score   support\n",
    "\n",
    "           0       0.93      0.94      0.94      8936\n",
    "           1       0.94      0.94      0.94      9379\n",
    "\n",
    "    accuracy                           0.94     18315\n",
    "   macro avg       0.94      0.94      0.94     18315\n",
    "weighted avg       0.94      0.94      0.94     18315\n",
    "\n",
    "Time for [6 - evaluate]: 0:22:19.841677\n",
    "```"
   ]
  },
  {
   "cell_type": "markdown",
   "metadata": {},
   "source": [
    "#### Test Within-Model with Within-Test\n",
    "\n",
    "5 epochs of within"
   ]
  },
  {
   "cell_type": "code",
   "execution_count": null,
   "metadata": {},
   "outputs": [],
   "source": [
    "model, vocabulary, ctx, tokenizer, transform, loss_function, metric, all_labels = setup_bert()"
   ]
  },
  {
   "cell_type": "code",
   "execution_count": null,
   "metadata": {},
   "outputs": [],
   "source": [
    "model.load_parameters('data/within_traindev_proepi512_BCE/bert.model.checkpoint4.params', ctx=ctx)"
   ]
  },
  {
   "cell_type": "code",
   "execution_count": null,
   "metadata": {},
   "outputs": [],
   "source": [
    "_, X_dev, _, y_dev = get_train_test_sets(within_traindev_df)\n",
    "\n",
    "data_dev_raw, data_dev = transform_dataset(X_dev, y_dev, transform)\n",
    "print_infos(vocabulary, data_dev_raw, data_dev)"
   ]
  },
  {
   "cell_type": "code",
   "execution_count": null,
   "metadata": {},
   "outputs": [],
   "source": [
    "with Timer(\"evaluate within with within\"):\n",
    "    all_predictions, cum_loss = predict(model, data_dev, ctx, metric, loss_function, batch_size=2)\n",
    "    print(\"Accuracy:\", metric.get()[1])\n",
    "\n",
    "    y_true, y_pred = predict_out_to_ys(all_predictions, all_labels)\n",
    "    report_training_results(y_true, y_pred, name=\"BERTClassifier within with within\", heatmap=False)"
   ]
  },
  {
   "cell_type": "markdown",
   "metadata": {},
   "source": [
    "```\n",
    "Time for [prediction]: 0:19:51.733113\n",
    "Accuracy: 0.9069427781545042\n",
    "Confusion Matrix:\n",
    "[[7972  861]\n",
    " [ 923 9415]]\n",
    "\n",
    "Accuracy:  0.91 \n",
    "\n",
    "Report for [BERTClassifier within with within]:\n",
    "              precision    recall  f1-score   support\n",
    "\n",
    "           0       0.90      0.90      0.90      8833\n",
    "           1       0.92      0.91      0.91     10338\n",
    "\n",
    "    accuracy                           0.91     19171\n",
    "   macro avg       0.91      0.91      0.91     19171\n",
    "weighted avg       0.91      0.91      0.91     19171\n",
    "\n",
    "Time for [evaluate within with cross]: 0:19:52.352049\n",
    "```"
   ]
  },
  {
   "cell_type": "markdown",
   "metadata": {},
   "source": [
    "#### Test Cross-Model with Cross-Test\n",
    "\n",
    "5 epochs of cross"
   ]
  },
  {
   "cell_type": "code",
   "execution_count": null,
   "metadata": {},
   "outputs": [],
   "source": [
    "model, vocabulary, ctx, tokenizer, transform, loss_function, metric, all_labels = setup_bert()"
   ]
  },
  {
   "cell_type": "code",
   "execution_count": null,
   "metadata": {},
   "outputs": [],
   "source": [
    "model.load_parameters('data/cross_traindev_proepi512_BCE/bert.model.checkpoint4.params', ctx=ctx)"
   ]
  },
  {
   "cell_type": "code",
   "execution_count": null,
   "metadata": {},
   "outputs": [],
   "source": [
    "_, X_dev, _, y_dev = get_train_test_sets(cross_traindev_df)\n",
    "\n",
    "data_dev_raw, data_dev = transform_dataset(X_dev, y_dev, transform)\n",
    "print_infos(vocabulary, data_dev_raw, data_dev)"
   ]
  },
  {
   "cell_type": "code",
   "execution_count": null,
   "metadata": {},
   "outputs": [],
   "source": [
    "all_predictions, cum_loss = predict(model, data_dev, ctx, metric, loss_function, batch_size=2)\n",
    "print(\"Accuracy:\", metric.get()[1])\n",
    "\n",
    "y_true, y_pred = predict_out_to_ys(all_predictions, all_labels)\n",
    "report_training_results(y_true, y_pred, name=\"BERTClassifier cross\", heatmap=False)"
   ]
  },
  {
   "cell_type": "markdown",
   "metadata": {},
   "source": [
    "```\n",
    "Time for [prediction]: 0:23:28.845010\n",
    "Accuracy: 0.9197925197925197\n",
    "Confusion Matrix:\n",
    "[[8329  607]\n",
    " [ 862 8517]]\n",
    "\n",
    "Accuracy:  0.92 \n",
    "\n",
    "Report for [BERTClassifier cross]:\n",
    "              precision    recall  f1-score   support\n",
    "\n",
    "           0       0.91      0.93      0.92      8936\n",
    "           1       0.93      0.91      0.92      9379\n",
    "\n",
    "    accuracy                           0.92     18315\n",
    "   macro avg       0.92      0.92      0.92     18315\n",
    "weighted avg       0.92      0.92      0.92     18315\n",
    "```"
   ]
  },
  {
   "cell_type": "markdown",
   "metadata": {},
   "source": [
    "---\n",
    "---"
   ]
  },
  {
   "cell_type": "markdown",
   "metadata": {},
   "source": [
    "#### Details to wrong classified arguments\n",
    "\n",
    "within_traindev"
   ]
  },
  {
   "cell_type": "code",
   "execution_count": 25,
   "metadata": {
    "ExecuteTime": {
     "end_time": "2019-07-17T10:30:03.399774Z",
     "start_time": "2019-07-17T10:29:58.769416Z"
    },
    "collapsed": true
   },
   "outputs": [
    {
     "name": "stdout",
     "output_type": "stream",
     "text": [
      "BERTModel(\n",
      "  (encoder): BERTEncoder(\n",
      "    (dropout_layer): Dropout(p = 0.1, axes=())\n",
      "    (layer_norm): BERTLayerNorm(eps=1e-12, axis=-1, center=True, scale=True, in_channels=768)\n",
      "    (transformer_cells): HybridSequential(\n",
      "      (0): BERTEncoderCell(\n",
      "        (dropout_layer): Dropout(p = 0.1, axes=())\n",
      "        (attention_cell): MultiHeadAttentionCell(\n",
      "          (_base_cell): DotProductAttentionCell(\n",
      "            (_dropout_layer): Dropout(p = 0.1, axes=())\n",
      "          )\n",
      "          (proj_query): Dense(768 -> 768, linear)\n",
      "          (proj_key): Dense(768 -> 768, linear)\n",
      "          (proj_value): Dense(768 -> 768, linear)\n",
      "        )\n",
      "        (proj): Dense(768 -> 768, linear)\n",
      "        (ffn): BERTPositionwiseFFN(\n",
      "          (ffn_1): Dense(768 -> 3072, linear)\n",
      "          (activation): GELU()\n",
      "          (ffn_2): Dense(3072 -> 768, linear)\n",
      "          (dropout_layer): Dropout(p = 0.1, axes=())\n",
      "          (layer_norm): BERTLayerNorm(eps=1e-12, axis=-1, center=True, scale=True, in_channels=768)\n",
      "        )\n",
      "        (layer_norm): BERTLayerNorm(eps=1e-12, axis=-1, center=True, scale=True, in_channels=768)\n",
      "      )\n",
      "      (1): BERTEncoderCell(\n",
      "        (dropout_layer): Dropout(p = 0.1, axes=())\n",
      "        (attention_cell): MultiHeadAttentionCell(\n",
      "          (_base_cell): DotProductAttentionCell(\n",
      "            (_dropout_layer): Dropout(p = 0.1, axes=())\n",
      "          )\n",
      "          (proj_query): Dense(768 -> 768, linear)\n",
      "          (proj_key): Dense(768 -> 768, linear)\n",
      "          (proj_value): Dense(768 -> 768, linear)\n",
      "        )\n",
      "        (proj): Dense(768 -> 768, linear)\n",
      "        (ffn): BERTPositionwiseFFN(\n",
      "          (ffn_1): Dense(768 -> 3072, linear)\n",
      "          (activation): GELU()\n",
      "          (ffn_2): Dense(3072 -> 768, linear)\n",
      "          (dropout_layer): Dropout(p = 0.1, axes=())\n",
      "          (layer_norm): BERTLayerNorm(eps=1e-12, axis=-1, center=True, scale=True, in_channels=768)\n",
      "        )\n",
      "        (layer_norm): BERTLayerNorm(eps=1e-12, axis=-1, center=True, scale=True, in_channels=768)\n",
      "      )\n",
      "      (2): BERTEncoderCell(\n",
      "        (dropout_layer): Dropout(p = 0.1, axes=())\n",
      "        (attention_cell): MultiHeadAttentionCell(\n",
      "          (_base_cell): DotProductAttentionCell(\n",
      "            (_dropout_layer): Dropout(p = 0.1, axes=())\n",
      "          )\n",
      "          (proj_query): Dense(768 -> 768, linear)\n",
      "          (proj_key): Dense(768 -> 768, linear)\n",
      "          (proj_value): Dense(768 -> 768, linear)\n",
      "        )\n",
      "        (proj): Dense(768 -> 768, linear)\n",
      "        (ffn): BERTPositionwiseFFN(\n",
      "          (ffn_1): Dense(768 -> 3072, linear)\n",
      "          (activation): GELU()\n",
      "          (ffn_2): Dense(3072 -> 768, linear)\n",
      "          (dropout_layer): Dropout(p = 0.1, axes=())\n",
      "          (layer_norm): BERTLayerNorm(eps=1e-12, axis=-1, center=True, scale=True, in_channels=768)\n",
      "        )\n",
      "        (layer_norm): BERTLayerNorm(eps=1e-12, axis=-1, center=True, scale=True, in_channels=768)\n",
      "      )\n",
      "      (3): BERTEncoderCell(\n",
      "        (dropout_layer): Dropout(p = 0.1, axes=())\n",
      "        (attention_cell): MultiHeadAttentionCell(\n",
      "          (_base_cell): DotProductAttentionCell(\n",
      "            (_dropout_layer): Dropout(p = 0.1, axes=())\n",
      "          )\n",
      "          (proj_query): Dense(768 -> 768, linear)\n",
      "          (proj_key): Dense(768 -> 768, linear)\n",
      "          (proj_value): Dense(768 -> 768, linear)\n",
      "        )\n",
      "        (proj): Dense(768 -> 768, linear)\n",
      "        (ffn): BERTPositionwiseFFN(\n",
      "          (ffn_1): Dense(768 -> 3072, linear)\n",
      "          (activation): GELU()\n",
      "          (ffn_2): Dense(3072 -> 768, linear)\n",
      "          (dropout_layer): Dropout(p = 0.1, axes=())\n",
      "          (layer_norm): BERTLayerNorm(eps=1e-12, axis=-1, center=True, scale=True, in_channels=768)\n",
      "        )\n",
      "        (layer_norm): BERTLayerNorm(eps=1e-12, axis=-1, center=True, scale=True, in_channels=768)\n",
      "      )\n",
      "      (4): BERTEncoderCell(\n",
      "        (dropout_layer): Dropout(p = 0.1, axes=())\n",
      "        (attention_cell): MultiHeadAttentionCell(\n",
      "          (_base_cell): DotProductAttentionCell(\n",
      "            (_dropout_layer): Dropout(p = 0.1, axes=())\n",
      "          )\n",
      "          (proj_query): Dense(768 -> 768, linear)\n",
      "          (proj_key): Dense(768 -> 768, linear)\n",
      "          (proj_value): Dense(768 -> 768, linear)\n",
      "        )\n",
      "        (proj): Dense(768 -> 768, linear)\n",
      "        (ffn): BERTPositionwiseFFN(\n",
      "          (ffn_1): Dense(768 -> 3072, linear)\n",
      "          (activation): GELU()\n",
      "          (ffn_2): Dense(3072 -> 768, linear)\n",
      "          (dropout_layer): Dropout(p = 0.1, axes=())\n",
      "          (layer_norm): BERTLayerNorm(eps=1e-12, axis=-1, center=True, scale=True, in_channels=768)\n",
      "        )\n",
      "        (layer_norm): BERTLayerNorm(eps=1e-12, axis=-1, center=True, scale=True, in_channels=768)\n",
      "      )\n",
      "      (5): BERTEncoderCell(\n",
      "        (dropout_layer): Dropout(p = 0.1, axes=())\n",
      "        (attention_cell): MultiHeadAttentionCell(\n",
      "          (_base_cell): DotProductAttentionCell(\n",
      "            (_dropout_layer): Dropout(p = 0.1, axes=())\n",
      "          )\n",
      "          (proj_query): Dense(768 -> 768, linear)\n",
      "          (proj_key): Dense(768 -> 768, linear)\n",
      "          (proj_value): Dense(768 -> 768, linear)\n",
      "        )\n",
      "        (proj): Dense(768 -> 768, linear)\n",
      "        (ffn): BERTPositionwiseFFN(\n",
      "          (ffn_1): Dense(768 -> 3072, linear)\n",
      "          (activation): GELU()\n",
      "          (ffn_2): Dense(3072 -> 768, linear)\n",
      "          (dropout_layer): Dropout(p = 0.1, axes=())\n",
      "          (layer_norm): BERTLayerNorm(eps=1e-12, axis=-1, center=True, scale=True, in_channels=768)\n",
      "        )\n",
      "        (layer_norm): BERTLayerNorm(eps=1e-12, axis=-1, center=True, scale=True, in_channels=768)\n",
      "      )\n",
      "      (6): BERTEncoderCell(\n",
      "        (dropout_layer): Dropout(p = 0.1, axes=())\n",
      "        (attention_cell): MultiHeadAttentionCell(\n",
      "          (_base_cell): DotProductAttentionCell(\n",
      "            (_dropout_layer): Dropout(p = 0.1, axes=())\n",
      "          )\n",
      "          (proj_query): Dense(768 -> 768, linear)\n",
      "          (proj_key): Dense(768 -> 768, linear)\n",
      "          (proj_value): Dense(768 -> 768, linear)\n",
      "        )\n",
      "        (proj): Dense(768 -> 768, linear)\n",
      "        (ffn): BERTPositionwiseFFN(\n",
      "          (ffn_1): Dense(768 -> 3072, linear)\n",
      "          (activation): GELU()\n",
      "          (ffn_2): Dense(3072 -> 768, linear)\n",
      "          (dropout_layer): Dropout(p = 0.1, axes=())\n",
      "          (layer_norm): BERTLayerNorm(eps=1e-12, axis=-1, center=True, scale=True, in_channels=768)\n",
      "        )\n",
      "        (layer_norm): BERTLayerNorm(eps=1e-12, axis=-1, center=True, scale=True, in_channels=768)\n",
      "      )\n",
      "      (7): BERTEncoderCell(\n",
      "        (dropout_layer): Dropout(p = 0.1, axes=())\n",
      "        (attention_cell): MultiHeadAttentionCell(\n",
      "          (_base_cell): DotProductAttentionCell(\n",
      "            (_dropout_layer): Dropout(p = 0.1, axes=())\n",
      "          )\n",
      "          (proj_query): Dense(768 -> 768, linear)\n",
      "          (proj_key): Dense(768 -> 768, linear)\n",
      "          (proj_value): Dense(768 -> 768, linear)\n",
      "        )\n",
      "        (proj): Dense(768 -> 768, linear)\n",
      "        (ffn): BERTPositionwiseFFN(\n",
      "          (ffn_1): Dense(768 -> 3072, linear)\n",
      "          (activation): GELU()\n",
      "          (ffn_2): Dense(3072 -> 768, linear)\n",
      "          (dropout_layer): Dropout(p = 0.1, axes=())\n",
      "          (layer_norm): BERTLayerNorm(eps=1e-12, axis=-1, center=True, scale=True, in_channels=768)\n",
      "        )\n",
      "        (layer_norm): BERTLayerNorm(eps=1e-12, axis=-1, center=True, scale=True, in_channels=768)\n",
      "      )\n",
      "      (8): BERTEncoderCell(\n",
      "        (dropout_layer): Dropout(p = 0.1, axes=())\n",
      "        (attention_cell): MultiHeadAttentionCell(\n",
      "          (_base_cell): DotProductAttentionCell(\n",
      "            (_dropout_layer): Dropout(p = 0.1, axes=())\n",
      "          )\n",
      "          (proj_query): Dense(768 -> 768, linear)\n",
      "          (proj_key): Dense(768 -> 768, linear)\n",
      "          (proj_value): Dense(768 -> 768, linear)\n",
      "        )\n",
      "        (proj): Dense(768 -> 768, linear)\n",
      "        (ffn): BERTPositionwiseFFN(\n",
      "          (ffn_1): Dense(768 -> 3072, linear)\n",
      "          (activation): GELU()\n",
      "          (ffn_2): Dense(3072 -> 768, linear)\n",
      "          (dropout_layer): Dropout(p = 0.1, axes=())\n",
      "          (layer_norm): BERTLayerNorm(eps=1e-12, axis=-1, center=True, scale=True, in_channels=768)\n",
      "        )\n",
      "        (layer_norm): BERTLayerNorm(eps=1e-12, axis=-1, center=True, scale=True, in_channels=768)\n",
      "      )\n",
      "      (9): BERTEncoderCell(\n",
      "        (dropout_layer): Dropout(p = 0.1, axes=())\n",
      "        (attention_cell): MultiHeadAttentionCell(\n",
      "          (_base_cell): DotProductAttentionCell(\n",
      "            (_dropout_layer): Dropout(p = 0.1, axes=())\n",
      "          )\n",
      "          (proj_query): Dense(768 -> 768, linear)\n",
      "          (proj_key): Dense(768 -> 768, linear)\n",
      "          (proj_value): Dense(768 -> 768, linear)\n",
      "        )\n",
      "        (proj): Dense(768 -> 768, linear)\n",
      "        (ffn): BERTPositionwiseFFN(\n",
      "          (ffn_1): Dense(768 -> 3072, linear)\n",
      "          (activation): GELU()\n",
      "          (ffn_2): Dense(3072 -> 768, linear)\n",
      "          (dropout_layer): Dropout(p = 0.1, axes=())\n",
      "          (layer_norm): BERTLayerNorm(eps=1e-12, axis=-1, center=True, scale=True, in_channels=768)\n",
      "        )\n",
      "        (layer_norm): BERTLayerNorm(eps=1e-12, axis=-1, center=True, scale=True, in_channels=768)\n",
      "      )\n",
      "      (10): BERTEncoderCell(\n",
      "        (dropout_layer): Dropout(p = 0.1, axes=())\n",
      "        (attention_cell): MultiHeadAttentionCell(\n",
      "          (_base_cell): DotProductAttentionCell(\n",
      "            (_dropout_layer): Dropout(p = 0.1, axes=())\n",
      "          )\n",
      "          (proj_query): Dense(768 -> 768, linear)\n",
      "          (proj_key): Dense(768 -> 768, linear)\n",
      "          (proj_value): Dense(768 -> 768, linear)\n",
      "        )\n",
      "        (proj): Dense(768 -> 768, linear)\n",
      "        (ffn): BERTPositionwiseFFN(\n",
      "          (ffn_1): Dense(768 -> 3072, linear)\n",
      "          (activation): GELU()\n",
      "          (ffn_2): Dense(3072 -> 768, linear)\n",
      "          (dropout_layer): Dropout(p = 0.1, axes=())\n",
      "          (layer_norm): BERTLayerNorm(eps=1e-12, axis=-1, center=True, scale=True, in_channels=768)\n",
      "        )\n",
      "        (layer_norm): BERTLayerNorm(eps=1e-12, axis=-1, center=True, scale=True, in_channels=768)\n",
      "      )\n",
      "      (11): BERTEncoderCell(\n",
      "        (dropout_layer): Dropout(p = 0.1, axes=())\n",
      "        (attention_cell): MultiHeadAttentionCell(\n",
      "          (_base_cell): DotProductAttentionCell(\n",
      "            (_dropout_layer): Dropout(p = 0.1, axes=())\n",
      "          )\n",
      "          (proj_query): Dense(768 -> 768, linear)\n",
      "          (proj_key): Dense(768 -> 768, linear)\n",
      "          (proj_value): Dense(768 -> 768, linear)\n",
      "        )\n",
      "        (proj): Dense(768 -> 768, linear)\n",
      "        (ffn): BERTPositionwiseFFN(\n",
      "          (ffn_1): Dense(768 -> 3072, linear)\n",
      "          (activation): GELU()\n",
      "          (ffn_2): Dense(3072 -> 768, linear)\n",
      "          (dropout_layer): Dropout(p = 0.1, axes=())\n",
      "          (layer_norm): BERTLayerNorm(eps=1e-12, axis=-1, center=True, scale=True, in_channels=768)\n",
      "        )\n",
      "        (layer_norm): BERTLayerNorm(eps=1e-12, axis=-1, center=True, scale=True, in_channels=768)\n",
      "      )\n",
      "    )\n",
      "  )\n",
      "  (word_embed): HybridSequential(\n",
      "    (0): Embedding(30522 -> 768, float32)\n",
      "    (1): Dropout(p = 0.1, axes=())\n",
      "  )\n",
      "  (token_type_embed): HybridSequential(\n",
      "    (0): Embedding(2 -> 768, float32)\n",
      "    (1): Dropout(p = 0.1, axes=())\n",
      "  )\n",
      "  (pooler): Dense(768 -> 768, Activation(tanh))\n",
      ")\n"
     ]
    }
   ],
   "source": [
    "model, vocabulary, ctx, tokenizer, transform, loss_function, metric, all_labels = setup_bert()\n",
    "\n",
    "model.load_parameters('data/within_traindev_proepi512_BCE/bert.model.checkpoint4.params', ctx=ctx)"
   ]
  },
  {
   "cell_type": "code",
   "execution_count": 26,
   "metadata": {
    "ExecuteTime": {
     "end_time": "2019-07-17T10:30:04.522345Z",
     "start_time": "2019-07-17T10:30:03.443731Z"
    }
   },
   "outputs": [],
   "source": [
    "_, X_dev, _, y_dev = get_train_test_sets(within_traindev_df)\n",
    "\n",
    "data_dev_raw, data_dev = transform_dataset(X_dev, y_dev, transform)\n",
    "# print_infos(vocabulary, data_dev_raw, data_dev)"
   ]
  },
  {
   "cell_type": "code",
   "execution_count": 27,
   "metadata": {
    "ExecuteTime": {
     "end_time": "2019-07-17T10:54:14.872096Z",
     "start_time": "2019-07-17T10:30:04.561721Z"
    },
    "collapsed": true
   },
   "outputs": [
    {
     "data": {
      "application/vnd.jupyter.widget-view+json": {
       "model_id": "fffdc16e2fae4924a41b3b182e81f396",
       "version_major": 2,
       "version_minor": 0
      },
      "text/plain": [
       "HBox(children=(IntProgress(value=0, max=9586), HTML(value='')))"
      ]
     },
     "metadata": {},
     "output_type": "display_data"
    },
    {
     "name": "stdout",
     "output_type": "stream",
     "text": [
      "\n",
      "Time for [prediction]: 0:24:08.494613\n",
      "Accuracy: 0.9069427781545042\n",
      "Confusion Matrix:\n",
      "[[7972  861]\n",
      " [ 923 9415]]\n",
      "\n",
      "Accuracy:  0.91 \n",
      "\n",
      "Report for [BERTClassifier within-within]:\n",
      "              precision    recall  f1-score   support\n",
      "\n",
      "           0       0.90      0.90      0.90      8833\n",
      "           1       0.92      0.91      0.91     10338\n",
      "\n",
      "    accuracy                           0.91     19171\n",
      "   macro avg       0.91      0.91      0.91     19171\n",
      "weighted avg       0.91      0.91      0.91     19171\n",
      "\n"
     ]
    },
    {
     "data": {
      "text/plain": [
       "{'macro': 0.91, 'micro': 0.91}"
      ]
     },
     "execution_count": 27,
     "metadata": {},
     "output_type": "execute_result"
    }
   ],
   "source": [
    "all_predictions, cum_loss = predict(model, data_dev, ctx, metric, loss_function, batch_size=2)\n",
    "print(\"Accuracy:\", metric.get()[1])\n",
    "\n",
    "y_true, y_pred = predict_out_to_ys(all_predictions, all_labels)\n",
    "report_training_results(y_true, y_pred, name=\"BERTClassifier within-within\", heatmap=False)"
   ]
  },
  {
   "cell_type": "code",
   "execution_count": 28,
   "metadata": {
    "ExecuteTime": {
     "end_time": "2019-07-17T10:54:27.587091Z",
     "start_time": "2019-07-17T10:54:16.772447Z"
    },
    "collapsed": true
   },
   "outputs": [
    {
     "data": {
      "application/vnd.jupyter.widget-view+json": {
       "model_id": "7e646d63bc4e4186a10c427791e498dc",
       "version_major": 2,
       "version_minor": 0
      },
      "text/plain": [
       "HBox(children=(IntProgress(value=0, max=19171), HTML(value='')))"
      ]
     },
     "metadata": {},
     "output_type": "display_data"
    },
    {
     "name": "stdout",
     "output_type": "stream",
     "text": [
      "\n",
      "<class 'pandas.core.frame.DataFrame'>\n",
      "Int64Index: 19171 entries, 56125 to 56919\n",
      "Data columns (total 8 columns):\n",
      "argument1       19171 non-null object\n",
      "argument2       19171 non-null object\n",
      "argument1_id    19171 non-null object\n",
      "argument2_id    19171 non-null object\n",
      "topic           19171 non-null object\n",
      "is_same_side    19171 non-null bool\n",
      "prediction      19171 non-null bool\n",
      "tag             19171 non-null object\n",
      "dtypes: bool(2), object(6)\n",
      "memory usage: 1.1+ MB\n"
     ]
    }
   ],
   "source": [
    "# convert predictions to dataframe\n",
    "dev_pred_df = pd.DataFrame(data=y_pred, columns=[\"prediction\"], dtype=\"bool\")\n",
    "\n",
    "# merge all dataframes\n",
    "dev_df = X_dev.join(y_dev)\n",
    "dev_df = dev_df.reset_index()\n",
    "dev_df = pd.merge(dev_df, dev_pred_df, left_index=True, right_index=True, how='inner')\n",
    "dev_df.set_index('id', inplace=True)\n",
    "\n",
    "# re-apply tag value\n",
    "dev_df = dev_df.progress_apply(add_tag, axis=1)\n",
    "# info\n",
    "dev_df.info()"
   ]
  },
  {
   "cell_type": "code",
   "execution_count": 29,
   "metadata": {
    "ExecuteTime": {
     "end_time": "2019-07-17T10:54:35.869058Z",
     "start_time": "2019-07-17T10:54:35.791442Z"
    },
    "collapsed": true
   },
   "outputs": [
    {
     "name": "stdout",
     "output_type": "stream",
     "text": [
      "<class 'pandas.core.frame.DataFrame'>\n",
      "Int64Index: 19171 entries, 56125 to 56919\n",
      "Data columns (total 8 columns):\n",
      "argument1       19171 non-null object\n",
      "argument2       19171 non-null object\n",
      "argument1_id    19171 non-null object\n",
      "argument2_id    19171 non-null object\n",
      "topic           19171 non-null object\n",
      "is_same_side    19171 non-null bool\n",
      "prediction      19171 non-null bool\n",
      "tag             19171 non-null object\n",
      "dtypes: bool(2), object(6)\n",
      "memory usage: 1.1+ MB\n"
     ]
    }
   ],
   "source": [
    "import pickle\n",
    "\n",
    "\n",
    "dev_df_ser_file = \"data/within_traindev_proepi512_BCE/eval_dev_df.pickle\"\n",
    "\n",
    "\n",
    "with open(dev_df_ser_file, \"wb\") as f:\n",
    "    pickle.dump(dev_df, f, protocol=pickle.HIGHEST_PROTOCOL)\n",
    "\n",
    "with open(dev_df_ser_file, \"rb\") as f:\n",
    "    dev_df = pickle.load(f)\n",
    "\n",
    "\n",
    "dev_df.info()"
   ]
  },
  {
   "cell_type": "code",
   "execution_count": 30,
   "metadata": {
    "ExecuteTime": {
     "end_time": "2019-07-17T10:54:37.695758Z",
     "start_time": "2019-07-17T10:54:37.671050Z"
    },
    "collapsed": true
   },
   "outputs": [
    {
     "name": "stdout",
     "output_type": "stream",
     "text": [
      "<class 'pandas.core.frame.DataFrame'>\n",
      "Int64Index: 1784 entries, 25082 to 29490\n",
      "Data columns (total 8 columns):\n",
      "argument1       1784 non-null object\n",
      "argument2       1784 non-null object\n",
      "argument1_id    1784 non-null object\n",
      "argument2_id    1784 non-null object\n",
      "topic           1784 non-null object\n",
      "is_same_side    1784 non-null bool\n",
      "prediction      1784 non-null bool\n",
      "tag             1784 non-null object\n",
      "dtypes: bool(2), object(6)\n",
      "memory usage: 101.0+ KB\n"
     ]
    },
    {
     "data": {
      "text/html": [
       "<div>\n",
       "<style scoped>\n",
       "    .dataframe tbody tr th:only-of-type {\n",
       "        vertical-align: middle;\n",
       "    }\n",
       "\n",
       "    .dataframe tbody tr th {\n",
       "        vertical-align: top;\n",
       "    }\n",
       "\n",
       "    .dataframe thead th {\n",
       "        text-align: right;\n",
       "    }\n",
       "</style>\n",
       "<table border=\"1\" class=\"dataframe\">\n",
       "  <thead>\n",
       "    <tr style=\"text-align: right;\">\n",
       "      <th></th>\n",
       "      <th>argument1</th>\n",
       "      <th>argument2</th>\n",
       "      <th>argument1_id</th>\n",
       "      <th>argument2_id</th>\n",
       "      <th>topic</th>\n",
       "      <th>is_same_side</th>\n",
       "      <th>prediction</th>\n",
       "      <th>tag</th>\n",
       "    </tr>\n",
       "    <tr>\n",
       "      <th>id</th>\n",
       "      <th></th>\n",
       "      <th></th>\n",
       "      <th></th>\n",
       "      <th></th>\n",
       "      <th></th>\n",
       "      <th></th>\n",
       "      <th></th>\n",
       "      <th></th>\n",
       "    </tr>\n",
       "  </thead>\n",
       "  <tbody>\n",
       "    <tr>\n",
       "      <th>25082</th>\n",
       "      <td>i thank my opponent for her* reply.according t...</td>\n",
       "      <td>i thank my opponent for his reply.in his openi...</td>\n",
       "      <td>81e66960-2019-04-18T17:23:33Z-00000-000</td>\n",
       "      <td>81e66960-2019-04-18T17:23:33Z-00000-000</td>\n",
       "      <td>abortion</td>\n",
       "      <td>True</td>\n",
       "      <td>False</td>\n",
       "      <td>abortion</td>\n",
       "    </tr>\n",
       "    <tr>\n",
       "      <th>92434</th>\n",
       "      <td>i don't have enough time to do the debate with...</td>\n",
       "      <td>in this debate i contend abortion, a procedure...</td>\n",
       "      <td>e9044509-2019-04-18T18:17:01Z-00002-000</td>\n",
       "      <td>e9044509-2019-04-18T18:17:01Z-00002-000</td>\n",
       "      <td>abortion is generally immoral</td>\n",
       "      <td>False</td>\n",
       "      <td>True</td>\n",
       "      <td>abortion</td>\n",
       "    </tr>\n",
       "    <tr>\n",
       "      <th>33394</th>\n",
       "      <td>thank you for accepting this debate. first of ...</td>\n",
       "      <td>hello con, i'd like to first point out that th...</td>\n",
       "      <td>b1861fe8-2019-04-18T15:14:30Z-00007-000</td>\n",
       "      <td>b1861fe8-2019-04-18T15:14:30Z-00007-000</td>\n",
       "      <td>abortion</td>\n",
       "      <td>False</td>\n",
       "      <td>True</td>\n",
       "      <td>abortion</td>\n",
       "    </tr>\n",
       "    <tr>\n",
       "      <th>30907</th>\n",
       "      <td>kimo vs. pono; social issues, gay marriage ok ...</td>\n",
       "      <td>kimo vs. pono; social issues, gay marriage \" a...</td>\n",
       "      <td>b1077c8f-2019-04-18T18:07:45Z-00007-000</td>\n",
       "      <td>b1077c8f-2019-04-18T18:07:45Z-00007-000</td>\n",
       "      <td>kimo vs. pono; social issues, gay marriage</td>\n",
       "      <td>False</td>\n",
       "      <td>True</td>\n",
       "      <td>gay marriage</td>\n",
       "    </tr>\n",
       "    <tr>\n",
       "      <th>21939</th>\n",
       "      <td>incest should not be considered in the legalit...</td>\n",
       "      <td>incest should not be considered in the legalit...</td>\n",
       "      <td>684fcb10-2019-04-18T11:45:47Z-00001-000</td>\n",
       "      <td>684fcb10-2019-04-18T11:45:47Z-00001-000</td>\n",
       "      <td>incest should not be considered in the legalit...</td>\n",
       "      <td>True</td>\n",
       "      <td>False</td>\n",
       "      <td>abortion</td>\n",
       "    </tr>\n",
       "  </tbody>\n",
       "</table>\n",
       "</div>"
      ],
      "text/plain": [
       "                                               argument1  \\\n",
       "id                                                         \n",
       "25082  i thank my opponent for her* reply.according t...   \n",
       "92434  i don't have enough time to do the debate with...   \n",
       "33394  thank you for accepting this debate. first of ...   \n",
       "30907  kimo vs. pono; social issues, gay marriage ok ...   \n",
       "21939  incest should not be considered in the legalit...   \n",
       "\n",
       "                                               argument2  \\\n",
       "id                                                         \n",
       "25082  i thank my opponent for his reply.in his openi...   \n",
       "92434  in this debate i contend abortion, a procedure...   \n",
       "33394  hello con, i'd like to first point out that th...   \n",
       "30907  kimo vs. pono; social issues, gay marriage \" a...   \n",
       "21939  incest should not be considered in the legalit...   \n",
       "\n",
       "                                  argument1_id  \\\n",
       "id                                               \n",
       "25082  81e66960-2019-04-18T17:23:33Z-00000-000   \n",
       "92434  e9044509-2019-04-18T18:17:01Z-00002-000   \n",
       "33394  b1861fe8-2019-04-18T15:14:30Z-00007-000   \n",
       "30907  b1077c8f-2019-04-18T18:07:45Z-00007-000   \n",
       "21939  684fcb10-2019-04-18T11:45:47Z-00001-000   \n",
       "\n",
       "                                  argument2_id  \\\n",
       "id                                               \n",
       "25082  81e66960-2019-04-18T17:23:33Z-00000-000   \n",
       "92434  e9044509-2019-04-18T18:17:01Z-00002-000   \n",
       "33394  b1861fe8-2019-04-18T15:14:30Z-00007-000   \n",
       "30907  b1077c8f-2019-04-18T18:07:45Z-00007-000   \n",
       "21939  684fcb10-2019-04-18T11:45:47Z-00001-000   \n",
       "\n",
       "                                                   topic  is_same_side  \\\n",
       "id                                                                       \n",
       "25082                                           abortion          True   \n",
       "92434                      abortion is generally immoral         False   \n",
       "33394                                           abortion         False   \n",
       "30907         kimo vs. pono; social issues, gay marriage         False   \n",
       "21939  incest should not be considered in the legalit...          True   \n",
       "\n",
       "       prediction           tag  \n",
       "id                               \n",
       "25082       False      abortion  \n",
       "92434        True      abortion  \n",
       "33394        True      abortion  \n",
       "30907        True  gay marriage  \n",
       "21939       False      abortion  "
      ]
     },
     "execution_count": 30,
     "metadata": {},
     "output_type": "execute_result"
    }
   ],
   "source": [
    "FPFN_df = dev_df[(dev_df['is_same_side'] != dev_df['prediction'])]  #  and (dev_df['tag'] != 'abortion')\n",
    "FPFN_df.info()\n",
    "FPFN_df.head()"
   ]
  },
  {
   "cell_type": "code",
   "execution_count": 31,
   "metadata": {
    "ExecuteTime": {
     "end_time": "2019-07-17T10:54:39.774650Z",
     "start_time": "2019-07-17T10:54:39.770592Z"
    },
    "code_folding": [
     6
    ],
    "run_control": {
     "marked": false
    }
   },
   "outputs": [],
   "source": [
    "from IPython.display import HTML, display\n",
    "import re\n",
    "#import tabulate\n",
    "#display(HTML(tabulate.tabulate(table, tablefmt='html')))\n",
    "\n",
    "\n",
    "def print_args(df, idx, add_linebreaks=True):\n",
    "    row = df.iloc[idx]\n",
    "    print('IDX: {}, tag: {}, topics: {}'.format(idx, row['tag'], row['topic']))\n",
    "    print('Is-Same-Side: {}'.format(row['is_same_side']))\n",
    "\n",
    "    arg1 = row['argument1']\n",
    "    arg2 = row['argument2']\n",
    "    if add_linebreaks:\n",
    "        pat = re.compile(r'(?P<c>(\\.|\\?|\\!|\\:)+\\\"?)')\n",
    "        arg1 = pat.sub(r'\\1<br/>', arg1)\n",
    "        arg2 = pat.sub(r'\\1<br/>', arg2)\n",
    "\n",
    "    display(HTML('''<table>\n",
    "        <tr>\n",
    "            <td style=\"border-right:1px dashed black;\">{arg1}</td>\n",
    "            <td>{arg2}</td>\n",
    "        </tr>\n",
    "    </table>'''.format(arg1=arg1, arg2=arg2)))"
   ]
  },
  {
   "cell_type": "code",
   "execution_count": 32,
   "metadata": {
    "ExecuteTime": {
     "end_time": "2019-07-17T10:54:41.732033Z",
     "start_time": "2019-07-17T10:54:41.695902Z"
    },
    "collapsed": true
   },
   "outputs": [
    {
     "name": "stdout",
     "output_type": "stream",
     "text": [
      "IDX: 0, tag: abortion, topics: abortion\n",
      "Is-Same-Side: True\n"
     ]
    },
    {
     "data": {
      "text/html": [
       "<table>\n",
       "        <tr>\n",
       "            <td style=\"border-right:1px dashed black;\">i thank my opponent for her* reply.<br/>according to her profile, her gender is male.<br/> that's why i referred to her as a male.<br/> and i didn't understand that she got pregnant at 15 from her previous round.<br/> anyhow, my opponent has not presented any argument supporting her position, and only raised one obection to a2, a3 and a4.<br/> she claims that the girls could get an adoption, but that doesn't solve the issue.<br/> a girl who is not ready for motherhood would be attached to the baby if she gave birth to it, even though she is not ready to raise it.<br/> giving your baby out is not an easy thing, but aborting the fertilized egg before it becomes a baby is much easier.<br/> moreover, a girl in dire economic conditions might not even afford to be pregnant, so it doesn't make sense for her to give birth and then give the child away because she is too poor to support it.<br/> finally, a mother in a culture that punishes for premarital sex would be really stupid if she allowed everyone to see her pregnant, because that would mean that she would be killed for her pregnancy.<br/>my opponent then says, \" i'm talking about the abortion cases where they got pregnant and just aborted it because they didn't want the responsibility.\"<br/> it seems to me that my opponent shifts goalposts in every round.<br/> i do agree that such abortion cases must not be permitted, but my opponent never made it clear in the previous rounds that she is arguing against those cases.<br/>in summary, my opponent has not provided a clear resolution and argument and has shifted goal posts in the two rounds.<br/> http:<br/>//www.<br/>debate.<br/>org...<br/></td>\n",
       "            <td>i thank my opponent for his reply.<br/>in his opening statement he states, \"who ever[sp] got an abortion or is for abortion should deserve to get killed the same way they kill the poor inocennt[sp] babies i have no regert[sp] saying what i just said.\"<br/> since he didn't provide a clear resolution, i decided to argue against that by claiming that abortion should be allowed in some cases, and that pro-choice supporters should not be killed.<br/> my opponent then shifted the goal posts in round 2 and said that he is with abortion in \"some major cases.\"<br/> doesn't that contradict his sentence in the opening statement which says, \"who ever got an abortion or is for abortion should deserve to get killed...?\"<br/> in addition to this, it seems that he willingly ignored the part about getting pro-choice supporters killed in this round.<br/>furthermore, my opponent says in the second round, \"for all you people who are not clear i am debating that it[abortion] should not be used so much as it is.\"<br/> note that this resolution was neither mentioned in the title or the opening statement.<br/> my opponent seems to think that he can list what he is arguing in the second round, after his opponent accepted the debate based on the opening statement.<br/> even if my opponent believes that abortion should be allowed only in some major cases, there is still room for argument on whether abortion should be allowed in the early stages of pregnancy.<br/> i'm assuming he is against that, because that represents the majority of abortion cases[1].<br/>a- abortion should be allowed in the early stages of pregnancyaborting a fertilized egg is not the equivalent of killing a child, similarly to how breaking an egg is not the equivalent of killing a chicken.<br/> i'm with allowing the mother to perform abortion as long as the fetus is not conscious yet and the case satisfies one of those conditions:<br/>a1- rapeit doesn't make sense for a mother to raise the child of her rapist.<br/> she has the choice to keep it, but also she must have the choice to abort it when it still is a fertilized egg.<br/>a2- not ready for motherhoodif a girl had sex, this doesn't necessarily mean she is mature enough to raise kids.<br/> having sex is a lot easier than taking care of a baby, and the girl could have performed unsafe sex because of her immaturity to begin witha3- not enough moneyif the baby is going to starve or suffer from malnutrition because of dire economic conditions, then i don't see why the mother should keep the fertilized egg.<br/>a4- life conditionsif the mother or the baby are going to be killed because of traditional customs that condemn premarital sex in certain cultures and societies, then it is better for the mother to abort the fertilized egg and save herself and her future child from a horrific death.<br/>b- refutation of my opponent:<br/>my opponent's argument is simply anecdotal evidence that supports his position.<br/>b1- contention 1:<br/> \"...<br/>but she stuck by her baby and let it pass away when it was ready to she wanted god to take it on his time not at a scheduled time so i feel it shouldn't be a popular as it is...\"<br/>not everyone believes in god and has that particular belief.<br/> as his sister's friend chose to follow her belief, why can't others choose to follow their beliefs?<br/> to make this argument, my opponent has to prove that god exists, and not just that, but that this particular god wants fetuses to have a natural death.<br/>b2- contention 2:<br/> \" i'm not to mature for a baby well you were old enough to have sex...\"<br/>being old enough to have sex doesn't entail being ready for motherhood.<br/> this is a non-sequitur logical fallacy which i dealt with above in a2.<br/>in summary, my opponent has failed to explain clearly what he is arguing against and shifted goal posts in round 2.<br/> i tried to understand his position which changed in round 2, and argued against it by saying that abortion should not just be allowed in some major situations, but also in the early stages of pregnancy under certain conditions i listed.<br/>[1] cdc.<br/>gov/mmwr/preview/mmwrhtml/ss6108a1.<br/>htm</td>\n",
       "        </tr>\n",
       "    </table>"
      ],
      "text/plain": [
       "<IPython.core.display.HTML object>"
      ]
     },
     "metadata": {},
     "output_type": "display_data"
    },
    {
     "name": "stdout",
     "output_type": "stream",
     "text": [
      "IDX: 1, tag: abortion, topics: abortion is generally immoral\n",
      "Is-Same-Side: False\n"
     ]
    },
    {
     "data": {
      "text/html": [
       "<table>\n",
       "        <tr>\n",
       "            <td style=\"border-right:1px dashed black;\">i don't have enough time to do the debate with finals.<br/> vote pro</td>\n",
       "            <td>in this debate i contend abortion, a procedure that removes and kills the fetus, is generally immoral.<br/> immoral and abortion needn't be defined, we know what those mean.<br/> any semantics or trolling equates forfeiting the debate.<br/> the words in the resolution are common knowledge.<br/> 1st round for acceptance.<br/> bop even.<br/></td>\n",
       "        </tr>\n",
       "    </table>"
      ],
      "text/plain": [
       "<IPython.core.display.HTML object>"
      ]
     },
     "metadata": {},
     "output_type": "display_data"
    },
    {
     "name": "stdout",
     "output_type": "stream",
     "text": [
      "IDX: 2, tag: abortion, topics: abortion\n",
      "Is-Same-Side: False\n"
     ]
    },
    {
     "data": {
      "text/html": [
       "<table>\n",
       "        <tr>\n",
       "            <td style=\"border-right:1px dashed black;\">thank you for accepting this debate.<br/> first of all, there is a scientific definition of life.<br/> life:<br/> 1) a distinctive characteristic of a living organism from dead organism or non-living thing, as specifically distinguished by the capacity to grow, metabolize, respond (to stimuli), adapt, and reproduce < http:<br/>//www.<br/>biology-online.<br/>org...<br/> >.<br/> so yes there is a scientific definition of life.<br/> furthermore, your extraterrestrial point is entirely irrelevant because abortion deals with the living human being on earth.<br/> and since science can definitively define life on earth, i then do not understand why the \"extraterrestrial\" argument was included due to its inherent irrelevancy.<br/> also, you say that life can never be defined by science, and because life cannot be defined by science, then the fetus does not have the right to life.<br/> well if science cannot define life (as you said), then no one has the right to life because science, according to your argument, does not definitively prove either you or me to be alive.<br/> and since we both agree we are scientifically alive, then obviously science can and does define what life is.<br/> so do you accept that there is a scientific vindication of life?<br/> also you say abortion is the \"intentional termination of a developing fetus\".<br/> according to my definition, you left out a key word.<br/> here is the definition of abortion abortion:<br/> \"a medical procedure used to end a pregnancy and cause the death of the fetus.<br/> < http:<br/>//www.<br/>merriam-webster.<br/>com...<br/> >.<br/> abortion causes the death of the fetus.<br/> lets now look at the definition of death.<br/> death:<br/> \"the end of life :<br/> the time when someone or something dies\" < http:<br/>//www.<br/>merriam-webster.<br/>com...<br/> >.<br/> death can only occur when something was alive prior.<br/> therefore, because abortion results in the death of the fetus, the fetus must have had life before the abortion took place.<br/> therefore the fetus is alive.<br/> also, again let us look scientifically at how the fetus is alive.<br/> first, i must make a key point.<br/> a newborn baby does not have the capacity or ability to reproduce, yet the ability to reproduce is a defining characteristic of scientific life.<br/> however, science and logic both know that a newborn baby is alive.<br/> why?<br/> well the baby has not yet grown into enough biological complexity to reproduce, but the baby has the potential to reproduce.<br/> the same argument is applied for determining that the fetus is alive.<br/> the fetus, from the moment of conception, begins biological growth from biological simplicity into biological complexity.<br/> nothing is conceived in its full potential, therefore, by showing the fundamental sign of life from which all other characteristics of life stem, the fetus is alive.<br/> biological growth from simplicity into complexity is enough for the fetus to be considered alive.<br/> here is the same argument stated another way.<br/> as a commenter on this debate advised me, i am trying to avoid saying the same things i used in my previous abortion debate.<br/> but i will quote this paragraph merely because it was never refuted and also because it is worded in a different way that might make more sense:<br/> \"now, a fetus shows scientific signs of life starting with the most simplistic from which other signs can stem (i.<br/>e.<br/> reproduction, respiration etc.<br/>).<br/> this foundation is the ability to grow.<br/> no being is created in its full potential at the moment of its conception.<br/> everything has a beginning from which, due to growth towards more complex potential, life exists.<br/> by the mere fact the fetus is growing from biological simplicity into biological complexity we can soundly say the being must be alive.<br/> biological growth, which a fetus possesses, is the foundation by which life is marked, for without growth, none of the other factors pointing towards life could exist.\"<br/> can you now agree the fetus is alive?<br/> also, note that i have not yet shown the fetus is uniquely human.<br/> i will do that now while also responding to your next argument.<br/> next you say the fetus and the mother \"are one.\"<br/> tell me, if the body of the mother and the body of the fetus are the same, then why does the human dna of the fetus differ from the human dna of the mother?<br/> by the mere fact that the dna differs between the fetus and the mother, science proves that the fetus and mother are not the same.<br/> no human being biologically produces cells that have different human dna from the body that produced it.<br/> a fetus therefore is not the same as the mother.<br/> a sperm cell is not, in itself, genetically unique from the father.<br/> an egg cell is not, in itself, genetically unique from the mother.<br/> however, when the egg and sperm meet at conception, they form a new being with entirely unique human dna that has never existed before, separate even from the mother and father.<br/> this proves the fetus is uniquely human and different from the mother.<br/> furthermore, of course the fetus is connected to the mother.<br/> the fetus is dependent on the mother for survival.<br/> but a new born baby is also dependent on the mother/father/doctor for survival.<br/> the dependency of the fetus on the mother does not then make the fetus not living or not human.<br/> innocence and guilt can only be applied to beings with free will.<br/> the only beings with free will are human beings.<br/> that is why a tumor can neither be innocent nor guilty because the tumor has no free will on which to act upon.<br/> this eliminates your \"tumors are innocent\" argument.<br/> there are varying levels on which humans use free will.<br/> it is safe to say humans are conceived with the potential to access their latent ability to use free will just as any human is conceived with all the genetic latent potential to access and use a strong mental acuity.<br/> therefore, every fetus (because the fetus is a human being) has free will, and because the fetus has not acted in a wrong manner, then the fetus is innocent.<br/> also innocence is not subjective, because innocence can only correspond with an objective morality.<br/> here is why innocence and then morality can be objective.<br/> i will take the same argument i used in my last debate because the argument was never refuted and then expand upon the argument and tie it in with innocence.<br/> \"1.<br/>for everything, there is a standard by which everything else can be relevant towards.<br/> for example there is cold, which is the absence of heat.<br/> there is a minimum heat capacity by which coldness is measured, which is absolute zero.<br/> there is a heat capacity by which heat is measured.<br/> so there are certain levels of perfection.<br/> if something morally exists, then is there not a perfect standard by which we judge such morality?<br/> there must be.<br/> otherwise, our lives our meaningless for nothing can truly be justified or condemned.<br/> you can call this perfect standard \"god\" if you so choose, but there must be, by necessity, some perfect moral standard from which actions can all be judged.<br/> 2.<br/>if you believe no perfect moral authority/standard exists, then you must admit we should be free to do whatever we wish without repercussion.<br/> with no morality, there are no rights, and without rights there would be no true law.<br/> so therefore, by believing there is no morality, or that morality is subjective, the nazi genocides are acceptable and equally permissible for they cannot be held responsible for their wrong actions.<br/> however, since obviously the nazi\"s actions were atrocious, it would be well within logical reason to say a perfect moral authority must exist.\"<br/> since i have shown there must be, by necessity, an objective, perfect moral standard, we then judge innocence based on that morality.<br/> and because morality is an objective truth, then innocence also must be an objective truth.<br/> if innocence did not exist, then we could no longer protect people by condemning the unjust.<br/> without innocence, there would also be no guilt.<br/> without guilt, we could not convict or protect.<br/> innocence and guilt are both objective.<br/> also i never said in my opening argument anything about the legality of abortion.<br/> i merely said abortion is wrong and breaks the inalienable right to life.<br/> however, if you would like me to do so, i will argue why abortion should be illegal in my next argument because i do not have sufficient room to do so here.<br/></td>\n",
       "            <td>hello con, i'd like to first point out that there is no actual scientific definition of the terms \"life\" and/or \"living\".<br/> while all \"living\" species on earth have the same characteristics (made of cells, adapt to their environment.<br/> reproduce offspring, require energy, and provide immediate or near immediate responses to stimuli), it is impossible to say that extraterrestrial life would, if in existence, abide by the same rules.<br/> this is one of what i'm sure are several reasons scientists cannot \"define\" life.<br/> so you're saying that abortion (the intentional termination of a developing fetus) is violating a right to life, when life cannot be defined.<br/> in the womb of the mother, the fetus receives nutrients necessary to its survival through its mother via the blood in the umbilical cord.<br/> should the fetus not be considered part of the mother, even though it shares a blood supply?<br/> the mother's body even goes so far as to break down and renew muscle, fat, and bones.<br/> this process, called \"turnover\", releases fat, calcium, and protein into the mother's bloodstream.<br/> at this point, it is clear to see that the fetus and the mother are one.<br/> innocence is subjective.<br/> what is innocent by one person's standards may be guilty by another's.<br/> one would share a blood supply with a tumor as well, but it is that person's option to either live with the tumor, or have it removed.<br/> the tumor, by your argument, would be innocent (as innocence is subjective, as i afore mentioned), and only be allowed to be removed if a biopsy showed it to be malignant.<br/> a benign tumor however, could not be removed, as it poses no threat t the host's well being.<br/> therefore, if the mother of a fetus would like to legally abort it, it is within her bounds to do so.<br/></td>\n",
       "        </tr>\n",
       "    </table>"
      ],
      "text/plain": [
       "<IPython.core.display.HTML object>"
      ]
     },
     "metadata": {},
     "output_type": "display_data"
    },
    {
     "name": "stdout",
     "output_type": "stream",
     "text": [
      "IDX: 3, tag: gay marriage, topics: kimo vs. pono; social issues, gay marriage\n",
      "Is-Same-Side: False\n"
     ]
    },
    {
     "data": {
      "text/html": [
       "<table>\n",
       "        <tr>\n",
       "            <td style=\"border-right:1px dashed black;\">kimo vs.<br/> pono; social issues, gay marriage ok my laptop screwed up.<br/> but what is wrong with gay marriage?<br/> if you think it's wrong give me reasons.<br/> i did say i need it to finish a paper.<br/> i need others opinions, i don't care if nobody agrees.<br/> but if you post thx.<br/> back to the point is there is nothing wrong with gay marriage, when you get married to some one you love them,(hopefully), and the gays out in the world most likely love their partner too!<br/></td>\n",
       "            <td>kimo vs.<br/> pono; social issues, gay marriage \" am not against gayshould choose who they want to marry there is nothing wrong with being gay, exclaim it to the world its not a bad thing.<br/> marriage because people , but i need ore opinions to finish.\"<br/> an incoherent statement, especially the last few line.<br/> here's my statement:<br/> gay marriage is not something we should allow.<br/></td>\n",
       "        </tr>\n",
       "    </table>"
      ],
      "text/plain": [
       "<IPython.core.display.HTML object>"
      ]
     },
     "metadata": {},
     "output_type": "display_data"
    },
    {
     "name": "stdout",
     "output_type": "stream",
     "text": [
      "IDX: 4, tag: abortion, topics: incest should not be considered in the legality of abortion.\n",
      "Is-Same-Side: True\n"
     ]
    },
    {
     "data": {
      "text/html": [
       "<table>\n",
       "        <tr>\n",
       "            <td style=\"border-right:1px dashed black;\">incest should not be considered in the legality of abortion.<br/> con doesn't understand how a debate works.<br/></td>\n",
       "            <td>incest should not be considered in the legality of abortion.<br/> it being a disgusting and immoral act is purely from a societal standpoint and has only been considered a taboo recently.<br/> historically, it has been entirely acceptable behavior.<br/> do something merely being a social taboo constitute it being used solely as reasoning for something so controversial and important as abortion?<br/> my point is that a child conceived in incest (which, despite what was stated before, is most frequently between cousins and similar distant family rather than within a \"nuclear\" family) should be treated no differently than any other consequentially conceived child.<br/> from experience with observing my local feline populations, it takes between four and seven generations of inbreeding before any major genetic deficiencies become prevalent.<br/> many modern genetic studies on both animals and humans also confirm that the likelihood of a defect due to incest to be significantly lower than is generally believed.<br/> the chances of a birth defect formed from a first generation incestual relationship is 4%, not significantly higher than the non-incestual chances of 2%.<br/> this applies to difficulties in pregnancy and p.<br/>n.<br/> depression as well.<br/> the social side of your argument is wholly invalid.<br/> americans have the right to choose to engage in incestuous activities and can choose to be open about it or keep it a secret if they want.<br/> this argument is ceteris paribus to a baby conceived legally and consensually in every other respect.<br/> this is a question of if the abortion of a consensually conceived child that is a product of incest should be handled any differently than if a child was not conceived in incest.<br/> this isn't a question of if incest is moral or ethical but rather if the law should treat incest pregnancies any differently when it comes to abortion.<br/></td>\n",
       "        </tr>\n",
       "    </table>"
      ],
      "text/plain": [
       "<IPython.core.display.HTML object>"
      ]
     },
     "metadata": {},
     "output_type": "display_data"
    },
    {
     "name": "stdout",
     "output_type": "stream",
     "text": [
      "IDX: 5, tag: abortion, topics: resolved: in the us, unwanted pregnancy abortion is an unjust medical practice.\n",
      "Is-Same-Side: True\n"
     ]
    },
    {
     "data": {
      "text/html": [
       "<table>\n",
       "        <tr>\n",
       "            <td style=\"border-right:1px dashed black;\">resolved:<br/> in the us, unwanted pregnancy abortion is an unjust medical practice.<br/> \"my response:<br/> the ci only can be applied to humans because we have:<br/> a) free will, b) intellect, and c) have some sort of moral conscience.<br/> also, you are referring to necessity, i.<br/>e.<br/> survival, rather then morality or justice.<br/> the resolution asks for the value of justice not necessity.<br/> on a different note, you have not explained how abortion is therefore justified.\"<br/> but why should any of those things give more value to life?<br/> furthermore, you have essentially negated your own argument.<br/> fetuses do not have free will, intellect, or a moral conscience.<br/> \"my response:<br/> well, good question.<br/> however he is by far the greatest of all enlightenment philosophers when it comes to ethics.<br/> oh and kant is very interesting, you should read more of him.\"<br/> so you're arguing not from logic, but from the moral opinions of one man.<br/> no matter how hihgly regarded a philosopher may be, they are still opinions.<br/> unless backed up by logic, opinions are just opinions.<br/> \"my response:<br/> good, i was actually going to use that argument.<br/> thx for bringing it up.<br/> women also, are effected by abortion.<br/> 70% of women after an abortion go through some mental trauma.<br/> the women must know the consequences and say no.\"<br/> it is true that women often suffer emotional anguish from this decision.<br/> but that does not change the fact that it is their decision to make.<br/> more often than not, the emotional consequences of choosing an abortion are not greater than the practical consequences of having a baby.<br/></td>\n",
       "            <td>resolved:<br/> in the us, unwanted pregnancy abortion is an unjust medical practice.<br/> \"i.<br/> \"act only according to that maxim whereby you can at the same time will that it should become a universal law.\"<br/> essentially, the first way kant tells us how to determine a just action is universality.<br/> this means that whatever action you do must be able to become universalized.<br/> i.<br/>e.<br/> killing is wrong because you yourself/people you love should not be killed.<br/> therefore killing another person cannot be universalized.\"<br/> but all animal life is dependant upn some form of killing in order to survive.<br/> lifeforms must devour other lifeforms.<br/> should we not kill and eat living animals and plants simply because we ourselves wish to live?<br/> that would be contradictory.<br/> we cannot live without doing so.<br/> while i realize that elective abortion is not a matter of physical survival, my statements nonetheless show that kant's statement is not valid (or at least not universally true.<br/>) \"now referring this maxim to your questions.<br/> you ask why should life be due to anyone?<br/> obviously, you yourself would like to live, me also, and the members of the debate community (unless your suicidal).<br/> we all look for survival.<br/> therefore, universalize the action of life.\"<br/> so life should be due to any living thing, no matter what they have done, on the basis that i would like to live?<br/> \"ii.<br/> \"act in such a way that you treat humanity, whether in your own person or in the person of any other, always at the same time as an end and never merely as a means to an end.\"<br/> kant then goes on to use this maxim.<br/> he is saying that an action is just if it doesn't use a living creature as a means to an end.<br/> a person is always an end in and of itself.<br/> therefore abortion uses the baby as a means to the mothers own pleasure of getting rid of a child.\"<br/> but who is kant to dictate morals?<br/> what proof is provided that these moral statements are of value?<br/> i admit that i have not read much kant, as i find it rather trying.<br/> furthermore, ask any woman who has had an abortion and she will tell you that there is no pleasure involved.<br/></td>\n",
       "        </tr>\n",
       "    </table>"
      ],
      "text/plain": [
       "<IPython.core.display.HTML object>"
      ]
     },
     "metadata": {},
     "output_type": "display_data"
    },
    {
     "name": "stdout",
     "output_type": "stream",
     "text": [
      "IDX: 6, tag: abortion, topics: abortion is morally wrong.\n",
      "Is-Same-Side: False\n"
     ]
    },
    {
     "data": {
      "text/html": [
       "<table>\n",
       "        <tr>\n",
       "            <td style=\"border-right:1px dashed black;\">thank you for that very...<br/> eh, interesting response.<br/>counter-rebuttals \"so tell me con, is a woman killing a baby before it has a chance to live whenever she has her period and looses an egg?<br/> well, you must think so if you think \"we are killing fetuses before them have a chance to live.\"<br/>please use proper english next time so i can understand you.<br/>well, that seemed pretty understandable to me.<br/> every time a woman has a period, she looses an egg.<br/> so, does that qualify as \"murder\" in your mind?\"<br/>the reason we are not giving fetuses a choice is because they would be incapable of choosing if we happened to ask them.\"<br/>but who would choose to die?<br/> nobody would want to be aborted as a fetus.<br/>you missed the point!<br/> no one would want to die, the reason i said that is because if a fetus is aborted, then it never will be a human, therefore it was never and will never be able to make a choice rationally!<br/> so your argument basically makes no sense!<br/> \"for that matter, they are incapable of feeling pain, thinking, digestion, or self awareness.\"<br/> a fetus can feel pain at 8 weeks.<br/> at 8 weeks, it has all the musles and organs needed to feel pain.<br/> scientists even did studies that proved fetuses can feel pain.<br/> souces at the bottom.<br/> no, a fetus can not feel pain until 20 weeks!<br/> i looked at one of your sources, and here's what it said.\"<br/>a new nebraska law bans abortions after 20 weeks, based on the idea that pain begins then.\"<br/> that's right!<br/> your source said that!<br/> so what, are you just making these facts up?<br/> please, i would really like to know!\"<br/>where, may i ask, are you getting these \"facts?\"<br/>\"i will post them at the bottom of this round.<br/>hmm...<br/> i didn't happen to see your fact about \"fifteen percent of men are sterile\" in any of those sources!<br/> nor did i see your fact \"only half of assailants penetrate her body and/or deposit sperm in her vagina\" anywhere!<br/> so again, we see you simply making this stuff up!\"<br/>there are many methods of birth control in today's world.<br/> you can attempt natural birth control, by only having sex during ovulation.<br/> or condoms can be used to prevent the flow of sperm.<br/> also, pills such as daily pills or morning after supplements can eliminate the zygote.<br/> however, what if the girl ovulates at an unexpected time?<br/> or what if your condom breaks, like some 4% of them do?<br/> maybe the pill doesn't work either, as the chances of failure are always there?<br/> abortion is a last resort for many people.<br/> a common \"misconception\" (no pun intended!<br/>) is that pro-choice people love abortion.<br/> abortion is not a great thing, but in situations like teen pregnancies, it can be necessary.\"<br/>again, a fetus is biologically a member of the human species, therefore you cannot morally kill an innocent fetus.<br/> there are cases when birth control fails, but they will just have to deal with it.<br/> besides, it was their idea to have sex in the first place.<br/>no, no, no!<br/> a fetus is not biologically human.<br/> the fetus has a heart, skin, muscles, cartilage, a \"brain,\" minor organs, and several other small parts similar to humans.<br/> but hey, so do dogs!<br/> so are dogs \"biologically human?\"<br/> no!<br/> also,definition of a parasite:<br/>parasite ( ) n.<br/> biology .<br/> an organism that grows, feeds, and is sheltered on or in a different organism while contributing nothing to the survival of.<br/>does the fetus grow, feed, and have shelter in the mother?<br/> yes!<br/> does it contribute to the mother's survival?<br/> no!<br/> so a fetus, technically speaking, is 100% parasite.<br/> is it murder when you remove an unwanted parasite from your body?<br/> of course not!<br/>and it is not the user's fault when birth control fails.<br/> they should not \"just have to deal with it,\" because if the fetus does become a human, it will probably have a poor life in the hands of inexperienced kids who may not even get to college in order to care for the child!<br/> rebuttalsnew point- a fetus can feel paina fetus can feel pain at 8 weeks, and abortion causes alot of pain.<br/> well, it was your source (http:<br/>//news.<br/>discovery.<br/>com......<br/>) that said it takes 20, maybe up to 29 weeks!<br/> so you basically proved yourself wrong, and attempted to fudge false information!<br/> that should get you disqualified right there, my friend.<br/>conclusionthank you, folks, for listening to this heated debate for the past week or so.<br/> to wrap things up,-abortion is not murder.<br/> the definition of murder clearly states that murder is \"of another human being,\" and according to nearly every source below (as well as my opponent's sources), a fetus is not by any means human.<br/>-when you really take a good look at it, abortion is nothing more than a choice between a woman and her doctor.<br/> it is not the government's choice, not her parent's choice, and certainly not your choice, con.<br/>-rape is something that happens a lot in today's society, and unfortunately, many of these victims become pregnant (contrary to the made up statistics of my opponent).<br/> so abortion, while not always happy, must happen if the woman does not want to continue to carry some random dude's seed.<br/> -birth control does not always work, but that is not the user's fault.<br/> the parents (and the baby) should not be punished for something they can't stop!<br/>-my opponent uses made up info for his case!<br/>thank you.<br/> vote con</td>\n",
       "            <td>i see that you are for abortion.<br/> i would like to debate this with you.<br/></td>\n",
       "        </tr>\n",
       "    </table>"
      ],
      "text/plain": [
       "<IPython.core.display.HTML object>"
      ]
     },
     "metadata": {},
     "output_type": "display_data"
    },
    {
     "name": "stdout",
     "output_type": "stream",
     "text": [
      "IDX: 7, tag: abortion, topics: abortion\n",
      "Is-Same-Side: True\n"
     ]
    },
    {
     "data": {
      "text/html": [
       "<table>\n",
       "        <tr>\n",
       "            <td style=\"border-right:1px dashed black;\">pennsylvania is a good thing.<br/> the swing states will be vital.<br/> *waits and watches*</td>\n",
       "            <td>my opponent's first argument begins with an over-rationalization.<br/> she maintains that because killing is \"wrong\", therefore abortion is also \"wrong\".<br/> however, this assumption is wrong -- killing in it of itself is perfectly okay.<br/> from hunting, to fishing, to the zooplankton in our toothpastes, killing occurs all the time.<br/> what i believe my opponent was trying to say though, was that the forced termination of human life is \"wrong\".<br/> that it true, and i will not attempt to argue that point.<br/> however, a fetus is not a human being.<br/> wiktionary, for instance, defines a human being as, \"a human being, whether man, woman, or child; of or belonging to the species homo sapiens or its closest relatives.\"<br/> there is no mention of fetuses anywhere in that definition.<br/> and in fact, if you can find a mainstream, unbiased source (from a dictionary, online dictionary, or otherwise) that defines humans to include fetuses, i will forfeit the sources vote.<br/> furthermore, your conception of the word \"killing\" is also flawed.<br/> if we can assume that preventing life to become life is in fact killing, then every moment you are not engaging in the act of reproduction, you are killing potential life.<br/> that notion, however, is quite ridiculous; your idea of disallowing abortion is similarly outlandish.<br/> therefore, the idea of \"potential life\" is neither equatable, nor comparable with actual life.<br/> but even if a fetus were a human being, its \"rights\" still would not trump the rights of the mother.<br/> who are we to expect pregnant women to voluntarily donate their body and life support systems to something else?<br/> who are we to force a mother to devote eighteen years to taking care of a child?<br/> that is both unreasonable, and, arguably, sexist.<br/> therefore, my opponent's argument that abortions deprive the rights of future humans should be ignored.<br/> besides, even if abortions were made illegal, women would still seek them, and this would be extremely dangerous.<br/> according to planned parenthood, \"in 1972 there were 1,000,000 illegal abortions and 5,000 to 10,000 women died from them.\"<br/> when roe v.<br/> wade passed in 1973 (a year after the above-mentioned statistic), deaths from abortion drastically dropped.<br/> this is supported by the national center for health statistics' own statistics.<br/> her third point is that some women will feel sad for having an abortion...<br/> um...<br/> so what?!<br/> feeling bad is not reason to disallow abortion.<br/> to bring unwanted children in this world.<br/> to force women to bear a child.<br/> that is absurd, and only an appeal to emotion.<br/> but above all, the fundamental reason darkprincess expresses her opinion this way in her oppening argument, is because she wants to inflict her morals upon the different people around her.<br/> (that is the basis to her second point.<br/>) the government has absolutely no right to control the morals of its people, and above all, that is why you must allow abortions.<br/> and that is why i strongly urge the audience to vote pro.<br/></td>\n",
       "        </tr>\n",
       "    </table>"
      ],
      "text/plain": [
       "<IPython.core.display.HTML object>"
      ]
     },
     "metadata": {},
     "output_type": "display_data"
    },
    {
     "name": "stdout",
     "output_type": "stream",
     "text": [
      "IDX: 8, tag: gay marriage, topics: gay marriage is morally acceptable even within christianity\n",
      "Is-Same-Side: False\n"
     ]
    },
    {
     "data": {
      "text/html": [
       "<table>\n",
       "        <tr>\n",
       "            <td style=\"border-right:1px dashed black;\">gay marriage is morally acceptable even within christianity everything you say here is good and reasonable.<br/> there is just one thing that you assume.<br/> you are assuming that every single thing in the bible is god's will.<br/> don't be offended by the following, this is just my point of view.<br/> not everything in the bible is a fact or a rule.<br/> now, jesus himself never says that homosexuality is wrong, nor does any heavenly figure (he does say personally that divorce is a sin, but we allow that!<br/>).<br/> paul is the one who argues against homosexuality.<br/> unless you convince yourself that every time someone wrote something that would later appear in the bible, god took control of the writer's hand and made the writer write his will, what paul says is just what paul says.<br/> it is not really god's will, but paul's.<br/> and if it were god's will, and he will judge the gays, is it our place to prevent them from marriage?<br/> we should let god judge them, not us.<br/> if they will be punished for their acts by god, we still have no place to judge them ourselves.<br/> the bible is not a rulebook for our religion, it is literally a bunch of historical accounts brought together in one place and translated so we can read its wisdom.<br/> most of it is there for us to think about.<br/> however, it contradicts itself.<br/> leviticus 20:<br/>13 says:<br/> \"if a man lies with a male as with a woman, both of them have committed an abomination; they shall surely be put to death; their blood is upon them.\"<br/> if your assumption is correct, then all gays who have had gay sex should die.<br/> but this contradicts everything we know about our religion.<br/> so in general we have to separate the big picture from the bible's main themes, rather than harsh details.<br/> in the passage about the woman who escapes punishment, yes, he says \"sin no more\", but she is still forgiven and is not punished.<br/> in the comments, someone said that there was no such thing as a gay christian.<br/> however, there are many gays christians and christian lgbt supporters.<br/> ( http:<br/>//www.<br/>notalllikethat.<br/>org...<br/> ) the same commenter said to show where a bible passage said that a gay person went to heaven.<br/> that brings up another point.<br/> one might say jesus thinks people should not be gay because of matthew 19:<br/>4-5, which says:<br/> \"jesus answered, \"have you not read that the one who made them at the beginning made them male and female, and said, \"for this reason a man shall leave his father and mother and be joined to his wife and the two shall become one flesh\"?<br/> therefore, what god has joined together, let no one separate.\"<br/> \" people use this passage against homosexuality.<br/> but they forget the rest:<br/> \"not everyone can accept this teaching, but only those to whom it is given.<br/> for there are eunuchs who have been so from birth, and there are eunuchs who have been made eunuchs by others, and there are eunuchs who have made themselves eunuchs for the sake of the kingdom of heaven.<br/> let anyone accept this who can.\"<br/> (matthew 19:<br/>11-12).<br/> he says this in response to his disciples reaction to his strict ideas about divorce (see first paragraph).<br/> nowadays and ever since ancient times in some places, the term \"eunuch\" is used to refer to a man who had his testicles removed before puberty, so that he can think differently from other people.<br/> in those parts and times, the term was used to refer to an especially feminine or homosexual man.<br/> http:<br/>//www.<br/>wouldjesusdiscriminate.<br/>org...<br/> i have no more arguments for the time being.<br/></td>\n",
       "            <td>gay marriage is morally acceptable even within christianity i accept...<br/> as con, i will argue the fact that the bible does not condone same sex marriage or relations.<br/> i would also argue that what the old testament says does still matter in context of all 66 books of protestant canon, though the new testament should suffice in proving my point.<br/> paul does record multiple times in letters to the corinthians, romans, timothy, and others that homosexuality is a sin that will be punished at judgment.<br/> pro claims that paul was simply referring to the sin of homosexual rape that would be condemned as much as heterosexual rape.<br/> while paul certainly would have condemned homosexual rape, this would not have been the main action he was referring to.<br/> scholars believe that as early as the second century before christ, rome had outlawed homosexual rape.<br/> if outlawed, it would not have been prevalent enough for paul to use the term homosexuality and it not be accepted as everything under that umbrella term, whether rape or love.<br/> in fact, homosexual marriage was a known fact and practiced in the empire.<br/> emperor nero was involved in three gay unions.<br/> in one of these he is even reported to have worn a wedding veil, and he would choose whether to be the male or female in the relationship.<br/> http:<br/>//historynewsnetwork.<br/>org...<br/> many use jesus' command not to judge as reason for the bible's acceptance of homosexuality, or at least lack of condemnation.<br/> unfortunately, they do not continue reading the passage.<br/> he says we will be judged as we judge others.<br/> this passage is saying that we should not base our judgment on prejudice and preconceived notions or we will be judged by those ourselves.<br/> however, according to the bible we will all be judged according to god's word.<br/> therefore it is not the christian judging, it is actually the bible.<br/> another passage that is often referenced is that in which the adulterous woman is brought before jesus.<br/> in an act of great mercy he declares that the one without sin should be first to cast a stone.<br/> those who wanted to stone her quickly realized that they were at fault and left.<br/> jesus then says that he would not condemn her either.<br/> when using this verse to support homosexuality, most stop there.<br/> one small sentence is usually forgotten in this story.<br/> he says,\"go, and sin no more.\"<br/> though he forgives her and does not condemn, he still recognizes her sin and commands her to stop with his authority and that of scripture.<br/></td>\n",
       "        </tr>\n",
       "    </table>"
      ],
      "text/plain": [
       "<IPython.core.display.HTML object>"
      ]
     },
     "metadata": {},
     "output_type": "display_data"
    },
    {
     "name": "stdout",
     "output_type": "stream",
     "text": [
      "IDX: 9, tag: abortion, topics: prolife folks should agree that abortionist tiller should have been shot\n",
      "Is-Same-Side: True\n"
     ]
    },
    {
     "data": {
      "text/html": [
       "<table>\n",
       "        <tr>\n",
       "            <td style=\"border-right:1px dashed black;\">prolife folks should agree that abortionist tiller should have been shot my opponent's comment comes a day after she posted her counter-argument.<br/> i'm having a hard time believing she \"accidentally\" hit accept too early.<br/>but never let it be said that i am one to stifle intellectual discussion on the basis of a technicality.<br/> i'll still rebut the arguments posted in the comments section.\"<br/>it's not about law per se, it's about the moral thing to do.<br/>so why bring up the idea that im being hypocritical?\"<br/>because if it is about morality, and not law, your first argument (that what he did was unlawful) is meaningless.<br/> you trying to justify his murder by saying \"he broke the law\", while simultaneously saying \"it's not about what's legal\", is hypocrisy.\"<br/>too many children?<br/> they can always adopt.<br/> even if they couldnt, they are responisble for having the child, particluarly not aborting earlier when itd be more morallly gray.\"<br/>the problem is, i have presented a clear-cut case for why it is morally justifiable to do so (self-defence).<br/> a case which you did not contest.\"<br/>also u didnt address the rock concert example\"i did, in that i provided a moral argument for why abortion is alwyas justifiable, under any circumstance; self-defence.<br/> an argument you did not dispute, which means you dropped it.\"<br/>but as said, she had plenty of time to abort earlier when more morally gray, and she is responsible for the conception so she does not have absolute right here.\"<br/>1) how do you know it was her who was responsible for the conception?<br/>2) at what point does the mother lose sovereignty over her own body?<br/> consequently, at what point do we, as human beings, lose sovereignty over our own body?<br/> is there a point in time where it is okay for me to rape you, because you've lost soveriengty over your body?<br/> or to take, against your will, your bodily organs?<br/> i propose there is never sucha point, as allowing such a point would lead to barabric and disatrous moral results for society.\"<br/>you say society cant do this...<br/> but it always has and must sometimes by necessity sometimes.<br/> civil war, revolutions, defending others etc...<br/> killing is sometimes necessary.\"<br/>you say society has always killed, but that does not justify the killings it has done.<br/> further more, saying \"people kill in war\" does not negate my claim that \"the only just time to kill is in self-defence\".<br/> after all, at one point or another, all sides of a war are killing \"in self-defence\".\"<br/>you didnt address the two year old hypothetical.<br/> almost everyone would agree that should be a moral necessity to defend them.\"<br/>because they are a living child, no longer infringing upon someone's bodily sovereinty.<br/>this is not comparable to a fetus, which is.<br/> \"the only distinction you could make is body soverignty arguments.<br/> but if u do make this argument....<br/> how is it not her responsibility that the child was conceived, and how not her fault she did not abort sooner when morally grayer?\"<br/>whether or not it was her hoice to concieve the child, doesn't change the face that she should be able to boot it out when she wants.<br/> if i invite you into my house, does htat mean i have no right to tell you to leave, and force you out of my house, if you choose not to go or are incapable of not leaving?<br/> \"i could see if he did them for trivial reasons at a point where it's legal, and for nontrivial when it's not illegal.<br/> the only thing that is not trivial and not the mom's life, is a deformed baby.<br/> i could understand if that was the reason he did them, i may need more information....<br/> it sounds like he was not this scrupulous.<br/>and we see he aborted at 26 weeks for too many kids.<br/> far as i can tell, that's into 3rd trimester and pushing if not illegal.<br/> not an expert, i admit\" once again, legality here is not the issue; it's the morality.<br/>and it was completely immoral, and logically unjustifiable, to murder this man, simply because he respected women's bodily sovereignty, and aborted their babies.<br/>vote con.<br/></td>\n",
       "            <td>prolife folks should agree that abortionist tiller should have been shot why is everyone forfeiting?<br/></td>\n",
       "        </tr>\n",
       "    </table>"
      ],
      "text/plain": [
       "<IPython.core.display.HTML object>"
      ]
     },
     "metadata": {},
     "output_type": "display_data"
    }
   ],
   "source": [
    "_ = {print_args(FPFN_df, i) for i in range(10)}"
   ]
  },
  {
   "cell_type": "code",
   "execution_count": 34,
   "metadata": {
    "ExecuteTime": {
     "end_time": "2019-07-17T11:09:54.332972Z",
     "start_time": "2019-07-17T11:09:34.803468Z"
    },
    "code_folding": [
     1
    ],
    "collapsed": true
   },
   "outputs": [
    {
     "data": {
      "application/vnd.jupyter.widget-view+json": {
       "model_id": "ada03ca45d4c47cda704126ef5b04ce1",
       "version_major": 2,
       "version_minor": 0
      },
      "text/plain": [
       "HBox(children=(IntProgress(value=0, max=1784), HTML(value='')))"
      ]
     },
     "metadata": {},
     "output_type": "display_data"
    },
    {
     "name": "stdout",
     "output_type": "stream",
     "text": [
      "\n"
     ]
    },
    {
     "data": {
      "text/html": [
       "<div>\n",
       "<style scoped>\n",
       "    .dataframe tbody tr th:only-of-type {\n",
       "        vertical-align: middle;\n",
       "    }\n",
       "\n",
       "    .dataframe tbody tr th {\n",
       "        vertical-align: top;\n",
       "    }\n",
       "\n",
       "    .dataframe thead th {\n",
       "        text-align: right;\n",
       "    }\n",
       "</style>\n",
       "<table border=\"1\" class=\"dataframe\">\n",
       "  <thead>\n",
       "    <tr style=\"text-align: right;\">\n",
       "      <th></th>\n",
       "      <th>argument1_len</th>\n",
       "      <th>argument2_len</th>\n",
       "      <th>argument12_len_diff</th>\n",
       "      <th>argument12_len_diff_abs</th>\n",
       "    </tr>\n",
       "  </thead>\n",
       "  <tbody>\n",
       "    <tr>\n",
       "      <th>count</th>\n",
       "      <td>1784.000000</td>\n",
       "      <td>1784.000000</td>\n",
       "      <td>1784.000000</td>\n",
       "      <td>1784.000000</td>\n",
       "    </tr>\n",
       "    <tr>\n",
       "      <th>mean</th>\n",
       "      <td>471.911435</td>\n",
       "      <td>394.099776</td>\n",
       "      <td>77.811659</td>\n",
       "      <td>380.988789</td>\n",
       "    </tr>\n",
       "    <tr>\n",
       "      <th>std</th>\n",
       "      <td>531.535292</td>\n",
       "      <td>487.483849</td>\n",
       "      <td>577.798488</td>\n",
       "      <td>441.220213</td>\n",
       "    </tr>\n",
       "    <tr>\n",
       "      <th>min</th>\n",
       "      <td>3.000000</td>\n",
       "      <td>4.000000</td>\n",
       "      <td>-2331.000000</td>\n",
       "      <td>0.000000</td>\n",
       "    </tr>\n",
       "    <tr>\n",
       "      <th>25%</th>\n",
       "      <td>80.000000</td>\n",
       "      <td>59.000000</td>\n",
       "      <td>-126.250000</td>\n",
       "      <td>59.750000</td>\n",
       "    </tr>\n",
       "    <tr>\n",
       "      <th>50%</th>\n",
       "      <td>243.000000</td>\n",
       "      <td>174.000000</td>\n",
       "      <td>26.000000</td>\n",
       "      <td>210.000000</td>\n",
       "    </tr>\n",
       "    <tr>\n",
       "      <th>75%</th>\n",
       "      <td>699.500000</td>\n",
       "      <td>543.500000</td>\n",
       "      <td>300.500000</td>\n",
       "      <td>550.000000</td>\n",
       "    </tr>\n",
       "    <tr>\n",
       "      <th>max</th>\n",
       "      <td>2724.000000</td>\n",
       "      <td>2415.000000</td>\n",
       "      <td>2704.000000</td>\n",
       "      <td>2704.000000</td>\n",
       "    </tr>\n",
       "  </tbody>\n",
       "</table>\n",
       "</div>"
      ],
      "text/plain": [
       "       argument1_len  argument2_len  argument12_len_diff  \\\n",
       "count    1784.000000    1784.000000          1784.000000   \n",
       "mean      471.911435     394.099776            77.811659   \n",
       "std       531.535292     487.483849           577.798488   \n",
       "min         3.000000       4.000000         -2331.000000   \n",
       "25%        80.000000      59.000000          -126.250000   \n",
       "50%       243.000000     174.000000            26.000000   \n",
       "75%       699.500000     543.500000           300.500000   \n",
       "max      2724.000000    2415.000000          2704.000000   \n",
       "\n",
       "       argument12_len_diff_abs  \n",
       "count              1784.000000  \n",
       "mean                380.988789  \n",
       "std                 441.220213  \n",
       "min                   0.000000  \n",
       "25%                  59.750000  \n",
       "50%                 210.000000  \n",
       "75%                 550.000000  \n",
       "max                2704.000000  "
      ]
     },
     "execution_count": 34,
     "metadata": {},
     "output_type": "execute_result"
    }
   ],
   "source": [
    "# tokenizer from BERT\n",
    "def tokenize_arguments(row):\n",
    "    # tokenize\n",
    "    row['argument1_tokens'] = tokenizer(row['argument1'])\n",
    "    row['argument2_tokens'] = tokenizer(row['argument2'])\n",
    "\n",
    "    # count tokens\n",
    "    row['argument1_len'] = len(row['argument1_tokens'])\n",
    "    row['argument2_len'] = len(row['argument2_tokens'])\n",
    "    # token number diff\n",
    "    row['argument12_len_diff'] = row['argument1_len'] - row['argument2_len']\n",
    "    row['argument12_len_diff_abs'] = np.abs(row['argument12_len_diff'])\n",
    "    return row\n",
    "\n",
    "\n",
    "FPFN_df = FPFN_df.progress_apply(tokenize_arguments, axis=1)\n",
    "FPFN_df.describe()"
   ]
  },
  {
   "cell_type": "code",
   "execution_count": 35,
   "metadata": {
    "ExecuteTime": {
     "end_time": "2019-07-17T11:09:56.868107Z",
     "start_time": "2019-07-17T11:09:56.469901Z"
    },
    "collapsed": true
   },
   "outputs": [
    {
     "data": {
      "text/plain": [
       "<matplotlib.axes._subplots.AxesSubplot at 0x7f81ac0cf748>"
      ]
     },
     "execution_count": 35,
     "metadata": {},
     "output_type": "execute_result"
    },
    {
     "data": {
      "image/png": "[encoded data removed]",
      "text/plain": [
       "<Figure size 432x288 with 1 Axes>"
      ]
     },
     "metadata": {
      "needs_background": "light"
     },
     "output_type": "display_data"
    }
   ],
   "source": [
    "FPFN_df.plot()"
   ]
  },
  {
   "cell_type": "markdown",
   "metadata": {},
   "source": [
    "---"
   ]
  },
  {
   "cell_type": "markdown",
   "metadata": {},
   "source": [
    "### Make final results/predictions"
   ]
  },
  {
   "cell_type": "code",
   "execution_count": 137,
   "metadata": {
    "ExecuteTime": {
     "end_time": "2019-07-20T08:56:49.243192Z",
     "start_time": "2019-07-20T08:56:48.450987Z"
    },
    "collapsed": true
   },
   "outputs": [
    {
     "name": "stdout",
     "output_type": "stream",
     "text": [
      "BERTModel(\n",
      "  (encoder): BERTEncoder(\n",
      "    (dropout_layer): Dropout(p = 0.1, axes=())\n",
      "    (layer_norm): BERTLayerNorm(eps=1e-12, axis=-1, center=True, scale=True, in_channels=768)\n",
      "    (transformer_cells): HybridSequential(\n",
      "      (0): BERTEncoderCell(\n",
      "        (dropout_layer): Dropout(p = 0.1, axes=())\n",
      "        (attention_cell): MultiHeadAttentionCell(\n",
      "          (_base_cell): DotProductAttentionCell(\n",
      "            (_dropout_layer): Dropout(p = 0.1, axes=())\n",
      "          )\n",
      "          (proj_query): Dense(768 -> 768, linear)\n",
      "          (proj_key): Dense(768 -> 768, linear)\n",
      "          (proj_value): Dense(768 -> 768, linear)\n",
      "        )\n",
      "        (proj): Dense(768 -> 768, linear)\n",
      "        (ffn): BERTPositionwiseFFN(\n",
      "          (ffn_1): Dense(768 -> 3072, linear)\n",
      "          (activation): GELU()\n",
      "          (ffn_2): Dense(3072 -> 768, linear)\n",
      "          (dropout_layer): Dropout(p = 0.1, axes=())\n",
      "          (layer_norm): BERTLayerNorm(eps=1e-12, axis=-1, center=True, scale=True, in_channels=768)\n",
      "        )\n",
      "        (layer_norm): BERTLayerNorm(eps=1e-12, axis=-1, center=True, scale=True, in_channels=768)\n",
      "      )\n",
      "      (1): BERTEncoderCell(\n",
      "        (dropout_layer): Dropout(p = 0.1, axes=())\n",
      "        (attention_cell): MultiHeadAttentionCell(\n",
      "          (_base_cell): DotProductAttentionCell(\n",
      "            (_dropout_layer): Dropout(p = 0.1, axes=())\n",
      "          )\n",
      "          (proj_query): Dense(768 -> 768, linear)\n",
      "          (proj_key): Dense(768 -> 768, linear)\n",
      "          (proj_value): Dense(768 -> 768, linear)\n",
      "        )\n",
      "        (proj): Dense(768 -> 768, linear)\n",
      "        (ffn): BERTPositionwiseFFN(\n",
      "          (ffn_1): Dense(768 -> 3072, linear)\n",
      "          (activation): GELU()\n",
      "          (ffn_2): Dense(3072 -> 768, linear)\n",
      "          (dropout_layer): Dropout(p = 0.1, axes=())\n",
      "          (layer_norm): BERTLayerNorm(eps=1e-12, axis=-1, center=True, scale=True, in_channels=768)\n",
      "        )\n",
      "        (layer_norm): BERTLayerNorm(eps=1e-12, axis=-1, center=True, scale=True, in_channels=768)\n",
      "      )\n",
      "      (2): BERTEncoderCell(\n",
      "        (dropout_layer): Dropout(p = 0.1, axes=())\n",
      "        (attention_cell): MultiHeadAttentionCell(\n",
      "          (_base_cell): DotProductAttentionCell(\n",
      "            (_dropout_layer): Dropout(p = 0.1, axes=())\n",
      "          )\n",
      "          (proj_query): Dense(768 -> 768, linear)\n",
      "          (proj_key): Dense(768 -> 768, linear)\n",
      "          (proj_value): Dense(768 -> 768, linear)\n",
      "        )\n",
      "        (proj): Dense(768 -> 768, linear)\n",
      "        (ffn): BERTPositionwiseFFN(\n",
      "          (ffn_1): Dense(768 -> 3072, linear)\n",
      "          (activation): GELU()\n",
      "          (ffn_2): Dense(3072 -> 768, linear)\n",
      "          (dropout_layer): Dropout(p = 0.1, axes=())\n",
      "          (layer_norm): BERTLayerNorm(eps=1e-12, axis=-1, center=True, scale=True, in_channels=768)\n",
      "        )\n",
      "        (layer_norm): BERTLayerNorm(eps=1e-12, axis=-1, center=True, scale=True, in_channels=768)\n",
      "      )\n",
      "      (3): BERTEncoderCell(\n",
      "        (dropout_layer): Dropout(p = 0.1, axes=())\n",
      "        (attention_cell): MultiHeadAttentionCell(\n",
      "          (_base_cell): DotProductAttentionCell(\n",
      "            (_dropout_layer): Dropout(p = 0.1, axes=())\n",
      "          )\n",
      "          (proj_query): Dense(768 -> 768, linear)\n",
      "          (proj_key): Dense(768 -> 768, linear)\n",
      "          (proj_value): Dense(768 -> 768, linear)\n",
      "        )\n",
      "        (proj): Dense(768 -> 768, linear)\n",
      "        (ffn): BERTPositionwiseFFN(\n",
      "          (ffn_1): Dense(768 -> 3072, linear)\n",
      "          (activation): GELU()\n",
      "          (ffn_2): Dense(3072 -> 768, linear)\n",
      "          (dropout_layer): Dropout(p = 0.1, axes=())\n",
      "          (layer_norm): BERTLayerNorm(eps=1e-12, axis=-1, center=True, scale=True, in_channels=768)\n",
      "        )\n",
      "        (layer_norm): BERTLayerNorm(eps=1e-12, axis=-1, center=True, scale=True, in_channels=768)\n",
      "      )\n",
      "      (4): BERTEncoderCell(\n",
      "        (dropout_layer): Dropout(p = 0.1, axes=())\n",
      "        (attention_cell): MultiHeadAttentionCell(\n",
      "          (_base_cell): DotProductAttentionCell(\n",
      "            (_dropout_layer): Dropout(p = 0.1, axes=())\n",
      "          )\n",
      "          (proj_query): Dense(768 -> 768, linear)\n",
      "          (proj_key): Dense(768 -> 768, linear)\n",
      "          (proj_value): Dense(768 -> 768, linear)\n",
      "        )\n",
      "        (proj): Dense(768 -> 768, linear)\n",
      "        (ffn): BERTPositionwiseFFN(\n",
      "          (ffn_1): Dense(768 -> 3072, linear)\n",
      "          (activation): GELU()\n",
      "          (ffn_2): Dense(3072 -> 768, linear)\n",
      "          (dropout_layer): Dropout(p = 0.1, axes=())\n",
      "          (layer_norm): BERTLayerNorm(eps=1e-12, axis=-1, center=True, scale=True, in_channels=768)\n",
      "        )\n",
      "        (layer_norm): BERTLayerNorm(eps=1e-12, axis=-1, center=True, scale=True, in_channels=768)\n",
      "      )\n",
      "      (5): BERTEncoderCell(\n",
      "        (dropout_layer): Dropout(p = 0.1, axes=())\n",
      "        (attention_cell): MultiHeadAttentionCell(\n",
      "          (_base_cell): DotProductAttentionCell(\n",
      "            (_dropout_layer): Dropout(p = 0.1, axes=())\n",
      "          )\n",
      "          (proj_query): Dense(768 -> 768, linear)\n",
      "          (proj_key): Dense(768 -> 768, linear)\n",
      "          (proj_value): Dense(768 -> 768, linear)\n",
      "        )\n",
      "        (proj): Dense(768 -> 768, linear)\n",
      "        (ffn): BERTPositionwiseFFN(\n",
      "          (ffn_1): Dense(768 -> 3072, linear)\n",
      "          (activation): GELU()\n",
      "          (ffn_2): Dense(3072 -> 768, linear)\n",
      "          (dropout_layer): Dropout(p = 0.1, axes=())\n",
      "          (layer_norm): BERTLayerNorm(eps=1e-12, axis=-1, center=True, scale=True, in_channels=768)\n",
      "        )\n",
      "        (layer_norm): BERTLayerNorm(eps=1e-12, axis=-1, center=True, scale=True, in_channels=768)\n",
      "      )\n",
      "      (6): BERTEncoderCell(\n",
      "        (dropout_layer): Dropout(p = 0.1, axes=())\n",
      "        (attention_cell): MultiHeadAttentionCell(\n",
      "          (_base_cell): DotProductAttentionCell(\n",
      "            (_dropout_layer): Dropout(p = 0.1, axes=())\n",
      "          )\n",
      "          (proj_query): Dense(768 -> 768, linear)\n",
      "          (proj_key): Dense(768 -> 768, linear)\n",
      "          (proj_value): Dense(768 -> 768, linear)\n",
      "        )\n",
      "        (proj): Dense(768 -> 768, linear)\n",
      "        (ffn): BERTPositionwiseFFN(\n",
      "          (ffn_1): Dense(768 -> 3072, linear)\n",
      "          (activation): GELU()\n",
      "          (ffn_2): Dense(3072 -> 768, linear)\n",
      "          (dropout_layer): Dropout(p = 0.1, axes=())\n",
      "          (layer_norm): BERTLayerNorm(eps=1e-12, axis=-1, center=True, scale=True, in_channels=768)\n",
      "        )\n",
      "        (layer_norm): BERTLayerNorm(eps=1e-12, axis=-1, center=True, scale=True, in_channels=768)\n",
      "      )\n",
      "      (7): BERTEncoderCell(\n",
      "        (dropout_layer): Dropout(p = 0.1, axes=())\n",
      "        (attention_cell): MultiHeadAttentionCell(\n",
      "          (_base_cell): DotProductAttentionCell(\n",
      "            (_dropout_layer): Dropout(p = 0.1, axes=())\n",
      "          )\n",
      "          (proj_query): Dense(768 -> 768, linear)\n",
      "          (proj_key): Dense(768 -> 768, linear)\n",
      "          (proj_value): Dense(768 -> 768, linear)\n",
      "        )\n",
      "        (proj): Dense(768 -> 768, linear)\n",
      "        (ffn): BERTPositionwiseFFN(\n",
      "          (ffn_1): Dense(768 -> 3072, linear)\n",
      "          (activation): GELU()\n",
      "          (ffn_2): Dense(3072 -> 768, linear)\n",
      "          (dropout_layer): Dropout(p = 0.1, axes=())\n",
      "          (layer_norm): BERTLayerNorm(eps=1e-12, axis=-1, center=True, scale=True, in_channels=768)\n",
      "        )\n",
      "        (layer_norm): BERTLayerNorm(eps=1e-12, axis=-1, center=True, scale=True, in_channels=768)\n",
      "      )\n",
      "      (8): BERTEncoderCell(\n",
      "        (dropout_layer): Dropout(p = 0.1, axes=())\n",
      "        (attention_cell): MultiHeadAttentionCell(\n",
      "          (_base_cell): DotProductAttentionCell(\n",
      "            (_dropout_layer): Dropout(p = 0.1, axes=())\n",
      "          )\n",
      "          (proj_query): Dense(768 -> 768, linear)\n",
      "          (proj_key): Dense(768 -> 768, linear)\n",
      "          (proj_value): Dense(768 -> 768, linear)\n",
      "        )\n",
      "        (proj): Dense(768 -> 768, linear)\n",
      "        (ffn): BERTPositionwiseFFN(\n",
      "          (ffn_1): Dense(768 -> 3072, linear)\n",
      "          (activation): GELU()\n",
      "          (ffn_2): Dense(3072 -> 768, linear)\n",
      "          (dropout_layer): Dropout(p = 0.1, axes=())\n",
      "          (layer_norm): BERTLayerNorm(eps=1e-12, axis=-1, center=True, scale=True, in_channels=768)\n",
      "        )\n",
      "        (layer_norm): BERTLayerNorm(eps=1e-12, axis=-1, center=True, scale=True, in_channels=768)\n",
      "      )\n",
      "      (9): BERTEncoderCell(\n",
      "        (dropout_layer): Dropout(p = 0.1, axes=())\n",
      "        (attention_cell): MultiHeadAttentionCell(\n",
      "          (_base_cell): DotProductAttentionCell(\n",
      "            (_dropout_layer): Dropout(p = 0.1, axes=())\n",
      "          )\n",
      "          (proj_query): Dense(768 -> 768, linear)\n",
      "          (proj_key): Dense(768 -> 768, linear)\n",
      "          (proj_value): Dense(768 -> 768, linear)\n",
      "        )\n",
      "        (proj): Dense(768 -> 768, linear)\n",
      "        (ffn): BERTPositionwiseFFN(\n",
      "          (ffn_1): Dense(768 -> 3072, linear)\n",
      "          (activation): GELU()\n",
      "          (ffn_2): Dense(3072 -> 768, linear)\n",
      "          (dropout_layer): Dropout(p = 0.1, axes=())\n",
      "          (layer_norm): BERTLayerNorm(eps=1e-12, axis=-1, center=True, scale=True, in_channels=768)\n",
      "        )\n",
      "        (layer_norm): BERTLayerNorm(eps=1e-12, axis=-1, center=True, scale=True, in_channels=768)\n",
      "      )\n",
      "      (10): BERTEncoderCell(\n",
      "        (dropout_layer): Dropout(p = 0.1, axes=())\n",
      "        (attention_cell): MultiHeadAttentionCell(\n",
      "          (_base_cell): DotProductAttentionCell(\n",
      "            (_dropout_layer): Dropout(p = 0.1, axes=())\n",
      "          )\n",
      "          (proj_query): Dense(768 -> 768, linear)\n",
      "          (proj_key): Dense(768 -> 768, linear)\n",
      "          (proj_value): Dense(768 -> 768, linear)\n",
      "        )\n",
      "        (proj): Dense(768 -> 768, linear)\n",
      "        (ffn): BERTPositionwiseFFN(\n",
      "          (ffn_1): Dense(768 -> 3072, linear)\n",
      "          (activation): GELU()\n",
      "          (ffn_2): Dense(3072 -> 768, linear)\n",
      "          (dropout_layer): Dropout(p = 0.1, axes=())\n",
      "          (layer_norm): BERTLayerNorm(eps=1e-12, axis=-1, center=True, scale=True, in_channels=768)\n",
      "        )\n",
      "        (layer_norm): BERTLayerNorm(eps=1e-12, axis=-1, center=True, scale=True, in_channels=768)\n",
      "      )\n",
      "      (11): BERTEncoderCell(\n",
      "        (dropout_layer): Dropout(p = 0.1, axes=())\n",
      "        (attention_cell): MultiHeadAttentionCell(\n",
      "          (_base_cell): DotProductAttentionCell(\n",
      "            (_dropout_layer): Dropout(p = 0.1, axes=())\n",
      "          )\n",
      "          (proj_query): Dense(768 -> 768, linear)\n",
      "          (proj_key): Dense(768 -> 768, linear)\n",
      "          (proj_value): Dense(768 -> 768, linear)\n",
      "        )\n",
      "        (proj): Dense(768 -> 768, linear)\n",
      "        (ffn): BERTPositionwiseFFN(\n",
      "          (ffn_1): Dense(768 -> 3072, linear)\n",
      "          (activation): GELU()\n",
      "          (ffn_2): Dense(3072 -> 768, linear)\n",
      "          (dropout_layer): Dropout(p = 0.1, axes=())\n",
      "          (layer_norm): BERTLayerNorm(eps=1e-12, axis=-1, center=True, scale=True, in_channels=768)\n",
      "        )\n",
      "        (layer_norm): BERTLayerNorm(eps=1e-12, axis=-1, center=True, scale=True, in_channels=768)\n",
      "      )\n",
      "    )\n",
      "  )\n",
      "  (word_embed): HybridSequential(\n",
      "    (0): Embedding(30522 -> 768, float32)\n",
      "    (1): Dropout(p = 0.1, axes=())\n",
      "  )\n",
      "  (token_type_embed): HybridSequential(\n",
      "    (0): Embedding(2 -> 768, float32)\n",
      "    (1): Dropout(p = 0.1, axes=())\n",
      "  )\n",
      "  (pooler): Dense(768 -> 768, Activation(tanh))\n",
      ")\n"
     ]
    }
   ],
   "source": [
    "model, vocabulary, ctx, tokenizer, transform, loss_function, metric, all_labels = setup_bert()"
   ]
  },
  {
   "cell_type": "code",
   "execution_count": 138,
   "metadata": {
    "ExecuteTime": {
     "end_time": "2019-07-20T08:56:58.780036Z",
     "start_time": "2019-07-20T08:56:58.601608Z"
    }
   },
   "outputs": [],
   "source": [
    "# model.load_parameters('data/within_traindev_proepi512_BCE/bert.model.checkpoint4.params', ctx=ctx)\n",
    "model.load_parameters('data/within_traindev_proepi512_BCE_0.1/bert.model.checkpoint3.params', ctx=ctx)"
   ]
  },
  {
   "cell_type": "code",
   "execution_count": 139,
   "metadata": {
    "ExecuteTime": {
     "end_time": "2019-07-20T08:57:10.948028Z",
     "start_time": "2019-07-20T08:57:10.616701Z"
    }
   },
   "outputs": [],
   "source": [
    "#X_pred = within_test_df[['argument1', 'argument2', 'topic']]\n",
    "X_pred = cross_test_df[['argument1', 'argument2', 'topic']]\n",
    "y_pred = None\n",
    "\n",
    "_, data_pred = transform_dataset(X_pred, y_pred, transform)"
   ]
  },
  {
   "cell_type": "code",
   "execution_count": 116,
   "metadata": {
    "ExecuteTime": {
     "end_time": "2019-07-20T08:31:16.194895Z",
     "start_time": "2019-07-20T08:31:16.191739Z"
    },
    "collapsed": true
   },
   "outputs": [
    {
     "data": {
      "text/plain": [
       "['i would like to start off by thanking my opponent for his first debate, and hope that he has many more to come. claiming that something should be maintain simply because it is tradition is a common falacy, known as appeal to tradition. examples of how this is not an adequate reason to preserve something by itself are such issues as slavery, and discrimination of women. simply because that is the way things were, does not mean that is the way thing ought be. i would also like to question my opponent\\'s claim that, \"i believe it is the child who chooses to become gay in a more mature state of mind.\" if a child can simply \"choose\" to be gay, then they can \"choose\" to not be gay. also, if someone is capable of such a choice, then my opponent would be able to simply become gay for 30 minutes, then become straight again, as would i and anyone else reading and voting on this debate. as of now, i have not found the way to choose to be gay. even so, i don\\'t see how choosing or not choosing to be gay should effect if gay marriage is allowed. if the government is going to provide financial benefits (along with other benefits) to people that are married, then what reason does the government have for omitting and discriminating against a classification of people? we already know that the government recognizes gay people as a class, thanks to surveys and the military\\'s dadt.',\n",
       " 'hello, i am new to this website and usually debate on such sites as cnn.com. (i would enjoy a debate in which there are limited to no resources, just perosnal experience; just for curiosity.) i decided my first debate was going to be over the highly controversial \"gay marriage\". i, for one, strongly disagree with gay marriage and not for religious purposes. as a person who does not attend church, or believe in a higher supernatural power, i simply do not believe it is right and i know it will hurt our posterity in the future to come. one would claim it is alright for gay people to have the right to marry under the government and in some cases under the bible, but to me, and many other people it is a slap to the face of the norm and it is sad to see our children look at gay couples and to think it is okay for them to have a relationship with someone of their own sex. i guess my main concern is for the well being and traditional values or our children. let\\'s face it. no parent wishes their child would come out homosexual. and for the most part no child does. i believe it is the child who chooses to become gay in a more mature state of mind. as for the rest of my argument, i will let it come to light when i receive a challenge and so forth. thank you for your time.',\n",
       " None]"
      ]
     },
     "execution_count": 116,
     "metadata": {},
     "output_type": "execute_result"
    }
   ],
   "source": [
    "# data_pred_raw[0]"
   ]
  },
  {
   "cell_type": "code",
   "execution_count": 114,
   "metadata": {
    "ExecuteTime": {
     "end_time": "2019-07-20T08:30:42.283117Z",
     "start_time": "2019-07-20T08:30:42.272104Z"
    },
    "collapsed": true
   },
   "outputs": [
    {
     "data": {
      "text/plain": [
       "(array([    2,  1045,  2052,  2066,  2000,  2707,  2125,  2011, 28638,\n",
       "         2026,  7116,  2005,  2010,  2034,  5981,  1010,  1998,  3246,\n",
       "         2008,  2002,  2038,  2116,  2062,  2000,  2272,  1012,  6815,\n",
       "         2008,  2242,  2323,  2022,  5441,  3432,  2138,  2009,  2003,\n",
       "         4535,  2003,  1037,  2691,  6904,  2721,  5666,  1010,  2124,\n",
       "         2004,  5574,  2000,  4535,  1012,  4973,  1997,  2129,  2023,\n",
       "         2003,  2025,  2019, 11706,  3114,  2000,  7969,  2242,  2011,\n",
       "         2993,  2024,  2107,  3314,  2004,  8864,  1010,  1998,  9147,\n",
       "         1997,  2308,  1012,  3432,  2138,  2008,  2003,  1996,  2126,\n",
       "         2477,  2020,  1010,  2515,  2025,  2812,  2008,  2003,  1996,\n",
       "         2126,  2518, 11276,  2022,  1012,  1045,  2052,  2036,  2066,\n",
       "         2000,  3160,  2026,  7116,  1005,  1055,  4366,  2008,  1010,\n",
       "         1000,  1045,  2903,  2009,  2003,  1996,  2775,  2040, 15867,\n",
       "         2000,  2468,  5637,  1999,  1037,  2062,  9677,  2110,  1997,\n",
       "         2568,  1012,  1000,  2065,  1037,  2775,  2064,  3432,  1000,\n",
       "         5454,  1000,  2000,  2022,  5637,  1010,  2059,  2027,  2064,\n",
       "         1000,  5454,  1000,  2000,  2025,  2022,  5637,  1012,  2036,\n",
       "         1010,  2065,  2619,  2003,  5214,  1997,  2107,  1037,  3601,\n",
       "         1010,  2059,  2026,  7116,  2052,  2022,  2583,  2000,  3432,\n",
       "         2468,  5637,  2005,  2382,  2781,  1010,  2059,  2468,  3442,\n",
       "         2153,  1010,  2004,  2052,  1045,  1998,  3087,  2842,  3752,\n",
       "         1998,  6830,  2006,  2023,  5981,  1012,  2004,  1997,  2085,\n",
       "         1010,  1045,  2031,  2025,  2179,  1996,  2126,  2000,  5454,\n",
       "         2000,  2022,  5637,  1012,  2130,  2061,  1010,  1045,  2123,\n",
       "         1005,  1056,  2156,  2129, 10549,  2030,  2025, 10549,  2000,\n",
       "         2022,  5637,  2323,  3466,  2065,  5637,  3510,  2003,  3039,\n",
       "         1012,  2065,  1996,  2231,  2003,  2183,  2000,  3073,  3361,\n",
       "         6666,  1006,  2247,  2007,  2060,  6666,  1007,  2000,  2111,\n",
       "         2008,  2024,  2496,  1010,     3,  7592,  1010,  1045,  2572,\n",
       "         2047,  2000,  2023,  4037,  1998,  2788,  5981,  2006,  2107,\n",
       "         4573,  2004, 13229,  1012,  4012,  1012,  1006,  1045,  2052,\n",
       "         5959,  1037,  5981,  1999,  2029,  2045,  2024,  3132,  2000,\n",
       "         2053,  4219,  1010,  2074,  2566,  2891, 12032,  3325,  1025,\n",
       "         2074,  2005, 10628,  1012,  1007,  1045,  2787,  2026,  2034,\n",
       "         5981,  2001,  2183,  2000,  2022,  2058,  1996,  3811,  6801,\n",
       "         1000,  5637,  3510,  1000,  1012,  1045,  1010,  2005,  2028,\n",
       "         1010,  6118, 21090,  2007,  5637,  3510,  1998,  2025,  2005,\n",
       "         3412,  5682,  1012,  2004,  1037,  2711,  2040,  2515,  2025,\n",
       "         5463,  2277,  1010,  2030,  2903,  1999,  1037,  3020, 11189,\n",
       "         2373,  1010,  1045,  3432,  2079,  2025,  2903,  2009,  2003,\n",
       "         2157,  1998,  1045,  2113,  2009,  2097,  3480,  2256, 13082,\n",
       "         3012,  1999,  1996,  2925,  2000,  2272,  1012,  2028,  2052,\n",
       "         4366,  2009,  2003, 10303,  2005,  5637,  2111,  2000,  2031,\n",
       "         1996,  2157,  2000,  5914,  2104,  1996,  2231,  1998,  1999,\n",
       "         2070,  3572,  2104,  1996,  6331,  1010,  2021,  2000,  2033,\n",
       "         1010,  1998,  2116,  2060,  2111,  2009,  2003,  1037, 14308,\n",
       "         2000,  1996,  2227,  1997,  1996, 13373,  1998,  2009,  2003,\n",
       "         6517,  2000,  2156,  2256,  2336,  2298,  2012,  5637,  6062,\n",
       "         1998,  2000,  2228,  2009,  2003,  3100,  2005,  2068,  2000,\n",
       "         2031,  1037,  3276,  2007,  2619,  1997,  2037,  2219,  3348,\n",
       "         1012,  1045,  3984,  2026,  2364,  5142,  2003,  2005,  1996,\n",
       "         2092,  2108,  1998,  3151,  5300,  2030,  2256,  2336,  1012,\n",
       "         2292,  1005,  1055,  2227,  2009,  1012,  2053,  6687,  8996,\n",
       "         2037,  2775,  2052,  2272,  2041, 15667,  1012,  1998,  2005,\n",
       "         1996,  2087,  2112,  2053,  2775,  2515,  1012,  1045,  2903,\n",
       "         2009,  2003,  1996,  2775,  2040, 15867,  2000,  2468,  5637,\n",
       "         1999,  1037,  2062,  9677,  2110,  1997,  2568,     3],\n",
       "       dtype=int32),\n",
       " array(512, dtype=int32),\n",
       " array([0, 0, 0, 0, 0, 0, 0, 0, 0, 0, 0, 0, 0, 0, 0, 0, 0, 0, 0, 0, 0, 0,\n",
       "        0, 0, 0, 0, 0, 0, 0, 0, 0, 0, 0, 0, 0, 0, 0, 0, 0, 0, 0, 0, 0, 0,\n",
       "        0, 0, 0, 0, 0, 0, 0, 0, 0, 0, 0, 0, 0, 0, 0, 0, 0, 0, 0, 0, 0, 0,\n",
       "        0, 0, 0, 0, 0, 0, 0, 0, 0, 0, 0, 0, 0, 0, 0, 0, 0, 0, 0, 0, 0, 0,\n",
       "        0, 0, 0, 0, 0, 0, 0, 0, 0, 0, 0, 0, 0, 0, 0, 0, 0, 0, 0, 0, 0, 0,\n",
       "        0, 0, 0, 0, 0, 0, 0, 0, 0, 0, 0, 0, 0, 0, 0, 0, 0, 0, 0, 0, 0, 0,\n",
       "        0, 0, 0, 0, 0, 0, 0, 0, 0, 0, 0, 0, 0, 0, 0, 0, 0, 0, 0, 0, 0, 0,\n",
       "        0, 0, 0, 0, 0, 0, 0, 0, 0, 0, 0, 0, 0, 0, 0, 0, 0, 0, 0, 0, 0, 0,\n",
       "        0, 0, 0, 0, 0, 0, 0, 0, 0, 0, 0, 0, 0, 0, 0, 0, 0, 0, 0, 0, 0, 0,\n",
       "        0, 0, 0, 0, 0, 0, 0, 0, 0, 0, 0, 0, 0, 0, 0, 0, 0, 0, 0, 0, 0, 0,\n",
       "        0, 0, 0, 0, 0, 0, 0, 0, 0, 0, 0, 0, 0, 0, 0, 0, 0, 0, 0, 0, 0, 0,\n",
       "        0, 0, 0, 0, 0, 0, 0, 0, 0, 0, 0, 0, 0, 0, 0, 1, 1, 1, 1, 1, 1, 1,\n",
       "        1, 1, 1, 1, 1, 1, 1, 1, 1, 1, 1, 1, 1, 1, 1, 1, 1, 1, 1, 1, 1, 1,\n",
       "        1, 1, 1, 1, 1, 1, 1, 1, 1, 1, 1, 1, 1, 1, 1, 1, 1, 1, 1, 1, 1, 1,\n",
       "        1, 1, 1, 1, 1, 1, 1, 1, 1, 1, 1, 1, 1, 1, 1, 1, 1, 1, 1, 1, 1, 1,\n",
       "        1, 1, 1, 1, 1, 1, 1, 1, 1, 1, 1, 1, 1, 1, 1, 1, 1, 1, 1, 1, 1, 1,\n",
       "        1, 1, 1, 1, 1, 1, 1, 1, 1, 1, 1, 1, 1, 1, 1, 1, 1, 1, 1, 1, 1, 1,\n",
       "        1, 1, 1, 1, 1, 1, 1, 1, 1, 1, 1, 1, 1, 1, 1, 1, 1, 1, 1, 1, 1, 1,\n",
       "        1, 1, 1, 1, 1, 1, 1, 1, 1, 1, 1, 1, 1, 1, 1, 1, 1, 1, 1, 1, 1, 1,\n",
       "        1, 1, 1, 1, 1, 1, 1, 1, 1, 1, 1, 1, 1, 1, 1, 1, 1, 1, 1, 1, 1, 1,\n",
       "        1, 1, 1, 1, 1, 1, 1, 1, 1, 1, 1, 1, 1, 1, 1, 1, 1, 1, 1, 1, 1, 1,\n",
       "        1, 1, 1, 1, 1, 1, 1, 1, 1, 1, 1, 1, 1, 1, 1, 1, 1, 1, 1, 1, 1, 1,\n",
       "        1, 1, 1, 1, 1, 1, 1, 1, 1, 1, 1, 1, 1, 1, 1, 1, 1, 1, 1, 1, 1, 1,\n",
       "        1, 1, 1, 1, 1, 1], dtype=int32),\n",
       " array([    2,  5574,  2000,  4535,  1012,  4973,  1997,  2129,  2023,\n",
       "         2003,  2025,  2019, 11706,  3114,  2000,  7969,  2242,  2011,\n",
       "         2993,  2024,  2107,  3314,  2004,  8864,  1010,  1998,  9147,\n",
       "         1997,  2308,  1012,  3432,  2138,  2008,  2003,  1996,  2126,\n",
       "         2477,  2020,  1010,  2515,  2025,  2812,  2008,  2003,  1996,\n",
       "         2126,  2518, 11276,  2022,  1012,  1045,  2052,  2036,  2066,\n",
       "         2000,  3160,  2026,  7116,  1005,  1055,  4366,  2008,  1010,\n",
       "         1000,  1045,  2903,  2009,  2003,  1996,  2775,  2040, 15867,\n",
       "         2000,  2468,  5637,  1999,  1037,  2062,  9677,  2110,  1997,\n",
       "         2568,  1012,  1000,  2065,  1037,  2775,  2064,  3432,  1000,\n",
       "         5454,  1000,  2000,  2022,  5637,  1010,  2059,  2027,  2064,\n",
       "         1000,  5454,  1000,  2000,  2025,  2022,  5637,  1012,  2036,\n",
       "         1010,  2065,  2619,  2003,  5214,  1997,  2107,  1037,  3601,\n",
       "         1010,  2059,  2026,  7116,  2052,  2022,  2583,  2000,  3432,\n",
       "         2468,  5637,  2005,  2382,  2781,  1010,  2059,  2468,  3442,\n",
       "         2153,  1010,  2004,  2052,  1045,  1998,  3087,  2842,  3752,\n",
       "         1998,  6830,  2006,  2023,  5981,  1012,  2004,  1997,  2085,\n",
       "         1010,  1045,  2031,  2025,  2179,  1996,  2126,  2000,  5454,\n",
       "         2000,  2022,  5637,  1012,  2130,  2061,  1010,  1045,  2123,\n",
       "         1005,  1056,  2156,  2129, 10549,  2030,  2025, 10549,  2000,\n",
       "         2022,  5637,  2323,  3466,  2065,  5637,  3510,  2003,  3039,\n",
       "         1012,  2065,  1996,  2231,  2003,  2183,  2000,  3073,  3361,\n",
       "         6666,  1006,  2247,  2007,  2060,  6666,  1007,  2000,  2111,\n",
       "         2008,  2024,  2496,  1010,  2059,  2054,  3114,  2515,  1996,\n",
       "         2231,  2031,  2005, 18168, 12474,  2075,  1998,  5860, 20026,\n",
       "        19185,  2114,  1037,  5579,  1997,  2111,  1029,  2057,  2525,\n",
       "         2113,  2008,  1996,  2231, 14600,  5637,  2111,  2004,  1037,\n",
       "         2465,  1010,  4283,  2000, 12265,  1998,  1996,  2510,  1005,\n",
       "         1055,  3611,  2102,  1012,     3,  2053,  4219,  1010,  2074,\n",
       "         2566,  2891, 12032,  3325,  1025,  2074,  2005, 10628,  1012,\n",
       "         1007,  1045,  2787,  2026,  2034,  5981,  2001,  2183,  2000,\n",
       "         2022,  2058,  1996,  3811,  6801,  1000,  5637,  3510,  1000,\n",
       "         1012,  1045,  1010,  2005,  2028,  1010,  6118, 21090,  2007,\n",
       "         5637,  3510,  1998,  2025,  2005,  3412,  5682,  1012,  2004,\n",
       "         1037,  2711,  2040,  2515,  2025,  5463,  2277,  1010,  2030,\n",
       "         2903,  1999,  1037,  3020, 11189,  2373,  1010,  1045,  3432,\n",
       "         2079,  2025,  2903,  2009,  2003,  2157,  1998,  1045,  2113,\n",
       "         2009,  2097,  3480,  2256, 13082,  3012,  1999,  1996,  2925,\n",
       "         2000,  2272,  1012,  2028,  2052,  4366,  2009,  2003, 10303,\n",
       "         2005,  5637,  2111,  2000,  2031,  1996,  2157,  2000,  5914,\n",
       "         2104,  1996,  2231,  1998,  1999,  2070,  3572,  2104,  1996,\n",
       "         6331,  1010,  2021,  2000,  2033,  1010,  1998,  2116,  2060,\n",
       "         2111,  2009,  2003,  1037, 14308,  2000,  1996,  2227,  1997,\n",
       "         1996, 13373,  1998,  2009,  2003,  6517,  2000,  2156,  2256,\n",
       "         2336,  2298,  2012,  5637,  6062,  1998,  2000,  2228,  2009,\n",
       "         2003,  3100,  2005,  2068,  2000,  2031,  1037,  3276,  2007,\n",
       "         2619,  1997,  2037,  2219,  3348,  1012,  1045,  3984,  2026,\n",
       "         2364,  5142,  2003,  2005,  1996,  2092,  2108,  1998,  3151,\n",
       "         5300,  2030,  2256,  2336,  1012,  2292,  1005,  1055,  2227,\n",
       "         2009,  1012,  2053,  6687,  8996,  2037,  2775,  2052,  2272,\n",
       "         2041, 15667,  1012,  1998,  2005,  1996,  2087,  2112,  2053,\n",
       "         2775,  2515,  1012,  1045,  2903,  2009,  2003,  1996,  2775,\n",
       "         2040, 15867,  2000,  2468,  5637,  1999,  1037,  2062,  9677,\n",
       "         2110,  1997,  2568,  1012,  2004,  2005,  1996,  2717,  1997,\n",
       "         2026,  6685,  1010,  1045,  2097,  2292,  2009,  2272,  2000,\n",
       "         2422,  2043,  1045,  4374,  1037,  4119,  1998,  2061,  5743,\n",
       "         1012,  4067,  2017,  2005,  2115,  2051,  1012,     3],\n",
       "       dtype=int32),\n",
       " array(512, dtype=int32),\n",
       " array([0, 0, 0, 0, 0, 0, 0, 0, 0, 0, 0, 0, 0, 0, 0, 0, 0, 0, 0, 0, 0, 0,\n",
       "        0, 0, 0, 0, 0, 0, 0, 0, 0, 0, 0, 0, 0, 0, 0, 0, 0, 0, 0, 0, 0, 0,\n",
       "        0, 0, 0, 0, 0, 0, 0, 0, 0, 0, 0, 0, 0, 0, 0, 0, 0, 0, 0, 0, 0, 0,\n",
       "        0, 0, 0, 0, 0, 0, 0, 0, 0, 0, 0, 0, 0, 0, 0, 0, 0, 0, 0, 0, 0, 0,\n",
       "        0, 0, 0, 0, 0, 0, 0, 0, 0, 0, 0, 0, 0, 0, 0, 0, 0, 0, 0, 0, 0, 0,\n",
       "        0, 0, 0, 0, 0, 0, 0, 0, 0, 0, 0, 0, 0, 0, 0, 0, 0, 0, 0, 0, 0, 0,\n",
       "        0, 0, 0, 0, 0, 0, 0, 0, 0, 0, 0, 0, 0, 0, 0, 0, 0, 0, 0, 0, 0, 0,\n",
       "        0, 0, 0, 0, 0, 0, 0, 0, 0, 0, 0, 0, 0, 0, 0, 0, 0, 0, 0, 0, 0, 0,\n",
       "        0, 0, 0, 0, 0, 0, 0, 0, 0, 0, 0, 0, 0, 0, 0, 0, 0, 0, 0, 0, 0, 0,\n",
       "        0, 0, 0, 0, 0, 0, 0, 0, 0, 0, 0, 0, 0, 0, 0, 0, 0, 0, 0, 0, 0, 0,\n",
       "        0, 0, 0, 0, 0, 0, 0, 0, 0, 0, 0, 0, 0, 0, 0, 0, 0, 0, 0, 0, 0, 0,\n",
       "        0, 0, 0, 0, 0, 0, 0, 0, 0, 0, 0, 0, 0, 0, 0, 1, 1, 1, 1, 1, 1, 1,\n",
       "        1, 1, 1, 1, 1, 1, 1, 1, 1, 1, 1, 1, 1, 1, 1, 1, 1, 1, 1, 1, 1, 1,\n",
       "        1, 1, 1, 1, 1, 1, 1, 1, 1, 1, 1, 1, 1, 1, 1, 1, 1, 1, 1, 1, 1, 1,\n",
       "        1, 1, 1, 1, 1, 1, 1, 1, 1, 1, 1, 1, 1, 1, 1, 1, 1, 1, 1, 1, 1, 1,\n",
       "        1, 1, 1, 1, 1, 1, 1, 1, 1, 1, 1, 1, 1, 1, 1, 1, 1, 1, 1, 1, 1, 1,\n",
       "        1, 1, 1, 1, 1, 1, 1, 1, 1, 1, 1, 1, 1, 1, 1, 1, 1, 1, 1, 1, 1, 1,\n",
       "        1, 1, 1, 1, 1, 1, 1, 1, 1, 1, 1, 1, 1, 1, 1, 1, 1, 1, 1, 1, 1, 1,\n",
       "        1, 1, 1, 1, 1, 1, 1, 1, 1, 1, 1, 1, 1, 1, 1, 1, 1, 1, 1, 1, 1, 1,\n",
       "        1, 1, 1, 1, 1, 1, 1, 1, 1, 1, 1, 1, 1, 1, 1, 1, 1, 1, 1, 1, 1, 1,\n",
       "        1, 1, 1, 1, 1, 1, 1, 1, 1, 1, 1, 1, 1, 1, 1, 1, 1, 1, 1, 1, 1, 1,\n",
       "        1, 1, 1, 1, 1, 1, 1, 1, 1, 1, 1, 1, 1, 1, 1, 1, 1, 1, 1, 1, 1, 1,\n",
       "        1, 1, 1, 1, 1, 1, 1, 1, 1, 1, 1, 1, 1, 1, 1, 1, 1, 1, 1, 1, 1, 1,\n",
       "        1, 1, 1, 1, 1, 1], dtype=int32),\n",
       " None)"
      ]
     },
     "execution_count": 114,
     "metadata": {},
     "output_type": "execute_result"
    }
   ],
   "source": [
    "# data_pred[0]"
   ]
  },
  {
   "cell_type": "code",
   "execution_count": 140,
   "metadata": {
    "ExecuteTime": {
     "end_time": "2019-07-20T09:07:05.330919Z",
     "start_time": "2019-07-20T08:57:20.218854Z"
    },
    "code_folding": []
   },
   "outputs": [
    {
     "data": {
      "application/vnd.jupyter.widget-view+json": {
       "model_id": "8fb551ff4f884975bc92113b2e9cf80b",
       "version_major": 2,
       "version_minor": 0
      },
      "text/plain": [
       "HBox(children=(IntProgress(value=0, max=6163), HTML(value='')))"
      ]
     },
     "metadata": {},
     "output_type": "display_data"
    },
    {
     "name": "stdout",
     "output_type": "stream",
     "text": [
      "Time for [prediction]: 0:09:45.098011\n"
     ]
    }
   ],
   "source": [
    "# label_map=all_labels\n",
    "predictions = predict_unknown(model, data_pred, ctx, label_map=None, batch_size=1)"
   ]
  },
  {
   "cell_type": "code",
   "execution_count": 141,
   "metadata": {
    "ExecuteTime": {
     "end_time": "2019-07-20T09:07:13.263118Z",
     "start_time": "2019-07-20T09:07:13.260768Z"
    }
   },
   "outputs": [],
   "source": [
    "assert len(data_pred) == len(predictions) == len(X_pred)"
   ]
  },
  {
   "cell_type": "code",
   "execution_count": 142,
   "metadata": {
    "ExecuteTime": {
     "end_time": "2019-07-20T09:07:26.270697Z",
     "start_time": "2019-07-20T09:07:22.942263Z"
    }
   },
   "outputs": [
    {
     "data": {
      "application/vnd.jupyter.widget-view+json": {
       "model_id": "0c1167c43a2c4ec6bb98341d48c852ec",
       "version_major": 2,
       "version_minor": 0
      },
      "text/plain": [
       "HBox(children=(IntProgress(value=0, max=6163), HTML(value='')))"
      ]
     },
     "metadata": {},
     "output_type": "display_data"
    },
    {
     "name": "stdout",
     "output_type": "stream",
     "text": [
      "<class 'pandas.core.frame.DataFrame'>\n",
      "Int64Index: 6163 entries, 0 to 34329\n",
      "Data columns (total 5 columns):\n",
      "argument1     6163 non-null object\n",
      "argument2     6163 non-null object\n",
      "topic         6163 non-null object\n",
      "prediction    6163 non-null bool\n",
      "tag           6163 non-null object\n",
      "dtypes: bool(1), object(4)\n",
      "memory usage: 246.8+ KB\n"
     ]
    }
   ],
   "source": [
    "# convert predictions to dataframe\n",
    "# bool works because we mapped 0 to False, 1 to True, is default conversion\n",
    "test_pred_df = pd.DataFrame(data=predictions, columns=[\"prediction\"], dtype=\"bool\")\n",
    "\n",
    "# merge all dataframes\n",
    "# test_df = X_pred.join(y_pred)\n",
    "test_df = X_pred.reset_index()\n",
    "test_df = pd.merge(test_df, test_pred_df, left_index=True, right_index=True, how='inner')\n",
    "test_df.set_index('id', inplace=True)\n",
    "\n",
    "# re-apply tag value\n",
    "test_df = test_df.progress_apply(add_tag, axis=1)\n",
    "# info\n",
    "test_df.info()"
   ]
  },
  {
   "cell_type": "code",
   "execution_count": 143,
   "metadata": {
    "ExecuteTime": {
     "end_time": "2019-07-20T09:07:35.753158Z",
     "start_time": "2019-07-20T09:07:35.736434Z"
    }
   },
   "outputs": [],
   "source": [
    "import pickle\n",
    "\n",
    "# ser_fn = \"data/within_traindev_proepi512_BCE/within_test_pred_df.pickle\"\n",
    "# ser_fn = \"data/within_traindev_proepi512_BCE_0.1/within_test_pred_df.pickle\"\n",
    "ser_fn = \"data/within_traindev_proepi512_BCE_0.1/cross_with_within_model_test_pred_df.pickle\"\n",
    "\n",
    "with open(ser_fn, \"wb\") as f:\n",
    "    pickle.dump(test_df, f, protocol=pickle.HIGHEST_PROTOCOL)"
   ]
  },
  {
   "cell_type": "code",
   "execution_count": 144,
   "metadata": {
    "ExecuteTime": {
     "end_time": "2019-07-20T09:07:44.987097Z",
     "start_time": "2019-07-20T09:07:44.983646Z"
    },
    "collapsed": true
   },
   "outputs": [
    {
     "data": {
      "text/plain": [
       "Pandas(Index=0, argument1='i would like to start off by thanking my opponent for his first debate, and hope that he has many more to come. claiming that something should be maintain simply because it is tradition is a common falacy, known as appeal to tradition. examples of how this is not an adequate reason to preserve something by itself are such issues as slavery, and discrimination of women. simply because that is the way things were, does not mean that is the way thing ought be. i would also like to question my opponent\\'s claim that, \"i believe it is the child who chooses to become gay in a more mature state of mind.\" if a child can simply \"choose\" to be gay, then they can \"choose\" to not be gay. also, if someone is capable of such a choice, then my opponent would be able to simply become gay for 30 minutes, then become straight again, as would i and anyone else reading and voting on this debate. as of now, i have not found the way to choose to be gay. even so, i don\\'t see how choosing or not choosing to be gay should effect if gay marriage is allowed. if the government is going to provide financial benefits (along with other benefits) to people that are married, then what reason does the government have for omitting and discriminating against a classification of people? we already know that the government recognizes gay people as a class, thanks to surveys and the military\\'s dadt.', argument2='i was hoping that since this member took the time to use their own avatar, rather then one of the defaults, that they would be one to stay for a while, but i guess not. anyway, pass onto voting.', topic='gay marriage is wrong', prediction=True, tag='gay marriage')"
      ]
     },
     "execution_count": 144,
     "metadata": {},
     "output_type": "execute_result"
    }
   ],
   "source": [
    "next(test_df.itertuples())"
   ]
  },
  {
   "cell_type": "code",
   "execution_count": 145,
   "metadata": {
    "ExecuteTime": {
     "end_time": "2019-07-20T09:07:54.625327Z",
     "start_time": "2019-07-20T09:07:54.334804Z"
    }
   },
   "outputs": [],
   "source": [
    "# res_fn = \"data/within_traindev_proepi512_BCE/within_results.csv\"\n",
    "# res_fn = \"data/within_traindev_proepi512_BCE_0.1/within_results.csv\"\n",
    "res_fn = \"data/within_traindev_proepi512_BCE_0.1/cross_with_within_model_results.csv\"\n",
    "\n",
    "with open(res_fn, \"w\") as of:\n",
    "    of.write('\"id\",\"label\"\\n')\n",
    "    for row_id, row in test_df.iterrows():\n",
    "        of.write('{},\"{}\"\\n'.format(row_id, str(row['prediction'])))"
   ]
  },
  {
   "cell_type": "markdown",
   "metadata": {},
   "source": [
    "**NOTE**: do this for within and cross !!!"
   ]
  },
  {
   "cell_type": "code",
   "execution_count": 150,
   "metadata": {
    "ExecuteTime": {
     "end_time": "2019-07-20T09:11:01.459613Z",
     "start_time": "2019-07-20T09:11:01.437349Z"
    },
    "collapsed": true
   },
   "outputs": [
    {
     "name": "stdout",
     "output_type": "stream",
     "text": [
      "<class 'pandas.core.frame.DataFrame'>\n",
      "Int64Index: 6163 entries, 0 to 34329\n",
      "Data columns (total 1 columns):\n",
      "label    6163 non-null bool\n",
      "dtypes: bool(1)\n",
      "memory usage: 54.2 KB\n"
     ]
    },
    {
     "data": {
      "text/plain": [
       "label    False\n",
       "Name: 16, dtype: bool"
      ]
     },
     "execution_count": 150,
     "metadata": {},
     "output_type": "execute_result"
    }
   ],
   "source": [
    "# test read\n",
    "temp_test_df = pd.read_csv(\"data/within_traindev_proepi512_BCE_0.1/cross_with_within_model_results.csv\", index_col='id')\n",
    "temp_test_df.info()\n",
    "temp_test_df.iloc[10]"
   ]
  },
  {
   "cell_type": "code",
   "execution_count": null,
   "metadata": {},
   "outputs": [],
   "source": []
  }
 ],
 "metadata": {
  "celltoolbar": "Initialization Cell",
  "kernelspec": {
   "display_name": "Python 3",
   "language": "python",
   "name": "python3"
  },
  "varInspector": {
   "cols": {
    "lenName": 16,
    "lenType": 16,
    "lenVar": 40
   },
   "kernels_config": {
    "python": {
     "delete_cmd_postfix": "",
     "delete_cmd_prefix": "del ",
     "library": "var_list.py",
     "varRefreshCmd": "print(var_dic_list())"
    },
    "r": {
     "delete_cmd_postfix": ") ",
     "delete_cmd_prefix": "rm(",
     "library": "var_list.r",
     "varRefreshCmd": "cat(var_dic_list()) "
    }
   },
   "types_to_exclude": [
    "module",
    "function",
    "builtin_function_or_method",
    "instance",
    "_Feature"
   ],
   "window_display": false
  }
 },
 "nbformat": 4,
 "nbformat_minor": 2
}
