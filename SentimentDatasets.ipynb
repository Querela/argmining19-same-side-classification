{
 "cells": [
  {
   "cell_type": "markdown",
   "metadata": {},
   "source": [
    "# Datasets (Sentiment)"
   ]
  },
  {
   "cell_type": "markdown",
   "metadata": {},
   "source": [
    "## IMDB\n",
    "\n",
    "- http://ai.stanford.edu/~amaas/data/sentiment/\n",
    "\n",
    "&rarr; **BAD** - only single pos + neg review for each film\n",
    "\n",
    "- https://www.imdb.com/interfaces/\n",
    "\n",
    "&rarr; no review text!"
   ]
  },
  {
   "cell_type": "code",
   "execution_count": null,
   "metadata": {},
   "outputs": [],
   "source": []
  },
  {
   "cell_type": "markdown",
   "metadata": {},
   "source": [
    "## Yelp\n",
    "\n",
    "- https://www.yelp.com/dataset/documentation/main"
   ]
  },
  {
   "cell_type": "code",
   "execution_count": null,
   "metadata": {},
   "outputs": [],
   "source": [
    "! pip install jsonlines"
   ]
  },
  {
   "cell_type": "code",
   "execution_count": 24,
   "metadata": {
    "ExecuteTime": {
     "end_time": "2020-03-16T10:03:31.187330Z",
     "start_time": "2020-03-16T10:03:31.068356Z"
    }
   },
   "outputs": [
    {
     "data": {
      "text/plain": [
       "[]"
      ]
     },
     "execution_count": 24,
     "metadata": {},
     "output_type": "execute_result"
    },
    {
     "data": {
      "image/svg+xml": [
       "<?xml version=\"1.0\" encoding=\"utf-8\" standalone=\"no\"?>\n",
       "<!DOCTYPE svg PUBLIC \"-//W3C//DTD SVG 1.1//EN\"\n",
       "  \"http://www.w3.org/Graphics/SVG/1.1/DTD/svg11.dtd\">\n",
       "<!-- Created with matplotlib (https://matplotlib.org/) -->\n",
       "<svg height=\"260.308906pt\" version=\"1.1\" viewBox=\"0 0 390.928203 260.308906\" width=\"390.928203pt\" xmlns=\"http://www.w3.org/2000/svg\" xmlns:xlink=\"http://www.w3.org/1999/xlink\">\n",
       " <defs>\n",
       "  <style type=\"text/css\">\n",
       "*{stroke-linecap:butt;stroke-linejoin:round;white-space:pre;}\n",
       "  </style>\n",
       " </defs>\n",
       " <g id=\"figure_1\">\n",
       "  <g id=\"patch_1\">\n",
       "   <path d=\"M 0 260.308906 \n",
       "L 390.928203 260.308906 \n",
       "L 390.928203 0 \n",
       "L 0 0 \n",
       "z\n",
       "\" style=\"fill:none;\"/>\n",
       "  </g>\n",
       "  <g id=\"axes_1\">\n",
       "   <g id=\"patch_2\">\n",
       "    <path d=\"M 48.928203 224.64 \n",
       "L 383.728203 224.64 \n",
       "L 383.728203 7.2 \n",
       "L 48.928203 7.2 \n",
       "z\n",
       "\" style=\"fill:#ffffff;\"/>\n",
       "   </g>\n",
       "   <g id=\"matplotlib.axis_1\">\n",
       "    <g id=\"xtick_1\">\n",
       "     <g id=\"line2d_1\">\n",
       "      <defs>\n",
       "       <path d=\"M 0 0 \n",
       "L 0 9 \n",
       "\" id=\"m25c232ee73\" style=\"stroke:#000000;stroke-width:1.875;\"/>\n",
       "      </defs>\n",
       "      <g>\n",
       "       <use style=\"stroke:#000000;stroke-width:1.875;\" x=\"64.146385\" xlink:href=\"#m25c232ee73\" y=\"224.64\"/>\n",
       "      </g>\n",
       "     </g>\n",
       "     <g id=\"text_1\">\n",
       "      <!-- 0.0 -->\n",
       "      <defs>\n",
       "       <path d=\"M 46 36.53125 \n",
       "Q 46 50.203125 43.4375 55.78125 \n",
       "Q 40.875 61.375 34.8125 61.375 \n",
       "Q 28.765625 61.375 26.171875 55.78125 \n",
       "Q 23.578125 50.203125 23.578125 36.53125 \n",
       "Q 23.578125 22.703125 26.171875 17.03125 \n",
       "Q 28.765625 11.375 34.8125 11.375 \n",
       "Q 40.828125 11.375 43.40625 17.03125 \n",
       "Q 46 22.703125 46 36.53125 \n",
       "z\n",
       "M 64.796875 36.375 \n",
       "Q 64.796875 18.265625 56.984375 8.421875 \n",
       "Q 49.171875 -1.421875 34.8125 -1.421875 \n",
       "Q 20.40625 -1.421875 12.59375 8.421875 \n",
       "Q 4.78125 18.265625 4.78125 36.375 \n",
       "Q 4.78125 54.546875 12.59375 64.375 \n",
       "Q 20.40625 74.21875 34.8125 74.21875 \n",
       "Q 49.171875 74.21875 56.984375 64.375 \n",
       "Q 64.796875 54.546875 64.796875 36.375 \n",
       "z\n",
       "\" id=\"DejaVuSans-Bold-48\"/>\n",
       "       <path d=\"M 10.203125 18.890625 \n",
       "L 27.78125 18.890625 \n",
       "L 27.78125 0 \n",
       "L 10.203125 0 \n",
       "z\n",
       "\" id=\"DejaVuSans-Bold-46\"/>\n",
       "      </defs>\n",
       "      <g transform=\"translate(49.532283 249.677422)scale(0.165 -0.165)\">\n",
       "       <use xlink:href=\"#DejaVuSans-Bold-48\"/>\n",
       "       <use x=\"69.580078\" xlink:href=\"#DejaVuSans-Bold-46\"/>\n",
       "       <use x=\"107.568359\" xlink:href=\"#DejaVuSans-Bold-48\"/>\n",
       "      </g>\n",
       "     </g>\n",
       "    </g>\n",
       "    <g id=\"xtick_2\">\n",
       "     <g id=\"line2d_2\">\n",
       "      <g>\n",
       "       <use style=\"stroke:#000000;stroke-width:1.875;\" x=\"125.019112\" xlink:href=\"#m25c232ee73\" y=\"224.64\"/>\n",
       "      </g>\n",
       "     </g>\n",
       "     <g id=\"text_2\">\n",
       "      <!-- 0.2 -->\n",
       "      <defs>\n",
       "       <path d=\"M 28.8125 13.8125 \n",
       "L 60.890625 13.8125 \n",
       "L 60.890625 0 \n",
       "L 7.90625 0 \n",
       "L 7.90625 13.8125 \n",
       "L 34.515625 37.3125 \n",
       "Q 38.09375 40.53125 39.796875 43.609375 \n",
       "Q 41.5 46.6875 41.5 50 \n",
       "Q 41.5 55.125 38.0625 58.25 \n",
       "Q 34.625 61.375 28.90625 61.375 \n",
       "Q 24.515625 61.375 19.28125 59.5 \n",
       "Q 14.0625 57.625 8.109375 53.90625 \n",
       "L 8.109375 69.921875 \n",
       "Q 14.453125 72.015625 20.65625 73.109375 \n",
       "Q 26.859375 74.21875 32.8125 74.21875 \n",
       "Q 45.90625 74.21875 53.15625 68.453125 \n",
       "Q 60.40625 62.703125 60.40625 52.390625 \n",
       "Q 60.40625 46.4375 57.328125 41.28125 \n",
       "Q 54.25 36.140625 44.390625 27.484375 \n",
       "z\n",
       "\" id=\"DejaVuSans-Bold-50\"/>\n",
       "      </defs>\n",
       "      <g transform=\"translate(110.405011 249.677422)scale(0.165 -0.165)\">\n",
       "       <use xlink:href=\"#DejaVuSans-Bold-48\"/>\n",
       "       <use x=\"69.580078\" xlink:href=\"#DejaVuSans-Bold-46\"/>\n",
       "       <use x=\"107.568359\" xlink:href=\"#DejaVuSans-Bold-50\"/>\n",
       "      </g>\n",
       "     </g>\n",
       "    </g>\n",
       "    <g id=\"xtick_3\">\n",
       "     <g id=\"line2d_3\">\n",
       "      <g>\n",
       "       <use style=\"stroke:#000000;stroke-width:1.875;\" x=\"185.891839\" xlink:href=\"#m25c232ee73\" y=\"224.64\"/>\n",
       "      </g>\n",
       "     </g>\n",
       "     <g id=\"text_3\">\n",
       "      <!-- 0.4 -->\n",
       "      <defs>\n",
       "       <path d=\"M 36.8125 57.421875 \n",
       "L 16.21875 26.90625 \n",
       "L 36.8125 26.90625 \n",
       "z\n",
       "M 33.6875 72.90625 \n",
       "L 54.59375 72.90625 \n",
       "L 54.59375 26.90625 \n",
       "L 64.984375 26.90625 \n",
       "L 64.984375 13.28125 \n",
       "L 54.59375 13.28125 \n",
       "L 54.59375 0 \n",
       "L 36.8125 0 \n",
       "L 36.8125 13.28125 \n",
       "L 4.5 13.28125 \n",
       "L 4.5 29.390625 \n",
       "z\n",
       "\" id=\"DejaVuSans-Bold-52\"/>\n",
       "      </defs>\n",
       "      <g transform=\"translate(171.277738 249.677422)scale(0.165 -0.165)\">\n",
       "       <use xlink:href=\"#DejaVuSans-Bold-48\"/>\n",
       "       <use x=\"69.580078\" xlink:href=\"#DejaVuSans-Bold-46\"/>\n",
       "       <use x=\"107.568359\" xlink:href=\"#DejaVuSans-Bold-52\"/>\n",
       "      </g>\n",
       "     </g>\n",
       "    </g>\n",
       "    <g id=\"xtick_4\">\n",
       "     <g id=\"line2d_4\">\n",
       "      <g>\n",
       "       <use style=\"stroke:#000000;stroke-width:1.875;\" x=\"246.764567\" xlink:href=\"#m25c232ee73\" y=\"224.64\"/>\n",
       "      </g>\n",
       "     </g>\n",
       "     <g id=\"text_4\">\n",
       "      <!-- 0.6 -->\n",
       "      <defs>\n",
       "       <path d=\"M 36.1875 35.984375 \n",
       "Q 31.25 35.984375 28.78125 32.78125 \n",
       "Q 26.3125 29.59375 26.3125 23.1875 \n",
       "Q 26.3125 16.796875 28.78125 13.59375 \n",
       "Q 31.25 10.40625 36.1875 10.40625 \n",
       "Q 41.15625 10.40625 43.625 13.59375 \n",
       "Q 46.09375 16.796875 46.09375 23.1875 \n",
       "Q 46.09375 29.59375 43.625 32.78125 \n",
       "Q 41.15625 35.984375 36.1875 35.984375 \n",
       "z\n",
       "M 59.421875 71 \n",
       "L 59.421875 57.515625 \n",
       "Q 54.78125 59.71875 50.671875 60.765625 \n",
       "Q 46.578125 61.8125 42.671875 61.8125 \n",
       "Q 34.28125 61.8125 29.59375 57.140625 \n",
       "Q 24.90625 52.484375 24.125 43.3125 \n",
       "Q 27.34375 45.703125 31.09375 46.890625 \n",
       "Q 34.859375 48.09375 39.3125 48.09375 \n",
       "Q 50.484375 48.09375 57.34375 41.546875 \n",
       "Q 64.203125 35.015625 64.203125 24.421875 \n",
       "Q 64.203125 12.703125 56.53125 5.640625 \n",
       "Q 48.875 -1.421875 35.984375 -1.421875 \n",
       "Q 21.78125 -1.421875 13.984375 8.171875 \n",
       "Q 6.203125 17.78125 6.203125 35.40625 \n",
       "Q 6.203125 53.46875 15.3125 63.796875 \n",
       "Q 24.421875 74.125 40.28125 74.125 \n",
       "Q 45.3125 74.125 50.046875 73.34375 \n",
       "Q 54.78125 72.5625 59.421875 71 \n",
       "z\n",
       "\" id=\"DejaVuSans-Bold-54\"/>\n",
       "      </defs>\n",
       "      <g transform=\"translate(232.150465 249.677422)scale(0.165 -0.165)\">\n",
       "       <use xlink:href=\"#DejaVuSans-Bold-48\"/>\n",
       "       <use x=\"69.580078\" xlink:href=\"#DejaVuSans-Bold-46\"/>\n",
       "       <use x=\"107.568359\" xlink:href=\"#DejaVuSans-Bold-54\"/>\n",
       "      </g>\n",
       "     </g>\n",
       "    </g>\n",
       "    <g id=\"xtick_5\">\n",
       "     <g id=\"line2d_5\">\n",
       "      <g>\n",
       "       <use style=\"stroke:#000000;stroke-width:1.875;\" x=\"307.637294\" xlink:href=\"#m25c232ee73\" y=\"224.64\"/>\n",
       "      </g>\n",
       "     </g>\n",
       "     <g id=\"text_5\">\n",
       "      <!-- 0.8 -->\n",
       "      <defs>\n",
       "       <path d=\"M 34.8125 32.625 \n",
       "Q 29.546875 32.625 26.703125 29.734375 \n",
       "Q 23.875 26.859375 23.875 21.484375 \n",
       "Q 23.875 16.109375 26.703125 13.25 \n",
       "Q 29.546875 10.40625 34.8125 10.40625 \n",
       "Q 40.046875 10.40625 42.828125 13.25 \n",
       "Q 45.609375 16.109375 45.609375 21.484375 \n",
       "Q 45.609375 26.90625 42.828125 29.765625 \n",
       "Q 40.046875 32.625 34.8125 32.625 \n",
       "z\n",
       "M 21.09375 38.8125 \n",
       "Q 14.453125 40.828125 11.078125 44.96875 \n",
       "Q 7.71875 49.125 7.71875 55.328125 \n",
       "Q 7.71875 64.546875 14.59375 69.375 \n",
       "Q 21.484375 74.21875 34.8125 74.21875 \n",
       "Q 48.046875 74.21875 54.921875 69.40625 \n",
       "Q 61.8125 64.59375 61.8125 55.328125 \n",
       "Q 61.8125 49.125 58.421875 44.96875 \n",
       "Q 55.03125 40.828125 48.390625 38.8125 \n",
       "Q 55.8125 36.765625 59.59375 32.15625 \n",
       "Q 63.375 27.546875 63.375 20.515625 \n",
       "Q 63.375 9.671875 56.171875 4.125 \n",
       "Q 48.96875 -1.421875 34.8125 -1.421875 \n",
       "Q 20.609375 -1.421875 13.359375 4.125 \n",
       "Q 6.109375 9.671875 6.109375 20.515625 \n",
       "Q 6.109375 27.546875 9.890625 32.15625 \n",
       "Q 13.671875 36.765625 21.09375 38.8125 \n",
       "z\n",
       "M 25.484375 53.421875 \n",
       "Q 25.484375 49.078125 27.90625 46.734375 \n",
       "Q 30.328125 44.390625 34.8125 44.390625 \n",
       "Q 39.203125 44.390625 41.59375 46.734375 \n",
       "Q 44 49.078125 44 53.421875 \n",
       "Q 44 57.765625 41.59375 60.078125 \n",
       "Q 39.203125 62.40625 34.8125 62.40625 \n",
       "Q 30.328125 62.40625 27.90625 60.0625 \n",
       "Q 25.484375 57.71875 25.484375 53.421875 \n",
       "z\n",
       "\" id=\"DejaVuSans-Bold-56\"/>\n",
       "      </defs>\n",
       "      <g transform=\"translate(293.023192 249.677422)scale(0.165 -0.165)\">\n",
       "       <use xlink:href=\"#DejaVuSans-Bold-48\"/>\n",
       "       <use x=\"69.580078\" xlink:href=\"#DejaVuSans-Bold-46\"/>\n",
       "       <use x=\"107.568359\" xlink:href=\"#DejaVuSans-Bold-56\"/>\n",
       "      </g>\n",
       "     </g>\n",
       "    </g>\n",
       "    <g id=\"xtick_6\">\n",
       "     <g id=\"line2d_6\">\n",
       "      <g>\n",
       "       <use style=\"stroke:#000000;stroke-width:1.875;\" x=\"368.510021\" xlink:href=\"#m25c232ee73\" y=\"224.64\"/>\n",
       "      </g>\n",
       "     </g>\n",
       "     <g id=\"text_6\">\n",
       "      <!-- 1.0 -->\n",
       "      <defs>\n",
       "       <path d=\"M 11.71875 12.984375 \n",
       "L 28.328125 12.984375 \n",
       "L 28.328125 60.109375 \n",
       "L 11.28125 56.59375 \n",
       "L 11.28125 69.390625 \n",
       "L 28.21875 72.90625 \n",
       "L 46.09375 72.90625 \n",
       "L 46.09375 12.984375 \n",
       "L 62.703125 12.984375 \n",
       "L 62.703125 0 \n",
       "L 11.71875 0 \n",
       "z\n",
       "\" id=\"DejaVuSans-Bold-49\"/>\n",
       "      </defs>\n",
       "      <g transform=\"translate(353.89592 249.677422)scale(0.165 -0.165)\">\n",
       "       <use xlink:href=\"#DejaVuSans-Bold-49\"/>\n",
       "       <use x=\"69.580078\" xlink:href=\"#DejaVuSans-Bold-46\"/>\n",
       "       <use x=\"107.568359\" xlink:href=\"#DejaVuSans-Bold-48\"/>\n",
       "      </g>\n",
       "     </g>\n",
       "    </g>\n",
       "   </g>\n",
       "   <g id=\"matplotlib.axis_2\">\n",
       "    <g id=\"ytick_1\">\n",
       "     <g id=\"line2d_7\">\n",
       "      <defs>\n",
       "       <path d=\"M 0 0 \n",
       "L -9 0 \n",
       "\" id=\"m5638c03be5\" style=\"stroke:#000000;stroke-width:1.875;\"/>\n",
       "      </defs>\n",
       "      <g>\n",
       "       <use style=\"stroke:#000000;stroke-width:1.875;\" x=\"48.928203\" xlink:href=\"#m5638c03be5\" y=\"214.756364\"/>\n",
       "      </g>\n",
       "     </g>\n",
       "     <g id=\"text_7\">\n",
       "      <!-- 0.0 -->\n",
       "      <g transform=\"translate(7.2 221.025075)scale(0.165 -0.165)\">\n",
       "       <use xlink:href=\"#DejaVuSans-Bold-48\"/>\n",
       "       <use x=\"69.580078\" xlink:href=\"#DejaVuSans-Bold-46\"/>\n",
       "       <use x=\"107.568359\" xlink:href=\"#DejaVuSans-Bold-48\"/>\n",
       "      </g>\n",
       "     </g>\n",
       "    </g>\n",
       "    <g id=\"ytick_2\">\n",
       "     <g id=\"line2d_8\">\n",
       "      <g>\n",
       "       <use style=\"stroke:#000000;stroke-width:1.875;\" x=\"48.928203\" xlink:href=\"#m5638c03be5\" y=\"175.221818\"/>\n",
       "      </g>\n",
       "     </g>\n",
       "     <g id=\"text_8\">\n",
       "      <!-- 0.2 -->\n",
       "      <g transform=\"translate(7.2 181.490529)scale(0.165 -0.165)\">\n",
       "       <use xlink:href=\"#DejaVuSans-Bold-48\"/>\n",
       "       <use x=\"69.580078\" xlink:href=\"#DejaVuSans-Bold-46\"/>\n",
       "       <use x=\"107.568359\" xlink:href=\"#DejaVuSans-Bold-50\"/>\n",
       "      </g>\n",
       "     </g>\n",
       "    </g>\n",
       "    <g id=\"ytick_3\">\n",
       "     <g id=\"line2d_9\">\n",
       "      <g>\n",
       "       <use style=\"stroke:#000000;stroke-width:1.875;\" x=\"48.928203\" xlink:href=\"#m5638c03be5\" y=\"135.687273\"/>\n",
       "      </g>\n",
       "     </g>\n",
       "     <g id=\"text_9\">\n",
       "      <!-- 0.4 -->\n",
       "      <g transform=\"translate(7.2 141.955984)scale(0.165 -0.165)\">\n",
       "       <use xlink:href=\"#DejaVuSans-Bold-48\"/>\n",
       "       <use x=\"69.580078\" xlink:href=\"#DejaVuSans-Bold-46\"/>\n",
       "       <use x=\"107.568359\" xlink:href=\"#DejaVuSans-Bold-52\"/>\n",
       "      </g>\n",
       "     </g>\n",
       "    </g>\n",
       "    <g id=\"ytick_4\">\n",
       "     <g id=\"line2d_10\">\n",
       "      <g>\n",
       "       <use style=\"stroke:#000000;stroke-width:1.875;\" x=\"48.928203\" xlink:href=\"#m5638c03be5\" y=\"96.152727\"/>\n",
       "      </g>\n",
       "     </g>\n",
       "     <g id=\"text_10\">\n",
       "      <!-- 0.6 -->\n",
       "      <g transform=\"translate(7.2 102.421438)scale(0.165 -0.165)\">\n",
       "       <use xlink:href=\"#DejaVuSans-Bold-48\"/>\n",
       "       <use x=\"69.580078\" xlink:href=\"#DejaVuSans-Bold-46\"/>\n",
       "       <use x=\"107.568359\" xlink:href=\"#DejaVuSans-Bold-54\"/>\n",
       "      </g>\n",
       "     </g>\n",
       "    </g>\n",
       "    <g id=\"ytick_5\">\n",
       "     <g id=\"line2d_11\">\n",
       "      <g>\n",
       "       <use style=\"stroke:#000000;stroke-width:1.875;\" x=\"48.928203\" xlink:href=\"#m5638c03be5\" y=\"56.618182\"/>\n",
       "      </g>\n",
       "     </g>\n",
       "     <g id=\"text_11\">\n",
       "      <!-- 0.8 -->\n",
       "      <g transform=\"translate(7.2 62.886893)scale(0.165 -0.165)\">\n",
       "       <use xlink:href=\"#DejaVuSans-Bold-48\"/>\n",
       "       <use x=\"69.580078\" xlink:href=\"#DejaVuSans-Bold-46\"/>\n",
       "       <use x=\"107.568359\" xlink:href=\"#DejaVuSans-Bold-56\"/>\n",
       "      </g>\n",
       "     </g>\n",
       "    </g>\n",
       "    <g id=\"ytick_6\">\n",
       "     <g id=\"line2d_12\">\n",
       "      <g>\n",
       "       <use style=\"stroke:#000000;stroke-width:1.875;\" x=\"48.928203\" xlink:href=\"#m5638c03be5\" y=\"17.083636\"/>\n",
       "      </g>\n",
       "     </g>\n",
       "     <g id=\"text_12\">\n",
       "      <!-- 1.0 -->\n",
       "      <g transform=\"translate(7.2 23.352347)scale(0.165 -0.165)\">\n",
       "       <use xlink:href=\"#DejaVuSans-Bold-49\"/>\n",
       "       <use x=\"69.580078\" xlink:href=\"#DejaVuSans-Bold-46\"/>\n",
       "       <use x=\"107.568359\" xlink:href=\"#DejaVuSans-Bold-48\"/>\n",
       "      </g>\n",
       "     </g>\n",
       "    </g>\n",
       "   </g>\n",
       "   <g id=\"patch_3\">\n",
       "    <path d=\"M 48.928203 224.64 \n",
       "L 48.928203 7.2 \n",
       "\" style=\"fill:none;stroke:#000000;stroke-linecap:square;stroke-linejoin:miter;stroke-width:1.875;\"/>\n",
       "   </g>\n",
       "   <g id=\"patch_4\">\n",
       "    <path d=\"M 383.728203 224.64 \n",
       "L 383.728203 7.2 \n",
       "\" style=\"fill:none;stroke:#000000;stroke-linecap:square;stroke-linejoin:miter;stroke-width:1.875;\"/>\n",
       "   </g>\n",
       "   <g id=\"patch_5\">\n",
       "    <path d=\"M 48.928203 224.64 \n",
       "L 383.728203 224.64 \n",
       "\" style=\"fill:none;stroke:#000000;stroke-linecap:square;stroke-linejoin:miter;stroke-width:1.875;\"/>\n",
       "   </g>\n",
       "   <g id=\"patch_6\">\n",
       "    <path d=\"M 48.928203 7.2 \n",
       "L 383.728203 7.2 \n",
       "\" style=\"fill:none;stroke:#000000;stroke-linecap:square;stroke-linejoin:miter;stroke-width:1.875;\"/>\n",
       "   </g>\n",
       "  </g>\n",
       " </g>\n",
       "</svg>\n"
      ],
      "text/plain": [
       "<Figure size 432x288 with 1 Axes>"
      ]
     },
     "metadata": {
      "needs_background": "light"
     },
     "output_type": "display_data"
    }
   ],
   "source": [
    "import os\n",
    "import random\n",
    "import pickle\n",
    "from pathlib import Path\n",
    "\n",
    "import jsonlines\n",
    "import matplotlib.pyplot as plt\n",
    "import numpy as np\n",
    "import pandas as pd\n",
    "from IPython.display import set_matplotlib_formats\n",
    "from tqdm import tqdm\n",
    "\n",
    "random.seed(42)\n",
    "np.random.seed(42)\n",
    "\n",
    "tqdm.pandas()\n",
    "\n",
    "%matplotlib inline\n",
    "plt.rcParams.update({\"font.size\": 25, \"font.weight\": \"bold\"})\n",
    "# https://stackoverflow.com/questions/36622237/jupyter-notebook-inline-plots-as-svg\n",
    "# set_matplotlib_formats(\"svg\")  # glitches it\n",
    "plt.plot()"
   ]
  },
  {
   "cell_type": "code",
   "execution_count": 2,
   "metadata": {
    "ExecuteTime": {
     "end_time": "2020-03-15T22:58:37.054335Z",
     "start_time": "2020-03-15T22:58:37.050921Z"
    }
   },
   "outputs": [],
   "source": [
    "# from utils_data import init_random\n",
    "# init_random()"
   ]
  },
  {
   "cell_type": "code",
   "execution_count": 2,
   "metadata": {
    "ExecuteTime": {
     "end_time": "2020-03-15T23:40:58.742621Z",
     "start_time": "2020-03-15T23:40:58.739431Z"
    }
   },
   "outputs": [],
   "source": [
    "# download + scp to cuda + extract\n",
    "data_yelp_path = Path(\"/home/ekoerner/same-side-classification/data/sentiment/yelp/\")"
   ]
  },
  {
   "cell_type": "code",
   "execution_count": 4,
   "metadata": {
    "ExecuteTime": {
     "end_time": "2020-03-15T22:59:30.201717Z",
     "start_time": "2020-03-15T22:58:40.831272Z"
    },
    "scrolled": false
   },
   "outputs": [
    {
     "name": "stderr",
     "output_type": "stream",
     "text": [
      "6685900it [00:42, 157834.84it/s]\n"
     ]
    }
   ],
   "source": [
    "fn_yelp_reviews = data_yelp_path / \"review.json\"\n",
    "\n",
    "data = list()\n",
    "\n",
    "with jsonlines.open(fn_yelp_reviews, \"r\") as fp:\n",
    "    for n, entry in enumerate(tqdm(fp)):\n",
    "        # print(entry)\n",
    "        # break\n",
    "        business_id = entry.pop(\"business_id\")\n",
    "        review_id = entry.pop(\"review_id\")\n",
    "        text = entry.pop(\"text\", \"\")\n",
    "        rating = entry.pop(\"stars\", 0.0)\n",
    "        data.append({\"id\": business_id, \"rid\": review_id, \"text\": text, \"rating\": rating})\n",
    "        # TESTING\n",
    "        # if n > 10000:\n",
    "        #     break\n",
    "        \n",
    "df = pd.DataFrame.from_dict(data)"
   ]
  },
  {
   "cell_type": "code",
   "execution_count": 5,
   "metadata": {
    "ExecuteTime": {
     "end_time": "2020-03-15T23:00:45.755324Z",
     "start_time": "2020-03-15T23:00:42.870435Z"
    }
   },
   "outputs": [
    {
     "name": "stderr",
     "output_type": "stream",
     "text": [
      "192609it [00:01, 108683.48it/s]\n",
      "100%|██████████| 192127/192127 [00:01<00:00, 173989.81it/s]\n"
     ]
    }
   ],
   "source": [
    "fn_yelp_topics = data_yelp_path / \"business.json\"\n",
    "\n",
    "inv_bid_cats = dict()\n",
    "inv_cat_bids = dict()\n",
    "bids_not_cats = set()\n",
    "\n",
    "\n",
    "# load lookup business -> categories\n",
    "with jsonlines.open(fn_yelp_topics, \"r\") as fp:\n",
    "    for n, entry in enumerate(tqdm(fp)):\n",
    "        business_id = entry.pop(\"business_id\")\n",
    "        categories = entry.pop(\"categories\")\n",
    "        \n",
    "        if not categories:\n",
    "            bids_not_cats.add(business_id)\n",
    "            continue\n",
    "        \n",
    "        inv_bid_cats[business_id] = categories\n",
    "\n",
    "# reverse lookup: category -> businesses\n",
    "for bid, cats in tqdm(inv_bid_cats.items()):\n",
    "    for cat in cats:\n",
    "        try:\n",
    "            inv_cat_bids[cat].append(bid)\n",
    "        except KeyError:\n",
    "            inv_cat_bids[cat] = [bid]"
   ]
  },
  {
   "cell_type": "code",
   "execution_count": 6,
   "metadata": {
    "ExecuteTime": {
     "end_time": "2020-03-15T23:02:00.874746Z",
     "start_time": "2020-03-15T23:02:00.866395Z"
    }
   },
   "outputs": [],
   "source": [
    "# Add goodness value\n",
    "# TODO: maybe ignore with 3\n",
    "df[\"goodness\"] = df[\"rating\"] > 3"
   ]
  },
  {
   "cell_type": "markdown",
   "metadata": {},
   "source": [
    "#### Test / Playground"
   ]
  },
  {
   "cell_type": "code",
   "execution_count": null,
   "metadata": {},
   "outputs": [],
   "source": [
    "# exceprt\n",
    "df  # .count()"
   ]
  },
  {
   "cell_type": "code",
   "execution_count": null,
   "metadata": {},
   "outputs": [],
   "source": [
    "# ratings info\n",
    "df.describe()"
   ]
  },
  {
   "cell_type": "code",
   "execution_count": null,
   "metadata": {},
   "outputs": [],
   "source": [
    "# how many reviews per business (id)\n",
    "df.groupby(\"id\").count()[[\"rating\"]].describe()"
   ]
  },
  {
   "cell_type": "code",
   "execution_count": null,
   "metadata": {},
   "outputs": [],
   "source": [
    "# def fn_goodness(row):\n",
    "#     row[\"good\"] = True if row[\"rating\"].value >= 2.5 else False\n",
    "#     return row\n",
    "\n",
    "# try:\n",
    "#     df = df.progress_apply(fn_goodness, axis=1)\n",
    "# except AttributeError:\n",
    "#     df = df.apply(fn_goodness)\n",
    "\n",
    "# set good if more than 3 in rating\n",
    "df[\"goodness\"] = df[\"rating\"] > 3"
   ]
  },
  {
   "cell_type": "code",
   "execution_count": null,
   "metadata": {},
   "outputs": [],
   "source": [
    "df.groupby([\"goodness\", \"id\"]).count()"
   ]
  },
  {
   "cell_type": "code",
   "execution_count": null,
   "metadata": {},
   "outputs": [],
   "source": [
    "# select only those that have more than N reviews\n",
    "df.groupby([\"id\", \"goodness\"])[[\"id\"]].count() > 3"
   ]
  },
  {
   "cell_type": "code",
   "execution_count": null,
   "metadata": {},
   "outputs": [],
   "source": [
    "# select only those IDs that contain both pos + negative reviews\n",
    "df.groupby([\"id\", \"goodness\"], as_index=False).count().groupby(\"id\")[[\"id\"]].count() == 2"
   ]
  },
  {
   "cell_type": "code",
   "execution_count": null,
   "metadata": {},
   "outputs": [],
   "source": [
    "len(df), len(df[df[\"rating\"] == 3])"
   ]
  },
  {
   "cell_type": "code",
   "execution_count": 7,
   "metadata": {
    "ExecuteTime": {
     "end_time": "2020-03-15T23:03:18.812322Z",
     "start_time": "2020-03-15T23:03:16.389014Z"
    }
   },
   "outputs": [
    {
     "data": {
      "text/html": [
       "<div>\n",
       "<style scoped>\n",
       "    .dataframe tbody tr th:only-of-type {\n",
       "        vertical-align: middle;\n",
       "    }\n",
       "\n",
       "    .dataframe tbody tr th {\n",
       "        vertical-align: top;\n",
       "    }\n",
       "\n",
       "    .dataframe thead th {\n",
       "        text-align: right;\n",
       "    }\n",
       "</style>\n",
       "<table border=\"1\" class=\"dataframe\">\n",
       "  <thead>\n",
       "    <tr style=\"text-align: right;\">\n",
       "      <th></th>\n",
       "      <th>id</th>\n",
       "    </tr>\n",
       "    <tr>\n",
       "      <th>rating</th>\n",
       "      <th></th>\n",
       "    </tr>\n",
       "  </thead>\n",
       "  <tbody>\n",
       "    <tr>\n",
       "      <th>1.0</th>\n",
       "      <td>1002159</td>\n",
       "    </tr>\n",
       "    <tr>\n",
       "      <th>2.0</th>\n",
       "      <td>542394</td>\n",
       "    </tr>\n",
       "    <tr>\n",
       "      <th>3.0</th>\n",
       "      <td>739280</td>\n",
       "    </tr>\n",
       "    <tr>\n",
       "      <th>4.0</th>\n",
       "      <td>1468985</td>\n",
       "    </tr>\n",
       "    <tr>\n",
       "      <th>5.0</th>\n",
       "      <td>2933082</td>\n",
       "    </tr>\n",
       "  </tbody>\n",
       "</table>\n",
       "</div>"
      ],
      "text/plain": [
       "             id\n",
       "rating         \n",
       "1.0     1002159\n",
       "2.0      542394\n",
       "3.0      739280\n",
       "4.0     1468985\n",
       "5.0     2933082"
      ]
     },
     "execution_count": 7,
     "metadata": {},
     "output_type": "execute_result"
    }
   ],
   "source": [
    "df.groupby([\"rating\"], ).count()[[\"id\"]]"
   ]
  },
  {
   "cell_type": "markdown",
   "metadata": {},
   "source": [
    "#### Filter reviews with at least N ratings"
   ]
  },
  {
   "cell_type": "code",
   "execution_count": 8,
   "metadata": {
    "ExecuteTime": {
     "end_time": "2020-03-15T23:04:32.268458Z",
     "start_time": "2020-03-15T23:04:32.266471Z"
    }
   },
   "outputs": [],
   "source": [
    "# min ratings per class (good|bad)\n",
    "min_ratings = 5"
   ]
  },
  {
   "cell_type": "code",
   "execution_count": 9,
   "metadata": {
    "ExecuteTime": {
     "end_time": "2020-03-15T23:05:51.364233Z",
     "start_time": "2020-03-15T23:05:47.605002Z"
    }
   },
   "outputs": [],
   "source": [
    "# filter with at least N ratings per goodness\n",
    "df_filter = df.groupby([\"id\", \"goodness\"])[[\"id\"]].count() < min_ratings\n",
    "df_filter = df_filter.rename(columns={\"id\": \"filter\"})\n",
    "df_filter = df_filter[df_filter[\"filter\"] == True]\n",
    "\n",
    "# build a filter id list\n",
    "df_filter_list = df_filter.reset_index()[\"id\"].to_list()\n",
    "\n",
    "# filter with list\n",
    "df_filtered = df[~df.id.isin(df_filter_list)]"
   ]
  },
  {
   "cell_type": "code",
   "execution_count": 10,
   "metadata": {
    "ExecuteTime": {
     "end_time": "2020-03-15T23:07:07.108585Z",
     "start_time": "2020-03-15T23:07:06.829142Z"
    }
   },
   "outputs": [],
   "source": [
    "df = df_filtered"
   ]
  },
  {
   "cell_type": "markdown",
   "metadata": {},
   "source": [
    "#### Filter only reviews with both good and bad rating"
   ]
  },
  {
   "cell_type": "code",
   "execution_count": 11,
   "metadata": {
    "ExecuteTime": {
     "end_time": "2020-03-15T23:08:26.582029Z",
     "start_time": "2020-03-15T23:08:22.640517Z"
    }
   },
   "outputs": [],
   "source": [
    "# build filter for ids that contain both positive and negative samples\n",
    "df_filter = df.groupby([\"id\", \"goodness\"], as_index=False).count().groupby(\"id\")[[\"id\"]].count() == 2\n",
    "df_filter = df_filter.rename(columns={\"id\": \"filter\"})\n",
    "df_filter = df_filter[df_filter[\"filter\"] == True]\n",
    "\n",
    "# create list of IDs for which this is true\n",
    "df_filter_list = df_filter.reset_index()[\"id\"].to_list()\n",
    "\n",
    "# filter with list\n",
    "df_filtered = df[df.id.isin(df_filter_list)]\n",
    "\n",
    "# df_filtered\n",
    "# df_filtered.groupby([\"id\", \"goodness\"]).count()"
   ]
  },
  {
   "cell_type": "code",
   "execution_count": 12,
   "metadata": {
    "ExecuteTime": {
     "end_time": "2020-03-15T23:09:44.774484Z",
     "start_time": "2020-03-15T23:09:44.521030Z"
    }
   },
   "outputs": [],
   "source": [
    "df = df_filtered"
   ]
  },
  {
   "cell_type": "markdown",
   "metadata": {},
   "source": [
    "#### Make pairs"
   ]
  },
  {
   "cell_type": "markdown",
   "metadata": {},
   "source": [
    "##### Positive + negative same-sentiment pairs"
   ]
  },
  {
   "cell_type": "code",
   "execution_count": 13,
   "metadata": {
    "ExecuteTime": {
     "end_time": "2020-03-15T23:11:01.505118Z",
     "start_time": "2020-03-15T23:11:01.503494Z"
    }
   },
   "outputs": [],
   "source": [
    "num_pairs_per_class = 2\n",
    "# N positive + N negative\n",
    "# --> 2N pos+neg (not same-sentiment)\n",
    "\n",
    "# TODO: randomness for positive ss / negative ss - sum is equal / or sum equal compared to not ss"
   ]
  },
  {
   "cell_type": "code",
   "execution_count": 14,
   "metadata": {
    "ExecuteTime": {
     "end_time": "2020-03-15T23:14:20.600902Z",
     "start_time": "2020-03-15T23:12:16.401729Z"
    },
    "code_folding": [
     19,
     35
    ]
   },
   "outputs": [],
   "source": [
    "pairs_good = list()\n",
    "pairs_bad = list()\n",
    "\n",
    "for id_, group in tqdm(df.groupby(\"id\")):\n",
    "    grouper = group.groupby(\"goodness\")\n",
    "    reviews_good = grouper.get_group(True)\n",
    "    reviews_bad = grouper.get_group(False)\n",
    "\n",
    "    # TESTING\n",
    "    # print(\"id:\", id_)\n",
    "    # print(\"#good:\", len(reviews_good))\n",
    "    # print(\"#bad:\", len(reviews_bad))\n",
    "    # print(group)\n",
    "    # break\n",
    "\n",
    "    # make pairings -- good ss\n",
    "    rg_idx = reviews_good.index.values\n",
    "    # print(\"pos_idx:\", rg_idx)\n",
    "    rg_idx_sel = np.random.choice(rg_idx, 2 * num_pairs_per_class, replace=False)\n",
    "    for id1, id2 in zip(rg_idx_sel[::2], rg_idx_sel[1::2]):\n",
    "        # print(\"pair:\", id1, id2)\n",
    "        r1, r2 = df.loc[id1], df.loc[id2]\n",
    "        pair = {\n",
    "            \"argument1\": r1[\"text\"], \"argument2\": r2[\"text\"],\n",
    "            \"argument1_id\": f\"\"\"{r1[\"id\"]}|{r1[\"rid\"]}\"\"\", \"argument2_id\": f\"\"\"{r2[\"id\"]}|{r2[\"rid\"]}\"\"\",\n",
    "            \"is_same_side\": True, \"is_good_side\": True,\n",
    "            \"topic\": inv_bid_cats.get(r1[\"id\"], None)\n",
    "        }\n",
    "        # print(pair)\n",
    "        pairs_good.append(pair)\n",
    "\n",
    "    # make pairings -- bad ss\n",
    "    rb_idx = reviews_bad.index.values\n",
    "    # print(\"neg_idx:\", rb_idx)\n",
    "    rb_idx_sel = np.random.choice(rb_idx, 2 * num_pairs_per_class, replace=False)\n",
    "    for id1, id2 in zip(rb_idx_sel[::2], rb_idx_sel[1::2]):\n",
    "        r1, r2 = df.loc[id1], df.loc[id2]\n",
    "        pair = {\n",
    "            \"argument1\": r1[\"text\"], \"argument2\": r2[\"text\"],\n",
    "            \"argument1_id\": f\"\"\"{r1[\"id\"]}|{r1[\"rid\"]}\"\"\", \"argument2_id\": f\"\"\"{r2[\"id\"]}|{r2[\"rid\"]}\"\"\",\n",
    "            \"is_same_side\": True, \"is_good_side\": False,\n",
    "            \"topic\": inv_bid_cats.get(r1[\"id\"], None)\n",
    "        }\n",
    "        pairs_bad.append(pair)\n",
    "        \n",
    "    # break"
   ]
  },
  {
   "cell_type": "code",
   "execution_count": 15,
   "metadata": {
    "ExecuteTime": {
     "end_time": "2020-03-15T23:15:41.756229Z",
     "start_time": "2020-03-15T23:15:41.752937Z"
    }
   },
   "outputs": [
    {
     "name": "stdout",
     "output_type": "stream",
     "text": [
      "#ss (pos) 123166\n",
      "#ss (neg) 123166\n"
     ]
    }
   ],
   "source": [
    "print(\"#ss (pos)\", len(pairs_good))\n",
    "print(\"#ss (neg)\", len(pairs_bad))"
   ]
  },
  {
   "cell_type": "markdown",
   "metadata": {},
   "source": [
    "##### not same-sentiment pairs (combinations positive + negative)"
   ]
  },
  {
   "cell_type": "code",
   "execution_count": 16,
   "metadata": {
    "ExecuteTime": {
     "end_time": "2020-03-15T23:17:03.080810Z",
     "start_time": "2020-03-15T23:17:03.078876Z"
    }
   },
   "outputs": [],
   "source": [
    "#: number of negative same-sentiment samples same as positive same-sentiment samples\n",
    "num_pairs_negative = 2 * num_pairs_per_class\n",
    "\n",
    "#: whether for a single side (good or bad) there can be multiple occurrences of the same review\n",
    "#: may need to check afterwared that not by chance same pairing happens ...\n",
    "repeatable_on_side = False"
   ]
  },
  {
   "cell_type": "code",
   "execution_count": 17,
   "metadata": {
    "ExecuteTime": {
     "end_time": "2020-03-15T23:20:27.490500Z",
     "start_time": "2020-03-15T23:18:24.274429Z"
    },
    "code_folding": [
     16,
     28
    ]
   },
   "outputs": [],
   "source": [
    "pairs_not_ss = list()\n",
    "\n",
    "for id_, group in tqdm(df.groupby(\"id\")):\n",
    "    grouper = group.groupby(\"goodness\")\n",
    "    reviews_good = grouper.get_group(True)\n",
    "    reviews_bad = grouper.get_group(False)\n",
    "\n",
    "    # find indices for reviews per business\n",
    "    rg_idx = reviews_good.index.values\n",
    "    rb_idx = reviews_bad.index.values\n",
    "\n",
    "    # randomly select from each side\n",
    "    rg_idx_sel = np.random.choice(rg_idx, num_pairs_negative, replace=repeatable_on_side)\n",
    "    rb_idx_sel = np.random.choice(rb_idx, num_pairs_negative, replace=repeatable_on_side)\n",
    "    \n",
    "    # pair them together -- good-bad pairs\n",
    "    for idg, idb in zip(rg_idx_sel[::2], rb_idx_sel[::2]):\n",
    "        rg, rb = df.loc[idg], df.loc[idb]\n",
    "        pair = {\n",
    "            \"argument1\": rg[\"text\"], \"argument2\": rb[\"text\"],\n",
    "            \"argument1_id\": f\"\"\"{rg[\"id\"]}|{rg[\"rid\"]}\"\"\", \"argument2_id\": f\"\"\"{rb[\"id\"]}|{rb[\"rid\"]}\"\"\",\n",
    "            \"is_same_side\": False, \"is_good_side\": None,\n",
    "            \"topic\": inv_bid_cats.get(rg[\"id\"], None)\n",
    "        }\n",
    "        # print(pair)\n",
    "        pairs_not_ss.append(pair)\n",
    "    \n",
    "    # bad-good pairs\n",
    "    for idb, idg in zip(rb_idx_sel[1::2], rg_idx_sel[1::2]):\n",
    "        rb, rg = df.loc[idb], df.loc[idg]\n",
    "        pair = {\n",
    "            \"argument1\": rb[\"text\"], \"argument2\": rg[\"text\"],\n",
    "            \"argument1_id\": f\"\"\"{rb[\"id\"]}|{rb[\"rid\"]}\"\"\", \"argument2_id\": f\"\"\"{rg[\"id\"]}|{rg[\"rid\"]}\"\"\",\n",
    "            \"is_same_side\": False, \"is_good_side\": None,\n",
    "            \"topic\": inv_bid_cats.get(rb[\"id\"], None)\n",
    "        }\n",
    "        # print(pair)\n",
    "        pairs_not_ss.append(pair)"
   ]
  },
  {
   "cell_type": "code",
   "execution_count": 18,
   "metadata": {
    "ExecuteTime": {
     "end_time": "2020-03-15T23:21:54.966358Z",
     "start_time": "2020-03-15T23:21:54.963909Z"
    }
   },
   "outputs": [
    {
     "name": "stdout",
     "output_type": "stream",
     "text": [
      "#nss 246332\n"
     ]
    }
   ],
   "source": [
    "print(\"#nss\", len(pairs_not_ss))"
   ]
  },
  {
   "cell_type": "markdown",
   "metadata": {},
   "source": [
    "##### dataframe for training etc."
   ]
  },
  {
   "cell_type": "code",
   "execution_count": 19,
   "metadata": {
    "ExecuteTime": {
     "end_time": "2020-03-15T23:23:22.709211Z",
     "start_time": "2020-03-15T23:23:22.696259Z"
    }
   },
   "outputs": [
    {
     "name": "stdout",
     "output_type": "stream",
     "text": [
      "#~ss 492664\n"
     ]
    }
   ],
   "source": [
    "pairs_all = pairs_good + pairs_bad + pairs_not_ss\n",
    "print(\"#~ss\", len(pairs_all))"
   ]
  },
  {
   "cell_type": "code",
   "execution_count": 20,
   "metadata": {
    "ExecuteTime": {
     "end_time": "2020-03-15T23:25:02.574589Z",
     "start_time": "2020-03-15T23:25:02.517031Z"
    }
   },
   "outputs": [],
   "source": [
    "# print(pairs_all[0][\"argument1_id\"])\n",
    "np.random.shuffle(pairs_all)\n",
    "# print(pairs_all[0][\"argument1_id\"])"
   ]
  },
  {
   "cell_type": "code",
   "execution_count": 21,
   "metadata": {
    "ExecuteTime": {
     "end_time": "2020-03-15T23:26:45.165669Z",
     "start_time": "2020-03-15T23:26:43.599617Z"
    }
   },
   "outputs": [],
   "source": [
    "df_traindev = pd.DataFrame.from_dict(pairs_all)"
   ]
  },
  {
   "cell_type": "code",
   "execution_count": 22,
   "metadata": {
    "ExecuteTime": {
     "end_time": "2020-03-15T23:28:38.204772Z",
     "start_time": "2020-03-15T23:28:34.315628Z"
    }
   },
   "outputs": [],
   "source": [
    "fn_yelp_df = data_yelp_path / \"df_traindev.p\"\n",
    "\n",
    "with open(fn_yelp_df, \"wb\") as fp:\n",
    "    pickle.dump(df_traindev, fp, protocol=pickle.HIGHEST_PROTOCOL)"
   ]
  },
  {
   "cell_type": "markdown",
   "metadata": {},
   "source": [
    "---"
   ]
  },
  {
   "cell_type": "markdown",
   "metadata": {},
   "source": [
    "#### Reloading for training"
   ]
  },
  {
   "cell_type": "code",
   "execution_count": 3,
   "metadata": {
    "ExecuteTime": {
     "end_time": "2020-03-15T23:41:44.566026Z",
     "start_time": "2020-03-15T23:41:43.850945Z"
    }
   },
   "outputs": [],
   "source": [
    "data_yelp_path = Path(\"/home/ekoerner/same-side-classification/data/sentiment/yelp/\")\n",
    "fn_yelp_df = data_yelp_path / \"df_traindev.p\"\n",
    "\n",
    "with open(fn_yelp_df, \"rb\") as fp:\n",
    "    all_df = pickle.load(fp)"
   ]
  },
  {
   "cell_type": "code",
   "execution_count": 4,
   "metadata": {
    "ExecuteTime": {
     "end_time": "2020-03-15T23:46:11.305291Z",
     "start_time": "2020-03-15T23:41:48.290024Z"
    }
   },
   "outputs": [
    {
     "name": "stderr",
     "output_type": "stream",
     "text": [
      "100%|██████████| 492664/492664 [04:22<00:00, 1873.51it/s]\n"
     ]
    }
   ],
   "source": [
    "def _add_dummy_tag(row):\n",
    "    row[\"tag\"] = \"NA\"\n",
    "    return row\n",
    "\n",
    "# all_df = all_df.progress_apply(_add_dummy_tag, axis=1)\n",
    "all_df[\"tag\"] = \"NA\""
   ]
  },
  {
   "cell_type": "code",
   "execution_count": 5,
   "metadata": {
    "ExecuteTime": {
     "end_time": "2020-03-15T23:46:11.378727Z",
     "start_time": "2020-03-15T23:46:11.374580Z"
    }
   },
   "outputs": [
    {
     "name": "stdout",
     "output_type": "stream",
     "text": [
      "traindev: [0:344864], test: [344864:492664], ratio: 0.3\n"
     ]
    }
   ],
   "source": [
    "num = len(all_df)\n",
    "ratio = 0.3\n",
    "idx_ratio = int(num * (1.0 - ratio))\n",
    "print(f\"traindev: [0:{idx_ratio}], test: [{idx_ratio}:{num}], ratio: {ratio}\")\n",
    "\n",
    "traindev_df = all_df.iloc[:idx_ratio]\n",
    "test_df = all_df.iloc[idx_ratio:]"
   ]
  },
  {
   "cell_type": "code",
   "execution_count": null,
   "metadata": {},
   "outputs": [],
   "source": [
    "# len(traindev_df), len(test_df)"
   ]
  },
  {
   "cell_type": "markdown",
   "metadata": {},
   "source": [
    "##### Default S3C training\n",
    "\n",
    "https://gluon-nlp.mxnet.io/install.html\n",
    "\n",
    "```bash\n",
    "pip install --upgrade 'mxnet>=1.3.0'  \n",
    "pip install gluonnlp  \n",
    "wget https://gluon-nlp.mxnet.io/_downloads/sentence_embedding.zip  \n",
    "unzip sentence_embedding.zip  \n",
    "ln -s sentence_embedding/bert bert  \n",
    "```"
   ]
  },
  {
   "cell_type": "code",
   "execution_count": 6,
   "metadata": {
    "ExecuteTime": {
     "end_time": "2020-03-15T23:46:13.532201Z",
     "start_time": "2020-03-15T23:46:11.520359Z"
    }
   },
   "outputs": [],
   "source": [
    "from mxboard import SummaryWriter\n",
    "\n",
    "from utils_data import get_train_test_sets\n",
    "\n",
    "from utils_gluon import setup_bert_epi128bce, setup_bert_epi512bce\n",
    "from utils_gluon import setup_bert_pro128bce, setup_bert_pro512bce\n",
    "\n",
    "from utils_gluon import transform_dataset\n",
    "from utils_gluon import predict_out_to_ys\n",
    "\n",
    "from utils_gluon import predict\n",
    "from utils_gluon import train\n",
    "\n",
    "# from utils_gluon import print_infos\n",
    "# from utils_gluon import plot_train_stats\n",
    "\n",
    "from utils_gluon import report_training_results\n",
    "from utils_gluon import plot_confusion_matrix"
   ]
  },
  {
   "cell_type": "code",
   "execution_count": 7,
   "metadata": {
    "ExecuteTime": {
     "end_time": "2020-03-15T23:46:13.675071Z",
     "start_time": "2020-03-15T23:46:13.671790Z"
    }
   },
   "outputs": [],
   "source": [
    "from utils_data import Timer\n",
    "\n",
    "from utils_data import configure_logging\n",
    "configure_logging()\n",
    "\n",
    "from utils_data import init_random\n",
    "init_random()"
   ]
  },
  {
   "cell_type": "code",
   "execution_count": 8,
   "metadata": {
    "ExecuteTime": {
     "end_time": "2020-03-15T23:46:14.152560Z",
     "start_time": "2020-03-15T23:46:13.818749Z"
    }
   },
   "outputs": [],
   "source": [
    "X_train, X_dev, y_train, y_dev = get_train_test_sets(traindev_df, ratio=0.1)"
   ]
  },
  {
   "cell_type": "code",
   "execution_count": 9,
   "metadata": {
    "ExecuteTime": {
     "end_time": "2020-03-15T23:46:20.670063Z",
     "start_time": "2020-03-15T23:46:14.366950Z"
    }
   },
   "outputs": [
    {
     "name": "stdout",
     "output_type": "stream",
     "text": [
      "Start on [setup BERT model] ...\n",
      "Time for [setup BERT model]: 0:00:06.299883\n"
     ]
    }
   ],
   "source": [
    "with Timer(\"setup BERT model\"):\n",
    "    model, vocabulary, ctx, tokenizer, transform, loss_function, metric, all_labels = setup_bert_pro128bce(gpu=1)"
   ]
  },
  {
   "cell_type": "code",
   "execution_count": 10,
   "metadata": {
    "ExecuteTime": {
     "end_time": "2020-03-15T23:46:40.168301Z",
     "start_time": "2020-03-15T23:46:20.924326Z"
    }
   },
   "outputs": [
    {
     "name": "stdout",
     "output_type": "stream",
     "text": [
      "Start on [prepare training / validation data] ...\n",
      "Time for [prepare training / validation data]: 0:00:19.241126\n"
     ]
    }
   ],
   "source": [
    "with Timer(\"prepare training / validation data\"):\n",
    "    data_train_raw, data_train = transform_dataset(X_train, y_train, transform)\n",
    "    data_dev_raw, data_dev = transform_dataset(X_dev, y_dev, transform)"
   ]
  },
  {
   "cell_type": "code",
   "execution_count": 11,
   "metadata": {
    "ExecuteTime": {
     "end_time": "2020-03-15T23:46:40.609646Z",
     "start_time": "2020-03-15T23:46:40.384919Z"
    }
   },
   "outputs": [],
   "source": [
    "run_name = \"yelp_1_pro128BCE\"\n",
    "fn_run_path = Path(f\"data/{run_name}\")\n",
    "\n",
    "! mkdir data/yelp_1_pro128BCE"
   ]
  },
  {
   "cell_type": "code",
   "execution_count": 12,
   "metadata": {
    "ExecuteTime": {
     "end_time": "2020-03-15T23:46:40.849976Z",
     "start_time": "2020-03-15T23:46:40.847849Z"
    }
   },
   "outputs": [],
   "source": [
    "num_epochs = 3\n",
    "batch_size = 32"
   ]
  },
  {
   "cell_type": "markdown",
   "metadata": {
    "ExecuteTime": {
     "end_time": "2020-03-15T23:40:26.001821Z",
     "start_time": "2020-03-15T23:00:19.003Z"
    }
   },
   "source": [
    "##### Training with TRAIN set"
   ]
  },
  {
   "cell_type": "code",
   "execution_count": 14,
   "metadata": {
    "ExecuteTime": {
     "end_time": "2020-03-16T06:23:40.463544Z",
     "start_time": "2020-03-16T00:01:44.620225Z"
    }
   },
   "outputs": [
    {
     "name": "stderr",
     "output_type": "stream",
     "text": [
      "  0%|          | 30/310377 [00:00<17:22, 297.59it/s]"
     ]
    },
    {
     "name": "stdout",
     "output_type": "stream",
     "text": [
      "Start on [train model - 0] ...\n",
      "Start on [setup training] ...\n"
     ]
    },
    {
     "name": "stderr",
     "output_type": "stream",
     "text": [
      "100%|██████████| 310377/310377 [13:34<00:00, 380.96it/s]\n",
      "  0%|          | 0/9704 [00:00<?, ?it/s]"
     ]
    },
    {
     "name": "stdout",
     "output_type": "stream",
     "text": [
      "Time for [setup training]: 0:13:34.815246\n",
      "Start on [training] ...\n",
      "Start on [epoch 0] ...\n"
     ]
    },
    {
     "name": "stderr",
     "output_type": "stream",
     "text": [
      "  0%|          | 1/9704 [00:00<2:32:42,  1.06it/s]2020-03-16 01:15:20,393 : INFO : successfully opened events file: data/yelp_1_pro128BCE/events.out.tfevents.1584317720.cuda\n",
      "2020-03-16 01:15:20,410 : INFO : wrote 1 event to disk\n",
      "2020-03-16 01:15:20,512 : INFO : wrote 1 event to disk\n",
      "  1%|          | 81/9704 [01:01<2:02:57,  1.30it/s]2020-03-16 01:16:21,268 : INFO : wrote 160 events to disk\n",
      "  2%|▏         | 161/9704 [02:02<2:01:12,  1.31it/s]2020-03-16 01:17:21,564 : INFO : wrote 160 events to disk\n",
      "  2%|▏         | 241/9704 [03:02<1:56:10,  1.36it/s]2020-03-16 01:18:21,810 : INFO : wrote 160 events to disk\n",
      "  3%|▎         | 320/9704 [04:02<2:00:38,  1.30it/s]2020-03-16 01:19:22,253 : INFO : wrote 158 events to disk\n",
      "  4%|▍         | 400/9704 [05:03<1:57:03,  1.32it/s]2020-03-16 01:20:22,826 : INFO : wrote 160 events to disk\n",
      "  5%|▍         | 479/9704 [06:03<1:54:35,  1.34it/s]2020-03-16 01:21:23,011 : INFO : wrote 158 events to disk\n",
      "  5%|▌         | 500/9704 [06:19<1:58:22,  1.30it/s]"
     ]
    },
    {
     "name": "stdout",
     "output_type": "stream",
     "text": [
      "[Epoch 0 Batch 500/9704] loss=0.6236, lr=0.0000050, acc=0.648 - time 0:06:19.515161\n"
     ]
    },
    {
     "name": "stderr",
     "output_type": "stream",
     "text": [
      "  6%|▌         | 558/9704 [07:04<1:57:49,  1.29it/s]2020-03-16 01:22:23,463 : INFO : wrote 158 events to disk\n",
      "  7%|▋         | 638/9704 [08:04<1:56:27,  1.30it/s]2020-03-16 01:23:24,128 : INFO : wrote 160 events to disk\n",
      "  7%|▋         | 717/9704 [09:04<1:52:06,  1.34it/s]2020-03-16 01:24:24,239 : INFO : wrote 158 events to disk\n",
      "  8%|▊         | 796/9704 [10:04<1:54:09,  1.30it/s]2020-03-16 01:25:24,403 : INFO : wrote 158 events to disk\n",
      "  9%|▉         | 875/9704 [11:05<1:53:18,  1.30it/s]2020-03-16 01:26:24,866 : INFO : wrote 158 events to disk\n",
      " 10%|▉         | 954/9704 [12:06<1:53:36,  1.28it/s]2020-03-16 01:27:25,500 : INFO : wrote 158 events to disk\n",
      " 10%|█         | 1000/9704 [12:40<1:52:24,  1.29it/s]"
     ]
    },
    {
     "name": "stdout",
     "output_type": "stream",
     "text": [
      "[Epoch 0 Batch 1000/9704] loss=0.5316, lr=0.0000050, acc=0.692 - time 0:06:21.485058\n"
     ]
    },
    {
     "name": "stderr",
     "output_type": "stream",
     "text": [
      " 11%|█         | 1033/9704 [13:06<1:50:53,  1.30it/s]2020-03-16 01:28:25,637 : INFO : wrote 158 events to disk\n",
      " 11%|█▏        | 1112/9704 [14:06<1:50:25,  1.30it/s]2020-03-16 01:29:25,980 : INFO : wrote 158 events to disk\n",
      " 12%|█▏        | 1192/9704 [15:07<1:48:27,  1.31it/s]2020-03-16 01:30:26,668 : INFO : wrote 160 events to disk\n",
      " 13%|█▎        | 1271/9704 [16:07<1:48:14,  1.30it/s]2020-03-16 01:31:27,200 : INFO : wrote 158 events to disk\n",
      " 14%|█▍        | 1350/9704 [17:08<1:47:55,  1.29it/s]2020-03-16 01:32:27,634 : INFO : wrote 158 events to disk\n",
      " 15%|█▍        | 1429/9704 [18:08<1:43:28,  1.33it/s]2020-03-16 01:33:27,672 : INFO : wrote 158 events to disk\n",
      " 15%|█▌        | 1500/9704 [19:02<1:46:32,  1.28it/s]"
     ]
    },
    {
     "name": "stdout",
     "output_type": "stream",
     "text": [
      "[Epoch 0 Batch 1500/9704] loss=0.4940, lr=0.0000050, acc=0.712 - time 0:06:21.379526\n"
     ]
    },
    {
     "name": "stderr",
     "output_type": "stream",
     "text": [
      " 16%|█▌        | 1508/9704 [19:08<1:44:51,  1.30it/s]2020-03-16 01:34:27,972 : INFO : wrote 158 events to disk\n",
      " 16%|█▋        | 1587/9704 [20:08<1:45:25,  1.28it/s]2020-03-16 01:35:28,091 : INFO : wrote 158 events to disk\n",
      " 17%|█▋        | 1666/9704 [21:08<1:43:20,  1.30it/s]2020-03-16 01:36:28,249 : INFO : wrote 158 events to disk\n",
      " 18%|█▊        | 1746/9704 [22:09<1:38:49,  1.34it/s]2020-03-16 01:37:28,691 : INFO : wrote 160 events to disk\n",
      " 19%|█▉        | 1825/9704 [23:09<1:42:20,  1.28it/s]2020-03-16 01:38:29,174 : INFO : wrote 158 events to disk\n",
      " 20%|█▉        | 1904/9704 [24:10<1:38:36,  1.32it/s]2020-03-16 01:39:29,476 : INFO : wrote 158 events to disk\n",
      " 20%|██        | 1983/9704 [25:10<1:39:23,  1.29it/s]2020-03-16 01:40:30,158 : INFO : wrote 158 events to disk\n",
      " 21%|██        | 2000/9704 [25:23<1:40:13,  1.28it/s]"
     ]
    },
    {
     "name": "stdout",
     "output_type": "stream",
     "text": [
      "[Epoch 0 Batch 2000/9704] loss=0.4791, lr=0.0000050, acc=0.725 - time 0:06:21.454097\n"
     ]
    },
    {
     "name": "stderr",
     "output_type": "stream",
     "text": [
      " 21%|██        | 2061/9704 [26:10<1:38:12,  1.30it/s]2020-03-16 01:41:30,190 : INFO : wrote 156 events to disk\n",
      " 22%|██▏       | 2140/9704 [27:11<1:34:00,  1.34it/s]2020-03-16 01:42:30,673 : INFO : wrote 158 events to disk\n",
      " 23%|██▎       | 2219/9704 [28:11<1:33:33,  1.33it/s]2020-03-16 01:43:30,873 : INFO : wrote 158 events to disk\n",
      " 24%|██▎       | 2298/9704 [29:11<1:34:43,  1.30it/s]2020-03-16 01:44:30,943 : INFO : wrote 158 events to disk\n",
      " 24%|██▍       | 2377/9704 [30:11<1:33:11,  1.31it/s]2020-03-16 01:45:31,024 : INFO : wrote 158 events to disk\n",
      " 25%|██▌       | 2457/9704 [31:12<1:32:42,  1.30it/s]2020-03-16 01:46:31,728 : INFO : wrote 160 events to disk\n",
      " 26%|██▌       | 2500/9704 [31:44<1:31:11,  1.32it/s]"
     ]
    },
    {
     "name": "stdout",
     "output_type": "stream",
     "text": [
      "[Epoch 0 Batch 2500/9704] loss=0.4670, lr=0.0000050, acc=0.732 - time 0:06:21.085423\n"
     ]
    },
    {
     "name": "stderr",
     "output_type": "stream",
     "text": [
      " 26%|██▌       | 2536/9704 [32:12<1:32:14,  1.30it/s]2020-03-16 01:47:31,868 : INFO : wrote 158 events to disk\n",
      " 27%|██▋       | 2616/9704 [33:13<1:29:10,  1.32it/s]2020-03-16 01:48:32,511 : INFO : wrote 160 events to disk\n",
      " 28%|██▊       | 2695/9704 [34:13<1:29:26,  1.31it/s]2020-03-16 01:49:32,985 : INFO : wrote 158 events to disk\n",
      " 29%|██▊       | 2774/9704 [35:14<1:28:52,  1.30it/s]2020-03-16 01:50:33,479 : INFO : wrote 158 events to disk\n",
      " 29%|██▉       | 2853/9704 [36:14<1:28:16,  1.29it/s]2020-03-16 01:51:34,136 : INFO : wrote 158 events to disk\n",
      " 30%|███       | 2932/9704 [37:15<1:27:28,  1.29it/s]2020-03-16 01:52:34,718 : INFO : wrote 158 events to disk\n",
      " 31%|███       | 3000/9704 [38:06<1:26:43,  1.29it/s]"
     ]
    },
    {
     "name": "stdout",
     "output_type": "stream",
     "text": [
      "[Epoch 0 Batch 3000/9704] loss=0.4700, lr=0.0000050, acc=0.737 - time 0:06:22.037091\n"
     ]
    },
    {
     "name": "stderr",
     "output_type": "stream",
     "text": [
      " 31%|███       | 3011/9704 [38:15<1:25:04,  1.31it/s]2020-03-16 01:53:34,731 : INFO : wrote 158 events to disk\n",
      " 32%|███▏      | 3090/9704 [39:15<1:21:20,  1.36it/s]2020-03-16 01:54:34,886 : INFO : wrote 158 events to disk\n",
      " 33%|███▎      | 3169/9704 [40:15<1:23:10,  1.31it/s]2020-03-16 01:55:35,152 : INFO : wrote 158 events to disk\n",
      " 33%|███▎      | 3248/9704 [41:16<1:21:30,  1.32it/s]2020-03-16 01:56:35,507 : INFO : wrote 158 events to disk\n",
      " 34%|███▍      | 3327/9704 [42:16<1:21:18,  1.31it/s]2020-03-16 01:57:35,735 : INFO : wrote 158 events to disk\n",
      " 35%|███▌      | 3407/9704 [43:16<1:21:30,  1.29it/s]2020-03-16 01:58:36,374 : INFO : wrote 160 events to disk\n",
      " 36%|███▌      | 3486/9704 [44:17<1:19:07,  1.31it/s]2020-03-16 01:59:36,779 : INFO : wrote 158 events to disk\n",
      " 36%|███▌      | 3500/9704 [44:28<1:19:16,  1.30it/s]"
     ]
    },
    {
     "name": "stdout",
     "output_type": "stream",
     "text": [
      "[Epoch 0 Batch 3500/9704] loss=0.4548, lr=0.0000050, acc=0.743 - time 0:06:21.126656\n"
     ]
    },
    {
     "name": "stderr",
     "output_type": "stream",
     "text": [
      " 36%|███▌      | 3501/9704 [44:28<1:17:02,  1.34it/s]IOPub message rate exceeded.\n",
      "The notebook server will temporarily stop sending output\n",
      "to the client in order to avoid crashing it.\n",
      "To change this limit, set the config variable\n",
      "`--NotebookApp.iopub_msg_rate_limit`.\n",
      "\n",
      "Current values:\n",
      "NotebookApp.iopub_msg_rate_limit=1000.0 (msgs/sec)\n",
      "NotebookApp.rate_limit_window=3.0 (secs)\n",
      "\n",
      " 80%|████████  | 7790/9704 [1:38:26<24:29,  1.30it/s]2020-03-16 04:56:47,503 : INFO : wrote 158 events to disk\n",
      " 81%|████████  | 7870/9704 [1:39:27<23:22,  1.31it/s]2020-03-16 04:57:48,240 : INFO : wrote 160 events to disk\n",
      " 82%|████████▏ | 7949/9704 [1:40:27<22:43,  1.29it/s]2020-03-16 04:58:48,456 : INFO : wrote 158 events to disk\n",
      " 82%|████████▏ | 8000/9704 [1:41:05<21:18,  1.33it/s]"
     ]
    },
    {
     "name": "stdout",
     "output_type": "stream",
     "text": [
      "[Epoch 1 Batch 8000/9704] loss=0.3866, lr=0.0000050, acc=0.814 - time 0:06:19.603953\n"
     ]
    },
    {
     "name": "stderr",
     "output_type": "stream",
     "text": [
      " 83%|████████▎ | 8029/9704 [1:41:28<21:23,  1.31it/s]2020-03-16 04:59:48,945 : INFO : wrote 160 events to disk\n",
      " 84%|████████▎ | 8108/9704 [1:42:28<20:03,  1.33it/s]2020-03-16 05:00:49,152 : INFO : wrote 158 events to disk\n",
      " 84%|████████▍ | 8188/9704 [1:43:28<19:31,  1.29it/s]2020-03-16 05:01:49,812 : INFO : wrote 160 events to disk\n",
      " 85%|████████▌ | 8267/9704 [1:44:29<17:27,  1.37it/s]2020-03-16 05:02:50,001 : INFO : wrote 158 events to disk\n",
      " 86%|████████▌ | 8346/9704 [1:45:29<16:54,  1.34it/s]2020-03-16 05:03:50,085 : INFO : wrote 158 events to disk\n",
      " 87%|████████▋ | 8426/9704 [1:46:29<15:36,  1.36it/s]2020-03-16 05:04:50,296 : INFO : wrote 160 events to disk\n",
      " 88%|████████▊ | 8500/9704 [1:47:25<15:22,  1.31it/s]"
     ]
    },
    {
     "name": "stdout",
     "output_type": "stream",
     "text": [
      "[Epoch 1 Batch 8500/9704] loss=0.3892, lr=0.0000050, acc=0.814 - time 0:06:19.734777\n"
     ]
    },
    {
     "name": "stderr",
     "output_type": "stream",
     "text": [
      " 88%|████████▊ | 8505/9704 [1:47:29<15:22,  1.30it/s]2020-03-16 05:05:50,405 : INFO : wrote 158 events to disk\n",
      " 88%|████████▊ | 8585/9704 [1:48:29<14:17,  1.30it/s]2020-03-16 05:06:50,843 : INFO : wrote 160 events to disk\n",
      " 89%|████████▉ | 8664/9704 [1:49:30<13:13,  1.31it/s]2020-03-16 05:07:51,046 : INFO : wrote 158 events to disk\n",
      " 90%|█████████ | 8744/9704 [1:50:30<12:22,  1.29it/s]2020-03-16 05:08:51,773 : INFO : wrote 160 events to disk\n",
      " 91%|█████████ | 8824/9704 [1:51:31<11:10,  1.31it/s]2020-03-16 05:09:52,434 : INFO : wrote 160 events to disk\n",
      " 92%|█████████▏| 8903/9704 [1:52:31<10:14,  1.30it/s]2020-03-16 05:10:52,799 : INFO : wrote 158 events to disk\n",
      " 93%|█████████▎| 8983/9704 [1:53:32<09:13,  1.30it/s]2020-03-16 05:11:53,462 : INFO : wrote 160 events to disk\n",
      " 93%|█████████▎| 9000/9704 [1:53:45<09:00,  1.30it/s]"
     ]
    },
    {
     "name": "stdout",
     "output_type": "stream",
     "text": [
      "[Epoch 1 Batch 9000/9704] loss=0.3848, lr=0.0000050, acc=0.814 - time 0:06:20.015303\n"
     ]
    },
    {
     "name": "stderr",
     "output_type": "stream",
     "text": [
      " 93%|█████████▎| 9062/9704 [1:54:32<08:03,  1.33it/s]2020-03-16 05:12:53,611 : INFO : wrote 158 events to disk\n",
      " 94%|█████████▍| 9142/9704 [1:55:33<07:03,  1.33it/s]2020-03-16 05:13:54,064 : INFO : wrote 160 events to disk\n",
      " 95%|█████████▌| 9222/9704 [1:56:33<06:06,  1.32it/s]2020-03-16 05:14:54,572 : INFO : wrote 160 events to disk\n",
      " 96%|█████████▌| 9301/9704 [1:57:33<05:09,  1.30it/s]2020-03-16 05:15:54,572 : INFO : wrote 158 events to disk\n",
      " 97%|█████████▋| 9380/9704 [1:58:33<04:03,  1.33it/s]2020-03-16 05:16:54,766 : INFO : wrote 158 events to disk\n",
      " 97%|█████████▋| 9459/9704 [1:59:33<03:05,  1.32it/s]2020-03-16 05:17:54,868 : INFO : wrote 158 events to disk\n",
      " 98%|█████████▊| 9500/9704 [2:00:05<02:34,  1.32it/s]"
     ]
    },
    {
     "name": "stdout",
     "output_type": "stream",
     "text": [
      "[Epoch 1 Batch 9500/9704] loss=0.3769, lr=0.0000050, acc=0.814 - time 0:06:19.405313\n"
     ]
    },
    {
     "name": "stderr",
     "output_type": "stream",
     "text": [
      " 98%|█████████▊| 9539/9704 [2:00:34<02:05,  1.32it/s]2020-03-16 05:18:55,507 : INFO : wrote 160 events to disk\n",
      " 99%|█████████▉| 9619/9704 [2:01:35<01:04,  1.32it/s]2020-03-16 05:19:55,924 : INFO : wrote 160 events to disk\n",
      "100%|█████████▉| 9699/9704 [2:02:35<00:03,  1.32it/s]2020-03-16 05:20:56,660 : INFO : wrote 160 events to disk\n",
      "100%|██████████| 9704/9704 [2:02:39<00:00,  1.30it/s]\n"
     ]
    },
    {
     "name": "stdout",
     "output_type": "stream",
     "text": [
      "Time for [epoch 1]: 2:02:39.610529\n"
     ]
    },
    {
     "name": "stderr",
     "output_type": "stream",
     "text": [
      "\r",
      "  0%|          | 0/9704 [00:00<?, ?it/s]"
     ]
    },
    {
     "name": "stdout",
     "output_type": "stream",
     "text": [
      "Start on [epoch 2] ...\n"
     ]
    },
    {
     "name": "stderr",
     "output_type": "stream",
     "text": [
      "  1%|          | 74/9704 [00:56<2:00:22,  1.33it/s]2020-03-16 05:21:57,122 : INFO : wrote 158 events to disk\n",
      "  2%|▏         | 154/9704 [01:56<2:02:10,  1.30it/s]2020-03-16 05:22:57,725 : INFO : wrote 160 events to disk\n",
      "  2%|▏         | 233/9704 [02:56<2:01:38,  1.30it/s]2020-03-16 05:23:57,877 : INFO : wrote 158 events to disk\n",
      "  3%|▎         | 313/9704 [03:57<2:00:31,  1.30it/s]2020-03-16 05:24:58,205 : INFO : wrote 160 events to disk\n",
      "  4%|▍         | 393/9704 [04:57<1:57:21,  1.32it/s]2020-03-16 05:25:58,591 : INFO : wrote 160 events to disk\n",
      "  5%|▍         | 473/9704 [05:58<1:57:15,  1.31it/s]2020-03-16 05:26:59,264 : INFO : wrote 160 events to disk\n",
      "  5%|▌         | 500/9704 [06:18<1:53:10,  1.36it/s]"
     ]
    },
    {
     "name": "stdout",
     "output_type": "stream",
     "text": [
      "[Epoch 2 Batch 500/9704] loss=0.3512, lr=0.0000050, acc=0.836 - time 0:06:18.735440\n"
     ]
    },
    {
     "name": "stderr",
     "output_type": "stream",
     "text": [
      "  6%|▌         | 552/9704 [06:58<1:57:22,  1.30it/s]2020-03-16 05:27:59,319 : INFO : wrote 158 events to disk\n",
      "  7%|▋         | 631/9704 [07:58<1:56:39,  1.30it/s]2020-03-16 05:28:59,369 : INFO : wrote 158 events to disk\n",
      "  7%|▋         | 711/9704 [08:58<1:54:37,  1.31it/s]2020-03-16 05:29:59,948 : INFO : wrote 160 events to disk\n",
      "  8%|▊         | 791/9704 [09:59<1:48:29,  1.37it/s]2020-03-16 05:31:00,552 : INFO : wrote 160 events to disk\n",
      "  9%|▉         | 871/9704 [11:00<1:49:28,  1.34it/s]2020-03-16 05:32:01,043 : INFO : wrote 160 events to disk\n",
      " 10%|▉         | 950/9704 [12:00<1:52:00,  1.30it/s]2020-03-16 05:33:01,091 : INFO : wrote 158 events to disk\n",
      " 10%|█         | 1000/9704 [12:37<1:49:14,  1.33it/s]"
     ]
    },
    {
     "name": "stdout",
     "output_type": "stream",
     "text": [
      "[Epoch 2 Batch 1000/9704] loss=0.3515, lr=0.0000050, acc=0.835 - time 0:06:19.172657\n"
     ]
    },
    {
     "name": "stderr",
     "output_type": "stream",
     "text": [
      " 10%|█         | 1010/9704 [12:45<1:51:12,  1.30it/s]IOPub message rate exceeded.\n",
      "The notebook server will temporarily stop sending output\n",
      "to the client in order to avoid crashing it.\n",
      "To change this limit, set the config variable\n",
      "`--NotebookApp.iopub_msg_rate_limit`.\n",
      "\n",
      "Current values:\n",
      "NotebookApp.iopub_msg_rate_limit=1000.0 (msgs/sec)\n",
      "NotebookApp.rate_limit_window=3.0 (secs)\n",
      "\n"
     ]
    }
   ],
   "source": [
    "for epoch_id in range(num_epochs):\n",
    "    with Timer(f\"train model - {epoch_id}\"), SummaryWriter(logdir=str(fn_run_path), flush_secs=600) as sw:\n",
    "        stats = train(model, data_train, ctx, metric, loss_function, batch_size=batch_size, lr=5e-6, num_epochs=epoch_id + 1, sw=sw, checkpoint_dir=str(fn_run_path))\n",
    "        plot_train_stats(stats)\n",
    "\n",
    "    with Timer(f\"evaluate - {epoch_id}\"), SummaryWriter(logdir=str(fn_run_path), flush_secs=600) as sw:\n",
    "        all_predictions, cum_loss = predict(model, data_dev, ctx, metric, loss_function, batch_size=batch_size, sw=sw)\n",
    "        print(f\"Accuracy in epoch {epoch_id}:\", metric.get()[1])\n",
    "\n",
    "        y_true, y_pred = predict_out_to_ys(all_predictions, all_labels)\n",
    "        report_training_results(y_true, y_pred, name=f\"BERTClassifier - {run_name}\", heatmap=False)\n",
    "\n",
    "    model.save_parameters(str(fn_run_path / \"bert.model.params\"))"
   ]
  },
  {
   "cell_type": "markdown",
   "metadata": {},
   "source": [
    "##### Results with validation set (DEV set)"
   ]
  },
  {
   "cell_type": "code",
   "execution_count": 16,
   "metadata": {
    "ExecuteTime": {
     "end_time": "2020-03-16T09:17:19.613581Z",
     "start_time": "2020-03-16T08:59:12.670235Z"
    },
    "scrolled": true
   },
   "outputs": [
    {
     "name": "stderr",
     "output_type": "stream",
     "text": [
      "\r",
      "  0%|          | 0/1078 [00:00<?, ?it/s]"
     ]
    },
    {
     "name": "stdout",
     "output_type": "stream",
     "text": [
      "Start on [prediction] ...\n"
     ]
    },
    {
     "name": "stderr",
     "output_type": "stream",
     "text": [
      "100%|██████████| 1078/1078 [04:29<00:00,  4.55it/s]\n"
     ]
    },
    {
     "name": "stdout",
     "output_type": "stream",
     "text": [
      "Time for [prediction]: 0:04:29.455935\n",
      "Confusion Matrix:\n",
      "[[14101  3264]\n",
      " [ 3212 13910]]\n",
      "\n",
      "CM: [14101  3264  3212 13910] \n",
      "[tn, fp, fn, tp]\n",
      "  accuracy: 0.812\n",
      " precision: 0.812\n",
      "    recall: 0.812\n",
      "  f1-score: 0.812\n",
      "\n",
      "Accuracy:  0.812 \n",
      "\n",
      "Report for [BERTClassifier - yelp_1_pro128BCE]:\n",
      "              precision    recall  f1-score   support\n",
      "\n",
      "           0       0.81      0.81      0.81     17365\n",
      "           1       0.81      0.81      0.81     17122\n",
      "\n",
      "    accuracy                           0.81     34487\n",
      "   macro avg       0.81      0.81      0.81     34487\n",
      "weighted avg       0.81      0.81      0.81     34487\n",
      "\n"
     ]
    },
    {
     "data": {
      "image/png": "[encoded data removed]",
      "text/plain": [
       "<Figure size 432x288 with 1 Axes>"
      ]
     },
     "metadata": {
      "needs_background": "light"
     },
     "output_type": "display_data"
    },
    {
     "name": "stdout",
     "output_type": "stream",
     "text": [
      "Evaluate trained model for each epoch ...\n",
      "Load data/yelp_1_pro128BCE/bert.model.checkpoint0.params ...\n"
     ]
    },
    {
     "name": "stderr",
     "output_type": "stream",
     "text": [
      "\r",
      "  0%|          | 0/1078 [00:00<?, ?it/s]"
     ]
    },
    {
     "name": "stdout",
     "output_type": "stream",
     "text": [
      "Start on [prediction] ...\n"
     ]
    },
    {
     "name": "stderr",
     "output_type": "stream",
     "text": [
      "100%|██████████| 1078/1078 [04:30<00:00,  4.24it/s]\n"
     ]
    },
    {
     "name": "stdout",
     "output_type": "stream",
     "text": [
      "Time for [prediction]: 0:04:30.814807\n",
      "Confusion Matrix:\n",
      "[[13496  3869]\n",
      " [ 3024 14098]]\n",
      "\n",
      "CM: [13496  3869  3024 14098] \n",
      "[tn, fp, fn, tp]\n",
      "  accuracy: 0.800\n",
      " precision: 0.801\n",
      "    recall: 0.800\n",
      "  f1-score: 0.800\n",
      "\n",
      "Accuracy:  0.8 \n",
      "\n",
      "Report for [BERTClassifier - yelp_1_pro128BCE]:\n",
      "              precision    recall  f1-score   support\n",
      "\n",
      "           0       0.82      0.78      0.80     17365\n",
      "           1       0.78      0.82      0.80     17122\n",
      "\n",
      "    accuracy                           0.80     34487\n",
      "   macro avg       0.80      0.80      0.80     34487\n",
      "weighted avg       0.80      0.80      0.80     34487\n",
      "\n"
     ]
    },
    {
     "data": {
      "image/png": "[encoded data removed]",
      "text/plain": [
       "<Figure size 432x288 with 1 Axes>"
      ]
     },
     "metadata": {
      "needs_background": "light"
     },
     "output_type": "display_data"
    },
    {
     "name": "stdout",
     "output_type": "stream",
     "text": [
      "Load data/yelp_1_pro128BCE/bert.model.checkpoint1.params ...\n"
     ]
    },
    {
     "name": "stderr",
     "output_type": "stream",
     "text": [
      "\r",
      "  0%|          | 0/1078 [00:00<?, ?it/s]"
     ]
    },
    {
     "name": "stdout",
     "output_type": "stream",
     "text": [
      "Start on [prediction] ...\n"
     ]
    },
    {
     "name": "stderr",
     "output_type": "stream",
     "text": [
      "100%|██████████| 1078/1078 [04:30<00:00,  4.21it/s]\n"
     ]
    },
    {
     "name": "stdout",
     "output_type": "stream",
     "text": [
      "Time for [prediction]: 0:04:30.831155\n",
      "Confusion Matrix:\n",
      "[[13757  3608]\n",
      " [ 2933 14189]]\n",
      "\n",
      "CM: [13757  3608  2933 14189] \n",
      "[tn, fp, fn, tp]\n",
      "  accuracy: 0.810\n",
      " precision: 0.811\n",
      "    recall: 0.810\n",
      "  f1-score: 0.810\n",
      "\n",
      "Accuracy:  0.81 \n",
      "\n",
      "Report for [BERTClassifier - yelp_1_pro128BCE]:\n",
      "              precision    recall  f1-score   support\n",
      "\n",
      "           0       0.82      0.79      0.81     17365\n",
      "           1       0.80      0.83      0.81     17122\n",
      "\n",
      "    accuracy                           0.81     34487\n",
      "   macro avg       0.81      0.81      0.81     34487\n",
      "weighted avg       0.81      0.81      0.81     34487\n",
      "\n"
     ]
    },
    {
     "data": {
      "image/png": "[encoded data removed]",
      "text/plain": [
       "<Figure size 432x288 with 1 Axes>"
      ]
     },
     "metadata": {
      "needs_background": "light"
     },
     "output_type": "display_data"
    },
    {
     "name": "stdout",
     "output_type": "stream",
     "text": [
      "Load data/yelp_1_pro128BCE/bert.model.checkpoint2.params ...\n"
     ]
    },
    {
     "name": "stderr",
     "output_type": "stream",
     "text": [
      "\r",
      "  0%|          | 0/1078 [00:00<?, ?it/s]"
     ]
    },
    {
     "name": "stdout",
     "output_type": "stream",
     "text": [
      "Start on [prediction] ...\n"
     ]
    },
    {
     "name": "stderr",
     "output_type": "stream",
     "text": [
      "100%|██████████| 1078/1078 [04:33<00:00,  4.18it/s]\n"
     ]
    },
    {
     "name": "stdout",
     "output_type": "stream",
     "text": [
      "Time for [prediction]: 0:04:33.773247\n",
      "Confusion Matrix:\n",
      "[[14101  3264]\n",
      " [ 3212 13910]]\n",
      "\n",
      "CM: [14101  3264  3212 13910] \n",
      "[tn, fp, fn, tp]\n",
      "  accuracy: 0.812\n",
      " precision: 0.812\n",
      "    recall: 0.812\n",
      "  f1-score: 0.812\n",
      "\n",
      "Accuracy:  0.812 \n",
      "\n",
      "Report for [BERTClassifier - yelp_1_pro128BCE]:\n",
      "              precision    recall  f1-score   support\n",
      "\n",
      "           0       0.81      0.81      0.81     17365\n",
      "           1       0.81      0.81      0.81     17122\n",
      "\n",
      "    accuracy                           0.81     34487\n",
      "   macro avg       0.81      0.81      0.81     34487\n",
      "weighted avg       0.81      0.81      0.81     34487\n",
      "\n"
     ]
    },
    {
     "data": {
      "image/png": "[encoded data removed]",
      "text/plain": [
       "<Figure size 432x288 with 1 Axes>"
      ]
     },
     "metadata": {
      "needs_background": "light"
     },
     "output_type": "display_data"
    }
   ],
   "source": [
    "all_predictions, cum_loss = predict(model, data_dev, ctx, metric, loss_function, batch_size=batch_size)\n",
    "y_true, y_pred = predict_out_to_ys(all_predictions, all_labels)\n",
    "with open(fn_run_path / \"eval_untrained.p\", \"wb\") as fp:\n",
    "    pickle.dump(y_true, fp, protocol=pickle.HIGHEST_PROTOCOL)\n",
    "    pickle.dump(y_pred, fp, protocol=pickle.HIGHEST_PROTOCOL)\n",
    "report_training_results(y_true, y_pred, name=f\"BERTClassifier - {run_name}\", heatmap=False)\n",
    "plot_confusion_matrix(y_true, y_pred, labels=[0, 1], title=f\"{run_name} Untrained\", values_format=\"d\", cmap=\"Blues\", include_colorbar=False)\n",
    "plt.show()\n",
    "\n",
    "print(\"Evaluate trained model for each epoch ...\")\n",
    "for epoch_id in range(num_epochs):\n",
    "    fn_model_state = fn_run_path / f\"bert.model.checkpoint{epoch_id}.params\"\n",
    "    print(f\"Load {fn_model_state} ...\")\n",
    "    model.load_parameters(str(fn_model_state), ctx=ctx)\n",
    "    all_predictions, cum_loss = predict(model, data_dev, ctx, metric, loss_function, batch_size=batch_size)\n",
    "    y_true, y_pred = predict_out_to_ys(all_predictions, all_labels)\n",
    "    with open(fn_run_path / f\"eval_epoch{epoch_id}.p\", \"wb\") as fp:\n",
    "        pickle.dump(y_true, fp, protocol=pickle.HIGHEST_PROTOCOL)\n",
    "        pickle.dump(y_pred, fp, protocol=pickle.HIGHEST_PROTOCOL)\n",
    "    report_training_results(y_true, y_pred, name=f\"BERTClassifier - {run_name}\", heatmap=False)\n",
    "    plot_confusion_matrix(y_true, y_pred, labels=[0, 1], title=f\"Yelp 1 Epoch {epoch_id}\", values_format=\"d\", cmap=\"Blues\", include_colorbar=False)\n",
    "    plt.show()"
   ]
  },
  {
   "cell_type": "markdown",
   "metadata": {},
   "source": [
    "##### Validate with TEST set (usually hidden y_true)"
   ]
  },
  {
   "cell_type": "code",
   "execution_count": 19,
   "metadata": {
    "ExecuteTime": {
     "end_time": "2020-03-16T09:24:14.532038Z",
     "start_time": "2020-03-16T09:24:06.341849Z"
    }
   },
   "outputs": [],
   "source": [
    "from utils_data import names_columns_X, names_columns_y\n",
    "\n",
    "X_test = test_df[names_columns_X]\n",
    "y_test = test_df[names_columns_y]\n",
    "data_test_raw, data_test = transform_dataset(X_test, y_test, transform)"
   ]
  },
  {
   "cell_type": "code",
   "execution_count": null,
   "metadata": {
    "ExecuteTime": {
     "end_time": "2020-03-16T09:56:55.087283Z",
     "start_time": "2020-03-16T09:36:51.476827Z"
    },
    "scrolled": true
   },
   "outputs": [],
   "source": [
    "epoch_id = num_epochs - 1\n",
    "model.load_parameters(str(fn_run_path / f\"bert.model.checkpoint{epoch_id}.params\"), ctx=ctx)\n",
    "\n",
    "all_predictions, cum_loss = predict(model, data_test, ctx, metric, loss_function, batch_size=batch_size, sw=sw)\n",
    "print(\"Accuracy:\", metric.get()[1])\n",
    "\n",
    "y_true, y_pred = predict_out_to_ys(all_predictions, all_labels)\n",
    "report_training_results(y_true, y_pred, name=f\"BERTClassifier - {run_name}\", heatmap=True)\n",
    "plot_confusion_matrix(y_true, y_pred, labels=[0, 1], title=f\"Yelp {num_epochs} Epochs\", values_format=\"d\", cmap=\"Blues\", include_colorbar=False)\n",
    "plt.show()"
   ]
  },
  {
   "cell_type": "code",
   "execution_count": 23,
   "metadata": {
    "ExecuteTime": {
     "end_time": "2020-03-16T09:58:43.494575Z",
     "start_time": "2020-03-16T09:58:41.802601Z"
    }
   },
   "outputs": [
    {
     "name": "stdout",
     "output_type": "stream",
     "text": [
      "Accuracy: 0.8129431664411366\n",
      "Confusion Matrix:\n",
      "[[60399 13871]\n",
      " [13776 59754]]\n",
      "\n",
      "CM: [60399 13871 13776 59754] \n",
      "[tn, fp, fn, tp]\n",
      "  accuracy: 0.813\n",
      " precision: 0.813\n",
      "    recall: 0.813\n",
      "  f1-score: 0.813\n"
     ]
    },
    {
     "data": {
      "image/svg+xml": [
       "<?xml version=\"1.0\" encoding=\"utf-8\" standalone=\"no\"?>\n",
       "<!DOCTYPE svg PUBLIC \"-//W3C//DTD SVG 1.1//EN\"\n",
       "  \"http://www.w3.org/Graphics/SVG/1.1/DTD/svg11.dtd\">\n",
       "<!-- Created with matplotlib (https://matplotlib.org/) -->\n",
       "<svg height=\"369.028906pt\" version=\"1.1\" viewBox=\"0 0 545.068906 369.028906\" width=\"545.068906pt\" xmlns=\"http://www.w3.org/2000/svg\" xmlns:xlink=\"http://www.w3.org/1999/xlink\">\n",
       " <defs>\n",
       "  <style type=\"text/css\">\n",
       "*{stroke-linecap:butt;stroke-linejoin:round;white-space:pre;}\n",
       "  </style>\n",
       " </defs>\n",
       " <g id=\"figure_1\">\n",
       "  <g id=\"patch_1\">\n",
       "   <path d=\"M 0 369.028906 \n",
       "L 545.068906 369.028906 \n",
       "L 545.068906 0 \n",
       "L 0 0 \n",
       "z\n",
       "\" style=\"fill:none;\"/>\n",
       "  </g>\n",
       "  <g id=\"axes_1\">\n",
       "   <g id=\"patch_2\">\n",
       "    <path d=\"M 35.668906 333.36 \n",
       "L 537.868906 333.36 \n",
       "L 537.868906 7.2 \n",
       "L 35.668906 7.2 \n",
       "z\n",
       "\" style=\"fill:#ffffff;\"/>\n",
       "   </g>\n",
       "   <g id=\"QuadMesh_1\">\n",
       "    <path clip-path=\"url(#pdb002123c5)\" d=\"M 35.668906 7.2 \n",
       "L 286.768906 7.2 \n",
       "L 286.768906 170.28 \n",
       "L 35.668906 170.28 \n",
       "L 35.668906 7.2 \n",
       "\"/>\n",
       "    <path clip-path=\"url(#pdb002123c5)\" d=\"M 286.768906 7.2 \n",
       "L 537.868906 7.2 \n",
       "L 537.868906 170.28 \n",
       "L 286.768906 170.28 \n",
       "L 286.768906 7.2 \n",
       "\" style=\"fill:#fdfbfb;\"/>\n",
       "    <path clip-path=\"url(#pdb002123c5)\" d=\"M 35.668906 170.28 \n",
       "L 286.768906 170.28 \n",
       "L 286.768906 333.36 \n",
       "L 35.668906 333.36 \n",
       "L 35.668906 170.28 \n",
       "\" style=\"fill:#fdfbfb;\"/>\n",
       "    <path clip-path=\"url(#pdb002123c5)\" d=\"M 286.768906 170.28 \n",
       "L 537.868906 170.28 \n",
       "L 537.868906 333.36 \n",
       "L 286.768906 333.36 \n",
       "L 286.768906 170.28 \n",
       "\" style=\"fill:#020043;\"/>\n",
       "   </g>\n",
       "   <g id=\"matplotlib.axis_1\">\n",
       "    <g id=\"xtick_1\">\n",
       "     <g id=\"line2d_1\">\n",
       "      <defs>\n",
       "       <path d=\"M 0 0 \n",
       "L 0 9 \n",
       "\" id=\"m8e9803176f\" style=\"stroke:#000000;stroke-width:1.875;\"/>\n",
       "      </defs>\n",
       "      <g>\n",
       "       <use style=\"stroke:#000000;stroke-width:1.875;\" x=\"161.218906\" xlink:href=\"#m8e9803176f\" y=\"333.36\"/>\n",
       "      </g>\n",
       "     </g>\n",
       "     <g id=\"text_1\">\n",
       "      <!-- 0 -->\n",
       "      <defs>\n",
       "       <path d=\"M 46 36.53125 \n",
       "Q 46 50.203125 43.4375 55.78125 \n",
       "Q 40.875 61.375 34.8125 61.375 \n",
       "Q 28.765625 61.375 26.171875 55.78125 \n",
       "Q 23.578125 50.203125 23.578125 36.53125 \n",
       "Q 23.578125 22.703125 26.171875 17.03125 \n",
       "Q 28.765625 11.375 34.8125 11.375 \n",
       "Q 40.828125 11.375 43.40625 17.03125 \n",
       "Q 46 22.703125 46 36.53125 \n",
       "z\n",
       "M 64.796875 36.375 \n",
       "Q 64.796875 18.265625 56.984375 8.421875 \n",
       "Q 49.171875 -1.421875 34.8125 -1.421875 \n",
       "Q 20.40625 -1.421875 12.59375 8.421875 \n",
       "Q 4.78125 18.265625 4.78125 36.375 \n",
       "Q 4.78125 54.546875 12.59375 64.375 \n",
       "Q 20.40625 74.21875 34.8125 74.21875 \n",
       "Q 49.171875 74.21875 56.984375 64.375 \n",
       "Q 64.796875 54.546875 64.796875 36.375 \n",
       "z\n",
       "\" id=\"DejaVuSans-Bold-48\"/>\n",
       "      </defs>\n",
       "      <g transform=\"translate(155.478711 358.397422)scale(0.165 -0.165)\">\n",
       "       <use xlink:href=\"#DejaVuSans-Bold-48\"/>\n",
       "      </g>\n",
       "     </g>\n",
       "    </g>\n",
       "    <g id=\"xtick_2\">\n",
       "     <g id=\"line2d_2\">\n",
       "      <g>\n",
       "       <use style=\"stroke:#000000;stroke-width:1.875;\" x=\"412.318906\" xlink:href=\"#m8e9803176f\" y=\"333.36\"/>\n",
       "      </g>\n",
       "     </g>\n",
       "     <g id=\"text_2\">\n",
       "      <!-- 1 -->\n",
       "      <defs>\n",
       "       <path d=\"M 11.71875 12.984375 \n",
       "L 28.328125 12.984375 \n",
       "L 28.328125 60.109375 \n",
       "L 11.28125 56.59375 \n",
       "L 11.28125 69.390625 \n",
       "L 28.21875 72.90625 \n",
       "L 46.09375 72.90625 \n",
       "L 46.09375 12.984375 \n",
       "L 62.703125 12.984375 \n",
       "L 62.703125 0 \n",
       "L 11.71875 0 \n",
       "z\n",
       "\" id=\"DejaVuSans-Bold-49\"/>\n",
       "      </defs>\n",
       "      <g transform=\"translate(406.578711 358.397422)scale(0.165 -0.165)\">\n",
       "       <use xlink:href=\"#DejaVuSans-Bold-49\"/>\n",
       "      </g>\n",
       "     </g>\n",
       "    </g>\n",
       "   </g>\n",
       "   <g id=\"matplotlib.axis_2\">\n",
       "    <g id=\"ytick_1\">\n",
       "     <g id=\"line2d_3\">\n",
       "      <defs>\n",
       "       <path d=\"M 0 0 \n",
       "L -9 0 \n",
       "\" id=\"m9f9acc4608\" style=\"stroke:#000000;stroke-width:1.875;\"/>\n",
       "      </defs>\n",
       "      <g>\n",
       "       <use style=\"stroke:#000000;stroke-width:1.875;\" x=\"35.668906\" xlink:href=\"#m9f9acc4608\" y=\"88.74\"/>\n",
       "      </g>\n",
       "     </g>\n",
       "     <g id=\"text_3\">\n",
       "      <!-- 0 -->\n",
       "      <g transform=\"translate(19.737422 93.95168)rotate(-90)scale(0.165 -0.165)\">\n",
       "       <use xlink:href=\"#DejaVuSans-Bold-48\"/>\n",
       "      </g>\n",
       "     </g>\n",
       "    </g>\n",
       "    <g id=\"ytick_2\">\n",
       "     <g id=\"line2d_4\">\n",
       "      <g>\n",
       "       <use style=\"stroke:#000000;stroke-width:1.875;\" x=\"35.668906\" xlink:href=\"#m9f9acc4608\" y=\"251.82\"/>\n",
       "      </g>\n",
       "     </g>\n",
       "     <g id=\"text_4\">\n",
       "      <!-- 1 -->\n",
       "      <g transform=\"translate(19.737422 257.03168)rotate(-90)scale(0.165 -0.165)\">\n",
       "       <use xlink:href=\"#DejaVuSans-Bold-49\"/>\n",
       "      </g>\n",
       "     </g>\n",
       "    </g>\n",
       "   </g>\n",
       "   <g id=\"text_5\">\n",
       "    <!-- 60399 -->\n",
       "    <defs>\n",
       "     <path d=\"M 36.1875 35.984375 \n",
       "Q 31.25 35.984375 28.78125 32.78125 \n",
       "Q 26.3125 29.59375 26.3125 23.1875 \n",
       "Q 26.3125 16.796875 28.78125 13.59375 \n",
       "Q 31.25 10.40625 36.1875 10.40625 \n",
       "Q 41.15625 10.40625 43.625 13.59375 \n",
       "Q 46.09375 16.796875 46.09375 23.1875 \n",
       "Q 46.09375 29.59375 43.625 32.78125 \n",
       "Q 41.15625 35.984375 36.1875 35.984375 \n",
       "z\n",
       "M 59.421875 71 \n",
       "L 59.421875 57.515625 \n",
       "Q 54.78125 59.71875 50.671875 60.765625 \n",
       "Q 46.578125 61.8125 42.671875 61.8125 \n",
       "Q 34.28125 61.8125 29.59375 57.140625 \n",
       "Q 24.90625 52.484375 24.125 43.3125 \n",
       "Q 27.34375 45.703125 31.09375 46.890625 \n",
       "Q 34.859375 48.09375 39.3125 48.09375 \n",
       "Q 50.484375 48.09375 57.34375 41.546875 \n",
       "Q 64.203125 35.015625 64.203125 24.421875 \n",
       "Q 64.203125 12.703125 56.53125 5.640625 \n",
       "Q 48.875 -1.421875 35.984375 -1.421875 \n",
       "Q 21.78125 -1.421875 13.984375 8.171875 \n",
       "Q 6.203125 17.78125 6.203125 35.40625 \n",
       "Q 6.203125 53.46875 15.3125 63.796875 \n",
       "Q 24.421875 74.125 40.28125 74.125 \n",
       "Q 45.3125 74.125 50.046875 73.34375 \n",
       "Q 54.78125 72.5625 59.421875 71 \n",
       "z\n",
       "\" id=\"DejaVuSans-Bold-54\"/>\n",
       "     <path d=\"M 46.578125 39.3125 \n",
       "Q 53.953125 37.40625 57.78125 32.6875 \n",
       "Q 61.625 27.984375 61.625 20.703125 \n",
       "Q 61.625 9.859375 53.3125 4.21875 \n",
       "Q 45.015625 -1.421875 29.109375 -1.421875 \n",
       "Q 23.484375 -1.421875 17.84375 -0.515625 \n",
       "Q 12.203125 0.390625 6.6875 2.203125 \n",
       "L 6.6875 16.703125 \n",
       "Q 11.96875 14.0625 17.15625 12.71875 \n",
       "Q 22.359375 11.375 27.390625 11.375 \n",
       "Q 34.859375 11.375 38.84375 13.953125 \n",
       "Q 42.828125 16.546875 42.828125 21.390625 \n",
       "Q 42.828125 26.375 38.75 28.9375 \n",
       "Q 34.671875 31.5 26.703125 31.5 \n",
       "L 19.1875 31.5 \n",
       "L 19.1875 43.609375 \n",
       "L 27.09375 43.609375 \n",
       "Q 34.1875 43.609375 37.640625 45.828125 \n",
       "Q 41.109375 48.046875 41.109375 52.59375 \n",
       "Q 41.109375 56.78125 37.734375 59.078125 \n",
       "Q 34.375 61.375 28.21875 61.375 \n",
       "Q 23.6875 61.375 19.046875 60.34375 \n",
       "Q 14.40625 59.328125 9.8125 57.328125 \n",
       "L 9.8125 71.09375 \n",
       "Q 15.375 72.65625 20.84375 73.4375 \n",
       "Q 26.3125 74.21875 31.59375 74.21875 \n",
       "Q 45.796875 74.21875 52.84375 69.546875 \n",
       "Q 59.90625 64.890625 59.90625 55.515625 \n",
       "Q 59.90625 49.125 56.53125 45.046875 \n",
       "Q 53.171875 40.96875 46.578125 39.3125 \n",
       "z\n",
       "\" id=\"DejaVuSans-Bold-51\"/>\n",
       "     <path d=\"M 10.015625 1.609375 \n",
       "L 10.015625 15.09375 \n",
       "Q 14.5 12.984375 18.59375 11.9375 \n",
       "Q 22.703125 10.890625 26.703125 10.890625 \n",
       "Q 35.109375 10.890625 39.796875 15.546875 \n",
       "Q 44.484375 20.21875 45.3125 29.390625 \n",
       "Q 42 26.953125 38.234375 25.734375 \n",
       "Q 34.46875 24.515625 30.078125 24.515625 \n",
       "Q 18.890625 24.515625 12.03125 31.03125 \n",
       "Q 5.171875 37.546875 5.171875 48.1875 \n",
       "Q 5.171875 59.96875 12.8125 67.046875 \n",
       "Q 20.453125 74.125 33.296875 74.125 \n",
       "Q 47.5625 74.125 55.375 64.5 \n",
       "Q 63.1875 54.890625 63.1875 37.3125 \n",
       "Q 63.1875 19.234375 54.046875 8.90625 \n",
       "Q 44.921875 -1.421875 29 -1.421875 \n",
       "Q 23.875 -1.421875 19.1875 -0.65625 \n",
       "Q 14.5 0.09375 10.015625 1.609375 \n",
       "z\n",
       "M 33.203125 36.71875 \n",
       "Q 38.140625 36.71875 40.625 39.90625 \n",
       "Q 43.109375 43.109375 43.109375 49.515625 \n",
       "Q 43.109375 55.859375 40.625 59.078125 \n",
       "Q 38.140625 62.3125 33.203125 62.3125 \n",
       "Q 28.265625 62.3125 25.78125 59.078125 \n",
       "Q 23.296875 55.859375 23.296875 49.515625 \n",
       "Q 23.296875 43.109375 25.78125 39.90625 \n",
       "Q 28.265625 36.71875 33.203125 36.71875 \n",
       "z\n",
       "\" id=\"DejaVuSans-Bold-57\"/>\n",
       "    </defs>\n",
       "    <g style=\"fill:#ffffff;\" transform=\"translate(129.90875 93.706875)scale(0.18 -0.18)\">\n",
       "     <use xlink:href=\"#DejaVuSans-Bold-54\"/>\n",
       "     <use x=\"69.580078\" xlink:href=\"#DejaVuSans-Bold-48\"/>\n",
       "     <use x=\"139.160156\" xlink:href=\"#DejaVuSans-Bold-51\"/>\n",
       "     <use x=\"208.740234\" xlink:href=\"#DejaVuSans-Bold-57\"/>\n",
       "     <use x=\"278.320312\" xlink:href=\"#DejaVuSans-Bold-57\"/>\n",
       "    </g>\n",
       "   </g>\n",
       "   <g id=\"text_6\">\n",
       "    <!-- 13871 -->\n",
       "    <defs>\n",
       "     <path d=\"M 34.8125 32.625 \n",
       "Q 29.546875 32.625 26.703125 29.734375 \n",
       "Q 23.875 26.859375 23.875 21.484375 \n",
       "Q 23.875 16.109375 26.703125 13.25 \n",
       "Q 29.546875 10.40625 34.8125 10.40625 \n",
       "Q 40.046875 10.40625 42.828125 13.25 \n",
       "Q 45.609375 16.109375 45.609375 21.484375 \n",
       "Q 45.609375 26.90625 42.828125 29.765625 \n",
       "Q 40.046875 32.625 34.8125 32.625 \n",
       "z\n",
       "M 21.09375 38.8125 \n",
       "Q 14.453125 40.828125 11.078125 44.96875 \n",
       "Q 7.71875 49.125 7.71875 55.328125 \n",
       "Q 7.71875 64.546875 14.59375 69.375 \n",
       "Q 21.484375 74.21875 34.8125 74.21875 \n",
       "Q 48.046875 74.21875 54.921875 69.40625 \n",
       "Q 61.8125 64.59375 61.8125 55.328125 \n",
       "Q 61.8125 49.125 58.421875 44.96875 \n",
       "Q 55.03125 40.828125 48.390625 38.8125 \n",
       "Q 55.8125 36.765625 59.59375 32.15625 \n",
       "Q 63.375 27.546875 63.375 20.515625 \n",
       "Q 63.375 9.671875 56.171875 4.125 \n",
       "Q 48.96875 -1.421875 34.8125 -1.421875 \n",
       "Q 20.609375 -1.421875 13.359375 4.125 \n",
       "Q 6.109375 9.671875 6.109375 20.515625 \n",
       "Q 6.109375 27.546875 9.890625 32.15625 \n",
       "Q 13.671875 36.765625 21.09375 38.8125 \n",
       "z\n",
       "M 25.484375 53.421875 \n",
       "Q 25.484375 49.078125 27.90625 46.734375 \n",
       "Q 30.328125 44.390625 34.8125 44.390625 \n",
       "Q 39.203125 44.390625 41.59375 46.734375 \n",
       "Q 44 49.078125 44 53.421875 \n",
       "Q 44 57.765625 41.59375 60.078125 \n",
       "Q 39.203125 62.40625 34.8125 62.40625 \n",
       "Q 30.328125 62.40625 27.90625 60.0625 \n",
       "Q 25.484375 57.71875 25.484375 53.421875 \n",
       "z\n",
       "\" id=\"DejaVuSans-Bold-56\"/>\n",
       "     <path d=\"M 6.6875 72.90625 \n",
       "L 61.625 72.90625 \n",
       "L 61.625 62.3125 \n",
       "L 33.203125 0 \n",
       "L 14.890625 0 \n",
       "L 41.796875 59.078125 \n",
       "L 6.6875 59.078125 \n",
       "z\n",
       "\" id=\"DejaVuSans-Bold-55\"/>\n",
       "    </defs>\n",
       "    <g style=\"fill:#262626;\" transform=\"translate(381.00875 93.706875)scale(0.18 -0.18)\">\n",
       "     <use xlink:href=\"#DejaVuSans-Bold-49\"/>\n",
       "     <use x=\"69.580078\" xlink:href=\"#DejaVuSans-Bold-51\"/>\n",
       "     <use x=\"139.160156\" xlink:href=\"#DejaVuSans-Bold-56\"/>\n",
       "     <use x=\"208.740234\" xlink:href=\"#DejaVuSans-Bold-55\"/>\n",
       "     <use x=\"278.320312\" xlink:href=\"#DejaVuSans-Bold-49\"/>\n",
       "    </g>\n",
       "   </g>\n",
       "   <g id=\"text_7\">\n",
       "    <!-- 13776 -->\n",
       "    <g style=\"fill:#262626;\" transform=\"translate(129.90875 256.786875)scale(0.18 -0.18)\">\n",
       "     <use xlink:href=\"#DejaVuSans-Bold-49\"/>\n",
       "     <use x=\"69.580078\" xlink:href=\"#DejaVuSans-Bold-51\"/>\n",
       "     <use x=\"139.160156\" xlink:href=\"#DejaVuSans-Bold-55\"/>\n",
       "     <use x=\"208.740234\" xlink:href=\"#DejaVuSans-Bold-55\"/>\n",
       "     <use x=\"278.320312\" xlink:href=\"#DejaVuSans-Bold-54\"/>\n",
       "    </g>\n",
       "   </g>\n",
       "   <g id=\"text_8\">\n",
       "    <!-- 59754 -->\n",
       "    <defs>\n",
       "     <path d=\"M 10.59375 72.90625 \n",
       "L 57.328125 72.90625 \n",
       "L 57.328125 59.078125 \n",
       "L 25.59375 59.078125 \n",
       "L 25.59375 47.796875 \n",
       "Q 27.734375 48.390625 29.90625 48.703125 \n",
       "Q 32.078125 49.03125 34.421875 49.03125 \n",
       "Q 47.75 49.03125 55.171875 42.359375 \n",
       "Q 62.59375 35.6875 62.59375 23.78125 \n",
       "Q 62.59375 11.96875 54.515625 5.265625 \n",
       "Q 46.4375 -1.421875 32.078125 -1.421875 \n",
       "Q 25.875 -1.421875 19.796875 -0.21875 \n",
       "Q 13.71875 0.984375 7.71875 3.421875 \n",
       "L 7.71875 18.21875 \n",
       "Q 13.671875 14.796875 19.015625 13.078125 \n",
       "Q 24.359375 11.375 29.109375 11.375 \n",
       "Q 35.9375 11.375 39.859375 14.71875 \n",
       "Q 43.796875 18.0625 43.796875 23.78125 \n",
       "Q 43.796875 29.546875 39.859375 32.859375 \n",
       "Q 35.9375 36.1875 29.109375 36.1875 \n",
       "Q 25.046875 36.1875 20.453125 35.125 \n",
       "Q 15.875 34.078125 10.59375 31.890625 \n",
       "z\n",
       "\" id=\"DejaVuSans-Bold-53\"/>\n",
       "     <path d=\"M 36.8125 57.421875 \n",
       "L 16.21875 26.90625 \n",
       "L 36.8125 26.90625 \n",
       "z\n",
       "M 33.6875 72.90625 \n",
       "L 54.59375 72.90625 \n",
       "L 54.59375 26.90625 \n",
       "L 64.984375 26.90625 \n",
       "L 64.984375 13.28125 \n",
       "L 54.59375 13.28125 \n",
       "L 54.59375 0 \n",
       "L 36.8125 0 \n",
       "L 36.8125 13.28125 \n",
       "L 4.5 13.28125 \n",
       "L 4.5 29.390625 \n",
       "z\n",
       "\" id=\"DejaVuSans-Bold-52\"/>\n",
       "    </defs>\n",
       "    <g style=\"fill:#ffffff;\" transform=\"translate(381.00875 256.786875)scale(0.18 -0.18)\">\n",
       "     <use xlink:href=\"#DejaVuSans-Bold-53\"/>\n",
       "     <use x=\"69.580078\" xlink:href=\"#DejaVuSans-Bold-57\"/>\n",
       "     <use x=\"139.160156\" xlink:href=\"#DejaVuSans-Bold-55\"/>\n",
       "     <use x=\"208.740234\" xlink:href=\"#DejaVuSans-Bold-53\"/>\n",
       "     <use x=\"278.320312\" xlink:href=\"#DejaVuSans-Bold-52\"/>\n",
       "    </g>\n",
       "   </g>\n",
       "  </g>\n",
       " </g>\n",
       " <defs>\n",
       "  <clipPath id=\"pdb002123c5\">\n",
       "   <rect height=\"326.16\" width=\"502.2\" x=\"35.668906\" y=\"7.2\"/>\n",
       "  </clipPath>\n",
       " </defs>\n",
       "</svg>\n"
      ],
      "text/plain": [
       "<Figure size 648x432 with 1 Axes>"
      ]
     },
     "metadata": {
      "needs_background": "light"
     },
     "output_type": "display_data"
    },
    {
     "name": "stdout",
     "output_type": "stream",
     "text": [
      "\n",
      "Accuracy:  0.813 \n",
      "\n",
      "Report for [BERTClassifier - yelp_1_pro128BCE]:\n",
      "              precision    recall  f1-score   support\n",
      "\n",
      "           0       0.81      0.81      0.81     74270\n",
      "           1       0.81      0.81      0.81     73530\n",
      "\n",
      "    accuracy                           0.81    147800\n",
      "   macro avg       0.81      0.81      0.81    147800\n",
      "weighted avg       0.81      0.81      0.81    147800\n",
      "\n"
     ]
    },
    {
     "data": {
      "image/svg+xml": [
       "<?xml version=\"1.0\" encoding=\"utf-8\" standalone=\"no\"?>\n",
       "<!DOCTYPE svg PUBLIC \"-//W3C//DTD SVG 1.1//EN\"\n",
       "  \"http://www.w3.org/Graphics/SVG/1.1/DTD/svg11.dtd\">\n",
       "<!-- Created with matplotlib (https://matplotlib.org/) -->\n",
       "<svg height=\"310.529531pt\" version=\"1.1\" viewBox=\"0 0 277.241016 310.529531\" width=\"277.241016pt\" xmlns=\"http://www.w3.org/2000/svg\" xmlns:xlink=\"http://www.w3.org/1999/xlink\">\n",
       " <defs>\n",
       "  <style type=\"text/css\">\n",
       "*{stroke-linecap:butt;stroke-linejoin:round;white-space:pre;}\n",
       "  </style>\n",
       " </defs>\n",
       " <g id=\"figure_1\">\n",
       "  <g id=\"patch_1\">\n",
       "   <path d=\"M 0 310.529531 \n",
       "L 277.241016 310.529531 \n",
       "L 277.241016 0 \n",
       "L 0 0 \n",
       "z\n",
       "\" style=\"fill:none;\"/>\n",
       "  </g>\n",
       "  <g id=\"axes_1\">\n",
       "   <g id=\"patch_2\">\n",
       "    <path d=\"M 52.601016 253.44 \n",
       "L 270.041016 253.44 \n",
       "L 270.041016 36 \n",
       "L 52.601016 36 \n",
       "z\n",
       "\" style=\"fill:#ffffff;\"/>\n",
       "   </g>\n",
       "   <g clip-path=\"url(#pc3d8974aa0)\">\n",
       "    <image height=\"218\" id=\"image010724820f\" transform=\"scale(1 -1)translate(0 -218)\" width=\"218\" x=\"52.601016\" xlink:href=\"data:image/png;base64,\n",
       "iVBORw0KGgoAAAANSUhEUgAAANoAAADaCAYAAADAHVzbAAAABHNCSVQICAgIfAhkiAAAAplJREFUeJzt1aERAkEABEEehSUTJDlhCOaz+mCQCMQRw5m5ouiOYM3Ubu/PGCd+yvX+XD2BSefVA+AfCA0CQoOA0CAgNAgIDQJCg4DQICA0CAgNAkKDgNAgIDQICA0CQoOA0CAgNAgIDQJCg4DQICA0CAgNAkKDgNAgIDQICA0CQoOA0CAgNAgIDQJCg4DQICA0CAgNAkKDgNAgIDQICA0CQoOA0CAgNAgIDQJCg4DQICA0CAgNAkKDgNAgIDQICA0CQoOA0CAgNAgIDQJCg4DQICA0CAgNAkKDgNAgIDQICA0CQoOA0CAgNAgIDQJCg4DQICA0CAgNAkKDgNAgIDQICA0CQoOA0CAgNAgIDQJCg4DQICA0CAgNAkKDgNAgIDQICA0CQoOA0CAgNAgIDQJCg4DQICA0CAgNAkKDgNAgIDQICA0CQoOA0CAgNAgIDQJCg4DQICA0CAgNAkKDgNAgsF1uj7F6BHNex756ApM8GgSEBgGhQUBoEBAaBIQGAaFBQGgQEBoEhAYBoUFAaBAQGgSEBgGhQUBoEBAaBIQGAaFBQGgQEBoEhAYBoUFAaBAQGgSEBgGhQUBoEBAaBIQGAaFBQGgQEBoEhAYBoUFAaBAQGgSEBgGhQUBoEBAaBIQGAaFBQGgQEBoEhAYBoUFAaBAQGgSEBgGhQUBoEBAaBIQGAaFBQGgQEBoEhAYBoUFAaBAQGgSEBgGhQUBoEBAaBIQGAaFBQGgQEBoEhAYBoUFAaBAQGgSEBgGhQUBoEBAaBIQGAaFBQGgQEBoEhAYBoUFAaBAQGgSEBgGhQUBoEBAaBIQGAaFBQGgQEBoEhAYBoUFAaBAQGgSEBgGhQUBoEBAaBIQGAaFBQGgQEBoEhAYBoUFAaBD4ApHECkykkj9hAAAAAElFTkSuQmCC\" y=\"-35.44\"/>\n",
       "   </g>\n",
       "   <g id=\"matplotlib.axis_1\">\n",
       "    <g id=\"xtick_1\">\n",
       "     <g id=\"line2d_1\">\n",
       "      <defs>\n",
       "       <path d=\"M 0 0 \n",
       "L 0 9 \n",
       "\" id=\"mf7403abf1c\" style=\"stroke:#000000;stroke-width:1.875;\"/>\n",
       "      </defs>\n",
       "      <g>\n",
       "       <use style=\"stroke:#000000;stroke-width:1.875;\" x=\"106.961016\" xlink:href=\"#mf7403abf1c\" y=\"253.44\"/>\n",
       "      </g>\n",
       "     </g>\n",
       "     <g id=\"text_1\">\n",
       "      <!-- 0 -->\n",
       "      <defs>\n",
       "       <path d=\"M 46 36.53125 \n",
       "Q 46 50.203125 43.4375 55.78125 \n",
       "Q 40.875 61.375 34.8125 61.375 \n",
       "Q 28.765625 61.375 26.171875 55.78125 \n",
       "Q 23.578125 50.203125 23.578125 36.53125 \n",
       "Q 23.578125 22.703125 26.171875 17.03125 \n",
       "Q 28.765625 11.375 34.8125 11.375 \n",
       "Q 40.828125 11.375 43.40625 17.03125 \n",
       "Q 46 22.703125 46 36.53125 \n",
       "z\n",
       "M 64.796875 36.375 \n",
       "Q 64.796875 18.265625 56.984375 8.421875 \n",
       "Q 49.171875 -1.421875 34.8125 -1.421875 \n",
       "Q 20.40625 -1.421875 12.59375 8.421875 \n",
       "Q 4.78125 18.265625 4.78125 36.375 \n",
       "Q 4.78125 54.546875 12.59375 64.375 \n",
       "Q 20.40625 74.21875 34.8125 74.21875 \n",
       "Q 49.171875 74.21875 56.984375 64.375 \n",
       "Q 64.796875 54.546875 64.796875 36.375 \n",
       "z\n",
       "\" id=\"DejaVuSans-Bold-48\"/>\n",
       "      </defs>\n",
       "      <g transform=\"translate(101.22082 278.477422)scale(0.165 -0.165)\">\n",
       "       <use xlink:href=\"#DejaVuSans-Bold-48\"/>\n",
       "      </g>\n",
       "     </g>\n",
       "    </g>\n",
       "    <g id=\"xtick_2\">\n",
       "     <g id=\"line2d_2\">\n",
       "      <g>\n",
       "       <use style=\"stroke:#000000;stroke-width:1.875;\" x=\"215.681016\" xlink:href=\"#mf7403abf1c\" y=\"253.44\"/>\n",
       "      </g>\n",
       "     </g>\n",
       "     <g id=\"text_2\">\n",
       "      <!-- 1 -->\n",
       "      <defs>\n",
       "       <path d=\"M 11.71875 12.984375 \n",
       "L 28.328125 12.984375 \n",
       "L 28.328125 60.109375 \n",
       "L 11.28125 56.59375 \n",
       "L 11.28125 69.390625 \n",
       "L 28.21875 72.90625 \n",
       "L 46.09375 72.90625 \n",
       "L 46.09375 12.984375 \n",
       "L 62.703125 12.984375 \n",
       "L 62.703125 0 \n",
       "L 11.71875 0 \n",
       "z\n",
       "\" id=\"DejaVuSans-Bold-49\"/>\n",
       "      </defs>\n",
       "      <g transform=\"translate(209.94082 278.477422)scale(0.165 -0.165)\">\n",
       "       <use xlink:href=\"#DejaVuSans-Bold-49\"/>\n",
       "      </g>\n",
       "     </g>\n",
       "    </g>\n",
       "    <g id=\"text_3\">\n",
       "     <!-- Predicted label -->\n",
       "     <defs>\n",
       "      <path d=\"M 19.671875 64.796875 \n",
       "L 19.671875 37.40625 \n",
       "L 32.078125 37.40625 \n",
       "Q 38.96875 37.40625 42.71875 40.96875 \n",
       "Q 46.484375 44.53125 46.484375 51.125 \n",
       "Q 46.484375 57.671875 42.71875 61.234375 \n",
       "Q 38.96875 64.796875 32.078125 64.796875 \n",
       "z\n",
       "M 9.8125 72.90625 \n",
       "L 32.078125 72.90625 \n",
       "Q 44.34375 72.90625 50.609375 67.359375 \n",
       "Q 56.890625 61.8125 56.890625 51.125 \n",
       "Q 56.890625 40.328125 50.609375 34.8125 \n",
       "Q 44.34375 29.296875 32.078125 29.296875 \n",
       "L 19.671875 29.296875 \n",
       "L 19.671875 0 \n",
       "L 9.8125 0 \n",
       "z\n",
       "\" id=\"DejaVuSans-80\"/>\n",
       "      <path d=\"M 41.109375 46.296875 \n",
       "Q 39.59375 47.171875 37.8125 47.578125 \n",
       "Q 36.03125 48 33.890625 48 \n",
       "Q 26.265625 48 22.1875 43.046875 \n",
       "Q 18.109375 38.09375 18.109375 28.8125 \n",
       "L 18.109375 0 \n",
       "L 9.078125 0 \n",
       "L 9.078125 54.6875 \n",
       "L 18.109375 54.6875 \n",
       "L 18.109375 46.1875 \n",
       "Q 20.953125 51.171875 25.484375 53.578125 \n",
       "Q 30.03125 56 36.53125 56 \n",
       "Q 37.453125 56 38.578125 55.875 \n",
       "Q 39.703125 55.765625 41.0625 55.515625 \n",
       "z\n",
       "\" id=\"DejaVuSans-114\"/>\n",
       "      <path d=\"M 56.203125 29.59375 \n",
       "L 56.203125 25.203125 \n",
       "L 14.890625 25.203125 \n",
       "Q 15.484375 15.921875 20.484375 11.0625 \n",
       "Q 25.484375 6.203125 34.421875 6.203125 \n",
       "Q 39.59375 6.203125 44.453125 7.46875 \n",
       "Q 49.3125 8.734375 54.109375 11.28125 \n",
       "L 54.109375 2.78125 \n",
       "Q 49.265625 0.734375 44.1875 -0.34375 \n",
       "Q 39.109375 -1.421875 33.890625 -1.421875 \n",
       "Q 20.796875 -1.421875 13.15625 6.1875 \n",
       "Q 5.515625 13.8125 5.515625 26.8125 \n",
       "Q 5.515625 40.234375 12.765625 48.109375 \n",
       "Q 20.015625 56 32.328125 56 \n",
       "Q 43.359375 56 49.78125 48.890625 \n",
       "Q 56.203125 41.796875 56.203125 29.59375 \n",
       "z\n",
       "M 47.21875 32.234375 \n",
       "Q 47.125 39.59375 43.09375 43.984375 \n",
       "Q 39.0625 48.390625 32.421875 48.390625 \n",
       "Q 24.90625 48.390625 20.390625 44.140625 \n",
       "Q 15.875 39.890625 15.1875 32.171875 \n",
       "z\n",
       "\" id=\"DejaVuSans-101\"/>\n",
       "      <path d=\"M 45.40625 46.390625 \n",
       "L 45.40625 75.984375 \n",
       "L 54.390625 75.984375 \n",
       "L 54.390625 0 \n",
       "L 45.40625 0 \n",
       "L 45.40625 8.203125 \n",
       "Q 42.578125 3.328125 38.25 0.953125 \n",
       "Q 33.9375 -1.421875 27.875 -1.421875 \n",
       "Q 17.96875 -1.421875 11.734375 6.484375 \n",
       "Q 5.515625 14.40625 5.515625 27.296875 \n",
       "Q 5.515625 40.1875 11.734375 48.09375 \n",
       "Q 17.96875 56 27.875 56 \n",
       "Q 33.9375 56 38.25 53.625 \n",
       "Q 42.578125 51.265625 45.40625 46.390625 \n",
       "z\n",
       "M 14.796875 27.296875 \n",
       "Q 14.796875 17.390625 18.875 11.75 \n",
       "Q 22.953125 6.109375 30.078125 6.109375 \n",
       "Q 37.203125 6.109375 41.296875 11.75 \n",
       "Q 45.40625 17.390625 45.40625 27.296875 \n",
       "Q 45.40625 37.203125 41.296875 42.84375 \n",
       "Q 37.203125 48.484375 30.078125 48.484375 \n",
       "Q 22.953125 48.484375 18.875 42.84375 \n",
       "Q 14.796875 37.203125 14.796875 27.296875 \n",
       "z\n",
       "\" id=\"DejaVuSans-100\"/>\n",
       "      <path d=\"M 9.421875 54.6875 \n",
       "L 18.40625 54.6875 \n",
       "L 18.40625 0 \n",
       "L 9.421875 0 \n",
       "z\n",
       "M 9.421875 75.984375 \n",
       "L 18.40625 75.984375 \n",
       "L 18.40625 64.59375 \n",
       "L 9.421875 64.59375 \n",
       "z\n",
       "\" id=\"DejaVuSans-105\"/>\n",
       "      <path d=\"M 48.78125 52.59375 \n",
       "L 48.78125 44.1875 \n",
       "Q 44.96875 46.296875 41.140625 47.34375 \n",
       "Q 37.3125 48.390625 33.40625 48.390625 \n",
       "Q 24.65625 48.390625 19.8125 42.84375 \n",
       "Q 14.984375 37.3125 14.984375 27.296875 \n",
       "Q 14.984375 17.28125 19.8125 11.734375 \n",
       "Q 24.65625 6.203125 33.40625 6.203125 \n",
       "Q 37.3125 6.203125 41.140625 7.25 \n",
       "Q 44.96875 8.296875 48.78125 10.40625 \n",
       "L 48.78125 2.09375 \n",
       "Q 45.015625 0.34375 40.984375 -0.53125 \n",
       "Q 36.96875 -1.421875 32.421875 -1.421875 \n",
       "Q 20.0625 -1.421875 12.78125 6.34375 \n",
       "Q 5.515625 14.109375 5.515625 27.296875 \n",
       "Q 5.515625 40.671875 12.859375 48.328125 \n",
       "Q 20.21875 56 33.015625 56 \n",
       "Q 37.15625 56 41.109375 55.140625 \n",
       "Q 45.0625 54.296875 48.78125 52.59375 \n",
       "z\n",
       "\" id=\"DejaVuSans-99\"/>\n",
       "      <path d=\"M 18.3125 70.21875 \n",
       "L 18.3125 54.6875 \n",
       "L 36.8125 54.6875 \n",
       "L 36.8125 47.703125 \n",
       "L 18.3125 47.703125 \n",
       "L 18.3125 18.015625 \n",
       "Q 18.3125 11.328125 20.140625 9.421875 \n",
       "Q 21.96875 7.515625 27.59375 7.515625 \n",
       "L 36.8125 7.515625 \n",
       "L 36.8125 0 \n",
       "L 27.59375 0 \n",
       "Q 17.1875 0 13.234375 3.875 \n",
       "Q 9.28125 7.765625 9.28125 18.015625 \n",
       "L 9.28125 47.703125 \n",
       "L 2.6875 47.703125 \n",
       "L 2.6875 54.6875 \n",
       "L 9.28125 54.6875 \n",
       "L 9.28125 70.21875 \n",
       "z\n",
       "\" id=\"DejaVuSans-116\"/>\n",
       "      <path id=\"DejaVuSans-32\"/>\n",
       "      <path d=\"M 9.421875 75.984375 \n",
       "L 18.40625 75.984375 \n",
       "L 18.40625 0 \n",
       "L 9.421875 0 \n",
       "z\n",
       "\" id=\"DejaVuSans-108\"/>\n",
       "      <path d=\"M 34.28125 27.484375 \n",
       "Q 23.390625 27.484375 19.1875 25 \n",
       "Q 14.984375 22.515625 14.984375 16.5 \n",
       "Q 14.984375 11.71875 18.140625 8.90625 \n",
       "Q 21.296875 6.109375 26.703125 6.109375 \n",
       "Q 34.1875 6.109375 38.703125 11.40625 \n",
       "Q 43.21875 16.703125 43.21875 25.484375 \n",
       "L 43.21875 27.484375 \n",
       "z\n",
       "M 52.203125 31.203125 \n",
       "L 52.203125 0 \n",
       "L 43.21875 0 \n",
       "L 43.21875 8.296875 \n",
       "Q 40.140625 3.328125 35.546875 0.953125 \n",
       "Q 30.953125 -1.421875 24.3125 -1.421875 \n",
       "Q 15.921875 -1.421875 10.953125 3.296875 \n",
       "Q 6 8.015625 6 15.921875 \n",
       "Q 6 25.140625 12.171875 29.828125 \n",
       "Q 18.359375 34.515625 30.609375 34.515625 \n",
       "L 43.21875 34.515625 \n",
       "L 43.21875 35.40625 \n",
       "Q 43.21875 41.609375 39.140625 45 \n",
       "Q 35.0625 48.390625 27.6875 48.390625 \n",
       "Q 23 48.390625 18.546875 47.265625 \n",
       "Q 14.109375 46.140625 10.015625 43.890625 \n",
       "L 10.015625 52.203125 \n",
       "Q 14.9375 54.109375 19.578125 55.046875 \n",
       "Q 24.21875 56 28.609375 56 \n",
       "Q 40.484375 56 46.34375 49.84375 \n",
       "Q 52.203125 43.703125 52.203125 31.203125 \n",
       "z\n",
       "\" id=\"DejaVuSans-97\"/>\n",
       "      <path d=\"M 48.6875 27.296875 \n",
       "Q 48.6875 37.203125 44.609375 42.84375 \n",
       "Q 40.53125 48.484375 33.40625 48.484375 \n",
       "Q 26.265625 48.484375 22.1875 42.84375 \n",
       "Q 18.109375 37.203125 18.109375 27.296875 \n",
       "Q 18.109375 17.390625 22.1875 11.75 \n",
       "Q 26.265625 6.109375 33.40625 6.109375 \n",
       "Q 40.53125 6.109375 44.609375 11.75 \n",
       "Q 48.6875 17.390625 48.6875 27.296875 \n",
       "z\n",
       "M 18.109375 46.390625 \n",
       "Q 20.953125 51.265625 25.265625 53.625 \n",
       "Q 29.59375 56 35.59375 56 \n",
       "Q 45.5625 56 51.78125 48.09375 \n",
       "Q 58.015625 40.1875 58.015625 27.296875 \n",
       "Q 58.015625 14.40625 51.78125 6.484375 \n",
       "Q 45.5625 -1.421875 35.59375 -1.421875 \n",
       "Q 29.59375 -1.421875 25.265625 0.953125 \n",
       "Q 20.953125 3.328125 18.109375 8.203125 \n",
       "L 18.109375 0 \n",
       "L 9.078125 0 \n",
       "L 9.078125 75.984375 \n",
       "L 18.109375 75.984375 \n",
       "z\n",
       "\" id=\"DejaVuSans-98\"/>\n",
       "     </defs>\n",
       "     <g transform=\"translate(94.091016 299.586094)scale(0.18 -0.18)\">\n",
       "      <use xlink:href=\"#DejaVuSans-80\"/>\n",
       "      <use x=\"60.287109\" xlink:href=\"#DejaVuSans-114\"/>\n",
       "      <use x=\"101.369141\" xlink:href=\"#DejaVuSans-101\"/>\n",
       "      <use x=\"162.892578\" xlink:href=\"#DejaVuSans-100\"/>\n",
       "      <use x=\"226.369141\" xlink:href=\"#DejaVuSans-105\"/>\n",
       "      <use x=\"254.152344\" xlink:href=\"#DejaVuSans-99\"/>\n",
       "      <use x=\"309.132812\" xlink:href=\"#DejaVuSans-116\"/>\n",
       "      <use x=\"348.341797\" xlink:href=\"#DejaVuSans-101\"/>\n",
       "      <use x=\"409.865234\" xlink:href=\"#DejaVuSans-100\"/>\n",
       "      <use x=\"473.341797\" xlink:href=\"#DejaVuSans-32\"/>\n",
       "      <use x=\"505.128906\" xlink:href=\"#DejaVuSans-108\"/>\n",
       "      <use x=\"532.912109\" xlink:href=\"#DejaVuSans-97\"/>\n",
       "      <use x=\"594.191406\" xlink:href=\"#DejaVuSans-98\"/>\n",
       "      <use x=\"657.667969\" xlink:href=\"#DejaVuSans-101\"/>\n",
       "      <use x=\"719.191406\" xlink:href=\"#DejaVuSans-108\"/>\n",
       "     </g>\n",
       "    </g>\n",
       "   </g>\n",
       "   <g id=\"matplotlib.axis_2\">\n",
       "    <g id=\"ytick_1\">\n",
       "     <g id=\"line2d_3\">\n",
       "      <defs>\n",
       "       <path d=\"M 0 0 \n",
       "L -9 0 \n",
       "\" id=\"md89d1516c1\" style=\"stroke:#000000;stroke-width:1.875;\"/>\n",
       "      </defs>\n",
       "      <g>\n",
       "       <use style=\"stroke:#000000;stroke-width:1.875;\" x=\"52.601016\" xlink:href=\"#md89d1516c1\" y=\"90.36\"/>\n",
       "      </g>\n",
       "     </g>\n",
       "     <g id=\"text_4\">\n",
       "      <!-- 0 -->\n",
       "      <g transform=\"translate(28.620625 96.628711)scale(0.165 -0.165)\">\n",
       "       <use xlink:href=\"#DejaVuSans-Bold-48\"/>\n",
       "      </g>\n",
       "     </g>\n",
       "    </g>\n",
       "    <g id=\"ytick_2\">\n",
       "     <g id=\"line2d_4\">\n",
       "      <g>\n",
       "       <use style=\"stroke:#000000;stroke-width:1.875;\" x=\"52.601016\" xlink:href=\"#md89d1516c1\" y=\"199.08\"/>\n",
       "      </g>\n",
       "     </g>\n",
       "     <g id=\"text_5\">\n",
       "      <!-- 1 -->\n",
       "      <g transform=\"translate(28.620625 205.348711)scale(0.165 -0.165)\">\n",
       "       <use xlink:href=\"#DejaVuSans-Bold-49\"/>\n",
       "      </g>\n",
       "     </g>\n",
       "    </g>\n",
       "    <g id=\"text_6\">\n",
       "     <!-- True label -->\n",
       "     <defs>\n",
       "      <path d=\"M -0.296875 72.90625 \n",
       "L 61.375 72.90625 \n",
       "L 61.375 64.59375 \n",
       "L 35.5 64.59375 \n",
       "L 35.5 0 \n",
       "L 25.59375 0 \n",
       "L 25.59375 64.59375 \n",
       "L -0.296875 64.59375 \n",
       "z\n",
       "\" id=\"DejaVuSans-84\"/>\n",
       "      <path d=\"M 8.5 21.578125 \n",
       "L 8.5 54.6875 \n",
       "L 17.484375 54.6875 \n",
       "L 17.484375 21.921875 \n",
       "Q 17.484375 14.15625 20.5 10.265625 \n",
       "Q 23.53125 6.390625 29.59375 6.390625 \n",
       "Q 36.859375 6.390625 41.078125 11.03125 \n",
       "Q 45.3125 15.671875 45.3125 23.6875 \n",
       "L 45.3125 54.6875 \n",
       "L 54.296875 54.6875 \n",
       "L 54.296875 0 \n",
       "L 45.3125 0 \n",
       "L 45.3125 8.40625 \n",
       "Q 42.046875 3.421875 37.71875 1 \n",
       "Q 33.40625 -1.421875 27.6875 -1.421875 \n",
       "Q 18.265625 -1.421875 13.375 4.4375 \n",
       "Q 8.5 10.296875 8.5 21.578125 \n",
       "z\n",
       "M 31.109375 56 \n",
       "z\n",
       "\" id=\"DejaVuSans-117\"/>\n",
       "     </defs>\n",
       "     <g transform=\"translate(20.877188 189.766406)rotate(-90)scale(0.18 -0.18)\">\n",
       "      <use xlink:href=\"#DejaVuSans-84\"/>\n",
       "      <use x=\"60.865234\" xlink:href=\"#DejaVuSans-114\"/>\n",
       "      <use x=\"101.978516\" xlink:href=\"#DejaVuSans-117\"/>\n",
       "      <use x=\"165.357422\" xlink:href=\"#DejaVuSans-101\"/>\n",
       "      <use x=\"226.880859\" xlink:href=\"#DejaVuSans-32\"/>\n",
       "      <use x=\"258.667969\" xlink:href=\"#DejaVuSans-108\"/>\n",
       "      <use x=\"286.451172\" xlink:href=\"#DejaVuSans-97\"/>\n",
       "      <use x=\"347.730469\" xlink:href=\"#DejaVuSans-98\"/>\n",
       "      <use x=\"411.207031\" xlink:href=\"#DejaVuSans-101\"/>\n",
       "      <use x=\"472.730469\" xlink:href=\"#DejaVuSans-108\"/>\n",
       "     </g>\n",
       "    </g>\n",
       "   </g>\n",
       "   <g id=\"patch_3\">\n",
       "    <path d=\"M 52.601016 253.44 \n",
       "L 52.601016 36 \n",
       "\" style=\"fill:none;stroke:#000000;stroke-linecap:square;stroke-linejoin:miter;stroke-width:1.875;\"/>\n",
       "   </g>\n",
       "   <g id=\"patch_4\">\n",
       "    <path d=\"M 270.041016 253.44 \n",
       "L 270.041016 36 \n",
       "\" style=\"fill:none;stroke:#000000;stroke-linecap:square;stroke-linejoin:miter;stroke-width:1.875;\"/>\n",
       "   </g>\n",
       "   <g id=\"patch_5\">\n",
       "    <path d=\"M 52.601016 253.44 \n",
       "L 270.041016 253.44 \n",
       "\" style=\"fill:none;stroke:#000000;stroke-linecap:square;stroke-linejoin:miter;stroke-width:1.875;\"/>\n",
       "   </g>\n",
       "   <g id=\"patch_6\">\n",
       "    <path d=\"M 52.601016 36 \n",
       "L 270.041016 36 \n",
       "\" style=\"fill:none;stroke:#000000;stroke-linecap:square;stroke-linejoin:miter;stroke-width:1.875;\"/>\n",
       "   </g>\n",
       "   <g id=\"text_7\">\n",
       "    <!-- 60399 -->\n",
       "    <defs>\n",
       "     <path d=\"M 36.1875 35.984375 \n",
       "Q 31.25 35.984375 28.78125 32.78125 \n",
       "Q 26.3125 29.59375 26.3125 23.1875 \n",
       "Q 26.3125 16.796875 28.78125 13.59375 \n",
       "Q 31.25 10.40625 36.1875 10.40625 \n",
       "Q 41.15625 10.40625 43.625 13.59375 \n",
       "Q 46.09375 16.796875 46.09375 23.1875 \n",
       "Q 46.09375 29.59375 43.625 32.78125 \n",
       "Q 41.15625 35.984375 36.1875 35.984375 \n",
       "z\n",
       "M 59.421875 71 \n",
       "L 59.421875 57.515625 \n",
       "Q 54.78125 59.71875 50.671875 60.765625 \n",
       "Q 46.578125 61.8125 42.671875 61.8125 \n",
       "Q 34.28125 61.8125 29.59375 57.140625 \n",
       "Q 24.90625 52.484375 24.125 43.3125 \n",
       "Q 27.34375 45.703125 31.09375 46.890625 \n",
       "Q 34.859375 48.09375 39.3125 48.09375 \n",
       "Q 50.484375 48.09375 57.34375 41.546875 \n",
       "Q 64.203125 35.015625 64.203125 24.421875 \n",
       "Q 64.203125 12.703125 56.53125 5.640625 \n",
       "Q 48.875 -1.421875 35.984375 -1.421875 \n",
       "Q 21.78125 -1.421875 13.984375 8.171875 \n",
       "Q 6.203125 17.78125 6.203125 35.40625 \n",
       "Q 6.203125 53.46875 15.3125 63.796875 \n",
       "Q 24.421875 74.125 40.28125 74.125 \n",
       "Q 45.3125 74.125 50.046875 73.34375 \n",
       "Q 54.78125 72.5625 59.421875 71 \n",
       "z\n",
       "\" id=\"DejaVuSans-Bold-54\"/>\n",
       "     <path d=\"M 46.578125 39.3125 \n",
       "Q 53.953125 37.40625 57.78125 32.6875 \n",
       "Q 61.625 27.984375 61.625 20.703125 \n",
       "Q 61.625 9.859375 53.3125 4.21875 \n",
       "Q 45.015625 -1.421875 29.109375 -1.421875 \n",
       "Q 23.484375 -1.421875 17.84375 -0.515625 \n",
       "Q 12.203125 0.390625 6.6875 2.203125 \n",
       "L 6.6875 16.703125 \n",
       "Q 11.96875 14.0625 17.15625 12.71875 \n",
       "Q 22.359375 11.375 27.390625 11.375 \n",
       "Q 34.859375 11.375 38.84375 13.953125 \n",
       "Q 42.828125 16.546875 42.828125 21.390625 \n",
       "Q 42.828125 26.375 38.75 28.9375 \n",
       "Q 34.671875 31.5 26.703125 31.5 \n",
       "L 19.1875 31.5 \n",
       "L 19.1875 43.609375 \n",
       "L 27.09375 43.609375 \n",
       "Q 34.1875 43.609375 37.640625 45.828125 \n",
       "Q 41.109375 48.046875 41.109375 52.59375 \n",
       "Q 41.109375 56.78125 37.734375 59.078125 \n",
       "Q 34.375 61.375 28.21875 61.375 \n",
       "Q 23.6875 61.375 19.046875 60.34375 \n",
       "Q 14.40625 59.328125 9.8125 57.328125 \n",
       "L 9.8125 71.09375 \n",
       "Q 15.375 72.65625 20.84375 73.4375 \n",
       "Q 26.3125 74.21875 31.59375 74.21875 \n",
       "Q 45.796875 74.21875 52.84375 69.546875 \n",
       "Q 59.90625 64.890625 59.90625 55.515625 \n",
       "Q 59.90625 49.125 56.53125 45.046875 \n",
       "Q 53.171875 40.96875 46.578125 39.3125 \n",
       "z\n",
       "\" id=\"DejaVuSans-Bold-51\"/>\n",
       "     <path d=\"M 10.015625 1.609375 \n",
       "L 10.015625 15.09375 \n",
       "Q 14.5 12.984375 18.59375 11.9375 \n",
       "Q 22.703125 10.890625 26.703125 10.890625 \n",
       "Q 35.109375 10.890625 39.796875 15.546875 \n",
       "Q 44.484375 20.21875 45.3125 29.390625 \n",
       "Q 42 26.953125 38.234375 25.734375 \n",
       "Q 34.46875 24.515625 30.078125 24.515625 \n",
       "Q 18.890625 24.515625 12.03125 31.03125 \n",
       "Q 5.171875 37.546875 5.171875 48.1875 \n",
       "Q 5.171875 59.96875 12.8125 67.046875 \n",
       "Q 20.453125 74.125 33.296875 74.125 \n",
       "Q 47.5625 74.125 55.375 64.5 \n",
       "Q 63.1875 54.890625 63.1875 37.3125 \n",
       "Q 63.1875 19.234375 54.046875 8.90625 \n",
       "Q 44.921875 -1.421875 29 -1.421875 \n",
       "Q 23.875 -1.421875 19.1875 -0.65625 \n",
       "Q 14.5 0.09375 10.015625 1.609375 \n",
       "z\n",
       "M 33.203125 36.71875 \n",
       "Q 38.140625 36.71875 40.625 39.90625 \n",
       "Q 43.109375 43.109375 43.109375 49.515625 \n",
       "Q 43.109375 55.859375 40.625 59.078125 \n",
       "Q 38.140625 62.3125 33.203125 62.3125 \n",
       "Q 28.265625 62.3125 25.78125 59.078125 \n",
       "Q 23.296875 55.859375 23.296875 49.515625 \n",
       "Q 23.296875 43.109375 25.78125 39.90625 \n",
       "Q 28.265625 36.71875 33.203125 36.71875 \n",
       "z\n",
       "\" id=\"DejaVuSans-Bold-57\"/>\n",
       "    </defs>\n",
       "    <g style=\"fill:#f7fbff;\" transform=\"translate(75.650859 95.326875)scale(0.18 -0.18)\">\n",
       "     <use xlink:href=\"#DejaVuSans-Bold-54\"/>\n",
       "     <use x=\"69.580078\" xlink:href=\"#DejaVuSans-Bold-48\"/>\n",
       "     <use x=\"139.160156\" xlink:href=\"#DejaVuSans-Bold-51\"/>\n",
       "     <use x=\"208.740234\" xlink:href=\"#DejaVuSans-Bold-57\"/>\n",
       "     <use x=\"278.320312\" xlink:href=\"#DejaVuSans-Bold-57\"/>\n",
       "    </g>\n",
       "   </g>\n",
       "   <g id=\"text_8\">\n",
       "    <!-- 13871 -->\n",
       "    <defs>\n",
       "     <path d=\"M 34.8125 32.625 \n",
       "Q 29.546875 32.625 26.703125 29.734375 \n",
       "Q 23.875 26.859375 23.875 21.484375 \n",
       "Q 23.875 16.109375 26.703125 13.25 \n",
       "Q 29.546875 10.40625 34.8125 10.40625 \n",
       "Q 40.046875 10.40625 42.828125 13.25 \n",
       "Q 45.609375 16.109375 45.609375 21.484375 \n",
       "Q 45.609375 26.90625 42.828125 29.765625 \n",
       "Q 40.046875 32.625 34.8125 32.625 \n",
       "z\n",
       "M 21.09375 38.8125 \n",
       "Q 14.453125 40.828125 11.078125 44.96875 \n",
       "Q 7.71875 49.125 7.71875 55.328125 \n",
       "Q 7.71875 64.546875 14.59375 69.375 \n",
       "Q 21.484375 74.21875 34.8125 74.21875 \n",
       "Q 48.046875 74.21875 54.921875 69.40625 \n",
       "Q 61.8125 64.59375 61.8125 55.328125 \n",
       "Q 61.8125 49.125 58.421875 44.96875 \n",
       "Q 55.03125 40.828125 48.390625 38.8125 \n",
       "Q 55.8125 36.765625 59.59375 32.15625 \n",
       "Q 63.375 27.546875 63.375 20.515625 \n",
       "Q 63.375 9.671875 56.171875 4.125 \n",
       "Q 48.96875 -1.421875 34.8125 -1.421875 \n",
       "Q 20.609375 -1.421875 13.359375 4.125 \n",
       "Q 6.109375 9.671875 6.109375 20.515625 \n",
       "Q 6.109375 27.546875 9.890625 32.15625 \n",
       "Q 13.671875 36.765625 21.09375 38.8125 \n",
       "z\n",
       "M 25.484375 53.421875 \n",
       "Q 25.484375 49.078125 27.90625 46.734375 \n",
       "Q 30.328125 44.390625 34.8125 44.390625 \n",
       "Q 39.203125 44.390625 41.59375 46.734375 \n",
       "Q 44 49.078125 44 53.421875 \n",
       "Q 44 57.765625 41.59375 60.078125 \n",
       "Q 39.203125 62.40625 34.8125 62.40625 \n",
       "Q 30.328125 62.40625 27.90625 60.0625 \n",
       "Q 25.484375 57.71875 25.484375 53.421875 \n",
       "z\n",
       "\" id=\"DejaVuSans-Bold-56\"/>\n",
       "     <path d=\"M 6.6875 72.90625 \n",
       "L 61.625 72.90625 \n",
       "L 61.625 62.3125 \n",
       "L 33.203125 0 \n",
       "L 14.890625 0 \n",
       "L 41.796875 59.078125 \n",
       "L 6.6875 59.078125 \n",
       "z\n",
       "\" id=\"DejaVuSans-Bold-55\"/>\n",
       "    </defs>\n",
       "    <g style=\"fill:#08306b;\" transform=\"translate(184.370859 95.326875)scale(0.18 -0.18)\">\n",
       "     <use xlink:href=\"#DejaVuSans-Bold-49\"/>\n",
       "     <use x=\"69.580078\" xlink:href=\"#DejaVuSans-Bold-51\"/>\n",
       "     <use x=\"139.160156\" xlink:href=\"#DejaVuSans-Bold-56\"/>\n",
       "     <use x=\"208.740234\" xlink:href=\"#DejaVuSans-Bold-55\"/>\n",
       "     <use x=\"278.320312\" xlink:href=\"#DejaVuSans-Bold-49\"/>\n",
       "    </g>\n",
       "   </g>\n",
       "   <g id=\"text_9\">\n",
       "    <!-- 13776 -->\n",
       "    <g style=\"fill:#08306b;\" transform=\"translate(75.650859 204.046875)scale(0.18 -0.18)\">\n",
       "     <use xlink:href=\"#DejaVuSans-Bold-49\"/>\n",
       "     <use x=\"69.580078\" xlink:href=\"#DejaVuSans-Bold-51\"/>\n",
       "     <use x=\"139.160156\" xlink:href=\"#DejaVuSans-Bold-55\"/>\n",
       "     <use x=\"208.740234\" xlink:href=\"#DejaVuSans-Bold-55\"/>\n",
       "     <use x=\"278.320312\" xlink:href=\"#DejaVuSans-Bold-54\"/>\n",
       "    </g>\n",
       "   </g>\n",
       "   <g id=\"text_10\">\n",
       "    <!-- 59754 -->\n",
       "    <defs>\n",
       "     <path d=\"M 10.59375 72.90625 \n",
       "L 57.328125 72.90625 \n",
       "L 57.328125 59.078125 \n",
       "L 25.59375 59.078125 \n",
       "L 25.59375 47.796875 \n",
       "Q 27.734375 48.390625 29.90625 48.703125 \n",
       "Q 32.078125 49.03125 34.421875 49.03125 \n",
       "Q 47.75 49.03125 55.171875 42.359375 \n",
       "Q 62.59375 35.6875 62.59375 23.78125 \n",
       "Q 62.59375 11.96875 54.515625 5.265625 \n",
       "Q 46.4375 -1.421875 32.078125 -1.421875 \n",
       "Q 25.875 -1.421875 19.796875 -0.21875 \n",
       "Q 13.71875 0.984375 7.71875 3.421875 \n",
       "L 7.71875 18.21875 \n",
       "Q 13.671875 14.796875 19.015625 13.078125 \n",
       "Q 24.359375 11.375 29.109375 11.375 \n",
       "Q 35.9375 11.375 39.859375 14.71875 \n",
       "Q 43.796875 18.0625 43.796875 23.78125 \n",
       "Q 43.796875 29.546875 39.859375 32.859375 \n",
       "Q 35.9375 36.1875 29.109375 36.1875 \n",
       "Q 25.046875 36.1875 20.453125 35.125 \n",
       "Q 15.875 34.078125 10.59375 31.890625 \n",
       "z\n",
       "\" id=\"DejaVuSans-Bold-53\"/>\n",
       "     <path d=\"M 36.8125 57.421875 \n",
       "L 16.21875 26.90625 \n",
       "L 36.8125 26.90625 \n",
       "z\n",
       "M 33.6875 72.90625 \n",
       "L 54.59375 72.90625 \n",
       "L 54.59375 26.90625 \n",
       "L 64.984375 26.90625 \n",
       "L 64.984375 13.28125 \n",
       "L 54.59375 13.28125 \n",
       "L 54.59375 0 \n",
       "L 36.8125 0 \n",
       "L 36.8125 13.28125 \n",
       "L 4.5 13.28125 \n",
       "L 4.5 29.390625 \n",
       "z\n",
       "\" id=\"DejaVuSans-Bold-52\"/>\n",
       "    </defs>\n",
       "    <g style=\"fill:#f7fbff;\" transform=\"translate(184.370859 204.046875)scale(0.18 -0.18)\">\n",
       "     <use xlink:href=\"#DejaVuSans-Bold-53\"/>\n",
       "     <use x=\"69.580078\" xlink:href=\"#DejaVuSans-Bold-57\"/>\n",
       "     <use x=\"139.160156\" xlink:href=\"#DejaVuSans-Bold-55\"/>\n",
       "     <use x=\"208.740234\" xlink:href=\"#DejaVuSans-Bold-53\"/>\n",
       "     <use x=\"278.320312\" xlink:href=\"#DejaVuSans-Bold-52\"/>\n",
       "    </g>\n",
       "   </g>\n",
       "  </g>\n",
       "  <g id=\"text_11\">\n",
       "   <!-- Yelp 3 Epochs -->\n",
       "   <defs>\n",
       "    <path d=\"M -0.203125 72.90625 \n",
       "L 10.40625 72.90625 \n",
       "L 30.609375 42.921875 \n",
       "L 50.6875 72.90625 \n",
       "L 61.28125 72.90625 \n",
       "L 35.5 34.71875 \n",
       "L 35.5 0 \n",
       "L 25.59375 0 \n",
       "L 25.59375 34.71875 \n",
       "z\n",
       "\" id=\"DejaVuSans-89\"/>\n",
       "    <path d=\"M 18.109375 8.203125 \n",
       "L 18.109375 -20.796875 \n",
       "L 9.078125 -20.796875 \n",
       "L 9.078125 54.6875 \n",
       "L 18.109375 54.6875 \n",
       "L 18.109375 46.390625 \n",
       "Q 20.953125 51.265625 25.265625 53.625 \n",
       "Q 29.59375 56 35.59375 56 \n",
       "Q 45.5625 56 51.78125 48.09375 \n",
       "Q 58.015625 40.1875 58.015625 27.296875 \n",
       "Q 58.015625 14.40625 51.78125 6.484375 \n",
       "Q 45.5625 -1.421875 35.59375 -1.421875 \n",
       "Q 29.59375 -1.421875 25.265625 0.953125 \n",
       "Q 20.953125 3.328125 18.109375 8.203125 \n",
       "z\n",
       "M 48.6875 27.296875 \n",
       "Q 48.6875 37.203125 44.609375 42.84375 \n",
       "Q 40.53125 48.484375 33.40625 48.484375 \n",
       "Q 26.265625 48.484375 22.1875 42.84375 \n",
       "Q 18.109375 37.203125 18.109375 27.296875 \n",
       "Q 18.109375 17.390625 22.1875 11.75 \n",
       "Q 26.265625 6.109375 33.40625 6.109375 \n",
       "Q 40.53125 6.109375 44.609375 11.75 \n",
       "Q 48.6875 17.390625 48.6875 27.296875 \n",
       "z\n",
       "\" id=\"DejaVuSans-112\"/>\n",
       "    <path d=\"M 40.578125 39.3125 \n",
       "Q 47.65625 37.796875 51.625 33 \n",
       "Q 55.609375 28.21875 55.609375 21.1875 \n",
       "Q 55.609375 10.40625 48.1875 4.484375 \n",
       "Q 40.765625 -1.421875 27.09375 -1.421875 \n",
       "Q 22.515625 -1.421875 17.65625 -0.515625 \n",
       "Q 12.796875 0.390625 7.625 2.203125 \n",
       "L 7.625 11.71875 \n",
       "Q 11.71875 9.328125 16.59375 8.109375 \n",
       "Q 21.484375 6.890625 26.8125 6.890625 \n",
       "Q 36.078125 6.890625 40.9375 10.546875 \n",
       "Q 45.796875 14.203125 45.796875 21.1875 \n",
       "Q 45.796875 27.640625 41.28125 31.265625 \n",
       "Q 36.765625 34.90625 28.71875 34.90625 \n",
       "L 20.21875 34.90625 \n",
       "L 20.21875 43.015625 \n",
       "L 29.109375 43.015625 \n",
       "Q 36.375 43.015625 40.234375 45.921875 \n",
       "Q 44.09375 48.828125 44.09375 54.296875 \n",
       "Q 44.09375 59.90625 40.109375 62.90625 \n",
       "Q 36.140625 65.921875 28.71875 65.921875 \n",
       "Q 24.65625 65.921875 20.015625 65.03125 \n",
       "Q 15.375 64.15625 9.8125 62.3125 \n",
       "L 9.8125 71.09375 \n",
       "Q 15.4375 72.65625 20.34375 73.4375 \n",
       "Q 25.25 74.21875 29.59375 74.21875 \n",
       "Q 40.828125 74.21875 47.359375 69.109375 \n",
       "Q 53.90625 64.015625 53.90625 55.328125 \n",
       "Q 53.90625 49.265625 50.4375 45.09375 \n",
       "Q 46.96875 40.921875 40.578125 39.3125 \n",
       "z\n",
       "\" id=\"DejaVuSans-51\"/>\n",
       "    <path d=\"M 9.8125 72.90625 \n",
       "L 55.90625 72.90625 \n",
       "L 55.90625 64.59375 \n",
       "L 19.671875 64.59375 \n",
       "L 19.671875 43.015625 \n",
       "L 54.390625 43.015625 \n",
       "L 54.390625 34.71875 \n",
       "L 19.671875 34.71875 \n",
       "L 19.671875 8.296875 \n",
       "L 56.78125 8.296875 \n",
       "L 56.78125 0 \n",
       "L 9.8125 0 \n",
       "z\n",
       "\" id=\"DejaVuSans-69\"/>\n",
       "    <path d=\"M 30.609375 48.390625 \n",
       "Q 23.390625 48.390625 19.1875 42.75 \n",
       "Q 14.984375 37.109375 14.984375 27.296875 \n",
       "Q 14.984375 17.484375 19.15625 11.84375 \n",
       "Q 23.34375 6.203125 30.609375 6.203125 \n",
       "Q 37.796875 6.203125 41.984375 11.859375 \n",
       "Q 46.1875 17.53125 46.1875 27.296875 \n",
       "Q 46.1875 37.015625 41.984375 42.703125 \n",
       "Q 37.796875 48.390625 30.609375 48.390625 \n",
       "z\n",
       "M 30.609375 56 \n",
       "Q 42.328125 56 49.015625 48.375 \n",
       "Q 55.71875 40.765625 55.71875 27.296875 \n",
       "Q 55.71875 13.875 49.015625 6.21875 \n",
       "Q 42.328125 -1.421875 30.609375 -1.421875 \n",
       "Q 18.84375 -1.421875 12.171875 6.21875 \n",
       "Q 5.515625 13.875 5.515625 27.296875 \n",
       "Q 5.515625 40.765625 12.171875 48.375 \n",
       "Q 18.84375 56 30.609375 56 \n",
       "z\n",
       "\" id=\"DejaVuSans-111\"/>\n",
       "    <path d=\"M 54.890625 33.015625 \n",
       "L 54.890625 0 \n",
       "L 45.90625 0 \n",
       "L 45.90625 32.71875 \n",
       "Q 45.90625 40.484375 42.875 44.328125 \n",
       "Q 39.84375 48.1875 33.796875 48.1875 \n",
       "Q 26.515625 48.1875 22.3125 43.546875 \n",
       "Q 18.109375 38.921875 18.109375 30.90625 \n",
       "L 18.109375 0 \n",
       "L 9.078125 0 \n",
       "L 9.078125 75.984375 \n",
       "L 18.109375 75.984375 \n",
       "L 18.109375 46.1875 \n",
       "Q 21.34375 51.125 25.703125 53.5625 \n",
       "Q 30.078125 56 35.796875 56 \n",
       "Q 45.21875 56 50.046875 50.171875 \n",
       "Q 54.890625 44.34375 54.890625 33.015625 \n",
       "z\n",
       "\" id=\"DejaVuSans-104\"/>\n",
       "    <path d=\"M 44.28125 53.078125 \n",
       "L 44.28125 44.578125 \n",
       "Q 40.484375 46.53125 36.375 47.5 \n",
       "Q 32.28125 48.484375 27.875 48.484375 \n",
       "Q 21.1875 48.484375 17.84375 46.4375 \n",
       "Q 14.5 44.390625 14.5 40.28125 \n",
       "Q 14.5 37.15625 16.890625 35.375 \n",
       "Q 19.28125 33.59375 26.515625 31.984375 \n",
       "L 29.59375 31.296875 \n",
       "Q 39.15625 29.25 43.1875 25.515625 \n",
       "Q 47.21875 21.78125 47.21875 15.09375 \n",
       "Q 47.21875 7.46875 41.1875 3.015625 \n",
       "Q 35.15625 -1.421875 24.609375 -1.421875 \n",
       "Q 20.21875 -1.421875 15.453125 -0.5625 \n",
       "Q 10.6875 0.296875 5.421875 2 \n",
       "L 5.421875 11.28125 \n",
       "Q 10.40625 8.6875 15.234375 7.390625 \n",
       "Q 20.0625 6.109375 24.8125 6.109375 \n",
       "Q 31.15625 6.109375 34.5625 8.28125 \n",
       "Q 37.984375 10.453125 37.984375 14.40625 \n",
       "Q 37.984375 18.0625 35.515625 20.015625 \n",
       "Q 33.0625 21.96875 24.703125 23.78125 \n",
       "L 21.578125 24.515625 \n",
       "Q 13.234375 26.265625 9.515625 29.90625 \n",
       "Q 5.8125 33.546875 5.8125 39.890625 \n",
       "Q 5.8125 47.609375 11.28125 51.796875 \n",
       "Q 16.75 56 26.8125 56 \n",
       "Q 31.78125 56 36.171875 55.265625 \n",
       "Q 40.578125 54.546875 44.28125 53.078125 \n",
       "z\n",
       "\" id=\"DejaVuSans-115\"/>\n",
       "   </defs>\n",
       "   <g transform=\"translate(80.410453 23.612625)scale(0.216 -0.216)\">\n",
       "    <use xlink:href=\"#DejaVuSans-89\"/>\n",
       "    <use x=\"60.880859\" xlink:href=\"#DejaVuSans-101\"/>\n",
       "    <use x=\"122.404297\" xlink:href=\"#DejaVuSans-108\"/>\n",
       "    <use x=\"150.1875\" xlink:href=\"#DejaVuSans-112\"/>\n",
       "    <use x=\"213.664062\" xlink:href=\"#DejaVuSans-32\"/>\n",
       "    <use x=\"245.451172\" xlink:href=\"#DejaVuSans-51\"/>\n",
       "    <use x=\"309.074219\" xlink:href=\"#DejaVuSans-32\"/>\n",
       "    <use x=\"340.861328\" xlink:href=\"#DejaVuSans-69\"/>\n",
       "    <use x=\"404.044922\" xlink:href=\"#DejaVuSans-112\"/>\n",
       "    <use x=\"467.521484\" xlink:href=\"#DejaVuSans-111\"/>\n",
       "    <use x=\"528.703125\" xlink:href=\"#DejaVuSans-99\"/>\n",
       "    <use x=\"583.683594\" xlink:href=\"#DejaVuSans-104\"/>\n",
       "    <use x=\"647.0625\" xlink:href=\"#DejaVuSans-115\"/>\n",
       "   </g>\n",
       "  </g>\n",
       " </g>\n",
       " <defs>\n",
       "  <clipPath id=\"pc3d8974aa0\">\n",
       "   <rect height=\"217.44\" width=\"217.44\" x=\"52.601016\" y=\"36\"/>\n",
       "  </clipPath>\n",
       " </defs>\n",
       "</svg>\n"
      ],
      "text/plain": [
       "<Figure size 432x288 with 1 Axes>"
      ]
     },
     "metadata": {
      "needs_background": "light"
     },
     "output_type": "display_data"
    }
   ],
   "source": [
    "print(\"Accuracy:\", metric.get()[1])\n",
    "\n",
    "y_true, y_pred = predict_out_to_ys(all_predictions, all_labels)\n",
    "report_training_results(y_true, y_pred, name=f\"BERTClassifier - {run_name}\", heatmap=True)\n",
    "plot_confusion_matrix(y_true, y_pred, labels=[0, 1], title=f\"Yelp {num_epochs} Epochs\", values_format=\"d\", cmap=\"Blues\", include_colorbar=False)\n",
    "plt.show()"
   ]
  },
  {
   "cell_type": "code",
   "execution_count": null,
   "metadata": {},
   "outputs": [],
   "source": []
  },
  {
   "cell_type": "code",
   "execution_count": null,
   "metadata": {},
   "outputs": [],
   "source": []
  },
  {
   "cell_type": "markdown",
   "metadata": {},
   "source": [
    "##### Make layer until 6 static ..."
   ]
  },
  {
   "cell_type": "code",
   "execution_count": 31,
   "metadata": {
    "ExecuteTime": {
     "end_time": "2020-03-16T10:07:06.339957Z",
     "start_time": "2020-03-16T10:07:06.331943Z"
    },
    "collapsed": true
   },
   "outputs": [
    {
     "name": "stdout",
     "output_type": "stream",
     "text": [
      "BERTClassifier(\n",
      "  (bert): BERTModel(\n",
      "    (encoder): BERTEncoder(\n",
      "      (dropout_layer): Dropout(p = 0.1, axes=())\n",
      "      (layer_norm): BERTLayerNorm(eps=1e-12, axis=-1, center=True, scale=True, in_channels=768)\n",
      "      (transformer_cells): HybridSequential(\n",
      "        (0): BERTEncoderCell(\n",
      "          (dropout_layer): Dropout(p = 0.1, axes=())\n",
      "          (attention_cell): MultiHeadAttentionCell(\n",
      "            (_base_cell): DotProductAttentionCell(\n",
      "              (_dropout_layer): Dropout(p = 0.1, axes=())\n",
      "            )\n",
      "            (proj_query): Dense(768 -> 768, linear)\n",
      "            (proj_key): Dense(768 -> 768, linear)\n",
      "            (proj_value): Dense(768 -> 768, linear)\n",
      "          )\n",
      "          (proj): Dense(768 -> 768, linear)\n",
      "          (ffn): BERTPositionwiseFFN(\n",
      "            (ffn_1): Dense(768 -> 3072, linear)\n",
      "            (activation): GELU()\n",
      "            (ffn_2): Dense(3072 -> 768, linear)\n",
      "            (dropout_layer): Dropout(p = 0.1, axes=())\n",
      "            (layer_norm): BERTLayerNorm(eps=1e-12, axis=-1, center=True, scale=True, in_channels=768)\n",
      "          )\n",
      "          (layer_norm): BERTLayerNorm(eps=1e-12, axis=-1, center=True, scale=True, in_channels=768)\n",
      "        )\n",
      "        (1): BERTEncoderCell(\n",
      "          (dropout_layer): Dropout(p = 0.1, axes=())\n",
      "          (attention_cell): MultiHeadAttentionCell(\n",
      "            (_base_cell): DotProductAttentionCell(\n",
      "              (_dropout_layer): Dropout(p = 0.1, axes=())\n",
      "            )\n",
      "            (proj_query): Dense(768 -> 768, linear)\n",
      "            (proj_key): Dense(768 -> 768, linear)\n",
      "            (proj_value): Dense(768 -> 768, linear)\n",
      "          )\n",
      "          (proj): Dense(768 -> 768, linear)\n",
      "          (ffn): BERTPositionwiseFFN(\n",
      "            (ffn_1): Dense(768 -> 3072, linear)\n",
      "            (activation): GELU()\n",
      "            (ffn_2): Dense(3072 -> 768, linear)\n",
      "            (dropout_layer): Dropout(p = 0.1, axes=())\n",
      "            (layer_norm): BERTLayerNorm(eps=1e-12, axis=-1, center=True, scale=True, in_channels=768)\n",
      "          )\n",
      "          (layer_norm): BERTLayerNorm(eps=1e-12, axis=-1, center=True, scale=True, in_channels=768)\n",
      "        )\n",
      "        (2): BERTEncoderCell(\n",
      "          (dropout_layer): Dropout(p = 0.1, axes=())\n",
      "          (attention_cell): MultiHeadAttentionCell(\n",
      "            (_base_cell): DotProductAttentionCell(\n",
      "              (_dropout_layer): Dropout(p = 0.1, axes=())\n",
      "            )\n",
      "            (proj_query): Dense(768 -> 768, linear)\n",
      "            (proj_key): Dense(768 -> 768, linear)\n",
      "            (proj_value): Dense(768 -> 768, linear)\n",
      "          )\n",
      "          (proj): Dense(768 -> 768, linear)\n",
      "          (ffn): BERTPositionwiseFFN(\n",
      "            (ffn_1): Dense(768 -> 3072, linear)\n",
      "            (activation): GELU()\n",
      "            (ffn_2): Dense(3072 -> 768, linear)\n",
      "            (dropout_layer): Dropout(p = 0.1, axes=())\n",
      "            (layer_norm): BERTLayerNorm(eps=1e-12, axis=-1, center=True, scale=True, in_channels=768)\n",
      "          )\n",
      "          (layer_norm): BERTLayerNorm(eps=1e-12, axis=-1, center=True, scale=True, in_channels=768)\n",
      "        )\n",
      "        (3): BERTEncoderCell(\n",
      "          (dropout_layer): Dropout(p = 0.1, axes=())\n",
      "          (attention_cell): MultiHeadAttentionCell(\n",
      "            (_base_cell): DotProductAttentionCell(\n",
      "              (_dropout_layer): Dropout(p = 0.1, axes=())\n",
      "            )\n",
      "            (proj_query): Dense(768 -> 768, linear)\n",
      "            (proj_key): Dense(768 -> 768, linear)\n",
      "            (proj_value): Dense(768 -> 768, linear)\n",
      "          )\n",
      "          (proj): Dense(768 -> 768, linear)\n",
      "          (ffn): BERTPositionwiseFFN(\n",
      "            (ffn_1): Dense(768 -> 3072, linear)\n",
      "            (activation): GELU()\n",
      "            (ffn_2): Dense(3072 -> 768, linear)\n",
      "            (dropout_layer): Dropout(p = 0.1, axes=())\n",
      "            (layer_norm): BERTLayerNorm(eps=1e-12, axis=-1, center=True, scale=True, in_channels=768)\n",
      "          )\n",
      "          (layer_norm): BERTLayerNorm(eps=1e-12, axis=-1, center=True, scale=True, in_channels=768)\n",
      "        )\n",
      "        (4): BERTEncoderCell(\n",
      "          (dropout_layer): Dropout(p = 0.1, axes=())\n",
      "          (attention_cell): MultiHeadAttentionCell(\n",
      "            (_base_cell): DotProductAttentionCell(\n",
      "              (_dropout_layer): Dropout(p = 0.1, axes=())\n",
      "            )\n",
      "            (proj_query): Dense(768 -> 768, linear)\n",
      "            (proj_key): Dense(768 -> 768, linear)\n",
      "            (proj_value): Dense(768 -> 768, linear)\n",
      "          )\n",
      "          (proj): Dense(768 -> 768, linear)\n",
      "          (ffn): BERTPositionwiseFFN(\n",
      "            (ffn_1): Dense(768 -> 3072, linear)\n",
      "            (activation): GELU()\n",
      "            (ffn_2): Dense(3072 -> 768, linear)\n",
      "            (dropout_layer): Dropout(p = 0.1, axes=())\n",
      "            (layer_norm): BERTLayerNorm(eps=1e-12, axis=-1, center=True, scale=True, in_channels=768)\n",
      "          )\n",
      "          (layer_norm): BERTLayerNorm(eps=1e-12, axis=-1, center=True, scale=True, in_channels=768)\n",
      "        )\n",
      "        (5): BERTEncoderCell(\n",
      "          (dropout_layer): Dropout(p = 0.1, axes=())\n",
      "          (attention_cell): MultiHeadAttentionCell(\n",
      "            (_base_cell): DotProductAttentionCell(\n",
      "              (_dropout_layer): Dropout(p = 0.1, axes=())\n",
      "            )\n",
      "            (proj_query): Dense(768 -> 768, linear)\n",
      "            (proj_key): Dense(768 -> 768, linear)\n",
      "            (proj_value): Dense(768 -> 768, linear)\n",
      "          )\n",
      "          (proj): Dense(768 -> 768, linear)\n",
      "          (ffn): BERTPositionwiseFFN(\n",
      "            (ffn_1): Dense(768 -> 3072, linear)\n",
      "            (activation): GELU()\n",
      "            (ffn_2): Dense(3072 -> 768, linear)\n",
      "            (dropout_layer): Dropout(p = 0.1, axes=())\n",
      "            (layer_norm): BERTLayerNorm(eps=1e-12, axis=-1, center=True, scale=True, in_channels=768)\n",
      "          )\n",
      "          (layer_norm): BERTLayerNorm(eps=1e-12, axis=-1, center=True, scale=True, in_channels=768)\n",
      "        )\n",
      "        (6): BERTEncoderCell(\n",
      "          (dropout_layer): Dropout(p = 0.1, axes=())\n",
      "          (attention_cell): MultiHeadAttentionCell(\n",
      "            (_base_cell): DotProductAttentionCell(\n",
      "              (_dropout_layer): Dropout(p = 0.1, axes=())\n",
      "            )\n",
      "            (proj_query): Dense(768 -> 768, linear)\n",
      "            (proj_key): Dense(768 -> 768, linear)\n",
      "            (proj_value): Dense(768 -> 768, linear)\n",
      "          )\n",
      "          (proj): Dense(768 -> 768, linear)\n",
      "          (ffn): BERTPositionwiseFFN(\n",
      "            (ffn_1): Dense(768 -> 3072, linear)\n",
      "            (activation): GELU()\n",
      "            (ffn_2): Dense(3072 -> 768, linear)\n",
      "            (dropout_layer): Dropout(p = 0.1, axes=())\n",
      "            (layer_norm): BERTLayerNorm(eps=1e-12, axis=-1, center=True, scale=True, in_channels=768)\n",
      "          )\n",
      "          (layer_norm): BERTLayerNorm(eps=1e-12, axis=-1, center=True, scale=True, in_channels=768)\n",
      "        )\n",
      "        (7): BERTEncoderCell(\n",
      "          (dropout_layer): Dropout(p = 0.1, axes=())\n",
      "          (attention_cell): MultiHeadAttentionCell(\n",
      "            (_base_cell): DotProductAttentionCell(\n",
      "              (_dropout_layer): Dropout(p = 0.1, axes=())\n",
      "            )\n",
      "            (proj_query): Dense(768 -> 768, linear)\n",
      "            (proj_key): Dense(768 -> 768, linear)\n",
      "            (proj_value): Dense(768 -> 768, linear)\n",
      "          )\n",
      "          (proj): Dense(768 -> 768, linear)\n",
      "          (ffn): BERTPositionwiseFFN(\n",
      "            (ffn_1): Dense(768 -> 3072, linear)\n",
      "            (activation): GELU()\n",
      "            (ffn_2): Dense(3072 -> 768, linear)\n",
      "            (dropout_layer): Dropout(p = 0.1, axes=())\n",
      "            (layer_norm): BERTLayerNorm(eps=1e-12, axis=-1, center=True, scale=True, in_channels=768)\n",
      "          )\n",
      "          (layer_norm): BERTLayerNorm(eps=1e-12, axis=-1, center=True, scale=True, in_channels=768)\n",
      "        )\n",
      "        (8): BERTEncoderCell(\n",
      "          (dropout_layer): Dropout(p = 0.1, axes=())\n",
      "          (attention_cell): MultiHeadAttentionCell(\n",
      "            (_base_cell): DotProductAttentionCell(\n",
      "              (_dropout_layer): Dropout(p = 0.1, axes=())\n",
      "            )\n",
      "            (proj_query): Dense(768 -> 768, linear)\n",
      "            (proj_key): Dense(768 -> 768, linear)\n",
      "            (proj_value): Dense(768 -> 768, linear)\n",
      "          )\n",
      "          (proj): Dense(768 -> 768, linear)\n",
      "          (ffn): BERTPositionwiseFFN(\n",
      "            (ffn_1): Dense(768 -> 3072, linear)\n",
      "            (activation): GELU()\n",
      "            (ffn_2): Dense(3072 -> 768, linear)\n",
      "            (dropout_layer): Dropout(p = 0.1, axes=())\n",
      "            (layer_norm): BERTLayerNorm(eps=1e-12, axis=-1, center=True, scale=True, in_channels=768)\n",
      "          )\n",
      "          (layer_norm): BERTLayerNorm(eps=1e-12, axis=-1, center=True, scale=True, in_channels=768)\n",
      "        )\n",
      "        (9): BERTEncoderCell(\n",
      "          (dropout_layer): Dropout(p = 0.1, axes=())\n",
      "          (attention_cell): MultiHeadAttentionCell(\n",
      "            (_base_cell): DotProductAttentionCell(\n",
      "              (_dropout_layer): Dropout(p = 0.1, axes=())\n",
      "            )\n",
      "            (proj_query): Dense(768 -> 768, linear)\n",
      "            (proj_key): Dense(768 -> 768, linear)\n",
      "            (proj_value): Dense(768 -> 768, linear)\n",
      "          )\n",
      "          (proj): Dense(768 -> 768, linear)\n",
      "          (ffn): BERTPositionwiseFFN(\n",
      "            (ffn_1): Dense(768 -> 3072, linear)\n",
      "            (activation): GELU()\n",
      "            (ffn_2): Dense(3072 -> 768, linear)\n",
      "            (dropout_layer): Dropout(p = 0.1, axes=())\n",
      "            (layer_norm): BERTLayerNorm(eps=1e-12, axis=-1, center=True, scale=True, in_channels=768)\n",
      "          )\n",
      "          (layer_norm): BERTLayerNorm(eps=1e-12, axis=-1, center=True, scale=True, in_channels=768)\n",
      "        )\n",
      "        (10): BERTEncoderCell(\n",
      "          (dropout_layer): Dropout(p = 0.1, axes=())\n",
      "          (attention_cell): MultiHeadAttentionCell(\n",
      "            (_base_cell): DotProductAttentionCell(\n",
      "              (_dropout_layer): Dropout(p = 0.1, axes=())\n",
      "            )\n",
      "            (proj_query): Dense(768 -> 768, linear)\n",
      "            (proj_key): Dense(768 -> 768, linear)\n",
      "            (proj_value): Dense(768 -> 768, linear)\n",
      "          )\n",
      "          (proj): Dense(768 -> 768, linear)\n",
      "          (ffn): BERTPositionwiseFFN(\n",
      "            (ffn_1): Dense(768 -> 3072, linear)\n",
      "            (activation): GELU()\n",
      "            (ffn_2): Dense(3072 -> 768, linear)\n",
      "            (dropout_layer): Dropout(p = 0.1, axes=())\n",
      "            (layer_norm): BERTLayerNorm(eps=1e-12, axis=-1, center=True, scale=True, in_channels=768)\n",
      "          )\n",
      "          (layer_norm): BERTLayerNorm(eps=1e-12, axis=-1, center=True, scale=True, in_channels=768)\n",
      "        )\n",
      "        (11): BERTEncoderCell(\n",
      "          (dropout_layer): Dropout(p = 0.1, axes=())\n",
      "          (attention_cell): MultiHeadAttentionCell(\n",
      "            (_base_cell): DotProductAttentionCell(\n",
      "              (_dropout_layer): Dropout(p = 0.1, axes=())\n",
      "            )\n",
      "            (proj_query): Dense(768 -> 768, linear)\n",
      "            (proj_key): Dense(768 -> 768, linear)\n",
      "            (proj_value): Dense(768 -> 768, linear)\n",
      "          )\n",
      "          (proj): Dense(768 -> 768, linear)\n",
      "          (ffn): BERTPositionwiseFFN(\n",
      "            (ffn_1): Dense(768 -> 3072, linear)\n",
      "            (activation): GELU()\n",
      "            (ffn_2): Dense(3072 -> 768, linear)\n",
      "            (dropout_layer): Dropout(p = 0.1, axes=())\n",
      "            (layer_norm): BERTLayerNorm(eps=1e-12, axis=-1, center=True, scale=True, in_channels=768)\n",
      "          )\n",
      "          (layer_norm): BERTLayerNorm(eps=1e-12, axis=-1, center=True, scale=True, in_channels=768)\n",
      "        )\n",
      "      )\n",
      "    )\n",
      "    (word_embed): HybridSequential(\n",
      "      (0): Embedding(30522 -> 768, float32)\n",
      "      (1): Dropout(p = 0.1, axes=())\n",
      "    )\n",
      "    (token_type_embed): HybridSequential(\n",
      "      (0): Embedding(2 -> 768, float32)\n",
      "      (1): Dropout(p = 0.1, axes=())\n",
      "    )\n",
      "    (pooler): Dense(768 -> 768, Activation(tanh))\n",
      "  )\n",
      "  (classifier): HybridSequential(\n",
      "    (0): Dropout(p = 0.1, axes=())\n",
      "    (1): Dense(768 -> 1, linear)\n",
      "  )\n",
      ")\n"
     ]
    }
   ],
   "source": [
    "print(model)"
   ]
  },
  {
   "cell_type": "code",
   "execution_count": 36,
   "metadata": {
    "ExecuteTime": {
     "end_time": "2020-03-16T10:09:30.695381Z",
     "start_time": "2020-03-16T10:09:30.675599Z"
    },
    "collapsed": true
   },
   "outputs": [
    {
     "data": {
      "text/plain": [
       "['bertencoder0_transformer0_multiheadattentioncell0_query_weight',\n",
       " 'bertencoder0_transformer0_multiheadattentioncell0_query_bias',\n",
       " 'bertencoder0_transformer0_multiheadattentioncell0_key_weight',\n",
       " 'bertencoder0_transformer0_multiheadattentioncell0_key_bias',\n",
       " 'bertencoder0_transformer0_multiheadattentioncell0_value_weight',\n",
       " 'bertencoder0_transformer0_multiheadattentioncell0_value_bias',\n",
       " 'bertencoder0_transformer0_proj_weight',\n",
       " 'bertencoder0_transformer0_proj_bias',\n",
       " 'bertencoder0_transformer0_bertpositionwiseffn0_ffn_1_weight',\n",
       " 'bertencoder0_transformer0_bertpositionwiseffn0_ffn_1_bias',\n",
       " 'bertencoder0_transformer0_bertpositionwiseffn0_ffn_2_weight',\n",
       " 'bertencoder0_transformer0_bertpositionwiseffn0_ffn_2_bias',\n",
       " 'bertencoder0_transformer0_bertpositionwiseffn0_bertlayernorm0_gamma',\n",
       " 'bertencoder0_transformer0_bertpositionwiseffn0_bertlayernorm0_beta',\n",
       " 'bertencoder0_transformer0_bertlayernorm0_gamma',\n",
       " 'bertencoder0_transformer0_bertlayernorm0_beta',\n",
       " 'bertencoder0_transformer1_multiheadattentioncell0_query_weight',\n",
       " 'bertencoder0_transformer1_multiheadattentioncell0_query_bias',\n",
       " 'bertencoder0_transformer1_multiheadattentioncell0_key_weight',\n",
       " 'bertencoder0_transformer1_multiheadattentioncell0_key_bias',\n",
       " 'bertencoder0_transformer1_multiheadattentioncell0_value_weight',\n",
       " 'bertencoder0_transformer1_multiheadattentioncell0_value_bias',\n",
       " 'bertencoder0_transformer1_proj_weight',\n",
       " 'bertencoder0_transformer1_proj_bias',\n",
       " 'bertencoder0_transformer1_bertpositionwiseffn0_ffn_1_weight',\n",
       " 'bertencoder0_transformer1_bertpositionwiseffn0_ffn_1_bias',\n",
       " 'bertencoder0_transformer1_bertpositionwiseffn0_ffn_2_weight',\n",
       " 'bertencoder0_transformer1_bertpositionwiseffn0_ffn_2_bias',\n",
       " 'bertencoder0_transformer1_bertpositionwiseffn0_bertlayernorm0_gamma',\n",
       " 'bertencoder0_transformer1_bertpositionwiseffn0_bertlayernorm0_beta',\n",
       " 'bertencoder0_transformer1_bertlayernorm0_gamma',\n",
       " 'bertencoder0_transformer1_bertlayernorm0_beta',\n",
       " 'bertencoder0_transformer2_multiheadattentioncell0_query_weight',\n",
       " 'bertencoder0_transformer2_multiheadattentioncell0_query_bias',\n",
       " 'bertencoder0_transformer2_multiheadattentioncell0_key_weight',\n",
       " 'bertencoder0_transformer2_multiheadattentioncell0_key_bias',\n",
       " 'bertencoder0_transformer2_multiheadattentioncell0_value_weight',\n",
       " 'bertencoder0_transformer2_multiheadattentioncell0_value_bias',\n",
       " 'bertencoder0_transformer2_proj_weight',\n",
       " 'bertencoder0_transformer2_proj_bias',\n",
       " 'bertencoder0_transformer2_bertpositionwiseffn0_ffn_1_weight',\n",
       " 'bertencoder0_transformer2_bertpositionwiseffn0_ffn_1_bias',\n",
       " 'bertencoder0_transformer2_bertpositionwiseffn0_ffn_2_weight',\n",
       " 'bertencoder0_transformer2_bertpositionwiseffn0_ffn_2_bias',\n",
       " 'bertencoder0_transformer2_bertpositionwiseffn0_bertlayernorm0_gamma',\n",
       " 'bertencoder0_transformer2_bertpositionwiseffn0_bertlayernorm0_beta',\n",
       " 'bertencoder0_transformer2_bertlayernorm0_gamma',\n",
       " 'bertencoder0_transformer2_bertlayernorm0_beta',\n",
       " 'bertencoder0_transformer3_multiheadattentioncell0_query_weight',\n",
       " 'bertencoder0_transformer3_multiheadattentioncell0_query_bias',\n",
       " 'bertencoder0_transformer3_multiheadattentioncell0_key_weight',\n",
       " 'bertencoder0_transformer3_multiheadattentioncell0_key_bias',\n",
       " 'bertencoder0_transformer3_multiheadattentioncell0_value_weight',\n",
       " 'bertencoder0_transformer3_multiheadattentioncell0_value_bias',\n",
       " 'bertencoder0_transformer3_proj_weight',\n",
       " 'bertencoder0_transformer3_proj_bias',\n",
       " 'bertencoder0_transformer3_bertpositionwiseffn0_ffn_1_weight',\n",
       " 'bertencoder0_transformer3_bertpositionwiseffn0_ffn_1_bias',\n",
       " 'bertencoder0_transformer3_bertpositionwiseffn0_ffn_2_weight',\n",
       " 'bertencoder0_transformer3_bertpositionwiseffn0_ffn_2_bias',\n",
       " 'bertencoder0_transformer3_bertpositionwiseffn0_bertlayernorm0_gamma',\n",
       " 'bertencoder0_transformer3_bertpositionwiseffn0_bertlayernorm0_beta',\n",
       " 'bertencoder0_transformer3_bertlayernorm0_gamma',\n",
       " 'bertencoder0_transformer3_bertlayernorm0_beta',\n",
       " 'bertencoder0_transformer4_multiheadattentioncell0_query_weight',\n",
       " 'bertencoder0_transformer4_multiheadattentioncell0_query_bias',\n",
       " 'bertencoder0_transformer4_multiheadattentioncell0_key_weight',\n",
       " 'bertencoder0_transformer4_multiheadattentioncell0_key_bias',\n",
       " 'bertencoder0_transformer4_multiheadattentioncell0_value_weight',\n",
       " 'bertencoder0_transformer4_multiheadattentioncell0_value_bias',\n",
       " 'bertencoder0_transformer4_proj_weight',\n",
       " 'bertencoder0_transformer4_proj_bias',\n",
       " 'bertencoder0_transformer4_bertpositionwiseffn0_ffn_1_weight',\n",
       " 'bertencoder0_transformer4_bertpositionwiseffn0_ffn_1_bias',\n",
       " 'bertencoder0_transformer4_bertpositionwiseffn0_ffn_2_weight',\n",
       " 'bertencoder0_transformer4_bertpositionwiseffn0_ffn_2_bias',\n",
       " 'bertencoder0_transformer4_bertpositionwiseffn0_bertlayernorm0_gamma',\n",
       " 'bertencoder0_transformer4_bertpositionwiseffn0_bertlayernorm0_beta',\n",
       " 'bertencoder0_transformer4_bertlayernorm0_gamma',\n",
       " 'bertencoder0_transformer4_bertlayernorm0_beta',\n",
       " 'bertencoder0_transformer5_multiheadattentioncell0_query_weight',\n",
       " 'bertencoder0_transformer5_multiheadattentioncell0_query_bias',\n",
       " 'bertencoder0_transformer5_multiheadattentioncell0_key_weight',\n",
       " 'bertencoder0_transformer5_multiheadattentioncell0_key_bias',\n",
       " 'bertencoder0_transformer5_multiheadattentioncell0_value_weight',\n",
       " 'bertencoder0_transformer5_multiheadattentioncell0_value_bias',\n",
       " 'bertencoder0_transformer5_proj_weight',\n",
       " 'bertencoder0_transformer5_proj_bias',\n",
       " 'bertencoder0_transformer5_bertpositionwiseffn0_ffn_1_weight',\n",
       " 'bertencoder0_transformer5_bertpositionwiseffn0_ffn_1_bias',\n",
       " 'bertencoder0_transformer5_bertpositionwiseffn0_ffn_2_weight',\n",
       " 'bertencoder0_transformer5_bertpositionwiseffn0_ffn_2_bias',\n",
       " 'bertencoder0_transformer5_bertpositionwiseffn0_bertlayernorm0_gamma',\n",
       " 'bertencoder0_transformer5_bertpositionwiseffn0_bertlayernorm0_beta',\n",
       " 'bertencoder0_transformer5_bertlayernorm0_gamma',\n",
       " 'bertencoder0_transformer5_bertlayernorm0_beta']"
      ]
     },
     "execution_count": 36,
     "metadata": {},
     "output_type": "execute_result"
    }
   ],
   "source": [
    "kwparams = model.collect_params()\n",
    "keys = kwparams.keys()\n",
    "lt6 = [\n",
    "    k for k in keys\n",
    "    if k.startswith(\"bertencoder0_transformer\") and int(k[24]) in (\n",
    "        0, 1, 2, 3, 4, 5) and k[25] == \"_\"\n",
    "]\n",
    "lt6"
   ]
  },
  {
   "cell_type": "code",
   "execution_count": 37,
   "metadata": {
    "ExecuteTime": {
     "end_time": "2020-03-16T10:14:19.612078Z",
     "start_time": "2020-03-16T10:14:19.593243Z"
    },
    "collapsed": true
   },
   "outputs": [
    {
     "data": {
      "text/plain": [
       "[Parameter bertencoder0_position_weight (shape=(512, 768), dtype=<class 'numpy.float32'>),\n",
       " Parameter bertencoder0_bertlayernorm0_gamma (shape=(768,), dtype=<class 'numpy.float32'>),\n",
       " Parameter bertencoder0_bertlayernorm0_beta (shape=(768,), dtype=<class 'numpy.float32'>),\n",
       " Parameter bertencoder0_transformer0_multiheadattentioncell0_query_weight (shape=(768, 768), dtype=float32),\n",
       " Parameter bertencoder0_transformer0_multiheadattentioncell0_query_bias (shape=(768,), dtype=float32),\n",
       " Parameter bertencoder0_transformer0_multiheadattentioncell0_key_weight (shape=(768, 768), dtype=float32),\n",
       " Parameter bertencoder0_transformer0_multiheadattentioncell0_key_bias (shape=(768,), dtype=float32),\n",
       " Parameter bertencoder0_transformer0_multiheadattentioncell0_value_weight (shape=(768, 768), dtype=float32),\n",
       " Parameter bertencoder0_transformer0_multiheadattentioncell0_value_bias (shape=(768,), dtype=float32),\n",
       " Parameter bertencoder0_transformer0_proj_weight (shape=(768, 768), dtype=float32),\n",
       " Parameter bertencoder0_transformer0_proj_bias (shape=(768,), dtype=float32),\n",
       " Parameter bertencoder0_transformer0_bertpositionwiseffn0_ffn_1_weight (shape=(3072, 768), dtype=float32),\n",
       " Parameter bertencoder0_transformer0_bertpositionwiseffn0_ffn_1_bias (shape=(3072,), dtype=float32),\n",
       " Parameter bertencoder0_transformer0_bertpositionwiseffn0_ffn_2_weight (shape=(768, 3072), dtype=float32),\n",
       " Parameter bertencoder0_transformer0_bertpositionwiseffn0_ffn_2_bias (shape=(768,), dtype=float32),\n",
       " Parameter bertencoder0_transformer0_bertpositionwiseffn0_bertlayernorm0_gamma (shape=(768,), dtype=<class 'numpy.float32'>),\n",
       " Parameter bertencoder0_transformer0_bertpositionwiseffn0_bertlayernorm0_beta (shape=(768,), dtype=<class 'numpy.float32'>),\n",
       " Parameter bertencoder0_transformer0_bertlayernorm0_gamma (shape=(768,), dtype=<class 'numpy.float32'>),\n",
       " Parameter bertencoder0_transformer0_bertlayernorm0_beta (shape=(768,), dtype=<class 'numpy.float32'>),\n",
       " Parameter bertencoder0_transformer1_multiheadattentioncell0_query_weight (shape=(768, 768), dtype=float32),\n",
       " Parameter bertencoder0_transformer1_multiheadattentioncell0_query_bias (shape=(768,), dtype=float32),\n",
       " Parameter bertencoder0_transformer1_multiheadattentioncell0_key_weight (shape=(768, 768), dtype=float32),\n",
       " Parameter bertencoder0_transformer1_multiheadattentioncell0_key_bias (shape=(768,), dtype=float32),\n",
       " Parameter bertencoder0_transformer1_multiheadattentioncell0_value_weight (shape=(768, 768), dtype=float32),\n",
       " Parameter bertencoder0_transformer1_multiheadattentioncell0_value_bias (shape=(768,), dtype=float32),\n",
       " Parameter bertencoder0_transformer1_proj_weight (shape=(768, 768), dtype=float32),\n",
       " Parameter bertencoder0_transformer1_proj_bias (shape=(768,), dtype=float32),\n",
       " Parameter bertencoder0_transformer1_bertpositionwiseffn0_ffn_1_weight (shape=(3072, 768), dtype=float32),\n",
       " Parameter bertencoder0_transformer1_bertpositionwiseffn0_ffn_1_bias (shape=(3072,), dtype=float32),\n",
       " Parameter bertencoder0_transformer1_bertpositionwiseffn0_ffn_2_weight (shape=(768, 3072), dtype=float32),\n",
       " Parameter bertencoder0_transformer1_bertpositionwiseffn0_ffn_2_bias (shape=(768,), dtype=float32),\n",
       " Parameter bertencoder0_transformer1_bertpositionwiseffn0_bertlayernorm0_gamma (shape=(768,), dtype=<class 'numpy.float32'>),\n",
       " Parameter bertencoder0_transformer1_bertpositionwiseffn0_bertlayernorm0_beta (shape=(768,), dtype=<class 'numpy.float32'>),\n",
       " Parameter bertencoder0_transformer1_bertlayernorm0_gamma (shape=(768,), dtype=<class 'numpy.float32'>),\n",
       " Parameter bertencoder0_transformer1_bertlayernorm0_beta (shape=(768,), dtype=<class 'numpy.float32'>),\n",
       " Parameter bertencoder0_transformer2_multiheadattentioncell0_query_weight (shape=(768, 768), dtype=float32),\n",
       " Parameter bertencoder0_transformer2_multiheadattentioncell0_query_bias (shape=(768,), dtype=float32),\n",
       " Parameter bertencoder0_transformer2_multiheadattentioncell0_key_weight (shape=(768, 768), dtype=float32),\n",
       " Parameter bertencoder0_transformer2_multiheadattentioncell0_key_bias (shape=(768,), dtype=float32),\n",
       " Parameter bertencoder0_transformer2_multiheadattentioncell0_value_weight (shape=(768, 768), dtype=float32),\n",
       " Parameter bertencoder0_transformer2_multiheadattentioncell0_value_bias (shape=(768,), dtype=float32),\n",
       " Parameter bertencoder0_transformer2_proj_weight (shape=(768, 768), dtype=float32),\n",
       " Parameter bertencoder0_transformer2_proj_bias (shape=(768,), dtype=float32),\n",
       " Parameter bertencoder0_transformer2_bertpositionwiseffn0_ffn_1_weight (shape=(3072, 768), dtype=float32),\n",
       " Parameter bertencoder0_transformer2_bertpositionwiseffn0_ffn_1_bias (shape=(3072,), dtype=float32),\n",
       " Parameter bertencoder0_transformer2_bertpositionwiseffn0_ffn_2_weight (shape=(768, 3072), dtype=float32),\n",
       " Parameter bertencoder0_transformer2_bertpositionwiseffn0_ffn_2_bias (shape=(768,), dtype=float32),\n",
       " Parameter bertencoder0_transformer2_bertpositionwiseffn0_bertlayernorm0_gamma (shape=(768,), dtype=<class 'numpy.float32'>),\n",
       " Parameter bertencoder0_transformer2_bertpositionwiseffn0_bertlayernorm0_beta (shape=(768,), dtype=<class 'numpy.float32'>),\n",
       " Parameter bertencoder0_transformer2_bertlayernorm0_gamma (shape=(768,), dtype=<class 'numpy.float32'>),\n",
       " Parameter bertencoder0_transformer2_bertlayernorm0_beta (shape=(768,), dtype=<class 'numpy.float32'>),\n",
       " Parameter bertencoder0_transformer3_multiheadattentioncell0_query_weight (shape=(768, 768), dtype=float32),\n",
       " Parameter bertencoder0_transformer3_multiheadattentioncell0_query_bias (shape=(768,), dtype=float32),\n",
       " Parameter bertencoder0_transformer3_multiheadattentioncell0_key_weight (shape=(768, 768), dtype=float32),\n",
       " Parameter bertencoder0_transformer3_multiheadattentioncell0_key_bias (shape=(768,), dtype=float32),\n",
       " Parameter bertencoder0_transformer3_multiheadattentioncell0_value_weight (shape=(768, 768), dtype=float32),\n",
       " Parameter bertencoder0_transformer3_multiheadattentioncell0_value_bias (shape=(768,), dtype=float32),\n",
       " Parameter bertencoder0_transformer3_proj_weight (shape=(768, 768), dtype=float32),\n",
       " Parameter bertencoder0_transformer3_proj_bias (shape=(768,), dtype=float32),\n",
       " Parameter bertencoder0_transformer3_bertpositionwiseffn0_ffn_1_weight (shape=(3072, 768), dtype=float32),\n",
       " Parameter bertencoder0_transformer3_bertpositionwiseffn0_ffn_1_bias (shape=(3072,), dtype=float32),\n",
       " Parameter bertencoder0_transformer3_bertpositionwiseffn0_ffn_2_weight (shape=(768, 3072), dtype=float32),\n",
       " Parameter bertencoder0_transformer3_bertpositionwiseffn0_ffn_2_bias (shape=(768,), dtype=float32),\n",
       " Parameter bertencoder0_transformer3_bertpositionwiseffn0_bertlayernorm0_gamma (shape=(768,), dtype=<class 'numpy.float32'>),\n",
       " Parameter bertencoder0_transformer3_bertpositionwiseffn0_bertlayernorm0_beta (shape=(768,), dtype=<class 'numpy.float32'>),\n",
       " Parameter bertencoder0_transformer3_bertlayernorm0_gamma (shape=(768,), dtype=<class 'numpy.float32'>),\n",
       " Parameter bertencoder0_transformer3_bertlayernorm0_beta (shape=(768,), dtype=<class 'numpy.float32'>),\n",
       " Parameter bertencoder0_transformer4_multiheadattentioncell0_query_weight (shape=(768, 768), dtype=float32),\n",
       " Parameter bertencoder0_transformer4_multiheadattentioncell0_query_bias (shape=(768,), dtype=float32),\n",
       " Parameter bertencoder0_transformer4_multiheadattentioncell0_key_weight (shape=(768, 768), dtype=float32),\n",
       " Parameter bertencoder0_transformer4_multiheadattentioncell0_key_bias (shape=(768,), dtype=float32),\n",
       " Parameter bertencoder0_transformer4_multiheadattentioncell0_value_weight (shape=(768, 768), dtype=float32),\n",
       " Parameter bertencoder0_transformer4_multiheadattentioncell0_value_bias (shape=(768,), dtype=float32),\n",
       " Parameter bertencoder0_transformer4_proj_weight (shape=(768, 768), dtype=float32),\n",
       " Parameter bertencoder0_transformer4_proj_bias (shape=(768,), dtype=float32),\n",
       " Parameter bertencoder0_transformer4_bertpositionwiseffn0_ffn_1_weight (shape=(3072, 768), dtype=float32),\n",
       " Parameter bertencoder0_transformer4_bertpositionwiseffn0_ffn_1_bias (shape=(3072,), dtype=float32),\n",
       " Parameter bertencoder0_transformer4_bertpositionwiseffn0_ffn_2_weight (shape=(768, 3072), dtype=float32),\n",
       " Parameter bertencoder0_transformer4_bertpositionwiseffn0_ffn_2_bias (shape=(768,), dtype=float32),\n",
       " Parameter bertencoder0_transformer4_bertpositionwiseffn0_bertlayernorm0_gamma (shape=(768,), dtype=<class 'numpy.float32'>),\n",
       " Parameter bertencoder0_transformer4_bertpositionwiseffn0_bertlayernorm0_beta (shape=(768,), dtype=<class 'numpy.float32'>),\n",
       " Parameter bertencoder0_transformer4_bertlayernorm0_gamma (shape=(768,), dtype=<class 'numpy.float32'>),\n",
       " Parameter bertencoder0_transformer4_bertlayernorm0_beta (shape=(768,), dtype=<class 'numpy.float32'>),\n",
       " Parameter bertencoder0_transformer5_multiheadattentioncell0_query_weight (shape=(768, 768), dtype=float32),\n",
       " Parameter bertencoder0_transformer5_multiheadattentioncell0_query_bias (shape=(768,), dtype=float32),\n",
       " Parameter bertencoder0_transformer5_multiheadattentioncell0_key_weight (shape=(768, 768), dtype=float32),\n",
       " Parameter bertencoder0_transformer5_multiheadattentioncell0_key_bias (shape=(768,), dtype=float32),\n",
       " Parameter bertencoder0_transformer5_multiheadattentioncell0_value_weight (shape=(768, 768), dtype=float32),\n",
       " Parameter bertencoder0_transformer5_multiheadattentioncell0_value_bias (shape=(768,), dtype=float32),\n",
       " Parameter bertencoder0_transformer5_proj_weight (shape=(768, 768), dtype=float32),\n",
       " Parameter bertencoder0_transformer5_proj_bias (shape=(768,), dtype=float32),\n",
       " Parameter bertencoder0_transformer5_bertpositionwiseffn0_ffn_1_weight (shape=(3072, 768), dtype=float32),\n",
       " Parameter bertencoder0_transformer5_bertpositionwiseffn0_ffn_1_bias (shape=(3072,), dtype=float32),\n",
       " Parameter bertencoder0_transformer5_bertpositionwiseffn0_ffn_2_weight (shape=(768, 3072), dtype=float32),\n",
       " Parameter bertencoder0_transformer5_bertpositionwiseffn0_ffn_2_bias (shape=(768,), dtype=float32),\n",
       " Parameter bertencoder0_transformer5_bertpositionwiseffn0_bertlayernorm0_gamma (shape=(768,), dtype=<class 'numpy.float32'>),\n",
       " Parameter bertencoder0_transformer5_bertpositionwiseffn0_bertlayernorm0_beta (shape=(768,), dtype=<class 'numpy.float32'>),\n",
       " Parameter bertencoder0_transformer5_bertlayernorm0_gamma (shape=(768,), dtype=<class 'numpy.float32'>),\n",
       " Parameter bertencoder0_transformer5_bertlayernorm0_beta (shape=(768,), dtype=<class 'numpy.float32'>),\n",
       " Parameter bertencoder0_transformer6_multiheadattentioncell0_query_weight (shape=(768, 768), dtype=float32),\n",
       " Parameter bertencoder0_transformer6_multiheadattentioncell0_query_bias (shape=(768,), dtype=float32),\n",
       " Parameter bertencoder0_transformer6_multiheadattentioncell0_key_weight (shape=(768, 768), dtype=float32),\n",
       " Parameter bertencoder0_transformer6_multiheadattentioncell0_key_bias (shape=(768,), dtype=float32),\n",
       " Parameter bertencoder0_transformer6_multiheadattentioncell0_value_weight (shape=(768, 768), dtype=float32),\n",
       " Parameter bertencoder0_transformer6_multiheadattentioncell0_value_bias (shape=(768,), dtype=float32),\n",
       " Parameter bertencoder0_transformer6_proj_weight (shape=(768, 768), dtype=float32),\n",
       " Parameter bertencoder0_transformer6_proj_bias (shape=(768,), dtype=float32),\n",
       " Parameter bertencoder0_transformer6_bertpositionwiseffn0_ffn_1_weight (shape=(3072, 768), dtype=float32),\n",
       " Parameter bertencoder0_transformer6_bertpositionwiseffn0_ffn_1_bias (shape=(3072,), dtype=float32),\n",
       " Parameter bertencoder0_transformer6_bertpositionwiseffn0_ffn_2_weight (shape=(768, 3072), dtype=float32),\n",
       " Parameter bertencoder0_transformer6_bertpositionwiseffn0_ffn_2_bias (shape=(768,), dtype=float32),\n",
       " Parameter bertencoder0_transformer6_bertpositionwiseffn0_bertlayernorm0_gamma (shape=(768,), dtype=<class 'numpy.float32'>),\n",
       " Parameter bertencoder0_transformer6_bertpositionwiseffn0_bertlayernorm0_beta (shape=(768,), dtype=<class 'numpy.float32'>),\n",
       " Parameter bertencoder0_transformer6_bertlayernorm0_gamma (shape=(768,), dtype=<class 'numpy.float32'>),\n",
       " Parameter bertencoder0_transformer6_bertlayernorm0_beta (shape=(768,), dtype=<class 'numpy.float32'>),\n",
       " Parameter bertencoder0_transformer7_multiheadattentioncell0_query_weight (shape=(768, 768), dtype=float32),\n",
       " Parameter bertencoder0_transformer7_multiheadattentioncell0_query_bias (shape=(768,), dtype=float32),\n",
       " Parameter bertencoder0_transformer7_multiheadattentioncell0_key_weight (shape=(768, 768), dtype=float32),\n",
       " Parameter bertencoder0_transformer7_multiheadattentioncell0_key_bias (shape=(768,), dtype=float32),\n",
       " Parameter bertencoder0_transformer7_multiheadattentioncell0_value_weight (shape=(768, 768), dtype=float32),\n",
       " Parameter bertencoder0_transformer7_multiheadattentioncell0_value_bias (shape=(768,), dtype=float32),\n",
       " Parameter bertencoder0_transformer7_proj_weight (shape=(768, 768), dtype=float32),\n",
       " Parameter bertencoder0_transformer7_proj_bias (shape=(768,), dtype=float32),\n",
       " Parameter bertencoder0_transformer7_bertpositionwiseffn0_ffn_1_weight (shape=(3072, 768), dtype=float32),\n",
       " Parameter bertencoder0_transformer7_bertpositionwiseffn0_ffn_1_bias (shape=(3072,), dtype=float32),\n",
       " Parameter bertencoder0_transformer7_bertpositionwiseffn0_ffn_2_weight (shape=(768, 3072), dtype=float32),\n",
       " Parameter bertencoder0_transformer7_bertpositionwiseffn0_ffn_2_bias (shape=(768,), dtype=float32),\n",
       " Parameter bertencoder0_transformer7_bertpositionwiseffn0_bertlayernorm0_gamma (shape=(768,), dtype=<class 'numpy.float32'>),\n",
       " Parameter bertencoder0_transformer7_bertpositionwiseffn0_bertlayernorm0_beta (shape=(768,), dtype=<class 'numpy.float32'>),\n",
       " Parameter bertencoder0_transformer7_bertlayernorm0_gamma (shape=(768,), dtype=<class 'numpy.float32'>),\n",
       " Parameter bertencoder0_transformer7_bertlayernorm0_beta (shape=(768,), dtype=<class 'numpy.float32'>),\n",
       " Parameter bertencoder0_transformer8_multiheadattentioncell0_query_weight (shape=(768, 768), dtype=float32),\n",
       " Parameter bertencoder0_transformer8_multiheadattentioncell0_query_bias (shape=(768,), dtype=float32),\n",
       " Parameter bertencoder0_transformer8_multiheadattentioncell0_key_weight (shape=(768, 768), dtype=float32),\n",
       " Parameter bertencoder0_transformer8_multiheadattentioncell0_key_bias (shape=(768,), dtype=float32),\n",
       " Parameter bertencoder0_transformer8_multiheadattentioncell0_value_weight (shape=(768, 768), dtype=float32),\n",
       " Parameter bertencoder0_transformer8_multiheadattentioncell0_value_bias (shape=(768,), dtype=float32),\n",
       " Parameter bertencoder0_transformer8_proj_weight (shape=(768, 768), dtype=float32),\n",
       " Parameter bertencoder0_transformer8_proj_bias (shape=(768,), dtype=float32),\n",
       " Parameter bertencoder0_transformer8_bertpositionwiseffn0_ffn_1_weight (shape=(3072, 768), dtype=float32),\n",
       " Parameter bertencoder0_transformer8_bertpositionwiseffn0_ffn_1_bias (shape=(3072,), dtype=float32),\n",
       " Parameter bertencoder0_transformer8_bertpositionwiseffn0_ffn_2_weight (shape=(768, 3072), dtype=float32),\n",
       " Parameter bertencoder0_transformer8_bertpositionwiseffn0_ffn_2_bias (shape=(768,), dtype=float32),\n",
       " Parameter bertencoder0_transformer8_bertpositionwiseffn0_bertlayernorm0_gamma (shape=(768,), dtype=<class 'numpy.float32'>),\n",
       " Parameter bertencoder0_transformer8_bertpositionwiseffn0_bertlayernorm0_beta (shape=(768,), dtype=<class 'numpy.float32'>),\n",
       " Parameter bertencoder0_transformer8_bertlayernorm0_gamma (shape=(768,), dtype=<class 'numpy.float32'>),\n",
       " Parameter bertencoder0_transformer8_bertlayernorm0_beta (shape=(768,), dtype=<class 'numpy.float32'>),\n",
       " Parameter bertencoder0_transformer9_multiheadattentioncell0_query_weight (shape=(768, 768), dtype=float32),\n",
       " Parameter bertencoder0_transformer9_multiheadattentioncell0_query_bias (shape=(768,), dtype=float32),\n",
       " Parameter bertencoder0_transformer9_multiheadattentioncell0_key_weight (shape=(768, 768), dtype=float32),\n",
       " Parameter bertencoder0_transformer9_multiheadattentioncell0_key_bias (shape=(768,), dtype=float32),\n",
       " Parameter bertencoder0_transformer9_multiheadattentioncell0_value_weight (shape=(768, 768), dtype=float32),\n",
       " Parameter bertencoder0_transformer9_multiheadattentioncell0_value_bias (shape=(768,), dtype=float32),\n",
       " Parameter bertencoder0_transformer9_proj_weight (shape=(768, 768), dtype=float32),\n",
       " Parameter bertencoder0_transformer9_proj_bias (shape=(768,), dtype=float32),\n",
       " Parameter bertencoder0_transformer9_bertpositionwiseffn0_ffn_1_weight (shape=(3072, 768), dtype=float32),\n",
       " Parameter bertencoder0_transformer9_bertpositionwiseffn0_ffn_1_bias (shape=(3072,), dtype=float32),\n",
       " Parameter bertencoder0_transformer9_bertpositionwiseffn0_ffn_2_weight (shape=(768, 3072), dtype=float32),\n",
       " Parameter bertencoder0_transformer9_bertpositionwiseffn0_ffn_2_bias (shape=(768,), dtype=float32),\n",
       " Parameter bertencoder0_transformer9_bertpositionwiseffn0_bertlayernorm0_gamma (shape=(768,), dtype=<class 'numpy.float32'>),\n",
       " Parameter bertencoder0_transformer9_bertpositionwiseffn0_bertlayernorm0_beta (shape=(768,), dtype=<class 'numpy.float32'>),\n",
       " Parameter bertencoder0_transformer9_bertlayernorm0_gamma (shape=(768,), dtype=<class 'numpy.float32'>),\n",
       " Parameter bertencoder0_transformer9_bertlayernorm0_beta (shape=(768,), dtype=<class 'numpy.float32'>),\n",
       " Parameter bertencoder0_transformer10_multiheadattentioncell0_query_weight (shape=(768, 768), dtype=float32),\n",
       " Parameter bertencoder0_transformer10_multiheadattentioncell0_query_bias (shape=(768,), dtype=float32),\n",
       " Parameter bertencoder0_transformer10_multiheadattentioncell0_key_weight (shape=(768, 768), dtype=float32),\n",
       " Parameter bertencoder0_transformer10_multiheadattentioncell0_key_bias (shape=(768,), dtype=float32),\n",
       " Parameter bertencoder0_transformer10_multiheadattentioncell0_value_weight (shape=(768, 768), dtype=float32),\n",
       " Parameter bertencoder0_transformer10_multiheadattentioncell0_value_bias (shape=(768,), dtype=float32),\n",
       " Parameter bertencoder0_transformer10_proj_weight (shape=(768, 768), dtype=float32),\n",
       " Parameter bertencoder0_transformer10_proj_bias (shape=(768,), dtype=float32),\n",
       " Parameter bertencoder0_transformer10_bertpositionwiseffn0_ffn_1_weight (shape=(3072, 768), dtype=float32),\n",
       " Parameter bertencoder0_transformer10_bertpositionwiseffn0_ffn_1_bias (shape=(3072,), dtype=float32),\n",
       " Parameter bertencoder0_transformer10_bertpositionwiseffn0_ffn_2_weight (shape=(768, 3072), dtype=float32),\n",
       " Parameter bertencoder0_transformer10_bertpositionwiseffn0_ffn_2_bias (shape=(768,), dtype=float32),\n",
       " Parameter bertencoder0_transformer10_bertpositionwiseffn0_bertlayernorm0_gamma (shape=(768,), dtype=<class 'numpy.float32'>),\n",
       " Parameter bertencoder0_transformer10_bertpositionwiseffn0_bertlayernorm0_beta (shape=(768,), dtype=<class 'numpy.float32'>),\n",
       " Parameter bertencoder0_transformer10_bertlayernorm0_gamma (shape=(768,), dtype=<class 'numpy.float32'>),\n",
       " Parameter bertencoder0_transformer10_bertlayernorm0_beta (shape=(768,), dtype=<class 'numpy.float32'>),\n",
       " Parameter bertencoder0_transformer11_multiheadattentioncell0_query_weight (shape=(768, 768), dtype=float32),\n",
       " Parameter bertencoder0_transformer11_multiheadattentioncell0_query_bias (shape=(768,), dtype=float32),\n",
       " Parameter bertencoder0_transformer11_multiheadattentioncell0_key_weight (shape=(768, 768), dtype=float32),\n",
       " Parameter bertencoder0_transformer11_multiheadattentioncell0_key_bias (shape=(768,), dtype=float32),\n",
       " Parameter bertencoder0_transformer11_multiheadattentioncell0_value_weight (shape=(768, 768), dtype=float32),\n",
       " Parameter bertencoder0_transformer11_multiheadattentioncell0_value_bias (shape=(768,), dtype=float32),\n",
       " Parameter bertencoder0_transformer11_proj_weight (shape=(768, 768), dtype=float32),\n",
       " Parameter bertencoder0_transformer11_proj_bias (shape=(768,), dtype=float32),\n",
       " Parameter bertencoder0_transformer11_bertpositionwiseffn0_ffn_1_weight (shape=(3072, 768), dtype=float32),\n",
       " Parameter bertencoder0_transformer11_bertpositionwiseffn0_ffn_1_bias (shape=(3072,), dtype=float32),\n",
       " Parameter bertencoder0_transformer11_bertpositionwiseffn0_ffn_2_weight (shape=(768, 3072), dtype=float32),\n",
       " Parameter bertencoder0_transformer11_bertpositionwiseffn0_ffn_2_bias (shape=(768,), dtype=float32),\n",
       " Parameter bertencoder0_transformer11_bertpositionwiseffn0_bertlayernorm0_gamma (shape=(768,), dtype=<class 'numpy.float32'>),\n",
       " Parameter bertencoder0_transformer11_bertpositionwiseffn0_bertlayernorm0_beta (shape=(768,), dtype=<class 'numpy.float32'>),\n",
       " Parameter bertencoder0_transformer11_bertlayernorm0_gamma (shape=(768,), dtype=<class 'numpy.float32'>),\n",
       " Parameter bertencoder0_transformer11_bertlayernorm0_beta (shape=(768,), dtype=<class 'numpy.float32'>),\n",
       " Parameter bertmodel0_word_embed_embedding0_weight (shape=(30522, 768), dtype=float32),\n",
       " Parameter bertmodel0_token_type_embed_embedding0_weight (shape=(2, 768), dtype=float32),\n",
       " Parameter bertmodel0_pooler_weight (shape=(768, 768), dtype=float32),\n",
       " Parameter bertmodel0_pooler_bias (shape=(768,), dtype=float32),\n",
       " Parameter bertclassifier0_dense0_weight (shape=(1, 768), dtype=float32),\n",
       " Parameter bertclassifier0_dense0_bias (shape=(1,), dtype=float32)]"
      ]
     },
     "execution_count": 37,
     "metadata": {},
     "output_type": "execute_result"
    }
   ],
   "source": [
    "# normal params\n",
    "params = [\n",
    "    p for p in model.collect_params().values() if p.grad_req != 'null'\n",
    "]\n",
    "params"
   ]
  },
  {
   "cell_type": "code",
   "execution_count": 44,
   "metadata": {
    "ExecuteTime": {
     "end_time": "2020-03-16T10:20:36.938514Z",
     "start_time": "2020-03-16T10:20:36.932115Z"
    }
   },
   "outputs": [],
   "source": [
    "def get_layer_nr(name):\n",
    "    # name = param.name\n",
    "    \n",
    "    if not name.startswith(\"bertencoder\") or \"transformer\" not in name:\n",
    "        return None\n",
    "    \n",
    "    name_layer = name.split(\"_\")[1]\n",
    "    num = int(name_layer[11:])\n",
    "    return num\n",
    "\n",
    "\n",
    "def is_first_n_layer(name, n):\n",
    "    return get_layer_nr(name) not in set(range(n))\n",
    "\n",
    "\n",
    "def is_last_n_layer(name, n, params_all):\n",
    "    num_layers = max(n for n in (get_layer_nr(p) for p in params_all.keys()) if n is not None) + 1\n",
    "    return get_layer_nr(name) not in set(range(num_layers - n, num_layers))"
   ]
  },
  {
   "cell_type": "code",
   "execution_count": 46,
   "metadata": {
    "ExecuteTime": {
     "end_time": "2020-03-16T10:20:50.637377Z",
     "start_time": "2020-03-16T10:20:50.619326Z"
    },
    "collapsed": true
   },
   "outputs": [
    {
     "data": {
      "text/plain": [
       "[Parameter bertencoder0_position_weight (shape=(512, 768), dtype=<class 'numpy.float32'>),\n",
       " Parameter bertencoder0_bertlayernorm0_gamma (shape=(768,), dtype=<class 'numpy.float32'>),\n",
       " Parameter bertencoder0_bertlayernorm0_beta (shape=(768,), dtype=<class 'numpy.float32'>),\n",
       " Parameter bertencoder0_transformer6_multiheadattentioncell0_query_weight (shape=(768, 768), dtype=float32),\n",
       " Parameter bertencoder0_transformer6_multiheadattentioncell0_query_bias (shape=(768,), dtype=float32),\n",
       " Parameter bertencoder0_transformer6_multiheadattentioncell0_key_weight (shape=(768, 768), dtype=float32),\n",
       " Parameter bertencoder0_transformer6_multiheadattentioncell0_key_bias (shape=(768,), dtype=float32),\n",
       " Parameter bertencoder0_transformer6_multiheadattentioncell0_value_weight (shape=(768, 768), dtype=float32),\n",
       " Parameter bertencoder0_transformer6_multiheadattentioncell0_value_bias (shape=(768,), dtype=float32),\n",
       " Parameter bertencoder0_transformer6_proj_weight (shape=(768, 768), dtype=float32),\n",
       " Parameter bertencoder0_transformer6_proj_bias (shape=(768,), dtype=float32),\n",
       " Parameter bertencoder0_transformer6_bertpositionwiseffn0_ffn_1_weight (shape=(3072, 768), dtype=float32),\n",
       " Parameter bertencoder0_transformer6_bertpositionwiseffn0_ffn_1_bias (shape=(3072,), dtype=float32),\n",
       " Parameter bertencoder0_transformer6_bertpositionwiseffn0_ffn_2_weight (shape=(768, 3072), dtype=float32),\n",
       " Parameter bertencoder0_transformer6_bertpositionwiseffn0_ffn_2_bias (shape=(768,), dtype=float32),\n",
       " Parameter bertencoder0_transformer6_bertpositionwiseffn0_bertlayernorm0_gamma (shape=(768,), dtype=<class 'numpy.float32'>),\n",
       " Parameter bertencoder0_transformer6_bertpositionwiseffn0_bertlayernorm0_beta (shape=(768,), dtype=<class 'numpy.float32'>),\n",
       " Parameter bertencoder0_transformer6_bertlayernorm0_gamma (shape=(768,), dtype=<class 'numpy.float32'>),\n",
       " Parameter bertencoder0_transformer6_bertlayernorm0_beta (shape=(768,), dtype=<class 'numpy.float32'>),\n",
       " Parameter bertencoder0_transformer7_multiheadattentioncell0_query_weight (shape=(768, 768), dtype=float32),\n",
       " Parameter bertencoder0_transformer7_multiheadattentioncell0_query_bias (shape=(768,), dtype=float32),\n",
       " Parameter bertencoder0_transformer7_multiheadattentioncell0_key_weight (shape=(768, 768), dtype=float32),\n",
       " Parameter bertencoder0_transformer7_multiheadattentioncell0_key_bias (shape=(768,), dtype=float32),\n",
       " Parameter bertencoder0_transformer7_multiheadattentioncell0_value_weight (shape=(768, 768), dtype=float32),\n",
       " Parameter bertencoder0_transformer7_multiheadattentioncell0_value_bias (shape=(768,), dtype=float32),\n",
       " Parameter bertencoder0_transformer7_proj_weight (shape=(768, 768), dtype=float32),\n",
       " Parameter bertencoder0_transformer7_proj_bias (shape=(768,), dtype=float32),\n",
       " Parameter bertencoder0_transformer7_bertpositionwiseffn0_ffn_1_weight (shape=(3072, 768), dtype=float32),\n",
       " Parameter bertencoder0_transformer7_bertpositionwiseffn0_ffn_1_bias (shape=(3072,), dtype=float32),\n",
       " Parameter bertencoder0_transformer7_bertpositionwiseffn0_ffn_2_weight (shape=(768, 3072), dtype=float32),\n",
       " Parameter bertencoder0_transformer7_bertpositionwiseffn0_ffn_2_bias (shape=(768,), dtype=float32),\n",
       " Parameter bertencoder0_transformer7_bertpositionwiseffn0_bertlayernorm0_gamma (shape=(768,), dtype=<class 'numpy.float32'>),\n",
       " Parameter bertencoder0_transformer7_bertpositionwiseffn0_bertlayernorm0_beta (shape=(768,), dtype=<class 'numpy.float32'>),\n",
       " Parameter bertencoder0_transformer7_bertlayernorm0_gamma (shape=(768,), dtype=<class 'numpy.float32'>),\n",
       " Parameter bertencoder0_transformer7_bertlayernorm0_beta (shape=(768,), dtype=<class 'numpy.float32'>),\n",
       " Parameter bertencoder0_transformer8_multiheadattentioncell0_query_weight (shape=(768, 768), dtype=float32),\n",
       " Parameter bertencoder0_transformer8_multiheadattentioncell0_query_bias (shape=(768,), dtype=float32),\n",
       " Parameter bertencoder0_transformer8_multiheadattentioncell0_key_weight (shape=(768, 768), dtype=float32),\n",
       " Parameter bertencoder0_transformer8_multiheadattentioncell0_key_bias (shape=(768,), dtype=float32),\n",
       " Parameter bertencoder0_transformer8_multiheadattentioncell0_value_weight (shape=(768, 768), dtype=float32),\n",
       " Parameter bertencoder0_transformer8_multiheadattentioncell0_value_bias (shape=(768,), dtype=float32),\n",
       " Parameter bertencoder0_transformer8_proj_weight (shape=(768, 768), dtype=float32),\n",
       " Parameter bertencoder0_transformer8_proj_bias (shape=(768,), dtype=float32),\n",
       " Parameter bertencoder0_transformer8_bertpositionwiseffn0_ffn_1_weight (shape=(3072, 768), dtype=float32),\n",
       " Parameter bertencoder0_transformer8_bertpositionwiseffn0_ffn_1_bias (shape=(3072,), dtype=float32),\n",
       " Parameter bertencoder0_transformer8_bertpositionwiseffn0_ffn_2_weight (shape=(768, 3072), dtype=float32),\n",
       " Parameter bertencoder0_transformer8_bertpositionwiseffn0_ffn_2_bias (shape=(768,), dtype=float32),\n",
       " Parameter bertencoder0_transformer8_bertpositionwiseffn0_bertlayernorm0_gamma (shape=(768,), dtype=<class 'numpy.float32'>),\n",
       " Parameter bertencoder0_transformer8_bertpositionwiseffn0_bertlayernorm0_beta (shape=(768,), dtype=<class 'numpy.float32'>),\n",
       " Parameter bertencoder0_transformer8_bertlayernorm0_gamma (shape=(768,), dtype=<class 'numpy.float32'>),\n",
       " Parameter bertencoder0_transformer8_bertlayernorm0_beta (shape=(768,), dtype=<class 'numpy.float32'>),\n",
       " Parameter bertencoder0_transformer9_multiheadattentioncell0_query_weight (shape=(768, 768), dtype=float32),\n",
       " Parameter bertencoder0_transformer9_multiheadattentioncell0_query_bias (shape=(768,), dtype=float32),\n",
       " Parameter bertencoder0_transformer9_multiheadattentioncell0_key_weight (shape=(768, 768), dtype=float32),\n",
       " Parameter bertencoder0_transformer9_multiheadattentioncell0_key_bias (shape=(768,), dtype=float32),\n",
       " Parameter bertencoder0_transformer9_multiheadattentioncell0_value_weight (shape=(768, 768), dtype=float32),\n",
       " Parameter bertencoder0_transformer9_multiheadattentioncell0_value_bias (shape=(768,), dtype=float32),\n",
       " Parameter bertencoder0_transformer9_proj_weight (shape=(768, 768), dtype=float32),\n",
       " Parameter bertencoder0_transformer9_proj_bias (shape=(768,), dtype=float32),\n",
       " Parameter bertencoder0_transformer9_bertpositionwiseffn0_ffn_1_weight (shape=(3072, 768), dtype=float32),\n",
       " Parameter bertencoder0_transformer9_bertpositionwiseffn0_ffn_1_bias (shape=(3072,), dtype=float32),\n",
       " Parameter bertencoder0_transformer9_bertpositionwiseffn0_ffn_2_weight (shape=(768, 3072), dtype=float32),\n",
       " Parameter bertencoder0_transformer9_bertpositionwiseffn0_ffn_2_bias (shape=(768,), dtype=float32),\n",
       " Parameter bertencoder0_transformer9_bertpositionwiseffn0_bertlayernorm0_gamma (shape=(768,), dtype=<class 'numpy.float32'>),\n",
       " Parameter bertencoder0_transformer9_bertpositionwiseffn0_bertlayernorm0_beta (shape=(768,), dtype=<class 'numpy.float32'>),\n",
       " Parameter bertencoder0_transformer9_bertlayernorm0_gamma (shape=(768,), dtype=<class 'numpy.float32'>),\n",
       " Parameter bertencoder0_transformer9_bertlayernorm0_beta (shape=(768,), dtype=<class 'numpy.float32'>),\n",
       " Parameter bertencoder0_transformer10_multiheadattentioncell0_query_weight (shape=(768, 768), dtype=float32),\n",
       " Parameter bertencoder0_transformer10_multiheadattentioncell0_query_bias (shape=(768,), dtype=float32),\n",
       " Parameter bertencoder0_transformer10_multiheadattentioncell0_key_weight (shape=(768, 768), dtype=float32),\n",
       " Parameter bertencoder0_transformer10_multiheadattentioncell0_key_bias (shape=(768,), dtype=float32),\n",
       " Parameter bertencoder0_transformer10_multiheadattentioncell0_value_weight (shape=(768, 768), dtype=float32),\n",
       " Parameter bertencoder0_transformer10_multiheadattentioncell0_value_bias (shape=(768,), dtype=float32),\n",
       " Parameter bertencoder0_transformer10_proj_weight (shape=(768, 768), dtype=float32),\n",
       " Parameter bertencoder0_transformer10_proj_bias (shape=(768,), dtype=float32),\n",
       " Parameter bertencoder0_transformer10_bertpositionwiseffn0_ffn_1_weight (shape=(3072, 768), dtype=float32),\n",
       " Parameter bertencoder0_transformer10_bertpositionwiseffn0_ffn_1_bias (shape=(3072,), dtype=float32),\n",
       " Parameter bertencoder0_transformer10_bertpositionwiseffn0_ffn_2_weight (shape=(768, 3072), dtype=float32),\n",
       " Parameter bertencoder0_transformer10_bertpositionwiseffn0_ffn_2_bias (shape=(768,), dtype=float32),\n",
       " Parameter bertencoder0_transformer10_bertpositionwiseffn0_bertlayernorm0_gamma (shape=(768,), dtype=<class 'numpy.float32'>),\n",
       " Parameter bertencoder0_transformer10_bertpositionwiseffn0_bertlayernorm0_beta (shape=(768,), dtype=<class 'numpy.float32'>),\n",
       " Parameter bertencoder0_transformer10_bertlayernorm0_gamma (shape=(768,), dtype=<class 'numpy.float32'>),\n",
       " Parameter bertencoder0_transformer10_bertlayernorm0_beta (shape=(768,), dtype=<class 'numpy.float32'>),\n",
       " Parameter bertencoder0_transformer11_multiheadattentioncell0_query_weight (shape=(768, 768), dtype=float32),\n",
       " Parameter bertencoder0_transformer11_multiheadattentioncell0_query_bias (shape=(768,), dtype=float32),\n",
       " Parameter bertencoder0_transformer11_multiheadattentioncell0_key_weight (shape=(768, 768), dtype=float32),\n",
       " Parameter bertencoder0_transformer11_multiheadattentioncell0_key_bias (shape=(768,), dtype=float32),\n",
       " Parameter bertencoder0_transformer11_multiheadattentioncell0_value_weight (shape=(768, 768), dtype=float32),\n",
       " Parameter bertencoder0_transformer11_multiheadattentioncell0_value_bias (shape=(768,), dtype=float32),\n",
       " Parameter bertencoder0_transformer11_proj_weight (shape=(768, 768), dtype=float32),\n",
       " Parameter bertencoder0_transformer11_proj_bias (shape=(768,), dtype=float32),\n",
       " Parameter bertencoder0_transformer11_bertpositionwiseffn0_ffn_1_weight (shape=(3072, 768), dtype=float32),\n",
       " Parameter bertencoder0_transformer11_bertpositionwiseffn0_ffn_1_bias (shape=(3072,), dtype=float32),\n",
       " Parameter bertencoder0_transformer11_bertpositionwiseffn0_ffn_2_weight (shape=(768, 3072), dtype=float32),\n",
       " Parameter bertencoder0_transformer11_bertpositionwiseffn0_ffn_2_bias (shape=(768,), dtype=float32),\n",
       " Parameter bertencoder0_transformer11_bertpositionwiseffn0_bertlayernorm0_gamma (shape=(768,), dtype=<class 'numpy.float32'>),\n",
       " Parameter bertencoder0_transformer11_bertpositionwiseffn0_bertlayernorm0_beta (shape=(768,), dtype=<class 'numpy.float32'>),\n",
       " Parameter bertencoder0_transformer11_bertlayernorm0_gamma (shape=(768,), dtype=<class 'numpy.float32'>),\n",
       " Parameter bertencoder0_transformer11_bertlayernorm0_beta (shape=(768,), dtype=<class 'numpy.float32'>),\n",
       " Parameter bertmodel0_word_embed_embedding0_weight (shape=(30522, 768), dtype=float32),\n",
       " Parameter bertmodel0_token_type_embed_embedding0_weight (shape=(2, 768), dtype=float32),\n",
       " Parameter bertmodel0_pooler_weight (shape=(768, 768), dtype=float32),\n",
       " Parameter bertmodel0_pooler_bias (shape=(768,), dtype=float32),\n",
       " Parameter bertclassifier0_dense0_weight (shape=(1, 768), dtype=float32),\n",
       " Parameter bertclassifier0_dense0_bias (shape=(1,), dtype=float32)]"
      ]
     },
     "execution_count": 46,
     "metadata": {},
     "output_type": "execute_result"
    }
   ],
   "source": [
    "params[10].name\n",
    "get_layer_nr(params[10])\n",
    "\n",
    "params = [\n",
    "    p for p in model.collect_params().values()\n",
    "    if p.grad_req != 'null' and not is_first_n_layer(p.name, 6)\n",
    "]\n",
    "params"
   ]
  },
  {
   "cell_type": "code",
   "execution_count": null,
   "metadata": {},
   "outputs": [],
   "source": [
    "# TODO: in trainer remove layer params that we do not want trained\n",
    "# https://mxnet.incubator.apache.org/api/python/docs/_modules/mxnet/gluon/parameter.html#ParameterDict.zero_grad\n",
    "# https://beta.mxnet.io/_modules/mxnet/gluon/block.html#Block.collect_params\n",
    "# \n",
    "# ret = ParameterDict(self._params.prefix)\n",
    "# ret.update({name:value for name, value in self.params.items() if pattern.match(name)})\n",
    "# \n",
    "from mxnet.gluon.parameter import ParameterDict\n",
    "params_all = model.collect_params()\n",
    "params_sub = ParameterDict(params_all.prefix)\n",
    "params_sub.update({name: value for name, value in params_all.items() if get_layer_nr(name) not in set(range(6))})"
   ]
  },
  {
   "cell_type": "code",
   "execution_count": null,
   "metadata": {},
   "outputs": [],
   "source": []
  },
  {
   "cell_type": "code",
   "execution_count": null,
   "metadata": {},
   "outputs": [],
   "source": []
  },
  {
   "cell_type": "code",
   "execution_count": null,
   "metadata": {},
   "outputs": [],
   "source": []
  },
  {
   "cell_type": "markdown",
   "metadata": {},
   "source": [
    "## Amazon\n",
    "\n",
    "- https://nijianmo.github.io/amazon/index.html#subsets\n",
    "- https://colab.research.google.com/drive/1Zv6MARGQcrBbLHyjPVVMZVnRWsRnVMpV#scrollTo=LgWrDtZ94w89"
   ]
  },
  {
   "cell_type": "code",
   "execution_count": null,
   "metadata": {},
   "outputs": [],
   "source": [
    "from pathlib import Path\n",
    "data_amazon_path = Path(\"/home/ekoerner/same-side-classification/data/sentiment/amazon/\")"
   ]
  },
  {
   "cell_type": "code",
   "execution_count": null,
   "metadata": {},
   "outputs": [],
   "source": [
    "# example from colab notebook\n",
    "\n",
    "import pandas as pd\n",
    "from tqdm import tqdm"
   ]
  },
  {
   "cell_type": "code",
   "execution_count": null,
   "metadata": {},
   "outputs": [],
   "source": [
    "fn_amazon_auto_reviews = data_amazon_path / \"Automotive_5.json\"\n",
    "\n",
    "data = list()\n",
    "with jsonlines.open(fn_amazon_auto_reviews, \"r\") as fp:\n",
    "    pass"
   ]
  },
  {
   "cell_type": "code",
   "execution_count": null,
   "metadata": {},
   "outputs": [],
   "source": []
  },
  {
   "cell_type": "code",
   "execution_count": null,
   "metadata": {},
   "outputs": [],
   "source": []
  },
  {
   "cell_type": "code",
   "execution_count": null,
   "metadata": {},
   "outputs": [],
   "source": []
  },
  {
   "cell_type": "code",
   "execution_count": null,
   "metadata": {},
   "outputs": [],
   "source": []
  }
 ],
 "metadata": {
  "kernelspec": {
   "display_name": "Python 3",
   "language": "python",
   "name": "python3"
  },
  "language_info": {
   "codemirror_mode": {
    "name": "ipython",
    "version": 3
   },
   "file_extension": ".py",
   "mimetype": "text/x-python",
   "name": "python",
   "nbconvert_exporter": "python",
   "pygments_lexer": "ipython3",
   "version": "3.7.3"
  },
  "varInspector": {
   "cols": {
    "lenName": 16,
    "lenType": 16,
    "lenVar": 40
   },
   "kernels_config": {
    "python": {
     "delete_cmd_postfix": "",
     "delete_cmd_prefix": "del ",
     "library": "var_list.py",
     "varRefreshCmd": "print(var_dic_list())"
    },
    "r": {
     "delete_cmd_postfix": ") ",
     "delete_cmd_prefix": "rm(",
     "library": "var_list.r",
     "varRefreshCmd": "cat(var_dic_list()) "
    }
   },
   "types_to_exclude": [
    "module",
    "function",
    "builtin_function_or_method",
    "instance",
    "_Feature"
   ],
   "window_display": false
  }
 },
 "nbformat": 4,
 "nbformat_minor": 2
}
