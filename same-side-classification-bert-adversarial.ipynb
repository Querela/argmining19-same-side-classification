{
 "cells": [
  {
   "cell_type": "markdown",
   "metadata": {},
   "source": [
    "# RATIO 2019 - Benchmarking Workshop"
   ]
  },
  {
   "cell_type": "markdown",
   "metadata": {},
   "source": [
    "https://gluon-nlp.mxnet.io/install.html\n",
    "\n",
    "```\n",
    "pip install --upgrade 'mxnet>=1.3.0'\n",
    "pip install gluonnlp\n",
    "wget https://gluon-nlp.mxnet.io/_downloads/sentence_embedding.zip\n",
    "unzip sentence_embedding.zip\n",
    "ln -s sentence_embedding/bert bert\n",
    "```"
   ]
  },
  {
   "cell_type": "code",
   "execution_count": 1,
   "metadata": {
    "ExecuteTime": {
     "end_time": "2019-07-05T12:36:58.373117Z",
     "start_time": "2019-07-05T12:36:57.381952Z"
    },
    "scrolled": true
   },
   "outputs": [],
   "source": [
    "import datetime\n",
    "import logging\n",
    "import os\n",
    "import random\n",
    "import time\n",
    "import warnings\n",
    "\n",
    "import csv\n",
    "import gluonnlp as nlp\n",
    "import matplotlib.pyplot as plt\n",
    "import mxnet as mx\n",
    "import numpy as np\n",
    "import pandas as pd\n",
    "import seaborn as sns\n",
    "\n",
    "from bert import *\n",
    "from gluonnlp.data import BERTSentenceTransform\n",
    "from mxnet import gluon\n",
    "from mxnet.gluon.data import Dataset, SimpleDataset\n",
    "from sklearn.metrics import (accuracy_score, classification_report,\n",
    "                             confusion_matrix, f1_score)\n",
    "from sklearn.model_selection import train_test_split\n",
    "from sklearn import utils\n",
    "from tqdm import tqdm"
   ]
  },
  {
   "cell_type": "code",
   "execution_count": 2,
   "metadata": {
    "ExecuteTime": {
     "end_time": "2019-07-05T12:36:58.401607Z",
     "start_time": "2019-07-05T12:36:58.398848Z"
    },
    "scrolled": true
   },
   "outputs": [],
   "source": [
    "warnings.filterwarnings('ignore')\n",
    "\n",
    "logging.basicConfig(format='%(asctime)s : %(levelname)s : %(message)s',\n",
    "                    level=logging.INFO)"
   ]
  },
  {
   "cell_type": "code",
   "execution_count": 3,
   "metadata": {
    "ExecuteTime": {
     "end_time": "2019-07-05T12:36:58.434013Z",
     "start_time": "2019-07-05T12:36:58.431346Z"
    }
   },
   "outputs": [],
   "source": [
    "# set repeatable random state\n",
    "np.random.seed(100)\n",
    "random.seed(100)\n",
    "mx.random.seed(10000)"
   ]
  },
  {
   "cell_type": "code",
   "execution_count": 4,
   "metadata": {
    "ExecuteTime": {
     "end_time": "2019-07-05T12:36:58.471778Z",
     "start_time": "2019-07-05T12:36:58.469715Z"
    },
    "scrolled": true
   },
   "outputs": [],
   "source": [
    "# apply progress bars for pandas .apply() -> .progress_apply()\n",
    "tqdm.pandas()"
   ]
  },
  {
   "cell_type": "code",
   "execution_count": 5,
   "metadata": {
    "ExecuteTime": {
     "end_time": "2019-07-05T12:36:58.510493Z",
     "start_time": "2019-07-05T12:36:58.504089Z"
    },
    "code_folding": [
     0,
     4
    ],
    "scrolled": true
   },
   "outputs": [],
   "source": [
    "class Timer:\n",
    "    def __init__(self, name=None):\n",
    "        self.name = name\n",
    "\n",
    "    def __enter__(self):\n",
    "        self.time_start = time.time()\n",
    "\n",
    "    def __exit__(self, *exc):\n",
    "        time_end = time.time()\n",
    "        time_delta = datetime.timedelta(seconds=(time_end - self.time_start))\n",
    "        if self.name:\n",
    "            print((\"Time for [{}]: {}\".format(self.name, time_delta)))\n",
    "        else:\n",
    "            print((\"Time: {}\".format(time_delta)))"
   ]
  },
  {
   "cell_type": "markdown",
   "metadata": {},
   "source": [
    "# Task 1 - Same Side Classification"
   ]
  },
  {
   "cell_type": "code",
   "execution_count": 6,
   "metadata": {
    "ExecuteTime": {
     "end_time": "2019-07-05T12:36:58.673313Z",
     "start_time": "2019-07-05T12:36:58.670135Z"
    },
    "scrolled": true
   },
   "outputs": [],
   "source": [
    "data_cross_path = 'data/same-side-classification/cross-topic/{}.csv'\n",
    "data_within_path = 'data/same-side-classification/within-topic/{}.csv'"
   ]
  },
  {
   "cell_type": "markdown",
   "metadata": {},
   "source": [
    "### Load within-topics and cross-topics data"
   ]
  },
  {
   "cell_type": "code",
   "execution_count": 7,
   "metadata": {
    "ExecuteTime": {
     "end_time": "2019-07-05T12:37:01.350070Z",
     "start_time": "2019-07-05T12:36:59.120300Z"
    },
    "code_folding": [
     11,
     18,
     29,
     36
    ],
    "hide_input": false
   },
   "outputs": [
    {
     "name": "stdout",
     "output_type": "stream",
     "text": [
      "Time for [read cross]: 0:00:01.070654\n",
      "Time for [read within]: 0:00:01.147257\n"
     ]
    }
   ],
   "source": [
    "# escapechar to detect quoting escapes, else it fails\n",
    "\n",
    "# na_filter=False, because pandas automatic \"nan\" detection fails with the topic column, too\n",
    "# cross_test_df['topic'].astype(str)[9270]\n",
    "\n",
    "# within has \"is_same_side\" as string (boolean after latest update)\n",
    "# cross has \"is_same_side\" as boolean (auto cast?)\n",
    "\n",
    "with Timer(\"read cross\"):\n",
    "    # cross_traindev_df = pd.read_csv(data_cross_path.format('training'), index_col='id', escapechar='\\\\', na_filter=False)\n",
    "    # cross_test_df = pd.read_csv(data_cross_path.format('test'), index_col='id', escapechar='\\\\', na_filter=False)\n",
    "    cross_traindev_df = pd.read_csv(data_cross_path.format('training'),\n",
    "                                    quotechar='\"',\n",
    "                                    quoting=csv.QUOTE_ALL,\n",
    "                                    encoding='utf-8',\n",
    "                                    escapechar='\\\\',\n",
    "                                    doublequote=False,\n",
    "                                    index_col='id')\n",
    "    cross_test_df = pd.read_csv(data_cross_path.format('test'),\n",
    "                                quotechar='\"',\n",
    "                                quoting=csv.QUOTE_ALL,\n",
    "                                encoding='utf-8',\n",
    "                                escapechar='\\\\',\n",
    "                                doublequote=False,\n",
    "                                index_col='id')\n",
    "\n",
    "with Timer(\"read within\"):\n",
    "    # within_traindev_df = pd.read_csv(data_within_path.format('training'), index_col='id', escapechar='\\\\', na_filter=False)\n",
    "    # within_test_df = pd.read_csv(data_within_path.format('test'), index_col='id', escapechar='\\\\', na_filter=False)\n",
    "    within_traindev_df = pd.read_csv(data_within_path.format('training'),\n",
    "                                     quotechar='\"',\n",
    "                                     quoting=csv.QUOTE_ALL,\n",
    "                                     encoding='utf-8',\n",
    "                                     escapechar='\\\\',\n",
    "                                     doublequote=False,\n",
    "                                     index_col='id')\n",
    "    within_test_df = pd.read_csv(data_within_path.format('test'),\n",
    "                                 quotechar='\"',\n",
    "                                 quoting=csv.QUOTE_ALL,\n",
    "                                 encoding='utf-8',\n",
    "                                 escapechar='\\\\',\n",
    "                                 doublequote=False,\n",
    "                                 index_col='id')"
   ]
  },
  {
   "cell_type": "code",
   "execution_count": 8,
   "metadata": {
    "ExecuteTime": {
     "end_time": "2019-07-05T12:38:41.656545Z",
     "start_time": "2019-07-05T12:37:01.560923Z"
    },
    "code_folding": [],
    "scrolled": true
   },
   "outputs": [
    {
     "name": "stdout",
     "output_type": "stream",
     "text": [
      "Time for [tag cross traindev]: 0:00:32.024033\n",
      "Time for [tag cross test]: 0:00:17.946527\n",
      "Time for [tag within traindev]: 0:00:33.609639\n",
      "Time for [tag within test]: 0:00:16.508548\n"
     ]
    }
   ],
   "source": [
    "# Adding a tag for the topics in focus: \"gay marriage\" and \"abortion\"\n",
    "def add_tag(row):\n",
    "    title = row['topic'].lower().strip()\n",
    "    if \"abortion\" in title:\n",
    "        row['tag'] = 'abortion'\n",
    "    elif \"gay marriage\"  in title:\n",
    "        row['tag'] = 'gay marriage'\n",
    "    else:\n",
    "        row['tag'] = 'NA'\n",
    "    return row\n",
    "\n",
    "\n",
    "with Timer(\"tag cross traindev\"):\n",
    "    cross_traindev_df = cross_traindev_df.apply(add_tag, axis=1)\n",
    "with Timer(\"tag cross test\"):\n",
    "    cross_test_df = cross_test_df.apply(add_tag, axis=1)\n",
    "\n",
    "with Timer(\"tag within traindev\"):\n",
    "    within_traindev_df = within_traindev_df.apply(add_tag, axis=1)\n",
    "with Timer(\"tag within test\"):\n",
    "    within_test_df = within_test_df.apply(add_tag, axis=1)"
   ]
  },
  {
   "cell_type": "markdown",
   "metadata": {},
   "source": [
    "## Train model - Baseline"
   ]
  },
  {
   "cell_type": "markdown",
   "metadata": {},
   "source": [
    "### train dev set - 70% 30%"
   ]
  },
  {
   "cell_type": "code",
   "execution_count": 9,
   "metadata": {
    "ExecuteTime": {
     "end_time": "2019-07-05T12:38:41.884781Z",
     "start_time": "2019-07-05T12:38:41.881620Z"
    },
    "code_folding": [
     0
    ],
    "scrolled": true
   },
   "outputs": [],
   "source": [
    "def get_train_test_sets(df, ratio=0.30, random_state=1):\n",
    "    X = df[['argument1', 'argument2', 'argument1_id', 'argument2_id', 'topic', 'tag']]\n",
    "    y = df[['is_same_side']]\n",
    "\n",
    "    X_train, X_test, y_train, y_test = train_test_split(X,\n",
    "                                                        y,\n",
    "                                                        test_size=ratio,\n",
    "                                                        random_state=random_state,\n",
    "                                                        shuffle=True)\n",
    "    return X_train, X_test, y_train, y_test"
   ]
  },
  {
   "cell_type": "markdown",
   "metadata": {},
   "source": [
    "### BERT\n",
    "\n",
    "- https://gluon-nlp.mxnet.io/examples/sentence_embedding/bert.html"
   ]
  },
  {
   "cell_type": "code",
   "execution_count": 10,
   "metadata": {
    "ExecuteTime": {
     "end_time": "2019-07-05T12:38:42.117031Z",
     "start_time": "2019-07-05T12:38:42.108346Z"
    },
    "code_folding": [
     0,
     24
    ],
    "scrolled": true
   },
   "outputs": [],
   "source": [
    "class AdvBERTDataset(SimpleDataset):\n",
    "    def __init__(self, X, y=None):\n",
    "        self._X = X\n",
    "        self._y = y\n",
    "        super(AdvBERTDataset, self).__init__(self._convert())\n",
    "\n",
    "    def _convert(self):\n",
    "        allsamples = list()\n",
    "\n",
    "        if self._y is not None:\n",
    "            df = self._X.merge(self._y, left_index=True, right_index=True)\n",
    "            for _, row in df.iterrows():\n",
    "                allsamples.append([\n",
    "                    row['argument1'], row['argument2'],\n",
    "                    (\"1\" if str(row['is_same_side']) == \"True\" else \"0\",\n",
    "                     row['tag'])\n",
    "                ])\n",
    "        else:\n",
    "            for _, row in self._X.iterrows():\n",
    "                allsamples.append([row['argument1'], row['argument2'], None])\n",
    "\n",
    "        return allsamples\n",
    "\n",
    "\n",
    "class AdvBERTDatasetTransform(object):\n",
    "    def __init__(self,\n",
    "                 tokenizer,\n",
    "                 max_seq_length,\n",
    "                 labels=None,\n",
    "                 labels_adv=None,\n",
    "                 pad=True,\n",
    "                 pair=True,\n",
    "                 label_dtype='float32',\n",
    "                 label_adv_dtype='float32'):\n",
    "        self.label_dtype = label_dtype\n",
    "        self.label_adv_dtype = label_adv_dtype\n",
    "        self.labels = labels\n",
    "        self.labels_adv = labels_adv\n",
    "        if self.labels:\n",
    "            self._label_map = {}\n",
    "            for (i, label) in enumerate(labels):\n",
    "                self._label_map[label] = i\n",
    "        if self.labels_adv:\n",
    "            self._label_adv_map = {}\n",
    "            for (i, label_adv) in enumerate(labels_adv):\n",
    "                self._label_adv_map[label_adv] = i\n",
    "        self._bert_xform = BERTSentenceTransform(tokenizer,\n",
    "                                                 max_seq_length,\n",
    "                                                 pad=pad,\n",
    "                                                 pair=pair)\n",
    "\n",
    "    def __call__(self, line):\n",
    "        input_ids, valid_length, segment_ids = self._bert_xform(line[:-1])\n",
    "\n",
    "        label, label_adv = line[-1]\n",
    "        if self.labels:  # for classification task\n",
    "            label = self._label_map[label]\n",
    "        if self.labels_adv:\n",
    "            label_adv = self._label_adv_map[label_adv]\n",
    "        label = np.array([label], dtype=self.label_dtype)\n",
    "        label_adv = np.array([label_adv], dtype=self.label_adv_dtype)\n",
    "\n",
    "        return input_ids, valid_length, segment_ids, (label, label_adv)"
   ]
  },
  {
   "cell_type": "markdown",
   "metadata": {},
   "source": [
    "**TODO**: my own `BERTDatasetTransform` for extracting chunks from arguments or last part etc.\n",
    "\n",
    "```python\n",
    "transform = dataset.BERTDatasetTransform(bert_tokenizer, 512,\n",
    "                                         labels=['0', '1'],\n",
    "                                         label_dtype='int32',\n",
    "                                         pad=True,\n",
    "                                         pair=True)\n",
    "```\n",
    "\n",
    "http://localhost:9001/edit/bert/dataset.py @454\n",
    "```python\n",
    "# substitute with my own (e. g. last part, many parts etc.)\n",
    "def __init__(...):\n",
    "    self._bert_xform = BERTSentenceTransform(tokenizer, max_seq_length, pad=pad, pair=pair)\n",
    "```\n",
    "https://gluon-nlp.mxnet.io/master/_modules/gluonnlp/data/transforms.html#BERTSentenceTransform\n",
    "```python\n",
    "# substitute with my own (e. g. only last part (trim from start))\n",
    "self._truncate_seq_pair(tokens_a, tokens_b, self._max_seq_length - 3)\n",
    "```\n",
    "\n",
    "https://mxnet.incubator.apache.org/_modules/mxnet/gluon/data/dataset.html#Dataset.transform"
   ]
  },
  {
   "cell_type": "code",
   "execution_count": 11,
   "metadata": {
    "ExecuteTime": {
     "end_time": "2019-07-05T12:38:42.348268Z",
     "start_time": "2019-07-05T12:38:42.340377Z"
    },
    "code_folding": [
     0,
     16
    ]
   },
   "outputs": [],
   "source": [
    "class AdvSigmoidBinaryCrossEntropyLoss(gluon.loss.SigmoidBinaryCrossEntropyLoss):\n",
    "    def __init__(self, from_sigmoid=False, weight=None, batch_axis=0, **kwargs):\n",
    "        super(AdvSigmoidBinaryCrossEntropyLoss, self).__init__(from_sigmoid=from_sigmoid, weight=weight, batch_axis=batch_axis, **kwargs)\n",
    "\n",
    "    def hybrid_forward(self, F, pred, label, sample_weight=None):\n",
    "        label = _reshape_like(F, label, pred)\n",
    "        if not self._from_sigmoid:\n",
    "            # We use the stable formula: max(x, 0) - x * z + log(1 + exp(-abs(x)))\n",
    "            loss = F.relu(pred) - pred * label + F.Activation(-F.abs(pred), act_type='softrelu')\n",
    "        else:\n",
    "            loss = -(F.log(pred+1e-12)*label + F.log(1.-pred+1e-12)*(1.-label))\n",
    "        loss = _apply_weighting(F, loss, self._weight, sample_weight)\n",
    "        loss = -loss  # EK\n",
    "        return F.mean(loss, axis=self._batch_axis, exclude=True)\n",
    "\n",
    "\n",
    "class AdvSoftmaxCrossEntropyLoss(gluon.loss.SoftmaxCrossEntropyLoss):\n",
    "    def __init__(self, axis=-1, sparse_label=True, from_logits=False, weight=None,\n",
    "                 batch_axis=0, **kwargs):\n",
    "        super(AdvSoftmaxCrossEntropyLoss, self).__init__(axis=axis, sparse_label=sparse_label, from_logits=from_logits, weight=weight, batch_axis=batch_axis, **kwargs)\n",
    "\n",
    "    def hybrid_forward(self, F, pred, label, sample_weight=None):\n",
    "        if not self._from_logits:\n",
    "            pred = F.log_softmax(pred, self._axis)\n",
    "        if self._sparse_label:\n",
    "            loss = -F.pick(pred, label, axis=self._axis, keepdims=True)\n",
    "        else:\n",
    "            label = gluon.loss._reshape_like(F, label, pred)\n",
    "            loss = -F.sum(pred*label, axis=self._axis, keepdims=True)\n",
    "        loss = gluon.loss._apply_weighting(F, loss, self._weight, sample_weight)\n",
    "        loss = -loss  # EK\n",
    "        return F.mean(loss, axis=self._batch_axis, exclude=True)"
   ]
  },
  {
   "cell_type": "code",
   "execution_count": 12,
   "metadata": {
    "ExecuteTime": {
     "end_time": "2019-07-05T12:38:42.579267Z",
     "start_time": "2019-07-05T12:38:42.573235Z"
    },
    "code_folding": [
     4
    ]
   },
   "outputs": [],
   "source": [
    "from mxnet.gluon import Block\n",
    "from mxnet.gluon import nn\n",
    "\n",
    "\n",
    "class BERTAdversarialClassifier(Block):\n",
    "    \"\"\"Model for sentence (pair) classification task with BERT.\n",
    "\n",
    "    The model feeds token ids and token type ids into BERT to get the\n",
    "    pooled BERT sequence representation, then apply a Dense layer for\n",
    "    classification. Does this also for an adversarial classifier.\n",
    "\n",
    "    Parameters\n",
    "    ----------\n",
    "    bert: BERTModel\n",
    "        Bidirectional encoder with transformer.\n",
    "    num_classes : int, default is 2\n",
    "        The number of target classes.\n",
    "    num_classes_adv : int, default is 2\n",
    "        The number of target classes for adversarial classifier.\n",
    "    dropout : float or None, default 0.0.\n",
    "        Dropout probability for the bert output.\n",
    "    prefix : str or None\n",
    "        See document of `mx.gluon.Block`.\n",
    "    params : ParameterDict or None\n",
    "        See document of `mx.gluon.Block`.\n",
    "    \"\"\"\n",
    "\n",
    "    def __init__(self,\n",
    "                 bert,\n",
    "                 num_classes=2,\n",
    "                 num_classes_adv=2,\n",
    "                 dropout=0.0,\n",
    "                 prefix=None,\n",
    "                 params=None):\n",
    "        super(BERTAdversarialClassifier, self).__init__(prefix=prefix, params=params)\n",
    "        self.bert = bert\n",
    "        with self.name_scope():\n",
    "            self.classifier = nn.HybridSequential(prefix=prefix)\n",
    "            if dropout:\n",
    "                self.classifier.add(nn.Dropout(rate=dropout))\n",
    "            self.classifier.add(nn.Dense(units=num_classes))\n",
    "\n",
    "            self.adversarial_classifier = nn.HybridSequential(prefix=prefix)\n",
    "            if dropout:\n",
    "                self.adversarial_classifier.add(nn.Dropout(rate=dropout))\n",
    "            self.adversarial_classifier.add(nn.Dense(units=num_classes_adv))\n",
    "\n",
    "    def forward(self, inputs, token_types, valid_length=None):  # pylint: disable=arguments-differ\n",
    "        \"\"\"Generate the unnormalized scores for the given the input sequences.\n",
    "        From both classifiers (classifier + adversarial_classifier).\n",
    "\n",
    "        Parameters\n",
    "        ----------\n",
    "        inputs : NDArray, shape (batch_size, seq_length)\n",
    "            Input words for the sequences.\n",
    "        token_types : NDArray, shape (batch_size, seq_length)\n",
    "            Token types for the sequences, used to indicate whether the word belongs to the\n",
    "            first sentence or the second one.\n",
    "        valid_length : NDArray or None, shape (batch_size)\n",
    "            Valid length of the sequence. This is used to mask the padded tokens.\n",
    "\n",
    "        Returns\n",
    "        -------\n",
    "        outputs : NDArray\n",
    "            Shape (batch_size, num_classes), outputs of classifier.\n",
    "        outputs_adv : NDArray\n",
    "            Shape (batch_size, num_classes_adv), outputs of adversarial classifier.\n",
    "        \"\"\"\n",
    "        _, pooler_out = self.bert(inputs, token_types, valid_length)\n",
    "        classifier_out = self.classifier(pooler_out)\n",
    "        adversarial_classifier_out = self.adversarial_classifier(pooler_out)\n",
    "        return (classifier_out, adversarial_classifier_out)"
   ]
  },
  {
   "cell_type": "code",
   "execution_count": 13,
   "metadata": {
    "ExecuteTime": {
     "end_time": "2019-07-05T12:38:42.809541Z",
     "start_time": "2019-07-05T12:38:42.804057Z"
    },
    "code_folding": [
     7,
     50
    ]
   },
   "outputs": [],
   "source": [
    "# for chunked arguments, we may have to compute it all at once beforehand, should not be that much\n",
    "# since we call with any `*BERTSentenceTransform` object, \n",
    "#    splitting the lines may have to be done before a transformation of a line?\n",
    "#    -> chunking / sentence splitting, then feeding the result into the transformer, ...\n",
    "from mxnet.gluon.data import Dataset, SimpleDataset\n",
    "\n",
    "\n",
    "class MySimpleDataset(SimpleDataset):\n",
    "    \"\"\"Simple Dataset wrapper for lists and arrays.\n",
    "\n",
    "    Parameters\n",
    "    ----------\n",
    "    data : dataset-like object\n",
    "        Any object that implements `len()` and `[]`.\n",
    "    \"\"\"\n",
    "    def __init__(self, data):\n",
    "        self._data = data\n",
    "\n",
    "    def __len__(self):\n",
    "        return len(self._data)\n",
    "\n",
    "    def __getitem__(self, idx):\n",
    "        return self._data[idx]\n",
    "    \n",
    "    def transform(self, fn, lazy=True):\n",
    "        \"\"\"Returns a new dataset with each sample transformed by the\n",
    "        transformer function `fn`.\n",
    "\n",
    "        Parameters\n",
    "        ----------\n",
    "        fn : callable\n",
    "            A transformer function that takes a sample as input and\n",
    "            returns the transformed sample.\n",
    "        lazy : bool, default True\n",
    "            If False, transforms all samples at once. Otherwise,\n",
    "            transforms each sample on demand. Note that if `fn`\n",
    "            is stochastic, you must set lazy to True or you will\n",
    "            get the same result on all epochs.\n",
    "\n",
    "        Returns\n",
    "        -------\n",
    "        Dataset\n",
    "            The transformed dataset.\n",
    "        \"\"\"\n",
    "        trans = _MyLazyTransformDataset(self, fn)\n",
    "        if lazy:\n",
    "            return trans\n",
    "        return SimpleDataset([i for i in trans])\n",
    "\n",
    "\n",
    "class _MyLazyTransformDataset(Dataset):\n",
    "    \"\"\"Lazily transformed dataset.\"\"\"\n",
    "    def __init__(self, data, fn):\n",
    "        self._data = data\n",
    "        self._fn = fn\n",
    "\n",
    "    def __len__(self):\n",
    "        return len(self._data)\n",
    "\n",
    "    def __getitem__(self, idx):\n",
    "        item = self._data[idx]\n",
    "        if isinstance(item, tuple):\n",
    "            return self._fn(*item)\n",
    "        return self._fn(item)"
   ]
  },
  {
   "cell_type": "code",
   "execution_count": 14,
   "metadata": {
    "ExecuteTime": {
     "end_time": "2019-07-05T12:38:43.065734Z",
     "start_time": "2019-07-05T12:38:43.061313Z"
    },
    "code_folding": [
     3
    ]
   },
   "outputs": [],
   "source": [
    "from gluonnlp.data import BERTSentenceTransform\n",
    "\n",
    "\n",
    "class LastPartBERTSentenceTransform(BERTSentenceTransform):\n",
    "    def __init__(self, tokenizer, max_seq_length, pad=True, pair=True):\n",
    "        super(MyBERTSentenceTransform, self).__init__(tokenizer, max_seq_length, pad=pad, pair=pair)\n",
    "\n",
    "\n",
    "    def _truncate_seq_pair(self, tokens_a, tokens_b, max_length):\n",
    "        \"\"\"Truncates a sequence pair in place to the maximum length.\n",
    "        Removes from end of token list.\"\"\"\n",
    "        # This is a simple heuristic which will always truncate the longer sequence\n",
    "        # one token at a time. This makes more sense than truncating an equal percent\n",
    "        # of tokens from each, since if one sequence is very short then each token\n",
    "        # that's truncated likely contains more information than a longer sequence.\n",
    "        while True:\n",
    "            total_length = len(tokens_a) + len(tokens_b)\n",
    "            if total_length <= max_length:\n",
    "                break\n",
    "            if len(tokens_a) > len(tokens_b):\n",
    "                tokens_a.pop(0)\n",
    "            else:\n",
    "                tokens_b.pop(0)\n",
    "\n",
    "\n",
    "# TODO: random trim ? --> bad probably\n",
    "# TODO: segment-wise, e. g. 0 for normal, 1 for tokens after normal tokens, ..."
   ]
  },
  {
   "cell_type": "code",
   "execution_count": 15,
   "metadata": {
    "ExecuteTime": {
     "end_time": "2019-07-05T12:38:43.303447Z",
     "start_time": "2019-07-05T12:38:43.299881Z"
    },
    "code_folding": [
     0
    ]
   },
   "outputs": [],
   "source": [
    "class LastPartBERTDatasetTransform(dataset.BERTDatasetTransform):\n",
    "    def __init__(self, tokenizer, max_seq_length, labels=None, pad=True, pair=True, label_dtype='float32'):\n",
    "        super(MyBERTDatasetTransform, self).__init__(tokenizer, max_seq_length, labels=labels, pad=pad, pair=pair, label_dtype=label_dtype)\n",
    "        self._bert_xform = LastPartBERTSentenceTransform(tokenizer, max_seq_length, pad=pad, pair=pair)"
   ]
  },
  {
   "cell_type": "code",
   "execution_count": 16,
   "metadata": {
    "ExecuteTime": {
     "end_time": "2019-07-05T12:38:43.546290Z",
     "start_time": "2019-07-05T12:38:43.539714Z"
    },
    "code_folding": [
     0
    ],
    "scrolled": true
   },
   "outputs": [],
   "source": [
    "def setup_bert():\n",
    "    # change `ctx` to `mx.cpu()` if no GPU is available.\n",
    "    ctx = mx.gpu(0)\n",
    "    # ctx =  mx.gpu() if mx.context.num_gpus() else mx.cpu()\n",
    "    # ctx = mx.cpu()\n",
    "    \n",
    "    bert_base, vocabulary = nlp.model.get_model('bert_12_768_12',\n",
    "                                                 dataset_name='book_corpus_wiki_en_uncased',\n",
    "                                                 pretrained=True, ctx=ctx, use_pooler=True,\n",
    "                                                 use_decoder=False, use_classifier=False)\n",
    "    print(bert_base)\n",
    "    \n",
    "    model = BERTAdversarialClassifier(bert_base, num_classes=2, num_classes_adv=2, dropout=0.1)\n",
    "    # only need to initialize the classifier layer.\n",
    "    model.classifier.initialize(init=mx.init.Normal(0.02), ctx=ctx)\n",
    "    model.adversarial_classifier.initialize(init=mx.init.Normal(0.02), ctx=ctx)\n",
    "    model.hybridize(static_alloc=True)\n",
    "\n",
    "    # softmax cross entropy loss for classification\n",
    "    loss_function = gluon.loss.SoftmaxCELoss()\n",
    "    loss_function.hybridize(static_alloc=True)\n",
    "    adv_loss_function = AdvSoftmaxCrossEntropyLoss()  # negative loss (?)\n",
    "    # adv_loss_function = gluon.loss.SoftmaxCELoss()  # normal loss\n",
    "    adv_loss_function.hybridize(static_alloc=True)\n",
    "\n",
    "    metric = mx.metric.Accuracy()\n",
    "    adv_metric = mx.metric.Accuracy()\n",
    "    \n",
    "    # use the vocabulary from pre-trained model for tokenization\n",
    "    bert_tokenizer = nlp.data.BERTTokenizer(vocabulary, lower=True)\n",
    "    # maximum sequence length\n",
    "    max_len = 128  # + batch_size: 32\n",
    "    # max_len = 512  # + batch_size: 6 ?\n",
    "    # the labels for the two classes\n",
    "    all_labels = [\"0\", \"1\"]\n",
    "    all_adv_labels = [\"gay marriage\", \"abortion\"]\n",
    "    # whether to transform the data as sentence pairs.\n",
    "    # for single sentence classification, set pair=False\n",
    "    pair = True\n",
    "    # TODO: own dataset transformer\n",
    "    transform = AdvBERTDatasetTransform(bert_tokenizer, max_len,\n",
    "                                             labels=all_labels,\n",
    "                                             labels_adv=all_adv_labels,\n",
    "                                             label_dtype='int32',\n",
    "                                             label_adv_dtype='int32',\n",
    "                                             pad=True,\n",
    "                                             pair=pair)\n",
    "\n",
    "    return model, vocabulary, ctx, bert_tokenizer, transform, (loss_function, adv_loss_function), (metric, adv_metric), (all_labels, all_adv_labels)"
   ]
  },
  {
   "cell_type": "code",
   "execution_count": 17,
   "metadata": {
    "ExecuteTime": {
     "end_time": "2019-07-05T12:38:43.790478Z",
     "start_time": "2019-07-05T12:38:43.784602Z"
    },
    "code_folding": [
     0,
     6
    ]
   },
   "outputs": [],
   "source": [
    "def transform_dataset(X, y, transform):\n",
    "    data_train_raw = AdvBERTDataset(X, y)\n",
    "    data_train = data_train_raw.transform(transform)\n",
    "    return data_train_raw, data_train\n",
    "\n",
    "\n",
    "def predict_out_to_ys(all_predictions):\n",
    "    y_true, y_pred = list(), list()\n",
    "    y_adv_true, y_adv_pred = list(), list()\n",
    "    \n",
    "    for _, y_true_many, y_pred_many, y_adv_true_many, y_adv_pred_many in all_predictions:\n",
    "        y_true_many = y_true_many.T[0].asnumpy()\n",
    "        y_pred_many = np.argmax(y_pred_many, axis=1).asnumpy()\n",
    "        y_adv_true_many = y_adv_true_many.T[0].asnumpy()\n",
    "        y_adv_pred_many = np.argmax(y_adv_pred_many, axis=1).asnumpy()\n",
    "\n",
    "        y_true.extend(list(y_true_many))\n",
    "        y_pred.extend(list(y_pred_many))\n",
    "        y_adv_true.extend(list(y_adv_true_many))\n",
    "        y_adv_pred.extend(list(y_adv_pred_many))\n",
    "        \n",
    "    y_true = np.array(y_true)\n",
    "    y_pred = np.array(y_pred)\n",
    "    y_adv_true = np.array(y_adv_true)\n",
    "    y_adv_pred = np.array(y_adv_pred)\n",
    "    \n",
    "    return y_true, y_pred, y_adv_true, y_adv_pred"
   ]
  },
  {
   "cell_type": "code",
   "execution_count": 18,
   "metadata": {
    "ExecuteTime": {
     "end_time": "2019-07-05T12:38:44.043942Z",
     "start_time": "2019-07-05T12:38:44.032045Z"
    },
    "code_folding": [
     0
    ],
    "run_control": {
     "marked": false
    }
   },
   "outputs": [],
   "source": [
    "def train(model,\n",
    "          data_train,\n",
    "          ctx,\n",
    "          metric,\n",
    "          adv_metric,\n",
    "          loss_function,\n",
    "          adv_loss_function,\n",
    "          batch_size=32,\n",
    "          lr=5e-6,\n",
    "          num_epochs=3,\n",
    "          checkpoint_dir=\"data\",\n",
    "          use_checkpoints=True):\n",
    "    with Timer(\"setup training\"):\n",
    "        train_sampler = nlp.data.FixedBucketSampler(lengths=[\n",
    "            int(item[1])\n",
    "            for item in tqdm(data_train, desc=\"compute sample lengths\")\n",
    "        ],\n",
    "                                                    batch_size=batch_size,\n",
    "                                                    shuffle=True)\n",
    "        bert_dataloader = mx.gluon.data.DataLoader(data_train,\n",
    "                                                   batch_sampler=train_sampler)\n",
    "\n",
    "        trainer = gluon.Trainer(model.collect_params(), 'adam', {\n",
    "            'learning_rate': lr,\n",
    "            'epsilon': 1e-9\n",
    "        })\n",
    "\n",
    "        # collect all differentiable parameters\n",
    "        # grad_req == 'null' indicates no gradients are calculated (e.g. constant parameters)\n",
    "        # the gradients for these params are clipped later\n",
    "        params = [\n",
    "            p for p in model.collect_params().values() if p.grad_req != 'null'\n",
    "        ]\n",
    "\n",
    "    log_interval = 10\n",
    "    with Timer(\"training\"):\n",
    "        stats = list()\n",
    "        for epoch_id in range(num_epochs):\n",
    "            if use_checkpoints:\n",
    "                epoch_checkpoint_savefile = \"bert.model.checkpoint{}.params\".format(\n",
    "                    epoch_id)\n",
    "                if checkpoint_dir is not None:\n",
    "                    epoch_checkpoint_savefile = os.path.join(\n",
    "                        checkpoint_dir, epoch_checkpoint_savefile)\n",
    "                if os.path.exists(epoch_checkpoint_savefile):\n",
    "                    model.load_parameters(epoch_checkpoint_savefile, ctx=ctx)\n",
    "                    print(\"loaded checkpoint for epoch {}\".format(epoch_id))\n",
    "                    continue\n",
    "\n",
    "            with Timer(\"epoch {}\".format(epoch_id)):\n",
    "                metric.reset()\n",
    "                step_loss = 0\n",
    "                t_p = time.time()  # time keeping\n",
    "                for batch_id, (token_ids, valid_length, segment_ids,\n",
    "                               (label,\n",
    "                                label_adv)) in enumerate(bert_dataloader):\n",
    "                    with mx.autograd.record():\n",
    "\n",
    "                        # load data to GPU\n",
    "                        token_ids = token_ids.as_in_context(ctx)\n",
    "                        valid_length = valid_length.as_in_context(ctx)\n",
    "                        segment_ids = segment_ids.as_in_context(ctx)\n",
    "                        label = label.as_in_context(ctx)\n",
    "                        label_adv = label_adv.as_in_context(ctx)\n",
    "\n",
    "                        # forward computation\n",
    "                        (out, out_adv) = model(token_ids, segment_ids,\n",
    "                                               valid_length.astype('float32'))\n",
    "                        ls = loss_function(out, label).mean()\n",
    "                        ls_adv = adv_loss_function(out_adv, label_adv).mean()\n",
    "\n",
    "                    # backward computation\n",
    "                    if batch_id % 2 == 1:\n",
    "                        ls.backward()\n",
    "                    else:\n",
    "                        ls_adv.backward()\n",
    "\n",
    "                    # gradient clipping\n",
    "                    trainer.allreduce_grads()\n",
    "                    nlp.utils.clip_grad_global_norm(params, 1)\n",
    "                    trainer.update(1, ignore_stale_grad=True)\n",
    "\n",
    "                    step_loss += ls.asscalar()\n",
    "                    metric.update([label], [out])\n",
    "                    adv_metric.update([label_adv], [out_adv])\n",
    "                    stats.append((metric.get()[1], ls.asscalar(),\n",
    "                                  adv_metric.get()[1], ls_adv.asscalar()))\n",
    "                    if (batch_id + 1) % (log_interval) == 0:\n",
    "                        print(\n",
    "                            '[Epoch {} Batch {}/{}] loss={:.4f}, lr={:.7f}, acc={:.3f}, acc_adv={:.3f} - time {}'\n",
    "                            .format(\n",
    "                                epoch_id, batch_id + 1, len(bert_dataloader),\n",
    "                                step_loss / log_interval,\n",
    "                                trainer.learning_rate,\n",
    "                                metric.get()[1],\n",
    "                                adv_metric.get()[1],\n",
    "                                datetime.timedelta(seconds=(time.time() -\n",
    "                                                            t_p))))\n",
    "                        t_p = time.time()\n",
    "                        step_loss = 0\n",
    "\n",
    "            if use_checkpoints:\n",
    "                model.save_parameters(epoch_checkpoint_savefile)\n",
    "\n",
    "    return stats"
   ]
  },
  {
   "cell_type": "code",
   "execution_count": 19,
   "metadata": {
    "ExecuteTime": {
     "end_time": "2019-07-05T12:38:44.284301Z",
     "start_time": "2019-07-05T12:38:44.278559Z"
    },
    "code_folding": [
     0
    ]
   },
   "outputs": [],
   "source": [
    "def predict(model, data_predict, ctx, metric, adv_metric, loss_function, adv_loss_function, batch_size=32):\n",
    "    bert_dataloader = mx.gluon.data.DataLoader(data_predict, batch_size=batch_size)\n",
    "    \n",
    "    all_predictions = list()\n",
    "\n",
    "    with Timer(\"prediction\"):\n",
    "        metric.reset()\n",
    "        cum_loss = 0\n",
    "        cum_loss_adv = 0\n",
    "        for batch_id, (token_ids, valid_length, segment_ids,\n",
    "                       (label, label_adv)) in enumerate(tqdm(bert_dataloader)):\n",
    "            # load data to GPU\n",
    "            token_ids = token_ids.as_in_context(ctx)\n",
    "            valid_length = valid_length.as_in_context(ctx)\n",
    "            segment_ids = segment_ids.as_in_context(ctx)\n",
    "            label = label.as_in_context(ctx)\n",
    "            label_adv = label_adv.as_in_context(ctx)\n",
    "\n",
    "            # forward computation\n",
    "            (out, out_adv) = model(token_ids, segment_ids,\n",
    "                        valid_length.astype('float32'))\n",
    "            ls = loss_function(out, label).mean()\n",
    "            ls_adv = adv_loss_function(out_adv, label_adv).mean()\n",
    "\n",
    "            metric.update([label], [out])\n",
    "            adv_metric.update([label_adv], [out_adv])\n",
    "            cum_loss += ls.asscalar()  # .sum() ?\n",
    "            cum_loss_adv += ls_adv.asscalar()\n",
    "            all_predictions.append((batch_id, label, out, label_adv, out_adv))\n",
    "            \n",
    "    return all_predictions, cum_loss, cum_loss_adv"
   ]
  },
  {
   "cell_type": "code",
   "execution_count": 20,
   "metadata": {
    "ExecuteTime": {
     "end_time": "2019-07-05T12:38:44.526363Z",
     "start_time": "2019-07-05T12:38:44.519601Z"
    },
    "code_folding": [
     0,
     22
    ]
   },
   "outputs": [],
   "source": [
    "def print_infos(vocabulary, data_train_raw, data_train):\n",
    "    sample_id = 0\n",
    "\n",
    "    # sentence a\n",
    "    print(data_train_raw[sample_id][0])\n",
    "    # sentence b\n",
    "    print(data_train_raw[sample_id][1])\n",
    "    # 1 means equivalent, 0 means not equivalent\n",
    "    print(data_train_raw[sample_id][2])\n",
    "\n",
    "    print('vocabulary used for tokenization = \\n%s'%vocabulary)\n",
    "    print('[PAD] token id = %s'%(vocabulary['[PAD]']))\n",
    "    print('[CLS] token id = %s'%(vocabulary['[CLS]']))\n",
    "    print('[SEP] token id = %s'%(vocabulary['[SEP]']))\n",
    "\n",
    "    print('token ids = \\n%s'%data_train[sample_id][0])\n",
    "    print('valid length = \\n%s'%data_train[sample_id][1])\n",
    "    print('segment ids = \\n%s'%data_train[sample_id][2])\n",
    "    print('label = \\n%s'%data_train[sample_id][3][0])\n",
    "    print('label_adv = \\n%s'%data_train[sample_id][3][1])\n",
    "    \n",
    "\n",
    "def plot_train_stats(stats):\n",
    "    if not stats:\n",
    "        print(\"no stats to plot\")\n",
    "        return\n",
    "\n",
    "    x = np.arange(len(stats))  # arange/linspace\n",
    "\n",
    "    acc_dots, loss_dots, adv_acc_dots, adv_loss_dots = zip(*stats)\n",
    "\n",
    "    plt.subplot(4, 1, 1)\n",
    "    plt.plot(x, acc_dots)  # Linie: '-', 'o-', '.-'\n",
    "    plt.title('Training BERTClassifier')\n",
    "    plt.ylabel('Accuracy')\n",
    "\n",
    "    plt.subplot(4, 1, 2)\n",
    "    plt.plot(x, loss_dots)\n",
    "    plt.ylabel('Loss')\n",
    "    \n",
    "    plt.subplot(4, 1, 3)\n",
    "    plt.plot(x, adv_acc_dots)  # Linie: '-', 'o-', '.-'\n",
    "    plt.ylabel('Adv Accuracy')\n",
    "\n",
    "    plt.subplot(4, 1, 4)\n",
    "    plt.plot(x, adv_loss_dots)\n",
    "    plt.xlabel('Batches')\n",
    "    plt.ylabel('Adv Loss')\n",
    "\n",
    "    plt.show()"
   ]
  },
  {
   "cell_type": "markdown",
   "metadata": {},
   "source": [
    "### Evaluate"
   ]
  },
  {
   "cell_type": "code",
   "execution_count": 21,
   "metadata": {
    "ExecuteTime": {
     "end_time": "2019-07-05T12:38:44.768147Z",
     "start_time": "2019-07-05T12:38:44.762815Z"
    },
    "code_folding": [
     0,
     12
    ],
    "run_control": {
     "marked": false
    },
    "scrolled": true
   },
   "outputs": [],
   "source": [
    "def heatconmat(y_test, y_pred):\n",
    "    sns.set_context('talk')\n",
    "    plt.figure(figsize=(9, 6))\n",
    "    sns.heatmap(confusion_matrix(y_test, y_pred),\n",
    "                annot=True,\n",
    "                fmt='d',\n",
    "                cbar=False,\n",
    "                cmap='gist_earth_r',\n",
    "                yticklabels=sorted(np.unique(y_test)))\n",
    "    plt.show()\n",
    "\n",
    "\n",
    "def report_training_results(y_test, y_pred, name=None, heatmap=True):\n",
    "    print('Confusion Matrix:')\n",
    "    print(confusion_matrix(y_test, y_pred))\n",
    "    if heatmap:\n",
    "        heatconmat(y_test, y_pred)\n",
    "    print()\n",
    "    print('Accuracy: ', round(accuracy_score(y_test, y_pred), 2), '\\n')  #\n",
    "\n",
    "    print('Report{}:'.format(\"\" if not name else \" for [{}]\".format(name)))\n",
    "    print(classification_report(y_test, y_pred))\n",
    "\n",
    "    f1_dic = {}\n",
    "    f1_dic['macro'] = round(\n",
    "        f1_score(y_pred=y_pred, y_true=y_test, average='macro'), 2)\n",
    "    f1_dic['micro'] = round(\n",
    "        f1_score(y_pred=y_pred, y_true=y_test, average='micro'), 2)\n",
    "    return f1_dic"
   ]
  },
  {
   "cell_type": "markdown",
   "metadata": {},
   "source": [
    "### Within topic - Training and evaluating model "
   ]
  },
  {
   "cell_type": "code",
   "execution_count": 22,
   "metadata": {
    "ExecuteTime": {
     "end_time": "2019-07-05T12:38:45.043988Z",
     "start_time": "2019-07-05T12:38:45.024888Z"
    },
    "scrolled": true
   },
   "outputs": [
    {
     "name": "stdout",
     "output_type": "stream",
     "text": [
      "Time for [1 - test/train split]: 0:00:00.016046\n"
     ]
    }
   ],
   "source": [
    "# 1. Getting train and dev data\n",
    "with Timer(\"1 - test/train split\"):\n",
    "    X_train, X_dev, y_train, y_dev = get_train_test_sets(within_traindev_df)"
   ]
  },
  {
   "cell_type": "code",
   "execution_count": 23,
   "metadata": {
    "ExecuteTime": {
     "end_time": "2019-07-05T12:38:47.700138Z",
     "start_time": "2019-07-05T12:38:45.381200Z"
    },
    "collapsed": true
   },
   "outputs": [
    {
     "name": "stdout",
     "output_type": "stream",
     "text": [
      "BERTModel(\n",
      "  (encoder): BERTEncoder(\n",
      "    (dropout_layer): Dropout(p = 0.1, axes=())\n",
      "    (layer_norm): BERTLayerNorm(eps=1e-12, axis=-1, center=True, scale=True, in_channels=768)\n",
      "    (transformer_cells): HybridSequential(\n",
      "      (0): BERTEncoderCell(\n",
      "        (dropout_layer): Dropout(p = 0.1, axes=())\n",
      "        (attention_cell): MultiHeadAttentionCell(\n",
      "          (_base_cell): DotProductAttentionCell(\n",
      "            (_dropout_layer): Dropout(p = 0.1, axes=())\n",
      "          )\n",
      "          (proj_query): Dense(768 -> 768, linear)\n",
      "          (proj_key): Dense(768 -> 768, linear)\n",
      "          (proj_value): Dense(768 -> 768, linear)\n",
      "        )\n",
      "        (proj): Dense(768 -> 768, linear)\n",
      "        (ffn): BERTPositionwiseFFN(\n",
      "          (ffn_1): Dense(768 -> 3072, linear)\n",
      "          (activation): GELU()\n",
      "          (ffn_2): Dense(3072 -> 768, linear)\n",
      "          (dropout_layer): Dropout(p = 0.1, axes=())\n",
      "          (layer_norm): BERTLayerNorm(eps=1e-12, axis=-1, center=True, scale=True, in_channels=768)\n",
      "        )\n",
      "        (layer_norm): BERTLayerNorm(eps=1e-12, axis=-1, center=True, scale=True, in_channels=768)\n",
      "      )\n",
      "      (1): BERTEncoderCell(\n",
      "        (dropout_layer): Dropout(p = 0.1, axes=())\n",
      "        (attention_cell): MultiHeadAttentionCell(\n",
      "          (_base_cell): DotProductAttentionCell(\n",
      "            (_dropout_layer): Dropout(p = 0.1, axes=())\n",
      "          )\n",
      "          (proj_query): Dense(768 -> 768, linear)\n",
      "          (proj_key): Dense(768 -> 768, linear)\n",
      "          (proj_value): Dense(768 -> 768, linear)\n",
      "        )\n",
      "        (proj): Dense(768 -> 768, linear)\n",
      "        (ffn): BERTPositionwiseFFN(\n",
      "          (ffn_1): Dense(768 -> 3072, linear)\n",
      "          (activation): GELU()\n",
      "          (ffn_2): Dense(3072 -> 768, linear)\n",
      "          (dropout_layer): Dropout(p = 0.1, axes=())\n",
      "          (layer_norm): BERTLayerNorm(eps=1e-12, axis=-1, center=True, scale=True, in_channels=768)\n",
      "        )\n",
      "        (layer_norm): BERTLayerNorm(eps=1e-12, axis=-1, center=True, scale=True, in_channels=768)\n",
      "      )\n",
      "      (2): BERTEncoderCell(\n",
      "        (dropout_layer): Dropout(p = 0.1, axes=())\n",
      "        (attention_cell): MultiHeadAttentionCell(\n",
      "          (_base_cell): DotProductAttentionCell(\n",
      "            (_dropout_layer): Dropout(p = 0.1, axes=())\n",
      "          )\n",
      "          (proj_query): Dense(768 -> 768, linear)\n",
      "          (proj_key): Dense(768 -> 768, linear)\n",
      "          (proj_value): Dense(768 -> 768, linear)\n",
      "        )\n",
      "        (proj): Dense(768 -> 768, linear)\n",
      "        (ffn): BERTPositionwiseFFN(\n",
      "          (ffn_1): Dense(768 -> 3072, linear)\n",
      "          (activation): GELU()\n",
      "          (ffn_2): Dense(3072 -> 768, linear)\n",
      "          (dropout_layer): Dropout(p = 0.1, axes=())\n",
      "          (layer_norm): BERTLayerNorm(eps=1e-12, axis=-1, center=True, scale=True, in_channels=768)\n",
      "        )\n",
      "        (layer_norm): BERTLayerNorm(eps=1e-12, axis=-1, center=True, scale=True, in_channels=768)\n",
      "      )\n",
      "      (3): BERTEncoderCell(\n",
      "        (dropout_layer): Dropout(p = 0.1, axes=())\n",
      "        (attention_cell): MultiHeadAttentionCell(\n",
      "          (_base_cell): DotProductAttentionCell(\n",
      "            (_dropout_layer): Dropout(p = 0.1, axes=())\n",
      "          )\n",
      "          (proj_query): Dense(768 -> 768, linear)\n",
      "          (proj_key): Dense(768 -> 768, linear)\n",
      "          (proj_value): Dense(768 -> 768, linear)\n",
      "        )\n",
      "        (proj): Dense(768 -> 768, linear)\n",
      "        (ffn): BERTPositionwiseFFN(\n",
      "          (ffn_1): Dense(768 -> 3072, linear)\n",
      "          (activation): GELU()\n",
      "          (ffn_2): Dense(3072 -> 768, linear)\n",
      "          (dropout_layer): Dropout(p = 0.1, axes=())\n",
      "          (layer_norm): BERTLayerNorm(eps=1e-12, axis=-1, center=True, scale=True, in_channels=768)\n",
      "        )\n",
      "        (layer_norm): BERTLayerNorm(eps=1e-12, axis=-1, center=True, scale=True, in_channels=768)\n",
      "      )\n",
      "      (4): BERTEncoderCell(\n",
      "        (dropout_layer): Dropout(p = 0.1, axes=())\n",
      "        (attention_cell): MultiHeadAttentionCell(\n",
      "          (_base_cell): DotProductAttentionCell(\n",
      "            (_dropout_layer): Dropout(p = 0.1, axes=())\n",
      "          )\n",
      "          (proj_query): Dense(768 -> 768, linear)\n",
      "          (proj_key): Dense(768 -> 768, linear)\n",
      "          (proj_value): Dense(768 -> 768, linear)\n",
      "        )\n",
      "        (proj): Dense(768 -> 768, linear)\n",
      "        (ffn): BERTPositionwiseFFN(\n",
      "          (ffn_1): Dense(768 -> 3072, linear)\n",
      "          (activation): GELU()\n",
      "          (ffn_2): Dense(3072 -> 768, linear)\n",
      "          (dropout_layer): Dropout(p = 0.1, axes=())\n",
      "          (layer_norm): BERTLayerNorm(eps=1e-12, axis=-1, center=True, scale=True, in_channels=768)\n",
      "        )\n",
      "        (layer_norm): BERTLayerNorm(eps=1e-12, axis=-1, center=True, scale=True, in_channels=768)\n",
      "      )\n",
      "      (5): BERTEncoderCell(\n",
      "        (dropout_layer): Dropout(p = 0.1, axes=())\n",
      "        (attention_cell): MultiHeadAttentionCell(\n",
      "          (_base_cell): DotProductAttentionCell(\n",
      "            (_dropout_layer): Dropout(p = 0.1, axes=())\n",
      "          )\n",
      "          (proj_query): Dense(768 -> 768, linear)\n",
      "          (proj_key): Dense(768 -> 768, linear)\n",
      "          (proj_value): Dense(768 -> 768, linear)\n",
      "        )\n",
      "        (proj): Dense(768 -> 768, linear)\n",
      "        (ffn): BERTPositionwiseFFN(\n",
      "          (ffn_1): Dense(768 -> 3072, linear)\n",
      "          (activation): GELU()\n",
      "          (ffn_2): Dense(3072 -> 768, linear)\n",
      "          (dropout_layer): Dropout(p = 0.1, axes=())\n",
      "          (layer_norm): BERTLayerNorm(eps=1e-12, axis=-1, center=True, scale=True, in_channels=768)\n",
      "        )\n",
      "        (layer_norm): BERTLayerNorm(eps=1e-12, axis=-1, center=True, scale=True, in_channels=768)\n",
      "      )\n",
      "      (6): BERTEncoderCell(\n",
      "        (dropout_layer): Dropout(p = 0.1, axes=())\n",
      "        (attention_cell): MultiHeadAttentionCell(\n",
      "          (_base_cell): DotProductAttentionCell(\n",
      "            (_dropout_layer): Dropout(p = 0.1, axes=())\n",
      "          )\n",
      "          (proj_query): Dense(768 -> 768, linear)\n",
      "          (proj_key): Dense(768 -> 768, linear)\n",
      "          (proj_value): Dense(768 -> 768, linear)\n",
      "        )\n",
      "        (proj): Dense(768 -> 768, linear)\n",
      "        (ffn): BERTPositionwiseFFN(\n",
      "          (ffn_1): Dense(768 -> 3072, linear)\n",
      "          (activation): GELU()\n",
      "          (ffn_2): Dense(3072 -> 768, linear)\n",
      "          (dropout_layer): Dropout(p = 0.1, axes=())\n",
      "          (layer_norm): BERTLayerNorm(eps=1e-12, axis=-1, center=True, scale=True, in_channels=768)\n",
      "        )\n",
      "        (layer_norm): BERTLayerNorm(eps=1e-12, axis=-1, center=True, scale=True, in_channels=768)\n",
      "      )\n",
      "      (7): BERTEncoderCell(\n",
      "        (dropout_layer): Dropout(p = 0.1, axes=())\n",
      "        (attention_cell): MultiHeadAttentionCell(\n",
      "          (_base_cell): DotProductAttentionCell(\n",
      "            (_dropout_layer): Dropout(p = 0.1, axes=())\n",
      "          )\n",
      "          (proj_query): Dense(768 -> 768, linear)\n",
      "          (proj_key): Dense(768 -> 768, linear)\n",
      "          (proj_value): Dense(768 -> 768, linear)\n",
      "        )\n",
      "        (proj): Dense(768 -> 768, linear)\n",
      "        (ffn): BERTPositionwiseFFN(\n",
      "          (ffn_1): Dense(768 -> 3072, linear)\n",
      "          (activation): GELU()\n",
      "          (ffn_2): Dense(3072 -> 768, linear)\n",
      "          (dropout_layer): Dropout(p = 0.1, axes=())\n",
      "          (layer_norm): BERTLayerNorm(eps=1e-12, axis=-1, center=True, scale=True, in_channels=768)\n",
      "        )\n",
      "        (layer_norm): BERTLayerNorm(eps=1e-12, axis=-1, center=True, scale=True, in_channels=768)\n",
      "      )\n",
      "      (8): BERTEncoderCell(\n",
      "        (dropout_layer): Dropout(p = 0.1, axes=())\n",
      "        (attention_cell): MultiHeadAttentionCell(\n",
      "          (_base_cell): DotProductAttentionCell(\n",
      "            (_dropout_layer): Dropout(p = 0.1, axes=())\n",
      "          )\n",
      "          (proj_query): Dense(768 -> 768, linear)\n",
      "          (proj_key): Dense(768 -> 768, linear)\n",
      "          (proj_value): Dense(768 -> 768, linear)\n",
      "        )\n",
      "        (proj): Dense(768 -> 768, linear)\n",
      "        (ffn): BERTPositionwiseFFN(\n",
      "          (ffn_1): Dense(768 -> 3072, linear)\n",
      "          (activation): GELU()\n",
      "          (ffn_2): Dense(3072 -> 768, linear)\n",
      "          (dropout_layer): Dropout(p = 0.1, axes=())\n",
      "          (layer_norm): BERTLayerNorm(eps=1e-12, axis=-1, center=True, scale=True, in_channels=768)\n",
      "        )\n",
      "        (layer_norm): BERTLayerNorm(eps=1e-12, axis=-1, center=True, scale=True, in_channels=768)\n",
      "      )\n",
      "      (9): BERTEncoderCell(\n",
      "        (dropout_layer): Dropout(p = 0.1, axes=())\n",
      "        (attention_cell): MultiHeadAttentionCell(\n",
      "          (_base_cell): DotProductAttentionCell(\n",
      "            (_dropout_layer): Dropout(p = 0.1, axes=())\n",
      "          )\n",
      "          (proj_query): Dense(768 -> 768, linear)\n",
      "          (proj_key): Dense(768 -> 768, linear)\n",
      "          (proj_value): Dense(768 -> 768, linear)\n",
      "        )\n",
      "        (proj): Dense(768 -> 768, linear)\n",
      "        (ffn): BERTPositionwiseFFN(\n",
      "          (ffn_1): Dense(768 -> 3072, linear)\n",
      "          (activation): GELU()\n",
      "          (ffn_2): Dense(3072 -> 768, linear)\n",
      "          (dropout_layer): Dropout(p = 0.1, axes=())\n",
      "          (layer_norm): BERTLayerNorm(eps=1e-12, axis=-1, center=True, scale=True, in_channels=768)\n",
      "        )\n",
      "        (layer_norm): BERTLayerNorm(eps=1e-12, axis=-1, center=True, scale=True, in_channels=768)\n",
      "      )\n",
      "      (10): BERTEncoderCell(\n",
      "        (dropout_layer): Dropout(p = 0.1, axes=())\n",
      "        (attention_cell): MultiHeadAttentionCell(\n",
      "          (_base_cell): DotProductAttentionCell(\n",
      "            (_dropout_layer): Dropout(p = 0.1, axes=())\n",
      "          )\n",
      "          (proj_query): Dense(768 -> 768, linear)\n",
      "          (proj_key): Dense(768 -> 768, linear)\n",
      "          (proj_value): Dense(768 -> 768, linear)\n",
      "        )\n",
      "        (proj): Dense(768 -> 768, linear)\n",
      "        (ffn): BERTPositionwiseFFN(\n",
      "          (ffn_1): Dense(768 -> 3072, linear)\n",
      "          (activation): GELU()\n",
      "          (ffn_2): Dense(3072 -> 768, linear)\n",
      "          (dropout_layer): Dropout(p = 0.1, axes=())\n",
      "          (layer_norm): BERTLayerNorm(eps=1e-12, axis=-1, center=True, scale=True, in_channels=768)\n",
      "        )\n",
      "        (layer_norm): BERTLayerNorm(eps=1e-12, axis=-1, center=True, scale=True, in_channels=768)\n",
      "      )\n",
      "      (11): BERTEncoderCell(\n",
      "        (dropout_layer): Dropout(p = 0.1, axes=())\n",
      "        (attention_cell): MultiHeadAttentionCell(\n",
      "          (_base_cell): DotProductAttentionCell(\n",
      "            (_dropout_layer): Dropout(p = 0.1, axes=())\n",
      "          )\n",
      "          (proj_query): Dense(768 -> 768, linear)\n",
      "          (proj_key): Dense(768 -> 768, linear)\n",
      "          (proj_value): Dense(768 -> 768, linear)\n",
      "        )\n",
      "        (proj): Dense(768 -> 768, linear)\n",
      "        (ffn): BERTPositionwiseFFN(\n",
      "          (ffn_1): Dense(768 -> 3072, linear)\n",
      "          (activation): GELU()\n",
      "          (ffn_2): Dense(3072 -> 768, linear)\n",
      "          (dropout_layer): Dropout(p = 0.1, axes=())\n",
      "          (layer_norm): BERTLayerNorm(eps=1e-12, axis=-1, center=True, scale=True, in_channels=768)\n",
      "        )\n",
      "        (layer_norm): BERTLayerNorm(eps=1e-12, axis=-1, center=True, scale=True, in_channels=768)\n",
      "      )\n",
      "    )\n",
      "  )\n",
      "  (word_embed): HybridSequential(\n",
      "    (0): Embedding(30522 -> 768, float32)\n",
      "    (1): Dropout(p = 0.1, axes=())\n",
      "  )\n",
      "  (token_type_embed): HybridSequential(\n",
      "    (0): Embedding(2 -> 768, float32)\n",
      "    (1): Dropout(p = 0.1, axes=())\n",
      "  )\n",
      "  (pooler): Dense(768 -> 768, Activation(tanh))\n",
      ")\n",
      "Time for [2 - setup BERT model]: 0:00:02.315581\n"
     ]
    }
   ],
   "source": [
    "# 2. setup\n",
    "with Timer(\"2 - setup BERT model\"):\n",
    "    model, vocabulary, ctx, tokenizer, transform, (loss_function, adv_loss_function), (metric, adv_metric), (all_labels, all_adv_labels) = setup_bert()"
   ]
  },
  {
   "cell_type": "code",
   "execution_count": 25,
   "metadata": {
    "ExecuteTime": {
     "end_time": "2019-07-05T12:38:51.076172Z",
     "start_time": "2019-07-05T12:38:48.443717Z"
    },
    "collapsed": true
   },
   "outputs": [
    {
     "name": "stdout",
     "output_type": "stream",
     "text": [
      "wanted fetuses are beloved \"babies\"; unwanted ones are \"tissue\" (inconsistent)\n",
      "abortions are emotionally and psychologically unsafe.\n",
      "('1', 'abortion')\n",
      "vocabulary used for tokenization = \n",
      "Vocab(size=30522, unk=\"[UNK]\", reserved=\"['[PAD]', '[CLS]', '[SEP]', '[MASK]']\")\n",
      "[PAD] token id = 1\n",
      "[CLS] token id = 2\n",
      "[SEP] token id = 3\n",
      "token ids = \n",
      "[    2  2359 10768  5809  2229  2024 11419  1000 10834  1000  1025 18162\n",
      "  3924  2024  1000  8153  1000  1006 20316  1007     3 11324  2015  2024\n",
      " 14868  1998  8317  2135 25135  1012     3     1     1     1     1     1\n",
      "     1     1     1     1     1     1     1     1     1     1     1     1\n",
      "     1     1     1     1     1     1     1     1     1     1     1     1\n",
      "     1     1     1     1     1     1     1     1     1     1     1     1\n",
      "     1     1     1     1     1     1     1     1     1     1     1     1\n",
      "     1     1     1     1     1     1     1     1     1     1     1     1\n",
      "     1     1     1     1     1     1     1     1     1     1     1     1\n",
      "     1     1     1     1     1     1     1     1     1     1     1     1\n",
      "     1     1     1     1     1     1     1     1]\n",
      "valid length = \n",
      "31\n",
      "segment ids = \n",
      "[0 0 0 0 0 0 0 0 0 0 0 0 0 0 0 0 0 0 0 0 0 1 1 1 1 1 1 1 1 1 1 0 0 0 0 0 0\n",
      " 0 0 0 0 0 0 0 0 0 0 0 0 0 0 0 0 0 0 0 0 0 0 0 0 0 0 0 0 0 0 0 0 0 0 0 0 0\n",
      " 0 0 0 0 0 0 0 0 0 0 0 0 0 0 0 0 0 0 0 0 0 0 0 0 0 0 0 0 0 0 0 0 0 0 0 0 0\n",
      " 0 0 0 0 0 0 0 0 0 0 0 0 0 0 0 0 0]\n",
      "label = \n",
      "[1]\n",
      "label_adv = \n",
      "[1]\n",
      "Time for [3 - prepare training data]: 0:00:02.628499\n"
     ]
    }
   ],
   "source": [
    "with Timer(\"3 - prepare training data\"):\n",
    "    data_train_raw, data_train = transform_dataset(X_train, y_train, transform)\n",
    "    print_infos(vocabulary, data_train_raw, data_train)"
   ]
  },
  {
   "cell_type": "code",
   "execution_count": 27,
   "metadata": {
    "ExecuteTime": {
     "end_time": "2019-07-05T13:01:04.699837Z",
     "start_time": "2019-07-05T12:38:52.890371Z"
    }
   },
   "outputs": [
    {
     "name": "stderr",
     "output_type": "stream",
     "text": [
      "compute sample lengths: 100%|██████████| 44732/44732 [03:13<00:00, 231.30it/s]\n"
     ]
    },
    {
     "name": "stdout",
     "output_type": "stream",
     "text": [
      "Time for [setup training]: 0:03:13.422133\n",
      "[Epoch 0 Batch 10/1401] loss=0.7195, lr=0.0000050, acc=0.456, acc_adv=0.594 - time 0:00:08.713610\n",
      "[Epoch 0 Batch 20/1401] loss=0.6997, lr=0.0000050, acc=0.481, acc_adv=0.588 - time 0:00:08.076034\n",
      "[Epoch 0 Batch 30/1401] loss=0.7094, lr=0.0000050, acc=0.478, acc_adv=0.597 - time 0:00:07.753233\n",
      "[Epoch 0 Batch 40/1401] loss=0.7069, lr=0.0000050, acc=0.472, acc_adv=0.584 - time 0:00:07.817889\n",
      "[Epoch 0 Batch 50/1401] loss=0.6885, lr=0.0000050, acc=0.484, acc_adv=0.598 - time 0:00:08.156579\n",
      "[Epoch 0 Batch 60/1401] loss=0.7024, lr=0.0000050, acc=0.485, acc_adv=0.612 - time 0:00:07.920202\n",
      "[Epoch 0 Batch 70/1401] loss=0.6934, lr=0.0000050, acc=0.492, acc_adv=0.612 - time 0:00:07.899866\n",
      "[Epoch 0 Batch 80/1401] loss=0.6796, lr=0.0000050, acc=0.502, acc_adv=0.606 - time 0:00:08.348322\n",
      "[Epoch 0 Batch 90/1401] loss=0.6889, lr=0.0000050, acc=0.508, acc_adv=0.586 - time 0:00:07.514329\n",
      "[Epoch 0 Batch 100/1401] loss=0.7014, lr=0.0000050, acc=0.509, acc_adv=0.573 - time 0:00:08.505896\n",
      "[Epoch 0 Batch 110/1401] loss=0.6993, lr=0.0000050, acc=0.513, acc_adv=0.552 - time 0:00:08.378358\n",
      "[Epoch 0 Batch 120/1401] loss=0.7014, lr=0.0000050, acc=0.512, acc_adv=0.529 - time 0:00:07.816508\n",
      "[Epoch 0 Batch 130/1401] loss=0.6904, lr=0.0000050, acc=0.514, acc_adv=0.506 - time 0:00:08.028780\n",
      "[Epoch 0 Batch 140/1401] loss=0.6904, lr=0.0000050, acc=0.516, acc_adv=0.489 - time 0:00:08.802103\n",
      "[Epoch 0 Batch 150/1401] loss=0.6895, lr=0.0000050, acc=0.517, acc_adv=0.472 - time 0:00:08.075404\n",
      "[Epoch 0 Batch 160/1401] loss=0.6944, lr=0.0000050, acc=0.518, acc_adv=0.453 - time 0:00:08.245480\n",
      "[Epoch 0 Batch 170/1401] loss=0.6904, lr=0.0000050, acc=0.520, acc_adv=0.439 - time 0:00:08.151926\n",
      "[Epoch 0 Batch 180/1401] loss=0.6987, lr=0.0000050, acc=0.518, acc_adv=0.425 - time 0:00:08.422760\n",
      "[Epoch 0 Batch 190/1401] loss=0.6989, lr=0.0000050, acc=0.518, acc_adv=0.408 - time 0:00:07.879955\n",
      "[Epoch 0 Batch 200/1401] loss=0.6809, lr=0.0000050, acc=0.521, acc_adv=0.394 - time 0:00:08.088739\n",
      "[Epoch 0 Batch 210/1401] loss=0.7081, lr=0.0000050, acc=0.518, acc_adv=0.379 - time 0:00:07.881036\n",
      "[Epoch 0 Batch 220/1401] loss=0.6998, lr=0.0000050, acc=0.518, acc_adv=0.367 - time 0:00:08.189717\n",
      "[Epoch 0 Batch 230/1401] loss=0.6886, lr=0.0000050, acc=0.518, acc_adv=0.354 - time 0:00:08.234759\n",
      "[Epoch 0 Batch 240/1401] loss=0.6825, lr=0.0000050, acc=0.518, acc_adv=0.343 - time 0:00:08.702767\n",
      "[Epoch 0 Batch 250/1401] loss=0.6830, lr=0.0000050, acc=0.519, acc_adv=0.331 - time 0:00:07.585098\n",
      "[Epoch 0 Batch 260/1401] loss=0.7004, lr=0.0000050, acc=0.520, acc_adv=0.320 - time 0:00:07.862393\n",
      "[Epoch 0 Batch 270/1401] loss=0.7090, lr=0.0000050, acc=0.518, acc_adv=0.311 - time 0:00:08.419636\n",
      "[Epoch 0 Batch 280/1401] loss=0.6853, lr=0.0000050, acc=0.520, acc_adv=0.302 - time 0:00:08.349620\n",
      "[Epoch 0 Batch 290/1401] loss=0.6830, lr=0.0000050, acc=0.520, acc_adv=0.294 - time 0:00:08.474113\n",
      "[Epoch 0 Batch 300/1401] loss=0.6898, lr=0.0000050, acc=0.522, acc_adv=0.286 - time 0:00:08.430164\n",
      "[Epoch 0 Batch 310/1401] loss=0.6967, lr=0.0000050, acc=0.522, acc_adv=0.278 - time 0:00:08.147769\n",
      "[Epoch 0 Batch 320/1401] loss=0.6879, lr=0.0000050, acc=0.523, acc_adv=0.271 - time 0:00:08.501423\n",
      "[Epoch 0 Batch 330/1401] loss=0.7122, lr=0.0000050, acc=0.521, acc_adv=0.264 - time 0:00:07.721191\n",
      "[Epoch 0 Batch 340/1401] loss=0.6994, lr=0.0000050, acc=0.521, acc_adv=0.257 - time 0:00:07.383717\n",
      "[Epoch 0 Batch 350/1401] loss=0.7032, lr=0.0000050, acc=0.520, acc_adv=0.250 - time 0:00:08.394790\n",
      "[Epoch 0 Batch 360/1401] loss=0.6812, lr=0.0000050, acc=0.521, acc_adv=0.244 - time 0:00:08.224913\n",
      "[Epoch 0 Batch 370/1401] loss=0.6870, lr=0.0000050, acc=0.522, acc_adv=0.239 - time 0:00:08.175860\n",
      "[Epoch 0 Batch 380/1401] loss=0.6734, lr=0.0000050, acc=0.523, acc_adv=0.233 - time 0:00:08.630860\n",
      "[Epoch 0 Batch 390/1401] loss=0.6949, lr=0.0000050, acc=0.523, acc_adv=0.228 - time 0:00:08.009268\n",
      "[Epoch 0 Batch 400/1401] loss=0.6764, lr=0.0000050, acc=0.524, acc_adv=0.222 - time 0:00:08.231835\n",
      "[Epoch 0 Batch 410/1401] loss=0.6785, lr=0.0000050, acc=0.526, acc_adv=0.218 - time 0:00:08.041499\n",
      "[Epoch 0 Batch 420/1401] loss=0.6765, lr=0.0000050, acc=0.526, acc_adv=0.214 - time 0:00:08.557982\n",
      "[Epoch 0 Batch 430/1401] loss=0.6746, lr=0.0000050, acc=0.527, acc_adv=0.210 - time 0:00:08.524690\n",
      "[Epoch 0 Batch 440/1401] loss=0.6943, lr=0.0000050, acc=0.527, acc_adv=0.205 - time 0:00:07.415675\n",
      "[Epoch 0 Batch 450/1401] loss=0.6870, lr=0.0000050, acc=0.528, acc_adv=0.201 - time 0:00:07.918923\n",
      "[Epoch 0 Batch 460/1401] loss=0.6838, lr=0.0000050, acc=0.528, acc_adv=0.198 - time 0:00:08.236360\n",
      "[Epoch 0 Batch 470/1401] loss=0.6909, lr=0.0000050, acc=0.528, acc_adv=0.194 - time 0:00:08.278202\n",
      "[Epoch 0 Batch 480/1401] loss=0.6942, lr=0.0000050, acc=0.528, acc_adv=0.190 - time 0:00:08.680511\n",
      "[Epoch 0 Batch 490/1401] loss=0.6892, lr=0.0000050, acc=0.527, acc_adv=0.187 - time 0:00:08.374710\n",
      "[Epoch 0 Batch 500/1401] loss=0.6944, lr=0.0000050, acc=0.527, acc_adv=0.183 - time 0:00:07.762090\n",
      "[Epoch 0 Batch 510/1401] loss=0.6926, lr=0.0000050, acc=0.527, acc_adv=0.180 - time 0:00:08.012523\n",
      "[Epoch 0 Batch 520/1401] loss=0.6731, lr=0.0000050, acc=0.528, acc_adv=0.177 - time 0:00:08.119768\n",
      "[Epoch 0 Batch 530/1401] loss=0.6810, lr=0.0000050, acc=0.528, acc_adv=0.174 - time 0:00:08.019592\n",
      "[Epoch 0 Batch 540/1401] loss=0.6802, lr=0.0000050, acc=0.529, acc_adv=0.171 - time 0:00:07.947182\n",
      "[Epoch 0 Batch 550/1401] loss=0.6970, lr=0.0000050, acc=0.528, acc_adv=0.168 - time 0:00:07.927504\n",
      "[Epoch 0 Batch 560/1401] loss=0.6914, lr=0.0000050, acc=0.529, acc_adv=0.165 - time 0:00:07.626678\n",
      "[Epoch 0 Batch 570/1401] loss=0.6750, lr=0.0000050, acc=0.529, acc_adv=0.162 - time 0:00:08.130761\n",
      "[Epoch 0 Batch 580/1401] loss=0.6905, lr=0.0000050, acc=0.530, acc_adv=0.159 - time 0:00:08.357079\n",
      "[Epoch 0 Batch 590/1401] loss=0.6914, lr=0.0000050, acc=0.530, acc_adv=0.157 - time 0:00:07.780833\n",
      "[Epoch 0 Batch 600/1401] loss=0.6840, lr=0.0000050, acc=0.530, acc_adv=0.154 - time 0:00:08.269174\n",
      "[Epoch 0 Batch 610/1401] loss=0.6878, lr=0.0000050, acc=0.530, acc_adv=0.152 - time 0:00:08.014117\n",
      "[Epoch 0 Batch 620/1401] loss=0.6852, lr=0.0000050, acc=0.531, acc_adv=0.150 - time 0:00:07.971159\n",
      "[Epoch 0 Batch 630/1401] loss=0.6831, lr=0.0000050, acc=0.531, acc_adv=0.148 - time 0:00:08.177909\n",
      "[Epoch 0 Batch 640/1401] loss=0.6802, lr=0.0000050, acc=0.532, acc_adv=0.145 - time 0:00:08.023088\n",
      "[Epoch 0 Batch 650/1401] loss=0.6789, lr=0.0000050, acc=0.532, acc_adv=0.143 - time 0:00:07.755047\n",
      "[Epoch 0 Batch 660/1401] loss=0.6907, lr=0.0000050, acc=0.532, acc_adv=0.141 - time 0:00:08.384793\n",
      "[Epoch 0 Batch 670/1401] loss=0.6890, lr=0.0000050, acc=0.532, acc_adv=0.139 - time 0:00:07.595902\n",
      "[Epoch 0 Batch 680/1401] loss=0.6780, lr=0.0000050, acc=0.532, acc_adv=0.137 - time 0:00:08.175567\n",
      "[Epoch 0 Batch 690/1401] loss=0.6858, lr=0.0000050, acc=0.533, acc_adv=0.135 - time 0:00:08.530585\n",
      "[Epoch 0 Batch 700/1401] loss=0.6757, lr=0.0000050, acc=0.533, acc_adv=0.133 - time 0:00:08.039545\n",
      "[Epoch 0 Batch 710/1401] loss=0.6790, lr=0.0000050, acc=0.533, acc_adv=0.132 - time 0:00:08.489327\n",
      "[Epoch 0 Batch 720/1401] loss=0.6833, lr=0.0000050, acc=0.533, acc_adv=0.130 - time 0:00:08.517049\n",
      "[Epoch 0 Batch 730/1401] loss=0.6841, lr=0.0000050, acc=0.533, acc_adv=0.128 - time 0:00:07.906954\n",
      "[Epoch 0 Batch 740/1401] loss=0.7007, lr=0.0000050, acc=0.533, acc_adv=0.127 - time 0:00:07.647664\n",
      "[Epoch 0 Batch 750/1401] loss=0.6748, lr=0.0000050, acc=0.533, acc_adv=0.125 - time 0:00:08.472208\n",
      "[Epoch 0 Batch 760/1401] loss=0.6819, lr=0.0000050, acc=0.533, acc_adv=0.124 - time 0:00:08.056967\n",
      "[Epoch 0 Batch 770/1401] loss=0.6811, lr=0.0000050, acc=0.533, acc_adv=0.122 - time 0:00:08.399348\n",
      "[Epoch 0 Batch 780/1401] loss=0.6886, lr=0.0000050, acc=0.533, acc_adv=0.121 - time 0:00:08.361121\n",
      "[Epoch 0 Batch 790/1401] loss=0.6925, lr=0.0000050, acc=0.533, acc_adv=0.120 - time 0:00:08.675844\n",
      "[Epoch 0 Batch 800/1401] loss=0.6691, lr=0.0000050, acc=0.534, acc_adv=0.118 - time 0:00:08.117661\n",
      "[Epoch 0 Batch 810/1401] loss=0.6816, lr=0.0000050, acc=0.534, acc_adv=0.117 - time 0:00:08.594970\n",
      "[Epoch 0 Batch 820/1401] loss=0.6924, lr=0.0000050, acc=0.534, acc_adv=0.115 - time 0:00:07.752265\n",
      "[Epoch 0 Batch 830/1401] loss=0.6753, lr=0.0000050, acc=0.534, acc_adv=0.114 - time 0:00:07.825192\n"
     ]
    },
    {
     "name": "stdout",
     "output_type": "stream",
     "text": [
      "[Epoch 0 Batch 840/1401] loss=0.7058, lr=0.0000050, acc=0.534, acc_adv=0.113 - time 0:00:07.666386\n",
      "[Epoch 0 Batch 850/1401] loss=0.6900, lr=0.0000050, acc=0.533, acc_adv=0.112 - time 0:00:08.178258\n",
      "[Epoch 0 Batch 860/1401] loss=0.6843, lr=0.0000050, acc=0.534, acc_adv=0.110 - time 0:00:08.249987\n",
      "[Epoch 0 Batch 870/1401] loss=0.6734, lr=0.0000050, acc=0.534, acc_adv=0.109 - time 0:00:07.978474\n",
      "[Epoch 0 Batch 880/1401] loss=0.6907, lr=0.0000050, acc=0.534, acc_adv=0.108 - time 0:00:07.727830\n",
      "[Epoch 0 Batch 890/1401] loss=0.6822, lr=0.0000050, acc=0.534, acc_adv=0.107 - time 0:00:08.019767\n",
      "[Epoch 0 Batch 900/1401] loss=0.6757, lr=0.0000050, acc=0.534, acc_adv=0.106 - time 0:00:08.065148\n",
      "[Epoch 0 Batch 910/1401] loss=0.6781, lr=0.0000050, acc=0.535, acc_adv=0.105 - time 0:00:08.159321\n",
      "[Epoch 0 Batch 920/1401] loss=0.6790, lr=0.0000050, acc=0.535, acc_adv=0.104 - time 0:00:08.213051\n",
      "[Epoch 0 Batch 930/1401] loss=0.6742, lr=0.0000050, acc=0.535, acc_adv=0.103 - time 0:00:08.246307\n",
      "[Epoch 0 Batch 940/1401] loss=0.6759, lr=0.0000050, acc=0.536, acc_adv=0.102 - time 0:00:07.607776\n",
      "[Epoch 0 Batch 950/1401] loss=0.6852, lr=0.0000050, acc=0.536, acc_adv=0.101 - time 0:00:07.674029\n",
      "[Epoch 0 Batch 960/1401] loss=0.6744, lr=0.0000050, acc=0.536, acc_adv=0.100 - time 0:00:08.312536\n",
      "[Epoch 0 Batch 970/1401] loss=0.6905, lr=0.0000050, acc=0.536, acc_adv=0.099 - time 0:00:08.002206\n",
      "[Epoch 0 Batch 980/1401] loss=0.6688, lr=0.0000050, acc=0.536, acc_adv=0.098 - time 0:00:07.998342\n",
      "[Epoch 0 Batch 990/1401] loss=0.6894, lr=0.0000050, acc=0.536, acc_adv=0.097 - time 0:00:07.562507\n",
      "[Epoch 0 Batch 1000/1401] loss=0.6581, lr=0.0000050, acc=0.537, acc_adv=0.096 - time 0:00:07.785928\n",
      "[Epoch 0 Batch 1010/1401] loss=0.6830, lr=0.0000050, acc=0.537, acc_adv=0.095 - time 0:00:07.537241\n",
      "[Epoch 0 Batch 1020/1401] loss=0.6714, lr=0.0000050, acc=0.537, acc_adv=0.095 - time 0:00:07.760538\n",
      "[Epoch 0 Batch 1030/1401] loss=0.6685, lr=0.0000050, acc=0.538, acc_adv=0.094 - time 0:00:08.397319\n",
      "[Epoch 0 Batch 1040/1401] loss=0.6543, lr=0.0000050, acc=0.539, acc_adv=0.093 - time 0:00:08.600486\n",
      "[Epoch 0 Batch 1050/1401] loss=0.6862, lr=0.0000050, acc=0.538, acc_adv=0.092 - time 0:00:07.627157\n",
      "[Epoch 0 Batch 1060/1401] loss=0.6682, lr=0.0000050, acc=0.538, acc_adv=0.091 - time 0:00:08.129755\n",
      "[Epoch 0 Batch 1070/1401] loss=0.6688, lr=0.0000050, acc=0.538, acc_adv=0.090 - time 0:00:08.142326\n",
      "[Epoch 0 Batch 1080/1401] loss=0.6489, lr=0.0000050, acc=0.539, acc_adv=0.090 - time 0:00:07.734838\n",
      "[Epoch 0 Batch 1090/1401] loss=0.6637, lr=0.0000050, acc=0.539, acc_adv=0.089 - time 0:00:08.173873\n",
      "[Epoch 0 Batch 1100/1401] loss=0.6589, lr=0.0000050, acc=0.540, acc_adv=0.088 - time 0:00:08.313375\n",
      "[Epoch 0 Batch 1110/1401] loss=0.6619, lr=0.0000050, acc=0.540, acc_adv=0.088 - time 0:00:08.208870\n",
      "[Epoch 0 Batch 1120/1401] loss=0.6770, lr=0.0000050, acc=0.540, acc_adv=0.087 - time 0:00:07.863481\n",
      "[Epoch 0 Batch 1130/1401] loss=0.6573, lr=0.0000050, acc=0.541, acc_adv=0.086 - time 0:00:08.227813\n",
      "[Epoch 0 Batch 1140/1401] loss=0.6637, lr=0.0000050, acc=0.541, acc_adv=0.086 - time 0:00:08.181485\n",
      "[Epoch 0 Batch 1150/1401] loss=0.6772, lr=0.0000050, acc=0.541, acc_adv=0.085 - time 0:00:08.198827\n",
      "[Epoch 0 Batch 1160/1401] loss=0.6649, lr=0.0000050, acc=0.541, acc_adv=0.084 - time 0:00:08.131931\n",
      "[Epoch 0 Batch 1170/1401] loss=0.6520, lr=0.0000050, acc=0.542, acc_adv=0.084 - time 0:00:08.438687\n",
      "[Epoch 0 Batch 1180/1401] loss=0.6331, lr=0.0000050, acc=0.542, acc_adv=0.083 - time 0:00:08.265418\n",
      "[Epoch 0 Batch 1190/1401] loss=0.6595, lr=0.0000050, acc=0.542, acc_adv=0.083 - time 0:00:08.202278\n",
      "[Epoch 0 Batch 1200/1401] loss=0.6709, lr=0.0000050, acc=0.542, acc_adv=0.082 - time 0:00:08.638751\n",
      "[Epoch 0 Batch 1210/1401] loss=0.6722, lr=0.0000050, acc=0.542, acc_adv=0.081 - time 0:00:07.351307\n",
      "[Epoch 0 Batch 1220/1401] loss=0.6682, lr=0.0000050, acc=0.542, acc_adv=0.081 - time 0:00:08.206681\n",
      "[Epoch 0 Batch 1230/1401] loss=0.6550, lr=0.0000050, acc=0.543, acc_adv=0.080 - time 0:00:08.317682\n",
      "[Epoch 0 Batch 1240/1401] loss=0.6511, lr=0.0000050, acc=0.543, acc_adv=0.079 - time 0:00:08.610448\n",
      "[Epoch 0 Batch 1250/1401] loss=0.6705, lr=0.0000050, acc=0.543, acc_adv=0.079 - time 0:00:07.688128\n",
      "[Epoch 0 Batch 1260/1401] loss=0.6570, lr=0.0000050, acc=0.543, acc_adv=0.078 - time 0:00:08.212008\n",
      "[Epoch 0 Batch 1270/1401] loss=0.6534, lr=0.0000050, acc=0.544, acc_adv=0.078 - time 0:00:08.343875\n",
      "[Epoch 0 Batch 1280/1401] loss=0.6628, lr=0.0000050, acc=0.544, acc_adv=0.077 - time 0:00:08.194180\n",
      "[Epoch 0 Batch 1290/1401] loss=0.6547, lr=0.0000050, acc=0.544, acc_adv=0.077 - time 0:00:08.293493\n",
      "[Epoch 0 Batch 1300/1401] loss=0.6682, lr=0.0000050, acc=0.544, acc_adv=0.076 - time 0:00:08.137025\n",
      "[Epoch 0 Batch 1310/1401] loss=0.6357, lr=0.0000050, acc=0.545, acc_adv=0.076 - time 0:00:07.941244\n",
      "[Epoch 0 Batch 1320/1401] loss=0.6408, lr=0.0000050, acc=0.545, acc_adv=0.075 - time 0:00:08.195825\n",
      "[Epoch 0 Batch 1330/1401] loss=0.6520, lr=0.0000050, acc=0.545, acc_adv=0.075 - time 0:00:07.821362\n",
      "[Epoch 0 Batch 1340/1401] loss=0.6605, lr=0.0000050, acc=0.545, acc_adv=0.074 - time 0:00:08.049464\n",
      "[Epoch 0 Batch 1350/1401] loss=0.6486, lr=0.0000050, acc=0.546, acc_adv=0.074 - time 0:00:08.503571\n",
      "[Epoch 0 Batch 1360/1401] loss=0.6227, lr=0.0000050, acc=0.546, acc_adv=0.073 - time 0:00:08.036834\n",
      "[Epoch 0 Batch 1370/1401] loss=0.6425, lr=0.0000050, acc=0.547, acc_adv=0.073 - time 0:00:07.997857\n",
      "[Epoch 0 Batch 1380/1401] loss=0.6189, lr=0.0000050, acc=0.547, acc_adv=0.072 - time 0:00:08.390136\n",
      "[Epoch 0 Batch 1390/1401] loss=0.6580, lr=0.0000050, acc=0.547, acc_adv=0.072 - time 0:00:08.067652\n",
      "[Epoch 0 Batch 1400/1401] loss=0.6556, lr=0.0000050, acc=0.547, acc_adv=0.071 - time 0:00:07.988727\n",
      "Time for [epoch 0]: 0:18:57.061301\n",
      "Time for [training]: 0:18:57.611835\n"
     ]
    },
    {
     "data": {
      "image/png": "[encoded data removed]",
      "text/plain": [
       "<Figure size 432x288 with 4 Axes>"
      ]
     },
     "metadata": {
      "needs_background": "light"
     },
     "output_type": "display_data"
    },
    {
     "name": "stdout",
     "output_type": "stream",
     "text": [
      "Time for [4 - train model]: 0:22:11.806224\n"
     ]
    }
   ],
   "source": [
    "with Timer(\"4 - train model\"):\n",
    "    # train(model, data_train, ctx, metric, loss_function, batch_size=32, lr=5e-6, num_epochs=3)\n",
    "    stats = train(model, data_train, ctx, metric, adv_metric, loss_function, adv_loss_function, batch_size=32, lr=5e-6, num_epochs=1)\n",
    "    # model.save_parameters(\"data/same-side-classification/within-topic/bert.model.params\")\n",
    "    model.save_parameters(\"data/bert.model.params\")\n",
    "\n",
    "    plot_train_stats(stats)"
   ]
  },
  {
   "cell_type": "code",
   "execution_count": 26,
   "metadata": {
    "ExecuteTime": {
     "end_time": "2019-07-05T12:38:52.544805Z",
     "start_time": "2019-07-05T12:38:51.440227Z"
    },
    "collapsed": true
   },
   "outputs": [
    {
     "name": "stdout",
     "output_type": "stream",
     "text": [
      "abortion opens the door to the sexual exploitation of women the existence of abortion gives men a little more of a safeguard against unintentionally impregnating a woman. as a result, men will be more aggressive in their sexual exploitation of women.\n",
      "the fact that a child is likely to have a short life does not justify further shortening it:\n",
      "('0', 'abortion')\n",
      "vocabulary used for tokenization = \n",
      "Vocab(size=30522, unk=\"[UNK]\", reserved=\"['[PAD]', '[CLS]', '[SEP]', '[MASK]']\")\n",
      "[PAD] token id = 1\n",
      "[CLS] token id = 2\n",
      "[SEP] token id = 3\n",
      "token ids = \n",
      "[    2 11324  7480  1996  2341  2000  1996  4424 14427  1997  2308  1996\n",
      "  4598  1997 11324  3957  2273  1037  2210  2062  1997  1037 28805  2114\n",
      "  4895 18447  4765 19301  2135 17727  2890 16989  3436  1037  2450  1012\n",
      "  2004  1037  2765  1010  2273  2097  2022  2062  9376  1999  2037  4424\n",
      " 14427  1997  2308  1012     3  1996  2755  2008  1037  2775  2003  3497\n",
      "  2000  2031  1037  2460  2166  2515  2025 16114  2582  2460  7406  2009\n",
      "  1024     3     1     1     1     1     1     1     1     1     1     1\n",
      "     1     1     1     1     1     1     1     1     1     1     1     1\n",
      "     1     1     1     1     1     1     1     1     1     1     1     1\n",
      "     1     1     1     1     1     1     1     1     1     1     1     1\n",
      "     1     1     1     1     1     1     1     1]\n",
      "valid length = \n",
      "74\n",
      "segment ids = \n",
      "[0 0 0 0 0 0 0 0 0 0 0 0 0 0 0 0 0 0 0 0 0 0 0 0 0 0 0 0 0 0 0 0 0 0 0 0 0\n",
      " 0 0 0 0 0 0 0 0 0 0 0 0 0 0 0 0 1 1 1 1 1 1 1 1 1 1 1 1 1 1 1 1 1 1 1 1 1\n",
      " 0 0 0 0 0 0 0 0 0 0 0 0 0 0 0 0 0 0 0 0 0 0 0 0 0 0 0 0 0 0 0 0 0 0 0 0 0\n",
      " 0 0 0 0 0 0 0 0 0 0 0 0 0 0 0 0 0]\n",
      "label = \n",
      "[0]\n",
      "label_adv = \n",
      "[1]\n",
      "Time for [5 - prepare eval data]: 0:00:01.100427\n"
     ]
    }
   ],
   "source": [
    "with Timer(\"5 - prepare eval data\"):\n",
    "    data_dev_raw, data_dev = transform_dataset(X_dev, y_dev, transform)\n",
    "    print_infos(vocabulary, data_dev_raw, data_dev)"
   ]
  },
  {
   "cell_type": "code",
   "execution_count": 28,
   "metadata": {
    "ExecuteTime": {
     "end_time": "2019-07-05T13:04:12.823483Z",
     "start_time": "2019-07-05T13:01:05.062822Z"
    }
   },
   "outputs": [
    {
     "name": "stderr",
     "output_type": "stream",
     "text": [
      "100%|██████████| 600/600 [03:07<00:00,  3.21it/s]\n"
     ]
    },
    {
     "name": "stdout",
     "output_type": "stream",
     "text": [
      "Time for [prediction]: 0:03:07.170824\n",
      "Accuracy: 0.6237024672682698\n",
      "Confusion Matrix:\n",
      "[[6648 2185]\n",
      " [5029 5309]]\n",
      "\n",
      "Accuracy:  0.62 \n",
      "\n",
      "Report for [BERTClassifier - is_same_side]:\n",
      "              precision    recall  f1-score   support\n",
      "\n",
      "           0       0.57      0.75      0.65      8833\n",
      "           1       0.71      0.51      0.60     10338\n",
      "\n",
      "    accuracy                           0.62     19171\n",
      "   macro avg       0.64      0.63      0.62     19171\n",
      "weighted avg       0.64      0.62      0.62     19171\n",
      "\n",
      "Confusion Matrix:\n",
      "[[  145  6696]\n",
      " [12317    13]]\n",
      "\n",
      "Accuracy:  0.01 \n",
      "\n",
      "Report for [BERTAdvClassifier - tag]:\n",
      "              precision    recall  f1-score   support\n",
      "\n",
      "           0       0.01      0.02      0.02      6841\n",
      "           1       0.00      0.00      0.00     12330\n",
      "\n",
      "    accuracy                           0.01     19171\n",
      "   macro avg       0.01      0.01      0.01     19171\n",
      "weighted avg       0.01      0.01      0.01     19171\n",
      "\n",
      "Time for [6 - evaluate]: 0:03:07.756662\n"
     ]
    }
   ],
   "source": [
    "with Timer(\"6 - evaluate\"):\n",
    "    # model.load_parameters(\"data/same-side-classification/within-topic/bert.model.params\", ctx=ctx)\n",
    "    # model.load_parameters(\"data/bert.model.params\", ctx=ctx)\n",
    "    all_predictions, cum_loss, cum_loss_adv = predict(model, data_dev, ctx, metric, adv_metric, loss_function, adv_loss_function)\n",
    "    print(\"Accuracy:\", metric.get()[1])\n",
    "\n",
    "    y_true, y_pred, y_adv_true, y_adv_pred = predict_out_to_ys(all_predictions)\n",
    "    report_training_results(y_true, y_pred, name=\"BERTClassifier - is_same_side\", heatmap=False)\n",
    "    report_training_results(y_adv_true, y_adv_pred, name=\"BERTAdvClassifier - tag\", heatmap=False)"
   ]
  },
  {
   "cell_type": "markdown",
   "metadata": {},
   "source": [
    "### Train and evaluate each epoch"
   ]
  },
  {
   "cell_type": "code",
   "execution_count": null,
   "metadata": {
    "scrolled": true
   },
   "outputs": [],
   "source": [
    "for epoch_id in range(5):\n",
    "    with Timer(\"4 - train model - {}\".format(epoch_id)):\n",
    "        stats = train(model, data_train, ctx, metric, adv_metric, loss_function, adv_loss_function, batch_size=32, lr=5e-6, num_epochs=epoch_id + 1)  # seq_len: 512\n",
    "        plot_train_stats(stats)\n",
    "\n",
    "    with Timer(\"6 - evaluate - {}\".format(epoch_id)):\n",
    "        all_predictions, cum_loss, cum_loss_adv = predict(model, data_dev, ctx, metric, adv_metric, loss_function, adv_loss_function, batch_size=6)  # seq_len: 512\n",
    "        print(\"Accuracy in epoch {}:\".format(epoch_id), metric.get()[1])\n",
    "        y_true, y_pred, y_adv_true, y_adv_pred = predict_out_to_ys(all_predictions)\n",
    "        report_training_results(y_true, y_pred, name=\"BERTClassifier\", heatmap=False)\n",
    "\n",
    "    model.save_parameters(\"data/bert.model.params\")"
   ]
  },
  {
   "cell_type": "markdown",
   "metadata": {},
   "source": [
    "*may need to use **binary_cross_entrophy**?* (can I use a single label or do I have to use \"0\" and \"1\"?)"
   ]
  },
  {
   "cell_type": "markdown",
   "metadata": {},
   "source": [
    "### Cross topic - Training and evaluating model "
   ]
  },
  {
   "cell_type": "code",
   "execution_count": null,
   "metadata": {},
   "outputs": [],
   "source": [
    "# 1. Getting train and dev data\n",
    "with Timer(\"1 - test/train split\"):\n",
    "    X_train, X_dev, y_train, y_dev = get_train_test_sets(cross_traindev_df)"
   ]
  },
  {
   "cell_type": "code",
   "execution_count": null,
   "metadata": {},
   "outputs": [],
   "source": [
    "# 2. setup\n",
    "with Timer(\"2 - setup BERT model\"):\n",
    "    model, vocabulary, ctx, tokenizer, transform, loss_function, metric, all_labels = setup_bert()"
   ]
  },
  {
   "cell_type": "code",
   "execution_count": null,
   "metadata": {},
   "outputs": [],
   "source": [
    "with Timer(\"3 - prepare training data\"):\n",
    "    data_train_raw, data_train = transform_dataset(X_train, y_train, transform)\n",
    "    print_infos(vocabulary, data_train_raw, data_train)"
   ]
  },
  {
   "cell_type": "code",
   "execution_count": null,
   "metadata": {},
   "outputs": [],
   "source": [
    "with Timer(\"4 - train model\"):\n",
    "    # train(model, data_train, ctx, metric, loss_function, batch_size=32, lr=5e-6, num_epochs=3)\n",
    "    stats = train(model, data_train, ctx, metric, loss_function, batch_size=32, lr=5e-6, num_epochs=2)\n",
    "    # model.save_parameters(\"data/same-side-classification/cross-topic/bert.model.params\")\n",
    "    model.save_parameters(\"data/bert.model.params\")\n",
    "\n",
    "    plot_train_stats(stats)"
   ]
  },
  {
   "cell_type": "code",
   "execution_count": null,
   "metadata": {},
   "outputs": [],
   "source": [
    "with Timer(\"5 - prepare eval data\"):\n",
    "    data_dev_raw, data_dev = transform_dataset(X_dev, y_dev, transform)\n",
    "    print_infos(vocabulary, data_dev_raw, data_dev)"
   ]
  },
  {
   "cell_type": "code",
   "execution_count": null,
   "metadata": {},
   "outputs": [],
   "source": [
    "with Timer(\"6 - evaluate\"):\n",
    "    # model.load_parameters(\"data/same-side-classification/cross-topic/bert.model.params\", ctx=ctx)\n",
    "    model.load_parameters(\"data/bert.model.params\", ctx=ctx)\n",
    "    all_predictions, cum_loss = predict(model, data_dev, ctx, metric, loss_function)\n",
    "    print(\"Accuracy:\", metric.get()[1])\n",
    "\n",
    "    y_true, y_pred, y_adv_true, y_adv_pred = predict_out_to_ys(all_predictions)\n",
    "    report_training_results(y_true, y_pred, name=\"BERTClassifier\", heatmap=False)"
   ]
  },
  {
   "cell_type": "code",
   "execution_count": null,
   "metadata": {
    "scrolled": true
   },
   "outputs": [],
   "source": [
    "for epoch_id in range(5):\n",
    "    with Timer(\"4 - train model - {}\".format(epoch_id)):\n",
    "        stats = train(model, data_train, ctx, metric, loss_function, batch_size=32, lr=5e-6, num_epochs=epoch_id + 1)\n",
    "        plot_train_stats(stats)\n",
    "\n",
    "    with Timer(\"6 - evaluate - {}\".format(epoch_id)):\n",
    "        all_predictions, cum_loss = predict(model, data_dev, ctx, metric, loss_function)\n",
    "        print(\"Accuracy in epoch {}:\".format(epoch_id), metric.get()[1])\n",
    "        y_true, y_pred, y_adv_true, y_adv_pred = predict_out_to_ys(all_predictions)\n",
    "        report_training_results(y_true, y_pred, name=\"BERTClassifier\", heatmap=False)\n",
    "\n",
    "    model.save_parameters(\"data/bert.model.params\")"
   ]
  },
  {
   "cell_type": "code",
   "execution_count": null,
   "metadata": {},
   "outputs": [],
   "source": []
  }
 ],
 "metadata": {
  "celltoolbar": "Initialization Cell",
  "kernelspec": {
   "display_name": "Python 3",
   "language": "python",
   "name": "python3"
  },
  "language_info": {
   "codemirror_mode": {
    "name": "ipython",
    "version": 3
   },
   "file_extension": ".py",
   "mimetype": "text/x-python",
   "name": "python",
   "nbconvert_exporter": "python",
   "pygments_lexer": "ipython3",
   "version": "3.7.3"
  },
  "varInspector": {
   "cols": {
    "lenName": 16,
    "lenType": 16,
    "lenVar": 40
   },
   "kernels_config": {
    "python": {
     "delete_cmd_postfix": "",
     "delete_cmd_prefix": "del ",
     "library": "var_list.py",
     "varRefreshCmd": "print(var_dic_list())"
    },
    "r": {
     "delete_cmd_postfix": ") ",
     "delete_cmd_prefix": "rm(",
     "library": "var_list.r",
     "varRefreshCmd": "cat(var_dic_list()) "
    }
   },
   "types_to_exclude": [
    "module",
    "function",
    "builtin_function_or_method",
    "instance",
    "_Feature"
   ],
   "window_display": false
  }
 },
 "nbformat": 4,
 "nbformat_minor": 2
}
