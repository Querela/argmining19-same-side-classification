{
 "cells": [
  {
   "cell_type": "markdown",
   "metadata": {},
   "source": [
    "# RATIO 2019 - Benchmarking Workshop"
   ]
  },
  {
   "cell_type": "markdown",
   "metadata": {},
   "source": [
    "Gluon Data: https://gluon-nlp.mxnet.io/model_zoo/bert/index.html#bert-for-sentence-classification-on-glue-tasks\n",
    "\n",
    "```\n",
    "curl -L https://tinyurl.com/yaznh3os -o download_glue_data.py\n",
    "```\n",
    "\n",
    "https://gluon-nlp.mxnet.io/install.html\n",
    "\n",
    "```\n",
    "pip install --upgrade 'mxnet>=1.3.0'\n",
    "pip install gluonnlp\n",
    "wget https://gluon-nlp.mxnet.io/_downloads/sentence_embedding.zip\n",
    "unzip sentence_embedding.zip\n",
    "```\n",
    "\n",
    "https://pypi.org/project/pytorch-pretrained-bert/#installation\n",
    "\n",
    "```\n",
    "# nope\n",
    "# pip install pytorch-pretrained-bert\n",
    "```"
   ]
  },
  {
   "cell_type": "code",
   "execution_count": 28,
   "metadata": {
    "ExecuteTime": {
     "end_time": "2019-06-27T10:08:17.243919Z",
     "start_time": "2019-06-27T10:08:17.240662Z"
    },
    "init_cell": true,
    "scrolled": true
   },
   "outputs": [],
   "source": [
    "import datetime\n",
    "import logging\n",
    "import os\n",
    "import random\n",
    "import time\n",
    "import warnings\n",
    "\n",
    "\n",
    "import numpy as np\n",
    "import mxnet as mx\n",
    "from mxnet import gluon\n",
    "import gluonnlp as nlp\n",
    "from bert import *\n",
    "\n",
    "import matplotlib.pyplot as plt\n",
    "import pandas as pd\n",
    "import seaborn as sns\n",
    "\n",
    "from sklearn.metrics import (accuracy_score, classification_report,\n",
    "                             confusion_matrix, f1_score)\n",
    "from sklearn.model_selection import train_test_split\n",
    "from sklearn import utils\n",
    "\n",
    "from tqdm import tqdm"
   ]
  },
  {
   "cell_type": "code",
   "execution_count": 2,
   "metadata": {
    "ExecuteTime": {
     "end_time": "2019-06-27T09:05:07.140352Z",
     "start_time": "2019-06-27T09:05:07.137229Z"
    },
    "init_cell": true,
    "scrolled": true
   },
   "outputs": [],
   "source": [
    "warnings.filterwarnings('ignore')\n",
    "\n",
    "logging.basicConfig(format='%(asctime)s : %(levelname)s : %(message)s',\n",
    "                    level=logging.INFO)"
   ]
  },
  {
   "cell_type": "code",
   "execution_count": 4,
   "metadata": {
    "ExecuteTime": {
     "end_time": "2019-06-27T09:05:07.601913Z",
     "start_time": "2019-06-27T09:05:07.599506Z"
    },
    "init_cell": true,
    "scrolled": true
   },
   "outputs": [],
   "source": [
    "# apply progress bars for pandas .apply() -> .progress_apply()\n",
    "tqdm.pandas()"
   ]
  },
  {
   "cell_type": "code",
   "execution_count": 5,
   "metadata": {
    "ExecuteTime": {
     "end_time": "2019-06-27T09:05:10.832586Z",
     "start_time": "2019-06-27T09:05:10.823505Z"
    },
    "code_folding": [
     0,
     4
    ],
    "init_cell": true,
    "scrolled": true
   },
   "outputs": [],
   "source": [
    "class Timer:\n",
    "    def __init__(self, name=None):\n",
    "        self.name = name\n",
    "\n",
    "    def __enter__(self):\n",
    "        self.time_start = time.time()\n",
    "\n",
    "    def __exit__(self, *exc):\n",
    "        time_end = time.time()\n",
    "        time_delta = datetime.timedelta(seconds=(time_end - self.time_start))\n",
    "        if self.name:\n",
    "            print((\"Time for [{}]: {}\".format(self.name, time_delta)))\n",
    "        else:\n",
    "            print((\"Time: {}\".format(time_delta)))"
   ]
  },
  {
   "cell_type": "markdown",
   "metadata": {},
   "source": [
    "# Task 1 - Same Side Classification"
   ]
  },
  {
   "cell_type": "code",
   "execution_count": 6,
   "metadata": {
    "ExecuteTime": {
     "end_time": "2019-06-27T09:05:11.811711Z",
     "start_time": "2019-06-27T09:05:11.807973Z"
    },
    "init_cell": true,
    "scrolled": true
   },
   "outputs": [],
   "source": [
    "data_cross_path = 'data/same-side-classification/cross-topic/{}.csv'\n",
    "data_within_path = 'data/same-side-classification/within-topic/{}.csv'"
   ]
  },
  {
   "cell_type": "code",
   "execution_count": 7,
   "metadata": {
    "ExecuteTime": {
     "end_time": "2019-06-27T09:05:12.379762Z",
     "start_time": "2019-06-27T09:05:12.342870Z"
    },
    "collapsed": true
   },
   "outputs": [
    {
     "name": "stdout",
     "output_type": "stream",
     "text": [
      "\"id\",\"argument1\",\"argument1_id\",\"argument2\",\"argument2_id\",\"debate_id\",\"is_same_side\",\"topic\"\n",
      "\"0\",\"there are two reasons why this debate should go to the con side. reason 1: my opponent agrees with me in his last round, my opponent states that the \\\"number one reason does have to [do with] financial reasons.\\\" he cites that 42% of women who had abortions could not afford a child and were unmarried, which means the total proportion of women who had abortions that could not afford a child is likely to be at least 50% (if you factor in women who could not afford a child and were married). 38% of women who had abortions said that children would interfere with their education, and 38% of said that children would interfere with their employment. again, even assuming 50% overlap (an unrealistically high overlap) between the two groups, the proportion of women aborting due to career considerations is still over half. my opponent says that abortion should be illegal with exceptions. is the status of the majority the exception or the rule? my opponent claims that aborting for job prospects is unethical. without good career prospects, poor women doom their children to lives of economic pressure. many of these women would rather have their children unborn than have them live in poverty. as patrick henry famously said, \\\"is life so dear ... as to be purchased at the price of chains and slavery.\\\" through abortion, women are saving their children from the chains of debt and economic slavery. in a country that emphasizes rags-to-riches, the rights of women to their own future are essential and unalienable. reason 2: my opponent's sources contradict his arguments my opponent is pro-life. his sources are pro-choice. the women's center ends their article with a plea to fight for abortion rights. infoplease states that 54% of women having abortions had used contraceptives prior to getting pregnant. my opponent says that if women were scared to have a child they would not have sex, but he forgets that they could have safe sex and not be scared. it's not the woman's fault if the contraceptives don't work. the statistic from infoplease also invalidates the last paragraph that my opponent posted this round. people who use contraceptives usually realize from the beginning that they want children. conclusion: as we can see here, the question comes down to is it ethical to restrict the futures of women and their born children by forcing them to have children they cannot afford. most of the women who had abortions were sure from the beginning that they didn't want a(nother) child. they sacrifice the child they carry for the economic well-being of their born children and their future children. they are not the stereotyped teenage girls, but rational adult women. they are a significant portion of the population. therefore i urge a vote for abortion being legal with exceptions. thank you. sources i used in this debate: http://www.nbcnews.com...\",\"100c174f-2019-04-18T17:33:51Z-00000-000\",\"i will give my opponent a chance to respond.\",\"100c174f-2019-04-18T17:33:51Z-00000-000\",\"100c174f-2019-04-18T17:33:51Z\",\"True\",\"abortion should be illegal with exceptions\"\n",
      "\"1\",\"there are two reasons why this debate should go to the con side. reason 1: my opponent agrees with me in his last round, my opponent states that the \\\"number one reason does have to [do with] financial reasons.\\\" he cites that 42% of women who had abortions could not afford a child and were unmarried, which means the total proportion of women who had abortions that could not afford a child is likely to be at least 50% (if you factor in women who could not afford a child and were married). 38% of women who had abortions said that children would interfere with their education, and 38% of said that children would interfere with their employment. again, even assuming 50% overlap (an unrealistically high overlap) between the two groups, the proportion of women aborting due to career considerations is still over half. my opponent says that abortion should be illegal with exceptions. is the status of the majority the exception or the rule? my opponent claims that aborting for job prospects is unethical. without good career prospects, poor women doom their children to lives of economic pressure. many of these women would rather have their children unborn than have them live in poverty. as patrick henry famously said, \\\"is life so dear ... as to be purchased at the price of chains and slavery.\\\" through abortion, women are saving their children from the chains of debt and economic slavery. in a country that emphasizes rags-to-riches, the rights of women to their own future are essential and unalienable. reason 2: my opponent's sources contradict his arguments my opponent is pro-life. his sources are pro-choice. the women's center ends their article with a plea to fight for abortion rights. infoplease states that 54% of women having abortions had used contraceptives prior to getting pregnant. my opponent says that if women were scared to have a child they would not have sex, but he forgets that they could have safe sex and not be scared. it's not the woman's fault if the contraceptives don't work. the statistic from infoplease also invalidates the last paragraph that my opponent posted this round. people who use contraceptives usually realize from the beginning that they want children. conclusion: as we can see here, the question comes down to is it ethical to restrict the futures of women and their born children by forcing them to have children they cannot afford. most of the women who had abortions were sure from the beginning that they didn't want a(nother) child. they sacrifice the child they carry for the economic well-being of their born children and their future children. they are not the stereotyped teenage girls, but rational adult women. they are a significant portion of the population. therefore i urge a vote for abortion being legal with exceptions. thank you. sources i used in this debate: http://www.nbcnews.com...\",\"100c174f-2019-04-18T17:33:51Z-00000-000\",\"in this debate, there are a few factors that must be considered. who has abortions, why, and what are the alternatives to abortion. i will be arguing that abortion should be legal with exceptions. the foundation for my arguments will stem from the reasons for abortion not being unethical, and from the few reasonable alternatives to abortion. if any part of the foundation is proven, the ballot should go to the con side. who has abortions? nbc news reports that those who have abortions come from various demographic fields, but a higher proportion of economically depressed women have abortions. 60% of the women getting abortions already have at least one child. why do they have abortions? abortion rates are linked with economics. when family economy is bad, women are more likely to get abortions. their decision may stem from wanting to better support their born children, or from not wanting to give their unborn children harsh, impoverished lives. what are some alternatives to abortion? this will depend on the circumstances, but the most common alternative is adoption. however, carrying a baby to term most likely would entail an unpaid maternity leave, which would not help economically struggling families. thus adoption is not a viable alternative for all. as can be seen, having abortions is not unethical. women don't just abort when they aren't willing to raise a child. alternatives to abortion may not be readily available to them, and dire economic situations may demand that they have an abortion. therefore, abortion should be legal with exceptions (the exceptions are when the baby can actually live on its own). i wish my opponent good luck in this debate. welcome to debate.org.\",\"100c174f-2019-04-18T17:33:51Z-00000-000\",\"100c174f-2019-04-18T17:33:51Z\",\"True\",\"abortion should be illegal with exceptions\"\n",
      "\"2\",\"first i want to thank my opponent for letting me speak. i became extremely busy having to handle school and practice. i first wold like to present my counter argument against my opponents statement \\\" women don't just abort when they aren't willing to raise a child\\\". my evidence is found at: http://www.womenscenter.com... i would like to highlight this section: the most common underlying reasons for abortion were 1) they could not afford a child at the time and were unmarried (42%), 2) it would interfere with their education (38%), 3) it would interfere with their employment (38%), and 4) they were students or planning to enroll in studies (34%). other reasons are having relationship problems, not ready for another child, or don\\\"t want people to know they had sex or got pregnant, the health of the fetus, victim of rape, or became pregnant as result of incest. the number one reason does have to financial reasons, but it does say that other reasons are because a) the infant would interfere with their job b) they were not ready c) or they did want people to know that they are pregnant. you might say it is unethical to abort a life or potential life because you don't want you ego to be affected, r because it would interfere with your job. most woman who have a child usually have interference with their job because of a child. you might say that if they were scared of these reasons they would not have had sex in the first place. it also says that there are abortions because of rap and incest based on ]http://www.infoplease.com...; every year there are around 1.3 abortions per year only 13,000 are because of rape or incest which equals 1%. this means that 99% of women who have abortions had sex willingly then got pregnant and either realized they would could not provide all they needed to for the child, or they said oh crap i want to go to college, i don't want to be tired at work, or my boyfriend always is yelling and i cant handle the stress etc. it also states that many women had previous abortions.\",\"100c174f-2019-04-18T17:33:51Z-00001-000\",\"this is my first debate so please just bare with me. i have had this argument before, but it was me vs. 6 catholics and they wouldn't let me speak, and just decided that they won. plus they were very aggressive. my point is that people who go and have sex and get pregnant then just because they don't want a child, or feel they aren't ready, should not get the option of abortion. i then feel that the people who are raped, abused, or could possibly die during the pregnancy or birthing process should get that option. for the person who would like to challenge me they can either choose abortion should be completely legal, or it should be completely illegal. how its going to go: 1) my opponent should next try to counter and give the reasons for why the way they feel about the topic is the the way they feel 2) i will then argue why you are wrong or flawed. and then the process will be repeated by you 3)just be nice, i don't want to go back to the argument against the six catholics again. 4) voters just go for who you felt had a better argument 5) i would be happy to except any other persons debate on this topic, i also appreciate to see your comments\",\"100c174f-2019-04-18T17:33:51Z-00001-000\",\"100c174f-2019-04-18T17:33:51Z\",\"True\",\"abortion should be illegal with exceptions\"\n",
      "\"3\",\"i will give my opponent a chance to respond.\",\"100c174f-2019-04-18T17:33:51Z-00002-000\",\"in this debate, there are a few factors that must be considered. who has abortions, why, and what are the alternatives to abortion. i will be arguing that abortion should be legal with exceptions. the foundation for my arguments will stem from the reasons for abortion not being unethical, and from the few reasonable alternatives to abortion. if any part of the foundation is proven, the ballot should go to the con side. who has abortions? nbc news reports that those who have abortions come from various demographic fields, but a higher proportion of economically depressed women have abortions. 60% of the women getting abortions already have at least one child. why do they have abortions? abortion rates are linked with economics. when family economy is bad, women are more likely to get abortions. their decision may stem from wanting to better support their born children, or from not wanting to give their unborn children harsh, impoverished lives. what are some alternatives to abortion? this will depend on the circumstances, but the most common alternative is adoption. however, carrying a baby to term most likely would entail an unpaid maternity leave, which would not help economically struggling families. thus adoption is not a viable alternative for all. as can be seen, having abortions is not unethical. women don't just abort when they aren't willing to raise a child. alternatives to abortion may not be readily available to them, and dire economic situations may demand that they have an abortion. therefore, abortion should be legal with exceptions (the exceptions are when the baby can actually live on its own). i wish my opponent good luck in this debate. welcome to debate.org.\",\"100c174f-2019-04-18T17:33:51Z-00002-000\",\"100c174f-2019-04-18T17:33:51Z\",\"True\",\"abortion should be illegal with exceptions\"\n"
     ]
    }
   ],
   "source": [
    "%%bash\n",
    "head -n 5 data/same-side-classification/cross-topic/training.csv"
   ]
  },
  {
   "cell_type": "markdown",
   "metadata": {},
   "source": [
    "### Load within-topics and cross-topics data"
   ]
  },
  {
   "cell_type": "code",
   "execution_count": 8,
   "metadata": {
    "ExecuteTime": {
     "end_time": "2019-06-27T09:05:21.177640Z",
     "start_time": "2019-06-27T09:05:19.308284Z"
    },
    "hide_input": false,
    "init_cell": true
   },
   "outputs": [
    {
     "name": "stdout",
     "output_type": "stream",
     "text": [
      "Time for [read cross]: 0:00:00.907910\n",
      "Time for [read within]: 0:00:00.952161\n"
     ]
    }
   ],
   "source": [
    "# escapechar to detect quoting escapes, else it fails\n",
    "\n",
    "# na_filter=False, because pandas automatic \"nan\" detection fails with the topic column, too\n",
    "# cross_test_df['topic'].astype(str)[9270]\n",
    "\n",
    "with Timer(\"read cross\"):\n",
    "    cross_traindev_df = pd.read_csv(data_cross_path.format('training'), index_col='id', escapechar='\\\\', na_filter=False)\n",
    "    cross_test_df = pd.read_csv(data_cross_path.format('test'), index_col='id', escapechar='\\\\', na_filter=False)\n",
    "\n",
    "with Timer(\"read within\"):\n",
    "    within_traindev_df = pd.read_csv(data_within_path.format('training'), index_col='id', escapechar='\\\\', na_filter=False)\n",
    "    within_test_df = pd.read_csv(data_within_path.format('test'), index_col='id', escapechar='\\\\', na_filter=False)"
   ]
  },
  {
   "cell_type": "code",
   "execution_count": 10,
   "metadata": {
    "ExecuteTime": {
     "end_time": "2019-06-27T09:07:19.229148Z",
     "start_time": "2019-06-27T09:05:40.591258Z"
    },
    "code_folding": [
     1,
     12
    ],
    "init_cell": true,
    "scrolled": true
   },
   "outputs": [
    {
     "name": "stdout",
     "output_type": "stream",
     "text": [
      "Time for [tag cross traindev]: 0:00:31.674695\n",
      "Time for [tag cross test]: 0:00:17.682249\n",
      "Time for [tag within traindev]: 0:00:32.847750\n",
      "Time for [tag within test]: 0:00:16.422105\n"
     ]
    }
   ],
   "source": [
    "# Adding a tag for the topics in focus: \"gay marriage\" and \"abortion\"\n",
    "def add_tag(row):\n",
    "    title = row['topic'].lower().strip()\n",
    "    if \"abortion\" in title:\n",
    "        row['tag'] = 'abortion'\n",
    "    elif \"gay marriage\"  in title:\n",
    "        row['tag'] = 'gay marriage'\n",
    "    else:\n",
    "        row['tag'] = 'NA'\n",
    "    return row\n",
    "\n",
    "\n",
    "with Timer(\"tag cross traindev\"):\n",
    "    cross_traindev_df = cross_traindev_df.apply(add_tag, axis=1)\n",
    "with Timer(\"tag cross test\"):\n",
    "    cross_test_df = cross_test_df.apply(add_tag, axis=1)\n",
    "\n",
    "with Timer(\"tag within traindev\"):\n",
    "    within_traindev_df = within_traindev_df.apply(add_tag, axis=1)\n",
    "with Timer(\"tag within test\"):\n",
    "    within_test_df = within_test_df.apply(add_tag, axis=1)"
   ]
  },
  {
   "cell_type": "markdown",
   "metadata": {},
   "source": [
    "### Get an overview about each dataset"
   ]
  },
  {
   "cell_type": "code",
   "execution_count": 11,
   "metadata": {
    "ExecuteTime": {
     "end_time": "2019-06-27T09:07:19.751161Z",
     "start_time": "2019-06-27T09:07:19.743379Z"
    },
    "code_folding": [
     0
    ],
    "init_cell": true,
    "scrolled": true
   },
   "outputs": [],
   "source": [
    "def get_overview(df, task='same-side', class_name='is_same_side'):\n",
    "    # Total instance numbers\n",
    "    total = len(df)\n",
    "    print(\"Task: \", task)\n",
    "    print('=' * 40, '\\n')\n",
    "\n",
    "    print('Total instances: ', total)\n",
    "    print('\\n')\n",
    "\n",
    "    print('For each topic:')\n",
    "    for tag, tag_df in df.groupby(['tag']):\n",
    "        print(tag, ': ', len(tag_df), ' instances')\n",
    "        if class_name in df.columns:\n",
    "            for is_same_side, side_df in tag_df.groupby([class_name]):\n",
    "                print('\\t\\t', is_same_side, ': ', len(side_df), ' instances')\n",
    "    print('\\n')\n",
    "\n",
    "    if class_name in df.columns:\n",
    "        print('For each class value:')\n",
    "        for class_value, class_df in df.groupby([class_name]):\n",
    "            print(class_value, ': ', len(class_df), ' instances')\n",
    "        print('\\n')\n",
    "\n",
    "    print('Unique argument1:', len(df['argument1'].unique()))\n",
    "    print('Unique argument2:', len(df['argument2'].unique()))\n",
    "    arguments = df['argument1'].values\n",
    "    arguments = np.concatenate([arguments, df['argument2'].values])\n",
    "\n",
    "    print('Unique total arguments:', len(set(list(arguments))), '\\n')\n",
    "\n",
    "    print('-' * 40, '\\n')\n",
    "\n",
    "    arguments_length_lst = [\n",
    "        len(word_tokenize(x)) for x in df['argument1'].values\n",
    "    ]\n",
    "    arguments_length_lst.extend(\n",
    "        [len(word_tokenize(x)) for x in df['argument2'].values])\n",
    "    print('Words:')\n",
    "    print('\\tshortest argument:', min(arguments_length_lst), ' words')\n",
    "    print('\\tlongest argument:', max(arguments_length_lst), ' words')\n",
    "    print('\\targument average length:', np.mean(arguments_length_lst),\n",
    "          ' words')\n",
    "\n",
    "    arguments_sent_length_lst = [\n",
    "        len(sent_tokenize(x)) for x in df['argument1'].values\n",
    "    ]\n",
    "    arguments_sent_length_lst.extend(\n",
    "        [len(sent_tokenize(x)) for x in df['argument2'].values])\n",
    "    print('Sentences:')\n",
    "    print('\\tshortest argument:', min(arguments_sent_length_lst), ' sentences')\n",
    "    print('\\tlongest argument:', max(arguments_sent_length_lst), ' sentences')\n",
    "    print('\\targument average length:', np.mean(arguments_sent_length_lst),\n",
    "          ' sentences')"
   ]
  },
  {
   "cell_type": "code",
   "execution_count": 12,
   "metadata": {
    "ExecuteTime": {
     "end_time": "2019-06-27T09:07:20.272411Z",
     "start_time": "2019-06-27T09:07:20.270690Z"
    },
    "code_folding": [],
    "scrolled": true
   },
   "outputs": [],
   "source": [
    "# with Timer(\"overview cross\"):\n",
    "#     get_overview(cross_traindev_df)"
   ]
  },
  {
   "cell_type": "code",
   "execution_count": 13,
   "metadata": {
    "ExecuteTime": {
     "end_time": "2019-06-27T09:07:20.793789Z",
     "start_time": "2019-06-27T09:07:20.792010Z"
    },
    "scrolled": true
   },
   "outputs": [],
   "source": [
    "# with Timer(\"overview within\"):\n",
    "#     get_overview(within_traindev_df)"
   ]
  },
  {
   "cell_type": "markdown",
   "metadata": {},
   "source": [
    "## Train model - Baseline"
   ]
  },
  {
   "cell_type": "markdown",
   "metadata": {},
   "source": [
    "### train dev set - 70% 30%"
   ]
  },
  {
   "cell_type": "code",
   "execution_count": 14,
   "metadata": {
    "ExecuteTime": {
     "end_time": "2019-06-27T09:07:21.318418Z",
     "start_time": "2019-06-27T09:07:21.315500Z"
    },
    "code_folding": [
     0
    ],
    "init_cell": true,
    "scrolled": true
   },
   "outputs": [],
   "source": [
    "def get_train_test_sets(df, ratio=0.30, random_state=1):\n",
    "    X = df[['argument1', 'argument2', 'argument1_id', 'argument2_id', 'topic']]\n",
    "    y = df[['is_same_side']]\n",
    "\n",
    "    X_train, X_test, y_train, y_test = train_test_split(X,\n",
    "                                                        y,\n",
    "                                                        test_size=ratio,\n",
    "                                                        random_state=random_state,\n",
    "                                                        shuffle=True)\n",
    "    return X_train, X_test, y_train, y_test"
   ]
  },
  {
   "cell_type": "markdown",
   "metadata": {},
   "source": [
    "### BERT\n",
    "\n",
    "- https://gluon-nlp.mxnet.io/examples/sentence_embedding/bert.html"
   ]
  },
  {
   "cell_type": "code",
   "execution_count": 16,
   "metadata": {
    "ExecuteTime": {
     "end_time": "2019-06-27T09:07:22.356286Z",
     "start_time": "2019-06-27T09:07:22.351725Z"
    },
    "code_folding": [
     2
    ],
    "init_cell": true,
    "scrolled": true
   },
   "outputs": [],
   "source": [
    "from mxnet.gluon.data import SimpleDataset\n",
    "\n",
    "class MyBERTDataset(SimpleDataset):\n",
    "    def __init__(self, X, y=None):\n",
    "        self._X = X\n",
    "        self._y = y\n",
    "        super(MyBERTDataset, self).__init__(self._convert())\n",
    "\n",
    "    # def _convert(self):\n",
    "    #     allsamples = list()\n",
    "    #     for _, row in self._X[['argument1', 'argument2', 'is_same_side']].iterrows():\n",
    "    #         allsamples.append([row['argument1'], row['argument2'], \"1\" if row['is_same_side'] else \"0\"])\n",
    "    #     return allsamples\n",
    "    \n",
    "    def _convert(self):\n",
    "        allsamples = list()\n",
    "\n",
    "        if self._y is not None:\n",
    "            df = self._X.merge(self._y, left_index=True, right_index=True)\n",
    "            for _, row in df.iterrows():\n",
    "                allsamples.append([row['argument1'], row['argument2'], \"1\" if row['is_same_side'] == \"True\" else \"0\"])\n",
    "        else:\n",
    "            for _, row in self._X.iterrows():\n",
    "                allsamples.append([row['argument1'], row['argument2'], None])\n",
    "        \n",
    "        return allsamples\n",
    "\n",
    "    # def __getitem__(self, idx):\n",
    "    #     row_X = self._X.iloc[idx]\n",
    "    #     row_y = self._y.iloc[idx]\n",
    "    #     return [row_X['argument1'], row_X['argument2'], \"1\" if row_y['is_same_side'] else \"0\"]\n",
    "\n",
    "    # def __len__(self):\n",
    "    #     return len(self._X)"
   ]
  },
  {
   "cell_type": "code",
   "execution_count": 17,
   "metadata": {
    "ExecuteTime": {
     "end_time": "2019-06-27T09:07:22.867802Z",
     "start_time": "2019-06-27T09:07:22.866093Z"
    }
   },
   "outputs": [],
   "source": [
    "# df = X_dev.merge(y_dev, left_index=True, right_index=True)\n",
    "# allsamples = list()\n",
    "# for _, row in df.iterrows():\n",
    "#     allsamples.append(\"1\" if row['is_same_side'] == \"True\" else \"0\")\n",
    "# np.unique(allsamples)"
   ]
  },
  {
   "cell_type": "code",
   "execution_count": 36,
   "metadata": {
    "ExecuteTime": {
     "end_time": "2019-06-27T10:11:24.554109Z",
     "start_time": "2019-06-27T10:11:24.517678Z"
    },
    "code_folding": [
     0,
     44,
     50,
     71,
     72,
     145,
     173
    ],
    "init_cell": true,
    "scrolled": true
   },
   "outputs": [],
   "source": [
    "def setup_bert():\n",
    "    np.random.seed(100)\n",
    "    random.seed(100)\n",
    "    mx.random.seed(10000)\n",
    "    # change `ctx` to `mx.cpu()` if no GPU is available.\n",
    "    ctx = mx.gpu(0)\n",
    "    # ctx =  mx.gpu() if mx.context.num_gpus() else mx.cpu()\n",
    "    # ctx = mx.cpu()\n",
    "    \n",
    "    bert_base, vocabulary = nlp.model.get_model('bert_12_768_12',\n",
    "                                                 dataset_name='book_corpus_wiki_en_uncased',\n",
    "                                                 pretrained=True, ctx=ctx, use_pooler=True,\n",
    "                                                 use_decoder=False, use_classifier=False)\n",
    "    print(bert_base)\n",
    "    \n",
    "    model = bert.BERTClassifier(bert_base, num_classes=2, dropout=0.1)\n",
    "    # only need to initialize the classifier layer.\n",
    "    model.classifier.initialize(init=mx.init.Normal(0.02), ctx=ctx)\n",
    "    model.hybridize(static_alloc=True)\n",
    "\n",
    "    # softmax cross entropy loss for classification\n",
    "    loss_function = gluon.loss.SoftmaxCELoss()\n",
    "    loss_function.hybridize(static_alloc=True)\n",
    "\n",
    "    metric = mx.metric.Accuracy()\n",
    "    \n",
    "    # use the vocabulary from pre-trained model for tokenization\n",
    "    bert_tokenizer = nlp.data.BERTTokenizer(vocabulary, lower=True)\n",
    "    # maximum sequence length\n",
    "    max_len = 128\n",
    "    # the labels for the two classes\n",
    "    all_labels = [\"0\", \"1\"]\n",
    "    # whether to transform the data as sentence pairs.\n",
    "    # for single sentence classification, set pair=False\n",
    "    pair = True\n",
    "    transform = dataset.BERTDatasetTransform(bert_tokenizer, max_len,\n",
    "                                             labels=all_labels,\n",
    "                                             label_dtype='int32',\n",
    "                                             pad=True,\n",
    "                                             pair=pair)\n",
    "\n",
    "    return model, vocabulary, ctx, transform, loss_function, metric, all_labels\n",
    "\n",
    "    \n",
    "def transform_dataset(X, y, transform):\n",
    "    data_train_raw = MyBERTDataset(X, y)\n",
    "    data_train = data_train_raw.transform(transform)\n",
    "    return data_train_raw, data_train\n",
    "\n",
    "\n",
    "def print_infos(vocabulary, data_train_raw, data_train):\n",
    "    sample_id = 0\n",
    "\n",
    "    # sentence a\n",
    "    print(data_train_raw[sample_id][0])\n",
    "    # sentence b\n",
    "    print(data_train_raw[sample_id][1])\n",
    "    # 1 means equivalent, 0 means not equivalent\n",
    "    print(data_train_raw[sample_id][2])\n",
    "\n",
    "    print('vocabulary used for tokenization = \\n%s'%vocabulary)\n",
    "    print('[PAD] token id = %s'%(vocabulary['[PAD]']))\n",
    "    print('[CLS] token id = %s'%(vocabulary['[CLS]']))\n",
    "    print('[SEP] token id = %s'%(vocabulary['[SEP]']))\n",
    "\n",
    "    print('token ids = \\n%s'%data_train[sample_id][0])\n",
    "    print('valid length = \\n%s'%data_train[sample_id][1])\n",
    "    print('segment ids = \\n%s'%data_train[sample_id][2])\n",
    "    print('label = \\n%s'%data_train[sample_id][3])\n",
    "    \n",
    "\n",
    "def train(model, data_train, ctx, metric, loss_function, batch_size=32, lr=5e-6, num_epochs=3):\n",
    "    with Timer(\"setup training\"):\n",
    "        train_sampler = nlp.data.FixedBucketSampler(\n",
    "            lengths=[int(item[1]) for item in tqdm(data_train)],\n",
    "            batch_size=batch_size,\n",
    "            shuffle=True)\n",
    "        bert_dataloader = mx.gluon.data.DataLoader(data_train,\n",
    "                                                   batch_sampler=train_sampler)\n",
    "\n",
    "        trainer = gluon.Trainer(model.collect_params(), 'adam', {\n",
    "            'learning_rate': lr,\n",
    "            'epsilon': 1e-9\n",
    "        })\n",
    "\n",
    "        # collect all differentiable parameters\n",
    "        # grad_req == 'null' indicates no gradients are calculated (e.g. constant parameters)\n",
    "        # the gradients for these params are clipped later\n",
    "        params = [p for p in model.collect_params().values() if p.grad_req != 'null']\n",
    "\n",
    "    log_interval = 10\n",
    "    with Timer(\"training\"):\n",
    "        stats = list()\n",
    "        for epoch_id in range(num_epochs):\n",
    "            epoch_checkpoint_savefile = \"data/bert.model.checkpoint{}.params\".format(epoch_id)\n",
    "            if os.path.exists(epoch_checkpoint_savefile):\n",
    "                model.load_parameters(epoch_checkpoint_savefile, ctx=ctx)\n",
    "                print(\"loaded checkpoint for epoch {}\".format(epoch_id))\n",
    "                continue\n",
    "\n",
    "            with Timer(\"epoch {}\".format(epoch_id)):\n",
    "                metric.reset()\n",
    "                step_loss = 0\n",
    "                t_p = time.time()  # time keeping\n",
    "                for batch_id, (token_ids, valid_length, segment_ids,\n",
    "                               label) in enumerate(bert_dataloader):\n",
    "                    with mx.autograd.record():\n",
    "\n",
    "                        # load data to GPU\n",
    "                        token_ids = token_ids.as_in_context(ctx)\n",
    "                        valid_length = valid_length.as_in_context(ctx)\n",
    "                        segment_ids = segment_ids.as_in_context(ctx)\n",
    "                        label = label.as_in_context(ctx)\n",
    "\n",
    "                        # forward computation\n",
    "                        out = model(token_ids, segment_ids,\n",
    "                                    valid_length.astype('float32'))\n",
    "                        ls = loss_function(out, label).mean()\n",
    "\n",
    "                    # backward computation\n",
    "                    ls.backward()\n",
    "\n",
    "                    # gradient clipping\n",
    "                    trainer.allreduce_grads()\n",
    "                    nlp.utils.clip_grad_global_norm(params, 1)\n",
    "                    trainer.update(1)\n",
    "\n",
    "                    step_loss += ls.asscalar()\n",
    "                    metric.update([label], [out])\n",
    "                    stats.append((metric.get()[1], ls.asscalar()))\n",
    "                    if (batch_id + 1) % (log_interval) == 0:\n",
    "                        print(\n",
    "                            '[Epoch {} Batch {}/{}] loss={:.4f}, lr={:.7f}, acc={:.3f} - time {}'\n",
    "                            .format(epoch_id, batch_id + 1, len(bert_dataloader),\n",
    "                                    step_loss / log_interval, trainer.learning_rate,\n",
    "                                    metric.get()[1],\n",
    "                                    datetime.timedelta(seconds=(time.time() - t_p))))\n",
    "                        t_p = time.time()\n",
    "                        step_loss = 0\n",
    "\n",
    "            model.save_parameters(epoch_checkpoint_savefile)\n",
    "            \n",
    "    return stats\n",
    "\n",
    "\n",
    "def predict(model, data_predict, ctx, metric, loss_function, batch_size=32):\n",
    "    bert_dataloader = mx.gluon.data.DataLoader(data_predict, batch_size=batch_size)\n",
    "    \n",
    "    all_predictions = list()\n",
    "\n",
    "    with Timer(\"prediction\"):\n",
    "        metric.reset()\n",
    "        cum_loss = 0\n",
    "        for batch_id, (token_ids, valid_length, segment_ids,\n",
    "                       label) in enumerate(tqdm(bert_dataloader)):\n",
    "            # load data to GPU\n",
    "            token_ids = token_ids.as_in_context(ctx)\n",
    "            valid_length = valid_length.as_in_context(ctx)\n",
    "            segment_ids = segment_ids.as_in_context(ctx)\n",
    "            label = label.as_in_context(ctx)\n",
    "\n",
    "            # forward computation\n",
    "            out = model(token_ids, segment_ids,\n",
    "                        valid_length.astype('float32'))\n",
    "            ls = loss_function(out, label).mean()\n",
    "\n",
    "            metric.update([label], [out])\n",
    "            cum_loss += ls.asscalar()  # .sum() ?\n",
    "            all_predictions.append((batch_id, label, out))\n",
    "            \n",
    "    return all_predictions, cum_loss\n",
    "\n",
    "\n",
    "def predict_out_to_ys(all_predictions, all_labels):\n",
    "    y_true, y_pred = list(), list()\n",
    "    \n",
    "    for _, y_true_many, y_pred_many in all_predictions:\n",
    "        y_true_many = y_true_many.T[0].asnumpy()\n",
    "        # https://mxnet.incubator.apache.org/api/python/gluon/loss.html#mxnet.gluon.loss.SoftmaxCrossEntropyLoss\n",
    "        # pred: the prediction tensor, where the batch_axis dimension ranges over batch size and axis dimension ranges over the number of classes.\n",
    "        y_pred_many = np.argmax(y_pred_many, axis=1).asnumpy()\n",
    "\n",
    "        y_true.extend(list(y_true_many))\n",
    "        y_pred.extend(list(y_pred_many))\n",
    "        # TODO: convert label_id to label?\n",
    "        # y_pred.extend(all_labels[c] for c in list(y_pred_many))\n",
    "        \n",
    "    y_true = np.array(y_true)\n",
    "    y_pred = np.array(y_pred)\n",
    "    \n",
    "    return y_true, y_pred\n",
    "\n",
    "\n",
    "def plot_train_stats(stats):\n",
    "    x = np.arange(len(stats))  # arange/linspace\n",
    "\n",
    "    acc_dots, loss_dots = zip(*stats)\n",
    "\n",
    "    plt.subplot(2, 1, 1)\n",
    "    plt.plot(x, acc_dots, 'o-')\n",
    "    plt.title('Training BERTClassifier')\n",
    "    plt.ylabel('Accuracy')\n",
    "\n",
    "    plt.subplot(2, 1, 2)\n",
    "    plt.plot(x, loss_dots, '.-')\n",
    "    plt.xlabel('Batches')\n",
    "    plt.ylabel('Loss')\n",
    "\n",
    "    plt.show()"
   ]
  },
  {
   "cell_type": "markdown",
   "metadata": {},
   "source": [
    "### Train run"
   ]
  },
  {
   "cell_type": "code",
   "execution_count": 20,
   "metadata": {
    "ExecuteTime": {
     "end_time": "2019-06-27T09:07:43.509056Z",
     "start_time": "2019-06-27T09:07:43.477257Z"
    },
    "scrolled": true
   },
   "outputs": [],
   "source": [
    "X_train, X_dev, y_train, y_dev = get_train_test_sets(within_traindev_df)"
   ]
  },
  {
   "cell_type": "code",
   "execution_count": 21,
   "metadata": {
    "ExecuteTime": {
     "end_time": "2019-06-27T09:08:12.270229Z",
     "start_time": "2019-06-27T09:08:09.946480Z"
    },
    "collapsed": true
   },
   "outputs": [
    {
     "name": "stdout",
     "output_type": "stream",
     "text": [
      "BERTModel(\n",
      "  (encoder): BERTEncoder(\n",
      "    (dropout_layer): Dropout(p = 0.1, axes=())\n",
      "    (layer_norm): BERTLayerNorm(eps=1e-12, axis=-1, center=True, scale=True, in_channels=768)\n",
      "    (transformer_cells): HybridSequential(\n",
      "      (0): BERTEncoderCell(\n",
      "        (dropout_layer): Dropout(p = 0.1, axes=())\n",
      "        (attention_cell): MultiHeadAttentionCell(\n",
      "          (_base_cell): DotProductAttentionCell(\n",
      "            (_dropout_layer): Dropout(p = 0.1, axes=())\n",
      "          )\n",
      "          (proj_query): Dense(768 -> 768, linear)\n",
      "          (proj_key): Dense(768 -> 768, linear)\n",
      "          (proj_value): Dense(768 -> 768, linear)\n",
      "        )\n",
      "        (proj): Dense(768 -> 768, linear)\n",
      "        (ffn): BERTPositionwiseFFN(\n",
      "          (ffn_1): Dense(768 -> 3072, linear)\n",
      "          (activation): GELU()\n",
      "          (ffn_2): Dense(3072 -> 768, linear)\n",
      "          (dropout_layer): Dropout(p = 0.1, axes=())\n",
      "          (layer_norm): BERTLayerNorm(eps=1e-12, axis=-1, center=True, scale=True, in_channels=768)\n",
      "        )\n",
      "        (layer_norm): BERTLayerNorm(eps=1e-12, axis=-1, center=True, scale=True, in_channels=768)\n",
      "      )\n",
      "      (1): BERTEncoderCell(\n",
      "        (dropout_layer): Dropout(p = 0.1, axes=())\n",
      "        (attention_cell): MultiHeadAttentionCell(\n",
      "          (_base_cell): DotProductAttentionCell(\n",
      "            (_dropout_layer): Dropout(p = 0.1, axes=())\n",
      "          )\n",
      "          (proj_query): Dense(768 -> 768, linear)\n",
      "          (proj_key): Dense(768 -> 768, linear)\n",
      "          (proj_value): Dense(768 -> 768, linear)\n",
      "        )\n",
      "        (proj): Dense(768 -> 768, linear)\n",
      "        (ffn): BERTPositionwiseFFN(\n",
      "          (ffn_1): Dense(768 -> 3072, linear)\n",
      "          (activation): GELU()\n",
      "          (ffn_2): Dense(3072 -> 768, linear)\n",
      "          (dropout_layer): Dropout(p = 0.1, axes=())\n",
      "          (layer_norm): BERTLayerNorm(eps=1e-12, axis=-1, center=True, scale=True, in_channels=768)\n",
      "        )\n",
      "        (layer_norm): BERTLayerNorm(eps=1e-12, axis=-1, center=True, scale=True, in_channels=768)\n",
      "      )\n",
      "      (2): BERTEncoderCell(\n",
      "        (dropout_layer): Dropout(p = 0.1, axes=())\n",
      "        (attention_cell): MultiHeadAttentionCell(\n",
      "          (_base_cell): DotProductAttentionCell(\n",
      "            (_dropout_layer): Dropout(p = 0.1, axes=())\n",
      "          )\n",
      "          (proj_query): Dense(768 -> 768, linear)\n",
      "          (proj_key): Dense(768 -> 768, linear)\n",
      "          (proj_value): Dense(768 -> 768, linear)\n",
      "        )\n",
      "        (proj): Dense(768 -> 768, linear)\n",
      "        (ffn): BERTPositionwiseFFN(\n",
      "          (ffn_1): Dense(768 -> 3072, linear)\n",
      "          (activation): GELU()\n",
      "          (ffn_2): Dense(3072 -> 768, linear)\n",
      "          (dropout_layer): Dropout(p = 0.1, axes=())\n",
      "          (layer_norm): BERTLayerNorm(eps=1e-12, axis=-1, center=True, scale=True, in_channels=768)\n",
      "        )\n",
      "        (layer_norm): BERTLayerNorm(eps=1e-12, axis=-1, center=True, scale=True, in_channels=768)\n",
      "      )\n",
      "      (3): BERTEncoderCell(\n",
      "        (dropout_layer): Dropout(p = 0.1, axes=())\n",
      "        (attention_cell): MultiHeadAttentionCell(\n",
      "          (_base_cell): DotProductAttentionCell(\n",
      "            (_dropout_layer): Dropout(p = 0.1, axes=())\n",
      "          )\n",
      "          (proj_query): Dense(768 -> 768, linear)\n",
      "          (proj_key): Dense(768 -> 768, linear)\n",
      "          (proj_value): Dense(768 -> 768, linear)\n",
      "        )\n",
      "        (proj): Dense(768 -> 768, linear)\n",
      "        (ffn): BERTPositionwiseFFN(\n",
      "          (ffn_1): Dense(768 -> 3072, linear)\n",
      "          (activation): GELU()\n",
      "          (ffn_2): Dense(3072 -> 768, linear)\n",
      "          (dropout_layer): Dropout(p = 0.1, axes=())\n",
      "          (layer_norm): BERTLayerNorm(eps=1e-12, axis=-1, center=True, scale=True, in_channels=768)\n",
      "        )\n",
      "        (layer_norm): BERTLayerNorm(eps=1e-12, axis=-1, center=True, scale=True, in_channels=768)\n",
      "      )\n",
      "      (4): BERTEncoderCell(\n",
      "        (dropout_layer): Dropout(p = 0.1, axes=())\n",
      "        (attention_cell): MultiHeadAttentionCell(\n",
      "          (_base_cell): DotProductAttentionCell(\n",
      "            (_dropout_layer): Dropout(p = 0.1, axes=())\n",
      "          )\n",
      "          (proj_query): Dense(768 -> 768, linear)\n",
      "          (proj_key): Dense(768 -> 768, linear)\n",
      "          (proj_value): Dense(768 -> 768, linear)\n",
      "        )\n",
      "        (proj): Dense(768 -> 768, linear)\n",
      "        (ffn): BERTPositionwiseFFN(\n",
      "          (ffn_1): Dense(768 -> 3072, linear)\n",
      "          (activation): GELU()\n",
      "          (ffn_2): Dense(3072 -> 768, linear)\n",
      "          (dropout_layer): Dropout(p = 0.1, axes=())\n",
      "          (layer_norm): BERTLayerNorm(eps=1e-12, axis=-1, center=True, scale=True, in_channels=768)\n",
      "        )\n",
      "        (layer_norm): BERTLayerNorm(eps=1e-12, axis=-1, center=True, scale=True, in_channels=768)\n",
      "      )\n",
      "      (5): BERTEncoderCell(\n",
      "        (dropout_layer): Dropout(p = 0.1, axes=())\n",
      "        (attention_cell): MultiHeadAttentionCell(\n",
      "          (_base_cell): DotProductAttentionCell(\n",
      "            (_dropout_layer): Dropout(p = 0.1, axes=())\n",
      "          )\n",
      "          (proj_query): Dense(768 -> 768, linear)\n",
      "          (proj_key): Dense(768 -> 768, linear)\n",
      "          (proj_value): Dense(768 -> 768, linear)\n",
      "        )\n",
      "        (proj): Dense(768 -> 768, linear)\n",
      "        (ffn): BERTPositionwiseFFN(\n",
      "          (ffn_1): Dense(768 -> 3072, linear)\n",
      "          (activation): GELU()\n",
      "          (ffn_2): Dense(3072 -> 768, linear)\n",
      "          (dropout_layer): Dropout(p = 0.1, axes=())\n",
      "          (layer_norm): BERTLayerNorm(eps=1e-12, axis=-1, center=True, scale=True, in_channels=768)\n",
      "        )\n",
      "        (layer_norm): BERTLayerNorm(eps=1e-12, axis=-1, center=True, scale=True, in_channels=768)\n",
      "      )\n",
      "      (6): BERTEncoderCell(\n",
      "        (dropout_layer): Dropout(p = 0.1, axes=())\n",
      "        (attention_cell): MultiHeadAttentionCell(\n",
      "          (_base_cell): DotProductAttentionCell(\n",
      "            (_dropout_layer): Dropout(p = 0.1, axes=())\n",
      "          )\n",
      "          (proj_query): Dense(768 -> 768, linear)\n",
      "          (proj_key): Dense(768 -> 768, linear)\n",
      "          (proj_value): Dense(768 -> 768, linear)\n",
      "        )\n",
      "        (proj): Dense(768 -> 768, linear)\n",
      "        (ffn): BERTPositionwiseFFN(\n",
      "          (ffn_1): Dense(768 -> 3072, linear)\n",
      "          (activation): GELU()\n",
      "          (ffn_2): Dense(3072 -> 768, linear)\n",
      "          (dropout_layer): Dropout(p = 0.1, axes=())\n",
      "          (layer_norm): BERTLayerNorm(eps=1e-12, axis=-1, center=True, scale=True, in_channels=768)\n",
      "        )\n",
      "        (layer_norm): BERTLayerNorm(eps=1e-12, axis=-1, center=True, scale=True, in_channels=768)\n",
      "      )\n",
      "      (7): BERTEncoderCell(\n",
      "        (dropout_layer): Dropout(p = 0.1, axes=())\n",
      "        (attention_cell): MultiHeadAttentionCell(\n",
      "          (_base_cell): DotProductAttentionCell(\n",
      "            (_dropout_layer): Dropout(p = 0.1, axes=())\n",
      "          )\n",
      "          (proj_query): Dense(768 -> 768, linear)\n",
      "          (proj_key): Dense(768 -> 768, linear)\n",
      "          (proj_value): Dense(768 -> 768, linear)\n",
      "        )\n",
      "        (proj): Dense(768 -> 768, linear)\n",
      "        (ffn): BERTPositionwiseFFN(\n",
      "          (ffn_1): Dense(768 -> 3072, linear)\n",
      "          (activation): GELU()\n",
      "          (ffn_2): Dense(3072 -> 768, linear)\n",
      "          (dropout_layer): Dropout(p = 0.1, axes=())\n",
      "          (layer_norm): BERTLayerNorm(eps=1e-12, axis=-1, center=True, scale=True, in_channels=768)\n",
      "        )\n",
      "        (layer_norm): BERTLayerNorm(eps=1e-12, axis=-1, center=True, scale=True, in_channels=768)\n",
      "      )\n",
      "      (8): BERTEncoderCell(\n",
      "        (dropout_layer): Dropout(p = 0.1, axes=())\n",
      "        (attention_cell): MultiHeadAttentionCell(\n",
      "          (_base_cell): DotProductAttentionCell(\n",
      "            (_dropout_layer): Dropout(p = 0.1, axes=())\n",
      "          )\n",
      "          (proj_query): Dense(768 -> 768, linear)\n",
      "          (proj_key): Dense(768 -> 768, linear)\n",
      "          (proj_value): Dense(768 -> 768, linear)\n",
      "        )\n",
      "        (proj): Dense(768 -> 768, linear)\n",
      "        (ffn): BERTPositionwiseFFN(\n",
      "          (ffn_1): Dense(768 -> 3072, linear)\n",
      "          (activation): GELU()\n",
      "          (ffn_2): Dense(3072 -> 768, linear)\n",
      "          (dropout_layer): Dropout(p = 0.1, axes=())\n",
      "          (layer_norm): BERTLayerNorm(eps=1e-12, axis=-1, center=True, scale=True, in_channels=768)\n",
      "        )\n",
      "        (layer_norm): BERTLayerNorm(eps=1e-12, axis=-1, center=True, scale=True, in_channels=768)\n",
      "      )\n",
      "      (9): BERTEncoderCell(\n",
      "        (dropout_layer): Dropout(p = 0.1, axes=())\n",
      "        (attention_cell): MultiHeadAttentionCell(\n",
      "          (_base_cell): DotProductAttentionCell(\n",
      "            (_dropout_layer): Dropout(p = 0.1, axes=())\n",
      "          )\n",
      "          (proj_query): Dense(768 -> 768, linear)\n",
      "          (proj_key): Dense(768 -> 768, linear)\n",
      "          (proj_value): Dense(768 -> 768, linear)\n",
      "        )\n",
      "        (proj): Dense(768 -> 768, linear)\n",
      "        (ffn): BERTPositionwiseFFN(\n",
      "          (ffn_1): Dense(768 -> 3072, linear)\n",
      "          (activation): GELU()\n",
      "          (ffn_2): Dense(3072 -> 768, linear)\n",
      "          (dropout_layer): Dropout(p = 0.1, axes=())\n",
      "          (layer_norm): BERTLayerNorm(eps=1e-12, axis=-1, center=True, scale=True, in_channels=768)\n",
      "        )\n",
      "        (layer_norm): BERTLayerNorm(eps=1e-12, axis=-1, center=True, scale=True, in_channels=768)\n",
      "      )\n",
      "      (10): BERTEncoderCell(\n",
      "        (dropout_layer): Dropout(p = 0.1, axes=())\n",
      "        (attention_cell): MultiHeadAttentionCell(\n",
      "          (_base_cell): DotProductAttentionCell(\n",
      "            (_dropout_layer): Dropout(p = 0.1, axes=())\n",
      "          )\n",
      "          (proj_query): Dense(768 -> 768, linear)\n",
      "          (proj_key): Dense(768 -> 768, linear)\n",
      "          (proj_value): Dense(768 -> 768, linear)\n",
      "        )\n",
      "        (proj): Dense(768 -> 768, linear)\n",
      "        (ffn): BERTPositionwiseFFN(\n",
      "          (ffn_1): Dense(768 -> 3072, linear)\n",
      "          (activation): GELU()\n",
      "          (ffn_2): Dense(3072 -> 768, linear)\n",
      "          (dropout_layer): Dropout(p = 0.1, axes=())\n",
      "          (layer_norm): BERTLayerNorm(eps=1e-12, axis=-1, center=True, scale=True, in_channels=768)\n",
      "        )\n",
      "        (layer_norm): BERTLayerNorm(eps=1e-12, axis=-1, center=True, scale=True, in_channels=768)\n",
      "      )\n",
      "      (11): BERTEncoderCell(\n",
      "        (dropout_layer): Dropout(p = 0.1, axes=())\n",
      "        (attention_cell): MultiHeadAttentionCell(\n",
      "          (_base_cell): DotProductAttentionCell(\n",
      "            (_dropout_layer): Dropout(p = 0.1, axes=())\n",
      "          )\n",
      "          (proj_query): Dense(768 -> 768, linear)\n",
      "          (proj_key): Dense(768 -> 768, linear)\n",
      "          (proj_value): Dense(768 -> 768, linear)\n",
      "        )\n",
      "        (proj): Dense(768 -> 768, linear)\n",
      "        (ffn): BERTPositionwiseFFN(\n",
      "          (ffn_1): Dense(768 -> 3072, linear)\n",
      "          (activation): GELU()\n",
      "          (ffn_2): Dense(3072 -> 768, linear)\n",
      "          (dropout_layer): Dropout(p = 0.1, axes=())\n",
      "          (layer_norm): BERTLayerNorm(eps=1e-12, axis=-1, center=True, scale=True, in_channels=768)\n",
      "        )\n",
      "        (layer_norm): BERTLayerNorm(eps=1e-12, axis=-1, center=True, scale=True, in_channels=768)\n",
      "      )\n",
      "    )\n",
      "  )\n",
      "  (word_embed): HybridSequential(\n",
      "    (0): Embedding(30522 -> 768, float32)\n",
      "    (1): Dropout(p = 0.1, axes=())\n",
      "  )\n",
      "  (token_type_embed): HybridSequential(\n",
      "    (0): Embedding(2 -> 768, float32)\n",
      "    (1): Dropout(p = 0.1, axes=())\n",
      "  )\n",
      "  (pooler): Dense(768 -> 768, Activation(tanh))\n",
      ")\n"
     ]
    }
   ],
   "source": [
    "model, vocabulary, ctx, transform, loss_function, metric, all_labels = setup_bert()"
   ]
  },
  {
   "cell_type": "code",
   "execution_count": 22,
   "metadata": {
    "ExecuteTime": {
     "end_time": "2019-06-27T09:08:19.879428Z",
     "start_time": "2019-06-27T09:08:17.523222Z"
    },
    "scrolled": true
   },
   "outputs": [],
   "source": [
    "data_train_raw, data_train = transform_dataset(X_train, y_train, transform)"
   ]
  },
  {
   "cell_type": "code",
   "execution_count": 23,
   "metadata": {
    "ExecuteTime": {
     "end_time": "2019-06-27T09:08:20.753416Z",
     "start_time": "2019-06-27T09:08:20.742110Z"
    },
    "collapsed": true
   },
   "outputs": [
    {
     "name": "stdout",
     "output_type": "stream",
     "text": [
      "wanted fetuses are beloved \"babies\"; unwanted ones are \"tissue\" (inconsistent)\n",
      "abortions are emotionally and psychologically unsafe.\n",
      "1\n",
      "vocabulary used for tokenization = \n",
      "Vocab(size=30522, unk=\"[UNK]\", reserved=\"['[PAD]', '[CLS]', '[SEP]', '[MASK]']\")\n",
      "[PAD] token id = 1\n",
      "[CLS] token id = 2\n",
      "[SEP] token id = 3\n",
      "token ids = \n",
      "[    2  2359 10768  5809  2229  2024 11419  1000 10834  1000  1025 18162\n",
      "  3924  2024  1000  8153  1000  1006 20316  1007     3 11324  2015  2024\n",
      " 14868  1998  8317  2135 25135  1012     3     1     1     1     1     1\n",
      "     1     1     1     1     1     1     1     1     1     1     1     1\n",
      "     1     1     1     1     1     1     1     1     1     1     1     1\n",
      "     1     1     1     1     1     1     1     1     1     1     1     1\n",
      "     1     1     1     1     1     1     1     1     1     1     1     1\n",
      "     1     1     1     1     1     1     1     1     1     1     1     1\n",
      "     1     1     1     1     1     1     1     1     1     1     1     1\n",
      "     1     1     1     1     1     1     1     1     1     1     1     1\n",
      "     1     1     1     1     1     1     1     1]\n",
      "valid length = \n",
      "31\n",
      "segment ids = \n",
      "[0 0 0 0 0 0 0 0 0 0 0 0 0 0 0 0 0 0 0 0 0 1 1 1 1 1 1 1 1 1 1 0 0 0 0 0 0\n",
      " 0 0 0 0 0 0 0 0 0 0 0 0 0 0 0 0 0 0 0 0 0 0 0 0 0 0 0 0 0 0 0 0 0 0 0 0 0\n",
      " 0 0 0 0 0 0 0 0 0 0 0 0 0 0 0 0 0 0 0 0 0 0 0 0 0 0 0 0 0 0 0 0 0 0 0 0 0\n",
      " 0 0 0 0 0 0 0 0 0 0 0 0 0 0 0 0 0]\n",
      "label = \n",
      "[1]\n"
     ]
    }
   ],
   "source": [
    "print_infos(vocabulary, data_train_raw, data_train)"
   ]
  },
  {
   "cell_type": "code",
   "execution_count": 24,
   "metadata": {
    "ExecuteTime": {
     "end_time": "2019-06-27T10:08:05.728981Z",
     "start_time": "2019-06-27T09:08:46.895630Z"
    },
    "scrolled": true
   },
   "outputs": [
    {
     "name": "stderr",
     "output_type": "stream",
     "text": [
      "100%|██████████| 44732/44732 [03:05<00:00, 241.79it/s]\n"
     ]
    },
    {
     "name": "stdout",
     "output_type": "stream",
     "text": [
      "Time for [setup training]: 0:03:05.021717\n",
      "[Epoch 0 Batch 10/1401] loss=0.7123, lr=0.0000050, acc=0.463 - time 0:00:08.429463\n",
      "[Epoch 0 Batch 20/1401] loss=0.7044, lr=0.0000050, acc=0.472 - time 0:00:07.867646\n",
      "[Epoch 0 Batch 30/1401] loss=0.6946, lr=0.0000050, acc=0.492 - time 0:00:07.527696\n",
      "[Epoch 0 Batch 40/1401] loss=0.7027, lr=0.0000050, acc=0.491 - time 0:00:07.696269\n",
      "[Epoch 0 Batch 50/1401] loss=0.7174, lr=0.0000050, acc=0.485 - time 0:00:08.085456\n",
      "[Epoch 0 Batch 60/1401] loss=0.7049, lr=0.0000050, acc=0.486 - time 0:00:07.885655\n",
      "[Epoch 0 Batch 70/1401] loss=0.6898, lr=0.0000050, acc=0.489 - time 0:00:07.797247\n",
      "[Epoch 0 Batch 80/1401] loss=0.6801, lr=0.0000050, acc=0.498 - time 0:00:08.268242\n",
      "[Epoch 0 Batch 90/1401] loss=0.6777, lr=0.0000050, acc=0.507 - time 0:00:07.477864\n",
      "[Epoch 0 Batch 100/1401] loss=0.6774, lr=0.0000050, acc=0.510 - time 0:00:08.402169\n",
      "[Epoch 0 Batch 110/1401] loss=0.6804, lr=0.0000050, acc=0.512 - time 0:00:08.319002\n",
      "[Epoch 0 Batch 120/1401] loss=0.6767, lr=0.0000050, acc=0.515 - time 0:00:07.695631\n",
      "[Epoch 0 Batch 130/1401] loss=0.6557, lr=0.0000050, acc=0.521 - time 0:00:07.997271\n",
      "[Epoch 0 Batch 140/1401] loss=0.6541, lr=0.0000050, acc=0.525 - time 0:00:08.719698\n",
      "[Epoch 0 Batch 150/1401] loss=0.6627, lr=0.0000050, acc=0.529 - time 0:00:08.068604\n",
      "[Epoch 0 Batch 160/1401] loss=0.6571, lr=0.0000050, acc=0.533 - time 0:00:08.052768\n",
      "[Epoch 0 Batch 170/1401] loss=0.6374, lr=0.0000050, acc=0.538 - time 0:00:08.075621\n",
      "[Epoch 0 Batch 180/1401] loss=0.6530, lr=0.0000050, acc=0.540 - time 0:00:08.329087\n",
      "[Epoch 0 Batch 190/1401] loss=0.6601, lr=0.0000050, acc=0.542 - time 0:00:07.813207\n",
      "[Epoch 0 Batch 200/1401] loss=0.6472, lr=0.0000050, acc=0.545 - time 0:00:08.048015\n",
      "[Epoch 0 Batch 210/1401] loss=0.6380, lr=0.0000050, acc=0.548 - time 0:00:07.826129\n",
      "[Epoch 0 Batch 220/1401] loss=0.6240, lr=0.0000050, acc=0.551 - time 0:00:08.102361\n",
      "[Epoch 0 Batch 230/1401] loss=0.5918, lr=0.0000050, acc=0.554 - time 0:00:08.178174\n",
      "[Epoch 0 Batch 240/1401] loss=0.6199, lr=0.0000050, acc=0.556 - time 0:00:08.476825\n",
      "[Epoch 0 Batch 250/1401] loss=0.6604, lr=0.0000050, acc=0.557 - time 0:00:07.405902\n",
      "[Epoch 0 Batch 260/1401] loss=0.6456, lr=0.0000050, acc=0.559 - time 0:00:07.822988\n",
      "[Epoch 0 Batch 270/1401] loss=0.6307, lr=0.0000050, acc=0.561 - time 0:00:08.344055\n",
      "[Epoch 0 Batch 280/1401] loss=0.5906, lr=0.0000050, acc=0.564 - time 0:00:08.257163\n",
      "[Epoch 0 Batch 290/1401] loss=0.5811, lr=0.0000050, acc=0.566 - time 0:00:08.271438\n",
      "[Epoch 0 Batch 300/1401] loss=0.5783, lr=0.0000050, acc=0.570 - time 0:00:08.211608\n",
      "[Epoch 0 Batch 310/1401] loss=0.6558, lr=0.0000050, acc=0.570 - time 0:00:07.964169\n",
      "[Epoch 0 Batch 320/1401] loss=0.6158, lr=0.0000050, acc=0.572 - time 0:00:08.251638\n",
      "[Epoch 0 Batch 330/1401] loss=0.6104, lr=0.0000050, acc=0.575 - time 0:00:07.489010\n",
      "[Epoch 0 Batch 340/1401] loss=0.6459, lr=0.0000050, acc=0.576 - time 0:00:07.302315\n",
      "[Epoch 0 Batch 350/1401] loss=0.6042, lr=0.0000050, acc=0.578 - time 0:00:08.308384\n",
      "[Epoch 0 Batch 360/1401] loss=0.6000, lr=0.0000050, acc=0.580 - time 0:00:08.136894\n",
      "[Epoch 0 Batch 370/1401] loss=0.6210, lr=0.0000050, acc=0.580 - time 0:00:08.041101\n",
      "[Epoch 0 Batch 380/1401] loss=0.5967, lr=0.0000050, acc=0.581 - time 0:00:08.520045\n",
      "[Epoch 0 Batch 390/1401] loss=0.5439, lr=0.0000050, acc=0.584 - time 0:00:07.940994\n",
      "[Epoch 0 Batch 400/1401] loss=0.5840, lr=0.0000050, acc=0.586 - time 0:00:08.125577\n",
      "[Epoch 0 Batch 410/1401] loss=0.5868, lr=0.0000050, acc=0.588 - time 0:00:07.982062\n",
      "[Epoch 0 Batch 420/1401] loss=0.5722, lr=0.0000050, acc=0.589 - time 0:00:08.409775\n",
      "[Epoch 0 Batch 430/1401] loss=0.5480, lr=0.0000050, acc=0.592 - time 0:00:08.393824\n",
      "[Epoch 0 Batch 440/1401] loss=0.5927, lr=0.0000050, acc=0.593 - time 0:00:07.371553\n",
      "[Epoch 0 Batch 450/1401] loss=0.5637, lr=0.0000050, acc=0.595 - time 0:00:07.809301\n",
      "[Epoch 0 Batch 460/1401] loss=0.5776, lr=0.0000050, acc=0.597 - time 0:00:08.124734\n",
      "[Epoch 0 Batch 470/1401] loss=0.5984, lr=0.0000050, acc=0.598 - time 0:00:08.030417\n",
      "[Epoch 0 Batch 480/1401] loss=0.5582, lr=0.0000050, acc=0.600 - time 0:00:08.308434\n",
      "[Epoch 0 Batch 490/1401] loss=0.6020, lr=0.0000050, acc=0.601 - time 0:00:08.245277\n",
      "[Epoch 0 Batch 500/1401] loss=0.5802, lr=0.0000050, acc=0.602 - time 0:00:07.645589\n",
      "[Epoch 0 Batch 510/1401] loss=0.6227, lr=0.0000050, acc=0.603 - time 0:00:07.906238\n",
      "[Epoch 0 Batch 520/1401] loss=0.5647, lr=0.0000050, acc=0.604 - time 0:00:07.976274\n",
      "[Epoch 0 Batch 530/1401] loss=0.5723, lr=0.0000050, acc=0.606 - time 0:00:07.923238\n",
      "[Epoch 0 Batch 540/1401] loss=0.5867, lr=0.0000050, acc=0.607 - time 0:00:07.901298\n",
      "[Epoch 0 Batch 550/1401] loss=0.6026, lr=0.0000050, acc=0.608 - time 0:00:07.887547\n",
      "[Epoch 0 Batch 560/1401] loss=0.5912, lr=0.0000050, acc=0.610 - time 0:00:07.569276\n",
      "[Epoch 0 Batch 570/1401] loss=0.5460, lr=0.0000050, acc=0.611 - time 0:00:08.026545\n",
      "[Epoch 0 Batch 580/1401] loss=0.5881, lr=0.0000050, acc=0.612 - time 0:00:08.259738\n",
      "[Epoch 0 Batch 590/1401] loss=0.5492, lr=0.0000050, acc=0.614 - time 0:00:07.672314\n",
      "[Epoch 0 Batch 600/1401] loss=0.5646, lr=0.0000050, acc=0.615 - time 0:00:08.126454\n",
      "[Epoch 0 Batch 610/1401] loss=0.5599, lr=0.0000050, acc=0.616 - time 0:00:07.906448\n",
      "[Epoch 0 Batch 620/1401] loss=0.5465, lr=0.0000050, acc=0.618 - time 0:00:07.848137\n",
      "[Epoch 0 Batch 630/1401] loss=0.5451, lr=0.0000050, acc=0.619 - time 0:00:08.057673\n",
      "[Epoch 0 Batch 640/1401] loss=0.5630, lr=0.0000050, acc=0.620 - time 0:00:07.945920\n",
      "[Epoch 0 Batch 650/1401] loss=0.5262, lr=0.0000050, acc=0.622 - time 0:00:07.656420\n",
      "[Epoch 0 Batch 660/1401] loss=0.5364, lr=0.0000050, acc=0.623 - time 0:00:08.345356\n",
      "[Epoch 0 Batch 670/1401] loss=0.5776, lr=0.0000050, acc=0.624 - time 0:00:07.552499\n",
      "[Epoch 0 Batch 680/1401] loss=0.5395, lr=0.0000050, acc=0.625 - time 0:00:07.974372\n",
      "[Epoch 0 Batch 690/1401] loss=0.5752, lr=0.0000050, acc=0.625 - time 0:00:08.283886\n",
      "[Epoch 0 Batch 700/1401] loss=0.5260, lr=0.0000050, acc=0.627 - time 0:00:07.872115\n",
      "[Epoch 0 Batch 710/1401] loss=0.5089, lr=0.0000050, acc=0.628 - time 0:00:08.312366\n",
      "[Epoch 0 Batch 720/1401] loss=0.4781, lr=0.0000050, acc=0.630 - time 0:00:08.382674\n",
      "[Epoch 0 Batch 730/1401] loss=0.5075, lr=0.0000050, acc=0.632 - time 0:00:07.757574\n",
      "[Epoch 0 Batch 740/1401] loss=0.5947, lr=0.0000050, acc=0.632 - time 0:00:07.525345\n",
      "[Epoch 0 Batch 750/1401] loss=0.4587, lr=0.0000050, acc=0.634 - time 0:00:08.268407\n",
      "[Epoch 0 Batch 760/1401] loss=0.4911, lr=0.0000050, acc=0.635 - time 0:00:07.854764\n",
      "[Epoch 0 Batch 770/1401] loss=0.4553, lr=0.0000050, acc=0.637 - time 0:00:08.211519\n",
      "[Epoch 0 Batch 780/1401] loss=0.4978, lr=0.0000050, acc=0.638 - time 0:00:08.158451\n",
      "[Epoch 0 Batch 790/1401] loss=0.5615, lr=0.0000050, acc=0.639 - time 0:00:08.495976\n",
      "[Epoch 0 Batch 800/1401] loss=0.5320, lr=0.0000050, acc=0.640 - time 0:00:07.868700\n",
      "[Epoch 0 Batch 810/1401] loss=0.5166, lr=0.0000050, acc=0.641 - time 0:00:08.340198\n",
      "[Epoch 0 Batch 820/1401] loss=0.5333, lr=0.0000050, acc=0.641 - time 0:00:07.622826\n",
      "[Epoch 0 Batch 830/1401] loss=0.5349, lr=0.0000050, acc=0.642 - time 0:00:07.729360\n",
      "[Epoch 0 Batch 840/1401] loss=0.4600, lr=0.0000050, acc=0.644 - time 0:00:07.597425\n",
      "[Epoch 0 Batch 850/1401] loss=0.4905, lr=0.0000050, acc=0.646 - time 0:00:08.071357\n",
      "[Epoch 0 Batch 860/1401] loss=0.4696, lr=0.0000050, acc=0.647 - time 0:00:08.128231\n",
      "[Epoch 0 Batch 870/1401] loss=0.4941, lr=0.0000050, acc=0.649 - time 0:00:07.919273\n",
      "[Epoch 0 Batch 880/1401] loss=0.5356, lr=0.0000050, acc=0.649 - time 0:00:07.630181\n",
      "[Epoch 0 Batch 890/1401] loss=0.5460, lr=0.0000050, acc=0.650 - time 0:00:07.905692\n",
      "[Epoch 0 Batch 900/1401] loss=0.4847, lr=0.0000050, acc=0.651 - time 0:00:07.960627\n",
      "[Epoch 0 Batch 910/1401] loss=0.5764, lr=0.0000050, acc=0.651 - time 0:00:08.077859\n",
      "[Epoch 0 Batch 920/1401] loss=0.4925, lr=0.0000050, acc=0.652 - time 0:00:08.145617\n",
      "[Epoch 0 Batch 930/1401] loss=0.4920, lr=0.0000050, acc=0.653 - time 0:00:08.204074\n",
      "[Epoch 0 Batch 940/1401] loss=0.5040, lr=0.0000050, acc=0.654 - time 0:00:07.617862\n",
      "[Epoch 0 Batch 950/1401] loss=0.4575, lr=0.0000050, acc=0.655 - time 0:00:07.613960\n",
      "[Epoch 0 Batch 960/1401] loss=0.4878, lr=0.0000050, acc=0.656 - time 0:00:08.204233\n",
      "[Epoch 0 Batch 970/1401] loss=0.4863, lr=0.0000050, acc=0.657 - time 0:00:07.893815\n",
      "[Epoch 0 Batch 980/1401] loss=0.4382, lr=0.0000050, acc=0.658 - time 0:00:07.896187\n"
     ]
    },
    {
     "name": "stdout",
     "output_type": "stream",
     "text": [
      "[Epoch 0 Batch 990/1401] loss=0.5263, lr=0.0000050, acc=0.659 - time 0:00:07.509619\n",
      "[Epoch 0 Batch 1000/1401] loss=0.4658, lr=0.0000050, acc=0.660 - time 0:00:07.723069\n",
      "[Epoch 0 Batch 1010/1401] loss=0.5230, lr=0.0000050, acc=0.660 - time 0:00:07.552863\n",
      "[Epoch 0 Batch 1020/1401] loss=0.4819, lr=0.0000050, acc=0.661 - time 0:00:07.757634\n",
      "[Epoch 0 Batch 1030/1401] loss=0.4789, lr=0.0000050, acc=0.662 - time 0:00:08.384501\n",
      "[Epoch 0 Batch 1040/1401] loss=0.4649, lr=0.0000050, acc=0.663 - time 0:00:08.520907\n",
      "[Epoch 0 Batch 1050/1401] loss=0.5330, lr=0.0000050, acc=0.663 - time 0:00:07.564851\n",
      "[Epoch 0 Batch 1060/1401] loss=0.5286, lr=0.0000050, acc=0.664 - time 0:00:08.070094\n",
      "[Epoch 0 Batch 1070/1401] loss=0.3950, lr=0.0000050, acc=0.665 - time 0:00:08.079727\n",
      "[Epoch 0 Batch 1080/1401] loss=0.4627, lr=0.0000050, acc=0.666 - time 0:00:07.650658\n",
      "[Epoch 0 Batch 1090/1401] loss=0.5199, lr=0.0000050, acc=0.666 - time 0:00:08.080456\n",
      "[Epoch 0 Batch 1100/1401] loss=0.4338, lr=0.0000050, acc=0.667 - time 0:00:08.161417\n",
      "[Epoch 0 Batch 1110/1401] loss=0.4790, lr=0.0000050, acc=0.668 - time 0:00:08.030745\n",
      "[Epoch 0 Batch 1120/1401] loss=0.3865, lr=0.0000050, acc=0.669 - time 0:00:07.754545\n",
      "[Epoch 0 Batch 1130/1401] loss=0.4556, lr=0.0000050, acc=0.670 - time 0:00:08.157677\n",
      "[Epoch 0 Batch 1140/1401] loss=0.4920, lr=0.0000050, acc=0.670 - time 0:00:08.114513\n",
      "[Epoch 0 Batch 1150/1401] loss=0.4475, lr=0.0000050, acc=0.671 - time 0:00:08.158981\n",
      "[Epoch 0 Batch 1160/1401] loss=0.4176, lr=0.0000050, acc=0.672 - time 0:00:08.069240\n",
      "[Epoch 0 Batch 1170/1401] loss=0.4944, lr=0.0000050, acc=0.673 - time 0:00:08.338026\n",
      "[Epoch 0 Batch 1180/1401] loss=0.4776, lr=0.0000050, acc=0.673 - time 0:00:08.182350\n",
      "[Epoch 0 Batch 1190/1401] loss=0.5621, lr=0.0000050, acc=0.673 - time 0:00:08.148154\n",
      "[Epoch 0 Batch 1200/1401] loss=0.4697, lr=0.0000050, acc=0.673 - time 0:00:08.567981\n",
      "[Epoch 0 Batch 1210/1401] loss=0.3726, lr=0.0000050, acc=0.675 - time 0:00:07.311585\n",
      "[Epoch 0 Batch 1220/1401] loss=0.4617, lr=0.0000050, acc=0.675 - time 0:00:08.117180\n",
      "[Epoch 0 Batch 1230/1401] loss=0.5107, lr=0.0000050, acc=0.676 - time 0:00:08.225312\n",
      "[Epoch 0 Batch 1240/1401] loss=0.4507, lr=0.0000050, acc=0.676 - time 0:00:08.493962\n",
      "[Epoch 0 Batch 1250/1401] loss=0.4423, lr=0.0000050, acc=0.677 - time 0:00:07.641222\n",
      "[Epoch 0 Batch 1260/1401] loss=0.4501, lr=0.0000050, acc=0.677 - time 0:00:08.171776\n",
      "[Epoch 0 Batch 1270/1401] loss=0.4360, lr=0.0000050, acc=0.678 - time 0:00:08.278238\n",
      "[Epoch 0 Batch 1280/1401] loss=0.4173, lr=0.0000050, acc=0.679 - time 0:00:08.080550\n",
      "[Epoch 0 Batch 1290/1401] loss=0.4354, lr=0.0000050, acc=0.680 - time 0:00:08.239101\n",
      "[Epoch 0 Batch 1300/1401] loss=0.4053, lr=0.0000050, acc=0.680 - time 0:00:08.087274\n",
      "[Epoch 0 Batch 1310/1401] loss=0.4539, lr=0.0000050, acc=0.681 - time 0:00:07.890835\n",
      "[Epoch 0 Batch 1320/1401] loss=0.4677, lr=0.0000050, acc=0.682 - time 0:00:08.052217\n",
      "[Epoch 0 Batch 1330/1401] loss=0.4357, lr=0.0000050, acc=0.682 - time 0:00:07.776023\n",
      "[Epoch 0 Batch 1340/1401] loss=0.5352, lr=0.0000050, acc=0.682 - time 0:00:08.086922\n",
      "[Epoch 0 Batch 1350/1401] loss=0.4342, lr=0.0000050, acc=0.683 - time 0:00:08.338279\n",
      "[Epoch 0 Batch 1360/1401] loss=0.3658, lr=0.0000050, acc=0.684 - time 0:00:07.949978\n",
      "[Epoch 0 Batch 1370/1401] loss=0.5012, lr=0.0000050, acc=0.684 - time 0:00:07.931020\n",
      "[Epoch 0 Batch 1380/1401] loss=0.4274, lr=0.0000050, acc=0.684 - time 0:00:08.314466\n",
      "[Epoch 0 Batch 1390/1401] loss=0.3888, lr=0.0000050, acc=0.685 - time 0:00:07.993023\n",
      "[Epoch 0 Batch 1400/1401] loss=0.4580, lr=0.0000050, acc=0.686 - time 0:00:07.931239\n",
      "Time for [single epoch]: 0:18:42.287338\n",
      "[Epoch 1 Batch 10/1401] loss=0.4022, lr=0.0000050, acc=0.762 - time 0:00:07.840079\n",
      "[Epoch 1 Batch 20/1401] loss=0.3754, lr=0.0000050, acc=0.784 - time 0:00:08.283976\n",
      "[Epoch 1 Batch 30/1401] loss=0.4910, lr=0.0000050, acc=0.757 - time 0:00:08.479980\n",
      "[Epoch 1 Batch 40/1401] loss=0.4802, lr=0.0000050, acc=0.752 - time 0:00:08.383613\n",
      "[Epoch 1 Batch 50/1401] loss=0.5064, lr=0.0000050, acc=0.745 - time 0:00:07.924361\n",
      "[Epoch 1 Batch 60/1401] loss=0.4351, lr=0.0000050, acc=0.749 - time 0:00:08.113843\n",
      "[Epoch 1 Batch 70/1401] loss=0.3358, lr=0.0000050, acc=0.761 - time 0:00:08.185432\n",
      "[Epoch 1 Batch 80/1401] loss=0.4418, lr=0.0000050, acc=0.764 - time 0:00:07.755495\n",
      "[Epoch 1 Batch 90/1401] loss=0.3495, lr=0.0000050, acc=0.770 - time 0:00:08.132732\n",
      "[Epoch 1 Batch 100/1401] loss=0.3822, lr=0.0000050, acc=0.772 - time 0:00:07.747507\n",
      "[Epoch 1 Batch 110/1401] loss=0.3288, lr=0.0000050, acc=0.777 - time 0:00:08.204412\n",
      "[Epoch 1 Batch 120/1401] loss=0.3499, lr=0.0000050, acc=0.779 - time 0:00:07.766383\n",
      "[Epoch 1 Batch 130/1401] loss=0.4608, lr=0.0000050, acc=0.777 - time 0:00:08.095440\n",
      "[Epoch 1 Batch 140/1401] loss=0.4025, lr=0.0000050, acc=0.776 - time 0:00:08.314880\n",
      "[Epoch 1 Batch 150/1401] loss=0.4587, lr=0.0000050, acc=0.773 - time 0:00:08.658314\n",
      "[Epoch 1 Batch 160/1401] loss=0.3971, lr=0.0000050, acc=0.773 - time 0:00:08.163732\n",
      "[Epoch 1 Batch 170/1401] loss=0.4782, lr=0.0000050, acc=0.771 - time 0:00:08.090885\n",
      "[Epoch 1 Batch 180/1401] loss=0.5041, lr=0.0000050, acc=0.767 - time 0:00:07.602871\n",
      "[Epoch 1 Batch 190/1401] loss=0.4014, lr=0.0000050, acc=0.768 - time 0:00:08.104315\n",
      "[Epoch 1 Batch 200/1401] loss=0.3562, lr=0.0000050, acc=0.770 - time 0:00:07.723421\n",
      "[Epoch 1 Batch 210/1401] loss=0.4098, lr=0.0000050, acc=0.771 - time 0:00:07.697101\n",
      "[Epoch 1 Batch 220/1401] loss=0.4362, lr=0.0000050, acc=0.770 - time 0:00:07.941660\n",
      "[Epoch 1 Batch 230/1401] loss=0.3615, lr=0.0000050, acc=0.771 - time 0:00:08.251705\n",
      "[Epoch 1 Batch 240/1401] loss=0.3492, lr=0.0000050, acc=0.772 - time 0:00:07.576083\n",
      "[Epoch 1 Batch 250/1401] loss=0.3819, lr=0.0000050, acc=0.773 - time 0:00:08.132837\n",
      "[Epoch 1 Batch 260/1401] loss=0.3715, lr=0.0000050, acc=0.774 - time 0:00:08.121312\n",
      "[Epoch 1 Batch 270/1401] loss=0.4625, lr=0.0000050, acc=0.772 - time 0:00:08.275591\n",
      "[Epoch 1 Batch 280/1401] loss=0.3953, lr=0.0000050, acc=0.772 - time 0:00:08.415489\n",
      "[Epoch 1 Batch 290/1401] loss=0.3972, lr=0.0000050, acc=0.772 - time 0:00:07.897092\n",
      "[Epoch 1 Batch 300/1401] loss=0.3222, lr=0.0000050, acc=0.774 - time 0:00:07.822111\n",
      "[Epoch 1 Batch 310/1401] loss=0.4583, lr=0.0000050, acc=0.772 - time 0:00:08.526614\n",
      "[Epoch 1 Batch 320/1401] loss=0.4265, lr=0.0000050, acc=0.772 - time 0:00:08.013752\n",
      "[Epoch 1 Batch 330/1401] loss=0.4151, lr=0.0000050, acc=0.772 - time 0:00:07.378862\n",
      "[Epoch 1 Batch 340/1401] loss=0.2895, lr=0.0000050, acc=0.775 - time 0:00:07.724899\n",
      "[Epoch 1 Batch 350/1401] loss=0.4737, lr=0.0000050, acc=0.773 - time 0:00:07.927525\n",
      "[Epoch 1 Batch 360/1401] loss=0.4858, lr=0.0000050, acc=0.771 - time 0:00:08.124047\n",
      "[Epoch 1 Batch 370/1401] loss=0.4258, lr=0.0000050, acc=0.771 - time 0:00:08.946943\n",
      "[Epoch 1 Batch 380/1401] loss=0.3748, lr=0.0000050, acc=0.771 - time 0:00:08.283555\n",
      "[Epoch 1 Batch 390/1401] loss=0.3944, lr=0.0000050, acc=0.771 - time 0:00:08.532738\n",
      "[Epoch 1 Batch 400/1401] loss=0.4685, lr=0.0000050, acc=0.770 - time 0:00:08.327667\n",
      "[Epoch 1 Batch 410/1401] loss=0.4081, lr=0.0000050, acc=0.770 - time 0:00:07.289740\n",
      "[Epoch 1 Batch 420/1401] loss=0.4215, lr=0.0000050, acc=0.769 - time 0:00:08.225570\n",
      "[Epoch 1 Batch 430/1401] loss=0.3755, lr=0.0000050, acc=0.769 - time 0:00:08.096681\n",
      "[Epoch 1 Batch 440/1401] loss=0.3139, lr=0.0000050, acc=0.770 - time 0:00:07.409975\n",
      "[Epoch 1 Batch 450/1401] loss=0.3441, lr=0.0000050, acc=0.772 - time 0:00:07.852151\n",
      "[Epoch 1 Batch 460/1401] loss=0.4142, lr=0.0000050, acc=0.772 - time 0:00:07.909598\n",
      "[Epoch 1 Batch 470/1401] loss=0.4515, lr=0.0000050, acc=0.772 - time 0:00:08.223837\n",
      "[Epoch 1 Batch 480/1401] loss=0.3986, lr=0.0000050, acc=0.771 - time 0:00:07.773173\n",
      "[Epoch 1 Batch 490/1401] loss=0.3995, lr=0.0000050, acc=0.771 - time 0:00:08.416197\n",
      "[Epoch 1 Batch 500/1401] loss=0.3128, lr=0.0000050, acc=0.772 - time 0:00:08.180171\n",
      "[Epoch 1 Batch 510/1401] loss=0.3351, lr=0.0000050, acc=0.773 - time 0:00:07.861889\n",
      "[Epoch 1 Batch 520/1401] loss=0.3750, lr=0.0000050, acc=0.773 - time 0:00:08.344717\n",
      "[Epoch 1 Batch 530/1401] loss=0.4671, lr=0.0000050, acc=0.773 - time 0:00:08.145133\n",
      "[Epoch 1 Batch 540/1401] loss=0.4311, lr=0.0000050, acc=0.772 - time 0:00:07.855071\n",
      "[Epoch 1 Batch 550/1401] loss=0.4054, lr=0.0000050, acc=0.771 - time 0:00:08.095448\n"
     ]
    },
    {
     "name": "stdout",
     "output_type": "stream",
     "text": [
      "[Epoch 1 Batch 560/1401] loss=0.3879, lr=0.0000050, acc=0.771 - time 0:00:08.119269\n",
      "[Epoch 1 Batch 570/1401] loss=0.3446, lr=0.0000050, acc=0.772 - time 0:00:08.166940\n",
      "[Epoch 1 Batch 580/1401] loss=0.3895, lr=0.0000050, acc=0.772 - time 0:00:07.309890\n",
      "[Epoch 1 Batch 590/1401] loss=0.2833, lr=0.0000050, acc=0.773 - time 0:00:08.045552\n",
      "[Epoch 1 Batch 600/1401] loss=0.3271, lr=0.0000050, acc=0.774 - time 0:00:07.967530\n",
      "[Epoch 1 Batch 610/1401] loss=0.3914, lr=0.0000050, acc=0.774 - time 0:00:08.316017\n",
      "[Epoch 1 Batch 620/1401] loss=0.3145, lr=0.0000050, acc=0.775 - time 0:00:08.227765\n",
      "[Epoch 1 Batch 630/1401] loss=0.3383, lr=0.0000050, acc=0.776 - time 0:00:07.850759\n",
      "[Epoch 1 Batch 640/1401] loss=0.3849, lr=0.0000050, acc=0.776 - time 0:00:08.106729\n",
      "[Epoch 1 Batch 650/1401] loss=0.3866, lr=0.0000050, acc=0.776 - time 0:00:08.476966\n",
      "[Epoch 1 Batch 660/1401] loss=0.2966, lr=0.0000050, acc=0.777 - time 0:00:07.531598\n",
      "[Epoch 1 Batch 670/1401] loss=0.3446, lr=0.0000050, acc=0.776 - time 0:00:07.905171\n",
      "[Epoch 1 Batch 680/1401] loss=0.3054, lr=0.0000050, acc=0.777 - time 0:00:07.897415\n",
      "[Epoch 1 Batch 690/1401] loss=0.3164, lr=0.0000050, acc=0.778 - time 0:00:07.771691\n",
      "[Epoch 1 Batch 700/1401] loss=0.3753, lr=0.0000050, acc=0.778 - time 0:00:07.912253\n",
      "[Epoch 1 Batch 710/1401] loss=0.3885, lr=0.0000050, acc=0.778 - time 0:00:07.863090\n",
      "[Epoch 1 Batch 720/1401] loss=0.3327, lr=0.0000050, acc=0.778 - time 0:00:08.063610\n",
      "[Epoch 1 Batch 730/1401] loss=0.3364, lr=0.0000050, acc=0.778 - time 0:00:07.756478\n",
      "[Epoch 1 Batch 740/1401] loss=0.2948, lr=0.0000050, acc=0.779 - time 0:00:07.568928\n",
      "[Epoch 1 Batch 750/1401] loss=0.3672, lr=0.0000050, acc=0.779 - time 0:00:07.945636\n",
      "[Epoch 1 Batch 760/1401] loss=0.3656, lr=0.0000050, acc=0.778 - time 0:00:07.190947\n",
      "[Epoch 1 Batch 770/1401] loss=0.3924, lr=0.0000050, acc=0.778 - time 0:00:07.875291\n",
      "[Epoch 1 Batch 780/1401] loss=0.3592, lr=0.0000050, acc=0.778 - time 0:00:08.165911\n",
      "[Epoch 1 Batch 790/1401] loss=0.3584, lr=0.0000050, acc=0.778 - time 0:00:08.032954\n",
      "[Epoch 1 Batch 800/1401] loss=0.4452, lr=0.0000050, acc=0.777 - time 0:00:08.531223\n",
      "[Epoch 1 Batch 810/1401] loss=0.2480, lr=0.0000050, acc=0.778 - time 0:00:07.580523\n",
      "[Epoch 1 Batch 820/1401] loss=0.2843, lr=0.0000050, acc=0.779 - time 0:00:07.785364\n",
      "[Epoch 1 Batch 830/1401] loss=0.3921, lr=0.0000050, acc=0.778 - time 0:00:08.262125\n",
      "[Epoch 1 Batch 840/1401] loss=0.3477, lr=0.0000050, acc=0.778 - time 0:00:08.086631\n",
      "[Epoch 1 Batch 850/1401] loss=0.3009, lr=0.0000050, acc=0.778 - time 0:00:07.773736\n",
      "[Epoch 1 Batch 860/1401] loss=0.3591, lr=0.0000050, acc=0.779 - time 0:00:08.398731\n",
      "[Epoch 1 Batch 870/1401] loss=0.3435, lr=0.0000050, acc=0.779 - time 0:00:08.574943\n",
      "[Epoch 1 Batch 880/1401] loss=0.3548, lr=0.0000050, acc=0.779 - time 0:00:08.213706\n",
      "[Epoch 1 Batch 890/1401] loss=0.3534, lr=0.0000050, acc=0.779 - time 0:00:07.918605\n",
      "[Epoch 1 Batch 900/1401] loss=0.3555, lr=0.0000050, acc=0.779 - time 0:00:08.073393\n",
      "[Epoch 1 Batch 910/1401] loss=0.4349, lr=0.0000050, acc=0.778 - time 0:00:08.357546\n",
      "[Epoch 1 Batch 920/1401] loss=0.3850, lr=0.0000050, acc=0.778 - time 0:00:08.331865\n",
      "[Epoch 1 Batch 930/1401] loss=0.3005, lr=0.0000050, acc=0.778 - time 0:00:08.130430\n",
      "[Epoch 1 Batch 940/1401] loss=0.3127, lr=0.0000050, acc=0.779 - time 0:00:07.917340\n",
      "[Epoch 1 Batch 950/1401] loss=0.2829, lr=0.0000050, acc=0.779 - time 0:00:07.950218\n",
      "[Epoch 1 Batch 960/1401] loss=0.1936, lr=0.0000050, acc=0.781 - time 0:00:07.346307\n",
      "[Epoch 1 Batch 970/1401] loss=0.3559, lr=0.0000050, acc=0.781 - time 0:00:08.152025\n",
      "[Epoch 1 Batch 980/1401] loss=0.3700, lr=0.0000050, acc=0.781 - time 0:00:08.224878\n",
      "[Epoch 1 Batch 990/1401] loss=0.2512, lr=0.0000050, acc=0.782 - time 0:00:07.804822\n",
      "[Epoch 1 Batch 1000/1401] loss=0.3481, lr=0.0000050, acc=0.782 - time 0:00:07.965730\n",
      "[Epoch 1 Batch 1010/1401] loss=0.4027, lr=0.0000050, acc=0.782 - time 0:00:08.105675\n",
      "[Epoch 1 Batch 1020/1401] loss=0.2924, lr=0.0000050, acc=0.783 - time 0:00:07.843184\n",
      "[Epoch 1 Batch 1030/1401] loss=0.3477, lr=0.0000050, acc=0.783 - time 0:00:08.035947\n",
      "[Epoch 1 Batch 1040/1401] loss=0.3057, lr=0.0000050, acc=0.783 - time 0:00:07.879628\n",
      "[Epoch 1 Batch 1050/1401] loss=0.2244, lr=0.0000050, acc=0.785 - time 0:00:07.397477\n",
      "[Epoch 1 Batch 1060/1401] loss=0.2277, lr=0.0000050, acc=0.786 - time 0:00:07.754345\n",
      "[Epoch 1 Batch 1070/1401] loss=0.3636, lr=0.0000050, acc=0.786 - time 0:00:08.197809\n",
      "[Epoch 1 Batch 1080/1401] loss=0.2908, lr=0.0000050, acc=0.786 - time 0:00:07.982162\n",
      "[Epoch 1 Batch 1090/1401] loss=0.3115, lr=0.0000050, acc=0.787 - time 0:00:08.063952\n",
      "[Epoch 1 Batch 1100/1401] loss=0.2987, lr=0.0000050, acc=0.787 - time 0:00:07.889869\n",
      "[Epoch 1 Batch 1110/1401] loss=0.2362, lr=0.0000050, acc=0.788 - time 0:00:07.516865\n",
      "[Epoch 1 Batch 1120/1401] loss=0.3892, lr=0.0000050, acc=0.787 - time 0:00:08.227030\n",
      "[Epoch 1 Batch 1130/1401] loss=0.3240, lr=0.0000050, acc=0.788 - time 0:00:08.207878\n",
      "[Epoch 1 Batch 1140/1401] loss=0.2397, lr=0.0000050, acc=0.789 - time 0:00:07.741807\n",
      "[Epoch 1 Batch 1150/1401] loss=0.3245, lr=0.0000050, acc=0.789 - time 0:00:08.138730\n",
      "[Epoch 1 Batch 1160/1401] loss=0.2749, lr=0.0000050, acc=0.789 - time 0:00:07.786052\n",
      "[Epoch 1 Batch 1170/1401] loss=0.3293, lr=0.0000050, acc=0.789 - time 0:00:07.971721\n",
      "[Epoch 1 Batch 1180/1401] loss=0.3606, lr=0.0000050, acc=0.790 - time 0:00:08.292334\n",
      "[Epoch 1 Batch 1190/1401] loss=0.3428, lr=0.0000050, acc=0.790 - time 0:00:08.112623\n",
      "[Epoch 1 Batch 1200/1401] loss=0.2628, lr=0.0000050, acc=0.790 - time 0:00:07.857587\n",
      "[Epoch 1 Batch 1210/1401] loss=0.2960, lr=0.0000050, acc=0.790 - time 0:00:08.157330\n",
      "[Epoch 1 Batch 1220/1401] loss=0.3174, lr=0.0000050, acc=0.791 - time 0:00:08.193441\n",
      "[Epoch 1 Batch 1230/1401] loss=0.3123, lr=0.0000050, acc=0.791 - time 0:00:08.223912\n",
      "[Epoch 1 Batch 1240/1401] loss=0.2579, lr=0.0000050, acc=0.791 - time 0:00:07.664219\n",
      "[Epoch 1 Batch 1250/1401] loss=0.3368, lr=0.0000050, acc=0.791 - time 0:00:07.944902\n",
      "[Epoch 1 Batch 1260/1401] loss=0.2781, lr=0.0000050, acc=0.792 - time 0:00:08.058318\n",
      "[Epoch 1 Batch 1270/1401] loss=0.3672, lr=0.0000050, acc=0.791 - time 0:00:08.454321\n",
      "[Epoch 1 Batch 1280/1401] loss=0.3612, lr=0.0000050, acc=0.791 - time 0:00:08.123804\n",
      "[Epoch 1 Batch 1290/1401] loss=0.3621, lr=0.0000050, acc=0.791 - time 0:00:08.396652\n",
      "[Epoch 1 Batch 1300/1401] loss=0.3119, lr=0.0000050, acc=0.791 - time 0:00:08.010951\n",
      "[Epoch 1 Batch 1310/1401] loss=0.3438, lr=0.0000050, acc=0.791 - time 0:00:08.351290\n",
      "[Epoch 1 Batch 1320/1401] loss=0.2874, lr=0.0000050, acc=0.791 - time 0:00:08.004020\n",
      "[Epoch 1 Batch 1330/1401] loss=0.3129, lr=0.0000050, acc=0.792 - time 0:00:07.860459\n",
      "[Epoch 1 Batch 1340/1401] loss=0.2876, lr=0.0000050, acc=0.792 - time 0:00:07.641809\n",
      "[Epoch 1 Batch 1350/1401] loss=0.3525, lr=0.0000050, acc=0.792 - time 0:00:08.238785\n",
      "[Epoch 1 Batch 1360/1401] loss=0.3677, lr=0.0000050, acc=0.792 - time 0:00:08.488010\n",
      "[Epoch 1 Batch 1370/1401] loss=0.3154, lr=0.0000050, acc=0.792 - time 0:00:07.971508\n",
      "[Epoch 1 Batch 1380/1401] loss=0.2791, lr=0.0000050, acc=0.792 - time 0:00:07.842806\n",
      "[Epoch 1 Batch 1390/1401] loss=0.3408, lr=0.0000050, acc=0.793 - time 0:00:08.393180\n",
      "[Epoch 1 Batch 1400/1401] loss=0.2209, lr=0.0000050, acc=0.793 - time 0:00:07.402305\n",
      "Time for [single epoch]: 0:18:43.947031\n",
      "[Epoch 2 Batch 10/1401] loss=0.4021, lr=0.0000050, acc=0.784 - time 0:00:08.680553\n",
      "[Epoch 2 Batch 20/1401] loss=0.2928, lr=0.0000050, acc=0.808 - time 0:00:07.896279\n",
      "[Epoch 2 Batch 30/1401] loss=0.2680, lr=0.0000050, acc=0.819 - time 0:00:07.773358\n",
      "[Epoch 2 Batch 40/1401] loss=0.3782, lr=0.0000050, acc=0.805 - time 0:00:08.615508\n",
      "[Epoch 2 Batch 50/1401] loss=0.2370, lr=0.0000050, acc=0.813 - time 0:00:07.856506\n",
      "[Epoch 2 Batch 60/1401] loss=0.3956, lr=0.0000050, acc=0.808 - time 0:00:08.856766\n",
      "[Epoch 2 Batch 70/1401] loss=0.2744, lr=0.0000050, acc=0.817 - time 0:00:07.966519\n",
      "[Epoch 2 Batch 80/1401] loss=0.2447, lr=0.0000050, acc=0.821 - time 0:00:07.966211\n",
      "[Epoch 2 Batch 90/1401] loss=0.4031, lr=0.0000050, acc=0.816 - time 0:00:08.748142\n",
      "[Epoch 2 Batch 100/1401] loss=0.3375, lr=0.0000050, acc=0.813 - time 0:00:08.073699\n",
      "[Epoch 2 Batch 110/1401] loss=0.3493, lr=0.0000050, acc=0.813 - time 0:00:08.580206\n",
      "[Epoch 2 Batch 120/1401] loss=0.2917, lr=0.0000050, acc=0.814 - time 0:00:07.979416\n"
     ]
    },
    {
     "name": "stdout",
     "output_type": "stream",
     "text": [
      "[Epoch 2 Batch 130/1401] loss=0.2842, lr=0.0000050, acc=0.816 - time 0:00:08.021702\n",
      "[Epoch 2 Batch 140/1401] loss=0.3099, lr=0.0000050, acc=0.817 - time 0:00:08.289311\n",
      "[Epoch 2 Batch 150/1401] loss=0.3550, lr=0.0000050, acc=0.814 - time 0:00:08.560434\n",
      "[Epoch 2 Batch 160/1401] loss=0.3104, lr=0.0000050, acc=0.815 - time 0:00:07.872391\n",
      "[Epoch 2 Batch 170/1401] loss=0.2659, lr=0.0000050, acc=0.818 - time 0:00:07.831087\n",
      "[Epoch 2 Batch 180/1401] loss=0.3006, lr=0.0000050, acc=0.819 - time 0:00:08.048283\n",
      "[Epoch 2 Batch 190/1401] loss=0.2382, lr=0.0000050, acc=0.822 - time 0:00:07.812180\n",
      "[Epoch 2 Batch 200/1401] loss=0.3389, lr=0.0000050, acc=0.821 - time 0:00:08.263330\n",
      "[Epoch 2 Batch 210/1401] loss=0.2935, lr=0.0000050, acc=0.823 - time 0:00:07.919809\n",
      "[Epoch 2 Batch 220/1401] loss=0.2225, lr=0.0000050, acc=0.826 - time 0:00:08.031448\n",
      "[Epoch 2 Batch 230/1401] loss=0.3450, lr=0.0000050, acc=0.824 - time 0:00:08.306631\n",
      "[Epoch 2 Batch 240/1401] loss=0.3455, lr=0.0000050, acc=0.823 - time 0:00:08.131581\n",
      "[Epoch 2 Batch 250/1401] loss=0.3110, lr=0.0000050, acc=0.823 - time 0:00:07.940493\n",
      "[Epoch 2 Batch 260/1401] loss=0.3629, lr=0.0000050, acc=0.821 - time 0:00:08.560171\n",
      "[Epoch 2 Batch 270/1401] loss=0.2309, lr=0.0000050, acc=0.823 - time 0:00:07.877578\n",
      "[Epoch 2 Batch 280/1401] loss=0.2557, lr=0.0000050, acc=0.824 - time 0:00:07.943942\n",
      "[Epoch 2 Batch 290/1401] loss=0.2459, lr=0.0000050, acc=0.826 - time 0:00:07.592917\n",
      "[Epoch 2 Batch 300/1401] loss=0.2998, lr=0.0000050, acc=0.826 - time 0:00:08.307333\n",
      "[Epoch 2 Batch 310/1401] loss=0.3181, lr=0.0000050, acc=0.826 - time 0:00:08.279038\n",
      "[Epoch 2 Batch 320/1401] loss=0.3317, lr=0.0000050, acc=0.825 - time 0:00:08.298538\n",
      "[Epoch 2 Batch 330/1401] loss=0.2639, lr=0.0000050, acc=0.825 - time 0:00:07.835853\n",
      "[Epoch 2 Batch 340/1401] loss=0.2462, lr=0.0000050, acc=0.826 - time 0:00:07.933054\n",
      "[Epoch 2 Batch 350/1401] loss=0.3095, lr=0.0000050, acc=0.825 - time 0:00:07.897617\n",
      "[Epoch 2 Batch 360/1401] loss=0.3129, lr=0.0000050, acc=0.825 - time 0:00:08.331260\n",
      "[Epoch 2 Batch 370/1401] loss=0.1889, lr=0.0000050, acc=0.827 - time 0:00:07.609469\n",
      "[Epoch 2 Batch 380/1401] loss=0.2447, lr=0.0000050, acc=0.827 - time 0:00:07.558258\n",
      "[Epoch 2 Batch 390/1401] loss=0.2963, lr=0.0000050, acc=0.828 - time 0:00:07.852574\n",
      "[Epoch 2 Batch 400/1401] loss=0.2754, lr=0.0000050, acc=0.828 - time 0:00:07.891157\n",
      "[Epoch 2 Batch 410/1401] loss=0.2996, lr=0.0000050, acc=0.828 - time 0:00:08.169893\n",
      "[Epoch 2 Batch 420/1401] loss=0.3191, lr=0.0000050, acc=0.827 - time 0:00:08.093707\n",
      "[Epoch 2 Batch 430/1401] loss=0.2630, lr=0.0000050, acc=0.827 - time 0:00:08.005908\n",
      "[Epoch 2 Batch 440/1401] loss=0.2772, lr=0.0000050, acc=0.828 - time 0:00:07.901879\n",
      "[Epoch 2 Batch 450/1401] loss=0.2549, lr=0.0000050, acc=0.828 - time 0:00:07.732409\n",
      "[Epoch 2 Batch 460/1401] loss=0.2956, lr=0.0000050, acc=0.828 - time 0:00:08.097174\n",
      "[Epoch 2 Batch 470/1401] loss=0.1692, lr=0.0000050, acc=0.829 - time 0:00:07.633403\n",
      "[Epoch 2 Batch 480/1401] loss=0.3063, lr=0.0000050, acc=0.829 - time 0:00:08.132021\n",
      "[Epoch 2 Batch 490/1401] loss=0.2829, lr=0.0000050, acc=0.829 - time 0:00:08.086113\n",
      "[Epoch 2 Batch 500/1401] loss=0.2868, lr=0.0000050, acc=0.829 - time 0:00:07.996025\n",
      "[Epoch 2 Batch 510/1401] loss=0.3313, lr=0.0000050, acc=0.829 - time 0:00:07.987367\n",
      "[Epoch 2 Batch 520/1401] loss=0.3181, lr=0.0000050, acc=0.828 - time 0:00:08.280458\n",
      "[Epoch 2 Batch 530/1401] loss=0.1545, lr=0.0000050, acc=0.829 - time 0:00:07.314751\n",
      "[Epoch 2 Batch 540/1401] loss=0.2538, lr=0.0000050, acc=0.830 - time 0:00:07.736757\n",
      "[Epoch 2 Batch 550/1401] loss=0.2703, lr=0.0000050, acc=0.831 - time 0:00:07.964112\n",
      "[Epoch 2 Batch 560/1401] loss=0.3438, lr=0.0000050, acc=0.830 - time 0:00:08.042458\n",
      "[Epoch 2 Batch 570/1401] loss=0.2023, lr=0.0000050, acc=0.830 - time 0:00:07.604079\n",
      "[Epoch 2 Batch 580/1401] loss=0.2892, lr=0.0000050, acc=0.831 - time 0:00:07.921458\n",
      "[Epoch 2 Batch 590/1401] loss=0.2871, lr=0.0000050, acc=0.831 - time 0:00:08.094764\n",
      "[Epoch 2 Batch 600/1401] loss=0.3245, lr=0.0000050, acc=0.830 - time 0:00:08.234597\n",
      "[Epoch 2 Batch 610/1401] loss=0.2961, lr=0.0000050, acc=0.830 - time 0:00:08.020274\n",
      "[Epoch 2 Batch 620/1401] loss=0.2729, lr=0.0000050, acc=0.830 - time 0:00:08.058812\n",
      "[Epoch 2 Batch 630/1401] loss=0.3000, lr=0.0000050, acc=0.830 - time 0:00:08.216863\n",
      "[Epoch 2 Batch 640/1401] loss=0.2875, lr=0.0000050, acc=0.830 - time 0:00:08.136418\n",
      "[Epoch 2 Batch 650/1401] loss=0.2239, lr=0.0000050, acc=0.830 - time 0:00:07.470409\n",
      "[Epoch 2 Batch 660/1401] loss=0.2513, lr=0.0000050, acc=0.830 - time 0:00:07.409057\n",
      "[Epoch 2 Batch 670/1401] loss=0.2744, lr=0.0000050, acc=0.830 - time 0:00:08.087377\n",
      "[Epoch 2 Batch 680/1401] loss=0.1982, lr=0.0000050, acc=0.831 - time 0:00:07.707074\n",
      "[Epoch 2 Batch 690/1401] loss=0.3053, lr=0.0000050, acc=0.832 - time 0:00:08.429799\n",
      "[Epoch 2 Batch 700/1401] loss=0.2393, lr=0.0000050, acc=0.832 - time 0:00:07.792054\n",
      "[Epoch 2 Batch 710/1401] loss=0.2492, lr=0.0000050, acc=0.832 - time 0:00:07.874550\n",
      "[Epoch 2 Batch 720/1401] loss=0.3203, lr=0.0000050, acc=0.832 - time 0:00:08.246430\n",
      "[Epoch 2 Batch 730/1401] loss=0.2268, lr=0.0000050, acc=0.833 - time 0:00:07.794978\n",
      "[Epoch 2 Batch 740/1401] loss=0.2522, lr=0.0000050, acc=0.833 - time 0:00:07.833607\n",
      "[Epoch 2 Batch 750/1401] loss=0.2234, lr=0.0000050, acc=0.833 - time 0:00:07.771618\n",
      "[Epoch 2 Batch 760/1401] loss=0.2575, lr=0.0000050, acc=0.834 - time 0:00:08.007575\n",
      "[Epoch 2 Batch 770/1401] loss=0.3414, lr=0.0000050, acc=0.833 - time 0:00:08.582649\n",
      "[Epoch 2 Batch 780/1401] loss=0.2789, lr=0.0000050, acc=0.834 - time 0:00:07.921837\n",
      "[Epoch 2 Batch 790/1401] loss=0.2647, lr=0.0000050, acc=0.834 - time 0:00:07.942013\n",
      "[Epoch 2 Batch 800/1401] loss=0.3643, lr=0.0000050, acc=0.833 - time 0:00:08.499726\n",
      "[Epoch 2 Batch 810/1401] loss=0.2385, lr=0.0000050, acc=0.834 - time 0:00:07.973729\n",
      "[Epoch 2 Batch 820/1401] loss=0.3488, lr=0.0000050, acc=0.833 - time 0:00:08.626363\n",
      "[Epoch 2 Batch 830/1401] loss=0.2366, lr=0.0000050, acc=0.834 - time 0:00:07.729290\n",
      "[Epoch 2 Batch 840/1401] loss=0.4040, lr=0.0000050, acc=0.832 - time 0:00:08.503092\n",
      "[Epoch 2 Batch 850/1401] loss=0.2774, lr=0.0000050, acc=0.832 - time 0:00:08.047846\n",
      "[Epoch 2 Batch 860/1401] loss=0.2627, lr=0.0000050, acc=0.833 - time 0:00:07.923019\n",
      "[Epoch 2 Batch 870/1401] loss=0.4101, lr=0.0000050, acc=0.832 - time 0:00:08.761324\n",
      "[Epoch 2 Batch 880/1401] loss=0.2817, lr=0.0000050, acc=0.832 - time 0:00:07.679638\n",
      "[Epoch 2 Batch 890/1401] loss=0.3215, lr=0.0000050, acc=0.831 - time 0:00:08.434351\n",
      "[Epoch 2 Batch 900/1401] loss=0.2931, lr=0.0000050, acc=0.831 - time 0:00:08.152536\n",
      "[Epoch 2 Batch 910/1401] loss=0.2940, lr=0.0000050, acc=0.831 - time 0:00:08.149889\n",
      "[Epoch 2 Batch 920/1401] loss=0.2718, lr=0.0000050, acc=0.831 - time 0:00:07.979250\n",
      "[Epoch 2 Batch 930/1401] loss=0.2800, lr=0.0000050, acc=0.832 - time 0:00:08.215698\n",
      "[Epoch 2 Batch 940/1401] loss=0.1830, lr=0.0000050, acc=0.832 - time 0:00:07.531424\n",
      "[Epoch 2 Batch 950/1401] loss=0.3987, lr=0.0000050, acc=0.831 - time 0:00:08.931607\n",
      "[Epoch 2 Batch 960/1401] loss=0.2587, lr=0.0000050, acc=0.832 - time 0:00:07.995617\n",
      "[Epoch 2 Batch 970/1401] loss=0.2232, lr=0.0000050, acc=0.832 - time 0:00:07.801852\n",
      "[Epoch 2 Batch 980/1401] loss=0.2434, lr=0.0000050, acc=0.832 - time 0:00:07.617191\n",
      "[Epoch 2 Batch 990/1401] loss=0.3609, lr=0.0000050, acc=0.832 - time 0:00:08.521319\n",
      "[Epoch 2 Batch 1000/1401] loss=0.2691, lr=0.0000050, acc=0.832 - time 0:00:08.085539\n",
      "[Epoch 2 Batch 1010/1401] loss=0.3043, lr=0.0000050, acc=0.832 - time 0:00:08.396702\n",
      "[Epoch 2 Batch 1020/1401] loss=0.2163, lr=0.0000050, acc=0.832 - time 0:00:07.634984\n",
      "[Epoch 2 Batch 1030/1401] loss=0.2471, lr=0.0000050, acc=0.833 - time 0:00:07.988446\n",
      "[Epoch 2 Batch 1040/1401] loss=0.1837, lr=0.0000050, acc=0.833 - time 0:00:07.332515\n",
      "[Epoch 2 Batch 1050/1401] loss=0.2906, lr=0.0000050, acc=0.833 - time 0:00:07.947009\n",
      "[Epoch 2 Batch 1060/1401] loss=0.3173, lr=0.0000050, acc=0.833 - time 0:00:08.243246\n",
      "[Epoch 2 Batch 1070/1401] loss=0.2041, lr=0.0000050, acc=0.833 - time 0:00:07.444764\n",
      "[Epoch 2 Batch 1080/1401] loss=0.2797, lr=0.0000050, acc=0.833 - time 0:00:07.817395\n",
      "[Epoch 2 Batch 1090/1401] loss=0.3028, lr=0.0000050, acc=0.833 - time 0:00:07.990641\n",
      "[Epoch 2 Batch 1100/1401] loss=0.3056, lr=0.0000050, acc=0.833 - time 0:00:07.732101\n"
     ]
    },
    {
     "name": "stdout",
     "output_type": "stream",
     "text": [
      "[Epoch 2 Batch 1110/1401] loss=0.2621, lr=0.0000050, acc=0.833 - time 0:00:08.081546\n",
      "[Epoch 2 Batch 1120/1401] loss=0.1788, lr=0.0000050, acc=0.834 - time 0:00:07.604350\n",
      "[Epoch 2 Batch 1130/1401] loss=0.2522, lr=0.0000050, acc=0.834 - time 0:00:07.765364\n",
      "[Epoch 2 Batch 1140/1401] loss=0.2986, lr=0.0000050, acc=0.834 - time 0:00:08.241038\n",
      "[Epoch 2 Batch 1150/1401] loss=0.2757, lr=0.0000050, acc=0.834 - time 0:00:07.989289\n",
      "[Epoch 2 Batch 1160/1401] loss=0.3359, lr=0.0000050, acc=0.834 - time 0:00:08.209444\n",
      "[Epoch 2 Batch 1170/1401] loss=0.2305, lr=0.0000050, acc=0.834 - time 0:00:07.994653\n",
      "[Epoch 2 Batch 1180/1401] loss=0.2881, lr=0.0000050, acc=0.834 - time 0:00:08.298854\n",
      "[Epoch 2 Batch 1190/1401] loss=0.3825, lr=0.0000050, acc=0.833 - time 0:00:08.636332\n",
      "[Epoch 2 Batch 1200/1401] loss=0.2566, lr=0.0000050, acc=0.833 - time 0:00:07.830189\n",
      "[Epoch 2 Batch 1210/1401] loss=0.2298, lr=0.0000050, acc=0.834 - time 0:00:07.570975\n",
      "[Epoch 2 Batch 1220/1401] loss=0.2410, lr=0.0000050, acc=0.834 - time 0:00:07.900977\n",
      "[Epoch 2 Batch 1230/1401] loss=0.2020, lr=0.0000050, acc=0.834 - time 0:00:07.765935\n",
      "[Epoch 2 Batch 1240/1401] loss=0.3683, lr=0.0000050, acc=0.834 - time 0:00:08.538078\n",
      "[Epoch 2 Batch 1250/1401] loss=0.3932, lr=0.0000050, acc=0.833 - time 0:00:08.612187\n",
      "[Epoch 2 Batch 1260/1401] loss=0.2345, lr=0.0000050, acc=0.833 - time 0:00:07.760833\n",
      "[Epoch 2 Batch 1270/1401] loss=0.2657, lr=0.0000050, acc=0.833 - time 0:00:08.032785\n",
      "[Epoch 2 Batch 1280/1401] loss=0.1845, lr=0.0000050, acc=0.834 - time 0:00:07.721666\n",
      "[Epoch 2 Batch 1290/1401] loss=0.2546, lr=0.0000050, acc=0.834 - time 0:00:08.136131\n",
      "[Epoch 2 Batch 1300/1401] loss=0.2679, lr=0.0000050, acc=0.834 - time 0:00:07.769371\n",
      "[Epoch 2 Batch 1310/1401] loss=0.2808, lr=0.0000050, acc=0.834 - time 0:00:08.186091\n",
      "[Epoch 2 Batch 1320/1401] loss=0.3604, lr=0.0000050, acc=0.834 - time 0:00:08.398985\n",
      "[Epoch 2 Batch 1330/1401] loss=0.2851, lr=0.0000050, acc=0.834 - time 0:00:08.071715\n",
      "[Epoch 2 Batch 1340/1401] loss=0.3526, lr=0.0000050, acc=0.833 - time 0:00:08.370647\n",
      "[Epoch 2 Batch 1350/1401] loss=0.3193, lr=0.0000050, acc=0.834 - time 0:00:08.089954\n",
      "[Epoch 2 Batch 1360/1401] loss=0.3584, lr=0.0000050, acc=0.833 - time 0:00:08.377821\n",
      "[Epoch 2 Batch 1370/1401] loss=0.2667, lr=0.0000050, acc=0.833 - time 0:00:07.953354\n",
      "[Epoch 2 Batch 1380/1401] loss=0.2769, lr=0.0000050, acc=0.833 - time 0:00:07.722546\n",
      "[Epoch 2 Batch 1390/1401] loss=0.3096, lr=0.0000050, acc=0.833 - time 0:00:07.986592\n",
      "[Epoch 2 Batch 1400/1401] loss=0.2349, lr=0.0000050, acc=0.833 - time 0:00:07.795069\n",
      "Time for [single epoch]: 0:18:46.163001\n",
      "Time for [training]: 0:56:13.805676\n"
     ]
    }
   ],
   "source": [
    "# train(model, data_train, ctx, metric, loss_function, batch_size=32, lr=5e-6, num_epochs=3)\n",
    "stats = train(model, data_train, ctx, metric, loss_function, batch_size=32, lr=5e-6, num_epochs=3)"
   ]
  },
  {
   "cell_type": "code",
   "execution_count": 25,
   "metadata": {
    "ExecuteTime": {
     "end_time": "2019-06-27T10:08:06.952754Z",
     "start_time": "2019-06-27T10:08:06.504396Z"
    },
    "scrolled": true
   },
   "outputs": [],
   "source": [
    "model.save_parameters(\"data/bert.model.params\")"
   ]
  },
  {
   "cell_type": "code",
   "execution_count": null,
   "metadata": {},
   "outputs": [],
   "source": []
  },
  {
   "cell_type": "code",
   "execution_count": 30,
   "metadata": {
    "ExecuteTime": {
     "end_time": "2019-06-27T10:10:05.835266Z",
     "start_time": "2019-06-27T10:10:05.782163Z"
    }
   },
   "outputs": [],
   "source": [
    "# stats epoch 0\n",
    "stats = [(0.463, 0.7123), (0.472, 0.7044), (0.492, 0.6946), (0.491, 0.7027), (0.485, 0.7174), (0.486, 0.7049), (0.489, 0.6898), (0.498, 0.6801), (0.507, 0.6777), (0.510, 0.6774), (0.512, 0.6804), (0.515, 0.6767), (0.521, 0.6557), (0.525, 0.6541), (0.529, 0.6627), (0.533, 0.6571), (0.538, 0.6374), (0.540, 0.6530), (0.542, 0.6601), (0.545, 0.6472), (0.548, 0.6380), (0.551, 0.6240), (0.554, 0.5918), (0.556, 0.6199), (0.557, 0.6604), (0.559, 0.6456), (0.561, 0.6307), (0.564, 0.5906), (0.566, 0.5811), (0.570, 0.5783), (0.570, 0.6558), (0.572, 0.6158), (0.575, 0.6104), (0.576, 0.6459), (0.578, 0.6042), (0.580, 0.6000), (0.580, 0.6210), (0.581, 0.5967), (0.584, 0.5439), (0.586, 0.5840), (0.588, 0.5868), (0.589, 0.5722), (0.592, 0.5480), (0.593, 0.5927), (0.595, 0.5637), (0.597, 0.5776), (0.598, 0.5984), (0.600, 0.5582), (0.601, 0.6020), (0.602, 0.5802), (0.603, 0.6227), (0.604, 0.5647), (0.606, 0.5723), (0.607, 0.5867), (0.608, 0.6026), (0.610, 0.5912), (0.611, 0.5460), (0.612, 0.5881), (0.614, 0.5492), (0.615, 0.5646), (0.616, 0.5599), (0.618, 0.5465), (0.619, 0.5451), (0.620, 0.5630), (0.622, 0.5262), (0.623, 0.5364), (0.624, 0.5776), (0.625, 0.5395), (0.625, 0.5752), (0.627, 0.5260), (0.628, 0.5089), (0.630, 0.4781), (0.632, 0.5075), (0.632, 0.5947), (0.634, 0.4587), (0.635, 0.4911), (0.637, 0.4553), (0.638, 0.4978), (0.639, 0.5615), (0.640, 0.5320), (0.641, 0.5166), (0.641, 0.5333), (0.642, 0.5349), (0.644, 0.4600), (0.646, 0.4905), (0.647, 0.4696), (0.649, 0.4941), (0.649, 0.5356), (0.650, 0.5460), (0.651, 0.4847), (0.651, 0.5764), (0.652, 0.4925), (0.653, 0.4920), (0.654, 0.5040), (0.655, 0.4575), (0.656, 0.4878), (0.657, 0.4863), (0.658, 0.4382), (0.659, 0.5263), (0.660, 0.4658), (0.660, 0.5230), (0.661, 0.4819), (0.662, 0.4789), (0.663, 0.4649), (0.663, 0.5330), (0.664, 0.5286), (0.665, 0.3950), (0.666, 0.4627), (0.666, 0.5199), (0.667, 0.4338), (0.668, 0.4790), (0.669, 0.3865), (0.670, 0.4556), (0.670, 0.4920), (0.671, 0.4475), (0.672, 0.4176), (0.673, 0.4944), (0.673, 0.4776), (0.673, 0.5621), (0.673, 0.4697), (0.675, 0.3726), (0.675, 0.4617), (0.676, 0.5107), (0.676, 0.4507), (0.677, 0.4423), (0.677, 0.4501), (0.678, 0.4360), (0.679, 0.4173), (0.680, 0.4354), (0.680, 0.4053), (0.681, 0.4539), (0.682, 0.4677), (0.682, 0.4357), (0.682, 0.5352), (0.683, 0.4342), (0.684, 0.3658), (0.684, 0.5012), (0.684, 0.4274), (0.685, 0.3888), (0.686, 0.4580)]\n",
    "stats1 = [(0.762, 0.4022), (0.784, 0.3754), (0.757, 0.4910), (0.752, 0.4802), (0.745, 0.5064), (0.749, 0.4351), (0.761, 0.3358), (0.764, 0.4418), (0.770, 0.3495), (0.772, 0.3822), (0.777, 0.3288), (0.779, 0.3499), (0.777, 0.4608), (0.776, 0.4025), (0.773, 0.4587), (0.773, 0.3971), (0.771, 0.4782), (0.767, 0.5041), (0.768, 0.4014), (0.770, 0.3562), (0.771, 0.4098), (0.770, 0.4362), (0.771, 0.3615), (0.772, 0.3492), (0.773, 0.3819), (0.774, 0.3715), (0.772, 0.4625), (0.772, 0.3953), (0.772, 0.3972), (0.774, 0.3222), (0.772, 0.4583), (0.772, 0.4265), (0.772, 0.4151), (0.775, 0.2895), (0.773, 0.4737), (0.771, 0.4858), (0.771, 0.4258), (0.771, 0.3748), (0.771, 0.3944), (0.770, 0.4685), (0.770, 0.4081), (0.769, 0.4215), (0.769, 0.3755), (0.770, 0.3139), (0.772, 0.3441), (0.772, 0.4142), (0.772, 0.4515), (0.771, 0.3986), (0.771, 0.3995), (0.772, 0.3128), (0.773, 0.3351), (0.773, 0.3750), (0.773, 0.4671), (0.772, 0.4311), (0.771, 0.4054), (0.771, 0.3879), (0.772, 0.3446), (0.772, 0.3895), (0.773, 0.2833), (0.774, 0.3271), (0.774, 0.3914), (0.775, 0.3145), (0.776, 0.3383), (0.776, 0.3849), (0.776, 0.3866), (0.777, 0.2966), (0.776, 0.3446), (0.777, 0.3054), (0.778, 0.3164), (0.778, 0.3753), (0.778, 0.3885), (0.778, 0.3327), (0.778, 0.3364), (0.779, 0.2948), (0.779, 0.3672), (0.778, 0.3656), (0.778, 0.3924), (0.778, 0.3592), (0.778, 0.3584), (0.777, 0.4452), (0.778, 0.2480), (0.779, 0.2843), (0.778, 0.3921), (0.778, 0.3477), (0.778, 0.3009), (0.779, 0.3591), (0.779, 0.3435), (0.779, 0.3548), (0.779, 0.3534), (0.779, 0.3555), (0.778, 0.4349), (0.778, 0.3850), (0.778, 0.3005), (0.779, 0.3127), (0.779, 0.2829), (0.781, 0.1936), (0.781, 0.3559), (0.781, 0.3700), (0.782, 0.2512), (0.782, 0.3481), (0.782, 0.4027), (0.783, 0.2924), (0.783, 0.3477), (0.783, 0.3057), (0.785, 0.2244), (0.786, 0.2277), (0.786, 0.3636), (0.786, 0.2908), (0.787, 0.3115), (0.787, 0.2987), (0.788, 0.2362), (0.787, 0.3892), (0.788, 0.3240), (0.789, 0.2397), (0.789, 0.3245), (0.789, 0.2749), (0.789, 0.3293), (0.790, 0.3606), (0.790, 0.3428), (0.790, 0.2628), (0.790, 0.2960), (0.791, 0.3174), (0.791, 0.3123), (0.791, 0.2579), (0.791, 0.3368), (0.792, 0.2781), (0.791, 0.3672), (0.791, 0.3612), (0.791, 0.3621), (0.791, 0.3119), (0.791, 0.3438), (0.791, 0.2874), (0.792, 0.3129), (0.792, 0.2876), (0.792, 0.3525), (0.792, 0.3677), (0.792, 0.3154), (0.792, 0.2791), (0.793, 0.3408), (0.793, 0.2209)]\n",
    "stats2 = [(0.784, 0.4021), (0.808, 0.2928), (0.819, 0.2680), (0.805, 0.3782), (0.813, 0.2370), (0.808, 0.3956), (0.817, 0.2744), (0.821, 0.2447), (0.816, 0.4031), (0.813, 0.3375), (0.813, 0.3493), (0.814, 0.2917), (0.816, 0.2842), (0.817, 0.3099), (0.814, 0.3550), (0.815, 0.3104), (0.818, 0.2659), (0.819, 0.3006), (0.822, 0.2382), (0.821, 0.3389), (0.823, 0.2935), (0.826, 0.2225), (0.824, 0.3450), (0.823, 0.3455), (0.823, 0.3110), (0.821, 0.3629), (0.823, 0.2309), (0.824, 0.2557), (0.826, 0.2459), (0.826, 0.2998), (0.826, 0.3181), (0.825, 0.3317), (0.825, 0.2639), (0.826, 0.2462), (0.825, 0.3095), (0.825, 0.3129), (0.827, 0.1889), (0.827, 0.2447), (0.828, 0.2963), (0.828, 0.2754), (0.828, 0.2996), (0.827, 0.3191), (0.827, 0.2630), (0.828, 0.2772), (0.828, 0.2549), (0.828, 0.2956), (0.829, 0.1692), (0.829, 0.3063), (0.829, 0.2829), (0.829, 0.2868), (0.829, 0.3313), (0.828, 0.3181), (0.829, 0.1545), (0.830, 0.2538), (0.831, 0.2703), (0.830, 0.3438), (0.830, 0.2023), (0.831, 0.2892), (0.831, 0.2871), (0.830, 0.3245), (0.830, 0.2961), (0.830, 0.2729), (0.830, 0.3000), (0.830, 0.2875), (0.830, 0.2239), (0.830, 0.2513), (0.830, 0.2744), (0.831, 0.1982), (0.832, 0.3053), (0.832, 0.2393), (0.832, 0.2492), (0.832, 0.3203), (0.833, 0.2268), (0.833, 0.2522), (0.833, 0.2234), (0.834, 0.2575), (0.833, 0.3414), (0.834, 0.2789), (0.834, 0.2647), (0.833, 0.3643), (0.834, 0.2385), (0.833, 0.3488), (0.834, 0.2366), (0.832, 0.4040), (0.832, 0.2774), (0.833, 0.2627), (0.832, 0.4101), (0.832, 0.2817), (0.831, 0.3215), (0.831, 0.2931), (0.831, 0.2940), (0.831, 0.2718), (0.832, 0.2800), (0.832, 0.1830), (0.831, 0.3987), (0.832, 0.2587), (0.832, 0.2232), (0.832, 0.2434), (0.832, 0.3609), (0.832, 0.2691), (0.832, 0.3043), (0.832, 0.2163), (0.833, 0.2471), (0.833, 0.1837), (0.833, 0.2906), (0.833, 0.3173), (0.833, 0.2041), (0.833, 0.2797), (0.833, 0.3028), (0.833, 0.3056), (0.833, 0.2621), (0.834, 0.1788), (0.834, 0.2522), (0.834, 0.2986), (0.834, 0.2757), (0.834, 0.3359), (0.834, 0.2305), (0.834, 0.2881), (0.833, 0.3825), (0.833, 0.2566), (0.834, 0.2298), (0.834, 0.2410), (0.834, 0.2020), (0.834, 0.3683), (0.833, 0.3932), (0.833, 0.2345), (0.833, 0.2657), (0.834, 0.1845), (0.834, 0.2546), (0.834, 0.2679), (0.834, 0.2808), (0.834, 0.3604), (0.834, 0.2851), (0.833, 0.3526), (0.834, 0.3193), (0.833, 0.3584), (0.833, 0.2667), (0.833, 0.2769), (0.833, 0.3096), (0.833, 0.2349)]"
   ]
  },
  {
   "cell_type": "code",
   "execution_count": 41,
   "metadata": {
    "ExecuteTime": {
     "end_time": "2019-06-27T10:12:00.325458Z",
     "start_time": "2019-06-27T10:11:59.871437Z"
    }
   },
   "outputs": [
    {
     "data": {
      "image/png": "[encoded data removed]",
      "text/plain": [
       "<Figure size 432x288 with 2 Axes>"
      ]
     },
     "metadata": {
      "needs_background": "light"
     },
     "output_type": "display_data"
    },
    {
     "data": {
      "image/png": "[encoded data removed]",
      "text/plain": [
       "<Figure size 432x288 with 2 Axes>"
      ]
     },
     "metadata": {
      "needs_background": "light"
     },
     "output_type": "display_data"
    },
    {
     "data": {
      "image/png": "[encoded data removed]",
      "text/plain": [
       "<Figure size 432x288 with 2 Axes>"
      ]
     },
     "metadata": {
      "needs_background": "light"
     },
     "output_type": "display_data"
    }
   ],
   "source": [
    "plot_train_stats(stats)\n",
    "plot_train_stats(stats1)\n",
    "plot_train_stats(stats2)"
   ]
  },
  {
   "cell_type": "code",
   "execution_count": null,
   "metadata": {
    "ExecuteTime": {
     "end_time": "2019-06-27T09:04:48.284677Z",
     "start_time": "2019-06-27T08:47:28.862Z"
    }
   },
   "outputs": [],
   "source": [
    "model.load_parameters(\"data/bert.model.params\", ctx=ctx)"
   ]
  },
  {
   "cell_type": "code",
   "execution_count": 42,
   "metadata": {
    "ExecuteTime": {
     "end_time": "2019-06-27T10:12:52.029132Z",
     "start_time": "2019-06-27T10:12:50.994013Z"
    },
    "scrolled": true
   },
   "outputs": [],
   "source": [
    "data_dev_raw, data_dev = transform_dataset(X_dev, y_dev, transform)"
   ]
  },
  {
   "cell_type": "code",
   "execution_count": 43,
   "metadata": {
    "ExecuteTime": {
     "end_time": "2019-06-27T10:12:53.573512Z",
     "start_time": "2019-06-27T10:12:53.555331Z"
    },
    "collapsed": true
   },
   "outputs": [
    {
     "name": "stdout",
     "output_type": "stream",
     "text": [
      "abortion opens the door to the sexual exploitation of women the existence of abortion gives men a little more of a safeguard against unintentionally impregnating a woman. as a result, men will be more aggressive in their sexual exploitation of women.\n",
      "the fact that a child is likely to have a short life does not justify further shortening it:\n",
      "0\n",
      "vocabulary used for tokenization = \n",
      "Vocab(size=30522, unk=\"[UNK]\", reserved=\"['[PAD]', '[CLS]', '[SEP]', '[MASK]']\")\n",
      "[PAD] token id = 1\n",
      "[CLS] token id = 2\n",
      "[SEP] token id = 3\n",
      "token ids = \n",
      "[    2 11324  7480  1996  2341  2000  1996  4424 14427  1997  2308  1996\n",
      "  4598  1997 11324  3957  2273  1037  2210  2062  1997  1037 28805  2114\n",
      "  4895 18447  4765 19301  2135 17727  2890 16989  3436  1037  2450  1012\n",
      "  2004  1037  2765  1010  2273  2097  2022  2062  9376  1999  2037  4424\n",
      " 14427  1997  2308  1012     3  1996  2755  2008  1037  2775  2003  3497\n",
      "  2000  2031  1037  2460  2166  2515  2025 16114  2582  2460  7406  2009\n",
      "  1024     3     1     1     1     1     1     1     1     1     1     1\n",
      "     1     1     1     1     1     1     1     1     1     1     1     1\n",
      "     1     1     1     1     1     1     1     1     1     1     1     1\n",
      "     1     1     1     1     1     1     1     1     1     1     1     1\n",
      "     1     1     1     1     1     1     1     1]\n",
      "valid length = \n",
      "74\n",
      "segment ids = \n",
      "[0 0 0 0 0 0 0 0 0 0 0 0 0 0 0 0 0 0 0 0 0 0 0 0 0 0 0 0 0 0 0 0 0 0 0 0 0\n",
      " 0 0 0 0 0 0 0 0 0 0 0 0 0 0 0 0 1 1 1 1 1 1 1 1 1 1 1 1 1 1 1 1 1 1 1 1 1\n",
      " 0 0 0 0 0 0 0 0 0 0 0 0 0 0 0 0 0 0 0 0 0 0 0 0 0 0 0 0 0 0 0 0 0 0 0 0 0\n",
      " 0 0 0 0 0 0 0 0 0 0 0 0 0 0 0 0 0]\n",
      "label = \n",
      "[0]\n"
     ]
    }
   ],
   "source": [
    "print_infos(vocabulary, data_dev_raw, data_dev)"
   ]
  },
  {
   "cell_type": "code",
   "execution_count": 44,
   "metadata": {
    "ExecuteTime": {
     "end_time": "2019-06-27T10:15:58.441826Z",
     "start_time": "2019-06-27T10:12:59.264225Z"
    },
    "scrolled": true
   },
   "outputs": [
    {
     "name": "stderr",
     "output_type": "stream",
     "text": [
      "100%|██████████| 600/600 [02:59<00:00,  3.35it/s]"
     ]
    },
    {
     "name": "stdout",
     "output_type": "stream",
     "text": [
      "Time for [prediction]: 0:02:59.172701\n"
     ]
    },
    {
     "name": "stderr",
     "output_type": "stream",
     "text": [
      "\n"
     ]
    }
   ],
   "source": [
    "all_predictions, cum_loss = predict(model, data_dev, ctx, metric, loss_function)"
   ]
  },
  {
   "cell_type": "code",
   "execution_count": 45,
   "metadata": {
    "ExecuteTime": {
     "end_time": "2019-06-27T10:16:05.632648Z",
     "start_time": "2019-06-27T10:16:05.629655Z"
    },
    "scrolled": true
   },
   "outputs": [
    {
     "data": {
      "text/plain": [
       "('accuracy', 0.8265609514370664)"
      ]
     },
     "execution_count": 45,
     "metadata": {},
     "output_type": "execute_result"
    }
   ],
   "source": [
    "metric.get()"
   ]
  },
  {
   "cell_type": "code",
   "execution_count": 47,
   "metadata": {
    "ExecuteTime": {
     "end_time": "2019-06-27T10:16:29.870850Z",
     "start_time": "2019-06-27T10:16:29.680066Z"
    },
    "scrolled": true
   },
   "outputs": [],
   "source": [
    "# all_labels = [\"0\", \"1\"]\n",
    "y_true, y_pred = predict_out_to_ys(all_predictions, all_labels)"
   ]
  },
  {
   "cell_type": "code",
   "execution_count": 48,
   "metadata": {
    "ExecuteTime": {
     "end_time": "2019-06-27T10:16:37.045674Z",
     "start_time": "2019-06-27T10:16:37.042627Z"
    }
   },
   "outputs": [
    {
     "data": {
      "text/plain": [
       "array([0, 1], dtype=int32)"
      ]
     },
     "execution_count": 48,
     "metadata": {},
     "output_type": "execute_result"
    }
   ],
   "source": [
    "np.unique(y_true)"
   ]
  },
  {
   "cell_type": "code",
   "execution_count": 49,
   "metadata": {
    "ExecuteTime": {
     "end_time": "2019-06-27T10:16:44.332610Z",
     "start_time": "2019-06-27T10:16:44.259838Z"
    },
    "scrolled": true
   },
   "outputs": [
    {
     "name": "stdout",
     "output_type": "stream",
     "text": [
      "Confusion Matrix:\n",
      "[[8598  235]\n",
      " [3090 7248]]\n",
      "\n",
      "Accuracy:  0.83 \n",
      "\n",
      "Report for [BERTClassifier]:\n",
      "              precision    recall  f1-score   support\n",
      "\n",
      "           0       0.74      0.97      0.84      8833\n",
      "           1       0.97      0.70      0.81     10338\n",
      "\n",
      "    accuracy                           0.83     19171\n",
      "   macro avg       0.85      0.84      0.83     19171\n",
      "weighted avg       0.86      0.83      0.82     19171\n",
      "\n"
     ]
    },
    {
     "data": {
      "text/plain": [
       "{'macro': 0.83, 'micro': 0.83}"
      ]
     },
     "execution_count": 49,
     "metadata": {},
     "output_type": "execute_result"
    }
   ],
   "source": [
    "report_training_results(y_true, y_pred, name=\"BERTClassifier\", heatmap=False)"
   ]
  },
  {
   "cell_type": "code",
   "execution_count": null,
   "metadata": {
    "scrolled": true
   },
   "outputs": [],
   "source": []
  },
  {
   "cell_type": "markdown",
   "metadata": {},
   "source": [
    "### Evaluate"
   ]
  },
  {
   "cell_type": "code",
   "execution_count": 19,
   "metadata": {
    "ExecuteTime": {
     "end_time": "2019-06-27T09:07:35.915023Z",
     "start_time": "2019-06-27T09:07:35.900674Z"
    },
    "code_folding": [
     0,
     22,
     33,
     44,
     56
    ],
    "init_cell": true,
    "run_control": {
     "marked": false
    },
    "scrolled": true
   },
   "outputs": [],
   "source": [
    "def heatconmat(y_test, y_pred):\n",
    "    sns.set_context('talk')\n",
    "    plt.figure(figsize=(9, 6))\n",
    "    sns.heatmap(confusion_matrix(y_test, y_pred),\n",
    "                annot=True,\n",
    "                fmt='d',\n",
    "                cbar=False,\n",
    "                cmap='gist_earth_r',\n",
    "                yticklabels=sorted(y_test.unique()))\n",
    "    plt.show()\n",
    "\n",
    "\n",
    "def report_training_results(y_test, y_pred, name=None, heatmap=True):\n",
    "    print('Confusion Matrix:')\n",
    "    print(confusion_matrix(y_test, y_pred))\n",
    "    if heatmap:\n",
    "        heatconmat(y_test['is_same_side'], y_pred)\n",
    "    print()\n",
    "    print('Accuracy: ', round(accuracy_score(y_test, y_pred), 2), '\\n')  #\n",
    "\n",
    "    print('Report{}:'.format(\"\" if not name else \" for [{}]\".format(name)))\n",
    "    print(classification_report(y_test, y_pred))\n",
    "\n",
    "    f1_dic = {}\n",
    "    f1_dic['macro'] = round(\n",
    "        f1_score(y_pred=y_pred, y_true=y_test, average='macro'), 2)\n",
    "    f1_dic['micro'] = round(\n",
    "        f1_score(y_pred=y_pred, y_true=y_test, average='micro'), 2)\n",
    "    return f1_dic"
   ]
  },
  {
   "cell_type": "markdown",
   "metadata": {},
   "source": [
    "### Cross topic - Training and evaluating model "
   ]
  },
  {
   "cell_type": "code",
   "execution_count": null,
   "metadata": {
    "ExecuteTime": {
     "end_time": "2019-06-27T07:02:23.587219Z",
     "start_time": "2019-06-27T07:02:23.552877Z"
    },
    "scrolled": true
   },
   "outputs": [],
   "source": [
    "# 1. Getting train and dev data\n",
    "with Timer(\"1 - test/train split\"):\n",
    "    X_train, X_dev, y_train, y_dev = get_train_test_sets(within_traindev_df)"
   ]
  },
  {
   "cell_type": "code",
   "execution_count": null,
   "metadata": {
    "ExecuteTime": {
     "start_time": "2019-06-26T13:19:32.913Z"
    },
    "scrolled": true
   },
   "outputs": [],
   "source": [
    "# 2. setup\n",
    "with Timer(\"2 - setup BERT model\"):\n",
    "    model, vocabulary, ctx, transform, loss_function, metric, all_labels = setup_bert()"
   ]
  },
  {
   "cell_type": "code",
   "execution_count": null,
   "metadata": {},
   "outputs": [],
   "source": [
    "with Timer(\"3 - prepare training data\"):\n",
    "    data_train_raw, data_train = transform_dataset(X_train, y_train, transform)\n",
    "    print_infos(vocabulary, data_train_raw, data_train)"
   ]
  },
  {
   "cell_type": "code",
   "execution_count": null,
   "metadata": {},
   "outputs": [],
   "source": [
    "with Timer(\"4 - train model\"):\n",
    "    # train(model, data_train, ctx, metric, loss_function, batch_size=32, lr=5e-6, num_epochs=3)\n",
    "    stats = train(model, data_train, ctx, metric, loss_function, batch_size=32, lr=5e-6, num_epochs=3)\n",
    "    model.save_parameters(\"data/bert.model.params\")\n",
    "    \n",
    "    plot_train_stats(stats)    "
   ]
  },
  {
   "cell_type": "code",
   "execution_count": null,
   "metadata": {},
   "outputs": [],
   "source": [
    "with Timer(\"5 - prepare eval data\"):\n",
    "    data_dev_raw, data_dev = transform_dataset(X_dev, y_dev, transform)\n",
    "    print_infos(vocabulary, data_dev_raw, data_dev)"
   ]
  },
  {
   "cell_type": "code",
   "execution_count": null,
   "metadata": {},
   "outputs": [],
   "source": [
    "with Timer(\"6 - evaluate\"):\n",
    "    all_predictions, cum_loss = predict(model, data_dev, ctx, metric, loss_function)\n",
    "    print(\"Accuracy:\", metric.get()[1])\n",
    "    \n",
    "    y_true, y_pred = predict_out_to_ys(all_predictions, all_labels)\n",
    "    report_training_results(y_true, y_pred, name=\"BERTClassifier\", heatmap=False)"
   ]
  },
  {
   "cell_type": "code",
   "execution_count": null,
   "metadata": {},
   "outputs": [],
   "source": []
  }
 ],
 "metadata": {
  "celltoolbar": "Initialization Cell",
  "kernelspec": {
   "display_name": "Python 3",
   "language": "python",
   "name": "python3"
  },
  "language_info": {
   "codemirror_mode": {
    "name": "ipython",
    "version": 3
   },
   "file_extension": ".py",
   "mimetype": "text/x-python",
   "name": "python",
   "nbconvert_exporter": "python",
   "pygments_lexer": "ipython3",
   "version": "3.7.3"
  },
  "varInspector": {
   "cols": {
    "lenName": 16,
    "lenType": 16,
    "lenVar": 40
   },
   "kernels_config": {
    "python": {
     "delete_cmd_postfix": "",
     "delete_cmd_prefix": "del ",
     "library": "var_list.py",
     "varRefreshCmd": "print(var_dic_list())"
    },
    "r": {
     "delete_cmd_postfix": ") ",
     "delete_cmd_prefix": "rm(",
     "library": "var_list.r",
     "varRefreshCmd": "cat(var_dic_list()) "
    }
   },
   "types_to_exclude": [
    "module",
    "function",
    "builtin_function_or_method",
    "instance",
    "_Feature"
   ],
   "window_display": false
  }
 },
 "nbformat": 4,
 "nbformat_minor": 2
}
