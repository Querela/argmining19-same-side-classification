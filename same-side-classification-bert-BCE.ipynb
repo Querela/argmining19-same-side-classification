{
 "cells": [
  {
   "cell_type": "markdown",
   "metadata": {},
   "source": [
    "# RATIO 2019 - Benchmarking Workshop"
   ]
  },
  {
   "cell_type": "markdown",
   "metadata": {},
   "source": [
    "https://gluon-nlp.mxnet.io/install.html\n",
    "\n",
    "```\n",
    "pip install --upgrade 'mxnet>=1.3.0'\n",
    "pip install gluonnlp\n",
    "wget https://gluon-nlp.mxnet.io/_downloads/sentence_embedding.zip\n",
    "unzip sentence_embedding.zip\n",
    "ln -s sentence_embedding/bert bert\n",
    "```"
   ]
  },
  {
   "cell_type": "code",
   "execution_count": 1,
   "metadata": {
    "ExecuteTime": {
     "end_time": "2019-07-01T12:26:00.475504Z",
     "start_time": "2019-07-01T12:25:59.496189Z"
    },
    "init_cell": true,
    "scrolled": true
   },
   "outputs": [],
   "source": [
    "import datetime\n",
    "import logging\n",
    "import os\n",
    "import random\n",
    "import time\n",
    "import warnings\n",
    "\n",
    "import csv\n",
    "import gluonnlp as nlp\n",
    "import matplotlib.pyplot as plt\n",
    "import mxnet as mx\n",
    "import numpy as np\n",
    "import pandas as pd\n",
    "import seaborn as sns\n",
    "\n",
    "from bert import *\n",
    "from mxnet import gluon\n",
    "from mxnet.gluon.data import SimpleDataset\n",
    "from sklearn.metrics import (accuracy_score, classification_report,\n",
    "                             confusion_matrix, f1_score)\n",
    "from sklearn.model_selection import train_test_split\n",
    "from sklearn import utils\n",
    "from tqdm import tqdm"
   ]
  },
  {
   "cell_type": "code",
   "execution_count": 2,
   "metadata": {
    "ExecuteTime": {
     "end_time": "2019-07-01T12:26:00.479341Z",
     "start_time": "2019-07-01T12:26:00.477069Z"
    },
    "init_cell": true,
    "scrolled": true
   },
   "outputs": [],
   "source": [
    "warnings.filterwarnings('ignore')\n",
    "\n",
    "logging.basicConfig(format='%(asctime)s : %(levelname)s : %(message)s',\n",
    "                    level=logging.INFO)"
   ]
  },
  {
   "cell_type": "code",
   "execution_count": 3,
   "metadata": {
    "ExecuteTime": {
     "end_time": "2019-07-01T12:26:00.491299Z",
     "start_time": "2019-07-01T12:26:00.480792Z"
    },
    "init_cell": true
   },
   "outputs": [],
   "source": [
    "# set repeatable random state\n",
    "np.random.seed(100)\n",
    "random.seed(100)\n",
    "mx.random.seed(10000)"
   ]
  },
  {
   "cell_type": "code",
   "execution_count": 4,
   "metadata": {
    "ExecuteTime": {
     "end_time": "2019-07-01T12:26:00.501568Z",
     "start_time": "2019-07-01T12:26:00.494252Z"
    },
    "init_cell": true,
    "scrolled": true
   },
   "outputs": [],
   "source": [
    "# apply progress bars for pandas .apply() -> .progress_apply()\n",
    "tqdm.pandas()"
   ]
  },
  {
   "cell_type": "code",
   "execution_count": 5,
   "metadata": {
    "ExecuteTime": {
     "end_time": "2019-07-01T12:26:00.513364Z",
     "start_time": "2019-07-01T12:26:00.504273Z"
    },
    "code_folding": [
     0,
     4
    ],
    "init_cell": true,
    "scrolled": true
   },
   "outputs": [],
   "source": [
    "class Timer:\n",
    "    def __init__(self, name=None):\n",
    "        self.name = name\n",
    "\n",
    "    def __enter__(self):\n",
    "        self.time_start = time.time()\n",
    "\n",
    "    def __exit__(self, *exc):\n",
    "        time_end = time.time()\n",
    "        time_delta = datetime.timedelta(seconds=(time_end - self.time_start))\n",
    "        if self.name:\n",
    "            print((\"Time for [{}]: {}\".format(self.name, time_delta)))\n",
    "        else:\n",
    "            print((\"Time: {}\".format(time_delta)))"
   ]
  },
  {
   "cell_type": "markdown",
   "metadata": {},
   "source": [
    "# Task 1 - Same Side Classification"
   ]
  },
  {
   "cell_type": "code",
   "execution_count": 6,
   "metadata": {
    "ExecuteTime": {
     "end_time": "2019-07-01T12:26:00.524452Z",
     "start_time": "2019-07-01T12:26:00.515356Z"
    },
    "init_cell": true,
    "scrolled": true
   },
   "outputs": [],
   "source": [
    "data_cross_path = 'data/same-side-classification/cross-topic/{}.csv'\n",
    "data_within_path = 'data/same-side-classification/within-topic/{}.csv'"
   ]
  },
  {
   "cell_type": "code",
   "execution_count": null,
   "metadata": {},
   "outputs": [],
   "source": [
    "%%bash\n",
    "head -n 5 data/same-side-classification/cross-topic/training.csv"
   ]
  },
  {
   "cell_type": "markdown",
   "metadata": {},
   "source": [
    "### Load within-topics and cross-topics data"
   ]
  },
  {
   "cell_type": "code",
   "execution_count": 7,
   "metadata": {
    "ExecuteTime": {
     "end_time": "2019-07-01T12:26:02.744808Z",
     "start_time": "2019-07-01T12:26:00.527069Z"
    },
    "code_folding": [
     11,
     18,
     36
    ],
    "hide_input": false,
    "init_cell": true
   },
   "outputs": [
    {
     "name": "stdout",
     "output_type": "stream",
     "text": [
      "Time for [read cross]: 0:00:01.064160\n",
      "Time for [read within]: 0:00:01.141815\n"
     ]
    }
   ],
   "source": [
    "# escapechar to detect quoting escapes, else it fails\n",
    "\n",
    "# na_filter=False, because pandas automatic \"nan\" detection fails with the topic column, too\n",
    "# cross_test_df['topic'].astype(str)[9270]\n",
    "\n",
    "# within has \"is_same_side\" as string (boolean after latest update)\n",
    "# cross has \"is_same_side\" as boolean (auto cast?)\n",
    "\n",
    "with Timer(\"read cross\"):\n",
    "    # cross_traindev_df = pd.read_csv(data_cross_path.format('training'), index_col='id', escapechar='\\\\', na_filter=False)\n",
    "    # cross_test_df = pd.read_csv(data_cross_path.format('test'), index_col='id', escapechar='\\\\', na_filter=False)\n",
    "    cross_traindev_df = pd.read_csv(data_cross_path.format('training'),\n",
    "                                    quotechar='\"',\n",
    "                                    quoting=csv.QUOTE_ALL,\n",
    "                                    encoding='utf-8',\n",
    "                                    escapechar='\\\\',\n",
    "                                    doublequote=False,\n",
    "                                    index_col='id')\n",
    "    cross_test_df = pd.read_csv(data_cross_path.format('test'),\n",
    "                                quotechar='\"',\n",
    "                                quoting=csv.QUOTE_ALL,\n",
    "                                encoding='utf-8',\n",
    "                                escapechar='\\\\',\n",
    "                                doublequote=False,\n",
    "                                index_col='id')\n",
    "\n",
    "with Timer(\"read within\"):\n",
    "    # within_traindev_df = pd.read_csv(data_within_path.format('training'), index_col='id', escapechar='\\\\', na_filter=False)\n",
    "    # within_test_df = pd.read_csv(data_within_path.format('test'), index_col='id', escapechar='\\\\', na_filter=False)\n",
    "    within_traindev_df = pd.read_csv(data_within_path.format('training'),\n",
    "                                     quotechar='\"',\n",
    "                                     quoting=csv.QUOTE_ALL,\n",
    "                                     encoding='utf-8',\n",
    "                                     escapechar='\\\\',\n",
    "                                     doublequote=False,\n",
    "                                     index_col='id')\n",
    "    within_test_df = pd.read_csv(data_within_path.format('test'),\n",
    "                                 quotechar='\"',\n",
    "                                 quoting=csv.QUOTE_ALL,\n",
    "                                 encoding='utf-8',\n",
    "                                 escapechar='\\\\',\n",
    "                                 doublequote=False,\n",
    "                                 index_col='id')"
   ]
  },
  {
   "cell_type": "markdown",
   "metadata": {},
   "source": [
    "#### [WIP][TODO] (temp) fix for invalid types"
   ]
  },
  {
   "cell_type": "code",
   "execution_count": null,
   "metadata": {},
   "outputs": [],
   "source": [
    "np.unique(within_traindev_df[['is_same_side']], return_counts=True)"
   ]
  },
  {
   "cell_type": "code",
   "execution_count": null,
   "metadata": {},
   "outputs": [],
   "source": [
    "# within_traindev_df = within_traindev_df[within_traindev_df[['is_same_side']]['is_same_side'] != 'gay marriage']"
   ]
  },
  {
   "cell_type": "code",
   "execution_count": null,
   "metadata": {},
   "outputs": [],
   "source": [
    "# np.unique(within_traindev_df[['is_same_side']], return_counts=True)\n",
    "# within_traindev_df.infer_objects().info()\n",
    "# won't work: within_traindev_df['is_same_side'].astype(bool)"
   ]
  },
  {
   "cell_type": "code",
   "execution_count": null,
   "metadata": {},
   "outputs": [],
   "source": [
    "# trim data for testing\n",
    "within_traindev_df = within_traindev_df[:1000]\n",
    "cross_traindev_df = cross_traindev_df[:1000]"
   ]
  },
  {
   "cell_type": "code",
   "execution_count": 8,
   "metadata": {
    "ExecuteTime": {
     "end_time": "2019-07-01T12:27:15.944767Z",
     "start_time": "2019-07-01T12:26:02.746669Z"
    },
    "code_folding": [
     1
    ],
    "init_cell": true,
    "scrolled": true
   },
   "outputs": [
    {
     "name": "stdout",
     "output_type": "stream",
     "text": [
      "Time for [tag cross traindev]: 0:00:35.821731\n",
      "Time for [tag within traindev]: 0:00:37.371724\n"
     ]
    }
   ],
   "source": [
    "# Adding a tag for the topics in focus: \"gay marriage\" and \"abortion\"\n",
    "def add_tag(row):\n",
    "    title = row['topic'].lower().strip()\n",
    "    if \"abortion\" in title:\n",
    "        row['tag'] = 'abortion'\n",
    "    elif \"gay marriage\"  in title:\n",
    "        row['tag'] = 'gay marriage'\n",
    "    else:\n",
    "        row['tag'] = 'NA'\n",
    "    return row\n",
    "\n",
    "\n",
    "with Timer(\"tag cross traindev\"):\n",
    "    cross_traindev_df = cross_traindev_df.apply(add_tag, axis=1)\n",
    "# with Timer(\"tag cross test\"):\n",
    "#     cross_test_df = cross_test_df.apply(add_tag, axis=1)\n",
    "\n",
    "with Timer(\"tag within traindev\"):\n",
    "    within_traindev_df = within_traindev_df.apply(add_tag, axis=1)\n",
    "# with Timer(\"tag within test\"):\n",
    "#     within_test_df = within_test_df.apply(add_tag, axis=1)"
   ]
  },
  {
   "cell_type": "markdown",
   "metadata": {},
   "source": [
    "### Get an overview about each dataset"
   ]
  },
  {
   "cell_type": "code",
   "execution_count": 9,
   "metadata": {
    "ExecuteTime": {
     "end_time": "2019-07-01T12:27:15.954846Z",
     "start_time": "2019-07-01T12:27:15.946855Z"
    },
    "code_folding": [
     4
    ],
    "init_cell": true,
    "scrolled": true
   },
   "outputs": [],
   "source": [
    "# requires nltk  wordtokenize\n",
    "# from nltk.tokenize import sent_tokenize, word_tokenize\n",
    "# model uses BERT Tokenizer ...\n",
    "\n",
    "def get_overview(df, task='same-side', class_name='is_same_side'):\n",
    "    # Total instance numbers\n",
    "    total = len(df)\n",
    "    print(\"Task: \", task)\n",
    "    print('=' * 40, '\\n')\n",
    "\n",
    "    print('Total instances: ', total)\n",
    "    print('\\n')\n",
    "\n",
    "    print('For each topic:')\n",
    "    for tag, tag_df in df.groupby(['tag']):\n",
    "        print(tag, ': ', len(tag_df), ' instances')\n",
    "        if class_name in df.columns:\n",
    "            for is_same_side, side_df in tag_df.groupby([class_name]):\n",
    "                print('\\t\\t', is_same_side, ': ', len(side_df), ' instances')\n",
    "    print('\\n')\n",
    "\n",
    "    if class_name in df.columns:\n",
    "        print('For each class value:')\n",
    "        for class_value, class_df in df.groupby([class_name]):\n",
    "            print(class_value, ': ', len(class_df), ' instances')\n",
    "        print('\\n')\n",
    "\n",
    "    print('Unique argument1:', len(df['argument1'].unique()))\n",
    "    print('Unique argument2:', len(df['argument2'].unique()))\n",
    "    arguments = df['argument1'].values\n",
    "    arguments = np.concatenate([arguments, df['argument2'].values])\n",
    "\n",
    "    print('Unique total arguments:', len(set(list(arguments))), '\\n')\n",
    "\n",
    "    print('-' * 40, '\\n')\n",
    "\n",
    "    arguments_length_lst = [\n",
    "        len(word_tokenize(x)) for x in df['argument1'].values\n",
    "    ]\n",
    "    arguments_length_lst.extend(\n",
    "        [len(word_tokenize(x)) for x in df['argument2'].values])\n",
    "    print('Words:')\n",
    "    print('\\tshortest argument:', min(arguments_length_lst), ' words')\n",
    "    print('\\tlongest argument:', max(arguments_length_lst), ' words')\n",
    "    print('\\targument average length:', np.mean(arguments_length_lst),\n",
    "          ' words')\n",
    "\n",
    "    arguments_sent_length_lst = [\n",
    "        len(sent_tokenize(x)) for x in df['argument1'].values\n",
    "    ]\n",
    "    arguments_sent_length_lst.extend(\n",
    "        [len(sent_tokenize(x)) for x in df['argument2'].values])\n",
    "    print('Sentences:')\n",
    "    print('\\tshortest argument:', min(arguments_sent_length_lst), ' sentences')\n",
    "    print('\\tlongest argument:', max(arguments_sent_length_lst), ' sentences')\n",
    "    print('\\targument average length:', np.mean(arguments_sent_length_lst),\n",
    "          ' sentences')"
   ]
  },
  {
   "cell_type": "code",
   "execution_count": null,
   "metadata": {
    "code_folding": [],
    "scrolled": true
   },
   "outputs": [],
   "source": [
    "# with Timer(\"overview cross\"):\n",
    "#     get_overview(cross_traindev_df)"
   ]
  },
  {
   "cell_type": "code",
   "execution_count": null,
   "metadata": {
    "scrolled": true
   },
   "outputs": [],
   "source": [
    "# with Timer(\"overview within\"):\n",
    "#     get_overview(within_traindev_df)"
   ]
  },
  {
   "cell_type": "markdown",
   "metadata": {},
   "source": [
    "## Train model - Baseline"
   ]
  },
  {
   "cell_type": "markdown",
   "metadata": {},
   "source": [
    "### train dev set - 70% 30%"
   ]
  },
  {
   "cell_type": "code",
   "execution_count": 10,
   "metadata": {
    "ExecuteTime": {
     "end_time": "2019-07-01T12:27:15.966815Z",
     "start_time": "2019-07-01T12:27:15.955960Z"
    },
    "code_folding": [],
    "init_cell": true,
    "scrolled": true
   },
   "outputs": [],
   "source": [
    "def get_train_test_sets(df, ratio=0.30, random_state=1):\n",
    "    X = df[['argument1', 'argument2', 'argument1_id', 'argument2_id', 'topic']]\n",
    "    y = df[['is_same_side']]\n",
    "\n",
    "    X_train, X_test, y_train, y_test = train_test_split(X,\n",
    "                                                        y,\n",
    "                                                        test_size=ratio,\n",
    "                                                        random_state=random_state,\n",
    "                                                        shuffle=True)\n",
    "    return X_train, X_test, y_train, y_test"
   ]
  },
  {
   "cell_type": "markdown",
   "metadata": {},
   "source": [
    "### BERT\n",
    "\n",
    "- https://gluon-nlp.mxnet.io/examples/sentence_embedding/bert.html"
   ]
  },
  {
   "cell_type": "code",
   "execution_count": 11,
   "metadata": {
    "ExecuteTime": {
     "end_time": "2019-07-01T12:27:15.983606Z",
     "start_time": "2019-07-01T12:27:15.967942Z"
    },
    "code_folding": [
     0
    ],
    "init_cell": true,
    "scrolled": true
   },
   "outputs": [],
   "source": [
    "class MyBERTDataset(SimpleDataset):\n",
    "    def __init__(self, X, y=None):\n",
    "        self._X = X\n",
    "        self._y = y\n",
    "        super(MyBERTDataset, self).__init__(self._convert())\n",
    "    \n",
    "    def _convert(self):\n",
    "        allsamples = list()\n",
    "\n",
    "        if self._y is not None:\n",
    "            df = self._X.merge(self._y, left_index=True, right_index=True)\n",
    "            for _, row in df.iterrows():\n",
    "                allsamples.append([row['argument1'], row['argument2'], 1 if str(row['is_same_side']) == \"True\" else 0])\n",
    "        else:\n",
    "            for _, row in self._X.iterrows():\n",
    "                allsamples.append([row['argument1'], row['argument2'], None])\n",
    "        \n",
    "        return allsamples\n",
    "\n",
    "    # for lazy retrieval?\n",
    "    #\n",
    "    # def __getitem__(self, idx):\n",
    "    #     row_X = self._X.iloc[idx]\n",
    "    #     row_y = self._y.iloc[idx]\n",
    "    #     return [row_X['argument1'], row_X['argument2'], \"1\" if row_y['is_same_side'] else \"0\"]\n",
    "    #\n",
    "    # def __len__(self):\n",
    "    #     return len(self._X)"
   ]
  },
  {
   "cell_type": "code",
   "execution_count": null,
   "metadata": {},
   "outputs": [],
   "source": [
    "# df = X_dev.merge(y_dev, left_index=True, right_index=True)\n",
    "# allsamples = list()\n",
    "# for _, row in df.iterrows():\n",
    "#     allsamples.append(\"1\" if row['is_same_side'] == \"True\" else \"0\")\n",
    "# np.unique(allsamples)"
   ]
  },
  {
   "cell_type": "code",
   "execution_count": 12,
   "metadata": {
    "ExecuteTime": {
     "end_time": "2019-07-01T12:27:15.996477Z",
     "start_time": "2019-07-01T12:27:15.985115Z"
    },
    "code_folding": [
     0
    ],
    "init_cell": true,
    "scrolled": true
   },
   "outputs": [],
   "source": [
    "def setup_bert():\n",
    "    # change `ctx` to `mx.cpu()` if no GPU is available.\n",
    "    ctx = mx.gpu(0)\n",
    "    # ctx =  mx.gpu() if mx.context.num_gpus() else mx.cpu()\n",
    "    # ctx = mx.cpu()\n",
    "\n",
    "    bert_base, vocabulary = nlp.model.get_model(\n",
    "        'bert_12_768_12',\n",
    "        dataset_name='book_corpus_wiki_en_uncased',\n",
    "        pretrained=True,\n",
    "        ctx=ctx,\n",
    "        use_pooler=True,\n",
    "        use_decoder=False,\n",
    "        use_classifier=False)\n",
    "    print(bert_base)\n",
    "\n",
    "    model = bert.BERTClassifier(bert_base, num_classes=1, dropout=0.1)\n",
    "    # only need to initialize the classifier layer.\n",
    "    model.classifier.initialize(init=mx.init.Normal(0.02), ctx=ctx)\n",
    "    model.hybridize(static_alloc=True)\n",
    "\n",
    "    # sigmoid binary cross entropy loss for classification\n",
    "    loss_function = gluon.loss.SigmoidBinaryCrossEntropyLoss(from_sigmoid=False)\n",
    "    loss_function.hybridize(static_alloc=True)\n",
    "\n",
    "    metric = mx.metric.Accuracy()\n",
    "\n",
    "    # use the vocabulary from pre-trained model for tokenization\n",
    "    bert_tokenizer = nlp.data.BERTTokenizer(vocabulary, lower=True)\n",
    "    # maximum sequence length\n",
    "    max_len = 128\n",
    "    # the labels for the two classes\n",
    "    all_labels = [0, 1]\n",
    "    # whether to transform the data as sentence pairs.\n",
    "    # for single sentence classification, set pair=False\n",
    "    pair = True\n",
    "    transform = dataset.BERTDatasetTransform(bert_tokenizer,\n",
    "                                             max_len,\n",
    "                                             labels=all_labels,\n",
    "                                             label_dtype='int32',\n",
    "                                             pad=True,\n",
    "                                             pair=pair)\n",
    "\n",
    "    return model, vocabulary, ctx, transform, loss_function, metric, all_labels"
   ]
  },
  {
   "cell_type": "code",
   "execution_count": 13,
   "metadata": {
    "ExecuteTime": {
     "end_time": "2019-07-01T12:27:16.013505Z",
     "start_time": "2019-07-01T12:27:15.998394Z"
    },
    "code_folding": [
     0,
     6
    ],
    "init_cell": true
   },
   "outputs": [],
   "source": [
    "def transform_dataset(X, y, transform):\n",
    "    data_train_raw = MyBERTDataset(X, y)\n",
    "    data_train = data_train_raw.transform(transform)\n",
    "    return data_train_raw, data_train\n",
    "\n",
    "\n",
    "def predict_out_to_ys(all_predictions, all_labels):\n",
    "    y_true, y_pred = list(), list()\n",
    "    \n",
    "    for _, y_true_many, y_pred_many in all_predictions:\n",
    "        # convert floats to ints (\"0\" and \"1\"?)\n",
    "        # y_true_many = y_true_many.astype('int32')\n",
    "        # y_pred_many = y_pred_many.sigmoid().round().astype('int32')\n",
    "\n",
    "        # convert into numpy\n",
    "        y_true_many = y_true_many.T[0].asnumpy()\n",
    "        # https://mxnet.incubator.apache.org/api/python/gluon/loss.html#mxnet.gluon.loss.SoftmaxCrossEntropyLoss\n",
    "        # pred: the prediction tensor, where the batch_axis dimension ranges over batch size and axis dimension ranges over the number of classes.\n",
    "        # y_pred_many = np.argmax(y_pred_many, axis=1).asnumpy()\n",
    "        # y_pred_many = np.sigmoid(y_pred_many, axis=1).asnumpy()\n",
    "        y_pred_many = y_pred_many.asnumpy()\n",
    "\n",
    "        y_true.extend(list(y_true_many))\n",
    "        y_pred.extend(list(y_pred_many))\n",
    "        # TODO: convert label_id to label?\n",
    "        # y_pred.extend(all_labels[c] for c in list(y_pred_many))\n",
    "        \n",
    "    y_true = np.array(y_true)\n",
    "    y_pred = np.array(y_pred)\n",
    "    \n",
    "    return y_true, y_pred"
   ]
  },
  {
   "cell_type": "code",
   "execution_count": 24,
   "metadata": {
    "ExecuteTime": {
     "end_time": "2019-07-01T14:07:56.307590Z",
     "start_time": "2019-07-01T14:07:56.278549Z"
    },
    "code_folding": [
     0,
     23
    ],
    "init_cell": true,
    "run_control": {
     "marked": false
    }
   },
   "outputs": [],
   "source": [
    "def train(model, data_train, ctx, metric, loss_function, batch_size=32, lr=5e-6, num_epochs=3, checkpoint_dir=\"data\", use_checkpoints=True):\n",
    "    with Timer(\"setup training\"):\n",
    "        train_sampler = nlp.data.FixedBucketSampler(\n",
    "            lengths=[int(item[1]) for item in tqdm(data_train)],\n",
    "            batch_size=batch_size,\n",
    "            shuffle=True)\n",
    "        bert_dataloader = mx.gluon.data.DataLoader(data_train,\n",
    "                                                   batch_sampler=train_sampler)\n",
    "\n",
    "        trainer = gluon.Trainer(model.collect_params(), 'adam', {\n",
    "            'learning_rate': lr,\n",
    "            'epsilon': 1e-9\n",
    "        })\n",
    "\n",
    "        # collect all differentiable parameters\n",
    "        # grad_req == 'null' indicates no gradients are calculated (e.g. constant parameters)\n",
    "        # the gradients for these params are clipped later\n",
    "        params = [p for p in model.collect_params().values() if p.grad_req != 'null']\n",
    "\n",
    "    log_interval = 10\n",
    "    with Timer(\"training\"):\n",
    "        stats = list()\n",
    "        for epoch_id in range(num_epochs):\n",
    "            if use_checkpoints:\n",
    "                epoch_checkpoint_savefile = \"bert.model.checkpoint{}.params\".format(epoch_id)\n",
    "                if checkpoint_dir is not None:\n",
    "                    epoch_checkpoint_savefile = os.path.join(checkpoint_dir, epoch_checkpoint_savefile)\n",
    "                if os.path.exists(epoch_checkpoint_savefile):\n",
    "                    model.load_parameters(epoch_checkpoint_savefile, ctx=ctx)\n",
    "                    print(\"loaded checkpoint for epoch {}\".format(epoch_id))\n",
    "                    continue\n",
    "\n",
    "            with Timer(\"epoch {}\".format(epoch_id)):\n",
    "                metric.reset()\n",
    "                step_loss = 0\n",
    "                t_p = time.time()  # time keeping\n",
    "                for batch_id, (token_ids, valid_length, segment_ids,\n",
    "                               label) in enumerate(bert_dataloader):\n",
    "                    with mx.autograd.record():\n",
    "                        # load data to GPU\n",
    "                        token_ids = token_ids.as_in_context(ctx)\n",
    "                        valid_length = valid_length.as_in_context(ctx)\n",
    "                        segment_ids = segment_ids.as_in_context(ctx)\n",
    "                        label = label.as_in_context(ctx)\n",
    "\n",
    "                        # forward computation\n",
    "                        out = model(token_ids, segment_ids,\n",
    "                                    valid_length.astype('float32'))\n",
    "                        # TODO: make \"label\" a 2 component list? (0, 1) for \"0\" and (1, 0) for \"1\" ?\n",
    "                        label = label.astype('float32')\n",
    "                        ls = loss_function(out, label).mean()\n",
    "\n",
    "                    # backward computation\n",
    "                    ls.backward()\n",
    "\n",
    "                    # gradient clipping\n",
    "                    trainer.allreduce_grads()\n",
    "                    nlp.utils.clip_grad_global_norm(params, 1)\n",
    "                    trainer.update(1)\n",
    "\n",
    "                    step_loss += ls.asscalar()\n",
    "                    # TODO: what is the value range? --> needs sigmoid?\n",
    "                    out = out.sigmoid().round().astype('int32')\n",
    "                    label = label.astype('int32')\n",
    "                    metric.update([label], [out])\n",
    "                    stats.append((metric.get()[1], ls.asscalar()))\n",
    "                    if (batch_id + 1) % (log_interval) == 0:\n",
    "                        print(\n",
    "                            '[Epoch {} Batch {}/{}] loss={:.4f}, lr={:.7f}, acc={:.3f} - time {}'\n",
    "                            .format(epoch_id, batch_id + 1, len(bert_dataloader),\n",
    "                                    step_loss / log_interval, trainer.learning_rate,\n",
    "                                    metric.get()[1],\n",
    "                                    datetime.timedelta(seconds=(time.time() - t_p))))\n",
    "                        t_p = time.time()\n",
    "                        step_loss = 0\n",
    "\n",
    "            if use_checkpoints:\n",
    "                model.save_parameters(epoch_checkpoint_savefile)\n",
    "            \n",
    "    return stats"
   ]
  },
  {
   "cell_type": "code",
   "execution_count": 25,
   "metadata": {
    "ExecuteTime": {
     "end_time": "2019-07-01T14:08:02.588843Z",
     "start_time": "2019-07-01T14:08:02.583671Z"
    },
    "code_folding": [
     0
    ],
    "init_cell": true
   },
   "outputs": [],
   "source": [
    "def predict(model, data_predict, ctx, metric, loss_function, batch_size=32):\n",
    "    bert_dataloader = mx.gluon.data.DataLoader(data_predict, batch_size=batch_size)\n",
    "    \n",
    "    all_predictions = list()\n",
    "\n",
    "    with Timer(\"prediction\"):\n",
    "        metric.reset()\n",
    "        cum_loss = 0\n",
    "        for batch_id, (token_ids, valid_length, segment_ids,\n",
    "                       label) in enumerate(tqdm(bert_dataloader)):\n",
    "            # load data to GPU\n",
    "            token_ids = token_ids.as_in_context(ctx)\n",
    "            valid_length = valid_length.as_in_context(ctx)\n",
    "            segment_ids = segment_ids.as_in_context(ctx)\n",
    "            label = label.as_in_context(ctx)\n",
    "\n",
    "            # forward computation\n",
    "            out = model(token_ids, segment_ids,\n",
    "                        valid_length.astype('float32'))\n",
    "            label = label.astype('float32')\n",
    "            ls = loss_function(out, label).mean()\n",
    "            cum_loss += ls.asscalar()  # .sum() ?\n",
    "\n",
    "            # somehow convert it into a binary value ...\n",
    "            out = out.sigmoid().round().astype('int32')\n",
    "            label = label.astype('int32')\n",
    "            metric.update([label], [out])\n",
    "            all_predictions.append((batch_id, label, out))\n",
    "            \n",
    "    return all_predictions, cum_loss"
   ]
  },
  {
   "cell_type": "code",
   "execution_count": null,
   "metadata": {
    "ExecuteTime": {
     "end_time": "2019-07-01T11:24:14.761121Z",
     "start_time": "2019-07-01T11:24:14.759266Z"
    }
   },
   "outputs": [],
   "source": [
    "# def sigmoid(x, derivative=False):\n",
    "#     return x * (1 - x) if derivative else 1 / (1 + np.exp(-x))\n",
    "# sigmoid(-1), sigmoid(0), sigmoid(1)"
   ]
  },
  {
   "cell_type": "code",
   "execution_count": 16,
   "metadata": {
    "ExecuteTime": {
     "end_time": "2019-07-01T12:27:16.068718Z",
     "start_time": "2019-07-01T12:27:16.052462Z"
    },
    "code_folding": [
     0,
     21
    ],
    "init_cell": true
   },
   "outputs": [],
   "source": [
    "def print_infos(vocabulary, data_train_raw, data_train):\n",
    "    sample_id = 0\n",
    "\n",
    "    # sentence a\n",
    "    print(data_train_raw[sample_id][0])\n",
    "    # sentence b\n",
    "    print(data_train_raw[sample_id][1])\n",
    "    # 1 means equivalent, 0 means not equivalent\n",
    "    print(data_train_raw[sample_id][2])\n",
    "\n",
    "    print('vocabulary used for tokenization = \\n%s' % vocabulary)\n",
    "    print('[PAD] token id = %s' % (vocabulary['[PAD]']))\n",
    "    print('[CLS] token id = %s' % (vocabulary['[CLS]']))\n",
    "    print('[SEP] token id = %s' % (vocabulary['[SEP]']))\n",
    "\n",
    "    print('token ids = \\n%s' % data_train[sample_id][0])\n",
    "    print('valid length = \\n%s' % data_train[sample_id][1])\n",
    "    print('segment ids = \\n%s' % data_train[sample_id][2])\n",
    "    print('label = \\n%s' % data_train[sample_id][3])\n",
    "\n",
    "\n",
    "def plot_train_stats(stats):\n",
    "    if not stats:\n",
    "        print(\"no stats to plot\")\n",
    "        return\n",
    "\n",
    "    x = np.arange(len(stats))  # arange/linspace\n",
    "\n",
    "    acc_dots, loss_dots = zip(*stats)\n",
    "\n",
    "    plt.subplot(2, 1, 1)\n",
    "    plt.plot(x, acc_dots)  # Linie: '-', 'o-', '.-'\n",
    "    plt.title('Training BERTClassifier')\n",
    "    plt.ylabel('Accuracy')\n",
    "\n",
    "    plt.subplot(2, 1, 2)\n",
    "    plt.plot(x, loss_dots)\n",
    "    plt.xlabel('Batches')\n",
    "    plt.ylabel('Loss')\n",
    "\n",
    "    plt.show()"
   ]
  },
  {
   "cell_type": "markdown",
   "metadata": {},
   "source": [
    "### Evaluate"
   ]
  },
  {
   "cell_type": "code",
   "execution_count": 17,
   "metadata": {
    "ExecuteTime": {
     "end_time": "2019-07-01T12:27:16.085999Z",
     "start_time": "2019-07-01T12:27:16.070340Z"
    },
    "code_folding": [
     0,
     12
    ],
    "init_cell": true,
    "run_control": {
     "marked": false
    },
    "scrolled": true
   },
   "outputs": [],
   "source": [
    "def heatconmat(y_test, y_pred):\n",
    "    sns.set_context('talk')\n",
    "    plt.figure(figsize=(9, 6))\n",
    "    sns.heatmap(confusion_matrix(y_test, y_pred),\n",
    "                annot=True,\n",
    "                fmt='d',\n",
    "                cbar=False,\n",
    "                cmap='gist_earth_r',\n",
    "                yticklabels=sorted(np.unique(y_test)))\n",
    "    plt.show()\n",
    "\n",
    "\n",
    "def report_training_results(y_test, y_pred, name=None, heatmap=True):\n",
    "    print('Confusion Matrix:')\n",
    "    print(confusion_matrix(y_test, y_pred))\n",
    "    if heatmap:\n",
    "        heatconmat(y_test, y_pred)\n",
    "    print()\n",
    "    print('Accuracy: ', round(accuracy_score(y_test, y_pred), 2), '\\n')  #\n",
    "\n",
    "    print('Report{}:'.format(\"\" if not name else \" for [{}]\".format(name)))\n",
    "    print(classification_report(y_test, y_pred))\n",
    "\n",
    "    f1_dic = {}\n",
    "    f1_dic['macro'] = round(\n",
    "        f1_score(y_pred=y_pred, y_true=y_test, average='macro'), 2)\n",
    "    f1_dic['micro'] = round(\n",
    "        f1_score(y_pred=y_pred, y_true=y_test, average='micro'), 2)\n",
    "    return f1_dic"
   ]
  },
  {
   "cell_type": "markdown",
   "metadata": {},
   "source": [
    "### Within topic - Training and evaluating model "
   ]
  },
  {
   "cell_type": "code",
   "execution_count": 18,
   "metadata": {
    "ExecuteTime": {
     "end_time": "2019-07-01T12:27:46.848725Z",
     "start_time": "2019-07-01T12:27:46.821381Z"
    },
    "scrolled": true
   },
   "outputs": [
    {
     "name": "stdout",
     "output_type": "stream",
     "text": [
      "Time for [1 - test/train split]: 0:00:00.022546\n"
     ]
    }
   ],
   "source": [
    "# 1. Getting train and dev data\n",
    "with Timer(\"1 - test/train split\"):\n",
    "    X_train, X_dev, y_train, y_dev = get_train_test_sets(within_traindev_df)"
   ]
  },
  {
   "cell_type": "code",
   "execution_count": 19,
   "metadata": {
    "ExecuteTime": {
     "end_time": "2019-07-01T12:27:50.228492Z",
     "start_time": "2019-07-01T12:27:47.940777Z"
    },
    "collapsed": true
   },
   "outputs": [
    {
     "name": "stdout",
     "output_type": "stream",
     "text": [
      "BERTModel(\n",
      "  (encoder): BERTEncoder(\n",
      "    (dropout_layer): Dropout(p = 0.1, axes=())\n",
      "    (layer_norm): BERTLayerNorm(eps=1e-12, axis=-1, center=True, scale=True, in_channels=768)\n",
      "    (transformer_cells): HybridSequential(\n",
      "      (0): BERTEncoderCell(\n",
      "        (dropout_layer): Dropout(p = 0.1, axes=())\n",
      "        (attention_cell): MultiHeadAttentionCell(\n",
      "          (_base_cell): DotProductAttentionCell(\n",
      "            (_dropout_layer): Dropout(p = 0.1, axes=())\n",
      "          )\n",
      "          (proj_query): Dense(768 -> 768, linear)\n",
      "          (proj_key): Dense(768 -> 768, linear)\n",
      "          (proj_value): Dense(768 -> 768, linear)\n",
      "        )\n",
      "        (proj): Dense(768 -> 768, linear)\n",
      "        (ffn): BERTPositionwiseFFN(\n",
      "          (ffn_1): Dense(768 -> 3072, linear)\n",
      "          (activation): GELU()\n",
      "          (ffn_2): Dense(3072 -> 768, linear)\n",
      "          (dropout_layer): Dropout(p = 0.1, axes=())\n",
      "          (layer_norm): BERTLayerNorm(eps=1e-12, axis=-1, center=True, scale=True, in_channels=768)\n",
      "        )\n",
      "        (layer_norm): BERTLayerNorm(eps=1e-12, axis=-1, center=True, scale=True, in_channels=768)\n",
      "      )\n",
      "      (1): BERTEncoderCell(\n",
      "        (dropout_layer): Dropout(p = 0.1, axes=())\n",
      "        (attention_cell): MultiHeadAttentionCell(\n",
      "          (_base_cell): DotProductAttentionCell(\n",
      "            (_dropout_layer): Dropout(p = 0.1, axes=())\n",
      "          )\n",
      "          (proj_query): Dense(768 -> 768, linear)\n",
      "          (proj_key): Dense(768 -> 768, linear)\n",
      "          (proj_value): Dense(768 -> 768, linear)\n",
      "        )\n",
      "        (proj): Dense(768 -> 768, linear)\n",
      "        (ffn): BERTPositionwiseFFN(\n",
      "          (ffn_1): Dense(768 -> 3072, linear)\n",
      "          (activation): GELU()\n",
      "          (ffn_2): Dense(3072 -> 768, linear)\n",
      "          (dropout_layer): Dropout(p = 0.1, axes=())\n",
      "          (layer_norm): BERTLayerNorm(eps=1e-12, axis=-1, center=True, scale=True, in_channels=768)\n",
      "        )\n",
      "        (layer_norm): BERTLayerNorm(eps=1e-12, axis=-1, center=True, scale=True, in_channels=768)\n",
      "      )\n",
      "      (2): BERTEncoderCell(\n",
      "        (dropout_layer): Dropout(p = 0.1, axes=())\n",
      "        (attention_cell): MultiHeadAttentionCell(\n",
      "          (_base_cell): DotProductAttentionCell(\n",
      "            (_dropout_layer): Dropout(p = 0.1, axes=())\n",
      "          )\n",
      "          (proj_query): Dense(768 -> 768, linear)\n",
      "          (proj_key): Dense(768 -> 768, linear)\n",
      "          (proj_value): Dense(768 -> 768, linear)\n",
      "        )\n",
      "        (proj): Dense(768 -> 768, linear)\n",
      "        (ffn): BERTPositionwiseFFN(\n",
      "          (ffn_1): Dense(768 -> 3072, linear)\n",
      "          (activation): GELU()\n",
      "          (ffn_2): Dense(3072 -> 768, linear)\n",
      "          (dropout_layer): Dropout(p = 0.1, axes=())\n",
      "          (layer_norm): BERTLayerNorm(eps=1e-12, axis=-1, center=True, scale=True, in_channels=768)\n",
      "        )\n",
      "        (layer_norm): BERTLayerNorm(eps=1e-12, axis=-1, center=True, scale=True, in_channels=768)\n",
      "      )\n",
      "      (3): BERTEncoderCell(\n",
      "        (dropout_layer): Dropout(p = 0.1, axes=())\n",
      "        (attention_cell): MultiHeadAttentionCell(\n",
      "          (_base_cell): DotProductAttentionCell(\n",
      "            (_dropout_layer): Dropout(p = 0.1, axes=())\n",
      "          )\n",
      "          (proj_query): Dense(768 -> 768, linear)\n",
      "          (proj_key): Dense(768 -> 768, linear)\n",
      "          (proj_value): Dense(768 -> 768, linear)\n",
      "        )\n",
      "        (proj): Dense(768 -> 768, linear)\n",
      "        (ffn): BERTPositionwiseFFN(\n",
      "          (ffn_1): Dense(768 -> 3072, linear)\n",
      "          (activation): GELU()\n",
      "          (ffn_2): Dense(3072 -> 768, linear)\n",
      "          (dropout_layer): Dropout(p = 0.1, axes=())\n",
      "          (layer_norm): BERTLayerNorm(eps=1e-12, axis=-1, center=True, scale=True, in_channels=768)\n",
      "        )\n",
      "        (layer_norm): BERTLayerNorm(eps=1e-12, axis=-1, center=True, scale=True, in_channels=768)\n",
      "      )\n",
      "      (4): BERTEncoderCell(\n",
      "        (dropout_layer): Dropout(p = 0.1, axes=())\n",
      "        (attention_cell): MultiHeadAttentionCell(\n",
      "          (_base_cell): DotProductAttentionCell(\n",
      "            (_dropout_layer): Dropout(p = 0.1, axes=())\n",
      "          )\n",
      "          (proj_query): Dense(768 -> 768, linear)\n",
      "          (proj_key): Dense(768 -> 768, linear)\n",
      "          (proj_value): Dense(768 -> 768, linear)\n",
      "        )\n",
      "        (proj): Dense(768 -> 768, linear)\n",
      "        (ffn): BERTPositionwiseFFN(\n",
      "          (ffn_1): Dense(768 -> 3072, linear)\n",
      "          (activation): GELU()\n",
      "          (ffn_2): Dense(3072 -> 768, linear)\n",
      "          (dropout_layer): Dropout(p = 0.1, axes=())\n",
      "          (layer_norm): BERTLayerNorm(eps=1e-12, axis=-1, center=True, scale=True, in_channels=768)\n",
      "        )\n",
      "        (layer_norm): BERTLayerNorm(eps=1e-12, axis=-1, center=True, scale=True, in_channels=768)\n",
      "      )\n",
      "      (5): BERTEncoderCell(\n",
      "        (dropout_layer): Dropout(p = 0.1, axes=())\n",
      "        (attention_cell): MultiHeadAttentionCell(\n",
      "          (_base_cell): DotProductAttentionCell(\n",
      "            (_dropout_layer): Dropout(p = 0.1, axes=())\n",
      "          )\n",
      "          (proj_query): Dense(768 -> 768, linear)\n",
      "          (proj_key): Dense(768 -> 768, linear)\n",
      "          (proj_value): Dense(768 -> 768, linear)\n",
      "        )\n",
      "        (proj): Dense(768 -> 768, linear)\n",
      "        (ffn): BERTPositionwiseFFN(\n",
      "          (ffn_1): Dense(768 -> 3072, linear)\n",
      "          (activation): GELU()\n",
      "          (ffn_2): Dense(3072 -> 768, linear)\n",
      "          (dropout_layer): Dropout(p = 0.1, axes=())\n",
      "          (layer_norm): BERTLayerNorm(eps=1e-12, axis=-1, center=True, scale=True, in_channels=768)\n",
      "        )\n",
      "        (layer_norm): BERTLayerNorm(eps=1e-12, axis=-1, center=True, scale=True, in_channels=768)\n",
      "      )\n",
      "      (6): BERTEncoderCell(\n",
      "        (dropout_layer): Dropout(p = 0.1, axes=())\n",
      "        (attention_cell): MultiHeadAttentionCell(\n",
      "          (_base_cell): DotProductAttentionCell(\n",
      "            (_dropout_layer): Dropout(p = 0.1, axes=())\n",
      "          )\n",
      "          (proj_query): Dense(768 -> 768, linear)\n",
      "          (proj_key): Dense(768 -> 768, linear)\n",
      "          (proj_value): Dense(768 -> 768, linear)\n",
      "        )\n",
      "        (proj): Dense(768 -> 768, linear)\n",
      "        (ffn): BERTPositionwiseFFN(\n",
      "          (ffn_1): Dense(768 -> 3072, linear)\n",
      "          (activation): GELU()\n",
      "          (ffn_2): Dense(3072 -> 768, linear)\n",
      "          (dropout_layer): Dropout(p = 0.1, axes=())\n",
      "          (layer_norm): BERTLayerNorm(eps=1e-12, axis=-1, center=True, scale=True, in_channels=768)\n",
      "        )\n",
      "        (layer_norm): BERTLayerNorm(eps=1e-12, axis=-1, center=True, scale=True, in_channels=768)\n",
      "      )\n",
      "      (7): BERTEncoderCell(\n",
      "        (dropout_layer): Dropout(p = 0.1, axes=())\n",
      "        (attention_cell): MultiHeadAttentionCell(\n",
      "          (_base_cell): DotProductAttentionCell(\n",
      "            (_dropout_layer): Dropout(p = 0.1, axes=())\n",
      "          )\n",
      "          (proj_query): Dense(768 -> 768, linear)\n",
      "          (proj_key): Dense(768 -> 768, linear)\n",
      "          (proj_value): Dense(768 -> 768, linear)\n",
      "        )\n",
      "        (proj): Dense(768 -> 768, linear)\n",
      "        (ffn): BERTPositionwiseFFN(\n",
      "          (ffn_1): Dense(768 -> 3072, linear)\n",
      "          (activation): GELU()\n",
      "          (ffn_2): Dense(3072 -> 768, linear)\n",
      "          (dropout_layer): Dropout(p = 0.1, axes=())\n",
      "          (layer_norm): BERTLayerNorm(eps=1e-12, axis=-1, center=True, scale=True, in_channels=768)\n",
      "        )\n",
      "        (layer_norm): BERTLayerNorm(eps=1e-12, axis=-1, center=True, scale=True, in_channels=768)\n",
      "      )\n",
      "      (8): BERTEncoderCell(\n",
      "        (dropout_layer): Dropout(p = 0.1, axes=())\n",
      "        (attention_cell): MultiHeadAttentionCell(\n",
      "          (_base_cell): DotProductAttentionCell(\n",
      "            (_dropout_layer): Dropout(p = 0.1, axes=())\n",
      "          )\n",
      "          (proj_query): Dense(768 -> 768, linear)\n",
      "          (proj_key): Dense(768 -> 768, linear)\n",
      "          (proj_value): Dense(768 -> 768, linear)\n",
      "        )\n",
      "        (proj): Dense(768 -> 768, linear)\n",
      "        (ffn): BERTPositionwiseFFN(\n",
      "          (ffn_1): Dense(768 -> 3072, linear)\n",
      "          (activation): GELU()\n",
      "          (ffn_2): Dense(3072 -> 768, linear)\n",
      "          (dropout_layer): Dropout(p = 0.1, axes=())\n",
      "          (layer_norm): BERTLayerNorm(eps=1e-12, axis=-1, center=True, scale=True, in_channels=768)\n",
      "        )\n",
      "        (layer_norm): BERTLayerNorm(eps=1e-12, axis=-1, center=True, scale=True, in_channels=768)\n",
      "      )\n",
      "      (9): BERTEncoderCell(\n",
      "        (dropout_layer): Dropout(p = 0.1, axes=())\n",
      "        (attention_cell): MultiHeadAttentionCell(\n",
      "          (_base_cell): DotProductAttentionCell(\n",
      "            (_dropout_layer): Dropout(p = 0.1, axes=())\n",
      "          )\n",
      "          (proj_query): Dense(768 -> 768, linear)\n",
      "          (proj_key): Dense(768 -> 768, linear)\n",
      "          (proj_value): Dense(768 -> 768, linear)\n",
      "        )\n",
      "        (proj): Dense(768 -> 768, linear)\n",
      "        (ffn): BERTPositionwiseFFN(\n",
      "          (ffn_1): Dense(768 -> 3072, linear)\n",
      "          (activation): GELU()\n",
      "          (ffn_2): Dense(3072 -> 768, linear)\n",
      "          (dropout_layer): Dropout(p = 0.1, axes=())\n",
      "          (layer_norm): BERTLayerNorm(eps=1e-12, axis=-1, center=True, scale=True, in_channels=768)\n",
      "        )\n",
      "        (layer_norm): BERTLayerNorm(eps=1e-12, axis=-1, center=True, scale=True, in_channels=768)\n",
      "      )\n",
      "      (10): BERTEncoderCell(\n",
      "        (dropout_layer): Dropout(p = 0.1, axes=())\n",
      "        (attention_cell): MultiHeadAttentionCell(\n",
      "          (_base_cell): DotProductAttentionCell(\n",
      "            (_dropout_layer): Dropout(p = 0.1, axes=())\n",
      "          )\n",
      "          (proj_query): Dense(768 -> 768, linear)\n",
      "          (proj_key): Dense(768 -> 768, linear)\n",
      "          (proj_value): Dense(768 -> 768, linear)\n",
      "        )\n",
      "        (proj): Dense(768 -> 768, linear)\n",
      "        (ffn): BERTPositionwiseFFN(\n",
      "          (ffn_1): Dense(768 -> 3072, linear)\n",
      "          (activation): GELU()\n",
      "          (ffn_2): Dense(3072 -> 768, linear)\n",
      "          (dropout_layer): Dropout(p = 0.1, axes=())\n",
      "          (layer_norm): BERTLayerNorm(eps=1e-12, axis=-1, center=True, scale=True, in_channels=768)\n",
      "        )\n",
      "        (layer_norm): BERTLayerNorm(eps=1e-12, axis=-1, center=True, scale=True, in_channels=768)\n",
      "      )\n",
      "      (11): BERTEncoderCell(\n",
      "        (dropout_layer): Dropout(p = 0.1, axes=())\n",
      "        (attention_cell): MultiHeadAttentionCell(\n",
      "          (_base_cell): DotProductAttentionCell(\n",
      "            (_dropout_layer): Dropout(p = 0.1, axes=())\n",
      "          )\n",
      "          (proj_query): Dense(768 -> 768, linear)\n",
      "          (proj_key): Dense(768 -> 768, linear)\n",
      "          (proj_value): Dense(768 -> 768, linear)\n",
      "        )\n",
      "        (proj): Dense(768 -> 768, linear)\n",
      "        (ffn): BERTPositionwiseFFN(\n",
      "          (ffn_1): Dense(768 -> 3072, linear)\n",
      "          (activation): GELU()\n",
      "          (ffn_2): Dense(3072 -> 768, linear)\n",
      "          (dropout_layer): Dropout(p = 0.1, axes=())\n",
      "          (layer_norm): BERTLayerNorm(eps=1e-12, axis=-1, center=True, scale=True, in_channels=768)\n",
      "        )\n",
      "        (layer_norm): BERTLayerNorm(eps=1e-12, axis=-1, center=True, scale=True, in_channels=768)\n",
      "      )\n",
      "    )\n",
      "  )\n",
      "  (word_embed): HybridSequential(\n",
      "    (0): Embedding(30522 -> 768, float32)\n",
      "    (1): Dropout(p = 0.1, axes=())\n",
      "  )\n",
      "  (token_type_embed): HybridSequential(\n",
      "    (0): Embedding(2 -> 768, float32)\n",
      "    (1): Dropout(p = 0.1, axes=())\n",
      "  )\n",
      "  (pooler): Dense(768 -> 768, Activation(tanh))\n",
      ")\n",
      "Time for [2 - setup BERT model]: 0:00:02.284686\n"
     ]
    }
   ],
   "source": [
    "# 2. setup\n",
    "with Timer(\"2 - setup BERT model\"):\n",
    "    model, vocabulary, ctx, transform, loss_function, metric, all_labels = setup_bert()"
   ]
  },
  {
   "cell_type": "code",
   "execution_count": 20,
   "metadata": {
    "ExecuteTime": {
     "end_time": "2019-07-01T12:27:55.928727Z",
     "start_time": "2019-07-01T12:27:52.878999Z"
    },
    "collapsed": true
   },
   "outputs": [
    {
     "name": "stdout",
     "output_type": "stream",
     "text": [
      "wanted fetuses are beloved \"babies\"; unwanted ones are \"tissue\" (inconsistent)\n",
      "abortions are emotionally and psychologically unsafe.\n",
      "1\n",
      "vocabulary used for tokenization = \n",
      "Vocab(size=30522, unk=\"[UNK]\", reserved=\"['[PAD]', '[CLS]', '[SEP]', '[MASK]']\")\n",
      "[PAD] token id = 1\n",
      "[CLS] token id = 2\n",
      "[SEP] token id = 3\n",
      "token ids = \n",
      "[    2  2359 10768  5809  2229  2024 11419  1000 10834  1000  1025 18162\n",
      "  3924  2024  1000  8153  1000  1006 20316  1007     3 11324  2015  2024\n",
      " 14868  1998  8317  2135 25135  1012     3     1     1     1     1     1\n",
      "     1     1     1     1     1     1     1     1     1     1     1     1\n",
      "     1     1     1     1     1     1     1     1     1     1     1     1\n",
      "     1     1     1     1     1     1     1     1     1     1     1     1\n",
      "     1     1     1     1     1     1     1     1     1     1     1     1\n",
      "     1     1     1     1     1     1     1     1     1     1     1     1\n",
      "     1     1     1     1     1     1     1     1     1     1     1     1\n",
      "     1     1     1     1     1     1     1     1     1     1     1     1\n",
      "     1     1     1     1     1     1     1     1]\n",
      "valid length = \n",
      "31\n",
      "segment ids = \n",
      "[0 0 0 0 0 0 0 0 0 0 0 0 0 0 0 0 0 0 0 0 0 1 1 1 1 1 1 1 1 1 1 0 0 0 0 0 0\n",
      " 0 0 0 0 0 0 0 0 0 0 0 0 0 0 0 0 0 0 0 0 0 0 0 0 0 0 0 0 0 0 0 0 0 0 0 0 0\n",
      " 0 0 0 0 0 0 0 0 0 0 0 0 0 0 0 0 0 0 0 0 0 0 0 0 0 0 0 0 0 0 0 0 0 0 0 0 0\n",
      " 0 0 0 0 0 0 0 0 0 0 0 0 0 0 0 0 0]\n",
      "label = \n",
      "[1]\n",
      "Time for [3 - prepare training data]: 0:00:03.045170\n"
     ]
    }
   ],
   "source": [
    "with Timer(\"3 - prepare training data\"):\n",
    "    data_train_raw, data_train = transform_dataset(X_train, y_train, transform)\n",
    "    print_infos(vocabulary, data_train_raw, data_train)"
   ]
  },
  {
   "cell_type": "code",
   "execution_count": null,
   "metadata": {
    "ExecuteTime": {
     "end_time": "2019-07-01T11:13:17.183400Z",
     "start_time": "2019-07-01T10:47:48.604215Z"
    },
    "scrolled": true
   },
   "outputs": [],
   "source": [
    "with Timer(\"4 - train model\"):\n",
    "    # train(model, data_train, ctx, metric, loss_function, batch_size=32, lr=5e-6, num_epochs=3)\n",
    "    stats = train(model, data_train, ctx, metric, loss_function, batch_size=32, lr=5e-6, num_epochs=2)\n",
    "    # model.save_parameters(\"data/same-side-classification/within-topic/bert.model.params\")\n",
    "    model.save_parameters(\"data/bert.model.params\")\n",
    "\n",
    "    plot_train_stats(stats)"
   ]
  },
  {
   "cell_type": "code",
   "execution_count": 21,
   "metadata": {
    "ExecuteTime": {
     "end_time": "2019-07-01T12:28:01.909107Z",
     "start_time": "2019-07-01T12:28:00.852313Z"
    },
    "collapsed": true
   },
   "outputs": [
    {
     "name": "stdout",
     "output_type": "stream",
     "text": [
      "abortion opens the door to the sexual exploitation of women the existence of abortion gives men a little more of a safeguard against unintentionally impregnating a woman. as a result, men will be more aggressive in their sexual exploitation of women.\n",
      "the fact that a child is likely to have a short life does not justify further shortening it:\n",
      "0\n",
      "vocabulary used for tokenization = \n",
      "Vocab(size=30522, unk=\"[UNK]\", reserved=\"['[PAD]', '[CLS]', '[SEP]', '[MASK]']\")\n",
      "[PAD] token id = 1\n",
      "[CLS] token id = 2\n",
      "[SEP] token id = 3\n",
      "token ids = \n",
      "[    2 11324  7480  1996  2341  2000  1996  4424 14427  1997  2308  1996\n",
      "  4598  1997 11324  3957  2273  1037  2210  2062  1997  1037 28805  2114\n",
      "  4895 18447  4765 19301  2135 17727  2890 16989  3436  1037  2450  1012\n",
      "  2004  1037  2765  1010  2273  2097  2022  2062  9376  1999  2037  4424\n",
      " 14427  1997  2308  1012     3  1996  2755  2008  1037  2775  2003  3497\n",
      "  2000  2031  1037  2460  2166  2515  2025 16114  2582  2460  7406  2009\n",
      "  1024     3     1     1     1     1     1     1     1     1     1     1\n",
      "     1     1     1     1     1     1     1     1     1     1     1     1\n",
      "     1     1     1     1     1     1     1     1     1     1     1     1\n",
      "     1     1     1     1     1     1     1     1     1     1     1     1\n",
      "     1     1     1     1     1     1     1     1]\n",
      "valid length = \n",
      "74\n",
      "segment ids = \n",
      "[0 0 0 0 0 0 0 0 0 0 0 0 0 0 0 0 0 0 0 0 0 0 0 0 0 0 0 0 0 0 0 0 0 0 0 0 0\n",
      " 0 0 0 0 0 0 0 0 0 0 0 0 0 0 0 0 1 1 1 1 1 1 1 1 1 1 1 1 1 1 1 1 1 1 1 1 1\n",
      " 0 0 0 0 0 0 0 0 0 0 0 0 0 0 0 0 0 0 0 0 0 0 0 0 0 0 0 0 0 0 0 0 0 0 0 0 0\n",
      " 0 0 0 0 0 0 0 0 0 0 0 0 0 0 0 0 0]\n",
      "label = \n",
      "[0]\n",
      "Time for [5 - prepare eval data]: 0:00:01.050983\n"
     ]
    }
   ],
   "source": [
    "with Timer(\"5 - prepare eval data\"):\n",
    "    data_dev_raw, data_dev = transform_dataset(X_dev, y_dev, transform)\n",
    "    print_infos(vocabulary, data_dev_raw, data_dev)"
   ]
  },
  {
   "cell_type": "code",
   "execution_count": 22,
   "metadata": {
    "ExecuteTime": {
     "end_time": "2019-07-01T12:31:41.563908Z",
     "start_time": "2019-07-01T12:28:14.663262Z"
    }
   },
   "outputs": [
    {
     "name": "stderr",
     "output_type": "stream",
     "text": [
      "100%|██████████| 600/600 [03:26<00:00,  2.90it/s]\n"
     ]
    },
    {
     "name": "stdout",
     "output_type": "stream",
     "text": [
      "Time for [prediction]: 0:03:26.738696\n",
      "Accuracy: 0.46074800479891503\n",
      "Confusion Matrix:\n",
      "[[  157  8676]\n",
      " [  113 10225]]\n",
      "\n",
      "Accuracy:  0.54 \n",
      "\n",
      "Report for [BERTClassifier]:\n",
      "              precision    recall  f1-score   support\n",
      "\n",
      "           0       0.58      0.02      0.03      8833\n",
      "           1       0.54      0.99      0.70     10338\n",
      "\n",
      "    accuracy                           0.54     19171\n",
      "   macro avg       0.56      0.50      0.37     19171\n",
      "weighted avg       0.56      0.54      0.39     19171\n",
      "\n",
      "Time for [6 - evaluate]: 0:03:26.896612\n"
     ]
    }
   ],
   "source": [
    "with Timer(\"6 - evaluate\"):\n",
    "    # model.load_parameters(\"data/same-side-classification/within-topic/bert.model.params\", ctx=ctx)\n",
    "    # model.load_parameters(\"data/bert.model.params\", ctx=ctx)\n",
    "    all_predictions, cum_loss = predict(model, data_dev, ctx, metric, loss_function)\n",
    "    print(\"Accuracy:\", metric.get()[1])\n",
    "\n",
    "    y_true, y_pred = predict_out_to_ys(all_predictions, all_labels)\n",
    "    report_training_results(y_true, y_pred, name=\"BERTClassifier\", heatmap=False)"
   ]
  },
  {
   "cell_type": "markdown",
   "metadata": {},
   "source": [
    "### Train and evaluate each epoch"
   ]
  },
  {
   "cell_type": "code",
   "execution_count": 23,
   "metadata": {
    "ExecuteTime": {
     "end_time": "2019-07-01T14:07:31.609703Z",
     "start_time": "2019-07-01T12:31:58.757406Z"
    },
    "scrolled": true
   },
   "outputs": [
    {
     "name": "stderr",
     "output_type": "stream",
     "text": [
      "100%|██████████| 44732/44732 [03:45<00:00, 198.55it/s]\n"
     ]
    },
    {
     "name": "stdout",
     "output_type": "stream",
     "text": [
      "Time for [setup training]: 0:03:45.319735\n",
      "[Epoch 0 Batch 10/1401] loss=0.6961, lr=0.0000050, acc=0.431 - time 0:00:09.920489\n",
      "[Epoch 0 Batch 20/1401] loss=0.6924, lr=0.0000050, acc=0.436 - time 0:00:08.680592\n",
      "[Epoch 0 Batch 30/1401] loss=0.7056, lr=0.0000050, acc=0.448 - time 0:00:08.004687\n",
      "[Epoch 0 Batch 40/1401] loss=0.6946, lr=0.0000050, acc=0.452 - time 0:00:08.980664\n",
      "[Epoch 0 Batch 50/1401] loss=0.7079, lr=0.0000050, acc=0.471 - time 0:00:09.195688\n",
      "[Epoch 0 Batch 60/1401] loss=0.6954, lr=0.0000050, acc=0.475 - time 0:00:07.964588\n",
      "[Epoch 0 Batch 70/1401] loss=0.6767, lr=0.0000050, acc=0.472 - time 0:00:08.705266\n",
      "[Epoch 0 Batch 80/1401] loss=0.6863, lr=0.0000050, acc=0.466 - time 0:00:09.382693\n",
      "[Epoch 0 Batch 90/1401] loss=0.6809, lr=0.0000050, acc=0.465 - time 0:00:07.395756\n",
      "[Epoch 0 Batch 100/1401] loss=0.6986, lr=0.0000050, acc=0.465 - time 0:00:09.457565\n",
      "[Epoch 0 Batch 110/1401] loss=0.6863, lr=0.0000050, acc=0.468 - time 0:00:09.925417\n",
      "[Epoch 0 Batch 120/1401] loss=0.6782, lr=0.0000050, acc=0.470 - time 0:00:08.438124\n",
      "[Epoch 0 Batch 130/1401] loss=0.6693, lr=0.0000050, acc=0.468 - time 0:00:08.374076\n",
      "[Epoch 0 Batch 140/1401] loss=0.6653, lr=0.0000050, acc=0.468 - time 0:00:10.023776\n",
      "[Epoch 0 Batch 150/1401] loss=0.6717, lr=0.0000050, acc=0.472 - time 0:00:08.971117\n",
      "[Epoch 0 Batch 160/1401] loss=0.6667, lr=0.0000050, acc=0.472 - time 0:00:08.548862\n",
      "[Epoch 0 Batch 170/1401] loss=0.6778, lr=0.0000050, acc=0.472 - time 0:00:08.534338\n",
      "[Epoch 0 Batch 180/1401] loss=0.6758, lr=0.0000050, acc=0.472 - time 0:00:09.705759\n",
      "[Epoch 0 Batch 190/1401] loss=0.6895, lr=0.0000050, acc=0.471 - time 0:00:08.997813\n",
      "[Epoch 0 Batch 200/1401] loss=0.6703, lr=0.0000050, acc=0.471 - time 0:00:08.108850\n",
      "[Epoch 0 Batch 210/1401] loss=0.6551, lr=0.0000050, acc=0.471 - time 0:00:08.612407\n",
      "[Epoch 0 Batch 220/1401] loss=0.6607, lr=0.0000050, acc=0.470 - time 0:00:09.291623\n",
      "[Epoch 0 Batch 230/1401] loss=0.6411, lr=0.0000050, acc=0.468 - time 0:00:08.615709\n",
      "[Epoch 0 Batch 240/1401] loss=0.6465, lr=0.0000050, acc=0.470 - time 0:00:09.394053\n",
      "[Epoch 0 Batch 250/1401] loss=0.6703, lr=0.0000050, acc=0.470 - time 0:00:08.589720\n",
      "[Epoch 0 Batch 260/1401] loss=0.6608, lr=0.0000050, acc=0.471 - time 0:00:09.020558\n",
      "[Epoch 0 Batch 270/1401] loss=0.6583, lr=0.0000050, acc=0.471 - time 0:00:08.694932\n",
      "[Epoch 0 Batch 280/1401] loss=0.6302, lr=0.0000050, acc=0.471 - time 0:00:09.512824\n",
      "[Epoch 0 Batch 290/1401] loss=0.6169, lr=0.0000050, acc=0.473 - time 0:00:09.549346\n",
      "[Epoch 0 Batch 300/1401] loss=0.6041, lr=0.0000050, acc=0.477 - time 0:00:09.388465\n",
      "[Epoch 0 Batch 310/1401] loss=0.6477, lr=0.0000050, acc=0.479 - time 0:00:08.280198\n",
      "[Epoch 0 Batch 320/1401] loss=0.6224, lr=0.0000050, acc=0.482 - time 0:00:09.924362\n",
      "[Epoch 0 Batch 330/1401] loss=0.6367, lr=0.0000050, acc=0.486 - time 0:00:08.660914\n",
      "[Epoch 0 Batch 340/1401] loss=0.6426, lr=0.0000050, acc=0.487 - time 0:00:07.584718\n",
      "[Epoch 0 Batch 350/1401] loss=0.6270, lr=0.0000050, acc=0.489 - time 0:00:08.831706\n",
      "[Epoch 0 Batch 360/1401] loss=0.6226, lr=0.0000050, acc=0.491 - time 0:00:09.257380\n",
      "[Epoch 0 Batch 370/1401] loss=0.6233, lr=0.0000050, acc=0.492 - time 0:00:09.064127\n",
      "[Epoch 0 Batch 380/1401] loss=0.5701, lr=0.0000050, acc=0.495 - time 0:00:08.891821\n",
      "[Epoch 0 Batch 390/1401] loss=0.5738, lr=0.0000050, acc=0.499 - time 0:00:08.881220\n",
      "[Epoch 0 Batch 400/1401] loss=0.6086, lr=0.0000050, acc=0.501 - time 0:00:09.605371\n",
      "[Epoch 0 Batch 410/1401] loss=0.5768, lr=0.0000050, acc=0.504 - time 0:00:08.719671\n",
      "[Epoch 0 Batch 420/1401] loss=0.5926, lr=0.0000050, acc=0.507 - time 0:00:08.897341\n",
      "[Epoch 0 Batch 430/1401] loss=0.5560, lr=0.0000050, acc=0.509 - time 0:00:09.702768\n",
      "[Epoch 0 Batch 440/1401] loss=0.5931, lr=0.0000050, acc=0.510 - time 0:00:08.321214\n",
      "[Epoch 0 Batch 450/1401] loss=0.5680, lr=0.0000050, acc=0.511 - time 0:00:08.186764\n",
      "[Epoch 0 Batch 460/1401] loss=0.5674, lr=0.0000050, acc=0.512 - time 0:00:08.925798\n",
      "[Epoch 0 Batch 470/1401] loss=0.5992, lr=0.0000050, acc=0.512 - time 0:00:09.154077\n",
      "[Epoch 0 Batch 480/1401] loss=0.5497, lr=0.0000050, acc=0.513 - time 0:00:09.029271\n",
      "[Epoch 0 Batch 490/1401] loss=0.5819, lr=0.0000050, acc=0.514 - time 0:00:08.533181\n",
      "[Epoch 0 Batch 500/1401] loss=0.5759, lr=0.0000050, acc=0.514 - time 0:00:08.835393\n",
      "[Epoch 0 Batch 510/1401] loss=0.5842, lr=0.0000050, acc=0.512 - time 0:00:09.306729\n",
      "[Epoch 0 Batch 520/1401] loss=0.5285, lr=0.0000050, acc=0.513 - time 0:00:08.030366\n",
      "[Epoch 0 Batch 530/1401] loss=0.5245, lr=0.0000050, acc=0.513 - time 0:00:09.189753\n",
      "[Epoch 0 Batch 540/1401] loss=0.5482, lr=0.0000050, acc=0.512 - time 0:00:08.453295\n",
      "[Epoch 0 Batch 550/1401] loss=0.5590, lr=0.0000050, acc=0.511 - time 0:00:08.404944\n",
      "[Epoch 0 Batch 560/1401] loss=0.5260, lr=0.0000050, acc=0.510 - time 0:00:08.064058\n",
      "[Epoch 0 Batch 570/1401] loss=0.4791, lr=0.0000050, acc=0.509 - time 0:00:08.893376\n",
      "[Epoch 0 Batch 580/1401] loss=0.5496, lr=0.0000050, acc=0.507 - time 0:00:09.242939\n",
      "[Epoch 0 Batch 590/1401] loss=0.5089, lr=0.0000050, acc=0.505 - time 0:00:08.060473\n",
      "[Epoch 0 Batch 600/1401] loss=0.5223, lr=0.0000050, acc=0.503 - time 0:00:09.125487\n",
      "[Epoch 0 Batch 610/1401] loss=0.5241, lr=0.0000050, acc=0.501 - time 0:00:08.677449\n",
      "[Epoch 0 Batch 620/1401] loss=0.5138, lr=0.0000050, acc=0.500 - time 0:00:08.146019\n",
      "[Epoch 0 Batch 630/1401] loss=0.4774, lr=0.0000050, acc=0.497 - time 0:00:09.173367\n",
      "[Epoch 0 Batch 640/1401] loss=0.4904, lr=0.0000050, acc=0.495 - time 0:00:09.260163\n",
      "[Epoch 0 Batch 650/1401] loss=0.4557, lr=0.0000050, acc=0.493 - time 0:00:08.380315\n",
      "[Epoch 0 Batch 660/1401] loss=0.4819, lr=0.0000050, acc=0.491 - time 0:00:08.769553\n",
      "[Epoch 0 Batch 670/1401] loss=0.4388, lr=0.0000050, acc=0.488 - time 0:00:08.577257\n",
      "[Epoch 0 Batch 680/1401] loss=0.4579, lr=0.0000050, acc=0.485 - time 0:00:08.847959\n",
      "[Epoch 0 Batch 690/1401] loss=0.5042, lr=0.0000050, acc=0.482 - time 0:00:08.508184\n",
      "[Epoch 0 Batch 700/1401] loss=0.4304, lr=0.0000050, acc=0.480 - time 0:00:08.977383\n",
      "[Epoch 0 Batch 710/1401] loss=0.4428, lr=0.0000050, acc=0.478 - time 0:00:09.625508\n",
      "[Epoch 0 Batch 720/1401] loss=0.4240, lr=0.0000050, acc=0.474 - time 0:00:09.468139\n",
      "[Epoch 0 Batch 730/1401] loss=0.3891, lr=0.0000050, acc=0.471 - time 0:00:07.965165\n",
      "[Epoch 0 Batch 740/1401] loss=0.4090, lr=0.0000050, acc=0.468 - time 0:00:08.732946\n",
      "[Epoch 0 Batch 750/1401] loss=0.4067, lr=0.0000050, acc=0.465 - time 0:00:09.603657\n",
      "[Epoch 0 Batch 760/1401] loss=0.3899, lr=0.0000050, acc=0.462 - time 0:00:08.254062\n",
      "[Epoch 0 Batch 770/1401] loss=0.3871, lr=0.0000050, acc=0.459 - time 0:00:09.126852\n",
      "[Epoch 0 Batch 780/1401] loss=0.4213, lr=0.0000050, acc=0.456 - time 0:00:09.310241\n",
      "[Epoch 0 Batch 790/1401] loss=0.4345, lr=0.0000050, acc=0.453 - time 0:00:09.553167\n",
      "[Epoch 0 Batch 800/1401] loss=0.3833, lr=0.0000050, acc=0.451 - time 0:00:08.124529\n",
      "[Epoch 0 Batch 810/1401] loss=0.4607, lr=0.0000050, acc=0.449 - time 0:00:09.301586\n",
      "[Epoch 0 Batch 820/1401] loss=0.3727, lr=0.0000050, acc=0.446 - time 0:00:08.565724\n",
      "[Epoch 0 Batch 830/1401] loss=0.4362, lr=0.0000050, acc=0.443 - time 0:00:07.875979\n",
      "[Epoch 0 Batch 840/1401] loss=0.3001, lr=0.0000050, acc=0.440 - time 0:00:08.640940\n",
      "[Epoch 0 Batch 850/1401] loss=0.3882, lr=0.0000050, acc=0.437 - time 0:00:09.304402\n",
      "[Epoch 0 Batch 860/1401] loss=0.3735, lr=0.0000050, acc=0.434 - time 0:00:08.486773\n",
      "[Epoch 0 Batch 870/1401] loss=0.3885, lr=0.0000050, acc=0.432 - time 0:00:08.675785\n",
      "[Epoch 0 Batch 880/1401] loss=0.3649, lr=0.0000050, acc=0.429 - time 0:00:08.695233\n",
      "[Epoch 0 Batch 890/1401] loss=0.3528, lr=0.0000050, acc=0.427 - time 0:00:08.557170\n",
      "[Epoch 0 Batch 900/1401] loss=0.3869, lr=0.0000050, acc=0.425 - time 0:00:08.615143\n",
      "[Epoch 0 Batch 910/1401] loss=0.4250, lr=0.0000050, acc=0.424 - time 0:00:09.116528\n",
      "[Epoch 0 Batch 920/1401] loss=0.3466, lr=0.0000050, acc=0.421 - time 0:00:09.138235\n",
      "[Epoch 0 Batch 930/1401] loss=0.4161, lr=0.0000050, acc=0.419 - time 0:00:08.433279\n",
      "[Epoch 0 Batch 940/1401] loss=0.3296, lr=0.0000050, acc=0.417 - time 0:00:08.470453\n",
      "[Epoch 0 Batch 950/1401] loss=0.2808, lr=0.0000050, acc=0.415 - time 0:00:08.495896\n",
      "[Epoch 0 Batch 960/1401] loss=0.3787, lr=0.0000050, acc=0.413 - time 0:00:08.996963\n",
      "[Epoch 0 Batch 970/1401] loss=0.2976, lr=0.0000050, acc=0.411 - time 0:00:08.270712\n",
      "[Epoch 0 Batch 980/1401] loss=0.3608, lr=0.0000050, acc=0.409 - time 0:00:09.028319\n"
     ]
    },
    {
     "name": "stdout",
     "output_type": "stream",
     "text": [
      "[Epoch 0 Batch 990/1401] loss=0.2926, lr=0.0000050, acc=0.407 - time 0:00:08.088883\n",
      "[Epoch 0 Batch 1000/1401] loss=0.3217, lr=0.0000050, acc=0.406 - time 0:00:08.129474\n",
      "[Epoch 0 Batch 1010/1401] loss=0.2905, lr=0.0000050, acc=0.404 - time 0:00:08.431885\n",
      "[Epoch 0 Batch 1020/1401] loss=0.3038, lr=0.0000050, acc=0.403 - time 0:00:08.558315\n",
      "[Epoch 0 Batch 1030/1401] loss=0.4075, lr=0.0000050, acc=0.401 - time 0:00:08.855155\n",
      "[Epoch 0 Batch 1040/1401] loss=0.4302, lr=0.0000050, acc=0.399 - time 0:00:09.697773\n",
      "[Epoch 0 Batch 1050/1401] loss=0.2672, lr=0.0000050, acc=0.398 - time 0:00:08.453356\n",
      "[Epoch 0 Batch 1060/1401] loss=0.3099, lr=0.0000050, acc=0.396 - time 0:00:08.680097\n",
      "[Epoch 0 Batch 1070/1401] loss=0.3031, lr=0.0000050, acc=0.394 - time 0:00:09.012539\n",
      "[Epoch 0 Batch 1080/1401] loss=0.2982, lr=0.0000050, acc=0.392 - time 0:00:08.895362\n",
      "[Epoch 0 Batch 1090/1401] loss=0.3654, lr=0.0000050, acc=0.391 - time 0:00:08.804142\n",
      "[Epoch 0 Batch 1100/1401] loss=0.3949, lr=0.0000050, acc=0.389 - time 0:00:08.601318\n",
      "[Epoch 0 Batch 1110/1401] loss=0.3720, lr=0.0000050, acc=0.388 - time 0:00:09.213891\n",
      "[Epoch 0 Batch 1120/1401] loss=0.2600, lr=0.0000050, acc=0.387 - time 0:00:08.758957\n",
      "[Epoch 0 Batch 1130/1401] loss=0.3194, lr=0.0000050, acc=0.385 - time 0:00:08.446468\n",
      "[Epoch 0 Batch 1140/1401] loss=0.3764, lr=0.0000050, acc=0.384 - time 0:00:09.393898\n",
      "[Epoch 0 Batch 1150/1401] loss=0.3182, lr=0.0000050, acc=0.382 - time 0:00:09.324673\n",
      "[Epoch 0 Batch 1160/1401] loss=0.3198, lr=0.0000050, acc=0.381 - time 0:00:08.376771\n",
      "[Epoch 0 Batch 1170/1401] loss=0.3547, lr=0.0000050, acc=0.380 - time 0:00:08.951114\n",
      "[Epoch 0 Batch 1180/1401] loss=0.3552, lr=0.0000050, acc=0.379 - time 0:00:09.282899\n",
      "[Epoch 0 Batch 1190/1401] loss=0.3874, lr=0.0000050, acc=0.377 - time 0:00:09.085943\n",
      "[Epoch 0 Batch 1200/1401] loss=0.4218, lr=0.0000050, acc=0.376 - time 0:00:08.806474\n",
      "[Epoch 0 Batch 1210/1401] loss=0.2497, lr=0.0000050, acc=0.375 - time 0:00:08.036412\n",
      "[Epoch 0 Batch 1220/1401] loss=0.2969, lr=0.0000050, acc=0.373 - time 0:00:09.544911\n",
      "[Epoch 0 Batch 1230/1401] loss=0.3370, lr=0.0000050, acc=0.372 - time 0:00:08.327117\n",
      "[Epoch 0 Batch 1240/1401] loss=0.3654, lr=0.0000050, acc=0.371 - time 0:00:10.187157\n",
      "[Epoch 0 Batch 1250/1401] loss=0.2764, lr=0.0000050, acc=0.370 - time 0:00:09.080087\n",
      "[Epoch 0 Batch 1260/1401] loss=0.3283, lr=0.0000050, acc=0.368 - time 0:00:09.140939\n",
      "[Epoch 0 Batch 1270/1401] loss=0.3249, lr=0.0000050, acc=0.367 - time 0:00:08.943621\n",
      "[Epoch 0 Batch 1280/1401] loss=0.3463, lr=0.0000050, acc=0.366 - time 0:00:09.668477\n",
      "[Epoch 0 Batch 1290/1401] loss=0.3273, lr=0.0000050, acc=0.365 - time 0:00:11.424774\n",
      "[Epoch 0 Batch 1300/1401] loss=0.3221, lr=0.0000050, acc=0.364 - time 0:00:08.307459\n",
      "[Epoch 0 Batch 1310/1401] loss=0.2661, lr=0.0000050, acc=0.363 - time 0:00:10.633979\n",
      "[Epoch 0 Batch 1320/1401] loss=0.3444, lr=0.0000050, acc=0.362 - time 0:00:09.378367\n",
      "[Epoch 0 Batch 1330/1401] loss=0.2691, lr=0.0000050, acc=0.360 - time 0:00:09.770417\n",
      "[Epoch 0 Batch 1340/1401] loss=0.2741, lr=0.0000050, acc=0.359 - time 0:00:11.481256\n",
      "[Epoch 0 Batch 1350/1401] loss=0.3595, lr=0.0000050, acc=0.358 - time 0:00:08.981510\n",
      "[Epoch 0 Batch 1360/1401] loss=0.2812, lr=0.0000050, acc=0.357 - time 0:00:10.398770\n",
      "[Epoch 0 Batch 1370/1401] loss=0.3420, lr=0.0000050, acc=0.356 - time 0:00:10.231195\n",
      "[Epoch 0 Batch 1380/1401] loss=0.3284, lr=0.0000050, acc=0.355 - time 0:00:09.349187\n",
      "[Epoch 0 Batch 1390/1401] loss=0.3322, lr=0.0000050, acc=0.354 - time 0:00:11.356540\n",
      "[Epoch 0 Batch 1400/1401] loss=0.2967, lr=0.0000050, acc=0.353 - time 0:00:08.574019\n",
      "Time for [epoch 0]: 0:20:54.079034\n",
      "Time for [training]: 0:21:00.117923\n"
     ]
    },
    {
     "data": {
      "image/png": "[encoded data removed]",
      "text/plain": [
       "<Figure size 432x288 with 2 Axes>"
      ]
     },
     "metadata": {
      "needs_background": "light"
     },
     "output_type": "display_data"
    },
    {
     "name": "stderr",
     "output_type": "stream",
     "text": [
      "\r",
      "  0%|          | 0/600 [00:00<?, ?it/s]"
     ]
    },
    {
     "name": "stdout",
     "output_type": "stream",
     "text": [
      "Time for [4 - train model - 0]: 0:24:45.699748\n"
     ]
    },
    {
     "name": "stderr",
     "output_type": "stream",
     "text": [
      "100%|██████████| 600/600 [04:04<00:00,  2.46it/s]\n"
     ]
    },
    {
     "name": "stdout",
     "output_type": "stream",
     "text": [
      "Time for [prediction]: 0:04:04.280435\n",
      "Accuracy in epoch 0: 0.19701632674351885\n",
      "Confusion Matrix:\n",
      "[[7988  845]\n",
      " [2345 7993]]\n",
      "\n",
      "Accuracy:  0.83 \n",
      "\n",
      "Report for [BERTClassifier]:\n",
      "              precision    recall  f1-score   support\n",
      "\n",
      "           0       0.77      0.90      0.83      8833\n",
      "           1       0.90      0.77      0.83     10338\n",
      "\n",
      "    accuracy                           0.83     19171\n",
      "   macro avg       0.84      0.84      0.83     19171\n",
      "weighted avg       0.84      0.83      0.83     19171\n",
      "\n",
      "Time for [6 - evaluate - 0]: 0:04:04.523398\n"
     ]
    },
    {
     "name": "stderr",
     "output_type": "stream",
     "text": [
      "100%|██████████| 44732/44732 [04:59<00:00, 149.57it/s]\n"
     ]
    },
    {
     "name": "stdout",
     "output_type": "stream",
     "text": [
      "Time for [setup training]: 0:04:59.103166\n",
      "loaded checkpoint for epoch 0\n",
      "[Epoch 1 Batch 10/1401] loss=0.3285, lr=0.0000050, acc=0.250 - time 0:00:10.745124\n",
      "[Epoch 1 Batch 20/1401] loss=0.2673, lr=0.0000050, acc=0.233 - time 0:00:09.112513\n",
      "[Epoch 1 Batch 30/1401] loss=0.2888, lr=0.0000050, acc=0.226 - time 0:00:09.778834\n",
      "[Epoch 1 Batch 40/1401] loss=0.3274, lr=0.0000050, acc=0.207 - time 0:00:11.053503\n",
      "[Epoch 1 Batch 50/1401] loss=0.2353, lr=0.0000050, acc=0.201 - time 0:00:09.047440\n",
      "[Epoch 1 Batch 60/1401] loss=0.3437, lr=0.0000050, acc=0.205 - time 0:00:10.055071\n",
      "[Epoch 1 Batch 70/1401] loss=0.3335, lr=0.0000050, acc=0.202 - time 0:00:11.160190\n",
      "[Epoch 1 Batch 80/1401] loss=0.3127, lr=0.0000050, acc=0.212 - time 0:00:09.679897\n",
      "[Epoch 1 Batch 90/1401] loss=0.3487, lr=0.0000050, acc=0.215 - time 0:00:11.083546\n",
      "[Epoch 1 Batch 100/1401] loss=0.2882, lr=0.0000050, acc=0.211 - time 0:00:10.695992\n",
      "[Epoch 1 Batch 110/1401] loss=0.2887, lr=0.0000050, acc=0.209 - time 0:00:08.072761\n",
      "[Epoch 1 Batch 120/1401] loss=0.3682, lr=0.0000050, acc=0.214 - time 0:00:11.223548\n",
      "[Epoch 1 Batch 130/1401] loss=0.2451, lr=0.0000050, acc=0.210 - time 0:00:09.841661\n",
      "[Epoch 1 Batch 140/1401] loss=0.1780, lr=0.0000050, acc=0.203 - time 0:00:07.772508\n",
      "[Epoch 1 Batch 150/1401] loss=0.3252, lr=0.0000050, acc=0.203 - time 0:00:10.952634\n",
      "[Epoch 1 Batch 160/1401] loss=0.2416, lr=0.0000050, acc=0.202 - time 0:00:08.089877\n",
      "[Epoch 1 Batch 170/1401] loss=0.2364, lr=0.0000050, acc=0.199 - time 0:00:09.867903\n",
      "[Epoch 1 Batch 180/1401] loss=0.3682, lr=0.0000050, acc=0.205 - time 0:00:10.571784\n",
      "[Epoch 1 Batch 190/1401] loss=0.3632, lr=0.0000050, acc=0.204 - time 0:00:09.855268\n",
      "[Epoch 1 Batch 200/1401] loss=0.2465, lr=0.0000050, acc=0.202 - time 0:00:11.055343\n",
      "[Epoch 1 Batch 210/1401] loss=0.2374, lr=0.0000050, acc=0.200 - time 0:00:09.206355\n",
      "[Epoch 1 Batch 220/1401] loss=0.2467, lr=0.0000050, acc=0.197 - time 0:00:09.678246\n",
      "[Epoch 1 Batch 230/1401] loss=0.2600, lr=0.0000050, acc=0.197 - time 0:00:10.379255\n",
      "[Epoch 1 Batch 240/1401] loss=0.2748, lr=0.0000050, acc=0.195 - time 0:00:08.442321\n",
      "[Epoch 1 Batch 250/1401] loss=0.2907, lr=0.0000050, acc=0.195 - time 0:00:11.053504\n",
      "[Epoch 1 Batch 260/1401] loss=0.3083, lr=0.0000050, acc=0.195 - time 0:00:09.300167\n",
      "[Epoch 1 Batch 270/1401] loss=0.3691, lr=0.0000050, acc=0.196 - time 0:00:10.190176\n",
      "[Epoch 1 Batch 280/1401] loss=0.2528, lr=0.0000050, acc=0.193 - time 0:00:10.510293\n",
      "[Epoch 1 Batch 290/1401] loss=0.2601, lr=0.0000050, acc=0.194 - time 0:00:08.759516\n",
      "[Epoch 1 Batch 300/1401] loss=0.3904, lr=0.0000050, acc=0.196 - time 0:00:11.039772\n",
      "[Epoch 1 Batch 310/1401] loss=0.3220, lr=0.0000050, acc=0.197 - time 0:00:11.442766\n",
      "[Epoch 1 Batch 320/1401] loss=0.2519, lr=0.0000050, acc=0.197 - time 0:00:08.637210\n",
      "[Epoch 1 Batch 330/1401] loss=0.3353, lr=0.0000050, acc=0.199 - time 0:00:10.693243\n",
      "[Epoch 1 Batch 340/1401] loss=0.3685, lr=0.0000050, acc=0.200 - time 0:00:11.249684\n",
      "[Epoch 1 Batch 350/1401] loss=0.3080, lr=0.0000050, acc=0.201 - time 0:00:08.828282\n",
      "[Epoch 1 Batch 360/1401] loss=0.3568, lr=0.0000050, acc=0.201 - time 0:00:11.678977\n",
      "[Epoch 1 Batch 370/1401] loss=0.2927, lr=0.0000050, acc=0.201 - time 0:00:11.008245\n",
      "[Epoch 1 Batch 380/1401] loss=0.3652, lr=0.0000050, acc=0.201 - time 0:00:09.664004\n",
      "[Epoch 1 Batch 390/1401] loss=0.2978, lr=0.0000050, acc=0.200 - time 0:00:11.264887\n",
      "[Epoch 1 Batch 400/1401] loss=0.2279, lr=0.0000050, acc=0.199 - time 0:00:09.867201\n",
      "[Epoch 1 Batch 410/1401] loss=0.3031, lr=0.0000050, acc=0.200 - time 0:00:09.105078\n",
      "[Epoch 1 Batch 420/1401] loss=0.1622, lr=0.0000050, acc=0.198 - time 0:00:09.405606\n",
      "[Epoch 1 Batch 430/1401] loss=0.3188, lr=0.0000050, acc=0.199 - time 0:00:08.614706\n",
      "[Epoch 1 Batch 440/1401] loss=0.2419, lr=0.0000050, acc=0.199 - time 0:00:10.707816\n",
      "[Epoch 1 Batch 450/1401] loss=0.2240, lr=0.0000050, acc=0.197 - time 0:00:09.800381\n",
      "[Epoch 1 Batch 460/1401] loss=0.3330, lr=0.0000050, acc=0.197 - time 0:00:09.100473\n",
      "[Epoch 1 Batch 470/1401] loss=0.2844, lr=0.0000050, acc=0.197 - time 0:00:11.595907\n",
      "[Epoch 1 Batch 480/1401] loss=0.2342, lr=0.0000050, acc=0.196 - time 0:00:08.674691\n",
      "[Epoch 1 Batch 490/1401] loss=0.3338, lr=0.0000050, acc=0.197 - time 0:00:11.049456\n",
      "[Epoch 1 Batch 500/1401] loss=0.1867, lr=0.0000050, acc=0.196 - time 0:00:10.808179\n",
      "[Epoch 1 Batch 510/1401] loss=0.2456, lr=0.0000050, acc=0.196 - time 0:00:08.304201\n",
      "[Epoch 1 Batch 520/1401] loss=0.2054, lr=0.0000050, acc=0.194 - time 0:00:09.927865\n",
      "[Epoch 1 Batch 530/1401] loss=0.3535, lr=0.0000050, acc=0.194 - time 0:00:10.149120\n",
      "[Epoch 1 Batch 540/1401] loss=0.2643, lr=0.0000050, acc=0.194 - time 0:00:08.971656\n",
      "[Epoch 1 Batch 550/1401] loss=0.3425, lr=0.0000050, acc=0.194 - time 0:00:11.785364\n",
      "[Epoch 1 Batch 560/1401] loss=0.2414, lr=0.0000050, acc=0.195 - time 0:00:10.362207\n",
      "[Epoch 1 Batch 570/1401] loss=0.3681, lr=0.0000050, acc=0.195 - time 0:00:10.132812\n",
      "[Epoch 1 Batch 580/1401] loss=0.1906, lr=0.0000050, acc=0.193 - time 0:00:09.958824\n",
      "[Epoch 1 Batch 590/1401] loss=0.2610, lr=0.0000050, acc=0.192 - time 0:00:09.063228\n",
      "[Epoch 1 Batch 600/1401] loss=0.3108, lr=0.0000050, acc=0.192 - time 0:00:09.720407\n",
      "[Epoch 1 Batch 610/1401] loss=0.2219, lr=0.0000050, acc=0.191 - time 0:00:10.117588\n",
      "[Epoch 1 Batch 620/1401] loss=0.3393, lr=0.0000050, acc=0.193 - time 0:00:09.432645\n",
      "[Epoch 1 Batch 630/1401] loss=0.2497, lr=0.0000050, acc=0.192 - time 0:00:10.412210\n",
      "[Epoch 1 Batch 640/1401] loss=0.2300, lr=0.0000050, acc=0.191 - time 0:00:10.973882\n",
      "[Epoch 1 Batch 650/1401] loss=0.1777, lr=0.0000050, acc=0.190 - time 0:00:08.357484\n",
      "[Epoch 1 Batch 660/1401] loss=0.1861, lr=0.0000050, acc=0.189 - time 0:00:09.611550\n",
      "[Epoch 1 Batch 670/1401] loss=0.2734, lr=0.0000050, acc=0.189 - time 0:00:09.963814\n",
      "[Epoch 1 Batch 680/1401] loss=0.2991, lr=0.0000050, acc=0.189 - time 0:00:09.526455\n",
      "[Epoch 1 Batch 690/1401] loss=0.2099, lr=0.0000050, acc=0.188 - time 0:00:10.382575\n",
      "[Epoch 1 Batch 700/1401] loss=0.1479, lr=0.0000050, acc=0.187 - time 0:00:08.456086\n",
      "[Epoch 1 Batch 710/1401] loss=0.3343, lr=0.0000050, acc=0.187 - time 0:00:10.229602\n",
      "[Epoch 1 Batch 720/1401] loss=0.2204, lr=0.0000050, acc=0.186 - time 0:00:09.931062\n",
      "[Epoch 1 Batch 730/1401] loss=0.1956, lr=0.0000050, acc=0.185 - time 0:00:08.226466\n",
      "[Epoch 1 Batch 740/1401] loss=0.2718, lr=0.0000050, acc=0.185 - time 0:00:10.128422\n",
      "[Epoch 1 Batch 750/1401] loss=0.1998, lr=0.0000050, acc=0.184 - time 0:00:09.831181\n",
      "[Epoch 1 Batch 760/1401] loss=0.3494, lr=0.0000050, acc=0.185 - time 0:00:09.681670\n",
      "[Epoch 1 Batch 770/1401] loss=0.2233, lr=0.0000050, acc=0.184 - time 0:00:10.612628\n",
      "[Epoch 1 Batch 780/1401] loss=0.2875, lr=0.0000050, acc=0.185 - time 0:00:09.604005\n",
      "[Epoch 1 Batch 790/1401] loss=0.1802, lr=0.0000050, acc=0.183 - time 0:00:08.781667\n",
      "[Epoch 1 Batch 800/1401] loss=0.2674, lr=0.0000050, acc=0.183 - time 0:00:11.833735\n",
      "[Epoch 1 Batch 810/1401] loss=0.2809, lr=0.0000050, acc=0.183 - time 0:00:09.348145\n",
      "[Epoch 1 Batch 820/1401] loss=0.3563, lr=0.0000050, acc=0.184 - time 0:00:10.490632\n",
      "[Epoch 1 Batch 830/1401] loss=0.1773, lr=0.0000050, acc=0.183 - time 0:00:10.096837\n",
      "[Epoch 1 Batch 840/1401] loss=0.3151, lr=0.0000050, acc=0.184 - time 0:00:09.276035\n",
      "[Epoch 1 Batch 850/1401] loss=0.2862, lr=0.0000050, acc=0.184 - time 0:00:10.371229\n",
      "[Epoch 1 Batch 860/1401] loss=0.2347, lr=0.0000050, acc=0.184 - time 0:00:09.618770\n",
      "[Epoch 1 Batch 870/1401] loss=0.2393, lr=0.0000050, acc=0.184 - time 0:00:08.567267\n",
      "[Epoch 1 Batch 880/1401] loss=0.2428, lr=0.0000050, acc=0.184 - time 0:00:11.124795\n",
      "[Epoch 1 Batch 890/1401] loss=0.3393, lr=0.0000050, acc=0.184 - time 0:00:10.367919\n",
      "[Epoch 1 Batch 900/1401] loss=0.2728, lr=0.0000050, acc=0.184 - time 0:00:09.012828\n",
      "[Epoch 1 Batch 910/1401] loss=0.2983, lr=0.0000050, acc=0.185 - time 0:00:11.008251\n",
      "[Epoch 1 Batch 920/1401] loss=0.3114, lr=0.0000050, acc=0.184 - time 0:00:09.306910\n",
      "[Epoch 1 Batch 930/1401] loss=0.2910, lr=0.0000050, acc=0.185 - time 0:00:09.963758\n",
      "[Epoch 1 Batch 940/1401] loss=0.2475, lr=0.0000050, acc=0.184 - time 0:00:10.228691\n",
      "[Epoch 1 Batch 950/1401] loss=0.2325, lr=0.0000050, acc=0.184 - time 0:00:08.368430\n",
      "[Epoch 1 Batch 960/1401] loss=0.1796, lr=0.0000050, acc=0.183 - time 0:00:09.893580\n",
      "[Epoch 1 Batch 970/1401] loss=0.2756, lr=0.0000050, acc=0.183 - time 0:00:09.575079\n"
     ]
    },
    {
     "name": "stdout",
     "output_type": "stream",
     "text": [
      "[Epoch 1 Batch 980/1401] loss=0.1835, lr=0.0000050, acc=0.182 - time 0:00:09.166056\n",
      "[Epoch 1 Batch 990/1401] loss=0.2422, lr=0.0000050, acc=0.182 - time 0:00:09.917886\n",
      "[Epoch 1 Batch 1000/1401] loss=0.1963, lr=0.0000050, acc=0.182 - time 0:00:08.092595\n",
      "[Epoch 1 Batch 1010/1401] loss=0.2855, lr=0.0000050, acc=0.182 - time 0:00:11.438907\n",
      "[Epoch 1 Batch 1020/1401] loss=0.3186, lr=0.0000050, acc=0.182 - time 0:00:10.357720\n",
      "[Epoch 1 Batch 1030/1401] loss=0.3108, lr=0.0000050, acc=0.183 - time 0:00:09.921207\n",
      "[Epoch 1 Batch 1040/1401] loss=0.3255, lr=0.0000050, acc=0.183 - time 0:00:12.349589\n",
      "[Epoch 1 Batch 1050/1401] loss=0.2212, lr=0.0000050, acc=0.183 - time 0:00:09.279396\n",
      "[Epoch 1 Batch 1060/1401] loss=0.3276, lr=0.0000050, acc=0.183 - time 0:00:09.290304\n",
      "[Epoch 1 Batch 1070/1401] loss=0.2357, lr=0.0000050, acc=0.183 - time 0:00:09.418319\n",
      "[Epoch 1 Batch 1080/1401] loss=0.2586, lr=0.0000050, acc=0.183 - time 0:00:08.628220\n",
      "[Epoch 1 Batch 1090/1401] loss=0.2491, lr=0.0000050, acc=0.183 - time 0:00:11.745466\n",
      "[Epoch 1 Batch 1100/1401] loss=0.3424, lr=0.0000050, acc=0.183 - time 0:00:10.513611\n",
      "[Epoch 1 Batch 1110/1401] loss=0.1289, lr=0.0000050, acc=0.182 - time 0:00:08.722069\n",
      "[Epoch 1 Batch 1120/1401] loss=0.2721, lr=0.0000050, acc=0.182 - time 0:00:11.566094\n",
      "[Epoch 1 Batch 1130/1401] loss=0.3129, lr=0.0000050, acc=0.183 - time 0:00:09.014949\n",
      "[Epoch 1 Batch 1140/1401] loss=0.1873, lr=0.0000050, acc=0.182 - time 0:00:10.850481\n",
      "[Epoch 1 Batch 1150/1401] loss=0.3256, lr=0.0000050, acc=0.183 - time 0:00:11.035678\n",
      "[Epoch 1 Batch 1160/1401] loss=0.2637, lr=0.0000050, acc=0.183 - time 0:00:08.712198\n",
      "[Epoch 1 Batch 1170/1401] loss=0.2681, lr=0.0000050, acc=0.182 - time 0:00:11.053264\n",
      "[Epoch 1 Batch 1180/1401] loss=0.1637, lr=0.0000050, acc=0.182 - time 0:00:08.417034\n",
      "[Epoch 1 Batch 1190/1401] loss=0.2163, lr=0.0000050, acc=0.182 - time 0:00:09.622216\n",
      "[Epoch 1 Batch 1200/1401] loss=0.3209, lr=0.0000050, acc=0.182 - time 0:00:10.692971\n",
      "[Epoch 1 Batch 1210/1401] loss=0.3075, lr=0.0000050, acc=0.182 - time 0:00:08.835058\n",
      "[Epoch 1 Batch 1220/1401] loss=0.3283, lr=0.0000050, acc=0.182 - time 0:00:11.513301\n",
      "[Epoch 1 Batch 1230/1401] loss=0.3126, lr=0.0000050, acc=0.182 - time 0:00:09.755555\n",
      "[Epoch 1 Batch 1240/1401] loss=0.2603, lr=0.0000050, acc=0.182 - time 0:00:09.490705\n",
      "[Epoch 1 Batch 1250/1401] loss=0.3303, lr=0.0000050, acc=0.183 - time 0:00:11.663053\n",
      "[Epoch 1 Batch 1260/1401] loss=0.2767, lr=0.0000050, acc=0.183 - time 0:00:09.147196\n",
      "[Epoch 1 Batch 1270/1401] loss=0.2272, lr=0.0000050, acc=0.183 - time 0:00:10.464663\n",
      "[Epoch 1 Batch 1280/1401] loss=0.2575, lr=0.0000050, acc=0.182 - time 0:00:10.064737\n",
      "[Epoch 1 Batch 1290/1401] loss=0.2093, lr=0.0000050, acc=0.182 - time 0:00:08.737076\n",
      "[Epoch 1 Batch 1300/1401] loss=0.2178, lr=0.0000050, acc=0.182 - time 0:00:10.327818\n",
      "[Epoch 1 Batch 1310/1401] loss=0.2757, lr=0.0000050, acc=0.181 - time 0:00:08.695940\n",
      "[Epoch 1 Batch 1320/1401] loss=0.3673, lr=0.0000050, acc=0.182 - time 0:00:11.325280\n",
      "[Epoch 1 Batch 1330/1401] loss=0.2374, lr=0.0000050, acc=0.182 - time 0:00:11.508394\n",
      "[Epoch 1 Batch 1340/1401] loss=0.2273, lr=0.0000050, acc=0.181 - time 0:00:08.007823\n",
      "[Epoch 1 Batch 1350/1401] loss=0.2949, lr=0.0000050, acc=0.181 - time 0:00:10.990089\n",
      "[Epoch 1 Batch 1360/1401] loss=0.3132, lr=0.0000050, acc=0.182 - time 0:00:10.497178\n",
      "[Epoch 1 Batch 1370/1401] loss=0.2437, lr=0.0000050, acc=0.181 - time 0:00:09.473145\n",
      "[Epoch 1 Batch 1380/1401] loss=0.2838, lr=0.0000050, acc=0.181 - time 0:00:11.266824\n",
      "[Epoch 1 Batch 1390/1401] loss=0.2756, lr=0.0000050, acc=0.182 - time 0:00:08.446058\n",
      "[Epoch 1 Batch 1400/1401] loss=0.1310, lr=0.0000050, acc=0.181 - time 0:00:10.286868\n",
      "Time for [epoch 1]: 0:23:13.865522\n",
      "Time for [training]: 0:23:14.451770\n"
     ]
    },
    {
     "data": {
      "image/png": "[encoded data removed]",
      "text/plain": [
       "<Figure size 432x288 with 2 Axes>"
      ]
     },
     "metadata": {
      "needs_background": "light"
     },
     "output_type": "display_data"
    },
    {
     "name": "stderr",
     "output_type": "stream",
     "text": [
      "\r",
      "  0%|          | 0/600 [00:00<?, ?it/s]"
     ]
    },
    {
     "name": "stdout",
     "output_type": "stream",
     "text": [
      "Time for [4 - train model - 1]: 0:28:13.717215\n"
     ]
    },
    {
     "name": "stderr",
     "output_type": "stream",
     "text": [
      "100%|██████████| 600/600 [04:10<00:00,  2.39it/s]\n"
     ]
    },
    {
     "name": "stdout",
     "output_type": "stream",
     "text": [
      "Time for [prediction]: 0:04:10.848778\n",
      "Accuracy in epoch 1: 0.1519482551770904\n",
      "Confusion Matrix:\n",
      "[[8182  651]\n",
      " [2370 7968]]\n",
      "\n",
      "Accuracy:  0.84 \n",
      "\n",
      "Report for [BERTClassifier]:\n",
      "              precision    recall  f1-score   support\n",
      "\n",
      "           0       0.78      0.93      0.84      8833\n",
      "           1       0.92      0.77      0.84     10338\n",
      "\n",
      "    accuracy                           0.84     19171\n",
      "   macro avg       0.85      0.85      0.84     19171\n",
      "weighted avg       0.86      0.84      0.84     19171\n",
      "\n",
      "Time for [6 - evaluate - 1]: 0:04:11.020348\n"
     ]
    },
    {
     "name": "stderr",
     "output_type": "stream",
     "text": [
      "100%|██████████| 44732/44732 [05:01<00:00, 148.51it/s]\n"
     ]
    },
    {
     "name": "stdout",
     "output_type": "stream",
     "text": [
      "Time for [setup training]: 0:05:01.231010\n",
      "loaded checkpoint for epoch 0\n",
      "loaded checkpoint for epoch 1\n",
      "[Epoch 2 Batch 10/1401] loss=0.2972, lr=0.0000050, acc=0.178 - time 0:00:09.485846\n",
      "[Epoch 2 Batch 20/1401] loss=0.2645, lr=0.0000050, acc=0.173 - time 0:00:09.456458\n",
      "[Epoch 2 Batch 30/1401] loss=0.2152, lr=0.0000050, acc=0.143 - time 0:00:07.889599\n",
      "[Epoch 2 Batch 40/1401] loss=0.1942, lr=0.0000050, acc=0.142 - time 0:00:09.810235\n",
      "[Epoch 2 Batch 50/1401] loss=0.1889, lr=0.0000050, acc=0.137 - time 0:00:08.419495\n",
      "[Epoch 2 Batch 60/1401] loss=0.3338, lr=0.0000050, acc=0.145 - time 0:00:09.014098\n",
      "[Epoch 2 Batch 70/1401] loss=0.2845, lr=0.0000050, acc=0.156 - time 0:00:09.980943\n",
      "[Epoch 2 Batch 80/1401] loss=0.2621, lr=0.0000050, acc=0.156 - time 0:00:09.478998\n",
      "[Epoch 2 Batch 90/1401] loss=0.2602, lr=0.0000050, acc=0.155 - time 0:00:08.059942\n",
      "[Epoch 2 Batch 100/1401] loss=0.2198, lr=0.0000050, acc=0.154 - time 0:00:09.254570\n",
      "[Epoch 2 Batch 110/1401] loss=0.2194, lr=0.0000050, acc=0.156 - time 0:00:08.894603\n",
      "[Epoch 2 Batch 120/1401] loss=0.2332, lr=0.0000050, acc=0.157 - time 0:00:08.290487\n",
      "[Epoch 2 Batch 130/1401] loss=0.2496, lr=0.0000050, acc=0.154 - time 0:00:09.520565\n",
      "[Epoch 2 Batch 140/1401] loss=0.2256, lr=0.0000050, acc=0.151 - time 0:00:09.157937\n",
      "[Epoch 2 Batch 150/1401] loss=0.2318, lr=0.0000050, acc=0.153 - time 0:00:08.384532\n",
      "[Epoch 2 Batch 160/1401] loss=0.2136, lr=0.0000050, acc=0.151 - time 0:00:09.181887\n",
      "[Epoch 2 Batch 170/1401] loss=0.2727, lr=0.0000050, acc=0.153 - time 0:00:09.872802\n",
      "[Epoch 2 Batch 180/1401] loss=0.2464, lr=0.0000050, acc=0.153 - time 0:00:08.850291\n",
      "[Epoch 2 Batch 190/1401] loss=0.2525, lr=0.0000050, acc=0.153 - time 0:00:08.798485\n",
      "[Epoch 2 Batch 200/1401] loss=0.3412, lr=0.0000050, acc=0.156 - time 0:00:10.362048\n",
      "[Epoch 2 Batch 210/1401] loss=0.2132, lr=0.0000050, acc=0.155 - time 0:00:09.237299\n",
      "[Epoch 2 Batch 220/1401] loss=0.2025, lr=0.0000050, acc=0.153 - time 0:00:07.999501\n",
      "[Epoch 2 Batch 230/1401] loss=0.2340, lr=0.0000050, acc=0.153 - time 0:00:09.469194\n",
      "[Epoch 2 Batch 240/1401] loss=0.2681, lr=0.0000050, acc=0.154 - time 0:00:09.859321\n",
      "[Epoch 2 Batch 250/1401] loss=0.2592, lr=0.0000050, acc=0.155 - time 0:00:08.228024\n",
      "[Epoch 2 Batch 260/1401] loss=0.2517, lr=0.0000050, acc=0.153 - time 0:00:09.363252\n",
      "[Epoch 2 Batch 270/1401] loss=0.2316, lr=0.0000050, acc=0.153 - time 0:00:09.384668\n",
      "[Epoch 2 Batch 280/1401] loss=0.1511, lr=0.0000050, acc=0.153 - time 0:00:07.753087\n",
      "[Epoch 2 Batch 290/1401] loss=0.2564, lr=0.0000050, acc=0.153 - time 0:00:10.159323\n",
      "[Epoch 2 Batch 300/1401] loss=0.3005, lr=0.0000050, acc=0.154 - time 0:00:10.028629\n",
      "[Epoch 2 Batch 310/1401] loss=0.1604, lr=0.0000050, acc=0.152 - time 0:00:07.795315\n",
      "[Epoch 2 Batch 320/1401] loss=0.1959, lr=0.0000050, acc=0.151 - time 0:00:09.061450\n",
      "[Epoch 2 Batch 330/1401] loss=0.2877, lr=0.0000050, acc=0.150 - time 0:00:09.796183\n",
      "[Epoch 2 Batch 340/1401] loss=0.2303, lr=0.0000050, acc=0.150 - time 0:00:08.731103\n",
      "[Epoch 2 Batch 350/1401] loss=0.2975, lr=0.0000050, acc=0.151 - time 0:00:08.775049\n",
      "[Epoch 2 Batch 360/1401] loss=0.1563, lr=0.0000050, acc=0.150 - time 0:00:08.794577\n",
      "[Epoch 2 Batch 370/1401] loss=0.2893, lr=0.0000050, acc=0.150 - time 0:00:09.372550\n",
      "[Epoch 2 Batch 380/1401] loss=0.2500, lr=0.0000050, acc=0.149 - time 0:00:08.687429\n",
      "[Epoch 2 Batch 390/1401] loss=0.3273, lr=0.0000050, acc=0.150 - time 0:00:09.951636\n",
      "[Epoch 2 Batch 400/1401] loss=0.2342, lr=0.0000050, acc=0.150 - time 0:00:09.258432\n",
      "[Epoch 2 Batch 410/1401] loss=0.2146, lr=0.0000050, acc=0.151 - time 0:00:08.327894\n",
      "[Epoch 2 Batch 420/1401] loss=0.2772, lr=0.0000050, acc=0.152 - time 0:00:09.947313\n",
      "[Epoch 2 Batch 430/1401] loss=0.1949, lr=0.0000050, acc=0.151 - time 0:00:08.428594\n",
      "[Epoch 2 Batch 440/1401] loss=0.1293, lr=0.0000050, acc=0.149 - time 0:00:07.502094\n",
      "[Epoch 2 Batch 450/1401] loss=0.3289, lr=0.0000050, acc=0.151 - time 0:00:10.350473\n",
      "[Epoch 2 Batch 460/1401] loss=0.2131, lr=0.0000050, acc=0.151 - time 0:00:09.633588\n",
      "[Epoch 2 Batch 470/1401] loss=0.3088, lr=0.0000050, acc=0.152 - time 0:00:08.442541\n",
      "[Epoch 2 Batch 480/1401] loss=0.2308, lr=0.0000050, acc=0.151 - time 0:00:09.040972\n",
      "[Epoch 2 Batch 490/1401] loss=0.2118, lr=0.0000050, acc=0.151 - time 0:00:09.175873\n",
      "[Epoch 2 Batch 500/1401] loss=0.2416, lr=0.0000050, acc=0.151 - time 0:00:08.809826\n",
      "[Epoch 2 Batch 510/1401] loss=0.3792, lr=0.0000050, acc=0.152 - time 0:00:09.881100\n",
      "[Epoch 2 Batch 520/1401] loss=0.2669, lr=0.0000050, acc=0.152 - time 0:00:09.602233\n",
      "[Epoch 2 Batch 530/1401] loss=0.2080, lr=0.0000050, acc=0.152 - time 0:00:09.414878\n",
      "[Epoch 2 Batch 540/1401] loss=0.2704, lr=0.0000050, acc=0.152 - time 0:00:08.672985\n",
      "[Epoch 2 Batch 550/1401] loss=0.2405, lr=0.0000050, acc=0.153 - time 0:00:09.608081\n",
      "[Epoch 2 Batch 560/1401] loss=0.2455, lr=0.0000050, acc=0.153 - time 0:00:09.647835\n",
      "[Epoch 2 Batch 570/1401] loss=0.2424, lr=0.0000050, acc=0.152 - time 0:00:08.003664\n",
      "[Epoch 2 Batch 580/1401] loss=0.2544, lr=0.0000050, acc=0.154 - time 0:00:09.767477\n",
      "[Epoch 2 Batch 590/1401] loss=0.2305, lr=0.0000050, acc=0.153 - time 0:00:09.351508\n",
      "[Epoch 2 Batch 600/1401] loss=0.1581, lr=0.0000050, acc=0.152 - time 0:00:08.079946\n",
      "[Epoch 2 Batch 610/1401] loss=0.3102, lr=0.0000050, acc=0.153 - time 0:00:09.873404\n",
      "[Epoch 2 Batch 620/1401] loss=0.2705, lr=0.0000050, acc=0.152 - time 0:00:09.391608\n",
      "[Epoch 2 Batch 630/1401] loss=0.2199, lr=0.0000050, acc=0.152 - time 0:00:08.305883\n",
      "[Epoch 2 Batch 640/1401] loss=0.2061, lr=0.0000050, acc=0.152 - time 0:00:09.315036\n",
      "[Epoch 2 Batch 650/1401] loss=0.2967, lr=0.0000050, acc=0.153 - time 0:00:09.381288\n",
      "[Epoch 2 Batch 660/1401] loss=0.2056, lr=0.0000050, acc=0.153 - time 0:00:08.270563\n",
      "[Epoch 2 Batch 670/1401] loss=0.1374, lr=0.0000050, acc=0.152 - time 0:00:08.008385\n",
      "[Epoch 2 Batch 680/1401] loss=0.1913, lr=0.0000050, acc=0.151 - time 0:00:09.026007\n",
      "[Epoch 2 Batch 690/1401] loss=0.2437, lr=0.0000050, acc=0.152 - time 0:00:09.170079\n",
      "[Epoch 2 Batch 700/1401] loss=0.3139, lr=0.0000050, acc=0.152 - time 0:00:08.717301\n",
      "[Epoch 2 Batch 710/1401] loss=0.2670, lr=0.0000050, acc=0.152 - time 0:00:10.068856\n",
      "[Epoch 2 Batch 720/1401] loss=0.3145, lr=0.0000050, acc=0.153 - time 0:00:09.567414\n",
      "[Epoch 2 Batch 730/1401] loss=0.2932, lr=0.0000050, acc=0.153 - time 0:00:08.759321\n",
      "[Epoch 2 Batch 740/1401] loss=0.2340, lr=0.0000050, acc=0.153 - time 0:00:08.997131\n",
      "[Epoch 2 Batch 750/1401] loss=0.2755, lr=0.0000050, acc=0.154 - time 0:00:09.593900\n",
      "[Epoch 2 Batch 760/1401] loss=0.1908, lr=0.0000050, acc=0.153 - time 0:00:07.770862\n",
      "[Epoch 2 Batch 770/1401] loss=0.2042, lr=0.0000050, acc=0.153 - time 0:00:09.210293\n",
      "[Epoch 2 Batch 780/1401] loss=0.2259, lr=0.0000050, acc=0.153 - time 0:00:09.472713\n",
      "[Epoch 2 Batch 790/1401] loss=0.1249, lr=0.0000050, acc=0.152 - time 0:00:07.448149\n",
      "[Epoch 2 Batch 800/1401] loss=0.2126, lr=0.0000050, acc=0.151 - time 0:00:08.852630\n",
      "[Epoch 2 Batch 810/1401] loss=0.2974, lr=0.0000050, acc=0.152 - time 0:00:10.050037\n",
      "[Epoch 2 Batch 820/1401] loss=0.1952, lr=0.0000050, acc=0.152 - time 0:00:08.206673\n",
      "[Epoch 2 Batch 830/1401] loss=0.2917, lr=0.0000050, acc=0.152 - time 0:00:09.879237\n",
      "[Epoch 2 Batch 840/1401] loss=0.2294, lr=0.0000050, acc=0.152 - time 0:00:09.321195\n",
      "[Epoch 2 Batch 850/1401] loss=0.2016, lr=0.0000050, acc=0.152 - time 0:00:08.436380\n",
      "[Epoch 2 Batch 860/1401] loss=0.2938, lr=0.0000050, acc=0.152 - time 0:00:09.445304\n",
      "[Epoch 2 Batch 870/1401] loss=0.2803, lr=0.0000050, acc=0.153 - time 0:00:10.381327\n",
      "[Epoch 2 Batch 880/1401] loss=0.2873, lr=0.0000050, acc=0.153 - time 0:00:09.988277\n",
      "[Epoch 2 Batch 890/1401] loss=0.1955, lr=0.0000050, acc=0.153 - time 0:00:08.057111\n",
      "[Epoch 2 Batch 900/1401] loss=0.2573, lr=0.0000050, acc=0.153 - time 0:00:09.267960\n",
      "[Epoch 2 Batch 910/1401] loss=0.2984, lr=0.0000050, acc=0.153 - time 0:00:09.751156\n",
      "[Epoch 2 Batch 920/1401] loss=0.2530, lr=0.0000050, acc=0.153 - time 0:00:08.061405\n",
      "[Epoch 2 Batch 930/1401] loss=0.1497, lr=0.0000050, acc=0.153 - time 0:00:08.831164\n",
      "[Epoch 2 Batch 940/1401] loss=0.3163, lr=0.0000050, acc=0.153 - time 0:00:10.456148\n",
      "[Epoch 2 Batch 950/1401] loss=0.1363, lr=0.0000050, acc=0.153 - time 0:00:07.522355\n",
      "[Epoch 2 Batch 960/1401] loss=0.2842, lr=0.0000050, acc=0.152 - time 0:00:09.509098\n",
      "[Epoch 2 Batch 970/1401] loss=0.3148, lr=0.0000050, acc=0.153 - time 0:00:10.156937\n"
     ]
    },
    {
     "name": "stdout",
     "output_type": "stream",
     "text": [
      "[Epoch 2 Batch 980/1401] loss=0.2741, lr=0.0000050, acc=0.154 - time 0:00:09.119232\n",
      "[Epoch 2 Batch 990/1401] loss=0.2304, lr=0.0000050, acc=0.154 - time 0:00:09.190546\n",
      "[Epoch 2 Batch 1000/1401] loss=0.2384, lr=0.0000050, acc=0.153 - time 0:00:09.378551\n",
      "[Epoch 2 Batch 1010/1401] loss=0.1903, lr=0.0000050, acc=0.153 - time 0:00:08.568183\n",
      "[Epoch 2 Batch 1020/1401] loss=0.2071, lr=0.0000050, acc=0.153 - time 0:00:08.658794\n",
      "[Epoch 2 Batch 1030/1401] loss=0.1951, lr=0.0000050, acc=0.153 - time 0:00:09.326578\n",
      "[Epoch 2 Batch 1040/1401] loss=0.2513, lr=0.0000050, acc=0.152 - time 0:00:09.081558\n",
      "[Epoch 2 Batch 1050/1401] loss=0.2101, lr=0.0000050, acc=0.152 - time 0:00:08.997560\n",
      "[Epoch 2 Batch 1060/1401] loss=0.2722, lr=0.0000050, acc=0.152 - time 0:00:09.943018\n",
      "[Epoch 2 Batch 1070/1401] loss=0.1521, lr=0.0000050, acc=0.152 - time 0:00:08.779630\n",
      "[Epoch 2 Batch 1080/1401] loss=0.2990, lr=0.0000050, acc=0.152 - time 0:00:08.490947\n",
      "[Epoch 2 Batch 1090/1401] loss=0.2483, lr=0.0000050, acc=0.152 - time 0:00:09.879416\n",
      "[Epoch 2 Batch 1100/1401] loss=0.2255, lr=0.0000050, acc=0.152 - time 0:00:09.088973\n",
      "[Epoch 2 Batch 1110/1401] loss=0.2087, lr=0.0000050, acc=0.152 - time 0:00:07.979274\n",
      "[Epoch 2 Batch 1120/1401] loss=0.2078, lr=0.0000050, acc=0.152 - time 0:00:09.333157\n",
      "[Epoch 2 Batch 1130/1401] loss=0.1774, lr=0.0000050, acc=0.151 - time 0:00:08.424220\n",
      "[Epoch 2 Batch 1140/1401] loss=0.3137, lr=0.0000050, acc=0.151 - time 0:00:08.936995\n",
      "[Epoch 2 Batch 1150/1401] loss=0.1859, lr=0.0000050, acc=0.151 - time 0:00:08.454808\n",
      "[Epoch 2 Batch 1160/1401] loss=0.2323, lr=0.0000050, acc=0.151 - time 0:00:08.928236\n",
      "[Epoch 2 Batch 1170/1401] loss=0.2398, lr=0.0000050, acc=0.151 - time 0:00:07.979222\n",
      "[Epoch 2 Batch 1180/1401] loss=0.2221, lr=0.0000050, acc=0.151 - time 0:00:09.838009\n",
      "[Epoch 2 Batch 1190/1401] loss=0.2279, lr=0.0000050, acc=0.151 - time 0:00:09.200167\n",
      "[Epoch 2 Batch 1200/1401] loss=0.2720, lr=0.0000050, acc=0.151 - time 0:00:08.388303\n",
      "[Epoch 2 Batch 1210/1401] loss=0.2342, lr=0.0000050, acc=0.151 - time 0:00:09.534075\n",
      "[Epoch 2 Batch 1220/1401] loss=0.1719, lr=0.0000050, acc=0.151 - time 0:00:08.958966\n",
      "[Epoch 2 Batch 1230/1401] loss=0.1428, lr=0.0000050, acc=0.150 - time 0:00:07.615719\n",
      "[Epoch 2 Batch 1240/1401] loss=0.3865, lr=0.0000050, acc=0.151 - time 0:00:10.028193\n",
      "[Epoch 2 Batch 1250/1401] loss=0.3356, lr=0.0000050, acc=0.151 - time 0:00:09.918392\n",
      "[Epoch 2 Batch 1260/1401] loss=0.1969, lr=0.0000050, acc=0.151 - time 0:00:08.504989\n",
      "[Epoch 2 Batch 1270/1401] loss=0.1666, lr=0.0000050, acc=0.151 - time 0:00:08.523112\n",
      "[Epoch 2 Batch 1280/1401] loss=0.2711, lr=0.0000050, acc=0.151 - time 0:00:09.865453\n",
      "[Epoch 2 Batch 1290/1401] loss=0.2935, lr=0.0000050, acc=0.151 - time 0:00:08.682654\n",
      "[Epoch 2 Batch 1300/1401] loss=0.2912, lr=0.0000050, acc=0.151 - time 0:00:08.819555\n",
      "[Epoch 2 Batch 1310/1401] loss=0.2472, lr=0.0000050, acc=0.151 - time 0:00:09.117496\n",
      "[Epoch 2 Batch 1320/1401] loss=0.2098, lr=0.0000050, acc=0.151 - time 0:00:08.615820\n",
      "[Epoch 2 Batch 1330/1401] loss=0.1959, lr=0.0000050, acc=0.151 - time 0:00:08.424895\n",
      "[Epoch 2 Batch 1340/1401] loss=0.2292, lr=0.0000050, acc=0.151 - time 0:00:09.365047\n",
      "[Epoch 2 Batch 1350/1401] loss=0.3685, lr=0.0000050, acc=0.151 - time 0:00:10.202811\n",
      "[Epoch 2 Batch 1360/1401] loss=0.2550, lr=0.0000050, acc=0.151 - time 0:00:08.695807\n",
      "[Epoch 2 Batch 1370/1401] loss=0.2644, lr=0.0000050, acc=0.151 - time 0:00:09.502089\n",
      "[Epoch 2 Batch 1380/1401] loss=0.2721, lr=0.0000050, acc=0.151 - time 0:00:09.218076\n",
      "[Epoch 2 Batch 1390/1401] loss=0.1367, lr=0.0000050, acc=0.151 - time 0:00:07.757915\n",
      "[Epoch 2 Batch 1400/1401] loss=0.2849, lr=0.0000050, acc=0.151 - time 0:00:10.029829\n",
      "Time for [epoch 2]: 0:21:10.329251\n",
      "Time for [training]: 0:21:13.428489\n"
     ]
    },
    {
     "data": {
      "image/png": "[encoded data removed]",
      "text/plain": [
       "<Figure size 432x288 with 2 Axes>"
      ]
     },
     "metadata": {
      "needs_background": "light"
     },
     "output_type": "display_data"
    },
    {
     "name": "stderr",
     "output_type": "stream",
     "text": [
      "\r",
      "  0%|          | 0/600 [00:00<?, ?it/s]"
     ]
    },
    {
     "name": "stdout",
     "output_type": "stream",
     "text": [
      "Time for [4 - train model - 2]: 0:26:14.819707\n"
     ]
    },
    {
     "name": "stderr",
     "output_type": "stream",
     "text": [
      "100%|██████████| 600/600 [03:30<00:00,  2.85it/s]\n"
     ]
    },
    {
     "name": "stdout",
     "output_type": "stream",
     "text": [
      "Time for [prediction]: 0:03:30.549088\n",
      "Accuracy in epoch 2: 0.16185905795211517\n",
      "Confusion Matrix:\n",
      "[[7118 1715]\n",
      " [1303 9035]]\n",
      "\n",
      "Accuracy:  0.84 \n",
      "\n",
      "Report for [BERTClassifier]:\n",
      "              precision    recall  f1-score   support\n",
      "\n",
      "           0       0.85      0.81      0.83      8833\n",
      "           1       0.84      0.87      0.86     10338\n",
      "\n",
      "    accuracy                           0.84     19171\n",
      "   macro avg       0.84      0.84      0.84     19171\n",
      "weighted avg       0.84      0.84      0.84     19171\n",
      "\n",
      "Time for [6 - evaluate - 2]: 0:03:30.683898\n"
     ]
    },
    {
     "name": "stderr",
     "output_type": "stream",
     "text": [
      "100%|██████████| 44732/44732 [03:45<00:00, 197.98it/s]\n"
     ]
    },
    {
     "name": "stdout",
     "output_type": "stream",
     "text": [
      "Time for [setup training]: 0:03:45.974465\n",
      "loaded checkpoint for epoch 0\n",
      "loaded checkpoint for epoch 1\n",
      "loaded checkpoint for epoch 2\n",
      "[Epoch 3 Batch 10/1401] loss=0.2470, lr=0.0000050, acc=0.184 - time 0:00:09.002416\n",
      "[Epoch 3 Batch 20/1401] loss=0.1955, lr=0.0000050, acc=0.177 - time 0:00:08.643405\n",
      "[Epoch 3 Batch 30/1401] loss=0.1866, lr=0.0000050, acc=0.164 - time 0:00:08.529515\n",
      "Time for [epoch 3]: 0:00:33.850914\n",
      "Time for [training]: 0:00:34.430717\n",
      "Time for [4 - train model - 3]: 0:04:20.405564\n"
     ]
    },
    {
     "ename": "KeyboardInterrupt",
     "evalue": "",
     "output_type": "error",
     "traceback": [
      "\u001b[0;31m---------------------------------------------------------------------------\u001b[0m",
      "\u001b[0;31mKeyboardInterrupt\u001b[0m                         Traceback (most recent call last)",
      "\u001b[0;32m<ipython-input-23-e5aad8debc82>\u001b[0m in \u001b[0;36m<module>\u001b[0;34m\u001b[0m\n\u001b[1;32m      1\u001b[0m \u001b[0;32mfor\u001b[0m \u001b[0mepoch_id\u001b[0m \u001b[0;32min\u001b[0m \u001b[0mrange\u001b[0m\u001b[0;34m(\u001b[0m\u001b[0;36m5\u001b[0m\u001b[0;34m)\u001b[0m\u001b[0;34m:\u001b[0m\u001b[0;34m\u001b[0m\u001b[0;34m\u001b[0m\u001b[0m\n\u001b[1;32m      2\u001b[0m     \u001b[0;32mwith\u001b[0m \u001b[0mTimer\u001b[0m\u001b[0;34m(\u001b[0m\u001b[0;34m\"4 - train model - {}\"\u001b[0m\u001b[0;34m.\u001b[0m\u001b[0mformat\u001b[0m\u001b[0;34m(\u001b[0m\u001b[0mepoch_id\u001b[0m\u001b[0;34m)\u001b[0m\u001b[0;34m)\u001b[0m\u001b[0;34m:\u001b[0m\u001b[0;34m\u001b[0m\u001b[0;34m\u001b[0m\u001b[0m\n\u001b[0;32m----> 3\u001b[0;31m         \u001b[0mstats\u001b[0m \u001b[0;34m=\u001b[0m \u001b[0mtrain\u001b[0m\u001b[0;34m(\u001b[0m\u001b[0mmodel\u001b[0m\u001b[0;34m,\u001b[0m \u001b[0mdata_train\u001b[0m\u001b[0;34m,\u001b[0m \u001b[0mctx\u001b[0m\u001b[0;34m,\u001b[0m \u001b[0mmetric\u001b[0m\u001b[0;34m,\u001b[0m \u001b[0mloss_function\u001b[0m\u001b[0;34m,\u001b[0m \u001b[0mbatch_size\u001b[0m\u001b[0;34m=\u001b[0m\u001b[0;36m32\u001b[0m\u001b[0;34m,\u001b[0m \u001b[0mlr\u001b[0m\u001b[0;34m=\u001b[0m\u001b[0;36m5e-6\u001b[0m\u001b[0;34m,\u001b[0m \u001b[0mnum_epochs\u001b[0m\u001b[0;34m=\u001b[0m\u001b[0mepoch_id\u001b[0m \u001b[0;34m+\u001b[0m \u001b[0;36m1\u001b[0m\u001b[0;34m)\u001b[0m\u001b[0;34m\u001b[0m\u001b[0;34m\u001b[0m\u001b[0m\n\u001b[0m\u001b[1;32m      4\u001b[0m         \u001b[0mplot_train_stats\u001b[0m\u001b[0;34m(\u001b[0m\u001b[0mstats\u001b[0m\u001b[0;34m)\u001b[0m\u001b[0;34m\u001b[0m\u001b[0;34m\u001b[0m\u001b[0m\n\u001b[1;32m      5\u001b[0m \u001b[0;34m\u001b[0m\u001b[0m\n",
      "\u001b[0;32m<ipython-input-14-4f0180af79a7>\u001b[0m in \u001b[0;36mtrain\u001b[0;34m(model, data_train, ctx, metric, loss_function, batch_size, lr, num_epochs, checkpoint_dir, use_checkpoints)\u001b[0m\n\u001b[1;32m     59\u001b[0m                     \u001b[0;31m# gradient clipping\u001b[0m\u001b[0;34m\u001b[0m\u001b[0;34m\u001b[0m\u001b[0;34m\u001b[0m\u001b[0m\n\u001b[1;32m     60\u001b[0m                     \u001b[0mtrainer\u001b[0m\u001b[0;34m.\u001b[0m\u001b[0mallreduce_grads\u001b[0m\u001b[0;34m(\u001b[0m\u001b[0;34m)\u001b[0m\u001b[0;34m\u001b[0m\u001b[0;34m\u001b[0m\u001b[0m\n\u001b[0;32m---> 61\u001b[0;31m                     \u001b[0mnlp\u001b[0m\u001b[0;34m.\u001b[0m\u001b[0mutils\u001b[0m\u001b[0;34m.\u001b[0m\u001b[0mclip_grad_global_norm\u001b[0m\u001b[0;34m(\u001b[0m\u001b[0mparams\u001b[0m\u001b[0;34m,\u001b[0m \u001b[0;36m1\u001b[0m\u001b[0;34m)\u001b[0m\u001b[0;34m\u001b[0m\u001b[0;34m\u001b[0m\u001b[0m\n\u001b[0m\u001b[1;32m     62\u001b[0m                     \u001b[0mtrainer\u001b[0m\u001b[0;34m.\u001b[0m\u001b[0mupdate\u001b[0m\u001b[0;34m(\u001b[0m\u001b[0;36m1\u001b[0m\u001b[0;34m)\u001b[0m\u001b[0;34m\u001b[0m\u001b[0;34m\u001b[0m\u001b[0m\n\u001b[1;32m     63\u001b[0m \u001b[0;34m\u001b[0m\u001b[0m\n",
      "\u001b[0;32m~/.conda/envs/argmining19-ssc/lib/python3.7/site-packages/gluonnlp/utils/parameter.py\u001b[0m in \u001b[0;36mclip_grad_global_norm\u001b[0;34m(parameters, max_norm, check_isfinite)\u001b[0m\n\u001b[1;32m     82\u001b[0m     \u001b[0mtotal_norm\u001b[0m \u001b[0;34m=\u001b[0m \u001b[0mnd\u001b[0m\u001b[0;34m.\u001b[0m\u001b[0msqrt\u001b[0m\u001b[0;34m(\u001b[0m\u001b[0mtotal_norm\u001b[0m\u001b[0;34m)\u001b[0m\u001b[0;34m\u001b[0m\u001b[0;34m\u001b[0m\u001b[0m\n\u001b[1;32m     83\u001b[0m     \u001b[0;32mif\u001b[0m \u001b[0mcheck_isfinite\u001b[0m\u001b[0;34m:\u001b[0m\u001b[0;34m\u001b[0m\u001b[0;34m\u001b[0m\u001b[0m\n\u001b[0;32m---> 84\u001b[0;31m         \u001b[0mtotal_norm\u001b[0m \u001b[0;34m=\u001b[0m \u001b[0mtotal_norm\u001b[0m\u001b[0;34m.\u001b[0m\u001b[0masscalar\u001b[0m\u001b[0;34m(\u001b[0m\u001b[0;34m)\u001b[0m\u001b[0;34m\u001b[0m\u001b[0;34m\u001b[0m\u001b[0m\n\u001b[0m\u001b[1;32m     85\u001b[0m         \u001b[0;32mif\u001b[0m \u001b[0;32mnot\u001b[0m \u001b[0mnp\u001b[0m\u001b[0;34m.\u001b[0m\u001b[0misfinite\u001b[0m\u001b[0;34m(\u001b[0m\u001b[0mtotal_norm\u001b[0m\u001b[0;34m)\u001b[0m\u001b[0;34m:\u001b[0m\u001b[0;34m\u001b[0m\u001b[0;34m\u001b[0m\u001b[0m\n\u001b[1;32m     86\u001b[0m             warnings.warn(\n",
      "\u001b[0;32m~/.conda/envs/argmining19-ssc/lib/python3.7/site-packages/mxnet/ndarray/ndarray.py\u001b[0m in \u001b[0;36masscalar\u001b[0;34m(self)\u001b[0m\n\u001b[1;32m   1996\u001b[0m         \u001b[0;32mif\u001b[0m \u001b[0mself\u001b[0m\u001b[0;34m.\u001b[0m\u001b[0mshape\u001b[0m \u001b[0;34m!=\u001b[0m \u001b[0;34m(\u001b[0m\u001b[0;36m1\u001b[0m\u001b[0;34m,\u001b[0m\u001b[0;34m)\u001b[0m\u001b[0;34m:\u001b[0m\u001b[0;34m\u001b[0m\u001b[0;34m\u001b[0m\u001b[0m\n\u001b[1;32m   1997\u001b[0m             \u001b[0;32mraise\u001b[0m \u001b[0mValueError\u001b[0m\u001b[0;34m(\u001b[0m\u001b[0;34m\"The current array is not a scalar\"\u001b[0m\u001b[0;34m)\u001b[0m\u001b[0;34m\u001b[0m\u001b[0;34m\u001b[0m\u001b[0m\n\u001b[0;32m-> 1998\u001b[0;31m         \u001b[0;32mreturn\u001b[0m \u001b[0mself\u001b[0m\u001b[0;34m.\u001b[0m\u001b[0masnumpy\u001b[0m\u001b[0;34m(\u001b[0m\u001b[0;34m)\u001b[0m\u001b[0;34m[\u001b[0m\u001b[0;36m0\u001b[0m\u001b[0;34m]\u001b[0m\u001b[0;34m\u001b[0m\u001b[0;34m\u001b[0m\u001b[0m\n\u001b[0m\u001b[1;32m   1999\u001b[0m \u001b[0;34m\u001b[0m\u001b[0m\n\u001b[1;32m   2000\u001b[0m     \u001b[0;32mdef\u001b[0m \u001b[0mastype\u001b[0m\u001b[0;34m(\u001b[0m\u001b[0mself\u001b[0m\u001b[0;34m,\u001b[0m \u001b[0mdtype\u001b[0m\u001b[0;34m,\u001b[0m \u001b[0mcopy\u001b[0m\u001b[0;34m=\u001b[0m\u001b[0;32mTrue\u001b[0m\u001b[0;34m)\u001b[0m\u001b[0;34m:\u001b[0m\u001b[0;34m\u001b[0m\u001b[0;34m\u001b[0m\u001b[0m\n",
      "\u001b[0;32m~/.conda/envs/argmining19-ssc/lib/python3.7/site-packages/mxnet/ndarray/ndarray.py\u001b[0m in \u001b[0;36masnumpy\u001b[0;34m(self)\u001b[0m\n\u001b[1;32m   1978\u001b[0m             \u001b[0mself\u001b[0m\u001b[0;34m.\u001b[0m\u001b[0mhandle\u001b[0m\u001b[0;34m,\u001b[0m\u001b[0;34m\u001b[0m\u001b[0;34m\u001b[0m\u001b[0m\n\u001b[1;32m   1979\u001b[0m             \u001b[0mdata\u001b[0m\u001b[0;34m.\u001b[0m\u001b[0mctypes\u001b[0m\u001b[0;34m.\u001b[0m\u001b[0mdata_as\u001b[0m\u001b[0;34m(\u001b[0m\u001b[0mctypes\u001b[0m\u001b[0;34m.\u001b[0m\u001b[0mc_void_p\u001b[0m\u001b[0;34m)\u001b[0m\u001b[0;34m,\u001b[0m\u001b[0;34m\u001b[0m\u001b[0;34m\u001b[0m\u001b[0m\n\u001b[0;32m-> 1980\u001b[0;31m             ctypes.c_size_t(data.size)))\n\u001b[0m\u001b[1;32m   1981\u001b[0m         \u001b[0;32mreturn\u001b[0m \u001b[0mdata\u001b[0m\u001b[0;34m\u001b[0m\u001b[0;34m\u001b[0m\u001b[0m\n\u001b[1;32m   1982\u001b[0m \u001b[0;34m\u001b[0m\u001b[0m\n",
      "\u001b[0;31mKeyboardInterrupt\u001b[0m: "
     ]
    }
   ],
   "source": [
    "for epoch_id in range(5):\n",
    "    with Timer(\"4 - train model - {}\".format(epoch_id)):\n",
    "        stats = train(model, data_train, ctx, metric, loss_function, batch_size=32, lr=5e-6, num_epochs=epoch_id + 1)\n",
    "        plot_train_stats(stats)\n",
    "\n",
    "    with Timer(\"6 - evaluate - {}\".format(epoch_id)):\n",
    "        all_predictions, cum_loss = predict(model, data_dev, ctx, metric, loss_function)\n",
    "        print(\"Accuracy in epoch {}:\".format(epoch_id), metric.get()[1])\n",
    "        y_true, y_pred = predict_out_to_ys(all_predictions, all_labels)\n",
    "        report_training_results(y_true, y_pred, name=\"BERTClassifier\", heatmap=False)\n",
    "\n",
    "    model.save_parameters(\"data/bert.model.params\")"
   ]
  },
  {
   "cell_type": "code",
   "execution_count": 26,
   "metadata": {
    "ExecuteTime": {
     "end_time": "2019-07-01T15:26:26.454518Z",
     "start_time": "2019-07-01T14:08:12.869322Z"
    },
    "scrolled": true
   },
   "outputs": [
    {
     "name": "stderr",
     "output_type": "stream",
     "text": [
      "100%|██████████| 44732/44732 [03:47<00:00, 196.67it/s]\n"
     ]
    },
    {
     "name": "stdout",
     "output_type": "stream",
     "text": [
      "Time for [setup training]: 0:03:47.478159\n"
     ]
    },
    {
     "name": "stderr",
     "output_type": "stream",
     "text": [
      "\r",
      "  0%|          | 0/600 [00:00<?, ?it/s]"
     ]
    },
    {
     "name": "stdout",
     "output_type": "stream",
     "text": [
      "loaded checkpoint for epoch 0\n",
      "Time for [training]: 0:00:00.256501\n",
      "no stats to plot\n",
      "Time for [4 - train model - 0]: 0:03:47.736178\n"
     ]
    },
    {
     "name": "stderr",
     "output_type": "stream",
     "text": [
      "100%|██████████| 600/600 [03:23<00:00,  2.94it/s]\n"
     ]
    },
    {
     "name": "stdout",
     "output_type": "stream",
     "text": [
      "Time for [prediction]: 0:03:23.877634\n",
      "Accuracy in epoch 0: 0.8336028376193209\n",
      "Confusion Matrix:\n",
      "[[7988  845]\n",
      " [2345 7993]]\n",
      "\n",
      "Accuracy:  0.83 \n",
      "\n",
      "Report for [BERTClassifier]:\n",
      "              precision    recall  f1-score   support\n",
      "\n",
      "           0       0.77      0.90      0.83      8833\n",
      "           1       0.90      0.77      0.83     10338\n",
      "\n",
      "    accuracy                           0.83     19171\n",
      "   macro avg       0.84      0.84      0.83     19171\n",
      "weighted avg       0.84      0.83      0.83     19171\n",
      "\n",
      "Time for [6 - evaluate - 0]: 0:03:24.052035\n"
     ]
    },
    {
     "name": "stderr",
     "output_type": "stream",
     "text": [
      "100%|██████████| 44732/44732 [03:48<00:00, 195.77it/s]\n"
     ]
    },
    {
     "name": "stdout",
     "output_type": "stream",
     "text": [
      "Time for [setup training]: 0:03:48.525948\n",
      "loaded checkpoint for epoch 0\n"
     ]
    },
    {
     "name": "stderr",
     "output_type": "stream",
     "text": [
      "\r",
      "  0%|          | 0/600 [00:00<?, ?it/s]"
     ]
    },
    {
     "name": "stdout",
     "output_type": "stream",
     "text": [
      "loaded checkpoint for epoch 1\n",
      "Time for [training]: 0:00:00.323167\n",
      "no stats to plot\n",
      "Time for [4 - train model - 1]: 0:03:48.850103\n"
     ]
    },
    {
     "name": "stderr",
     "output_type": "stream",
     "text": [
      "100%|██████████| 600/600 [03:27<00:00,  2.89it/s]\n"
     ]
    },
    {
     "name": "stdout",
     "output_type": "stream",
     "text": [
      "Time for [prediction]: 0:03:27.679585\n",
      "Accuracy in epoch 1: 0.8424182358771061\n",
      "Confusion Matrix:\n",
      "[[8182  651]\n",
      " [2370 7968]]\n",
      "\n",
      "Accuracy:  0.84 \n",
      "\n",
      "Report for [BERTClassifier]:\n",
      "              precision    recall  f1-score   support\n",
      "\n",
      "           0       0.78      0.93      0.84      8833\n",
      "           1       0.92      0.77      0.84     10338\n",
      "\n",
      "    accuracy                           0.84     19171\n",
      "   macro avg       0.85      0.85      0.84     19171\n",
      "weighted avg       0.86      0.84      0.84     19171\n",
      "\n",
      "Time for [6 - evaluate - 1]: 0:03:27.855321\n"
     ]
    },
    {
     "name": "stderr",
     "output_type": "stream",
     "text": [
      "100%|██████████| 44732/44732 [03:49<00:00, 195.05it/s]\n"
     ]
    },
    {
     "name": "stdout",
     "output_type": "stream",
     "text": [
      "Time for [setup training]: 0:03:49.366209\n",
      "loaded checkpoint for epoch 0\n"
     ]
    },
    {
     "name": "stderr",
     "output_type": "stream",
     "text": [
      "\r",
      "  0%|          | 0/600 [00:00<?, ?it/s]"
     ]
    },
    {
     "name": "stdout",
     "output_type": "stream",
     "text": [
      "loaded checkpoint for epoch 1\n",
      "loaded checkpoint for epoch 2\n",
      "Time for [training]: 0:00:00.441877\n",
      "no stats to plot\n",
      "Time for [4 - train model - 2]: 0:03:49.808878\n"
     ]
    },
    {
     "name": "stderr",
     "output_type": "stream",
     "text": [
      "100%|██████████| 600/600 [03:27<00:00,  2.89it/s]\n"
     ]
    },
    {
     "name": "stdout",
     "output_type": "stream",
     "text": [
      "Time for [prediction]: 0:03:27.836398\n",
      "Accuracy in epoch 2: 0.8425747222367117\n",
      "Confusion Matrix:\n",
      "[[7118 1715]\n",
      " [1303 9035]]\n",
      "\n",
      "Accuracy:  0.84 \n",
      "\n",
      "Report for [BERTClassifier]:\n",
      "              precision    recall  f1-score   support\n",
      "\n",
      "           0       0.85      0.81      0.83      8833\n",
      "           1       0.84      0.87      0.86     10338\n",
      "\n",
      "    accuracy                           0.84     19171\n",
      "   macro avg       0.84      0.84      0.84     19171\n",
      "weighted avg       0.84      0.84      0.84     19171\n",
      "\n",
      "Time for [6 - evaluate - 2]: 0:03:28.000220\n"
     ]
    },
    {
     "name": "stderr",
     "output_type": "stream",
     "text": [
      "100%|██████████| 44732/44732 [03:47<00:00, 196.90it/s]\n"
     ]
    },
    {
     "name": "stdout",
     "output_type": "stream",
     "text": [
      "Time for [setup training]: 0:03:47.201411\n",
      "loaded checkpoint for epoch 0\n",
      "loaded checkpoint for epoch 1\n",
      "loaded checkpoint for epoch 2\n",
      "[Epoch 3 Batch 10/1401] loss=0.2399, lr=0.0000050, acc=0.863 - time 0:00:08.306336\n",
      "[Epoch 3 Batch 20/1401] loss=0.2439, lr=0.0000050, acc=0.869 - time 0:00:09.201567\n",
      "[Epoch 3 Batch 30/1401] loss=0.2769, lr=0.0000050, acc=0.864 - time 0:00:09.191567\n",
      "[Epoch 3 Batch 40/1401] loss=0.2394, lr=0.0000050, acc=0.867 - time 0:00:09.196105\n",
      "[Epoch 3 Batch 50/1401] loss=0.2417, lr=0.0000050, acc=0.869 - time 0:00:08.836207\n",
      "[Epoch 3 Batch 60/1401] loss=0.1645, lr=0.0000050, acc=0.878 - time 0:00:08.927479\n",
      "[Epoch 3 Batch 70/1401] loss=0.2175, lr=0.0000050, acc=0.880 - time 0:00:08.792871\n",
      "[Epoch 3 Batch 80/1401] loss=0.0806, lr=0.0000050, acc=0.891 - time 0:00:07.362845\n",
      "[Epoch 3 Batch 90/1401] loss=0.2156, lr=0.0000050, acc=0.890 - time 0:00:09.273654\n",
      "[Epoch 3 Batch 100/1401] loss=0.2527, lr=0.0000050, acc=0.885 - time 0:00:09.174579\n",
      "[Epoch 3 Batch 110/1401] loss=0.2174, lr=0.0000050, acc=0.886 - time 0:00:08.489997\n",
      "[Epoch 3 Batch 120/1401] loss=0.0865, lr=0.0000050, acc=0.892 - time 0:00:07.921922\n",
      "[Epoch 3 Batch 130/1401] loss=0.2413, lr=0.0000050, acc=0.892 - time 0:00:09.326777\n",
      "[Epoch 3 Batch 140/1401] loss=0.2314, lr=0.0000050, acc=0.891 - time 0:00:09.656530\n",
      "[Epoch 3 Batch 150/1401] loss=0.1782, lr=0.0000050, acc=0.892 - time 0:00:07.994274\n",
      "[Epoch 3 Batch 160/1401] loss=0.2073, lr=0.0000050, acc=0.892 - time 0:00:09.195002\n",
      "[Epoch 3 Batch 170/1401] loss=0.1578, lr=0.0000050, acc=0.895 - time 0:00:09.095413\n",
      "[Epoch 3 Batch 180/1401] loss=0.1732, lr=0.0000050, acc=0.896 - time 0:00:08.193136\n",
      "[Epoch 3 Batch 190/1401] loss=0.2655, lr=0.0000050, acc=0.894 - time 0:00:08.602640\n",
      "[Epoch 3 Batch 200/1401] loss=0.2438, lr=0.0000050, acc=0.893 - time 0:00:09.018246\n",
      "[Epoch 3 Batch 210/1401] loss=0.2316, lr=0.0000050, acc=0.892 - time 0:00:09.005648\n",
      "[Epoch 3 Batch 220/1401] loss=0.2213, lr=0.0000050, acc=0.891 - time 0:00:08.392259\n",
      "[Epoch 3 Batch 230/1401] loss=0.1848, lr=0.0000050, acc=0.892 - time 0:00:08.907245\n",
      "[Epoch 3 Batch 240/1401] loss=0.2347, lr=0.0000050, acc=0.892 - time 0:00:09.227177\n",
      "[Epoch 3 Batch 250/1401] loss=0.1142, lr=0.0000050, acc=0.894 - time 0:00:07.971832\n",
      "[Epoch 3 Batch 260/1401] loss=0.2201, lr=0.0000050, acc=0.894 - time 0:00:08.871551\n",
      "[Epoch 3 Batch 270/1401] loss=0.2133, lr=0.0000050, acc=0.894 - time 0:00:09.117507\n",
      "[Epoch 3 Batch 280/1401] loss=0.2095, lr=0.0000050, acc=0.894 - time 0:00:08.847141\n",
      "[Epoch 3 Batch 290/1401] loss=0.1778, lr=0.0000050, acc=0.895 - time 0:00:08.270993\n",
      "[Epoch 3 Batch 300/1401] loss=0.1929, lr=0.0000050, acc=0.895 - time 0:00:09.186369\n",
      "[Epoch 3 Batch 310/1401] loss=0.1378, lr=0.0000050, acc=0.897 - time 0:00:08.745129\n",
      "[Epoch 3 Batch 320/1401] loss=0.1898, lr=0.0000050, acc=0.897 - time 0:00:08.291090\n",
      "[Epoch 3 Batch 330/1401] loss=0.1991, lr=0.0000050, acc=0.897 - time 0:00:08.685698\n",
      "[Epoch 3 Batch 340/1401] loss=0.1444, lr=0.0000050, acc=0.898 - time 0:00:08.717899\n",
      "[Epoch 3 Batch 350/1401] loss=0.2505, lr=0.0000050, acc=0.897 - time 0:00:08.980330\n",
      "[Epoch 3 Batch 360/1401] loss=0.2404, lr=0.0000050, acc=0.896 - time 0:00:09.109786\n",
      "[Epoch 3 Batch 370/1401] loss=0.2946, lr=0.0000050, acc=0.895 - time 0:00:09.925032\n",
      "[Epoch 3 Batch 380/1401] loss=0.2576, lr=0.0000050, acc=0.894 - time 0:00:09.644216\n",
      "[Epoch 3 Batch 390/1401] loss=0.2661, lr=0.0000050, acc=0.893 - time 0:00:08.262682\n",
      "[Epoch 3 Batch 400/1401] loss=0.0884, lr=0.0000050, acc=0.895 - time 0:00:08.565682\n",
      "[Epoch 3 Batch 410/1401] loss=0.2839, lr=0.0000050, acc=0.894 - time 0:00:10.156806\n",
      "[Epoch 3 Batch 420/1401] loss=0.1887, lr=0.0000050, acc=0.894 - time 0:00:08.293140\n",
      "[Epoch 3 Batch 430/1401] loss=0.1234, lr=0.0000050, acc=0.895 - time 0:00:08.028872\n",
      "[Epoch 3 Batch 440/1401] loss=0.3122, lr=0.0000050, acc=0.894 - time 0:00:10.151754\n",
      "[Epoch 3 Batch 450/1401] loss=0.2377, lr=0.0000050, acc=0.894 - time 0:00:08.914037\n",
      "[Epoch 3 Batch 460/1401] loss=0.3103, lr=0.0000050, acc=0.892 - time 0:00:09.545785\n",
      "[Epoch 3 Batch 470/1401] loss=0.1803, lr=0.0000050, acc=0.892 - time 0:00:09.135809\n",
      "[Epoch 3 Batch 480/1401] loss=0.2069, lr=0.0000050, acc=0.893 - time 0:00:09.045606\n",
      "[Epoch 3 Batch 490/1401] loss=0.2467, lr=0.0000050, acc=0.892 - time 0:00:08.618126\n",
      "[Epoch 3 Batch 500/1401] loss=0.1467, lr=0.0000050, acc=0.893 - time 0:00:08.967649\n",
      "[Epoch 3 Batch 510/1401] loss=0.1318, lr=0.0000050, acc=0.893 - time 0:00:08.312615\n",
      "[Epoch 3 Batch 520/1401] loss=0.1809, lr=0.0000050, acc=0.894 - time 0:00:07.809687\n",
      "[Epoch 3 Batch 530/1401] loss=0.2397, lr=0.0000050, acc=0.894 - time 0:00:09.786990\n",
      "[Epoch 3 Batch 540/1401] loss=0.2196, lr=0.0000050, acc=0.894 - time 0:00:09.253721\n",
      "[Epoch 3 Batch 550/1401] loss=0.2291, lr=0.0000050, acc=0.894 - time 0:00:09.475789\n",
      "[Epoch 3 Batch 560/1401] loss=0.2626, lr=0.0000050, acc=0.894 - time 0:00:09.302951\n",
      "[Epoch 3 Batch 570/1401] loss=0.1665, lr=0.0000050, acc=0.894 - time 0:00:08.516257\n",
      "[Epoch 3 Batch 580/1401] loss=0.2765, lr=0.0000050, acc=0.893 - time 0:00:09.430125\n",
      "[Epoch 3 Batch 590/1401] loss=0.1771, lr=0.0000050, acc=0.894 - time 0:00:08.312929\n",
      "[Epoch 3 Batch 600/1401] loss=0.1282, lr=0.0000050, acc=0.894 - time 0:00:07.687426\n",
      "[Epoch 3 Batch 610/1401] loss=0.1682, lr=0.0000050, acc=0.894 - time 0:00:08.985224\n",
      "[Epoch 3 Batch 620/1401] loss=0.2541, lr=0.0000050, acc=0.894 - time 0:00:08.978120\n",
      "[Epoch 3 Batch 630/1401] loss=0.1161, lr=0.0000050, acc=0.895 - time 0:00:08.040457\n",
      "[Epoch 3 Batch 640/1401] loss=0.1974, lr=0.0000050, acc=0.895 - time 0:00:09.253536\n",
      "[Epoch 3 Batch 650/1401] loss=0.2354, lr=0.0000050, acc=0.894 - time 0:00:09.097788\n",
      "[Epoch 3 Batch 660/1401] loss=0.2440, lr=0.0000050, acc=0.894 - time 0:00:08.416753\n",
      "[Epoch 3 Batch 670/1401] loss=0.1938, lr=0.0000050, acc=0.894 - time 0:00:09.148035\n",
      "[Epoch 3 Batch 680/1401] loss=0.2001, lr=0.0000050, acc=0.894 - time 0:00:08.765673\n",
      "[Epoch 3 Batch 690/1401] loss=0.2647, lr=0.0000050, acc=0.894 - time 0:00:09.525573\n",
      "[Epoch 3 Batch 700/1401] loss=0.1818, lr=0.0000050, acc=0.894 - time 0:00:08.018338\n",
      "[Epoch 3 Batch 710/1401] loss=0.2556, lr=0.0000050, acc=0.894 - time 0:00:09.727242\n",
      "[Epoch 3 Batch 720/1401] loss=0.1721, lr=0.0000050, acc=0.894 - time 0:00:08.830149\n",
      "[Epoch 3 Batch 730/1401] loss=0.2309, lr=0.0000050, acc=0.893 - time 0:00:08.103607\n",
      "[Epoch 3 Batch 740/1401] loss=0.2656, lr=0.0000050, acc=0.893 - time 0:00:09.089946\n",
      "[Epoch 3 Batch 750/1401] loss=0.2545, lr=0.0000050, acc=0.893 - time 0:00:09.323653\n",
      "[Epoch 3 Batch 760/1401] loss=0.2312, lr=0.0000050, acc=0.892 - time 0:00:08.628135\n",
      "[Epoch 3 Batch 770/1401] loss=0.1724, lr=0.0000050, acc=0.893 - time 0:00:08.227182\n",
      "[Epoch 3 Batch 780/1401] loss=0.1904, lr=0.0000050, acc=0.893 - time 0:00:09.486760\n",
      "[Epoch 3 Batch 790/1401] loss=0.1520, lr=0.0000050, acc=0.893 - time 0:00:08.883504\n",
      "[Epoch 3 Batch 800/1401] loss=0.2236, lr=0.0000050, acc=0.893 - time 0:00:08.298291\n",
      "[Epoch 3 Batch 810/1401] loss=0.2160, lr=0.0000050, acc=0.893 - time 0:00:09.214784\n",
      "[Epoch 3 Batch 820/1401] loss=0.2364, lr=0.0000050, acc=0.893 - time 0:00:09.606836\n",
      "[Epoch 3 Batch 830/1401] loss=0.2406, lr=0.0000050, acc=0.893 - time 0:00:09.079303\n",
      "[Epoch 3 Batch 840/1401] loss=0.2468, lr=0.0000050, acc=0.893 - time 0:00:08.184220\n",
      "[Epoch 3 Batch 850/1401] loss=0.2546, lr=0.0000050, acc=0.892 - time 0:00:09.904981\n",
      "[Epoch 3 Batch 860/1401] loss=0.2295, lr=0.0000050, acc=0.892 - time 0:00:09.234961\n",
      "[Epoch 3 Batch 870/1401] loss=0.2736, lr=0.0000050, acc=0.892 - time 0:00:08.981936\n",
      "[Epoch 3 Batch 880/1401] loss=0.2473, lr=0.0000050, acc=0.891 - time 0:00:08.361576\n",
      "[Epoch 3 Batch 890/1401] loss=0.2129, lr=0.0000050, acc=0.891 - time 0:00:09.914780\n",
      "[Epoch 3 Batch 900/1401] loss=0.2987, lr=0.0000050, acc=0.891 - time 0:00:09.286557\n",
      "[Epoch 3 Batch 910/1401] loss=0.1782, lr=0.0000050, acc=0.891 - time 0:00:08.502073\n",
      "[Epoch 3 Batch 920/1401] loss=0.2180, lr=0.0000050, acc=0.891 - time 0:00:08.600373\n",
      "[Epoch 3 Batch 930/1401] loss=0.2757, lr=0.0000050, acc=0.890 - time 0:00:10.054062\n",
      "[Epoch 3 Batch 940/1401] loss=0.1930, lr=0.0000050, acc=0.890 - time 0:00:08.898942\n",
      "[Epoch 3 Batch 950/1401] loss=0.1454, lr=0.0000050, acc=0.891 - time 0:00:08.074261\n",
      "[Epoch 3 Batch 960/1401] loss=0.2307, lr=0.0000050, acc=0.891 - time 0:00:08.638445\n",
      "[Epoch 3 Batch 970/1401] loss=0.1984, lr=0.0000050, acc=0.891 - time 0:00:09.211420\n"
     ]
    },
    {
     "name": "stdout",
     "output_type": "stream",
     "text": [
      "[Epoch 3 Batch 980/1401] loss=0.2523, lr=0.0000050, acc=0.890 - time 0:00:09.401812\n",
      "[Epoch 3 Batch 990/1401] loss=0.2055, lr=0.0000050, acc=0.891 - time 0:00:08.011182\n",
      "[Epoch 3 Batch 1000/1401] loss=0.2077, lr=0.0000050, acc=0.891 - time 0:00:09.194184\n",
      "[Epoch 3 Batch 1010/1401] loss=0.2840, lr=0.0000050, acc=0.890 - time 0:00:09.245054\n",
      "[Epoch 3 Batch 1020/1401] loss=0.2286, lr=0.0000050, acc=0.890 - time 0:00:09.491235\n",
      "[Epoch 3 Batch 1030/1401] loss=0.2488, lr=0.0000050, acc=0.890 - time 0:00:08.480123\n",
      "[Epoch 3 Batch 1040/1401] loss=0.2070, lr=0.0000050, acc=0.890 - time 0:00:08.698505\n",
      "[Epoch 3 Batch 1050/1401] loss=0.1596, lr=0.0000050, acc=0.890 - time 0:00:09.087673\n",
      "[Epoch 3 Batch 1060/1401] loss=0.2023, lr=0.0000050, acc=0.891 - time 0:00:08.498848\n",
      "[Epoch 3 Batch 1070/1401] loss=0.3266, lr=0.0000050, acc=0.890 - time 0:00:09.480775\n",
      "[Epoch 3 Batch 1080/1401] loss=0.1848, lr=0.0000050, acc=0.890 - time 0:00:09.574048\n",
      "[Epoch 3 Batch 1090/1401] loss=0.1702, lr=0.0000050, acc=0.891 - time 0:00:08.747829\n",
      "[Epoch 3 Batch 1100/1401] loss=0.1988, lr=0.0000050, acc=0.891 - time 0:00:08.473000\n",
      "[Epoch 3 Batch 1110/1401] loss=0.2440, lr=0.0000050, acc=0.891 - time 0:00:09.207679\n",
      "[Epoch 3 Batch 1120/1401] loss=0.1887, lr=0.0000050, acc=0.891 - time 0:00:09.096683\n",
      "[Epoch 3 Batch 1130/1401] loss=0.1226, lr=0.0000050, acc=0.891 - time 0:00:07.814321\n",
      "[Epoch 3 Batch 1140/1401] loss=0.2194, lr=0.0000050, acc=0.891 - time 0:00:08.846738\n",
      "[Epoch 3 Batch 1150/1401] loss=0.1453, lr=0.0000050, acc=0.891 - time 0:00:09.085555\n",
      "[Epoch 3 Batch 1160/1401] loss=0.2014, lr=0.0000050, acc=0.892 - time 0:00:08.747559\n",
      "[Epoch 3 Batch 1170/1401] loss=0.2193, lr=0.0000050, acc=0.892 - time 0:00:08.615692\n",
      "[Epoch 3 Batch 1180/1401] loss=0.2720, lr=0.0000050, acc=0.891 - time 0:00:09.783951\n",
      "[Epoch 3 Batch 1190/1401] loss=0.2651, lr=0.0000050, acc=0.891 - time 0:00:09.418244\n",
      "[Epoch 3 Batch 1200/1401] loss=0.2606, lr=0.0000050, acc=0.891 - time 0:00:09.618101\n",
      "[Epoch 3 Batch 1210/1401] loss=0.2916, lr=0.0000050, acc=0.891 - time 0:00:08.259289\n",
      "[Epoch 3 Batch 1220/1401] loss=0.2482, lr=0.0000050, acc=0.890 - time 0:00:09.549172\n",
      "[Epoch 3 Batch 1230/1401] loss=0.1879, lr=0.0000050, acc=0.891 - time 0:00:08.939122\n",
      "[Epoch 3 Batch 1240/1401] loss=0.2173, lr=0.0000050, acc=0.891 - time 0:00:09.170222\n",
      "[Epoch 3 Batch 1250/1401] loss=0.2041, lr=0.0000050, acc=0.891 - time 0:00:08.239603\n",
      "[Epoch 3 Batch 1260/1401] loss=0.2574, lr=0.0000050, acc=0.891 - time 0:00:09.395202\n",
      "[Epoch 3 Batch 1270/1401] loss=0.2049, lr=0.0000050, acc=0.891 - time 0:00:09.491296\n",
      "[Epoch 3 Batch 1280/1401] loss=0.1961, lr=0.0000050, acc=0.891 - time 0:00:08.394873\n",
      "[Epoch 3 Batch 1290/1401] loss=0.2941, lr=0.0000050, acc=0.891 - time 0:00:09.310212\n",
      "[Epoch 3 Batch 1300/1401] loss=0.1578, lr=0.0000050, acc=0.891 - time 0:00:08.892687\n",
      "[Epoch 3 Batch 1310/1401] loss=0.1974, lr=0.0000050, acc=0.891 - time 0:00:09.256062\n",
      "[Epoch 3 Batch 1320/1401] loss=0.1877, lr=0.0000050, acc=0.891 - time 0:00:08.025177\n",
      "[Epoch 3 Batch 1330/1401] loss=0.2408, lr=0.0000050, acc=0.891 - time 0:00:09.055089\n",
      "[Epoch 3 Batch 1340/1401] loss=0.1603, lr=0.0000050, acc=0.891 - time 0:00:09.119479\n",
      "[Epoch 3 Batch 1350/1401] loss=0.2093, lr=0.0000050, acc=0.891 - time 0:00:08.423326\n",
      "[Epoch 3 Batch 1360/1401] loss=0.1589, lr=0.0000050, acc=0.891 - time 0:00:08.187221\n",
      "[Epoch 3 Batch 1370/1401] loss=0.2274, lr=0.0000050, acc=0.891 - time 0:00:09.463599\n",
      "[Epoch 3 Batch 1380/1401] loss=0.1499, lr=0.0000050, acc=0.892 - time 0:00:09.221525\n",
      "[Epoch 3 Batch 1390/1401] loss=0.2146, lr=0.0000050, acc=0.892 - time 0:00:08.207804\n",
      "[Epoch 3 Batch 1400/1401] loss=0.2560, lr=0.0000050, acc=0.892 - time 0:00:09.132990\n",
      "Time for [epoch 3]: 0:20:47.041355\n",
      "Time for [training]: 0:20:48.026505\n"
     ]
    },
    {
     "data": {
      "image/png": "[encoded data removed]",
      "text/plain": [
       "<Figure size 432x288 with 2 Axes>"
      ]
     },
     "metadata": {
      "needs_background": "light"
     },
     "output_type": "display_data"
    },
    {
     "name": "stderr",
     "output_type": "stream",
     "text": [
      "\r",
      "  0%|          | 0/600 [00:00<?, ?it/s]"
     ]
    },
    {
     "name": "stdout",
     "output_type": "stream",
     "text": [
      "Time for [4 - train model - 3]: 0:24:35.382324\n"
     ]
    },
    {
     "name": "stderr",
     "output_type": "stream",
     "text": [
      "100%|██████████| 600/600 [03:26<00:00,  2.91it/s]\n"
     ]
    },
    {
     "name": "stdout",
     "output_type": "stream",
     "text": [
      "Time for [prediction]: 0:03:26.023745\n",
      "Accuracy in epoch 3: 0.8531114704501591\n",
      "Confusion Matrix:\n",
      "[[7644 1189]\n",
      " [1627 8711]]\n",
      "\n",
      "Accuracy:  0.85 \n",
      "\n",
      "Report for [BERTClassifier]:\n",
      "              precision    recall  f1-score   support\n",
      "\n",
      "           0       0.82      0.87      0.84      8833\n",
      "           1       0.88      0.84      0.86     10338\n",
      "\n",
      "    accuracy                           0.85     19171\n",
      "   macro avg       0.85      0.85      0.85     19171\n",
      "weighted avg       0.85      0.85      0.85     19171\n",
      "\n",
      "Time for [6 - evaluate - 3]: 0:03:26.195614\n"
     ]
    },
    {
     "name": "stderr",
     "output_type": "stream",
     "text": [
      "100%|██████████| 44732/44732 [03:53<00:00, 191.87it/s]\n"
     ]
    },
    {
     "name": "stdout",
     "output_type": "stream",
     "text": [
      "Time for [setup training]: 0:03:53.162759\n",
      "loaded checkpoint for epoch 0\n",
      "loaded checkpoint for epoch 1\n",
      "loaded checkpoint for epoch 2\n",
      "loaded checkpoint for epoch 3\n",
      "[Epoch 4 Batch 10/1401] loss=0.1999, lr=0.0000050, acc=0.900 - time 0:00:08.499479\n",
      "[Epoch 4 Batch 20/1401] loss=0.2032, lr=0.0000050, acc=0.903 - time 0:00:09.043274\n",
      "[Epoch 4 Batch 30/1401] loss=0.1673, lr=0.0000050, acc=0.909 - time 0:00:09.206156\n",
      "[Epoch 4 Batch 40/1401] loss=0.2376, lr=0.0000050, acc=0.902 - time 0:00:09.747659\n",
      "[Epoch 4 Batch 50/1401] loss=0.2558, lr=0.0000050, acc=0.897 - time 0:00:08.894597\n",
      "[Epoch 4 Batch 60/1401] loss=0.1403, lr=0.0000050, acc=0.902 - time 0:00:08.579044\n",
      "[Epoch 4 Batch 70/1401] loss=0.1478, lr=0.0000050, acc=0.905 - time 0:00:08.822484\n",
      "[Epoch 4 Batch 80/1401] loss=0.1774, lr=0.0000050, acc=0.907 - time 0:00:08.244965\n",
      "[Epoch 4 Batch 90/1401] loss=0.1907, lr=0.0000050, acc=0.909 - time 0:00:08.370028\n",
      "[Epoch 4 Batch 100/1401] loss=0.1959, lr=0.0000050, acc=0.909 - time 0:00:09.237151\n",
      "[Epoch 4 Batch 110/1401] loss=0.1946, lr=0.0000050, acc=0.909 - time 0:00:08.752831\n",
      "[Epoch 4 Batch 120/1401] loss=0.1617, lr=0.0000050, acc=0.910 - time 0:00:08.241837\n",
      "[Epoch 4 Batch 130/1401] loss=0.1686, lr=0.0000050, acc=0.910 - time 0:00:09.115794\n",
      "[Epoch 4 Batch 140/1401] loss=0.1297, lr=0.0000050, acc=0.913 - time 0:00:08.901885\n",
      "[Epoch 4 Batch 150/1401] loss=0.1323, lr=0.0000050, acc=0.914 - time 0:00:08.066160\n",
      "[Epoch 4 Batch 160/1401] loss=0.1727, lr=0.0000050, acc=0.914 - time 0:00:09.408770\n",
      "[Epoch 4 Batch 170/1401] loss=0.2495, lr=0.0000050, acc=0.911 - time 0:00:09.426405\n",
      "[Epoch 4 Batch 180/1401] loss=0.1990, lr=0.0000050, acc=0.911 - time 0:00:08.816643\n",
      "[Epoch 4 Batch 190/1401] loss=0.1393, lr=0.0000050, acc=0.911 - time 0:00:08.453212\n",
      "[Epoch 4 Batch 200/1401] loss=0.2028, lr=0.0000050, acc=0.911 - time 0:00:09.338580\n",
      "[Epoch 4 Batch 210/1401] loss=0.2352, lr=0.0000050, acc=0.910 - time 0:00:09.320244\n",
      "[Epoch 4 Batch 220/1401] loss=0.2129, lr=0.0000050, acc=0.910 - time 0:00:08.783720\n",
      "[Epoch 4 Batch 230/1401] loss=0.1620, lr=0.0000050, acc=0.910 - time 0:00:08.771348\n",
      "[Epoch 4 Batch 240/1401] loss=0.1903, lr=0.0000050, acc=0.910 - time 0:00:09.012049\n",
      "[Epoch 4 Batch 250/1401] loss=0.1753, lr=0.0000050, acc=0.910 - time 0:00:09.395571\n",
      "[Epoch 4 Batch 260/1401] loss=0.1908, lr=0.0000050, acc=0.909 - time 0:00:07.948020\n",
      "[Epoch 4 Batch 270/1401] loss=0.1949, lr=0.0000050, acc=0.909 - time 0:00:09.034382\n",
      "[Epoch 4 Batch 280/1401] loss=0.1123, lr=0.0000050, acc=0.911 - time 0:00:08.674624\n",
      "[Epoch 4 Batch 290/1401] loss=0.1433, lr=0.0000050, acc=0.912 - time 0:00:08.085557\n",
      "[Epoch 4 Batch 300/1401] loss=0.1438, lr=0.0000050, acc=0.913 - time 0:00:08.788947\n",
      "[Epoch 4 Batch 310/1401] loss=0.1232, lr=0.0000050, acc=0.914 - time 0:00:08.894567\n",
      "[Epoch 4 Batch 320/1401] loss=0.2489, lr=0.0000050, acc=0.913 - time 0:00:08.735803\n",
      "[Epoch 4 Batch 330/1401] loss=0.1877, lr=0.0000050, acc=0.913 - time 0:00:09.338973\n",
      "[Epoch 4 Batch 340/1401] loss=0.1801, lr=0.0000050, acc=0.913 - time 0:00:09.087897\n",
      "[Epoch 4 Batch 350/1401] loss=0.1928, lr=0.0000050, acc=0.913 - time 0:00:09.175764\n",
      "[Epoch 4 Batch 360/1401] loss=0.1896, lr=0.0000050, acc=0.914 - time 0:00:08.467131\n",
      "[Epoch 4 Batch 370/1401] loss=0.1735, lr=0.0000050, acc=0.914 - time 0:00:08.749500\n",
      "[Epoch 4 Batch 380/1401] loss=0.2074, lr=0.0000050, acc=0.913 - time 0:00:09.294601\n",
      "[Epoch 4 Batch 390/1401] loss=0.0901, lr=0.0000050, acc=0.915 - time 0:00:08.206446\n",
      "[Epoch 4 Batch 400/1401] loss=0.1801, lr=0.0000050, acc=0.915 - time 0:00:07.944642\n",
      "[Epoch 4 Batch 410/1401] loss=0.1355, lr=0.0000050, acc=0.915 - time 0:00:08.614692\n",
      "[Epoch 4 Batch 420/1401] loss=0.1896, lr=0.0000050, acc=0.915 - time 0:00:09.452693\n",
      "[Epoch 4 Batch 430/1401] loss=0.1995, lr=0.0000050, acc=0.915 - time 0:00:09.197437\n",
      "[Epoch 4 Batch 440/1401] loss=0.1213, lr=0.0000050, acc=0.915 - time 0:00:08.568478\n",
      "[Epoch 4 Batch 450/1401] loss=0.2174, lr=0.0000050, acc=0.915 - time 0:00:10.070965\n",
      "[Epoch 4 Batch 460/1401] loss=0.2003, lr=0.0000050, acc=0.915 - time 0:00:09.148897\n",
      "[Epoch 4 Batch 470/1401] loss=0.1582, lr=0.0000050, acc=0.915 - time 0:00:08.042500\n",
      "[Epoch 4 Batch 480/1401] loss=0.1679, lr=0.0000050, acc=0.915 - time 0:00:08.757862\n",
      "[Epoch 4 Batch 490/1401] loss=0.1976, lr=0.0000050, acc=0.915 - time 0:00:09.210560\n",
      "[Epoch 4 Batch 500/1401] loss=0.2203, lr=0.0000050, acc=0.915 - time 0:00:09.040343\n",
      "[Epoch 4 Batch 510/1401] loss=0.2601, lr=0.0000050, acc=0.914 - time 0:00:09.261575\n",
      "[Epoch 4 Batch 520/1401] loss=0.1856, lr=0.0000050, acc=0.914 - time 0:00:09.479920\n",
      "[Epoch 4 Batch 530/1401] loss=0.1846, lr=0.0000050, acc=0.914 - time 0:00:09.520982\n",
      "[Epoch 4 Batch 540/1401] loss=0.1241, lr=0.0000050, acc=0.914 - time 0:00:07.620364\n",
      "[Epoch 4 Batch 550/1401] loss=0.2206, lr=0.0000050, acc=0.914 - time 0:00:09.337551\n",
      "[Epoch 4 Batch 560/1401] loss=0.2036, lr=0.0000050, acc=0.914 - time 0:00:09.574462\n",
      "[Epoch 4 Batch 570/1401] loss=0.2563, lr=0.0000050, acc=0.913 - time 0:00:09.502134\n",
      "[Epoch 4 Batch 580/1401] loss=0.2159, lr=0.0000050, acc=0.912 - time 0:00:08.425962\n",
      "[Epoch 4 Batch 590/1401] loss=0.2519, lr=0.0000050, acc=0.912 - time 0:00:09.184356\n",
      "[Epoch 4 Batch 600/1401] loss=0.1703, lr=0.0000050, acc=0.912 - time 0:00:09.310164\n",
      "[Epoch 4 Batch 610/1401] loss=0.1962, lr=0.0000050, acc=0.912 - time 0:00:08.635463\n",
      "[Epoch 4 Batch 620/1401] loss=0.1480, lr=0.0000050, acc=0.913 - time 0:00:08.238275\n",
      "[Epoch 4 Batch 630/1401] loss=0.1431, lr=0.0000050, acc=0.913 - time 0:00:08.810783\n",
      "[Epoch 4 Batch 640/1401] loss=0.1477, lr=0.0000050, acc=0.913 - time 0:00:08.730270\n",
      "[Epoch 4 Batch 650/1401] loss=0.1574, lr=0.0000050, acc=0.913 - time 0:00:08.148381\n",
      "[Epoch 4 Batch 660/1401] loss=0.1574, lr=0.0000050, acc=0.913 - time 0:00:09.164234\n",
      "[Epoch 4 Batch 670/1401] loss=0.1152, lr=0.0000050, acc=0.914 - time 0:00:08.779371\n",
      "[Epoch 4 Batch 680/1401] loss=0.1713, lr=0.0000050, acc=0.914 - time 0:00:09.143833\n",
      "[Epoch 4 Batch 690/1401] loss=0.1559, lr=0.0000050, acc=0.914 - time 0:00:08.438976\n",
      "[Epoch 4 Batch 700/1401] loss=0.2674, lr=0.0000050, acc=0.914 - time 0:00:09.727998\n",
      "[Epoch 4 Batch 710/1401] loss=0.1886, lr=0.0000050, acc=0.914 - time 0:00:09.541661\n",
      "[Epoch 4 Batch 720/1401] loss=0.1517, lr=0.0000050, acc=0.914 - time 0:00:08.308064\n",
      "[Epoch 4 Batch 730/1401] loss=0.1235, lr=0.0000050, acc=0.914 - time 0:00:08.083629\n",
      "[Epoch 4 Batch 740/1401] loss=0.1829, lr=0.0000050, acc=0.914 - time 0:00:09.800106\n",
      "[Epoch 4 Batch 750/1401] loss=0.2127, lr=0.0000050, acc=0.914 - time 0:00:09.069614\n",
      "[Epoch 4 Batch 760/1401] loss=0.1451, lr=0.0000050, acc=0.914 - time 0:00:07.702322\n",
      "[Epoch 4 Batch 770/1401] loss=0.1371, lr=0.0000050, acc=0.914 - time 0:00:08.743565\n",
      "[Epoch 4 Batch 780/1401] loss=0.1261, lr=0.0000050, acc=0.915 - time 0:00:08.963647\n",
      "[Epoch 4 Batch 790/1401] loss=0.2136, lr=0.0000050, acc=0.914 - time 0:00:07.835585\n",
      "[Epoch 4 Batch 800/1401] loss=0.1705, lr=0.0000050, acc=0.914 - time 0:00:09.142536\n",
      "[Epoch 4 Batch 810/1401] loss=0.2212, lr=0.0000050, acc=0.914 - time 0:00:10.008455\n",
      "[Epoch 4 Batch 820/1401] loss=0.2335, lr=0.0000050, acc=0.914 - time 0:00:09.949361\n",
      "[Epoch 4 Batch 830/1401] loss=0.1641, lr=0.0000050, acc=0.914 - time 0:00:08.811363\n",
      "[Epoch 4 Batch 840/1401] loss=0.1350, lr=0.0000050, acc=0.914 - time 0:00:08.405543\n",
      "[Epoch 4 Batch 850/1401] loss=0.1442, lr=0.0000050, acc=0.915 - time 0:00:08.481874\n",
      "[Epoch 4 Batch 860/1401] loss=0.1622, lr=0.0000050, acc=0.915 - time 0:00:08.124834\n",
      "[Epoch 4 Batch 870/1401] loss=0.1850, lr=0.0000050, acc=0.915 - time 0:00:08.216025\n",
      "[Epoch 4 Batch 880/1401] loss=0.2570, lr=0.0000050, acc=0.915 - time 0:00:09.724421\n",
      "[Epoch 4 Batch 890/1401] loss=0.2871, lr=0.0000050, acc=0.914 - time 0:00:09.836951\n",
      "[Epoch 4 Batch 900/1401] loss=0.1910, lr=0.0000050, acc=0.914 - time 0:00:07.941465\n",
      "[Epoch 4 Batch 910/1401] loss=0.2480, lr=0.0000050, acc=0.914 - time 0:00:10.050607\n",
      "[Epoch 4 Batch 920/1401] loss=0.2022, lr=0.0000050, acc=0.913 - time 0:00:08.935015\n",
      "[Epoch 4 Batch 930/1401] loss=0.2017, lr=0.0000050, acc=0.913 - time 0:00:08.733342\n",
      "[Epoch 4 Batch 940/1401] loss=0.1427, lr=0.0000050, acc=0.914 - time 0:00:08.694063\n",
      "[Epoch 4 Batch 950/1401] loss=0.2125, lr=0.0000050, acc=0.913 - time 0:00:09.437278\n",
      "[Epoch 4 Batch 960/1401] loss=0.1428, lr=0.0000050, acc=0.913 - time 0:00:08.808081\n"
     ]
    },
    {
     "name": "stdout",
     "output_type": "stream",
     "text": [
      "[Epoch 4 Batch 970/1401] loss=0.2782, lr=0.0000050, acc=0.913 - time 0:00:09.324091\n",
      "[Epoch 4 Batch 980/1401] loss=0.1410, lr=0.0000050, acc=0.913 - time 0:00:08.665544\n",
      "[Epoch 4 Batch 990/1401] loss=0.1470, lr=0.0000050, acc=0.913 - time 0:00:08.708995\n",
      "[Epoch 4 Batch 1000/1401] loss=0.1299, lr=0.0000050, acc=0.914 - time 0:00:08.253062\n",
      "[Epoch 4 Batch 1010/1401] loss=0.2357, lr=0.0000050, acc=0.913 - time 0:00:09.042043\n",
      "[Epoch 4 Batch 1020/1401] loss=0.1568, lr=0.0000050, acc=0.913 - time 0:00:08.531306\n",
      "[Epoch 4 Batch 1030/1401] loss=0.2139, lr=0.0000050, acc=0.913 - time 0:00:09.233333\n",
      "[Epoch 4 Batch 1040/1401] loss=0.1716, lr=0.0000050, acc=0.913 - time 0:00:07.815944\n",
      "[Epoch 4 Batch 1050/1401] loss=0.1832, lr=0.0000050, acc=0.913 - time 0:00:08.179736\n",
      "[Epoch 4 Batch 1060/1401] loss=0.0965, lr=0.0000050, acc=0.913 - time 0:00:08.553700\n",
      "[Epoch 4 Batch 1070/1401] loss=0.1726, lr=0.0000050, acc=0.913 - time 0:00:07.734824\n",
      "[Epoch 4 Batch 1080/1401] loss=0.1850, lr=0.0000050, acc=0.913 - time 0:00:09.556504\n",
      "[Epoch 4 Batch 1090/1401] loss=0.2374, lr=0.0000050, acc=0.913 - time 0:00:09.668741\n",
      "[Epoch 4 Batch 1100/1401] loss=0.2088, lr=0.0000050, acc=0.913 - time 0:00:08.866974\n",
      "[Epoch 4 Batch 1110/1401] loss=0.1757, lr=0.0000050, acc=0.913 - time 0:00:08.559802\n",
      "[Epoch 4 Batch 1120/1401] loss=0.1754, lr=0.0000050, acc=0.913 - time 0:00:09.059589\n",
      "[Epoch 4 Batch 1130/1401] loss=0.1796, lr=0.0000050, acc=0.913 - time 0:00:09.116346\n",
      "[Epoch 4 Batch 1140/1401] loss=0.2986, lr=0.0000050, acc=0.912 - time 0:00:08.942701\n",
      "[Epoch 4 Batch 1150/1401] loss=0.2132, lr=0.0000050, acc=0.912 - time 0:00:09.288741\n",
      "[Epoch 4 Batch 1160/1401] loss=0.2405, lr=0.0000050, acc=0.912 - time 0:00:09.763766\n",
      "[Epoch 4 Batch 1170/1401] loss=0.1854, lr=0.0000050, acc=0.912 - time 0:00:09.531454\n",
      "[Epoch 4 Batch 1180/1401] loss=0.1398, lr=0.0000050, acc=0.912 - time 0:00:08.141579\n",
      "[Epoch 4 Batch 1190/1401] loss=0.1367, lr=0.0000050, acc=0.912 - time 0:00:08.833855\n",
      "[Epoch 4 Batch 1200/1401] loss=0.2214, lr=0.0000050, acc=0.912 - time 0:00:09.556871\n",
      "[Epoch 4 Batch 1210/1401] loss=0.2711, lr=0.0000050, acc=0.912 - time 0:00:09.483009\n",
      "[Epoch 4 Batch 1220/1401] loss=0.1112, lr=0.0000050, acc=0.912 - time 0:00:07.949095\n",
      "[Epoch 4 Batch 1230/1401] loss=0.2108, lr=0.0000050, acc=0.912 - time 0:00:09.615065\n",
      "[Epoch 4 Batch 1240/1401] loss=0.1924, lr=0.0000050, acc=0.912 - time 0:00:09.244995\n",
      "[Epoch 4 Batch 1250/1401] loss=0.0853, lr=0.0000050, acc=0.912 - time 0:00:07.963803\n",
      "[Epoch 4 Batch 1260/1401] loss=0.2082, lr=0.0000050, acc=0.912 - time 0:00:08.779032\n",
      "[Epoch 4 Batch 1270/1401] loss=0.1643, lr=0.0000050, acc=0.912 - time 0:00:09.145121\n",
      "[Epoch 4 Batch 1280/1401] loss=0.2042, lr=0.0000050, acc=0.912 - time 0:00:09.080107\n",
      "[Epoch 4 Batch 1290/1401] loss=0.2013, lr=0.0000050, acc=0.912 - time 0:00:08.720775\n",
      "[Epoch 4 Batch 1300/1401] loss=0.2016, lr=0.0000050, acc=0.912 - time 0:00:08.660726\n",
      "[Epoch 4 Batch 1310/1401] loss=0.2042, lr=0.0000050, acc=0.912 - time 0:00:09.459652\n",
      "[Epoch 4 Batch 1320/1401] loss=0.2190, lr=0.0000050, acc=0.912 - time 0:00:08.787599\n",
      "[Epoch 4 Batch 1330/1401] loss=0.1691, lr=0.0000050, acc=0.912 - time 0:00:08.290788\n",
      "[Epoch 4 Batch 1340/1401] loss=0.2641, lr=0.0000050, acc=0.912 - time 0:00:10.109111\n",
      "[Epoch 4 Batch 1350/1401] loss=0.1027, lr=0.0000050, acc=0.912 - time 0:00:08.518846\n",
      "[Epoch 4 Batch 1360/1401] loss=0.1953, lr=0.0000050, acc=0.912 - time 0:00:08.929926\n",
      "[Epoch 4 Batch 1370/1401] loss=0.1838, lr=0.0000050, acc=0.912 - time 0:00:08.877859\n",
      "[Epoch 4 Batch 1380/1401] loss=0.2206, lr=0.0000050, acc=0.912 - time 0:00:09.835775\n",
      "[Epoch 4 Batch 1390/1401] loss=0.2410, lr=0.0000050, acc=0.911 - time 0:00:09.415978\n",
      "[Epoch 4 Batch 1400/1401] loss=0.1363, lr=0.0000050, acc=0.912 - time 0:00:08.243994\n",
      "Time for [epoch 4]: 0:20:46.460800\n",
      "Time for [training]: 0:20:50.879607\n"
     ]
    },
    {
     "data": {
      "image/png": "[encoded data removed]",
      "text/plain": [
       "<Figure size 432x288 with 2 Axes>"
      ]
     },
     "metadata": {
      "needs_background": "light"
     },
     "output_type": "display_data"
    },
    {
     "name": "stderr",
     "output_type": "stream",
     "text": [
      "\r",
      "  0%|          | 0/600 [00:00<?, ?it/s]"
     ]
    },
    {
     "name": "stdout",
     "output_type": "stream",
     "text": [
      "Time for [4 - train model - 4]: 0:24:44.249447\n"
     ]
    },
    {
     "name": "stderr",
     "output_type": "stream",
     "text": [
      "100%|██████████| 600/600 [03:26<00:00,  2.91it/s]\n"
     ]
    },
    {
     "name": "stdout",
     "output_type": "stream",
     "text": [
      "Time for [prediction]: 0:03:26.281100\n",
      "Accuracy in epoch 4: 0.8553022794846382\n",
      "Confusion Matrix:\n",
      "[[7546 1287]\n",
      " [1487 8851]]\n",
      "\n",
      "Accuracy:  0.86 \n",
      "\n",
      "Report for [BERTClassifier]:\n",
      "              precision    recall  f1-score   support\n",
      "\n",
      "           0       0.84      0.85      0.84      8833\n",
      "           1       0.87      0.86      0.86     10338\n",
      "\n",
      "    accuracy                           0.86     19171\n",
      "   macro avg       0.85      0.86      0.85     19171\n",
      "weighted avg       0.86      0.86      0.86     19171\n",
      "\n",
      "Time for [6 - evaluate - 4]: 0:03:26.511770\n"
     ]
    }
   ],
   "source": [
    "for epoch_id in range(5):\n",
    "    with Timer(\"4 - train model - {}\".format(epoch_id)):\n",
    "        stats = train(model, data_train, ctx, metric, loss_function, batch_size=32, lr=5e-6, num_epochs=epoch_id + 1)\n",
    "        plot_train_stats(stats)\n",
    "\n",
    "    with Timer(\"6 - evaluate - {}\".format(epoch_id)):\n",
    "        all_predictions, cum_loss = predict(model, data_dev, ctx, metric, loss_function)\n",
    "        print(\"Accuracy in epoch {}:\".format(epoch_id), metric.get()[1])\n",
    "        y_true, y_pred = predict_out_to_ys(all_predictions, all_labels)\n",
    "        report_training_results(y_true, y_pred, name=\"BERTClassifier\", heatmap=False)\n",
    "\n",
    "    model.save_parameters(\"data/bert.model.params\")"
   ]
  },
  {
   "cell_type": "markdown",
   "metadata": {},
   "source": [
    "### Cross topic - Training and evaluating model "
   ]
  },
  {
   "cell_type": "code",
   "execution_count": 27,
   "metadata": {
    "ExecuteTime": {
     "end_time": "2019-07-01T15:29:14.625471Z",
     "start_time": "2019-07-01T15:29:14.600182Z"
    }
   },
   "outputs": [
    {
     "name": "stdout",
     "output_type": "stream",
     "text": [
      "Time for [1 - test/train split]: 0:00:00.020626\n"
     ]
    }
   ],
   "source": [
    "# 1. Getting train and dev data\n",
    "with Timer(\"1 - test/train split\"):\n",
    "    X_train, X_dev, y_train, y_dev = get_train_test_sets(cross_traindev_df)"
   ]
  },
  {
   "cell_type": "code",
   "execution_count": 28,
   "metadata": {
    "ExecuteTime": {
     "end_time": "2019-07-01T15:29:21.855825Z",
     "start_time": "2019-07-01T15:29:20.014313Z"
    },
    "collapsed": true
   },
   "outputs": [
    {
     "name": "stdout",
     "output_type": "stream",
     "text": [
      "BERTModel(\n",
      "  (encoder): BERTEncoder(\n",
      "    (dropout_layer): Dropout(p = 0.1, axes=())\n",
      "    (layer_norm): BERTLayerNorm(eps=1e-12, axis=-1, center=True, scale=True, in_channels=768)\n",
      "    (transformer_cells): HybridSequential(\n",
      "      (0): BERTEncoderCell(\n",
      "        (dropout_layer): Dropout(p = 0.1, axes=())\n",
      "        (attention_cell): MultiHeadAttentionCell(\n",
      "          (_base_cell): DotProductAttentionCell(\n",
      "            (_dropout_layer): Dropout(p = 0.1, axes=())\n",
      "          )\n",
      "          (proj_query): Dense(768 -> 768, linear)\n",
      "          (proj_key): Dense(768 -> 768, linear)\n",
      "          (proj_value): Dense(768 -> 768, linear)\n",
      "        )\n",
      "        (proj): Dense(768 -> 768, linear)\n",
      "        (ffn): BERTPositionwiseFFN(\n",
      "          (ffn_1): Dense(768 -> 3072, linear)\n",
      "          (activation): GELU()\n",
      "          (ffn_2): Dense(3072 -> 768, linear)\n",
      "          (dropout_layer): Dropout(p = 0.1, axes=())\n",
      "          (layer_norm): BERTLayerNorm(eps=1e-12, axis=-1, center=True, scale=True, in_channels=768)\n",
      "        )\n",
      "        (layer_norm): BERTLayerNorm(eps=1e-12, axis=-1, center=True, scale=True, in_channels=768)\n",
      "      )\n",
      "      (1): BERTEncoderCell(\n",
      "        (dropout_layer): Dropout(p = 0.1, axes=())\n",
      "        (attention_cell): MultiHeadAttentionCell(\n",
      "          (_base_cell): DotProductAttentionCell(\n",
      "            (_dropout_layer): Dropout(p = 0.1, axes=())\n",
      "          )\n",
      "          (proj_query): Dense(768 -> 768, linear)\n",
      "          (proj_key): Dense(768 -> 768, linear)\n",
      "          (proj_value): Dense(768 -> 768, linear)\n",
      "        )\n",
      "        (proj): Dense(768 -> 768, linear)\n",
      "        (ffn): BERTPositionwiseFFN(\n",
      "          (ffn_1): Dense(768 -> 3072, linear)\n",
      "          (activation): GELU()\n",
      "          (ffn_2): Dense(3072 -> 768, linear)\n",
      "          (dropout_layer): Dropout(p = 0.1, axes=())\n",
      "          (layer_norm): BERTLayerNorm(eps=1e-12, axis=-1, center=True, scale=True, in_channels=768)\n",
      "        )\n",
      "        (layer_norm): BERTLayerNorm(eps=1e-12, axis=-1, center=True, scale=True, in_channels=768)\n",
      "      )\n",
      "      (2): BERTEncoderCell(\n",
      "        (dropout_layer): Dropout(p = 0.1, axes=())\n",
      "        (attention_cell): MultiHeadAttentionCell(\n",
      "          (_base_cell): DotProductAttentionCell(\n",
      "            (_dropout_layer): Dropout(p = 0.1, axes=())\n",
      "          )\n",
      "          (proj_query): Dense(768 -> 768, linear)\n",
      "          (proj_key): Dense(768 -> 768, linear)\n",
      "          (proj_value): Dense(768 -> 768, linear)\n",
      "        )\n",
      "        (proj): Dense(768 -> 768, linear)\n",
      "        (ffn): BERTPositionwiseFFN(\n",
      "          (ffn_1): Dense(768 -> 3072, linear)\n",
      "          (activation): GELU()\n",
      "          (ffn_2): Dense(3072 -> 768, linear)\n",
      "          (dropout_layer): Dropout(p = 0.1, axes=())\n",
      "          (layer_norm): BERTLayerNorm(eps=1e-12, axis=-1, center=True, scale=True, in_channels=768)\n",
      "        )\n",
      "        (layer_norm): BERTLayerNorm(eps=1e-12, axis=-1, center=True, scale=True, in_channels=768)\n",
      "      )\n",
      "      (3): BERTEncoderCell(\n",
      "        (dropout_layer): Dropout(p = 0.1, axes=())\n",
      "        (attention_cell): MultiHeadAttentionCell(\n",
      "          (_base_cell): DotProductAttentionCell(\n",
      "            (_dropout_layer): Dropout(p = 0.1, axes=())\n",
      "          )\n",
      "          (proj_query): Dense(768 -> 768, linear)\n",
      "          (proj_key): Dense(768 -> 768, linear)\n",
      "          (proj_value): Dense(768 -> 768, linear)\n",
      "        )\n",
      "        (proj): Dense(768 -> 768, linear)\n",
      "        (ffn): BERTPositionwiseFFN(\n",
      "          (ffn_1): Dense(768 -> 3072, linear)\n",
      "          (activation): GELU()\n",
      "          (ffn_2): Dense(3072 -> 768, linear)\n",
      "          (dropout_layer): Dropout(p = 0.1, axes=())\n",
      "          (layer_norm): BERTLayerNorm(eps=1e-12, axis=-1, center=True, scale=True, in_channels=768)\n",
      "        )\n",
      "        (layer_norm): BERTLayerNorm(eps=1e-12, axis=-1, center=True, scale=True, in_channels=768)\n",
      "      )\n",
      "      (4): BERTEncoderCell(\n",
      "        (dropout_layer): Dropout(p = 0.1, axes=())\n",
      "        (attention_cell): MultiHeadAttentionCell(\n",
      "          (_base_cell): DotProductAttentionCell(\n",
      "            (_dropout_layer): Dropout(p = 0.1, axes=())\n",
      "          )\n",
      "          (proj_query): Dense(768 -> 768, linear)\n",
      "          (proj_key): Dense(768 -> 768, linear)\n",
      "          (proj_value): Dense(768 -> 768, linear)\n",
      "        )\n",
      "        (proj): Dense(768 -> 768, linear)\n",
      "        (ffn): BERTPositionwiseFFN(\n",
      "          (ffn_1): Dense(768 -> 3072, linear)\n",
      "          (activation): GELU()\n",
      "          (ffn_2): Dense(3072 -> 768, linear)\n",
      "          (dropout_layer): Dropout(p = 0.1, axes=())\n",
      "          (layer_norm): BERTLayerNorm(eps=1e-12, axis=-1, center=True, scale=True, in_channels=768)\n",
      "        )\n",
      "        (layer_norm): BERTLayerNorm(eps=1e-12, axis=-1, center=True, scale=True, in_channels=768)\n",
      "      )\n",
      "      (5): BERTEncoderCell(\n",
      "        (dropout_layer): Dropout(p = 0.1, axes=())\n",
      "        (attention_cell): MultiHeadAttentionCell(\n",
      "          (_base_cell): DotProductAttentionCell(\n",
      "            (_dropout_layer): Dropout(p = 0.1, axes=())\n",
      "          )\n",
      "          (proj_query): Dense(768 -> 768, linear)\n",
      "          (proj_key): Dense(768 -> 768, linear)\n",
      "          (proj_value): Dense(768 -> 768, linear)\n",
      "        )\n",
      "        (proj): Dense(768 -> 768, linear)\n",
      "        (ffn): BERTPositionwiseFFN(\n",
      "          (ffn_1): Dense(768 -> 3072, linear)\n",
      "          (activation): GELU()\n",
      "          (ffn_2): Dense(3072 -> 768, linear)\n",
      "          (dropout_layer): Dropout(p = 0.1, axes=())\n",
      "          (layer_norm): BERTLayerNorm(eps=1e-12, axis=-1, center=True, scale=True, in_channels=768)\n",
      "        )\n",
      "        (layer_norm): BERTLayerNorm(eps=1e-12, axis=-1, center=True, scale=True, in_channels=768)\n",
      "      )\n",
      "      (6): BERTEncoderCell(\n",
      "        (dropout_layer): Dropout(p = 0.1, axes=())\n",
      "        (attention_cell): MultiHeadAttentionCell(\n",
      "          (_base_cell): DotProductAttentionCell(\n",
      "            (_dropout_layer): Dropout(p = 0.1, axes=())\n",
      "          )\n",
      "          (proj_query): Dense(768 -> 768, linear)\n",
      "          (proj_key): Dense(768 -> 768, linear)\n",
      "          (proj_value): Dense(768 -> 768, linear)\n",
      "        )\n",
      "        (proj): Dense(768 -> 768, linear)\n",
      "        (ffn): BERTPositionwiseFFN(\n",
      "          (ffn_1): Dense(768 -> 3072, linear)\n",
      "          (activation): GELU()\n",
      "          (ffn_2): Dense(3072 -> 768, linear)\n",
      "          (dropout_layer): Dropout(p = 0.1, axes=())\n",
      "          (layer_norm): BERTLayerNorm(eps=1e-12, axis=-1, center=True, scale=True, in_channels=768)\n",
      "        )\n",
      "        (layer_norm): BERTLayerNorm(eps=1e-12, axis=-1, center=True, scale=True, in_channels=768)\n",
      "      )\n",
      "      (7): BERTEncoderCell(\n",
      "        (dropout_layer): Dropout(p = 0.1, axes=())\n",
      "        (attention_cell): MultiHeadAttentionCell(\n",
      "          (_base_cell): DotProductAttentionCell(\n",
      "            (_dropout_layer): Dropout(p = 0.1, axes=())\n",
      "          )\n",
      "          (proj_query): Dense(768 -> 768, linear)\n",
      "          (proj_key): Dense(768 -> 768, linear)\n",
      "          (proj_value): Dense(768 -> 768, linear)\n",
      "        )\n",
      "        (proj): Dense(768 -> 768, linear)\n",
      "        (ffn): BERTPositionwiseFFN(\n",
      "          (ffn_1): Dense(768 -> 3072, linear)\n",
      "          (activation): GELU()\n",
      "          (ffn_2): Dense(3072 -> 768, linear)\n",
      "          (dropout_layer): Dropout(p = 0.1, axes=())\n",
      "          (layer_norm): BERTLayerNorm(eps=1e-12, axis=-1, center=True, scale=True, in_channels=768)\n",
      "        )\n",
      "        (layer_norm): BERTLayerNorm(eps=1e-12, axis=-1, center=True, scale=True, in_channels=768)\n",
      "      )\n",
      "      (8): BERTEncoderCell(\n",
      "        (dropout_layer): Dropout(p = 0.1, axes=())\n",
      "        (attention_cell): MultiHeadAttentionCell(\n",
      "          (_base_cell): DotProductAttentionCell(\n",
      "            (_dropout_layer): Dropout(p = 0.1, axes=())\n",
      "          )\n",
      "          (proj_query): Dense(768 -> 768, linear)\n",
      "          (proj_key): Dense(768 -> 768, linear)\n",
      "          (proj_value): Dense(768 -> 768, linear)\n",
      "        )\n",
      "        (proj): Dense(768 -> 768, linear)\n",
      "        (ffn): BERTPositionwiseFFN(\n",
      "          (ffn_1): Dense(768 -> 3072, linear)\n",
      "          (activation): GELU()\n",
      "          (ffn_2): Dense(3072 -> 768, linear)\n",
      "          (dropout_layer): Dropout(p = 0.1, axes=())\n",
      "          (layer_norm): BERTLayerNorm(eps=1e-12, axis=-1, center=True, scale=True, in_channels=768)\n",
      "        )\n",
      "        (layer_norm): BERTLayerNorm(eps=1e-12, axis=-1, center=True, scale=True, in_channels=768)\n",
      "      )\n",
      "      (9): BERTEncoderCell(\n",
      "        (dropout_layer): Dropout(p = 0.1, axes=())\n",
      "        (attention_cell): MultiHeadAttentionCell(\n",
      "          (_base_cell): DotProductAttentionCell(\n",
      "            (_dropout_layer): Dropout(p = 0.1, axes=())\n",
      "          )\n",
      "          (proj_query): Dense(768 -> 768, linear)\n",
      "          (proj_key): Dense(768 -> 768, linear)\n",
      "          (proj_value): Dense(768 -> 768, linear)\n",
      "        )\n",
      "        (proj): Dense(768 -> 768, linear)\n",
      "        (ffn): BERTPositionwiseFFN(\n",
      "          (ffn_1): Dense(768 -> 3072, linear)\n",
      "          (activation): GELU()\n",
      "          (ffn_2): Dense(3072 -> 768, linear)\n",
      "          (dropout_layer): Dropout(p = 0.1, axes=())\n",
      "          (layer_norm): BERTLayerNorm(eps=1e-12, axis=-1, center=True, scale=True, in_channels=768)\n",
      "        )\n",
      "        (layer_norm): BERTLayerNorm(eps=1e-12, axis=-1, center=True, scale=True, in_channels=768)\n",
      "      )\n",
      "      (10): BERTEncoderCell(\n",
      "        (dropout_layer): Dropout(p = 0.1, axes=())\n",
      "        (attention_cell): MultiHeadAttentionCell(\n",
      "          (_base_cell): DotProductAttentionCell(\n",
      "            (_dropout_layer): Dropout(p = 0.1, axes=())\n",
      "          )\n",
      "          (proj_query): Dense(768 -> 768, linear)\n",
      "          (proj_key): Dense(768 -> 768, linear)\n",
      "          (proj_value): Dense(768 -> 768, linear)\n",
      "        )\n",
      "        (proj): Dense(768 -> 768, linear)\n",
      "        (ffn): BERTPositionwiseFFN(\n",
      "          (ffn_1): Dense(768 -> 3072, linear)\n",
      "          (activation): GELU()\n",
      "          (ffn_2): Dense(3072 -> 768, linear)\n",
      "          (dropout_layer): Dropout(p = 0.1, axes=())\n",
      "          (layer_norm): BERTLayerNorm(eps=1e-12, axis=-1, center=True, scale=True, in_channels=768)\n",
      "        )\n",
      "        (layer_norm): BERTLayerNorm(eps=1e-12, axis=-1, center=True, scale=True, in_channels=768)\n",
      "      )\n",
      "      (11): BERTEncoderCell(\n",
      "        (dropout_layer): Dropout(p = 0.1, axes=())\n",
      "        (attention_cell): MultiHeadAttentionCell(\n",
      "          (_base_cell): DotProductAttentionCell(\n",
      "            (_dropout_layer): Dropout(p = 0.1, axes=())\n",
      "          )\n",
      "          (proj_query): Dense(768 -> 768, linear)\n",
      "          (proj_key): Dense(768 -> 768, linear)\n",
      "          (proj_value): Dense(768 -> 768, linear)\n",
      "        )\n",
      "        (proj): Dense(768 -> 768, linear)\n",
      "        (ffn): BERTPositionwiseFFN(\n",
      "          (ffn_1): Dense(768 -> 3072, linear)\n",
      "          (activation): GELU()\n",
      "          (ffn_2): Dense(3072 -> 768, linear)\n",
      "          (dropout_layer): Dropout(p = 0.1, axes=())\n",
      "          (layer_norm): BERTLayerNorm(eps=1e-12, axis=-1, center=True, scale=True, in_channels=768)\n",
      "        )\n",
      "        (layer_norm): BERTLayerNorm(eps=1e-12, axis=-1, center=True, scale=True, in_channels=768)\n",
      "      )\n",
      "    )\n",
      "  )\n",
      "  (word_embed): HybridSequential(\n",
      "    (0): Embedding(30522 -> 768, float32)\n",
      "    (1): Dropout(p = 0.1, axes=())\n",
      "  )\n",
      "  (token_type_embed): HybridSequential(\n",
      "    (0): Embedding(2 -> 768, float32)\n",
      "    (1): Dropout(p = 0.1, axes=())\n",
      "  )\n",
      "  (pooler): Dense(768 -> 768, Activation(tanh))\n",
      ")\n",
      "Time for [2 - setup BERT model]: 0:00:01.838833\n"
     ]
    }
   ],
   "source": [
    "# 2. setup\n",
    "with Timer(\"2 - setup BERT model\"):\n",
    "    model, vocabulary, ctx, transform, loss_function, metric, all_labels = setup_bert()"
   ]
  },
  {
   "cell_type": "code",
   "execution_count": 29,
   "metadata": {
    "ExecuteTime": {
     "end_time": "2019-07-01T15:29:31.347837Z",
     "start_time": "2019-07-01T15:29:29.002825Z"
    },
    "collapsed": true
   },
   "outputs": [
    {
     "name": "stdout",
     "output_type": "stream",
     "text": [
      "doctors that perform abortions are often emotionally damaged\n",
      "unborn life should never depend on whether it is \"wanted\"\n",
      "1\n",
      "vocabulary used for tokenization = \n",
      "Vocab(size=30522, unk=\"[UNK]\", reserved=\"['[PAD]', '[CLS]', '[SEP]', '[MASK]']\")\n",
      "[PAD] token id = 1\n",
      "[CLS] token id = 2\n",
      "[SEP] token id = 3\n",
      "token ids = \n",
      "[    2  7435  2008  4685 11324  2015  2024  2411 14868  5591     3  4895\n",
      " 10280  2166  2323  2196 12530  2006  3251  2009  2003  1000  2359  1000\n",
      "     3     1     1     1     1     1     1     1     1     1     1     1\n",
      "     1     1     1     1     1     1     1     1     1     1     1     1\n",
      "     1     1     1     1     1     1     1     1     1     1     1     1\n",
      "     1     1     1     1     1     1     1     1     1     1     1     1\n",
      "     1     1     1     1     1     1     1     1     1     1     1     1\n",
      "     1     1     1     1     1     1     1     1     1     1     1     1\n",
      "     1     1     1     1     1     1     1     1     1     1     1     1\n",
      "     1     1     1     1     1     1     1     1     1     1     1     1\n",
      "     1     1     1     1     1     1     1     1]\n",
      "valid length = \n",
      "25\n",
      "segment ids = \n",
      "[0 0 0 0 0 0 0 0 0 0 0 1 1 1 1 1 1 1 1 1 1 1 1 1 1 0 0 0 0 0 0 0 0 0 0 0 0\n",
      " 0 0 0 0 0 0 0 0 0 0 0 0 0 0 0 0 0 0 0 0 0 0 0 0 0 0 0 0 0 0 0 0 0 0 0 0 0\n",
      " 0 0 0 0 0 0 0 0 0 0 0 0 0 0 0 0 0 0 0 0 0 0 0 0 0 0 0 0 0 0 0 0 0 0 0 0 0\n",
      " 0 0 0 0 0 0 0 0 0 0 0 0 0 0 0 0 0]\n",
      "label = \n",
      "[1]\n",
      "Time for [3 - prepare training data]: 0:00:02.341063\n"
     ]
    }
   ],
   "source": [
    "with Timer(\"3 - prepare training data\"):\n",
    "    data_train_raw, data_train = transform_dataset(X_train, y_train, transform)\n",
    "    print_infos(vocabulary, data_train_raw, data_train)"
   ]
  },
  {
   "cell_type": "code",
   "execution_count": null,
   "metadata": {},
   "outputs": [],
   "source": [
    "with Timer(\"4 - train model\"):\n",
    "    # train(model, data_train, ctx, metric, loss_function, batch_size=32, lr=5e-6, num_epochs=3)\n",
    "    stats = train(model, data_train, ctx, metric, loss_function, batch_size=32, lr=5e-6, num_epochs=2)\n",
    "    # model.save_parameters(\"data/same-side-classification/cross-topic/bert.model.params\")\n",
    "    model.save_parameters(\"data/bert.model.params\")\n",
    "\n",
    "    plot_train_stats(stats)"
   ]
  },
  {
   "cell_type": "code",
   "execution_count": null,
   "metadata": {},
   "outputs": [],
   "source": [
    "# bert_dataloader = mx.gluon.data.DataLoader(data_train, batch_size=32)\n",
    "# metric.reset()\n",
    "# batch_id, (token_ids, valid_length, segment_ids,\n",
    "#            label) = next(enumerate(tqdm(bert_dataloader)))\n",
    "# # load data to GPU\n",
    "# token_ids = token_ids.as_in_context(ctx)\n",
    "# valid_length = valid_length.as_in_context(ctx)\n",
    "# segment_ids = segment_ids.as_in_context(ctx)\n",
    "# label = label.as_in_context(ctx)\n",
    "# \n",
    "# # forward computation\n",
    "# out = model(token_ids, segment_ids, valid_length.astype('float32'))\n",
    "# label = label.astype('float32')\n",
    "# ls = loss_function(out, label).mean()\n",
    "# metric.update([label], [out])\n",
    "# metric.get()\n",
    "# # out = out.sigmoid().round().astype('int32')\n",
    "# # label = label.astype('int32')\n",
    "# pd.DataFrame.from_dict(\n",
    "#     data={\n",
    "#         \"label\": label.asnumpy().flatten(),\n",
    "#         \"out\": out.asnumpy().flatten(),\n",
    "#         \"out.sigmoid\": out.sigmoid().asnumpy().flatten(),\n",
    "#         \"out.sigmoid.round\": out.sigmoid().round().asnumpy().flatten()\n",
    "#     })"
   ]
  },
  {
   "cell_type": "code",
   "execution_count": 30,
   "metadata": {
    "ExecuteTime": {
     "end_time": "2019-07-01T15:29:39.589005Z",
     "start_time": "2019-07-01T15:29:38.593348Z"
    },
    "collapsed": true
   },
   "outputs": [
    {
     "name": "stdout",
     "output_type": "stream",
     "text": [
      "alcoholism and drug-use are common after abortions.\n",
      "uncertainty over whether fetuses are \"life\" should halt abortions.\n",
      "1\n",
      "vocabulary used for tokenization = \n",
      "Vocab(size=30522, unk=\"[UNK]\", reserved=\"['[PAD]', '[CLS]', '[SEP]', '[MASK]']\")\n",
      "[PAD] token id = 1\n",
      "[CLS] token id = 2\n",
      "[SEP] token id = 3\n",
      "token ids = \n",
      "[    2 25519  1998  4319  1011  2224  2024  2691  2044 11324  2015  1012\n",
      "     3 12503  2058  3251 10768  5809  2229  2024  1000  2166  1000  2323\n",
      "  9190 11324  2015  1012     3     1     1     1     1     1     1     1\n",
      "     1     1     1     1     1     1     1     1     1     1     1     1\n",
      "     1     1     1     1     1     1     1     1     1     1     1     1\n",
      "     1     1     1     1     1     1     1     1     1     1     1     1\n",
      "     1     1     1     1     1     1     1     1     1     1     1     1\n",
      "     1     1     1     1     1     1     1     1     1     1     1     1\n",
      "     1     1     1     1     1     1     1     1     1     1     1     1\n",
      "     1     1     1     1     1     1     1     1     1     1     1     1\n",
      "     1     1     1     1     1     1     1     1]\n",
      "valid length = \n",
      "29\n",
      "segment ids = \n",
      "[0 0 0 0 0 0 0 0 0 0 0 0 0 1 1 1 1 1 1 1 1 1 1 1 1 1 1 1 1 0 0 0 0 0 0 0 0\n",
      " 0 0 0 0 0 0 0 0 0 0 0 0 0 0 0 0 0 0 0 0 0 0 0 0 0 0 0 0 0 0 0 0 0 0 0 0 0\n",
      " 0 0 0 0 0 0 0 0 0 0 0 0 0 0 0 0 0 0 0 0 0 0 0 0 0 0 0 0 0 0 0 0 0 0 0 0 0\n",
      " 0 0 0 0 0 0 0 0 0 0 0 0 0 0 0 0 0]\n",
      "label = \n",
      "[1]\n",
      "Time for [5 - prepare eval data]: 0:00:00.993135\n"
     ]
    }
   ],
   "source": [
    "with Timer(\"5 - prepare eval data\"):\n",
    "    data_dev_raw, data_dev = transform_dataset(X_dev, y_dev, transform)\n",
    "    print_infos(vocabulary, data_dev_raw, data_dev)"
   ]
  },
  {
   "cell_type": "code",
   "execution_count": 32,
   "metadata": {
    "ExecuteTime": {
     "end_time": "2019-07-01T15:33:33.869494Z",
     "start_time": "2019-07-01T15:30:11.509059Z"
    }
   },
   "outputs": [
    {
     "name": "stderr",
     "output_type": "stream",
     "text": [
      "100%|██████████| 573/573 [03:22<00:00,  2.83it/s]\n"
     ]
    },
    {
     "name": "stdout",
     "output_type": "stream",
     "text": [
      "Time for [prediction]: 0:03:22.191523\n",
      "Accuracy: 0.48402948402948404\n",
      "Confusion Matrix:\n",
      "[[8691  245]\n",
      " [9205  174]]\n",
      "\n",
      "Accuracy:  0.48 \n",
      "\n",
      "Report for [BERTClassifier]:\n",
      "              precision    recall  f1-score   support\n",
      "\n",
      "           0       0.49      0.97      0.65      8936\n",
      "           1       0.42      0.02      0.04      9379\n",
      "\n",
      "    accuracy                           0.48     18315\n",
      "   macro avg       0.45      0.50      0.34     18315\n",
      "weighted avg       0.45      0.48      0.33     18315\n",
      "\n",
      "Time for [6 - evaluate]: 0:03:22.354048\n"
     ]
    }
   ],
   "source": [
    "with Timer(\"6 - evaluate\"):\n",
    "    # model.load_parameters(\"data/same-side-classification/cross-topic/bert.model.params\", ctx=ctx)\n",
    "    # model.load_parameters(\"data/bert.model.params\", ctx=ctx)\n",
    "    all_predictions, cum_loss = predict(model, data_dev, ctx, metric, loss_function)\n",
    "    print(\"Accuracy:\", metric.get()[1])\n",
    "\n",
    "    y_true, y_pred = predict_out_to_ys(all_predictions, all_labels)\n",
    "    report_training_results(y_true, y_pred, name=\"BERTClassifier\", heatmap=False)"
   ]
  },
  {
   "cell_type": "code",
   "execution_count": null,
   "metadata": {
    "scrolled": true
   },
   "outputs": [],
   "source": [
    "for epoch_id in range(5):\n",
    "    with Timer(\"4 - train model - {}\".format(epoch_id)):\n",
    "        stats = train(model, data_train, ctx, metric, loss_function, batch_size=32, lr=5e-6, num_epochs=epoch_id + 1)\n",
    "        plot_train_stats(stats)\n",
    "\n",
    "    with Timer(\"6 - evaluate - {}\".format(epoch_id)):\n",
    "        all_predictions, cum_loss = predict(model, data_dev, ctx, metric, loss_function)\n",
    "        print(\"Accuracy in epoch {}:\".format(epoch_id), metric.get()[1])\n",
    "        y_true, y_pred = predict_out_to_ys(all_predictions, all_labels)\n",
    "        report_training_results(y_true, y_pred, name=\"BERTClassifier\", heatmap=False)\n",
    "\n",
    "    model.save_parameters(\"data/bert.model.params\")"
   ]
  },
  {
   "cell_type": "code",
   "execution_count": null,
   "metadata": {},
   "outputs": [],
   "source": []
  }
 ],
 "metadata": {
  "celltoolbar": "Initialization Cell",
  "kernelspec": {
   "display_name": "Python 3",
   "language": "python",
   "name": "python3"
  },
  "language_info": {
   "codemirror_mode": {
    "name": "ipython",
    "version": 3
   },
   "file_extension": ".py",
   "mimetype": "text/x-python",
   "name": "python",
   "nbconvert_exporter": "python",
   "pygments_lexer": "ipython3",
   "version": "3.7.3"
  },
  "varInspector": {
   "cols": {
    "lenName": 16,
    "lenType": 16,
    "lenVar": 40
   },
   "kernels_config": {
    "python": {
     "delete_cmd_postfix": "",
     "delete_cmd_prefix": "del ",
     "library": "var_list.py",
     "varRefreshCmd": "print(var_dic_list())"
    },
    "r": {
     "delete_cmd_postfix": ") ",
     "delete_cmd_prefix": "rm(",
     "library": "var_list.r",
     "varRefreshCmd": "cat(var_dic_list()) "
    }
   },
   "types_to_exclude": [
    "module",
    "function",
    "builtin_function_or_method",
    "instance",
    "_Feature"
   ],
   "window_display": false
  }
 },
 "nbformat": 4,
 "nbformat_minor": 2
}
