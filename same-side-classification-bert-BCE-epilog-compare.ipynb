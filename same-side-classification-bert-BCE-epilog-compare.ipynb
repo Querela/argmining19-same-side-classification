{
 "cells": [
  {
   "cell_type": "markdown",
   "metadata": {},
   "source": [
    "# RATIO 2019 - Benchmarking Workshop"
   ]
  },
  {
   "cell_type": "markdown",
   "metadata": {},
   "source": [
    "https://gluon-nlp.mxnet.io/install.html\n",
    "\n",
    "```\n",
    "pip install --upgrade 'mxnet>=1.3.0'\n",
    "pip install gluonnlp\n",
    "wget https://gluon-nlp.mxnet.io/_downloads/sentence_embedding.zip\n",
    "unzip sentence_embedding.zip\n",
    "ln -s sentence_embedding/bert bert\n",
    "```"
   ]
  },
  {
   "cell_type": "code",
   "execution_count": 1,
   "metadata": {
    "ExecuteTime": {
     "end_time": "2019-12-17T16:51:15.058362Z",
     "start_time": "2019-12-17T16:51:14.073855Z"
    },
    "init_cell": true,
    "scrolled": true
   },
   "outputs": [],
   "source": [
    "import matplotlib.pyplot as plt\n",
    "import numpy as np\n",
    "import pandas as pd\n",
    "import seaborn as sns\n",
    "\n",
    "from mxboard import SummaryWriter\n",
    "\n",
    "from sklearn import utils\n",
    "from tqdm import tqdm"
   ]
  },
  {
   "cell_type": "code",
   "execution_count": 2,
   "metadata": {
    "ExecuteTime": {
     "end_time": "2019-12-17T16:51:15.086414Z",
     "start_time": "2019-12-17T16:51:15.082902Z"
    },
    "init_cell": true
   },
   "outputs": [],
   "source": [
    "%matplotlib inline"
   ]
  },
  {
   "cell_type": "code",
   "execution_count": 3,
   "metadata": {
    "ExecuteTime": {
     "end_time": "2019-12-17T16:51:15.325926Z",
     "start_time": "2019-12-17T16:51:15.234671Z"
    },
    "init_cell": true
   },
   "outputs": [
    {
     "data": {
      "application/vnd.jupyter.widget-view+json": {
       "model_id": "1e9a91cfe0ea4fc0b79434cda782827d",
       "version_major": 2,
       "version_minor": 0
      },
      "text/plain": [
       "HBox(children=(IntProgress(value=1, bar_style='info', max=1), HTML(value='')))"
      ]
     },
     "metadata": {},
     "output_type": "display_data"
    },
    {
     "name": "stdout",
     "output_type": "stream",
     "text": [
      "\n"
     ]
    }
   ],
   "source": [
    "from utils_data import Timer\n",
    "\n",
    "# --------------------------------\n",
    "\n",
    "from utils_data import configure_logging\n",
    "configure_logging()\n",
    "\n",
    "# --------------------------------\n",
    "\n",
    "# set repeatable random state\n",
    "from utils_data import init_random\n",
    "init_random()\n",
    "\n",
    "# --------------------------------\n",
    "\n",
    "# make tqdm jupyter friendly\n",
    "from tqdm import tqdm_notebook as tqdm\n",
    "\n",
    "# apply progress bars for pandas .apply() -> .progress_apply()\n",
    "# for .progress_apply() we have to hack it like this?\n",
    "tqdm().pandas()"
   ]
  },
  {
   "cell_type": "markdown",
   "metadata": {},
   "source": [
    "# Task : Same Side Classification"
   ]
  },
  {
   "cell_type": "code",
   "execution_count": 4,
   "metadata": {
    "ExecuteTime": {
     "end_time": "2019-12-17T16:51:19.397693Z",
     "start_time": "2019-12-17T16:51:19.393335Z"
    },
    "init_cell": true,
    "scrolled": true
   },
   "outputs": [],
   "source": [
    "# paths in utils_data.py\n",
    "\n",
    "data_cross_path = 'data/same-side-classification/cross-topic/{}.csv'\n",
    "data_within_path = 'data/same-side-classification/within-topic/{}.csv'\n",
    "new_within_test = 'data/same-side-classification/within-topic/within_test.csv'\n",
    "fn_art_eval = \"data/artificial_evalset/artificial_evalset.tsv\"\n",
    "\n",
    "# from utils_data import names_columns_X, names_columns_X_arteval, names_columns_y"
   ]
  },
  {
   "cell_type": "markdown",
   "metadata": {},
   "source": [
    "### Load within-topics / cross-topics data - distinct train dev sets - artifical evalset data"
   ]
  },
  {
   "cell_type": "code",
   "execution_count": 5,
   "metadata": {
    "ExecuteTime": {
     "end_time": "2019-12-17T16:53:39.271316Z",
     "start_time": "2019-12-17T16:51:20.789497Z"
    },
    "code_folding": [
     3
    ],
    "hide_input": false,
    "init_cell": true
   },
   "outputs": [
    {
     "name": "stdout",
     "output_type": "stream",
     "text": [
      "Start on [read S3C cross train/dev] ...\n",
      "Time for [read S3C cross train/dev]: 0:00:00.868659\n",
      "Start on [tag cross train/dev] ...\n"
     ]
    },
    {
     "data": {
      "application/vnd.jupyter.widget-view+json": {
       "model_id": "8d99de7b252e4201b0334132e073ea87",
       "version_major": 2,
       "version_minor": 0
      },
      "text/plain": [
       "HBox(children=(IntProgress(value=0, max=61048), HTML(value='')))"
      ]
     },
     "metadata": {},
     "output_type": "display_data"
    },
    {
     "name": "stdout",
     "output_type": "stream",
     "text": [
      "\n"
     ]
    },
    {
     "data": {
      "application/vnd.jupyter.widget-view+json": {
       "model_id": "8bf8e5523fad4366b09e3cfec5bf572c",
       "version_major": 2,
       "version_minor": 0
      },
      "text/plain": [
       "HBox(children=(IntProgress(value=0, max=6163), HTML(value='')))"
      ]
     },
     "metadata": {},
     "output_type": "display_data"
    },
    {
     "name": "stdout",
     "output_type": "stream",
     "text": [
      "\n",
      "Time for [tag cross train/dev]: 0:00:37.083706\n",
      "Start on [read S3C within train/dev] ...\n",
      "Time for [read S3C within train/dev]: 0:00:01.216661\n",
      "Start on [tag within train/dev] ...\n"
     ]
    },
    {
     "data": {
      "application/vnd.jupyter.widget-view+json": {
       "model_id": "580b8224e7cd49809807ce12af8765fe",
       "version_major": 2,
       "version_minor": 0
      },
      "text/plain": [
       "HBox(children=(IntProgress(value=0, max=63903), HTML(value='')))"
      ]
     },
     "metadata": {},
     "output_type": "display_data"
    },
    {
     "name": "stdout",
     "output_type": "stream",
     "text": [
      "\n"
     ]
    },
    {
     "data": {
      "application/vnd.jupyter.widget-view+json": {
       "model_id": "a3c796a25b3142f69eaa5ad0e0ab2556",
       "version_major": 2,
       "version_minor": 0
      },
      "text/plain": [
       "HBox(children=(IntProgress(value=0, max=31475), HTML(value='')))"
      ]
     },
     "metadata": {},
     "output_type": "display_data"
    },
    {
     "name": "stdout",
     "output_type": "stream",
     "text": [
      "\n",
      "Time for [tag within train/dev]: 0:00:52.351022\n",
      "Start on [tag distinct cross train/dev] ...\n"
     ]
    },
    {
     "data": {
      "application/vnd.jupyter.widget-view+json": {
       "model_id": "4d3e5b6a082047a589a77a89278179d5",
       "version_major": 2,
       "version_minor": 0
      },
      "text/plain": [
       "HBox(children=(IntProgress(value=0, max=57825), HTML(value='')))"
      ]
     },
     "metadata": {},
     "output_type": "display_data"
    },
    {
     "name": "stdout",
     "output_type": "stream",
     "text": [
      "\n"
     ]
    },
    {
     "data": {
      "application/vnd.jupyter.widget-view+json": {
       "model_id": "03228c3e08a6435fa9deb4b35dd888b7",
       "version_major": 2,
       "version_minor": 0
      },
      "text/plain": [
       "HBox(children=(IntProgress(value=0, max=3195), HTML(value='')))"
      ]
     },
     "metadata": {},
     "output_type": "display_data"
    },
    {
     "name": "stdout",
     "output_type": "stream",
     "text": [
      "\n",
      "Time for [tag distinct cross train/dev]: 0:00:33.804329\n",
      "Start on [tag distinct within train/dev] ...\n"
     ]
    },
    {
     "data": {
      "application/vnd.jupyter.widget-view+json": {
       "model_id": "1e77f648de2e404db8c0196802409539",
       "version_major": 2,
       "version_minor": 0
      },
      "text/plain": [
       "HBox(children=(IntProgress(value=0, max=21841), HTML(value='')))"
      ]
     },
     "metadata": {},
     "output_type": "display_data"
    },
    {
     "name": "stdout",
     "output_type": "stream",
     "text": [
      "\n"
     ]
    },
    {
     "data": {
      "application/vnd.jupyter.widget-view+json": {
       "model_id": "9ff04755d2ea4818ba81ee43e6ac4aad",
       "version_major": 2,
       "version_minor": 0
      },
      "text/plain": [
       "HBox(children=(IntProgress(value=0, max=1278), HTML(value='')))"
      ]
     },
     "metadata": {},
     "output_type": "display_data"
    },
    {
     "name": "stdout",
     "output_type": "stream",
     "text": [
      "\n",
      "Time for [tag distinct within train/dev]: 0:00:12.722429\n",
      "Start on [read artificial evalset] ...\n",
      "Time for [read artificial evalset]: 0:00:00.258056\n",
      "Start on [tag artificial evalset] ...\n"
     ]
    },
    {
     "data": {
      "application/vnd.jupyter.widget-view+json": {
       "model_id": "03cbbc58812a4031bf7027b6a91ea8e4",
       "version_major": 2,
       "version_minor": 0
      },
      "text/plain": [
       "HBox(children=(IntProgress(value=0, max=175), HTML(value='')))"
      ]
     },
     "metadata": {},
     "output_type": "display_data"
    },
    {
     "name": "stdout",
     "output_type": "stream",
     "text": [
      "\n",
      "Time for [tag artificial evalset]: 0:00:00.109695\n"
     ]
    }
   ],
   "source": [
    "from utils_data import load_and_prepare_official_data\n",
    "from utils_data import load_distinct_df_raw, load_distinct_data\n",
    "from utils_data import load_artificial_dataset\n",
    "\n",
    "cross_traindev_df, cross_test_df = load_and_prepare_official_data(\"cross\")\n",
    "within_traindev_df, within_test_df = load_and_prepare_official_data(\"within\")\n",
    "\n",
    "distinct_cross_train_df, distinct_cross_dev_df = load_distinct_df_raw(\"cross\")\n",
    "distinct_within_train_df, distinct_within_dev_df = load_distinct_df_raw(\"within\")\n",
    "\n",
    "artificial_evalset_df = load_artificial_dataset()"
   ]
  },
  {
   "cell_type": "markdown",
   "metadata": {},
   "source": [
    "### Get an overview about each dataset"
   ]
  },
  {
   "cell_type": "code",
   "execution_count": 6,
   "metadata": {
    "ExecuteTime": {
     "end_time": "2019-12-17T16:53:39.731978Z",
     "start_time": "2019-12-17T16:53:39.729992Z"
    },
    "init_cell": true
   },
   "outputs": [],
   "source": [
    "stats = True"
   ]
  },
  {
   "cell_type": "code",
   "execution_count": 7,
   "metadata": {
    "ExecuteTime": {
     "end_time": "2019-12-17T17:29:32.451809Z",
     "start_time": "2019-12-17T16:53:40.186562Z"
    },
    "code_folding": [
     0
    ],
    "init_cell": true
   },
   "outputs": [
    {
     "data": {
      "application/vnd.jupyter.widget-view+json": {
       "model_id": "d30f6b344454486e8c52704324587c7a",
       "version_major": 2,
       "version_minor": 0
      },
      "text/plain": [
       "HBox(children=(IntProgress(value=0, max=61048), HTML(value='')))"
      ]
     },
     "metadata": {},
     "output_type": "display_data"
    },
    {
     "name": "stdout",
     "output_type": "stream",
     "text": [
      "\n"
     ]
    },
    {
     "data": {
      "application/vnd.jupyter.widget-view+json": {
       "model_id": "b7d24f2b945d41b38219f3d77b1f3850",
       "version_major": 2,
       "version_minor": 0
      },
      "text/plain": [
       "HBox(children=(IntProgress(value=0, max=63903), HTML(value='')))"
      ]
     },
     "metadata": {},
     "output_type": "display_data"
    },
    {
     "name": "stdout",
     "output_type": "stream",
     "text": [
      "\n"
     ]
    },
    {
     "data": {
      "application/vnd.jupyter.widget-view+json": {
       "model_id": "10f7cf2a1bc84b4d8821279444705ad1",
       "version_major": 2,
       "version_minor": 0
      },
      "text/plain": [
       "HBox(children=(IntProgress(value=0, max=6163), HTML(value='')))"
      ]
     },
     "metadata": {},
     "output_type": "display_data"
    },
    {
     "name": "stdout",
     "output_type": "stream",
     "text": [
      "\n"
     ]
    },
    {
     "data": {
      "application/vnd.jupyter.widget-view+json": {
       "model_id": "b577ddc9b8634e4e88ac5e1b5199dd32",
       "version_major": 2,
       "version_minor": 0
      },
      "text/plain": [
       "HBox(children=(IntProgress(value=0, max=31475), HTML(value='')))"
      ]
     },
     "metadata": {},
     "output_type": "display_data"
    },
    {
     "name": "stdout",
     "output_type": "stream",
     "text": [
      "\n"
     ]
    },
    {
     "data": {
      "application/vnd.jupyter.widget-view+json": {
       "model_id": "d49468d58f8e489c88b69970d0446a45",
       "version_major": 2,
       "version_minor": 0
      },
      "text/plain": [
       "HBox(children=(IntProgress(value=0, max=61048), HTML(value='')))"
      ]
     },
     "metadata": {},
     "output_type": "display_data"
    },
    {
     "name": "stdout",
     "output_type": "stream",
     "text": [
      "\n"
     ]
    },
    {
     "data": {
      "application/vnd.jupyter.widget-view+json": {
       "model_id": "3c2e27fe5b1d4f0992b423a28db61a90",
       "version_major": 2,
       "version_minor": 0
      },
      "text/plain": [
       "HBox(children=(IntProgress(value=0, max=63903), HTML(value='')))"
      ]
     },
     "metadata": {},
     "output_type": "display_data"
    },
    {
     "name": "stdout",
     "output_type": "stream",
     "text": [
      "\n"
     ]
    },
    {
     "data": {
      "application/vnd.jupyter.widget-view+json": {
       "model_id": "005381e2c7ad4d158e22749f59a40c3d",
       "version_major": 2,
       "version_minor": 0
      },
      "text/plain": [
       "HBox(children=(IntProgress(value=0, max=6163), HTML(value='')))"
      ]
     },
     "metadata": {},
     "output_type": "display_data"
    },
    {
     "name": "stdout",
     "output_type": "stream",
     "text": [
      "\n"
     ]
    },
    {
     "data": {
      "application/vnd.jupyter.widget-view+json": {
       "model_id": "33176ba521ed4d639199c99b1d8b4860",
       "version_major": 2,
       "version_minor": 0
      },
      "text/plain": [
       "HBox(children=(IntProgress(value=0, max=31475), HTML(value='')))"
      ]
     },
     "metadata": {},
     "output_type": "display_data"
    },
    {
     "name": "stdout",
     "output_type": "stream",
     "text": [
      "\n"
     ]
    }
   ],
   "source": [
    "if stats:\n",
    "    from utils_data import add_bert_tokens, add_sentence_segments\n",
    "\n",
    "    cross_traindev_df = add_bert_tokens(cross_traindev_df)\n",
    "    within_traindev_df = add_bert_tokens(within_traindev_df)\n",
    "    cross_test_df = add_bert_tokens(cross_test_df)\n",
    "    within_test_df = add_bert_tokens(within_test_df)\n",
    "    \n",
    "    cross_traindev_df = add_sentence_segments(cross_traindev_df)\n",
    "    within_traindev_df = add_sentence_segments(within_traindev_df)\n",
    "    cross_test_df = add_sentence_segments(cross_test_df)\n",
    "    within_test_df = add_sentence_segments(within_test_df)\n",
    "    \n",
    "    import pickle\n",
    "\n",
    "    with open(\"data/same-side-classification/cross_traindev_df_stats.p\", \"wb\") as fp:\n",
    "        pickle.dump(cross_traindev_df, fp, pickle.HIGHEST_PROTOCOL)\n",
    "    with open(\"data/same-side-classification/within_traindev_df_stats.p\", \"wb\") as fp:\n",
    "        pickle.dump(within_traindev_df, fp, pickle.HIGHEST_PROTOCOL)\n",
    "    with open(\"data/same-side-classification/cross_test_df_stats.p\", \"wb\") as fp:\n",
    "        pickle.dump(cross_test_df, fp, pickle.HIGHEST_PROTOCOL)\n",
    "    with open(\"data/same-side-classification/within_test_df_stats.p\", \"wb\") as fp:\n",
    "        pickle.dump(within_test_df, fp, pickle.HIGHEST_PROTOCOL)"
   ]
  },
  {
   "cell_type": "code",
   "execution_count": 8,
   "metadata": {
    "ExecuteTime": {
     "end_time": "2019-12-17T17:29:36.857415Z",
     "start_time": "2019-12-17T17:29:34.541187Z"
    },
    "code_folding": [
     0
    ],
    "init_cell": true
   },
   "outputs": [
    {
     "data": {
      "application/vnd.jupyter.widget-view+json": {
       "model_id": "df53706959bc42a0aee970032d479a07",
       "version_major": 2,
       "version_minor": 0
      },
      "text/plain": [
       "HBox(children=(IntProgress(value=0, max=175), HTML(value='')))"
      ]
     },
     "metadata": {},
     "output_type": "display_data"
    },
    {
     "name": "stdout",
     "output_type": "stream",
     "text": [
      "\n"
     ]
    },
    {
     "data": {
      "application/vnd.jupyter.widget-view+json": {
       "model_id": "5132d6e351704abcab2271d4584baae1",
       "version_major": 2,
       "version_minor": 0
      },
      "text/plain": [
       "HBox(children=(IntProgress(value=0, max=175), HTML(value='')))"
      ]
     },
     "metadata": {},
     "output_type": "display_data"
    },
    {
     "name": "stdout",
     "output_type": "stream",
     "text": [
      "\n"
     ]
    }
   ],
   "source": [
    "if stats:\n",
    "    from utils_data import add_bert_tokens, add_sentence_segments\n",
    "    \n",
    "    artificial_evalset_df = add_bert_tokens(artificial_evalset_df)\n",
    "    artificial_evalset_df = add_sentence_segments(artificial_evalset_df)\n",
    "    \n",
    "    import pickle\n",
    "\n",
    "    with open(\"data/same-side-classification/arteval_test_df_stats.p\", \"wb\") as fp:\n",
    "        pickle.dump(artificial_evalset_df, fp, pickle.HIGHEST_PROTOCOL)"
   ]
  },
  {
   "cell_type": "code",
   "execution_count": 6,
   "metadata": {
    "ExecuteTime": {
     "end_time": "2019-12-17T16:44:23.214164Z",
     "start_time": "2019-12-17T16:44:11.984424Z"
    },
    "code_folding": [
     0
    ],
    "collapsed": true
   },
   "outputs": [
    {
     "name": "stdout",
     "output_type": "stream",
     "text": [
      "Task:  same-side\n",
      "within_traindev_df\n",
      "======================================== \n",
      "\n",
      "Total instances:  63903 \n",
      "\n",
      "For each topic:\n",
      "abortion :  40840  instances\n",
      "\n",
      "\t\tUnique argument1: 7107\n",
      "\t\tUnique argument2: 7068\n",
      "\t\tUnique total arguments: 9192 \n",
      "\n",
      "\t\t False :  20006  instances\n",
      "\t\t True :  20834  instances\n",
      "gay marriage :  23063  instances\n",
      "\n",
      "\t\tUnique argument1: 3406\n",
      "\t\tUnique argument2: 3392\n",
      "\t\tUnique total arguments: 4391 \n",
      "\n",
      "\t\t False :  9786  instances\n",
      "\t\t True :  13277  instances\n",
      "\n",
      "\n",
      "For each class value:\n",
      "False :  29792  instances\n",
      "\t\tUnique argument1: 9445\n",
      "\t\tUnique argument2: 9127\n",
      "\t\tUnique total arguments: 12938 \n",
      "\n",
      "True :  34111  instances\n",
      "\t\tUnique argument1: 7660\n",
      "\t\tUnique argument2: 7645\n",
      "\t\tUnique total arguments: 11891 \n",
      "\n",
      "\n",
      "\n",
      "Unique argument1: 10508\n",
      "Unique argument2: 10453\n",
      "Unique total arguments: 13574 \n",
      "\n",
      "---------------------------------------- \n",
      "\n",
      "Words:\n",
      "\tshortest argument: 3  words\n",
      "\tlongest argument: 2964  words\n",
      "\targument average length: 235.68447490728136  words\n",
      "Task:  same-side\n",
      "cross_traindev_df\n",
      "======================================== \n",
      "\n",
      "Total instances:  61048 \n",
      "\n",
      "For each topic:\n",
      "abortion :  61048  instances\n",
      "\n",
      "\t\tUnique argument1: 7828\n",
      "\t\tUnique argument2: 7806\n",
      "\t\tUnique total arguments: 9361 \n",
      "\n",
      "\t\t False :  29853  instances\n",
      "\t\t True :  31195  instances\n",
      "\n",
      "\n",
      "For each class value:\n",
      "False :  29853  instances\n",
      "\t\tUnique argument1: 7691\n",
      "\t\tUnique argument2: 7369\n",
      "\t\tUnique total arguments: 9336 \n",
      "\n",
      "True :  31195  instances\n",
      "\t\tUnique argument1: 6286\n",
      "\t\tUnique argument2: 6270\n",
      "\t\tUnique total arguments: 8911 \n",
      "\n",
      "\n",
      "\n",
      "Unique argument1: 7828\n",
      "Unique argument2: 7806\n",
      "Unique total arguments: 9361 \n",
      "\n",
      "---------------------------------------- \n",
      "\n",
      "Words:\n",
      "\tshortest argument: 3  words\n",
      "\tlongest argument: 2964  words\n",
      "\targument average length: 246.67835965142183  words\n",
      "       argument1_len  argument2_len  argument12_len_sum  \\\n",
      "count   63903.000000   63903.000000        63903.000000   \n",
      "mean      252.189647     219.179303          471.368950   \n",
      "std       425.471105     393.925258          730.211134   \n",
      "min         3.000000       4.000000            8.000000   \n",
      "25%        15.000000      14.000000           80.000000   \n",
      "50%        85.000000      73.000000          164.000000   \n",
      "75%       222.000000     179.000000          469.000000   \n",
      "max      2825.000000    2964.000000         4998.000000   \n",
      "\n",
      "       argument12_len_sum_half  argument12_len_diff  argument12_len_diff_abs  \n",
      "count             63903.000000         63903.000000             63903.000000  \n",
      "mean                235.684475            33.010344               190.980486  \n",
      "std                 365.105567           373.091463               322.199974  \n",
      "min                   4.000000         -2837.000000                 0.000000  \n",
      "25%                  40.000000           -58.000000                23.000000  \n",
      "50%                  82.000000             2.000000                75.000000  \n",
      "75%                 234.500000            91.000000               178.000000  \n",
      "max                2499.000000          2724.000000              2837.000000  \n",
      "       argument1_len  argument2_len  argument12_len_sum  \\\n",
      "count   61048.000000   61048.000000        61048.000000   \n",
      "mean      264.863337     228.493382          493.356719   \n",
      "std       438.187823     405.800206          750.101186   \n",
      "min         3.000000       4.000000            8.000000   \n",
      "25%        18.000000      17.000000           80.000000   \n",
      "50%        83.000000      72.000000          162.000000   \n",
      "75%       258.000000     197.000000          538.000000   \n",
      "max      2964.000000    2964.000000         5789.000000   \n",
      "\n",
      "       argument12_len_sum_half  argument12_len_diff  argument12_len_diff_abs  \n",
      "count             61048.000000         61048.000000             61048.000000  \n",
      "mean                246.678360            36.369955               199.451563  \n",
      "std                 375.050593           388.217671               335.043546  \n",
      "min                   4.000000         -2837.000000                 0.000000  \n",
      "25%                  40.000000           -55.000000                23.000000  \n",
      "50%                  81.000000             3.000000                71.000000  \n",
      "75%                 269.000000            88.000000               199.000000  \n",
      "max                2894.500000          2926.000000              2926.000000  \n"
     ]
    },
    {
     "data": {
      "image/png": "[encoded data removed]",
      "text/plain": [
       "<Figure size 432x288 with 2 Axes>"
      ]
     },
     "metadata": {
      "needs_background": "light"
     },
     "output_type": "display_data"
    },
    {
     "data": {
      "image/png": "[encoded data removed]",
      "text/plain": [
       "<Figure size 432x288 with 2 Axes>"
      ]
     },
     "metadata": {
      "needs_background": "light"
     },
     "output_type": "display_data"
    }
   ],
   "source": [
    "if stats:\n",
    "    import pickle\n",
    "\n",
    "    with open(\"data/same-side-classification/cross_traindev_df_stats.p\", \"rb\") as fp:\n",
    "        cross_traindev_df = pickle.load(fp)\n",
    "    with open(\"data/same-side-classification/within_traindev_df_stats.p\", \"rb\") as fp:\n",
    "        within_traindev_df = pickle.load(fp)\n",
    "    with open(\"data/same-side-classification/cross_test_df_stats.p\", \"rb\") as fp:\n",
    "        cross_test_df = pickle.load(fp)\n",
    "    with open(\"data/same-side-classification/within_test_df_stats.p\", \"rb\") as fp:\n",
    "        within_test_df = pickle.load(fp)\n",
    "\n",
    "    pass\n",
    "\n",
    "    from utils_data import get_overview, plot_lengths\n",
    "\n",
    "    get_overview(within_traindev_df, description=\"within_traindev_df\")\n",
    "    get_overview(cross_traindev_df, description=\"cross_traindev_df\")\n",
    "    \n",
    "    print()\n",
    "    print(within_traindev_df.describe())\n",
    "    print(cross_traindev_df.describe())\n",
    "    \n",
    "    plot_lengths(within_traindev_df, slice(None, None, 500), title='Length of arguments within train/dev, every 500')\n",
    "    plot_lengths(cross_traindev_df, slice(None, None, 500), title='Length of arguments cross train/dev, every 500')"
   ]
  },
  {
   "cell_type": "code",
   "execution_count": null,
   "metadata": {},
   "outputs": [],
   "source": []
  },
  {
   "cell_type": "code",
   "execution_count": 16,
   "metadata": {
    "ExecuteTime": {
     "end_time": "2019-12-17T20:35:26.738558Z",
     "start_time": "2019-12-17T20:35:26.663962Z"
    }
   },
   "outputs": [
    {
     "data": {
      "text/html": [
       "<div>\n",
       "<style scoped>\n",
       "    .dataframe tbody tr th:only-of-type {\n",
       "        vertical-align: middle;\n",
       "    }\n",
       "\n",
       "    .dataframe tbody tr th {\n",
       "        vertical-align: top;\n",
       "    }\n",
       "\n",
       "    .dataframe thead th {\n",
       "        text-align: right;\n",
       "    }\n",
       "</style>\n",
       "<table border=\"1\" class=\"dataframe\">\n",
       "  <thead>\n",
       "    <tr style=\"text-align: right;\">\n",
       "      <th></th>\n",
       "      <th>argument1_len</th>\n",
       "      <th>argument2_len</th>\n",
       "      <th>argument12_len_sum</th>\n",
       "      <th>argument12_len_sum_half</th>\n",
       "      <th>argument12_len_diff</th>\n",
       "      <th>argument12_len_diff_abs</th>\n",
       "      <th>argument1_sent_num</th>\n",
       "      <th>argument2_sent_num</th>\n",
       "      <th>argument12_sent_num_sum</th>\n",
       "      <th>argument12_sent_num_sum_half</th>\n",
       "      <th>argument12_sent_num_diff</th>\n",
       "      <th>argument12_sent_num_diff_abs</th>\n",
       "    </tr>\n",
       "  </thead>\n",
       "  <tbody>\n",
       "    <tr>\n",
       "      <th>count</th>\n",
       "      <td>61048.000000</td>\n",
       "      <td>61048.000000</td>\n",
       "      <td>61048.000000</td>\n",
       "      <td>61048.000000</td>\n",
       "      <td>61048.000000</td>\n",
       "      <td>61048.000000</td>\n",
       "      <td>61048.000000</td>\n",
       "      <td>61048.000000</td>\n",
       "      <td>61048.000000</td>\n",
       "      <td>61048.000000</td>\n",
       "      <td>61048.000000</td>\n",
       "      <td>61048.00000</td>\n",
       "    </tr>\n",
       "    <tr>\n",
       "      <th>mean</th>\n",
       "      <td>264.863337</td>\n",
       "      <td>228.493382</td>\n",
       "      <td>493.356719</td>\n",
       "      <td>246.678360</td>\n",
       "      <td>36.369955</td>\n",
       "      <td>199.451563</td>\n",
       "      <td>10.888285</td>\n",
       "      <td>9.469139</td>\n",
       "      <td>20.357424</td>\n",
       "      <td>10.178712</td>\n",
       "      <td>1.419146</td>\n",
       "      <td>8.05933</td>\n",
       "    </tr>\n",
       "    <tr>\n",
       "      <th>std</th>\n",
       "      <td>438.187823</td>\n",
       "      <td>405.800206</td>\n",
       "      <td>750.101186</td>\n",
       "      <td>375.050593</td>\n",
       "      <td>388.217671</td>\n",
       "      <td>335.043546</td>\n",
       "      <td>17.874152</td>\n",
       "      <td>16.260619</td>\n",
       "      <td>30.214838</td>\n",
       "      <td>15.107419</td>\n",
       "      <td>15.964010</td>\n",
       "      <td>13.85315</td>\n",
       "    </tr>\n",
       "    <tr>\n",
       "      <th>min</th>\n",
       "      <td>3.000000</td>\n",
       "      <td>4.000000</td>\n",
       "      <td>8.000000</td>\n",
       "      <td>4.000000</td>\n",
       "      <td>-2837.000000</td>\n",
       "      <td>0.000000</td>\n",
       "      <td>1.000000</td>\n",
       "      <td>1.000000</td>\n",
       "      <td>2.000000</td>\n",
       "      <td>1.000000</td>\n",
       "      <td>-146.000000</td>\n",
       "      <td>0.00000</td>\n",
       "    </tr>\n",
       "    <tr>\n",
       "      <th>50%</th>\n",
       "      <td>83.000000</td>\n",
       "      <td>72.000000</td>\n",
       "      <td>162.000000</td>\n",
       "      <td>81.000000</td>\n",
       "      <td>3.000000</td>\n",
       "      <td>71.000000</td>\n",
       "      <td>3.000000</td>\n",
       "      <td>3.000000</td>\n",
       "      <td>7.000000</td>\n",
       "      <td>3.500000</td>\n",
       "      <td>0.000000</td>\n",
       "      <td>3.00000</td>\n",
       "    </tr>\n",
       "    <tr>\n",
       "      <th>75%</th>\n",
       "      <td>258.000000</td>\n",
       "      <td>197.000000</td>\n",
       "      <td>538.000000</td>\n",
       "      <td>269.000000</td>\n",
       "      <td>88.000000</td>\n",
       "      <td>199.000000</td>\n",
       "      <td>11.000000</td>\n",
       "      <td>8.000000</td>\n",
       "      <td>22.000000</td>\n",
       "      <td>11.000000</td>\n",
       "      <td>3.000000</td>\n",
       "      <td>8.00000</td>\n",
       "    </tr>\n",
       "    <tr>\n",
       "      <th>85%</th>\n",
       "      <td>544.000000</td>\n",
       "      <td>429.000000</td>\n",
       "      <td>1051.000000</td>\n",
       "      <td>525.500000</td>\n",
       "      <td>200.000000</td>\n",
       "      <td>385.000000</td>\n",
       "      <td>23.000000</td>\n",
       "      <td>18.000000</td>\n",
       "      <td>44.000000</td>\n",
       "      <td>22.000000</td>\n",
       "      <td>8.000000</td>\n",
       "      <td>16.00000</td>\n",
       "    </tr>\n",
       "    <tr>\n",
       "      <th>90%</th>\n",
       "      <td>844.000000</td>\n",
       "      <td>687.000000</td>\n",
       "      <td>1535.000000</td>\n",
       "      <td>767.500000</td>\n",
       "      <td>342.000000</td>\n",
       "      <td>567.000000</td>\n",
       "      <td>34.000000</td>\n",
       "      <td>28.000000</td>\n",
       "      <td>61.300000</td>\n",
       "      <td>30.650000</td>\n",
       "      <td>14.000000</td>\n",
       "      <td>24.00000</td>\n",
       "    </tr>\n",
       "    <tr>\n",
       "      <th>max</th>\n",
       "      <td>2964.000000</td>\n",
       "      <td>2964.000000</td>\n",
       "      <td>5789.000000</td>\n",
       "      <td>2894.500000</td>\n",
       "      <td>2926.000000</td>\n",
       "      <td>2926.000000</td>\n",
       "      <td>151.000000</td>\n",
       "      <td>151.000000</td>\n",
       "      <td>292.000000</td>\n",
       "      <td>146.000000</td>\n",
       "      <td>130.000000</td>\n",
       "      <td>146.00000</td>\n",
       "    </tr>\n",
       "  </tbody>\n",
       "</table>\n",
       "</div>"
      ],
      "text/plain": [
       "       argument1_len  argument2_len  argument12_len_sum  \\\n",
       "count   61048.000000   61048.000000        61048.000000   \n",
       "mean      264.863337     228.493382          493.356719   \n",
       "std       438.187823     405.800206          750.101186   \n",
       "min         3.000000       4.000000            8.000000   \n",
       "50%        83.000000      72.000000          162.000000   \n",
       "75%       258.000000     197.000000          538.000000   \n",
       "85%       544.000000     429.000000         1051.000000   \n",
       "90%       844.000000     687.000000         1535.000000   \n",
       "max      2964.000000    2964.000000         5789.000000   \n",
       "\n",
       "       argument12_len_sum_half  argument12_len_diff  argument12_len_diff_abs  \\\n",
       "count             61048.000000         61048.000000             61048.000000   \n",
       "mean                246.678360            36.369955               199.451563   \n",
       "std                 375.050593           388.217671               335.043546   \n",
       "min                   4.000000         -2837.000000                 0.000000   \n",
       "50%                  81.000000             3.000000                71.000000   \n",
       "75%                 269.000000            88.000000               199.000000   \n",
       "85%                 525.500000           200.000000               385.000000   \n",
       "90%                 767.500000           342.000000               567.000000   \n",
       "max                2894.500000          2926.000000              2926.000000   \n",
       "\n",
       "       argument1_sent_num  argument2_sent_num  argument12_sent_num_sum  \\\n",
       "count        61048.000000        61048.000000             61048.000000   \n",
       "mean            10.888285            9.469139                20.357424   \n",
       "std             17.874152           16.260619                30.214838   \n",
       "min              1.000000            1.000000                 2.000000   \n",
       "50%              3.000000            3.000000                 7.000000   \n",
       "75%             11.000000            8.000000                22.000000   \n",
       "85%             23.000000           18.000000                44.000000   \n",
       "90%             34.000000           28.000000                61.300000   \n",
       "max            151.000000          151.000000               292.000000   \n",
       "\n",
       "       argument12_sent_num_sum_half  argument12_sent_num_diff  \\\n",
       "count                  61048.000000              61048.000000   \n",
       "mean                      10.178712                  1.419146   \n",
       "std                       15.107419                 15.964010   \n",
       "min                        1.000000               -146.000000   \n",
       "50%                        3.500000                  0.000000   \n",
       "75%                       11.000000                  3.000000   \n",
       "85%                       22.000000                  8.000000   \n",
       "90%                       30.650000                 14.000000   \n",
       "max                      146.000000                130.000000   \n",
       "\n",
       "       argument12_sent_num_diff_abs  \n",
       "count                   61048.00000  \n",
       "mean                        8.05933  \n",
       "std                        13.85315  \n",
       "min                         0.00000  \n",
       "50%                         3.00000  \n",
       "75%                         8.00000  \n",
       "85%                        16.00000  \n",
       "90%                        24.00000  \n",
       "max                       146.00000  "
      ]
     },
     "execution_count": 16,
     "metadata": {},
     "output_type": "execute_result"
    }
   ],
   "source": [
    "cross_traindev_df.describe(percentiles=[.75, .85, .90])"
   ]
  },
  {
   "cell_type": "code",
   "execution_count": 21,
   "metadata": {
    "ExecuteTime": {
     "end_time": "2019-12-17T20:48:51.364253Z",
     "start_time": "2019-12-17T20:48:51.282227Z"
    }
   },
   "outputs": [
    {
     "data": {
      "text/html": [
       "<div>\n",
       "<style scoped>\n",
       "    .dataframe tbody tr th:only-of-type {\n",
       "        vertical-align: middle;\n",
       "    }\n",
       "\n",
       "    .dataframe tbody tr th {\n",
       "        vertical-align: top;\n",
       "    }\n",
       "\n",
       "    .dataframe thead th {\n",
       "        text-align: right;\n",
       "    }\n",
       "</style>\n",
       "<table border=\"1\" class=\"dataframe\">\n",
       "  <thead>\n",
       "    <tr style=\"text-align: right;\">\n",
       "      <th></th>\n",
       "      <th>argument1_len</th>\n",
       "      <th>argument2_len</th>\n",
       "      <th>argument12_len_sum</th>\n",
       "      <th>argument12_len_sum_half</th>\n",
       "      <th>argument12_len_diff</th>\n",
       "      <th>argument12_len_diff_abs</th>\n",
       "      <th>argument1_sent_num</th>\n",
       "      <th>argument2_sent_num</th>\n",
       "      <th>argument12_sent_num_sum</th>\n",
       "      <th>argument12_sent_num_sum_half</th>\n",
       "      <th>argument12_sent_num_diff</th>\n",
       "      <th>argument12_sent_num_diff_abs</th>\n",
       "    </tr>\n",
       "  </thead>\n",
       "  <tbody>\n",
       "    <tr>\n",
       "      <th>count</th>\n",
       "      <td>63903.000000</td>\n",
       "      <td>63903.000000</td>\n",
       "      <td>63903.000000</td>\n",
       "      <td>63903.000000</td>\n",
       "      <td>63903.000000</td>\n",
       "      <td>63903.000000</td>\n",
       "      <td>63903.000000</td>\n",
       "      <td>63903.000000</td>\n",
       "      <td>63903.000000</td>\n",
       "      <td>63903.000000</td>\n",
       "      <td>63903.000000</td>\n",
       "      <td>63903.000000</td>\n",
       "    </tr>\n",
       "    <tr>\n",
       "      <th>mean</th>\n",
       "      <td>252.189647</td>\n",
       "      <td>219.179303</td>\n",
       "      <td>471.368950</td>\n",
       "      <td>235.684475</td>\n",
       "      <td>33.010344</td>\n",
       "      <td>190.980486</td>\n",
       "      <td>10.460307</td>\n",
       "      <td>9.186079</td>\n",
       "      <td>19.646386</td>\n",
       "      <td>9.823193</td>\n",
       "      <td>1.274228</td>\n",
       "      <td>7.758337</td>\n",
       "    </tr>\n",
       "    <tr>\n",
       "      <th>std</th>\n",
       "      <td>425.471105</td>\n",
       "      <td>393.925258</td>\n",
       "      <td>730.211134</td>\n",
       "      <td>365.105567</td>\n",
       "      <td>373.091463</td>\n",
       "      <td>322.199974</td>\n",
       "      <td>17.225524</td>\n",
       "      <td>15.812931</td>\n",
       "      <td>29.325628</td>\n",
       "      <td>14.662814</td>\n",
       "      <td>15.282098</td>\n",
       "      <td>13.227754</td>\n",
       "    </tr>\n",
       "    <tr>\n",
       "      <th>min</th>\n",
       "      <td>3.000000</td>\n",
       "      <td>4.000000</td>\n",
       "      <td>8.000000</td>\n",
       "      <td>4.000000</td>\n",
       "      <td>-2837.000000</td>\n",
       "      <td>0.000000</td>\n",
       "      <td>1.000000</td>\n",
       "      <td>1.000000</td>\n",
       "      <td>2.000000</td>\n",
       "      <td>1.000000</td>\n",
       "      <td>-143.000000</td>\n",
       "      <td>0.000000</td>\n",
       "    </tr>\n",
       "    <tr>\n",
       "      <th>50%</th>\n",
       "      <td>85.000000</td>\n",
       "      <td>73.000000</td>\n",
       "      <td>164.000000</td>\n",
       "      <td>82.000000</td>\n",
       "      <td>2.000000</td>\n",
       "      <td>75.000000</td>\n",
       "      <td>4.000000</td>\n",
       "      <td>3.000000</td>\n",
       "      <td>7.000000</td>\n",
       "      <td>3.500000</td>\n",
       "      <td>0.000000</td>\n",
       "      <td>3.000000</td>\n",
       "    </tr>\n",
       "    <tr>\n",
       "      <th>75%</th>\n",
       "      <td>222.000000</td>\n",
       "      <td>179.000000</td>\n",
       "      <td>469.000000</td>\n",
       "      <td>234.500000</td>\n",
       "      <td>91.000000</td>\n",
       "      <td>178.000000</td>\n",
       "      <td>9.000000</td>\n",
       "      <td>8.000000</td>\n",
       "      <td>20.000000</td>\n",
       "      <td>10.000000</td>\n",
       "      <td>4.000000</td>\n",
       "      <td>7.000000</td>\n",
       "    </tr>\n",
       "    <tr>\n",
       "      <th>85%</th>\n",
       "      <td>509.000000</td>\n",
       "      <td>407.000000</td>\n",
       "      <td>986.000000</td>\n",
       "      <td>493.000000</td>\n",
       "      <td>176.700000</td>\n",
       "      <td>351.000000</td>\n",
       "      <td>21.000000</td>\n",
       "      <td>16.000000</td>\n",
       "      <td>41.000000</td>\n",
       "      <td>20.500000</td>\n",
       "      <td>7.000000</td>\n",
       "      <td>14.000000</td>\n",
       "    </tr>\n",
       "    <tr>\n",
       "      <th>90%</th>\n",
       "      <td>806.000000</td>\n",
       "      <td>653.000000</td>\n",
       "      <td>1470.000000</td>\n",
       "      <td>735.000000</td>\n",
       "      <td>304.000000</td>\n",
       "      <td>536.000000</td>\n",
       "      <td>32.000000</td>\n",
       "      <td>26.000000</td>\n",
       "      <td>58.000000</td>\n",
       "      <td>29.000000</td>\n",
       "      <td>12.000000</td>\n",
       "      <td>22.000000</td>\n",
       "    </tr>\n",
       "    <tr>\n",
       "      <th>max</th>\n",
       "      <td>2825.000000</td>\n",
       "      <td>2964.000000</td>\n",
       "      <td>4998.000000</td>\n",
       "      <td>2499.000000</td>\n",
       "      <td>2724.000000</td>\n",
       "      <td>2837.000000</td>\n",
       "      <td>151.000000</td>\n",
       "      <td>148.000000</td>\n",
       "      <td>292.000000</td>\n",
       "      <td>146.000000</td>\n",
       "      <td>129.000000</td>\n",
       "      <td>143.000000</td>\n",
       "    </tr>\n",
       "  </tbody>\n",
       "</table>\n",
       "</div>"
      ],
      "text/plain": [
       "       argument1_len  argument2_len  argument12_len_sum  \\\n",
       "count   63903.000000   63903.000000        63903.000000   \n",
       "mean      252.189647     219.179303          471.368950   \n",
       "std       425.471105     393.925258          730.211134   \n",
       "min         3.000000       4.000000            8.000000   \n",
       "50%        85.000000      73.000000          164.000000   \n",
       "75%       222.000000     179.000000          469.000000   \n",
       "85%       509.000000     407.000000          986.000000   \n",
       "90%       806.000000     653.000000         1470.000000   \n",
       "max      2825.000000    2964.000000         4998.000000   \n",
       "\n",
       "       argument12_len_sum_half  argument12_len_diff  argument12_len_diff_abs  \\\n",
       "count             63903.000000         63903.000000             63903.000000   \n",
       "mean                235.684475            33.010344               190.980486   \n",
       "std                 365.105567           373.091463               322.199974   \n",
       "min                   4.000000         -2837.000000                 0.000000   \n",
       "50%                  82.000000             2.000000                75.000000   \n",
       "75%                 234.500000            91.000000               178.000000   \n",
       "85%                 493.000000           176.700000               351.000000   \n",
       "90%                 735.000000           304.000000               536.000000   \n",
       "max                2499.000000          2724.000000              2837.000000   \n",
       "\n",
       "       argument1_sent_num  argument2_sent_num  argument12_sent_num_sum  \\\n",
       "count        63903.000000        63903.000000             63903.000000   \n",
       "mean            10.460307            9.186079                19.646386   \n",
       "std             17.225524           15.812931                29.325628   \n",
       "min              1.000000            1.000000                 2.000000   \n",
       "50%              4.000000            3.000000                 7.000000   \n",
       "75%              9.000000            8.000000                20.000000   \n",
       "85%             21.000000           16.000000                41.000000   \n",
       "90%             32.000000           26.000000                58.000000   \n",
       "max            151.000000          148.000000               292.000000   \n",
       "\n",
       "       argument12_sent_num_sum_half  argument12_sent_num_diff  \\\n",
       "count                  63903.000000              63903.000000   \n",
       "mean                       9.823193                  1.274228   \n",
       "std                       14.662814                 15.282098   \n",
       "min                        1.000000               -143.000000   \n",
       "50%                        3.500000                  0.000000   \n",
       "75%                       10.000000                  4.000000   \n",
       "85%                       20.500000                  7.000000   \n",
       "90%                       29.000000                 12.000000   \n",
       "max                      146.000000                129.000000   \n",
       "\n",
       "       argument12_sent_num_diff_abs  \n",
       "count                  63903.000000  \n",
       "mean                       7.758337  \n",
       "std                       13.227754  \n",
       "min                        0.000000  \n",
       "50%                        3.000000  \n",
       "75%                        7.000000  \n",
       "85%                       14.000000  \n",
       "90%                       22.000000  \n",
       "max                      143.000000  "
      ]
     },
     "execution_count": 21,
     "metadata": {},
     "output_type": "execute_result"
    }
   ],
   "source": [
    "within_traindev_df.describe(percentiles=[.75, .85, .90])"
   ]
  },
  {
   "cell_type": "code",
   "execution_count": 9,
   "metadata": {
    "ExecuteTime": {
     "end_time": "2019-12-17T17:29:42.239281Z",
     "start_time": "2019-12-17T17:29:42.183200Z"
    }
   },
   "outputs": [
    {
     "data": {
      "text/html": [
       "<div>\n",
       "<style scoped>\n",
       "    .dataframe tbody tr th:only-of-type {\n",
       "        vertical-align: middle;\n",
       "    }\n",
       "\n",
       "    .dataframe tbody tr th {\n",
       "        vertical-align: top;\n",
       "    }\n",
       "\n",
       "    .dataframe thead th {\n",
       "        text-align: right;\n",
       "    }\n",
       "</style>\n",
       "<table border=\"1\" class=\"dataframe\">\n",
       "  <thead>\n",
       "    <tr style=\"text-align: right;\">\n",
       "      <th></th>\n",
       "      <th>argument1_len</th>\n",
       "      <th>argument2_len</th>\n",
       "      <th>argument12_len_sum</th>\n",
       "      <th>argument12_len_sum_half</th>\n",
       "      <th>argument12_len_diff</th>\n",
       "      <th>argument12_len_diff_abs</th>\n",
       "      <th>argument1_sent_num</th>\n",
       "      <th>argument2_sent_num</th>\n",
       "      <th>argument12_sent_num_sum</th>\n",
       "      <th>argument12_sent_num_sum_half</th>\n",
       "      <th>argument12_sent_num_diff</th>\n",
       "      <th>argument12_sent_num_diff_abs</th>\n",
       "    </tr>\n",
       "  </thead>\n",
       "  <tbody>\n",
       "    <tr>\n",
       "      <th>count</th>\n",
       "      <td>63903.000000</td>\n",
       "      <td>63903.000000</td>\n",
       "      <td>63903.000000</td>\n",
       "      <td>63903.000000</td>\n",
       "      <td>63903.000000</td>\n",
       "      <td>63903.000000</td>\n",
       "      <td>63903.000000</td>\n",
       "      <td>63903.000000</td>\n",
       "      <td>63903.000000</td>\n",
       "      <td>63903.000000</td>\n",
       "      <td>63903.000000</td>\n",
       "      <td>63903.000000</td>\n",
       "    </tr>\n",
       "    <tr>\n",
       "      <th>mean</th>\n",
       "      <td>252.189647</td>\n",
       "      <td>219.179303</td>\n",
       "      <td>471.368950</td>\n",
       "      <td>235.684475</td>\n",
       "      <td>33.010344</td>\n",
       "      <td>190.980486</td>\n",
       "      <td>10.460307</td>\n",
       "      <td>9.186079</td>\n",
       "      <td>19.646386</td>\n",
       "      <td>9.823193</td>\n",
       "      <td>1.274228</td>\n",
       "      <td>7.758337</td>\n",
       "    </tr>\n",
       "    <tr>\n",
       "      <th>std</th>\n",
       "      <td>425.471105</td>\n",
       "      <td>393.925258</td>\n",
       "      <td>730.211134</td>\n",
       "      <td>365.105567</td>\n",
       "      <td>373.091463</td>\n",
       "      <td>322.199974</td>\n",
       "      <td>17.225524</td>\n",
       "      <td>15.812931</td>\n",
       "      <td>29.325628</td>\n",
       "      <td>14.662814</td>\n",
       "      <td>15.282098</td>\n",
       "      <td>13.227754</td>\n",
       "    </tr>\n",
       "    <tr>\n",
       "      <th>min</th>\n",
       "      <td>3.000000</td>\n",
       "      <td>4.000000</td>\n",
       "      <td>8.000000</td>\n",
       "      <td>4.000000</td>\n",
       "      <td>-2837.000000</td>\n",
       "      <td>0.000000</td>\n",
       "      <td>1.000000</td>\n",
       "      <td>1.000000</td>\n",
       "      <td>2.000000</td>\n",
       "      <td>1.000000</td>\n",
       "      <td>-143.000000</td>\n",
       "      <td>0.000000</td>\n",
       "    </tr>\n",
       "    <tr>\n",
       "      <th>25%</th>\n",
       "      <td>15.000000</td>\n",
       "      <td>14.000000</td>\n",
       "      <td>80.000000</td>\n",
       "      <td>40.000000</td>\n",
       "      <td>-58.000000</td>\n",
       "      <td>23.000000</td>\n",
       "      <td>1.000000</td>\n",
       "      <td>1.000000</td>\n",
       "      <td>4.000000</td>\n",
       "      <td>2.000000</td>\n",
       "      <td>-2.000000</td>\n",
       "      <td>1.000000</td>\n",
       "    </tr>\n",
       "    <tr>\n",
       "      <th>50%</th>\n",
       "      <td>85.000000</td>\n",
       "      <td>73.000000</td>\n",
       "      <td>164.000000</td>\n",
       "      <td>82.000000</td>\n",
       "      <td>2.000000</td>\n",
       "      <td>75.000000</td>\n",
       "      <td>4.000000</td>\n",
       "      <td>3.000000</td>\n",
       "      <td>7.000000</td>\n",
       "      <td>3.500000</td>\n",
       "      <td>0.000000</td>\n",
       "      <td>3.000000</td>\n",
       "    </tr>\n",
       "    <tr>\n",
       "      <th>75%</th>\n",
       "      <td>222.000000</td>\n",
       "      <td>179.000000</td>\n",
       "      <td>469.000000</td>\n",
       "      <td>234.500000</td>\n",
       "      <td>91.000000</td>\n",
       "      <td>178.000000</td>\n",
       "      <td>9.000000</td>\n",
       "      <td>8.000000</td>\n",
       "      <td>20.000000</td>\n",
       "      <td>10.000000</td>\n",
       "      <td>4.000000</td>\n",
       "      <td>7.000000</td>\n",
       "    </tr>\n",
       "    <tr>\n",
       "      <th>max</th>\n",
       "      <td>2825.000000</td>\n",
       "      <td>2964.000000</td>\n",
       "      <td>4998.000000</td>\n",
       "      <td>2499.000000</td>\n",
       "      <td>2724.000000</td>\n",
       "      <td>2837.000000</td>\n",
       "      <td>151.000000</td>\n",
       "      <td>148.000000</td>\n",
       "      <td>292.000000</td>\n",
       "      <td>146.000000</td>\n",
       "      <td>129.000000</td>\n",
       "      <td>143.000000</td>\n",
       "    </tr>\n",
       "  </tbody>\n",
       "</table>\n",
       "</div>"
      ],
      "text/plain": [
       "       argument1_len  argument2_len  argument12_len_sum  \\\n",
       "count   63903.000000   63903.000000        63903.000000   \n",
       "mean      252.189647     219.179303          471.368950   \n",
       "std       425.471105     393.925258          730.211134   \n",
       "min         3.000000       4.000000            8.000000   \n",
       "25%        15.000000      14.000000           80.000000   \n",
       "50%        85.000000      73.000000          164.000000   \n",
       "75%       222.000000     179.000000          469.000000   \n",
       "max      2825.000000    2964.000000         4998.000000   \n",
       "\n",
       "       argument12_len_sum_half  argument12_len_diff  argument12_len_diff_abs  \\\n",
       "count             63903.000000         63903.000000             63903.000000   \n",
       "mean                235.684475            33.010344               190.980486   \n",
       "std                 365.105567           373.091463               322.199974   \n",
       "min                   4.000000         -2837.000000                 0.000000   \n",
       "25%                  40.000000           -58.000000                23.000000   \n",
       "50%                  82.000000             2.000000                75.000000   \n",
       "75%                 234.500000            91.000000               178.000000   \n",
       "max                2499.000000          2724.000000              2837.000000   \n",
       "\n",
       "       argument1_sent_num  argument2_sent_num  argument12_sent_num_sum  \\\n",
       "count        63903.000000        63903.000000             63903.000000   \n",
       "mean            10.460307            9.186079                19.646386   \n",
       "std             17.225524           15.812931                29.325628   \n",
       "min              1.000000            1.000000                 2.000000   \n",
       "25%              1.000000            1.000000                 4.000000   \n",
       "50%              4.000000            3.000000                 7.000000   \n",
       "75%              9.000000            8.000000                20.000000   \n",
       "max            151.000000          148.000000               292.000000   \n",
       "\n",
       "       argument12_sent_num_sum_half  argument12_sent_num_diff  \\\n",
       "count                  63903.000000              63903.000000   \n",
       "mean                       9.823193                  1.274228   \n",
       "std                       14.662814                 15.282098   \n",
       "min                        1.000000               -143.000000   \n",
       "25%                        2.000000                 -2.000000   \n",
       "50%                        3.500000                  0.000000   \n",
       "75%                       10.000000                  4.000000   \n",
       "max                      146.000000                129.000000   \n",
       "\n",
       "       argument12_sent_num_diff_abs  \n",
       "count                  63903.000000  \n",
       "mean                       7.758337  \n",
       "std                       13.227754  \n",
       "min                        0.000000  \n",
       "25%                        1.000000  \n",
       "50%                        3.000000  \n",
       "75%                        7.000000  \n",
       "max                      143.000000  "
      ]
     },
     "execution_count": 9,
     "metadata": {},
     "output_type": "execute_result"
    }
   ],
   "source": [
    "within_traindev_df.describe()"
   ]
  },
  {
   "cell_type": "code",
   "execution_count": 20,
   "metadata": {
    "ExecuteTime": {
     "end_time": "2019-12-17T20:45:48.529725Z",
     "start_time": "2019-12-17T20:45:48.407448Z"
    }
   },
   "outputs": [
    {
     "name": "stdout",
     "output_type": "stream",
     "text": [
      "abortion \n",
      " ######################################## \n",
      "        argument1_len  argument2_len  argument12_len_sum  \\\n",
      "count   40840.000000   40840.000000        40840.000000   \n",
      "mean      264.362659     227.446572          491.809231   \n",
      "std       437.414485     404.893154          749.603628   \n",
      "min         3.000000       4.000000            8.000000   \n",
      "50%        83.000000      71.000000          161.000000   \n",
      "75%       258.000000     195.000000          537.000000   \n",
      "80%       372.000000     289.000000          746.000000   \n",
      "85%       541.150000     429.000000         1043.000000   \n",
      "90%       845.000000     680.000000         1528.000000   \n",
      "max      2825.000000    2964.000000         4998.000000   \n",
      "\n",
      "       argument12_len_sum_half  argument12_len_diff  argument12_len_diff_abs  \\\n",
      "count             40840.000000         40840.000000             40840.000000   \n",
      "mean                245.904616            36.916087               198.034794   \n",
      "std                 374.801814           385.531056               332.833722   \n",
      "min                   4.000000         -2837.000000                 0.000000   \n",
      "50%                  80.500000             3.000000                71.000000   \n",
      "75%                 268.500000            89.000000               197.000000   \n",
      "80%                 373.000000           122.000000               268.000000   \n",
      "85%                 521.500000           198.000000               382.000000   \n",
      "90%                 764.000000           339.000000               563.000000   \n",
      "max                2499.000000          2365.000000              2837.000000   \n",
      "\n",
      "       argument1_sent_num  argument2_sent_num  argument12_sent_num_sum  \\\n",
      "count        40840.000000        40840.000000             40840.000000   \n",
      "mean            10.865548            9.439863                20.305411   \n",
      "std             17.818285           16.250809                30.184747   \n",
      "min              1.000000            1.000000                 2.000000   \n",
      "50%              3.000000            3.000000                 7.000000   \n",
      "75%             11.000000            8.000000                22.000000   \n",
      "80%             14.000000           12.000000                31.000000   \n",
      "85%             23.000000           18.000000                43.000000   \n",
      "90%             34.000000           27.000000                61.000000   \n",
      "max            151.000000          148.000000               292.000000   \n",
      "\n",
      "       argument12_sent_num_sum_half  argument12_sent_num_diff  \\\n",
      "count                  40840.000000              40840.000000   \n",
      "mean                      10.152706                  1.425686   \n",
      "std                       15.092374                 15.875805   \n",
      "min                        1.000000               -143.000000   \n",
      "50%                        3.500000                  0.000000   \n",
      "75%                       11.000000                  3.000000   \n",
      "80%                       15.500000                  5.000000   \n",
      "85%                       21.500000                  8.000000   \n",
      "90%                       30.500000                 14.000000   \n",
      "max                      146.000000                129.000000   \n",
      "\n",
      "       argument12_sent_num_diff_abs  \n",
      "count                  40840.000000  \n",
      "mean                       8.021915  \n",
      "std                       13.773930  \n",
      "min                        0.000000  \n",
      "50%                        3.000000  \n",
      "75%                        8.000000  \n",
      "80%                       11.000000  \n",
      "85%                       15.000000  \n",
      "90%                       24.000000  \n",
      "max                      143.000000   \n",
      "\n",
      "\n",
      "gay marriage \n",
      " ######################################## \n",
      "        argument1_len  argument2_len  argument12_len_sum  \\\n",
      "count   23063.000000   23063.000000        23063.000000   \n",
      "mean      230.633656     204.539609          435.173265   \n",
      "std       402.562537     373.274100          693.082367   \n",
      "min         4.000000       4.000000            8.000000   \n",
      "50%        92.000000      75.000000          168.000000   \n",
      "75%       190.000000     165.000000          348.000000   \n",
      "80%       225.600000     203.000000          545.600000   \n",
      "85%       418.000000     334.000000          866.000000   \n",
      "90%       729.800000     602.600000         1356.800000   \n",
      "max      2776.000000    2743.000000         4946.000000   \n",
      "\n",
      "       argument12_len_sum_half  argument12_len_diff  argument12_len_diff_abs  \\\n",
      "count             23063.000000         23063.000000             23063.000000   \n",
      "mean                217.586632            26.094047               178.488705   \n",
      "std                 346.541183           349.881597               302.057050   \n",
      "min                   4.000000         -2202.000000                 0.000000   \n",
      "50%                  84.000000             2.000000                84.000000   \n",
      "75%                 174.000000            95.000000               159.000000   \n",
      "80%                 272.800000           117.000000               195.000000   \n",
      "85%                 433.000000           157.000000               288.000000   \n",
      "90%                 678.400000           230.000000               483.800000   \n",
      "max                2473.000000          2724.000000              2724.000000   \n",
      "\n",
      "       argument1_sent_num  argument2_sent_num  argument12_sent_num_sum  \\\n",
      "count        23063.000000        23063.000000             23063.000000   \n",
      "mean             9.742705            8.736678                18.479383   \n",
      "std             16.097854           14.996036                27.701299   \n",
      "min              1.000000            1.000000                 2.000000   \n",
      "50%              4.000000            4.000000                 8.000000   \n",
      "75%              8.000000            7.000000                16.000000   \n",
      "80%             10.000000            9.000000                23.000000   \n",
      "85%             17.000000           14.000000                35.000000   \n",
      "90%             29.000000           24.000000                53.000000   \n",
      "max            145.000000          145.000000               285.000000   \n",
      "\n",
      "       argument12_sent_num_sum_half  argument12_sent_num_diff  \\\n",
      "count                  23063.000000              23063.000000   \n",
      "mean                       9.239691                  1.006027   \n",
      "std                       13.850650                 14.166227   \n",
      "min                        1.000000               -110.000000   \n",
      "50%                        4.000000                  0.000000   \n",
      "75%                        8.000000                  4.000000   \n",
      "80%                       11.500000                  5.000000   \n",
      "85%                       17.500000                  7.000000   \n",
      "90%                       26.500000                 10.000000   \n",
      "max                      142.500000                128.000000   \n",
      "\n",
      "       argument12_sent_num_diff_abs  \n",
      "count                  23063.000000  \n",
      "mean                       7.291593  \n",
      "std                       12.187063  \n",
      "min                        0.000000  \n",
      "50%                        3.000000  \n",
      "75%                        7.000000  \n",
      "80%                        9.000000  \n",
      "85%                       12.000000  \n",
      "90%                       20.000000  \n",
      "max                      128.000000   \n",
      "\n",
      "\n"
     ]
    }
   ],
   "source": [
    "for v, sdf in within_traindev_df.groupby(\"tag\"):\n",
    "    print(v, \"\\n\", \"#\" * 40, \"\\n\", sdf.describe(percentiles=[.75, .80, .85, .90]), \"\\n\\n\")"
   ]
  },
  {
   "cell_type": "code",
   "execution_count": null,
   "metadata": {},
   "outputs": [],
   "source": []
  },
  {
   "cell_type": "code",
   "execution_count": null,
   "metadata": {
    "ExecuteTime": {
     "end_time": "2019-12-17T16:41:53.509656Z",
     "start_time": "2019-12-17T16:41:52.268974Z"
    },
    "code_folding": [
     0
    ],
    "init_cell": true
   },
   "outputs": [],
   "source": [
    "if stats:\n",
    "    from utils_data import get_overview, plot_lengths\n",
    "\n",
    "    get_overview(within_traindev_df, description=\"within_traindev_df\")\n",
    "    get_overview(cross_traindev_df, description=\"cross_traindev_df\")\n",
    "    get_overview(artificial_evalset_df, description=\"artificial_evalset_df\")\n",
    "\n",
    "    print()\n",
    "    print(within_traindev_df.describe())\n",
    "    print()\n",
    "    print(cross_traindev_df.describe())\n",
    "    print()\n",
    "    print(artificial_evalset_df.describe())\n",
    "    \n",
    "    plot_lengths(within_traindev_df, slice(None, None, 500), title='Length of arguments within train/dev, every 500')\n",
    "    plot_lengths(cross_traindev_df, slice(None, None, 500), title='Length of arguments cross train/dev, every 500')\n",
    "    plot_lengths(within_test_df, slice(None, None, 1), title='Length of arguments within test')\n",
    "    plot_lengths(artificial_evalset_df, slice(None, None, 1), title='Length of arguments artificial evalset')"
   ]
  },
  {
   "cell_type": "code",
   "execution_count": 14,
   "metadata": {
    "ExecuteTime": {
     "end_time": "2019-12-10T15:27:32.390627Z",
     "start_time": "2019-12-10T15:27:32.388673Z"
    }
   },
   "outputs": [],
   "source": [
    "# ! head -n 5 data/same-side-classification/within-topic/test.csv\n",
    "# ! head -n 5 data/same-side-classification/within-topic/within_test.csv"
   ]
  },
  {
   "cell_type": "code",
   "execution_count": 15,
   "metadata": {
    "ExecuteTime": {
     "end_time": "2019-12-10T15:27:33.260885Z",
     "start_time": "2019-12-10T15:27:33.258465Z"
    },
    "code_folding": [
     0
    ],
    "init_cell": true,
    "run_control": {
     "marked": false
    }
   },
   "outputs": [],
   "source": [
    "if stats:\n",
    "    distinct_cross_train_df, distinct_cross_dev_df = load_distinct_df_raw(\"cross\")\n",
    "    distinct_within_train_df, distinct_within_dev_df = load_distinct_df_raw(\"within\")\n",
    "\n",
    "    get_overview(distinct_cross_train_df, task=\"same-side distinct cross train\")\n",
    "    get_overview(distinct_cross_dev_df, task=\"same-side distinct cross dev\")\n",
    "    get_overview(distinct_within_train_df, task=\"same-side distinct within train\")\n",
    "    get_overview(distinct_within_dev_df, task=\"same-side distinct within dev\")"
   ]
  },
  {
   "cell_type": "markdown",
   "metadata": {},
   "source": [
    "---"
   ]
  },
  {
   "cell_type": "markdown",
   "metadata": {},
   "source": [
    "## Train model"
   ]
  },
  {
   "cell_type": "markdown",
   "metadata": {},
   "source": [
    "##### train dev set - 70% 30%"
   ]
  },
  {
   "cell_type": "code",
   "execution_count": 16,
   "metadata": {
    "ExecuteTime": {
     "end_time": "2019-12-10T15:27:34.092133Z",
     "start_time": "2019-12-10T15:27:34.090187Z"
    },
    "code_folding": [],
    "init_cell": true,
    "scrolled": true
   },
   "outputs": [],
   "source": [
    "from utils_data import get_train_test_sets"
   ]
  },
  {
   "cell_type": "markdown",
   "metadata": {},
   "source": [
    "##### within as a dev set for cross etc."
   ]
  },
  {
   "cell_type": "code",
   "execution_count": 17,
   "metadata": {
    "ExecuteTime": {
     "end_time": "2019-12-10T15:27:34.904950Z",
     "start_time": "2019-12-10T15:27:34.903279Z"
    },
    "code_folding": [],
    "init_cell": true,
    "scrolled": true
   },
   "outputs": [],
   "source": [
    "from utils_data import split_within_by_topic"
   ]
  },
  {
   "cell_type": "markdown",
   "metadata": {},
   "source": [
    "### BERT\n",
    "\n",
    "- https://gluon-nlp.mxnet.io/examples/sentence_embedding/bert.html"
   ]
  },
  {
   "cell_type": "markdown",
   "metadata": {},
   "source": [
    "###### my own `BERTDatasetTransform` for extracting chunks from arguments or last part etc.\n",
    "\n",
    "```python\n",
    "transform = dataset.BERTDatasetTransform(bert_tokenizer, 512,\n",
    "                                         labels=['0', '1'],\n",
    "                                         label_dtype='int32',\n",
    "                                         pad=True,\n",
    "                                         pair=True)\n",
    "```\n",
    "\n",
    "http://localhost:9001/edit/bert/dataset.py @454\n",
    "```python\n",
    "# substitute with my own (e. g. last part, many parts etc.)\n",
    "def __init__(...):\n",
    "    self._bert_xform = BERTSentenceTransform(tokenizer, max_seq_length, pad=pad, pair=pair)\n",
    "```\n",
    "https://gluon-nlp.mxnet.io/master/_modules/gluonnlp/data/transforms.html#BERTSentenceTransform\n",
    "```python\n",
    "# substitute with my own (e. g. only last part (trim from start))\n",
    "self._truncate_seq_pair(tokens_a, tokens_b, self._max_seq_length - 3)\n",
    "```\n",
    "\n",
    "https://mxnet.incubator.apache.org/_modules/mxnet/gluon/data/dataset.html#Dataset.transform"
   ]
  },
  {
   "cell_type": "code",
   "execution_count": 18,
   "metadata": {
    "ExecuteTime": {
     "end_time": "2019-12-10T15:27:35.765707Z",
     "start_time": "2019-12-10T15:27:35.740210Z"
    },
    "code_folding": [
     0
    ],
    "init_cell": true,
    "run_control": {
     "marked": false
    }
   },
   "outputs": [],
   "source": [
    "from utils_gluon import MyBERTDataset\n",
    "from utils_gluon import LastPartBERTDatasetTransform\n",
    "from utils_gluon import FirstAndLastPartBERTDatasetTransform"
   ]
  },
  {
   "cell_type": "code",
   "execution_count": 19,
   "metadata": {
    "ExecuteTime": {
     "end_time": "2019-12-10T15:27:36.590042Z",
     "start_time": "2019-12-10T15:27:36.587945Z"
    },
    "code_folding": [],
    "init_cell": true,
    "run_control": {
     "marked": false
    },
    "scrolled": true
   },
   "outputs": [],
   "source": [
    "from utils_gluon import setup_bert\n",
    "from utils_gluon import setup_bert_epi128bce, setup_bert_epi512bce\n",
    "from utils_gluon import setup_bert_pro128bce, setup_bert_pro512bce\n",
    "from utils_gluon import setup_bert_proepi512bce\n",
    "\n",
    "from utils_gluon import transform_dataset\n",
    "from utils_gluon import predict_out_to_ys"
   ]
  },
  {
   "cell_type": "markdown",
   "metadata": {},
   "source": [
    "Multi-GPU?\n",
    "- https://gluon.mxnet.io/chapter07_distributed-learning/multiple-gpus-gluon.html"
   ]
  },
  {
   "cell_type": "code",
   "execution_count": 20,
   "metadata": {
    "ExecuteTime": {
     "end_time": "2019-12-10T15:27:37.434725Z",
     "start_time": "2019-12-10T15:27:37.432019Z"
    },
    "code_folding": [],
    "init_cell": true,
    "run_control": {
     "marked": false
    }
   },
   "outputs": [],
   "source": [
    "from utils_gluon import train, train_proepi\n",
    "from utils_gluon import train_multi, train_multi_proepi\n",
    "\n",
    "from utils_gluon import predict, predict_proepi\n",
    "from utils_gluon import predict_unknown, predict_unknown_proepi\n",
    "\n",
    "from utils_gluon import print_infos, print_infos_proepi\n",
    "from utils_gluon import plot_train_stats\n",
    "\n",
    "from utils_gluon import compute_metrics, compute_metrics_old, heatconmat, report_training_results"
   ]
  },
  {
   "cell_type": "code",
   "execution_count": null,
   "metadata": {},
   "outputs": [],
   "source": []
  },
  {
   "cell_type": "markdown",
   "metadata": {},
   "source": [
    "### (B.1) Within distinct datasets"
   ]
  },
  {
   "cell_type": "code",
   "execution_count": null,
   "metadata": {
    "code_folding": []
   },
   "outputs": [],
   "source": [
    "with Timer(\"1 - load within test/train\"):\n",
    "    X_train, X_dev, y_train, y_dev = load_distinct_data(\"within\")\n",
    "\n",
    "with Timer(\"2 - setup BERT model\"):\n",
    "    model, vocabulary, ctx, tokenizer, transform, loss_function, metric, all_labels = setup_bert()\n",
    "\n",
    "with Timer(\"3 - prepare training data\"):\n",
    "    data_train_raw, data_train = transform_dataset(X_train, y_train, transform)\n",
    "    # print_infos(vocabulary, data_train_raw, data_train)\n",
    "\n",
    "run_name = \"within_traindev_epi512_BCE_distinct\"\n",
    "! mkdir data/within_traindev_epi512_BCE_distinct\n",
    "\n",
    "with Timer(\"5 - prepare eval data\"):\n",
    "    data_dev_raw, data_dev = transform_dataset(X_dev, y_dev, transform)\n",
    "    # print_infos(vocabulary, data_dev_raw, data_dev)\n",
    "\n",
    "for epoch_id in range(3):\n",
    "    with Timer(\"4 - train model - {}\".format(epoch_id)), SummaryWriter(logdir=\"data/\" + run_name, flush_secs=60) as sw:\n",
    "        stats = train(model, data_train, ctx, metric, loss_function, batch_size=6, lr=5e-6, num_epochs=epoch_id + 1, sw=sw, checkpoint_dir=\"data/\" + run_name)\n",
    "        plot_train_stats(stats)\n",
    "\n",
    "    with Timer(\"6 - evaluate - {}\".format(epoch_id)), SummaryWriter(logdir=\"data/\" + run_name, flush_secs=60) as sw:\n",
    "        all_predictions, cum_loss = predict(model, data_dev, ctx, metric, loss_function, batch_size=6, sw=sw)\n",
    "        print(\"Accuracy in epoch {}:\".format(epoch_id), metric.get()[1])\n",
    "\n",
    "        y_true, y_pred = predict_out_to_ys(all_predictions, all_labels)\n",
    "        report_training_results(y_true, y_pred, name=\"BERTClassifier - distinct within BCE epilog\", heatmap=False)\n",
    "\n",
    "    model.save_parameters(\"data/\" + run_name + \"/bert.model.params\")"
   ]
  },
  {
   "cell_type": "code",
   "execution_count": null,
   "metadata": {
    "code_folding": [
     1
    ]
   },
   "outputs": [],
   "source": [
    "run_name = \"within_traindev_epi512_BCE_distinct\"\n",
    "with Timer(\"6 - evaluate\"), SummaryWriter(logdir=\"data/\" + run_name, flush_secs=60) as sw:\n",
    "    model.load_parameters(\"data/\" + run_name + \"/bert.model.params\", ctx=ctx)\n",
    "    all_predictions, cum_loss = predict(model, data_dev, ctx, metric, loss_function, batch_size=2, sw=sw)\n",
    "    print(\"Accuracy:\", metric.get()[1])\n",
    "\n",
    "    y_true, y_pred = predict_out_to_ys(all_predictions, all_labels)\n",
    "    report_training_results(y_true, y_pred, name=\"BERTClassifier - distinct within BCE epilog\", heatmap=False)"
   ]
  },
  {
   "cell_type": "markdown",
   "metadata": {},
   "source": [
    "```\n",
    "Time for [prediction]: 0:00:57.187743\n",
    "\n",
    "Accuracy: 0.6220657276995305\n",
    "\n",
    "Confusion Matrix:\n",
    "[[368 224]\n",
    " [259 427]]\n",
    "\n",
    "Accuracy:  0.62 \n",
    "\n",
    "Report for [BERTClassifier - distinct within 512 BCE epilog (3 epochs)]:\n",
    "              precision    recall  f1-score   support\n",
    "\n",
    "           0       0.59      0.62      0.60       592\n",
    "           1       0.66      0.62      0.64       686\n",
    "\n",
    "    accuracy                           0.62      1278\n",
    "   macro avg       0.62      0.62      0.62      1278\n",
    "weighted avg       0.62      0.62      0.62      1278\n",
    "\n",
    "Time for [6 - evaluate]: 0:00:57.491961\n",
    "```"
   ]
  },
  {
   "cell_type": "markdown",
   "metadata": {},
   "source": [
    "### (B.2) Cross distinct datasets"
   ]
  },
  {
   "cell_type": "code",
   "execution_count": null,
   "metadata": {
    "code_folding": [
     0,
     3,
     6,
     13,
     17
    ]
   },
   "outputs": [],
   "source": [
    "with Timer(\"1 - load cross test/train\"):\n",
    "    X_train, X_dev, y_train, y_dev = load_distinct_data(\"cross\")\n",
    "\n",
    "with Timer(\"2 - setup BERT model\"):\n",
    "    model, vocabulary, ctx, tokenizer, transform, loss_function, metric, all_labels = setup_bert()\n",
    "\n",
    "with Timer(\"3 - prepare training data\"):\n",
    "    data_train_raw, data_train = transform_dataset(X_train, y_train, transform)\n",
    "    # print_infos(vocabulary, data_train_raw, data_train)\n",
    "\n",
    "run_name = \"cross_traindev_epi512_BCE_distinct\"\n",
    "! mkdir data/cross_traindev_epi512_BCE_distinct\n",
    "\n",
    "with Timer(\"5 - prepare eval data\"):\n",
    "    data_dev_raw, data_dev = transform_dataset(X_dev, y_dev, transform)\n",
    "    # print_infos(vocabulary, data_dev_raw, data_dev)\n",
    "\n",
    "for epoch_id in range(3):\n",
    "    with Timer(\"4 - train model - {}\".format(epoch_id)), SummaryWriter(logdir=\"data/\" + run_name, flush_secs=60) as sw:\n",
    "        stats = train(model, data_train, ctx, metric, loss_function, batch_size=6, lr=5e-6, num_epochs=epoch_id + 1, sw=sw, checkpoint_dir=\"data/\" + run_name)\n",
    "        plot_train_stats(stats)\n",
    "\n",
    "    with Timer(\"6 - evaluate - {}\".format(epoch_id)), SummaryWriter(logdir=\"data/\" + run_name, flush_secs=60) as sw:\n",
    "        all_predictions, cum_loss = predict(model, data_dev, ctx, metric, loss_function, batch_size=6, sw=sw)\n",
    "        print(\"Accuracy in epoch {}:\".format(epoch_id), metric.get()[1])\n",
    "\n",
    "        y_true, y_pred = predict_out_to_ys(all_predictions, all_labels)\n",
    "        report_training_results(y_true, y_pred, name=\"BERTClassifier - distinct cross BCE epilog\", heatmap=False)\n",
    "\n",
    "    model.save_parameters(\"data/\" + run_name + \"/bert.model.params\")"
   ]
  },
  {
   "cell_type": "code",
   "execution_count": null,
   "metadata": {
    "code_folding": [
     1
    ]
   },
   "outputs": [],
   "source": [
    "run_name = \"cross_traindev_epi512_BCE_distinct\"\n",
    "with Timer(\"6 - evaluate\"), SummaryWriter(logdir=\"data/\" + run_name, flush_secs=60) as sw:\n",
    "    model.load_parameters(\"data/\" + run_name + \"/bert.model.params\", ctx=ctx)\n",
    "    all_predictions, cum_loss = predict(model, data_dev, ctx, metric, loss_function, batch_size=2, sw=sw)\n",
    "    print(\"Accuracy:\", metric.get()[1])\n",
    "\n",
    "    y_true, y_pred = predict_out_to_ys(all_predictions, all_labels)\n",
    "    report_training_results(y_true, y_pred, name=\"BERTClassifier - distinct cross BCE epilog\", heatmap=False)"
   ]
  },
  {
   "cell_type": "markdown",
   "metadata": {},
   "source": [
    "```\n",
    "Time for [prediction]: 0:02:32.090311\n",
    "Accuracy: 0.7154929577464789\n",
    "\n",
    "Confusion Matrix:\n",
    "[[1449  386]\n",
    " [ 523  837]]\n",
    "\n",
    "Accuracy:  0.72 \n",
    "\n",
    "Report for [BERTClassifier - distinct cross BCE 512 epilog (3 epochs)]:\n",
    "              precision    recall  f1-score   support\n",
    "\n",
    "           0       0.73      0.79      0.76      1835\n",
    "           1       0.68      0.62      0.65      1360\n",
    "\n",
    "    accuracy                           0.72      3195\n",
    "   macro avg       0.71      0.70      0.70      3195\n",
    "weighted avg       0.71      0.72      0.71      3195\n",
    "\n",
    "Time for [6 - evaluate]: 0:02:32.553864\n",
    "```"
   ]
  },
  {
   "cell_type": "code",
   "execution_count": null,
   "metadata": {},
   "outputs": [],
   "source": [
    "compute_metrics([[1449, 386], [523, 837]])"
   ]
  },
  {
   "cell_type": "markdown",
   "metadata": {},
   "source": [
    "### (B.3) within, cluster distinct"
   ]
  },
  {
   "cell_type": "code",
   "execution_count": null,
   "metadata": {
    "ExecuteTime": {
     "end_time": "2019-12-08T20:20:56.038028Z",
     "start_time": "2019-12-08T20:20:55.957736Z"
    }
   },
   "outputs": [],
   "source": [
    "fn_cluster_distinct_within = \"data/distinct_sets_gw/within_split_by_clusters.pkl\"\n",
    "\n",
    "with open(fn_cluster_distinct_within, \"rb\") as fp:\n",
    "    within_train_df = pickle.load(fp)\n",
    "    within_dev_df = pickle.load(fp)"
   ]
  },
  {
   "cell_type": "code",
   "execution_count": null,
   "metadata": {
    "code_folding": [
     0,
     15,
     22,
     26
    ],
    "scrolled": false
   },
   "outputs": [],
   "source": [
    "with Timer(\"1 - load within cluster distinct test/train\"):\n",
    "    fn_cluster_distinct_within = \"data/distinct_sets_gw/within_split_by_clusters.pkl\"\n",
    "\n",
    "    with open(fn_cluster_distinct_within, \"rb\") as fp:\n",
    "        within_train_df = pickle.load(fp)\n",
    "        within_dev_df = pickle.load(fp)\n",
    "    \n",
    "    X_train = within_train_df[names_columns_X]\n",
    "    y_train = within_train_df[names_columns_y]\n",
    "    X_dev = within_dev_df[names_columns_X]\n",
    "    y_dev = within_dev_df[names_columns_y]\n",
    "\n",
    "with Timer(\"2 - setup BERT model\"):\n",
    "    model, vocabulary, ctx, tokenizer, transform, loss_function, metric, all_labels = setup_bert_epi512bce()\n",
    "\n",
    "with Timer(\"3 - prepare training data\"):\n",
    "    data_train_raw, data_train = transform_dataset(X_train, y_train, transform)\n",
    "    # print_infos(vocabulary, data_train_raw, data_train)\n",
    "\n",
    "run_name = \"within_traindev_epi512_BCE_distinct_cluster\"\n",
    "! mkdir data/within_traindev_epi512_BCE_distinct_cluster\n",
    "\n",
    "with Timer(\"5 - prepare eval data\"):\n",
    "    data_dev_raw, data_dev = transform_dataset(X_dev, y_dev, transform)\n",
    "    # print_infos(vocabulary, data_dev_raw, data_dev)\n",
    "\n",
    "for epoch_id in range(3):\n",
    "    with Timer(\"4 - train model - {}\".format(epoch_id)), SummaryWriter(logdir=\"data/\" + run_name, flush_secs=60) as sw:\n",
    "        stats = train(model, data_train, ctx, metric, loss_function, batch_size=6, lr=5e-6, num_epochs=epoch_id + 1, sw=sw, checkpoint_dir=\"data/\" + run_name)\n",
    "        plot_train_stats(stats)\n",
    "\n",
    "    with Timer(\"6 - evaluate - {}\".format(epoch_id)), SummaryWriter(logdir=\"data/\" + run_name, flush_secs=60) as sw:\n",
    "        all_predictions, cum_loss = predict(model, data_dev, ctx, metric, loss_function, batch_size=6, sw=sw)\n",
    "        print(\"Accuracy in epoch {}:\".format(epoch_id), metric.get()[1])\n",
    "\n",
    "        y_true, y_pred = predict_out_to_ys(all_predictions, all_labels)\n",
    "        report_training_results(y_true, y_pred, name=\"BERTClassifier - distinct cluster within BCE 512 epilog\", heatmap=False)\n",
    "\n",
    "    model.save_parameters(\"data/\" + run_name + \"/bert.model.params\")"
   ]
  },
  {
   "cell_type": "code",
   "execution_count": null,
   "metadata": {
    "ExecuteTime": {
     "end_time": "2019-12-08T20:21:35.555051Z",
     "start_time": "2019-12-08T20:21:31.968366Z"
    },
    "code_folding": [
     0,
     15
    ]
   },
   "outputs": [],
   "source": [
    "with Timer(\"1 - load within cluster distinct test/train\"):\n",
    "    fn_cluster_distinct_within = \"data/distinct_sets_gw/within_split_by_clusters.pkl\"\n",
    "\n",
    "    with open(fn_cluster_distinct_within, \"rb\") as fp:\n",
    "        within_train_df = pickle.load(fp)\n",
    "        within_dev_df = pickle.load(fp)\n",
    "    \n",
    "    X_train = within_train_df[names_columns_X]\n",
    "    y_train = within_train_df[names_columns_y]\n",
    "    X_dev = within_dev_df[names_columns_X]\n",
    "    y_dev = within_dev_df[names_columns_y]\n",
    "\n",
    "with Timer(\"2 - setup BERT model\"):\n",
    "    model, vocabulary, ctx, tokenizer, transform, loss_function, metric, all_labels = setup_bert_epi512bce()\n",
    "\n",
    "with Timer(\"5 - prepare eval data\"):\n",
    "    data_dev_raw, data_dev = transform_dataset(X_dev, y_dev, transform)"
   ]
  },
  {
   "cell_type": "code",
   "execution_count": null,
   "metadata": {
    "ExecuteTime": {
     "end_time": "2019-12-08T20:39:06.129156Z",
     "start_time": "2019-12-08T20:21:46.016247Z"
    },
    "code_folding": [
     1
    ]
   },
   "outputs": [],
   "source": [
    "run_name = \"within_traindev_epi512_BCE_distinct_cluster\"\n",
    "with Timer(\"6 - evaluate\"), SummaryWriter(logdir=\"data/\" + run_name, flush_secs=60) as sw:\n",
    "    model.load_parameters(\"data/\" + run_name + \"/bert.model.params\", ctx=ctx)\n",
    "    all_predictions, cum_loss = predict(model, data_dev, ctx, metric, loss_function, batch_size=6, sw=sw)\n",
    "    print(\"Accuracy:\", metric.get()[1])\n",
    "\n",
    "    y_true, y_pred = predict_out_to_ys(all_predictions, all_labels)\n",
    "    report_training_results(y_true, y_pred, name=\"BERTClassifier - distinct cluster within BCE 512 epilog (3 epochs)\", heatmap=False)"
   ]
  },
  {
   "cell_type": "markdown",
   "metadata": {},
   "source": [
    "```\n",
    "Time for [prediction]: 0:17:08.991174\n",
    "Accuracy: 0.6497847321883247\n",
    "\n",
    "Confusion Matrix:\n",
    "[[8815 3593]\n",
    " [3972 5221]]\n",
    "\n",
    "Accuracy:  0.65 \n",
    "\n",
    "Report for [BERTClassifier - distinct cluster within BCE 512 epilog (3 epochs)]:\n",
    "              precision    recall  f1-score   support\n",
    "\n",
    "           0       0.69      0.71      0.70     12408\n",
    "           1       0.59      0.57      0.58      9193\n",
    "\n",
    "    accuracy                           0.65     21601\n",
    "   macro avg       0.64      0.64      0.64     21601\n",
    "weighted avg       0.65      0.65      0.65     21601\n",
    "\n",
    "Time for [6 - evaluate]: 0:17:11.581655\n",
    "```\n",
    "\n",
    "```\n",
    "#### new metrics, macro\n",
    "Time for [prediction]: 0:17:17.679074\n",
    "Accuracy: 0.6497847321883247\n",
    "\n",
    "2019-12-08 21:39:06,126 : INFO : wrote 363 events to disk\n",
    "\n",
    "Confusion Matrix:\n",
    "[[8815 3593]\n",
    " [3972 5221]]\n",
    "\n",
    "  accuracy: 0.650\n",
    " precision: 0.641\n",
    "    recall: 0.639\n",
    "  f1-score: 0.640\n",
    "\n",
    "Accuracy:  0.65 \n",
    "\n",
    "Report for [BERTClassifier - distinct cluster within BCE 512 epilog (3 epochs)]:\n",
    "              precision    recall  f1-score   support\n",
    "\n",
    "           0       0.69      0.71      0.70     12408\n",
    "           1       0.59      0.57      0.58      9193\n",
    "\n",
    "    accuracy                           0.65     21601\n",
    "   macro avg       0.64      0.64      0.64     21601\n",
    "weighted avg       0.65      0.65      0.65     21601\n",
    "\n",
    "Time for [6 - evaluate]: 0:17:20.109318\n",
    "```"
   ]
  },
  {
   "cell_type": "code",
   "execution_count": null,
   "metadata": {},
   "outputs": [],
   "source": [
    "compute_metrics([[8815, 3593], [3972, 5221]])"
   ]
  },
  {
   "cell_type": "markdown",
   "metadata": {},
   "source": [
    "##### Statistics for cluster distinct set"
   ]
  },
  {
   "cell_type": "code",
   "execution_count": null,
   "metadata": {
    "ExecuteTime": {
     "end_time": "2019-12-08T21:00:41.743350Z",
     "start_time": "2019-12-08T20:47:46.197297Z"
    },
    "code_folding": [
     1,
     9,
     30,
     48
    ]
   },
   "outputs": [],
   "source": [
    "ctx = mx.cpu()\n",
    "_, vocabulary = nlp.model.get_model('bert_12_768_12',\n",
    "                                    dataset_name='book_corpus_wiki_en_uncased',\n",
    "                                    pretrained=True, ctx=ctx, use_pooler=True,\n",
    "                                    use_decoder=False, use_classifier=False)\n",
    "bert_tokenizer = nlp.data.BERTTokenizer(vocabulary, lower=True)\n",
    "tokenizer = bert_tokenizer\n",
    "\n",
    "# tokenizer from BERT\n",
    "def tokenize_arguments(row):\n",
    "    # tokenize\n",
    "    row['argument1_tokens'] = tokenizer(row['argument1'])\n",
    "    row['argument2_tokens'] = tokenizer(row['argument2'])\n",
    "\n",
    "    # count tokens\n",
    "    row['argument1_len'] = len(row['argument1_tokens'])\n",
    "    row['argument2_len'] = len(row['argument2_tokens'])\n",
    "    # token number diff\n",
    "    row['argument12_len_sum'] = row['argument1_len'] + row['argument2_len']\n",
    "    row['argument12_len_sum_half'] = row['argument12_len_sum'] / 2\n",
    "    row['argument12_len_diff'] = row['argument1_len'] - row['argument2_len']\n",
    "    row['argument12_len_diff_abs'] = np.abs(row['argument12_len_diff'])\n",
    "    return row\n",
    "\n",
    "within_train_df = within_train_df.progress_apply(tokenize_arguments, axis=1)\n",
    "within_dev_df = within_dev_df.progress_apply(tokenize_arguments, axis=1)\n",
    "\n",
    "from nltk.tokenize import sent_tokenize, word_tokenize\n",
    "# nltk.download('punct')\n",
    "\n",
    "def sentenize_arguments(row):\n",
    "    # tokenize\n",
    "    row['argument1_sentences'] = sent_tokenize(row['argument1'])\n",
    "    row['argument2_sentences'] = sent_tokenize(row['argument2'])\n",
    "\n",
    "    # count tokens\n",
    "    row['argument1_sent_num'] = len(row['argument1_sentences'])\n",
    "    row['argument2_sent_num'] = len(row['argument2_sentences'])\n",
    "    # token number diff\n",
    "    row['argument12_sent_num_sum'] = row['argument1_sent_num'] + row['argument2_sent_num']\n",
    "    row['argument12_sent_num_sum_half'] = row['argument12_sent_num_sum'] / 2\n",
    "    row['argument12_sent_num_diff'] = row['argument1_sent_num'] - row['argument2_sent_num']\n",
    "    row['argument12_sent_num_diff_abs'] = np.abs(row['argument12_sent_num_diff'])\n",
    "    return row\n",
    "\n",
    "within_train_df = within_train_df.progress_apply(sentenize_arguments, axis=1)\n",
    "within_dev_df = within_dev_df.progress_apply(sentenize_arguments, axis=1)\n",
    "\n",
    "def get_overview(df, task='same-side', class_name='is_same_side'):\n",
    "    # Total instance numbers\n",
    "    total = len(df)\n",
    "    print(\"Task: \", task)\n",
    "    print('=' * 40, '\\n')\n",
    "\n",
    "    print('Total instances: ', total)\n",
    "    print('\\n')\n",
    "\n",
    "    print('For each topic:')\n",
    "    for tag, tag_df in df.groupby(['tag']):\n",
    "        print(tag, ': ', len(tag_df), ' instances')\n",
    "        print('')\n",
    "        print('\\t\\tUnique argument1:', len(tag_df['argument1'].unique()))\n",
    "        print('\\t\\tUnique argument2:', len(tag_df['argument2'].unique()))\n",
    "        arguments = np.concatenate([tag_df['argument1'].values, tag_df['argument2'].values])\n",
    "        print('\\t\\tUnique total arguments:', len(set(list(arguments))), '\\n')\n",
    "        if class_name in df.columns:\n",
    "            for is_same_side, side_df in tag_df.groupby([class_name]):\n",
    "                print('\\t\\t', is_same_side, ': ', len(side_df), ' instances')\n",
    "    print('\\n')\n",
    "\n",
    "    if class_name in df.columns:\n",
    "        print('For each class value:')\n",
    "        for class_value, class_df in df.groupby([class_name]):\n",
    "            print(class_value, ': ', len(class_df), ' instances')\n",
    "            print('\\t\\tUnique argument1:', len(class_df['argument1'].unique()))\n",
    "            print('\\t\\tUnique argument2:', len(class_df['argument2'].unique()))\n",
    "            arguments = np.concatenate([class_df['argument1'].values, class_df['argument2'].values])\n",
    "            print('\\t\\tUnique total arguments:', len(set(list(arguments))), '\\n')\n",
    "        print('\\n')\n",
    "\n",
    "    print('Unique argument1:', len(df['argument1'].unique()))\n",
    "    print('Unique argument2:', len(df['argument2'].unique()))\n",
    "    arguments = df['argument1'].values\n",
    "    arguments = np.concatenate([arguments, df['argument2'].values])\n",
    "\n",
    "    print('Unique total arguments:', len(set(list(arguments))), '\\n')\n",
    "\n",
    "    print('-' * 40, '\\n')\n",
    "\n",
    "    arguments_length_lst = [x for x in df['argument1_len'].values]\n",
    "    arguments_length_lst.extend([x for x in df['argument2_len'].values])\n",
    "    print('Words:')\n",
    "    print('\\tshortest argument:', min(arguments_length_lst), ' words')\n",
    "    print('\\tlongest argument:', max(arguments_length_lst), ' words')\n",
    "    print('\\targument average length:', np.mean(arguments_length_lst),\n",
    "          ' words')\n",
    "\n",
    "    arguments_sent_length_lst = [x for x in df['argument1_sent_num'].values]\n",
    "    arguments_sent_length_lst.extend([x for x in df['argument2_sent_num'].values])\n",
    "    print('Sentences:')\n",
    "    print('\\tshortest argument:', min(arguments_sent_length_lst), ' sentences')\n",
    "    print('\\tlongest argument:', max(arguments_sent_length_lst), ' sentences')\n",
    "    print('\\targument average length:', np.mean(arguments_sent_length_lst),\n",
    "          ' sentences')"
   ]
  },
  {
   "cell_type": "code",
   "execution_count": null,
   "metadata": {
    "ExecuteTime": {
     "end_time": "2019-12-08T21:08:52.094441Z",
     "start_time": "2019-12-08T21:08:14.896370Z"
    },
    "code_folding": []
   },
   "outputs": [],
   "source": [
    "def add_tag(row):\n",
    "    title = row['topic'].lower().strip()\n",
    "    if \"abortion\" in title:\n",
    "        row['tag'] = 'abortion'\n",
    "    elif \"gay marriage\"  in title:\n",
    "        row['tag'] = 'gay marriage'\n",
    "    else:\n",
    "        row['tag'] = 'NA'\n",
    "    return row\n",
    "\n",
    "\n",
    "within_train_df = within_train_df.progress_apply(add_tag, axis=1)\n",
    "within_dev_df = within_dev_df.progress_apply(add_tag, axis=1)"
   ]
  },
  {
   "cell_type": "code",
   "execution_count": 52,
   "metadata": {
    "ExecuteTime": {
     "end_time": "2019-12-08T21:13:32.566591Z",
     "start_time": "2019-12-08T21:13:31.944977Z"
    }
   },
   "outputs": [
    {
     "name": "stdout",
     "output_type": "stream",
     "text": [
      "Task:  cluster distinct train\n",
      "======================================== \n",
      "\n",
      "Total instances:  42302\n",
      "\n",
      "\n",
      "For each topic:\n",
      "abortion :  26136  instances\n",
      "\n",
      "\t\tUnique argument1: 1107\n",
      "\t\tUnique argument2: 1105\n",
      "\t\tUnique total arguments: 1303 \n",
      "\n",
      "\t\t False :  11543  instances\n",
      "\t\t True :  14593  instances\n",
      "gay marriage :  16166  instances\n",
      "\n",
      "\t\tUnique argument1: 630\n",
      "\t\tUnique argument2: 645\n",
      "\t\tUnique total arguments: 742 \n",
      "\n",
      "\t\t False :  5841  instances\n",
      "\t\t True :  10325  instances\n",
      "\n",
      "\n",
      "For each class value:\n",
      "False :  17384  instances\n",
      "\t\tUnique argument1: 1629\n",
      "\t\tUnique argument2: 1611\n",
      "\t\tUnique total arguments: 1999 \n",
      "\n",
      "True :  24918  instances\n",
      "\t\tUnique argument1: 1462\n",
      "\t\tUnique argument2: 1456\n",
      "\t\tUnique total arguments: 1907 \n",
      "\n",
      "\n",
      "\n",
      "Unique argument1: 1735\n",
      "Unique argument2: 1747\n",
      "Unique total arguments: 2042 \n",
      "\n",
      "---------------------------------------- \n",
      "\n",
      "Words:\n",
      "\tshortest argument: 4  words\n",
      "\tlongest argument: 2540  words\n",
      "\targument average length: 97.98490615100941  words\n",
      "Sentences:\n",
      "\tshortest argument: 1  sentences\n",
      "\tlongest argument: 145  sentences\n",
      "\targument average length: 4.172391376294265  sentences\n",
      "Task:  cluster distinct dev\n",
      "======================================== \n",
      "\n",
      "Total instances:  21601\n",
      "\n",
      "\n",
      "For each topic:\n",
      "abortion :  14704  instances\n",
      "\n",
      "\t\tUnique argument1: 6000\n",
      "\t\tUnique argument2: 5963\n",
      "\t\tUnique total arguments: 7889 \n",
      "\n",
      "\t\t False :  8463  instances\n",
      "\t\t True :  6241  instances\n",
      "gay marriage :  6897  instances\n",
      "\n",
      "\t\tUnique argument1: 2776\n",
      "\t\tUnique argument2: 2747\n",
      "\t\tUnique total arguments: 3649 \n",
      "\n",
      "\t\t False :  3945  instances\n",
      "\t\t True :  2952  instances\n",
      "\n",
      "\n",
      "For each class value:\n",
      "False :  12408  instances\n",
      "\t\tUnique argument1: 7816\n",
      "\t\tUnique argument2: 7516\n",
      "\t\tUnique total arguments: 10939 \n",
      "\n",
      "True :  9193  instances\n",
      "\t\tUnique argument1: 6198\n",
      "\t\tUnique argument2: 6189\n",
      "\t\tUnique total arguments: 9984 \n",
      "\n",
      "\n",
      "\n",
      "Unique argument1: 8773\n",
      "Unique argument2: 8706\n",
      "Unique total arguments: 11532 \n",
      "\n",
      "---------------------------------------- \n",
      "\n",
      "Words:\n",
      "\tshortest argument: 3  words\n",
      "\tlongest argument: 2964  words\n",
      "\targument average length: 505.34639600018517  words\n",
      "Sentences:\n",
      "\tshortest argument: 1  sentences\n",
      "\tlongest argument: 151  sentences\n",
      "\targument average length: 20.889356974214156  sentences\n"
     ]
    }
   ],
   "source": [
    "get_overview(within_train_df, task=\"cluster distinct train\")\n",
    "get_overview(within_dev_df, task=\"cluster distinct dev\")"
   ]
  },
  {
   "cell_type": "code",
   "execution_count": 53,
   "metadata": {
    "ExecuteTime": {
     "end_time": "2019-12-08T21:16:58.506751Z",
     "start_time": "2019-12-08T21:16:58.438765Z"
    }
   },
   "outputs": [
    {
     "data": {
      "text/html": [
       "<div>\n",
       "<style scoped>\n",
       "    .dataframe tbody tr th:only-of-type {\n",
       "        vertical-align: middle;\n",
       "    }\n",
       "\n",
       "    .dataframe tbody tr th {\n",
       "        vertical-align: top;\n",
       "    }\n",
       "\n",
       "    .dataframe thead th {\n",
       "        text-align: right;\n",
       "    }\n",
       "</style>\n",
       "<table border=\"1\" class=\"dataframe\">\n",
       "  <thead>\n",
       "    <tr style=\"text-align: right;\">\n",
       "      <th></th>\n",
       "      <th>argument1_len</th>\n",
       "      <th>argument2_len</th>\n",
       "      <th>argument12_len_sum</th>\n",
       "      <th>argument12_len_sum_half</th>\n",
       "      <th>argument12_len_diff</th>\n",
       "      <th>argument12_len_diff_abs</th>\n",
       "      <th>argument1_sent_num</th>\n",
       "      <th>argument2_sent_num</th>\n",
       "      <th>argument12_sent_num_sum</th>\n",
       "      <th>argument12_sent_num_sum_half</th>\n",
       "      <th>argument12_sent_num_diff</th>\n",
       "      <th>argument12_sent_num_diff_abs</th>\n",
       "    </tr>\n",
       "  </thead>\n",
       "  <tbody>\n",
       "    <tr>\n",
       "      <th>count</th>\n",
       "      <td>42302.000000</td>\n",
       "      <td>42302.000000</td>\n",
       "      <td>42302.000000</td>\n",
       "      <td>42302.000000</td>\n",
       "      <td>42302.000000</td>\n",
       "      <td>42302.000000</td>\n",
       "      <td>42302.000000</td>\n",
       "      <td>42302.000000</td>\n",
       "      <td>42302.000000</td>\n",
       "      <td>42302.000000</td>\n",
       "      <td>42302.000000</td>\n",
       "      <td>42302.000000</td>\n",
       "    </tr>\n",
       "    <tr>\n",
       "      <th>mean</th>\n",
       "      <td>104.872914</td>\n",
       "      <td>91.096898</td>\n",
       "      <td>195.969812</td>\n",
       "      <td>97.984906</td>\n",
       "      <td>13.776015</td>\n",
       "      <td>89.326769</td>\n",
       "      <td>4.377405</td>\n",
       "      <td>3.967377</td>\n",
       "      <td>8.344783</td>\n",
       "      <td>4.172391</td>\n",
       "      <td>0.410028</td>\n",
       "      <td>3.387618</td>\n",
       "    </tr>\n",
       "    <tr>\n",
       "      <th>std</th>\n",
       "      <td>226.107466</td>\n",
       "      <td>207.270436</td>\n",
       "      <td>393.111390</td>\n",
       "      <td>196.555695</td>\n",
       "      <td>183.397587</td>\n",
       "      <td>160.763795</td>\n",
       "      <td>8.400407</td>\n",
       "      <td>7.779184</td>\n",
       "      <td>14.585351</td>\n",
       "      <td>7.292676</td>\n",
       "      <td>7.030833</td>\n",
       "      <td>6.174505</td>\n",
       "    </tr>\n",
       "    <tr>\n",
       "      <th>min</th>\n",
       "      <td>4.000000</td>\n",
       "      <td>4.000000</td>\n",
       "      <td>9.000000</td>\n",
       "      <td>4.500000</td>\n",
       "      <td>-2274.000000</td>\n",
       "      <td>0.000000</td>\n",
       "      <td>1.000000</td>\n",
       "      <td>1.000000</td>\n",
       "      <td>2.000000</td>\n",
       "      <td>1.000000</td>\n",
       "      <td>-98.000000</td>\n",
       "      <td>0.000000</td>\n",
       "    </tr>\n",
       "    <tr>\n",
       "      <th>25%</th>\n",
       "      <td>12.000000</td>\n",
       "      <td>12.000000</td>\n",
       "      <td>50.000000</td>\n",
       "      <td>25.000000</td>\n",
       "      <td>-45.000000</td>\n",
       "      <td>9.000000</td>\n",
       "      <td>1.000000</td>\n",
       "      <td>1.000000</td>\n",
       "      <td>3.000000</td>\n",
       "      <td>1.500000</td>\n",
       "      <td>-2.000000</td>\n",
       "      <td>0.000000</td>\n",
       "    </tr>\n",
       "    <tr>\n",
       "      <th>50%</th>\n",
       "      <td>53.000000</td>\n",
       "      <td>30.000000</td>\n",
       "      <td>113.000000</td>\n",
       "      <td>56.500000</td>\n",
       "      <td>1.000000</td>\n",
       "      <td>55.000000</td>\n",
       "      <td>2.000000</td>\n",
       "      <td>1.000000</td>\n",
       "      <td>5.000000</td>\n",
       "      <td>2.500000</td>\n",
       "      <td>0.000000</td>\n",
       "      <td>2.000000</td>\n",
       "    </tr>\n",
       "    <tr>\n",
       "      <th>75%</th>\n",
       "      <td>112.000000</td>\n",
       "      <td>100.000000</td>\n",
       "      <td>188.000000</td>\n",
       "      <td>94.000000</td>\n",
       "      <td>64.000000</td>\n",
       "      <td>103.000000</td>\n",
       "      <td>5.000000</td>\n",
       "      <td>5.000000</td>\n",
       "      <td>8.000000</td>\n",
       "      <td>4.000000</td>\n",
       "      <td>2.000000</td>\n",
       "      <td>4.000000</td>\n",
       "    </tr>\n",
       "    <tr>\n",
       "      <th>max</th>\n",
       "      <td>2341.000000</td>\n",
       "      <td>2540.000000</td>\n",
       "      <td>4579.000000</td>\n",
       "      <td>2289.500000</td>\n",
       "      <td>2277.000000</td>\n",
       "      <td>2277.000000</td>\n",
       "      <td>145.000000</td>\n",
       "      <td>145.000000</td>\n",
       "      <td>285.000000</td>\n",
       "      <td>142.500000</td>\n",
       "      <td>124.000000</td>\n",
       "      <td>124.000000</td>\n",
       "    </tr>\n",
       "  </tbody>\n",
       "</table>\n",
       "</div>"
      ],
      "text/plain": [
       "       argument1_len  argument2_len  argument12_len_sum  \\\n",
       "count   42302.000000   42302.000000        42302.000000   \n",
       "mean      104.872914      91.096898          195.969812   \n",
       "std       226.107466     207.270436          393.111390   \n",
       "min         4.000000       4.000000            9.000000   \n",
       "25%        12.000000      12.000000           50.000000   \n",
       "50%        53.000000      30.000000          113.000000   \n",
       "75%       112.000000     100.000000          188.000000   \n",
       "max      2341.000000    2540.000000         4579.000000   \n",
       "\n",
       "       argument12_len_sum_half  argument12_len_diff  argument12_len_diff_abs  \\\n",
       "count             42302.000000         42302.000000             42302.000000   \n",
       "mean                 97.984906            13.776015                89.326769   \n",
       "std                 196.555695           183.397587               160.763795   \n",
       "min                   4.500000         -2274.000000                 0.000000   \n",
       "25%                  25.000000           -45.000000                 9.000000   \n",
       "50%                  56.500000             1.000000                55.000000   \n",
       "75%                  94.000000            64.000000               103.000000   \n",
       "max                2289.500000          2277.000000              2277.000000   \n",
       "\n",
       "       argument1_sent_num  argument2_sent_num  argument12_sent_num_sum  \\\n",
       "count        42302.000000        42302.000000             42302.000000   \n",
       "mean             4.377405            3.967377                 8.344783   \n",
       "std              8.400407            7.779184                14.585351   \n",
       "min              1.000000            1.000000                 2.000000   \n",
       "25%              1.000000            1.000000                 3.000000   \n",
       "50%              2.000000            1.000000                 5.000000   \n",
       "75%              5.000000            5.000000                 8.000000   \n",
       "max            145.000000          145.000000               285.000000   \n",
       "\n",
       "       argument12_sent_num_sum_half  argument12_sent_num_diff  \\\n",
       "count                  42302.000000              42302.000000   \n",
       "mean                       4.172391                  0.410028   \n",
       "std                        7.292676                  7.030833   \n",
       "min                        1.000000                -98.000000   \n",
       "25%                        1.500000                 -2.000000   \n",
       "50%                        2.500000                  0.000000   \n",
       "75%                        4.000000                  2.000000   \n",
       "max                      142.500000                124.000000   \n",
       "\n",
       "       argument12_sent_num_diff_abs  \n",
       "count                  42302.000000  \n",
       "mean                       3.387618  \n",
       "std                        6.174505  \n",
       "min                        0.000000  \n",
       "25%                        0.000000  \n",
       "50%                        2.000000  \n",
       "75%                        4.000000  \n",
       "max                      124.000000  "
      ]
     },
     "execution_count": 53,
     "metadata": {},
     "output_type": "execute_result"
    }
   ],
   "source": [
    "within_train_df.describe()"
   ]
  },
  {
   "cell_type": "code",
   "execution_count": 55,
   "metadata": {
    "ExecuteTime": {
     "end_time": "2019-12-08T21:17:48.729596Z",
     "start_time": "2019-12-08T21:17:48.672039Z"
    }
   },
   "outputs": [
    {
     "data": {
      "text/html": [
       "<div>\n",
       "<style scoped>\n",
       "    .dataframe tbody tr th:only-of-type {\n",
       "        vertical-align: middle;\n",
       "    }\n",
       "\n",
       "    .dataframe tbody tr th {\n",
       "        vertical-align: top;\n",
       "    }\n",
       "\n",
       "    .dataframe thead th {\n",
       "        text-align: right;\n",
       "    }\n",
       "</style>\n",
       "<table border=\"1\" class=\"dataframe\">\n",
       "  <thead>\n",
       "    <tr style=\"text-align: right;\">\n",
       "      <th></th>\n",
       "      <th>argument1_len</th>\n",
       "      <th>argument2_len</th>\n",
       "      <th>argument12_len_sum</th>\n",
       "      <th>argument12_len_sum_half</th>\n",
       "      <th>argument12_len_diff</th>\n",
       "      <th>argument12_len_diff_abs</th>\n",
       "      <th>argument1_sent_num</th>\n",
       "      <th>argument2_sent_num</th>\n",
       "      <th>argument12_sent_num_sum</th>\n",
       "      <th>argument12_sent_num_sum_half</th>\n",
       "      <th>argument12_sent_num_diff</th>\n",
       "      <th>argument12_sent_num_diff_abs</th>\n",
       "    </tr>\n",
       "  </thead>\n",
       "  <tbody>\n",
       "    <tr>\n",
       "      <th>count</th>\n",
       "      <td>21601.000000</td>\n",
       "      <td>21601.000000</td>\n",
       "      <td>21601.000000</td>\n",
       "      <td>21601.000000</td>\n",
       "      <td>21601.000000</td>\n",
       "      <td>21601.000000</td>\n",
       "      <td>21601.000000</td>\n",
       "      <td>21601.000000</td>\n",
       "      <td>21601.000000</td>\n",
       "      <td>21601.000000</td>\n",
       "      <td>21601.000000</td>\n",
       "      <td>21601.000000</td>\n",
       "    </tr>\n",
       "    <tr>\n",
       "      <th>mean</th>\n",
       "      <td>540.685200</td>\n",
       "      <td>470.007592</td>\n",
       "      <td>1010.692792</td>\n",
       "      <td>505.346396</td>\n",
       "      <td>70.677608</td>\n",
       "      <td>390.052544</td>\n",
       "      <td>22.372668</td>\n",
       "      <td>19.406046</td>\n",
       "      <td>41.778714</td>\n",
       "      <td>20.889357</td>\n",
       "      <td>2.966622</td>\n",
       "      <td>16.317670</td>\n",
       "    </tr>\n",
       "    <tr>\n",
       "      <th>std</th>\n",
       "      <td>556.501512</td>\n",
       "      <td>529.055808</td>\n",
       "      <td>914.000069</td>\n",
       "      <td>457.000035</td>\n",
       "      <td>586.337646</td>\n",
       "      <td>443.440368</td>\n",
       "      <td>22.918281</td>\n",
       "      <td>21.527845</td>\n",
       "      <td>37.250610</td>\n",
       "      <td>18.625305</td>\n",
       "      <td>24.285458</td>\n",
       "      <td>18.229263</td>\n",
       "    </tr>\n",
       "    <tr>\n",
       "      <th>min</th>\n",
       "      <td>3.000000</td>\n",
       "      <td>4.000000</td>\n",
       "      <td>8.000000</td>\n",
       "      <td>4.000000</td>\n",
       "      <td>-2837.000000</td>\n",
       "      <td>0.000000</td>\n",
       "      <td>1.000000</td>\n",
       "      <td>1.000000</td>\n",
       "      <td>2.000000</td>\n",
       "      <td>1.000000</td>\n",
       "      <td>-143.000000</td>\n",
       "      <td>0.000000</td>\n",
       "    </tr>\n",
       "    <tr>\n",
       "      <th>25%</th>\n",
       "      <td>101.000000</td>\n",
       "      <td>81.000000</td>\n",
       "      <td>297.000000</td>\n",
       "      <td>148.500000</td>\n",
       "      <td>-142.000000</td>\n",
       "      <td>65.000000</td>\n",
       "      <td>5.000000</td>\n",
       "      <td>4.000000</td>\n",
       "      <td>13.000000</td>\n",
       "      <td>6.500000</td>\n",
       "      <td>-6.000000</td>\n",
       "      <td>3.000000</td>\n",
       "    </tr>\n",
       "    <tr>\n",
       "      <th>50%</th>\n",
       "      <td>323.000000</td>\n",
       "      <td>239.000000</td>\n",
       "      <td>708.000000</td>\n",
       "      <td>354.000000</td>\n",
       "      <td>22.000000</td>\n",
       "      <td>216.000000</td>\n",
       "      <td>14.000000</td>\n",
       "      <td>10.000000</td>\n",
       "      <td>30.000000</td>\n",
       "      <td>15.000000</td>\n",
       "      <td>1.000000</td>\n",
       "      <td>10.000000</td>\n",
       "    </tr>\n",
       "    <tr>\n",
       "      <th>75%</th>\n",
       "      <td>838.000000</td>\n",
       "      <td>674.000000</td>\n",
       "      <td>1507.000000</td>\n",
       "      <td>753.500000</td>\n",
       "      <td>296.000000</td>\n",
       "      <td>555.000000</td>\n",
       "      <td>33.000000</td>\n",
       "      <td>27.000000</td>\n",
       "      <td>60.000000</td>\n",
       "      <td>30.000000</td>\n",
       "      <td>13.000000</td>\n",
       "      <td>23.000000</td>\n",
       "    </tr>\n",
       "    <tr>\n",
       "      <th>max</th>\n",
       "      <td>2825.000000</td>\n",
       "      <td>2964.000000</td>\n",
       "      <td>4998.000000</td>\n",
       "      <td>2499.000000</td>\n",
       "      <td>2724.000000</td>\n",
       "      <td>2837.000000</td>\n",
       "      <td>151.000000</td>\n",
       "      <td>148.000000</td>\n",
       "      <td>292.000000</td>\n",
       "      <td>146.000000</td>\n",
       "      <td>129.000000</td>\n",
       "      <td>143.000000</td>\n",
       "    </tr>\n",
       "  </tbody>\n",
       "</table>\n",
       "</div>"
      ],
      "text/plain": [
       "       argument1_len  argument2_len  argument12_len_sum  \\\n",
       "count   21601.000000   21601.000000        21601.000000   \n",
       "mean      540.685200     470.007592         1010.692792   \n",
       "std       556.501512     529.055808          914.000069   \n",
       "min         3.000000       4.000000            8.000000   \n",
       "25%       101.000000      81.000000          297.000000   \n",
       "50%       323.000000     239.000000          708.000000   \n",
       "75%       838.000000     674.000000         1507.000000   \n",
       "max      2825.000000    2964.000000         4998.000000   \n",
       "\n",
       "       argument12_len_sum_half  argument12_len_diff  argument12_len_diff_abs  \\\n",
       "count             21601.000000         21601.000000             21601.000000   \n",
       "mean                505.346396            70.677608               390.052544   \n",
       "std                 457.000035           586.337646               443.440368   \n",
       "min                   4.000000         -2837.000000                 0.000000   \n",
       "25%                 148.500000          -142.000000                65.000000   \n",
       "50%                 354.000000            22.000000               216.000000   \n",
       "75%                 753.500000           296.000000               555.000000   \n",
       "max                2499.000000          2724.000000              2837.000000   \n",
       "\n",
       "       argument1_sent_num  argument2_sent_num  argument12_sent_num_sum  \\\n",
       "count        21601.000000        21601.000000             21601.000000   \n",
       "mean            22.372668           19.406046                41.778714   \n",
       "std             22.918281           21.527845                37.250610   \n",
       "min              1.000000            1.000000                 2.000000   \n",
       "25%              5.000000            4.000000                13.000000   \n",
       "50%             14.000000           10.000000                30.000000   \n",
       "75%             33.000000           27.000000                60.000000   \n",
       "max            151.000000          148.000000               292.000000   \n",
       "\n",
       "       argument12_sent_num_sum_half  argument12_sent_num_diff  \\\n",
       "count                  21601.000000              21601.000000   \n",
       "mean                      20.889357                  2.966622   \n",
       "std                       18.625305                 24.285458   \n",
       "min                        1.000000               -143.000000   \n",
       "25%                        6.500000                 -6.000000   \n",
       "50%                       15.000000                  1.000000   \n",
       "75%                       30.000000                 13.000000   \n",
       "max                      146.000000                129.000000   \n",
       "\n",
       "       argument12_sent_num_diff_abs  \n",
       "count                  21601.000000  \n",
       "mean                      16.317670  \n",
       "std                       18.229263  \n",
       "min                        0.000000  \n",
       "25%                        3.000000  \n",
       "50%                       10.000000  \n",
       "75%                       23.000000  \n",
       "max                      143.000000  "
      ]
     },
     "execution_count": 55,
     "metadata": {},
     "output_type": "execute_result"
    }
   ],
   "source": [
    "within_dev_df.describe()"
   ]
  },
  {
   "cell_type": "markdown",
   "metadata": {},
   "source": [
    "---"
   ]
  },
  {
   "cell_type": "markdown",
   "metadata": {},
   "source": [
    "### (C.1) Within Pro 128 BCE"
   ]
  },
  {
   "cell_type": "code",
   "execution_count": null,
   "metadata": {
    "code_folding": [
     0,
     3,
     6,
     12,
     15
    ]
   },
   "outputs": [],
   "source": [
    "with Timer(\"1 - load within test/train\"):\n",
    "    X_train, X_dev, y_train, y_dev = get_train_test_sets(within_traindev_df, ratio=0.1)\n",
    "\n",
    "with Timer(\"2 - setup BERT model\"):\n",
    "    model, vocabulary, ctx, tokenizer, transform, loss_function, metric, all_labels = setup_bert_pro128bce()\n",
    "\n",
    "with Timer(\"3 - prepare training data\"):\n",
    "    data_train_raw, data_train = transform_dataset(X_train, y_train, transform)\n",
    "\n",
    "run_name = \"within_traindev_pro128_BCE\"\n",
    "! mkdir data/within_traindev_pro128_BCE\n",
    "\n",
    "with Timer(\"5 - prepare eval data\"):\n",
    "    data_dev_raw, data_dev = transform_dataset(X_dev, y_dev, transform)\n",
    "\n",
    "for epoch_id in range(5):\n",
    "    with Timer(\"4 - train model - {}\".format(epoch_id)), SummaryWriter(logdir=\"data/\" + run_name, flush_secs=60) as sw:\n",
    "        stats = train(model, data_train, ctx, metric, loss_function, batch_size=32, lr=5e-6, num_epochs=epoch_id + 1, sw=sw, checkpoint_dir=\"data/\" + run_name)\n",
    "        plot_train_stats(stats)\n",
    "\n",
    "    with Timer(\"6 - evaluate - {}\".format(epoch_id)), SummaryWriter(logdir=\"data/\" + run_name, flush_secs=60) as sw:\n",
    "        all_predictions, cum_loss = predict(model, data_dev, ctx, metric, loss_function, batch_size=32, sw=sw)\n",
    "        print(\"Accuracy in epoch {}:\".format(epoch_id), metric.get()[1])\n",
    "\n",
    "        y_true, y_pred = predict_out_to_ys(all_predictions, all_labels)\n",
    "        report_training_results(y_true, y_pred, name=\"BERTClassifier - within BCE 128 prolog\", heatmap=False)\n",
    "\n",
    "    model.save_parameters(\"data/\" + run_name + \"/bert.model.params\")"
   ]
  },
  {
   "cell_type": "code",
   "execution_count": null,
   "metadata": {
    "code_folding": [
     2,
     5,
     8,
     11
    ]
   },
   "outputs": [],
   "source": [
    "run_name = \"within_traindev_pro128_BCE\"\n",
    "\n",
    "with Timer(\"1 - load within test/train\"):\n",
    "    X_train, X_dev, y_train, y_dev = get_train_test_sets(within_traindev_df, ratio=0.1)\n",
    "\n",
    "with Timer(\"2 - setup BERT model\"):\n",
    "    model, vocabulary, ctx, tokenizer, transform, loss_function, metric, all_labels = setup_bert_pro128bce()\n",
    "\n",
    "with Timer(\"5 - prepare eval data\"):\n",
    "    data_dev_raw, data_dev = transform_dataset(X_dev, y_dev, transform)\n",
    "\n",
    "with Timer(\"6 - evaluate\"), SummaryWriter(logdir=\"data/\" + run_name, flush_secs=60) as sw:\n",
    "    model.load_parameters(\"data/\" + run_name + \"/bert.model.checkpoint4.params\", ctx=ctx)\n",
    "    all_predictions, cum_loss = predict(model, data_dev, ctx, metric, loss_function, batch_size=32, sw=sw)\n",
    "    print(\"Accuracy in epoch 5:\", metric.get()[1])\n",
    "\n",
    "    y_true, y_pred = predict_out_to_ys(all_predictions, all_labels)\n",
    "    report_training_results(y_true, y_pred, name=\"BERTClassifier - within BCE 128 prolog\", heatmap=False)"
   ]
  },
  {
   "cell_type": "markdown",
   "metadata": {},
   "source": [
    "```\n",
    "Time for [prediction]: 0:01:02.161065\n",
    "Accuracy in epoch 2: 0.8490064152714755\n",
    "Confusion Matrix:\n",
    "[[2669  290]\n",
    " [ 675 2757]]\n",
    "\n",
    "Accuracy:  0.85 \n",
    "\n",
    "Report for [BERTClassifier - within 0.1 BCE 128 prolog (3 epochs)]:\n",
    "              precision    recall  f1-score   support\n",
    "\n",
    "           0       0.80      0.90      0.85      2959\n",
    "           1       0.90      0.80      0.85      3432\n",
    "\n",
    "    accuracy                           0.85      6391\n",
    "   macro avg       0.85      0.85      0.85      6391\n",
    "weighted avg       0.86      0.85      0.85      6391\n",
    "\n",
    "Time for [6 - evaluate - 2]: 0:01:02.227211\n",
    "```"
   ]
  },
  {
   "cell_type": "markdown",
   "metadata": {},
   "source": [
    "```\n",
    "Time for [prediction]: 0:00:59.388592\n",
    "Accuracy in epoch 5: 0.8662181192301674\n",
    "Confusion Matrix:\n",
    "[[2587  372]\n",
    " [ 483 2949]]\n",
    "\n",
    "  accuracy: 0.866\n",
    " precision: 0.888\n",
    "    recall: 0.859\n",
    "  f1-score: 0.873\n",
    "\n",
    "Accuracy:  0.87 \n",
    "\n",
    "Report for [BERTClassifier - within BCE 128 prolog (5 epochs)]:\n",
    "              precision    recall  f1-score   support\n",
    "\n",
    "           0       0.84      0.87      0.86      2959\n",
    "           1       0.89      0.86      0.87      3432\n",
    "\n",
    "    accuracy                           0.87      6391\n",
    "   macro avg       0.87      0.87      0.87      6391\n",
    "weighted avg       0.87      0.87      0.87      6391\n",
    "\n",
    "Time for [6 - evaluate]: 0:00:59.567344\n",
    "```"
   ]
  },
  {
   "cell_type": "markdown",
   "metadata": {},
   "source": [
    "### (C.2) Cross Pro 128 BCE"
   ]
  },
  {
   "cell_type": "code",
   "execution_count": null,
   "metadata": {
    "code_folding": [
     0,
     3,
     6,
     12,
     15
    ]
   },
   "outputs": [],
   "source": [
    "with Timer(\"1 - load cross test/train\"):\n",
    "    X_train, X_dev, y_train, y_dev = get_train_test_sets(cross_traindev_df, ratio=0.1)\n",
    "\n",
    "with Timer(\"2 - setup BERT model\"):\n",
    "    model, vocabulary, ctx, tokenizer, transform, loss_function, metric, all_labels = setup_bert_pro128bce()\n",
    "\n",
    "with Timer(\"3 - prepare training data\"):\n",
    "    data_train_raw, data_train = transform_dataset(X_train, y_train, transform)\n",
    "\n",
    "run_name = \"cross_traindev_pro128_BCE\"\n",
    "! mkdir data/cross_traindev_pro128_BCE\n",
    "\n",
    "with Timer(\"5 - prepare eval data\"):\n",
    "    data_dev_raw, data_dev = transform_dataset(X_dev, y_dev, transform)\n",
    "\n",
    "for epoch_id in range(5):\n",
    "    with Timer(\"4 - train model - {}\".format(epoch_id)), SummaryWriter(logdir=\"data/\" + run_name, flush_secs=60) as sw:\n",
    "        stats = train(model, data_train, ctx, metric, loss_function, batch_size=32, lr=5e-6, num_epochs=epoch_id + 1, sw=sw, checkpoint_dir=\"data/\" + run_name)\n",
    "        plot_train_stats(stats)\n",
    "\n",
    "    with Timer(\"6 - evaluate - {}\".format(epoch_id)), SummaryWriter(logdir=\"data/\" + run_name, flush_secs=60) as sw:\n",
    "        all_predictions, cum_loss = predict(model, data_dev, ctx, metric, loss_function, batch_size=32, sw=sw)\n",
    "        print(\"Accuracy in epoch {}:\".format(epoch_id), metric.get()[1])\n",
    "\n",
    "        y_true, y_pred = predict_out_to_ys(all_predictions, all_labels)\n",
    "        report_training_results(y_true, y_pred, name=\"BERTClassifier - cross BCE 128 prolog\", heatmap=False)\n",
    "\n",
    "    model.save_parameters(\"data/\" + run_name + \"/bert.model.params\")"
   ]
  },
  {
   "cell_type": "code",
   "execution_count": null,
   "metadata": {
    "code_folding": [
     2,
     5,
     8,
     11
    ]
   },
   "outputs": [],
   "source": [
    "run_name = \"cross_traindev_pro128_BCE\"\n",
    "\n",
    "with Timer(\"1 - load cross test/train\"):\n",
    "    X_train, X_dev, y_train, y_dev = get_train_test_sets(cross_traindev_df, ratio=0.1)\n",
    "\n",
    "with Timer(\"2 - setup BERT model\"):\n",
    "    model, vocabulary, ctx, tokenizer, transform, loss_function, metric, all_labels = setup_bert_pro128bce()\n",
    "\n",
    "with Timer(\"5 - prepare eval data\"):\n",
    "    data_dev_raw, data_dev = transform_dataset(X_dev, y_dev, transform)\n",
    "\n",
    "with Timer(\"6 - evaluate\"), SummaryWriter(logdir=\"data/\" + run_name, flush_secs=60) as sw:\n",
    "    # model.load_parameters(\"data/\" + run_name + \"/bert.model.params\", ctx=ctx)\n",
    "    model.load_parameters(\"data/\" + run_name + \"/bert.model.checkpoint4.params\", ctx=ctx)\n",
    "    all_predictions, cum_loss = predict(model, data_dev, ctx, metric, loss_function, batch_size=32, sw=sw)\n",
    "    print(\"Accuracy in epoch 5:\", metric.get()[1])\n",
    "\n",
    "    y_true, y_pred = predict_out_to_ys(all_predictions, all_labels)\n",
    "    report_training_results(y_true, y_pred, name=\"BERTClassifier - cross BCE 128 prolog\", heatmap=False)"
   ]
  },
  {
   "cell_type": "markdown",
   "metadata": {},
   "source": [
    "```\n",
    "Time for [prediction]: 0:00:58.160635\n",
    "Accuracy in epoch 4: 0.8014742014742015\n",
    "Confusion Matrix:\n",
    "[[2606  418]\n",
    " [ 794 2287]]\n",
    "\n",
    "Accuracy:  0.8 \n",
    "\n",
    "Report for [BERTClassifier - cross BCE 128 prolog (3 epochs)]:\n",
    "              precision    recall  f1-score   support\n",
    "\n",
    "           0       0.77      0.86      0.81      3024\n",
    "           1       0.85      0.74      0.79      3081\n",
    "\n",
    "    accuracy                           0.80      6105\n",
    "   macro avg       0.81      0.80      0.80      6105\n",
    "weighted avg       0.81      0.80      0.80      6105\n",
    "\n",
    "Time for [6 - evaluate - 4]: 0:00:58.344300\n",
    "```"
   ]
  },
  {
   "cell_type": "markdown",
   "metadata": {},
   "source": [
    "```\n",
    "Time for [prediction]: 0:00:59.223507\n",
    "Accuracy in epoch 4: 0.8134316134316134\n",
    "Confusion Matrix:\n",
    "[[2439  585]\n",
    " [ 554 2527]]\n",
    "\n",
    "  accuracy: 0.813\n",
    " precision: 0.812\n",
    "    recall: 0.820\n",
    "  f1-score: 0.816\n",
    "\n",
    "Accuracy:  0.81 \n",
    "\n",
    "Report for [BERTClassifier - cross BCE 128 prolog (5 epochs)]:\n",
    "              precision    recall  f1-score   support\n",
    "\n",
    "           0       0.81      0.81      0.81      3024\n",
    "           1       0.81      0.82      0.82      3081\n",
    "\n",
    "    accuracy                           0.81      6105\n",
    "   macro avg       0.81      0.81      0.81      6105\n",
    "weighted avg       0.81      0.81      0.81      6105\n",
    "\n",
    "Time for [6 - evaluate - 4]: 0:00:59.415538\n",
    "```"
   ]
  },
  {
   "cell_type": "markdown",
   "metadata": {},
   "source": [
    "### (C.3) Within Epi 128 BCE"
   ]
  },
  {
   "cell_type": "code",
   "execution_count": null,
   "metadata": {
    "code_folding": [
     0,
     3,
     6,
     12,
     15
    ]
   },
   "outputs": [],
   "source": [
    "with Timer(\"1 - load within test/train\"):\n",
    "    X_train, X_dev, y_train, y_dev = get_train_test_sets(within_traindev_df, ratio=0.1)\n",
    "\n",
    "with Timer(\"2 - setup BERT model\"):\n",
    "    model, vocabulary, ctx, tokenizer, transform, loss_function, metric, all_labels = setup_bert_epi128bce()\n",
    "\n",
    "with Timer(\"3 - prepare training data\"):\n",
    "    data_train_raw, data_train = transform_dataset(X_train, y_train, transform)\n",
    "\n",
    "run_name = \"within_traindev_epi128_BCE\"\n",
    "! mkdir data/within_traindev_epi128_BCE\n",
    "\n",
    "with Timer(\"5 - prepare eval data\"):\n",
    "    data_dev_raw, data_dev = transform_dataset(X_dev, y_dev, transform)\n",
    "\n",
    "for epoch_id in range(5):\n",
    "    with Timer(\"4 - train model - {}\".format(epoch_id)), SummaryWriter(logdir=\"data/\" + run_name, flush_secs=60) as sw:\n",
    "        stats = train(model, data_train, ctx, metric, loss_function, batch_size=32, lr=5e-6, num_epochs=epoch_id + 1, sw=sw, checkpoint_dir=\"data/\" + run_name)\n",
    "        plot_train_stats(stats)\n",
    "\n",
    "    with Timer(\"6 - evaluate - {}\".format(epoch_id)), SummaryWriter(logdir=\"data/\" + run_name, flush_secs=60) as sw:\n",
    "        all_predictions, cum_loss = predict(model, data_dev, ctx, metric, loss_function, batch_size=32, sw=sw)\n",
    "        print(\"Accuracy in epoch {}:\".format(epoch_id), metric.get()[1])\n",
    "\n",
    "        y_true, y_pred = predict_out_to_ys(all_predictions, all_labels)\n",
    "        report_training_results(y_true, y_pred, name=\"BERTClassifier - within BCE 128 epilog\", heatmap=False)\n",
    "\n",
    "    model.save_parameters(\"data/\" + run_name + \"/bert.model.params\")"
   ]
  },
  {
   "cell_type": "code",
   "execution_count": null,
   "metadata": {
    "code_folding": [
     2,
     5,
     8,
     11
    ]
   },
   "outputs": [],
   "source": [
    "run_name = \"within_traindev_epi128_BCE\"\n",
    "\n",
    "with Timer(\"1 - load within test/train\"):\n",
    "    X_train, X_dev, y_train, y_dev = get_train_test_sets(within_traindev_df, ratio=0.1)\n",
    "\n",
    "with Timer(\"2 - setup BERT model\"):\n",
    "    model, vocabulary, ctx, tokenizer, transform, loss_function, metric, all_labels = setup_bert_epi128bce()\n",
    "\n",
    "with Timer(\"5 - prepare eval data\"):\n",
    "    data_dev_raw, data_dev = transform_dataset(X_dev, y_dev, transform)\n",
    "\n",
    "with Timer(\"6 - evaluate\"), SummaryWriter(logdir=\"data/\" + run_name, flush_secs=60) as sw:\n",
    "    # model.load_parameters(\"data/\" + run_name + \"/bert.model.params\", ctx=ctx)\n",
    "    model.load_parameters(\"data/\" + run_name + \"/bert.model.checkpoint4.params\", ctx=ctx)\n",
    "    all_predictions, cum_loss = predict(model, data_dev, ctx, metric, loss_function, batch_size=32, sw=sw)\n",
    "    print(\"Accuracy in epoch 5:\", metric.get()[1])\n",
    "\n",
    "    y_true, y_pred = predict_out_to_ys(all_predictions, all_labels)\n",
    "    report_training_results(y_true, y_pred, name=\"BERTClassifier - within BCE 128 epilog\", heatmap=False)"
   ]
  },
  {
   "cell_type": "markdown",
   "metadata": {},
   "source": [
    "```\n",
    "Time for [prediction]: 0:01:01.648894\n",
    "Accuracy in epoch 4: 0.8543263964950711\n",
    "Confusion Matrix:\n",
    "[[2603  356]\n",
    " [ 575 2857]]\n",
    "\n",
    "Accuracy:  0.85 \n",
    "\n",
    "Report for [BERTClassifier - within BCE 128 epilog (3 epochs)]:\n",
    "              precision    recall  f1-score   support\n",
    "\n",
    "           0       0.82      0.88      0.85      2959\n",
    "           1       0.89      0.83      0.86      3432\n",
    "\n",
    "    accuracy                           0.85      6391\n",
    "   macro avg       0.85      0.86      0.85      6391\n",
    "weighted avg       0.86      0.85      0.85      6391\n",
    "\n",
    "Time for [6 - evaluate - 4]: 0:01:01.835131\n",
    "```"
   ]
  },
  {
   "cell_type": "markdown",
   "metadata": {},
   "source": [
    "```\n",
    "Time for [prediction]: 0:00:59.473044\n",
    "Accuracy in epoch 5: 0.8709122203098106\n",
    "Confusion Matrix:\n",
    "[[2577  382]\n",
    " [ 443 2989]]\n",
    "\n",
    "  accuracy: 0.871\n",
    " precision: 0.887\n",
    "    recall: 0.871\n",
    "  f1-score: 0.879\n",
    "\n",
    "Accuracy:  0.87 \n",
    "\n",
    "Report for [BERTClassifier - within BCE 128 epilog (5 epochs)]:\n",
    "              precision    recall  f1-score   support\n",
    "\n",
    "           0       0.85      0.87      0.86      2959\n",
    "           1       0.89      0.87      0.88      3432\n",
    "\n",
    "    accuracy                           0.87      6391\n",
    "   macro avg       0.87      0.87      0.87      6391\n",
    "weighted avg       0.87      0.87      0.87      6391\n",
    "\n",
    "Time for [6 - evaluate]: 0:00:59.655873\n",
    "```"
   ]
  },
  {
   "cell_type": "markdown",
   "metadata": {},
   "source": [
    "### (C.4) Cross Epi 128 BCE"
   ]
  },
  {
   "cell_type": "code",
   "execution_count": null,
   "metadata": {
    "code_folding": [
     0,
     3,
     6,
     12,
     15
    ]
   },
   "outputs": [],
   "source": [
    "with Timer(\"1 - load cross test/train\"):\n",
    "    X_train, X_dev, y_train, y_dev = get_train_test_sets(cross_traindev_df, ratio=0.1)\n",
    "\n",
    "with Timer(\"2 - setup BERT model\"):\n",
    "    model, vocabulary, ctx, tokenizer, transform, loss_function, metric, all_labels = setup_bert_epi128bce()\n",
    "\n",
    "with Timer(\"3 - prepare training data\"):\n",
    "    data_train_raw, data_train = transform_dataset(X_train, y_train, transform)\n",
    "\n",
    "run_name = \"cross_traindev_epi128_BCE\"\n",
    "! mkdir data/cross_traindev_epi128_BCE\n",
    "\n",
    "with Timer(\"5 - prepare eval data\"):\n",
    "    data_dev_raw, data_dev = transform_dataset(X_dev, y_dev, transform)\n",
    "\n",
    "for epoch_id in range(5):\n",
    "    with Timer(\"4 - train model - {}\".format(epoch_id)), SummaryWriter(logdir=\"data/\" + run_name, flush_secs=60) as sw:\n",
    "        stats = train(model, data_train, ctx, metric, loss_function, batch_size=32, lr=5e-6, num_epochs=epoch_id + 1, sw=sw, checkpoint_dir=\"data/\" + run_name)\n",
    "        plot_train_stats(stats)\n",
    "\n",
    "    with Timer(\"6 - evaluate - {}\".format(epoch_id)), SummaryWriter(logdir=\"data/\" + run_name, flush_secs=60) as sw:\n",
    "        all_predictions, cum_loss = predict(model, data_dev, ctx, metric, loss_function, batch_size=32, sw=sw)\n",
    "        print(\"Accuracy in epoch {}:\".format(epoch_id), metric.get()[1])\n",
    "\n",
    "        y_true, y_pred = predict_out_to_ys(all_predictions, all_labels)\n",
    "        report_training_results(y_true, y_pred, name=\"BERTClassifier - cross BCE 128 epilog\", heatmap=False)\n",
    "\n",
    "    model.save_parameters(\"data/\" + run_name + \"/bert.model.params\")"
   ]
  },
  {
   "cell_type": "code",
   "execution_count": null,
   "metadata": {
    "code_folding": [
     2,
     5,
     8,
     11
    ]
   },
   "outputs": [],
   "source": [
    "run_name = \"cross_traindev_epi128_BCE\"\n",
    "\n",
    "with Timer(\"1 - load cross test/train\"):\n",
    "    X_train, X_dev, y_train, y_dev = get_train_test_sets(cross_traindev_df, ratio=0.1)\n",
    "\n",
    "with Timer(\"2 - setup BERT model\"):\n",
    "    model, vocabulary, ctx, tokenizer, transform, loss_function, metric, all_labels = setup_bert_epi128bce()\n",
    "\n",
    "with Timer(\"5 - prepare eval data\"):\n",
    "    data_dev_raw, data_dev = transform_dataset(X_dev, y_dev, transform)\n",
    "\n",
    "with Timer(\"6 - evaluate\"), SummaryWriter(logdir=\"data/\" + run_name, flush_secs=60) as sw:\n",
    "    # model.load_parameters(\"data/\" + run_name + \"/bert.model.params\", ctx=ctx)\n",
    "    model.load_parameters(\"data/\" + run_name + \"/bert.model.checkpoint4.params\", ctx=ctx)\n",
    "    all_predictions, cum_loss = predict(model, data_dev, ctx, metric, loss_function, batch_size=32, sw=sw)\n",
    "    print(\"Accuracy in epoch 5:\", metric.get()[1])\n",
    "\n",
    "    y_true, y_pred = predict_out_to_ys(all_predictions, all_labels)\n",
    "    report_training_results(y_true, y_pred, name=\"BERTClassifier - cross BCE 128 epilog\", heatmap=False)"
   ]
  },
  {
   "cell_type": "markdown",
   "metadata": {},
   "source": [
    "```\n",
    "Time for [prediction]: 0:01:02.160098\n",
    "Accuracy in epoch 2: 0.8610974610974611\n",
    "Confusion Matrix:\n",
    "[[2679  345]\n",
    " [ 503 2578]]\n",
    "\n",
    "Accuracy:  0.86 \n",
    "\n",
    "Report for [BERTClassifier - cross BCE 128 epilog (3 epochs)]:\n",
    "              precision    recall  f1-score   support\n",
    "\n",
    "           0       0.84      0.89      0.86      3024\n",
    "           1       0.88      0.84      0.86      3081\n",
    "\n",
    "    accuracy                           0.86      6105\n",
    "   macro avg       0.86      0.86      0.86      6105\n",
    "weighted avg       0.86      0.86      0.86      6105\n",
    "\n",
    "Time for [6 - evaluate - 4]: 0:01:02.347843\n",
    "```"
   ]
  },
  {
   "cell_type": "markdown",
   "metadata": {},
   "source": [
    "```\n",
    "Time for [prediction]: 0:00:59.955945\n",
    "Accuracy in epoch 5: 0.884029484029484\n",
    "Confusion Matrix:\n",
    "[[2652  372]\n",
    " [ 336 2745]]\n",
    "\n",
    "  accuracy: 0.884\n",
    " precision: 0.881\n",
    "    recall: 0.891\n",
    "  f1-score: 0.886\n",
    "\n",
    "Accuracy:  0.88 \n",
    "\n",
    "Report for [BERTClassifier - cross BCE 128 epilog (5 epochs)]:\n",
    "              precision    recall  f1-score   support\n",
    "\n",
    "           0       0.89      0.88      0.88      3024\n",
    "           1       0.88      0.89      0.89      3081\n",
    "\n",
    "    accuracy                           0.88      6105\n",
    "   macro avg       0.88      0.88      0.88      6105\n",
    "weighted avg       0.88      0.88      0.88      6105\n",
    "\n",
    "Time for [6 - evaluate]: 0:01:00.147448\n",
    "```"
   ]
  },
  {
   "cell_type": "code",
   "execution_count": null,
   "metadata": {},
   "outputs": [],
   "source": []
  },
  {
   "cell_type": "markdown",
   "metadata": {},
   "source": [
    "### (D.1) Within 512 Pro"
   ]
  },
  {
   "cell_type": "code",
   "execution_count": null,
   "metadata": {
    "code_folding": [
     0,
     3,
     6,
     12,
     15
    ],
    "run_control": {
     "marked": false
    }
   },
   "outputs": [],
   "source": [
    "with Timer(\"1 - load within test/train\"):\n",
    "    X_train, X_dev, y_train, y_dev = get_train_test_sets(within_traindev_df, ratio=0.1)\n",
    "\n",
    "with Timer(\"2 - setup BERT model\"):\n",
    "    model, vocabulary, ctx, tokenizer, transform, loss_function, metric, all_labels = setup_bert_pro512bce()\n",
    "\n",
    "with Timer(\"3 - prepare training data\"):\n",
    "    data_train_raw, data_train = transform_dataset(X_train, y_train, transform)\n",
    "\n",
    "run_name = \"within_traindev_pro512_BCE\"\n",
    "! mkdir data/within_traindev_pro512_BCE\n",
    "\n",
    "with Timer(\"5 - prepare eval data\"):\n",
    "    data_dev_raw, data_dev = transform_dataset(X_dev, y_dev, transform)\n",
    "\n",
    "for epoch_id in range(5):\n",
    "    with Timer(\"4 - train model - {}\".format(epoch_id)), SummaryWriter(logdir=\"data/\" + run_name, flush_secs=60) as sw:\n",
    "        stats = train(model, data_train, ctx, metric, loss_function, batch_size=6, lr=5e-6, num_epochs=epoch_id + 1, sw=sw, checkpoint_dir=\"data/\" + run_name)\n",
    "        plot_train_stats(stats)\n",
    "\n",
    "    with Timer(\"6 - evaluate - {}\".format(epoch_id)), SummaryWriter(logdir=\"data/\" + run_name, flush_secs=60) as sw:\n",
    "        all_predictions, cum_loss = predict(model, data_dev, ctx, metric, loss_function, batch_size=6, sw=sw)\n",
    "        print(\"Accuracy in epoch {}:\".format(epoch_id), metric.get()[1])\n",
    "\n",
    "        y_true, y_pred = predict_out_to_ys(all_predictions, all_labels)\n",
    "        report_training_results(y_true, y_pred, name=\"BERTClassifier - within BCE 512 prolog\", heatmap=False)\n",
    "\n",
    "    model.save_parameters(\"data/\" + run_name + \"/bert.model.params\")"
   ]
  },
  {
   "cell_type": "code",
   "execution_count": null,
   "metadata": {
    "code_folding": [
     2,
     5,
     8,
     11
    ]
   },
   "outputs": [],
   "source": [
    "run_name = \"within_traindev_pro512_BCE\"\n",
    "\n",
    "with Timer(\"1 - load within test/train\"):\n",
    "    X_train, X_dev, y_train, y_dev = get_train_test_sets(within_traindev_df, ratio=0.1)\n",
    "\n",
    "with Timer(\"2 - setup BERT model\"):\n",
    "    model, vocabulary, ctx, tokenizer, transform, loss_function, metric, all_labels = setup_bert_pro512bce()\n",
    "\n",
    "with Timer(\"5 - prepare eval data\"):\n",
    "    data_dev_raw, data_dev = transform_dataset(X_dev, y_dev, transform)\n",
    "\n",
    "with Timer(\"6 - evaluate\"), SummaryWriter(logdir=\"data/\" + run_name, flush_secs=60) as sw:\n",
    "    # model.load_parameters(\"data/\" + run_name + \"/bert.model.params\", ctx=ctx)\n",
    "    model.load_parameters(\"data/\" + run_name + \"/bert.model.checkpoint4.params\", ctx=ctx)\n",
    "    all_predictions, cum_loss = predict(model, data_dev, ctx, metric, loss_function, batch_size=32, sw=sw)\n",
    "    print(\"Accuracy in epoch 5:\", metric.get()[1])\n",
    "\n",
    "    y_true, y_pred = predict_out_to_ys(all_predictions, all_labels)\n",
    "    report_training_results(y_true, y_pred, name=\"BERTClassifier - within BCE 512 prolog (5 epochs)\", heatmap=False)"
   ]
  },
  {
   "cell_type": "markdown",
   "metadata": {},
   "source": [
    "```\n",
    "Time for [prediction]: 0:03:17.058585\n",
    "Accuracy in epoch 5: 0.9184791112501955\n",
    "Confusion Matrix:\n",
    "[[2736  223]\n",
    " [ 298 3134]]\n",
    "\n",
    "  accuracy: 0.918\n",
    " precision: 0.934\n",
    "    recall: 0.913\n",
    "  f1-score: 0.923\n",
    "\n",
    "Accuracy:  0.92 \n",
    "\n",
    "Report for [BERTClassifier - within BCE 512 prolog (5 epochs)]:\n",
    "              precision    recall  f1-score   support\n",
    "\n",
    "           0       0.90      0.92      0.91      2959\n",
    "           1       0.93      0.91      0.92      3432\n",
    "\n",
    "    accuracy                           0.92      6391\n",
    "   macro avg       0.92      0.92      0.92      6391\n",
    "weighted avg       0.92      0.92      0.92      6391\n",
    "\n",
    "Time for [6 - evaluate]: 0:03:17.400522\n",
    "```"
   ]
  },
  {
   "cell_type": "markdown",
   "metadata": {},
   "source": [
    "### (D.3) Within 512 Epi"
   ]
  },
  {
   "cell_type": "code",
   "execution_count": null,
   "metadata": {
    "code_folding": [
     0,
     3,
     6,
     12,
     15
    ],
    "run_control": {
     "marked": false
    }
   },
   "outputs": [],
   "source": [
    "with Timer(\"1 - load within test/train\"):\n",
    "    X_train, X_dev, y_train, y_dev = get_train_test_sets(within_traindev_df, ratio=0.1)\n",
    "\n",
    "with Timer(\"2 - setup BERT model\"):\n",
    "    model, vocabulary, ctx, tokenizer, transform, loss_function, metric, all_labels = setup_bert_epi512bce()\n",
    "\n",
    "with Timer(\"3 - prepare training data\"):\n",
    "    data_train_raw, data_train = transform_dataset(X_train, y_train, transform)\n",
    "\n",
    "run_name = \"within_traindev_epi512_BCE\"\n",
    "! mkdir data/within_traindev_epi512_BCE\n",
    "\n",
    "with Timer(\"5 - prepare eval data\"):\n",
    "    data_dev_raw, data_dev = transform_dataset(X_dev, y_dev, transform)\n",
    "\n",
    "for epoch_id in range(5):\n",
    "    with Timer(\"4 - train model - {}\".format(epoch_id)), SummaryWriter(logdir=\"data/\" + run_name, flush_secs=60) as sw:\n",
    "        stats = train(model, data_train, ctx, metric, loss_function, batch_size=6, lr=5e-6, num_epochs=epoch_id + 1, sw=sw, checkpoint_dir=\"data/\" + run_name)\n",
    "        plot_train_stats(stats)\n",
    "\n",
    "    with Timer(\"6 - evaluate - {}\".format(epoch_id)), SummaryWriter(logdir=\"data/\" + run_name, flush_secs=60) as sw:\n",
    "        all_predictions, cum_loss = predict(model, data_dev, ctx, metric, loss_function, batch_size=6, sw=sw)\n",
    "        print(\"Accuracy in epoch {}:\".format(epoch_id), metric.get()[1])\n",
    "\n",
    "        y_true, y_pred = predict_out_to_ys(all_predictions, all_labels)\n",
    "        report_training_results(y_true, y_pred, name=\"BERTClassifier - within BCE 512 epilog\", heatmap=False)\n",
    "\n",
    "    model.save_parameters(\"data/\" + run_name + \"/bert.model.params\")"
   ]
  },
  {
   "cell_type": "code",
   "execution_count": null,
   "metadata": {},
   "outputs": [],
   "source": [
    "run_name = \"within_traindev_epi512_BCE\"\n",
    "\n",
    "with Timer(\"1 - load within test/train\"):\n",
    "    X_train, X_dev, y_train, y_dev = get_train_test_sets(within_traindev_df, ratio=0.1)\n",
    "\n",
    "with Timer(\"2 - setup BERT model\"):\n",
    "    model, vocabulary, ctx, tokenizer, transform, loss_function, metric, all_labels = setup_bert_epi512bce()\n",
    "\n",
    "with Timer(\"5 - prepare eval data\"):\n",
    "    data_dev_raw, data_dev = transform_dataset(X_dev, y_dev, transform)\n",
    "\n",
    "with Timer(\"6 - evaluate\"), SummaryWriter(logdir=\"data/\" + run_name, flush_secs=60) as sw:\n",
    "    # model.load_parameters(\"data/\" + run_name + \"/bert.model.params\", ctx=ctx)\n",
    "    model.load_parameters(\"data/\" + run_name + \"/bert.model.checkpoint4.params\", ctx=ctx)\n",
    "    all_predictions, cum_loss = predict(model, data_dev, ctx, metric, loss_function, batch_size=32, sw=sw)\n",
    "    print(\"Accuracy in epoch 5:\", metric.get()[1])\n",
    "\n",
    "    y_true, y_pred = predict_out_to_ys(all_predictions, all_labels)\n",
    "    report_training_results(y_true, y_pred, name=\"BERTClassifier - within BCE 512 epilog (5 epochs)\", heatmap=False)"
   ]
  },
  {
   "cell_type": "markdown",
   "metadata": {},
   "source": [
    "```\n",
    "Time for [prediction]: 0:03:17.296830\n",
    "Accuracy in epoch 5: 0.9139414802065404\n",
    "Confusion Matrix:\n",
    "[[2772  187]\n",
    " [ 363 3069]]\n",
    "\n",
    "  accuracy: 0.914\n",
    " precision: 0.943\n",
    "    recall: 0.894\n",
    "  f1-score: 0.918\n",
    "\n",
    "Accuracy:  0.91 \n",
    "\n",
    "Report for [BERTClassifier - within BCE 512 epilog (5 epochs)]:\n",
    "              precision    recall  f1-score   support\n",
    "\n",
    "           0       0.88      0.94      0.91      2959\n",
    "           1       0.94      0.89      0.92      3432\n",
    "\n",
    "    accuracy                           0.91      6391\n",
    "   macro avg       0.91      0.92      0.91      6391\n",
    "weighted avg       0.92      0.91      0.91      6391\n",
    "\n",
    "Time for [6 - evaluate]: 0:03:17.540352\n",
    "```"
   ]
  },
  {
   "cell_type": "markdown",
   "metadata": {},
   "source": [
    "### (D.2) Cross 512 Pro"
   ]
  },
  {
   "cell_type": "code",
   "execution_count": null,
   "metadata": {
    "code_folding": [
     0,
     3,
     6,
     12,
     15
    ]
   },
   "outputs": [],
   "source": [
    "with Timer(\"1 - load cross test/train\"):\n",
    "    X_train, X_dev, y_train, y_dev = get_train_test_sets(cross_traindev_df, ratio=0.1)\n",
    "\n",
    "with Timer(\"2 - setup BERT model\"):\n",
    "    model, vocabulary, ctx, tokenizer, transform, loss_function, metric, all_labels = setup_bert_pro512bce()\n",
    "\n",
    "with Timer(\"3 - prepare training data\"):\n",
    "    data_train_raw, data_train = transform_dataset(X_train, y_train, transform)\n",
    "\n",
    "run_name = \"cross_traindev_pro512_BCE\"\n",
    "! mkdir data/cross_traindev_pro512_BCE\n",
    "\n",
    "with Timer(\"5 - prepare eval data\"):\n",
    "    data_dev_raw, data_dev = transform_dataset(X_dev, y_dev, transform)\n",
    "\n",
    "for epoch_id in range(5):\n",
    "    with Timer(\"4 - train model - {}\".format(epoch_id)), SummaryWriter(logdir=\"data/\" + run_name, flush_secs=60) as sw:\n",
    "        stats = train(model, data_train, ctx, metric, loss_function, batch_size=6, lr=5e-6, num_epochs=epoch_id + 1, sw=sw, checkpoint_dir=\"data/\" + run_name)\n",
    "        plot_train_stats(stats)\n",
    "\n",
    "    with Timer(\"6 - evaluate - {}\".format(epoch_id)), SummaryWriter(logdir=\"data/\" + run_name, flush_secs=60) as sw:\n",
    "        all_predictions, cum_loss = predict(model, data_dev, ctx, metric, loss_function, batch_size=6, sw=sw)\n",
    "        print(\"Accuracy in epoch {}:\".format(epoch_id), metric.get()[1])\n",
    "\n",
    "        y_true, y_pred = predict_out_to_ys(all_predictions, all_labels)\n",
    "        report_training_results(y_true, y_pred, name=\"BERTClassifier - cross BCE 512 prolog\", heatmap=False)\n",
    "\n",
    "    model.save_parameters(\"data/\" + run_name + \"/bert.model.params\")"
   ]
  },
  {
   "cell_type": "code",
   "execution_count": null,
   "metadata": {
    "code_folding": [
     2,
     5,
     8,
     11
    ]
   },
   "outputs": [],
   "source": [
    "run_name = \"cross_traindev_pro512_BCE\"\n",
    "\n",
    "with Timer(\"1 - load cross test/train\"):\n",
    "    X_train, X_dev, y_train, y_dev = get_train_test_sets(cross_traindev_df, ratio=0.1)\n",
    "\n",
    "with Timer(\"2 - setup BERT model\"):\n",
    "    model, vocabulary, ctx, tokenizer, transform, loss_function, metric, all_labels = setup_bert_pro512bce()\n",
    "\n",
    "with Timer(\"5 - prepare eval data\"):\n",
    "    data_dev_raw, data_dev = transform_dataset(X_dev, y_dev, transform)\n",
    "\n",
    "with Timer(\"6 - evaluate\"), SummaryWriter(logdir=\"data/\" + run_name, flush_secs=60) as sw:\n",
    "    # model.load_parameters(\"data/\" + run_name + \"/bert.model.params\", ctx=ctx)\n",
    "    model.load_parameters(\"data/\" + run_name + \"/bert.model.checkpoint4.params\", ctx=ctx)\n",
    "    all_predictions, cum_loss = predict(model, data_dev, ctx, metric, loss_function, batch_size=32, sw=sw)\n",
    "    print(\"Accuracy in epoch 5:\", metric.get()[1])\n",
    "\n",
    "    y_true, y_pred = predict_out_to_ys(all_predictions, all_labels)\n",
    "    report_training_results(y_true, y_pred, name=\"BERTClassifier - cross BCE 512 prolog (5 epochs)\", heatmap=False)"
   ]
  },
  {
   "cell_type": "code",
   "execution_count": null,
   "metadata": {
    "code_folding": []
   },
   "outputs": [],
   "source": [
    "with Timer(\"6 - evaluate\"), SummaryWriter(logdir=\"data/\" + run_name, flush_secs=60) as sw:\n",
    "    # model.load_parameters(\"data/\" + run_name + \"/bert.model.params\", ctx=ctx)\n",
    "    model.load_parameters(\"data/\" + run_name + \"/bert.model.checkpoint2.params\", ctx=ctx)\n",
    "    all_predictions, cum_loss = predict(model, data_dev, ctx, metric, loss_function, batch_size=32, sw=sw)\n",
    "    print(\"Accuracy in epoch 3:\", metric.get()[1])\n",
    "\n",
    "    y_true, y_pred = predict_out_to_ys(all_predictions, all_labels)\n",
    "    report_training_results(y_true, y_pred, name=\"BERTClassifier - cross BCE 512 prolog (3 epochs)\", heatmap=False)"
   ]
  },
  {
   "cell_type": "markdown",
   "metadata": {},
   "source": [
    "```\n",
    "Time for [prediction]: 0:03:12.088763\n",
    "Accuracy in epoch 3: 0.8520884520884521\n",
    "Confusion Matrix:\n",
    "[[2608  416]\n",
    " [ 487 2594]]\n",
    "\n",
    "  accuracy: 0.852\n",
    " precision: 0.862\n",
    "    recall: 0.842\n",
    "  f1-score: 0.852\n",
    "\n",
    "Accuracy:  0.85 \n",
    "\n",
    "Report for [BERTClassifier - cross BCE 512 prolog (3 epochs)]:\n",
    "              precision    recall  f1-score   support\n",
    "\n",
    "           0       0.84      0.86      0.85      3024\n",
    "           1       0.86      0.84      0.85      3081\n",
    "\n",
    "    accuracy                           0.85      6105\n",
    "   macro avg       0.85      0.85      0.85      6105\n",
    "weighted avg       0.85      0.85      0.85      6105\n",
    "\n",
    "Time for [6 - evaluate]: 0:03:12.321989\n",
    "```"
   ]
  },
  {
   "cell_type": "markdown",
   "metadata": {},
   "source": [
    "```\n",
    "Time for [prediction]: 0:03:29.716794\n",
    "Accuracy in epoch 5: 0.8665028665028665\n",
    "\n",
    "Confusion Matrix:\n",
    "[[2766  258]\n",
    " [ 557 2524]]\n",
    "\n",
    "  accuracy: 0.867\n",
    " precision: 0.907\n",
    "    recall: 0.819\n",
    "  f1-score: 0.861\n",
    "\n",
    "Accuracy:  0.87 \n",
    "\n",
    "Report for [BERTClassifier - cross BCE 512 prolog (5 epochs)]:\n",
    "              precision    recall  f1-score   support\n",
    "\n",
    "           0       0.83      0.91      0.87      3024\n",
    "           1       0.91      0.82      0.86      3081\n",
    "\n",
    "    accuracy                           0.87      6105\n",
    "   macro avg       0.87      0.87      0.87      6105\n",
    "weighted avg       0.87      0.87      0.87      6105\n",
    "\n",
    "Time for [6 - evaluate - 4]: 0:03:29.954158\n",
    "\n",
    "```"
   ]
  },
  {
   "cell_type": "markdown",
   "metadata": {},
   "source": [
    "### (D.4) Cross 512 Epi"
   ]
  },
  {
   "cell_type": "code",
   "execution_count": null,
   "metadata": {},
   "outputs": [],
   "source": [
    "with Timer(\"1 - load cross test/train\"):\n",
    "    X_train, X_dev, y_train, y_dev = get_train_test_sets(cross_traindev_df, ratio=0.1)\n",
    "\n",
    "with Timer(\"2 - setup BERT model\"):\n",
    "    model, vocabulary, ctx, tokenizer, transform, loss_function, metric, all_labels = setup_bert_epi512bce()\n",
    "\n",
    "with Timer(\"3 - prepare training data\"):\n",
    "    data_train_raw, data_train = transform_dataset(X_train, y_train, transform)\n",
    "\n",
    "run_name = \"cross_traindev_epi512_BCE\"\n",
    "! mkdir data/cross_traindev_epi512_BCE\n",
    "\n",
    "with Timer(\"5 - prepare eval data\"):\n",
    "    data_dev_raw, data_dev = transform_dataset(X_dev, y_dev, transform)\n",
    "\n",
    "for epoch_id in range(5):\n",
    "    with Timer(\"4 - train model - {}\".format(epoch_id)), SummaryWriter(logdir=\"data/\" + run_name, flush_secs=60) as sw:\n",
    "        stats = train(model, data_train, ctx, metric, loss_function, batch_size=6, lr=5e-6, num_epochs=epoch_id + 1, sw=sw, checkpoint_dir=\"data/\" + run_name)\n",
    "        plot_train_stats(stats)\n",
    "\n",
    "    with Timer(\"6 - evaluate - {}\".format(epoch_id)), SummaryWriter(logdir=\"data/\" + run_name, flush_secs=60) as sw:\n",
    "        all_predictions, cum_loss = predict(model, data_dev, ctx, metric, loss_function, batch_size=6, sw=sw)\n",
    "        print(\"Accuracy in epoch {}:\".format(epoch_id), metric.get()[1])\n",
    "\n",
    "        y_true, y_pred = predict_out_to_ys(all_predictions, all_labels)\n",
    "        report_training_results(y_true, y_pred, name=\"BERTClassifier - cross BCE 512 epilog\", heatmap=False)\n",
    "\n",
    "    model.save_parameters(\"data/\" + run_name + \"/bert.model.params\")"
   ]
  },
  {
   "cell_type": "code",
   "execution_count": null,
   "metadata": {},
   "outputs": [],
   "source": [
    "run_name = \"cross_traindev_epi512_BCE\"\n",
    "\n",
    "with Timer(\"1 - load cross test/train\"):\n",
    "    X_train, X_dev, y_train, y_dev = get_train_test_sets(cross_traindev_df, ratio=0.1)\n",
    "\n",
    "with Timer(\"2 - setup BERT model\"):\n",
    "    model, vocabulary, ctx, tokenizer, transform, loss_function, metric, all_labels = setup_bert_epi512bce()\n",
    "\n",
    "with Timer(\"5 - prepare eval data\"):\n",
    "    data_dev_raw, data_dev = transform_dataset(X_dev, y_dev, transform)\n",
    "\n",
    "with Timer(\"6 - evaluate\"), SummaryWriter(logdir=\"data/\" + run_name, flush_secs=60) as sw:\n",
    "    # model.load_parameters(\"data/\" + run_name + \"/bert.model.params\", ctx=ctx)\n",
    "    model.load_parameters(\"data/\" + run_name + \"/bert.model.checkpoint4.params\", ctx=ctx)\n",
    "    all_predictions, cum_loss = predict(model, data_dev, ctx, metric, loss_function, batch_size=32, sw=sw)\n",
    "    print(\"Accuracy in epoch 5:\", metric.get()[1])\n",
    "\n",
    "    y_true, y_pred = predict_out_to_ys(all_predictions, all_labels)\n",
    "    report_training_results(y_true, y_pred, name=\"BERTClassifier - cross BCE 512 epilog (5 epochs)\", heatmap=False)"
   ]
  },
  {
   "cell_type": "code",
   "execution_count": null,
   "metadata": {},
   "outputs": [],
   "source": [
    "with Timer(\"6 - evaluate\"), SummaryWriter(logdir=\"data/\" + run_name, flush_secs=60) as sw:\n",
    "    # model.load_parameters(\"data/\" + run_name + \"/bert.model.params\", ctx=ctx)\n",
    "    model.load_parameters(\"data/\" + run_name + \"/bert.model.checkpoint2.params\", ctx=ctx)\n",
    "    all_predictions, cum_loss = predict(model, data_dev, ctx, metric, loss_function, batch_size=32, sw=sw)\n",
    "    print(\"Accuracy in epoch 3:\", metric.get()[1])\n",
    "\n",
    "    y_true, y_pred = predict_out_to_ys(all_predictions, all_labels)\n",
    "    report_training_results(y_true, y_pred, name=\"BERTClassifier - cross BCE 512 epilog (3 epochs)\", heatmap=False)"
   ]
  },
  {
   "cell_type": "markdown",
   "metadata": {},
   "source": [
    "```\n",
    "Time for [prediction]: 0:03:11.561386\n",
    "Accuracy in epoch 3: 0.9117117117117117\n",
    "Confusion Matrix:\n",
    "[[2728  296]\n",
    " [ 243 2838]]\n",
    "\n",
    "  accuracy: 0.912\n",
    " precision: 0.906\n",
    "    recall: 0.921\n",
    "  f1-score: 0.913\n",
    "\n",
    "Accuracy:  0.91 \n",
    "\n",
    "Report for [BERTClassifier - cross BCE 512 epilog (3 epochs)]:\n",
    "              precision    recall  f1-score   support\n",
    "\n",
    "           0       0.92      0.90      0.91      3024\n",
    "           1       0.91      0.92      0.91      3081\n",
    "\n",
    "    accuracy                           0.91      6105\n",
    "   macro avg       0.91      0.91      0.91      6105\n",
    "weighted avg       0.91      0.91      0.91      6105\n",
    "\n",
    "Time for [6 - evaluate]: 0:03:11.798735\n",
    "```"
   ]
  },
  {
   "cell_type": "markdown",
   "metadata": {},
   "source": [
    "```\n",
    "Time for [prediction]: 0:03:13.333221\n",
    "Accuracy in epoch 5: 0.9257985257985258\n",
    "Confusion Matrix:\n",
    "[[2840  184]\n",
    " [ 269 2812]]\n",
    "\n",
    "  accuracy: 0.926\n",
    " precision: 0.939\n",
    "    recall: 0.913\n",
    "  f1-score: 0.925\n",
    "\n",
    "Accuracy:  0.93 \n",
    "\n",
    "Report for [BERTClassifier - cross BCE 512 epilog (5 epochs)]:\n",
    "              precision    recall  f1-score   support\n",
    "\n",
    "           0       0.91      0.94      0.93      3024\n",
    "           1       0.94      0.91      0.93      3081\n",
    "\n",
    "    accuracy                           0.93      6105\n",
    "   macro avg       0.93      0.93      0.93      6105\n",
    "weighted avg       0.93      0.93      0.93      6105\n",
    "\n",
    "Time for [6 - evaluate]: 0:03:13.563441\n",
    "```"
   ]
  },
  {
   "cell_type": "markdown",
   "metadata": {},
   "source": [
    "---"
   ]
  },
  {
   "cell_type": "markdown",
   "metadata": {},
   "source": [
    "### E - artificial evalset"
   ]
  },
  {
   "cell_type": "code",
   "execution_count": null,
   "metadata": {},
   "outputs": [],
   "source": [
    "names_columns_X2 = ['argument1', 'argument2']\n",
    "# X_arteval_dev = artificial_evalset_df[names_columns_X]\n",
    "# y_arteval_dev = artificial_evalset_df[names_columns_y]"
   ]
  },
  {
   "cell_type": "code",
   "execution_count": null,
   "metadata": {
    "code_folding": [
     6,
     9,
     12,
     15,
     18,
     21,
     28
    ]
   },
   "outputs": [],
   "source": [
    "fn = \"data/artificial_evalset/artificial_evalset.pred.tsv\"\n",
    "exp_name = \"within_traindev_epi512_BCE\"\n",
    "run_name = \"artificial_evalset_\" + exp_name\n",
    "\n",
    "! mkdir data/artificial_evalset/within_traindev_epi512_BCE\n",
    "\n",
    "if os.path.exists(fn):\n",
    "    artificial_evalset_df = pd.DataFrame.from_csv(fn, sep='\\t')\n",
    "\n",
    "with Timer(\"1 - load artificial test\"):\n",
    "    X_dev, y_dev = artificial_evalset_df[names_columns_X2], artificial_evalset_df[names_columns_y]\n",
    "\n",
    "with Timer(\"2 - setup BERT model\"):\n",
    "    model, vocabulary, ctx, tokenizer, transform, loss_function, metric, all_labels = setup_bert_epi512bce()\n",
    "\n",
    "with Timer(\"2 - load BERT model: {}\".format(exp_name)):\n",
    "    model.load_parameters(\"data/\" + exp_name + \"/bert.model.checkpoint4.params\", ctx=ctx)\n",
    "\n",
    "with Timer(\"5 - prepare eval data\"):\n",
    "    data_dev_raw, data_dev = transform_dataset(X_dev, y_dev, transform)\n",
    "\n",
    "with Timer(\"6 - evaluate\"), SummaryWriter(logdir=\"data/\" + run_name, flush_secs=60) as sw:\n",
    "    all_predictions, cum_loss = predict(model, data_dev, ctx, metric, loss_function, batch_size=6, sw=sw)\n",
    "    print(\"Accuracy in epoch 5:\", metric.get()[1])\n",
    "\n",
    "    y_true, y_pred = predict_out_to_ys(all_predictions, all_labels)\n",
    "    report_training_results(y_true, y_pred, name=\"BERTClassifier - {} - artificial evalset\".format(exp_name), heatmap=False)\n",
    "\n",
    "with Timer(\"9 - store results\"):\n",
    "    col_name = \"preds-{}\".format(exp_name)\n",
    "    artificial_evalset_df[col_name] = y_pred\n",
    "    fn = \"data/artificial_evalset/artificial_evalset.pred.tsv\"\n",
    "    artificial_evalset_df.to_csv(fn, sep=\"\\t\")"
   ]
  },
  {
   "cell_type": "code",
   "execution_count": null,
   "metadata": {
    "code_folding": [
     6,
     9,
     12,
     15,
     18,
     21,
     28
    ],
    "run_control": {
     "marked": false
    },
    "scrolled": true
   },
   "outputs": [],
   "source": [
    "fn = \"data/artificial_evalset/artificial_evalset.pred.tsv\"\n",
    "exp_name = \"cross_traindev_epi512_BCE\"\n",
    "run_name = \"artificial_evalset_\" + exp_name\n",
    "\n",
    "! mkdir data/artificial_evalset/cross_traindev_epi512_BCE\n",
    "\n",
    "if os.path.exists(fn):\n",
    "    artificial_evalset_df = pd.DataFrame.from_csv(fn, sep='\\t')\n",
    "\n",
    "with Timer(\"1 - load artificial test\"):\n",
    "    X_dev, y_dev = artificial_evalset_df[names_columns_X2], artificial_evalset_df[names_columns_y]\n",
    "\n",
    "with Timer(\"2 - setup BERT model\"):\n",
    "    model, vocabulary, ctx, tokenizer, transform, loss_function, metric, all_labels = setup_bert_epi512bce()\n",
    "\n",
    "with Timer(\"2 - load BERT model: {}\".format(exp_name)):\n",
    "    model.load_parameters(\"data/\" + exp_name + \"/bert.model.checkpoint4.params\", ctx=ctx)\n",
    "\n",
    "with Timer(\"5 - prepare eval data\"):\n",
    "    data_dev_raw, data_dev = transform_dataset(X_dev, y_dev, transform)\n",
    "\n",
    "with Timer(\"6 - evaluate\"), SummaryWriter(logdir=\"data/\" + run_name, flush_secs=60) as sw:\n",
    "    all_predictions, cum_loss = predict(model, data_dev, ctx, metric, loss_function, batch_size=6, sw=sw)\n",
    "    print(\"Accuracy:\", metric.get()[1])\n",
    "\n",
    "    y_true, y_pred = predict_out_to_ys(all_predictions, all_labels)\n",
    "    report_training_results(y_true, y_pred, name=\"BERTClassifier - {} - artificial evalset\".format(exp_name), heatmap=False)\n",
    "\n",
    "with Timer(\"9 - store results\"):\n",
    "    col_name = \"preds-{}\".format(exp_name)\n",
    "    artificial_evalset_df[col_name] = y_pred\n",
    "    fn = \"data/artificial_evalset/artificial_evalset.pred.tsv\"\n",
    "    artificial_evalset_df.to_csv(fn, sep=\"\\t\")"
   ]
  },
  {
   "cell_type": "code",
   "execution_count": null,
   "metadata": {},
   "outputs": [],
   "source": [
    "len(y_pred)"
   ]
  },
  {
   "cell_type": "code",
   "execution_count": null,
   "metadata": {
    "code_folding": [
     6,
     9,
     15,
     18,
     21,
     28
    ]
   },
   "outputs": [],
   "source": [
    "fn = \"data/artificial_evalset/artificial_evalset.pred.tsv\"\n",
    "exp_name = \"within_traindev_epi128_BCE\"\n",
    "run_name = \"artificial_evalset_\" + exp_name\n",
    "\n",
    "! mkdir data/artificial_evalset/within_traindev_epi128_BCE\n",
    "\n",
    "if os.path.exists(fn):\n",
    "    artificial_evalset_df = pd.DataFrame.from_csv(fn, sep='\\t')\n",
    "\n",
    "with Timer(\"1 - load artificial test\"):\n",
    "    X_dev, y_dev = artificial_evalset_df[names_columns_X2], artificial_evalset_df[names_columns_y]\n",
    "\n",
    "with Timer(\"2 - setup BERT model\"):\n",
    "    model, vocabulary, ctx, tokenizer, transform, loss_function, metric, all_labels = setup_bert_epi128bce()\n",
    "\n",
    "with Timer(\"2 - load BERT model: {}\".format(exp_name)):\n",
    "    model.load_parameters(\"data/\" + exp_name + \"/bert.model.checkpoint4.params\", ctx=ctx)\n",
    "\n",
    "with Timer(\"5 - prepare eval data\"):\n",
    "    data_dev_raw, data_dev = transform_dataset(X_dev, y_dev, transform)\n",
    "\n",
    "with Timer(\"6 - evaluate\"), SummaryWriter(logdir=\"data/\" + run_name, flush_secs=60) as sw:\n",
    "    all_predictions, cum_loss = predict(model, data_dev, ctx, metric, loss_function, batch_size=6, sw=sw)\n",
    "    print(\"Accuracy:\", metric.get()[1])\n",
    "\n",
    "    y_true, y_pred = predict_out_to_ys(all_predictions, all_labels)\n",
    "    report_training_results(y_true, y_pred, name=\"BERTClassifier - {} - artificial evalset\".format(exp_name), heatmap=False)\n",
    "\n",
    "with Timer(\"9 - store results\"):\n",
    "    col_name = \"preds-{}\".format(exp_name)\n",
    "    artificial_evalset_df[col_name] = y_pred\n",
    "    fn = \"data/artificial_evalset/artificial_evalset.pred.tsv\"\n",
    "    artificial_evalset_df.to_csv(fn, sep=\"\\t\")"
   ]
  },
  {
   "cell_type": "code",
   "execution_count": null,
   "metadata": {
    "code_folding": [
     6,
     9,
     15,
     18,
     21,
     28
    ]
   },
   "outputs": [],
   "source": [
    "fn = \"data/artificial_evalset/artificial_evalset.pred.tsv\"\n",
    "exp_name = \"within_traindev_pro128_BCE\"\n",
    "run_name = \"artificial_evalset_\" + exp_name\n",
    "\n",
    "! mkdir data/artificial_evalset/within_traindev_pro128_BCE\n",
    "\n",
    "if os.path.exists(fn):\n",
    "    artificial_evalset_df = pd.DataFrame.from_csv(fn, sep='\\t')\n",
    "\n",
    "with Timer(\"1 - load artificial test\"):\n",
    "    X_dev, y_dev = artificial_evalset_df[names_columns_X2], artificial_evalset_df[names_columns_y]\n",
    "\n",
    "with Timer(\"2 - setup BERT model\"):\n",
    "    model, vocabulary, ctx, tokenizer, transform, loss_function, metric, all_labels = setup_bert_pro128bce()\n",
    "\n",
    "with Timer(\"2 - load BERT model: {}\".format(exp_name)):\n",
    "    model.load_parameters(\"data/\" + exp_name + \"/bert.model.checkpoint4.params\", ctx=ctx)\n",
    "\n",
    "with Timer(\"5 - prepare eval data\"):\n",
    "    data_dev_raw, data_dev = transform_dataset(X_dev, y_dev, transform)\n",
    "\n",
    "with Timer(\"6 - evaluate\"), SummaryWriter(logdir=\"data/\" + run_name, flush_secs=60) as sw:\n",
    "    all_predictions, cum_loss = predict(model, data_dev, ctx, metric, loss_function, batch_size=6, sw=sw)\n",
    "    print(\"Accuracy:\", metric.get()[1])\n",
    "\n",
    "    y_true, y_pred = predict_out_to_ys(all_predictions, all_labels)\n",
    "    report_training_results(y_true, y_pred, name=\"BERTClassifier - {} - artificial evalset\".format(exp_name), heatmap=False)\n",
    "\n",
    "with Timer(\"9 - store results\"):\n",
    "    col_name = \"preds-{}\".format(exp_name)\n",
    "    artificial_evalset_df[col_name] = y_pred\n",
    "    fn = \"data/artificial_evalset/artificial_evalset.pred.tsv\"\n",
    "    artificial_evalset_df.to_csv(fn, sep=\"\\t\")"
   ]
  },
  {
   "cell_type": "code",
   "execution_count": null,
   "metadata": {
    "code_folding": [
     6,
     9,
     15,
     18,
     21,
     28
    ],
    "run_control": {
     "marked": false
    }
   },
   "outputs": [],
   "source": [
    "fn = \"data/artificial_evalset/artificial_evalset.pred.tsv\"\n",
    "exp_name = \"cross_traindev_epi128_BCE\"\n",
    "run_name = \"artificial_evalset_\" + exp_name\n",
    "\n",
    "! mkdir data/artificial_evalset/cross_traindev_epi128_BCE\n",
    "\n",
    "if os.path.exists(fn):\n",
    "    artificial_evalset_df = pd.DataFrame.from_csv(fn, sep='\\t')\n",
    "\n",
    "with Timer(\"1 - load artificial test\"):\n",
    "    X_dev, y_dev = artificial_evalset_df[names_columns_X2], artificial_evalset_df[names_columns_y]\n",
    "\n",
    "with Timer(\"2 - setup BERT model\"):\n",
    "    model, vocabulary, ctx, tokenizer, transform, loss_function, metric, all_labels = setup_bert_epi128bce()\n",
    "\n",
    "with Timer(\"2 - load BERT model: {}\".format(exp_name)):\n",
    "    model.load_parameters(\"data/\" + exp_name + \"/bert.model.checkpoint4.params\", ctx=ctx)\n",
    "\n",
    "with Timer(\"5 - prepare eval data\"):\n",
    "    data_dev_raw, data_dev = transform_dataset(X_dev, y_dev, transform)\n",
    "\n",
    "with Timer(\"6 - evaluate\"), SummaryWriter(logdir=\"data/\" + run_name, flush_secs=60) as sw:\n",
    "    all_predictions, cum_loss = predict(model, data_dev, ctx, metric, loss_function, batch_size=6, sw=sw)\n",
    "    print(\"Accuracy:\", metric.get()[1])\n",
    "\n",
    "    y_true, y_pred = predict_out_to_ys(all_predictions, all_labels)\n",
    "    report_training_results(y_true, y_pred, name=\"BERTClassifier - {} - artificial evalset\".format(exp_name), heatmap=False)\n",
    "\n",
    "with Timer(\"9 - store results\"):\n",
    "    col_name = \"preds-{}\".format(exp_name)\n",
    "    artificial_evalset_df[col_name] = y_pred\n",
    "    fn = \"data/artificial_evalset/artificial_evalset.pred.tsv\"\n",
    "    artificial_evalset_df.to_csv(fn, sep=\"\\t\")"
   ]
  },
  {
   "cell_type": "code",
   "execution_count": null,
   "metadata": {
    "code_folding": [
     6,
     9,
     15,
     18,
     21,
     28
    ],
    "run_control": {
     "marked": false
    }
   },
   "outputs": [],
   "source": [
    "fn = \"data/artificial_evalset/artificial_evalset.pred.tsv\"\n",
    "exp_name = \"cross_traindev_pro128_BCE\"\n",
    "run_name = \"artificial_evalset_\" + exp_name\n",
    "\n",
    "! mkdir data/artificial_evalset/cross_traindev_pro128_BCE\n",
    "\n",
    "if os.path.exists(fn):\n",
    "    artificial_evalset_df = pd.DataFrame.from_csv(fn, sep='\\t')\n",
    "\n",
    "with Timer(\"1 - load artificial test\"):\n",
    "    X_dev, y_dev = artificial_evalset_df[names_columns_X2], artificial_evalset_df[names_columns_y]\n",
    "\n",
    "with Timer(\"2 - setup BERT model\"):\n",
    "    model, vocabulary, ctx, tokenizer, transform, loss_function, metric, all_labels = setup_bert_pro128bce()\n",
    "\n",
    "with Timer(\"2 - load BERT model: {}\".format(exp_name)):\n",
    "    model.load_parameters(\"data/\" + exp_name + \"/bert.model.checkpoint4.params\", ctx=ctx)\n",
    "\n",
    "with Timer(\"5 - prepare eval data\"):\n",
    "    data_dev_raw, data_dev = transform_dataset(X_dev, y_dev, transform)\n",
    "\n",
    "with Timer(\"6 - evaluate\"), SummaryWriter(logdir=\"data/\" + run_name, flush_secs=60) as sw:\n",
    "    all_predictions, cum_loss = predict(model, data_dev, ctx, metric, loss_function, batch_size=6, sw=sw)\n",
    "    print(\"Accuracy:\", metric.get()[1])\n",
    "\n",
    "    y_true, y_pred = predict_out_to_ys(all_predictions, all_labels)\n",
    "    report_training_results(y_true, y_pred, name=\"BERTClassifier - {} - artificial evalset\".format(exp_name), heatmap=False)\n",
    "\n",
    "with Timer(\"9 - store results\"):\n",
    "    col_name = \"preds-{}\".format(exp_name)\n",
    "    artificial_evalset_df[col_name] = y_pred\n",
    "    fn = \"data/artificial_evalset/artificial_evalset.pred.tsv\"\n",
    "    artificial_evalset_df.to_csv(fn, sep=\"\\t\")"
   ]
  },
  {
   "cell_type": "code",
   "execution_count": null,
   "metadata": {
    "ExecuteTime": {
     "end_time": "2019-12-08T20:20:15.327113Z",
     "start_time": "2019-12-08T20:20:15.316399Z"
    },
    "code_folding": [
     0
    ],
    "init_cell": true
   },
   "outputs": [],
   "source": [
    "def dump_art_eval_results(artificial_evalset_df):\n",
    "    cols = [c for c in artificial_evalset_df.columns.tolist() if c.startswith(\"preds-\")]\n",
    "    \n",
    "    for col in cols:\n",
    "        model_name = col[6:]\n",
    "        print(\"Model:\", model_name, \"\\n\")\n",
    "        \n",
    "        for crit, crit_df in artificial_evalset_df.groupby(\"type\"):\n",
    "            crit_df = crit_df[[\"is_same_side\", col]].astype({\"is_same_side\": \"int32\"})\n",
    "            labels = crit_df[\"is_same_side\"].values\n",
    "            preds = crit_df[col].values\n",
    "\n",
    "            conf_mat = confusion_matrix(labels, preds)\n",
    "            print(\"Criterion:\", crit)\n",
    "            # print(conf_mat)\n",
    "            compute_metrics2(labels, preds)\n",
    "            print()\n",
    "        \n",
    "        print(\"\\n\")"
   ]
  },
  {
   "cell_type": "code",
   "execution_count": null,
   "metadata": {},
   "outputs": [],
   "source": [
    "dump_art_eval_results(artificial_evalset_df)"
   ]
  },
  {
   "cell_type": "code",
   "execution_count": null,
   "metadata": {},
   "outputs": [],
   "source": [
    "gi = iter(artificial_evalset_df.groupby(\"type\"))"
   ]
  },
  {
   "cell_type": "code",
   "execution_count": null,
   "metadata": {},
   "outputs": [],
   "source": [
    "crit, df = next(gi)\n",
    "print(crit)\n",
    "df = df[[\"is_same_side\", \"preds-cross_traindev_epi512_BCE_0.1\"]].astype({\"is_same_side\": \"int32\"})\n",
    "df = df[\"is_same_side\"].values, df[\"preds-cross_traindev_epi512_BCE_0.1\"].values\n",
    "tn, fp, fn, tp = confusion_matrix(*df).ravel()\n",
    "tn, fp, fn, tp"
   ]
  },
  {
   "cell_type": "code",
   "execution_count": null,
   "metadata": {},
   "outputs": [],
   "source": [
    "from sklearn.metrics import precision_score, recall_score\n",
    "\n",
    "precision_score(*df), recall_score(*df), tp / (tp + fp), tp / (tp + fn)"
   ]
  },
  {
   "cell_type": "markdown",
   "metadata": {},
   "source": [
    "---"
   ]
  },
  {
   "cell_type": "markdown",
   "metadata": {},
   "source": [
    "### (A.1) Within topic - Training and evaluating model "
   ]
  },
  {
   "cell_type": "code",
   "execution_count": null,
   "metadata": {},
   "outputs": [],
   "source": [
    "#within_traindev_df = within_traindev_df[:1000]"
   ]
  },
  {
   "cell_type": "code",
   "execution_count": null,
   "metadata": {
    "scrolled": true
   },
   "outputs": [],
   "source": [
    "# 1. Getting train and dev data\n",
    "with Timer(\"1 - test/train split\"):\n",
    "    # X_train, X_dev, y_train, y_dev = get_train_test_sets(within_traindev_df, ratio=0.1)\n",
    "    X_train, X_dev, y_train, y_dev = load_distinct_data(\"within\")\n",
    "\n",
    "    # X_abortion, X_gay_marriage, y_abortion, y_gay_marriage = split_within_by_topic(within_traindev_df)"
   ]
  },
  {
   "cell_type": "code",
   "execution_count": null,
   "metadata": {},
   "outputs": [],
   "source": [
    "# 2. setup\n",
    "with Timer(\"2 - setup BERT model\"):\n",
    "    model, vocabulary, ctx, tokenizer, transform, loss_function, metric, all_labels = setup_bert()"
   ]
  },
  {
   "cell_type": "code",
   "execution_count": null,
   "metadata": {},
   "outputs": [],
   "source": [
    "# print(model)"
   ]
  },
  {
   "cell_type": "code",
   "execution_count": null,
   "metadata": {},
   "outputs": [],
   "source": [
    "with Timer(\"3 - prepare training data\"):\n",
    "    data_train_raw, data_train = transform_dataset(X_train, y_train, transform)\n",
    "    print_infos(vocabulary, data_train_raw, data_train)"
   ]
  },
  {
   "cell_type": "code",
   "execution_count": null,
   "metadata": {},
   "outputs": [],
   "source": [
    "run_name = \"within_traindev_epi512_BCE_0.1\""
   ]
  },
  {
   "cell_type": "code",
   "execution_count": null,
   "metadata": {},
   "outputs": [],
   "source": [
    "! mkdir data/within_traindev_epi512_BCE_0.1"
   ]
  },
  {
   "cell_type": "code",
   "execution_count": null,
   "metadata": {
    "code_folding": [],
    "scrolled": true
   },
   "outputs": [],
   "source": [
    "with Timer(\"4 - train model\"), SummaryWriter(logdir=\"data/\" + run_name, flush_secs=600) as sw:\n",
    "    stats = train(model, data_train, ctx, metric, loss_function, batch_size=2, lr=5e-6, num_epochs=5, sw=sw, checkpoint_dir=\"data/\" + run_name)\n",
    "    model.save_parameters(\"data/\" + run_name + \"/bert.model.params\")\n",
    "\n",
    "    plot_train_stats(stats)"
   ]
  },
  {
   "cell_type": "code",
   "execution_count": null,
   "metadata": {},
   "outputs": [],
   "source": [
    "with Timer(\"5 - prepare eval data\"):\n",
    "    data_dev_raw, data_dev = transform_dataset(X_dev, y_dev, transform)\n",
    "    print_infos(vocabulary, data_dev_raw, data_dev)"
   ]
  },
  {
   "cell_type": "code",
   "execution_count": null,
   "metadata": {
    "code_folding": []
   },
   "outputs": [],
   "source": [
    "with Timer(\"6 - evaluate\"), SummaryWriter(logdir=\"data/\" + run_name, flush_secs=60) as sw:\n",
    "    # model.load_parameters(\"data/\" + run_name + \"/bert.model.params\", ctx=ctx)\n",
    "    # bert.model.checkpoint4.params\n",
    "    all_predictions, cum_loss = predict(model, data_dev, ctx, metric, loss_function, batch_size=2, sw=sw)\n",
    "    print(\"Accuracy:\", metric.get()[1])\n",
    "\n",
    "    y_true, y_pred = predict_out_to_ys(all_predictions, all_labels)\n",
    "    report_training_results(y_true, y_pred, name=\"BERTClassifier - BCE epilog 0.1 split\", heatmap=False)"
   ]
  },
  {
   "cell_type": "markdown",
   "metadata": {},
   "source": [
    "### Train and evaluate each epoch"
   ]
  },
  {
   "cell_type": "code",
   "execution_count": null,
   "metadata": {
    "code_folding": [
     0
    ],
    "scrolled": true
   },
   "outputs": [],
   "source": [
    "for epoch_id in range(5):\n",
    "    with Timer(\"4 - train model - {}\".format(epoch_id)):\n",
    "        # stats = train(model, data_train, ctx, metric, loss_function, batch_size=32, lr=5e-6, num_epochs=epoch_id + 1)\n",
    "        stats = train(model, data_train, ctx, metric, loss_function, batch_size=2, lr=5e-6, num_epochs=epoch_id + 1)  # seq_len: 512\n",
    "        # stats = train_multi(model, data_train, ctx, metric, loss_function, batch_size=4, lr=5e-6, num_epochs=epoch_id + 1)  # seq_len: 512\n",
    "        plot_train_stats(stats)\n",
    "\n",
    "    with Timer(\"6 - evaluate - {}\".format(epoch_id)):\n",
    "        # all_predictions, cum_loss = predict(model, data_dev, ctx, metric, loss_function)\n",
    "        all_predictions, cum_loss = predict(model, data_dev, ctx, metric, loss_function, batch_size=2)  # seq_len: 512\n",
    "        print(\"Accuracy in epoch {}:\".format(epoch_id), metric.get()[1])\n",
    "        y_true, y_pred = predict_out_to_ys(all_predictions, all_labels)\n",
    "        report_training_results(y_true, y_pred, name=\"BERTClassifier - last part\", heatmap=False)\n",
    "\n",
    "    model.save_parameters(\"data/bert.model.params\")"
   ]
  },
  {
   "cell_type": "markdown",
   "metadata": {},
   "source": [
    "### (A.2) Cross topic - Training and evaluating model "
   ]
  },
  {
   "cell_type": "code",
   "execution_count": null,
   "metadata": {},
   "outputs": [],
   "source": [
    "# 1. Getting train and dev data\n",
    "with Timer(\"1 - test/train split\"):\n",
    "    X_train, X_dev, y_train, y_dev = get_train_test_sets(cross_traindev_df, ratio=0.1)\n",
    "    # X_train, X_dev, y_train, y_dev = load_distinct_data(\"cross\")\n",
    "\n",
    "    X_abortion, X_gay_marriage, y_abortion, y_gay_marriage = split_within_by_topic(within_traindev_df)\n",
    "    \n",
    "    # cross:  abortion\n",
    "    # within: abortion + gay marriage"
   ]
  },
  {
   "cell_type": "code",
   "execution_count": null,
   "metadata": {},
   "outputs": [],
   "source": [
    "# 2. setup\n",
    "with Timer(\"2 - setup BERT model\"):\n",
    "    model, vocabulary, ctx, tokenizer, transform, loss_function, metric, all_labels = setup_bert_epi512bce()"
   ]
  },
  {
   "cell_type": "code",
   "execution_count": null,
   "metadata": {},
   "outputs": [],
   "source": [
    "with Timer(\"3 - prepare training data\"):\n",
    "    data_train_raw, data_train = transform_dataset(X_train, y_train, transform)\n",
    "    print_infos(vocabulary, data_train_raw, data_train)"
   ]
  },
  {
   "cell_type": "code",
   "execution_count": null,
   "metadata": {},
   "outputs": [],
   "source": [
    "run_name = \"cross_traindev_epi512_BCE_0.1\""
   ]
  },
  {
   "cell_type": "code",
   "execution_count": null,
   "metadata": {},
   "outputs": [],
   "source": [
    "! mkdir data/cross_traindev_epi512_BCE_0.1"
   ]
  },
  {
   "cell_type": "code",
   "execution_count": null,
   "metadata": {
    "code_folding": [],
    "run_control": {
     "marked": false
    }
   },
   "outputs": [],
   "source": [
    "with Timer(\"4 - train model\"), SummaryWriter(logdir=\"data/\" + run_name, flush_secs=600) as sw:\n",
    "    stats = train(model, data_train, ctx, metric, loss_function, batch_size=6, lr=5e-6, num_epochs=5, sw=sw, checkpoint_dir=\"data/\" + run_name)\n",
    "    model.save_parameters(\"data/\" + run_name + \"/bert.model.params\")\n",
    "\n",
    "    plot_train_stats(stats)"
   ]
  },
  {
   "cell_type": "code",
   "execution_count": null,
   "metadata": {},
   "outputs": [],
   "source": [
    "with Timer(\"5 - prepare eval data\"):\n",
    "    data_dev_raw, data_dev = transform_dataset(X_dev, y_dev, transform)\n",
    "    print_infos(vocabulary, data_dev_raw, data_dev)"
   ]
  },
  {
   "cell_type": "code",
   "execution_count": null,
   "metadata": {
    "code_folding": []
   },
   "outputs": [],
   "source": [
    "with Timer(\"6 - evaluate\"), SummaryWriter(logdir=\"data/\" + run_name, flush_secs=60) as sw:\n",
    "    # model.load_parameters(\"data/\" + run_name + \"/bert.model.params\", ctx=ctx)\n",
    "    # bert.model.checkpoint4.params\n",
    "    all_predictions, cum_loss = predict(model, data_dev, ctx, metric, loss_function, batch_size=6, sw=sw)\n",
    "    print(\"Accuracy:\", metric.get()[1])\n",
    "\n",
    "    y_true, y_pred = predict_out_to_ys(all_predictions, all_labels)\n",
    "    report_training_results(y_true, y_pred, name=\"BERTClassifier - cross BCE epilog 0.1 split\", heatmap=False)"
   ]
  },
  {
   "cell_type": "markdown",
   "metadata": {},
   "source": [
    "### (A.3) cross with distinct topics from within"
   ]
  },
  {
   "cell_type": "code",
   "execution_count": null,
   "metadata": {},
   "outputs": [],
   "source": [
    "with Timer(\"7 - prepare eval data - for within foreign topic\"):\n",
    "    data_dev_raw, data_dev = transform_dataset(X_gay_marriage, y_gay_marriage, transform)\n",
    "    print_infos(vocabulary, data_dev_raw, data_dev)"
   ]
  },
  {
   "cell_type": "code",
   "execution_count": null,
   "metadata": {
    "code_folding": []
   },
   "outputs": [],
   "source": [
    "with Timer(\"8 - evaluate - within foreign topic\"), SummaryWriter(logdir=\"data/\" + run_name, flush_secs=60) as sw:\n",
    "    model.load_parameters(\"data/\" + run_name + \"/bert.model.checkpoint4.params\", ctx=ctx)\n",
    "    # bert.model.checkpoint4.params\n",
    "    all_predictions, cum_loss = predict(model, data_dev, ctx, metric, loss_function, batch_size=6, sw=sw)\n",
    "    print(\"Accuracy:\", metric.get()[1])\n",
    "\n",
    "    y_true, y_pred = predict_out_to_ys(all_predictions, all_labels)\n",
    "    report_training_results(y_true, y_pred, name=\"BERTClassifier - within foreign topic BCE epilog 0.1 split\", heatmap=False)"
   ]
  },
  {
   "cell_type": "markdown",
   "metadata": {},
   "source": [
    "```\n",
    "### RESULTS on untrained model!\n",
    "Time for [prediction]: 0:16:02.711887\n",
    "Accuracy: 0.5775050947404934\n",
    "\n",
    "Confusion Matrix:\n",
    "[[  123  9663]\n",
    " [   81 13196]]\n",
    "\n",
    "  accuracy: 0.578\n",
    " precision: 0.590\n",
    "    recall: 0.503\n",
    "  f1-score: 0.377\n",
    "\n",
    "Accuracy:  0.58 \n",
    "\n",
    "Report for [BERTClassifier - within foreign topic BCE epilog 0.1 split]:\n",
    "              precision    recall  f1-score   support\n",
    "\n",
    "           0       0.60      0.01      0.02      9786\n",
    "           1       0.58      0.99      0.73     13277\n",
    "\n",
    "    accuracy                           0.58     23063\n",
    "   macro avg       0.59      0.50      0.38     23063\n",
    "weighted avg       0.59      0.58      0.43     23063\n",
    "\n",
    "Time for [8 - evaluate - within foreign topic]: 0:16:04.970854\n",
    "```"
   ]
  },
  {
   "cell_type": "markdown",
   "metadata": {},
   "source": [
    "```\n",
    "Time for [prediction]: 0:12:55.132169\n",
    "Accuracy: 0.6531240515110783\n",
    "\n",
    "Confusion Matrix:\n",
    "[[6455 3331]\n",
    " [4669 8608]]\n",
    "\n",
    "  accuracy: 0.653\n",
    " precision: 0.651\n",
    "    recall: 0.654\n",
    "  f1-score: 0.650\n",
    "\n",
    "Accuracy:  0.65 \n",
    "\n",
    "Report for [BERTClassifier - within foreign topic BCE epilog 0.1 split]:\n",
    "              precision    recall  f1-score   support\n",
    "\n",
    "           0       0.58      0.66      0.62      9786\n",
    "           1       0.72      0.65      0.68     13277\n",
    "\n",
    "    accuracy                           0.65     23063\n",
    "   macro avg       0.65      0.65      0.65     23063\n",
    "weighted avg       0.66      0.65      0.66     23063\n",
    "\n",
    "Time for [8 - evaluate - within foreign topic]: 0:12:56.282341\n",
    "```"
   ]
  },
  {
   "cell_type": "code",
   "execution_count": null,
   "metadata": {},
   "outputs": [],
   "source": [
    "with Timer(\"7 - prepare eval data - for within same topic\"):\n",
    "    data_dev_raw, data_dev = transform_dataset(X_abortion, y_abortion, transform)\n",
    "    print_infos(vocabulary, data_dev_raw, data_dev)"
   ]
  },
  {
   "cell_type": "code",
   "execution_count": null,
   "metadata": {
    "code_folding": []
   },
   "outputs": [],
   "source": [
    "with Timer(\"8 - evaluate - within same topic\"), SummaryWriter(logdir=\"data/\" + run_name, flush_secs=60) as sw:\n",
    "    model.load_parameters(\"data/\" + run_name + \"/bert.model.checkpoint4.params\", ctx=ctx)\n",
    "    # bert.model.checkpoint4.params\n",
    "    all_predictions, cum_loss = predict(model, data_dev, ctx, metric, loss_function, batch_size=6, sw=sw)\n",
    "    print(\"Accuracy:\", metric.get()[1])\n",
    "\n",
    "    y_true, y_pred = predict_out_to_ys(all_predictions, all_labels)\n",
    "    report_training_results(y_true, y_pred, name=\"BERTClassifier - within same topic BCE epilog 0.1 split\", heatmap=False)"
   ]
  },
  {
   "cell_type": "markdown",
   "metadata": {},
   "source": [
    "```\n",
    "Time for [prediction]: 0:23:12.102163\n",
    "Accuracy: 0.9829578844270324\n",
    "\n",
    "Confusion Matrix:\n",
    "[[19698   308]\n",
    " [  388 20446]]\n",
    "\n",
    "  accuracy: 0.983\n",
    " precision: 0.983\n",
    "    recall: 0.983\n",
    "  f1-score: 0.983\n",
    "\n",
    "Accuracy:  0.98 \n",
    "\n",
    "Report for [BERTClassifier - within same topic BCE epilog 0.1 split]:\n",
    "              precision    recall  f1-score   support\n",
    "\n",
    "           0       0.98      0.98      0.98     20006\n",
    "           1       0.99      0.98      0.98     20834\n",
    "\n",
    "    accuracy                           0.98     40840\n",
    "   macro avg       0.98      0.98      0.98     40840\n",
    "weighted avg       0.98      0.98      0.98     40840\n",
    "\n",
    "Time for [8 - evaluate - within same topic]: 0:23:13.881916\n",
    "```"
   ]
  },
  {
   "cell_type": "code",
   "execution_count": null,
   "metadata": {},
   "outputs": [],
   "source": [
    "with Timer(\"1 - test/train split (within)\"):\n",
    "    _, X_dev_within, _, y_dev_within = get_train_test_sets(within_traindev_df, ratio=0.1)\n",
    "\n",
    "with Timer(\"7 - prepare eval data - for within both topics (0.1 split)\"):\n",
    "    data_dev_raw, data_dev = transform_dataset(X_dev_within, y_dev_within, transform)\n",
    "    print_infos(vocabulary, data_dev_raw, data_dev)"
   ]
  },
  {
   "cell_type": "code",
   "execution_count": null,
   "metadata": {
    "code_folding": [],
    "scrolled": true
   },
   "outputs": [],
   "source": [
    "with Timer(\"8 - evaluate - within both topics\"), SummaryWriter(logdir=\"data/\" + run_name, flush_secs=60) as sw:\n",
    "    # model.load_parameters(\"data/\" + run_name + \"/bert.model.params\", ctx=ctx)\n",
    "    # bert.model.checkpoint4.params\n",
    "    all_predictions, cum_loss = predict(model, data_dev, ctx, metric, loss_function, batch_size=2, sw=sw)\n",
    "    print(\"Accuracy:\", metric.get()[1])\n",
    "\n",
    "    y_true, y_pred = predict_out_to_ys(all_predictions, all_labels)\n",
    "    report_training_results(y_true, y_pred, name=\"BERTClassifier - within both topics topic BCE epilog 0.1 split\", heatmap=False)"
   ]
  },
  {
   "cell_type": "code",
   "execution_count": null,
   "metadata": {},
   "outputs": [],
   "source": [
    "with Timer(\"1 - test/train split (within)\"):\n",
    "    _, X_dev_within, _, y_dev_within = get_train_test_sets(within_traindev_df, ratio=0.3)\n",
    "\n",
    "with Timer(\"7 - prepare eval data - for within both topics (0.3 split)\"):\n",
    "    data_dev_raw, data_dev = transform_dataset(X_dev_within, y_dev_within, transform)\n",
    "    print_infos(vocabulary, data_dev_raw, data_dev)"
   ]
  },
  {
   "cell_type": "code",
   "execution_count": null,
   "metadata": {
    "code_folding": []
   },
   "outputs": [],
   "source": [
    "with Timer(\"8 - evaluate - within both topics (0.3 split)\"), SummaryWriter(logdir=\"data/\" + run_name, flush_secs=60) as sw:\n",
    "    # model.load_parameters(\"data/\" + run_name + \"/bert.model.params\", ctx=ctx)\n",
    "    # bert.model.checkpoint4.params\n",
    "    all_predictions, cum_loss = predict(model, data_dev, ctx, metric, loss_function, batch_size=2, sw=sw)\n",
    "    print(\"Accuracy:\", metric.get()[1])\n",
    "\n",
    "    y_true, y_pred = predict_out_to_ys(all_predictions, all_labels)\n",
    "    report_training_results(y_true, y_pred, name=\"BERTClassifier - within both topics topic (0.3 within) BCE epilog 0.1 split\", heatmap=False)"
   ]
  },
  {
   "cell_type": "markdown",
   "metadata": {},
   "source": [
    "."
   ]
  },
  {
   "cell_type": "code",
   "execution_count": null,
   "metadata": {
    "code_folding": [
     0,
     14,
     22
    ],
    "scrolled": true
   },
   "outputs": [],
   "source": [
    "for epoch_id in range(5):\n",
    "    with Timer(\"4 - train model - {}\".format(epoch_id)):\n",
    "        stats = train(model,\n",
    "                      data_train,\n",
    "                      ctx,\n",
    "                      metric,\n",
    "                      loss_function,\n",
    "                      batch_size=2,\n",
    "                      lr=5e-6,\n",
    "                      num_epochs=epoch_id + 1,\n",
    "                      checkpoint_dir='data/cross_traindev_epi512_BCE')\n",
    "        plot_train_stats(stats)\n",
    "\n",
    "    with Timer(\"6 - evaluate - {}\".format(epoch_id)):\n",
    "        all_predictions, cum_loss = predict(model,\n",
    "                                            data_dev,\n",
    "                                            ctx,\n",
    "                                            metric,\n",
    "                                            loss_function,\n",
    "                                            batch_size=2)\n",
    "        print(\"Accuracy in epoch {}:\".format(epoch_id), metric.get()[1])\n",
    "        y_true, y_pred = predict_out_to_ys(all_predictions, all_labels)\n",
    "        report_training_results(y_true,\n",
    "                                y_pred,\n",
    "                                name=\"BERTClassifier\",\n",
    "                                heatmap=False)\n",
    "\n",
    "    model.save_parameters(\n",
    "        \"data/cross_traindev_epi512_BCE/bert.model.params\")"
   ]
  },
  {
   "cell_type": "code",
   "execution_count": null,
   "metadata": {
    "code_folding": [
     0,
     8
    ]
   },
   "outputs": [],
   "source": [
    "with Timer(\"11 - test/train split\"):\n",
    "    # evaluate on \"within\" test-data\n",
    "    _, X_dev, _, y_dev = get_train_test_sets(within_traindev_df)\n",
    "\n",
    "with Timer(\"12 - prepare eval data\"):\n",
    "    data_dev_raw, data_dev = transform_dataset(X_dev, y_dev, transform)\n",
    "    print_infos(vocabulary, data_dev_raw, data_dev)\n",
    "\n",
    "with Timer(\"13 - evaluate\"):\n",
    "    # model from \"cross\"\n",
    "    all_predictions, cum_loss = predict(model, data_dev, ctx, metric, loss_function, batch_size=2)\n",
    "    print(\"Accuracy:\", metric.get()[1])\n",
    "\n",
    "    y_true, y_pred = predict_out_to_ys(all_predictions, all_labels)\n",
    "    report_training_results(y_true, y_pred, name=\"BERTClassifier cross with within\", heatmap=False)"
   ]
  },
  {
   "cell_type": "code",
   "execution_count": null,
   "metadata": {},
   "outputs": [],
   "source": []
  },
  {
   "cell_type": "markdown",
   "metadata": {},
   "source": [
    "---\n",
    "---"
   ]
  },
  {
   "cell_type": "markdown",
   "metadata": {},
   "source": [
    "##### Test Cross-Model with Within-Test\n",
    "\n",
    "5 epochs of cross"
   ]
  },
  {
   "cell_type": "code",
   "execution_count": null,
   "metadata": {},
   "outputs": [],
   "source": [
    "model, vocabulary, ctx, tokenizer, transform, loss_function, metric, all_labels = setup_bert()"
   ]
  },
  {
   "cell_type": "code",
   "execution_count": null,
   "metadata": {},
   "outputs": [],
   "source": [
    "model.load_parameters('data/cross_traindev_epi512_BCE/bert.model.checkpoint4.params', ctx=ctx)"
   ]
  },
  {
   "cell_type": "code",
   "execution_count": null,
   "metadata": {
    "code_folding": []
   },
   "outputs": [],
   "source": [
    "_, X_dev, _, y_dev = get_train_test_sets(within_traindev_df)\n",
    "\n",
    "data_dev_raw, data_dev = transform_dataset(X_dev, y_dev, transform)\n",
    "print_infos(vocabulary, data_dev_raw, data_dev)"
   ]
  },
  {
   "cell_type": "code",
   "execution_count": null,
   "metadata": {},
   "outputs": [],
   "source": [
    "all_predictions, cum_loss = predict(model, data_dev, ctx, metric, loss_function, batch_size=2)\n",
    "print(\"Accuracy:\", metric.get()[1])\n",
    "\n",
    "y_true, y_pred = predict_out_to_ys(all_predictions, all_labels)\n",
    "report_training_results(y_true, y_pred, name=\"BERTClassifier cross with within\", heatmap=False)"
   ]
  },
  {
   "cell_type": "markdown",
   "metadata": {},
   "source": [
    "```\n",
    "Time for [prediction]: 0:24:48.940295\n",
    "Accuracy: 0.8536330916488446\n",
    "Confusion Matrix:\n",
    "[[7659 1174]\n",
    " [1632 8706]]\n",
    "\n",
    "Accuracy:  0.85 \n",
    "\n",
    "Report for [BERTClassifier cross with within]:\n",
    "              precision    recall  f1-score   support\n",
    "\n",
    "           0       0.82      0.87      0.85      8833\n",
    "           1       0.88      0.84      0.86     10338\n",
    "\n",
    "    accuracy                           0.85     19171\n",
    "   macro avg       0.85      0.85      0.85     19171\n",
    "weighted avg       0.85      0.85      0.85     19171\n",
    "```"
   ]
  },
  {
   "cell_type": "markdown",
   "metadata": {},
   "source": [
    "#### Test Within-Model with Cross-Test\n",
    "\n",
    "5 epochs of within"
   ]
  },
  {
   "cell_type": "code",
   "execution_count": null,
   "metadata": {},
   "outputs": [],
   "source": [
    "model, vocabulary, ctx, tokenizer, transform, loss_function, metric, all_labels = setup_bert()"
   ]
  },
  {
   "cell_type": "code",
   "execution_count": null,
   "metadata": {},
   "outputs": [],
   "source": [
    "model.load_parameters('data/within_traindev_epi512_BCE/bert.model.checkpoint4.params', ctx=ctx)"
   ]
  },
  {
   "cell_type": "code",
   "execution_count": null,
   "metadata": {},
   "outputs": [],
   "source": [
    "_, X_dev, _, y_dev = get_train_test_sets(cross_traindev_df)\n",
    "\n",
    "data_dev_raw, data_dev = transform_dataset(X_dev, y_dev, transform)\n",
    "print_infos(vocabulary, data_dev_raw, data_dev)"
   ]
  },
  {
   "cell_type": "code",
   "execution_count": null,
   "metadata": {},
   "outputs": [],
   "source": [
    "with Timer(\"evaluate within with cross\"):\n",
    "    all_predictions, cum_loss = predict(model, data_dev, ctx, metric, loss_function, batch_size=2)\n",
    "    print(\"Accuracy:\", metric.get()[1])\n",
    "\n",
    "    y_true, y_pred = predict_out_to_ys(all_predictions, all_labels)\n",
    "    report_training_results(y_true, y_pred, name=\"BERTClassifier within with cross\", heatmap=False)"
   ]
  },
  {
   "cell_type": "markdown",
   "metadata": {},
   "source": [
    "```\n",
    "Time for [prediction]: 0:22:17.542674\n",
    "Accuracy: 0.9379197379197379\n",
    "Confusion Matrix:\n",
    "[[8397  539]\n",
    " [ 598 8781]]\n",
    "\n",
    "Accuracy:  0.94 \n",
    "\n",
    "Report for [BERTClassifier]:\n",
    "              precision    recall  f1-score   support\n",
    "\n",
    "           0       0.93      0.94      0.94      8936\n",
    "           1       0.94      0.94      0.94      9379\n",
    "\n",
    "    accuracy                           0.94     18315\n",
    "   macro avg       0.94      0.94      0.94     18315\n",
    "weighted avg       0.94      0.94      0.94     18315\n",
    "\n",
    "Time for [6 - evaluate]: 0:22:19.841677\n",
    "```"
   ]
  },
  {
   "cell_type": "markdown",
   "metadata": {},
   "source": [
    "#### Test Within-Model with Within-Test\n",
    "\n",
    "5 epochs of within"
   ]
  },
  {
   "cell_type": "code",
   "execution_count": null,
   "metadata": {},
   "outputs": [],
   "source": [
    "model, vocabulary, ctx, tokenizer, transform, loss_function, metric, all_labels = setup_bert()"
   ]
  },
  {
   "cell_type": "code",
   "execution_count": null,
   "metadata": {},
   "outputs": [],
   "source": [
    "model.load_parameters('data/within_traindev_epi512_BCE/bert.model.checkpoint4.params', ctx=ctx)"
   ]
  },
  {
   "cell_type": "code",
   "execution_count": null,
   "metadata": {},
   "outputs": [],
   "source": [
    "_, X_dev, _, y_dev = get_train_test_sets(within_traindev_df)\n",
    "\n",
    "data_dev_raw, data_dev = transform_dataset(X_dev, y_dev, transform)\n",
    "print_infos(vocabulary, data_dev_raw, data_dev)"
   ]
  },
  {
   "cell_type": "code",
   "execution_count": null,
   "metadata": {},
   "outputs": [],
   "source": [
    "with Timer(\"evaluate within with within\"):\n",
    "    all_predictions, cum_loss = predict(model, data_dev, ctx, metric, loss_function, batch_size=2)\n",
    "    print(\"Accuracy:\", metric.get()[1])\n",
    "\n",
    "    y_true, y_pred = predict_out_to_ys(all_predictions, all_labels)\n",
    "    report_training_results(y_true, y_pred, name=\"BERTClassifier within with within\", heatmap=False)"
   ]
  },
  {
   "cell_type": "markdown",
   "metadata": {},
   "source": [
    "```\n",
    "Time for [prediction]: 0:19:51.733113\n",
    "Accuracy: 0.9069427781545042\n",
    "Confusion Matrix:\n",
    "[[7972  861]\n",
    " [ 923 9415]]\n",
    "\n",
    "Accuracy:  0.91 \n",
    "\n",
    "Report for [BERTClassifier within with within]:\n",
    "              precision    recall  f1-score   support\n",
    "\n",
    "           0       0.90      0.90      0.90      8833\n",
    "           1       0.92      0.91      0.91     10338\n",
    "\n",
    "    accuracy                           0.91     19171\n",
    "   macro avg       0.91      0.91      0.91     19171\n",
    "weighted avg       0.91      0.91      0.91     19171\n",
    "\n",
    "Time for [evaluate within with cross]: 0:19:52.352049\n",
    "```"
   ]
  },
  {
   "cell_type": "markdown",
   "metadata": {},
   "source": [
    "#### Test Cross-Model with Cross-Test\n",
    "\n",
    "5 epochs of cross"
   ]
  },
  {
   "cell_type": "code",
   "execution_count": null,
   "metadata": {},
   "outputs": [],
   "source": [
    "model, vocabulary, ctx, tokenizer, transform, loss_function, metric, all_labels = setup_bert()"
   ]
  },
  {
   "cell_type": "code",
   "execution_count": null,
   "metadata": {},
   "outputs": [],
   "source": [
    "model.load_parameters('data/cross_traindev_epi512_BCE/bert.model.checkpoint4.params', ctx=ctx)"
   ]
  },
  {
   "cell_type": "code",
   "execution_count": null,
   "metadata": {},
   "outputs": [],
   "source": [
    "_, X_dev, _, y_dev = get_train_test_sets(cross_traindev_df)\n",
    "\n",
    "data_dev_raw, data_dev = transform_dataset(X_dev, y_dev, transform)\n",
    "print_infos(vocabulary, data_dev_raw, data_dev)"
   ]
  },
  {
   "cell_type": "code",
   "execution_count": null,
   "metadata": {},
   "outputs": [],
   "source": [
    "all_predictions, cum_loss = predict(model, data_dev, ctx, metric, loss_function, batch_size=2)\n",
    "print(\"Accuracy:\", metric.get()[1])\n",
    "\n",
    "y_true, y_pred = predict_out_to_ys(all_predictions, all_labels)\n",
    "report_training_results(y_true, y_pred, name=\"BERTClassifier cross\", heatmap=False)"
   ]
  },
  {
   "cell_type": "markdown",
   "metadata": {},
   "source": [
    "```\n",
    "Time for [prediction]: 0:23:28.845010\n",
    "Accuracy: 0.9197925197925197\n",
    "Confusion Matrix:\n",
    "[[8329  607]\n",
    " [ 862 8517]]\n",
    "\n",
    "Accuracy:  0.92 \n",
    "\n",
    "Report for [BERTClassifier cross]:\n",
    "              precision    recall  f1-score   support\n",
    "\n",
    "           0       0.91      0.93      0.92      8936\n",
    "           1       0.93      0.91      0.92      9379\n",
    "\n",
    "    accuracy                           0.92     18315\n",
    "   macro avg       0.92      0.92      0.92     18315\n",
    "weighted avg       0.92      0.92      0.92     18315\n",
    "```"
   ]
  },
  {
   "cell_type": "markdown",
   "metadata": {},
   "source": [
    "---\n",
    "---"
   ]
  },
  {
   "cell_type": "markdown",
   "metadata": {},
   "source": [
    "#### Details to wrong classified arguments\n",
    "\n",
    "within_traindev"
   ]
  },
  {
   "cell_type": "code",
   "execution_count": null,
   "metadata": {},
   "outputs": [],
   "source": [
    "model, vocabulary, ctx, tokenizer, transform, loss_function, metric, all_labels = setup_bert()\n",
    "\n",
    "model.load_parameters('data/within_traindev_epi512_BCE/bert.model.checkpoint4.params', ctx=ctx)"
   ]
  },
  {
   "cell_type": "code",
   "execution_count": null,
   "metadata": {},
   "outputs": [],
   "source": [
    "_, X_dev, _, y_dev = get_train_test_sets(within_traindev_df)\n",
    "\n",
    "data_dev_raw, data_dev = transform_dataset(X_dev, y_dev, transform)\n",
    "# print_infos(vocabulary, data_dev_raw, data_dev)"
   ]
  },
  {
   "cell_type": "code",
   "execution_count": null,
   "metadata": {},
   "outputs": [],
   "source": [
    "all_predictions, cum_loss = predict(model, data_dev, ctx, metric, loss_function, batch_size=2)\n",
    "print(\"Accuracy:\", metric.get()[1])\n",
    "\n",
    "y_true, y_pred = predict_out_to_ys(all_predictions, all_labels)\n",
    "report_training_results(y_true, y_pred, name=\"BERTClassifier within-within\", heatmap=False)"
   ]
  },
  {
   "cell_type": "code",
   "execution_count": null,
   "metadata": {},
   "outputs": [],
   "source": [
    "# convert predictions to dataframe\n",
    "dev_pred_df = pd.DataFrame(data=y_pred, columns=[\"prediction\"], dtype=\"bool\")\n",
    "\n",
    "# merge all dataframes\n",
    "dev_df = X_dev.join(y_dev)\n",
    "dev_df = dev_df.reset_index()\n",
    "dev_df = pd.merge(dev_df, dev_pred_df, left_index=True, right_index=True, how='inner')\n",
    "dev_df.set_index('id', inplace=True)\n",
    "\n",
    "# re-apply tag value\n",
    "dev_df = dev_df.progress_apply(add_tag, axis=1)\n",
    "# info\n",
    "dev_df.info()"
   ]
  },
  {
   "cell_type": "code",
   "execution_count": null,
   "metadata": {},
   "outputs": [],
   "source": [
    "import pickle\n",
    "\n",
    "\n",
    "dev_df_ser_file = \"data/within_traindev_epi512_BCE/eval_dev_df.pickle\"\n",
    "\n",
    "\n",
    "with open(dev_df_ser_file, \"wb\") as f:\n",
    "    pickle.dump(dev_df, f, protocol=pickle.HIGHEST_PROTOCOL)\n",
    "\n",
    "with open(dev_df_ser_file, \"rb\") as f:\n",
    "    dev_df = pickle.load(f)\n",
    "\n",
    "\n",
    "dev_df.info()"
   ]
  },
  {
   "cell_type": "code",
   "execution_count": null,
   "metadata": {},
   "outputs": [],
   "source": [
    "FPFN_df = dev_df[(dev_df['is_same_side'] != dev_df['prediction'])]  #  and (dev_df['tag'] != 'abortion')\n",
    "FPFN_df.info()\n",
    "FPFN_df.head()"
   ]
  },
  {
   "cell_type": "code",
   "execution_count": null,
   "metadata": {
    "code_folding": [
     6
    ],
    "run_control": {
     "marked": false
    }
   },
   "outputs": [],
   "source": [
    "from IPython.display import HTML, display\n",
    "import re\n",
    "#import tabulate\n",
    "#display(HTML(tabulate.tabulate(table, tablefmt='html')))\n",
    "\n",
    "\n",
    "def print_args(df, idx, add_linebreaks=True):\n",
    "    row = df.iloc[idx]\n",
    "    print('IDX: {}, tag: {}, topics: {}'.format(idx, row['tag'], row['topic']))\n",
    "    print('Is-Same-Side: {}'.format(row['is_same_side']))\n",
    "\n",
    "    arg1 = row['argument1']\n",
    "    arg2 = row['argument2']\n",
    "    if add_linebreaks:\n",
    "        pat = re.compile(r'(?P<c>(\\.|\\?|\\!|\\:)+\\\"?)')\n",
    "        arg1 = pat.sub(r'\\1<br/>', arg1)\n",
    "        arg2 = pat.sub(r'\\1<br/>', arg2)\n",
    "\n",
    "    display(HTML('''<table>\n",
    "        <tr>\n",
    "            <td style=\"border-right:1px dashed black;\">{arg1}</td>\n",
    "            <td>{arg2}</td>\n",
    "        </tr>\n",
    "    </table>'''.format(arg1=arg1, arg2=arg2)))"
   ]
  },
  {
   "cell_type": "code",
   "execution_count": null,
   "metadata": {},
   "outputs": [],
   "source": [
    "_ = {print_args(FPFN_df, i) for i in range(10)}"
   ]
  },
  {
   "cell_type": "code",
   "execution_count": null,
   "metadata": {
    "code_folding": [
     1
    ]
   },
   "outputs": [],
   "source": [
    "# tokenizer from BERT\n",
    "def tokenize_arguments(row):\n",
    "    # tokenize\n",
    "    row['argument1_tokens'] = tokenizer(row['argument1'])\n",
    "    row['argument2_tokens'] = tokenizer(row['argument2'])\n",
    "\n",
    "    # count tokens\n",
    "    row['argument1_len'] = len(row['argument1_tokens'])\n",
    "    row['argument2_len'] = len(row['argument2_tokens'])\n",
    "    # token number diff\n",
    "    row['argument12_len_diff'] = row['argument1_len'] - row['argument2_len']\n",
    "    row['argument12_len_diff_abs'] = np.abs(row['argument12_len_diff'])\n",
    "    return row\n",
    "\n",
    "\n",
    "FPFN_df = FPFN_df.progress_apply(tokenize_arguments, axis=1)\n",
    "FPFN_df.describe()"
   ]
  },
  {
   "cell_type": "code",
   "execution_count": null,
   "metadata": {},
   "outputs": [],
   "source": [
    "FPFN_df.plot()"
   ]
  },
  {
   "cell_type": "markdown",
   "metadata": {},
   "source": [
    "---"
   ]
  },
  {
   "cell_type": "markdown",
   "metadata": {},
   "source": [
    "# Make final results/predictions"
   ]
  },
  {
   "cell_type": "code",
   "execution_count": null,
   "metadata": {},
   "outputs": [],
   "source": [
    "model, vocabulary, ctx, tokenizer, transform, loss_function, metric, all_labels = setup_bert()"
   ]
  },
  {
   "cell_type": "code",
   "execution_count": null,
   "metadata": {},
   "outputs": [],
   "source": [
    "# model.load_parameters('data/within_traindev_epi512_BCE/bert.model.checkpoint4.params', ctx=ctx)\n",
    "# model.load_parameters('data/cross_traindev_epi512_BCE/bert.model.checkpoint4.params', ctx=ctx)\n",
    "model.load_parameters('data/within_traindev_epi512_BCE_0.1/bert.model.checkpoint4.params', ctx=ctx)"
   ]
  },
  {
   "cell_type": "code",
   "execution_count": null,
   "metadata": {},
   "outputs": [],
   "source": [
    "#X_pred = within_test_df[['argument1', 'argument2', 'topic']]\n",
    "#X_pred = cross_test_df[['argument1', 'argument2', 'topic']]\n",
    "X_pred = new_within_test_df[['argument1', 'argument2', 'topic']]\n",
    "y_pred = None\n",
    "\n",
    "data_pred_raw, data_pred = transform_dataset(X_pred, y_pred, transform)"
   ]
  },
  {
   "cell_type": "code",
   "execution_count": null,
   "metadata": {
    "code_folding": []
   },
   "outputs": [],
   "source": [
    "# data_pred_raw[0]"
   ]
  },
  {
   "cell_type": "code",
   "execution_count": null,
   "metadata": {},
   "outputs": [],
   "source": [
    "# data_pred[0]"
   ]
  },
  {
   "cell_type": "code",
   "execution_count": null,
   "metadata": {
    "code_folding": []
   },
   "outputs": [],
   "source": [
    "# label_map=all_labels\n",
    "predictions = predict_unknown(model, data_pred, ctx, label_map=None, batch_size=1)"
   ]
  },
  {
   "cell_type": "code",
   "execution_count": null,
   "metadata": {},
   "outputs": [],
   "source": [
    "assert len(data_pred) == len(predictions) == len(X_pred)"
   ]
  },
  {
   "cell_type": "code",
   "execution_count": null,
   "metadata": {},
   "outputs": [],
   "source": [
    "# convert predictions to dataframe\n",
    "# bool works because we mapped 0 to False, 1 to True, is default conversion\n",
    "test_pred_df = pd.DataFrame(data=predictions, columns=[\"prediction\"], dtype=\"bool\")\n",
    "\n",
    "# merge all dataframes\n",
    "# test_df = X_pred.join(y_pred)\n",
    "test_df = X_pred.reset_index()\n",
    "test_df = pd.merge(test_df, test_pred_df, left_index=True, right_index=True, how='inner')\n",
    "test_df.set_index('id', inplace=True)\n",
    "\n",
    "# re-apply tag value\n",
    "test_df = test_df.progress_apply(add_tag, axis=1)\n",
    "# info\n",
    "test_df.info()"
   ]
  },
  {
   "cell_type": "code",
   "execution_count": null,
   "metadata": {},
   "outputs": [],
   "source": [
    "import pickle\n",
    "\n",
    "# ser_fn = \"data/within_traindev_epi512_BCE/within_test_pred_df.pickle\"\n",
    "# ser_fn = \"data/cross_traindev_epi512_BCE/cross_test_pred_df.pickle\"\n",
    "# ser_fn = \"data/cross_traindev_epi512_BCE/within_with_cross_model_test_pred_df.pickle\"\n",
    "# ser_fn = \"data/within_traindev_epi512_BCE/cross_with_within_model_test_pred_df.pickle\"\n",
    "# ser_fn = \"data/within_traindev_epi512_BCE_0.1/within_test_pred_df.pickle\"\n",
    "# ser_fn = \"data/within_traindev_epi512_BCE_0.1/cross_with_within_model_test_pred_df.pickle\"\n",
    "ser_fn = \"data/within_traindev_epi512_BCE_0.1/new_within_test_pred_df.pickle\"\n",
    "\n",
    "with open(ser_fn, \"wb\") as f:\n",
    "    pickle.dump(test_df, f, protocol=pickle.HIGHEST_PROTOCOL)"
   ]
  },
  {
   "cell_type": "code",
   "execution_count": null,
   "metadata": {},
   "outputs": [],
   "source": [
    "next(test_df.itertuples())"
   ]
  },
  {
   "cell_type": "code",
   "execution_count": null,
   "metadata": {},
   "outputs": [],
   "source": [
    "# res_fn = \"data/within_traindev_epi512_BCE/within_results.csv\"\n",
    "# res_fn = \"data/cross_traindev_epi512_BCE/cross_results.csv\"\n",
    "# res_fn = \"data/cross_traindev_epi512_BCE/within_with_cross_model_results.csv\"\n",
    "# res_fn = \"data/within_traindev_epi512_BCE/cross_with_within_model_results.csv\"\n",
    "# res_fn = \"data/within_traindev_epi512_BCE_0.1/within_results.csv\"\n",
    "# res_fn = \"data/within_traindev_epi512_BCE_0.1/cross_with_within_model_results.csv\"\n",
    "res_fn = \"data/within_traindev_epi512_BCE_0.1/new_within_results.csv\"\n",
    "\n",
    "with open(res_fn, \"w\") as of:\n",
    "    of.write('\"id\",\"label\"\\n')\n",
    "    for row_id, row in test_df.iterrows():\n",
    "        of.write('{},\"{}\"\\n'.format(row_id, str(row['prediction'])))"
   ]
  },
  {
   "cell_type": "code",
   "execution_count": null,
   "metadata": {},
   "outputs": [],
   "source": [
    "%%bash\n",
    "cd data/within_traindev_epi512_BCE_0.1/\n",
    "cp cross_with_within_model_results.csv cross.csv\n",
    "cp within_results.csv within.csv"
   ]
  },
  {
   "cell_type": "code",
   "execution_count": null,
   "metadata": {},
   "outputs": [],
   "source": [
    "%%bash\n",
    "cd data/within_traindev_epi512_BCE_0.1/\n",
    "gzip cross.csv\n",
    "gzip within.csv"
   ]
  },
  {
   "cell_type": "code",
   "execution_count": null,
   "metadata": {},
   "outputs": [],
   "source": [
    "%%bash\n",
    "cd data/within_traindev_epi512_BCE_0.1/\n",
    "gzip new_within_results.csv "
   ]
  },
  {
   "cell_type": "markdown",
   "metadata": {},
   "source": [
    "**NOTE**: do this for within and cross !!!"
   ]
  },
  {
   "cell_type": "code",
   "execution_count": null,
   "metadata": {},
   "outputs": [],
   "source": [
    "# test read\n",
    "# temp_test_df = pd.read_csv(\"data/within_traindev_epi512_BCE_0.1/cross_with_within_model_results.csv\", index_col='id')\n",
    "temp_test_df = pd.read_csv(\"data/within_traindev_epi512_BCE_0.1/new_within_results.csv\", index_col='id')\n",
    "temp_test_df.info()\n",
    "temp_test_df.iloc[10]"
   ]
  },
  {
   "cell_type": "code",
   "execution_count": null,
   "metadata": {},
   "outputs": [],
   "source": []
  }
 ],
 "metadata": {
  "celltoolbar": "Initialization Cell",
  "kernelspec": {
   "display_name": "Python 3",
   "language": "python",
   "name": "python3"
  },
  "language_info": {
   "codemirror_mode": {
    "name": "ipython",
    "version": 3
   },
   "file_extension": ".py",
   "mimetype": "text/x-python",
   "name": "python",
   "nbconvert_exporter": "python",
   "pygments_lexer": "ipython3",
   "version": "3.7.3"
  },
  "varInspector": {
   "cols": {
    "lenName": 16,
    "lenType": 16,
    "lenVar": 40
   },
   "kernels_config": {
    "python": {
     "delete_cmd_postfix": "",
     "delete_cmd_prefix": "del ",
     "library": "var_list.py",
     "varRefreshCmd": "print(var_dic_list())"
    },
    "r": {
     "delete_cmd_postfix": ") ",
     "delete_cmd_prefix": "rm(",
     "library": "var_list.r",
     "varRefreshCmd": "cat(var_dic_list()) "
    }
   },
   "types_to_exclude": [
    "module",
    "function",
    "builtin_function_or_method",
    "instance",
    "_Feature"
   ],
   "window_display": false
  }
 },
 "nbformat": 4,
 "nbformat_minor": 2
}
