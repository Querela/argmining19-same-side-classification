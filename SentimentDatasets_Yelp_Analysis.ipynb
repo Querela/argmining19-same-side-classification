{
 "cells": [
  {
   "cell_type": "markdown",
   "metadata": {},
   "source": [
    "# Datasets (Sentiment)"
   ]
  },
  {
   "cell_type": "markdown",
   "metadata": {},
   "source": [
    "## Yelp\n",
    "\n",
    "- https://www.yelp.com/dataset/documentation/main\n",
    "- https://www.yelp.com/developers/documentation/v3/all_category_list"
   ]
  },
  {
   "cell_type": "code",
   "execution_count": 73,
   "metadata": {},
   "outputs": [],
   "source": [
    "! wget -o data/sentiment/yelp/all_category_list.json https://www.yelp.com/developers/documentation/v3/all_category_list"
   ]
  },
  {
   "cell_type": "code",
   "execution_count": null,
   "metadata": {},
   "outputs": [],
   "source": []
  },
  {
   "cell_type": "code",
   "execution_count": null,
   "metadata": {},
   "outputs": [],
   "source": [
    "! pip install jsonlines"
   ]
  },
  {
   "cell_type": "code",
   "execution_count": 24,
   "metadata": {
    "ExecuteTime": {
     "end_time": "2020-03-23T11:31:24.066172Z",
     "start_time": "2020-03-23T11:31:23.599690Z"
    },
    "collapsed": true,
    "jupyter": {
     "outputs_hidden": true
    }
   },
   "outputs": [
    {
     "name": "stderr",
     "output_type": "stream",
     "text": [
      "/disk1/users/ekoerner/miniconda3/envs/argmining19-ssc/lib/python3.7/site-packages/tqdm/std.py:658: FutureWarning: The Panel class is removed from pandas. Accessing it from the top-level namespace will also be removed in the next version\n",
      "  from pandas import Panel\n"
     ]
    },
    {
     "data": {
      "text/plain": [
       "[]"
      ]
     },
     "execution_count": 24,
     "metadata": {},
     "output_type": "execute_result"
    },
    {
     "data": {
      "image/png": "[encoded data removed]",
      "text/plain": [
       "<Figure size 432x288 with 1 Axes>"
      ]
     },
     "metadata": {
      "needs_background": "light"
     },
     "output_type": "display_data"
    }
   ],
   "source": [
    "import json\n",
    "import os\n",
    "import random\n",
    "import pickle\n",
    "from collections import Counter\n",
    "from itertools import combinations, groupby\n",
    "from pathlib import Path\n",
    "from pprint import pprint\n",
    "\n",
    "import jsonlines\n",
    "import matplotlib.pyplot as plt\n",
    "import numpy as np\n",
    "import pandas as pd\n",
    "import seaborn as sn\n",
    "import scipy.spatial.distance as ssd\n",
    "from IPython.display import set_matplotlib_formats\n",
    "from scipy.cluster import hierarchy\n",
    "from sklearn.cluster import AgglomerativeClustering, SpectralClustering\n",
    "from sklearn.metrics import pairwise_distances\n",
    "from sklearn.metrics.pairwise import cosine_similarity, linear_kernel\n",
    "from tqdm import tqdm\n",
    "\n",
    "tqdm.pandas()\n",
    "\n",
    "%matplotlib inline\n",
    "plt.rcParams.update({\"font.size\": 25, \"font.weight\": \"bold\"})\n",
    "# https://stackoverflow.com/questions/36622237/jupyter-notebook-inline-plots-as-svg\n",
    "# set_matplotlib_formats(\"svg\")  # glitches it\n",
    "plt.plot()"
   ]
  },
  {
   "cell_type": "code",
   "execution_count": 2,
   "metadata": {},
   "outputs": [],
   "source": [
    "from utils_data import init_random\n",
    "init_random()"
   ]
  },
  {
   "cell_type": "code",
   "execution_count": 3,
   "metadata": {
    "ExecuteTime": {
     "end_time": "2020-03-23T11:31:29.183647Z",
     "start_time": "2020-03-23T11:31:29.180361Z"
    }
   },
   "outputs": [],
   "source": [
    "# download + scp to cuda + extract\n",
    "# Path on CUDA2\n",
    "data_yelp_path = Path(\"/disk1/users/ekoerner/argmining19-same-side-classification/data/sentiment/yelp/\")"
   ]
  },
  {
   "cell_type": "markdown",
   "metadata": {},
   "source": [
    "#### Load reviews / categories (topics) + filter cats/make combinations"
   ]
  },
  {
   "cell_type": "code",
   "execution_count": 37,
   "metadata": {
    "ExecuteTime": {
     "end_time": "2020-03-23T11:35:05.825431Z",
     "start_time": "2020-03-23T11:35:02.981079Z"
    },
    "jupyter": {
     "source_hidden": true
    }
   },
   "outputs": [],
   "source": [
    "def load_reviews(fn_yelp_reviews):\n",
    "    \"\"\"Load Yelp reviews. Return a Pandas dataframe.\n",
    "    Format: {\"id\": business_id, \"rid\": review_id, \"text\": text, \"rating\": rating}\n",
    "    And add goodness bool (rating > 3).\"\"\"\n",
    "    data = list()\n",
    "\n",
    "    with jsonlines.open(fn_yelp_reviews, \"r\") as fp:\n",
    "        for n, entry in enumerate(tqdm(fp)):\n",
    "            # print(entry)\n",
    "            # break\n",
    "            business_id = entry.pop(\"business_id\")\n",
    "            review_id = entry.pop(\"review_id\")\n",
    "            text = entry.pop(\"text\", \"\")\n",
    "            rating = entry.pop(\"stars\", 0.0)\n",
    "            data.append({\"id\": business_id, \"rid\": review_id, \"text\": text, \"rating\": rating})\n",
    "            # TESTING\n",
    "            # if n > 10000:\n",
    "            #     break\n",
    "\n",
    "    df = pd.DataFrame.from_dict(data)\n",
    "    \n",
    "    # Add goodness value\n",
    "    # TODO: maybe ignore with 3\n",
    "    df[\"goodness\"] = df[\"rating\"] > 3\n",
    "    \n",
    "    return df\n",
    "\n",
    "\n",
    "def load_topics(fn_yelp_topics, bids_not_cats=None, filter_cats=None, filter_cat_combis=None):\n",
    "    \"\"\"Load topics (categories).\n",
    "    Optionally filter by giving it a whitelist of allowed categories.\n",
    "    Optionally filter by giving a list of allowed category combinations.\n",
    "    Optionally provide an IN/OUT param ``bids_not_cats`` that accumulates business ids without categories.\"\"\"\n",
    "    inv_bid_cats = dict()\n",
    "    if bids_not_cats is None or not isinstance(bids_not_cats, set):\n",
    "        bids_not_cats = set()\n",
    "    \n",
    "    # load lookup business -> categories\n",
    "    with jsonlines.open(fn_yelp_topics, \"r\") as fp:\n",
    "        for n, entry in enumerate(tqdm(fp)):\n",
    "            business_id = entry.pop(\"business_id\")\n",
    "            categories = entry.pop(\"categories\")\n",
    "\n",
    "            if not categories:\n",
    "                bids_not_cats.add(business_id)\n",
    "                continue\n",
    "\n",
    "            categories = categories.split(\", \")\n",
    "            \n",
    "            if filter_cats:\n",
    "                categories = [c for c in categories if c in filter_cats]\n",
    "                if not categories:\n",
    "                    # bids_not_cats.add(business_id)  # ??\n",
    "                    continue\n",
    "                    \n",
    "            if filter_cat_combis:\n",
    "                # skip if combination is not above threshold (of filter list)\n",
    "                if tuple(sorted(set(categories))) not in filter_cat_combis:\n",
    "                    continue\n",
    "\n",
    "            inv_bid_cats[business_id] = categories\n",
    "    \n",
    "    return inv_bid_cats\n",
    "\n",
    "\n",
    "def filter_min_cat_combis(inv_cat_combis, min_num=30):\n",
    "    \"\"\"Filter category combinations by minimum amount of occurrences in businesses\"\"\"\n",
    "    f_inv_cat_combis = dict()\n",
    "    \n",
    "    for cats, num in inv_cat_combis.items():\n",
    "        if num >= min_num:\n",
    "            f_inv_cat_combis[cats] = num\n",
    "    \n",
    "    return f_inv_cat_combis\n",
    "\n",
    "\n",
    "def make_map_cats(inv_bid_cats):\n",
    "    \"\"\"Make a map from category to business id\"\"\"\n",
    "    inv_cat_bids = dict()\n",
    "\n",
    "    # reverse lookup: category -> businesses\n",
    "    for bid, cats in tqdm(inv_bid_cats.items()):\n",
    "        for cat in cats:\n",
    "            try:\n",
    "                inv_cat_bids[cat].append(bid)\n",
    "            except KeyError:\n",
    "                inv_cat_bids[cat] = [bid]\n",
    "                \n",
    "    return inv_cat_bids\n",
    "\n",
    "\n",
    "def make_cat_combis(inv_bid_cats):\n",
    "    \"\"\"Count amount of each category combination occurring in businesses\"\"\"\n",
    "    inv_cat_combis = Counter()\n",
    "\n",
    "    inv_cat_combis.update(\n",
    "        (tuple(sorted(set(cats))) for cats in tqdm(inv_bid_cats.values())))\n",
    "    \n",
    "    return inv_cat_combis"
   ]
  },
  {
   "cell_type": "markdown",
   "metadata": {},
   "source": [
    "#### Filter reviews according to criteria"
   ]
  },
  {
   "cell_type": "code",
   "execution_count": 42,
   "metadata": {
    "jupyter": {
     "source_hidden": true
    }
   },
   "outputs": [],
   "source": [
    "def filter_min_review_freq(df, min_ratings=5):\n",
    "    \"\"\"Filter review dataframe for a minimum of N of each good and bad ratings.\"\"\"\n",
    "    # filter with at least N ratings per goodness\n",
    "    df_filter = df.groupby([\"id\", \"goodness\"])[[\"id\"]].count() < min_ratings\n",
    "    df_filter = df_filter.rename(columns={\"id\": \"filter\"})\n",
    "    df_filter = df_filter[df_filter[\"filter\"] == True]\n",
    "\n",
    "    # build a filter id list\n",
    "    df_filter_list = df_filter.reset_index()[\"id\"].to_list()\n",
    "\n",
    "    # filter with list\n",
    "    df_filtered = df[~df.id.isin(df_filter_list)]\n",
    "    \n",
    "    return df_filtered\n",
    "\n",
    "\n",
    "def filter_both_good_bad(df):\n",
    "    \"\"\"Filter the dataframe to contain only both good and bad reviews for each business.\n",
    "    Dataframe should be the same if minimum filtering above is done.\"\"\"\n",
    "    # build filter for ids that contain both positive and negative samples\n",
    "    df_filter = df.groupby([\"id\", \"goodness\"], as_index=False).count().groupby(\"id\")[[\"id\"]].count() == 2\n",
    "    df_filter = df_filter.rename(columns={\"id\": \"filter\"})\n",
    "    df_filter = df_filter[df_filter[\"filter\"] == True]\n",
    "\n",
    "    # create list of IDs for which this is true\n",
    "    df_filter_list = df_filter.reset_index()[\"id\"].to_list()\n",
    "\n",
    "    # filter with list\n",
    "    df_filtered = df[df.id.isin(df_filter_list)]\n",
    "\n",
    "    # df_filtered.groupby([\"id\", \"goodness\"]).count()\n",
    "    return df_filtered"
   ]
  },
  {
   "cell_type": "markdown",
   "metadata": {},
   "source": [
    "#### Get topN categories + make Ntuples from category combinations"
   ]
  },
  {
   "cell_type": "code",
   "execution_count": 6,
   "metadata": {
    "jupyter": {
     "source_hidden": true
    }
   },
   "outputs": [],
   "source": [
    "def get_Ntop_cats(inv_cat_bids, n=50):\n",
    "    # get most common cats\n",
    "    f_cat_cnt = Counter({k: len(v) for k, v in inv_cat_bids.items()})\n",
    "    f_cats = {c for c, v in f_cat_cnt.most_common(n)}\n",
    "    return f_cats\n",
    "\n",
    "\n",
    "def make_cat_Ntuples(f_inv_cat_combis, n=2):\n",
    "    f_cat_pairs = Counter()\n",
    "\n",
    "    for cat_group in tqdm(f_inv_cat_combis.keys()):\n",
    "        if len(cat_group) < n:\n",
    "            continue\n",
    "        it = combinations(cat_group, n)\n",
    "        # repeat (#num_businesses) + chain combis\n",
    "        f_cat_pairs.update(it)\n",
    "        \n",
    "    return f_cat_pairs"
   ]
  },
  {
   "cell_type": "markdown",
   "metadata": {},
   "source": [
    "#### Make category graph or NxN map (df + array)"
   ]
  },
  {
   "cell_type": "code",
   "execution_count": 14,
   "metadata": {
    "jupyter": {
     "source_hidden": true
    }
   },
   "outputs": [],
   "source": [
    "def make_graph(f_cat_pairs):\n",
    "    g_from, g_to, g_value = zip(*((k1, k2, n) for (k1, k2), n in tqdm(f_cat_pairs.most_common())))\n",
    "\n",
    "    g_df = pd.DataFrame({\"from\": g_from, \"to\": g_to, \"value\": g_value})\n",
    "    G = nx.from_pandas_edgelist(g_df, \"from\", \"to\", create_using=nx.Graph())\n",
    "    \n",
    "    return G\n",
    "\n",
    "\n",
    "def make_NxN_map(f_cats, f_cat_pairs):\n",
    "    f_cats = list(f_cats)\n",
    "    array = list()\n",
    "    for i, cat1 in enumerate(tqdm(f_cats)):\n",
    "        array_row = list()\n",
    "        for j, cat2 in enumerate(f_cats):\n",
    "            array_row.append(f_cat_pairs.get((cat1, cat2), f_cat_pairs.get((cat2, cat1), 0)))\n",
    "        array.append(array_row)\n",
    "    df_cm = pd.DataFrame(array, index=list(f_cats), columns=list(f_cats))\n",
    "    \n",
    "    # dataframe, NxN array + labels\n",
    "    return df_cm, array, f_cats"
   ]
  },
  {
   "cell_type": "markdown",
   "metadata": {},
   "source": [
    "---"
   ]
  },
  {
   "cell_type": "markdown",
   "metadata": {},
   "source": [
    "## Load reviews and topics (ALL)"
   ]
  },
  {
   "cell_type": "code",
   "execution_count": 8,
   "metadata": {},
   "outputs": [
    {
     "name": "stderr",
     "output_type": "stream",
     "text": [
      "6685900it [00:40, 165791.98it/s]\n"
     ]
    }
   ],
   "source": [
    "fn_yelp_reviews = data_yelp_path / \"review.json\"\n",
    "df = load_reviews(fn_yelp_reviews)"
   ]
  },
  {
   "cell_type": "code",
   "execution_count": 9,
   "metadata": {},
   "outputs": [
    {
     "name": "stderr",
     "output_type": "stream",
     "text": [
      "192609it [00:01, 105847.95it/s]\n",
      "100%|██████████| 192127/192127 [00:00<00:00, 1312819.89it/s]\n"
     ]
    }
   ],
   "source": [
    "fn_yelp_topics = data_yelp_path / \"business.json\"\n",
    "bids_not_cats = set()\n",
    "inv_bid_cats = load_topics(fn_yelp_topics, bids_not_cats=bids_not_cats)\n",
    "\n",
    "inv_cat_bids = make_map_cats(inv_bid_cats)"
   ]
  },
  {
   "cell_type": "code",
   "execution_count": 10,
   "metadata": {
    "ExecuteTime": {
     "end_time": "2020-03-23T11:37:43.683277Z",
     "start_time": "2020-03-23T11:37:43.674745Z"
    }
   },
   "outputs": [
    {
     "name": "stderr",
     "output_type": "stream",
     "text": [
      "100%|██████████| 192127/192127 [00:00<00:00, 789491.05it/s]\n"
     ]
    }
   ],
   "source": [
    "inv_cat_combis = make_cat_combis(inv_bid_cats)"
   ]
  },
  {
   "cell_type": "markdown",
   "metadata": {},
   "source": [
    "---"
   ]
  },
  {
   "cell_type": "markdown",
   "metadata": {},
   "source": [
    "### Filter all reviews - can only contain top50 Topics"
   ]
  },
  {
   "cell_type": "code",
   "execution_count": 11,
   "metadata": {},
   "outputs": [
    {
     "name": "stderr",
     "output_type": "stream",
     "text": [
      "192609it [00:02, 91187.86it/s] \n",
      "100%|██████████| 190798/190798 [00:00<00:00, 2011458.54it/s]\n",
      "100%|██████████| 190798/190798 [00:00<00:00, 1099684.79it/s]\n",
      "100%|██████████| 5366/5366 [00:00<00:00, 361831.38it/s]\n"
     ]
    }
   ],
   "source": [
    "f_cats = get_Ntop_cats(inv_cat_bids, n=50)\n",
    "f_inv_bid_cats = load_topics(fn_yelp_topics, bids_not_cats=None, filter_cats=f_cats)\n",
    "f_inv_cat_bids = make_map_cats(f_inv_bid_cats)\n",
    "f_inv_cat_combis = make_cat_combis(f_inv_bid_cats)\n",
    "f_cat_pairs = make_cat_Ntuples(f_inv_cat_combis, n=2)"
   ]
  },
  {
   "cell_type": "markdown",
   "metadata": {},
   "source": [
    "### Filter with minimum number of category combination occurrences"
   ]
  },
  {
   "cell_type": "code",
   "execution_count": 12,
   "metadata": {},
   "outputs": [
    {
     "name": "stderr",
     "output_type": "stream",
     "text": [
      "192609it [00:02, 87382.19it/s]\n",
      "100%|██████████| 109907/109907 [00:00<00:00, 2122176.25it/s]\n",
      "100%|██████████| 109907/109907 [00:00<00:00, 1314961.35it/s]\n",
      "100%|██████████| 102/102 [00:00<00:00, 424845.09it/s]\n"
     ]
    }
   ],
   "source": [
    "f_cats = get_Ntop_cats(inv_cat_bids, n=50)\n",
    "# f_cats = None\n",
    "\n",
    "avg_num_of_cat_combis = int(sum(list(f_inv_cat_combis.values())) / len(f_inv_cat_combis))\n",
    "fi_inv_cat_combis = filter_min_cat_combis(inv_cat_combis, min_num=30)\n",
    "\n",
    "f2_inv_bid_cats = load_topics(fn_yelp_topics, bids_not_cats=None, filter_cats=f_cats, filter_cat_combis=fi_inv_cat_combis)\n",
    "\n",
    "f2_inv_cat_bids = make_map_cats(f2_inv_bid_cats)\n",
    "f2_inv_cat_combis = make_cat_combis(f2_inv_bid_cats)\n",
    "f2_cat_pairs = make_cat_Ntuples(f2_inv_cat_combis, n=2)"
   ]
  },
  {
   "cell_type": "markdown",
   "metadata": {},
   "source": [
    "### Make NxN map and heatmap it"
   ]
  },
  {
   "cell_type": "code",
   "execution_count": 66,
   "metadata": {},
   "outputs": [
    {
     "name": "stderr",
     "output_type": "stream",
     "text": [
      "100%|██████████| 50/50 [00:00<00:00, 74658.31it/s]\n"
     ]
    }
   ],
   "source": [
    "df_cm, cat_array, cat_labels = make_NxN_map(f_cats, f2_cat_pairs)"
   ]
  },
  {
   "cell_type": "markdown",
   "metadata": {},
   "source": [
    "#### Clustering"
   ]
  },
  {
   "cell_type": "code",
   "execution_count": 67,
   "metadata": {},
   "outputs": [
    {
     "data": {
      "image/png": "[encoded data removed]",
      "text/plain": [
       "<Figure size 720x504 with 2 Axes>"
      ]
     },
     "metadata": {},
     "output_type": "display_data"
    }
   ],
   "source": [
    "plt.figure(figsize = (10, 7))\n",
    "sn.set(font_scale=0.7) # for label size\n",
    "sn.heatmap(df_cm, annot=False, annot_kws={\"size\": 10}) # font size\n",
    "plt.show()"
   ]
  },
  {
   "cell_type": "code",
   "execution_count": 84,
   "metadata": {},
   "outputs": [
    {
     "data": {
      "text/plain": [
       "<seaborn.matrix.ClusterGrid at 0x7f0a7d9f7850>"
      ]
     },
     "execution_count": 84,
     "metadata": {},
     "output_type": "execute_result"
    },
    {
     "data": {
      "text/plain": [
       "<Figure size 1152x1152 with 0 Axes>"
      ]
     },
     "metadata": {},
     "output_type": "display_data"
    },
    {
     "data": {
      "image/png": "[encoded data removed]",
      "text/plain": [
       "<Figure size 720x720 with 4 Axes>"
      ]
     },
     "metadata": {},
     "output_type": "display_data"
    }
   ],
   "source": [
    "plt.figure(figsize = (16, 16))\n",
    "sn.set(font_scale=0.7) # for label size\n",
    "# pal = sn.dark_palette(\"palegreen\", as_cmap=True, reverse=True)\n",
    "pal = sn.color_palette(\"binary\", 10)  # PuBu - BuGn - RdPu - Greys\n",
    "sn.clustermap(df_cm, annot_kws={\"size\": 5}, cmap=pal)  # cmap=\"vlag\") # plt.cm.Blues)"
   ]
  },
  {
   "cell_type": "code",
   "execution_count": 69,
   "metadata": {},
   "outputs": [
    {
     "name": "stderr",
     "output_type": "stream",
     "text": [
      "/disk1/users/ekoerner/miniconda3/envs/argmining19-ssc/lib/python3.7/site-packages/ipykernel_launcher.py:1: ClusterWarning: scipy.cluster: The symmetric non-negative hollow observation matrix looks suspiciously like an uncondensed distance matrix\n",
      "  \"\"\"Entry point for launching an IPython kernel.\n"
     ]
    },
    {
     "data": {
      "image/png": "[encoded data removed]",
      "text/plain": [
       "<Figure size 432x288 with 1 Axes>"
      ]
     },
     "metadata": {},
     "output_type": "display_data"
    }
   ],
   "source": [
    "Z = hierarchy.linkage(df_cm, \"ward\")\n",
    "#hierarchy.set_link_color_palette(['#b30000','#996600', '#b30086'])\n",
    "R = hierarchy.dendrogram(Z, leaf_rotation=90, leaf_font_size=8, labels=df_cm.index)"
   ]
  },
  {
   "cell_type": "code",
   "execution_count": 114,
   "metadata": {},
   "outputs": [
    {
     "data": {
      "image/png": "[encoded data removed]",
      "text/plain": [
       "<Figure size 432x288 with 1 Axes>"
      ]
     },
     "metadata": {},
     "output_type": "display_data"
    }
   ],
   "source": [
    "df_cm2 = ssd.squareform(df_cm)\n",
    "\n",
    "Z = hierarchy.linkage(df_cm2, \"ward\")\n",
    "hierarchy.set_link_color_palette(['#b30000','#996600', '#b30086'])\n",
    "R = hierarchy.dendrogram(Z, leaf_rotation=90, leaf_font_size=8, labels=df_cm.index)"
   ]
  },
  {
   "cell_type": "code",
   "execution_count": null,
   "metadata": {},
   "outputs": [],
   "source": []
  },
  {
   "cell_type": "code",
   "execution_count": 116,
   "metadata": {},
   "outputs": [
    {
     "name": "stdout",
     "output_type": "stream",
     "text": [
      "Group 0:\n",
      "American (Traditional); American (New); Mexican; Education; Hotels & Travel; Bars; Nightlife\n",
      "\n",
      "Group 1:\n",
      "Hair Salons; Skin Care; Hair Removal; Automotive; Nail Salons; Auto Repair; Pets; Beauty & Spas; Pet Services\n",
      "\n",
      "Group 2:\n",
      "Fashion; Shopping; Fitness & Instruction; Active Life; Women's Clothing; Home & Garden; Contractors; Home Services\n",
      "\n",
      "Group 3:\n",
      "General Dentistry; Breakfast & Brunch; Chinese; Doctors; Sandwiches; Real Estate; Burgers; Restaurants; Arts & Entertainment; Event Planning & Services; Pizza; Dentists; Italian; Professional Services; Local Services; Fast Food; Financial Services; Health & Medical\n",
      "\n",
      "Group 4:\n",
      "Specialty Food; Cafes; Coffee & Tea; Ice Cream & Frozen Yogurt; Desserts; Food; Grocery; Bakeries\n",
      "\n"
     ]
    },
    {
     "name": "stderr",
     "output_type": "stream",
     "text": [
      "/disk1/users/ekoerner/miniconda3/envs/argmining19-ssc/lib/python3.7/site-packages/sklearn/manifold/_spectral_embedding.py:236: UserWarning: Graph is not fully connected, spectral embedding may not work as expected.\n",
      "  warnings.warn(\"Graph is not fully connected, spectral embedding\"\n"
     ]
    }
   ],
   "source": [
    "sc = SpectralClustering(5, affinity='precomputed', n_init=100, assign_labels='discretize')\n",
    "cluster_labels = sc.fit_predict(cat_array)\n",
    "\n",
    "# sorted(list(zip(cat_labels, cluster_labels)), key=lambda x: x[1])\n",
    "\n",
    "groups = list()\n",
    "for g, data in groupby(sorted(list(zip(cat_labels, cluster_labels)), key=lambda x: x[1]), key=lambda x: x[1]):\n",
    "    group = [t for t, _ in data]\n",
    "    groups.append(group)\n",
    "\n",
    "    print(f\"Group {g}:\")\n",
    "    print(\"; \".join(group))\n",
    "    print()"
   ]
  },
  {
   "cell_type": "code",
   "execution_count": 23,
   "metadata": {},
   "outputs": [
    {
     "name": "stdout",
     "output_type": "stream",
     "text": [
      "Group 0:\n",
      "Fitness & Instruction; Auto Repair; General Dentistry; Health & Medical; Event Planning & Services; Arts & Entertainment; Pet Services; Education; Automotive; Financial Services; Home Services; Fashion; Women's Clothing; Active Life; Professional Services; Real Estate; Contractors; Hotels & Travel; Shopping; Pets; Home & Garden; Doctors; Local Services; Dentists\n",
      "\n",
      "Group 1:\n",
      "American (New); Bars; Sandwiches; Italian; Cafes; Food; Fast Food; Burgers; Mexican; Nightlife; American (Traditional); Chinese; Breakfast & Brunch; Pizza\n",
      "\n",
      "Group 2:\n",
      "Grocery; Ice Cream & Frozen Yogurt; Restaurants; Bakeries; Desserts; Specialty Food; Coffee & Tea\n",
      "\n",
      "Group 3:\n",
      "Hair Salons; Nail Salons; Skin Care; Hair Removal; Beauty & Spas\n",
      "\n"
     ]
    }
   ],
   "source": [
    "ac = AgglomerativeClustering(4, affinity='euclidean', linkage='ward')\n",
    "csarr = cosine_similarity(cat_array)\n",
    "cluster_labels = ac.fit_predict(csarr)\n",
    "\n",
    "# sorted(list(zip(labels, cluster_labels)), key=lambda x: x[1])\n",
    "\n",
    "groups = list()\n",
    "for g, data in groupby(sorted(list(zip(cat_labels, cluster_labels)), key=lambda x: x[1]), key=lambda x: x[1]):\n",
    "    group = [t for t, _ in data]\n",
    "    groups.append(group)\n",
    "\n",
    "    print(f\"Group {g}:\")\n",
    "    print(\"; \".join(group))\n",
    "    print()"
   ]
  },
  {
   "cell_type": "code",
   "execution_count": 25,
   "metadata": {},
   "outputs": [],
   "source": [
    "# cat_array, \\\n",
    "# linear_kernel(cat_array), \\\n",
    "# cosine_similarity(cat_array), \\\n",
    "# cat_labels"
   ]
  },
  {
   "cell_type": "markdown",
   "metadata": {},
   "source": [
    "### Stats for `cat_labels` in filtered category maps/lists etc."
   ]
  },
  {
   "cell_type": "code",
   "execution_count": 26,
   "metadata": {},
   "outputs": [
    {
     "data": {
      "text/plain": [
       "[('Restaurants', 59371),\n",
       " ('Shopping', 31878),\n",
       " ('Food', 29989),\n",
       " ('Home Services', 19729),\n",
       " ('Beauty & Spas', 19370),\n",
       " ('Health & Medical', 17171),\n",
       " ('Local Services', 13932),\n",
       " ('Automotive', 13203),\n",
       " ('Nightlife', 13095),\n",
       " ('Bars', 11341)]"
      ]
     },
     "execution_count": 26,
     "metadata": {},
     "output_type": "execute_result"
    }
   ],
   "source": [
    "# number of business ids given a specific category\n",
    "sorted([(c, len(f_inv_cat_bids[c])) for c in cat_labels], key=lambda x: x[1], reverse=True)[:10]"
   ]
  },
  {
   "cell_type": "code",
   "execution_count": 28,
   "metadata": {},
   "outputs": [
    {
     "data": {
      "text/plain": [
       "[('Restaurants', 3093),\n",
       " ('Food', 2548),\n",
       " ('Shopping', 1382),\n",
       " ('Event Planning & Services', 1205),\n",
       " ('Nightlife', 1181),\n",
       " ('Bars', 906),\n",
       " ('Arts & Entertainment', 826),\n",
       " ('Breakfast & Brunch', 789),\n",
       " ('American (Traditional)', 767),\n",
       " ('Sandwiches', 751)]"
      ]
     },
     "execution_count": 28,
     "metadata": {},
     "output_type": "execute_result"
    }
   ],
   "source": [
    "# number of category combinations given a specific category\n",
    "sorted([(c, len([cc for cc in f_inv_cat_combis.keys() if c in cc])) for c in cat_labels], key=lambda x: x[1], reverse=True)[:10]"
   ]
  },
  {
   "cell_type": "code",
   "execution_count": 27,
   "metadata": {},
   "outputs": [
    {
     "data": {
      "text/plain": [
       "[('Restaurants', 62),\n",
       " ('Food', 39),\n",
       " ('Fast Food', 15),\n",
       " ('Coffee & Tea', 14),\n",
       " ('Burgers', 13),\n",
       " ('Sandwiches', 12),\n",
       " ('American (Traditional)', 11),\n",
       " ('Breakfast & Brunch', 10),\n",
       " ('Cafes', 9),\n",
       " ('Beauty & Spas', 9)]"
      ]
     },
     "execution_count": 27,
     "metadata": {},
     "output_type": "execute_result"
    }
   ],
   "source": [
    "# number of category combinations given a specific category\n",
    "sorted([(c, len([cc for cc in f2_inv_cat_combis.keys() if c in cc])) for c in cat_labels], key=lambda x: x[1], reverse=True)[:10]"
   ]
  },
  {
   "cell_type": "code",
   "execution_count": 122,
   "metadata": {
    "collapsed": true,
    "jupyter": {
     "outputs_hidden": true
    }
   },
   "outputs": [
    {
     "data": {
      "text/plain": [
       "[('Food',\n",
       "  [('Bakeries', 'Food'),\n",
       "   ('Food', 'Ice Cream & Frozen Yogurt'),\n",
       "   ('Desserts', 'Food'),\n",
       "   ('Fast Food', 'Food'),\n",
       "   ('Food', 'Restaurants'),\n",
       "   ('Cafes', 'Food'),\n",
       "   ('Coffee & Tea', 'Food'),\n",
       "   ('Food', 'Sandwiches'),\n",
       "   ('Food', 'Grocery'),\n",
       "   ('Breakfast & Brunch', 'Food'),\n",
       "   ('Food', 'Specialty Food'),\n",
       "   ('Burgers', 'Food'),\n",
       "   ('Chinese', 'Food'),\n",
       "   ('Food', 'Mexican'),\n",
       "   ('Food', 'Pizza'),\n",
       "   ('Food', 'Italian'),\n",
       "   ('American (New)', 'Food'),\n",
       "   ('American (Traditional)', 'Food')]),\n",
       " ('Restaurants',\n",
       "  [('Italian', 'Restaurants'),\n",
       "   ('Pizza', 'Restaurants'),\n",
       "   ('Chinese', 'Restaurants'),\n",
       "   ('Bars', 'Restaurants'),\n",
       "   ('Nightlife', 'Restaurants'),\n",
       "   ('Fast Food', 'Restaurants'),\n",
       "   ('Food', 'Restaurants'),\n",
       "   ('Ice Cream & Frozen Yogurt', 'Restaurants'),\n",
       "   ('American (Traditional)', 'Restaurants'),\n",
       "   ('Mexican', 'Restaurants'),\n",
       "   ('Breakfast & Brunch', 'Restaurants'),\n",
       "   ('Cafes', 'Restaurants'),\n",
       "   ('Coffee & Tea', 'Restaurants'),\n",
       "   ('Restaurants', 'Sandwiches'),\n",
       "   ('American (New)', 'Restaurants'),\n",
       "   ('Burgers', 'Restaurants'),\n",
       "   ('Bakeries', 'Restaurants')]),\n",
       " ('American (Traditional)',\n",
       "  [('American (Traditional)', 'Restaurants'),\n",
       "   ('American (Traditional)', 'Bars'),\n",
       "   ('American (Traditional)', 'Nightlife'),\n",
       "   ('American (New)', 'American (Traditional)'),\n",
       "   ('American (Traditional)', 'Burgers'),\n",
       "   ('American (Traditional)', 'Breakfast & Brunch'),\n",
       "   ('American (Traditional)', 'Fast Food'),\n",
       "   ('American (Traditional)', 'Food'),\n",
       "   ('American (Traditional)', 'Ice Cream & Frozen Yogurt'),\n",
       "   ('American (Traditional)', 'Cafes'),\n",
       "   ('American (Traditional)', 'Sandwiches')]),\n",
       " ('Fast Food',\n",
       "  [('Fast Food', 'Food'),\n",
       "   ('Fast Food', 'Ice Cream & Frozen Yogurt'),\n",
       "   ('Fast Food', 'Restaurants'),\n",
       "   ('Fast Food', 'Sandwiches'),\n",
       "   ('Burgers', 'Fast Food'),\n",
       "   ('Chinese', 'Fast Food'),\n",
       "   ('Fast Food', 'Mexican'),\n",
       "   ('Coffee & Tea', 'Fast Food'),\n",
       "   ('American (Traditional)', 'Fast Food'),\n",
       "   ('American (New)', 'Fast Food'),\n",
       "   ('Fast Food', 'Pizza')]),\n",
       " ('Sandwiches',\n",
       "  [('Cafes', 'Sandwiches'),\n",
       "   ('Coffee & Tea', 'Sandwiches'),\n",
       "   ('Food', 'Sandwiches'),\n",
       "   ('Restaurants', 'Sandwiches'),\n",
       "   ('Breakfast & Brunch', 'Sandwiches'),\n",
       "   ('Fast Food', 'Sandwiches'),\n",
       "   ('Burgers', 'Sandwiches'),\n",
       "   ('Pizza', 'Sandwiches'),\n",
       "   ('Italian', 'Sandwiches'),\n",
       "   ('American (Traditional)', 'Sandwiches')])]"
      ]
     },
     "execution_count": 122,
     "metadata": {},
     "output_type": "execute_result"
    }
   ],
   "source": [
    "# better with filtering\n",
    "# category pairs for a given category\n",
    "sorted([(c, [cc for cc in f2_cat_pairs.keys() if c in cc]) for c in cat_labels], key=lambda x: len(x[1]), reverse=True)[:5]"
   ]
  },
  {
   "cell_type": "code",
   "execution_count": 40,
   "metadata": {},
   "outputs": [
    {
     "name": "stdout",
     "output_type": "stream",
     "text": [
      "filtered by top50\n",
      " ['Chinese', 'Restaurants', 'Specialty Food', 'Bakeries', 'Bars', 'Mexican', 'Nightlife', 'Fast Food', 'Breakfast & Brunch', 'Coffee & Tea', 'Ice Cream & Frozen Yogurt', 'Desserts', 'Automotive', 'Grocery', 'Beauty & Spas', 'Health & Medical', 'Home & Garden', 'Shopping', 'Cafes', 'Sandwiches', 'Event Planning & Services', 'American (New)', 'Burgers', 'Pizza', 'American (Traditional)', 'Italian', 'Arts & Entertainment', 'Hotels & Travel', 'Home Services', 'Real Estate', 'Active Life', 'Education', 'Fashion', 'Professional Services', 'Local Services', 'Pets', 'Fitness & Instruction', 'Skin Care', 'Dentists', 'General Dentistry', 'Contractors', 'Hair Removal', \"Women's Clothing\", 'Doctors', 'Pet Services', 'Financial Services', 'Hair Salons', 'Auto Repair', 'Nail Salons']\n",
      "\n",
      "filtered by avg amount (+top50)\n",
      " ['Bakeries', 'Ice Cream & Frozen Yogurt', 'Desserts', 'Fast Food', 'Restaurants', 'Cafes', 'Coffee & Tea', 'Sandwiches', 'Grocery', 'Breakfast & Brunch', 'Specialty Food', 'Burgers', 'Chinese', 'Mexican', 'Pizza', 'Italian', 'American (New)', 'American (Traditional)']\n"
     ]
    }
   ],
   "source": [
    "# category pairs for a category:\n",
    "c = \"Food\"\n",
    "\n",
    "print(\"filtered by top50\\n\", [c1 if c1 != c else c2 for c1, c2 in [cc for cc in f_cat_pairs.keys() if c in cc]])\n",
    "print()\n",
    "print(\"filtered by avg amount (+top50)\\n\", [c1 if c1 != c else c2 for c1, c2 in [cc for cc in f2_cat_pairs.keys() if c in cc]])"
   ]
  },
  {
   "cell_type": "code",
   "execution_count": 41,
   "metadata": {},
   "outputs": [
    {
     "data": {
      "text/plain": [
       "1823"
      ]
     },
     "execution_count": 41,
     "metadata": {},
     "output_type": "execute_result"
    }
   ],
   "source": [
    "f2_inv_cat_combis[(\"Food\",)]  # businesses with only this category ... (filtering should not affect this value)"
   ]
  },
  {
   "cell_type": "code",
   "execution_count": 57,
   "metadata": {
    "collapsed": true,
    "jupyter": {
     "outputs_hidden": true
    }
   },
   "outputs": [
    {
     "data": {
      "text/plain": [
       "Counter({('Restaurants',): 11387,\n",
       "         ('Local Services',): 4443,\n",
       "         ('Beauty & Spas', 'Hair Salons'): 3903,\n",
       "         ('Beauty & Spas', 'Nail Salons'): 2376,\n",
       "         ('Italian', 'Pizza', 'Restaurants'): 1163,\n",
       "         ('Bakeries', 'Food'): 706,\n",
       "         ('Active Life', 'Fitness & Instruction'): 2703,\n",
       "         ('Italian', 'Restaurants'): 1182,\n",
       "         ('Arts & Entertainment',): 1393,\n",
       "         ('Fashion', 'Shopping', \"Women's Clothing\"): 2413,\n",
       "         ('Fashion', 'Shopping'): 3057,\n",
       "         ('Auto Repair', 'Automotive'): 5536,\n",
       "         ('Food', 'Ice Cream & Frozen Yogurt'): 978,\n",
       "         ('Beauty & Spas',): 2441,\n",
       "         ('Doctors', 'Health & Medical'): 4413,\n",
       "         ('Chinese', 'Restaurants'): 3214,\n",
       "         ('Desserts', 'Food', 'Ice Cream & Frozen Yogurt'): 377,\n",
       "         ('Dentists', 'Health & Medical'): 670,\n",
       "         ('Home & Garden', 'Shopping'): 2324,\n",
       "         ('Bakeries', 'Desserts', 'Food'): 302,\n",
       "         ('Health & Medical',): 3011,\n",
       "         ('Shopping',): 6661,\n",
       "         ('Bars', 'Nightlife', 'Restaurants'): 1520,\n",
       "         ('Dentists', 'General Dentistry', 'Health & Medical'): 2565,\n",
       "         ('Fast Food',\n",
       "          'Food',\n",
       "          'Ice Cream & Frozen Yogurt',\n",
       "          'Restaurants'): 124,\n",
       "         ('Beauty & Spas', 'Hair Salons', 'Nail Salons'): 565,\n",
       "         ('American (Traditional)', 'Restaurants'): 1162,\n",
       "         ('Professional Services',): 1559,\n",
       "         ('Mexican', 'Restaurants'): 2292,\n",
       "         ('Food',): 1823,\n",
       "         ('American (Traditional)', 'Bars', 'Nightlife', 'Restaurants'): 1067,\n",
       "         ('Breakfast & Brunch', 'Restaurants'): 815,\n",
       "         ('Cafes', 'Coffee & Tea', 'Food', 'Restaurants', 'Sandwiches'): 66,\n",
       "         ('Nightlife',): 354,\n",
       "         ('Coffee & Tea', 'Food'): 2423,\n",
       "         ('Contractors', 'Home Services'): 1663,\n",
       "         ('Cafes', 'Food', 'Restaurants'): 115,\n",
       "         ('American (New)', 'Bars', 'Nightlife', 'Restaurants'): 564,\n",
       "         ('Restaurants', 'Sandwiches'): 1154,\n",
       "         ('Pizza', 'Restaurants'): 2436,\n",
       "         ('Food', 'Grocery'): 1163,\n",
       "         ('Breakfast & Brunch',\n",
       "          'Coffee & Tea',\n",
       "          'Food',\n",
       "          'Restaurants',\n",
       "          'Sandwiches'): 116,\n",
       "         ('Food', 'Specialty Food'): 1032,\n",
       "         ('Fast Food', 'Restaurants', 'Sandwiches'): 1151,\n",
       "         ('Beauty & Spas', 'Hair Removal'): 372,\n",
       "         ('Burgers', 'Restaurants'): 682,\n",
       "         ('Burgers', 'Fast Food', 'Restaurants', 'Sandwiches'): 76,\n",
       "         ('Pet Services', 'Pets'): 2468,\n",
       "         ('Breakfast & Brunch', 'Coffee & Tea', 'Food', 'Restaurants'): 217,\n",
       "         ('Burgers', 'Food', 'Restaurants'): 99,\n",
       "         ('Bars', 'Nightlife'): 2015,\n",
       "         ('Food', 'Grocery', 'Specialty Food'): 401,\n",
       "         ('Pizza', 'Restaurants', 'Sandwiches'): 315,\n",
       "         ('Burgers', 'Fast Food', 'Restaurants'): 1046,\n",
       "         ('Beauty & Spas', 'Skin Care'): 345,\n",
       "         ('Italian', 'Pizza', 'Restaurants', 'Sandwiches'): 238,\n",
       "         ('Burgers', 'Fast Food', 'Food', 'Restaurants'): 65,\n",
       "         ('Bakeries', 'Cafes', 'Coffee & Tea', 'Food', 'Restaurants'): 66,\n",
       "         ('American (New)',\n",
       "          'American (Traditional)',\n",
       "          'Bars',\n",
       "          'Nightlife',\n",
       "          'Restaurants'): 244,\n",
       "         ('Fast Food', 'Restaurants'): 990,\n",
       "         ('Fast Food', 'Food', 'Restaurants', 'Sandwiches'): 165,\n",
       "         ('Beauty & Spas', 'Hair Removal', 'Nail Salons'): 731,\n",
       "         ('Chinese', 'Fast Food', 'Restaurants'): 245,\n",
       "         ('Bakeries', 'Coffee & Tea', 'Food'): 233,\n",
       "         ('American (Traditional)', 'Burgers', 'Restaurants'): 184,\n",
       "         ('American (New)', 'Breakfast & Brunch', 'Restaurants'): 120,\n",
       "         ('Bakeries', 'Food', 'Restaurants'): 333,\n",
       "         ('Bakeries', 'Cafes', 'Food', 'Restaurants'): 93,\n",
       "         ('Coffee & Tea', 'Food', 'Restaurants'): 364,\n",
       "         ('Chinese', 'Food', 'Restaurants'): 224,\n",
       "         ('American (New)', 'Restaurants'): 870,\n",
       "         ('Fast Food', 'Mexican', 'Restaurants'): 727,\n",
       "         ('Breakfast & Brunch', 'Restaurants', 'Sandwiches'): 149,\n",
       "         ('Breakfast & Brunch',\n",
       "          'Cafes',\n",
       "          'Coffee & Tea',\n",
       "          'Food',\n",
       "          'Restaurants'): 94,\n",
       "         ('American (Traditional)', 'Breakfast & Brunch', 'Restaurants'): 351,\n",
       "         ('Beauty & Spas', 'Hair Removal', 'Skin Care'): 574,\n",
       "         ('Bars', 'Mexican', 'Nightlife', 'Restaurants'): 226,\n",
       "         ('Coffee & Tea', 'Desserts', 'Food'): 105,\n",
       "         ('American (New)', 'American (Traditional)', 'Restaurants'): 133,\n",
       "         ('Cafes', 'Coffee & Tea', 'Food', 'Restaurants'): 475,\n",
       "         ('Food', 'Mexican', 'Restaurants'): 252,\n",
       "         ('Desserts', 'Food'): 204,\n",
       "         ('Food', 'Pizza', 'Restaurants'): 254,\n",
       "         ('Food', 'Restaurants', 'Sandwiches'): 251,\n",
       "         ('Burgers', 'Coffee & Tea', 'Fast Food', 'Food', 'Restaurants'): 521,\n",
       "         ('American (New)',\n",
       "          'American (Traditional)',\n",
       "          'Breakfast & Brunch',\n",
       "          'Burgers',\n",
       "          'Restaurants'): 69,\n",
       "         ('Food', 'Italian', 'Pizza', 'Restaurants'): 182,\n",
       "         ('American (Traditional)',\n",
       "          'Burgers',\n",
       "          'Fast Food',\n",
       "          'Restaurants'): 135,\n",
       "         ('Beauty & Spas', 'Hair Salons', 'Nail Salons', 'Skin Care'): 173,\n",
       "         ('American (New)', 'Food', 'Restaurants'): 118,\n",
       "         ('American (Traditional)',\n",
       "          'Burgers',\n",
       "          'Fast Food',\n",
       "          'Food',\n",
       "          'Ice Cream & Frozen Yogurt',\n",
       "          'Restaurants'): 56,\n",
       "         ('Cafes', 'Restaurants'): 388,\n",
       "         ('Burgers',\n",
       "          'Fast Food',\n",
       "          'Food',\n",
       "          'Ice Cream & Frozen Yogurt',\n",
       "          'Restaurants'): 97,\n",
       "         ('Coffee & Tea', 'Food', 'Restaurants', 'Sandwiches'): 163,\n",
       "         ('Bakeries', 'Coffee & Tea', 'Desserts', 'Food'): 86,\n",
       "         ('American (Traditional)',\n",
       "          'Breakfast & Brunch',\n",
       "          'Cafes',\n",
       "          'Restaurants'): 61,\n",
       "         ('American (New)', 'Burgers', 'Fast Food', 'Restaurants'): 50,\n",
       "         ('American (Traditional)',\n",
       "          'Burgers',\n",
       "          'Restaurants',\n",
       "          'Sandwiches'): 62,\n",
       "         ('Food', 'Italian', 'Restaurants'): 67,\n",
       "         ('Fast Food', 'Pizza', 'Restaurants'): 142,\n",
       "         ('Breakfast & Brunch', 'Cafes', 'Restaurants'): 91,\n",
       "         ('Coffee & Tea',\n",
       "          'Desserts',\n",
       "          'Food',\n",
       "          'Ice Cream & Frozen Yogurt'): 68})"
      ]
     },
     "execution_count": 57,
     "metadata": {},
     "output_type": "execute_result"
    }
   ],
   "source": [
    "f2_inv_cat_combis\n"
   ]
  },
  {
   "cell_type": "code",
   "execution_count": 43,
   "metadata": {},
   "outputs": [],
   "source": [
    "inv_bid_cats = f2_inv_bid_cats\n",
    "inv_cat_bids = f2_inv_cat_bids\n",
    "inv_cat_combis = f2_inv_cat_combis\n",
    "cat_pairs = f2_cat_pairs"
   ]
  },
  {
   "cell_type": "code",
   "execution_count": 63,
   "metadata": {},
   "outputs": [
    {
     "data": {
      "text/plain": [
       "217045"
      ]
     },
     "execution_count": 63,
     "metadata": {},
     "output_type": "execute_result"
    }
   ],
   "source": [
    "sum([len(b) for a, b in f2_inv_cat_bids.items()])"
   ]
  },
  {
   "cell_type": "code",
   "execution_count": 64,
   "metadata": {},
   "outputs": [
    {
     "name": "stderr",
     "output_type": "stream",
     "text": [
      "192609it [00:01, 100045.55it/s]\n"
     ]
    },
    {
     "data": {
      "text/plain": [
       "217045"
      ]
     },
     "execution_count": 64,
     "metadata": {},
     "output_type": "execute_result"
    }
   ],
   "source": [
    "inv_bid_cats = load_topics(fn_yelp_topics)\n",
    "sum([len(b) for a, b in inv_cat_bids.items()])"
   ]
  },
  {
   "cell_type": "code",
   "execution_count": null,
   "metadata": {},
   "outputs": [],
   "source": [
    "https://www.yelp.com/developers/documentation/v3/all_category_list"
   ]
  },
  {
   "cell_type": "code",
   "execution_count": 72,
   "metadata": {},
   "outputs": [
    {
     "data": {
      "text/plain": [
       "102"
      ]
     },
     "execution_count": 72,
     "metadata": {},
     "output_type": "execute_result"
    }
   ],
   "source": [
    "len(f2_inv_cat_combis)  # number of category combinations"
   ]
  },
  {
   "cell_type": "markdown",
   "metadata": {},
   "source": [
    "---"
   ]
  },
  {
   "cell_type": "markdown",
   "metadata": {},
   "source": [
    "#### Statistics"
   ]
  },
  {
   "cell_type": "code",
   "execution_count": 44,
   "metadata": {
    "ExecuteTime": {
     "end_time": "2020-03-23T11:40:21.843012Z",
     "start_time": "2020-03-23T11:40:21.840312Z"
    }
   },
   "outputs": [
    {
     "name": "stdout",
     "output_type": "stream",
     "text": [
      "Number of businesses with categories: 109907\n",
      "                  without categories:    482\n",
      "Number of categories: len(inv_cat_bids) = 45\n"
     ]
    }
   ],
   "source": [
    "print(f\"Number of businesses with categories: {len(inv_bid_cats):>6}\")\n",
    "print(f\"                  without categories: {len(bids_not_cats):>6}\")\n",
    "print(f\"Number of categories: len(inv_cat_bids) = {len(inv_cat_bids)}\")"
   ]
  },
  {
   "cell_type": "code",
   "execution_count": 45,
   "metadata": {
    "ExecuteTime": {
     "end_time": "2020-03-23T11:45:37.171561Z",
     "start_time": "2020-03-23T11:45:37.155441Z"
    },
    "collapsed": true,
    "jupyter": {
     "outputs_hidden": true
    }
   },
   "outputs": [
    {
     "data": {
      "text/plain": [
       "[(('Restaurants',), 11387),\n",
       " (('Shopping',), 6661),\n",
       " (('Auto Repair', 'Automotive'), 5536),\n",
       " (('Local Services',), 4443),\n",
       " (('Doctors', 'Health & Medical'), 4413),\n",
       " (('Beauty & Spas', 'Hair Salons'), 3903),\n",
       " (('Chinese', 'Restaurants'), 3214),\n",
       " (('Fashion', 'Shopping'), 3057),\n",
       " (('Health & Medical',), 3011),\n",
       " (('Active Life', 'Fitness & Instruction'), 2703),\n",
       " (('Dentists', 'General Dentistry', 'Health & Medical'), 2565),\n",
       " (('Pet Services', 'Pets'), 2468),\n",
       " (('Beauty & Spas',), 2441),\n",
       " (('Pizza', 'Restaurants'), 2436),\n",
       " (('Coffee & Tea', 'Food'), 2423),\n",
       " (('Fashion', 'Shopping', \"Women's Clothing\"), 2413),\n",
       " (('Beauty & Spas', 'Nail Salons'), 2376),\n",
       " (('Home & Garden', 'Shopping'), 2324),\n",
       " (('Mexican', 'Restaurants'), 2292),\n",
       " (('Bars', 'Nightlife'), 2015)]"
      ]
     },
     "execution_count": 45,
     "metadata": {},
     "output_type": "execute_result"
    }
   ],
   "source": [
    "inv_cat_combis.most_common(20)"
   ]
  },
  {
   "cell_type": "code",
   "execution_count": 46,
   "metadata": {
    "ExecuteTime": {
     "end_time": "2020-03-23T11:48:13.063858Z",
     "start_time": "2020-03-23T11:48:13.059391Z"
    }
   },
   "outputs": [
    {
     "data": {
      "text/plain": [
       "[('Restaurants', 41278),\n",
       " ('Food', 14478),\n",
       " ('Shopping', 14455),\n",
       " ('Beauty & Spas', 11480),\n",
       " ('Health & Medical', 10659),\n",
       " ('Nightlife', 5990),\n",
       " ('Bars', 5636),\n",
       " ('Fast Food', 5590),\n",
       " ('Automotive', 5536),\n",
       " ('Auto Repair', 5536),\n",
       " ('Fashion', 5470),\n",
       " ('Coffee & Tea', 4997),\n",
       " ('Pizza', 4730),\n",
       " ('Hair Salons', 4641),\n",
       " ('Local Services', 4443),\n",
       " ('Doctors', 4413),\n",
       " ('Sandwiches', 3906),\n",
       " ('Nail Salons', 3845),\n",
       " ('Chinese', 3683),\n",
       " ('American (Traditional)', 3524)]"
      ]
     },
     "execution_count": 46,
     "metadata": {},
     "output_type": "execute_result"
    }
   ],
   "source": [
    "# count single categories\n",
    "cnt = Counter({k: len(v) for k, v in inv_cat_bids.items()})\n",
    "cnt.most_common(20)"
   ]
  },
  {
   "cell_type": "code",
   "execution_count": 47,
   "metadata": {
    "ExecuteTime": {
     "end_time": "2020-03-23T11:50:50.619657Z",
     "start_time": "2020-03-23T11:50:50.233350Z"
    }
   },
   "outputs": [
    {
     "name": "stderr",
     "output_type": "stream",
     "text": [
      "100%|██████████| 109907/109907 [00:00<00:00, 1455353.97it/s]\n",
      "100%|██████████| 45/45 [00:00<00:00, 242913.36it/s]\n"
     ]
    }
   ],
   "source": [
    "# Check for subgraphs naive\n",
    "\n",
    "## build mapping for occurrence of each categories with other categories\n",
    "map_cat_cats = dict()\n",
    "\n",
    "for cats in tqdm(inv_bid_cats.values()):\n",
    "    for cat in cats:\n",
    "        try:\n",
    "            map_cat_cats[cat].update(cats)\n",
    "        except KeyError:\n",
    "            map_cat_cats[cat] = set(cats)\n",
    "\n",
    "cnt_cat_cats = Counter({cat: len(cats) for cat, cats in tqdm(map_cat_cats.items())})\n",
    "            \n",
    "set_all_cats = set(map_cat_cats.keys())"
   ]
  },
  {
   "cell_type": "code",
   "execution_count": 48,
   "metadata": {
    "ExecuteTime": {
     "end_time": "2020-03-23T11:53:29.415696Z",
     "start_time": "2020-03-23T11:53:29.412023Z"
    },
    "collapsed": true,
    "jupyter": {
     "outputs_hidden": true
    }
   },
   "outputs": [
    {
     "name": "stdout",
     "output_type": "stream",
     "text": [
      "Number of all cats: 45\n"
     ]
    },
    {
     "data": {
      "text/plain": [
       "[('Food', 19),\n",
       " ('Restaurants', 18),\n",
       " ('Fast Food', 12),\n",
       " ('American (Traditional)', 12),\n",
       " ('Sandwiches', 11),\n",
       " ('Coffee & Tea', 11),\n",
       " ('Burgers', 10),\n",
       " ('Breakfast & Brunch', 9),\n",
       " ('American (New)', 9),\n",
       " ('Ice Cream & Frozen Yogurt', 8),\n",
       " ('Cafes', 8),\n",
       " ('Pizza', 6),\n",
       " ('Bakeries', 6),\n",
       " ('Nightlife', 6),\n",
       " ('Bars', 6),\n",
       " ('Mexican', 6),\n",
       " ('Beauty & Spas', 5),\n",
       " ('Nail Salons', 5),\n",
       " ('Italian', 5),\n",
       " ('Desserts', 5)]"
      ]
     },
     "execution_count": 48,
     "metadata": {},
     "output_type": "execute_result"
    }
   ],
   "source": [
    "print(f\"Number of all cats: {len(set_all_cats)}\")\n",
    "cnt_cat_cats.most_common(20)"
   ]
  },
  {
   "cell_type": "markdown",
   "metadata": {},
   "source": [
    "##### search for smallest any-connected subgraph ?\n",
    "\n",
    "merge all groups of related categories to find any two groups that are fully distinct over n edges"
   ]
  },
  {
   "cell_type": "code",
   "execution_count": 49,
   "metadata": {
    "ExecuteTime": {
     "end_time": "2020-03-23T11:56:06.906898Z",
     "start_time": "2020-03-23T11:56:06.860847Z"
    },
    "code_folding": [
     6,
     12,
     20,
     45,
     46,
     57,
     89
    ],
    "jupyter": {
     "source_hidden": true
    }
   },
   "outputs": [
    {
     "name": "stdout",
     "output_type": "stream",
     "text": [
      "new group?: Food\n",
      "new group?: Beauty & Spas\n",
      "new group?: Shopping\n",
      "new group?: Health & Medical\n",
      "new group?: Fitness & Instruction\n",
      "new group?: Automotive\n",
      "new group?: Home Services\n",
      "new group?: Pet Services\n",
      "new group?: Local Services\n",
      "new group?: Arts & Entertainment\n",
      "new group?: Professional Services\n"
     ]
    }
   ],
   "source": [
    "## Try to compute distinct sub groups of categories\n",
    "inv_cat_group_id = dict()  # Dict[str, int]\n",
    "lst_cat_subgroups = list()  # List[List[str]]  # TODO: better Dict[int, Set[str]]\n",
    "\n",
    "def _has_related_cat_in_group_already(cat):\n",
    "    for rcat in map_cat_cats[cat]:\n",
    "        if rcat in inv_cat_group_id:\n",
    "            return True\n",
    "    return False\n",
    "\n",
    "def _find_related_cat_groups(cat):\n",
    "    rcat_groups = list()\n",
    "    for rcat in map_cat_cats[cat]:\n",
    "        gid = inv_cat_group_id.get(rcat, None)\n",
    "        if gid is not None:\n",
    "            rcat_groups.append((rcat, gid))\n",
    "    return rcat_groups\n",
    "\n",
    "def _trim_group_ids():\n",
    "    # search for empty groups (None or empty set)\n",
    "    lst_shifting = list()\n",
    "    for n, ele in enumerate(lst_cat_subgroups):\n",
    "        if not ele:\n",
    "            lst_shifting.append(n)\n",
    "\n",
    "    if not lst_shifting:\n",
    "        return\n",
    "\n",
    "    # move larger current groups over empty groups with lower id\n",
    "    for cat, old_gid in inv_cat_group_id.items():\n",
    "        new_gid = old_gid\n",
    "        for n in lst_shifting:\n",
    "            if n < new_gid:\n",
    "                # empty group before current group id,\n",
    "                # reduce current group id (--> skip empty group)\n",
    "                new_gid -= 1\n",
    "        # update on change (check should not really matter)\n",
    "        if new_gid != old_gid:\n",
    "            inv_cat_group_id[cat] = new_gid\n",
    "\n",
    "    for n in reversed(lst_shifting):\n",
    "        del lst_cat_subgroups[n]\n",
    "\n",
    "def _merge_related_cat_groups(cat, target_gid=None):\n",
    "    if target_gid is None:\n",
    "        # find first best gid\n",
    "        # (a) check category\n",
    "        target_gid = inv_cat_group_id.get(cat, None)\n",
    "        # (b) check related categories\n",
    "        if target_gid is None:\n",
    "            for rcat in map_cat_cats[cat]:\n",
    "                target_gid = inv_cat_group_id.get(rcat, None)\n",
    "                if target_gid is not None:\n",
    "                    break\n",
    "\n",
    "    if target_gid is None:\n",
    "        print(f\"No category to merge for {cat}!\")\n",
    "        return\n",
    "\n",
    "    # search for different group ids in related categories of cat\n",
    "    set_old_gid = set()\n",
    "    for rcat in map_cat_cats[cat]:\n",
    "        other_gid = inv_cat_group_id.get(rcat, None)\n",
    "        if other_gid is not None and other_gid != target_gid:\n",
    "            set_old_gid.add(other_gid)\n",
    "\n",
    "    # add non group related categories to target group\n",
    "    for rcat in map_cat_cats[cat]:\n",
    "        if rcat not in inv_cat_group_id:\n",
    "            inv_cat_group_id[rcat] = target_gid\n",
    "            lst_cat_subgroups[target_gid].add(rcat)\n",
    "\n",
    "    # rewrite other group ids to target group id\n",
    "    if not set_old_gid:\n",
    "        return\n",
    "\n",
    "    # rewrite inverse cat-gid mapping, empty old groups\n",
    "    for old_gid in set_old_gid:\n",
    "        old_rcats = lst_cat_subgroups[old_gid]\n",
    "        for old_rcat in old_rcats:\n",
    "            inv_cat_group_id[old_rcat] = target_gid\n",
    "        lst_cat_subgroups[old_gid] = None\n",
    "\n",
    "    _trim_group_ids()\n",
    "\n",
    "# -----\n",
    "            \n",
    "for cat, _ in cnt_cat_cats.most_common(None):\n",
    "    if cat in inv_cat_group_id:\n",
    "        # an existing group has this category already\n",
    "        # merge groups from related categories together\n",
    "        # additionally add new elements to target group (merged group)\n",
    "        _merge_related_cat_groups(cat)\n",
    "        _trim_group_ids()\n",
    "    else:\n",
    "        # new group possible\n",
    "        print(f\"new group?: {cat}\")\n",
    "        if not _has_related_cat_in_group_already(cat):\n",
    "            # open new group\n",
    "            gid = len(lst_cat_subgroups)\n",
    "            rcats = map_cat_cats[cat]\n",
    "            lst_cat_subgroups.append(set(rcats))\n",
    "            for icat in rcats:\n",
    "                inv_cat_group_id[icat] = gid\n",
    "        else:\n",
    "            # merge groups\n",
    "            _merge_related_cat_groups(cat)\n",
    "            _trim_group_ids()"
   ]
  },
  {
   "cell_type": "code",
   "execution_count": 50,
   "metadata": {
    "ExecuteTime": {
     "end_time": "2020-03-23T11:58:45.779369Z",
     "start_time": "2020-03-23T11:58:45.775854Z"
    }
   },
   "outputs": [
    {
     "name": "stdout",
     "output_type": "stream",
     "text": [
      "Number of distinct groups: 11\n",
      "Number of elements in first group: 21\n",
      "Number of all categories: 45\n"
     ]
    }
   ],
   "source": [
    "print(f\"Number of distinct groups: {len(lst_cat_subgroups)}\")\n",
    "print(f\"Number of elements in first group: {len(lst_cat_subgroups[0])}\")\n",
    "print(f\"Number of all categories: {len(set_all_cats)}\")"
   ]
  },
  {
   "cell_type": "code",
   "execution_count": 51,
   "metadata": {},
   "outputs": [
    {
     "data": {
      "text/plain": [
       "[{'American (New)',\n",
       "  'American (Traditional)',\n",
       "  'Bakeries',\n",
       "  'Bars',\n",
       "  'Breakfast & Brunch',\n",
       "  'Burgers',\n",
       "  'Cafes',\n",
       "  'Chinese',\n",
       "  'Coffee & Tea',\n",
       "  'Desserts',\n",
       "  'Fast Food',\n",
       "  'Food',\n",
       "  'Grocery',\n",
       "  'Ice Cream & Frozen Yogurt',\n",
       "  'Italian',\n",
       "  'Mexican',\n",
       "  'Nightlife',\n",
       "  'Pizza',\n",
       "  'Restaurants',\n",
       "  'Sandwiches',\n",
       "  'Specialty Food'},\n",
       " {'Beauty & Spas', 'Hair Removal', 'Hair Salons', 'Nail Salons', 'Skin Care'},\n",
       " {'Fashion', 'Home & Garden', 'Shopping', \"Women's Clothing\"},\n",
       " {'Dentists', 'Doctors', 'General Dentistry', 'Health & Medical'},\n",
       " {'Active Life', 'Fitness & Instruction'},\n",
       " {'Auto Repair', 'Automotive'},\n",
       " {'Contractors', 'Home Services'},\n",
       " {'Pet Services', 'Pets'},\n",
       " {'Local Services'},\n",
       " {'Arts & Entertainment'},\n",
       " {'Professional Services'}]"
      ]
     },
     "execution_count": 51,
     "metadata": {},
     "output_type": "execute_result"
    }
   ],
   "source": [
    "lst_cat_subgroups"
   ]
  },
  {
   "cell_type": "markdown",
   "metadata": {},
   "source": [
    "##### search for main groups \n",
    "\n",
    "groups can share related categories but can no directly appear together:  \n",
    "`{A, b} - {C, b}` -- ok, `C` and `A` are not together but share related elements  \n",
    "`{A, b, C} - {C, b}` -- not ok, as `C` is with `A`"
   ]
  },
  {
   "cell_type": "code",
   "execution_count": 52,
   "metadata": {
    "ExecuteTime": {
     "end_time": "2020-03-23T12:01:24.333138Z",
     "start_time": "2020-03-23T12:01:24.318420Z"
    },
    "jupyter": {
     "source_hidden": true
    }
   },
   "outputs": [],
   "source": [
    "lst_cat_dist_candidates = [cat for cat, _ in cnt_cat_cats.most_common(None)]\n",
    "# TODO: maybe random shuffle of candidates?\n",
    "set_cats_distinct = set()\n",
    "\n",
    "# lst_cat_dist_candidates.pop(0)\n",
    "\n",
    "while lst_cat_dist_candidates:\n",
    "    cat = lst_cat_dist_candidates.pop(0)\n",
    "    set_cats_distinct.add(cat)\n",
    "\n",
    "    # remove directly related categories, i.e. categories that appear together\n",
    "    # TODO: maybe compute frequency of co-occurrence of categories and make a cut-off???\n",
    "    for rcat in map_cat_cats[cat]:\n",
    "        try:\n",
    "            lst_cat_dist_candidates.remove(rcat)\n",
    "        except ValueError:\n",
    "            # element not in list anymore\n",
    "            pass"
   ]
  },
  {
   "cell_type": "code",
   "execution_count": 53,
   "metadata": {
    "ExecuteTime": {
     "end_time": "2020-03-23T12:04:02.059617Z",
     "start_time": "2020-03-23T12:04:02.055025Z"
    },
    "jupyter": {
     "source_hidden": true
    }
   },
   "outputs": [
    {
     "name": "stdout",
     "output_type": "stream",
     "text": [
      "Number of distinct categories (starting from the largest): 12\n"
     ]
    },
    {
     "data": {
      "text/plain": [
       "[('Food', 19),\n",
       " ('Nightlife', 6),\n",
       " ('Beauty & Spas', 5),\n",
       " ('Shopping', 4),\n",
       " ('Health & Medical', 4),\n",
       " ('Fitness & Instruction', 2),\n",
       " ('Automotive', 2),\n",
       " ('Home Services', 2),\n",
       " ('Pet Services', 2),\n",
       " ('Local Services', 1),\n",
       " ('Arts & Entertainment', 1),\n",
       " ('Professional Services', 1)]"
      ]
     },
     "execution_count": 53,
     "metadata": {},
     "output_type": "execute_result"
    }
   ],
   "source": [
    "print(\n",
    "    f\"Number of distinct categories (starting from the largest): {len(set_cats_distinct)}\"\n",
    ")\n",
    "cnt_dist_cats = Counter({\n",
    "    cat: cnt\n",
    "    for cat, cnt in cnt_cat_cats.most_common(None) if cat in set_cats_distinct\n",
    "})\n",
    "cnt_dist_cats.most_common(20)"
   ]
  },
  {
   "cell_type": "markdown",
   "metadata": {},
   "source": [
    "maybe start with any element / or with random sorting (shuffled) N times and select the minimum length result or with the best mean/avg value?"
   ]
  },
  {
   "cell_type": "markdown",
   "metadata": {},
   "source": [
    "##### search for distinct groups but just with no element intersection"
   ]
  },
  {
   "cell_type": "code",
   "execution_count": 55,
   "metadata": {
    "ExecuteTime": {
     "end_time": "2020-03-23T12:06:39.011899Z",
     "start_time": "2020-03-23T12:06:38.992076Z"
    },
    "jupyter": {
     "source_hidden": true
    }
   },
   "outputs": [],
   "source": [
    "lst_cat_dist_candidates = [cat for cat, _ in cnt_cat_cats.most_common(None)]\n",
    "# TODO: maybe random shuffle of candidates?\n",
    "set_cats_distinct = set()\n",
    "\n",
    "# [lst_cat_dist_candidates.pop(0) for _ in range(1)]\n",
    "\n",
    "while lst_cat_dist_candidates:\n",
    "    cat = lst_cat_dist_candidates.pop(0)\n",
    "    set_cats_distinct.add(cat)\n",
    "\n",
    "    # remove directly related categories, i.e. categories that appear together\n",
    "    # TODO: maybe compute frequency of co-occurrence of categories and make a cut-off???\n",
    "    for rcat in map_cat_cats[cat]:\n",
    "        try:\n",
    "            lst_cat_dist_candidates.remove(rcat)\n",
    "        except ValueError:\n",
    "            # element not in list anymore\n",
    "            pass\n",
    "\n",
    "    # remove categories that contain a shared related category\n",
    "    for rcat in map_cat_cats[cat]:\n",
    "        # for all current related categories\n",
    "        # check any of the remaining categories\n",
    "        for ocat in list(lst_cat_dist_candidates):\n",
    "            # that they contain not any related category as our current one\n",
    "            if rcat in set(map_cat_cats[ocat]):\n",
    "                lst_cat_dist_candidates.remove(ocat)"
   ]
  },
  {
   "cell_type": "code",
   "execution_count": 56,
   "metadata": {
    "ExecuteTime": {
     "end_time": "2020-03-23T12:20:22.801134Z",
     "start_time": "2020-03-23T12:20:22.791620Z"
    },
    "jupyter": {
     "source_hidden": true
    }
   },
   "outputs": [
    {
     "name": "stdout",
     "output_type": "stream",
     "text": [
      "Number of distinct categories (starting from the largest): 11\n"
     ]
    },
    {
     "data": {
      "text/plain": [
       "[('Food', 19),\n",
       " ('Beauty & Spas', 5),\n",
       " ('Shopping', 4),\n",
       " ('Health & Medical', 4),\n",
       " ('Fitness & Instruction', 2),\n",
       " ('Automotive', 2),\n",
       " ('Home Services', 2),\n",
       " ('Pet Services', 2),\n",
       " ('Local Services', 1),\n",
       " ('Arts & Entertainment', 1),\n",
       " ('Professional Services', 1)]"
      ]
     },
     "execution_count": 56,
     "metadata": {},
     "output_type": "execute_result"
    }
   ],
   "source": [
    "print(\n",
    "    f\"Number of distinct categories (starting from the largest): {len(set_cats_distinct)}\"\n",
    ")\n",
    "cnt_dist_cats = Counter({\n",
    "    cat: cnt\n",
    "    for cat, cnt in cnt_cat_cats.most_common(None) if cat in set_cats_distinct\n",
    "})\n",
    "cnt_dist_cats.most_common(20)"
   ]
  },
  {
   "cell_type": "markdown",
   "metadata": {},
   "source": [
    "#### Test / Playground"
   ]
  },
  {
   "cell_type": "code",
   "execution_count": null,
   "metadata": {},
   "outputs": [],
   "source": [
    "# exceprt\n",
    "df  # .count()"
   ]
  },
  {
   "cell_type": "code",
   "execution_count": null,
   "metadata": {},
   "outputs": [],
   "source": [
    "# ratings info\n",
    "df.describe()"
   ]
  },
  {
   "cell_type": "code",
   "execution_count": null,
   "metadata": {},
   "outputs": [],
   "source": [
    "# how many reviews per business (id)\n",
    "df.groupby(\"id\").count()[[\"rating\"]].describe()"
   ]
  },
  {
   "cell_type": "code",
   "execution_count": null,
   "metadata": {},
   "outputs": [],
   "source": [
    "# def fn_goodness(row):\n",
    "#     row[\"good\"] = True if row[\"rating\"].value >= 2.5 else False\n",
    "#     return row\n",
    "\n",
    "# try:\n",
    "#     df = df.progress_apply(fn_goodness, axis=1)\n",
    "# except AttributeError:\n",
    "#     df = df.apply(fn_goodness)\n",
    "\n",
    "# set good if more than 3 in rating\n",
    "df[\"goodness\"] = df[\"rating\"] > 3"
   ]
  },
  {
   "cell_type": "code",
   "execution_count": null,
   "metadata": {},
   "outputs": [],
   "source": [
    "df.groupby([\"goodness\", \"id\"]).count()"
   ]
  },
  {
   "cell_type": "code",
   "execution_count": null,
   "metadata": {},
   "outputs": [],
   "source": [
    "# select only those that have more than N reviews\n",
    "df.groupby([\"id\", \"goodness\"])[[\"id\"]].count() > 3"
   ]
  },
  {
   "cell_type": "code",
   "execution_count": null,
   "metadata": {},
   "outputs": [],
   "source": [
    "# select only those IDs that contain both pos + negative reviews\n",
    "df.groupby([\"id\", \"goodness\"], as_index=False).count().groupby(\"id\")[[\"id\"]].count() == 2"
   ]
  },
  {
   "cell_type": "code",
   "execution_count": null,
   "metadata": {},
   "outputs": [],
   "source": [
    "len(df), len(df[df[\"rating\"] == 3])"
   ]
  },
  {
   "cell_type": "code",
   "execution_count": null,
   "metadata": {},
   "outputs": [],
   "source": [
    "inv_bid_cats[list(inv_bid_cats.keys())[0]]"
   ]
  },
  {
   "cell_type": "code",
   "execution_count": null,
   "metadata": {
    "ExecuteTime": {
     "end_time": "2020-03-23T12:23:03.390943Z",
     "start_time": "2020-03-23T12:23:00.726693Z"
    }
   },
   "outputs": [],
   "source": [
    "df.groupby([\"rating\"], ).count()[[\"id\"]]"
   ]
  },
  {
   "cell_type": "markdown",
   "metadata": {},
   "source": [
    "#### Filter reviews with at least N ratings"
   ]
  },
  {
   "cell_type": "code",
   "execution_count": null,
   "metadata": {},
   "outputs": [],
   "source": [
    "# min ratings per class (good|bad)\n",
    "min_ratings = 5\n",
    "\n",
    "df = filter_min_review_freq(df, min_ratings=5)"
   ]
  },
  {
   "cell_type": "markdown",
   "metadata": {},
   "source": [
    "#### Filter only reviews with both good and bad rating"
   ]
  },
  {
   "cell_type": "code",
   "execution_count": null,
   "metadata": {},
   "outputs": [],
   "source": [
    "df = filter_both_good_bad(df)"
   ]
  },
  {
   "cell_type": "markdown",
   "metadata": {},
   "source": [
    "#### Make pairs"
   ]
  },
  {
   "cell_type": "markdown",
   "metadata": {},
   "source": [
    "**TODO:**\n",
    "\n",
    "- check similar length -- what strategy to use to combine similar length pairs best?\n",
    "- flip sides (arg1 <-> arg2)\n",
    "- make more pairs (?) -- but keep same ratio of same-sentiment vs. not-same-sentiment (different-sentiment) ??\n",
    "- group by categories (topics) -- more explicit training (uniqueness of single arguments / topic structures)\n",
    "- evaluate on same-argument (S3C) - or amazon reviews\n",
    "- compute mean/avg sequence length\n",
    "- fixed layers in fine-tuning\n",
    "- visualization of trained layers and activation for good / bad inputs"
   ]
  },
  {
   "cell_type": "markdown",
   "metadata": {},
   "source": [
    "##### Positive + negative same-sentiment pairs"
   ]
  },
  {
   "cell_type": "code",
   "execution_count": null,
   "metadata": {},
   "outputs": [],
   "source": [
    "num_pairs_per_class = 2\n",
    "# N positive + N negative\n",
    "# --> 2N pos+neg (not same-sentiment)\n",
    "\n",
    "# TODO: randomness for positive ss / negative ss - sum is equal / or sum equal compared to not ss"
   ]
  },
  {
   "cell_type": "code",
   "execution_count": null,
   "metadata": {
    "code_folding": [
     19,
     35
    ],
    "jupyter": {
     "source_hidden": true
    }
   },
   "outputs": [],
   "source": [
    "def make_pairs_good_bad(df, num_pairs_per_class=2):\n",
    "    pairs_good = list()\n",
    "    pairs_bad = list()\n",
    "\n",
    "    for id_, group in tqdm(df.groupby(\"id\")):\n",
    "        grouper = group.groupby(\"goodness\")\n",
    "        reviews_good = grouper.get_group(True)\n",
    "        reviews_bad = grouper.get_group(False)\n",
    "\n",
    "        # TESTING\n",
    "        # print(\"id:\", id_)\n",
    "        # print(\"#good:\", len(reviews_good))\n",
    "        # print(\"#bad:\", len(reviews_bad))\n",
    "        # print(group)\n",
    "        # break\n",
    "\n",
    "        # make pairings -- good ss\n",
    "        rg_idx = reviews_good.index.values\n",
    "        # print(\"pos_idx:\", rg_idx)\n",
    "        rg_idx_sel = np.random.choice(rg_idx, 2 * num_pairs_per_class, replace=False)\n",
    "        for id1, id2 in zip(rg_idx_sel[::2], rg_idx_sel[1::2]):\n",
    "            # print(\"pair:\", id1, id2)\n",
    "            r1, r2 = df.loc[id1], df.loc[id2]\n",
    "            pair = {\n",
    "                \"argument1\": r1[\"text\"], \"argument2\": r2[\"text\"],\n",
    "                \"argument1_id\": f\"\"\"{r1[\"id\"]}|{r1[\"rid\"]}\"\"\", \"argument2_id\": f\"\"\"{r2[\"id\"]}|{r2[\"rid\"]}\"\"\",\n",
    "                \"is_same_side\": True, \"is_good_side\": True,\n",
    "                \"topic\": inv_bid_cats.get(r1[\"id\"], None)\n",
    "            }\n",
    "            # print(pair)\n",
    "            pairs_good.append(pair)\n",
    "\n",
    "        # make pairings -- bad ss\n",
    "        rb_idx = reviews_bad.index.values\n",
    "        # print(\"neg_idx:\", rb_idx)\n",
    "        rb_idx_sel = np.random.choice(rb_idx, 2 * num_pairs_per_class, replace=False)\n",
    "        for id1, id2 in zip(rb_idx_sel[::2], rb_idx_sel[1::2]):\n",
    "            r1, r2 = df.loc[id1], df.loc[id2]\n",
    "            pair = {\n",
    "                \"argument1\": r1[\"text\"], \"argument2\": r2[\"text\"],\n",
    "                \"argument1_id\": f\"\"\"{r1[\"id\"]}|{r1[\"rid\"]}\"\"\", \"argument2_id\": f\"\"\"{r2[\"id\"]}|{r2[\"rid\"]}\"\"\",\n",
    "                \"is_same_side\": True, \"is_good_side\": False,\n",
    "                \"topic\": inv_bid_cats.get(r1[\"id\"], None)\n",
    "            }\n",
    "            pairs_bad.append(pair)\n",
    "\n",
    "        # break\n",
    "        \n",
    "    return pairs_good, pairs_bad"
   ]
  },
  {
   "cell_type": "code",
   "execution_count": null,
   "metadata": {},
   "outputs": [],
   "source": [
    "pairs_good, pairs_bad = make_pairs_good_bad(df, num_pairs_per_class=2)\n",
    "\n",
    "print(\"#ss (pos)\", len(pairs_good))\n",
    "print(\"#ss (neg)\", len(pairs_bad))"
   ]
  },
  {
   "cell_type": "markdown",
   "metadata": {},
   "source": [
    "##### not same-sentiment pairs (combinations positive + negative)"
   ]
  },
  {
   "cell_type": "code",
   "execution_count": null,
   "metadata": {},
   "outputs": [],
   "source": [
    "#: number of negative same-sentiment samples same as positive same-sentiment samples\n",
    "num_pairs_negative = 2 * num_pairs_per_class\n",
    "\n",
    "#: whether for a single side (good or bad) there can be multiple occurrences of the same review\n",
    "#: may need to check afterwared that not by chance same pairing happens ...\n",
    "repeatable_on_side = False"
   ]
  },
  {
   "cell_type": "code",
   "execution_count": null,
   "metadata": {
    "code_folding": [
     16,
     28
    ],
    "jupyter": {
     "source_hidden": true
    }
   },
   "outputs": [],
   "source": [
    "def make_pairs_negative(df, num_pairs_negative, repeatable_on_side=False):\n",
    "    pairs_not_ss = list()\n",
    "\n",
    "    for id_, group in tqdm(df.groupby(\"id\")):\n",
    "        grouper = group.groupby(\"goodness\")\n",
    "        reviews_good = grouper.get_group(True)\n",
    "        reviews_bad = grouper.get_group(False)\n",
    "\n",
    "        # find indices for reviews per business\n",
    "        rg_idx = reviews_good.index.values\n",
    "        rb_idx = reviews_bad.index.values\n",
    "\n",
    "        # randomly select from each side\n",
    "        rg_idx_sel = np.random.choice(rg_idx, num_pairs_negative, replace=repeatable_on_side)\n",
    "        rb_idx_sel = np.random.choice(rb_idx, num_pairs_negative, replace=repeatable_on_side)\n",
    "\n",
    "        # pair them together -- good-bad pairs\n",
    "        for idg, idb in zip(rg_idx_sel[::2], rb_idx_sel[::2]):\n",
    "            rg, rb = df.loc[idg], df.loc[idb]\n",
    "            pair = {\n",
    "                \"argument1\": rg[\"text\"], \"argument2\": rb[\"text\"],\n",
    "                \"argument1_id\": f\"\"\"{rg[\"id\"]}|{rg[\"rid\"]}\"\"\", \"argument2_id\": f\"\"\"{rb[\"id\"]}|{rb[\"rid\"]}\"\"\",\n",
    "                \"is_same_side\": False, \"is_good_side\": None,\n",
    "                \"topic\": inv_bid_cats.get(rg[\"id\"], None)\n",
    "            }\n",
    "            # print(pair)\n",
    "            pairs_not_ss.append(pair)\n",
    "\n",
    "        # bad-good pairs\n",
    "        for idb, idg in zip(rb_idx_sel[1::2], rg_idx_sel[1::2]):\n",
    "            rb, rg = df.loc[idb], df.loc[idg]\n",
    "            pair = {\n",
    "                \"argument1\": rb[\"text\"], \"argument2\": rg[\"text\"],\n",
    "                \"argument1_id\": f\"\"\"{rb[\"id\"]}|{rb[\"rid\"]}\"\"\", \"argument2_id\": f\"\"\"{rg[\"id\"]}|{rg[\"rid\"]}\"\"\",\n",
    "                \"is_same_side\": False, \"is_good_side\": None,\n",
    "                \"topic\": inv_bid_cats.get(rb[\"id\"], None)\n",
    "            }\n",
    "            # print(pair)\n",
    "            pairs_not_ss.append(pair)\n",
    "            \n",
    "    return pairs_not_ss"
   ]
  },
  {
   "cell_type": "code",
   "execution_count": null,
   "metadata": {},
   "outputs": [],
   "source": [
    "pairs_not_ss = make_pairs_negative(df, num_pairs_negative, repeatable_on_side=False)\n",
    "\n",
    "print(\"#nss\", len(pairs_not_ss))"
   ]
  },
  {
   "cell_type": "markdown",
   "metadata": {},
   "source": [
    "##### dataframe for training etc."
   ]
  },
  {
   "cell_type": "code",
   "execution_count": null,
   "metadata": {},
   "outputs": [],
   "source": [
    "def make_or_load_pairs(df, fn_yelp_df, num_pairs_per_class=2):\n",
    "    if os.path.exists(fn_yelp_df):\n",
    "        with open(fn_yelp_df, \"rb\") as fp:\n",
    "            all_df = pickle.load(fp)\n",
    "        return all_df\n",
    "    \n",
    "    pairs_good, pairs_bad = make_pairs_good_bad(df, num_pairs_per_class=2)\n",
    "    print(\"#ss (pos)\", len(pairs_good))\n",
    "    print(\"#ss (neg)\", len(pairs_bad))\n",
    "    \n",
    "    num_pairs_negative = 2 * num_pairs_per_class\n",
    "    pairs_not_ss = make_pairs_negative(df, num_pairs_negative, repeatable_on_side=False)\n",
    "    print(\"#nss\", len(pairs_not_ss))\n",
    "    \n",
    "    pairs_all = pairs_good + pairs_bad + pairs_not_ss\n",
    "    print(\"#~ss\", len(pairs_all))\n",
    "    \n",
    "    np.random.shuffle(pairs_all)\n",
    "    df_traindev = pd.DataFrame.from_dict(pairs_all)\n",
    "    \n",
    "    with open(fn_yelp_df, \"wb\") as fp:\n",
    "        pickle.dump(df_traindev, fp, protocol=pickle.HIGHEST_PROTOCOL)\n",
    "        \n",
    "    return df_traindev"
   ]
  },
  {
   "cell_type": "code",
   "execution_count": null,
   "metadata": {},
   "outputs": [],
   "source": [
    "pairs_all = pairs_good + pairs_bad + pairs_not_ss\n",
    "print(\"#~ss\", len(pairs_all))\n",
    "\n",
    "# print(pairs_all[0][\"argument1_id\"])\n",
    "np.random.shuffle(pairs_all)\n",
    "# print(pairs_all[0][\"argument1_id\"])\n",
    "\n",
    "df_traindev = pd.DataFrame.from_dict(pairs_all)"
   ]
  },
  {
   "cell_type": "code",
   "execution_count": null,
   "metadata": {},
   "outputs": [],
   "source": [
    "fn_yelp_df = data_yelp_path / \"df_traindev.p\"\n",
    "\n",
    "with open(fn_yelp_df, \"wb\") as fp:\n",
    "    pickle.dump(df_traindev, fp, protocol=pickle.HIGHEST_PROTOCOL)"
   ]
  },
  {
   "cell_type": "markdown",
   "metadata": {},
   "source": [
    "---"
   ]
  },
  {
   "cell_type": "markdown",
   "metadata": {},
   "source": [
    "#### Reloading for training"
   ]
  },
  {
   "cell_type": "code",
   "execution_count": null,
   "metadata": {},
   "outputs": [],
   "source": [
    "data_yelp_path = Path(\"/home/ekoerner/same-side-classification/data/sentiment/yelp/\")\n",
    "fn_yelp_df = data_yelp_path / \"df_traindev.p\"\n",
    "\n",
    "with open(fn_yelp_df, \"rb\") as fp:\n",
    "    all_df = pickle.load(fp)"
   ]
  },
  {
   "cell_type": "code",
   "execution_count": null,
   "metadata": {},
   "outputs": [],
   "source": [
    "def _add_dummy_tag(row):\n",
    "    row[\"tag\"] = \"NA\"\n",
    "    return row\n",
    "\n",
    "# all_df = all_df.progress_apply(_add_dummy_tag, axis=1)\n",
    "all_df[\"tag\"] = \"NA\""
   ]
  },
  {
   "cell_type": "code",
   "execution_count": null,
   "metadata": {},
   "outputs": [],
   "source": [
    "num = len(all_df)\n",
    "ratio = 0.3\n",
    "idx_ratio = int(num * (1.0 - ratio))\n",
    "print(f\"traindev: [0:{idx_ratio}], test: [{idx_ratio}:{num}], ratio: {ratio}\")\n",
    "\n",
    "traindev_df = all_df.iloc[:idx_ratio]\n",
    "test_df = all_df.iloc[idx_ratio:]"
   ]
  },
  {
   "cell_type": "code",
   "execution_count": null,
   "metadata": {},
   "outputs": [],
   "source": [
    "# len(traindev_df), len(test_df)"
   ]
  },
  {
   "cell_type": "code",
   "execution_count": null,
   "metadata": {},
   "outputs": [],
   "source": []
  },
  {
   "cell_type": "code",
   "execution_count": null,
   "metadata": {},
   "outputs": [],
   "source": []
  },
  {
   "cell_type": "code",
   "execution_count": null,
   "metadata": {},
   "outputs": [],
   "source": []
  },
  {
   "cell_type": "code",
   "execution_count": null,
   "metadata": {},
   "outputs": [],
   "source": []
  }
 ],
 "metadata": {
  "kernelspec": {
   "display_name": "Python 3",
   "language": "python",
   "name": "python3"
  },
  "language_info": {
   "codemirror_mode": {
    "name": "ipython",
    "version": 3
   },
   "file_extension": ".py",
   "mimetype": "text/x-python",
   "name": "python",
   "nbconvert_exporter": "python",
   "pygments_lexer": "ipython3",
   "version": "3.7.7"
  },
  "varInspector": {
   "cols": {
    "lenName": 16,
    "lenType": 16,
    "lenVar": 40
   },
   "kernels_config": {
    "python": {
     "delete_cmd_postfix": "",
     "delete_cmd_prefix": "del ",
     "library": "var_list.py",
     "varRefreshCmd": "print(var_dic_list())"
    },
    "r": {
     "delete_cmd_postfix": ") ",
     "delete_cmd_prefix": "rm(",
     "library": "var_list.r",
     "varRefreshCmd": "cat(var_dic_list()) "
    }
   },
   "types_to_exclude": [
    "module",
    "function",
    "builtin_function_or_method",
    "instance",
    "_Feature"
   ],
   "window_display": false
  }
 },
 "nbformat": 4,
 "nbformat_minor": 4
}
