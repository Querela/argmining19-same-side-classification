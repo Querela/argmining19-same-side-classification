{
 "cells": [
  {
   "cell_type": "markdown",
   "metadata": {},
   "source": [
    "# Datasets (Sentiment)"
   ]
  },
  {
   "cell_type": "markdown",
   "metadata": {},
   "source": [
    "## Yelp\n",
    "\n",
    "- https://www.yelp.com/dataset/documentation/main"
   ]
  },
  {
   "cell_type": "code",
   "execution_count": null,
   "metadata": {},
   "outputs": [],
   "source": [
    "! pip install jsonlines"
   ]
  },
  {
   "cell_type": "code",
   "execution_count": 31,
   "metadata": {
    "ExecuteTime": {
     "end_time": "2020-03-23T11:31:24.066172Z",
     "start_time": "2020-03-23T11:31:23.599690Z"
    },
    "collapsed": true,
    "jupyter": {
     "outputs_hidden": true
    }
   },
   "outputs": [
    {
     "data": {
      "text/plain": [
       "[]"
      ]
     },
     "execution_count": 31,
     "metadata": {},
     "output_type": "execute_result"
    },
    {
     "data": {
      "image/png": "[encoded data removed]",
      "text/plain": [
       "<Figure size 432x288 with 1 Axes>"
      ]
     },
     "metadata": {
      "needs_background": "light"
     },
     "output_type": "display_data"
    }
   ],
   "source": [
    "import os\n",
    "import random\n",
    "import pickle\n",
    "from collections import Counter\n",
    "from itertools import combinations\n",
    "from pathlib import Path\n",
    "\n",
    "import jsonlines\n",
    "import matplotlib.pyplot as plt\n",
    "import numpy as np\n",
    "import pandas as pd\n",
    "import seaborn as sn\n",
    "from IPython.display import set_matplotlib_formats\n",
    "from tqdm import tqdm\n",
    "\n",
    "random.seed(42)\n",
    "np.random.seed(42)\n",
    "\n",
    "tqdm.pandas()\n",
    "\n",
    "%matplotlib inline\n",
    "plt.rcParams.update({\"font.size\": 25, \"font.weight\": \"bold\"})\n",
    "# https://stackoverflow.com/questions/36622237/jupyter-notebook-inline-plots-as-svg\n",
    "# set_matplotlib_formats(\"svg\")  # glitches it\n",
    "plt.plot()"
   ]
  },
  {
   "cell_type": "code",
   "execution_count": 4,
   "metadata": {},
   "outputs": [],
   "source": [
    "from utils_data import init_random\n",
    "init_random()"
   ]
  },
  {
   "cell_type": "code",
   "execution_count": 13,
   "metadata": {
    "ExecuteTime": {
     "end_time": "2020-03-23T11:31:29.183647Z",
     "start_time": "2020-03-23T11:31:29.180361Z"
    }
   },
   "outputs": [],
   "source": [
    "# download + scp to cuda + extract\n",
    "data_yelp_path = Path(\"/disk1/users/ekoerner/argmining19-same-side-classification/data/sentiment/yelp/\")"
   ]
  },
  {
   "cell_type": "code",
   "execution_count": 22,
   "metadata": {
    "ExecuteTime": {
     "end_time": "2020-03-23T11:35:05.825431Z",
     "start_time": "2020-03-23T11:35:02.981079Z"
    },
    "jupyter": {
     "source_hidden": true
    }
   },
   "outputs": [],
   "source": [
    "def load_reviews(fn_yelp_reviews):\n",
    "    data = list()\n",
    "\n",
    "    with jsonlines.open(fn_yelp_reviews, \"r\") as fp:\n",
    "        for n, entry in enumerate(tqdm(fp)):\n",
    "            # print(entry)\n",
    "            # break\n",
    "            business_id = entry.pop(\"business_id\")\n",
    "            review_id = entry.pop(\"review_id\")\n",
    "            text = entry.pop(\"text\", \"\")\n",
    "            rating = entry.pop(\"stars\", 0.0)\n",
    "            data.append({\"id\": business_id, \"rid\": review_id, \"text\": text, \"rating\": rating})\n",
    "            # TESTING\n",
    "            # if n > 10000:\n",
    "            #     break\n",
    "\n",
    "    df = pd.DataFrame.from_dict(data)\n",
    "    \n",
    "    # Add goodness value\n",
    "    # TODO: maybe ignore with 3\n",
    "    df[\"goodness\"] = df[\"rating\"] > 3\n",
    "    \n",
    "    return df\n",
    "\n",
    "\n",
    "def load_topics(fn_yelp_topics, bids_not_cats=None, filter_cats=None):\n",
    "    inv_bid_cats = dict()\n",
    "    if bids_not_cats is None or not isinstance(bids_not_cats, set):\n",
    "        bids_not_cats = set()\n",
    "    \n",
    "    # load lookup business -> categories\n",
    "    with jsonlines.open(fn_yelp_topics, \"r\") as fp:\n",
    "        for n, entry in enumerate(tqdm(fp)):\n",
    "            business_id = entry.pop(\"business_id\")\n",
    "            categories = entry.pop(\"categories\")\n",
    "\n",
    "            if not categories:\n",
    "                bids_not_cats.add(business_id)\n",
    "                continue\n",
    "\n",
    "            categories = categories.split(\", \")\n",
    "            \n",
    "            if filter_cats:\n",
    "                categories = [c for c in categories if c in filter_cats]\n",
    "                if not categories:\n",
    "                    # bids_not_cats.add(business_id)  # ??\n",
    "                    continue\n",
    "\n",
    "            inv_bid_cats[business_id] = categories\n",
    "    \n",
    "    return inv_bid_cats\n",
    "\n",
    "\n",
    "def make_map_cats(inv_bid_cats):\n",
    "    inv_cat_bids = dict()\n",
    "\n",
    "    # reverse lookup: category -> businesses\n",
    "    for bid, cats in tqdm(inv_bid_cats.items()):\n",
    "        for cat in cats:\n",
    "            try:\n",
    "                inv_cat_bids[cat].append(bid)\n",
    "            except KeyError:\n",
    "                inv_cat_bids[cat] = [bid]\n",
    "                \n",
    "    return inv_cat_bids\n",
    "\n",
    "\n",
    "def make_cat_combis(inv_bid_cats):\n",
    "    inv_cat_combis = Counter()\n",
    "\n",
    "    inv_cat_combis.update(\n",
    "        (tuple(sorted(set(cats))) for cats in tqdm(inv_bid_cats.values())))\n",
    "    \n",
    "    return inv_cat_combis"
   ]
  },
  {
   "cell_type": "code",
   "execution_count": 15,
   "metadata": {
    "jupyter": {
     "source_hidden": true
    }
   },
   "outputs": [],
   "source": [
    "def filter_min_review_freq(df, min_ratings=5):\n",
    "    # filter with at least N ratings per goodness\n",
    "    df_filter = df.groupby([\"id\", \"goodness\"])[[\"id\"]].count() < min_ratings\n",
    "    df_filter = df_filter.rename(columns={\"id\": \"filter\"})\n",
    "    df_filter = df_filter[df_filter[\"filter\"] == True]\n",
    "\n",
    "    # build a filter id list\n",
    "    df_filter_list = df_filter.reset_index()[\"id\"].to_list()\n",
    "\n",
    "    # filter with list\n",
    "    df_filtered = df[~df.id.isin(df_filter_list)]\n",
    "    \n",
    "    return df_filtered\n",
    "\n",
    "\n",
    "def filter_both_good_bad(df):\n",
    "    # build filter for ids that contain both positive and negative samples\n",
    "    df_filter = df.groupby([\"id\", \"goodness\"], as_index=False).count().groupby(\"id\")[[\"id\"]].count() == 2\n",
    "    df_filter = df_filter.rename(columns={\"id\": \"filter\"})\n",
    "    df_filter = df_filter[df_filter[\"filter\"] == True]\n",
    "\n",
    "    # create list of IDs for which this is true\n",
    "    df_filter_list = df_filter.reset_index()[\"id\"].to_list()\n",
    "\n",
    "    # filter with list\n",
    "    df_filtered = df[df.id.isin(df_filter_list)]\n",
    "\n",
    "    # df_filtered.groupby([\"id\", \"goodness\"]).count()\n",
    "    return df_filtered"
   ]
  },
  {
   "cell_type": "code",
   "execution_count": 25,
   "metadata": {
    "jupyter": {
     "source_hidden": true
    }
   },
   "outputs": [],
   "source": [
    "def get_Ntop_cats(inv_cat_bids, n=50):\n",
    "    # get most common cats\n",
    "    f_cat_cnt = Counter({k: len(v) for k, v in inv_cat_bids.items()})\n",
    "    f_cats = {c for c, v in f_cat_cnt.most_common(n)}\n",
    "    return f_cats\n",
    "\n",
    "\n",
    "def make_cat_Ntuples(f_inv_cat_combis, n=2):\n",
    "    f_cat_pairs = Counter()\n",
    "\n",
    "    for cat_group in tqdm(f_inv_cat_combis.keys()):\n",
    "        if len(cat_group) < n:\n",
    "            continue\n",
    "        it = combinations(cat_group, n)\n",
    "        # repeat (#num_businesses) + chain combis\n",
    "        f_cat_pairs.update(it)\n",
    "        \n",
    "    return f_cat_pairs"
   ]
  },
  {
   "cell_type": "code",
   "execution_count": 28,
   "metadata": {
    "jupyter": {
     "source_hidden": true
    }
   },
   "outputs": [],
   "source": [
    "def make_graph(f_cat_pairs):\n",
    "    g_from, g_to, g_value = zip(*((k1, k2, n) for (k1, k2), n in tqdm(f_cat_pairs.most_common())))\n",
    "\n",
    "    g_df = pd.DataFrame({\"from\": g_from, \"to\": g_to, \"value\": g_value})\n",
    "    G = nx.from_pandas_edgelist(g_df, \"from\", \"to\", create_using=nx.Graph())\n",
    "    \n",
    "    return G\n",
    "\n",
    "\n",
    "def make_NxN_map(f_cats, f_cat_pairs):\n",
    "    f_cats = list(f_cats)\n",
    "    array = list()\n",
    "    for i, cat1 in enumerate(tqdm(f_cats)):\n",
    "        array_row = list()\n",
    "        for j, cat2 in enumerate(f_cats):\n",
    "            array_row.append(f_cat_pairs.get((cat1, cat2), f_cat_pairs.get((cat2, cat1), 0)))\n",
    "        array.append(array_row)\n",
    "    df_cm = pd.DataFrame(array, index=list(f_cats), columns=list(f_cats))\n",
    "    \n",
    "    return df_cm, array"
   ]
  },
  {
   "cell_type": "markdown",
   "metadata": {},
   "source": [
    "---"
   ]
  },
  {
   "cell_type": "code",
   "execution_count": 16,
   "metadata": {},
   "outputs": [
    {
     "name": "stderr",
     "output_type": "stream",
     "text": [
      "6685900it [00:41, 160089.83it/s]\n"
     ]
    }
   ],
   "source": [
    "fn_yelp_reviews = data_yelp_path / \"review.json\"\n",
    "df = load_reviews(fn_yelp_reviews)"
   ]
  },
  {
   "cell_type": "code",
   "execution_count": 18,
   "metadata": {},
   "outputs": [
    {
     "name": "stderr",
     "output_type": "stream",
     "text": [
      "192609it [00:02, 84935.26it/s] \n",
      "100%|██████████| 192127/192127 [00:00<00:00, 1273534.34it/s]\n"
     ]
    }
   ],
   "source": [
    "fn_yelp_topics = data_yelp_path / \"business.json\"\n",
    "bids_not_cats = set()\n",
    "inv_bid_cats = load_topics(fn_yelp_topics, bids_not_cats=bids_not_cats)\n",
    "\n",
    "inv_cat_bids = make_map_cats(inv_bid_cats)"
   ]
  },
  {
   "cell_type": "code",
   "execution_count": 19,
   "metadata": {
    "ExecuteTime": {
     "end_time": "2020-03-23T11:37:43.683277Z",
     "start_time": "2020-03-23T11:37:43.674745Z"
    }
   },
   "outputs": [
    {
     "name": "stderr",
     "output_type": "stream",
     "text": [
      "100%|██████████| 192127/192127 [00:00<00:00, 857734.56it/s]\n"
     ]
    }
   ],
   "source": [
    "inv_cat_combis = make_cat_combis(inv_bid_cats)"
   ]
  },
  {
   "cell_type": "markdown",
   "metadata": {},
   "source": [
    "---"
   ]
  },
  {
   "cell_type": "code",
   "execution_count": 27,
   "metadata": {},
   "outputs": [
    {
     "name": "stderr",
     "output_type": "stream",
     "text": [
      "192609it [00:02, 85149.07it/s] \n",
      "100%|██████████| 190798/190798 [00:00<00:00, 2022868.07it/s]\n",
      "100%|██████████| 190798/190798 [00:00<00:00, 1078710.09it/s]\n",
      "100%|██████████| 5366/5366 [00:00<00:00, 366497.89it/s]\n"
     ]
    }
   ],
   "source": [
    "f_cats = get_Ntop_cats(inv_cat_bids, n=50)\n",
    "f_inv_bid_cats = load_topics(fn_yelp_topics, bids_not_cats=None, filter_cats=f_cats)\n",
    "f_inv_cat_bids = make_map_cats(f_inv_bid_cats)\n",
    "f_inv_cat_combis = make_cat_combis(f_inv_bid_cats)\n",
    "f_cat_pairs = make_cat_Ntuples(f_inv_cat_combis, n=2)"
   ]
  },
  {
   "cell_type": "code",
   "execution_count": 29,
   "metadata": {},
   "outputs": [
    {
     "name": "stderr",
     "output_type": "stream",
     "text": [
      "100%|██████████| 50/50 [00:00<00:00, 51425.99it/s]\n"
     ]
    }
   ],
   "source": [
    "df_cm, array = make_NxN_map(f_cats, f_cat_pairs)"
   ]
  },
  {
   "cell_type": "markdown",
   "metadata": {},
   "source": [
    "#### Clustering"
   ]
  },
  {
   "cell_type": "code",
   "execution_count": 65,
   "metadata": {},
   "outputs": [
    {
     "data": {
      "image/png": "[encoded data removed]",
      "text/plain": [
       "<Figure size 720x504 with 2 Axes>"
      ]
     },
     "metadata": {},
     "output_type": "display_data"
    }
   ],
   "source": [
    "plt.figure(figsize = (10, 7))\n",
    "sn.set(font_scale=0.7) # for label size\n",
    "sn.heatmap(df_cm, annot=False, annot_kws={\"size\": 10}) # font size\n",
    "plt.show()"
   ]
  },
  {
   "cell_type": "code",
   "execution_count": 66,
   "metadata": {},
   "outputs": [
    {
     "name": "stderr",
     "output_type": "stream",
     "text": [
      "/disk1/users/ekoerner/miniconda3/envs/argmining19-ssc/lib/python3.7/site-packages/seaborn/matrix.py:595: ClusterWarning: scipy.cluster: The symmetric non-negative hollow observation matrix looks suspiciously like an uncondensed distance matrix\n",
      "  metric=self.metric)\n"
     ]
    },
    {
     "data": {
      "text/plain": [
       "<seaborn.matrix.ClusterGrid at 0x7f0283b61c90>"
      ]
     },
     "execution_count": 66,
     "metadata": {},
     "output_type": "execute_result"
    },
    {
     "data": {
      "text/plain": [
       "<Figure size 1152x1152 with 0 Axes>"
      ]
     },
     "metadata": {},
     "output_type": "display_data"
    },
    {
     "data": {
      "image/png": "[encoded data removed]",
      "text/plain": [
       "<Figure size 720x720 with 4 Axes>"
      ]
     },
     "metadata": {},
     "output_type": "display_data"
    }
   ],
   "source": [
    "plt.figure(figsize = (16, 16))\n",
    "sn.clustermap(df_cm, annot_kws={\"size\": 5}, cmap=\"vlag\") # plt.cm.Blues)"
   ]
  },
  {
   "cell_type": "code",
   "execution_count": 67,
   "metadata": {},
   "outputs": [
    {
     "name": "stderr",
     "output_type": "stream",
     "text": [
      "/disk1/users/ekoerner/miniconda3/envs/argmining19-ssc/lib/python3.7/site-packages/ipykernel_launcher.py:3: ClusterWarning: scipy.cluster: The symmetric non-negative hollow observation matrix looks suspiciously like an uncondensed distance matrix\n",
      "  This is separate from the ipykernel package so we can avoid doing imports until\n"
     ]
    },
    {
     "data": {
      "image/png": "[encoded data removed]",
      "text/plain": [
       "<Figure size 432x288 with 1 Axes>"
      ]
     },
     "metadata": {},
     "output_type": "display_data"
    }
   ],
   "source": [
    "from scipy.cluster import hierarchy\n",
    "\n",
    "Z = hierarchy.linkage(df_cm, \"ward\")\n",
    "hierarchy.set_link_color_palette(['#b30000','#996600', '#b30086'])\n",
    "R = hierarchy.dendrogram(Z, leaf_rotation=90, leaf_font_size=8, labels=df_cm.index)"
   ]
  },
  {
   "cell_type": "code",
   "execution_count": 68,
   "metadata": {},
   "outputs": [
    {
     "data": {
      "image/png": "[encoded data removed]",
      "text/plain": [
       "<Figure size 432x288 with 1 Axes>"
      ]
     },
     "metadata": {},
     "output_type": "display_data"
    }
   ],
   "source": [
    "import scipy.spatial.distance as ssd\n",
    "\n",
    "df_cm2 = ssd.squareform(df_cm)\n",
    "\n",
    "Z = hierarchy.linkage(df_cm2, \"ward\")\n",
    "hierarchy.set_link_color_palette(['#b30000','#996600', '#b30086'])\n",
    "R = hierarchy.dendrogram(Z, leaf_rotation=90, leaf_font_size=8, labels=df_cm.index)"
   ]
  },
  {
   "cell_type": "code",
   "execution_count": null,
   "metadata": {},
   "outputs": [],
   "source": []
  },
  {
   "cell_type": "code",
   "execution_count": 59,
   "metadata": {},
   "outputs": [
    {
     "name": "stdout",
     "output_type": "stream",
     "text": [
      "Group 0:\n",
      "American (Traditional); American (New); Breakfast & Brunch; Chinese; Specialty Food; Cafes; Sandwiches; Coffee & Tea; Ice Cream & Frozen Yogurt; Burgers; Mexican; Desserts; Restaurants; Food; Grocery; Arts & Entertainment; Event Planning & Services; Pizza; Bakeries; Italian; Fast Food; Bars; Nightlife\n",
      "\n",
      "Group 1:\n",
      "Fashion; Shopping; Active Life; Women's Clothing; Real Estate; Home & Garden; Education; Contractors; Hotels & Travel; Automotive; Auto Repair; Pets; Professional Services; Local Services; Pet Services; Home Services; Financial Services\n",
      "\n",
      "Group 2:\n",
      "Fitness & Instruction; Hair Salons; Doctors; Skin Care; Hair Removal; Nail Salons; Beauty & Spas; Health & Medical\n",
      "\n",
      "Group 3:\n",
      "General Dentistry; Dentists\n",
      "\n"
     ]
    }
   ],
   "source": [
    "from sklearn.cluster import SpectralClustering\n",
    "from pprint import pprint\n",
    "from itertools import groupby\n",
    "\n",
    "labels = list(f_cats)\n",
    "\n",
    "sc = SpectralClustering(4, affinity='precomputed', n_init=100, assign_labels='discretize')\n",
    "cluster_labels = sc.fit_predict(array)\n",
    "\n",
    "# sorted(list(zip(labels, cluster_labels)), key=lambda x: x[1])\n",
    "\n",
    "groups = list()\n",
    "for g, data in groupby(sorted(list(zip(labels, cluster_labels)), key=lambda x: x[1]), key=lambda x: x[1]):\n",
    "    group = [t for t, _ in data]\n",
    "    groups.append(group)\n",
    "\n",
    "    print(f\"Group {g}:\")\n",
    "    print(\"; \".join(group))\n",
    "    print()"
   ]
  },
  {
   "cell_type": "code",
   "execution_count": 72,
   "metadata": {},
   "outputs": [
    {
     "name": "stdout",
     "output_type": "stream",
     "text": [
      "Group 0:\n",
      "Fashion; Fitness & Instruction; Women's Clothing; Real Estate; Home & Garden; Contractors; Auto Repair; Pets; Beauty & Spas; Professional Services; Local Services; Pet Services; Home Services; Financial Services; Health & Medical\n",
      "\n",
      "Group 1:\n",
      "American (Traditional); American (New); Breakfast & Brunch; Chinese; Specialty Food; Cafes; Sandwiches; Coffee & Tea; Ice Cream & Frozen Yogurt; Burgers; Mexican; Desserts; Restaurants; Food; Grocery; Event Planning & Services; Pizza; Bakeries; Italian; Fast Food; Bars; Nightlife\n",
      "\n",
      "Group 2:\n",
      "General Dentistry; Hair Salons; Doctors; Skin Care; Hair Removal; Nail Salons; Dentists\n",
      "\n",
      "Group 3:\n",
      "Shopping; Active Life; Education; Hotels & Travel; Automotive; Arts & Entertainment\n",
      "\n"
     ]
    }
   ],
   "source": [
    "from sklearn.cluster import AgglomerativeClustering\n",
    "from sklearn.metrics import pairwise_distances\n",
    "from sklearn.metrics.pairwise import cosine_similarity\n",
    "from pprint import pprint\n",
    "from itertools import groupby\n",
    "\n",
    "labels = list(f_cats)\n",
    "\n",
    "ac = AgglomerativeClustering(4, affinity='euclidean', linkage='ward')\n",
    "csarr = cosine_similarity(array)\n",
    "cluster_labels = ac.fit_predict(csarr)\n",
    "\n",
    "# sorted(list(zip(labels, cluster_labels)), key=lambda x: x[1])\n",
    "\n",
    "groups = list()\n",
    "for g, data in groupby(sorted(list(zip(labels, cluster_labels)), key=lambda x: x[1]), key=lambda x: x[1]):\n",
    "    group = [t for t, _ in data]\n",
    "    groups.append(group)\n",
    "\n",
    "    print(f\"Group {g}:\")\n",
    "    print(\"; \".join(group))\n",
    "    print()"
   ]
  },
  {
   "cell_type": "code",
   "execution_count": 79,
   "metadata": {},
   "outputs": [
    {
     "data": {
      "text/plain": [
       "(array([[1.        , 0.29504676, 0.29414977, ..., 0.76497302, 0.55973698,\n",
       "         0.7287798 ],\n",
       "        [0.29504676, 1.        , 0.09224409, ..., 0.27435991, 0.19246597,\n",
       "         0.30311026],\n",
       "        [0.29414977, 0.09224409, 1.        , ..., 0.29588467, 0.34122401,\n",
       "         0.40578491],\n",
       "        ...,\n",
       "        [0.76497302, 0.27435991, 0.29588467, ..., 1.        , 0.77384775,\n",
       "         0.64810677],\n",
       "        [0.55973698, 0.19246597, 0.34122401, ..., 0.77384775, 1.        ,\n",
       "         0.5204049 ],\n",
       "        [0.7287798 , 0.30311026, 0.40578491, ..., 0.64810677, 0.5204049 ,\n",
       "         1.        ]]),\n",
       " ['Fashion',\n",
       "  'American (Traditional)',\n",
       "  'General Dentistry',\n",
       "  'American (New)',\n",
       "  'Breakfast & Brunch',\n",
       "  'Shopping',\n",
       "  'Chinese',\n",
       "  'Fitness & Instruction',\n",
       "  'Hair Salons',\n",
       "  'Specialty Food',\n",
       "  'Doctors',\n",
       "  'Active Life',\n",
       "  'Cafes',\n",
       "  'Sandwiches',\n",
       "  \"Women's Clothing\",\n",
       "  'Coffee & Tea',\n",
       "  'Skin Care',\n",
       "  'Ice Cream & Frozen Yogurt',\n",
       "  'Real Estate',\n",
       "  'Burgers',\n",
       "  'Mexican',\n",
       "  'Hair Removal',\n",
       "  'Home & Garden',\n",
       "  'Desserts',\n",
       "  'Restaurants',\n",
       "  'Education',\n",
       "  'Food',\n",
       "  'Contractors',\n",
       "  'Hotels & Travel',\n",
       "  'Automotive',\n",
       "  'Nail Salons',\n",
       "  'Auto Repair',\n",
       "  'Grocery',\n",
       "  'Arts & Entertainment',\n",
       "  'Pets',\n",
       "  'Event Planning & Services',\n",
       "  'Pizza',\n",
       "  'Beauty & Spas',\n",
       "  'Bakeries',\n",
       "  'Dentists',\n",
       "  'Italian',\n",
       "  'Professional Services',\n",
       "  'Local Services',\n",
       "  'Fast Food',\n",
       "  'Pet Services',\n",
       "  'Bars',\n",
       "  'Nightlife',\n",
       "  'Home Services',\n",
       "  'Financial Services',\n",
       "  'Health & Medical'])"
      ]
     },
     "execution_count": 79,
     "metadata": {},
     "output_type": "execute_result"
    }
   ],
   "source": [
    "from sklearn.metrics.pairwise import linear_kernel\n",
    "\n",
    "# array, \\\n",
    "# linear_kernel(array), \\\n",
    "cosine_similarity(array), \\\n",
    "list(f_cats)"
   ]
  },
  {
   "cell_type": "code",
   "execution_count": null,
   "metadata": {},
   "outputs": [],
   "source": []
  },
  {
   "cell_type": "code",
   "execution_count": null,
   "metadata": {},
   "outputs": [],
   "source": [
    "# f_inv_cat_bids\n",
    "# f_inv_cat_combis\n",
    "# f_cat_pairs\n"
   ]
  },
  {
   "cell_type": "code",
   "execution_count": 89,
   "metadata": {},
   "outputs": [
    {
     "data": {
      "text/plain": [
       "[('Restaurants', 59371),\n",
       " ('Shopping', 31878),\n",
       " ('Food', 29989),\n",
       " ('Home Services', 19729),\n",
       " ('Beauty & Spas', 19370),\n",
       " ('Health & Medical', 17171),\n",
       " ('Local Services', 13932),\n",
       " ('Automotive', 13203),\n",
       " ('Nightlife', 13095),\n",
       " ('Bars', 11341)]"
      ]
     },
     "execution_count": 89,
     "metadata": {},
     "output_type": "execute_result"
    }
   ],
   "source": [
    "sorted([(c, len(f_inv_cat_bids[c])) for c in f_cats], key=lambda x: x[1], reverse=True)[:10]"
   ]
  },
  {
   "cell_type": "code",
   "execution_count": 88,
   "metadata": {},
   "outputs": [
    {
     "data": {
      "text/plain": [
       "[('Restaurants', 3093),\n",
       " ('Food', 2548),\n",
       " ('Shopping', 1382),\n",
       " ('Event Planning & Services', 1205),\n",
       " ('Nightlife', 1181),\n",
       " ('Bars', 906),\n",
       " ('Arts & Entertainment', 826),\n",
       " ('Breakfast & Brunch', 789),\n",
       " ('American (Traditional)', 767),\n",
       " ('Sandwiches', 751)]"
      ]
     },
     "execution_count": 88,
     "metadata": {},
     "output_type": "execute_result"
    }
   ],
   "source": [
    "sorted([(c, len([cc for cc in f_inv_cat_combis.keys() if c in cc])) for c in f_cats], key=lambda x: x[1], reverse=True)[:10]"
   ]
  },
  {
   "cell_type": "code",
   "execution_count": 91,
   "metadata": {},
   "outputs": [
    {
     "data": {
      "text/plain": [
       "[('Restaurants', 3093),\n",
       " ('Food', 2548),\n",
       " ('Shopping', 1382),\n",
       " ('Event Planning & Services', 1205),\n",
       " ('Nightlife', 1181),\n",
       " ('Bars', 906),\n",
       " ('Arts & Entertainment', 826),\n",
       " ('Breakfast & Brunch', 789),\n",
       " ('American (Traditional)', 767),\n",
       " ('Sandwiches', 751)]"
      ]
     },
     "execution_count": 91,
     "metadata": {},
     "output_type": "execute_result"
    }
   ],
   "source": [
    "sorted([(c, len([cc for cc in f_inv_cat_combis.keys() if c in cc])) for c in f_cats], key=lambda x: x[1], reverse=True)[:10]"
   ]
  },
  {
   "cell_type": "code",
   "execution_count": 94,
   "metadata": {},
   "outputs": [
    {
     "data": {
      "text/plain": [
       "[('Shopping',\n",
       "  [('Home & Garden', 'Shopping'),\n",
       "   ('Home Services', 'Shopping'),\n",
       "   ('Local Services', 'Shopping'),\n",
       "   ('Beauty & Spas', 'Shopping'),\n",
       "   ('Hair Salons', 'Shopping'),\n",
       "   ('Professional Services', 'Shopping'),\n",
       "   ('Fashion', 'Shopping'),\n",
       "   ('Shopping', \"Women's Clothing\"),\n",
       "   ('Contractors', 'Shopping'),\n",
       "   ('Food', 'Shopping'),\n",
       "   ('Health & Medical', 'Shopping'),\n",
       "   ('Education', 'Shopping'),\n",
       "   ('Event Planning & Services', 'Shopping'),\n",
       "   ('Arts & Entertainment', 'Shopping'),\n",
       "   ('Hair Removal', 'Shopping'),\n",
       "   ('Nail Salons', 'Shopping'),\n",
       "   ('Active Life', 'Shopping'),\n",
       "   ('Auto Repair', 'Shopping'),\n",
       "   ('Automotive', 'Shopping'),\n",
       "   ('Grocery', 'Shopping'),\n",
       "   ('Shopping', 'Specialty Food'),\n",
       "   ('Pets', 'Shopping'),\n",
       "   ('Shopping', 'Skin Care'),\n",
       "   ('Real Estate', 'Shopping'),\n",
       "   ('Cafes', 'Shopping'),\n",
       "   ('Coffee & Tea', 'Shopping'),\n",
       "   ('Restaurants', 'Shopping'),\n",
       "   ('Pet Services', 'Shopping'),\n",
       "   ('Hotels & Travel', 'Shopping'),\n",
       "   ('Doctors', 'Shopping'),\n",
       "   ('Desserts', 'Shopping'),\n",
       "   ('Fitness & Instruction', 'Shopping'),\n",
       "   ('Bakeries', 'Shopping'),\n",
       "   ('Bars', 'Shopping'),\n",
       "   ('Nightlife', 'Shopping'),\n",
       "   ('Financial Services', 'Shopping'),\n",
       "   ('Chinese', 'Shopping'),\n",
       "   ('Italian', 'Shopping'),\n",
       "   ('Fast Food', 'Shopping'),\n",
       "   ('Mexican', 'Shopping'),\n",
       "   ('American (Traditional)', 'Shopping'),\n",
       "   ('Breakfast & Brunch', 'Shopping'),\n",
       "   ('American (New)', 'Shopping'),\n",
       "   ('Dentists', 'Shopping'),\n",
       "   ('General Dentistry', 'Shopping'),\n",
       "   ('Pizza', 'Shopping'),\n",
       "   ('Ice Cream & Frozen Yogurt', 'Shopping'),\n",
       "   ('Sandwiches', 'Shopping'),\n",
       "   ('Burgers', 'Shopping')]),\n",
       " ('Active Life',\n",
       "  [('Active Life', 'Fitness & Instruction'),\n",
       "   ('Active Life', 'Health & Medical'),\n",
       "   ('Active Life', 'Education'),\n",
       "   ('Active Life', 'Fashion'),\n",
       "   ('Active Life', 'Shopping'),\n",
       "   ('Active Life', 'Professional Services'),\n",
       "   ('Active Life', 'Local Services'),\n",
       "   ('Active Life', 'Arts & Entertainment'),\n",
       "   ('Active Life', 'Hotels & Travel'),\n",
       "   ('Active Life', 'Home & Garden'),\n",
       "   ('Active Life', 'Pet Services'),\n",
       "   ('Active Life', 'Pets'),\n",
       "   ('Active Life', 'Event Planning & Services'),\n",
       "   ('Active Life', 'Nightlife'),\n",
       "   ('Active Life', 'Doctors'),\n",
       "   ('Active Life', 'Food'),\n",
       "   ('Active Life', 'Restaurants'),\n",
       "   ('Active Life', 'Home Services'),\n",
       "   ('Active Life', 'Breakfast & Brunch'),\n",
       "   ('Active Life', 'Pizza'),\n",
       "   ('Active Life', \"Women's Clothing\"),\n",
       "   ('Active Life', 'Automotive'),\n",
       "   ('Active Life', 'Bars'),\n",
       "   ('Active Life', 'Contractors'),\n",
       "   ('Active Life', 'American (New)'),\n",
       "   ('Active Life', 'American (Traditional)'),\n",
       "   ('Active Life', 'Italian'),\n",
       "   ('Active Life', 'Beauty & Spas'),\n",
       "   ('Active Life', 'Grocery'),\n",
       "   ('Active Life', 'Skin Care'),\n",
       "   ('Active Life', 'Cafes'),\n",
       "   ('Active Life', 'Bakeries'),\n",
       "   ('Active Life', 'Coffee & Tea'),\n",
       "   ('Active Life', 'Ice Cream & Frozen Yogurt'),\n",
       "   ('Active Life', 'Specialty Food'),\n",
       "   ('Active Life', 'Real Estate'),\n",
       "   ('Active Life', 'Desserts'),\n",
       "   ('Active Life', 'Hair Removal'),\n",
       "   ('Active Life', 'Hair Salons'),\n",
       "   ('Active Life', 'Nail Salons'),\n",
       "   ('Active Life', 'Financial Services'),\n",
       "   ('Active Life', 'Burgers'),\n",
       "   ('Active Life', 'Sandwiches'),\n",
       "   ('Active Life', 'Dentists'),\n",
       "   ('Active Life', 'General Dentistry'),\n",
       "   ('Active Life', 'Fast Food'),\n",
       "   ('Active Life', 'Auto Repair'),\n",
       "   ('Active Life', 'Mexican'),\n",
       "   ('Active Life', 'Chinese')]),\n",
       " ('Restaurants',\n",
       "  [('Chinese', 'Restaurants'),\n",
       "   ('Food', 'Restaurants'),\n",
       "   ('Restaurants', 'Specialty Food'),\n",
       "   ('Breakfast & Brunch', 'Restaurants'),\n",
       "   ('Fast Food', 'Restaurants'),\n",
       "   ('Mexican', 'Restaurants'),\n",
       "   ('Italian', 'Restaurants'),\n",
       "   ('Pizza', 'Restaurants'),\n",
       "   ('Burgers', 'Restaurants'),\n",
       "   ('Restaurants', 'Sandwiches'),\n",
       "   ('Bars', 'Restaurants'),\n",
       "   ('Nightlife', 'Restaurants'),\n",
       "   ('Coffee & Tea', 'Restaurants'),\n",
       "   ('American (New)', 'Restaurants'),\n",
       "   ('American (Traditional)', 'Restaurants'),\n",
       "   ('Ice Cream & Frozen Yogurt', 'Restaurants'),\n",
       "   ('Bakeries', 'Restaurants'),\n",
       "   ('Cafes', 'Restaurants'),\n",
       "   ('Desserts', 'Restaurants'),\n",
       "   ('Grocery', 'Restaurants'),\n",
       "   ('Event Planning & Services', 'Restaurants'),\n",
       "   ('Health & Medical', 'Restaurants'),\n",
       "   ('Beauty & Spas', 'Restaurants'),\n",
       "   ('Arts & Entertainment', 'Restaurants'),\n",
       "   ('Restaurants', 'Shopping'),\n",
       "   ('Automotive', 'Restaurants'),\n",
       "   ('Active Life', 'Restaurants'),\n",
       "   ('Fashion', 'Restaurants'),\n",
       "   ('Restaurants', \"Women's Clothing\"),\n",
       "   ('Local Services', 'Restaurants'),\n",
       "   ('Fitness & Instruction', 'Restaurants'),\n",
       "   ('Hotels & Travel', 'Restaurants'),\n",
       "   ('Home & Garden', 'Restaurants'),\n",
       "   ('Education', 'Restaurants'),\n",
       "   ('Nail Salons', 'Restaurants'),\n",
       "   ('Restaurants', 'Skin Care'),\n",
       "   ('Professional Services', 'Restaurants'),\n",
       "   ('Home Services', 'Restaurants'),\n",
       "   ('Pets', 'Restaurants'),\n",
       "   ('Hair Salons', 'Restaurants'),\n",
       "   ('Contractors', 'Restaurants'),\n",
       "   ('Real Estate', 'Restaurants'),\n",
       "   ('Dentists', 'Restaurants'),\n",
       "   ('Doctors', 'Restaurants'),\n",
       "   ('General Dentistry', 'Restaurants'),\n",
       "   ('Pet Services', 'Restaurants'),\n",
       "   ('Hair Removal', 'Restaurants'),\n",
       "   ('Financial Services', 'Restaurants'),\n",
       "   ('Auto Repair', 'Restaurants')]),\n",
       " ('Food',\n",
       "  [('Chinese', 'Food'),\n",
       "   ('Food', 'Restaurants'),\n",
       "   ('Food', 'Specialty Food'),\n",
       "   ('Bakeries', 'Food'),\n",
       "   ('Bars', 'Food'),\n",
       "   ('Food', 'Mexican'),\n",
       "   ('Food', 'Nightlife'),\n",
       "   ('Fast Food', 'Food'),\n",
       "   ('Breakfast & Brunch', 'Food'),\n",
       "   ('Coffee & Tea', 'Food'),\n",
       "   ('Food', 'Ice Cream & Frozen Yogurt'),\n",
       "   ('Desserts', 'Food'),\n",
       "   ('Automotive', 'Food'),\n",
       "   ('Food', 'Grocery'),\n",
       "   ('Beauty & Spas', 'Food'),\n",
       "   ('Food', 'Health & Medical'),\n",
       "   ('Food', 'Home & Garden'),\n",
       "   ('Food', 'Shopping'),\n",
       "   ('Cafes', 'Food'),\n",
       "   ('Food', 'Sandwiches'),\n",
       "   ('Event Planning & Services', 'Food'),\n",
       "   ('American (New)', 'Food'),\n",
       "   ('Burgers', 'Food'),\n",
       "   ('Food', 'Pizza'),\n",
       "   ('American (Traditional)', 'Food'),\n",
       "   ('Food', 'Italian'),\n",
       "   ('Arts & Entertainment', 'Food'),\n",
       "   ('Food', 'Hotels & Travel'),\n",
       "   ('Food', 'Home Services'),\n",
       "   ('Food', 'Real Estate'),\n",
       "   ('Active Life', 'Food'),\n",
       "   ('Education', 'Food'),\n",
       "   ('Fashion', 'Food'),\n",
       "   ('Food', 'Professional Services'),\n",
       "   ('Food', 'Local Services'),\n",
       "   ('Food', 'Pets'),\n",
       "   ('Fitness & Instruction', 'Food'),\n",
       "   ('Food', 'Skin Care'),\n",
       "   ('Dentists', 'Food'),\n",
       "   ('Food', 'General Dentistry'),\n",
       "   ('Contractors', 'Food'),\n",
       "   ('Food', 'Hair Removal'),\n",
       "   ('Food', \"Women's Clothing\"),\n",
       "   ('Doctors', 'Food'),\n",
       "   ('Food', 'Pet Services'),\n",
       "   ('Financial Services', 'Food'),\n",
       "   ('Food', 'Hair Salons'),\n",
       "   ('Auto Repair', 'Food'),\n",
       "   ('Food', 'Nail Salons')]),\n",
       " ('Arts & Entertainment',\n",
       "  [('Arts & Entertainment', 'Bars'),\n",
       "   ('Arts & Entertainment', 'Nightlife'),\n",
       "   ('Arts & Entertainment', 'Education'),\n",
       "   ('Arts & Entertainment', 'Event Planning & Services'),\n",
       "   ('Arts & Entertainment', 'Shopping'),\n",
       "   ('Arts & Entertainment', 'Fashion'),\n",
       "   ('Arts & Entertainment', 'Home & Garden'),\n",
       "   ('Arts & Entertainment', 'Professional Services'),\n",
       "   ('Arts & Entertainment', 'Food'),\n",
       "   ('Active Life', 'Arts & Entertainment'),\n",
       "   ('Arts & Entertainment', 'Cafes'),\n",
       "   ('Arts & Entertainment', 'Coffee & Tea'),\n",
       "   ('Arts & Entertainment', 'Restaurants'),\n",
       "   ('Arts & Entertainment', 'Health & Medical'),\n",
       "   ('Arts & Entertainment', 'Bakeries'),\n",
       "   ('Arts & Entertainment', 'Specialty Food'),\n",
       "   ('Arts & Entertainment', 'Fitness & Instruction'),\n",
       "   ('Arts & Entertainment', 'Hotels & Travel'),\n",
       "   ('Arts & Entertainment', 'Local Services'),\n",
       "   ('Arts & Entertainment', 'Pizza'),\n",
       "   ('American (Traditional)', 'Arts & Entertainment'),\n",
       "   ('Arts & Entertainment', 'Burgers'),\n",
       "   ('American (New)', 'Arts & Entertainment'),\n",
       "   ('Arts & Entertainment', 'Italian'),\n",
       "   ('Arts & Entertainment', 'Home Services'),\n",
       "   ('Arts & Entertainment', 'Sandwiches'),\n",
       "   ('Arts & Entertainment', 'Automotive'),\n",
       "   ('Arts & Entertainment', 'Desserts'),\n",
       "   ('Arts & Entertainment', 'Breakfast & Brunch'),\n",
       "   ('Arts & Entertainment', 'Beauty & Spas'),\n",
       "   ('Arts & Entertainment', \"Women's Clothing\"),\n",
       "   ('Arts & Entertainment', 'Grocery'),\n",
       "   ('Arts & Entertainment', 'Auto Repair'),\n",
       "   ('Arts & Entertainment', 'Hair Removal'),\n",
       "   ('Arts & Entertainment', 'Hair Salons'),\n",
       "   ('Arts & Entertainment', 'Pets'),\n",
       "   ('Arts & Entertainment', 'Real Estate'),\n",
       "   ('Arts & Entertainment', 'Fast Food'),\n",
       "   ('Arts & Entertainment', 'Ice Cream & Frozen Yogurt'),\n",
       "   ('Arts & Entertainment', 'Chinese'),\n",
       "   ('Arts & Entertainment', 'Nail Salons'),\n",
       "   ('Arts & Entertainment', 'Pet Services'),\n",
       "   ('Arts & Entertainment', 'Mexican'),\n",
       "   ('Arts & Entertainment', 'Contractors'),\n",
       "   ('Arts & Entertainment', 'Doctors'),\n",
       "   ('Arts & Entertainment', 'Dentists'),\n",
       "   ('Arts & Entertainment', 'General Dentistry'),\n",
       "   ('Arts & Entertainment', 'Financial Services'),\n",
       "   ('Arts & Entertainment', 'Skin Care')])]"
      ]
     },
     "execution_count": 94,
     "metadata": {},
     "output_type": "execute_result"
    }
   ],
   "source": [
    "sorted([(c, [cc for cc in f_cat_pairs.keys() if c in cc]) for c in f_cats], key=lambda x: len(x[1]), reverse=True)[:5]"
   ]
  },
  {
   "cell_type": "code",
   "execution_count": null,
   "metadata": {},
   "outputs": [],
   "source": []
  },
  {
   "cell_type": "code",
   "execution_count": null,
   "metadata": {},
   "outputs": [],
   "source": []
  },
  {
   "cell_type": "code",
   "execution_count": null,
   "metadata": {},
   "outputs": [],
   "source": []
  },
  {
   "cell_type": "markdown",
   "metadata": {},
   "source": [
    "#### Statistics"
   ]
  },
  {
   "cell_type": "code",
   "execution_count": 11,
   "metadata": {
    "ExecuteTime": {
     "end_time": "2020-03-23T11:40:21.843012Z",
     "start_time": "2020-03-23T11:40:21.840312Z"
    }
   },
   "outputs": [
    {
     "name": "stdout",
     "output_type": "stream",
     "text": [
      "Number of businesses with categories: 192127\n",
      "                  without categories:    482\n",
      "Number of categories: len(inv_cat_bids) = 1300\n"
     ]
    }
   ],
   "source": [
    "print(f\"Number of businesses with categories: {len(inv_bid_cats):>6}\")\n",
    "print(f\"                  without categories: {len(bids_not_cats):>6}\")\n",
    "print(f\"Number of categories: len(inv_cat_bids) = {len(inv_cat_bids)}\")"
   ]
  },
  {
   "cell_type": "code",
   "execution_count": null,
   "metadata": {
    "ExecuteTime": {
     "end_time": "2020-03-23T11:45:37.171561Z",
     "start_time": "2020-03-23T11:45:37.155441Z"
    }
   },
   "outputs": [],
   "source": [
    "inv_cat_combis.most_common(20)"
   ]
  },
  {
   "cell_type": "code",
   "execution_count": null,
   "metadata": {
    "ExecuteTime": {
     "end_time": "2020-03-23T11:48:13.063858Z",
     "start_time": "2020-03-23T11:48:13.059391Z"
    }
   },
   "outputs": [],
   "source": [
    "# count single categories\n",
    "cnt = Counter({k: len(v) for k, v in inv_cat_bids.items()})\n",
    "cnt.most_common(20)"
   ]
  },
  {
   "cell_type": "code",
   "execution_count": null,
   "metadata": {
    "ExecuteTime": {
     "end_time": "2020-03-23T11:50:50.619657Z",
     "start_time": "2020-03-23T11:50:50.233350Z"
    },
    "jupyter": {
     "source_hidden": true
    }
   },
   "outputs": [],
   "source": [
    "# Check for subgraphs naive\n",
    "\n",
    "## build mapping for occurrence of each categories with other categories\n",
    "map_cat_cats = dict()\n",
    "\n",
    "for cats in tqdm(inv_bid_cats.values()):\n",
    "    for cat in cats:\n",
    "        try:\n",
    "            map_cat_cats[cat].update(cats)\n",
    "        except KeyError:\n",
    "            map_cat_cats[cat] = set(cats)\n",
    "\n",
    "cnt_cat_cats = Counter({cat: len(cats) for cat, cats in tqdm(map_cat_cats.items())})\n",
    "            \n",
    "set_all_cats = set(map_cat_cats.keys())"
   ]
  },
  {
   "cell_type": "code",
   "execution_count": null,
   "metadata": {
    "ExecuteTime": {
     "end_time": "2020-03-23T11:53:29.415696Z",
     "start_time": "2020-03-23T11:53:29.412023Z"
    },
    "jupyter": {
     "source_hidden": true
    }
   },
   "outputs": [],
   "source": [
    "print(f\"Number of all cats: {len(set_all_cats)}\")\n",
    "cnt_cat_cats.most_common(20)"
   ]
  },
  {
   "cell_type": "markdown",
   "metadata": {},
   "source": [
    "##### search for smallest any-connected subgraph ?\n",
    "\n",
    "merge all groups of related categories to find any two groups that are fully distinct over n edges"
   ]
  },
  {
   "cell_type": "code",
   "execution_count": null,
   "metadata": {
    "ExecuteTime": {
     "end_time": "2020-03-23T11:56:06.906898Z",
     "start_time": "2020-03-23T11:56:06.860847Z"
    },
    "code_folding": [
     6,
     12,
     20,
     45,
     46,
     57,
     89
    ],
    "jupyter": {
     "source_hidden": true
    }
   },
   "outputs": [],
   "source": [
    "## Try to compute distinct sub groups of categories\n",
    "inv_cat_group_id = dict()  # Dict[str, int]\n",
    "lst_cat_subgroups = list()  # List[List[str]]  # TODO: better Dict[int, Set[str]]\n",
    "\n",
    "def _has_related_cat_in_group_already(cat):\n",
    "    for rcat in map_cat_cats[cat]:\n",
    "        if rcat in inv_cat_group_id:\n",
    "            return True\n",
    "    return False\n",
    "\n",
    "def _find_related_cat_groups(cat):\n",
    "    rcat_groups = list()\n",
    "    for rcat in map_cat_cats[cat]:\n",
    "        gid = inv_cat_group_id.get(rcat, None)\n",
    "        if gid is not None:\n",
    "            rcat_groups.append((rcat, gid))\n",
    "    return rcat_groups\n",
    "\n",
    "def _trim_group_ids():\n",
    "    # search for empty groups (None or empty set)\n",
    "    lst_shifting = list()\n",
    "    for n, ele in enumerate(lst_cat_subgroups):\n",
    "        if not ele:\n",
    "            lst_shifting.append(n)\n",
    "\n",
    "    if not lst_shifting:\n",
    "        return\n",
    "\n",
    "    # move larger current groups over empty groups with lower id\n",
    "    for cat, old_gid in inv_cat_group_id.items():\n",
    "        new_gid = old_gid\n",
    "        for n in lst_shifting:\n",
    "            if n < new_gid:\n",
    "                # empty group before current group id,\n",
    "                # reduce current group id (--> skip empty group)\n",
    "                new_gid -= 1\n",
    "        # update on change (check should not really matter)\n",
    "        if new_gid != old_gid:\n",
    "            inv_cat_group_id[cat] = new_gid\n",
    "\n",
    "    for n in reversed(lst_shifting):\n",
    "        del lst_cat_subgroups[n]\n",
    "\n",
    "def _merge_related_cat_groups(cat, target_gid=None):\n",
    "    if target_gid is None:\n",
    "        # find first best gid\n",
    "        # (a) check category\n",
    "        target_gid = inv_cat_group_id.get(cat, None)\n",
    "        # (b) check related categories\n",
    "        if target_gid is None:\n",
    "            for rcat in map_cat_cats[cat]:\n",
    "                target_gid = inv_cat_group_id.get(rcat, None)\n",
    "                if target_gid is not None:\n",
    "                    break\n",
    "\n",
    "    if target_gid is None:\n",
    "        print(f\"No category to merge for {cat}!\")\n",
    "        return\n",
    "\n",
    "    # search for different group ids in related categories of cat\n",
    "    set_old_gid = set()\n",
    "    for rcat in map_cat_cats[cat]:\n",
    "        other_gid = inv_cat_group_id.get(rcat, None)\n",
    "        if other_gid is not None and other_gid != target_gid:\n",
    "            set_old_gid.add(other_gid)\n",
    "\n",
    "    # add non group related categories to target group\n",
    "    for rcat in map_cat_cats[cat]:\n",
    "        if rcat not in inv_cat_group_id:\n",
    "            inv_cat_group_id[rcat] = target_gid\n",
    "            lst_cat_subgroups[target_gid].add(rcat)\n",
    "\n",
    "    # rewrite other group ids to target group id\n",
    "    if not set_old_gid:\n",
    "        return\n",
    "\n",
    "    # rewrite inverse cat-gid mapping, empty old groups\n",
    "    for old_gid in set_old_gid:\n",
    "        old_rcats = lst_cat_subgroups[old_gid]\n",
    "        for old_rcat in old_rcats:\n",
    "            inv_cat_group_id[old_rcat] = target_gid\n",
    "        lst_cat_subgroups[old_gid] = None\n",
    "\n",
    "    _trim_group_ids()\n",
    "\n",
    "# -----\n",
    "            \n",
    "for cat, _ in cnt_cat_cats.most_common(None):\n",
    "    if cat in inv_cat_group_id:\n",
    "        # an existing group has this category already\n",
    "        # merge groups from related categories together\n",
    "        # additionally add new elements to target group (merged group)\n",
    "        _merge_related_cat_groups(cat)\n",
    "        _trim_group_ids()\n",
    "    else:\n",
    "        # new group possible\n",
    "        print(f\"new group?: {cat}\")\n",
    "        if not _has_related_cat_in_group_already(cat):\n",
    "            # open new group\n",
    "            gid = len(lst_cat_subgroups)\n",
    "            rcats = map_cat_cats[cat]\n",
    "            lst_cat_subgroups.append(set(rcats))\n",
    "            for icat in rcats:\n",
    "                inv_cat_group_id[icat] = gid\n",
    "        else:\n",
    "            # merge groups\n",
    "            _merge_related_cat_groups(cat)\n",
    "            _trim_group_ids()"
   ]
  },
  {
   "cell_type": "code",
   "execution_count": null,
   "metadata": {
    "ExecuteTime": {
     "end_time": "2020-03-23T11:58:45.779369Z",
     "start_time": "2020-03-23T11:58:45.775854Z"
    },
    "jupyter": {
     "source_hidden": true
    }
   },
   "outputs": [],
   "source": [
    "print(f\"Number of distinct groups: {len(lst_cat_subgroups)}\")\n",
    "print(f\"Number of elements in first group: {len(lst_cat_subgroups[0])}\")\n",
    "print(f\"Number of all categories: {len(set_all_cats)}\")"
   ]
  },
  {
   "cell_type": "markdown",
   "metadata": {},
   "source": [
    "##### search for main groups \n",
    "\n",
    "groups can share related categories but can no directly appear together:  \n",
    "`{A, b} - {C, b}` -- ok, `C` and `A` are not together but share related elements  \n",
    "`{A, b, C} - {C, b}` -- not ok, as `C` is with `A`"
   ]
  },
  {
   "cell_type": "code",
   "execution_count": null,
   "metadata": {
    "ExecuteTime": {
     "end_time": "2020-03-23T12:01:24.333138Z",
     "start_time": "2020-03-23T12:01:24.318420Z"
    },
    "jupyter": {
     "source_hidden": true
    }
   },
   "outputs": [],
   "source": [
    "lst_cat_dist_candidates = [cat for cat, _ in cnt_cat_cats.most_common(None)]\n",
    "# TODO: maybe random shuffle of candidates?\n",
    "set_cats_distinct = set()\n",
    "\n",
    "# lst_cat_dist_candidates.pop(0)\n",
    "\n",
    "while lst_cat_dist_candidates:\n",
    "    cat = lst_cat_dist_candidates.pop(0)\n",
    "    set_cats_distinct.add(cat)\n",
    "\n",
    "    # remove directly related categories, i.e. categories that appear together\n",
    "    # TODO: maybe compute frequency of co-occurrence of categories and make a cut-off???\n",
    "    for rcat in map_cat_cats[cat]:\n",
    "        try:\n",
    "            lst_cat_dist_candidates.remove(rcat)\n",
    "        except ValueError:\n",
    "            # element not in list anymore\n",
    "            pass"
   ]
  },
  {
   "cell_type": "code",
   "execution_count": null,
   "metadata": {
    "ExecuteTime": {
     "end_time": "2020-03-23T12:04:02.059617Z",
     "start_time": "2020-03-23T12:04:02.055025Z"
    },
    "jupyter": {
     "source_hidden": true
    }
   },
   "outputs": [],
   "source": [
    "print(\n",
    "    f\"Number of distinct categories (starting from the largest): {len(set_cats_distinct)}\"\n",
    ")\n",
    "cnt_dist_cats = Counter({\n",
    "    cat: cnt\n",
    "    for cat, cnt in cnt_cat_cats.most_common(None) if cat in set_cats_distinct\n",
    "})\n",
    "cnt_dist_cats.most_common(20)"
   ]
  },
  {
   "cell_type": "markdown",
   "metadata": {},
   "source": [
    "maybe start with any element / or with random sorting (shuffled) N times and select the minimum length result or with the best mean/avg value?"
   ]
  },
  {
   "cell_type": "markdown",
   "metadata": {},
   "source": [
    "##### search for distinct groups but just with no element intersection"
   ]
  },
  {
   "cell_type": "code",
   "execution_count": null,
   "metadata": {
    "ExecuteTime": {
     "end_time": "2020-03-23T12:06:39.011899Z",
     "start_time": "2020-03-23T12:06:38.992076Z"
    },
    "jupyter": {
     "source_hidden": true
    }
   },
   "outputs": [],
   "source": [
    "lst_cat_dist_candidates = [cat for cat, _ in cnt_cat_cats.most_common(None)]\n",
    "# TODO: maybe random shuffle of candidates?\n",
    "set_cats_distinct = set()\n",
    "\n",
    "# [lst_cat_dist_candidates.pop(0) for _ in range(1)]\n",
    "\n",
    "while lst_cat_dist_candidates:\n",
    "    cat = lst_cat_dist_candidates.pop(0)\n",
    "    set_cats_distinct.add(cat)\n",
    "\n",
    "    # remove directly related categories, i.e. categories that appear together\n",
    "    # TODO: maybe compute frequency of co-occurrence of categories and make a cut-off???\n",
    "    for rcat in map_cat_cats[cat]:\n",
    "        try:\n",
    "            lst_cat_dist_candidates.remove(rcat)\n",
    "        except ValueError:\n",
    "            # element not in list anymore\n",
    "            pass\n",
    "\n",
    "    # remove categories that contain a shared related category\n",
    "    for rcat in map_cat_cats[cat]:\n",
    "        # for all current related categories\n",
    "        # check any of the remaining categories\n",
    "        for ocat in list(lst_cat_dist_candidates):\n",
    "            # that they contain not any related category as our current one\n",
    "            if rcat in set(map_cat_cats[ocat]):\n",
    "                lst_cat_dist_candidates.remove(ocat)"
   ]
  },
  {
   "cell_type": "code",
   "execution_count": null,
   "metadata": {
    "ExecuteTime": {
     "end_time": "2020-03-23T12:20:22.801134Z",
     "start_time": "2020-03-23T12:20:22.791620Z"
    },
    "jupyter": {
     "source_hidden": true
    }
   },
   "outputs": [],
   "source": [
    "print(\n",
    "    f\"Number of distinct categories (starting from the largest): {len(set_cats_distinct)}\"\n",
    ")\n",
    "cnt_dist_cats = Counter({\n",
    "    cat: cnt\n",
    "    for cat, cnt in cnt_cat_cats.most_common(None) if cat in set_cats_distinct\n",
    "})\n",
    "cnt_dist_cats.most_common(20)"
   ]
  },
  {
   "cell_type": "markdown",
   "metadata": {},
   "source": [
    "#### Test / Playground"
   ]
  },
  {
   "cell_type": "code",
   "execution_count": null,
   "metadata": {},
   "outputs": [],
   "source": [
    "# exceprt\n",
    "df  # .count()"
   ]
  },
  {
   "cell_type": "code",
   "execution_count": null,
   "metadata": {},
   "outputs": [],
   "source": [
    "# ratings info\n",
    "df.describe()"
   ]
  },
  {
   "cell_type": "code",
   "execution_count": null,
   "metadata": {},
   "outputs": [],
   "source": [
    "# how many reviews per business (id)\n",
    "df.groupby(\"id\").count()[[\"rating\"]].describe()"
   ]
  },
  {
   "cell_type": "code",
   "execution_count": null,
   "metadata": {},
   "outputs": [],
   "source": [
    "# def fn_goodness(row):\n",
    "#     row[\"good\"] = True if row[\"rating\"].value >= 2.5 else False\n",
    "#     return row\n",
    "\n",
    "# try:\n",
    "#     df = df.progress_apply(fn_goodness, axis=1)\n",
    "# except AttributeError:\n",
    "#     df = df.apply(fn_goodness)\n",
    "\n",
    "# set good if more than 3 in rating\n",
    "df[\"goodness\"] = df[\"rating\"] > 3"
   ]
  },
  {
   "cell_type": "code",
   "execution_count": null,
   "metadata": {},
   "outputs": [],
   "source": [
    "df.groupby([\"goodness\", \"id\"]).count()"
   ]
  },
  {
   "cell_type": "code",
   "execution_count": null,
   "metadata": {},
   "outputs": [],
   "source": [
    "# select only those that have more than N reviews\n",
    "df.groupby([\"id\", \"goodness\"])[[\"id\"]].count() > 3"
   ]
  },
  {
   "cell_type": "code",
   "execution_count": null,
   "metadata": {},
   "outputs": [],
   "source": [
    "# select only those IDs that contain both pos + negative reviews\n",
    "df.groupby([\"id\", \"goodness\"], as_index=False).count().groupby(\"id\")[[\"id\"]].count() == 2"
   ]
  },
  {
   "cell_type": "code",
   "execution_count": null,
   "metadata": {},
   "outputs": [],
   "source": [
    "len(df), len(df[df[\"rating\"] == 3])"
   ]
  },
  {
   "cell_type": "code",
   "execution_count": null,
   "metadata": {},
   "outputs": [],
   "source": [
    "inv_bid_cats[list(inv_bid_cats.keys())[0]]"
   ]
  },
  {
   "cell_type": "code",
   "execution_count": null,
   "metadata": {
    "ExecuteTime": {
     "end_time": "2020-03-23T12:23:03.390943Z",
     "start_time": "2020-03-23T12:23:00.726693Z"
    }
   },
   "outputs": [],
   "source": [
    "df.groupby([\"rating\"], ).count()[[\"id\"]]"
   ]
  },
  {
   "cell_type": "markdown",
   "metadata": {},
   "source": [
    "#### Filter reviews with at least N ratings"
   ]
  },
  {
   "cell_type": "code",
   "execution_count": null,
   "metadata": {},
   "outputs": [],
   "source": [
    "# min ratings per class (good|bad)\n",
    "min_ratings = 5\n",
    "\n",
    "df = filter_min_review_freq(df, min_ratings=5)"
   ]
  },
  {
   "cell_type": "markdown",
   "metadata": {},
   "source": [
    "#### Filter only reviews with both good and bad rating"
   ]
  },
  {
   "cell_type": "code",
   "execution_count": null,
   "metadata": {},
   "outputs": [],
   "source": [
    "df = filter_both_good_bad(df)"
   ]
  },
  {
   "cell_type": "markdown",
   "metadata": {},
   "source": [
    "#### Make pairs"
   ]
  },
  {
   "cell_type": "markdown",
   "metadata": {},
   "source": [
    "**TODO:**\n",
    "\n",
    "- check similar length -- what strategy to use to combine similar length pairs best?\n",
    "- flip sides (arg1 <-> arg2)\n",
    "- make more pairs (?) -- but keep same ratio of same-sentiment vs. not-same-sentiment (different-sentiment) ??\n",
    "- group by categories (topics) -- more explicit training (uniqueness of single arguments / topic structures)\n",
    "- evaluate on same-argument (S3C) - or amazon reviews\n",
    "- compute mean/avg sequence length\n",
    "- fixed layers in fine-tuning\n",
    "- visualization of trained layers and activation for good / bad inputs"
   ]
  },
  {
   "cell_type": "markdown",
   "metadata": {},
   "source": [
    "##### Positive + negative same-sentiment pairs"
   ]
  },
  {
   "cell_type": "code",
   "execution_count": null,
   "metadata": {},
   "outputs": [],
   "source": [
    "num_pairs_per_class = 2\n",
    "# N positive + N negative\n",
    "# --> 2N pos+neg (not same-sentiment)\n",
    "\n",
    "# TODO: randomness for positive ss / negative ss - sum is equal / or sum equal compared to not ss"
   ]
  },
  {
   "cell_type": "code",
   "execution_count": null,
   "metadata": {
    "code_folding": [
     19,
     35
    ],
    "jupyter": {
     "source_hidden": true
    }
   },
   "outputs": [],
   "source": [
    "def make_pairs_good_bad(df, num_pairs_per_class=2):\n",
    "    pairs_good = list()\n",
    "    pairs_bad = list()\n",
    "\n",
    "    for id_, group in tqdm(df.groupby(\"id\")):\n",
    "        grouper = group.groupby(\"goodness\")\n",
    "        reviews_good = grouper.get_group(True)\n",
    "        reviews_bad = grouper.get_group(False)\n",
    "\n",
    "        # TESTING\n",
    "        # print(\"id:\", id_)\n",
    "        # print(\"#good:\", len(reviews_good))\n",
    "        # print(\"#bad:\", len(reviews_bad))\n",
    "        # print(group)\n",
    "        # break\n",
    "\n",
    "        # make pairings -- good ss\n",
    "        rg_idx = reviews_good.index.values\n",
    "        # print(\"pos_idx:\", rg_idx)\n",
    "        rg_idx_sel = np.random.choice(rg_idx, 2 * num_pairs_per_class, replace=False)\n",
    "        for id1, id2 in zip(rg_idx_sel[::2], rg_idx_sel[1::2]):\n",
    "            # print(\"pair:\", id1, id2)\n",
    "            r1, r2 = df.loc[id1], df.loc[id2]\n",
    "            pair = {\n",
    "                \"argument1\": r1[\"text\"], \"argument2\": r2[\"text\"],\n",
    "                \"argument1_id\": f\"\"\"{r1[\"id\"]}|{r1[\"rid\"]}\"\"\", \"argument2_id\": f\"\"\"{r2[\"id\"]}|{r2[\"rid\"]}\"\"\",\n",
    "                \"is_same_side\": True, \"is_good_side\": True,\n",
    "                \"topic\": inv_bid_cats.get(r1[\"id\"], None)\n",
    "            }\n",
    "            # print(pair)\n",
    "            pairs_good.append(pair)\n",
    "\n",
    "        # make pairings -- bad ss\n",
    "        rb_idx = reviews_bad.index.values\n",
    "        # print(\"neg_idx:\", rb_idx)\n",
    "        rb_idx_sel = np.random.choice(rb_idx, 2 * num_pairs_per_class, replace=False)\n",
    "        for id1, id2 in zip(rb_idx_sel[::2], rb_idx_sel[1::2]):\n",
    "            r1, r2 = df.loc[id1], df.loc[id2]\n",
    "            pair = {\n",
    "                \"argument1\": r1[\"text\"], \"argument2\": r2[\"text\"],\n",
    "                \"argument1_id\": f\"\"\"{r1[\"id\"]}|{r1[\"rid\"]}\"\"\", \"argument2_id\": f\"\"\"{r2[\"id\"]}|{r2[\"rid\"]}\"\"\",\n",
    "                \"is_same_side\": True, \"is_good_side\": False,\n",
    "                \"topic\": inv_bid_cats.get(r1[\"id\"], None)\n",
    "            }\n",
    "            pairs_bad.append(pair)\n",
    "\n",
    "        # break\n",
    "        \n",
    "    return pairs_good, pairs_bad"
   ]
  },
  {
   "cell_type": "code",
   "execution_count": null,
   "metadata": {},
   "outputs": [],
   "source": [
    "pairs_good, pairs_bad = make_pairs_good_bad(df, num_pairs_per_class=2)\n",
    "\n",
    "print(\"#ss (pos)\", len(pairs_good))\n",
    "print(\"#ss (neg)\", len(pairs_bad))"
   ]
  },
  {
   "cell_type": "markdown",
   "metadata": {},
   "source": [
    "##### not same-sentiment pairs (combinations positive + negative)"
   ]
  },
  {
   "cell_type": "code",
   "execution_count": null,
   "metadata": {},
   "outputs": [],
   "source": [
    "#: number of negative same-sentiment samples same as positive same-sentiment samples\n",
    "num_pairs_negative = 2 * num_pairs_per_class\n",
    "\n",
    "#: whether for a single side (good or bad) there can be multiple occurrences of the same review\n",
    "#: may need to check afterwared that not by chance same pairing happens ...\n",
    "repeatable_on_side = False"
   ]
  },
  {
   "cell_type": "code",
   "execution_count": null,
   "metadata": {
    "code_folding": [
     16,
     28
    ],
    "jupyter": {
     "source_hidden": true
    }
   },
   "outputs": [],
   "source": [
    "def make_pairs_negative(df, num_pairs_negative, repeatable_on_side=False):\n",
    "    pairs_not_ss = list()\n",
    "\n",
    "    for id_, group in tqdm(df.groupby(\"id\")):\n",
    "        grouper = group.groupby(\"goodness\")\n",
    "        reviews_good = grouper.get_group(True)\n",
    "        reviews_bad = grouper.get_group(False)\n",
    "\n",
    "        # find indices for reviews per business\n",
    "        rg_idx = reviews_good.index.values\n",
    "        rb_idx = reviews_bad.index.values\n",
    "\n",
    "        # randomly select from each side\n",
    "        rg_idx_sel = np.random.choice(rg_idx, num_pairs_negative, replace=repeatable_on_side)\n",
    "        rb_idx_sel = np.random.choice(rb_idx, num_pairs_negative, replace=repeatable_on_side)\n",
    "\n",
    "        # pair them together -- good-bad pairs\n",
    "        for idg, idb in zip(rg_idx_sel[::2], rb_idx_sel[::2]):\n",
    "            rg, rb = df.loc[idg], df.loc[idb]\n",
    "            pair = {\n",
    "                \"argument1\": rg[\"text\"], \"argument2\": rb[\"text\"],\n",
    "                \"argument1_id\": f\"\"\"{rg[\"id\"]}|{rg[\"rid\"]}\"\"\", \"argument2_id\": f\"\"\"{rb[\"id\"]}|{rb[\"rid\"]}\"\"\",\n",
    "                \"is_same_side\": False, \"is_good_side\": None,\n",
    "                \"topic\": inv_bid_cats.get(rg[\"id\"], None)\n",
    "            }\n",
    "            # print(pair)\n",
    "            pairs_not_ss.append(pair)\n",
    "\n",
    "        # bad-good pairs\n",
    "        for idb, idg in zip(rb_idx_sel[1::2], rg_idx_sel[1::2]):\n",
    "            rb, rg = df.loc[idb], df.loc[idg]\n",
    "            pair = {\n",
    "                \"argument1\": rb[\"text\"], \"argument2\": rg[\"text\"],\n",
    "                \"argument1_id\": f\"\"\"{rb[\"id\"]}|{rb[\"rid\"]}\"\"\", \"argument2_id\": f\"\"\"{rg[\"id\"]}|{rg[\"rid\"]}\"\"\",\n",
    "                \"is_same_side\": False, \"is_good_side\": None,\n",
    "                \"topic\": inv_bid_cats.get(rb[\"id\"], None)\n",
    "            }\n",
    "            # print(pair)\n",
    "            pairs_not_ss.append(pair)\n",
    "            \n",
    "    return pairs_not_ss"
   ]
  },
  {
   "cell_type": "code",
   "execution_count": null,
   "metadata": {},
   "outputs": [],
   "source": [
    "pairs_not_ss = make_pairs_negative(df, num_pairs_negative, repeatable_on_side=False)\n",
    "\n",
    "print(\"#nss\", len(pairs_not_ss))"
   ]
  },
  {
   "cell_type": "markdown",
   "metadata": {},
   "source": [
    "##### dataframe for training etc."
   ]
  },
  {
   "cell_type": "code",
   "execution_count": null,
   "metadata": {},
   "outputs": [],
   "source": [
    "def make_or_load_pairs(df, fn_yelp_df, num_pairs_per_class=2):\n",
    "    if os.path.exists(fn_yelp_df):\n",
    "        with open(fn_yelp_df, \"rb\") as fp:\n",
    "            all_df = pickle.load(fp)\n",
    "        return all_df\n",
    "    \n",
    "    pairs_good, pairs_bad = make_pairs_good_bad(df, num_pairs_per_class=2)\n",
    "    print(\"#ss (pos)\", len(pairs_good))\n",
    "    print(\"#ss (neg)\", len(pairs_bad))\n",
    "    \n",
    "    num_pairs_negative = 2 * num_pairs_per_class\n",
    "    pairs_not_ss = make_pairs_negative(df, num_pairs_negative, repeatable_on_side=False)\n",
    "    print(\"#nss\", len(pairs_not_ss))\n",
    "    \n",
    "    pairs_all = pairs_good + pairs_bad + pairs_not_ss\n",
    "    print(\"#~ss\", len(pairs_all))\n",
    "    \n",
    "    np.random.shuffle(pairs_all)\n",
    "    df_traindev = pd.DataFrame.from_dict(pairs_all)\n",
    "    \n",
    "    with open(fn_yelp_df, \"wb\") as fp:\n",
    "        pickle.dump(df_traindev, fp, protocol=pickle.HIGHEST_PROTOCOL)\n",
    "        \n",
    "    return df_traindev"
   ]
  },
  {
   "cell_type": "code",
   "execution_count": null,
   "metadata": {},
   "outputs": [],
   "source": [
    "pairs_all = pairs_good + pairs_bad + pairs_not_ss\n",
    "print(\"#~ss\", len(pairs_all))\n",
    "\n",
    "# print(pairs_all[0][\"argument1_id\"])\n",
    "np.random.shuffle(pairs_all)\n",
    "# print(pairs_all[0][\"argument1_id\"])\n",
    "\n",
    "df_traindev = pd.DataFrame.from_dict(pairs_all)"
   ]
  },
  {
   "cell_type": "code",
   "execution_count": null,
   "metadata": {},
   "outputs": [],
   "source": [
    "fn_yelp_df = data_yelp_path / \"df_traindev.p\"\n",
    "\n",
    "with open(fn_yelp_df, \"wb\") as fp:\n",
    "    pickle.dump(df_traindev, fp, protocol=pickle.HIGHEST_PROTOCOL)"
   ]
  },
  {
   "cell_type": "markdown",
   "metadata": {},
   "source": [
    "---"
   ]
  },
  {
   "cell_type": "markdown",
   "metadata": {},
   "source": [
    "#### Reloading for training"
   ]
  },
  {
   "cell_type": "code",
   "execution_count": null,
   "metadata": {},
   "outputs": [],
   "source": [
    "data_yelp_path = Path(\"/home/ekoerner/same-side-classification/data/sentiment/yelp/\")\n",
    "fn_yelp_df = data_yelp_path / \"df_traindev.p\"\n",
    "\n",
    "with open(fn_yelp_df, \"rb\") as fp:\n",
    "    all_df = pickle.load(fp)"
   ]
  },
  {
   "cell_type": "code",
   "execution_count": null,
   "metadata": {},
   "outputs": [],
   "source": [
    "def _add_dummy_tag(row):\n",
    "    row[\"tag\"] = \"NA\"\n",
    "    return row\n",
    "\n",
    "# all_df = all_df.progress_apply(_add_dummy_tag, axis=1)\n",
    "all_df[\"tag\"] = \"NA\""
   ]
  },
  {
   "cell_type": "code",
   "execution_count": null,
   "metadata": {},
   "outputs": [],
   "source": [
    "num = len(all_df)\n",
    "ratio = 0.3\n",
    "idx_ratio = int(num * (1.0 - ratio))\n",
    "print(f\"traindev: [0:{idx_ratio}], test: [{idx_ratio}:{num}], ratio: {ratio}\")\n",
    "\n",
    "traindev_df = all_df.iloc[:idx_ratio]\n",
    "test_df = all_df.iloc[idx_ratio:]"
   ]
  },
  {
   "cell_type": "code",
   "execution_count": null,
   "metadata": {},
   "outputs": [],
   "source": [
    "# len(traindev_df), len(test_df)"
   ]
  }
 ],
 "metadata": {
  "kernelspec": {
   "display_name": "Python 3",
   "language": "python",
   "name": "python3"
  },
  "language_info": {
   "codemirror_mode": {
    "name": "ipython",
    "version": 3
   },
   "file_extension": ".py",
   "mimetype": "text/x-python",
   "name": "python",
   "nbconvert_exporter": "python",
   "pygments_lexer": "ipython3",
   "version": "3.7.7"
  },
  "varInspector": {
   "cols": {
    "lenName": 16,
    "lenType": 16,
    "lenVar": 40
   },
   "kernels_config": {
    "python": {
     "delete_cmd_postfix": "",
     "delete_cmd_prefix": "del ",
     "library": "var_list.py",
     "varRefreshCmd": "print(var_dic_list())"
    },
    "r": {
     "delete_cmd_postfix": ") ",
     "delete_cmd_prefix": "rm(",
     "library": "var_list.r",
     "varRefreshCmd": "cat(var_dic_list()) "
    }
   },
   "types_to_exclude": [
    "module",
    "function",
    "builtin_function_or_method",
    "instance",
    "_Feature"
   ],
   "window_display": false
  }
 },
 "nbformat": 4,
 "nbformat_minor": 4
}
