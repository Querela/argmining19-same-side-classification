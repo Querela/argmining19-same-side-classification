{
 "cells": [
  {
   "cell_type": "code",
   "execution_count": 2,
   "metadata": {},
   "outputs": [],
   "source": [
    "import mxnet\n",
    "from mxnet import nd, gpu"
   ]
  },
  {
   "cell_type": "markdown",
   "metadata": {},
   "source": [
    "https://mxnet.apache.org/api/python/docs/tutorials/getting-started/crash-course/6-use_gpus.html"
   ]
  },
  {
   "cell_type": "code",
   "execution_count": 3,
   "metadata": {},
   "outputs": [
    {
     "ename": "MXNetError",
     "evalue": "b'[17:32:56] /tmp/build/80754af9/libmxnet_1564766659613/work/src/imperative/imperative.cc:81: Operator _ones is not implemented for GPU.\\nStack trace:\\n  [bt] (0) /disk1/users/ekoerner/miniconda3/envs/argmining19-ssc/lib/python3.7/site-packages/mxnet/libmxnet.so(+0x38e1c4) [0x7fe6e16921c4]\\n  [bt] (1) /disk1/users/ekoerner/miniconda3/envs/argmining19-ssc/lib/python3.7/site-packages/mxnet/libmxnet.so(mxnet::Imperative::InvokeOp(mxnet::Context const&, nnvm::NodeAttrs const&, std::vector<mxnet::NDArray*, std::allocator<mxnet::NDArray*> > const&, std::vector<mxnet::NDArray*, std::allocator<mxnet::NDArray*> > const&, std::vector<mxnet::OpReqType, std::allocator<mxnet::OpReqType> > const&, mxnet::DispatchMode, mxnet::OpStatePtr)+0x914) [0x7fe6e1816684]\\n  [bt] (2) /disk1/users/ekoerner/miniconda3/envs/argmining19-ssc/lib/python3.7/site-packages/mxnet/libmxnet.so(mxnet::Imperative::Invoke(mxnet::Context const&, nnvm::NodeAttrs const&, std::vector<mxnet::NDArray*, std::allocator<mxnet::NDArray*> > const&, std::vector<mxnet::NDArray*, std::allocator<mxnet::NDArray*> > const&)+0x383) [0x7fe6e1817243]\\n  [bt] (3) /disk1/users/ekoerner/miniconda3/envs/argmining19-ssc/lib/python3.7/site-packages/mxnet/libmxnet.so(MXImperativeInvokeImpl(void*, int, void**, int*, void***, int, char const**, char const**)+0x9fd) [0x7fe6e16d62dd]\\n  [bt] (4) /disk1/users/ekoerner/miniconda3/envs/argmining19-ssc/lib/python3.7/site-packages/mxnet/libmxnet.so(MXImperativeInvokeEx+0x533) [0x7fe6e16d7683]\\n  [bt] (5) /disk1/users/ekoerner/miniconda3/envs/argmining19-ssc/lib/python3.7/site-packages/mxnet/_cy3/ndarray.cpython-37m-x86_64-linux-gnu.so(+0x11026) [0x7fe6d42fc026]\\n  [bt] (6) /disk1/users/ekoerner/miniconda3/envs/argmining19-ssc/bin/python(_PyMethodDef_RawFastCallKeywords+0x264) [0x560627da3ab4]\\n  [bt] (7) /disk1/users/ekoerner/miniconda3/envs/argmining19-ssc/bin/python(_PyCFunction_FastCallKeywords+0x21) [0x560627da3bd1]\\n  [bt] (8) /disk1/users/ekoerner/miniconda3/envs/argmining19-ssc/bin/python(_PyEval_EvalFrameDefault+0x47a4) [0x560627e09e54]\\n\\n'",
     "output_type": "error",
     "traceback": [
      "\u001b[0;31m---------------------------------------------------------------------------\u001b[0m",
      "\u001b[0;31mMXNetError\u001b[0m                                Traceback (most recent call last)",
      "\u001b[0;32m<ipython-input-3-3ae2aee5cfcf>\u001b[0m in \u001b[0;36m<module>\u001b[0;34m\u001b[0m\n\u001b[0;32m----> 1\u001b[0;31m \u001b[0mx\u001b[0m \u001b[0;34m=\u001b[0m \u001b[0mnd\u001b[0m\u001b[0;34m.\u001b[0m\u001b[0mones\u001b[0m\u001b[0;34m(\u001b[0m\u001b[0;34m(\u001b[0m\u001b[0;36m3\u001b[0m\u001b[0;34m,\u001b[0m\u001b[0;36m4\u001b[0m\u001b[0;34m)\u001b[0m\u001b[0;34m,\u001b[0m \u001b[0mctx\u001b[0m\u001b[0;34m=\u001b[0m\u001b[0mgpu\u001b[0m\u001b[0;34m(\u001b[0m\u001b[0;34m)\u001b[0m\u001b[0;34m)\u001b[0m\u001b[0;34m\u001b[0m\u001b[0;34m\u001b[0m\u001b[0m\n\u001b[0m",
      "\u001b[0;32m/disk1/users/ekoerner/miniconda3/envs/argmining19-ssc/lib/python3.7/site-packages/mxnet/ndarray/ndarray.py\u001b[0m in \u001b[0;36mones\u001b[0;34m(shape, ctx, dtype, **kwargs)\u001b[0m\n\u001b[1;32m   2435\u001b[0m     \u001b[0mdtype\u001b[0m \u001b[0;34m=\u001b[0m \u001b[0mmx_real_t\u001b[0m \u001b[0;32mif\u001b[0m \u001b[0mdtype\u001b[0m \u001b[0;32mis\u001b[0m \u001b[0;32mNone\u001b[0m \u001b[0;32melse\u001b[0m \u001b[0mdtype\u001b[0m\u001b[0;34m\u001b[0m\u001b[0;34m\u001b[0m\u001b[0m\n\u001b[1;32m   2436\u001b[0m     \u001b[0;31m# pylint: disable= no-member, protected-access\u001b[0m\u001b[0;34m\u001b[0m\u001b[0;34m\u001b[0m\u001b[0;34m\u001b[0m\u001b[0m\n\u001b[0;32m-> 2437\u001b[0;31m     \u001b[0;32mreturn\u001b[0m \u001b[0m_internal\u001b[0m\u001b[0;34m.\u001b[0m\u001b[0m_ones\u001b[0m\u001b[0;34m(\u001b[0m\u001b[0mshape\u001b[0m\u001b[0;34m=\u001b[0m\u001b[0mshape\u001b[0m\u001b[0;34m,\u001b[0m \u001b[0mctx\u001b[0m\u001b[0;34m=\u001b[0m\u001b[0mctx\u001b[0m\u001b[0;34m,\u001b[0m \u001b[0mdtype\u001b[0m\u001b[0;34m=\u001b[0m\u001b[0mdtype\u001b[0m\u001b[0;34m,\u001b[0m \u001b[0;34m**\u001b[0m\u001b[0mkwargs\u001b[0m\u001b[0;34m)\u001b[0m\u001b[0;34m\u001b[0m\u001b[0;34m\u001b[0m\u001b[0m\n\u001b[0m\u001b[1;32m   2438\u001b[0m     \u001b[0;31m# pylint: enable= no-member, protected-access\u001b[0m\u001b[0;34m\u001b[0m\u001b[0;34m\u001b[0m\u001b[0;34m\u001b[0m\u001b[0m\n\u001b[1;32m   2439\u001b[0m \u001b[0;34m\u001b[0m\u001b[0m\n",
      "\u001b[0;32m/disk1/users/ekoerner/miniconda3/envs/argmining19-ssc/lib/python3.7/site-packages/mxnet/ndarray/register.py\u001b[0m in \u001b[0;36m_ones\u001b[0;34m(shape, ctx, dtype, out, name, **kwargs)\u001b[0m\n",
      "\u001b[0;32mmxnet/cython/ndarray.pyx\u001b[0m in \u001b[0;36mmxnet._cy3.ndarray._imperative_invoke\u001b[0;34m()\u001b[0m\n",
      "\u001b[0;32m/disk1/users/ekoerner/miniconda3/envs/argmining19-ssc/lib/python3.7/site-packages/mxnet/_cy3/ndarray.cpython-37m-x86_64-linux-gnu.so\u001b[0m in \u001b[0;36mmxnet._cy3.ndarray.CALL\u001b[0;34m()\u001b[0m\n",
      "\u001b[0;31mMXNetError\u001b[0m: b'[17:32:56] /tmp/build/80754af9/libmxnet_1564766659613/work/src/imperative/imperative.cc:81: Operator _ones is not implemented for GPU.\\nStack trace:\\n  [bt] (0) /disk1/users/ekoerner/miniconda3/envs/argmining19-ssc/lib/python3.7/site-packages/mxnet/libmxnet.so(+0x38e1c4) [0x7fe6e16921c4]\\n  [bt] (1) /disk1/users/ekoerner/miniconda3/envs/argmining19-ssc/lib/python3.7/site-packages/mxnet/libmxnet.so(mxnet::Imperative::InvokeOp(mxnet::Context const&, nnvm::NodeAttrs const&, std::vector<mxnet::NDArray*, std::allocator<mxnet::NDArray*> > const&, std::vector<mxnet::NDArray*, std::allocator<mxnet::NDArray*> > const&, std::vector<mxnet::OpReqType, std::allocator<mxnet::OpReqType> > const&, mxnet::DispatchMode, mxnet::OpStatePtr)+0x914) [0x7fe6e1816684]\\n  [bt] (2) /disk1/users/ekoerner/miniconda3/envs/argmining19-ssc/lib/python3.7/site-packages/mxnet/libmxnet.so(mxnet::Imperative::Invoke(mxnet::Context const&, nnvm::NodeAttrs const&, std::vector<mxnet::NDArray*, std::allocator<mxnet::NDArray*> > const&, std::vector<mxnet::NDArray*, std::allocator<mxnet::NDArray*> > const&)+0x383) [0x7fe6e1817243]\\n  [bt] (3) /disk1/users/ekoerner/miniconda3/envs/argmining19-ssc/lib/python3.7/site-packages/mxnet/libmxnet.so(MXImperativeInvokeImpl(void*, int, void**, int*, void***, int, char const**, char const**)+0x9fd) [0x7fe6e16d62dd]\\n  [bt] (4) /disk1/users/ekoerner/miniconda3/envs/argmining19-ssc/lib/python3.7/site-packages/mxnet/libmxnet.so(MXImperativeInvokeEx+0x533) [0x7fe6e16d7683]\\n  [bt] (5) /disk1/users/ekoerner/miniconda3/envs/argmining19-ssc/lib/python3.7/site-packages/mxnet/_cy3/ndarray.cpython-37m-x86_64-linux-gnu.so(+0x11026) [0x7fe6d42fc026]\\n  [bt] (6) /disk1/users/ekoerner/miniconda3/envs/argmining19-ssc/bin/python(_PyMethodDef_RawFastCallKeywords+0x264) [0x560627da3ab4]\\n  [bt] (7) /disk1/users/ekoerner/miniconda3/envs/argmining19-ssc/bin/python(_PyCFunction_FastCallKeywords+0x21) [0x560627da3bd1]\\n  [bt] (8) /disk1/users/ekoerner/miniconda3/envs/argmining19-ssc/bin/python(_PyEval_EvalFrameDefault+0x47a4) [0x560627e09e54]\\n\\n'"
     ]
    }
   ],
   "source": [
    "x = nd.ones((3,4), ctx=gpu())"
   ]
  },
  {
   "cell_type": "markdown",
   "metadata": {},
   "source": [
    "https://medium.com/@changrongko/nv-how-to-check-cuda-and-cudnn-version-e05aa21daf6c\n",
    "\n",
    "https://beta.mxnet.io/install/index.html\n",
    "\n",
    "https://beta.mxnet.io/install/validate-mxnet.html"
   ]
  },
  {
   "cell_type": "code",
   "execution_count": 1,
   "metadata": {},
   "outputs": [
    {
     "data": {
      "text/plain": [
       "array([[3., 3., 3.],\n",
       "       [3., 3., 3.]], dtype=float32)"
      ]
     },
     "execution_count": 1,
     "metadata": {},
     "output_type": "execute_result"
    }
   ],
   "source": [
    "import mxnet as mx\n",
    "a = mx.nd.ones((2, 3), mx.gpu())\n",
    "b = a * 2 + 1\n",
    "b.asnumpy()"
   ]
  },
  {
   "cell_type": "code",
   "execution_count": 2,
   "metadata": {},
   "outputs": [
    {
     "data": {
      "text/plain": [
       "\n",
       "[[1. 1. 1.]\n",
       " [1. 1. 1.]]\n",
       "<NDArray 2x3 @gpu(0)>"
      ]
     },
     "execution_count": 2,
     "metadata": {},
     "output_type": "execute_result"
    }
   ],
   "source": [
    "a"
   ]
  },
  {
   "cell_type": "code",
   "execution_count": null,
   "metadata": {},
   "outputs": [],
   "source": []
  }
 ],
 "metadata": {
  "kernelspec": {
   "display_name": "Python 3",
   "language": "python",
   "name": "python3"
  },
  "language_info": {
   "codemirror_mode": {
    "name": "ipython",
    "version": 3
   },
   "file_extension": ".py",
   "mimetype": "text/x-python",
   "name": "python",
   "nbconvert_exporter": "python",
   "pygments_lexer": "ipython3",
   "version": "3.7.7"
  }
 },
 "nbformat": 4,
 "nbformat_minor": 4
}
