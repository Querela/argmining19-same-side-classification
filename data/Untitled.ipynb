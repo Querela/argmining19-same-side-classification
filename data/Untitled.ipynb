{
 "cells": [
  {
   "cell_type": "code",
   "execution_count": 42,
   "metadata": {
    "ExecuteTime": {
     "end_time": "2019-12-16T13:26:51.913206Z",
     "start_time": "2019-12-16T13:26:51.886290Z"
    },
    "code_folding": [
     9
    ]
   },
   "outputs": [],
   "source": [
    "from itertools import product\n",
    "\n",
    "import numpy as np\n",
    "import sklearn\n",
    "\n",
    "from sklearn.metrics import confusion_matrix\n",
    "from sklearn.utils import check_matplotlib_support\n",
    "\n",
    "\n",
    "class ConfusionMatrixDisplay:\n",
    "    \"\"\"Confusion Matrix visualization.\n",
    "    It is recommend to use :func:`~sklearn.metrics.plot_confusion_matrix` to\n",
    "    create a :class:`ConfusionMatrixDisplay`. All parameters are stored as\n",
    "    attributes.\n",
    "    Read more in the :ref:`User Guide <visualizations>`.\n",
    "    Parameters\n",
    "    ----------\n",
    "    confusion_matrix : ndarray of shape (n_classes, n_classes)\n",
    "        Confusion matrix.\n",
    "    display_labels : ndarray of shape (n_classes,)\n",
    "        Display labels for plot.\n",
    "    Attributes\n",
    "    ----------\n",
    "    im_ : matplotlib AxesImage\n",
    "        Image representing the confusion matrix.\n",
    "    text_ : ndarray of shape (n_classes, n_classes), dtype=matplotlib Text, \\\n",
    "            or None\n",
    "        Array of matplotlib axes. `None` if `include_values` is false.\n",
    "    ax_ : matplotlib Axes\n",
    "        Axes with confusion matrix.\n",
    "    figure_ : matplotlib Figure\n",
    "        Figure containing the confusion matrix.\n",
    "    \"\"\"\n",
    "    def __init__(self, confusion_matrix, display_labels, title=None):\n",
    "        self.confusion_matrix = confusion_matrix\n",
    "        self.display_labels = display_labels\n",
    "        self.title = title\n",
    "\n",
    "    def plot(self, include_values=True, cmap='viridis',\n",
    "             xticks_rotation='horizontal', values_format=None, ax=None):\n",
    "        \"\"\"Plot visualization.\n",
    "        Parameters\n",
    "        ----------\n",
    "        include_values : bool, default=True\n",
    "            Includes values in confusion matrix.\n",
    "        cmap : str or matplotlib Colormap, default='viridis'\n",
    "            Colormap recognized by matplotlib.\n",
    "        xticks_rotation : {'vertical', 'horizontal'} or float, \\\n",
    "                         default='vertical'\n",
    "            Rotation of xtick labels.\n",
    "        values_format : str, default=None\n",
    "            Format specification for values in confusion matrix. If `None`,\n",
    "            the format specification is '.2f' for a normalized matrix, and\n",
    "            'd' for a unnormalized matrix.\n",
    "        ax : matplotlib axes, default=None\n",
    "            Axes object to plot on. If `None`, a new figure and axes is\n",
    "            created.\n",
    "        Returns\n",
    "        -------\n",
    "        display : :class:`~sklearn.metrics.ConfusionMatrixDisplay`\n",
    "        \"\"\"\n",
    "        check_matplotlib_support(\"ConfusionMatrixDisplay.plot\")\n",
    "        import matplotlib.pyplot as plt\n",
    "\n",
    "        if ax is None:\n",
    "            fig, ax = plt.subplots()\n",
    "        else:\n",
    "            fig = ax.figure\n",
    "\n",
    "        if self.title:\n",
    "            fig.suptitle(self.title)\n",
    "\n",
    "        cm = self.confusion_matrix\n",
    "        n_classes = cm.shape[0]\n",
    "        self.im_ = ax.imshow(cm, interpolation='nearest', cmap=cmap)\n",
    "        self.text_ = None\n",
    "\n",
    "        cmap_min, cmap_max = self.im_.cmap(0), self.im_.cmap(256)\n",
    "\n",
    "        if include_values:\n",
    "            self.text_ = np.empty_like(cm, dtype=object)\n",
    "            if values_format is None:\n",
    "                values_format = '.2g'\n",
    "\n",
    "            # print text with appropriate color depending on background\n",
    "            thresh = (cm.max() - cm.min()) / 2.\n",
    "            for i, j in product(range(n_classes), range(n_classes)):\n",
    "                color = cmap_max if cm[i, j] < thresh else cmap_min\n",
    "                self.text_[i, j] = ax.text(j, i,\n",
    "                                           format(cm[i, j], values_format),\n",
    "                                           ha=\"center\", va=\"center\",\n",
    "                                           color=color)\n",
    "\n",
    "        fig.colorbar(self.im_, ax=ax)\n",
    "        ax.set(xticks=np.arange(n_classes),\n",
    "               yticks=np.arange(n_classes),\n",
    "               xticklabels=self.display_labels,\n",
    "               yticklabels=self.display_labels,\n",
    "               ylabel=\"True label\",\n",
    "               xlabel=\"Predicted label\")\n",
    "\n",
    "        ax.set_ylim((n_classes - 0.5, -0.5))\n",
    "        plt.setp(ax.get_xticklabels(), rotation=xticks_rotation)\n",
    "\n",
    "        self.figure_ = fig\n",
    "        self.ax_ = ax\n",
    "        return self\n",
    "\n",
    "\n",
    "def plot_confusion_matrix(y_true, y_pred, labels=None,\n",
    "                          sample_weight=None, normalize=None,\n",
    "                          display_labels=None, include_values=True,\n",
    "                          xticks_rotation='horizontal',\n",
    "                          values_format=None, title=None,\n",
    "                          cmap='viridis', ax=None):\n",
    "    \"\"\"Plot Confusion Matrix.\n",
    "    Read more in the :ref:`User Guide <confusion_matrix>`.\n",
    "    Parameters\n",
    "    ----------\n",
    "    y_true : array-like of shape (n_samples,)\n",
    "        Target values.\n",
    "    y_pred : array-like of shape (n_samples,)\n",
    "        Prediction values.\n",
    "    labels : array-like of shape (n_classes,), default=None\n",
    "        List of labels to index the matrix. This may be used to reorder or\n",
    "        select a subset of labels. If `None` is given, those that appear at\n",
    "        least once in `y_true` or `y_pred` are used in sorted order.\n",
    "    sample_weight : array-like of shape (n_samples,), default=None\n",
    "        Sample weights.\n",
    "    normalize : {'true', 'pred', 'all'}, default=None\n",
    "        Normalizes confusion matrix over the true (rows), predicted (columns)\n",
    "        conditions or all the population. If None, confusion matrix will not be\n",
    "        normalized.\n",
    "    display_labels : array-like of shape (n_classes,), default=None\n",
    "        Target names used for plotting. By default, `labels` will be used if\n",
    "        it is defined, otherwise the unique labels of `y_true` and `y_pred`\n",
    "        will be used.\n",
    "    include_values : bool, default=True\n",
    "        Includes values in confusion matrix.\n",
    "    xticks_rotation : {'vertical', 'horizontal'} or float, \\\n",
    "                        default='vertical'\n",
    "        Rotation of xtick labels.\n",
    "    values_format : str, default=None\n",
    "        Format specification for values in confusion matrix. If `None`,\n",
    "        the format specification is '.2f' for a normalized matrix, and\n",
    "        'd' for a unnormalized matrix.\n",
    "    cmap : str or matplotlib Colormap, default='viridis'\n",
    "        Colormap recognized by matplotlib.\n",
    "    ax : matplotlib Axes, default=None\n",
    "        Axes object to plot on. If `None`, a new figure and axes is\n",
    "        created.\n",
    "    Returns\n",
    "    -------\n",
    "    display : :class:`~sklearn.metrics.ConfusionMatrixDisplay`\n",
    "    \"\"\"\n",
    "    check_matplotlib_support(\"plot_confusion_matrix\")\n",
    "\n",
    "    if normalize not in {'true', 'pred', 'all', None}:\n",
    "        raise ValueError(\"normalize must be one of {'true', 'pred', \"\n",
    "                         \"'all', None}\")\n",
    "\n",
    "    cm = confusion_matrix(y_true, y_pred, sample_weight=sample_weight, labels=labels)\n",
    "\n",
    "    if display_labels is None:\n",
    "        if labels is None:\n",
    "            raise ValueError(\"Missing labels!\")\n",
    "        else:\n",
    "            display_labels = labels\n",
    "\n",
    "    disp = ConfusionMatrixDisplay(confusion_matrix=cm,\n",
    "                                  display_labels=display_labels,\n",
    "                                  title=title)\n",
    "    return disp.plot(include_values=include_values,\n",
    "                     cmap=cmap, ax=ax, xticks_rotation=xticks_rotation)"
   ]
  },
  {
   "cell_type": "code",
   "execution_count": 44,
   "metadata": {
    "ExecuteTime": {
     "end_time": "2019-12-16T13:27:00.545848Z",
     "start_time": "2019-12-16T13:27:00.422181Z"
    }
   },
   "outputs": [
    {
     "data": {
      "text/plain": [
       "<__main__.ConfusionMatrixDisplay at 0x7f42a1889f98>"
      ]
     },
     "execution_count": 44,
     "metadata": {},
     "output_type": "execute_result"
    },
    {
     "data": {
      "image/png": "[encoded data removed]",
      "text/plain": [
       "<Figure size 432x288 with 2 Axes>"
      ]
     },
     "metadata": {
      "needs_background": "light"
     },
     "output_type": "display_data"
    }
   ],
   "source": [
    "y_true = np.array([1, 0, 0, 1])\n",
    "y_pred = np.array([1, 1, 0, 1])\n",
    "\n",
    "plot_confusion_matrix(y_true, y_pred, labels=[0, 1], cmap=plt.cm.Blues, title=\"Test\")"
   ]
  },
  {
   "cell_type": "code",
   "execution_count": 22,
   "metadata": {
    "ExecuteTime": {
     "end_time": "2019-12-16T13:12:42.182701Z",
     "start_time": "2019-12-16T13:12:42.174843Z"
    }
   },
   "outputs": [],
   "source": [
    "import matplotlib.pyplot as plt\n",
    "import seaborn as sns\n",
    "\n",
    "\n",
    "def heatconmat(y_test, y_pred):\n",
    "    sns.set_context('talk')\n",
    "    plt.figure(figsize=(9, 6))\n",
    "    sns.heatmap(confusion_matrix(y_test, y_pred),\n",
    "                annot=True,\n",
    "                fmt='d',\n",
    "                cbar=False,\n",
    "                cmap=plt.cm.Blues,\n",
    "                yticklabels=sorted(np.unique(y_test)))\n",
    "    plt.show()"
   ]
  },
  {
   "cell_type": "code",
   "execution_count": 23,
   "metadata": {
    "ExecuteTime": {
     "end_time": "2019-12-16T13:12:42.757572Z",
     "start_time": "2019-12-16T13:12:42.680276Z"
    }
   },
   "outputs": [
    {
     "data": {
      "image/png": "[encoded data removed]",
      "text/plain": [
       "<Figure size 648x432 with 1 Axes>"
      ]
     },
     "metadata": {
      "needs_background": "light"
     },
     "output_type": "display_data"
    }
   ],
   "source": [
    "heatconmat(y_true, y_pred)"
   ]
  },
  {
   "cell_type": "code",
   "execution_count": null,
   "metadata": {},
   "outputs": [],
   "source": []
  },
  {
   "cell_type": "code",
   "execution_count": null,
   "metadata": {},
   "outputs": [],
   "source": []
  },
  {
   "cell_type": "code",
   "execution_count": null,
   "metadata": {},
   "outputs": [],
   "source": []
  }
 ],
 "metadata": {
  "kernelspec": {
   "display_name": "Python 3",
   "language": "python",
   "name": "python3"
  },
  "language_info": {
   "codemirror_mode": {
    "name": "ipython",
    "version": 3
   },
   "file_extension": ".py",
   "mimetype": "text/x-python",
   "name": "python",
   "nbconvert_exporter": "python",
   "pygments_lexer": "ipython3",
   "version": "3.7.3"
  },
  "varInspector": {
   "cols": {
    "lenName": 16,
    "lenType": 16,
    "lenVar": 40
   },
   "kernels_config": {
    "python": {
     "delete_cmd_postfix": "",
     "delete_cmd_prefix": "del ",
     "library": "var_list.py",
     "varRefreshCmd": "print(var_dic_list())"
    },
    "r": {
     "delete_cmd_postfix": ") ",
     "delete_cmd_prefix": "rm(",
     "library": "var_list.r",
     "varRefreshCmd": "cat(var_dic_list()) "
    }
   },
   "types_to_exclude": [
    "module",
    "function",
    "builtin_function_or_method",
    "instance",
    "_Feature"
   ],
   "window_display": false
  }
 },
 "nbformat": 4,
 "nbformat_minor": 2
}
