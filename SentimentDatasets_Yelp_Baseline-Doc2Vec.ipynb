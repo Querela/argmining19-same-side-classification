{
 "cells": [
  {
   "cell_type": "markdown",
   "metadata": {},
   "source": [
    "# Datasets (Sentiment) - Yelp - Baseline - Doc2Vec"
   ]
  },
  {
   "cell_type": "markdown",
   "metadata": {},
   "source": [
    "## Yelp\n",
    "\n",
    "- https://www.yelp.com/dataset/documentation/main\n",
    "- https://www.yelp.com/developers/documentation/v3/all_category_list"
   ]
  },
  {
   "cell_type": "code",
   "execution_count": null,
   "metadata": {},
   "outputs": [],
   "source": [
    "# ! pip install gensim"
   ]
  },
  {
   "cell_type": "code",
   "execution_count": 1,
   "metadata": {
    "ExecuteTime": {
     "end_time": "2020-05-25T09:52:14.905825Z",
     "start_time": "2020-05-25T09:52:14.315598Z"
    }
   },
   "outputs": [
    {
     "name": "stderr",
     "output_type": "stream",
     "text": [
      "/disk1/users/ekoerner/miniconda3/envs/argmining19-ssc/lib/python3.7/site-packages/tqdm/std.py:658: FutureWarning: The Panel class is removed from pandas. Accessing it from the top-level namespace will also be removed in the next version\n",
      "  from pandas import Panel\n"
     ]
    },
    {
     "data": {
      "text/plain": [
       "[]"
      ]
     },
     "execution_count": 1,
     "metadata": {},
     "output_type": "execute_result"
    },
    {
     "data": {
      "image/png": "[encoded data removed]",
      "text/plain": [
       "<Figure size 432x288 with 1 Axes>"
      ]
     },
     "metadata": {
      "needs_background": "light"
     },
     "output_type": "display_data"
    }
   ],
   "source": [
    "import json\n",
    "import os\n",
    "import random\n",
    "import pickle\n",
    "from collections import Counter\n",
    "from copy import deepcopy\n",
    "from itertools import combinations, groupby\n",
    "from pathlib import Path\n",
    "from pprint import pprint\n",
    "\n",
    "import jsonlines\n",
    "import matplotlib.pyplot as plt\n",
    "import numpy as np\n",
    "import pandas as pd\n",
    "import seaborn as sn\n",
    "import scipy.spatial.distance as ssd\n",
    "from IPython.display import set_matplotlib_formats\n",
    "from scipy.cluster import hierarchy\n",
    "from sklearn.cluster import AgglomerativeClustering, SpectralClustering\n",
    "from sklearn.metrics import pairwise_distances\n",
    "from sklearn.metrics.pairwise import cosine_similarity, linear_kernel\n",
    "from syntok.tokenizer import Tokenizer\n",
    "from tqdm import tqdm\n",
    "\n",
    "tqdm.pandas()\n",
    "\n",
    "%matplotlib inline\n",
    "plt.rcParams.update({\"font.size\": 25, \"font.weight\": \"bold\"})\n",
    "# https://stackoverflow.com/questions/36622237/jupyter-notebook-inline-plots-as-svg\n",
    "# set_matplotlib_formats(\"svg\")  # glitches it\n",
    "plt.plot()"
   ]
  },
  {
   "cell_type": "code",
   "execution_count": 2,
   "metadata": {},
   "outputs": [
    {
     "name": "stderr",
     "output_type": "stream",
     "text": [
      "[nltk_data] Downloading package punkt to /home/ekoerner/nltk_data...\n",
      "[nltk_data]   Package punkt is already up-to-date!\n",
      "[nltk_data] Downloading package wordnet to /home/ekoerner/nltk_data...\n",
      "[nltk_data]   Package wordnet is already up-to-date!\n",
      "[nltk_data] Downloading package averaged_perceptron_tagger to\n",
      "[nltk_data]     /home/ekoerner/nltk_data...\n",
      "[nltk_data]   Package averaged_perceptron_tagger is already up-to-\n",
      "[nltk_data]       date!\n"
     ]
    }
   ],
   "source": [
    "import numpy as np\n",
    "import pandas as pd\n",
    "from nltk.tokenize import sent_tokenize, word_tokenize\n",
    "import csv\n",
    "\n",
    "from sklearn.model_selection import train_test_split\n",
    "import nltk\n",
    "nltk.download('punkt')\n",
    "nltk.download('wordnet')\n",
    "nltk.download('averaged_perceptron_tagger')\n",
    "\n",
    "from utils_data import Timer"
   ]
  },
  {
   "cell_type": "code",
   "execution_count": 3,
   "metadata": {
    "ExecuteTime": {
     "end_time": "2020-05-25T09:52:15.648956Z",
     "start_time": "2020-05-25T09:52:15.148633Z"
    }
   },
   "outputs": [],
   "source": [
    "from utils_data import init_random\n",
    "init_random()"
   ]
  },
  {
   "cell_type": "code",
   "execution_count": 4,
   "metadata": {
    "ExecuteTime": {
     "end_time": "2020-05-25T09:52:15.790984Z",
     "start_time": "2020-05-25T09:52:15.786910Z"
    }
   },
   "outputs": [],
   "source": [
    "# download + scp to cuda + extract\n",
    "# Path on CUDA2\n",
    "data_yelp_path = Path(\"/disk1/users/ekoerner/argmining19-same-side-classification/data/sentiment/yelp/\")\n",
    "# CUDA1?\n",
    "#data_yelp_path = Path(\"/disk1/users/ekoerner/same-side-classification/argmining19-same-side-classification/data/sentiment/yelp/\")"
   ]
  },
  {
   "cell_type": "markdown",
   "metadata": {},
   "source": [
    "---"
   ]
  },
  {
   "cell_type": "markdown",
   "metadata": {},
   "source": [
    "#### Load reviews / categories (topics) + filter cats/make combinations"
   ]
  },
  {
   "cell_type": "code",
   "execution_count": 5,
   "metadata": {
    "ExecuteTime": {
     "end_time": "2020-05-25T09:52:19.846925Z",
     "start_time": "2020-05-25T09:52:19.827613Z"
    },
    "code_folding": [
     0,
     28
    ],
    "jupyter": {
     "source_hidden": true
    }
   },
   "outputs": [],
   "source": [
    "def load_reviews(fn_yelp_reviews):\n",
    "    \"\"\"Load Yelp reviews. Return a Pandas dataframe.\n",
    "    Format: {\"id\": business_id, \"rid\": review_id, \"text\": text, \"rating\": rating}\n",
    "    And add goodness bool (rating > 3).\"\"\"\n",
    "    data = list()\n",
    "\n",
    "    with jsonlines.open(fn_yelp_reviews, \"r\") as fp:\n",
    "        for n, entry in enumerate(tqdm(fp)):\n",
    "            # print(entry)\n",
    "            # break\n",
    "            business_id = entry.pop(\"business_id\")\n",
    "            review_id = entry.pop(\"review_id\")\n",
    "            text = entry.pop(\"text\", \"\")\n",
    "            rating = entry.pop(\"stars\", 0.0)\n",
    "            data.append({\"id\": business_id, \"rid\": review_id, \"text\": text, \"rating\": rating})\n",
    "            # TESTING\n",
    "            # if n > 10000:\n",
    "            #     break\n",
    "\n",
    "    df = pd.DataFrame.from_dict(data)\n",
    "    \n",
    "    # Add goodness value\n",
    "    # TODO: maybe ignore with 3\n",
    "    df[\"goodness\"] = df[\"rating\"] > 3\n",
    "    \n",
    "    return df\n",
    "\n",
    "\n",
    "def load_topics(fn_yelp_topics, bids_not_cats=None, filter_cats=None, filter_cat_combis=None):\n",
    "    \"\"\"Load topics (categories).\n",
    "    Optionally filter by giving it a whitelist of allowed categories.\n",
    "    Optionally filter by giving a list of allowed category combinations.\n",
    "    Optionally provide an IN/OUT param ``bids_not_cats`` that accumulates business ids without categories.\"\"\"\n",
    "    inv_bid_cats = dict()\n",
    "    if bids_not_cats is None or not isinstance(bids_not_cats, set):\n",
    "        bids_not_cats = set()\n",
    "    \n",
    "    # load lookup business -> categories\n",
    "    with jsonlines.open(fn_yelp_topics, \"r\") as fp:\n",
    "        for n, entry in enumerate(tqdm(fp)):\n",
    "            business_id = entry.pop(\"business_id\")\n",
    "            categories = entry.pop(\"categories\")\n",
    "\n",
    "            if not categories:\n",
    "                bids_not_cats.add(business_id)\n",
    "                continue\n",
    "\n",
    "            categories = categories.split(\", \")\n",
    "            \n",
    "            if filter_cats:\n",
    "                categories = [c for c in categories if c in filter_cats]\n",
    "                if not categories:\n",
    "                    # bids_not_cats.add(business_id)  # ??\n",
    "                    continue\n",
    "                    \n",
    "            if filter_cat_combis:\n",
    "                # skip if combination is not above threshold (of filter list)\n",
    "                if tuple(sorted(set(categories))) not in filter_cat_combis:\n",
    "                    continue\n",
    "\n",
    "            inv_bid_cats[business_id] = categories\n",
    "    \n",
    "    return inv_bid_cats"
   ]
  },
  {
   "cell_type": "code",
   "execution_count": 6,
   "metadata": {
    "ExecuteTime": {
     "end_time": "2020-05-25T09:52:20.111088Z",
     "start_time": "2020-05-25T09:52:20.098533Z"
    },
    "code_folding": [
     0,
     11,
     30
    ],
    "jupyter": {
     "source_hidden": true
    }
   },
   "outputs": [],
   "source": [
    "def filter_min_cat_combis(inv_cat_combis, min_num=30):\n",
    "    \"\"\"Filter category combinations by minimum amount of occurrences in businesses\"\"\"\n",
    "    f_inv_cat_combis = dict()\n",
    "    \n",
    "    for cats, num in inv_cat_combis.items():\n",
    "        if num >= min_num:\n",
    "            f_inv_cat_combis[cats] = num\n",
    "    \n",
    "    return f_inv_cat_combis\n",
    "\n",
    "\n",
    "def make_map_cats(inv_bid_cats):\n",
    "    \"\"\"Make a map from category to business id\"\"\"\n",
    "    inv_cat_bids = dict()\n",
    "\n",
    "    # reverse lookup: category -> businesses\n",
    "    for bid, cats in tqdm(inv_bid_cats.items()):\n",
    "        for cat in cats:\n",
    "            try:\n",
    "                inv_cat_bids[cat].append(bid)\n",
    "            except KeyError:\n",
    "                inv_cat_bids[cat] = [bid]\n",
    "                \n",
    "    ## TODO: make distinct?\n",
    "    for cat in inv_cat_bids.keys():\n",
    "        inv_cat_bids[cat] = list(set(inv_cat_bids[cat]))\n",
    "                \n",
    "    return inv_cat_bids\n",
    "\n",
    "\n",
    "def make_cat_combis(inv_bid_cats):\n",
    "    \"\"\"Count amount of each category combination occurring in businesses\"\"\"\n",
    "    inv_cat_combis = Counter()\n",
    "\n",
    "    inv_cat_combis.update(\n",
    "        (tuple(sorted(set(cats))) for cats in tqdm(inv_bid_cats.values())))\n",
    "    \n",
    "    return inv_cat_combis"
   ]
  },
  {
   "cell_type": "markdown",
   "metadata": {},
   "source": [
    "#### Filter reviews according to criteria"
   ]
  },
  {
   "cell_type": "code",
   "execution_count": 7,
   "metadata": {
    "ExecuteTime": {
     "end_time": "2020-05-25T09:52:22.183788Z",
     "start_time": "2020-05-25T09:52:22.171415Z"
    },
    "code_folding": [
     0,
     16
    ],
    "jupyter": {
     "source_hidden": true
    }
   },
   "outputs": [],
   "source": [
    "def filter_min_review_freq(df, min_ratings=5):\n",
    "    \"\"\"Filter review dataframe for a minimum of N of each good and bad ratings.\"\"\"\n",
    "    # filter with at least N ratings per goodness\n",
    "    df_filter = df.groupby([\"id\", \"goodness\"])[[\"id\"]].count() < min_ratings\n",
    "    df_filter = df_filter.rename(columns={\"id\": \"filter\"})\n",
    "    df_filter = df_filter[df_filter[\"filter\"] == True]\n",
    "\n",
    "    # build a filter id list\n",
    "    df_filter_list = df_filter.reset_index()[\"id\"].to_list()\n",
    "\n",
    "    # filter with list\n",
    "    df_filtered = df[~df.id.isin(df_filter_list)]\n",
    "    \n",
    "    return df_filtered\n",
    "\n",
    "\n",
    "def filter_both_good_bad(df):\n",
    "    \"\"\"Filter the dataframe to contain only both good and bad reviews for each business.\n",
    "    Dataframe should be the same if minimum filtering above is done.\"\"\"\n",
    "    # build filter for ids that contain both positive and negative samples\n",
    "    df_filter = df.groupby([\"id\", \"goodness\"], as_index=False).count().groupby(\"id\")[[\"id\"]].count() == 2\n",
    "    df_filter = df_filter.rename(columns={\"id\": \"filter\"})\n",
    "    df_filter = df_filter[df_filter[\"filter\"] == True]\n",
    "\n",
    "    # create list of IDs for which this is true\n",
    "    df_filter_list = df_filter.reset_index()[\"id\"].to_list()\n",
    "\n",
    "    # filter with list\n",
    "    df_filtered = df[df.id.isin(df_filter_list)]\n",
    "\n",
    "    # df_filtered.groupby([\"id\", \"goodness\"]).count()\n",
    "    return df_filtered"
   ]
  },
  {
   "cell_type": "code",
   "execution_count": 8,
   "metadata": {
    "ExecuteTime": {
     "end_time": "2020-05-25T09:52:22.384186Z",
     "start_time": "2020-05-25T09:52:22.377841Z"
    },
    "code_folding": [
     0,
     7
    ],
    "jupyter": {
     "source_hidden": true
    }
   },
   "outputs": [],
   "source": [
    "def filter_by_businesses(df, lst_business_ids):\n",
    "    # filter with list, keep businesses in list\n",
    "    df_filtered = df[df.id.isin(set(lst_business_ids))]\n",
    "\n",
    "    return df_filtered\n",
    "\n",
    "\n",
    "def filter_by_businesses_not_same(df, lst_business_ids):\n",
    "    # filter with list, keep businesses that are not in list\n",
    "    df_filtered = df[~df.id.isin(set(lst_business_ids))]\n",
    "\n",
    "    return df_filtered"
   ]
  },
  {
   "cell_type": "markdown",
   "metadata": {},
   "source": [
    "#### Get topN categories + make Ntuples from category combinations"
   ]
  },
  {
   "cell_type": "code",
   "execution_count": 9,
   "metadata": {
    "ExecuteTime": {
     "end_time": "2020-05-25T09:52:22.837095Z",
     "start_time": "2020-05-25T09:52:22.827303Z"
    },
    "code_folding": [
     0,
     7
    ],
    "jupyter": {
     "source_hidden": true
    }
   },
   "outputs": [],
   "source": [
    "def get_Ntop_cats(inv_cat_bids, n=50):\n",
    "    # get most common cats\n",
    "    f_cat_cnt = Counter({k: len(v) for k, v in inv_cat_bids.items()})\n",
    "    f_cats = {c for c, v in f_cat_cnt.most_common(n)}\n",
    "    return f_cats\n",
    "\n",
    "\n",
    "def make_cat_Ntuples(f_inv_cat_combis, n=2):\n",
    "    f_cat_pairs = Counter()\n",
    "\n",
    "    for cat_group in tqdm(f_inv_cat_combis.keys()):\n",
    "        if len(cat_group) < n:\n",
    "            continue\n",
    "        it = combinations(cat_group, n)\n",
    "        # repeat (#num_businesses) + chain combis\n",
    "        f_cat_pairs.update(it)\n",
    "        \n",
    "    return f_cat_pairs"
   ]
  },
  {
   "cell_type": "markdown",
   "metadata": {},
   "source": [
    "#### Make category graph or NxN map (df + array)"
   ]
  },
  {
   "cell_type": "code",
   "execution_count": 10,
   "metadata": {
    "ExecuteTime": {
     "end_time": "2020-05-25T09:52:24.807433Z",
     "start_time": "2020-05-25T09:52:24.793721Z"
    },
    "code_folding": [
     0,
     9
    ],
    "jupyter": {
     "source_hidden": true
    }
   },
   "outputs": [],
   "source": [
    "def make_graph(f_cat_pairs):\n",
    "    g_from, g_to, g_value = zip(*((k1, k2, n) for (k1, k2), n in tqdm(f_cat_pairs.most_common())))\n",
    "\n",
    "    g_df = pd.DataFrame({\"from\": g_from, \"to\": g_to, \"value\": g_value})\n",
    "    G = nx.from_pandas_edgelist(g_df, \"from\", \"to\", create_using=nx.Graph())\n",
    "    \n",
    "    return G\n",
    "\n",
    "\n",
    "def make_NxN_map(f_cats, f_cat_pairs):\n",
    "    f_cats = list(f_cats)\n",
    "    array = list()\n",
    "    for i, cat1 in enumerate(tqdm(f_cats)):\n",
    "        array_row = list()\n",
    "        for j, cat2 in enumerate(f_cats):\n",
    "            array_row.append(f_cat_pairs.get((cat1, cat2), f_cat_pairs.get((cat2, cat1), 0)))\n",
    "        array.append(array_row)\n",
    "    df_cm = pd.DataFrame(array, index=list(f_cats), columns=list(f_cats))\n",
    "    \n",
    "    # dataframe, NxN array + labels\n",
    "    return df_cm, array, f_cats"
   ]
  },
  {
   "cell_type": "markdown",
   "metadata": {},
   "source": [
    "---"
   ]
  },
  {
   "cell_type": "markdown",
   "metadata": {},
   "source": [
    "#### Load categories hierarchy"
   ]
  },
  {
   "cell_type": "code",
   "execution_count": 11,
   "metadata": {
    "ExecuteTime": {
     "end_time": "2020-05-25T09:52:25.582403Z",
     "start_time": "2020-05-25T09:52:25.560666Z"
    },
    "code_folding": [
     0,
     30,
     40
    ],
    "jupyter": {
     "source_hidden": true
    }
   },
   "outputs": [],
   "source": [
    "def load_category_tree(fn_all_category_list):\n",
    "    with open(fn_all_category_list, \"r\") as fp:\n",
    "        content = fp.read()\n",
    "        data = json.loads(content)\n",
    "\n",
    "    map_categories = dict()\n",
    "    map_cat_name2id = dict()\n",
    "    lst_root_categories = list()\n",
    "\n",
    "    # load basic lookups\n",
    "    for item in data:\n",
    "        # .alias (id)\n",
    "        map_categories[item[\"alias\"]] = item\n",
    "        # .title\n",
    "        map_cat_name2id[item[\"title\"]] = item[\"alias\"]\n",
    "        # .parents\n",
    "        # some have multiple parents ...\n",
    "        if not item[\"parents\"]:\n",
    "            lst_root_categories.append(item[\"alias\"])\n",
    "        # add list of children\n",
    "        item[\"children\"] = list()\n",
    "\n",
    "    # add children\n",
    "    for cid, item in map_categories.items():\n",
    "        for parent_cid in item[\"parents\"]:\n",
    "            map_categories[parent_cid][\"children\"].append(item[\"alias\"])\n",
    "\n",
    "    return map_categories, map_cat_name2id, lst_root_categories\n",
    "\n",
    "\n",
    "def get_root_category_items(map_categories):\n",
    "    lst_root_categories = list()\n",
    "\n",
    "    for cid, item in map_categories.items():\n",
    "        if not item[\"parents\"]:\n",
    "            lst_root_categories.append(item)\n",
    "            \n",
    "    return lst_root_categories\n",
    "\n",
    "\n",
    "def get_children_category_item_list(map_categories, parent_cid):\n",
    "    return [\n",
    "        map_categories[child_cid]\n",
    "        for child_cid in map_categories[parent_cid][\"children\"]\n",
    "    ]"
   ]
  },
  {
   "cell_type": "markdown",
   "metadata": {},
   "source": [
    "##### Get businesses in categories"
   ]
  },
  {
   "cell_type": "code",
   "execution_count": 12,
   "metadata": {
    "ExecuteTime": {
     "end_time": "2020-05-25T09:52:28.177244Z",
     "start_time": "2020-05-25T09:52:28.167066Z"
    },
    "code_folding": [
     0,
     7
    ],
    "jupyter": {
     "source_hidden": true
    }
   },
   "outputs": [],
   "source": [
    "def get_businesses_in_category(inv_cat_bids, category):\n",
    "    try:\n",
    "        return list(set(inv_cat_bids[category]))\n",
    "    except KeyError:\n",
    "        return []\n",
    "    \n",
    "    \n",
    "def get_businesses_in_category_branch(inv_cat_bids, category, map_categories, map_cat_name2id):\n",
    "    map_cat_id2name = {cid: name for name, cid in map_cat_name2id.items()}\n",
    "\n",
    "    def _get_recursive_businesses(cat_name):\n",
    "        businesses = get_businesses_in_category(inv_cat_bids, cat_name)\n",
    "\n",
    "        cid = map_cat_name2id[cat_name]\n",
    "        for child_cid in map_categories[cid][\"children\"]:\n",
    "            child_name = map_cat_id2name[child_cid]\n",
    "            businesses.extend(_get_recursive_businesses(child_name))\n",
    "        \n",
    "        return businesses\n",
    "    \n",
    "    return _get_recursive_businesses(category)"
   ]
  },
  {
   "cell_type": "markdown",
   "metadata": {},
   "source": [
    "##### Print category trees"
   ]
  },
  {
   "cell_type": "code",
   "execution_count": 13,
   "metadata": {
    "ExecuteTime": {
     "end_time": "2020-05-25T09:52:29.242019Z",
     "start_time": "2020-05-25T09:52:29.205730Z"
    },
    "code_folding": [
     0,
     19,
     49,
     85,
     106
    ],
    "jupyter": {
     "source_hidden": true
    }
   },
   "outputs": [],
   "source": [
    "def print_category_tree(map_categories):\n",
    "    root_categories = get_root_category_items(map_categories)\n",
    "    \n",
    "    def _print_cat_list_rec(lst_cats, level=0):\n",
    "        for item in sorted(lst_cats, key=lambda x: x[\"title\"]):\n",
    "            if level:\n",
    "                print(\"  \" * level, end=\"\")\n",
    "            print(f\"\"\"{item[\"title\"]} [{item[\"alias\"]}]\"\"\", end=\"\")\n",
    "            if item[\"children\"]:\n",
    "                print(f\"\"\" [#{len(item[\"children\"])} children]\"\"\")\n",
    "            else:\n",
    "                print()\n",
    "            \n",
    "            children = get_children_category_item_list(map_categories, item[\"alias\"])\n",
    "            _print_cat_list_rec(children, level=level + 1)\n",
    "            \n",
    "    _print_cat_list_rec(root_categories, level=0)\n",
    "\n",
    "\n",
    "def print_category_tree_with_num_businesses(map_categories, inv_cat_bids):\n",
    "    root_categories = get_root_category_items(map_categories)\n",
    "    \n",
    "    def _print_cat_list_rec(lst_cats, level=0):\n",
    "        for item in sorted(lst_cats, key=lambda x: x[\"title\"]):\n",
    "            cur_line = \" .\" * 30\n",
    "            parts = list()\n",
    "\n",
    "            if level:\n",
    "                parts.append(\"  \" * level)\n",
    "            parts.append(f\"\"\"{item[\"title\"]} [{item[\"alias\"]}]\"\"\")\n",
    "            \n",
    "            str_len = sum(len(part) for part in parts)\n",
    "            print(\"\".join(part for part in parts), end=\"\")\n",
    "            print(cur_line[str_len:], end=\"\")\n",
    "            \n",
    "            if item[\"title\"] not in inv_cat_bids:\n",
    "                print(\" No businesses associated!\")\n",
    "            else:\n",
    "                print(f\"\"\" {len((inv_cat_bids[item[\"title\"]])):>5d} businesses\"\"\")\n",
    "            \n",
    "            children = get_children_category_item_list(map_categories, item[\"alias\"])\n",
    "            _print_cat_list_rec(children, level=level + 1)\n",
    "            \n",
    "            if level == 0:\n",
    "                print()\n",
    "            \n",
    "    _print_cat_list_rec(root_categories, level=0)\n",
    "    \n",
    "\n",
    "def print_category_tree_with_num_businesses_rec(map_categories, inv_cat_bids, map_cat_name2id):\n",
    "    root_categories = get_root_category_items(map_categories)\n",
    "    \n",
    "    def _print_cat_list_rec(lst_cats, level=0):\n",
    "        for item in sorted(lst_cats, key=lambda x: x[\"title\"]):\n",
    "            cur_line = \" .\" * 30\n",
    "            parts = list()\n",
    "\n",
    "            if level:\n",
    "                parts.append(\"  \" * level)\n",
    "            parts.append(f\"\"\"{item[\"title\"]} [{item[\"alias\"]}]\"\"\")\n",
    "            \n",
    "            str_len = sum(len(part) for part in parts)\n",
    "            print(\"\".join(part for part in parts), end=\"\")\n",
    "            print(cur_line[str_len:], end=\"\")\n",
    "            \n",
    "            businesses = get_businesses_in_category_branch(inv_cat_bids, item[\"title\"], map_categories, map_cat_name2id)\n",
    "            businesses_self = get_businesses_in_category(inv_cat_bids, item[\"title\"])\n",
    "            if not businesses:\n",
    "                print(\" No businesses associated!\")\n",
    "            else:\n",
    "                businesses = set(businesses)\n",
    "                print(f\"\"\" {len(businesses):>5d} businesses\"\"\", end=\"\")\n",
    "                if len(businesses) != len(businesses_self):\n",
    "                    print(f\"\"\" (self: {len(businesses_self)})\"\"\", end=\"\")\n",
    "                print()\n",
    "            \n",
    "            children = get_children_category_item_list(map_categories, item[\"alias\"])\n",
    "            _print_cat_list_rec(children, level=level + 1)\n",
    "            \n",
    "            if level == 0:\n",
    "                print()\n",
    "            \n",
    "    _print_cat_list_rec(root_categories, level=0)\n",
    "    \n",
    "    \n",
    "def print_category_tree_with_num_businesses_root(map_categories, inv_cat_bids, map_cat_name2id):\n",
    "    root_categories = get_root_category_items(map_categories)\n",
    "    \n",
    "    for item in sorted(root_categories, key=lambda x: x[\"title\"]):\n",
    "        cur_line = \" .\" * 25\n",
    "        parts = [f\"\"\"{item[\"title\"]} [{item[\"alias\"]}] \"\"\"]\n",
    "\n",
    "        str_len = sum(len(part) for part in parts)\n",
    "        print(\"\".join(part for part in parts), end=\"\")\n",
    "        print(cur_line[str_len:], end=\"\")\n",
    "\n",
    "        businesses = get_businesses_in_category_branch(inv_cat_bids, item[\"title\"], map_categories, map_cat_name2id)\n",
    "        businesses_self = get_businesses_in_category(inv_cat_bids, item[\"title\"])\n",
    "\n",
    "        businesses = set(businesses)\n",
    "        print(f\"\"\" {len(businesses):>5d} businesses\"\"\", end=\"\")\n",
    "        if len(businesses) != len(businesses_self):\n",
    "            print(f\"\"\" (self: {len(businesses_self)})\"\"\", end=\"\")\n",
    "        print()\n",
    "        \n",
    "\n",
    "def print_category_tree_with_num_businesses_root2(map_categories, inv_cat_bids, map_cat_name2id):\n",
    "    root_categories = get_root_category_items(map_categories)\n",
    "    for item in root_categories:\n",
    "        item[\"businesses\"] = get_businesses_in_category_branch(inv_cat_bids, item[\"title\"], map_categories, map_cat_name2id)\n",
    "        item[\"businesses_self\"] = get_businesses_in_category(inv_cat_bids, item[\"title\"])\n",
    "    \n",
    "    for item in sorted(root_categories, key=lambda x: len(set(x[\"businesses\"]))):\n",
    "        cur_line = \" .\" * 25\n",
    "        parts = [f\"\"\"{item[\"title\"]} [{item[\"alias\"]}] \"\"\"]\n",
    "\n",
    "        str_len = sum(len(part) for part in parts)\n",
    "        print(\"\".join(part for part in parts), end=\"\")\n",
    "        print(cur_line[str_len:], end=\"\")\n",
    "\n",
    "        businesses = item[\"businesses\"]\n",
    "        businesses_self = item[\"businesses_self\"]\n",
    "\n",
    "        businesses = set(businesses)\n",
    "        print(f\"\"\" {len(businesses):>5d} businesses\"\"\", end=\"\")\n",
    "        if len(businesses) != len(businesses_self):\n",
    "            print(f\"\"\" (self: {len(businesses_self)})\"\"\", end=\"\")\n",
    "        print()"
   ]
  },
  {
   "cell_type": "markdown",
   "metadata": {},
   "source": [
    "##### Make category comparisons"
   ]
  },
  {
   "cell_type": "code",
   "execution_count": 14,
   "metadata": {
    "ExecuteTime": {
     "end_time": "2020-05-25T09:52:31.432925Z",
     "start_time": "2020-05-25T09:52:31.423857Z"
    },
    "code_folding": [
     0
    ],
    "jupyter": {
     "source_hidden": true
    }
   },
   "outputs": [],
   "source": [
    "def print_2category_compare(inv_cat_bids, map_categories, map_cat_name2id, cat_name_i, cat_name_j):\n",
    "    businesses_i = get_businesses_in_category_branch(inv_cat_bids, cat_name_i, map_categories, map_cat_name2id)\n",
    "    businesses_j = get_businesses_in_category_branch(inv_cat_bids, cat_name_j, map_categories, map_cat_name2id)\n",
    "    \n",
    "    cat_name_i += \":\"\n",
    "    cat_name_j += \":\"\n",
    "    width = max(12, len(cat_name_i), len(cat_name_j))\n",
    "\n",
    "    print(f\"\"\"{cat_name_i:<{width}} {len(set(businesses_i)):>5d}\"\"\")\n",
    "    print(f\"\"\"{cat_name_j:<{width}} {len(set(businesses_j)):>5d}\"\"\")\n",
    "    print(f\"\"\"Both: {\"same:\":>{width - 6}} {len(set(businesses_i) & set(businesses_j)):>5d}\"\"\")\n",
    "    print(f\"\"\"{\"total:\":>{width}} {len(set(businesses_i) | set(businesses_j)):>5d}\"\"\")"
   ]
  },
  {
   "cell_type": "code",
   "execution_count": 15,
   "metadata": {
    "ExecuteTime": {
     "end_time": "2020-05-25T09:52:31.675547Z",
     "start_time": "2020-05-25T09:52:31.663367Z"
    },
    "code_folding": [
     0
    ],
    "jupyter": {
     "source_hidden": true
    }
   },
   "outputs": [],
   "source": [
    "def make_NxN_category_businesses_overlap(inv_cat_bids, map_categories, map_cat_name2id):\n",
    "    root_categories = get_root_category_items(map_categories)\n",
    "    root_categories = sorted(root_categories, key=lambda x: x[\"title\"])\n",
    "    root_category_labels = [x[\"title\"] for x in root_categories]\n",
    "    \n",
    "    array = list()\n",
    "    for cname_i in root_category_labels:\n",
    "        array_line = list()\n",
    "        for cname_j in root_category_labels:\n",
    "            businesses_i = get_businesses_in_category_branch(inv_cat_bids, cname_i, map_categories, map_cat_name2id)\n",
    "            businesses_j = get_businesses_in_category_branch(inv_cat_bids, cname_j, map_categories, map_cat_name2id)\n",
    "            businesses_i, businesses_j = set(businesses_i), set(businesses_j)\n",
    "            businesses_ij_union = businesses_i | businesses_j\n",
    "            businesses_ij_intersect = businesses_i & businesses_j\n",
    "            num_businesses_ij = len(businesses_ij_intersect)\n",
    "            #array_line.append(num_businesses_ij)\n",
    "            array_line.append(len(businesses_ij_intersect) / len(businesses_ij_union))\n",
    "        array.append(array_line)\n",
    "    \n",
    "    df_cm = pd.DataFrame(array, index=list(root_category_labels), columns=list(root_category_labels))\n",
    "    \n",
    "    return array, root_category_labels, df_cm"
   ]
  },
  {
   "cell_type": "markdown",
   "metadata": {},
   "source": [
    "##### text length comparisons?"
   ]
  },
  {
   "cell_type": "code",
   "execution_count": 16,
   "metadata": {
    "ExecuteTime": {
     "end_time": "2020-05-25T09:52:33.641093Z",
     "start_time": "2020-05-25T09:52:33.634436Z"
    },
    "code_folding": [
     0
    ],
    "jupyter": {
     "source_hidden": true
    }
   },
   "outputs": [],
   "source": [
    "def get_reviews_for_category(df, cat_name, inv_cat_bids, map_categories, map_cat_name2id):\n",
    "    businesses = get_businesses_in_category_branch(inv_cat_bids, cat_name, map_categories, map_cat_name2id)\n",
    "    print(f\"\"\"{cat_name}: {len(businesses)}, uniq: {len(set(businesses))}\"\"\")\n",
    "    businesses = set(businesses)\n",
    "\n",
    "    df_businesses = filter_by_businesses(df, businesses)\n",
    "\n",
    "    return df_businesses"
   ]
  },
  {
   "cell_type": "markdown",
   "metadata": {},
   "source": [
    "##### Cache root category reviews in dataframes"
   ]
  },
  {
   "cell_type": "code",
   "execution_count": 17,
   "metadata": {
    "ExecuteTime": {
     "end_time": "2020-05-25T09:52:36.102987Z",
     "start_time": "2020-05-25T09:52:36.087219Z"
    },
    "code_folding": [
     3,
     27
    ],
    "jupyter": {
     "source_hidden": true
    }
   },
   "outputs": [],
   "source": [
    "dn_yelp_cached = data_yelp_path / \"cached\"\n",
    "\n",
    "\n",
    "def cache_root_category_businesses_df(df, inv_cat_bids, map_categories, map_cat_name2id):\n",
    "    root_categories = get_root_category_items(map_categories)\n",
    "    root_categories = sorted(root_categories, key=lambda x: x[\"title\"])\n",
    "    \n",
    "    dn_yelp_cached = data_yelp_path / \"cached\"\n",
    "    if not dn_yelp_cached.exists():\n",
    "        print(f\"Create cache dir: {dn_yelp_cached}\")\n",
    "        dn_yelp_cached.mkdir()\n",
    "        \n",
    "    for root_category in root_categories:\n",
    "        fn_yelp_cached_root_cat_df = dn_yelp_cached / f\"\"\"{root_category[\"alias\"]}_businesses.df.p\"\"\"\n",
    "        if fn_yelp_cached_root_cat_df.exists():\n",
    "            continue\n",
    "\n",
    "        business_ids = set(get_businesses_in_category_branch(inv_cat_bids, root_category[\"title\"], map_categories, map_cat_name2id))\n",
    "        # business_ids = set(root_category[\"businesses\"])\n",
    "        print(f\"\"\"Filter category {root_category[\"title\"]} [{root_category[\"alias\"]}] with {len(set(business_ids))} businesses ...\"\"\")\n",
    "        df_root_cat = filter_by_businesses(df, business_ids)\n",
    "\n",
    "        # df_root_cat = get_reviews_for_category(df, cat_name, inv_cat_bids, map_categories, map_cat_name2id)\n",
    "\n",
    "        df_root_cat.to_pickle(str(fn_yelp_cached_root_cat_df))\n",
    "        \n",
    "        \n",
    "def load_cached_root_category_businesses_df(category_label, map_categories):\n",
    "    root_categories = get_root_category_items(map_categories)\n",
    "    root_categories = sorted(root_categories, key=lambda x: x[\"title\"])\n",
    "\n",
    "    for root_category in root_categories:\n",
    "        if root_category[\"title\"] == category_label:\n",
    "            category_id = root_category[\"alias\"]\n",
    "            break\n",
    "    else:\n",
    "        print(f\"No cached root category businesses found for: {category_label}\")\n",
    "        return None\n",
    "\n",
    "    fn_yelp_cached_root_cat_df = dn_yelp_cached / f\"{category_id}_businesses.df.p\"\n",
    "    if not fn_yelp_cached_root_cat_df.exists():\n",
    "        return None\n",
    "    \n",
    "    df_root_cat = pd.read_pickle(str(fn_yelp_cached_root_cat_df))\n",
    "    return df_root_cat"
   ]
  },
  {
   "cell_type": "markdown",
   "metadata": {},
   "source": [
    "##### Filter other category businesses"
   ]
  },
  {
   "cell_type": "code",
   "execution_count": 18,
   "metadata": {
    "ExecuteTime": {
     "end_time": "2020-05-25T09:52:38.506865Z",
     "start_time": "2020-05-25T09:52:38.497050Z"
    },
    "code_folding": [
     0
    ],
    "jupyter": {
     "source_hidden": true
    }
   },
   "outputs": [],
   "source": [
    "def filter_root_category_businesses_uniq(category_label, inv_cat_bids, map_categories, map_cat_name2id):\n",
    "    df_root_cat = load_cached_root_category_businesses_df(category_label, map_categories)\n",
    "    \n",
    "    root_categories = get_root_category_items(map_categories)\n",
    "    # root_categories = sorted(root_categories, key=lambda x: len(x[\"businesses\"]), reverse=False)\n",
    "    \n",
    "    for root_category in root_categories:\n",
    "        if root_category[\"title\"] == category_label:\n",
    "            # skip, do not trim self\n",
    "            continue\n",
    "            \n",
    "        business_ids = set(get_businesses_in_category_branch(inv_cat_bids, root_category[\"title\"], map_categories, map_cat_name2id))\n",
    "        # business_ids = set(root_category[\"businesses\"])\n",
    "        print(f\"\"\"Filter businesses from category {root_category[\"title\"]} [{root_category[\"alias\"]}] ({len(business_ids)} businesses) ...\"\"\")\n",
    "        n_before = len(df_root_cat)\n",
    "        df_root_cat = filter_by_businesses_not_same(df_root_cat, business_ids)\n",
    "        n_after = len(df_root_cat)\n",
    "        print(f\"\"\"Filtered {n_before - n_after} businesses (overlap with {root_category[\"title\"]})\"\"\")\n",
    "        \n",
    "    return df_root_cat"
   ]
  },
  {
   "cell_type": "code",
   "execution_count": 19,
   "metadata": {
    "ExecuteTime": {
     "end_time": "2020-05-25T09:52:38.926642Z",
     "start_time": "2020-05-25T09:52:38.916413Z"
    },
    "code_folding": [
     0
    ],
    "jupyter": {
     "source_hidden": true
    }
   },
   "outputs": [],
   "source": [
    "def filter_root_category_businesses_not_other(category_label, category_label_filter, inv_cat_bids, map_categories, map_cat_name2id):\n",
    "    assert category_label != category_label_filter, \"do not filter on self\"\n",
    "\n",
    "    df_root_cat = load_cached_root_category_businesses_df(category_label, map_categories)\n",
    "    \n",
    "    root_categories = get_root_category_items(map_categories)\n",
    "    # root_categories = sorted(root_categories, key=lambda x: len(x[\"businesses\"]), reverse=True)\n",
    "    \n",
    "    for root_category in root_categories:\n",
    "        if root_category[\"title\"] == category_label_filter:\n",
    "            break\n",
    "    else:\n",
    "        print(f\"No businesses found for {category_label_filter} -> return unchanged\")\n",
    "        return df_root_cat\n",
    "    \n",
    "    business_ids = set(get_businesses_in_category_branch(inv_cat_bids, root_category[\"title\"], map_categories, map_cat_name2id))\n",
    "    # businesses_ids = root_category[\"businesses\"]\n",
    "    print(f\"\"\"Filter businesses from category {root_category[\"title\"]} [{root_category[\"alias\"]}] ({len(set(business_ids))} businesses) ...\"\"\")\n",
    "    n_before = len(df_root_cat)\n",
    "    df_root_cat = filter_by_businesses_not_same(df_root_cat, business_ids)\n",
    "    n_after = len(df_root_cat)\n",
    "    print(f\"\"\"Filtered {n_before - n_after} businesses (overlap with {root_category[\"title\"]})\"\"\")\n",
    "    \n",
    "    return df_root_cat"
   ]
  },
  {
   "cell_type": "code",
   "execution_count": 20,
   "metadata": {
    "ExecuteTime": {
     "end_time": "2020-05-25T09:52:39.531336Z",
     "start_time": "2020-05-25T09:52:39.521031Z"
    },
    "code_folding": [
     0
    ],
    "jupyter": {
     "source_hidden": true
    }
   },
   "outputs": [],
   "source": [
    "def filter_root_category_businesses_same_other(category_label, category_label_filter, inv_cat_bids, map_categories, map_cat_name2id):\n",
    "    assert category_label != category_label_filter, \"do not filter on self\"\n",
    "\n",
    "    df_root_cat = load_cached_root_category_businesses_df(category_label, map_categories)\n",
    "    \n",
    "    root_categories = get_root_category_items(map_categories)\n",
    "    # root_categories = sorted(root_categories, key=lambda x: len(x[\"businesses\"]), reverse=True)\n",
    "    \n",
    "    for root_category in root_categories:\n",
    "        if root_category[\"title\"] == category_label_filter:\n",
    "            break\n",
    "    else:\n",
    "        print(f\"No businesses found for {category_label_filter} -> return unchanged\")\n",
    "        return df_root_cat\n",
    "    \n",
    "    business_ids = set(get_businesses_in_category_branch(inv_cat_bids, root_category[\"title\"], map_categories, map_cat_name2id))\n",
    "    # businesses_ids = root_category[\"businesses\"]\n",
    "    print(f\"\"\"Filter businesses from category {root_category[\"title\"]} [{root_category[\"alias\"]}] ({len(set(business_ids))} businesses) ...\"\"\")\n",
    "    n_before = len(df_root_cat)\n",
    "    df_same = filter_by_businesses(df_root_cat, business_ids)\n",
    "    n_after = len(df_same)\n",
    "    print(f\"\"\"Filtered {n_before - n_after} businesses ({n_after} same with {root_category[\"title\"]})\"\"\")\n",
    "    \n",
    "    return df_same"
   ]
  },
  {
   "cell_type": "markdown",
   "metadata": {},
   "source": [
    "---"
   ]
  },
  {
   "cell_type": "markdown",
   "metadata": {},
   "source": [
    "#### Make Pairs"
   ]
  },
  {
   "cell_type": "markdown",
   "metadata": {},
   "source": [
    "**TODO:**\n",
    "\n",
    "- check similar length -- what strategy to use to combine similar length pairs best?\n",
    "- flip sides (arg1 <-> arg2)\n",
    "- make more pairs (?) -- but keep same ratio of same-sentiment vs. not-same-sentiment (different-sentiment) ??\n",
    "- group by categories (topics) -- more explicit training (uniqueness of single arguments / topic structures)\n",
    "- evaluate on same-argument (S3C) - or amazon reviews\n",
    "- compute mean/avg sequence length\n",
    "- fixed layers in fine-tuning\n",
    "- visualization of trained layers and activation for good / bad inputs"
   ]
  },
  {
   "cell_type": "markdown",
   "metadata": {},
   "source": [
    "##### Positive + negative same-sentiment pairs"
   ]
  },
  {
   "cell_type": "code",
   "execution_count": 21,
   "metadata": {
    "ExecuteTime": {
     "end_time": "2020-05-25T09:52:43.585863Z",
     "start_time": "2020-05-25T09:52:43.583298Z"
    }
   },
   "outputs": [],
   "source": [
    "num_pairs_per_class = 2\n",
    "# N positive + N negative\n",
    "# --> 2N pos+neg (not same-sentiment)\n",
    "\n",
    "# TODO: randomness for positive ss / negative ss - sum is equal / or sum equal compared to not ss"
   ]
  },
  {
   "cell_type": "code",
   "execution_count": 22,
   "metadata": {
    "ExecuteTime": {
     "end_time": "2020-05-25T09:52:44.026806Z",
     "start_time": "2020-05-25T09:52:44.007949Z"
    },
    "code_folding": [
     0
    ],
    "jupyter": {
     "source_hidden": true
    }
   },
   "outputs": [],
   "source": [
    "def make_pairs_good_bad(df, num_pairs_per_class=2):\n",
    "    pairs_good = list()\n",
    "    pairs_bad = list()\n",
    "\n",
    "    for id_, group in tqdm(df.groupby(\"id\")):\n",
    "        grouper = group.groupby(\"goodness\")\n",
    "        reviews_good = grouper.get_group(True)\n",
    "        reviews_bad = grouper.get_group(False)\n",
    "\n",
    "        # TESTING\n",
    "        # print(\"id:\", id_)\n",
    "        # print(\"#good:\", len(reviews_good))\n",
    "        # print(\"#bad:\", len(reviews_bad))\n",
    "        # print(group)\n",
    "        # break\n",
    "\n",
    "        # make pairings -- good ss\n",
    "        rg_idx = reviews_good.index.values\n",
    "        # print(\"pos_idx:\", rg_idx)\n",
    "        rg_idx_sel = np.random.choice(rg_idx, 2 * num_pairs_per_class, replace=False)\n",
    "        for id1, id2 in zip(rg_idx_sel[::2], rg_idx_sel[1::2]):\n",
    "            # print(\"pair:\", id1, id2)\n",
    "            r1, r2 = df.loc[id1], df.loc[id2]\n",
    "            pair = {\n",
    "                \"argument1\": r1[\"text\"], \"argument2\": r2[\"text\"],\n",
    "                \"argument1_id\": f\"\"\"{r1[\"id\"]}|{r1[\"rid\"]}\"\"\", \"argument2_id\": f\"\"\"{r2[\"id\"]}|{r2[\"rid\"]}\"\"\",\n",
    "                \"is_same_side\": True, \"is_good_side\": True, \"type\": \"good-good\",\n",
    "                \"topic\": inv_bid_cats.get(r1[\"id\"], None)\n",
    "            }\n",
    "            # print(pair)\n",
    "            pairs_good.append(pair)\n",
    "\n",
    "        # make pairings -- bad ss\n",
    "        rb_idx = reviews_bad.index.values\n",
    "        # print(\"neg_idx:\", rb_idx)\n",
    "        rb_idx_sel = np.random.choice(rb_idx, 2 * num_pairs_per_class, replace=False)\n",
    "        for id1, id2 in zip(rb_idx_sel[::2], rb_idx_sel[1::2]):\n",
    "            r1, r2 = df.loc[id1], df.loc[id2]\n",
    "            pair = {\n",
    "                \"argument1\": r1[\"text\"], \"argument2\": r2[\"text\"],\n",
    "                \"argument1_id\": f\"\"\"{r1[\"id\"]}|{r1[\"rid\"]}\"\"\", \"argument2_id\": f\"\"\"{r2[\"id\"]}|{r2[\"rid\"]}\"\"\",\n",
    "                \"is_same_side\": True, \"is_good_side\": False, \"type\": \"bad-bad\",\n",
    "                \"topic\": inv_bid_cats.get(r1[\"id\"], None)\n",
    "            }\n",
    "            pairs_bad.append(pair)\n",
    "\n",
    "        # break\n",
    "        \n",
    "    return pairs_good, pairs_bad"
   ]
  },
  {
   "cell_type": "markdown",
   "metadata": {},
   "source": [
    "##### not same-sentiment pairs (combinations positive + negative)"
   ]
  },
  {
   "cell_type": "code",
   "execution_count": 23,
   "metadata": {
    "ExecuteTime": {
     "end_time": "2020-05-25T09:52:45.733584Z",
     "start_time": "2020-05-25T09:52:45.729177Z"
    },
    "code_folding": []
   },
   "outputs": [],
   "source": [
    "#: number of negative same-sentiment samples same as positive same-sentiment samples\n",
    "num_pairs_negative = 2 * num_pairs_per_class\n",
    "\n",
    "#: whether for a single side (good or bad) there can be multiple occurrences of the same review\n",
    "#: may need to check afterwared that not by chance same pairing happens ...\n",
    "repeatable_on_side = False"
   ]
  },
  {
   "cell_type": "code",
   "execution_count": 24,
   "metadata": {
    "ExecuteTime": {
     "end_time": "2020-05-25T09:52:51.076476Z",
     "start_time": "2020-05-25T09:52:51.059949Z"
    },
    "code_folding": [
     0
    ],
    "jupyter": {
     "source_hidden": true
    }
   },
   "outputs": [],
   "source": [
    "def make_pairs_negative(df, num_pairs_negative, repeatable_on_side=False):\n",
    "    pairs_not_ss = list()\n",
    "\n",
    "    for id_, group in tqdm(df.groupby(\"id\")):\n",
    "        grouper = group.groupby(\"goodness\")\n",
    "        reviews_good = grouper.get_group(True)\n",
    "        reviews_bad = grouper.get_group(False)\n",
    "\n",
    "        # find indices for reviews per business\n",
    "        rg_idx = reviews_good.index.values\n",
    "        rb_idx = reviews_bad.index.values\n",
    "\n",
    "        # randomly select from each side\n",
    "        rg_idx_sel = np.random.choice(rg_idx, num_pairs_negative, replace=repeatable_on_side)\n",
    "        rb_idx_sel = np.random.choice(rb_idx, num_pairs_negative, replace=repeatable_on_side)\n",
    "\n",
    "        # pair them together -- good-bad pairs\n",
    "        for idg, idb in zip(rg_idx_sel[::2], rb_idx_sel[::2]):\n",
    "            rg, rb = df.loc[idg], df.loc[idb]\n",
    "            pair = {\n",
    "                \"argument1\": rg[\"text\"], \"argument2\": rb[\"text\"],\n",
    "                \"argument1_id\": f\"\"\"{rg[\"id\"]}|{rg[\"rid\"]}\"\"\", \"argument2_id\": f\"\"\"{rb[\"id\"]}|{rb[\"rid\"]}\"\"\",\n",
    "                \"is_same_side\": False, \"is_good_side\": None, \"type\": \"good-bad\",\n",
    "                \"topic\": inv_bid_cats.get(rg[\"id\"], None)\n",
    "            }\n",
    "            # print(pair)\n",
    "            pairs_not_ss.append(pair)\n",
    "\n",
    "        # bad-good pairs\n",
    "        for idb, idg in zip(rb_idx_sel[1::2], rg_idx_sel[1::2]):\n",
    "            rb, rg = df.loc[idb], df.loc[idg]\n",
    "            pair = {\n",
    "                \"argument1\": rb[\"text\"], \"argument2\": rg[\"text\"],\n",
    "                \"argument1_id\": f\"\"\"{rb[\"id\"]}|{rb[\"rid\"]}\"\"\", \"argument2_id\": f\"\"\"{rg[\"id\"]}|{rg[\"rid\"]}\"\"\",\n",
    "                \"is_same_side\": False, \"is_good_side\": None, \"type\": \"bad-good\",\n",
    "                \"topic\": inv_bid_cats.get(rb[\"id\"], None)\n",
    "            }\n",
    "            # print(pair)\n",
    "            pairs_not_ss.append(pair)\n",
    "            \n",
    "    return pairs_not_ss"
   ]
  },
  {
   "cell_type": "markdown",
   "metadata": {},
   "source": [
    "##### dataframe for training etc."
   ]
  },
  {
   "cell_type": "code",
   "execution_count": 25,
   "metadata": {
    "ExecuteTime": {
     "end_time": "2020-05-25T09:53:30.441277Z",
     "start_time": "2020-05-25T09:53:30.428763Z"
    },
    "code_folding": [
     0
    ],
    "jupyter": {
     "source_hidden": true
    }
   },
   "outputs": [],
   "source": [
    "def make_or_load_pairs(df, fn_yelp_df, num_pairs_per_class=2):\n",
    "    if fn_yelp_df is not None:\n",
    "        if os.path.exists(fn_yelp_df):\n",
    "            with open(fn_yelp_df, \"rb\") as fp:\n",
    "                all_df = pickle.load(fp)\n",
    "            return all_df\n",
    "    \n",
    "    pairs_good, pairs_bad = make_pairs_good_bad(df, num_pairs_per_class=num_pairs_per_class)\n",
    "    print(\"#ss (pos)\", len(pairs_good))\n",
    "    print(\"#ss (neg)\", len(pairs_bad))\n",
    "    \n",
    "    num_pairs_negative = 2 * num_pairs_per_class\n",
    "    pairs_not_ss = make_pairs_negative(df, num_pairs_negative, repeatable_on_side=False)\n",
    "    print(\"#nss\", len(pairs_not_ss))\n",
    "    \n",
    "    pairs_all = pairs_good + pairs_bad + pairs_not_ss\n",
    "    print(\"#~ss\", len(pairs_all))\n",
    "    \n",
    "    np.random.shuffle(pairs_all)\n",
    "    df_traindev = pd.DataFrame.from_dict(pairs_all)\n",
    "    \n",
    "    if fn_yelp_df is not None:\n",
    "        with open(fn_yelp_df, \"wb\") as fp:\n",
    "            pickle.dump(df_traindev, fp, protocol=pickle.HIGHEST_PROTOCOL)\n",
    "        \n",
    "    return df_traindev"
   ]
  },
  {
   "cell_type": "markdown",
   "metadata": {},
   "source": [
    "---"
   ]
  },
  {
   "cell_type": "markdown",
   "metadata": {},
   "source": [
    "# SameStance Baseline"
   ]
  },
  {
   "cell_type": "markdown",
   "metadata": {},
   "source": [
    "### lemmatizing"
   ]
  },
  {
   "cell_type": "code",
   "execution_count": 26,
   "metadata": {
    "ExecuteTime": {
     "end_time": "2020-01-20T11:56:27.345335Z",
     "start_time": "2020-01-20T11:56:26.894555Z"
    },
    "code_folding": [
     8,
     25,
     31
    ],
    "jupyter": {
     "source_hidden": true
    }
   },
   "outputs": [],
   "source": [
    "import gensim\n",
    "from gensim.parsing.preprocessing import STOPWORDS\n",
    "from gensim.utils import simple_preprocess\n",
    "from nltk.corpus import wordnet\n",
    "from nltk.stem import SnowballStemmer, WordNetLemmatizer\n",
    "from nltk.tokenize import sent_tokenize, word_tokenize\n",
    "\n",
    "\n",
    "def get_wordnet_pos(treebank_tag):\n",
    "    \"\"\"\n",
    "        return WORDNET POS compliance to WORDENT lemmatization (a,n,r,v) \n",
    "        \"\"\"\n",
    "    if treebank_tag.startswith('J'):\n",
    "        return wordnet.ADJ\n",
    "    elif treebank_tag.startswith('V'):\n",
    "        return wordnet.VERB\n",
    "    elif treebank_tag.startswith('N'):\n",
    "        return wordnet.NOUN\n",
    "    elif treebank_tag.startswith('R'):\n",
    "        return wordnet.ADV\n",
    "    else:\n",
    "        # As default pos in lemmatization is Noun\n",
    "        return wordnet.NOUN\n",
    "\n",
    "\n",
    "def lemmatize_stemming(token, pos_tag):\n",
    "    stemmer = SnowballStemmer(\n",
    "        \"english\")  # pOrter, M. \"An algorithm for suffix stripping.\"\n",
    "    return stemmer.stem(WordNetLemmatizer().lemmatize(token, pos=pos_tag))\n",
    "\n",
    "\n",
    "def preprocess(text):\n",
    "    lemma = []\n",
    "    for sentence in sent_tokenize(text):\n",
    "        sentence = sentence.replace('\\n', ' ').strip()\n",
    "        tokens = [token for token in word_tokenize(sentence)]\n",
    "        pos_tags = nltk.pos_tag(tokens)\n",
    "\n",
    "        for idx in range(0, len(tokens)):\n",
    "            token = tokens[idx].lower()\n",
    "            if token not in gensim.parsing.preprocessing.STOPWORDS and len(\n",
    "                    token) > 3:\n",
    "                wordnet_pos = get_wordnet_pos(pos_tags[idx][1])\n",
    "                l_ = lemmatize_stemming(token, wordnet_pos)\n",
    "                lemma.append(l_)\n",
    "    return ' '.join(lemma)"
   ]
  },
  {
   "cell_type": "code",
   "execution_count": 27,
   "metadata": {
    "ExecuteTime": {
     "end_time": "2020-01-20T11:56:28.905390Z",
     "start_time": "2020-01-20T11:56:28.902572Z"
    }
   },
   "outputs": [],
   "source": [
    "def get_lemma(row):\n",
    "    row['argument1_lemmas'] = preprocess(row['argument1'])\n",
    "    row['argument2_lemmas'] = preprocess(row['argument2'])\n",
    "    return row"
   ]
  },
  {
   "cell_type": "markdown",
   "metadata": {},
   "source": [
    "### Extracting n grams lemma for argument1 and argument2"
   ]
  },
  {
   "cell_type": "code",
   "execution_count": 28,
   "metadata": {
    "ExecuteTime": {
     "end_time": "2020-01-20T11:56:28.986226Z",
     "start_time": "2020-01-20T11:56:28.974629Z"
    },
    "code_folding": [
     3,
     41
    ]
   },
   "outputs": [],
   "source": [
    "from sklearn.feature_extraction.text import CountVectorizer, TfidfVectorizer\n",
    "\n",
    "\n",
    "def extract_ngrams(X_train, X_dev, col, idx='id'):\n",
    "    vectorizer = CountVectorizer(min_df=100,\n",
    "                                 max_df=0.7,\n",
    "                                 ngram_range=(3, 3),\n",
    "                                 max_features=5000)\n",
    "\n",
    "    vectorizer.fit(X_train[col])\n",
    "    features = vectorizer.transform(X_train[col])\n",
    "    features_dev = vectorizer.transform(X_dev[col])\n",
    "\n",
    "    train_df = pd.DataFrame(features.todense(),\n",
    "                            columns=vectorizer.get_feature_names())\n",
    "    train_df = train_df.add_prefix(col)\n",
    "\n",
    "    aid_df = X_train[[idx]]\n",
    "\n",
    "    train_df = train_df.merge(aid_df,\n",
    "                              left_index=True,\n",
    "                              right_index=True,\n",
    "                              suffixes=(False, False),\n",
    "                              how='inner')\n",
    "    train_df.set_index(idx, inplace=True)\n",
    "\n",
    "    dev_df = pd.DataFrame(features_dev.todense(),\n",
    "                          columns=vectorizer.get_feature_names())\n",
    "    dev_df = dev_df.add_prefix(col)\n",
    "\n",
    "    aid_dev_df = X_dev[[idx]]\n",
    "\n",
    "    dev_df = dev_df.merge(aid_dev_df,\n",
    "                          left_index=True,\n",
    "                          right_index=True,\n",
    "                          suffixes=(False, False),\n",
    "                          how='inner')\n",
    "    dev_df.set_index(idx, inplace=True)\n",
    "    return train_df, dev_df\n",
    "\n",
    "\n",
    "def extract_n_grams_features(X_train, X_dev, columns, idx='id'):\n",
    "    X_train = X_train.reset_index()\n",
    "    result_train_df = X_train[[idx]]\n",
    "    result_train_df.set_index(idx, inplace=True)\n",
    "\n",
    "    X_dev = X_dev.reset_index()\n",
    "    result_dev_df = X_dev[[idx]]\n",
    "    result_dev_df.set_index(idx, inplace=True)\n",
    "\n",
    "    for col in columns:\n",
    "        result_train_df_, result_dev_df_ = extract_ngrams(X_train, X_dev, col, idx=idx)\n",
    "        result_train_df = result_train_df.join(result_train_df_)\n",
    "        result_dev_df = result_dev_df.join(result_dev_df_)\n",
    "    return result_train_df, result_dev_df"
   ]
  },
  {
   "cell_type": "markdown",
   "metadata": {},
   "source": [
    "### Train model and evaluate"
   ]
  },
  {
   "cell_type": "code",
   "execution_count": 29,
   "metadata": {
    "ExecuteTime": {
     "end_time": "2020-01-20T13:36:37.150908Z",
     "start_time": "2020-01-20T13:36:37.142275Z"
    },
    "code_folding": [
     6,
     21
    ],
    "jupyter": {
     "source_hidden": true
    }
   },
   "outputs": [],
   "source": [
    "from sklearn.metrics import (accuracy_score, classification_report,\n",
    "                             confusion_matrix, f1_score)\n",
    "from sklearn.preprocessing import StandardScaler\n",
    "from sklearn.svm import SVC\n",
    "\n",
    "\n",
    "def train_test_svm(X_train, y_train, X_test, verbose=True):\n",
    "    scaler = StandardScaler(copy=True, with_mean=False)\n",
    "    scaler.fit(X_train)\n",
    "\n",
    "    X_train = scaler.transform(X_train)\n",
    "\n",
    "    svclassifier = SVC(kernel='linear', verbose=verbose)\n",
    "    svclassifier.fit(X_train, y_train)\n",
    "\n",
    "    X_test = scaler.transform(X_test)\n",
    "    y_pred = svclassifier.predict(X_test)\n",
    "\n",
    "    return y_pred\n",
    "\n",
    "\n",
    "def report_training_results(y_test, y_pred, digits=3):\n",
    "    print('Confusion Matrix:')\n",
    "    print(confusion_matrix(y_test, y_pred))\n",
    "    print()\n",
    "    print('Accuracy: ', round(accuracy_score(y_test, y_pred), digits))  #\n",
    "    print()\n",
    "\n",
    "    print('Report:')\n",
    "    print(classification_report(y_test, y_pred, digits=digits))\n",
    "    f1_dic = {}\n",
    "\n",
    "    f1_dic['macro'] = round(\n",
    "        f1_score(y_pred=y_pred, y_true=y_test, average='macro'), digits)\n",
    "    f1_dic['micro'] = round(\n",
    "        f1_score(y_pred=y_pred, y_true=y_test, average='micro'), digits)\n",
    "    return f1_dic"
   ]
  },
  {
   "cell_type": "code",
   "execution_count": 30,
   "metadata": {
    "jupyter": {
     "source_hidden": true
    }
   },
   "outputs": [],
   "source": [
    "from sklearn.linear_model import LogisticRegression, SGDClassifier\n",
    "from sklearn.svm import LinearSVC, SVC\n",
    "\n",
    "\n",
    "def train_test_svm(X_train, y_train, X_test):\n",
    "    with Timer(\"StandardScaler fit\"):\n",
    "        scaler = StandardScaler(copy=True, with_mean=False)\n",
    "        scaler.fit(X_train)\n",
    "\n",
    "    with Timer(\"StandardScaler transform\"):\n",
    "        X_train = scaler.transform(X_train)\n",
    "        X_test = scaler.transform(X_test)\n",
    "\n",
    "    # ------------------\n",
    "\n",
    "    with Timer(\"SVC (linear) fit\"):\n",
    "        # svclassifier = SVC(kernel='linear')\n",
    "        svclassifier = LinearSVC()        \n",
    "        svclassifier.fit(X_train, y_train)\n",
    "\n",
    "    with Timer(\"SVC predict\"):\n",
    "        y_pred = svclassifier.predict(X_test)\n",
    "\n",
    "    return y_pred\n",
    "\n",
    "\n",
    "def train_test_logreg(X_train, y_train, X_test):\n",
    "    with Timer(\"LogisticRegression fit\"):\n",
    "        logreg = LogisticRegression(n_jobs=1, C=1e5, verbose=True)\n",
    "        logreg.fit(X_train, y_train)\n",
    "    \n",
    "    with Timer(\"LogisticRegression predict\"):\n",
    "        y_pred = logreg.predict(X_test)\n",
    "    \n",
    "    return y_pred\n",
    "\n",
    "\n",
    "def train_test_sgd(X_train, y_train, X_test):\n",
    "    with Timer(\"SGDClassifier fit\"):\n",
    "        sgdcla = SGDClassifier(verbose=True)\n",
    "        sgdcla.fit(X_train, y_train)\n",
    "    \n",
    "    with Timer(\"SGDClassifier predict\"):\n",
    "        y_pred = sgdcla.predict(X_test)\n",
    "    \n",
    "    return y_pred"
   ]
  },
  {
   "cell_type": "markdown",
   "metadata": {},
   "source": [
    "---"
   ]
  },
  {
   "cell_type": "markdown",
   "metadata": {},
   "source": [
    "#### Doc2Vec"
   ]
  },
  {
   "cell_type": "code",
   "execution_count": 31,
   "metadata": {
    "jupyter": {
     "source_hidden": true
    }
   },
   "outputs": [],
   "source": [
    "from gensim.models.doc2vec import TaggedDocument\n",
    "from nltk.tokenize import sent_tokenize, word_tokenize\n",
    "\n",
    "\n",
    "def do_segmentation(text):\n",
    "    '''do sentence segmentation, tokenization (with lemmatization&stemming)'''\n",
    "    lemma = []\n",
    "    for sentence in sent_tokenize(text):\n",
    "        sentence = sentence.replace('\\n', ' ').strip()\n",
    "        tokens = [token for token in word_tokenize(sentence)]\n",
    "        pos_tags = nltk.pos_tag(tokens)\n",
    "\n",
    "        for idx in range(0, len(tokens)):\n",
    "            token = tokens[idx].lower()\n",
    "            if token not in gensim.parsing.preprocessing.STOPWORDS and len(\n",
    "                    token) > 3:\n",
    "                wordnet_pos = get_wordnet_pos(pos_tags[idx][1])\n",
    "                l_ = lemmatize_stemming(token, wordnet_pos)\n",
    "                lemma.append(l_)\n",
    "    return lemma\n",
    "\n",
    "\n",
    "def make_d2v_docs(row):\n",
    "    words1 = row['argument1_lemmas'].split(\" \")\n",
    "    words2 = row['argument2_lemmas'].split(\" \")\n",
    "\n",
    "    row['argument1_doc'] = TaggedDocument(words=words1,\n",
    "                                          tags=[row['argument1_id']])\n",
    "    row['argument2_doc'] = TaggedDocument(words=words2,\n",
    "                                          tags=[row['argument2_id']])\n",
    "\n",
    "    return row\n",
    "\n",
    "\n",
    "def make_d2v_docs2(row):\n",
    "    row['argument1_lemmas'] = do_segmentation(row['argument1'])\n",
    "    row['argument2_lemmas'] = do_segmentation(row['argument2'])\n",
    "\n",
    "    row['argument1_doc'] = TaggedDocument(words=row['argument1_lemmas'],\n",
    "                                          tags=[row['argument1_id']])\n",
    "    row['argument2_doc'] = TaggedDocument(words=row['argument2_lemmas'],\n",
    "                                          tags=[row['argument2_id']])\n",
    "\n",
    "    return row\n",
    "\n",
    "\n",
    "class DatasetIter:\n",
    "    def __init__(self, ds, shuffle=True):\n",
    "        self.ds = ds\n",
    "        self.shuffle = shuffle\n",
    "\n",
    "    def _make_taggeddocs(self, row):\n",
    "        yield row['argument1_doc']\n",
    "        yield row['argument2_doc']\n",
    "\n",
    "    def __iter__(self):\n",
    "        if self.shuffle:\n",
    "            self.ds = self.ds.sample(frac=1)\n",
    "\n",
    "        for _, row in self.ds.iterrows():\n",
    "            for doc in self._make_taggeddocs(row):\n",
    "                yield doc"
   ]
  },
  {
   "cell_type": "code",
   "execution_count": 32,
   "metadata": {
    "jupyter": {
     "source_hidden": true
    }
   },
   "outputs": [],
   "source": [
    "from gensim.models.doc2vec import Doc2Vec\n",
    "\n",
    "\n",
    "def train_model(X_train, X_dev, workers=2, epochs=10):\n",
    "    with Timer(\"doc2vec dbow\"):\n",
    "        # columns=['argument1_lemmas', 'argument2_lemmas']\n",
    "        # pd.concat([X_train[columns], X_dev[columns]])\n",
    "        alpha = 0.025  # https://radimrehurek.com/gensim/models/base_any2vec.html#gensim.models.base_any2vec.BaseWordEmbeddingsModel\n",
    "        # %%time\n",
    "        model_dbow = Doc2Vec(DatasetIter(X_train, shuffle=True),\n",
    "                             dm=0,\n",
    "                             vector_size=300,\n",
    "                             negative=5,\n",
    "                             hs=0,\n",
    "                             min_count=2,\n",
    "                             sample=0,\n",
    "                             workers=workers,\n",
    "                             epochs=epochs,\n",
    "                             alpha=alpha,\n",
    "                             min_alpha=alpha - (epochs * 0.002))\n",
    "\n",
    "    return model_dbow, None"
   ]
  },
  {
   "cell_type": "code",
   "execution_count": 33,
   "metadata": {
    "jupyter": {
     "source_hidden": true
    }
   },
   "outputs": [],
   "source": [
    "def make_vectors(X_train, X_dev, model):\n",
    "    def make_d2v_vecs(row):\n",
    "        vec1 = model.infer_vector(row['argument1_doc'].words, steps=20)\n",
    "        vec2 = model.infer_vector(row['argument2_doc'].words, steps=20)\n",
    "\n",
    "        row['argument1_vec'] = vec1\n",
    "        row['argument2_vec'] = vec2\n",
    "        \n",
    "        return row\n",
    "\n",
    "    X_train = X_train.progress_apply(make_d2v_vecs, axis=1)\n",
    "    X_dev = X_dev.progress_apply(make_d2v_vecs, axis=1)\n",
    "    \n",
    "    return X_train, X_dev\n",
    "\n",
    "\n",
    "def make_vector_comparison_diff(X_train, X_dev):\n",
    "    def ret_vec_diff(row):\n",
    "        return row['argument1_vec'] - row['argument2_vec']\n",
    "\n",
    "    X_train_diff = X_train.progress_apply(ret_vec_diff, axis=1)\n",
    "    X_dev_diff = X_dev.progress_apply(ret_vec_diff, axis=1)\n",
    "\n",
    "    return X_train_diff, X_dev_diff\n",
    "\n",
    "\n",
    "def make_vector_comparison_concat(X_train, X_dev):\n",
    "    def ret_vec_concat(row):\n",
    "        return np.concatenate((row['argument1_vec'], row['argument2_vec']))\n",
    "\n",
    "    X_train_concat = X_train.progress_apply(ret_vec_concat, axis=1)\n",
    "    X_dev_concat = X_dev.progress_apply(ret_vec_concat, axis=1)\n",
    "\n",
    "    return X_train_concat, X_dev_concat\n",
    "\n",
    "\n",
    "def make_vector_comparison(X_train, X_dev, mode=\"diff\"):\n",
    "    if mode == \"concat\":\n",
    "        X_train, X_dev = make_vector_comparison_concat(X_train, X_dev)\n",
    "    else:\n",
    "        X_train, X_dev = make_vector_comparison_diff(X_train, X_dev)\n",
    "\n",
    "    # array of array to 2d array\n",
    "    X_train = np.array(list(X_train.values))\n",
    "    X_dev = np.array(list(X_dev.values))\n",
    "\n",
    "    return X_train, X_dev"
   ]
  },
  {
   "cell_type": "markdown",
   "metadata": {},
   "source": [
    "---"
   ]
  },
  {
   "cell_type": "markdown",
   "metadata": {},
   "source": [
    "---"
   ]
  },
  {
   "cell_type": "markdown",
   "metadata": {},
   "source": [
    "## Load reviews and topics and category tree"
   ]
  },
  {
   "cell_type": "markdown",
   "metadata": {},
   "source": [
    "#### Load reviews\n",
    "\n",
    "- review (with business reference)"
   ]
  },
  {
   "cell_type": "code",
   "execution_count": null,
   "metadata": {
    "ExecuteTime": {
     "end_time": "2020-05-25T09:54:28.073054Z",
     "start_time": "2020-05-25T09:53:34.206922Z"
    }
   },
   "outputs": [],
   "source": [
    "fn_yelp_reviews = data_yelp_path / \"review.json\"\n",
    "df = load_reviews(fn_yelp_reviews)"
   ]
  },
  {
   "cell_type": "markdown",
   "metadata": {},
   "source": [
    "#### Load categories for businesses\n",
    "\n",
    "- business (id) with list of topics/categories\n",
    "- lookups (business -> categories, category -> businesses)\n",
    "- list of combinations (with amount)"
   ]
  },
  {
   "cell_type": "code",
   "execution_count": null,
   "metadata": {
    "ExecuteTime": {
     "end_time": "2020-05-25T09:54:30.875744Z",
     "start_time": "2020-05-25T09:54:28.103817Z"
    }
   },
   "outputs": [],
   "source": [
    "fn_yelp_topics = data_yelp_path / \"business.json\"\n",
    "bids_not_cats = set()\n",
    "inv_bid_cats = load_topics(fn_yelp_topics, bids_not_cats=bids_not_cats)\n",
    "\n",
    "inv_cat_bids = make_map_cats(inv_bid_cats)\n",
    "\n",
    "inv_cat_combis = make_cat_combis(inv_bid_cats)"
   ]
  },
  {
   "cell_type": "markdown",
   "metadata": {},
   "source": [
    "#### Load category tree\n",
    "\n",
    "- hierarchy of categories"
   ]
  },
  {
   "cell_type": "code",
   "execution_count": null,
   "metadata": {
    "ExecuteTime": {
     "end_time": "2020-05-25T09:54:32.035522Z",
     "start_time": "2020-05-25T09:54:32.004962Z"
    }
   },
   "outputs": [],
   "source": [
    "fn_yelp_catgory_tree = data_yelp_path / \"all_category_list.json\"\n",
    "map_categories, map_cat_name2id, lst_root_categories = load_category_tree(fn_yelp_catgory_tree)"
   ]
  },
  {
   "cell_type": "markdown",
   "metadata": {},
   "source": [
    "#### Pre-Cache all root category businesses (reviews)"
   ]
  },
  {
   "cell_type": "code",
   "execution_count": null,
   "metadata": {
    "ExecuteTime": {
     "end_time": "2020-05-25T09:54:33.171937Z",
     "start_time": "2020-05-25T09:54:33.169140Z"
    }
   },
   "outputs": [],
   "source": [
    "cache_root_category_businesses_df(df, inv_cat_bids, map_categories, map_cat_name2id)"
   ]
  },
  {
   "cell_type": "markdown",
   "metadata": {},
   "source": [
    "---"
   ]
  },
  {
   "cell_type": "markdown",
   "metadata": {},
   "source": [
    "---"
   ]
  },
  {
   "cell_type": "markdown",
   "metadata": {},
   "source": [
    "#### dataframe for training etc."
   ]
  },
  {
   "cell_type": "code",
   "execution_count": null,
   "metadata": {},
   "outputs": [],
   "source": [
    "fn_yelp_df = data_yelp_path / \"df_traindev4_typed.p\"\n",
    "\n",
    "df = filter_min_review_freq(df, min_ratings=8)\n",
    "df = filter_both_good_bad(df)\n",
    "\n",
    "df_traindev = make_or_load_pairs(df, str(fn_yelp_df), num_pairs_per_class=4)"
   ]
  },
  {
   "cell_type": "code",
   "execution_count": 34,
   "metadata": {},
   "outputs": [],
   "source": [
    "fn_yelp_df = data_yelp_path / \"df_traindev4_typed.p\"\n",
    "\n",
    "with open(fn_yelp_df, \"rb\") as fp:\n",
    "    traindev_df = pickle.load(fp)"
   ]
  },
  {
   "cell_type": "markdown",
   "metadata": {},
   "source": [
    "---"
   ]
  },
  {
   "cell_type": "code",
   "execution_count": 35,
   "metadata": {
    "ExecuteTime": {
     "end_time": "2020-05-25T09:54:41.165579Z",
     "start_time": "2020-05-25T09:54:40.872743Z"
    }
   },
   "outputs": [],
   "source": [
    "# from utils_gluon import print_infos\n",
    "\n",
    "from utils_gluon import report_training_results\n",
    "from utils_gluon import plot_confusion_matrix\n",
    "from utils_gluon import compute_metrics\n",
    "\n",
    "from utils_data import names_columns_X, names_columns_X_arteval, names_columns_y\n",
    "# names_columns_X = ['argument1', 'argument2', 'argument1_id', 'argument2_id', 'topic', 'type']\n",
    "names_columns_X = names_columns_X + ['type']\n",
    "\n",
    "from sklearn.model_selection import train_test_split"
   ]
  },
  {
   "cell_type": "code",
   "execution_count": 36,
   "metadata": {
    "ExecuteTime": {
     "end_time": "2020-05-25T09:54:43.151309Z",
     "start_time": "2020-05-25T09:54:43.145966Z"
    }
   },
   "outputs": [],
   "source": [
    "from utils_data import Timer\n",
    "\n",
    "from utils_data import configure_logging\n",
    "configure_logging()\n",
    "\n",
    "from utils_data import init_random\n",
    "init_random()"
   ]
  },
  {
   "cell_type": "code",
   "execution_count": 37,
   "metadata": {},
   "outputs": [],
   "source": [
    "# extracted to include \"type\" (of pairing)\n",
    "# train dev set - 70% 30%\n",
    "def get_train_test_sets(df, ratio=0.30, random_state=1):\n",
    "    X = df[names_columns_X]\n",
    "    y = df[names_columns_y]\n",
    "\n",
    "    X_train, X_test, y_train, y_test = train_test_split(X,\n",
    "                                                        y,\n",
    "                                                        test_size=ratio,\n",
    "                                                        random_state=random_state,\n",
    "                                                        shuffle=True)\n",
    "    return X_train, X_test, y_train, y_test"
   ]
  },
  {
   "cell_type": "markdown",
   "metadata": {},
   "source": [
    "---"
   ]
  },
  {
   "cell_type": "code",
   "execution_count": 38,
   "metadata": {
    "ExecuteTime": {
     "end_time": "2020-05-25T09:58:31.831838Z",
     "start_time": "2020-05-25T09:58:31.361186Z"
    }
   },
   "outputs": [
    {
     "name": "stdout",
     "output_type": "stream",
     "text": [
      "mkdir: cannot create directory ‘data/yelp_baseline2’: File exists\n"
     ]
    }
   ],
   "source": [
    "run_name = \"yelp_baseline2\"\n",
    "fn_run_path = Path(f\"data/{run_name}\")\n",
    "fn_traindev_df = fn_run_path / \"traindev.p\"\n",
    "\n",
    "category_name = \"*\"  # just a dummy ...\n",
    "\n",
    "! mkdir data/yelp_baseline2"
   ]
  },
  {
   "cell_type": "code",
   "execution_count": 39,
   "metadata": {
    "ExecuteTime": {
     "end_time": "2020-05-25T09:58:31.831838Z",
     "start_time": "2020-05-25T09:58:31.361186Z"
    }
   },
   "outputs": [],
   "source": [
    "run_name = \"yelp_baseline4\"\n",
    "fn_run_path = Path(f\"data/{run_name}\")\n",
    "fn_traindev_df = fn_run_path / \"traindev.p\"\n",
    "\n",
    "category_name = \"*\"  # just a dummy ...\n",
    "\n",
    "! mkdir data/yelp_baseline4"
   ]
  },
  {
   "cell_type": "markdown",
   "metadata": {},
   "source": [
    "---"
   ]
  },
  {
   "cell_type": "code",
   "execution_count": null,
   "metadata": {},
   "outputs": [],
   "source": []
  },
  {
   "cell_type": "code",
   "execution_count": null,
   "metadata": {},
   "outputs": [],
   "source": [
    "len(traindev_df)  # pairs"
   ]
  },
  {
   "cell_type": "code",
   "execution_count": null,
   "metadata": {},
   "outputs": [],
   "source": [
    "# check how many pairs are per pairing\n",
    "for pairtype, df_grouped in traindev_df.groupby([\"type\"]):\n",
    "    print(pairtype, len(df_grouped))\n",
    "    # df_grouped.describe()"
   ]
  },
  {
   "cell_type": "code",
   "execution_count": 40,
   "metadata": {},
   "outputs": [],
   "source": [
    "def _add_dummy_tag(row):\n",
    "    row[\"tag\"] = \"NA\"\n",
    "    return row\n",
    "\n",
    "# all_df = all_df.progress_apply(_add_dummy_tag, axis=1)\n",
    "traindev_df[\"tag\"] = \"NA\""
   ]
  },
  {
   "cell_type": "markdown",
   "metadata": {},
   "source": [
    "### Baseline - Training and evaluating model "
   ]
  },
  {
   "cell_type": "code",
   "execution_count": 41,
   "metadata": {
    "ExecuteTime": {
     "end_time": "2020-01-20T14:03:19.728337Z",
     "start_time": "2020-01-20T13:36:39.303617Z"
    }
   },
   "outputs": [
    {
     "name": "stdout",
     "output_type": "stream",
     "text": [
      "Start on [1 - test/train] ...\n",
      "Time for [1 - test/train]: 0:00:00.765504\n"
     ]
    }
   ],
   "source": [
    "# 1. Getting train and dev data\n",
    "with Timer(\"1 - test/train\"):\n",
    "    X_train, X_dev, y_train, y_dev = get_train_test_sets(traindev_df, ratio=0.1)"
   ]
  },
  {
   "cell_type": "code",
   "execution_count": null,
   "metadata": {
    "ExecuteTime": {
     "end_time": "2020-01-20T14:03:19.728337Z",
     "start_time": "2020-01-20T13:36:39.303617Z"
    }
   },
   "outputs": [],
   "source": [
    "# 2. Lemmatizing argument1 and argument2\n",
    "with Timer(\"2 - lemmatize\"):\n",
    "    X_train = X_train.apply(get_lemma, axis=1)\n",
    "    X_dev = X_dev.apply(get_lemma, axis=1)"
   ]
  },
  {
   "cell_type": "code",
   "execution_count": null,
   "metadata": {},
   "outputs": [],
   "source": [
    "fn_lemmatized = fn_run_path / \"traindev_lemmatized.p\"\n",
    "\n",
    "with open(fn_lemmatized, \"wb\") as fp:\n",
    "    pickle.dump(X_train, fp, protocol=pickle.HIGHEST_PROTOCOL)\n",
    "    pickle.dump(X_dev, fp, protocol=pickle.HIGHEST_PROTOCOL)"
   ]
  },
  {
   "cell_type": "code",
   "execution_count": 44,
   "metadata": {},
   "outputs": [],
   "source": [
    "fn_lemmatized = fn_run_path / \"traindev_lemmatized.p\"\n",
    "\n",
    "with open(fn_lemmatized, \"rb\") as fp:\n",
    "    X_train = pickle.load(fp)\n",
    "    X_dev = pickle.load(fp)"
   ]
  },
  {
   "cell_type": "code",
   "execution_count": 45,
   "metadata": {},
   "outputs": [],
   "source": [
    "X_train.reset_index(level=0, inplace=True)\n",
    "X_dev.reset_index(level=0, inplace=True)"
   ]
  },
  {
   "cell_type": "code",
   "execution_count": null,
   "metadata": {},
   "outputs": [],
   "source": []
  },
  {
   "cell_type": "markdown",
   "metadata": {},
   "source": [
    "#### Doc2Vec (train/dev)"
   ]
  },
  {
   "cell_type": "code",
   "execution_count": 46,
   "metadata": {},
   "outputs": [
    {
     "name": "stderr",
     "output_type": "stream",
     "text": [
      "  0%|          | 0/633384 [00:00<?, ?it/s]"
     ]
    },
    {
     "name": "stdout",
     "output_type": "stream",
     "text": [
      "Start on [2.1 - tokenize] ...\n"
     ]
    },
    {
     "name": "stderr",
     "output_type": "stream",
     "text": [
      "100%|██████████| 633384/633384 [1:54:31<00:00, 92.18it/s]  \n",
      "100%|██████████| 70376/70376 [12:44<00:00, 92.11it/s] "
     ]
    },
    {
     "name": "stdout",
     "output_type": "stream",
     "text": [
      "Time for [2.1 - tokenize]: 2:07:15.757366\n"
     ]
    },
    {
     "name": "stderr",
     "output_type": "stream",
     "text": [
      "\n"
     ]
    }
   ],
   "source": [
    "with Timer(\"2.1 - tokenize\"):\n",
    "    X_train = X_train.progress_apply(make_d2v_docs2, axis=1)\n",
    "    X_dev = X_dev.progress_apply(make_d2v_docs2, axis=1)"
   ]
  },
  {
   "cell_type": "code",
   "execution_count": 47,
   "metadata": {},
   "outputs": [
    {
     "name": "stdout",
     "output_type": "stream",
     "text": [
      "Start on [2.1a - pickle] ...\n",
      "Time for [2.1a - pickle]: 0:00:24.594673\n"
     ]
    }
   ],
   "source": [
    "#fn_lemmatized = fn_run_path / \"traindev_lemmatized.p\"\n",
    "\n",
    "with Timer(\"2.1a - pickle\"):\n",
    "    X_train.to_pickle(str(fn_run_path / \"X_train.docd.p\"))\n",
    "    X_dev.to_pickle(str(fn_run_path / \"X_dev.docd.p\"))"
   ]
  },
  {
   "cell_type": "code",
   "execution_count": null,
   "metadata": {},
   "outputs": [],
   "source": [
    "with Timer(\"2.1b - unpickle\"):\n",
    "    X_train = pd.read_pickle(str(fn_run_path / \"X_train.docd.p\"))\n",
    "    X_dev = pd.read_pickle(str(fn_run_path / \"X_dev.docd.p\"))"
   ]
  },
  {
   "cell_type": "code",
   "execution_count": 48,
   "metadata": {
    "collapsed": true,
    "jupyter": {
     "outputs_hidden": true
    }
   },
   "outputs": [
    {
     "name": "stderr",
     "output_type": "stream",
     "text": [
      "2020-07-02 13:36:45,212 : INFO : collecting all words and their counts\n"
     ]
    },
    {
     "name": "stdout",
     "output_type": "stream",
     "text": [
      "Start on [3 - doc2vec model] ...\n",
      "Start on [doc2vec dbow] ...\n"
     ]
    },
    {
     "name": "stderr",
     "output_type": "stream",
     "text": [
      "2020-07-02 13:36:46,655 : INFO : PROGRESS: at example #0, processed 0 words (0/s), 0 word types, 0 tags\n",
      "2020-07-02 13:36:47,123 : INFO : PROGRESS: at example #10000, processed 450651 words (963438/s), 22354 word types, 9992 tags\n",
      "2020-07-02 13:36:47,597 : INFO : PROGRESS: at example #20000, processed 899900 words (948044/s), 33068 word types, 19963 tags\n",
      "2020-07-02 13:36:48,074 : INFO : PROGRESS: at example #30000, processed 1341448 words (925635/s), 41652 word types, 29891 tags\n",
      "2020-07-02 13:36:48,551 : INFO : PROGRESS: at example #40000, processed 1787196 words (936417/s), 49403 word types, 39786 tags\n",
      "2020-07-02 13:36:49,031 : INFO : PROGRESS: at example #50000, processed 2235856 words (936141/s), 56328 word types, 49659 tags\n",
      "2020-07-02 13:36:49,507 : INFO : PROGRESS: at example #60000, processed 2684654 words (942962/s), 62773 word types, 59500 tags\n",
      "2020-07-02 13:36:49,987 : INFO : PROGRESS: at example #70000, processed 3133361 words (934993/s), 69135 word types, 69326 tags\n",
      "2020-07-02 13:36:50,469 : INFO : PROGRESS: at example #80000, processed 3583514 words (934450/s), 74852 word types, 79127 tags\n",
      "2020-07-02 13:36:50,956 : INFO : PROGRESS: at example #90000, processed 4034095 words (926155/s), 80705 word types, 88913 tags\n",
      "2020-07-02 13:36:51,433 : INFO : PROGRESS: at example #100000, processed 4477521 words (930830/s), 86117 word types, 98678 tags\n",
      "2020-07-02 13:36:51,913 : INFO : PROGRESS: at example #110000, processed 4916632 words (916028/s), 91242 word types, 108437 tags\n",
      "2020-07-02 13:36:52,393 : INFO : PROGRESS: at example #120000, processed 5360717 words (926047/s), 96367 word types, 118110 tags\n",
      "2020-07-02 13:36:52,875 : INFO : PROGRESS: at example #130000, processed 5807037 words (926699/s), 101225 word types, 127778 tags\n",
      "2020-07-02 13:36:53,360 : INFO : PROGRESS: at example #140000, processed 6262785 words (940219/s), 106061 word types, 137406 tags\n",
      "2020-07-02 13:36:53,842 : INFO : PROGRESS: at example #150000, processed 6709364 words (926805/s), 110785 word types, 147035 tags\n",
      "2020-07-02 13:36:54,322 : INFO : PROGRESS: at example #160000, processed 7161884 words (945225/s), 115413 word types, 156649 tags\n",
      "2020-07-02 13:36:54,805 : INFO : PROGRESS: at example #170000, processed 7610342 words (928861/s), 119918 word types, 166237 tags\n",
      "2020-07-02 13:36:55,295 : INFO : PROGRESS: at example #180000, processed 8067464 words (933281/s), 124143 word types, 175782 tags\n",
      "2020-07-02 13:36:55,779 : INFO : PROGRESS: at example #190000, processed 8511590 words (917562/s), 128093 word types, 185276 tags\n",
      "2020-07-02 13:36:56,261 : INFO : PROGRESS: at example #200000, processed 8954091 words (920163/s), 132167 word types, 194747 tags\n",
      "2020-07-02 13:36:56,745 : INFO : PROGRESS: at example #210000, processed 9409286 words (940552/s), 136238 word types, 204203 tags\n",
      "2020-07-02 13:36:57,226 : INFO : PROGRESS: at example #220000, processed 9855160 words (927786/s), 140270 word types, 213640 tags\n",
      "2020-07-02 13:36:57,706 : INFO : PROGRESS: at example #230000, processed 10300117 words (928040/s), 144029 word types, 223102 tags\n",
      "2020-07-02 13:36:58,195 : INFO : PROGRESS: at example #240000, processed 10746207 words (914369/s), 147841 word types, 232490 tags\n",
      "2020-07-02 13:36:58,675 : INFO : PROGRESS: at example #250000, processed 11188555 words (921893/s), 151605 word types, 241852 tags\n",
      "2020-07-02 13:36:59,160 : INFO : PROGRESS: at example #260000, processed 11645085 words (941913/s), 155356 word types, 251185 tags\n",
      "2020-07-02 13:36:59,646 : INFO : PROGRESS: at example #270000, processed 12094282 words (925890/s), 159059 word types, 260477 tags\n",
      "2020-07-02 13:37:00,135 : INFO : PROGRESS: at example #280000, processed 12547729 words (928113/s), 162755 word types, 269737 tags\n",
      "2020-07-02 13:37:00,620 : INFO : PROGRESS: at example #290000, processed 13000025 words (931618/s), 166176 word types, 279035 tags\n",
      "2020-07-02 13:37:01,110 : INFO : PROGRESS: at example #300000, processed 13452593 words (924893/s), 169734 word types, 288224 tags\n",
      "2020-07-02 13:37:01,597 : INFO : PROGRESS: at example #310000, processed 13906363 words (933344/s), 173270 word types, 297421 tags\n",
      "2020-07-02 13:37:02,085 : INFO : PROGRESS: at example #320000, processed 14356241 words (922508/s), 176756 word types, 306552 tags\n",
      "2020-07-02 13:37:02,565 : INFO : PROGRESS: at example #330000, processed 14799039 words (923687/s), 179962 word types, 315681 tags\n",
      "2020-07-02 13:37:03,046 : INFO : PROGRESS: at example #340000, processed 15240037 words (917924/s), 183346 word types, 324787 tags\n",
      "2020-07-02 13:37:03,529 : INFO : PROGRESS: at example #350000, processed 15696420 words (944187/s), 186637 word types, 333864 tags\n",
      "2020-07-02 13:37:04,014 : INFO : PROGRESS: at example #360000, processed 16141651 words (919893/s), 189805 word types, 342912 tags\n",
      "2020-07-02 13:37:04,500 : INFO : PROGRESS: at example #370000, processed 16580127 words (902029/s), 192730 word types, 351904 tags\n",
      "2020-07-02 13:37:04,984 : INFO : PROGRESS: at example #380000, processed 17026636 words (923812/s), 195946 word types, 360984 tags\n",
      "2020-07-02 13:37:05,464 : INFO : PROGRESS: at example #390000, processed 17480845 words (947967/s), 199177 word types, 369961 tags\n",
      "2020-07-02 13:37:05,948 : INFO : PROGRESS: at example #400000, processed 17931996 words (931846/s), 202369 word types, 378889 tags\n",
      "2020-07-02 13:37:06,427 : INFO : PROGRESS: at example #410000, processed 18376618 words (929925/s), 205486 word types, 387773 tags\n",
      "2020-07-02 13:37:06,908 : INFO : PROGRESS: at example #420000, processed 18824470 words (931064/s), 208689 word types, 396673 tags\n",
      "2020-07-02 13:37:07,389 : INFO : PROGRESS: at example #430000, processed 19277025 words (941566/s), 211796 word types, 405580 tags\n",
      "2020-07-02 13:37:07,871 : INFO : PROGRESS: at example #440000, processed 19718983 words (917966/s), 214784 word types, 414405 tags\n",
      "2020-07-02 13:37:08,355 : INFO : PROGRESS: at example #450000, processed 20165625 words (924053/s), 217508 word types, 423245 tags\n",
      "2020-07-02 13:37:08,836 : INFO : PROGRESS: at example #460000, processed 20616191 words (937550/s), 220476 word types, 432092 tags\n",
      "2020-07-02 13:37:09,321 : INFO : PROGRESS: at example #470000, processed 21061983 words (919631/s), 223435 word types, 440847 tags\n",
      "2020-07-02 13:37:09,804 : INFO : PROGRESS: at example #480000, processed 21508036 words (925420/s), 226416 word types, 449562 tags\n",
      "2020-07-02 13:37:10,287 : INFO : PROGRESS: at example #490000, processed 21957570 words (930835/s), 229280 word types, 458262 tags\n",
      "2020-07-02 13:37:10,770 : INFO : PROGRESS: at example #500000, processed 22406527 words (930737/s), 232073 word types, 466850 tags\n",
      "2020-07-02 13:37:11,254 : INFO : PROGRESS: at example #510000, processed 22857533 words (931757/s), 234901 word types, 475509 tags\n",
      "2020-07-02 13:37:11,738 : INFO : PROGRESS: at example #520000, processed 23311247 words (937915/s), 237647 word types, 484128 tags\n",
      "2020-07-02 13:37:12,222 : INFO : PROGRESS: at example #530000, processed 23756255 words (920992/s), 240569 word types, 492724 tags\n",
      "2020-07-02 13:37:12,705 : INFO : PROGRESS: at example #540000, processed 24205771 words (932306/s), 243278 word types, 501313 tags\n",
      "2020-07-02 13:37:13,191 : INFO : PROGRESS: at example #550000, processed 24648813 words (912078/s), 245814 word types, 509816 tags\n",
      "2020-07-02 13:37:13,674 : INFO : PROGRESS: at example #560000, processed 25097415 words (929653/s), 248776 word types, 518383 tags\n",
      "2020-07-02 13:37:14,161 : INFO : PROGRESS: at example #570000, processed 25546040 words (921876/s), 251433 word types, 526955 tags\n",
      "2020-07-02 13:37:14,644 : INFO : PROGRESS: at example #580000, processed 25995685 words (931643/s), 253917 word types, 535473 tags\n",
      "2020-07-02 13:37:15,128 : INFO : PROGRESS: at example #590000, processed 26437848 words (914131/s), 256400 word types, 543924 tags\n",
      "2020-07-02 13:37:15,612 : INFO : PROGRESS: at example #600000, processed 26882616 words (919189/s), 258957 word types, 552372 tags\n",
      "2020-07-02 13:37:16,097 : INFO : PROGRESS: at example #610000, processed 27328528 words (921512/s), 261595 word types, 560776 tags\n",
      "2020-07-02 13:37:16,581 : INFO : PROGRESS: at example #620000, processed 27766417 words (904462/s), 264095 word types, 569174 tags\n",
      "2020-07-02 13:37:17,068 : INFO : PROGRESS: at example #630000, processed 28215831 words (924133/s), 266448 word types, 577524 tags\n",
      "2020-07-02 13:37:17,554 : INFO : PROGRESS: at example #640000, processed 28665447 words (925529/s), 268932 word types, 585811 tags\n",
      "2020-07-02 13:37:18,041 : INFO : PROGRESS: at example #650000, processed 29112259 words (918444/s), 271441 word types, 594095 tags\n",
      "2020-07-02 13:37:18,529 : INFO : PROGRESS: at example #660000, processed 29560957 words (921158/s), 274100 word types, 602378 tags\n",
      "2020-07-02 13:37:19,016 : INFO : PROGRESS: at example #670000, processed 30009516 words (922116/s), 276427 word types, 610597 tags\n",
      "2020-07-02 13:37:19,504 : INFO : PROGRESS: at example #680000, processed 30458845 words (920331/s), 278683 word types, 618725 tags\n",
      "2020-07-02 13:37:19,993 : INFO : PROGRESS: at example #690000, processed 30911975 words (927391/s), 281226 word types, 626970 tags\n",
      "2020-07-02 13:37:20,482 : INFO : PROGRESS: at example #700000, processed 31369019 words (936074/s), 283582 word types, 635108 tags\n",
      "2020-07-02 13:37:20,967 : INFO : PROGRESS: at example #710000, processed 31809475 words (908203/s), 285849 word types, 643253 tags\n",
      "2020-07-02 13:37:21,457 : INFO : PROGRESS: at example #720000, processed 32254872 words (910182/s), 288193 word types, 651314 tags\n",
      "2020-07-02 13:37:21,945 : INFO : PROGRESS: at example #730000, processed 32698786 words (911175/s), 290519 word types, 659427 tags\n",
      "2020-07-02 13:37:22,435 : INFO : PROGRESS: at example #740000, processed 33142171 words (905357/s), 292826 word types, 667540 tags\n",
      "2020-07-02 13:37:22,923 : INFO : PROGRESS: at example #750000, processed 33587864 words (913172/s), 295155 word types, 675637 tags\n",
      "2020-07-02 13:37:23,423 : INFO : PROGRESS: at example #760000, processed 34035158 words (895642/s), 297434 word types, 683652 tags\n",
      "2020-07-02 13:37:23,913 : INFO : PROGRESS: at example #770000, processed 34478740 words (906835/s), 299719 word types, 691625 tags\n",
      "2020-07-02 13:37:24,418 : INFO : PROGRESS: at example #780000, processed 34927798 words (890219/s), 301998 word types, 699609 tags\n",
      "2020-07-02 13:37:24,901 : INFO : PROGRESS: at example #790000, processed 35373399 words (924364/s), 304199 word types, 707486 tags\n",
      "2020-07-02 13:37:25,387 : INFO : PROGRESS: at example #800000, processed 35823647 words (926174/s), 306359 word types, 715323 tags\n",
      "2020-07-02 13:37:25,870 : INFO : PROGRESS: at example #810000, processed 36273608 words (933291/s), 308570 word types, 723122 tags\n",
      "2020-07-02 13:37:26,355 : INFO : PROGRESS: at example #820000, processed 36718101 words (916618/s), 310693 word types, 730894 tags\n",
      "2020-07-02 13:37:26,838 : INFO : PROGRESS: at example #830000, processed 37160666 words (917369/s), 312831 word types, 738733 tags\n",
      "2020-07-02 13:37:27,320 : INFO : PROGRESS: at example #840000, processed 37599307 words (911103/s), 315040 word types, 746573 tags\n",
      "2020-07-02 13:37:27,803 : INFO : PROGRESS: at example #850000, processed 38054066 words (942100/s), 317218 word types, 754356 tags\n",
      "2020-07-02 13:37:28,293 : INFO : PROGRESS: at example #860000, processed 38500822 words (912488/s), 319371 word types, 762074 tags\n",
      "2020-07-02 13:37:28,774 : INFO : PROGRESS: at example #870000, processed 38942832 words (919011/s), 321556 word types, 769893 tags\n",
      "2020-07-02 13:37:29,260 : INFO : PROGRESS: at example #880000, processed 39388458 words (917692/s), 323623 word types, 777445 tags\n",
      "2020-07-02 13:37:29,746 : INFO : PROGRESS: at example #890000, processed 39840158 words (931854/s), 325716 word types, 785151 tags\n",
      "2020-07-02 13:37:30,234 : INFO : PROGRESS: at example #900000, processed 40290933 words (923549/s), 327855 word types, 792848 tags\n",
      "2020-07-02 13:37:30,717 : INFO : PROGRESS: at example #910000, processed 40745061 words (941664/s), 329985 word types, 800485 tags\n",
      "2020-07-02 13:37:31,201 : INFO : PROGRESS: at example #920000, processed 41188607 words (917116/s), 331999 word types, 808033 tags\n",
      "2020-07-02 13:37:31,686 : INFO : PROGRESS: at example #930000, processed 41634371 words (919084/s), 334026 word types, 815573 tags\n",
      "2020-07-02 13:37:32,169 : INFO : PROGRESS: at example #940000, processed 42082833 words (929762/s), 336110 word types, 823147 tags\n",
      "2020-07-02 13:37:32,660 : INFO : PROGRESS: at example #950000, processed 42529317 words (911073/s), 338146 word types, 830634 tags\n",
      "2020-07-02 13:37:33,143 : INFO : PROGRESS: at example #960000, processed 42977759 words (927578/s), 340210 word types, 838053 tags\n",
      "2020-07-02 13:37:33,631 : INFO : PROGRESS: at example #970000, processed 43422890 words (914347/s), 342169 word types, 845501 tags\n",
      "2020-07-02 13:37:34,114 : INFO : PROGRESS: at example #980000, processed 43868665 words (924031/s), 344125 word types, 852997 tags\n",
      "2020-07-02 13:37:34,601 : INFO : PROGRESS: at example #990000, processed 44316946 words (920242/s), 346207 word types, 860416 tags\n",
      "2020-07-02 13:37:35,086 : INFO : PROGRESS: at example #1000000, processed 44769297 words (934229/s), 348139 word types, 867787 tags\n",
      "2020-07-02 13:37:35,579 : INFO : PROGRESS: at example #1010000, processed 45209243 words (893468/s), 350068 word types, 875177 tags\n",
      "2020-07-02 13:37:36,072 : INFO : PROGRESS: at example #1020000, processed 45650171 words (894943/s), 352022 word types, 882494 tags\n",
      "2020-07-02 13:37:36,567 : INFO : PROGRESS: at example #1030000, processed 46097082 words (902703/s), 353918 word types, 889725 tags\n",
      "2020-07-02 13:37:37,062 : INFO : PROGRESS: at example #1040000, processed 46547273 words (911312/s), 355888 word types, 897010 tags\n",
      "2020-07-02 13:37:37,560 : INFO : PROGRESS: at example #1050000, processed 46991479 words (893100/s), 357717 word types, 904236 tags\n",
      "2020-07-02 13:37:38,056 : INFO : PROGRESS: at example #1060000, processed 47440895 words (906028/s), 359593 word types, 911428 tags\n",
      "2020-07-02 13:37:38,554 : INFO : PROGRESS: at example #1070000, processed 47885679 words (894403/s), 361403 word types, 918664 tags\n",
      "2020-07-02 13:37:39,048 : INFO : PROGRESS: at example #1080000, processed 48331952 words (903957/s), 363137 word types, 925748 tags\n",
      "2020-07-02 13:37:39,544 : INFO : PROGRESS: at example #1090000, processed 48780287 words (904536/s), 364935 word types, 932851 tags\n",
      "2020-07-02 13:37:40,039 : INFO : PROGRESS: at example #1100000, processed 49230499 words (911115/s), 366773 word types, 939928 tags\n",
      "2020-07-02 13:37:40,535 : INFO : PROGRESS: at example #1110000, processed 49674186 words (895091/s), 368600 word types, 946981 tags\n",
      "2020-07-02 13:37:41,029 : INFO : PROGRESS: at example #1120000, processed 50119756 words (901396/s), 370290 word types, 953962 tags\n",
      "2020-07-02 13:37:41,528 : INFO : PROGRESS: at example #1130000, processed 50563567 words (891547/s), 372067 word types, 960988 tags\n",
      "2020-07-02 13:37:42,027 : INFO : PROGRESS: at example #1140000, processed 51014331 words (903722/s), 373803 word types, 967897 tags\n",
      "2020-07-02 13:37:42,523 : INFO : PROGRESS: at example #1150000, processed 51464661 words (908747/s), 375534 word types, 974936 tags\n",
      "2020-07-02 13:37:43,017 : INFO : PROGRESS: at example #1160000, processed 51914847 words (911639/s), 377231 word types, 981953 tags\n",
      "2020-07-02 13:37:43,515 : INFO : PROGRESS: at example #1170000, processed 52362878 words (899522/s), 379182 word types, 988899 tags\n",
      "2020-07-02 13:37:44,011 : INFO : PROGRESS: at example #1180000, processed 52806722 words (896268/s), 380849 word types, 995829 tags\n",
      "2020-07-02 13:37:44,510 : INFO : PROGRESS: at example #1190000, processed 53253588 words (895799/s), 382692 word types, 1002685 tags\n",
      "2020-07-02 13:37:45,007 : INFO : PROGRESS: at example #1200000, processed 53702796 words (905522/s), 384430 word types, 1009564 tags\n",
      "2020-07-02 13:37:45,503 : INFO : PROGRESS: at example #1210000, processed 54147380 words (897801/s), 386044 word types, 1016307 tags\n",
      "2020-07-02 13:37:45,999 : INFO : PROGRESS: at example #1220000, processed 54605580 words (923344/s), 387836 word types, 1023033 tags\n",
      "2020-07-02 13:37:46,499 : INFO : PROGRESS: at example #1230000, processed 55052673 words (895867/s), 389471 word types, 1029794 tags\n",
      "2020-07-02 13:37:46,995 : INFO : PROGRESS: at example #1240000, processed 55502835 words (908158/s), 391114 word types, 1036465 tags\n",
      "2020-07-02 13:37:47,491 : INFO : PROGRESS: at example #1250000, processed 55947273 words (897128/s), 392812 word types, 1043253 tags\n",
      "2020-07-02 13:37:47,985 : INFO : PROGRESS: at example #1260000, processed 56389551 words (894969/s), 394586 word types, 1049952 tags\n",
      "2020-07-02 13:37:48,420 : INFO : collected 395672 word types and 1054480 unique tags from a corpus of 1266768 examples and 56687912 words\n",
      "2020-07-02 13:37:48,421 : INFO : Loading a fresh vocabulary\n",
      "2020-07-02 13:37:51,301 : INFO : effective_min_count=2 retains 193699 unique words (48% of original 395672, drops 201973)\n",
      "2020-07-02 13:37:51,301 : INFO : effective_min_count=2 leaves 56485939 word corpus (99% of original 56687912, drops 201973)\n",
      "2020-07-02 13:37:51,637 : INFO : deleting the raw counts dictionary of 395672 items\n",
      "2020-07-02 13:37:51,649 : INFO : sample=0 downsamples 0 most-common words\n",
      "2020-07-02 13:37:51,650 : INFO : downsampling leaves estimated 56485939 word corpus (100.0% of prior 56485939)\n",
      "2020-07-02 13:37:52,148 : INFO : estimated required memory for 193699 words and 300 dimensions: 2037999100 bytes\n",
      "2020-07-02 13:37:52,149 : INFO : resetting layer weights\n",
      "2020-07-02 13:40:17,438 : INFO : training model with 3 workers on 193699 vocabulary and 300 features, using sg=1 hs=0 sample=0 negative=5 window=5\n",
      "2020-07-02 13:40:19,029 : INFO : EPOCH 1 - PROGRESS: at 0.02% examples, 6407 words/s, in_qsize 6, out_qsize 0\n",
      "2020-07-02 13:40:20,041 : INFO : EPOCH 1 - PROGRESS: at 0.92% examples, 206635 words/s, in_qsize 6, out_qsize 0\n",
      "2020-07-02 13:40:21,049 : INFO : EPOCH 1 - PROGRESS: at 1.87% examples, 300836 words/s, in_qsize 5, out_qsize 0\n",
      "2020-07-02 13:40:22,055 : INFO : EPOCH 1 - PROGRESS: at 2.80% examples, 349654 words/s, in_qsize 6, out_qsize 0\n",
      "2020-07-02 13:40:23,064 : INFO : EPOCH 1 - PROGRESS: at 3.76% examples, 384347 words/s, in_qsize 5, out_qsize 0\n",
      "2020-07-02 13:40:24,072 : INFO : EPOCH 1 - PROGRESS: at 4.69% examples, 407022 words/s, in_qsize 5, out_qsize 0\n",
      "2020-07-02 13:40:25,081 : INFO : EPOCH 1 - PROGRESS: at 5.64% examples, 424980 words/s, in_qsize 6, out_qsize 0\n",
      "2020-07-02 13:40:26,092 : INFO : EPOCH 1 - PROGRESS: at 6.55% examples, 435205 words/s, in_qsize 6, out_qsize 0\n",
      "2020-07-02 13:40:27,113 : INFO : EPOCH 1 - PROGRESS: at 7.40% examples, 440628 words/s, in_qsize 5, out_qsize 0\n",
      "2020-07-02 13:40:28,131 : INFO : EPOCH 1 - PROGRESS: at 8.25% examples, 444261 words/s, in_qsize 6, out_qsize 0\n",
      "2020-07-02 13:40:29,139 : INFO : EPOCH 1 - PROGRESS: at 9.11% examples, 448458 words/s, in_qsize 5, out_qsize 0\n",
      "2020-07-02 13:40:30,163 : INFO : EPOCH 1 - PROGRESS: at 9.97% examples, 451496 words/s, in_qsize 6, out_qsize 0\n",
      "2020-07-02 13:40:31,187 : INFO : EPOCH 1 - PROGRESS: at 10.82% examples, 453295 words/s, in_qsize 6, out_qsize 0\n",
      "2020-07-02 13:40:32,204 : INFO : EPOCH 1 - PROGRESS: at 11.70% examples, 456431 words/s, in_qsize 5, out_qsize 0\n",
      "2020-07-02 13:40:33,229 : INFO : EPOCH 1 - PROGRESS: at 12.55% examples, 458294 words/s, in_qsize 6, out_qsize 0\n",
      "2020-07-02 13:40:34,231 : INFO : EPOCH 1 - PROGRESS: at 13.39% examples, 459951 words/s, in_qsize 5, out_qsize 0\n",
      "2020-07-02 13:40:35,259 : INFO : EPOCH 1 - PROGRESS: at 14.24% examples, 461322 words/s, in_qsize 5, out_qsize 0\n",
      "2020-07-02 13:40:36,277 : INFO : EPOCH 1 - PROGRESS: at 15.10% examples, 462775 words/s, in_qsize 6, out_qsize 0\n",
      "2020-07-02 13:40:37,296 : INFO : EPOCH 1 - PROGRESS: at 15.94% examples, 463574 words/s, in_qsize 6, out_qsize 0\n",
      "2020-07-02 13:40:38,308 : INFO : EPOCH 1 - PROGRESS: at 16.77% examples, 463966 words/s, in_qsize 5, out_qsize 0\n",
      "2020-07-02 13:40:39,325 : INFO : EPOCH 1 - PROGRESS: at 17.63% examples, 465141 words/s, in_qsize 5, out_qsize 1\n",
      "2020-07-02 13:40:40,335 : INFO : EPOCH 1 - PROGRESS: at 18.50% examples, 466331 words/s, in_qsize 6, out_qsize 0\n",
      "2020-07-02 13:40:41,337 : INFO : EPOCH 1 - PROGRESS: at 19.34% examples, 467164 words/s, in_qsize 5, out_qsize 0\n",
      "2020-07-02 13:40:42,350 : INFO : EPOCH 1 - PROGRESS: at 20.19% examples, 467726 words/s, in_qsize 5, out_qsize 0\n",
      "2020-07-02 13:40:43,355 : INFO : EPOCH 1 - PROGRESS: at 21.05% examples, 468769 words/s, in_qsize 5, out_qsize 0\n",
      "2020-07-02 13:40:44,384 : INFO : EPOCH 1 - PROGRESS: at 21.90% examples, 468903 words/s, in_qsize 5, out_qsize 0\n",
      "2020-07-02 13:40:45,403 : INFO : EPOCH 1 - PROGRESS: at 22.73% examples, 469257 words/s, in_qsize 6, out_qsize 0\n",
      "2020-07-02 13:40:46,421 : INFO : EPOCH 1 - PROGRESS: at 23.57% examples, 469952 words/s, in_qsize 5, out_qsize 0\n",
      "2020-07-02 13:40:47,444 : INFO : EPOCH 1 - PROGRESS: at 24.41% examples, 470149 words/s, in_qsize 6, out_qsize 0\n",
      "2020-07-02 13:40:48,454 : INFO : EPOCH 1 - PROGRESS: at 25.36% examples, 472511 words/s, in_qsize 5, out_qsize 0\n",
      "2020-07-02 13:40:49,463 : INFO : EPOCH 1 - PROGRESS: at 26.31% examples, 474721 words/s, in_qsize 5, out_qsize 0\n",
      "2020-07-02 13:40:50,475 : INFO : EPOCH 1 - PROGRESS: at 27.26% examples, 476765 words/s, in_qsize 5, out_qsize 0\n",
      "2020-07-02 13:40:51,481 : INFO : EPOCH 1 - PROGRESS: at 28.17% examples, 478477 words/s, in_qsize 6, out_qsize 0\n",
      "2020-07-02 13:40:52,488 : INFO : EPOCH 1 - PROGRESS: at 29.13% examples, 480345 words/s, in_qsize 5, out_qsize 0\n",
      "2020-07-02 13:40:53,505 : INFO : EPOCH 1 - PROGRESS: at 30.07% examples, 481997 words/s, in_qsize 5, out_qsize 0\n",
      "2020-07-02 13:40:54,519 : INFO : EPOCH 1 - PROGRESS: at 31.02% examples, 483601 words/s, in_qsize 5, out_qsize 0\n",
      "2020-07-02 13:40:55,525 : INFO : EPOCH 1 - PROGRESS: at 31.97% examples, 485205 words/s, in_qsize 5, out_qsize 0\n",
      "2020-07-02 13:40:56,541 : INFO : EPOCH 1 - PROGRESS: at 32.93% examples, 486867 words/s, in_qsize 5, out_qsize 0\n",
      "2020-07-02 13:40:57,542 : INFO : EPOCH 1 - PROGRESS: at 33.86% examples, 488356 words/s, in_qsize 6, out_qsize 0\n",
      "2020-07-02 13:40:58,553 : INFO : EPOCH 1 - PROGRESS: at 34.79% examples, 489675 words/s, in_qsize 5, out_qsize 0\n",
      "2020-07-02 13:40:59,560 : INFO : EPOCH 1 - PROGRESS: at 35.72% examples, 490733 words/s, in_qsize 6, out_qsize 0\n",
      "2020-07-02 13:41:00,560 : INFO : EPOCH 1 - PROGRESS: at 36.66% examples, 491830 words/s, in_qsize 5, out_qsize 0\n",
      "2020-07-02 13:41:01,566 : INFO : EPOCH 1 - PROGRESS: at 37.60% examples, 493024 words/s, in_qsize 5, out_qsize 0\n",
      "2020-07-02 13:41:02,580 : INFO : EPOCH 1 - PROGRESS: at 38.54% examples, 493864 words/s, in_qsize 5, out_qsize 0\n",
      "2020-07-02 13:41:03,599 : INFO : EPOCH 1 - PROGRESS: at 39.49% examples, 494842 words/s, in_qsize 6, out_qsize 0\n",
      "2020-07-02 13:41:04,602 : INFO : EPOCH 1 - PROGRESS: at 40.43% examples, 495729 words/s, in_qsize 6, out_qsize 0\n",
      "2020-07-02 13:41:05,613 : INFO : EPOCH 1 - PROGRESS: at 41.38% examples, 496695 words/s, in_qsize 5, out_qsize 0\n",
      "2020-07-02 13:41:06,614 : INFO : EPOCH 1 - PROGRESS: at 42.30% examples, 497303 words/s, in_qsize 5, out_qsize 0\n",
      "2020-07-02 13:41:07,631 : INFO : EPOCH 1 - PROGRESS: at 43.25% examples, 497952 words/s, in_qsize 6, out_qsize 0\n",
      "2020-07-02 13:41:08,642 : INFO : EPOCH 1 - PROGRESS: at 44.21% examples, 498835 words/s, in_qsize 5, out_qsize 0\n",
      "2020-07-02 13:41:09,646 : INFO : EPOCH 1 - PROGRESS: at 45.13% examples, 499537 words/s, in_qsize 6, out_qsize 0\n",
      "2020-07-02 13:41:10,653 : INFO : EPOCH 1 - PROGRESS: at 46.08% examples, 500386 words/s, in_qsize 5, out_qsize 0\n",
      "2020-07-02 13:41:11,657 : INFO : EPOCH 1 - PROGRESS: at 47.01% examples, 501047 words/s, in_qsize 6, out_qsize 0\n",
      "2020-07-02 13:41:12,667 : INFO : EPOCH 1 - PROGRESS: at 47.95% examples, 501629 words/s, in_qsize 6, out_qsize 0\n",
      "2020-07-02 13:41:13,678 : INFO : EPOCH 1 - PROGRESS: at 48.90% examples, 502359 words/s, in_qsize 6, out_qsize 0\n",
      "2020-07-02 13:41:14,683 : INFO : EPOCH 1 - PROGRESS: at 49.86% examples, 503102 words/s, in_qsize 5, out_qsize 0\n",
      "2020-07-02 13:41:15,702 : INFO : EPOCH 1 - PROGRESS: at 50.81% examples, 503697 words/s, in_qsize 6, out_qsize 0\n",
      "2020-07-02 13:41:16,712 : INFO : EPOCH 1 - PROGRESS: at 51.76% examples, 504530 words/s, in_qsize 5, out_qsize 0\n",
      "2020-07-02 13:41:17,712 : INFO : EPOCH 1 - PROGRESS: at 52.70% examples, 505084 words/s, in_qsize 5, out_qsize 0\n",
      "2020-07-02 13:41:18,741 : INFO : EPOCH 1 - PROGRESS: at 53.65% examples, 505547 words/s, in_qsize 6, out_qsize 0\n",
      "2020-07-02 13:41:19,748 : INFO : EPOCH 1 - PROGRESS: at 54.60% examples, 506162 words/s, in_qsize 6, out_qsize 0\n",
      "2020-07-02 13:41:20,756 : INFO : EPOCH 1 - PROGRESS: at 55.57% examples, 506771 words/s, in_qsize 5, out_qsize 0\n",
      "2020-07-02 13:41:21,759 : INFO : EPOCH 1 - PROGRESS: at 56.50% examples, 507222 words/s, in_qsize 5, out_qsize 0\n",
      "2020-07-02 13:41:22,774 : INFO : EPOCH 1 - PROGRESS: at 57.44% examples, 507579 words/s, in_qsize 6, out_qsize 0\n",
      "2020-07-02 13:41:23,795 : INFO : EPOCH 1 - PROGRESS: at 58.40% examples, 508178 words/s, in_qsize 5, out_qsize 0\n",
      "2020-07-02 13:41:24,815 : INFO : EPOCH 1 - PROGRESS: at 59.34% examples, 508609 words/s, in_qsize 5, out_qsize 0\n",
      "2020-07-02 13:41:25,829 : INFO : EPOCH 1 - PROGRESS: at 60.28% examples, 509085 words/s, in_qsize 6, out_qsize 0\n",
      "2020-07-02 13:41:26,840 : INFO : EPOCH 1 - PROGRESS: at 61.23% examples, 509559 words/s, in_qsize 6, out_qsize 0\n",
      "2020-07-02 13:41:27,851 : INFO : EPOCH 1 - PROGRESS: at 62.19% examples, 510028 words/s, in_qsize 5, out_qsize 0\n",
      "2020-07-02 13:41:28,877 : INFO : EPOCH 1 - PROGRESS: at 63.13% examples, 510375 words/s, in_qsize 6, out_qsize 0\n",
      "2020-07-02 13:41:29,887 : INFO : EPOCH 1 - PROGRESS: at 64.08% examples, 510821 words/s, in_qsize 5, out_qsize 0\n",
      "2020-07-02 13:41:30,913 : INFO : EPOCH 1 - PROGRESS: at 65.02% examples, 511140 words/s, in_qsize 6, out_qsize 0\n",
      "2020-07-02 13:41:31,932 : INFO : EPOCH 1 - PROGRESS: at 65.99% examples, 511648 words/s, in_qsize 5, out_qsize 0\n",
      "2020-07-02 13:41:32,955 : INFO : EPOCH 1 - PROGRESS: at 66.95% examples, 511965 words/s, in_qsize 6, out_qsize 0\n",
      "2020-07-02 13:41:33,970 : INFO : EPOCH 1 - PROGRESS: at 67.88% examples, 512320 words/s, in_qsize 6, out_qsize 0\n",
      "2020-07-02 13:41:34,978 : INFO : EPOCH 1 - PROGRESS: at 68.82% examples, 512726 words/s, in_qsize 5, out_qsize 0\n",
      "2020-07-02 13:41:36,002 : INFO : EPOCH 1 - PROGRESS: at 69.77% examples, 513022 words/s, in_qsize 5, out_qsize 0\n",
      "2020-07-02 13:41:37,012 : INFO : EPOCH 1 - PROGRESS: at 70.72% examples, 513389 words/s, in_qsize 5, out_qsize 0\n",
      "2020-07-02 13:41:38,014 : INFO : EPOCH 1 - PROGRESS: at 71.66% examples, 513680 words/s, in_qsize 5, out_qsize 0\n",
      "2020-07-02 13:41:39,022 : INFO : EPOCH 1 - PROGRESS: at 72.60% examples, 514047 words/s, in_qsize 5, out_qsize 0\n",
      "2020-07-02 13:41:40,024 : INFO : EPOCH 1 - PROGRESS: at 73.54% examples, 514323 words/s, in_qsize 6, out_qsize 0\n",
      "2020-07-02 13:41:41,053 : INFO : EPOCH 1 - PROGRESS: at 74.50% examples, 514664 words/s, in_qsize 6, out_qsize 0\n",
      "2020-07-02 13:41:42,071 : INFO : EPOCH 1 - PROGRESS: at 75.45% examples, 514958 words/s, in_qsize 5, out_qsize 0\n",
      "2020-07-02 13:41:43,081 : INFO : EPOCH 1 - PROGRESS: at 76.40% examples, 515291 words/s, in_qsize 5, out_qsize 0\n",
      "2020-07-02 13:41:44,089 : INFO : EPOCH 1 - PROGRESS: at 77.34% examples, 515503 words/s, in_qsize 6, out_qsize 0\n",
      "2020-07-02 13:41:45,107 : INFO : EPOCH 1 - PROGRESS: at 78.30% examples, 515767 words/s, in_qsize 5, out_qsize 0\n",
      "2020-07-02 13:41:46,125 : INFO : EPOCH 1 - PROGRESS: at 79.25% examples, 516026 words/s, in_qsize 5, out_qsize 0\n",
      "2020-07-02 13:41:47,135 : INFO : EPOCH 1 - PROGRESS: at 80.19% examples, 516439 words/s, in_qsize 5, out_qsize 0\n",
      "2020-07-02 13:41:48,145 : INFO : EPOCH 1 - PROGRESS: at 81.14% examples, 516730 words/s, in_qsize 5, out_qsize 0\n",
      "2020-07-02 13:41:49,154 : INFO : EPOCH 1 - PROGRESS: at 82.07% examples, 517020 words/s, in_qsize 5, out_qsize 0\n",
      "2020-07-02 13:41:50,165 : INFO : EPOCH 1 - PROGRESS: at 83.02% examples, 517301 words/s, in_qsize 5, out_qsize 0\n",
      "2020-07-02 13:41:51,182 : INFO : EPOCH 1 - PROGRESS: at 83.97% examples, 517533 words/s, in_qsize 5, out_qsize 0\n",
      "2020-07-02 13:41:52,191 : INFO : EPOCH 1 - PROGRESS: at 84.92% examples, 517801 words/s, in_qsize 5, out_qsize 0\n",
      "2020-07-02 13:41:53,213 : INFO : EPOCH 1 - PROGRESS: at 85.87% examples, 518003 words/s, in_qsize 5, out_qsize 0\n",
      "2020-07-02 13:41:54,228 : INFO : EPOCH 1 - PROGRESS: at 86.83% examples, 518227 words/s, in_qsize 5, out_qsize 0\n",
      "2020-07-02 13:41:55,229 : INFO : EPOCH 1 - PROGRESS: at 87.76% examples, 518423 words/s, in_qsize 5, out_qsize 0\n",
      "2020-07-02 13:41:56,248 : INFO : EPOCH 1 - PROGRESS: at 88.70% examples, 518619 words/s, in_qsize 5, out_qsize 1\n",
      "2020-07-02 13:41:57,254 : INFO : EPOCH 1 - PROGRESS: at 89.66% examples, 518884 words/s, in_qsize 5, out_qsize 0\n",
      "2020-07-02 13:41:58,274 : INFO : EPOCH 1 - PROGRESS: at 90.60% examples, 519072 words/s, in_qsize 6, out_qsize 0\n",
      "2020-07-02 13:41:59,289 : INFO : EPOCH 1 - PROGRESS: at 91.55% examples, 519183 words/s, in_qsize 5, out_qsize 0\n",
      "2020-07-02 13:42:00,304 : INFO : EPOCH 1 - PROGRESS: at 92.49% examples, 519390 words/s, in_qsize 6, out_qsize 0\n",
      "2020-07-02 13:42:01,308 : INFO : EPOCH 1 - PROGRESS: at 93.43% examples, 519544 words/s, in_qsize 6, out_qsize 0\n",
      "2020-07-02 13:42:02,327 : INFO : EPOCH 1 - PROGRESS: at 94.39% examples, 519723 words/s, in_qsize 5, out_qsize 0\n",
      "2020-07-02 13:42:03,336 : INFO : EPOCH 1 - PROGRESS: at 95.33% examples, 519945 words/s, in_qsize 5, out_qsize 0\n",
      "2020-07-02 13:42:04,346 : INFO : EPOCH 1 - PROGRESS: at 96.26% examples, 520065 words/s, in_qsize 6, out_qsize 1\n",
      "2020-07-02 13:42:05,353 : INFO : EPOCH 1 - PROGRESS: at 97.23% examples, 520379 words/s, in_qsize 5, out_qsize 0\n",
      "2020-07-02 13:42:06,369 : INFO : EPOCH 1 - PROGRESS: at 98.16% examples, 520463 words/s, in_qsize 6, out_qsize 0\n",
      "2020-07-02 13:42:07,387 : INFO : EPOCH 1 - PROGRESS: at 99.11% examples, 520626 words/s, in_qsize 6, out_qsize 0\n",
      "2020-07-02 13:42:08,320 : INFO : worker thread finished; awaiting finish of 2 more threads\n",
      "2020-07-02 13:42:08,328 : INFO : worker thread finished; awaiting finish of 1 more threads\n",
      "2020-07-02 13:42:08,329 : INFO : worker thread finished; awaiting finish of 0 more threads\n",
      "2020-07-02 13:42:08,329 : INFO : EPOCH - 1 : training on 56687912 raw words (57752707 effective words) took 110.9s, 520812 effective words/s\n",
      "2020-07-02 13:42:09,618 : INFO : EPOCH 2 - PROGRESS: at 0.02% examples, 7901 words/s, in_qsize 6, out_qsize 0\n",
      "2020-07-02 13:42:10,627 : INFO : EPOCH 2 - PROGRESS: at 0.98% examples, 243150 words/s, in_qsize 5, out_qsize 0\n",
      "2020-07-02 13:42:11,645 : INFO : EPOCH 2 - PROGRESS: at 1.92% examples, 333707 words/s, in_qsize 6, out_qsize 0\n",
      "2020-07-02 13:42:12,647 : INFO : EPOCH 2 - PROGRESS: at 2.87% examples, 383251 words/s, in_qsize 6, out_qsize 0\n",
      "2020-07-02 13:42:13,654 : INFO : EPOCH 2 - PROGRESS: at 3.81% examples, 413665 words/s, in_qsize 6, out_qsize 0\n",
      "2020-07-02 13:42:14,666 : INFO : EPOCH 2 - PROGRESS: at 4.76% examples, 434114 words/s, in_qsize 5, out_qsize 0\n",
      "2020-07-02 13:42:15,686 : INFO : EPOCH 2 - PROGRESS: at 5.70% examples, 448369 words/s, in_qsize 6, out_qsize 0\n",
      "2020-07-02 13:42:16,692 : INFO : EPOCH 2 - PROGRESS: at 6.66% examples, 459949 words/s, in_qsize 5, out_qsize 0\n",
      "2020-07-02 13:42:17,701 : INFO : EPOCH 2 - PROGRESS: at 7.59% examples, 467782 words/s, in_qsize 5, out_qsize 0\n",
      "2020-07-02 13:42:18,707 : INFO : EPOCH 2 - PROGRESS: at 8.53% examples, 475245 words/s, in_qsize 5, out_qsize 0\n",
      "2020-07-02 13:42:19,712 : INFO : EPOCH 2 - PROGRESS: at 9.47% examples, 481416 words/s, in_qsize 5, out_qsize 0\n",
      "2020-07-02 13:42:20,712 : INFO : EPOCH 2 - PROGRESS: at 10.41% examples, 485914 words/s, in_qsize 5, out_qsize 0\n",
      "2020-07-02 13:42:21,721 : INFO : EPOCH 2 - PROGRESS: at 11.35% examples, 489505 words/s, in_qsize 5, out_qsize 0\n",
      "2020-07-02 13:42:22,727 : INFO : EPOCH 2 - PROGRESS: at 12.30% examples, 493389 words/s, in_qsize 5, out_qsize 0\n",
      "2020-07-02 13:42:23,733 : INFO : EPOCH 2 - PROGRESS: at 13.22% examples, 496032 words/s, in_qsize 6, out_qsize 0\n",
      "2020-07-02 13:42:24,746 : INFO : EPOCH 2 - PROGRESS: at 14.17% examples, 498811 words/s, in_qsize 6, out_qsize 0\n",
      "2020-07-02 13:42:25,761 : INFO : EPOCH 2 - PROGRESS: at 15.14% examples, 501211 words/s, in_qsize 5, out_qsize 0\n",
      "2020-07-02 13:42:26,781 : INFO : EPOCH 2 - PROGRESS: at 16.09% examples, 503188 words/s, in_qsize 5, out_qsize 0\n",
      "2020-07-02 13:42:27,790 : INFO : EPOCH 2 - PROGRESS: at 17.04% examples, 505278 words/s, in_qsize 5, out_qsize 0\n",
      "2020-07-02 13:42:28,807 : INFO : EPOCH 2 - PROGRESS: at 18.00% examples, 506955 words/s, in_qsize 5, out_qsize 0\n",
      "2020-07-02 13:42:29,810 : INFO : EPOCH 2 - PROGRESS: at 18.91% examples, 507826 words/s, in_qsize 6, out_qsize 1\n",
      "2020-07-02 13:42:30,815 : INFO : EPOCH 2 - PROGRESS: at 19.88% examples, 509935 words/s, in_qsize 5, out_qsize 0\n",
      "2020-07-02 13:42:31,833 : INFO : EPOCH 2 - PROGRESS: at 20.84% examples, 511601 words/s, in_qsize 6, out_qsize 0\n",
      "2020-07-02 13:42:32,849 : INFO : EPOCH 2 - PROGRESS: at 21.78% examples, 513111 words/s, in_qsize 6, out_qsize 0\n",
      "2020-07-02 13:42:33,869 : INFO : EPOCH 2 - PROGRESS: at 22.73% examples, 514065 words/s, in_qsize 6, out_qsize 0\n",
      "2020-07-02 13:42:34,883 : INFO : EPOCH 2 - PROGRESS: at 23.69% examples, 515075 words/s, in_qsize 6, out_qsize 0\n",
      "2020-07-02 13:42:35,887 : INFO : EPOCH 2 - PROGRESS: at 24.63% examples, 515831 words/s, in_qsize 6, out_qsize 0\n",
      "2020-07-02 13:42:36,890 : INFO : EPOCH 2 - PROGRESS: at 25.59% examples, 516896 words/s, in_qsize 5, out_qsize 0\n",
      "2020-07-02 13:42:37,895 : INFO : EPOCH 2 - PROGRESS: at 26.53% examples, 517829 words/s, in_qsize 6, out_qsize 0\n",
      "2020-07-02 13:42:38,923 : INFO : EPOCH 2 - PROGRESS: at 27.48% examples, 518661 words/s, in_qsize 6, out_qsize 0\n",
      "2020-07-02 13:42:39,935 : INFO : EPOCH 2 - PROGRESS: at 28.44% examples, 519408 words/s, in_qsize 6, out_qsize 0\n",
      "2020-07-02 13:42:40,974 : INFO : EPOCH 2 - PROGRESS: at 29.40% examples, 519953 words/s, in_qsize 6, out_qsize 1\n",
      "2020-07-02 13:42:41,982 : INFO : EPOCH 2 - PROGRESS: at 30.36% examples, 520956 words/s, in_qsize 5, out_qsize 0\n",
      "2020-07-02 13:42:42,991 : INFO : EPOCH 2 - PROGRESS: at 31.29% examples, 521019 words/s, in_qsize 5, out_qsize 0\n",
      "2020-07-02 13:42:44,007 : INFO : EPOCH 2 - PROGRESS: at 32.24% examples, 521551 words/s, in_qsize 6, out_qsize 0\n",
      "2020-07-02 13:42:45,008 : INFO : EPOCH 2 - PROGRESS: at 33.20% examples, 522260 words/s, in_qsize 5, out_qsize 0\n",
      "2020-07-02 13:42:46,015 : INFO : EPOCH 2 - PROGRESS: at 34.13% examples, 522579 words/s, in_qsize 5, out_qsize 0\n",
      "2020-07-02 13:42:47,033 : INFO : EPOCH 2 - PROGRESS: at 35.08% examples, 522998 words/s, in_qsize 5, out_qsize 0\n",
      "2020-07-02 13:42:48,044 : INFO : EPOCH 2 - PROGRESS: at 36.03% examples, 523483 words/s, in_qsize 6, out_qsize 0\n",
      "2020-07-02 13:42:49,067 : INFO : EPOCH 2 - PROGRESS: at 37.00% examples, 524043 words/s, in_qsize 5, out_qsize 0\n",
      "2020-07-02 13:42:50,086 : INFO : EPOCH 2 - PROGRESS: at 37.94% examples, 524359 words/s, in_qsize 6, out_qsize 0\n",
      "2020-07-02 13:42:51,091 : INFO : EPOCH 2 - PROGRESS: at 38.89% examples, 524601 words/s, in_qsize 6, out_qsize 0\n",
      "2020-07-02 13:42:52,095 : INFO : EPOCH 2 - PROGRESS: at 39.82% examples, 524863 words/s, in_qsize 5, out_qsize 0\n",
      "2020-07-02 13:42:53,103 : INFO : EPOCH 2 - PROGRESS: at 40.77% examples, 525292 words/s, in_qsize 5, out_qsize 0\n",
      "2020-07-02 13:42:54,104 : INFO : EPOCH 2 - PROGRESS: at 41.70% examples, 525780 words/s, in_qsize 5, out_qsize 0\n",
      "2020-07-02 13:42:55,115 : INFO : EPOCH 2 - PROGRESS: at 42.65% examples, 526111 words/s, in_qsize 5, out_qsize 0\n",
      "2020-07-02 13:42:56,137 : INFO : EPOCH 2 - PROGRESS: at 43.61% examples, 526331 words/s, in_qsize 6, out_qsize 0\n",
      "2020-07-02 13:42:57,147 : INFO : EPOCH 2 - PROGRESS: at 44.54% examples, 526673 words/s, in_qsize 6, out_qsize 0\n",
      "2020-07-02 13:42:58,153 : INFO : EPOCH 2 - PROGRESS: at 45.49% examples, 527041 words/s, in_qsize 5, out_qsize 0\n",
      "2020-07-02 13:42:59,156 : INFO : EPOCH 2 - PROGRESS: at 46.43% examples, 527214 words/s, in_qsize 6, out_qsize 0\n",
      "2020-07-02 13:43:00,179 : INFO : EPOCH 2 - PROGRESS: at 47.38% examples, 527367 words/s, in_qsize 6, out_qsize 0\n",
      "2020-07-02 13:43:01,191 : INFO : EPOCH 2 - PROGRESS: at 48.34% examples, 527829 words/s, in_qsize 6, out_qsize 0\n",
      "2020-07-02 13:43:02,204 : INFO : EPOCH 2 - PROGRESS: at 49.29% examples, 528082 words/s, in_qsize 6, out_qsize 0\n",
      "2020-07-02 13:43:03,206 : INFO : EPOCH 2 - PROGRESS: at 50.24% examples, 528422 words/s, in_qsize 6, out_qsize 0\n",
      "2020-07-02 13:43:04,218 : INFO : EPOCH 2 - PROGRESS: at 51.19% examples, 528654 words/s, in_qsize 5, out_qsize 0\n",
      "2020-07-02 13:43:05,230 : INFO : EPOCH 2 - PROGRESS: at 52.14% examples, 528874 words/s, in_qsize 5, out_qsize 0\n",
      "2020-07-02 13:43:06,230 : INFO : EPOCH 2 - PROGRESS: at 53.09% examples, 529025 words/s, in_qsize 5, out_qsize 0\n",
      "2020-07-02 13:43:07,243 : INFO : EPOCH 2 - PROGRESS: at 54.03% examples, 529220 words/s, in_qsize 6, out_qsize 0\n",
      "2020-07-02 13:43:08,250 : INFO : EPOCH 2 - PROGRESS: at 54.96% examples, 529307 words/s, in_qsize 6, out_qsize 0\n",
      "2020-07-02 13:43:09,255 : INFO : EPOCH 2 - PROGRESS: at 55.89% examples, 529404 words/s, in_qsize 5, out_qsize 0\n",
      "2020-07-02 13:43:10,265 : INFO : EPOCH 2 - PROGRESS: at 56.84% examples, 529619 words/s, in_qsize 5, out_qsize 0\n",
      "2020-07-02 13:43:11,275 : INFO : EPOCH 2 - PROGRESS: at 57.79% examples, 529828 words/s, in_qsize 5, out_qsize 0\n",
      "2020-07-02 13:43:12,276 : INFO : EPOCH 2 - PROGRESS: at 58.72% examples, 529944 words/s, in_qsize 6, out_qsize 0\n",
      "2020-07-02 13:43:13,301 : INFO : EPOCH 2 - PROGRESS: at 59.68% examples, 530174 words/s, in_qsize 5, out_qsize 0\n",
      "2020-07-02 13:43:14,317 : INFO : EPOCH 2 - PROGRESS: at 60.63% examples, 530308 words/s, in_qsize 5, out_qsize 0\n",
      "2020-07-02 13:43:15,324 : INFO : EPOCH 2 - PROGRESS: at 61.57% examples, 530521 words/s, in_qsize 6, out_qsize 0\n",
      "2020-07-02 13:43:16,334 : INFO : EPOCH 2 - PROGRESS: at 62.54% examples, 530841 words/s, in_qsize 5, out_qsize 0\n",
      "2020-07-02 13:43:17,336 : INFO : EPOCH 2 - PROGRESS: at 63.48% examples, 531060 words/s, in_qsize 6, out_qsize 0\n",
      "2020-07-02 13:43:18,344 : INFO : EPOCH 2 - PROGRESS: at 64.42% examples, 531094 words/s, in_qsize 6, out_qsize 0\n",
      "2020-07-02 13:43:19,350 : INFO : EPOCH 2 - PROGRESS: at 65.37% examples, 531294 words/s, in_qsize 6, out_qsize 0\n",
      "2020-07-02 13:43:20,366 : INFO : EPOCH 2 - PROGRESS: at 66.33% examples, 531540 words/s, in_qsize 5, out_qsize 0\n",
      "2020-07-02 13:43:21,385 : INFO : EPOCH 2 - PROGRESS: at 67.28% examples, 531763 words/s, in_qsize 5, out_qsize 0\n",
      "2020-07-02 13:43:22,387 : INFO : EPOCH 2 - PROGRESS: at 68.23% examples, 531820 words/s, in_qsize 5, out_qsize 0\n",
      "2020-07-02 13:43:23,398 : INFO : EPOCH 2 - PROGRESS: at 69.16% examples, 531821 words/s, in_qsize 6, out_qsize 0\n",
      "2020-07-02 13:43:24,398 : INFO : EPOCH 2 - PROGRESS: at 70.11% examples, 532032 words/s, in_qsize 5, out_qsize 0\n",
      "2020-07-02 13:43:25,416 : INFO : EPOCH 2 - PROGRESS: at 71.05% examples, 531979 words/s, in_qsize 5, out_qsize 0\n",
      "2020-07-02 13:43:26,436 : INFO : EPOCH 2 - PROGRESS: at 72.00% examples, 532056 words/s, in_qsize 6, out_qsize 0\n",
      "2020-07-02 13:43:27,452 : INFO : EPOCH 2 - PROGRESS: at 72.96% examples, 532154 words/s, in_qsize 5, out_qsize 0\n",
      "2020-07-02 13:43:28,459 : INFO : EPOCH 2 - PROGRESS: at 73.91% examples, 532300 words/s, in_qsize 5, out_qsize 0\n",
      "2020-07-02 13:43:29,463 : INFO : EPOCH 2 - PROGRESS: at 74.84% examples, 532220 words/s, in_qsize 5, out_qsize 0\n",
      "2020-07-02 13:43:30,480 : INFO : EPOCH 2 - PROGRESS: at 75.78% examples, 532298 words/s, in_qsize 5, out_qsize 0\n",
      "2020-07-02 13:43:31,497 : INFO : EPOCH 2 - PROGRESS: at 76.73% examples, 532382 words/s, in_qsize 6, out_qsize 1\n",
      "2020-07-02 13:43:32,515 : INFO : EPOCH 2 - PROGRESS: at 77.69% examples, 532803 words/s, in_qsize 5, out_qsize 0\n",
      "2020-07-02 13:43:33,532 : INFO : EPOCH 2 - PROGRESS: at 78.63% examples, 532880 words/s, in_qsize 6, out_qsize 0\n",
      "2020-07-02 13:43:34,540 : INFO : EPOCH 2 - PROGRESS: at 79.57% examples, 533005 words/s, in_qsize 6, out_qsize 0\n",
      "2020-07-02 13:43:35,552 : INFO : EPOCH 2 - PROGRESS: at 80.53% examples, 533111 words/s, in_qsize 6, out_qsize 0\n",
      "2020-07-02 13:43:36,572 : INFO : EPOCH 2 - PROGRESS: at 81.49% examples, 533157 words/s, in_qsize 6, out_qsize 0\n",
      "2020-07-02 13:43:37,577 : INFO : EPOCH 2 - PROGRESS: at 82.44% examples, 533297 words/s, in_qsize 6, out_qsize 0\n",
      "2020-07-02 13:43:38,586 : INFO : EPOCH 2 - PROGRESS: at 83.39% examples, 533517 words/s, in_qsize 5, out_qsize 0\n",
      "2020-07-02 13:43:39,593 : INFO : EPOCH 2 - PROGRESS: at 84.31% examples, 533518 words/s, in_qsize 5, out_qsize 0\n",
      "2020-07-02 13:43:40,613 : INFO : EPOCH 2 - PROGRESS: at 85.26% examples, 533560 words/s, in_qsize 5, out_qsize 0\n",
      "2020-07-02 13:43:41,631 : INFO : EPOCH 2 - PROGRESS: at 86.22% examples, 533719 words/s, in_qsize 6, out_qsize 0\n",
      "2020-07-02 13:43:42,633 : INFO : EPOCH 2 - PROGRESS: at 87.17% examples, 533858 words/s, in_qsize 6, out_qsize 0\n",
      "2020-07-02 13:43:43,647 : INFO : EPOCH 2 - PROGRESS: at 88.12% examples, 533922 words/s, in_qsize 5, out_qsize 0\n",
      "2020-07-02 13:43:44,669 : INFO : EPOCH 2 - PROGRESS: at 89.07% examples, 533936 words/s, in_qsize 6, out_qsize 0\n",
      "2020-07-02 13:43:45,674 : INFO : EPOCH 2 - PROGRESS: at 90.01% examples, 534045 words/s, in_qsize 5, out_qsize 0\n",
      "2020-07-02 13:43:46,693 : INFO : EPOCH 2 - PROGRESS: at 90.97% examples, 534085 words/s, in_qsize 5, out_qsize 0\n",
      "2020-07-02 13:43:47,700 : INFO : EPOCH 2 - PROGRESS: at 91.91% examples, 534188 words/s, in_qsize 5, out_qsize 0\n",
      "2020-07-02 13:43:48,714 : INFO : EPOCH 2 - PROGRESS: at 92.86% examples, 534241 words/s, in_qsize 5, out_qsize 0\n",
      "2020-07-02 13:43:49,725 : INFO : EPOCH 2 - PROGRESS: at 93.77% examples, 534121 words/s, in_qsize 5, out_qsize 0\n",
      "2020-07-02 13:43:50,731 : INFO : EPOCH 2 - PROGRESS: at 94.63% examples, 533727 words/s, in_qsize 5, out_qsize 0\n",
      "2020-07-02 13:43:51,734 : INFO : EPOCH 2 - PROGRESS: at 95.47% examples, 533263 words/s, in_qsize 6, out_qsize 0\n",
      "2020-07-02 13:43:52,745 : INFO : EPOCH 2 - PROGRESS: at 96.31% examples, 532766 words/s, in_qsize 6, out_qsize 0\n",
      "2020-07-02 13:43:53,749 : INFO : EPOCH 2 - PROGRESS: at 97.13% examples, 532220 words/s, in_qsize 6, out_qsize 0\n",
      "2020-07-02 13:43:54,753 : INFO : EPOCH 2 - PROGRESS: at 97.99% examples, 531772 words/s, in_qsize 6, out_qsize 0\n",
      "2020-07-02 13:43:55,779 : INFO : EPOCH 2 - PROGRESS: at 98.87% examples, 531416 words/s, in_qsize 6, out_qsize 0\n",
      "2020-07-02 13:43:56,783 : INFO : EPOCH 2 - PROGRESS: at 99.72% examples, 530991 words/s, in_qsize 6, out_qsize 0\n",
      "2020-07-02 13:43:57,098 : INFO : worker thread finished; awaiting finish of 2 more threads\n",
      "2020-07-02 13:43:57,106 : INFO : worker thread finished; awaiting finish of 1 more threads\n",
      "2020-07-02 13:43:57,110 : INFO : worker thread finished; awaiting finish of 0 more threads\n",
      "2020-07-02 13:43:57,111 : INFO : EPOCH - 2 : training on 56687912 raw words (57752707 effective words) took 108.8s, 530911 effective words/s\n",
      "2020-07-02 13:43:58,436 : INFO : EPOCH 3 - PROGRESS: at 0.02% examples, 7655 words/s, in_qsize 6, out_qsize 0\n",
      "2020-07-02 13:43:59,442 : INFO : EPOCH 3 - PROGRESS: at 0.87% examples, 217514 words/s, in_qsize 6, out_qsize 0\n",
      "2020-07-02 13:44:00,451 : INFO : EPOCH 3 - PROGRESS: at 1.71% examples, 297530 words/s, in_qsize 6, out_qsize 0\n",
      "2020-07-02 13:44:01,475 : INFO : EPOCH 3 - PROGRESS: at 2.58% examples, 341694 words/s, in_qsize 6, out_qsize 0\n",
      "2020-07-02 13:44:02,491 : INFO : EPOCH 3 - PROGRESS: at 3.44% examples, 367815 words/s, in_qsize 6, out_qsize 0\n",
      "2020-07-02 13:44:03,524 : INFO : EPOCH 3 - PROGRESS: at 4.29% examples, 386050 words/s, in_qsize 6, out_qsize 0\n",
      "2020-07-02 13:44:04,525 : INFO : EPOCH 3 - PROGRESS: at 5.12% examples, 399623 words/s, in_qsize 6, out_qsize 0\n",
      "2020-07-02 13:44:05,528 : INFO : EPOCH 3 - PROGRESS: at 5.95% examples, 408687 words/s, in_qsize 6, out_qsize 0\n",
      "2020-07-02 13:44:06,548 : INFO : EPOCH 3 - PROGRESS: at 6.79% examples, 416044 words/s, in_qsize 5, out_qsize 0\n",
      "2020-07-02 13:44:07,567 : INFO : EPOCH 3 - PROGRESS: at 7.64% examples, 423040 words/s, in_qsize 5, out_qsize 0\n",
      "2020-07-02 13:44:08,581 : INFO : EPOCH 3 - PROGRESS: at 8.47% examples, 427203 words/s, in_qsize 6, out_qsize 0\n",
      "2020-07-02 13:44:09,604 : INFO : EPOCH 3 - PROGRESS: at 9.35% examples, 432783 words/s, in_qsize 6, out_qsize 0\n",
      "2020-07-02 13:44:10,619 : INFO : EPOCH 3 - PROGRESS: at 10.15% examples, 434816 words/s, in_qsize 5, out_qsize 0\n",
      "2020-07-02 13:44:11,643 : INFO : EPOCH 3 - PROGRESS: at 11.10% examples, 441893 words/s, in_qsize 6, out_qsize 0\n",
      "2020-07-02 13:44:12,645 : INFO : EPOCH 3 - PROGRESS: at 12.05% examples, 448643 words/s, in_qsize 5, out_qsize 0\n",
      "2020-07-02 13:44:13,654 : INFO : EPOCH 3 - PROGRESS: at 13.01% examples, 454392 words/s, in_qsize 5, out_qsize 0\n",
      "2020-07-02 13:44:14,681 : INFO : EPOCH 3 - PROGRESS: at 13.94% examples, 458947 words/s, in_qsize 6, out_qsize 0\n",
      "2020-07-02 13:44:15,688 : INFO : EPOCH 3 - PROGRESS: at 14.89% examples, 463590 words/s, in_qsize 5, out_qsize 0\n",
      "2020-07-02 13:44:16,703 : INFO : EPOCH 3 - PROGRESS: at 15.84% examples, 467523 words/s, in_qsize 5, out_qsize 0\n",
      "2020-07-02 13:44:17,709 : INFO : EPOCH 3 - PROGRESS: at 16.77% examples, 470784 words/s, in_qsize 6, out_qsize 0\n",
      "2020-07-02 13:44:18,720 : INFO : EPOCH 3 - PROGRESS: at 17.73% examples, 474128 words/s, in_qsize 6, out_qsize 0\n",
      "2020-07-02 13:44:19,722 : INFO : EPOCH 3 - PROGRESS: at 18.69% examples, 477375 words/s, in_qsize 5, out_qsize 0\n",
      "2020-07-02 13:44:20,725 : INFO : EPOCH 3 - PROGRESS: at 19.63% examples, 479883 words/s, in_qsize 5, out_qsize 0\n",
      "2020-07-02 13:44:21,727 : INFO : EPOCH 3 - PROGRESS: at 20.57% examples, 482186 words/s, in_qsize 5, out_qsize 0\n",
      "2020-07-02 13:44:22,743 : INFO : EPOCH 3 - PROGRESS: at 21.52% examples, 484453 words/s, in_qsize 5, out_qsize 0\n",
      "2020-07-02 13:44:23,748 : INFO : EPOCH 3 - PROGRESS: at 22.47% examples, 486750 words/s, in_qsize 5, out_qsize 0\n",
      "2020-07-02 13:44:24,758 : INFO : EPOCH 3 - PROGRESS: at 23.43% examples, 488815 words/s, in_qsize 5, out_qsize 0\n",
      "2020-07-02 13:44:25,761 : INFO : EPOCH 3 - PROGRESS: at 24.38% examples, 490815 words/s, in_qsize 5, out_qsize 0\n",
      "2020-07-02 13:44:26,771 : INFO : EPOCH 3 - PROGRESS: at 25.33% examples, 492584 words/s, in_qsize 5, out_qsize 0\n",
      "2020-07-02 13:44:27,771 : INFO : EPOCH 3 - PROGRESS: at 26.27% examples, 494374 words/s, in_qsize 5, out_qsize 0\n",
      "2020-07-02 13:44:28,789 : INFO : EPOCH 3 - PROGRESS: at 27.20% examples, 495479 words/s, in_qsize 6, out_qsize 0\n",
      "2020-07-02 13:44:29,795 : INFO : EPOCH 3 - PROGRESS: at 28.14% examples, 496975 words/s, in_qsize 5, out_qsize 0\n",
      "2020-07-02 13:44:30,816 : INFO : EPOCH 3 - PROGRESS: at 29.09% examples, 498175 words/s, in_qsize 6, out_qsize 0\n",
      "2020-07-02 13:44:31,829 : INFO : EPOCH 3 - PROGRESS: at 30.04% examples, 499122 words/s, in_qsize 5, out_qsize 0\n",
      "2020-07-02 13:44:32,838 : INFO : EPOCH 3 - PROGRESS: at 30.99% examples, 500373 words/s, in_qsize 5, out_qsize 0\n",
      "2020-07-02 13:44:33,854 : INFO : EPOCH 3 - PROGRESS: at 31.94% examples, 501450 words/s, in_qsize 6, out_qsize 0\n",
      "2020-07-02 13:44:34,869 : INFO : EPOCH 3 - PROGRESS: at 32.89% examples, 502474 words/s, in_qsize 5, out_qsize 0\n",
      "2020-07-02 13:44:35,906 : INFO : EPOCH 3 - PROGRESS: at 33.84% examples, 503427 words/s, in_qsize 6, out_qsize 0\n",
      "2020-07-02 13:44:36,912 : INFO : EPOCH 3 - PROGRESS: at 34.79% examples, 504215 words/s, in_qsize 6, out_qsize 0\n",
      "2020-07-02 13:44:37,914 : INFO : EPOCH 3 - PROGRESS: at 35.73% examples, 505270 words/s, in_qsize 5, out_qsize 0\n",
      "2020-07-02 13:44:38,926 : INFO : EPOCH 3 - PROGRESS: at 36.69% examples, 506152 words/s, in_qsize 5, out_qsize 0\n",
      "2020-07-02 13:44:39,937 : INFO : EPOCH 3 - PROGRESS: at 37.63% examples, 506770 words/s, in_qsize 6, out_qsize 0\n",
      "2020-07-02 13:44:40,969 : INFO : EPOCH 3 - PROGRESS: at 38.59% examples, 507559 words/s, in_qsize 6, out_qsize 0\n",
      "2020-07-02 13:44:41,982 : INFO : EPOCH 3 - PROGRESS: at 39.54% examples, 508321 words/s, in_qsize 5, out_qsize 0\n",
      "2020-07-02 13:44:42,993 : INFO : EPOCH 3 - PROGRESS: at 40.49% examples, 509275 words/s, in_qsize 5, out_qsize 0\n",
      "2020-07-02 13:44:44,004 : INFO : EPOCH 3 - PROGRESS: at 41.42% examples, 509774 words/s, in_qsize 5, out_qsize 0\n",
      "2020-07-02 13:44:45,032 : INFO : EPOCH 3 - PROGRESS: at 42.37% examples, 510264 words/s, in_qsize 5, out_qsize 0\n",
      "2020-07-02 13:44:46,050 : INFO : EPOCH 3 - PROGRESS: at 43.33% examples, 511040 words/s, in_qsize 6, out_qsize 0\n",
      "2020-07-02 13:44:47,056 : INFO : EPOCH 3 - PROGRESS: at 44.27% examples, 511718 words/s, in_qsize 5, out_qsize 0\n",
      "2020-07-02 13:44:48,077 : INFO : EPOCH 3 - PROGRESS: at 45.21% examples, 512219 words/s, in_qsize 6, out_qsize 0\n",
      "2020-07-02 13:44:49,086 : INFO : EPOCH 3 - PROGRESS: at 46.15% examples, 512628 words/s, in_qsize 6, out_qsize 0\n",
      "2020-07-02 13:44:50,092 : INFO : EPOCH 3 - PROGRESS: at 47.09% examples, 513248 words/s, in_qsize 6, out_qsize 0\n",
      "2020-07-02 13:44:51,105 : INFO : EPOCH 3 - PROGRESS: at 48.04% examples, 513575 words/s, in_qsize 6, out_qsize 0\n",
      "2020-07-02 13:44:52,106 : INFO : EPOCH 3 - PROGRESS: at 48.99% examples, 514192 words/s, in_qsize 5, out_qsize 0\n",
      "2020-07-02 13:44:53,121 : INFO : EPOCH 3 - PROGRESS: at 49.94% examples, 514656 words/s, in_qsize 6, out_qsize 0\n",
      "2020-07-02 13:44:54,126 : INFO : EPOCH 3 - PROGRESS: at 50.88% examples, 515190 words/s, in_qsize 5, out_qsize 0\n",
      "2020-07-02 13:44:55,149 : INFO : EPOCH 3 - PROGRESS: at 51.83% examples, 515548 words/s, in_qsize 6, out_qsize 0\n",
      "2020-07-02 13:44:56,160 : INFO : EPOCH 3 - PROGRESS: at 52.79% examples, 516004 words/s, in_qsize 6, out_qsize 0\n",
      "2020-07-02 13:44:57,174 : INFO : EPOCH 3 - PROGRESS: at 53.73% examples, 516410 words/s, in_qsize 6, out_qsize 0\n",
      "2020-07-02 13:44:58,192 : INFO : EPOCH 3 - PROGRESS: at 54.68% examples, 516769 words/s, in_qsize 6, out_qsize 0\n",
      "2020-07-02 13:44:59,195 : INFO : EPOCH 3 - PROGRESS: at 55.63% examples, 517255 words/s, in_qsize 5, out_qsize 0\n",
      "2020-07-02 13:45:00,213 : INFO : EPOCH 3 - PROGRESS: at 56.57% examples, 517426 words/s, in_qsize 5, out_qsize 0\n",
      "2020-07-02 13:45:01,235 : INFO : EPOCH 3 - PROGRESS: at 57.53% examples, 517726 words/s, in_qsize 6, out_qsize 0\n",
      "2020-07-02 13:45:02,237 : INFO : EPOCH 3 - PROGRESS: at 58.49% examples, 518181 words/s, in_qsize 5, out_qsize 0\n",
      "2020-07-02 13:45:03,255 : INFO : EPOCH 3 - PROGRESS: at 59.43% examples, 518484 words/s, in_qsize 5, out_qsize 0\n",
      "2020-07-02 13:45:04,276 : INFO : EPOCH 3 - PROGRESS: at 60.38% examples, 518757 words/s, in_qsize 5, out_qsize 0\n",
      "2020-07-02 13:45:05,295 : INFO : EPOCH 3 - PROGRESS: at 61.33% examples, 519047 words/s, in_qsize 6, out_qsize 0\n",
      "2020-07-02 13:45:06,304 : INFO : EPOCH 3 - PROGRESS: at 62.27% examples, 519393 words/s, in_qsize 6, out_qsize 0\n",
      "2020-07-02 13:45:07,307 : INFO : EPOCH 3 - PROGRESS: at 63.23% examples, 519921 words/s, in_qsize 5, out_qsize 0\n",
      "2020-07-02 13:45:08,317 : INFO : EPOCH 3 - PROGRESS: at 64.16% examples, 520228 words/s, in_qsize 6, out_qsize 0\n",
      "2020-07-02 13:45:09,325 : INFO : EPOCH 3 - PROGRESS: at 65.11% examples, 520550 words/s, in_qsize 6, out_qsize 0\n",
      "2020-07-02 13:45:10,342 : INFO : EPOCH 3 - PROGRESS: at 66.06% examples, 520802 words/s, in_qsize 6, out_qsize 0\n",
      "2020-07-02 13:45:11,358 : INFO : EPOCH 3 - PROGRESS: at 67.00% examples, 521049 words/s, in_qsize 5, out_qsize 0\n",
      "2020-07-02 13:45:12,363 : INFO : EPOCH 3 - PROGRESS: at 67.95% examples, 521366 words/s, in_qsize 5, out_qsize 0\n",
      "2020-07-02 13:45:13,384 : INFO : EPOCH 3 - PROGRESS: at 68.91% examples, 521565 words/s, in_qsize 5, out_qsize 0\n",
      "2020-07-02 13:45:14,393 : INFO : EPOCH 3 - PROGRESS: at 69.85% examples, 521726 words/s, in_qsize 6, out_qsize 0\n",
      "2020-07-02 13:45:15,429 : INFO : EPOCH 3 - PROGRESS: at 70.81% examples, 521947 words/s, in_qsize 6, out_qsize 0\n",
      "2020-07-02 13:45:16,446 : INFO : EPOCH 3 - PROGRESS: at 71.77% examples, 522159 words/s, in_qsize 6, out_qsize 0\n",
      "2020-07-02 13:45:17,450 : INFO : EPOCH 3 - PROGRESS: at 72.71% examples, 522330 words/s, in_qsize 6, out_qsize 0\n",
      "2020-07-02 13:45:18,451 : INFO : EPOCH 3 - PROGRESS: at 73.67% examples, 522642 words/s, in_qsize 5, out_qsize 0\n",
      "2020-07-02 13:45:19,463 : INFO : EPOCH 3 - PROGRESS: at 74.62% examples, 522871 words/s, in_qsize 6, out_qsize 0\n",
      "2020-07-02 13:45:20,473 : INFO : EPOCH 3 - PROGRESS: at 75.57% examples, 523110 words/s, in_qsize 6, out_qsize 0\n",
      "2020-07-02 13:45:21,475 : INFO : EPOCH 3 - PROGRESS: at 76.51% examples, 523274 words/s, in_qsize 6, out_qsize 0\n",
      "2020-07-02 13:45:22,489 : INFO : EPOCH 3 - PROGRESS: at 77.46% examples, 523477 words/s, in_qsize 6, out_qsize 0\n",
      "2020-07-02 13:45:23,503 : INFO : EPOCH 3 - PROGRESS: at 78.41% examples, 523674 words/s, in_qsize 6, out_qsize 0\n",
      "2020-07-02 13:45:24,508 : INFO : EPOCH 3 - PROGRESS: at 79.34% examples, 523922 words/s, in_qsize 6, out_qsize 0\n",
      "2020-07-02 13:45:25,515 : INFO : EPOCH 3 - PROGRESS: at 80.30% examples, 524154 words/s, in_qsize 5, out_qsize 0\n",
      "2020-07-02 13:45:26,525 : INFO : EPOCH 3 - PROGRESS: at 81.27% examples, 524470 words/s, in_qsize 5, out_qsize 0\n",
      "2020-07-02 13:45:27,529 : INFO : EPOCH 3 - PROGRESS: at 82.21% examples, 524702 words/s, in_qsize 5, out_qsize 0\n",
      "2020-07-02 13:45:28,534 : INFO : EPOCH 3 - PROGRESS: at 83.15% examples, 524932 words/s, in_qsize 5, out_qsize 0\n",
      "2020-07-02 13:45:29,543 : INFO : EPOCH 3 - PROGRESS: at 84.09% examples, 525115 words/s, in_qsize 5, out_qsize 0\n",
      "2020-07-02 13:45:30,552 : INFO : EPOCH 3 - PROGRESS: at 85.03% examples, 525305 words/s, in_qsize 5, out_qsize 0\n",
      "2020-07-02 13:45:31,554 : INFO : EPOCH 3 - PROGRESS: at 85.99% examples, 525543 words/s, in_qsize 5, out_qsize 0\n",
      "2020-07-02 13:45:32,571 : INFO : EPOCH 3 - PROGRESS: at 86.93% examples, 525685 words/s, in_qsize 5, out_qsize 0\n",
      "2020-07-02 13:45:33,585 : INFO : EPOCH 3 - PROGRESS: at 87.89% examples, 525943 words/s, in_qsize 5, out_qsize 0\n",
      "2020-07-02 13:45:34,586 : INFO : EPOCH 3 - PROGRESS: at 88.81% examples, 526063 words/s, in_qsize 5, out_qsize 0\n",
      "2020-07-02 13:45:35,596 : INFO : EPOCH 3 - PROGRESS: at 89.74% examples, 526231 words/s, in_qsize 6, out_qsize 0\n",
      "2020-07-02 13:45:36,609 : INFO : EPOCH 3 - PROGRESS: at 90.69% examples, 526386 words/s, in_qsize 6, out_qsize 0\n",
      "2020-07-02 13:45:37,618 : INFO : EPOCH 3 - PROGRESS: at 91.64% examples, 526550 words/s, in_qsize 6, out_qsize 0\n",
      "2020-07-02 13:45:38,624 : INFO : EPOCH 3 - PROGRESS: at 92.57% examples, 526635 words/s, in_qsize 6, out_qsize 0\n",
      "2020-07-02 13:45:39,627 : INFO : EPOCH 3 - PROGRESS: at 93.52% examples, 526822 words/s, in_qsize 5, out_qsize 0\n",
      "2020-07-02 13:45:40,631 : INFO : EPOCH 3 - PROGRESS: at 94.45% examples, 526906 words/s, in_qsize 6, out_qsize 0\n",
      "2020-07-02 13:45:41,641 : INFO : EPOCH 3 - PROGRESS: at 95.41% examples, 527162 words/s, in_qsize 5, out_qsize 0\n",
      "2020-07-02 13:45:42,649 : INFO : EPOCH 3 - PROGRESS: at 96.35% examples, 527315 words/s, in_qsize 5, out_qsize 0\n",
      "2020-07-02 13:45:43,656 : INFO : EPOCH 3 - PROGRESS: at 97.29% examples, 527380 words/s, in_qsize 5, out_qsize 0\n",
      "2020-07-02 13:45:44,667 : INFO : EPOCH 3 - PROGRESS: at 98.24% examples, 527520 words/s, in_qsize 6, out_qsize 0\n",
      "2020-07-02 13:45:45,668 : INFO : EPOCH 3 - PROGRESS: at 99.18% examples, 527609 words/s, in_qsize 6, out_qsize 0\n",
      "2020-07-02 13:45:46,540 : INFO : worker thread finished; awaiting finish of 2 more threads\n",
      "2020-07-02 13:45:46,542 : INFO : worker thread finished; awaiting finish of 1 more threads\n",
      "2020-07-02 13:45:46,559 : INFO : worker thread finished; awaiting finish of 0 more threads\n",
      "2020-07-02 13:45:46,559 : INFO : EPOCH - 3 : training on 56687912 raw words (57752707 effective words) took 109.4s, 527675 effective words/s\n",
      "2020-07-02 13:45:47,850 : INFO : EPOCH 4 - PROGRESS: at 0.02% examples, 7825 words/s, in_qsize 6, out_qsize 0\n",
      "2020-07-02 13:45:48,864 : INFO : EPOCH 4 - PROGRESS: at 0.98% examples, 246582 words/s, in_qsize 6, out_qsize 0\n",
      "2020-07-02 13:45:49,871 : INFO : EPOCH 4 - PROGRESS: at 1.93% examples, 337015 words/s, in_qsize 5, out_qsize 0\n",
      "2020-07-02 13:45:50,882 : INFO : EPOCH 4 - PROGRESS: at 2.87% examples, 382605 words/s, in_qsize 6, out_qsize 0\n",
      "2020-07-02 13:45:51,902 : INFO : EPOCH 4 - PROGRESS: at 3.82% examples, 412169 words/s, in_qsize 6, out_qsize 0\n",
      "2020-07-02 13:45:52,915 : INFO : EPOCH 4 - PROGRESS: at 4.76% examples, 432652 words/s, in_qsize 6, out_qsize 0\n",
      "2020-07-02 13:45:53,920 : INFO : EPOCH 4 - PROGRESS: at 5.71% examples, 448045 words/s, in_qsize 5, out_qsize 0\n",
      "2020-07-02 13:45:54,930 : INFO : EPOCH 4 - PROGRESS: at 6.66% examples, 459411 words/s, in_qsize 5, out_qsize 0\n",
      "2020-07-02 13:45:55,935 : INFO : EPOCH 4 - PROGRESS: at 7.61% examples, 468558 words/s, in_qsize 5, out_qsize 0\n",
      "2020-07-02 13:45:56,940 : INFO : EPOCH 4 - PROGRESS: at 8.54% examples, 475031 words/s, in_qsize 5, out_qsize 0\n",
      "2020-07-02 13:45:57,943 : INFO : EPOCH 4 - PROGRESS: at 9.48% examples, 480414 words/s, in_qsize 5, out_qsize 0\n",
      "2020-07-02 13:45:58,950 : INFO : EPOCH 4 - PROGRESS: at 10.42% examples, 485583 words/s, in_qsize 5, out_qsize 0\n",
      "2020-07-02 13:45:59,966 : INFO : EPOCH 4 - PROGRESS: at 11.38% examples, 489629 words/s, in_qsize 5, out_qsize 0\n",
      "2020-07-02 13:46:00,976 : INFO : EPOCH 4 - PROGRESS: at 12.32% examples, 492666 words/s, in_qsize 6, out_qsize 0\n",
      "2020-07-02 13:46:01,981 : INFO : EPOCH 4 - PROGRESS: at 13.27% examples, 496110 words/s, in_qsize 5, out_qsize 0\n",
      "2020-07-02 13:46:02,995 : INFO : EPOCH 4 - PROGRESS: at 14.19% examples, 497638 words/s, in_qsize 6, out_qsize 0\n",
      "2020-07-02 13:46:03,998 : INFO : EPOCH 4 - PROGRESS: at 15.13% examples, 499875 words/s, in_qsize 6, out_qsize 0\n",
      "2020-07-02 13:46:05,017 : INFO : EPOCH 4 - PROGRESS: at 16.09% examples, 502009 words/s, in_qsize 5, out_qsize 0\n",
      "2020-07-02 13:46:06,018 : INFO : EPOCH 4 - PROGRESS: at 17.03% examples, 504338 words/s, in_qsize 5, out_qsize 0\n",
      "2020-07-02 13:46:07,024 : INFO : EPOCH 4 - PROGRESS: at 17.96% examples, 505841 words/s, in_qsize 6, out_qsize 0\n",
      "2020-07-02 13:46:08,033 : INFO : EPOCH 4 - PROGRESS: at 18.90% examples, 507577 words/s, in_qsize 5, out_qsize 0\n",
      "2020-07-02 13:46:09,050 : INFO : EPOCH 4 - PROGRESS: at 19.86% examples, 508997 words/s, in_qsize 5, out_qsize 0\n",
      "2020-07-02 13:46:10,061 : INFO : EPOCH 4 - PROGRESS: at 20.79% examples, 510383 words/s, in_qsize 5, out_qsize 0\n",
      "2020-07-02 13:46:11,081 : INFO : EPOCH 4 - PROGRESS: at 21.75% examples, 511901 words/s, in_qsize 5, out_qsize 0\n",
      "2020-07-02 13:46:12,097 : INFO : EPOCH 4 - PROGRESS: at 22.70% examples, 513002 words/s, in_qsize 5, out_qsize 0\n",
      "2020-07-02 13:46:13,117 : INFO : EPOCH 4 - PROGRESS: at 23.65% examples, 513921 words/s, in_qsize 6, out_qsize 0\n",
      "2020-07-02 13:46:14,134 : INFO : EPOCH 4 - PROGRESS: at 24.60% examples, 514852 words/s, in_qsize 5, out_qsize 0\n",
      "2020-07-02 13:46:15,141 : INFO : EPOCH 4 - PROGRESS: at 25.54% examples, 515545 words/s, in_qsize 5, out_qsize 0\n",
      "2020-07-02 13:46:16,153 : INFO : EPOCH 4 - PROGRESS: at 26.47% examples, 516090 words/s, in_qsize 5, out_qsize 0\n",
      "2020-07-02 13:46:17,155 : INFO : EPOCH 4 - PROGRESS: at 27.42% examples, 517099 words/s, in_qsize 5, out_qsize 0\n",
      "2020-07-02 13:46:18,187 : INFO : EPOCH 4 - PROGRESS: at 28.37% examples, 517853 words/s, in_qsize 6, out_qsize 0\n",
      "2020-07-02 13:46:19,198 : INFO : EPOCH 4 - PROGRESS: at 29.31% examples, 518314 words/s, in_qsize 6, out_qsize 0\n",
      "2020-07-02 13:46:20,201 : INFO : EPOCH 4 - PROGRESS: at 30.26% examples, 519139 words/s, in_qsize 5, out_qsize 0\n",
      "2020-07-02 13:46:21,210 : INFO : EPOCH 4 - PROGRESS: at 31.19% examples, 519831 words/s, in_qsize 5, out_qsize 0\n",
      "2020-07-02 13:46:22,224 : INFO : EPOCH 4 - PROGRESS: at 32.14% examples, 520390 words/s, in_qsize 5, out_qsize 0\n",
      "2020-07-02 13:46:23,233 : INFO : EPOCH 4 - PROGRESS: at 33.08% examples, 520747 words/s, in_qsize 6, out_qsize 0\n",
      "2020-07-02 13:46:24,261 : INFO : EPOCH 4 - PROGRESS: at 34.03% examples, 521351 words/s, in_qsize 5, out_qsize 1\n",
      "2020-07-02 13:46:25,271 : INFO : EPOCH 4 - PROGRESS: at 34.99% examples, 521916 words/s, in_qsize 5, out_qsize 0\n",
      "2020-07-02 13:46:26,272 : INFO : EPOCH 4 - PROGRESS: at 35.93% examples, 522307 words/s, in_qsize 5, out_qsize 0\n",
      "2020-07-02 13:46:27,313 : INFO : EPOCH 4 - PROGRESS: at 36.88% examples, 522399 words/s, in_qsize 6, out_qsize 1\n",
      "2020-07-02 13:46:28,316 : INFO : EPOCH 4 - PROGRESS: at 37.84% examples, 522980 words/s, in_qsize 6, out_qsize 0\n",
      "2020-07-02 13:46:29,335 : INFO : EPOCH 4 - PROGRESS: at 38.77% examples, 523333 words/s, in_qsize 6, out_qsize 0\n",
      "2020-07-02 13:46:30,340 : INFO : EPOCH 4 - PROGRESS: at 39.74% examples, 524071 words/s, in_qsize 5, out_qsize 0\n",
      "2020-07-02 13:46:31,351 : INFO : EPOCH 4 - PROGRESS: at 40.68% examples, 524471 words/s, in_qsize 6, out_qsize 0\n",
      "2020-07-02 13:46:32,353 : INFO : EPOCH 4 - PROGRESS: at 41.60% examples, 524742 words/s, in_qsize 5, out_qsize 0\n",
      "2020-07-02 13:46:33,355 : INFO : EPOCH 4 - PROGRESS: at 42.53% examples, 524990 words/s, in_qsize 6, out_qsize 0\n",
      "2020-07-02 13:46:34,362 : INFO : EPOCH 4 - PROGRESS: at 43.47% examples, 525180 words/s, in_qsize 6, out_qsize 0\n",
      "2020-07-02 13:46:35,372 : INFO : EPOCH 4 - PROGRESS: at 44.42% examples, 525540 words/s, in_qsize 5, out_qsize 0\n",
      "2020-07-02 13:46:36,384 : INFO : EPOCH 4 - PROGRESS: at 45.36% examples, 525854 words/s, in_qsize 6, out_qsize 0\n",
      "2020-07-02 13:46:37,414 : INFO : EPOCH 4 - PROGRESS: at 46.31% examples, 526170 words/s, in_qsize 6, out_qsize 0\n",
      "2020-07-02 13:46:38,422 : INFO : EPOCH 4 - PROGRESS: at 47.27% examples, 526519 words/s, in_qsize 5, out_qsize 0\n",
      "2020-07-02 13:46:39,433 : INFO : EPOCH 4 - PROGRESS: at 48.22% examples, 526815 words/s, in_qsize 5, out_qsize 0\n",
      "2020-07-02 13:46:40,434 : INFO : EPOCH 4 - PROGRESS: at 49.16% examples, 527193 words/s, in_qsize 5, out_qsize 0\n",
      "2020-07-02 13:46:41,440 : INFO : EPOCH 4 - PROGRESS: at 50.10% examples, 527330 words/s, in_qsize 5, out_qsize 0\n",
      "2020-07-02 13:46:42,440 : INFO : EPOCH 4 - PROGRESS: at 51.04% examples, 527691 words/s, in_qsize 5, out_qsize 0\n",
      "2020-07-02 13:46:43,451 : INFO : EPOCH 4 - PROGRESS: at 51.98% examples, 527937 words/s, in_qsize 6, out_qsize 0\n",
      "2020-07-02 13:46:44,452 : INFO : EPOCH 4 - PROGRESS: at 52.94% examples, 528276 words/s, in_qsize 5, out_qsize 0\n",
      "2020-07-02 13:46:45,459 : INFO : EPOCH 4 - PROGRESS: at 53.88% examples, 528379 words/s, in_qsize 5, out_qsize 0\n",
      "2020-07-02 13:46:46,459 : INFO : EPOCH 4 - PROGRESS: at 54.81% examples, 528525 words/s, in_qsize 5, out_qsize 0\n",
      "2020-07-02 13:46:47,466 : INFO : EPOCH 4 - PROGRESS: at 55.75% examples, 528784 words/s, in_qsize 6, out_qsize 0\n",
      "2020-07-02 13:46:48,472 : INFO : EPOCH 4 - PROGRESS: at 56.70% examples, 529048 words/s, in_qsize 5, out_qsize 0\n",
      "2020-07-02 13:46:49,478 : INFO : EPOCH 4 - PROGRESS: at 57.63% examples, 529147 words/s, in_qsize 6, out_qsize 0\n",
      "2020-07-02 13:46:50,479 : INFO : EPOCH 4 - PROGRESS: at 58.58% examples, 529430 words/s, in_qsize 5, out_qsize 0\n",
      "2020-07-02 13:46:51,486 : INFO : EPOCH 4 - PROGRESS: at 59.51% examples, 529651 words/s, in_qsize 6, out_qsize 0\n",
      "2020-07-02 13:46:52,498 : INFO : EPOCH 4 - PROGRESS: at 60.46% examples, 529832 words/s, in_qsize 6, out_qsize 0\n",
      "2020-07-02 13:46:53,506 : INFO : EPOCH 4 - PROGRESS: at 61.41% examples, 530043 words/s, in_qsize 5, out_qsize 0\n",
      "2020-07-02 13:46:54,506 : INFO : EPOCH 4 - PROGRESS: at 62.34% examples, 530153 words/s, in_qsize 5, out_qsize 0\n",
      "2020-07-02 13:46:55,522 : INFO : EPOCH 4 - PROGRESS: at 63.27% examples, 530147 words/s, in_qsize 6, out_qsize 0\n",
      "2020-07-02 13:46:56,539 : INFO : EPOCH 4 - PROGRESS: at 64.23% examples, 530278 words/s, in_qsize 5, out_qsize 0\n",
      "2020-07-02 13:46:57,558 : INFO : EPOCH 4 - PROGRESS: at 65.18% examples, 530387 words/s, in_qsize 5, out_qsize 0\n",
      "2020-07-02 13:46:58,569 : INFO : EPOCH 4 - PROGRESS: at 66.13% examples, 530559 words/s, in_qsize 5, out_qsize 0\n",
      "2020-07-02 13:46:59,575 : INFO : EPOCH 4 - PROGRESS: at 67.08% examples, 530750 words/s, in_qsize 5, out_qsize 0\n",
      "2020-07-02 13:47:00,596 : INFO : EPOCH 4 - PROGRESS: at 68.03% examples, 530830 words/s, in_qsize 5, out_qsize 0\n",
      "2020-07-02 13:47:01,609 : INFO : EPOCH 4 - PROGRESS: at 68.99% examples, 530953 words/s, in_qsize 5, out_qsize 0\n",
      "2020-07-02 13:47:02,627 : INFO : EPOCH 4 - PROGRESS: at 69.94% examples, 531061 words/s, in_qsize 5, out_qsize 0\n",
      "2020-07-02 13:47:03,642 : INFO : EPOCH 4 - PROGRESS: at 70.90% examples, 531180 words/s, in_qsize 6, out_qsize 0\n",
      "2020-07-02 13:47:04,661 : INFO : EPOCH 4 - PROGRESS: at 71.86% examples, 531396 words/s, in_qsize 5, out_qsize 0\n",
      "2020-07-02 13:47:05,664 : INFO : EPOCH 4 - PROGRESS: at 72.79% examples, 531452 words/s, in_qsize 6, out_qsize 0\n",
      "2020-07-02 13:47:06,685 : INFO : EPOCH 4 - PROGRESS: at 73.74% examples, 531520 words/s, in_qsize 5, out_qsize 0\n",
      "2020-07-02 13:47:07,701 : INFO : EPOCH 4 - PROGRESS: at 74.67% examples, 531494 words/s, in_qsize 6, out_qsize 0\n",
      "2020-07-02 13:47:08,708 : INFO : EPOCH 4 - PROGRESS: at 75.62% examples, 531643 words/s, in_qsize 5, out_qsize 0\n",
      "2020-07-02 13:47:09,720 : INFO : EPOCH 4 - PROGRESS: at 76.57% examples, 531765 words/s, in_qsize 5, out_qsize 0\n",
      "2020-07-02 13:47:10,726 : INFO : EPOCH 4 - PROGRESS: at 77.51% examples, 531805 words/s, in_qsize 5, out_qsize 0\n",
      "2020-07-02 13:47:11,735 : INFO : EPOCH 4 - PROGRESS: at 78.44% examples, 531826 words/s, in_qsize 6, out_qsize 0\n",
      "2020-07-02 13:47:12,745 : INFO : EPOCH 4 - PROGRESS: at 79.39% examples, 531953 words/s, in_qsize 5, out_qsize 0\n",
      "2020-07-02 13:47:13,763 : INFO : EPOCH 4 - PROGRESS: at 80.30% examples, 531677 words/s, in_qsize 6, out_qsize 0\n",
      "2020-07-02 13:47:14,775 : INFO : EPOCH 4 - PROGRESS: at 81.15% examples, 531104 words/s, in_qsize 6, out_qsize 0\n",
      "2020-07-02 13:47:15,776 : INFO : EPOCH 4 - PROGRESS: at 81.99% examples, 530607 words/s, in_qsize 5, out_qsize 0\n",
      "2020-07-02 13:47:16,808 : INFO : EPOCH 4 - PROGRESS: at 82.83% examples, 529934 words/s, in_qsize 6, out_qsize 0\n",
      "2020-07-02 13:47:17,810 : INFO : EPOCH 4 - PROGRESS: at 83.66% examples, 529342 words/s, in_qsize 6, out_qsize 0\n",
      "2020-07-02 13:47:18,836 : INFO : EPOCH 4 - PROGRESS: at 84.53% examples, 528952 words/s, in_qsize 5, out_qsize 0\n",
      "2020-07-02 13:47:19,856 : INFO : EPOCH 4 - PROGRESS: at 85.35% examples, 528287 words/s, in_qsize 6, out_qsize 0\n",
      "2020-07-02 13:47:20,869 : INFO : EPOCH 4 - PROGRESS: at 86.20% examples, 527879 words/s, in_qsize 6, out_qsize 0\n",
      "2020-07-02 13:47:21,893 : INFO : EPOCH 4 - PROGRESS: at 87.07% examples, 527518 words/s, in_qsize 6, out_qsize 0\n",
      "2020-07-02 13:47:22,896 : INFO : EPOCH 4 - PROGRESS: at 87.91% examples, 527083 words/s, in_qsize 5, out_qsize 0\n",
      "2020-07-02 13:47:23,909 : INFO : EPOCH 4 - PROGRESS: at 88.78% examples, 526709 words/s, in_qsize 6, out_qsize 0\n",
      "2020-07-02 13:47:24,911 : INFO : EPOCH 4 - PROGRESS: at 89.63% examples, 526300 words/s, in_qsize 5, out_qsize 0\n",
      "2020-07-02 13:47:25,914 : INFO : EPOCH 4 - PROGRESS: at 90.45% examples, 525789 words/s, in_qsize 6, out_qsize 0\n",
      "2020-07-02 13:47:26,937 : INFO : EPOCH 4 - PROGRESS: at 91.30% examples, 525285 words/s, in_qsize 6, out_qsize 0\n",
      "2020-07-02 13:47:27,948 : INFO : EPOCH 4 - PROGRESS: at 92.15% examples, 524951 words/s, in_qsize 6, out_qsize 0\n",
      "2020-07-02 13:47:28,966 : INFO : EPOCH 4 - PROGRESS: at 92.99% examples, 524491 words/s, in_qsize 5, out_qsize 0\n",
      "2020-07-02 13:47:29,973 : INFO : EPOCH 4 - PROGRESS: at 93.83% examples, 524097 words/s, in_qsize 6, out_qsize 0\n",
      "2020-07-02 13:47:31,025 : INFO : EPOCH 4 - PROGRESS: at 94.69% examples, 523581 words/s, in_qsize 6, out_qsize 0\n",
      "2020-07-02 13:47:32,047 : INFO : EPOCH 4 - PROGRESS: at 95.54% examples, 523119 words/s, in_qsize 6, out_qsize 0\n",
      "2020-07-02 13:47:33,064 : INFO : EPOCH 4 - PROGRESS: at 96.37% examples, 522604 words/s, in_qsize 6, out_qsize 0\n",
      "2020-07-02 13:47:34,082 : INFO : EPOCH 4 - PROGRESS: at 97.21% examples, 522182 words/s, in_qsize 5, out_qsize 0\n",
      "2020-07-02 13:47:35,085 : INFO : EPOCH 4 - PROGRESS: at 98.02% examples, 521663 words/s, in_qsize 5, out_qsize 0\n",
      "2020-07-02 13:47:36,106 : INFO : EPOCH 4 - PROGRESS: at 98.94% examples, 521618 words/s, in_qsize 5, out_qsize 0\n",
      "2020-07-02 13:47:37,212 : INFO : EPOCH 4 - PROGRESS: at 99.86% examples, 521171 words/s, in_qsize 5, out_qsize 0\n",
      "2020-07-02 13:47:37,278 : INFO : worker thread finished; awaiting finish of 2 more threads\n",
      "2020-07-02 13:47:37,282 : INFO : worker thread finished; awaiting finish of 1 more threads\n",
      "2020-07-02 13:47:37,293 : INFO : worker thread finished; awaiting finish of 0 more threads\n",
      "2020-07-02 13:47:37,294 : INFO : EPOCH - 4 : training on 56687912 raw words (57752707 effective words) took 110.7s, 521548 effective words/s\n",
      "2020-07-02 13:47:38,717 : INFO : EPOCH 5 - PROGRESS: at 0.02% examples, 7140 words/s, in_qsize 5, out_qsize 0\n",
      "2020-07-02 13:47:39,718 : INFO : EPOCH 5 - PROGRESS: at 0.95% examples, 226184 words/s, in_qsize 5, out_qsize 0\n",
      "2020-07-02 13:47:40,732 : INFO : EPOCH 5 - PROGRESS: at 1.86% examples, 312954 words/s, in_qsize 6, out_qsize 0\n",
      "2020-07-02 13:47:41,762 : INFO : EPOCH 5 - PROGRESS: at 2.81% examples, 363573 words/s, in_qsize 5, out_qsize 0\n",
      "2020-07-02 13:47:42,765 : INFO : EPOCH 5 - PROGRESS: at 3.73% examples, 393376 words/s, in_qsize 6, out_qsize 0\n",
      "2020-07-02 13:47:43,781 : INFO : EPOCH 5 - PROGRESS: at 4.66% examples, 414555 words/s, in_qsize 5, out_qsize 0\n",
      "2020-07-02 13:47:44,818 : INFO : EPOCH 5 - PROGRESS: at 5.59% examples, 428792 words/s, in_qsize 6, out_qsize 0\n",
      "2020-07-02 13:47:45,820 : INFO : EPOCH 5 - PROGRESS: at 6.52% examples, 440336 words/s, in_qsize 6, out_qsize 0\n",
      "2020-07-02 13:47:46,825 : INFO : EPOCH 5 - PROGRESS: at 7.44% examples, 449308 words/s, in_qsize 6, out_qsize 0\n",
      "2020-07-02 13:47:47,837 : INFO : EPOCH 5 - PROGRESS: at 8.37% examples, 456189 words/s, in_qsize 5, out_qsize 0\n",
      "2020-07-02 13:47:48,841 : INFO : EPOCH 5 - PROGRESS: at 9.29% examples, 463095 words/s, in_qsize 6, out_qsize 0\n",
      "2020-07-02 13:47:49,851 : INFO : EPOCH 5 - PROGRESS: at 10.20% examples, 467898 words/s, in_qsize 5, out_qsize 0\n",
      "2020-07-02 13:47:50,862 : INFO : EPOCH 5 - PROGRESS: at 11.14% examples, 472625 words/s, in_qsize 6, out_qsize 0\n",
      "2020-07-02 13:47:51,878 : INFO : EPOCH 5 - PROGRESS: at 12.06% examples, 476577 words/s, in_qsize 5, out_qsize 0\n",
      "2020-07-02 13:47:52,912 : INFO : EPOCH 5 - PROGRESS: at 12.99% examples, 479441 words/s, in_qsize 6, out_qsize 0\n",
      "2020-07-02 13:47:53,932 : INFO : EPOCH 5 - PROGRESS: at 13.94% examples, 482983 words/s, in_qsize 5, out_qsize 0\n",
      "2020-07-02 13:47:54,948 : INFO : EPOCH 5 - PROGRESS: at 14.86% examples, 485645 words/s, in_qsize 6, out_qsize 0\n",
      "2020-07-02 13:47:55,950 : INFO : EPOCH 5 - PROGRESS: at 15.78% examples, 488387 words/s, in_qsize 6, out_qsize 0\n",
      "2020-07-02 13:47:56,969 : INFO : EPOCH 5 - PROGRESS: at 16.70% examples, 490407 words/s, in_qsize 6, out_qsize 0\n",
      "2020-07-02 13:47:57,978 : INFO : EPOCH 5 - PROGRESS: at 17.64% examples, 492443 words/s, in_qsize 5, out_qsize 0\n",
      "2020-07-02 13:47:58,996 : INFO : EPOCH 5 - PROGRESS: at 18.55% examples, 493677 words/s, in_qsize 6, out_qsize 0\n",
      "2020-07-02 13:48:00,006 : INFO : EPOCH 5 - PROGRESS: at 19.47% examples, 494956 words/s, in_qsize 6, out_qsize 0\n",
      "2020-07-02 13:48:01,015 : INFO : EPOCH 5 - PROGRESS: at 20.41% examples, 496605 words/s, in_qsize 5, out_qsize 0\n",
      "2020-07-02 13:48:02,021 : INFO : EPOCH 5 - PROGRESS: at 21.32% examples, 497742 words/s, in_qsize 5, out_qsize 0\n",
      "2020-07-02 13:48:03,035 : INFO : EPOCH 5 - PROGRESS: at 22.23% examples, 498639 words/s, in_qsize 5, out_qsize 0\n",
      "2020-07-02 13:48:04,051 : INFO : EPOCH 5 - PROGRESS: at 23.16% examples, 499423 words/s, in_qsize 6, out_qsize 0\n",
      "2020-07-02 13:48:05,057 : INFO : EPOCH 5 - PROGRESS: at 24.08% examples, 500329 words/s, in_qsize 6, out_qsize 0\n",
      "2020-07-02 13:48:06,065 : INFO : EPOCH 5 - PROGRESS: at 25.00% examples, 501137 words/s, in_qsize 6, out_qsize 0\n",
      "2020-07-02 13:48:07,069 : INFO : EPOCH 5 - PROGRESS: at 25.91% examples, 501973 words/s, in_qsize 5, out_qsize 0\n",
      "2020-07-02 13:48:08,070 : INFO : EPOCH 5 - PROGRESS: at 26.81% examples, 502479 words/s, in_qsize 6, out_qsize 0\n",
      "2020-07-02 13:48:09,080 : INFO : EPOCH 5 - PROGRESS: at 27.74% examples, 503422 words/s, in_qsize 5, out_qsize 0\n",
      "2020-07-02 13:48:10,105 : INFO : EPOCH 5 - PROGRESS: at 28.66% examples, 503787 words/s, in_qsize 6, out_qsize 0\n",
      "2020-07-02 13:48:11,105 : INFO : EPOCH 5 - PROGRESS: at 29.59% examples, 504789 words/s, in_qsize 5, out_qsize 0\n",
      "2020-07-02 13:48:12,129 : INFO : EPOCH 5 - PROGRESS: at 30.50% examples, 505376 words/s, in_qsize 5, out_qsize 0\n",
      "2020-07-02 13:48:13,147 : INFO : EPOCH 5 - PROGRESS: at 31.43% examples, 506044 words/s, in_qsize 6, out_qsize 0\n",
      "2020-07-02 13:48:14,159 : INFO : EPOCH 5 - PROGRESS: at 32.35% examples, 506447 words/s, in_qsize 6, out_qsize 0\n",
      "2020-07-02 13:48:15,160 : INFO : EPOCH 5 - PROGRESS: at 33.29% examples, 507283 words/s, in_qsize 5, out_qsize 0\n",
      "2020-07-02 13:48:16,173 : INFO : EPOCH 5 - PROGRESS: at 34.21% examples, 507623 words/s, in_qsize 5, out_qsize 0\n",
      "2020-07-02 13:48:17,193 : INFO : EPOCH 5 - PROGRESS: at 35.13% examples, 507891 words/s, in_qsize 6, out_qsize 1\n",
      "2020-07-02 13:48:18,216 : INFO : EPOCH 5 - PROGRESS: at 36.08% examples, 508335 words/s, in_qsize 5, out_qsize 0\n",
      "2020-07-02 13:48:19,220 : INFO : EPOCH 5 - PROGRESS: at 36.99% examples, 508507 words/s, in_qsize 5, out_qsize 0\n",
      "2020-07-02 13:48:20,225 : INFO : EPOCH 5 - PROGRESS: at 37.89% examples, 508896 words/s, in_qsize 6, out_qsize 0\n",
      "2020-07-02 13:48:21,243 : INFO : EPOCH 5 - PROGRESS: at 38.83% examples, 509340 words/s, in_qsize 5, out_qsize 0\n",
      "2020-07-02 13:48:22,266 : INFO : EPOCH 5 - PROGRESS: at 39.75% examples, 509480 words/s, in_qsize 6, out_qsize 0\n",
      "2020-07-02 13:48:23,295 : INFO : EPOCH 5 - PROGRESS: at 40.69% examples, 509990 words/s, in_qsize 4, out_qsize 1\n",
      "2020-07-02 13:48:24,334 : INFO : EPOCH 5 - PROGRESS: at 41.64% examples, 510377 words/s, in_qsize 6, out_qsize 1\n",
      "2020-07-02 13:48:25,345 : INFO : EPOCH 5 - PROGRESS: at 42.57% examples, 510829 words/s, in_qsize 5, out_qsize 0\n",
      "2020-07-02 13:48:26,356 : INFO : EPOCH 5 - PROGRESS: at 43.50% examples, 511265 words/s, in_qsize 6, out_qsize 0\n",
      "2020-07-02 13:48:27,365 : INFO : EPOCH 5 - PROGRESS: at 44.42% examples, 511689 words/s, in_qsize 5, out_qsize 0\n",
      "2020-07-02 13:48:28,374 : INFO : EPOCH 5 - PROGRESS: at 45.34% examples, 511928 words/s, in_qsize 5, out_qsize 0\n",
      "2020-07-02 13:48:29,380 : INFO : EPOCH 5 - PROGRESS: at 46.25% examples, 512169 words/s, in_qsize 5, out_qsize 0\n",
      "2020-07-02 13:48:30,392 : INFO : EPOCH 5 - PROGRESS: at 47.18% examples, 512358 words/s, in_qsize 5, out_qsize 0\n",
      "2020-07-02 13:48:31,402 : INFO : EPOCH 5 - PROGRESS: at 48.09% examples, 512534 words/s, in_qsize 6, out_qsize 0\n",
      "2020-07-02 13:48:32,420 : INFO : EPOCH 5 - PROGRESS: at 49.02% examples, 512826 words/s, in_qsize 6, out_qsize 0\n",
      "2020-07-02 13:48:33,432 : INFO : EPOCH 5 - PROGRESS: at 49.94% examples, 513156 words/s, in_qsize 5, out_qsize 0\n",
      "2020-07-02 13:48:34,439 : INFO : EPOCH 5 - PROGRESS: at 50.85% examples, 513354 words/s, in_qsize 5, out_qsize 0\n",
      "2020-07-02 13:48:35,445 : INFO : EPOCH 5 - PROGRESS: at 51.77% examples, 513539 words/s, in_qsize 6, out_qsize 0\n",
      "2020-07-02 13:48:36,461 : INFO : EPOCH 5 - PROGRESS: at 52.69% examples, 513807 words/s, in_qsize 5, out_qsize 0\n",
      "2020-07-02 13:48:37,468 : INFO : EPOCH 5 - PROGRESS: at 53.61% examples, 513970 words/s, in_qsize 6, out_qsize 0\n",
      "2020-07-02 13:48:38,477 : INFO : EPOCH 5 - PROGRESS: at 54.52% examples, 514113 words/s, in_qsize 6, out_qsize 0\n",
      "2020-07-02 13:48:39,501 : INFO : EPOCH 5 - PROGRESS: at 55.44% examples, 514285 words/s, in_qsize 6, out_qsize 0\n",
      "2020-07-02 13:48:40,504 : INFO : EPOCH 5 - PROGRESS: at 56.36% examples, 514463 words/s, in_qsize 6, out_qsize 0\n",
      "2020-07-02 13:48:41,519 : INFO : EPOCH 5 - PROGRESS: at 57.29% examples, 514712 words/s, in_qsize 5, out_qsize 0\n",
      "2020-07-02 13:48:42,532 : INFO : EPOCH 5 - PROGRESS: at 58.21% examples, 514807 words/s, in_qsize 6, out_qsize 0\n",
      "2020-07-02 13:48:43,554 : INFO : EPOCH 5 - PROGRESS: at 59.13% examples, 514989 words/s, in_qsize 5, out_qsize 0\n",
      "2020-07-02 13:48:44,561 : INFO : EPOCH 5 - PROGRESS: at 60.03% examples, 514976 words/s, in_qsize 6, out_qsize 0\n",
      "2020-07-02 13:48:45,579 : INFO : EPOCH 5 - PROGRESS: at 60.97% examples, 515181 words/s, in_qsize 6, out_qsize 0\n",
      "2020-07-02 13:48:46,614 : INFO : EPOCH 5 - PROGRESS: at 61.94% examples, 515545 words/s, in_qsize 6, out_qsize 0\n",
      "2020-07-02 13:48:47,615 : INFO : EPOCH 5 - PROGRESS: at 62.89% examples, 515999 words/s, in_qsize 6, out_qsize 0\n",
      "2020-07-02 13:48:48,638 : INFO : EPOCH 5 - PROGRESS: at 63.82% examples, 516273 words/s, in_qsize 5, out_qsize 0\n",
      "2020-07-02 13:48:49,651 : INFO : EPOCH 5 - PROGRESS: at 64.76% examples, 516482 words/s, in_qsize 6, out_qsize 0\n",
      "2020-07-02 13:48:50,651 : INFO : EPOCH 5 - PROGRESS: at 65.71% examples, 516911 words/s, in_qsize 6, out_qsize 0\n",
      "2020-07-02 13:48:51,673 : INFO : EPOCH 5 - PROGRESS: at 66.68% examples, 517446 words/s, in_qsize 6, out_qsize 0\n",
      "2020-07-02 13:48:52,699 : INFO : EPOCH 5 - PROGRESS: at 67.63% examples, 517800 words/s, in_qsize 6, out_qsize 0\n",
      "2020-07-02 13:48:53,708 : INFO : EPOCH 5 - PROGRESS: at 68.59% examples, 518270 words/s, in_qsize 6, out_qsize 0\n",
      "2020-07-02 13:48:54,723 : INFO : EPOCH 5 - PROGRESS: at 69.55% examples, 518684 words/s, in_qsize 5, out_qsize 0\n",
      "2020-07-02 13:48:55,734 : INFO : EPOCH 5 - PROGRESS: at 70.51% examples, 518976 words/s, in_qsize 6, out_qsize 0\n",
      "2020-07-02 13:48:56,751 : INFO : EPOCH 5 - PROGRESS: at 71.48% examples, 519485 words/s, in_qsize 5, out_qsize 0\n",
      "2020-07-02 13:48:57,760 : INFO : EPOCH 5 - PROGRESS: at 72.44% examples, 519899 words/s, in_qsize 6, out_qsize 0\n",
      "2020-07-02 13:48:58,774 : INFO : EPOCH 5 - PROGRESS: at 73.37% examples, 520032 words/s, in_qsize 6, out_qsize 0\n",
      "2020-07-02 13:48:59,786 : INFO : EPOCH 5 - PROGRESS: at 74.32% examples, 520298 words/s, in_qsize 6, out_qsize 0\n",
      "2020-07-02 13:49:00,795 : INFO : EPOCH 5 - PROGRESS: at 75.29% examples, 520576 words/s, in_qsize 6, out_qsize 0\n",
      "2020-07-02 13:49:01,802 : INFO : EPOCH 5 - PROGRESS: at 76.25% examples, 520969 words/s, in_qsize 6, out_qsize 0\n",
      "2020-07-02 13:49:02,806 : INFO : EPOCH 5 - PROGRESS: at 77.20% examples, 521255 words/s, in_qsize 6, out_qsize 0\n",
      "2020-07-02 13:49:03,839 : INFO : EPOCH 5 - PROGRESS: at 78.18% examples, 521605 words/s, in_qsize 5, out_qsize 0\n",
      "2020-07-02 13:49:04,842 : INFO : EPOCH 5 - PROGRESS: at 79.12% examples, 521887 words/s, in_qsize 6, out_qsize 0\n",
      "2020-07-02 13:49:05,848 : INFO : EPOCH 5 - PROGRESS: at 80.08% examples, 522139 words/s, in_qsize 6, out_qsize 0\n",
      "2020-07-02 13:49:06,859 : INFO : EPOCH 5 - PROGRESS: at 81.04% examples, 522473 words/s, in_qsize 6, out_qsize 0\n",
      "2020-07-02 13:49:07,862 : INFO : EPOCH 5 - PROGRESS: at 82.00% examples, 522737 words/s, in_qsize 5, out_qsize 0\n",
      "2020-07-02 13:49:08,864 : INFO : EPOCH 5 - PROGRESS: at 82.91% examples, 522890 words/s, in_qsize 6, out_qsize 0\n",
      "2020-07-02 13:49:09,868 : INFO : EPOCH 5 - PROGRESS: at 83.88% examples, 523253 words/s, in_qsize 5, out_qsize 0\n",
      "2020-07-02 13:49:10,882 : INFO : EPOCH 5 - PROGRESS: at 84.83% examples, 523539 words/s, in_qsize 5, out_qsize 0\n",
      "2020-07-02 13:49:11,883 : INFO : EPOCH 5 - PROGRESS: at 85.78% examples, 523784 words/s, in_qsize 6, out_qsize 0\n",
      "2020-07-02 13:49:12,901 : INFO : EPOCH 5 - PROGRESS: at 86.73% examples, 523934 words/s, in_qsize 6, out_qsize 0\n",
      "2020-07-02 13:49:13,918 : INFO : EPOCH 5 - PROGRESS: at 87.68% examples, 524095 words/s, in_qsize 6, out_qsize 0\n",
      "2020-07-02 13:49:14,928 : INFO : EPOCH 5 - PROGRESS: at 88.63% examples, 524288 words/s, in_qsize 6, out_qsize 0\n",
      "2020-07-02 13:49:15,931 : INFO : EPOCH 5 - PROGRESS: at 89.57% examples, 524508 words/s, in_qsize 6, out_qsize 0\n",
      "2020-07-02 13:49:16,959 : INFO : EPOCH 5 - PROGRESS: at 90.53% examples, 524597 words/s, in_qsize 6, out_qsize 1\n",
      "2020-07-02 13:49:17,959 : INFO : EPOCH 5 - PROGRESS: at 91.50% examples, 524832 words/s, in_qsize 4, out_qsize 1\n",
      "2020-07-02 13:49:18,961 : INFO : EPOCH 5 - PROGRESS: at 92.46% examples, 525144 words/s, in_qsize 6, out_qsize 0\n",
      "2020-07-02 13:49:19,980 : INFO : EPOCH 5 - PROGRESS: at 93.42% examples, 525366 words/s, in_qsize 5, out_qsize 0\n",
      "2020-07-02 13:49:20,982 : INFO : EPOCH 5 - PROGRESS: at 94.35% examples, 525574 words/s, in_qsize 6, out_qsize 0\n",
      "2020-07-02 13:49:21,996 : INFO : EPOCH 5 - PROGRESS: at 95.33% examples, 525819 words/s, in_qsize 6, out_qsize 0\n",
      "2020-07-02 13:49:23,005 : INFO : EPOCH 5 - PROGRESS: at 96.29% examples, 526078 words/s, in_qsize 6, out_qsize 0\n",
      "2020-07-02 13:49:24,011 : INFO : EPOCH 5 - PROGRESS: at 97.24% examples, 526244 words/s, in_qsize 6, out_qsize 0\n",
      "2020-07-02 13:49:25,032 : INFO : EPOCH 5 - PROGRESS: at 98.21% examples, 526441 words/s, in_qsize 4, out_qsize 1\n",
      "2020-07-02 13:49:26,040 : INFO : EPOCH 5 - PROGRESS: at 99.17% examples, 526697 words/s, in_qsize 6, out_qsize 0\n",
      "2020-07-02 13:49:26,918 : INFO : worker thread finished; awaiting finish of 2 more threads\n",
      "2020-07-02 13:49:26,922 : INFO : worker thread finished; awaiting finish of 1 more threads\n",
      "2020-07-02 13:49:26,938 : INFO : worker thread finished; awaiting finish of 0 more threads\n",
      "2020-07-02 13:49:26,938 : INFO : EPOCH - 5 : training on 56687912 raw words (57752707 effective words) took 109.6s, 526731 effective words/s\n",
      "2020-07-02 13:49:28,207 : INFO : EPOCH 6 - PROGRESS: at 0.02% examples, 8001 words/s, in_qsize 5, out_qsize 0\n",
      "2020-07-02 13:49:29,215 : INFO : EPOCH 6 - PROGRESS: at 0.96% examples, 245047 words/s, in_qsize 6, out_qsize 0\n",
      "2020-07-02 13:49:30,223 : INFO : EPOCH 6 - PROGRESS: at 1.91% examples, 336576 words/s, in_qsize 6, out_qsize 0\n",
      "2020-07-02 13:49:31,232 : INFO : EPOCH 6 - PROGRESS: at 2.87% examples, 385140 words/s, in_qsize 6, out_qsize 0\n",
      "2020-07-02 13:49:32,255 : INFO : EPOCH 6 - PROGRESS: at 3.84% examples, 416017 words/s, in_qsize 6, out_qsize 0\n",
      "2020-07-02 13:49:33,255 : INFO : EPOCH 6 - PROGRESS: at 4.77% examples, 435256 words/s, in_qsize 6, out_qsize 0\n",
      "2020-07-02 13:49:34,281 : INFO : EPOCH 6 - PROGRESS: at 5.75% examples, 450479 words/s, in_qsize 5, out_qsize 0\n",
      "2020-07-02 13:49:35,282 : INFO : EPOCH 6 - PROGRESS: at 6.70% examples, 462210 words/s, in_qsize 6, out_qsize 0\n",
      "2020-07-02 13:49:36,289 : INFO : EPOCH 6 - PROGRESS: at 7.68% examples, 472052 words/s, in_qsize 6, out_qsize 0\n",
      "2020-07-02 13:49:37,297 : INFO : EPOCH 6 - PROGRESS: at 8.64% examples, 479976 words/s, in_qsize 6, out_qsize 0\n",
      "2020-07-02 13:49:38,300 : INFO : EPOCH 6 - PROGRESS: at 9.61% examples, 486721 words/s, in_qsize 5, out_qsize 0\n",
      "2020-07-02 13:49:39,319 : INFO : EPOCH 6 - PROGRESS: at 10.56% examples, 490981 words/s, in_qsize 6, out_qsize 0\n",
      "2020-07-02 13:49:40,337 : INFO : EPOCH 6 - PROGRESS: at 11.53% examples, 495301 words/s, in_qsize 5, out_qsize 0\n",
      "2020-07-02 13:49:41,345 : INFO : EPOCH 6 - PROGRESS: at 12.48% examples, 499369 words/s, in_qsize 5, out_qsize 0\n",
      "2020-07-02 13:49:42,354 : INFO : EPOCH 6 - PROGRESS: at 13.41% examples, 501592 words/s, in_qsize 6, out_qsize 0\n",
      "2020-07-02 13:49:43,363 : INFO : EPOCH 6 - PROGRESS: at 14.38% examples, 504787 words/s, in_qsize 6, out_qsize 0\n",
      "2020-07-02 13:49:44,371 : INFO : EPOCH 6 - PROGRESS: at 15.34% examples, 507599 words/s, in_qsize 6, out_qsize 0\n",
      "2020-07-02 13:49:45,387 : INFO : EPOCH 6 - PROGRESS: at 16.30% examples, 509876 words/s, in_qsize 6, out_qsize 0\n",
      "2020-07-02 13:49:46,402 : INFO : EPOCH 6 - PROGRESS: at 17.28% examples, 512468 words/s, in_qsize 6, out_qsize 0\n",
      "2020-07-02 13:49:47,410 : INFO : EPOCH 6 - PROGRESS: at 18.24% examples, 514019 words/s, in_qsize 6, out_qsize 0\n",
      "2020-07-02 13:49:48,426 : INFO : EPOCH 6 - PROGRESS: at 19.21% examples, 516098 words/s, in_qsize 6, out_qsize 0\n",
      "2020-07-02 13:49:49,447 : INFO : EPOCH 6 - PROGRESS: at 20.16% examples, 517480 words/s, in_qsize 6, out_qsize 0\n",
      "2020-07-02 13:49:50,453 : INFO : EPOCH 6 - PROGRESS: at 21.13% examples, 519055 words/s, in_qsize 5, out_qsize 0\n",
      "2020-07-02 13:49:51,454 : INFO : EPOCH 6 - PROGRESS: at 22.07% examples, 519795 words/s, in_qsize 6, out_qsize 0\n",
      "2020-07-02 13:49:52,456 : INFO : EPOCH 6 - PROGRESS: at 23.02% examples, 520879 words/s, in_qsize 5, out_qsize 0\n",
      "2020-07-02 13:49:53,462 : INFO : EPOCH 6 - PROGRESS: at 24.00% examples, 522175 words/s, in_qsize 5, out_qsize 0\n",
      "2020-07-02 13:49:54,477 : INFO : EPOCH 6 - PROGRESS: at 24.96% examples, 522816 words/s, in_qsize 5, out_qsize 0\n",
      "2020-07-02 13:49:55,498 : INFO : EPOCH 6 - PROGRESS: at 25.91% examples, 523319 words/s, in_qsize 6, out_qsize 0\n",
      "2020-07-02 13:49:56,501 : INFO : EPOCH 6 - PROGRESS: at 26.85% examples, 523763 words/s, in_qsize 6, out_qsize 0\n",
      "2020-07-02 13:49:57,515 : INFO : EPOCH 6 - PROGRESS: at 27.83% examples, 524956 words/s, in_qsize 6, out_qsize 0\n",
      "2020-07-02 13:49:58,526 : INFO : EPOCH 6 - PROGRESS: at 28.78% examples, 525535 words/s, in_qsize 6, out_qsize 0\n",
      "2020-07-02 13:49:59,528 : INFO : EPOCH 6 - PROGRESS: at 29.72% examples, 526494 words/s, in_qsize 6, out_qsize 0\n",
      "2020-07-02 13:50:00,552 : INFO : EPOCH 6 - PROGRESS: at 30.68% examples, 527058 words/s, in_qsize 6, out_qsize 0\n",
      "2020-07-02 13:50:01,555 : INFO : EPOCH 6 - PROGRESS: at 31.64% examples, 527869 words/s, in_qsize 5, out_qsize 0\n",
      "2020-07-02 13:50:02,587 : INFO : EPOCH 6 - PROGRESS: at 32.62% examples, 528527 words/s, in_qsize 5, out_qsize 0\n",
      "2020-07-02 13:50:03,599 : INFO : EPOCH 6 - PROGRESS: at 33.57% examples, 528865 words/s, in_qsize 5, out_qsize 0\n",
      "2020-07-02 13:50:04,617 : INFO : EPOCH 6 - PROGRESS: at 34.53% examples, 529122 words/s, in_qsize 6, out_qsize 0\n",
      "2020-07-02 13:50:05,632 : INFO : EPOCH 6 - PROGRESS: at 35.49% examples, 529659 words/s, in_qsize 6, out_qsize 0\n",
      "2020-07-02 13:50:06,653 : INFO : EPOCH 6 - PROGRESS: at 36.45% examples, 530098 words/s, in_qsize 6, out_qsize 0\n",
      "2020-07-02 13:50:07,673 : INFO : EPOCH 6 - PROGRESS: at 37.42% examples, 530523 words/s, in_qsize 6, out_qsize 0\n",
      "2020-07-02 13:50:08,684 : INFO : EPOCH 6 - PROGRESS: at 38.40% examples, 531050 words/s, in_qsize 6, out_qsize 0\n",
      "2020-07-02 13:50:09,699 : INFO : EPOCH 6 - PROGRESS: at 39.37% examples, 531510 words/s, in_qsize 6, out_qsize 0\n",
      "2020-07-02 13:50:10,711 : INFO : EPOCH 6 - PROGRESS: at 40.31% examples, 531740 words/s, in_qsize 6, out_qsize 0\n",
      "2020-07-02 13:50:11,719 : INFO : EPOCH 6 - PROGRESS: at 41.25% examples, 532005 words/s, in_qsize 6, out_qsize 0\n",
      "2020-07-02 13:50:12,731 : INFO : EPOCH 6 - PROGRESS: at 42.22% examples, 532426 words/s, in_qsize 6, out_qsize 0\n",
      "2020-07-02 13:50:13,740 : INFO : EPOCH 6 - PROGRESS: at 43.16% examples, 532649 words/s, in_qsize 6, out_qsize 0\n",
      "2020-07-02 13:50:14,749 : INFO : EPOCH 6 - PROGRESS: at 44.13% examples, 533075 words/s, in_qsize 5, out_qsize 0\n",
      "2020-07-02 13:50:15,751 : INFO : EPOCH 6 - PROGRESS: at 45.07% examples, 533345 words/s, in_qsize 6, out_qsize 0\n",
      "2020-07-02 13:50:16,762 : INFO : EPOCH 6 - PROGRESS: at 46.04% examples, 533730 words/s, in_qsize 6, out_qsize 0\n",
      "2020-07-02 13:50:17,771 : INFO : EPOCH 6 - PROGRESS: at 46.99% examples, 533910 words/s, in_qsize 6, out_qsize 0\n",
      "2020-07-02 13:50:18,804 : INFO : EPOCH 6 - PROGRESS: at 47.97% examples, 534054 words/s, in_qsize 6, out_qsize 0\n",
      "2020-07-02 13:50:19,815 : INFO : EPOCH 6 - PROGRESS: at 48.94% examples, 534412 words/s, in_qsize 5, out_qsize 0\n",
      "2020-07-02 13:50:20,845 : INFO : EPOCH 6 - PROGRESS: at 49.92% examples, 534732 words/s, in_qsize 6, out_qsize 0\n",
      "2020-07-02 13:50:21,854 : INFO : EPOCH 6 - PROGRESS: at 50.89% examples, 535074 words/s, in_qsize 6, out_qsize 0\n",
      "2020-07-02 13:50:22,880 : INFO : EPOCH 6 - PROGRESS: at 51.87% examples, 535422 words/s, in_qsize 6, out_qsize 0\n",
      "2020-07-02 13:50:23,916 : INFO : EPOCH 6 - PROGRESS: at 52.86% examples, 535671 words/s, in_qsize 6, out_qsize 0\n",
      "2020-07-02 13:50:24,929 : INFO : EPOCH 6 - PROGRESS: at 53.84% examples, 536120 words/s, in_qsize 6, out_qsize 0\n",
      "2020-07-02 13:50:25,958 : INFO : EPOCH 6 - PROGRESS: at 54.81% examples, 536230 words/s, in_qsize 6, out_qsize 0\n",
      "2020-07-02 13:50:26,966 : INFO : EPOCH 6 - PROGRESS: at 55.79% examples, 536689 words/s, in_qsize 5, out_qsize 0\n",
      "2020-07-02 13:50:27,975 : INFO : EPOCH 6 - PROGRESS: at 56.76% examples, 536964 words/s, in_qsize 5, out_qsize 0\n",
      "2020-07-02 13:50:28,986 : INFO : EPOCH 6 - PROGRESS: at 57.70% examples, 537050 words/s, in_qsize 5, out_qsize 0\n",
      "2020-07-02 13:50:29,987 : INFO : EPOCH 6 - PROGRESS: at 58.65% examples, 537215 words/s, in_qsize 6, out_qsize 0\n",
      "2020-07-02 13:50:30,991 : INFO : EPOCH 6 - PROGRESS: at 59.61% examples, 537506 words/s, in_qsize 5, out_qsize 0\n",
      "2020-07-02 13:50:31,991 : INFO : EPOCH 6 - PROGRESS: at 60.56% examples, 537666 words/s, in_qsize 5, out_qsize 0\n",
      "2020-07-02 13:50:32,994 : INFO : EPOCH 6 - PROGRESS: at 61.51% examples, 537805 words/s, in_qsize 6, out_qsize 0\n",
      "2020-07-02 13:50:33,994 : INFO : EPOCH 6 - PROGRESS: at 62.47% examples, 537962 words/s, in_qsize 6, out_qsize 0\n",
      "2020-07-02 13:50:34,999 : INFO : EPOCH 6 - PROGRESS: at 63.42% examples, 538060 words/s, in_qsize 5, out_qsize 0\n",
      "2020-07-02 13:50:36,008 : INFO : EPOCH 6 - PROGRESS: at 64.39% examples, 538437 words/s, in_qsize 6, out_qsize 0\n",
      "2020-07-02 13:50:37,038 : INFO : EPOCH 6 - PROGRESS: at 65.35% examples, 538490 words/s, in_qsize 6, out_qsize 0\n",
      "2020-07-02 13:50:38,051 : INFO : EPOCH 6 - PROGRESS: at 66.32% examples, 538520 words/s, in_qsize 6, out_qsize 0\n",
      "2020-07-02 13:50:39,064 : INFO : EPOCH 6 - PROGRESS: at 67.28% examples, 538700 words/s, in_qsize 5, out_qsize 0\n",
      "2020-07-02 13:50:40,079 : INFO : EPOCH 6 - PROGRESS: at 68.23% examples, 538710 words/s, in_qsize 6, out_qsize 0\n",
      "2020-07-02 13:50:41,085 : INFO : EPOCH 6 - PROGRESS: at 69.19% examples, 538920 words/s, in_qsize 5, out_qsize 0\n",
      "2020-07-02 13:50:42,096 : INFO : EPOCH 6 - PROGRESS: at 70.13% examples, 538960 words/s, in_qsize 6, out_qsize 0\n",
      "2020-07-02 13:50:43,096 : INFO : EPOCH 6 - PROGRESS: at 71.08% examples, 539072 words/s, in_qsize 6, out_qsize 0\n",
      "2020-07-02 13:50:44,104 : INFO : EPOCH 6 - PROGRESS: at 72.03% examples, 539133 words/s, in_qsize 6, out_qsize 0\n",
      "2020-07-02 13:50:45,117 : INFO : EPOCH 6 - PROGRESS: at 72.99% examples, 539281 words/s, in_qsize 6, out_qsize 0\n",
      "2020-07-02 13:50:46,133 : INFO : EPOCH 6 - PROGRESS: at 73.97% examples, 539534 words/s, in_qsize 5, out_qsize 0\n",
      "2020-07-02 13:50:47,142 : INFO : EPOCH 6 - PROGRESS: at 74.92% examples, 539576 words/s, in_qsize 5, out_qsize 0\n",
      "2020-07-02 13:50:48,148 : INFO : EPOCH 6 - PROGRESS: at 75.84% examples, 539387 words/s, in_qsize 5, out_qsize 0\n",
      "2020-07-02 13:50:49,152 : INFO : EPOCH 6 - PROGRESS: at 76.79% examples, 539458 words/s, in_qsize 5, out_qsize 0\n",
      "2020-07-02 13:50:50,166 : INFO : EPOCH 6 - PROGRESS: at 77.72% examples, 539344 words/s, in_qsize 5, out_qsize 0\n",
      "2020-07-02 13:50:51,175 : INFO : EPOCH 6 - PROGRESS: at 78.67% examples, 539273 words/s, in_qsize 5, out_qsize 0\n",
      "2020-07-02 13:50:52,180 : INFO : EPOCH 6 - PROGRESS: at 79.59% examples, 539219 words/s, in_qsize 5, out_qsize 0\n",
      "2020-07-02 13:50:53,186 : INFO : EPOCH 6 - PROGRESS: at 80.54% examples, 539284 words/s, in_qsize 5, out_qsize 0\n",
      "2020-07-02 13:50:54,199 : INFO : EPOCH 6 - PROGRESS: at 81.50% examples, 539309 words/s, in_qsize 5, out_qsize 0\n",
      "2020-07-02 13:50:55,215 : INFO : EPOCH 6 - PROGRESS: at 82.45% examples, 539302 words/s, in_qsize 6, out_qsize 0\n",
      "2020-07-02 13:50:56,218 : INFO : EPOCH 6 - PROGRESS: at 83.39% examples, 539388 words/s, in_qsize 6, out_qsize 0\n",
      "2020-07-02 13:50:57,227 : INFO : EPOCH 6 - PROGRESS: at 84.37% examples, 539534 words/s, in_qsize 5, out_qsize 0\n",
      "2020-07-02 13:50:58,233 : INFO : EPOCH 6 - PROGRESS: at 85.32% examples, 539595 words/s, in_qsize 5, out_qsize 0\n",
      "2020-07-02 13:50:59,240 : INFO : EPOCH 6 - PROGRESS: at 86.28% examples, 539649 words/s, in_qsize 5, out_qsize 0\n",
      "2020-07-02 13:51:00,246 : INFO : EPOCH 6 - PROGRESS: at 87.23% examples, 539697 words/s, in_qsize 6, out_qsize 0\n",
      "2020-07-02 13:51:01,255 : INFO : EPOCH 6 - PROGRESS: at 88.19% examples, 539843 words/s, in_qsize 6, out_qsize 0\n",
      "2020-07-02 13:51:02,269 : INFO : EPOCH 6 - PROGRESS: at 89.16% examples, 539960 words/s, in_qsize 6, out_qsize 0\n",
      "2020-07-02 13:51:03,283 : INFO : EPOCH 6 - PROGRESS: at 90.12% examples, 540068 words/s, in_qsize 5, out_qsize 0\n",
      "2020-07-02 13:51:04,296 : INFO : EPOCH 6 - PROGRESS: at 91.07% examples, 540185 words/s, in_qsize 5, out_qsize 0\n",
      "2020-07-02 13:51:05,297 : INFO : EPOCH 6 - PROGRESS: at 92.01% examples, 540156 words/s, in_qsize 5, out_qsize 0\n",
      "2020-07-02 13:51:06,313 : INFO : EPOCH 6 - PROGRESS: at 92.97% examples, 540249 words/s, in_qsize 6, out_qsize 0\n",
      "2020-07-02 13:51:07,320 : INFO : EPOCH 6 - PROGRESS: at 93.93% examples, 540292 words/s, in_qsize 6, out_qsize 0\n",
      "2020-07-02 13:51:08,330 : INFO : EPOCH 6 - PROGRESS: at 94.88% examples, 540316 words/s, in_qsize 6, out_qsize 0\n",
      "2020-07-02 13:51:09,331 : INFO : EPOCH 6 - PROGRESS: at 95.83% examples, 540480 words/s, in_qsize 6, out_qsize 0\n",
      "2020-07-02 13:51:10,348 : INFO : EPOCH 6 - PROGRESS: at 96.80% examples, 540552 words/s, in_qsize 6, out_qsize 0\n",
      "2020-07-02 13:51:11,369 : INFO : EPOCH 6 - PROGRESS: at 97.76% examples, 540613 words/s, in_qsize 5, out_qsize 0\n",
      "2020-07-02 13:51:12,371 : INFO : EPOCH 6 - PROGRESS: at 98.72% examples, 540765 words/s, in_qsize 5, out_qsize 0\n",
      "2020-07-02 13:51:13,388 : INFO : EPOCH 6 - PROGRESS: at 99.67% examples, 540746 words/s, in_qsize 6, out_qsize 0\n",
      "2020-07-02 13:51:13,738 : INFO : worker thread finished; awaiting finish of 2 more threads\n",
      "2020-07-02 13:51:13,742 : INFO : worker thread finished; awaiting finish of 1 more threads\n",
      "2020-07-02 13:51:13,751 : INFO : worker thread finished; awaiting finish of 0 more threads\n",
      "2020-07-02 13:51:13,751 : INFO : EPOCH - 6 : training on 56687912 raw words (57752707 effective words) took 106.8s, 540696 effective words/s\n",
      "2020-07-02 13:51:15,044 : INFO : EPOCH 7 - PROGRESS: at 0.02% examples, 7896 words/s, in_qsize 6, out_qsize 0\n",
      "2020-07-02 13:51:16,049 : INFO : EPOCH 7 - PROGRESS: at 0.99% examples, 247317 words/s, in_qsize 6, out_qsize 0\n",
      "2020-07-02 13:51:17,051 : INFO : EPOCH 7 - PROGRESS: at 1.94% examples, 338410 words/s, in_qsize 6, out_qsize 0\n",
      "2020-07-02 13:51:18,068 : INFO : EPOCH 7 - PROGRESS: at 2.92% examples, 390510 words/s, in_qsize 6, out_qsize 0\n",
      "2020-07-02 13:51:19,080 : INFO : EPOCH 7 - PROGRESS: at 3.89% examples, 422895 words/s, in_qsize 6, out_qsize 0\n",
      "2020-07-02 13:51:20,114 : INFO : EPOCH 7 - PROGRESS: at 4.85% examples, 441899 words/s, in_qsize 6, out_qsize 0\n",
      "2020-07-02 13:51:21,131 : INFO : EPOCH 7 - PROGRESS: at 5.83% examples, 458017 words/s, in_qsize 6, out_qsize 0\n",
      "2020-07-02 13:51:22,156 : INFO : EPOCH 7 - PROGRESS: at 6.81% examples, 469798 words/s, in_qsize 6, out_qsize 0\n",
      "2020-07-02 13:51:23,170 : INFO : EPOCH 7 - PROGRESS: at 7.77% examples, 478474 words/s, in_qsize 6, out_qsize 0\n",
      "2020-07-02 13:51:24,176 : INFO : EPOCH 7 - PROGRESS: at 8.71% examples, 484848 words/s, in_qsize 6, out_qsize 0\n",
      "2020-07-02 13:51:25,206 : INFO : EPOCH 7 - PROGRESS: at 9.69% examples, 490797 words/s, in_qsize 6, out_qsize 0\n",
      "2020-07-02 13:51:26,221 : INFO : EPOCH 7 - PROGRESS: at 10.67% examples, 495576 words/s, in_qsize 6, out_qsize 0\n",
      "2020-07-02 13:51:27,222 : INFO : EPOCH 7 - PROGRESS: at 11.56% examples, 497165 words/s, in_qsize 6, out_qsize 0\n",
      "2020-07-02 13:51:28,239 : INFO : EPOCH 7 - PROGRESS: at 12.52% examples, 500097 words/s, in_qsize 6, out_qsize 0\n",
      "2020-07-02 13:51:29,251 : INFO : EPOCH 7 - PROGRESS: at 13.48% examples, 502818 words/s, in_qsize 5, out_qsize 0\n",
      "2020-07-02 13:51:30,260 : INFO : EPOCH 7 - PROGRESS: at 14.45% examples, 505887 words/s, in_qsize 5, out_qsize 0\n",
      "2020-07-02 13:51:31,265 : INFO : EPOCH 7 - PROGRESS: at 15.41% examples, 508145 words/s, in_qsize 5, out_qsize 0\n",
      "2020-07-02 13:51:32,272 : INFO : EPOCH 7 - PROGRESS: at 16.38% examples, 510640 words/s, in_qsize 5, out_qsize 0\n",
      "2020-07-02 13:51:33,275 : INFO : EPOCH 7 - PROGRESS: at 17.31% examples, 511956 words/s, in_qsize 6, out_qsize 0\n",
      "2020-07-02 13:51:34,280 : INFO : EPOCH 7 - PROGRESS: at 18.27% examples, 514060 words/s, in_qsize 5, out_qsize 0\n",
      "2020-07-02 13:51:35,282 : INFO : EPOCH 7 - PROGRESS: at 19.21% examples, 515119 words/s, in_qsize 5, out_qsize 0\n",
      "2020-07-02 13:51:36,283 : INFO : EPOCH 7 - PROGRESS: at 20.17% examples, 516975 words/s, in_qsize 5, out_qsize 0\n",
      "2020-07-02 13:51:37,284 : INFO : EPOCH 7 - PROGRESS: at 21.13% examples, 518245 words/s, in_qsize 6, out_qsize 0\n",
      "2020-07-02 13:51:38,286 : INFO : EPOCH 7 - PROGRESS: at 22.09% examples, 519410 words/s, in_qsize 6, out_qsize 0\n",
      "2020-07-02 13:51:39,286 : INFO : EPOCH 7 - PROGRESS: at 23.05% examples, 520931 words/s, in_qsize 5, out_qsize 0\n",
      "2020-07-02 13:51:40,289 : INFO : EPOCH 7 - PROGRESS: at 24.00% examples, 521896 words/s, in_qsize 5, out_qsize 0\n",
      "2020-07-02 13:51:41,314 : INFO : EPOCH 7 - PROGRESS: at 24.96% examples, 522736 words/s, in_qsize 6, out_qsize 0\n",
      "2020-07-02 13:51:42,316 : INFO : EPOCH 7 - PROGRESS: at 25.93% examples, 524279 words/s, in_qsize 6, out_qsize 0\n",
      "2020-07-02 13:51:43,351 : INFO : EPOCH 7 - PROGRESS: at 26.90% examples, 524798 words/s, in_qsize 6, out_qsize 0\n",
      "2020-07-02 13:51:44,377 : INFO : EPOCH 7 - PROGRESS: at 27.87% examples, 525451 words/s, in_qsize 6, out_qsize 0\n",
      "2020-07-02 13:51:45,386 : INFO : EPOCH 7 - PROGRESS: at 28.83% examples, 526023 words/s, in_qsize 6, out_qsize 0\n",
      "2020-07-02 13:51:46,407 : INFO : EPOCH 7 - PROGRESS: at 29.81% examples, 526664 words/s, in_qsize 5, out_qsize 0\n",
      "2020-07-02 13:51:47,420 : INFO : EPOCH 7 - PROGRESS: at 30.76% examples, 527084 words/s, in_qsize 6, out_qsize 0\n",
      "2020-07-02 13:51:48,430 : INFO : EPOCH 7 - PROGRESS: at 31.74% examples, 528101 words/s, in_qsize 6, out_qsize 0\n",
      "2020-07-02 13:51:49,449 : INFO : EPOCH 7 - PROGRESS: at 32.70% examples, 528658 words/s, in_qsize 5, out_qsize 0\n",
      "2020-07-02 13:51:50,453 : INFO : EPOCH 7 - PROGRESS: at 33.67% examples, 529394 words/s, in_qsize 5, out_qsize 0\n",
      "2020-07-02 13:51:51,454 : INFO : EPOCH 7 - PROGRESS: at 34.61% examples, 529869 words/s, in_qsize 5, out_qsize 0\n",
      "2020-07-02 13:51:52,464 : INFO : EPOCH 7 - PROGRESS: at 35.58% examples, 530222 words/s, in_qsize 6, out_qsize 0\n",
      "2020-07-02 13:51:53,487 : INFO : EPOCH 7 - PROGRESS: at 36.54% examples, 530863 words/s, in_qsize 6, out_qsize 0\n",
      "2020-07-02 13:51:54,494 : INFO : EPOCH 7 - PROGRESS: at 37.51% examples, 531441 words/s, in_qsize 5, out_qsize 0\n",
      "2020-07-02 13:51:55,495 : INFO : EPOCH 7 - PROGRESS: at 38.44% examples, 531575 words/s, in_qsize 6, out_qsize 0\n",
      "2020-07-02 13:51:56,517 : INFO : EPOCH 7 - PROGRESS: at 39.43% examples, 532163 words/s, in_qsize 6, out_qsize 0\n",
      "2020-07-02 13:51:57,519 : INFO : EPOCH 7 - PROGRESS: at 40.39% examples, 532733 words/s, in_qsize 6, out_qsize 0\n",
      "2020-07-02 13:51:58,539 : INFO : EPOCH 7 - PROGRESS: at 41.37% examples, 533069 words/s, in_qsize 5, out_qsize 0\n",
      "2020-07-02 13:51:59,551 : INFO : EPOCH 7 - PROGRESS: at 42.32% examples, 533259 words/s, in_qsize 6, out_qsize 0\n",
      "2020-07-02 13:52:00,554 : INFO : EPOCH 7 - PROGRESS: at 43.28% examples, 533526 words/s, in_qsize 5, out_qsize 0\n",
      "2020-07-02 13:52:01,570 : INFO : EPOCH 7 - PROGRESS: at 44.24% examples, 533870 words/s, in_qsize 6, out_qsize 0\n",
      "2020-07-02 13:52:02,576 : INFO : EPOCH 7 - PROGRESS: at 45.19% examples, 534077 words/s, in_qsize 6, out_qsize 0\n",
      "2020-07-02 13:52:03,590 : INFO : EPOCH 7 - PROGRESS: at 46.15% examples, 534208 words/s, in_qsize 6, out_qsize 0\n",
      "2020-07-02 13:52:04,593 : INFO : EPOCH 7 - PROGRESS: at 47.13% examples, 534653 words/s, in_qsize 5, out_qsize 0\n",
      "2020-07-02 13:52:05,594 : INFO : EPOCH 7 - PROGRESS: at 48.09% examples, 535080 words/s, in_qsize 5, out_qsize 0\n",
      "2020-07-02 13:52:06,604 : INFO : EPOCH 7 - PROGRESS: at 49.05% examples, 535217 words/s, in_qsize 5, out_qsize 0\n",
      "2020-07-02 13:52:07,636 : INFO : EPOCH 7 - PROGRESS: at 50.02% examples, 535327 words/s, in_qsize 6, out_qsize 0\n",
      "2020-07-02 13:52:08,638 : INFO : EPOCH 7 - PROGRESS: at 50.98% examples, 535726 words/s, in_qsize 5, out_qsize 0\n",
      "2020-07-02 13:52:09,648 : INFO : EPOCH 7 - PROGRESS: at 51.93% examples, 535852 words/s, in_qsize 6, out_qsize 0\n",
      "2020-07-02 13:52:10,651 : INFO : EPOCH 7 - PROGRESS: at 52.91% examples, 536225 words/s, in_qsize 5, out_qsize 0\n",
      "2020-07-02 13:52:11,655 : INFO : EPOCH 7 - PROGRESS: at 53.86% examples, 536217 words/s, in_qsize 6, out_qsize 0\n",
      "2020-07-02 13:52:12,666 : INFO : EPOCH 7 - PROGRESS: at 54.83% examples, 536490 words/s, in_qsize 6, out_qsize 0\n",
      "2020-07-02 13:52:13,678 : INFO : EPOCH 7 - PROGRESS: at 55.79% examples, 536746 words/s, in_qsize 4, out_qsize 1\n",
      "2020-07-02 13:52:14,678 : INFO : EPOCH 7 - PROGRESS: at 56.74% examples, 536917 words/s, in_qsize 6, out_qsize 0\n",
      "2020-07-02 13:52:15,684 : INFO : EPOCH 7 - PROGRESS: at 57.71% examples, 537212 words/s, in_qsize 6, out_qsize 0\n",
      "2020-07-02 13:52:16,693 : INFO : EPOCH 7 - PROGRESS: at 58.66% examples, 537309 words/s, in_qsize 5, out_qsize 0\n",
      "2020-07-02 13:52:17,699 : INFO : EPOCH 7 - PROGRESS: at 59.63% examples, 537427 words/s, in_qsize 6, out_qsize 0\n",
      "2020-07-02 13:52:18,702 : INFO : EPOCH 7 - PROGRESS: at 60.59% examples, 537735 words/s, in_qsize 6, out_qsize 0\n",
      "2020-07-02 13:52:19,712 : INFO : EPOCH 7 - PROGRESS: at 61.56% examples, 537954 words/s, in_qsize 6, out_qsize 0\n",
      "2020-07-02 13:52:20,727 : INFO : EPOCH 7 - PROGRESS: at 62.52% examples, 538129 words/s, in_qsize 6, out_qsize 0\n",
      "2020-07-02 13:52:21,739 : INFO : EPOCH 7 - PROGRESS: at 63.51% examples, 538479 words/s, in_qsize 5, out_qsize 0\n",
      "2020-07-02 13:52:22,744 : INFO : EPOCH 7 - PROGRESS: at 64.47% examples, 538717 words/s, in_qsize 5, out_qsize 0\n",
      "2020-07-02 13:52:23,774 : INFO : EPOCH 7 - PROGRESS: at 65.44% examples, 538909 words/s, in_qsize 5, out_qsize 0\n",
      "2020-07-02 13:52:24,781 : INFO : EPOCH 7 - PROGRESS: at 66.41% examples, 539265 words/s, in_qsize 6, out_qsize 0\n",
      "2020-07-02 13:52:25,791 : INFO : EPOCH 7 - PROGRESS: at 67.36% examples, 539312 words/s, in_qsize 6, out_qsize 0\n",
      "2020-07-02 13:52:26,807 : INFO : EPOCH 7 - PROGRESS: at 68.33% examples, 539455 words/s, in_qsize 5, out_qsize 0\n",
      "2020-07-02 13:52:27,821 : INFO : EPOCH 7 - PROGRESS: at 69.29% examples, 539604 words/s, in_qsize 5, out_qsize 0\n",
      "2020-07-02 13:52:28,824 : INFO : EPOCH 7 - PROGRESS: at 70.23% examples, 539697 words/s, in_qsize 6, out_qsize 0\n",
      "2020-07-02 13:52:29,827 : INFO : EPOCH 7 - PROGRESS: at 71.20% examples, 540047 words/s, in_qsize 5, out_qsize 0\n",
      "2020-07-02 13:52:30,840 : INFO : EPOCH 7 - PROGRESS: at 72.14% examples, 540187 words/s, in_qsize 6, out_qsize 0\n",
      "2020-07-02 13:52:31,857 : INFO : EPOCH 7 - PROGRESS: at 73.10% examples, 540297 words/s, in_qsize 5, out_qsize 0\n",
      "2020-07-02 13:52:32,866 : INFO : EPOCH 7 - PROGRESS: at 74.05% examples, 540330 words/s, in_qsize 6, out_qsize 0\n",
      "2020-07-02 13:52:33,881 : INFO : EPOCH 7 - PROGRESS: at 75.01% examples, 540458 words/s, in_qsize 6, out_qsize 0\n",
      "2020-07-02 13:52:34,896 : INFO : EPOCH 7 - PROGRESS: at 75.98% examples, 540692 words/s, in_qsize 6, out_qsize 0\n",
      "2020-07-02 13:52:35,921 : INFO : EPOCH 7 - PROGRESS: at 76.95% examples, 540739 words/s, in_qsize 6, out_qsize 0\n",
      "2020-07-02 13:52:36,930 : INFO : EPOCH 7 - PROGRESS: at 77.92% examples, 541010 words/s, in_qsize 6, out_qsize 0\n",
      "2020-07-02 13:52:37,959 : INFO : EPOCH 7 - PROGRESS: at 78.87% examples, 541021 words/s, in_qsize 6, out_qsize 0\n",
      "2020-07-02 13:52:38,967 : INFO : EPOCH 7 - PROGRESS: at 79.86% examples, 541176 words/s, in_qsize 5, out_qsize 0\n",
      "2020-07-02 13:52:39,974 : INFO : EPOCH 7 - PROGRESS: at 80.81% examples, 541223 words/s, in_qsize 6, out_qsize 0\n",
      "2020-07-02 13:52:40,979 : INFO : EPOCH 7 - PROGRESS: at 81.77% examples, 541384 words/s, in_qsize 6, out_qsize 0\n",
      "2020-07-02 13:52:41,992 : INFO : EPOCH 7 - PROGRESS: at 82.73% examples, 541495 words/s, in_qsize 6, out_qsize 0\n",
      "2020-07-02 13:52:42,997 : INFO : EPOCH 7 - PROGRESS: at 83.68% examples, 541537 words/s, in_qsize 6, out_qsize 0\n",
      "2020-07-02 13:52:44,000 : INFO : EPOCH 7 - PROGRESS: at 84.62% examples, 541583 words/s, in_qsize 5, out_qsize 0\n",
      "2020-07-02 13:52:45,013 : INFO : EPOCH 7 - PROGRESS: at 85.57% examples, 541581 words/s, in_qsize 6, out_qsize 0\n",
      "2020-07-02 13:52:46,027 : INFO : EPOCH 7 - PROGRESS: at 86.52% examples, 541571 words/s, in_qsize 6, out_qsize 0\n",
      "2020-07-02 13:52:47,034 : INFO : EPOCH 7 - PROGRESS: at 87.48% examples, 541601 words/s, in_qsize 6, out_qsize 0\n",
      "2020-07-02 13:52:48,035 : INFO : EPOCH 7 - PROGRESS: at 88.42% examples, 541554 words/s, in_qsize 6, out_qsize 0\n",
      "2020-07-02 13:52:49,036 : INFO : EPOCH 7 - PROGRESS: at 89.37% examples, 541612 words/s, in_qsize 5, out_qsize 0\n",
      "2020-07-02 13:52:50,036 : INFO : EPOCH 7 - PROGRESS: at 90.34% examples, 541883 words/s, in_qsize 5, out_qsize 0\n",
      "2020-07-02 13:52:51,059 : INFO : EPOCH 7 - PROGRESS: at 91.30% examples, 541922 words/s, in_qsize 5, out_qsize 0\n",
      "2020-07-02 13:52:52,067 : INFO : EPOCH 7 - PROGRESS: at 92.26% examples, 542038 words/s, in_qsize 6, out_qsize 0\n",
      "2020-07-02 13:52:53,072 : INFO : EPOCH 7 - PROGRESS: at 93.23% examples, 542178 words/s, in_qsize 6, out_qsize 0\n",
      "2020-07-02 13:52:54,083 : INFO : EPOCH 7 - PROGRESS: at 94.19% examples, 542282 words/s, in_qsize 5, out_qsize 0\n",
      "2020-07-02 13:52:55,103 : INFO : EPOCH 7 - PROGRESS: at 95.13% examples, 542225 words/s, in_qsize 6, out_qsize 0\n",
      "2020-07-02 13:52:56,114 : INFO : EPOCH 7 - PROGRESS: at 96.09% examples, 542228 words/s, in_qsize 5, out_qsize 0\n",
      "2020-07-02 13:52:57,119 : INFO : EPOCH 7 - PROGRESS: at 97.05% examples, 542256 words/s, in_qsize 5, out_qsize 0\n",
      "2020-07-02 13:52:58,136 : INFO : EPOCH 7 - PROGRESS: at 98.01% examples, 542232 words/s, in_qsize 5, out_qsize 0\n",
      "2020-07-02 13:52:59,140 : INFO : EPOCH 7 - PROGRESS: at 98.98% examples, 542359 words/s, in_qsize 6, out_qsize 0\n",
      "2020-07-02 13:53:00,146 : INFO : EPOCH 7 - PROGRESS: at 99.85% examples, 541999 words/s, in_qsize 5, out_qsize 0\n",
      "2020-07-02 13:53:00,203 : INFO : worker thread finished; awaiting finish of 2 more threads\n",
      "2020-07-02 13:53:00,210 : INFO : worker thread finished; awaiting finish of 1 more threads\n",
      "2020-07-02 13:53:00,217 : INFO : worker thread finished; awaiting finish of 0 more threads\n",
      "2020-07-02 13:53:00,218 : INFO : EPOCH - 7 : training on 56687912 raw words (57752707 effective words) took 106.5s, 542456 effective words/s\n",
      "2020-07-02 13:53:01,511 : INFO : EPOCH 8 - PROGRESS: at 0.02% examples, 7849 words/s, in_qsize 5, out_qsize 0\n",
      "2020-07-02 13:53:02,512 : INFO : EPOCH 8 - PROGRESS: at 0.98% examples, 247725 words/s, in_qsize 5, out_qsize 0\n",
      "2020-07-02 13:53:03,515 : INFO : EPOCH 8 - PROGRESS: at 1.92% examples, 338527 words/s, in_qsize 6, out_qsize 0\n",
      "2020-07-02 13:53:04,531 : INFO : EPOCH 8 - PROGRESS: at 2.87% examples, 385913 words/s, in_qsize 5, out_qsize 0\n",
      "2020-07-02 13:53:05,545 : INFO : EPOCH 8 - PROGRESS: at 3.81% examples, 415280 words/s, in_qsize 6, out_qsize 0\n",
      "2020-07-02 13:53:06,554 : INFO : EPOCH 8 - PROGRESS: at 4.79% examples, 438719 words/s, in_qsize 6, out_qsize 0\n",
      "2020-07-02 13:53:07,581 : INFO : EPOCH 8 - PROGRESS: at 5.75% examples, 453287 words/s, in_qsize 6, out_qsize 0\n",
      "2020-07-02 13:53:08,596 : INFO : EPOCH 8 - PROGRESS: at 6.71% examples, 464996 words/s, in_qsize 6, out_qsize 0\n",
      "2020-07-02 13:53:09,599 : INFO : EPOCH 8 - PROGRESS: at 7.66% examples, 473616 words/s, in_qsize 5, out_qsize 0\n",
      "2020-07-02 13:53:10,614 : INFO : EPOCH 8 - PROGRESS: at 8.61% examples, 480114 words/s, in_qsize 6, out_qsize 0\n",
      "2020-07-02 13:53:11,627 : INFO : EPOCH 8 - PROGRESS: at 9.58% examples, 487326 words/s, in_qsize 5, out_qsize 0\n",
      "2020-07-02 13:53:12,652 : INFO : EPOCH 8 - PROGRESS: at 10.55% examples, 492093 words/s, in_qsize 6, out_qsize 0\n",
      "2020-07-02 13:53:13,655 : INFO : EPOCH 8 - PROGRESS: at 11.52% examples, 496834 words/s, in_qsize 6, out_qsize 0\n",
      "2020-07-02 13:53:14,670 : INFO : EPOCH 8 - PROGRESS: at 12.49% examples, 500570 words/s, in_qsize 5, out_qsize 0\n",
      "2020-07-02 13:53:15,682 : INFO : EPOCH 8 - PROGRESS: at 13.45% examples, 503236 words/s, in_qsize 6, out_qsize 0\n",
      "2020-07-02 13:53:16,697 : INFO : EPOCH 8 - PROGRESS: at 14.42% examples, 506063 words/s, in_qsize 6, out_qsize 0\n",
      "2020-07-02 13:53:17,698 : INFO : EPOCH 8 - PROGRESS: at 15.37% examples, 508429 words/s, in_qsize 5, out_qsize 0\n",
      "2020-07-02 13:53:18,701 : INFO : EPOCH 8 - PROGRESS: at 16.32% examples, 511007 words/s, in_qsize 5, out_qsize 0\n",
      "2020-07-02 13:53:19,708 : INFO : EPOCH 8 - PROGRESS: at 17.26% examples, 512708 words/s, in_qsize 6, out_qsize 0\n",
      "2020-07-02 13:53:20,710 : INFO : EPOCH 8 - PROGRESS: at 18.21% examples, 514876 words/s, in_qsize 5, out_qsize 0\n",
      "2020-07-02 13:53:21,725 : INFO : EPOCH 8 - PROGRESS: at 19.17% examples, 516536 words/s, in_qsize 5, out_qsize 0\n",
      "2020-07-02 13:53:22,728 : INFO : EPOCH 8 - PROGRESS: at 20.11% examples, 517822 words/s, in_qsize 5, out_qsize 0\n",
      "2020-07-02 13:53:23,744 : INFO : EPOCH 8 - PROGRESS: at 21.07% examples, 518741 words/s, in_qsize 6, out_qsize 0\n",
      "2020-07-02 13:53:24,745 : INFO : EPOCH 8 - PROGRESS: at 22.03% examples, 520310 words/s, in_qsize 5, out_qsize 0\n",
      "2020-07-02 13:53:25,772 : INFO : EPOCH 8 - PROGRESS: at 23.00% examples, 521611 words/s, in_qsize 5, out_qsize 0\n",
      "2020-07-02 13:53:26,779 : INFO : EPOCH 8 - PROGRESS: at 23.95% examples, 522849 words/s, in_qsize 6, out_qsize 0\n",
      "2020-07-02 13:53:27,794 : INFO : EPOCH 8 - PROGRESS: at 24.93% examples, 523858 words/s, in_qsize 6, out_qsize 0\n",
      "2020-07-02 13:53:28,815 : INFO : EPOCH 8 - PROGRESS: at 25.91% examples, 524667 words/s, in_qsize 5, out_qsize 0\n",
      "2020-07-02 13:53:29,822 : INFO : EPOCH 8 - PROGRESS: at 26.87% examples, 525670 words/s, in_qsize 6, out_qsize 0\n",
      "2020-07-02 13:53:30,822 : INFO : EPOCH 8 - PROGRESS: at 27.82% examples, 526726 words/s, in_qsize 5, out_qsize 0\n",
      "2020-07-02 13:53:31,840 : INFO : EPOCH 8 - PROGRESS: at 28.78% examples, 527429 words/s, in_qsize 6, out_qsize 0\n",
      "2020-07-02 13:53:32,855 : INFO : EPOCH 8 - PROGRESS: at 29.74% examples, 528135 words/s, in_qsize 5, out_qsize 0\n",
      "2020-07-02 13:53:33,872 : INFO : EPOCH 8 - PROGRESS: at 30.69% examples, 528469 words/s, in_qsize 6, out_qsize 0\n",
      "2020-07-02 13:53:34,876 : INFO : EPOCH 8 - PROGRESS: at 31.67% examples, 529268 words/s, in_qsize 5, out_qsize 0\n",
      "2020-07-02 13:53:35,887 : INFO : EPOCH 8 - PROGRESS: at 32.63% examples, 529637 words/s, in_qsize 5, out_qsize 0\n",
      "2020-07-02 13:53:36,900 : INFO : EPOCH 8 - PROGRESS: at 33.58% examples, 529942 words/s, in_qsize 6, out_qsize 0\n",
      "2020-07-02 13:53:37,904 : INFO : EPOCH 8 - PROGRESS: at 34.50% examples, 529830 words/s, in_qsize 5, out_qsize 0\n",
      "2020-07-02 13:53:38,912 : INFO : EPOCH 8 - PROGRESS: at 35.40% examples, 529387 words/s, in_qsize 6, out_qsize 0\n",
      "2020-07-02 13:53:39,935 : INFO : EPOCH 8 - PROGRESS: at 36.32% examples, 529296 words/s, in_qsize 6, out_qsize 0\n",
      "2020-07-02 13:53:40,957 : INFO : EPOCH 8 - PROGRESS: at 37.30% examples, 529978 words/s, in_qsize 5, out_qsize 0\n",
      "2020-07-02 13:53:41,962 : INFO : EPOCH 8 - PROGRESS: at 38.24% examples, 530338 words/s, in_qsize 6, out_qsize 0\n",
      "2020-07-02 13:53:42,983 : INFO : EPOCH 8 - PROGRESS: at 39.22% examples, 530744 words/s, in_qsize 6, out_qsize 0\n",
      "2020-07-02 13:53:43,999 : INFO : EPOCH 8 - PROGRESS: at 40.19% examples, 531178 words/s, in_qsize 5, out_qsize 0\n",
      "2020-07-02 13:53:45,029 : INFO : EPOCH 8 - PROGRESS: at 41.16% examples, 531419 words/s, in_qsize 6, out_qsize 0\n",
      "2020-07-02 13:53:46,042 : INFO : EPOCH 8 - PROGRESS: at 42.12% examples, 531850 words/s, in_qsize 6, out_qsize 0\n",
      "2020-07-02 13:53:47,054 : INFO : EPOCH 8 - PROGRESS: at 43.08% examples, 532263 words/s, in_qsize 6, out_qsize 0\n",
      "2020-07-02 13:53:48,057 : INFO : EPOCH 8 - PROGRESS: at 44.04% examples, 532766 words/s, in_qsize 5, out_qsize 0\n",
      "2020-07-02 13:53:49,082 : INFO : EPOCH 8 - PROGRESS: at 45.02% examples, 533225 words/s, in_qsize 5, out_qsize 0\n",
      "2020-07-02 13:53:50,086 : INFO : EPOCH 8 - PROGRESS: at 45.98% examples, 533680 words/s, in_qsize 5, out_qsize 0\n",
      "2020-07-02 13:53:51,089 : INFO : EPOCH 8 - PROGRESS: at 46.93% examples, 533935 words/s, in_qsize 6, out_qsize 0\n",
      "2020-07-02 13:53:52,109 : INFO : EPOCH 8 - PROGRESS: at 47.90% examples, 534004 words/s, in_qsize 6, out_qsize 0\n",
      "2020-07-02 13:53:53,110 : INFO : EPOCH 8 - PROGRESS: at 48.85% examples, 534081 words/s, in_qsize 6, out_qsize 0\n",
      "2020-07-02 13:53:54,131 : INFO : EPOCH 8 - PROGRESS: at 49.80% examples, 534124 words/s, in_qsize 6, out_qsize 0\n",
      "2020-07-02 13:53:55,132 : INFO : EPOCH 8 - PROGRESS: at 50.75% examples, 534380 words/s, in_qsize 6, out_qsize 0\n",
      "2020-07-02 13:53:56,139 : INFO : EPOCH 8 - PROGRESS: at 51.72% examples, 534745 words/s, in_qsize 5, out_qsize 0\n",
      "2020-07-02 13:53:57,148 : INFO : EPOCH 8 - PROGRESS: at 52.69% examples, 534900 words/s, in_qsize 6, out_qsize 0\n",
      "2020-07-02 13:53:58,179 : INFO : EPOCH 8 - PROGRESS: at 53.65% examples, 535010 words/s, in_qsize 6, out_qsize 0\n",
      "2020-07-02 13:53:59,185 : INFO : EPOCH 8 - PROGRESS: at 54.62% examples, 535503 words/s, in_qsize 6, out_qsize 0\n",
      "2020-07-02 13:54:00,208 : INFO : EPOCH 8 - PROGRESS: at 55.59% examples, 535695 words/s, in_qsize 5, out_qsize 0\n",
      "2020-07-02 13:54:01,217 : INFO : EPOCH 8 - PROGRESS: at 56.56% examples, 535969 words/s, in_qsize 6, out_qsize 0\n",
      "2020-07-02 13:54:02,218 : INFO : EPOCH 8 - PROGRESS: at 57.50% examples, 536162 words/s, in_qsize 6, out_qsize 0\n",
      "2020-07-02 13:54:03,225 : INFO : EPOCH 8 - PROGRESS: at 58.46% examples, 536282 words/s, in_qsize 6, out_qsize 0\n",
      "2020-07-02 13:54:04,243 : INFO : EPOCH 8 - PROGRESS: at 59.42% examples, 536476 words/s, in_qsize 6, out_qsize 0\n",
      "2020-07-02 13:54:05,248 : INFO : EPOCH 8 - PROGRESS: at 60.39% examples, 536770 words/s, in_qsize 6, out_qsize 0\n",
      "2020-07-02 13:54:06,271 : INFO : EPOCH 8 - PROGRESS: at 61.36% examples, 537045 words/s, in_qsize 6, out_qsize 0\n",
      "2020-07-02 13:54:07,272 : INFO : EPOCH 8 - PROGRESS: at 62.33% examples, 537489 words/s, in_qsize 6, out_qsize 0\n",
      "2020-07-02 13:54:08,278 : INFO : EPOCH 8 - PROGRESS: at 63.27% examples, 537600 words/s, in_qsize 6, out_qsize 0\n",
      "2020-07-02 13:54:09,295 : INFO : EPOCH 8 - PROGRESS: at 64.23% examples, 537770 words/s, in_qsize 6, out_qsize 0\n",
      "2020-07-02 13:54:10,304 : INFO : EPOCH 8 - PROGRESS: at 65.20% examples, 537989 words/s, in_qsize 4, out_qsize 1\n",
      "2020-07-02 13:54:11,306 : INFO : EPOCH 8 - PROGRESS: at 66.17% examples, 538250 words/s, in_qsize 6, out_qsize 0\n",
      "2020-07-02 13:54:12,330 : INFO : EPOCH 8 - PROGRESS: at 67.14% examples, 538347 words/s, in_qsize 5, out_qsize 0\n",
      "2020-07-02 13:54:13,346 : INFO : EPOCH 8 - PROGRESS: at 68.11% examples, 538501 words/s, in_qsize 5, out_qsize 0\n",
      "2020-07-02 13:54:14,359 : INFO : EPOCH 8 - PROGRESS: at 69.07% examples, 538538 words/s, in_qsize 6, out_qsize 0\n",
      "2020-07-02 13:54:15,360 : INFO : EPOCH 8 - PROGRESS: at 70.02% examples, 538792 words/s, in_qsize 6, out_qsize 0\n",
      "2020-07-02 13:54:16,382 : INFO : EPOCH 8 - PROGRESS: at 71.00% examples, 539019 words/s, in_qsize 6, out_qsize 0\n",
      "2020-07-02 13:54:17,388 : INFO : EPOCH 8 - PROGRESS: at 71.97% examples, 539227 words/s, in_qsize 5, out_qsize 0\n",
      "2020-07-02 13:54:18,391 : INFO : EPOCH 8 - PROGRESS: at 72.92% examples, 539326 words/s, in_qsize 5, out_qsize 0\n",
      "2020-07-02 13:54:19,419 : INFO : EPOCH 8 - PROGRESS: at 73.89% examples, 539369 words/s, in_qsize 6, out_qsize 0\n",
      "2020-07-02 13:54:20,435 : INFO : EPOCH 8 - PROGRESS: at 74.85% examples, 539486 words/s, in_qsize 6, out_qsize 0\n",
      "2020-07-02 13:54:21,454 : INFO : EPOCH 8 - PROGRESS: at 75.84% examples, 539602 words/s, in_qsize 6, out_qsize 0\n",
      "2020-07-02 13:54:22,468 : INFO : EPOCH 8 - PROGRESS: at 76.80% examples, 539734 words/s, in_qsize 5, out_qsize 0\n",
      "2020-07-02 13:54:23,489 : INFO : EPOCH 8 - PROGRESS: at 77.76% examples, 539705 words/s, in_qsize 6, out_qsize 0\n",
      "2020-07-02 13:54:24,515 : INFO : EPOCH 8 - PROGRESS: at 78.73% examples, 539866 words/s, in_qsize 6, out_qsize 0\n",
      "2020-07-02 13:54:25,526 : INFO : EPOCH 8 - PROGRESS: at 79.69% examples, 539892 words/s, in_qsize 5, out_qsize 0\n",
      "2020-07-02 13:54:26,540 : INFO : EPOCH 8 - PROGRESS: at 80.64% examples, 539900 words/s, in_qsize 6, out_qsize 0\n",
      "2020-07-02 13:54:27,543 : INFO : EPOCH 8 - PROGRESS: at 81.59% examples, 539971 words/s, in_qsize 6, out_qsize 0\n",
      "2020-07-02 13:54:28,547 : INFO : EPOCH 8 - PROGRESS: at 82.54% examples, 540033 words/s, in_qsize 6, out_qsize 0\n",
      "2020-07-02 13:54:29,550 : INFO : EPOCH 8 - PROGRESS: at 83.47% examples, 539991 words/s, in_qsize 6, out_qsize 0\n",
      "2020-07-02 13:54:30,551 : INFO : EPOCH 8 - PROGRESS: at 84.45% examples, 540188 words/s, in_qsize 5, out_qsize 0\n",
      "2020-07-02 13:54:31,555 : INFO : EPOCH 8 - PROGRESS: at 85.39% examples, 540259 words/s, in_qsize 6, out_qsize 0\n",
      "2020-07-02 13:54:32,564 : INFO : EPOCH 8 - PROGRESS: at 86.34% examples, 540291 words/s, in_qsize 5, out_qsize 0\n",
      "2020-07-02 13:54:33,565 : INFO : EPOCH 8 - PROGRESS: at 87.29% examples, 540360 words/s, in_qsize 5, out_qsize 0\n",
      "2020-07-02 13:54:34,568 : INFO : EPOCH 8 - PROGRESS: at 88.26% examples, 540536 words/s, in_qsize 5, out_qsize 0\n",
      "2020-07-02 13:54:35,570 : INFO : EPOCH 8 - PROGRESS: at 89.21% examples, 540609 words/s, in_qsize 6, out_qsize 0\n",
      "2020-07-02 13:54:36,585 : INFO : EPOCH 8 - PROGRESS: at 90.19% examples, 540806 words/s, in_qsize 5, out_qsize 0\n",
      "2020-07-02 13:54:37,587 : INFO : EPOCH 8 - PROGRESS: at 91.14% examples, 540871 words/s, in_qsize 5, out_qsize 0\n",
      "2020-07-02 13:54:38,600 : INFO : EPOCH 8 - PROGRESS: at 92.10% examples, 540873 words/s, in_qsize 5, out_qsize 0\n",
      "2020-07-02 13:54:39,605 : INFO : EPOCH 8 - PROGRESS: at 93.07% examples, 541013 words/s, in_qsize 5, out_qsize 0\n",
      "2020-07-02 13:54:40,636 : INFO : EPOCH 8 - PROGRESS: at 94.04% examples, 541022 words/s, in_qsize 4, out_qsize 1\n",
      "2020-07-02 13:54:41,640 : INFO : EPOCH 8 - PROGRESS: at 95.00% examples, 541071 words/s, in_qsize 6, out_qsize 0\n",
      "2020-07-02 13:54:42,644 : INFO : EPOCH 8 - PROGRESS: at 95.97% examples, 541315 words/s, in_qsize 5, out_qsize 0\n",
      "2020-07-02 13:54:43,647 : INFO : EPOCH 8 - PROGRESS: at 96.93% examples, 541368 words/s, in_qsize 6, out_qsize 0\n",
      "2020-07-02 13:54:44,670 : INFO : EPOCH 8 - PROGRESS: at 97.90% examples, 541407 words/s, in_qsize 5, out_qsize 0\n",
      "2020-07-02 13:54:45,681 : INFO : EPOCH 8 - PROGRESS: at 98.86% examples, 541408 words/s, in_qsize 6, out_qsize 0\n",
      "2020-07-02 13:54:46,799 : INFO : EPOCH 8 - PROGRESS: at 99.83% examples, 540966 words/s, in_qsize 6, out_qsize 0\n",
      "2020-07-02 13:54:46,875 : INFO : worker thread finished; awaiting finish of 2 more threads\n",
      "2020-07-02 13:54:46,877 : INFO : worker thread finished; awaiting finish of 1 more threads\n",
      "2020-07-02 13:54:46,881 : INFO : worker thread finished; awaiting finish of 0 more threads\n",
      "2020-07-02 13:54:46,882 : INFO : EPOCH - 8 : training on 56687912 raw words (57752707 effective words) took 106.7s, 541450 effective words/s\n",
      "2020-07-02 13:54:48,172 : INFO : EPOCH 9 - PROGRESS: at 0.02% examples, 7848 words/s, in_qsize 6, out_qsize 0\n",
      "2020-07-02 13:54:49,181 : INFO : EPOCH 9 - PROGRESS: at 0.98% examples, 247088 words/s, in_qsize 6, out_qsize 0\n",
      "2020-07-02 13:54:50,191 : INFO : EPOCH 9 - PROGRESS: at 1.95% examples, 340116 words/s, in_qsize 6, out_qsize 0\n",
      "2020-07-02 13:54:51,199 : INFO : EPOCH 9 - PROGRESS: at 2.90% examples, 389789 words/s, in_qsize 6, out_qsize 0\n",
      "2020-07-02 13:54:52,217 : INFO : EPOCH 9 - PROGRESS: at 3.86% examples, 419998 words/s, in_qsize 6, out_qsize 0\n",
      "2020-07-02 13:54:53,234 : INFO : EPOCH 9 - PROGRESS: at 4.83% examples, 440607 words/s, in_qsize 6, out_qsize 0\n",
      "2020-07-02 13:54:54,264 : INFO : EPOCH 9 - PROGRESS: at 5.81% examples, 454852 words/s, in_qsize 4, out_qsize 1\n",
      "2020-07-02 13:54:55,271 : INFO : EPOCH 9 - PROGRESS: at 6.76% examples, 465634 words/s, in_qsize 6, out_qsize 0\n",
      "2020-07-02 13:54:56,283 : INFO : EPOCH 9 - PROGRESS: at 7.72% examples, 474898 words/s, in_qsize 6, out_qsize 0\n",
      "2020-07-02 13:54:57,309 : INFO : EPOCH 9 - PROGRESS: at 8.69% examples, 482679 words/s, in_qsize 6, out_qsize 0\n",
      "2020-07-02 13:54:58,309 : INFO : EPOCH 9 - PROGRESS: at 9.66% examples, 489280 words/s, in_qsize 5, out_qsize 0\n",
      "2020-07-02 13:54:59,317 : INFO : EPOCH 9 - PROGRESS: at 10.61% examples, 493656 words/s, in_qsize 6, out_qsize 0\n",
      "2020-07-02 13:55:00,322 : INFO : EPOCH 9 - PROGRESS: at 11.57% examples, 497522 words/s, in_qsize 6, out_qsize 0\n",
      "2020-07-02 13:55:01,332 : INFO : EPOCH 9 - PROGRESS: at 12.53% examples, 500694 words/s, in_qsize 4, out_qsize 1\n",
      "2020-07-02 13:55:02,351 : INFO : EPOCH 9 - PROGRESS: at 13.49% examples, 503780 words/s, in_qsize 6, out_qsize 0\n",
      "2020-07-02 13:55:03,368 : INFO : EPOCH 9 - PROGRESS: at 14.46% examples, 506610 words/s, in_qsize 5, out_qsize 0\n",
      "2020-07-02 13:55:04,373 : INFO : EPOCH 9 - PROGRESS: at 15.41% examples, 508839 words/s, in_qsize 5, out_qsize 0\n",
      "2020-07-02 13:55:05,386 : INFO : EPOCH 9 - PROGRESS: at 16.36% examples, 510607 words/s, in_qsize 6, out_qsize 0\n",
      "2020-07-02 13:55:06,399 : INFO : EPOCH 9 - PROGRESS: at 17.33% examples, 512215 words/s, in_qsize 6, out_qsize 0\n",
      "2020-07-02 13:55:07,407 : INFO : EPOCH 9 - PROGRESS: at 18.28% examples, 513720 words/s, in_qsize 6, out_qsize 0\n",
      "2020-07-02 13:55:08,419 : INFO : EPOCH 9 - PROGRESS: at 19.24% examples, 515441 words/s, in_qsize 6, out_qsize 0\n",
      "2020-07-02 13:55:09,440 : INFO : EPOCH 9 - PROGRESS: at 20.22% examples, 516875 words/s, in_qsize 6, out_qsize 0\n",
      "2020-07-02 13:55:10,442 : INFO : EPOCH 9 - PROGRESS: at 21.17% examples, 518143 words/s, in_qsize 6, out_qsize 0\n",
      "2020-07-02 13:55:11,455 : INFO : EPOCH 9 - PROGRESS: at 22.13% examples, 519105 words/s, in_qsize 6, out_qsize 0\n",
      "2020-07-02 13:55:12,469 : INFO : EPOCH 9 - PROGRESS: at 23.09% examples, 520328 words/s, in_qsize 6, out_qsize 0\n",
      "2020-07-02 13:55:13,471 : INFO : EPOCH 9 - PROGRESS: at 24.04% examples, 521327 words/s, in_qsize 5, out_qsize 0\n",
      "2020-07-02 13:55:14,472 : INFO : EPOCH 9 - PROGRESS: at 24.98% examples, 521914 words/s, in_qsize 6, out_qsize 0\n",
      "2020-07-02 13:55:15,474 : INFO : EPOCH 9 - PROGRESS: at 25.93% examples, 522780 words/s, in_qsize 6, out_qsize 0\n",
      "2020-07-02 13:55:16,476 : INFO : EPOCH 9 - PROGRESS: at 26.88% examples, 523599 words/s, in_qsize 6, out_qsize 0\n",
      "2020-07-02 13:55:17,485 : INFO : EPOCH 9 - PROGRESS: at 27.86% examples, 524910 words/s, in_qsize 6, out_qsize 0\n",
      "2020-07-02 13:55:18,505 : INFO : EPOCH 9 - PROGRESS: at 28.82% examples, 525621 words/s, in_qsize 5, out_qsize 0\n",
      "2020-07-02 13:55:19,512 : INFO : EPOCH 9 - PROGRESS: at 29.78% examples, 526509 words/s, in_qsize 5, out_qsize 0\n",
      "2020-07-02 13:55:20,523 : INFO : EPOCH 9 - PROGRESS: at 30.73% examples, 526699 words/s, in_qsize 6, out_qsize 0\n",
      "2020-07-02 13:55:21,524 : INFO : EPOCH 9 - PROGRESS: at 31.68% examples, 527292 words/s, in_qsize 6, out_qsize 0\n",
      "2020-07-02 13:55:22,534 : INFO : EPOCH 9 - PROGRESS: at 32.65% examples, 528014 words/s, in_qsize 6, out_qsize 0\n",
      "2020-07-02 13:55:23,547 : INFO : EPOCH 9 - PROGRESS: at 33.61% examples, 528639 words/s, in_qsize 6, out_qsize 0\n",
      "2020-07-02 13:55:24,561 : INFO : EPOCH 9 - PROGRESS: at 34.57% examples, 529227 words/s, in_qsize 6, out_qsize 0\n",
      "2020-07-02 13:55:25,571 : INFO : EPOCH 9 - PROGRESS: at 35.52% examples, 529583 words/s, in_qsize 6, out_qsize 0\n",
      "2020-07-02 13:55:26,579 : INFO : EPOCH 9 - PROGRESS: at 36.48% examples, 530184 words/s, in_qsize 6, out_qsize 0\n",
      "2020-07-02 13:55:27,605 : INFO : EPOCH 9 - PROGRESS: at 37.46% examples, 530792 words/s, in_qsize 6, out_qsize 0\n",
      "2020-07-02 13:55:28,629 : INFO : EPOCH 9 - PROGRESS: at 38.43% examples, 531384 words/s, in_qsize 6, out_qsize 0\n",
      "2020-07-02 13:55:29,631 : INFO : EPOCH 9 - PROGRESS: at 39.39% examples, 531968 words/s, in_qsize 5, out_qsize 0\n",
      "2020-07-02 13:55:30,642 : INFO : EPOCH 9 - PROGRESS: at 40.34% examples, 532204 words/s, in_qsize 6, out_qsize 0\n",
      "2020-07-02 13:55:31,654 : INFO : EPOCH 9 - PROGRESS: at 41.30% examples, 532655 words/s, in_qsize 5, out_qsize 0\n",
      "2020-07-02 13:55:32,660 : INFO : EPOCH 9 - PROGRESS: at 42.25% examples, 533109 words/s, in_qsize 5, out_qsize 0\n",
      "2020-07-02 13:55:33,664 : INFO : EPOCH 9 - PROGRESS: at 43.20% examples, 533384 words/s, in_qsize 5, out_qsize 0\n",
      "2020-07-02 13:55:34,665 : INFO : EPOCH 9 - PROGRESS: at 44.15% examples, 533694 words/s, in_qsize 5, out_qsize 0\n",
      "2020-07-02 13:55:35,686 : INFO : EPOCH 9 - PROGRESS: at 45.10% examples, 533955 words/s, in_qsize 6, out_qsize 0\n",
      "2020-07-02 13:55:36,694 : INFO : EPOCH 9 - PROGRESS: at 46.09% examples, 534562 words/s, in_qsize 5, out_qsize 0\n",
      "2020-07-02 13:55:37,702 : INFO : EPOCH 9 - PROGRESS: at 47.05% examples, 534736 words/s, in_qsize 5, out_qsize 0\n",
      "2020-07-02 13:55:38,722 : INFO : EPOCH 9 - PROGRESS: at 48.00% examples, 534784 words/s, in_qsize 6, out_qsize 0\n",
      "2020-07-02 13:55:39,749 : INFO : EPOCH 9 - PROGRESS: at 48.98% examples, 534950 words/s, in_qsize 6, out_qsize 0\n",
      "2020-07-02 13:55:40,750 : INFO : EPOCH 9 - PROGRESS: at 49.96% examples, 535371 words/s, in_qsize 6, out_qsize 0\n",
      "2020-07-02 13:55:41,754 : INFO : EPOCH 9 - PROGRESS: at 50.91% examples, 535742 words/s, in_qsize 5, out_qsize 0\n",
      "2020-07-02 13:55:42,755 : INFO : EPOCH 9 - PROGRESS: at 51.85% examples, 535780 words/s, in_qsize 6, out_qsize 0\n",
      "2020-07-02 13:55:43,758 : INFO : EPOCH 9 - PROGRESS: at 52.80% examples, 535962 words/s, in_qsize 6, out_qsize 0\n",
      "2020-07-02 13:55:44,759 : INFO : EPOCH 9 - PROGRESS: at 53.75% examples, 536172 words/s, in_qsize 5, out_qsize 0\n",
      "2020-07-02 13:55:45,762 : INFO : EPOCH 9 - PROGRESS: at 54.70% examples, 536340 words/s, in_qsize 6, out_qsize 0\n",
      "2020-07-02 13:55:46,765 : INFO : EPOCH 9 - PROGRESS: at 55.66% examples, 536681 words/s, in_qsize 5, out_qsize 0\n",
      "2020-07-02 13:55:47,785 : INFO : EPOCH 9 - PROGRESS: at 56.62% examples, 536850 words/s, in_qsize 6, out_qsize 0\n",
      "2020-07-02 13:55:48,805 : INFO : EPOCH 9 - PROGRESS: at 57.58% examples, 537017 words/s, in_qsize 5, out_qsize 0\n",
      "2020-07-02 13:55:49,821 : INFO : EPOCH 9 - PROGRESS: at 58.54% examples, 537052 words/s, in_qsize 6, out_qsize 0\n",
      "2020-07-02 13:55:50,825 : INFO : EPOCH 9 - PROGRESS: at 59.51% examples, 537348 words/s, in_qsize 5, out_qsize 0\n",
      "2020-07-02 13:55:51,846 : INFO : EPOCH 9 - PROGRESS: at 60.46% examples, 537501 words/s, in_qsize 5, out_qsize 0\n",
      "2020-07-02 13:55:52,854 : INFO : EPOCH 9 - PROGRESS: at 61.43% examples, 537750 words/s, in_qsize 6, out_qsize 0\n",
      "2020-07-02 13:55:53,879 : INFO : EPOCH 9 - PROGRESS: at 62.39% examples, 537847 words/s, in_qsize 6, out_qsize 0\n",
      "2020-07-02 13:55:54,884 : INFO : EPOCH 9 - PROGRESS: at 63.35% examples, 537958 words/s, in_qsize 5, out_qsize 0\n",
      "2020-07-02 13:55:55,897 : INFO : EPOCH 9 - PROGRESS: at 64.30% examples, 537993 words/s, in_qsize 6, out_qsize 0\n",
      "2020-07-02 13:55:56,900 : INFO : EPOCH 9 - PROGRESS: at 65.26% examples, 538117 words/s, in_qsize 5, out_qsize 0\n",
      "2020-07-02 13:55:57,902 : INFO : EPOCH 9 - PROGRESS: at 66.21% examples, 538239 words/s, in_qsize 5, out_qsize 0\n",
      "2020-07-02 13:55:58,918 : INFO : EPOCH 9 - PROGRESS: at 67.17% examples, 538390 words/s, in_qsize 5, out_qsize 0\n",
      "2020-07-02 13:55:59,919 : INFO : EPOCH 9 - PROGRESS: at 68.12% examples, 538511 words/s, in_qsize 5, out_qsize 0\n",
      "2020-07-02 13:56:00,934 : INFO : EPOCH 9 - PROGRESS: at 69.06% examples, 538521 words/s, in_qsize 5, out_qsize 0\n",
      "2020-07-02 13:56:01,955 : INFO : EPOCH 9 - PROGRESS: at 70.03% examples, 538768 words/s, in_qsize 6, out_qsize 0\n",
      "2020-07-02 13:56:02,966 : INFO : EPOCH 9 - PROGRESS: at 70.99% examples, 538805 words/s, in_qsize 6, out_qsize 0\n",
      "2020-07-02 13:56:03,984 : INFO : EPOCH 9 - PROGRESS: at 71.95% examples, 538924 words/s, in_qsize 5, out_qsize 0\n",
      "2020-07-02 13:56:04,990 : INFO : EPOCH 9 - PROGRESS: at 72.89% examples, 539000 words/s, in_qsize 6, out_qsize 0\n",
      "2020-07-02 13:56:05,991 : INFO : EPOCH 9 - PROGRESS: at 73.85% examples, 539226 words/s, in_qsize 5, out_qsize 0\n",
      "2020-07-02 13:56:06,992 : INFO : EPOCH 9 - PROGRESS: at 74.80% examples, 539328 words/s, in_qsize 5, out_qsize 0\n",
      "2020-07-02 13:56:07,995 : INFO : EPOCH 9 - PROGRESS: at 75.75% examples, 539416 words/s, in_qsize 6, out_qsize 0\n",
      "2020-07-02 13:56:09,006 : INFO : EPOCH 9 - PROGRESS: at 76.70% examples, 539456 words/s, in_qsize 6, out_qsize 0\n",
      "2020-07-02 13:56:10,007 : INFO : EPOCH 9 - PROGRESS: at 77.67% examples, 539673 words/s, in_qsize 6, out_qsize 0\n",
      "2020-07-02 13:56:11,009 : INFO : EPOCH 9 - PROGRESS: at 78.61% examples, 539753 words/s, in_qsize 6, out_qsize 0\n",
      "2020-07-02 13:56:12,029 : INFO : EPOCH 9 - PROGRESS: at 79.59% examples, 539964 words/s, in_qsize 5, out_qsize 0\n",
      "2020-07-02 13:56:13,031 : INFO : EPOCH 9 - PROGRESS: at 80.56% examples, 540158 words/s, in_qsize 6, out_qsize 0\n",
      "2020-07-02 13:56:14,035 : INFO : EPOCH 9 - PROGRESS: at 81.51% examples, 540339 words/s, in_qsize 6, out_qsize 0\n",
      "2020-07-02 13:56:15,047 : INFO : EPOCH 9 - PROGRESS: at 82.47% examples, 540357 words/s, in_qsize 5, out_qsize 0\n",
      "2020-07-02 13:56:16,052 : INFO : EPOCH 9 - PROGRESS: at 83.43% examples, 540413 words/s, in_qsize 5, out_qsize 0\n",
      "2020-07-02 13:56:17,057 : INFO : EPOCH 9 - PROGRESS: at 84.40% examples, 540577 words/s, in_qsize 5, out_qsize 0\n",
      "2020-07-02 13:56:18,075 : INFO : EPOCH 9 - PROGRESS: at 85.36% examples, 540658 words/s, in_qsize 6, out_qsize 0\n",
      "2020-07-02 13:56:19,084 : INFO : EPOCH 9 - PROGRESS: at 86.34% examples, 540805 words/s, in_qsize 6, out_qsize 0\n",
      "2020-07-02 13:56:20,091 : INFO : EPOCH 9 - PROGRESS: at 87.28% examples, 540836 words/s, in_qsize 6, out_qsize 0\n",
      "2020-07-02 13:56:21,106 : INFO : EPOCH 9 - PROGRESS: at 88.25% examples, 540940 words/s, in_qsize 6, out_qsize 0\n",
      "2020-07-02 13:56:22,109 : INFO : EPOCH 9 - PROGRESS: at 89.21% examples, 541100 words/s, in_qsize 5, out_qsize 0\n",
      "2020-07-02 13:56:23,113 : INFO : EPOCH 9 - PROGRESS: at 90.17% examples, 541255 words/s, in_qsize 6, out_qsize 0\n",
      "2020-07-02 13:56:24,116 : INFO : EPOCH 9 - PROGRESS: at 91.13% examples, 541413 words/s, in_qsize 5, out_qsize 0\n",
      "2020-07-02 13:56:25,117 : INFO : EPOCH 9 - PROGRESS: at 92.09% examples, 541475 words/s, in_qsize 5, out_qsize 0\n",
      "2020-07-02 13:56:26,139 : INFO : EPOCH 9 - PROGRESS: at 93.05% examples, 541516 words/s, in_qsize 6, out_qsize 0\n",
      "2020-07-02 13:56:27,163 : INFO : EPOCH 9 - PROGRESS: at 94.02% examples, 541650 words/s, in_qsize 6, out_qsize 0\n",
      "2020-07-02 13:56:28,182 : INFO : EPOCH 9 - PROGRESS: at 94.98% examples, 541716 words/s, in_qsize 6, out_qsize 0\n",
      "2020-07-02 13:56:29,200 : INFO : EPOCH 9 - PROGRESS: at 95.95% examples, 541683 words/s, in_qsize 6, out_qsize 0\n",
      "2020-07-02 13:56:30,201 : INFO : EPOCH 9 - PROGRESS: at 96.91% examples, 541644 words/s, in_qsize 6, out_qsize 0\n",
      "2020-07-02 13:56:31,215 : INFO : EPOCH 9 - PROGRESS: at 97.88% examples, 541732 words/s, in_qsize 5, out_qsize 0\n",
      "2020-07-02 13:56:32,228 : INFO : EPOCH 9 - PROGRESS: at 98.83% examples, 541820 words/s, in_qsize 6, out_qsize 0\n",
      "2020-07-02 13:56:33,233 : INFO : EPOCH 9 - PROGRESS: at 99.78% examples, 541855 words/s, in_qsize 5, out_qsize 0\n",
      "2020-07-02 13:56:33,472 : INFO : worker thread finished; awaiting finish of 2 more threads\n",
      "2020-07-02 13:56:33,475 : INFO : worker thread finished; awaiting finish of 1 more threads\n",
      "2020-07-02 13:56:33,479 : INFO : worker thread finished; awaiting finish of 0 more threads\n",
      "2020-07-02 13:56:33,480 : INFO : EPOCH - 9 : training on 56687912 raw words (57752707 effective words) took 106.6s, 541786 effective words/s\n",
      "2020-07-02 13:56:34,744 : INFO : EPOCH 10 - PROGRESS: at 0.02% examples, 8024 words/s, in_qsize 5, out_qsize 0\n",
      "2020-07-02 13:56:35,753 : INFO : EPOCH 10 - PROGRESS: at 1.01% examples, 254497 words/s, in_qsize 6, out_qsize 0\n",
      "2020-07-02 13:56:36,766 : INFO : EPOCH 10 - PROGRESS: at 1.97% examples, 345778 words/s, in_qsize 6, out_qsize 0\n",
      "2020-07-02 13:56:37,772 : INFO : EPOCH 10 - PROGRESS: at 2.94% examples, 394907 words/s, in_qsize 5, out_qsize 0\n",
      "2020-07-02 13:56:38,774 : INFO : EPOCH 10 - PROGRESS: at 3.89% examples, 423576 words/s, in_qsize 6, out_qsize 0\n",
      "2020-07-02 13:56:39,783 : INFO : EPOCH 10 - PROGRESS: at 4.85% examples, 444324 words/s, in_qsize 6, out_qsize 0\n",
      "2020-07-02 13:56:40,809 : INFO : EPOCH 10 - PROGRESS: at 5.82% examples, 458174 words/s, in_qsize 6, out_qsize 0\n",
      "2020-07-02 13:56:41,812 : INFO : EPOCH 10 - PROGRESS: at 6.75% examples, 468795 words/s, in_qsize 5, out_qsize 0\n",
      "2020-07-02 13:56:42,815 : INFO : EPOCH 10 - PROGRESS: at 7.70% examples, 476095 words/s, in_qsize 5, out_qsize 0\n",
      "2020-07-02 13:56:43,828 : INFO : EPOCH 10 - PROGRESS: at 8.63% examples, 481422 words/s, in_qsize 6, out_qsize 0\n",
      "2020-07-02 13:56:44,833 : INFO : EPOCH 10 - PROGRESS: at 9.61% examples, 487999 words/s, in_qsize 5, out_qsize 0\n",
      "2020-07-02 13:56:45,834 : INFO : EPOCH 10 - PROGRESS: at 10.55% examples, 492800 words/s, in_qsize 5, out_qsize 0\n",
      "2020-07-02 13:56:46,847 : INFO : EPOCH 10 - PROGRESS: at 11.50% examples, 496396 words/s, in_qsize 6, out_qsize 0\n",
      "2020-07-02 13:56:47,857 : INFO : EPOCH 10 - PROGRESS: at 12.43% examples, 498949 words/s, in_qsize 5, out_qsize 0\n",
      "2020-07-02 13:56:48,876 : INFO : EPOCH 10 - PROGRESS: at 13.31% examples, 498911 words/s, in_qsize 5, out_qsize 0\n",
      "2020-07-02 13:56:49,887 : INFO : EPOCH 10 - PROGRESS: at 14.21% examples, 499688 words/s, in_qsize 5, out_qsize 0\n",
      "2020-07-02 13:56:50,900 : INFO : EPOCH 10 - PROGRESS: at 15.12% examples, 500357 words/s, in_qsize 5, out_qsize 0\n",
      "2020-07-02 13:56:51,908 : INFO : EPOCH 10 - PROGRESS: at 16.06% examples, 502705 words/s, in_qsize 6, out_qsize 0\n",
      "2020-07-02 13:56:52,917 : INFO : EPOCH 10 - PROGRESS: at 17.02% examples, 505323 words/s, in_qsize 5, out_qsize 0\n",
      "2020-07-02 13:56:53,923 : INFO : EPOCH 10 - PROGRESS: at 17.94% examples, 506747 words/s, in_qsize 6, out_qsize 0\n",
      "2020-07-02 13:56:54,937 : INFO : EPOCH 10 - PROGRESS: at 18.90% examples, 508777 words/s, in_qsize 6, out_qsize 0\n",
      "2020-07-02 13:56:55,948 : INFO : EPOCH 10 - PROGRESS: at 19.82% examples, 509831 words/s, in_qsize 6, out_qsize 0\n",
      "2020-07-02 13:56:56,964 : INFO : EPOCH 10 - PROGRESS: at 20.78% examples, 511503 words/s, in_qsize 5, out_qsize 0\n",
      "2020-07-02 13:56:57,972 : INFO : EPOCH 10 - PROGRESS: at 21.72% examples, 512832 words/s, in_qsize 5, out_qsize 0\n",
      "2020-07-02 13:56:58,990 : INFO : EPOCH 10 - PROGRESS: at 22.67% examples, 513850 words/s, in_qsize 5, out_qsize 0\n",
      "2020-07-02 13:57:00,013 : INFO : EPOCH 10 - PROGRESS: at 23.62% examples, 514727 words/s, in_qsize 6, out_qsize 0\n",
      "2020-07-02 13:57:01,022 : INFO : EPOCH 10 - PROGRESS: at 24.60% examples, 516113 words/s, in_qsize 5, out_qsize 0\n",
      "2020-07-02 13:57:02,041 : INFO : EPOCH 10 - PROGRESS: at 25.55% examples, 516869 words/s, in_qsize 6, out_qsize 0\n",
      "2020-07-02 13:57:03,051 : INFO : EPOCH 10 - PROGRESS: at 26.49% examples, 517759 words/s, in_qsize 5, out_qsize 0\n",
      "2020-07-02 13:57:04,069 : INFO : EPOCH 10 - PROGRESS: at 27.44% examples, 518439 words/s, in_qsize 5, out_qsize 0\n",
      "2020-07-02 13:57:05,083 : INFO : EPOCH 10 - PROGRESS: at 28.40% examples, 519153 words/s, in_qsize 5, out_qsize 0\n",
      "2020-07-02 13:57:06,089 : INFO : EPOCH 10 - PROGRESS: at 29.36% examples, 519934 words/s, in_qsize 5, out_qsize 0\n",
      "2020-07-02 13:57:07,097 : INFO : EPOCH 10 - PROGRESS: at 30.31% examples, 520657 words/s, in_qsize 5, out_qsize 0\n",
      "2020-07-02 13:57:08,101 : INFO : EPOCH 10 - PROGRESS: at 31.24% examples, 521075 words/s, in_qsize 6, out_qsize 0\n",
      "2020-07-02 13:57:09,120 : INFO : EPOCH 10 - PROGRESS: at 32.19% examples, 521813 words/s, in_qsize 6, out_qsize 0\n",
      "2020-07-02 13:57:10,127 : INFO : EPOCH 10 - PROGRESS: at 33.14% examples, 522430 words/s, in_qsize 5, out_qsize 0\n",
      "2020-07-02 13:57:11,145 : INFO : EPOCH 10 - PROGRESS: at 34.09% examples, 522847 words/s, in_qsize 5, out_qsize 0\n",
      "2020-07-02 13:57:12,146 : INFO : EPOCH 10 - PROGRESS: at 35.03% examples, 523464 words/s, in_qsize 5, out_qsize 0\n",
      "2020-07-02 13:57:13,155 : INFO : EPOCH 10 - PROGRESS: at 35.98% examples, 524202 words/s, in_qsize 6, out_qsize 0\n",
      "2020-07-02 13:57:14,158 : INFO : EPOCH 10 - PROGRESS: at 36.91% examples, 524485 words/s, in_qsize 6, out_qsize 0\n",
      "2020-07-02 13:57:15,164 : INFO : EPOCH 10 - PROGRESS: at 37.87% examples, 524977 words/s, in_qsize 5, out_qsize 0\n",
      "2020-07-02 13:57:16,181 : INFO : EPOCH 10 - PROGRESS: at 38.83% examples, 525316 words/s, in_qsize 6, out_qsize 0\n",
      "2020-07-02 13:57:17,184 : INFO : EPOCH 10 - PROGRESS: at 39.78% examples, 525795 words/s, in_qsize 5, out_qsize 0\n",
      "2020-07-02 13:57:18,193 : INFO : EPOCH 10 - PROGRESS: at 40.71% examples, 525969 words/s, in_qsize 5, out_qsize 1\n",
      "2020-07-02 13:57:19,200 : INFO : EPOCH 10 - PROGRESS: at 41.66% examples, 526377 words/s, in_qsize 5, out_qsize 0\n",
      "2020-07-02 13:57:20,207 : INFO : EPOCH 10 - PROGRESS: at 42.62% examples, 526765 words/s, in_qsize 5, out_qsize 0\n",
      "2020-07-02 13:57:21,228 : INFO : EPOCH 10 - PROGRESS: at 43.58% examples, 527180 words/s, in_qsize 5, out_qsize 0\n",
      "2020-07-02 13:57:22,231 : INFO : EPOCH 10 - PROGRESS: at 44.53% examples, 527582 words/s, in_qsize 5, out_qsize 0\n",
      "2020-07-02 13:57:23,245 : INFO : EPOCH 10 - PROGRESS: at 45.48% examples, 527835 words/s, in_qsize 6, out_qsize 0\n",
      "2020-07-02 13:57:24,278 : INFO : EPOCH 10 - PROGRESS: at 46.46% examples, 528080 words/s, in_qsize 5, out_qsize 0\n",
      "2020-07-02 13:57:25,286 : INFO : EPOCH 10 - PROGRESS: at 47.41% examples, 528387 words/s, in_qsize 5, out_qsize 0\n",
      "2020-07-02 13:57:26,289 : INFO : EPOCH 10 - PROGRESS: at 48.35% examples, 528544 words/s, in_qsize 5, out_qsize 0\n",
      "2020-07-02 13:57:27,297 : INFO : EPOCH 10 - PROGRESS: at 49.29% examples, 528828 words/s, in_qsize 6, out_qsize 0\n",
      "2020-07-02 13:57:28,317 : INFO : EPOCH 10 - PROGRESS: at 50.24% examples, 528980 words/s, in_qsize 6, out_qsize 0\n",
      "2020-07-02 13:57:29,339 : INFO : EPOCH 10 - PROGRESS: at 51.21% examples, 529296 words/s, in_qsize 5, out_qsize 0\n",
      "2020-07-02 13:57:30,374 : INFO : EPOCH 10 - PROGRESS: at 52.16% examples, 529480 words/s, in_qsize 6, out_qsize 0\n",
      "2020-07-02 13:57:31,386 : INFO : EPOCH 10 - PROGRESS: at 53.12% examples, 529859 words/s, in_qsize 5, out_qsize 0\n",
      "2020-07-02 13:57:32,388 : INFO : EPOCH 10 - PROGRESS: at 54.07% examples, 530146 words/s, in_qsize 5, out_qsize 0\n",
      "2020-07-02 13:57:33,408 : INFO : EPOCH 10 - PROGRESS: at 55.02% examples, 530249 words/s, in_qsize 6, out_qsize 0\n",
      "2020-07-02 13:57:34,423 : INFO : EPOCH 10 - PROGRESS: at 55.97% examples, 530411 words/s, in_qsize 5, out_qsize 0\n",
      "2020-07-02 13:57:35,431 : INFO : EPOCH 10 - PROGRESS: at 56.92% examples, 530623 words/s, in_qsize 5, out_qsize 0\n",
      "2020-07-02 13:57:36,445 : INFO : EPOCH 10 - PROGRESS: at 57.87% examples, 530773 words/s, in_qsize 6, out_qsize 0\n",
      "2020-07-02 13:57:37,459 : INFO : EPOCH 10 - PROGRESS: at 58.82% examples, 530924 words/s, in_qsize 6, out_qsize 0\n",
      "2020-07-02 13:57:38,478 : INFO : EPOCH 10 - PROGRESS: at 59.78% examples, 531184 words/s, in_qsize 5, out_qsize 0\n",
      "2020-07-02 13:57:39,494 : INFO : EPOCH 10 - PROGRESS: at 60.73% examples, 531313 words/s, in_qsize 6, out_qsize 0\n",
      "2020-07-02 13:57:40,500 : INFO : EPOCH 10 - PROGRESS: at 61.67% examples, 531508 words/s, in_qsize 5, out_qsize 0\n",
      "2020-07-02 13:57:41,513 : INFO : EPOCH 10 - PROGRESS: at 62.64% examples, 531940 words/s, in_qsize 5, out_qsize 0\n",
      "2020-07-02 13:57:42,528 : INFO : EPOCH 10 - PROGRESS: at 63.60% examples, 532190 words/s, in_qsize 5, out_qsize 0\n",
      "2020-07-02 13:57:43,535 : INFO : EPOCH 10 - PROGRESS: at 64.54% examples, 532357 words/s, in_qsize 5, out_qsize 0\n",
      "2020-07-02 13:57:44,557 : INFO : EPOCH 10 - PROGRESS: at 65.51% examples, 532416 words/s, in_qsize 5, out_qsize 0\n",
      "2020-07-02 13:57:45,589 : INFO : EPOCH 10 - PROGRESS: at 66.47% examples, 532397 words/s, in_qsize 6, out_qsize 0\n",
      "2020-07-02 13:57:46,602 : INFO : EPOCH 10 - PROGRESS: at 67.43% examples, 532517 words/s, in_qsize 6, out_qsize 0\n",
      "2020-07-02 13:57:47,626 : INFO : EPOCH 10 - PROGRESS: at 68.37% examples, 532685 words/s, in_qsize 6, out_qsize 0\n",
      "2020-07-02 13:57:48,635 : INFO : EPOCH 10 - PROGRESS: at 69.33% examples, 532959 words/s, in_qsize 6, out_qsize 0\n",
      "2020-07-02 13:57:49,653 : INFO : EPOCH 10 - PROGRESS: at 70.30% examples, 533159 words/s, in_qsize 6, out_qsize 0\n",
      "2020-07-02 13:57:50,657 : INFO : EPOCH 10 - PROGRESS: at 71.25% examples, 533323 words/s, in_qsize 5, out_qsize 0\n",
      "2020-07-02 13:57:51,681 : INFO : EPOCH 10 - PROGRESS: at 72.21% examples, 533472 words/s, in_qsize 5, out_qsize 0\n",
      "2020-07-02 13:57:52,699 : INFO : EPOCH 10 - PROGRESS: at 73.15% examples, 533533 words/s, in_qsize 6, out_qsize 0\n",
      "2020-07-02 13:57:53,711 : INFO : EPOCH 10 - PROGRESS: at 74.11% examples, 533638 words/s, in_qsize 6, out_qsize 0\n",
      "2020-07-02 13:57:54,714 : INFO : EPOCH 10 - PROGRESS: at 75.06% examples, 533791 words/s, in_qsize 5, out_qsize 0\n",
      "2020-07-02 13:57:55,721 : INFO : EPOCH 10 - PROGRESS: at 76.01% examples, 533921 words/s, in_qsize 5, out_qsize 0\n",
      "2020-07-02 13:57:56,732 : INFO : EPOCH 10 - PROGRESS: at 76.98% examples, 534140 words/s, in_qsize 6, out_qsize 0\n",
      "2020-07-02 13:57:57,755 : INFO : EPOCH 10 - PROGRESS: at 77.93% examples, 534270 words/s, in_qsize 5, out_qsize 0\n",
      "2020-07-02 13:57:58,765 : INFO : EPOCH 10 - PROGRESS: at 78.88% examples, 534366 words/s, in_qsize 5, out_qsize 0\n",
      "2020-07-02 13:57:59,788 : INFO : EPOCH 10 - PROGRESS: at 79.83% examples, 534382 words/s, in_qsize 6, out_qsize 0\n",
      "2020-07-02 13:58:00,800 : INFO : EPOCH 10 - PROGRESS: at 80.79% examples, 534461 words/s, in_qsize 5, out_qsize 0\n",
      "2020-07-02 13:58:01,807 : INFO : EPOCH 10 - PROGRESS: at 81.73% examples, 534566 words/s, in_qsize 5, out_qsize 0\n",
      "2020-07-02 13:58:02,823 : INFO : EPOCH 10 - PROGRESS: at 82.68% examples, 534614 words/s, in_qsize 5, out_qsize 0\n",
      "2020-07-02 13:58:03,841 : INFO : EPOCH 10 - PROGRESS: at 83.63% examples, 534661 words/s, in_qsize 6, out_qsize 0\n",
      "2020-07-02 13:58:04,847 : INFO : EPOCH 10 - PROGRESS: at 84.57% examples, 534766 words/s, in_qsize 6, out_qsize 0\n",
      "2020-07-02 13:58:05,852 : INFO : EPOCH 10 - PROGRESS: at 85.51% examples, 534877 words/s, in_qsize 6, out_qsize 0\n",
      "2020-07-02 13:58:06,855 : INFO : EPOCH 10 - PROGRESS: at 86.45% examples, 534896 words/s, in_qsize 6, out_qsize 0\n",
      "2020-07-02 13:58:07,857 : INFO : EPOCH 10 - PROGRESS: at 87.40% examples, 535021 words/s, in_qsize 5, out_qsize 0\n",
      "2020-07-02 13:58:08,868 : INFO : EPOCH 10 - PROGRESS: at 88.35% examples, 535099 words/s, in_qsize 5, out_qsize 0\n",
      "2020-07-02 13:58:09,879 : INFO : EPOCH 10 - PROGRESS: at 89.31% examples, 535163 words/s, in_qsize 5, out_qsize 0\n",
      "2020-07-02 13:58:10,882 : INFO : EPOCH 10 - PROGRESS: at 90.25% examples, 535267 words/s, in_qsize 6, out_qsize 0\n",
      "2020-07-02 13:58:11,893 : INFO : EPOCH 10 - PROGRESS: at 91.21% examples, 535343 words/s, in_qsize 5, out_qsize 0\n",
      "2020-07-02 13:58:12,913 : INFO : EPOCH 10 - PROGRESS: at 92.16% examples, 535464 words/s, in_qsize 5, out_qsize 0\n",
      "2020-07-02 13:58:13,938 : INFO : EPOCH 10 - PROGRESS: at 93.12% examples, 535457 words/s, in_qsize 6, out_qsize 0\n",
      "2020-07-02 13:58:14,952 : INFO : EPOCH 10 - PROGRESS: at 94.07% examples, 535504 words/s, in_qsize 6, out_qsize 0\n",
      "2020-07-02 13:58:15,954 : INFO : EPOCH 10 - PROGRESS: at 95.01% examples, 535611 words/s, in_qsize 6, out_qsize 0\n",
      "2020-07-02 13:58:16,955 : INFO : EPOCH 10 - PROGRESS: at 95.98% examples, 535729 words/s, in_qsize 5, out_qsize 0\n",
      "2020-07-02 13:58:17,972 : INFO : EPOCH 10 - PROGRESS: at 96.93% examples, 535762 words/s, in_qsize 5, out_qsize 0\n",
      "2020-07-02 13:58:18,991 : INFO : EPOCH 10 - PROGRESS: at 97.89% examples, 535873 words/s, in_qsize 5, out_qsize 0\n",
      "2020-07-02 13:58:19,992 : INFO : EPOCH 10 - PROGRESS: at 98.83% examples, 535881 words/s, in_qsize 5, out_qsize 0\n",
      "2020-07-02 13:58:21,014 : INFO : EPOCH 10 - PROGRESS: at 99.78% examples, 535887 words/s, in_qsize 6, out_qsize 0\n",
      "2020-07-02 13:58:21,242 : INFO : worker thread finished; awaiting finish of 2 more threads\n",
      "2020-07-02 13:58:21,249 : INFO : worker thread finished; awaiting finish of 1 more threads\n",
      "2020-07-02 13:58:21,252 : INFO : worker thread finished; awaiting finish of 0 more threads\n",
      "2020-07-02 13:58:21,252 : INFO : EPOCH - 10 : training on 56687912 raw words (57752707 effective words) took 107.8s, 535881 effective words/s\n",
      "2020-07-02 13:58:21,253 : INFO : training on a 566879120 raw words (577527070 effective words) took 1083.8s, 532865 effective words/s\n"
     ]
    },
    {
     "name": "stdout",
     "output_type": "stream",
     "text": [
      "Time for [doc2vec dbow]: 0:21:36.138862\n",
      "Time for [3 - doc2vec model]: 0:21:36.138945\n"
     ]
    }
   ],
   "source": [
    "# 3. train doc2vec model\n",
    "with Timer(\"3 - doc2vec model\"):\n",
    "    model_dbow, _ = train_model(X_train, X_dev, workers=3, epochs=10)"
   ]
  },
  {
   "cell_type": "code",
   "execution_count": null,
   "metadata": {},
   "outputs": [],
   "source": [
    "# model_dbow"
   ]
  },
  {
   "cell_type": "code",
   "execution_count": 49,
   "metadata": {},
   "outputs": [
    {
     "name": "stderr",
     "output_type": "stream",
     "text": [
      "  0%|          | 0/633384 [00:00<?, ?it/s]"
     ]
    },
    {
     "name": "stdout",
     "output_type": "stream",
     "text": [
      "Start on [4 - vectorize arguments] ...\n"
     ]
    },
    {
     "name": "stderr",
     "output_type": "stream",
     "text": [
      "100%|██████████| 633384/633384 [44:01<00:00, 239.80it/s]  \n",
      "100%|██████████| 70376/70376 [04:55<00:00, 238.43it/s]"
     ]
    },
    {
     "name": "stdout",
     "output_type": "stream",
     "text": [
      "Time for [4 - vectorize arguments]: 0:48:56.543134\n"
     ]
    },
    {
     "name": "stderr",
     "output_type": "stream",
     "text": [
      "\n"
     ]
    }
   ],
   "source": [
    "# 4. vectorize arguments\n",
    "with Timer(\"4 - vectorize arguments\"):\n",
    "    X_train, X_dev = make_vectors(X_train, X_dev, model_dbow)\n",
    "    # X_train, X_dev = make_vectors(X_train, X_dev, model_dmm)\n",
    "    # X_train, X_dev = make_vectors(X_train, X_dev, model_concat)"
   ]
  },
  {
   "cell_type": "code",
   "execution_count": 50,
   "metadata": {},
   "outputs": [
    {
     "name": "stdout",
     "output_type": "stream",
     "text": [
      "Start on [2.1a - pickle] ...\n",
      "Time for [2.1a - pickle]: 0:00:28.621905\n"
     ]
    }
   ],
   "source": [
    "with Timer(\"2.1a - pickle\"):\n",
    "    X_train.to_pickle(str(fn_run_path / \"X_train.vecd.p\"))\n",
    "    X_dev.to_pickle(str(fn_run_path / \"X_dev.vecd.p\"))"
   ]
  },
  {
   "cell_type": "code",
   "execution_count": 51,
   "metadata": {},
   "outputs": [
    {
     "name": "stderr",
     "output_type": "stream",
     "text": [
      "  0%|          | 0/633384 [00:00<?, ?it/s]"
     ]
    },
    {
     "name": "stdout",
     "output_type": "stream",
     "text": [
      "Start on [5 - vector comparison of arguments] ...\n"
     ]
    },
    {
     "name": "stderr",
     "output_type": "stream",
     "text": [
      "100%|██████████| 633384/633384 [00:55<00:00, 11389.73it/s]\n",
      "100%|██████████| 70376/70376 [00:05<00:00, 12068.49it/s]\n"
     ]
    },
    {
     "name": "stdout",
     "output_type": "stream",
     "text": [
      "Time for [5 - vector comparison of arguments]: 0:01:02.177377\n"
     ]
    }
   ],
   "source": [
    "# 5. combine two argument vectors into a single one\n",
    "# - diff / concat / ...\n",
    "with Timer(\"5 - vector comparison of arguments\"):\n",
    "    X_train_diff, X_dev_diff = make_vector_comparison(X_train, X_dev, mode=\"concat\")\n",
    "    # X_train_diff, X_dev_diff = make_vector_comparison(X_train, X_dev, mode=\"diff\")\n",
    "\n",
    "X_train_ = X_train_diff\n",
    "X_dev_ = X_dev_diff"
   ]
  },
  {
   "cell_type": "code",
   "execution_count": 52,
   "metadata": {
    "collapsed": true,
    "jupyter": {
     "outputs_hidden": true
    }
   },
   "outputs": [
    {
     "name": "stdout",
     "output_type": "stream",
     "text": [
      "Start on [6 - SGD (train -> predict)] ...\n",
      "Start on [SGDClassifier fit] ...\n",
      "-- Epoch 1\n",
      "Norm: 4.17, NNZs: 600, Bias: 0.411851, T: 633384, Avg. loss: 1.559030\n",
      "Total training time: 0.76 seconds.\n",
      "-- Epoch 2\n",
      "Norm: 3.20, NNZs: 600, Bias: 0.231522, T: 1266768, Avg. loss: 1.037813\n",
      "Total training time: 1.53 seconds.\n",
      "-- Epoch 3\n",
      "Norm: 2.86, NNZs: 600, Bias: 0.155096, T: 1900152, Avg. loss: 1.019354\n",
      "Total training time: 2.31 seconds.\n",
      "-- Epoch 4\n",
      "Norm: 2.56, NNZs: 600, Bias: 0.063336, T: 2533536, Avg. loss: 1.012298\n",
      "Total training time: 3.10 seconds.\n",
      "-- Epoch 5\n",
      "Norm: 2.40, NNZs: 600, Bias: 0.192073, T: 3166920, Avg. loss: 1.009170\n",
      "Total training time: 3.88 seconds.\n",
      "-- Epoch 6\n",
      "Norm: 2.31, NNZs: 600, Bias: 0.091944, T: 3800304, Avg. loss: 1.006851\n",
      "Total training time: 4.68 seconds.\n",
      "-- Epoch 7\n",
      "Norm: 2.32, NNZs: 600, Bias: 0.172533, T: 4433688, Avg. loss: 1.006531\n",
      "Total training time: 5.47 seconds.\n",
      "-- Epoch 8\n",
      "Norm: 2.17, NNZs: 600, Bias: 0.056073, T: 5067072, Avg. loss: 1.005323\n",
      "Total training time: 6.26 seconds.\n",
      "-- Epoch 9\n",
      "Norm: 2.10, NNZs: 600, Bias: 0.072978, T: 5700456, Avg. loss: 1.003902\n",
      "Total training time: 7.05 seconds.\n",
      "-- Epoch 10\n",
      "Norm: 2.08, NNZs: 600, Bias: 0.175953, T: 6333840, Avg. loss: 1.003137\n",
      "Total training time: 7.84 seconds.\n",
      "-- Epoch 11\n",
      "Norm: 2.04, NNZs: 600, Bias: 0.075066, T: 6967224, Avg. loss: 1.003256\n",
      "Total training time: 8.64 seconds.\n",
      "-- Epoch 12\n",
      "Norm: 2.01, NNZs: 600, Bias: 0.204192, T: 7600608, Avg. loss: 1.002176\n",
      "Total training time: 9.44 seconds.\n",
      "-- Epoch 13\n",
      "Norm: 1.96, NNZs: 600, Bias: 0.155490, T: 8233992, Avg. loss: 1.001474\n",
      "Total training time: 10.23 seconds.\n",
      "-- Epoch 14\n",
      "Norm: 1.88, NNZs: 600, Bias: 0.096381, T: 8867376, Avg. loss: 1.000830\n",
      "Total training time: 11.02 seconds.\n",
      "Convergence after 14 epochs took 11.02 seconds\n",
      "Time for [SGDClassifier fit]: 0:00:11.711036\n",
      "Start on [SGDClassifier predict] ...\n",
      "Time for [SGDClassifier predict]: 0:00:00.206849\n",
      "Time for [6 - SGD (train -> predict)]: 0:00:11.918030\n",
      "Start on [7 - report] ...\n",
      "Confusion Matrix:\n",
      "[[26579  8645]\n",
      " [26768  8384]]\n",
      "\n",
      "CM: [26579  8645 26768  8384] \n",
      "[tn, fp, fn, tp]\n",
      "  accuracy: 0.497\n",
      " precision: 0.495\n",
      "    recall: 0.497\n",
      "  f1-score: 0.461\n",
      "\n",
      "Accuracy:  0.497 \n",
      "\n",
      "Report for [SGD]:\n",
      "              precision    recall  f1-score   support\n",
      "\n",
      "       False       0.50      0.75      0.60     35224\n",
      "        True       0.49      0.24      0.32     35152\n",
      "\n",
      "    accuracy                           0.50     70376\n",
      "   macro avg       0.50      0.50      0.46     70376\n",
      "weighted avg       0.50      0.50      0.46     70376\n",
      "\n",
      "{'macro': 0.461, 'micro': 0.497}\n",
      "Time for [7 - report]: 0:00:00.251150\n"
     ]
    }
   ],
   "source": [
    "# 6. train\n",
    "with Timer(\"6 - SGD (train -> predict)\"):\n",
    "    y_pred_svm = train_test_sgd(X_train_, y_train, X_dev_)\n",
    "\n",
    "# 7. Evaluate\n",
    "with Timer(\"7 - report\"):\n",
    "    print(report_training_results(y_dev, y_pred_svm, name=\"SGD\", heatmap=False))"
   ]
  },
  {
   "cell_type": "code",
   "execution_count": 60,
   "metadata": {
    "collapsed": true,
    "jupyter": {
     "outputs_hidden": true
    }
   },
   "outputs": [
    {
     "name": "stdout",
     "output_type": "stream",
     "text": [
      "Start on [7 - report] ...\n",
      "Confusion Matrix:\n",
      "[[26579  8645]\n",
      " [26768  8384]]\n",
      "\n",
      "CM: [26579  8645 26768  8384] \n",
      "[tn, fp, fn, tp]\n",
      "  accuracy: 0.497\n",
      " precision: 0.495\n",
      "    recall: 0.497\n",
      "  f1-score: 0.461\n",
      "\n",
      "Accuracy:  0.497 \n",
      "\n",
      "Report for [SGD]:\n",
      "              precision    recall  f1-score   support\n",
      "\n",
      "       False       0.50      0.75      0.60     35224\n",
      "        True       0.49      0.24      0.32     35152\n",
      "\n",
      "    accuracy                           0.50     70376\n",
      "   macro avg       0.50      0.50      0.46     70376\n",
      "weighted avg       0.50      0.50      0.46     70376\n",
      "\n",
      "{'macro': 0.461, 'micro': 0.497}\n",
      "Time for [7 - report]: 0:00:00.195444\n"
     ]
    }
   ],
   "source": [
    "with Timer(\"7 - report\"):\n",
    "    print(report_training_results(y_dev, y_pred_svm, name=\"SGD\", heatmap=False))"
   ]
  },
  {
   "cell_type": "markdown",
   "metadata": {},
   "source": [
    "#### CountVectors"
   ]
  },
  {
   "cell_type": "code",
   "execution_count": null,
   "metadata": {
    "ExecuteTime": {
     "end_time": "2020-01-20T14:03:19.728337Z",
     "start_time": "2020-01-20T13:36:39.303617Z"
    }
   },
   "outputs": [],
   "source": [
    "# 3. Extracting features - 1-3 grams lemma\n",
    "with Timer(\"3 - n-grams\"):\n",
    "    X_train_, X_dev_ = extract_n_grams_features(\n",
    "        X_train, X_dev, columns=['argument1_lemmas', 'argument2_lemmas'], idx=\"index\")"
   ]
  },
  {
   "cell_type": "code",
   "execution_count": null,
   "metadata": {},
   "outputs": [],
   "source": [
    "gn_ngrammed = fn_run_path / \"traindev_ngrammed.p\"\n",
    "\n",
    "with open(gn_ngrammed, \"wb\") as fp:\n",
    "    pickle.dump(X_train_, fp, protocol=pickle.HIGHEST_PROTOCOL)\n",
    "    pickle.dump(X_dev_, fp, protocol=pickle.HIGHEST_PROTOCOL)"
   ]
  },
  {
   "cell_type": "code",
   "execution_count": null,
   "metadata": {},
   "outputs": [],
   "source": [
    "gn_ngrammed = fn_run_path / \"traindev_ngrammed.p\"\n",
    "\n",
    "with open(gn_ngrammed, \"rb\") as fp:\n",
    "    X_train_ = pickle.load(fp)\n",
    "    X_dev_ = pickle.load(fp)"
   ]
  },
  {
   "cell_type": "code",
   "execution_count": 53,
   "metadata": {},
   "outputs": [
    {
     "data": {
      "text/plain": [
       "(array([-1.7788492, -1.6582426, -1.6126696, ...,  1.6479512,  1.725384 ,\n",
       "         1.8815424], dtype=float32),\n",
       " array([1, 1, 1, ..., 1, 1, 1]))"
      ]
     },
     "execution_count": 53,
     "metadata": {},
     "output_type": "execute_result"
    }
   ],
   "source": [
    "np.unique(X_dev_, return_counts=True)"
   ]
  },
  {
   "cell_type": "markdown",
   "metadata": {},
   "source": [
    "---"
   ]
  },
  {
   "cell_type": "markdown",
   "metadata": {},
   "source": [
    "### Train/evaluate with SVM/LogReg/SGD..."
   ]
  },
  {
   "cell_type": "code",
   "execution_count": 54,
   "metadata": {
    "ExecuteTime": {
     "end_time": "2020-01-20T14:03:19.728337Z",
     "start_time": "2020-01-20T13:36:39.303617Z"
    },
    "collapsed": true,
    "jupyter": {
     "outputs_hidden": true
    }
   },
   "outputs": [
    {
     "name": "stdout",
     "output_type": "stream",
     "text": [
      "Start on [4 - SGD (train -> predict)] ...\n",
      "Start on [SGDClassifier fit] ...\n",
      "-- Epoch 1\n",
      "Norm: 4.38, NNZs: 600, Bias: -0.218148, T: 633384, Avg. loss: 1.559159\n",
      "Total training time: 0.72 seconds.\n",
      "-- Epoch 2\n",
      "Norm: 3.23, NNZs: 600, Bias: 0.291832, T: 1266768, Avg. loss: 1.037206\n",
      "Total training time: 1.49 seconds.\n",
      "-- Epoch 3\n",
      "Norm: 2.91, NNZs: 600, Bias: -0.032162, T: 1900152, Avg. loss: 1.019691\n",
      "Total training time: 2.27 seconds.\n",
      "-- Epoch 4\n",
      "Norm: 2.56, NNZs: 600, Bias: 0.178311, T: 2533536, Avg. loss: 1.013435\n",
      "Total training time: 3.05 seconds.\n",
      "-- Epoch 5\n",
      "Norm: 2.44, NNZs: 600, Bias: 0.151984, T: 3166920, Avg. loss: 1.008937\n",
      "Total training time: 3.84 seconds.\n",
      "-- Epoch 6\n",
      "Norm: 2.27, NNZs: 600, Bias: 0.139428, T: 3800304, Avg. loss: 1.007717\n",
      "Total training time: 4.62 seconds.\n",
      "-- Epoch 7\n",
      "Norm: 2.17, NNZs: 600, Bias: 0.132747, T: 4433688, Avg. loss: 1.006616\n",
      "Total training time: 5.41 seconds.\n",
      "-- Epoch 8\n",
      "Norm: 2.09, NNZs: 600, Bias: 0.048333, T: 5067072, Avg. loss: 1.005274\n",
      "Total training time: 6.20 seconds.\n",
      "-- Epoch 9\n",
      "Norm: 2.13, NNZs: 600, Bias: 0.079125, T: 5700456, Avg. loss: 1.004090\n",
      "Total training time: 6.99 seconds.\n",
      "-- Epoch 10\n",
      "Norm: 2.10, NNZs: 600, Bias: 0.128373, T: 6333840, Avg. loss: 1.003590\n",
      "Total training time: 7.78 seconds.\n",
      "-- Epoch 11\n",
      "Norm: 2.05, NNZs: 600, Bias: 0.165890, T: 6967224, Avg. loss: 1.003067\n",
      "Total training time: 8.57 seconds.\n",
      "-- Epoch 12\n",
      "Norm: 2.00, NNZs: 600, Bias: 0.075171, T: 7600608, Avg. loss: 1.001362\n",
      "Total training time: 9.36 seconds.\n",
      "-- Epoch 13\n",
      "Norm: 2.00, NNZs: 600, Bias: 0.156239, T: 8233992, Avg. loss: 1.001682\n",
      "Total training time: 10.15 seconds.\n",
      "-- Epoch 14\n",
      "Norm: 2.00, NNZs: 600, Bias: 0.101299, T: 8867376, Avg. loss: 1.000528\n",
      "Total training time: 10.94 seconds.\n",
      "-- Epoch 15\n",
      "Norm: 1.84, NNZs: 600, Bias: 0.179358, T: 9500760, Avg. loss: 1.000089\n",
      "Total training time: 11.74 seconds.\n",
      "-- Epoch 16\n",
      "Norm: 2.01, NNZs: 600, Bias: 0.089178, T: 10134144, Avg. loss: 1.000179\n",
      "Total training time: 12.53 seconds.\n",
      "-- Epoch 17\n",
      "Norm: 1.97, NNZs: 600, Bias: 0.073644, T: 10767528, Avg. loss: 0.999601\n",
      "Total training time: 13.32 seconds.\n",
      "Convergence after 17 epochs took 13.32 seconds\n",
      "Time for [SGDClassifier fit]: 0:00:13.952342\n",
      "Start on [SGDClassifier predict] ...\n",
      "Time for [SGDClassifier predict]: 0:00:00.070776\n",
      "Time for [4 - SGD (train -> predict)]: 0:00:14.023383\n"
     ]
    }
   ],
   "source": [
    "# 4. train\n",
    "with Timer(\"4 - SGD (train -> predict)\"):\n",
    "    # y_pred = train_test_svm(X_train_, y_train, X_dev_)\n",
    "    #y_pred = train_test_logreg(X_train_, y_train, X_dev_)\n",
    "    y_pred = train_test_sgd(X_train_, y_train, X_dev_)"
   ]
  },
  {
   "cell_type": "code",
   "execution_count": 55,
   "metadata": {
    "ExecuteTime": {
     "end_time": "2020-01-20T14:03:19.728337Z",
     "start_time": "2020-01-20T13:36:39.303617Z"
    },
    "collapsed": true,
    "jupyter": {
     "outputs_hidden": true
    }
   },
   "outputs": [
    {
     "name": "stdout",
     "output_type": "stream",
     "text": [
      "Start on [5 - report] ...\n",
      "Confusion Matrix:\n",
      "[[27730  7494]\n",
      " [27906  7246]]\n",
      "\n",
      "CM: [27730  7494 27906  7246] \n",
      "[tn, fp, fn, tp]\n",
      "  accuracy: 0.497\n",
      " precision: 0.495\n",
      "    recall: 0.497\n",
      "  f1-score: 0.450\n"
     ]
    },
    {
     "data": {
      "image/png": "[encoded data removed]",
      "text/plain": [
       "<Figure size 648x432 with 1 Axes>"
      ]
     },
     "metadata": {
      "needs_background": "light"
     },
     "output_type": "display_data"
    },
    {
     "name": "stdout",
     "output_type": "stream",
     "text": [
      "\n",
      "Accuracy:  0.497 \n",
      "\n",
      "Report:\n",
      "              precision    recall  f1-score   support\n",
      "\n",
      "       False       0.50      0.79      0.61     35224\n",
      "        True       0.49      0.21      0.29     35152\n",
      "\n",
      "    accuracy                           0.50     70376\n",
      "   macro avg       0.50      0.50      0.45     70376\n",
      "weighted avg       0.50      0.50      0.45     70376\n",
      "\n",
      "Time for [5 - report]: 0:00:00.593957\n"
     ]
    }
   ],
   "source": [
    "# 5. Evaluate\n",
    "with Timer(\"5 - report\"):\n",
    "    report_training_results(y_dev, y_pred)"
   ]
  },
  {
   "cell_type": "code",
   "execution_count": null,
   "metadata": {},
   "outputs": [],
   "source": [
    "report_training_results(y_dev, y_pred, name=f\"Baseline - {run_name}\", heatmap=False)\n",
    "plot_confusion_matrix(y_dev, y_pred, labels=[0, 1], title=f\"{run_name} Baseline\", values_format=\"d\", cmap=\"Blues\", include_colorbar=False)\n",
    "plt.show()"
   ]
  },
  {
   "cell_type": "code",
   "execution_count": null,
   "metadata": {},
   "outputs": [],
   "source": [
    "with open(fn_run_path / \"eval_results_sgd.p\", \"wb\") as fp:\n",
    "    pickle.dump(y_dev, fp, protocol=pickle.HIGHEST_PROTOCOL)\n",
    "    pickle.dump(y_pred, fp, protocol=pickle.HIGHEST_PROTOCOL)"
   ]
  },
  {
   "cell_type": "code",
   "execution_count": null,
   "metadata": {},
   "outputs": [],
   "source": []
  },
  {
   "cell_type": "code",
   "execution_count": 56,
   "metadata": {
    "ExecuteTime": {
     "end_time": "2020-01-20T14:03:19.728337Z",
     "start_time": "2020-01-20T13:36:39.303617Z"
    },
    "collapsed": true,
    "jupyter": {
     "outputs_hidden": true
    }
   },
   "outputs": [
    {
     "name": "stdout",
     "output_type": "stream",
     "text": [
      "Start on [4 - LogReg (train -> predict)] ...\n",
      "Start on [LogisticRegression fit] ...\n"
     ]
    },
    {
     "name": "stderr",
     "output_type": "stream",
     "text": [
      "[Parallel(n_jobs=1)]: Using backend SequentialBackend with 1 concurrent workers.\n"
     ]
    },
    {
     "name": "stdout",
     "output_type": "stream",
     "text": [
      "Time for [LogisticRegression fit]: 0:00:08.741293\n",
      "Start on [LogisticRegression predict] ...\n",
      "Time for [LogisticRegression predict]: 0:00:00.071102\n",
      "Time for [4 - LogReg (train -> predict)]: 0:00:08.812555\n"
     ]
    },
    {
     "name": "stderr",
     "output_type": "stream",
     "text": [
      "[Parallel(n_jobs=1)]: Done   1 out of   1 | elapsed:    8.3s finished\n"
     ]
    }
   ],
   "source": [
    "# 4. train\n",
    "with Timer(\"4 - LogReg (train -> predict)\"):\n",
    "    y_pred = train_test_logreg(X_train_, y_train, X_dev_)"
   ]
  },
  {
   "cell_type": "code",
   "execution_count": 57,
   "metadata": {
    "ExecuteTime": {
     "end_time": "2020-01-20T14:03:19.728337Z",
     "start_time": "2020-01-20T13:36:39.303617Z"
    },
    "collapsed": true,
    "jupyter": {
     "outputs_hidden": true
    }
   },
   "outputs": [
    {
     "name": "stdout",
     "output_type": "stream",
     "text": [
      "Start on [5 - report] ...\n",
      "Confusion Matrix:\n",
      "[[17268 17956]\n",
      " [17500 17652]]\n",
      "\n",
      "CM: [17268 17956 17500 17652] \n",
      "[tn, fp, fn, tp]\n",
      "  accuracy: 0.496\n",
      " precision: 0.496\n",
      "    recall: 0.496\n",
      "  f1-score: 0.496\n"
     ]
    },
    {
     "data": {
      "image/png": "[encoded data removed]",
      "text/plain": [
       "<Figure size 648x432 with 1 Axes>"
      ]
     },
     "metadata": {
      "needs_background": "light"
     },
     "output_type": "display_data"
    },
    {
     "name": "stdout",
     "output_type": "stream",
     "text": [
      "\n",
      "Accuracy:  0.496 \n",
      "\n",
      "Report:\n",
      "              precision    recall  f1-score   support\n",
      "\n",
      "       False       0.50      0.49      0.49     35224\n",
      "        True       0.50      0.50      0.50     35152\n",
      "\n",
      "    accuracy                           0.50     70376\n",
      "   macro avg       0.50      0.50      0.50     70376\n",
      "weighted avg       0.50      0.50      0.50     70376\n",
      "\n",
      "Time for [5 - report]: 0:00:00.281662\n"
     ]
    }
   ],
   "source": [
    "# 5. Evaluate\n",
    "with Timer(\"5 - report\"):\n",
    "    report_training_results(y_dev, y_pred)"
   ]
  },
  {
   "cell_type": "code",
   "execution_count": null,
   "metadata": {},
   "outputs": [],
   "source": [
    "with open(fn_run_path / \"eval_results_logreg.p\", \"wb\") as fp:\n",
    "    pickle.dump(y_dev, fp, protocol=pickle.HIGHEST_PROTOCOL)\n",
    "    pickle.dump(y_pred, fp, protocol=pickle.HIGHEST_PROTOCOL)"
   ]
  },
  {
   "cell_type": "code",
   "execution_count": null,
   "metadata": {},
   "outputs": [],
   "source": []
  },
  {
   "cell_type": "code",
   "execution_count": null,
   "metadata": {
    "ExecuteTime": {
     "end_time": "2020-01-20T14:03:19.728337Z",
     "start_time": "2020-01-20T13:36:39.303617Z"
    },
    "collapsed": true,
    "jupyter": {
     "outputs_hidden": true
    }
   },
   "outputs": [
    {
     "name": "stdout",
     "output_type": "stream",
     "text": [
      "Start on [4 - SVM (train -> predict)] ...\n",
      "Start on [StandardScaler fit] ...\n",
      "Time for [StandardScaler fit]: 0:00:02.558245\n",
      "Start on [StandardScaler transform] ...\n",
      "Time for [StandardScaler transform]: 0:00:00.921253\n",
      "Start on [SVC (linear) fit] ...\n"
     ]
    }
   ],
   "source": [
    "# 4. train\n",
    "with Timer(\"4 - SVM (train -> predict)\"):\n",
    "    y_pred = train_test_svm(X_train_, y_train, X_dev_)"
   ]
  },
  {
   "cell_type": "code",
   "execution_count": null,
   "metadata": {
    "ExecuteTime": {
     "end_time": "2020-01-20T14:03:19.728337Z",
     "start_time": "2020-01-20T13:36:39.303617Z"
    }
   },
   "outputs": [],
   "source": [
    "# 5. Evaluate\n",
    "with Timer(\"5 - report\"):\n",
    "    report_training_results(y_dev, y_pred)"
   ]
  },
  {
   "cell_type": "code",
   "execution_count": null,
   "metadata": {},
   "outputs": [],
   "source": [
    "with open(fn_run_path / \"eval_results_svm.p\", \"wb\") as fp:\n",
    "    pickle.dump(y_dev, fp, protocol=pickle.HIGHEST_PROTOCOL)\n",
    "    pickle.dump(y_pred, fp, protocol=pickle.HIGHEST_PROTOCOL)"
   ]
  },
  {
   "cell_type": "code",
   "execution_count": null,
   "metadata": {},
   "outputs": [],
   "source": []
  }
 ],
 "metadata": {
  "kernelspec": {
   "display_name": "Python 3",
   "language": "python",
   "name": "python3"
  },
  "language_info": {
   "codemirror_mode": {
    "name": "ipython",
    "version": 3
   },
   "file_extension": ".py",
   "mimetype": "text/x-python",
   "name": "python",
   "nbconvert_exporter": "python",
   "pygments_lexer": "ipython3",
   "version": "3.7.7"
  },
  "varInspector": {
   "cols": {
    "lenName": 16,
    "lenType": 16,
    "lenVar": 40
   },
   "kernels_config": {
    "python": {
     "delete_cmd_postfix": "",
     "delete_cmd_prefix": "del ",
     "library": "var_list.py",
     "varRefreshCmd": "print(var_dic_list())"
    },
    "r": {
     "delete_cmd_postfix": ") ",
     "delete_cmd_prefix": "rm(",
     "library": "var_list.r",
     "varRefreshCmd": "cat(var_dic_list()) "
    }
   },
   "types_to_exclude": [
    "module",
    "function",
    "builtin_function_or_method",
    "instance",
    "_Feature"
   ],
   "window_display": false
  }
 },
 "nbformat": 4,
 "nbformat_minor": 4
}
