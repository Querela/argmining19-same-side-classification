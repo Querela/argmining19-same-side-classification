{
 "cells": [
  {
   "cell_type": "markdown",
   "metadata": {},
   "source": [
    "# RATIO 2019 - Benchmarking Workshop"
   ]
  },
  {
   "cell_type": "markdown",
   "metadata": {},
   "source": [
    "https://gluon-nlp.mxnet.io/install.html\n",
    "\n",
    "```\n",
    "pip install --upgrade 'mxnet>=1.3.0'\n",
    "pip install gluonnlp\n",
    "wget https://gluon-nlp.mxnet.io/_downloads/sentence_embedding.zip\n",
    "unzip sentence_embedding.zip\n",
    "ln -s sentence_embedding/bert bert\n",
    "```"
   ]
  },
  {
   "cell_type": "code",
   "execution_count": 30,
   "metadata": {
    "ExecuteTime": {
     "end_time": "2019-07-19T07:23:49.157857Z",
     "start_time": "2019-07-19T07:23:49.148730Z"
    },
    "init_cell": true,
    "scrolled": true
   },
   "outputs": [],
   "source": [
    "import datetime\n",
    "import logging\n",
    "import os\n",
    "import random\n",
    "import time\n",
    "import warnings\n",
    "\n",
    "import csv\n",
    "import gluonnlp as nlp\n",
    "import matplotlib.pyplot as plt\n",
    "import mxnet as mx\n",
    "import numpy as np\n",
    "import pandas as pd\n",
    "import seaborn as sns\n",
    "\n",
    "from bert import *\n",
    "from mxnet import gluon\n",
    "from mxnet.gluon.data import Dataset, SimpleDataset\n",
    "from sklearn.metrics import (accuracy_score, classification_report,\n",
    "                             confusion_matrix, f1_score)\n",
    "from sklearn.model_selection import train_test_split\n",
    "from sklearn import utils\n",
    "from tqdm import tqdm"
   ]
  },
  {
   "cell_type": "code",
   "execution_count": 31,
   "metadata": {
    "ExecuteTime": {
     "end_time": "2019-07-19T07:23:49.169907Z",
     "start_time": "2019-07-19T07:23:49.161201Z"
    },
    "init_cell": true,
    "scrolled": true
   },
   "outputs": [],
   "source": [
    "warnings.filterwarnings('ignore')\n",
    "\n",
    "logging.basicConfig(format='%(asctime)s : %(levelname)s : %(message)s',\n",
    "                    level=logging.INFO)"
   ]
  },
  {
   "cell_type": "code",
   "execution_count": 32,
   "metadata": {
    "ExecuteTime": {
     "end_time": "2019-07-19T07:23:49.181836Z",
     "start_time": "2019-07-19T07:23:49.173371Z"
    },
    "init_cell": true
   },
   "outputs": [],
   "source": [
    "# set repeatable random state\n",
    "np.random.seed(100)\n",
    "random.seed(100)\n",
    "mx.random.seed(10000)"
   ]
  },
  {
   "cell_type": "code",
   "execution_count": 33,
   "metadata": {
    "ExecuteTime": {
     "end_time": "2019-07-19T07:23:49.194417Z",
     "start_time": "2019-07-19T07:23:49.185136Z"
    },
    "init_cell": true,
    "scrolled": true
   },
   "outputs": [],
   "source": [
    "# apply progress bars for pandas .apply() -> .progress_apply()\n",
    "tqdm.pandas()"
   ]
  },
  {
   "cell_type": "code",
   "execution_count": 34,
   "metadata": {
    "ExecuteTime": {
     "end_time": "2019-07-19T07:23:49.240497Z",
     "start_time": "2019-07-19T07:23:49.197425Z"
    },
    "init_cell": true
   },
   "outputs": [
    {
     "data": {
      "application/vnd.jupyter.widget-view+json": {
       "model_id": "e8326d5063574cb6988e76965e31f48c",
       "version_major": 2,
       "version_minor": 0
      },
      "text/plain": [
       "HBox(children=(IntProgress(value=1, bar_style='info', max=1), HTML(value='')))"
      ]
     },
     "metadata": {},
     "output_type": "display_data"
    },
    {
     "name": "stdout",
     "output_type": "stream",
     "text": [
      "\n"
     ]
    }
   ],
   "source": [
    "# make tqdm jupyter friendly\n",
    "from tqdm import tqdm_notebook as tqdm\n",
    "# for .progress_apply() we have to hack it like this?\n",
    "tqdm().pandas()"
   ]
  },
  {
   "cell_type": "code",
   "execution_count": 35,
   "metadata": {
    "ExecuteTime": {
     "end_time": "2019-07-19T07:23:49.247812Z",
     "start_time": "2019-07-19T07:23:49.242938Z"
    },
    "code_folding": [
     0,
     4
    ],
    "init_cell": true,
    "scrolled": true
   },
   "outputs": [],
   "source": [
    "class Timer:\n",
    "    def __init__(self, name=None):\n",
    "        self.name = name\n",
    "\n",
    "    def __enter__(self):\n",
    "        self.time_start = time.time()\n",
    "\n",
    "    def __exit__(self, *exc):\n",
    "        time_end = time.time()\n",
    "        time_delta = datetime.timedelta(seconds=(time_end - self.time_start))\n",
    "        if self.name:\n",
    "            print((\"Time for [{}]: {}\".format(self.name, time_delta)))\n",
    "        else:\n",
    "            print((\"Time: {}\".format(time_delta)))"
   ]
  },
  {
   "cell_type": "markdown",
   "metadata": {},
   "source": [
    "# Task 1 - Same Side Classification"
   ]
  },
  {
   "cell_type": "code",
   "execution_count": 36,
   "metadata": {
    "ExecuteTime": {
     "end_time": "2019-07-19T07:23:49.259393Z",
     "start_time": "2019-07-19T07:23:49.249895Z"
    },
    "init_cell": true,
    "scrolled": true
   },
   "outputs": [],
   "source": [
    "data_cross_path = 'data/same-side-classification/cross-topic/{}.csv'\n",
    "data_within_path = 'data/same-side-classification/within-topic/{}.csv'"
   ]
  },
  {
   "cell_type": "markdown",
   "metadata": {},
   "source": [
    "### Load within-topics and cross-topics data"
   ]
  },
  {
   "cell_type": "code",
   "execution_count": 37,
   "metadata": {
    "ExecuteTime": {
     "end_time": "2019-07-19T07:23:50.963029Z",
     "start_time": "2019-07-19T07:23:49.261600Z"
    },
    "code_folding": [
     11,
     18,
     29,
     36
    ],
    "hide_input": false,
    "init_cell": true
   },
   "outputs": [
    {
     "name": "stdout",
     "output_type": "stream",
     "text": [
      "Time for [read cross]: 0:00:00.860872\n",
      "Time for [read within]: 0:00:00.830165\n"
     ]
    }
   ],
   "source": [
    "with Timer(\"read cross\"):\n",
    "    cross_traindev_df = pd.read_csv(data_cross_path.format('training'),\n",
    "                                    quotechar='\"',\n",
    "                                    quoting=csv.QUOTE_ALL,\n",
    "                                    encoding='utf-8',\n",
    "                                    escapechar='\\\\',\n",
    "                                    doublequote=False,\n",
    "                                    index_col='id')\n",
    "    cross_test_df = pd.read_csv(data_cross_path.format('test'), index_col='id')\n",
    "\n",
    "with Timer(\"read within\"):\n",
    "    within_traindev_df = pd.read_csv(data_within_path.format('training'),\n",
    "                                     quotechar='\"',\n",
    "                                     quoting=csv.QUOTE_ALL,\n",
    "                                     encoding='utf-8',\n",
    "                                     escapechar='\\\\',\n",
    "                                     doublequote=False,\n",
    "                                     index_col='id')\n",
    "    within_test_df = pd.read_csv(data_within_path.format('test'), index_col='id')"
   ]
  },
  {
   "cell_type": "code",
   "execution_count": 38,
   "metadata": {
    "ExecuteTime": {
     "end_time": "2019-07-19T07:25:02.980241Z",
     "start_time": "2019-07-19T07:23:50.964367Z"
    },
    "code_folding": [
     1
    ],
    "init_cell": true,
    "scrolled": true
   },
   "outputs": [
    {
     "data": {
      "application/vnd.jupyter.widget-view+json": {
       "model_id": "1ea07b955ba641b6b202633e0e02d594",
       "version_major": 2,
       "version_minor": 0
      },
      "text/plain": [
       "HBox(children=(IntProgress(value=0, max=61048), HTML(value='')))"
      ]
     },
     "metadata": {},
     "output_type": "display_data"
    },
    {
     "name": "stdout",
     "output_type": "stream",
     "text": [
      "\n",
      "Time for [tag cross traindev]: 0:00:32.794460\n"
     ]
    },
    {
     "data": {
      "application/vnd.jupyter.widget-view+json": {
       "model_id": "fc855dbfd0bd4e60b8ea9ffa234b18d7",
       "version_major": 2,
       "version_minor": 0
      },
      "text/plain": [
       "HBox(children=(IntProgress(value=0, max=6163), HTML(value='')))"
      ]
     },
     "metadata": {},
     "output_type": "display_data"
    },
    {
     "name": "stdout",
     "output_type": "stream",
     "text": [
      "\n",
      "Time for [tag cross test]: 0:00:03.279922\n"
     ]
    },
    {
     "data": {
      "application/vnd.jupyter.widget-view+json": {
       "model_id": "f4e7d86e34ab4156873cc3d009bc7fc2",
       "version_major": 2,
       "version_minor": 0
      },
      "text/plain": [
       "HBox(children=(IntProgress(value=0, max=63903), HTML(value='')))"
      ]
     },
     "metadata": {},
     "output_type": "display_data"
    },
    {
     "name": "stdout",
     "output_type": "stream",
     "text": [
      "\n",
      "Time for [tag within traindev]: 0:00:34.059834\n"
     ]
    },
    {
     "data": {
      "application/vnd.jupyter.widget-view+json": {
       "model_id": "44067a764bd14d2cbc48a3f3a496cb24",
       "version_major": 2,
       "version_minor": 0
      },
      "text/plain": [
       "HBox(children=(IntProgress(value=0, max=3552), HTML(value='')))"
      ]
     },
     "metadata": {},
     "output_type": "display_data"
    },
    {
     "name": "stdout",
     "output_type": "stream",
     "text": [
      "\n",
      "Time for [tag within test]: 0:00:01.876847\n"
     ]
    }
   ],
   "source": [
    "# Adding a tag for the topics in focus: \"gay marriage\" and \"abortion\"\n",
    "def add_tag(row):\n",
    "    title = row['topic'].lower().strip()\n",
    "    if \"abortion\" in title:\n",
    "        row['tag'] = 'abortion'\n",
    "    elif \"gay marriage\"  in title:\n",
    "        row['tag'] = 'gay marriage'\n",
    "    else:\n",
    "        row['tag'] = 'NA'\n",
    "    return row\n",
    "\n",
    "\n",
    "with Timer(\"tag cross traindev\"):\n",
    "    cross_traindev_df = cross_traindev_df.progress_apply(add_tag, axis=1)\n",
    "with Timer(\"tag cross test\"):\n",
    "    cross_test_df = cross_test_df.progress_apply(add_tag, axis=1)\n",
    "\n",
    "with Timer(\"tag within traindev\"):\n",
    "    within_traindev_df = within_traindev_df.progress_apply(add_tag, axis=1)\n",
    "with Timer(\"tag within test\"):\n",
    "    within_test_df = within_test_df.progress_apply(add_tag, axis=1)"
   ]
  },
  {
   "cell_type": "markdown",
   "metadata": {},
   "source": [
    "### Get an overview about each dataset"
   ]
  },
  {
   "cell_type": "code",
   "execution_count": 39,
   "metadata": {
    "ExecuteTime": {
     "end_time": "2019-07-19T07:25:02.990747Z",
     "start_time": "2019-07-19T07:25:02.981406Z"
    },
    "code_folding": [
     4
    ],
    "init_cell": true,
    "scrolled": true
   },
   "outputs": [],
   "source": [
    "# requires nltk  wordtokenize\n",
    "# from nltk.tokenize import sent_tokenize, word_tokenize\n",
    "# model uses BERT Tokenizer ...\n",
    "\n",
    "def get_overview(df, task='same-side', class_name='is_same_side'):\n",
    "    # Total instance numbers\n",
    "    total = len(df)\n",
    "    print(\"Task: \", task)\n",
    "    print('=' * 40, '\\n')\n",
    "\n",
    "    print('Total instances: ', total)\n",
    "    print('\\n')\n",
    "\n",
    "    print('For each topic:')\n",
    "    for tag, tag_df in df.groupby(['tag']):\n",
    "        print(tag, ': ', len(tag_df), ' instances')\n",
    "        if class_name in df.columns:\n",
    "            for is_same_side, side_df in tag_df.groupby([class_name]):\n",
    "                print('\\t\\t', is_same_side, ': ', len(side_df), ' instances')\n",
    "    print('\\n')\n",
    "\n",
    "    if class_name in df.columns:\n",
    "        print('For each class value:')\n",
    "        for class_value, class_df in df.groupby([class_name]):\n",
    "            print(class_value, ': ', len(class_df), ' instances')\n",
    "        print('\\n')\n",
    "\n",
    "    print('Unique argument1:', len(df['argument1'].unique()))\n",
    "    print('Unique argument2:', len(df['argument2'].unique()))\n",
    "    arguments = df['argument1'].values\n",
    "    arguments = np.concatenate([arguments, df['argument2'].values])\n",
    "\n",
    "    print('Unique total arguments:', len(set(list(arguments))), '\\n')\n",
    "    \n",
    "    return\n",
    "\n",
    "    print('-' * 40, '\\n')\n",
    "\n",
    "    arguments_length_lst = [\n",
    "        len(word_tokenize(x)) for x in df['argument1'].values\n",
    "    ]\n",
    "    arguments_length_lst.extend(\n",
    "        [len(word_tokenize(x)) for x in df['argument2'].values])\n",
    "    print('Words:')\n",
    "    print('\\tshortest argument:', min(arguments_length_lst), ' words')\n",
    "    print('\\tlongest argument:', max(arguments_length_lst), ' words')\n",
    "    print('\\targument average length:', np.mean(arguments_length_lst),\n",
    "          ' words')\n",
    "\n",
    "    arguments_sent_length_lst = [\n",
    "        len(sent_tokenize(x)) for x in df['argument1'].values\n",
    "    ]\n",
    "    arguments_sent_length_lst.extend(\n",
    "        [len(sent_tokenize(x)) for x in df['argument2'].values])\n",
    "    print('Sentences:')\n",
    "    print('\\tshortest argument:', min(arguments_sent_length_lst), ' sentences')\n",
    "    print('\\tlongest argument:', max(arguments_sent_length_lst), ' sentences')\n",
    "    print('\\targument average length:', np.mean(arguments_sent_length_lst),\n",
    "          ' sentences')"
   ]
  },
  {
   "cell_type": "code",
   "execution_count": null,
   "metadata": {
    "code_folding": [],
    "scrolled": true
   },
   "outputs": [],
   "source": [
    "with Timer(\"overview cross\"):\n",
    "    get_overview(cross_traindev_df)"
   ]
  },
  {
   "cell_type": "code",
   "execution_count": null,
   "metadata": {
    "scrolled": true
   },
   "outputs": [],
   "source": [
    "with Timer(\"overview within\"):\n",
    "    get_overview(within_traindev_df)"
   ]
  },
  {
   "cell_type": "markdown",
   "metadata": {},
   "source": [
    "##### Count raw length"
   ]
  },
  {
   "cell_type": "code",
   "execution_count": null,
   "metadata": {
    "code_folding": [
     0
    ]
   },
   "outputs": [],
   "source": [
    "def compute_arg_len(row):\n",
    "    row['argument1_len'] = len(row['argument1'])\n",
    "    row['argument2_len'] = len(row['argument2'])\n",
    "    row['argument12_len_diff'] = row['argument1_len'] - row['argument2_len']\n",
    "    return row\n",
    "\n",
    "\n",
    "cross_traindev_df = cross_traindev_df.progress_apply(compute_arg_len, axis=1)\n",
    "within_traindev_df = within_traindev_df.progress_apply(compute_arg_len, axis=1)\n",
    "cross_test_df = cross_test_df.progress_apply(compute_arg_len, axis=1)\n",
    "within_test_df = within_test_df.progress_apply(compute_arg_len, axis=1)"
   ]
  },
  {
   "cell_type": "code",
   "execution_count": null,
   "metadata": {},
   "outputs": [],
   "source": [
    "cross_traindev_df.describe()"
   ]
  },
  {
   "cell_type": "code",
   "execution_count": null,
   "metadata": {},
   "outputs": [],
   "source": [
    "within_traindev_df.describe()"
   ]
  },
  {
   "cell_type": "markdown",
   "metadata": {},
   "source": [
    "##### Tokenize and count tokens"
   ]
  },
  {
   "cell_type": "code",
   "execution_count": null,
   "metadata": {},
   "outputs": [],
   "source": [
    "ctx = mx.cpu()\n",
    "_, vocabulary = nlp.model.get_model('bert_12_768_12',\n",
    "                                    dataset_name='book_corpus_wiki_en_uncased',\n",
    "                                    pretrained=True, ctx=ctx, use_pooler=True,\n",
    "                                    use_decoder=False, use_classifier=False)\n",
    "bert_tokenizer = nlp.data.BERTTokenizer(vocabulary, lower=True)\n",
    "tokenizer = bert_tokenizer"
   ]
  },
  {
   "cell_type": "code",
   "execution_count": null,
   "metadata": {
    "code_folding": [
     5
    ]
   },
   "outputs": [],
   "source": [
    "from nltk.tokenize import sent_tokenize, word_tokenize\n",
    "# nltk.download('punct')\n",
    "\n",
    "\n",
    "# tokenizer from BERT\n",
    "def tokenize_arguments(row):\n",
    "    # tokenize\n",
    "    row['argument1_tokens'] = tokenizer(row['argument1'])\n",
    "    row['argument2_tokens'] = tokenizer(row['argument2'])\n",
    "\n",
    "    # count tokens\n",
    "    row['argument1_len'] = len(row['argument1_tokens'])\n",
    "    row['argument2_len'] = len(row['argument2_tokens'])\n",
    "    # token number diff\n",
    "    row['argument12_len_diff'] = row['argument1_len'] - row['argument2_len']\n",
    "    return row\n",
    "\n",
    "\n",
    "cross_traindev_df = cross_traindev_df.progress_apply(tokenize_arguments, axis=1)\n",
    "within_traindev_df = within_traindev_df.progress_apply(tokenize_arguments, axis=1)\n",
    "cross_test_df = cross_test_df.progress_apply(tokenize_arguments, axis=1)\n",
    "within_test_df = within_test_df.progress_apply(tokenize_arguments, axis=1)"
   ]
  },
  {
   "cell_type": "code",
   "execution_count": null,
   "metadata": {},
   "outputs": [],
   "source": [
    "cross_traindev_df.describe()"
   ]
  },
  {
   "cell_type": "code",
   "execution_count": null,
   "metadata": {},
   "outputs": [],
   "source": [
    "within_traindev_df.describe()"
   ]
  },
  {
   "cell_type": "markdown",
   "metadata": {},
   "source": [
    "## Train model - Baseline"
   ]
  },
  {
   "cell_type": "markdown",
   "metadata": {},
   "source": [
    "### train dev set - 70% 30%"
   ]
  },
  {
   "cell_type": "code",
   "execution_count": 40,
   "metadata": {
    "ExecuteTime": {
     "end_time": "2019-07-19T07:25:03.002783Z",
     "start_time": "2019-07-19T07:25:02.991797Z"
    },
    "code_folding": [
     0
    ],
    "init_cell": true,
    "scrolled": true
   },
   "outputs": [],
   "source": [
    "def get_train_test_sets(df, ratio=0.30, random_state=1):\n",
    "    X = df[['argument1', 'argument2', 'argument1_id', 'argument2_id', 'topic']]\n",
    "    y = df[['is_same_side']]\n",
    "\n",
    "    X_train, X_test, y_train, y_test = train_test_split(X,\n",
    "                                                        y,\n",
    "                                                        test_size=ratio,\n",
    "                                                        random_state=random_state,\n",
    "                                                        shuffle=True)\n",
    "    return X_train, X_test, y_train, y_test"
   ]
  },
  {
   "cell_type": "markdown",
   "metadata": {},
   "source": [
    "### BERT\n",
    "\n",
    "- https://gluon-nlp.mxnet.io/examples/sentence_embedding/bert.html"
   ]
  },
  {
   "cell_type": "code",
   "execution_count": 41,
   "metadata": {
    "ExecuteTime": {
     "end_time": "2019-07-19T07:25:03.019750Z",
     "start_time": "2019-07-19T07:25:03.004760Z"
    },
    "code_folding": [
     0
    ],
    "init_cell": true,
    "scrolled": true
   },
   "outputs": [],
   "source": [
    "class MyBERTDataset(SimpleDataset):\n",
    "    def __init__(self, X, y=None):\n",
    "        self._X = X\n",
    "        self._y = y\n",
    "        super(MyBERTDataset, self).__init__(self._convert())\n",
    "\n",
    "    def _convert(self):\n",
    "        allsamples = list()\n",
    "\n",
    "        if self._y is not None:\n",
    "            df = self._X.merge(self._y, left_index=True, right_index=True)\n",
    "            for _, row in df.iterrows():\n",
    "                allsamples.append([\n",
    "                    row['argument1'], row['argument2'],\n",
    "                    \"1\" if str(row['is_same_side']) == \"True\" else \"0\"\n",
    "                ])\n",
    "        else:\n",
    "            for _, row in self._X.iterrows():\n",
    "                allsamples.append([row['argument1'], row['argument2'], None])\n",
    "\n",
    "        return allsamples\n",
    "\n",
    "    # for lazy retrieval?\n",
    "    #\n",
    "    # def __getitem__(self, idx):\n",
    "    #     row_X = self._X.iloc[idx]\n",
    "    #     row_y = self._y.iloc[idx]\n",
    "    #     return [row_X['argument1'], row_X['argument2'], \"1\" if row_y['is_same_side'] else \"0\"]\n",
    "    #\n",
    "    # def __len__(self):\n",
    "    #     return len(self._X)"
   ]
  },
  {
   "cell_type": "code",
   "execution_count": null,
   "metadata": {},
   "outputs": [],
   "source": [
    "# df = X_dev.merge(y_dev, left_index=True, right_index=True)\n",
    "# allsamples = list()\n",
    "# for _, row in df.iterrows():\n",
    "#     allsamples.append(\"1\" if row['is_same_side'] == \"True\" else \"0\")\n",
    "# np.unique(allsamples)"
   ]
  },
  {
   "cell_type": "markdown",
   "metadata": {},
   "source": [
    "**TODO**: my own `BERTDatasetTransform` for extracting chunks from arguments or last part etc.\n",
    "\n",
    "```python\n",
    "transform = dataset.BERTDatasetTransform(bert_tokenizer, 512,\n",
    "                                         labels=['0', '1'],\n",
    "                                         label_dtype='int32',\n",
    "                                         pad=True,\n",
    "                                         pair=True)\n",
    "```\n",
    "\n",
    "http://localhost:9001/edit/bert/dataset.py @454\n",
    "```python\n",
    "# substitute with my own (e. g. last part, many parts etc.)\n",
    "def __init__(...):\n",
    "    self._bert_xform = BERTSentenceTransform(tokenizer, max_seq_length, pad=pad, pair=pair)\n",
    "```\n",
    "https://gluon-nlp.mxnet.io/master/_modules/gluonnlp/data/transforms.html#BERTSentenceTransform\n",
    "```python\n",
    "# substitute with my own (e. g. only last part (trim from start))\n",
    "self._truncate_seq_pair(tokens_a, tokens_b, self._max_seq_length - 3)\n",
    "```\n",
    "\n",
    "https://mxnet.incubator.apache.org/_modules/mxnet/gluon/data/dataset.html#Dataset.transform"
   ]
  },
  {
   "cell_type": "code",
   "execution_count": 42,
   "metadata": {
    "ExecuteTime": {
     "end_time": "2019-07-19T07:25:03.032638Z",
     "start_time": "2019-07-19T07:25:03.021790Z"
    },
    "code_folding": [
     3
    ],
    "init_cell": true
   },
   "outputs": [],
   "source": [
    "from gluonnlp.data import BERTSentenceTransform\n",
    "\n",
    "\n",
    "class LastPartBERTSentenceTransform(BERTSentenceTransform):\n",
    "    def __init__(self, tokenizer, max_seq_length, pad=True, pair=True):\n",
    "        super(LastPartBERTSentenceTransform, self).__init__(tokenizer, max_seq_length, pad=pad, pair=pair)\n",
    "\n",
    "\n",
    "    def _truncate_seq_pair(self, tokens_a, tokens_b, max_length):\n",
    "        \"\"\"Truncates a sequence pair in place to the maximum length.\n",
    "        Removes from end of token list.\"\"\"\n",
    "        # This is a simple heuristic which will always truncate the longer sequence\n",
    "        # one token at a time. This makes more sense than truncating an equal percent\n",
    "        # of tokens from each, since if one sequence is very short then each token\n",
    "        # that's truncated likely contains more information than a longer sequence.\n",
    "        while True:\n",
    "            total_length = len(tokens_a) + len(tokens_b)\n",
    "            if total_length <= max_length:\n",
    "                break\n",
    "            if len(tokens_a) > len(tokens_b):\n",
    "                tokens_a.pop(0)\n",
    "            else:\n",
    "                tokens_b.pop(0)\n",
    "\n",
    "\n",
    "# TODO: random trim ? --> bad probably\n",
    "# TODO: segment-wise, e. g. 0 for normal, 1 for tokens after normal tokens, ..."
   ]
  },
  {
   "cell_type": "code",
   "execution_count": 43,
   "metadata": {
    "ExecuteTime": {
     "end_time": "2019-07-19T07:25:03.050037Z",
     "start_time": "2019-07-19T07:25:03.034913Z"
    },
    "code_folding": [],
    "init_cell": true
   },
   "outputs": [],
   "source": [
    "class LastPartBERTDatasetTransform(dataset.BERTDatasetTransform):\n",
    "    def __init__(self, tokenizer, max_seq_length, labels=None, pad=True, pair=True, label_dtype='float32'):\n",
    "        super(LastPartBERTDatasetTransform, self).__init__(tokenizer, max_seq_length, labels=labels, pad=pad, pair=pair, label_dtype=label_dtype)\n",
    "        self._bert_xform = LastPartBERTSentenceTransform(tokenizer, max_seq_length, pad=pad, pair=pair)"
   ]
  },
  {
   "cell_type": "code",
   "execution_count": 44,
   "metadata": {
    "ExecuteTime": {
     "end_time": "2019-07-19T07:25:03.066704Z",
     "start_time": "2019-07-19T07:25:03.052674Z"
    },
    "code_folding": [
     0
    ],
    "init_cell": true,
    "scrolled": true
   },
   "outputs": [],
   "source": [
    "def setup_bert():\n",
    "    # change `ctx` to `mx.cpu()` if no GPU is available.\n",
    "    ctx = mx.gpu(0)\n",
    "    # ctx =  mx.gpu() if mx.context.num_gpus() else mx.cpu()\n",
    "    # ctx = mx.cpu()\n",
    "    \n",
    "    bert_base, vocabulary = nlp.model.get_model('bert_12_768_12',\n",
    "                                                 dataset_name='book_corpus_wiki_en_uncased',\n",
    "                                                 pretrained=True, ctx=ctx, use_pooler=True,\n",
    "                                                 use_decoder=False, use_classifier=False)\n",
    "    print(bert_base)\n",
    "    \n",
    "    model = bert.BERTClassifier(bert_base, num_classes=2, dropout=0.1)\n",
    "    # only need to initialize the classifier layer.\n",
    "    model.classifier.initialize(init=mx.init.Normal(0.02), ctx=ctx)\n",
    "    model.hybridize(static_alloc=True)\n",
    "\n",
    "    # softmax cross entropy loss for classification\n",
    "    loss_function = gluon.loss.SoftmaxCELoss()\n",
    "    loss_function.hybridize(static_alloc=True)\n",
    "\n",
    "    metric = mx.metric.Accuracy()\n",
    "    \n",
    "    # use the vocabulary from pre-trained model for tokenization\n",
    "    bert_tokenizer = nlp.data.BERTTokenizer(vocabulary, lower=True)\n",
    "    # maximum sequence length\n",
    "    # max_len = 128  # + batch_size: 32\n",
    "    max_len = 512  # + batch_size: 6 ?\n",
    "    # the labels for the two classes\n",
    "    all_labels = [\"0\", \"1\"]\n",
    "    # whether to transform the data as sentence pairs.\n",
    "    # for single sentence classification, set pair=False\n",
    "    pair = True\n",
    "    transform = LastPartBERTDatasetTransform(bert_tokenizer, max_len,\n",
    "                                             labels=all_labels,\n",
    "                                             label_dtype='int32',\n",
    "                                             pad=True,\n",
    "                                             pair=pair)\n",
    "\n",
    "    return model, vocabulary, ctx, bert_tokenizer, transform, loss_function, metric, all_labels"
   ]
  },
  {
   "cell_type": "code",
   "execution_count": 45,
   "metadata": {
    "ExecuteTime": {
     "end_time": "2019-07-19T07:25:03.079471Z",
     "start_time": "2019-07-19T07:25:03.068786Z"
    },
    "code_folding": [
     0,
     6
    ],
    "init_cell": true
   },
   "outputs": [],
   "source": [
    "def transform_dataset(X, y, transform):\n",
    "    data_train_raw = MyBERTDataset(X, y)\n",
    "    data_train = data_train_raw.transform(transform)\n",
    "    return data_train_raw, data_train\n",
    "\n",
    "\n",
    "def predict_out_to_ys(all_predictions, all_labels):\n",
    "    y_true, y_pred = list(), list()\n",
    "    \n",
    "    for _, y_true_many, y_pred_many in all_predictions:\n",
    "        y_true_many = y_true_many.T[0].asnumpy()\n",
    "        # https://mxnet.incubator.apache.org/api/python/gluon/loss.html#mxnet.gluon.loss.SoftmaxCrossEntropyLoss\n",
    "        # pred: the prediction tensor, where the batch_axis dimension ranges over batch size and axis dimension ranges over the number of classes.\n",
    "        y_pred_many = np.argmax(y_pred_many, axis=1).asnumpy()\n",
    "\n",
    "        y_true.extend(list(y_true_many))\n",
    "        y_pred.extend(list(y_pred_many))\n",
    "        # TODO: convert label_id to label?\n",
    "        # y_pred.extend(all_labels[c] for c in list(y_pred_many))\n",
    "        \n",
    "    y_true = np.array(y_true)\n",
    "    y_pred = np.array(y_pred)\n",
    "    \n",
    "    return y_true, y_pred"
   ]
  },
  {
   "cell_type": "code",
   "execution_count": 46,
   "metadata": {
    "ExecuteTime": {
     "end_time": "2019-07-19T07:25:03.101665Z",
     "start_time": "2019-07-19T07:25:03.081519Z"
    },
    "code_folding": [
     0,
     23
    ],
    "init_cell": true,
    "run_control": {
     "marked": false
    }
   },
   "outputs": [],
   "source": [
    "def train(model, data_train, ctx, metric, loss_function, batch_size=32, lr=5e-6, num_epochs=3, checkpoint_dir=\"data\", use_checkpoints=True):\n",
    "    with Timer(\"setup training\"):\n",
    "        train_sampler = nlp.data.FixedBucketSampler(\n",
    "            lengths=[int(item[1]) for item in tqdm(data_train)],\n",
    "            batch_size=batch_size,\n",
    "            shuffle=True)\n",
    "        bert_dataloader = mx.gluon.data.DataLoader(data_train,\n",
    "                                                   batch_sampler=train_sampler)\n",
    "\n",
    "        trainer = gluon.Trainer(model.collect_params(), 'adam', {\n",
    "            'learning_rate': lr,\n",
    "            'epsilon': 1e-9\n",
    "        })\n",
    "\n",
    "        # collect all differentiable parameters\n",
    "        # grad_req == 'null' indicates no gradients are calculated (e.g. constant parameters)\n",
    "        # the gradients for these params are clipped later\n",
    "        params = [p for p in model.collect_params().values() if p.grad_req != 'null']\n",
    "\n",
    "    log_interval = 100\n",
    "    with Timer(\"training\"):\n",
    "        stats = list()\n",
    "        for epoch_id in range(num_epochs):\n",
    "            if use_checkpoints:\n",
    "                epoch_checkpoint_savefile = \"bert.model.checkpoint{}.params\".format(epoch_id)\n",
    "                if checkpoint_dir is not None:\n",
    "                    epoch_checkpoint_savefile = os.path.join(checkpoint_dir, epoch_checkpoint_savefile)\n",
    "                if os.path.exists(epoch_checkpoint_savefile):\n",
    "                    model.load_parameters(epoch_checkpoint_savefile, ctx=ctx)\n",
    "                    print(\"loaded checkpoint for epoch {}\".format(epoch_id))\n",
    "                    continue\n",
    "\n",
    "            with Timer(\"epoch {}\".format(epoch_id)):\n",
    "                metric.reset()\n",
    "                step_loss = 0\n",
    "                t_p = time.time()  # time keeping\n",
    "                for batch_id, (token_ids, valid_length, segment_ids,\n",
    "                               label) in enumerate(tqdm(bert_dataloader)):\n",
    "                    with mx.autograd.record():\n",
    "\n",
    "                        # load data to GPU\n",
    "                        token_ids = token_ids.as_in_context(ctx)\n",
    "                        valid_length = valid_length.as_in_context(ctx)\n",
    "                        segment_ids = segment_ids.as_in_context(ctx)\n",
    "                        label = label.as_in_context(ctx)\n",
    "\n",
    "                        # forward computation\n",
    "                        out = model(token_ids, segment_ids,\n",
    "                                    valid_length.astype('float32'))\n",
    "                        ls = loss_function(out, label).mean()\n",
    "\n",
    "                    # backward computation\n",
    "                    ls.backward()\n",
    "\n",
    "                    # gradient clipping\n",
    "                    trainer.allreduce_grads()\n",
    "                    nlp.utils.clip_grad_global_norm(params, 1)\n",
    "                    trainer.update(1)\n",
    "\n",
    "                    step_loss += ls.asscalar()\n",
    "                    metric.update([label], [out])\n",
    "                    stats.append((metric.get()[1], ls.asscalar()))\n",
    "                    if (batch_id + 1) % (log_interval) == 0:\n",
    "                        print(\n",
    "                            '[Epoch {} Batch {}/{}] loss={:.4f}, lr={:.7f}, acc={:.3f} - time {}'\n",
    "                            .format(epoch_id, batch_id + 1, len(bert_dataloader),\n",
    "                                    step_loss / log_interval, trainer.learning_rate,\n",
    "                                    metric.get()[1],\n",
    "                                    datetime.timedelta(seconds=(time.time() - t_p))))\n",
    "                        t_p = time.time()\n",
    "                        step_loss = 0\n",
    "\n",
    "            if use_checkpoints:\n",
    "                model.save_parameters(epoch_checkpoint_savefile)\n",
    "            \n",
    "    return stats"
   ]
  },
  {
   "cell_type": "code",
   "execution_count": 47,
   "metadata": {
    "ExecuteTime": {
     "end_time": "2019-07-19T07:25:03.114496Z",
     "start_time": "2019-07-19T07:25:03.103069Z"
    },
    "code_folding": [
     0
    ],
    "init_cell": true
   },
   "outputs": [],
   "source": [
    "def predict(model, data_predict, ctx, metric, loss_function, batch_size=32):\n",
    "    bert_dataloader = mx.gluon.data.DataLoader(data_predict, batch_size=batch_size)\n",
    "    \n",
    "    all_predictions = list()\n",
    "\n",
    "    with Timer(\"prediction\"):\n",
    "        metric.reset()\n",
    "        cum_loss = 0\n",
    "        for batch_id, (token_ids, valid_length, segment_ids,\n",
    "                       label) in enumerate(tqdm(bert_dataloader)):\n",
    "            # load data to GPU\n",
    "            token_ids = token_ids.as_in_context(ctx)\n",
    "            valid_length = valid_length.as_in_context(ctx)\n",
    "            segment_ids = segment_ids.as_in_context(ctx)\n",
    "            label = label.as_in_context(ctx)\n",
    "\n",
    "            # forward computation\n",
    "            out = model(token_ids, segment_ids,\n",
    "                        valid_length.astype('float32'))\n",
    "            ls = loss_function(out, label).mean()\n",
    "\n",
    "            metric.update([label], [out])\n",
    "            cum_loss += ls.asscalar()  # .sum() ?\n",
    "            all_predictions.append((batch_id, label, out))\n",
    "            \n",
    "    return all_predictions, cum_loss"
   ]
  },
  {
   "cell_type": "code",
   "execution_count": 48,
   "metadata": {
    "ExecuteTime": {
     "end_time": "2019-07-19T07:25:03.132030Z",
     "start_time": "2019-07-19T07:25:03.116391Z"
    },
    "code_folding": [
     0,
     21
    ],
    "init_cell": true
   },
   "outputs": [],
   "source": [
    "def print_infos(vocabulary, data_train_raw, data_train):\n",
    "    sample_id = 0\n",
    "\n",
    "    # sentence a\n",
    "    print(data_train_raw[sample_id][0])\n",
    "    # sentence b\n",
    "    print(data_train_raw[sample_id][1])\n",
    "    # 1 means equivalent, 0 means not equivalent\n",
    "    print(data_train_raw[sample_id][2])\n",
    "\n",
    "    print('vocabulary used for tokenization = \\n%s'%vocabulary)\n",
    "    print('[PAD] token id = %s'%(vocabulary['[PAD]']))\n",
    "    print('[CLS] token id = %s'%(vocabulary['[CLS]']))\n",
    "    print('[SEP] token id = %s'%(vocabulary['[SEP]']))\n",
    "\n",
    "    print('token ids = \\n%s'%data_train[sample_id][0])\n",
    "    print('valid length = \\n%s'%data_train[sample_id][1])\n",
    "    print('segment ids = \\n%s'%data_train[sample_id][2])\n",
    "    print('label = \\n%s'%data_train[sample_id][3])\n",
    "    \n",
    "\n",
    "def plot_train_stats(stats):\n",
    "    if not stats:\n",
    "        print(\"no stats to plot\")\n",
    "        return\n",
    "\n",
    "    x = np.arange(len(stats))  # arange/linspace\n",
    "\n",
    "    acc_dots, loss_dots = zip(*stats)\n",
    "\n",
    "    plt.subplot(2, 1, 1)\n",
    "    plt.plot(x, acc_dots)  # Linie: '-', 'o-', '.-'\n",
    "    plt.title('Training BERTClassifier')\n",
    "    plt.ylabel('Accuracy')\n",
    "\n",
    "    plt.subplot(2, 1, 2)\n",
    "    plt.plot(x, loss_dots)\n",
    "    plt.xlabel('Batches')\n",
    "    plt.ylabel('Loss')\n",
    "\n",
    "    plt.show()"
   ]
  },
  {
   "cell_type": "markdown",
   "metadata": {},
   "source": [
    "### Evaluate"
   ]
  },
  {
   "cell_type": "code",
   "execution_count": 49,
   "metadata": {
    "ExecuteTime": {
     "end_time": "2019-07-19T07:25:03.149599Z",
     "start_time": "2019-07-19T07:25:03.134279Z"
    },
    "code_folding": [
     0,
     12
    ],
    "init_cell": true,
    "run_control": {
     "marked": false
    },
    "scrolled": true
   },
   "outputs": [],
   "source": [
    "def heatconmat(y_test, y_pred):\n",
    "    sns.set_context('talk')\n",
    "    plt.figure(figsize=(9, 6))\n",
    "    sns.heatmap(confusion_matrix(y_test, y_pred),\n",
    "                annot=True,\n",
    "                fmt='d',\n",
    "                cbar=False,\n",
    "                cmap='gist_earth_r',\n",
    "                yticklabels=sorted(np.unique(y_test)))\n",
    "    plt.show()\n",
    "\n",
    "\n",
    "def report_training_results(y_test, y_pred, name=None, heatmap=True):\n",
    "    print('Confusion Matrix:')\n",
    "    print(confusion_matrix(y_test, y_pred))\n",
    "    if heatmap:\n",
    "        heatconmat(y_test, y_pred)\n",
    "    print()\n",
    "    print('Accuracy: ', round(accuracy_score(y_test, y_pred), 2), '\\n')  #\n",
    "\n",
    "    print('Report{}:'.format(\"\" if not name else \" for [{}]\".format(name)))\n",
    "    print(classification_report(y_test, y_pred))\n",
    "\n",
    "    f1_dic = {}\n",
    "    f1_dic['macro'] = round(\n",
    "        f1_score(y_pred=y_pred, y_true=y_test, average='macro'), 2)\n",
    "    f1_dic['micro'] = round(\n",
    "        f1_score(y_pred=y_pred, y_true=y_test, average='micro'), 2)\n",
    "    return f1_dic"
   ]
  },
  {
   "cell_type": "markdown",
   "metadata": {},
   "source": [
    "### Within topic - Training and evaluating model "
   ]
  },
  {
   "cell_type": "code",
   "execution_count": 21,
   "metadata": {
    "ExecuteTime": {
     "end_time": "2019-07-18T21:23:12.795666Z",
     "start_time": "2019-07-18T21:23:12.765583Z"
    },
    "scrolled": true
   },
   "outputs": [
    {
     "name": "stdout",
     "output_type": "stream",
     "text": [
      "Time for [1 - test/train split]: 0:00:00.025023\n"
     ]
    }
   ],
   "source": [
    "# 1. Getting train and dev data\n",
    "with Timer(\"1 - test/train split\"):\n",
    "    X_train, X_dev, y_train, y_dev = get_train_test_sets(within_traindev_df)"
   ]
  },
  {
   "cell_type": "code",
   "execution_count": 22,
   "metadata": {
    "ExecuteTime": {
     "end_time": "2019-07-18T21:23:19.363443Z",
     "start_time": "2019-07-18T21:23:17.094877Z"
    },
    "collapsed": true
   },
   "outputs": [
    {
     "name": "stdout",
     "output_type": "stream",
     "text": [
      "BERTModel(\n",
      "  (encoder): BERTEncoder(\n",
      "    (dropout_layer): Dropout(p = 0.1, axes=())\n",
      "    (layer_norm): BERTLayerNorm(eps=1e-12, axis=-1, center=True, scale=True, in_channels=768)\n",
      "    (transformer_cells): HybridSequential(\n",
      "      (0): BERTEncoderCell(\n",
      "        (dropout_layer): Dropout(p = 0.1, axes=())\n",
      "        (attention_cell): MultiHeadAttentionCell(\n",
      "          (_base_cell): DotProductAttentionCell(\n",
      "            (_dropout_layer): Dropout(p = 0.1, axes=())\n",
      "          )\n",
      "          (proj_query): Dense(768 -> 768, linear)\n",
      "          (proj_key): Dense(768 -> 768, linear)\n",
      "          (proj_value): Dense(768 -> 768, linear)\n",
      "        )\n",
      "        (proj): Dense(768 -> 768, linear)\n",
      "        (ffn): BERTPositionwiseFFN(\n",
      "          (ffn_1): Dense(768 -> 3072, linear)\n",
      "          (activation): GELU()\n",
      "          (ffn_2): Dense(3072 -> 768, linear)\n",
      "          (dropout_layer): Dropout(p = 0.1, axes=())\n",
      "          (layer_norm): BERTLayerNorm(eps=1e-12, axis=-1, center=True, scale=True, in_channels=768)\n",
      "        )\n",
      "        (layer_norm): BERTLayerNorm(eps=1e-12, axis=-1, center=True, scale=True, in_channels=768)\n",
      "      )\n",
      "      (1): BERTEncoderCell(\n",
      "        (dropout_layer): Dropout(p = 0.1, axes=())\n",
      "        (attention_cell): MultiHeadAttentionCell(\n",
      "          (_base_cell): DotProductAttentionCell(\n",
      "            (_dropout_layer): Dropout(p = 0.1, axes=())\n",
      "          )\n",
      "          (proj_query): Dense(768 -> 768, linear)\n",
      "          (proj_key): Dense(768 -> 768, linear)\n",
      "          (proj_value): Dense(768 -> 768, linear)\n",
      "        )\n",
      "        (proj): Dense(768 -> 768, linear)\n",
      "        (ffn): BERTPositionwiseFFN(\n",
      "          (ffn_1): Dense(768 -> 3072, linear)\n",
      "          (activation): GELU()\n",
      "          (ffn_2): Dense(3072 -> 768, linear)\n",
      "          (dropout_layer): Dropout(p = 0.1, axes=())\n",
      "          (layer_norm): BERTLayerNorm(eps=1e-12, axis=-1, center=True, scale=True, in_channels=768)\n",
      "        )\n",
      "        (layer_norm): BERTLayerNorm(eps=1e-12, axis=-1, center=True, scale=True, in_channels=768)\n",
      "      )\n",
      "      (2): BERTEncoderCell(\n",
      "        (dropout_layer): Dropout(p = 0.1, axes=())\n",
      "        (attention_cell): MultiHeadAttentionCell(\n",
      "          (_base_cell): DotProductAttentionCell(\n",
      "            (_dropout_layer): Dropout(p = 0.1, axes=())\n",
      "          )\n",
      "          (proj_query): Dense(768 -> 768, linear)\n",
      "          (proj_key): Dense(768 -> 768, linear)\n",
      "          (proj_value): Dense(768 -> 768, linear)\n",
      "        )\n",
      "        (proj): Dense(768 -> 768, linear)\n",
      "        (ffn): BERTPositionwiseFFN(\n",
      "          (ffn_1): Dense(768 -> 3072, linear)\n",
      "          (activation): GELU()\n",
      "          (ffn_2): Dense(3072 -> 768, linear)\n",
      "          (dropout_layer): Dropout(p = 0.1, axes=())\n",
      "          (layer_norm): BERTLayerNorm(eps=1e-12, axis=-1, center=True, scale=True, in_channels=768)\n",
      "        )\n",
      "        (layer_norm): BERTLayerNorm(eps=1e-12, axis=-1, center=True, scale=True, in_channels=768)\n",
      "      )\n",
      "      (3): BERTEncoderCell(\n",
      "        (dropout_layer): Dropout(p = 0.1, axes=())\n",
      "        (attention_cell): MultiHeadAttentionCell(\n",
      "          (_base_cell): DotProductAttentionCell(\n",
      "            (_dropout_layer): Dropout(p = 0.1, axes=())\n",
      "          )\n",
      "          (proj_query): Dense(768 -> 768, linear)\n",
      "          (proj_key): Dense(768 -> 768, linear)\n",
      "          (proj_value): Dense(768 -> 768, linear)\n",
      "        )\n",
      "        (proj): Dense(768 -> 768, linear)\n",
      "        (ffn): BERTPositionwiseFFN(\n",
      "          (ffn_1): Dense(768 -> 3072, linear)\n",
      "          (activation): GELU()\n",
      "          (ffn_2): Dense(3072 -> 768, linear)\n",
      "          (dropout_layer): Dropout(p = 0.1, axes=())\n",
      "          (layer_norm): BERTLayerNorm(eps=1e-12, axis=-1, center=True, scale=True, in_channels=768)\n",
      "        )\n",
      "        (layer_norm): BERTLayerNorm(eps=1e-12, axis=-1, center=True, scale=True, in_channels=768)\n",
      "      )\n",
      "      (4): BERTEncoderCell(\n",
      "        (dropout_layer): Dropout(p = 0.1, axes=())\n",
      "        (attention_cell): MultiHeadAttentionCell(\n",
      "          (_base_cell): DotProductAttentionCell(\n",
      "            (_dropout_layer): Dropout(p = 0.1, axes=())\n",
      "          )\n",
      "          (proj_query): Dense(768 -> 768, linear)\n",
      "          (proj_key): Dense(768 -> 768, linear)\n",
      "          (proj_value): Dense(768 -> 768, linear)\n",
      "        )\n",
      "        (proj): Dense(768 -> 768, linear)\n",
      "        (ffn): BERTPositionwiseFFN(\n",
      "          (ffn_1): Dense(768 -> 3072, linear)\n",
      "          (activation): GELU()\n",
      "          (ffn_2): Dense(3072 -> 768, linear)\n",
      "          (dropout_layer): Dropout(p = 0.1, axes=())\n",
      "          (layer_norm): BERTLayerNorm(eps=1e-12, axis=-1, center=True, scale=True, in_channels=768)\n",
      "        )\n",
      "        (layer_norm): BERTLayerNorm(eps=1e-12, axis=-1, center=True, scale=True, in_channels=768)\n",
      "      )\n",
      "      (5): BERTEncoderCell(\n",
      "        (dropout_layer): Dropout(p = 0.1, axes=())\n",
      "        (attention_cell): MultiHeadAttentionCell(\n",
      "          (_base_cell): DotProductAttentionCell(\n",
      "            (_dropout_layer): Dropout(p = 0.1, axes=())\n",
      "          )\n",
      "          (proj_query): Dense(768 -> 768, linear)\n",
      "          (proj_key): Dense(768 -> 768, linear)\n",
      "          (proj_value): Dense(768 -> 768, linear)\n",
      "        )\n",
      "        (proj): Dense(768 -> 768, linear)\n",
      "        (ffn): BERTPositionwiseFFN(\n",
      "          (ffn_1): Dense(768 -> 3072, linear)\n",
      "          (activation): GELU()\n",
      "          (ffn_2): Dense(3072 -> 768, linear)\n",
      "          (dropout_layer): Dropout(p = 0.1, axes=())\n",
      "          (layer_norm): BERTLayerNorm(eps=1e-12, axis=-1, center=True, scale=True, in_channels=768)\n",
      "        )\n",
      "        (layer_norm): BERTLayerNorm(eps=1e-12, axis=-1, center=True, scale=True, in_channels=768)\n",
      "      )\n",
      "      (6): BERTEncoderCell(\n",
      "        (dropout_layer): Dropout(p = 0.1, axes=())\n",
      "        (attention_cell): MultiHeadAttentionCell(\n",
      "          (_base_cell): DotProductAttentionCell(\n",
      "            (_dropout_layer): Dropout(p = 0.1, axes=())\n",
      "          )\n",
      "          (proj_query): Dense(768 -> 768, linear)\n",
      "          (proj_key): Dense(768 -> 768, linear)\n",
      "          (proj_value): Dense(768 -> 768, linear)\n",
      "        )\n",
      "        (proj): Dense(768 -> 768, linear)\n",
      "        (ffn): BERTPositionwiseFFN(\n",
      "          (ffn_1): Dense(768 -> 3072, linear)\n",
      "          (activation): GELU()\n",
      "          (ffn_2): Dense(3072 -> 768, linear)\n",
      "          (dropout_layer): Dropout(p = 0.1, axes=())\n",
      "          (layer_norm): BERTLayerNorm(eps=1e-12, axis=-1, center=True, scale=True, in_channels=768)\n",
      "        )\n",
      "        (layer_norm): BERTLayerNorm(eps=1e-12, axis=-1, center=True, scale=True, in_channels=768)\n",
      "      )\n",
      "      (7): BERTEncoderCell(\n",
      "        (dropout_layer): Dropout(p = 0.1, axes=())\n",
      "        (attention_cell): MultiHeadAttentionCell(\n",
      "          (_base_cell): DotProductAttentionCell(\n",
      "            (_dropout_layer): Dropout(p = 0.1, axes=())\n",
      "          )\n",
      "          (proj_query): Dense(768 -> 768, linear)\n",
      "          (proj_key): Dense(768 -> 768, linear)\n",
      "          (proj_value): Dense(768 -> 768, linear)\n",
      "        )\n",
      "        (proj): Dense(768 -> 768, linear)\n",
      "        (ffn): BERTPositionwiseFFN(\n",
      "          (ffn_1): Dense(768 -> 3072, linear)\n",
      "          (activation): GELU()\n",
      "          (ffn_2): Dense(3072 -> 768, linear)\n",
      "          (dropout_layer): Dropout(p = 0.1, axes=())\n",
      "          (layer_norm): BERTLayerNorm(eps=1e-12, axis=-1, center=True, scale=True, in_channels=768)\n",
      "        )\n",
      "        (layer_norm): BERTLayerNorm(eps=1e-12, axis=-1, center=True, scale=True, in_channels=768)\n",
      "      )\n",
      "      (8): BERTEncoderCell(\n",
      "        (dropout_layer): Dropout(p = 0.1, axes=())\n",
      "        (attention_cell): MultiHeadAttentionCell(\n",
      "          (_base_cell): DotProductAttentionCell(\n",
      "            (_dropout_layer): Dropout(p = 0.1, axes=())\n",
      "          )\n",
      "          (proj_query): Dense(768 -> 768, linear)\n",
      "          (proj_key): Dense(768 -> 768, linear)\n",
      "          (proj_value): Dense(768 -> 768, linear)\n",
      "        )\n",
      "        (proj): Dense(768 -> 768, linear)\n",
      "        (ffn): BERTPositionwiseFFN(\n",
      "          (ffn_1): Dense(768 -> 3072, linear)\n",
      "          (activation): GELU()\n",
      "          (ffn_2): Dense(3072 -> 768, linear)\n",
      "          (dropout_layer): Dropout(p = 0.1, axes=())\n",
      "          (layer_norm): BERTLayerNorm(eps=1e-12, axis=-1, center=True, scale=True, in_channels=768)\n",
      "        )\n",
      "        (layer_norm): BERTLayerNorm(eps=1e-12, axis=-1, center=True, scale=True, in_channels=768)\n",
      "      )\n",
      "      (9): BERTEncoderCell(\n",
      "        (dropout_layer): Dropout(p = 0.1, axes=())\n",
      "        (attention_cell): MultiHeadAttentionCell(\n",
      "          (_base_cell): DotProductAttentionCell(\n",
      "            (_dropout_layer): Dropout(p = 0.1, axes=())\n",
      "          )\n",
      "          (proj_query): Dense(768 -> 768, linear)\n",
      "          (proj_key): Dense(768 -> 768, linear)\n",
      "          (proj_value): Dense(768 -> 768, linear)\n",
      "        )\n",
      "        (proj): Dense(768 -> 768, linear)\n",
      "        (ffn): BERTPositionwiseFFN(\n",
      "          (ffn_1): Dense(768 -> 3072, linear)\n",
      "          (activation): GELU()\n",
      "          (ffn_2): Dense(3072 -> 768, linear)\n",
      "          (dropout_layer): Dropout(p = 0.1, axes=())\n",
      "          (layer_norm): BERTLayerNorm(eps=1e-12, axis=-1, center=True, scale=True, in_channels=768)\n",
      "        )\n",
      "        (layer_norm): BERTLayerNorm(eps=1e-12, axis=-1, center=True, scale=True, in_channels=768)\n",
      "      )\n",
      "      (10): BERTEncoderCell(\n",
      "        (dropout_layer): Dropout(p = 0.1, axes=())\n",
      "        (attention_cell): MultiHeadAttentionCell(\n",
      "          (_base_cell): DotProductAttentionCell(\n",
      "            (_dropout_layer): Dropout(p = 0.1, axes=())\n",
      "          )\n",
      "          (proj_query): Dense(768 -> 768, linear)\n",
      "          (proj_key): Dense(768 -> 768, linear)\n",
      "          (proj_value): Dense(768 -> 768, linear)\n",
      "        )\n",
      "        (proj): Dense(768 -> 768, linear)\n",
      "        (ffn): BERTPositionwiseFFN(\n",
      "          (ffn_1): Dense(768 -> 3072, linear)\n",
      "          (activation): GELU()\n",
      "          (ffn_2): Dense(3072 -> 768, linear)\n",
      "          (dropout_layer): Dropout(p = 0.1, axes=())\n",
      "          (layer_norm): BERTLayerNorm(eps=1e-12, axis=-1, center=True, scale=True, in_channels=768)\n",
      "        )\n",
      "        (layer_norm): BERTLayerNorm(eps=1e-12, axis=-1, center=True, scale=True, in_channels=768)\n",
      "      )\n",
      "      (11): BERTEncoderCell(\n",
      "        (dropout_layer): Dropout(p = 0.1, axes=())\n",
      "        (attention_cell): MultiHeadAttentionCell(\n",
      "          (_base_cell): DotProductAttentionCell(\n",
      "            (_dropout_layer): Dropout(p = 0.1, axes=())\n",
      "          )\n",
      "          (proj_query): Dense(768 -> 768, linear)\n",
      "          (proj_key): Dense(768 -> 768, linear)\n",
      "          (proj_value): Dense(768 -> 768, linear)\n",
      "        )\n",
      "        (proj): Dense(768 -> 768, linear)\n",
      "        (ffn): BERTPositionwiseFFN(\n",
      "          (ffn_1): Dense(768 -> 3072, linear)\n",
      "          (activation): GELU()\n",
      "          (ffn_2): Dense(3072 -> 768, linear)\n",
      "          (dropout_layer): Dropout(p = 0.1, axes=())\n",
      "          (layer_norm): BERTLayerNorm(eps=1e-12, axis=-1, center=True, scale=True, in_channels=768)\n",
      "        )\n",
      "        (layer_norm): BERTLayerNorm(eps=1e-12, axis=-1, center=True, scale=True, in_channels=768)\n",
      "      )\n",
      "    )\n",
      "  )\n",
      "  (word_embed): HybridSequential(\n",
      "    (0): Embedding(30522 -> 768, float32)\n",
      "    (1): Dropout(p = 0.1, axes=())\n",
      "  )\n",
      "  (token_type_embed): HybridSequential(\n",
      "    (0): Embedding(2 -> 768, float32)\n",
      "    (1): Dropout(p = 0.1, axes=())\n",
      "  )\n",
      "  (pooler): Dense(768 -> 768, Activation(tanh))\n",
      ")\n",
      "Time for [2 - setup BERT model]: 0:00:02.263705\n"
     ]
    }
   ],
   "source": [
    "# 2. setup\n",
    "with Timer(\"2 - setup BERT model\"):\n",
    "    model, vocabulary, ctx, tokenizer, transform, loss_function, metric, all_labels = setup_bert()"
   ]
  },
  {
   "cell_type": "code",
   "execution_count": null,
   "metadata": {},
   "outputs": [],
   "source": [
    "print(model)"
   ]
  },
  {
   "cell_type": "code",
   "execution_count": 23,
   "metadata": {
    "ExecuteTime": {
     "end_time": "2019-07-18T21:23:25.844616Z",
     "start_time": "2019-07-18T21:23:23.435498Z"
    },
    "collapsed": true
   },
   "outputs": [
    {
     "name": "stdout",
     "output_type": "stream",
     "text": [
      "wanted fetuses are beloved \"babies\"; unwanted ones are \"tissue\" (inconsistent)\n",
      "abortions are emotionally and psychologically unsafe.\n",
      "1\n",
      "vocabulary used for tokenization = \n",
      "Vocab(size=30522, unk=\"[UNK]\", reserved=\"['[PAD]', '[CLS]', '[SEP]', '[MASK]']\")\n",
      "[PAD] token id = 1\n",
      "[CLS] token id = 2\n",
      "[SEP] token id = 3\n",
      "token ids = \n",
      "[    2  2359 10768  5809  2229  2024 11419  1000 10834  1000  1025 18162\n",
      "  3924  2024  1000  8153  1000  1006 20316  1007     3 11324  2015  2024\n",
      " 14868  1998  8317  2135 25135  1012     3     1     1     1     1     1\n",
      "     1     1     1     1     1     1     1     1     1     1     1     1\n",
      "     1     1     1     1     1     1     1     1     1     1     1     1\n",
      "     1     1     1     1     1     1     1     1     1     1     1     1\n",
      "     1     1     1     1     1     1     1     1     1     1     1     1\n",
      "     1     1     1     1     1     1     1     1     1     1     1     1\n",
      "     1     1     1     1     1     1     1     1     1     1     1     1\n",
      "     1     1     1     1     1     1     1     1     1     1     1     1\n",
      "     1     1     1     1     1     1     1     1     1     1     1     1\n",
      "     1     1     1     1     1     1     1     1     1     1     1     1\n",
      "     1     1     1     1     1     1     1     1     1     1     1     1\n",
      "     1     1     1     1     1     1     1     1     1     1     1     1\n",
      "     1     1     1     1     1     1     1     1     1     1     1     1\n",
      "     1     1     1     1     1     1     1     1     1     1     1     1\n",
      "     1     1     1     1     1     1     1     1     1     1     1     1\n",
      "     1     1     1     1     1     1     1     1     1     1     1     1\n",
      "     1     1     1     1     1     1     1     1     1     1     1     1\n",
      "     1     1     1     1     1     1     1     1     1     1     1     1\n",
      "     1     1     1     1     1     1     1     1     1     1     1     1\n",
      "     1     1     1     1     1     1     1     1     1     1     1     1\n",
      "     1     1     1     1     1     1     1     1     1     1     1     1\n",
      "     1     1     1     1     1     1     1     1     1     1     1     1\n",
      "     1     1     1     1     1     1     1     1     1     1     1     1\n",
      "     1     1     1     1     1     1     1     1     1     1     1     1\n",
      "     1     1     1     1     1     1     1     1     1     1     1     1\n",
      "     1     1     1     1     1     1     1     1     1     1     1     1\n",
      "     1     1     1     1     1     1     1     1     1     1     1     1\n",
      "     1     1     1     1     1     1     1     1     1     1     1     1\n",
      "     1     1     1     1     1     1     1     1     1     1     1     1\n",
      "     1     1     1     1     1     1     1     1     1     1     1     1\n",
      "     1     1     1     1     1     1     1     1     1     1     1     1\n",
      "     1     1     1     1     1     1     1     1     1     1     1     1\n",
      "     1     1     1     1     1     1     1     1     1     1     1     1\n",
      "     1     1     1     1     1     1     1     1     1     1     1     1\n",
      "     1     1     1     1     1     1     1     1     1     1     1     1\n",
      "     1     1     1     1     1     1     1     1     1     1     1     1\n",
      "     1     1     1     1     1     1     1     1     1     1     1     1\n",
      "     1     1     1     1     1     1     1     1     1     1     1     1\n",
      "     1     1     1     1     1     1     1     1     1     1     1     1\n",
      "     1     1     1     1     1     1     1     1     1     1     1     1\n",
      "     1     1     1     1     1     1     1     1]\n",
      "valid length = \n",
      "31\n",
      "segment ids = \n",
      "[0 0 0 0 0 0 0 0 0 0 0 0 0 0 0 0 0 0 0 0 0 1 1 1 1 1 1 1 1 1 1 0 0 0 0 0 0\n",
      " 0 0 0 0 0 0 0 0 0 0 0 0 0 0 0 0 0 0 0 0 0 0 0 0 0 0 0 0 0 0 0 0 0 0 0 0 0\n",
      " 0 0 0 0 0 0 0 0 0 0 0 0 0 0 0 0 0 0 0 0 0 0 0 0 0 0 0 0 0 0 0 0 0 0 0 0 0\n",
      " 0 0 0 0 0 0 0 0 0 0 0 0 0 0 0 0 0 0 0 0 0 0 0 0 0 0 0 0 0 0 0 0 0 0 0 0 0\n",
      " 0 0 0 0 0 0 0 0 0 0 0 0 0 0 0 0 0 0 0 0 0 0 0 0 0 0 0 0 0 0 0 0 0 0 0 0 0\n",
      " 0 0 0 0 0 0 0 0 0 0 0 0 0 0 0 0 0 0 0 0 0 0 0 0 0 0 0 0 0 0 0 0 0 0 0 0 0\n",
      " 0 0 0 0 0 0 0 0 0 0 0 0 0 0 0 0 0 0 0 0 0 0 0 0 0 0 0 0 0 0 0 0 0 0 0 0 0\n",
      " 0 0 0 0 0 0 0 0 0 0 0 0 0 0 0 0 0 0 0 0 0 0 0 0 0 0 0 0 0 0 0 0 0 0 0 0 0\n",
      " 0 0 0 0 0 0 0 0 0 0 0 0 0 0 0 0 0 0 0 0 0 0 0 0 0 0 0 0 0 0 0 0 0 0 0 0 0\n",
      " 0 0 0 0 0 0 0 0 0 0 0 0 0 0 0 0 0 0 0 0 0 0 0 0 0 0 0 0 0 0 0 0 0 0 0 0 0\n",
      " 0 0 0 0 0 0 0 0 0 0 0 0 0 0 0 0 0 0 0 0 0 0 0 0 0 0 0 0 0 0 0 0 0 0 0 0 0\n",
      " 0 0 0 0 0 0 0 0 0 0 0 0 0 0 0 0 0 0 0 0 0 0 0 0 0 0 0 0 0 0 0 0 0 0 0 0 0\n",
      " 0 0 0 0 0 0 0 0 0 0 0 0 0 0 0 0 0 0 0 0 0 0 0 0 0 0 0 0 0 0 0 0 0 0 0 0 0\n",
      " 0 0 0 0 0 0 0 0 0 0 0 0 0 0 0 0 0 0 0 0 0 0 0 0 0 0 0 0 0 0 0]\n",
      "label = \n",
      "[1]\n",
      "Time for [3 - prepare training data]: 0:00:02.403821\n"
     ]
    }
   ],
   "source": [
    "with Timer(\"3 - prepare training data\"):\n",
    "    data_train_raw, data_train = transform_dataset(X_train, y_train, transform)\n",
    "    print_infos(vocabulary, data_train_raw, data_train)"
   ]
  },
  {
   "cell_type": "code",
   "execution_count": 24,
   "metadata": {
    "ExecuteTime": {
     "end_time": "2019-07-19T01:06:47.385432Z",
     "start_time": "2019-07-18T21:24:23.178835Z"
    }
   },
   "outputs": [
    {
     "data": {
      "application/vnd.jupyter.widget-view+json": {
       "model_id": "e13ed88271fb4fd1a145f32aa97a327a",
       "version_major": 2,
       "version_minor": 0
      },
      "text/plain": [
       "HBox(children=(IntProgress(value=0, max=44732), HTML(value='')))"
      ]
     },
     "metadata": {},
     "output_type": "display_data"
    },
    {
     "name": "stdout",
     "output_type": "stream",
     "text": [
      "\n",
      "Time for [setup training]: 0:03:10.299870\n",
      "loaded checkpoint for epoch 0\n",
      "loaded checkpoint for epoch 1\n",
      "loaded checkpoint for epoch 2\n"
     ]
    },
    {
     "data": {
      "application/vnd.jupyter.widget-view+json": {
       "model_id": "74dcff45adc94831afa193773faf9af6",
       "version_major": 2,
       "version_minor": 0
      },
      "text/plain": [
       "HBox(children=(IntProgress(value=0, max=7459), HTML(value='')))"
      ]
     },
     "metadata": {},
     "output_type": "display_data"
    },
    {
     "name": "stdout",
     "output_type": "stream",
     "text": [
      "[Epoch 3 Batch 10/7459] loss=0.1763, lr=0.0000050, acc=0.967 - time 0:00:08.971009\n",
      "[Epoch 3 Batch 20/7459] loss=0.0609, lr=0.0000050, acc=0.975 - time 0:00:08.602159\n",
      "[Epoch 3 Batch 30/7459] loss=0.1823, lr=0.0000050, acc=0.972 - time 0:00:08.724515\n",
      "[Epoch 3 Batch 40/7459] loss=0.3088, lr=0.0000050, acc=0.950 - time 0:00:08.868646\n",
      "[Epoch 3 Batch 50/7459] loss=0.0103, lr=0.0000050, acc=0.960 - time 0:00:08.510683\n",
      "[Epoch 3 Batch 60/7459] loss=0.1299, lr=0.0000050, acc=0.958 - time 0:00:08.820832\n",
      "[Epoch 3 Batch 70/7459] loss=0.3124, lr=0.0000050, acc=0.947 - time 0:00:08.888049\n",
      "[Epoch 3 Batch 80/7459] loss=0.1976, lr=0.0000050, acc=0.946 - time 0:00:08.689797\n",
      "[Epoch 3 Batch 90/7459] loss=0.0339, lr=0.0000050, acc=0.952 - time 0:00:08.728526\n",
      "[Epoch 3 Batch 100/7459] loss=0.1567, lr=0.0000050, acc=0.950 - time 0:00:08.842822\n",
      "[Epoch 3 Batch 110/7459] loss=0.1737, lr=0.0000050, acc=0.950 - time 0:00:08.754740\n",
      "[Epoch 3 Batch 120/7459] loss=0.1825, lr=0.0000050, acc=0.946 - time 0:00:08.784256\n",
      "[Epoch 3 Batch 130/7459] loss=0.0758, lr=0.0000050, acc=0.947 - time 0:00:08.743808\n",
      "[Epoch 3 Batch 140/7459] loss=0.1692, lr=0.0000050, acc=0.948 - time 0:00:08.696499\n",
      "[Epoch 3 Batch 150/7459] loss=0.2038, lr=0.0000050, acc=0.947 - time 0:00:08.915583\n",
      "[Epoch 3 Batch 160/7459] loss=0.3190, lr=0.0000050, acc=0.941 - time 0:00:09.033105\n",
      "[Epoch 3 Batch 170/7459] loss=0.3041, lr=0.0000050, acc=0.937 - time 0:00:08.962441\n",
      "[Epoch 3 Batch 180/7459] loss=0.0396, lr=0.0000050, acc=0.940 - time 0:00:08.755032\n",
      "[Epoch 3 Batch 190/7459] loss=0.3148, lr=0.0000050, acc=0.938 - time 0:00:08.737368\n",
      "[Epoch 3 Batch 200/7459] loss=0.3561, lr=0.0000050, acc=0.935 - time 0:00:08.720556\n",
      "[Epoch 3 Batch 210/7459] loss=0.2318, lr=0.0000050, acc=0.936 - time 0:00:08.571175\n",
      "[Epoch 3 Batch 220/7459] loss=0.2353, lr=0.0000050, acc=0.933 - time 0:00:08.960779\n",
      "[Epoch 3 Batch 230/7459] loss=0.1779, lr=0.0000050, acc=0.931 - time 0:00:08.819016\n",
      "[Epoch 3 Batch 240/7459] loss=0.1459, lr=0.0000050, acc=0.932 - time 0:00:08.762382\n",
      "[Epoch 3 Batch 250/7459] loss=0.1008, lr=0.0000050, acc=0.933 - time 0:00:08.622239\n",
      "[Epoch 3 Batch 260/7459] loss=0.1470, lr=0.0000050, acc=0.933 - time 0:00:09.047615\n",
      "[Epoch 3 Batch 270/7459] loss=0.1515, lr=0.0000050, acc=0.934 - time 0:00:08.934360\n",
      "[Epoch 3 Batch 280/7459] loss=0.2063, lr=0.0000050, acc=0.934 - time 0:00:08.742825\n",
      "[Epoch 3 Batch 290/7459] loss=0.2058, lr=0.0000050, acc=0.933 - time 0:00:08.690153\n",
      "[Epoch 3 Batch 300/7459] loss=0.1996, lr=0.0000050, acc=0.933 - time 0:00:08.816281\n",
      "[Epoch 3 Batch 310/7459] loss=0.2908, lr=0.0000050, acc=0.933 - time 0:00:08.756890\n",
      "[Epoch 3 Batch 320/7459] loss=0.3933, lr=0.0000050, acc=0.930 - time 0:00:08.786835\n",
      "[Epoch 3 Batch 330/7459] loss=0.1769, lr=0.0000050, acc=0.931 - time 0:00:08.759750\n",
      "[Epoch 3 Batch 340/7459] loss=0.1659, lr=0.0000050, acc=0.931 - time 0:00:08.955799\n",
      "[Epoch 3 Batch 350/7459] loss=0.2534, lr=0.0000050, acc=0.931 - time 0:00:08.957288\n",
      "[Epoch 3 Batch 360/7459] loss=0.2434, lr=0.0000050, acc=0.931 - time 0:00:08.651651\n",
      "[Epoch 3 Batch 370/7459] loss=0.3167, lr=0.0000050, acc=0.930 - time 0:00:08.871582\n",
      "[Epoch 3 Batch 380/7459] loss=0.1288, lr=0.0000050, acc=0.930 - time 0:00:08.828018\n",
      "[Epoch 3 Batch 390/7459] loss=0.1030, lr=0.0000050, acc=0.931 - time 0:00:08.780330\n",
      "[Epoch 3 Batch 400/7459] loss=0.2251, lr=0.0000050, acc=0.930 - time 0:00:08.885572\n",
      "[Epoch 3 Batch 410/7459] loss=0.1993, lr=0.0000050, acc=0.931 - time 0:00:08.701621\n",
      "[Epoch 3 Batch 420/7459] loss=0.0307, lr=0.0000050, acc=0.932 - time 0:00:08.666263\n",
      "[Epoch 3 Batch 430/7459] loss=0.0848, lr=0.0000050, acc=0.933 - time 0:00:08.746235\n",
      "[Epoch 3 Batch 440/7459] loss=0.3778, lr=0.0000050, acc=0.932 - time 0:00:08.986554\n",
      "[Epoch 3 Batch 450/7459] loss=0.0713, lr=0.0000050, acc=0.933 - time 0:00:08.749555\n",
      "[Epoch 3 Batch 460/7459] loss=0.1702, lr=0.0000050, acc=0.934 - time 0:00:08.920057\n",
      "[Epoch 3 Batch 470/7459] loss=0.1210, lr=0.0000050, acc=0.934 - time 0:00:08.779565\n",
      "[Epoch 3 Batch 480/7459] loss=0.1217, lr=0.0000050, acc=0.935 - time 0:00:08.791335\n",
      "[Epoch 3 Batch 490/7459] loss=0.3458, lr=0.0000050, acc=0.934 - time 0:00:08.902997\n",
      "[Epoch 3 Batch 500/7459] loss=0.1285, lr=0.0000050, acc=0.934 - time 0:00:08.716174\n",
      "[Epoch 3 Batch 510/7459] loss=0.2649, lr=0.0000050, acc=0.933 - time 0:00:08.791159\n",
      "[Epoch 3 Batch 520/7459] loss=0.3553, lr=0.0000050, acc=0.932 - time 0:00:08.873372\n",
      "[Epoch 3 Batch 530/7459] loss=0.3170, lr=0.0000050, acc=0.931 - time 0:00:08.886554\n",
      "[Epoch 3 Batch 540/7459] loss=0.0543, lr=0.0000050, acc=0.932 - time 0:00:08.752807\n",
      "[Epoch 3 Batch 550/7459] loss=0.0769, lr=0.0000050, acc=0.933 - time 0:00:08.610004\n",
      "[Epoch 3 Batch 560/7459] loss=0.3446, lr=0.0000050, acc=0.931 - time 0:00:08.897717\n",
      "[Epoch 3 Batch 570/7459] loss=0.1886, lr=0.0000050, acc=0.932 - time 0:00:08.836290\n",
      "[Epoch 3 Batch 580/7459] loss=0.2518, lr=0.0000050, acc=0.931 - time 0:00:08.729719\n",
      "[Epoch 3 Batch 590/7459] loss=0.1004, lr=0.0000050, acc=0.931 - time 0:00:08.711803\n",
      "[Epoch 3 Batch 600/7459] loss=0.0274, lr=0.0000050, acc=0.932 - time 0:00:08.658368\n",
      "[Epoch 3 Batch 610/7459] loss=0.5122, lr=0.0000050, acc=0.931 - time 0:00:08.803662\n",
      "[Epoch 3 Batch 620/7459] loss=0.2206, lr=0.0000050, acc=0.931 - time 0:00:08.673230\n",
      "[Epoch 3 Batch 630/7459] loss=0.0342, lr=0.0000050, acc=0.932 - time 0:00:08.694567\n",
      "[Epoch 3 Batch 640/7459] loss=0.2946, lr=0.0000050, acc=0.931 - time 0:00:08.848753\n",
      "[Epoch 3 Batch 650/7459] loss=0.2661, lr=0.0000050, acc=0.931 - time 0:00:08.795091\n",
      "[Epoch 3 Batch 660/7459] loss=0.1312, lr=0.0000050, acc=0.932 - time 0:00:08.632805\n",
      "[Epoch 3 Batch 670/7459] loss=0.2645, lr=0.0000050, acc=0.931 - time 0:00:08.804908\n",
      "[Epoch 3 Batch 680/7459] loss=0.3792, lr=0.0000050, acc=0.929 - time 0:00:08.778681\n",
      "[Epoch 3 Batch 690/7459] loss=0.0412, lr=0.0000050, acc=0.930 - time 0:00:08.695126\n",
      "[Epoch 3 Batch 700/7459] loss=0.2103, lr=0.0000050, acc=0.930 - time 0:00:08.603920\n",
      "[Epoch 3 Batch 710/7459] loss=0.1976, lr=0.0000050, acc=0.930 - time 0:00:08.797032\n",
      "[Epoch 3 Batch 720/7459] loss=0.2714, lr=0.0000050, acc=0.930 - time 0:00:08.875425\n",
      "[Epoch 3 Batch 730/7459] loss=0.1104, lr=0.0000050, acc=0.930 - time 0:00:08.726208\n",
      "[Epoch 3 Batch 740/7459] loss=0.0969, lr=0.0000050, acc=0.930 - time 0:00:08.779710\n",
      "[Epoch 3 Batch 750/7459] loss=0.2040, lr=0.0000050, acc=0.930 - time 0:00:08.823760\n",
      "[Epoch 3 Batch 760/7459] loss=0.2572, lr=0.0000050, acc=0.930 - time 0:00:08.996830\n",
      "[Epoch 3 Batch 770/7459] loss=0.0405, lr=0.0000050, acc=0.931 - time 0:00:08.646342\n",
      "[Epoch 3 Batch 780/7459] loss=0.3738, lr=0.0000050, acc=0.930 - time 0:00:09.080239\n",
      "[Epoch 3 Batch 790/7459] loss=0.1901, lr=0.0000050, acc=0.929 - time 0:00:08.800091\n",
      "[Epoch 3 Batch 800/7459] loss=0.1027, lr=0.0000050, acc=0.930 - time 0:00:08.806836\n",
      "[Epoch 3 Batch 810/7459] loss=0.0763, lr=0.0000050, acc=0.930 - time 0:00:08.794299\n",
      "[Epoch 3 Batch 820/7459] loss=0.0605, lr=0.0000050, acc=0.931 - time 0:00:08.767374\n",
      "[Epoch 3 Batch 830/7459] loss=0.2640, lr=0.0000050, acc=0.931 - time 0:00:08.882429\n",
      "[Epoch 3 Batch 840/7459] loss=0.0632, lr=0.0000050, acc=0.931 - time 0:00:08.663675\n",
      "[Epoch 3 Batch 850/7459] loss=0.3748, lr=0.0000050, acc=0.931 - time 0:00:08.858523\n",
      "[Epoch 3 Batch 860/7459] loss=0.1386, lr=0.0000050, acc=0.932 - time 0:00:08.657148\n",
      "[Epoch 3 Batch 870/7459] loss=0.1317, lr=0.0000050, acc=0.932 - time 0:00:08.901258\n",
      "[Epoch 3 Batch 880/7459] loss=0.2223, lr=0.0000050, acc=0.931 - time 0:00:08.981953\n",
      "[Epoch 3 Batch 890/7459] loss=0.3662, lr=0.0000050, acc=0.931 - time 0:00:08.850829\n",
      "[Epoch 3 Batch 900/7459] loss=0.0921, lr=0.0000050, acc=0.931 - time 0:00:08.973000\n",
      "[Epoch 3 Batch 910/7459] loss=0.0897, lr=0.0000050, acc=0.932 - time 0:00:08.787414\n",
      "[Epoch 3 Batch 920/7459] loss=0.1884, lr=0.0000050, acc=0.932 - time 0:00:08.852835\n",
      "[Epoch 3 Batch 930/7459] loss=0.2374, lr=0.0000050, acc=0.932 - time 0:00:08.686163\n",
      "[Epoch 3 Batch 940/7459] loss=0.3206, lr=0.0000050, acc=0.931 - time 0:00:08.896648\n",
      "[Epoch 3 Batch 950/7459] loss=0.1150, lr=0.0000050, acc=0.932 - time 0:00:08.698541\n",
      "[Epoch 3 Batch 960/7459] loss=0.2081, lr=0.0000050, acc=0.932 - time 0:00:08.649514\n",
      "[Epoch 3 Batch 970/7459] loss=0.2544, lr=0.0000050, acc=0.932 - time 0:00:09.016491\n",
      "[Epoch 3 Batch 980/7459] loss=0.4628, lr=0.0000050, acc=0.931 - time 0:00:08.851867\n"
     ]
    },
    {
     "name": "stdout",
     "output_type": "stream",
     "text": [
      "[Epoch 3 Batch 990/7459] loss=0.1781, lr=0.0000050, acc=0.931 - time 0:00:08.873673\n",
      "[Epoch 3 Batch 1000/7459] loss=0.2120, lr=0.0000050, acc=0.930 - time 0:00:08.620039\n",
      "[Epoch 3 Batch 1010/7459] loss=0.0488, lr=0.0000050, acc=0.931 - time 0:00:08.871709\n",
      "[Epoch 3 Batch 1020/7459] loss=0.2275, lr=0.0000050, acc=0.931 - time 0:00:08.880643\n",
      "[Epoch 3 Batch 1030/7459] loss=0.1650, lr=0.0000050, acc=0.931 - time 0:00:08.994270\n",
      "[Epoch 3 Batch 1040/7459] loss=0.1589, lr=0.0000050, acc=0.931 - time 0:00:08.765680\n",
      "[Epoch 3 Batch 1050/7459] loss=0.3426, lr=0.0000050, acc=0.930 - time 0:00:08.803807\n",
      "[Epoch 3 Batch 1060/7459] loss=0.1855, lr=0.0000050, acc=0.930 - time 0:00:08.637885\n",
      "[Epoch 3 Batch 1070/7459] loss=0.0905, lr=0.0000050, acc=0.931 - time 0:00:08.790016\n",
      "[Epoch 3 Batch 1080/7459] loss=0.4114, lr=0.0000050, acc=0.930 - time 0:00:08.794393\n",
      "[Epoch 3 Batch 1090/7459] loss=0.0769, lr=0.0000050, acc=0.931 - time 0:00:08.666419\n",
      "[Epoch 3 Batch 1100/7459] loss=0.0316, lr=0.0000050, acc=0.931 - time 0:00:08.708438\n",
      "[Epoch 3 Batch 1110/7459] loss=0.4524, lr=0.0000050, acc=0.931 - time 0:00:08.701634\n",
      "[Epoch 3 Batch 1120/7459] loss=0.0047, lr=0.0000050, acc=0.931 - time 0:00:08.603471\n",
      "[Epoch 3 Batch 1130/7459] loss=0.1320, lr=0.0000050, acc=0.931 - time 0:00:09.039918\n",
      "[Epoch 3 Batch 1140/7459] loss=0.0949, lr=0.0000050, acc=0.931 - time 0:00:08.882046\n",
      "[Epoch 3 Batch 1150/7459] loss=0.1506, lr=0.0000050, acc=0.931 - time 0:00:08.793670\n",
      "[Epoch 3 Batch 1160/7459] loss=0.2610, lr=0.0000050, acc=0.931 - time 0:00:08.598334\n",
      "[Epoch 3 Batch 1170/7459] loss=0.2723, lr=0.0000050, acc=0.931 - time 0:00:09.063122\n",
      "[Epoch 3 Batch 1180/7459] loss=0.3894, lr=0.0000050, acc=0.931 - time 0:00:08.981286\n",
      "[Epoch 3 Batch 1190/7459] loss=0.0685, lr=0.0000050, acc=0.931 - time 0:00:08.657319\n",
      "[Epoch 3 Batch 1200/7459] loss=0.1590, lr=0.0000050, acc=0.931 - time 0:00:08.694045\n",
      "[Epoch 3 Batch 1210/7459] loss=0.4042, lr=0.0000050, acc=0.931 - time 0:00:08.894603\n",
      "[Epoch 3 Batch 1220/7459] loss=0.3308, lr=0.0000050, acc=0.930 - time 0:00:08.833767\n",
      "[Epoch 3 Batch 1230/7459] loss=0.1836, lr=0.0000050, acc=0.930 - time 0:00:08.856923\n",
      "[Epoch 3 Batch 1240/7459] loss=0.1633, lr=0.0000050, acc=0.931 - time 0:00:08.786325\n",
      "[Epoch 3 Batch 1250/7459] loss=0.1106, lr=0.0000050, acc=0.931 - time 0:00:08.831319\n",
      "[Epoch 3 Batch 1260/7459] loss=0.2908, lr=0.0000050, acc=0.931 - time 0:00:08.786285\n",
      "[Epoch 3 Batch 1270/7459] loss=0.2666, lr=0.0000050, acc=0.930 - time 0:00:08.912535\n",
      "[Epoch 3 Batch 1280/7459] loss=0.1381, lr=0.0000050, acc=0.930 - time 0:00:08.900626\n",
      "[Epoch 3 Batch 1290/7459] loss=0.2977, lr=0.0000050, acc=0.930 - time 0:00:08.867683\n",
      "[Epoch 3 Batch 1300/7459] loss=0.1340, lr=0.0000050, acc=0.930 - time 0:00:08.752733\n",
      "[Epoch 3 Batch 1310/7459] loss=0.1058, lr=0.0000050, acc=0.930 - time 0:00:08.871485\n",
      "[Epoch 3 Batch 1320/7459] loss=0.2292, lr=0.0000050, acc=0.930 - time 0:00:08.793816\n",
      "[Epoch 3 Batch 1330/7459] loss=0.1873, lr=0.0000050, acc=0.930 - time 0:00:08.747128\n",
      "[Epoch 3 Batch 1340/7459] loss=0.2308, lr=0.0000050, acc=0.930 - time 0:00:08.843908\n",
      "[Epoch 3 Batch 1350/7459] loss=0.1799, lr=0.0000050, acc=0.930 - time 0:00:09.108586\n",
      "[Epoch 3 Batch 1360/7459] loss=0.0272, lr=0.0000050, acc=0.931 - time 0:00:08.709477\n",
      "[Epoch 3 Batch 1370/7459] loss=0.1075, lr=0.0000050, acc=0.931 - time 0:00:08.695170\n",
      "[Epoch 3 Batch 1380/7459] loss=0.1503, lr=0.0000050, acc=0.931 - time 0:00:08.740779\n",
      "[Epoch 3 Batch 1390/7459] loss=0.0257, lr=0.0000050, acc=0.931 - time 0:00:08.739646\n",
      "[Epoch 3 Batch 1400/7459] loss=0.2477, lr=0.0000050, acc=0.931 - time 0:00:08.627100\n",
      "[Epoch 3 Batch 1410/7459] loss=0.0006, lr=0.0000050, acc=0.932 - time 0:00:08.603816\n",
      "[Epoch 3 Batch 1420/7459] loss=0.1659, lr=0.0000050, acc=0.932 - time 0:00:08.758110\n",
      "[Epoch 3 Batch 1430/7459] loss=0.1172, lr=0.0000050, acc=0.932 - time 0:00:08.676244\n",
      "[Epoch 3 Batch 1440/7459] loss=0.3692, lr=0.0000050, acc=0.932 - time 0:00:08.904413\n",
      "[Epoch 3 Batch 1450/7459] loss=0.0497, lr=0.0000050, acc=0.932 - time 0:00:08.865111\n",
      "[Epoch 3 Batch 1460/7459] loss=0.0774, lr=0.0000050, acc=0.932 - time 0:00:08.823647\n",
      "[Epoch 3 Batch 1470/7459] loss=0.1818, lr=0.0000050, acc=0.932 - time 0:00:08.812890\n",
      "[Epoch 3 Batch 1480/7459] loss=0.2285, lr=0.0000050, acc=0.933 - time 0:00:08.771105\n",
      "[Epoch 3 Batch 1490/7459] loss=0.2206, lr=0.0000050, acc=0.932 - time 0:00:08.822593\n",
      "[Epoch 3 Batch 1500/7459] loss=0.1540, lr=0.0000050, acc=0.932 - time 0:00:08.805499\n",
      "[Epoch 3 Batch 1510/7459] loss=0.2752, lr=0.0000050, acc=0.932 - time 0:00:08.846051\n",
      "[Epoch 3 Batch 1520/7459] loss=0.3820, lr=0.0000050, acc=0.931 - time 0:00:08.863726\n",
      "[Epoch 3 Batch 1530/7459] loss=0.2278, lr=0.0000050, acc=0.931 - time 0:00:08.799078\n",
      "[Epoch 3 Batch 1540/7459] loss=0.1746, lr=0.0000050, acc=0.931 - time 0:00:08.855852\n",
      "[Epoch 3 Batch 1550/7459] loss=0.0616, lr=0.0000050, acc=0.932 - time 0:00:08.817570\n",
      "[Epoch 3 Batch 1560/7459] loss=0.2077, lr=0.0000050, acc=0.931 - time 0:00:08.784242\n",
      "[Epoch 3 Batch 1570/7459] loss=0.3182, lr=0.0000050, acc=0.931 - time 0:00:08.990482\n",
      "[Epoch 3 Batch 1580/7459] loss=0.0890, lr=0.0000050, acc=0.931 - time 0:00:08.693363\n",
      "[Epoch 3 Batch 1590/7459] loss=0.1564, lr=0.0000050, acc=0.931 - time 0:00:08.735071\n",
      "[Epoch 3 Batch 1600/7459] loss=0.1497, lr=0.0000050, acc=0.931 - time 0:00:08.908994\n",
      "[Epoch 3 Batch 1610/7459] loss=0.1463, lr=0.0000050, acc=0.931 - time 0:00:08.662741\n",
      "[Epoch 3 Batch 1620/7459] loss=0.3092, lr=0.0000050, acc=0.931 - time 0:00:08.851756\n",
      "[Epoch 3 Batch 1630/7459] loss=0.4541, lr=0.0000050, acc=0.931 - time 0:00:08.882358\n",
      "[Epoch 3 Batch 1640/7459] loss=0.0733, lr=0.0000050, acc=0.931 - time 0:00:08.758726\n",
      "[Epoch 3 Batch 1650/7459] loss=0.2768, lr=0.0000050, acc=0.931 - time 0:00:08.728415\n",
      "[Epoch 3 Batch 1660/7459] loss=0.0857, lr=0.0000050, acc=0.931 - time 0:00:08.830654\n",
      "[Epoch 3 Batch 1670/7459] loss=0.1602, lr=0.0000050, acc=0.931 - time 0:00:08.709227\n",
      "[Epoch 3 Batch 1680/7459] loss=0.4776, lr=0.0000050, acc=0.931 - time 0:00:08.997237\n",
      "[Epoch 3 Batch 1690/7459] loss=0.3042, lr=0.0000050, acc=0.931 - time 0:00:08.983882\n",
      "[Epoch 3 Batch 1700/7459] loss=0.3524, lr=0.0000050, acc=0.930 - time 0:00:08.743830\n",
      "[Epoch 3 Batch 1710/7459] loss=0.3068, lr=0.0000050, acc=0.930 - time 0:00:08.954087\n",
      "[Epoch 3 Batch 1720/7459] loss=0.1564, lr=0.0000050, acc=0.930 - time 0:00:08.850322\n",
      "[Epoch 3 Batch 1730/7459] loss=0.1719, lr=0.0000050, acc=0.930 - time 0:00:08.657640\n",
      "[Epoch 3 Batch 1740/7459] loss=0.1472, lr=0.0000050, acc=0.931 - time 0:00:08.693713\n",
      "[Epoch 3 Batch 1750/7459] loss=0.1205, lr=0.0000050, acc=0.931 - time 0:00:08.630362\n",
      "[Epoch 3 Batch 1760/7459] loss=0.3329, lr=0.0000050, acc=0.931 - time 0:00:08.844486\n",
      "[Epoch 3 Batch 1770/7459] loss=0.2453, lr=0.0000050, acc=0.931 - time 0:00:08.806258\n",
      "[Epoch 3 Batch 1780/7459] loss=0.1868, lr=0.0000050, acc=0.931 - time 0:00:08.916015\n",
      "[Epoch 3 Batch 1790/7459] loss=0.0837, lr=0.0000050, acc=0.931 - time 0:00:08.750363\n",
      "[Epoch 3 Batch 1800/7459] loss=0.1691, lr=0.0000050, acc=0.931 - time 0:00:08.861997\n",
      "[Epoch 3 Batch 1810/7459] loss=0.0090, lr=0.0000050, acc=0.931 - time 0:00:08.688288\n",
      "[Epoch 3 Batch 1820/7459] loss=0.1181, lr=0.0000050, acc=0.931 - time 0:00:08.918712\n",
      "[Epoch 3 Batch 1830/7459] loss=0.0489, lr=0.0000050, acc=0.932 - time 0:00:08.797982\n",
      "[Epoch 3 Batch 1840/7459] loss=0.2592, lr=0.0000050, acc=0.931 - time 0:00:08.931213\n",
      "[Epoch 3 Batch 1850/7459] loss=0.1954, lr=0.0000050, acc=0.932 - time 0:00:08.699138\n",
      "[Epoch 3 Batch 1860/7459] loss=0.0646, lr=0.0000050, acc=0.932 - time 0:00:08.898126\n",
      "[Epoch 3 Batch 1870/7459] loss=0.2561, lr=0.0000050, acc=0.932 - time 0:00:08.965376\n",
      "[Epoch 3 Batch 1880/7459] loss=0.2319, lr=0.0000050, acc=0.932 - time 0:00:08.868189\n",
      "[Epoch 3 Batch 1890/7459] loss=0.1835, lr=0.0000050, acc=0.932 - time 0:00:08.804099\n",
      "[Epoch 3 Batch 1900/7459] loss=0.2596, lr=0.0000050, acc=0.932 - time 0:00:08.918741\n",
      "[Epoch 3 Batch 1910/7459] loss=0.1638, lr=0.0000050, acc=0.932 - time 0:00:08.743563\n",
      "[Epoch 3 Batch 1920/7459] loss=0.3112, lr=0.0000050, acc=0.932 - time 0:00:08.730514\n",
      "[Epoch 3 Batch 1930/7459] loss=0.1745, lr=0.0000050, acc=0.932 - time 0:00:08.713670\n",
      "[Epoch 3 Batch 1940/7459] loss=0.4044, lr=0.0000050, acc=0.931 - time 0:00:08.809936\n",
      "[Epoch 3 Batch 1950/7459] loss=0.1477, lr=0.0000050, acc=0.931 - time 0:00:08.854599\n"
     ]
    },
    {
     "name": "stdout",
     "output_type": "stream",
     "text": [
      "[Epoch 3 Batch 1960/7459] loss=0.3625, lr=0.0000050, acc=0.931 - time 0:00:09.062955\n",
      "[Epoch 3 Batch 1970/7459] loss=0.3254, lr=0.0000050, acc=0.931 - time 0:00:08.736995\n",
      "[Epoch 3 Batch 1980/7459] loss=0.3541, lr=0.0000050, acc=0.931 - time 0:00:08.799196\n",
      "[Epoch 3 Batch 1990/7459] loss=0.0214, lr=0.0000050, acc=0.931 - time 0:00:08.733095\n",
      "[Epoch 3 Batch 2000/7459] loss=0.2826, lr=0.0000050, acc=0.931 - time 0:00:08.679637\n",
      "[Epoch 3 Batch 2010/7459] loss=0.1013, lr=0.0000050, acc=0.931 - time 0:00:08.810562\n",
      "[Epoch 3 Batch 2020/7459] loss=0.3368, lr=0.0000050, acc=0.931 - time 0:00:08.845279\n",
      "[Epoch 3 Batch 2030/7459] loss=0.1739, lr=0.0000050, acc=0.931 - time 0:00:08.820941\n",
      "[Epoch 3 Batch 2040/7459] loss=0.0295, lr=0.0000050, acc=0.931 - time 0:00:08.873195\n",
      "[Epoch 3 Batch 2050/7459] loss=0.3325, lr=0.0000050, acc=0.931 - time 0:00:08.814368\n",
      "[Epoch 3 Batch 2060/7459] loss=0.3584, lr=0.0000050, acc=0.931 - time 0:00:08.844797\n",
      "[Epoch 3 Batch 2070/7459] loss=0.2054, lr=0.0000050, acc=0.931 - time 0:00:08.916386\n",
      "[Epoch 3 Batch 2080/7459] loss=0.2754, lr=0.0000050, acc=0.930 - time 0:00:08.813486\n",
      "[Epoch 3 Batch 2090/7459] loss=0.1686, lr=0.0000050, acc=0.930 - time 0:00:08.708966\n",
      "[Epoch 3 Batch 2100/7459] loss=0.1618, lr=0.0000050, acc=0.930 - time 0:00:08.733523\n",
      "[Epoch 3 Batch 2110/7459] loss=0.3562, lr=0.0000050, acc=0.930 - time 0:00:08.981393\n",
      "[Epoch 3 Batch 2120/7459] loss=0.1229, lr=0.0000050, acc=0.930 - time 0:00:08.683341\n",
      "[Epoch 3 Batch 2130/7459] loss=0.2478, lr=0.0000050, acc=0.930 - time 0:00:09.051528\n",
      "[Epoch 3 Batch 2140/7459] loss=0.1632, lr=0.0000050, acc=0.930 - time 0:00:08.887459\n",
      "[Epoch 3 Batch 2150/7459] loss=0.1408, lr=0.0000050, acc=0.930 - time 0:00:08.822193\n",
      "[Epoch 3 Batch 2160/7459] loss=0.2389, lr=0.0000050, acc=0.930 - time 0:00:08.947135\n",
      "[Epoch 3 Batch 2170/7459] loss=0.1847, lr=0.0000050, acc=0.930 - time 0:00:08.771968\n",
      "[Epoch 3 Batch 2180/7459] loss=0.5039, lr=0.0000050, acc=0.930 - time 0:00:09.010485\n",
      "[Epoch 3 Batch 2190/7459] loss=0.2909, lr=0.0000050, acc=0.929 - time 0:00:08.904431\n",
      "[Epoch 3 Batch 2200/7459] loss=0.2883, lr=0.0000050, acc=0.929 - time 0:00:08.642227\n",
      "[Epoch 3 Batch 2210/7459] loss=0.1400, lr=0.0000050, acc=0.930 - time 0:00:08.760130\n",
      "[Epoch 3 Batch 2220/7459] loss=0.1481, lr=0.0000050, acc=0.930 - time 0:00:08.781771\n",
      "[Epoch 3 Batch 2230/7459] loss=0.3373, lr=0.0000050, acc=0.929 - time 0:00:08.790379\n",
      "[Epoch 3 Batch 2240/7459] loss=0.2121, lr=0.0000050, acc=0.929 - time 0:00:08.773749\n",
      "[Epoch 3 Batch 2250/7459] loss=0.1717, lr=0.0000050, acc=0.929 - time 0:00:08.776236\n",
      "[Epoch 3 Batch 2260/7459] loss=0.2998, lr=0.0000050, acc=0.929 - time 0:00:08.815099\n",
      "[Epoch 3 Batch 2270/7459] loss=0.1283, lr=0.0000050, acc=0.929 - time 0:00:08.932942\n",
      "[Epoch 3 Batch 2280/7459] loss=0.2386, lr=0.0000050, acc=0.929 - time 0:00:08.717602\n",
      "[Epoch 3 Batch 2290/7459] loss=0.0528, lr=0.0000050, acc=0.930 - time 0:00:08.867454\n",
      "[Epoch 3 Batch 2300/7459] loss=0.1045, lr=0.0000050, acc=0.930 - time 0:00:08.990520\n",
      "[Epoch 3 Batch 2310/7459] loss=0.5008, lr=0.0000050, acc=0.929 - time 0:00:08.742199\n",
      "[Epoch 3 Batch 2320/7459] loss=0.0536, lr=0.0000050, acc=0.930 - time 0:00:08.783366\n",
      "[Epoch 3 Batch 2330/7459] loss=0.2309, lr=0.0000050, acc=0.929 - time 0:00:08.915350\n",
      "[Epoch 3 Batch 2340/7459] loss=0.2689, lr=0.0000050, acc=0.929 - time 0:00:08.715125\n",
      "[Epoch 3 Batch 2350/7459] loss=0.3803, lr=0.0000050, acc=0.929 - time 0:00:08.916219\n",
      "[Epoch 3 Batch 2360/7459] loss=0.1081, lr=0.0000050, acc=0.929 - time 0:00:08.674991\n",
      "[Epoch 3 Batch 2370/7459] loss=0.0896, lr=0.0000050, acc=0.929 - time 0:00:08.712575\n",
      "[Epoch 3 Batch 2380/7459] loss=0.1692, lr=0.0000050, acc=0.929 - time 0:00:08.710925\n",
      "[Epoch 3 Batch 2390/7459] loss=0.1225, lr=0.0000050, acc=0.929 - time 0:00:08.692422\n",
      "[Epoch 3 Batch 2400/7459] loss=0.0406, lr=0.0000050, acc=0.930 - time 0:00:08.791517\n",
      "[Epoch 3 Batch 2410/7459] loss=0.1516, lr=0.0000050, acc=0.930 - time 0:00:08.845143\n",
      "[Epoch 3 Batch 2420/7459] loss=0.3779, lr=0.0000050, acc=0.929 - time 0:00:08.816683\n",
      "[Epoch 3 Batch 2430/7459] loss=0.1563, lr=0.0000050, acc=0.930 - time 0:00:08.866097\n",
      "[Epoch 3 Batch 2440/7459] loss=0.0796, lr=0.0000050, acc=0.930 - time 0:00:08.918595\n",
      "[Epoch 3 Batch 2450/7459] loss=0.3198, lr=0.0000050, acc=0.930 - time 0:00:08.753983\n",
      "[Epoch 3 Batch 2460/7459] loss=0.1866, lr=0.0000050, acc=0.930 - time 0:00:08.771699\n",
      "[Epoch 3 Batch 2470/7459] loss=0.1906, lr=0.0000050, acc=0.930 - time 0:00:08.808066\n",
      "[Epoch 3 Batch 2480/7459] loss=0.1579, lr=0.0000050, acc=0.930 - time 0:00:08.792701\n",
      "[Epoch 3 Batch 2490/7459] loss=0.0870, lr=0.0000050, acc=0.930 - time 0:00:08.697953\n",
      "[Epoch 3 Batch 2500/7459] loss=0.4268, lr=0.0000050, acc=0.930 - time 0:00:08.812730\n",
      "[Epoch 3 Batch 2510/7459] loss=0.2257, lr=0.0000050, acc=0.930 - time 0:00:08.396853\n",
      "[Epoch 3 Batch 2520/7459] loss=0.1148, lr=0.0000050, acc=0.930 - time 0:00:08.707645\n",
      "[Epoch 3 Batch 2530/7459] loss=0.4087, lr=0.0000050, acc=0.930 - time 0:00:08.778282\n",
      "[Epoch 3 Batch 2540/7459] loss=0.1691, lr=0.0000050, acc=0.930 - time 0:00:08.784094\n",
      "[Epoch 3 Batch 2550/7459] loss=0.2189, lr=0.0000050, acc=0.930 - time 0:00:08.737568\n",
      "[Epoch 3 Batch 2560/7459] loss=0.1277, lr=0.0000050, acc=0.930 - time 0:00:08.730655\n",
      "[Epoch 3 Batch 2570/7459] loss=0.2443, lr=0.0000050, acc=0.930 - time 0:00:08.827098\n",
      "[Epoch 3 Batch 2580/7459] loss=0.1594, lr=0.0000050, acc=0.930 - time 0:00:08.759180\n",
      "[Epoch 3 Batch 2590/7459] loss=0.3997, lr=0.0000050, acc=0.929 - time 0:00:08.887895\n",
      "[Epoch 3 Batch 2600/7459] loss=0.3757, lr=0.0000050, acc=0.929 - time 0:00:08.864868\n",
      "[Epoch 3 Batch 2610/7459] loss=0.0661, lr=0.0000050, acc=0.929 - time 0:00:08.782067\n",
      "[Epoch 3 Batch 2620/7459] loss=0.1852, lr=0.0000050, acc=0.929 - time 0:00:08.834460\n",
      "[Epoch 3 Batch 2630/7459] loss=0.2452, lr=0.0000050, acc=0.929 - time 0:00:08.952290\n",
      "[Epoch 3 Batch 2640/7459] loss=0.1121, lr=0.0000050, acc=0.929 - time 0:00:08.741391\n",
      "[Epoch 3 Batch 2650/7459] loss=0.1784, lr=0.0000050, acc=0.929 - time 0:00:08.996488\n",
      "[Epoch 3 Batch 2660/7459] loss=0.0850, lr=0.0000050, acc=0.929 - time 0:00:08.826229\n",
      "[Epoch 3 Batch 2670/7459] loss=0.2780, lr=0.0000050, acc=0.929 - time 0:00:08.712128\n",
      "[Epoch 3 Batch 2680/7459] loss=0.3752, lr=0.0000050, acc=0.929 - time 0:00:08.702170\n",
      "[Epoch 3 Batch 2690/7459] loss=0.0338, lr=0.0000050, acc=0.929 - time 0:00:08.717583\n",
      "[Epoch 3 Batch 2700/7459] loss=0.3471, lr=0.0000050, acc=0.929 - time 0:00:08.935795\n",
      "[Epoch 3 Batch 2710/7459] loss=0.2186, lr=0.0000050, acc=0.929 - time 0:00:08.792921\n",
      "[Epoch 3 Batch 2720/7459] loss=0.0821, lr=0.0000050, acc=0.929 - time 0:00:08.778469\n",
      "[Epoch 3 Batch 2730/7459] loss=0.1609, lr=0.0000050, acc=0.929 - time 0:00:08.779750\n",
      "[Epoch 3 Batch 2740/7459] loss=0.0853, lr=0.0000050, acc=0.929 - time 0:00:08.742348\n",
      "[Epoch 3 Batch 2750/7459] loss=0.4030, lr=0.0000050, acc=0.929 - time 0:00:08.934813\n",
      "[Epoch 3 Batch 2760/7459] loss=0.1746, lr=0.0000050, acc=0.929 - time 0:00:08.845833\n",
      "[Epoch 3 Batch 2770/7459] loss=0.2074, lr=0.0000050, acc=0.929 - time 0:00:09.030135\n",
      "[Epoch 3 Batch 2780/7459] loss=0.0215, lr=0.0000050, acc=0.929 - time 0:00:08.654109\n",
      "[Epoch 3 Batch 2790/7459] loss=0.2853, lr=0.0000050, acc=0.929 - time 0:00:09.035287\n",
      "[Epoch 3 Batch 2800/7459] loss=0.2194, lr=0.0000050, acc=0.929 - time 0:00:08.865072\n",
      "[Epoch 3 Batch 2810/7459] loss=0.4159, lr=0.0000050, acc=0.929 - time 0:00:08.939106\n",
      "[Epoch 3 Batch 2820/7459] loss=0.2616, lr=0.0000050, acc=0.929 - time 0:00:08.807641\n",
      "[Epoch 3 Batch 2830/7459] loss=0.1056, lr=0.0000050, acc=0.929 - time 0:00:08.911129\n",
      "[Epoch 3 Batch 2840/7459] loss=0.1520, lr=0.0000050, acc=0.929 - time 0:00:08.867218\n",
      "[Epoch 3 Batch 2850/7459] loss=0.1977, lr=0.0000050, acc=0.929 - time 0:00:08.698886\n",
      "[Epoch 3 Batch 2860/7459] loss=0.1730, lr=0.0000050, acc=0.929 - time 0:00:08.711006\n",
      "[Epoch 3 Batch 2870/7459] loss=0.2271, lr=0.0000050, acc=0.929 - time 0:00:08.946259\n",
      "[Epoch 3 Batch 2880/7459] loss=0.0737, lr=0.0000050, acc=0.929 - time 0:00:08.768945\n",
      "[Epoch 3 Batch 2890/7459] loss=0.2036, lr=0.0000050, acc=0.929 - time 0:00:08.751548\n",
      "[Epoch 3 Batch 2900/7459] loss=0.1649, lr=0.0000050, acc=0.929 - time 0:00:08.804302\n",
      "[Epoch 3 Batch 2910/7459] loss=0.1518, lr=0.0000050, acc=0.930 - time 0:00:08.685704\n",
      "[Epoch 3 Batch 2920/7459] loss=0.0433, lr=0.0000050, acc=0.930 - time 0:00:08.663106\n"
     ]
    },
    {
     "name": "stdout",
     "output_type": "stream",
     "text": [
      "[Epoch 3 Batch 2930/7459] loss=0.2460, lr=0.0000050, acc=0.930 - time 0:00:08.942460\n",
      "[Epoch 3 Batch 2940/7459] loss=0.0583, lr=0.0000050, acc=0.930 - time 0:00:08.781915\n",
      "[Epoch 3 Batch 2950/7459] loss=0.3282, lr=0.0000050, acc=0.930 - time 0:00:08.793145\n",
      "[Epoch 3 Batch 2960/7459] loss=0.1178, lr=0.0000050, acc=0.930 - time 0:00:08.776520\n",
      "[Epoch 3 Batch 2970/7459] loss=0.4883, lr=0.0000050, acc=0.930 - time 0:00:08.779602\n",
      "[Epoch 3 Batch 2980/7459] loss=0.1700, lr=0.0000050, acc=0.930 - time 0:00:08.673522\n",
      "[Epoch 3 Batch 2990/7459] loss=0.1021, lr=0.0000050, acc=0.930 - time 0:00:08.819955\n",
      "[Epoch 3 Batch 3000/7459] loss=0.2265, lr=0.0000050, acc=0.930 - time 0:00:08.766195\n",
      "[Epoch 3 Batch 3010/7459] loss=0.2253, lr=0.0000050, acc=0.930 - time 0:00:08.817812\n",
      "[Epoch 3 Batch 3020/7459] loss=0.2445, lr=0.0000050, acc=0.930 - time 0:00:08.709071\n",
      "[Epoch 3 Batch 3030/7459] loss=0.0927, lr=0.0000050, acc=0.930 - time 0:00:08.706741\n",
      "[Epoch 3 Batch 3040/7459] loss=0.3159, lr=0.0000050, acc=0.930 - time 0:00:08.824598\n",
      "[Epoch 3 Batch 3050/7459] loss=0.2078, lr=0.0000050, acc=0.930 - time 0:00:08.747315\n",
      "[Epoch 3 Batch 3060/7459] loss=0.0768, lr=0.0000050, acc=0.930 - time 0:00:08.711136\n",
      "[Epoch 3 Batch 3070/7459] loss=0.1478, lr=0.0000050, acc=0.930 - time 0:00:08.962011\n",
      "[Epoch 3 Batch 3080/7459] loss=0.1801, lr=0.0000050, acc=0.930 - time 0:00:08.794256\n",
      "[Epoch 3 Batch 3090/7459] loss=0.1539, lr=0.0000050, acc=0.930 - time 0:00:08.777381\n",
      "[Epoch 3 Batch 3100/7459] loss=0.1579, lr=0.0000050, acc=0.930 - time 0:00:08.734453\n",
      "[Epoch 3 Batch 3110/7459] loss=0.2050, lr=0.0000050, acc=0.930 - time 0:00:08.894100\n",
      "[Epoch 3 Batch 3120/7459] loss=0.0654, lr=0.0000050, acc=0.930 - time 0:00:08.775227\n",
      "[Epoch 3 Batch 3130/7459] loss=0.1195, lr=0.0000050, acc=0.930 - time 0:00:08.641021\n",
      "[Epoch 3 Batch 3140/7459] loss=0.1050, lr=0.0000050, acc=0.931 - time 0:00:08.824392\n",
      "[Epoch 3 Batch 3150/7459] loss=0.1535, lr=0.0000050, acc=0.931 - time 0:00:08.946118\n",
      "[Epoch 3 Batch 3160/7459] loss=0.0399, lr=0.0000050, acc=0.931 - time 0:00:08.825497\n",
      "[Epoch 3 Batch 3170/7459] loss=0.1140, lr=0.0000050, acc=0.931 - time 0:00:08.680678\n",
      "[Epoch 3 Batch 3180/7459] loss=0.2811, lr=0.0000050, acc=0.931 - time 0:00:08.930090\n",
      "[Epoch 3 Batch 3190/7459] loss=0.3079, lr=0.0000050, acc=0.931 - time 0:00:08.801058\n",
      "[Epoch 3 Batch 3200/7459] loss=0.3257, lr=0.0000050, acc=0.931 - time 0:00:08.900680\n",
      "[Epoch 3 Batch 3210/7459] loss=0.1842, lr=0.0000050, acc=0.931 - time 0:00:08.680879\n",
      "[Epoch 3 Batch 3220/7459] loss=0.0372, lr=0.0000050, acc=0.931 - time 0:00:08.705040\n",
      "[Epoch 3 Batch 3230/7459] loss=0.1159, lr=0.0000050, acc=0.931 - time 0:00:08.685024\n",
      "[Epoch 3 Batch 3240/7459] loss=0.1071, lr=0.0000050, acc=0.931 - time 0:00:08.697959\n",
      "[Epoch 3 Batch 3250/7459] loss=0.1126, lr=0.0000050, acc=0.931 - time 0:00:08.853769\n",
      "[Epoch 3 Batch 3260/7459] loss=0.2232, lr=0.0000050, acc=0.931 - time 0:00:08.726188\n",
      "[Epoch 3 Batch 3270/7459] loss=0.1316, lr=0.0000050, acc=0.931 - time 0:00:08.631215\n",
      "[Epoch 3 Batch 3280/7459] loss=0.3171, lr=0.0000050, acc=0.931 - time 0:00:08.138037\n",
      "[Epoch 3 Batch 3290/7459] loss=0.0895, lr=0.0000050, acc=0.931 - time 0:00:08.657737\n",
      "[Epoch 3 Batch 3300/7459] loss=0.1481, lr=0.0000050, acc=0.931 - time 0:00:08.870162\n",
      "[Epoch 3 Batch 3310/7459] loss=0.3368, lr=0.0000050, acc=0.931 - time 0:00:09.049487\n",
      "[Epoch 3 Batch 3320/7459] loss=0.0758, lr=0.0000050, acc=0.931 - time 0:00:08.812514\n",
      "[Epoch 3 Batch 3330/7459] loss=0.1777, lr=0.0000050, acc=0.931 - time 0:00:08.595619\n",
      "[Epoch 3 Batch 3340/7459] loss=0.1064, lr=0.0000050, acc=0.931 - time 0:00:08.811298\n",
      "[Epoch 3 Batch 3350/7459] loss=0.2307, lr=0.0000050, acc=0.931 - time 0:00:08.853090\n",
      "[Epoch 3 Batch 3360/7459] loss=0.1146, lr=0.0000050, acc=0.931 - time 0:00:08.892093\n",
      "[Epoch 3 Batch 3370/7459] loss=0.3269, lr=0.0000050, acc=0.931 - time 0:00:09.001850\n",
      "[Epoch 3 Batch 3380/7459] loss=0.3745, lr=0.0000050, acc=0.931 - time 0:00:08.830796\n",
      "[Epoch 3 Batch 3390/7459] loss=0.1915, lr=0.0000050, acc=0.931 - time 0:00:08.817292\n",
      "[Epoch 3 Batch 3400/7459] loss=0.3070, lr=0.0000050, acc=0.931 - time 0:00:08.767594\n",
      "[Epoch 3 Batch 3410/7459] loss=0.0607, lr=0.0000050, acc=0.931 - time 0:00:08.590767\n",
      "[Epoch 3 Batch 3420/7459] loss=0.2330, lr=0.0000050, acc=0.931 - time 0:00:08.822190\n",
      "[Epoch 3 Batch 3430/7459] loss=0.1202, lr=0.0000050, acc=0.931 - time 0:00:08.750384\n",
      "[Epoch 3 Batch 3440/7459] loss=0.1862, lr=0.0000050, acc=0.931 - time 0:00:09.079181\n",
      "[Epoch 3 Batch 3450/7459] loss=0.1831, lr=0.0000050, acc=0.931 - time 0:00:08.742157\n",
      "[Epoch 3 Batch 3460/7459] loss=0.2728, lr=0.0000050, acc=0.931 - time 0:00:08.909230\n",
      "[Epoch 3 Batch 3470/7459] loss=0.3600, lr=0.0000050, acc=0.931 - time 0:00:08.967465\n",
      "[Epoch 3 Batch 3480/7459] loss=0.1421, lr=0.0000050, acc=0.931 - time 0:00:08.710732\n",
      "[Epoch 3 Batch 3490/7459] loss=0.4858, lr=0.0000050, acc=0.930 - time 0:00:08.965962\n",
      "[Epoch 3 Batch 3500/7459] loss=0.0122, lr=0.0000050, acc=0.931 - time 0:00:08.625618\n",
      "[Epoch 3 Batch 3510/7459] loss=0.1287, lr=0.0000050, acc=0.931 - time 0:00:08.825238\n",
      "[Epoch 3 Batch 3520/7459] loss=0.1521, lr=0.0000050, acc=0.931 - time 0:00:08.944575\n",
      "[Epoch 3 Batch 3530/7459] loss=0.0890, lr=0.0000050, acc=0.931 - time 0:00:08.873983\n",
      "[Epoch 3 Batch 3540/7459] loss=0.3758, lr=0.0000050, acc=0.931 - time 0:00:08.892720\n",
      "[Epoch 3 Batch 3550/7459] loss=0.2672, lr=0.0000050, acc=0.931 - time 0:00:09.019338\n",
      "[Epoch 3 Batch 3560/7459] loss=0.0973, lr=0.0000050, acc=0.931 - time 0:00:08.974673\n",
      "[Epoch 3 Batch 3570/7459] loss=0.2978, lr=0.0000050, acc=0.931 - time 0:00:08.812660\n",
      "[Epoch 3 Batch 3580/7459] loss=0.1149, lr=0.0000050, acc=0.931 - time 0:00:08.725528\n",
      "[Epoch 3 Batch 3590/7459] loss=0.1356, lr=0.0000050, acc=0.931 - time 0:00:08.800893\n",
      "[Epoch 3 Batch 3600/7459] loss=0.0509, lr=0.0000050, acc=0.931 - time 0:00:08.686211\n",
      "[Epoch 3 Batch 3610/7459] loss=0.0163, lr=0.0000050, acc=0.931 - time 0:00:08.631269\n",
      "[Epoch 3 Batch 3620/7459] loss=0.3986, lr=0.0000050, acc=0.931 - time 0:00:08.873326\n",
      "[Epoch 3 Batch 3630/7459] loss=0.2339, lr=0.0000050, acc=0.931 - time 0:00:08.830154\n",
      "[Epoch 3 Batch 3640/7459] loss=0.2401, lr=0.0000050, acc=0.931 - time 0:00:08.890154\n",
      "[Epoch 3 Batch 3650/7459] loss=0.2166, lr=0.0000050, acc=0.931 - time 0:00:08.867237\n",
      "[Epoch 3 Batch 3660/7459] loss=0.4013, lr=0.0000050, acc=0.931 - time 0:00:08.872839\n",
      "[Epoch 3 Batch 3670/7459] loss=0.2518, lr=0.0000050, acc=0.931 - time 0:00:08.893772\n",
      "[Epoch 3 Batch 3680/7459] loss=0.2005, lr=0.0000050, acc=0.931 - time 0:00:08.941989\n",
      "[Epoch 3 Batch 3690/7459] loss=0.0105, lr=0.0000050, acc=0.931 - time 0:00:08.818431\n",
      "[Epoch 3 Batch 3700/7459] loss=0.6778, lr=0.0000050, acc=0.931 - time 0:00:09.098331\n",
      "[Epoch 3 Batch 3710/7459] loss=0.1483, lr=0.0000050, acc=0.931 - time 0:00:08.862148\n",
      "[Epoch 3 Batch 3720/7459] loss=0.3041, lr=0.0000050, acc=0.931 - time 0:00:08.865808\n",
      "[Epoch 3 Batch 3730/7459] loss=0.3804, lr=0.0000050, acc=0.930 - time 0:00:08.954089\n",
      "[Epoch 3 Batch 3740/7459] loss=0.1206, lr=0.0000050, acc=0.930 - time 0:00:08.790903\n",
      "[Epoch 3 Batch 3750/7459] loss=0.2253, lr=0.0000050, acc=0.931 - time 0:00:08.825677\n",
      "[Epoch 3 Batch 3760/7459] loss=0.2794, lr=0.0000050, acc=0.930 - time 0:00:08.845387\n",
      "[Epoch 3 Batch 3770/7459] loss=0.3063, lr=0.0000050, acc=0.930 - time 0:00:08.808780\n",
      "[Epoch 3 Batch 3780/7459] loss=0.0846, lr=0.0000050, acc=0.930 - time 0:00:08.875003\n",
      "[Epoch 3 Batch 3790/7459] loss=0.1176, lr=0.0000050, acc=0.930 - time 0:00:08.700674\n",
      "[Epoch 3 Batch 3800/7459] loss=0.1650, lr=0.0000050, acc=0.930 - time 0:00:08.833786\n",
      "[Epoch 3 Batch 3810/7459] loss=0.2044, lr=0.0000050, acc=0.930 - time 0:00:08.870710\n",
      "[Epoch 3 Batch 3820/7459] loss=0.1147, lr=0.0000050, acc=0.931 - time 0:00:08.633271\n",
      "[Epoch 3 Batch 3830/7459] loss=0.2041, lr=0.0000050, acc=0.931 - time 0:00:08.707682\n",
      "[Epoch 3 Batch 3840/7459] loss=0.3149, lr=0.0000050, acc=0.930 - time 0:00:08.815310\n",
      "[Epoch 3 Batch 3850/7459] loss=0.1569, lr=0.0000050, acc=0.930 - time 0:00:08.923022\n",
      "[Epoch 3 Batch 3860/7459] loss=0.3071, lr=0.0000050, acc=0.930 - time 0:00:08.742893\n",
      "[Epoch 3 Batch 3870/7459] loss=0.2292, lr=0.0000050, acc=0.930 - time 0:00:08.889553\n",
      "[Epoch 3 Batch 3880/7459] loss=0.2152, lr=0.0000050, acc=0.930 - time 0:00:08.769221\n",
      "[Epoch 3 Batch 3890/7459] loss=0.3840, lr=0.0000050, acc=0.930 - time 0:00:09.118851\n"
     ]
    },
    {
     "name": "stdout",
     "output_type": "stream",
     "text": [
      "[Epoch 3 Batch 3900/7459] loss=0.1785, lr=0.0000050, acc=0.930 - time 0:00:08.967913\n",
      "[Epoch 3 Batch 3910/7459] loss=0.1612, lr=0.0000050, acc=0.930 - time 0:00:08.773903\n",
      "[Epoch 3 Batch 3920/7459] loss=0.1248, lr=0.0000050, acc=0.930 - time 0:00:08.772876\n",
      "[Epoch 3 Batch 3930/7459] loss=0.1074, lr=0.0000050, acc=0.930 - time 0:00:08.877441\n",
      "[Epoch 3 Batch 3940/7459] loss=0.2097, lr=0.0000050, acc=0.930 - time 0:00:08.883607\n",
      "[Epoch 3 Batch 3950/7459] loss=0.1396, lr=0.0000050, acc=0.930 - time 0:00:08.701050\n",
      "[Epoch 3 Batch 3960/7459] loss=0.2513, lr=0.0000050, acc=0.930 - time 0:00:08.956942\n",
      "[Epoch 3 Batch 3970/7459] loss=0.1572, lr=0.0000050, acc=0.930 - time 0:00:08.810063\n",
      "[Epoch 3 Batch 3980/7459] loss=0.2076, lr=0.0000050, acc=0.930 - time 0:00:08.782896\n",
      "[Epoch 3 Batch 3990/7459] loss=0.0592, lr=0.0000050, acc=0.930 - time 0:00:08.692508\n",
      "[Epoch 3 Batch 4000/7459] loss=0.1849, lr=0.0000050, acc=0.930 - time 0:00:08.853589\n",
      "[Epoch 3 Batch 4010/7459] loss=0.2954, lr=0.0000050, acc=0.930 - time 0:00:08.883031\n",
      "[Epoch 3 Batch 4020/7459] loss=0.0997, lr=0.0000050, acc=0.930 - time 0:00:08.782932\n",
      "[Epoch 3 Batch 4030/7459] loss=0.1902, lr=0.0000050, acc=0.930 - time 0:00:08.932532\n",
      "[Epoch 3 Batch 4040/7459] loss=0.2992, lr=0.0000050, acc=0.930 - time 0:00:08.996664\n",
      "[Epoch 3 Batch 4050/7459] loss=0.0512, lr=0.0000050, acc=0.930 - time 0:00:08.774521\n",
      "[Epoch 3 Batch 4060/7459] loss=0.2299, lr=0.0000050, acc=0.930 - time 0:00:08.821255\n",
      "[Epoch 3 Batch 4070/7459] loss=0.2061, lr=0.0000050, acc=0.930 - time 0:00:08.887219\n",
      "[Epoch 3 Batch 4080/7459] loss=0.0911, lr=0.0000050, acc=0.930 - time 0:00:08.800668\n",
      "[Epoch 3 Batch 4090/7459] loss=0.1097, lr=0.0000050, acc=0.930 - time 0:00:08.658642\n",
      "[Epoch 3 Batch 4100/7459] loss=0.3031, lr=0.0000050, acc=0.930 - time 0:00:08.967566\n",
      "[Epoch 3 Batch 4110/7459] loss=0.1051, lr=0.0000050, acc=0.930 - time 0:00:08.901821\n",
      "[Epoch 3 Batch 4120/7459] loss=0.0633, lr=0.0000050, acc=0.930 - time 0:00:08.803188\n",
      "[Epoch 3 Batch 4130/7459] loss=0.3466, lr=0.0000050, acc=0.930 - time 0:00:08.841536\n",
      "[Epoch 3 Batch 4140/7459] loss=0.2856, lr=0.0000050, acc=0.930 - time 0:00:08.742096\n",
      "[Epoch 3 Batch 4150/7459] loss=0.4526, lr=0.0000050, acc=0.930 - time 0:00:08.882526\n",
      "[Epoch 3 Batch 4160/7459] loss=0.2557, lr=0.0000050, acc=0.930 - time 0:00:08.868485\n",
      "[Epoch 3 Batch 4170/7459] loss=0.1832, lr=0.0000050, acc=0.930 - time 0:00:08.702622\n",
      "[Epoch 3 Batch 4180/7459] loss=0.2699, lr=0.0000050, acc=0.930 - time 0:00:08.841537\n",
      "[Epoch 3 Batch 4190/7459] loss=0.1934, lr=0.0000050, acc=0.930 - time 0:00:08.969604\n",
      "[Epoch 3 Batch 4200/7459] loss=0.3257, lr=0.0000050, acc=0.930 - time 0:00:08.451594\n",
      "[Epoch 3 Batch 4210/7459] loss=0.2285, lr=0.0000050, acc=0.930 - time 0:00:08.851541\n",
      "[Epoch 3 Batch 4220/7459] loss=0.0721, lr=0.0000050, acc=0.930 - time 0:00:08.961749\n",
      "[Epoch 3 Batch 4230/7459] loss=0.3691, lr=0.0000050, acc=0.930 - time 0:00:08.713860\n",
      "[Epoch 3 Batch 4240/7459] loss=0.3122, lr=0.0000050, acc=0.930 - time 0:00:08.833039\n",
      "[Epoch 3 Batch 4250/7459] loss=0.1724, lr=0.0000050, acc=0.930 - time 0:00:08.843511\n",
      "[Epoch 3 Batch 4260/7459] loss=0.1071, lr=0.0000050, acc=0.930 - time 0:00:08.843694\n",
      "[Epoch 3 Batch 4270/7459] loss=0.2312, lr=0.0000050, acc=0.930 - time 0:00:08.858903\n",
      "[Epoch 3 Batch 4280/7459] loss=0.3026, lr=0.0000050, acc=0.930 - time 0:00:08.771318\n",
      "[Epoch 3 Batch 4290/7459] loss=0.0775, lr=0.0000050, acc=0.930 - time 0:00:08.704858\n",
      "[Epoch 3 Batch 4300/7459] loss=0.2603, lr=0.0000050, acc=0.930 - time 0:00:08.892091\n",
      "[Epoch 3 Batch 4310/7459] loss=0.5088, lr=0.0000050, acc=0.930 - time 0:00:08.946141\n",
      "[Epoch 3 Batch 4320/7459] loss=0.3228, lr=0.0000050, acc=0.930 - time 0:00:08.893939\n",
      "[Epoch 3 Batch 4330/7459] loss=0.1835, lr=0.0000050, acc=0.930 - time 0:00:08.812607\n",
      "[Epoch 3 Batch 4340/7459] loss=0.1713, lr=0.0000050, acc=0.930 - time 0:00:08.850756\n",
      "[Epoch 3 Batch 4350/7459] loss=0.0116, lr=0.0000050, acc=0.930 - time 0:00:08.618233\n",
      "[Epoch 3 Batch 4360/7459] loss=0.2939, lr=0.0000050, acc=0.930 - time 0:00:09.014482\n",
      "[Epoch 3 Batch 4370/7459] loss=0.0123, lr=0.0000050, acc=0.930 - time 0:00:08.805469\n",
      "[Epoch 3 Batch 4380/7459] loss=0.2070, lr=0.0000050, acc=0.930 - time 0:00:08.934290\n",
      "[Epoch 3 Batch 4390/7459] loss=0.1613, lr=0.0000050, acc=0.930 - time 0:00:09.000667\n",
      "[Epoch 3 Batch 4400/7459] loss=0.2284, lr=0.0000050, acc=0.930 - time 0:00:08.858338\n",
      "[Epoch 3 Batch 4410/7459] loss=0.1755, lr=0.0000050, acc=0.930 - time 0:00:08.773932\n",
      "[Epoch 3 Batch 4420/7459] loss=0.1291, lr=0.0000050, acc=0.930 - time 0:00:08.794106\n",
      "[Epoch 3 Batch 4430/7459] loss=0.2113, lr=0.0000050, acc=0.930 - time 0:00:08.886394\n",
      "[Epoch 3 Batch 4440/7459] loss=0.2107, lr=0.0000050, acc=0.930 - time 0:00:08.798723\n",
      "[Epoch 3 Batch 4450/7459] loss=0.2506, lr=0.0000050, acc=0.930 - time 0:00:08.930491\n",
      "[Epoch 3 Batch 4460/7459] loss=0.3372, lr=0.0000050, acc=0.930 - time 0:00:08.884282\n",
      "[Epoch 3 Batch 4470/7459] loss=0.0766, lr=0.0000050, acc=0.930 - time 0:00:08.947247\n",
      "[Epoch 3 Batch 4480/7459] loss=0.1017, lr=0.0000050, acc=0.930 - time 0:00:08.724054\n",
      "[Epoch 3 Batch 4490/7459] loss=0.2135, lr=0.0000050, acc=0.930 - time 0:00:08.879012\n",
      "[Epoch 3 Batch 4500/7459] loss=0.3736, lr=0.0000050, acc=0.930 - time 0:00:08.910419\n",
      "[Epoch 3 Batch 4650/7459] loss=0.0955, lr=0.0000050, acc=0.930 - time 0:00:08.879515\n",
      "[Epoch 3 Batch 4660/7459] loss=0.2334, lr=0.0000050, acc=0.930 - time 0:00:08.868520\n",
      "[Epoch 3 Batch 4670/7459] loss=0.2465, lr=0.0000050, acc=0.930 - time 0:00:08.938988\n",
      "[Epoch 3 Batch 4680/7459] loss=0.2836, lr=0.0000050, acc=0.930 - time 0:00:08.678676\n",
      "[Epoch 3 Batch 4690/7459] loss=0.1491, lr=0.0000050, acc=0.930 - time 0:00:08.739737\n",
      "[Epoch 3 Batch 4700/7459] loss=0.2585, lr=0.0000050, acc=0.930 - time 0:00:08.893697\n",
      "[Epoch 3 Batch 4710/7459] loss=0.3044, lr=0.0000050, acc=0.930 - time 0:00:08.989120\n",
      "[Epoch 3 Batch 4720/7459] loss=0.0858, lr=0.0000050, acc=0.930 - time 0:00:08.679951\n",
      "[Epoch 3 Batch 4730/7459] loss=0.2400, lr=0.0000050, acc=0.930 - time 0:00:08.898505\n",
      "[Epoch 3 Batch 4740/7459] loss=0.2238, lr=0.0000050, acc=0.930 - time 0:00:08.787189\n",
      "[Epoch 3 Batch 4750/7459] loss=0.0801, lr=0.0000050, acc=0.930 - time 0:00:08.742829\n",
      "[Epoch 3 Batch 4760/7459] loss=0.1779, lr=0.0000050, acc=0.930 - time 0:00:08.857673\n",
      "[Epoch 3 Batch 4770/7459] loss=0.1895, lr=0.0000050, acc=0.930 - time 0:00:08.820323\n",
      "[Epoch 3 Batch 4780/7459] loss=0.1579, lr=0.0000050, acc=0.930 - time 0:00:08.828695\n",
      "[Epoch 3 Batch 4790/7459] loss=0.0037, lr=0.0000050, acc=0.930 - time 0:00:08.643499\n",
      "[Epoch 3 Batch 4800/7459] loss=0.1344, lr=0.0000050, acc=0.930 - time 0:00:08.814880\n",
      "[Epoch 3 Batch 4810/7459] loss=0.1078, lr=0.0000050, acc=0.930 - time 0:00:08.889926\n",
      "[Epoch 3 Batch 4820/7459] loss=0.3681, lr=0.0000050, acc=0.930 - time 0:00:08.820985\n",
      "[Epoch 3 Batch 4830/7459] loss=0.2182, lr=0.0000050, acc=0.930 - time 0:00:08.646419\n",
      "[Epoch 3 Batch 4840/7459] loss=0.2775, lr=0.0000050, acc=0.930 - time 0:00:08.691149\n",
      "[Epoch 3 Batch 4850/7459] loss=0.2427, lr=0.0000050, acc=0.930 - time 0:00:08.752779\n",
      "[Epoch 3 Batch 4860/7459] loss=0.1867, lr=0.0000050, acc=0.930 - time 0:00:08.817385\n",
      "[Epoch 3 Batch 4870/7459] loss=0.0515, lr=0.0000050, acc=0.930 - time 0:00:08.677625\n",
      "[Epoch 3 Batch 4880/7459] loss=0.1157, lr=0.0000050, acc=0.930 - time 0:00:08.694952\n",
      "[Epoch 3 Batch 4890/7459] loss=0.0238, lr=0.0000050, acc=0.931 - time 0:00:08.793497\n",
      "[Epoch 3 Batch 4900/7459] loss=0.2607, lr=0.0000050, acc=0.931 - time 0:00:08.680128\n",
      "[Epoch 3 Batch 4910/7459] loss=0.1731, lr=0.0000050, acc=0.931 - time 0:00:08.926800\n",
      "[Epoch 3 Batch 4920/7459] loss=0.1306, lr=0.0000050, acc=0.931 - time 0:00:08.640700\n",
      "[Epoch 3 Batch 4930/7459] loss=0.1292, lr=0.0000050, acc=0.931 - time 0:00:08.775250\n",
      "[Epoch 3 Batch 4940/7459] loss=0.1564, lr=0.0000050, acc=0.931 - time 0:00:08.794743\n",
      "[Epoch 3 Batch 4950/7459] loss=0.4085, lr=0.0000050, acc=0.931 - time 0:00:08.928867\n",
      "[Epoch 3 Batch 4960/7459] loss=0.1562, lr=0.0000050, acc=0.931 - time 0:00:08.642600\n",
      "[Epoch 3 Batch 4970/7459] loss=0.3339, lr=0.0000050, acc=0.931 - time 0:00:08.878416\n",
      "[Epoch 3 Batch 4980/7459] loss=0.0676, lr=0.0000050, acc=0.931 - time 0:00:08.743366\n",
      "[Epoch 3 Batch 4990/7459] loss=0.1183, lr=0.0000050, acc=0.931 - time 0:00:08.733996\n",
      "[Epoch 3 Batch 5000/7459] loss=0.1440, lr=0.0000050, acc=0.931 - time 0:00:08.850958\n"
     ]
    },
    {
     "name": "stdout",
     "output_type": "stream",
     "text": [
      "[Epoch 3 Batch 5010/7459] loss=0.1708, lr=0.0000050, acc=0.931 - time 0:00:08.871618\n",
      "[Epoch 3 Batch 5020/7459] loss=0.1119, lr=0.0000050, acc=0.931 - time 0:00:08.807742\n",
      "[Epoch 3 Batch 5030/7459] loss=0.0780, lr=0.0000050, acc=0.931 - time 0:00:08.642095\n",
      "[Epoch 3 Batch 5040/7459] loss=0.1854, lr=0.0000050, acc=0.931 - time 0:00:08.879799\n",
      "[Epoch 3 Batch 5050/7459] loss=0.1727, lr=0.0000050, acc=0.931 - time 0:00:08.857484\n",
      "[Epoch 3 Batch 5060/7459] loss=0.1066, lr=0.0000050, acc=0.931 - time 0:00:08.868065\n",
      "[Epoch 3 Batch 5070/7459] loss=0.1816, lr=0.0000050, acc=0.931 - time 0:00:08.914725\n",
      "[Epoch 3 Batch 5080/7459] loss=0.2494, lr=0.0000050, acc=0.931 - time 0:00:08.962128\n",
      "[Epoch 3 Batch 5090/7459] loss=0.0014, lr=0.0000050, acc=0.931 - time 0:00:08.624103\n",
      "[Epoch 3 Batch 5100/7459] loss=0.0627, lr=0.0000050, acc=0.931 - time 0:00:08.796347\n",
      "[Epoch 3 Batch 5110/7459] loss=0.0550, lr=0.0000050, acc=0.931 - time 0:00:08.796208\n",
      "[Epoch 3 Batch 5120/7459] loss=0.2582, lr=0.0000050, acc=0.931 - time 0:00:08.963922\n",
      "[Epoch 3 Batch 5130/7459] loss=0.1167, lr=0.0000050, acc=0.931 - time 0:00:08.758698\n",
      "[Epoch 3 Batch 5140/7459] loss=0.2103, lr=0.0000050, acc=0.931 - time 0:00:09.001656\n",
      "[Epoch 3 Batch 5150/7459] loss=0.1784, lr=0.0000050, acc=0.931 - time 0:00:08.839817\n",
      "[Epoch 3 Batch 5160/7459] loss=0.1213, lr=0.0000050, acc=0.931 - time 0:00:08.769140\n",
      "[Epoch 3 Batch 5170/7459] loss=0.0840, lr=0.0000050, acc=0.932 - time 0:00:08.412791\n",
      "[Epoch 3 Batch 5180/7459] loss=0.1176, lr=0.0000050, acc=0.932 - time 0:00:08.663830\n",
      "[Epoch 3 Batch 5190/7459] loss=0.0001, lr=0.0000050, acc=0.932 - time 0:00:08.593706\n",
      "[Epoch 3 Batch 5200/7459] loss=0.2049, lr=0.0000050, acc=0.932 - time 0:00:08.790601\n",
      "[Epoch 3 Batch 5210/7459] loss=0.1039, lr=0.0000050, acc=0.932 - time 0:00:08.802051\n",
      "[Epoch 3 Batch 5220/7459] loss=0.0841, lr=0.0000050, acc=0.932 - time 0:00:08.922527\n",
      "[Epoch 3 Batch 5230/7459] loss=0.0122, lr=0.0000050, acc=0.932 - time 0:00:08.730319\n",
      "[Epoch 3 Batch 5240/7459] loss=0.1295, lr=0.0000050, acc=0.932 - time 0:00:08.683539\n",
      "[Epoch 3 Batch 5250/7459] loss=0.0378, lr=0.0000050, acc=0.932 - time 0:00:08.825382\n",
      "[Epoch 3 Batch 5260/7459] loss=0.1193, lr=0.0000050, acc=0.932 - time 0:00:08.918818\n",
      "[Epoch 3 Batch 5270/7459] loss=0.1287, lr=0.0000050, acc=0.932 - time 0:00:08.923908\n",
      "[Epoch 3 Batch 5280/7459] loss=0.3425, lr=0.0000050, acc=0.932 - time 0:00:08.908361\n",
      "[Epoch 3 Batch 5290/7459] loss=0.1314, lr=0.0000050, acc=0.932 - time 0:00:08.784980\n",
      "[Epoch 3 Batch 5300/7459] loss=0.1096, lr=0.0000050, acc=0.932 - time 0:00:08.708700\n",
      "[Epoch 3 Batch 5310/7459] loss=0.0524, lr=0.0000050, acc=0.932 - time 0:00:08.794963\n",
      "[Epoch 3 Batch 5320/7459] loss=0.0909, lr=0.0000050, acc=0.932 - time 0:00:08.947073\n",
      "[Epoch 3 Batch 5330/7459] loss=0.0811, lr=0.0000050, acc=0.932 - time 0:00:08.723013\n",
      "[Epoch 3 Batch 5340/7459] loss=0.2332, lr=0.0000050, acc=0.932 - time 0:00:08.811141\n",
      "[Epoch 3 Batch 5350/7459] loss=0.1371, lr=0.0000050, acc=0.932 - time 0:00:08.741377\n",
      "[Epoch 3 Batch 5360/7459] loss=0.2550, lr=0.0000050, acc=0.932 - time 0:00:08.776818\n",
      "[Epoch 3 Batch 5370/7459] loss=0.0964, lr=0.0000050, acc=0.932 - time 0:00:08.755949\n",
      "[Epoch 3 Batch 5380/7459] loss=0.4592, lr=0.0000050, acc=0.932 - time 0:00:08.948751\n",
      "[Epoch 3 Batch 5390/7459] loss=0.1598, lr=0.0000050, acc=0.932 - time 0:00:08.837684\n",
      "[Epoch 3 Batch 5400/7459] loss=0.1361, lr=0.0000050, acc=0.932 - time 0:00:08.765692\n",
      "[Epoch 3 Batch 5410/7459] loss=0.2003, lr=0.0000050, acc=0.932 - time 0:00:08.838929\n",
      "[Epoch 3 Batch 5420/7459] loss=0.0814, lr=0.0000050, acc=0.932 - time 0:00:08.760605\n",
      "[Epoch 3 Batch 5430/7459] loss=0.0633, lr=0.0000050, acc=0.932 - time 0:00:08.751485\n",
      "[Epoch 3 Batch 5440/7459] loss=0.2291, lr=0.0000050, acc=0.932 - time 0:00:08.792963\n",
      "[Epoch 3 Batch 5450/7459] loss=0.3334, lr=0.0000050, acc=0.932 - time 0:00:08.702398\n",
      "[Epoch 3 Batch 5460/7459] loss=0.3155, lr=0.0000050, acc=0.932 - time 0:00:08.993680\n",
      "[Epoch 3 Batch 5470/7459] loss=0.0981, lr=0.0000050, acc=0.932 - time 0:00:08.651143\n",
      "[Epoch 3 Batch 5480/7459] loss=0.2262, lr=0.0000050, acc=0.932 - time 0:00:08.957151\n",
      "[Epoch 3 Batch 5490/7459] loss=0.1256, lr=0.0000050, acc=0.932 - time 0:00:08.716203\n",
      "[Epoch 3 Batch 5500/7459] loss=0.1743, lr=0.0000050, acc=0.932 - time 0:00:08.877384\n",
      "[Epoch 3 Batch 5510/7459] loss=0.2931, lr=0.0000050, acc=0.932 - time 0:00:08.910466\n",
      "[Epoch 3 Batch 5520/7459] loss=0.0155, lr=0.0000050, acc=0.933 - time 0:00:08.722428\n",
      "[Epoch 3 Batch 5530/7459] loss=0.2148, lr=0.0000050, acc=0.932 - time 0:00:08.890210\n",
      "[Epoch 3 Batch 5540/7459] loss=0.2113, lr=0.0000050, acc=0.932 - time 0:00:08.968037\n",
      "[Epoch 3 Batch 5550/7459] loss=0.0148, lr=0.0000050, acc=0.933 - time 0:00:08.649378\n",
      "[Epoch 3 Batch 5560/7459] loss=0.1320, lr=0.0000050, acc=0.933 - time 0:00:08.776592\n",
      "[Epoch 3 Batch 5570/7459] loss=0.2053, lr=0.0000050, acc=0.933 - time 0:00:08.842481\n",
      "[Epoch 3 Batch 5580/7459] loss=0.3950, lr=0.0000050, acc=0.932 - time 0:00:08.993985\n",
      "[Epoch 3 Batch 5590/7459] loss=0.3608, lr=0.0000050, acc=0.932 - time 0:00:08.950686\n",
      "[Epoch 3 Batch 5600/7459] loss=0.3110, lr=0.0000050, acc=0.932 - time 0:00:08.931048\n",
      "[Epoch 3 Batch 5610/7459] loss=0.3513, lr=0.0000050, acc=0.932 - time 0:00:08.815522\n",
      "[Epoch 3 Batch 5620/7459] loss=0.0993, lr=0.0000050, acc=0.932 - time 0:00:08.848517\n",
      "[Epoch 3 Batch 5630/7459] loss=0.4497, lr=0.0000050, acc=0.932 - time 0:00:08.719440\n",
      "[Epoch 3 Batch 5640/7459] loss=0.2212, lr=0.0000050, acc=0.932 - time 0:00:08.893819\n",
      "[Epoch 3 Batch 5650/7459] loss=0.0698, lr=0.0000050, acc=0.932 - time 0:00:08.848906\n",
      "[Epoch 3 Batch 5660/7459] loss=0.0918, lr=0.0000050, acc=0.932 - time 0:00:08.649097\n",
      "[Epoch 3 Batch 5670/7459] loss=0.0851, lr=0.0000050, acc=0.932 - time 0:00:08.853720\n",
      "[Epoch 3 Batch 5680/7459] loss=0.0206, lr=0.0000050, acc=0.932 - time 0:00:08.702890\n",
      "[Epoch 3 Batch 5690/7459] loss=0.0826, lr=0.0000050, acc=0.933 - time 0:00:08.738178\n",
      "[Epoch 3 Batch 5700/7459] loss=0.0233, lr=0.0000050, acc=0.933 - time 0:00:08.635561\n",
      "[Epoch 3 Batch 5710/7459] loss=0.1760, lr=0.0000050, acc=0.933 - time 0:00:08.785212\n",
      "[Epoch 3 Batch 5720/7459] loss=0.1646, lr=0.0000050, acc=0.933 - time 0:00:08.879024\n",
      "[Epoch 3 Batch 5730/7459] loss=0.5354, lr=0.0000050, acc=0.933 - time 0:00:08.877344\n",
      "[Epoch 3 Batch 5740/7459] loss=0.2163, lr=0.0000050, acc=0.933 - time 0:00:09.033495\n",
      "[Epoch 3 Batch 5750/7459] loss=0.3517, lr=0.0000050, acc=0.933 - time 0:00:08.853790\n",
      "[Epoch 3 Batch 5760/7459] loss=0.1957, lr=0.0000050, acc=0.933 - time 0:00:08.779295\n",
      "[Epoch 3 Batch 5770/7459] loss=0.1779, lr=0.0000050, acc=0.933 - time 0:00:08.823577\n",
      "[Epoch 3 Batch 5780/7459] loss=0.1745, lr=0.0000050, acc=0.933 - time 0:00:08.660048\n",
      "[Epoch 3 Batch 5790/7459] loss=0.0299, lr=0.0000050, acc=0.933 - time 0:00:08.695849\n",
      "[Epoch 3 Batch 5800/7459] loss=0.2352, lr=0.0000050, acc=0.933 - time 0:00:08.884014\n",
      "[Epoch 3 Batch 5810/7459] loss=0.2092, lr=0.0000050, acc=0.933 - time 0:00:08.816818\n",
      "[Epoch 3 Batch 5820/7459] loss=0.1829, lr=0.0000050, acc=0.933 - time 0:00:08.677367\n",
      "[Epoch 3 Batch 5830/7459] loss=0.1738, lr=0.0000050, acc=0.933 - time 0:00:08.961536\n",
      "[Epoch 3 Batch 5840/7459] loss=0.0752, lr=0.0000050, acc=0.933 - time 0:00:08.625422\n",
      "[Epoch 3 Batch 5850/7459] loss=0.1209, lr=0.0000050, acc=0.933 - time 0:00:08.716568\n",
      "[Epoch 3 Batch 5860/7459] loss=0.1127, lr=0.0000050, acc=0.933 - time 0:00:08.805474\n",
      "[Epoch 3 Batch 5870/7459] loss=0.1473, lr=0.0000050, acc=0.933 - time 0:00:08.917584\n",
      "[Epoch 3 Batch 5880/7459] loss=0.0324, lr=0.0000050, acc=0.933 - time 0:00:08.904661\n",
      "[Epoch 3 Batch 5890/7459] loss=0.1464, lr=0.0000050, acc=0.933 - time 0:00:08.682557\n",
      "[Epoch 3 Batch 5900/7459] loss=0.0973, lr=0.0000050, acc=0.933 - time 0:00:08.702642\n",
      "[Epoch 3 Batch 5910/7459] loss=0.1676, lr=0.0000050, acc=0.933 - time 0:00:08.863116\n",
      "[Epoch 3 Batch 5920/7459] loss=0.1279, lr=0.0000050, acc=0.933 - time 0:00:08.615149\n",
      "[Epoch 3 Batch 5930/7459] loss=0.3309, lr=0.0000050, acc=0.933 - time 0:00:08.589355\n",
      "[Epoch 3 Batch 5940/7459] loss=0.0293, lr=0.0000050, acc=0.933 - time 0:00:08.708913\n",
      "[Epoch 3 Batch 5950/7459] loss=0.0967, lr=0.0000050, acc=0.933 - time 0:00:08.860875\n",
      "[Epoch 3 Batch 5960/7459] loss=0.0702, lr=0.0000050, acc=0.933 - time 0:00:08.829106\n",
      "[Epoch 3 Batch 5970/7459] loss=0.1256, lr=0.0000050, acc=0.933 - time 0:00:08.733824\n"
     ]
    },
    {
     "name": "stdout",
     "output_type": "stream",
     "text": [
      "[Epoch 3 Batch 5980/7459] loss=0.2254, lr=0.0000050, acc=0.933 - time 0:00:08.811558\n",
      "[Epoch 3 Batch 5990/7459] loss=0.0092, lr=0.0000050, acc=0.933 - time 0:00:08.654283\n",
      "[Epoch 3 Batch 6000/7459] loss=0.0814, lr=0.0000050, acc=0.933 - time 0:00:08.746972\n",
      "[Epoch 3 Batch 6010/7459] loss=0.3597, lr=0.0000050, acc=0.933 - time 0:00:08.888587\n",
      "[Epoch 3 Batch 6020/7459] loss=0.0321, lr=0.0000050, acc=0.934 - time 0:00:08.706588\n",
      "[Epoch 3 Batch 6030/7459] loss=0.0937, lr=0.0000050, acc=0.934 - time 0:00:08.663068\n",
      "[Epoch 3 Batch 6040/7459] loss=0.0875, lr=0.0000050, acc=0.934 - time 0:00:09.074009\n",
      "[Epoch 3 Batch 6050/7459] loss=0.2793, lr=0.0000050, acc=0.934 - time 0:00:08.699523\n",
      "[Epoch 3 Batch 6060/7459] loss=0.1367, lr=0.0000050, acc=0.934 - time 0:00:08.803793\n",
      "[Epoch 3 Batch 6070/7459] loss=0.0986, lr=0.0000050, acc=0.934 - time 0:00:08.699743\n"
     ]
    },
    {
     "name": "stderr",
     "output_type": "stream",
     "text": [
      "IOPub message rate exceeded.\n",
      "The notebook server will temporarily stop sending output\n",
      "to the client in order to avoid crashing it.\n",
      "To change this limit, set the config variable\n",
      "`--NotebookApp.iopub_msg_rate_limit`.\n",
      "\n",
      "Current values:\n",
      "NotebookApp.iopub_msg_rate_limit=1000.0 (msgs/sec)\n",
      "NotebookApp.rate_limit_window=3.0 (secs)\n",
      "\n"
     ]
    },
    {
     "name": "stdout",
     "output_type": "stream",
     "text": [
      "[Epoch 4 Batch 5500/7459] loss=0.2507, lr=0.0000050, acc=0.950 - time 0:00:09.071339\n",
      "[Epoch 4 Batch 5510/7459] loss=0.2557, lr=0.0000050, acc=0.950 - time 0:00:08.879209\n",
      "[Epoch 4 Batch 5520/7459] loss=0.2944, lr=0.0000050, acc=0.950 - time 0:00:09.009009\n",
      "[Epoch 4 Batch 5530/7459] loss=0.1607, lr=0.0000050, acc=0.950 - time 0:00:08.977364\n",
      "[Epoch 4 Batch 5540/7459] loss=0.1216, lr=0.0000050, acc=0.950 - time 0:00:08.865316\n",
      "[Epoch 4 Batch 5550/7459] loss=0.1895, lr=0.0000050, acc=0.950 - time 0:00:08.799721\n",
      "[Epoch 4 Batch 5560/7459] loss=0.2944, lr=0.0000050, acc=0.950 - time 0:00:08.934952\n",
      "[Epoch 4 Batch 5570/7459] loss=0.0779, lr=0.0000050, acc=0.950 - time 0:00:08.808002\n",
      "[Epoch 4 Batch 5580/7459] loss=0.2503, lr=0.0000050, acc=0.950 - time 0:00:08.917144\n",
      "[Epoch 4 Batch 5590/7459] loss=0.3469, lr=0.0000050, acc=0.950 - time 0:00:08.976044\n",
      "[Epoch 4 Batch 5600/7459] loss=0.1034, lr=0.0000050, acc=0.950 - time 0:00:08.652513\n",
      "[Epoch 4 Batch 5610/7459] loss=0.0810, lr=0.0000050, acc=0.950 - time 0:00:08.792953\n",
      "[Epoch 4 Batch 5620/7459] loss=0.6578, lr=0.0000050, acc=0.950 - time 0:00:08.925233\n",
      "[Epoch 4 Batch 5630/7459] loss=0.0786, lr=0.0000050, acc=0.950 - time 0:00:08.752261\n",
      "[Epoch 4 Batch 5640/7459] loss=0.1768, lr=0.0000050, acc=0.950 - time 0:00:08.752161\n",
      "[Epoch 4 Batch 5650/7459] loss=0.1223, lr=0.0000050, acc=0.950 - time 0:00:08.865244\n",
      "[Epoch 4 Batch 5660/7459] loss=0.3170, lr=0.0000050, acc=0.950 - time 0:00:08.817362\n",
      "[Epoch 4 Batch 5670/7459] loss=0.3497, lr=0.0000050, acc=0.950 - time 0:00:08.963679\n",
      "[Epoch 4 Batch 5680/7459] loss=0.3226, lr=0.0000050, acc=0.949 - time 0:00:08.977884\n",
      "[Epoch 4 Batch 5690/7459] loss=0.1035, lr=0.0000050, acc=0.950 - time 0:00:08.691644\n",
      "[Epoch 4 Batch 5700/7459] loss=0.1779, lr=0.0000050, acc=0.950 - time 0:00:08.744317\n",
      "[Epoch 4 Batch 5710/7459] loss=0.1249, lr=0.0000050, acc=0.950 - time 0:00:08.866499\n",
      "[Epoch 4 Batch 5720/7459] loss=0.1363, lr=0.0000050, acc=0.950 - time 0:00:08.817910\n",
      "[Epoch 4 Batch 5730/7459] loss=0.3358, lr=0.0000050, acc=0.949 - time 0:00:08.984197\n",
      "[Epoch 4 Batch 5740/7459] loss=0.3514, lr=0.0000050, acc=0.949 - time 0:00:08.948705\n",
      "[Epoch 4 Batch 5750/7459] loss=0.1375, lr=0.0000050, acc=0.949 - time 0:00:08.881398\n",
      "[Epoch 4 Batch 5760/7459] loss=0.0771, lr=0.0000050, acc=0.949 - time 0:00:08.838754\n",
      "[Epoch 4 Batch 5770/7459] loss=0.1821, lr=0.0000050, acc=0.949 - time 0:00:08.832304\n",
      "[Epoch 4 Batch 5780/7459] loss=0.2404, lr=0.0000050, acc=0.949 - time 0:00:08.906017\n",
      "[Epoch 4 Batch 5790/7459] loss=0.3164, lr=0.0000050, acc=0.949 - time 0:00:08.878731\n",
      "[Epoch 4 Batch 5800/7459] loss=0.1946, lr=0.0000050, acc=0.949 - time 0:00:08.922714\n",
      "[Epoch 4 Batch 5810/7459] loss=0.3240, lr=0.0000050, acc=0.949 - time 0:00:08.862511\n",
      "[Epoch 4 Batch 5820/7459] loss=0.1680, lr=0.0000050, acc=0.949 - time 0:00:08.920584\n",
      "[Epoch 4 Batch 5830/7459] loss=0.0916, lr=0.0000050, acc=0.949 - time 0:00:08.642010\n",
      "[Epoch 4 Batch 5840/7459] loss=0.3936, lr=0.0000050, acc=0.949 - time 0:00:08.945798\n",
      "[Epoch 4 Batch 5850/7459] loss=0.1754, lr=0.0000050, acc=0.949 - time 0:00:08.810105\n",
      "[Epoch 4 Batch 5860/7459] loss=0.3338, lr=0.0000050, acc=0.949 - time 0:00:08.716423\n",
      "[Epoch 4 Batch 5870/7459] loss=0.5586, lr=0.0000050, acc=0.949 - time 0:00:08.732707\n",
      "[Epoch 4 Batch 5880/7459] loss=0.0685, lr=0.0000050, acc=0.949 - time 0:00:08.796306\n",
      "[Epoch 4 Batch 5890/7459] loss=0.1091, lr=0.0000050, acc=0.949 - time 0:00:08.915505\n",
      "[Epoch 4 Batch 5900/7459] loss=0.1129, lr=0.0000050, acc=0.949 - time 0:00:08.898027\n",
      "[Epoch 4 Batch 5910/7459] loss=0.3007, lr=0.0000050, acc=0.949 - time 0:00:08.743401\n",
      "[Epoch 4 Batch 5920/7459] loss=0.1635, lr=0.0000050, acc=0.949 - time 0:00:08.866462\n",
      "[Epoch 4 Batch 5930/7459] loss=0.2732, lr=0.0000050, acc=0.949 - time 0:00:08.955546\n",
      "[Epoch 4 Batch 5940/7459] loss=0.1580, lr=0.0000050, acc=0.949 - time 0:00:08.988359\n",
      "[Epoch 4 Batch 5950/7459] loss=0.0759, lr=0.0000050, acc=0.949 - time 0:00:08.719069\n",
      "[Epoch 4 Batch 5960/7459] loss=0.0210, lr=0.0000050, acc=0.949 - time 0:00:08.903000\n",
      "[Epoch 4 Batch 5970/7459] loss=0.2081, lr=0.0000050, acc=0.949 - time 0:00:08.482873\n",
      "[Epoch 4 Batch 5980/7459] loss=0.0777, lr=0.0000050, acc=0.949 - time 0:00:08.823155\n",
      "[Epoch 4 Batch 5990/7459] loss=0.0725, lr=0.0000050, acc=0.949 - time 0:00:08.719856\n",
      "[Epoch 4 Batch 6000/7459] loss=0.0072, lr=0.0000050, acc=0.949 - time 0:00:08.738176\n",
      "[Epoch 4 Batch 6010/7459] loss=0.2114, lr=0.0000050, acc=0.949 - time 0:00:08.783621\n",
      "[Epoch 4 Batch 6020/7459] loss=0.2096, lr=0.0000050, acc=0.949 - time 0:00:08.899667\n",
      "[Epoch 4 Batch 6030/7459] loss=0.1455, lr=0.0000050, acc=0.949 - time 0:00:08.878862\n",
      "[Epoch 4 Batch 6040/7459] loss=0.0868, lr=0.0000050, acc=0.949 - time 0:00:08.863559\n",
      "[Epoch 4 Batch 6050/7459] loss=0.3445, lr=0.0000050, acc=0.949 - time 0:00:08.777699\n",
      "[Epoch 4 Batch 6060/7459] loss=0.1535, lr=0.0000050, acc=0.949 - time 0:00:08.868124\n",
      "[Epoch 4 Batch 6070/7459] loss=0.2671, lr=0.0000050, acc=0.949 - time 0:00:09.041008\n",
      "[Epoch 4 Batch 6080/7459] loss=0.2898, lr=0.0000050, acc=0.949 - time 0:00:08.772610\n",
      "[Epoch 4 Batch 6090/7459] loss=0.1725, lr=0.0000050, acc=0.949 - time 0:00:08.788815\n",
      "[Epoch 4 Batch 6100/7459] loss=0.1793, lr=0.0000050, acc=0.949 - time 0:00:09.045385\n",
      "[Epoch 4 Batch 6110/7459] loss=0.0857, lr=0.0000050, acc=0.949 - time 0:00:08.815672\n",
      "[Epoch 4 Batch 6120/7459] loss=0.2623, lr=0.0000050, acc=0.949 - time 0:00:08.793665\n",
      "[Epoch 4 Batch 6130/7459] loss=0.1350, lr=0.0000050, acc=0.949 - time 0:00:08.835889\n",
      "[Epoch 4 Batch 6140/7459] loss=0.0007, lr=0.0000050, acc=0.949 - time 0:00:08.725757\n",
      "[Epoch 4 Batch 6150/7459] loss=0.2616, lr=0.0000050, acc=0.949 - time 0:00:08.903282\n",
      "[Epoch 4 Batch 6160/7459] loss=0.2429, lr=0.0000050, acc=0.949 - time 0:00:08.774745\n",
      "[Epoch 4 Batch 6170/7459] loss=0.2364, lr=0.0000050, acc=0.949 - time 0:00:08.968032\n",
      "[Epoch 4 Batch 6180/7459] loss=0.2426, lr=0.0000050, acc=0.949 - time 0:00:08.858770\n",
      "[Epoch 4 Batch 6190/7459] loss=0.2346, lr=0.0000050, acc=0.949 - time 0:00:08.908602\n",
      "[Epoch 4 Batch 6200/7459] loss=0.2358, lr=0.0000050, acc=0.949 - time 0:00:08.778921\n",
      "[Epoch 4 Batch 6210/7459] loss=0.3589, lr=0.0000050, acc=0.949 - time 0:00:08.894228\n",
      "[Epoch 4 Batch 6220/7459] loss=0.1579, lr=0.0000050, acc=0.949 - time 0:00:08.909756\n",
      "[Epoch 4 Batch 6230/7459] loss=0.1717, lr=0.0000050, acc=0.949 - time 0:00:08.954351\n",
      "[Epoch 4 Batch 6240/7459] loss=0.2499, lr=0.0000050, acc=0.949 - time 0:00:08.855395\n",
      "[Epoch 4 Batch 6250/7459] loss=0.2710, lr=0.0000050, acc=0.949 - time 0:00:09.060871\n",
      "[Epoch 4 Batch 6260/7459] loss=0.0959, lr=0.0000050, acc=0.949 - time 0:00:08.825874\n",
      "[Epoch 4 Batch 6270/7459] loss=0.1394, lr=0.0000050, acc=0.949 - time 0:00:08.934102\n",
      "[Epoch 4 Batch 6280/7459] loss=0.2899, lr=0.0000050, acc=0.949 - time 0:00:08.671732\n",
      "[Epoch 4 Batch 6290/7459] loss=0.4493, lr=0.0000050, acc=0.949 - time 0:00:08.967359\n",
      "[Epoch 4 Batch 6300/7459] loss=0.0242, lr=0.0000050, acc=0.949 - time 0:00:08.671309\n",
      "[Epoch 4 Batch 6310/7459] loss=0.2077, lr=0.0000050, acc=0.949 - time 0:00:08.791307\n",
      "[Epoch 4 Batch 6320/7459] loss=0.1154, lr=0.0000050, acc=0.949 - time 0:00:08.855348\n",
      "[Epoch 4 Batch 6330/7459] loss=0.2433, lr=0.0000050, acc=0.949 - time 0:00:08.960303\n",
      "[Epoch 4 Batch 6340/7459] loss=0.3219, lr=0.0000050, acc=0.949 - time 0:00:08.809961\n",
      "[Epoch 4 Batch 6350/7459] loss=0.1846, lr=0.0000050, acc=0.949 - time 0:00:08.751312\n",
      "[Epoch 4 Batch 6360/7459] loss=0.1153, lr=0.0000050, acc=0.949 - time 0:00:08.921418\n",
      "[Epoch 4 Batch 6370/7459] loss=0.0736, lr=0.0000050, acc=0.949 - time 0:00:08.695703\n",
      "[Epoch 4 Batch 6380/7459] loss=0.2453, lr=0.0000050, acc=0.949 - time 0:00:08.910949\n",
      "[Epoch 4 Batch 6390/7459] loss=0.2601, lr=0.0000050, acc=0.949 - time 0:00:08.903214\n",
      "[Epoch 4 Batch 6400/7459] loss=0.2530, lr=0.0000050, acc=0.949 - time 0:00:08.897688\n",
      "[Epoch 4 Batch 6410/7459] loss=0.3441, lr=0.0000050, acc=0.949 - time 0:00:08.837698\n",
      "[Epoch 4 Batch 6420/7459] loss=0.0629, lr=0.0000050, acc=0.949 - time 0:00:08.648548\n",
      "[Epoch 4 Batch 6430/7459] loss=0.2320, lr=0.0000050, acc=0.949 - time 0:00:08.931402\n",
      "[Epoch 4 Batch 6440/7459] loss=0.0888, lr=0.0000050, acc=0.949 - time 0:00:08.841448\n",
      "[Epoch 4 Batch 6450/7459] loss=0.1918, lr=0.0000050, acc=0.949 - time 0:00:08.830648\n",
      "[Epoch 4 Batch 6460/7459] loss=0.0394, lr=0.0000050, acc=0.949 - time 0:00:08.783643\n"
     ]
    },
    {
     "name": "stdout",
     "output_type": "stream",
     "text": [
      "[Epoch 4 Batch 6470/7459] loss=0.1140, lr=0.0000050, acc=0.949 - time 0:00:09.015861\n",
      "[Epoch 4 Batch 6480/7459] loss=0.1332, lr=0.0000050, acc=0.949 - time 0:00:08.771066\n",
      "[Epoch 4 Batch 6490/7459] loss=0.1444, lr=0.0000050, acc=0.949 - time 0:00:08.712400\n",
      "[Epoch 4 Batch 6500/7459] loss=0.0999, lr=0.0000050, acc=0.949 - time 0:00:08.970287\n",
      "[Epoch 4 Batch 6510/7459] loss=0.1499, lr=0.0000050, acc=0.949 - time 0:00:08.770912\n",
      "[Epoch 4 Batch 6520/7459] loss=0.1131, lr=0.0000050, acc=0.949 - time 0:00:08.937320\n",
      "[Epoch 4 Batch 6530/7459] loss=0.0860, lr=0.0000050, acc=0.949 - time 0:00:08.668525\n",
      "[Epoch 4 Batch 6540/7459] loss=0.4270, lr=0.0000050, acc=0.949 - time 0:00:08.972187\n",
      "[Epoch 4 Batch 6550/7459] loss=0.3625, lr=0.0000050, acc=0.949 - time 0:00:08.849530\n",
      "[Epoch 4 Batch 6560/7459] loss=0.0102, lr=0.0000050, acc=0.949 - time 0:00:08.675791\n",
      "[Epoch 4 Batch 6570/7459] loss=0.3704, lr=0.0000050, acc=0.949 - time 0:00:09.000027\n",
      "[Epoch 4 Batch 6580/7459] loss=0.2484, lr=0.0000050, acc=0.948 - time 0:00:08.821210\n",
      "[Epoch 4 Batch 6590/7459] loss=0.1928, lr=0.0000050, acc=0.948 - time 0:00:08.754664\n",
      "[Epoch 4 Batch 6600/7459] loss=0.3325, lr=0.0000050, acc=0.948 - time 0:00:08.840377\n",
      "[Epoch 4 Batch 6610/7459] loss=0.0095, lr=0.0000050, acc=0.948 - time 0:00:08.796251\n",
      "[Epoch 4 Batch 6620/7459] loss=0.0814, lr=0.0000050, acc=0.948 - time 0:00:08.623950\n",
      "[Epoch 4 Batch 6630/7459] loss=0.1897, lr=0.0000050, acc=0.949 - time 0:00:08.724275\n",
      "[Epoch 4 Batch 6640/7459] loss=0.1783, lr=0.0000050, acc=0.949 - time 0:00:08.780232\n",
      "[Epoch 4 Batch 6650/7459] loss=0.1092, lr=0.0000050, acc=0.949 - time 0:00:08.825974\n",
      "[Epoch 4 Batch 6660/7459] loss=0.1645, lr=0.0000050, acc=0.949 - time 0:00:08.762446\n",
      "[Epoch 4 Batch 6670/7459] loss=0.0029, lr=0.0000050, acc=0.949 - time 0:00:08.624064\n",
      "[Epoch 4 Batch 6680/7459] loss=0.0353, lr=0.0000050, acc=0.949 - time 0:00:08.727185\n",
      "[Epoch 4 Batch 6690/7459] loss=0.4761, lr=0.0000050, acc=0.948 - time 0:00:08.820446\n",
      "[Epoch 4 Batch 6700/7459] loss=0.1008, lr=0.0000050, acc=0.948 - time 0:00:08.663765\n",
      "[Epoch 4 Batch 6710/7459] loss=0.1439, lr=0.0000050, acc=0.949 - time 0:00:08.744123\n",
      "[Epoch 4 Batch 6720/7459] loss=0.2208, lr=0.0000050, acc=0.948 - time 0:00:08.778845\n",
      "[Epoch 4 Batch 6730/7459] loss=0.0028, lr=0.0000050, acc=0.949 - time 0:00:08.627560\n",
      "[Epoch 4 Batch 6740/7459] loss=0.1763, lr=0.0000050, acc=0.949 - time 0:00:08.926591\n",
      "[Epoch 4 Batch 6750/7459] loss=0.0541, lr=0.0000050, acc=0.949 - time 0:00:08.806384\n",
      "[Epoch 4 Batch 6760/7459] loss=0.3824, lr=0.0000050, acc=0.948 - time 0:00:08.894837\n",
      "[Epoch 4 Batch 6770/7459] loss=0.0935, lr=0.0000050, acc=0.949 - time 0:00:08.671700\n",
      "[Epoch 4 Batch 6780/7459] loss=0.1786, lr=0.0000050, acc=0.949 - time 0:00:09.067529\n",
      "[Epoch 4 Batch 6790/7459] loss=0.2752, lr=0.0000050, acc=0.949 - time 0:00:08.846215\n",
      "[Epoch 4 Batch 6800/7459] loss=0.1844, lr=0.0000050, acc=0.949 - time 0:00:08.694310\n",
      "[Epoch 4 Batch 6810/7459] loss=0.1257, lr=0.0000050, acc=0.949 - time 0:00:08.687303\n",
      "[Epoch 4 Batch 6820/7459] loss=0.6592, lr=0.0000050, acc=0.948 - time 0:00:08.927530\n",
      "[Epoch 4 Batch 6830/7459] loss=0.3600, lr=0.0000050, acc=0.948 - time 0:00:08.792924\n",
      "[Epoch 4 Batch 6840/7459] loss=0.2863, lr=0.0000050, acc=0.948 - time 0:00:08.776122\n",
      "[Epoch 4 Batch 6850/7459] loss=0.1494, lr=0.0000050, acc=0.948 - time 0:00:08.750007\n",
      "[Epoch 4 Batch 6860/7459] loss=0.1950, lr=0.0000050, acc=0.948 - time 0:00:08.859967\n",
      "[Epoch 4 Batch 6870/7459] loss=0.2751, lr=0.0000050, acc=0.948 - time 0:00:09.007077\n",
      "[Epoch 4 Batch 6880/7459] loss=0.2020, lr=0.0000050, acc=0.948 - time 0:00:08.699412\n",
      "[Epoch 4 Batch 6890/7459] loss=0.1433, lr=0.0000050, acc=0.948 - time 0:00:08.774837\n",
      "[Epoch 4 Batch 6900/7459] loss=0.2007, lr=0.0000050, acc=0.948 - time 0:00:08.817375\n",
      "[Epoch 4 Batch 6910/7459] loss=0.0220, lr=0.0000050, acc=0.948 - time 0:00:08.820387\n",
      "[Epoch 4 Batch 6920/7459] loss=0.2655, lr=0.0000050, acc=0.948 - time 0:00:08.916154\n"
     ]
    },
    {
     "name": "stderr",
     "output_type": "stream",
     "text": [
      "IOPub message rate exceeded.\n",
      "The notebook server will temporarily stop sending output\n",
      "to the client in order to avoid crashing it.\n",
      "To change this limit, set the config variable\n",
      "`--NotebookApp.iopub_msg_rate_limit`.\n",
      "\n",
      "Current values:\n",
      "NotebookApp.iopub_msg_rate_limit=1000.0 (msgs/sec)\n",
      "NotebookApp.rate_limit_window=3.0 (secs)\n",
      "\n"
     ]
    }
   ],
   "source": [
    "with Timer(\"4 - train model\"):\n",
    "    stats = train(model, data_train, ctx, metric, loss_function, batch_size=6, lr=5e-6, num_epochs=5, checkpoint_dir=\"data/within_traindev_epi512\")\n",
    "    model.save_parameters(\"data/within_traindev_epi512/bert.model.params\")\n",
    "\n",
    "    plot_train_stats(stats)"
   ]
  },
  {
   "cell_type": "code",
   "execution_count": 25,
   "metadata": {
    "ExecuteTime": {
     "end_time": "2019-07-19T01:06:48.879201Z",
     "start_time": "2019-07-19T01:06:47.791699Z"
    },
    "collapsed": true
   },
   "outputs": [
    {
     "name": "stdout",
     "output_type": "stream",
     "text": [
      "abortion opens the door to the sexual exploitation of women the existence of abortion gives men a little more of a safeguard against unintentionally impregnating a woman. as a result, men will be more aggressive in their sexual exploitation of women.\n",
      "the fact that a child is likely to have a short life does not justify further shortening it:\n",
      "0\n",
      "vocabulary used for tokenization = \n",
      "Vocab(size=30522, unk=\"[UNK]\", reserved=\"['[PAD]', '[CLS]', '[SEP]', '[MASK]']\")\n",
      "[PAD] token id = 1\n",
      "[CLS] token id = 2\n",
      "[SEP] token id = 3\n",
      "token ids = \n",
      "[    2 11324  7480  1996  2341  2000  1996  4424 14427  1997  2308  1996\n",
      "  4598  1997 11324  3957  2273  1037  2210  2062  1997  1037 28805  2114\n",
      "  4895 18447  4765 19301  2135 17727  2890 16989  3436  1037  2450  1012\n",
      "  2004  1037  2765  1010  2273  2097  2022  2062  9376  1999  2037  4424\n",
      " 14427  1997  2308  1012     3  1996  2755  2008  1037  2775  2003  3497\n",
      "  2000  2031  1037  2460  2166  2515  2025 16114  2582  2460  7406  2009\n",
      "  1024     3     1     1     1     1     1     1     1     1     1     1\n",
      "     1     1     1     1     1     1     1     1     1     1     1     1\n",
      "     1     1     1     1     1     1     1     1     1     1     1     1\n",
      "     1     1     1     1     1     1     1     1     1     1     1     1\n",
      "     1     1     1     1     1     1     1     1     1     1     1     1\n",
      "     1     1     1     1     1     1     1     1     1     1     1     1\n",
      "     1     1     1     1     1     1     1     1     1     1     1     1\n",
      "     1     1     1     1     1     1     1     1     1     1     1     1\n",
      "     1     1     1     1     1     1     1     1     1     1     1     1\n",
      "     1     1     1     1     1     1     1     1     1     1     1     1\n",
      "     1     1     1     1     1     1     1     1     1     1     1     1\n",
      "     1     1     1     1     1     1     1     1     1     1     1     1\n",
      "     1     1     1     1     1     1     1     1     1     1     1     1\n",
      "     1     1     1     1     1     1     1     1     1     1     1     1\n",
      "     1     1     1     1     1     1     1     1     1     1     1     1\n",
      "     1     1     1     1     1     1     1     1     1     1     1     1\n",
      "     1     1     1     1     1     1     1     1     1     1     1     1\n",
      "     1     1     1     1     1     1     1     1     1     1     1     1\n",
      "     1     1     1     1     1     1     1     1     1     1     1     1\n",
      "     1     1     1     1     1     1     1     1     1     1     1     1\n",
      "     1     1     1     1     1     1     1     1     1     1     1     1\n",
      "     1     1     1     1     1     1     1     1     1     1     1     1\n",
      "     1     1     1     1     1     1     1     1     1     1     1     1\n",
      "     1     1     1     1     1     1     1     1     1     1     1     1\n",
      "     1     1     1     1     1     1     1     1     1     1     1     1\n",
      "     1     1     1     1     1     1     1     1     1     1     1     1\n",
      "     1     1     1     1     1     1     1     1     1     1     1     1\n",
      "     1     1     1     1     1     1     1     1     1     1     1     1\n",
      "     1     1     1     1     1     1     1     1     1     1     1     1\n",
      "     1     1     1     1     1     1     1     1     1     1     1     1\n",
      "     1     1     1     1     1     1     1     1     1     1     1     1\n",
      "     1     1     1     1     1     1     1     1     1     1     1     1\n",
      "     1     1     1     1     1     1     1     1     1     1     1     1\n",
      "     1     1     1     1     1     1     1     1     1     1     1     1\n",
      "     1     1     1     1     1     1     1     1     1     1     1     1\n",
      "     1     1     1     1     1     1     1     1     1     1     1     1\n",
      "     1     1     1     1     1     1     1     1]\n",
      "valid length = \n",
      "74\n",
      "segment ids = \n",
      "[0 0 0 0 0 0 0 0 0 0 0 0 0 0 0 0 0 0 0 0 0 0 0 0 0 0 0 0 0 0 0 0 0 0 0 0 0\n",
      " 0 0 0 0 0 0 0 0 0 0 0 0 0 0 0 0 1 1 1 1 1 1 1 1 1 1 1 1 1 1 1 1 1 1 1 1 1\n",
      " 0 0 0 0 0 0 0 0 0 0 0 0 0 0 0 0 0 0 0 0 0 0 0 0 0 0 0 0 0 0 0 0 0 0 0 0 0\n",
      " 0 0 0 0 0 0 0 0 0 0 0 0 0 0 0 0 0 0 0 0 0 0 0 0 0 0 0 0 0 0 0 0 0 0 0 0 0\n",
      " 0 0 0 0 0 0 0 0 0 0 0 0 0 0 0 0 0 0 0 0 0 0 0 0 0 0 0 0 0 0 0 0 0 0 0 0 0\n",
      " 0 0 0 0 0 0 0 0 0 0 0 0 0 0 0 0 0 0 0 0 0 0 0 0 0 0 0 0 0 0 0 0 0 0 0 0 0\n",
      " 0 0 0 0 0 0 0 0 0 0 0 0 0 0 0 0 0 0 0 0 0 0 0 0 0 0 0 0 0 0 0 0 0 0 0 0 0\n",
      " 0 0 0 0 0 0 0 0 0 0 0 0 0 0 0 0 0 0 0 0 0 0 0 0 0 0 0 0 0 0 0 0 0 0 0 0 0\n",
      " 0 0 0 0 0 0 0 0 0 0 0 0 0 0 0 0 0 0 0 0 0 0 0 0 0 0 0 0 0 0 0 0 0 0 0 0 0\n",
      " 0 0 0 0 0 0 0 0 0 0 0 0 0 0 0 0 0 0 0 0 0 0 0 0 0 0 0 0 0 0 0 0 0 0 0 0 0\n",
      " 0 0 0 0 0 0 0 0 0 0 0 0 0 0 0 0 0 0 0 0 0 0 0 0 0 0 0 0 0 0 0 0 0 0 0 0 0\n",
      " 0 0 0 0 0 0 0 0 0 0 0 0 0 0 0 0 0 0 0 0 0 0 0 0 0 0 0 0 0 0 0 0 0 0 0 0 0\n",
      " 0 0 0 0 0 0 0 0 0 0 0 0 0 0 0 0 0 0 0 0 0 0 0 0 0 0 0 0 0 0 0 0 0 0 0 0 0\n",
      " 0 0 0 0 0 0 0 0 0 0 0 0 0 0 0 0 0 0 0 0 0 0 0 0 0 0 0 0 0 0 0]\n",
      "label = \n",
      "[0]\n",
      "Time for [5 - prepare eval data]: 0:00:01.084172\n"
     ]
    }
   ],
   "source": [
    "with Timer(\"5 - prepare eval data\"):\n",
    "    data_dev_raw, data_dev = transform_dataset(X_dev, y_dev, transform)\n",
    "    print_infos(vocabulary, data_dev_raw, data_dev)"
   ]
  },
  {
   "cell_type": "code",
   "execution_count": 26,
   "metadata": {
    "ExecuteTime": {
     "end_time": "2019-07-19T01:16:31.946311Z",
     "start_time": "2019-07-19T01:06:49.287956Z"
    }
   },
   "outputs": [
    {
     "data": {
      "application/vnd.jupyter.widget-view+json": {
       "model_id": "0e784049b1414c5f8066c9aa547b7583",
       "version_major": 2,
       "version_minor": 0
      },
      "text/plain": [
       "HBox(children=(IntProgress(value=0, max=600), HTML(value='')))"
      ]
     },
     "metadata": {},
     "output_type": "display_data"
    },
    {
     "name": "stdout",
     "output_type": "stream",
     "text": [
      "\n",
      "Time for [prediction]: 0:09:42.420674\n",
      "Accuracy: 0.8983881904960618\n",
      "Confusion Matrix:\n",
      "[[8067  766]\n",
      " [1182 9156]]\n",
      "\n",
      "Accuracy:  0.9 \n",
      "\n",
      "Report for [BERTClassifier - epi512]:\n",
      "              precision    recall  f1-score   support\n",
      "\n",
      "           0       0.87      0.91      0.89      8833\n",
      "           1       0.92      0.89      0.90     10338\n",
      "\n",
      "    accuracy                           0.90     19171\n",
      "   macro avg       0.90      0.90      0.90     19171\n",
      "weighted avg       0.90      0.90      0.90     19171\n",
      "\n",
      "Time for [6 - evaluate]: 0:09:42.655505\n"
     ]
    }
   ],
   "source": [
    "with Timer(\"6 - evaluate\"):\n",
    "    #model.load_parameters(\"data/within_traindev_epi512/bert.model.params\", ctx=ctx)\n",
    "    all_predictions, cum_loss = predict(model, data_dev, ctx, metric, loss_function)\n",
    "    print(\"Accuracy:\", metric.get()[1])\n",
    "\n",
    "    y_true, y_pred = predict_out_to_ys(all_predictions, all_labels)\n",
    "    report_training_results(y_true, y_pred, name=\"BERTClassifier - epi512\", heatmap=False)"
   ]
  },
  {
   "cell_type": "markdown",
   "metadata": {},
   "source": [
    "### Train and evaluate each epoch"
   ]
  },
  {
   "cell_type": "code",
   "execution_count": null,
   "metadata": {
    "scrolled": true
   },
   "outputs": [],
   "source": [
    "for epoch_id in range(5):\n",
    "    with Timer(\"4 - train model - {}\".format(epoch_id)):\n",
    "        # stats = train(model, data_train, ctx, metric, loss_function, batch_size=32, lr=5e-6, num_epochs=epoch_id + 1)\n",
    "        stats = train(model, data_train, ctx, metric, loss_function, batch_size=6, lr=5e-6, num_epochs=epoch_id + 1)  # seq_len: 512\n",
    "        plot_train_stats(stats)\n",
    "\n",
    "    with Timer(\"6 - evaluate - {}\".format(epoch_id)):\n",
    "        # all_predictions, cum_loss = predict(model, data_dev, ctx, metric, loss_function)\n",
    "        all_predictions, cum_loss = predict(model, data_dev, ctx, metric, loss_function, batch_size=6)  # seq_len: 512\n",
    "        print(\"Accuracy in epoch {}:\".format(epoch_id), metric.get()[1])\n",
    "        y_true, y_pred = predict_out_to_ys(all_predictions, all_labels)\n",
    "        report_training_results(y_true, y_pred, name=\"BERTClassifier - last part\", heatmap=False)\n",
    "\n",
    "    model.save_parameters(\"data/bert.model.params\")"
   ]
  },
  {
   "cell_type": "code",
   "execution_count": null,
   "metadata": {
    "scrolled": true
   },
   "outputs": [],
   "source": [
    "for epoch_id in range(5):\n",
    "    with Timer(\"4 - train model - {}\".format(epoch_id)):\n",
    "        # stats = train(model, data_train, ctx, metric, loss_function, batch_size=32, lr=5e-6, num_epochs=epoch_id + 1)\n",
    "        stats = train(model, data_train, ctx, metric, loss_function, batch_size=6, lr=5e-6, num_epochs=epoch_id + 1)  # seq_len: 512\n",
    "        plot_train_stats(stats)\n",
    "\n",
    "    with Timer(\"6 - evaluate - {}\".format(epoch_id)):\n",
    "        # all_predictions, cum_loss = predict(model, data_dev, ctx, metric, loss_function)\n",
    "        all_predictions, cum_loss = predict(model, data_dev, ctx, metric, loss_function, batch_size=6)  # seq_len: 512\n",
    "        print(\"Accuracy in epoch {}:\".format(epoch_id), metric.get()[1])\n",
    "        y_true, y_pred = predict_out_to_ys(all_predictions, all_labels)\n",
    "        report_training_results(y_true, y_pred, name=\"BERTClassifier - last part\", heatmap=False)\n",
    "\n",
    "    model.save_parameters(\"data/bert.model.params\")"
   ]
  },
  {
   "cell_type": "markdown",
   "metadata": {},
   "source": [
    "*may need to use **binary_cross_entrophy**?* (can I use a single label or do I have to use \"0\" and \"1\"?)"
   ]
  },
  {
   "cell_type": "markdown",
   "metadata": {},
   "source": [
    "### Cross topic - Training and evaluating model "
   ]
  },
  {
   "cell_type": "code",
   "execution_count": 27,
   "metadata": {
    "ExecuteTime": {
     "end_time": "2019-07-19T01:16:35.159073Z",
     "start_time": "2019-07-19T01:16:35.145975Z"
    }
   },
   "outputs": [
    {
     "name": "stdout",
     "output_type": "stream",
     "text": [
      "Time for [1 - test/train split]: 0:00:00.010687\n"
     ]
    }
   ],
   "source": [
    "# 1. Getting train and dev data\n",
    "with Timer(\"1 - test/train split\"):\n",
    "    X_train, X_dev, y_train, y_dev = get_train_test_sets(cross_traindev_df)"
   ]
  },
  {
   "cell_type": "code",
   "execution_count": null,
   "metadata": {},
   "outputs": [],
   "source": [
    "# 2. setup\n",
    "with Timer(\"2 - setup BERT model\"):\n",
    "    model, vocabulary, ctx, tokenizer, transform, loss_function, metric, all_labels = setup_bert()"
   ]
  },
  {
   "cell_type": "code",
   "execution_count": null,
   "metadata": {},
   "outputs": [],
   "source": [
    "with Timer(\"3 - prepare training data\"):\n",
    "    data_train_raw, data_train = transform_dataset(X_train, y_train, transform)\n",
    "    print_infos(vocabulary, data_train_raw, data_train)"
   ]
  },
  {
   "cell_type": "code",
   "execution_count": null,
   "metadata": {},
   "outputs": [],
   "source": [
    "with Timer(\"4 - train model\"):\n",
    "    # train(model, data_train, ctx, metric, loss_function, batch_size=32, lr=5e-6, num_epochs=3)\n",
    "    stats = train(model, data_train, ctx, metric, loss_function, batch_size=32, lr=5e-6, num_epochs=2)\n",
    "    # model.save_parameters(\"data/same-side-classification/cross-topic/bert.model.params\")\n",
    "    model.save_parameters(\"data/bert.model.params\")\n",
    "\n",
    "    plot_train_stats(stats)"
   ]
  },
  {
   "cell_type": "code",
   "execution_count": 28,
   "metadata": {
    "ExecuteTime": {
     "end_time": "2019-07-19T01:16:39.350248Z",
     "start_time": "2019-07-19T01:16:38.365096Z"
    },
    "collapsed": true
   },
   "outputs": [
    {
     "name": "stdout",
     "output_type": "stream",
     "text": [
      "alcoholism and drug-use are common after abortions.\n",
      "uncertainty over whether fetuses are \"life\" should halt abortions.\n",
      "1\n",
      "vocabulary used for tokenization = \n",
      "Vocab(size=30522, unk=\"[UNK]\", reserved=\"['[PAD]', '[CLS]', '[SEP]', '[MASK]']\")\n",
      "[PAD] token id = 1\n",
      "[CLS] token id = 2\n",
      "[SEP] token id = 3\n",
      "token ids = \n",
      "[    2 25519  1998  4319  1011  2224  2024  2691  2044 11324  2015  1012\n",
      "     3 12503  2058  3251 10768  5809  2229  2024  1000  2166  1000  2323\n",
      "  9190 11324  2015  1012     3     1     1     1     1     1     1     1\n",
      "     1     1     1     1     1     1     1     1     1     1     1     1\n",
      "     1     1     1     1     1     1     1     1     1     1     1     1\n",
      "     1     1     1     1     1     1     1     1     1     1     1     1\n",
      "     1     1     1     1     1     1     1     1     1     1     1     1\n",
      "     1     1     1     1     1     1     1     1     1     1     1     1\n",
      "     1     1     1     1     1     1     1     1     1     1     1     1\n",
      "     1     1     1     1     1     1     1     1     1     1     1     1\n",
      "     1     1     1     1     1     1     1     1     1     1     1     1\n",
      "     1     1     1     1     1     1     1     1     1     1     1     1\n",
      "     1     1     1     1     1     1     1     1     1     1     1     1\n",
      "     1     1     1     1     1     1     1     1     1     1     1     1\n",
      "     1     1     1     1     1     1     1     1     1     1     1     1\n",
      "     1     1     1     1     1     1     1     1     1     1     1     1\n",
      "     1     1     1     1     1     1     1     1     1     1     1     1\n",
      "     1     1     1     1     1     1     1     1     1     1     1     1\n",
      "     1     1     1     1     1     1     1     1     1     1     1     1\n",
      "     1     1     1     1     1     1     1     1     1     1     1     1\n",
      "     1     1     1     1     1     1     1     1     1     1     1     1\n",
      "     1     1     1     1     1     1     1     1     1     1     1     1\n",
      "     1     1     1     1     1     1     1     1     1     1     1     1\n",
      "     1     1     1     1     1     1     1     1     1     1     1     1\n",
      "     1     1     1     1     1     1     1     1     1     1     1     1\n",
      "     1     1     1     1     1     1     1     1     1     1     1     1\n",
      "     1     1     1     1     1     1     1     1     1     1     1     1\n",
      "     1     1     1     1     1     1     1     1     1     1     1     1\n",
      "     1     1     1     1     1     1     1     1     1     1     1     1\n",
      "     1     1     1     1     1     1     1     1     1     1     1     1\n",
      "     1     1     1     1     1     1     1     1     1     1     1     1\n",
      "     1     1     1     1     1     1     1     1     1     1     1     1\n",
      "     1     1     1     1     1     1     1     1     1     1     1     1\n",
      "     1     1     1     1     1     1     1     1     1     1     1     1\n",
      "     1     1     1     1     1     1     1     1     1     1     1     1\n",
      "     1     1     1     1     1     1     1     1     1     1     1     1\n",
      "     1     1     1     1     1     1     1     1     1     1     1     1\n",
      "     1     1     1     1     1     1     1     1     1     1     1     1\n",
      "     1     1     1     1     1     1     1     1     1     1     1     1\n",
      "     1     1     1     1     1     1     1     1     1     1     1     1\n",
      "     1     1     1     1     1     1     1     1     1     1     1     1\n",
      "     1     1     1     1     1     1     1     1     1     1     1     1\n",
      "     1     1     1     1     1     1     1     1]\n",
      "valid length = \n",
      "29\n",
      "segment ids = \n",
      "[0 0 0 0 0 0 0 0 0 0 0 0 0 1 1 1 1 1 1 1 1 1 1 1 1 1 1 1 1 0 0 0 0 0 0 0 0\n",
      " 0 0 0 0 0 0 0 0 0 0 0 0 0 0 0 0 0 0 0 0 0 0 0 0 0 0 0 0 0 0 0 0 0 0 0 0 0\n",
      " 0 0 0 0 0 0 0 0 0 0 0 0 0 0 0 0 0 0 0 0 0 0 0 0 0 0 0 0 0 0 0 0 0 0 0 0 0\n",
      " 0 0 0 0 0 0 0 0 0 0 0 0 0 0 0 0 0 0 0 0 0 0 0 0 0 0 0 0 0 0 0 0 0 0 0 0 0\n",
      " 0 0 0 0 0 0 0 0 0 0 0 0 0 0 0 0 0 0 0 0 0 0 0 0 0 0 0 0 0 0 0 0 0 0 0 0 0\n",
      " 0 0 0 0 0 0 0 0 0 0 0 0 0 0 0 0 0 0 0 0 0 0 0 0 0 0 0 0 0 0 0 0 0 0 0 0 0\n",
      " 0 0 0 0 0 0 0 0 0 0 0 0 0 0 0 0 0 0 0 0 0 0 0 0 0 0 0 0 0 0 0 0 0 0 0 0 0\n",
      " 0 0 0 0 0 0 0 0 0 0 0 0 0 0 0 0 0 0 0 0 0 0 0 0 0 0 0 0 0 0 0 0 0 0 0 0 0\n",
      " 0 0 0 0 0 0 0 0 0 0 0 0 0 0 0 0 0 0 0 0 0 0 0 0 0 0 0 0 0 0 0 0 0 0 0 0 0\n",
      " 0 0 0 0 0 0 0 0 0 0 0 0 0 0 0 0 0 0 0 0 0 0 0 0 0 0 0 0 0 0 0 0 0 0 0 0 0\n",
      " 0 0 0 0 0 0 0 0 0 0 0 0 0 0 0 0 0 0 0 0 0 0 0 0 0 0 0 0 0 0 0 0 0 0 0 0 0\n",
      " 0 0 0 0 0 0 0 0 0 0 0 0 0 0 0 0 0 0 0 0 0 0 0 0 0 0 0 0 0 0 0 0 0 0 0 0 0\n",
      " 0 0 0 0 0 0 0 0 0 0 0 0 0 0 0 0 0 0 0 0 0 0 0 0 0 0 0 0 0 0 0 0 0 0 0 0 0\n",
      " 0 0 0 0 0 0 0 0 0 0 0 0 0 0 0 0 0 0 0 0 0 0 0 0 0 0 0 0 0 0 0]\n",
      "label = \n",
      "[1]\n",
      "Time for [5 - prepare eval data]: 0:00:00.981673\n"
     ]
    }
   ],
   "source": [
    "with Timer(\"5 - prepare eval data\"):\n",
    "    data_dev_raw, data_dev = transform_dataset(X_dev, y_dev, transform)\n",
    "    print_infos(vocabulary, data_dev_raw, data_dev)"
   ]
  },
  {
   "cell_type": "code",
   "execution_count": 50,
   "metadata": {
    "ExecuteTime": {
     "end_time": "2019-07-19T07:38:08.105724Z",
     "start_time": "2019-07-19T07:27:40.649187Z"
    }
   },
   "outputs": [
    {
     "data": {
      "application/vnd.jupyter.widget-view+json": {
       "model_id": "80c8d8f5808e48af84f1452fd373c055",
       "version_major": 2,
       "version_minor": 0
      },
      "text/plain": [
       "HBox(children=(IntProgress(value=0, max=3053), HTML(value='')))"
      ]
     },
     "metadata": {},
     "output_type": "display_data"
    },
    {
     "name": "stdout",
     "output_type": "stream",
     "text": [
      "\n",
      "Time for [prediction]: 0:10:26.480018\n",
      "Accuracy: 0.9274911274911275\n",
      "Confusion Matrix:\n",
      "[[8451  485]\n",
      " [ 843 8536]]\n",
      "\n",
      "Accuracy:  0.93 \n",
      "\n",
      "Report for [BERTClassifier within-model, cross-devset]:\n",
      "              precision    recall  f1-score   support\n",
      "\n",
      "           0       0.91      0.95      0.93      8936\n",
      "           1       0.95      0.91      0.93      9379\n",
      "\n",
      "    accuracy                           0.93     18315\n",
      "   macro avg       0.93      0.93      0.93     18315\n",
      "weighted avg       0.93      0.93      0.93     18315\n",
      "\n",
      "Time for [6 - evaluate]: 0:10:27.453049\n"
     ]
    }
   ],
   "source": [
    "with Timer(\"6 - evaluate\"):\n",
    "    # model.load_parameters(\"data/same-side-classification/cross-topic/bert.model.params\", ctx=ctx)\n",
    "    # model.load_parameters(\"data/bert.model.params\", ctx=ctx)\n",
    "    all_predictions, cum_loss = predict(model, data_dev, ctx, metric, loss_function, batch_size=6)\n",
    "    print(\"Accuracy:\", metric.get()[1])\n",
    "\n",
    "    y_true, y_pred = predict_out_to_ys(all_predictions, all_labels)\n",
    "    report_training_results(y_true, y_pred, name=\"BERTClassifier within-model, cross-devset\", heatmap=False)"
   ]
  },
  {
   "cell_type": "code",
   "execution_count": null,
   "metadata": {
    "scrolled": true
   },
   "outputs": [],
   "source": [
    "for epoch_id in range(5):\n",
    "    with Timer(\"4 - train model - {}\".format(epoch_id)):\n",
    "        stats = train(model, data_train, ctx, metric, loss_function, batch_size=32, lr=5e-6, num_epochs=epoch_id + 1)\n",
    "        plot_train_stats(stats)\n",
    "\n",
    "    with Timer(\"6 - evaluate - {}\".format(epoch_id)):\n",
    "        all_predictions, cum_loss = predict(model, data_dev, ctx, metric, loss_function)\n",
    "        print(\"Accuracy in epoch {}:\".format(epoch_id), metric.get()[1])\n",
    "        y_true, y_pred = predict_out_to_ys(all_predictions, all_labels)\n",
    "        report_training_results(y_true, y_pred, name=\"BERTClassifier\", heatmap=False)\n",
    "\n",
    "    model.save_parameters(\"data/bert.model.params\")"
   ]
  },
  {
   "cell_type": "code",
   "execution_count": null,
   "metadata": {},
   "outputs": [],
   "source": []
  }
 ],
 "metadata": {
  "celltoolbar": "Initialization Cell",
  "kernelspec": {
   "display_name": "Python 3",
   "language": "python",
   "name": "python3"
  },
  "language_info": {
   "codemirror_mode": {
    "name": "ipython",
    "version": 3
   },
   "file_extension": ".py",
   "mimetype": "text/x-python",
   "name": "python",
   "nbconvert_exporter": "python",
   "pygments_lexer": "ipython3",
   "version": "3.7.3"
  },
  "varInspector": {
   "cols": {
    "lenName": 16,
    "lenType": 16,
    "lenVar": 40
   },
   "kernels_config": {
    "python": {
     "delete_cmd_postfix": "",
     "delete_cmd_prefix": "del ",
     "library": "var_list.py",
     "varRefreshCmd": "print(var_dic_list())"
    },
    "r": {
     "delete_cmd_postfix": ") ",
     "delete_cmd_prefix": "rm(",
     "library": "var_list.r",
     "varRefreshCmd": "cat(var_dic_list()) "
    }
   },
   "types_to_exclude": [
    "module",
    "function",
    "builtin_function_or_method",
    "instance",
    "_Feature"
   ],
   "window_display": false
  }
 },
 "nbformat": 4,
 "nbformat_minor": 2
}
