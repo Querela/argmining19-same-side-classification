{
 "cells": [
  {
   "cell_type": "markdown",
   "metadata": {},
   "source": [
    "# Datasets (Sentiment) - Yelp - Categories"
   ]
  },
  {
   "cell_type": "markdown",
   "metadata": {},
   "source": [
    "## Yelp\n",
    "\n",
    "- https://www.yelp.com/dataset/documentation/main\n",
    "- https://www.yelp.com/developers/documentation/v3/all_category_list"
   ]
  },
  {
   "cell_type": "code",
   "execution_count": null,
   "metadata": {},
   "outputs": [],
   "source": [
    "! wget -O data/sentiment/yelp/all_category_list.json https://www.yelp.com/developers/documentation/v3/all_category_list/categories.json"
   ]
  },
  {
   "cell_type": "code",
   "execution_count": null,
   "metadata": {},
   "outputs": [],
   "source": []
  },
  {
   "cell_type": "code",
   "execution_count": null,
   "metadata": {},
   "outputs": [],
   "source": [
    "! pip install jsonlines"
   ]
  },
  {
   "cell_type": "code",
   "execution_count": null,
   "metadata": {},
   "outputs": [],
   "source": [
    "! pip install syntok"
   ]
  },
  {
   "cell_type": "code",
   "execution_count": 1,
   "metadata": {
    "ExecuteTime": {
     "end_time": "2020-05-11T09:07:05.772267Z",
     "start_time": "2020-05-11T09:07:04.601649Z"
    },
    "collapsed": true
   },
   "outputs": [
    {
     "data": {
      "text/plain": [
       "[]"
      ]
     },
     "execution_count": 1,
     "metadata": {},
     "output_type": "execute_result"
    },
    {
     "data": {
      "image/png": "[encoded data removed]",
      "text/plain": [
       "<Figure size 432x288 with 1 Axes>"
      ]
     },
     "metadata": {
      "needs_background": "light"
     },
     "output_type": "display_data"
    }
   ],
   "source": [
    "import json\n",
    "import os\n",
    "import random\n",
    "import pickle\n",
    "from collections import Counter\n",
    "from copy import deepcopy\n",
    "from itertools import combinations, groupby\n",
    "from pathlib import Path\n",
    "from pprint import pprint\n",
    "\n",
    "import jsonlines\n",
    "import matplotlib.pyplot as plt\n",
    "import numpy as np\n",
    "import pandas as pd\n",
    "import seaborn as sn\n",
    "import scipy.spatial.distance as ssd\n",
    "from IPython.display import set_matplotlib_formats\n",
    "from scipy.cluster import hierarchy\n",
    "from sklearn.cluster import AgglomerativeClustering, SpectralClustering\n",
    "from sklearn.metrics import pairwise_distances\n",
    "from sklearn.metrics.pairwise import cosine_similarity, linear_kernel\n",
    "from syntok.tokenizer import Tokenizer\n",
    "from tqdm import tqdm\n",
    "\n",
    "tqdm.pandas()\n",
    "\n",
    "%matplotlib inline\n",
    "plt.rcParams.update({\"font.size\": 25, \"font.weight\": \"bold\"})\n",
    "# https://stackoverflow.com/questions/36622237/jupyter-notebook-inline-plots-as-svg\n",
    "# set_matplotlib_formats(\"svg\")  # glitches it\n",
    "plt.plot()"
   ]
  },
  {
   "cell_type": "code",
   "execution_count": 2,
   "metadata": {
    "ExecuteTime": {
     "end_time": "2020-05-11T09:07:14.542185Z",
     "start_time": "2020-05-11T09:07:12.777928Z"
    }
   },
   "outputs": [],
   "source": [
    "from utils_data import init_random\n",
    "init_random()"
   ]
  },
  {
   "cell_type": "code",
   "execution_count": 4,
   "metadata": {
    "ExecuteTime": {
     "end_time": "2020-05-11T09:07:41.883925Z",
     "start_time": "2020-05-11T09:07:41.880952Z"
    }
   },
   "outputs": [],
   "source": [
    "# download + scp to cuda + extract\n",
    "# Path on CUDA2\n",
    "data_yelp_path = Path(\"/disk1/users/ekoerner/argmining19-same-side-classification/data/sentiment/yelp/\")\n",
    "data_yelp_path = Path(\"/disk1/users/ekoerner/same-side-classification/argmining19-same-side-classification/data/sentiment/yelp/\")"
   ]
  },
  {
   "cell_type": "markdown",
   "metadata": {},
   "source": [
    "---"
   ]
  },
  {
   "cell_type": "markdown",
   "metadata": {},
   "source": [
    "#### Load reviews / categories (topics) + filter cats/make combinations"
   ]
  },
  {
   "cell_type": "code",
   "execution_count": 5,
   "metadata": {
    "ExecuteTime": {
     "end_time": "2020-05-11T09:07:48.613549Z",
     "start_time": "2020-05-11T09:07:48.598273Z"
    },
    "code_folding": [
     0,
     28
    ],
    "jupyter": {
     "source_hidden": true
    }
   },
   "outputs": [],
   "source": [
    "def load_reviews(fn_yelp_reviews):\n",
    "    \"\"\"Load Yelp reviews. Return a Pandas dataframe.\n",
    "    Format: {\"id\": business_id, \"rid\": review_id, \"text\": text, \"rating\": rating}\n",
    "    And add goodness bool (rating > 3).\"\"\"\n",
    "    data = list()\n",
    "\n",
    "    with jsonlines.open(fn_yelp_reviews, \"r\") as fp:\n",
    "        for n, entry in enumerate(tqdm(fp)):\n",
    "            # print(entry)\n",
    "            # break\n",
    "            business_id = entry.pop(\"business_id\")\n",
    "            review_id = entry.pop(\"review_id\")\n",
    "            text = entry.pop(\"text\", \"\")\n",
    "            rating = entry.pop(\"stars\", 0.0)\n",
    "            data.append({\"id\": business_id, \"rid\": review_id, \"text\": text, \"rating\": rating})\n",
    "            # TESTING\n",
    "            # if n > 10000:\n",
    "            #     break\n",
    "\n",
    "    df = pd.DataFrame.from_dict(data)\n",
    "    \n",
    "    # Add goodness value\n",
    "    # TODO: maybe ignore with 3\n",
    "    df[\"goodness\"] = df[\"rating\"] > 3\n",
    "    \n",
    "    return df\n",
    "\n",
    "\n",
    "def load_topics(fn_yelp_topics, bids_not_cats=None, filter_cats=None, filter_cat_combis=None):\n",
    "    \"\"\"Load topics (categories).\n",
    "    Optionally filter by giving it a whitelist of allowed categories.\n",
    "    Optionally filter by giving a list of allowed category combinations.\n",
    "    Optionally provide an IN/OUT param ``bids_not_cats`` that accumulates business ids without categories.\"\"\"\n",
    "    inv_bid_cats = dict()\n",
    "    if bids_not_cats is None or not isinstance(bids_not_cats, set):\n",
    "        bids_not_cats = set()\n",
    "    \n",
    "    # load lookup business -> categories\n",
    "    with jsonlines.open(fn_yelp_topics, \"r\") as fp:\n",
    "        for n, entry in enumerate(tqdm(fp)):\n",
    "            business_id = entry.pop(\"business_id\")\n",
    "            categories = entry.pop(\"categories\")\n",
    "\n",
    "            if not categories:\n",
    "                bids_not_cats.add(business_id)\n",
    "                continue\n",
    "\n",
    "            categories = categories.split(\", \")\n",
    "            \n",
    "            if filter_cats:\n",
    "                categories = [c for c in categories if c in filter_cats]\n",
    "                if not categories:\n",
    "                    # bids_not_cats.add(business_id)  # ??\n",
    "                    continue\n",
    "                    \n",
    "            if filter_cat_combis:\n",
    "                # skip if combination is not above threshold (of filter list)\n",
    "                if tuple(sorted(set(categories))) not in filter_cat_combis:\n",
    "                    continue\n",
    "\n",
    "            inv_bid_cats[business_id] = categories\n",
    "    \n",
    "    return inv_bid_cats"
   ]
  },
  {
   "cell_type": "code",
   "execution_count": 6,
   "metadata": {
    "ExecuteTime": {
     "end_time": "2020-05-11T09:07:49.688086Z",
     "start_time": "2020-05-11T09:07:49.677578Z"
    },
    "code_folding": [
     0,
     11,
     30
    ],
    "jupyter": {
     "source_hidden": true
    }
   },
   "outputs": [],
   "source": [
    "def filter_min_cat_combis(inv_cat_combis, min_num=30):\n",
    "    \"\"\"Filter category combinations by minimum amount of occurrences in businesses\"\"\"\n",
    "    f_inv_cat_combis = dict()\n",
    "    \n",
    "    for cats, num in inv_cat_combis.items():\n",
    "        if num >= min_num:\n",
    "            f_inv_cat_combis[cats] = num\n",
    "    \n",
    "    return f_inv_cat_combis\n",
    "\n",
    "\n",
    "def make_map_cats(inv_bid_cats):\n",
    "    \"\"\"Make a map from category to business id\"\"\"\n",
    "    inv_cat_bids = dict()\n",
    "\n",
    "    # reverse lookup: category -> businesses\n",
    "    for bid, cats in tqdm(inv_bid_cats.items()):\n",
    "        for cat in cats:\n",
    "            try:\n",
    "                inv_cat_bids[cat].append(bid)\n",
    "            except KeyError:\n",
    "                inv_cat_bids[cat] = [bid]\n",
    "                \n",
    "    ## TODO: make distinct?\n",
    "    for cat in inv_cat_bids.keys():\n",
    "        inv_cat_bids[cat] = list(set(inv_cat_bids[cat]))\n",
    "                \n",
    "    return inv_cat_bids\n",
    "\n",
    "\n",
    "def make_cat_combis(inv_bid_cats):\n",
    "    \"\"\"Count amount of each category combination occurring in businesses\"\"\"\n",
    "    inv_cat_combis = Counter()\n",
    "\n",
    "    inv_cat_combis.update(\n",
    "        (tuple(sorted(set(cats))) for cats in tqdm(inv_bid_cats.values())))\n",
    "    \n",
    "    return inv_cat_combis"
   ]
  },
  {
   "cell_type": "markdown",
   "metadata": {},
   "source": [
    "#### Filter reviews according to criteria"
   ]
  },
  {
   "cell_type": "code",
   "execution_count": 7,
   "metadata": {
    "ExecuteTime": {
     "end_time": "2020-05-11T09:07:56.909045Z",
     "start_time": "2020-05-11T09:07:56.900472Z"
    },
    "code_folding": [
     0,
     16
    ],
    "jupyter": {
     "source_hidden": true
    }
   },
   "outputs": [],
   "source": [
    "def filter_min_review_freq(df, min_ratings=5):\n",
    "    \"\"\"Filter review dataframe for a minimum of N of each good and bad ratings.\"\"\"\n",
    "    # filter with at least N ratings per goodness\n",
    "    df_filter = df.groupby([\"id\", \"goodness\"])[[\"id\"]].count() < min_ratings\n",
    "    df_filter = df_filter.rename(columns={\"id\": \"filter\"})\n",
    "    df_filter = df_filter[df_filter[\"filter\"] == True]\n",
    "\n",
    "    # build a filter id list\n",
    "    df_filter_list = df_filter.reset_index()[\"id\"].to_list()\n",
    "\n",
    "    # filter with list\n",
    "    df_filtered = df[~df.id.isin(df_filter_list)]\n",
    "    \n",
    "    return df_filtered\n",
    "\n",
    "\n",
    "def filter_both_good_bad(df):\n",
    "    \"\"\"Filter the dataframe to contain only both good and bad reviews for each business.\n",
    "    Dataframe should be the same if minimum filtering above is done.\"\"\"\n",
    "    # build filter for ids that contain both positive and negative samples\n",
    "    df_filter = df.groupby([\"id\", \"goodness\"], as_index=False).count().groupby(\"id\")[[\"id\"]].count() == 2\n",
    "    df_filter = df_filter.rename(columns={\"id\": \"filter\"})\n",
    "    df_filter = df_filter[df_filter[\"filter\"] == True]\n",
    "\n",
    "    # create list of IDs for which this is true\n",
    "    df_filter_list = df_filter.reset_index()[\"id\"].to_list()\n",
    "\n",
    "    # filter with list\n",
    "    df_filtered = df[df.id.isin(df_filter_list)]\n",
    "\n",
    "    # df_filtered.groupby([\"id\", \"goodness\"]).count()\n",
    "    return df_filtered"
   ]
  },
  {
   "cell_type": "code",
   "execution_count": 8,
   "metadata": {
    "ExecuteTime": {
     "end_time": "2020-05-11T09:07:57.112688Z",
     "start_time": "2020-05-11T09:07:57.108855Z"
    },
    "code_folding": [
     0,
     7
    ],
    "jupyter": {
     "source_hidden": true
    }
   },
   "outputs": [],
   "source": [
    "def filter_by_businesses(df, lst_business_ids):\n",
    "    # filter with list, keep businesses in list\n",
    "    df_filtered = df[df.id.isin(set(lst_business_ids))]\n",
    "\n",
    "    return df_filtered\n",
    "\n",
    "\n",
    "def filter_by_businesses_not_same(df, lst_business_ids):\n",
    "    # filter with list, keep businesses that are not in list\n",
    "    df_filtered = df[~df.id.isin(set(lst_business_ids))]\n",
    "\n",
    "    return df_filtered"
   ]
  },
  {
   "cell_type": "markdown",
   "metadata": {},
   "source": [
    "#### Get topN categories + make Ntuples from category combinations"
   ]
  },
  {
   "cell_type": "code",
   "execution_count": 9,
   "metadata": {
    "ExecuteTime": {
     "end_time": "2020-05-11T09:08:00.684060Z",
     "start_time": "2020-05-11T09:08:00.674074Z"
    },
    "code_folding": [
     0,
     7
    ],
    "jupyter": {
     "source_hidden": true
    }
   },
   "outputs": [],
   "source": [
    "def get_Ntop_cats(inv_cat_bids, n=50):\n",
    "    # get most common cats\n",
    "    f_cat_cnt = Counter({k: len(v) for k, v in inv_cat_bids.items()})\n",
    "    f_cats = {c for c, v in f_cat_cnt.most_common(n)}\n",
    "    return f_cats\n",
    "\n",
    "\n",
    "def make_cat_Ntuples(f_inv_cat_combis, n=2):\n",
    "    f_cat_pairs = Counter()\n",
    "\n",
    "    for cat_group in tqdm(f_inv_cat_combis.keys()):\n",
    "        if len(cat_group) < n:\n",
    "            continue\n",
    "        it = combinations(cat_group, n)\n",
    "        # repeat (#num_businesses) + chain combis\n",
    "        f_cat_pairs.update(it)\n",
    "        \n",
    "    return f_cat_pairs"
   ]
  },
  {
   "cell_type": "markdown",
   "metadata": {},
   "source": [
    "#### Make category graph or NxN map (df + array)"
   ]
  },
  {
   "cell_type": "code",
   "execution_count": 10,
   "metadata": {
    "ExecuteTime": {
     "end_time": "2020-05-11T09:08:03.860609Z",
     "start_time": "2020-05-11T09:08:03.850325Z"
    },
    "code_folding": [
     0,
     9
    ],
    "jupyter": {
     "source_hidden": true
    }
   },
   "outputs": [],
   "source": [
    "def make_graph(f_cat_pairs):\n",
    "    g_from, g_to, g_value = zip(*((k1, k2, n) for (k1, k2), n in tqdm(f_cat_pairs.most_common())))\n",
    "\n",
    "    g_df = pd.DataFrame({\"from\": g_from, \"to\": g_to, \"value\": g_value})\n",
    "    G = nx.from_pandas_edgelist(g_df, \"from\", \"to\", create_using=nx.Graph())\n",
    "    \n",
    "    return G\n",
    "\n",
    "\n",
    "def make_NxN_map(f_cats, f_cat_pairs):\n",
    "    f_cats = list(f_cats)\n",
    "    array = list()\n",
    "    for i, cat1 in enumerate(tqdm(f_cats)):\n",
    "        array_row = list()\n",
    "        for j, cat2 in enumerate(f_cats):\n",
    "            array_row.append(f_cat_pairs.get((cat1, cat2), f_cat_pairs.get((cat2, cat1), 0)))\n",
    "        array.append(array_row)\n",
    "    df_cm = pd.DataFrame(array, index=list(f_cats), columns=list(f_cats))\n",
    "    \n",
    "    # dataframe, NxN array + labels\n",
    "    return df_cm, array, f_cats"
   ]
  },
  {
   "cell_type": "markdown",
   "metadata": {},
   "source": [
    "---"
   ]
  },
  {
   "cell_type": "markdown",
   "metadata": {},
   "source": [
    "#### Load categories hierarchy"
   ]
  },
  {
   "cell_type": "code",
   "execution_count": 11,
   "metadata": {
    "ExecuteTime": {
     "end_time": "2020-05-11T09:08:08.957395Z",
     "start_time": "2020-05-11T09:08:08.933588Z"
    },
    "code_folding": [
     0,
     30,
     40
    ],
    "jupyter": {
     "source_hidden": true
    }
   },
   "outputs": [],
   "source": [
    "def load_category_tree(fn_all_category_list):\n",
    "    with open(fn_all_category_list, \"r\") as fp:\n",
    "        content = fp.read()\n",
    "        data = json.loads(content)\n",
    "\n",
    "    map_categories = dict()\n",
    "    map_cat_name2id = dict()\n",
    "    lst_root_categories = list()\n",
    "\n",
    "    # load basic lookups\n",
    "    for item in data:\n",
    "        # .alias (id)\n",
    "        map_categories[item[\"alias\"]] = item\n",
    "        # .title\n",
    "        map_cat_name2id[item[\"title\"]] = item[\"alias\"]\n",
    "        # .parents\n",
    "        # some have multiple parents ...\n",
    "        if not item[\"parents\"]:\n",
    "            lst_root_categories.append(item[\"alias\"])\n",
    "        # add list of children\n",
    "        item[\"children\"] = list()\n",
    "\n",
    "    # add children\n",
    "    for cid, item in map_categories.items():\n",
    "        for parent_cid in item[\"parents\"]:\n",
    "            map_categories[parent_cid][\"children\"].append(item[\"alias\"])\n",
    "\n",
    "    return map_categories, map_cat_name2id, lst_root_categories\n",
    "\n",
    "\n",
    "def get_root_category_items(map_categories):\n",
    "    lst_root_categories = list()\n",
    "\n",
    "    for cid, item in map_categories.items():\n",
    "        if not item[\"parents\"]:\n",
    "            lst_root_categories.append(item)\n",
    "            \n",
    "    return lst_root_categories\n",
    "\n",
    "\n",
    "def get_children_category_item_list(map_categories, parent_cid):\n",
    "    return [\n",
    "        map_categories[child_cid]\n",
    "        for child_cid in map_categories[parent_cid][\"children\"]\n",
    "    ]"
   ]
  },
  {
   "cell_type": "markdown",
   "metadata": {},
   "source": [
    "##### Get businesses in categories"
   ]
  },
  {
   "cell_type": "code",
   "execution_count": 12,
   "metadata": {
    "ExecuteTime": {
     "end_time": "2020-05-11T09:08:11.836132Z",
     "start_time": "2020-05-11T09:08:11.829482Z"
    },
    "code_folding": [
     0,
     7
    ],
    "jupyter": {
     "source_hidden": true
    }
   },
   "outputs": [],
   "source": [
    "def get_businesses_in_category(inv_cat_bids, category):\n",
    "    try:\n",
    "        return list(set(inv_cat_bids[category]))\n",
    "    except KeyError:\n",
    "        return []\n",
    "    \n",
    "    \n",
    "def get_businesses_in_category_branch(inv_cat_bids, category, map_categories, map_cat_name2id):\n",
    "    map_cat_id2name = {cid: name for name, cid in map_cat_name2id.items()}\n",
    "\n",
    "    def _get_recursive_businesses(cat_name):\n",
    "        businesses = get_businesses_in_category(inv_cat_bids, cat_name)\n",
    "\n",
    "        cid = map_cat_name2id[cat_name]\n",
    "        for child_cid in map_categories[cid][\"children\"]:\n",
    "            child_name = map_cat_id2name[child_cid]\n",
    "            businesses.extend(_get_recursive_businesses(child_name))\n",
    "        \n",
    "        return businesses\n",
    "    \n",
    "    return _get_recursive_businesses(category)"
   ]
  },
  {
   "cell_type": "markdown",
   "metadata": {},
   "source": [
    "##### Print category trees"
   ]
  },
  {
   "cell_type": "code",
   "execution_count": 13,
   "metadata": {
    "ExecuteTime": {
     "end_time": "2020-05-11T09:08:18.983592Z",
     "start_time": "2020-05-11T09:08:18.934605Z"
    },
    "code_folding": [
     0,
     19,
     49,
     85,
     106
    ],
    "jupyter": {
     "source_hidden": true
    }
   },
   "outputs": [],
   "source": [
    "def print_category_tree(map_categories):\n",
    "    root_categories = get_root_category_items(map_categories)\n",
    "    \n",
    "    def _print_cat_list_rec(lst_cats, level=0):\n",
    "        for item in sorted(lst_cats, key=lambda x: x[\"title\"]):\n",
    "            if level:\n",
    "                print(\"  \" * level, end=\"\")\n",
    "            print(f\"\"\"{item[\"title\"]} [{item[\"alias\"]}]\"\"\", end=\"\")\n",
    "            if item[\"children\"]:\n",
    "                print(f\"\"\" [#{len(item[\"children\"])} children]\"\"\")\n",
    "            else:\n",
    "                print()\n",
    "            \n",
    "            children = get_children_category_item_list(map_categories, item[\"alias\"])\n",
    "            _print_cat_list_rec(children, level=level + 1)\n",
    "            \n",
    "    _print_cat_list_rec(root_categories, level=0)\n",
    "\n",
    "\n",
    "def print_category_tree_with_num_businesses(map_categories, inv_cat_bids):\n",
    "    root_categories = get_root_category_items(map_categories)\n",
    "    \n",
    "    def _print_cat_list_rec(lst_cats, level=0):\n",
    "        for item in sorted(lst_cats, key=lambda x: x[\"title\"]):\n",
    "            cur_line = \" .\" * 30\n",
    "            parts = list()\n",
    "\n",
    "            if level:\n",
    "                parts.append(\"  \" * level)\n",
    "            parts.append(f\"\"\"{item[\"title\"]} [{item[\"alias\"]}]\"\"\")\n",
    "            \n",
    "            str_len = sum(len(part) for part in parts)\n",
    "            print(\"\".join(part for part in parts), end=\"\")\n",
    "            print(cur_line[str_len:], end=\"\")\n",
    "            \n",
    "            if item[\"title\"] not in inv_cat_bids:\n",
    "                print(\" No businesses associated!\")\n",
    "            else:\n",
    "                print(f\"\"\" {len((inv_cat_bids[item[\"title\"]])):>5d} businesses\"\"\")\n",
    "            \n",
    "            children = get_children_category_item_list(map_categories, item[\"alias\"])\n",
    "            _print_cat_list_rec(children, level=level + 1)\n",
    "            \n",
    "            if level == 0:\n",
    "                print()\n",
    "            \n",
    "    _print_cat_list_rec(root_categories, level=0)\n",
    "    \n",
    "\n",
    "def print_category_tree_with_num_businesses_rec(map_categories, inv_cat_bids, map_cat_name2id):\n",
    "    root_categories = get_root_category_items(map_categories)\n",
    "    \n",
    "    def _print_cat_list_rec(lst_cats, level=0):\n",
    "        for item in sorted(lst_cats, key=lambda x: x[\"title\"]):\n",
    "            cur_line = \" .\" * 30\n",
    "            parts = list()\n",
    "\n",
    "            if level:\n",
    "                parts.append(\"  \" * level)\n",
    "            parts.append(f\"\"\"{item[\"title\"]} [{item[\"alias\"]}]\"\"\")\n",
    "            \n",
    "            str_len = sum(len(part) for part in parts)\n",
    "            print(\"\".join(part for part in parts), end=\"\")\n",
    "            print(cur_line[str_len:], end=\"\")\n",
    "            \n",
    "            businesses = get_businesses_in_category_branch(inv_cat_bids, item[\"title\"], map_categories, map_cat_name2id)\n",
    "            businesses_self = get_businesses_in_category(inv_cat_bids, item[\"title\"])\n",
    "            if not businesses:\n",
    "                print(\" No businesses associated!\")\n",
    "            else:\n",
    "                businesses = set(businesses)\n",
    "                print(f\"\"\" {len(businesses):>5d} businesses\"\"\", end=\"\")\n",
    "                if len(businesses) != len(businesses_self):\n",
    "                    print(f\"\"\" (self: {len(businesses_self)})\"\"\", end=\"\")\n",
    "                print()\n",
    "            \n",
    "            children = get_children_category_item_list(map_categories, item[\"alias\"])\n",
    "            _print_cat_list_rec(children, level=level + 1)\n",
    "            \n",
    "            if level == 0:\n",
    "                print()\n",
    "            \n",
    "    _print_cat_list_rec(root_categories, level=0)\n",
    "    \n",
    "    \n",
    "def print_category_tree_with_num_businesses_root(map_categories, inv_cat_bids, map_cat_name2id):\n",
    "    root_categories = get_root_category_items(map_categories)\n",
    "    \n",
    "    for item in sorted(root_categories, key=lambda x: x[\"title\"]):\n",
    "        cur_line = \" .\" * 25\n",
    "        parts = [f\"\"\"{item[\"title\"]} [{item[\"alias\"]}] \"\"\"]\n",
    "\n",
    "        str_len = sum(len(part) for part in parts)\n",
    "        print(\"\".join(part for part in parts), end=\"\")\n",
    "        print(cur_line[str_len:], end=\"\")\n",
    "\n",
    "        businesses = get_businesses_in_category_branch(inv_cat_bids, item[\"title\"], map_categories, map_cat_name2id)\n",
    "        businesses_self = get_businesses_in_category(inv_cat_bids, item[\"title\"])\n",
    "\n",
    "        businesses = set(businesses)\n",
    "        print(f\"\"\" {len(businesses):>5d} businesses\"\"\", end=\"\")\n",
    "        if len(businesses) != len(businesses_self):\n",
    "            print(f\"\"\" (self: {len(businesses_self)})\"\"\", end=\"\")\n",
    "        print()\n",
    "        \n",
    "\n",
    "def print_category_tree_with_num_businesses_root2(map_categories, inv_cat_bids, map_cat_name2id):\n",
    "    root_categories = get_root_category_items(map_categories)\n",
    "    for item in root_categories:\n",
    "        item[\"businesses\"] = get_businesses_in_category_branch(inv_cat_bids, item[\"title\"], map_categories, map_cat_name2id)\n",
    "        item[\"businesses_self\"] = get_businesses_in_category(inv_cat_bids, item[\"title\"])\n",
    "    \n",
    "    for item in sorted(root_categories, key=lambda x: len(set(x[\"businesses\"]))):\n",
    "        cur_line = \" .\" * 25\n",
    "        parts = [f\"\"\"{item[\"title\"]} [{item[\"alias\"]}] \"\"\"]\n",
    "\n",
    "        str_len = sum(len(part) for part in parts)\n",
    "        print(\"\".join(part for part in parts), end=\"\")\n",
    "        print(cur_line[str_len:], end=\"\")\n",
    "\n",
    "        businesses = item[\"businesses\"]\n",
    "        businesses_self = item[\"businesses_self\"]\n",
    "\n",
    "        businesses = set(businesses)\n",
    "        print(f\"\"\" {len(businesses):>5d} businesses\"\"\", end=\"\")\n",
    "        if len(businesses) != len(businesses_self):\n",
    "            print(f\"\"\" (self: {len(businesses_self)})\"\"\", end=\"\")\n",
    "        print()"
   ]
  },
  {
   "cell_type": "markdown",
   "metadata": {},
   "source": [
    "##### Make category comparisons"
   ]
  },
  {
   "cell_type": "code",
   "execution_count": 14,
   "metadata": {
    "ExecuteTime": {
     "end_time": "2020-05-11T09:08:22.954253Z",
     "start_time": "2020-05-11T09:08:22.938570Z"
    },
    "code_folding": [
     0
    ],
    "jupyter": {
     "source_hidden": true
    }
   },
   "outputs": [],
   "source": [
    "def print_2category_compare(inv_cat_bids, map_categories, map_cat_name2id, cat_name_i, cat_name_j):\n",
    "    businesses_i = get_businesses_in_category_branch(inv_cat_bids, cat_name_i, map_categories, map_cat_name2id)\n",
    "    businesses_j = get_businesses_in_category_branch(inv_cat_bids, cat_name_j, map_categories, map_cat_name2id)\n",
    "    \n",
    "    cat_name_i += \":\"\n",
    "    cat_name_j += \":\"\n",
    "    width = max(12, len(cat_name_i), len(cat_name_j))\n",
    "\n",
    "    print(f\"\"\"{cat_name_i:<{width}} {len(set(businesses_i)):>5d}\"\"\")\n",
    "    print(f\"\"\"{cat_name_j:<{width}} {len(set(businesses_j)):>5d}\"\"\")\n",
    "    print(f\"\"\"Both: {\"same:\":>{width - 6}} {len(set(businesses_i) & set(businesses_j)):>5d}\"\"\")\n",
    "    print(f\"\"\"{\"total:\":>{width}} {len(set(businesses_i) | set(businesses_j)):>5d}\"\"\")"
   ]
  },
  {
   "cell_type": "code",
   "execution_count": 15,
   "metadata": {
    "ExecuteTime": {
     "end_time": "2020-05-11T09:08:26.187561Z",
     "start_time": "2020-05-11T09:08:26.181840Z"
    },
    "code_folding": [
     0
    ],
    "jupyter": {
     "source_hidden": true
    }
   },
   "outputs": [],
   "source": [
    "def make_NxN_category_businesses_overlap(inv_cat_bids, map_categories, map_cat_name2id):\n",
    "    root_categories = get_root_category_items(map_categories)\n",
    "    root_categories = sorted(root_categories, key=lambda x: x[\"title\"])\n",
    "    root_category_labels = [x[\"title\"] for x in root_categories]\n",
    "    \n",
    "    array = list()\n",
    "    for cname_i in root_category_labels:\n",
    "        array_line = list()\n",
    "        for cname_j in root_category_labels:\n",
    "            businesses_i = get_businesses_in_category_branch(inv_cat_bids, cname_i, map_categories, map_cat_name2id)\n",
    "            businesses_j = get_businesses_in_category_branch(inv_cat_bids, cname_j, map_categories, map_cat_name2id)\n",
    "            businesses_i, businesses_j = set(businesses_i), set(businesses_j)\n",
    "            businesses_ij_union = businesses_i | businesses_j\n",
    "            businesses_ij_intersect = businesses_i & businesses_j\n",
    "            num_businesses_ij = len(businesses_ij_intersect)\n",
    "            #array_line.append(num_businesses_ij)\n",
    "            array_line.append(len(businesses_ij_intersect) / len(businesses_ij_union))\n",
    "        array.append(array_line)\n",
    "    \n",
    "    df_cm = pd.DataFrame(array, index=list(root_category_labels), columns=list(root_category_labels))\n",
    "    \n",
    "    return array, root_category_labels, df_cm"
   ]
  },
  {
   "cell_type": "markdown",
   "metadata": {},
   "source": [
    "##### text length comparisons?"
   ]
  },
  {
   "cell_type": "code",
   "execution_count": 16,
   "metadata": {
    "ExecuteTime": {
     "end_time": "2020-05-11T09:08:28.969645Z",
     "start_time": "2020-05-11T09:08:28.965698Z"
    },
    "code_folding": [
     0
    ],
    "jupyter": {
     "source_hidden": true
    }
   },
   "outputs": [],
   "source": [
    "def get_reviews_for_category(df, cat_name, inv_cat_bids, map_categories, map_cat_name2id):\n",
    "    businesses = get_businesses_in_category_branch(inv_cat_bids, cat_name, map_categories, map_cat_name2id)\n",
    "    print(f\"\"\"{cat_name}: {len(businesses)}, uniq: {len(set(businesses))}\"\"\")\n",
    "    businesses = set(businesses)\n",
    "\n",
    "    df_businesses = filter_by_businesses(df, businesses)\n",
    "\n",
    "    return df_businesses"
   ]
  },
  {
   "cell_type": "markdown",
   "metadata": {},
   "source": [
    "##### Cache root category reviews in dataframes"
   ]
  },
  {
   "cell_type": "code",
   "execution_count": 17,
   "metadata": {
    "ExecuteTime": {
     "end_time": "2020-05-11T09:08:33.701867Z",
     "start_time": "2020-05-11T09:08:33.693443Z"
    },
    "code_folding": [
     3,
     27
    ],
    "jupyter": {
     "source_hidden": true
    }
   },
   "outputs": [],
   "source": [
    "dn_yelp_cached = data_yelp_path / \"cached\"\n",
    "\n",
    "\n",
    "def cache_root_category_businesses_df(df, inv_cat_bids, map_categories, map_cat_name2id):\n",
    "    root_categories = get_root_category_items(map_categories)\n",
    "    root_categories = sorted(root_categories, key=lambda x: x[\"title\"])\n",
    "    \n",
    "    dn_yelp_cached = data_yelp_path / \"cached\"\n",
    "    if not dn_yelp_cached.exists():\n",
    "        print(f\"Create cache dir: {dn_yelp_cached}\")\n",
    "        dn_yelp_cached.mkdir()\n",
    "        \n",
    "    for root_category in root_categories:\n",
    "        fn_yelp_cached_root_cat_df = dn_yelp_cached / f\"\"\"{root_category[\"alias\"]}_businesses.df.p\"\"\"\n",
    "        if fn_yelp_cached_root_cat_df.exists():\n",
    "            continue\n",
    "\n",
    "        business_ids = set(get_businesses_in_category_branch(inv_cat_bids, root_category[\"title\"], map_categories, map_cat_name2id))\n",
    "        # business_ids = set(root_category[\"businesses\"])\n",
    "        print(f\"\"\"Filter category {root_category[\"title\"]} [{root_category[\"alias\"]}] with {len(set(business_ids))} businesses ...\"\"\")\n",
    "        df_root_cat = filter_by_businesses(df, business_ids)\n",
    "\n",
    "        # df_root_cat = get_reviews_for_category(df, cat_name, inv_cat_bids, map_categories, map_cat_name2id)\n",
    "\n",
    "        df_root_cat.to_pickle(str(fn_yelp_cached_root_cat_df))\n",
    "        \n",
    "        \n",
    "def load_cached_root_category_businesses_df(category_label, map_categories):\n",
    "    root_categories = get_root_category_items(map_categories)\n",
    "    root_categories = sorted(root_categories, key=lambda x: x[\"title\"])\n",
    "\n",
    "    for root_category in root_categories:\n",
    "        if root_category[\"title\"] == category_label:\n",
    "            category_id = root_category[\"alias\"]\n",
    "            break\n",
    "    else:\n",
    "        print(f\"No cached root category businesses found for: {category_label}\")\n",
    "        return None\n",
    "\n",
    "    fn_yelp_cached_root_cat_df = dn_yelp_cached / f\"{category_id}_businesses.df.p\"\n",
    "    if not fn_yelp_cached_root_cat_df.exists():\n",
    "        return None\n",
    "    \n",
    "    df_root_cat = pd.read_pickle(str(fn_yelp_cached_root_cat_df))\n",
    "    return df_root_cat"
   ]
  },
  {
   "cell_type": "markdown",
   "metadata": {},
   "source": [
    "##### Filter other category businesses"
   ]
  },
  {
   "cell_type": "code",
   "execution_count": 18,
   "metadata": {
    "ExecuteTime": {
     "end_time": "2020-05-11T09:08:39.271752Z",
     "start_time": "2020-05-11T09:08:39.265603Z"
    },
    "code_folding": [
     0
    ],
    "jupyter": {
     "source_hidden": true
    }
   },
   "outputs": [],
   "source": [
    "def filter_root_category_businesses_uniq(category_label, inv_cat_bids, map_categories, map_cat_name2id):\n",
    "    df_root_cat = load_cached_root_category_businesses_df(category_label, map_categories)\n",
    "    \n",
    "    root_categories = get_root_category_items(map_categories)\n",
    "    # root_categories = sorted(root_categories, key=lambda x: len(x[\"businesses\"]), reverse=False)\n",
    "    \n",
    "    for root_category in root_categories:\n",
    "        if root_category[\"title\"] == category_label:\n",
    "            # skip, do not trim self\n",
    "            continue\n",
    "            \n",
    "        business_ids = set(get_businesses_in_category_branch(inv_cat_bids, root_category[\"title\"], map_categories, map_cat_name2id))\n",
    "        # business_ids = set(root_category[\"businesses\"])\n",
    "        print(f\"\"\"Filter businesses from category {root_category[\"title\"]} [{root_category[\"alias\"]}] ({len(business_ids)} businesses) ...\"\"\")\n",
    "        n_before = len(df_root_cat)\n",
    "        df_root_cat = filter_by_businesses_not_same(df_root_cat, business_ids)\n",
    "        n_after = len(df_root_cat)\n",
    "        print(f\"\"\"Filtered {n_before - n_after} businesses (overlap with {root_category[\"title\"]})\"\"\")\n",
    "        \n",
    "    return df_root_cat"
   ]
  },
  {
   "cell_type": "code",
   "execution_count": 19,
   "metadata": {
    "ExecuteTime": {
     "end_time": "2020-05-11T09:08:39.485005Z",
     "start_time": "2020-05-11T09:08:39.475677Z"
    },
    "code_folding": [
     0
    ],
    "jupyter": {
     "source_hidden": true
    }
   },
   "outputs": [],
   "source": [
    "def filter_root_category_businesses_not_other(category_label, category_label_filter, inv_cat_bids, map_categories, map_cat_name2id):\n",
    "    assert category_label != category_label_filter, \"do not filter on self\"\n",
    "\n",
    "    df_root_cat = load_cached_root_category_businesses_df(category_label, map_categories)\n",
    "    \n",
    "    root_categories = get_root_category_items(map_categories)\n",
    "    # root_categories = sorted(root_categories, key=lambda x: len(x[\"businesses\"]), reverse=True)\n",
    "    \n",
    "    for root_category in root_categories:\n",
    "        if root_category[\"title\"] == category_label_filter:\n",
    "            break\n",
    "    else:\n",
    "        print(f\"No businesses found for {category_label_filter} -> return unchanged\")\n",
    "        return df_root_cat\n",
    "    \n",
    "    business_ids = set(get_businesses_in_category_branch(inv_cat_bids, root_category[\"title\"], map_categories, map_cat_name2id))\n",
    "    # businesses_ids = root_category[\"businesses\"]\n",
    "    print(f\"\"\"Filter businesses from category {root_category[\"title\"]} [{root_category[\"alias\"]}] ({len(set(business_ids))} businesses) ...\"\"\")\n",
    "    n_before = len(df_root_cat)\n",
    "    df_root_cat = filter_by_businesses_not_same(df_root_cat, business_ids)\n",
    "    n_after = len(df_root_cat)\n",
    "    print(f\"\"\"Filtered {n_before - n_after} businesses (overlap with {root_category[\"title\"]})\"\"\")\n",
    "    \n",
    "    return df_root_cat"
   ]
  },
  {
   "cell_type": "code",
   "execution_count": 20,
   "metadata": {
    "ExecuteTime": {
     "end_time": "2020-05-11T09:08:39.825715Z",
     "start_time": "2020-05-11T09:08:39.816103Z"
    },
    "code_folding": [
     0
    ],
    "jupyter": {
     "source_hidden": true
    }
   },
   "outputs": [],
   "source": [
    "def filter_root_category_businesses_same_other(category_label, category_label_filter, inv_cat_bids, map_categories, map_cat_name2id):\n",
    "    assert category_label != category_label_filter, \"do not filter on self\"\n",
    "\n",
    "    df_root_cat = load_cached_root_category_businesses_df(category_label, map_categories)\n",
    "    \n",
    "    root_categories = get_root_category_items(map_categories)\n",
    "    # root_categories = sorted(root_categories, key=lambda x: len(x[\"businesses\"]), reverse=True)\n",
    "    \n",
    "    for root_category in root_categories:\n",
    "        if root_category[\"title\"] == category_label_filter:\n",
    "            break\n",
    "    else:\n",
    "        print(f\"No businesses found for {category_label_filter} -> return unchanged\")\n",
    "        return df_root_cat\n",
    "    \n",
    "    business_ids = set(get_businesses_in_category_branch(inv_cat_bids, root_category[\"title\"], map_categories, map_cat_name2id))\n",
    "    # businesses_ids = root_category[\"businesses\"]\n",
    "    print(f\"\"\"Filter businesses from category {root_category[\"title\"]} [{root_category[\"alias\"]}] ({len(set(business_ids))} businesses) ...\"\"\")\n",
    "    n_before = len(df_root_cat)\n",
    "    df_same = filter_by_businesses(df_root_cat, business_ids)\n",
    "    n_after = len(df_same)\n",
    "    print(f\"\"\"Filtered {n_before - n_after} businesses ({n_after} same with {root_category[\"title\"]})\"\"\")\n",
    "    \n",
    "    return df_same"
   ]
  },
  {
   "cell_type": "markdown",
   "metadata": {},
   "source": [
    "---"
   ]
  },
  {
   "cell_type": "markdown",
   "metadata": {},
   "source": [
    "#### Make Pairs"
   ]
  },
  {
   "cell_type": "markdown",
   "metadata": {},
   "source": [
    "**TODO:**\n",
    "\n",
    "- check similar length -- what strategy to use to combine similar length pairs best?\n",
    "- flip sides (arg1 <-> arg2)\n",
    "- make more pairs (?) -- but keep same ratio of same-sentiment vs. not-same-sentiment (different-sentiment) ??\n",
    "- group by categories (topics) -- more explicit training (uniqueness of single arguments / topic structures)\n",
    "- evaluate on same-argument (S3C) - or amazon reviews\n",
    "- compute mean/avg sequence length\n",
    "- fixed layers in fine-tuning\n",
    "- visualization of trained layers and activation for good / bad inputs"
   ]
  },
  {
   "cell_type": "markdown",
   "metadata": {},
   "source": [
    "##### Positive + negative same-sentiment pairs"
   ]
  },
  {
   "cell_type": "code",
   "execution_count": 21,
   "metadata": {
    "ExecuteTime": {
     "end_time": "2020-05-11T09:08:45.642110Z",
     "start_time": "2020-05-11T09:08:45.636780Z"
    },
    "jupyter": {
     "source_hidden": true
    }
   },
   "outputs": [],
   "source": [
    "num_pairs_per_class = 2\n",
    "# N positive + N negative\n",
    "# --> 2N pos+neg (not same-sentiment)\n",
    "\n",
    "# TODO: randomness for positive ss / negative ss - sum is equal / or sum equal compared to not ss"
   ]
  },
  {
   "cell_type": "code",
   "execution_count": 22,
   "metadata": {
    "ExecuteTime": {
     "end_time": "2020-05-11T09:08:46.028447Z",
     "start_time": "2020-05-11T09:08:46.014605Z"
    },
    "code_folding": [
     0
    ],
    "jupyter": {
     "source_hidden": true
    }
   },
   "outputs": [],
   "source": [
    "def make_pairs_good_bad(df, num_pairs_per_class=2):\n",
    "    pairs_good = list()\n",
    "    pairs_bad = list()\n",
    "\n",
    "    for id_, group in tqdm(df.groupby(\"id\")):\n",
    "        grouper = group.groupby(\"goodness\")\n",
    "        reviews_good = grouper.get_group(True)\n",
    "        reviews_bad = grouper.get_group(False)\n",
    "\n",
    "        # TESTING\n",
    "        # print(\"id:\", id_)\n",
    "        # print(\"#good:\", len(reviews_good))\n",
    "        # print(\"#bad:\", len(reviews_bad))\n",
    "        # print(group)\n",
    "        # break\n",
    "\n",
    "        # make pairings -- good ss\n",
    "        rg_idx = reviews_good.index.values\n",
    "        # print(\"pos_idx:\", rg_idx)\n",
    "        rg_idx_sel = np.random.choice(rg_idx, 2 * num_pairs_per_class, replace=False)\n",
    "        for id1, id2 in zip(rg_idx_sel[::2], rg_idx_sel[1::2]):\n",
    "            # print(\"pair:\", id1, id2)\n",
    "            r1, r2 = df.loc[id1], df.loc[id2]\n",
    "            pair = {\n",
    "                \"argument1\": r1[\"text\"], \"argument2\": r2[\"text\"],\n",
    "                \"argument1_id\": f\"\"\"{r1[\"id\"]}|{r1[\"rid\"]}\"\"\", \"argument2_id\": f\"\"\"{r2[\"id\"]}|{r2[\"rid\"]}\"\"\",\n",
    "                \"is_same_side\": True, \"is_good_side\": True,\n",
    "                \"topic\": inv_bid_cats.get(r1[\"id\"], None)\n",
    "            }\n",
    "            # print(pair)\n",
    "            pairs_good.append(pair)\n",
    "\n",
    "        # make pairings -- bad ss\n",
    "        rb_idx = reviews_bad.index.values\n",
    "        # print(\"neg_idx:\", rb_idx)\n",
    "        rb_idx_sel = np.random.choice(rb_idx, 2 * num_pairs_per_class, replace=False)\n",
    "        for id1, id2 in zip(rb_idx_sel[::2], rb_idx_sel[1::2]):\n",
    "            r1, r2 = df.loc[id1], df.loc[id2]\n",
    "            pair = {\n",
    "                \"argument1\": r1[\"text\"], \"argument2\": r2[\"text\"],\n",
    "                \"argument1_id\": f\"\"\"{r1[\"id\"]}|{r1[\"rid\"]}\"\"\", \"argument2_id\": f\"\"\"{r2[\"id\"]}|{r2[\"rid\"]}\"\"\",\n",
    "                \"is_same_side\": True, \"is_good_side\": False,\n",
    "                \"topic\": inv_bid_cats.get(r1[\"id\"], None)\n",
    "            }\n",
    "            pairs_bad.append(pair)\n",
    "\n",
    "        # break\n",
    "        \n",
    "    return pairs_good, pairs_bad"
   ]
  },
  {
   "cell_type": "markdown",
   "metadata": {},
   "source": [
    "##### not same-sentiment pairs (combinations positive + negative)"
   ]
  },
  {
   "cell_type": "code",
   "execution_count": 23,
   "metadata": {
    "ExecuteTime": {
     "end_time": "2020-05-11T09:08:51.221845Z",
     "start_time": "2020-05-11T09:08:51.216721Z"
    },
    "code_folding": [],
    "jupyter": {
     "source_hidden": true
    }
   },
   "outputs": [],
   "source": [
    "#: number of negative same-sentiment samples same as positive same-sentiment samples\n",
    "num_pairs_negative = 2 * num_pairs_per_class\n",
    "\n",
    "#: whether for a single side (good or bad) there can be multiple occurrences of the same review\n",
    "#: may need to check afterwared that not by chance same pairing happens ...\n",
    "repeatable_on_side = False"
   ]
  },
  {
   "cell_type": "code",
   "execution_count": 24,
   "metadata": {
    "ExecuteTime": {
     "end_time": "2020-05-11T09:08:51.590133Z",
     "start_time": "2020-05-11T09:08:51.576393Z"
    },
    "code_folding": [
     0
    ],
    "jupyter": {
     "source_hidden": true
    }
   },
   "outputs": [],
   "source": [
    "def make_pairs_negative(df, num_pairs_negative, repeatable_on_side=False):\n",
    "    pairs_not_ss = list()\n",
    "\n",
    "    for id_, group in tqdm(df.groupby(\"id\")):\n",
    "        grouper = group.groupby(\"goodness\")\n",
    "        reviews_good = grouper.get_group(True)\n",
    "        reviews_bad = grouper.get_group(False)\n",
    "\n",
    "        # find indices for reviews per business\n",
    "        rg_idx = reviews_good.index.values\n",
    "        rb_idx = reviews_bad.index.values\n",
    "\n",
    "        # randomly select from each side\n",
    "        rg_idx_sel = np.random.choice(rg_idx, num_pairs_negative, replace=repeatable_on_side)\n",
    "        rb_idx_sel = np.random.choice(rb_idx, num_pairs_negative, replace=repeatable_on_side)\n",
    "\n",
    "        # pair them together -- good-bad pairs\n",
    "        for idg, idb in zip(rg_idx_sel[::2], rb_idx_sel[::2]):\n",
    "            rg, rb = df.loc[idg], df.loc[idb]\n",
    "            pair = {\n",
    "                \"argument1\": rg[\"text\"], \"argument2\": rb[\"text\"],\n",
    "                \"argument1_id\": f\"\"\"{rg[\"id\"]}|{rg[\"rid\"]}\"\"\", \"argument2_id\": f\"\"\"{rb[\"id\"]}|{rb[\"rid\"]}\"\"\",\n",
    "                \"is_same_side\": False, \"is_good_side\": None,\n",
    "                \"topic\": inv_bid_cats.get(rg[\"id\"], None)\n",
    "            }\n",
    "            # print(pair)\n",
    "            pairs_not_ss.append(pair)\n",
    "\n",
    "        # bad-good pairs\n",
    "        for idb, idg in zip(rb_idx_sel[1::2], rg_idx_sel[1::2]):\n",
    "            rb, rg = df.loc[idb], df.loc[idg]\n",
    "            pair = {\n",
    "                \"argument1\": rb[\"text\"], \"argument2\": rg[\"text\"],\n",
    "                \"argument1_id\": f\"\"\"{rb[\"id\"]}|{rb[\"rid\"]}\"\"\", \"argument2_id\": f\"\"\"{rg[\"id\"]}|{rg[\"rid\"]}\"\"\",\n",
    "                \"is_same_side\": False, \"is_good_side\": None,\n",
    "                \"topic\": inv_bid_cats.get(rb[\"id\"], None)\n",
    "            }\n",
    "            # print(pair)\n",
    "            pairs_not_ss.append(pair)\n",
    "            \n",
    "    return pairs_not_ss"
   ]
  },
  {
   "cell_type": "markdown",
   "metadata": {},
   "source": [
    "##### dataframe for training etc."
   ]
  },
  {
   "cell_type": "code",
   "execution_count": 25,
   "metadata": {
    "ExecuteTime": {
     "end_time": "2020-05-11T09:08:55.780683Z",
     "start_time": "2020-05-11T09:08:55.773543Z"
    },
    "code_folding": [
     0
    ],
    "jupyter": {
     "source_hidden": true
    }
   },
   "outputs": [],
   "source": [
    "def make_or_load_pairs(df, fn_yelp_df, num_pairs_per_class=2):\n",
    "    if fn_yelp_df is not None:\n",
    "        if os.path.exists(fn_yelp_df):\n",
    "            with open(fn_yelp_df, \"rb\") as fp:\n",
    "                all_df = pickle.load(fp)\n",
    "            return all_df\n",
    "    \n",
    "    pairs_good, pairs_bad = make_pairs_good_bad(df, num_pairs_per_class=2)\n",
    "    print(\"#ss (pos)\", len(pairs_good))\n",
    "    print(\"#ss (neg)\", len(pairs_bad))\n",
    "    \n",
    "    num_pairs_negative = 2 * num_pairs_per_class\n",
    "    pairs_not_ss = make_pairs_negative(df, num_pairs_negative, repeatable_on_side=False)\n",
    "    print(\"#nss\", len(pairs_not_ss))\n",
    "    \n",
    "    pairs_all = pairs_good + pairs_bad + pairs_not_ss\n",
    "    print(\"#~ss\", len(pairs_all))\n",
    "    \n",
    "    np.random.shuffle(pairs_all)\n",
    "    df_traindev = pd.DataFrame.from_dict(pairs_all)\n",
    "    \n",
    "    if fn_yelp_df is not None:\n",
    "        with open(fn_yelp_df, \"wb\") as fp:\n",
    "            pickle.dump(df_traindev, fp, protocol=pickle.HIGHEST_PROTOCOL)\n",
    "        \n",
    "    return df_traindev"
   ]
  },
  {
   "cell_type": "markdown",
   "metadata": {},
   "source": [
    "---"
   ]
  },
  {
   "cell_type": "markdown",
   "metadata": {},
   "source": [
    "---"
   ]
  },
  {
   "cell_type": "markdown",
   "metadata": {},
   "source": [
    "---"
   ]
  },
  {
   "cell_type": "markdown",
   "metadata": {},
   "source": [
    "## Load reviews and topics and category tree"
   ]
  },
  {
   "cell_type": "markdown",
   "metadata": {},
   "source": [
    "#### Load reviews\n",
    "\n",
    "- review (with business reference)"
   ]
  },
  {
   "cell_type": "code",
   "execution_count": 28,
   "metadata": {
    "ExecuteTime": {
     "end_time": "2020-05-11T09:11:08.684387Z",
     "start_time": "2020-05-11T09:09:18.683949Z"
    }
   },
   "outputs": [
    {
     "name": "stderr",
     "output_type": "stream",
     "text": [
      "6685900it [01:32, 72147.57it/s] \n"
     ]
    }
   ],
   "source": [
    "fn_yelp_reviews = data_yelp_path / \"review.json\"\n",
    "df = load_reviews(fn_yelp_reviews)"
   ]
  },
  {
   "cell_type": "markdown",
   "metadata": {},
   "source": [
    "#### Load categories for businesses\n",
    "\n",
    "- business (id) with list of topics/categories\n",
    "- lookups (business -> categories, category -> businesses)\n",
    "- list of combinations (with amount)"
   ]
  },
  {
   "cell_type": "code",
   "execution_count": 26,
   "metadata": {
    "ExecuteTime": {
     "end_time": "2020-05-11T09:09:12.583994Z",
     "start_time": "2020-05-11T09:09:07.362400Z"
    }
   },
   "outputs": [
    {
     "name": "stderr",
     "output_type": "stream",
     "text": [
      "192609it [00:04, 46635.19it/s]\n",
      "100%|██████████| 192127/192127 [00:00<00:00, 804171.19it/s]\n",
      "100%|██████████| 192127/192127 [00:00<00:00, 291367.35it/s]\n"
     ]
    }
   ],
   "source": [
    "fn_yelp_topics = data_yelp_path / \"business.json\"\n",
    "bids_not_cats = set()\n",
    "inv_bid_cats = load_topics(fn_yelp_topics, bids_not_cats=bids_not_cats)\n",
    "\n",
    "inv_cat_bids = make_map_cats(inv_bid_cats)\n",
    "\n",
    "inv_cat_combis = make_cat_combis(inv_bid_cats)"
   ]
  },
  {
   "cell_type": "markdown",
   "metadata": {},
   "source": [
    "#### Load category tree\n",
    "\n",
    "- hierarchy of categories"
   ]
  },
  {
   "cell_type": "code",
   "execution_count": 27,
   "metadata": {
    "ExecuteTime": {
     "end_time": "2020-05-11T09:09:13.243591Z",
     "start_time": "2020-05-11T09:09:13.236326Z"
    }
   },
   "outputs": [],
   "source": [
    "fn_yelp_catgory_tree = data_yelp_path / \"all_category_list.json\"\n",
    "map_categories, map_cat_name2id, lst_root_categories = load_category_tree(fn_yelp_catgory_tree)"
   ]
  },
  {
   "cell_type": "markdown",
   "metadata": {},
   "source": [
    "#### Pre-Cache all root category businesses (reviews)"
   ]
  },
  {
   "cell_type": "code",
   "execution_count": 29,
   "metadata": {
    "ExecuteTime": {
     "end_time": "2020-05-11T09:12:14.655999Z",
     "start_time": "2020-05-11T09:11:09.458518Z"
    }
   },
   "outputs": [
    {
     "name": "stdout",
     "output_type": "stream",
     "text": [
      "Filter category Active Life [active] with 9521 businesses ...\n",
      "Filter category Arts & Entertainment [arts] with 6304 businesses ...\n",
      "Filter category Automotive [auto] with 13203 businesses ...\n",
      "Filter category Beauty & Spas [beautysvc] with 19370 businesses ...\n",
      "Filter category Bicycles [bicycles] with 9 businesses ...\n",
      "Filter category Education [education] with 3314 businesses ...\n",
      "Filter category Event Planning & Services [eventservices] with 10371 businesses ...\n",
      "Filter category Financial Services [financialservices] with 3082 businesses ...\n",
      "Filter category Food [food] with 29989 businesses ...\n",
      "Filter category Health & Medical [health] with 17171 businesses ...\n",
      "Filter category Home Services [homeservices] with 19744 businesses ...\n",
      "Filter category Hotels & Travel [hotelstravel] with 6033 businesses ...\n",
      "Filter category Local Flavor [localflavor] with 1444 businesses ...\n",
      "Filter category Local Services [localservices] with 13932 businesses ...\n",
      "Filter category Mass Media [massmedia] with 319 businesses ...\n",
      "Filter category Nightlife [nightlife] with 13095 businesses ...\n",
      "Filter category Pets [pets] with 4111 businesses ...\n",
      "Filter category Professional Services [professional] with 6276 businesses ...\n",
      "Filter category Public Services & Government [publicservicesgovt] with 1343 businesses ...\n",
      "Filter category Religious Organizations [religiousorgs] with 547 businesses ...\n",
      "Filter category Restaurants [restaurants] with 59371 businesses ...\n",
      "Filter category Shopping [shopping] with 31878 businesses ...\n"
     ]
    }
   ],
   "source": [
    "cache_root_category_businesses_df(df, inv_cat_bids, map_categories, map_cat_name2id)"
   ]
  },
  {
   "cell_type": "markdown",
   "metadata": {},
   "source": [
    "---"
   ]
  },
  {
   "cell_type": "markdown",
   "metadata": {},
   "source": [
    "---"
   ]
  },
  {
   "cell_type": "markdown",
   "metadata": {},
   "source": [
    "---"
   ]
  },
  {
   "cell_type": "markdown",
   "metadata": {},
   "source": [
    "## Experiment"
   ]
  },
  {
   "cell_type": "markdown",
   "metadata": {},
   "source": [
    "#### Print category trees"
   ]
  },
  {
   "cell_type": "code",
   "execution_count": null,
   "metadata": {},
   "outputs": [],
   "source": [
    "print_category_tree(map_categories)"
   ]
  },
  {
   "cell_type": "code",
   "execution_count": null,
   "metadata": {},
   "outputs": [],
   "source": [
    "print_category_tree_with_num_businesses(map_categories, inv_cat_bids)"
   ]
  },
  {
   "cell_type": "code",
   "execution_count": null,
   "metadata": {},
   "outputs": [],
   "source": [
    "print_category_tree_with_num_businesses_rec(map_categories, inv_cat_bids, map_cat_name2id)"
   ]
  },
  {
   "cell_type": "code",
   "execution_count": 30,
   "metadata": {
    "ExecuteTime": {
     "end_time": "2020-05-11T09:12:15.947677Z",
     "start_time": "2020-05-11T09:12:15.558730Z"
    }
   },
   "outputs": [
    {
     "name": "stdout",
     "output_type": "stream",
     "text": [
      "Active Life [active] . . . . . . . . . . . . . . .  9521 businesses\n",
      "Arts & Entertainment [arts]  . . . . . . . . . . .  6304 businesses\n",
      "Automotive [auto]  . . . . . . . . . . . . . . . . 13203 businesses\n",
      "Beauty & Spas [beautysvc]  . . . . . . . . . . . . 19370 businesses\n",
      "Bicycles [bicycles]  . . . . . . . . . . . . . . .     9 businesses\n",
      "Education [education]  . . . . . . . . . . . . . .  3314 businesses\n",
      "Event Planning & Services [eventservices]  . . . . 10371 businesses\n",
      "Financial Services [financialservices] . . . . . .  3082 businesses\n",
      "Food [food]  . . . . . . . . . . . . . . . . . . . 29989 businesses\n",
      "Health & Medical [health]  . . . . . . . . . . . . 17171 businesses\n",
      "Home Services [homeservices] . . . . . . . . . . . 19744 businesses (self: 19729)\n",
      "Hotels & Travel [hotelstravel] . . . . . . . . . .  6033 businesses\n",
      "Local Flavor [localflavor] . . . . . . . . . . . .  1444 businesses\n",
      "Local Services [localservices] . . . . . . . . . . 13932 businesses\n",
      "Mass Media [massmedia] . . . . . . . . . . . . . .   319 businesses\n",
      "Nightlife [nightlife]  . . . . . . . . . . . . . . 13095 businesses\n",
      "Pets [pets]  . . . . . . . . . . . . . . . . . . .  4111 businesses\n",
      "Professional Services [professional] . . . . . . .  6276 businesses\n",
      "Public Services & Government [publicservicesgovt]   1343 businesses\n",
      "Religious Organizations [religiousorgs]  . . . . .   547 businesses\n",
      "Restaurants [restaurants]  . . . . . . . . . . . . 59371 businesses\n",
      "Shopping [shopping]  . . . . . . . . . . . . . . . 31878 businesses\n"
     ]
    }
   ],
   "source": [
    "print_category_tree_with_num_businesses_root(map_categories, inv_cat_bids, map_cat_name2id)"
   ]
  },
  {
   "cell_type": "code",
   "execution_count": 31,
   "metadata": {
    "ExecuteTime": {
     "end_time": "2020-05-11T09:22:39.559828Z",
     "start_time": "2020-05-11T09:22:39.021217Z"
    }
   },
   "outputs": [
    {
     "name": "stdout",
     "output_type": "stream",
     "text": [
      "Bicycles [bicycles]  . . . . . . . . . . . . . . .     9 businesses\n",
      "Mass Media [massmedia] . . . . . . . . . . . . . .   319 businesses\n",
      "Religious Organizations [religiousorgs]  . . . . .   547 businesses\n",
      "Public Services & Government [publicservicesgovt]   1343 businesses\n",
      "Local Flavor [localflavor] . . . . . . . . . . . .  1444 businesses\n",
      "Financial Services [financialservices] . . . . . .  3082 businesses\n",
      "Education [education]  . . . . . . . . . . . . . .  3314 businesses\n",
      "Pets [pets]  . . . . . . . . . . . . . . . . . . .  4111 businesses\n",
      "Hotels & Travel [hotelstravel] . . . . . . . . . .  6033 businesses\n",
      "Professional Services [professional] . . . . . . .  6276 businesses\n",
      "Arts & Entertainment [arts]  . . . . . . . . . . .  6304 businesses\n",
      "Active Life [active] . . . . . . . . . . . . . . .  9521 businesses\n",
      "Event Planning & Services [eventservices]  . . . . 10371 businesses\n",
      "Nightlife [nightlife]  . . . . . . . . . . . . . . 13095 businesses\n",
      "Automotive [auto]  . . . . . . . . . . . . . . . . 13203 businesses\n",
      "Local Services [localservices] . . . . . . . . . . 13932 businesses\n",
      "Health & Medical [health]  . . . . . . . . . . . . 17171 businesses\n",
      "Beauty & Spas [beautysvc]  . . . . . . . . . . . . 19370 businesses\n",
      "Home Services [homeservices] . . . . . . . . . . . 19744 businesses (self: 19729)\n",
      "Food [food]  . . . . . . . . . . . . . . . . . . . 29989 businesses\n",
      "Shopping [shopping]  . . . . . . . . . . . . . . . 31878 businesses\n",
      "Restaurants [restaurants]  . . . . . . . . . . . . 59371 businesses\n"
     ]
    }
   ],
   "source": [
    "print_category_tree_with_num_businesses_root2(map_categories, inv_cat_bids, map_cat_name2id)"
   ]
  },
  {
   "cell_type": "code",
   "execution_count": null,
   "metadata": {},
   "outputs": [],
   "source": [
    "### TEST ###\n",
    "# because ``inv_cat_bids`` contained duplicate ids!\n",
    "businesses = inv_cat_bids[\"Food\"]\n",
    "print(f\"\"\"Food: {len(businesses)}, {len(set(businesses))}\"\"\")\n",
    "\n",
    "businesses_cnt = Counter(businesses)\n",
    "businesses_cnt.most_common(10)\n",
    "\n",
    "# inv_bid_cats[\"UupxKYWMnE6uq_eELO4CBQ\"]\n",
    "# [(c, [bi for bi in b if bi == \"UupxKYWMnE6uq_eELO4CBQ\"]) for c, b in inv_cat_bids.items() if \"UupxKYWMnE6uq_eELO4CBQ\" in b]"
   ]
  },
  {
   "cell_type": "markdown",
   "metadata": {},
   "source": [
    "##### Overlap of businesses (ids) for two categories"
   ]
  },
  {
   "cell_type": "code",
   "execution_count": null,
   "metadata": {},
   "outputs": [],
   "source": [
    "businesses_food = get_businesses_in_category_branch(inv_cat_bids, \"Food\", map_categories, map_cat_name2id)\n",
    "businesses_restaurants = get_businesses_in_category_branch(inv_cat_bids, \"Restaurants\", map_categories, map_cat_name2id)\n",
    "\n",
    "print(f\"\"\"Food:        {len(set(businesses_food)):>5d}\"\"\")\n",
    "print(f\"\"\"Restaurants: {len(set(businesses_restaurants)):>5d}\"\"\")\n",
    "print(f\"\"\"Both:  same: {len(set(businesses_food) & set(businesses_restaurants)):>5d}\"\"\")\n",
    "print(f\"\"\"      total: {len(set(businesses_food) | set(businesses_restaurants)):>5d}\"\"\")\n",
    "print()\n",
    "\n",
    "print_2category_compare(inv_cat_bids, map_categories, map_cat_name2id, \"Food\", \"Restaurants\")"
   ]
  },
  {
   "cell_type": "code",
   "execution_count": null,
   "metadata": {},
   "outputs": [],
   "source": [
    "root_categories = get_root_category_items(map_categories)"
   ]
  },
  {
   "cell_type": "markdown",
   "metadata": {},
   "source": [
    "#### Category overlap heatmap"
   ]
  },
  {
   "cell_type": "code",
   "execution_count": 56,
   "metadata": {
    "ExecuteTime": {
     "end_time": "2020-05-11T15:03:55.947893Z",
     "start_time": "2020-05-11T15:03:40.648145Z"
    }
   },
   "outputs": [],
   "source": [
    "category_overlap_array, root_category_labels, df_cm = make_NxN_category_businesses_overlap(inv_cat_bids, map_categories, map_cat_name2id)"
   ]
  },
  {
   "cell_type": "code",
   "execution_count": null,
   "metadata": {
    "jupyter": {
     "outputs_hidden": true
    }
   },
   "outputs": [],
   "source": [
    "plt.figure(figsize = (10, 7))\n",
    "sn.set(font_scale=0.7) # for label size\n",
    "sn.heatmap(df_cm, annot=False, annot_kws={\"size\": 10}, cmap=sn.color_palette(\"binary\", 10)) # font size\n",
    "plt.show()"
   ]
  },
  {
   "cell_type": "code",
   "execution_count": 57,
   "metadata": {
    "ExecuteTime": {
     "end_time": "2020-05-11T15:03:59.384524Z",
     "start_time": "2020-05-11T15:03:58.833476Z"
    }
   },
   "outputs": [
    {
     "data": {
      "image/png": "[encoded data removed]",
      "text/plain": [
       "<Figure size 720x504 with 2 Axes>"
      ]
     },
     "metadata": {
      "needs_background": "light"
     },
     "output_type": "display_data"
    }
   ],
   "source": [
    "plt.figure(figsize = (10, 7))\n",
    "sn.set(font_scale=0.7) # for label size\n",
    "sn.heatmap(df_cm, annot=False, annot_kws={\"size\": 10}, cmap=sn.color_palette(\"binary\", 50)) # font size\n",
    "plt.show()"
   ]
  },
  {
   "cell_type": "code",
   "execution_count": 58,
   "metadata": {
    "ExecuteTime": {
     "end_time": "2020-05-11T15:04:03.617873Z",
     "start_time": "2020-05-11T15:04:02.704827Z"
    }
   },
   "outputs": [
    {
     "data": {
      "text/plain": [
       "<seaborn.matrix.ClusterGrid at 0x7f48fcb74a90>"
      ]
     },
     "execution_count": 58,
     "metadata": {},
     "output_type": "execute_result"
    },
    {
     "data": {
      "text/plain": [
       "<Figure size 1152x1152 with 0 Axes>"
      ]
     },
     "metadata": {},
     "output_type": "display_data"
    },
    {
     "data": {
      "image/png": "[encoded data removed]",
      "text/plain": [
       "<Figure size 720x720 with 4 Axes>"
      ]
     },
     "metadata": {},
     "output_type": "display_data"
    }
   ],
   "source": [
    "plt.figure(figsize = (16, 16))\n",
    "sn.set(font_scale=0.7) # for label size\n",
    "# pal = sn.dark_palette(\"palegreen\", as_cmap=True, reverse=True)\n",
    "pal = sn.color_palette(\"binary\", 50)  # PuBu - BuGn - RdPu - Greys\n",
    "sn.clustermap(df_cm, annot_kws={\"size\": 5}, cmap=pal)  # cmap=\"vlag\") # plt.cm.Blues)"
   ]
  },
  {
   "cell_type": "code",
   "execution_count": 59,
   "metadata": {
    "ExecuteTime": {
     "end_time": "2020-05-11T15:04:07.148053Z",
     "start_time": "2020-05-11T15:04:06.565931Z"
    }
   },
   "outputs": [
    {
     "data": {
      "image/png": "[encoded data removed]",
      "text/plain": [
       "<Figure size 432x288 with 1 Axes>"
      ]
     },
     "metadata": {},
     "output_type": "display_data"
    }
   ],
   "source": [
    "Z = hierarchy.linkage(df_cm, \"ward\")\n",
    "#hierarchy.set_link_color_palette(['#b30000','#996600', '#b30086'])\n",
    "R = hierarchy.dendrogram(Z, leaf_rotation=90, leaf_font_size=8, labels=df_cm.index)"
   ]
  },
  {
   "cell_type": "markdown",
   "metadata": {},
   "source": [
    "---"
   ]
  },
  {
   "cell_type": "markdown",
   "metadata": {},
   "source": [
    "##### Test filter : load single and filter others"
   ]
  },
  {
   "cell_type": "code",
   "execution_count": null,
   "metadata": {},
   "outputs": [],
   "source": [
    "df_food = load_cached_root_category_businesses_df(\"Food\", map_categories)\n",
    "# df_food = get_reviews_for_category(df, \"Food\", inv_cat_bids, map_categories, map_cat_name2id)\n",
    "\n",
    "df_uniq_food = filter_root_category_businesses_uniq(\"Food\", inv_cat_bids, map_categories, map_cat_name2id)\n",
    "\n",
    "len(df), len(df_food), len(df_uniq_food)"
   ]
  },
  {
   "cell_type": "markdown",
   "metadata": {},
   "source": [
    "---"
   ]
  },
  {
   "cell_type": "code",
   "execution_count": null,
   "metadata": {},
   "outputs": [],
   "source": [
    "cat_name = \"Food\"\n",
    "# cat_name = \"Public Services & Government\"\n",
    "\n",
    "df_food = get_reviews_for_category(df, cat_name, inv_cat_bids, map_categories, map_cat_name2id)"
   ]
  },
  {
   "cell_type": "code",
   "execution_count": null,
   "metadata": {},
   "outputs": [],
   "source": [
    "# min ratings per class (good|bad)\n",
    "min_ratings = 5\n",
    "\n",
    "df_food = filter_min_review_freq(df_food, min_ratings=5)"
   ]
  },
  {
   "cell_type": "code",
   "execution_count": null,
   "metadata": {},
   "outputs": [],
   "source": [
    "tok = Tokenizer()\n",
    "\n",
    "def tokenize_text(row):\n",
    "    row[\"text_tok\"] = [str(tok) for tok in tok.tokenize(row[\"text\"])]\n",
    "    return row\n",
    "\n",
    "df_food = df_food.progress_apply(tokenize_text, axis=1)"
   ]
  },
  {
   "cell_type": "code",
   "execution_count": null,
   "metadata": {},
   "outputs": [],
   "source": [
    "def count_words(row):\n",
    "    row[\"num_words\"] = len(row[\"text_tok\"])\n",
    "    return row\n",
    "\n",
    "df_food = df_food.progress_apply(count_words, axis=1)"
   ]
  },
  {
   "cell_type": "code",
   "execution_count": null,
   "metadata": {},
   "outputs": [],
   "source": [
    "df_food.info()"
   ]
  },
  {
   "cell_type": "code",
   "execution_count": null,
   "metadata": {},
   "outputs": [],
   "source": [
    "df_food.describe()"
   ]
  },
  {
   "cell_type": "code",
   "execution_count": null,
   "metadata": {},
   "outputs": [],
   "source": [
    "df_food[\"num_words\"].mean()"
   ]
  },
  {
   "cell_type": "code",
   "execution_count": null,
   "metadata": {},
   "outputs": [],
   "source": [
    "cat_name, df_food[\"num_words\"].mean()"
   ]
  },
  {
   "cell_type": "code",
   "execution_count": null,
   "metadata": {},
   "outputs": [],
   "source": []
  },
  {
   "cell_type": "code",
   "execution_count": null,
   "metadata": {},
   "outputs": [],
   "source": [
    "root_category_labels"
   ]
  },
  {
   "cell_type": "code",
   "execution_count": null,
   "metadata": {
    "jupyter": {
     "source_hidden": true
    }
   },
   "outputs": [],
   "source": [
    "df_roots = list()\n",
    "\n",
    "tok = Tokenizer()\n",
    "\n",
    "def tokenize_text(row):\n",
    "    row[\"text_tok\"] = [str(tok) for tok in tok.tokenize(row[\"text\"])]\n",
    "    return row\n",
    "\n",
    "def count_words(row):\n",
    "    row[\"num_words\"] = len(row[\"text_tok\"])\n",
    "    return row\n",
    "\n",
    "for root_category_label in root_category_labels:\n",
    "    df_rootcat = get_reviews_for_category(df, root_category_label, inv_cat_bids, map_categories, map_cat_name2id)\n",
    "    \n",
    "    df_rootcat = filter_min_review_freq(df_rootcat, min_ratings=5)\n",
    "\n",
    "    df_rootcat = df_rootcat.progress_apply(tokenize_text, axis=1)\n",
    "    \n",
    "    df_rootcat = df_rootcat.progress_apply(count_words, axis=1)\n",
    "    \n",
    "    # df_roots.append(df_rootcat)\n",
    "    print(f\"\"\"{root_category_label}: {df_rootcat[\"num_words\"].mean()}\"\"\")"
   ]
  },
  {
   "cell_type": "code",
   "execution_count": null,
   "metadata": {},
   "outputs": [],
   "source": [
    "for root_category_label, df_rootcat in zip(root_category_labels, df_roots):\n",
    "    print(f\"\"\"{root_category_label}: {df_rootcat[\"num_words\"].mean()}\"\"\")"
   ]
  },
  {
   "cell_type": "code",
   "execution_count": null,
   "metadata": {},
   "outputs": [],
   "source": [
    "import pickle\n",
    "\n",
    "fn_root_cat_reviews = data_yelp_path / \"df_root_cat_reviews.p\"\n",
    "\n",
    "with open(fn_root_cat_reviews, \"wb\") as fp:\n",
    "    pickle.dump(root_category_labels, fp, protocol=pickle.HIGHEST_PROTOCOL)\n",
    "    pickle.dump(df_roots, fp, protocol=pickle.HIGHEST_PROTOCOL)"
   ]
  },
  {
   "cell_type": "code",
   "execution_count": null,
   "metadata": {},
   "outputs": [],
   "source": []
  },
  {
   "cell_type": "markdown",
   "metadata": {},
   "source": [
    "---"
   ]
  },
  {
   "cell_type": "markdown",
   "metadata": {},
   "source": [
    "---"
   ]
  },
  {
   "cell_type": "markdown",
   "metadata": {},
   "source": [
    "---"
   ]
  },
  {
   "cell_type": "markdown",
   "metadata": {},
   "source": [
    "### Filter all reviews - can only contain top50 Topics"
   ]
  },
  {
   "cell_type": "code",
   "execution_count": null,
   "metadata": {},
   "outputs": [],
   "source": [
    "f_cats = get_Ntop_cats(inv_cat_bids, n=50)\n",
    "f_inv_bid_cats = load_topics(fn_yelp_topics, bids_not_cats=None, filter_cats=f_cats)\n",
    "f_inv_cat_bids = make_map_cats(f_inv_bid_cats)\n",
    "f_inv_cat_combis = make_cat_combis(f_inv_bid_cats)\n",
    "f_cat_pairs = make_cat_Ntuples(f_inv_cat_combis, n=2)"
   ]
  },
  {
   "cell_type": "markdown",
   "metadata": {},
   "source": [
    "### Filter with minimum number of category combination occurrences"
   ]
  },
  {
   "cell_type": "code",
   "execution_count": null,
   "metadata": {},
   "outputs": [],
   "source": [
    "f_cats = get_Ntop_cats(inv_cat_bids, n=50)\n",
    "# f_cats = None\n",
    "\n",
    "avg_num_of_cat_combis = int(sum(list(f_inv_cat_combis.values())) / len(f_inv_cat_combis))\n",
    "fi_inv_cat_combis = filter_min_cat_combis(inv_cat_combis, min_num=30)\n",
    "\n",
    "f2_inv_bid_cats = load_topics(fn_yelp_topics, bids_not_cats=None, filter_cats=f_cats, filter_cat_combis=fi_inv_cat_combis)\n",
    "\n",
    "f2_inv_cat_bids = make_map_cats(f2_inv_bid_cats)\n",
    "f2_inv_cat_combis = make_cat_combis(f2_inv_bid_cats)\n",
    "f2_cat_pairs = make_cat_Ntuples(f2_inv_cat_combis, n=2)"
   ]
  },
  {
   "cell_type": "markdown",
   "metadata": {},
   "source": [
    "### Make NxN map and heatmap it"
   ]
  },
  {
   "cell_type": "code",
   "execution_count": null,
   "metadata": {},
   "outputs": [],
   "source": [
    "df_cm, cat_array, cat_labels = make_NxN_map(f_cats, f2_cat_pairs)"
   ]
  },
  {
   "cell_type": "markdown",
   "metadata": {},
   "source": [
    "#### Clustering"
   ]
  },
  {
   "cell_type": "code",
   "execution_count": null,
   "metadata": {},
   "outputs": [],
   "source": [
    "plt.figure(figsize = (10, 7))\n",
    "sn.set(font_scale=0.7) # for label size\n",
    "sn.heatmap(df_cm, annot=False, annot_kws={\"size\": 10}) # font size\n",
    "plt.show()"
   ]
  },
  {
   "cell_type": "code",
   "execution_count": null,
   "metadata": {},
   "outputs": [],
   "source": [
    "plt.figure(figsize = (16, 16))\n",
    "sn.set(font_scale=0.7) # for label size\n",
    "# pal = sn.dark_palette(\"palegreen\", as_cmap=True, reverse=True)\n",
    "pal = sn.color_palette(\"binary\", 10)  # PuBu - BuGn - RdPu - Greys\n",
    "sn.clustermap(df_cm, annot_kws={\"size\": 5}, cmap=pal)  # cmap=\"vlag\") # plt.cm.Blues)"
   ]
  },
  {
   "cell_type": "code",
   "execution_count": null,
   "metadata": {},
   "outputs": [],
   "source": [
    "Z = hierarchy.linkage(df_cm, \"ward\")\n",
    "#hierarchy.set_link_color_palette(['#b30000','#996600', '#b30086'])\n",
    "R = hierarchy.dendrogram(Z, leaf_rotation=90, leaf_font_size=8, labels=df_cm.index)"
   ]
  },
  {
   "cell_type": "code",
   "execution_count": null,
   "metadata": {},
   "outputs": [],
   "source": [
    "df_cm2 = ssd.squareform(df_cm)\n",
    "\n",
    "Z = hierarchy.linkage(df_cm2, \"ward\")\n",
    "hierarchy.set_link_color_palette(['#b30000','#996600', '#b30086'])\n",
    "R = hierarchy.dendrogram(Z, leaf_rotation=90, leaf_font_size=8, labels=df_cm.index)"
   ]
  },
  {
   "cell_type": "code",
   "execution_count": null,
   "metadata": {},
   "outputs": [],
   "source": []
  },
  {
   "cell_type": "code",
   "execution_count": null,
   "metadata": {},
   "outputs": [],
   "source": [
    "sc = SpectralClustering(5, affinity='precomputed', n_init=100, assign_labels='discretize')\n",
    "cluster_labels = sc.fit_predict(cat_array)\n",
    "\n",
    "# sorted(list(zip(cat_labels, cluster_labels)), key=lambda x: x[1])\n",
    "\n",
    "groups = list()\n",
    "for g, data in groupby(sorted(list(zip(cat_labels, cluster_labels)), key=lambda x: x[1]), key=lambda x: x[1]):\n",
    "    group = [t for t, _ in data]\n",
    "    groups.append(group)\n",
    "\n",
    "    print(f\"Group {g}:\")\n",
    "    print(\"; \".join(group))\n",
    "    print()"
   ]
  },
  {
   "cell_type": "code",
   "execution_count": null,
   "metadata": {},
   "outputs": [],
   "source": [
    "ac = AgglomerativeClustering(4, affinity='euclidean', linkage='ward')\n",
    "csarr = cosine_similarity(cat_array)\n",
    "cluster_labels = ac.fit_predict(csarr)\n",
    "\n",
    "# sorted(list(zip(labels, cluster_labels)), key=lambda x: x[1])\n",
    "\n",
    "groups = list()\n",
    "for g, data in groupby(sorted(list(zip(cat_labels, cluster_labels)), key=lambda x: x[1]), key=lambda x: x[1]):\n",
    "    group = [t for t, _ in data]\n",
    "    groups.append(group)\n",
    "\n",
    "    print(f\"Group {g}:\")\n",
    "    print(\"; \".join(group))\n",
    "    print()"
   ]
  },
  {
   "cell_type": "code",
   "execution_count": null,
   "metadata": {},
   "outputs": [],
   "source": [
    "# cat_array, \\\n",
    "# linear_kernel(cat_array), \\\n",
    "# cosine_similarity(cat_array), \\\n",
    "# cat_labels"
   ]
  },
  {
   "cell_type": "markdown",
   "metadata": {},
   "source": [
    "### Stats for `cat_labels` in filtered category maps/lists etc."
   ]
  },
  {
   "cell_type": "code",
   "execution_count": null,
   "metadata": {},
   "outputs": [],
   "source": [
    "# number of business ids given a specific category\n",
    "sorted([(c, len(f_inv_cat_bids[c])) for c in cat_labels], key=lambda x: x[1], reverse=True)[:10]"
   ]
  },
  {
   "cell_type": "code",
   "execution_count": null,
   "metadata": {},
   "outputs": [],
   "source": [
    "# number of category combinations given a specific category\n",
    "sorted([(c, len([cc for cc in f_inv_cat_combis.keys() if c in cc])) for c in cat_labels], key=lambda x: x[1], reverse=True)[:10]"
   ]
  },
  {
   "cell_type": "code",
   "execution_count": null,
   "metadata": {},
   "outputs": [],
   "source": [
    "# number of category combinations given a specific category\n",
    "sorted([(c, len([cc for cc in f2_inv_cat_combis.keys() if c in cc])) for c in cat_labels], key=lambda x: x[1], reverse=True)[:10]"
   ]
  },
  {
   "cell_type": "code",
   "execution_count": null,
   "metadata": {},
   "outputs": [],
   "source": [
    "# better with filtering\n",
    "# category pairs for a given category\n",
    "sorted([(c, [cc for cc in f2_cat_pairs.keys() if c in cc]) for c in cat_labels], key=lambda x: len(x[1]), reverse=True)[:5]"
   ]
  },
  {
   "cell_type": "code",
   "execution_count": null,
   "metadata": {},
   "outputs": [],
   "source": [
    "# category pairs for a category:\n",
    "c = \"Food\"\n",
    "\n",
    "print(\"filtered by top50\\n\", [c1 if c1 != c else c2 for c1, c2 in [cc for cc in f_cat_pairs.keys() if c in cc]])\n",
    "print()\n",
    "print(\"filtered by avg amount (+top50)\\n\", [c1 if c1 != c else c2 for c1, c2 in [cc for cc in f2_cat_pairs.keys() if c in cc]])"
   ]
  },
  {
   "cell_type": "code",
   "execution_count": null,
   "metadata": {},
   "outputs": [],
   "source": [
    "f2_inv_cat_combis[(\"Food\",)]  # businesses with only this category ... (filtering should not affect this value)"
   ]
  },
  {
   "cell_type": "code",
   "execution_count": null,
   "metadata": {},
   "outputs": [],
   "source": [
    "f2_inv_cat_combis"
   ]
  },
  {
   "cell_type": "code",
   "execution_count": null,
   "metadata": {},
   "outputs": [],
   "source": [
    "inv_bid_cats = f2_inv_bid_cats\n",
    "inv_cat_bids = f2_inv_cat_bids\n",
    "inv_cat_combis = f2_inv_cat_combis\n",
    "cat_pairs = f2_cat_pairs"
   ]
  },
  {
   "cell_type": "code",
   "execution_count": null,
   "metadata": {},
   "outputs": [],
   "source": [
    "sum([len(b) for a, b in f2_inv_cat_bids.items()])"
   ]
  },
  {
   "cell_type": "code",
   "execution_count": null,
   "metadata": {},
   "outputs": [],
   "source": [
    "inv_bid_cats = load_topics(fn_yelp_topics)\n",
    "sum([len(b) for a, b in inv_cat_bids.items()])"
   ]
  },
  {
   "cell_type": "code",
   "execution_count": null,
   "metadata": {},
   "outputs": [],
   "source": [
    "https://www.yelp.com/developers/documentation/v3/all_category_list"
   ]
  },
  {
   "cell_type": "code",
   "execution_count": null,
   "metadata": {},
   "outputs": [],
   "source": [
    "len(f2_inv_cat_combis)  # number of category combinations"
   ]
  },
  {
   "cell_type": "markdown",
   "metadata": {},
   "source": [
    "---"
   ]
  },
  {
   "cell_type": "markdown",
   "metadata": {},
   "source": [
    "#### Statistics"
   ]
  },
  {
   "cell_type": "code",
   "execution_count": null,
   "metadata": {},
   "outputs": [],
   "source": [
    "print(f\"Number of businesses with categories: {len(inv_bid_cats):>6}\")\n",
    "print(f\"                  without categories: {len(bids_not_cats):>6}\")\n",
    "print(f\"Number of categories: len(inv_cat_bids) = {len(inv_cat_bids)}\")"
   ]
  },
  {
   "cell_type": "code",
   "execution_count": null,
   "metadata": {},
   "outputs": [],
   "source": [
    "inv_cat_combis.most_common(20)"
   ]
  },
  {
   "cell_type": "code",
   "execution_count": null,
   "metadata": {},
   "outputs": [],
   "source": [
    "# count single categories\n",
    "cnt = Counter({k: len(v) for k, v in inv_cat_bids.items()})\n",
    "cnt.most_common(20)"
   ]
  },
  {
   "cell_type": "markdown",
   "metadata": {},
   "source": [
    "#### Filter reviews with at least N ratings"
   ]
  },
  {
   "cell_type": "code",
   "execution_count": null,
   "metadata": {},
   "outputs": [],
   "source": [
    "# min ratings per class (good|bad)\n",
    "min_ratings = 5\n",
    "\n",
    "df = filter_min_review_freq(df, min_ratings=5)"
   ]
  },
  {
   "cell_type": "markdown",
   "metadata": {},
   "source": [
    "#### Filter only reviews with both good and bad rating"
   ]
  },
  {
   "cell_type": "code",
   "execution_count": null,
   "metadata": {},
   "outputs": [],
   "source": [
    "df = filter_both_good_bad(df)"
   ]
  },
  {
   "cell_type": "markdown",
   "metadata": {},
   "source": [
    "#### Make pairs"
   ]
  },
  {
   "cell_type": "markdown",
   "metadata": {},
   "source": [
    "**TODO:**\n",
    "\n",
    "- check similar length -- what strategy to use to combine similar length pairs best?\n",
    "- flip sides (arg1 <-> arg2)\n",
    "- make more pairs (?) -- but keep same ratio of same-sentiment vs. not-same-sentiment (different-sentiment) ??\n",
    "- group by categories (topics) -- more explicit training (uniqueness of single arguments / topic structures)\n",
    "- evaluate on same-argument (S3C) - or amazon reviews\n",
    "- compute mean/avg sequence length\n",
    "- fixed layers in fine-tuning\n",
    "- visualization of trained layers and activation for good / bad inputs"
   ]
  },
  {
   "cell_type": "markdown",
   "metadata": {},
   "source": [
    "##### Positive + negative same-sentiment pairs"
   ]
  },
  {
   "cell_type": "code",
   "execution_count": null,
   "metadata": {},
   "outputs": [],
   "source": [
    "num_pairs_per_class = 2\n",
    "# N positive + N negative\n",
    "# --> 2N pos+neg (not same-sentiment)\n",
    "\n",
    "# TODO: randomness for positive ss / negative ss - sum is equal / or sum equal compared to not ss"
   ]
  },
  {
   "cell_type": "code",
   "execution_count": null,
   "metadata": {},
   "outputs": [],
   "source": [
    "pairs_good, pairs_bad = make_pairs_good_bad(df, num_pairs_per_class=2)\n",
    "\n",
    "print(\"#ss (pos)\", len(pairs_good))\n",
    "print(\"#ss (neg)\", len(pairs_bad))"
   ]
  },
  {
   "cell_type": "markdown",
   "metadata": {},
   "source": [
    "##### not same-sentiment pairs (combinations positive + negative)"
   ]
  },
  {
   "cell_type": "code",
   "execution_count": null,
   "metadata": {},
   "outputs": [],
   "source": [
    "#: number of negative same-sentiment samples same as positive same-sentiment samples\n",
    "num_pairs_negative = 2 * num_pairs_per_class\n",
    "\n",
    "#: whether for a single side (good or bad) there can be multiple occurrences of the same review\n",
    "#: may need to check afterwared that not by chance same pairing happens ...\n",
    "repeatable_on_side = False"
   ]
  },
  {
   "cell_type": "code",
   "execution_count": null,
   "metadata": {},
   "outputs": [],
   "source": [
    "pairs_not_ss = make_pairs_negative(df, num_pairs_negative, repeatable_on_side=False)\n",
    "\n",
    "print(\"#nss\", len(pairs_not_ss))"
   ]
  },
  {
   "cell_type": "markdown",
   "metadata": {},
   "source": [
    "##### dataframe for training etc."
   ]
  },
  {
   "cell_type": "code",
   "execution_count": null,
   "metadata": {},
   "outputs": [],
   "source": [
    "pairs_all = pairs_good + pairs_bad + pairs_not_ss\n",
    "print(\"#~ss\", len(pairs_all))\n",
    "\n",
    "# print(pairs_all[0][\"argument1_id\"])\n",
    "np.random.shuffle(pairs_all)\n",
    "# print(pairs_all[0][\"argument1_id\"])\n",
    "\n",
    "df_traindev = pd.DataFrame.from_dict(pairs_all)"
   ]
  },
  {
   "cell_type": "code",
   "execution_count": null,
   "metadata": {},
   "outputs": [],
   "source": [
    "fn_yelp_df = data_yelp_path / \"df_traindev.p\"\n",
    "\n",
    "with open(fn_yelp_df, \"wb\") as fp:\n",
    "    pickle.dump(df_traindev, fp, protocol=pickle.HIGHEST_PROTOCOL)"
   ]
  },
  {
   "cell_type": "markdown",
   "metadata": {},
   "source": [
    "---"
   ]
  },
  {
   "cell_type": "markdown",
   "metadata": {},
   "source": [
    "#### Reloading for training"
   ]
  },
  {
   "cell_type": "code",
   "execution_count": null,
   "metadata": {},
   "outputs": [],
   "source": [
    "data_yelp_path = Path(\"/home/ekoerner/same-side-classification/data/sentiment/yelp/\")\n",
    "fn_yelp_df = data_yelp_path / \"df_traindev.p\"\n",
    "\n",
    "with open(fn_yelp_df, \"rb\") as fp:\n",
    "    all_df = pickle.load(fp)"
   ]
  },
  {
   "cell_type": "code",
   "execution_count": null,
   "metadata": {},
   "outputs": [],
   "source": [
    "def _add_dummy_tag(row):\n",
    "    row[\"tag\"] = \"NA\"\n",
    "    return row\n",
    "\n",
    "# all_df = all_df.progress_apply(_add_dummy_tag, axis=1)\n",
    "all_df[\"tag\"] = \"NA\""
   ]
  },
  {
   "cell_type": "code",
   "execution_count": null,
   "metadata": {},
   "outputs": [],
   "source": [
    "num = len(all_df)\n",
    "ratio = 0.3\n",
    "idx_ratio = int(num * (1.0 - ratio))\n",
    "print(f\"traindev: [0:{idx_ratio}], test: [{idx_ratio}:{num}], ratio: {ratio}\")\n",
    "\n",
    "traindev_df = all_df.iloc[:idx_ratio]\n",
    "test_df = all_df.iloc[idx_ratio:]"
   ]
  },
  {
   "cell_type": "code",
   "execution_count": null,
   "metadata": {},
   "outputs": [],
   "source": [
    "# len(traindev_df), len(test_df)"
   ]
  },
  {
   "cell_type": "markdown",
   "metadata": {},
   "source": [
    "---\n",
    "---\n",
    "---"
   ]
  },
  {
   "cell_type": "markdown",
   "metadata": {},
   "source": [
    "## Default S3C training\n",
    "\n",
    "https://gluon-nlp.mxnet.io/install.html\n",
    "\n",
    "```bash\n",
    "pip install --upgrade 'mxnet>=1.3.0'  \n",
    "pip install gluonnlp  \n",
    "wget https://gluon-nlp.mxnet.io/_downloads/sentence_embedding.zip  \n",
    "unzip sentence_embedding.zip  \n",
    "ln -s sentence_embedding/bert bert  \n",
    "```"
   ]
  },
  {
   "cell_type": "code",
   "execution_count": null,
   "metadata": {},
   "outputs": [],
   "source": [
    "# ! pip install --upgrade 'mxnet>=1.3.0'\n",
    "# NOTE: do not install cpu + gpu version both, only one!\n",
    "! pip install --upgrade mxnet-cu102\n",
    "! pip install --upgrade gluonnlp "
   ]
  },
  {
   "cell_type": "code",
   "execution_count": null,
   "metadata": {},
   "outputs": [],
   "source": [
    "! wget https://gluon-nlp.mxnet.io/_downloads/sentence_embedding.zip\n",
    "# ! unzip sentence_embedding.zip\n",
    "# ! ln -s sentence_embedding/bert bert"
   ]
  },
  {
   "cell_type": "code",
   "execution_count": 32,
   "metadata": {
    "ExecuteTime": {
     "end_time": "2020-05-11T09:23:10.952979Z",
     "start_time": "2020-05-11T09:23:10.551322Z"
    }
   },
   "outputs": [],
   "source": [
    "from mxboard import SummaryWriter\n",
    "\n",
    "from utils_data import get_train_test_sets\n",
    "\n",
    "from utils_gluon import setup_bert_epi128bce, setup_bert_epi512bce\n",
    "from utils_gluon import setup_bert_pro128bce, setup_bert_pro512bce\n",
    "\n",
    "from utils_gluon import transform_dataset\n",
    "from utils_gluon import predict_out_to_ys\n",
    "\n",
    "from utils_gluon import predict\n",
    "from utils_gluon import train\n",
    "\n",
    "# from utils_gluon import print_infos\n",
    "from utils_gluon import plot_train_stats\n",
    "\n",
    "from utils_gluon import report_training_results\n",
    "from utils_gluon import plot_confusion_matrix\n",
    "from utils_gluon import compute_metrics\n",
    "\n",
    "from utils_data import names_columns_X_arteval, names_columns_y"
   ]
  },
  {
   "cell_type": "code",
   "execution_count": 33,
   "metadata": {
    "ExecuteTime": {
     "end_time": "2020-05-11T09:23:12.170414Z",
     "start_time": "2020-05-11T09:23:12.156753Z"
    }
   },
   "outputs": [],
   "source": [
    "from utils_data import Timer\n",
    "\n",
    "from utils_data import configure_logging\n",
    "configure_logging()\n",
    "\n",
    "from utils_data import init_random\n",
    "init_random()"
   ]
  },
  {
   "cell_type": "markdown",
   "metadata": {},
   "source": [
    "---"
   ]
  },
  {
   "cell_type": "code",
   "execution_count": 34,
   "metadata": {
    "ExecuteTime": {
     "end_time": "2020-05-11T09:23:23.990181Z",
     "start_time": "2020-05-11T09:23:22.939908Z"
    }
   },
   "outputs": [],
   "source": [
    "run_name = \"yelp_3_arts_pro128BCE\"\n",
    "fn_run_path = Path(f\"data/{run_name}\")\n",
    "fn_traindev_df = fn_run_path / \"traindev.p\"\n",
    "\n",
    "category_name = \"Arts & Entertainment\"\n",
    "\n",
    "! mkdir data/yelp_3_arts_pro128BCE"
   ]
  },
  {
   "cell_type": "markdown",
   "metadata": {},
   "source": [
    "---"
   ]
  },
  {
   "cell_type": "code",
   "execution_count": 35,
   "metadata": {
    "ExecuteTime": {
     "end_time": "2020-05-11T09:23:32.185169Z",
     "start_time": "2020-05-11T09:23:27.462802Z"
    }
   },
   "outputs": [
    {
     "name": "stdout",
     "output_type": "stream",
     "text": [
      "Filter businesses from category Active Life [active] (9521 businesses) ...\n",
      "Filtered 54847 businesses (overlap with Active Life)\n",
      "Filter businesses from category Automotive [auto] (13203 businesses) ...\n",
      "Filtered 6197 businesses (overlap with Automotive)\n",
      "Filter businesses from category Beauty & Spas [beautysvc] (19370 businesses) ...\n",
      "Filtered 18906 businesses (overlap with Beauty & Spas)\n",
      "Filter businesses from category Bicycles [bicycles] (9 businesses) ...\n",
      "Filtered 0 businesses (overlap with Bicycles)\n",
      "Filter businesses from category Education [education] (3314 businesses) ...\n",
      "Filtered 7720 businesses (overlap with Education)\n",
      "Filter businesses from category Event Planning & Services [eventservices] (10371 businesses) ...\n",
      "Filtered 131334 businesses (overlap with Event Planning & Services)\n",
      "Filter businesses from category Financial Services [financialservices] (3082 businesses) ...\n",
      "Filtered 32 businesses (overlap with Financial Services)\n",
      "Filter businesses from category Food [food] (29989 businesses) ...\n",
      "Filtered 32105 businesses (overlap with Food)\n",
      "Filter businesses from category Health & Medical [health] (17171 businesses) ...\n",
      "Filtered 634 businesses (overlap with Health & Medical)\n",
      "Filter businesses from category Home Services [homeservices] (19744 businesses) ...\n",
      "Filtered 1074 businesses (overlap with Home Services)\n",
      "Filter businesses from category Hotels & Travel [hotelstravel] (6033 businesses) ...\n",
      "Filtered 4740 businesses (overlap with Hotels & Travel)\n",
      "Filter businesses from category Local Flavor [localflavor] (1444 businesses) ...\n",
      "Filtered 17036 businesses (overlap with Local Flavor)\n",
      "Filter businesses from category Local Services [localservices] (13932 businesses) ...\n",
      "Filtered 1223 businesses (overlap with Local Services)\n",
      "Filter businesses from category Mass Media [massmedia] (319 businesses) ...\n",
      "Filtered 191 businesses (overlap with Mass Media)\n",
      "Filter businesses from category Nightlife [nightlife] (13095 businesses) ...\n",
      "Filtered 77940 businesses (overlap with Nightlife)\n",
      "Filter businesses from category Pets [pets] (4111 businesses) ...\n",
      "Filtered 221 businesses (overlap with Pets)\n",
      "Filter businesses from category Professional Services [professional] (6276 businesses) ...\n",
      "Filtered 533 businesses (overlap with Professional Services)\n",
      "Filter businesses from category Public Services & Government [publicservicesgovt] (1343 businesses) ...\n",
      "Filtered 1317 businesses (overlap with Public Services & Government)\n",
      "Filter businesses from category Religious Organizations [religiousorgs] (547 businesses) ...\n",
      "Filtered 63 businesses (overlap with Religious Organizations)\n",
      "Filter businesses from category Restaurants [restaurants] (59371 businesses) ...\n",
      "Filtered 5856 businesses (overlap with Restaurants)\n",
      "Filter businesses from category Shopping [shopping] (31878 businesses) ...\n",
      "Filtered 6840 businesses (overlap with Shopping)\n"
     ]
    },
    {
     "data": {
      "text/plain": [
       "(6685900, 417708, 48899)"
      ]
     },
     "execution_count": 35,
     "metadata": {},
     "output_type": "execute_result"
    }
   ],
   "source": [
    "df_food = load_cached_root_category_businesses_df(category_name, map_categories)\n",
    "# df_food = get_reviews_for_category(df, category_name, inv_cat_bids, map_categories, map_cat_name2id)\n",
    "\n",
    "df_uniq_food = filter_root_category_businesses_uniq(category_name, inv_cat_bids, map_categories, map_cat_name2id)\n",
    "\n",
    "len(df), len(df_food), len(df_uniq_food)"
   ]
  },
  {
   "cell_type": "code",
   "execution_count": 36,
   "metadata": {
    "ExecuteTime": {
     "end_time": "2020-05-11T09:23:33.423545Z",
     "start_time": "2020-05-11T09:23:33.420703Z"
    }
   },
   "outputs": [],
   "source": [
    "df_td = df_uniq_food"
   ]
  },
  {
   "cell_type": "code",
   "execution_count": 37,
   "metadata": {
    "ExecuteTime": {
     "end_time": "2020-05-11T09:23:34.778651Z",
     "start_time": "2020-05-11T09:23:34.721884Z"
    }
   },
   "outputs": [],
   "source": [
    "# min ratings per class (good|bad)\n",
    "min_ratings = 5\n",
    "\n",
    "df_td = filter_min_review_freq(df_td, min_ratings=5)"
   ]
  },
  {
   "cell_type": "code",
   "execution_count": 38,
   "metadata": {
    "ExecuteTime": {
     "end_time": "2020-05-11T09:23:36.958316Z",
     "start_time": "2020-05-11T09:23:36.822176Z"
    }
   },
   "outputs": [],
   "source": [
    "df_td = filter_both_good_bad(df_td)"
   ]
  },
  {
   "cell_type": "code",
   "execution_count": 39,
   "metadata": {
    "ExecuteTime": {
     "end_time": "2020-05-11T09:23:42.688715Z",
     "start_time": "2020-05-11T09:23:38.233237Z"
    }
   },
   "outputs": [
    {
     "name": "stderr",
     "output_type": "stream",
     "text": [
      "100%|██████████| 415/415 [00:02<00:00, 159.19it/s]\n",
      "  5%|▌         | 21/415 [00:00<00:01, 203.46it/s]"
     ]
    },
    {
     "name": "stdout",
     "output_type": "stream",
     "text": [
      "#ss (pos) 830\n",
      "#ss (neg) 830\n"
     ]
    },
    {
     "name": "stderr",
     "output_type": "stream",
     "text": [
      "100%|██████████| 415/415 [00:02<00:00, 203.66it/s]"
     ]
    },
    {
     "name": "stdout",
     "output_type": "stream",
     "text": [
      "#nss 1660\n",
      "#~ss 3320\n"
     ]
    },
    {
     "name": "stderr",
     "output_type": "stream",
     "text": [
      "\n"
     ]
    }
   ],
   "source": [
    "traindev_df = make_or_load_pairs(df_td, str(fn_traindev_df), num_pairs_per_class=2)"
   ]
  },
  {
   "cell_type": "code",
   "execution_count": 40,
   "metadata": {
    "ExecuteTime": {
     "end_time": "2020-05-11T09:23:43.713281Z",
     "start_time": "2020-05-11T09:23:43.708878Z"
    }
   },
   "outputs": [
    {
     "data": {
      "text/plain": [
       "3320"
      ]
     },
     "execution_count": 40,
     "metadata": {},
     "output_type": "execute_result"
    }
   ],
   "source": [
    "len(traindev_df)  # pairs"
   ]
  },
  {
   "cell_type": "markdown",
   "metadata": {},
   "source": [
    "---"
   ]
  },
  {
   "cell_type": "code",
   "execution_count": 41,
   "metadata": {
    "ExecuteTime": {
     "end_time": "2020-05-11T09:23:50.271821Z",
     "start_time": "2020-05-11T09:23:50.268402Z"
    }
   },
   "outputs": [],
   "source": [
    "def _add_dummy_tag(row):\n",
    "    row[\"tag\"] = \"NA\"\n",
    "    return row\n",
    "\n",
    "# all_df = all_df.progress_apply(_add_dummy_tag, axis=1)\n",
    "traindev_df[\"tag\"] = \"NA\""
   ]
  },
  {
   "cell_type": "code",
   "execution_count": 42,
   "metadata": {
    "ExecuteTime": {
     "end_time": "2020-05-11T09:23:53.103703Z",
     "start_time": "2020-05-11T09:23:53.094313Z"
    }
   },
   "outputs": [],
   "source": [
    "X_train, X_dev, y_train, y_dev = get_train_test_sets(traindev_df, ratio=0.1)"
   ]
  },
  {
   "cell_type": "code",
   "execution_count": 43,
   "metadata": {
    "ExecuteTime": {
     "end_time": "2020-05-11T09:24:18.186301Z",
     "start_time": "2020-05-11T09:24:11.446665Z"
    }
   },
   "outputs": [
    {
     "name": "stdout",
     "output_type": "stream",
     "text": [
      "Start on [setup BERT model] ...\n",
      "Time for [setup BERT model]: 0:00:06.735869\n"
     ]
    }
   ],
   "source": [
    "with Timer(\"setup BERT model\"):\n",
    "    model, vocabulary, ctx, tokenizer, transform, loss_function, metric, all_labels = setup_bert_pro128bce(gpu=0)"
   ]
  },
  {
   "cell_type": "code",
   "execution_count": 44,
   "metadata": {
    "ExecuteTime": {
     "end_time": "2020-05-11T09:24:20.272945Z",
     "start_time": "2020-05-11T09:24:19.789680Z"
    }
   },
   "outputs": [
    {
     "name": "stdout",
     "output_type": "stream",
     "text": [
      "Start on [prepare training / validation data] ...\n",
      "Time for [prepare training / validation data]: 0:00:00.477598\n"
     ]
    }
   ],
   "source": [
    "with Timer(\"prepare training / validation data\"):\n",
    "    data_train_raw, data_train = transform_dataset(X_train, y_train, transform)\n",
    "    data_dev_raw, data_dev = transform_dataset(X_dev, y_dev, transform)"
   ]
  },
  {
   "cell_type": "code",
   "execution_count": 45,
   "metadata": {
    "ExecuteTime": {
     "end_time": "2020-05-11T09:24:21.745365Z",
     "start_time": "2020-05-11T09:24:21.737328Z"
    }
   },
   "outputs": [],
   "source": [
    "num_epochs = 3\n",
    "batch_size = 32"
   ]
  },
  {
   "cell_type": "markdown",
   "metadata": {},
   "source": [
    "##### Training with TRAIN set"
   ]
  },
  {
   "cell_type": "code",
   "execution_count": 46,
   "metadata": {
    "ExecuteTime": {
     "end_time": "2020-05-11T09:31:16.595587Z",
     "start_time": "2020-05-11T09:24:22.971270Z"
    }
   },
   "outputs": [
    {
     "name": "stderr",
     "output_type": "stream",
     "text": [
      "  0%|          | 13/2988 [00:00<00:22, 129.39it/s]"
     ]
    },
    {
     "name": "stdout",
     "output_type": "stream",
     "text": [
      "Start on [train model - 0] ...\n",
      "Start on [setup training] ...\n"
     ]
    },
    {
     "name": "stderr",
     "output_type": "stream",
     "text": [
      "100%|██████████| 2988/2988 [00:24<00:00, 94.32it/s] \n",
      "  0%|          | 0/99 [00:00<?, ?it/s]"
     ]
    },
    {
     "name": "stdout",
     "output_type": "stream",
     "text": [
      "Time for [setup training]: 0:00:24.121730\n",
      "Start on [training] ...\n",
      "Start on [epoch 0] ...\n"
     ]
    },
    {
     "name": "stderr",
     "output_type": "stream",
     "text": [
      "  1%|          | 1/99 [00:01<02:40,  1.64s/it]2020-05-11 11:24:48,753 : INFO : successfully opened events file: data/yelp_3_arts_pro128BCE/events.out.tfevents.1589189088.cuda\n",
      "2020-05-11 11:24:48,754 : INFO : wrote 1 event to disk\n",
      "2020-05-11 11:24:48,755 : INFO : wrote 1 event to disk\n",
      "100%|██████████| 99/99 [01:37<00:00,  1.16it/s]\n"
     ]
    },
    {
     "name": "stdout",
     "output_type": "stream",
     "text": [
      "Time for [epoch 0]: 0:01:37.047231\n"
     ]
    },
    {
     "name": "stderr",
     "output_type": "stream",
     "text": [
      "\r",
      "  0%|          | 0/99 [00:00<?, ?it/s]"
     ]
    },
    {
     "name": "stdout",
     "output_type": "stream",
     "text": [
      "Start on [epoch 1] ...\n"
     ]
    },
    {
     "name": "stderr",
     "output_type": "stream",
     "text": [
      "100%|██████████| 99/99 [01:38<00:00,  1.05s/it]\n"
     ]
    },
    {
     "name": "stdout",
     "output_type": "stream",
     "text": [
      "Time for [epoch 1]: 0:01:38.038662\n"
     ]
    },
    {
     "name": "stderr",
     "output_type": "stream",
     "text": [
      "\r",
      "  0%|          | 0/99 [00:00<?, ?it/s]"
     ]
    },
    {
     "name": "stdout",
     "output_type": "stream",
     "text": [
      "Start on [epoch 2] ...\n"
     ]
    },
    {
     "name": "stderr",
     "output_type": "stream",
     "text": [
      "100%|██████████| 99/99 [01:37<00:00,  1.01it/s]\n"
     ]
    },
    {
     "name": "stdout",
     "output_type": "stream",
     "text": [
      "Time for [epoch 2]: 0:01:37.961973\n",
      "Time for [training]: 0:05:09.037167\n"
     ]
    },
    {
     "data": {
      "image/png": "[encoded data removed]",
      "text/plain": [
       "<Figure size 432x288 with 2 Axes>"
      ]
     },
     "metadata": {
      "needs_background": "light"
     },
     "output_type": "display_data"
    },
    {
     "name": "stderr",
     "output_type": "stream",
     "text": [
      "2020-05-11 11:29:56,549 : INFO : wrote 593 events to disk\n",
      "  0%|          | 0/11 [00:00<?, ?it/s]"
     ]
    },
    {
     "name": "stdout",
     "output_type": "stream",
     "text": [
      "Time for [train model - 0]: 0:05:33.573823\n",
      "Start on [evaluate - 0] ...\n",
      "Start on [prediction] ...\n"
     ]
    },
    {
     "name": "stderr",
     "output_type": "stream",
     "text": [
      "  9%|▉         | 1/11 [00:00<00:04,  2.10it/s]2020-05-11 11:29:57,045 : INFO : successfully opened events file: data/yelp_3_arts_pro128BCE/events.out.tfevents.1589189397.cuda\n",
      "2020-05-11 11:29:57,056 : INFO : wrote 1 event to disk\n",
      "2020-05-11 11:29:57,057 : INFO : wrote 1 event to disk\n",
      "100%|██████████| 11/11 [00:04<00:00,  2.72it/s]\n",
      "2020-05-11 11:30:00,994 : INFO : wrote 21 events to disk\n"
     ]
    },
    {
     "name": "stdout",
     "output_type": "stream",
     "text": [
      "Time for [prediction]: 0:00:04.418660\n",
      "Accuracy in epoch 0: 0.6174698795180723\n",
      "Confusion Matrix:\n",
      "[[114  48]\n",
      " [ 79  91]]\n",
      "\n",
      "CM: [114  48  79  91] \n",
      "[tn, fp, fn, tp]\n",
      "  accuracy: 0.617\n",
      " precision: 0.623\n",
      "    recall: 0.619\n",
      "  f1-score: 0.616\n",
      "\n",
      "Accuracy:  0.617 \n",
      "\n",
      "Report for [BERTClassifier - yelp_3_arts_pro128BCE]:\n",
      "              precision    recall  f1-score   support\n",
      "\n",
      "           0       0.59      0.70      0.64       162\n",
      "           1       0.65      0.54      0.59       170\n",
      "\n",
      "    accuracy                           0.62       332\n",
      "   macro avg       0.62      0.62      0.62       332\n",
      "weighted avg       0.62      0.62      0.61       332\n",
      "\n",
      "Time for [evaluate - 0]: 0:00:04.445577\n"
     ]
    },
    {
     "name": "stderr",
     "output_type": "stream",
     "text": [
      "  1%|          | 19/2988 [00:00<00:15, 185.65it/s]"
     ]
    },
    {
     "name": "stdout",
     "output_type": "stream",
     "text": [
      "Start on [train model - 1] ...\n",
      "Start on [setup training] ...\n"
     ]
    },
    {
     "name": "stderr",
     "output_type": "stream",
     "text": [
      "100%|██████████| 2988/2988 [00:23<00:00, 126.22it/s]\n"
     ]
    },
    {
     "name": "stdout",
     "output_type": "stream",
     "text": [
      "Time for [setup training]: 0:00:23.703052\n",
      "Start on [training] ...\n",
      "loaded checkpoint for epoch 0\n"
     ]
    },
    {
     "name": "stderr",
     "output_type": "stream",
     "text": [
      "\r",
      "  0%|          | 0/11 [00:00<?, ?it/s]"
     ]
    },
    {
     "name": "stdout",
     "output_type": "stream",
     "text": [
      "loaded checkpoint for epoch 1\n",
      "loaded checkpoint for epoch 2\n",
      "Time for [training]: 0:00:00.622071\n",
      "no stats to plot\n",
      "Time for [train model - 1]: 0:00:24.353548\n",
      "Start on [evaluate - 1] ...\n",
      "Start on [prediction] ...\n"
     ]
    },
    {
     "name": "stderr",
     "output_type": "stream",
     "text": [
      "  9%|▉         | 1/11 [00:00<00:04,  2.14it/s]2020-05-11 11:30:32,220 : INFO : successfully opened events file: data/yelp_3_arts_pro128BCE/events.out.tfevents.1589189432.cuda\n",
      "2020-05-11 11:30:32,221 : INFO : wrote 1 event to disk\n",
      "2020-05-11 11:30:32,222 : INFO : wrote 1 event to disk\n",
      "100%|██████████| 11/11 [00:04<00:00,  2.53it/s]\n",
      "2020-05-11 11:30:36,447 : INFO : wrote 21 events to disk\n"
     ]
    },
    {
     "name": "stdout",
     "output_type": "stream",
     "text": [
      "Time for [prediction]: 0:00:04.684937\n",
      "Accuracy in epoch 1: 0.6174698795180723\n",
      "Confusion Matrix:\n",
      "[[114  48]\n",
      " [ 79  91]]\n",
      "\n",
      "CM: [114  48  79  91] \n",
      "[tn, fp, fn, tp]\n",
      "  accuracy: 0.617\n",
      " precision: 0.623\n",
      "    recall: 0.619\n",
      "  f1-score: 0.616\n",
      "\n",
      "Accuracy:  0.617 \n",
      "\n",
      "Report for [BERTClassifier - yelp_3_arts_pro128BCE]:\n",
      "              precision    recall  f1-score   support\n",
      "\n",
      "           0       0.59      0.70      0.64       162\n",
      "           1       0.65      0.54      0.59       170\n",
      "\n",
      "    accuracy                           0.62       332\n",
      "   macro avg       0.62      0.62      0.62       332\n",
      "weighted avg       0.62      0.62      0.61       332\n",
      "\n",
      "Time for [evaluate - 1]: 0:00:04.742364\n"
     ]
    },
    {
     "name": "stderr",
     "output_type": "stream",
     "text": [
      "  0%|          | 9/2988 [00:00<00:34, 87.03it/s]"
     ]
    },
    {
     "name": "stdout",
     "output_type": "stream",
     "text": [
      "Start on [train model - 2] ...\n",
      "Start on [setup training] ...\n"
     ]
    },
    {
     "name": "stderr",
     "output_type": "stream",
     "text": [
      "100%|██████████| 2988/2988 [00:21<00:00, 135.92it/s]\n"
     ]
    },
    {
     "name": "stdout",
     "output_type": "stream",
     "text": [
      "Time for [setup training]: 0:00:21.998988\n",
      "Start on [training] ...\n",
      "loaded checkpoint for epoch 0\n",
      "loaded checkpoint for epoch 1\n"
     ]
    },
    {
     "name": "stderr",
     "output_type": "stream",
     "text": [
      "\r",
      "  0%|          | 0/11 [00:00<?, ?it/s]"
     ]
    },
    {
     "name": "stdout",
     "output_type": "stream",
     "text": [
      "loaded checkpoint for epoch 2\n",
      "Time for [training]: 0:00:00.891330\n",
      "no stats to plot\n",
      "Time for [train model - 2]: 0:00:22.896107\n",
      "Start on [evaluate - 2] ...\n",
      "Start on [prediction] ...\n"
     ]
    },
    {
     "name": "stderr",
     "output_type": "stream",
     "text": [
      "  9%|▉         | 1/11 [00:00<00:04,  2.21it/s]2020-05-11 11:31:06,910 : INFO : successfully opened events file: data/yelp_3_arts_pro128BCE/events.out.tfevents.1589189466.cuda\n",
      "2020-05-11 11:31:06,930 : INFO : wrote 1 event to disk\n",
      "2020-05-11 11:31:06,931 : INFO : wrote 1 event to disk\n",
      "100%|██████████| 11/11 [00:04<00:00,  2.73it/s]\n",
      "2020-05-11 11:31:10,617 : INFO : wrote 21 events to disk\n"
     ]
    },
    {
     "name": "stdout",
     "output_type": "stream",
     "text": [
      "Time for [prediction]: 0:00:04.151284\n",
      "Accuracy in epoch 2: 0.6174698795180723\n",
      "Confusion Matrix:\n",
      "[[114  48]\n",
      " [ 79  91]]\n",
      "\n",
      "CM: [114  48  79  91] \n",
      "[tn, fp, fn, tp]\n",
      "  accuracy: 0.617\n",
      " precision: 0.623\n",
      "    recall: 0.619\n",
      "  f1-score: 0.616\n",
      "\n",
      "Accuracy:  0.617 \n",
      "\n",
      "Report for [BERTClassifier - yelp_3_arts_pro128BCE]:\n",
      "              precision    recall  f1-score   support\n",
      "\n",
      "           0       0.59      0.70      0.64       162\n",
      "           1       0.65      0.54      0.59       170\n",
      "\n",
      "    accuracy                           0.62       332\n",
      "   macro avg       0.62      0.62      0.62       332\n",
      "weighted avg       0.62      0.62      0.61       332\n",
      "\n",
      "Time for [evaluate - 2]: 0:00:04.180791\n"
     ]
    }
   ],
   "source": [
    "for epoch_id in range(num_epochs):\n",
    "    with Timer(f\"train model - {epoch_id}\"), SummaryWriter(logdir=str(fn_run_path), flush_secs=600) as sw:\n",
    "        stats = train(model, data_train, ctx, metric, loss_function, batch_size=batch_size, lr=5e-6, num_epochs=epoch_id + 1, sw=sw, checkpoint_dir=str(fn_run_path))\n",
    "        plot_train_stats(stats)\n",
    "\n",
    "    with Timer(f\"evaluate - {epoch_id}\"), SummaryWriter(logdir=str(fn_run_path), flush_secs=600) as sw:\n",
    "        all_predictions, cum_loss = predict(model, data_dev, ctx, metric, loss_function, batch_size=batch_size, sw=sw)\n",
    "        print(f\"Accuracy in epoch {epoch_id}:\", metric.get()[1])\n",
    "\n",
    "        y_true, y_pred = predict_out_to_ys(all_predictions, all_labels)\n",
    "        report_training_results(y_true, y_pred, name=f\"BERTClassifier - {run_name}\", heatmap=False)\n",
    "\n",
    "    model.save_parameters(str(fn_run_path / \"bert.model.params\"))"
   ]
  },
  {
   "cell_type": "code",
   "execution_count": null,
   "metadata": {},
   "outputs": [],
   "source": [
    "plot_train_stats(stats)"
   ]
  },
  {
   "cell_type": "markdown",
   "metadata": {},
   "source": [
    "##### Results with validation set (DEV set)"
   ]
  },
  {
   "cell_type": "code",
   "execution_count": 47,
   "metadata": {
    "ExecuteTime": {
     "end_time": "2020-05-11T09:31:22.440324Z",
     "start_time": "2020-05-11T09:31:18.008873Z"
    },
    "scrolled": true
   },
   "outputs": [
    {
     "name": "stderr",
     "output_type": "stream",
     "text": [
      "\r",
      "  0%|          | 0/11 [00:00<?, ?it/s]"
     ]
    },
    {
     "name": "stdout",
     "output_type": "stream",
     "text": [
      "Start on [prediction] ...\n"
     ]
    },
    {
     "name": "stderr",
     "output_type": "stream",
     "text": [
      "100%|██████████| 11/11 [00:04<00:00,  3.01it/s]\n"
     ]
    },
    {
     "name": "stdout",
     "output_type": "stream",
     "text": [
      "Time for [prediction]: 0:00:04.350323\n",
      "Confusion Matrix:\n",
      "[[114  48]\n",
      " [ 79  91]]\n",
      "\n",
      "CM: [114  48  79  91] \n",
      "[tn, fp, fn, tp]\n",
      "  accuracy: 0.617\n",
      " precision: 0.623\n",
      "    recall: 0.619\n",
      "  f1-score: 0.616\n",
      "\n",
      "Accuracy:  0.617 \n",
      "\n",
      "Report for [BERTClassifier - yelp_3_arts_pro128BCE]:\n",
      "              precision    recall  f1-score   support\n",
      "\n",
      "           0       0.59      0.70      0.64       162\n",
      "           1       0.65      0.54      0.59       170\n",
      "\n",
      "    accuracy                           0.62       332\n",
      "   macro avg       0.62      0.62      0.62       332\n",
      "weighted avg       0.62      0.62      0.61       332\n",
      "\n"
     ]
    },
    {
     "data": {
      "image/png": "[encoded data removed]",
      "text/plain": [
       "<Figure size 432x288 with 1 Axes>"
      ]
     },
     "metadata": {
      "needs_background": "light"
     },
     "output_type": "display_data"
    }
   ],
   "source": [
    "all_predictions, cum_loss = predict(model, data_dev, ctx, metric, loss_function, batch_size=batch_size)\n",
    "y_true, y_pred = predict_out_to_ys(all_predictions, all_labels)\n",
    "with open(fn_run_path / \"eval_untrained.p\", \"wb\") as fp:\n",
    "    pickle.dump(y_true, fp, protocol=pickle.HIGHEST_PROTOCOL)\n",
    "    pickle.dump(y_pred, fp, protocol=pickle.HIGHEST_PROTOCOL)\n",
    "report_training_results(y_true, y_pred, name=f\"BERTClassifier - {run_name}\", heatmap=False)\n",
    "plot_confusion_matrix(y_true, y_pred, labels=[0, 1], title=f\"{run_name} Untrained\", values_format=\"d\", cmap=\"Blues\", include_colorbar=False)\n",
    "plt.show()"
   ]
  },
  {
   "cell_type": "code",
   "execution_count": 48,
   "metadata": {
    "ExecuteTime": {
     "end_time": "2020-05-11T09:31:37.721384Z",
     "start_time": "2020-05-11T09:31:23.375810Z"
    },
    "collapsed": true
   },
   "outputs": [
    {
     "name": "stdout",
     "output_type": "stream",
     "text": [
      "Evaluate trained model for each epoch ...\n",
      "Load data/yelp_3_arts_pro128BCE/bert.model.checkpoint0.params ...\n"
     ]
    },
    {
     "name": "stderr",
     "output_type": "stream",
     "text": [
      "\r",
      "  0%|          | 0/11 [00:00<?, ?it/s]"
     ]
    },
    {
     "name": "stdout",
     "output_type": "stream",
     "text": [
      "Start on [prediction] ...\n"
     ]
    },
    {
     "name": "stderr",
     "output_type": "stream",
     "text": [
      "100%|██████████| 11/11 [00:03<00:00,  3.31it/s]\n"
     ]
    },
    {
     "name": "stdout",
     "output_type": "stream",
     "text": [
      "Time for [prediction]: 0:00:03.878943\n",
      "Confusion Matrix:\n",
      "[[ 67  95]\n",
      " [ 56 114]]\n",
      "\n",
      "CM: [ 67  95  56 114] \n",
      "[tn, fp, fn, tp]\n",
      "  accuracy: 0.545\n",
      " precision: 0.545\n",
      "    recall: 0.542\n",
      "  f1-score: 0.536\n",
      "\n",
      "Accuracy:  0.545 \n",
      "\n",
      "Report for [BERTClassifier - yelp_3_arts_pro128BCE]:\n",
      "              precision    recall  f1-score   support\n",
      "\n",
      "           0       0.54      0.41      0.47       162\n",
      "           1       0.55      0.67      0.60       170\n",
      "\n",
      "    accuracy                           0.55       332\n",
      "   macro avg       0.55      0.54      0.54       332\n",
      "weighted avg       0.55      0.55      0.54       332\n",
      "\n"
     ]
    },
    {
     "data": {
      "image/png": "[encoded data removed]",
      "text/plain": [
       "<Figure size 432x288 with 1 Axes>"
      ]
     },
     "metadata": {
      "needs_background": "light"
     },
     "output_type": "display_data"
    },
    {
     "name": "stdout",
     "output_type": "stream",
     "text": [
      "Load data/yelp_3_arts_pro128BCE/bert.model.checkpoint1.params ...\n"
     ]
    },
    {
     "name": "stderr",
     "output_type": "stream",
     "text": [
      "\r",
      "  0%|          | 0/11 [00:00<?, ?it/s]"
     ]
    },
    {
     "name": "stdout",
     "output_type": "stream",
     "text": [
      "Start on [prediction] ...\n"
     ]
    },
    {
     "name": "stderr",
     "output_type": "stream",
     "text": [
      "100%|██████████| 11/11 [00:04<00:00,  2.70it/s]\n"
     ]
    },
    {
     "name": "stdout",
     "output_type": "stream",
     "text": [
      "Time for [prediction]: 0:00:04.985855\n",
      "Confusion Matrix:\n",
      "[[120  42]\n",
      " [104  66]]\n",
      "\n",
      "CM: [120  42 104  66] \n",
      "[tn, fp, fn, tp]\n",
      "  accuracy: 0.560\n",
      " precision: 0.573\n",
      "    recall: 0.564\n",
      "  f1-score: 0.548\n",
      "\n",
      "Accuracy:  0.56 \n",
      "\n",
      "Report for [BERTClassifier - yelp_3_arts_pro128BCE]:\n",
      "              precision    recall  f1-score   support\n",
      "\n",
      "           0       0.54      0.74      0.62       162\n",
      "           1       0.61      0.39      0.47       170\n",
      "\n",
      "    accuracy                           0.56       332\n",
      "   macro avg       0.57      0.56      0.55       332\n",
      "weighted avg       0.57      0.56      0.55       332\n",
      "\n"
     ]
    },
    {
     "data": {
      "image/png": "[encoded data removed]",
      "text/plain": [
       "<Figure size 432x288 with 1 Axes>"
      ]
     },
     "metadata": {
      "needs_background": "light"
     },
     "output_type": "display_data"
    },
    {
     "name": "stdout",
     "output_type": "stream",
     "text": [
      "Load data/yelp_3_arts_pro128BCE/bert.model.checkpoint2.params ...\n"
     ]
    },
    {
     "name": "stderr",
     "output_type": "stream",
     "text": [
      "\r",
      "  0%|          | 0/11 [00:00<?, ?it/s]"
     ]
    },
    {
     "name": "stdout",
     "output_type": "stream",
     "text": [
      "Start on [prediction] ...\n"
     ]
    },
    {
     "name": "stderr",
     "output_type": "stream",
     "text": [
      "100%|██████████| 11/11 [00:04<00:00,  2.94it/s]\n"
     ]
    },
    {
     "name": "stdout",
     "output_type": "stream",
     "text": [
      "Time for [prediction]: 0:00:04.432767\n",
      "Confusion Matrix:\n",
      "[[114  48]\n",
      " [ 79  91]]\n",
      "\n",
      "CM: [114  48  79  91] \n",
      "[tn, fp, fn, tp]\n",
      "  accuracy: 0.617\n",
      " precision: 0.623\n",
      "    recall: 0.619\n",
      "  f1-score: 0.616\n",
      "\n",
      "Accuracy:  0.617 \n",
      "\n",
      "Report for [BERTClassifier - yelp_3_arts_pro128BCE]:\n",
      "              precision    recall  f1-score   support\n",
      "\n",
      "           0       0.59      0.70      0.64       162\n",
      "           1       0.65      0.54      0.59       170\n",
      "\n",
      "    accuracy                           0.62       332\n",
      "   macro avg       0.62      0.62      0.62       332\n",
      "weighted avg       0.62      0.62      0.61       332\n",
      "\n"
     ]
    },
    {
     "data": {
      "image/png": "[encoded data removed]",
      "text/plain": [
       "<Figure size 432x288 with 1 Axes>"
      ]
     },
     "metadata": {
      "needs_background": "light"
     },
     "output_type": "display_data"
    }
   ],
   "source": [
    "print(\"Evaluate trained model for each epoch ...\")\n",
    "for epoch_id in range(num_epochs):\n",
    "    fn_model_state = fn_run_path / f\"bert.model.checkpoint{epoch_id}.params\"\n",
    "    print(f\"Load {fn_model_state} ...\")\n",
    "    model.load_parameters(str(fn_model_state), ctx=ctx)\n",
    "    all_predictions, cum_loss = predict(model, data_dev, ctx, metric, loss_function, batch_size=batch_size)\n",
    "    y_true, y_pred = predict_out_to_ys(all_predictions, all_labels)\n",
    "    with open(fn_run_path / f\"eval_epoch{epoch_id}.p\", \"wb\") as fp:\n",
    "        pickle.dump(y_true, fp, protocol=pickle.HIGHEST_PROTOCOL)\n",
    "        pickle.dump(y_pred, fp, protocol=pickle.HIGHEST_PROTOCOL)\n",
    "    report_training_results(y_true, y_pred, name=f\"BERTClassifier - {run_name}\", heatmap=False)\n",
    "    plot_confusion_matrix(y_true, y_pred, labels=[0, 1], title=f\"Yelp 3 Epoch {epoch_id}\", values_format=\"d\", cmap=\"Blues\", include_colorbar=False)\n",
    "    plt.show()"
   ]
  },
  {
   "cell_type": "markdown",
   "metadata": {},
   "source": [
    "### Load other categories and evaluate"
   ]
  },
  {
   "cell_type": "code",
   "execution_count": 49,
   "metadata": {
    "ExecuteTime": {
     "end_time": "2020-05-11T09:31:39.154339Z",
     "start_time": "2020-05-11T09:31:38.851473Z"
    }
   },
   "outputs": [
    {
     "name": "stdout",
     "output_type": "stream",
     "text": [
      "Load data/yelp_3_arts_pro128BCE/bert.model.checkpoint2.params ...\n"
     ]
    }
   ],
   "source": [
    "fn_model_state = fn_run_path / f\"bert.model.checkpoint{num_epochs - 1}.params\"\n",
    "print(f\"Load {fn_model_state} ...\")\n",
    "model.load_parameters(str(fn_model_state), ctx=ctx)"
   ]
  },
  {
   "cell_type": "code",
   "execution_count": 50,
   "metadata": {
    "ExecuteTime": {
     "end_time": "2020-05-11T09:31:40.690927Z",
     "start_time": "2020-05-11T09:31:40.686364Z"
    }
   },
   "outputs": [],
   "source": [
    "# lst_root_categories\n",
    "root_categories = get_root_category_items(map_categories)\n",
    "root_categories = sorted(root_categories, key=lambda x: x[\"title\"])\n",
    "root_category_labels = [x[\"title\"] for x in root_categories]"
   ]
  },
  {
   "cell_type": "code",
   "execution_count": 51,
   "metadata": {
    "ExecuteTime": {
     "end_time": "2020-05-11T12:12:00.173448Z",
     "start_time": "2020-05-11T09:31:42.621430Z"
    },
    "collapsed": true
   },
   "outputs": [
    {
     "name": "stdout",
     "output_type": "stream",
     "text": [
      "Work on Active Life ...\n",
      "Filter businesses from category Arts & Entertainment [arts] (6304 businesses) ...\n",
      "Filtered 54847 businesses (overlap with Arts & Entertainment)\n"
     ]
    },
    {
     "name": "stderr",
     "output_type": "stream",
     "text": [
      "100%|██████████| 1683/1683 [00:07<00:00, 227.00it/s]\n",
      "  0%|          | 0/1683 [00:00<?, ?it/s]"
     ]
    },
    {
     "name": "stdout",
     "output_type": "stream",
     "text": [
      "#ss (pos) 3366\n",
      "#ss (neg) 3366\n"
     ]
    },
    {
     "name": "stderr",
     "output_type": "stream",
     "text": [
      "100%|██████████| 1683/1683 [00:07<00:00, 235.74it/s]\n"
     ]
    },
    {
     "name": "stdout",
     "output_type": "stream",
     "text": [
      "#nss 6732\n",
      "#~ss 13464\n",
      "review pairs: 13464\n"
     ]
    },
    {
     "name": "stderr",
     "output_type": "stream",
     "text": [
      "\r",
      "  0%|          | 0/421 [00:00<?, ?it/s]"
     ]
    },
    {
     "name": "stdout",
     "output_type": "stream",
     "text": [
      "Start on [prediction] ...\n"
     ]
    },
    {
     "name": "stderr",
     "output_type": "stream",
     "text": [
      "100%|██████████| 421/421 [03:00<00:00,  2.52it/s]\n"
     ]
    },
    {
     "name": "stdout",
     "output_type": "stream",
     "text": [
      "Time for [prediction]: 0:03:00.835825\n",
      "Confusion Matrix:\n",
      "[[4555 2177]\n",
      " [2386 4346]]\n",
      "\n",
      "CM: [4555 2177 2386 4346] \n",
      "[tn, fp, fn, tp]\n",
      "  accuracy: 0.661\n",
      " precision: 0.661\n",
      "    recall: 0.661\n",
      "  f1-score: 0.661\n",
      "\n",
      "Accuracy:  0.661 \n",
      "\n",
      "Report for [BERTClassifier - yelp_3_arts_pro128BCE - Arts & Entertainment-->Active Life]:\n",
      "              precision    recall  f1-score   support\n",
      "\n",
      "           0       0.66      0.68      0.67      6732\n",
      "           1       0.67      0.65      0.66      6732\n",
      "\n",
      "    accuracy                           0.66     13464\n",
      "   macro avg       0.66      0.66      0.66     13464\n",
      "weighted avg       0.66      0.66      0.66     13464\n",
      "\n"
     ]
    },
    {
     "data": {
      "image/png": "[encoded data removed]",
      "text/plain": [
       "<Figure size 432x288 with 1 Axes>"
      ]
     },
     "metadata": {
      "needs_background": "light"
     },
     "output_type": "display_data"
    },
    {
     "name": "stdout",
     "output_type": "stream",
     "text": [
      "Work on Automotive ...\n",
      "Filter businesses from category Arts & Entertainment [arts] (6304 businesses) ...\n",
      "Filtered 7067 businesses (overlap with Arts & Entertainment)\n"
     ]
    },
    {
     "name": "stderr",
     "output_type": "stream",
     "text": [
      "100%|██████████| 2829/2829 [00:10<00:00, 275.51it/s]\n",
      "  0%|          | 0/2829 [00:00<?, ?it/s]"
     ]
    },
    {
     "name": "stdout",
     "output_type": "stream",
     "text": [
      "#ss (pos) 5658\n",
      "#ss (neg) 5658\n"
     ]
    },
    {
     "name": "stderr",
     "output_type": "stream",
     "text": [
      "100%|██████████| 2829/2829 [00:13<00:00, 217.02it/s]\n"
     ]
    },
    {
     "name": "stdout",
     "output_type": "stream",
     "text": [
      "#nss 11316\n",
      "#~ss 22632\n",
      "review pairs: 22632\n"
     ]
    },
    {
     "name": "stderr",
     "output_type": "stream",
     "text": [
      "\r",
      "  0%|          | 0/708 [00:00<?, ?it/s]"
     ]
    },
    {
     "name": "stdout",
     "output_type": "stream",
     "text": [
      "Start on [prediction] ...\n"
     ]
    },
    {
     "name": "stderr",
     "output_type": "stream",
     "text": [
      "100%|██████████| 708/708 [04:57<00:00,  2.66it/s]\n"
     ]
    },
    {
     "name": "stdout",
     "output_type": "stream",
     "text": [
      "Time for [prediction]: 0:04:57.945813\n",
      "Confusion Matrix:\n",
      "[[7544 3772]\n",
      " [3171 8145]]\n",
      "\n",
      "CM: [7544 3772 3171 8145] \n",
      "[tn, fp, fn, tp]\n",
      "  accuracy: 0.693\n",
      " precision: 0.694\n",
      "    recall: 0.693\n",
      "  f1-score: 0.693\n",
      "\n",
      "Accuracy:  0.693 \n",
      "\n",
      "Report for [BERTClassifier - yelp_3_arts_pro128BCE - Arts & Entertainment-->Automotive]:\n",
      "              precision    recall  f1-score   support\n",
      "\n",
      "           0       0.70      0.67      0.68     11316\n",
      "           1       0.68      0.72      0.70     11316\n",
      "\n",
      "    accuracy                           0.69     22632\n",
      "   macro avg       0.69      0.69      0.69     22632\n",
      "weighted avg       0.69      0.69      0.69     22632\n",
      "\n"
     ]
    },
    {
     "data": {
      "image/png": "[encoded data removed]",
      "text/plain": [
       "<Figure size 432x288 with 1 Axes>"
      ]
     },
     "metadata": {
      "needs_background": "light"
     },
     "output_type": "display_data"
    },
    {
     "name": "stdout",
     "output_type": "stream",
     "text": [
      "Work on Beauty & Spas ...\n",
      "Filter businesses from category Arts & Entertainment [arts] (6304 businesses) ...\n",
      "Filtered 20972 businesses (overlap with Arts & Entertainment)\n"
     ]
    },
    {
     "name": "stderr",
     "output_type": "stream",
     "text": [
      "100%|██████████| 4944/4944 [00:22<00:00, 219.46it/s]\n"
     ]
    },
    {
     "name": "stdout",
     "output_type": "stream",
     "text": [
      "#ss (pos) 9888\n",
      "#ss (neg) 9888\n"
     ]
    },
    {
     "name": "stderr",
     "output_type": "stream",
     "text": [
      "100%|██████████| 4944/4944 [00:20<00:00, 246.05it/s]\n"
     ]
    },
    {
     "name": "stdout",
     "output_type": "stream",
     "text": [
      "#nss 19776\n",
      "#~ss 39552\n",
      "review pairs: 39552\n"
     ]
    },
    {
     "name": "stderr",
     "output_type": "stream",
     "text": [
      "\r",
      "  0%|          | 0/1236 [00:00<?, ?it/s]"
     ]
    },
    {
     "name": "stdout",
     "output_type": "stream",
     "text": [
      "Start on [prediction] ...\n"
     ]
    },
    {
     "name": "stderr",
     "output_type": "stream",
     "text": [
      "100%|██████████| 1236/1236 [08:15<00:00,  2.55it/s]\n"
     ]
    },
    {
     "name": "stdout",
     "output_type": "stream",
     "text": [
      "Time for [prediction]: 0:08:15.651335\n",
      "Confusion Matrix:\n",
      "[[13438  6338]\n",
      " [ 4977 14799]]\n",
      "\n",
      "CM: [13438  6338  4977 14799] \n",
      "[tn, fp, fn, tp]\n",
      "  accuracy: 0.714\n",
      " precision: 0.715\n",
      "    recall: 0.714\n",
      "  f1-score: 0.714\n",
      "\n",
      "Accuracy:  0.714 \n",
      "\n",
      "Report for [BERTClassifier - yelp_3_arts_pro128BCE - Arts & Entertainment-->Beauty & Spas]:\n",
      "              precision    recall  f1-score   support\n",
      "\n",
      "           0       0.73      0.68      0.70     19776\n",
      "           1       0.70      0.75      0.72     19776\n",
      "\n",
      "    accuracy                           0.71     39552\n",
      "   macro avg       0.71      0.71      0.71     39552\n",
      "weighted avg       0.71      0.71      0.71     39552\n",
      "\n"
     ]
    },
    {
     "data": {
      "image/png": "[encoded data removed]",
      "text/plain": [
       "<Figure size 432x288 with 1 Axes>"
      ]
     },
     "metadata": {
      "needs_background": "light"
     },
     "output_type": "display_data"
    },
    {
     "name": "stderr",
     "output_type": "stream",
     "text": [
      "100%|██████████| 1/1 [00:00<00:00, 209.78it/s]\n",
      "100%|██████████| 1/1 [00:00<00:00, 343.06it/s]\n",
      "  0%|          | 0/1 [00:00<?, ?it/s]"
     ]
    },
    {
     "name": "stdout",
     "output_type": "stream",
     "text": [
      "Work on Bicycles ...\n",
      "Filter businesses from category Arts & Entertainment [arts] (6304 businesses) ...\n",
      "Filtered 0 businesses (overlap with Arts & Entertainment)\n",
      "#ss (pos) 2\n",
      "#ss (neg) 2\n",
      "#nss 4\n",
      "#~ss 8\n",
      "review pairs: 8\n",
      "Start on [prediction] ...\n"
     ]
    },
    {
     "name": "stderr",
     "output_type": "stream",
     "text": [
      "100%|██████████| 1/1 [00:00<00:00,  9.08it/s]\n"
     ]
    },
    {
     "name": "stdout",
     "output_type": "stream",
     "text": [
      "Time for [prediction]: 0:00:00.122218\n",
      "Confusion Matrix:\n",
      "[[2 2]\n",
      " [3 1]]\n",
      "\n",
      "CM: [2 2 3 1] \n",
      "[tn, fp, fn, tp]\n",
      "  accuracy: 0.375\n",
      " precision: 0.367\n",
      "    recall: 0.375\n",
      "  f1-score: 0.365\n",
      "\n",
      "Accuracy:  0.375 \n",
      "\n",
      "Report for [BERTClassifier - yelp_3_arts_pro128BCE - Arts & Entertainment-->Bicycles]:\n",
      "              precision    recall  f1-score   support\n",
      "\n",
      "           0       0.40      0.50      0.44         4\n",
      "           1       0.33      0.25      0.29         4\n",
      "\n",
      "    accuracy                           0.38         8\n",
      "   macro avg       0.37      0.38      0.37         8\n",
      "weighted avg       0.37      0.38      0.37         8\n",
      "\n"
     ]
    },
    {
     "data": {
      "image/png": "[encoded data removed]",
      "text/plain": [
       "<Figure size 432x288 with 1 Axes>"
      ]
     },
     "metadata": {
      "needs_background": "light"
     },
     "output_type": "display_data"
    },
    {
     "name": "stdout",
     "output_type": "stream",
     "text": [
      "Work on Education ...\n",
      "Filter businesses from category Arts & Entertainment [arts] (6304 businesses) ...\n",
      "Filtered 10659 businesses (overlap with Arts & Entertainment)\n"
     ]
    },
    {
     "name": "stderr",
     "output_type": "stream",
     "text": [
      "100%|██████████| 371/371 [00:01<00:00, 206.50it/s]\n",
      "  5%|▌         | 19/371 [00:00<00:01, 189.38it/s]"
     ]
    },
    {
     "name": "stdout",
     "output_type": "stream",
     "text": [
      "#ss (pos) 742\n",
      "#ss (neg) 742\n"
     ]
    },
    {
     "name": "stderr",
     "output_type": "stream",
     "text": [
      "100%|██████████| 371/371 [00:01<00:00, 214.01it/s]\n"
     ]
    },
    {
     "name": "stdout",
     "output_type": "stream",
     "text": [
      "#nss 1484\n",
      "#~ss 2968\n",
      "review pairs: 2968\n"
     ]
    },
    {
     "name": "stderr",
     "output_type": "stream",
     "text": [
      "\r",
      "  0%|          | 0/93 [00:00<?, ?it/s]"
     ]
    },
    {
     "name": "stdout",
     "output_type": "stream",
     "text": [
      "Start on [prediction] ...\n"
     ]
    },
    {
     "name": "stderr",
     "output_type": "stream",
     "text": [
      "100%|██████████| 93/93 [00:44<00:00,  2.41it/s]\n"
     ]
    },
    {
     "name": "stdout",
     "output_type": "stream",
     "text": [
      "Time for [prediction]: 0:00:44.760396\n",
      "Confusion Matrix:\n",
      "[[ 984  500]\n",
      " [ 462 1022]]\n",
      "\n",
      "CM: [ 984  500  462 1022] \n",
      "[tn, fp, fn, tp]\n",
      "  accuracy: 0.676\n",
      " precision: 0.676\n",
      "    recall: 0.676\n",
      "  f1-score: 0.676\n",
      "\n",
      "Accuracy:  0.676 \n",
      "\n",
      "Report for [BERTClassifier - yelp_3_arts_pro128BCE - Arts & Entertainment-->Education]:\n",
      "              precision    recall  f1-score   support\n",
      "\n",
      "           0       0.68      0.66      0.67      1484\n",
      "           1       0.67      0.69      0.68      1484\n",
      "\n",
      "    accuracy                           0.68      2968\n",
      "   macro avg       0.68      0.68      0.68      2968\n",
      "weighted avg       0.68      0.68      0.68      2968\n",
      "\n"
     ]
    },
    {
     "data": {
      "image/png": "[encoded data removed]",
      "text/plain": [
       "<Figure size 432x288 with 1 Axes>"
      ]
     },
     "metadata": {
      "needs_background": "light"
     },
     "output_type": "display_data"
    },
    {
     "name": "stdout",
     "output_type": "stream",
     "text": [
      "Work on Event Planning & Services ...\n",
      "Filter businesses from category Arts & Entertainment [arts] (6304 businesses) ...\n",
      "Filtered 178906 businesses (overlap with Arts & Entertainment)\n"
     ]
    },
    {
     "name": "stderr",
     "output_type": "stream",
     "text": [
      "100%|██████████| 3200/3200 [00:15<00:00, 200.22it/s]\n"
     ]
    },
    {
     "name": "stdout",
     "output_type": "stream",
     "text": [
      "#ss (pos) 6400\n",
      "#ss (neg) 6400\n"
     ]
    },
    {
     "name": "stderr",
     "output_type": "stream",
     "text": [
      "100%|██████████| 3200/3200 [00:14<00:00, 216.27it/s]\n"
     ]
    },
    {
     "name": "stdout",
     "output_type": "stream",
     "text": [
      "#nss 12800\n",
      "#~ss 25600\n",
      "review pairs: 25600\n"
     ]
    },
    {
     "name": "stderr",
     "output_type": "stream",
     "text": [
      "\r",
      "  0%|          | 0/800 [00:00<?, ?it/s]"
     ]
    },
    {
     "name": "stdout",
     "output_type": "stream",
     "text": [
      "Start on [prediction] ...\n"
     ]
    },
    {
     "name": "stderr",
     "output_type": "stream",
     "text": [
      "100%|██████████| 800/800 [05:43<00:00,  2.25it/s]\n"
     ]
    },
    {
     "name": "stdout",
     "output_type": "stream",
     "text": [
      "Time for [prediction]: 0:05:43.054392\n",
      "Confusion Matrix:\n",
      "[[8209 4591]\n",
      " [4390 8410]]\n",
      "\n",
      "CM: [8209 4591 4390 8410] \n",
      "[tn, fp, fn, tp]\n",
      "  accuracy: 0.649\n",
      " precision: 0.649\n",
      "    recall: 0.649\n",
      "  f1-score: 0.649\n",
      "\n",
      "Accuracy:  0.649 \n",
      "\n",
      "Report for [BERTClassifier - yelp_3_arts_pro128BCE - Arts & Entertainment-->Event Planning & Services]:\n",
      "              precision    recall  f1-score   support\n",
      "\n",
      "           0       0.65      0.64      0.65     12800\n",
      "           1       0.65      0.66      0.65     12800\n",
      "\n",
      "    accuracy                           0.65     25600\n",
      "   macro avg       0.65      0.65      0.65     25600\n",
      "weighted avg       0.65      0.65      0.65     25600\n",
      "\n"
     ]
    },
    {
     "data": {
      "image/png": "[encoded data removed]",
      "text/plain": [
       "<Figure size 432x288 with 1 Axes>"
      ]
     },
     "metadata": {
      "needs_background": "light"
     },
     "output_type": "display_data"
    },
    {
     "name": "stderr",
     "output_type": "stream",
     "text": [
      "\r",
      "  0%|          | 0/295 [00:00<?, ?it/s]"
     ]
    },
    {
     "name": "stdout",
     "output_type": "stream",
     "text": [
      "Work on Financial Services ...\n",
      "Filter businesses from category Arts & Entertainment [arts] (6304 businesses) ...\n",
      "Filtered 305 businesses (overlap with Arts & Entertainment)\n"
     ]
    },
    {
     "name": "stderr",
     "output_type": "stream",
     "text": [
      "100%|██████████| 295/295 [00:01<00:00, 246.03it/s]\n",
      "  8%|▊         | 25/295 [00:00<00:01, 241.54it/s]"
     ]
    },
    {
     "name": "stdout",
     "output_type": "stream",
     "text": [
      "#ss (pos) 590\n",
      "#ss (neg) 590\n"
     ]
    },
    {
     "name": "stderr",
     "output_type": "stream",
     "text": [
      "100%|██████████| 295/295 [00:01<00:00, 275.07it/s]\n"
     ]
    },
    {
     "name": "stdout",
     "output_type": "stream",
     "text": [
      "#nss 1180\n",
      "#~ss 2360\n",
      "review pairs: 2360\n"
     ]
    },
    {
     "name": "stderr",
     "output_type": "stream",
     "text": [
      "\r",
      "  0%|          | 0/74 [00:00<?, ?it/s]"
     ]
    },
    {
     "name": "stdout",
     "output_type": "stream",
     "text": [
      "Start on [prediction] ...\n"
     ]
    },
    {
     "name": "stderr",
     "output_type": "stream",
     "text": [
      "100%|██████████| 74/74 [00:28<00:00,  2.61it/s]"
     ]
    },
    {
     "name": "stdout",
     "output_type": "stream",
     "text": [
      "Time for [prediction]: 0:00:28.697304\n",
      "Confusion Matrix:\n",
      "[[810 370]\n",
      " [294 886]]\n",
      "\n",
      "CM: [810 370 294 886] \n",
      "[tn, fp, fn, tp]\n",
      "  accuracy: 0.719\n",
      " precision: 0.720\n",
      "    recall: 0.719\n",
      "  f1-score: 0.718\n",
      "\n",
      "Accuracy:  0.719 \n",
      "\n",
      "Report for [BERTClassifier - yelp_3_arts_pro128BCE - Arts & Entertainment-->Financial Services]:\n",
      "              precision    recall  f1-score   support\n",
      "\n",
      "           0       0.73      0.69      0.71      1180\n",
      "           1       0.71      0.75      0.73      1180\n",
      "\n",
      "    accuracy                           0.72      2360\n",
      "   macro avg       0.72      0.72      0.72      2360\n",
      "weighted avg       0.72      0.72      0.72      2360\n",
      "\n"
     ]
    },
    {
     "name": "stderr",
     "output_type": "stream",
     "text": [
      "\n"
     ]
    },
    {
     "data": {
      "image/png": "[encoded data removed]",
      "text/plain": [
       "<Figure size 432x288 with 1 Axes>"
      ]
     },
     "metadata": {
      "needs_background": "light"
     },
     "output_type": "display_data"
    },
    {
     "name": "stdout",
     "output_type": "stream",
     "text": [
      "Work on Food ...\n",
      "Filter businesses from category Arts & Entertainment [arts] (6304 businesses) ...\n",
      "Filtered 53758 businesses (overlap with Arts & Entertainment)\n"
     ]
    },
    {
     "name": "stderr",
     "output_type": "stream",
     "text": [
      "100%|██████████| 12486/12486 [01:00<00:00, 207.25it/s]\n"
     ]
    },
    {
     "name": "stdout",
     "output_type": "stream",
     "text": [
      "#ss (pos) 24972\n",
      "#ss (neg) 24972\n"
     ]
    },
    {
     "name": "stderr",
     "output_type": "stream",
     "text": [
      "100%|██████████| 12486/12486 [00:54<00:00, 227.76it/s]\n"
     ]
    },
    {
     "name": "stdout",
     "output_type": "stream",
     "text": [
      "#nss 49944\n",
      "#~ss 99888\n",
      "review pairs: 99888\n"
     ]
    },
    {
     "name": "stderr",
     "output_type": "stream",
     "text": [
      "\r",
      "  0%|          | 0/3122 [00:00<?, ?it/s]"
     ]
    },
    {
     "name": "stdout",
     "output_type": "stream",
     "text": [
      "Start on [prediction] ...\n"
     ]
    },
    {
     "name": "stderr",
     "output_type": "stream",
     "text": [
      "100%|██████████| 3122/3122 [19:49<00:00,  3.49it/s]\n"
     ]
    },
    {
     "name": "stdout",
     "output_type": "stream",
     "text": [
      "Time for [prediction]: 0:19:49.869127\n",
      "Confusion Matrix:\n",
      "[[31446 18498]\n",
      " [17336 32608]]\n",
      "\n",
      "CM: [31446 18498 17336 32608] \n",
      "[tn, fp, fn, tp]\n",
      "  accuracy: 0.641\n",
      " precision: 0.641\n",
      "    recall: 0.641\n",
      "  f1-score: 0.641\n",
      "\n",
      "Accuracy:  0.641 \n",
      "\n",
      "Report for [BERTClassifier - yelp_3_arts_pro128BCE - Arts & Entertainment-->Food]:\n",
      "              precision    recall  f1-score   support\n",
      "\n",
      "           0       0.64      0.63      0.64     49944\n",
      "           1       0.64      0.65      0.65     49944\n",
      "\n",
      "    accuracy                           0.64     99888\n",
      "   macro avg       0.64      0.64      0.64     99888\n",
      "weighted avg       0.64      0.64      0.64     99888\n",
      "\n"
     ]
    },
    {
     "data": {
      "image/png": "[encoded data removed]",
      "text/plain": [
       "<Figure size 432x288 with 1 Axes>"
      ]
     },
     "metadata": {
      "needs_background": "light"
     },
     "output_type": "display_data"
    },
    {
     "name": "stdout",
     "output_type": "stream",
     "text": [
      "Work on Health & Medical ...\n",
      "Filter businesses from category Arts & Entertainment [arts] (6304 businesses) ...\n",
      "Filtered 1933 businesses (overlap with Arts & Entertainment)\n"
     ]
    },
    {
     "name": "stderr",
     "output_type": "stream",
     "text": [
      "100%|██████████| 3167/3167 [00:13<00:00, 239.18it/s]\n"
     ]
    },
    {
     "name": "stdout",
     "output_type": "stream",
     "text": [
      "#ss (pos) 6334\n",
      "#ss (neg) 6334\n"
     ]
    },
    {
     "name": "stderr",
     "output_type": "stream",
     "text": [
      "100%|██████████| 3167/3167 [00:13<00:00, 234.64it/s]\n"
     ]
    },
    {
     "name": "stdout",
     "output_type": "stream",
     "text": [
      "#nss 12668\n",
      "#~ss 25336\n",
      "review pairs: 25336\n"
     ]
    },
    {
     "name": "stderr",
     "output_type": "stream",
     "text": [
      "\r",
      "  0%|          | 0/792 [00:00<?, ?it/s]"
     ]
    },
    {
     "name": "stdout",
     "output_type": "stream",
     "text": [
      "Start on [prediction] ...\n"
     ]
    },
    {
     "name": "stderr",
     "output_type": "stream",
     "text": [
      "100%|██████████| 792/792 [07:50<00:00,  1.67it/s]\n"
     ]
    },
    {
     "name": "stdout",
     "output_type": "stream",
     "text": [
      "Time for [prediction]: 0:07:50.152600\n",
      "Confusion Matrix:\n",
      "[[8348 4320]\n",
      " [3037 9631]]\n",
      "\n",
      "CM: [8348 4320 3037 9631] \n",
      "[tn, fp, fn, tp]\n",
      "  accuracy: 0.710\n",
      " precision: 0.712\n",
      "    recall: 0.710\n",
      "  f1-score: 0.709\n",
      "\n",
      "Accuracy:  0.71 \n",
      "\n",
      "Report for [BERTClassifier - yelp_3_arts_pro128BCE - Arts & Entertainment-->Health & Medical]:\n",
      "              precision    recall  f1-score   support\n",
      "\n",
      "           0       0.73      0.66      0.69     12668\n",
      "           1       0.69      0.76      0.72     12668\n",
      "\n",
      "    accuracy                           0.71     25336\n",
      "   macro avg       0.71      0.71      0.71     25336\n",
      "weighted avg       0.71      0.71      0.71     25336\n",
      "\n"
     ]
    },
    {
     "data": {
      "image/png": "[encoded data removed]",
      "text/plain": [
       "<Figure size 432x288 with 1 Axes>"
      ]
     },
     "metadata": {
      "needs_background": "light"
     },
     "output_type": "display_data"
    },
    {
     "name": "stdout",
     "output_type": "stream",
     "text": [
      "Work on Home Services ...\n",
      "Filter businesses from category Arts & Entertainment [arts] (6304 businesses) ...\n",
      "Filtered 4354 businesses (overlap with Arts & Entertainment)\n"
     ]
    },
    {
     "name": "stderr",
     "output_type": "stream",
     "text": [
      "100%|██████████| 3070/3070 [00:14<00:00, 209.40it/s]\n"
     ]
    },
    {
     "name": "stdout",
     "output_type": "stream",
     "text": [
      "#ss (pos) 6140\n",
      "#ss (neg) 6140\n"
     ]
    },
    {
     "name": "stderr",
     "output_type": "stream",
     "text": [
      "100%|██████████| 3070/3070 [00:14<00:00, 210.52it/s]\n"
     ]
    },
    {
     "name": "stdout",
     "output_type": "stream",
     "text": [
      "#nss 12280\n",
      "#~ss 24560\n",
      "review pairs: 24560\n"
     ]
    },
    {
     "name": "stderr",
     "output_type": "stream",
     "text": [
      "\r",
      "  0%|          | 0/768 [00:00<?, ?it/s]"
     ]
    },
    {
     "name": "stdout",
     "output_type": "stream",
     "text": [
      "Start on [prediction] ...\n"
     ]
    },
    {
     "name": "stderr",
     "output_type": "stream",
     "text": [
      "100%|██████████| 768/768 [05:50<00:00,  2.85it/s]\n"
     ]
    },
    {
     "name": "stdout",
     "output_type": "stream",
     "text": [
      "Time for [prediction]: 0:05:50.592238\n",
      "Confusion Matrix:\n",
      "[[7993 4287]\n",
      " [2900 9380]]\n",
      "\n",
      "CM: [7993 4287 2900 9380] \n",
      "[tn, fp, fn, tp]\n",
      "  accuracy: 0.707\n",
      " precision: 0.710\n",
      "    recall: 0.707\n",
      "  f1-score: 0.706\n",
      "\n",
      "Accuracy:  0.707 \n",
      "\n",
      "Report for [BERTClassifier - yelp_3_arts_pro128BCE - Arts & Entertainment-->Home Services]:\n",
      "              precision    recall  f1-score   support\n",
      "\n",
      "           0       0.73      0.65      0.69     12280\n",
      "           1       0.69      0.76      0.72     12280\n",
      "\n",
      "    accuracy                           0.71     24560\n",
      "   macro avg       0.71      0.71      0.71     24560\n",
      "weighted avg       0.71      0.71      0.71     24560\n",
      "\n"
     ]
    },
    {
     "data": {
      "image/png": "[encoded data removed]",
      "text/plain": [
       "<Figure size 432x288 with 1 Axes>"
      ]
     },
     "metadata": {
      "needs_background": "light"
     },
     "output_type": "display_data"
    },
    {
     "name": "stdout",
     "output_type": "stream",
     "text": [
      "Work on Hotels & Travel ...\n",
      "Filter businesses from category Arts & Entertainment [arts] (6304 businesses) ...\n",
      "Filtered 138341 businesses (overlap with Arts & Entertainment)\n"
     ]
    },
    {
     "name": "stderr",
     "output_type": "stream",
     "text": [
      "100%|██████████| 2013/2013 [00:09<00:00, 222.72it/s]\n"
     ]
    },
    {
     "name": "stdout",
     "output_type": "stream",
     "text": [
      "#ss (pos) 4026\n",
      "#ss (neg) 4026\n"
     ]
    },
    {
     "name": "stderr",
     "output_type": "stream",
     "text": [
      "100%|██████████| 2013/2013 [00:08<00:00, 237.78it/s]\n"
     ]
    },
    {
     "name": "stdout",
     "output_type": "stream",
     "text": [
      "#nss 8052\n",
      "#~ss 16104\n",
      "review pairs: 16104\n"
     ]
    },
    {
     "name": "stderr",
     "output_type": "stream",
     "text": [
      "\r",
      "  0%|          | 0/504 [00:00<?, ?it/s]"
     ]
    },
    {
     "name": "stdout",
     "output_type": "stream",
     "text": [
      "Start on [prediction] ...\n"
     ]
    },
    {
     "name": "stderr",
     "output_type": "stream",
     "text": [
      "100%|██████████| 504/504 [03:47<00:00,  2.53it/s]\n"
     ]
    },
    {
     "name": "stdout",
     "output_type": "stream",
     "text": [
      "Time for [prediction]: 0:03:47.831880\n",
      "Confusion Matrix:\n",
      "[[5319 2733]\n",
      " [2719 5333]]\n",
      "\n",
      "CM: [5319 2733 2719 5333] \n",
      "[tn, fp, fn, tp]\n",
      "  accuracy: 0.661\n",
      " precision: 0.661\n",
      "    recall: 0.661\n",
      "  f1-score: 0.661\n",
      "\n",
      "Accuracy:  0.661 \n",
      "\n",
      "Report for [BERTClassifier - yelp_3_arts_pro128BCE - Arts & Entertainment-->Hotels & Travel]:\n",
      "              precision    recall  f1-score   support\n",
      "\n",
      "           0       0.66      0.66      0.66      8052\n",
      "           1       0.66      0.66      0.66      8052\n",
      "\n",
      "    accuracy                           0.66     16104\n",
      "   macro avg       0.66      0.66      0.66     16104\n",
      "weighted avg       0.66      0.66      0.66     16104\n",
      "\n"
     ]
    },
    {
     "data": {
      "image/png": "[encoded data removed]",
      "text/plain": [
       "<Figure size 432x288 with 1 Axes>"
      ]
     },
     "metadata": {
      "needs_background": "light"
     },
     "output_type": "display_data"
    },
    {
     "name": "stdout",
     "output_type": "stream",
     "text": [
      "Work on Local Flavor ...\n",
      "Filter businesses from category Arts & Entertainment [arts] (6304 businesses) ...\n",
      "Filtered 33475 businesses (overlap with Arts & Entertainment)\n"
     ]
    },
    {
     "name": "stderr",
     "output_type": "stream",
     "text": [
      "100%|██████████| 369/369 [00:02<00:00, 172.66it/s]\n",
      "  4%|▍         | 14/369 [00:00<00:02, 139.37it/s]"
     ]
    },
    {
     "name": "stdout",
     "output_type": "stream",
     "text": [
      "#ss (pos) 738\n",
      "#ss (neg) 738\n"
     ]
    },
    {
     "name": "stderr",
     "output_type": "stream",
     "text": [
      "100%|██████████| 369/369 [00:02<00:00, 175.24it/s]\n"
     ]
    },
    {
     "name": "stdout",
     "output_type": "stream",
     "text": [
      "#nss 1476\n",
      "#~ss 2952\n",
      "review pairs: 2952\n"
     ]
    },
    {
     "name": "stderr",
     "output_type": "stream",
     "text": [
      "\r",
      "  0%|          | 0/93 [00:00<?, ?it/s]"
     ]
    },
    {
     "name": "stdout",
     "output_type": "stream",
     "text": [
      "Start on [prediction] ...\n"
     ]
    },
    {
     "name": "stderr",
     "output_type": "stream",
     "text": [
      "100%|██████████| 93/93 [00:35<00:00,  3.71it/s]\n"
     ]
    },
    {
     "name": "stdout",
     "output_type": "stream",
     "text": [
      "Time for [prediction]: 0:00:35.814014\n",
      "Confusion Matrix:\n",
      "[[933 543]\n",
      " [535 941]]\n",
      "\n",
      "CM: [933 543 535 941] \n",
      "[tn, fp, fn, tp]\n",
      "  accuracy: 0.635\n",
      " precision: 0.635\n",
      "    recall: 0.635\n",
      "  f1-score: 0.635\n",
      "\n",
      "Accuracy:  0.635 \n",
      "\n",
      "Report for [BERTClassifier - yelp_3_arts_pro128BCE - Arts & Entertainment-->Local Flavor]:\n",
      "              precision    recall  f1-score   support\n",
      "\n",
      "           0       0.64      0.63      0.63      1476\n",
      "           1       0.63      0.64      0.64      1476\n",
      "\n",
      "    accuracy                           0.63      2952\n",
      "   macro avg       0.63      0.63      0.63      2952\n",
      "weighted avg       0.63      0.63      0.63      2952\n",
      "\n"
     ]
    },
    {
     "data": {
      "image/png": "[encoded data removed]",
      "text/plain": [
       "<Figure size 432x288 with 1 Axes>"
      ]
     },
     "metadata": {
      "needs_background": "light"
     },
     "output_type": "display_data"
    },
    {
     "name": "stdout",
     "output_type": "stream",
     "text": [
      "Work on Local Services ...\n",
      "Filter businesses from category Arts & Entertainment [arts] (6304 businesses) ...\n",
      "Filtered 5008 businesses (overlap with Arts & Entertainment)\n"
     ]
    },
    {
     "name": "stderr",
     "output_type": "stream",
     "text": [
      "100%|██████████| 2287/2287 [00:10<00:00, 208.95it/s]\n",
      "  0%|          | 0/2287 [00:00<?, ?it/s]"
     ]
    },
    {
     "name": "stdout",
     "output_type": "stream",
     "text": [
      "#ss (pos) 4574\n",
      "#ss (neg) 4574\n"
     ]
    },
    {
     "name": "stderr",
     "output_type": "stream",
     "text": [
      "100%|██████████| 2287/2287 [00:09<00:00, 241.73it/s]\n"
     ]
    },
    {
     "name": "stdout",
     "output_type": "stream",
     "text": [
      "#nss 9148\n",
      "#~ss 18296\n",
      "review pairs: 18296\n"
     ]
    },
    {
     "name": "stderr",
     "output_type": "stream",
     "text": [
      "\r",
      "  0%|          | 0/572 [00:00<?, ?it/s]"
     ]
    },
    {
     "name": "stdout",
     "output_type": "stream",
     "text": [
      "Start on [prediction] ...\n"
     ]
    },
    {
     "name": "stderr",
     "output_type": "stream",
     "text": [
      "100%|██████████| 572/572 [03:54<00:00,  2.42it/s]\n"
     ]
    },
    {
     "name": "stdout",
     "output_type": "stream",
     "text": [
      "Time for [prediction]: 0:03:54.675026\n",
      "Confusion Matrix:\n",
      "[[5951 3197]\n",
      " [2376 6772]]\n",
      "\n",
      "CM: [5951 3197 2376 6772] \n",
      "[tn, fp, fn, tp]\n",
      "  accuracy: 0.695\n",
      " precision: 0.697\n",
      "    recall: 0.695\n",
      "  f1-score: 0.695\n",
      "\n",
      "Accuracy:  0.695 \n",
      "\n",
      "Report for [BERTClassifier - yelp_3_arts_pro128BCE - Arts & Entertainment-->Local Services]:\n",
      "              precision    recall  f1-score   support\n",
      "\n",
      "           0       0.71      0.65      0.68      9148\n",
      "           1       0.68      0.74      0.71      9148\n",
      "\n",
      "    accuracy                           0.70     18296\n",
      "   macro avg       0.70      0.70      0.69     18296\n",
      "weighted avg       0.70      0.70      0.69     18296\n",
      "\n"
     ]
    },
    {
     "data": {
      "image/png": "[encoded data removed]",
      "text/plain": [
       "<Figure size 432x288 with 1 Axes>"
      ]
     },
     "metadata": {
      "needs_background": "light"
     },
     "output_type": "display_data"
    },
    {
     "name": "stderr",
     "output_type": "stream",
     "text": [
      "\r",
      "  0%|          | 0/34 [00:00<?, ?it/s]"
     ]
    },
    {
     "name": "stdout",
     "output_type": "stream",
     "text": [
      "Work on Mass Media ...\n",
      "Filter businesses from category Arts & Entertainment [arts] (6304 businesses) ...\n",
      "Filtered 237 businesses (overlap with Arts & Entertainment)\n"
     ]
    },
    {
     "name": "stderr",
     "output_type": "stream",
     "text": [
      "100%|██████████| 34/34 [00:00<00:00, 127.17it/s]\n",
      " 44%|████▍     | 15/34 [00:00<00:00, 132.03it/s]"
     ]
    },
    {
     "name": "stdout",
     "output_type": "stream",
     "text": [
      "#ss (pos) 68\n",
      "#ss (neg) 68\n"
     ]
    },
    {
     "name": "stderr",
     "output_type": "stream",
     "text": [
      "100%|██████████| 34/34 [00:00<00:00, 130.29it/s]\n",
      "  0%|          | 0/9 [00:00<?, ?it/s]"
     ]
    },
    {
     "name": "stdout",
     "output_type": "stream",
     "text": [
      "#nss 136\n",
      "#~ss 272\n",
      "review pairs: 272\n",
      "Start on [prediction] ...\n"
     ]
    },
    {
     "name": "stderr",
     "output_type": "stream",
     "text": [
      "100%|██████████| 9/9 [00:03<00:00,  2.51it/s]"
     ]
    },
    {
     "name": "stdout",
     "output_type": "stream",
     "text": [
      "Time for [prediction]: 0:00:03.918802\n",
      "Confusion Matrix:\n",
      "[[100  36]\n",
      " [ 46  90]]\n",
      "\n",
      "CM: [100  36  46  90] \n",
      "[tn, fp, fn, tp]\n",
      "  accuracy: 0.699\n",
      " precision: 0.700\n",
      "    recall: 0.699\n",
      "  f1-score: 0.698\n",
      "\n",
      "Accuracy:  0.699 \n",
      "\n",
      "Report for [BERTClassifier - yelp_3_arts_pro128BCE - Arts & Entertainment-->Mass Media]:\n",
      "              precision    recall  f1-score   support\n",
      "\n",
      "           0       0.68      0.74      0.71       136\n",
      "           1       0.71      0.66      0.69       136\n",
      "\n",
      "    accuracy                           0.70       272\n",
      "   macro avg       0.70      0.70      0.70       272\n",
      "weighted avg       0.70      0.70      0.70       272\n",
      "\n"
     ]
    },
    {
     "name": "stderr",
     "output_type": "stream",
     "text": [
      "\n"
     ]
    },
    {
     "data": {
      "image/png": "[encoded data removed]",
      "text/plain": [
       "<Figure size 432x288 with 1 Axes>"
      ]
     },
     "metadata": {
      "needs_background": "light"
     },
     "output_type": "display_data"
    },
    {
     "name": "stdout",
     "output_type": "stream",
     "text": [
      "Work on Nightlife ...\n",
      "Filter businesses from category Arts & Entertainment [arts] (6304 businesses) ...\n",
      "Filtered 173152 businesses (overlap with Arts & Entertainment)\n"
     ]
    },
    {
     "name": "stderr",
     "output_type": "stream",
     "text": [
      "100%|██████████| 7109/7109 [00:32<00:00, 218.95it/s]\n"
     ]
    },
    {
     "name": "stdout",
     "output_type": "stream",
     "text": [
      "#ss (pos) 14218\n",
      "#ss (neg) 14218\n"
     ]
    },
    {
     "name": "stderr",
     "output_type": "stream",
     "text": [
      "100%|██████████| 7109/7109 [00:31<00:00, 228.44it/s]\n"
     ]
    },
    {
     "name": "stdout",
     "output_type": "stream",
     "text": [
      "#nss 28436\n",
      "#~ss 56872\n",
      "review pairs: 56872\n"
     ]
    },
    {
     "name": "stderr",
     "output_type": "stream",
     "text": [
      "\r",
      "  0%|          | 0/1778 [00:00<?, ?it/s]"
     ]
    },
    {
     "name": "stdout",
     "output_type": "stream",
     "text": [
      "Start on [prediction] ...\n"
     ]
    },
    {
     "name": "stderr",
     "output_type": "stream",
     "text": [
      "100%|██████████| 1778/1778 [11:44<00:00,  2.55it/s]\n"
     ]
    },
    {
     "name": "stdout",
     "output_type": "stream",
     "text": [
      "Time for [prediction]: 0:11:44.933560\n",
      "Confusion Matrix:\n",
      "[[18605  9831]\n",
      " [10777 17659]]\n",
      "\n",
      "CM: [18605  9831 10777 17659] \n",
      "[tn, fp, fn, tp]\n",
      "  accuracy: 0.638\n",
      " precision: 0.638\n",
      "    recall: 0.638\n",
      "  f1-score: 0.638\n",
      "\n",
      "Accuracy:  0.638 \n",
      "\n",
      "Report for [BERTClassifier - yelp_3_arts_pro128BCE - Arts & Entertainment-->Nightlife]:\n",
      "              precision    recall  f1-score   support\n",
      "\n",
      "           0       0.63      0.65      0.64     28436\n",
      "           1       0.64      0.62      0.63     28436\n",
      "\n",
      "    accuracy                           0.64     56872\n",
      "   macro avg       0.64      0.64      0.64     56872\n",
      "weighted avg       0.64      0.64      0.64     56872\n",
      "\n"
     ]
    },
    {
     "data": {
      "image/png": "[encoded data removed]",
      "text/plain": [
       "<Figure size 432x288 with 1 Axes>"
      ]
     },
     "metadata": {
      "needs_background": "light"
     },
     "output_type": "display_data"
    },
    {
     "name": "stdout",
     "output_type": "stream",
     "text": [
      "Work on Pets ...\n",
      "Filter businesses from category Arts & Entertainment [arts] (6304 businesses) ...\n",
      "Filtered 1110 businesses (overlap with Arts & Entertainment)\n"
     ]
    },
    {
     "name": "stderr",
     "output_type": "stream",
     "text": [
      "100%|██████████| 989/989 [00:04<00:00, 220.67it/s]\n",
      "  0%|          | 0/989 [00:00<?, ?it/s]"
     ]
    },
    {
     "name": "stdout",
     "output_type": "stream",
     "text": [
      "#ss (pos) 1978\n",
      "#ss (neg) 1978\n"
     ]
    },
    {
     "name": "stderr",
     "output_type": "stream",
     "text": [
      "100%|██████████| 989/989 [00:04<00:00, 242.59it/s]\n"
     ]
    },
    {
     "name": "stdout",
     "output_type": "stream",
     "text": [
      "#nss 3956\n",
      "#~ss 7912\n",
      "review pairs: 7912\n"
     ]
    },
    {
     "name": "stderr",
     "output_type": "stream",
     "text": [
      "\r",
      "  0%|          | 0/248 [00:00<?, ?it/s]"
     ]
    },
    {
     "name": "stdout",
     "output_type": "stream",
     "text": [
      "Start on [prediction] ...\n"
     ]
    },
    {
     "name": "stderr",
     "output_type": "stream",
     "text": [
      "100%|██████████| 248/248 [01:52<00:00,  2.83it/s]\n"
     ]
    },
    {
     "name": "stdout",
     "output_type": "stream",
     "text": [
      "Time for [prediction]: 0:01:52.058610\n",
      "Confusion Matrix:\n",
      "[[2673 1283]\n",
      " [1177 2779]]\n",
      "\n",
      "CM: [2673 1283 1177 2779] \n",
      "[tn, fp, fn, tp]\n",
      "  accuracy: 0.689\n",
      " precision: 0.689\n",
      "    recall: 0.689\n",
      "  f1-score: 0.689\n",
      "\n",
      "Accuracy:  0.689 \n",
      "\n",
      "Report for [BERTClassifier - yelp_3_arts_pro128BCE - Arts & Entertainment-->Pets]:\n",
      "              precision    recall  f1-score   support\n",
      "\n",
      "           0       0.69      0.68      0.68      3956\n",
      "           1       0.68      0.70      0.69      3956\n",
      "\n",
      "    accuracy                           0.69      7912\n",
      "   macro avg       0.69      0.69      0.69      7912\n",
      "weighted avg       0.69      0.69      0.69      7912\n",
      "\n"
     ]
    },
    {
     "data": {
      "image/png": "[encoded data removed]",
      "text/plain": [
       "<Figure size 432x288 with 1 Axes>"
      ]
     },
     "metadata": {
      "needs_background": "light"
     },
     "output_type": "display_data"
    },
    {
     "name": "stdout",
     "output_type": "stream",
     "text": [
      "Work on Professional Services ...\n",
      "Filter businesses from category Arts & Entertainment [arts] (6304 businesses) ...\n",
      "Filtered 9741 businesses (overlap with Arts & Entertainment)\n"
     ]
    },
    {
     "name": "stderr",
     "output_type": "stream",
     "text": [
      "100%|██████████| 687/687 [00:03<00:00, 190.21it/s]\n",
      "  4%|▎         | 25/687 [00:00<00:02, 247.37it/s]"
     ]
    },
    {
     "name": "stdout",
     "output_type": "stream",
     "text": [
      "#ss (pos) 1374\n",
      "#ss (neg) 1374\n"
     ]
    },
    {
     "name": "stderr",
     "output_type": "stream",
     "text": [
      "100%|██████████| 687/687 [00:02<00:00, 243.03it/s]\n"
     ]
    },
    {
     "name": "stdout",
     "output_type": "stream",
     "text": [
      "#nss 2748\n",
      "#~ss 5496\n",
      "review pairs: 5496\n"
     ]
    },
    {
     "name": "stderr",
     "output_type": "stream",
     "text": [
      "\r",
      "  0%|          | 0/172 [00:00<?, ?it/s]"
     ]
    },
    {
     "name": "stdout",
     "output_type": "stream",
     "text": [
      "Start on [prediction] ...\n"
     ]
    },
    {
     "name": "stderr",
     "output_type": "stream",
     "text": [
      "100%|██████████| 172/172 [01:10<00:00,  2.47it/s]\n"
     ]
    },
    {
     "name": "stdout",
     "output_type": "stream",
     "text": [
      "Time for [prediction]: 0:01:10.400236\n",
      "Confusion Matrix:\n",
      "[[1844  904]\n",
      " [ 669 2079]]\n",
      "\n",
      "CM: [1844  904  669 2079] \n",
      "[tn, fp, fn, tp]\n",
      "  accuracy: 0.714\n",
      " precision: 0.715\n",
      "    recall: 0.714\n",
      "  f1-score: 0.713\n",
      "\n",
      "Accuracy:  0.714 \n",
      "\n",
      "Report for [BERTClassifier - yelp_3_arts_pro128BCE - Arts & Entertainment-->Professional Services]:\n",
      "              precision    recall  f1-score   support\n",
      "\n",
      "           0       0.73      0.67      0.70      2748\n",
      "           1       0.70      0.76      0.73      2748\n",
      "\n",
      "    accuracy                           0.71      5496\n",
      "   macro avg       0.72      0.71      0.71      5496\n",
      "weighted avg       0.72      0.71      0.71      5496\n",
      "\n"
     ]
    },
    {
     "data": {
      "image/png": "[encoded data removed]",
      "text/plain": [
       "<Figure size 432x288 with 1 Axes>"
      ]
     },
     "metadata": {
      "needs_background": "light"
     },
     "output_type": "display_data"
    },
    {
     "name": "stdout",
     "output_type": "stream",
     "text": [
      "Work on Public Services & Government ...\n",
      "Filter businesses from category Arts & Entertainment [arts] (6304 businesses) ...\n",
      "Filtered 4566 businesses (overlap with Arts & Entertainment)\n"
     ]
    },
    {
     "name": "stderr",
     "output_type": "stream",
     "text": [
      "100%|██████████| 261/261 [00:01<00:00, 197.06it/s]\n",
      "  6%|▌         | 15/261 [00:00<00:01, 149.70it/s]"
     ]
    },
    {
     "name": "stdout",
     "output_type": "stream",
     "text": [
      "#ss (pos) 522\n",
      "#ss (neg) 522\n"
     ]
    },
    {
     "name": "stderr",
     "output_type": "stream",
     "text": [
      "100%|██████████| 261/261 [00:01<00:00, 192.46it/s]\n"
     ]
    },
    {
     "name": "stdout",
     "output_type": "stream",
     "text": [
      "#nss 1044\n",
      "#~ss 2088\n",
      "review pairs: 2088\n"
     ]
    },
    {
     "name": "stderr",
     "output_type": "stream",
     "text": [
      "\r",
      "  0%|          | 0/66 [00:00<?, ?it/s]"
     ]
    },
    {
     "name": "stdout",
     "output_type": "stream",
     "text": [
      "Start on [prediction] ...\n"
     ]
    },
    {
     "name": "stderr",
     "output_type": "stream",
     "text": [
      "100%|██████████| 66/66 [00:27<00:00,  3.22it/s]\n"
     ]
    },
    {
     "name": "stdout",
     "output_type": "stream",
     "text": [
      "Time for [prediction]: 0:00:27.054035\n",
      "Confusion Matrix:\n",
      "[[685 359]\n",
      " [403 641]]\n",
      "\n",
      "CM: [685 359 403 641] \n",
      "[tn, fp, fn, tp]\n",
      "  accuracy: 0.635\n",
      " precision: 0.635\n",
      "    recall: 0.635\n",
      "  f1-score: 0.635\n",
      "\n",
      "Accuracy:  0.635 \n",
      "\n",
      "Report for [BERTClassifier - yelp_3_arts_pro128BCE - Arts & Entertainment-->Public Services & Government]:\n",
      "              precision    recall  f1-score   support\n",
      "\n",
      "           0       0.63      0.66      0.64      1044\n",
      "           1       0.64      0.61      0.63      1044\n",
      "\n",
      "    accuracy                           0.64      2088\n",
      "   macro avg       0.64      0.64      0.63      2088\n",
      "weighted avg       0.64      0.64      0.63      2088\n",
      "\n"
     ]
    },
    {
     "data": {
      "image/png": "[encoded data removed]",
      "text/plain": [
       "<Figure size 432x288 with 1 Axes>"
      ]
     },
     "metadata": {
      "needs_background": "light"
     },
     "output_type": "display_data"
    },
    {
     "name": "stderr",
     "output_type": "stream",
     "text": [
      "\r",
      "  0%|          | 0/39 [00:00<?, ?it/s]"
     ]
    },
    {
     "name": "stdout",
     "output_type": "stream",
     "text": [
      "Work on Religious Organizations ...\n",
      "Filter businesses from category Arts & Entertainment [arts] (6304 businesses) ...\n",
      "Filtered 477 businesses (overlap with Arts & Entertainment)\n"
     ]
    },
    {
     "name": "stderr",
     "output_type": "stream",
     "text": [
      "100%|██████████| 39/39 [00:00<00:00, 234.02it/s]\n",
      "100%|██████████| 39/39 [00:00<00:00, 243.71it/s]\n"
     ]
    },
    {
     "name": "stdout",
     "output_type": "stream",
     "text": [
      "#ss (pos) 78\n",
      "#ss (neg) 78\n",
      "#nss 156\n",
      "#~ss 312\n",
      "review pairs: 312\n"
     ]
    },
    {
     "name": "stderr",
     "output_type": "stream",
     "text": [
      "\r",
      "  0%|          | 0/10 [00:00<?, ?it/s]"
     ]
    },
    {
     "name": "stdout",
     "output_type": "stream",
     "text": [
      "Start on [prediction] ...\n"
     ]
    },
    {
     "name": "stderr",
     "output_type": "stream",
     "text": [
      "100%|██████████| 10/10 [00:04<00:00,  2.25it/s]"
     ]
    },
    {
     "name": "stdout",
     "output_type": "stream",
     "text": [
      "Time for [prediction]: 0:00:04.535938\n",
      "Confusion Matrix:\n",
      "[[ 89  67]\n",
      " [ 46 110]]\n",
      "\n",
      "CM: [ 89  67  46 110] \n",
      "[tn, fp, fn, tp]\n",
      "  accuracy: 0.638\n",
      " precision: 0.640\n",
      "    recall: 0.638\n",
      "  f1-score: 0.636\n",
      "\n",
      "Accuracy:  0.638 \n",
      "\n",
      "Report for [BERTClassifier - yelp_3_arts_pro128BCE - Arts & Entertainment-->Religious Organizations]:\n",
      "              precision    recall  f1-score   support\n",
      "\n",
      "           0       0.66      0.57      0.61       156\n",
      "           1       0.62      0.71      0.66       156\n",
      "\n",
      "    accuracy                           0.64       312\n",
      "   macro avg       0.64      0.64      0.64       312\n",
      "weighted avg       0.64      0.64      0.64       312\n",
      "\n"
     ]
    },
    {
     "name": "stderr",
     "output_type": "stream",
     "text": [
      "\n"
     ]
    },
    {
     "data": {
      "image/png": "[encoded data removed]",
      "text/plain": [
       "<Figure size 432x288 with 1 Axes>"
      ]
     },
     "metadata": {
      "needs_background": "light"
     },
     "output_type": "display_data"
    },
    {
     "name": "stdout",
     "output_type": "stream",
     "text": [
      "Work on Restaurants ...\n",
      "Filter businesses from category Arts & Entertainment [arts] (6304 businesses) ...\n",
      "Filtered 170789 businesses (overlap with Arts & Entertainment)\n"
     ]
    },
    {
     "name": "stderr",
     "output_type": "stream",
     "text": [
      "100%|██████████| 32643/32643 [02:35<00:00, 210.23it/s]\n"
     ]
    },
    {
     "name": "stdout",
     "output_type": "stream",
     "text": [
      "#ss (pos) 65286\n",
      "#ss (neg) 65286\n"
     ]
    },
    {
     "name": "stderr",
     "output_type": "stream",
     "text": [
      "100%|██████████| 32643/32643 [02:34<00:00, 210.63it/s]\n"
     ]
    },
    {
     "name": "stdout",
     "output_type": "stream",
     "text": [
      "#nss 130572\n",
      "#~ss 261144\n",
      "review pairs: 261144\n"
     ]
    },
    {
     "name": "stderr",
     "output_type": "stream",
     "text": [
      "\r",
      "  0%|          | 0/8161 [00:00<?, ?it/s]"
     ]
    },
    {
     "name": "stdout",
     "output_type": "stream",
     "text": [
      "Start on [prediction] ...\n"
     ]
    },
    {
     "name": "stderr",
     "output_type": "stream",
     "text": [
      " 51%|█████     | 4135/8161 [25:44<26:46,  2.51it/s] IOPub message rate exceeded.\n",
      "The notebook server will temporarily stop sending output\n",
      "to the client in order to avoid crashing it.\n",
      "To change this limit, set the config variable\n",
      "`--NotebookApp.iopub_msg_rate_limit`.\n",
      "\n",
      "Current values:\n",
      "NotebookApp.iopub_msg_rate_limit=1000.0 (msgs/sec)\n",
      "NotebookApp.rate_limit_window=3.0 (secs)\n",
      "\n",
      "100%|██████████| 8161/8161 [52:35<00:00,  2.56it/s]\n"
     ]
    },
    {
     "name": "stdout",
     "output_type": "stream",
     "text": [
      "Time for [prediction]: 0:52:35.182807\n",
      "Confusion Matrix:\n",
      "[[82341 48231]\n",
      " [44705 85867]]\n",
      "\n",
      "CM: [82341 48231 44705 85867] \n",
      "[tn, fp, fn, tp]\n",
      "  accuracy: 0.644\n",
      " precision: 0.644\n",
      "    recall: 0.644\n",
      "  f1-score: 0.644\n",
      "\n",
      "Accuracy:  0.644 \n",
      "\n",
      "Report for [BERTClassifier - yelp_3_arts_pro128BCE - Arts & Entertainment-->Restaurants]:\n",
      "              precision    recall  f1-score   support\n",
      "\n",
      "           0       0.65      0.63      0.64    130572\n",
      "           1       0.64      0.66      0.65    130572\n",
      "\n",
      "    accuracy                           0.64    261144\n",
      "   macro avg       0.64      0.64      0.64    261144\n",
      "weighted avg       0.64      0.64      0.64    261144\n",
      "\n"
     ]
    },
    {
     "data": {
      "image/png": "[encoded data removed]",
      "text/plain": [
       "<Figure size 432x288 with 1 Axes>"
      ]
     },
     "metadata": {
      "needs_background": "light"
     },
     "output_type": "display_data"
    },
    {
     "name": "stdout",
     "output_type": "stream",
     "text": [
      "Work on Shopping ...\n",
      "Filter businesses from category Arts & Entertainment [arts] (6304 businesses) ...\n",
      "Filtered 43696 businesses (overlap with Arts & Entertainment)\n"
     ]
    },
    {
     "name": "stderr",
     "output_type": "stream",
     "text": [
      "100%|██████████| 6331/6331 [00:27<00:00, 226.61it/s]\n"
     ]
    },
    {
     "name": "stdout",
     "output_type": "stream",
     "text": [
      "#ss (pos) 12662\n",
      "#ss (neg) 12662\n"
     ]
    },
    {
     "name": "stderr",
     "output_type": "stream",
     "text": [
      "100%|██████████| 6331/6331 [00:26<00:00, 237.92it/s]\n"
     ]
    },
    {
     "name": "stdout",
     "output_type": "stream",
     "text": [
      "#nss 25324\n",
      "#~ss 50648\n",
      "review pairs: 50648\n"
     ]
    },
    {
     "name": "stderr",
     "output_type": "stream",
     "text": [
      "\r",
      "  0%|          | 0/1583 [00:00<?, ?it/s]"
     ]
    },
    {
     "name": "stdout",
     "output_type": "stream",
     "text": [
      "Start on [prediction] ...\n"
     ]
    },
    {
     "name": "stderr",
     "output_type": "stream",
     "text": [
      "100%|██████████| 1583/1583 [10:54<00:00,  3.41it/s]\n"
     ]
    },
    {
     "name": "stdout",
     "output_type": "stream",
     "text": [
      "Time for [prediction]: 0:10:54.460156\n",
      "Confusion Matrix:\n",
      "[[16869  8455]\n",
      " [ 8267 17057]]\n",
      "\n",
      "CM: [16869  8455  8267 17057] \n",
      "[tn, fp, fn, tp]\n",
      "  accuracy: 0.670\n",
      " precision: 0.670\n",
      "    recall: 0.670\n",
      "  f1-score: 0.670\n",
      "\n",
      "Accuracy:  0.67 \n",
      "\n",
      "Report for [BERTClassifier - yelp_3_arts_pro128BCE - Arts & Entertainment-->Shopping]:\n",
      "              precision    recall  f1-score   support\n",
      "\n",
      "           0       0.67      0.67      0.67     25324\n",
      "           1       0.67      0.67      0.67     25324\n",
      "\n",
      "    accuracy                           0.67     50648\n",
      "   macro avg       0.67      0.67      0.67     50648\n",
      "weighted avg       0.67      0.67      0.67     50648\n",
      "\n"
     ]
    },
    {
     "data": {
      "image/png": "[encoded data removed]",
      "text/plain": [
       "<Figure size 432x288 with 1 Axes>"
      ]
     },
     "metadata": {
      "needs_background": "light"
     },
     "output_type": "display_data"
    }
   ],
   "source": [
    "results_cross_no_overlap = dict()\n",
    "\n",
    "for root_category_label in root_category_labels:\n",
    "    if root_category_label == category_name:\n",
    "        continue\n",
    "\n",
    "    print(f\"Work on {root_category_label} ...\")\n",
    "    # without overlap\n",
    "    df_other = filter_root_category_businesses_not_other(root_category_label, category_name, inv_cat_bids, map_categories, map_cat_name2id)\n",
    "    \n",
    "    df_other = filter_min_review_freq(df_other, min_ratings=5)\n",
    "    df_other = filter_both_good_bad(df_other)\n",
    "    df_other = make_or_load_pairs(df_other, None, num_pairs_per_class=2)\n",
    "    print(\"review pairs:\", len(df_other))\n",
    "    \n",
    "    df_other[\"tag\"] = \"NA\"\n",
    "    \n",
    "    X_dev, y_dev = df_other[names_columns_X_arteval], df_other[names_columns_y]\n",
    "    data_dev_raw, data_dev = transform_dataset(X_dev, y_dev, transform)\n",
    "    \n",
    "    all_predictions, cum_loss = predict(model, data_dev, ctx, metric, loss_function, batch_size=batch_size)\n",
    "    y_true, y_pred = predict_out_to_ys(all_predictions, all_labels)\n",
    "    report_training_results(y_true, y_pred, name=f\"BERTClassifier - {run_name} - {category_name}-->{root_category_label}\", heatmap=False)\n",
    "    plot_confusion_matrix(y_true, y_pred, labels=[0, 1], title=f\"{run_name} - {category_name}-->{root_category_label}\", values_format=\"d\", cmap=\"Blues\", include_colorbar=False)\n",
    "    plt.show()\n",
    "    \n",
    "    res_one = (len(df_other), len(df_other))\n",
    "    res_one += compute_metrics(y_true, y_pred, precision=8, averaging=\"macro\", dump=False)\n",
    "    results_cross_no_overlap[root_category_label] = res_one"
   ]
  },
  {
   "cell_type": "code",
   "execution_count": 52,
   "metadata": {
    "ExecuteTime": {
     "end_time": "2020-05-11T15:03:28.579704Z",
     "start_time": "2020-05-11T12:12:03.522414Z"
    },
    "collapsed": true
   },
   "outputs": [
    {
     "name": "stdout",
     "output_type": "stream",
     "text": [
      "Work on Active Life ...\n"
     ]
    },
    {
     "name": "stderr",
     "output_type": "stream",
     "text": [
      "100%|██████████| 2039/2039 [00:09<00:00, 213.18it/s]\n",
      "  0%|          | 0/2039 [00:00<?, ?it/s]"
     ]
    },
    {
     "name": "stdout",
     "output_type": "stream",
     "text": [
      "#ss (pos) 4078\n",
      "#ss (neg) 4078\n"
     ]
    },
    {
     "name": "stderr",
     "output_type": "stream",
     "text": [
      "100%|██████████| 2039/2039 [00:08<00:00, 253.59it/s]\n"
     ]
    },
    {
     "name": "stdout",
     "output_type": "stream",
     "text": [
      "#nss 8156\n",
      "#~ss 16312\n",
      "review pairs: 16312\n"
     ]
    },
    {
     "name": "stderr",
     "output_type": "stream",
     "text": [
      "\r",
      "  0%|          | 0/510 [00:00<?, ?it/s]"
     ]
    },
    {
     "name": "stdout",
     "output_type": "stream",
     "text": [
      "Start on [prediction] ...\n"
     ]
    },
    {
     "name": "stderr",
     "output_type": "stream",
     "text": [
      "100%|██████████| 510/510 [03:45<00:00,  2.12it/s]\n"
     ]
    },
    {
     "name": "stdout",
     "output_type": "stream",
     "text": [
      "Time for [prediction]: 0:03:45.677686\n",
      "Confusion Matrix:\n",
      "[[5403 2753]\n",
      " [2869 5287]]\n",
      "\n",
      "CM: [5403 2753 2869 5287] \n",
      "[tn, fp, fn, tp]\n",
      "  accuracy: 0.655\n",
      " precision: 0.655\n",
      "    recall: 0.655\n",
      "  f1-score: 0.655\n",
      "\n",
      "Accuracy:  0.655 \n",
      "\n",
      "Report for [BERTClassifier - yelp_3_arts_pro128BCE - Arts & Entertainment-->Active Life]:\n",
      "              precision    recall  f1-score   support\n",
      "\n",
      "           0       0.65      0.66      0.66      8156\n",
      "           1       0.66      0.65      0.65      8156\n",
      "\n",
      "    accuracy                           0.66     16312\n",
      "   macro avg       0.66      0.66      0.66     16312\n",
      "weighted avg       0.66      0.66      0.66     16312\n",
      "\n"
     ]
    },
    {
     "data": {
      "image/png": "[encoded data removed]",
      "text/plain": [
       "<Figure size 432x288 with 1 Axes>"
      ]
     },
     "metadata": {
      "needs_background": "light"
     },
     "output_type": "display_data"
    },
    {
     "name": "stdout",
     "output_type": "stream",
     "text": [
      "Work on Automotive ...\n"
     ]
    },
    {
     "name": "stderr",
     "output_type": "stream",
     "text": [
      "100%|██████████| 2848/2848 [00:12<00:00, 235.04it/s]\n"
     ]
    },
    {
     "name": "stdout",
     "output_type": "stream",
     "text": [
      "#ss (pos) 5696\n",
      "#ss (neg) 5696\n"
     ]
    },
    {
     "name": "stderr",
     "output_type": "stream",
     "text": [
      "100%|██████████| 2848/2848 [00:12<00:00, 230.67it/s]\n"
     ]
    },
    {
     "name": "stdout",
     "output_type": "stream",
     "text": [
      "#nss 11392\n",
      "#~ss 22784\n",
      "review pairs: 22784\n"
     ]
    },
    {
     "name": "stderr",
     "output_type": "stream",
     "text": [
      "\r",
      "  0%|          | 0/712 [00:00<?, ?it/s]"
     ]
    },
    {
     "name": "stdout",
     "output_type": "stream",
     "text": [
      "Start on [prediction] ...\n"
     ]
    },
    {
     "name": "stderr",
     "output_type": "stream",
     "text": [
      "100%|██████████| 712/712 [05:15<00:00,  2.46it/s]\n"
     ]
    },
    {
     "name": "stdout",
     "output_type": "stream",
     "text": [
      "Time for [prediction]: 0:05:15.198443\n",
      "Confusion Matrix:\n",
      "[[7651 3741]\n",
      " [3262 8130]]\n",
      "\n",
      "CM: [7651 3741 3262 8130] \n",
      "[tn, fp, fn, tp]\n",
      "  accuracy: 0.693\n",
      " precision: 0.693\n",
      "    recall: 0.693\n",
      "  f1-score: 0.692\n",
      "\n",
      "Accuracy:  0.693 \n",
      "\n",
      "Report for [BERTClassifier - yelp_3_arts_pro128BCE - Arts & Entertainment-->Automotive]:\n",
      "              precision    recall  f1-score   support\n",
      "\n",
      "           0       0.70      0.67      0.69     11392\n",
      "           1       0.68      0.71      0.70     11392\n",
      "\n",
      "    accuracy                           0.69     22784\n",
      "   macro avg       0.69      0.69      0.69     22784\n",
      "weighted avg       0.69      0.69      0.69     22784\n",
      "\n"
     ]
    },
    {
     "data": {
      "image/png": "[encoded data removed]",
      "text/plain": [
       "<Figure size 432x288 with 1 Axes>"
      ]
     },
     "metadata": {
      "needs_background": "light"
     },
     "output_type": "display_data"
    },
    {
     "name": "stdout",
     "output_type": "stream",
     "text": [
      "Work on Beauty & Spas ...\n"
     ]
    },
    {
     "name": "stderr",
     "output_type": "stream",
     "text": [
      "100%|██████████| 4991/4991 [00:25<00:00, 195.27it/s]\n"
     ]
    },
    {
     "name": "stdout",
     "output_type": "stream",
     "text": [
      "#ss (pos) 9982\n",
      "#ss (neg) 9982\n"
     ]
    },
    {
     "name": "stderr",
     "output_type": "stream",
     "text": [
      "100%|██████████| 4991/4991 [00:20<00:00, 245.49it/s]\n"
     ]
    },
    {
     "name": "stdout",
     "output_type": "stream",
     "text": [
      "#nss 19964\n",
      "#~ss 39928\n",
      "review pairs: 39928\n"
     ]
    },
    {
     "name": "stderr",
     "output_type": "stream",
     "text": [
      "\r",
      "  0%|          | 0/1248 [00:00<?, ?it/s]"
     ]
    },
    {
     "name": "stdout",
     "output_type": "stream",
     "text": [
      "Start on [prediction] ...\n"
     ]
    },
    {
     "name": "stderr",
     "output_type": "stream",
     "text": [
      "100%|██████████| 1248/1248 [08:34<00:00,  2.49it/s]\n"
     ]
    },
    {
     "name": "stdout",
     "output_type": "stream",
     "text": [
      "Time for [prediction]: 0:08:34.167879\n",
      "Confusion Matrix:\n",
      "[[13534  6430]\n",
      " [ 5048 14916]]\n",
      "\n",
      "CM: [13534  6430  5048 14916] \n",
      "[tn, fp, fn, tp]\n",
      "  accuracy: 0.713\n",
      " precision: 0.714\n",
      "    recall: 0.713\n",
      "  f1-score: 0.712\n",
      "\n",
      "Accuracy:  0.713 \n",
      "\n",
      "Report for [BERTClassifier - yelp_3_arts_pro128BCE - Arts & Entertainment-->Beauty & Spas]:\n",
      "              precision    recall  f1-score   support\n",
      "\n",
      "           0       0.73      0.68      0.70     19964\n",
      "           1       0.70      0.75      0.72     19964\n",
      "\n",
      "    accuracy                           0.71     39928\n",
      "   macro avg       0.71      0.71      0.71     39928\n",
      "weighted avg       0.71      0.71      0.71     39928\n",
      "\n"
     ]
    },
    {
     "data": {
      "image/png": "[encoded data removed]",
      "text/plain": [
       "<Figure size 432x288 with 1 Axes>"
      ]
     },
     "metadata": {
      "needs_background": "light"
     },
     "output_type": "display_data"
    },
    {
     "name": "stderr",
     "output_type": "stream",
     "text": [
      "100%|██████████| 1/1 [00:00<00:00, 220.65it/s]\n",
      "100%|██████████| 1/1 [00:00<00:00, 226.67it/s]"
     ]
    },
    {
     "name": "stdout",
     "output_type": "stream",
     "text": [
      "Work on Bicycles ...\n",
      "#ss (pos) 2\n",
      "#ss (neg) 2\n",
      "#nss 4\n",
      "#~ss 8\n",
      "review pairs: 8\n"
     ]
    },
    {
     "name": "stderr",
     "output_type": "stream",
     "text": [
      "\n",
      "100%|██████████| 1/1 [00:00<00:00,  7.41it/s]"
     ]
    },
    {
     "name": "stdout",
     "output_type": "stream",
     "text": [
      "Start on [prediction] ...\n",
      "Time for [prediction]: 0:00:00.150383\n",
      "Confusion Matrix:\n",
      "[[3 1]\n",
      " [3 1]]\n",
      "\n",
      "CM: [3 1 3 1] \n",
      "[tn, fp, fn, tp]\n",
      "  accuracy: 0.500\n",
      " precision: 0.500\n",
      "    recall: 0.500\n",
      "  f1-score: 0.467\n",
      "\n",
      "Accuracy:  0.5 \n",
      "\n",
      "Report for [BERTClassifier - yelp_3_arts_pro128BCE - Arts & Entertainment-->Bicycles]:\n",
      "              precision    recall  f1-score   support\n",
      "\n",
      "           0       0.50      0.75      0.60         4\n",
      "           1       0.50      0.25      0.33         4\n",
      "\n",
      "    accuracy                           0.50         8\n",
      "   macro avg       0.50      0.50      0.47         8\n",
      "weighted avg       0.50      0.50      0.47         8\n",
      "\n"
     ]
    },
    {
     "name": "stderr",
     "output_type": "stream",
     "text": [
      "\n"
     ]
    },
    {
     "data": {
      "image/png": "[encoded data removed]",
      "text/plain": [
       "<Figure size 432x288 with 1 Axes>"
      ]
     },
     "metadata": {
      "needs_background": "light"
     },
     "output_type": "display_data"
    },
    {
     "name": "stdout",
     "output_type": "stream",
     "text": [
      "Work on Education ...\n"
     ]
    },
    {
     "name": "stderr",
     "output_type": "stream",
     "text": [
      "100%|██████████| 438/438 [00:01<00:00, 237.03it/s]\n",
      "  6%|▌         | 26/438 [00:00<00:01, 258.50it/s]"
     ]
    },
    {
     "name": "stdout",
     "output_type": "stream",
     "text": [
      "#ss (pos) 876\n",
      "#ss (neg) 876\n"
     ]
    },
    {
     "name": "stderr",
     "output_type": "stream",
     "text": [
      "100%|██████████| 438/438 [00:01<00:00, 280.94it/s]\n"
     ]
    },
    {
     "name": "stdout",
     "output_type": "stream",
     "text": [
      "#nss 1752\n",
      "#~ss 3504\n",
      "review pairs: 3504\n"
     ]
    },
    {
     "name": "stderr",
     "output_type": "stream",
     "text": [
      "\r",
      "  0%|          | 0/110 [00:00<?, ?it/s]"
     ]
    },
    {
     "name": "stdout",
     "output_type": "stream",
     "text": [
      "Start on [prediction] ...\n"
     ]
    },
    {
     "name": "stderr",
     "output_type": "stream",
     "text": [
      "100%|██████████| 110/110 [00:54<00:00,  2.29it/s]\n"
     ]
    },
    {
     "name": "stdout",
     "output_type": "stream",
     "text": [
      "Time for [prediction]: 0:00:54.315022\n",
      "Confusion Matrix:\n",
      "[[1175  577]\n",
      " [ 545 1207]]\n",
      "\n",
      "CM: [1175  577  545 1207] \n",
      "[tn, fp, fn, tp]\n",
      "  accuracy: 0.680\n",
      " precision: 0.680\n",
      "    recall: 0.680\n",
      "  f1-score: 0.680\n",
      "\n",
      "Accuracy:  0.68 \n",
      "\n",
      "Report for [BERTClassifier - yelp_3_arts_pro128BCE - Arts & Entertainment-->Education]:\n",
      "              precision    recall  f1-score   support\n",
      "\n",
      "           0       0.68      0.67      0.68      1752\n",
      "           1       0.68      0.69      0.68      1752\n",
      "\n",
      "    accuracy                           0.68      3504\n",
      "   macro avg       0.68      0.68      0.68      3504\n",
      "weighted avg       0.68      0.68      0.68      3504\n",
      "\n"
     ]
    },
    {
     "data": {
      "image/png": "[encoded data removed]",
      "text/plain": [
       "<Figure size 432x288 with 1 Axes>"
      ]
     },
     "metadata": {
      "needs_background": "light"
     },
     "output_type": "display_data"
    },
    {
     "name": "stdout",
     "output_type": "stream",
     "text": [
      "Work on Event Planning & Services ...\n"
     ]
    },
    {
     "name": "stderr",
     "output_type": "stream",
     "text": [
      "100%|██████████| 3706/3706 [00:18<00:00, 200.75it/s]\n"
     ]
    },
    {
     "name": "stdout",
     "output_type": "stream",
     "text": [
      "#ss (pos) 7412\n",
      "#ss (neg) 7412\n"
     ]
    },
    {
     "name": "stderr",
     "output_type": "stream",
     "text": [
      "100%|██████████| 3706/3706 [00:15<00:00, 241.41it/s]\n"
     ]
    },
    {
     "name": "stdout",
     "output_type": "stream",
     "text": [
      "#nss 14824\n",
      "#~ss 29648\n",
      "review pairs: 29648\n"
     ]
    },
    {
     "name": "stderr",
     "output_type": "stream",
     "text": [
      "\r",
      "  0%|          | 0/927 [00:00<?, ?it/s]"
     ]
    },
    {
     "name": "stdout",
     "output_type": "stream",
     "text": [
      "Start on [prediction] ...\n"
     ]
    },
    {
     "name": "stderr",
     "output_type": "stream",
     "text": [
      "100%|██████████| 927/927 [06:39<00:00,  2.54it/s]\n"
     ]
    },
    {
     "name": "stdout",
     "output_type": "stream",
     "text": [
      "Time for [prediction]: 0:06:39.189372\n",
      "Confusion Matrix:\n",
      "[[9776 5048]\n",
      " [5252 9572]]\n",
      "\n",
      "CM: [9776 5048 5252 9572] \n",
      "[tn, fp, fn, tp]\n",
      "  accuracy: 0.653\n",
      " precision: 0.653\n",
      "    recall: 0.653\n",
      "  f1-score: 0.653\n",
      "\n",
      "Accuracy:  0.653 \n",
      "\n",
      "Report for [BERTClassifier - yelp_3_arts_pro128BCE - Arts & Entertainment-->Event Planning & Services]:\n",
      "              precision    recall  f1-score   support\n",
      "\n",
      "           0       0.65      0.66      0.65     14824\n",
      "           1       0.65      0.65      0.65     14824\n",
      "\n",
      "    accuracy                           0.65     29648\n",
      "   macro avg       0.65      0.65      0.65     29648\n",
      "weighted avg       0.65      0.65      0.65     29648\n",
      "\n"
     ]
    },
    {
     "data": {
      "image/png": "[encoded data removed]",
      "text/plain": [
       "<Figure size 432x288 with 1 Axes>"
      ]
     },
     "metadata": {
      "needs_background": "light"
     },
     "output_type": "display_data"
    },
    {
     "name": "stdout",
     "output_type": "stream",
     "text": [
      "Work on Financial Services ...\n"
     ]
    },
    {
     "name": "stderr",
     "output_type": "stream",
     "text": [
      "100%|██████████| 296/296 [00:01<00:00, 216.05it/s]\n",
      "  9%|▉         | 27/296 [00:00<00:01, 264.48it/s]"
     ]
    },
    {
     "name": "stdout",
     "output_type": "stream",
     "text": [
      "#ss (pos) 592\n",
      "#ss (neg) 592\n"
     ]
    },
    {
     "name": "stderr",
     "output_type": "stream",
     "text": [
      "100%|██████████| 296/296 [00:01<00:00, 260.94it/s]\n"
     ]
    },
    {
     "name": "stdout",
     "output_type": "stream",
     "text": [
      "#nss 1184\n",
      "#~ss 2368\n",
      "review pairs: 2368\n"
     ]
    },
    {
     "name": "stderr",
     "output_type": "stream",
     "text": [
      "\r",
      "  0%|          | 0/74 [00:00<?, ?it/s]"
     ]
    },
    {
     "name": "stdout",
     "output_type": "stream",
     "text": [
      "Start on [prediction] ...\n"
     ]
    },
    {
     "name": "stderr",
     "output_type": "stream",
     "text": [
      "100%|██████████| 74/74 [00:29<00:00,  2.21it/s]\n"
     ]
    },
    {
     "name": "stdout",
     "output_type": "stream",
     "text": [
      "Time for [prediction]: 0:00:29.463742\n",
      "Confusion Matrix:\n",
      "[[814 370]\n",
      " [285 899]]\n",
      "\n",
      "CM: [814 370 285 899] \n",
      "[tn, fp, fn, tp]\n",
      "  accuracy: 0.723\n",
      " precision: 0.725\n",
      "    recall: 0.723\n",
      "  f1-score: 0.723\n",
      "\n",
      "Accuracy:  0.723 \n",
      "\n",
      "Report for [BERTClassifier - yelp_3_arts_pro128BCE - Arts & Entertainment-->Financial Services]:\n",
      "              precision    recall  f1-score   support\n",
      "\n",
      "           0       0.74      0.69      0.71      1184\n",
      "           1       0.71      0.76      0.73      1184\n",
      "\n",
      "    accuracy                           0.72      2368\n",
      "   macro avg       0.72      0.72      0.72      2368\n",
      "weighted avg       0.72      0.72      0.72      2368\n",
      "\n"
     ]
    },
    {
     "data": {
      "image/png": "[encoded data removed]",
      "text/plain": [
       "<Figure size 432x288 with 1 Axes>"
      ]
     },
     "metadata": {
      "needs_background": "light"
     },
     "output_type": "display_data"
    },
    {
     "name": "stdout",
     "output_type": "stream",
     "text": [
      "Work on Food ...\n"
     ]
    },
    {
     "name": "stderr",
     "output_type": "stream",
     "text": [
      "100%|██████████| 12779/12779 [00:56<00:00, 224.82it/s]\n"
     ]
    },
    {
     "name": "stdout",
     "output_type": "stream",
     "text": [
      "#ss (pos) 25558\n",
      "#ss (neg) 25558\n"
     ]
    },
    {
     "name": "stderr",
     "output_type": "stream",
     "text": [
      "100%|██████████| 12779/12779 [01:00<00:00, 212.46it/s]\n"
     ]
    },
    {
     "name": "stdout",
     "output_type": "stream",
     "text": [
      "#nss 51116\n",
      "#~ss 102232\n",
      "review pairs: 102232\n"
     ]
    },
    {
     "name": "stderr",
     "output_type": "stream",
     "text": [
      "\r",
      "  0%|          | 0/3195 [00:00<?, ?it/s]"
     ]
    },
    {
     "name": "stdout",
     "output_type": "stream",
     "text": [
      "Start on [prediction] ...\n"
     ]
    },
    {
     "name": "stderr",
     "output_type": "stream",
     "text": [
      "100%|██████████| 3195/3195 [21:12<00:00,  2.86it/s]\n"
     ]
    },
    {
     "name": "stdout",
     "output_type": "stream",
     "text": [
      "Time for [prediction]: 0:21:13.001893\n",
      "Confusion Matrix:\n",
      "[[32249 18867]\n",
      " [17758 33358]]\n",
      "\n",
      "CM: [32249 18867 17758 33358] \n",
      "[tn, fp, fn, tp]\n",
      "  accuracy: 0.642\n",
      " precision: 0.642\n",
      "    recall: 0.642\n",
      "  f1-score: 0.642\n",
      "\n",
      "Accuracy:  0.642 \n",
      "\n",
      "Report for [BERTClassifier - yelp_3_arts_pro128BCE - Arts & Entertainment-->Food]:\n",
      "              precision    recall  f1-score   support\n",
      "\n",
      "           0       0.64      0.63      0.64     51116\n",
      "           1       0.64      0.65      0.65     51116\n",
      "\n",
      "    accuracy                           0.64    102232\n",
      "   macro avg       0.64      0.64      0.64    102232\n",
      "weighted avg       0.64      0.64      0.64    102232\n",
      "\n"
     ]
    },
    {
     "data": {
      "image/png": "[encoded data removed]",
      "text/plain": [
       "<Figure size 432x288 with 1 Axes>"
      ]
     },
     "metadata": {
      "needs_background": "light"
     },
     "output_type": "display_data"
    },
    {
     "name": "stdout",
     "output_type": "stream",
     "text": [
      "Work on Health & Medical ...\n"
     ]
    },
    {
     "name": "stderr",
     "output_type": "stream",
     "text": [
      "100%|██████████| 3180/3180 [00:17<00:00, 185.36it/s]\n"
     ]
    },
    {
     "name": "stdout",
     "output_type": "stream",
     "text": [
      "#ss (pos) 6360\n",
      "#ss (neg) 6360\n"
     ]
    },
    {
     "name": "stderr",
     "output_type": "stream",
     "text": [
      "100%|██████████| 3180/3180 [00:15<00:00, 205.11it/s]\n"
     ]
    },
    {
     "name": "stdout",
     "output_type": "stream",
     "text": [
      "#nss 12720\n",
      "#~ss 25440\n",
      "review pairs: 25440\n"
     ]
    },
    {
     "name": "stderr",
     "output_type": "stream",
     "text": [
      "\r",
      "  0%|          | 0/795 [00:00<?, ?it/s]"
     ]
    },
    {
     "name": "stdout",
     "output_type": "stream",
     "text": [
      "Start on [prediction] ...\n"
     ]
    },
    {
     "name": "stderr",
     "output_type": "stream",
     "text": [
      "100%|██████████| 795/795 [06:02<00:00,  2.02it/s]\n"
     ]
    },
    {
     "name": "stdout",
     "output_type": "stream",
     "text": [
      "Time for [prediction]: 0:06:02.316068\n",
      "Confusion Matrix:\n",
      "[[8464 4256]\n",
      " [3132 9588]]\n",
      "\n",
      "CM: [8464 4256 3132 9588] \n",
      "[tn, fp, fn, tp]\n",
      "  accuracy: 0.710\n",
      " precision: 0.711\n",
      "    recall: 0.710\n",
      "  f1-score: 0.709\n",
      "\n",
      "Accuracy:  0.71 \n",
      "\n",
      "Report for [BERTClassifier - yelp_3_arts_pro128BCE - Arts & Entertainment-->Health & Medical]:\n",
      "              precision    recall  f1-score   support\n",
      "\n",
      "           0       0.73      0.67      0.70     12720\n",
      "           1       0.69      0.75      0.72     12720\n",
      "\n",
      "    accuracy                           0.71     25440\n",
      "   macro avg       0.71      0.71      0.71     25440\n",
      "weighted avg       0.71      0.71      0.71     25440\n",
      "\n"
     ]
    },
    {
     "data": {
      "image/png": "[encoded data removed]",
      "text/plain": [
       "<Figure size 432x288 with 1 Axes>"
      ]
     },
     "metadata": {
      "needs_background": "light"
     },
     "output_type": "display_data"
    },
    {
     "name": "stdout",
     "output_type": "stream",
     "text": [
      "Work on Home Services ...\n"
     ]
    },
    {
     "name": "stderr",
     "output_type": "stream",
     "text": [
      "100%|██████████| 3093/3093 [00:13<00:00, 233.56it/s]\n"
     ]
    },
    {
     "name": "stdout",
     "output_type": "stream",
     "text": [
      "#ss (pos) 6186\n",
      "#ss (neg) 6186\n"
     ]
    },
    {
     "name": "stderr",
     "output_type": "stream",
     "text": [
      "100%|██████████| 3093/3093 [00:13<00:00, 224.50it/s]\n"
     ]
    },
    {
     "name": "stdout",
     "output_type": "stream",
     "text": [
      "#nss 12372\n",
      "#~ss 24744\n",
      "review pairs: 24744\n"
     ]
    },
    {
     "name": "stderr",
     "output_type": "stream",
     "text": [
      "\r",
      "  0%|          | 0/774 [00:00<?, ?it/s]"
     ]
    },
    {
     "name": "stdout",
     "output_type": "stream",
     "text": [
      "Start on [prediction] ...\n"
     ]
    },
    {
     "name": "stderr",
     "output_type": "stream",
     "text": [
      "100%|██████████| 774/774 [06:03<00:00,  2.42it/s]\n"
     ]
    },
    {
     "name": "stdout",
     "output_type": "stream",
     "text": [
      "Time for [prediction]: 0:06:03.300390\n",
      "Confusion Matrix:\n",
      "[[8014 4358]\n",
      " [2959 9413]]\n",
      "\n",
      "CM: [8014 4358 2959 9413] \n",
      "[tn, fp, fn, tp]\n",
      "  accuracy: 0.704\n",
      " precision: 0.707\n",
      "    recall: 0.704\n",
      "  f1-score: 0.703\n",
      "\n",
      "Accuracy:  0.704 \n",
      "\n",
      "Report for [BERTClassifier - yelp_3_arts_pro128BCE - Arts & Entertainment-->Home Services]:\n",
      "              precision    recall  f1-score   support\n",
      "\n",
      "           0       0.73      0.65      0.69     12372\n",
      "           1       0.68      0.76      0.72     12372\n",
      "\n",
      "    accuracy                           0.70     24744\n",
      "   macro avg       0.71      0.70      0.70     24744\n",
      "weighted avg       0.71      0.70      0.70     24744\n",
      "\n"
     ]
    },
    {
     "data": {
      "image/png": "[encoded data removed]",
      "text/plain": [
       "<Figure size 432x288 with 1 Axes>"
      ]
     },
     "metadata": {
      "needs_background": "light"
     },
     "output_type": "display_data"
    },
    {
     "name": "stdout",
     "output_type": "stream",
     "text": [
      "Work on Hotels & Travel ...\n"
     ]
    },
    {
     "name": "stderr",
     "output_type": "stream",
     "text": [
      "100%|██████████| 2223/2223 [00:10<00:00, 213.77it/s]\n"
     ]
    },
    {
     "name": "stdout",
     "output_type": "stream",
     "text": [
      "#ss (pos) 4446\n",
      "#ss (neg) 4446\n"
     ]
    },
    {
     "name": "stderr",
     "output_type": "stream",
     "text": [
      "100%|██████████| 2223/2223 [00:10<00:00, 217.21it/s]\n"
     ]
    },
    {
     "name": "stdout",
     "output_type": "stream",
     "text": [
      "#nss 8892\n",
      "#~ss 17784\n",
      "review pairs: 17784\n"
     ]
    },
    {
     "name": "stderr",
     "output_type": "stream",
     "text": [
      "\r",
      "  0%|          | 0/556 [00:00<?, ?it/s]"
     ]
    },
    {
     "name": "stdout",
     "output_type": "stream",
     "text": [
      "Start on [prediction] ...\n"
     ]
    },
    {
     "name": "stderr",
     "output_type": "stream",
     "text": [
      "100%|██████████| 556/556 [04:17<00:00,  2.31it/s]\n"
     ]
    },
    {
     "name": "stdout",
     "output_type": "stream",
     "text": [
      "Time for [prediction]: 0:04:18.006497\n",
      "Confusion Matrix:\n",
      "[[5750 3142]\n",
      " [3087 5805]]\n",
      "\n",
      "CM: [5750 3142 3087 5805] \n",
      "[tn, fp, fn, tp]\n",
      "  accuracy: 0.650\n",
      " precision: 0.650\n",
      "    recall: 0.650\n",
      "  f1-score: 0.650\n",
      "\n",
      "Accuracy:  0.65 \n",
      "\n",
      "Report for [BERTClassifier - yelp_3_arts_pro128BCE - Arts & Entertainment-->Hotels & Travel]:\n",
      "              precision    recall  f1-score   support\n",
      "\n",
      "           0       0.65      0.65      0.65      8892\n",
      "           1       0.65      0.65      0.65      8892\n",
      "\n",
      "    accuracy                           0.65     17784\n",
      "   macro avg       0.65      0.65      0.65     17784\n",
      "weighted avg       0.65      0.65      0.65     17784\n",
      "\n"
     ]
    },
    {
     "data": {
      "image/png": "[encoded data removed]",
      "text/plain": [
       "<Figure size 432x288 with 1 Axes>"
      ]
     },
     "metadata": {
      "needs_background": "light"
     },
     "output_type": "display_data"
    },
    {
     "name": "stdout",
     "output_type": "stream",
     "text": [
      "Work on Local Flavor ...\n"
     ]
    },
    {
     "name": "stderr",
     "output_type": "stream",
     "text": [
      "100%|██████████| 508/508 [00:02<00:00, 219.61it/s]\n",
      "  4%|▍         | 20/508 [00:00<00:02, 199.70it/s]"
     ]
    },
    {
     "name": "stdout",
     "output_type": "stream",
     "text": [
      "#ss (pos) 1016\n",
      "#ss (neg) 1016\n"
     ]
    },
    {
     "name": "stderr",
     "output_type": "stream",
     "text": [
      "100%|██████████| 508/508 [00:02<00:00, 214.64it/s]\n"
     ]
    },
    {
     "name": "stdout",
     "output_type": "stream",
     "text": [
      "#nss 2032\n",
      "#~ss 4064\n",
      "review pairs: 4064\n"
     ]
    },
    {
     "name": "stderr",
     "output_type": "stream",
     "text": [
      "\r",
      "  0%|          | 0/127 [00:00<?, ?it/s]"
     ]
    },
    {
     "name": "stdout",
     "output_type": "stream",
     "text": [
      "Start on [prediction] ...\n"
     ]
    },
    {
     "name": "stderr",
     "output_type": "stream",
     "text": [
      "100%|██████████| 127/127 [00:55<00:00,  2.25it/s]"
     ]
    },
    {
     "name": "stdout",
     "output_type": "stream",
     "text": [
      "Time for [prediction]: 0:00:55.342400\n",
      "Confusion Matrix:\n",
      "[[1294  738]\n",
      " [ 785 1247]]\n",
      "\n",
      "CM: [1294  738  785 1247] \n",
      "[tn, fp, fn, tp]\n",
      "  accuracy: 0.625\n",
      " precision: 0.625\n",
      "    recall: 0.625\n",
      "  f1-score: 0.625\n",
      "\n",
      "Accuracy:  0.625 \n",
      "\n",
      "Report for [BERTClassifier - yelp_3_arts_pro128BCE - Arts & Entertainment-->Local Flavor]:\n",
      "              precision    recall  f1-score   support\n",
      "\n",
      "           0       0.62      0.64      0.63      2032\n",
      "           1       0.63      0.61      0.62      2032\n",
      "\n",
      "    accuracy                           0.63      4064\n",
      "   macro avg       0.63      0.63      0.63      4064\n",
      "weighted avg       0.63      0.63      0.63      4064\n",
      "\n"
     ]
    },
    {
     "name": "stderr",
     "output_type": "stream",
     "text": [
      "\n"
     ]
    },
    {
     "data": {
      "image/png": "[encoded data removed]",
      "text/plain": [
       "<Figure size 432x288 with 1 Axes>"
      ]
     },
     "metadata": {
      "needs_background": "light"
     },
     "output_type": "display_data"
    },
    {
     "name": "stdout",
     "output_type": "stream",
     "text": [
      "Work on Local Services ...\n"
     ]
    },
    {
     "name": "stderr",
     "output_type": "stream",
     "text": [
      "100%|██████████| 2331/2331 [00:13<00:00, 167.20it/s]\n",
      "  0%|          | 0/2331 [00:00<?, ?it/s]"
     ]
    },
    {
     "name": "stdout",
     "output_type": "stream",
     "text": [
      "#ss (pos) 4662\n",
      "#ss (neg) 4662\n"
     ]
    },
    {
     "name": "stderr",
     "output_type": "stream",
     "text": [
      "100%|██████████| 2331/2331 [00:12<00:00, 184.94it/s]\n"
     ]
    },
    {
     "name": "stdout",
     "output_type": "stream",
     "text": [
      "#nss 9324\n",
      "#~ss 18648\n",
      "review pairs: 18648\n"
     ]
    },
    {
     "name": "stderr",
     "output_type": "stream",
     "text": [
      "\r",
      "  0%|          | 0/583 [00:00<?, ?it/s]"
     ]
    },
    {
     "name": "stdout",
     "output_type": "stream",
     "text": [
      "Start on [prediction] ...\n"
     ]
    },
    {
     "name": "stderr",
     "output_type": "stream",
     "text": [
      "100%|██████████| 583/583 [04:17<00:00,  2.53it/s]\n"
     ]
    },
    {
     "name": "stdout",
     "output_type": "stream",
     "text": [
      "Time for [prediction]: 0:04:17.046722\n",
      "Confusion Matrix:\n",
      "[[6056 3268]\n",
      " [2418 6906]]\n",
      "\n",
      "CM: [6056 3268 2418 6906] \n",
      "[tn, fp, fn, tp]\n",
      "  accuracy: 0.695\n",
      " precision: 0.697\n",
      "    recall: 0.695\n",
      "  f1-score: 0.694\n",
      "\n",
      "Accuracy:  0.695 \n",
      "\n",
      "Report for [BERTClassifier - yelp_3_arts_pro128BCE - Arts & Entertainment-->Local Services]:\n",
      "              precision    recall  f1-score   support\n",
      "\n",
      "           0       0.71      0.65      0.68      9324\n",
      "           1       0.68      0.74      0.71      9324\n",
      "\n",
      "    accuracy                           0.70     18648\n",
      "   macro avg       0.70      0.70      0.69     18648\n",
      "weighted avg       0.70      0.70      0.69     18648\n",
      "\n"
     ]
    },
    {
     "data": {
      "image/png": "[encoded data removed]",
      "text/plain": [
       "<Figure size 432x288 with 1 Axes>"
      ]
     },
     "metadata": {
      "needs_background": "light"
     },
     "output_type": "display_data"
    },
    {
     "name": "stderr",
     "output_type": "stream",
     "text": [
      " 43%|████▎     | 15/35 [00:00<00:00, 144.02it/s]"
     ]
    },
    {
     "name": "stdout",
     "output_type": "stream",
     "text": [
      "Work on Mass Media ...\n"
     ]
    },
    {
     "name": "stderr",
     "output_type": "stream",
     "text": [
      "100%|██████████| 35/35 [00:00<00:00, 134.77it/s]\n",
      " 40%|████      | 14/35 [00:00<00:00, 137.08it/s]"
     ]
    },
    {
     "name": "stdout",
     "output_type": "stream",
     "text": [
      "#ss (pos) 70\n",
      "#ss (neg) 70\n"
     ]
    },
    {
     "name": "stderr",
     "output_type": "stream",
     "text": [
      "100%|██████████| 35/35 [00:00<00:00, 133.26it/s]\n",
      "  0%|          | 0/9 [00:00<?, ?it/s]"
     ]
    },
    {
     "name": "stdout",
     "output_type": "stream",
     "text": [
      "#nss 140\n",
      "#~ss 280\n",
      "review pairs: 280\n",
      "Start on [prediction] ...\n"
     ]
    },
    {
     "name": "stderr",
     "output_type": "stream",
     "text": [
      "100%|██████████| 9/9 [00:03<00:00,  3.12it/s]"
     ]
    },
    {
     "name": "stdout",
     "output_type": "stream",
     "text": [
      "Time for [prediction]: 0:00:03.136895\n",
      "Confusion Matrix:\n",
      "[[96 44]\n",
      " [50 90]]\n",
      "\n",
      "CM: [96 44 50 90] \n",
      "[tn, fp, fn, tp]\n",
      "  accuracy: 0.664\n",
      " precision: 0.665\n",
      "    recall: 0.664\n",
      "  f1-score: 0.664\n",
      "\n",
      "Accuracy:  0.664 \n",
      "\n",
      "Report for [BERTClassifier - yelp_3_arts_pro128BCE - Arts & Entertainment-->Mass Media]:\n",
      "              precision    recall  f1-score   support\n",
      "\n",
      "           0       0.66      0.69      0.67       140\n",
      "           1       0.67      0.64      0.66       140\n",
      "\n",
      "    accuracy                           0.66       280\n",
      "   macro avg       0.66      0.66      0.66       280\n",
      "weighted avg       0.66      0.66      0.66       280\n",
      "\n"
     ]
    },
    {
     "name": "stderr",
     "output_type": "stream",
     "text": [
      "\n"
     ]
    },
    {
     "data": {
      "image/png": "[encoded data removed]",
      "text/plain": [
       "<Figure size 432x288 with 1 Axes>"
      ]
     },
     "metadata": {
      "needs_background": "light"
     },
     "output_type": "display_data"
    },
    {
     "name": "stdout",
     "output_type": "stream",
     "text": [
      "Work on Nightlife ...\n"
     ]
    },
    {
     "name": "stderr",
     "output_type": "stream",
     "text": [
      "100%|██████████| 8157/8157 [00:39<00:00, 205.37it/s]\n"
     ]
    },
    {
     "name": "stdout",
     "output_type": "stream",
     "text": [
      "#ss (pos) 16314\n",
      "#ss (neg) 16314\n"
     ]
    },
    {
     "name": "stderr",
     "output_type": "stream",
     "text": [
      "100%|██████████| 8157/8157 [00:37<00:00, 219.17it/s]\n"
     ]
    },
    {
     "name": "stdout",
     "output_type": "stream",
     "text": [
      "#nss 32628\n",
      "#~ss 65256\n",
      "review pairs: 65256\n"
     ]
    },
    {
     "name": "stderr",
     "output_type": "stream",
     "text": [
      "\r",
      "  0%|          | 0/2040 [00:00<?, ?it/s]"
     ]
    },
    {
     "name": "stdout",
     "output_type": "stream",
     "text": [
      "Start on [prediction] ...\n"
     ]
    },
    {
     "name": "stderr",
     "output_type": "stream",
     "text": [
      "100%|██████████| 2040/2040 [14:11<00:00,  3.24it/s]\n"
     ]
    },
    {
     "name": "stdout",
     "output_type": "stream",
     "text": [
      "Time for [prediction]: 0:14:11.259721\n",
      "Confusion Matrix:\n",
      "[[21473 11155]\n",
      " [12482 20146]]\n",
      "\n",
      "CM: [21473 11155 12482 20146] \n",
      "[tn, fp, fn, tp]\n",
      "  accuracy: 0.638\n",
      " precision: 0.638\n",
      "    recall: 0.638\n",
      "  f1-score: 0.638\n",
      "\n",
      "Accuracy:  0.638 \n",
      "\n",
      "Report for [BERTClassifier - yelp_3_arts_pro128BCE - Arts & Entertainment-->Nightlife]:\n",
      "              precision    recall  f1-score   support\n",
      "\n",
      "           0       0.63      0.66      0.64     32628\n",
      "           1       0.64      0.62      0.63     32628\n",
      "\n",
      "    accuracy                           0.64     65256\n",
      "   macro avg       0.64      0.64      0.64     65256\n",
      "weighted avg       0.64      0.64      0.64     65256\n",
      "\n"
     ]
    },
    {
     "data": {
      "image/png": "[encoded data removed]",
      "text/plain": [
       "<Figure size 432x288 with 1 Axes>"
      ]
     },
     "metadata": {
      "needs_background": "light"
     },
     "output_type": "display_data"
    },
    {
     "name": "stdout",
     "output_type": "stream",
     "text": [
      "Work on Pets ...\n"
     ]
    },
    {
     "name": "stderr",
     "output_type": "stream",
     "text": [
      "100%|██████████| 998/998 [00:04<00:00, 203.91it/s]\n",
      "  0%|          | 0/998 [00:00<?, ?it/s]"
     ]
    },
    {
     "name": "stdout",
     "output_type": "stream",
     "text": [
      "#ss (pos) 1996\n",
      "#ss (neg) 1996\n"
     ]
    },
    {
     "name": "stderr",
     "output_type": "stream",
     "text": [
      "100%|██████████| 998/998 [00:05<00:00, 181.55it/s]\n"
     ]
    },
    {
     "name": "stdout",
     "output_type": "stream",
     "text": [
      "#nss 3992\n",
      "#~ss 7984\n",
      "review pairs: 7984\n"
     ]
    },
    {
     "name": "stderr",
     "output_type": "stream",
     "text": [
      "\r",
      "  0%|          | 0/250 [00:00<?, ?it/s]"
     ]
    },
    {
     "name": "stdout",
     "output_type": "stream",
     "text": [
      "Start on [prediction] ...\n"
     ]
    },
    {
     "name": "stderr",
     "output_type": "stream",
     "text": [
      "100%|██████████| 250/250 [02:04<00:00,  2.49it/s]\n"
     ]
    },
    {
     "name": "stdout",
     "output_type": "stream",
     "text": [
      "Time for [prediction]: 0:02:05.004080\n",
      "Confusion Matrix:\n",
      "[[2694 1298]\n",
      " [1105 2887]]\n",
      "\n",
      "CM: [2694 1298 1105 2887] \n",
      "[tn, fp, fn, tp]\n",
      "  accuracy: 0.699\n",
      " precision: 0.699\n",
      "    recall: 0.699\n",
      "  f1-score: 0.699\n",
      "\n",
      "Accuracy:  0.699 \n",
      "\n",
      "Report for [BERTClassifier - yelp_3_arts_pro128BCE - Arts & Entertainment-->Pets]:\n",
      "              precision    recall  f1-score   support\n",
      "\n",
      "           0       0.71      0.67      0.69      3992\n",
      "           1       0.69      0.72      0.71      3992\n",
      "\n",
      "    accuracy                           0.70      7984\n",
      "   macro avg       0.70      0.70      0.70      7984\n",
      "weighted avg       0.70      0.70      0.70      7984\n",
      "\n"
     ]
    },
    {
     "data": {
      "image/png": "[encoded data removed]",
      "text/plain": [
       "<Figure size 432x288 with 1 Axes>"
      ]
     },
     "metadata": {
      "needs_background": "light"
     },
     "output_type": "display_data"
    },
    {
     "name": "stdout",
     "output_type": "stream",
     "text": [
      "Work on Professional Services ...\n"
     ]
    },
    {
     "name": "stderr",
     "output_type": "stream",
     "text": [
      "100%|██████████| 705/705 [00:03<00:00, 219.24it/s]\n",
      "  4%|▍         | 30/705 [00:00<00:02, 293.15it/s]"
     ]
    },
    {
     "name": "stdout",
     "output_type": "stream",
     "text": [
      "#ss (pos) 1410\n",
      "#ss (neg) 1410\n"
     ]
    },
    {
     "name": "stderr",
     "output_type": "stream",
     "text": [
      "100%|██████████| 705/705 [00:03<00:00, 219.35it/s]\n"
     ]
    },
    {
     "name": "stdout",
     "output_type": "stream",
     "text": [
      "#nss 2820\n",
      "#~ss 5640\n",
      "review pairs: 5640\n"
     ]
    },
    {
     "name": "stderr",
     "output_type": "stream",
     "text": [
      "\r",
      "  0%|          | 0/177 [00:00<?, ?it/s]"
     ]
    },
    {
     "name": "stdout",
     "output_type": "stream",
     "text": [
      "Start on [prediction] ...\n"
     ]
    },
    {
     "name": "stderr",
     "output_type": "stream",
     "text": [
      "100%|██████████| 177/177 [01:15<00:00,  3.67it/s]\n"
     ]
    },
    {
     "name": "stdout",
     "output_type": "stream",
     "text": [
      "Time for [prediction]: 0:01:15.155873\n",
      "Confusion Matrix:\n",
      "[[1815 1005]\n",
      " [ 718 2102]]\n",
      "\n",
      "CM: [1815 1005  718 2102] \n",
      "[tn, fp, fn, tp]\n",
      "  accuracy: 0.695\n",
      " precision: 0.697\n",
      "    recall: 0.695\n",
      "  f1-score: 0.694\n",
      "\n",
      "Accuracy:  0.695 \n",
      "\n",
      "Report for [BERTClassifier - yelp_3_arts_pro128BCE - Arts & Entertainment-->Professional Services]:\n",
      "              precision    recall  f1-score   support\n",
      "\n",
      "           0       0.72      0.64      0.68      2820\n",
      "           1       0.68      0.75      0.71      2820\n",
      "\n",
      "    accuracy                           0.69      5640\n",
      "   macro avg       0.70      0.69      0.69      5640\n",
      "weighted avg       0.70      0.69      0.69      5640\n",
      "\n"
     ]
    },
    {
     "data": {
      "image/png": "[encoded data removed]",
      "text/plain": [
       "<Figure size 432x288 with 1 Axes>"
      ]
     },
     "metadata": {
      "needs_background": "light"
     },
     "output_type": "display_data"
    },
    {
     "name": "stdout",
     "output_type": "stream",
     "text": [
      "Work on Public Services & Government ...\n"
     ]
    },
    {
     "name": "stderr",
     "output_type": "stream",
     "text": [
      "100%|██████████| 290/290 [00:01<00:00, 202.50it/s]\n",
      "  9%|▉         | 26/290 [00:00<00:01, 257.34it/s]"
     ]
    },
    {
     "name": "stdout",
     "output_type": "stream",
     "text": [
      "#ss (pos) 580\n",
      "#ss (neg) 580\n"
     ]
    },
    {
     "name": "stderr",
     "output_type": "stream",
     "text": [
      "100%|██████████| 290/290 [00:01<00:00, 265.50it/s]\n"
     ]
    },
    {
     "name": "stdout",
     "output_type": "stream",
     "text": [
      "#nss 1160\n",
      "#~ss 2320\n",
      "review pairs: 2320\n"
     ]
    },
    {
     "name": "stderr",
     "output_type": "stream",
     "text": [
      "\r",
      "  0%|          | 0/73 [00:00<?, ?it/s]"
     ]
    },
    {
     "name": "stdout",
     "output_type": "stream",
     "text": [
      "Start on [prediction] ...\n"
     ]
    },
    {
     "name": "stderr",
     "output_type": "stream",
     "text": [
      "100%|██████████| 73/73 [00:30<00:00,  2.94it/s]"
     ]
    },
    {
     "name": "stdout",
     "output_type": "stream",
     "text": [
      "Time for [prediction]: 0:00:30.087155\n",
      "Confusion Matrix:\n",
      "[[771 389]\n",
      " [435 725]]\n",
      "\n",
      "CM: [771 389 435 725] \n",
      "[tn, fp, fn, tp]\n",
      "  accuracy: 0.645\n",
      " precision: 0.645\n",
      "    recall: 0.645\n",
      "  f1-score: 0.645\n",
      "\n",
      "Accuracy:  0.645 \n",
      "\n",
      "Report for [BERTClassifier - yelp_3_arts_pro128BCE - Arts & Entertainment-->Public Services & Government]:\n",
      "              precision    recall  f1-score   support\n",
      "\n",
      "           0       0.64      0.66      0.65      1160\n",
      "           1       0.65      0.62      0.64      1160\n",
      "\n",
      "    accuracy                           0.64      2320\n",
      "   macro avg       0.65      0.64      0.64      2320\n",
      "weighted avg       0.65      0.64      0.64      2320\n",
      "\n"
     ]
    },
    {
     "name": "stderr",
     "output_type": "stream",
     "text": [
      "\n"
     ]
    },
    {
     "data": {
      "image/png": "[encoded data removed]",
      "text/plain": [
       "<Figure size 432x288 with 1 Axes>"
      ]
     },
     "metadata": {
      "needs_background": "light"
     },
     "output_type": "display_data"
    },
    {
     "name": "stdout",
     "output_type": "stream",
     "text": [
      "Work on Religious Organizations ...\n"
     ]
    },
    {
     "name": "stderr",
     "output_type": "stream",
     "text": [
      "100%|██████████| 43/43 [00:00<00:00, 275.21it/s]\n",
      "100%|██████████| 43/43 [00:00<00:00, 397.52it/s]\n",
      "  0%|          | 0/11 [00:00<?, ?it/s]"
     ]
    },
    {
     "name": "stdout",
     "output_type": "stream",
     "text": [
      "#ss (pos) 86\n",
      "#ss (neg) 86\n",
      "#nss 172\n",
      "#~ss 344\n",
      "review pairs: 344\n",
      "Start on [prediction] ...\n"
     ]
    },
    {
     "name": "stderr",
     "output_type": "stream",
     "text": [
      "100%|██████████| 11/11 [00:04<00:00,  2.41it/s]"
     ]
    },
    {
     "name": "stdout",
     "output_type": "stream",
     "text": [
      "Time for [prediction]: 0:00:04.321931\n",
      "Confusion Matrix:\n",
      "[[100  72]\n",
      " [ 55 117]]\n",
      "\n",
      "CM: [100  72  55 117] \n",
      "[tn, fp, fn, tp]\n",
      "  accuracy: 0.631\n",
      " precision: 0.632\n",
      "    recall: 0.631\n",
      "  f1-score: 0.630\n",
      "\n",
      "Accuracy:  0.631 \n",
      "\n",
      "Report for [BERTClassifier - yelp_3_arts_pro128BCE - Arts & Entertainment-->Religious Organizations]:\n",
      "              precision    recall  f1-score   support\n",
      "\n",
      "           0       0.65      0.58      0.61       172\n",
      "           1       0.62      0.68      0.65       172\n",
      "\n",
      "    accuracy                           0.63       344\n",
      "   macro avg       0.63      0.63      0.63       344\n",
      "weighted avg       0.63      0.63      0.63       344\n",
      "\n"
     ]
    },
    {
     "name": "stderr",
     "output_type": "stream",
     "text": [
      "\n"
     ]
    },
    {
     "data": {
      "image/png": "[encoded data removed]",
      "text/plain": [
       "<Figure size 432x288 with 1 Axes>"
      ]
     },
     "metadata": {
      "needs_background": "light"
     },
     "output_type": "display_data"
    },
    {
     "name": "stdout",
     "output_type": "stream",
     "text": [
      "Work on Restaurants ...\n"
     ]
    },
    {
     "name": "stderr",
     "output_type": "stream",
     "text": [
      "100%|██████████| 33354/33354 [02:57<00:00, 188.01it/s]\n"
     ]
    },
    {
     "name": "stdout",
     "output_type": "stream",
     "text": [
      "#ss (pos) 66708\n",
      "#ss (neg) 66708\n"
     ]
    },
    {
     "name": "stderr",
     "output_type": "stream",
     "text": [
      "100%|██████████| 33354/33354 [02:37<00:00, 212.06it/s]\n"
     ]
    },
    {
     "name": "stdout",
     "output_type": "stream",
     "text": [
      "#nss 133416\n",
      "#~ss 266832\n",
      "review pairs: 266832\n"
     ]
    },
    {
     "name": "stderr",
     "output_type": "stream",
     "text": [
      "\r",
      "  0%|          | 0/8339 [00:00<?, ?it/s]"
     ]
    },
    {
     "name": "stdout",
     "output_type": "stream",
     "text": [
      "Start on [prediction] ...\n"
     ]
    },
    {
     "name": "stderr",
     "output_type": "stream",
     "text": [
      "100%|██████████| 8339/8339 [55:32<00:00,  3.12it/s]  \n"
     ]
    },
    {
     "name": "stdout",
     "output_type": "stream",
     "text": [
      "Time for [prediction]: 0:55:32.008713\n",
      "Confusion Matrix:\n",
      "[[84261 49155]\n",
      " [45305 88111]]\n",
      "\n",
      "CM: [84261 49155 45305 88111] \n",
      "[tn, fp, fn, tp]\n",
      "  accuracy: 0.646\n",
      " precision: 0.646\n",
      "    recall: 0.646\n",
      "  f1-score: 0.646\n",
      "\n",
      "Accuracy:  0.646 \n",
      "\n",
      "Report for [BERTClassifier - yelp_3_arts_pro128BCE - Arts & Entertainment-->Restaurants]:\n",
      "              precision    recall  f1-score   support\n",
      "\n",
      "           0       0.65      0.63      0.64    133416\n",
      "           1       0.64      0.66      0.65    133416\n",
      "\n",
      "    accuracy                           0.65    266832\n",
      "   macro avg       0.65      0.65      0.65    266832\n",
      "weighted avg       0.65      0.65      0.65    266832\n",
      "\n"
     ]
    },
    {
     "data": {
      "image/png": "[encoded data removed]",
      "text/plain": [
       "<Figure size 432x288 with 1 Axes>"
      ]
     },
     "metadata": {
      "needs_background": "light"
     },
     "output_type": "display_data"
    },
    {
     "name": "stdout",
     "output_type": "stream",
     "text": [
      "Work on Shopping ...\n"
     ]
    },
    {
     "name": "stderr",
     "output_type": "stream",
     "text": [
      "100%|██████████| 6597/6597 [00:28<00:00, 229.57it/s]\n"
     ]
    },
    {
     "name": "stdout",
     "output_type": "stream",
     "text": [
      "#ss (pos) 13194\n",
      "#ss (neg) 13194\n"
     ]
    },
    {
     "name": "stderr",
     "output_type": "stream",
     "text": [
      "100%|██████████| 6597/6597 [00:26<00:00, 251.64it/s]\n"
     ]
    },
    {
     "name": "stdout",
     "output_type": "stream",
     "text": [
      "#nss 26388\n",
      "#~ss 52776\n",
      "review pairs: 52776\n"
     ]
    },
    {
     "name": "stderr",
     "output_type": "stream",
     "text": [
      "\r",
      "  0%|          | 0/1650 [00:00<?, ?it/s]"
     ]
    },
    {
     "name": "stdout",
     "output_type": "stream",
     "text": [
      "Start on [prediction] ...\n"
     ]
    },
    {
     "name": "stderr",
     "output_type": "stream",
     "text": [
      "100%|██████████| 1650/1650 [11:41<00:00,  2.66it/s]\n"
     ]
    },
    {
     "name": "stdout",
     "output_type": "stream",
     "text": [
      "Time for [prediction]: 0:11:41.493028\n",
      "Confusion Matrix:\n",
      "[[17444  8944]\n",
      " [ 8780 17608]]\n",
      "\n",
      "CM: [17444  8944  8780 17608] \n",
      "[tn, fp, fn, tp]\n",
      "  accuracy: 0.664\n",
      " precision: 0.664\n",
      "    recall: 0.664\n",
      "  f1-score: 0.664\n",
      "\n",
      "Accuracy:  0.664 \n",
      "\n",
      "Report for [BERTClassifier - yelp_3_arts_pro128BCE - Arts & Entertainment-->Shopping]:\n",
      "              precision    recall  f1-score   support\n",
      "\n",
      "           0       0.67      0.66      0.66     26388\n",
      "           1       0.66      0.67      0.67     26388\n",
      "\n",
      "    accuracy                           0.66     52776\n",
      "   macro avg       0.66      0.66      0.66     52776\n",
      "weighted avg       0.66      0.66      0.66     52776\n",
      "\n"
     ]
    },
    {
     "data": {
      "image/png": "[encoded data removed]",
      "text/plain": [
       "<Figure size 432x288 with 1 Axes>"
      ]
     },
     "metadata": {
      "needs_background": "light"
     },
     "output_type": "display_data"
    }
   ],
   "source": [
    "results_cross_overlap = dict()\n",
    "\n",
    "for root_category_label in root_category_labels:\n",
    "    if root_category_label == category_name:\n",
    "        continue\n",
    "\n",
    "    print(f\"Work on {root_category_label} ...\")\n",
    "    # with overlap\n",
    "    df_other = load_cached_root_category_businesses_df(root_category_label, map_categories)\n",
    "    \n",
    "    df_other = filter_min_review_freq(df_other, min_ratings=5)\n",
    "    df_other = filter_both_good_bad(df_other)\n",
    "    df_other = make_or_load_pairs(df_other, None, num_pairs_per_class=2)\n",
    "    print(\"review pairs:\", len(df_other))\n",
    "    \n",
    "    df_other[\"tag\"] = \"NA\"\n",
    "    \n",
    "    X_dev, y_dev = df_other[names_columns_X_arteval], df_other[names_columns_y]\n",
    "    data_dev_raw, data_dev = transform_dataset(X_dev, y_dev, transform)\n",
    "    \n",
    "    all_predictions, cum_loss = predict(model, data_dev, ctx, metric, loss_function, batch_size=batch_size)\n",
    "    y_true, y_pred = predict_out_to_ys(all_predictions, all_labels)\n",
    "    report_training_results(y_true, y_pred, name=f\"BERTClassifier - {run_name} - {category_name}-->{root_category_label}\", heatmap=False)\n",
    "    plot_confusion_matrix(y_true, y_pred, labels=[0, 1], title=f\"{run_name} - {category_name}-->{root_category_label}\", values_format=\"d\", cmap=\"Blues\", include_colorbar=False)\n",
    "    plt.show()\n",
    "    \n",
    "    res_one = (len(df_other), len(df_other))\n",
    "    res_one += compute_metrics(y_true, y_pred, precision=8, averaging=\"macro\", dump=False)\n",
    "    results_cross_overlap[root_category_label] = res_one"
   ]
  },
  {
   "cell_type": "code",
   "execution_count": 54,
   "metadata": {
    "ExecuteTime": {
     "end_time": "2020-05-11T15:03:34.365713Z",
     "start_time": "2020-05-11T15:03:34.351789Z"
    },
    "collapsed": true,
    "jupyter": {
     "outputs_hidden": true
    }
   },
   "outputs": [
    {
     "data": {
      "text/plain": [
       "{'Active Life': (13464,\n",
       "  13464,\n",
       "  0.6612516772906207,\n",
       "  0.661096256684492,\n",
       "  0.6610145748670866,\n",
       "  0.661096256684492,\n",
       "  array([[4555, 2177],\n",
       "         [2386, 4346]])),\n",
       " 'Automotive': (22632,\n",
       "  22632,\n",
       "  0.6937685572996708,\n",
       "  0.6932219865676917,\n",
       "  0.6930054986456353,\n",
       "  0.6932219865676917,\n",
       "  array([[7544, 3772],\n",
       "         [3171, 8145]])),\n",
       " 'Beauty & Spas': (39552,\n",
       "  39552,\n",
       "  0.7149389298222291,\n",
       "  0.7139209142394822,\n",
       "  0.7135817734681555,\n",
       "  0.7139209142394822,\n",
       "  array([[13438,  6338],\n",
       "         [ 4977, 14799]])),\n",
       " 'Bicycles': (8,\n",
       "  8,\n",
       "  0.3666666666666667,\n",
       "  0.375,\n",
       "  0.3650793650793651,\n",
       "  0.375,\n",
       "  array([[2, 2],\n",
       "         [3, 1]])),\n",
       " 'Education': (2968,\n",
       "  2968,\n",
       "  0.6759914068080326,\n",
       "  0.6758760107816711,\n",
       "  0.6758228707545092,\n",
       "  0.6758760107816711,\n",
       "  array([[ 984,  500],\n",
       "         [ 462, 1022]])),\n",
       " 'Event Planning & Services': (25600,\n",
       "  25600,\n",
       "  0.6492164825140994,\n",
       "  0.6491796875,\n",
       "  0.6491580591350512,\n",
       "  0.6491796875,\n",
       "  array([[8209, 4591],\n",
       "         [4390, 8410]])),\n",
       " 'Financial Services': (2360,\n",
       "  2360,\n",
       "  0.7195548324563833,\n",
       "  0.7186440677966102,\n",
       "  0.7183519823775878,\n",
       "  0.7186440677966102,\n",
       "  array([[810, 370],\n",
       "         [294, 886]])),\n",
       " 'Food': (99888,\n",
       "  99888,\n",
       "  0.6413347150117343,\n",
       "  0.6412582091942975,\n",
       "  0.641209655042851,\n",
       "  0.6412582091942977,\n",
       "  array([[31446, 18498],\n",
       "         [17336, 32608]])),\n",
       " 'Health & Medical': (25336,\n",
       "  25336,\n",
       "  0.7117951383074967,\n",
       "  0.7096226712977581,\n",
       "  0.7088761279483289,\n",
       "  0.7096226712977581,\n",
       "  array([[8348, 4320],\n",
       "         [3037, 9631]])),\n",
       " 'Home Services': (24560,\n",
       "  24560,\n",
       "  0.7100493535396235,\n",
       "  0.7073697068403908,\n",
       "  0.7064334332117854,\n",
       "  0.7073697068403909,\n",
       "  array([[7993, 4287],\n",
       "         [2900, 9380]])),\n",
       " 'Hotels & Travel': (16104,\n",
       "  16104,\n",
       "  0.6614510593648679,\n",
       "  0.6614505712866369,\n",
       "  0.6614503154215905,\n",
       "  0.6614505712866369,\n",
       "  array([[5319, 2733],\n",
       "         [2719, 5333]])),\n",
       " 'Local Flavor': (2952,\n",
       "  2952,\n",
       "  0.6348278090733491,\n",
       "  0.6348238482384824,\n",
       "  0.6348211662749706,\n",
       "  0.6348238482384824,\n",
       "  array([[933, 543],\n",
       "         [535, 941]])),\n",
       " 'Local Services': (18296,\n",
       "  18296,\n",
       "  0.6969844960593162,\n",
       "  0.695397901180586,\n",
       "  0.6947833157209842,\n",
       "  0.695397901180586,\n",
       "  array([[5951, 3197],\n",
       "         [2376, 6772]])),\n",
       " 'Mass Media': (272,\n",
       "  272,\n",
       "  0.6996086105675147,\n",
       "  0.6985294117647058,\n",
       "  0.6981213794596935,\n",
       "  0.6985294117647058,\n",
       "  array([[100,  36],\n",
       "         [ 46,  90]])),\n",
       " 'Nightlife': (56872,\n",
       "  56872,\n",
       "  0.6377949281326031,\n",
       "  0.6376424250949501,\n",
       "  0.6375421385211882,\n",
       "  0.6376424250949501,\n",
       "  array([[18605,  9831],\n",
       "         [10777, 17659]])),\n",
       " 'Pets': (7912,\n",
       "  7912,\n",
       "  0.6892157276499965,\n",
       "  0.6890798786653185,\n",
       "  0.6890240617335055,\n",
       "  0.6890798786653185,\n",
       "  array([[2673, 1283],\n",
       "         [1177, 2779]])),\n",
       " 'Professional Services': (5496,\n",
       "  5496,\n",
       "  0.7153668506735142,\n",
       "  0.7137918486171762,\n",
       "  0.713267622066698,\n",
       "  0.7137918486171762,\n",
       "  array([[1844,  904],\n",
       "         [ 669, 2079]])),\n",
       " 'Public Services & Government': (2088,\n",
       "  2088,\n",
       "  0.6352977941176471,\n",
       "  0.6350574712643677,\n",
       "  0.6348953418783021,\n",
       "  0.6350574712643678,\n",
       "  array([[685, 359],\n",
       "         [403, 641]])),\n",
       " 'Religious Organizations': (312,\n",
       "  312,\n",
       "  0.6403640929064658,\n",
       "  0.6378205128205128,\n",
       "  0.6361722547289558,\n",
       "  0.6378205128205128,\n",
       "  array([[ 89,  67],\n",
       "         [ 46, 110]])),\n",
       " 'Restaurants': (261144,\n",
       "  261144,\n",
       "  0.6442248925011598,\n",
       "  0.6441197193885366,\n",
       "  0.6440548279176159,\n",
       "  0.6441197193885366,\n",
       "  array([[82341, 48231],\n",
       "         [44705, 85867]])),\n",
       " 'Shopping': (50648,\n",
       "  50648,\n",
       "  0.6698482487940424,\n",
       "  0.6698388880113726,\n",
       "  0.6698343389373902,\n",
       "  0.6698388880113726,\n",
       "  array([[16869,  8455],\n",
       "         [ 8267, 17057]]))}"
      ]
     },
     "execution_count": 54,
     "metadata": {},
     "output_type": "execute_result"
    }
   ],
   "source": [
    "results_cross_no_overlap"
   ]
  },
  {
   "cell_type": "code",
   "execution_count": 55,
   "metadata": {
    "ExecuteTime": {
     "end_time": "2020-05-11T15:03:37.903115Z",
     "start_time": "2020-05-11T15:03:37.893707Z"
    },
    "collapsed": true,
    "jupyter": {
     "outputs_hidden": true
    }
   },
   "outputs": [
    {
     "data": {
      "text/plain": [
       "{'Active Life': (16312,\n",
       "  16312,\n",
       "  0.6553771880443046,\n",
       "  0.6553457577243746,\n",
       "  0.6553283273327595,\n",
       "  0.6553457577243746,\n",
       "  array([[5403, 2753],\n",
       "         [2869, 5287]])),\n",
       " 'Automotive': (22784,\n",
       "  22784,\n",
       "  0.6929763559937059,\n",
       "  0.6926351825842696,\n",
       "  0.69249927076277,\n",
       "  0.6926351825842697,\n",
       "  array([[7651, 3741],\n",
       "         [3262, 8130]])),\n",
       " 'Beauty & Spas': (39928,\n",
       "  39928,\n",
       "  0.7135559284035453,\n",
       "  0.7125325586054898,\n",
       "  0.7121877562392231,\n",
       "  0.7125325586054899,\n",
       "  array([[13534,  6430],\n",
       "         [ 5048, 14916]])),\n",
       " 'Bicycles': (8, 8, 0.5, 0.5, 0.4666666666666667, 0.5, array([[3, 1],\n",
       "         [3, 1]])),\n",
       " 'Education': (3504,\n",
       "  3504,\n",
       "  0.6798545208050892,\n",
       "  0.6797945205479452,\n",
       "  0.679767812832329,\n",
       "  0.6797945205479452,\n",
       "  array([[1175,  577],\n",
       "         [ 545, 1207]])),\n",
       " 'Event Planning & Services': (29648,\n",
       "  29648,\n",
       "  0.6526192966926853,\n",
       "  0.6525903939557475,\n",
       "  0.6525739452430296,\n",
       "  0.6525903939557475,\n",
       "  array([[9776, 5048],\n",
       "         [5252, 9572]])),\n",
       " 'Financial Services': (2368,\n",
       "  2368,\n",
       "  0.7245525877454323,\n",
       "  0.7233952702702703,\n",
       "  0.723038413456379,\n",
       "  0.7233952702702703,\n",
       "  array([[814, 370],\n",
       "         [285, 899]])),\n",
       " 'Food': (102232,\n",
       "  102232,\n",
       "  0.6418129764370087,\n",
       "  0.6417462242741998,\n",
       "  0.6417040612975898,\n",
       "  0.6417462242741998,\n",
       "  array([[32249, 18867],\n",
       "         [17758, 33358]])),\n",
       " 'Health & Medical': (25440,\n",
       "  25440,\n",
       "  0.7112406324491533,\n",
       "  0.7095911949685534,\n",
       "  0.7090231839035295,\n",
       "  0.7095911949685535,\n",
       "  array([[8464, 4256],\n",
       "         [3132, 9588]])),\n",
       " 'Home Services': (24744,\n",
       "  24744,\n",
       "  0.7069379860256408,\n",
       "  0.7042919495635305,\n",
       "  0.7033436418658774,\n",
       "  0.7042919495635306,\n",
       "  array([[8014, 4358],\n",
       "         [2959, 9413]])),\n",
       " 'Hotels & Travel': (17784,\n",
       "  17784,\n",
       "  0.6497470696097152,\n",
       "  0.6497413405308142,\n",
       "  0.6497379904173626,\n",
       "  0.6497413405308142,\n",
       "  array([[5750, 3142],\n",
       "         [3087, 5805]])),\n",
       " 'Local Flavor': (4064,\n",
       "  4064,\n",
       "  0.6253131046581928,\n",
       "  0.6252460629921259,\n",
       "  0.6251959335800227,\n",
       "  0.625246062992126,\n",
       "  array([[1294,  738],\n",
       "         [ 785, 1247]])),\n",
       " 'Local Services': (18648,\n",
       "  18648,\n",
       "  0.6967228334137296,\n",
       "  0.695087945087945,\n",
       "  0.6944531242444717,\n",
       "  0.6950879450879451,\n",
       "  array([[6056, 3268],\n",
       "         [2418, 6906]])),\n",
       " 'Mass Media': (280,\n",
       "  280,\n",
       "  0.6645880188100592,\n",
       "  0.6642857142857144,\n",
       "  0.6641314889490072,\n",
       "  0.6642857142857143,\n",
       "  array([[96, 44],\n",
       "         [50, 90]])),\n",
       " 'Nightlife': (65256,\n",
       "  65256,\n",
       "  0.6380087137638231,\n",
       "  0.6377804339830819,\n",
       "  0.6376305854549644,\n",
       "  0.637780433983082,\n",
       "  array([[21473, 11155],\n",
       "         [12482, 20146]])),\n",
       " 'Pets': (7984,\n",
       "  7984,\n",
       "  0.6994893330100388,\n",
       "  0.6990230460921844,\n",
       "  0.6988470671679804,\n",
       "  0.6990230460921844,\n",
       "  array([[2694, 1298],\n",
       "         [1105, 2887]])),\n",
       " 'Professional Services': (5640,\n",
       "  5640,\n",
       "  0.6965392512431018,\n",
       "  0.6945035460992908,\n",
       "  0.6937104281177263,\n",
       "  0.6945035460992908,\n",
       "  array([[1815, 1005],\n",
       "         [ 718, 2102]])),\n",
       " 'Public Services & Government': (2320,\n",
       "  2320,\n",
       "  0.6450556910242325,\n",
       "  0.6448275862068966,\n",
       "  0.6446879012334665,\n",
       "  0.6448275862068965,\n",
       "  array([[771, 389],\n",
       "         [435, 725]])),\n",
       " 'Religious Organizations': (344,\n",
       "  344,\n",
       "  0.6321044546850998,\n",
       "  0.6308139534883721,\n",
       "  0.6299101205452067,\n",
       "  0.6308139534883721,\n",
       "  array([[100,  72],\n",
       "         [ 55, 117]])),\n",
       " 'Restaurants': (266832,\n",
       "  266832,\n",
       "  0.6461161591263683,\n",
       "  0.6459944834202794,\n",
       "  0.6459207700805478,\n",
       "  0.6459944834202794,\n",
       "  array([[84261, 49155],\n",
       "         [45305, 88111]])),\n",
       " 'Shopping': (52776,\n",
       "  52776,\n",
       "  0.664171871016083,\n",
       "  0.6641655297862665,\n",
       "  0.6641622868066573,\n",
       "  0.6641655297862665,\n",
       "  array([[17444,  8944],\n",
       "         [ 8780, 17608]]))}"
      ]
     },
     "execution_count": 55,
     "metadata": {},
     "output_type": "execute_result"
    }
   ],
   "source": [
    "results_cross_overlap"
   ]
  },
  {
   "cell_type": "code",
   "execution_count": 60,
   "metadata": {
    "ExecuteTime": {
     "end_time": "2020-05-11T15:24:22.259377Z",
     "start_time": "2020-05-11T15:24:22.243842Z"
    }
   },
   "outputs": [
    {
     "name": "stdout",
     "output_type": "stream",
     "text": [
      "Category                      : Prec    Rec     F1      Acc     -- Confusion (tn, fp, fn, tp)\n",
      "Active Life                   : 66.13%  66.11%  66.10%  66.11%  -- [4555, 2177, 2386, 4346]\n",
      "Automotive                    : 69.38%  69.32%  69.30%  69.32%  -- [7544, 3772, 3171, 8145]\n",
      "Beauty & Spas                 : 71.49%  71.39%  71.36%  71.39%  -- [13438, 6338, 4977, 14799]\n",
      "Bicycles                      : 36.67%  37.50%  36.51%  37.50%  -- [2, 2, 3, 1]\n",
      "Education                     : 67.60%  67.59%  67.58%  67.59%  -- [984, 500, 462, 1022]\n",
      "Event Planning & Services     : 64.92%  64.92%  64.92%  64.92%  -- [8209, 4591, 4390, 8410]\n",
      "Financial Services            : 71.96%  71.86%  71.84%  71.86%  -- [810, 370, 294, 886]\n",
      "Food                          : 64.13%  64.13%  64.12%  64.13%  -- [31446, 18498, 17336, 32608]\n",
      "Health & Medical              : 71.18%  70.96%  70.89%  70.96%  -- [8348, 4320, 3037, 9631]\n",
      "Home Services                 : 71.00%  70.74%  70.64%  70.74%  -- [7993, 4287, 2900, 9380]\n",
      "Hotels & Travel               : 66.15%  66.15%  66.15%  66.15%  -- [5319, 2733, 2719, 5333]\n",
      "Local Flavor                  : 63.48%  63.48%  63.48%  63.48%  -- [933, 543, 535, 941]\n",
      "Local Services                : 69.70%  69.54%  69.48%  69.54%  -- [5951, 3197, 2376, 6772]\n",
      "Mass Media                    : 69.96%  69.85%  69.81%  69.85%  -- [100, 36, 46, 90]\n",
      "Nightlife                     : 63.78%  63.76%  63.75%  63.76%  -- [18605, 9831, 10777, 17659]\n",
      "Pets                          : 68.92%  68.91%  68.90%  68.91%  -- [2673, 1283, 1177, 2779]\n",
      "Professional Services         : 71.54%  71.38%  71.33%  71.38%  -- [1844, 904, 669, 2079]\n",
      "Public Services & Government  : 63.53%  63.51%  63.49%  63.51%  -- [685, 359, 403, 641]\n",
      "Religious Organizations       : 64.04%  63.78%  63.62%  63.78%  -- [89, 67, 46, 110]\n",
      "Restaurants                   : 64.42%  64.41%  64.41%  64.41%  -- [82341, 48231, 44705, 85867]\n",
      "Shopping                      : 66.98%  66.98%  66.98%  66.98%  -- [16869, 8455, 8267, 17057]\n"
     ]
    }
   ],
   "source": [
    "print(f\"\"\"{\"Category\":<30}: {\"Prec\":<7} {\"Rec\":<7} {\"F1\":<7} {\"Acc\":<7} -- Confusion (tn, fp, fn, tp)\"\"\")\n",
    "\n",
    "for name, (num_business, num_pairs, prec, rec, f1, acc, cm) in results_cross_no_overlap.items():\n",
    "    print(f\"{name:<30}: {prec * 100:5.2f}%  {rec * 100:5.2f}%  {f1 * 100:5.2f}%  {acc * 100:5.2f}%  -- {cm.flatten().tolist()}\")"
   ]
  },
  {
   "cell_type": "code",
   "execution_count": 61,
   "metadata": {
    "ExecuteTime": {
     "end_time": "2020-05-11T15:24:36.366767Z",
     "start_time": "2020-05-11T15:24:36.357952Z"
    }
   },
   "outputs": [
    {
     "name": "stdout",
     "output_type": "stream",
     "text": [
      "Category                      : Prec    Rec     F1      Acc     -- Confusion (tn, fp, fn, tp)\n",
      "Active Life                   : 65.54%  65.53%  65.53%  65.53%  -- [5403, 2753, 2869, 5287]\n",
      "Automotive                    : 69.30%  69.26%  69.25%  69.26%  -- [7651, 3741, 3262, 8130]\n",
      "Beauty & Spas                 : 71.36%  71.25%  71.22%  71.25%  -- [13534, 6430, 5048, 14916]\n",
      "Bicycles                      : 50.00%  50.00%  46.67%  50.00%  -- [3, 1, 3, 1]\n",
      "Education                     : 67.99%  67.98%  67.98%  67.98%  -- [1175, 577, 545, 1207]\n",
      "Event Planning & Services     : 65.26%  65.26%  65.26%  65.26%  -- [9776, 5048, 5252, 9572]\n",
      "Financial Services            : 72.46%  72.34%  72.30%  72.34%  -- [814, 370, 285, 899]\n",
      "Food                          : 64.18%  64.17%  64.17%  64.17%  -- [32249, 18867, 17758, 33358]\n",
      "Health & Medical              : 71.12%  70.96%  70.90%  70.96%  -- [8464, 4256, 3132, 9588]\n",
      "Home Services                 : 70.69%  70.43%  70.33%  70.43%  -- [8014, 4358, 2959, 9413]\n",
      "Hotels & Travel               : 64.97%  64.97%  64.97%  64.97%  -- [5750, 3142, 3087, 5805]\n",
      "Local Flavor                  : 62.53%  62.52%  62.52%  62.52%  -- [1294, 738, 785, 1247]\n",
      "Local Services                : 69.67%  69.51%  69.45%  69.51%  -- [6056, 3268, 2418, 6906]\n",
      "Mass Media                    : 66.46%  66.43%  66.41%  66.43%  -- [96, 44, 50, 90]\n",
      "Nightlife                     : 63.80%  63.78%  63.76%  63.78%  -- [21473, 11155, 12482, 20146]\n",
      "Pets                          : 69.95%  69.90%  69.88%  69.90%  -- [2694, 1298, 1105, 2887]\n",
      "Professional Services         : 69.65%  69.45%  69.37%  69.45%  -- [1815, 1005, 718, 2102]\n",
      "Public Services & Government  : 64.51%  64.48%  64.47%  64.48%  -- [771, 389, 435, 725]\n",
      "Religious Organizations       : 63.21%  63.08%  62.99%  63.08%  -- [100, 72, 55, 117]\n",
      "Restaurants                   : 64.61%  64.60%  64.59%  64.60%  -- [84261, 49155, 45305, 88111]\n",
      "Shopping                      : 66.42%  66.42%  66.42%  66.42%  -- [17444, 8944, 8780, 17608]\n"
     ]
    }
   ],
   "source": [
    "print(f\"\"\"{\"Category\":<30}: {\"Prec\":<7} {\"Rec\":<7} {\"F1\":<7} {\"Acc\":<7} -- Confusion (tn, fp, fn, tp)\"\"\")\n",
    "\n",
    "for name, (num_business, num_pairs, prec, rec, f1, acc, cm) in results_cross_overlap.items():\n",
    "    print(f\"{name:<30}: {prec * 100:5.2f}%  {rec * 100:5.2f}%  {f1 * 100:5.2f}%  {acc * 100:5.2f}%  -- {cm.flatten().tolist()}\")"
   ]
  },
  {
   "cell_type": "code",
   "execution_count": 53,
   "metadata": {
    "ExecuteTime": {
     "end_time": "2020-05-11T15:03:31.296520Z",
     "start_time": "2020-05-11T15:03:31.281386Z"
    }
   },
   "outputs": [],
   "source": [
    "fn_results = fn_run_path / \"results_cross_dicts.p\"\n",
    "\n",
    "with open(fn_results, \"wb\") as fp:\n",
    "    pickle.dump((category_name, \"overlap\", results_cross_overlap), fp, protocol=pickle.HIGHEST_PROTOCOL)\n",
    "    pickle.dump((category_name, \"no overlap\", results_cross_no_overlap), fp, protocol=pickle.HIGHEST_PROTOCOL)"
   ]
  },
  {
   "cell_type": "code",
   "execution_count": null,
   "metadata": {},
   "outputs": [],
   "source": []
  }
 ],
 "metadata": {
  "kernelspec": {
   "display_name": "Python 3",
   "language": "python",
   "name": "python3"
  },
  "language_info": {
   "codemirror_mode": {
    "name": "ipython",
    "version": 3
   },
   "file_extension": ".py",
   "mimetype": "text/x-python",
   "name": "python",
   "nbconvert_exporter": "python",
   "pygments_lexer": "ipython3",
   "version": "3.7.3"
  },
  "varInspector": {
   "cols": {
    "lenName": 16,
    "lenType": 16,
    "lenVar": 40
   },
   "kernels_config": {
    "python": {
     "delete_cmd_postfix": "",
     "delete_cmd_prefix": "del ",
     "library": "var_list.py",
     "varRefreshCmd": "print(var_dic_list())"
    },
    "r": {
     "delete_cmd_postfix": ") ",
     "delete_cmd_prefix": "rm(",
     "library": "var_list.r",
     "varRefreshCmd": "cat(var_dic_list()) "
    }
   },
   "types_to_exclude": [
    "module",
    "function",
    "builtin_function_or_method",
    "instance",
    "_Feature"
   ],
   "window_display": false
  }
 },
 "nbformat": 4,
 "nbformat_minor": 4
}
