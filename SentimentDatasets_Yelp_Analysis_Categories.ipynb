{
 "cells": [
  {
   "cell_type": "markdown",
   "metadata": {},
   "source": [
    "# Datasets (Sentiment) - Yelp - Categories"
   ]
  },
  {
   "cell_type": "markdown",
   "metadata": {},
   "source": [
    "## Yelp\n",
    "\n",
    "- https://www.yelp.com/dataset/documentation/main\n",
    "- https://www.yelp.com/developers/documentation/v3/all_category_list"
   ]
  },
  {
   "cell_type": "code",
   "execution_count": null,
   "metadata": {},
   "outputs": [],
   "source": [
    "! wget -O data/sentiment/yelp/all_category_list.json https://www.yelp.com/developers/documentation/v3/all_category_list/categories.json"
   ]
  },
  {
   "cell_type": "code",
   "execution_count": null,
   "metadata": {},
   "outputs": [],
   "source": []
  },
  {
   "cell_type": "code",
   "execution_count": null,
   "metadata": {},
   "outputs": [],
   "source": [
    "! pip install jsonlines"
   ]
  },
  {
   "cell_type": "code",
   "execution_count": null,
   "metadata": {},
   "outputs": [],
   "source": [
    "! pip install syntok"
   ]
  },
  {
   "cell_type": "code",
   "execution_count": 1,
   "metadata": {
    "ExecuteTime": {
     "end_time": "2020-03-23T11:31:24.066172Z",
     "start_time": "2020-03-23T11:31:23.599690Z"
    }
   },
   "outputs": [
    {
     "name": "stderr",
     "output_type": "stream",
     "text": [
      "/disk1/users/ekoerner/miniconda3/envs/argmining19-ssc/lib/python3.7/site-packages/tqdm/std.py:658: FutureWarning: The Panel class is removed from pandas. Accessing it from the top-level namespace will also be removed in the next version\n",
      "  from pandas import Panel\n"
     ]
    },
    {
     "data": {
      "text/plain": [
       "[]"
      ]
     },
     "execution_count": 1,
     "metadata": {},
     "output_type": "execute_result"
    },
    {
     "data": {
      "image/png": "[encoded data removed]",
      "text/plain": [
       "<Figure size 432x288 with 1 Axes>"
      ]
     },
     "metadata": {
      "needs_background": "light"
     },
     "output_type": "display_data"
    }
   ],
   "source": [
    "import json\n",
    "import os\n",
    "import random\n",
    "import pickle\n",
    "from collections import Counter\n",
    "from copy import deepcopy\n",
    "from itertools import combinations, groupby\n",
    "from pathlib import Path\n",
    "from pprint import pprint\n",
    "\n",
    "import jsonlines\n",
    "import matplotlib.pyplot as plt\n",
    "import numpy as np\n",
    "import pandas as pd\n",
    "import seaborn as sn\n",
    "import scipy.spatial.distance as ssd\n",
    "from IPython.display import set_matplotlib_formats\n",
    "from scipy.cluster import hierarchy\n",
    "from sklearn.cluster import AgglomerativeClustering, SpectralClustering\n",
    "from sklearn.metrics import pairwise_distances\n",
    "from sklearn.metrics.pairwise import cosine_similarity, linear_kernel\n",
    "from syntok.tokenizer import Tokenizer\n",
    "from tqdm import tqdm\n",
    "\n",
    "tqdm.pandas()\n",
    "\n",
    "%matplotlib inline\n",
    "plt.rcParams.update({\"font.size\": 25, \"font.weight\": \"bold\"})\n",
    "# https://stackoverflow.com/questions/36622237/jupyter-notebook-inline-plots-as-svg\n",
    "# set_matplotlib_formats(\"svg\")  # glitches it\n",
    "plt.plot()"
   ]
  },
  {
   "cell_type": "code",
   "execution_count": 2,
   "metadata": {},
   "outputs": [],
   "source": [
    "from utils_data import init_random\n",
    "init_random()"
   ]
  },
  {
   "cell_type": "code",
   "execution_count": 3,
   "metadata": {
    "ExecuteTime": {
     "end_time": "2020-03-23T11:31:29.183647Z",
     "start_time": "2020-03-23T11:31:29.180361Z"
    }
   },
   "outputs": [],
   "source": [
    "# download + scp to cuda + extract\n",
    "# Path on CUDA2\n",
    "data_yelp_path = Path(\"/disk1/users/ekoerner/argmining19-same-side-classification/data/sentiment/yelp/\")"
   ]
  },
  {
   "cell_type": "markdown",
   "metadata": {},
   "source": [
    "---"
   ]
  },
  {
   "cell_type": "markdown",
   "metadata": {},
   "source": [
    "#### Load reviews / categories (topics) + filter cats/make combinations"
   ]
  },
  {
   "cell_type": "code",
   "execution_count": 4,
   "metadata": {
    "ExecuteTime": {
     "end_time": "2020-03-23T11:35:05.825431Z",
     "start_time": "2020-03-23T11:35:02.981079Z"
    },
    "jupyter": {
     "source_hidden": true
    }
   },
   "outputs": [],
   "source": [
    "def load_reviews(fn_yelp_reviews):\n",
    "    \"\"\"Load Yelp reviews. Return a Pandas dataframe.\n",
    "    Format: {\"id\": business_id, \"rid\": review_id, \"text\": text, \"rating\": rating}\n",
    "    And add goodness bool (rating > 3).\"\"\"\n",
    "    data = list()\n",
    "\n",
    "    with jsonlines.open(fn_yelp_reviews, \"r\") as fp:\n",
    "        for n, entry in enumerate(tqdm(fp)):\n",
    "            # print(entry)\n",
    "            # break\n",
    "            business_id = entry.pop(\"business_id\")\n",
    "            review_id = entry.pop(\"review_id\")\n",
    "            text = entry.pop(\"text\", \"\")\n",
    "            rating = entry.pop(\"stars\", 0.0)\n",
    "            data.append({\"id\": business_id, \"rid\": review_id, \"text\": text, \"rating\": rating})\n",
    "            # TESTING\n",
    "            # if n > 10000:\n",
    "            #     break\n",
    "\n",
    "    df = pd.DataFrame.from_dict(data)\n",
    "    \n",
    "    # Add goodness value\n",
    "    # TODO: maybe ignore with 3\n",
    "    df[\"goodness\"] = df[\"rating\"] > 3\n",
    "    \n",
    "    return df\n",
    "\n",
    "\n",
    "def load_topics(fn_yelp_topics, bids_not_cats=None, filter_cats=None, filter_cat_combis=None):\n",
    "    \"\"\"Load topics (categories).\n",
    "    Optionally filter by giving it a whitelist of allowed categories.\n",
    "    Optionally filter by giving a list of allowed category combinations.\n",
    "    Optionally provide an IN/OUT param ``bids_not_cats`` that accumulates business ids without categories.\"\"\"\n",
    "    inv_bid_cats = dict()\n",
    "    if bids_not_cats is None or not isinstance(bids_not_cats, set):\n",
    "        bids_not_cats = set()\n",
    "    \n",
    "    # load lookup business -> categories\n",
    "    with jsonlines.open(fn_yelp_topics, \"r\") as fp:\n",
    "        for n, entry in enumerate(tqdm(fp)):\n",
    "            business_id = entry.pop(\"business_id\")\n",
    "            categories = entry.pop(\"categories\")\n",
    "\n",
    "            if not categories:\n",
    "                bids_not_cats.add(business_id)\n",
    "                continue\n",
    "\n",
    "            categories = categories.split(\", \")\n",
    "            \n",
    "            if filter_cats:\n",
    "                categories = [c for c in categories if c in filter_cats]\n",
    "                if not categories:\n",
    "                    # bids_not_cats.add(business_id)  # ??\n",
    "                    continue\n",
    "                    \n",
    "            if filter_cat_combis:\n",
    "                # skip if combination is not above threshold (of filter list)\n",
    "                if tuple(sorted(set(categories))) not in filter_cat_combis:\n",
    "                    continue\n",
    "\n",
    "            inv_bid_cats[business_id] = categories\n",
    "    \n",
    "    return inv_bid_cats"
   ]
  },
  {
   "cell_type": "code",
   "execution_count": 5,
   "metadata": {
    "ExecuteTime": {
     "end_time": "2020-03-23T11:35:05.825431Z",
     "start_time": "2020-03-23T11:35:02.981079Z"
    },
    "jupyter": {
     "source_hidden": true
    }
   },
   "outputs": [],
   "source": [
    "def filter_min_cat_combis(inv_cat_combis, min_num=30):\n",
    "    \"\"\"Filter category combinations by minimum amount of occurrences in businesses\"\"\"\n",
    "    f_inv_cat_combis = dict()\n",
    "    \n",
    "    for cats, num in inv_cat_combis.items():\n",
    "        if num >= min_num:\n",
    "            f_inv_cat_combis[cats] = num\n",
    "    \n",
    "    return f_inv_cat_combis\n",
    "\n",
    "\n",
    "def make_map_cats(inv_bid_cats):\n",
    "    \"\"\"Make a map from category to business id\"\"\"\n",
    "    inv_cat_bids = dict()\n",
    "\n",
    "    # reverse lookup: category -> businesses\n",
    "    for bid, cats in tqdm(inv_bid_cats.items()):\n",
    "        for cat in cats:\n",
    "            try:\n",
    "                inv_cat_bids[cat].append(bid)\n",
    "            except KeyError:\n",
    "                inv_cat_bids[cat] = [bid]\n",
    "                \n",
    "    ## TODO: make distinct?\n",
    "    for cat in inv_cat_bids.keys():\n",
    "        inv_cat_bids[cat] = list(set(inv_cat_bids[cat]))\n",
    "                \n",
    "    return inv_cat_bids\n",
    "\n",
    "\n",
    "def make_cat_combis(inv_bid_cats):\n",
    "    \"\"\"Count amount of each category combination occurring in businesses\"\"\"\n",
    "    inv_cat_combis = Counter()\n",
    "\n",
    "    inv_cat_combis.update(\n",
    "        (tuple(sorted(set(cats))) for cats in tqdm(inv_bid_cats.values())))\n",
    "    \n",
    "    return inv_cat_combis"
   ]
  },
  {
   "cell_type": "markdown",
   "metadata": {},
   "source": [
    "#### Filter reviews according to criteria"
   ]
  },
  {
   "cell_type": "code",
   "execution_count": 6,
   "metadata": {
    "jupyter": {
     "source_hidden": true
    }
   },
   "outputs": [],
   "source": [
    "def filter_min_review_freq(df, min_ratings=5):\n",
    "    \"\"\"Filter review dataframe for a minimum of N of each good and bad ratings.\"\"\"\n",
    "    # filter with at least N ratings per goodness\n",
    "    df_filter = df.groupby([\"id\", \"goodness\"])[[\"id\"]].count() < min_ratings\n",
    "    df_filter = df_filter.rename(columns={\"id\": \"filter\"})\n",
    "    df_filter = df_filter[df_filter[\"filter\"] == True]\n",
    "\n",
    "    # build a filter id list\n",
    "    df_filter_list = df_filter.reset_index()[\"id\"].to_list()\n",
    "\n",
    "    # filter with list\n",
    "    df_filtered = df[~df.id.isin(df_filter_list)]\n",
    "    \n",
    "    return df_filtered\n",
    "\n",
    "\n",
    "def filter_both_good_bad(df):\n",
    "    \"\"\"Filter the dataframe to contain only both good and bad reviews for each business.\n",
    "    Dataframe should be the same if minimum filtering above is done.\"\"\"\n",
    "    # build filter for ids that contain both positive and negative samples\n",
    "    df_filter = df.groupby([\"id\", \"goodness\"], as_index=False).count().groupby(\"id\")[[\"id\"]].count() == 2\n",
    "    df_filter = df_filter.rename(columns={\"id\": \"filter\"})\n",
    "    df_filter = df_filter[df_filter[\"filter\"] == True]\n",
    "\n",
    "    # create list of IDs for which this is true\n",
    "    df_filter_list = df_filter.reset_index()[\"id\"].to_list()\n",
    "\n",
    "    # filter with list\n",
    "    df_filtered = df[df.id.isin(df_filter_list)]\n",
    "\n",
    "    # df_filtered.groupby([\"id\", \"goodness\"]).count()\n",
    "    return df_filtered"
   ]
  },
  {
   "cell_type": "code",
   "execution_count": 7,
   "metadata": {
    "jupyter": {
     "source_hidden": true
    }
   },
   "outputs": [],
   "source": [
    "def filter_by_businesses(df, lst_business_ids):\n",
    "    # filter with list, keep businesses in list\n",
    "    df_filtered = df[df.id.isin(set(lst_business_ids))]\n",
    "\n",
    "    return df_filtered\n",
    "\n",
    "\n",
    "def filter_by_businesses_not_same(df, lst_business_ids):\n",
    "    # filter with list, keep businesses that are not in list\n",
    "    df_filtered = df[~df.id.isin(set(lst_business_ids))]\n",
    "\n",
    "    return df_filtered"
   ]
  },
  {
   "cell_type": "markdown",
   "metadata": {},
   "source": [
    "#### Get topN categories + make Ntuples from category combinations"
   ]
  },
  {
   "cell_type": "code",
   "execution_count": 8,
   "metadata": {
    "jupyter": {
     "source_hidden": true
    }
   },
   "outputs": [],
   "source": [
    "def get_Ntop_cats(inv_cat_bids, n=50):\n",
    "    # get most common cats\n",
    "    f_cat_cnt = Counter({k: len(v) for k, v in inv_cat_bids.items()})\n",
    "    f_cats = {c for c, v in f_cat_cnt.most_common(n)}\n",
    "    return f_cats\n",
    "\n",
    "\n",
    "def make_cat_Ntuples(f_inv_cat_combis, n=2):\n",
    "    f_cat_pairs = Counter()\n",
    "\n",
    "    for cat_group in tqdm(f_inv_cat_combis.keys()):\n",
    "        if len(cat_group) < n:\n",
    "            continue\n",
    "        it = combinations(cat_group, n)\n",
    "        # repeat (#num_businesses) + chain combis\n",
    "        f_cat_pairs.update(it)\n",
    "        \n",
    "    return f_cat_pairs"
   ]
  },
  {
   "cell_type": "markdown",
   "metadata": {},
   "source": [
    "#### Make category graph or NxN map (df + array)"
   ]
  },
  {
   "cell_type": "code",
   "execution_count": 9,
   "metadata": {
    "jupyter": {
     "source_hidden": true
    }
   },
   "outputs": [],
   "source": [
    "def make_graph(f_cat_pairs):\n",
    "    g_from, g_to, g_value = zip(*((k1, k2, n) for (k1, k2), n in tqdm(f_cat_pairs.most_common())))\n",
    "\n",
    "    g_df = pd.DataFrame({\"from\": g_from, \"to\": g_to, \"value\": g_value})\n",
    "    G = nx.from_pandas_edgelist(g_df, \"from\", \"to\", create_using=nx.Graph())\n",
    "    \n",
    "    return G\n",
    "\n",
    "\n",
    "def make_NxN_map(f_cats, f_cat_pairs):\n",
    "    f_cats = list(f_cats)\n",
    "    array = list()\n",
    "    for i, cat1 in enumerate(tqdm(f_cats)):\n",
    "        array_row = list()\n",
    "        for j, cat2 in enumerate(f_cats):\n",
    "            array_row.append(f_cat_pairs.get((cat1, cat2), f_cat_pairs.get((cat2, cat1), 0)))\n",
    "        array.append(array_row)\n",
    "    df_cm = pd.DataFrame(array, index=list(f_cats), columns=list(f_cats))\n",
    "    \n",
    "    # dataframe, NxN array + labels\n",
    "    return df_cm, array, f_cats"
   ]
  },
  {
   "cell_type": "markdown",
   "metadata": {},
   "source": [
    "---"
   ]
  },
  {
   "cell_type": "markdown",
   "metadata": {},
   "source": [
    "#### Load categories hierarchy"
   ]
  },
  {
   "cell_type": "code",
   "execution_count": 49,
   "metadata": {
    "jupyter": {
     "source_hidden": true
    }
   },
   "outputs": [],
   "source": [
    "def load_category_tree(fn_all_category_list):\n",
    "    with open(fn_all_category_list, \"r\") as fp:\n",
    "        content = fp.read()\n",
    "        data = json.loads(content)\n",
    "\n",
    "    map_categories = dict()\n",
    "    map_cat_name2id = dict()\n",
    "    lst_root_categories = list()\n",
    "\n",
    "    # load basic lookups\n",
    "    for item in data:\n",
    "        # .alias (id)\n",
    "        map_categories[item[\"alias\"]] = item\n",
    "        # .title\n",
    "        map_cat_name2id[item[\"title\"]] = item[\"alias\"]\n",
    "        # .parents\n",
    "        # some have multiple parents ...\n",
    "        if not item[\"parents\"]:\n",
    "            lst_root_categories.append(item[\"alias\"])\n",
    "        # add list of children\n",
    "        item[\"children\"] = list()\n",
    "\n",
    "    # add children\n",
    "    for cid, item in map_categories.items():\n",
    "        for parent_cid in item[\"parents\"]:\n",
    "            map_categories[parent_cid][\"children\"].append(item[\"alias\"])\n",
    "\n",
    "    return map_categories, map_cat_name2id, lst_root_categories\n",
    "\n",
    "\n",
    "def get_root_category_items(map_categories):\n",
    "    lst_root_categories = list()\n",
    "\n",
    "    for cid, item in map_categories.items():\n",
    "        if not item[\"parents\"]:\n",
    "            lst_root_categories.append(item)\n",
    "            \n",
    "    return lst_root_categories\n",
    "\n",
    "\n",
    "def get_children_category_item_list(map_categories, parent_cid):\n",
    "    return [\n",
    "        map_categories[child_cid]\n",
    "        for child_cid in map_categories[parent_cid][\"children\"]\n",
    "    ]"
   ]
  },
  {
   "cell_type": "markdown",
   "metadata": {},
   "source": [
    "##### Get businesses in categories"
   ]
  },
  {
   "cell_type": "code",
   "execution_count": 11,
   "metadata": {
    "jupyter": {
     "source_hidden": true
    }
   },
   "outputs": [],
   "source": [
    "def get_businesses_in_category(inv_cat_bids, category):\n",
    "    try:\n",
    "        return list(set(inv_cat_bids[category]))\n",
    "    except KeyError:\n",
    "        return []\n",
    "    \n",
    "    \n",
    "def get_businesses_in_category_branch(inv_cat_bids, category, map_categories, map_cat_name2id):\n",
    "    map_cat_id2name = {cid: name for name, cid in map_cat_name2id.items()}\n",
    "\n",
    "    def _get_recursive_businesses(cat_name):\n",
    "        businesses = get_businesses_in_category(inv_cat_bids, cat_name)\n",
    "\n",
    "        cid = map_cat_name2id[cat_name]\n",
    "        for child_cid in map_categories[cid][\"children\"]:\n",
    "            child_name = map_cat_id2name[child_cid]\n",
    "            businesses.extend(_get_recursive_businesses(child_name))\n",
    "        \n",
    "        return businesses\n",
    "    \n",
    "    return _get_recursive_businesses(category)"
   ]
  },
  {
   "cell_type": "markdown",
   "metadata": {},
   "source": [
    "##### Print category trees"
   ]
  },
  {
   "cell_type": "code",
   "execution_count": 12,
   "metadata": {
    "jupyter": {
     "source_hidden": true
    }
   },
   "outputs": [],
   "source": [
    "def print_category_tree(map_categories):\n",
    "    root_categories = get_root_category_items(map_categories)\n",
    "    \n",
    "    def _print_cat_list_rec(lst_cats, level=0):\n",
    "        for item in sorted(lst_cats, key=lambda x: x[\"title\"]):\n",
    "            if level:\n",
    "                print(\"  \" * level, end=\"\")\n",
    "            print(f\"\"\"{item[\"title\"]} [{item[\"alias\"]}]\"\"\", end=\"\")\n",
    "            if item[\"children\"]:\n",
    "                print(f\"\"\" [#{len(item[\"children\"])} children]\"\"\")\n",
    "            else:\n",
    "                print()\n",
    "            \n",
    "            children = get_children_category_item_list(map_categories, item[\"alias\"])\n",
    "            _print_cat_list_rec(children, level=level + 1)\n",
    "            \n",
    "    _print_cat_list_rec(root_categories, level=0)\n",
    "\n",
    "\n",
    "def print_category_tree_with_num_businesses(map_categories, inv_cat_bids):\n",
    "    root_categories = get_root_category_items(map_categories)\n",
    "    \n",
    "    def _print_cat_list_rec(lst_cats, level=0):\n",
    "        for item in sorted(lst_cats, key=lambda x: x[\"title\"]):\n",
    "            cur_line = \" .\" * 30\n",
    "            parts = list()\n",
    "\n",
    "            if level:\n",
    "                parts.append(\"  \" * level)\n",
    "            parts.append(f\"\"\"{item[\"title\"]} [{item[\"alias\"]}]\"\"\")\n",
    "            \n",
    "            str_len = sum(len(part) for part in parts)\n",
    "            print(\"\".join(part for part in parts), end=\"\")\n",
    "            print(cur_line[str_len:], end=\"\")\n",
    "            \n",
    "            if item[\"title\"] not in inv_cat_bids:\n",
    "                print(\" No businesses associated!\")\n",
    "            else:\n",
    "                print(f\"\"\" {len((inv_cat_bids[item[\"title\"]])):>5d} businesses\"\"\")\n",
    "            \n",
    "            children = get_children_category_item_list(map_categories, item[\"alias\"])\n",
    "            _print_cat_list_rec(children, level=level + 1)\n",
    "            \n",
    "            if level == 0:\n",
    "                print()\n",
    "            \n",
    "    _print_cat_list_rec(root_categories, level=0)\n",
    "    \n",
    "\n",
    "def print_category_tree_with_num_businesses_rec(map_categories, inv_cat_bids, map_cat_name2id):\n",
    "    root_categories = get_root_category_items(map_categories)\n",
    "    \n",
    "    def _print_cat_list_rec(lst_cats, level=0):\n",
    "        for item in sorted(lst_cats, key=lambda x: x[\"title\"]):\n",
    "            cur_line = \" .\" * 30\n",
    "            parts = list()\n",
    "\n",
    "            if level:\n",
    "                parts.append(\"  \" * level)\n",
    "            parts.append(f\"\"\"{item[\"title\"]} [{item[\"alias\"]}]\"\"\")\n",
    "            \n",
    "            str_len = sum(len(part) for part in parts)\n",
    "            print(\"\".join(part for part in parts), end=\"\")\n",
    "            print(cur_line[str_len:], end=\"\")\n",
    "            \n",
    "            businesses = get_businesses_in_category_branch(inv_cat_bids, item[\"title\"], map_categories, map_cat_name2id)\n",
    "            businesses_self = get_businesses_in_category(inv_cat_bids, item[\"title\"])\n",
    "            if not businesses:\n",
    "                print(\" No businesses associated!\")\n",
    "            else:\n",
    "                businesses = set(businesses)\n",
    "                print(f\"\"\" {len(businesses):>5d} businesses\"\"\", end=\"\")\n",
    "                if len(businesses) != len(businesses_self):\n",
    "                    print(f\"\"\" (self: {len(businesses_self)})\"\"\", end=\"\")\n",
    "                print()\n",
    "            \n",
    "            children = get_children_category_item_list(map_categories, item[\"alias\"])\n",
    "            _print_cat_list_rec(children, level=level + 1)\n",
    "            \n",
    "            if level == 0:\n",
    "                print()\n",
    "            \n",
    "    _print_cat_list_rec(root_categories, level=0)\n",
    "    \n",
    "    \n",
    "def print_category_tree_with_num_businesses_root(map_categories, inv_cat_bids, map_cat_name2id):\n",
    "    root_categories = get_root_category_items(map_categories)\n",
    "    \n",
    "    for item in sorted(root_categories, key=lambda x: x[\"title\"]):\n",
    "        cur_line = \" .\" * 25\n",
    "        parts = [f\"\"\"{item[\"title\"]} [{item[\"alias\"]}] \"\"\"]\n",
    "\n",
    "        str_len = sum(len(part) for part in parts)\n",
    "        print(\"\".join(part for part in parts), end=\"\")\n",
    "        print(cur_line[str_len:], end=\"\")\n",
    "\n",
    "        businesses = get_businesses_in_category_branch(inv_cat_bids, item[\"title\"], map_categories, map_cat_name2id)\n",
    "        businesses_self = get_businesses_in_category(inv_cat_bids, item[\"title\"])\n",
    "\n",
    "        businesses = set(businesses)\n",
    "        print(f\"\"\" {len(businesses):>5d} businesses\"\"\", end=\"\")\n",
    "        if len(businesses) != len(businesses_self):\n",
    "            print(f\"\"\" (self: {len(businesses_self)})\"\"\", end=\"\")\n",
    "        print()\n",
    "        \n",
    "\n",
    "def print_category_tree_with_num_businesses_root2(map_categories, inv_cat_bids, map_cat_name2id):\n",
    "    root_categories = get_root_category_items(map_categories)\n",
    "    for item in root_categories:\n",
    "        item[\"businesses\"] = get_businesses_in_category_branch(inv_cat_bids, item[\"title\"], map_categories, map_cat_name2id)\n",
    "        item[\"businesses_self\"] = get_businesses_in_category(inv_cat_bids, item[\"title\"])\n",
    "    \n",
    "    for item in sorted(root_categories, key=lambda x: len(set(x[\"businesses\"]))):\n",
    "        cur_line = \" .\" * 25\n",
    "        parts = [f\"\"\"{item[\"title\"]} [{item[\"alias\"]}] \"\"\"]\n",
    "\n",
    "        str_len = sum(len(part) for part in parts)\n",
    "        print(\"\".join(part for part in parts), end=\"\")\n",
    "        print(cur_line[str_len:], end=\"\")\n",
    "\n",
    "        businesses = item[\"businesses\"]\n",
    "        businesses_self = item[\"businesses_self\"]\n",
    "\n",
    "        businesses = set(businesses)\n",
    "        print(f\"\"\" {len(businesses):>5d} businesses\"\"\", end=\"\")\n",
    "        if len(businesses) != len(businesses_self):\n",
    "            print(f\"\"\" (self: {len(businesses_self)})\"\"\", end=\"\")\n",
    "        print()"
   ]
  },
  {
   "cell_type": "markdown",
   "metadata": {},
   "source": [
    "##### Make category comparisons"
   ]
  },
  {
   "cell_type": "code",
   "execution_count": 13,
   "metadata": {
    "jupyter": {
     "source_hidden": true
    }
   },
   "outputs": [],
   "source": [
    "def print_2category_compare(inv_cat_bids, map_categories, map_cat_name2id, cat_name_i, cat_name_j):\n",
    "    businesses_i = get_businesses_in_category_branch(inv_cat_bids, cat_name_i, map_categories, map_cat_name2id)\n",
    "    businesses_j = get_businesses_in_category_branch(inv_cat_bids, cat_name_j, map_categories, map_cat_name2id)\n",
    "    \n",
    "    cat_name_i += \":\"\n",
    "    cat_name_j += \":\"\n",
    "    width = max(12, len(cat_name_i), len(cat_name_j))\n",
    "\n",
    "    print(f\"\"\"{cat_name_i:<{width}} {len(set(businesses_i)):>5d}\"\"\")\n",
    "    print(f\"\"\"{cat_name_j:<{width}} {len(set(businesses_j)):>5d}\"\"\")\n",
    "    print(f\"\"\"Both: {\"same:\":>{width - 6}} {len(set(businesses_i) & set(businesses_j)):>5d}\"\"\")\n",
    "    print(f\"\"\"{\"total:\":>{width}} {len(set(businesses_i) | set(businesses_j)):>5d}\"\"\")"
   ]
  },
  {
   "cell_type": "code",
   "execution_count": 14,
   "metadata": {
    "jupyter": {
     "source_hidden": true
    }
   },
   "outputs": [],
   "source": [
    "def make_NxN_category_businesses_overlap(inv_cat_bids, map_categories, map_cat_name2id):\n",
    "    root_categories = get_root_category_items(map_categories)\n",
    "    root_categories = sorted(root_categories, key=lambda x: x[\"title\"])\n",
    "    root_category_labels = [x[\"title\"] for x in root_categories]\n",
    "    \n",
    "    array = list()\n",
    "    for cname_i in root_category_labels:\n",
    "        array_line = list()\n",
    "        for cname_j in root_category_labels:\n",
    "            businesses_i = get_businesses_in_category_branch(inv_cat_bids, cname_i, map_categories, map_cat_name2id)\n",
    "            businesses_j = get_businesses_in_category_branch(inv_cat_bids, cname_j, map_categories, map_cat_name2id)\n",
    "            businesses_i, businesses_j = set(businesses_i), set(businesses_j)\n",
    "            businesses_ij_union = businesses_i | businesses_j\n",
    "            businesses_ij_intersect = businesses_i & businesses_j\n",
    "            num_businesses_ij = len(businesses_ij_intersect)\n",
    "            #array_line.append(num_businesses_ij)\n",
    "            array_line.append(len(businesses_ij_intersect) / len(businesses_ij_union))\n",
    "        array.append(array_line)\n",
    "    \n",
    "    df_cm = pd.DataFrame(array, index=list(root_category_labels), columns=list(root_category_labels))\n",
    "    \n",
    "    return array, root_category_labels, df_cm"
   ]
  },
  {
   "cell_type": "markdown",
   "metadata": {},
   "source": [
    "##### text length comparisons?"
   ]
  },
  {
   "cell_type": "code",
   "execution_count": 15,
   "metadata": {
    "jupyter": {
     "source_hidden": true
    }
   },
   "outputs": [],
   "source": [
    "def get_reviews_for_category(df, cat_name, inv_cat_bids, map_categories, map_cat_name2id):\n",
    "    businesses = get_businesses_in_category_branch(inv_cat_bids, cat_name, map_categories, map_cat_name2id)\n",
    "    print(f\"\"\"{cat_name}: {len(businesses)}, uniq: {len(set(businesses))}\"\"\")\n",
    "    businesses = set(businesses)\n",
    "\n",
    "    df_businesses = filter_by_businesses(df, businesses)\n",
    "\n",
    "    return df_businesses"
   ]
  },
  {
   "cell_type": "markdown",
   "metadata": {},
   "source": [
    "##### Cache root category reviews in dataframes"
   ]
  },
  {
   "cell_type": "code",
   "execution_count": 57,
   "metadata": {
    "jupyter": {
     "source_hidden": true
    }
   },
   "outputs": [],
   "source": [
    "dn_yelp_cached = data_yelp_path / \"cached\"\n",
    "\n",
    "\n",
    "def cache_root_category_businesses_df(df, inv_cat_bids, map_categories, map_cat_name2id):\n",
    "    root_categories = get_root_category_items(map_categories)\n",
    "    root_categories = sorted(root_categories, key=lambda x: x[\"title\"])\n",
    "    \n",
    "    dn_yelp_cached = data_yelp_path / \"cached\"\n",
    "    if not dn_yelp_cached.exists():\n",
    "        print(f\"Create cache dir: {dn_yelp_cached}\")\n",
    "        dn_yelp_cached.mkdir()\n",
    "        \n",
    "    for root_category in root_categories:\n",
    "        fn_yelp_cached_root_cat_df = dn_yelp_cached / f\"\"\"{root_category[\"alias\"]}_businesses.df.p\"\"\"\n",
    "        if fn_yelp_cached_root_cat_df.exists():\n",
    "            continue\n",
    "\n",
    "        business_ids = set(get_businesses_in_category_branch(inv_cat_bids, root_category[\"title\"], map_categories, map_cat_name2id))\n",
    "        # business_ids = set(root_category[\"businesses\"])\n",
    "        print(f\"\"\"Filter category {root_category[\"title\"]} [{root_category[\"alias\"]}] with {len(set(business_ids))} businesses ...\"\"\")\n",
    "        df_root_cat = filter_by_businesses(df, business_ids)\n",
    "\n",
    "        # df_root_cat = get_reviews_for_category(df, cat_name, inv_cat_bids, map_categories, map_cat_name2id)\n",
    "\n",
    "        df_root_cat.to_pickle(str(fn_yelp_cached_root_cat_df))\n",
    "        \n",
    "        \n",
    "def load_cached_root_category_businesses_df(category_label, map_categories):\n",
    "    root_categories = get_root_category_items(map_categories)\n",
    "    root_categories = sorted(root_categories, key=lambda x: x[\"title\"])\n",
    "\n",
    "    for root_category in root_categories:\n",
    "        if root_category[\"title\"] == category_label:\n",
    "            category_id = root_category[\"alias\"]\n",
    "            break\n",
    "    else:\n",
    "        print(f\"No cached root category businesses found for: {category_label}\")\n",
    "        return None\n",
    "\n",
    "    fn_yelp_cached_root_cat_df = dn_yelp_cached / f\"{category_id}_businesses.df.p\"\n",
    "    if not fn_yelp_cached_root_cat_df.exists():\n",
    "        return None\n",
    "    \n",
    "    df_root_cat = pd.read_pickle(str(fn_yelp_cached_root_cat_df))\n",
    "    return df_root_cat"
   ]
  },
  {
   "cell_type": "markdown",
   "metadata": {},
   "source": [
    "##### Filter other category businesses"
   ]
  },
  {
   "cell_type": "code",
   "execution_count": 58,
   "metadata": {
    "jupyter": {
     "source_hidden": true
    }
   },
   "outputs": [],
   "source": [
    "def filter_root_category_businesses_uniq(category_label, inv_cat_bids, map_categories, map_cat_name2id):\n",
    "    df_root_cat = load_cached_root_category_businesses_df(category_label, map_categories)\n",
    "    \n",
    "    root_categories = get_root_category_items(map_categories)\n",
    "    # root_categories = sorted(root_categories, key=lambda x: len(x[\"businesses\"]), reverse=False)\n",
    "    \n",
    "    for root_category in root_categories:\n",
    "        if root_category[\"title\"] == category_label:\n",
    "            # skip, do not trim self\n",
    "            continue\n",
    "            \n",
    "        business_ids = set(get_businesses_in_category_branch(inv_cat_bids, root_category[\"title\"], map_categories, map_cat_name2id))\n",
    "        # business_ids = set(root_category[\"businesses\"])\n",
    "        print(f\"\"\"Filter businesses from category {root_category[\"title\"]} [{root_category[\"alias\"]}] ({len(business_ids)} businesses) ...\"\"\")\n",
    "        n_before = len(df_root_cat)\n",
    "        df_root_cat = filter_by_businesses_not_same(df_root_cat, business_ids)\n",
    "        n_after = len(df_root_cat)\n",
    "        print(f\"\"\"Filtered {n_before - n_after} businesses (overlap with {root_category[\"title\"]})\"\"\")\n",
    "        \n",
    "    return df_root_cat"
   ]
  },
  {
   "cell_type": "code",
   "execution_count": 59,
   "metadata": {
    "jupyter": {
     "source_hidden": true
    }
   },
   "outputs": [],
   "source": [
    "def filter_root_category_businesses_not_other(category_label, category_label_filter, inv_cat_bids, map_categories, map_cat_name2id):\n",
    "    assert category_label != category_label_filter, \"do not filter on self\"\n",
    "\n",
    "    df_root_cat = load_cached_root_category_businesses_df(category_label, map_categories)\n",
    "    \n",
    "    root_categories = get_root_category_items(map_categories)\n",
    "    # root_categories = sorted(root_categories, key=lambda x: len(x[\"businesses\"]), reverse=True)\n",
    "    \n",
    "    for root_category in root_categories:\n",
    "        if root_category[\"title\"] == category_label_filter:\n",
    "            break\n",
    "    else:\n",
    "        print(f\"No businesses found for {category_label_filter} -> return unchanged\")\n",
    "        return df_root_cat\n",
    "    \n",
    "    business_ids = set(get_businesses_in_category_branch(inv_cat_bids, root_category[\"title\"], map_categories, map_cat_name2id))\n",
    "    # businesses_ids = root_category[\"businesses\"]\n",
    "    print(f\"\"\"Filter businesses from category {root_category[\"title\"]} [{root_category[\"alias\"]}] ({len(set(business_ids))} businesses) ...\"\"\")\n",
    "    n_before = len(df_root_cat)\n",
    "    df_root_cat = filter_by_businesses_not_same(df_root_cat, business_ids)\n",
    "    n_after = len(df_root_cat)\n",
    "    print(f\"\"\"Filtered {n_before - n_after} businesses (overlap with {root_category[\"title\"]})\"\"\")\n",
    "    \n",
    "    return df_root_cat"
   ]
  },
  {
   "cell_type": "code",
   "execution_count": 60,
   "metadata": {
    "jupyter": {
     "source_hidden": true
    }
   },
   "outputs": [],
   "source": [
    "def filter_root_category_businesses_same_other(category_label, category_label_filter, inv_cat_bids, map_categories, map_cat_name2id):\n",
    "    assert category_label != category_label_filter, \"do not filter on self\"\n",
    "\n",
    "    df_root_cat = load_cached_root_category_businesses_df(category_label, map_categories)\n",
    "    \n",
    "    root_categories = get_root_category_items(map_categories)\n",
    "    # root_categories = sorted(root_categories, key=lambda x: len(x[\"businesses\"]), reverse=True)\n",
    "    \n",
    "    for root_category in root_categories:\n",
    "        if root_category[\"title\"] == category_label_filter:\n",
    "            break\n",
    "    else:\n",
    "        print(f\"No businesses found for {category_label_filter} -> return unchanged\")\n",
    "        return df_root_cat\n",
    "    \n",
    "    business_ids = set(get_businesses_in_category_branch(inv_cat_bids, root_category[\"title\"], map_categories, map_cat_name2id))\n",
    "    # businesses_ids = root_category[\"businesses\"]\n",
    "    print(f\"\"\"Filter businesses from category {root_category[\"title\"]} [{root_category[\"alias\"]}] ({len(set(business_ids))} businesses) ...\"\"\")\n",
    "    n_before = len(df_root_cat)\n",
    "    df_same = filter_by_businesses(df_root_cat, business_ids)\n",
    "    n_after = len(df_same)\n",
    "    print(f\"\"\"Filtered {n_before - n_after} businesses ({n_after} same with {root_category[\"title\"]})\"\"\")\n",
    "    \n",
    "    return df_same"
   ]
  },
  {
   "cell_type": "markdown",
   "metadata": {},
   "source": [
    "---"
   ]
  },
  {
   "cell_type": "markdown",
   "metadata": {},
   "source": [
    "#### Make Pairs"
   ]
  },
  {
   "cell_type": "markdown",
   "metadata": {},
   "source": [
    "**TODO:**\n",
    "\n",
    "- check similar length -- what strategy to use to combine similar length pairs best?\n",
    "- flip sides (arg1 <-> arg2)\n",
    "- make more pairs (?) -- but keep same ratio of same-sentiment vs. not-same-sentiment (different-sentiment) ??\n",
    "- group by categories (topics) -- more explicit training (uniqueness of single arguments / topic structures)\n",
    "- evaluate on same-argument (S3C) - or amazon reviews\n",
    "- compute mean/avg sequence length\n",
    "- fixed layers in fine-tuning\n",
    "- visualization of trained layers and activation for good / bad inputs"
   ]
  },
  {
   "cell_type": "markdown",
   "metadata": {},
   "source": [
    "##### Positive + negative same-sentiment pairs"
   ]
  },
  {
   "cell_type": "code",
   "execution_count": 20,
   "metadata": {
    "jupyter": {
     "source_hidden": true
    }
   },
   "outputs": [],
   "source": [
    "num_pairs_per_class = 2\n",
    "# N positive + N negative\n",
    "# --> 2N pos+neg (not same-sentiment)\n",
    "\n",
    "# TODO: randomness for positive ss / negative ss - sum is equal / or sum equal compared to not ss"
   ]
  },
  {
   "cell_type": "code",
   "execution_count": 21,
   "metadata": {
    "code_folding": [
     19,
     35
    ],
    "jupyter": {
     "source_hidden": true
    }
   },
   "outputs": [],
   "source": [
    "def make_pairs_good_bad(df, num_pairs_per_class=2):\n",
    "    pairs_good = list()\n",
    "    pairs_bad = list()\n",
    "\n",
    "    for id_, group in tqdm(df.groupby(\"id\")):\n",
    "        grouper = group.groupby(\"goodness\")\n",
    "        reviews_good = grouper.get_group(True)\n",
    "        reviews_bad = grouper.get_group(False)\n",
    "\n",
    "        # TESTING\n",
    "        # print(\"id:\", id_)\n",
    "        # print(\"#good:\", len(reviews_good))\n",
    "        # print(\"#bad:\", len(reviews_bad))\n",
    "        # print(group)\n",
    "        # break\n",
    "\n",
    "        # make pairings -- good ss\n",
    "        rg_idx = reviews_good.index.values\n",
    "        # print(\"pos_idx:\", rg_idx)\n",
    "        rg_idx_sel = np.random.choice(rg_idx, 2 * num_pairs_per_class, replace=False)\n",
    "        for id1, id2 in zip(rg_idx_sel[::2], rg_idx_sel[1::2]):\n",
    "            # print(\"pair:\", id1, id2)\n",
    "            r1, r2 = df.loc[id1], df.loc[id2]\n",
    "            pair = {\n",
    "                \"argument1\": r1[\"text\"], \"argument2\": r2[\"text\"],\n",
    "                \"argument1_id\": f\"\"\"{r1[\"id\"]}|{r1[\"rid\"]}\"\"\", \"argument2_id\": f\"\"\"{r2[\"id\"]}|{r2[\"rid\"]}\"\"\",\n",
    "                \"is_same_side\": True, \"is_good_side\": True,\n",
    "                \"topic\": inv_bid_cats.get(r1[\"id\"], None)\n",
    "            }\n",
    "            # print(pair)\n",
    "            pairs_good.append(pair)\n",
    "\n",
    "        # make pairings -- bad ss\n",
    "        rb_idx = reviews_bad.index.values\n",
    "        # print(\"neg_idx:\", rb_idx)\n",
    "        rb_idx_sel = np.random.choice(rb_idx, 2 * num_pairs_per_class, replace=False)\n",
    "        for id1, id2 in zip(rb_idx_sel[::2], rb_idx_sel[1::2]):\n",
    "            r1, r2 = df.loc[id1], df.loc[id2]\n",
    "            pair = {\n",
    "                \"argument1\": r1[\"text\"], \"argument2\": r2[\"text\"],\n",
    "                \"argument1_id\": f\"\"\"{r1[\"id\"]}|{r1[\"rid\"]}\"\"\", \"argument2_id\": f\"\"\"{r2[\"id\"]}|{r2[\"rid\"]}\"\"\",\n",
    "                \"is_same_side\": True, \"is_good_side\": False,\n",
    "                \"topic\": inv_bid_cats.get(r1[\"id\"], None)\n",
    "            }\n",
    "            pairs_bad.append(pair)\n",
    "\n",
    "        # break\n",
    "        \n",
    "    return pairs_good, pairs_bad"
   ]
  },
  {
   "cell_type": "markdown",
   "metadata": {},
   "source": [
    "##### not same-sentiment pairs (combinations positive + negative)"
   ]
  },
  {
   "cell_type": "code",
   "execution_count": 22,
   "metadata": {
    "jupyter": {
     "source_hidden": true
    }
   },
   "outputs": [],
   "source": [
    "#: number of negative same-sentiment samples same as positive same-sentiment samples\n",
    "num_pairs_negative = 2 * num_pairs_per_class\n",
    "\n",
    "#: whether for a single side (good or bad) there can be multiple occurrences of the same review\n",
    "#: may need to check afterwared that not by chance same pairing happens ...\n",
    "repeatable_on_side = False"
   ]
  },
  {
   "cell_type": "code",
   "execution_count": 23,
   "metadata": {
    "code_folding": [
     16,
     28
    ],
    "jupyter": {
     "source_hidden": true
    }
   },
   "outputs": [],
   "source": [
    "def make_pairs_negative(df, num_pairs_negative, repeatable_on_side=False):\n",
    "    pairs_not_ss = list()\n",
    "\n",
    "    for id_, group in tqdm(df.groupby(\"id\")):\n",
    "        grouper = group.groupby(\"goodness\")\n",
    "        reviews_good = grouper.get_group(True)\n",
    "        reviews_bad = grouper.get_group(False)\n",
    "\n",
    "        # find indices for reviews per business\n",
    "        rg_idx = reviews_good.index.values\n",
    "        rb_idx = reviews_bad.index.values\n",
    "\n",
    "        # randomly select from each side\n",
    "        rg_idx_sel = np.random.choice(rg_idx, num_pairs_negative, replace=repeatable_on_side)\n",
    "        rb_idx_sel = np.random.choice(rb_idx, num_pairs_negative, replace=repeatable_on_side)\n",
    "\n",
    "        # pair them together -- good-bad pairs\n",
    "        for idg, idb in zip(rg_idx_sel[::2], rb_idx_sel[::2]):\n",
    "            rg, rb = df.loc[idg], df.loc[idb]\n",
    "            pair = {\n",
    "                \"argument1\": rg[\"text\"], \"argument2\": rb[\"text\"],\n",
    "                \"argument1_id\": f\"\"\"{rg[\"id\"]}|{rg[\"rid\"]}\"\"\", \"argument2_id\": f\"\"\"{rb[\"id\"]}|{rb[\"rid\"]}\"\"\",\n",
    "                \"is_same_side\": False, \"is_good_side\": None,\n",
    "                \"topic\": inv_bid_cats.get(rg[\"id\"], None)\n",
    "            }\n",
    "            # print(pair)\n",
    "            pairs_not_ss.append(pair)\n",
    "\n",
    "        # bad-good pairs\n",
    "        for idb, idg in zip(rb_idx_sel[1::2], rg_idx_sel[1::2]):\n",
    "            rb, rg = df.loc[idb], df.loc[idg]\n",
    "            pair = {\n",
    "                \"argument1\": rb[\"text\"], \"argument2\": rg[\"text\"],\n",
    "                \"argument1_id\": f\"\"\"{rb[\"id\"]}|{rb[\"rid\"]}\"\"\", \"argument2_id\": f\"\"\"{rg[\"id\"]}|{rg[\"rid\"]}\"\"\",\n",
    "                \"is_same_side\": False, \"is_good_side\": None,\n",
    "                \"topic\": inv_bid_cats.get(rb[\"id\"], None)\n",
    "            }\n",
    "            # print(pair)\n",
    "            pairs_not_ss.append(pair)\n",
    "            \n",
    "    return pairs_not_ss"
   ]
  },
  {
   "cell_type": "markdown",
   "metadata": {},
   "source": [
    "##### dataframe for training etc."
   ]
  },
  {
   "cell_type": "code",
   "execution_count": 24,
   "metadata": {
    "jupyter": {
     "source_hidden": true
    }
   },
   "outputs": [],
   "source": [
    "def make_or_load_pairs(df, fn_yelp_df, num_pairs_per_class=2):\n",
    "    if fn_yelp_df is not None:\n",
    "        if os.path.exists(fn_yelp_df):\n",
    "            with open(fn_yelp_df, \"rb\") as fp:\n",
    "                all_df = pickle.load(fp)\n",
    "            return all_df\n",
    "    \n",
    "    pairs_good, pairs_bad = make_pairs_good_bad(df, num_pairs_per_class=2)\n",
    "    print(\"#ss (pos)\", len(pairs_good))\n",
    "    print(\"#ss (neg)\", len(pairs_bad))\n",
    "    \n",
    "    num_pairs_negative = 2 * num_pairs_per_class\n",
    "    pairs_not_ss = make_pairs_negative(df, num_pairs_negative, repeatable_on_side=False)\n",
    "    print(\"#nss\", len(pairs_not_ss))\n",
    "    \n",
    "    pairs_all = pairs_good + pairs_bad + pairs_not_ss\n",
    "    print(\"#~ss\", len(pairs_all))\n",
    "    \n",
    "    np.random.shuffle(pairs_all)\n",
    "    df_traindev = pd.DataFrame.from_dict(pairs_all)\n",
    "    \n",
    "    if fn_yelp_df is not None:\n",
    "        with open(fn_yelp_df, \"wb\") as fp:\n",
    "            pickle.dump(df_traindev, fp, protocol=pickle.HIGHEST_PROTOCOL)\n",
    "        \n",
    "    return df_traindev"
   ]
  },
  {
   "cell_type": "markdown",
   "metadata": {},
   "source": [
    "---"
   ]
  },
  {
   "cell_type": "markdown",
   "metadata": {},
   "source": [
    "---"
   ]
  },
  {
   "cell_type": "markdown",
   "metadata": {},
   "source": [
    "---"
   ]
  },
  {
   "cell_type": "markdown",
   "metadata": {},
   "source": [
    "## Load reviews and topics and category tree"
   ]
  },
  {
   "cell_type": "markdown",
   "metadata": {},
   "source": [
    "#### Load reviews\n",
    "\n",
    "- review (with business reference)"
   ]
  },
  {
   "cell_type": "code",
   "execution_count": 25,
   "metadata": {},
   "outputs": [
    {
     "name": "stderr",
     "output_type": "stream",
     "text": [
      "6685900it [00:39, 167629.12it/s]\n"
     ]
    }
   ],
   "source": [
    "fn_yelp_reviews = data_yelp_path / \"review.json\"\n",
    "df = load_reviews(fn_yelp_reviews)"
   ]
  },
  {
   "cell_type": "markdown",
   "metadata": {},
   "source": [
    "#### Load categories for businesses\n",
    "\n",
    "- business (id) with list of topics/categories\n",
    "- lookups (business -> categories, category -> businesses)\n",
    "- list of combinations (with amount)"
   ]
  },
  {
   "cell_type": "code",
   "execution_count": 50,
   "metadata": {},
   "outputs": [
    {
     "name": "stderr",
     "output_type": "stream",
     "text": [
      "192609it [00:02, 87559.26it/s] \n",
      "100%|██████████| 192127/192127 [00:00<00:00, 1340551.54it/s]\n",
      "100%|██████████| 192127/192127 [00:00<00:00, 776344.18it/s]\n"
     ]
    }
   ],
   "source": [
    "fn_yelp_topics = data_yelp_path / \"business.json\"\n",
    "bids_not_cats = set()\n",
    "inv_bid_cats = load_topics(fn_yelp_topics, bids_not_cats=bids_not_cats)\n",
    "\n",
    "inv_cat_bids = make_map_cats(inv_bid_cats)\n",
    "\n",
    "inv_cat_combis = make_cat_combis(inv_bid_cats)"
   ]
  },
  {
   "cell_type": "markdown",
   "metadata": {},
   "source": [
    "#### Load category tree\n",
    "\n",
    "- hierarchy of categories"
   ]
  },
  {
   "cell_type": "code",
   "execution_count": 51,
   "metadata": {},
   "outputs": [],
   "source": [
    "fn_yelp_catgory_tree = data_yelp_path / \"all_category_list.json\"\n",
    "map_categories, map_cat_name2id, lst_root_categories = load_category_tree(fn_yelp_catgory_tree)"
   ]
  },
  {
   "cell_type": "markdown",
   "metadata": {},
   "source": [
    "#### Pre-Cache all root category businesses (reviews)"
   ]
  },
  {
   "cell_type": "code",
   "execution_count": 61,
   "metadata": {},
   "outputs": [],
   "source": [
    "cache_root_category_businesses_df(df, inv_cat_bids, map_categories, map_cat_name2id)"
   ]
  },
  {
   "cell_type": "markdown",
   "metadata": {},
   "source": [
    "---"
   ]
  },
  {
   "cell_type": "markdown",
   "metadata": {},
   "source": [
    "---"
   ]
  },
  {
   "cell_type": "markdown",
   "metadata": {},
   "source": [
    "---"
   ]
  },
  {
   "cell_type": "markdown",
   "metadata": {},
   "source": [
    "## Experiment"
   ]
  },
  {
   "cell_type": "markdown",
   "metadata": {},
   "source": [
    "#### Print category trees"
   ]
  },
  {
   "cell_type": "code",
   "execution_count": null,
   "metadata": {},
   "outputs": [],
   "source": [
    "print_category_tree(map_categories)"
   ]
  },
  {
   "cell_type": "code",
   "execution_count": null,
   "metadata": {},
   "outputs": [],
   "source": [
    "print_category_tree_with_num_businesses(map_categories, inv_cat_bids)"
   ]
  },
  {
   "cell_type": "code",
   "execution_count": null,
   "metadata": {},
   "outputs": [],
   "source": [
    "print_category_tree_with_num_businesses_rec(map_categories, inv_cat_bids, map_cat_name2id)"
   ]
  },
  {
   "cell_type": "code",
   "execution_count": null,
   "metadata": {},
   "outputs": [],
   "source": [
    "print_category_tree_with_num_businesses_root(map_categories, inv_cat_bids, map_cat_name2id)"
   ]
  },
  {
   "cell_type": "code",
   "execution_count": null,
   "metadata": {},
   "outputs": [],
   "source": [
    "print_category_tree_with_num_businesses_root2(map_categories, inv_cat_bids, map_cat_name2id)"
   ]
  },
  {
   "cell_type": "code",
   "execution_count": null,
   "metadata": {},
   "outputs": [],
   "source": [
    "### TEST ###\n",
    "# because ``inv_cat_bids`` contained duplicate ids!\n",
    "businesses = inv_cat_bids[\"Food\"]\n",
    "print(f\"\"\"Food: {len(businesses)}, {len(set(businesses))}\"\"\")\n",
    "\n",
    "businesses_cnt = Counter(businesses)\n",
    "businesses_cnt.most_common(10)\n",
    "\n",
    "# inv_bid_cats[\"UupxKYWMnE6uq_eELO4CBQ\"]\n",
    "# [(c, [bi for bi in b if bi == \"UupxKYWMnE6uq_eELO4CBQ\"]) for c, b in inv_cat_bids.items() if \"UupxKYWMnE6uq_eELO4CBQ\" in b]"
   ]
  },
  {
   "cell_type": "markdown",
   "metadata": {},
   "source": [
    "##### Overlap of businesses (ids) for two categories"
   ]
  },
  {
   "cell_type": "code",
   "execution_count": null,
   "metadata": {},
   "outputs": [],
   "source": [
    "businesses_food = get_businesses_in_category_branch(inv_cat_bids, \"Food\", map_categories, map_cat_name2id)\n",
    "businesses_restaurants = get_businesses_in_category_branch(inv_cat_bids, \"Restaurants\", map_categories, map_cat_name2id)\n",
    "\n",
    "print(f\"\"\"Food:        {len(set(businesses_food)):>5d}\"\"\")\n",
    "print(f\"\"\"Restaurants: {len(set(businesses_restaurants)):>5d}\"\"\")\n",
    "print(f\"\"\"Both:  same: {len(set(businesses_food) & set(businesses_restaurants)):>5d}\"\"\")\n",
    "print(f\"\"\"      total: {len(set(businesses_food) | set(businesses_restaurants)):>5d}\"\"\")\n",
    "print()\n",
    "\n",
    "print_2category_compare(inv_cat_bids, map_categories, map_cat_name2id, \"Food\", \"Restaurants\")"
   ]
  },
  {
   "cell_type": "code",
   "execution_count": null,
   "metadata": {},
   "outputs": [],
   "source": [
    "root_categories = get_root_category_items(map_categories)"
   ]
  },
  {
   "cell_type": "markdown",
   "metadata": {},
   "source": [
    "#### Category overlap heatmap"
   ]
  },
  {
   "cell_type": "code",
   "execution_count": 53,
   "metadata": {},
   "outputs": [],
   "source": [
    "category_overlap_array, root_category_labels, df_cm = make_NxN_category_businesses_overlap(inv_cat_bids, map_categories, map_cat_name2id)"
   ]
  },
  {
   "cell_type": "code",
   "execution_count": 54,
   "metadata": {
    "collapsed": true,
    "jupyter": {
     "outputs_hidden": true
    }
   },
   "outputs": [
    {
     "data": {
      "image/png": "[encoded data removed]",
      "text/plain": [
       "<Figure size 720x504 with 2 Axes>"
      ]
     },
     "metadata": {
      "needs_background": "light"
     },
     "output_type": "display_data"
    }
   ],
   "source": [
    "plt.figure(figsize = (10, 7))\n",
    "sn.set(font_scale=0.7) # for label size\n",
    "sn.heatmap(df_cm, annot=False, annot_kws={\"size\": 10}, cmap=sn.color_palette(\"binary\", 10)) # font size\n",
    "plt.show()"
   ]
  },
  {
   "cell_type": "code",
   "execution_count": null,
   "metadata": {},
   "outputs": [],
   "source": [
    "plt.figure(figsize = (10, 7))\n",
    "sn.set(font_scale=0.7) # for label size\n",
    "sn.heatmap(df_cm, annot=False, annot_kws={\"size\": 10}, cmap=sn.color_palette(\"binary\", 50)) # font size\n",
    "plt.show()"
   ]
  },
  {
   "cell_type": "code",
   "execution_count": null,
   "metadata": {},
   "outputs": [],
   "source": [
    "plt.figure(figsize = (16, 16))\n",
    "sn.set(font_scale=0.7) # for label size\n",
    "# pal = sn.dark_palette(\"palegreen\", as_cmap=True, reverse=True)\n",
    "pal = sn.color_palette(\"binary\", 50)  # PuBu - BuGn - RdPu - Greys\n",
    "sn.clustermap(df_cm, annot_kws={\"size\": 5}, cmap=pal)  # cmap=\"vlag\") # plt.cm.Blues)"
   ]
  },
  {
   "cell_type": "code",
   "execution_count": null,
   "metadata": {},
   "outputs": [],
   "source": [
    "Z = hierarchy.linkage(df_cm, \"ward\")\n",
    "#hierarchy.set_link_color_palette(['#b30000','#996600', '#b30086'])\n",
    "R = hierarchy.dendrogram(Z, leaf_rotation=90, leaf_font_size=8, labels=df_cm.index)"
   ]
  },
  {
   "cell_type": "markdown",
   "metadata": {},
   "source": [
    "---"
   ]
  },
  {
   "cell_type": "markdown",
   "metadata": {},
   "source": [
    "##### Test filter : load single and filter others"
   ]
  },
  {
   "cell_type": "code",
   "execution_count": 63,
   "metadata": {},
   "outputs": [
    {
     "name": "stdout",
     "output_type": "stream",
     "text": [
      "Filter businesses from category Active Life [active] (9521 businesses) ...\n",
      "Filtered 8634 businesses (overlap with Active Life)\n",
      "Filter businesses from category Arts & Entertainment [arts] (6304 businesses) ...\n",
      "Filtered 49706 businesses (overlap with Arts & Entertainment)\n",
      "Filter businesses from category Automotive [auto] (13203 businesses) ...\n",
      "Filtered 12560 businesses (overlap with Automotive)\n",
      "Filter businesses from category Beauty & Spas [beautysvc] (19370 businesses) ...\n",
      "Filtered 6506 businesses (overlap with Beauty & Spas)\n",
      "Filter businesses from category Bicycles [bicycles] (9 businesses) ...\n",
      "Filtered 0 businesses (overlap with Bicycles)\n",
      "Filter businesses from category Education [education] (3314 businesses) ...\n",
      "Filtered 2203 businesses (overlap with Education)\n",
      "Filter businesses from category Event Planning & Services [eventservices] (10371 businesses) ...\n",
      "Filtered 87460 businesses (overlap with Event Planning & Services)\n",
      "Filter businesses from category Financial Services [financialservices] (3082 businesses) ...\n",
      "Filtered 165 businesses (overlap with Financial Services)\n",
      "Filter businesses from category Health & Medical [health] (17171 businesses) ...\n",
      "Filtered 4814 businesses (overlap with Health & Medical)\n",
      "Filter businesses from category Home Services [homeservices] (19744 businesses) ...\n",
      "Filtered 1903 businesses (overlap with Home Services)\n",
      "Filter businesses from category Hotels & Travel [hotelstravel] (6033 businesses) ...\n",
      "Filtered 5012 businesses (overlap with Hotels & Travel)\n",
      "Filter businesses from category Local Flavor [localflavor] (1444 businesses) ...\n",
      "Filtered 22657 businesses (overlap with Local Flavor)\n",
      "Filter businesses from category Local Services [localservices] (13932 businesses) ...\n",
      "Filtered 1739 businesses (overlap with Local Services)\n",
      "Filter businesses from category Mass Media [massmedia] (319 businesses) ...\n",
      "Filtered 14 businesses (overlap with Mass Media)\n",
      "Filter businesses from category Nightlife [nightlife] (13095 businesses) ...\n",
      "Filtered 221121 businesses (overlap with Nightlife)\n",
      "Filter businesses from category Pets [pets] (4111 businesses) ...\n",
      "Filtered 761 businesses (overlap with Pets)\n",
      "Filter businesses from category Professional Services [professional] (6276 businesses) ...\n",
      "Filtered 584 businesses (overlap with Professional Services)\n",
      "Filter businesses from category Public Services & Government [publicservicesgovt] (1343 businesses) ...\n",
      "Filtered 204 businesses (overlap with Public Services & Government)\n",
      "Filter businesses from category Religious Organizations [religiousorgs] (547 businesses) ...\n",
      "Filtered 14 businesses (overlap with Religious Organizations)\n",
      "Filter businesses from category Restaurants [restaurants] (59371 businesses) ...\n",
      "Filtered 780182 businesses (overlap with Restaurants)\n",
      "Filter businesses from category Shopping [shopping] (31878 businesses) ...\n",
      "Filtered 35840 businesses (overlap with Shopping)\n"
     ]
    },
    {
     "data": {
      "text/plain": [
       "(6685900, 1511092, 269013)"
      ]
     },
     "execution_count": 63,
     "metadata": {},
     "output_type": "execute_result"
    }
   ],
   "source": [
    "df_food = load_cached_root_category_businesses_df(\"Food\", map_categories)\n",
    "# df_food = get_reviews_for_category(df, \"Food\", inv_cat_bids, map_categories, map_cat_name2id)\n",
    "\n",
    "df_uniq_food = filter_root_category_businesses_uniq(\"Food\", inv_cat_bids, map_categories, map_cat_name2id)\n",
    "\n",
    "len(df), len(df_food), len(df_uniq_food)"
   ]
  },
  {
   "cell_type": "markdown",
   "metadata": {},
   "source": [
    "---"
   ]
  },
  {
   "cell_type": "code",
   "execution_count": 64,
   "metadata": {},
   "outputs": [
    {
     "name": "stdout",
     "output_type": "stream",
     "text": [
      "Food: 72013, uniq: 29989\n"
     ]
    }
   ],
   "source": [
    "cat_name = \"Food\"\n",
    "# cat_name = \"Public Services & Government\"\n",
    "\n",
    "df_food = get_reviews_for_category(df, cat_name, inv_cat_bids, map_categories, map_cat_name2id)"
   ]
  },
  {
   "cell_type": "code",
   "execution_count": null,
   "metadata": {},
   "outputs": [],
   "source": [
    "# min ratings per class (good|bad)\n",
    "min_ratings = 5\n",
    "\n",
    "df_food = filter_min_review_freq(df_food, min_ratings=5)"
   ]
  },
  {
   "cell_type": "code",
   "execution_count": null,
   "metadata": {},
   "outputs": [],
   "source": [
    "tok = Tokenizer()\n",
    "\n",
    "def tokenize_text(row):\n",
    "    row[\"text_tok\"] = [str(tok) for tok in tok.tokenize(row[\"text\"])]\n",
    "    return row\n",
    "\n",
    "df_food = df_food.progress_apply(tokenize_text, axis=1)"
   ]
  },
  {
   "cell_type": "code",
   "execution_count": null,
   "metadata": {},
   "outputs": [],
   "source": [
    "def count_words(row):\n",
    "    row[\"num_words\"] = len(row[\"text_tok\"])\n",
    "    return row\n",
    "\n",
    "df_food = df_food.progress_apply(count_words, axis=1)"
   ]
  },
  {
   "cell_type": "code",
   "execution_count": null,
   "metadata": {},
   "outputs": [],
   "source": [
    "df_food.info()"
   ]
  },
  {
   "cell_type": "code",
   "execution_count": null,
   "metadata": {},
   "outputs": [],
   "source": [
    "df_food.describe()"
   ]
  },
  {
   "cell_type": "code",
   "execution_count": null,
   "metadata": {},
   "outputs": [],
   "source": [
    "df_food[\"num_words\"].mean()"
   ]
  },
  {
   "cell_type": "code",
   "execution_count": null,
   "metadata": {},
   "outputs": [],
   "source": [
    "cat_name, df_food[\"num_words\"].mean()"
   ]
  },
  {
   "cell_type": "code",
   "execution_count": null,
   "metadata": {},
   "outputs": [],
   "source": []
  },
  {
   "cell_type": "code",
   "execution_count": null,
   "metadata": {},
   "outputs": [],
   "source": [
    "root_category_labels"
   ]
  },
  {
   "cell_type": "code",
   "execution_count": null,
   "metadata": {
    "jupyter": {
     "source_hidden": true
    }
   },
   "outputs": [],
   "source": [
    "df_roots = list()\n",
    "\n",
    "tok = Tokenizer()\n",
    "\n",
    "def tokenize_text(row):\n",
    "    row[\"text_tok\"] = [str(tok) for tok in tok.tokenize(row[\"text\"])]\n",
    "    return row\n",
    "\n",
    "def count_words(row):\n",
    "    row[\"num_words\"] = len(row[\"text_tok\"])\n",
    "    return row\n",
    "\n",
    "for root_category_label in root_category_labels:\n",
    "    df_rootcat = get_reviews_for_category(df, root_category_label, inv_cat_bids, map_categories, map_cat_name2id)\n",
    "    \n",
    "    df_rootcat = filter_min_review_freq(df_rootcat, min_ratings=5)\n",
    "\n",
    "    df_rootcat = df_rootcat.progress_apply(tokenize_text, axis=1)\n",
    "    \n",
    "    df_rootcat = df_rootcat.progress_apply(count_words, axis=1)\n",
    "    \n",
    "    # df_roots.append(df_rootcat)\n",
    "    print(f\"\"\"{root_category_label}: {df_rootcat[\"num_words\"].mean()}\"\"\")"
   ]
  },
  {
   "cell_type": "code",
   "execution_count": null,
   "metadata": {},
   "outputs": [],
   "source": [
    "for root_category_label, df_rootcat in zip(root_category_labels, df_roots):\n",
    "    print(f\"\"\"{root_category_label}: {df_rootcat[\"num_words\"].mean()}\"\"\")"
   ]
  },
  {
   "cell_type": "code",
   "execution_count": null,
   "metadata": {},
   "outputs": [],
   "source": [
    "import pickle\n",
    "\n",
    "fn_root_cat_reviews = data_yelp_path / \"df_root_cat_reviews.p\"\n",
    "\n",
    "with open(fn_root_cat_reviews, \"wb\") as fp:\n",
    "    pickle.dump(root_category_labels, fp, protocol=pickle.HIGHEST_PROTOCOL)\n",
    "    pickle.dump(df_roots, fp, protocol=pickle.HIGHEST_PROTOCOL)"
   ]
  },
  {
   "cell_type": "code",
   "execution_count": null,
   "metadata": {},
   "outputs": [],
   "source": []
  },
  {
   "cell_type": "markdown",
   "metadata": {},
   "source": [
    "---"
   ]
  },
  {
   "cell_type": "markdown",
   "metadata": {},
   "source": [
    "---"
   ]
  },
  {
   "cell_type": "markdown",
   "metadata": {},
   "source": [
    "---"
   ]
  },
  {
   "cell_type": "markdown",
   "metadata": {},
   "source": [
    "### Filter all reviews - can only contain top50 Topics"
   ]
  },
  {
   "cell_type": "code",
   "execution_count": null,
   "metadata": {},
   "outputs": [],
   "source": [
    "f_cats = get_Ntop_cats(inv_cat_bids, n=50)\n",
    "f_inv_bid_cats = load_topics(fn_yelp_topics, bids_not_cats=None, filter_cats=f_cats)\n",
    "f_inv_cat_bids = make_map_cats(f_inv_bid_cats)\n",
    "f_inv_cat_combis = make_cat_combis(f_inv_bid_cats)\n",
    "f_cat_pairs = make_cat_Ntuples(f_inv_cat_combis, n=2)"
   ]
  },
  {
   "cell_type": "markdown",
   "metadata": {},
   "source": [
    "### Filter with minimum number of category combination occurrences"
   ]
  },
  {
   "cell_type": "code",
   "execution_count": null,
   "metadata": {},
   "outputs": [],
   "source": [
    "f_cats = get_Ntop_cats(inv_cat_bids, n=50)\n",
    "# f_cats = None\n",
    "\n",
    "avg_num_of_cat_combis = int(sum(list(f_inv_cat_combis.values())) / len(f_inv_cat_combis))\n",
    "fi_inv_cat_combis = filter_min_cat_combis(inv_cat_combis, min_num=30)\n",
    "\n",
    "f2_inv_bid_cats = load_topics(fn_yelp_topics, bids_not_cats=None, filter_cats=f_cats, filter_cat_combis=fi_inv_cat_combis)\n",
    "\n",
    "f2_inv_cat_bids = make_map_cats(f2_inv_bid_cats)\n",
    "f2_inv_cat_combis = make_cat_combis(f2_inv_bid_cats)\n",
    "f2_cat_pairs = make_cat_Ntuples(f2_inv_cat_combis, n=2)"
   ]
  },
  {
   "cell_type": "markdown",
   "metadata": {},
   "source": [
    "### Make NxN map and heatmap it"
   ]
  },
  {
   "cell_type": "code",
   "execution_count": null,
   "metadata": {},
   "outputs": [],
   "source": [
    "df_cm, cat_array, cat_labels = make_NxN_map(f_cats, f2_cat_pairs)"
   ]
  },
  {
   "cell_type": "markdown",
   "metadata": {},
   "source": [
    "#### Clustering"
   ]
  },
  {
   "cell_type": "code",
   "execution_count": null,
   "metadata": {},
   "outputs": [],
   "source": [
    "plt.figure(figsize = (10, 7))\n",
    "sn.set(font_scale=0.7) # for label size\n",
    "sn.heatmap(df_cm, annot=False, annot_kws={\"size\": 10}) # font size\n",
    "plt.show()"
   ]
  },
  {
   "cell_type": "code",
   "execution_count": null,
   "metadata": {},
   "outputs": [],
   "source": [
    "plt.figure(figsize = (16, 16))\n",
    "sn.set(font_scale=0.7) # for label size\n",
    "# pal = sn.dark_palette(\"palegreen\", as_cmap=True, reverse=True)\n",
    "pal = sn.color_palette(\"binary\", 10)  # PuBu - BuGn - RdPu - Greys\n",
    "sn.clustermap(df_cm, annot_kws={\"size\": 5}, cmap=pal)  # cmap=\"vlag\") # plt.cm.Blues)"
   ]
  },
  {
   "cell_type": "code",
   "execution_count": null,
   "metadata": {},
   "outputs": [],
   "source": [
    "Z = hierarchy.linkage(df_cm, \"ward\")\n",
    "#hierarchy.set_link_color_palette(['#b30000','#996600', '#b30086'])\n",
    "R = hierarchy.dendrogram(Z, leaf_rotation=90, leaf_font_size=8, labels=df_cm.index)"
   ]
  },
  {
   "cell_type": "code",
   "execution_count": null,
   "metadata": {},
   "outputs": [],
   "source": [
    "df_cm2 = ssd.squareform(df_cm)\n",
    "\n",
    "Z = hierarchy.linkage(df_cm2, \"ward\")\n",
    "hierarchy.set_link_color_palette(['#b30000','#996600', '#b30086'])\n",
    "R = hierarchy.dendrogram(Z, leaf_rotation=90, leaf_font_size=8, labels=df_cm.index)"
   ]
  },
  {
   "cell_type": "code",
   "execution_count": null,
   "metadata": {},
   "outputs": [],
   "source": []
  },
  {
   "cell_type": "code",
   "execution_count": null,
   "metadata": {},
   "outputs": [],
   "source": [
    "sc = SpectralClustering(5, affinity='precomputed', n_init=100, assign_labels='discretize')\n",
    "cluster_labels = sc.fit_predict(cat_array)\n",
    "\n",
    "# sorted(list(zip(cat_labels, cluster_labels)), key=lambda x: x[1])\n",
    "\n",
    "groups = list()\n",
    "for g, data in groupby(sorted(list(zip(cat_labels, cluster_labels)), key=lambda x: x[1]), key=lambda x: x[1]):\n",
    "    group = [t for t, _ in data]\n",
    "    groups.append(group)\n",
    "\n",
    "    print(f\"Group {g}:\")\n",
    "    print(\"; \".join(group))\n",
    "    print()"
   ]
  },
  {
   "cell_type": "code",
   "execution_count": null,
   "metadata": {},
   "outputs": [],
   "source": [
    "ac = AgglomerativeClustering(4, affinity='euclidean', linkage='ward')\n",
    "csarr = cosine_similarity(cat_array)\n",
    "cluster_labels = ac.fit_predict(csarr)\n",
    "\n",
    "# sorted(list(zip(labels, cluster_labels)), key=lambda x: x[1])\n",
    "\n",
    "groups = list()\n",
    "for g, data in groupby(sorted(list(zip(cat_labels, cluster_labels)), key=lambda x: x[1]), key=lambda x: x[1]):\n",
    "    group = [t for t, _ in data]\n",
    "    groups.append(group)\n",
    "\n",
    "    print(f\"Group {g}:\")\n",
    "    print(\"; \".join(group))\n",
    "    print()"
   ]
  },
  {
   "cell_type": "code",
   "execution_count": null,
   "metadata": {},
   "outputs": [],
   "source": [
    "# cat_array, \\\n",
    "# linear_kernel(cat_array), \\\n",
    "# cosine_similarity(cat_array), \\\n",
    "# cat_labels"
   ]
  },
  {
   "cell_type": "markdown",
   "metadata": {},
   "source": [
    "### Stats for `cat_labels` in filtered category maps/lists etc."
   ]
  },
  {
   "cell_type": "code",
   "execution_count": null,
   "metadata": {},
   "outputs": [],
   "source": [
    "# number of business ids given a specific category\n",
    "sorted([(c, len(f_inv_cat_bids[c])) for c in cat_labels], key=lambda x: x[1], reverse=True)[:10]"
   ]
  },
  {
   "cell_type": "code",
   "execution_count": null,
   "metadata": {},
   "outputs": [],
   "source": [
    "# number of category combinations given a specific category\n",
    "sorted([(c, len([cc for cc in f_inv_cat_combis.keys() if c in cc])) for c in cat_labels], key=lambda x: x[1], reverse=True)[:10]"
   ]
  },
  {
   "cell_type": "code",
   "execution_count": null,
   "metadata": {},
   "outputs": [],
   "source": [
    "# number of category combinations given a specific category\n",
    "sorted([(c, len([cc for cc in f2_inv_cat_combis.keys() if c in cc])) for c in cat_labels], key=lambda x: x[1], reverse=True)[:10]"
   ]
  },
  {
   "cell_type": "code",
   "execution_count": null,
   "metadata": {},
   "outputs": [],
   "source": [
    "# better with filtering\n",
    "# category pairs for a given category\n",
    "sorted([(c, [cc for cc in f2_cat_pairs.keys() if c in cc]) for c in cat_labels], key=lambda x: len(x[1]), reverse=True)[:5]"
   ]
  },
  {
   "cell_type": "code",
   "execution_count": null,
   "metadata": {},
   "outputs": [],
   "source": [
    "# category pairs for a category:\n",
    "c = \"Food\"\n",
    "\n",
    "print(\"filtered by top50\\n\", [c1 if c1 != c else c2 for c1, c2 in [cc for cc in f_cat_pairs.keys() if c in cc]])\n",
    "print()\n",
    "print(\"filtered by avg amount (+top50)\\n\", [c1 if c1 != c else c2 for c1, c2 in [cc for cc in f2_cat_pairs.keys() if c in cc]])"
   ]
  },
  {
   "cell_type": "code",
   "execution_count": null,
   "metadata": {},
   "outputs": [],
   "source": [
    "f2_inv_cat_combis[(\"Food\",)]  # businesses with only this category ... (filtering should not affect this value)"
   ]
  },
  {
   "cell_type": "code",
   "execution_count": null,
   "metadata": {},
   "outputs": [],
   "source": [
    "f2_inv_cat_combis"
   ]
  },
  {
   "cell_type": "code",
   "execution_count": null,
   "metadata": {},
   "outputs": [],
   "source": [
    "inv_bid_cats = f2_inv_bid_cats\n",
    "inv_cat_bids = f2_inv_cat_bids\n",
    "inv_cat_combis = f2_inv_cat_combis\n",
    "cat_pairs = f2_cat_pairs"
   ]
  },
  {
   "cell_type": "code",
   "execution_count": null,
   "metadata": {},
   "outputs": [],
   "source": [
    "sum([len(b) for a, b in f2_inv_cat_bids.items()])"
   ]
  },
  {
   "cell_type": "code",
   "execution_count": null,
   "metadata": {},
   "outputs": [],
   "source": [
    "inv_bid_cats = load_topics(fn_yelp_topics)\n",
    "sum([len(b) for a, b in inv_cat_bids.items()])"
   ]
  },
  {
   "cell_type": "code",
   "execution_count": null,
   "metadata": {},
   "outputs": [],
   "source": [
    "https://www.yelp.com/developers/documentation/v3/all_category_list"
   ]
  },
  {
   "cell_type": "code",
   "execution_count": null,
   "metadata": {},
   "outputs": [],
   "source": [
    "len(f2_inv_cat_combis)  # number of category combinations"
   ]
  },
  {
   "cell_type": "markdown",
   "metadata": {},
   "source": [
    "---"
   ]
  },
  {
   "cell_type": "markdown",
   "metadata": {},
   "source": [
    "#### Statistics"
   ]
  },
  {
   "cell_type": "code",
   "execution_count": null,
   "metadata": {
    "ExecuteTime": {
     "end_time": "2020-03-23T11:40:21.843012Z",
     "start_time": "2020-03-23T11:40:21.840312Z"
    }
   },
   "outputs": [],
   "source": [
    "print(f\"Number of businesses with categories: {len(inv_bid_cats):>6}\")\n",
    "print(f\"                  without categories: {len(bids_not_cats):>6}\")\n",
    "print(f\"Number of categories: len(inv_cat_bids) = {len(inv_cat_bids)}\")"
   ]
  },
  {
   "cell_type": "code",
   "execution_count": null,
   "metadata": {
    "ExecuteTime": {
     "end_time": "2020-03-23T11:45:37.171561Z",
     "start_time": "2020-03-23T11:45:37.155441Z"
    }
   },
   "outputs": [],
   "source": [
    "inv_cat_combis.most_common(20)"
   ]
  },
  {
   "cell_type": "code",
   "execution_count": null,
   "metadata": {
    "ExecuteTime": {
     "end_time": "2020-03-23T11:48:13.063858Z",
     "start_time": "2020-03-23T11:48:13.059391Z"
    }
   },
   "outputs": [],
   "source": [
    "# count single categories\n",
    "cnt = Counter({k: len(v) for k, v in inv_cat_bids.items()})\n",
    "cnt.most_common(20)"
   ]
  },
  {
   "cell_type": "markdown",
   "metadata": {},
   "source": [
    "#### Filter reviews with at least N ratings"
   ]
  },
  {
   "cell_type": "code",
   "execution_count": null,
   "metadata": {},
   "outputs": [],
   "source": [
    "# min ratings per class (good|bad)\n",
    "min_ratings = 5\n",
    "\n",
    "df = filter_min_review_freq(df, min_ratings=5)"
   ]
  },
  {
   "cell_type": "markdown",
   "metadata": {},
   "source": [
    "#### Filter only reviews with both good and bad rating"
   ]
  },
  {
   "cell_type": "code",
   "execution_count": null,
   "metadata": {},
   "outputs": [],
   "source": [
    "df = filter_both_good_bad(df)"
   ]
  },
  {
   "cell_type": "markdown",
   "metadata": {},
   "source": [
    "#### Make pairs"
   ]
  },
  {
   "cell_type": "markdown",
   "metadata": {},
   "source": [
    "**TODO:**\n",
    "\n",
    "- check similar length -- what strategy to use to combine similar length pairs best?\n",
    "- flip sides (arg1 <-> arg2)\n",
    "- make more pairs (?) -- but keep same ratio of same-sentiment vs. not-same-sentiment (different-sentiment) ??\n",
    "- group by categories (topics) -- more explicit training (uniqueness of single arguments / topic structures)\n",
    "- evaluate on same-argument (S3C) - or amazon reviews\n",
    "- compute mean/avg sequence length\n",
    "- fixed layers in fine-tuning\n",
    "- visualization of trained layers and activation for good / bad inputs"
   ]
  },
  {
   "cell_type": "markdown",
   "metadata": {},
   "source": [
    "##### Positive + negative same-sentiment pairs"
   ]
  },
  {
   "cell_type": "code",
   "execution_count": null,
   "metadata": {},
   "outputs": [],
   "source": [
    "num_pairs_per_class = 2\n",
    "# N positive + N negative\n",
    "# --> 2N pos+neg (not same-sentiment)\n",
    "\n",
    "# TODO: randomness for positive ss / negative ss - sum is equal / or sum equal compared to not ss"
   ]
  },
  {
   "cell_type": "code",
   "execution_count": null,
   "metadata": {},
   "outputs": [],
   "source": [
    "pairs_good, pairs_bad = make_pairs_good_bad(df, num_pairs_per_class=2)\n",
    "\n",
    "print(\"#ss (pos)\", len(pairs_good))\n",
    "print(\"#ss (neg)\", len(pairs_bad))"
   ]
  },
  {
   "cell_type": "markdown",
   "metadata": {},
   "source": [
    "##### not same-sentiment pairs (combinations positive + negative)"
   ]
  },
  {
   "cell_type": "code",
   "execution_count": null,
   "metadata": {},
   "outputs": [],
   "source": [
    "#: number of negative same-sentiment samples same as positive same-sentiment samples\n",
    "num_pairs_negative = 2 * num_pairs_per_class\n",
    "\n",
    "#: whether for a single side (good or bad) there can be multiple occurrences of the same review\n",
    "#: may need to check afterwared that not by chance same pairing happens ...\n",
    "repeatable_on_side = False"
   ]
  },
  {
   "cell_type": "code",
   "execution_count": null,
   "metadata": {},
   "outputs": [],
   "source": [
    "pairs_not_ss = make_pairs_negative(df, num_pairs_negative, repeatable_on_side=False)\n",
    "\n",
    "print(\"#nss\", len(pairs_not_ss))"
   ]
  },
  {
   "cell_type": "markdown",
   "metadata": {},
   "source": [
    "##### dataframe for training etc."
   ]
  },
  {
   "cell_type": "code",
   "execution_count": null,
   "metadata": {},
   "outputs": [],
   "source": [
    "pairs_all = pairs_good + pairs_bad + pairs_not_ss\n",
    "print(\"#~ss\", len(pairs_all))\n",
    "\n",
    "# print(pairs_all[0][\"argument1_id\"])\n",
    "np.random.shuffle(pairs_all)\n",
    "# print(pairs_all[0][\"argument1_id\"])\n",
    "\n",
    "df_traindev = pd.DataFrame.from_dict(pairs_all)"
   ]
  },
  {
   "cell_type": "code",
   "execution_count": null,
   "metadata": {},
   "outputs": [],
   "source": [
    "fn_yelp_df = data_yelp_path / \"df_traindev.p\"\n",
    "\n",
    "with open(fn_yelp_df, \"wb\") as fp:\n",
    "    pickle.dump(df_traindev, fp, protocol=pickle.HIGHEST_PROTOCOL)"
   ]
  },
  {
   "cell_type": "markdown",
   "metadata": {},
   "source": [
    "---"
   ]
  },
  {
   "cell_type": "markdown",
   "metadata": {},
   "source": [
    "#### Reloading for training"
   ]
  },
  {
   "cell_type": "code",
   "execution_count": null,
   "metadata": {},
   "outputs": [],
   "source": [
    "data_yelp_path = Path(\"/home/ekoerner/same-side-classification/data/sentiment/yelp/\")\n",
    "fn_yelp_df = data_yelp_path / \"df_traindev.p\"\n",
    "\n",
    "with open(fn_yelp_df, \"rb\") as fp:\n",
    "    all_df = pickle.load(fp)"
   ]
  },
  {
   "cell_type": "code",
   "execution_count": null,
   "metadata": {},
   "outputs": [],
   "source": [
    "def _add_dummy_tag(row):\n",
    "    row[\"tag\"] = \"NA\"\n",
    "    return row\n",
    "\n",
    "# all_df = all_df.progress_apply(_add_dummy_tag, axis=1)\n",
    "all_df[\"tag\"] = \"NA\""
   ]
  },
  {
   "cell_type": "code",
   "execution_count": null,
   "metadata": {},
   "outputs": [],
   "source": [
    "num = len(all_df)\n",
    "ratio = 0.3\n",
    "idx_ratio = int(num * (1.0 - ratio))\n",
    "print(f\"traindev: [0:{idx_ratio}], test: [{idx_ratio}:{num}], ratio: {ratio}\")\n",
    "\n",
    "traindev_df = all_df.iloc[:idx_ratio]\n",
    "test_df = all_df.iloc[idx_ratio:]"
   ]
  },
  {
   "cell_type": "code",
   "execution_count": null,
   "metadata": {},
   "outputs": [],
   "source": [
    "# len(traindev_df), len(test_df)"
   ]
  },
  {
   "cell_type": "markdown",
   "metadata": {},
   "source": [
    "---\n",
    "---\n",
    "---"
   ]
  },
  {
   "cell_type": "markdown",
   "metadata": {},
   "source": [
    "## Default S3C training\n",
    "\n",
    "https://gluon-nlp.mxnet.io/install.html\n",
    "\n",
    "```bash\n",
    "pip install --upgrade 'mxnet>=1.3.0'  \n",
    "pip install gluonnlp  \n",
    "wget https://gluon-nlp.mxnet.io/_downloads/sentence_embedding.zip  \n",
    "unzip sentence_embedding.zip  \n",
    "ln -s sentence_embedding/bert bert  \n",
    "```"
   ]
  },
  {
   "cell_type": "code",
   "execution_count": null,
   "metadata": {},
   "outputs": [],
   "source": [
    "# ! pip install --upgrade 'mxnet>=1.3.0'\n",
    "# NOTE: do not install cpu + gpu version both, only one!\n",
    "! pip install --upgrade mxnet-cu102\n",
    "! pip install --upgrade gluonnlp "
   ]
  },
  {
   "cell_type": "code",
   "execution_count": null,
   "metadata": {},
   "outputs": [],
   "source": [
    "! wget https://gluon-nlp.mxnet.io/_downloads/sentence_embedding.zip\n",
    "# ! unzip sentence_embedding.zip\n",
    "# ! ln -s sentence_embedding/bert bert"
   ]
  },
  {
   "cell_type": "code",
   "execution_count": 73,
   "metadata": {},
   "outputs": [],
   "source": [
    "from mxboard import SummaryWriter\n",
    "\n",
    "from utils_data import get_train_test_sets\n",
    "\n",
    "from utils_gluon import setup_bert_epi128bce, setup_bert_epi512bce\n",
    "from utils_gluon import setup_bert_pro128bce, setup_bert_pro512bce\n",
    "\n",
    "from utils_gluon import transform_dataset\n",
    "from utils_gluon import predict_out_to_ys\n",
    "\n",
    "from utils_gluon import predict\n",
    "from utils_gluon import train\n",
    "\n",
    "# from utils_gluon import print_infos\n",
    "from utils_gluon import plot_train_stats\n",
    "\n",
    "from utils_gluon import report_training_results\n",
    "from utils_gluon import plot_confusion_matrix\n",
    "from utils_gluon import compute_metrics\n",
    "\n",
    "from utils_data import names_columns_X_arteval, names_columns_y"
   ]
  },
  {
   "cell_type": "code",
   "execution_count": 66,
   "metadata": {},
   "outputs": [],
   "source": [
    "from utils_data import Timer\n",
    "\n",
    "from utils_data import configure_logging\n",
    "configure_logging()\n",
    "\n",
    "from utils_data import init_random\n",
    "init_random()"
   ]
  },
  {
   "cell_type": "markdown",
   "metadata": {},
   "source": [
    "---"
   ]
  },
  {
   "cell_type": "code",
   "execution_count": 67,
   "metadata": {},
   "outputs": [
    {
     "name": "stdout",
     "output_type": "stream",
     "text": [
      "mkdir: cannot create directory ‘data/yelp_3_food_pro128BCE’: File exists\n"
     ]
    }
   ],
   "source": [
    "run_name = \"yelp_3_food_pro128BCE\"\n",
    "fn_run_path = Path(f\"data/{run_name}\")\n",
    "fn_traindev_df = fn_run_path / \"traindev.p\"\n",
    "\n",
    "category_name = \"Food\"\n",
    "\n",
    "! mkdir data/yelp_3_food_pro128BCE"
   ]
  },
  {
   "cell_type": "markdown",
   "metadata": {},
   "source": [
    "---"
   ]
  },
  {
   "cell_type": "code",
   "execution_count": 68,
   "metadata": {},
   "outputs": [
    {
     "name": "stdout",
     "output_type": "stream",
     "text": [
      "Filter businesses from category Active Life [active] (9521 businesses) ...\n",
      "Filtered 8634 businesses (overlap with Active Life)\n",
      "Filter businesses from category Arts & Entertainment [arts] (6304 businesses) ...\n",
      "Filtered 49706 businesses (overlap with Arts & Entertainment)\n",
      "Filter businesses from category Automotive [auto] (13203 businesses) ...\n",
      "Filtered 12560 businesses (overlap with Automotive)\n",
      "Filter businesses from category Beauty & Spas [beautysvc] (19370 businesses) ...\n",
      "Filtered 6506 businesses (overlap with Beauty & Spas)\n",
      "Filter businesses from category Bicycles [bicycles] (9 businesses) ...\n",
      "Filtered 0 businesses (overlap with Bicycles)\n",
      "Filter businesses from category Education [education] (3314 businesses) ...\n",
      "Filtered 2203 businesses (overlap with Education)\n",
      "Filter businesses from category Event Planning & Services [eventservices] (10371 businesses) ...\n",
      "Filtered 87460 businesses (overlap with Event Planning & Services)\n",
      "Filter businesses from category Financial Services [financialservices] (3082 businesses) ...\n",
      "Filtered 165 businesses (overlap with Financial Services)\n",
      "Filter businesses from category Health & Medical [health] (17171 businesses) ...\n",
      "Filtered 4814 businesses (overlap with Health & Medical)\n",
      "Filter businesses from category Home Services [homeservices] (19744 businesses) ...\n",
      "Filtered 1903 businesses (overlap with Home Services)\n",
      "Filter businesses from category Hotels & Travel [hotelstravel] (6033 businesses) ...\n",
      "Filtered 5012 businesses (overlap with Hotels & Travel)\n",
      "Filter businesses from category Local Flavor [localflavor] (1444 businesses) ...\n",
      "Filtered 22657 businesses (overlap with Local Flavor)\n",
      "Filter businesses from category Local Services [localservices] (13932 businesses) ...\n",
      "Filtered 1739 businesses (overlap with Local Services)\n",
      "Filter businesses from category Mass Media [massmedia] (319 businesses) ...\n",
      "Filtered 14 businesses (overlap with Mass Media)\n",
      "Filter businesses from category Nightlife [nightlife] (13095 businesses) ...\n",
      "Filtered 221121 businesses (overlap with Nightlife)\n",
      "Filter businesses from category Pets [pets] (4111 businesses) ...\n",
      "Filtered 761 businesses (overlap with Pets)\n",
      "Filter businesses from category Professional Services [professional] (6276 businesses) ...\n",
      "Filtered 584 businesses (overlap with Professional Services)\n",
      "Filter businesses from category Public Services & Government [publicservicesgovt] (1343 businesses) ...\n",
      "Filtered 204 businesses (overlap with Public Services & Government)\n",
      "Filter businesses from category Religious Organizations [religiousorgs] (547 businesses) ...\n",
      "Filtered 14 businesses (overlap with Religious Organizations)\n",
      "Filter businesses from category Restaurants [restaurants] (59371 businesses) ...\n",
      "Filtered 780182 businesses (overlap with Restaurants)\n",
      "Filter businesses from category Shopping [shopping] (31878 businesses) ...\n",
      "Filtered 35840 businesses (overlap with Shopping)\n"
     ]
    },
    {
     "data": {
      "text/plain": [
       "(6685900, 1511092, 269013)"
      ]
     },
     "execution_count": 68,
     "metadata": {},
     "output_type": "execute_result"
    }
   ],
   "source": [
    "df_food = load_cached_root_category_businesses_df(category_name, map_categories)\n",
    "# df_food = get_reviews_for_category(df, category_name, inv_cat_bids, map_categories, map_cat_name2id)\n",
    "\n",
    "df_uniq_food = filter_root_category_businesses_uniq(category_name, inv_cat_bids, map_categories, map_cat_name2id)\n",
    "\n",
    "len(df), len(df_food), len(df_uniq_food)"
   ]
  },
  {
   "cell_type": "code",
   "execution_count": null,
   "metadata": {},
   "outputs": [],
   "source": [
    "df_td = df_uniq_food"
   ]
  },
  {
   "cell_type": "code",
   "execution_count": null,
   "metadata": {},
   "outputs": [],
   "source": [
    "# min ratings per class (good|bad)\n",
    "min_ratings = 5\n",
    "\n",
    "df_td = filter_min_review_freq(df_td, min_ratings=5)"
   ]
  },
  {
   "cell_type": "code",
   "execution_count": null,
   "metadata": {},
   "outputs": [],
   "source": [
    "df_td = filter_both_good_bad(df_td)"
   ]
  },
  {
   "cell_type": "code",
   "execution_count": null,
   "metadata": {},
   "outputs": [],
   "source": [
    "traindev_df = make_or_load_pairs(df_td, str(fn_traindev_df), num_pairs_per_class=2)"
   ]
  },
  {
   "cell_type": "code",
   "execution_count": null,
   "metadata": {},
   "outputs": [],
   "source": [
    "len(traindev_df)  # pairs"
   ]
  },
  {
   "cell_type": "markdown",
   "metadata": {},
   "source": [
    "---"
   ]
  },
  {
   "cell_type": "code",
   "execution_count": null,
   "metadata": {},
   "outputs": [],
   "source": [
    "def _add_dummy_tag(row):\n",
    "    row[\"tag\"] = \"NA\"\n",
    "    return row\n",
    "\n",
    "# all_df = all_df.progress_apply(_add_dummy_tag, axis=1)\n",
    "traindev_df[\"tag\"] = \"NA\""
   ]
  },
  {
   "cell_type": "code",
   "execution_count": null,
   "metadata": {},
   "outputs": [],
   "source": [
    "X_train, X_dev, y_train, y_dev = get_train_test_sets(traindev_df, ratio=0.1)"
   ]
  },
  {
   "cell_type": "code",
   "execution_count": 33,
   "metadata": {},
   "outputs": [
    {
     "name": "stdout",
     "output_type": "stream",
     "text": [
      "Start on [setup BERT model] ...\n",
      "Time for [setup BERT model]: 0:00:02.588552\n"
     ]
    }
   ],
   "source": [
    "with Timer(\"setup BERT model\"):\n",
    "    model, vocabulary, ctx, tokenizer, transform, loss_function, metric, all_labels = setup_bert_pro128bce(gpu=1)"
   ]
  },
  {
   "cell_type": "code",
   "execution_count": null,
   "metadata": {},
   "outputs": [],
   "source": [
    "with Timer(\"prepare training / validation data\"):\n",
    "    data_train_raw, data_train = transform_dataset(X_train, y_train, transform)\n",
    "    data_dev_raw, data_dev = transform_dataset(X_dev, y_dev, transform)"
   ]
  },
  {
   "cell_type": "code",
   "execution_count": 34,
   "metadata": {},
   "outputs": [],
   "source": [
    "num_epochs = 3\n",
    "batch_size = 32"
   ]
  },
  {
   "cell_type": "markdown",
   "metadata": {},
   "source": [
    "##### Training with TRAIN set"
   ]
  },
  {
   "cell_type": "code",
   "execution_count": null,
   "metadata": {},
   "outputs": [],
   "source": [
    "for epoch_id in range(num_epochs):\n",
    "    with Timer(f\"train model - {epoch_id}\"), SummaryWriter(logdir=str(fn_run_path), flush_secs=600) as sw:\n",
    "        stats = train(model, data_train, ctx, metric, loss_function, batch_size=batch_size, lr=5e-6, num_epochs=epoch_id + 1, sw=sw, checkpoint_dir=str(fn_run_path))\n",
    "        plot_train_stats(stats)\n",
    "\n",
    "    with Timer(f\"evaluate - {epoch_id}\"), SummaryWriter(logdir=str(fn_run_path), flush_secs=600) as sw:\n",
    "        all_predictions, cum_loss = predict(model, data_dev, ctx, metric, loss_function, batch_size=batch_size, sw=sw)\n",
    "        print(f\"Accuracy in epoch {epoch_id}:\", metric.get()[1])\n",
    "\n",
    "        y_true, y_pred = predict_out_to_ys(all_predictions, all_labels)\n",
    "        report_training_results(y_true, y_pred, name=f\"BERTClassifier - {run_name}\", heatmap=False)\n",
    "\n",
    "    model.save_parameters(str(fn_run_path / \"bert.model.params\"))"
   ]
  },
  {
   "cell_type": "code",
   "execution_count": null,
   "metadata": {},
   "outputs": [],
   "source": [
    "plot_train_stats(stats)"
   ]
  },
  {
   "cell_type": "markdown",
   "metadata": {},
   "source": [
    "##### Results with validation set (DEV set)"
   ]
  },
  {
   "cell_type": "code",
   "execution_count": null,
   "metadata": {
    "scrolled": true
   },
   "outputs": [],
   "source": [
    "all_predictions, cum_loss = predict(model, data_dev, ctx, metric, loss_function, batch_size=batch_size)\n",
    "y_true, y_pred = predict_out_to_ys(all_predictions, all_labels)\n",
    "with open(fn_run_path / \"eval_untrained.p\", \"wb\") as fp:\n",
    "    pickle.dump(y_true, fp, protocol=pickle.HIGHEST_PROTOCOL)\n",
    "    pickle.dump(y_pred, fp, protocol=pickle.HIGHEST_PROTOCOL)\n",
    "report_training_results(y_true, y_pred, name=f\"BERTClassifier - {run_name}\", heatmap=False)\n",
    "plot_confusion_matrix(y_true, y_pred, labels=[0, 1], title=f\"{run_name} Untrained\", values_format=\"d\", cmap=\"Blues\", include_colorbar=False)\n",
    "plt.show()"
   ]
  },
  {
   "cell_type": "code",
   "execution_count": null,
   "metadata": {
    "scrolled": true
   },
   "outputs": [],
   "source": [
    "print(\"Evaluate trained model for each epoch ...\")\n",
    "for epoch_id in range(num_epochs):\n",
    "    fn_model_state = fn_run_path / f\"bert.model.checkpoint{epoch_id}.params\"\n",
    "    print(f\"Load {fn_model_state} ...\")\n",
    "    model.load_parameters(str(fn_model_state), ctx=ctx)\n",
    "    all_predictions, cum_loss = predict(model, data_dev, ctx, metric, loss_function, batch_size=batch_size)\n",
    "    y_true, y_pred = predict_out_to_ys(all_predictions, all_labels)\n",
    "    with open(fn_run_path / f\"eval_epoch{epoch_id}.p\", \"wb\") as fp:\n",
    "        pickle.dump(y_true, fp, protocol=pickle.HIGHEST_PROTOCOL)\n",
    "        pickle.dump(y_pred, fp, protocol=pickle.HIGHEST_PROTOCOL)\n",
    "    report_training_results(y_true, y_pred, name=f\"BERTClassifier - {run_name}\", heatmap=False)\n",
    "    plot_confusion_matrix(y_true, y_pred, labels=[0, 1], title=f\"Yelp 3 Epoch {epoch_id}\", values_format=\"d\", cmap=\"Blues\", include_colorbar=False)\n",
    "    plt.show()"
   ]
  },
  {
   "cell_type": "markdown",
   "metadata": {},
   "source": [
    "### Load other categories and evaluate"
   ]
  },
  {
   "cell_type": "code",
   "execution_count": 74,
   "metadata": {},
   "outputs": [
    {
     "name": "stdout",
     "output_type": "stream",
     "text": [
      "Load data/yelp_3_food_pro128BCE/bert.model.checkpoint2.params ...\n"
     ]
    }
   ],
   "source": [
    "fn_model_state = fn_run_path / f\"bert.model.checkpoint{num_epochs - 1}.params\"\n",
    "print(f\"Load {fn_model_state} ...\")\n",
    "model.load_parameters(str(fn_model_state), ctx=ctx)"
   ]
  },
  {
   "cell_type": "code",
   "execution_count": 70,
   "metadata": {},
   "outputs": [],
   "source": [
    "# lst_root_categories\n",
    "root_categories = get_root_category_items(map_categories)\n",
    "root_categories = sorted(root_categories, key=lambda x: x[\"title\"])\n",
    "root_category_labels = [x[\"title\"] for x in root_categories]"
   ]
  },
  {
   "cell_type": "code",
   "execution_count": 75,
   "metadata": {},
   "outputs": [
    {
     "name": "stdout",
     "output_type": "stream",
     "text": [
      "Work on Active Life ...\n",
      "Filter businesses from category Food [food] (29989 businesses) ...\n",
      "Filtered 8634 businesses (overlap with Food)\n"
     ]
    },
    {
     "name": "stderr",
     "output_type": "stream",
     "text": [
      "100%|██████████| 1969/1969 [00:04<00:00, 487.70it/s]\n",
      "  2%|▏         | 36/1969 [00:00<00:05, 359.51it/s]"
     ]
    },
    {
     "name": "stdout",
     "output_type": "stream",
     "text": [
      "#ss (pos) 3938\n",
      "#ss (neg) 3938\n"
     ]
    },
    {
     "name": "stderr",
     "output_type": "stream",
     "text": [
      "100%|██████████| 1969/1969 [00:04<00:00, 478.91it/s]\n"
     ]
    },
    {
     "name": "stdout",
     "output_type": "stream",
     "text": [
      "#nss 7876\n",
      "#~ss 15752\n",
      "review pairs: 15752\n"
     ]
    },
    {
     "name": "stderr",
     "output_type": "stream",
     "text": [
      "  0%|          | 1/493 [00:00<00:51,  9.49it/s]"
     ]
    },
    {
     "name": "stdout",
     "output_type": "stream",
     "text": [
      "Start on [prediction] ...\n"
     ]
    },
    {
     "name": "stderr",
     "output_type": "stream",
     "text": [
      "100%|██████████| 493/493 [00:47<00:00, 10.44it/s]\n"
     ]
    },
    {
     "name": "stdout",
     "output_type": "stream",
     "text": [
      "Time for [prediction]: 0:00:47.238626\n",
      "Confusion Matrix:\n",
      "[[5974 1902]\n",
      " [2020 5856]]\n",
      "\n",
      "CM: [5974 1902 2020 5856] \n",
      "[tn, fp, fn, tp]\n",
      "  accuracy: 0.751\n",
      " precision: 0.751\n",
      "    recall: 0.751\n",
      "  f1-score: 0.751\n",
      "\n",
      "Accuracy:  0.751 \n",
      "\n",
      "Report for [BERTClassifier - yelp_3_food_pro128BCE - Food-->Active Life]:\n",
      "              precision    recall  f1-score   support\n",
      "\n",
      "           0       0.75      0.76      0.75      7876\n",
      "           1       0.75      0.74      0.75      7876\n",
      "\n",
      "    accuracy                           0.75     15752\n",
      "   macro avg       0.75      0.75      0.75     15752\n",
      "weighted avg       0.75      0.75      0.75     15752\n",
      "\n"
     ]
    },
    {
     "data": {
      "image/png": "[encoded data removed]",
      "text/plain": [
       "<Figure size 432x288 with 1 Axes>"
      ]
     },
     "metadata": {},
     "output_type": "display_data"
    },
    {
     "name": "stdout",
     "output_type": "stream",
     "text": [
      "Work on Arts & Entertainment ...\n",
      "Filter businesses from category Food [food] (29989 businesses) ...\n",
      "Filtered 53758 businesses (overlap with Food)\n"
     ]
    },
    {
     "name": "stderr",
     "output_type": "stream",
     "text": [
      "100%|██████████| 1986/1986 [00:04<00:00, 450.03it/s]\n",
      "  1%|          | 14/1986 [00:00<00:14, 137.33it/s]"
     ]
    },
    {
     "name": "stdout",
     "output_type": "stream",
     "text": [
      "#ss (pos) 3972\n",
      "#ss (neg) 3972\n"
     ]
    },
    {
     "name": "stderr",
     "output_type": "stream",
     "text": [
      "100%|██████████| 1986/1986 [00:04<00:00, 472.91it/s]\n"
     ]
    },
    {
     "name": "stdout",
     "output_type": "stream",
     "text": [
      "#nss 7944\n",
      "#~ss 15888\n",
      "review pairs: 15888\n"
     ]
    },
    {
     "name": "stderr",
     "output_type": "stream",
     "text": [
      "  0%|          | 1/497 [00:00<00:53,  9.25it/s]"
     ]
    },
    {
     "name": "stdout",
     "output_type": "stream",
     "text": [
      "Start on [prediction] ...\n"
     ]
    },
    {
     "name": "stderr",
     "output_type": "stream",
     "text": [
      "100%|██████████| 497/497 [00:47<00:00, 10.37it/s]\n"
     ]
    },
    {
     "name": "stdout",
     "output_type": "stream",
     "text": [
      "Time for [prediction]: 0:00:47.924836\n",
      "Confusion Matrix:\n",
      "[[5621 2323]\n",
      " [2286 5658]]\n",
      "\n",
      "CM: [5621 2323 2286 5658] \n",
      "[tn, fp, fn, tp]\n",
      "  accuracy: 0.710\n",
      " precision: 0.710\n",
      "    recall: 0.710\n",
      "  f1-score: 0.710\n",
      "\n",
      "Accuracy:  0.71 \n",
      "\n",
      "Report for [BERTClassifier - yelp_3_food_pro128BCE - Food-->Arts & Entertainment]:\n",
      "              precision    recall  f1-score   support\n",
      "\n",
      "           0       0.71      0.71      0.71      7944\n",
      "           1       0.71      0.71      0.71      7944\n",
      "\n",
      "    accuracy                           0.71     15888\n",
      "   macro avg       0.71      0.71      0.71     15888\n",
      "weighted avg       0.71      0.71      0.71     15888\n",
      "\n"
     ]
    },
    {
     "data": {
      "image/png": "[encoded data removed]",
      "text/plain": [
       "<Figure size 432x288 with 1 Axes>"
      ]
     },
     "metadata": {},
     "output_type": "display_data"
    },
    {
     "name": "stdout",
     "output_type": "stream",
     "text": [
      "Work on Automotive ...\n",
      "Filter businesses from category Food [food] (29989 businesses) ...\n",
      "Filtered 12623 businesses (overlap with Food)\n"
     ]
    },
    {
     "name": "stderr",
     "output_type": "stream",
     "text": [
      "100%|██████████| 2697/2697 [00:05<00:00, 487.15it/s]\n",
      "  1%|▏         | 34/2697 [00:00<00:07, 338.90it/s]"
     ]
    },
    {
     "name": "stdout",
     "output_type": "stream",
     "text": [
      "#ss (pos) 5394\n",
      "#ss (neg) 5394\n"
     ]
    },
    {
     "name": "stderr",
     "output_type": "stream",
     "text": [
      "100%|██████████| 2697/2697 [00:05<00:00, 484.69it/s]\n"
     ]
    },
    {
     "name": "stdout",
     "output_type": "stream",
     "text": [
      "#nss 10788\n",
      "#~ss 21576\n",
      "review pairs: 21576\n"
     ]
    },
    {
     "name": "stderr",
     "output_type": "stream",
     "text": [
      "  0%|          | 1/675 [00:00<01:16,  8.79it/s]"
     ]
    },
    {
     "name": "stdout",
     "output_type": "stream",
     "text": [
      "Start on [prediction] ...\n"
     ]
    },
    {
     "name": "stderr",
     "output_type": "stream",
     "text": [
      "100%|██████████| 675/675 [01:05<00:00, 10.36it/s]\n"
     ]
    },
    {
     "name": "stdout",
     "output_type": "stream",
     "text": [
      "Time for [prediction]: 0:01:05.133627\n",
      "Confusion Matrix:\n",
      "[[8346 2442]\n",
      " [1999 8789]]\n",
      "\n",
      "CM: [8346 2442 1999 8789] \n",
      "[tn, fp, fn, tp]\n",
      "  accuracy: 0.794\n",
      " precision: 0.795\n",
      "    recall: 0.794\n",
      "  f1-score: 0.794\n",
      "\n",
      "Accuracy:  0.794 \n",
      "\n",
      "Report for [BERTClassifier - yelp_3_food_pro128BCE - Food-->Automotive]:\n",
      "              precision    recall  f1-score   support\n",
      "\n",
      "           0       0.81      0.77      0.79     10788\n",
      "           1       0.78      0.81      0.80     10788\n",
      "\n",
      "    accuracy                           0.79     21576\n",
      "   macro avg       0.79      0.79      0.79     21576\n",
      "weighted avg       0.79      0.79      0.79     21576\n",
      "\n"
     ]
    },
    {
     "data": {
      "image/png": "[encoded data removed]",
      "text/plain": [
       "<Figure size 432x288 with 1 Axes>"
      ]
     },
     "metadata": {},
     "output_type": "display_data"
    },
    {
     "name": "stdout",
     "output_type": "stream",
     "text": [
      "Work on Beauty & Spas ...\n",
      "Filter businesses from category Food [food] (29989 businesses) ...\n",
      "Filtered 11899 businesses (overlap with Food)\n"
     ]
    },
    {
     "name": "stderr",
     "output_type": "stream",
     "text": [
      "100%|██████████| 4863/4863 [00:10<00:00, 472.90it/s]\n",
      "  0%|          | 0/4863 [00:00<?, ?it/s]"
     ]
    },
    {
     "name": "stdout",
     "output_type": "stream",
     "text": [
      "#ss (pos) 9726\n",
      "#ss (neg) 9726\n"
     ]
    },
    {
     "name": "stderr",
     "output_type": "stream",
     "text": [
      "100%|██████████| 4863/4863 [00:10<00:00, 479.96it/s]\n"
     ]
    },
    {
     "name": "stdout",
     "output_type": "stream",
     "text": [
      "#nss 19452\n",
      "#~ss 38904\n",
      "review pairs: 38904\n"
     ]
    },
    {
     "name": "stderr",
     "output_type": "stream",
     "text": [
      "  0%|          | 1/1216 [00:00<02:37,  7.72it/s]"
     ]
    },
    {
     "name": "stdout",
     "output_type": "stream",
     "text": [
      "Start on [prediction] ...\n"
     ]
    },
    {
     "name": "stderr",
     "output_type": "stream",
     "text": [
      "100%|██████████| 1216/1216 [01:56<00:00, 10.44it/s]\n"
     ]
    },
    {
     "name": "stdout",
     "output_type": "stream",
     "text": [
      "Time for [prediction]: 0:01:56.467390\n",
      "Confusion Matrix:\n",
      "[[15767  3685]\n",
      " [ 3407 16045]]\n",
      "\n",
      "CM: [15767  3685  3407 16045] \n",
      "[tn, fp, fn, tp]\n",
      "  accuracy: 0.818\n",
      " precision: 0.818\n",
      "    recall: 0.818\n",
      "  f1-score: 0.818\n",
      "\n",
      "Accuracy:  0.818 \n",
      "\n",
      "Report for [BERTClassifier - yelp_3_food_pro128BCE - Food-->Beauty & Spas]:\n",
      "              precision    recall  f1-score   support\n",
      "\n",
      "           0       0.82      0.81      0.82     19452\n",
      "           1       0.81      0.82      0.82     19452\n",
      "\n",
      "    accuracy                           0.82     38904\n",
      "   macro avg       0.82      0.82      0.82     38904\n",
      "weighted avg       0.82      0.82      0.82     38904\n",
      "\n"
     ]
    },
    {
     "data": {
      "image/png": "[encoded data removed]",
      "text/plain": [
       "<Figure size 432x288 with 1 Axes>"
      ]
     },
     "metadata": {},
     "output_type": "display_data"
    },
    {
     "name": "stderr",
     "output_type": "stream",
     "text": [
      "100%|██████████| 1/1 [00:00<00:00, 375.70it/s]\n",
      "100%|██████████| 1/1 [00:00<00:00, 412.26it/s]\n",
      "100%|██████████| 1/1 [00:00<00:00, 30.99it/s]"
     ]
    },
    {
     "name": "stdout",
     "output_type": "stream",
     "text": [
      "Work on Bicycles ...\n",
      "Filter businesses from category Food [food] (29989 businesses) ...\n",
      "Filtered 0 businesses (overlap with Food)\n",
      "#ss (pos) 2\n",
      "#ss (neg) 2\n",
      "#nss 4\n",
      "#~ss 8\n",
      "review pairs: 8\n",
      "Start on [prediction] ...\n",
      "Time for [prediction]: 0:00:00.033849\n",
      "Confusion Matrix:\n",
      "[[2 2]\n",
      " [0 4]]\n",
      "\n",
      "CM: [2 2 0 4] \n",
      "[tn, fp, fn, tp]\n",
      "  accuracy: 0.750\n",
      " precision: 0.833\n",
      "    recall: 0.750\n",
      "  f1-score: 0.733\n",
      "\n",
      "Accuracy:  0.75 \n",
      "\n",
      "Report for [BERTClassifier - yelp_3_food_pro128BCE - Food-->Bicycles]:\n",
      "              precision    recall  f1-score   support\n",
      "\n",
      "           0       1.00      0.50      0.67         4\n",
      "           1       0.67      1.00      0.80         4\n",
      "\n",
      "    accuracy                           0.75         8\n",
      "   macro avg       0.83      0.75      0.73         8\n",
      "weighted avg       0.83      0.75      0.73         8\n",
      "\n"
     ]
    },
    {
     "name": "stderr",
     "output_type": "stream",
     "text": [
      "\n"
     ]
    },
    {
     "data": {
      "image/png": "[encoded data removed]",
      "text/plain": [
       "<Figure size 432x288 with 1 Axes>"
      ]
     },
     "metadata": {},
     "output_type": "display_data"
    },
    {
     "name": "stdout",
     "output_type": "stream",
     "text": [
      "Work on Education ...\n"
     ]
    },
    {
     "name": "stderr",
     "output_type": "stream",
     "text": [
      "  0%|          | 0/408 [00:00<?, ?it/s]"
     ]
    },
    {
     "name": "stdout",
     "output_type": "stream",
     "text": [
      "Filter businesses from category Food [food] (29989 businesses) ...\n",
      "Filtered 3929 businesses (overlap with Food)\n"
     ]
    },
    {
     "name": "stderr",
     "output_type": "stream",
     "text": [
      "100%|██████████| 408/408 [00:00<00:00, 482.46it/s]\n",
      " 12%|█▏        | 48/408 [00:00<00:00, 478.73it/s]"
     ]
    },
    {
     "name": "stdout",
     "output_type": "stream",
     "text": [
      "#ss (pos) 816\n",
      "#ss (neg) 816\n"
     ]
    },
    {
     "name": "stderr",
     "output_type": "stream",
     "text": [
      "100%|██████████| 408/408 [00:00<00:00, 487.30it/s]\n"
     ]
    },
    {
     "name": "stdout",
     "output_type": "stream",
     "text": [
      "#nss 1632\n",
      "#~ss 3264\n",
      "review pairs: 3264\n"
     ]
    },
    {
     "name": "stderr",
     "output_type": "stream",
     "text": [
      "  1%|          | 1/102 [00:00<00:11,  8.80it/s]"
     ]
    },
    {
     "name": "stdout",
     "output_type": "stream",
     "text": [
      "Start on [prediction] ...\n"
     ]
    },
    {
     "name": "stderr",
     "output_type": "stream",
     "text": [
      "100%|██████████| 102/102 [00:10<00:00,  9.86it/s]"
     ]
    },
    {
     "name": "stdout",
     "output_type": "stream",
     "text": [
      "Time for [prediction]: 0:00:10.345083\n",
      "Confusion Matrix:\n",
      "[[1227  405]\n",
      " [ 390 1242]]\n",
      "\n",
      "CM: [1227  405  390 1242] \n",
      "[tn, fp, fn, tp]\n",
      "  accuracy: 0.756\n",
      " precision: 0.756\n",
      "    recall: 0.756\n",
      "  f1-score: 0.756\n",
      "\n",
      "Accuracy:  0.756 \n",
      "\n",
      "Report for [BERTClassifier - yelp_3_food_pro128BCE - Food-->Education]:\n",
      "              precision    recall  f1-score   support\n",
      "\n",
      "           0       0.76      0.75      0.76      1632\n",
      "           1       0.75      0.76      0.76      1632\n",
      "\n",
      "    accuracy                           0.76      3264\n",
      "   macro avg       0.76      0.76      0.76      3264\n",
      "weighted avg       0.76      0.76      0.76      3264\n",
      "\n"
     ]
    },
    {
     "name": "stderr",
     "output_type": "stream",
     "text": [
      "\n"
     ]
    },
    {
     "data": {
      "image/png": "[encoded data removed]",
      "text/plain": [
       "<Figure size 432x288 with 1 Axes>"
      ]
     },
     "metadata": {},
     "output_type": "display_data"
    },
    {
     "name": "stdout",
     "output_type": "stream",
     "text": [
      "Work on Event Planning & Services ...\n",
      "Filter businesses from category Food [food] (29989 businesses) ...\n",
      "Filtered 109223 businesses (overlap with Food)\n"
     ]
    },
    {
     "name": "stderr",
     "output_type": "stream",
     "text": [
      "100%|██████████| 3072/3072 [00:06<00:00, 479.89it/s]\n",
      "  0%|          | 0/3072 [00:00<?, ?it/s]"
     ]
    },
    {
     "name": "stdout",
     "output_type": "stream",
     "text": [
      "#ss (pos) 6144\n",
      "#ss (neg) 6144\n"
     ]
    },
    {
     "name": "stderr",
     "output_type": "stream",
     "text": [
      "100%|██████████| 3072/3072 [00:06<00:00, 484.83it/s]\n"
     ]
    },
    {
     "name": "stdout",
     "output_type": "stream",
     "text": [
      "#nss 12288\n",
      "#~ss 24576\n",
      "review pairs: 24576\n"
     ]
    },
    {
     "name": "stderr",
     "output_type": "stream",
     "text": [
      "  0%|          | 1/768 [00:00<01:29,  8.60it/s]"
     ]
    },
    {
     "name": "stdout",
     "output_type": "stream",
     "text": [
      "Start on [prediction] ...\n"
     ]
    },
    {
     "name": "stderr",
     "output_type": "stream",
     "text": [
      "100%|██████████| 768/768 [01:14<00:00, 10.24it/s]\n"
     ]
    },
    {
     "name": "stdout",
     "output_type": "stream",
     "text": [
      "Time for [prediction]: 0:01:14.988550\n",
      "Confusion Matrix:\n",
      "[[9216 3072]\n",
      " [3241 9047]]\n",
      "\n",
      "CM: [9216 3072 3241 9047] \n",
      "[tn, fp, fn, tp]\n",
      "  accuracy: 0.743\n",
      " precision: 0.743\n",
      "    recall: 0.743\n",
      "  f1-score: 0.743\n",
      "\n",
      "Accuracy:  0.743 \n",
      "\n",
      "Report for [BERTClassifier - yelp_3_food_pro128BCE - Food-->Event Planning & Services]:\n",
      "              precision    recall  f1-score   support\n",
      "\n",
      "           0       0.74      0.75      0.74     12288\n",
      "           1       0.75      0.74      0.74     12288\n",
      "\n",
      "    accuracy                           0.74     24576\n",
      "   macro avg       0.74      0.74      0.74     24576\n",
      "weighted avg       0.74      0.74      0.74     24576\n",
      "\n"
     ]
    },
    {
     "data": {
      "image/png": "[encoded data removed]",
      "text/plain": [
       "<Figure size 432x288 with 1 Axes>"
      ]
     },
     "metadata": {},
     "output_type": "display_data"
    },
    {
     "name": "stderr",
     "output_type": "stream",
     "text": [
      " 17%|█▋        | 50/294 [00:00<00:00, 498.32it/s]"
     ]
    },
    {
     "name": "stdout",
     "output_type": "stream",
     "text": [
      "Work on Financial Services ...\n",
      "Filter businesses from category Food [food] (29989 businesses) ...\n",
      "Filtered 208 businesses (overlap with Food)\n"
     ]
    },
    {
     "name": "stderr",
     "output_type": "stream",
     "text": [
      "100%|██████████| 294/294 [00:00<00:00, 491.22it/s]\n",
      " 17%|█▋        | 50/294 [00:00<00:00, 496.77it/s]"
     ]
    },
    {
     "name": "stdout",
     "output_type": "stream",
     "text": [
      "#ss (pos) 588\n",
      "#ss (neg) 588\n"
     ]
    },
    {
     "name": "stderr",
     "output_type": "stream",
     "text": [
      "100%|██████████| 294/294 [00:00<00:00, 496.50it/s]\n",
      "  0%|          | 0/74 [00:00<?, ?it/s]"
     ]
    },
    {
     "name": "stdout",
     "output_type": "stream",
     "text": [
      "#nss 1176\n",
      "#~ss 2352\n",
      "review pairs: 2352\n",
      "Start on [prediction] ...\n"
     ]
    },
    {
     "name": "stderr",
     "output_type": "stream",
     "text": [
      "100%|██████████| 74/74 [00:06<00:00, 10.60it/s]\n"
     ]
    },
    {
     "name": "stdout",
     "output_type": "stream",
     "text": [
      "Time for [prediction]: 0:00:06.979767\n",
      "Confusion Matrix:\n",
      "[[928 248]\n",
      " [210 966]]\n",
      "\n",
      "CM: [928 248 210 966] \n",
      "[tn, fp, fn, tp]\n",
      "  accuracy: 0.805\n",
      " precision: 0.806\n",
      "    recall: 0.805\n",
      "  f1-score: 0.805\n",
      "\n",
      "Accuracy:  0.805 \n",
      "\n",
      "Report for [BERTClassifier - yelp_3_food_pro128BCE - Food-->Financial Services]:\n",
      "              precision    recall  f1-score   support\n",
      "\n",
      "           0       0.82      0.79      0.80      1176\n",
      "           1       0.80      0.82      0.81      1176\n",
      "\n",
      "    accuracy                           0.81      2352\n",
      "   macro avg       0.81      0.81      0.81      2352\n",
      "weighted avg       0.81      0.81      0.81      2352\n",
      "\n"
     ]
    },
    {
     "data": {
      "image/png": "[encoded data removed]",
      "text/plain": [
       "<Figure size 432x288 with 1 Axes>"
      ]
     },
     "metadata": {},
     "output_type": "display_data"
    },
    {
     "name": "stdout",
     "output_type": "stream",
     "text": [
      "Work on Health & Medical ...\n",
      "Filter businesses from category Food [food] (29989 businesses) ...\n",
      "Filtered 7032 businesses (overlap with Food)\n"
     ]
    },
    {
     "name": "stderr",
     "output_type": "stream",
     "text": [
      "100%|██████████| 3093/3093 [00:06<00:00, 487.96it/s]\n",
      "  1%|▏         | 40/3093 [00:00<00:07, 392.34it/s]"
     ]
    },
    {
     "name": "stdout",
     "output_type": "stream",
     "text": [
      "#ss (pos) 6186\n",
      "#ss (neg) 6186\n"
     ]
    },
    {
     "name": "stderr",
     "output_type": "stream",
     "text": [
      "100%|██████████| 3093/3093 [00:06<00:00, 493.33it/s]\n"
     ]
    },
    {
     "name": "stdout",
     "output_type": "stream",
     "text": [
      "#nss 12372\n",
      "#~ss 24744\n",
      "review pairs: 24744\n"
     ]
    },
    {
     "name": "stderr",
     "output_type": "stream",
     "text": [
      "  0%|          | 1/774 [00:00<01:33,  8.30it/s]"
     ]
    },
    {
     "name": "stdout",
     "output_type": "stream",
     "text": [
      "Start on [prediction] ...\n"
     ]
    },
    {
     "name": "stderr",
     "output_type": "stream",
     "text": [
      "100%|██████████| 774/774 [01:15<00:00, 10.23it/s]\n"
     ]
    },
    {
     "name": "stdout",
     "output_type": "stream",
     "text": [
      "Time for [prediction]: 0:01:15.697615\n",
      "Confusion Matrix:\n",
      "[[ 9825  2547]\n",
      " [ 2016 10356]]\n",
      "\n",
      "CM: [ 9825  2547  2016 10356] \n",
      "[tn, fp, fn, tp]\n",
      "  accuracy: 0.816\n",
      " precision: 0.816\n",
      "    recall: 0.816\n",
      "  f1-score: 0.816\n",
      "\n",
      "Accuracy:  0.816 \n",
      "\n",
      "Report for [BERTClassifier - yelp_3_food_pro128BCE - Food-->Health & Medical]:\n",
      "              precision    recall  f1-score   support\n",
      "\n",
      "           0       0.83      0.79      0.81     12372\n",
      "           1       0.80      0.84      0.82     12372\n",
      "\n",
      "    accuracy                           0.82     24744\n",
      "   macro avg       0.82      0.82      0.82     24744\n",
      "weighted avg       0.82      0.82      0.82     24744\n",
      "\n"
     ]
    },
    {
     "data": {
      "image/png": "[encoded data removed]",
      "text/plain": [
       "<Figure size 432x288 with 1 Axes>"
      ]
     },
     "metadata": {},
     "output_type": "display_data"
    },
    {
     "name": "stdout",
     "output_type": "stream",
     "text": [
      "Work on Home Services ...\n",
      "Filter businesses from category Food [food] (29989 businesses) ...\n",
      "Filtered 2792 businesses (overlap with Food)\n"
     ]
    },
    {
     "name": "stderr",
     "output_type": "stream",
     "text": [
      "100%|██████████| 3069/3069 [00:06<00:00, 488.49it/s]\n",
      "  1%|          | 37/3069 [00:00<00:08, 369.36it/s]"
     ]
    },
    {
     "name": "stdout",
     "output_type": "stream",
     "text": [
      "#ss (pos) 6138\n",
      "#ss (neg) 6138\n"
     ]
    },
    {
     "name": "stderr",
     "output_type": "stream",
     "text": [
      "100%|██████████| 3069/3069 [00:06<00:00, 493.79it/s]\n"
     ]
    },
    {
     "name": "stdout",
     "output_type": "stream",
     "text": [
      "#nss 12276\n",
      "#~ss 24552\n",
      "review pairs: 24552\n"
     ]
    },
    {
     "name": "stderr",
     "output_type": "stream",
     "text": [
      "  0%|          | 1/768 [00:00<01:27,  8.80it/s]"
     ]
    },
    {
     "name": "stdout",
     "output_type": "stream",
     "text": [
      "Start on [prediction] ...\n"
     ]
    },
    {
     "name": "stderr",
     "output_type": "stream",
     "text": [
      "100%|██████████| 768/768 [01:16<00:00, 10.08it/s]\n"
     ]
    },
    {
     "name": "stdout",
     "output_type": "stream",
     "text": [
      "Time for [prediction]: 0:01:16.180018\n",
      "Confusion Matrix:\n",
      "[[ 9418  2858]\n",
      " [ 2149 10127]]\n",
      "\n",
      "CM: [ 9418  2858  2149 10127] \n",
      "[tn, fp, fn, tp]\n",
      "  accuracy: 0.796\n",
      " precision: 0.797\n",
      "    recall: 0.796\n",
      "  f1-score: 0.796\n",
      "\n",
      "Accuracy:  0.796 \n",
      "\n",
      "Report for [BERTClassifier - yelp_3_food_pro128BCE - Food-->Home Services]:\n",
      "              precision    recall  f1-score   support\n",
      "\n",
      "           0       0.81      0.77      0.79     12276\n",
      "           1       0.78      0.82      0.80     12276\n",
      "\n",
      "    accuracy                           0.80     24552\n",
      "   macro avg       0.80      0.80      0.80     24552\n",
      "weighted avg       0.80      0.80      0.80     24552\n",
      "\n"
     ]
    },
    {
     "data": {
      "image/png": "[encoded data removed]",
      "text/plain": [
       "<Figure size 432x288 with 1 Axes>"
      ]
     },
     "metadata": {},
     "output_type": "display_data"
    },
    {
     "name": "stdout",
     "output_type": "stream",
     "text": [
      "Work on Hotels & Travel ...\n",
      "Filter businesses from category Food [food] (29989 businesses) ...\n",
      "Filtered 22032 businesses (overlap with Food)\n"
     ]
    },
    {
     "name": "stderr",
     "output_type": "stream",
     "text": [
      "100%|██████████| 2155/2155 [00:04<00:00, 465.91it/s]\n",
      "  1%|          | 19/2155 [00:00<00:11, 188.38it/s]"
     ]
    },
    {
     "name": "stdout",
     "output_type": "stream",
     "text": [
      "#ss (pos) 4310\n",
      "#ss (neg) 4310\n"
     ]
    },
    {
     "name": "stderr",
     "output_type": "stream",
     "text": [
      "100%|██████████| 2155/2155 [00:04<00:00, 469.78it/s]\n"
     ]
    },
    {
     "name": "stdout",
     "output_type": "stream",
     "text": [
      "#nss 8620\n",
      "#~ss 17240\n",
      "review pairs: 17240\n"
     ]
    },
    {
     "name": "stderr",
     "output_type": "stream",
     "text": [
      "  0%|          | 1/539 [00:00<01:00,  8.83it/s]"
     ]
    },
    {
     "name": "stdout",
     "output_type": "stream",
     "text": [
      "Start on [prediction] ...\n"
     ]
    },
    {
     "name": "stderr",
     "output_type": "stream",
     "text": [
      "100%|██████████| 539/539 [00:53<00:00, 10.14it/s]\n"
     ]
    },
    {
     "name": "stdout",
     "output_type": "stream",
     "text": [
      "Time for [prediction]: 0:00:53.171428\n",
      "Confusion Matrix:\n",
      "[[6355 2265]\n",
      " [2353 6267]]\n",
      "\n",
      "CM: [6355 2265 2353 6267] \n",
      "[tn, fp, fn, tp]\n",
      "  accuracy: 0.732\n",
      " precision: 0.732\n",
      "    recall: 0.732\n",
      "  f1-score: 0.732\n",
      "\n",
      "Accuracy:  0.732 \n",
      "\n",
      "Report for [BERTClassifier - yelp_3_food_pro128BCE - Food-->Hotels & Travel]:\n",
      "              precision    recall  f1-score   support\n",
      "\n",
      "           0       0.73      0.74      0.73      8620\n",
      "           1       0.73      0.73      0.73      8620\n",
      "\n",
      "    accuracy                           0.73     17240\n",
      "   macro avg       0.73      0.73      0.73     17240\n",
      "weighted avg       0.73      0.73      0.73     17240\n",
      "\n"
     ]
    },
    {
     "data": {
      "image/png": "[encoded data removed]",
      "text/plain": [
       "<Figure size 432x288 with 1 Axes>"
      ]
     },
     "metadata": {},
     "output_type": "display_data"
    },
    {
     "name": "stdout",
     "output_type": "stream",
     "text": [
      "Work on Local Flavor ...\n",
      "Filter businesses from category Food [food] (29989 businesses) ...\n",
      "Filtered 34515 businesses (overlap with Food)\n"
     ]
    },
    {
     "name": "stderr",
     "output_type": "stream",
     "text": [
      "100%|██████████| 304/304 [00:00<00:00, 464.34it/s]\n",
      " 15%|█▍        | 45/304 [00:00<00:00, 448.64it/s]"
     ]
    },
    {
     "name": "stdout",
     "output_type": "stream",
     "text": [
      "#ss (pos) 608\n",
      "#ss (neg) 608\n"
     ]
    },
    {
     "name": "stderr",
     "output_type": "stream",
     "text": [
      "100%|██████████| 304/304 [00:00<00:00, 472.65it/s]\n"
     ]
    },
    {
     "name": "stdout",
     "output_type": "stream",
     "text": [
      "#nss 1216\n",
      "#~ss 2432\n",
      "review pairs: 2432\n"
     ]
    },
    {
     "name": "stderr",
     "output_type": "stream",
     "text": [
      "  1%|▏         | 1/76 [00:00<00:08,  8.41it/s]"
     ]
    },
    {
     "name": "stdout",
     "output_type": "stream",
     "text": [
      "Start on [prediction] ...\n"
     ]
    },
    {
     "name": "stderr",
     "output_type": "stream",
     "text": [
      "100%|██████████| 76/76 [00:07<00:00, 10.17it/s]"
     ]
    },
    {
     "name": "stdout",
     "output_type": "stream",
     "text": [
      "Time for [prediction]: 0:00:07.471167\n",
      "Confusion Matrix:\n",
      "[[861 355]\n",
      " [372 844]]\n",
      "\n",
      "CM: [861 355 372 844] \n",
      "[tn, fp, fn, tp]\n",
      "  accuracy: 0.701\n",
      " precision: 0.701\n",
      "    recall: 0.701\n",
      "  f1-score: 0.701\n",
      "\n",
      "Accuracy:  0.701 \n",
      "\n",
      "Report for [BERTClassifier - yelp_3_food_pro128BCE - Food-->Local Flavor]:\n",
      "              precision    recall  f1-score   support\n",
      "\n",
      "           0       0.70      0.71      0.70      1216\n",
      "           1       0.70      0.69      0.70      1216\n",
      "\n",
      "    accuracy                           0.70      2432\n",
      "   macro avg       0.70      0.70      0.70      2432\n",
      "weighted avg       0.70      0.70      0.70      2432\n",
      "\n"
     ]
    },
    {
     "name": "stderr",
     "output_type": "stream",
     "text": [
      "\n"
     ]
    },
    {
     "data": {
      "image/png": "[encoded data removed]",
      "text/plain": [
       "<Figure size 432x288 with 1 Axes>"
      ]
     },
     "metadata": {},
     "output_type": "display_data"
    },
    {
     "name": "stdout",
     "output_type": "stream",
     "text": [
      "Work on Local Services ...\n",
      "Filter businesses from category Food [food] (29989 businesses) ...\n",
      "Filtered 3566 businesses (overlap with Food)\n"
     ]
    },
    {
     "name": "stderr",
     "output_type": "stream",
     "text": [
      "100%|██████████| 2295/2295 [00:04<00:00, 489.19it/s]\n",
      "  2%|▏         | 42/2295 [00:00<00:05, 419.04it/s]"
     ]
    },
    {
     "name": "stdout",
     "output_type": "stream",
     "text": [
      "#ss (pos) 4590\n",
      "#ss (neg) 4590\n"
     ]
    },
    {
     "name": "stderr",
     "output_type": "stream",
     "text": [
      "100%|██████████| 2295/2295 [00:04<00:00, 495.46it/s]\n"
     ]
    },
    {
     "name": "stdout",
     "output_type": "stream",
     "text": [
      "#nss 9180\n",
      "#~ss 18360\n",
      "review pairs: 18360\n"
     ]
    },
    {
     "name": "stderr",
     "output_type": "stream",
     "text": [
      "  0%|          | 1/574 [00:00<01:02,  9.11it/s]"
     ]
    },
    {
     "name": "stdout",
     "output_type": "stream",
     "text": [
      "Start on [prediction] ...\n"
     ]
    },
    {
     "name": "stderr",
     "output_type": "stream",
     "text": [
      "100%|██████████| 574/574 [00:55<00:00, 10.41it/s]\n"
     ]
    },
    {
     "name": "stdout",
     "output_type": "stream",
     "text": [
      "Time for [prediction]: 0:00:55.155578\n",
      "Confusion Matrix:\n",
      "[[7172 2008]\n",
      " [1695 7485]]\n",
      "\n",
      "CM: [7172 2008 1695 7485] \n",
      "[tn, fp, fn, tp]\n",
      "  accuracy: 0.798\n",
      " precision: 0.799\n",
      "    recall: 0.798\n",
      "  f1-score: 0.798\n",
      "\n",
      "Accuracy:  0.798 \n",
      "\n",
      "Report for [BERTClassifier - yelp_3_food_pro128BCE - Food-->Local Services]:\n",
      "              precision    recall  f1-score   support\n",
      "\n",
      "           0       0.81      0.78      0.79      9180\n",
      "           1       0.79      0.82      0.80      9180\n",
      "\n",
      "    accuracy                           0.80     18360\n",
      "   macro avg       0.80      0.80      0.80     18360\n",
      "weighted avg       0.80      0.80      0.80     18360\n",
      "\n"
     ]
    },
    {
     "data": {
      "image/png": "[encoded data removed]",
      "text/plain": [
       "<Figure size 432x288 with 1 Axes>"
      ]
     },
     "metadata": {},
     "output_type": "display_data"
    },
    {
     "name": "stderr",
     "output_type": "stream",
     "text": [
      "100%|██████████| 35/35 [00:00<00:00, 497.43it/s]\n",
      "100%|██████████| 35/35 [00:00<00:00, 504.32it/s]"
     ]
    },
    {
     "name": "stdout",
     "output_type": "stream",
     "text": [
      "Work on Mass Media ...\n",
      "Filter businesses from category Food [food] (29989 businesses) ...\n",
      "Filtered 14 businesses (overlap with Food)\n",
      "#ss (pos) 70\n",
      "#ss (neg) 70\n",
      "#nss 140\n",
      "#~ss 280\n",
      "review pairs: 280\n"
     ]
    },
    {
     "name": "stderr",
     "output_type": "stream",
     "text": [
      "\n",
      " 22%|██▏       | 2/9 [00:00<00:00, 10.43it/s]"
     ]
    },
    {
     "name": "stdout",
     "output_type": "stream",
     "text": [
      "Start on [prediction] ...\n"
     ]
    },
    {
     "name": "stderr",
     "output_type": "stream",
     "text": [
      "100%|██████████| 9/9 [00:00<00:00, 10.59it/s]"
     ]
    },
    {
     "name": "stdout",
     "output_type": "stream",
     "text": [
      "Time for [prediction]: 0:00:00.851013\n",
      "Confusion Matrix:\n",
      "[[104  36]\n",
      " [ 32 108]]\n",
      "\n",
      "CM: [104  36  32 108] \n",
      "[tn, fp, fn, tp]\n",
      "  accuracy: 0.757\n",
      " precision: 0.757\n",
      "    recall: 0.757\n",
      "  f1-score: 0.757\n",
      "\n",
      "Accuracy:  0.757 \n",
      "\n",
      "Report for [BERTClassifier - yelp_3_food_pro128BCE - Food-->Mass Media]:\n",
      "              precision    recall  f1-score   support\n",
      "\n",
      "           0       0.76      0.74      0.75       140\n",
      "           1       0.75      0.77      0.76       140\n",
      "\n",
      "    accuracy                           0.76       280\n",
      "   macro avg       0.76      0.76      0.76       280\n",
      "weighted avg       0.76      0.76      0.76       280\n",
      "\n"
     ]
    },
    {
     "name": "stderr",
     "output_type": "stream",
     "text": [
      "\n"
     ]
    },
    {
     "data": {
      "image/png": "[encoded data removed]",
      "text/plain": [
       "<Figure size 432x288 with 1 Axes>"
      ]
     },
     "metadata": {},
     "output_type": "display_data"
    },
    {
     "name": "stdout",
     "output_type": "stream",
     "text": [
      "Work on Nightlife ...\n",
      "Filter businesses from category Food [food] (29989 businesses) ...\n",
      "Filtered 270212 businesses (overlap with Food)\n"
     ]
    },
    {
     "name": "stderr",
     "output_type": "stream",
     "text": [
      "100%|██████████| 6597/6597 [00:14<00:00, 468.94it/s]\n"
     ]
    },
    {
     "name": "stdout",
     "output_type": "stream",
     "text": [
      "#ss (pos) 13194\n",
      "#ss (neg) 13194\n"
     ]
    },
    {
     "name": "stderr",
     "output_type": "stream",
     "text": [
      "100%|██████████| 6597/6597 [00:13<00:00, 481.71it/s]\n"
     ]
    },
    {
     "name": "stdout",
     "output_type": "stream",
     "text": [
      "#nss 26388\n",
      "#~ss 52776\n",
      "review pairs: 52776\n"
     ]
    },
    {
     "name": "stderr",
     "output_type": "stream",
     "text": [
      "  0%|          | 1/1650 [00:00<03:25,  8.01it/s]"
     ]
    },
    {
     "name": "stdout",
     "output_type": "stream",
     "text": [
      "Start on [prediction] ...\n"
     ]
    },
    {
     "name": "stderr",
     "output_type": "stream",
     "text": [
      "100%|██████████| 1650/1650 [02:37<00:00, 10.45it/s]\n"
     ]
    },
    {
     "name": "stdout",
     "output_type": "stream",
     "text": [
      "Time for [prediction]: 0:02:37.827453\n",
      "Confusion Matrix:\n",
      "[[19783  6605]\n",
      " [ 7483 18905]]\n",
      "\n",
      "CM: [19783  6605  7483 18905] \n",
      "[tn, fp, fn, tp]\n",
      "  accuracy: 0.733\n",
      " precision: 0.733\n",
      "    recall: 0.733\n",
      "  f1-score: 0.733\n",
      "\n",
      "Accuracy:  0.733 \n",
      "\n",
      "Report for [BERTClassifier - yelp_3_food_pro128BCE - Food-->Nightlife]:\n",
      "              precision    recall  f1-score   support\n",
      "\n",
      "           0       0.73      0.75      0.74     26388\n",
      "           1       0.74      0.72      0.73     26388\n",
      "\n",
      "    accuracy                           0.73     52776\n",
      "   macro avg       0.73      0.73      0.73     52776\n",
      "weighted avg       0.73      0.73      0.73     52776\n",
      "\n"
     ]
    },
    {
     "data": {
      "image/png": "[encoded data removed]",
      "text/plain": [
       "<Figure size 432x288 with 1 Axes>"
      ]
     },
     "metadata": {},
     "output_type": "display_data"
    },
    {
     "name": "stdout",
     "output_type": "stream",
     "text": [
      "Work on Pets ...\n",
      "Filter businesses from category Food [food] (29989 businesses) ...\n",
      "Filtered 1443 businesses (overlap with Food)\n"
     ]
    },
    {
     "name": "stderr",
     "output_type": "stream",
     "text": [
      "100%|██████████| 983/983 [00:02<00:00, 490.88it/s]\n",
      "  5%|▍         | 45/983 [00:00<00:02, 449.91it/s]"
     ]
    },
    {
     "name": "stdout",
     "output_type": "stream",
     "text": [
      "#ss (pos) 1966\n",
      "#ss (neg) 1966\n"
     ]
    },
    {
     "name": "stderr",
     "output_type": "stream",
     "text": [
      "100%|██████████| 983/983 [00:02<00:00, 486.59it/s]\n"
     ]
    },
    {
     "name": "stdout",
     "output_type": "stream",
     "text": [
      "#nss 3932\n",
      "#~ss 7864\n",
      "review pairs: 7864\n"
     ]
    },
    {
     "name": "stderr",
     "output_type": "stream",
     "text": [
      "  0%|          | 1/246 [00:00<00:30,  8.13it/s]"
     ]
    },
    {
     "name": "stdout",
     "output_type": "stream",
     "text": [
      "Start on [prediction] ...\n"
     ]
    },
    {
     "name": "stderr",
     "output_type": "stream",
     "text": [
      "100%|██████████| 246/246 [00:24<00:00, 10.01it/s]\n"
     ]
    },
    {
     "name": "stdout",
     "output_type": "stream",
     "text": [
      "Time for [prediction]: 0:00:24.570945\n",
      "Confusion Matrix:\n",
      "[[3037  895]\n",
      " [ 783 3149]]\n",
      "\n",
      "CM: [3037  895  783 3149] \n",
      "[tn, fp, fn, tp]\n",
      "  accuracy: 0.787\n",
      " precision: 0.787\n",
      "    recall: 0.787\n",
      "  f1-score: 0.787\n",
      "\n",
      "Accuracy:  0.787 \n",
      "\n",
      "Report for [BERTClassifier - yelp_3_food_pro128BCE - Food-->Pets]:\n",
      "              precision    recall  f1-score   support\n",
      "\n",
      "           0       0.80      0.77      0.78      3932\n",
      "           1       0.78      0.80      0.79      3932\n",
      "\n",
      "    accuracy                           0.79      7864\n",
      "   macro avg       0.79      0.79      0.79      7864\n",
      "weighted avg       0.79      0.79      0.79      7864\n",
      "\n"
     ]
    },
    {
     "data": {
      "image/png": "[encoded data removed]",
      "text/plain": [
       "<Figure size 432x288 with 1 Axes>"
      ]
     },
     "metadata": {},
     "output_type": "display_data"
    },
    {
     "name": "stdout",
     "output_type": "stream",
     "text": [
      "Work on Professional Services ...\n",
      "Filter businesses from category Food [food] (29989 businesses) ...\n",
      "Filtered 1368 businesses (overlap with Food)\n"
     ]
    },
    {
     "name": "stderr",
     "output_type": "stream",
     "text": [
      "100%|██████████| 683/683 [00:01<00:00, 475.52it/s]\n",
      "  7%|▋         | 47/683 [00:00<00:01, 461.89it/s]"
     ]
    },
    {
     "name": "stdout",
     "output_type": "stream",
     "text": [
      "#ss (pos) 1366\n",
      "#ss (neg) 1366\n"
     ]
    },
    {
     "name": "stderr",
     "output_type": "stream",
     "text": [
      "100%|██████████| 683/683 [00:01<00:00, 478.15it/s]\n"
     ]
    },
    {
     "name": "stdout",
     "output_type": "stream",
     "text": [
      "#nss 2732\n",
      "#~ss 5464\n",
      "review pairs: 5464\n"
     ]
    },
    {
     "name": "stderr",
     "output_type": "stream",
     "text": [
      "  1%|          | 1/171 [00:00<00:18,  9.11it/s]"
     ]
    },
    {
     "name": "stdout",
     "output_type": "stream",
     "text": [
      "Start on [prediction] ...\n"
     ]
    },
    {
     "name": "stderr",
     "output_type": "stream",
     "text": [
      "100%|██████████| 171/171 [00:16<00:00, 10.35it/s]"
     ]
    },
    {
     "name": "stdout",
     "output_type": "stream",
     "text": [
      "Time for [prediction]: 0:00:16.527765\n",
      "Confusion Matrix:\n",
      "[[2118  614]\n",
      " [ 453 2279]]\n",
      "\n",
      "CM: [2118  614  453 2279] \n",
      "[tn, fp, fn, tp]\n",
      "  accuracy: 0.805\n",
      " precision: 0.806\n",
      "    recall: 0.805\n",
      "  f1-score: 0.805\n",
      "\n",
      "Accuracy:  0.805 \n",
      "\n",
      "Report for [BERTClassifier - yelp_3_food_pro128BCE - Food-->Professional Services]:\n",
      "              precision    recall  f1-score   support\n",
      "\n",
      "           0       0.82      0.78      0.80      2732\n",
      "           1       0.79      0.83      0.81      2732\n",
      "\n",
      "    accuracy                           0.80      5464\n",
      "   macro avg       0.81      0.80      0.80      5464\n",
      "weighted avg       0.81      0.80      0.80      5464\n",
      "\n"
     ]
    },
    {
     "name": "stderr",
     "output_type": "stream",
     "text": [
      "\n"
     ]
    },
    {
     "data": {
      "image/png": "[encoded data removed]",
      "text/plain": [
       "<Figure size 432x288 with 1 Axes>"
      ]
     },
     "metadata": {},
     "output_type": "display_data"
    },
    {
     "name": "stderr",
     "output_type": "stream",
     "text": [
      "  0%|          | 0/283 [00:00<?, ?it/s]"
     ]
    },
    {
     "name": "stdout",
     "output_type": "stream",
     "text": [
      "Work on Public Services & Government ...\n",
      "Filter businesses from category Food [food] (29989 businesses) ...\n",
      "Filtered 535 businesses (overlap with Food)\n"
     ]
    },
    {
     "name": "stderr",
     "output_type": "stream",
     "text": [
      "100%|██████████| 283/283 [00:00<00:00, 486.21it/s]\n",
      " 18%|█▊        | 50/283 [00:00<00:00, 492.63it/s]"
     ]
    },
    {
     "name": "stdout",
     "output_type": "stream",
     "text": [
      "#ss (pos) 566\n",
      "#ss (neg) 566\n"
     ]
    },
    {
     "name": "stderr",
     "output_type": "stream",
     "text": [
      "100%|██████████| 283/283 [00:00<00:00, 495.21it/s]\n",
      "  0%|          | 0/71 [00:00<?, ?it/s]"
     ]
    },
    {
     "name": "stdout",
     "output_type": "stream",
     "text": [
      "#nss 1132\n",
      "#~ss 2264\n",
      "review pairs: 2264\n",
      "Start on [prediction] ...\n"
     ]
    },
    {
     "name": "stderr",
     "output_type": "stream",
     "text": [
      "100%|██████████| 71/71 [00:06<00:00, 10.51it/s]"
     ]
    },
    {
     "name": "stdout",
     "output_type": "stream",
     "text": [
      "Time for [prediction]: 0:00:06.759141\n",
      "Confusion Matrix:\n",
      "[[762 370]\n",
      " [287 845]]\n",
      "\n",
      "CM: [762 370 287 845] \n",
      "[tn, fp, fn, tp]\n",
      "  accuracy: 0.710\n",
      " precision: 0.711\n",
      "    recall: 0.710\n",
      "  f1-score: 0.709\n",
      "\n",
      "Accuracy:  0.71 \n",
      "\n",
      "Report for [BERTClassifier - yelp_3_food_pro128BCE - Food-->Public Services & Government]:\n",
      "              precision    recall  f1-score   support\n",
      "\n",
      "           0       0.73      0.67      0.70      1132\n",
      "           1       0.70      0.75      0.72      1132\n",
      "\n",
      "    accuracy                           0.71      2264\n",
      "   macro avg       0.71      0.71      0.71      2264\n",
      "weighted avg       0.71      0.71      0.71      2264\n",
      "\n"
     ]
    },
    {
     "name": "stderr",
     "output_type": "stream",
     "text": [
      "\n"
     ]
    },
    {
     "data": {
      "image/png": "[encoded data removed]",
      "text/plain": [
       "<Figure size 432x288 with 1 Axes>"
      ]
     },
     "metadata": {},
     "output_type": "display_data"
    },
    {
     "name": "stderr",
     "output_type": "stream",
     "text": [
      "  0%|          | 0/43 [00:00<?, ?it/s]"
     ]
    },
    {
     "name": "stdout",
     "output_type": "stream",
     "text": [
      "Work on Religious Organizations ...\n",
      "Filter businesses from category Food [food] (29989 businesses) ...\n",
      "Filtered 183 businesses (overlap with Food)\n"
     ]
    },
    {
     "name": "stderr",
     "output_type": "stream",
     "text": [
      "100%|██████████| 43/43 [00:00<00:00, 487.00it/s]\n",
      "  0%|          | 0/43 [00:00<?, ?it/s]"
     ]
    },
    {
     "name": "stdout",
     "output_type": "stream",
     "text": [
      "#ss (pos) 86\n",
      "#ss (neg) 86\n"
     ]
    },
    {
     "name": "stderr",
     "output_type": "stream",
     "text": [
      "100%|██████████| 43/43 [00:00<00:00, 480.66it/s]\n",
      "  0%|          | 0/11 [00:00<?, ?it/s]"
     ]
    },
    {
     "name": "stdout",
     "output_type": "stream",
     "text": [
      "#nss 172\n",
      "#~ss 344\n",
      "review pairs: 344\n",
      "Start on [prediction] ...\n"
     ]
    },
    {
     "name": "stderr",
     "output_type": "stream",
     "text": [
      "100%|██████████| 11/11 [00:01<00:00, 10.41it/s]"
     ]
    },
    {
     "name": "stdout",
     "output_type": "stream",
     "text": [
      "Time for [prediction]: 0:00:01.058354\n",
      "Confusion Matrix:\n",
      "[[124  48]\n",
      " [ 42 130]]\n",
      "\n",
      "CM: [124  48  42 130] \n",
      "[tn, fp, fn, tp]\n",
      "  accuracy: 0.738\n",
      " precision: 0.739\n",
      "    recall: 0.738\n",
      "  f1-score: 0.738\n",
      "\n",
      "Accuracy:  0.738 \n",
      "\n",
      "Report for [BERTClassifier - yelp_3_food_pro128BCE - Food-->Religious Organizations]:\n",
      "              precision    recall  f1-score   support\n",
      "\n",
      "           0       0.75      0.72      0.73       172\n",
      "           1       0.73      0.76      0.74       172\n",
      "\n",
      "    accuracy                           0.74       344\n",
      "   macro avg       0.74      0.74      0.74       344\n",
      "weighted avg       0.74      0.74      0.74       344\n",
      "\n"
     ]
    },
    {
     "name": "stderr",
     "output_type": "stream",
     "text": [
      "\n"
     ]
    },
    {
     "data": {
      "image/png": "[encoded data removed]",
      "text/plain": [
       "<Figure size 432x288 with 1 Axes>"
      ]
     },
     "metadata": {},
     "output_type": "display_data"
    },
    {
     "name": "stdout",
     "output_type": "stream",
     "text": [
      "Work on Restaurants ...\n",
      "Filter businesses from category Food [food] (29989 businesses) ...\n",
      "Filtered 1133172 businesses (overlap with Food)\n"
     ]
    },
    {
     "name": "stderr",
     "output_type": "stream",
     "text": [
      "100%|██████████| 25170/25170 [00:54<00:00, 457.75it/s]\n"
     ]
    },
    {
     "name": "stdout",
     "output_type": "stream",
     "text": [
      "#ss (pos) 50340\n",
      "#ss (neg) 50340\n"
     ]
    },
    {
     "name": "stderr",
     "output_type": "stream",
     "text": [
      "100%|██████████| 25170/25170 [00:53<00:00, 468.73it/s]\n"
     ]
    },
    {
     "name": "stdout",
     "output_type": "stream",
     "text": [
      "#nss 100680\n",
      "#~ss 201360\n",
      "review pairs: 201360\n"
     ]
    },
    {
     "name": "stderr",
     "output_type": "stream",
     "text": [
      "  0%|          | 1/6293 [00:00<13:05,  8.01it/s]"
     ]
    },
    {
     "name": "stdout",
     "output_type": "stream",
     "text": [
      "Start on [prediction] ...\n"
     ]
    },
    {
     "name": "stderr",
     "output_type": "stream",
     "text": [
      "100%|██████████| 6293/6293 [09:57<00:00, 10.53it/s]\n"
     ]
    },
    {
     "name": "stdout",
     "output_type": "stream",
     "text": [
      "Time for [prediction]: 0:09:57.848214\n",
      "Confusion Matrix:\n",
      "[[77714 22966]\n",
      " [28194 72486]]\n",
      "\n",
      "CM: [77714 22966 28194 72486] \n",
      "[tn, fp, fn, tp]\n",
      "  accuracy: 0.746\n",
      " precision: 0.747\n",
      "    recall: 0.746\n",
      "  f1-score: 0.746\n",
      "\n",
      "Accuracy:  0.746 \n",
      "\n",
      "Report for [BERTClassifier - yelp_3_food_pro128BCE - Food-->Restaurants]:\n",
      "              precision    recall  f1-score   support\n",
      "\n",
      "           0       0.73      0.77      0.75    100680\n",
      "           1       0.76      0.72      0.74    100680\n",
      "\n",
      "    accuracy                           0.75    201360\n",
      "   macro avg       0.75      0.75      0.75    201360\n",
      "weighted avg       0.75      0.75      0.75    201360\n",
      "\n"
     ]
    },
    {
     "data": {
      "image/png": "[encoded data removed]",
      "text/plain": [
       "<Figure size 432x288 with 1 Axes>"
      ]
     },
     "metadata": {},
     "output_type": "display_data"
    },
    {
     "name": "stdout",
     "output_type": "stream",
     "text": [
      "Work on Shopping ...\n",
      "Filter businesses from category Food [food] (29989 businesses) ...\n",
      "Filtered 73912 businesses (overlap with Food)\n"
     ]
    },
    {
     "name": "stderr",
     "output_type": "stream",
     "text": [
      "100%|██████████| 5634/5634 [00:11<00:00, 491.60it/s]\n",
      "  0%|          | 0/5634 [00:00<?, ?it/s]"
     ]
    },
    {
     "name": "stdout",
     "output_type": "stream",
     "text": [
      "#ss (pos) 11268\n",
      "#ss (neg) 11268\n"
     ]
    },
    {
     "name": "stderr",
     "output_type": "stream",
     "text": [
      "100%|██████████| 5634/5634 [00:11<00:00, 488.03it/s]\n"
     ]
    },
    {
     "name": "stdout",
     "output_type": "stream",
     "text": [
      "#nss 22536\n",
      "#~ss 45072\n",
      "review pairs: 45072\n"
     ]
    },
    {
     "name": "stderr",
     "output_type": "stream",
     "text": [
      "  0%|          | 1/1409 [00:00<03:36,  6.50it/s]"
     ]
    },
    {
     "name": "stdout",
     "output_type": "stream",
     "text": [
      "Start on [prediction] ...\n"
     ]
    },
    {
     "name": "stderr",
     "output_type": "stream",
     "text": [
      "100%|██████████| 1409/1409 [02:16<00:00, 10.35it/s]\n"
     ]
    },
    {
     "name": "stdout",
     "output_type": "stream",
     "text": [
      "Time for [prediction]: 0:02:16.093503\n",
      "Confusion Matrix:\n",
      "[[16986  5550]\n",
      " [ 5131 17405]]\n",
      "\n",
      "CM: [16986  5550  5131 17405] \n",
      "[tn, fp, fn, tp]\n",
      "  accuracy: 0.763\n",
      " precision: 0.763\n",
      "    recall: 0.763\n",
      "  f1-score: 0.763\n",
      "\n",
      "Accuracy:  0.763 \n",
      "\n",
      "Report for [BERTClassifier - yelp_3_food_pro128BCE - Food-->Shopping]:\n",
      "              precision    recall  f1-score   support\n",
      "\n",
      "           0       0.77      0.75      0.76     22536\n",
      "           1       0.76      0.77      0.77     22536\n",
      "\n",
      "    accuracy                           0.76     45072\n",
      "   macro avg       0.76      0.76      0.76     45072\n",
      "weighted avg       0.76      0.76      0.76     45072\n",
      "\n"
     ]
    },
    {
     "data": {
      "image/png": "[encoded data removed]",
      "text/plain": [
       "<Figure size 432x288 with 1 Axes>"
      ]
     },
     "metadata": {},
     "output_type": "display_data"
    }
   ],
   "source": [
    "results_cross_no_overlap = dict()\n",
    "\n",
    "for root_category_label in root_category_labels:\n",
    "    if root_category_label == category_name:\n",
    "        continue\n",
    "\n",
    "    print(f\"Work on {root_category_label} ...\")\n",
    "    # without overlap\n",
    "    df_other = filter_root_category_businesses_not_other(root_category_label, category_name, inv_cat_bids, map_categories, map_cat_name2id)\n",
    "    \n",
    "    df_other = filter_min_review_freq(df_other, min_ratings=5)\n",
    "    df_other = filter_both_good_bad(df_other)\n",
    "    df_other = make_or_load_pairs(df_other, None, num_pairs_per_class=2)\n",
    "    print(\"review pairs:\", len(df_other))\n",
    "    \n",
    "    df_other[\"tag\"] = \"NA\"\n",
    "    \n",
    "    X_dev, y_dev = df_other[names_columns_X_arteval], df_other[names_columns_y]\n",
    "    data_dev_raw, data_dev = transform_dataset(X_dev, y_dev, transform)\n",
    "    \n",
    "    all_predictions, cum_loss = predict(model, data_dev, ctx, metric, loss_function, batch_size=batch_size)\n",
    "    y_true, y_pred = predict_out_to_ys(all_predictions, all_labels)\n",
    "    report_training_results(y_true, y_pred, name=f\"BERTClassifier - {run_name} - {category_name}-->{root_category_label}\", heatmap=False)\n",
    "    plot_confusion_matrix(y_true, y_pred, labels=[0, 1], title=f\"{run_name} - {category_name}-->{root_category_label}\", values_format=\"d\", cmap=\"Blues\", include_colorbar=False)\n",
    "    plt.show()\n",
    "    \n",
    "    results_cross_no_overlap[root_category_label] = compute_metrics(y_true, y_pred, precision=8, averaging=\"macro\", dump=False)"
   ]
  },
  {
   "cell_type": "code",
   "execution_count": 77,
   "metadata": {},
   "outputs": [
    {
     "name": "stdout",
     "output_type": "stream",
     "text": [
      "Work on Active Life ...\n"
     ]
    },
    {
     "name": "stderr",
     "output_type": "stream",
     "text": [
      "100%|██████████| 2039/2039 [00:04<00:00, 488.51it/s]\n",
      "  2%|▏         | 41/2039 [00:00<00:04, 406.74it/s]"
     ]
    },
    {
     "name": "stdout",
     "output_type": "stream",
     "text": [
      "#ss (pos) 4078\n",
      "#ss (neg) 4078\n"
     ]
    },
    {
     "name": "stderr",
     "output_type": "stream",
     "text": [
      "100%|██████████| 2039/2039 [00:04<00:00, 491.66it/s]\n"
     ]
    },
    {
     "name": "stdout",
     "output_type": "stream",
     "text": [
      "#nss 8156\n",
      "#~ss 16312\n",
      "review pairs: 16312\n"
     ]
    },
    {
     "name": "stderr",
     "output_type": "stream",
     "text": [
      "  0%|          | 1/510 [00:00<01:08,  7.41it/s]"
     ]
    },
    {
     "name": "stdout",
     "output_type": "stream",
     "text": [
      "Start on [prediction] ...\n"
     ]
    },
    {
     "name": "stderr",
     "output_type": "stream",
     "text": [
      "100%|██████████| 510/510 [00:48<00:00, 10.43it/s]\n"
     ]
    },
    {
     "name": "stdout",
     "output_type": "stream",
     "text": [
      "Time for [prediction]: 0:00:48.881101\n",
      "Confusion Matrix:\n",
      "[[6058 2098]\n",
      " [2106 6050]]\n",
      "\n",
      "CM: [6058 2098 2106 6050] \n",
      "[tn, fp, fn, tp]\n",
      "  accuracy: 0.742\n",
      " precision: 0.742\n",
      "    recall: 0.742\n",
      "  f1-score: 0.742\n",
      "\n",
      "Accuracy:  0.742 \n",
      "\n",
      "Report for [BERTClassifier - yelp_3_food_pro128BCE - Food-->Active Life]:\n",
      "              precision    recall  f1-score   support\n",
      "\n",
      "           0       0.74      0.74      0.74      8156\n",
      "           1       0.74      0.74      0.74      8156\n",
      "\n",
      "    accuracy                           0.74     16312\n",
      "   macro avg       0.74      0.74      0.74     16312\n",
      "weighted avg       0.74      0.74      0.74     16312\n",
      "\n"
     ]
    },
    {
     "data": {
      "image/png": "[encoded data removed]",
      "text/plain": [
       "<Figure size 432x288 with 1 Axes>"
      ]
     },
     "metadata": {},
     "output_type": "display_data"
    },
    {
     "name": "stdout",
     "output_type": "stream",
     "text": [
      "Work on Arts & Entertainment ...\n"
     ]
    },
    {
     "name": "stderr",
     "output_type": "stream",
     "text": [
      "100%|██████████| 2279/2279 [00:04<00:00, 465.85it/s]\n",
      "  1%|          | 18/2279 [00:00<00:12, 177.81it/s]"
     ]
    },
    {
     "name": "stdout",
     "output_type": "stream",
     "text": [
      "#ss (pos) 4558\n",
      "#ss (neg) 4558\n"
     ]
    },
    {
     "name": "stderr",
     "output_type": "stream",
     "text": [
      "100%|██████████| 2279/2279 [00:04<00:00, 469.15it/s]\n"
     ]
    },
    {
     "name": "stdout",
     "output_type": "stream",
     "text": [
      "#nss 9116\n",
      "#~ss 18232\n",
      "review pairs: 18232\n"
     ]
    },
    {
     "name": "stderr",
     "output_type": "stream",
     "text": [
      "  0%|          | 1/570 [00:00<01:02,  9.07it/s]"
     ]
    },
    {
     "name": "stdout",
     "output_type": "stream",
     "text": [
      "Start on [prediction] ...\n"
     ]
    },
    {
     "name": "stderr",
     "output_type": "stream",
     "text": [
      "100%|██████████| 570/570 [00:54<00:00, 10.38it/s]\n"
     ]
    },
    {
     "name": "stdout",
     "output_type": "stream",
     "text": [
      "Time for [prediction]: 0:00:54.924587\n",
      "Confusion Matrix:\n",
      "[[6484 2632]\n",
      " [2656 6460]]\n",
      "\n",
      "CM: [6484 2632 2656 6460] \n",
      "[tn, fp, fn, tp]\n",
      "  accuracy: 0.710\n",
      " precision: 0.710\n",
      "    recall: 0.710\n",
      "  f1-score: 0.710\n",
      "\n",
      "Accuracy:  0.71 \n",
      "\n",
      "Report for [BERTClassifier - yelp_3_food_pro128BCE - Food-->Arts & Entertainment]:\n",
      "              precision    recall  f1-score   support\n",
      "\n",
      "           0       0.71      0.71      0.71      9116\n",
      "           1       0.71      0.71      0.71      9116\n",
      "\n",
      "    accuracy                           0.71     18232\n",
      "   macro avg       0.71      0.71      0.71     18232\n",
      "weighted avg       0.71      0.71      0.71     18232\n",
      "\n"
     ]
    },
    {
     "data": {
      "image/png": "[encoded data removed]",
      "text/plain": [
       "<Figure size 432x288 with 1 Axes>"
      ]
     },
     "metadata": {},
     "output_type": "display_data"
    },
    {
     "name": "stdout",
     "output_type": "stream",
     "text": [
      "Work on Automotive ...\n"
     ]
    },
    {
     "name": "stderr",
     "output_type": "stream",
     "text": [
      "100%|██████████| 2848/2848 [00:05<00:00, 478.63it/s]\n",
      "  1%|          | 33/2848 [00:00<00:08, 327.94it/s]"
     ]
    },
    {
     "name": "stdout",
     "output_type": "stream",
     "text": [
      "#ss (pos) 5696\n",
      "#ss (neg) 5696\n"
     ]
    },
    {
     "name": "stderr",
     "output_type": "stream",
     "text": [
      "100%|██████████| 2848/2848 [00:05<00:00, 483.92it/s]\n"
     ]
    },
    {
     "name": "stdout",
     "output_type": "stream",
     "text": [
      "#nss 11392\n",
      "#~ss 22784\n",
      "review pairs: 22784\n"
     ]
    },
    {
     "name": "stderr",
     "output_type": "stream",
     "text": [
      "  0%|          | 1/712 [00:00<01:21,  8.75it/s]"
     ]
    },
    {
     "name": "stdout",
     "output_type": "stream",
     "text": [
      "Start on [prediction] ...\n"
     ]
    },
    {
     "name": "stderr",
     "output_type": "stream",
     "text": [
      "100%|██████████| 712/712 [01:08<00:00, 10.34it/s]\n"
     ]
    },
    {
     "name": "stdout",
     "output_type": "stream",
     "text": [
      "Time for [prediction]: 0:01:08.849013\n",
      "Confusion Matrix:\n",
      "[[8739 2653]\n",
      " [2141 9251]]\n",
      "\n",
      "CM: [8739 2653 2141 9251] \n",
      "[tn, fp, fn, tp]\n",
      "  accuracy: 0.790\n",
      " precision: 0.790\n",
      "    recall: 0.790\n",
      "  f1-score: 0.789\n",
      "\n",
      "Accuracy:  0.79 \n",
      "\n",
      "Report for [BERTClassifier - yelp_3_food_pro128BCE - Food-->Automotive]:\n",
      "              precision    recall  f1-score   support\n",
      "\n",
      "           0       0.80      0.77      0.78     11392\n",
      "           1       0.78      0.81      0.79     11392\n",
      "\n",
      "    accuracy                           0.79     22784\n",
      "   macro avg       0.79      0.79      0.79     22784\n",
      "weighted avg       0.79      0.79      0.79     22784\n",
      "\n"
     ]
    },
    {
     "data": {
      "image/png": "[encoded data removed]",
      "text/plain": [
       "<Figure size 432x288 with 1 Axes>"
      ]
     },
     "metadata": {},
     "output_type": "display_data"
    },
    {
     "name": "stdout",
     "output_type": "stream",
     "text": [
      "Work on Beauty & Spas ...\n"
     ]
    },
    {
     "name": "stderr",
     "output_type": "stream",
     "text": [
      "100%|██████████| 4991/4991 [00:10<00:00, 487.40it/s]\n",
      "  0%|          | 0/4991 [00:00<?, ?it/s]"
     ]
    },
    {
     "name": "stdout",
     "output_type": "stream",
     "text": [
      "#ss (pos) 9982\n",
      "#ss (neg) 9982\n"
     ]
    },
    {
     "name": "stderr",
     "output_type": "stream",
     "text": [
      "100%|██████████| 4991/4991 [00:10<00:00, 493.88it/s]\n"
     ]
    },
    {
     "name": "stdout",
     "output_type": "stream",
     "text": [
      "#nss 19964\n",
      "#~ss 39928\n",
      "review pairs: 39928\n"
     ]
    },
    {
     "name": "stderr",
     "output_type": "stream",
     "text": [
      "  0%|          | 1/1248 [00:00<02:33,  8.11it/s]"
     ]
    },
    {
     "name": "stdout",
     "output_type": "stream",
     "text": [
      "Start on [prediction] ...\n"
     ]
    },
    {
     "name": "stderr",
     "output_type": "stream",
     "text": [
      "100%|██████████| 1248/1248 [01:59<00:00, 10.43it/s]\n"
     ]
    },
    {
     "name": "stdout",
     "output_type": "stream",
     "text": [
      "Time for [prediction]: 0:01:59.627793\n",
      "Confusion Matrix:\n",
      "[[16119  3845]\n",
      " [ 3465 16499]]\n",
      "\n",
      "CM: [16119  3845  3465 16499] \n",
      "[tn, fp, fn, tp]\n",
      "  accuracy: 0.817\n",
      " precision: 0.817\n",
      "    recall: 0.817\n",
      "  f1-score: 0.817\n",
      "\n",
      "Accuracy:  0.817 \n",
      "\n",
      "Report for [BERTClassifier - yelp_3_food_pro128BCE - Food-->Beauty & Spas]:\n",
      "              precision    recall  f1-score   support\n",
      "\n",
      "           0       0.82      0.81      0.82     19964\n",
      "           1       0.81      0.83      0.82     19964\n",
      "\n",
      "    accuracy                           0.82     39928\n",
      "   macro avg       0.82      0.82      0.82     39928\n",
      "weighted avg       0.82      0.82      0.82     39928\n",
      "\n"
     ]
    },
    {
     "data": {
      "image/png": "[encoded data removed]",
      "text/plain": [
       "<Figure size 432x288 with 1 Axes>"
      ]
     },
     "metadata": {},
     "output_type": "display_data"
    },
    {
     "name": "stderr",
     "output_type": "stream",
     "text": [
      "100%|██████████| 1/1 [00:00<00:00, 345.75it/s]\n",
      "100%|██████████| 1/1 [00:00<00:00, 361.70it/s]\n",
      "100%|██████████| 1/1 [00:00<00:00, 30.55it/s]"
     ]
    },
    {
     "name": "stdout",
     "output_type": "stream",
     "text": [
      "Work on Bicycles ...\n",
      "#ss (pos) 2\n",
      "#ss (neg) 2\n",
      "#nss 4\n",
      "#~ss 8\n",
      "review pairs: 8\n",
      "Start on [prediction] ...\n",
      "Time for [prediction]: 0:00:00.034123\n",
      "Confusion Matrix:\n",
      "[[2 2]\n",
      " [2 2]]\n",
      "\n",
      "CM: [2 2 2 2] \n",
      "[tn, fp, fn, tp]\n",
      "  accuracy: 0.500\n",
      " precision: 0.500\n",
      "    recall: 0.500\n",
      "  f1-score: 0.500\n",
      "\n",
      "Accuracy:  0.5 \n",
      "\n",
      "Report for [BERTClassifier - yelp_3_food_pro128BCE - Food-->Bicycles]:\n",
      "              precision    recall  f1-score   support\n",
      "\n",
      "           0       0.50      0.50      0.50         4\n",
      "           1       0.50      0.50      0.50         4\n",
      "\n",
      "    accuracy                           0.50         8\n",
      "   macro avg       0.50      0.50      0.50         8\n",
      "weighted avg       0.50      0.50      0.50         8\n",
      "\n"
     ]
    },
    {
     "name": "stderr",
     "output_type": "stream",
     "text": [
      "\n"
     ]
    },
    {
     "data": {
      "image/png": "[encoded data removed]",
      "text/plain": [
       "<Figure size 432x288 with 1 Axes>"
      ]
     },
     "metadata": {},
     "output_type": "display_data"
    },
    {
     "name": "stdout",
     "output_type": "stream",
     "text": [
      "Work on Education ...\n"
     ]
    },
    {
     "name": "stderr",
     "output_type": "stream",
     "text": [
      "100%|██████████| 438/438 [00:00<00:00, 474.25it/s]\n",
      " 11%|█         | 48/438 [00:00<00:00, 472.66it/s]"
     ]
    },
    {
     "name": "stdout",
     "output_type": "stream",
     "text": [
      "#ss (pos) 876\n",
      "#ss (neg) 876\n"
     ]
    },
    {
     "name": "stderr",
     "output_type": "stream",
     "text": [
      "100%|██████████| 438/438 [00:00<00:00, 482.95it/s]\n"
     ]
    },
    {
     "name": "stdout",
     "output_type": "stream",
     "text": [
      "#nss 1752\n",
      "#~ss 3504\n",
      "review pairs: 3504\n"
     ]
    },
    {
     "name": "stderr",
     "output_type": "stream",
     "text": [
      "  1%|          | 1/110 [00:00<00:12,  8.91it/s]"
     ]
    },
    {
     "name": "stdout",
     "output_type": "stream",
     "text": [
      "Start on [prediction] ...\n"
     ]
    },
    {
     "name": "stderr",
     "output_type": "stream",
     "text": [
      "100%|██████████| 110/110 [00:11<00:00,  9.95it/s]"
     ]
    },
    {
     "name": "stdout",
     "output_type": "stream",
     "text": [
      "Time for [prediction]: 0:00:11.058579\n",
      "Confusion Matrix:\n",
      "[[1304  448]\n",
      " [ 392 1360]]\n",
      "\n",
      "CM: [1304  448  392 1360] \n",
      "[tn, fp, fn, tp]\n",
      "  accuracy: 0.760\n",
      " precision: 0.761\n",
      "    recall: 0.760\n",
      "  f1-score: 0.760\n",
      "\n",
      "Accuracy:  0.76 \n",
      "\n",
      "Report for [BERTClassifier - yelp_3_food_pro128BCE - Food-->Education]:\n",
      "              precision    recall  f1-score   support\n",
      "\n",
      "           0       0.77      0.74      0.76      1752\n",
      "           1       0.75      0.78      0.76      1752\n",
      "\n",
      "    accuracy                           0.76      3504\n",
      "   macro avg       0.76      0.76      0.76      3504\n",
      "weighted avg       0.76      0.76      0.76      3504\n",
      "\n"
     ]
    },
    {
     "name": "stderr",
     "output_type": "stream",
     "text": [
      "\n"
     ]
    },
    {
     "data": {
      "image/png": "[encoded data removed]",
      "text/plain": [
       "<Figure size 432x288 with 1 Axes>"
      ]
     },
     "metadata": {},
     "output_type": "display_data"
    },
    {
     "name": "stdout",
     "output_type": "stream",
     "text": [
      "Work on Event Planning & Services ...\n"
     ]
    },
    {
     "name": "stderr",
     "output_type": "stream",
     "text": [
      "100%|██████████| 3706/3706 [00:07<00:00, 480.51it/s]\n",
      "  0%|          | 0/3706 [00:00<?, ?it/s]"
     ]
    },
    {
     "name": "stdout",
     "output_type": "stream",
     "text": [
      "#ss (pos) 7412\n",
      "#ss (neg) 7412\n"
     ]
    },
    {
     "name": "stderr",
     "output_type": "stream",
     "text": [
      "100%|██████████| 3706/3706 [00:07<00:00, 486.13it/s]\n"
     ]
    },
    {
     "name": "stdout",
     "output_type": "stream",
     "text": [
      "#nss 14824\n",
      "#~ss 29648\n",
      "review pairs: 29648\n"
     ]
    },
    {
     "name": "stderr",
     "output_type": "stream",
     "text": [
      "  0%|          | 1/927 [00:00<01:56,  7.98it/s]"
     ]
    },
    {
     "name": "stdout",
     "output_type": "stream",
     "text": [
      "Start on [prediction] ...\n"
     ]
    },
    {
     "name": "stderr",
     "output_type": "stream",
     "text": [
      "100%|██████████| 927/927 [01:30<00:00, 10.27it/s]\n"
     ]
    },
    {
     "name": "stdout",
     "output_type": "stream",
     "text": [
      "Time for [prediction]: 0:01:30.250651\n",
      "Confusion Matrix:\n",
      "[[11330  3494]\n",
      " [ 3973 10851]]\n",
      "\n",
      "CM: [11330  3494  3973 10851] \n",
      "[tn, fp, fn, tp]\n",
      "  accuracy: 0.748\n",
      " precision: 0.748\n",
      "    recall: 0.748\n",
      "  f1-score: 0.748\n",
      "\n",
      "Accuracy:  0.748 \n",
      "\n",
      "Report for [BERTClassifier - yelp_3_food_pro128BCE - Food-->Event Planning & Services]:\n",
      "              precision    recall  f1-score   support\n",
      "\n",
      "           0       0.74      0.76      0.75     14824\n",
      "           1       0.76      0.73      0.74     14824\n",
      "\n",
      "    accuracy                           0.75     29648\n",
      "   macro avg       0.75      0.75      0.75     29648\n",
      "weighted avg       0.75      0.75      0.75     29648\n",
      "\n"
     ]
    },
    {
     "data": {
      "image/png": "[encoded data removed]",
      "text/plain": [
       "<Figure size 432x288 with 1 Axes>"
      ]
     },
     "metadata": {},
     "output_type": "display_data"
    },
    {
     "name": "stderr",
     "output_type": "stream",
     "text": [
      "  0%|          | 0/296 [00:00<?, ?it/s]"
     ]
    },
    {
     "name": "stdout",
     "output_type": "stream",
     "text": [
      "Work on Financial Services ...\n"
     ]
    },
    {
     "name": "stderr",
     "output_type": "stream",
     "text": [
      "100%|██████████| 296/296 [00:00<00:00, 475.88it/s]\n",
      " 17%|█▋        | 49/296 [00:00<00:00, 480.92it/s]"
     ]
    },
    {
     "name": "stdout",
     "output_type": "stream",
     "text": [
      "#ss (pos) 592\n",
      "#ss (neg) 592\n"
     ]
    },
    {
     "name": "stderr",
     "output_type": "stream",
     "text": [
      "100%|██████████| 296/296 [00:00<00:00, 483.44it/s]\n",
      "  0%|          | 0/74 [00:00<?, ?it/s]"
     ]
    },
    {
     "name": "stdout",
     "output_type": "stream",
     "text": [
      "#nss 1184\n",
      "#~ss 2368\n",
      "review pairs: 2368\n",
      "Start on [prediction] ...\n"
     ]
    },
    {
     "name": "stderr",
     "output_type": "stream",
     "text": [
      "100%|██████████| 74/74 [00:07<00:00, 10.51it/s]\n"
     ]
    },
    {
     "name": "stdout",
     "output_type": "stream",
     "text": [
      "Time for [prediction]: 0:00:07.041808\n",
      "Confusion Matrix:\n",
      "[[943 241]\n",
      " [213 971]]\n",
      "\n",
      "CM: [943 241 213 971] \n",
      "[tn, fp, fn, tp]\n",
      "  accuracy: 0.808\n",
      " precision: 0.808\n",
      "    recall: 0.808\n",
      "  f1-score: 0.808\n",
      "\n",
      "Accuracy:  0.808 \n",
      "\n",
      "Report for [BERTClassifier - yelp_3_food_pro128BCE - Food-->Financial Services]:\n",
      "              precision    recall  f1-score   support\n",
      "\n",
      "           0       0.82      0.80      0.81      1184\n",
      "           1       0.80      0.82      0.81      1184\n",
      "\n",
      "    accuracy                           0.81      2368\n",
      "   macro avg       0.81      0.81      0.81      2368\n",
      "weighted avg       0.81      0.81      0.81      2368\n",
      "\n"
     ]
    },
    {
     "data": {
      "image/png": "[encoded data removed]",
      "text/plain": [
       "<Figure size 432x288 with 1 Axes>"
      ]
     },
     "metadata": {},
     "output_type": "display_data"
    },
    {
     "name": "stdout",
     "output_type": "stream",
     "text": [
      "Work on Health & Medical ...\n"
     ]
    },
    {
     "name": "stderr",
     "output_type": "stream",
     "text": [
      "100%|██████████| 3180/3180 [00:06<00:00, 492.70it/s]\n",
      "  1%|▏         | 40/3180 [00:00<00:07, 394.09it/s]"
     ]
    },
    {
     "name": "stdout",
     "output_type": "stream",
     "text": [
      "#ss (pos) 6360\n",
      "#ss (neg) 6360\n"
     ]
    },
    {
     "name": "stderr",
     "output_type": "stream",
     "text": [
      "100%|██████████| 3180/3180 [00:06<00:00, 497.65it/s]\n"
     ]
    },
    {
     "name": "stdout",
     "output_type": "stream",
     "text": [
      "#nss 12720\n",
      "#~ss 25440\n",
      "review pairs: 25440\n"
     ]
    },
    {
     "name": "stderr",
     "output_type": "stream",
     "text": [
      "  0%|          | 1/795 [00:00<01:30,  8.78it/s]"
     ]
    },
    {
     "name": "stdout",
     "output_type": "stream",
     "text": [
      "Start on [prediction] ...\n"
     ]
    },
    {
     "name": "stderr",
     "output_type": "stream",
     "text": [
      "100%|██████████| 795/795 [01:17<00:00, 10.22it/s]\n"
     ]
    },
    {
     "name": "stdout",
     "output_type": "stream",
     "text": [
      "Time for [prediction]: 0:01:17.811201\n",
      "Confusion Matrix:\n",
      "[[ 9999  2721]\n",
      " [ 2102 10618]]\n",
      "\n",
      "CM: [ 9999  2721  2102 10618] \n",
      "[tn, fp, fn, tp]\n",
      "  accuracy: 0.810\n",
      " precision: 0.811\n",
      "    recall: 0.810\n",
      "  f1-score: 0.810\n",
      "\n",
      "Accuracy:  0.81 \n",
      "\n",
      "Report for [BERTClassifier - yelp_3_food_pro128BCE - Food-->Health & Medical]:\n",
      "              precision    recall  f1-score   support\n",
      "\n",
      "           0       0.83      0.79      0.81     12720\n",
      "           1       0.80      0.83      0.81     12720\n",
      "\n",
      "    accuracy                           0.81     25440\n",
      "   macro avg       0.81      0.81      0.81     25440\n",
      "weighted avg       0.81      0.81      0.81     25440\n",
      "\n"
     ]
    },
    {
     "data": {
      "image/png": "[encoded data removed]",
      "text/plain": [
       "<Figure size 432x288 with 1 Axes>"
      ]
     },
     "metadata": {},
     "output_type": "display_data"
    },
    {
     "name": "stdout",
     "output_type": "stream",
     "text": [
      "Work on Home Services ...\n"
     ]
    },
    {
     "name": "stderr",
     "output_type": "stream",
     "text": [
      "100%|██████████| 3093/3093 [00:06<00:00, 487.30it/s]\n",
      "  1%|          | 38/3093 [00:00<00:08, 375.21it/s]"
     ]
    },
    {
     "name": "stdout",
     "output_type": "stream",
     "text": [
      "#ss (pos) 6186\n",
      "#ss (neg) 6186\n"
     ]
    },
    {
     "name": "stderr",
     "output_type": "stream",
     "text": [
      "100%|██████████| 3093/3093 [00:06<00:00, 493.48it/s]\n"
     ]
    },
    {
     "name": "stdout",
     "output_type": "stream",
     "text": [
      "#nss 12372\n",
      "#~ss 24744\n",
      "review pairs: 24744\n"
     ]
    },
    {
     "name": "stderr",
     "output_type": "stream",
     "text": [
      "  0%|          | 1/774 [00:00<01:34,  8.18it/s]"
     ]
    },
    {
     "name": "stdout",
     "output_type": "stream",
     "text": [
      "Start on [prediction] ...\n"
     ]
    },
    {
     "name": "stderr",
     "output_type": "stream",
     "text": [
      "100%|██████████| 774/774 [01:16<00:00, 10.09it/s]\n"
     ]
    },
    {
     "name": "stdout",
     "output_type": "stream",
     "text": [
      "Time for [prediction]: 0:01:16.742336\n",
      "Confusion Matrix:\n",
      "[[ 9491  2881]\n",
      " [ 2220 10152]]\n",
      "\n",
      "CM: [ 9491  2881  2220 10152] \n",
      "[tn, fp, fn, tp]\n",
      "  accuracy: 0.794\n",
      " precision: 0.795\n",
      "    recall: 0.794\n",
      "  f1-score: 0.794\n",
      "\n",
      "Accuracy:  0.794 \n",
      "\n",
      "Report for [BERTClassifier - yelp_3_food_pro128BCE - Food-->Home Services]:\n",
      "              precision    recall  f1-score   support\n",
      "\n",
      "           0       0.81      0.77      0.79     12372\n",
      "           1       0.78      0.82      0.80     12372\n",
      "\n",
      "    accuracy                           0.79     24744\n",
      "   macro avg       0.79      0.79      0.79     24744\n",
      "weighted avg       0.79      0.79      0.79     24744\n",
      "\n"
     ]
    },
    {
     "data": {
      "image/png": "[encoded data removed]",
      "text/plain": [
       "<Figure size 432x288 with 1 Axes>"
      ]
     },
     "metadata": {},
     "output_type": "display_data"
    },
    {
     "name": "stdout",
     "output_type": "stream",
     "text": [
      "Work on Hotels & Travel ...\n"
     ]
    },
    {
     "name": "stderr",
     "output_type": "stream",
     "text": [
      "100%|██████████| 2223/2223 [00:04<00:00, 480.47it/s]\n",
      "  1%|          | 19/2223 [00:00<00:11, 188.56it/s]"
     ]
    },
    {
     "name": "stdout",
     "output_type": "stream",
     "text": [
      "#ss (pos) 4446\n",
      "#ss (neg) 4446\n"
     ]
    },
    {
     "name": "stderr",
     "output_type": "stream",
     "text": [
      "100%|██████████| 2223/2223 [00:04<00:00, 485.45it/s]\n"
     ]
    },
    {
     "name": "stdout",
     "output_type": "stream",
     "text": [
      "#nss 8892\n",
      "#~ss 17784\n",
      "review pairs: 17784\n"
     ]
    },
    {
     "name": "stderr",
     "output_type": "stream",
     "text": [
      "  0%|          | 1/556 [00:00<01:01,  9.00it/s]"
     ]
    },
    {
     "name": "stdout",
     "output_type": "stream",
     "text": [
      "Start on [prediction] ...\n"
     ]
    },
    {
     "name": "stderr",
     "output_type": "stream",
     "text": [
      "100%|██████████| 556/556 [00:54<00:00, 10.14it/s]\n"
     ]
    },
    {
     "name": "stdout",
     "output_type": "stream",
     "text": [
      "Time for [prediction]: 0:00:54.837513\n",
      "Confusion Matrix:\n",
      "[[6575 2317]\n",
      " [2277 6615]]\n",
      "\n",
      "CM: [6575 2317 2277 6615] \n",
      "[tn, fp, fn, tp]\n",
      "  accuracy: 0.742\n",
      " precision: 0.742\n",
      "    recall: 0.742\n",
      "  f1-score: 0.742\n",
      "\n",
      "Accuracy:  0.742 \n",
      "\n",
      "Report for [BERTClassifier - yelp_3_food_pro128BCE - Food-->Hotels & Travel]:\n",
      "              precision    recall  f1-score   support\n",
      "\n",
      "           0       0.74      0.74      0.74      8892\n",
      "           1       0.74      0.74      0.74      8892\n",
      "\n",
      "    accuracy                           0.74     17784\n",
      "   macro avg       0.74      0.74      0.74     17784\n",
      "weighted avg       0.74      0.74      0.74     17784\n",
      "\n"
     ]
    },
    {
     "data": {
      "image/png": "[encoded data removed]",
      "text/plain": [
       "<Figure size 432x288 with 1 Axes>"
      ]
     },
     "metadata": {},
     "output_type": "display_data"
    },
    {
     "name": "stdout",
     "output_type": "stream",
     "text": [
      "Work on Local Flavor ...\n"
     ]
    },
    {
     "name": "stderr",
     "output_type": "stream",
     "text": [
      "100%|██████████| 508/508 [00:01<00:00, 472.11it/s]\n",
      "  8%|▊         | 43/508 [00:00<00:01, 427.04it/s]"
     ]
    },
    {
     "name": "stdout",
     "output_type": "stream",
     "text": [
      "#ss (pos) 1016\n",
      "#ss (neg) 1016\n"
     ]
    },
    {
     "name": "stderr",
     "output_type": "stream",
     "text": [
      "100%|██████████| 508/508 [00:01<00:00, 478.46it/s]\n"
     ]
    },
    {
     "name": "stdout",
     "output_type": "stream",
     "text": [
      "#nss 2032\n",
      "#~ss 4064\n",
      "review pairs: 4064\n"
     ]
    },
    {
     "name": "stderr",
     "output_type": "stream",
     "text": [
      "  1%|          | 1/127 [00:00<00:13,  9.05it/s]"
     ]
    },
    {
     "name": "stdout",
     "output_type": "stream",
     "text": [
      "Start on [prediction] ...\n"
     ]
    },
    {
     "name": "stderr",
     "output_type": "stream",
     "text": [
      "100%|██████████| 127/127 [00:12<00:00, 10.24it/s]\n"
     ]
    },
    {
     "name": "stdout",
     "output_type": "stream",
     "text": [
      "Time for [prediction]: 0:00:12.401679\n",
      "Confusion Matrix:\n",
      "[[1461  571]\n",
      " [ 560 1472]]\n",
      "\n",
      "CM: [1461  571  560 1472] \n",
      "[tn, fp, fn, tp]\n",
      "  accuracy: 0.722\n",
      " precision: 0.722\n",
      "    recall: 0.722\n",
      "  f1-score: 0.722\n",
      "\n",
      "Accuracy:  0.722 \n",
      "\n",
      "Report for [BERTClassifier - yelp_3_food_pro128BCE - Food-->Local Flavor]:\n",
      "              precision    recall  f1-score   support\n",
      "\n",
      "           0       0.72      0.72      0.72      2032\n",
      "           1       0.72      0.72      0.72      2032\n",
      "\n",
      "    accuracy                           0.72      4064\n",
      "   macro avg       0.72      0.72      0.72      4064\n",
      "weighted avg       0.72      0.72      0.72      4064\n",
      "\n"
     ]
    },
    {
     "data": {
      "image/png": "[encoded data removed]",
      "text/plain": [
       "<Figure size 432x288 with 1 Axes>"
      ]
     },
     "metadata": {},
     "output_type": "display_data"
    },
    {
     "name": "stdout",
     "output_type": "stream",
     "text": [
      "Work on Local Services ...\n"
     ]
    },
    {
     "name": "stderr",
     "output_type": "stream",
     "text": [
      "100%|██████████| 2331/2331 [00:04<00:00, 477.31it/s]\n",
      "  2%|▏         | 42/2331 [00:00<00:05, 412.71it/s]"
     ]
    },
    {
     "name": "stdout",
     "output_type": "stream",
     "text": [
      "#ss (pos) 4662\n",
      "#ss (neg) 4662\n"
     ]
    },
    {
     "name": "stderr",
     "output_type": "stream",
     "text": [
      "100%|██████████| 2331/2331 [00:04<00:00, 481.51it/s]\n"
     ]
    },
    {
     "name": "stdout",
     "output_type": "stream",
     "text": [
      "#nss 9324\n",
      "#~ss 18648\n",
      "review pairs: 18648\n"
     ]
    },
    {
     "name": "stderr",
     "output_type": "stream",
     "text": [
      "  0%|          | 1/583 [00:00<01:01,  9.42it/s]"
     ]
    },
    {
     "name": "stdout",
     "output_type": "stream",
     "text": [
      "Start on [prediction] ...\n"
     ]
    },
    {
     "name": "stderr",
     "output_type": "stream",
     "text": [
      "100%|██████████| 583/583 [00:56<00:00, 10.39it/s]\n"
     ]
    },
    {
     "name": "stdout",
     "output_type": "stream",
     "text": [
      "Time for [prediction]: 0:00:56.091265\n",
      "Confusion Matrix:\n",
      "[[7179 2145]\n",
      " [1726 7598]]\n",
      "\n",
      "CM: [7179 2145 1726 7598] \n",
      "[tn, fp, fn, tp]\n",
      "  accuracy: 0.792\n",
      " precision: 0.793\n",
      "    recall: 0.792\n",
      "  f1-score: 0.792\n",
      "\n",
      "Accuracy:  0.792 \n",
      "\n",
      "Report for [BERTClassifier - yelp_3_food_pro128BCE - Food-->Local Services]:\n",
      "              precision    recall  f1-score   support\n",
      "\n",
      "           0       0.81      0.77      0.79      9324\n",
      "           1       0.78      0.81      0.80      9324\n",
      "\n",
      "    accuracy                           0.79     18648\n",
      "   macro avg       0.79      0.79      0.79     18648\n",
      "weighted avg       0.79      0.79      0.79     18648\n",
      "\n"
     ]
    },
    {
     "data": {
      "image/png": "[encoded data removed]",
      "text/plain": [
       "<Figure size 432x288 with 1 Axes>"
      ]
     },
     "metadata": {},
     "output_type": "display_data"
    },
    {
     "name": "stderr",
     "output_type": "stream",
     "text": [
      "100%|██████████| 35/35 [00:00<00:00, 499.64it/s]\n",
      "100%|██████████| 35/35 [00:00<00:00, 505.12it/s]\n",
      "  0%|          | 0/9 [00:00<?, ?it/s]"
     ]
    },
    {
     "name": "stdout",
     "output_type": "stream",
     "text": [
      "Work on Mass Media ...\n",
      "#ss (pos) 70\n",
      "#ss (neg) 70\n",
      "#nss 140\n",
      "#~ss 280\n",
      "review pairs: 280\n",
      "Start on [prediction] ...\n"
     ]
    },
    {
     "name": "stderr",
     "output_type": "stream",
     "text": [
      "100%|██████████| 9/9 [00:00<00:00, 10.63it/s]"
     ]
    },
    {
     "name": "stdout",
     "output_type": "stream",
     "text": [
      "Time for [prediction]: 0:00:00.847902\n",
      "Confusion Matrix:\n",
      "[[100  40]\n",
      " [ 32 108]]\n",
      "\n",
      "CM: [100  40  32 108] \n",
      "[tn, fp, fn, tp]\n",
      "  accuracy: 0.743\n",
      " precision: 0.744\n",
      "    recall: 0.743\n",
      "  f1-score: 0.743\n",
      "\n",
      "Accuracy:  0.743 \n",
      "\n",
      "Report for [BERTClassifier - yelp_3_food_pro128BCE - Food-->Mass Media]:\n",
      "              precision    recall  f1-score   support\n",
      "\n",
      "           0       0.76      0.71      0.74       140\n",
      "           1       0.73      0.77      0.75       140\n",
      "\n",
      "    accuracy                           0.74       280\n",
      "   macro avg       0.74      0.74      0.74       280\n",
      "weighted avg       0.74      0.74      0.74       280\n",
      "\n"
     ]
    },
    {
     "name": "stderr",
     "output_type": "stream",
     "text": [
      "\n"
     ]
    },
    {
     "data": {
      "image/png": "[encoded data removed]",
      "text/plain": [
       "<Figure size 432x288 with 1 Axes>"
      ]
     },
     "metadata": {},
     "output_type": "display_data"
    },
    {
     "name": "stdout",
     "output_type": "stream",
     "text": [
      "Work on Nightlife ...\n"
     ]
    },
    {
     "name": "stderr",
     "output_type": "stream",
     "text": [
      "100%|██████████| 8157/8157 [00:17<00:00, 475.70it/s]\n"
     ]
    },
    {
     "name": "stdout",
     "output_type": "stream",
     "text": [
      "#ss (pos) 16314\n",
      "#ss (neg) 16314\n"
     ]
    },
    {
     "name": "stderr",
     "output_type": "stream",
     "text": [
      "100%|██████████| 8157/8157 [00:17<00:00, 473.92it/s]\n"
     ]
    },
    {
     "name": "stdout",
     "output_type": "stream",
     "text": [
      "#nss 32628\n",
      "#~ss 65256\n",
      "review pairs: 65256\n"
     ]
    },
    {
     "name": "stderr",
     "output_type": "stream",
     "text": [
      "  0%|          | 1/2040 [00:00<04:21,  7.79it/s]"
     ]
    },
    {
     "name": "stdout",
     "output_type": "stream",
     "text": [
      "Start on [prediction] ...\n"
     ]
    },
    {
     "name": "stderr",
     "output_type": "stream",
     "text": [
      "100%|██████████| 2040/2040 [03:15<00:00, 10.45it/s]\n"
     ]
    },
    {
     "name": "stdout",
     "output_type": "stream",
     "text": [
      "Time for [prediction]: 0:03:15.203412\n",
      "Confusion Matrix:\n",
      "[[24520  8108]\n",
      " [ 9281 23347]]\n",
      "\n",
      "CM: [24520  8108  9281 23347] \n",
      "[tn, fp, fn, tp]\n",
      "  accuracy: 0.734\n",
      " precision: 0.734\n",
      "    recall: 0.734\n",
      "  f1-score: 0.733\n",
      "\n",
      "Accuracy:  0.734 \n",
      "\n",
      "Report for [BERTClassifier - yelp_3_food_pro128BCE - Food-->Nightlife]:\n",
      "              precision    recall  f1-score   support\n",
      "\n",
      "           0       0.73      0.75      0.74     32628\n",
      "           1       0.74      0.72      0.73     32628\n",
      "\n",
      "    accuracy                           0.73     65256\n",
      "   macro avg       0.73      0.73      0.73     65256\n",
      "weighted avg       0.73      0.73      0.73     65256\n",
      "\n"
     ]
    },
    {
     "data": {
      "image/png": "[encoded data removed]",
      "text/plain": [
       "<Figure size 432x288 with 1 Axes>"
      ]
     },
     "metadata": {},
     "output_type": "display_data"
    },
    {
     "name": "stderr",
     "output_type": "stream",
     "text": [
      "  0%|          | 0/998 [00:00<?, ?it/s]"
     ]
    },
    {
     "name": "stdout",
     "output_type": "stream",
     "text": [
      "Work on Pets ...\n"
     ]
    },
    {
     "name": "stderr",
     "output_type": "stream",
     "text": [
      "100%|██████████| 998/998 [00:02<00:00, 476.42it/s]\n",
      "  5%|▍         | 46/998 [00:00<00:02, 458.80it/s]"
     ]
    },
    {
     "name": "stdout",
     "output_type": "stream",
     "text": [
      "#ss (pos) 1996\n",
      "#ss (neg) 1996\n"
     ]
    },
    {
     "name": "stderr",
     "output_type": "stream",
     "text": [
      "100%|██████████| 998/998 [00:02<00:00, 484.95it/s]\n"
     ]
    },
    {
     "name": "stdout",
     "output_type": "stream",
     "text": [
      "#nss 3992\n",
      "#~ss 7984\n",
      "review pairs: 7984\n"
     ]
    },
    {
     "name": "stderr",
     "output_type": "stream",
     "text": [
      "  0%|          | 1/250 [00:00<00:30,  8.05it/s]"
     ]
    },
    {
     "name": "stdout",
     "output_type": "stream",
     "text": [
      "Start on [prediction] ...\n"
     ]
    },
    {
     "name": "stderr",
     "output_type": "stream",
     "text": [
      "100%|██████████| 250/250 [00:24<00:00, 10.05it/s]"
     ]
    },
    {
     "name": "stdout",
     "output_type": "stream",
     "text": [
      "Time for [prediction]: 0:00:24.887870\n",
      "Confusion Matrix:\n",
      "[[3110  882]\n",
      " [ 806 3186]]\n",
      "\n",
      "CM: [3110  882  806 3186] \n",
      "[tn, fp, fn, tp]\n",
      "  accuracy: 0.789\n",
      " precision: 0.789\n",
      "    recall: 0.789\n",
      "  f1-score: 0.789\n",
      "\n",
      "Accuracy:  0.789 \n",
      "\n",
      "Report for [BERTClassifier - yelp_3_food_pro128BCE - Food-->Pets]:\n",
      "              precision    recall  f1-score   support\n",
      "\n",
      "           0       0.79      0.78      0.79      3992\n",
      "           1       0.78      0.80      0.79      3992\n",
      "\n",
      "    accuracy                           0.79      7984\n",
      "   macro avg       0.79      0.79      0.79      7984\n",
      "weighted avg       0.79      0.79      0.79      7984\n",
      "\n"
     ]
    },
    {
     "name": "stderr",
     "output_type": "stream",
     "text": [
      "\n"
     ]
    },
    {
     "data": {
      "image/png": "[encoded data removed]",
      "text/plain": [
       "<Figure size 432x288 with 1 Axes>"
      ]
     },
     "metadata": {},
     "output_type": "display_data"
    },
    {
     "name": "stdout",
     "output_type": "stream",
     "text": [
      "Work on Professional Services ...\n"
     ]
    },
    {
     "name": "stderr",
     "output_type": "stream",
     "text": [
      "100%|██████████| 705/705 [00:01<00:00, 488.71it/s]\n",
      "  7%|▋         | 47/705 [00:00<00:01, 465.74it/s]"
     ]
    },
    {
     "name": "stdout",
     "output_type": "stream",
     "text": [
      "#ss (pos) 1410\n",
      "#ss (neg) 1410\n"
     ]
    },
    {
     "name": "stderr",
     "output_type": "stream",
     "text": [
      "100%|██████████| 705/705 [00:01<00:00, 493.56it/s]\n"
     ]
    },
    {
     "name": "stdout",
     "output_type": "stream",
     "text": [
      "#nss 2820\n",
      "#~ss 5640\n",
      "review pairs: 5640\n"
     ]
    },
    {
     "name": "stderr",
     "output_type": "stream",
     "text": [
      "  1%|          | 1/177 [00:00<00:19,  9.13it/s]"
     ]
    },
    {
     "name": "stdout",
     "output_type": "stream",
     "text": [
      "Start on [prediction] ...\n"
     ]
    },
    {
     "name": "stderr",
     "output_type": "stream",
     "text": [
      "100%|██████████| 177/177 [00:17<00:00, 10.40it/s]"
     ]
    },
    {
     "name": "stdout",
     "output_type": "stream",
     "text": [
      "Time for [prediction]: 0:00:17.014815\n",
      "Confusion Matrix:\n",
      "[[2191  629]\n",
      " [ 484 2336]]\n",
      "\n",
      "CM: [2191  629  484 2336] \n",
      "[tn, fp, fn, tp]\n",
      "  accuracy: 0.803\n",
      " precision: 0.803\n",
      "    recall: 0.803\n",
      "  f1-score: 0.803\n",
      "\n",
      "Accuracy:  0.803 \n",
      "\n",
      "Report for [BERTClassifier - yelp_3_food_pro128BCE - Food-->Professional Services]:\n",
      "              precision    recall  f1-score   support\n",
      "\n",
      "           0       0.82      0.78      0.80      2820\n",
      "           1       0.79      0.83      0.81      2820\n",
      "\n",
      "    accuracy                           0.80      5640\n",
      "   macro avg       0.80      0.80      0.80      5640\n",
      "weighted avg       0.80      0.80      0.80      5640\n",
      "\n"
     ]
    },
    {
     "name": "stderr",
     "output_type": "stream",
     "text": [
      "\n"
     ]
    },
    {
     "data": {
      "image/png": "[encoded data removed]",
      "text/plain": [
       "<Figure size 432x288 with 1 Axes>"
      ]
     },
     "metadata": {},
     "output_type": "display_data"
    },
    {
     "name": "stderr",
     "output_type": "stream",
     "text": [
      "  0%|          | 0/290 [00:00<?, ?it/s]"
     ]
    },
    {
     "name": "stdout",
     "output_type": "stream",
     "text": [
      "Work on Public Services & Government ...\n"
     ]
    },
    {
     "name": "stderr",
     "output_type": "stream",
     "text": [
      "100%|██████████| 290/290 [00:00<00:00, 375.85it/s]\n",
      " 17%|█▋        | 49/290 [00:00<00:00, 481.13it/s]"
     ]
    },
    {
     "name": "stdout",
     "output_type": "stream",
     "text": [
      "#ss (pos) 580\n",
      "#ss (neg) 580\n"
     ]
    },
    {
     "name": "stderr",
     "output_type": "stream",
     "text": [
      "100%|██████████| 290/290 [00:00<00:00, 483.27it/s]\n",
      "  0%|          | 0/73 [00:00<?, ?it/s]"
     ]
    },
    {
     "name": "stdout",
     "output_type": "stream",
     "text": [
      "#nss 1160\n",
      "#~ss 2320\n",
      "review pairs: 2320\n",
      "Start on [prediction] ...\n"
     ]
    },
    {
     "name": "stderr",
     "output_type": "stream",
     "text": [
      "100%|██████████| 73/73 [00:06<00:00, 10.44it/s]"
     ]
    },
    {
     "name": "stdout",
     "output_type": "stream",
     "text": [
      "Time for [prediction]: 0:00:06.991740\n",
      "Confusion Matrix:\n",
      "[[787 373]\n",
      " [306 854]]\n",
      "\n",
      "CM: [787 373 306 854] \n",
      "[tn, fp, fn, tp]\n",
      "  accuracy: 0.707\n",
      " precision: 0.708\n",
      "    recall: 0.707\n",
      "  f1-score: 0.707\n",
      "\n",
      "Accuracy:  0.707 \n",
      "\n",
      "Report for [BERTClassifier - yelp_3_food_pro128BCE - Food-->Public Services & Government]:\n",
      "              precision    recall  f1-score   support\n",
      "\n",
      "           0       0.72      0.68      0.70      1160\n",
      "           1       0.70      0.74      0.72      1160\n",
      "\n",
      "    accuracy                           0.71      2320\n",
      "   macro avg       0.71      0.71      0.71      2320\n",
      "weighted avg       0.71      0.71      0.71      2320\n",
      "\n"
     ]
    },
    {
     "name": "stderr",
     "output_type": "stream",
     "text": [
      "\n"
     ]
    },
    {
     "data": {
      "image/png": "[encoded data removed]",
      "text/plain": [
       "<Figure size 432x288 with 1 Axes>"
      ]
     },
     "metadata": {},
     "output_type": "display_data"
    },
    {
     "name": "stderr",
     "output_type": "stream",
     "text": [
      "100%|██████████| 43/43 [00:00<00:00, 483.49it/s]\n"
     ]
    },
    {
     "name": "stdout",
     "output_type": "stream",
     "text": [
      "Work on Religious Organizations ...\n",
      "#ss (pos) 86\n",
      "#ss (neg) 86\n"
     ]
    },
    {
     "name": "stderr",
     "output_type": "stream",
     "text": [
      "100%|██████████| 43/43 [00:00<00:00, 496.50it/s]"
     ]
    },
    {
     "name": "stdout",
     "output_type": "stream",
     "text": [
      "#nss 172\n",
      "#~ss 344\n",
      "review pairs: 344\n"
     ]
    },
    {
     "name": "stderr",
     "output_type": "stream",
     "text": [
      "\n",
      "  0%|          | 0/11 [00:00<?, ?it/s]"
     ]
    },
    {
     "name": "stdout",
     "output_type": "stream",
     "text": [
      "Start on [prediction] ...\n"
     ]
    },
    {
     "name": "stderr",
     "output_type": "stream",
     "text": [
      "100%|██████████| 11/11 [00:01<00:00, 10.44it/s]"
     ]
    },
    {
     "name": "stdout",
     "output_type": "stream",
     "text": [
      "Time for [prediction]: 0:00:01.054416\n",
      "Confusion Matrix:\n",
      "[[117  55]\n",
      " [ 45 127]]\n",
      "\n",
      "CM: [117  55  45 127] \n",
      "[tn, fp, fn, tp]\n",
      "  accuracy: 0.709\n",
      " precision: 0.710\n",
      "    recall: 0.709\n",
      "  f1-score: 0.709\n",
      "\n",
      "Accuracy:  0.709 \n",
      "\n",
      "Report for [BERTClassifier - yelp_3_food_pro128BCE - Food-->Religious Organizations]:\n",
      "              precision    recall  f1-score   support\n",
      "\n",
      "           0       0.72      0.68      0.70       172\n",
      "           1       0.70      0.74      0.72       172\n",
      "\n",
      "    accuracy                           0.71       344\n",
      "   macro avg       0.71      0.71      0.71       344\n",
      "weighted avg       0.71      0.71      0.71       344\n",
      "\n"
     ]
    },
    {
     "name": "stderr",
     "output_type": "stream",
     "text": [
      "\n"
     ]
    },
    {
     "data": {
      "image/png": "[encoded data removed]",
      "text/plain": [
       "<Figure size 432x288 with 1 Axes>"
      ]
     },
     "metadata": {},
     "output_type": "display_data"
    },
    {
     "name": "stdout",
     "output_type": "stream",
     "text": [
      "Work on Restaurants ...\n"
     ]
    },
    {
     "name": "stderr",
     "output_type": "stream",
     "text": [
      "100%|██████████| 33354/33354 [01:13<00:00, 455.21it/s]\n"
     ]
    },
    {
     "name": "stdout",
     "output_type": "stream",
     "text": [
      "#ss (pos) 66708\n",
      "#ss (neg) 66708\n"
     ]
    },
    {
     "name": "stderr",
     "output_type": "stream",
     "text": [
      "100%|██████████| 33354/33354 [01:11<00:00, 466.89it/s]\n"
     ]
    },
    {
     "name": "stdout",
     "output_type": "stream",
     "text": [
      "#nss 133416\n",
      "#~ss 266832\n",
      "review pairs: 266832\n"
     ]
    },
    {
     "name": "stderr",
     "output_type": "stream",
     "text": [
      "  0%|          | 1/8339 [00:00<17:01,  8.16it/s]"
     ]
    },
    {
     "name": "stdout",
     "output_type": "stream",
     "text": [
      "Start on [prediction] ...\n"
     ]
    },
    {
     "name": "stderr",
     "output_type": "stream",
     "text": [
      "100%|██████████| 8339/8339 [13:10<00:00, 10.55it/s]\n"
     ]
    },
    {
     "name": "stdout",
     "output_type": "stream",
     "text": [
      "Time for [prediction]: 0:13:10.128088\n",
      "Confusion Matrix:\n",
      "[[102966  30450]\n",
      " [ 37017  96399]]\n",
      "\n",
      "CM: [102966  30450  37017  96399] \n",
      "[tn, fp, fn, tp]\n",
      "  accuracy: 0.747\n",
      " precision: 0.748\n",
      "    recall: 0.747\n",
      "  f1-score: 0.747\n",
      "\n",
      "Accuracy:  0.747 \n",
      "\n",
      "Report for [BERTClassifier - yelp_3_food_pro128BCE - Food-->Restaurants]:\n",
      "              precision    recall  f1-score   support\n",
      "\n",
      "           0       0.74      0.77      0.75    133416\n",
      "           1       0.76      0.72      0.74    133416\n",
      "\n",
      "    accuracy                           0.75    266832\n",
      "   macro avg       0.75      0.75      0.75    266832\n",
      "weighted avg       0.75      0.75      0.75    266832\n",
      "\n"
     ]
    },
    {
     "data": {
      "image/png": "[encoded data removed]",
      "text/plain": [
       "<Figure size 432x288 with 1 Axes>"
      ]
     },
     "metadata": {},
     "output_type": "display_data"
    },
    {
     "name": "stdout",
     "output_type": "stream",
     "text": [
      "Work on Shopping ...\n"
     ]
    },
    {
     "name": "stderr",
     "output_type": "stream",
     "text": [
      "100%|██████████| 6597/6597 [00:13<00:00, 476.89it/s]\n",
      "  0%|          | 0/6597 [00:00<?, ?it/s]"
     ]
    },
    {
     "name": "stdout",
     "output_type": "stream",
     "text": [
      "#ss (pos) 13194\n",
      "#ss (neg) 13194\n"
     ]
    },
    {
     "name": "stderr",
     "output_type": "stream",
     "text": [
      "100%|██████████| 6597/6597 [00:13<00:00, 482.85it/s]\n"
     ]
    },
    {
     "name": "stdout",
     "output_type": "stream",
     "text": [
      "#nss 26388\n",
      "#~ss 52776\n",
      "review pairs: 52776\n"
     ]
    },
    {
     "name": "stderr",
     "output_type": "stream",
     "text": [
      "  0%|          | 1/1650 [00:00<04:44,  5.80it/s]"
     ]
    },
    {
     "name": "stdout",
     "output_type": "stream",
     "text": [
      "Start on [prediction] ...\n"
     ]
    },
    {
     "name": "stderr",
     "output_type": "stream",
     "text": [
      "100%|██████████| 1650/1650 [02:38<00:00, 10.38it/s]\n"
     ]
    },
    {
     "name": "stdout",
     "output_type": "stream",
     "text": [
      "Time for [prediction]: 0:02:38.910807\n",
      "Confusion Matrix:\n",
      "[[19935  6453]\n",
      " [ 6217 20171]]\n",
      "\n",
      "CM: [19935  6453  6217 20171] \n",
      "[tn, fp, fn, tp]\n",
      "  accuracy: 0.760\n",
      " precision: 0.760\n",
      "    recall: 0.760\n",
      "  f1-score: 0.760\n",
      "\n",
      "Accuracy:  0.76 \n",
      "\n",
      "Report for [BERTClassifier - yelp_3_food_pro128BCE - Food-->Shopping]:\n",
      "              precision    recall  f1-score   support\n",
      "\n",
      "           0       0.76      0.76      0.76     26388\n",
      "           1       0.76      0.76      0.76     26388\n",
      "\n",
      "    accuracy                           0.76     52776\n",
      "   macro avg       0.76      0.76      0.76     52776\n",
      "weighted avg       0.76      0.76      0.76     52776\n",
      "\n"
     ]
    },
    {
     "data": {
      "image/png": "[encoded data removed]",
      "text/plain": [
       "<Figure size 432x288 with 1 Axes>"
      ]
     },
     "metadata": {},
     "output_type": "display_data"
    }
   ],
   "source": [
    "results_cross_overlap = dict()\n",
    "\n",
    "for root_category_label in root_category_labels:\n",
    "    if root_category_label == category_name:\n",
    "        continue\n",
    "\n",
    "    print(f\"Work on {root_category_label} ...\")\n",
    "    # with overlap\n",
    "    df_other = load_cached_root_category_businesses_df(root_category_label, map_categories)\n",
    "    \n",
    "    df_other = filter_min_review_freq(df_other, min_ratings=5)\n",
    "    df_other = filter_both_good_bad(df_other)\n",
    "    df_other = make_or_load_pairs(df_other, None, num_pairs_per_class=2)\n",
    "    print(\"review pairs:\", len(df_other))\n",
    "    \n",
    "    df_other[\"tag\"] = \"NA\"\n",
    "    \n",
    "    X_dev, y_dev = df_other[names_columns_X_arteval], df_other[names_columns_y]\n",
    "    data_dev_raw, data_dev = transform_dataset(X_dev, y_dev, transform)\n",
    "    \n",
    "    all_predictions, cum_loss = predict(model, data_dev, ctx, metric, loss_function, batch_size=batch_size)\n",
    "    y_true, y_pred = predict_out_to_ys(all_predictions, all_labels)\n",
    "    report_training_results(y_true, y_pred, name=f\"BERTClassifier - {run_name} - {category_name}-->{root_category_label}\", heatmap=False)\n",
    "    plot_confusion_matrix(y_true, y_pred, labels=[0, 1], title=f\"{run_name} - {category_name}-->{root_category_label}\", values_format=\"d\", cmap=\"Blues\", include_colorbar=False)\n",
    "    plt.show()\n",
    "    \n",
    "    results_cross_overlap[root_category_label] = compute_metrics(y_true, y_pred, precision=8, averaging=\"macro\", dump=False)"
   ]
  },
  {
   "cell_type": "code",
   "execution_count": 85,
   "metadata": {
    "collapsed": true,
    "jupyter": {
     "outputs_hidden": true
    }
   },
   "outputs": [
    {
     "data": {
      "text/plain": [
       "{'Active Life': (0.7510721014465412,\n",
       "  0.7510157440325038,\n",
       "  0.7510017710580055,\n",
       "  0.7510157440325038,\n",
       "  array([[5974, 1902],\n",
       "         [2020, 5856]])),\n",
       " 'Arts & Entertainment': (0.7099114015997936,\n",
       "  0.7099068479355488,\n",
       "  0.7099052746599093,\n",
       "  0.7099068479355488,\n",
       "  array([[5621, 2323],\n",
       "         [2286, 5658]])),\n",
       " 'Automotive': (0.7946663327730041,\n",
       "  0.7941694475342973,\n",
       "  0.794082639774715,\n",
       "  0.7941694475342974,\n",
       "  array([[8346, 2442],\n",
       "         [1999, 8789]])),\n",
       " 'Beauty & Spas': (0.8177700246749287,\n",
       "  0.8177051202961135,\n",
       "  0.8176958114098145,\n",
       "  0.8177051202961135,\n",
       "  array([[15767,  3685],\n",
       "         [ 3407, 16045]])),\n",
       " 'Bicycles': (0.8333333333333333,\n",
       "  0.75,\n",
       "  0.7333333333333334,\n",
       "  0.75,\n",
       "  array([[2, 2],\n",
       "         [0, 4]])),\n",
       " 'Education': (0.7564554883056054,\n",
       "  0.7564338235294117,\n",
       "  0.7564286794416579,\n",
       "  0.7564338235294118,\n",
       "  array([[1227,  405],\n",
       "         [ 390, 1242]])),\n",
       " 'Event Planning & Services': (0.7431693683752096,\n",
       "  0.7431233723958333,\n",
       "  0.7431112246375727,\n",
       "  0.7431233723958334,\n",
       "  array([[9216, 3072],\n",
       "         [3241, 9047]])),\n",
       " 'Financial Services': (0.8055911842794811,\n",
       "  0.8052721088435374,\n",
       "  0.805221265500519,\n",
       "  0.8052721088435374,\n",
       "  array([[928, 248],\n",
       "         [210, 966]])),\n",
       " 'Health & Medical': (0.8161740775105064,\n",
       "  0.8155916585838991,\n",
       "  0.8155066955841095,\n",
       "  0.8155916585838991,\n",
       "  array([[ 9825,  2547],\n",
       "         [ 2016, 10356]])),\n",
       " 'Home Services': (0.7970563656870575,\n",
       "  0.7960654936461388,\n",
       "  0.7958952888676507,\n",
       "  0.7960654936461388,\n",
       "  array([[ 9418,  2858],\n",
       "         [ 2149, 10127]])),\n",
       " 'Hotels & Travel': (0.7321587663380167,\n",
       "  0.7321345707656612,\n",
       "  0.7321275913541709,\n",
       "  0.7321345707656612,\n",
       "  array([[6355, 2265],\n",
       "         [2353, 6267]])),\n",
       " 'Local Flavor': (0.7011083851303499,\n",
       "  0.7010690789473684,\n",
       "  0.7010544718890628,\n",
       "  0.7010690789473685,\n",
       "  array([[861, 355],\n",
       "         [372, 844]])),\n",
       " 'Local Services': (0.7986587459082437,\n",
       "  0.7983115468409586,\n",
       "  0.7982529126962206,\n",
       "  0.7983115468409586,\n",
       "  array([[7172, 2008],\n",
       "         [1695, 7485]])),\n",
       " 'Mass Media': (0.7573529411764706,\n",
       "  0.7571428571428571,\n",
       "  0.7570932843437437,\n",
       "  0.7571428571428571,\n",
       "  array([[104,  36],\n",
       "         [ 32, 108]])),\n",
       " 'Nightlife': (0.733318782856285,\n",
       "  0.7330604820372897,\n",
       "  0.7329865812309482,\n",
       "  0.7330604820372897,\n",
       "  array([[19783,  6605],\n",
       "         [ 7483, 18905]])),\n",
       " 'Pets': (0.7868553244157203,\n",
       "  0.7866225839267549,\n",
       "  0.7865792941259278,\n",
       "  0.7866225839267549,\n",
       "  array([[3037,  895],\n",
       "         [ 783, 3149]])),\n",
       " 'Professional Services': (0.8057837672795679,\n",
       "  0.8047218155197657,\n",
       "  0.804552123535944,\n",
       "  0.8047218155197657,\n",
       "  array([[2118,  614],\n",
       "         [ 453, 2279]])),\n",
       " 'Public Services & Government': (0.7109396760387121,\n",
       "  0.7098056537102473,\n",
       "  0.7094151039490256,\n",
       "  0.7098056537102474,\n",
       "  array([[762, 370],\n",
       "         [287, 845]])),\n",
       " 'Religious Organizations': (0.7386625152294571,\n",
       "  0.7383720930232558,\n",
       "  0.7382924767540152,\n",
       "  0.7383720930232558,\n",
       "  array([[124,  48],\n",
       "         [ 42, 130]])),\n",
       " 'Restaurants': (0.7465926046472324,\n",
       "  0.7459276916964641,\n",
       "  0.7457563058542866,\n",
       "  0.745927691696464,\n",
       "  array([[77714, 22966],\n",
       "         [28194, 72486]])),\n",
       " 'Shopping': (0.7631145601410262,\n",
       "  0.7630236066737663,\n",
       "  0.7630031253979837,\n",
       "  0.7630236066737665,\n",
       "  array([[16986,  5550],\n",
       "         [ 5131, 17405]]))}"
      ]
     },
     "execution_count": 85,
     "metadata": {},
     "output_type": "execute_result"
    }
   ],
   "source": [
    "results_cross_no_overlap"
   ]
  },
  {
   "cell_type": "code",
   "execution_count": 86,
   "metadata": {
    "collapsed": true,
    "jupyter": {
     "outputs_hidden": true
    }
   },
   "outputs": [
    {
     "data": {
      "text/plain": [
       "{'Active Life': (0.7422758584029843,\n",
       "  0.7422756253065228,\n",
       "  0.7422755633165925,\n",
       "  0.7422756253065228,\n",
       "  array([[6058, 2098],\n",
       "         [2106, 6050]])),\n",
       " 'Arts & Entertainment': (0.7099619643017017,\n",
       "  0.7099605089951733,\n",
       "  0.7099600064076004,\n",
       "  0.7099605089951733,\n",
       "  array([[6484, 2632],\n",
       "         [2656, 6460]])),\n",
       " 'Automotive': (0.7901753241619228,\n",
       "  0.7895891853932584,\n",
       "  0.7894828770367563,\n",
       "  0.7895891853932584,\n",
       "  array([[8739, 2653],\n",
       "         [2141, 9251]])),\n",
       " 'Beauty & Spas': (0.8170353197069233,\n",
       "  0.8169204568222801,\n",
       "  0.81690387274786,\n",
       "  0.8169204568222801,\n",
       "  array([[16119,  3845],\n",
       "         [ 3465, 16499]])),\n",
       " 'Bicycles': (0.5,\n",
       "  0.5,\n",
       "  0.5,\n",
       "  0.5,\n",
       "  array([[2, 2],\n",
       "         [2, 2]])),\n",
       " 'Education': (0.7605401569544163,\n",
       "  0.7602739726027397,\n",
       "  0.7602127271305299,\n",
       "  0.7602739726027398,\n",
       "  array([[1304,  448],\n",
       "         [ 392, 1360]])),\n",
       " 'Event Planning & Services': (0.7484042579239436,\n",
       "  0.7481449001618996,\n",
       "  0.7480791428050407,\n",
       "  0.7481449001618996,\n",
       "  array([[11330,  3494],\n",
       "         [ 3973, 10851]])),\n",
       " 'Financial Services': (0.8084495300741147,\n",
       "  0.808277027027027,\n",
       "  0.8082502175991324,\n",
       "  0.808277027027027,\n",
       "  array([[943, 241],\n",
       "         [213, 971]])),\n",
       " 'Health & Medical': (0.8111535212607777,\n",
       "  0.8104166666666667,\n",
       "  0.810304360285688,\n",
       "  0.8104166666666667,\n",
       "  array([[ 9999,  2721],\n",
       "         [ 2102, 10618]])),\n",
       " 'Home Services': (0.7946901935965011,\n",
       "  0.7938490139023602,\n",
       "  0.7937017967033136,\n",
       "  0.7938490139023602,\n",
       "  array([[ 9491,  2881],\n",
       "         [ 2220, 10152]])),\n",
       " 'Hotels & Travel': (0.7416828033832568,\n",
       "  0.7416779127305443,\n",
       "  0.7416766058833149,\n",
       "  0.7416779127305443,\n",
       "  array([[6575, 2317],\n",
       "         [2277, 6615]])),\n",
       " 'Local Flavor': (0.7217092530388822,\n",
       "  0.7217027559055118,\n",
       "  0.7217007170330544,\n",
       "  0.7217027559055118,\n",
       "  array([[1461,  571],\n",
       "         [ 560, 1472]])),\n",
       " 'Local Services': (0.7930091216239384,\n",
       "  0.7924174174174174,\n",
       "  0.7923125661353326,\n",
       "  0.7924174174174174,\n",
       "  array([[7179, 2145],\n",
       "         [1726, 7598]])),\n",
       " 'Mass Media': (0.7436527436527436,\n",
       "  0.7428571428571429,\n",
       "  0.7426470588235294,\n",
       "  0.7428571428571429,\n",
       "  array([[100,  40],\n",
       "         [ 32, 108]])),\n",
       " 'Nightlife': (0.7338286317923763,\n",
       "  0.7335264190266029,\n",
       "  0.7334402899813797,\n",
       "  0.7335264190266029,\n",
       "  array([[24520,  8108],\n",
       "         [ 9281, 23347]])),\n",
       " 'Pets': (0.7886817865439721,\n",
       "  0.7885771543086173,\n",
       "  0.7885579951075081,\n",
       "  0.7885771543086172,\n",
       "  array([[3110,  882],\n",
       "         [ 806, 3186]])),\n",
       " 'Professional Services': (0.8034618839734599,\n",
       "  0.8026595744680851,\n",
       "  0.8025290532840808,\n",
       "  0.8026595744680851,\n",
       "  array([[2191,  629],\n",
       "         [ 484, 2336]])),\n",
       " 'Public Services & Government': (0.7080215582453653,\n",
       "  0.7073275862068966,\n",
       "  0.7070832894036365,\n",
       "  0.7073275862068965,\n",
       "  array([[787, 373],\n",
       "         [306, 854]])),\n",
       " 'Religious Organizations': (0.7100122100122099,\n",
       "  0.7093023255813953,\n",
       "  0.7090564633444975,\n",
       "  0.7093023255813954,\n",
       "  array([[117,  55],\n",
       "         [ 45, 127]])),\n",
       " 'Restaurants': (0.7477557771576444,\n",
       "  0.7471555135815795,\n",
       "  0.7470022726336716,\n",
       "  0.7471555135815794,\n",
       "  array([[102966,  30450],\n",
       "         [ 37017,  96399]])),\n",
       " 'Shopping': (0.7599495476794685,\n",
       "  0.7599287554949219,\n",
       "  0.7599239548466032,\n",
       "  0.7599287554949219,\n",
       "  array([[19935,  6453],\n",
       "         [ 6217, 20171]]))}"
      ]
     },
     "execution_count": 86,
     "metadata": {},
     "output_type": "execute_result"
    }
   ],
   "source": [
    "results_cross_overlap"
   ]
  },
  {
   "cell_type": "code",
   "execution_count": 88,
   "metadata": {},
   "outputs": [
    {
     "name": "stdout",
     "output_type": "stream",
     "text": [
      "Category                      : Prec    Rec     F1      Acc     -- Confusion (tn, fp, fn, tp)\n",
      "Active Life                   : 75.11%  75.10%  75.10%  75.10%  -- [5974, 1902, 2020, 5856]\n",
      "Arts & Entertainment          : 70.99%  70.99%  70.99%  70.99%  -- [5621, 2323, 2286, 5658]\n",
      "Automotive                    : 79.47%  79.42%  79.41%  79.42%  -- [8346, 2442, 1999, 8789]\n",
      "Beauty & Spas                 : 81.78%  81.77%  81.77%  81.77%  -- [15767, 3685, 3407, 16045]\n",
      "Bicycles                      : 83.33%  75.00%  73.33%  75.00%  -- [2, 2, 0, 4]\n",
      "Education                     : 75.65%  75.64%  75.64%  75.64%  -- [1227, 405, 390, 1242]\n",
      "Event Planning & Services     : 74.32%  74.31%  74.31%  74.31%  -- [9216, 3072, 3241, 9047]\n",
      "Financial Services            : 80.56%  80.53%  80.52%  80.53%  -- [928, 248, 210, 966]\n",
      "Health & Medical              : 81.62%  81.56%  81.55%  81.56%  -- [9825, 2547, 2016, 10356]\n",
      "Home Services                 : 79.71%  79.61%  79.59%  79.61%  -- [9418, 2858, 2149, 10127]\n",
      "Hotels & Travel               : 73.22%  73.21%  73.21%  73.21%  -- [6355, 2265, 2353, 6267]\n",
      "Local Flavor                  : 70.11%  70.11%  70.11%  70.11%  -- [861, 355, 372, 844]\n",
      "Local Services                : 79.87%  79.83%  79.83%  79.83%  -- [7172, 2008, 1695, 7485]\n",
      "Mass Media                    : 75.74%  75.71%  75.71%  75.71%  -- [104, 36, 32, 108]\n",
      "Nightlife                     : 73.33%  73.31%  73.30%  73.31%  -- [19783, 6605, 7483, 18905]\n",
      "Pets                          : 78.69%  78.66%  78.66%  78.66%  -- [3037, 895, 783, 3149]\n",
      "Professional Services         : 80.58%  80.47%  80.46%  80.47%  -- [2118, 614, 453, 2279]\n",
      "Public Services & Government  : 71.09%  70.98%  70.94%  70.98%  -- [762, 370, 287, 845]\n",
      "Religious Organizations       : 73.87%  73.84%  73.83%  73.84%  -- [124, 48, 42, 130]\n",
      "Restaurants                   : 74.66%  74.59%  74.58%  74.59%  -- [77714, 22966, 28194, 72486]\n",
      "Shopping                      : 76.31%  76.30%  76.30%  76.30%  -- [16986, 5550, 5131, 17405]\n"
     ]
    }
   ],
   "source": [
    "print(f\"\"\"{\"Category\":<30}: {\"Prec\":<7} {\"Rec\":<7} {\"F1\":<7} {\"Acc\":<7} -- Confusion (tn, fp, fn, tp)\"\"\")\n",
    "\n",
    "for name, (prec, rec, f1, acc, cm) in results_cross_no_overlap.items():\n",
    "    print(f\"{name:<30}: {prec * 100:5.2f}%  {rec * 100:5.2f}%  {f1 * 100:5.2f}%  {acc * 100:5.2f}%  -- {cm.flatten().tolist()}\")"
   ]
  },
  {
   "cell_type": "code",
   "execution_count": 87,
   "metadata": {},
   "outputs": [
    {
     "name": "stdout",
     "output_type": "stream",
     "text": [
      "Category                      : Prec    Rec     F1      Acc     -- Confusion (tn, fp, fn, tp)\n",
      "Active Life                   : 74.23%  74.23%  74.23%  74.23%  -- [6058, 2098, 2106, 6050]\n",
      "Arts & Entertainment          : 71.00%  71.00%  71.00%  71.00%  -- [6484, 2632, 2656, 6460]\n",
      "Automotive                    : 79.02%  78.96%  78.95%  78.96%  -- [8739, 2653, 2141, 9251]\n",
      "Beauty & Spas                 : 81.70%  81.69%  81.69%  81.69%  -- [16119, 3845, 3465, 16499]\n",
      "Bicycles                      : 50.00%  50.00%  50.00%  50.00%  -- [2, 2, 2, 2]\n",
      "Education                     : 76.05%  76.03%  76.02%  76.03%  -- [1304, 448, 392, 1360]\n",
      "Event Planning & Services     : 74.84%  74.81%  74.81%  74.81%  -- [11330, 3494, 3973, 10851]\n",
      "Financial Services            : 80.84%  80.83%  80.83%  80.83%  -- [943, 241, 213, 971]\n",
      "Health & Medical              : 81.12%  81.04%  81.03%  81.04%  -- [9999, 2721, 2102, 10618]\n",
      "Home Services                 : 79.47%  79.38%  79.37%  79.38%  -- [9491, 2881, 2220, 10152]\n",
      "Hotels & Travel               : 74.17%  74.17%  74.17%  74.17%  -- [6575, 2317, 2277, 6615]\n",
      "Local Flavor                  : 72.17%  72.17%  72.17%  72.17%  -- [1461, 571, 560, 1472]\n",
      "Local Services                : 79.30%  79.24%  79.23%  79.24%  -- [7179, 2145, 1726, 7598]\n",
      "Mass Media                    : 74.37%  74.29%  74.26%  74.29%  -- [100, 40, 32, 108]\n",
      "Nightlife                     : 73.38%  73.35%  73.34%  73.35%  -- [24520, 8108, 9281, 23347]\n",
      "Pets                          : 78.87%  78.86%  78.86%  78.86%  -- [3110, 882, 806, 3186]\n",
      "Professional Services         : 80.35%  80.27%  80.25%  80.27%  -- [2191, 629, 484, 2336]\n",
      "Public Services & Government  : 70.80%  70.73%  70.71%  70.73%  -- [787, 373, 306, 854]\n",
      "Religious Organizations       : 71.00%  70.93%  70.91%  70.93%  -- [117, 55, 45, 127]\n",
      "Restaurants                   : 74.78%  74.72%  74.70%  74.72%  -- [102966, 30450, 37017, 96399]\n",
      "Shopping                      : 75.99%  75.99%  75.99%  75.99%  -- [19935, 6453, 6217, 20171]\n"
     ]
    }
   ],
   "source": [
    "print(f\"\"\"{\"Category\":<30}: {\"Prec\":<7} {\"Rec\":<7} {\"F1\":<7} {\"Acc\":<7} -- Confusion (tn, fp, fn, tp)\"\"\")\n",
    "\n",
    "for name, (prec, rec, f1, acc, cm) in results_cross_overlap.items():\n",
    "    print(f\"{name:<30}: {prec * 100:5.2f}%  {rec * 100:5.2f}%  {f1 * 100:5.2f}%  {acc * 100:5.2f}%  -- {cm.flatten().tolist()}\")"
   ]
  },
  {
   "cell_type": "code",
   "execution_count": 90,
   "metadata": {},
   "outputs": [],
   "source": [
    "fn_results = fn_run_path / \"results_cross_dicts.p\"\n",
    "\n",
    "with open(fn_results, \"wb\") as fp:\n",
    "    pickle.dump((\"Food\", \"overlap\", results_cross_overlap), fp, protocol=pickle.HIGHEST_PROTOCOL)\n",
    "    pickle.dump((\"Food\", \"no overlap\", results_cross_no_overlap), fp, protocol=pickle.HIGHEST_PROTOCOL)"
   ]
  },
  {
   "cell_type": "code",
   "execution_count": null,
   "metadata": {},
   "outputs": [],
   "source": []
  }
 ],
 "metadata": {
  "kernelspec": {
   "display_name": "Python 3",
   "language": "python",
   "name": "python3"
  },
  "language_info": {
   "codemirror_mode": {
    "name": "ipython",
    "version": 3
   },
   "file_extension": ".py",
   "mimetype": "text/x-python",
   "name": "python",
   "nbconvert_exporter": "python",
   "pygments_lexer": "ipython3",
   "version": "3.7.7"
  },
  "varInspector": {
   "cols": {
    "lenName": 16,
    "lenType": 16,
    "lenVar": 40
   },
   "kernels_config": {
    "python": {
     "delete_cmd_postfix": "",
     "delete_cmd_prefix": "del ",
     "library": "var_list.py",
     "varRefreshCmd": "print(var_dic_list())"
    },
    "r": {
     "delete_cmd_postfix": ") ",
     "delete_cmd_prefix": "rm(",
     "library": "var_list.r",
     "varRefreshCmd": "cat(var_dic_list()) "
    }
   },
   "types_to_exclude": [
    "module",
    "function",
    "builtin_function_or_method",
    "instance",
    "_Feature"
   ],
   "window_display": false
  }
 },
 "nbformat": 4,
 "nbformat_minor": 4
}
