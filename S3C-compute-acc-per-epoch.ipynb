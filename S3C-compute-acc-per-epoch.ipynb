{
 "cells": [
  {
   "cell_type": "markdown",
   "metadata": {},
   "source": [
    "# SameSide Classification (S3C) - Training Progression"
   ]
  },
  {
   "cell_type": "markdown",
   "metadata": {},
   "source": [
    "## Imports"
   ]
  },
  {
   "cell_type": "code",
   "execution_count": 1,
   "metadata": {
    "ExecuteTime": {
     "end_time": "2019-12-16T15:19:44.443122Z",
     "start_time": "2019-12-16T15:19:43.446842Z"
    }
   },
   "outputs": [],
   "source": [
    "import matplotlib.pyplot as plt\n",
    "import numpy as np\n",
    "import pandas as pd\n",
    "import seaborn as sns\n",
    "\n",
    "from mxboard import SummaryWriter\n",
    "\n",
    "from sklearn import utils\n",
    "from tqdm import tqdm\n",
    "\n",
    "%matplotlib inline\n",
    "plt.rcParams.update({\"font.size\": 25, \"font.weight\": \"bold\"})"
   ]
  },
  {
   "cell_type": "code",
   "execution_count": 2,
   "metadata": {
    "ExecuteTime": {
     "end_time": "2019-12-16T15:19:44.585639Z",
     "start_time": "2019-12-16T15:19:44.555665Z"
    }
   },
   "outputs": [
    {
     "data": {
      "application/vnd.jupyter.widget-view+json": {
       "model_id": "ee003bc153cd4b00bfc15c05b6a3393c",
       "version_major": 2,
       "version_minor": 0
      },
      "text/plain": [
       "HBox(children=(IntProgress(value=1, bar_style='info', max=1), HTML(value='')))"
      ]
     },
     "metadata": {},
     "output_type": "display_data"
    },
    {
     "name": "stdout",
     "output_type": "stream",
     "text": [
      "\n"
     ]
    }
   ],
   "source": [
    "from utils_data import Timer\n",
    "\n",
    "# --------------------------------\n",
    "\n",
    "from utils_data import configure_logging\n",
    "configure_logging()\n",
    "\n",
    "# --------------------------------\n",
    "\n",
    "# set repeatable random state\n",
    "from utils_data import init_random\n",
    "init_random()\n",
    "\n",
    "# --------------------------------\n",
    "\n",
    "# make tqdm jupyter friendly\n",
    "from tqdm import tqdm_notebook as tqdm\n",
    "\n",
    "# apply progress bars for pandas .apply() -> .progress_apply()\n",
    "# for .progress_apply() we have to hack it like this?\n",
    "tqdm().pandas()"
   ]
  },
  {
   "cell_type": "code",
   "execution_count": 3,
   "metadata": {
    "ExecuteTime": {
     "end_time": "2019-12-16T15:21:17.579108Z",
     "start_time": "2019-12-16T15:19:44.647718Z"
    }
   },
   "outputs": [
    {
     "name": "stdout",
     "output_type": "stream",
     "text": [
      "Start on [read S3C cross train/dev] ...\n",
      "Time for [read S3C cross train/dev]: 0:00:00.895549\n",
      "Start on [tag cross train/dev] ...\n"
     ]
    },
    {
     "data": {
      "application/vnd.jupyter.widget-view+json": {
       "model_id": "6ccf1b701f8d4f32a0bf2d1d73062ef2",
       "version_major": 2,
       "version_minor": 0
      },
      "text/plain": [
       "HBox(children=(IntProgress(value=0, max=61048), HTML(value='')))"
      ]
     },
     "metadata": {},
     "output_type": "display_data"
    },
    {
     "name": "stdout",
     "output_type": "stream",
     "text": [
      "\n"
     ]
    },
    {
     "data": {
      "application/vnd.jupyter.widget-view+json": {
       "model_id": "48d63806e354430b838960c360bf9e1e",
       "version_major": 2,
       "version_minor": 0
      },
      "text/plain": [
       "HBox(children=(IntProgress(value=0, max=6163), HTML(value='')))"
      ]
     },
     "metadata": {},
     "output_type": "display_data"
    },
    {
     "name": "stdout",
     "output_type": "stream",
     "text": [
      "\n",
      "Time for [tag cross train/dev]: 0:00:37.473639\n",
      "Start on [read S3C within train/dev] ...\n",
      "Time for [read S3C within train/dev]: 0:00:01.256739\n",
      "Start on [tag within train/dev] ...\n"
     ]
    },
    {
     "data": {
      "application/vnd.jupyter.widget-view+json": {
       "model_id": "12ce838da0ed4eada36fd595c21ef2a2",
       "version_major": 2,
       "version_minor": 0
      },
      "text/plain": [
       "HBox(children=(IntProgress(value=0, max=63903), HTML(value='')))"
      ]
     },
     "metadata": {},
     "output_type": "display_data"
    },
    {
     "name": "stdout",
     "output_type": "stream",
     "text": [
      "\n"
     ]
    },
    {
     "data": {
      "application/vnd.jupyter.widget-view+json": {
       "model_id": "b7a98f5424524de28546134fcdfecd60",
       "version_major": 2,
       "version_minor": 0
      },
      "text/plain": [
       "HBox(children=(IntProgress(value=0, max=31475), HTML(value='')))"
      ]
     },
     "metadata": {},
     "output_type": "display_data"
    },
    {
     "name": "stdout",
     "output_type": "stream",
     "text": [
      "\n",
      "Time for [tag within train/dev]: 0:00:53.300279\n"
     ]
    }
   ],
   "source": [
    "from utils_data import load_and_prepare_official_data\n",
    "\n",
    "cross_traindev_df, cross_test_df = load_and_prepare_official_data(\"cross\")\n",
    "within_traindev_df, within_test_df = load_and_prepare_official_data(\"within\")"
   ]
  },
  {
   "cell_type": "code",
   "execution_count": 4,
   "metadata": {
    "ExecuteTime": {
     "end_time": "2019-12-16T15:21:18.012560Z",
     "start_time": "2019-12-16T15:21:18.010683Z"
    }
   },
   "outputs": [],
   "source": [
    "from utils_data import get_train_test_sets"
   ]
  },
  {
   "cell_type": "code",
   "execution_count": 5,
   "metadata": {
    "ExecuteTime": {
     "end_time": "2019-12-16T15:21:18.483113Z",
     "start_time": "2019-12-16T15:21:18.447109Z"
    }
   },
   "outputs": [],
   "source": [
    "from utils_gluon import MyBERTDataset\n",
    "from utils_gluon import LastPartBERTDatasetTransform\n",
    "from utils_gluon import FirstAndLastPartBERTDatasetTransform\n",
    "\n",
    "from utils_gluon import setup_bert\n",
    "from utils_gluon import setup_bert_epi128bce, setup_bert_epi512bce\n",
    "from utils_gluon import setup_bert_pro128bce, setup_bert_pro512bce\n",
    "from utils_gluon import setup_bert_proepi512bce\n",
    "\n",
    "from utils_gluon import transform_dataset\n",
    "from utils_gluon import predict_out_to_ys\n",
    "\n",
    "from utils_gluon import train, train_proepi\n",
    "\n",
    "from utils_gluon import predict, predict_proepi\n",
    "from utils_gluon import predict_unknown, predict_unknown_proepi\n",
    "\n",
    "from utils_gluon import print_infos, print_infos_proepi\n",
    "from utils_gluon import plot_train_stats\n",
    "\n",
    "from utils_gluon import compute_metrics, compute_metrics_old, heatconmat, report_training_results\n",
    "from utils_gluon import plot_confusion_matrix"
   ]
  },
  {
   "cell_type": "markdown",
   "metadata": {},
   "source": [
    "## Evaluation"
   ]
  },
  {
   "cell_type": "markdown",
   "metadata": {},
   "source": [
    "#### Within Epi 512 BCE - 0.1 traindev"
   ]
  },
  {
   "cell_type": "code",
   "execution_count": 6,
   "metadata": {
    "ExecuteTime": {
     "end_time": "2019-12-16T15:18:07.765153Z",
     "start_time": "2019-12-16T14:54:47.406771Z"
    },
    "code_folding": [
     3,
     6,
     9,
     14
    ]
   },
   "outputs": [
    {
     "name": "stdout",
     "output_type": "stream",
     "text": [
      "Start on [1 - load within test/train] ...\n",
      "Time for [1 - load within test/train]: 0:00:00.013738\n",
      "Start on [2 - setup BERT model] ...\n",
      "Time for [2 - setup BERT model]: 0:00:02.397128\n",
      "Start on [3 - prepare eval data] ...\n"
     ]
    },
    {
     "name": "stderr",
     "output_type": "stream",
     "text": [
      "\r",
      "  0%|          | 0/1066 [00:00<?, ?it/s]"
     ]
    },
    {
     "name": "stdout",
     "output_type": "stream",
     "text": [
      "Time for [3 - prepare eval data]: 0:00:00.409747\n",
      "Start on [4 - evaluate per epoch] ...\n",
      "Evaluate untrained model ...\n",
      "Start on [prediction] ...\n"
     ]
    },
    {
     "name": "stderr",
     "output_type": "stream",
     "text": [
      "100%|██████████| 1066/1066 [03:44<00:00,  4.75it/s]\n"
     ]
    },
    {
     "name": "stdout",
     "output_type": "stream",
     "text": [
      "Time for [prediction]: 0:03:44.218969\n",
      "Confusion Matrix:\n",
      "[[  45 2914]\n",
      " [  38 3394]]\n",
      "\n",
      "CM: [  45 2914   38 3394] \n",
      "[tn, fp, fn, tp]\n",
      "  accuracy: 0.538\n",
      " precision: 0.540\n",
      "    recall: 0.502\n",
      "  f1-score: 0.363\n",
      "\n",
      "Accuracy:  0.538 \n",
      "\n",
      "Report for [BERTClassifier - within_traindev_epi512_BCE]:\n",
      "              precision    recall  f1-score   support\n",
      "\n",
      "           0       0.54      0.02      0.03      2959\n",
      "           1       0.54      0.99      0.70      3432\n",
      "\n",
      "    accuracy                           0.54      6391\n",
      "   macro avg       0.54      0.50      0.36      6391\n",
      "weighted avg       0.54      0.54      0.39      6391\n",
      "\n"
     ]
    },
    {
     "data": {
      "image/png": "[encoded data removed]",
      "text/plain": [
       "<Figure size 432x288 with 1 Axes>"
      ]
     },
     "metadata": {
      "needs_background": "light"
     },
     "output_type": "display_data"
    },
    {
     "name": "stdout",
     "output_type": "stream",
     "text": [
      "Evaluate trained model for each epoch ...\n",
      "Load data/within_traindev_epi512_BCE/bert.model.checkpoint0.params ...\n"
     ]
    },
    {
     "name": "stderr",
     "output_type": "stream",
     "text": [
      "\r",
      "  0%|          | 0/1066 [00:00<?, ?it/s]"
     ]
    },
    {
     "name": "stdout",
     "output_type": "stream",
     "text": [
      "Start on [prediction] ...\n"
     ]
    },
    {
     "name": "stderr",
     "output_type": "stream",
     "text": [
      "100%|██████████| 1066/1066 [04:33<00:00,  3.37it/s]\n"
     ]
    },
    {
     "name": "stdout",
     "output_type": "stream",
     "text": [
      "Time for [prediction]: 0:04:33.810709\n",
      "Confusion Matrix:\n",
      "[[2669  290]\n",
      " [ 510 2922]]\n",
      "\n",
      "CM: [2669  290  510 2922] \n",
      "[tn, fp, fn, tp]\n",
      "  accuracy: 0.875\n",
      " precision: 0.875\n",
      "    recall: 0.877\n",
      "  f1-score: 0.875\n",
      "\n",
      "Accuracy:  0.875 \n",
      "\n",
      "Report for [BERTClassifier - within_traindev_epi512_BCE]:\n",
      "              precision    recall  f1-score   support\n",
      "\n",
      "           0       0.84      0.90      0.87      2959\n",
      "           1       0.91      0.85      0.88      3432\n",
      "\n",
      "    accuracy                           0.87      6391\n",
      "   macro avg       0.87      0.88      0.87      6391\n",
      "weighted avg       0.88      0.87      0.87      6391\n",
      "\n"
     ]
    },
    {
     "data": {
      "image/png": "[encoded data removed]",
      "text/plain": [
       "<Figure size 432x288 with 1 Axes>"
      ]
     },
     "metadata": {
      "needs_background": "light"
     },
     "output_type": "display_data"
    },
    {
     "name": "stdout",
     "output_type": "stream",
     "text": [
      "Load data/within_traindev_epi512_BCE/bert.model.checkpoint1.params ...\n"
     ]
    },
    {
     "name": "stderr",
     "output_type": "stream",
     "text": [
      "\r",
      "  0%|          | 0/1066 [00:00<?, ?it/s]"
     ]
    },
    {
     "name": "stdout",
     "output_type": "stream",
     "text": [
      "Start on [prediction] ...\n"
     ]
    },
    {
     "name": "stderr",
     "output_type": "stream",
     "text": [
      "100%|██████████| 1066/1066 [03:44<00:00,  4.75it/s]\n"
     ]
    },
    {
     "name": "stdout",
     "output_type": "stream",
     "text": [
      "Time for [prediction]: 0:03:44.201134\n",
      "Confusion Matrix:\n",
      "[[2629  330]\n",
      " [ 406 3026]]\n",
      "\n",
      "CM: [2629  330  406 3026] \n",
      "[tn, fp, fn, tp]\n",
      "  accuracy: 0.885\n",
      " precision: 0.884\n",
      "    recall: 0.885\n",
      "  f1-score: 0.884\n",
      "\n",
      "Accuracy:  0.885 \n",
      "\n",
      "Report for [BERTClassifier - within_traindev_epi512_BCE]:\n",
      "              precision    recall  f1-score   support\n",
      "\n",
      "           0       0.87      0.89      0.88      2959\n",
      "           1       0.90      0.88      0.89      3432\n",
      "\n",
      "    accuracy                           0.88      6391\n",
      "   macro avg       0.88      0.89      0.88      6391\n",
      "weighted avg       0.89      0.88      0.88      6391\n",
      "\n"
     ]
    },
    {
     "data": {
      "image/png": "[encoded data removed]",
      "text/plain": [
       "<Figure size 432x288 with 1 Axes>"
      ]
     },
     "metadata": {
      "needs_background": "light"
     },
     "output_type": "display_data"
    },
    {
     "name": "stdout",
     "output_type": "stream",
     "text": [
      "Load data/within_traindev_epi512_BCE/bert.model.checkpoint2.params ...\n"
     ]
    },
    {
     "name": "stderr",
     "output_type": "stream",
     "text": [
      "\r",
      "  0%|          | 0/1066 [00:00<?, ?it/s]"
     ]
    },
    {
     "name": "stdout",
     "output_type": "stream",
     "text": [
      "Start on [prediction] ...\n"
     ]
    },
    {
     "name": "stderr",
     "output_type": "stream",
     "text": [
      "100%|██████████| 1066/1066 [03:44<00:00,  4.75it/s]\n"
     ]
    },
    {
     "name": "stdout",
     "output_type": "stream",
     "text": [
      "Time for [prediction]: 0:03:44.462890\n",
      "Confusion Matrix:\n",
      "[[2604  355]\n",
      " [ 306 3126]]\n",
      "\n",
      "CM: [2604  355  306 3126] \n",
      "[tn, fp, fn, tp]\n",
      "  accuracy: 0.897\n",
      " precision: 0.896\n",
      "    recall: 0.895\n",
      "  f1-score: 0.896\n",
      "\n",
      "Accuracy:  0.897 \n",
      "\n",
      "Report for [BERTClassifier - within_traindev_epi512_BCE]:\n",
      "              precision    recall  f1-score   support\n",
      "\n",
      "           0       0.89      0.88      0.89      2959\n",
      "           1       0.90      0.91      0.90      3432\n",
      "\n",
      "    accuracy                           0.90      6391\n",
      "   macro avg       0.90      0.90      0.90      6391\n",
      "weighted avg       0.90      0.90      0.90      6391\n",
      "\n"
     ]
    },
    {
     "data": {
      "image/png": "[encoded data removed]",
      "text/plain": [
       "<Figure size 432x288 with 1 Axes>"
      ]
     },
     "metadata": {
      "needs_background": "light"
     },
     "output_type": "display_data"
    },
    {
     "name": "stdout",
     "output_type": "stream",
     "text": [
      "Load data/within_traindev_epi512_BCE/bert.model.checkpoint3.params ...\n"
     ]
    },
    {
     "name": "stderr",
     "output_type": "stream",
     "text": [
      "\r",
      "  0%|          | 0/1066 [00:00<?, ?it/s]"
     ]
    },
    {
     "name": "stdout",
     "output_type": "stream",
     "text": [
      "Start on [prediction] ...\n"
     ]
    },
    {
     "name": "stderr",
     "output_type": "stream",
     "text": [
      "100%|██████████| 1066/1066 [03:43<00:00,  4.76it/s]\n"
     ]
    },
    {
     "name": "stdout",
     "output_type": "stream",
     "text": [
      "Time for [prediction]: 0:03:43.798633\n",
      "Confusion Matrix:\n",
      "[[2795  164]\n",
      " [ 430 3002]]\n",
      "\n",
      "CM: [2795  164  430 3002] \n",
      "[tn, fp, fn, tp]\n",
      "  accuracy: 0.907\n",
      " precision: 0.907\n",
      "    recall: 0.910\n",
      "  f1-score: 0.907\n",
      "\n",
      "Accuracy:  0.907 \n",
      "\n",
      "Report for [BERTClassifier - within_traindev_epi512_BCE]:\n",
      "              precision    recall  f1-score   support\n",
      "\n",
      "           0       0.87      0.94      0.90      2959\n",
      "           1       0.95      0.87      0.91      3432\n",
      "\n",
      "    accuracy                           0.91      6391\n",
      "   macro avg       0.91      0.91      0.91      6391\n",
      "weighted avg       0.91      0.91      0.91      6391\n",
      "\n"
     ]
    },
    {
     "data": {
      "image/png": "[encoded data removed]",
      "text/plain": [
       "<Figure size 432x288 with 1 Axes>"
      ]
     },
     "metadata": {
      "needs_background": "light"
     },
     "output_type": "display_data"
    },
    {
     "name": "stdout",
     "output_type": "stream",
     "text": [
      "Load data/within_traindev_epi512_BCE/bert.model.checkpoint4.params ...\n"
     ]
    },
    {
     "name": "stderr",
     "output_type": "stream",
     "text": [
      "\r",
      "  0%|          | 0/1066 [00:00<?, ?it/s]"
     ]
    },
    {
     "name": "stdout",
     "output_type": "stream",
     "text": [
      "Start on [prediction] ...\n"
     ]
    },
    {
     "name": "stderr",
     "output_type": "stream",
     "text": [
      "100%|██████████| 1066/1066 [03:44<00:00,  4.75it/s]\n"
     ]
    },
    {
     "name": "stdout",
     "output_type": "stream",
     "text": [
      "Time for [prediction]: 0:03:44.360315\n",
      "Confusion Matrix:\n",
      "[[2772  187]\n",
      " [ 363 3069]]\n",
      "\n",
      "CM: [2772  187  363 3069] \n",
      "[tn, fp, fn, tp]\n",
      "  accuracy: 0.914\n",
      " precision: 0.913\n",
      "    recall: 0.916\n",
      "  f1-score: 0.914\n",
      "\n",
      "Accuracy:  0.914 \n",
      "\n",
      "Report for [BERTClassifier - within_traindev_epi512_BCE]:\n",
      "              precision    recall  f1-score   support\n",
      "\n",
      "           0       0.88      0.94      0.91      2959\n",
      "           1       0.94      0.89      0.92      3432\n",
      "\n",
      "    accuracy                           0.91      6391\n",
      "   macro avg       0.91      0.92      0.91      6391\n",
      "weighted avg       0.92      0.91      0.91      6391\n",
      "\n"
     ]
    },
    {
     "data": {
      "image/png": "[encoded data removed]",
      "text/plain": [
       "<Figure size 432x288 with 1 Axes>"
      ]
     },
     "metadata": {
      "needs_background": "light"
     },
     "output_type": "display_data"
    },
    {
     "name": "stdout",
     "output_type": "stream",
     "text": [
      "Time for [4 - evaluate per epoch]: 0:23:17.527524\n"
     ]
    }
   ],
   "source": [
    "run_name = \"within_traindev_epi512_BCE\"\n",
    "plt.rcParams.update({\"font.size\": 25, \"font.weight\": \"bold\"})\n",
    "\n",
    "with Timer(\"1 - load within test/train\"):\n",
    "    X_train, X_dev, y_train, y_dev = get_train_test_sets(within_traindev_df, ratio=0.1)\n",
    "\n",
    "with Timer(\"2 - setup BERT model\"):\n",
    "    model, vocabulary, ctx, tokenizer, transform, loss_function, metric, all_labels = setup_bert_epi512bce(gpu=1)\n",
    "\n",
    "with Timer(\"3 - prepare eval data\"):\n",
    "    data_dev_raw, data_dev = transform_dataset(X_dev, y_dev, transform)\n",
    "\n",
    "import pickle\n",
    "\n",
    "with Timer(\"4 - evaluate per epoch\"):\n",
    "    print(\"Evaluate untrained model ...\")\n",
    "    all_predictions, cum_loss = predict(model, data_dev, ctx, metric, loss_function, batch_size=6)\n",
    "    y_true, y_pred = predict_out_to_ys(all_predictions, all_labels)\n",
    "    with open(\"data/{}/eval_untrained.p\".format(run_name), \"wb\") as fp:\n",
    "        pickle.dump(y_true, fp, protocol=pickle.HIGHEST_PROTOCOL)\n",
    "        pickle.dump(y_pred, fp, protocol=pickle.HIGHEST_PROTOCOL)\n",
    "    report_training_results(y_true, y_pred, name=\"BERTClassifier - {}\".format(run_name), heatmap=False)\n",
    "    plot_confusion_matrix(y_true, y_pred, labels=[0, 1], title=\"Within Untrained\", values_format=\"d\", cmap=\"Blues\", include_colorbar=False)\n",
    "    plt.show()\n",
    "\n",
    "    print(\"Evaluate trained model for each epoch ...\")\n",
    "    for epoch_id in range(5):\n",
    "        fn_model_state = \"data/{}/bert.model.checkpoint{}.params\".format(run_name, epoch_id)\n",
    "        print(\"Load {} ...\".format(fn_model_state))\n",
    "        model.load_parameters(fn_model_state, ctx=ctx)\n",
    "        all_predictions, cum_loss = predict(model, data_dev, ctx, metric, loss_function, batch_size=6)\n",
    "        y_true, y_pred = predict_out_to_ys(all_predictions, all_labels)\n",
    "        with open(\"data/{}/eval_epoch{}.p\".format(run_name, epoch_id), \"wb\") as fp:\n",
    "            pickle.dump(y_true, fp, protocol=pickle.HIGHEST_PROTOCOL)\n",
    "            pickle.dump(y_pred, fp, protocol=pickle.HIGHEST_PROTOCOL)\n",
    "        report_training_results(y_true, y_pred, name=\"BERTClassifier - {}\".format(run_name), heatmap=False)\n",
    "        plot_confusion_matrix(y_true, y_pred, labels=[0, 1], title=\"Within Epoch {}\".format(epoch_id), values_format=\"d\", cmap=\"Blues\", include_colorbar=False)\n",
    "        plt.show()"
   ]
  },
  {
   "cell_type": "markdown",
   "metadata": {},
   "source": [
    "#### Cross Epi 512 BCE - 0.1 traindev"
   ]
  },
  {
   "cell_type": "code",
   "execution_count": 6,
   "metadata": {
    "ExecuteTime": {
     "end_time": "2019-12-16T15:42:54.040209Z",
     "start_time": "2019-12-16T15:21:18.909955Z"
    },
    "code_folding": [
     2,
     5,
     8,
     11
    ],
    "scrolled": false
   },
   "outputs": [
    {
     "name": "stdout",
     "output_type": "stream",
     "text": [
      "Start on [1 - load cross test/train] ...\n",
      "Time for [1 - load cross test/train]: 0:00:00.012164\n",
      "Start on [2 - setup BERT model] ...\n",
      "Time for [2 - setup BERT model]: 0:00:02.367244\n",
      "Start on [3 - prepare eval data] ...\n"
     ]
    },
    {
     "name": "stderr",
     "output_type": "stream",
     "text": [
      "\r",
      "  0%|          | 0/1018 [00:00<?, ?it/s]"
     ]
    },
    {
     "name": "stdout",
     "output_type": "stream",
     "text": [
      "Time for [3 - prepare eval data]: 0:00:00.344786\n",
      "Start on [4 - evaluate per epoch] ...\n",
      "Evaluate untrained model ...\n",
      "Start on [prediction] ...\n"
     ]
    },
    {
     "name": "stderr",
     "output_type": "stream",
     "text": [
      "100%|██████████| 1018/1018 [03:35<00:00,  5.42it/s]\n"
     ]
    },
    {
     "name": "stdout",
     "output_type": "stream",
     "text": [
      "Time for [prediction]: 0:03:35.288844\n",
      "Confusion Matrix:\n",
      "[[  47 2977]\n",
      " [  30 3051]]\n",
      "\n",
      "CM: [  47 2977   30 3051] \n",
      "[tn, fp, fn, tp]\n",
      "  accuracy: 0.507\n",
      " precision: 0.558\n",
      "    recall: 0.503\n",
      "  f1-score: 0.350\n",
      "\n",
      "Accuracy:  0.507 \n",
      "\n",
      "Report for [BERTClassifier - cross_traindev_epi512_BCE]:\n",
      "              precision    recall  f1-score   support\n",
      "\n",
      "           0       0.61      0.02      0.03      3024\n",
      "           1       0.51      0.99      0.67      3081\n",
      "\n",
      "    accuracy                           0.51      6105\n",
      "   macro avg       0.56      0.50      0.35      6105\n",
      "weighted avg       0.56      0.51      0.35      6105\n",
      "\n"
     ]
    },
    {
     "data": {
      "image/png": "[encoded data removed]",
      "text/plain": [
       "<Figure size 432x288 with 1 Axes>"
      ]
     },
     "metadata": {
      "needs_background": "light"
     },
     "output_type": "display_data"
    },
    {
     "name": "stdout",
     "output_type": "stream",
     "text": [
      "Evaluate trained model for each epoch ...\n",
      "Load data/cross_traindev_epi512_BCE/bert.model.checkpoint0.params ...\n"
     ]
    },
    {
     "name": "stderr",
     "output_type": "stream",
     "text": [
      "\r",
      "  0%|          | 0/1018 [00:00<?, ?it/s]"
     ]
    },
    {
     "name": "stdout",
     "output_type": "stream",
     "text": [
      "Start on [prediction] ...\n"
     ]
    },
    {
     "name": "stderr",
     "output_type": "stream",
     "text": [
      "100%|██████████| 1018/1018 [03:37<00:00,  5.34it/s]\n"
     ]
    },
    {
     "name": "stdout",
     "output_type": "stream",
     "text": [
      "Time for [prediction]: 0:03:37.879125\n",
      "Confusion Matrix:\n",
      "[[2740  284]\n",
      " [ 544 2537]]\n",
      "\n",
      "CM: [2740  284  544 2537] \n",
      "[tn, fp, fn, tp]\n",
      "  accuracy: 0.864\n",
      " precision: 0.867\n",
      "    recall: 0.865\n",
      "  f1-score: 0.864\n",
      "\n",
      "Accuracy:  0.864 \n",
      "\n",
      "Report for [BERTClassifier - cross_traindev_epi512_BCE]:\n",
      "              precision    recall  f1-score   support\n",
      "\n",
      "           0       0.83      0.91      0.87      3024\n",
      "           1       0.90      0.82      0.86      3081\n",
      "\n",
      "    accuracy                           0.86      6105\n",
      "   macro avg       0.87      0.86      0.86      6105\n",
      "weighted avg       0.87      0.86      0.86      6105\n",
      "\n"
     ]
    },
    {
     "data": {
      "image/png": "[encoded data removed]",
      "text/plain": [
       "<Figure size 432x288 with 1 Axes>"
      ]
     },
     "metadata": {
      "needs_background": "light"
     },
     "output_type": "display_data"
    },
    {
     "name": "stdout",
     "output_type": "stream",
     "text": [
      "Load data/cross_traindev_epi512_BCE/bert.model.checkpoint1.params ...\n"
     ]
    },
    {
     "name": "stderr",
     "output_type": "stream",
     "text": [
      "\r",
      "  0%|          | 0/1018 [00:00<?, ?it/s]"
     ]
    },
    {
     "name": "stdout",
     "output_type": "stream",
     "text": [
      "Start on [prediction] ...\n"
     ]
    },
    {
     "name": "stderr",
     "output_type": "stream",
     "text": [
      "100%|██████████| 1018/1018 [03:35<00:00,  5.68it/s]\n"
     ]
    },
    {
     "name": "stdout",
     "output_type": "stream",
     "text": [
      "Time for [prediction]: 0:03:35.946926\n",
      "Confusion Matrix:\n",
      "[[2797  227]\n",
      " [ 399 2682]]\n",
      "\n",
      "CM: [2797  227  399 2682] \n",
      "[tn, fp, fn, tp]\n",
      "  accuracy: 0.897\n",
      " precision: 0.899\n",
      "    recall: 0.898\n",
      "  f1-score: 0.897\n",
      "\n",
      "Accuracy:  0.897 \n",
      "\n",
      "Report for [BERTClassifier - cross_traindev_epi512_BCE]:\n",
      "              precision    recall  f1-score   support\n",
      "\n",
      "           0       0.88      0.92      0.90      3024\n",
      "           1       0.92      0.87      0.90      3081\n",
      "\n",
      "    accuracy                           0.90      6105\n",
      "   macro avg       0.90      0.90      0.90      6105\n",
      "weighted avg       0.90      0.90      0.90      6105\n",
      "\n"
     ]
    },
    {
     "data": {
      "image/png": "[encoded data removed]",
      "text/plain": [
       "<Figure size 432x288 with 1 Axes>"
      ]
     },
     "metadata": {
      "needs_background": "light"
     },
     "output_type": "display_data"
    },
    {
     "name": "stdout",
     "output_type": "stream",
     "text": [
      "Load data/cross_traindev_epi512_BCE/bert.model.checkpoint2.params ...\n"
     ]
    },
    {
     "name": "stderr",
     "output_type": "stream",
     "text": [
      "\r",
      "  0%|          | 0/1018 [00:00<?, ?it/s]"
     ]
    },
    {
     "name": "stdout",
     "output_type": "stream",
     "text": [
      "Start on [prediction] ...\n"
     ]
    },
    {
     "name": "stderr",
     "output_type": "stream",
     "text": [
      "100%|██████████| 1018/1018 [03:33<00:00,  5.62it/s]\n"
     ]
    },
    {
     "name": "stdout",
     "output_type": "stream",
     "text": [
      "Time for [prediction]: 0:03:33.099587\n",
      "Confusion Matrix:\n",
      "[[2728  296]\n",
      " [ 243 2838]]\n",
      "\n",
      "CM: [2728  296  243 2838] \n",
      "[tn, fp, fn, tp]\n",
      "  accuracy: 0.912\n",
      " precision: 0.912\n",
      "    recall: 0.912\n",
      "  f1-score: 0.912\n",
      "\n",
      "Accuracy:  0.912 \n",
      "\n",
      "Report for [BERTClassifier - cross_traindev_epi512_BCE]:\n",
      "              precision    recall  f1-score   support\n",
      "\n",
      "           0       0.92      0.90      0.91      3024\n",
      "           1       0.91      0.92      0.91      3081\n",
      "\n",
      "    accuracy                           0.91      6105\n",
      "   macro avg       0.91      0.91      0.91      6105\n",
      "weighted avg       0.91      0.91      0.91      6105\n",
      "\n"
     ]
    },
    {
     "data": {
      "image/png": "[encoded data removed]",
      "text/plain": [
       "<Figure size 432x288 with 1 Axes>"
      ]
     },
     "metadata": {
      "needs_background": "light"
     },
     "output_type": "display_data"
    },
    {
     "name": "stdout",
     "output_type": "stream",
     "text": [
      "Load data/cross_traindev_epi512_BCE/bert.model.checkpoint3.params ...\n"
     ]
    },
    {
     "name": "stderr",
     "output_type": "stream",
     "text": [
      "\r",
      "  0%|          | 0/1018 [00:00<?, ?it/s]"
     ]
    },
    {
     "name": "stdout",
     "output_type": "stream",
     "text": [
      "Start on [prediction] ...\n"
     ]
    },
    {
     "name": "stderr",
     "output_type": "stream",
     "text": [
      "100%|██████████| 1018/1018 [03:34<00:00,  5.34it/s]\n"
     ]
    },
    {
     "name": "stdout",
     "output_type": "stream",
     "text": [
      "Time for [prediction]: 0:03:34.920514\n",
      "Confusion Matrix:\n",
      "[[2921  103]\n",
      " [ 356 2725]]\n",
      "\n",
      "CM: [2921  103  356 2725] \n",
      "[tn, fp, fn, tp]\n",
      "  accuracy: 0.925\n",
      " precision: 0.927\n",
      "    recall: 0.925\n",
      "  f1-score: 0.925\n",
      "\n",
      "Accuracy:  0.925 \n",
      "\n",
      "Report for [BERTClassifier - cross_traindev_epi512_BCE]:\n",
      "              precision    recall  f1-score   support\n",
      "\n",
      "           0       0.89      0.97      0.93      3024\n",
      "           1       0.96      0.88      0.92      3081\n",
      "\n",
      "    accuracy                           0.92      6105\n",
      "   macro avg       0.93      0.93      0.92      6105\n",
      "weighted avg       0.93      0.92      0.92      6105\n",
      "\n"
     ]
    },
    {
     "data": {
      "image/png": "[encoded data removed]",
      "text/plain": [
       "<Figure size 432x288 with 1 Axes>"
      ]
     },
     "metadata": {
      "needs_background": "light"
     },
     "output_type": "display_data"
    },
    {
     "name": "stdout",
     "output_type": "stream",
     "text": [
      "Load data/cross_traindev_epi512_BCE/bert.model.checkpoint4.params ...\n"
     ]
    },
    {
     "name": "stderr",
     "output_type": "stream",
     "text": [
      "\r",
      "  0%|          | 0/1018 [00:00<?, ?it/s]"
     ]
    },
    {
     "name": "stdout",
     "output_type": "stream",
     "text": [
      "Start on [prediction] ...\n"
     ]
    },
    {
     "name": "stderr",
     "output_type": "stream",
     "text": [
      "100%|██████████| 1018/1018 [03:32<00:00,  5.36it/s]\n"
     ]
    },
    {
     "name": "stdout",
     "output_type": "stream",
     "text": [
      "Time for [prediction]: 0:03:32.715248\n",
      "Confusion Matrix:\n",
      "[[2840  184]\n",
      " [ 269 2812]]\n",
      "\n",
      "CM: [2840  184  269 2812] \n",
      "[tn, fp, fn, tp]\n",
      "  accuracy: 0.926\n",
      " precision: 0.926\n",
      "    recall: 0.926\n",
      "  f1-score: 0.926\n",
      "\n",
      "Accuracy:  0.926 \n",
      "\n",
      "Report for [BERTClassifier - cross_traindev_epi512_BCE]:\n",
      "              precision    recall  f1-score   support\n",
      "\n",
      "           0       0.91      0.94      0.93      3024\n",
      "           1       0.94      0.91      0.93      3081\n",
      "\n",
      "    accuracy                           0.93      6105\n",
      "   macro avg       0.93      0.93      0.93      6105\n",
      "weighted avg       0.93      0.93      0.93      6105\n",
      "\n"
     ]
    },
    {
     "data": {
      "image/png": "[encoded data removed]",
      "text/plain": [
       "<Figure size 432x288 with 1 Axes>"
      ]
     },
     "metadata": {
      "needs_background": "light"
     },
     "output_type": "display_data"
    },
    {
     "name": "stdout",
     "output_type": "stream",
     "text": [
      "Time for [4 - evaluate per epoch]: 0:21:32.396954\n"
     ]
    }
   ],
   "source": [
    "run_name = \"cross_traindev_epi512_BCE\"\n",
    "\n",
    "with Timer(\"1 - load cross test/train\"):\n",
    "    X_train, X_dev, y_train, y_dev = get_train_test_sets(cross_traindev_df, ratio=0.1)\n",
    "\n",
    "with Timer(\"2 - setup BERT model\"):\n",
    "    model, vocabulary, ctx, tokenizer, transform, loss_function, metric, all_labels = setup_bert_epi512bce(gpu=1)\n",
    "\n",
    "with Timer(\"3 - prepare eval data\"):\n",
    "    data_dev_raw, data_dev = transform_dataset(X_dev, y_dev, transform)\n",
    "\n",
    "import pickle\n",
    "\n",
    "with Timer(\"4 - evaluate per epoch\"):\n",
    "    print(\"Evaluate untrained model ...\")\n",
    "    all_predictions, cum_loss = predict(model, data_dev, ctx, metric, loss_function, batch_size=6)\n",
    "    y_true, y_pred = predict_out_to_ys(all_predictions, all_labels)\n",
    "    with open(\"data/{}/eval_untrained.p\".format(run_name), \"wb\") as fp:\n",
    "        pickle.dump(y_true, fp, protocol=pickle.HIGHEST_PROTOCOL)\n",
    "        pickle.dump(y_pred, fp, protocol=pickle.HIGHEST_PROTOCOL)\n",
    "    report_training_results(y_true, y_pred, name=\"BERTClassifier - {}\".format(run_name), heatmap=False)\n",
    "    plot_confusion_matrix(y_true, y_pred, labels=[0, 1], title=\"Cross Untrained\", values_format=\"d\", cmap=\"Blues\", include_colorbar=False)\n",
    "    plt.show()\n",
    "\n",
    "    print(\"Evaluate trained model for each epoch ...\")\n",
    "    for epoch_id in range(5):\n",
    "        fn_model_state = \"data/{}/bert.model.checkpoint{}.params\".format(run_name, epoch_id)\n",
    "        print(\"Load {} ...\".format(fn_model_state))\n",
    "        model.load_parameters(fn_model_state, ctx=ctx)\n",
    "        all_predictions, cum_loss = predict(model, data_dev, ctx, metric, loss_function, batch_size=6)\n",
    "        y_true, y_pred = predict_out_to_ys(all_predictions, all_labels)\n",
    "        with open(\"data/{}/eval_epoch{}.p\".format(run_name, epoch_id), \"wb\") as fp:\n",
    "            pickle.dump(y_true, fp, protocol=pickle.HIGHEST_PROTOCOL)\n",
    "            pickle.dump(y_pred, fp, protocol=pickle.HIGHEST_PROTOCOL)\n",
    "        report_training_results(y_true, y_pred, name=\"BERTClassifier - {}\".format(run_name), heatmap=False)\n",
    "        plot_confusion_matrix(y_true, y_pred, labels=[0, 1], title=\"Cross Epoch {}\".format(epoch_id), values_format=\"d\", cmap=\"Blues\", include_colorbar=False)\n",
    "        plt.show()"
   ]
  },
  {
   "cell_type": "code",
   "execution_count": null,
   "metadata": {},
   "outputs": [],
   "source": []
  }
 ],
 "metadata": {
  "kernelspec": {
   "display_name": "Python 3",
   "language": "python",
   "name": "python3"
  },
  "language_info": {
   "codemirror_mode": {
    "name": "ipython",
    "version": 3
   },
   "file_extension": ".py",
   "mimetype": "text/x-python",
   "name": "python",
   "nbconvert_exporter": "python",
   "pygments_lexer": "ipython3",
   "version": "3.7.3"
  },
  "varInspector": {
   "cols": {
    "lenName": 16,
    "lenType": 16,
    "lenVar": 40
   },
   "kernels_config": {
    "python": {
     "delete_cmd_postfix": "",
     "delete_cmd_prefix": "del ",
     "library": "var_list.py",
     "varRefreshCmd": "print(var_dic_list())"
    },
    "r": {
     "delete_cmd_postfix": ") ",
     "delete_cmd_prefix": "rm(",
     "library": "var_list.r",
     "varRefreshCmd": "cat(var_dic_list()) "
    }
   },
   "types_to_exclude": [
    "module",
    "function",
    "builtin_function_or_method",
    "instance",
    "_Feature"
   ],
   "window_display": false
  }
 },
 "nbformat": 4,
 "nbformat_minor": 2
}
