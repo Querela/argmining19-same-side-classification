{
 "cells": [
  {
   "cell_type": "markdown",
   "metadata": {},
   "source": [
    "# Datasets (Sentiment) - Yelp - Categories"
   ]
  },
  {
   "cell_type": "markdown",
   "metadata": {},
   "source": [
    "## Yelp\n",
    "\n",
    "- https://www.yelp.com/dataset/documentation/main\n",
    "- https://www.yelp.com/developers/documentation/v3/all_category_list"
   ]
  },
  {
   "cell_type": "code",
   "execution_count": null,
   "metadata": {},
   "outputs": [],
   "source": [
    "#! wget -O data/sentiment/yelp/all_category_list.json https://www.yelp.com/developers/documentation/v3/all_category_list/categories.json"
   ]
  },
  {
   "cell_type": "code",
   "execution_count": null,
   "metadata": {},
   "outputs": [],
   "source": []
  },
  {
   "cell_type": "code",
   "execution_count": null,
   "metadata": {},
   "outputs": [],
   "source": [
    "#! pip install jsonlines"
   ]
  },
  {
   "cell_type": "code",
   "execution_count": null,
   "metadata": {},
   "outputs": [],
   "source": [
    "#! pip install syntok"
   ]
  },
  {
   "cell_type": "code",
   "execution_count": 1,
   "metadata": {
    "ExecuteTime": {
     "end_time": "2020-05-25T09:52:14.905825Z",
     "start_time": "2020-05-25T09:52:14.315598Z"
    }
   },
   "outputs": [
    {
     "name": "stderr",
     "output_type": "stream",
     "text": [
      "/disk1/users/ekoerner/miniconda3/envs/argmining19-ssc/lib/python3.7/site-packages/tqdm/std.py:658: FutureWarning: The Panel class is removed from pandas. Accessing it from the top-level namespace will also be removed in the next version\n",
      "  from pandas import Panel\n"
     ]
    },
    {
     "data": {
      "text/plain": [
       "[]"
      ]
     },
     "execution_count": 1,
     "metadata": {},
     "output_type": "execute_result"
    },
    {
     "data": {
      "image/png": "[encoded data removed]",
      "text/plain": [
       "<Figure size 432x288 with 1 Axes>"
      ]
     },
     "metadata": {
      "needs_background": "light"
     },
     "output_type": "display_data"
    }
   ],
   "source": [
    "import json\n",
    "import os\n",
    "import random\n",
    "import pickle\n",
    "from collections import Counter\n",
    "from copy import deepcopy\n",
    "from itertools import combinations, groupby\n",
    "from pathlib import Path\n",
    "from pprint import pprint\n",
    "\n",
    "import jsonlines\n",
    "import matplotlib.pyplot as plt\n",
    "import numpy as np\n",
    "import pandas as pd\n",
    "import seaborn as sn\n",
    "import scipy.spatial.distance as ssd\n",
    "from IPython.display import set_matplotlib_formats\n",
    "from scipy.cluster import hierarchy\n",
    "from sklearn.cluster import AgglomerativeClustering, SpectralClustering\n",
    "from sklearn.metrics import pairwise_distances\n",
    "from sklearn.metrics.pairwise import cosine_similarity, linear_kernel\n",
    "from syntok.tokenizer import Tokenizer\n",
    "from tqdm import tqdm\n",
    "\n",
    "tqdm.pandas()\n",
    "\n",
    "%matplotlib inline\n",
    "plt.rcParams.update({\"font.size\": 25, \"font.weight\": \"bold\"})\n",
    "# https://stackoverflow.com/questions/36622237/jupyter-notebook-inline-plots-as-svg\n",
    "# set_matplotlib_formats(\"svg\")  # glitches it\n",
    "plt.plot()"
   ]
  },
  {
   "cell_type": "code",
   "execution_count": 2,
   "metadata": {
    "ExecuteTime": {
     "end_time": "2020-05-25T09:52:15.648956Z",
     "start_time": "2020-05-25T09:52:15.148633Z"
    }
   },
   "outputs": [],
   "source": [
    "from utils_data import init_random\n",
    "init_random()"
   ]
  },
  {
   "cell_type": "code",
   "execution_count": 3,
   "metadata": {
    "ExecuteTime": {
     "end_time": "2020-05-25T09:52:15.790984Z",
     "start_time": "2020-05-25T09:52:15.786910Z"
    }
   },
   "outputs": [],
   "source": [
    "# download + scp to cuda + extract\n",
    "# Path on CUDA2\n",
    "data_yelp_path = Path(\"/disk1/users/ekoerner/argmining19-same-side-classification/data/sentiment/yelp/\")\n",
    "# CUDA1?\n",
    "#data_yelp_path = Path(\"/disk1/users/ekoerner/same-side-classification/argmining19-same-side-classification/data/sentiment/yelp/\")"
   ]
  },
  {
   "cell_type": "markdown",
   "metadata": {},
   "source": [
    "---"
   ]
  },
  {
   "cell_type": "markdown",
   "metadata": {},
   "source": [
    "#### Load reviews / categories (topics) + filter cats/make combinations"
   ]
  },
  {
   "cell_type": "code",
   "execution_count": 4,
   "metadata": {
    "ExecuteTime": {
     "end_time": "2020-05-25T09:52:19.846925Z",
     "start_time": "2020-05-25T09:52:19.827613Z"
    },
    "code_folding": [
     0,
     28
    ],
    "jupyter": {
     "source_hidden": true
    }
   },
   "outputs": [],
   "source": [
    "def load_reviews(fn_yelp_reviews):\n",
    "    \"\"\"Load Yelp reviews. Return a Pandas dataframe.\n",
    "    Format: {\"id\": business_id, \"rid\": review_id, \"text\": text, \"rating\": rating}\n",
    "    And add goodness bool (rating > 3).\"\"\"\n",
    "    data = list()\n",
    "\n",
    "    with jsonlines.open(fn_yelp_reviews, \"r\") as fp:\n",
    "        for n, entry in enumerate(tqdm(fp)):\n",
    "            # print(entry)\n",
    "            # break\n",
    "            business_id = entry.pop(\"business_id\")\n",
    "            review_id = entry.pop(\"review_id\")\n",
    "            text = entry.pop(\"text\", \"\")\n",
    "            rating = entry.pop(\"stars\", 0.0)\n",
    "            data.append({\"id\": business_id, \"rid\": review_id, \"text\": text, \"rating\": rating})\n",
    "            # TESTING\n",
    "            # if n > 10000:\n",
    "            #     break\n",
    "\n",
    "    df = pd.DataFrame.from_dict(data)\n",
    "    \n",
    "    # Add goodness value\n",
    "    # TODO: maybe ignore with 3\n",
    "    df[\"goodness\"] = df[\"rating\"] > 3\n",
    "    \n",
    "    return df\n",
    "\n",
    "\n",
    "def load_topics(fn_yelp_topics, bids_not_cats=None, filter_cats=None, filter_cat_combis=None):\n",
    "    \"\"\"Load topics (categories).\n",
    "    Optionally filter by giving it a whitelist of allowed categories.\n",
    "    Optionally filter by giving a list of allowed category combinations.\n",
    "    Optionally provide an IN/OUT param ``bids_not_cats`` that accumulates business ids without categories.\"\"\"\n",
    "    inv_bid_cats = dict()\n",
    "    if bids_not_cats is None or not isinstance(bids_not_cats, set):\n",
    "        bids_not_cats = set()\n",
    "    \n",
    "    # load lookup business -> categories\n",
    "    with jsonlines.open(fn_yelp_topics, \"r\") as fp:\n",
    "        for n, entry in enumerate(tqdm(fp)):\n",
    "            business_id = entry.pop(\"business_id\")\n",
    "            categories = entry.pop(\"categories\")\n",
    "\n",
    "            if not categories:\n",
    "                bids_not_cats.add(business_id)\n",
    "                continue\n",
    "\n",
    "            categories = categories.split(\", \")\n",
    "            \n",
    "            if filter_cats:\n",
    "                categories = [c for c in categories if c in filter_cats]\n",
    "                if not categories:\n",
    "                    # bids_not_cats.add(business_id)  # ??\n",
    "                    continue\n",
    "                    \n",
    "            if filter_cat_combis:\n",
    "                # skip if combination is not above threshold (of filter list)\n",
    "                if tuple(sorted(set(categories))) not in filter_cat_combis:\n",
    "                    continue\n",
    "\n",
    "            inv_bid_cats[business_id] = categories\n",
    "    \n",
    "    return inv_bid_cats"
   ]
  },
  {
   "cell_type": "code",
   "execution_count": 5,
   "metadata": {
    "ExecuteTime": {
     "end_time": "2020-05-25T09:52:20.111088Z",
     "start_time": "2020-05-25T09:52:20.098533Z"
    },
    "code_folding": [
     0,
     11,
     30
    ],
    "jupyter": {
     "source_hidden": true
    }
   },
   "outputs": [],
   "source": [
    "def filter_min_cat_combis(inv_cat_combis, min_num=30):\n",
    "    \"\"\"Filter category combinations by minimum amount of occurrences in businesses\"\"\"\n",
    "    f_inv_cat_combis = dict()\n",
    "    \n",
    "    for cats, num in inv_cat_combis.items():\n",
    "        if num >= min_num:\n",
    "            f_inv_cat_combis[cats] = num\n",
    "    \n",
    "    return f_inv_cat_combis\n",
    "\n",
    "\n",
    "def make_map_cats(inv_bid_cats):\n",
    "    \"\"\"Make a map from category to business id\"\"\"\n",
    "    inv_cat_bids = dict()\n",
    "\n",
    "    # reverse lookup: category -> businesses\n",
    "    for bid, cats in tqdm(inv_bid_cats.items()):\n",
    "        for cat in cats:\n",
    "            try:\n",
    "                inv_cat_bids[cat].append(bid)\n",
    "            except KeyError:\n",
    "                inv_cat_bids[cat] = [bid]\n",
    "                \n",
    "    ## TODO: make distinct?\n",
    "    for cat in inv_cat_bids.keys():\n",
    "        inv_cat_bids[cat] = list(set(inv_cat_bids[cat]))\n",
    "                \n",
    "    return inv_cat_bids\n",
    "\n",
    "\n",
    "def make_cat_combis(inv_bid_cats):\n",
    "    \"\"\"Count amount of each category combination occurring in businesses\"\"\"\n",
    "    inv_cat_combis = Counter()\n",
    "\n",
    "    inv_cat_combis.update(\n",
    "        (tuple(sorted(set(cats))) for cats in tqdm(inv_bid_cats.values())))\n",
    "    \n",
    "    return inv_cat_combis"
   ]
  },
  {
   "cell_type": "markdown",
   "metadata": {},
   "source": [
    "#### Filter reviews according to criteria"
   ]
  },
  {
   "cell_type": "code",
   "execution_count": 6,
   "metadata": {
    "ExecuteTime": {
     "end_time": "2020-05-25T09:52:22.183788Z",
     "start_time": "2020-05-25T09:52:22.171415Z"
    },
    "code_folding": [
     0,
     16
    ],
    "jupyter": {
     "source_hidden": true
    }
   },
   "outputs": [],
   "source": [
    "def filter_min_review_freq(df, min_ratings=5):\n",
    "    \"\"\"Filter review dataframe for a minimum of N of each good and bad ratings.\"\"\"\n",
    "    # filter with at least N ratings per goodness\n",
    "    df_filter = df.groupby([\"id\", \"goodness\"])[[\"id\"]].count() < min_ratings\n",
    "    df_filter = df_filter.rename(columns={\"id\": \"filter\"})\n",
    "    df_filter = df_filter[df_filter[\"filter\"] == True]\n",
    "\n",
    "    # build a filter id list\n",
    "    df_filter_list = df_filter.reset_index()[\"id\"].to_list()\n",
    "\n",
    "    # filter with list\n",
    "    df_filtered = df[~df.id.isin(df_filter_list)]\n",
    "    \n",
    "    return df_filtered\n",
    "\n",
    "\n",
    "def filter_both_good_bad(df):\n",
    "    \"\"\"Filter the dataframe to contain only both good and bad reviews for each business.\n",
    "    Dataframe should be the same if minimum filtering above is done.\"\"\"\n",
    "    # build filter for ids that contain both positive and negative samples\n",
    "    df_filter = df.groupby([\"id\", \"goodness\"], as_index=False).count().groupby(\"id\")[[\"id\"]].count() == 2\n",
    "    df_filter = df_filter.rename(columns={\"id\": \"filter\"})\n",
    "    df_filter = df_filter[df_filter[\"filter\"] == True]\n",
    "\n",
    "    # create list of IDs for which this is true\n",
    "    df_filter_list = df_filter.reset_index()[\"id\"].to_list()\n",
    "\n",
    "    # filter with list\n",
    "    df_filtered = df[df.id.isin(df_filter_list)]\n",
    "\n",
    "    # df_filtered.groupby([\"id\", \"goodness\"]).count()\n",
    "    return df_filtered"
   ]
  },
  {
   "cell_type": "code",
   "execution_count": 7,
   "metadata": {
    "ExecuteTime": {
     "end_time": "2020-05-25T09:52:22.384186Z",
     "start_time": "2020-05-25T09:52:22.377841Z"
    },
    "code_folding": [
     0,
     7
    ],
    "jupyter": {
     "source_hidden": true
    }
   },
   "outputs": [],
   "source": [
    "def filter_by_businesses(df, lst_business_ids):\n",
    "    # filter with list, keep businesses in list\n",
    "    df_filtered = df[df.id.isin(set(lst_business_ids))]\n",
    "\n",
    "    return df_filtered\n",
    "\n",
    "\n",
    "def filter_by_businesses_not_same(df, lst_business_ids):\n",
    "    # filter with list, keep businesses that are not in list\n",
    "    df_filtered = df[~df.id.isin(set(lst_business_ids))]\n",
    "\n",
    "    return df_filtered"
   ]
  },
  {
   "cell_type": "markdown",
   "metadata": {},
   "source": [
    "#### Get topN categories + make Ntuples from category combinations"
   ]
  },
  {
   "cell_type": "code",
   "execution_count": 8,
   "metadata": {
    "ExecuteTime": {
     "end_time": "2020-05-25T09:52:22.837095Z",
     "start_time": "2020-05-25T09:52:22.827303Z"
    },
    "code_folding": [
     0,
     7
    ],
    "jupyter": {
     "source_hidden": true
    }
   },
   "outputs": [],
   "source": [
    "def get_Ntop_cats(inv_cat_bids, n=50):\n",
    "    # get most common cats\n",
    "    f_cat_cnt = Counter({k: len(v) for k, v in inv_cat_bids.items()})\n",
    "    f_cats = {c for c, v in f_cat_cnt.most_common(n)}\n",
    "    return f_cats\n",
    "\n",
    "\n",
    "def make_cat_Ntuples(f_inv_cat_combis, n=2):\n",
    "    f_cat_pairs = Counter()\n",
    "\n",
    "    for cat_group in tqdm(f_inv_cat_combis.keys()):\n",
    "        if len(cat_group) < n:\n",
    "            continue\n",
    "        it = combinations(cat_group, n)\n",
    "        # repeat (#num_businesses) + chain combis\n",
    "        f_cat_pairs.update(it)\n",
    "        \n",
    "    return f_cat_pairs"
   ]
  },
  {
   "cell_type": "markdown",
   "metadata": {},
   "source": [
    "#### Make category graph or NxN map (df + array)"
   ]
  },
  {
   "cell_type": "code",
   "execution_count": 9,
   "metadata": {
    "ExecuteTime": {
     "end_time": "2020-05-25T09:52:24.807433Z",
     "start_time": "2020-05-25T09:52:24.793721Z"
    },
    "code_folding": [
     0,
     9
    ],
    "jupyter": {
     "source_hidden": true
    }
   },
   "outputs": [],
   "source": [
    "def make_graph(f_cat_pairs):\n",
    "    g_from, g_to, g_value = zip(*((k1, k2, n) for (k1, k2), n in tqdm(f_cat_pairs.most_common())))\n",
    "\n",
    "    g_df = pd.DataFrame({\"from\": g_from, \"to\": g_to, \"value\": g_value})\n",
    "    G = nx.from_pandas_edgelist(g_df, \"from\", \"to\", create_using=nx.Graph())\n",
    "    \n",
    "    return G\n",
    "\n",
    "\n",
    "def make_NxN_map(f_cats, f_cat_pairs):\n",
    "    f_cats = list(f_cats)\n",
    "    array = list()\n",
    "    for i, cat1 in enumerate(tqdm(f_cats)):\n",
    "        array_row = list()\n",
    "        for j, cat2 in enumerate(f_cats):\n",
    "            array_row.append(f_cat_pairs.get((cat1, cat2), f_cat_pairs.get((cat2, cat1), 0)))\n",
    "        array.append(array_row)\n",
    "    df_cm = pd.DataFrame(array, index=list(f_cats), columns=list(f_cats))\n",
    "    \n",
    "    # dataframe, NxN array + labels\n",
    "    return df_cm, array, f_cats"
   ]
  },
  {
   "cell_type": "markdown",
   "metadata": {},
   "source": [
    "---"
   ]
  },
  {
   "cell_type": "markdown",
   "metadata": {},
   "source": [
    "#### Load categories hierarchy"
   ]
  },
  {
   "cell_type": "code",
   "execution_count": 10,
   "metadata": {
    "ExecuteTime": {
     "end_time": "2020-05-25T09:52:25.582403Z",
     "start_time": "2020-05-25T09:52:25.560666Z"
    },
    "code_folding": [
     0,
     30,
     40
    ],
    "jupyter": {
     "source_hidden": true
    }
   },
   "outputs": [],
   "source": [
    "def load_category_tree(fn_all_category_list):\n",
    "    with open(fn_all_category_list, \"r\") as fp:\n",
    "        content = fp.read()\n",
    "        data = json.loads(content)\n",
    "\n",
    "    map_categories = dict()\n",
    "    map_cat_name2id = dict()\n",
    "    lst_root_categories = list()\n",
    "\n",
    "    # load basic lookups\n",
    "    for item in data:\n",
    "        # .alias (id)\n",
    "        map_categories[item[\"alias\"]] = item\n",
    "        # .title\n",
    "        map_cat_name2id[item[\"title\"]] = item[\"alias\"]\n",
    "        # .parents\n",
    "        # some have multiple parents ...\n",
    "        if not item[\"parents\"]:\n",
    "            lst_root_categories.append(item[\"alias\"])\n",
    "        # add list of children\n",
    "        item[\"children\"] = list()\n",
    "\n",
    "    # add children\n",
    "    for cid, item in map_categories.items():\n",
    "        for parent_cid in item[\"parents\"]:\n",
    "            map_categories[parent_cid][\"children\"].append(item[\"alias\"])\n",
    "\n",
    "    return map_categories, map_cat_name2id, lst_root_categories\n",
    "\n",
    "\n",
    "def get_root_category_items(map_categories):\n",
    "    lst_root_categories = list()\n",
    "\n",
    "    for cid, item in map_categories.items():\n",
    "        if not item[\"parents\"]:\n",
    "            lst_root_categories.append(item)\n",
    "            \n",
    "    return lst_root_categories\n",
    "\n",
    "\n",
    "def get_children_category_item_list(map_categories, parent_cid):\n",
    "    return [\n",
    "        map_categories[child_cid]\n",
    "        for child_cid in map_categories[parent_cid][\"children\"]\n",
    "    ]"
   ]
  },
  {
   "cell_type": "markdown",
   "metadata": {},
   "source": [
    "##### Get businesses in categories"
   ]
  },
  {
   "cell_type": "code",
   "execution_count": 11,
   "metadata": {
    "ExecuteTime": {
     "end_time": "2020-05-25T09:52:28.177244Z",
     "start_time": "2020-05-25T09:52:28.167066Z"
    },
    "code_folding": [
     0,
     7
    ],
    "jupyter": {
     "source_hidden": true
    }
   },
   "outputs": [],
   "source": [
    "def get_businesses_in_category(inv_cat_bids, category):\n",
    "    try:\n",
    "        return list(set(inv_cat_bids[category]))\n",
    "    except KeyError:\n",
    "        return []\n",
    "    \n",
    "    \n",
    "def get_businesses_in_category_branch(inv_cat_bids, category, map_categories, map_cat_name2id):\n",
    "    map_cat_id2name = {cid: name for name, cid in map_cat_name2id.items()}\n",
    "\n",
    "    def _get_recursive_businesses(cat_name):\n",
    "        businesses = get_businesses_in_category(inv_cat_bids, cat_name)\n",
    "\n",
    "        cid = map_cat_name2id[cat_name]\n",
    "        for child_cid in map_categories[cid][\"children\"]:\n",
    "            child_name = map_cat_id2name[child_cid]\n",
    "            businesses.extend(_get_recursive_businesses(child_name))\n",
    "        \n",
    "        return businesses\n",
    "    \n",
    "    return _get_recursive_businesses(category)"
   ]
  },
  {
   "cell_type": "markdown",
   "metadata": {},
   "source": [
    "##### Print category trees"
   ]
  },
  {
   "cell_type": "code",
   "execution_count": 12,
   "metadata": {
    "ExecuteTime": {
     "end_time": "2020-05-25T09:52:29.242019Z",
     "start_time": "2020-05-25T09:52:29.205730Z"
    },
    "code_folding": [
     0,
     19,
     49,
     85,
     106
    ],
    "jupyter": {
     "source_hidden": true
    }
   },
   "outputs": [],
   "source": [
    "def print_category_tree(map_categories):\n",
    "    root_categories = get_root_category_items(map_categories)\n",
    "    \n",
    "    def _print_cat_list_rec(lst_cats, level=0):\n",
    "        for item in sorted(lst_cats, key=lambda x: x[\"title\"]):\n",
    "            if level:\n",
    "                print(\"  \" * level, end=\"\")\n",
    "            print(f\"\"\"{item[\"title\"]} [{item[\"alias\"]}]\"\"\", end=\"\")\n",
    "            if item[\"children\"]:\n",
    "                print(f\"\"\" [#{len(item[\"children\"])} children]\"\"\")\n",
    "            else:\n",
    "                print()\n",
    "            \n",
    "            children = get_children_category_item_list(map_categories, item[\"alias\"])\n",
    "            _print_cat_list_rec(children, level=level + 1)\n",
    "            \n",
    "    _print_cat_list_rec(root_categories, level=0)\n",
    "\n",
    "\n",
    "def print_category_tree_with_num_businesses(map_categories, inv_cat_bids):\n",
    "    root_categories = get_root_category_items(map_categories)\n",
    "    \n",
    "    def _print_cat_list_rec(lst_cats, level=0):\n",
    "        for item in sorted(lst_cats, key=lambda x: x[\"title\"]):\n",
    "            cur_line = \" .\" * 30\n",
    "            parts = list()\n",
    "\n",
    "            if level:\n",
    "                parts.append(\"  \" * level)\n",
    "            parts.append(f\"\"\"{item[\"title\"]} [{item[\"alias\"]}]\"\"\")\n",
    "            \n",
    "            str_len = sum(len(part) for part in parts)\n",
    "            print(\"\".join(part for part in parts), end=\"\")\n",
    "            print(cur_line[str_len:], end=\"\")\n",
    "            \n",
    "            if item[\"title\"] not in inv_cat_bids:\n",
    "                print(\" No businesses associated!\")\n",
    "            else:\n",
    "                print(f\"\"\" {len((inv_cat_bids[item[\"title\"]])):>5d} businesses\"\"\")\n",
    "            \n",
    "            children = get_children_category_item_list(map_categories, item[\"alias\"])\n",
    "            _print_cat_list_rec(children, level=level + 1)\n",
    "            \n",
    "            if level == 0:\n",
    "                print()\n",
    "            \n",
    "    _print_cat_list_rec(root_categories, level=0)\n",
    "    \n",
    "\n",
    "def print_category_tree_with_num_businesses_rec(map_categories, inv_cat_bids, map_cat_name2id):\n",
    "    root_categories = get_root_category_items(map_categories)\n",
    "    \n",
    "    def _print_cat_list_rec(lst_cats, level=0):\n",
    "        for item in sorted(lst_cats, key=lambda x: x[\"title\"]):\n",
    "            cur_line = \" .\" * 30\n",
    "            parts = list()\n",
    "\n",
    "            if level:\n",
    "                parts.append(\"  \" * level)\n",
    "            parts.append(f\"\"\"{item[\"title\"]} [{item[\"alias\"]}]\"\"\")\n",
    "            \n",
    "            str_len = sum(len(part) for part in parts)\n",
    "            print(\"\".join(part for part in parts), end=\"\")\n",
    "            print(cur_line[str_len:], end=\"\")\n",
    "            \n",
    "            businesses = get_businesses_in_category_branch(inv_cat_bids, item[\"title\"], map_categories, map_cat_name2id)\n",
    "            businesses_self = get_businesses_in_category(inv_cat_bids, item[\"title\"])\n",
    "            if not businesses:\n",
    "                print(\" No businesses associated!\")\n",
    "            else:\n",
    "                businesses = set(businesses)\n",
    "                print(f\"\"\" {len(businesses):>5d} businesses\"\"\", end=\"\")\n",
    "                if len(businesses) != len(businesses_self):\n",
    "                    print(f\"\"\" (self: {len(businesses_self)})\"\"\", end=\"\")\n",
    "                print()\n",
    "            \n",
    "            children = get_children_category_item_list(map_categories, item[\"alias\"])\n",
    "            _print_cat_list_rec(children, level=level + 1)\n",
    "            \n",
    "            if level == 0:\n",
    "                print()\n",
    "            \n",
    "    _print_cat_list_rec(root_categories, level=0)\n",
    "    \n",
    "    \n",
    "def print_category_tree_with_num_businesses_root(map_categories, inv_cat_bids, map_cat_name2id):\n",
    "    root_categories = get_root_category_items(map_categories)\n",
    "    \n",
    "    for item in sorted(root_categories, key=lambda x: x[\"title\"]):\n",
    "        cur_line = \" .\" * 25\n",
    "        parts = [f\"\"\"{item[\"title\"]} [{item[\"alias\"]}] \"\"\"]\n",
    "\n",
    "        str_len = sum(len(part) for part in parts)\n",
    "        print(\"\".join(part for part in parts), end=\"\")\n",
    "        print(cur_line[str_len:], end=\"\")\n",
    "\n",
    "        businesses = get_businesses_in_category_branch(inv_cat_bids, item[\"title\"], map_categories, map_cat_name2id)\n",
    "        businesses_self = get_businesses_in_category(inv_cat_bids, item[\"title\"])\n",
    "\n",
    "        businesses = set(businesses)\n",
    "        print(f\"\"\" {len(businesses):>5d} businesses\"\"\", end=\"\")\n",
    "        if len(businesses) != len(businesses_self):\n",
    "            print(f\"\"\" (self: {len(businesses_self)})\"\"\", end=\"\")\n",
    "        print()\n",
    "        \n",
    "\n",
    "def print_category_tree_with_num_businesses_root2(map_categories, inv_cat_bids, map_cat_name2id):\n",
    "    root_categories = get_root_category_items(map_categories)\n",
    "    for item in root_categories:\n",
    "        item[\"businesses\"] = get_businesses_in_category_branch(inv_cat_bids, item[\"title\"], map_categories, map_cat_name2id)\n",
    "        item[\"businesses_self\"] = get_businesses_in_category(inv_cat_bids, item[\"title\"])\n",
    "    \n",
    "    for item in sorted(root_categories, key=lambda x: len(set(x[\"businesses\"]))):\n",
    "        cur_line = \" .\" * 25\n",
    "        parts = [f\"\"\"{item[\"title\"]} [{item[\"alias\"]}] \"\"\"]\n",
    "\n",
    "        str_len = sum(len(part) for part in parts)\n",
    "        print(\"\".join(part for part in parts), end=\"\")\n",
    "        print(cur_line[str_len:], end=\"\")\n",
    "\n",
    "        businesses = item[\"businesses\"]\n",
    "        businesses_self = item[\"businesses_self\"]\n",
    "\n",
    "        businesses = set(businesses)\n",
    "        print(f\"\"\" {len(businesses):>5d} businesses\"\"\", end=\"\")\n",
    "        if len(businesses) != len(businesses_self):\n",
    "            print(f\"\"\" (self: {len(businesses_self)})\"\"\", end=\"\")\n",
    "        print()"
   ]
  },
  {
   "cell_type": "code",
   "execution_count": 13,
   "metadata": {
    "jupyter": {
     "source_hidden": true
    }
   },
   "outputs": [],
   "source": [
    "def print_category_tree_with_num_reviews_root(map_categories, inv_cat_bids, map_cat_name2id, df_reviews):\n",
    "    root_categories = get_root_category_items(map_categories)\n",
    "    \n",
    "    for item in sorted(root_categories, key=lambda x: x[\"title\"]):\n",
    "        cur_line = \" .\" * 25\n",
    "        parts = [f\"\"\"{item[\"title\"]} [{item[\"alias\"]}] \"\"\"]\n",
    "\n",
    "        str_len = sum(len(part) for part in parts)\n",
    "        print(\"\".join(part for part in parts), end=\"\")\n",
    "        print(cur_line[str_len:], end=\"\")\n",
    "\n",
    "        businesses = get_businesses_in_category_branch(inv_cat_bids, item[\"title\"], map_categories, map_cat_name2id)\n",
    "        # businesses_self = get_businesses_in_category(inv_cat_bids, item[\"title\"])\n",
    "        \n",
    "        df_reviews_filtered = filter_by_businesses(df_reviews, businesses)\n",
    "        num_reviews = df_reviews_filtered.rid.count()\n",
    "\n",
    "        print(f\"\"\" {num_reviews:>8d} reviews\"\"\")"
   ]
  },
  {
   "cell_type": "markdown",
   "metadata": {},
   "source": [
    "##### Make category comparisons"
   ]
  },
  {
   "cell_type": "code",
   "execution_count": 14,
   "metadata": {
    "ExecuteTime": {
     "end_time": "2020-05-25T09:52:31.432925Z",
     "start_time": "2020-05-25T09:52:31.423857Z"
    },
    "code_folding": [
     0
    ],
    "jupyter": {
     "source_hidden": true
    }
   },
   "outputs": [],
   "source": [
    "def print_2category_compare(inv_cat_bids, map_categories, map_cat_name2id, cat_name_i, cat_name_j):\n",
    "    businesses_i = get_businesses_in_category_branch(inv_cat_bids, cat_name_i, map_categories, map_cat_name2id)\n",
    "    businesses_j = get_businesses_in_category_branch(inv_cat_bids, cat_name_j, map_categories, map_cat_name2id)\n",
    "    \n",
    "    cat_name_i += \":\"\n",
    "    cat_name_j += \":\"\n",
    "    width = max(12, len(cat_name_i), len(cat_name_j))\n",
    "\n",
    "    print(f\"\"\"{cat_name_i:<{width}} {len(set(businesses_i)):>5d}\"\"\")\n",
    "    print(f\"\"\"{cat_name_j:<{width}} {len(set(businesses_j)):>5d}\"\"\")\n",
    "    print(f\"\"\"Both: {\"same:\":>{width - 6}} {len(set(businesses_i) & set(businesses_j)):>5d}\"\"\")\n",
    "    print(f\"\"\"{\"total:\":>{width}} {len(set(businesses_i) | set(businesses_j)):>5d}\"\"\")"
   ]
  },
  {
   "cell_type": "code",
   "execution_count": 15,
   "metadata": {
    "ExecuteTime": {
     "end_time": "2020-05-25T09:52:31.675547Z",
     "start_time": "2020-05-25T09:52:31.663367Z"
    },
    "code_folding": [
     0
    ],
    "jupyter": {
     "source_hidden": true
    }
   },
   "outputs": [],
   "source": [
    "def make_NxN_category_businesses_overlap(inv_cat_bids, map_categories, map_cat_name2id):\n",
    "    root_categories = get_root_category_items(map_categories)\n",
    "    root_categories = sorted(root_categories, key=lambda x: x[\"title\"])\n",
    "    root_category_labels = [x[\"title\"] for x in root_categories]\n",
    "    \n",
    "    array = list()\n",
    "    for cname_i in root_category_labels:\n",
    "        array_line = list()\n",
    "        for cname_j in root_category_labels:\n",
    "            businesses_i = get_businesses_in_category_branch(inv_cat_bids, cname_i, map_categories, map_cat_name2id)\n",
    "            businesses_j = get_businesses_in_category_branch(inv_cat_bids, cname_j, map_categories, map_cat_name2id)\n",
    "            businesses_i, businesses_j = set(businesses_i), set(businesses_j)\n",
    "            businesses_ij_union = businesses_i | businesses_j\n",
    "            businesses_ij_intersect = businesses_i & businesses_j\n",
    "            num_businesses_ij = len(businesses_ij_intersect)\n",
    "            #array_line.append(num_businesses_ij)\n",
    "            array_line.append(len(businesses_ij_intersect) / len(businesses_ij_union))\n",
    "        array.append(array_line)\n",
    "    \n",
    "    df_cm = pd.DataFrame(array, index=list(root_category_labels), columns=list(root_category_labels))\n",
    "    \n",
    "    return array, root_category_labels, df_cm"
   ]
  },
  {
   "cell_type": "markdown",
   "metadata": {},
   "source": [
    "##### text length comparisons?"
   ]
  },
  {
   "cell_type": "code",
   "execution_count": 16,
   "metadata": {
    "ExecuteTime": {
     "end_time": "2020-05-25T09:52:33.641093Z",
     "start_time": "2020-05-25T09:52:33.634436Z"
    },
    "code_folding": [
     0
    ],
    "jupyter": {
     "source_hidden": true
    }
   },
   "outputs": [],
   "source": [
    "def get_reviews_for_category(df, cat_name, inv_cat_bids, map_categories, map_cat_name2id):\n",
    "    businesses = get_businesses_in_category_branch(inv_cat_bids, cat_name, map_categories, map_cat_name2id)\n",
    "    print(f\"\"\"{cat_name}: {len(businesses)}, uniq: {len(set(businesses))}\"\"\")\n",
    "    businesses = set(businesses)\n",
    "\n",
    "    df_businesses = filter_by_businesses(df, businesses)\n",
    "\n",
    "    return df_businesses"
   ]
  },
  {
   "cell_type": "markdown",
   "metadata": {},
   "source": [
    "##### Cache root category reviews in dataframes"
   ]
  },
  {
   "cell_type": "code",
   "execution_count": 17,
   "metadata": {
    "ExecuteTime": {
     "end_time": "2020-05-25T09:52:36.102987Z",
     "start_time": "2020-05-25T09:52:36.087219Z"
    },
    "code_folding": [
     3,
     27
    ],
    "jupyter": {
     "source_hidden": true
    }
   },
   "outputs": [],
   "source": [
    "dn_yelp_cached = data_yelp_path / \"cached\"\n",
    "\n",
    "\n",
    "def cache_root_category_businesses_df(df, inv_cat_bids, map_categories, map_cat_name2id):\n",
    "    root_categories = get_root_category_items(map_categories)\n",
    "    root_categories = sorted(root_categories, key=lambda x: x[\"title\"])\n",
    "    \n",
    "    dn_yelp_cached = data_yelp_path / \"cached\"\n",
    "    if not dn_yelp_cached.exists():\n",
    "        print(f\"Create cache dir: {dn_yelp_cached}\")\n",
    "        dn_yelp_cached.mkdir()\n",
    "        \n",
    "    for root_category in root_categories:\n",
    "        fn_yelp_cached_root_cat_df = dn_yelp_cached / f\"\"\"{root_category[\"alias\"]}_businesses.df.p\"\"\"\n",
    "        if fn_yelp_cached_root_cat_df.exists():\n",
    "            continue\n",
    "\n",
    "        business_ids = set(get_businesses_in_category_branch(inv_cat_bids, root_category[\"title\"], map_categories, map_cat_name2id))\n",
    "        # business_ids = set(root_category[\"businesses\"])\n",
    "        print(f\"\"\"Filter category {root_category[\"title\"]} [{root_category[\"alias\"]}] with {len(set(business_ids))} businesses ...\"\"\")\n",
    "        df_root_cat = filter_by_businesses(df, business_ids)\n",
    "\n",
    "        # df_root_cat = get_reviews_for_category(df, cat_name, inv_cat_bids, map_categories, map_cat_name2id)\n",
    "\n",
    "        df_root_cat.to_pickle(str(fn_yelp_cached_root_cat_df))\n",
    "        \n",
    "        \n",
    "def load_cached_root_category_businesses_df(category_label, map_categories):\n",
    "    root_categories = get_root_category_items(map_categories)\n",
    "    root_categories = sorted(root_categories, key=lambda x: x[\"title\"])\n",
    "\n",
    "    for root_category in root_categories:\n",
    "        if root_category[\"title\"] == category_label:\n",
    "            category_id = root_category[\"alias\"]\n",
    "            break\n",
    "    else:\n",
    "        print(f\"No cached root category businesses found for: {category_label}\")\n",
    "        return None\n",
    "\n",
    "    fn_yelp_cached_root_cat_df = dn_yelp_cached / f\"{category_id}_businesses.df.p\"\n",
    "    if not fn_yelp_cached_root_cat_df.exists():\n",
    "        return None\n",
    "    \n",
    "    df_root_cat = pd.read_pickle(str(fn_yelp_cached_root_cat_df))\n",
    "    return df_root_cat"
   ]
  },
  {
   "cell_type": "markdown",
   "metadata": {},
   "source": [
    "##### Filter other category businesses"
   ]
  },
  {
   "cell_type": "code",
   "execution_count": 18,
   "metadata": {
    "ExecuteTime": {
     "end_time": "2020-05-25T09:52:38.506865Z",
     "start_time": "2020-05-25T09:52:38.497050Z"
    },
    "code_folding": [
     0
    ],
    "jupyter": {
     "source_hidden": true
    }
   },
   "outputs": [],
   "source": [
    "def filter_root_category_businesses_uniq(category_label, inv_cat_bids, map_categories, map_cat_name2id):\n",
    "    df_root_cat = load_cached_root_category_businesses_df(category_label, map_categories)\n",
    "    \n",
    "    root_categories = get_root_category_items(map_categories)\n",
    "    # root_categories = sorted(root_categories, key=lambda x: len(x[\"businesses\"]), reverse=False)\n",
    "    \n",
    "    for root_category in root_categories:\n",
    "        if root_category[\"title\"] == category_label:\n",
    "            # skip, do not trim self\n",
    "            continue\n",
    "            \n",
    "        business_ids = set(get_businesses_in_category_branch(inv_cat_bids, root_category[\"title\"], map_categories, map_cat_name2id))\n",
    "        # business_ids = set(root_category[\"businesses\"])\n",
    "        print(f\"\"\"Filter businesses from category {root_category[\"title\"]} [{root_category[\"alias\"]}] ({len(business_ids)} businesses) ...\"\"\")\n",
    "        n_before = len(df_root_cat)\n",
    "        df_root_cat = filter_by_businesses_not_same(df_root_cat, business_ids)\n",
    "        n_after = len(df_root_cat)\n",
    "        print(f\"\"\"Filtered {n_before - n_after} businesses (overlap with {root_category[\"title\"]})\"\"\")\n",
    "        \n",
    "    return df_root_cat"
   ]
  },
  {
   "cell_type": "code",
   "execution_count": 19,
   "metadata": {
    "ExecuteTime": {
     "end_time": "2020-05-25T09:52:38.926642Z",
     "start_time": "2020-05-25T09:52:38.916413Z"
    },
    "code_folding": [
     0
    ],
    "jupyter": {
     "source_hidden": true
    }
   },
   "outputs": [],
   "source": [
    "def filter_root_category_businesses_not_other(category_label, category_label_filter, inv_cat_bids, map_categories, map_cat_name2id):\n",
    "    assert category_label != category_label_filter, \"do not filter on self\"\n",
    "\n",
    "    df_root_cat = load_cached_root_category_businesses_df(category_label, map_categories)\n",
    "    \n",
    "    root_categories = get_root_category_items(map_categories)\n",
    "    # root_categories = sorted(root_categories, key=lambda x: len(x[\"businesses\"]), reverse=True)\n",
    "    \n",
    "    for root_category in root_categories:\n",
    "        if root_category[\"title\"] == category_label_filter:\n",
    "            break\n",
    "    else:\n",
    "        print(f\"No businesses found for {category_label_filter} -> return unchanged\")\n",
    "        return df_root_cat\n",
    "    \n",
    "    business_ids = set(get_businesses_in_category_branch(inv_cat_bids, root_category[\"title\"], map_categories, map_cat_name2id))\n",
    "    # businesses_ids = root_category[\"businesses\"]\n",
    "    print(f\"\"\"Filter businesses from category {root_category[\"title\"]} [{root_category[\"alias\"]}] ({len(set(business_ids))} businesses) ...\"\"\")\n",
    "    n_before = len(df_root_cat)\n",
    "    df_root_cat = filter_by_businesses_not_same(df_root_cat, business_ids)\n",
    "    n_after = len(df_root_cat)\n",
    "    print(f\"\"\"Filtered {n_before - n_after} businesses (overlap with {root_category[\"title\"]})\"\"\")\n",
    "    \n",
    "    return df_root_cat"
   ]
  },
  {
   "cell_type": "code",
   "execution_count": 20,
   "metadata": {
    "ExecuteTime": {
     "end_time": "2020-05-25T09:52:39.531336Z",
     "start_time": "2020-05-25T09:52:39.521031Z"
    },
    "code_folding": [
     0
    ],
    "jupyter": {
     "source_hidden": true
    }
   },
   "outputs": [],
   "source": [
    "def filter_root_category_businesses_same_other(category_label, category_label_filter, inv_cat_bids, map_categories, map_cat_name2id):\n",
    "    assert category_label != category_label_filter, \"do not filter on self\"\n",
    "\n",
    "    df_root_cat = load_cached_root_category_businesses_df(category_label, map_categories)\n",
    "    \n",
    "    root_categories = get_root_category_items(map_categories)\n",
    "    # root_categories = sorted(root_categories, key=lambda x: len(x[\"businesses\"]), reverse=True)\n",
    "    \n",
    "    for root_category in root_categories:\n",
    "        if root_category[\"title\"] == category_label_filter:\n",
    "            break\n",
    "    else:\n",
    "        print(f\"No businesses found for {category_label_filter} -> return unchanged\")\n",
    "        return df_root_cat\n",
    "    \n",
    "    business_ids = set(get_businesses_in_category_branch(inv_cat_bids, root_category[\"title\"], map_categories, map_cat_name2id))\n",
    "    # businesses_ids = root_category[\"businesses\"]\n",
    "    print(f\"\"\"Filter businesses from category {root_category[\"title\"]} [{root_category[\"alias\"]}] ({len(set(business_ids))} businesses) ...\"\"\")\n",
    "    n_before = len(df_root_cat)\n",
    "    df_same = filter_by_businesses(df_root_cat, business_ids)\n",
    "    n_after = len(df_same)\n",
    "    print(f\"\"\"Filtered {n_before - n_after} businesses ({n_after} same with {root_category[\"title\"]})\"\"\")\n",
    "    \n",
    "    return df_same"
   ]
  },
  {
   "cell_type": "markdown",
   "metadata": {},
   "source": [
    "---"
   ]
  },
  {
   "cell_type": "markdown",
   "metadata": {},
   "source": [
    "#### Make Pairs"
   ]
  },
  {
   "cell_type": "markdown",
   "metadata": {},
   "source": [
    "**TODO:**\n",
    "\n",
    "- check similar length -- what strategy to use to combine similar length pairs best?\n",
    "- flip sides (arg1 <-> arg2)\n",
    "- make more pairs (?) -- but keep same ratio of same-sentiment vs. not-same-sentiment (different-sentiment) ??\n",
    "- group by categories (topics) -- more explicit training (uniqueness of single arguments / topic structures)\n",
    "- evaluate on same-argument (S3C) - or amazon reviews\n",
    "- compute mean/avg sequence length\n",
    "- fixed layers in fine-tuning\n",
    "- visualization of trained layers and activation for good / bad inputs"
   ]
  },
  {
   "cell_type": "markdown",
   "metadata": {},
   "source": [
    "##### Positive + negative same-sentiment pairs"
   ]
  },
  {
   "cell_type": "code",
   "execution_count": 21,
   "metadata": {
    "ExecuteTime": {
     "end_time": "2020-05-25T09:52:43.585863Z",
     "start_time": "2020-05-25T09:52:43.583298Z"
    },
    "jupyter": {
     "source_hidden": true
    }
   },
   "outputs": [],
   "source": [
    "num_pairs_per_class = 2\n",
    "# N positive + N negative\n",
    "# --> 2N pos+neg (not same-sentiment)\n",
    "\n",
    "# TODO: randomness for positive ss / negative ss - sum is equal / or sum equal compared to not ss"
   ]
  },
  {
   "cell_type": "code",
   "execution_count": 22,
   "metadata": {
    "ExecuteTime": {
     "end_time": "2020-05-25T09:52:44.026806Z",
     "start_time": "2020-05-25T09:52:44.007949Z"
    },
    "code_folding": [
     0
    ],
    "jupyter": {
     "source_hidden": true
    }
   },
   "outputs": [],
   "source": [
    "def make_pairs_good_bad(df, num_pairs_per_class=2):\n",
    "    pairs_good = list()\n",
    "    pairs_bad = list()\n",
    "\n",
    "    for id_, group in tqdm(df.groupby(\"id\")):\n",
    "        grouper = group.groupby(\"goodness\")\n",
    "        reviews_good = grouper.get_group(True)\n",
    "        reviews_bad = grouper.get_group(False)\n",
    "\n",
    "        # TESTING\n",
    "        # print(\"id:\", id_)\n",
    "        # print(\"#good:\", len(reviews_good))\n",
    "        # print(\"#bad:\", len(reviews_bad))\n",
    "        # print(group)\n",
    "        # break\n",
    "\n",
    "        # make pairings -- good ss\n",
    "        rg_idx = reviews_good.index.values\n",
    "        # print(\"pos_idx:\", rg_idx)\n",
    "        rg_idx_sel = np.random.choice(rg_idx, 2 * num_pairs_per_class, replace=False)\n",
    "        for id1, id2 in zip(rg_idx_sel[::2], rg_idx_sel[1::2]):\n",
    "            # print(\"pair:\", id1, id2)\n",
    "            r1, r2 = df.loc[id1], df.loc[id2]\n",
    "            pair = {\n",
    "                \"argument1\": r1[\"text\"], \"argument2\": r2[\"text\"],\n",
    "                \"argument1_id\": f\"\"\"{r1[\"id\"]}|{r1[\"rid\"]}\"\"\", \"argument2_id\": f\"\"\"{r2[\"id\"]}|{r2[\"rid\"]}\"\"\",\n",
    "                \"is_same_side\": True, \"is_good_side\": True,\n",
    "                \"topic\": inv_bid_cats.get(r1[\"id\"], None)\n",
    "            }\n",
    "            # print(pair)\n",
    "            pairs_good.append(pair)\n",
    "\n",
    "        # make pairings -- bad ss\n",
    "        rb_idx = reviews_bad.index.values\n",
    "        # print(\"neg_idx:\", rb_idx)\n",
    "        rb_idx_sel = np.random.choice(rb_idx, 2 * num_pairs_per_class, replace=False)\n",
    "        for id1, id2 in zip(rb_idx_sel[::2], rb_idx_sel[1::2]):\n",
    "            r1, r2 = df.loc[id1], df.loc[id2]\n",
    "            pair = {\n",
    "                \"argument1\": r1[\"text\"], \"argument2\": r2[\"text\"],\n",
    "                \"argument1_id\": f\"\"\"{r1[\"id\"]}|{r1[\"rid\"]}\"\"\", \"argument2_id\": f\"\"\"{r2[\"id\"]}|{r2[\"rid\"]}\"\"\",\n",
    "                \"is_same_side\": True, \"is_good_side\": False,\n",
    "                \"topic\": inv_bid_cats.get(r1[\"id\"], None)\n",
    "            }\n",
    "            pairs_bad.append(pair)\n",
    "\n",
    "        # break\n",
    "        \n",
    "    return pairs_good, pairs_bad"
   ]
  },
  {
   "cell_type": "markdown",
   "metadata": {},
   "source": [
    "##### not same-sentiment pairs (combinations positive + negative)"
   ]
  },
  {
   "cell_type": "code",
   "execution_count": 23,
   "metadata": {
    "ExecuteTime": {
     "end_time": "2020-05-25T09:52:45.733584Z",
     "start_time": "2020-05-25T09:52:45.729177Z"
    },
    "code_folding": [],
    "jupyter": {
     "source_hidden": true
    }
   },
   "outputs": [],
   "source": [
    "#: number of negative same-sentiment samples same as positive same-sentiment samples\n",
    "num_pairs_negative = 2 * num_pairs_per_class\n",
    "\n",
    "#: whether for a single side (good or bad) there can be multiple occurrences of the same review\n",
    "#: may need to check afterwared that not by chance same pairing happens ...\n",
    "repeatable_on_side = False"
   ]
  },
  {
   "cell_type": "code",
   "execution_count": 24,
   "metadata": {
    "ExecuteTime": {
     "end_time": "2020-05-25T09:52:51.076476Z",
     "start_time": "2020-05-25T09:52:51.059949Z"
    },
    "code_folding": [
     0
    ],
    "jupyter": {
     "source_hidden": true
    }
   },
   "outputs": [],
   "source": [
    "def make_pairs_negative(df, num_pairs_negative, repeatable_on_side=False):\n",
    "    pairs_not_ss = list()\n",
    "\n",
    "    for id_, group in tqdm(df.groupby(\"id\")):\n",
    "        grouper = group.groupby(\"goodness\")\n",
    "        reviews_good = grouper.get_group(True)\n",
    "        reviews_bad = grouper.get_group(False)\n",
    "\n",
    "        # find indices for reviews per business\n",
    "        rg_idx = reviews_good.index.values\n",
    "        rb_idx = reviews_bad.index.values\n",
    "\n",
    "        # randomly select from each side\n",
    "        rg_idx_sel = np.random.choice(rg_idx, num_pairs_negative, replace=repeatable_on_side)\n",
    "        rb_idx_sel = np.random.choice(rb_idx, num_pairs_negative, replace=repeatable_on_side)\n",
    "\n",
    "        # pair them together -- good-bad pairs\n",
    "        for idg, idb in zip(rg_idx_sel[::2], rb_idx_sel[::2]):\n",
    "            rg, rb = df.loc[idg], df.loc[idb]\n",
    "            pair = {\n",
    "                \"argument1\": rg[\"text\"], \"argument2\": rb[\"text\"],\n",
    "                \"argument1_id\": f\"\"\"{rg[\"id\"]}|{rg[\"rid\"]}\"\"\", \"argument2_id\": f\"\"\"{rb[\"id\"]}|{rb[\"rid\"]}\"\"\",\n",
    "                \"is_same_side\": False, \"is_good_side\": None,\n",
    "                \"topic\": inv_bid_cats.get(rg[\"id\"], None)\n",
    "            }\n",
    "            # print(pair)\n",
    "            pairs_not_ss.append(pair)\n",
    "\n",
    "        # bad-good pairs\n",
    "        for idb, idg in zip(rb_idx_sel[1::2], rg_idx_sel[1::2]):\n",
    "            rb, rg = df.loc[idb], df.loc[idg]\n",
    "            pair = {\n",
    "                \"argument1\": rb[\"text\"], \"argument2\": rg[\"text\"],\n",
    "                \"argument1_id\": f\"\"\"{rb[\"id\"]}|{rb[\"rid\"]}\"\"\", \"argument2_id\": f\"\"\"{rg[\"id\"]}|{rg[\"rid\"]}\"\"\",\n",
    "                \"is_same_side\": False, \"is_good_side\": None,\n",
    "                \"topic\": inv_bid_cats.get(rb[\"id\"], None)\n",
    "            }\n",
    "            # print(pair)\n",
    "            pairs_not_ss.append(pair)\n",
    "            \n",
    "    return pairs_not_ss"
   ]
  },
  {
   "cell_type": "markdown",
   "metadata": {},
   "source": [
    "##### dataframe for training etc."
   ]
  },
  {
   "cell_type": "code",
   "execution_count": 25,
   "metadata": {
    "ExecuteTime": {
     "end_time": "2020-05-25T09:53:30.441277Z",
     "start_time": "2020-05-25T09:53:30.428763Z"
    },
    "code_folding": [
     0
    ],
    "jupyter": {
     "source_hidden": true
    }
   },
   "outputs": [],
   "source": [
    "def make_or_load_pairs(df, fn_yelp_df, num_pairs_per_class=2):\n",
    "    if fn_yelp_df is not None:\n",
    "        if os.path.exists(fn_yelp_df):\n",
    "            with open(fn_yelp_df, \"rb\") as fp:\n",
    "                all_df = pickle.load(fp)\n",
    "            return all_df\n",
    "    \n",
    "    pairs_good, pairs_bad = make_pairs_good_bad(df, num_pairs_per_class=num_pairs_per_class)\n",
    "    print(\"#ss (pos)\", len(pairs_good))\n",
    "    print(\"#ss (neg)\", len(pairs_bad))\n",
    "    \n",
    "    num_pairs_negative = 2 * num_pairs_per_class\n",
    "    pairs_not_ss = make_pairs_negative(df, num_pairs_negative, repeatable_on_side=False)\n",
    "    print(\"#nss\", len(pairs_not_ss))\n",
    "    \n",
    "    pairs_all = pairs_good + pairs_bad + pairs_not_ss\n",
    "    print(\"#~ss\", len(pairs_all))\n",
    "    \n",
    "    np.random.shuffle(pairs_all)\n",
    "    df_traindev = pd.DataFrame.from_dict(pairs_all)\n",
    "    \n",
    "    if fn_yelp_df is not None:\n",
    "        with open(fn_yelp_df, \"wb\") as fp:\n",
    "            pickle.dump(df_traindev, fp, protocol=pickle.HIGHEST_PROTOCOL)\n",
    "        \n",
    "    return df_traindev"
   ]
  },
  {
   "cell_type": "markdown",
   "metadata": {},
   "source": [
    "---"
   ]
  },
  {
   "cell_type": "markdown",
   "metadata": {},
   "source": [
    "---"
   ]
  },
  {
   "cell_type": "markdown",
   "metadata": {},
   "source": [
    "---"
   ]
  },
  {
   "cell_type": "markdown",
   "metadata": {},
   "source": [
    "## Load reviews and topics and category tree"
   ]
  },
  {
   "cell_type": "markdown",
   "metadata": {},
   "source": [
    "#### Load reviews\n",
    "\n",
    "- review (with business reference)"
   ]
  },
  {
   "cell_type": "code",
   "execution_count": 26,
   "metadata": {
    "ExecuteTime": {
     "end_time": "2020-05-25T09:54:28.073054Z",
     "start_time": "2020-05-25T09:53:34.206922Z"
    }
   },
   "outputs": [
    {
     "name": "stderr",
     "output_type": "stream",
     "text": [
      "6685900it [00:41, 161907.41it/s]\n"
     ]
    }
   ],
   "source": [
    "fn_yelp_reviews = data_yelp_path / \"review.json\"\n",
    "df = load_reviews(fn_yelp_reviews)"
   ]
  },
  {
   "cell_type": "code",
   "execution_count": 27,
   "metadata": {},
   "outputs": [],
   "source": [
    "#businesses = get_businesses_in_category_branch(inv_cat_bids, \"Mass Media\", map_categories, map_cat_name2id)\n",
    "#filter_by_businesses(df, businesses).rid.count()"
   ]
  },
  {
   "cell_type": "markdown",
   "metadata": {},
   "source": [
    "#### Load categories for businesses\n",
    "\n",
    "- business (id) with list of topics/categories\n",
    "- lookups (business -> categories, category -> businesses)\n",
    "- list of combinations (with amount)"
   ]
  },
  {
   "cell_type": "code",
   "execution_count": 28,
   "metadata": {
    "ExecuteTime": {
     "end_time": "2020-05-25T09:54:30.875744Z",
     "start_time": "2020-05-25T09:54:28.103817Z"
    }
   },
   "outputs": [
    {
     "name": "stderr",
     "output_type": "stream",
     "text": [
      "192609it [00:02, 69284.19it/s]\n",
      "100%|██████████| 192127/192127 [00:00<00:00, 1329440.52it/s]\n",
      "100%|██████████| 192127/192127 [00:00<00:00, 495753.29it/s]\n"
     ]
    }
   ],
   "source": [
    "fn_yelp_topics = data_yelp_path / \"business.json\"\n",
    "bids_not_cats = set()\n",
    "inv_bid_cats = load_topics(fn_yelp_topics, bids_not_cats=bids_not_cats)\n",
    "\n",
    "inv_cat_bids = make_map_cats(inv_bid_cats)\n",
    "\n",
    "inv_cat_combis = make_cat_combis(inv_bid_cats)"
   ]
  },
  {
   "cell_type": "markdown",
   "metadata": {},
   "source": [
    "#### Load category tree\n",
    "\n",
    "- hierarchy of categories"
   ]
  },
  {
   "cell_type": "code",
   "execution_count": 29,
   "metadata": {
    "ExecuteTime": {
     "end_time": "2020-05-25T09:54:32.035522Z",
     "start_time": "2020-05-25T09:54:32.004962Z"
    }
   },
   "outputs": [],
   "source": [
    "fn_yelp_catgory_tree = data_yelp_path / \"all_category_list.json\"\n",
    "map_categories, map_cat_name2id, lst_root_categories = load_category_tree(fn_yelp_catgory_tree)"
   ]
  },
  {
   "cell_type": "markdown",
   "metadata": {},
   "source": [
    "#### Pre-Cache all root category businesses (reviews)"
   ]
  },
  {
   "cell_type": "code",
   "execution_count": 30,
   "metadata": {
    "ExecuteTime": {
     "end_time": "2020-05-25T09:54:33.171937Z",
     "start_time": "2020-05-25T09:54:33.169140Z"
    }
   },
   "outputs": [],
   "source": [
    "cache_root_category_businesses_df(df, inv_cat_bids, map_categories, map_cat_name2id)"
   ]
  },
  {
   "cell_type": "markdown",
   "metadata": {},
   "source": [
    "---"
   ]
  },
  {
   "cell_type": "code",
   "execution_count": 31,
   "metadata": {},
   "outputs": [
    {
     "name": "stdout",
     "output_type": "stream",
     "text": [
      "Number of businesses total: 192127\n",
      "Number of reviews total: 6685900\n"
     ]
    }
   ],
   "source": [
    "# number of businesses\n",
    "print(f\"Number of businesses total: {len(inv_bid_cats.keys())}\")\n",
    "# number of reviews (total)\n",
    "print(f\"Number of reviews total: {df.rid.count()}\")"
   ]
  },
  {
   "cell_type": "code",
   "execution_count": null,
   "metadata": {},
   "outputs": [],
   "source": [
    "# Number of words:\n",
    "tok = Tokenizer()\n",
    "\n",
    "def tokenize_text(row):\n",
    "    row[\"text_tok\"] = [str(tok) for tok in tok.tokenize(row[\"text\"])]\n",
    "    return row\n",
    "\n",
    "def count_words(row):\n",
    "    row[\"num_words\"] = len(row[\"text_tok\"])\n",
    "    return row\n",
    "\n",
    "df = filter_min_review_freq(df, min_ratings=5)\n",
    "df = df.progress_apply(tokenize_text, axis=1)\n",
    "df = df.progress_apply(count_words, axis=1)\n",
    "print(f\"\"\"all*: {df[\"num_words\"].mean()}\"\"\")"
   ]
  },
  {
   "cell_type": "code",
   "execution_count": null,
   "metadata": {},
   "outputs": [],
   "source": [
    "df[\"num_words\"].describe()"
   ]
  },
  {
   "cell_type": "markdown",
   "metadata": {},
   "source": [
    "```python\n",
    "count    5.756784e+06\n",
    "mean     1.289253e+02\n",
    "std      1.218024e+02\n",
    "min      1.000000e+00\n",
    "25%      5.000000e+01\n",
    "50%      9.100000e+01\n",
    "75%      1.640000e+02\n",
    "max      1.870000e+03\n",
    "Name: num_words, dtype: float64\n",
    "```"
   ]
  },
  {
   "cell_type": "code",
   "execution_count": 32,
   "metadata": {},
   "outputs": [],
   "source": [
    "fn_df_words = data_yelp_path / \"df_reviews_words.p\""
   ]
  },
  {
   "cell_type": "code",
   "execution_count": null,
   "metadata": {},
   "outputs": [],
   "source": [
    "with open(fn_df_words, \"wb\") as fp:\n",
    "    pickle.dump(df, fp, protocol=pickle.HIGHEST_PROTOCOL)"
   ]
  },
  {
   "cell_type": "code",
   "execution_count": 33,
   "metadata": {},
   "outputs": [],
   "source": [
    "with open(fn_df_words, \"rb\") as fp:\n",
    "    df = pickle.load(fp)"
   ]
  },
  {
   "cell_type": "markdown",
   "metadata": {},
   "source": [
    "---"
   ]
  },
  {
   "cell_type": "markdown",
   "metadata": {},
   "source": [
    "### Filter business without any overlap"
   ]
  },
  {
   "cell_type": "code",
   "execution_count": 34,
   "metadata": {},
   "outputs": [],
   "source": [
    "# build lookup of category -> business_ids\n",
    "lookup_rootcat_bid = dict()\n",
    "\n",
    "# --> print_category_tree_with_num_businesses_root(map_categories, inv_cat_bids, map_cat_name2id)\n",
    "root_categories = get_root_category_items(map_categories)\n",
    "\n",
    "for item in sorted(root_categories, key=lambda x: x[\"title\"]):\n",
    "    businesses = get_businesses_in_category_branch(inv_cat_bids, item[\"title\"], map_categories, map_cat_name2id)\n",
    "    businesses = set(businesses)\n",
    "    lookup_rootcat_bid[(item[\"title\"], item[\"alias\"])] = businesses"
   ]
  },
  {
   "cell_type": "code",
   "execution_count": 35,
   "metadata": {},
   "outputs": [],
   "source": [
    "# remove duplicates / overlapping businesses\n",
    "lookup_rootcat_bid_no_overlap = dict()\n",
    "\n",
    "for (title, alias), businesses in lookup_rootcat_bid.items():\n",
    "    # collect business ids from other categories\n",
    "    businesses_other = set()\n",
    "    for (title2, alias2), businesses2 in lookup_rootcat_bid.items():\n",
    "        if alias2 == alias:\n",
    "            continue\n",
    "        businesses_other |= businesses2\n",
    "\n",
    "    # remove other businesses\n",
    "    businesses_no_overlap = businesses - businesses_other\n",
    "\n",
    "    lookup_rootcat_bid_no_overlap[(title, alias)] = businesses_no_overlap"
   ]
  },
  {
   "cell_type": "code",
   "execution_count": 36,
   "metadata": {},
   "outputs": [
    {
     "name": "stdout",
     "output_type": "stream",
     "text": [
      "category | businesses | businesses_no_overlap_to_any_other\n",
      "Active Life[active] | 9521  4533\n",
      "Arts & Entertainment[arts] | 6304  1225\n",
      "Automotive[auto] | 13203  9755\n",
      "Beauty & Spas[beautysvc] | 19370  12931\n",
      "Bicycles[bicycles] | 9  0\n",
      "Education[education] | 3314  831\n",
      "Event Planning & Services[eventservices] | 10371  1456\n",
      "Financial Services[financialservices] | 3082  1749\n",
      "Food[food] | 29989  10418\n",
      "Health & Medical[health] | 17171  10767\n",
      "Home Services[homeservices] | 19744  11131\n",
      "Hotels & Travel[hotelstravel] | 6033  1725\n",
      "Local Flavor[localflavor] | 1444  120\n",
      "Local Services[localservices] | 13932  4244\n",
      "Mass Media[massmedia] | 319  142\n",
      "Nightlife[nightlife] | 13095  2342\n",
      "Pets[pets] | 4111  3470\n",
      "Professional Services[professional] | 6276  1514\n",
      "Public Services & Government[publicservicesgovt] | 1343  628\n",
      "Religious Organizations[religiousorgs] | 547  386\n",
      "Restaurants[restaurants] | 59371  35639\n",
      "Shopping[shopping] | 31878  14871\n"
     ]
    }
   ],
   "source": [
    "print(\"category | businesses | businesses_no_overlap_to_any_other\")\n",
    "for ((title, alias), businesses), business_no_overlap in zip(lookup_rootcat_bid.items(), lookup_rootcat_bid_no_overlap.values()):\n",
    "    print(f\"{title}[{alias}] | {len(businesses)}  {len(business_no_overlap)}\")"
   ]
  },
  {
   "cell_type": "code",
   "execution_count": 37,
   "metadata": {},
   "outputs": [
    {
     "name": "stdout",
     "output_type": "stream",
     "text": [
      "Number businesses all (overlapping): 270427\n",
      "Number businesses all (no overlap): 129877\n"
     ]
    }
   ],
   "source": [
    "print(f\"Number businesses all (overlapping): {sum(len(bs) for bs in lookup_rootcat_bid.values())}\")\n",
    "print(f\"Number businesses all (no overlap): {sum(len(bs) for bs in lookup_rootcat_bid_no_overlap.values())}\")"
   ]
  },
  {
   "cell_type": "markdown",
   "metadata": {},
   "source": [
    "### Filter from pair df"
   ]
  },
  {
   "cell_type": "code",
   "execution_count": 38,
   "metadata": {},
   "outputs": [],
   "source": [
    "# load data with more pairs\n",
    "fn_yelp_df = data_yelp_path / \"df_traindev4_typed.p\"\n",
    "\n",
    "with open(fn_yelp_df, \"rb\") as fp:\n",
    "    traindev_df = pickle.load(fp)"
   ]
  },
  {
   "cell_type": "code",
   "execution_count": 39,
   "metadata": {},
   "outputs": [
    {
     "name": "stderr",
     "output_type": "stream",
     "text": [
      "100%|██████████| 703760/703760 [07:00<00:00, 1672.94it/s] \n"
     ]
    }
   ],
   "source": [
    "def add_business_id(row):\n",
    "    bid = row[\"argument1_id\"].split(\"|\")[0]\n",
    "    row[\"business_id\"] = bid\n",
    "    return row\n",
    "\n",
    "traindev_df = traindev_df.progress_apply(add_business_id, axis=1)"
   ]
  },
  {
   "cell_type": "code",
   "execution_count": 40,
   "metadata": {},
   "outputs": [],
   "source": [
    "# filter no overlapping business\n",
    "all_business_ids_no_overlap = set()\n",
    "for businesses in lookup_rootcat_bid_no_overlap.values():\n",
    "    all_business_ids_no_overlap |= businesses\n",
    "\n",
    "traindev_df = traindev_df[traindev_df.business_id.isin(all_business_ids_no_overlap)]"
   ]
  },
  {
   "cell_type": "code",
   "execution_count": null,
   "metadata": {},
   "outputs": [],
   "source": []
  },
  {
   "cell_type": "code",
   "execution_count": 43,
   "metadata": {},
   "outputs": [],
   "source": [
    "# manual root category group splitting\n",
    "cats = list(lookup_rootcat_bid_no_overlap.keys())\n",
    "cats.remove(('Bicycles', 'bicycles'))\n",
    "\n",
    "# make it repeatable\n",
    "from utils_data import init_random\n",
    "init_random()\n",
    "\n",
    "np.random.shuffle(cats)\n",
    "groups = cats[0:3], cats[3:6], cats[6:9], cats[9:12], cats[12:15], cats[15:18], cats[18:21]\n",
    "groups = [tuple(g) for g in groups]\n",
    "\n",
    "# filter business ids of group\n",
    "map_cg_bids = dict()\n",
    "for cg_ids in groups:\n",
    "    cg_businesses = set()\n",
    "    for ta_id, businesses in lookup_rootcat_bid_no_overlap.items():\n",
    "        if ta_id in cg_ids:\n",
    "            cg_businesses |= businesses\n",
    "    \n",
    "    map_cg_bids[cg_ids] = cg_businesses"
   ]
  },
  {
   "cell_type": "code",
   "execution_count": 44,
   "metadata": {},
   "outputs": [],
   "source": [
    "# build dataframes for each group\n",
    "map_cg_traindev_df = dict()\n",
    "\n",
    "for cg_ids in groups:\n",
    "    businesses = map_cg_bids[cg_ids]\n",
    "    cg_df = traindev_df[traindev_df.business_id.isin(businesses)]\n",
    "    map_cg_traindev_df[cg_ids] = cg_df"
   ]
  },
  {
   "cell_type": "code",
   "execution_count": 45,
   "metadata": {},
   "outputs": [],
   "source": [
    "# make cross eval split traindev dfs\n",
    "map_cg_train_dev_groups = dict()\n",
    "\n",
    "for cg_ids, cg_df in map_cg_traindev_df.items():\n",
    "    train_df = cg_df\n",
    "    dev_dfs = [\n",
    "        cg_df_o\n",
    "        for cg_ids_o, cg_df_o in map_cg_traindev_df.items()\n",
    "        if cg_ids_o != cg_ids\n",
    "    ]\n",
    "    dev_df = pd.concat(dev_dfs)\n",
    "    map_cg_train_dev_groups[cg_ids] = (train_df, dev_df, dev_dfs)"
   ]
  },
  {
   "cell_type": "code",
   "execution_count": 46,
   "metadata": {},
   "outputs": [],
   "source": [
    "fn_group = data_yelp_path / \"group_data_save_k=7.p\"\n",
    "\n",
    "with open(fn_group, \"wb\") as fp:\n",
    "    pickle.dump(groups, fp, protocol=pickle.HIGHEST_PROTOCOL)\n",
    "    pickle.dump(map_cg_train_dev_groups, fp, protocol=pickle.HIGHEST_PROTOCOL)"
   ]
  },
  {
   "cell_type": "markdown",
   "metadata": {},
   "source": [
    "## Train groups  --  Default S3C training\n",
    "\n",
    "https://gluon-nlp.mxnet.io/install.html\n",
    "\n",
    "```bash\n",
    "pip install --upgrade 'mxnet>=1.3.0'  \n",
    "pip install gluonnlp  \n",
    "wget https://gluon-nlp.mxnet.io/_downloads/sentence_embedding.zip  \n",
    "unzip sentence_embedding.zip  \n",
    "ln -s sentence_embedding/bert bert  \n",
    "```"
   ]
  },
  {
   "cell_type": "code",
   "execution_count": null,
   "metadata": {},
   "outputs": [],
   "source": [
    "# ! pip install --upgrade 'mxnet>=1.3.0'\n",
    "# NOTE: do not install cpu + gpu version both, only one!\n",
    "#! pip install --upgrade mxnet-cu102\n",
    "#! pip install --upgrade gluonnlp "
   ]
  },
  {
   "cell_type": "code",
   "execution_count": null,
   "metadata": {},
   "outputs": [],
   "source": [
    "#! wget https://gluon-nlp.mxnet.io/_downloads/sentence_embedding.zip\n",
    "# ! unzip sentence_embedding.zip\n",
    "# ! ln -s sentence_embedding/bert bert"
   ]
  },
  {
   "cell_type": "code",
   "execution_count": 47,
   "metadata": {
    "ExecuteTime": {
     "end_time": "2020-05-25T09:54:41.165579Z",
     "start_time": "2020-05-25T09:54:40.872743Z"
    }
   },
   "outputs": [],
   "source": [
    "from mxboard import SummaryWriter\n",
    "\n",
    "from utils_data import get_train_test_sets\n",
    "\n",
    "from utils_gluon import setup_bert_epi128bce, setup_bert_epi512bce\n",
    "from utils_gluon import setup_bert_pro128bce, setup_bert_pro512bce\n",
    "\n",
    "from utils_gluon import transform_dataset\n",
    "from utils_gluon import predict_out_to_ys\n",
    "\n",
    "from utils_gluon import predict\n",
    "from utils_gluon import train\n",
    "\n",
    "# from utils_gluon import print_infos\n",
    "from utils_gluon import plot_train_stats\n",
    "\n",
    "from utils_gluon import report_training_results\n",
    "from utils_gluon import plot_confusion_matrix\n",
    "from utils_gluon import compute_metrics\n",
    "\n",
    "from utils_data import names_columns_X, names_columns_X_arteval, names_columns_y\n",
    "# names_columns_X = ['argument1', 'argument2', 'argument1_id', 'argument2_id', 'topic', 'type']\n",
    "names_columns_X = names_columns_X + [\"type\", \"business_id\"]"
   ]
  },
  {
   "cell_type": "code",
   "execution_count": 48,
   "metadata": {
    "ExecuteTime": {
     "end_time": "2020-05-25T09:54:43.151309Z",
     "start_time": "2020-05-25T09:54:43.145966Z"
    }
   },
   "outputs": [],
   "source": [
    "from utils_data import Timer\n",
    "\n",
    "from utils_data import configure_logging\n",
    "configure_logging()\n",
    "\n",
    "from utils_data import init_random\n",
    "init_random()"
   ]
  },
  {
   "cell_type": "code",
   "execution_count": 49,
   "metadata": {},
   "outputs": [],
   "source": [
    "run_name = \"yelp_10_pro128BCE\"\n",
    "run_name_base = run_name\n",
    "fn_run_path = Path(f\"data/{run_name}\")\n",
    "if not fn_run_path.exists():\n",
    "    fn_run_path.mkdir()"
   ]
  },
  {
   "cell_type": "code",
   "execution_count": 50,
   "metadata": {
    "ExecuteTime": {
     "end_time": "2020-05-25T09:57:10.724496Z",
     "start_time": "2020-05-25T09:57:10.720382Z"
    }
   },
   "outputs": [],
   "source": [
    "num_epochs = 5\n",
    "batch_size = 32\n",
    "\n",
    "epoch_id = num_epochs - 1"
   ]
  },
  {
   "cell_type": "code",
   "execution_count": 51,
   "metadata": {},
   "outputs": [
    {
     "name": "stdout",
     "output_type": "stream",
     "text": [
      "Start on [setup BERT model] ...\n",
      "Time for [setup BERT model]: 0:00:11.461039\n"
     ]
    }
   ],
   "source": [
    "with Timer(\"setup BERT model\"):\n",
    "    model, vocabulary, ctx, tokenizer, transform, loss_function, metric, all_labels = setup_bert_pro128bce(gpu=1)"
   ]
  },
  {
   "cell_type": "code",
   "execution_count": null,
   "metadata": {},
   "outputs": [
    {
     "name": "stdout",
     "output_type": "stream",
     "text": [
      "Train model on group fold (('Religious Organizations', 'religiousorgs'), ('Shopping', 'shopping'), ('Local Flavor', 'localflavor')) #22656...\n",
      "Start on [prepare training / validation data] ...\n",
      "Time for [prepare training / validation data]: 0:00:31.535461\n"
     ]
    },
    {
     "name": "stderr",
     "output_type": "stream",
     "text": [
      "  1%|          | 133/22656 [00:00<00:16, 1325.48it/s]"
     ]
    },
    {
     "name": "stdout",
     "output_type": "stream",
     "text": [
      "Start on [train model - 5] ...\n",
      "Start on [setup training] ...\n"
     ]
    },
    {
     "name": "stderr",
     "output_type": "stream",
     "text": [
      "100%|██████████| 22656/22656 [00:12<00:00, 1755.89it/s]\n",
      "  0%|          | 0/714 [00:00<?, ?it/s]"
     ]
    },
    {
     "name": "stdout",
     "output_type": "stream",
     "text": [
      "Time for [setup training]: 0:00:12.912840\n",
      "Start on [training] ...\n",
      "Start on [epoch 0] ...\n"
     ]
    },
    {
     "name": "stderr",
     "output_type": "stream",
     "text": [
      "  0%|          | 1/714 [00:01<16:47,  1.41s/it]2020-07-13 11:43:28,956 : INFO : successfully opened events file: data/yelp_10_pro128BCE_g0/events.out.tfevents.1594633408.cuda2\n",
      "2020-07-13 11:43:28,977 : INFO : wrote 1 event to disk\n",
      "2020-07-13 11:43:28,978 : INFO : wrote 1 event to disk\n",
      " 70%|███████   | 500/714 [02:07<00:55,  3.87it/s]"
     ]
    },
    {
     "name": "stdout",
     "output_type": "stream",
     "text": [
      "[Epoch 0 Batch 500/714] loss=0.6153, lr=0.0000050, acc=0.659 - time 0:02:07.858102\n"
     ]
    },
    {
     "name": "stderr",
     "output_type": "stream",
     "text": [
      "100%|██████████| 714/714 [03:02<00:00,  3.91it/s]\n"
     ]
    },
    {
     "name": "stdout",
     "output_type": "stream",
     "text": [
      "Time for [epoch 0]: 0:03:02.772741\n"
     ]
    },
    {
     "name": "stderr",
     "output_type": "stream",
     "text": [
      "  0%|          | 0/714 [00:00<?, ?it/s]"
     ]
    },
    {
     "name": "stdout",
     "output_type": "stream",
     "text": [
      "Start on [epoch 1] ...\n"
     ]
    },
    {
     "name": "stderr",
     "output_type": "stream",
     "text": [
      " 70%|███████   | 500/714 [02:09<00:55,  3.83it/s]"
     ]
    },
    {
     "name": "stdout",
     "output_type": "stream",
     "text": [
      "[Epoch 1 Batch 500/714] loss=0.5007, lr=0.0000050, acc=0.756 - time 0:02:09.742532\n"
     ]
    },
    {
     "name": "stderr",
     "output_type": "stream",
     "text": [
      "100%|██████████| 714/714 [03:04<00:00,  3.87it/s]\n"
     ]
    },
    {
     "name": "stdout",
     "output_type": "stream",
     "text": [
      "Time for [epoch 1]: 0:03:04.611010\n"
     ]
    },
    {
     "name": "stderr",
     "output_type": "stream",
     "text": [
      "  0%|          | 0/714 [00:00<?, ?it/s]"
     ]
    },
    {
     "name": "stdout",
     "output_type": "stream",
     "text": [
      "Start on [epoch 2] ...\n"
     ]
    },
    {
     "name": "stderr",
     "output_type": "stream",
     "text": [
      " 70%|███████   | 500/714 [02:10<00:55,  3.88it/s]"
     ]
    },
    {
     "name": "stdout",
     "output_type": "stream",
     "text": [
      "[Epoch 2 Batch 500/714] loss=0.4338, lr=0.0000050, acc=0.794 - time 0:02:10.115372\n"
     ]
    },
    {
     "name": "stderr",
     "output_type": "stream",
     "text": [
      "100%|██████████| 714/714 [03:04<00:00,  3.86it/s]\n"
     ]
    },
    {
     "name": "stdout",
     "output_type": "stream",
     "text": [
      "Time for [epoch 2]: 0:03:04.933982\n"
     ]
    },
    {
     "name": "stderr",
     "output_type": "stream",
     "text": [
      "  0%|          | 0/714 [00:00<?, ?it/s]"
     ]
    },
    {
     "name": "stdout",
     "output_type": "stream",
     "text": [
      "Start on [epoch 3] ...\n"
     ]
    },
    {
     "name": "stderr",
     "output_type": "stream",
     "text": [
      " 26%|██▋       | 188/714 [00:48<02:17,  3.82it/s]2020-07-13 11:53:29,197 : INFO : wrote 4658 events to disk\n",
      " 70%|███████   | 500/714 [02:09<00:56,  3.82it/s]"
     ]
    },
    {
     "name": "stdout",
     "output_type": "stream",
     "text": [
      "[Epoch 3 Batch 500/714] loss=0.3870, lr=0.0000050, acc=0.822 - time 0:02:09.699465\n"
     ]
    },
    {
     "name": "stderr",
     "output_type": "stream",
     "text": [
      "100%|██████████| 714/714 [03:04<00:00,  3.86it/s]\n"
     ]
    },
    {
     "name": "stdout",
     "output_type": "stream",
     "text": [
      "Time for [epoch 3]: 0:03:04.923995\n"
     ]
    },
    {
     "name": "stderr",
     "output_type": "stream",
     "text": [
      "  0%|          | 0/714 [00:00<?, ?it/s]"
     ]
    },
    {
     "name": "stdout",
     "output_type": "stream",
     "text": [
      "Start on [epoch 4] ...\n"
     ]
    },
    {
     "name": "stderr",
     "output_type": "stream",
     "text": [
      " 70%|███████   | 500/714 [02:09<00:47,  4.54it/s]"
     ]
    },
    {
     "name": "stdout",
     "output_type": "stream",
     "text": [
      "[Epoch 4 Batch 500/714] loss=0.3285, lr=0.0000050, acc=0.854 - time 0:02:09.329463\n"
     ]
    },
    {
     "name": "stderr",
     "output_type": "stream",
     "text": [
      "100%|██████████| 714/714 [03:05<00:00,  3.86it/s]\n"
     ]
    },
    {
     "name": "stdout",
     "output_type": "stream",
     "text": [
      "Time for [epoch 4]: 0:03:05.134997\n",
      "Time for [training]: 0:15:24.129656\n"
     ]
    },
    {
     "data": {
      "image/png": "[encoded data removed]",
      "text/plain": [
       "<Figure size 432x288 with 2 Axes>"
      ]
     },
     "metadata": {
      "needs_background": "light"
     },
     "output_type": "display_data"
    },
    {
     "name": "stderr",
     "output_type": "stream",
     "text": [
      "2020-07-13 11:58:51,842 : INFO : wrote 2481 events to disk\n",
      "  0%|          | 0/12654 [00:00<?, ?it/s]"
     ]
    },
    {
     "name": "stdout",
     "output_type": "stream",
     "text": [
      "Time for [train model - 5]: 0:15:37.220079\n",
      "Start on [evaluate model - 5] ...\n",
      "Start on [prediction] ...\n"
     ]
    },
    {
     "name": "stderr",
     "output_type": "stream",
     "text": [
      "  0%|          | 1/12654 [00:00<35:56,  5.87it/s]2020-07-13 11:58:52,021 : INFO : successfully opened events file: data/yelp_10_pro128BCE_g0/events.out.tfevents.1594634332.cuda2\n",
      "2020-07-13 11:58:52,038 : INFO : wrote 1 event to disk\n",
      "2020-07-13 11:58:52,039 : INFO : wrote 1 event to disk\n",
      " 50%|████▉     | 6288/12654 [10:00<10:08, 10.46it/s]2020-07-13 12:08:52,051 : INFO : wrote 12574 events to disk\n",
      " 99%|█████████▊| 12475/12654 [20:00<00:17, 10.40it/s]2020-07-13 12:18:52,139 : INFO : wrote 12374 events to disk\n",
      "100%|██████████| 12654/12654 [20:17<00:00, 10.39it/s]\n"
     ]
    },
    {
     "name": "stdout",
     "output_type": "stream",
     "text": [
      "Time for [prediction]: 0:20:17.487284\n",
      "Accuracy in epoch 4: 0.7571494191559981\n",
      "Confusion Matrix:\n",
      "[[153156  49308]\n",
      " [ 49029 153435]]\n",
      "\n",
      "CM: [153156  49308  49029 153435] \n",
      "[tn, fp, fn, tp]\n",
      "  accuracy: 0.757\n",
      " precision: 0.757\n",
      "    recall: 0.757\n",
      "  f1-score: 0.757\n",
      "\n",
      "Accuracy:  0.757 \n",
      "\n",
      "Report for [BERTClassifier - yelp_10_pro128BCE_g0]:\n",
      "              precision    recall  f1-score   support\n",
      "\n",
      "           0       0.76      0.76      0.76    202464\n",
      "           1       0.76      0.76      0.76    202464\n",
      "\n",
      "    accuracy                           0.76    404928\n",
      "   macro avg       0.76      0.76      0.76    404928\n",
      "weighted avg       0.76      0.76      0.76    404928\n",
      "\n"
     ]
    },
    {
     "data": {
      "image/png": "[encoded data removed]",
      "text/plain": [
       "<Figure size 432x288 with 1 Axes>"
      ]
     },
     "metadata": {
      "needs_background": "light"
     },
     "output_type": "display_data"
    },
    {
     "name": "stderr",
     "output_type": "stream",
     "text": [
      "2020-07-13 12:19:12,491 : INFO : wrote 359 events to disk\n"
     ]
    },
    {
     "name": "stdout",
     "output_type": "stream",
     "text": [
      "Time for [evaluate model - 5]: 0:20:20.648355\n",
      "Train model on group fold (('Restaurants', 'restaurants'), ('Mass Media', 'massmedia'), ('Financial Services', 'financialservices')) #238880...\n",
      "Start on [prepare training / validation data] ...\n",
      "Time for [prepare training / validation data]: 0:00:31.495632\n"
     ]
    },
    {
     "name": "stderr",
     "output_type": "stream",
     "text": [
      "  0%|          | 170/238880 [00:00<02:21, 1682.35it/s]"
     ]
    },
    {
     "name": "stdout",
     "output_type": "stream",
     "text": [
      "Start on [train model - 5] ...\n",
      "Start on [setup training] ...\n"
     ]
    },
    {
     "name": "stderr",
     "output_type": "stream",
     "text": [
      "100%|██████████| 238880/238880 [02:05<00:00, 1903.40it/s]\n",
      "  0%|          | 0/7471 [00:00<?, ?it/s]"
     ]
    },
    {
     "name": "stdout",
     "output_type": "stream",
     "text": [
      "Time for [setup training]: 0:02:05.559981\n",
      "Start on [training] ...\n",
      "Start on [epoch 0] ...\n"
     ]
    },
    {
     "name": "stderr",
     "output_type": "stream",
     "text": [
      "  0%|          | 1/7471 [00:00<40:23,  3.08it/s]2020-07-13 12:21:51,007 : INFO : successfully opened events file: data/yelp_10_pro128BCE_g1/events.out.tfevents.1594635710.cuda2\n",
      "2020-07-13 12:21:51,018 : INFO : wrote 1 event to disk\n",
      "2020-07-13 12:21:51,018 : INFO : wrote 1 event to disk\n",
      "  7%|▋         | 500/7471 [02:08<30:12,  3.85it/s]"
     ]
    },
    {
     "name": "stdout",
     "output_type": "stream",
     "text": [
      "[Epoch 0 Batch 500/7471] loss=0.5120, lr=0.0000050, acc=0.739 - time 0:02:08.362599\n"
     ]
    },
    {
     "name": "stderr",
     "output_type": "stream",
     "text": [
      " 13%|█▎        | 1000/7471 [04:17<27:50,  3.87it/s]"
     ]
    },
    {
     "name": "stdout",
     "output_type": "stream",
     "text": [
      "[Epoch 0 Batch 1000/7471] loss=0.4917, lr=0.0000050, acc=0.744 - time 0:02:09.456497\n"
     ]
    },
    {
     "name": "stderr",
     "output_type": "stream",
     "text": [
      " 20%|██        | 1500/7471 [06:27<26:01,  3.82it/s]"
     ]
    },
    {
     "name": "stdout",
     "output_type": "stream",
     "text": [
      "[Epoch 0 Batch 1500/7471] loss=0.4753, lr=0.0000050, acc=0.748 - time 0:02:09.680984\n"
     ]
    },
    {
     "name": "stderr",
     "output_type": "stream",
     "text": [
      " 27%|██▋       | 2000/7471 [08:37<23:34,  3.87it/s]"
     ]
    },
    {
     "name": "stdout",
     "output_type": "stream",
     "text": [
      "[Epoch 0 Batch 2000/7471] loss=0.4720, lr=0.0000050, acc=0.752 - time 0:02:09.763621\n"
     ]
    },
    {
     "name": "stderr",
     "output_type": "stream",
     "text": [
      " 31%|███       | 2320/7471 [10:00<22:23,  3.83it/s]2020-07-13 12:31:51,035 : INFO : wrote 4638 events to disk\n",
      " 33%|███▎      | 2500/7471 [10:46<21:42,  3.82it/s]"
     ]
    },
    {
     "name": "stdout",
     "output_type": "stream",
     "text": [
      "[Epoch 0 Batch 2500/7471] loss=0.4672, lr=0.0000050, acc=0.754 - time 0:02:09.721231\n"
     ]
    },
    {
     "name": "stderr",
     "output_type": "stream",
     "text": [
      " 40%|████      | 3000/7471 [12:56<19:26,  3.83it/s]"
     ]
    },
    {
     "name": "stdout",
     "output_type": "stream",
     "text": [
      "[Epoch 0 Batch 3000/7471] loss=0.4652, lr=0.0000050, acc=0.756 - time 0:02:09.698188\n"
     ]
    },
    {
     "name": "stderr",
     "output_type": "stream",
     "text": [
      " 47%|████▋     | 3500/7471 [15:06<17:14,  3.84it/s]"
     ]
    },
    {
     "name": "stdout",
     "output_type": "stream",
     "text": [
      "[Epoch 0 Batch 3500/7471] loss=0.4661, lr=0.0000050, acc=0.758 - time 0:02:09.974249\n"
     ]
    },
    {
     "name": "stderr",
     "output_type": "stream",
     "text": [
      " 54%|█████▎    | 4000/7471 [17:16<14:53,  3.88it/s]"
     ]
    },
    {
     "name": "stdout",
     "output_type": "stream",
     "text": [
      "[Epoch 0 Batch 4000/7471] loss=0.4563, lr=0.0000050, acc=0.760 - time 0:02:09.672021\n"
     ]
    },
    {
     "name": "stderr",
     "output_type": "stream",
     "text": [
      " 60%|██████    | 4500/7471 [19:26<12:54,  3.83it/s]"
     ]
    },
    {
     "name": "stdout",
     "output_type": "stream",
     "text": [
      "[Epoch 0 Batch 4500/7471] loss=0.4591, lr=0.0000050, acc=0.761 - time 0:02:09.909353\n"
     ]
    },
    {
     "name": "stderr",
     "output_type": "stream",
     "text": [
      " 62%|██████▏   | 4632/7471 [20:00<12:20,  3.83it/s]2020-07-13 12:41:51,164 : INFO : wrote 4624 events to disk\n",
      " 67%|██████▋   | 5000/7471 [21:36<10:37,  3.88it/s]"
     ]
    },
    {
     "name": "stdout",
     "output_type": "stream",
     "text": [
      "[Epoch 0 Batch 5000/7471] loss=0.4479, lr=0.0000050, acc=0.763 - time 0:02:09.767424\n"
     ]
    },
    {
     "name": "stderr",
     "output_type": "stream",
     "text": [
      " 74%|███████▎  | 5500/7471 [23:45<08:35,  3.82it/s]"
     ]
    },
    {
     "name": "stdout",
     "output_type": "stream",
     "text": [
      "[Epoch 0 Batch 5500/7471] loss=0.4518, lr=0.0000050, acc=0.764 - time 0:02:09.720855\n"
     ]
    },
    {
     "name": "stderr",
     "output_type": "stream",
     "text": [
      " 80%|████████  | 6000/7471 [25:55<06:24,  3.83it/s]"
     ]
    },
    {
     "name": "stdout",
     "output_type": "stream",
     "text": [
      "[Epoch 0 Batch 6000/7471] loss=0.4434, lr=0.0000050, acc=0.765 - time 0:02:09.702296\n"
     ]
    },
    {
     "name": "stderr",
     "output_type": "stream",
     "text": [
      " 87%|████████▋ | 6500/7471 [28:05<04:14,  3.82it/s]"
     ]
    },
    {
     "name": "stdout",
     "output_type": "stream",
     "text": [
      "[Epoch 0 Batch 6500/7471] loss=0.4360, lr=0.0000050, acc=0.767 - time 0:02:09.794337\n"
     ]
    },
    {
     "name": "stderr",
     "output_type": "stream",
     "text": [
      " 93%|█████████▎| 6945/7471 [30:00<02:16,  3.85it/s]2020-07-13 12:51:51,240 : INFO : wrote 4626 events to disk\n",
      " 94%|█████████▎| 7000/7471 [30:14<02:03,  3.82it/s]"
     ]
    },
    {
     "name": "stdout",
     "output_type": "stream",
     "text": [
      "[Epoch 0 Batch 7000/7471] loss=0.4378, lr=0.0000050, acc=0.768 - time 0:02:09.716790\n"
     ]
    },
    {
     "name": "stderr",
     "output_type": "stream",
     "text": [
      "100%|██████████| 7471/7471 [32:17<00:00,  3.86it/s]\n"
     ]
    },
    {
     "name": "stdout",
     "output_type": "stream",
     "text": [
      "Time for [epoch 0]: 0:32:17.257499\n"
     ]
    },
    {
     "name": "stderr",
     "output_type": "stream",
     "text": [
      "  0%|          | 0/7471 [00:00<?, ?it/s]"
     ]
    },
    {
     "name": "stdout",
     "output_type": "stream",
     "text": [
      "Start on [epoch 1] ...\n"
     ]
    },
    {
     "name": "stderr",
     "output_type": "stream",
     "text": [
      "  7%|▋         | 500/7471 [02:09<29:57,  3.88it/s]"
     ]
    },
    {
     "name": "stdout",
     "output_type": "stream",
     "text": [
      "[Epoch 1 Batch 500/7471] loss=0.4066, lr=0.0000050, acc=0.806 - time 0:02:09.589107\n"
     ]
    },
    {
     "name": "stderr",
     "output_type": "stream",
     "text": [
      " 13%|█▎        | 1000/7471 [04:19<27:45,  3.89it/s]"
     ]
    },
    {
     "name": "stdout",
     "output_type": "stream",
     "text": [
      "[Epoch 1 Batch 1000/7471] loss=0.4120, lr=0.0000050, acc=0.804 - time 0:02:09.766406\n"
     ]
    },
    {
     "name": "stderr",
     "output_type": "stream",
     "text": [
      " 20%|██        | 1500/7471 [06:29<26:06,  3.81it/s]"
     ]
    },
    {
     "name": "stdout",
     "output_type": "stream",
     "text": [
      "[Epoch 1 Batch 1500/7471] loss=0.4135, lr=0.0000050, acc=0.802 - time 0:02:09.819540\n"
     ]
    },
    {
     "name": "stderr",
     "output_type": "stream",
     "text": [
      " 24%|██▍       | 1785/7471 [07:43<24:43,  3.83it/s]2020-07-13 13:01:51,491 : INFO : wrote 4622 events to disk\n",
      " 27%|██▋       | 2000/7471 [08:38<23:50,  3.82it/s]"
     ]
    },
    {
     "name": "stdout",
     "output_type": "stream",
     "text": [
      "[Epoch 1 Batch 2000/7471] loss=0.4061, lr=0.0000050, acc=0.802 - time 0:02:09.651501\n"
     ]
    },
    {
     "name": "stderr",
     "output_type": "stream",
     "text": [
      " 33%|███▎      | 2500/7471 [10:48<21:41,  3.82it/s]"
     ]
    },
    {
     "name": "stdout",
     "output_type": "stream",
     "text": [
      "[Epoch 1 Batch 2500/7471] loss=0.4120, lr=0.0000050, acc=0.802 - time 0:02:09.953737\n"
     ]
    },
    {
     "name": "stderr",
     "output_type": "stream",
     "text": [
      " 40%|████      | 3000/7471 [12:58<19:23,  3.84it/s]"
     ]
    },
    {
     "name": "stdout",
     "output_type": "stream",
     "text": [
      "[Epoch 1 Batch 3000/7471] loss=0.4163, lr=0.0000050, acc=0.802 - time 0:02:09.911230\n"
     ]
    },
    {
     "name": "stderr",
     "output_type": "stream",
     "text": [
      " 47%|████▋     | 3500/7471 [15:08<16:54,  3.91it/s]"
     ]
    },
    {
     "name": "stdout",
     "output_type": "stream",
     "text": [
      "[Epoch 1 Batch 3500/7471] loss=0.4039, lr=0.0000050, acc=0.803 - time 0:02:09.758865\n"
     ]
    },
    {
     "name": "stderr",
     "output_type": "stream",
     "text": [
      " 54%|█████▎    | 4000/7471 [17:17<15:02,  3.85it/s]"
     ]
    },
    {
     "name": "stdout",
     "output_type": "stream",
     "text": [
      "[Epoch 1 Batch 4000/7471] loss=0.4058, lr=0.0000050, acc=0.803 - time 0:02:09.332527\n"
     ]
    },
    {
     "name": "stderr",
     "output_type": "stream",
     "text": [
      " 55%|█████▍    | 4098/7471 [17:43<14:31,  3.87it/s]2020-07-13 13:11:51,528 : INFO : wrote 4626 events to disk\n",
      " 60%|██████    | 4500/7471 [19:27<12:45,  3.88it/s]"
     ]
    },
    {
     "name": "stdout",
     "output_type": "stream",
     "text": [
      "[Epoch 1 Batch 4500/7471] loss=0.4046, lr=0.0000050, acc=0.804 - time 0:02:09.727162\n"
     ]
    },
    {
     "name": "stderr",
     "output_type": "stream",
     "text": [
      " 67%|██████▋   | 5000/7471 [21:36<10:46,  3.82it/s]"
     ]
    },
    {
     "name": "stdout",
     "output_type": "stream",
     "text": [
      "[Epoch 1 Batch 5000/7471] loss=0.4023, lr=0.0000050, acc=0.804 - time 0:02:09.336790\n"
     ]
    },
    {
     "name": "stderr",
     "output_type": "stream",
     "text": [
      " 74%|███████▎  | 5500/7471 [23:46<08:28,  3.88it/s]"
     ]
    },
    {
     "name": "stdout",
     "output_type": "stream",
     "text": [
      "[Epoch 1 Batch 5500/7471] loss=0.4077, lr=0.0000050, acc=0.804 - time 0:02:10.013693\n"
     ]
    },
    {
     "name": "stderr",
     "output_type": "stream",
     "text": [
      " 80%|████████  | 6000/7471 [25:56<06:17,  3.89it/s]"
     ]
    },
    {
     "name": "stdout",
     "output_type": "stream",
     "text": [
      "[Epoch 1 Batch 6000/7471] loss=0.4026, lr=0.0000050, acc=0.805 - time 0:02:09.662988\n"
     ]
    },
    {
     "name": "stderr",
     "output_type": "stream",
     "text": [
      " 86%|████████▌ | 6411/7471 [27:43<04:32,  3.89it/s]2020-07-13 13:21:51,591 : INFO : wrote 4626 events to disk\n",
      " 87%|████████▋ | 6500/7471 [28:06<04:12,  3.84it/s]"
     ]
    },
    {
     "name": "stdout",
     "output_type": "stream",
     "text": [
      "[Epoch 1 Batch 6500/7471] loss=0.4166, lr=0.0000050, acc=0.804 - time 0:02:09.875192\n"
     ]
    },
    {
     "name": "stderr",
     "output_type": "stream",
     "text": [
      " 94%|█████████▎| 7000/7471 [30:16<01:59,  3.93it/s]"
     ]
    },
    {
     "name": "stdout",
     "output_type": "stream",
     "text": [
      "[Epoch 1 Batch 7000/7471] loss=0.4128, lr=0.0000050, acc=0.804 - time 0:02:09.881097\n"
     ]
    },
    {
     "name": "stderr",
     "output_type": "stream",
     "text": [
      "100%|██████████| 7471/7471 [32:18<00:00,  3.85it/s]\n"
     ]
    },
    {
     "name": "stdout",
     "output_type": "stream",
     "text": [
      "Time for [epoch 1]: 0:32:18.803562\n"
     ]
    },
    {
     "name": "stderr",
     "output_type": "stream",
     "text": [
      "  0%|          | 0/7471 [00:00<?, ?it/s]"
     ]
    },
    {
     "name": "stdout",
     "output_type": "stream",
     "text": [
      "Start on [epoch 2] ...\n"
     ]
    },
    {
     "name": "stderr",
     "output_type": "stream",
     "text": [
      "  7%|▋         | 500/7471 [02:09<30:25,  3.82it/s]"
     ]
    },
    {
     "name": "stdout",
     "output_type": "stream",
     "text": [
      "[Epoch 2 Batch 500/7471] loss=0.3718, lr=0.0000050, acc=0.825 - time 0:02:09.765035\n"
     ]
    },
    {
     "name": "stderr",
     "output_type": "stream",
     "text": [
      " 13%|█▎        | 1000/7471 [04:19<27:51,  3.87it/s]"
     ]
    },
    {
     "name": "stdout",
     "output_type": "stream",
     "text": [
      "[Epoch 2 Batch 1000/7471] loss=0.3853, lr=0.0000050, acc=0.823 - time 0:02:09.981060\n"
     ]
    },
    {
     "name": "stderr",
     "output_type": "stream",
     "text": [
      " 17%|█▋        | 1248/7471 [05:24<27:12,  3.81it/s]2020-07-13 13:31:51,644 : INFO : wrote 4616 events to disk\n",
      " 20%|██        | 1500/7471 [06:29<25:57,  3.83it/s]"
     ]
    },
    {
     "name": "stdout",
     "output_type": "stream",
     "text": [
      "[Epoch 2 Batch 1500/7471] loss=0.3670, lr=0.0000050, acc=0.825 - time 0:02:10.010566\n"
     ]
    },
    {
     "name": "stderr",
     "output_type": "stream",
     "text": [
      " 27%|██▋       | 2000/7471 [08:47<23:44,  3.84it/s]  "
     ]
    },
    {
     "name": "stdout",
     "output_type": "stream",
     "text": [
      "[Epoch 2 Batch 2000/7471] loss=0.3762, lr=0.0000050, acc=0.825 - time 0:02:17.422859\n"
     ]
    },
    {
     "name": "stderr",
     "output_type": "stream",
     "text": [
      " 33%|███▎      | 2500/7471 [10:57<21:34,  3.84it/s]"
     ]
    },
    {
     "name": "stdout",
     "output_type": "stream",
     "text": [
      "[Epoch 2 Batch 2500/7471] loss=0.3726, lr=0.0000050, acc=0.825 - time 0:02:09.857144\n"
     ]
    },
    {
     "name": "stderr",
     "output_type": "stream",
     "text": [
      " 40%|████      | 3000/7471 [13:06<19:08,  3.89it/s]"
     ]
    },
    {
     "name": "stdout",
     "output_type": "stream",
     "text": [
      "[Epoch 2 Batch 3000/7471] loss=0.3667, lr=0.0000050, acc=0.825 - time 0:02:09.854442\n"
     ]
    },
    {
     "name": "stderr",
     "output_type": "stream",
     "text": [
      " 47%|████▋     | 3500/7471 [15:16<17:25,  3.80it/s]"
     ]
    },
    {
     "name": "stdout",
     "output_type": "stream",
     "text": [
      "[Epoch 2 Batch 3500/7471] loss=0.3650, lr=0.0000050, acc=0.826 - time 0:02:09.766200\n"
     ]
    },
    {
     "name": "stderr",
     "output_type": "stream",
     "text": [
      " 47%|████▋     | 3530/7471 [15:24<15:40,  4.19it/s]2020-07-13 13:41:51,788 : INFO : wrote 4564 events to disk\n",
      " 54%|█████▎    | 4000/7471 [17:26<14:59,  3.86it/s]"
     ]
    },
    {
     "name": "stdout",
     "output_type": "stream",
     "text": [
      "[Epoch 2 Batch 4000/7471] loss=0.3756, lr=0.0000050, acc=0.826 - time 0:02:09.737278\n"
     ]
    },
    {
     "name": "stderr",
     "output_type": "stream",
     "text": [
      " 60%|██████    | 4500/7471 [19:36<12:57,  3.82it/s]"
     ]
    },
    {
     "name": "stdout",
     "output_type": "stream",
     "text": [
      "[Epoch 2 Batch 4500/7471] loss=0.3707, lr=0.0000050, acc=0.826 - time 0:02:09.952749\n"
     ]
    },
    {
     "name": "stderr",
     "output_type": "stream",
     "text": [
      " 67%|██████▋   | 5000/7471 [21:46<10:37,  3.88it/s]"
     ]
    },
    {
     "name": "stdout",
     "output_type": "stream",
     "text": [
      "[Epoch 2 Batch 5000/7471] loss=0.3746, lr=0.0000050, acc=0.825 - time 0:02:09.931785\n"
     ]
    },
    {
     "name": "stderr",
     "output_type": "stream",
     "text": [
      " 74%|███████▎  | 5500/7471 [23:56<08:27,  3.88it/s]"
     ]
    },
    {
     "name": "stdout",
     "output_type": "stream",
     "text": [
      "[Epoch 2 Batch 5500/7471] loss=0.3690, lr=0.0000050, acc=0.825 - time 0:02:09.984230\n"
     ]
    },
    {
     "name": "stderr",
     "output_type": "stream",
     "text": [
      " 78%|███████▊  | 5839/7471 [25:24<07:06,  3.83it/s]2020-07-13 13:51:51,867 : INFO : wrote 4618 events to disk\n",
      " 80%|████████  | 6000/7471 [26:06<06:20,  3.87it/s]"
     ]
    },
    {
     "name": "stdout",
     "output_type": "stream",
     "text": [
      "[Epoch 2 Batch 6000/7471] loss=0.3711, lr=0.0000050, acc=0.826 - time 0:02:10.039949\n"
     ]
    },
    {
     "name": "stderr",
     "output_type": "stream",
     "text": [
      " 87%|████████▋ | 6500/7471 [28:16<04:11,  3.86it/s]"
     ]
    },
    {
     "name": "stdout",
     "output_type": "stream",
     "text": [
      "[Epoch 2 Batch 6500/7471] loss=0.3713, lr=0.0000050, acc=0.826 - time 0:02:09.845341\n"
     ]
    },
    {
     "name": "stderr",
     "output_type": "stream",
     "text": [
      " 94%|█████████▎| 7000/7471 [30:26<02:03,  3.81it/s]"
     ]
    },
    {
     "name": "stdout",
     "output_type": "stream",
     "text": [
      "[Epoch 2 Batch 7000/7471] loss=0.3816, lr=0.0000050, acc=0.825 - time 0:02:09.905296\n"
     ]
    },
    {
     "name": "stderr",
     "output_type": "stream",
     "text": [
      "100%|██████████| 7471/7471 [32:28<00:00,  3.83it/s]\n"
     ]
    },
    {
     "name": "stdout",
     "output_type": "stream",
     "text": [
      "Time for [epoch 2]: 0:32:28.276126\n"
     ]
    },
    {
     "name": "stderr",
     "output_type": "stream",
     "text": [
      "  0%|          | 0/7471 [00:00<?, ?it/s]"
     ]
    },
    {
     "name": "stdout",
     "output_type": "stream",
     "text": [
      "Start on [epoch 3] ...\n"
     ]
    },
    {
     "name": "stderr",
     "output_type": "stream",
     "text": [
      "  7%|▋         | 500/7471 [02:10<29:43,  3.91it/s]"
     ]
    },
    {
     "name": "stdout",
     "output_type": "stream",
     "text": [
      "[Epoch 3 Batch 500/7471] loss=0.3332, lr=0.0000050, acc=0.847 - time 0:02:10.050407\n"
     ]
    },
    {
     "name": "stderr",
     "output_type": "stream",
     "text": [
      "  9%|▉         | 677/7471 [02:56<29:38,  3.82it/s]2020-07-13 14:01:52,097 : INFO : wrote 4618 events to disk\n",
      " 13%|█▎        | 1000/7471 [04:19<28:00,  3.85it/s]"
     ]
    },
    {
     "name": "stdout",
     "output_type": "stream",
     "text": [
      "[Epoch 3 Batch 1000/7471] loss=0.3332, lr=0.0000050, acc=0.848 - time 0:02:09.670554\n"
     ]
    },
    {
     "name": "stderr",
     "output_type": "stream",
     "text": [
      " 20%|██        | 1500/7471 [06:29<26:08,  3.81it/s]"
     ]
    },
    {
     "name": "stdout",
     "output_type": "stream",
     "text": [
      "[Epoch 3 Batch 1500/7471] loss=0.3369, lr=0.0000050, acc=0.848 - time 0:02:09.996833\n"
     ]
    },
    {
     "name": "stderr",
     "output_type": "stream",
     "text": [
      " 27%|██▋       | 2000/7471 [08:39<23:15,  3.92it/s]"
     ]
    },
    {
     "name": "stdout",
     "output_type": "stream",
     "text": [
      "[Epoch 3 Batch 2000/7471] loss=0.3253, lr=0.0000050, acc=0.849 - time 0:02:09.671725\n"
     ]
    },
    {
     "name": "stderr",
     "output_type": "stream",
     "text": [
      " 33%|███▎      | 2500/7471 [10:49<21:45,  3.81it/s]"
     ]
    },
    {
     "name": "stdout",
     "output_type": "stream",
     "text": [
      "[Epoch 3 Batch 2500/7471] loss=0.3365, lr=0.0000050, acc=0.848 - time 0:02:10.077430\n"
     ]
    },
    {
     "name": "stderr",
     "output_type": "stream",
     "text": [
      " 40%|███▉      | 2987/7471 [12:56<19:40,  3.80it/s]2020-07-13 14:11:52,264 : INFO : wrote 4620 events to disk\n",
      " 40%|████      | 3000/7471 [12:59<19:28,  3.83it/s]"
     ]
    },
    {
     "name": "stdout",
     "output_type": "stream",
     "text": [
      "[Epoch 3 Batch 3000/7471] loss=0.3319, lr=0.0000050, acc=0.848 - time 0:02:10.151968\n"
     ]
    },
    {
     "name": "stderr",
     "output_type": "stream",
     "text": [
      " 47%|████▋     | 3500/7471 [15:09<17:16,  3.83it/s]"
     ]
    },
    {
     "name": "stdout",
     "output_type": "stream",
     "text": [
      "[Epoch 3 Batch 3500/7471] loss=0.3310, lr=0.0000050, acc=0.848 - time 0:02:09.924724\n"
     ]
    },
    {
     "name": "stderr",
     "output_type": "stream",
     "text": [
      " 54%|█████▎    | 4000/7471 [17:19<15:10,  3.81it/s]"
     ]
    },
    {
     "name": "stdout",
     "output_type": "stream",
     "text": [
      "[Epoch 3 Batch 4000/7471] loss=0.3252, lr=0.0000050, acc=0.848 - time 0:02:09.677320\n"
     ]
    },
    {
     "name": "stderr",
     "output_type": "stream",
     "text": [
      " 60%|██████    | 4500/7471 [19:29<12:45,  3.88it/s]"
     ]
    },
    {
     "name": "stdout",
     "output_type": "stream",
     "text": [
      "[Epoch 3 Batch 4500/7471] loss=0.3399, lr=0.0000050, acc=0.848 - time 0:02:09.846347\n"
     ]
    },
    {
     "name": "stderr",
     "output_type": "stream",
     "text": [
      " 67%|██████▋   | 5000/7471 [21:39<10:39,  3.87it/s]"
     ]
    },
    {
     "name": "stdout",
     "output_type": "stream",
     "text": [
      "[Epoch 3 Batch 5000/7471] loss=0.3423, lr=0.0000050, acc=0.847 - time 0:02:10.101689\n"
     ]
    },
    {
     "name": "stderr",
     "output_type": "stream",
     "text": [
      " 71%|███████   | 5297/7471 [22:56<09:22,  3.86it/s]2020-07-13 14:21:52,268 : INFO : wrote 4620 events to disk\n",
      " 74%|███████▎  | 5500/7471 [23:48<08:36,  3.82it/s]"
     ]
    },
    {
     "name": "stdout",
     "output_type": "stream",
     "text": [
      "[Epoch 3 Batch 5500/7471] loss=0.3308, lr=0.0000050, acc=0.847 - time 0:02:09.717399\n"
     ]
    },
    {
     "name": "stderr",
     "output_type": "stream",
     "text": [
      " 80%|████████  | 6000/7471 [25:58<06:19,  3.87it/s]"
     ]
    },
    {
     "name": "stdout",
     "output_type": "stream",
     "text": [
      "[Epoch 3 Batch 6000/7471] loss=0.3462, lr=0.0000050, acc=0.847 - time 0:02:09.829787\n"
     ]
    },
    {
     "name": "stderr",
     "output_type": "stream",
     "text": [
      " 87%|████████▋ | 6500/7471 [28:08<04:13,  3.84it/s]"
     ]
    },
    {
     "name": "stdout",
     "output_type": "stream",
     "text": [
      "[Epoch 3 Batch 6500/7471] loss=0.3381, lr=0.0000050, acc=0.847 - time 0:02:09.883598\n"
     ]
    },
    {
     "name": "stderr",
     "output_type": "stream",
     "text": [
      " 94%|█████████▎| 7000/7471 [30:18<01:58,  3.99it/s]"
     ]
    },
    {
     "name": "stdout",
     "output_type": "stream",
     "text": [
      "[Epoch 3 Batch 7000/7471] loss=0.3359, lr=0.0000050, acc=0.847 - time 0:02:09.869622\n"
     ]
    },
    {
     "name": "stderr",
     "output_type": "stream",
     "text": [
      "100%|██████████| 7471/7471 [32:20<00:00,  3.85it/s]\n"
     ]
    },
    {
     "name": "stdout",
     "output_type": "stream",
     "text": [
      "Time for [epoch 3]: 0:32:20.821925\n"
     ]
    },
    {
     "name": "stderr",
     "output_type": "stream",
     "text": [
      "  0%|          | 0/7471 [00:00<?, ?it/s]"
     ]
    },
    {
     "name": "stdout",
     "output_type": "stream",
     "text": [
      "Start on [epoch 4] ...\n"
     ]
    },
    {
     "name": "stderr",
     "output_type": "stream",
     "text": [
      "  2%|▏         | 136/7471 [00:35<31:56,  3.83it/s]2020-07-13 14:31:52,442 : INFO : wrote 4620 events to disk\n",
      "  7%|▋         | 500/7471 [02:09<30:22,  3.82it/s]"
     ]
    },
    {
     "name": "stdout",
     "output_type": "stream",
     "text": [
      "[Epoch 4 Batch 500/7471] loss=0.2900, lr=0.0000050, acc=0.874 - time 0:02:09.760407\n"
     ]
    },
    {
     "name": "stderr",
     "output_type": "stream",
     "text": [
      " 13%|█▎        | 1000/7471 [04:19<28:08,  3.83it/s]"
     ]
    },
    {
     "name": "stdout",
     "output_type": "stream",
     "text": [
      "[Epoch 4 Batch 1000/7471] loss=0.2976, lr=0.0000050, acc=0.870 - time 0:02:09.932398\n"
     ]
    },
    {
     "name": "stderr",
     "output_type": "stream",
     "text": [
      " 20%|██        | 1500/7471 [06:29<25:45,  3.86it/s]"
     ]
    },
    {
     "name": "stdout",
     "output_type": "stream",
     "text": [
      "[Epoch 4 Batch 1500/7471] loss=0.2888, lr=0.0000050, acc=0.870 - time 0:02:10.096919\n"
     ]
    },
    {
     "name": "stderr",
     "output_type": "stream",
     "text": [
      " 27%|██▋       | 2000/7471 [08:39<23:25,  3.89it/s]"
     ]
    },
    {
     "name": "stdout",
     "output_type": "stream",
     "text": [
      "[Epoch 4 Batch 2000/7471] loss=0.2899, lr=0.0000050, acc=0.871 - time 0:02:09.933394\n"
     ]
    },
    {
     "name": "stderr",
     "output_type": "stream",
     "text": [
      " 33%|███▎      | 2445/7471 [10:35<21:26,  3.91it/s]2020-07-13 14:41:52,588 : INFO : wrote 4618 events to disk\n",
      " 33%|███▎      | 2500/7471 [10:49<21:35,  3.84it/s]"
     ]
    },
    {
     "name": "stdout",
     "output_type": "stream",
     "text": [
      "[Epoch 4 Batch 2500/7471] loss=0.2992, lr=0.0000050, acc=0.870 - time 0:02:09.924676\n"
     ]
    },
    {
     "name": "stderr",
     "output_type": "stream",
     "text": [
      " 40%|████      | 3000/7471 [12:59<19:30,  3.82it/s]"
     ]
    },
    {
     "name": "stdout",
     "output_type": "stream",
     "text": [
      "[Epoch 4 Batch 3000/7471] loss=0.2915, lr=0.0000050, acc=0.870 - time 0:02:09.919902\n"
     ]
    },
    {
     "name": "stderr",
     "output_type": "stream",
     "text": [
      " 47%|████▋     | 3500/7471 [15:09<17:15,  3.83it/s]"
     ]
    },
    {
     "name": "stdout",
     "output_type": "stream",
     "text": [
      "[Epoch 4 Batch 3500/7471] loss=0.3015, lr=0.0000050, acc=0.869 - time 0:02:09.720677\n"
     ]
    },
    {
     "name": "stderr",
     "output_type": "stream",
     "text": [
      " 54%|█████▎    | 4000/7471 [17:19<15:07,  3.82it/s]"
     ]
    },
    {
     "name": "stdout",
     "output_type": "stream",
     "text": [
      "[Epoch 4 Batch 4000/7471] loss=0.3040, lr=0.0000050, acc=0.869 - time 0:02:09.921461\n"
     ]
    },
    {
     "name": "stderr",
     "output_type": "stream",
     "text": [
      " 60%|██████    | 4500/7471 [19:29<12:45,  3.88it/s]"
     ]
    },
    {
     "name": "stdout",
     "output_type": "stream",
     "text": [
      "[Epoch 4 Batch 4500/7471] loss=0.2967, lr=0.0000050, acc=0.869 - time 0:02:09.863621\n"
     ]
    },
    {
     "name": "stderr",
     "output_type": "stream",
     "text": [
      " 64%|██████▎   | 4756/7471 [20:35<11:45,  3.85it/s]2020-07-13 14:51:52,651 : INFO : wrote 4622 events to disk\n",
      " 67%|██████▋   | 5000/7471 [21:38<10:42,  3.84it/s]"
     ]
    },
    {
     "name": "stdout",
     "output_type": "stream",
     "text": [
      "[Epoch 4 Batch 5000/7471] loss=0.3010, lr=0.0000050, acc=0.869 - time 0:02:09.617503\n"
     ]
    },
    {
     "name": "stderr",
     "output_type": "stream",
     "text": [
      " 74%|███████▎  | 5500/7471 [23:48<08:38,  3.80it/s]"
     ]
    },
    {
     "name": "stdout",
     "output_type": "stream",
     "text": [
      "[Epoch 4 Batch 5500/7471] loss=0.3103, lr=0.0000050, acc=0.868 - time 0:02:09.846283\n"
     ]
    },
    {
     "name": "stderr",
     "output_type": "stream",
     "text": [
      " 80%|████████  | 6000/7471 [25:58<06:25,  3.82it/s]"
     ]
    },
    {
     "name": "stdout",
     "output_type": "stream",
     "text": [
      "[Epoch 4 Batch 6000/7471] loss=0.3053, lr=0.0000050, acc=0.868 - time 0:02:09.922786\n"
     ]
    },
    {
     "name": "stderr",
     "output_type": "stream",
     "text": [
      " 87%|████████▋ | 6500/7471 [28:08<04:13,  3.84it/s]"
     ]
    },
    {
     "name": "stdout",
     "output_type": "stream",
     "text": [
      "[Epoch 4 Batch 6500/7471] loss=0.3043, lr=0.0000050, acc=0.868 - time 0:02:09.741960\n"
     ]
    },
    {
     "name": "stderr",
     "output_type": "stream",
     "text": [
      " 94%|█████████▎| 7000/7471 [30:18<01:59,  3.93it/s]"
     ]
    },
    {
     "name": "stdout",
     "output_type": "stream",
     "text": [
      "[Epoch 4 Batch 7000/7471] loss=0.3014, lr=0.0000050, acc=0.868 - time 0:02:09.874059\n"
     ]
    },
    {
     "name": "stderr",
     "output_type": "stream",
     "text": [
      " 95%|█████████▍| 7067/7471 [30:35<01:44,  3.87it/s]2020-07-13 15:01:52,681 : INFO : wrote 4622 events to disk\n",
      "100%|██████████| 7471/7471 [32:20<00:00,  3.85it/s]\n"
     ]
    },
    {
     "name": "stdout",
     "output_type": "stream",
     "text": [
      "Time for [epoch 4]: 0:32:20.121168\n",
      "Time for [training]: 2:41:47.013108\n"
     ]
    },
    {
     "data": {
      "image/png": "[encoded data removed]",
      "text/plain": [
       "<Figure size 432x288 with 2 Axes>"
      ]
     },
     "metadata": {
      "needs_background": "light"
     },
     "output_type": "display_data"
    },
    {
     "name": "stderr",
     "output_type": "stream",
     "text": [
      "2020-07-13 15:03:37,865 : INFO : wrote 809 events to disk\n",
      "  0%|          | 0/5897 [00:00<?, ?it/s]"
     ]
    },
    {
     "name": "stdout",
     "output_type": "stream",
     "text": [
      "Time for [train model - 5]: 2:43:52.758518\n",
      "Start on [evaluate model - 5] ...\n",
      "Start on [prediction] ...\n"
     ]
    },
    {
     "name": "stderr",
     "output_type": "stream",
     "text": [
      "2020-07-13 15:03:37,984 : INFO : successfully opened events file: data/yelp_10_pro128BCE_g1/events.out.tfevents.1594645417.cuda2\n",
      "2020-07-13 15:03:37,988 : INFO : wrote 1 event to disk\n",
      "2020-07-13 15:03:37,989 : INFO : wrote 1 event to disk\n",
      "100%|██████████| 5897/5897 [09:33<00:00, 10.28it/s]\n"
     ]
    },
    {
     "name": "stdout",
     "output_type": "stream",
     "text": [
      "Time for [prediction]: 0:09:33.757098\n",
      "Accuracy in epoch 4: 0.8127967610649482\n",
      "Confusion Matrix:\n",
      "[[73680 20672]\n",
      " [14654 79698]]\n",
      "\n",
      "CM: [73680 20672 14654 79698] \n",
      "[tn, fp, fn, tp]\n",
      "  accuracy: 0.813\n",
      " precision: 0.814\n",
      "    recall: 0.813\n",
      "  f1-score: 0.813\n",
      "\n",
      "Accuracy:  0.813 \n",
      "\n",
      "Report for [BERTClassifier - yelp_10_pro128BCE_g1]:\n",
      "              precision    recall  f1-score   support\n",
      "\n",
      "           0       0.83      0.78      0.81     94352\n",
      "           1       0.79      0.84      0.82     94352\n",
      "\n",
      "    accuracy                           0.81    188704\n",
      "   macro avg       0.81      0.81      0.81    188704\n",
      "weighted avg       0.81      0.81      0.81    188704\n",
      "\n"
     ]
    },
    {
     "data": {
      "image/png": "[encoded data removed]",
      "text/plain": [
       "<Figure size 432x288 with 1 Axes>"
      ]
     },
     "metadata": {
      "needs_background": "light"
     },
     "output_type": "display_data"
    },
    {
     "name": "stderr",
     "output_type": "stream",
     "text": [
      "2020-07-13 15:13:13,227 : INFO : wrote 11793 events to disk\n"
     ]
    },
    {
     "name": "stdout",
     "output_type": "stream",
     "text": [
      "Time for [evaluate model - 5]: 0:09:35.362222\n",
      "Train model on group fold (('Active Life', 'active'), ('Arts & Entertainment', 'arts'), ('Home Services', 'homeservices')) #26384...\n",
      "Start on [prepare training / validation data] ...\n",
      "Time for [prepare training / validation data]: 0:00:32.523402\n"
     ]
    },
    {
     "name": "stderr",
     "output_type": "stream",
     "text": [
      "  1%|          | 147/26384 [00:00<00:17, 1459.11it/s]"
     ]
    },
    {
     "name": "stdout",
     "output_type": "stream",
     "text": [
      "Start on [train model - 5] ...\n",
      "Start on [setup training] ...\n"
     ]
    },
    {
     "name": "stderr",
     "output_type": "stream",
     "text": [
      "100%|██████████| 26384/26384 [00:17<00:00, 1473.73it/s]\n",
      "  0%|          | 0/829 [00:00<?, ?it/s]"
     ]
    },
    {
     "name": "stdout",
     "output_type": "stream",
     "text": [
      "Time for [setup training]: 0:00:17.914699\n",
      "Start on [training] ...\n",
      "Start on [epoch 0] ...\n"
     ]
    },
    {
     "name": "stderr",
     "output_type": "stream",
     "text": [
      "  0%|          | 1/829 [00:00<04:15,  3.24it/s]2020-07-13 15:14:05,556 : INFO : successfully opened events file: data/yelp_10_pro128BCE_g2/events.out.tfevents.1594646045.cuda2\n",
      "2020-07-13 15:14:05,579 : INFO : wrote 1 event to disk\n",
      "2020-07-13 15:14:05,580 : INFO : wrote 1 event to disk\n",
      " 60%|██████    | 500/829 [02:10<01:27,  3.78it/s]"
     ]
    },
    {
     "name": "stdout",
     "output_type": "stream",
     "text": [
      "[Epoch 0 Batch 500/829] loss=0.4079, lr=0.0000050, acc=0.808 - time 0:02:10.632312\n"
     ]
    },
    {
     "name": "stderr",
     "output_type": "stream",
     "text": [
      "100%|██████████| 829/829 [03:37<00:00,  3.81it/s]\n"
     ]
    },
    {
     "name": "stdout",
     "output_type": "stream",
     "text": [
      "Time for [epoch 0]: 0:03:37.616406\n"
     ]
    },
    {
     "name": "stderr",
     "output_type": "stream",
     "text": [
      "  0%|          | 0/829 [00:00<?, ?it/s]"
     ]
    },
    {
     "name": "stdout",
     "output_type": "stream",
     "text": [
      "Start on [epoch 1] ...\n"
     ]
    },
    {
     "name": "stderr",
     "output_type": "stream",
     "text": [
      " 60%|██████    | 500/829 [02:11<01:26,  3.79it/s]"
     ]
    },
    {
     "name": "stdout",
     "output_type": "stream",
     "text": [
      "[Epoch 1 Batch 500/829] loss=0.3383, lr=0.0000050, acc=0.843 - time 0:02:11.492323\n"
     ]
    },
    {
     "name": "stderr",
     "output_type": "stream",
     "text": [
      "100%|██████████| 829/829 [03:38<00:00,  3.80it/s]\n"
     ]
    },
    {
     "name": "stdout",
     "output_type": "stream",
     "text": [
      "Time for [epoch 1]: 0:03:38.184577\n"
     ]
    },
    {
     "name": "stderr",
     "output_type": "stream",
     "text": [
      "  0%|          | 0/829 [00:00<?, ?it/s]"
     ]
    },
    {
     "name": "stdout",
     "output_type": "stream",
     "text": [
      "Start on [epoch 2] ...\n"
     ]
    },
    {
     "name": "stderr",
     "output_type": "stream",
     "text": [
      " 60%|██████    | 500/829 [02:11<01:26,  3.81it/s]"
     ]
    },
    {
     "name": "stdout",
     "output_type": "stream",
     "text": [
      "[Epoch 2 Batch 500/829] loss=0.2667, lr=0.0000050, acc=0.883 - time 0:02:11.455590\n"
     ]
    },
    {
     "name": "stderr",
     "output_type": "stream",
     "text": [
      " 75%|███████▌  | 623/829 [02:43<00:54,  3.78it/s]2020-07-13 15:24:05,586 : INFO : wrote 4560 events to disk\n",
      "100%|██████████| 829/829 [03:38<00:00,  3.80it/s]\n"
     ]
    },
    {
     "name": "stdout",
     "output_type": "stream",
     "text": [
      "Time for [epoch 2]: 0:03:38.102072\n"
     ]
    },
    {
     "name": "stderr",
     "output_type": "stream",
     "text": [
      "  0%|          | 0/829 [00:00<?, ?it/s]"
     ]
    },
    {
     "name": "stdout",
     "output_type": "stream",
     "text": [
      "Start on [epoch 3] ...\n"
     ]
    },
    {
     "name": "stderr",
     "output_type": "stream",
     "text": [
      " 60%|██████    | 500/829 [02:11<01:26,  3.80it/s]"
     ]
    },
    {
     "name": "stdout",
     "output_type": "stream",
     "text": [
      "[Epoch 3 Batch 500/829] loss=0.2146, lr=0.0000050, acc=0.911 - time 0:02:11.658191\n"
     ]
    },
    {
     "name": "stderr",
     "output_type": "stream",
     "text": [
      "100%|██████████| 829/829 [03:38<00:00,  3.80it/s]\n"
     ]
    },
    {
     "name": "stdout",
     "output_type": "stream",
     "text": [
      "Time for [epoch 3]: 0:03:38.029740\n"
     ]
    },
    {
     "name": "stderr",
     "output_type": "stream",
     "text": [
      "  0%|          | 0/829 [00:00<?, ?it/s]"
     ]
    },
    {
     "name": "stdout",
     "output_type": "stream",
     "text": [
      "Start on [epoch 4] ...\n"
     ]
    },
    {
     "name": "stderr",
     "output_type": "stream",
     "text": [
      " 60%|██████    | 500/829 [02:11<01:26,  3.79it/s]"
     ]
    },
    {
     "name": "stdout",
     "output_type": "stream",
     "text": [
      "[Epoch 4 Batch 500/829] loss=0.1708, lr=0.0000050, acc=0.934 - time 0:02:11.234726\n"
     ]
    },
    {
     "name": "stderr",
     "output_type": "stream",
     "text": [
      "100%|██████████| 829/829 [03:45<00:00,  3.68it/s]\n"
     ]
    },
    {
     "name": "stdout",
     "output_type": "stream",
     "text": [
      "Time for [epoch 4]: 0:03:45.466586\n",
      "Time for [training]: 0:18:19.122284\n"
     ]
    },
    {
     "data": {
      "image/png": "[encoded data removed]",
      "text/plain": [
       "<Figure size 432x288 with 2 Axes>"
      ]
     },
     "metadata": {
      "needs_background": "light"
     },
     "output_type": "display_data"
    },
    {
     "name": "stderr",
     "output_type": "stream",
     "text": [
      "2020-07-13 15:32:24,505 : INFO : wrote 3729 events to disk\n",
      "  0%|          | 0/12538 [00:00<?, ?it/s]"
     ]
    },
    {
     "name": "stdout",
     "output_type": "stream",
     "text": [
      "Time for [train model - 5]: 0:18:37.176113\n",
      "Start on [evaluate model - 5] ...\n",
      "Start on [prediction] ...\n"
     ]
    },
    {
     "name": "stderr",
     "output_type": "stream",
     "text": [
      "2020-07-13 15:32:24,611 : INFO : successfully opened events file: data/yelp_10_pro128BCE_g2/events.out.tfevents.1594647144.cuda2\n",
      "2020-07-13 15:32:24,620 : INFO : wrote 1 event to disk\n",
      "2020-07-13 15:32:24,621 : INFO : wrote 1 event to disk\n",
      " 50%|█████     | 6285/12538 [10:00<09:52, 10.56it/s]2020-07-13 15:42:24,641 : INFO : wrote 12570 events to disk\n",
      "100%|█████████▉| 12516/12538 [20:00<00:02, 10.31it/s]2020-07-13 15:52:24,650 : INFO : wrote 12462 events to disk\n",
      "100%|██████████| 12538/12538 [20:02<00:00, 10.43it/s]\n"
     ]
    },
    {
     "name": "stdout",
     "output_type": "stream",
     "text": [
      "Time for [prediction]: 0:20:02.101851\n",
      "Accuracy in epoch 4: 0.8575648055832502\n",
      "Confusion Matrix:\n",
      "[[173496  27104]\n",
      " [ 30041 170559]]\n",
      "\n",
      "CM: [173496  27104  30041 170559] \n",
      "[tn, fp, fn, tp]\n",
      "  accuracy: 0.858\n",
      " precision: 0.858\n",
      "    recall: 0.858\n",
      "  f1-score: 0.858\n",
      "\n",
      "Accuracy:  0.858 \n",
      "\n",
      "Report for [BERTClassifier - yelp_10_pro128BCE_g2]:\n",
      "              precision    recall  f1-score   support\n",
      "\n",
      "           0       0.85      0.86      0.86    200600\n",
      "           1       0.86      0.85      0.86    200600\n",
      "\n",
      "    accuracy                           0.86    401200\n",
      "   macro avg       0.86      0.86      0.86    401200\n",
      "weighted avg       0.86      0.86      0.86    401200\n",
      "\n"
     ]
    },
    {
     "data": {
      "image/png": "[encoded data removed]",
      "text/plain": [
       "<Figure size 432x288 with 1 Axes>"
      ]
     },
     "metadata": {
      "needs_background": "light"
     },
     "output_type": "display_data"
    },
    {
     "name": "stderr",
     "output_type": "stream",
     "text": [
      "2020-07-13 15:52:29,757 : INFO : wrote 43 events to disk\n"
     ]
    },
    {
     "name": "stdout",
     "output_type": "stream",
     "text": [
      "Time for [evaluate model - 5]: 0:20:05.251926\n",
      "Train model on group fold (('Public Services & Government', 'publicservicesgovt'), ('Local Services', 'localservices'), ('Event Planning & Services', 'eventservices')) #6224...\n",
      "Start on [prepare training / validation data] ...\n",
      "Time for [prepare training / validation data]: 0:00:31.604840\n"
     ]
    },
    {
     "name": "stderr",
     "output_type": "stream",
     "text": [
      "  3%|▎         | 170/6224 [00:00<00:03, 1692.34it/s]"
     ]
    },
    {
     "name": "stdout",
     "output_type": "stream",
     "text": [
      "Start on [train model - 5] ...\n",
      "Start on [setup training] ...\n"
     ]
    },
    {
     "name": "stderr",
     "output_type": "stream",
     "text": [
      "100%|██████████| 6224/6224 [00:03<00:00, 1768.69it/s]\n",
      "  0%|          | 0/200 [00:00<?, ?it/s]"
     ]
    },
    {
     "name": "stdout",
     "output_type": "stream",
     "text": [
      "Time for [setup training]: 0:00:03.527087\n",
      "Start on [training] ...\n",
      "Start on [epoch 0] ...\n"
     ]
    },
    {
     "name": "stderr",
     "output_type": "stream",
     "text": [
      "  0%|          | 1/200 [00:00<01:03,  3.14it/s]2020-07-13 15:53:06,837 : INFO : successfully opened events file: data/yelp_10_pro128BCE_g3/events.out.tfevents.1594648386.cuda2\n",
      "2020-07-13 15:53:06,838 : INFO : wrote 1 event to disk\n",
      "2020-07-13 15:53:06,838 : INFO : wrote 1 event to disk\n",
      "100%|██████████| 200/200 [00:50<00:00,  3.96it/s]\n"
     ]
    },
    {
     "name": "stdout",
     "output_type": "stream",
     "text": [
      "Time for [epoch 0]: 0:00:50.551849\n"
     ]
    },
    {
     "name": "stderr",
     "output_type": "stream",
     "text": [
      "  0%|          | 0/200 [00:00<?, ?it/s]"
     ]
    },
    {
     "name": "stdout",
     "output_type": "stream",
     "text": [
      "Start on [epoch 1] ...\n"
     ]
    },
    {
     "name": "stderr",
     "output_type": "stream",
     "text": [
      "100%|██████████| 200/200 [00:50<00:00,  3.93it/s]\n"
     ]
    },
    {
     "name": "stdout",
     "output_type": "stream",
     "text": [
      "Time for [epoch 1]: 0:00:50.858519\n"
     ]
    },
    {
     "name": "stderr",
     "output_type": "stream",
     "text": [
      "  0%|          | 0/200 [00:00<?, ?it/s]"
     ]
    },
    {
     "name": "stdout",
     "output_type": "stream",
     "text": [
      "Start on [epoch 2] ...\n"
     ]
    },
    {
     "name": "stderr",
     "output_type": "stream",
     "text": [
      "100%|██████████| 200/200 [00:50<00:00,  3.93it/s]\n"
     ]
    },
    {
     "name": "stdout",
     "output_type": "stream",
     "text": [
      "Time for [epoch 2]: 0:00:50.874795\n"
     ]
    },
    {
     "name": "stderr",
     "output_type": "stream",
     "text": [
      "  0%|          | 0/200 [00:00<?, ?it/s]"
     ]
    },
    {
     "name": "stdout",
     "output_type": "stream",
     "text": [
      "Start on [epoch 3] ...\n"
     ]
    },
    {
     "name": "stderr",
     "output_type": "stream",
     "text": [
      "100%|██████████| 200/200 [00:50<00:00,  3.93it/s]\n"
     ]
    },
    {
     "name": "stdout",
     "output_type": "stream",
     "text": [
      "Time for [epoch 3]: 0:00:50.879905\n"
     ]
    },
    {
     "name": "stderr",
     "output_type": "stream",
     "text": [
      "  0%|          | 0/200 [00:00<?, ?it/s]"
     ]
    },
    {
     "name": "stdout",
     "output_type": "stream",
     "text": [
      "Start on [epoch 4] ...\n"
     ]
    },
    {
     "name": "stderr",
     "output_type": "stream",
     "text": [
      "100%|██████████| 200/200 [00:50<00:00,  3.93it/s]\n"
     ]
    },
    {
     "name": "stdout",
     "output_type": "stream",
     "text": [
      "Time for [epoch 4]: 0:00:50.872289\n",
      "Time for [training]: 0:04:15.757308\n"
     ]
    },
    {
     "data": {
      "image/png": "[encoded data removed]",
      "text/plain": [
       "<Figure size 432x288 with 2 Axes>"
      ]
     },
     "metadata": {
      "needs_background": "light"
     },
     "output_type": "display_data"
    },
    {
     "name": "stderr",
     "output_type": "stream",
     "text": [
      "2020-07-13 15:57:22,378 : INFO : wrote 1999 events to disk\n",
      "  0%|          | 0/13168 [00:00<?, ?it/s]"
     ]
    },
    {
     "name": "stdout",
     "output_type": "stream",
     "text": [
      "Time for [train model - 5]: 0:04:19.411256\n",
      "Start on [evaluate model - 5] ...\n",
      "Start on [prediction] ...\n"
     ]
    },
    {
     "name": "stderr",
     "output_type": "stream",
     "text": [
      "2020-07-13 15:57:22,484 : INFO : successfully opened events file: data/yelp_10_pro128BCE_g3/events.out.tfevents.1594648642.cuda2\n",
      "2020-07-13 15:57:22,493 : INFO : wrote 1 event to disk\n",
      "2020-07-13 15:57:22,494 : INFO : wrote 1 event to disk\n",
      " 48%|████▊     | 6284/13168 [10:00<10:56, 10.49it/s]2020-07-13 16:07:22,495 : INFO : wrote 12568 events to disk\n",
      " 95%|█████████▍| 12476/13168 [20:00<01:06, 10.35it/s]2020-07-13 16:17:22,580 : INFO : wrote 12384 events to disk\n",
      "100%|██████████| 13168/13168 [21:06<00:00, 10.40it/s]\n"
     ]
    },
    {
     "name": "stdout",
     "output_type": "stream",
     "text": [
      "Time for [prediction]: 0:21:06.569099\n",
      "Accuracy in epoch 4: 0.8616076514144675\n",
      "Confusion Matrix:\n",
      "[[184019  26661]\n",
      " [ 31652 179028]]\n",
      "\n",
      "CM: [184019  26661  31652 179028] \n",
      "[tn, fp, fn, tp]\n",
      "  accuracy: 0.862\n",
      " precision: 0.862\n",
      "    recall: 0.862\n",
      "  f1-score: 0.862\n",
      "\n",
      "Accuracy:  0.862 \n",
      "\n",
      "Report for [BERTClassifier - yelp_10_pro128BCE_g3]:\n",
      "              precision    recall  f1-score   support\n",
      "\n",
      "           0       0.85      0.87      0.86    210680\n",
      "           1       0.87      0.85      0.86    210680\n",
      "\n",
      "    accuracy                           0.86    421360\n",
      "   macro avg       0.86      0.86      0.86    421360\n",
      "weighted avg       0.86      0.86      0.86    421360\n",
      "\n"
     ]
    },
    {
     "data": {
      "image/png": "[encoded data removed]",
      "text/plain": [
       "<Figure size 432x288 with 1 Axes>"
      ]
     },
     "metadata": {
      "needs_background": "light"
     },
     "output_type": "display_data"
    },
    {
     "name": "stderr",
     "output_type": "stream",
     "text": [
      "2020-07-13 16:18:32,403 : INFO : wrote 1383 events to disk\n"
     ]
    },
    {
     "name": "stdout",
     "output_type": "stream",
     "text": [
      "Time for [evaluate model - 5]: 0:21:10.025442\n",
      "Train model on group fold (('Automotive', 'auto'), ('Education', 'education'), ('Nightlife', 'nightlife')) #33328...\n",
      "Start on [prepare training / validation data] ...\n",
      "Time for [prepare training / validation data]: 0:00:32.272577\n"
     ]
    },
    {
     "name": "stderr",
     "output_type": "stream",
     "text": [
      "  0%|          | 153/33328 [00:00<00:21, 1526.28it/s]"
     ]
    },
    {
     "name": "stdout",
     "output_type": "stream",
     "text": [
      "Start on [train model - 5] ...\n",
      "Start on [setup training] ...\n"
     ]
    },
    {
     "name": "stderr",
     "output_type": "stream",
     "text": [
      "100%|██████████| 33328/33328 [00:19<00:00, 1681.47it/s]\n",
      "  0%|          | 0/1045 [00:00<?, ?it/s]"
     ]
    },
    {
     "name": "stdout",
     "output_type": "stream",
     "text": [
      "Time for [setup training]: 0:00:19.834401\n",
      "Start on [training] ...\n",
      "Start on [epoch 0] ...\n"
     ]
    },
    {
     "name": "stderr",
     "output_type": "stream",
     "text": [
      "  0%|          | 1/1045 [00:00<05:32,  3.14it/s]2020-07-13 16:19:26,636 : INFO : successfully opened events file: data/yelp_10_pro128BCE_g4/events.out.tfevents.1594649966.cuda2\n",
      "2020-07-13 16:19:26,636 : INFO : wrote 1 event to disk\n",
      "2020-07-13 16:19:26,637 : INFO : wrote 1 event to disk\n",
      " 48%|████▊     | 500/1045 [02:10<02:23,  3.81it/s]"
     ]
    },
    {
     "name": "stdout",
     "output_type": "stream",
     "text": [
      "[Epoch 0 Batch 500/1045] loss=0.4098, lr=0.0000050, acc=0.808 - time 0:02:10.027778\n"
     ]
    },
    {
     "name": "stderr",
     "output_type": "stream",
     "text": [
      " 96%|█████████▌| 1000/1045 [04:20<00:11,  3.80it/s]"
     ]
    },
    {
     "name": "stdout",
     "output_type": "stream",
     "text": [
      "[Epoch 0 Batch 1000/1045] loss=0.3755, lr=0.0000050, acc=0.814 - time 0:02:10.240895\n"
     ]
    },
    {
     "name": "stderr",
     "output_type": "stream",
     "text": [
      "100%|██████████| 1045/1045 [04:32<00:00,  3.84it/s]\n"
     ]
    },
    {
     "name": "stdout",
     "output_type": "stream",
     "text": [
      "Time for [epoch 0]: 0:04:32.037118\n"
     ]
    },
    {
     "name": "stderr",
     "output_type": "stream",
     "text": [
      "  0%|          | 0/1045 [00:00<?, ?it/s]"
     ]
    },
    {
     "name": "stdout",
     "output_type": "stream",
     "text": [
      "Start on [epoch 1] ...\n"
     ]
    },
    {
     "name": "stderr",
     "output_type": "stream",
     "text": [
      " 48%|████▊     | 500/1045 [02:10<02:21,  3.84it/s]"
     ]
    },
    {
     "name": "stdout",
     "output_type": "stream",
     "text": [
      "[Epoch 1 Batch 500/1045] loss=0.3236, lr=0.0000050, acc=0.852 - time 0:02:10.228417\n"
     ]
    },
    {
     "name": "stderr",
     "output_type": "stream",
     "text": [
      " 96%|█████████▌| 1000/1045 [04:20<00:10,  4.35it/s]"
     ]
    },
    {
     "name": "stdout",
     "output_type": "stream",
     "text": [
      "[Epoch 1 Batch 1000/1045] loss=0.3165, lr=0.0000050, acc=0.853 - time 0:02:10.448397\n"
     ]
    },
    {
     "name": "stderr",
     "output_type": "stream",
     "text": [
      "100%|██████████| 1045/1045 [04:32<00:00,  3.84it/s]\n"
     ]
    },
    {
     "name": "stdout",
     "output_type": "stream",
     "text": [
      "Time for [epoch 1]: 0:04:32.398813\n"
     ]
    },
    {
     "name": "stderr",
     "output_type": "stream",
     "text": [
      "  0%|          | 0/1045 [00:00<?, ?it/s]"
     ]
    },
    {
     "name": "stdout",
     "output_type": "stream",
     "text": [
      "Start on [epoch 2] ...\n"
     ]
    },
    {
     "name": "stderr",
     "output_type": "stream",
     "text": [
      " 20%|██        | 212/1045 [00:55<03:39,  3.80it/s]2020-07-13 16:29:26,770 : INFO : wrote 4602 events to disk\n",
      " 48%|████▊     | 500/1045 [02:10<02:22,  3.81it/s]"
     ]
    },
    {
     "name": "stdout",
     "output_type": "stream",
     "text": [
      "[Epoch 2 Batch 500/1045] loss=0.2660, lr=0.0000050, acc=0.883 - time 0:02:10.404618\n"
     ]
    },
    {
     "name": "stderr",
     "output_type": "stream",
     "text": [
      " 96%|█████████▌| 999/1045 [04:20<00:12,  3.81it/s]"
     ]
    },
    {
     "name": "stdout",
     "output_type": "stream",
     "text": [
      "[Epoch 2 Batch 1000/1045] loss=0.2685, lr=0.0000050, acc=0.883 - time 0:02:10.203960\n"
     ]
    },
    {
     "name": "stderr",
     "output_type": "stream",
     "text": [
      "100%|██████████| 1045/1045 [04:32<00:00,  3.84it/s]\n"
     ]
    },
    {
     "name": "stdout",
     "output_type": "stream",
     "text": [
      "Time for [epoch 2]: 0:04:32.445702\n"
     ]
    },
    {
     "name": "stderr",
     "output_type": "stream",
     "text": [
      "  0%|          | 0/1045 [00:00<?, ?it/s]"
     ]
    },
    {
     "name": "stdout",
     "output_type": "stream",
     "text": [
      "Start on [epoch 3] ...\n"
     ]
    },
    {
     "name": "stderr",
     "output_type": "stream",
     "text": [
      " 48%|████▊     | 500/1045 [02:10<02:23,  3.79it/s]"
     ]
    },
    {
     "name": "stdout",
     "output_type": "stream",
     "text": [
      "[Epoch 3 Batch 500/1045] loss=0.2160, lr=0.0000050, acc=0.908 - time 0:02:10.130870\n"
     ]
    },
    {
     "name": "stderr",
     "output_type": "stream",
     "text": [
      " 96%|█████████▌| 1000/1045 [04:20<00:11,  3.83it/s]"
     ]
    },
    {
     "name": "stdout",
     "output_type": "stream",
     "text": [
      "[Epoch 3 Batch 1000/1045] loss=0.2220, lr=0.0000050, acc=0.908 - time 0:02:10.417269\n"
     ]
    },
    {
     "name": "stderr",
     "output_type": "stream",
     "text": [
      "100%|██████████| 1045/1045 [04:32<00:00,  3.84it/s]\n"
     ]
    },
    {
     "name": "stdout",
     "output_type": "stream",
     "text": [
      "Time for [epoch 3]: 0:04:32.341463\n"
     ]
    },
    {
     "name": "stderr",
     "output_type": "stream",
     "text": [
      "  0%|          | 0/1045 [00:00<?, ?it/s]"
     ]
    },
    {
     "name": "stdout",
     "output_type": "stream",
     "text": [
      "Start on [epoch 4] ...\n"
     ]
    },
    {
     "name": "stderr",
     "output_type": "stream",
     "text": [
      " 40%|████      | 422/1045 [01:50<02:44,  3.78it/s]2020-07-13 16:39:27,031 : INFO : wrote 4600 events to disk\n",
      " 48%|████▊     | 500/1045 [02:10<02:23,  3.79it/s]"
     ]
    },
    {
     "name": "stdout",
     "output_type": "stream",
     "text": [
      "[Epoch 4 Batch 500/1045] loss=0.1681, lr=0.0000050, acc=0.934 - time 0:02:10.497089\n"
     ]
    },
    {
     "name": "stderr",
     "output_type": "stream",
     "text": [
      " 96%|█████████▌| 1000/1045 [04:20<00:11,  3.79it/s]"
     ]
    },
    {
     "name": "stdout",
     "output_type": "stream",
     "text": [
      "[Epoch 4 Batch 1000/1045] loss=0.1773, lr=0.0000050, acc=0.931 - time 0:02:09.973393\n"
     ]
    },
    {
     "name": "stderr",
     "output_type": "stream",
     "text": [
      "100%|██████████| 1045/1045 [04:32<00:00,  3.84it/s]\n"
     ]
    },
    {
     "name": "stdout",
     "output_type": "stream",
     "text": [
      "Time for [epoch 4]: 0:04:32.223118\n",
      "Time for [training]: 0:22:43.172700\n"
     ]
    },
    {
     "data": {
      "image/png": "[encoded data removed]",
      "text/plain": [
       "<Figure size 432x288 with 2 Axes>"
      ]
     },
     "metadata": {
      "needs_background": "light"
     },
     "output_type": "display_data"
    },
    {
     "name": "stderr",
     "output_type": "stream",
     "text": [
      "2020-07-13 16:42:09,614 : INFO : wrote 1247 events to disk\n",
      "  0%|          | 0/12321 [00:00<?, ?it/s]"
     ]
    },
    {
     "name": "stdout",
     "output_type": "stream",
     "text": [
      "Time for [train model - 5]: 0:23:03.144770\n",
      "Start on [evaluate model - 5] ...\n",
      "Start on [prediction] ...\n"
     ]
    },
    {
     "name": "stderr",
     "output_type": "stream",
     "text": [
      "2020-07-13 16:42:09,717 : INFO : successfully opened events file: data/yelp_10_pro128BCE_g4/events.out.tfevents.1594651329.cuda2\n",
      "2020-07-13 16:42:09,727 : INFO : wrote 1 event to disk\n",
      "2020-07-13 16:42:09,727 : INFO : wrote 1 event to disk\n",
      " 51%|█████     | 6300/12321 [10:00<09:33, 10.50it/s]2020-07-13 16:52:09,791 : INFO : wrote 12600 events to disk\n",
      "100%|██████████| 12321/12321 [19:40<00:00, 10.44it/s]\n"
     ]
    },
    {
     "name": "stdout",
     "output_type": "stream",
     "text": [
      "Time for [prediction]: 0:19:40.512943\n",
      "Accuracy in epoch 4: 0.861660951260095\n",
      "Confusion Matrix:\n",
      "[[169574  27554]\n",
      " [ 26987 170141]]\n",
      "\n",
      "CM: [169574  27554  26987 170141] \n",
      "[tn, fp, fn, tp]\n",
      "  accuracy: 0.862\n",
      " precision: 0.862\n",
      "    recall: 0.862\n",
      "  f1-score: 0.862\n",
      "\n",
      "Accuracy:  0.862 \n",
      "\n",
      "Report for [BERTClassifier - yelp_10_pro128BCE_g4]:\n",
      "              precision    recall  f1-score   support\n",
      "\n",
      "           0       0.86      0.86      0.86    197128\n",
      "           1       0.86      0.86      0.86    197128\n",
      "\n",
      "    accuracy                           0.86    394256\n",
      "   macro avg       0.86      0.86      0.86    394256\n",
      "weighted avg       0.86      0.86      0.86    394256\n",
      "\n"
     ]
    },
    {
     "data": {
      "image/png": "[encoded data removed]",
      "text/plain": [
       "<Figure size 432x288 with 1 Axes>"
      ]
     },
     "metadata": {
      "needs_background": "light"
     },
     "output_type": "display_data"
    },
    {
     "name": "stderr",
     "output_type": "stream",
     "text": [
      "2020-07-13 17:01:53,278 : INFO : wrote 12041 events to disk\n"
     ]
    },
    {
     "name": "stdout",
     "output_type": "stream",
     "text": [
      "Time for [evaluate model - 5]: 0:19:43.664819\n",
      "Train model on group fold (('Hotels & Travel', 'hotelstravel'), ('Professional Services', 'professional'), ('Pets', 'pets')) #13008...\n",
      "Start on [prepare training / validation data] ...\n",
      "Time for [prepare training / validation data]: 0:00:39.852894\n"
     ]
    },
    {
     "name": "stderr",
     "output_type": "stream",
     "text": [
      "  1%|          | 161/13008 [00:00<00:07, 1608.96it/s]"
     ]
    },
    {
     "name": "stdout",
     "output_type": "stream",
     "text": [
      "Start on [train model - 5] ...\n",
      "Start on [setup training] ...\n"
     ]
    },
    {
     "name": "stderr",
     "output_type": "stream",
     "text": [
      "100%|██████████| 13008/13008 [00:08<00:00, 1489.79it/s]\n",
      "  0%|          | 0/413 [00:00<?, ?it/s]"
     ]
    },
    {
     "name": "stdout",
     "output_type": "stream",
     "text": [
      "Time for [setup training]: 0:00:08.741012\n",
      "Start on [training] ...\n",
      "Start on [epoch 0] ...\n"
     ]
    },
    {
     "name": "stderr",
     "output_type": "stream",
     "text": [
      "  0%|          | 1/413 [00:00<02:07,  3.22it/s]2020-07-13 17:02:43,793 : INFO : successfully opened events file: data/yelp_10_pro128BCE_g5/events.out.tfevents.1594652563.cuda2\n",
      "2020-07-13 17:02:43,810 : INFO : wrote 1 event to disk\n",
      "2020-07-13 17:02:43,815 : INFO : wrote 1 event to disk\n",
      "100%|██████████| 413/413 [01:47<00:00,  3.86it/s]\n"
     ]
    },
    {
     "name": "stdout",
     "output_type": "stream",
     "text": [
      "Time for [epoch 0]: 0:01:47.097724\n"
     ]
    },
    {
     "name": "stderr",
     "output_type": "stream",
     "text": [
      "  0%|          | 0/413 [00:00<?, ?it/s]"
     ]
    },
    {
     "name": "stdout",
     "output_type": "stream",
     "text": [
      "Start on [epoch 1] ...\n"
     ]
    },
    {
     "name": "stderr",
     "output_type": "stream",
     "text": [
      "100%|██████████| 413/413 [01:47<00:00,  3.84it/s]\n"
     ]
    },
    {
     "name": "stdout",
     "output_type": "stream",
     "text": [
      "Time for [epoch 1]: 0:01:47.553868\n"
     ]
    },
    {
     "name": "stderr",
     "output_type": "stream",
     "text": [
      "  0%|          | 0/413 [00:00<?, ?it/s]"
     ]
    },
    {
     "name": "stdout",
     "output_type": "stream",
     "text": [
      "Start on [epoch 2] ...\n"
     ]
    },
    {
     "name": "stderr",
     "output_type": "stream",
     "text": [
      "100%|██████████| 413/413 [01:47<00:00,  3.84it/s]\n"
     ]
    },
    {
     "name": "stdout",
     "output_type": "stream",
     "text": [
      "Time for [epoch 2]: 0:01:47.560860\n"
     ]
    },
    {
     "name": "stderr",
     "output_type": "stream",
     "text": [
      "  0%|          | 0/413 [00:00<?, ?it/s]"
     ]
    },
    {
     "name": "stdout",
     "output_type": "stream",
     "text": [
      "Start on [epoch 3] ...\n"
     ]
    },
    {
     "name": "stderr",
     "output_type": "stream",
     "text": [
      "100%|██████████| 413/413 [01:47<00:00,  3.84it/s]\n"
     ]
    },
    {
     "name": "stdout",
     "output_type": "stream",
     "text": [
      "Time for [epoch 3]: 0:01:47.473487\n"
     ]
    },
    {
     "name": "stderr",
     "output_type": "stream",
     "text": [
      "  0%|          | 0/413 [00:00<?, ?it/s]"
     ]
    },
    {
     "name": "stdout",
     "output_type": "stream",
     "text": [
      "Start on [epoch 4] ...\n"
     ]
    },
    {
     "name": "stderr",
     "output_type": "stream",
     "text": [
      "100%|██████████| 413/413 [01:47<00:00,  3.85it/s]\n"
     ]
    },
    {
     "name": "stdout",
     "output_type": "stream",
     "text": [
      "Time for [epoch 4]: 0:01:47.398614\n",
      "Time for [training]: 0:08:58.816051\n"
     ]
    },
    {
     "data": {
      "image/png": "[encoded data removed]",
      "text/plain": [
       "<Figure size 432x288 with 2 Axes>"
      ]
     },
     "metadata": {
      "needs_background": "light"
     },
     "output_type": "display_data"
    },
    {
     "name": "stderr",
     "output_type": "stream",
     "text": [
      "2020-07-13 17:11:42,418 : INFO : wrote 4129 events to disk\n",
      "  0%|          | 0/12956 [00:00<?, ?it/s]"
     ]
    },
    {
     "name": "stdout",
     "output_type": "stream",
     "text": [
      "Time for [train model - 5]: 0:09:07.686425\n",
      "Start on [evaluate model - 5] ...\n",
      "Start on [prediction] ...\n"
     ]
    },
    {
     "name": "stderr",
     "output_type": "stream",
     "text": [
      "2020-07-13 17:11:42,523 : INFO : successfully opened events file: data/yelp_10_pro128BCE_g5/events.out.tfevents.1594653102.cuda2\n",
      "2020-07-13 17:11:42,533 : INFO : wrote 1 event to disk\n",
      "2020-07-13 17:11:42,533 : INFO : wrote 1 event to disk\n",
      " 49%|████▊     | 6287/12956 [10:00<10:37, 10.46it/s]2020-07-13 17:21:42,567 : INFO : wrote 12574 events to disk\n",
      " 96%|█████████▋| 12489/12956 [20:00<00:44, 10.52it/s]2020-07-13 17:31:42,596 : INFO : wrote 12402 events to disk\n",
      "100%|██████████| 12956/12956 [20:44<00:00, 10.41it/s]\n"
     ]
    },
    {
     "name": "stdout",
     "output_type": "stream",
     "text": [
      "Time for [prediction]: 0:20:44.585230\n",
      "Accuracy in epoch 4: 0.8618733356489522\n",
      "Confusion Matrix:\n",
      "[[181005  26283]\n",
      " [ 30981 176307]]\n",
      "\n",
      "CM: [181005  26283  30981 176307] \n",
      "[tn, fp, fn, tp]\n",
      "  accuracy: 0.862\n",
      " precision: 0.862\n",
      "    recall: 0.862\n",
      "  f1-score: 0.862\n",
      "\n",
      "Accuracy:  0.862 \n",
      "\n",
      "Report for [BERTClassifier - yelp_10_pro128BCE_g5]:\n",
      "              precision    recall  f1-score   support\n",
      "\n",
      "           0       0.85      0.87      0.86    207288\n",
      "           1       0.87      0.85      0.86    207288\n",
      "\n",
      "    accuracy                           0.86    414576\n",
      "   macro avg       0.86      0.86      0.86    414576\n",
      "weighted avg       0.86      0.86      0.86    414576\n",
      "\n"
     ]
    },
    {
     "data": {
      "image/png": "[encoded data removed]",
      "text/plain": [
       "<Figure size 432x288 with 1 Axes>"
      ]
     },
     "metadata": {
      "needs_background": "light"
     },
     "output_type": "display_data"
    },
    {
     "name": "stderr",
     "output_type": "stream",
     "text": [
      "2020-07-13 17:32:30,252 : INFO : wrote 935 events to disk\n"
     ]
    },
    {
     "name": "stdout",
     "output_type": "stream",
     "text": [
      "Time for [evaluate model - 5]: 0:20:47.833728\n",
      "Train model on group fold (('Food', 'food'), ('Beauty & Spas', 'beautysvc'), ('Health & Medical', 'health')) #87104...\n",
      "Start on [prepare training / validation data] ...\n",
      "Time for [prepare training / validation data]: 0:00:31.216715\n"
     ]
    },
    {
     "name": "stderr",
     "output_type": "stream",
     "text": [
      "  0%|          | 167/87104 [00:00<00:52, 1667.61it/s]"
     ]
    },
    {
     "name": "stdout",
     "output_type": "stream",
     "text": [
      "Start on [train model - 5] ...\n",
      "Start on [setup training] ...\n"
     ]
    },
    {
     "name": "stderr",
     "output_type": "stream",
     "text": [
      "100%|██████████| 87104/87104 [00:48<00:00, 1811.92it/s]\n",
      "  0%|          | 0/2727 [00:00<?, ?it/s]"
     ]
    },
    {
     "name": "stdout",
     "output_type": "stream",
     "text": [
      "Time for [setup training]: 0:00:48.097386\n",
      "Start on [training] ...\n",
      "Start on [epoch 0] ...\n"
     ]
    },
    {
     "name": "stderr",
     "output_type": "stream",
     "text": [
      "  0%|          | 1/2727 [00:00<14:15,  3.19it/s]2020-07-13 17:33:51,648 : INFO : successfully opened events file: data/yelp_10_pro128BCE_g6/events.out.tfevents.1594654431.cuda2\n",
      "2020-07-13 17:33:51,649 : INFO : wrote 1 event to disk\n",
      "2020-07-13 17:33:51,671 : INFO : wrote 1 event to disk\n",
      " 18%|█▊        | 500/2727 [02:08<09:43,  3.82it/s]"
     ]
    },
    {
     "name": "stdout",
     "output_type": "stream",
     "text": [
      "[Epoch 0 Batch 500/2727] loss=0.3855, lr=0.0000050, acc=0.825 - time 0:02:08.809176\n"
     ]
    },
    {
     "name": "stderr",
     "output_type": "stream",
     "text": [
      " 37%|███▋      | 1000/2727 [04:18<07:29,  3.84it/s]"
     ]
    },
    {
     "name": "stdout",
     "output_type": "stream",
     "text": [
      "[Epoch 0 Batch 1000/2727] loss=0.3584, lr=0.0000050, acc=0.829 - time 0:02:09.746011\n"
     ]
    },
    {
     "name": "stderr",
     "output_type": "stream",
     "text": [
      " 55%|█████▌    | 1500/2727 [06:28<05:23,  3.80it/s]"
     ]
    },
    {
     "name": "stdout",
     "output_type": "stream",
     "text": [
      "[Epoch 0 Batch 1500/2727] loss=0.3494, lr=0.0000050, acc=0.832 - time 0:02:10.167788\n"
     ]
    },
    {
     "name": "stderr",
     "output_type": "stream",
     "text": [
      " 72%|███████▏  | 1960/2727 [08:28<03:19,  3.85it/s]"
     ]
    }
   ],
   "source": [
    "for i, (cg_ids, (train_df, dev_df, dev_dfs)) in enumerate(map_cg_train_dev_groups.items()):\n",
    "    print(f\"Train model on group fold {cg_ids} #{len(train_df)}...\")\n",
    "    \n",
    "    with Timer(\"prepare training / validation data\"):\n",
    "        X_train, y_train = train_df[names_columns_X], train_df[names_columns_y]\n",
    "        X_dev, y_dev = dev_df[names_columns_X], dev_df[names_columns_y]\n",
    "\n",
    "        _, data_train = transform_dataset(X_train, y_train, transform)\n",
    "        _, data_dev = transform_dataset(X_dev, y_dev, transform)\n",
    "\n",
    "    run_name = f\"{run_name_base}_g{i}\"\n",
    "    fn_run_path = Path(f\"data/{run_name}\")\n",
    "    if not fn_run_path.exists():\n",
    "        fn_run_path.mkdir()\n",
    "\n",
    "    fn_group = fn_run_path / \"group_data.p\"\n",
    "    with open(fn_group, \"wb\") as fp:\n",
    "        pickle.dump(cg_ids, fp, protocol=pickle.HIGHEST_PROTOCOL)\n",
    "        pickle.dump(train_df, fp, protocol=pickle.HIGHEST_PROTOCOL)\n",
    "        pickle.dump(dev_df, fp, protocol=pickle.HIGHEST_PROTOCOL)\n",
    "        pickle.dump(dev_dfs, fp, protocol=pickle.HIGHEST_PROTOCOL)\n",
    "        pickle.dump(groups, fp, protocol=pickle.HIGHEST_PROTOCOL)\n",
    "        \n",
    "    with Timer(f\"train model - {num_epochs}\"), SummaryWriter(logdir=str(fn_run_path), flush_secs=600) as sw:\n",
    "        stats = train(model, data_train, ctx, metric, loss_function, batch_size=batch_size, lr=5e-6, num_epochs=num_epochs, sw=sw, checkpoint_dir=str(fn_run_path))\n",
    "        plot_train_stats(stats)\n",
    "        \n",
    "    with Timer(f\"evaluate model - {num_epochs}\"), SummaryWriter(logdir=str(fn_run_path), flush_secs=600) as sw:\n",
    "        all_predictions, cum_loss = predict(model, data_dev, ctx, metric, loss_function, batch_size=batch_size, sw=sw)\n",
    "        print(f\"Accuracy in epoch {epoch_id}:\", metric.get()[1])\n",
    "\n",
    "        y_true, y_pred = predict_out_to_ys(all_predictions, all_labels)\n",
    "        with open(fn_run_path / f\"{run_name}_g{i}_preds.p\", \"wb\") as fp:\n",
    "            pickle.dump(y_true, fp, protocol=pickle.HIGHEST_PROTOCOL)\n",
    "            pickle.dump(y_pred, fp, protocol=pickle.HIGHEST_PROTOCOL)\n",
    "        report_training_results(y_true, y_pred, name=f\"BERTClassifier - {run_name}\", heatmap=False)\n",
    "        plot_confusion_matrix(y_true, y_pred, labels=[0, 1], title=f\"Yelp {run_name} Epoch {epoch_id}\", values_format=\"d\", cmap=\"Blues\", include_colorbar=False)\n",
    "        plt.show()"
   ]
  },
  {
   "cell_type": "code",
   "execution_count": null,
   "metadata": {},
   "outputs": [],
   "source": []
  },
  {
   "cell_type": "markdown",
   "metadata": {},
   "source": [
    "### Evaluate again"
   ]
  },
  {
   "cell_type": "code",
   "execution_count": null,
   "metadata": {},
   "outputs": [],
   "source": [
    "cg_results = dict()\n",
    "\n",
    "for i, (cg_ids, (train_df, dev_df, dev_dfs)) in enumerate(map_cg_train_dev_groups.items()):\n",
    "    print(f\"Eval model on group fold {cg_ids} #{len(train_df)}...\")\n",
    "    \n",
    "    with Timer(\"prepare validation data\"):\n",
    "        X_dev, y_dev = dev_df[names_columns_X], dev_df[names_columns_y]\n",
    "        _, data_dev = transform_dataset(X_dev, y_dev, transform)\n",
    "\n",
    "    run_name = f\"{run_name_base}_g{i}\"\n",
    "    fn_run_path = Path(f\"data/{run_name}\")\n",
    "\n",
    "    fn_group = fn_run_path / \"group_data.p\"\n",
    "    #with open(fn_group, \"rb\") as fp:\n",
    "    #    pickle.dump(cg_ids, fp, protocol=pickle.HIGHEST_PROTOCOL)\n",
    "    #    pickle.dump(train_df, fp, protocol=pickle.HIGHEST_PROTOCOL)\n",
    "    #    pickle.dump(dev_df, fp, protocol=pickle.HIGHEST_PROTOCOL)\n",
    "    #    pickle.dump(dev_dfs, fp, protocol=pickle.HIGHEST_PROTOCOL)\n",
    "    #    pickle.dump(groups, fp, protocol=pickle.HIGHEST_PROTOCOL)\n",
    "    \n",
    "    fn_model_state = fn_run_path / f\"bert.model.checkpoint{epoch_id}.params\"\n",
    "    print(f\"Load {fn_model_state} ...\")\n",
    "    model.load_parameters(str(fn_model_state), ctx=ctx)\n",
    "\n",
    "    with Timer(f\"evaluate model - {num_epochs}\"), SummaryWriter(logdir=str(fn_run_path), flush_secs=600) as sw:\n",
    "        all_predictions, cum_loss = predict(model, data_dev, ctx, metric, loss_function, batch_size=batch_size, sw=sw)\n",
    "        print(f\"Accuracy in epoch {epoch_id}:\", metric.get()[1])\n",
    "\n",
    "        y_true, y_pred = predict_out_to_ys(all_predictions, all_labels)\n",
    "        with open(fn_run_path / f\"{run_name}_g{i}_preds.p\", \"wb\") as fp:\n",
    "            pickle.dump(y_true, fp, protocol=pickle.HIGHEST_PROTOCOL)\n",
    "            pickle.dump(y_pred, fp, protocol=pickle.HIGHEST_PROTOCOL)\n",
    "        report_training_results(y_true, y_pred, name=f\"BERTClassifier - {run_name}\", heatmap=False)\n",
    "        plot_confusion_matrix(y_true, y_pred, labels=[0, 1], title=f\"Yelp {run_name} Epoch {epoch_id}\", values_format=\"d\", cmap=\"Blues\", include_colorbar=False)\n",
    "        plt.show()\n",
    "        \n",
    "        cg_results[cg_ids] = compute_metrics(y_true, y_pred, precision=8, averaging=\"macro\", dump=False)"
   ]
  },
  {
   "cell_type": "code",
   "execution_count": null,
   "metadata": {},
   "outputs": [],
   "source": [
    "fn_run_path = Path(f\"data/{run_name_base}\")\n",
    "fn_cg_results = fn_run_path / \"cg_results.p\"\n",
    "with open(fn_cg_results, \"wb\") as fp:\n",
    "    pickle.dump(cg_results, fp, protocol=pickle.HIGHEST_PROTOCOL)"
   ]
  },
  {
   "cell_type": "code",
   "execution_count": null,
   "metadata": {},
   "outputs": [],
   "source": [
    "fn_run_path = Path(f\"data/{run_name_base}\")\n",
    "fn_cg_results = fn_run_path / \"cg_results.p\"\n",
    "with open(fn_cg_results, \"rb\") as fp:\n",
    "    cg_results = pickle.load(fp)"
   ]
  },
  {
   "cell_type": "code",
   "execution_count": null,
   "metadata": {},
   "outputs": [],
   "source": [
    "fn_run_path = Path(f\"data/{run_name_base}\")\n",
    "fn_cg_results = fn_run_path / \"cg_results.txt\"\n",
    "with open(fn_cg_results, \"w\") as fp:\n",
    "    for cg_ids, (prec, rec, f1, acc, cm) in cg_results.items():\n",
    "        fp.write(f\"{str(cg_ids):<30}: P:{prec * 100:5.2f}%  R:{rec * 100:5.2f}%  F:{f1 * 100:5.2f}%  A:{acc * 100:5.2f}%  -- CM:{cm.flatten().tolist()}\\n\\n\")"
   ]
  },
  {
   "cell_type": "code",
   "execution_count": 72,
   "metadata": {},
   "outputs": [
    {
     "name": "stdout",
     "output_type": "stream",
     "text": [
      "\n",
      "\n",
      "(('Religious Organizations', 'religiousorgs'), ('Shopping', 'shopping'), ('Local Flavor', 'localflavor'))\n",
      "\n",
      "P:75.71%  R:75.71%  F:75.71%  A:75.71%\n",
      "\n",
      "\n",
      "(('Restaurants', 'restaurants'), ('Mass Media', 'massmedia'), ('Financial Services', 'financialservices'))\n",
      "\n",
      "P:81.41%  R:81.28%  F:81.26%  A:81.28%\n",
      "\n",
      "\n",
      "(('Active Life', 'active'), ('Arts & Entertainment', 'arts'), ('Home Services', 'homeservices'))\n",
      "\n",
      "P:85.76%  R:85.76%  F:85.76%  A:85.76%\n",
      "\n",
      "\n",
      "(('Public Services & Government', 'publicservicesgovt'), ('Local Services', 'localservices'), ('Event Planning & Services', 'eventservices'))\n",
      "\n",
      "P:86.18%  R:86.16%  F:86.16%  A:86.16%\n",
      "\n",
      "\n",
      "(('Automotive', 'auto'), ('Education', 'education'), ('Nightlife', 'nightlife'))\n",
      "\n",
      "P:86.17%  R:86.17%  F:86.17%  A:86.17%\n",
      "\n",
      "\n",
      "(('Hotels & Travel', 'hotelstravel'), ('Professional Services', 'professional'), ('Pets', 'pets'))\n",
      "\n",
      "P:86.21%  R:86.19%  F:86.19%  A:86.19%\n",
      "\n",
      "\n",
      "(('Food', 'food'), ('Beauty & Spas', 'beautysvc'), ('Health & Medical', 'health'))\n",
      "\n",
      "P:87.21%  R:87.21%  F:87.21%  A:87.21%\n"
     ]
    }
   ],
   "source": [
    "cur_cat = None\n",
    "for cg_ids, (prec, rec, f1, acc, cm) in cg_results.items():\n",
    "    if cur_cat is None or cur_cat != cg_ids:\n",
    "        cur_cat = cg_ids\n",
    "        print(f\"\\n\\n{cg_ids}\\n\")\n",
    "    print(f\"P:{prec * 100:5.2f}%  R:{rec * 100:5.2f}%  F:{f1 * 100:5.2f}%  A:{acc * 100:5.2f}%\")"
   ]
  },
  {
   "cell_type": "code",
   "execution_count": null,
   "metadata": {},
   "outputs": [],
   "source": []
  },
  {
   "cell_type": "code",
   "execution_count": null,
   "metadata": {},
   "outputs": [],
   "source": [
    "cg_results_single_group = dict()\n",
    "\n",
    "for i, (cg_ids, (train_df, dev_df, dev_dfs)) in enumerate(map_cg_train_dev_groups.items()):\n",
    "    print(f\"Eval model {cg_ids} #{len(train_df)}...\")\n",
    "    \n",
    "    cg_groups = [cg_ids_o for cg_ids_o in groups if cg_ids_o != cg_ids]\n",
    "    \n",
    "    run_name = f\"{run_name_base}_g{i}\"\n",
    "    fn_run_path = Path(f\"data/{run_name}\")\n",
    "    \n",
    "    fn_model_state = fn_run_path / f\"bert.model.checkpoint{epoch_id}.params\"\n",
    "    print(f\"Load {fn_model_state} ...\")\n",
    "    model.load_parameters(str(fn_model_state), ctx=ctx)\n",
    "\n",
    "    for cgi, (cg_ids_o, dev_df) in enumerate(zip(cg_groups, dev_dfs)):\n",
    "        with Timer(\"prepare validation data\"):\n",
    "            X_dev, y_dev = dev_df[names_columns_X], dev_df[names_columns_y]\n",
    "            _, data_dev = transform_dataset(X_dev, y_dev, transform)\n",
    "\n",
    "        with Timer(f\"evaluate model - {num_epochs}\"), SummaryWriter(logdir=str(fn_run_path), flush_secs=600) as sw:\n",
    "            all_predictions, cum_loss = predict(model, data_dev, ctx, metric, loss_function, batch_size=batch_size, sw=sw)\n",
    "            print(f\"Accuracy in epoch {epoch_id}:\", metric.get()[1])\n",
    "\n",
    "            y_true, y_pred = predict_out_to_ys(all_predictions, all_labels)\n",
    "            with open(fn_run_path / f\"{run_name}_g{i}sg{cgi}_preds.p\", \"wb\") as fp:\n",
    "                pickle.dump(y_true, fp, protocol=pickle.HIGHEST_PROTOCOL)\n",
    "                pickle.dump(y_pred, fp, protocol=pickle.HIGHEST_PROTOCOL)\n",
    "            report_training_results(y_true, y_pred, name=f\"BERTClassifier - {run_name} - {cg_ids_o}\", heatmap=False)\n",
    "            plot_confusion_matrix(y_true, y_pred, labels=[0, 1], title=f\"Yelp {run_name} Epoch {epoch_id} on group {cg_ids_o}\", values_format=\"d\", cmap=\"Blues\", include_colorbar=False)\n",
    "            plt.show()\n",
    "            \n",
    "            # do we have the \n",
    "            cg_results_single_group[(cg_ids, cg_ids_o, i, cgi)] = compute_metrics(y_true, y_pred, precision=8, averaging=\"macro\", dump=False)"
   ]
  },
  {
   "cell_type": "code",
   "execution_count": null,
   "metadata": {},
   "outputs": [],
   "source": [
    "fn_run_path = Path(f\"data/{run_name_base}\")\n",
    "fn_cg_results_single_group = fn_run_path / \"cg_results_single_group.p\"\n",
    "with open(fn_cg_results_single_group, \"wb\") as fp:\n",
    "    pickle.dump(cg_results_single_group, fp, protocol=pickle.HIGHEST_PROTOCOL)"
   ]
  },
  {
   "cell_type": "code",
   "execution_count": null,
   "metadata": {},
   "outputs": [],
   "source": [
    "fn_run_path = Path(f\"data/{run_name_base}\")\n",
    "fn_cg_results_single_group = fn_run_path / \"cg_results_single_group.p\"\n",
    "with open(fn_cg_results_single_group, \"rb\") as fp:\n",
    "    cg_results_single_group = pickle.load(fp)"
   ]
  },
  {
   "cell_type": "code",
   "execution_count": null,
   "metadata": {},
   "outputs": [],
   "source": [
    "fn_run_path = Path(f\"data/{run_name_base}\")\n",
    "fn_cg_results_single_group = fn_run_path / \"cg_results_single_group.txt\"\n",
    "with open(fn_cg_results_single_group, \"w\") as fp:\n",
    "    for (cg_ids, cg_ids_o, i, cgi), (prec, rec, f1, acc, cm) in cg_results_single_group.items():\n",
    "        fp.write(f\"{cg_ids}-{cg_ids_o}-{i}-{cgi}: P:{prec * 100:5.2f}%  R:{rec * 100:5.2f}%  F:{f1 * 100:5.2f}%  A:{acc * 100:5.2f}%  -- CM:{cm.flatten().tolist()}\\n\\n\")"
   ]
  },
  {
   "cell_type": "code",
   "execution_count": 73,
   "metadata": {},
   "outputs": [
    {
     "name": "stdout",
     "output_type": "stream",
     "text": [
      "\n",
      "\n",
      "(('Religious Organizations', 'religiousorgs'), ('Shopping', 'shopping'), ('Local Flavor', 'localflavor'))\n",
      "\n",
      "P:73.66%  R:73.66%  F:73.66%  A:73.66% -- (('Restaurants', 'restaurants'), ('Mass Media', 'massmedia'), ('Financial Services', 'financialservices'))\n",
      "P:77.87%  R:77.86%  F:77.86%  A:77.86% -- (('Active Life', 'active'), ('Arts & Entertainment', 'arts'), ('Home Services', 'homeservices'))\n",
      "P:80.53%  R:80.49%  F:80.49%  A:80.49% -- (('Public Services & Government', 'publicservicesgovt'), ('Local Services', 'localservices'), ('Event Planning & Services', 'eventservices'))\n",
      "P:78.09%  R:78.08%  F:78.08%  A:78.08% -- (('Automotive', 'auto'), ('Education', 'education'), ('Nightlife', 'nightlife'))\n",
      "P:79.10%  R:79.09%  F:79.09%  A:79.09% -- (('Hotels & Travel', 'hotelstravel'), ('Professional Services', 'professional'), ('Pets', 'pets'))\n",
      "P:78.94%  R:78.94%  F:78.94%  A:78.94% -- (('Food', 'food'), ('Beauty & Spas', 'beautysvc'), ('Health & Medical', 'health'))\n",
      "\n",
      "\n",
      "(('Restaurants', 'restaurants'), ('Mass Media', 'massmedia'), ('Financial Services', 'financialservices'))\n",
      "\n",
      "P:83.28%  R:83.13%  F:83.12%  A:83.13% -- (('Religious Organizations', 'religiousorgs'), ('Shopping', 'shopping'), ('Local Flavor', 'localflavor'))\n",
      "P:79.98%  R:79.81%  F:79.78%  A:79.81% -- (('Active Life', 'active'), ('Arts & Entertainment', 'arts'), ('Home Services', 'homeservices'))\n",
      "P:82.55%  R:82.41%  F:82.39%  A:82.41% -- (('Public Services & Government', 'publicservicesgovt'), ('Local Services', 'localservices'), ('Event Planning & Services', 'eventservices'))\n",
      "P:80.06%  R:79.94%  F:79.91%  A:79.94% -- (('Automotive', 'auto'), ('Education', 'education'), ('Nightlife', 'nightlife'))\n",
      "P:81.90%  R:81.77%  F:81.75%  A:81.77% -- (('Hotels & Travel', 'hotelstravel'), ('Professional Services', 'professional'), ('Pets', 'pets'))\n",
      "P:81.71%  R:81.60%  F:81.59%  A:81.60% -- (('Food', 'food'), ('Beauty & Spas', 'beautysvc'), ('Health & Medical', 'health'))\n",
      "\n",
      "\n",
      "(('Active Life', 'active'), ('Arts & Entertainment', 'arts'), ('Home Services', 'homeservices'))\n",
      "\n",
      "P:82.60%  R:82.59%  F:82.59%  A:82.59% -- (('Religious Organizations', 'religiousorgs'), ('Shopping', 'shopping'), ('Local Flavor', 'localflavor'))\n",
      "P:88.31%  R:88.30%  F:88.30%  A:88.30% -- (('Restaurants', 'restaurants'), ('Mass Media', 'massmedia'), ('Financial Services', 'financialservices'))\n",
      "P:83.56%  R:83.56%  F:83.56%  A:83.56% -- (('Public Services & Government', 'publicservicesgovt'), ('Local Services', 'localservices'), ('Event Planning & Services', 'eventservices'))\n",
      "P:81.17%  R:81.16%  F:81.16%  A:81.16% -- (('Automotive', 'auto'), ('Education', 'education'), ('Nightlife', 'nightlife'))\n",
      "P:82.94%  R:82.93%  F:82.93%  A:82.93% -- (('Hotels & Travel', 'hotelstravel'), ('Professional Services', 'professional'), ('Pets', 'pets'))\n",
      "P:81.95%  R:81.94%  F:81.94%  A:81.94% -- (('Food', 'food'), ('Beauty & Spas', 'beautysvc'), ('Health & Medical', 'health'))\n",
      "\n",
      "\n",
      "(('Public Services & Government', 'publicservicesgovt'), ('Local Services', 'localservices'), ('Event Planning & Services', 'eventservices'))\n",
      "\n",
      "P:82.01%  R:82.00%  F:82.00%  A:82.00% -- (('Religious Organizations', 'religiousorgs'), ('Shopping', 'shopping'), ('Local Flavor', 'localflavor'))\n",
      "P:87.98%  R:87.96%  F:87.95%  A:87.96% -- (('Restaurants', 'restaurants'), ('Mass Media', 'massmedia'), ('Financial Services', 'financialservices'))\n",
      "P:95.93%  R:95.92%  F:95.92%  A:95.92% -- (('Active Life', 'active'), ('Arts & Entertainment', 'arts'), ('Home Services', 'homeservices'))\n",
      "P:80.90%  R:80.88%  F:80.87%  A:80.88% -- (('Automotive', 'auto'), ('Education', 'education'), ('Nightlife', 'nightlife'))\n",
      "P:82.78%  R:82.77%  F:82.77%  A:82.77% -- (('Hotels & Travel', 'hotelstravel'), ('Professional Services', 'professional'), ('Pets', 'pets'))\n",
      "P:81.92%  R:81.89%  F:81.89%  A:81.89% -- (('Food', 'food'), ('Beauty & Spas', 'beautysvc'), ('Health & Medical', 'health'))\n",
      "\n",
      "\n",
      "(('Automotive', 'auto'), ('Education', 'education'), ('Nightlife', 'nightlife'))\n",
      "\n",
      "P:81.77%  R:81.77%  F:81.77%  A:81.77% -- (('Religious Organizations', 'religiousorgs'), ('Shopping', 'shopping'), ('Local Flavor', 'localflavor'))\n",
      "P:87.00%  R:87.00%  F:87.00%  A:87.00% -- (('Restaurants', 'restaurants'), ('Mass Media', 'massmedia'), ('Financial Services', 'financialservices'))\n",
      "P:94.17%  R:94.17%  F:94.17%  A:94.17% -- (('Active Life', 'active'), ('Arts & Entertainment', 'arts'), ('Home Services', 'homeservices'))\n",
      "P:95.87%  R:95.87%  F:95.87%  A:95.87% -- (('Public Services & Government', 'publicservicesgovt'), ('Local Services', 'localservices'), ('Event Planning & Services', 'eventservices'))\n",
      "P:83.78%  R:83.77%  F:83.77%  A:83.77% -- (('Hotels & Travel', 'hotelstravel'), ('Professional Services', 'professional'), ('Pets', 'pets'))\n",
      "P:82.27%  R:82.27%  F:82.27%  A:82.27% -- (('Food', 'food'), ('Beauty & Spas', 'beautysvc'), ('Health & Medical', 'health'))\n",
      "\n",
      "\n",
      "(('Hotels & Travel', 'hotelstravel'), ('Professional Services', 'professional'), ('Pets', 'pets'))\n",
      "\n",
      "P:80.98%  R:80.95%  F:80.94%  A:80.95% -- (('Religious Organizations', 'religiousorgs'), ('Shopping', 'shopping'), ('Local Flavor', 'localflavor'))\n",
      "P:86.22%  R:86.21%  F:86.20%  A:86.21% -- (('Restaurants', 'restaurants'), ('Mass Media', 'massmedia'), ('Financial Services', 'financialservices'))\n",
      "P:92.41%  R:92.38%  F:92.38%  A:92.38% -- (('Active Life', 'active'), ('Arts & Entertainment', 'arts'), ('Home Services', 'homeservices'))\n",
      "P:94.04%  R:94.02%  F:94.02%  A:94.02% -- (('Public Services & Government', 'publicservicesgovt'), ('Local Services', 'localservices'), ('Event Planning & Services', 'eventservices'))\n",
      "P:94.98%  R:94.96%  F:94.96%  A:94.96% -- (('Automotive', 'auto'), ('Education', 'education'), ('Nightlife', 'nightlife'))\n",
      "P:81.73%  R:81.71%  F:81.71%  A:81.71% -- (('Food', 'food'), ('Beauty & Spas', 'beautysvc'), ('Health & Medical', 'health'))\n",
      "\n",
      "\n",
      "(('Food', 'food'), ('Beauty & Spas', 'beautysvc'), ('Health & Medical', 'health'))\n",
      "\n",
      "P:81.86%  R:81.86%  F:81.86%  A:81.86% -- (('Religious Organizations', 'religiousorgs'), ('Shopping', 'shopping'), ('Local Flavor', 'localflavor'))\n",
      "P:86.07%  R:86.07%  F:86.07%  A:86.07% -- (('Restaurants', 'restaurants'), ('Mass Media', 'massmedia'), ('Financial Services', 'financialservices'))\n",
      "P:91.07%  R:91.07%  F:91.07%  A:91.07% -- (('Active Life', 'active'), ('Arts & Entertainment', 'arts'), ('Home Services', 'homeservices'))\n",
      "P:92.40%  R:92.40%  F:92.40%  A:92.40% -- (('Public Services & Government', 'publicservicesgovt'), ('Local Services', 'localservices'), ('Event Planning & Services', 'eventservices'))\n",
      "P:92.19%  R:92.19%  F:92.19%  A:92.19% -- (('Automotive', 'auto'), ('Education', 'education'), ('Nightlife', 'nightlife'))\n",
      "P:94.37%  R:94.37%  F:94.37%  A:94.37% -- (('Hotels & Travel', 'hotelstravel'), ('Professional Services', 'professional'), ('Pets', 'pets'))\n"
     ]
    }
   ],
   "source": [
    "cur_cat = None\n",
    "for (cg_ids, cg_ids_o, i, cgi), (prec, rec, f1, acc, cm) in cg_results_single_group.items():\n",
    "    if cur_cat is None or cur_cat != cg_ids:\n",
    "        cur_cat = cg_ids\n",
    "        print(f\"\\n\\n{cg_ids}\\n\")\n",
    "    print(f\"P:{prec * 100:5.2f}%  R:{rec * 100:5.2f}%  F:{f1 * 100:5.2f}%  A:{acc * 100:5.2f}% -- {cg_ids_o}\")"
   ]
  },
  {
   "cell_type": "code",
   "execution_count": null,
   "metadata": {},
   "outputs": [],
   "source": []
  },
  {
   "cell_type": "code",
   "execution_count": null,
   "metadata": {},
   "outputs": [],
   "source": [
    "cg_results_single_cat = dict()\n",
    "\n",
    "for i, (cg_ids, (train_df, dev_df, dev_dfs)) in enumerate(map_cg_train_dev_groups.items()):\n",
    "    print(f\"Eval model {cg_ids} #{len(train_df)}...\")\n",
    "    \n",
    "    cg_groups = [cg_ids_o for cg_ids_o in groups if cg_ids_o != cg_ids]\n",
    "    \n",
    "    run_name = f\"{run_name_base}_g{i}\"\n",
    "    fn_run_path = Path(f\"data/{run_name}\")\n",
    "    \n",
    "    fn_model_state = fn_run_path / f\"bert.model.checkpoint{num_epochs - 1}.params\"\n",
    "    print(f\"Load {fn_model_state} ...\")\n",
    "    model.load_parameters(str(fn_model_state), ctx=ctx)\n",
    "    \n",
    "    for cgi, (cg_id, businesses) in enumerate(lookup_rootcat_bid_no_overlap.items()):\n",
    "        # check if train data, skip since we did not split into eval\n",
    "        if cg_id in cg_ids:\n",
    "            continue\n",
    "        if not businesses:\n",
    "            print(f\"Skip empty df: {cg_id}\")\n",
    "            continue\n",
    "            \n",
    "        dev_df = traindev_df[traindev_df.business_id.isin(businesses)]\n",
    "\n",
    "        with Timer(\"prepare validation data\"):\n",
    "            X_dev, y_dev = dev_df[names_columns_X], dev_df[names_columns_y]\n",
    "            _, data_dev = transform_dataset(X_dev, y_dev, transform)\n",
    "\n",
    "        with Timer(f\"evaluate model - {num_epochs}\"), SummaryWriter(logdir=str(fn_run_path), flush_secs=600) as sw:\n",
    "            all_predictions, cum_loss = predict(model, data_dev, ctx, metric, loss_function, batch_size=batch_size, sw=sw)\n",
    "            print(f\"Accuracy in epoch {epoch_id}:\", metric.get()[1])\n",
    "\n",
    "            y_true, y_pred = predict_out_to_ys(all_predictions, all_labels)\n",
    "            with open(fn_run_path / f\"{run_name}_g{i}sc{cgi}_preds.p\", \"wb\") as fp:\n",
    "                pickle.dump(y_true, fp, protocol=pickle.HIGHEST_PROTOCOL)\n",
    "                pickle.dump(y_pred, fp, protocol=pickle.HIGHEST_PROTOCOL)\n",
    "            report_training_results(y_true, y_pred, name=f\"BERTClassifier - {run_name} - {cg_id}\", heatmap=False)\n",
    "            plot_confusion_matrix(y_true, y_pred, labels=[0, 1], title=f\"Yelp {run_name} Epoch {epoch_id} on category {cg_id}\", values_format=\"d\", cmap=\"Blues\", include_colorbar=False)\n",
    "            plt.show()\n",
    "            \n",
    "            # do we have the \n",
    "            cg_results_single_cat[(cg_ids, cg_id, i, cgi)] = compute_metrics(y_true, y_pred, precision=8, averaging=\"macro\", dump=False)"
   ]
  },
  {
   "cell_type": "code",
   "execution_count": null,
   "metadata": {},
   "outputs": [],
   "source": [
    "fn_run_path = Path(f\"data/{run_name_base}\")\n",
    "fn_cg_results_single_cat = fn_run_path / \"cg_results_single_cat.p\"\n",
    "with open(fn_cg_results_single_cat, \"wb\") as fp:\n",
    "    pickle.dump(cg_results_single_cat, fp, protocol=pickle.HIGHEST_PROTOCOL)"
   ]
  },
  {
   "cell_type": "code",
   "execution_count": null,
   "metadata": {},
   "outputs": [],
   "source": [
    "fn_run_path = Path(f\"data/{run_name_base}\")\n",
    "fn_cg_results_single_cat = fn_run_path / \"cg_results_single_cat.p\"\n",
    "with open(fn_cg_results_single_cat, \"rb\") as fp:\n",
    "    cg_results_single_cat = pickle.load(fp)"
   ]
  },
  {
   "cell_type": "code",
   "execution_count": null,
   "metadata": {},
   "outputs": [],
   "source": [
    "fn_run_path = Path(f\"data/{run_name_base}\")\n",
    "fn_cg_results_single_cat = fn_run_path / \"cg_results_single_cat.txt\"\n",
    "with open(fn_cg_results_single_cat, \"w\") as fp:\n",
    "    for (cg_ids, cg_id, i, cgi), (prec, rec, f1, acc, cm) in cg_results_single_cat.items():\n",
    "        fp.write(f\"{cg_ids}-{cg_id}-{i}-{cgi}: P:{prec * 100:5.2f}%  R:{rec * 100:5.2f}%  F:{f1 * 100:5.2f}%  A:{acc * 100:5.2f}%  -- CM:{cm.flatten().tolist()}\\n\\n\")"
   ]
  },
  {
   "cell_type": "code",
   "execution_count": null,
   "metadata": {},
   "outputs": [],
   "source": [
    "list(cg_results_single_cat.values())[0]"
   ]
  },
  {
   "cell_type": "code",
   "execution_count": 77,
   "metadata": {},
   "outputs": [
    {
     "name": "stdout",
     "output_type": "stream",
     "text": [
      "\n",
      "\n",
      "(('Religious Organizations', 'religiousorgs'), ('Shopping', 'shopping'), ('Local Flavor', 'localflavor'))\n",
      "\n",
      "P:75.08%  R:75.08%  F:75.08%  A:75.08% -- ('Active Life', 'active')\n",
      "P:68.18%  R:68.18%  F:68.17%  A:68.18% -- ('Arts & Entertainment', 'arts')\n",
      "P:82.24%  R:82.23%  F:82.23%  A:82.23% -- ('Automotive', 'auto')\n",
      "P:83.32%  R:83.32%  F:83.32%  A:83.32% -- ('Beauty & Spas', 'beautysvc')\n",
      "P:78.45%  R:78.43%  F:78.42%  A:78.43% -- ('Education', 'education')\n",
      "P:76.38%  R:76.38%  F:76.38%  A:76.38% -- ('Event Planning & Services', 'eventservices')\n",
      "P:84.98%  R:84.98%  F:84.98%  A:84.98% -- ('Financial Services', 'financialservices')\n",
      "P:72.35%  R:72.35%  F:72.34%  A:72.35% -- ('Food', 'food')\n",
      "P:83.28%  R:83.26%  F:83.25%  A:83.26% -- ('Health & Medical', 'health')\n",
      "P:83.00%  R:82.99%  F:82.99%  A:82.99% -- ('Home Services', 'homeservices')\n",
      "P:76.04%  R:75.99%  F:75.98%  A:75.99% -- ('Hotels & Travel', 'hotelstravel')\n",
      "P:83.06%  R:83.03%  F:83.03%  A:83.03% -- ('Local Services', 'localservices')\n",
      "P:78.24%  R:78.12%  F:78.10%  A:78.12% -- ('Mass Media', 'massmedia')\n",
      "P:69.21%  R:69.19%  F:69.18%  A:69.19% -- ('Nightlife', 'nightlife')\n",
      "P:80.28%  R:80.28%  F:80.28%  A:80.28% -- ('Pets', 'pets')\n",
      "P:88.03%  R:88.00%  F:88.00%  A:88.00% -- ('Professional Services', 'professional')\n",
      "P:69.11%  R:68.90%  F:68.81%  A:68.90% -- ('Public Services & Government', 'publicservicesgovt')\n",
      "P:73.62%  R:73.62%  F:73.62%  A:73.62% -- ('Restaurants', 'restaurants')\n",
      "\n",
      "\n",
      "(('Restaurants', 'restaurants'), ('Mass Media', 'massmedia'), ('Financial Services', 'financialservices'))\n",
      "\n",
      "P:76.85%  R:76.68%  F:76.64%  A:76.68% -- ('Active Life', 'active')\n",
      "P:71.69%  R:71.46%  F:71.38%  A:71.46% -- ('Arts & Entertainment', 'arts')\n",
      "P:83.69%  R:83.59%  F:83.58%  A:83.59% -- ('Automotive', 'auto')\n",
      "P:85.31%  R:85.21%  F:85.20%  A:85.21% -- ('Beauty & Spas', 'beautysvc')\n",
      "P:81.68%  R:81.65%  F:81.65%  A:81.65% -- ('Education', 'education')\n",
      "P:78.23%  R:78.18%  F:78.17%  A:78.18% -- ('Event Planning & Services', 'eventservices')\n",
      "P:76.45%  R:76.35%  F:76.33%  A:76.35% -- ('Food', 'food')\n",
      "P:84.94%  R:84.79%  F:84.78%  A:84.79% -- ('Health & Medical', 'health')\n",
      "P:84.78%  R:84.63%  F:84.61%  A:84.63% -- ('Home Services', 'homeservices')\n",
      "P:80.30%  R:80.17%  F:80.14%  A:80.17% -- ('Hotels & Travel', 'hotelstravel')\n",
      "P:75.40%  R:75.00%  F:74.90%  A:75.00% -- ('Local Flavor', 'localflavor')\n",
      "P:85.07%  R:84.92%  F:84.90%  A:84.92% -- ('Local Services', 'localservices')\n",
      "P:72.22%  R:72.05%  F:71.99%  A:72.05% -- ('Nightlife', 'nightlife')\n",
      "P:82.43%  R:82.31%  F:82.30%  A:82.31% -- ('Pets', 'pets')\n",
      "P:88.38%  R:88.00%  F:87.97%  A:88.00% -- ('Professional Services', 'professional')\n",
      "P:71.40%  R:71.13%  F:71.04%  A:71.13% -- ('Public Services & Government', 'publicservicesgovt')\n",
      "P:79.91%  R:79.86%  F:79.85%  A:79.86% -- ('Religious Organizations', 'religiousorgs')\n",
      "P:83.32%  R:83.18%  F:83.16%  A:83.18% -- ('Shopping', 'shopping')\n",
      "\n",
      "\n",
      "(('Active Life', 'active'), ('Arts & Entertainment', 'arts'), ('Home Services', 'homeservices'))\n",
      "\n",
      "P:85.23%  R:85.23%  F:85.23%  A:85.23% -- ('Automotive', 'auto')\n",
      "P:85.86%  R:85.86%  F:85.86%  A:85.86% -- ('Beauty & Spas', 'beautysvc')\n",
      "P:81.68%  R:81.65%  F:81.65%  A:81.65% -- ('Education', 'education')\n",
      "P:80.23%  R:80.19%  F:80.18%  A:80.19% -- ('Event Planning & Services', 'eventservices')\n",
      "P:95.68%  R:95.67%  F:95.67%  A:95.67% -- ('Financial Services', 'financialservices')\n",
      "P:75.72%  R:75.69%  F:75.68%  A:75.69% -- ('Food', 'food')\n",
      "P:86.51%  R:86.51%  F:86.51%  A:86.51% -- ('Health & Medical', 'health')\n",
      "P:80.82%  R:80.81%  F:80.81%  A:80.81% -- ('Hotels & Travel', 'hotelstravel')\n",
      "P:70.33%  R:70.31%  F:70.31%  A:70.31% -- ('Local Flavor', 'localflavor')\n",
      "P:85.96%  R:85.96%  F:85.96%  A:85.96% -- ('Local Services', 'localservices')\n",
      "P:91.27%  R:90.62%  F:90.59%  A:90.62% -- ('Mass Media', 'massmedia')\n",
      "P:72.48%  R:72.45%  F:72.44%  A:72.45% -- ('Nightlife', 'nightlife')\n",
      "P:83.73%  R:83.73%  F:83.73%  A:83.73% -- ('Pets', 'pets')\n",
      "P:89.52%  R:89.50%  F:89.50%  A:89.50% -- ('Professional Services', 'professional')\n",
      "P:71.88%  R:71.88%  F:71.87%  A:71.88% -- ('Public Services & Government', 'publicservicesgovt')\n",
      "P:81.30%  R:81.25%  F:81.24%  A:81.25% -- ('Religious Organizations', 'religiousorgs')\n",
      "P:88.28%  R:88.27%  F:88.27%  A:88.27% -- ('Restaurants', 'restaurants')\n",
      "P:82.64%  R:82.64%  F:82.63%  A:82.64% -- ('Shopping', 'shopping')\n",
      "\n",
      "\n",
      "(('Public Services & Government', 'publicservicesgovt'), ('Local Services', 'localservices'), ('Event Planning & Services', 'eventservices'))\n",
      "\n",
      "P:95.19%  R:95.18%  F:95.18%  A:95.18% -- ('Active Life', 'active')\n",
      "P:93.05%  R:93.04%  F:93.04%  A:93.04% -- ('Arts & Entertainment', 'arts')\n",
      "P:84.78%  R:84.76%  F:84.75%  A:84.76% -- ('Automotive', 'auto')\n",
      "P:86.05%  R:86.03%  F:86.03%  A:86.03% -- ('Beauty & Spas', 'beautysvc')\n",
      "P:80.27%  R:80.24%  F:80.24%  A:80.24% -- ('Education', 'education')\n",
      "P:94.00%  R:93.99%  F:93.99%  A:93.99% -- ('Financial Services', 'financialservices')\n",
      "P:75.92%  R:75.88%  F:75.87%  A:75.88% -- ('Food', 'food')\n",
      "P:85.54%  R:85.53%  F:85.53%  A:85.53% -- ('Health & Medical', 'health')\n",
      "P:97.40%  R:97.40%  F:97.40%  A:97.40% -- ('Home Services', 'homeservices')\n",
      "P:80.49%  R:80.49%  F:80.49%  A:80.49% -- ('Hotels & Travel', 'hotelstravel')\n",
      "P:68.82%  R:68.75%  F:68.72%  A:68.75% -- ('Local Flavor', 'localflavor')\n",
      "P:94.44%  R:93.75%  F:93.73%  A:93.75% -- ('Mass Media', 'massmedia')\n",
      "P:72.64%  R:72.62%  F:72.61%  A:72.62% -- ('Nightlife', 'nightlife')\n",
      "P:83.69%  R:83.68%  F:83.68%  A:83.68% -- ('Pets', 'pets')\n",
      "P:88.77%  R:88.75%  F:88.75%  A:88.75% -- ('Professional Services', 'professional')\n",
      "P:79.19%  R:79.17%  F:79.16%  A:79.17% -- ('Religious Organizations', 'religiousorgs')\n",
      "P:87.95%  R:87.93%  F:87.93%  A:87.93% -- ('Restaurants', 'restaurants')\n",
      "P:82.07%  R:82.06%  F:82.05%  A:82.06% -- ('Shopping', 'shopping')\n",
      "\n",
      "\n",
      "(('Automotive', 'auto'), ('Education', 'education'), ('Nightlife', 'nightlife'))\n",
      "\n",
      "P:92.41%  R:92.41%  F:92.41%  A:92.41% -- ('Active Life', 'active')\n",
      "P:90.27%  R:90.27%  F:90.27%  A:90.27% -- ('Arts & Entertainment', 'arts')\n",
      "P:86.50%  R:86.50%  F:86.50%  A:86.50% -- ('Beauty & Spas', 'beautysvc')\n",
      "P:94.21%  R:94.17%  F:94.17%  A:94.17% -- ('Event Planning & Services', 'eventservices')\n",
      "P:93.87%  R:93.87%  F:93.87%  A:93.87% -- ('Financial Services', 'financialservices')\n",
      "P:75.76%  R:75.76%  F:75.76%  A:75.76% -- ('Food', 'food')\n",
      "P:86.72%  R:86.72%  F:86.72%  A:86.72% -- ('Health & Medical', 'health')\n",
      "P:96.59%  R:96.58%  F:96.58%  A:96.58% -- ('Home Services', 'homeservices')\n",
      "P:80.96%  R:80.95%  F:80.95%  A:80.95% -- ('Hotels & Travel', 'hotelstravel')\n",
      "P:70.82%  R:70.31%  F:70.13%  A:70.31% -- ('Local Flavor', 'localflavor')\n",
      "P:96.72%  R:96.72%  F:96.72%  A:96.72% -- ('Local Services', 'localservices')\n",
      "P:84.38%  R:84.38%  F:84.38%  A:84.38% -- ('Mass Media', 'massmedia')\n",
      "P:85.05%  R:85.05%  F:85.05%  A:85.05% -- ('Pets', 'pets')\n",
      "P:88.03%  R:88.00%  F:88.00%  A:88.00% -- ('Professional Services', 'professional')\n",
      "P:92.41%  R:92.41%  F:92.41%  A:92.41% -- ('Public Services & Government', 'publicservicesgovt')\n",
      "P:75.08%  R:75.00%  F:74.98%  A:75.00% -- ('Religious Organizations', 'religiousorgs')\n",
      "P:86.98%  R:86.97%  F:86.97%  A:86.97% -- ('Restaurants', 'restaurants')\n",
      "P:81.84%  R:81.84%  F:81.84%  A:81.84% -- ('Shopping', 'shopping')\n",
      "\n",
      "\n",
      "(('Hotels & Travel', 'hotelstravel'), ('Professional Services', 'professional'), ('Pets', 'pets'))\n",
      "\n",
      "P:91.01%  R:90.96%  F:90.96%  A:90.96% -- ('Active Life', 'active')\n",
      "P:88.18%  R:88.13%  F:88.13%  A:88.13% -- ('Arts & Entertainment', 'arts')\n",
      "P:96.52%  R:96.52%  F:96.52%  A:96.52% -- ('Automotive', 'auto')\n",
      "P:85.49%  R:85.48%  F:85.48%  A:85.48% -- ('Beauty & Spas', 'beautysvc')\n",
      "P:96.37%  R:96.37%  F:96.37%  A:96.37% -- ('Education', 'education')\n",
      "P:92.96%  R:92.90%  F:92.90%  A:92.90% -- ('Event Planning & Services', 'eventservices')\n",
      "P:92.68%  R:92.67%  F:92.67%  A:92.67% -- ('Financial Services', 'financialservices')\n",
      "P:75.55%  R:75.51%  F:75.51%  A:75.51% -- ('Food', 'food')\n",
      "P:86.47%  R:86.46%  F:86.46%  A:86.46% -- ('Health & Medical', 'health')\n",
      "P:94.75%  R:94.74%  F:94.74%  A:94.74% -- ('Home Services', 'homeservices')\n",
      "P:68.82%  R:68.75%  F:68.72%  A:68.75% -- ('Local Flavor', 'localflavor')\n",
      "P:94.76%  R:94.75%  F:94.75%  A:94.75% -- ('Local Services', 'localservices')\n",
      "P:89.41%  R:89.06%  F:89.04%  A:89.06% -- ('Mass Media', 'massmedia')\n",
      "P:91.61%  R:91.57%  F:91.57%  A:91.57% -- ('Nightlife', 'nightlife')\n",
      "P:90.64%  R:90.62%  F:90.62%  A:90.62% -- ('Public Services & Government', 'publicservicesgovt')\n",
      "P:75.82%  R:75.69%  F:75.67%  A:75.69% -- ('Religious Organizations', 'religiousorgs')\n",
      "P:86.20%  R:86.18%  F:86.18%  A:86.18% -- ('Restaurants', 'restaurants')\n",
      "P:81.04%  R:81.01%  F:81.01%  A:81.01% -- ('Shopping', 'shopping')\n",
      "\n",
      "\n",
      "(('Food', 'food'), ('Beauty & Spas', 'beautysvc'), ('Health & Medical', 'health'))\n",
      "\n",
      "P:88.85%  R:88.85%  F:88.85%  A:88.85% -- ('Active Life', 'active')\n",
      "P:85.34%  R:85.32%  F:85.32%  A:85.32% -- ('Arts & Entertainment', 'arts')\n",
      "P:94.65%  R:94.65%  F:94.65%  A:94.65% -- ('Automotive', 'auto')\n",
      "P:93.19%  R:93.15%  F:93.14%  A:93.15% -- ('Education', 'education')\n",
      "P:90.81%  R:90.78%  F:90.78%  A:90.78% -- ('Event Planning & Services', 'eventservices')\n",
      "P:93.63%  R:93.63%  F:93.63%  A:93.63% -- ('Financial Services', 'financialservices')\n",
      "P:94.43%  R:94.43%  F:94.43%  A:94.43% -- ('Home Services', 'homeservices')\n",
      "P:93.45%  R:93.45%  F:93.45%  A:93.45% -- ('Hotels & Travel', 'hotelstravel')\n",
      "P:68.82%  R:68.75%  F:68.72%  A:68.75% -- ('Local Flavor', 'localflavor')\n",
      "P:93.27%  R:93.27%  F:93.27%  A:93.27% -- ('Local Services', 'localservices')\n",
      "P:81.75%  R:81.25%  F:81.18%  A:81.25% -- ('Mass Media', 'massmedia')\n",
      "P:86.89%  R:86.88%  F:86.88%  A:86.88% -- ('Nightlife', 'nightlife')\n",
      "P:94.78%  R:94.78%  F:94.78%  A:94.78% -- ('Pets', 'pets')\n",
      "P:96.00%  R:96.00%  F:96.00%  A:96.00% -- ('Professional Services', 'professional')\n",
      "P:88.69%  R:88.69%  F:88.69%  A:88.69% -- ('Public Services & Government', 'publicservicesgovt')\n",
      "P:84.03%  R:84.03%  F:84.03%  A:84.03% -- ('Religious Organizations', 'religiousorgs')\n",
      "P:86.05%  R:86.05%  F:86.05%  A:86.05% -- ('Restaurants', 'restaurants')\n",
      "P:81.89%  R:81.88%  F:81.88%  A:81.88% -- ('Shopping', 'shopping')\n"
     ]
    }
   ],
   "source": [
    "cur_cat = None\n",
    "for (cg_ids, cg_id, i, cgi), (prec, rec, f1, acc, cm) in cg_results_single_cat.items():\n",
    "    if cur_cat is None or cur_cat != cg_ids:\n",
    "        cur_cat = cg_ids\n",
    "        print(f\"\\n\\n{cg_ids}\\n\")\n",
    "    print(f\"P:{prec * 100:5.2f}%  R:{rec * 100:5.2f}%  F:{f1 * 100:5.2f}%  A:{acc * 100:5.2f}% -- {cg_id}\")"
   ]
  },
  {
   "cell_type": "code",
   "execution_count": 74,
   "metadata": {},
   "outputs": [
    {
     "name": "stdout",
     "output_type": "stream",
     "text": [
      "avg: 78.02%, var: 0.33     (('Religious Organizations', 'religiousorgs'), ('Shopping', 'shopping'), ('Local Flavor', 'localflavor'))\n",
      "avg: 79.95%, var: 0.25     (('Restaurants', 'restaurants'), ('Mass Media', 'massmedia'), ('Financial Services', 'financialservices'))\n",
      "avg: 82.68%, var: 0.44     (('Active Life', 'active'), ('Arts & Entertainment', 'arts'), ('Home Services', 'homeservices'))\n",
      "avg: 84.96%, var: 0.61     (('Public Services & Government', 'publicservicesgovt'), ('Local Services', 'localservices'), ('Event Planning & Services', 'eventservices'))\n",
      "avg: 86.55%, var: 0.54     (('Automotive', 'auto'), ('Education', 'education'), ('Nightlife', 'nightlife'))\n",
      "avg: 87.63%, var: 0.58     (('Hotels & Travel', 'hotelstravel'), ('Professional Services', 'professional'), ('Pets', 'pets'))\n",
      "avg: 88.66%, var: 0.44     (('Food', 'food'), ('Beauty & Spas', 'beautysvc'), ('Health & Medical', 'health'))\n"
     ]
    }
   ],
   "source": [
    "# compute average\n",
    "cur_cat = None\n",
    "map_cg_cat_avg = dict()\n",
    "for (cg_ids, cg_id, i, cgi), (prec, rec, f1, acc, cm) in cg_results_single_cat.items():\n",
    "    if cur_cat is None or cur_cat != cg_ids:\n",
    "        cur_cat = cg_ids\n",
    "        map_cg_cat_avg[cg_ids] = list()\n",
    "    map_cg_cat_avg[cg_ids].append(acc)\n",
    "\n",
    "for cg_ids, vals in map_cg_cat_avg.items():\n",
    "    print(f\"avg: {np.mean(vals) * 100:.2f}%, var: {np.var(vals) * 100:.2f}     {cg_ids}\")"
   ]
  },
  {
   "cell_type": "code",
   "execution_count": null,
   "metadata": {},
   "outputs": [],
   "source": []
  },
  {
   "cell_type": "code",
   "execution_count": 75,
   "metadata": {},
   "outputs": [
    {
     "data": {
      "text/plain": [
       "[(('Religious Organizations', 'religiousorgs'),\n",
       "  ('Shopping', 'shopping'),\n",
       "  ('Local Flavor', 'localflavor')),\n",
       " (('Restaurants', 'restaurants'),\n",
       "  ('Mass Media', 'massmedia'),\n",
       "  ('Financial Services', 'financialservices')),\n",
       " (('Active Life', 'active'),\n",
       "  ('Arts & Entertainment', 'arts'),\n",
       "  ('Home Services', 'homeservices')),\n",
       " (('Public Services & Government', 'publicservicesgovt'),\n",
       "  ('Local Services', 'localservices'),\n",
       "  ('Event Planning & Services', 'eventservices')),\n",
       " (('Automotive', 'auto'),\n",
       "  ('Education', 'education'),\n",
       "  ('Nightlife', 'nightlife')),\n",
       " (('Hotels & Travel', 'hotelstravel'),\n",
       "  ('Professional Services', 'professional'),\n",
       "  ('Pets', 'pets')),\n",
       " (('Food', 'food'),\n",
       "  ('Beauty & Spas', 'beautysvc'),\n",
       "  ('Health & Medical', 'health'))]"
      ]
     },
     "execution_count": 75,
     "metadata": {},
     "output_type": "execute_result"
    }
   ],
   "source": [
    "groups"
   ]
  },
  {
   "cell_type": "code",
   "execution_count": 76,
   "metadata": {},
   "outputs": [
    {
     "data": {
      "text/plain": [
       "[('Religious Organizations', 'religiousorgs'),\n",
       " ('Shopping', 'shopping'),\n",
       " ('Local Flavor', 'localflavor'),\n",
       " ('Restaurants', 'restaurants'),\n",
       " ('Mass Media', 'massmedia'),\n",
       " ('Financial Services', 'financialservices'),\n",
       " ('Active Life', 'active'),\n",
       " ('Arts & Entertainment', 'arts'),\n",
       " ('Home Services', 'homeservices'),\n",
       " ('Public Services & Government', 'publicservicesgovt'),\n",
       " ('Local Services', 'localservices'),\n",
       " ('Event Planning & Services', 'eventservices'),\n",
       " ('Automotive', 'auto'),\n",
       " ('Education', 'education'),\n",
       " ('Nightlife', 'nightlife'),\n",
       " ('Hotels & Travel', 'hotelstravel'),\n",
       " ('Professional Services', 'professional'),\n",
       " ('Pets', 'pets'),\n",
       " ('Food', 'food'),\n",
       " ('Beauty & Spas', 'beautysvc'),\n",
       " ('Health & Medical', 'health')]"
      ]
     },
     "execution_count": 76,
     "metadata": {},
     "output_type": "execute_result"
    }
   ],
   "source": [
    "cats"
   ]
  },
  {
   "cell_type": "code",
   "execution_count": null,
   "metadata": {},
   "outputs": [],
   "source": []
  }
 ],
 "metadata": {
  "kernelspec": {
   "display_name": "Python 3",
   "language": "python",
   "name": "python3"
  },
  "language_info": {
   "codemirror_mode": {
    "name": "ipython",
    "version": 3
   },
   "file_extension": ".py",
   "mimetype": "text/x-python",
   "name": "python",
   "nbconvert_exporter": "python",
   "pygments_lexer": "ipython3",
   "version": "3.7.7"
  },
  "varInspector": {
   "cols": {
    "lenName": 16,
    "lenType": 16,
    "lenVar": 40
   },
   "kernels_config": {
    "python": {
     "delete_cmd_postfix": "",
     "delete_cmd_prefix": "del ",
     "library": "var_list.py",
     "varRefreshCmd": "print(var_dic_list())"
    },
    "r": {
     "delete_cmd_postfix": ") ",
     "delete_cmd_prefix": "rm(",
     "library": "var_list.r",
     "varRefreshCmd": "cat(var_dic_list()) "
    }
   },
   "types_to_exclude": [
    "module",
    "function",
    "builtin_function_or_method",
    "instance",
    "_Feature"
   ],
   "window_display": false
  }
 },
 "nbformat": 4,
 "nbformat_minor": 4
}
