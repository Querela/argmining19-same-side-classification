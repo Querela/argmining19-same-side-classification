{
 "cells": [
  {
   "cell_type": "markdown",
   "metadata": {},
   "source": [
    "# Datasets (Sentiment) - Yelp - Categories"
   ]
  },
  {
   "cell_type": "markdown",
   "metadata": {},
   "source": [
    "## Yelp\n",
    "\n",
    "- https://www.yelp.com/dataset/documentation/main\n",
    "- https://www.yelp.com/developers/documentation/v3/all_category_list"
   ]
  },
  {
   "cell_type": "code",
   "execution_count": null,
   "metadata": {},
   "outputs": [],
   "source": [
    "! wget -O data/sentiment/yelp/all_category_list.json https://www.yelp.com/developers/documentation/v3/all_category_list/categories.json"
   ]
  },
  {
   "cell_type": "code",
   "execution_count": null,
   "metadata": {},
   "outputs": [],
   "source": []
  },
  {
   "cell_type": "code",
   "execution_count": null,
   "metadata": {},
   "outputs": [],
   "source": [
    "#! pip install jsonlines"
   ]
  },
  {
   "cell_type": "code",
   "execution_count": null,
   "metadata": {},
   "outputs": [],
   "source": [
    "#! pip install syntok"
   ]
  },
  {
   "cell_type": "code",
   "execution_count": 1,
   "metadata": {
    "ExecuteTime": {
     "end_time": "2020-05-25T09:52:14.905825Z",
     "start_time": "2020-05-25T09:52:14.315598Z"
    }
   },
   "outputs": [
    {
     "name": "stderr",
     "output_type": "stream",
     "text": [
      "/disk1/users/ekoerner/miniconda3/envs/argmining19-ssc/lib/python3.7/site-packages/tqdm/std.py:658: FutureWarning: The Panel class is removed from pandas. Accessing it from the top-level namespace will also be removed in the next version\n",
      "  from pandas import Panel\n"
     ]
    },
    {
     "data": {
      "text/plain": [
       "[]"
      ]
     },
     "execution_count": 1,
     "metadata": {},
     "output_type": "execute_result"
    },
    {
     "data": {
      "image/png": "[encoded data removed]",
      "text/plain": [
       "<Figure size 432x288 with 1 Axes>"
      ]
     },
     "metadata": {
      "needs_background": "light"
     },
     "output_type": "display_data"
    }
   ],
   "source": [
    "import json\n",
    "import os\n",
    "import random\n",
    "import pickle\n",
    "from collections import Counter\n",
    "from copy import deepcopy\n",
    "from itertools import combinations, groupby\n",
    "from pathlib import Path\n",
    "from pprint import pprint\n",
    "\n",
    "import jsonlines\n",
    "import matplotlib.pyplot as plt\n",
    "import numpy as np\n",
    "import pandas as pd\n",
    "import seaborn as sn\n",
    "import scipy.spatial.distance as ssd\n",
    "from IPython.display import set_matplotlib_formats\n",
    "from scipy.cluster import hierarchy\n",
    "from sklearn.cluster import AgglomerativeClustering, SpectralClustering\n",
    "from sklearn.metrics import pairwise_distances\n",
    "from sklearn.metrics.pairwise import cosine_similarity, linear_kernel\n",
    "from syntok.tokenizer import Tokenizer\n",
    "from tqdm import tqdm\n",
    "\n",
    "tqdm.pandas()\n",
    "\n",
    "%matplotlib inline\n",
    "plt.rcParams.update({\"font.size\": 25, \"font.weight\": \"bold\"})\n",
    "# https://stackoverflow.com/questions/36622237/jupyter-notebook-inline-plots-as-svg\n",
    "# set_matplotlib_formats(\"svg\")  # glitches it\n",
    "plt.plot()"
   ]
  },
  {
   "cell_type": "code",
   "execution_count": 2,
   "metadata": {
    "ExecuteTime": {
     "end_time": "2020-05-25T09:52:15.648956Z",
     "start_time": "2020-05-25T09:52:15.148633Z"
    }
   },
   "outputs": [],
   "source": [
    "from utils_data import init_random\n",
    "init_random()"
   ]
  },
  {
   "cell_type": "code",
   "execution_count": 3,
   "metadata": {
    "ExecuteTime": {
     "end_time": "2020-05-25T09:52:15.790984Z",
     "start_time": "2020-05-25T09:52:15.786910Z"
    }
   },
   "outputs": [],
   "source": [
    "# download + scp to cuda + extract\n",
    "# Path on CUDA2\n",
    "data_yelp_path = Path(\"/disk1/users/ekoerner/argmining19-same-side-classification/data/sentiment/yelp/\")\n",
    "# CUDA1?\n",
    "#data_yelp_path = Path(\"/disk1/users/ekoerner/same-side-classification/argmining19-same-side-classification/data/sentiment/yelp/\")"
   ]
  },
  {
   "cell_type": "markdown",
   "metadata": {},
   "source": [
    "---"
   ]
  },
  {
   "cell_type": "markdown",
   "metadata": {},
   "source": [
    "#### Load reviews / categories (topics) + filter cats/make combinations"
   ]
  },
  {
   "cell_type": "code",
   "execution_count": 4,
   "metadata": {
    "ExecuteTime": {
     "end_time": "2020-05-25T09:52:19.846925Z",
     "start_time": "2020-05-25T09:52:19.827613Z"
    },
    "code_folding": [
     0,
     28
    ],
    "jupyter": {
     "source_hidden": true
    }
   },
   "outputs": [],
   "source": [
    "def load_reviews(fn_yelp_reviews):\n",
    "    \"\"\"Load Yelp reviews. Return a Pandas dataframe.\n",
    "    Format: {\"id\": business_id, \"rid\": review_id, \"text\": text, \"rating\": rating}\n",
    "    And add goodness bool (rating > 3).\"\"\"\n",
    "    data = list()\n",
    "\n",
    "    with jsonlines.open(fn_yelp_reviews, \"r\") as fp:\n",
    "        for n, entry in enumerate(tqdm(fp)):\n",
    "            # print(entry)\n",
    "            # break\n",
    "            business_id = entry.pop(\"business_id\")\n",
    "            review_id = entry.pop(\"review_id\")\n",
    "            text = entry.pop(\"text\", \"\")\n",
    "            rating = entry.pop(\"stars\", 0.0)\n",
    "            data.append({\"id\": business_id, \"rid\": review_id, \"text\": text, \"rating\": rating})\n",
    "            # TESTING\n",
    "            # if n > 10000:\n",
    "            #     break\n",
    "\n",
    "    df = pd.DataFrame.from_dict(data)\n",
    "    \n",
    "    # Add goodness value\n",
    "    # TODO: maybe ignore with 3\n",
    "    df[\"goodness\"] = df[\"rating\"] > 3\n",
    "    \n",
    "    return df\n",
    "\n",
    "\n",
    "def load_topics(fn_yelp_topics, bids_not_cats=None, filter_cats=None, filter_cat_combis=None):\n",
    "    \"\"\"Load topics (categories).\n",
    "    Optionally filter by giving it a whitelist of allowed categories.\n",
    "    Optionally filter by giving a list of allowed category combinations.\n",
    "    Optionally provide an IN/OUT param ``bids_not_cats`` that accumulates business ids without categories.\"\"\"\n",
    "    inv_bid_cats = dict()\n",
    "    if bids_not_cats is None or not isinstance(bids_not_cats, set):\n",
    "        bids_not_cats = set()\n",
    "    \n",
    "    # load lookup business -> categories\n",
    "    with jsonlines.open(fn_yelp_topics, \"r\") as fp:\n",
    "        for n, entry in enumerate(tqdm(fp)):\n",
    "            business_id = entry.pop(\"business_id\")\n",
    "            categories = entry.pop(\"categories\")\n",
    "\n",
    "            if not categories:\n",
    "                bids_not_cats.add(business_id)\n",
    "                continue\n",
    "\n",
    "            categories = categories.split(\", \")\n",
    "            \n",
    "            if filter_cats:\n",
    "                categories = [c for c in categories if c in filter_cats]\n",
    "                if not categories:\n",
    "                    # bids_not_cats.add(business_id)  # ??\n",
    "                    continue\n",
    "                    \n",
    "            if filter_cat_combis:\n",
    "                # skip if combination is not above threshold (of filter list)\n",
    "                if tuple(sorted(set(categories))) not in filter_cat_combis:\n",
    "                    continue\n",
    "\n",
    "            inv_bid_cats[business_id] = categories\n",
    "    \n",
    "    return inv_bid_cats"
   ]
  },
  {
   "cell_type": "code",
   "execution_count": 5,
   "metadata": {
    "ExecuteTime": {
     "end_time": "2020-05-25T09:52:20.111088Z",
     "start_time": "2020-05-25T09:52:20.098533Z"
    },
    "code_folding": [
     0,
     11,
     30
    ],
    "jupyter": {
     "source_hidden": true
    }
   },
   "outputs": [],
   "source": [
    "def filter_min_cat_combis(inv_cat_combis, min_num=30):\n",
    "    \"\"\"Filter category combinations by minimum amount of occurrences in businesses\"\"\"\n",
    "    f_inv_cat_combis = dict()\n",
    "    \n",
    "    for cats, num in inv_cat_combis.items():\n",
    "        if num >= min_num:\n",
    "            f_inv_cat_combis[cats] = num\n",
    "    \n",
    "    return f_inv_cat_combis\n",
    "\n",
    "\n",
    "def make_map_cats(inv_bid_cats):\n",
    "    \"\"\"Make a map from category to business id\"\"\"\n",
    "    inv_cat_bids = dict()\n",
    "\n",
    "    # reverse lookup: category -> businesses\n",
    "    for bid, cats in tqdm(inv_bid_cats.items()):\n",
    "        for cat in cats:\n",
    "            try:\n",
    "                inv_cat_bids[cat].append(bid)\n",
    "            except KeyError:\n",
    "                inv_cat_bids[cat] = [bid]\n",
    "                \n",
    "    ## TODO: make distinct?\n",
    "    for cat in inv_cat_bids.keys():\n",
    "        inv_cat_bids[cat] = list(set(inv_cat_bids[cat]))\n",
    "                \n",
    "    return inv_cat_bids\n",
    "\n",
    "\n",
    "def make_cat_combis(inv_bid_cats):\n",
    "    \"\"\"Count amount of each category combination occurring in businesses\"\"\"\n",
    "    inv_cat_combis = Counter()\n",
    "\n",
    "    inv_cat_combis.update(\n",
    "        (tuple(sorted(set(cats))) for cats in tqdm(inv_bid_cats.values())))\n",
    "    \n",
    "    return inv_cat_combis"
   ]
  },
  {
   "cell_type": "markdown",
   "metadata": {},
   "source": [
    "#### Filter reviews according to criteria"
   ]
  },
  {
   "cell_type": "code",
   "execution_count": 6,
   "metadata": {
    "ExecuteTime": {
     "end_time": "2020-05-25T09:52:22.183788Z",
     "start_time": "2020-05-25T09:52:22.171415Z"
    },
    "code_folding": [
     0,
     16
    ],
    "jupyter": {
     "source_hidden": true
    }
   },
   "outputs": [],
   "source": [
    "def filter_min_review_freq(df, min_ratings=5):\n",
    "    \"\"\"Filter review dataframe for a minimum of N of each good and bad ratings.\"\"\"\n",
    "    # filter with at least N ratings per goodness\n",
    "    df_filter = df.groupby([\"id\", \"goodness\"])[[\"id\"]].count() < min_ratings\n",
    "    df_filter = df_filter.rename(columns={\"id\": \"filter\"})\n",
    "    df_filter = df_filter[df_filter[\"filter\"] == True]\n",
    "\n",
    "    # build a filter id list\n",
    "    df_filter_list = df_filter.reset_index()[\"id\"].to_list()\n",
    "\n",
    "    # filter with list\n",
    "    df_filtered = df[~df.id.isin(df_filter_list)]\n",
    "    \n",
    "    return df_filtered\n",
    "\n",
    "\n",
    "def filter_both_good_bad(df):\n",
    "    \"\"\"Filter the dataframe to contain only both good and bad reviews for each business.\n",
    "    Dataframe should be the same if minimum filtering above is done.\"\"\"\n",
    "    # build filter for ids that contain both positive and negative samples\n",
    "    df_filter = df.groupby([\"id\", \"goodness\"], as_index=False).count().groupby(\"id\")[[\"id\"]].count() == 2\n",
    "    df_filter = df_filter.rename(columns={\"id\": \"filter\"})\n",
    "    df_filter = df_filter[df_filter[\"filter\"] == True]\n",
    "\n",
    "    # create list of IDs for which this is true\n",
    "    df_filter_list = df_filter.reset_index()[\"id\"].to_list()\n",
    "\n",
    "    # filter with list\n",
    "    df_filtered = df[df.id.isin(df_filter_list)]\n",
    "\n",
    "    # df_filtered.groupby([\"id\", \"goodness\"]).count()\n",
    "    return df_filtered"
   ]
  },
  {
   "cell_type": "code",
   "execution_count": 7,
   "metadata": {
    "ExecuteTime": {
     "end_time": "2020-05-25T09:52:22.384186Z",
     "start_time": "2020-05-25T09:52:22.377841Z"
    },
    "code_folding": [
     0,
     7
    ],
    "jupyter": {
     "source_hidden": true
    }
   },
   "outputs": [],
   "source": [
    "def filter_by_businesses(df, lst_business_ids):\n",
    "    # filter with list, keep businesses in list\n",
    "    df_filtered = df[df.id.isin(set(lst_business_ids))]\n",
    "\n",
    "    return df_filtered\n",
    "\n",
    "\n",
    "def filter_by_businesses_not_same(df, lst_business_ids):\n",
    "    # filter with list, keep businesses that are not in list\n",
    "    df_filtered = df[~df.id.isin(set(lst_business_ids))]\n",
    "\n",
    "    return df_filtered"
   ]
  },
  {
   "cell_type": "markdown",
   "metadata": {},
   "source": [
    "#### Get topN categories + make Ntuples from category combinations"
   ]
  },
  {
   "cell_type": "code",
   "execution_count": 8,
   "metadata": {
    "ExecuteTime": {
     "end_time": "2020-05-25T09:52:22.837095Z",
     "start_time": "2020-05-25T09:52:22.827303Z"
    },
    "code_folding": [
     0,
     7
    ],
    "jupyter": {
     "source_hidden": true
    }
   },
   "outputs": [],
   "source": [
    "def get_Ntop_cats(inv_cat_bids, n=50):\n",
    "    # get most common cats\n",
    "    f_cat_cnt = Counter({k: len(v) for k, v in inv_cat_bids.items()})\n",
    "    f_cats = {c for c, v in f_cat_cnt.most_common(n)}\n",
    "    return f_cats\n",
    "\n",
    "\n",
    "def make_cat_Ntuples(f_inv_cat_combis, n=2):\n",
    "    f_cat_pairs = Counter()\n",
    "\n",
    "    for cat_group in tqdm(f_inv_cat_combis.keys()):\n",
    "        if len(cat_group) < n:\n",
    "            continue\n",
    "        it = combinations(cat_group, n)\n",
    "        # repeat (#num_businesses) + chain combis\n",
    "        f_cat_pairs.update(it)\n",
    "        \n",
    "    return f_cat_pairs"
   ]
  },
  {
   "cell_type": "markdown",
   "metadata": {},
   "source": [
    "#### Make category graph or NxN map (df + array)"
   ]
  },
  {
   "cell_type": "code",
   "execution_count": 9,
   "metadata": {
    "ExecuteTime": {
     "end_time": "2020-05-25T09:52:24.807433Z",
     "start_time": "2020-05-25T09:52:24.793721Z"
    },
    "code_folding": [
     0,
     9
    ],
    "jupyter": {
     "source_hidden": true
    }
   },
   "outputs": [],
   "source": [
    "def make_graph(f_cat_pairs):\n",
    "    g_from, g_to, g_value = zip(*((k1, k2, n) for (k1, k2), n in tqdm(f_cat_pairs.most_common())))\n",
    "\n",
    "    g_df = pd.DataFrame({\"from\": g_from, \"to\": g_to, \"value\": g_value})\n",
    "    G = nx.from_pandas_edgelist(g_df, \"from\", \"to\", create_using=nx.Graph())\n",
    "    \n",
    "    return G\n",
    "\n",
    "\n",
    "def make_NxN_map(f_cats, f_cat_pairs):\n",
    "    f_cats = list(f_cats)\n",
    "    array = list()\n",
    "    for i, cat1 in enumerate(tqdm(f_cats)):\n",
    "        array_row = list()\n",
    "        for j, cat2 in enumerate(f_cats):\n",
    "            array_row.append(f_cat_pairs.get((cat1, cat2), f_cat_pairs.get((cat2, cat1), 0)))\n",
    "        array.append(array_row)\n",
    "    df_cm = pd.DataFrame(array, index=list(f_cats), columns=list(f_cats))\n",
    "    \n",
    "    # dataframe, NxN array + labels\n",
    "    return df_cm, array, f_cats"
   ]
  },
  {
   "cell_type": "markdown",
   "metadata": {},
   "source": [
    "---"
   ]
  },
  {
   "cell_type": "markdown",
   "metadata": {},
   "source": [
    "#### Load categories hierarchy"
   ]
  },
  {
   "cell_type": "code",
   "execution_count": 10,
   "metadata": {
    "ExecuteTime": {
     "end_time": "2020-05-25T09:52:25.582403Z",
     "start_time": "2020-05-25T09:52:25.560666Z"
    },
    "code_folding": [
     0,
     30,
     40
    ],
    "jupyter": {
     "source_hidden": true
    }
   },
   "outputs": [],
   "source": [
    "def load_category_tree(fn_all_category_list):\n",
    "    with open(fn_all_category_list, \"r\") as fp:\n",
    "        content = fp.read()\n",
    "        data = json.loads(content)\n",
    "\n",
    "    map_categories = dict()\n",
    "    map_cat_name2id = dict()\n",
    "    lst_root_categories = list()\n",
    "\n",
    "    # load basic lookups\n",
    "    for item in data:\n",
    "        # .alias (id)\n",
    "        map_categories[item[\"alias\"]] = item\n",
    "        # .title\n",
    "        map_cat_name2id[item[\"title\"]] = item[\"alias\"]\n",
    "        # .parents\n",
    "        # some have multiple parents ...\n",
    "        if not item[\"parents\"]:\n",
    "            lst_root_categories.append(item[\"alias\"])\n",
    "        # add list of children\n",
    "        item[\"children\"] = list()\n",
    "\n",
    "    # add children\n",
    "    for cid, item in map_categories.items():\n",
    "        for parent_cid in item[\"parents\"]:\n",
    "            map_categories[parent_cid][\"children\"].append(item[\"alias\"])\n",
    "\n",
    "    return map_categories, map_cat_name2id, lst_root_categories\n",
    "\n",
    "\n",
    "def get_root_category_items(map_categories):\n",
    "    lst_root_categories = list()\n",
    "\n",
    "    for cid, item in map_categories.items():\n",
    "        if not item[\"parents\"]:\n",
    "            lst_root_categories.append(item)\n",
    "            \n",
    "    return lst_root_categories\n",
    "\n",
    "\n",
    "def get_children_category_item_list(map_categories, parent_cid):\n",
    "    return [\n",
    "        map_categories[child_cid]\n",
    "        for child_cid in map_categories[parent_cid][\"children\"]\n",
    "    ]"
   ]
  },
  {
   "cell_type": "markdown",
   "metadata": {},
   "source": [
    "##### Get businesses in categories"
   ]
  },
  {
   "cell_type": "code",
   "execution_count": 11,
   "metadata": {
    "ExecuteTime": {
     "end_time": "2020-05-25T09:52:28.177244Z",
     "start_time": "2020-05-25T09:52:28.167066Z"
    },
    "code_folding": [
     0,
     7
    ],
    "jupyter": {
     "source_hidden": true
    }
   },
   "outputs": [],
   "source": [
    "def get_businesses_in_category(inv_cat_bids, category):\n",
    "    try:\n",
    "        return list(set(inv_cat_bids[category]))\n",
    "    except KeyError:\n",
    "        return []\n",
    "    \n",
    "    \n",
    "def get_businesses_in_category_branch(inv_cat_bids, category, map_categories, map_cat_name2id):\n",
    "    map_cat_id2name = {cid: name for name, cid in map_cat_name2id.items()}\n",
    "\n",
    "    def _get_recursive_businesses(cat_name):\n",
    "        businesses = get_businesses_in_category(inv_cat_bids, cat_name)\n",
    "\n",
    "        cid = map_cat_name2id[cat_name]\n",
    "        for child_cid in map_categories[cid][\"children\"]:\n",
    "            child_name = map_cat_id2name[child_cid]\n",
    "            businesses.extend(_get_recursive_businesses(child_name))\n",
    "        \n",
    "        return businesses\n",
    "    \n",
    "    return _get_recursive_businesses(category)"
   ]
  },
  {
   "cell_type": "markdown",
   "metadata": {},
   "source": [
    "##### Print category trees"
   ]
  },
  {
   "cell_type": "code",
   "execution_count": 12,
   "metadata": {
    "ExecuteTime": {
     "end_time": "2020-05-25T09:52:29.242019Z",
     "start_time": "2020-05-25T09:52:29.205730Z"
    },
    "code_folding": [
     0,
     19,
     49,
     85,
     106
    ],
    "jupyter": {
     "source_hidden": true
    }
   },
   "outputs": [],
   "source": [
    "def print_category_tree(map_categories):\n",
    "    root_categories = get_root_category_items(map_categories)\n",
    "    \n",
    "    def _print_cat_list_rec(lst_cats, level=0):\n",
    "        for item in sorted(lst_cats, key=lambda x: x[\"title\"]):\n",
    "            if level:\n",
    "                print(\"  \" * level, end=\"\")\n",
    "            print(f\"\"\"{item[\"title\"]} [{item[\"alias\"]}]\"\"\", end=\"\")\n",
    "            if item[\"children\"]:\n",
    "                print(f\"\"\" [#{len(item[\"children\"])} children]\"\"\")\n",
    "            else:\n",
    "                print()\n",
    "            \n",
    "            children = get_children_category_item_list(map_categories, item[\"alias\"])\n",
    "            _print_cat_list_rec(children, level=level + 1)\n",
    "            \n",
    "    _print_cat_list_rec(root_categories, level=0)\n",
    "\n",
    "\n",
    "def print_category_tree_with_num_businesses(map_categories, inv_cat_bids):\n",
    "    root_categories = get_root_category_items(map_categories)\n",
    "    \n",
    "    def _print_cat_list_rec(lst_cats, level=0):\n",
    "        for item in sorted(lst_cats, key=lambda x: x[\"title\"]):\n",
    "            cur_line = \" .\" * 30\n",
    "            parts = list()\n",
    "\n",
    "            if level:\n",
    "                parts.append(\"  \" * level)\n",
    "            parts.append(f\"\"\"{item[\"title\"]} [{item[\"alias\"]}]\"\"\")\n",
    "            \n",
    "            str_len = sum(len(part) for part in parts)\n",
    "            print(\"\".join(part for part in parts), end=\"\")\n",
    "            print(cur_line[str_len:], end=\"\")\n",
    "            \n",
    "            if item[\"title\"] not in inv_cat_bids:\n",
    "                print(\" No businesses associated!\")\n",
    "            else:\n",
    "                print(f\"\"\" {len((inv_cat_bids[item[\"title\"]])):>5d} businesses\"\"\")\n",
    "            \n",
    "            children = get_children_category_item_list(map_categories, item[\"alias\"])\n",
    "            _print_cat_list_rec(children, level=level + 1)\n",
    "            \n",
    "            if level == 0:\n",
    "                print()\n",
    "            \n",
    "    _print_cat_list_rec(root_categories, level=0)\n",
    "    \n",
    "\n",
    "def print_category_tree_with_num_businesses_rec(map_categories, inv_cat_bids, map_cat_name2id):\n",
    "    root_categories = get_root_category_items(map_categories)\n",
    "    \n",
    "    def _print_cat_list_rec(lst_cats, level=0):\n",
    "        for item in sorted(lst_cats, key=lambda x: x[\"title\"]):\n",
    "            cur_line = \" .\" * 30\n",
    "            parts = list()\n",
    "\n",
    "            if level:\n",
    "                parts.append(\"  \" * level)\n",
    "            parts.append(f\"\"\"{item[\"title\"]} [{item[\"alias\"]}]\"\"\")\n",
    "            \n",
    "            str_len = sum(len(part) for part in parts)\n",
    "            print(\"\".join(part for part in parts), end=\"\")\n",
    "            print(cur_line[str_len:], end=\"\")\n",
    "            \n",
    "            businesses = get_businesses_in_category_branch(inv_cat_bids, item[\"title\"], map_categories, map_cat_name2id)\n",
    "            businesses_self = get_businesses_in_category(inv_cat_bids, item[\"title\"])\n",
    "            if not businesses:\n",
    "                print(\" No businesses associated!\")\n",
    "            else:\n",
    "                businesses = set(businesses)\n",
    "                print(f\"\"\" {len(businesses):>5d} businesses\"\"\", end=\"\")\n",
    "                if len(businesses) != len(businesses_self):\n",
    "                    print(f\"\"\" (self: {len(businesses_self)})\"\"\", end=\"\")\n",
    "                print()\n",
    "            \n",
    "            children = get_children_category_item_list(map_categories, item[\"alias\"])\n",
    "            _print_cat_list_rec(children, level=level + 1)\n",
    "            \n",
    "            if level == 0:\n",
    "                print()\n",
    "            \n",
    "    _print_cat_list_rec(root_categories, level=0)\n",
    "    \n",
    "    \n",
    "def print_category_tree_with_num_businesses_root(map_categories, inv_cat_bids, map_cat_name2id):\n",
    "    root_categories = get_root_category_items(map_categories)\n",
    "    \n",
    "    for item in sorted(root_categories, key=lambda x: x[\"title\"]):\n",
    "        cur_line = \" .\" * 25\n",
    "        parts = [f\"\"\"{item[\"title\"]} [{item[\"alias\"]}] \"\"\"]\n",
    "\n",
    "        str_len = sum(len(part) for part in parts)\n",
    "        print(\"\".join(part for part in parts), end=\"\")\n",
    "        print(cur_line[str_len:], end=\"\")\n",
    "\n",
    "        businesses = get_businesses_in_category_branch(inv_cat_bids, item[\"title\"], map_categories, map_cat_name2id)\n",
    "        businesses_self = get_businesses_in_category(inv_cat_bids, item[\"title\"])\n",
    "\n",
    "        businesses = set(businesses)\n",
    "        print(f\"\"\" {len(businesses):>5d} businesses\"\"\", end=\"\")\n",
    "        if len(businesses) != len(businesses_self):\n",
    "            print(f\"\"\" (self: {len(businesses_self)})\"\"\", end=\"\")\n",
    "        print()\n",
    "        \n",
    "\n",
    "def print_category_tree_with_num_businesses_root2(map_categories, inv_cat_bids, map_cat_name2id):\n",
    "    root_categories = get_root_category_items(map_categories)\n",
    "    for item in root_categories:\n",
    "        item[\"businesses\"] = get_businesses_in_category_branch(inv_cat_bids, item[\"title\"], map_categories, map_cat_name2id)\n",
    "        item[\"businesses_self\"] = get_businesses_in_category(inv_cat_bids, item[\"title\"])\n",
    "    \n",
    "    for item in sorted(root_categories, key=lambda x: len(set(x[\"businesses\"]))):\n",
    "        cur_line = \" .\" * 25\n",
    "        parts = [f\"\"\"{item[\"title\"]} [{item[\"alias\"]}] \"\"\"]\n",
    "\n",
    "        str_len = sum(len(part) for part in parts)\n",
    "        print(\"\".join(part for part in parts), end=\"\")\n",
    "        print(cur_line[str_len:], end=\"\")\n",
    "\n",
    "        businesses = item[\"businesses\"]\n",
    "        businesses_self = item[\"businesses_self\"]\n",
    "\n",
    "        businesses = set(businesses)\n",
    "        print(f\"\"\" {len(businesses):>5d} businesses\"\"\", end=\"\")\n",
    "        if len(businesses) != len(businesses_self):\n",
    "            print(f\"\"\" (self: {len(businesses_self)})\"\"\", end=\"\")\n",
    "        print()"
   ]
  },
  {
   "cell_type": "code",
   "execution_count": 13,
   "metadata": {},
   "outputs": [],
   "source": [
    "def print_category_tree_with_num_reviews_root(map_categories, inv_cat_bids, map_cat_name2id, df_reviews):\n",
    "    root_categories = get_root_category_items(map_categories)\n",
    "    \n",
    "    for item in sorted(root_categories, key=lambda x: x[\"title\"]):\n",
    "        cur_line = \" .\" * 25\n",
    "        parts = [f\"\"\"{item[\"title\"]} [{item[\"alias\"]}] \"\"\"]\n",
    "\n",
    "        str_len = sum(len(part) for part in parts)\n",
    "        print(\"\".join(part for part in parts), end=\"\")\n",
    "        print(cur_line[str_len:], end=\"\")\n",
    "\n",
    "        businesses = get_businesses_in_category_branch(inv_cat_bids, item[\"title\"], map_categories, map_cat_name2id)\n",
    "        # businesses_self = get_businesses_in_category(inv_cat_bids, item[\"title\"])\n",
    "        \n",
    "        df_reviews_filtered = filter_by_businesses(df_reviews, businesses)\n",
    "        num_reviews = df_reviews_filtered.rid.count()\n",
    "\n",
    "        print(f\"\"\" {num_reviews:>8d} reviews\"\"\")"
   ]
  },
  {
   "cell_type": "markdown",
   "metadata": {},
   "source": [
    "##### Make category comparisons"
   ]
  },
  {
   "cell_type": "code",
   "execution_count": 14,
   "metadata": {
    "ExecuteTime": {
     "end_time": "2020-05-25T09:52:31.432925Z",
     "start_time": "2020-05-25T09:52:31.423857Z"
    },
    "code_folding": [
     0
    ],
    "jupyter": {
     "source_hidden": true
    }
   },
   "outputs": [],
   "source": [
    "def print_2category_compare(inv_cat_bids, map_categories, map_cat_name2id, cat_name_i, cat_name_j):\n",
    "    businesses_i = get_businesses_in_category_branch(inv_cat_bids, cat_name_i, map_categories, map_cat_name2id)\n",
    "    businesses_j = get_businesses_in_category_branch(inv_cat_bids, cat_name_j, map_categories, map_cat_name2id)\n",
    "    \n",
    "    cat_name_i += \":\"\n",
    "    cat_name_j += \":\"\n",
    "    width = max(12, len(cat_name_i), len(cat_name_j))\n",
    "\n",
    "    print(f\"\"\"{cat_name_i:<{width}} {len(set(businesses_i)):>5d}\"\"\")\n",
    "    print(f\"\"\"{cat_name_j:<{width}} {len(set(businesses_j)):>5d}\"\"\")\n",
    "    print(f\"\"\"Both: {\"same:\":>{width - 6}} {len(set(businesses_i) & set(businesses_j)):>5d}\"\"\")\n",
    "    print(f\"\"\"{\"total:\":>{width}} {len(set(businesses_i) | set(businesses_j)):>5d}\"\"\")"
   ]
  },
  {
   "cell_type": "code",
   "execution_count": 15,
   "metadata": {
    "ExecuteTime": {
     "end_time": "2020-05-25T09:52:31.675547Z",
     "start_time": "2020-05-25T09:52:31.663367Z"
    },
    "code_folding": [
     0
    ],
    "jupyter": {
     "source_hidden": true
    }
   },
   "outputs": [],
   "source": [
    "def make_NxN_category_businesses_overlap(inv_cat_bids, map_categories, map_cat_name2id):\n",
    "    root_categories = get_root_category_items(map_categories)\n",
    "    root_categories = sorted(root_categories, key=lambda x: x[\"title\"])\n",
    "    root_category_labels = [x[\"title\"] for x in root_categories]\n",
    "    \n",
    "    array = list()\n",
    "    for cname_i in root_category_labels:\n",
    "        array_line = list()\n",
    "        for cname_j in root_category_labels:\n",
    "            businesses_i = get_businesses_in_category_branch(inv_cat_bids, cname_i, map_categories, map_cat_name2id)\n",
    "            businesses_j = get_businesses_in_category_branch(inv_cat_bids, cname_j, map_categories, map_cat_name2id)\n",
    "            businesses_i, businesses_j = set(businesses_i), set(businesses_j)\n",
    "            businesses_ij_union = businesses_i | businesses_j\n",
    "            businesses_ij_intersect = businesses_i & businesses_j\n",
    "            num_businesses_ij = len(businesses_ij_intersect)\n",
    "            #array_line.append(num_businesses_ij)\n",
    "            array_line.append(len(businesses_ij_intersect) / len(businesses_ij_union))\n",
    "        array.append(array_line)\n",
    "    \n",
    "    df_cm = pd.DataFrame(array, index=list(root_category_labels), columns=list(root_category_labels))\n",
    "    \n",
    "    return array, root_category_labels, df_cm"
   ]
  },
  {
   "cell_type": "markdown",
   "metadata": {},
   "source": [
    "##### text length comparisons?"
   ]
  },
  {
   "cell_type": "code",
   "execution_count": 16,
   "metadata": {
    "ExecuteTime": {
     "end_time": "2020-05-25T09:52:33.641093Z",
     "start_time": "2020-05-25T09:52:33.634436Z"
    },
    "code_folding": [
     0
    ],
    "jupyter": {
     "source_hidden": true
    }
   },
   "outputs": [],
   "source": [
    "def get_reviews_for_category(df, cat_name, inv_cat_bids, map_categories, map_cat_name2id):\n",
    "    businesses = get_businesses_in_category_branch(inv_cat_bids, cat_name, map_categories, map_cat_name2id)\n",
    "    print(f\"\"\"{cat_name}: {len(businesses)}, uniq: {len(set(businesses))}\"\"\")\n",
    "    businesses = set(businesses)\n",
    "\n",
    "    df_businesses = filter_by_businesses(df, businesses)\n",
    "\n",
    "    return df_businesses"
   ]
  },
  {
   "cell_type": "markdown",
   "metadata": {},
   "source": [
    "##### Cache root category reviews in dataframes"
   ]
  },
  {
   "cell_type": "code",
   "execution_count": 17,
   "metadata": {
    "ExecuteTime": {
     "end_time": "2020-05-25T09:52:36.102987Z",
     "start_time": "2020-05-25T09:52:36.087219Z"
    },
    "code_folding": [
     3,
     27
    ],
    "jupyter": {
     "source_hidden": true
    }
   },
   "outputs": [],
   "source": [
    "dn_yelp_cached = data_yelp_path / \"cached\"\n",
    "\n",
    "\n",
    "def cache_root_category_businesses_df(df, inv_cat_bids, map_categories, map_cat_name2id):\n",
    "    root_categories = get_root_category_items(map_categories)\n",
    "    root_categories = sorted(root_categories, key=lambda x: x[\"title\"])\n",
    "    \n",
    "    dn_yelp_cached = data_yelp_path / \"cached\"\n",
    "    if not dn_yelp_cached.exists():\n",
    "        print(f\"Create cache dir: {dn_yelp_cached}\")\n",
    "        dn_yelp_cached.mkdir()\n",
    "        \n",
    "    for root_category in root_categories:\n",
    "        fn_yelp_cached_root_cat_df = dn_yelp_cached / f\"\"\"{root_category[\"alias\"]}_businesses.df.p\"\"\"\n",
    "        if fn_yelp_cached_root_cat_df.exists():\n",
    "            continue\n",
    "\n",
    "        business_ids = set(get_businesses_in_category_branch(inv_cat_bids, root_category[\"title\"], map_categories, map_cat_name2id))\n",
    "        # business_ids = set(root_category[\"businesses\"])\n",
    "        print(f\"\"\"Filter category {root_category[\"title\"]} [{root_category[\"alias\"]}] with {len(set(business_ids))} businesses ...\"\"\")\n",
    "        df_root_cat = filter_by_businesses(df, business_ids)\n",
    "\n",
    "        # df_root_cat = get_reviews_for_category(df, cat_name, inv_cat_bids, map_categories, map_cat_name2id)\n",
    "\n",
    "        df_root_cat.to_pickle(str(fn_yelp_cached_root_cat_df))\n",
    "        \n",
    "        \n",
    "def load_cached_root_category_businesses_df(category_label, map_categories):\n",
    "    root_categories = get_root_category_items(map_categories)\n",
    "    root_categories = sorted(root_categories, key=lambda x: x[\"title\"])\n",
    "\n",
    "    for root_category in root_categories:\n",
    "        if root_category[\"title\"] == category_label:\n",
    "            category_id = root_category[\"alias\"]\n",
    "            break\n",
    "    else:\n",
    "        print(f\"No cached root category businesses found for: {category_label}\")\n",
    "        return None\n",
    "\n",
    "    fn_yelp_cached_root_cat_df = dn_yelp_cached / f\"{category_id}_businesses.df.p\"\n",
    "    if not fn_yelp_cached_root_cat_df.exists():\n",
    "        return None\n",
    "    \n",
    "    df_root_cat = pd.read_pickle(str(fn_yelp_cached_root_cat_df))\n",
    "    return df_root_cat"
   ]
  },
  {
   "cell_type": "markdown",
   "metadata": {},
   "source": [
    "##### Filter other category businesses"
   ]
  },
  {
   "cell_type": "code",
   "execution_count": 18,
   "metadata": {
    "ExecuteTime": {
     "end_time": "2020-05-25T09:52:38.506865Z",
     "start_time": "2020-05-25T09:52:38.497050Z"
    },
    "code_folding": [
     0
    ],
    "jupyter": {
     "source_hidden": true
    }
   },
   "outputs": [],
   "source": [
    "def filter_root_category_businesses_uniq(category_label, inv_cat_bids, map_categories, map_cat_name2id):\n",
    "    df_root_cat = load_cached_root_category_businesses_df(category_label, map_categories)\n",
    "    \n",
    "    root_categories = get_root_category_items(map_categories)\n",
    "    # root_categories = sorted(root_categories, key=lambda x: len(x[\"businesses\"]), reverse=False)\n",
    "    \n",
    "    for root_category in root_categories:\n",
    "        if root_category[\"title\"] == category_label:\n",
    "            # skip, do not trim self\n",
    "            continue\n",
    "            \n",
    "        business_ids = set(get_businesses_in_category_branch(inv_cat_bids, root_category[\"title\"], map_categories, map_cat_name2id))\n",
    "        # business_ids = set(root_category[\"businesses\"])\n",
    "        print(f\"\"\"Filter businesses from category {root_category[\"title\"]} [{root_category[\"alias\"]}] ({len(business_ids)} businesses) ...\"\"\")\n",
    "        n_before = len(df_root_cat)\n",
    "        df_root_cat = filter_by_businesses_not_same(df_root_cat, business_ids)\n",
    "        n_after = len(df_root_cat)\n",
    "        print(f\"\"\"Filtered {n_before - n_after} businesses (overlap with {root_category[\"title\"]})\"\"\")\n",
    "        \n",
    "    return df_root_cat"
   ]
  },
  {
   "cell_type": "code",
   "execution_count": 19,
   "metadata": {
    "ExecuteTime": {
     "end_time": "2020-05-25T09:52:38.926642Z",
     "start_time": "2020-05-25T09:52:38.916413Z"
    },
    "code_folding": [
     0
    ],
    "jupyter": {
     "source_hidden": true
    }
   },
   "outputs": [],
   "source": [
    "def filter_root_category_businesses_not_other(category_label, category_label_filter, inv_cat_bids, map_categories, map_cat_name2id):\n",
    "    assert category_label != category_label_filter, \"do not filter on self\"\n",
    "\n",
    "    df_root_cat = load_cached_root_category_businesses_df(category_label, map_categories)\n",
    "    \n",
    "    root_categories = get_root_category_items(map_categories)\n",
    "    # root_categories = sorted(root_categories, key=lambda x: len(x[\"businesses\"]), reverse=True)\n",
    "    \n",
    "    for root_category in root_categories:\n",
    "        if root_category[\"title\"] == category_label_filter:\n",
    "            break\n",
    "    else:\n",
    "        print(f\"No businesses found for {category_label_filter} -> return unchanged\")\n",
    "        return df_root_cat\n",
    "    \n",
    "    business_ids = set(get_businesses_in_category_branch(inv_cat_bids, root_category[\"title\"], map_categories, map_cat_name2id))\n",
    "    # businesses_ids = root_category[\"businesses\"]\n",
    "    print(f\"\"\"Filter businesses from category {root_category[\"title\"]} [{root_category[\"alias\"]}] ({len(set(business_ids))} businesses) ...\"\"\")\n",
    "    n_before = len(df_root_cat)\n",
    "    df_root_cat = filter_by_businesses_not_same(df_root_cat, business_ids)\n",
    "    n_after = len(df_root_cat)\n",
    "    print(f\"\"\"Filtered {n_before - n_after} businesses (overlap with {root_category[\"title\"]})\"\"\")\n",
    "    \n",
    "    return df_root_cat"
   ]
  },
  {
   "cell_type": "code",
   "execution_count": 20,
   "metadata": {
    "ExecuteTime": {
     "end_time": "2020-05-25T09:52:39.531336Z",
     "start_time": "2020-05-25T09:52:39.521031Z"
    },
    "code_folding": [
     0
    ],
    "jupyter": {
     "source_hidden": true
    }
   },
   "outputs": [],
   "source": [
    "def filter_root_category_businesses_same_other(category_label, category_label_filter, inv_cat_bids, map_categories, map_cat_name2id):\n",
    "    assert category_label != category_label_filter, \"do not filter on self\"\n",
    "\n",
    "    df_root_cat = load_cached_root_category_businesses_df(category_label, map_categories)\n",
    "    \n",
    "    root_categories = get_root_category_items(map_categories)\n",
    "    # root_categories = sorted(root_categories, key=lambda x: len(x[\"businesses\"]), reverse=True)\n",
    "    \n",
    "    for root_category in root_categories:\n",
    "        if root_category[\"title\"] == category_label_filter:\n",
    "            break\n",
    "    else:\n",
    "        print(f\"No businesses found for {category_label_filter} -> return unchanged\")\n",
    "        return df_root_cat\n",
    "    \n",
    "    business_ids = set(get_businesses_in_category_branch(inv_cat_bids, root_category[\"title\"], map_categories, map_cat_name2id))\n",
    "    # businesses_ids = root_category[\"businesses\"]\n",
    "    print(f\"\"\"Filter businesses from category {root_category[\"title\"]} [{root_category[\"alias\"]}] ({len(set(business_ids))} businesses) ...\"\"\")\n",
    "    n_before = len(df_root_cat)\n",
    "    df_same = filter_by_businesses(df_root_cat, business_ids)\n",
    "    n_after = len(df_same)\n",
    "    print(f\"\"\"Filtered {n_before - n_after} businesses ({n_after} same with {root_category[\"title\"]})\"\"\")\n",
    "    \n",
    "    return df_same"
   ]
  },
  {
   "cell_type": "markdown",
   "metadata": {},
   "source": [
    "---"
   ]
  },
  {
   "cell_type": "markdown",
   "metadata": {},
   "source": [
    "#### Make Pairs"
   ]
  },
  {
   "cell_type": "markdown",
   "metadata": {},
   "source": [
    "**TODO:**\n",
    "\n",
    "- check similar length -- what strategy to use to combine similar length pairs best?\n",
    "- flip sides (arg1 <-> arg2)\n",
    "- make more pairs (?) -- but keep same ratio of same-sentiment vs. not-same-sentiment (different-sentiment) ??\n",
    "- group by categories (topics) -- more explicit training (uniqueness of single arguments / topic structures)\n",
    "- evaluate on same-argument (S3C) - or amazon reviews\n",
    "- compute mean/avg sequence length\n",
    "- fixed layers in fine-tuning\n",
    "- visualization of trained layers and activation for good / bad inputs"
   ]
  },
  {
   "cell_type": "markdown",
   "metadata": {},
   "source": [
    "##### Positive + negative same-sentiment pairs"
   ]
  },
  {
   "cell_type": "code",
   "execution_count": 21,
   "metadata": {
    "ExecuteTime": {
     "end_time": "2020-05-25T09:52:43.585863Z",
     "start_time": "2020-05-25T09:52:43.583298Z"
    },
    "jupyter": {
     "source_hidden": true
    }
   },
   "outputs": [],
   "source": [
    "num_pairs_per_class = 2\n",
    "# N positive + N negative\n",
    "# --> 2N pos+neg (not same-sentiment)\n",
    "\n",
    "# TODO: randomness for positive ss / negative ss - sum is equal / or sum equal compared to not ss"
   ]
  },
  {
   "cell_type": "code",
   "execution_count": 22,
   "metadata": {
    "ExecuteTime": {
     "end_time": "2020-05-25T09:52:44.026806Z",
     "start_time": "2020-05-25T09:52:44.007949Z"
    },
    "code_folding": [
     0
    ],
    "jupyter": {
     "source_hidden": true
    }
   },
   "outputs": [],
   "source": [
    "def make_pairs_good_bad(df, num_pairs_per_class=2):\n",
    "    pairs_good = list()\n",
    "    pairs_bad = list()\n",
    "\n",
    "    for id_, group in tqdm(df.groupby(\"id\")):\n",
    "        grouper = group.groupby(\"goodness\")\n",
    "        reviews_good = grouper.get_group(True)\n",
    "        reviews_bad = grouper.get_group(False)\n",
    "\n",
    "        # TESTING\n",
    "        # print(\"id:\", id_)\n",
    "        # print(\"#good:\", len(reviews_good))\n",
    "        # print(\"#bad:\", len(reviews_bad))\n",
    "        # print(group)\n",
    "        # break\n",
    "\n",
    "        # make pairings -- good ss\n",
    "        rg_idx = reviews_good.index.values\n",
    "        # print(\"pos_idx:\", rg_idx)\n",
    "        rg_idx_sel = np.random.choice(rg_idx, 2 * num_pairs_per_class, replace=False)\n",
    "        for id1, id2 in zip(rg_idx_sel[::2], rg_idx_sel[1::2]):\n",
    "            # print(\"pair:\", id1, id2)\n",
    "            r1, r2 = df.loc[id1], df.loc[id2]\n",
    "            pair = {\n",
    "                \"argument1\": r1[\"text\"], \"argument2\": r2[\"text\"],\n",
    "                \"argument1_id\": f\"\"\"{r1[\"id\"]}|{r1[\"rid\"]}\"\"\", \"argument2_id\": f\"\"\"{r2[\"id\"]}|{r2[\"rid\"]}\"\"\",\n",
    "                \"is_same_side\": True, \"is_good_side\": True,\n",
    "                \"topic\": inv_bid_cats.get(r1[\"id\"], None)\n",
    "            }\n",
    "            # print(pair)\n",
    "            pairs_good.append(pair)\n",
    "\n",
    "        # make pairings -- bad ss\n",
    "        rb_idx = reviews_bad.index.values\n",
    "        # print(\"neg_idx:\", rb_idx)\n",
    "        rb_idx_sel = np.random.choice(rb_idx, 2 * num_pairs_per_class, replace=False)\n",
    "        for id1, id2 in zip(rb_idx_sel[::2], rb_idx_sel[1::2]):\n",
    "            r1, r2 = df.loc[id1], df.loc[id2]\n",
    "            pair = {\n",
    "                \"argument1\": r1[\"text\"], \"argument2\": r2[\"text\"],\n",
    "                \"argument1_id\": f\"\"\"{r1[\"id\"]}|{r1[\"rid\"]}\"\"\", \"argument2_id\": f\"\"\"{r2[\"id\"]}|{r2[\"rid\"]}\"\"\",\n",
    "                \"is_same_side\": True, \"is_good_side\": False,\n",
    "                \"topic\": inv_bid_cats.get(r1[\"id\"], None)\n",
    "            }\n",
    "            pairs_bad.append(pair)\n",
    "\n",
    "        # break\n",
    "        \n",
    "    return pairs_good, pairs_bad"
   ]
  },
  {
   "cell_type": "markdown",
   "metadata": {},
   "source": [
    "##### not same-sentiment pairs (combinations positive + negative)"
   ]
  },
  {
   "cell_type": "code",
   "execution_count": 23,
   "metadata": {
    "ExecuteTime": {
     "end_time": "2020-05-25T09:52:45.733584Z",
     "start_time": "2020-05-25T09:52:45.729177Z"
    },
    "code_folding": [],
    "jupyter": {
     "source_hidden": true
    }
   },
   "outputs": [],
   "source": [
    "#: number of negative same-sentiment samples same as positive same-sentiment samples\n",
    "num_pairs_negative = 2 * num_pairs_per_class\n",
    "\n",
    "#: whether for a single side (good or bad) there can be multiple occurrences of the same review\n",
    "#: may need to check afterwared that not by chance same pairing happens ...\n",
    "repeatable_on_side = False"
   ]
  },
  {
   "cell_type": "code",
   "execution_count": 24,
   "metadata": {
    "ExecuteTime": {
     "end_time": "2020-05-25T09:52:51.076476Z",
     "start_time": "2020-05-25T09:52:51.059949Z"
    },
    "code_folding": [
     0
    ],
    "jupyter": {
     "source_hidden": true
    }
   },
   "outputs": [],
   "source": [
    "def make_pairs_negative(df, num_pairs_negative, repeatable_on_side=False):\n",
    "    pairs_not_ss = list()\n",
    "\n",
    "    for id_, group in tqdm(df.groupby(\"id\")):\n",
    "        grouper = group.groupby(\"goodness\")\n",
    "        reviews_good = grouper.get_group(True)\n",
    "        reviews_bad = grouper.get_group(False)\n",
    "\n",
    "        # find indices for reviews per business\n",
    "        rg_idx = reviews_good.index.values\n",
    "        rb_idx = reviews_bad.index.values\n",
    "\n",
    "        # randomly select from each side\n",
    "        rg_idx_sel = np.random.choice(rg_idx, num_pairs_negative, replace=repeatable_on_side)\n",
    "        rb_idx_sel = np.random.choice(rb_idx, num_pairs_negative, replace=repeatable_on_side)\n",
    "\n",
    "        # pair them together -- good-bad pairs\n",
    "        for idg, idb in zip(rg_idx_sel[::2], rb_idx_sel[::2]):\n",
    "            rg, rb = df.loc[idg], df.loc[idb]\n",
    "            pair = {\n",
    "                \"argument1\": rg[\"text\"], \"argument2\": rb[\"text\"],\n",
    "                \"argument1_id\": f\"\"\"{rg[\"id\"]}|{rg[\"rid\"]}\"\"\", \"argument2_id\": f\"\"\"{rb[\"id\"]}|{rb[\"rid\"]}\"\"\",\n",
    "                \"is_same_side\": False, \"is_good_side\": None,\n",
    "                \"topic\": inv_bid_cats.get(rg[\"id\"], None)\n",
    "            }\n",
    "            # print(pair)\n",
    "            pairs_not_ss.append(pair)\n",
    "\n",
    "        # bad-good pairs\n",
    "        for idb, idg in zip(rb_idx_sel[1::2], rg_idx_sel[1::2]):\n",
    "            rb, rg = df.loc[idb], df.loc[idg]\n",
    "            pair = {\n",
    "                \"argument1\": rb[\"text\"], \"argument2\": rg[\"text\"],\n",
    "                \"argument1_id\": f\"\"\"{rb[\"id\"]}|{rb[\"rid\"]}\"\"\", \"argument2_id\": f\"\"\"{rg[\"id\"]}|{rg[\"rid\"]}\"\"\",\n",
    "                \"is_same_side\": False, \"is_good_side\": None,\n",
    "                \"topic\": inv_bid_cats.get(rb[\"id\"], None)\n",
    "            }\n",
    "            # print(pair)\n",
    "            pairs_not_ss.append(pair)\n",
    "            \n",
    "    return pairs_not_ss"
   ]
  },
  {
   "cell_type": "markdown",
   "metadata": {},
   "source": [
    "##### dataframe for training etc."
   ]
  },
  {
   "cell_type": "code",
   "execution_count": 25,
   "metadata": {
    "ExecuteTime": {
     "end_time": "2020-05-25T09:53:30.441277Z",
     "start_time": "2020-05-25T09:53:30.428763Z"
    },
    "code_folding": [
     0
    ],
    "jupyter": {
     "source_hidden": true
    }
   },
   "outputs": [],
   "source": [
    "def make_or_load_pairs(df, fn_yelp_df, num_pairs_per_class=2):\n",
    "    if fn_yelp_df is not None:\n",
    "        if os.path.exists(fn_yelp_df):\n",
    "            with open(fn_yelp_df, \"rb\") as fp:\n",
    "                all_df = pickle.load(fp)\n",
    "            return all_df\n",
    "    \n",
    "    pairs_good, pairs_bad = make_pairs_good_bad(df, num_pairs_per_class=num_pairs_per_class)\n",
    "    print(\"#ss (pos)\", len(pairs_good))\n",
    "    print(\"#ss (neg)\", len(pairs_bad))\n",
    "    \n",
    "    num_pairs_negative = 2 * num_pairs_per_class\n",
    "    pairs_not_ss = make_pairs_negative(df, num_pairs_negative, repeatable_on_side=False)\n",
    "    print(\"#nss\", len(pairs_not_ss))\n",
    "    \n",
    "    pairs_all = pairs_good + pairs_bad + pairs_not_ss\n",
    "    print(\"#~ss\", len(pairs_all))\n",
    "    \n",
    "    np.random.shuffle(pairs_all)\n",
    "    df_traindev = pd.DataFrame.from_dict(pairs_all)\n",
    "    \n",
    "    if fn_yelp_df is not None:\n",
    "        with open(fn_yelp_df, \"wb\") as fp:\n",
    "            pickle.dump(df_traindev, fp, protocol=pickle.HIGHEST_PROTOCOL)\n",
    "        \n",
    "    return df_traindev"
   ]
  },
  {
   "cell_type": "markdown",
   "metadata": {},
   "source": [
    "---"
   ]
  },
  {
   "cell_type": "markdown",
   "metadata": {},
   "source": [
    "---"
   ]
  },
  {
   "cell_type": "markdown",
   "metadata": {},
   "source": [
    "---"
   ]
  },
  {
   "cell_type": "markdown",
   "metadata": {},
   "source": [
    "## Load reviews and topics and category tree"
   ]
  },
  {
   "cell_type": "markdown",
   "metadata": {},
   "source": [
    "#### Load reviews\n",
    "\n",
    "- review (with business reference)"
   ]
  },
  {
   "cell_type": "code",
   "execution_count": 26,
   "metadata": {
    "ExecuteTime": {
     "end_time": "2020-05-25T09:54:28.073054Z",
     "start_time": "2020-05-25T09:53:34.206922Z"
    }
   },
   "outputs": [
    {
     "name": "stderr",
     "output_type": "stream",
     "text": [
      "6685900it [00:40, 163259.53it/s]\n"
     ]
    }
   ],
   "source": [
    "fn_yelp_reviews = data_yelp_path / \"review.json\"\n",
    "df = load_reviews(fn_yelp_reviews)"
   ]
  },
  {
   "cell_type": "code",
   "execution_count": 28,
   "metadata": {},
   "outputs": [],
   "source": [
    "#businesses = get_businesses_in_category_branch(inv_cat_bids, \"Mass Media\", map_categories, map_cat_name2id)\n",
    "#filter_by_businesses(df, businesses).rid.count()"
   ]
  },
  {
   "cell_type": "markdown",
   "metadata": {},
   "source": [
    "#### Load categories for businesses\n",
    "\n",
    "- business (id) with list of topics/categories\n",
    "- lookups (business -> categories, category -> businesses)\n",
    "- list of combinations (with amount)"
   ]
  },
  {
   "cell_type": "code",
   "execution_count": 29,
   "metadata": {
    "ExecuteTime": {
     "end_time": "2020-05-25T09:54:30.875744Z",
     "start_time": "2020-05-25T09:54:28.103817Z"
    }
   },
   "outputs": [
    {
     "name": "stderr",
     "output_type": "stream",
     "text": [
      "192609it [00:01, 103904.10it/s]\n",
      "100%|██████████| 192127/192127 [00:00<00:00, 1275479.54it/s]\n",
      "100%|██████████| 192127/192127 [00:00<00:00, 476339.10it/s]\n"
     ]
    }
   ],
   "source": [
    "fn_yelp_topics = data_yelp_path / \"business.json\"\n",
    "bids_not_cats = set()\n",
    "inv_bid_cats = load_topics(fn_yelp_topics, bids_not_cats=bids_not_cats)\n",
    "\n",
    "inv_cat_bids = make_map_cats(inv_bid_cats)\n",
    "\n",
    "inv_cat_combis = make_cat_combis(inv_bid_cats)"
   ]
  },
  {
   "cell_type": "markdown",
   "metadata": {},
   "source": [
    "#### Load category tree\n",
    "\n",
    "- hierarchy of categories"
   ]
  },
  {
   "cell_type": "code",
   "execution_count": 30,
   "metadata": {
    "ExecuteTime": {
     "end_time": "2020-05-25T09:54:32.035522Z",
     "start_time": "2020-05-25T09:54:32.004962Z"
    }
   },
   "outputs": [],
   "source": [
    "fn_yelp_catgory_tree = data_yelp_path / \"all_category_list.json\"\n",
    "map_categories, map_cat_name2id, lst_root_categories = load_category_tree(fn_yelp_catgory_tree)"
   ]
  },
  {
   "cell_type": "markdown",
   "metadata": {},
   "source": [
    "#### Pre-Cache all root category businesses (reviews)"
   ]
  },
  {
   "cell_type": "code",
   "execution_count": 31,
   "metadata": {
    "ExecuteTime": {
     "end_time": "2020-05-25T09:54:33.171937Z",
     "start_time": "2020-05-25T09:54:33.169140Z"
    }
   },
   "outputs": [],
   "source": [
    "cache_root_category_businesses_df(df, inv_cat_bids, map_categories, map_cat_name2id)"
   ]
  },
  {
   "cell_type": "markdown",
   "metadata": {},
   "source": [
    "---"
   ]
  },
  {
   "cell_type": "code",
   "execution_count": 35,
   "metadata": {},
   "outputs": [
    {
     "name": "stdout",
     "output_type": "stream",
     "text": [
      "Number of businesses total: 192127\n",
      "Number of reviews total: 6685900\n"
     ]
    }
   ],
   "source": [
    "# number of businesses\n",
    "print(f\"Number of businesses total: {len(inv_bid_cats.keys())}\")\n",
    "# number of reviews (total)\n",
    "print(f\"Number of reviews total: {df.rid.count()}\")"
   ]
  },
  {
   "cell_type": "code",
   "execution_count": 36,
   "metadata": {},
   "outputs": [
    {
     "name": "stderr",
     "output_type": "stream",
     "text": [
      "100%|██████████| 5756784/5756784 [1:47:18<00:00, 894.18it/s]   \n",
      "100%|██████████| 5756784/5756784 [1:00:34<00:00, 1583.89it/s]\n"
     ]
    },
    {
     "name": "stdout",
     "output_type": "stream",
     "text": [
      "all*: 128.92530881825687\n"
     ]
    }
   ],
   "source": [
    "# Number of words:\n",
    "tok = Tokenizer()\n",
    "\n",
    "def tokenize_text(row):\n",
    "    row[\"text_tok\"] = [str(tok) for tok in tok.tokenize(row[\"text\"])]\n",
    "    return row\n",
    "\n",
    "def count_words(row):\n",
    "    row[\"num_words\"] = len(row[\"text_tok\"])\n",
    "    return row\n",
    "\n",
    "df = filter_min_review_freq(df, min_ratings=5)\n",
    "df = df.progress_apply(tokenize_text, axis=1)\n",
    "df = df.progress_apply(count_words, axis=1)\n",
    "print(f\"\"\"all*: {df[\"num_words\"].mean()}\"\"\")"
   ]
  },
  {
   "cell_type": "code",
   "execution_count": null,
   "metadata": {},
   "outputs": [],
   "source": [
    "df[\"num_words\"].describe()"
   ]
  },
  {
   "cell_type": "markdown",
   "metadata": {},
   "source": [
    "```python\n",
    "count    5.756784e+06\n",
    "mean     1.289253e+02\n",
    "std      1.218024e+02\n",
    "min      1.000000e+00\n",
    "25%      5.000000e+01\n",
    "50%      9.100000e+01\n",
    "75%      1.640000e+02\n",
    "max      1.870000e+03\n",
    "Name: num_words, dtype: float64\n",
    "```"
   ]
  },
  {
   "cell_type": "code",
   "execution_count": 43,
   "metadata": {},
   "outputs": [],
   "source": [
    "fn_df_words = data_yelp_path / \"df_reviews_words.p\"\n",
    "\n",
    "with open(fn_df_words, \"wb\") as fp:\n",
    "    pickle.dump(df, fp, protocol=pickle.HIGHEST_PROTOCOL)"
   ]
  },
  {
   "cell_type": "markdown",
   "metadata": {},
   "source": [
    "---"
   ]
  },
  {
   "cell_type": "markdown",
   "metadata": {},
   "source": [
    "### Filter business without any overlap"
   ]
  },
  {
   "cell_type": "code",
   "execution_count": 37,
   "metadata": {},
   "outputs": [],
   "source": [
    "# build lookup of category -> business_ids\n",
    "lookup_rootcat_bid = dict()\n",
    "\n",
    "# --> print_category_tree_with_num_businesses_root(map_categories, inv_cat_bids, map_cat_name2id)\n",
    "root_categories = get_root_category_items(map_categories)\n",
    "\n",
    "for item in sorted(root_categories, key=lambda x: x[\"title\"]):\n",
    "    businesses = get_businesses_in_category_branch(inv_cat_bids, item[\"title\"], map_categories, map_cat_name2id)\n",
    "    businesses = set(businesses)\n",
    "    lookup_rootcat_bid[(item[\"title\"], item[\"alias\"])] = businesses"
   ]
  },
  {
   "cell_type": "code",
   "execution_count": 38,
   "metadata": {},
   "outputs": [],
   "source": [
    "# remove duplicates / overlapping businesses\n",
    "lookup_rootcat_bid_no_overlap = dict()\n",
    "\n",
    "for (title, alias), businesses in lookup_rootcat_bid.items():\n",
    "    # collect business ids from other categories\n",
    "    businesses_other = set()\n",
    "    for (title2, alias2), businesses2 in lookup_rootcat_bid.items():\n",
    "        if alias2 == alias:\n",
    "            continue\n",
    "        businesses_other |= businesses2\n",
    "\n",
    "    # remove other businesses\n",
    "    businesses_no_overlap = businesses - businesses_other\n",
    "\n",
    "    lookup_rootcat_bid_no_overlap[(title, alias)] = businesses_no_overlap"
   ]
  },
  {
   "cell_type": "code",
   "execution_count": 46,
   "metadata": {
    "collapsed": true,
    "jupyter": {
     "outputs_hidden": true
    }
   },
   "outputs": [
    {
     "name": "stdout",
     "output_type": "stream",
     "text": [
      "category | businesses | businesses_no_overlap_to_any_other\n",
      "Active Life[active] | 9521  4533\n",
      "Arts & Entertainment[arts] | 6304  1225\n",
      "Automotive[auto] | 13203  9755\n",
      "Beauty & Spas[beautysvc] | 19370  12931\n",
      "Bicycles[bicycles] | 9  0\n",
      "Education[education] | 3314  831\n",
      "Event Planning & Services[eventservices] | 10371  1456\n",
      "Financial Services[financialservices] | 3082  1749\n",
      "Food[food] | 29989  10418\n",
      "Health & Medical[health] | 17171  10767\n",
      "Home Services[homeservices] | 19744  11131\n",
      "Hotels & Travel[hotelstravel] | 6033  1725\n",
      "Local Flavor[localflavor] | 1444  120\n",
      "Local Services[localservices] | 13932  4244\n",
      "Mass Media[massmedia] | 319  142\n",
      "Nightlife[nightlife] | 13095  2342\n",
      "Pets[pets] | 4111  3470\n",
      "Professional Services[professional] | 6276  1514\n",
      "Public Services & Government[publicservicesgovt] | 1343  628\n",
      "Religious Organizations[religiousorgs] | 547  386\n",
      "Restaurants[restaurants] | 59371  35639\n",
      "Shopping[shopping] | 31878  14871\n"
     ]
    }
   ],
   "source": [
    "print(\"category | businesses | businesses_no_overlap_to_any_other\")\n",
    "for ((title, alias), businesses), business_no_overlap in zip(lookup_rootcat_bid.items(), lookup_rootcat_bid_no_overlap.values()):\n",
    "    print(f\"{title}[{alias}] | {len(businesses)}  {len(business_no_overlap)}\")"
   ]
  },
  {
   "cell_type": "code",
   "execution_count": 48,
   "metadata": {},
   "outputs": [
    {
     "name": "stdout",
     "output_type": "stream",
     "text": [
      "Number businesses all (overlapping): 270427\n",
      "Number businesses all (no overlap): 129877\n"
     ]
    }
   ],
   "source": [
    "print(f\"Number businesses all (overlapping): {sum(len(bs) for bs in lookup_rootcat_bid.values())}\")\n",
    "print(f\"Number businesses all (no overlap): {sum(len(bs) for bs in lookup_rootcat_bid_no_overlap.values())}\")"
   ]
  },
  {
   "cell_type": "markdown",
   "metadata": {},
   "source": [
    "### Filter from pair df"
   ]
  },
  {
   "cell_type": "code",
   "execution_count": null,
   "metadata": {},
   "outputs": [],
   "source": [
    "# load data with more pairs\n",
    "fn_yelp_df = data_yelp_path / \"df_traindev4_typed.p\"\n",
    "\n",
    "with open(fn_yelp_df, \"rb\") as fp:\n",
    "    traindev_df = pickle.load(fp)"
   ]
  },
  {
   "cell_type": "code",
   "execution_count": null,
   "metadata": {},
   "outputs": [],
   "source": [
    "def add_business_id(row):\n",
    "    bid = row[\"argument1_id\"].split(\"|\")[0]\n",
    "    row[\"business_id\"] = bid\n",
    "    return row\n",
    "\n",
    "traindev_df = traindev_df.progress_apply(add_business_id, axis=1)"
   ]
  },
  {
   "cell_type": "code",
   "execution_count": null,
   "metadata": {},
   "outputs": [],
   "source": [
    "# filter no overlapping business\n",
    "all_business_ids_no_overlap = set()\n",
    "for businesses in lookup_rootcat_bid_no_overlap.values():\n",
    "    all_business_ids_no_overlap |= businesses\n",
    "\n",
    "traindev_df = traindev_df[traindev_df.business_id.isin(all_business_ids_no_overlap)]"
   ]
  },
  {
   "cell_type": "code",
   "execution_count": null,
   "metadata": {},
   "outputs": [],
   "source": []
  },
  {
   "cell_type": "code",
   "execution_count": null,
   "metadata": {},
   "outputs": [],
   "source": [
    "# manual root category group splitting\n",
    "cats = list(lookup_rootcat_bid_no_overlap.keys())\n",
    "\n",
    "# make it repeatable\n",
    "from utils_data import init_random\n",
    "init_random()\n",
    "\n",
    "cats = np.random.shuffle(cats)\n",
    "groups = cats[0:6], cats[6:12], cats[12:17], cats[17:23]\n",
    "groups = [tuple(g) for g in groups]\n",
    "\n",
    "# filter business ids of group\n",
    "map_cg_bids = dict()\n",
    "for cg_ids in groups:\n",
    "    cg_businesses = set()\n",
    "    for ta_id, businesses in lookup_rootcat_bid_no_overlap.items():\n",
    "        if ta_id in cg_ids:\n",
    "            cg_businesses |= businesses\n",
    "    \n",
    "    map_cg_bids[cg_ids] = cg_businesses"
   ]
  },
  {
   "cell_type": "code",
   "execution_count": null,
   "metadata": {},
   "outputs": [],
   "source": [
    "# build dataframes for each group\n",
    "map_cg_traindev_df = dict()\n",
    "\n",
    "for cg_ids in groups:\n",
    "    businesses = map_cg_bids[cg_ids]\n",
    "    cg_df = traindev_df[traindev_df.business_id.isin(businesses)]\n",
    "    map_cg_traindev_df[cg_ids] = cg_df"
   ]
  },
  {
   "cell_type": "code",
   "execution_count": null,
   "metadata": {},
   "outputs": [],
   "source": [
    "# make cross eval split traindev dfs\n",
    "map_cg_train_dev_groups = dict()\n",
    "\n",
    "for cg_ids, cg_df in map_cg_traindev_df.items():\n",
    "    train_df = cg_df\n",
    "    dev_dfs = [\n",
    "        cg_df_o\n",
    "        for cg_ids_o, cg_df_o in map_cg_traindev_df.items()\n",
    "        if cg_ids_o != cg_ids\n",
    "    ]\n",
    "    dev_df = pd.concat(dev_dfs)\n",
    "    map_cg_train_dev_groups[cg_ids] = (train_df, dev_df, dev_dfs)"
   ]
  },
  {
   "cell_type": "code",
   "execution_count": null,
   "metadata": {},
   "outputs": [],
   "source": []
  },
  {
   "cell_type": "markdown",
   "metadata": {},
   "source": [
    "## Train groups  --  Default S3C training\n",
    "\n",
    "https://gluon-nlp.mxnet.io/install.html\n",
    "\n",
    "```bash\n",
    "pip install --upgrade 'mxnet>=1.3.0'  \n",
    "pip install gluonnlp  \n",
    "wget https://gluon-nlp.mxnet.io/_downloads/sentence_embedding.zip  \n",
    "unzip sentence_embedding.zip  \n",
    "ln -s sentence_embedding/bert bert  \n",
    "```"
   ]
  },
  {
   "cell_type": "code",
   "execution_count": null,
   "metadata": {},
   "outputs": [],
   "source": [
    "# ! pip install --upgrade 'mxnet>=1.3.0'\n",
    "# NOTE: do not install cpu + gpu version both, only one!\n",
    "#! pip install --upgrade mxnet-cu102\n",
    "#! pip install --upgrade gluonnlp "
   ]
  },
  {
   "cell_type": "code",
   "execution_count": null,
   "metadata": {},
   "outputs": [],
   "source": [
    "#! wget https://gluon-nlp.mxnet.io/_downloads/sentence_embedding.zip\n",
    "# ! unzip sentence_embedding.zip\n",
    "# ! ln -s sentence_embedding/bert bert"
   ]
  },
  {
   "cell_type": "code",
   "execution_count": 29,
   "metadata": {
    "ExecuteTime": {
     "end_time": "2020-05-25T09:54:41.165579Z",
     "start_time": "2020-05-25T09:54:40.872743Z"
    }
   },
   "outputs": [],
   "source": [
    "from mxboard import SummaryWriter\n",
    "\n",
    "from utils_data import get_train_test_sets\n",
    "\n",
    "from utils_gluon import setup_bert_epi128bce, setup_bert_epi512bce\n",
    "from utils_gluon import setup_bert_pro128bce, setup_bert_pro512bce\n",
    "\n",
    "from utils_gluon import transform_dataset\n",
    "from utils_gluon import predict_out_to_ys\n",
    "\n",
    "from utils_gluon import predict\n",
    "from utils_gluon import train\n",
    "\n",
    "# from utils_gluon import print_infos\n",
    "from utils_gluon import plot_train_stats\n",
    "\n",
    "from utils_gluon import report_training_results\n",
    "from utils_gluon import plot_confusion_matrix\n",
    "from utils_gluon import compute_metrics\n",
    "\n",
    "from utils_data import names_columns_X_arteval, names_columns_y"
   ]
  },
  {
   "cell_type": "code",
   "execution_count": 30,
   "metadata": {
    "ExecuteTime": {
     "end_time": "2020-05-25T09:54:43.151309Z",
     "start_time": "2020-05-25T09:54:43.145966Z"
    }
   },
   "outputs": [],
   "source": [
    "from utils_data import Timer\n",
    "\n",
    "from utils_data import configure_logging\n",
    "configure_logging()\n",
    "\n",
    "from utils_data import init_random\n",
    "init_random()"
   ]
  },
  {
   "cell_type": "code",
   "execution_count": null,
   "metadata": {},
   "outputs": [],
   "source": [
    "run_name = \"yelp_9_pro128BCE\"\n",
    "fn_run_path = Path(f\"data/{run_name}\")\n",
    "fn_run_path.mkdir()"
   ]
  },
  {
   "cell_type": "code",
   "execution_count": 33,
   "metadata": {
    "ExecuteTime": {
     "end_time": "2020-05-25T09:57:10.724496Z",
     "start_time": "2020-05-25T09:57:10.720382Z"
    }
   },
   "outputs": [],
   "source": [
    "num_epochs = 3\n",
    "batch_size = 32"
   ]
  },
  {
   "cell_type": "code",
   "execution_count": null,
   "metadata": {},
   "outputs": [],
   "source": [
    "with Timer(\"setup BERT model\"):\n",
    "    model, vocabulary, ctx, tokenizer, transform, loss_function, metric, all_labels = setup_bert_pro128bce(gpu=1)"
   ]
  },
  {
   "cell_type": "code",
   "execution_count": null,
   "metadata": {},
   "outputs": [],
   "source": [
    "for i, (cg_ids, (train_df, dev_df, dev_dfs)) in enumerate(map_cg_train_dev_groups.items()):\n",
    "    print(f\"Train model on group fold {cg_ids} #{len(train_df)}...\")\n",
    "    \n",
    "    with Timer(\"prepare training / validation data\"):\n",
    "        X_train, y_train = train_df[names_columns_X_arteval], train_df[names_columns_y]\n",
    "        X_dev, y_dev = dev_df[names_columns_X_arteval], dev_df[names_columns_y]\n",
    "\n",
    "        _, data_train = transform_dataset(X_train, y_train, transform)\n",
    "        _, data_dev = transform_dataset(X_dev, y_dev, transform)\n",
    "\n",
    "    run_name = f\"yelp_9_pro128BCE_g{i}\"\n",
    "    fn_run_path = Path(f\"data/{run_name}\")\n",
    "    fn_run_path.mkdir()\n",
    "\n",
    "    fn_group = fn_run_path / \"group_data.p\"\n",
    "    with open(fn_group, \"wb\") as fp:\n",
    "        pickle.dump(cg_ids, fp, protocol=pickle.HIGHEST_PROTOCOL)\n",
    "        pickle.dump(train_df, fp, protocol=pickle.HIGHEST_PROTOCOL)\n",
    "        pickle.dump(dev_df, fp, protocol=pickle.HIGHEST_PROTOCOL)\n",
    "        pickle.dump(dev_dfs, fp, protocol=pickle.HIGHEST_PROTOCOL)\n",
    "        pickle.dump(groups, fp, protocol=pickle.HIGHEST_PROTOCOL)\n",
    "        \n",
    "    with Timer(f\"train model - {num_epochs}\"), SummaryWriter(logdir=str(fn_run_path), flush_secs=600) as sw:\n",
    "        stats = train(model, data_train, ctx, metric, loss_function, batch_size=batch_size, lr=5e-6, num_epochs=num_epochs, sw=sw, checkpoint_dir=str(fn_run_path))\n",
    "        plot_train_stats(stats)\n",
    "        \n",
    "    with Timer(f\"evaluate model - {num_epochs}\"), SummaryWriter(logdir=str(fn_run_path), flush_secs=600) as sw:\n",
    "        all_predictions, cum_loss = predict(model, data_dev, ctx, metric, loss_function, batch_size=batch_size, sw=sw)\n",
    "        print(f\"Accuracy in epoch {epoch_id}:\", metric.get()[1])\n",
    "\n",
    "        y_true, y_pred = predict_out_to_ys(all_predictions, all_labels)\n",
    "        with open(fn_run_path / f\"{run_name}_g{i}_preds.p\", \"wb\") as fp:\n",
    "            pickle.dump(y_true, fp, protocol=pickle.HIGHEST_PROTOCOL)\n",
    "            pickle.dump(y_pred, fp, protocol=pickle.HIGHEST_PROTOCOL)\n",
    "        report_training_results(y_true, y_pred, name=f\"BERTClassifier - {run_name} - {pairtype}\", heatmap=False)\n",
    "        plot_confusion_matrix(y_true, y_pred, labels=[0, 1], title=f\"Yelp {run_name} Epoch {epoch_id} on pairtype {pairtype}\", values_format=\"d\", cmap=\"Blues\", include_colorbar=False)\n",
    "        plt.show()"
   ]
  },
  {
   "cell_type": "code",
   "execution_count": null,
   "metadata": {},
   "outputs": [],
   "source": []
  },
  {
   "cell_type": "code",
   "execution_count": null,
   "metadata": {},
   "outputs": [],
   "source": []
  },
  {
   "cell_type": "code",
   "execution_count": null,
   "metadata": {},
   "outputs": [],
   "source": []
  },
  {
   "cell_type": "code",
   "execution_count": null,
   "metadata": {},
   "outputs": [],
   "source": []
  },
  {
   "cell_type": "code",
   "execution_count": null,
   "metadata": {},
   "outputs": [],
   "source": []
  },
  {
   "cell_type": "markdown",
   "metadata": {},
   "source": [
    "---"
   ]
  },
  {
   "cell_type": "markdown",
   "metadata": {},
   "source": [
    "---\n",
    "---\n",
    "---"
   ]
  },
  {
   "cell_type": "markdown",
   "metadata": {},
   "source": [
    "---"
   ]
  },
  {
   "cell_type": "code",
   "execution_count": 36,
   "metadata": {
    "ExecuteTime": {
     "end_time": "2020-05-25T09:58:31.831838Z",
     "start_time": "2020-05-25T09:58:31.361186Z"
    }
   },
   "outputs": [
    {
     "name": "stdout",
     "output_type": "stream",
     "text": [
      "mkdir: cannot create directory ‘data/yelp_1_pro128BCE’: File exists\n"
     ]
    }
   ],
   "source": [
    "run_name = \"yelp_1_pro128BCE\"\n",
    "fn_run_path = Path(f\"data/{run_name}\")\n",
    "fn_traindev_df = fn_run_path / \"traindev.p\"\n",
    "\n",
    "category_name = \"*\"  # just a dummy ...\n",
    "\n",
    "! mkdir data/yelp_1_pro128BCE"
   ]
  },
  {
   "cell_type": "code",
   "execution_count": null,
   "metadata": {},
   "outputs": [],
   "source": [
    "run_name = \"yelp_3_arts_pro128BCE\"\n",
    "fn_run_path = Path(f\"data/{run_name}\")\n",
    "fn_traindev_df = fn_run_path / \"traindev.p\"\n",
    "\n",
    "category_name = \"Arts & Entertainment\"\n",
    "\n",
    "! mkdir data/yelp_3_arts_pro128BCE"
   ]
  },
  {
   "cell_type": "markdown",
   "metadata": {},
   "source": [
    "---"
   ]
  },
  {
   "cell_type": "markdown",
   "metadata": {},
   "source": [
    "##### Training with TRAIN set"
   ]
  },
  {
   "cell_type": "code",
   "execution_count": null,
   "metadata": {},
   "outputs": [],
   "source": [
    "for epoch_id in range(num_epochs):\n",
    "    with Timer(f\"train model - {epoch_id}\"), SummaryWriter(logdir=str(fn_run_path), flush_secs=600) as sw:\n",
    "        stats = train(model, data_train, ctx, metric, loss_function, batch_size=batch_size, lr=5e-6, num_epochs=epoch_id + 1, sw=sw, checkpoint_dir=str(fn_run_path))\n",
    "        plot_train_stats(stats)\n",
    "\n",
    "    with Timer(f\"evaluate - {epoch_id}\"), SummaryWriter(logdir=str(fn_run_path), flush_secs=600) as sw:\n",
    "        all_predictions, cum_loss = predict(model, data_dev, ctx, metric, loss_function, batch_size=batch_size, sw=sw)\n",
    "        print(f\"Accuracy in epoch {epoch_id}:\", metric.get()[1])\n",
    "\n",
    "        y_true, y_pred = predict_out_to_ys(all_predictions, all_labels)\n",
    "        report_training_results(y_true, y_pred, name=f\"BERTClassifier - {run_name}\", heatmap=False)\n",
    "\n",
    "    model.save_parameters(str(fn_run_path / \"bert.model.params\"))"
   ]
  },
  {
   "cell_type": "code",
   "execution_count": null,
   "metadata": {},
   "outputs": [],
   "source": [
    "plot_train_stats(stats)"
   ]
  },
  {
   "cell_type": "markdown",
   "metadata": {},
   "source": [
    "##### Results with validation set (DEV set)"
   ]
  },
  {
   "cell_type": "code",
   "execution_count": null,
   "metadata": {
    "scrolled": true
   },
   "outputs": [],
   "source": [
    "all_predictions, cum_loss = predict(model, data_dev, ctx, metric, loss_function, batch_size=batch_size)\n",
    "y_true, y_pred = predict_out_to_ys(all_predictions, all_labels)\n",
    "with open(fn_run_path / \"eval_untrained.p\", \"wb\") as fp:\n",
    "    pickle.dump(y_true, fp, protocol=pickle.HIGHEST_PROTOCOL)\n",
    "    pickle.dump(y_pred, fp, protocol=pickle.HIGHEST_PROTOCOL)\n",
    "report_training_results(y_true, y_pred, name=f\"BERTClassifier - {run_name}\", heatmap=False)\n",
    "plot_confusion_matrix(y_true, y_pred, labels=[0, 1], title=f\"{run_name} Untrained\", values_format=\"d\", cmap=\"Blues\", include_colorbar=False)\n",
    "plt.show()"
   ]
  },
  {
   "cell_type": "code",
   "execution_count": null,
   "metadata": {},
   "outputs": [],
   "source": [
    "print(\"Evaluate trained model for each epoch ...\")\n",
    "for epoch_id in range(num_epochs):\n",
    "    fn_model_state = fn_run_path / f\"bert.model.checkpoint{epoch_id}.params\"\n",
    "    print(f\"Load {fn_model_state} ...\")\n",
    "    model.load_parameters(str(fn_model_state), ctx=ctx)\n",
    "    all_predictions, cum_loss = predict(model, data_dev, ctx, metric, loss_function, batch_size=batch_size)\n",
    "    y_true, y_pred = predict_out_to_ys(all_predictions, all_labels)\n",
    "    with open(fn_run_path / f\"eval_epoch{epoch_id}.p\", \"wb\") as fp:\n",
    "        pickle.dump(y_true, fp, protocol=pickle.HIGHEST_PROTOCOL)\n",
    "        pickle.dump(y_pred, fp, protocol=pickle.HIGHEST_PROTOCOL)\n",
    "    report_training_results(y_true, y_pred, name=f\"BERTClassifier - {run_name}\", heatmap=False)\n",
    "    plot_confusion_matrix(y_true, y_pred, labels=[0, 1], title=f\"Yelp 3 Epoch {epoch_id}\", values_format=\"d\", cmap=\"Blues\", include_colorbar=False)\n",
    "    plt.show()"
   ]
  },
  {
   "cell_type": "markdown",
   "metadata": {},
   "source": [
    "### Load other categories and evaluate"
   ]
  },
  {
   "cell_type": "code",
   "execution_count": 34,
   "metadata": {
    "ExecuteTime": {
     "end_time": "2020-05-25T09:57:30.731979Z",
     "start_time": "2020-05-25T09:57:28.225820Z"
    }
   },
   "outputs": [
    {
     "name": "stdout",
     "output_type": "stream",
     "text": [
      "Load data/yelp_1_pro128BCE/bert.model.checkpoint2.params ...\n"
     ]
    }
   ],
   "source": [
    "fn_model_state = fn_run_path / f\"bert.model.checkpoint{num_epochs - 1}.params\"\n",
    "print(f\"Load {fn_model_state} ...\")\n",
    "model.load_parameters(str(fn_model_state), ctx=ctx)"
   ]
  },
  {
   "cell_type": "code",
   "execution_count": 35,
   "metadata": {
    "ExecuteTime": {
     "end_time": "2020-05-25T09:57:50.978664Z",
     "start_time": "2020-05-25T09:57:50.972183Z"
    }
   },
   "outputs": [],
   "source": [
    "# lst_root_categories\n",
    "root_categories = get_root_category_items(map_categories)\n",
    "root_categories = sorted(root_categories, key=lambda x: x[\"title\"])\n",
    "root_category_labels = [x[\"title\"] for x in root_categories]"
   ]
  },
  {
   "cell_type": "code",
   "execution_count": null,
   "metadata": {},
   "outputs": [],
   "source": [
    "results_cross_no_overlap = dict()\n",
    "\n",
    "for root_category_label in root_category_labels:\n",
    "    if root_category_label == category_name:\n",
    "        continue\n",
    "\n",
    "    print(f\"Work on {root_category_label} ...\")\n",
    "    # without overlap\n",
    "    df_other = filter_root_category_businesses_not_other(root_category_label, category_name, inv_cat_bids, map_categories, map_cat_name2id)\n",
    "    \n",
    "    df_other = filter_min_review_freq(df_other, min_ratings=5)\n",
    "    df_other = filter_both_good_bad(df_other)\n",
    "    df_other = make_or_load_pairs(df_other, None, num_pairs_per_class=2)\n",
    "    print(\"review pairs:\", len(df_other))\n",
    "    \n",
    "    df_other[\"tag\"] = \"NA\"\n",
    "    \n",
    "    X_dev, y_dev = df_other[names_columns_X_arteval], df_other[names_columns_y]\n",
    "    data_dev_raw, data_dev = transform_dataset(X_dev, y_dev, transform)\n",
    "    \n",
    "    all_predictions, cum_loss = predict(model, data_dev, ctx, metric, loss_function, batch_size=batch_size)\n",
    "    y_true, y_pred = predict_out_to_ys(all_predictions, all_labels)\n",
    "    report_training_results(y_true, y_pred, name=f\"BERTClassifier - {run_name} - {category_name}-->{root_category_label}\", heatmap=False)\n",
    "    plot_confusion_matrix(y_true, y_pred, labels=[0, 1], title=f\"{run_name} - {category_name}-->{root_category_label}\", values_format=\"d\", cmap=\"Blues\", include_colorbar=False)\n",
    "    plt.show()\n",
    "    \n",
    "    res_one = (len(df_other), len(df_other))\n",
    "    res_one += compute_metrics(y_true, y_pred, precision=8, averaging=\"macro\", dump=False)\n",
    "    results_cross_no_overlap[root_category_label] = res_one"
   ]
  },
  {
   "cell_type": "code",
   "execution_count": 37,
   "metadata": {
    "ExecuteTime": {
     "end_time": "2020-05-25T11:45:38.739766Z",
     "start_time": "2020-05-25T09:59:53.432635Z"
    }
   },
   "outputs": [
    {
     "name": "stdout",
     "output_type": "stream",
     "text": [
      "Work on Active Life ...\n"
     ]
    },
    {
     "name": "stderr",
     "output_type": "stream",
     "text": [
      "100%|██████████| 2039/2039 [00:04<00:00, 509.49it/s]\n",
      "  2%|▏         | 36/2039 [00:00<00:05, 357.95it/s]"
     ]
    },
    {
     "name": "stdout",
     "output_type": "stream",
     "text": [
      "#ss (pos) 4078\n",
      "#ss (neg) 4078\n"
     ]
    },
    {
     "name": "stderr",
     "output_type": "stream",
     "text": [
      "100%|██████████| 2039/2039 [00:03<00:00, 533.42it/s]\n"
     ]
    },
    {
     "name": "stdout",
     "output_type": "stream",
     "text": [
      "#nss 8156\n",
      "#~ss 16312\n",
      "review pairs: 16312\n"
     ]
    },
    {
     "name": "stderr",
     "output_type": "stream",
     "text": [
      "  0%|          | 0/510 [00:00<?, ?it/s]"
     ]
    },
    {
     "name": "stdout",
     "output_type": "stream",
     "text": [
      "Start on [prediction] ...\n"
     ]
    },
    {
     "name": "stderr",
     "output_type": "stream",
     "text": [
      "100%|██████████| 510/510 [02:16<00:00,  4.21it/s]\n"
     ]
    },
    {
     "name": "stdout",
     "output_type": "stream",
     "text": [
      "Time for [prediction]: 0:02:16.491062\n",
      "Confusion Matrix:\n",
      "[[6564 1592]\n",
      " [1635 6521]]\n",
      "\n",
      "CM: [6564 1592 1635 6521] \n",
      "[tn, fp, fn, tp]\n",
      "  accuracy: 0.802\n",
      " precision: 0.802\n",
      "    recall: 0.802\n",
      "  f1-score: 0.802\n",
      "\n",
      "Accuracy:  0.802 \n",
      "\n",
      "Report for [BERTClassifier - yelp_1_pro128BCE - *-->Active Life]:\n",
      "              precision    recall  f1-score   support\n",
      "\n",
      "           0       0.80      0.80      0.80      8156\n",
      "           1       0.80      0.80      0.80      8156\n",
      "\n",
      "    accuracy                           0.80     16312\n",
      "   macro avg       0.80      0.80      0.80     16312\n",
      "weighted avg       0.80      0.80      0.80     16312\n",
      "\n"
     ]
    },
    {
     "data": {
      "image/png": "[encoded data removed]",
      "text/plain": [
       "<Figure size 432x288 with 1 Axes>"
      ]
     },
     "metadata": {
      "needs_background": "light"
     },
     "output_type": "display_data"
    },
    {
     "name": "stdout",
     "output_type": "stream",
     "text": [
      "Work on Arts & Entertainment ...\n"
     ]
    },
    {
     "name": "stderr",
     "output_type": "stream",
     "text": [
      "100%|██████████| 2279/2279 [00:04<00:00, 493.73it/s]\n",
      "  0%|          | 0/2279 [00:00<?, ?it/s]"
     ]
    },
    {
     "name": "stdout",
     "output_type": "stream",
     "text": [
      "#ss (pos) 4558\n",
      "#ss (neg) 4558\n"
     ]
    },
    {
     "name": "stderr",
     "output_type": "stream",
     "text": [
      "100%|██████████| 2279/2279 [00:04<00:00, 508.19it/s]\n"
     ]
    },
    {
     "name": "stdout",
     "output_type": "stream",
     "text": [
      "#nss 9116\n",
      "#~ss 18232\n",
      "review pairs: 18232\n"
     ]
    },
    {
     "name": "stderr",
     "output_type": "stream",
     "text": [
      "  0%|          | 0/570 [00:00<?, ?it/s]"
     ]
    },
    {
     "name": "stdout",
     "output_type": "stream",
     "text": [
      "Start on [prediction] ...\n"
     ]
    },
    {
     "name": "stderr",
     "output_type": "stream",
     "text": [
      "100%|██████████| 570/570 [02:29<00:00,  4.06it/s]\n"
     ]
    },
    {
     "name": "stdout",
     "output_type": "stream",
     "text": [
      "Time for [prediction]: 0:02:29.885589\n",
      "Confusion Matrix:\n",
      "[[7011 2105]\n",
      " [2168 6948]]\n",
      "\n",
      "CM: [7011 2105 2168 6948] \n",
      "[tn, fp, fn, tp]\n",
      "  accuracy: 0.766\n",
      " precision: 0.766\n",
      "    recall: 0.766\n",
      "  f1-score: 0.766\n",
      "\n",
      "Accuracy:  0.766 \n",
      "\n",
      "Report for [BERTClassifier - yelp_1_pro128BCE - *-->Arts & Entertainment]:\n",
      "              precision    recall  f1-score   support\n",
      "\n",
      "           0       0.76      0.77      0.77      9116\n",
      "           1       0.77      0.76      0.76      9116\n",
      "\n",
      "    accuracy                           0.77     18232\n",
      "   macro avg       0.77      0.77      0.77     18232\n",
      "weighted avg       0.77      0.77      0.77     18232\n",
      "\n"
     ]
    },
    {
     "data": {
      "image/png": "[encoded data removed]",
      "text/plain": [
       "<Figure size 432x288 with 1 Axes>"
      ]
     },
     "metadata": {
      "needs_background": "light"
     },
     "output_type": "display_data"
    },
    {
     "name": "stdout",
     "output_type": "stream",
     "text": [
      "Work on Automotive ...\n"
     ]
    },
    {
     "name": "stderr",
     "output_type": "stream",
     "text": [
      "100%|██████████| 2848/2848 [00:05<00:00, 506.60it/s]\n"
     ]
    },
    {
     "name": "stdout",
     "output_type": "stream",
     "text": [
      "#ss (pos) 5696\n",
      "#ss (neg) 5696\n"
     ]
    },
    {
     "name": "stderr",
     "output_type": "stream",
     "text": [
      "100%|██████████| 2848/2848 [00:05<00:00, 508.63it/s]\n"
     ]
    },
    {
     "name": "stdout",
     "output_type": "stream",
     "text": [
      "#nss 11392\n",
      "#~ss 22784\n",
      "review pairs: 22784\n"
     ]
    },
    {
     "name": "stderr",
     "output_type": "stream",
     "text": [
      "  0%|          | 0/712 [00:00<?, ?it/s]"
     ]
    },
    {
     "name": "stdout",
     "output_type": "stream",
     "text": [
      "Start on [prediction] ...\n"
     ]
    },
    {
     "name": "stderr",
     "output_type": "stream",
     "text": [
      "100%|██████████| 712/712 [03:05<00:00,  4.04it/s]\n"
     ]
    },
    {
     "name": "stdout",
     "output_type": "stream",
     "text": [
      "Time for [prediction]: 0:03:05.676937\n",
      "Confusion Matrix:\n",
      "[[9892 1500]\n",
      " [1434 9958]]\n",
      "\n",
      "CM: [9892 1500 1434 9958] \n",
      "[tn, fp, fn, tp]\n",
      "  accuracy: 0.871\n",
      " precision: 0.871\n",
      "    recall: 0.871\n",
      "  f1-score: 0.871\n",
      "\n",
      "Accuracy:  0.871 \n",
      "\n",
      "Report for [BERTClassifier - yelp_1_pro128BCE - *-->Automotive]:\n",
      "              precision    recall  f1-score   support\n",
      "\n",
      "           0       0.87      0.87      0.87     11392\n",
      "           1       0.87      0.87      0.87     11392\n",
      "\n",
      "    accuracy                           0.87     22784\n",
      "   macro avg       0.87      0.87      0.87     22784\n",
      "weighted avg       0.87      0.87      0.87     22784\n",
      "\n"
     ]
    },
    {
     "data": {
      "image/png": "[encoded data removed]",
      "text/plain": [
       "<Figure size 432x288 with 1 Axes>"
      ]
     },
     "metadata": {
      "needs_background": "light"
     },
     "output_type": "display_data"
    },
    {
     "name": "stdout",
     "output_type": "stream",
     "text": [
      "Work on Beauty & Spas ...\n"
     ]
    },
    {
     "name": "stderr",
     "output_type": "stream",
     "text": [
      "100%|██████████| 4991/4991 [00:09<00:00, 516.27it/s]\n",
      "  0%|          | 0/4991 [00:00<?, ?it/s]"
     ]
    },
    {
     "name": "stdout",
     "output_type": "stream",
     "text": [
      "#ss (pos) 9982\n",
      "#ss (neg) 9982\n"
     ]
    },
    {
     "name": "stderr",
     "output_type": "stream",
     "text": [
      "100%|██████████| 4991/4991 [00:09<00:00, 517.70it/s]\n"
     ]
    },
    {
     "name": "stdout",
     "output_type": "stream",
     "text": [
      "#nss 19964\n",
      "#~ss 39928\n",
      "review pairs: 39928\n"
     ]
    },
    {
     "name": "stderr",
     "output_type": "stream",
     "text": [
      "  0%|          | 0/1248 [00:00<?, ?it/s]"
     ]
    },
    {
     "name": "stdout",
     "output_type": "stream",
     "text": [
      "Start on [prediction] ...\n"
     ]
    },
    {
     "name": "stderr",
     "output_type": "stream",
     "text": [
      "100%|██████████| 1248/1248 [05:24<00:00,  4.16it/s]\n"
     ]
    },
    {
     "name": "stdout",
     "output_type": "stream",
     "text": [
      "Time for [prediction]: 0:05:24.469486\n",
      "Confusion Matrix:\n",
      "[[17584  2380]\n",
      " [ 2254 17710]]\n",
      "\n",
      "CM: [17584  2380  2254 17710] \n",
      "[tn, fp, fn, tp]\n",
      "  accuracy: 0.884\n",
      " precision: 0.884\n",
      "    recall: 0.884\n",
      "  f1-score: 0.884\n",
      "\n",
      "Accuracy:  0.884 \n",
      "\n",
      "Report for [BERTClassifier - yelp_1_pro128BCE - *-->Beauty & Spas]:\n",
      "              precision    recall  f1-score   support\n",
      "\n",
      "           0       0.89      0.88      0.88     19964\n",
      "           1       0.88      0.89      0.88     19964\n",
      "\n",
      "    accuracy                           0.88     39928\n",
      "   macro avg       0.88      0.88      0.88     39928\n",
      "weighted avg       0.88      0.88      0.88     39928\n",
      "\n"
     ]
    },
    {
     "data": {
      "image/png": "[encoded data removed]",
      "text/plain": [
       "<Figure size 432x288 with 1 Axes>"
      ]
     },
     "metadata": {
      "needs_background": "light"
     },
     "output_type": "display_data"
    },
    {
     "name": "stderr",
     "output_type": "stream",
     "text": [
      "100%|██████████| 1/1 [00:00<00:00, 329.46it/s]\n",
      "100%|██████████| 1/1 [00:00<00:00, 327.96it/s]\n",
      "100%|██████████| 1/1 [00:00<00:00, 13.14it/s]"
     ]
    },
    {
     "name": "stdout",
     "output_type": "stream",
     "text": [
      "Work on Bicycles ...\n",
      "#ss (pos) 2\n",
      "#ss (neg) 2\n",
      "#nss 4\n",
      "#~ss 8\n",
      "review pairs: 8\n",
      "Start on [prediction] ...\n",
      "Time for [prediction]: 0:00:00.078219\n",
      "Confusion Matrix:\n",
      "[[2 2]\n",
      " [1 3]]\n",
      "\n",
      "CM: [2 2 1 3] \n",
      "[tn, fp, fn, tp]\n",
      "  accuracy: 0.625\n",
      " precision: 0.633\n",
      "    recall: 0.625\n",
      "  f1-score: 0.619\n",
      "\n",
      "Accuracy:  0.625 \n",
      "\n",
      "Report for [BERTClassifier - yelp_1_pro128BCE - *-->Bicycles]:\n",
      "              precision    recall  f1-score   support\n",
      "\n",
      "           0       0.67      0.50      0.57         4\n",
      "           1       0.60      0.75      0.67         4\n",
      "\n",
      "    accuracy                           0.62         8\n",
      "   macro avg       0.63      0.62      0.62         8\n",
      "weighted avg       0.63      0.62      0.62         8\n",
      "\n"
     ]
    },
    {
     "name": "stderr",
     "output_type": "stream",
     "text": [
      "\n"
     ]
    },
    {
     "data": {
      "image/png": "[encoded data removed]",
      "text/plain": [
       "<Figure size 432x288 with 1 Axes>"
      ]
     },
     "metadata": {
      "needs_background": "light"
     },
     "output_type": "display_data"
    },
    {
     "name": "stdout",
     "output_type": "stream",
     "text": [
      "Work on Education ...\n"
     ]
    },
    {
     "name": "stderr",
     "output_type": "stream",
     "text": [
      "100%|██████████| 438/438 [00:00<00:00, 526.42it/s]\n",
      " 11%|█         | 47/438 [00:00<00:00, 466.08it/s]"
     ]
    },
    {
     "name": "stdout",
     "output_type": "stream",
     "text": [
      "#ss (pos) 876\n",
      "#ss (neg) 876\n"
     ]
    },
    {
     "name": "stderr",
     "output_type": "stream",
     "text": [
      "100%|██████████| 438/438 [00:00<00:00, 524.17it/s]\n",
      "  0%|          | 0/110 [00:00<?, ?it/s]"
     ]
    },
    {
     "name": "stdout",
     "output_type": "stream",
     "text": [
      "#nss 1752\n",
      "#~ss 3504\n",
      "review pairs: 3504\n",
      "Start on [prediction] ...\n"
     ]
    },
    {
     "name": "stderr",
     "output_type": "stream",
     "text": [
      "100%|██████████| 110/110 [00:31<00:00,  4.10it/s]\n"
     ]
    },
    {
     "name": "stdout",
     "output_type": "stream",
     "text": [
      "Time for [prediction]: 0:00:31.197639\n",
      "Confusion Matrix:\n",
      "[[1469  283]\n",
      " [ 284 1468]]\n",
      "\n",
      "CM: [1469  283  284 1468] \n",
      "[tn, fp, fn, tp]\n",
      "  accuracy: 0.838\n",
      " precision: 0.838\n",
      "    recall: 0.838\n",
      "  f1-score: 0.838\n",
      "\n",
      "Accuracy:  0.838 \n",
      "\n",
      "Report for [BERTClassifier - yelp_1_pro128BCE - *-->Education]:\n",
      "              precision    recall  f1-score   support\n",
      "\n",
      "           0       0.84      0.84      0.84      1752\n",
      "           1       0.84      0.84      0.84      1752\n",
      "\n",
      "    accuracy                           0.84      3504\n",
      "   macro avg       0.84      0.84      0.84      3504\n",
      "weighted avg       0.84      0.84      0.84      3504\n",
      "\n"
     ]
    },
    {
     "data": {
      "image/png": "[encoded data removed]",
      "text/plain": [
       "<Figure size 432x288 with 1 Axes>"
      ]
     },
     "metadata": {
      "needs_background": "light"
     },
     "output_type": "display_data"
    },
    {
     "name": "stdout",
     "output_type": "stream",
     "text": [
      "Work on Event Planning & Services ...\n"
     ]
    },
    {
     "name": "stderr",
     "output_type": "stream",
     "text": [
      "100%|██████████| 3706/3706 [00:07<00:00, 502.49it/s]\n",
      "  0%|          | 0/3706 [00:00<?, ?it/s]"
     ]
    },
    {
     "name": "stdout",
     "output_type": "stream",
     "text": [
      "#ss (pos) 7412\n",
      "#ss (neg) 7412\n"
     ]
    },
    {
     "name": "stderr",
     "output_type": "stream",
     "text": [
      "100%|██████████| 3706/3706 [00:07<00:00, 515.85it/s]\n"
     ]
    },
    {
     "name": "stdout",
     "output_type": "stream",
     "text": [
      "#nss 14824\n",
      "#~ss 29648\n",
      "review pairs: 29648\n"
     ]
    },
    {
     "name": "stderr",
     "output_type": "stream",
     "text": [
      "  0%|          | 0/927 [00:00<?, ?it/s]"
     ]
    },
    {
     "name": "stdout",
     "output_type": "stream",
     "text": [
      "Start on [prediction] ...\n"
     ]
    },
    {
     "name": "stderr",
     "output_type": "stream",
     "text": [
      "100%|██████████| 927/927 [04:04<00:00,  4.51it/s]\n"
     ]
    },
    {
     "name": "stdout",
     "output_type": "stream",
     "text": [
      "Time for [prediction]: 0:04:04.516581\n",
      "Confusion Matrix:\n",
      "[[11957  2867]\n",
      " [ 2932 11892]]\n",
      "\n",
      "CM: [11957  2867  2932 11892] \n",
      "[tn, fp, fn, tp]\n",
      "  accuracy: 0.804\n",
      " precision: 0.804\n",
      "    recall: 0.804\n",
      "  f1-score: 0.804\n",
      "\n",
      "Accuracy:  0.804 \n",
      "\n",
      "Report for [BERTClassifier - yelp_1_pro128BCE - *-->Event Planning & Services]:\n",
      "              precision    recall  f1-score   support\n",
      "\n",
      "           0       0.80      0.81      0.80     14824\n",
      "           1       0.81      0.80      0.80     14824\n",
      "\n",
      "    accuracy                           0.80     29648\n",
      "   macro avg       0.80      0.80      0.80     29648\n",
      "weighted avg       0.80      0.80      0.80     29648\n",
      "\n"
     ]
    },
    {
     "data": {
      "image/png": "[encoded data removed]",
      "text/plain": [
       "<Figure size 432x288 with 1 Axes>"
      ]
     },
     "metadata": {
      "needs_background": "light"
     },
     "output_type": "display_data"
    },
    {
     "name": "stdout",
     "output_type": "stream",
     "text": [
      "Work on Financial Services ...\n"
     ]
    },
    {
     "name": "stderr",
     "output_type": "stream",
     "text": [
      "100%|██████████| 296/296 [00:00<00:00, 511.51it/s]\n",
      " 19%|█▊        | 55/296 [00:00<00:00, 544.19it/s]"
     ]
    },
    {
     "name": "stdout",
     "output_type": "stream",
     "text": [
      "#ss (pos) 592\n",
      "#ss (neg) 592\n"
     ]
    },
    {
     "name": "stderr",
     "output_type": "stream",
     "text": [
      "100%|██████████| 296/296 [00:00<00:00, 522.04it/s]\n",
      "  0%|          | 0/74 [00:00<?, ?it/s]"
     ]
    },
    {
     "name": "stdout",
     "output_type": "stream",
     "text": [
      "#nss 1184\n",
      "#~ss 2368\n",
      "review pairs: 2368\n",
      "Start on [prediction] ...\n"
     ]
    },
    {
     "name": "stderr",
     "output_type": "stream",
     "text": [
      "100%|██████████| 74/74 [00:18<00:00,  3.86it/s]"
     ]
    },
    {
     "name": "stdout",
     "output_type": "stream",
     "text": [
      "Time for [prediction]: 0:00:18.641209\n",
      "Confusion Matrix:\n",
      "[[1039  145]\n",
      " [ 137 1047]]\n",
      "\n",
      "CM: [1039  145  137 1047] \n",
      "[tn, fp, fn, tp]\n",
      "  accuracy: 0.881\n",
      " precision: 0.881\n",
      "    recall: 0.881\n",
      "  f1-score: 0.881\n",
      "\n",
      "Accuracy:  0.881 \n",
      "\n",
      "Report for [BERTClassifier - yelp_1_pro128BCE - *-->Financial Services]:\n",
      "              precision    recall  f1-score   support\n",
      "\n",
      "           0       0.88      0.88      0.88      1184\n",
      "           1       0.88      0.88      0.88      1184\n",
      "\n",
      "    accuracy                           0.88      2368\n",
      "   macro avg       0.88      0.88      0.88      2368\n",
      "weighted avg       0.88      0.88      0.88      2368\n",
      "\n"
     ]
    },
    {
     "name": "stderr",
     "output_type": "stream",
     "text": [
      "\n"
     ]
    },
    {
     "data": {
      "image/png": "[encoded data removed]",
      "text/plain": [
       "<Figure size 432x288 with 1 Axes>"
      ]
     },
     "metadata": {
      "needs_background": "light"
     },
     "output_type": "display_data"
    },
    {
     "name": "stdout",
     "output_type": "stream",
     "text": [
      "Work on Food ...\n"
     ]
    },
    {
     "name": "stderr",
     "output_type": "stream",
     "text": [
      "100%|██████████| 12779/12779 [00:25<00:00, 493.52it/s]\n"
     ]
    },
    {
     "name": "stdout",
     "output_type": "stream",
     "text": [
      "#ss (pos) 25558\n",
      "#ss (neg) 25558\n"
     ]
    },
    {
     "name": "stderr",
     "output_type": "stream",
     "text": [
      "100%|██████████| 12779/12779 [00:25<00:00, 506.11it/s]\n"
     ]
    },
    {
     "name": "stdout",
     "output_type": "stream",
     "text": [
      "#nss 51116\n",
      "#~ss 102232\n",
      "review pairs: 102232\n"
     ]
    },
    {
     "name": "stderr",
     "output_type": "stream",
     "text": [
      "  0%|          | 0/3195 [00:00<?, ?it/s]"
     ]
    },
    {
     "name": "stdout",
     "output_type": "stream",
     "text": [
      "Start on [prediction] ...\n"
     ]
    },
    {
     "name": "stderr",
     "output_type": "stream",
     "text": [
      "100%|██████████| 3195/3195 [13:18<00:00,  4.30it/s]\n"
     ]
    },
    {
     "name": "stdout",
     "output_type": "stream",
     "text": [
      "Time for [prediction]: 0:13:18.942238\n",
      "Confusion Matrix:\n",
      "[[40733 10383]\n",
      " [10399 40717]]\n",
      "\n",
      "CM: [40733 10383 10399 40717] \n",
      "[tn, fp, fn, tp]\n",
      "  accuracy: 0.797\n",
      " precision: 0.797\n",
      "    recall: 0.797\n",
      "  f1-score: 0.797\n",
      "\n",
      "Accuracy:  0.797 \n",
      "\n",
      "Report for [BERTClassifier - yelp_1_pro128BCE - *-->Food]:\n",
      "              precision    recall  f1-score   support\n",
      "\n",
      "           0       0.80      0.80      0.80     51116\n",
      "           1       0.80      0.80      0.80     51116\n",
      "\n",
      "    accuracy                           0.80    102232\n",
      "   macro avg       0.80      0.80      0.80    102232\n",
      "weighted avg       0.80      0.80      0.80    102232\n",
      "\n"
     ]
    },
    {
     "data": {
      "image/png": "[encoded data removed]",
      "text/plain": [
       "<Figure size 432x288 with 1 Axes>"
      ]
     },
     "metadata": {
      "needs_background": "light"
     },
     "output_type": "display_data"
    },
    {
     "name": "stdout",
     "output_type": "stream",
     "text": [
      "Work on Health & Medical ...\n"
     ]
    },
    {
     "name": "stderr",
     "output_type": "stream",
     "text": [
      "100%|██████████| 3180/3180 [00:06<00:00, 491.77it/s]\n",
      "  1%|          | 36/3180 [00:00<00:08, 357.85it/s]"
     ]
    },
    {
     "name": "stdout",
     "output_type": "stream",
     "text": [
      "#ss (pos) 6360\n",
      "#ss (neg) 6360\n"
     ]
    },
    {
     "name": "stderr",
     "output_type": "stream",
     "text": [
      "100%|██████████| 3180/3180 [00:05<00:00, 530.72it/s]\n"
     ]
    },
    {
     "name": "stdout",
     "output_type": "stream",
     "text": [
      "#nss 12720\n",
      "#~ss 25440\n",
      "review pairs: 25440\n"
     ]
    },
    {
     "name": "stderr",
     "output_type": "stream",
     "text": [
      "  0%|          | 0/795 [00:00<?, ?it/s]"
     ]
    },
    {
     "name": "stdout",
     "output_type": "stream",
     "text": [
      "Start on [prediction] ...\n"
     ]
    },
    {
     "name": "stderr",
     "output_type": "stream",
     "text": [
      "100%|██████████| 795/795 [03:32<00:00,  3.95it/s]\n"
     ]
    },
    {
     "name": "stdout",
     "output_type": "stream",
     "text": [
      "Time for [prediction]: 0:03:32.118800\n",
      "Confusion Matrix:\n",
      "[[11237  1483]\n",
      " [ 1395 11325]]\n",
      "\n",
      "CM: [11237  1483  1395 11325] \n",
      "[tn, fp, fn, tp]\n",
      "  accuracy: 0.887\n",
      " precision: 0.887\n",
      "    recall: 0.887\n",
      "  f1-score: 0.887\n",
      "\n",
      "Accuracy:  0.887 \n",
      "\n",
      "Report for [BERTClassifier - yelp_1_pro128BCE - *-->Health & Medical]:\n",
      "              precision    recall  f1-score   support\n",
      "\n",
      "           0       0.89      0.88      0.89     12720\n",
      "           1       0.88      0.89      0.89     12720\n",
      "\n",
      "    accuracy                           0.89     25440\n",
      "   macro avg       0.89      0.89      0.89     25440\n",
      "weighted avg       0.89      0.89      0.89     25440\n",
      "\n"
     ]
    },
    {
     "data": {
      "image/png": "[encoded data removed]",
      "text/plain": [
       "<Figure size 432x288 with 1 Axes>"
      ]
     },
     "metadata": {
      "needs_background": "light"
     },
     "output_type": "display_data"
    },
    {
     "name": "stdout",
     "output_type": "stream",
     "text": [
      "Work on Home Services ...\n"
     ]
    },
    {
     "name": "stderr",
     "output_type": "stream",
     "text": [
      "100%|██████████| 3093/3093 [00:06<00:00, 501.07it/s]\n",
      "  1%|          | 34/3093 [00:00<00:09, 338.47it/s]"
     ]
    },
    {
     "name": "stdout",
     "output_type": "stream",
     "text": [
      "#ss (pos) 6186\n",
      "#ss (neg) 6186\n"
     ]
    },
    {
     "name": "stderr",
     "output_type": "stream",
     "text": [
      "100%|██████████| 3093/3093 [00:06<00:00, 511.95it/s]\n"
     ]
    },
    {
     "name": "stdout",
     "output_type": "stream",
     "text": [
      "#nss 12372\n",
      "#~ss 24744\n",
      "review pairs: 24744\n"
     ]
    },
    {
     "name": "stderr",
     "output_type": "stream",
     "text": [
      "  0%|          | 0/774 [00:00<?, ?it/s]"
     ]
    },
    {
     "name": "stdout",
     "output_type": "stream",
     "text": [
      "Start on [prediction] ...\n"
     ]
    },
    {
     "name": "stderr",
     "output_type": "stream",
     "text": [
      "100%|██████████| 774/774 [03:32<00:00,  3.64it/s]\n"
     ]
    },
    {
     "name": "stdout",
     "output_type": "stream",
     "text": [
      "Time for [prediction]: 0:03:32.545172\n",
      "Confusion Matrix:\n",
      "[[10917  1455]\n",
      " [ 1419 10953]]\n",
      "\n",
      "CM: [10917  1455  1419 10953] \n",
      "[tn, fp, fn, tp]\n",
      "  accuracy: 0.884\n",
      " precision: 0.884\n",
      "    recall: 0.884\n",
      "  f1-score: 0.884\n",
      "\n",
      "Accuracy:  0.884 \n",
      "\n",
      "Report for [BERTClassifier - yelp_1_pro128BCE - *-->Home Services]:\n",
      "              precision    recall  f1-score   support\n",
      "\n",
      "           0       0.88      0.88      0.88     12372\n",
      "           1       0.88      0.89      0.88     12372\n",
      "\n",
      "    accuracy                           0.88     24744\n",
      "   macro avg       0.88      0.88      0.88     24744\n",
      "weighted avg       0.88      0.88      0.88     24744\n",
      "\n"
     ]
    },
    {
     "data": {
      "image/png": "[encoded data removed]",
      "text/plain": [
       "<Figure size 432x288 with 1 Axes>"
      ]
     },
     "metadata": {
      "needs_background": "light"
     },
     "output_type": "display_data"
    },
    {
     "name": "stdout",
     "output_type": "stream",
     "text": [
      "Work on Hotels & Travel ...\n"
     ]
    },
    {
     "name": "stderr",
     "output_type": "stream",
     "text": [
      "100%|██████████| 2223/2223 [00:04<00:00, 507.91it/s]\n",
      "  0%|          | 8/2223 [00:00<00:27, 79.79it/s]"
     ]
    },
    {
     "name": "stdout",
     "output_type": "stream",
     "text": [
      "#ss (pos) 4446\n",
      "#ss (neg) 4446\n"
     ]
    },
    {
     "name": "stderr",
     "output_type": "stream",
     "text": [
      "100%|██████████| 2223/2223 [00:04<00:00, 484.96it/s]\n"
     ]
    },
    {
     "name": "stdout",
     "output_type": "stream",
     "text": [
      "#nss 8892\n",
      "#~ss 17784\n",
      "review pairs: 17784\n"
     ]
    },
    {
     "name": "stderr",
     "output_type": "stream",
     "text": [
      "  0%|          | 0/556 [00:00<?, ?it/s]"
     ]
    },
    {
     "name": "stdout",
     "output_type": "stream",
     "text": [
      "Start on [prediction] ...\n"
     ]
    },
    {
     "name": "stderr",
     "output_type": "stream",
     "text": [
      "100%|██████████| 556/556 [02:32<00:00,  3.79it/s]\n"
     ]
    },
    {
     "name": "stdout",
     "output_type": "stream",
     "text": [
      "Time for [prediction]: 0:02:32.257164\n",
      "Confusion Matrix:\n",
      "[[7143 1749]\n",
      " [1736 7156]]\n",
      "\n",
      "CM: [7143 1749 1736 7156] \n",
      "[tn, fp, fn, tp]\n",
      "  accuracy: 0.804\n",
      " precision: 0.804\n",
      "    recall: 0.804\n",
      "  f1-score: 0.804\n",
      "\n",
      "Accuracy:  0.804 \n",
      "\n",
      "Report for [BERTClassifier - yelp_1_pro128BCE - *-->Hotels & Travel]:\n",
      "              precision    recall  f1-score   support\n",
      "\n",
      "           0       0.80      0.80      0.80      8892\n",
      "           1       0.80      0.80      0.80      8892\n",
      "\n",
      "    accuracy                           0.80     17784\n",
      "   macro avg       0.80      0.80      0.80     17784\n",
      "weighted avg       0.80      0.80      0.80     17784\n",
      "\n"
     ]
    },
    {
     "data": {
      "image/png": "[encoded data removed]",
      "text/plain": [
       "<Figure size 432x288 with 1 Axes>"
      ]
     },
     "metadata": {
      "needs_background": "light"
     },
     "output_type": "display_data"
    },
    {
     "name": "stdout",
     "output_type": "stream",
     "text": [
      "Work on Local Flavor ...\n"
     ]
    },
    {
     "name": "stderr",
     "output_type": "stream",
     "text": [
      "100%|██████████| 508/508 [00:01<00:00, 492.72it/s]\n",
      "  9%|▊         | 44/508 [00:00<00:01, 439.32it/s]"
     ]
    },
    {
     "name": "stdout",
     "output_type": "stream",
     "text": [
      "#ss (pos) 1016\n",
      "#ss (neg) 1016\n"
     ]
    },
    {
     "name": "stderr",
     "output_type": "stream",
     "text": [
      "100%|██████████| 508/508 [00:01<00:00, 498.77it/s]\n"
     ]
    },
    {
     "name": "stdout",
     "output_type": "stream",
     "text": [
      "#nss 2032\n",
      "#~ss 4064\n",
      "review pairs: 4064\n"
     ]
    },
    {
     "name": "stderr",
     "output_type": "stream",
     "text": [
      "  0%|          | 0/127 [00:00<?, ?it/s]"
     ]
    },
    {
     "name": "stdout",
     "output_type": "stream",
     "text": [
      "Start on [prediction] ...\n"
     ]
    },
    {
     "name": "stderr",
     "output_type": "stream",
     "text": [
      "100%|██████████| 127/127 [00:33<00:00,  3.74it/s]"
     ]
    },
    {
     "name": "stdout",
     "output_type": "stream",
     "text": [
      "Time for [prediction]: 0:00:33.076205\n",
      "Confusion Matrix:\n",
      "[[1550  482]\n",
      " [ 436 1596]]\n",
      "\n",
      "CM: [1550  482  436 1596] \n",
      "[tn, fp, fn, tp]\n",
      "  accuracy: 0.774\n",
      " precision: 0.774\n",
      "    recall: 0.774\n",
      "  f1-score: 0.774\n",
      "\n",
      "Accuracy:  0.774 \n",
      "\n",
      "Report for [BERTClassifier - yelp_1_pro128BCE - *-->Local Flavor]:\n",
      "              precision    recall  f1-score   support\n",
      "\n",
      "           0       0.78      0.76      0.77      2032\n",
      "           1       0.77      0.79      0.78      2032\n",
      "\n",
      "    accuracy                           0.77      4064\n",
      "   macro avg       0.77      0.77      0.77      4064\n",
      "weighted avg       0.77      0.77      0.77      4064\n",
      "\n"
     ]
    },
    {
     "name": "stderr",
     "output_type": "stream",
     "text": [
      "\n"
     ]
    },
    {
     "data": {
      "image/png": "[encoded data removed]",
      "text/plain": [
       "<Figure size 432x288 with 1 Axes>"
      ]
     },
     "metadata": {
      "needs_background": "light"
     },
     "output_type": "display_data"
    },
    {
     "name": "stdout",
     "output_type": "stream",
     "text": [
      "Work on Local Services ...\n"
     ]
    },
    {
     "name": "stderr",
     "output_type": "stream",
     "text": [
      "100%|██████████| 2331/2331 [00:04<00:00, 525.81it/s]\n",
      "  2%|▏         | 42/2331 [00:00<00:05, 414.44it/s]"
     ]
    },
    {
     "name": "stdout",
     "output_type": "stream",
     "text": [
      "#ss (pos) 4662\n",
      "#ss (neg) 4662\n"
     ]
    },
    {
     "name": "stderr",
     "output_type": "stream",
     "text": [
      "100%|██████████| 2331/2331 [00:04<00:00, 530.12it/s]\n"
     ]
    },
    {
     "name": "stdout",
     "output_type": "stream",
     "text": [
      "#nss 9324\n",
      "#~ss 18648\n",
      "review pairs: 18648\n"
     ]
    },
    {
     "name": "stderr",
     "output_type": "stream",
     "text": [
      "  0%|          | 0/583 [00:00<?, ?it/s]"
     ]
    },
    {
     "name": "stdout",
     "output_type": "stream",
     "text": [
      "Start on [prediction] ...\n"
     ]
    },
    {
     "name": "stderr",
     "output_type": "stream",
     "text": [
      "100%|██████████| 583/583 [02:29<00:00,  4.10it/s]\n"
     ]
    },
    {
     "name": "stdout",
     "output_type": "stream",
     "text": [
      "Time for [prediction]: 0:02:29.825969\n",
      "Confusion Matrix:\n",
      "[[8146 1178]\n",
      " [1097 8227]]\n",
      "\n",
      "CM: [8146 1178 1097 8227] \n",
      "[tn, fp, fn, tp]\n",
      "  accuracy: 0.878\n",
      " precision: 0.878\n",
      "    recall: 0.878\n",
      "  f1-score: 0.878\n",
      "\n",
      "Accuracy:  0.878 \n",
      "\n",
      "Report for [BERTClassifier - yelp_1_pro128BCE - *-->Local Services]:\n",
      "              precision    recall  f1-score   support\n",
      "\n",
      "           0       0.88      0.87      0.88      9324\n",
      "           1       0.87      0.88      0.88      9324\n",
      "\n",
      "    accuracy                           0.88     18648\n",
      "   macro avg       0.88      0.88      0.88     18648\n",
      "weighted avg       0.88      0.88      0.88     18648\n",
      "\n"
     ]
    },
    {
     "data": {
      "image/png": "[encoded data removed]",
      "text/plain": [
       "<Figure size 432x288 with 1 Axes>"
      ]
     },
     "metadata": {
      "needs_background": "light"
     },
     "output_type": "display_data"
    },
    {
     "name": "stderr",
     "output_type": "stream",
     "text": [
      "100%|██████████| 35/35 [00:00<00:00, 526.40it/s]\n",
      "  0%|          | 0/35 [00:00<?, ?it/s]"
     ]
    },
    {
     "name": "stdout",
     "output_type": "stream",
     "text": [
      "Work on Mass Media ...\n",
      "#ss (pos) 70\n",
      "#ss (neg) 70\n"
     ]
    },
    {
     "name": "stderr",
     "output_type": "stream",
     "text": [
      "100%|██████████| 35/35 [00:00<00:00, 520.05it/s]\n",
      "  0%|          | 0/9 [00:00<?, ?it/s]"
     ]
    },
    {
     "name": "stdout",
     "output_type": "stream",
     "text": [
      "#nss 140\n",
      "#~ss 280\n",
      "review pairs: 280\n",
      "Start on [prediction] ...\n"
     ]
    },
    {
     "name": "stderr",
     "output_type": "stream",
     "text": [
      "100%|██████████| 9/9 [00:02<00:00,  4.10it/s]"
     ]
    },
    {
     "name": "stdout",
     "output_type": "stream",
     "text": [
      "Time for [prediction]: 0:00:02.281582\n",
      "Confusion Matrix:\n",
      "[[122  18]\n",
      " [ 18 122]]\n",
      "\n",
      "CM: [122  18  18 122] \n",
      "[tn, fp, fn, tp]\n",
      "  accuracy: 0.871\n",
      " precision: 0.871\n",
      "    recall: 0.871\n",
      "  f1-score: 0.871\n",
      "\n",
      "Accuracy:  0.871 \n",
      "\n",
      "Report for [BERTClassifier - yelp_1_pro128BCE - *-->Mass Media]:\n",
      "              precision    recall  f1-score   support\n",
      "\n",
      "           0       0.87      0.87      0.87       140\n",
      "           1       0.87      0.87      0.87       140\n",
      "\n",
      "    accuracy                           0.87       280\n",
      "   macro avg       0.87      0.87      0.87       280\n",
      "weighted avg       0.87      0.87      0.87       280\n",
      "\n"
     ]
    },
    {
     "name": "stderr",
     "output_type": "stream",
     "text": [
      "\n"
     ]
    },
    {
     "data": {
      "image/png": "[encoded data removed]",
      "text/plain": [
       "<Figure size 432x288 with 1 Axes>"
      ]
     },
     "metadata": {
      "needs_background": "light"
     },
     "output_type": "display_data"
    },
    {
     "name": "stdout",
     "output_type": "stream",
     "text": [
      "Work on Nightlife ...\n"
     ]
    },
    {
     "name": "stderr",
     "output_type": "stream",
     "text": [
      "100%|██████████| 8157/8157 [00:17<00:00, 474.50it/s]\n"
     ]
    },
    {
     "name": "stdout",
     "output_type": "stream",
     "text": [
      "#ss (pos) 16314\n",
      "#ss (neg) 16314\n"
     ]
    },
    {
     "name": "stderr",
     "output_type": "stream",
     "text": [
      "100%|██████████| 8157/8157 [00:16<00:00, 484.06it/s]\n"
     ]
    },
    {
     "name": "stdout",
     "output_type": "stream",
     "text": [
      "#nss 32628\n",
      "#~ss 65256\n",
      "review pairs: 65256\n"
     ]
    },
    {
     "name": "stderr",
     "output_type": "stream",
     "text": [
      "  0%|          | 0/2040 [00:00<?, ?it/s]"
     ]
    },
    {
     "name": "stdout",
     "output_type": "stream",
     "text": [
      "Start on [prediction] ...\n"
     ]
    },
    {
     "name": "stderr",
     "output_type": "stream",
     "text": [
      "100%|██████████| 2040/2040 [08:42<00:00,  3.90it/s]\n"
     ]
    },
    {
     "name": "stdout",
     "output_type": "stream",
     "text": [
      "Time for [prediction]: 0:08:42.606896\n",
      "Confusion Matrix:\n",
      "[[25788  6840]\n",
      " [ 7249 25379]]\n",
      "\n",
      "CM: [25788  6840  7249 25379] \n",
      "[tn, fp, fn, tp]\n",
      "  accuracy: 0.784\n",
      " precision: 0.784\n",
      "    recall: 0.784\n",
      "  f1-score: 0.784\n",
      "\n",
      "Accuracy:  0.784 \n",
      "\n",
      "Report for [BERTClassifier - yelp_1_pro128BCE - *-->Nightlife]:\n",
      "              precision    recall  f1-score   support\n",
      "\n",
      "           0       0.78      0.79      0.79     32628\n",
      "           1       0.79      0.78      0.78     32628\n",
      "\n",
      "    accuracy                           0.78     65256\n",
      "   macro avg       0.78      0.78      0.78     65256\n",
      "weighted avg       0.78      0.78      0.78     65256\n",
      "\n"
     ]
    },
    {
     "data": {
      "image/png": "[encoded data removed]",
      "text/plain": [
       "<Figure size 432x288 with 1 Axes>"
      ]
     },
     "metadata": {
      "needs_background": "light"
     },
     "output_type": "display_data"
    },
    {
     "name": "stdout",
     "output_type": "stream",
     "text": [
      "Work on Pets ...\n"
     ]
    },
    {
     "name": "stderr",
     "output_type": "stream",
     "text": [
      "100%|██████████| 998/998 [00:01<00:00, 516.73it/s]\n",
      "  5%|▌         | 50/998 [00:00<00:01, 490.75it/s]"
     ]
    },
    {
     "name": "stdout",
     "output_type": "stream",
     "text": [
      "#ss (pos) 1996\n",
      "#ss (neg) 1996\n"
     ]
    },
    {
     "name": "stderr",
     "output_type": "stream",
     "text": [
      "100%|██████████| 998/998 [00:01<00:00, 537.01it/s]\n"
     ]
    },
    {
     "name": "stdout",
     "output_type": "stream",
     "text": [
      "#nss 3992\n",
      "#~ss 7984\n",
      "review pairs: 7984\n"
     ]
    },
    {
     "name": "stderr",
     "output_type": "stream",
     "text": [
      "  0%|          | 0/250 [00:00<?, ?it/s]"
     ]
    },
    {
     "name": "stdout",
     "output_type": "stream",
     "text": [
      "Start on [prediction] ...\n"
     ]
    },
    {
     "name": "stderr",
     "output_type": "stream",
     "text": [
      "100%|██████████| 250/250 [01:09<00:00,  4.20it/s]\n"
     ]
    },
    {
     "name": "stdout",
     "output_type": "stream",
     "text": [
      "Time for [prediction]: 0:01:09.692752\n",
      "Confusion Matrix:\n",
      "[[3406  586]\n",
      " [ 514 3478]]\n",
      "\n",
      "CM: [3406  586  514 3478] \n",
      "[tn, fp, fn, tp]\n",
      "  accuracy: 0.862\n",
      " precision: 0.862\n",
      "    recall: 0.862\n",
      "  f1-score: 0.862\n",
      "\n",
      "Accuracy:  0.862 \n",
      "\n",
      "Report for [BERTClassifier - yelp_1_pro128BCE - *-->Pets]:\n",
      "              precision    recall  f1-score   support\n",
      "\n",
      "           0       0.87      0.85      0.86      3992\n",
      "           1       0.86      0.87      0.86      3992\n",
      "\n",
      "    accuracy                           0.86      7984\n",
      "   macro avg       0.86      0.86      0.86      7984\n",
      "weighted avg       0.86      0.86      0.86      7984\n",
      "\n"
     ]
    },
    {
     "data": {
      "image/png": "[encoded data removed]",
      "text/plain": [
       "<Figure size 432x288 with 1 Axes>"
      ]
     },
     "metadata": {
      "needs_background": "light"
     },
     "output_type": "display_data"
    },
    {
     "name": "stdout",
     "output_type": "stream",
     "text": [
      "Work on Professional Services ...\n"
     ]
    },
    {
     "name": "stderr",
     "output_type": "stream",
     "text": [
      "100%|██████████| 705/705 [00:01<00:00, 520.18it/s]\n",
      "  7%|▋         | 51/705 [00:00<00:01, 509.57it/s]"
     ]
    },
    {
     "name": "stdout",
     "output_type": "stream",
     "text": [
      "#ss (pos) 1410\n",
      "#ss (neg) 1410\n"
     ]
    },
    {
     "name": "stderr",
     "output_type": "stream",
     "text": [
      "100%|██████████| 705/705 [00:01<00:00, 526.01it/s]\n"
     ]
    },
    {
     "name": "stdout",
     "output_type": "stream",
     "text": [
      "#nss 2820\n",
      "#~ss 5640\n",
      "review pairs: 5640\n"
     ]
    },
    {
     "name": "stderr",
     "output_type": "stream",
     "text": [
      "  0%|          | 0/177 [00:00<?, ?it/s]"
     ]
    },
    {
     "name": "stdout",
     "output_type": "stream",
     "text": [
      "Start on [prediction] ...\n"
     ]
    },
    {
     "name": "stderr",
     "output_type": "stream",
     "text": [
      "100%|██████████| 177/177 [00:46<00:00,  3.83it/s]\n"
     ]
    },
    {
     "name": "stdout",
     "output_type": "stream",
     "text": [
      "Time for [prediction]: 0:00:46.161244\n",
      "Confusion Matrix:\n",
      "[[2478  342]\n",
      " [ 313 2507]]\n",
      "\n",
      "CM: [2478  342  313 2507] \n",
      "[tn, fp, fn, tp]\n",
      "  accuracy: 0.884\n",
      " precision: 0.884\n",
      "    recall: 0.884\n",
      "  f1-score: 0.884\n",
      "\n",
      "Accuracy:  0.884 \n",
      "\n",
      "Report for [BERTClassifier - yelp_1_pro128BCE - *-->Professional Services]:\n",
      "              precision    recall  f1-score   support\n",
      "\n",
      "           0       0.89      0.88      0.88      2820\n",
      "           1       0.88      0.89      0.88      2820\n",
      "\n",
      "    accuracy                           0.88      5640\n",
      "   macro avg       0.88      0.88      0.88      5640\n",
      "weighted avg       0.88      0.88      0.88      5640\n",
      "\n"
     ]
    },
    {
     "data": {
      "image/png": "[encoded data removed]",
      "text/plain": [
       "<Figure size 432x288 with 1 Axes>"
      ]
     },
     "metadata": {
      "needs_background": "light"
     },
     "output_type": "display_data"
    },
    {
     "name": "stdout",
     "output_type": "stream",
     "text": [
      "Work on Public Services & Government ...\n"
     ]
    },
    {
     "name": "stderr",
     "output_type": "stream",
     "text": [
      "100%|██████████| 290/290 [00:00<00:00, 516.78it/s]\n",
      " 18%|█▊        | 53/290 [00:00<00:00, 527.33it/s]"
     ]
    },
    {
     "name": "stdout",
     "output_type": "stream",
     "text": [
      "#ss (pos) 580\n",
      "#ss (neg) 580\n"
     ]
    },
    {
     "name": "stderr",
     "output_type": "stream",
     "text": [
      "100%|██████████| 290/290 [00:00<00:00, 528.16it/s]\n",
      "  0%|          | 0/73 [00:00<?, ?it/s]"
     ]
    },
    {
     "name": "stdout",
     "output_type": "stream",
     "text": [
      "#nss 1160\n",
      "#~ss 2320\n",
      "review pairs: 2320\n",
      "Start on [prediction] ...\n"
     ]
    },
    {
     "name": "stderr",
     "output_type": "stream",
     "text": [
      "100%|██████████| 73/73 [00:18<00:00,  4.38it/s]\n"
     ]
    },
    {
     "name": "stdout",
     "output_type": "stream",
     "text": [
      "Time for [prediction]: 0:00:18.885359\n",
      "Confusion Matrix:\n",
      "[[920 240]\n",
      " [240 920]]\n",
      "\n",
      "CM: [920 240 240 920] \n",
      "[tn, fp, fn, tp]\n",
      "  accuracy: 0.793\n",
      " precision: 0.793\n",
      "    recall: 0.793\n",
      "  f1-score: 0.793\n",
      "\n",
      "Accuracy:  0.793 \n",
      "\n",
      "Report for [BERTClassifier - yelp_1_pro128BCE - *-->Public Services & Government]:\n",
      "              precision    recall  f1-score   support\n",
      "\n",
      "           0       0.79      0.79      0.79      1160\n",
      "           1       0.79      0.79      0.79      1160\n",
      "\n",
      "    accuracy                           0.79      2320\n",
      "   macro avg       0.79      0.79      0.79      2320\n",
      "weighted avg       0.79      0.79      0.79      2320\n",
      "\n"
     ]
    },
    {
     "data": {
      "image/png": "[encoded data removed]",
      "text/plain": [
       "<Figure size 432x288 with 1 Axes>"
      ]
     },
     "metadata": {
      "needs_background": "light"
     },
     "output_type": "display_data"
    },
    {
     "name": "stderr",
     "output_type": "stream",
     "text": [
      "  0%|          | 0/43 [00:00<?, ?it/s]"
     ]
    },
    {
     "name": "stdout",
     "output_type": "stream",
     "text": [
      "Work on Religious Organizations ...\n"
     ]
    },
    {
     "name": "stderr",
     "output_type": "stream",
     "text": [
      "100%|██████████| 43/43 [00:00<00:00, 494.97it/s]\n",
      "  0%|          | 0/43 [00:00<?, ?it/s]"
     ]
    },
    {
     "name": "stdout",
     "output_type": "stream",
     "text": [
      "#ss (pos) 86\n",
      "#ss (neg) 86\n"
     ]
    },
    {
     "name": "stderr",
     "output_type": "stream",
     "text": [
      "100%|██████████| 43/43 [00:00<00:00, 509.94it/s]\n",
      "  0%|          | 0/11 [00:00<?, ?it/s]"
     ]
    },
    {
     "name": "stdout",
     "output_type": "stream",
     "text": [
      "#nss 172\n",
      "#~ss 344\n",
      "review pairs: 344\n",
      "Start on [prediction] ...\n"
     ]
    },
    {
     "name": "stderr",
     "output_type": "stream",
     "text": [
      "100%|██████████| 11/11 [00:02<00:00,  4.11it/s]"
     ]
    },
    {
     "name": "stdout",
     "output_type": "stream",
     "text": [
      "Time for [prediction]: 0:00:02.882581\n",
      "Confusion Matrix:\n",
      "[[130  42]\n",
      " [ 33 139]]\n",
      "\n",
      "CM: [130  42  33 139] \n",
      "[tn, fp, fn, tp]\n",
      "  accuracy: 0.782\n",
      " precision: 0.783\n",
      "    recall: 0.782\n",
      "  f1-score: 0.782\n",
      "\n",
      "Accuracy:  0.782 \n",
      "\n",
      "Report for [BERTClassifier - yelp_1_pro128BCE - *-->Religious Organizations]:\n",
      "              precision    recall  f1-score   support\n",
      "\n",
      "           0       0.80      0.76      0.78       172\n",
      "           1       0.77      0.81      0.79       172\n",
      "\n",
      "    accuracy                           0.78       344\n",
      "   macro avg       0.78      0.78      0.78       344\n",
      "weighted avg       0.78      0.78      0.78       344\n",
      "\n"
     ]
    },
    {
     "name": "stderr",
     "output_type": "stream",
     "text": [
      "\n"
     ]
    },
    {
     "data": {
      "image/png": "[encoded data removed]",
      "text/plain": [
       "<Figure size 432x288 with 1 Axes>"
      ]
     },
     "metadata": {
      "needs_background": "light"
     },
     "output_type": "display_data"
    },
    {
     "name": "stdout",
     "output_type": "stream",
     "text": [
      "Work on Restaurants ...\n"
     ]
    },
    {
     "name": "stderr",
     "output_type": "stream",
     "text": [
      "100%|██████████| 33354/33354 [01:10<00:00, 471.79it/s]\n"
     ]
    },
    {
     "name": "stdout",
     "output_type": "stream",
     "text": [
      "#ss (pos) 66708\n",
      "#ss (neg) 66708\n"
     ]
    },
    {
     "name": "stderr",
     "output_type": "stream",
     "text": [
      "100%|██████████| 33354/33354 [01:09<00:00, 478.34it/s]\n"
     ]
    },
    {
     "name": "stdout",
     "output_type": "stream",
     "text": [
      "#nss 133416\n",
      "#~ss 266832\n",
      "review pairs: 266832\n"
     ]
    },
    {
     "name": "stderr",
     "output_type": "stream",
     "text": [
      "  0%|          | 0/8339 [00:00<?, ?it/s]"
     ]
    },
    {
     "name": "stdout",
     "output_type": "stream",
     "text": [
      "Start on [prediction] ...\n"
     ]
    },
    {
     "name": "stderr",
     "output_type": "stream",
     "text": [
      "100%|██████████| 8339/8339 [35:08<00:00,  4.50it/s]\n"
     ]
    },
    {
     "name": "stdout",
     "output_type": "stream",
     "text": [
      "Time for [prediction]: 0:35:08.783048\n",
      "Confusion Matrix:\n",
      "[[107014  26402]\n",
      " [ 27039 106377]]\n",
      "\n",
      "CM: [107014  26402  27039 106377] \n",
      "[tn, fp, fn, tp]\n",
      "  accuracy: 0.800\n",
      " precision: 0.800\n",
      "    recall: 0.800\n",
      "  f1-score: 0.800\n",
      "\n",
      "Accuracy:  0.8 \n",
      "\n",
      "Report for [BERTClassifier - yelp_1_pro128BCE - *-->Restaurants]:\n",
      "              precision    recall  f1-score   support\n",
      "\n",
      "           0       0.80      0.80      0.80    133416\n",
      "           1       0.80      0.80      0.80    133416\n",
      "\n",
      "    accuracy                           0.80    266832\n",
      "   macro avg       0.80      0.80      0.80    266832\n",
      "weighted avg       0.80      0.80      0.80    266832\n",
      "\n"
     ]
    },
    {
     "data": {
      "image/png": "[encoded data removed]",
      "text/plain": [
       "<Figure size 432x288 with 1 Axes>"
      ]
     },
     "metadata": {
      "needs_background": "light"
     },
     "output_type": "display_data"
    },
    {
     "name": "stdout",
     "output_type": "stream",
     "text": [
      "Work on Shopping ...\n"
     ]
    },
    {
     "name": "stderr",
     "output_type": "stream",
     "text": [
      "100%|██████████| 6597/6597 [00:12<00:00, 517.99it/s]\n",
      "  0%|          | 0/6597 [00:00<?, ?it/s]"
     ]
    },
    {
     "name": "stdout",
     "output_type": "stream",
     "text": [
      "#ss (pos) 13194\n",
      "#ss (neg) 13194\n"
     ]
    },
    {
     "name": "stderr",
     "output_type": "stream",
     "text": [
      "100%|██████████| 6597/6597 [00:12<00:00, 526.38it/s]\n"
     ]
    },
    {
     "name": "stdout",
     "output_type": "stream",
     "text": [
      "#nss 26388\n",
      "#~ss 52776\n",
      "review pairs: 52776\n"
     ]
    },
    {
     "name": "stderr",
     "output_type": "stream",
     "text": [
      "  0%|          | 0/1650 [00:00<?, ?it/s]"
     ]
    },
    {
     "name": "stdout",
     "output_type": "stream",
     "text": [
      "Start on [prediction] ...\n"
     ]
    },
    {
     "name": "stderr",
     "output_type": "stream",
     "text": [
      "100%|██████████| 1650/1650 [07:11<00:00,  3.83it/s]\n"
     ]
    },
    {
     "name": "stdout",
     "output_type": "stream",
     "text": [
      "Time for [prediction]: 0:07:11.090066\n",
      "Confusion Matrix:\n",
      "[[21658  4730]\n",
      " [ 4390 21998]]\n",
      "\n",
      "CM: [21658  4730  4390 21998] \n",
      "[tn, fp, fn, tp]\n",
      "  accuracy: 0.827\n",
      " precision: 0.827\n",
      "    recall: 0.827\n",
      "  f1-score: 0.827\n",
      "\n",
      "Accuracy:  0.827 \n",
      "\n",
      "Report for [BERTClassifier - yelp_1_pro128BCE - *-->Shopping]:\n",
      "              precision    recall  f1-score   support\n",
      "\n",
      "           0       0.83      0.82      0.83     26388\n",
      "           1       0.82      0.83      0.83     26388\n",
      "\n",
      "    accuracy                           0.83     52776\n",
      "   macro avg       0.83      0.83      0.83     52776\n",
      "weighted avg       0.83      0.83      0.83     52776\n",
      "\n"
     ]
    },
    {
     "data": {
      "image/png": "[encoded data removed]",
      "text/plain": [
       "<Figure size 432x288 with 1 Axes>"
      ]
     },
     "metadata": {
      "needs_background": "light"
     },
     "output_type": "display_data"
    }
   ],
   "source": [
    "results_cross_overlap = dict()\n",
    "\n",
    "for root_category_label in root_category_labels:\n",
    "    if root_category_label == category_name:\n",
    "        continue\n",
    "\n",
    "    print(f\"Work on {root_category_label} ...\")\n",
    "    # with overlap\n",
    "    df_other = load_cached_root_category_businesses_df(root_category_label, map_categories)\n",
    "    \n",
    "    df_other = filter_min_review_freq(df_other, min_ratings=5)\n",
    "    df_other = filter_both_good_bad(df_other)\n",
    "    # TODO: maybe reset randomness here, so previous calls to random don't influence it?\n",
    "    df_other = make_or_load_pairs(df_other, None, num_pairs_per_class=2)\n",
    "    print(\"review pairs:\", len(df_other))\n",
    "    \n",
    "    df_other[\"tag\"] = \"NA\"\n",
    "    \n",
    "    X_dev, y_dev = df_other[names_columns_X_arteval], df_other[names_columns_y]\n",
    "    data_dev_raw, data_dev = transform_dataset(X_dev, y_dev, transform)\n",
    "    \n",
    "    all_predictions, cum_loss = predict(model, data_dev, ctx, metric, loss_function, batch_size=batch_size)\n",
    "    y_true, y_pred = predict_out_to_ys(all_predictions, all_labels)\n",
    "    report_training_results(y_true, y_pred, name=f\"BERTClassifier - {run_name} - {category_name}-->{root_category_label}\", heatmap=False)\n",
    "    plot_confusion_matrix(y_true, y_pred, labels=[0, 1], title=f\"{run_name} - {category_name}-->{root_category_label}\", values_format=\"d\", cmap=\"Blues\", include_colorbar=False)\n",
    "    plt.show()\n",
    "    \n",
    "    res_one = (len(df_other), len(df_other))\n",
    "    res_one += compute_metrics(y_true, y_pred, precision=8, averaging=\"macro\", dump=False)\n",
    "    results_cross_overlap[root_category_label] = res_one"
   ]
  },
  {
   "cell_type": "code",
   "execution_count": null,
   "metadata": {
    "collapsed": true,
    "jupyter": {
     "outputs_hidden": true
    }
   },
   "outputs": [],
   "source": [
    "results_cross_no_overlap"
   ]
  },
  {
   "cell_type": "code",
   "execution_count": 38,
   "metadata": {
    "ExecuteTime": {
     "end_time": "2020-05-25T11:45:41.701996Z",
     "start_time": "2020-05-25T11:45:41.689711Z"
    },
    "collapsed": true,
    "jupyter": {
     "outputs_hidden": true
    }
   },
   "outputs": [
    {
     "data": {
      "text/plain": [
       "{'Active Life': (16312,\n",
       "  16312,\n",
       "  0.8021785808206973,\n",
       "  0.8021701814615008,\n",
       "  0.8021688067319881,\n",
       "  0.8021701814615008,\n",
       "  array([[6564, 1592],\n",
       "         [1635, 6521]])),\n",
       " 'Arts & Entertainment': (18232,\n",
       "  18232,\n",
       "  0.76564454349865,\n",
       "  0.7656318560772268,\n",
       "  0.7656290576356741,\n",
       "  0.7656318560772268,\n",
       "  array([[7011, 2105],\n",
       "         [2168, 6948]])),\n",
       " 'Automotive': (22784,\n",
       "  22784,\n",
       "  0.8712378819841751,\n",
       "  0.8712254213483146,\n",
       "  0.8712243407564115,\n",
       "  0.8712254213483146,\n",
       "  array([[9892, 1500],\n",
       "         [1434, 9958]])),\n",
       " 'Beauty & Spas': (39928,\n",
       "  39928,\n",
       "  0.8839563882078987,\n",
       "  0.8839410939691444,\n",
       "  0.8839399382061792,\n",
       "  0.8839410939691444,\n",
       "  array([[17584,  2380],\n",
       "         [ 2254, 17710]])),\n",
       " 'Bicycles': (8,\n",
       "  8,\n",
       "  0.6333333333333333,\n",
       "  0.625,\n",
       "  0.6190476190476191,\n",
       "  0.625,\n",
       "  array([[2, 2],\n",
       "         [1, 3]])),\n",
       " 'Education': (3504,\n",
       "  3504,\n",
       "  0.8381850416826437,\n",
       "  0.8381849315068493,\n",
       "  0.8381849183275961,\n",
       "  0.8381849315068494,\n",
       "  array([[1469,  283],\n",
       "         [ 284, 1468]])),\n",
       " 'Event Planning & Services': (29648,\n",
       "  29648,\n",
       "  0.8044108715855371,\n",
       "  0.8044050188882892,\n",
       "  0.8044040787414213,\n",
       "  0.8044050188882893,\n",
       "  array([[11957,  2867],\n",
       "         [ 2932, 11892]])),\n",
       " 'Financial Services': (2368,\n",
       "  2368,\n",
       "  0.8809295530292653,\n",
       "  0.8809121621621622,\n",
       "  0.8809108029447013,\n",
       "  0.8809121621621622,\n",
       "  array([[1039,  145],\n",
       "         [ 137, 1047]])),\n",
       " 'Food': (102232,\n",
       "  102232,\n",
       "  0.7967172995935619,\n",
       "  0.7967172705219501,\n",
       "  0.7967172655426679,\n",
       "  0.7967172705219501,\n",
       "  array([[40733, 10383],\n",
       "         [10399, 40717]])),\n",
       " 'Health & Medical': (25440,\n",
       "  25440,\n",
       "  0.8868895865036854,\n",
       "  0.88687106918239,\n",
       "  0.8868697155211006,\n",
       "  0.8868710691823899,\n",
       "  array([[11237,  1483],\n",
       "         [ 1395, 11325]])),\n",
       " 'Home Services': (24744,\n",
       "  24744,\n",
       "  0.8838538805138896,\n",
       "  0.8838506304558681,\n",
       "  0.8838503845986498,\n",
       "  0.8838506304558681,\n",
       "  array([[10917,  1455],\n",
       "         [ 1419, 10953]])),\n",
       " 'Hotels & Travel': (17784,\n",
       "  17784,\n",
       "  0.8040379867858467,\n",
       "  0.8040373369320738,\n",
       "  0.8040372322188887,\n",
       "  0.8040373369320738,\n",
       "  array([[7143, 1749],\n",
       "         [1736, 7156]])),\n",
       " 'Local Flavor': (4064,\n",
       "  4064,\n",
       "  0.7742547204832286,\n",
       "  0.7741141732283465,\n",
       "  0.7740852296054616,\n",
       "  0.7741141732283464,\n",
       "  array([[1550,  482],\n",
       "         [ 436, 1596]])),\n",
       " 'Local Services': (18648,\n",
       "  18648,\n",
       "  0.8780315324619121,\n",
       "  0.878003003003003,\n",
       "  0.8780007012280964,\n",
       "  0.878003003003003,\n",
       "  array([[8146, 1178],\n",
       "         [1097, 8227]])),\n",
       " 'Mass Media': (280,\n",
       "  280,\n",
       "  0.8714285714285714,\n",
       "  0.8714285714285714,\n",
       "  0.8714285714285714,\n",
       "  0.8714285714285714,\n",
       "  array([[122,  18],\n",
       "         [ 18, 122]])),\n",
       " 'Nightlife': (65256,\n",
       "  65256,\n",
       "  0.7841411293235687,\n",
       "  0.7840964815495892,\n",
       "  0.7840879998575823,\n",
       "  0.7840964815495893,\n",
       "  array([[25788,  6840],\n",
       "         [ 7249, 25379]])),\n",
       " 'Pets': (7984,\n",
       "  7984,\n",
       "  0.8623423188172907,\n",
       "  0.8622244488977956,\n",
       "  0.8622132433933146,\n",
       "  0.8622244488977956,\n",
       "  array([[3406,  586],\n",
       "         [ 514, 3478]])),\n",
       " 'Professional Services': (5640,\n",
       "  5640,\n",
       "  0.8839058478972488,\n",
       "  0.8838652482269503,\n",
       "  0.8838621777102338,\n",
       "  0.8838652482269503,\n",
       "  array([[2478,  342],\n",
       "         [ 313, 2507]])),\n",
       " 'Public Services & Government': (2320,\n",
       "  2320,\n",
       "  0.7931034482758621,\n",
       "  0.7931034482758621,\n",
       "  0.7931034482758621,\n",
       "  0.7931034482758621,\n",
       "  array([[920, 240],\n",
       "         [240, 920]])),\n",
       " 'Religious Organizations': (344,\n",
       "  344,\n",
       "  0.7827509066874555,\n",
       "  0.7819767441860466,\n",
       "  0.7818274068749737,\n",
       "  0.7819767441860465,\n",
       "  array([[130,  42],\n",
       "         [ 33, 139]])),\n",
       " 'Restaurants': (266832,\n",
       "  266832,\n",
       "  0.799727255989044,\n",
       "  0.7997204233375308,\n",
       "  0.7997192819261942,\n",
       "  0.7997204233375307,\n",
       "  array([[107014,  26402],\n",
       "         [ 27039, 106377]])),\n",
       " 'Shopping': (52776,\n",
       "  52776,\n",
       "  0.8272485070272035,\n",
       "  0.827194179172351,\n",
       "  0.827187006825489,\n",
       "  0.827194179172351,\n",
       "  array([[21658,  4730],\n",
       "         [ 4390, 21998]]))}"
      ]
     },
     "execution_count": 38,
     "metadata": {},
     "output_type": "execute_result"
    }
   ],
   "source": [
    "results_cross_overlap"
   ]
  },
  {
   "cell_type": "code",
   "execution_count": null,
   "metadata": {},
   "outputs": [],
   "source": [
    "print(f\"\"\"{\"Category\":<30}: {\"Prec\":<7} {\"Rec\":<7} {\"F1\":<7} {\"Acc\":<7} -- Confusion (tn, fp, fn, tp)\"\"\")\n",
    "\n",
    "for name, (num_business, num_pairs, prec, rec, f1, acc, cm) in results_cross_no_overlap.items():\n",
    "    print(f\"{name:<30}: {prec * 100:5.2f}%  {rec * 100:5.2f}%  {f1 * 100:5.2f}%  {acc * 100:5.2f}%  -- {cm.flatten().tolist()}\")"
   ]
  },
  {
   "cell_type": "markdown",
   "metadata": {},
   "source": [
    "yelp3 - arts - results_cross_no_overlap\n",
    "\n",
    "```\n",
    "Category                      : Prec    Rec     F1      Acc     -- Confusion (tn, fp, fn, tp)\n",
    "Active Life                   : 66.13%  66.11%  66.10%  66.11%  -- [4555, 2177, 2386, 4346]\n",
    "Automotive                    : 69.38%  69.32%  69.30%  69.32%  -- [7544, 3772, 3171, 8145]\n",
    "Beauty & Spas                 : 71.49%  71.39%  71.36%  71.39%  -- [13438, 6338, 4977, 14799]\n",
    "Bicycles                      : 36.67%  37.50%  36.51%  37.50%  -- [2, 2, 3, 1]\n",
    "Education                     : 67.60%  67.59%  67.58%  67.59%  -- [984, 500, 462, 1022]\n",
    "Event Planning & Services     : 64.92%  64.92%  64.92%  64.92%  -- [8209, 4591, 4390, 8410]\n",
    "Financial Services            : 71.96%  71.86%  71.84%  71.86%  -- [810, 370, 294, 886]\n",
    "Food                          : 64.13%  64.13%  64.12%  64.13%  -- [31446, 18498, 17336, 32608]\n",
    "Health & Medical              : 71.18%  70.96%  70.89%  70.96%  -- [8348, 4320, 3037, 9631]\n",
    "Home Services                 : 71.00%  70.74%  70.64%  70.74%  -- [7993, 4287, 2900, 9380]\n",
    "Hotels & Travel               : 66.15%  66.15%  66.15%  66.15%  -- [5319, 2733, 2719, 5333]\n",
    "Local Flavor                  : 63.48%  63.48%  63.48%  63.48%  -- [933, 543, 535, 941]\n",
    "Local Services                : 69.70%  69.54%  69.48%  69.54%  -- [5951, 3197, 2376, 6772]\n",
    "Mass Media                    : 69.96%  69.85%  69.81%  69.85%  -- [100, 36, 46, 90]\n",
    "Nightlife                     : 63.78%  63.76%  63.75%  63.76%  -- [18605, 9831, 10777, 17659]\n",
    "Pets                          : 68.92%  68.91%  68.90%  68.91%  -- [2673, 1283, 1177, 2779]\n",
    "Professional Services         : 71.54%  71.38%  71.33%  71.38%  -- [1844, 904, 669, 2079]\n",
    "Public Services & Government  : 63.53%  63.51%  63.49%  63.51%  -- [685, 359, 403, 641]\n",
    "Religious Organizations       : 64.04%  63.78%  63.62%  63.78%  -- [89, 67, 46, 110]\n",
    "Restaurants                   : 64.42%  64.41%  64.41%  64.41%  -- [82341, 48231, 44705, 85867]\n",
    "Shopping                      : 66.98%  66.98%  66.98%  66.98%  -- [16869, 8455, 8267, 17057]\n",
    "```"
   ]
  },
  {
   "cell_type": "code",
   "execution_count": 39,
   "metadata": {
    "ExecuteTime": {
     "end_time": "2020-05-25T11:45:44.609488Z",
     "start_time": "2020-05-25T11:45:44.605262Z"
    }
   },
   "outputs": [
    {
     "name": "stdout",
     "output_type": "stream",
     "text": [
      "Category                      : Prec    Rec     F1      Acc     -- Confusion (tn, fp, fn, tp)\n",
      "Active Life                   : 80.22%  80.22%  80.22%  80.22%  -- [6564, 1592, 1635, 6521]\n",
      "Arts & Entertainment          : 76.56%  76.56%  76.56%  76.56%  -- [7011, 2105, 2168, 6948]\n",
      "Automotive                    : 87.12%  87.12%  87.12%  87.12%  -- [9892, 1500, 1434, 9958]\n",
      "Beauty & Spas                 : 88.40%  88.39%  88.39%  88.39%  -- [17584, 2380, 2254, 17710]\n",
      "Bicycles                      : 63.33%  62.50%  61.90%  62.50%  -- [2, 2, 1, 3]\n",
      "Education                     : 83.82%  83.82%  83.82%  83.82%  -- [1469, 283, 284, 1468]\n",
      "Event Planning & Services     : 80.44%  80.44%  80.44%  80.44%  -- [11957, 2867, 2932, 11892]\n",
      "Financial Services            : 88.09%  88.09%  88.09%  88.09%  -- [1039, 145, 137, 1047]\n",
      "Food                          : 79.67%  79.67%  79.67%  79.67%  -- [40733, 10383, 10399, 40717]\n",
      "Health & Medical              : 88.69%  88.69%  88.69%  88.69%  -- [11237, 1483, 1395, 11325]\n",
      "Home Services                 : 88.39%  88.39%  88.39%  88.39%  -- [10917, 1455, 1419, 10953]\n",
      "Hotels & Travel               : 80.40%  80.40%  80.40%  80.40%  -- [7143, 1749, 1736, 7156]\n",
      "Local Flavor                  : 77.43%  77.41%  77.41%  77.41%  -- [1550, 482, 436, 1596]\n",
      "Local Services                : 87.80%  87.80%  87.80%  87.80%  -- [8146, 1178, 1097, 8227]\n",
      "Mass Media                    : 87.14%  87.14%  87.14%  87.14%  -- [122, 18, 18, 122]\n",
      "Nightlife                     : 78.41%  78.41%  78.41%  78.41%  -- [25788, 6840, 7249, 25379]\n",
      "Pets                          : 86.23%  86.22%  86.22%  86.22%  -- [3406, 586, 514, 3478]\n",
      "Professional Services         : 88.39%  88.39%  88.39%  88.39%  -- [2478, 342, 313, 2507]\n",
      "Public Services & Government  : 79.31%  79.31%  79.31%  79.31%  -- [920, 240, 240, 920]\n",
      "Religious Organizations       : 78.28%  78.20%  78.18%  78.20%  -- [130, 42, 33, 139]\n",
      "Restaurants                   : 79.97%  79.97%  79.97%  79.97%  -- [107014, 26402, 27039, 106377]\n",
      "Shopping                      : 82.72%  82.72%  82.72%  82.72%  -- [21658, 4730, 4390, 21998]\n"
     ]
    }
   ],
   "source": [
    "print(f\"\"\"{\"Category\":<30}: {\"Prec\":<7} {\"Rec\":<7} {\"F1\":<7} {\"Acc\":<7} -- Confusion (tn, fp, fn, tp)\"\"\")\n",
    "\n",
    "for name, (num_business, num_pairs, prec, rec, f1, acc, cm) in results_cross_overlap.items():\n",
    "    print(f\"{name:<30}: {prec * 100:5.2f}%  {rec * 100:5.2f}%  {f1 * 100:5.2f}%  {acc * 100:5.2f}%  -- {cm.flatten().tolist()}\")"
   ]
  },
  {
   "cell_type": "markdown",
   "metadata": {},
   "source": [
    "yelp1 - all - check sub-main-categories - results_cross_overlap\n",
    "\n",
    "```\n",
    "Category                      : Prec    Rec     F1      Acc     -- Confusion (tn, fp, fn, tp)\n",
    "Active Life                   : 80.22%  80.22%  80.22%  80.22%  -- [6564, 1592, 1635, 6521]\n",
    "Arts & Entertainment          : 76.56%  76.56%  76.56%  76.56%  -- [7011, 2105, 2168, 6948]\n",
    "Automotive                    : 87.12%  87.12%  87.12%  87.12%  -- [9892, 1500, 1434, 9958]\n",
    "Beauty & Spas                 : 88.40%  88.39%  88.39%  88.39%  -- [17584, 2380, 2254, 17710]\n",
    "Bicycles                      : 63.33%  62.50%  61.90%  62.50%  -- [2, 2, 1, 3]\n",
    "Education                     : 83.82%  83.82%  83.82%  83.82%  -- [1469, 283, 284, 1468]\n",
    "Event Planning & Services     : 80.44%  80.44%  80.44%  80.44%  -- [11957, 2867, 2932, 11892]\n",
    "Financial Services            : 88.09%  88.09%  88.09%  88.09%  -- [1039, 145, 137, 1047]\n",
    "Food                          : 79.67%  79.67%  79.67%  79.67%  -- [40733, 10383, 10399, 40717]\n",
    "Health & Medical              : 88.69%  88.69%  88.69%  88.69%  -- [11237, 1483, 1395, 11325]\n",
    "Home Services                 : 88.39%  88.39%  88.39%  88.39%  -- [10917, 1455, 1419, 10953]\n",
    "Hotels & Travel               : 80.40%  80.40%  80.40%  80.40%  -- [7143, 1749, 1736, 7156]\n",
    "Local Flavor                  : 77.43%  77.41%  77.41%  77.41%  -- [1550, 482, 436, 1596]\n",
    "Local Services                : 87.80%  87.80%  87.80%  87.80%  -- [8146, 1178, 1097, 8227]\n",
    "Mass Media                    : 87.14%  87.14%  87.14%  87.14%  -- [122, 18, 18, 122]\n",
    "Nightlife                     : 78.41%  78.41%  78.41%  78.41%  -- [25788, 6840, 7249, 25379]\n",
    "Pets                          : 86.23%  86.22%  86.22%  86.22%  -- [3406, 586, 514, 3478]\n",
    "Professional Services         : 88.39%  88.39%  88.39%  88.39%  -- [2478, 342, 313, 2507]\n",
    "Public Services & Government  : 79.31%  79.31%  79.31%  79.31%  -- [920, 240, 240, 920]\n",
    "Religious Organizations       : 78.28%  78.20%  78.18%  78.20%  -- [130, 42, 33, 139]\n",
    "Restaurants                   : 79.97%  79.97%  79.97%  79.97%  -- [107014, 26402, 27039, 106377]\n",
    "Shopping                      : 82.72%  82.72%  82.72%  82.72%  -- [21658, 4730, 4390, 21998]\n",
    "```"
   ]
  },
  {
   "cell_type": "markdown",
   "metadata": {},
   "source": [
    "yelp3 - arts - results_cross_overlap\n",
    "\n",
    "```\n",
    "Category                      : Prec    Rec     F1      Acc     -- Confusion (tn, fp, fn, tp)\n",
    "Active Life                   : 65.54%  65.53%  65.53%  65.53%  -- [5403, 2753, 2869, 5287]\n",
    "Automotive                    : 69.30%  69.26%  69.25%  69.26%  -- [7651, 3741, 3262, 8130]\n",
    "Beauty & Spas                 : 71.36%  71.25%  71.22%  71.25%  -- [13534, 6430, 5048, 14916]\n",
    "Bicycles                      : 50.00%  50.00%  46.67%  50.00%  -- [3, 1, 3, 1]\n",
    "Education                     : 67.99%  67.98%  67.98%  67.98%  -- [1175, 577, 545, 1207]\n",
    "Event Planning & Services     : 65.26%  65.26%  65.26%  65.26%  -- [9776, 5048, 5252, 9572]\n",
    "Financial Services            : 72.46%  72.34%  72.30%  72.34%  -- [814, 370, 285, 899]\n",
    "Food                          : 64.18%  64.17%  64.17%  64.17%  -- [32249, 18867, 17758, 33358]\n",
    "Health & Medical              : 71.12%  70.96%  70.90%  70.96%  -- [8464, 4256, 3132, 9588]\n",
    "Home Services                 : 70.69%  70.43%  70.33%  70.43%  -- [8014, 4358, 2959, 9413]\n",
    "Hotels & Travel               : 64.97%  64.97%  64.97%  64.97%  -- [5750, 3142, 3087, 5805]\n",
    "Local Flavor                  : 62.53%  62.52%  62.52%  62.52%  -- [1294, 738, 785, 1247]\n",
    "Local Services                : 69.67%  69.51%  69.45%  69.51%  -- [6056, 3268, 2418, 6906]\n",
    "Mass Media                    : 66.46%  66.43%  66.41%  66.43%  -- [96, 44, 50, 90]\n",
    "Nightlife                     : 63.80%  63.78%  63.76%  63.78%  -- [21473, 11155, 12482, 20146]\n",
    "Pets                          : 69.95%  69.90%  69.88%  69.90%  -- [2694, 1298, 1105, 2887]\n",
    "Professional Services         : 69.65%  69.45%  69.37%  69.45%  -- [1815, 1005, 718, 2102]\n",
    "Public Services & Government  : 64.51%  64.48%  64.47%  64.48%  -- [771, 389, 435, 725]\n",
    "Religious Organizations       : 63.21%  63.08%  62.99%  63.08%  -- [100, 72, 55, 117]\n",
    "Restaurants                   : 64.61%  64.60%  64.59%  64.60%  -- [84261, 49155, 45305, 88111]\n",
    "Shopping                      : 66.42%  66.42%  66.42%  66.42%  -- [17444, 8944, 8780, 17608]\n",
    "```"
   ]
  },
  {
   "cell_type": "code",
   "execution_count": 40,
   "metadata": {
    "ExecuteTime": {
     "end_time": "2020-05-25T14:04:58.784774Z",
     "start_time": "2020-05-25T14:04:58.775930Z"
    }
   },
   "outputs": [],
   "source": [
    "fn_results = fn_run_path / \"results_cross_dicts.p\"\n",
    "\n",
    "with open(fn_results, \"wb\") as fp:\n",
    "    pickle.dump((category_name, \"overlap\", results_cross_overlap), fp, protocol=pickle.HIGHEST_PROTOCOL)\n",
    "    pickle.dump((category_name, \"no overlap\", results_cross_no_overlap), fp, protocol=pickle.HIGHEST_PROTOCOL)"
   ]
  },
  {
   "cell_type": "code",
   "execution_count": null,
   "metadata": {},
   "outputs": [],
   "source": []
  }
 ],
 "metadata": {
  "kernelspec": {
   "display_name": "Python 3",
   "language": "python",
   "name": "python3"
  },
  "language_info": {
   "codemirror_mode": {
    "name": "ipython",
    "version": 3
   },
   "file_extension": ".py",
   "mimetype": "text/x-python",
   "name": "python",
   "nbconvert_exporter": "python",
   "pygments_lexer": "ipython3",
   "version": "3.7.7"
  },
  "varInspector": {
   "cols": {
    "lenName": 16,
    "lenType": 16,
    "lenVar": 40
   },
   "kernels_config": {
    "python": {
     "delete_cmd_postfix": "",
     "delete_cmd_prefix": "del ",
     "library": "var_list.py",
     "varRefreshCmd": "print(var_dic_list())"
    },
    "r": {
     "delete_cmd_postfix": ") ",
     "delete_cmd_prefix": "rm(",
     "library": "var_list.r",
     "varRefreshCmd": "cat(var_dic_list()) "
    }
   },
   "types_to_exclude": [
    "module",
    "function",
    "builtin_function_or_method",
    "instance",
    "_Feature"
   ],
   "window_display": false
  }
 },
 "nbformat": 4,
 "nbformat_minor": 4
}
