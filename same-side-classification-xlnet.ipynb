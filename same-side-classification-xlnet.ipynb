{
 "cells": [
  {
   "cell_type": "markdown",
   "metadata": {},
   "source": [
    "# RATIO 2019 - Benchmarking Workshop"
   ]
  },
  {
   "cell_type": "markdown",
   "metadata": {},
   "source": [
    "https://github.com/zihangdai/xlnet/blob/master/notebooks/colab_imdb_gpu.ipynb"
   ]
  },
  {
   "cell_type": "markdown",
   "metadata": {},
   "source": [
    "### Setup"
   ]
  },
  {
   "cell_type": "code",
   "execution_count": null,
   "metadata": {},
   "outputs": [],
   "source": [
    "! conda env create -f environment.yml\n",
    "! conda activate argmining19-ssc && conda install -y -c conda-forge git-lfs && git lfs install && git lfs pull"
   ]
  },
  {
   "cell_type": "code",
   "execution_count": null,
   "metadata": {},
   "outputs": [],
   "source": [
    "! pip install sentencepiece\n",
    "! pip install absl-py\n",
    "# ! pip install tensorflow-auto-detect\n",
    "! pip install tensorflow-gpu"
   ]
  },
  {
   "cell_type": "code",
   "execution_count": null,
   "metadata": {},
   "outputs": [],
   "source": [
    "import os\n",
    "\n",
    "if not os.path.exists('data/xlnet_cased_L-24_H-1024_A-16'):\n",
    "    ! wget https://storage.googleapis.com/xlnet/released_models/cased_L-24_H-1024_A-16.zip\n",
    "    ! mv cased_L-24_H-1024_A-16.zip data/\n",
    "    ! cd data/ && unzip cased_L-24_H-1024_A-16.zip\n",
    "else:\n",
    "    print('Have XLNet model already!')"
   ]
  },
  {
   "cell_type": "code",
   "execution_count": null,
   "metadata": {},
   "outputs": [],
   "source": [
    "if not os.path.exists('xlnet'):\n",
    "    ! git clone https://github.com/zihangdai/xlnet.git\n",
    "else:\n",
    "    print('Should have repo already!')\n",
    "    ! cd xlnet && git pull"
   ]
  },
  {
   "cell_type": "markdown",
   "metadata": {},
   "source": [
    "### Convert data format\n",
    "\n",
    "https://gist.github.com/W4ngatang/60c2bdb54d156a41194446737ce03e2e"
   ]
  },
  {
   "cell_type": "code",
   "execution_count": null,
   "metadata": {},
   "outputs": [],
   "source": [
    "import csv\n",
    "\n",
    "import pandas as pd"
   ]
  },
  {
   "cell_type": "code",
   "execution_count": null,
   "metadata": {
    "code_folding": [
     3,
     10,
     18,
     25
    ]
   },
   "outputs": [],
   "source": [
    "data_cross_path = 'data/same-side-classification/cross-topic/{}.csv'\n",
    "data_within_path = 'data/same-side-classification/within-topic/{}.csv'\n",
    "\n",
    "cross_traindev_df = pd.read_csv(data_cross_path.format('training'),\n",
    "                                quotechar='\"',\n",
    "                                quoting=csv.QUOTE_ALL,\n",
    "                                encoding='utf-8',\n",
    "                                escapechar='\\\\',\n",
    "                                doublequote=False,\n",
    "                                index_col='id')\n",
    "cross_test_df = pd.read_csv(data_cross_path.format('test'),\n",
    "                            quotechar='\"',\n",
    "                            quoting=csv.QUOTE_ALL,\n",
    "                            encoding='utf-8',\n",
    "                            escapechar='\\\\',\n",
    "                            doublequote=False,\n",
    "                            index_col='id')\n",
    "\n",
    "within_traindev_df = pd.read_csv(data_within_path.format('training'),\n",
    "                                 quotechar='\"',\n",
    "                                 quoting=csv.QUOTE_ALL,\n",
    "                                 encoding='utf-8',\n",
    "                                 escapechar='\\\\',\n",
    "                                 doublequote=False,\n",
    "                                 index_col='id')\n",
    "within_test_df = pd.read_csv(data_within_path.format('test'),\n",
    "                             quotechar='\"',\n",
    "                             quoting=csv.QUOTE_ALL,\n",
    "                             encoding='utf-8',\n",
    "                             escapechar='\\\\',\n",
    "                             doublequote=False,\n",
    "                             index_col='id')"
   ]
  },
  {
   "cell_type": "code",
   "execution_count": null,
   "metadata": {
    "code_folding": [
     1
    ]
   },
   "outputs": [],
   "source": [
    "# Adding a tag for the topics in focus: \"gay marriage\" and \"abortion\"\n",
    "def add_tag(row):\n",
    "    title = row['topic'].lower().strip()\n",
    "    if \"abortion\" in title:\n",
    "        row['tag'] = 'abortion'\n",
    "    elif \"gay marriage\" in title:\n",
    "        row['tag'] = 'gay marriage'\n",
    "    else:\n",
    "        row['tag'] = 'NA'\n",
    "    return row\n",
    "\n",
    "\n",
    "cross_traindev_df = cross_traindev_df.apply(add_tag, axis=1)\n",
    "cross_test_df = cross_test_df.apply(add_tag, axis=1)\n",
    "\n",
    "within_traindev_df = within_traindev_df.apply(add_tag, axis=1)\n",
    "within_test_df = within_test_df.apply(add_tag, axis=1)"
   ]
  },
  {
   "cell_type": "code",
   "execution_count": null,
   "metadata": {
    "code_folding": [
     3
    ]
   },
   "outputs": [],
   "source": [
    "from sklearn.model_selection import train_test_split\n",
    "\n",
    "\n",
    "def get_train_test_sets(df, ratio=0.30, random_state=1):\n",
    "    X = df[['argument1', 'argument2', 'argument1_id', 'argument2_id', 'topic']]\n",
    "    y = df[['is_same_side']]\n",
    "\n",
    "    X_train, X_test, y_train, y_test = train_test_split(\n",
    "        X, y, test_size=ratio, random_state=random_state, shuffle=True)\n",
    "    return X_train, X_test, y_train, y_test"
   ]
  },
  {
   "cell_type": "code",
   "execution_count": null,
   "metadata": {},
   "outputs": [],
   "source": [
    "X_train, X_dev, y_train, y_dev = get_train_test_sets(within_traindev_df)\n",
    "X_test = within_test_df\n",
    "# X_train, X_dev, y_train, y_dev = get_train_test_sets(cross_traindev_df)\n",
    "# X_test = cross_test_df"
   ]
  },
  {
   "cell_type": "code",
   "execution_count": null,
   "metadata": {},
   "outputs": [],
   "source": [
    "import os\n",
    "from tqdm import tqdm\n",
    "\n",
    "DATA_DIR = 'data/xlnet-in'\n",
    "if not os.path.exists(DATA_DIR):\n",
    "    os.mkdir(DATA_DIR)\n",
    "    \n",
    "DATA_DIR = os.path.join(DATA_DIR, 'ssc-within')\n",
    "# DATA_DIR = os.path.join(DATA_DIR, 'ssc-cross')\n",
    "if not os.path.exists(DATA_DIR):\n",
    "    os.mkdir(DATA_DIR)\n",
    "\n",
    "train_df = X_train.join(y_train)\n",
    "dev_df = X_dev.join(y_dev)\n",
    "test_df = X_test\n",
    "\n",
    "with open(os.path.join(DATA_DIR, 'train.tsv'), 'w', encoding='utf-8') as fh:\n",
    "    fh.write(\"label\\t#1 ID\\t#2 ID\\t#1 String\\t#2 String\\n\")\n",
    "    for _, row in tqdm(train_df.iterrows()):\n",
    "        fh.write(\"{}\\t{}\\t{}\\t{}\\t{}\\n\".format(\n",
    "            (1 if row['is_same_side'] else 0), row['argument1_id'],\n",
    "            row['argument2_id'], row['argument1'], row['argument2']))\n",
    "\n",
    "with open(os.path.join(DATA_DIR, 'dev.tsv'), 'w', encoding='utf-8') as fh:\n",
    "    fh.write(\"label\\t#1 ID\\t#2 ID\\t#1 String\\t#2 String\\n\")\n",
    "    for _, row in tqdm(dev_df.iterrows()):\n",
    "        fh.write(\"{}\\t{}\\t{}\\t{}\\t{}\\n\".format(\n",
    "            (1 if row['is_same_side'] else 0), row['argument1_id'],\n",
    "            row['argument2_id'], row['argument1'], row['argument2']))\n",
    "\n",
    "with open(os.path.join(DATA_DIR, 'test.tsv'), 'w', encoding='utf-8') as fh:\n",
    "    fh.write(\"index\\t#1 ID\\t#2 ID\\t#1 String\\t#2 String\\n\")\n",
    "    for id_, row in tqdm(test_df.iterrows()):\n",
    "        fh.write(\"{}\\t{}\\t{}\\t{}\\t{}\\n\".format(id_, row['argument1_id'],\n",
    "                                               row['argument2_id'],\n",
    "                                               row['argument1'],\n",
    "                                               row['argument2']))"
   ]
  },
  {
   "cell_type": "code",
   "execution_count": null,
   "metadata": {},
   "outputs": [],
   "source": [
    "! head -n 2 data/xlnet-in/ssc-within/train.tsv"
   ]
  },
  {
   "cell_type": "markdown",
   "metadata": {},
   "source": [
    "### Variables"
   ]
  },
  {
   "cell_type": "code",
   "execution_count": null,
   "metadata": {},
   "outputs": [],
   "source": [
    "TASK_NAME = 'ssc-within' #@param{type:\"string\"}\n",
    "SCRIPTS_DIR = 'xlnet' #@param {type:\"string\"}\n",
    "DATA_DIR = 'data/xlnet-in/ssc-within' #@param {type:\"string\"}\n",
    "OUTPUT_DIR = 'data/xlnet-out/ssc-within' #@param {type:\"string\"}\n",
    "PRETRAINED_MODEL_DIR = 'data/xlnet_cased_L-24_H-1024_A-16' #@param {type:\"string\"}\n",
    "CHECKPOINT_DIR = 'data/xlnet-chkp/ssc-within' #@param {type:\"string\"}\n",
    "\n",
    "MAX_SEQ_LEN = '128'\n",
    "BATCH_SIZE = '6'"
   ]
  },
  {
   "cell_type": "markdown",
   "metadata": {},
   "source": [
    "### Run model (training & evaluation)\n",
    "\n",
    "*not sure what **train/dev/test** data split is when using XLNet...*"
   ]
  },
  {
   "cell_type": "code",
   "execution_count": null,
   "metadata": {},
   "outputs": [],
   "source": [
    "train_command = \"python3 \" + SCRIPTS_DIR + \"/run_classifier.py \\\n",
    "  --do_train=True \\\n",
    "  --do_eval=True \\\n",
    "  --eval_all_ckpt=True \\\n",
    "  --task_name=\" + TASK_NAME + \" \\\n",
    "  --data_dir=\" + DATA_DIR + \" \\\n",
    "  --output_dir=\" + OUTPUT_DIR + \" \\\n",
    "  --model_dir=\" + CHECKPOINT_DIR + \" \\\n",
    "  --uncased=False \\\n",
    "  --spiece_model_file=\" + PRETRAINED_MODEL_DIR + \"/spiece.model \\\n",
    "  --model_config_path=\" + PRETRAINED_MODEL_DIR + \"/xlnet_config.json \\\n",
    "  --init_checkpoint=\" + PRETRAINED_MODEL_DIR + \"/xlnet_model.ckpt \\\n",
    "  --max_seq_length=\" + MAX_SEQ_LEN + \" \\\n",
    "  --train_batch_size=\" + BATCH_SIZE + \" \\\n",
    "  --eval_batch_size=\" + BATCH_SIZE + \" \\\n",
    "  --num_hosts=1 \\\n",
    "  --num_core_per_host=1 \\\n",
    "  --learning_rate=2e-5 \\\n",
    "  --train_steps=40000 \\\n",
    "  --warmup_steps=500 \\\n",
    "  --save_steps=500 \\\n",
    "  --iterations=1000\"\n",
    "\n",
    "! {train_command}"
   ]
  },
  {
   "cell_type": "code",
   "execution_count": null,
   "metadata": {},
   "outputs": [],
   "source": [
    "help_command = \"python3 \" + SCRIPTS_DIR + \"/run_classifier.py --help\"\n",
    "\n",
    "! {help_command}"
   ]
  },
  {
   "cell_type": "code",
   "execution_count": null,
   "metadata": {},
   "outputs": [],
   "source": []
  }
 ],
 "metadata": {
  "kernelspec": {
   "display_name": "Python 3",
   "language": "python",
   "name": "python3"
  },
  "language_info": {
   "codemirror_mode": {
    "name": "ipython",
    "version": 3
   },
   "file_extension": ".py",
   "mimetype": "text/x-python",
   "name": "python",
   "nbconvert_exporter": "python",
   "pygments_lexer": "ipython3",
   "version": "3.7.3"
  },
  "varInspector": {
   "cols": {
    "lenName": 16,
    "lenType": 16,
    "lenVar": 40
   },
   "kernels_config": {
    "python": {
     "delete_cmd_postfix": "",
     "delete_cmd_prefix": "del ",
     "library": "var_list.py",
     "varRefreshCmd": "print(var_dic_list())"
    },
    "r": {
     "delete_cmd_postfix": ") ",
     "delete_cmd_prefix": "rm(",
     "library": "var_list.r",
     "varRefreshCmd": "cat(var_dic_list()) "
    }
   },
   "types_to_exclude": [
    "module",
    "function",
    "builtin_function_or_method",
    "instance",
    "_Feature"
   ],
   "window_display": false
  }
 },
 "nbformat": 4,
 "nbformat_minor": 2
}
